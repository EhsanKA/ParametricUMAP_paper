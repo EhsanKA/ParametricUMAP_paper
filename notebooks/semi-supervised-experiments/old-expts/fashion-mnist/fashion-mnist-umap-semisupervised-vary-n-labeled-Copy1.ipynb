{
 "cells": [
  {
   "cell_type": "code",
   "execution_count": 1,
   "metadata": {
    "ExecuteTime": {
     "end_time": "2020-07-06T20:36:40.058913Z",
     "start_time": "2020-07-06T20:36:40.047373Z"
    }
   },
   "outputs": [],
   "source": [
    "# reload packages\n",
    "%load_ext autoreload\n",
    "%autoreload 2"
   ]
  },
  {
   "cell_type": "markdown",
   "metadata": {},
   "source": [
    "### Choose GPU (this may not be needed on your computer)"
   ]
  },
  {
   "cell_type": "code",
   "execution_count": 2,
   "metadata": {
    "ExecuteTime": {
     "end_time": "2020-07-06T20:36:40.067934Z",
     "start_time": "2020-07-06T20:36:40.060127Z"
    }
   },
   "outputs": [
    {
     "name": "stdout",
     "output_type": "stream",
     "text": [
      "env: CUDA_DEVICE_ORDER=PCI_BUS_ID\n",
      "env: CUDA_VISIBLE_DEVICES=0\n"
     ]
    }
   ],
   "source": [
    "%env CUDA_DEVICE_ORDER=PCI_BUS_ID\n",
    "%env CUDA_VISIBLE_DEVICES=0"
   ]
  },
  {
   "cell_type": "markdown",
   "metadata": {},
   "source": [
    "### load packages"
   ]
  },
  {
   "cell_type": "code",
   "execution_count": 3,
   "metadata": {
    "ExecuteTime": {
     "end_time": "2020-07-06T20:36:51.653435Z",
     "start_time": "2020-07-06T20:36:40.068951Z"
    }
   },
   "outputs": [
    {
     "name": "stderr",
     "output_type": "stream",
     "text": [
      "/mnt/cube/tsainbur/conda_envs/tpy3/lib/python3.6/site-packages/tqdm/autonotebook/__init__.py:14: TqdmExperimentalWarning: Using `tqdm.autonotebook.tqdm` in notebook mode. Use `tqdm.tqdm` instead to force console mode (e.g. in jupyter console)\n",
      "  \" (e.g. in jupyter console)\", TqdmExperimentalWarning)\n"
     ]
    }
   ],
   "source": [
    "from tfumap.umap import tfUMAP"
   ]
  },
  {
   "cell_type": "code",
   "execution_count": 4,
   "metadata": {
    "ExecuteTime": {
     "end_time": "2020-07-06T20:36:51.893519Z",
     "start_time": "2020-07-06T20:36:51.655909Z"
    }
   },
   "outputs": [],
   "source": [
    "import tensorflow as tf\n",
    "import numpy as np\n",
    "import matplotlib.pyplot as plt\n",
    "from tqdm.autonotebook import tqdm\n",
    "import umap\n",
    "import pandas as pd"
   ]
  },
  {
   "cell_type": "markdown",
   "metadata": {},
   "source": [
    "### Load dataset"
   ]
  },
  {
   "cell_type": "code",
   "execution_count": 5,
   "metadata": {
    "ExecuteTime": {
     "end_time": "2020-07-06T20:36:51.941493Z",
     "start_time": "2020-07-06T20:36:51.895525Z"
    }
   },
   "outputs": [],
   "source": [
    "from tensorflow.keras.datasets import fashion_mnist"
   ]
  },
  {
   "cell_type": "code",
   "execution_count": 6,
   "metadata": {
    "ExecuteTime": {
     "end_time": "2020-07-06T20:36:52.462293Z",
     "start_time": "2020-07-06T20:36:51.943821Z"
    }
   },
   "outputs": [
    {
     "name": "stdout",
     "output_type": "stream",
     "text": [
      "50000 10000\n"
     ]
    }
   ],
   "source": [
    "# load dataset\n",
    "(train_images, Y_train), (test_images, Y_test) = fashion_mnist.load_data()\n",
    "X_train = (train_images/255.).astype('float32')\n",
    "X_test = (test_images/255.).astype('float32')\n",
    "X_train = X_train.reshape((len(X_train), np.product(np.shape(X_train)[1:])))\n",
    "X_test = X_test.reshape((len(X_test), np.product(np.shape(X_test)[1:])))\n",
    "\n",
    "n_valid = 10000\n",
    "X_valid = X_train[-n_valid:]\n",
    "Y_valid = Y_train[-n_valid:]\n",
    "X_train = X_train[:-n_valid]\n",
    "Y_train = Y_train[:-n_valid]\n",
    "\n",
    "print(len(X_train), len(X_valid))"
   ]
  },
  {
   "cell_type": "code",
   "execution_count": 7,
   "metadata": {
    "ExecuteTime": {
     "end_time": "2020-07-06T20:36:52.507815Z",
     "start_time": "2020-07-06T20:36:52.463626Z"
    }
   },
   "outputs": [
    {
     "data": {
      "text/plain": [
       "[4977, 5012, 4992, 4979, 4950, 5004, 5030, 5045, 5032, 4979]"
      ]
     },
     "execution_count": 7,
     "metadata": {},
     "output_type": "execute_result"
    }
   ],
   "source": [
    "[np.sum(Y_train == i) for i in np.unique(Y_train)]"
   ]
  },
  {
   "cell_type": "markdown",
   "metadata": {},
   "source": [
    "### define network"
   ]
  },
  {
   "cell_type": "code",
   "execution_count": 8,
   "metadata": {
    "ExecuteTime": {
     "end_time": "2020-07-06T20:36:52.544016Z",
     "start_time": "2020-07-06T20:36:52.508921Z"
    }
   },
   "outputs": [],
   "source": [
    "dims = (28,28,1)\n",
    "n_components = 2"
   ]
  },
  {
   "cell_type": "code",
   "execution_count": 9,
   "metadata": {
    "ExecuteTime": {
     "end_time": "2020-07-06T20:36:53.829324Z",
     "start_time": "2020-07-06T20:36:52.545095Z"
    }
   },
   "outputs": [],
   "source": [
    "encoder = tf.keras.Sequential()\n",
    "encoder.add(tf.keras.layers.InputLayer(input_shape=dims))\n",
    "encoder.add(tf.keras.layers.Conv2D(\n",
    "    filters=32, kernel_size=3, strides=1, padding=\"same\", activation=\"relu\"\n",
    "))\n",
    "encoder.add(tf.keras.layers.Conv2D(\n",
    "    filters=64, kernel_size=3, strides=1, padding=\"same\", activation=\"relu\"\n",
    "))\n",
    "encoder.add(tf.keras.layers.MaxPooling2D(pool_size=(2, 2)))\n",
    "encoder.add(tf.keras.layers.Dropout(0.25))\n",
    "encoder.add(tf.keras.layers.Flatten())\n",
    "encoder.add(tf.keras.layers.Dense(units=128, activation=\"relu\"))\n",
    "encoder.add(tf.keras.layers.Dropout(0.25))\n",
    "encoder.add(tf.keras.layers.Dense(units=128, activation=\"relu\"))\n",
    "encoder.add(tf.keras.layers.Dense(n_components, activation=None, name='z'))"
   ]
  },
  {
   "cell_type": "markdown",
   "metadata": {},
   "source": [
    "### Save initial weights"
   ]
  },
  {
   "cell_type": "code",
   "execution_count": 10,
   "metadata": {
    "ExecuteTime": {
     "end_time": "2020-07-06T20:36:53.867000Z",
     "start_time": "2020-07-06T20:36:53.830308Z"
    }
   },
   "outputs": [],
   "source": [
    "from tfumap.paths import MODEL_DIR, ensure_dir"
   ]
  },
  {
   "cell_type": "code",
   "execution_count": 11,
   "metadata": {
    "ExecuteTime": {
     "end_time": "2020-07-06T20:36:53.904891Z",
     "start_time": "2020-07-06T20:36:53.867988Z"
    }
   },
   "outputs": [
    {
     "name": "stdout",
     "output_type": "stream",
     "text": [
      "Object `embedder` not found.\n"
     ]
    }
   ],
   "source": [
    "??embedder"
   ]
  },
  {
   "cell_type": "code",
   "execution_count": 12,
   "metadata": {
    "ExecuteTime": {
     "end_time": "2020-07-06T20:36:53.941908Z",
     "start_time": "2020-07-06T20:36:53.905854Z"
    }
   },
   "outputs": [],
   "source": [
    "embedder = tfUMAP(\n",
    "    training_epochs=5,\n",
    "    max_sample_repeats_per_epoch=10,\n",
    "    train_classifier=True,\n",
    "    valid_X = X_valid,\n",
    "    valid_Y = Y_valid,\n",
    "    verbose=True,\n",
    "    dims=dims,\n",
    "    n_components=n_components,\n",
    "    encoder=encoder,\n",
    "    target_weight=1.0,\n",
    "    umap_loss_weight = 1.0,\n",
    "    optimizer = tf.keras.optimizers.RMSprop(1e-3),\n",
    ")"
   ]
  },
  {
   "cell_type": "code",
   "execution_count": 13,
   "metadata": {
    "ExecuteTime": {
     "end_time": "2020-07-06T20:36:53.983808Z",
     "start_time": "2020-07-06T20:36:53.942829Z"
    }
   },
   "outputs": [],
   "source": [
    "initial_weights = embedder.encoder.get_weights()\n",
    "# embedder.encoder.set_weights(initial_weights)"
   ]
  },
  {
   "cell_type": "markdown",
   "metadata": {},
   "source": [
    "### train"
   ]
  },
  {
   "cell_type": "code",
   "execution_count": 14,
   "metadata": {
    "ExecuteTime": {
     "end_time": "2020-07-06T20:36:54.022928Z",
     "start_time": "2020-07-06T20:36:53.984878Z"
    }
   },
   "outputs": [],
   "source": [
    "import pickle\n",
    "import os"
   ]
  },
  {
   "cell_type": "code",
   "execution_count": 15,
   "metadata": {
    "ExecuteTime": {
     "end_time": "2020-07-06T20:36:54.173336Z",
     "start_time": "2020-07-06T20:36:54.023884Z"
    }
   },
   "outputs": [],
   "source": [
    "from tfumap.umap import retrieve_tensors\n",
    "import seaborn as sns"
   ]
  },
  {
   "cell_type": "code",
   "execution_count": 16,
   "metadata": {
    "ExecuteTime": {
     "end_time": "2020-07-06T20:36:54.220359Z",
     "start_time": "2020-07-06T20:36:54.175503Z"
    }
   },
   "outputs": [
    {
     "data": {
      "text/plain": [
       "array([   1,    2,    5,   12,   27,   64,  147,  337,  776, 1782, 4096])"
      ]
     },
     "execution_count": 16,
     "metadata": {},
     "output_type": "execute_result"
    }
   ],
   "source": [
    "training_exemplars_per_class = np.logspace(0,12,base=2, num=11).astype('int')\n",
    "training_exemplars_per_class"
   ]
  },
  {
   "cell_type": "code",
   "execution_count": null,
   "metadata": {
    "ExecuteTime": {
     "start_time": "2020-07-06T21:17:02.689Z"
    },
    "scrolled": false
   },
   "outputs": [
    {
     "data": {
      "application/vnd.jupyter.widget-view+json": {
       "model_id": "c26637dcd0234d86bdeee9203447d0ab",
       "version_major": 2,
       "version_minor": 0
      },
      "text/plain": [
       "HBox(children=(IntProgress(value=0, max=11), HTML(value='')))"
      ]
     },
     "metadata": {},
     "output_type": "display_data"
    },
    {
     "name": "stdout",
     "output_type": "stream",
     "text": [
      "tfUMAP(dims=(28, 28, 1),\n",
      "       encoder=<tensorflow.python.keras.engine.sequential.Sequential object at 0x7f60505aff98>,\n",
      "       max_sample_repeats_per_epoch=10, negative_sample_rate=5,\n",
      "       optimizer=<tensorflow.python.keras.optimizer_v2.adam.Adam object at 0x7f5e9456d320>,\n",
      "       tensorboard_logdir='/tmp/tensorboard/20200706-141702',\n",
      "       train_classifier=True, training_epochs=5, umap_loss_weight=0.0,\n",
      "       valid_X=array([[0., 0., 0., ..., 0., 0., 0.],\n",
      "       [0., 0., 0., ..., 0., 0., 0.],\n",
      "       [0., 0., 0., ..., 0., 0., 0.],\n",
      "       ...,\n",
      "       [0., 0., 0., ..., 0., 0., 0.],\n",
      "       [0., 0., 0., ..., 0., 0., 0.],\n",
      "       [0., 0., 0., ..., 0., 0., 0.]], dtype=float32),\n",
      "       valid_Y=array([9, 2, 1, ..., 3, 0, 5], dtype=uint8))\n",
      "Construct fuzzy simplicial set\n",
      "Mon Jul  6 14:17:02 2020 Finding Nearest Neighbors\n",
      "Mon Jul  6 14:17:03 2020 Building RP forest with 16 trees\n",
      "Mon Jul  6 14:17:03 2020 parallel NN descent for 16 iterations\n",
      "\t 0  /  16\n",
      "\t 1  /  16\n",
      "\t 2  /  16\n",
      "\t 3  /  16\n",
      "Mon Jul  6 14:17:05 2020 Finished Nearest Neighbor Search\n",
      "Mon Jul  6 14:17:07 2020 Embedding with TensorFlow\n"
     ]
    },
    {
     "data": {
      "application/vnd.jupyter.widget-view+json": {
       "model_id": "293b2f8b01014e01a0f483340eacad6f",
       "version_major": 2,
       "version_minor": 0
      },
      "text/plain": [
       "HBox(children=(IntProgress(value=0, description='epoch', max=5, style=ProgressStyle(description_width='initial…"
      ]
     },
     "metadata": {},
     "output_type": "display_data"
    },
    {
     "data": {
      "application/vnd.jupyter.widget-view+json": {
       "model_id": "",
       "version_major": 2,
       "version_minor": 0
      },
      "text/plain": [
       "HBox(children=(IntProgress(value=0, description='batch', max=4534, style=ProgressStyle(description_width='init…"
      ]
     },
     "metadata": {},
     "output_type": "display_data"
    },
    {
     "data": {
      "application/vnd.jupyter.widget-view+json": {
       "model_id": "",
       "version_major": 2,
       "version_minor": 0
      },
      "text/plain": [
       "HBox(children=(IntProgress(value=0, description='batch', max=4534, style=ProgressStyle(description_width='init…"
      ]
     },
     "metadata": {},
     "output_type": "display_data"
    },
    {
     "data": {
      "application/vnd.jupyter.widget-view+json": {
       "model_id": "",
       "version_major": 2,
       "version_minor": 0
      },
      "text/plain": [
       "HBox(children=(IntProgress(value=0, description='batch', max=4534, style=ProgressStyle(description_width='init…"
      ]
     },
     "metadata": {},
     "output_type": "display_data"
    },
    {
     "data": {
      "application/vnd.jupyter.widget-view+json": {
       "model_id": "",
       "version_major": 2,
       "version_minor": 0
      },
      "text/plain": [
       "HBox(children=(IntProgress(value=0, description='batch', max=4534, style=ProgressStyle(description_width='init…"
      ]
     },
     "metadata": {},
     "output_type": "display_data"
    },
    {
     "data": {
      "application/vnd.jupyter.widget-view+json": {
       "model_id": "",
       "version_major": 2,
       "version_minor": 0
      },
      "text/plain": [
       "HBox(children=(IntProgress(value=0, description='batch', max=4534, style=ProgressStyle(description_width='init…"
      ]
     },
     "metadata": {},
     "output_type": "display_data"
    },
    {
     "name": "stdout",
     "output_type": "stream",
     "text": [
      "Mon Jul  6 14:40:09 2020 Finished embedding\n",
      "Pickle of model saved\n"
     ]
    },
    {
     "name": "stderr",
     "output_type": "stream",
     "text": [
      "I0706 14:40:19.850427 140054644991808 builder_impl.py:775] Assets written to: /mnt/cube/tsainbur/Projects/github_repos/umap_tf_networks/models/semisupervised/fmnist/joint-loss/1/encoder/assets\n"
     ]
    },
    {
     "name": "stdout",
     "output_type": "stream",
     "text": [
      "Encoder Keras model saved\n"
     ]
    },
    {
     "name": "stderr",
     "output_type": "stream",
     "text": [
      "I0706 14:40:20.175714 140054644991808 builder_impl.py:775] Assets written to: /mnt/cube/tsainbur/Projects/github_repos/umap_tf_networks/models/semisupervised/fmnist/joint-loss/1/classifier/assets\n"
     ]
    },
    {
     "name": "stdout",
     "output_type": "stream",
     "text": [
      "Classifier Keras model saved\n",
      "['umap_loss', 'classif_loss', 'classif_acc']\n",
      "['classif_loss', 'classif_acc']\n"
     ]
    },
    {
     "data": {
      "image/png": "[encoded data removed]",
      "text/plain": [
       "<Figure size 1440x360 with 3 Axes>"
      ]
     },
     "metadata": {
      "needs_background": "light"
     },
     "output_type": "display_data"
    },
    {
     "name": "stdout",
     "output_type": "stream",
     "text": [
      "tf.Tensor(0.1, shape=(), dtype=float32)\n",
      "tfUMAP(dims=(28, 28, 1),\n",
      "       encoder=<tensorflow.python.keras.engine.sequential.Sequential object at 0x7f60505aff98>,\n",
      "       max_sample_repeats_per_epoch=10, negative_sample_rate=5,\n",
      "       optimizer=<tensorflow.python.keras.optimizer_v2.adam.Adam object at 0x7f5edc186ba8>,\n",
      "       tensorboard_logdir='/tmp/tensorboard/20200706-144023',\n",
      "       train_classifier=True, training_epochs=5, umap_loss_weight=0.0,\n",
      "       valid_X=array([[0., 0., 0., ..., 0., 0., 0.],\n",
      "       [0., 0., 0., ..., 0., 0., 0.],\n",
      "       [0., 0., 0., ..., 0., 0., 0.],\n",
      "       ...,\n",
      "       [0., 0., 0., ..., 0., 0., 0.],\n",
      "       [0., 0., 0., ..., 0., 0., 0.],\n",
      "       [0., 0., 0., ..., 0., 0., 0.]], dtype=float32),\n",
      "       valid_Y=array([9, 2, 1, ..., 3, 0, 5], dtype=uint8))\n",
      "Construct fuzzy simplicial set\n",
      "Mon Jul  6 14:40:24 2020 Finding Nearest Neighbors\n",
      "Mon Jul  6 14:40:24 2020 Building RP forest with 16 trees\n",
      "Mon Jul  6 14:40:24 2020 parallel NN descent for 16 iterations\n",
      "\t 0  /  16\n",
      "\t 1  /  16\n",
      "\t 2  /  16\n",
      "\t 3  /  16\n",
      "Mon Jul  6 14:40:26 2020 Finished Nearest Neighbor Search\n",
      "Mon Jul  6 14:40:28 2020 Embedding with TensorFlow\n"
     ]
    },
    {
     "data": {
      "application/vnd.jupyter.widget-view+json": {
       "model_id": "b2449b65724f489e9af8352d04f9c36d",
       "version_major": 2,
       "version_minor": 0
      },
      "text/plain": [
       "HBox(children=(IntProgress(value=0, description='epoch', max=5, style=ProgressStyle(description_width='initial…"
      ]
     },
     "metadata": {},
     "output_type": "display_data"
    },
    {
     "data": {
      "application/vnd.jupyter.widget-view+json": {
       "model_id": "",
       "version_major": 2,
       "version_minor": 0
      },
      "text/plain": [
       "HBox(children=(IntProgress(value=0, description='batch', max=4534, style=ProgressStyle(description_width='init…"
      ]
     },
     "metadata": {},
     "output_type": "display_data"
    },
    {
     "data": {
      "application/vnd.jupyter.widget-view+json": {
       "model_id": "",
       "version_major": 2,
       "version_minor": 0
      },
      "text/plain": [
       "HBox(children=(IntProgress(value=0, description='batch', max=4534, style=ProgressStyle(description_width='init…"
      ]
     },
     "metadata": {},
     "output_type": "display_data"
    },
    {
     "data": {
      "application/vnd.jupyter.widget-view+json": {
       "model_id": "",
       "version_major": 2,
       "version_minor": 0
      },
      "text/plain": [
       "HBox(children=(IntProgress(value=0, description='batch', max=4534, style=ProgressStyle(description_width='init…"
      ]
     },
     "metadata": {},
     "output_type": "display_data"
    },
    {
     "data": {
      "application/vnd.jupyter.widget-view+json": {
       "model_id": "",
       "version_major": 2,
       "version_minor": 0
      },
      "text/plain": [
       "HBox(children=(IntProgress(value=0, description='batch', max=4534, style=ProgressStyle(description_width='init…"
      ]
     },
     "metadata": {},
     "output_type": "display_data"
    },
    {
     "data": {
      "application/vnd.jupyter.widget-view+json": {
       "model_id": "",
       "version_major": 2,
       "version_minor": 0
      },
      "text/plain": [
       "HBox(children=(IntProgress(value=0, description='batch', max=4534, style=ProgressStyle(description_width='init…"
      ]
     },
     "metadata": {},
     "output_type": "display_data"
    },
    {
     "name": "stdout",
     "output_type": "stream",
     "text": [
      "Mon Jul  6 15:03:28 2020 Finished embedding\n",
      "Pickle of model saved\n"
     ]
    },
    {
     "name": "stderr",
     "output_type": "stream",
     "text": [
      "I0706 15:03:38.699993 140054644991808 builder_impl.py:775] Assets written to: /mnt/cube/tsainbur/Projects/github_repos/umap_tf_networks/models/semisupervised/fmnist/joint-loss/2/encoder/assets\n"
     ]
    },
    {
     "name": "stdout",
     "output_type": "stream",
     "text": [
      "Encoder Keras model saved\n"
     ]
    },
    {
     "name": "stderr",
     "output_type": "stream",
     "text": [
      "I0706 15:03:39.101446 140054644991808 builder_impl.py:775] Assets written to: /mnt/cube/tsainbur/Projects/github_repos/umap_tf_networks/models/semisupervised/fmnist/joint-loss/2/classifier/assets\n"
     ]
    },
    {
     "name": "stdout",
     "output_type": "stream",
     "text": [
      "Classifier Keras model saved\n",
      "['umap_loss', 'classif_loss', 'classif_acc']\n",
      "['classif_loss', 'classif_acc']\n"
     ]
    },
    {
     "data": {
      "image/png": "[encoded data removed]",
      "text/plain": [
       "<Figure size 1440x360 with 3 Axes>"
      ]
     },
     "metadata": {
      "needs_background": "light"
     },
     "output_type": "display_data"
    },
    {
     "name": "stdout",
     "output_type": "stream",
     "text": [
      "tf.Tensor(0.1653, shape=(), dtype=float32)\n",
      "tfUMAP(dims=(28, 28, 1),\n",
      "       encoder=<tensorflow.python.keras.engine.sequential.Sequential object at 0x7f60505aff98>,\n",
      "       max_sample_repeats_per_epoch=10, negative_sample_rate=5,\n",
      "       optimizer=<tensorflow.python.keras.optimizer_v2.adam.Adam object at 0x7f5ea87daa20>,\n",
      "       tensorboard_logdir='/tmp/tensorboard/20200706-150342',\n",
      "       train_classifier=True, training_epochs=5, umap_loss_weight=0.0,\n",
      "       valid_X=array([[0., 0., 0., ..., 0., 0., 0.],\n",
      "       [0., 0., 0., ..., 0., 0., 0.],\n",
      "       [0., 0., 0., ..., 0., 0., 0.],\n",
      "       ...,\n",
      "       [0., 0., 0., ..., 0., 0., 0.],\n",
      "       [0., 0., 0., ..., 0., 0., 0.],\n",
      "       [0., 0., 0., ..., 0., 0., 0.]], dtype=float32),\n",
      "       valid_Y=array([9, 2, 1, ..., 3, 0, 5], dtype=uint8))\n",
      "Construct fuzzy simplicial set\n",
      "Mon Jul  6 15:03:43 2020 Finding Nearest Neighbors\n",
      "Mon Jul  6 15:03:43 2020 Building RP forest with 16 trees\n",
      "Mon Jul  6 15:03:43 2020 parallel NN descent for 16 iterations\n",
      "\t 0  /  16\n",
      "\t 1  /  16\n",
      "\t 2  /  16\n",
      "\t 3  /  16\n",
      "Mon Jul  6 15:03:45 2020 Finished Nearest Neighbor Search\n",
      "Mon Jul  6 15:03:47 2020 Embedding with TensorFlow\n"
     ]
    },
    {
     "data": {
      "application/vnd.jupyter.widget-view+json": {
       "model_id": "1427da1ab7864dab895e00ba241e0610",
       "version_major": 2,
       "version_minor": 0
      },
      "text/plain": [
       "HBox(children=(IntProgress(value=0, description='epoch', max=5, style=ProgressStyle(description_width='initial…"
      ]
     },
     "metadata": {},
     "output_type": "display_data"
    },
    {
     "data": {
      "application/vnd.jupyter.widget-view+json": {
       "model_id": "",
       "version_major": 2,
       "version_minor": 0
      },
      "text/plain": [
       "HBox(children=(IntProgress(value=0, description='batch', max=4534, style=ProgressStyle(description_width='init…"
      ]
     },
     "metadata": {},
     "output_type": "display_data"
    },
    {
     "data": {
      "application/vnd.jupyter.widget-view+json": {
       "model_id": "",
       "version_major": 2,
       "version_minor": 0
      },
      "text/plain": [
       "HBox(children=(IntProgress(value=0, description='batch', max=4534, style=ProgressStyle(description_width='init…"
      ]
     },
     "metadata": {},
     "output_type": "display_data"
    },
    {
     "data": {
      "application/vnd.jupyter.widget-view+json": {
       "model_id": "",
       "version_major": 2,
       "version_minor": 0
      },
      "text/plain": [
       "HBox(children=(IntProgress(value=0, description='batch', max=4534, style=ProgressStyle(description_width='init…"
      ]
     },
     "metadata": {},
     "output_type": "display_data"
    },
    {
     "data": {
      "application/vnd.jupyter.widget-view+json": {
       "model_id": "",
       "version_major": 2,
       "version_minor": 0
      },
      "text/plain": [
       "HBox(children=(IntProgress(value=0, description='batch', max=4534, style=ProgressStyle(description_width='init…"
      ]
     },
     "metadata": {},
     "output_type": "display_data"
    },
    {
     "data": {
      "application/vnd.jupyter.widget-view+json": {
       "model_id": "",
       "version_major": 2,
       "version_minor": 0
      },
      "text/plain": [
       "HBox(children=(IntProgress(value=0, description='batch', max=4534, style=ProgressStyle(description_width='init…"
      ]
     },
     "metadata": {},
     "output_type": "display_data"
    },
    {
     "name": "stdout",
     "output_type": "stream",
     "text": [
      "Mon Jul  6 15:26:55 2020 Finished embedding\n",
      "Pickle of model saved\n"
     ]
    },
    {
     "name": "stderr",
     "output_type": "stream",
     "text": [
      "I0706 15:27:07.174731 140054644991808 builder_impl.py:775] Assets written to: /mnt/cube/tsainbur/Projects/github_repos/umap_tf_networks/models/semisupervised/fmnist/joint-loss/5/encoder/assets\n"
     ]
    },
    {
     "name": "stdout",
     "output_type": "stream",
     "text": [
      "Encoder Keras model saved\n"
     ]
    },
    {
     "name": "stderr",
     "output_type": "stream",
     "text": [
      "I0706 15:27:07.514959 140054644991808 builder_impl.py:775] Assets written to: /mnt/cube/tsainbur/Projects/github_repos/umap_tf_networks/models/semisupervised/fmnist/joint-loss/5/classifier/assets\n"
     ]
    },
    {
     "name": "stdout",
     "output_type": "stream",
     "text": [
      "Classifier Keras model saved\n",
      "['umap_loss', 'classif_loss', 'classif_acc']\n",
      "['classif_loss', 'classif_acc']\n"
     ]
    },
    {
     "data": {
      "image/png": "[encoded data removed]",
      "text/plain": [
       "<Figure size 1440x360 with 3 Axes>"
      ]
     },
     "metadata": {
      "needs_background": "light"
     },
     "output_type": "display_data"
    },
    {
     "name": "stdout",
     "output_type": "stream",
     "text": [
      "tf.Tensor(0.446, shape=(), dtype=float32)\n",
      "tfUMAP(dims=(28, 28, 1),\n",
      "       encoder=<tensorflow.python.keras.engine.sequential.Sequential object at 0x7f60505aff98>,\n",
      "       max_sample_repeats_per_epoch=10, negative_sample_rate=5,\n",
      "       optimizer=<tensorflow.python.keras.optimizer_v2.adam.Adam object at 0x7f5f78720208>,\n",
      "       tensorboard_logdir='/tmp/tensorboard/20200706-152711',\n",
      "       train_classifier=True, training_epochs=5, umap_loss_weight=0.0,\n",
      "       valid_X=array([[0., 0., 0., ..., 0., 0., 0.],\n",
      "       [0., 0., 0., ..., 0., 0., 0.],\n",
      "       [0., 0., 0., ..., 0., 0., 0.],\n",
      "       ...,\n",
      "       [0., 0., 0., ..., 0., 0., 0.],\n",
      "       [0., 0., 0., ..., 0., 0., 0.],\n",
      "       [0., 0., 0., ..., 0., 0., 0.]], dtype=float32),\n",
      "       valid_Y=array([9, 2, 1, ..., 3, 0, 5], dtype=uint8))\n",
      "Construct fuzzy simplicial set\n",
      "Mon Jul  6 15:27:11 2020 Finding Nearest Neighbors\n",
      "Mon Jul  6 15:27:11 2020 Building RP forest with 16 trees\n",
      "Mon Jul  6 15:27:12 2020 parallel NN descent for 16 iterations\n",
      "\t 0  /  16\n",
      "\t 1  /  16\n",
      "\t 2  /  16\n",
      "\t 3  /  16\n",
      "Mon Jul  6 15:27:13 2020 Finished Nearest Neighbor Search\n",
      "Mon Jul  6 15:27:15 2020 Embedding with TensorFlow\n"
     ]
    },
    {
     "data": {
      "application/vnd.jupyter.widget-view+json": {
       "model_id": "d8d7f6fadd0b4fa3ba38bd6b53e34152",
       "version_major": 2,
       "version_minor": 0
      },
      "text/plain": [
       "HBox(children=(IntProgress(value=0, description='epoch', max=5, style=ProgressStyle(description_width='initial…"
      ]
     },
     "metadata": {},
     "output_type": "display_data"
    },
    {
     "data": {
      "application/vnd.jupyter.widget-view+json": {
       "model_id": "9b4085ddf2d14dce92886611204727f3",
       "version_major": 2,
       "version_minor": 0
      },
      "text/plain": [
       "HBox(children=(IntProgress(value=0, description='batch', max=4534, style=ProgressStyle(description_width='init…"
      ]
     },
     "metadata": {},
     "output_type": "display_data"
    }
   ],
   "source": [
    "for n_training in tqdm(training_exemplars_per_class):\n",
    "    # mask labels\n",
    "    label_mask = np.concatenate([np.where(Y_train == i)[0][:n_training] for i in np.unique(Y_train)])\n",
    "    Y_train_masked = np.ones(len(Y_train))*-1\n",
    "    Y_train_masked[label_mask] = Y_train[label_mask]\n",
    "    \n",
    "    tf.keras.backend.clear_session()\n",
    "    # re-initialize network\n",
    "    embedder = tfUMAP(\n",
    "        training_epochs=5,\n",
    "        max_sample_repeats_per_epoch=10,\n",
    "        train_classifier=True,\n",
    "        valid_X = X_valid,\n",
    "        valid_Y = Y_valid,\n",
    "        verbose=True,\n",
    "        dims=dims,\n",
    "        n_components=n_components,\n",
    "        encoder=encoder,\n",
    "        target_weight=1.0,\n",
    "        umap_loss_weight = 0.0\n",
    "    )\n",
    "    embedder.encoder.set_weights(initial_weights)\n",
    "    \n",
    "    # train\n",
    "    z = embedder.fit_transform(X_train, y=Y_train_masked)\n",
    "    \n",
    "    # save network output\n",
    "    output_dir = MODEL_DIR / 'semisupervised' / 'fmnist' / 'joint-loss' / str(n_training)\n",
    "    ensure_dir(output_dir)\n",
    "    embedder.save(output_dir)\n",
    "    \n",
    "    \n",
    "    # plot losses\n",
    "    loss_df = retrieve_tensors(embedder.tensorboard_logdir)\n",
    "    fig, axs = plt.subplots(ncols=3, figsize=(20,5))\n",
    "    ax = axs[0]\n",
    "    sns.lineplot(x=\"step\", y=\"val\", hue=\"group\", data=loss_df[loss_df.variable=='umap_loss'], ax = ax, ci=None)\n",
    "    ax.set_xscale('log')\n",
    "    ax.set_title('UMAP loss')\n",
    "\n",
    "    ax = axs[1]\n",
    "    sns.lineplot(x=\"step\", y=\"val\", hue=\"group\", data=loss_df[loss_df.variable=='classif_loss'], ax = ax, ci=None)\n",
    "    ax.set_xscale('log')\n",
    "    ax.set_title('Classifier Loss')\n",
    "\n",
    "    ax = axs[2]\n",
    "    sns.lineplot(x=\"step\", y=\"val\", hue=\"group\", data=loss_df[loss_df.variable=='classif_acc'], ax = ax, ci=None)\n",
    "    ax.set_xscale('log')\n",
    "    ax.set_title('Classifier Accuracy')\n",
    "    plt.show()\n",
    "    \n",
    "    #compute loss on test data\n",
    "    X = X_test\n",
    "    Y = Y_test\n",
    "    # get output of last layer\n",
    "    n_batches = np.ceil(len(X) / embedder.batch_size).astype(int)\n",
    "    if len(embedder.dims) > 1:\n",
    "        X = np.reshape(X, [len(X)] + list(embedder.dims))\n",
    "\n",
    "    predictions = []\n",
    "    for batch in np.arange(n_batches):\n",
    "        predictions.append(\n",
    "            embedder.classifier(embedder.encoder_base(\n",
    "                X[(batch * embedder.batch_size) : ((batch + 1) * embedder.batch_size)]\n",
    "            )).numpy()\n",
    "        )\n",
    "    predictions = np.vstack(predictions)\n",
    "    np.shape(predictions)\n",
    "    acc = tf.reduce_mean(tf.keras.metrics.sparse_categorical_accuracy(tf.Variable(Y), predictions))\n",
    "    top_1 = np.argmax(predictions, axis=1)\n",
    "\n",
    "    print(acc)"
   ]
  },
  {
   "cell_type": "code",
   "execution_count": null,
   "metadata": {
    "ExecuteTime": {
     "end_time": "2020-07-06T21:16:21.349826Z",
     "start_time": "2020-07-06T20:36:40.055Z"
    }
   },
   "outputs": [],
   "source": [
    "# 4534"
   ]
  },
  {
   "cell_type": "code",
   "execution_count": 18,
   "metadata": {
    "ExecuteTime": {
     "end_time": "2020-07-06T21:16:46.661933Z",
     "start_time": "2020-07-06T21:16:45.798430Z"
    }
   },
   "outputs": [
    {
     "data": {
      "text/plain": [
       "<matplotlib.axes._subplots.AxesSubplot at 0x7f5e8c53e550>"
      ]
     },
     "execution_count": 18,
     "metadata": {},
     "output_type": "execute_result"
    },
    {
     "data": {
      "image/png": "[encoded data removed]",
      "text/plain": [
       "<Figure size 432x288 with 1 Axes>"
      ]
     },
     "metadata": {
      "needs_background": "light"
     },
     "output_type": "display_data"
    }
   ],
   "source": [
    "sns.lineplot(x=\"step\", y=\"val\", hue=\"group\", data=loss_df[loss_df.variable=='classif_loss'], ci=None)"
   ]
  },
  {
   "cell_type": "code",
   "execution_count": null,
   "metadata": {},
   "outputs": [],
   "source": []
  }
 ],
 "metadata": {
  "kernelspec": {
   "display_name": "Python 3",
   "language": "python",
   "name": "python3"
  },
  "language_info": {
   "codemirror_mode": {
    "name": "ipython",
    "version": 3
   },
   "file_extension": ".py",
   "mimetype": "text/x-python",
   "name": "python",
   "nbconvert_exporter": "python",
   "pygments_lexer": "ipython3",
   "version": "3.6.7"
  }
 },
 "nbformat": 4,
 "nbformat_minor": 2
}
