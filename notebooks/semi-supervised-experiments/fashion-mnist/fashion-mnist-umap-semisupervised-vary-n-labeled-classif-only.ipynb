{
 "cells": [
  {
   "cell_type": "code",
   "execution_count": 1,
   "metadata": {
    "ExecuteTime": {
     "end_time": "2020-07-06T22:28:07.230550Z",
     "start_time": "2020-07-06T22:28:07.218797Z"
    }
   },
   "outputs": [],
   "source": [
    "# reload packages\n",
    "%load_ext autoreload\n",
    "%autoreload 2"
   ]
  },
  {
   "cell_type": "markdown",
   "metadata": {},
   "source": [
    "### Choose GPU (this may not be needed on your computer)"
   ]
  },
  {
   "cell_type": "code",
   "execution_count": 2,
   "metadata": {
    "ExecuteTime": {
     "end_time": "2020-07-06T22:28:07.239955Z",
     "start_time": "2020-07-06T22:28:07.231763Z"
    }
   },
   "outputs": [
    {
     "name": "stdout",
     "output_type": "stream",
     "text": [
      "env: CUDA_DEVICE_ORDER=PCI_BUS_ID\n",
      "env: CUDA_VISIBLE_DEVICES=1\n"
     ]
    }
   ],
   "source": [
    "%env CUDA_DEVICE_ORDER=PCI_BUS_ID\n",
    "%env CUDA_VISIBLE_DEVICES=1"
   ]
  },
  {
   "cell_type": "markdown",
   "metadata": {},
   "source": [
    "### load packages"
   ]
  },
  {
   "cell_type": "code",
   "execution_count": 3,
   "metadata": {
    "ExecuteTime": {
     "end_time": "2020-07-06T22:28:21.099696Z",
     "start_time": "2020-07-06T22:28:07.240994Z"
    }
   },
   "outputs": [
    {
     "name": "stderr",
     "output_type": "stream",
     "text": [
      "/mnt/cube/tsainbur/conda_envs/tpy3/lib/python3.6/site-packages/tqdm/autonotebook/__init__.py:14: TqdmExperimentalWarning: Using `tqdm.autonotebook.tqdm` in notebook mode. Use `tqdm.tqdm` instead to force console mode (e.g. in jupyter console)\n",
      "  \" (e.g. in jupyter console)\", TqdmExperimentalWarning)\n"
     ]
    }
   ],
   "source": [
    "from tfumap.umap import tfUMAP"
   ]
  },
  {
   "cell_type": "code",
   "execution_count": 4,
   "metadata": {
    "ExecuteTime": {
     "end_time": "2020-07-06T22:28:21.437709Z",
     "start_time": "2020-07-06T22:28:21.101429Z"
    }
   },
   "outputs": [],
   "source": [
    "import tensorflow as tf\n",
    "import numpy as np\n",
    "import matplotlib.pyplot as plt\n",
    "from tqdm.autonotebook import tqdm\n",
    "import umap\n",
    "import pandas as pd"
   ]
  },
  {
   "cell_type": "markdown",
   "metadata": {},
   "source": [
    "### Load dataset"
   ]
  },
  {
   "cell_type": "code",
   "execution_count": 5,
   "metadata": {
    "ExecuteTime": {
     "end_time": "2020-07-06T22:28:21.486171Z",
     "start_time": "2020-07-06T22:28:21.438711Z"
    }
   },
   "outputs": [],
   "source": [
    "from tensorflow.keras.datasets import fashion_mnist"
   ]
  },
  {
   "cell_type": "code",
   "execution_count": 6,
   "metadata": {
    "ExecuteTime": {
     "end_time": "2020-07-06T22:28:21.997945Z",
     "start_time": "2020-07-06T22:28:21.487396Z"
    }
   },
   "outputs": [
    {
     "name": "stdout",
     "output_type": "stream",
     "text": [
      "50000 10000\n"
     ]
    }
   ],
   "source": [
    "# load dataset\n",
    "(train_images, Y_train), (test_images, Y_test) = fashion_mnist.load_data()\n",
    "X_train = (train_images/255.).astype('float32')\n",
    "X_test = (test_images/255.).astype('float32')\n",
    "X_train = X_train.reshape((len(X_train), np.product(np.shape(X_train)[1:])))\n",
    "X_test = X_test.reshape((len(X_test), np.product(np.shape(X_test)[1:])))\n",
    "\n",
    "n_valid = 10000\n",
    "X_valid = X_train[-n_valid:]\n",
    "Y_valid = Y_train[-n_valid:]\n",
    "X_train = X_train[:-n_valid]\n",
    "Y_train = Y_train[:-n_valid]\n",
    "\n",
    "print(len(X_train), len(X_valid))"
   ]
  },
  {
   "cell_type": "code",
   "execution_count": 7,
   "metadata": {
    "ExecuteTime": {
     "end_time": "2020-07-06T22:28:22.043378Z",
     "start_time": "2020-07-06T22:28:21.999605Z"
    }
   },
   "outputs": [
    {
     "data": {
      "text/plain": [
       "[4977, 5012, 4992, 4979, 4950, 5004, 5030, 5045, 5032, 4979]"
      ]
     },
     "execution_count": 7,
     "metadata": {},
     "output_type": "execute_result"
    }
   ],
   "source": [
    "[np.sum(Y_train == i) for i in np.unique(Y_train)]"
   ]
  },
  {
   "cell_type": "markdown",
   "metadata": {},
   "source": [
    "### define network"
   ]
  },
  {
   "cell_type": "code",
   "execution_count": 8,
   "metadata": {
    "ExecuteTime": {
     "end_time": "2020-07-06T22:28:22.077753Z",
     "start_time": "2020-07-06T22:28:22.044388Z"
    }
   },
   "outputs": [],
   "source": [
    "dims = (28,28,1)\n",
    "n_components = 2"
   ]
  },
  {
   "cell_type": "code",
   "execution_count": 9,
   "metadata": {
    "ExecuteTime": {
     "end_time": "2020-07-06T22:28:24.905205Z",
     "start_time": "2020-07-06T22:28:22.078652Z"
    }
   },
   "outputs": [],
   "source": [
    "encoder = tf.keras.Sequential()\n",
    "encoder.add(tf.keras.layers.InputLayer(input_shape=dims))\n",
    "encoder.add(tf.keras.layers.Conv2D(\n",
    "    filters=32, kernel_size=3, strides=1, padding=\"same\", activation=\"relu\"\n",
    "))\n",
    "encoder.add(tf.keras.layers.Conv2D(\n",
    "    filters=64, kernel_size=3, strides=1, padding=\"same\", activation=\"relu\"\n",
    "))\n",
    "encoder.add(tf.keras.layers.MaxPooling2D(pool_size=(2, 2)))\n",
    "encoder.add(tf.keras.layers.Dropout(0.25))\n",
    "encoder.add(tf.keras.layers.Flatten())\n",
    "encoder.add(tf.keras.layers.Dense(units=128, activation=\"relu\"))\n",
    "encoder.add(tf.keras.layers.Dropout(0.25))\n",
    "encoder.add(tf.keras.layers.Dense(units=128, activation=\"relu\"))\n",
    "encoder.add(tf.keras.layers.Dense(n_components, activation=None, name='z'))"
   ]
  },
  {
   "cell_type": "markdown",
   "metadata": {},
   "source": [
    "### Save initial weights"
   ]
  },
  {
   "cell_type": "code",
   "execution_count": 10,
   "metadata": {
    "ExecuteTime": {
     "end_time": "2020-07-06T22:28:24.946169Z",
     "start_time": "2020-07-06T22:28:24.906483Z"
    }
   },
   "outputs": [],
   "source": [
    "from tfumap.paths import MODEL_DIR, ensure_dir"
   ]
  },
  {
   "cell_type": "code",
   "execution_count": 11,
   "metadata": {
    "ExecuteTime": {
     "end_time": "2020-07-06T22:28:24.985431Z",
     "start_time": "2020-07-06T22:28:24.947295Z"
    }
   },
   "outputs": [],
   "source": [
    "embedder = tfUMAP(\n",
    "    training_epochs=5,\n",
    "    max_sample_repeats_per_epoch=5,\n",
    "    train_classifier=True,\n",
    "    valid_X = X_valid,\n",
    "    valid_Y = Y_valid,\n",
    "    verbose=True,\n",
    "    dims=dims,\n",
    "    n_components=n_components,\n",
    "    encoder=encoder,\n",
    "    target_weight=1.0,\n",
    "    umap_loss_weight = 0.0,\n",
    "    optimizer = tf.keras.optimizers.RMSprop(1e-3),\n",
    ")"
   ]
  },
  {
   "cell_type": "code",
   "execution_count": 12,
   "metadata": {
    "ExecuteTime": {
     "end_time": "2020-07-06T22:28:25.030577Z",
     "start_time": "2020-07-06T22:28:24.987013Z"
    }
   },
   "outputs": [],
   "source": [
    "initial_weights = embedder.encoder.get_weights()\n",
    "# embedder.encoder.set_weights(initial_weights)"
   ]
  },
  {
   "cell_type": "markdown",
   "metadata": {},
   "source": [
    "### train"
   ]
  },
  {
   "cell_type": "code",
   "execution_count": 13,
   "metadata": {
    "ExecuteTime": {
     "end_time": "2020-07-06T22:28:25.068463Z",
     "start_time": "2020-07-06T22:28:25.031535Z"
    }
   },
   "outputs": [],
   "source": [
    "import pickle\n",
    "import os"
   ]
  },
  {
   "cell_type": "code",
   "execution_count": 14,
   "metadata": {
    "ExecuteTime": {
     "end_time": "2020-07-06T22:28:25.398873Z",
     "start_time": "2020-07-06T22:28:25.069291Z"
    }
   },
   "outputs": [],
   "source": [
    "from tfumap.umap import retrieve_tensors\n",
    "import seaborn as sns"
   ]
  },
  {
   "cell_type": "code",
   "execution_count": 15,
   "metadata": {
    "ExecuteTime": {
     "end_time": "2020-07-06T22:28:25.444096Z",
     "start_time": "2020-07-06T22:28:25.400729Z"
    }
   },
   "outputs": [
    {
     "data": {
      "text/plain": [
       "array([   1,    2,    5,   12,   27,   64,  147,  337,  776, 1782, 4096])"
      ]
     },
     "execution_count": 15,
     "metadata": {},
     "output_type": "execute_result"
    }
   ],
   "source": [
    "training_exemplars_per_class = np.logspace(0,12,base=2, num=11).astype('int')\n",
    "training_exemplars_per_class"
   ]
  },
  {
   "cell_type": "code",
   "execution_count": null,
   "metadata": {
    "ExecuteTime": {
     "start_time": "2020-07-06T22:28:06.386Z"
    },
    "scrolled": false
   },
   "outputs": [
    {
     "data": {
      "application/vnd.jupyter.widget-view+json": {
       "model_id": "700da7a33c9040c0be279d53ce5ba4eb",
       "version_major": 2,
       "version_minor": 0
      },
      "text/plain": [
       "HBox(children=(IntProgress(value=0, max=11), HTML(value='')))"
      ]
     },
     "metadata": {},
     "output_type": "display_data"
    },
    {
     "name": "stdout",
     "output_type": "stream",
     "text": [
      "tfUMAP(dims=(28, 28, 1),\n",
      "       encoder=<tensorflow.python.keras.engine.sequential.Sequential object at 0x7f19cf770ef0>,\n",
      "       max_sample_repeats_per_epoch=10, negative_sample_rate=5,\n",
      "       optimizer=<tensorflow.python.keras.optimizer_v2.adam.Adam object at 0x7f19bc192898>,\n",
      "       tensorboard_logdir='/tmp/tensorboard/20200706-152825',\n",
      "       train_classifier=True, training_epochs=5, umap_loss_weight=0.0,\n",
      "       valid_X=array([[0., 0., 0., ..., 0., 0., 0.],\n",
      "       [0., 0., 0., ..., 0., 0., 0.],\n",
      "       [0., 0., 0., ..., 0., 0., 0.],\n",
      "       ...,\n",
      "       [0., 0., 0., ..., 0., 0., 0.],\n",
      "       [0., 0., 0., ..., 0., 0., 0.],\n",
      "       [0., 0., 0., ..., 0., 0., 0.]], dtype=float32),\n",
      "       valid_Y=array([9, 2, 1, ..., 3, 0, 5], dtype=uint8))\n",
      "Construct fuzzy simplicial set\n",
      "Mon Jul  6 15:28:25 2020 Finding Nearest Neighbors\n",
      "Mon Jul  6 15:28:25 2020 Building RP forest with 16 trees\n",
      "Mon Jul  6 15:28:27 2020 parallel NN descent for 16 iterations\n",
      "\t 0  /  16\n",
      "\t 1  /  16\n",
      "\t 2  /  16\n",
      "\t 3  /  16\n",
      "Mon Jul  6 15:28:37 2020 Finished Nearest Neighbor Search\n",
      "Mon Jul  6 15:28:42 2020 Embedding with TensorFlow\n"
     ]
    },
    {
     "data": {
      "application/vnd.jupyter.widget-view+json": {
       "model_id": "de9a195ca4b44b4993cb52d7d3f5a7a6",
       "version_major": 2,
       "version_minor": 0
      },
      "text/plain": [
       "HBox(children=(IntProgress(value=0, description='epoch', max=5, style=ProgressStyle(description_width='initial…"
      ]
     },
     "metadata": {},
     "output_type": "display_data"
    },
    {
     "data": {
      "application/vnd.jupyter.widget-view+json": {
       "model_id": "",
       "version_major": 2,
       "version_minor": 0
      },
      "text/plain": [
       "HBox(children=(IntProgress(value=0, description='batch', max=4534, style=ProgressStyle(description_width='init…"
      ]
     },
     "metadata": {},
     "output_type": "display_data"
    },
    {
     "data": {
      "application/vnd.jupyter.widget-view+json": {
       "model_id": "",
       "version_major": 2,
       "version_minor": 0
      },
      "text/plain": [
       "HBox(children=(IntProgress(value=0, description='batch', max=4534, style=ProgressStyle(description_width='init…"
      ]
     },
     "metadata": {},
     "output_type": "display_data"
    },
    {
     "data": {
      "application/vnd.jupyter.widget-view+json": {
       "model_id": "",
       "version_major": 2,
       "version_minor": 0
      },
      "text/plain": [
       "HBox(children=(IntProgress(value=0, description='batch', max=4534, style=ProgressStyle(description_width='init…"
      ]
     },
     "metadata": {},
     "output_type": "display_data"
    },
    {
     "data": {
      "application/vnd.jupyter.widget-view+json": {
       "model_id": "",
       "version_major": 2,
       "version_minor": 0
      },
      "text/plain": [
       "HBox(children=(IntProgress(value=0, description='batch', max=4534, style=ProgressStyle(description_width='init…"
      ]
     },
     "metadata": {},
     "output_type": "display_data"
    },
    {
     "data": {
      "application/vnd.jupyter.widget-view+json": {
       "model_id": "",
       "version_major": 2,
       "version_minor": 0
      },
      "text/plain": [
       "HBox(children=(IntProgress(value=0, description='batch', max=4534, style=ProgressStyle(description_width='init…"
      ]
     },
     "metadata": {},
     "output_type": "display_data"
    },
    {
     "name": "stdout",
     "output_type": "stream",
     "text": [
      "Mon Jul  6 15:52:07 2020 Finished embedding\n",
      "Pickle of model saved\n"
     ]
    },
    {
     "name": "stderr",
     "output_type": "stream",
     "text": [
      "WARNING: Logging before flag parsing goes to stderr.\n",
      "W0706 15:52:20.569201 139751832422208 deprecation.py:506] From /mnt/cube/tsainbur/conda_envs/tpy3/lib/python3.6/site-packages/tensorflow_core/python/ops/resource_variable_ops.py:1786: calling BaseResourceVariable.__init__ (from tensorflow.python.ops.resource_variable_ops) with constraint is deprecated and will be removed in a future version.\n",
      "Instructions for updating:\n",
      "If using Keras pass *_constraint arguments to layers.\n",
      "I0706 15:52:20.688863 139751832422208 builder_impl.py:775] Assets written to: /mnt/cube/tsainbur/Projects/github_repos/umap_tf_networks/models/semisupervised/fmnist/joint-loss/1/encoder/assets\n"
     ]
    },
    {
     "name": "stdout",
     "output_type": "stream",
     "text": [
      "Encoder Keras model saved\n"
     ]
    },
    {
     "name": "stderr",
     "output_type": "stream",
     "text": [
      "I0706 15:52:21.089114 139751832422208 builder_impl.py:775] Assets written to: /mnt/cube/tsainbur/Projects/github_repos/umap_tf_networks/models/semisupervised/fmnist/joint-loss/1/classifier/assets\n"
     ]
    },
    {
     "name": "stdout",
     "output_type": "stream",
     "text": [
      "Classifier Keras model saved\n",
      "['umap_loss', 'classif_loss', 'classif_acc']\n",
      "['classif_loss', 'classif_acc']\n"
     ]
    },
    {
     "data": {
      "image/png": "[encoded data removed]",
      "text/plain": [
       "<Figure size 1440x360 with 3 Axes>"
      ]
     },
     "metadata": {
      "needs_background": "light"
     },
     "output_type": "display_data"
    },
    {
     "name": "stdout",
     "output_type": "stream",
     "text": [
      "tf.Tensor(0.1159, shape=(), dtype=float32)\n",
      "tfUMAP(dims=(28, 28, 1),\n",
      "       encoder=<tensorflow.python.keras.engine.sequential.Sequential object at 0x7f19cf770ef0>,\n",
      "       max_sample_repeats_per_epoch=10, negative_sample_rate=5,\n",
      "       optimizer=<tensorflow.python.keras.optimizer_v2.adam.Adam object at 0x7f1968752ba8>,\n",
      "       tensorboard_logdir='/tmp/tensorboard/20200706-155225',\n",
      "       train_classifier=True, training_epochs=5, umap_loss_weight=0.0,\n",
      "       valid_X=array([[0., 0., 0., ..., 0., 0., 0.],\n",
      "       [0., 0., 0., ..., 0., 0., 0.],\n",
      "       [0., 0., 0., ..., 0., 0., 0.],\n",
      "       ...,\n",
      "       [0., 0., 0., ..., 0., 0., 0.],\n",
      "       [0., 0., 0., ..., 0., 0., 0.],\n",
      "       [0., 0., 0., ..., 0., 0., 0.]], dtype=float32),\n",
      "       valid_Y=array([9, 2, 1, ..., 3, 0, 5], dtype=uint8))\n",
      "Construct fuzzy simplicial set\n",
      "Mon Jul  6 15:52:25 2020 Finding Nearest Neighbors\n",
      "Mon Jul  6 15:52:25 2020 Building RP forest with 16 trees\n",
      "Mon Jul  6 15:52:27 2020 parallel NN descent for 16 iterations\n",
      "\t 0  /  16\n",
      "\t 1  /  16\n",
      "\t 2  /  16\n",
      "\t 3  /  16\n",
      "Mon Jul  6 15:52:29 2020 Finished Nearest Neighbor Search\n",
      "Mon Jul  6 15:52:31 2020 Embedding with TensorFlow\n"
     ]
    },
    {
     "data": {
      "application/vnd.jupyter.widget-view+json": {
       "model_id": "63e6468bf29d4b959c01b4bfe2cb39fc",
       "version_major": 2,
       "version_minor": 0
      },
      "text/plain": [
       "HBox(children=(IntProgress(value=0, description='epoch', max=5, style=ProgressStyle(description_width='initial…"
      ]
     },
     "metadata": {},
     "output_type": "display_data"
    },
    {
     "data": {
      "application/vnd.jupyter.widget-view+json": {
       "model_id": "e5ccac955a3444479633ad21f44aab3b",
       "version_major": 2,
       "version_minor": 0
      },
      "text/plain": [
       "HBox(children=(IntProgress(value=0, description='batch', max=4534, style=ProgressStyle(description_width='init…"
      ]
     },
     "metadata": {},
     "output_type": "display_data"
    }
   ],
   "source": [
    "for n_training in tqdm(training_exemplars_per_class):\n",
    "    # mask labels\n",
    "    label_mask = np.concatenate([np.where(Y_train == i)[0][:n_training] for i in np.unique(Y_train)])\n",
    "    Y_train_masked = np.ones(len(Y_train))*-1\n",
    "    Y_train_masked[label_mask] = Y_train[label_mask]\n",
    "\n",
    "    tf.keras.backend.clear_session()\n",
    "    # re-initialize network\n",
    "    embedder = tfUMAP(\n",
    "        training_epochs=5,\n",
    "        max_sample_repeats_per_epoch=10,\n",
    "        train_classifier=True,\n",
    "        valid_X = X_valid,\n",
    "        valid_Y = Y_valid,\n",
    "        verbose=True,\n",
    "        dims=dims,\n",
    "        n_components=n_components,\n",
    "        encoder=encoder,\n",
    "        target_weight=1.0,\n",
    "        umap_loss_weight = 0.0\n",
    "    )\n",
    "    embedder.encoder.set_weights(initial_weights)\n",
    "    \n",
    "    # train\n",
    "    z = embedder.fit_transform(X_train, y=Y_train_masked)\n",
    "    \n",
    "    # save network output\n",
    "    output_dir = MODEL_DIR / 'semisupervised' / 'fmnist' / 'joint-loss' / str(n_training)\n",
    "    ensure_dir(output_dir)\n",
    "    embedder.save(output_dir)\n",
    "    \n",
    "    \n",
    "    # plot losses\n",
    "    loss_df = retrieve_tensors(embedder.tensorboard_logdir)\n",
    "    fig, axs = plt.subplots(ncols=3, figsize=(20,5))\n",
    "    ax = axs[0]\n",
    "    sns.lineplot(x=\"step\", y=\"val\", hue=\"group\", data=loss_df[loss_df.variable=='umap_loss'], ax = ax, ci=None)\n",
    "    ax.set_xscale('log')\n",
    "    ax.set_title('UMAP loss')\n",
    "\n",
    "    ax = axs[1]\n",
    "    sns.lineplot(x=\"step\", y=\"val\", hue=\"group\", data=loss_df[loss_df.variable=='classif_loss'], ax = ax, ci=None)\n",
    "    ax.set_xscale('log')\n",
    "    ax.set_title('Classifier Loss')\n",
    "\n",
    "    ax = axs[2]\n",
    "    sns.lineplot(x=\"step\", y=\"val\", hue=\"group\", data=loss_df[loss_df.variable=='classif_acc'], ax = ax, ci=None)\n",
    "    ax.set_xscale('log')\n",
    "    ax.set_title('Classifier Accuracy')\n",
    "    plt.show()\n",
    "    \n",
    "    #compute loss on test data\n",
    "    X = X_test\n",
    "    Y = Y_test\n",
    "    # get output of last layer\n",
    "    n_batches = np.ceil(len(X) / embedder.batch_size).astype(int)\n",
    "    if len(embedder.dims) > 1:\n",
    "        X = np.reshape(X, [len(X)] + list(embedder.dims))\n",
    "\n",
    "    predictions = []\n",
    "    for batch in np.arange(n_batches):\n",
    "        predictions.append(\n",
    "            embedder.classifier(embedder.encoder_base(\n",
    "                X[(batch * embedder.batch_size) : ((batch + 1) * embedder.batch_size)]\n",
    "            )).numpy()\n",
    "        )\n",
    "    predictions = np.vstack(predictions)\n",
    "    np.shape(predictions)\n",
    "    acc = tf.reduce_mean(tf.keras.metrics.sparse_categorical_accuracy(tf.Variable(Y), predictions))\n",
    "    top_1 = np.argmax(predictions, axis=1)\n",
    "\n",
    "    print(acc)"
   ]
  },
  {
   "cell_type": "code",
   "execution_count": null,
   "metadata": {
    "ExecuteTime": {
     "start_time": "2020-07-06T22:28:06.389Z"
    }
   },
   "outputs": [],
   "source": [
    "loss_df[loss_df.variable=='classif_loss']"
   ]
  },
  {
   "cell_type": "code",
   "execution_count": null,
   "metadata": {
    "ExecuteTime": {
     "start_time": "2020-07-06T22:28:06.391Z"
    }
   },
   "outputs": [],
   "source": [
    "sns.lineplot(x=\"step\", y=\"val\", hue=\"group\", data=loss_df[loss_df.variable=='classif_loss'], ci=None)"
   ]
  },
  {
   "cell_type": "code",
   "execution_count": null,
   "metadata": {
    "ExecuteTime": {
     "start_time": "2020-07-06T22:28:06.392Z"
    }
   },
   "outputs": [],
   "source": [
    "embedder.tensorboard_logdir"
   ]
  }
 ],
 "metadata": {
  "kernelspec": {
   "display_name": "Python 3",
   "language": "python",
   "name": "python3"
  },
  "language_info": {
   "codemirror_mode": {
    "name": "ipython",
    "version": 3
   },
   "file_extension": ".py",
   "mimetype": "text/x-python",
   "name": "python",
   "nbconvert_exporter": "python",
   "pygments_lexer": "ipython3",
   "version": "3.6.7"
  }
 },
 "nbformat": 4,
 "nbformat_minor": 2
}
