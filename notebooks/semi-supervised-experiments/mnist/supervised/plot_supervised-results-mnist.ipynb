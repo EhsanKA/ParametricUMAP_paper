{
 "cells": [
  {
   "cell_type": "code",
   "execution_count": 1,
   "metadata": {
    "ExecuteTime": {
     "end_time": "2020-07-31T16:57:27.056899Z",
     "start_time": "2020-07-31T16:57:26.060586Z"
    }
   },
   "outputs": [],
   "source": [
    "import numpy as np\n",
    "import matplotlib.pyplot as plt\n",
    "from datetime import datetime\n",
    "import pandas as pd"
   ]
  },
  {
   "cell_type": "code",
   "execution_count": 2,
   "metadata": {
    "ExecuteTime": {
     "end_time": "2020-07-31T16:57:27.062124Z",
     "start_time": "2020-07-31T16:57:27.058899Z"
    }
   },
   "outputs": [],
   "source": [
    "nex = [1,4,16,64,256,1024]\n",
    "acc = [46,70,80,91, 96, 97]"
   ]
  },
  {
   "cell_type": "code",
   "execution_count": 3,
   "metadata": {
    "ExecuteTime": {
     "end_time": "2020-07-31T16:57:27.074519Z",
     "start_time": "2020-07-31T16:57:27.063715Z"
    }
   },
   "outputs": [
    {
     "data": {
      "text/plain": [
       "\"from  brokenaxes import brokenaxes\\nfig = plt.figure(figsize=(5,3))\\nax = brokenaxes(xlims = ((0.9, 2000), (9000, 11000)), xscale='log', hspace=.05)\\nax.scatter(nex, acc)\\nax.plot(nex, acc)\\nax.set_xscale('log')\\n\""
      ]
     },
     "execution_count": 3,
     "metadata": {},
     "output_type": "execute_result"
    }
   ],
   "source": [
    "\"\"\"from  brokenaxes import brokenaxes\n",
    "fig = plt.figure(figsize=(5,3))\n",
    "ax = brokenaxes(xlims = ((0.9, 2000), (9000, 11000)), xscale='log', hspace=.05)\n",
    "ax.scatter(nex, acc)\n",
    "ax.plot(nex, acc)\n",
    "ax.set_xscale('log')\n",
    "\"\"\""
   ]
  },
  {
   "cell_type": "code",
   "execution_count": 4,
   "metadata": {
    "ExecuteTime": {
     "end_time": "2020-07-31T16:57:27.346203Z",
     "start_time": "2020-07-31T16:57:27.076830Z"
    }
   },
   "outputs": [
    {
     "data": {
      "image/png": "[encoded data removed]",
      "text/plain": [
       "<Figure size 432x288 with 1 Axes>"
      ]
     },
     "metadata": {
      "needs_background": "light"
     },
     "output_type": "display_data"
    }
   ],
   "source": [
    "fig, ax = plt.subplots()\n",
    "ax.scatter(nex, acc)\n",
    "ax.plot(nex, acc, linewidth = 5, alpha = 0.5)\n",
    "ax.set_xscale('log')\n",
    "ax.set_xticks(nex)\n",
    "ax.set_xticklabels([str(i) for i in nex]);"
   ]
  },
  {
   "cell_type": "markdown",
   "metadata": {},
   "source": [
    "### load results\n",
    "- for each "
   ]
  },
  {
   "cell_type": "code",
   "execution_count": 5,
   "metadata": {
    "ExecuteTime": {
     "end_time": "2020-07-31T16:57:27.350417Z",
     "start_time": "2020-07-31T16:57:27.348265Z"
    }
   },
   "outputs": [],
   "source": [
    "# find the most recent"
   ]
  },
  {
   "cell_type": "code",
   "execution_count": 6,
   "metadata": {
    "ExecuteTime": {
     "end_time": "2020-07-31T16:57:27.446009Z",
     "start_time": "2020-07-31T16:57:27.351593Z"
    }
   },
   "outputs": [],
   "source": [
    "from pathlib2 import Path\n",
    "from tfumap.paths import MODEL_DIR"
   ]
  },
  {
   "cell_type": "code",
   "execution_count": 7,
   "metadata": {
    "ExecuteTime": {
     "end_time": "2020-07-31T16:57:27.550975Z",
     "start_time": "2020-07-31T16:57:27.448022Z"
    }
   },
   "outputs": [
    {
     "name": "stdout",
     "output_type": "stream",
     "text": [
      "/mnt/cube/tsainbur/Projects/github_repos/umap_tf_networks/models/semisupervised/mnist/2020_07_30_13_00_05_872760\n",
      "/mnt/cube/tsainbur/Projects/github_repos/umap_tf_networks/models/semisupervised/mnist/2020_07_30_13_59_27_874003\n",
      "/mnt/cube/tsainbur/Projects/github_repos/umap_tf_networks/models/semisupervised/mnist/2020_07_30_13_25_15_652507\n",
      "/mnt/cube/tsainbur/Projects/github_repos/umap_tf_networks/models/semisupervised/mnist/2020_07_30_16_38_56_522236\n",
      "/mnt/cube/tsainbur/Projects/github_repos/umap_tf_networks/models/semisupervised/mnist/2020_07_30_16_26_25_547594\n",
      "/mnt/cube/tsainbur/Projects/github_repos/umap_tf_networks/models/semisupervised/mnist/2020_07_30_16_17_46_952221\n",
      "/mnt/cube/tsainbur/Projects/github_repos/umap_tf_networks/models/semisupervised/mnist/2020_07_30_14_05_05_847217\n",
      "/mnt/cube/tsainbur/Projects/github_repos/umap_tf_networks/models/semisupervised/mnist/2020_07_30_13_00_47_727933\n",
      "/mnt/cube/tsainbur/Projects/github_repos/umap_tf_networks/models/semisupervised/mnist/2020_07_30_13_48_07_134052\n",
      "/mnt/cube/tsainbur/Projects/github_repos/umap_tf_networks/models/semisupervised/mnist/2020_07_30_13_32_12_415529\n",
      "/mnt/cube/tsainbur/Projects/github_repos/umap_tf_networks/models/semisupervised/mnist/2020_07_30_13_45_01_150788\n",
      "/mnt/cube/tsainbur/Projects/github_repos/umap_tf_networks/models/semisupervised/mnist/2020_07_30_13_37_30_821877\n",
      "/mnt/cube/tsainbur/Projects/github_repos/umap_tf_networks/models/semisupervised/mnist/2020_07_30_13_52_36_271545\n",
      "/mnt/cube/tsainbur/Projects/github_repos/umap_tf_networks/models/semisupervised/mnist/2020_07_30_13_46_17_636584\n",
      "/mnt/cube/tsainbur/Projects/github_repos/umap_tf_networks/models/semisupervised/mnist/2020_07_30_13_48_29_723320\n"
     ]
    },
    {
     "data": {
      "text/html": [
       "<div>\n",
       "<style scoped>\n",
       "    .dataframe tbody tr th:only-of-type {\n",
       "        vertical-align: middle;\n",
       "    }\n",
       "\n",
       "    .dataframe tbody tr th {\n",
       "        vertical-align: top;\n",
       "    }\n",
       "\n",
       "    .dataframe thead th {\n",
       "        text-align: right;\n",
       "    }\n",
       "</style>\n",
       "<table border=\"1\" class=\"dataframe\">\n",
       "  <thead>\n",
       "    <tr style=\"text-align: right;\">\n",
       "      <th></th>\n",
       "      <th>dataset</th>\n",
       "      <th>labels_per_class</th>\n",
       "      <th>projection_dims</th>\n",
       "      <th>umap_prop</th>\n",
       "      <th>timestamp</th>\n",
       "      <th>location</th>\n",
       "    </tr>\n",
       "  </thead>\n",
       "  <tbody>\n",
       "    <tr>\n",
       "      <th>0</th>\n",
       "      <td>mnist</td>\n",
       "      <td>256</td>\n",
       "      <td>1024</td>\n",
       "      <td>1.0</td>\n",
       "      <td>2020-07-30 22:43:45.814193</td>\n",
       "      <td>/mnt/cube/tsainbur/Projects/github_repos/umap_...</td>\n",
       "    </tr>\n",
       "    <tr>\n",
       "      <th>1</th>\n",
       "      <td>mnist</td>\n",
       "      <td>1</td>\n",
       "      <td>1024</td>\n",
       "      <td>1.0</td>\n",
       "      <td>2020-07-30 22:40:29.263017</td>\n",
       "      <td>/mnt/cube/tsainbur/Projects/github_repos/umap_...</td>\n",
       "    </tr>\n",
       "    <tr>\n",
       "      <th>2</th>\n",
       "      <td>mnist</td>\n",
       "      <td>64</td>\n",
       "      <td>1024</td>\n",
       "      <td>0.0</td>\n",
       "      <td>2020-07-30 17:08:43.102447</td>\n",
       "      <td>/mnt/cube/tsainbur/Projects/github_repos/umap_...</td>\n",
       "    </tr>\n",
       "    <tr>\n",
       "      <th>3</th>\n",
       "      <td>mnist</td>\n",
       "      <td>16</td>\n",
       "      <td>1024</td>\n",
       "      <td>0.0</td>\n",
       "      <td>2020-07-30 22:23:39.907334</td>\n",
       "      <td>/mnt/cube/tsainbur/Projects/github_repos/umap_...</td>\n",
       "    </tr>\n",
       "    <tr>\n",
       "      <th>4</th>\n",
       "      <td>mnist</td>\n",
       "      <td>1</td>\n",
       "      <td>1024</td>\n",
       "      <td>0.0</td>\n",
       "      <td>2020-07-30 17:02:00.991730</td>\n",
       "      <td>/mnt/cube/tsainbur/Projects/github_repos/umap_...</td>\n",
       "    </tr>\n",
       "    <tr>\n",
       "      <th>5</th>\n",
       "      <td>mnist</td>\n",
       "      <td>64</td>\n",
       "      <td>1024</td>\n",
       "      <td>1.0</td>\n",
       "      <td>2020-07-30 23:24:19.805045</td>\n",
       "      <td>/mnt/cube/tsainbur/Projects/github_repos/umap_...</td>\n",
       "    </tr>\n",
       "    <tr>\n",
       "      <th>6</th>\n",
       "      <td>mnist</td>\n",
       "      <td>1</td>\n",
       "      <td>1024</td>\n",
       "      <td>1.0</td>\n",
       "      <td>2020-07-30 23:24:11.568054</td>\n",
       "      <td>/mnt/cube/tsainbur/Projects/github_repos/umap_...</td>\n",
       "    </tr>\n",
       "    <tr>\n",
       "      <th>7</th>\n",
       "      <td>mnist</td>\n",
       "      <td>16</td>\n",
       "      <td>1024</td>\n",
       "      <td>0.0</td>\n",
       "      <td>2020-07-30 22:31:36.884672</td>\n",
       "      <td>/mnt/cube/tsainbur/Projects/github_repos/umap_...</td>\n",
       "    </tr>\n",
       "    <tr>\n",
       "      <th>8</th>\n",
       "      <td>mnist</td>\n",
       "      <td>1</td>\n",
       "      <td>1024</td>\n",
       "      <td>1.0</td>\n",
       "      <td>2020-07-30 23:08:50.335329</td>\n",
       "      <td>/mnt/cube/tsainbur/Projects/github_repos/umap_...</td>\n",
       "    </tr>\n",
       "    <tr>\n",
       "      <th>9</th>\n",
       "      <td>mnist</td>\n",
       "      <td>1</td>\n",
       "      <td>1024</td>\n",
       "      <td>0.0</td>\n",
       "      <td>2020-07-30 17:04:21.114331</td>\n",
       "      <td>/mnt/cube/tsainbur/Projects/github_repos/umap_...</td>\n",
       "    </tr>\n",
       "    <tr>\n",
       "      <th>10</th>\n",
       "      <td>mnist</td>\n",
       "      <td>256</td>\n",
       "      <td>1024</td>\n",
       "      <td>1.0</td>\n",
       "      <td>2020-07-30 23:24:23.289415</td>\n",
       "      <td>/mnt/cube/tsainbur/Projects/github_repos/umap_...</td>\n",
       "    </tr>\n",
       "    <tr>\n",
       "      <th>11</th>\n",
       "      <td>mnist</td>\n",
       "      <td>16</td>\n",
       "      <td>1024</td>\n",
       "      <td>1.0</td>\n",
       "      <td>2020-07-30 22:34:15.556811</td>\n",
       "      <td>/mnt/cube/tsainbur/Projects/github_repos/umap_...</td>\n",
       "    </tr>\n",
       "    <tr>\n",
       "      <th>12</th>\n",
       "      <td>mnist</td>\n",
       "      <td>16</td>\n",
       "      <td>1024</td>\n",
       "      <td>1.0</td>\n",
       "      <td>2020-07-30 22:42:54.096223</td>\n",
       "      <td>/mnt/cube/tsainbur/Projects/github_repos/umap_...</td>\n",
       "    </tr>\n",
       "    <tr>\n",
       "      <th>13</th>\n",
       "      <td>mnist</td>\n",
       "      <td>16</td>\n",
       "      <td>1024</td>\n",
       "      <td>0.0</td>\n",
       "      <td>2020-07-30 22:10:40.109621</td>\n",
       "      <td>/mnt/cube/tsainbur/Projects/github_repos/umap_...</td>\n",
       "    </tr>\n",
       "    <tr>\n",
       "      <th>14</th>\n",
       "      <td>mnist</td>\n",
       "      <td>4</td>\n",
       "      <td>1024</td>\n",
       "      <td>1.0</td>\n",
       "      <td>2020-07-30 22:42:30.512115</td>\n",
       "      <td>/mnt/cube/tsainbur/Projects/github_repos/umap_...</td>\n",
       "    </tr>\n",
       "    <tr>\n",
       "      <th>15</th>\n",
       "      <td>mnist</td>\n",
       "      <td>full</td>\n",
       "      <td>1024</td>\n",
       "      <td>0.0</td>\n",
       "      <td>2020-07-30 17:05:25.118077</td>\n",
       "      <td>/mnt/cube/tsainbur/Projects/github_repos/umap_...</td>\n",
       "    </tr>\n",
       "    <tr>\n",
       "      <th>16</th>\n",
       "      <td>mnist</td>\n",
       "      <td>256</td>\n",
       "      <td>1024</td>\n",
       "      <td>0.0</td>\n",
       "      <td>2020-07-30 17:09:08.893730</td>\n",
       "      <td>/mnt/cube/tsainbur/Projects/github_repos/umap_...</td>\n",
       "    </tr>\n",
       "    <tr>\n",
       "      <th>17</th>\n",
       "      <td>mnist</td>\n",
       "      <td>16</td>\n",
       "      <td>1024</td>\n",
       "      <td>0.0</td>\n",
       "      <td>2020-07-30 17:08:15.462404</td>\n",
       "      <td>/mnt/cube/tsainbur/Projects/github_repos/umap_...</td>\n",
       "    </tr>\n",
       "    <tr>\n",
       "      <th>18</th>\n",
       "      <td>mnist</td>\n",
       "      <td>16</td>\n",
       "      <td>1024</td>\n",
       "      <td>1.0</td>\n",
       "      <td>2020-07-30 23:24:19.814362</td>\n",
       "      <td>/mnt/cube/tsainbur/Projects/github_repos/umap_...</td>\n",
       "    </tr>\n",
       "    <tr>\n",
       "      <th>19</th>\n",
       "      <td>mnist</td>\n",
       "      <td>16</td>\n",
       "      <td>1024</td>\n",
       "      <td>0.0</td>\n",
       "      <td>2020-07-30 19:22:48.905318</td>\n",
       "      <td>/mnt/cube/tsainbur/Projects/github_repos/umap_...</td>\n",
       "    </tr>\n",
       "    <tr>\n",
       "      <th>20</th>\n",
       "      <td>mnist</td>\n",
       "      <td>16</td>\n",
       "      <td>1024</td>\n",
       "      <td>0.0</td>\n",
       "      <td>2020-07-30 22:36:52.507997</td>\n",
       "      <td>/mnt/cube/tsainbur/Projects/github_repos/umap_...</td>\n",
       "    </tr>\n",
       "    <tr>\n",
       "      <th>21</th>\n",
       "      <td>mnist</td>\n",
       "      <td>1024</td>\n",
       "      <td>1024</td>\n",
       "      <td>0.0</td>\n",
       "      <td>2020-07-30 17:09:31.501790</td>\n",
       "      <td>/mnt/cube/tsainbur/Projects/github_repos/umap_...</td>\n",
       "    </tr>\n",
       "    <tr>\n",
       "      <th>22</th>\n",
       "      <td>mnist</td>\n",
       "      <td>4</td>\n",
       "      <td>1024</td>\n",
       "      <td>1.0</td>\n",
       "      <td>2020-07-30 23:24:11.573945</td>\n",
       "      <td>/mnt/cube/tsainbur/Projects/github_repos/umap_...</td>\n",
       "    </tr>\n",
       "    <tr>\n",
       "      <th>23</th>\n",
       "      <td>mnist</td>\n",
       "      <td>1024</td>\n",
       "      <td>1024</td>\n",
       "      <td>1.0</td>\n",
       "      <td>2020-07-30 23:24:23.266818</td>\n",
       "      <td>/mnt/cube/tsainbur/Projects/github_repos/umap_...</td>\n",
       "    </tr>\n",
       "    <tr>\n",
       "      <th>24</th>\n",
       "      <td>mnist</td>\n",
       "      <td>4</td>\n",
       "      <td>1024</td>\n",
       "      <td>0.0</td>\n",
       "      <td>2020-07-30 17:04:53.958614</td>\n",
       "      <td>/mnt/cube/tsainbur/Projects/github_repos/umap_...</td>\n",
       "    </tr>\n",
       "    <tr>\n",
       "      <th>25</th>\n",
       "      <td>mnist</td>\n",
       "      <td>64</td>\n",
       "      <td>1024</td>\n",
       "      <td>1.0</td>\n",
       "      <td>2020-07-30 22:43:14.334394</td>\n",
       "      <td>/mnt/cube/tsainbur/Projects/github_repos/umap_...</td>\n",
       "    </tr>\n",
       "    <tr>\n",
       "      <th>26</th>\n",
       "      <td>mnist</td>\n",
       "      <td>1024</td>\n",
       "      <td>1024</td>\n",
       "      <td>1.0</td>\n",
       "      <td>2020-07-30 22:44:34.351209</td>\n",
       "      <td>/mnt/cube/tsainbur/Projects/github_repos/umap_...</td>\n",
       "    </tr>\n",
       "  </tbody>\n",
       "</table>\n",
       "</div>"
      ],
      "text/plain": [
       "   dataset labels_per_class projection_dims umap_prop  \\\n",
       "0    mnist              256            1024       1.0   \n",
       "1    mnist                1            1024       1.0   \n",
       "2    mnist               64            1024       0.0   \n",
       "3    mnist               16            1024       0.0   \n",
       "4    mnist                1            1024       0.0   \n",
       "5    mnist               64            1024       1.0   \n",
       "6    mnist                1            1024       1.0   \n",
       "7    mnist               16            1024       0.0   \n",
       "8    mnist                1            1024       1.0   \n",
       "9    mnist                1            1024       0.0   \n",
       "10   mnist              256            1024       1.0   \n",
       "11   mnist               16            1024       1.0   \n",
       "12   mnist               16            1024       1.0   \n",
       "13   mnist               16            1024       0.0   \n",
       "14   mnist                4            1024       1.0   \n",
       "15   mnist             full            1024       0.0   \n",
       "16   mnist              256            1024       0.0   \n",
       "17   mnist               16            1024       0.0   \n",
       "18   mnist               16            1024       1.0   \n",
       "19   mnist               16            1024       0.0   \n",
       "20   mnist               16            1024       0.0   \n",
       "21   mnist             1024            1024       0.0   \n",
       "22   mnist                4            1024       1.0   \n",
       "23   mnist             1024            1024       1.0   \n",
       "24   mnist                4            1024       0.0   \n",
       "25   mnist               64            1024       1.0   \n",
       "26   mnist             1024            1024       1.0   \n",
       "\n",
       "                    timestamp  \\\n",
       "0  2020-07-30 22:43:45.814193   \n",
       "1  2020-07-30 22:40:29.263017   \n",
       "2  2020-07-30 17:08:43.102447   \n",
       "3  2020-07-30 22:23:39.907334   \n",
       "4  2020-07-30 17:02:00.991730   \n",
       "5  2020-07-30 23:24:19.805045   \n",
       "6  2020-07-30 23:24:11.568054   \n",
       "7  2020-07-30 22:31:36.884672   \n",
       "8  2020-07-30 23:08:50.335329   \n",
       "9  2020-07-30 17:04:21.114331   \n",
       "10 2020-07-30 23:24:23.289415   \n",
       "11 2020-07-30 22:34:15.556811   \n",
       "12 2020-07-30 22:42:54.096223   \n",
       "13 2020-07-30 22:10:40.109621   \n",
       "14 2020-07-30 22:42:30.512115   \n",
       "15 2020-07-30 17:05:25.118077   \n",
       "16 2020-07-30 17:09:08.893730   \n",
       "17 2020-07-30 17:08:15.462404   \n",
       "18 2020-07-30 23:24:19.814362   \n",
       "19 2020-07-30 19:22:48.905318   \n",
       "20 2020-07-30 22:36:52.507997   \n",
       "21 2020-07-30 17:09:31.501790   \n",
       "22 2020-07-30 23:24:11.573945   \n",
       "23 2020-07-30 23:24:23.266818   \n",
       "24 2020-07-30 17:04:53.958614   \n",
       "25 2020-07-30 22:43:14.334394   \n",
       "26 2020-07-30 22:44:34.351209   \n",
       "\n",
       "                                             location  \n",
       "0   /mnt/cube/tsainbur/Projects/github_repos/umap_...  \n",
       "1   /mnt/cube/tsainbur/Projects/github_repos/umap_...  \n",
       "2   /mnt/cube/tsainbur/Projects/github_repos/umap_...  \n",
       "3   /mnt/cube/tsainbur/Projects/github_repos/umap_...  \n",
       "4   /mnt/cube/tsainbur/Projects/github_repos/umap_...  \n",
       "5   /mnt/cube/tsainbur/Projects/github_repos/umap_...  \n",
       "6   /mnt/cube/tsainbur/Projects/github_repos/umap_...  \n",
       "7   /mnt/cube/tsainbur/Projects/github_repos/umap_...  \n",
       "8   /mnt/cube/tsainbur/Projects/github_repos/umap_...  \n",
       "9   /mnt/cube/tsainbur/Projects/github_repos/umap_...  \n",
       "10  /mnt/cube/tsainbur/Projects/github_repos/umap_...  \n",
       "11  /mnt/cube/tsainbur/Projects/github_repos/umap_...  \n",
       "12  /mnt/cube/tsainbur/Projects/github_repos/umap_...  \n",
       "13  /mnt/cube/tsainbur/Projects/github_repos/umap_...  \n",
       "14  /mnt/cube/tsainbur/Projects/github_repos/umap_...  \n",
       "15  /mnt/cube/tsainbur/Projects/github_repos/umap_...  \n",
       "16  /mnt/cube/tsainbur/Projects/github_repos/umap_...  \n",
       "17  /mnt/cube/tsainbur/Projects/github_repos/umap_...  \n",
       "18  /mnt/cube/tsainbur/Projects/github_repos/umap_...  \n",
       "19  /mnt/cube/tsainbur/Projects/github_repos/umap_...  \n",
       "20  /mnt/cube/tsainbur/Projects/github_repos/umap_...  \n",
       "21  /mnt/cube/tsainbur/Projects/github_repos/umap_...  \n",
       "22  /mnt/cube/tsainbur/Projects/github_repos/umap_...  \n",
       "23  /mnt/cube/tsainbur/Projects/github_repos/umap_...  \n",
       "24  /mnt/cube/tsainbur/Projects/github_repos/umap_...  \n",
       "25  /mnt/cube/tsainbur/Projects/github_repos/umap_...  \n",
       "26  /mnt/cube/tsainbur/Projects/github_repos/umap_...  "
      ]
     },
     "execution_count": 7,
     "metadata": {},
     "output_type": "execute_result"
    }
   ],
   "source": [
    "dataset = 'mnist'\n",
    "\n",
    "saved_networks = list((MODEL_DIR / 'semisupervised' / dataset).glob('*'))\n",
    "location_df = pd.DataFrame(columns=['dataset', 'labels_per_class', 'projection_dims', 'umap_prop', 'timestamp', 'location'])\n",
    "for i in saved_networks:\n",
    "    if len(i.name.split('_')) != 14:\n",
    "        print(i)\n",
    "        continue\n",
    "    ds, umap_prop, projection_dims, labels_per_class, _, _, _, y, m, d,h,m,s,f = i.name.split('_')\n",
    "    timestamp = datetime.strptime('_'.join(i.name.split('_')[-7:]), \"%Y_%m_%d_%H_%M_%S_%f\")\n",
    "    location_df.loc[len(location_df)] = [ds, labels_per_class, projection_dims, umap_prop, timestamp, i]\n",
    "location_df  "
   ]
  },
  {
   "cell_type": "markdown",
   "metadata": {},
   "source": [
    "#### grab the relavent results"
   ]
  },
  {
   "cell_type": "code",
   "execution_count": 17,
   "metadata": {
    "ExecuteTime": {
     "end_time": "2020-07-31T16:59:09.152574Z",
     "start_time": "2020-07-31T16:59:09.148236Z"
    }
   },
   "outputs": [],
   "source": [
    "dataset = 'mnist'\n",
    "\n",
    "label_sizes = [1, 4, 16, 64, 256, 1024]\n",
    "projection_dims = 1024\n",
    "umap_prop_list = [0.0, 1.0]"
   ]
  },
  {
   "cell_type": "code",
   "execution_count": 22,
   "metadata": {
    "ExecuteTime": {
     "end_time": "2020-08-01T06:21:28.158088Z",
     "start_time": "2020-08-01T06:21:27.922873Z"
    }
   },
   "outputs": [],
   "source": [
    "results_df = pd.DataFrame(columns = ['labels_per_class', 'accuracy', 'umap_prop', 'timestamp'])\n",
    "for nex in label_sizes:\n",
    "    for umap_prop in umap_prop_list:\n",
    "        subset_df = location_df[\n",
    "            (location_df.dataset == dataset) & \n",
    "            (location_df.labels_per_class == str(nex)) & \n",
    "            (location_df.projection_dims == str(projection_dims)) & \n",
    "            (location_df.umap_prop == str(umap_prop) ) \n",
    "        ]\n",
    "        \n",
    "        for idx, row in subset_df.sort_values(by='timestamp').iterrows():\n",
    "            acc_list = list(row.location.glob('test_acc.npy'))\n",
    "            if len(acc_list)> 0:\n",
    "                acc = np.load(acc_list[0])\n",
    "                acc = np.mean(acc)\n",
    "                results_df.loc[len(results_df)] = [nex, acc, umap_prop, row.timestamp]\n",
    "                break\n",
    "            "
   ]
  },
  {
   "cell_type": "code",
   "execution_count": 23,
   "metadata": {
    "ExecuteTime": {
     "end_time": "2020-08-01T06:21:29.694242Z",
     "start_time": "2020-08-01T06:21:29.680206Z"
    }
   },
   "outputs": [
    {
     "data": {
      "text/html": [
       "<div>\n",
       "<style scoped>\n",
       "    .dataframe tbody tr th:only-of-type {\n",
       "        vertical-align: middle;\n",
       "    }\n",
       "\n",
       "    .dataframe tbody tr th {\n",
       "        vertical-align: top;\n",
       "    }\n",
       "\n",
       "    .dataframe thead th {\n",
       "        text-align: right;\n",
       "    }\n",
       "</style>\n",
       "<table border=\"1\" class=\"dataframe\">\n",
       "  <thead>\n",
       "    <tr style=\"text-align: right;\">\n",
       "      <th></th>\n",
       "      <th>labels_per_class</th>\n",
       "      <th>accuracy</th>\n",
       "      <th>umap_prop</th>\n",
       "      <th>timestamp</th>\n",
       "    </tr>\n",
       "  </thead>\n",
       "  <tbody>\n",
       "    <tr>\n",
       "      <th>0</th>\n",
       "      <td>1</td>\n",
       "      <td>0.4484</td>\n",
       "      <td>0.0</td>\n",
       "      <td>2020-07-30 17:02:00.991730</td>\n",
       "    </tr>\n",
       "    <tr>\n",
       "      <th>1</th>\n",
       "      <td>1</td>\n",
       "      <td>0.7653</td>\n",
       "      <td>1.0</td>\n",
       "      <td>2020-07-30 23:08:50.335329</td>\n",
       "    </tr>\n",
       "    <tr>\n",
       "      <th>2</th>\n",
       "      <td>4</td>\n",
       "      <td>0.6590</td>\n",
       "      <td>0.0</td>\n",
       "      <td>2020-07-30 17:04:53.958614</td>\n",
       "    </tr>\n",
       "    <tr>\n",
       "      <th>3</th>\n",
       "      <td>4</td>\n",
       "      <td>0.9185</td>\n",
       "      <td>1.0</td>\n",
       "      <td>2020-07-30 22:42:30.512115</td>\n",
       "    </tr>\n",
       "    <tr>\n",
       "      <th>4</th>\n",
       "      <td>16</td>\n",
       "      <td>0.7602</td>\n",
       "      <td>0.0</td>\n",
       "      <td>2020-07-30 22:23:39.907334</td>\n",
       "    </tr>\n",
       "    <tr>\n",
       "      <th>5</th>\n",
       "      <td>16</td>\n",
       "      <td>0.9424</td>\n",
       "      <td>1.0</td>\n",
       "      <td>2020-07-30 22:42:54.096223</td>\n",
       "    </tr>\n",
       "    <tr>\n",
       "      <th>6</th>\n",
       "      <td>64</td>\n",
       "      <td>0.9193</td>\n",
       "      <td>0.0</td>\n",
       "      <td>2020-07-30 17:08:43.102447</td>\n",
       "    </tr>\n",
       "    <tr>\n",
       "      <th>7</th>\n",
       "      <td>64</td>\n",
       "      <td>0.9716</td>\n",
       "      <td>1.0</td>\n",
       "      <td>2020-07-30 22:43:14.334394</td>\n",
       "    </tr>\n",
       "    <tr>\n",
       "      <th>8</th>\n",
       "      <td>256</td>\n",
       "      <td>0.9613</td>\n",
       "      <td>0.0</td>\n",
       "      <td>2020-07-30 17:09:08.893730</td>\n",
       "    </tr>\n",
       "    <tr>\n",
       "      <th>9</th>\n",
       "      <td>256</td>\n",
       "      <td>0.9790</td>\n",
       "      <td>1.0</td>\n",
       "      <td>2020-07-30 22:43:45.814193</td>\n",
       "    </tr>\n",
       "    <tr>\n",
       "      <th>10</th>\n",
       "      <td>1024</td>\n",
       "      <td>0.9813</td>\n",
       "      <td>0.0</td>\n",
       "      <td>2020-07-30 17:09:31.501790</td>\n",
       "    </tr>\n",
       "    <tr>\n",
       "      <th>11</th>\n",
       "      <td>1024</td>\n",
       "      <td>0.9837</td>\n",
       "      <td>1.0</td>\n",
       "      <td>2020-07-30 22:44:34.351209</td>\n",
       "    </tr>\n",
       "  </tbody>\n",
       "</table>\n",
       "</div>"
      ],
      "text/plain": [
       "   labels_per_class  accuracy  umap_prop                  timestamp\n",
       "0                 1    0.4484        0.0 2020-07-30 17:02:00.991730\n",
       "1                 1    0.7653        1.0 2020-07-30 23:08:50.335329\n",
       "2                 4    0.6590        0.0 2020-07-30 17:04:53.958614\n",
       "3                 4    0.9185        1.0 2020-07-30 22:42:30.512115\n",
       "4                16    0.7602        0.0 2020-07-30 22:23:39.907334\n",
       "5                16    0.9424        1.0 2020-07-30 22:42:54.096223\n",
       "6                64    0.9193        0.0 2020-07-30 17:08:43.102447\n",
       "7                64    0.9716        1.0 2020-07-30 22:43:14.334394\n",
       "8               256    0.9613        0.0 2020-07-30 17:09:08.893730\n",
       "9               256    0.9790        1.0 2020-07-30 22:43:45.814193\n",
       "10             1024    0.9813        0.0 2020-07-30 17:09:31.501790\n",
       "11             1024    0.9837        1.0 2020-07-30 22:44:34.351209"
      ]
     },
     "execution_count": 23,
     "metadata": {},
     "output_type": "execute_result"
    }
   ],
   "source": [
    "results_df"
   ]
  },
  {
   "cell_type": "code",
   "execution_count": 24,
   "metadata": {
    "ExecuteTime": {
     "end_time": "2020-08-01T06:21:31.346329Z",
     "start_time": "2020-08-01T06:21:31.343263Z"
    }
   },
   "outputs": [],
   "source": [
    "import seaborn as sns"
   ]
  },
  {
   "cell_type": "code",
   "execution_count": 25,
   "metadata": {
    "ExecuteTime": {
     "end_time": "2020-08-01T06:21:31.613881Z",
     "start_time": "2020-08-01T06:21:31.603915Z"
    }
   },
   "outputs": [
    {
     "data": {
      "text/html": [
       "<div>\n",
       "<style scoped>\n",
       "    .dataframe tbody tr th:only-of-type {\n",
       "        vertical-align: middle;\n",
       "    }\n",
       "\n",
       "    .dataframe tbody tr th {\n",
       "        vertical-align: top;\n",
       "    }\n",
       "\n",
       "    .dataframe thead th {\n",
       "        text-align: right;\n",
       "    }\n",
       "</style>\n",
       "<table border=\"1\" class=\"dataframe\">\n",
       "  <thead>\n",
       "    <tr style=\"text-align: right;\">\n",
       "      <th></th>\n",
       "      <th>labels_per_class</th>\n",
       "      <th>accuracy</th>\n",
       "      <th>umap_prop</th>\n",
       "      <th>timestamp</th>\n",
       "    </tr>\n",
       "  </thead>\n",
       "  <tbody>\n",
       "  </tbody>\n",
       "</table>\n",
       "</div>"
      ],
      "text/plain": [
       "Empty DataFrame\n",
       "Columns: [labels_per_class, accuracy, umap_prop, timestamp]\n",
       "Index: []"
      ]
     },
     "execution_count": 25,
     "metadata": {},
     "output_type": "execute_result"
    }
   ],
   "source": [
    " results_df[results_df.umap_prop == '0.0']"
   ]
  },
  {
   "cell_type": "code",
   "execution_count": 26,
   "metadata": {
    "ExecuteTime": {
     "end_time": "2020-08-01T06:21:32.229700Z",
     "start_time": "2020-08-01T06:21:32.190027Z"
    }
   },
   "outputs": [
    {
     "data": {
      "image/png": "[encoded data removed]",
      "text/plain": [
       "<Figure size 144x72 with 1 Axes>"
      ]
     },
     "metadata": {
      "needs_background": "light"
     },
     "output_type": "display_data"
    }
   ],
   "source": [
    "pal = sns.color_palette('Set1',2)\n",
    "sns.palplot(pal)"
   ]
  },
  {
   "cell_type": "code",
   "execution_count": 31,
   "metadata": {
    "ExecuteTime": {
     "end_time": "2020-08-04T22:26:43.601710Z",
     "start_time": "2020-08-04T22:26:43.598462Z"
    }
   },
   "outputs": [],
   "source": [
    "from tfumap.paths import DATA_DIR, FIGURE_DIR, ensure_dir, save_fig"
   ]
  },
  {
   "cell_type": "code",
   "execution_count": 32,
   "metadata": {
    "ExecuteTime": {
     "end_time": "2020-08-04T22:27:08.300402Z",
     "start_time": "2020-08-04T22:27:07.219629Z"
    }
   },
   "outputs": [
    {
     "data": {
      "image/png": "[encoded data removed]",
      "text/plain": [
       "<Figure size 360x360 with 1 Axes>"
      ]
     },
     "metadata": {
      "needs_background": "light"
     },
     "output_type": "display_data"
    }
   ],
   "source": [
    "fig, ax = plt.subplots(figsize=(5,5))\n",
    "\n",
    "\n",
    "color = pal[1]\n",
    "nex = results_df[results_df.umap_prop == 1.0].labels_per_class.values.astype('int')\n",
    "acc = results_df[results_df.umap_prop == 1.0].accuracy.values\n",
    "ax.scatter(nex, acc, color=color, s=100)\n",
    "ax.plot(nex, acc, linewidth = 5, alpha = 0.5, color=color, label = 'With UMAP loss')\n",
    "\n",
    "color = pal[0]\n",
    "nex = results_df[results_df.umap_prop == 0.0].labels_per_class.values.astype('int')\n",
    "acc = results_df[results_df.umap_prop == 0.0].accuracy.values\n",
    "ax.scatter(nex, acc, color=color, s=100)\n",
    "ax.plot(nex, acc, linewidth = 5, alpha = 0.5, color=color, label = 'Without UMAP loss')\n",
    "\n",
    "ax.set_xscale('log')\n",
    "ax.set_ylim([0,1])\n",
    "ax.set_xticks(nex)\n",
    "ax.set_xticklabels([str(i) for i in nex]);\n",
    "ax.set_ylabel('Accuracy', fontsize=16)\n",
    "ax.set_xlabel('Labeled training examples per class', fontsize=16)\n",
    "plt.xticks(fontsize=14)\n",
    "plt.yticks(fontsize=14)\n",
    "[i.set_linewidth(4) for i in ax.spines.values()];\n",
    "leg = ax.legend(fontsize=14)\n",
    "leg.get_frame().set_linewidth(0.0)\n",
    "save_fig(FIGURE_DIR/'mnist_semisupervised', save_pdf=True)"
   ]
  },
  {
   "cell_type": "code",
   "execution_count": 28,
   "metadata": {
    "ExecuteTime": {
     "end_time": "2020-08-01T06:21:32.608595Z",
     "start_time": "2020-08-01T06:21:32.606239Z"
    }
   },
   "outputs": [],
   "source": [
    "### plot results "
   ]
  },
  {
   "cell_type": "code",
   "execution_count": null,
   "metadata": {},
   "outputs": [],
   "source": []
  }
 ],
 "metadata": {
  "kernelspec": {
   "display_name": "Python 3",
   "language": "python",
   "name": "python3"
  },
  "language_info": {
   "codemirror_mode": {
    "name": "ipython",
    "version": 3
   },
   "file_extension": ".py",
   "mimetype": "text/x-python",
   "name": "python",
   "nbconvert_exporter": "python",
   "pygments_lexer": "ipython3",
   "version": "3.6.7"
  }
 },
 "nbformat": 4,
 "nbformat_minor": 2
}
