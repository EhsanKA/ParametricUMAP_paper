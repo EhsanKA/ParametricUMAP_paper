{
 "cells": [
  {
   "cell_type": "code",
   "execution_count": 1,
   "metadata": {
    "ExecuteTime": {
     "end_time": "2020-07-31T20:02:02.105077Z",
     "start_time": "2020-07-31T20:02:02.103135Z"
    }
   },
   "outputs": [],
   "source": [
    "#https://github.com/jerett/Keras-CIFAR10/blob/master/classifiers/ResNet.py"
   ]
  },
  {
   "cell_type": "code",
   "execution_count": 2,
   "metadata": {
    "ExecuteTime": {
     "end_time": "2020-07-31T20:02:02.129756Z",
     "start_time": "2020-07-31T20:02:02.106407Z"
    }
   },
   "outputs": [],
   "source": [
    "# reload packages\n",
    "%load_ext autoreload\n",
    "%autoreload 2"
   ]
  },
  {
   "cell_type": "markdown",
   "metadata": {},
   "source": [
    "### Choose GPU"
   ]
  },
  {
   "cell_type": "code",
   "execution_count": 3,
   "metadata": {
    "ExecuteTime": {
     "end_time": "2020-07-31T20:02:02.144574Z",
     "start_time": "2020-07-31T20:02:02.131021Z"
    }
   },
   "outputs": [
    {
     "name": "stdout",
     "output_type": "stream",
     "text": [
      "env: CUDA_DEVICE_ORDER=PCI_BUS_ID\n",
      "env: CUDA_VISIBLE_DEVICES=0\n"
     ]
    }
   ],
   "source": [
    "%env CUDA_DEVICE_ORDER=PCI_BUS_ID\n",
    "%env CUDA_VISIBLE_DEVICES=0"
   ]
  },
  {
   "cell_type": "code",
   "execution_count": 4,
   "metadata": {
    "ExecuteTime": {
     "end_time": "2020-07-31T20:02:05.478373Z",
     "start_time": "2020-07-31T20:02:02.145969Z"
    }
   },
   "outputs": [
    {
     "name": "stdout",
     "output_type": "stream",
     "text": [
      "[PhysicalDevice(name='/physical_device:GPU:0', device_type='GPU')]\n"
     ]
    }
   ],
   "source": [
    "import tensorflow as tf\n",
    "gpu_devices = tf.config.experimental.list_physical_devices('GPU')\n",
    "if len(gpu_devices)>0:\n",
    "    tf.config.experimental.set_memory_growth(gpu_devices[0], True)\n",
    "print(gpu_devices)"
   ]
  },
  {
   "cell_type": "code",
   "execution_count": 5,
   "metadata": {
    "ExecuteTime": {
     "end_time": "2020-07-31T20:02:05.511092Z",
     "start_time": "2020-07-31T20:02:05.480697Z"
    }
   },
   "outputs": [],
   "source": [
    "tf.keras.backend.clear_session()"
   ]
  },
  {
   "cell_type": "markdown",
   "metadata": {},
   "source": [
    "### dataset information"
   ]
  },
  {
   "cell_type": "code",
   "execution_count": 6,
   "metadata": {
    "ExecuteTime": {
     "end_time": "2020-07-31T20:02:05.540785Z",
     "start_time": "2020-07-31T20:02:05.512649Z"
    }
   },
   "outputs": [
    {
     "name": "stdout",
     "output_type": "stream",
     "text": [
      "cifar10_0.0_1024_full____2020_07_31_13_02_05_538740\n"
     ]
    }
   ],
   "source": [
    "from datetime import datetime\n",
    "dataset = 'cifar10'\n",
    "dims = (32,32,3)\n",
    "umap_prop = 0.0\n",
    "num_classes = 10\n",
    "PROJECTION_DIMS = 1024\n",
    "labels_per_class = 'full' # 'full'\n",
    "datestring = datetime.now().strftime(\"%Y_%m_%d_%H_%M_%S_%f\")\n",
    "datestring = str(dataset) + '_' + str(umap_prop) + '_'  +  str(PROJECTION_DIMS)+ '_'  + str(labels_per_class) + '____' + datestring\n",
    "print(datestring)"
   ]
  },
  {
   "cell_type": "markdown",
   "metadata": {},
   "source": [
    "### Load packages"
   ]
  },
  {
   "cell_type": "code",
   "execution_count": 7,
   "metadata": {
    "ExecuteTime": {
     "end_time": "2020-07-31T20:02:10.130355Z",
     "start_time": "2020-07-31T20:02:05.542064Z"
    }
   },
   "outputs": [
    {
     "name": "stderr",
     "output_type": "stream",
     "text": [
      "/mnt/cube/tsainbur/conda_envs/tpy3/lib/python3.6/site-packages/tqdm/autonotebook/__init__.py:14: TqdmExperimentalWarning: Using `tqdm.autonotebook.tqdm` in notebook mode. Use `tqdm.tqdm` instead to force console mode (e.g. in jupyter console)\n",
      "  \" (e.g. in jupyter console)\", TqdmExperimentalWarning)\n"
     ]
    }
   ],
   "source": [
    "import tensorflow as tf\n",
    "import numpy as np\n",
    "import matplotlib.pyplot as plt\n",
    "from tqdm.autonotebook import tqdm\n",
    "from IPython import display\n",
    "import pandas as pd\n",
    "import umap\n",
    "import copy\n",
    "import os, tempfile\n",
    "import time\n"
   ]
  },
  {
   "cell_type": "markdown",
   "metadata": {},
   "source": [
    "### Load dataset"
   ]
  },
  {
   "cell_type": "code",
   "execution_count": 8,
   "metadata": {
    "ExecuteTime": {
     "end_time": "2020-07-31T20:02:10.210272Z",
     "start_time": "2020-07-31T20:02:10.131854Z"
    }
   },
   "outputs": [],
   "source": [
    "from tfumap.load_datasets import load_CIFAR10, mask_labels"
   ]
  },
  {
   "cell_type": "code",
   "execution_count": 9,
   "metadata": {
    "ExecuteTime": {
     "end_time": "2020-07-31T20:02:11.058961Z",
     "start_time": "2020-07-31T20:02:10.211866Z"
    }
   },
   "outputs": [
    {
     "data": {
      "text/plain": [
       "(40000, 32, 32, 3)"
      ]
     },
     "execution_count": 9,
     "metadata": {},
     "output_type": "execute_result"
    }
   ],
   "source": [
    "X_train, X_test, X_valid, Y_train, Y_test, Y_valid = load_CIFAR10(flatten=False)\n",
    "X_train.shape"
   ]
  },
  {
   "cell_type": "code",
   "execution_count": 10,
   "metadata": {
    "ExecuteTime": {
     "end_time": "2020-07-31T20:02:11.100692Z",
     "start_time": "2020-07-31T20:02:11.060428Z"
    }
   },
   "outputs": [],
   "source": [
    "if labels_per_class == \"full\":\n",
    "    X_labeled = X_train\n",
    "    Y_masked = Y_labeled = Y_train\n",
    "else:\n",
    "    X_labeled, Y_labeled, Y_masked = mask_labels(\n",
    "        X_train, Y_train, labels_per_class=labels_per_class\n",
    "    )"
   ]
  },
  {
   "cell_type": "markdown",
   "metadata": {},
   "source": [
    "### train"
   ]
  },
  {
   "cell_type": "code",
   "execution_count": 11,
   "metadata": {
    "ExecuteTime": {
     "end_time": "2020-07-31T20:02:11.134041Z",
     "start_time": "2020-07-31T20:02:11.102033Z"
    }
   },
   "outputs": [],
   "source": [
    "def accuracy(test_x, test_y, model):\n",
    "    result = model.predict(test_x)\n",
    "    predicted_class = np.argmax(result, axis=1)\n",
    "    true_class = np.argmax(test_y, axis=1)\n",
    "    num_correct = np.sum(predicted_class == true_class) \n",
    "    accuracy = float(num_correct)/result.shape[0]\n",
    "    return (accuracy * 100)"
   ]
  },
  {
   "cell_type": "code",
   "execution_count": 27,
   "metadata": {
    "ExecuteTime": {
     "end_time": "2020-07-31T20:07:30.816718Z",
     "start_time": "2020-07-31T20:07:30.770085Z"
    }
   },
   "outputs": [],
   "source": [
    "def plot_history(history):\n",
    "    \"\"\"\n",
    "    plot train epoch history and acc\n",
    "    :param history: train history object returned by CIFAR10Solver.train()\n",
    "    \"\"\"\n",
    "    plt.plot(history.history['loss'])\n",
    "    plt.plot(history.history['val_loss'])\n",
    "    plt.xlabel('epoch')\n",
    "    plt.ylabel('Loss value')\n",
    "    plt.legend(['train', 'test'], loc='upper left')\n",
    "    plt.show()\n",
    "\n",
    "    plt.plot(history.history['accuracy'])\n",
    "    plt.plot(history.history['val_accuracy'])\n",
    "    plt.xlabel('epoch')\n",
    "    plt.ylabel('acc value')\n",
    "    plt.legend(['train', 'test'], loc='upper left')\n",
    "    plt.show()"
   ]
  },
  {
   "cell_type": "code",
   "execution_count": 13,
   "metadata": {
    "ExecuteTime": {
     "end_time": "2020-07-31T20:02:11.204416Z",
     "start_time": "2020-07-31T20:02:11.173719Z"
    }
   },
   "outputs": [],
   "source": [
    "from tensorflow.keras import layers\n",
    "from tensorflow.keras.layers import Dense\n",
    "from tensorflow.keras.layers import Conv2D\n",
    "from tensorflow.keras.layers import AveragePooling2D\n",
    "from tensorflow.keras.layers import Flatten\n",
    "from tensorflow.keras.layers import MaxPool2D\n",
    "from tensorflow.keras.layers import Input\n",
    "from tensorflow.keras.layers import BatchNormalization\n",
    "from tensorflow.keras.layers import Activation\n",
    "from tensorflow.keras.models import Model\n",
    "from tensorflow.keras.regularizers import l2"
   ]
  },
  {
   "cell_type": "code",
   "execution_count": 14,
   "metadata": {
    "ExecuteTime": {
     "end_time": "2020-07-31T20:02:11.239068Z",
     "start_time": "2020-07-31T20:02:11.205608Z"
    }
   },
   "outputs": [],
   "source": [
    "def conv2d_bn(x, filters, kernel_size, weight_decay=.0, strides=(1, 1)):\n",
    "    layer = Conv2D(filters=filters,\n",
    "                   kernel_size=kernel_size,\n",
    "                   strides=strides,\n",
    "                   padding='same',\n",
    "                   use_bias=False,\n",
    "                   kernel_regularizer=l2(weight_decay)\n",
    "                   )(x)\n",
    "    layer = BatchNormalization()(layer)\n",
    "    return layer\n",
    "\n",
    "\n",
    "def conv2d_bn_relu(x, filters, kernel_size, weight_decay=.0, strides=(1, 1)):\n",
    "    layer = conv2d_bn(x, filters, kernel_size, weight_decay, strides)\n",
    "    layer = Activation('relu')(layer)\n",
    "    return layer\n",
    "\n",
    "\n",
    "def ResidualBlock(x, filters, kernel_size, weight_decay, downsample=True):\n",
    "    if downsample:\n",
    "        # residual_x = conv2d_bn_relu(x, filters, kernel_size=1, strides=2)\n",
    "        residual_x = conv2d_bn(x, filters, kernel_size=1, strides=2)\n",
    "        stride = 2\n",
    "    else:\n",
    "        residual_x = x\n",
    "        stride = 1\n",
    "    residual = conv2d_bn_relu(x,\n",
    "                              filters=filters,\n",
    "                              kernel_size=kernel_size,\n",
    "                              weight_decay=weight_decay,\n",
    "                              strides=stride,\n",
    "                              )\n",
    "    residual = conv2d_bn(residual,\n",
    "                         filters=filters,\n",
    "                         kernel_size=kernel_size,\n",
    "                         weight_decay=weight_decay,\n",
    "                         strides=1,\n",
    "                         )\n",
    "    out = layers.add([residual_x, residual])\n",
    "    out = Activation('relu')(out)\n",
    "    return out"
   ]
  },
  {
   "cell_type": "code",
   "execution_count": 15,
   "metadata": {
    "ExecuteTime": {
     "end_time": "2020-07-31T20:02:11.270706Z",
     "start_time": "2020-07-31T20:02:11.240349Z"
    }
   },
   "outputs": [
    {
     "data": {
      "text/plain": [
       "(40000, 32, 32, 3)"
      ]
     },
     "execution_count": 15,
     "metadata": {},
     "output_type": "execute_result"
    }
   ],
   "source": [
    "X_labeled.shape"
   ]
  },
  {
   "cell_type": "code",
   "execution_count": 16,
   "metadata": {
    "ExecuteTime": {
     "end_time": "2020-07-31T20:02:11.300736Z",
     "start_time": "2020-07-31T20:02:11.271849Z"
    }
   },
   "outputs": [],
   "source": [
    "block_layers_num = 3\n",
    "weight_decay = 1e-4\n",
    "name = 'resnet20'"
   ]
  },
  {
   "cell_type": "code",
   "execution_count": 17,
   "metadata": {
    "ExecuteTime": {
     "end_time": "2020-07-31T20:02:12.330994Z",
     "start_time": "2020-07-31T20:02:11.301989Z"
    }
   },
   "outputs": [],
   "source": [
    "block_layers_num"
   ]
  },
  {
   "cell_type": "code",
   "execution_count": 18,
   "metadata": {
    "ExecuteTime": {
     "end_time": "2020-07-31T20:02:12.392490Z",
     "start_time": "2020-07-31T20:02:12.332501Z"
    }
   },
   "outputs": [
    {
     "name": "stdout",
     "output_type": "stream",
     "text": [
      "Model: \"resnet20\"\n",
      "__________________________________________________________________________________________________\n",
      "Layer (type)                    Output Shape         Param #     Connected to                     \n",
      "==================================================================================================\n",
      "input_1 (InputLayer)            [(None, 32, 32, 3)]  0                                            \n",
      "__________________________________________________________________________________________________\n",
      "conv2d (Conv2D)                 (None, 32, 32, 16)   432         input_1[0][0]                    \n",
      "__________________________________________________________________________________________________\n",
      "batch_normalization (BatchNorma (None, 32, 32, 16)   64          conv2d[0][0]                     \n",
      "__________________________________________________________________________________________________\n",
      "activation (Activation)         (None, 32, 32, 16)   0           batch_normalization[0][0]        \n",
      "__________________________________________________________________________________________________\n",
      "conv2d_1 (Conv2D)               (None, 32, 32, 16)   2304        activation[0][0]                 \n",
      "__________________________________________________________________________________________________\n",
      "batch_normalization_1 (BatchNor (None, 32, 32, 16)   64          conv2d_1[0][0]                   \n",
      "__________________________________________________________________________________________________\n",
      "activation_1 (Activation)       (None, 32, 32, 16)   0           batch_normalization_1[0][0]      \n",
      "__________________________________________________________________________________________________\n",
      "conv2d_2 (Conv2D)               (None, 32, 32, 16)   2304        activation_1[0][0]               \n",
      "__________________________________________________________________________________________________\n",
      "batch_normalization_2 (BatchNor (None, 32, 32, 16)   64          conv2d_2[0][0]                   \n",
      "__________________________________________________________________________________________________\n",
      "add (Add)                       (None, 32, 32, 16)   0           activation[0][0]                 \n",
      "                                                                 batch_normalization_2[0][0]      \n",
      "__________________________________________________________________________________________________\n",
      "activation_2 (Activation)       (None, 32, 32, 16)   0           add[0][0]                        \n",
      "__________________________________________________________________________________________________\n",
      "conv2d_3 (Conv2D)               (None, 32, 32, 16)   2304        activation_2[0][0]               \n",
      "__________________________________________________________________________________________________\n",
      "batch_normalization_3 (BatchNor (None, 32, 32, 16)   64          conv2d_3[0][0]                   \n",
      "__________________________________________________________________________________________________\n",
      "activation_3 (Activation)       (None, 32, 32, 16)   0           batch_normalization_3[0][0]      \n",
      "__________________________________________________________________________________________________\n",
      "conv2d_4 (Conv2D)               (None, 32, 32, 16)   2304        activation_3[0][0]               \n",
      "__________________________________________________________________________________________________\n",
      "batch_normalization_4 (BatchNor (None, 32, 32, 16)   64          conv2d_4[0][0]                   \n",
      "__________________________________________________________________________________________________\n",
      "add_1 (Add)                     (None, 32, 32, 16)   0           activation_2[0][0]               \n",
      "                                                                 batch_normalization_4[0][0]      \n",
      "__________________________________________________________________________________________________\n",
      "activation_4 (Activation)       (None, 32, 32, 16)   0           add_1[0][0]                      \n",
      "__________________________________________________________________________________________________\n",
      "conv2d_5 (Conv2D)               (None, 32, 32, 16)   2304        activation_4[0][0]               \n",
      "__________________________________________________________________________________________________\n",
      "batch_normalization_5 (BatchNor (None, 32, 32, 16)   64          conv2d_5[0][0]                   \n",
      "__________________________________________________________________________________________________\n",
      "activation_5 (Activation)       (None, 32, 32, 16)   0           batch_normalization_5[0][0]      \n",
      "__________________________________________________________________________________________________\n",
      "conv2d_6 (Conv2D)               (None, 32, 32, 16)   2304        activation_5[0][0]               \n",
      "__________________________________________________________________________________________________\n",
      "batch_normalization_6 (BatchNor (None, 32, 32, 16)   64          conv2d_6[0][0]                   \n",
      "__________________________________________________________________________________________________\n",
      "add_2 (Add)                     (None, 32, 32, 16)   0           activation_4[0][0]               \n",
      "                                                                 batch_normalization_6[0][0]      \n",
      "__________________________________________________________________________________________________\n",
      "activation_6 (Activation)       (None, 32, 32, 16)   0           add_2[0][0]                      \n",
      "__________________________________________________________________________________________________\n",
      "conv2d_8 (Conv2D)               (None, 16, 16, 32)   4608        activation_6[0][0]               \n",
      "__________________________________________________________________________________________________\n",
      "batch_normalization_8 (BatchNor (None, 16, 16, 32)   128         conv2d_8[0][0]                   \n",
      "__________________________________________________________________________________________________\n",
      "activation_7 (Activation)       (None, 16, 16, 32)   0           batch_normalization_8[0][0]      \n",
      "__________________________________________________________________________________________________\n",
      "conv2d_7 (Conv2D)               (None, 16, 16, 32)   512         activation_6[0][0]               \n",
      "__________________________________________________________________________________________________\n",
      "conv2d_9 (Conv2D)               (None, 16, 16, 32)   9216        activation_7[0][0]               \n",
      "__________________________________________________________________________________________________\n",
      "batch_normalization_7 (BatchNor (None, 16, 16, 32)   128         conv2d_7[0][0]                   \n",
      "__________________________________________________________________________________________________\n",
      "batch_normalization_9 (BatchNor (None, 16, 16, 32)   128         conv2d_9[0][0]                   \n",
      "__________________________________________________________________________________________________\n",
      "add_3 (Add)                     (None, 16, 16, 32)   0           batch_normalization_7[0][0]      \n",
      "                                                                 batch_normalization_9[0][0]      \n",
      "__________________________________________________________________________________________________\n",
      "activation_8 (Activation)       (None, 16, 16, 32)   0           add_3[0][0]                      \n",
      "__________________________________________________________________________________________________\n",
      "conv2d_10 (Conv2D)              (None, 16, 16, 32)   9216        activation_8[0][0]               \n",
      "__________________________________________________________________________________________________\n",
      "batch_normalization_10 (BatchNo (None, 16, 16, 32)   128         conv2d_10[0][0]                  \n",
      "__________________________________________________________________________________________________\n",
      "activation_9 (Activation)       (None, 16, 16, 32)   0           batch_normalization_10[0][0]     \n",
      "__________________________________________________________________________________________________\n",
      "conv2d_11 (Conv2D)              (None, 16, 16, 32)   9216        activation_9[0][0]               \n",
      "__________________________________________________________________________________________________\n",
      "batch_normalization_11 (BatchNo (None, 16, 16, 32)   128         conv2d_11[0][0]                  \n",
      "__________________________________________________________________________________________________\n",
      "add_4 (Add)                     (None, 16, 16, 32)   0           activation_8[0][0]               \n",
      "                                                                 batch_normalization_11[0][0]     \n",
      "__________________________________________________________________________________________________\n",
      "activation_10 (Activation)      (None, 16, 16, 32)   0           add_4[0][0]                      \n",
      "__________________________________________________________________________________________________\n",
      "conv2d_12 (Conv2D)              (None, 16, 16, 32)   9216        activation_10[0][0]              \n",
      "__________________________________________________________________________________________________\n",
      "batch_normalization_12 (BatchNo (None, 16, 16, 32)   128         conv2d_12[0][0]                  \n",
      "__________________________________________________________________________________________________\n",
      "activation_11 (Activation)      (None, 16, 16, 32)   0           batch_normalization_12[0][0]     \n",
      "__________________________________________________________________________________________________\n",
      "conv2d_13 (Conv2D)              (None, 16, 16, 32)   9216        activation_11[0][0]              \n",
      "__________________________________________________________________________________________________\n",
      "batch_normalization_13 (BatchNo (None, 16, 16, 32)   128         conv2d_13[0][0]                  \n",
      "__________________________________________________________________________________________________\n",
      "add_5 (Add)                     (None, 16, 16, 32)   0           activation_10[0][0]              \n",
      "                                                                 batch_normalization_13[0][0]     \n",
      "__________________________________________________________________________________________________\n",
      "activation_12 (Activation)      (None, 16, 16, 32)   0           add_5[0][0]                      \n",
      "__________________________________________________________________________________________________\n",
      "conv2d_15 (Conv2D)              (None, 8, 8, 64)     18432       activation_12[0][0]              \n",
      "__________________________________________________________________________________________________\n",
      "batch_normalization_15 (BatchNo (None, 8, 8, 64)     256         conv2d_15[0][0]                  \n",
      "__________________________________________________________________________________________________\n",
      "activation_13 (Activation)      (None, 8, 8, 64)     0           batch_normalization_15[0][0]     \n",
      "__________________________________________________________________________________________________\n",
      "conv2d_14 (Conv2D)              (None, 8, 8, 64)     2048        activation_12[0][0]              \n",
      "__________________________________________________________________________________________________\n",
      "conv2d_16 (Conv2D)              (None, 8, 8, 64)     36864       activation_13[0][0]              \n",
      "__________________________________________________________________________________________________\n",
      "batch_normalization_14 (BatchNo (None, 8, 8, 64)     256         conv2d_14[0][0]                  \n",
      "__________________________________________________________________________________________________\n",
      "batch_normalization_16 (BatchNo (None, 8, 8, 64)     256         conv2d_16[0][0]                  \n",
      "__________________________________________________________________________________________________\n",
      "add_6 (Add)                     (None, 8, 8, 64)     0           batch_normalization_14[0][0]     \n",
      "                                                                 batch_normalization_16[0][0]     \n",
      "__________________________________________________________________________________________________\n",
      "activation_14 (Activation)      (None, 8, 8, 64)     0           add_6[0][0]                      \n",
      "__________________________________________________________________________________________________\n",
      "conv2d_17 (Conv2D)              (None, 8, 8, 64)     36864       activation_14[0][0]              \n",
      "__________________________________________________________________________________________________\n",
      "batch_normalization_17 (BatchNo (None, 8, 8, 64)     256         conv2d_17[0][0]                  \n",
      "__________________________________________________________________________________________________\n",
      "activation_15 (Activation)      (None, 8, 8, 64)     0           batch_normalization_17[0][0]     \n",
      "__________________________________________________________________________________________________\n",
      "conv2d_18 (Conv2D)              (None, 8, 8, 64)     36864       activation_15[0][0]              \n",
      "__________________________________________________________________________________________________\n",
      "batch_normalization_18 (BatchNo (None, 8, 8, 64)     256         conv2d_18[0][0]                  \n",
      "__________________________________________________________________________________________________\n",
      "add_7 (Add)                     (None, 8, 8, 64)     0           activation_14[0][0]              \n",
      "                                                                 batch_normalization_18[0][0]     \n",
      "__________________________________________________________________________________________________\n",
      "activation_16 (Activation)      (None, 8, 8, 64)     0           add_7[0][0]                      \n",
      "__________________________________________________________________________________________________\n",
      "conv2d_19 (Conv2D)              (None, 8, 8, 64)     36864       activation_16[0][0]              \n",
      "__________________________________________________________________________________________________\n",
      "batch_normalization_19 (BatchNo (None, 8, 8, 64)     256         conv2d_19[0][0]                  \n",
      "__________________________________________________________________________________________________\n",
      "activation_17 (Activation)      (None, 8, 8, 64)     0           batch_normalization_19[0][0]     \n",
      "__________________________________________________________________________________________________\n",
      "conv2d_20 (Conv2D)              (None, 8, 8, 64)     36864       activation_17[0][0]              \n",
      "__________________________________________________________________________________________________\n",
      "batch_normalization_20 (BatchNo (None, 8, 8, 64)     256         conv2d_20[0][0]                  \n",
      "__________________________________________________________________________________________________\n",
      "add_8 (Add)                     (None, 8, 8, 64)     0           activation_16[0][0]              \n",
      "                                                                 batch_normalization_20[0][0]     \n",
      "__________________________________________________________________________________________________\n",
      "activation_18 (Activation)      (None, 8, 8, 64)     0           add_8[0][0]                      \n",
      "__________________________________________________________________________________________________\n",
      "average_pooling2d (AveragePooli (None, 1, 1, 64)     0           activation_18[0][0]              \n",
      "__________________________________________________________________________________________________\n",
      "flatten (Flatten)               (None, 64)           0           average_pooling2d[0][0]          \n",
      "__________________________________________________________________________________________________\n",
      "dense (Dense)                   (None, 10)           650         flatten[0][0]                    \n",
      "==================================================================================================\n",
      "Total params: 274,042\n",
      "Trainable params: 272,474\n",
      "Non-trainable params: 1,568\n",
      "__________________________________________________________________________________________________\n"
     ]
    }
   ],
   "source": [
    "model.summary()"
   ]
  },
  {
   "cell_type": "code",
   "execution_count": 19,
   "metadata": {
    "ExecuteTime": {
     "end_time": "2020-07-31T20:02:12.429373Z",
     "start_time": "2020-07-31T20:02:12.393871Z"
    }
   },
   "outputs": [],
   "source": [
    "from tensorflow.keras import losses"
   ]
  },
  {
   "cell_type": "code",
   "execution_count": 20,
   "metadata": {
    "ExecuteTime": {
     "end_time": "2020-07-31T20:02:12.475526Z",
     "start_time": "2020-07-31T20:02:12.431586Z"
    }
   },
   "outputs": [],
   "source": [
    "opt = tf.keras.optimizers.Adam(lr=1e-3)\n",
    "model.compile(optimizer=opt,\n",
    "                 loss=losses.sparse_categorical_crossentropy,\n",
    "                 metrics=['accuracy'])"
   ]
  },
  {
   "cell_type": "code",
   "execution_count": 22,
   "metadata": {
    "ExecuteTime": {
     "end_time": "2020-07-31T20:06:56.156480Z",
     "start_time": "2020-07-31T20:02:59.549500Z"
    }
   },
   "outputs": [
    {
     "name": "stdout",
     "output_type": "stream",
     "text": [
      "Epoch 1/50\n",
      "313/313 [==============================] - 5s 15ms/step - loss: 0.4504 - accuracy: 0.8758 - val_loss: 1.5350 - val_accuracy: 0.6317\n",
      "Epoch 2/50\n",
      "313/313 [==============================] - 5s 15ms/step - loss: 0.4129 - accuracy: 0.8903 - val_loss: 1.1609 - val_accuracy: 0.6932\n",
      "Epoch 3/50\n",
      "313/313 [==============================] - 5s 15ms/step - loss: 0.3798 - accuracy: 0.9044 - val_loss: 1.0023 - val_accuracy: 0.7364\n",
      "Epoch 4/50\n",
      "313/313 [==============================] - 5s 15ms/step - loss: 0.3571 - accuracy: 0.9136 - val_loss: 1.5237 - val_accuracy: 0.6669\n",
      "Epoch 5/50\n",
      "313/313 [==============================] - 5s 15ms/step - loss: 0.3318 - accuracy: 0.9232 - val_loss: 1.2433 - val_accuracy: 0.7096\n",
      "Epoch 6/50\n",
      "313/313 [==============================] - 5s 15ms/step - loss: 0.3098 - accuracy: 0.9322 - val_loss: 1.4881 - val_accuracy: 0.6890\n",
      "Epoch 7/50\n",
      "313/313 [==============================] - 5s 15ms/step - loss: 0.2870 - accuracy: 0.9410 - val_loss: 1.5266 - val_accuracy: 0.6931\n",
      "Epoch 8/50\n",
      "313/313 [==============================] - 5s 15ms/step - loss: 0.2735 - accuracy: 0.9467 - val_loss: 1.5729 - val_accuracy: 0.6841\n",
      "Epoch 9/50\n",
      "313/313 [==============================] - 5s 15ms/step - loss: 0.2692 - accuracy: 0.9486 - val_loss: 2.3733 - val_accuracy: 0.6259\n",
      "Epoch 10/50\n",
      "313/313 [==============================] - 5s 15ms/step - loss: 0.2627 - accuracy: 0.9510 - val_loss: 1.3426 - val_accuracy: 0.7195\n",
      "Epoch 11/50\n",
      "313/313 [==============================] - 5s 15ms/step - loss: 0.2499 - accuracy: 0.9561 - val_loss: 1.4831 - val_accuracy: 0.7068\n",
      "Epoch 12/50\n",
      "313/313 [==============================] - 5s 15ms/step - loss: 0.2398 - accuracy: 0.9611 - val_loss: 1.5562 - val_accuracy: 0.6901\n",
      "Epoch 13/50\n",
      "313/313 [==============================] - 5s 15ms/step - loss: 0.2562 - accuracy: 0.9558 - val_loss: 1.9118 - val_accuracy: 0.6638\n",
      "Epoch 14/50\n",
      "313/313 [==============================] - 5s 15ms/step - loss: 0.2406 - accuracy: 0.9620 - val_loss: 1.4106 - val_accuracy: 0.7089\n",
      "Epoch 15/50\n",
      "313/313 [==============================] - 5s 15ms/step - loss: 0.2258 - accuracy: 0.9682 - val_loss: 2.0693 - val_accuracy: 0.6397\n",
      "Epoch 16/50\n",
      "313/313 [==============================] - 5s 15ms/step - loss: 0.2357 - accuracy: 0.9647 - val_loss: 1.4330 - val_accuracy: 0.7269\n",
      "Epoch 17/50\n",
      "313/313 [==============================] - 5s 15ms/step - loss: 0.2369 - accuracy: 0.9654 - val_loss: 1.5854 - val_accuracy: 0.7093\n",
      "Epoch 18/50\n",
      "313/313 [==============================] - 5s 15ms/step - loss: 0.2384 - accuracy: 0.9643 - val_loss: 2.3296 - val_accuracy: 0.6467\n",
      "Epoch 19/50\n",
      "313/313 [==============================] - 5s 15ms/step - loss: 0.2293 - accuracy: 0.9687 - val_loss: 2.1904 - val_accuracy: 0.6286\n",
      "Epoch 20/50\n",
      "313/313 [==============================] - 5s 15ms/step - loss: 0.2353 - accuracy: 0.9661 - val_loss: 1.7186 - val_accuracy: 0.7161\n",
      "Epoch 21/50\n",
      "313/313 [==============================] - 5s 15ms/step - loss: 0.2278 - accuracy: 0.9697 - val_loss: 1.7099 - val_accuracy: 0.6992\n",
      "Epoch 22/50\n",
      "313/313 [==============================] - 5s 15ms/step - loss: 0.2179 - accuracy: 0.9744 - val_loss: 2.0326 - val_accuracy: 0.6714\n",
      "Epoch 23/50\n",
      "313/313 [==============================] - 5s 15ms/step - loss: 0.2276 - accuracy: 0.9697 - val_loss: 1.7369 - val_accuracy: 0.7178\n",
      "Epoch 24/50\n",
      "313/313 [==============================] - 5s 15ms/step - loss: 0.2261 - accuracy: 0.9724 - val_loss: 2.8649 - val_accuracy: 0.5798\n",
      "Epoch 25/50\n",
      "313/313 [==============================] - 5s 15ms/step - loss: 0.2293 - accuracy: 0.9706 - val_loss: 1.8548 - val_accuracy: 0.7192\n",
      "Epoch 26/50\n",
      "313/313 [==============================] - 5s 15ms/step - loss: 0.2318 - accuracy: 0.9701 - val_loss: 2.0920 - val_accuracy: 0.6758\n",
      "Epoch 27/50\n",
      "313/313 [==============================] - 5s 15ms/step - loss: 0.2256 - accuracy: 0.9728 - val_loss: 1.6317 - val_accuracy: 0.7156\n",
      "Epoch 28/50\n",
      "313/313 [==============================] - 5s 15ms/step - loss: 0.2225 - accuracy: 0.9741 - val_loss: 1.7657 - val_accuracy: 0.7130\n",
      "Epoch 29/50\n",
      "313/313 [==============================] - 5s 15ms/step - loss: 0.2195 - accuracy: 0.9755 - val_loss: 1.3909 - val_accuracy: 0.7479\n",
      "Epoch 30/50\n",
      "313/313 [==============================] - 5s 15ms/step - loss: 0.2358 - accuracy: 0.9703 - val_loss: 2.9695 - val_accuracy: 0.5953\n",
      "Epoch 31/50\n",
      "313/313 [==============================] - 5s 15ms/step - loss: 0.2258 - accuracy: 0.9750 - val_loss: 2.4789 - val_accuracy: 0.6371\n",
      "Epoch 32/50\n",
      "313/313 [==============================] - 5s 15ms/step - loss: 0.2271 - accuracy: 0.9738 - val_loss: 1.9333 - val_accuracy: 0.6874\n",
      "Epoch 33/50\n",
      "313/313 [==============================] - 5s 15ms/step - loss: 0.2330 - accuracy: 0.9724 - val_loss: 1.9082 - val_accuracy: 0.6853\n",
      "Epoch 34/50\n",
      "313/313 [==============================] - 5s 15ms/step - loss: 0.2256 - accuracy: 0.9745 - val_loss: 1.4531 - val_accuracy: 0.7460\n",
      "Epoch 35/50\n",
      "313/313 [==============================] - 5s 15ms/step - loss: 0.2188 - accuracy: 0.9777 - val_loss: 2.2161 - val_accuracy: 0.6530\n",
      "Epoch 36/50\n",
      "313/313 [==============================] - 5s 15ms/step - loss: 0.2229 - accuracy: 0.9760 - val_loss: 1.4419 - val_accuracy: 0.7556\n",
      "Epoch 37/50\n",
      "313/313 [==============================] - 5s 15ms/step - loss: 0.2243 - accuracy: 0.9755 - val_loss: 1.7341 - val_accuracy: 0.7254\n",
      "Epoch 38/50\n",
      "313/313 [==============================] - 5s 15ms/step - loss: 0.2280 - accuracy: 0.9752 - val_loss: 1.9917 - val_accuracy: 0.6733\n",
      "Epoch 39/50\n",
      "313/313 [==============================] - 5s 15ms/step - loss: 0.2251 - accuracy: 0.9758 - val_loss: 1.6160 - val_accuracy: 0.7265\n",
      "Epoch 40/50\n",
      "313/313 [==============================] - 5s 15ms/step - loss: 0.2217 - accuracy: 0.9774 - val_loss: 1.8491 - val_accuracy: 0.7012\n",
      "Epoch 41/50\n",
      "313/313 [==============================] - 5s 15ms/step - loss: 0.2303 - accuracy: 0.9740 - val_loss: 1.9270 - val_accuracy: 0.7153\n",
      "Epoch 42/50\n",
      "313/313 [==============================] - 5s 15ms/step - loss: 0.2271 - accuracy: 0.9761 - val_loss: 1.6831 - val_accuracy: 0.7308\n",
      "Epoch 43/50\n",
      "313/313 [==============================] - 5s 15ms/step - loss: 0.2168 - accuracy: 0.9801 - val_loss: 1.7367 - val_accuracy: 0.7165\n",
      "Epoch 44/50\n",
      "313/313 [==============================] - 5s 15ms/step - loss: 0.2162 - accuracy: 0.9796 - val_loss: 1.7585 - val_accuracy: 0.7200\n",
      "Epoch 45/50\n",
      "313/313 [==============================] - 5s 15ms/step - loss: 0.2293 - accuracy: 0.9752 - val_loss: 1.9430 - val_accuracy: 0.6999\n",
      "Epoch 46/50\n",
      "313/313 [==============================] - 5s 15ms/step - loss: 0.2277 - accuracy: 0.9765 - val_loss: 1.5125 - val_accuracy: 0.7401\n",
      "Epoch 47/50\n",
      "313/313 [==============================] - 5s 15ms/step - loss: 0.2140 - accuracy: 0.9814 - val_loss: 1.9867 - val_accuracy: 0.7150\n",
      "Epoch 48/50\n",
      "313/313 [==============================] - 5s 15ms/step - loss: 0.2267 - accuracy: 0.9764 - val_loss: 2.1103 - val_accuracy: 0.6896\n",
      "Epoch 49/50\n",
      "313/313 [==============================] - 5s 15ms/step - loss: 0.2248 - accuracy: 0.9774 - val_loss: 2.4476 - val_accuracy: 0.6699\n",
      "Epoch 50/50\n",
      "313/313 [==============================] - 5s 15ms/step - loss: 0.2315 - accuracy: 0.9756 - val_loss: 1.4577 - val_accuracy: 0.7460\n"
     ]
    }
   ],
   "source": [
    "# Train the model\n",
    "start = time.time()\n",
    "history = model.fit(X_labeled, Y_labeled, \n",
    "                       batch_size=128,\n",
    "                       epochs= 50,\n",
    "                       validation_data = (X_valid, Y_valid))\n",
    "\n",
    "end = time.time()"
   ]
  },
  {
   "cell_type": "code",
   "execution_count": 23,
   "metadata": {
    "ExecuteTime": {
     "end_time": "2020-07-31T20:06:58.418893Z",
     "start_time": "2020-07-31T20:06:56.158421Z"
    }
   },
   "outputs": [
    {
     "name": "stdout",
     "output_type": "stream",
     "text": [
      "313/313 [==============================] - 1s 4ms/step - loss: 1.5314 - accuracy: 0.7372\n",
      "test data loss:1.53 acc:0.7372\n"
     ]
    }
   ],
   "source": [
    "loss, acc = model.evaluate(X_test, Y_test)\n",
    "print('test data loss:%.2f acc:%.4f' % (loss, acc))"
   ]
  },
  {
   "cell_type": "code",
   "execution_count": 28,
   "metadata": {
    "ExecuteTime": {
     "end_time": "2020-07-31T20:07:34.495754Z",
     "start_time": "2020-07-31T20:07:33.985445Z"
    }
   },
   "outputs": [
    {
     "data": {
      "image/png": "[encoded data removed]",
      "text/plain": [
       "<Figure size 432x288 with 1 Axes>"
      ]
     },
     "metadata": {
      "needs_background": "light"
     },
     "output_type": "display_data"
    },
    {
     "data": {
      "image/png": "[encoded data removed]",
      "text/plain": [
       "<Figure size 432x288 with 1 Axes>"
      ]
     },
     "metadata": {
      "needs_background": "light"
     },
     "output_type": "display_data"
    }
   ],
   "source": [
    "plot_history(history)"
   ]
  },
  {
   "cell_type": "code",
   "execution_count": 29,
   "metadata": {
    "ExecuteTime": {
     "end_time": "2020-07-31T20:07:38.381428Z",
     "start_time": "2020-07-31T20:07:38.334417Z"
    }
   },
   "outputs": [],
   "source": [
    "datagen = tf.keras.preprocessing.image.ImageDataGenerator(\n",
    "    featurewise_center=False,  # set input mean to 0 over the dataset\n",
    "    samplewise_center=False,  # set each sample mean to 0\n",
    "    featurewise_std_normalization=False,  # divide inputs by std of the dataset\n",
    "    samplewise_std_normalization=False,  # divide each input by its std\n",
    "    zca_whitening=False,  # apply ZCA whitening\n",
    "    # rotation_range=15,  # randomly rotate images in the range (degrees, 0 to 180)\n",
    "    width_shift_range=4,  # randomly shift images horizontally (fraction of total width)\n",
    "    height_shift_range=4,  # randomly shift images vertically (fraction of total height)\n",
    "    horizontal_flip=True,  # randomly flip images\n",
    "    vertical_flip=False,  # randomly flip images\n",
    ")"
   ]
  },
  {
   "cell_type": "code",
   "execution_count": 30,
   "metadata": {
    "ExecuteTime": {
     "end_time": "2020-07-31T20:07:42.120579Z",
     "start_time": "2020-07-31T20:07:42.077055Z"
    }
   },
   "outputs": [],
   "source": [
    "batch_size = 128\n",
    "train_gen = datagen.flow(X_labeled, Y_labeled, batch_size=batch_size)"
   ]
  },
  {
   "cell_type": "code",
   "execution_count": 31,
   "metadata": {
    "ExecuteTime": {
     "end_time": "2020-07-31T20:23:22.999462Z",
     "start_time": "2020-07-31T20:07:43.985069Z"
    }
   },
   "outputs": [
    {
     "name": "stdout",
     "output_type": "stream",
     "text": [
      "Epoch 1/50\n",
      "313/313 [==============================] - 19s 60ms/step - loss: 0.7817 - accuracy: 0.8030 - val_loss: 0.8099 - val_accuracy: 0.7797\n",
      "Epoch 2/50\n",
      "313/313 [==============================] - 19s 60ms/step - loss: 0.6581 - accuracy: 0.8299 - val_loss: 0.9173 - val_accuracy: 0.7559\n",
      "Epoch 3/50\n",
      "313/313 [==============================] - 19s 60ms/step - loss: 0.6179 - accuracy: 0.8425 - val_loss: 0.7033 - val_accuracy: 0.8225\n",
      "Epoch 4/50\n",
      "313/313 [==============================] - 19s 60ms/step - loss: 0.5998 - accuracy: 0.8489 - val_loss: 0.7115 - val_accuracy: 0.8163\n",
      "Epoch 5/50\n",
      "313/313 [==============================] - 19s 59ms/step - loss: 0.5888 - accuracy: 0.8515 - val_loss: 0.7785 - val_accuracy: 0.8018\n",
      "Epoch 6/50\n",
      "313/313 [==============================] - 19s 60ms/step - loss: 0.5671 - accuracy: 0.8574 - val_loss: 0.7209 - val_accuracy: 0.8151\n",
      "Epoch 7/50\n",
      "313/313 [==============================] - 19s 60ms/step - loss: 0.5538 - accuracy: 0.8632 - val_loss: 0.7128 - val_accuracy: 0.8146\n",
      "Epoch 8/50\n",
      "313/313 [==============================] - 19s 60ms/step - loss: 0.5416 - accuracy: 0.8635 - val_loss: 0.6800 - val_accuracy: 0.8225\n",
      "Epoch 9/50\n",
      "313/313 [==============================] - 19s 60ms/step - loss: 0.5350 - accuracy: 0.8690 - val_loss: 0.6815 - val_accuracy: 0.8256\n",
      "Epoch 10/50\n",
      "313/313 [==============================] - 19s 60ms/step - loss: 0.5289 - accuracy: 0.8704 - val_loss: 0.7496 - val_accuracy: 0.8077\n",
      "Epoch 11/50\n",
      "313/313 [==============================] - 19s 60ms/step - loss: 0.5166 - accuracy: 0.8737 - val_loss: 0.7610 - val_accuracy: 0.8051\n",
      "Epoch 12/50\n",
      "313/313 [==============================] - 19s 60ms/step - loss: 0.5075 - accuracy: 0.8771 - val_loss: 0.7143 - val_accuracy: 0.8169\n",
      "Epoch 13/50\n",
      "313/313 [==============================] - 19s 60ms/step - loss: 0.5009 - accuracy: 0.8795 - val_loss: 0.9443 - val_accuracy: 0.7697\n",
      "Epoch 14/50\n",
      "313/313 [==============================] - 19s 60ms/step - loss: 0.4966 - accuracy: 0.8797 - val_loss: 0.8924 - val_accuracy: 0.7865\n",
      "Epoch 15/50\n",
      "313/313 [==============================] - 19s 60ms/step - loss: 0.4769 - accuracy: 0.8876 - val_loss: 0.6174 - val_accuracy: 0.8460\n",
      "Epoch 16/50\n",
      "313/313 [==============================] - 19s 60ms/step - loss: 0.4728 - accuracy: 0.8889 - val_loss: 0.7014 - val_accuracy: 0.8203\n",
      "Epoch 17/50\n",
      "313/313 [==============================] - 19s 59ms/step - loss: 0.4719 - accuracy: 0.8881 - val_loss: 0.7407 - val_accuracy: 0.8098\n",
      "Epoch 18/50\n",
      "313/313 [==============================] - 19s 59ms/step - loss: 0.4620 - accuracy: 0.8913 - val_loss: 0.7413 - val_accuracy: 0.8128\n",
      "Epoch 19/50\n",
      "313/313 [==============================] - 19s 59ms/step - loss: 0.4549 - accuracy: 0.8940 - val_loss: 0.9881 - val_accuracy: 0.7650\n",
      "Epoch 20/50\n",
      "313/313 [==============================] - 19s 59ms/step - loss: 0.4533 - accuracy: 0.8943 - val_loss: 0.7065 - val_accuracy: 0.8203\n",
      "Epoch 21/50\n",
      "313/313 [==============================] - 19s 60ms/step - loss: 0.4510 - accuracy: 0.8949 - val_loss: 0.8117 - val_accuracy: 0.8003\n",
      "Epoch 22/50\n",
      "313/313 [==============================] - 19s 60ms/step - loss: 0.4406 - accuracy: 0.8986 - val_loss: 0.6077 - val_accuracy: 0.8527\n",
      "Epoch 23/50\n",
      "313/313 [==============================] - 19s 60ms/step - loss: 0.4367 - accuracy: 0.9006 - val_loss: 0.6529 - val_accuracy: 0.8422\n",
      "Epoch 24/50\n",
      "313/313 [==============================] - 19s 59ms/step - loss: 0.4322 - accuracy: 0.9013 - val_loss: 0.8248 - val_accuracy: 0.8040\n",
      "Epoch 25/50\n",
      "313/313 [==============================] - 19s 60ms/step - loss: 0.4307 - accuracy: 0.9006 - val_loss: 0.6146 - val_accuracy: 0.8518\n",
      "Epoch 26/50\n",
      "313/313 [==============================] - 19s 60ms/step - loss: 0.4271 - accuracy: 0.9027 - val_loss: 0.7786 - val_accuracy: 0.8130\n",
      "Epoch 27/50\n",
      "313/313 [==============================] - 18s 59ms/step - loss: 0.4176 - accuracy: 0.9066 - val_loss: 0.7321 - val_accuracy: 0.8218\n",
      "Epoch 28/50\n",
      "313/313 [==============================] - 19s 60ms/step - loss: 0.4119 - accuracy: 0.9102 - val_loss: 0.6966 - val_accuracy: 0.8338\n",
      "Epoch 29/50\n",
      "313/313 [==============================] - 19s 60ms/step - loss: 0.4091 - accuracy: 0.9082 - val_loss: 0.7998 - val_accuracy: 0.8130\n",
      "Epoch 30/50\n",
      "313/313 [==============================] - 19s 59ms/step - loss: 0.4090 - accuracy: 0.9104 - val_loss: 0.5957 - val_accuracy: 0.8580\n",
      "Epoch 31/50\n",
      "313/313 [==============================] - 19s 60ms/step - loss: 0.4088 - accuracy: 0.9112 - val_loss: 0.8783 - val_accuracy: 0.7991\n",
      "Epoch 32/50\n",
      "313/313 [==============================] - 19s 60ms/step - loss: 0.4035 - accuracy: 0.9117 - val_loss: 0.6073 - val_accuracy: 0.8578\n",
      "Epoch 33/50\n",
      "313/313 [==============================] - 19s 60ms/step - loss: 0.4004 - accuracy: 0.9125 - val_loss: 0.7368 - val_accuracy: 0.8268\n",
      "Epoch 34/50\n",
      "313/313 [==============================] - 19s 60ms/step - loss: 0.3958 - accuracy: 0.9154 - val_loss: 0.6075 - val_accuracy: 0.8508\n",
      "Epoch 35/50\n",
      "313/313 [==============================] - 19s 60ms/step - loss: 0.3877 - accuracy: 0.9183 - val_loss: 0.7455 - val_accuracy: 0.8257\n",
      "Epoch 36/50\n",
      "313/313 [==============================] - 19s 59ms/step - loss: 0.3874 - accuracy: 0.9172 - val_loss: 0.6437 - val_accuracy: 0.8452\n",
      "Epoch 37/50\n",
      "313/313 [==============================] - 19s 59ms/step - loss: 0.3891 - accuracy: 0.9169 - val_loss: 0.6911 - val_accuracy: 0.8319\n",
      "Epoch 38/50\n",
      "313/313 [==============================] - 19s 59ms/step - loss: 0.3830 - accuracy: 0.9178 - val_loss: 0.6486 - val_accuracy: 0.8502\n",
      "Epoch 39/50\n",
      "313/313 [==============================] - 19s 60ms/step - loss: 0.3834 - accuracy: 0.9203 - val_loss: 0.7474 - val_accuracy: 0.8326\n",
      "Epoch 40/50\n",
      "313/313 [==============================] - 19s 60ms/step - loss: 0.3795 - accuracy: 0.9204 - val_loss: 0.6124 - val_accuracy: 0.8571\n",
      "Epoch 41/50\n",
      "313/313 [==============================] - 18s 59ms/step - loss: 0.3700 - accuracy: 0.9254 - val_loss: 0.7257 - val_accuracy: 0.8310\n",
      "Epoch 42/50\n",
      "313/313 [==============================] - 19s 60ms/step - loss: 0.3761 - accuracy: 0.9208 - val_loss: 0.6140 - val_accuracy: 0.8536\n",
      "Epoch 43/50\n",
      "313/313 [==============================] - 19s 60ms/step - loss: 0.3750 - accuracy: 0.9219 - val_loss: 0.9245 - val_accuracy: 0.7985\n",
      "Epoch 44/50\n",
      "313/313 [==============================] - 18s 59ms/step - loss: 0.3695 - accuracy: 0.9242 - val_loss: 0.7109 - val_accuracy: 0.8340\n",
      "Epoch 45/50\n",
      "313/313 [==============================] - 19s 59ms/step - loss: 0.3620 - accuracy: 0.9276 - val_loss: 0.8532 - val_accuracy: 0.7960\n",
      "Epoch 46/50\n",
      "313/313 [==============================] - 19s 60ms/step - loss: 0.3671 - accuracy: 0.9249 - val_loss: 0.6825 - val_accuracy: 0.8433\n",
      "Epoch 47/50\n",
      "313/313 [==============================] - 19s 60ms/step - loss: 0.3646 - accuracy: 0.9261 - val_loss: 0.9588 - val_accuracy: 0.7757\n",
      "Epoch 48/50\n",
      "313/313 [==============================] - 19s 59ms/step - loss: 0.3620 - accuracy: 0.9269 - val_loss: 0.6414 - val_accuracy: 0.8549\n",
      "Epoch 49/50\n",
      "313/313 [==============================] - 19s 59ms/step - loss: 0.3610 - accuracy: 0.9273 - val_loss: 0.6733 - val_accuracy: 0.8458\n",
      "Epoch 50/50\n",
      "313/313 [==============================] - 19s 60ms/step - loss: 0.3670 - accuracy: 0.9257 - val_loss: 0.5825 - val_accuracy: 0.8664\n"
     ]
    }
   ],
   "source": [
    "history = model.fit(\n",
    "    train_gen,  epochs=50, validation_data=(X_valid, Y_valid),\n",
    "    use_multiprocessing=True,\n",
    "    workers=tf.data.experimental.AUTOTUNE, \n",
    ")"
   ]
  },
  {
   "cell_type": "code",
   "execution_count": 32,
   "metadata": {
    "ExecuteTime": {
     "end_time": "2020-07-31T20:23:24.045489Z",
     "start_time": "2020-07-31T20:23:23.001464Z"
    }
   },
   "outputs": [
    {
     "data": {
      "image/png": "[encoded data removed]",
      "text/plain": [
       "<Figure size 432x288 with 1 Axes>"
      ]
     },
     "metadata": {
      "needs_background": "light"
     },
     "output_type": "display_data"
    },
    {
     "data": {
      "image/png": "[encoded data removed]",
      "text/plain": [
       "<Figure size 432x288 with 1 Axes>"
      ]
     },
     "metadata": {
      "needs_background": "light"
     },
     "output_type": "display_data"
    }
   ],
   "source": [
    "plot_history(history)"
   ]
  },
  {
   "cell_type": "code",
   "execution_count": 33,
   "metadata": {
    "ExecuteTime": {
     "end_time": "2020-07-31T20:23:25.568961Z",
     "start_time": "2020-07-31T20:23:24.047146Z"
    }
   },
   "outputs": [
    {
     "name": "stdout",
     "output_type": "stream",
     "text": [
      "313/313 [==============================] - 1s 4ms/step - loss: 0.6179 - accuracy: 0.8587\n",
      "test data loss:0.62 acc:0.8587\n"
     ]
    }
   ],
   "source": [
    "loss, acc = model.evaluate(X_test, Y_test)\n",
    "print('test data loss:%.2f acc:%.4f' % (loss, acc))"
   ]
  },
  {
   "cell_type": "code",
   "execution_count": null,
   "metadata": {},
   "outputs": [],
   "source": []
  }
 ],
 "metadata": {
  "kernelspec": {
   "display_name": "Python 3",
   "language": "python",
   "name": "python3"
  },
  "language_info": {
   "codemirror_mode": {
    "name": "ipython",
    "version": 3
   },
   "file_extension": ".py",
   "mimetype": "text/x-python",
   "name": "python",
   "nbconvert_exporter": "python",
   "pygments_lexer": "ipython3",
   "version": "3.6.7"
  }
 },
 "nbformat": 4,
 "nbformat_minor": 2
}
