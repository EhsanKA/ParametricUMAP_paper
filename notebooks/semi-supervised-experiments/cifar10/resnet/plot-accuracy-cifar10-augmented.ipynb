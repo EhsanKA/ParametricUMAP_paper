{
 "cells": [
  {
   "cell_type": "code",
   "execution_count": 1,
   "metadata": {
    "ExecuteTime": {
     "end_time": "2020-08-02T05:47:50.079031Z",
     "start_time": "2020-08-02T05:47:48.993084Z"
    }
   },
   "outputs": [],
   "source": [
    "import numpy as np\n",
    "import matplotlib.pyplot as plt\n",
    "from datetime import datetime\n",
    "import pandas as pd"
   ]
  },
  {
   "cell_type": "markdown",
   "metadata": {},
   "source": [
    "### load results\n",
    "- for each "
   ]
  },
  {
   "cell_type": "code",
   "execution_count": 2,
   "metadata": {
    "ExecuteTime": {
     "end_time": "2020-08-02T05:47:50.084232Z",
     "start_time": "2020-08-02T05:47:50.081442Z"
    }
   },
   "outputs": [],
   "source": [
    "# find the most recent"
   ]
  },
  {
   "cell_type": "code",
   "execution_count": 3,
   "metadata": {
    "ExecuteTime": {
     "end_time": "2020-08-02T05:47:50.202694Z",
     "start_time": "2020-08-02T05:47:50.085755Z"
    }
   },
   "outputs": [],
   "source": [
    "from pathlib2 import Path\n",
    "from tfumap.paths import MODEL_DIR"
   ]
  },
  {
   "cell_type": "code",
   "execution_count": 4,
   "metadata": {
    "ExecuteTime": {
     "end_time": "2020-08-02T05:47:50.349838Z",
     "start_time": "2020-08-02T05:47:50.204711Z"
    },
    "scrolled": true
   },
   "outputs": [
    {
     "name": "stdout",
     "output_type": "stream",
     "text": [
      "/mnt/cube/tsainbur/Projects/github_repos/umap_tf_networks/models/semisupervised/cifar10/cifar10_0.0_1024_full____2020_07_31_11_58_12_513181\n",
      "/mnt/cube/tsainbur/Projects/github_repos/umap_tf_networks/models/semisupervised/cifar10/cifar10_0.0_1024_1____2020_07_31_11_58_46_973815\n",
      "/mnt/cube/tsainbur/Projects/github_repos/umap_tf_networks/models/semisupervised/cifar10/cifar10_0.0_1024_4____2020_07_31_17_09_45_295605\n",
      "/mnt/cube/tsainbur/Projects/github_repos/umap_tf_networks/models/semisupervised/cifar10/cifar10_0.0_1024_256____2020_07_31_17_13_18_940447\n",
      "/mnt/cube/tsainbur/Projects/github_repos/umap_tf_networks/models/semisupervised/cifar10/cifar10_0.0_1024_1____2020_07_31_17_42_51_190569\n",
      "/mnt/cube/tsainbur/Projects/github_repos/umap_tf_networks/models/semisupervised/cifar10/cifar10_0.0_1024_1024____2020_07_31_16_09_01_387660\n",
      "/mnt/cube/tsainbur/Projects/github_repos/umap_tf_networks/models/semisupervised/cifar10/cifar10_0.0_1024_1024____2020_07_31_10_12_42_686456\n",
      "/mnt/cube/tsainbur/Projects/github_repos/umap_tf_networks/models/semisupervised/cifar10/cifar10_1.0_1024_1____2020_07_31_23_16_12_117905\n",
      "/mnt/cube/tsainbur/Projects/github_repos/umap_tf_networks/models/semisupervised/cifar10/cifar10_1.0_1024_1____2020_07_31_23_20_16_971845\n",
      "/mnt/cube/tsainbur/Projects/github_repos/umap_tf_networks/models/semisupervised/cifar10/cifar10_1.0_1024_256____2020_07_31_23_28_44_977693\n",
      "/mnt/cube/tsainbur/Projects/github_repos/umap_tf_networks/models/semisupervised/cifar10/cifar10_0.0_1024_1024____2020_07_31_11_33_20_515398\n",
      "/mnt/cube/tsainbur/Projects/github_repos/umap_tf_networks/models/semisupervised/cifar10/cifar10_0.0_1024_1024____2020_07_31_11_57_35_147800\n",
      "/mnt/cube/tsainbur/Projects/github_repos/umap_tf_networks/models/semisupervised/cifar10/aug\n",
      "/mnt/cube/tsainbur/Projects/github_repos/umap_tf_networks/models/semisupervised/cifar10/cifar10_0.0_1024_full____2020_07_31_17_08_19_712572\n",
      "/mnt/cube/tsainbur/Projects/github_repos/umap_tf_networks/models/semisupervised/cifar10/cifar10_0.0_1024_full____2020_07_31_23_38_50_878911\n",
      "/mnt/cube/tsainbur/Projects/github_repos/umap_tf_networks/models/semisupervised/cifar10/cifar10_0.0_1024_1024____2020_07_31_12_00_41_252573\n",
      "/mnt/cube/tsainbur/Projects/github_repos/umap_tf_networks/models/semisupervised/cifar10/cifar10_0.0_1024_64____2020_07_31_17_11_05_811717\n",
      "/mnt/cube/tsainbur/Projects/github_repos/umap_tf_networks/models/semisupervised/cifar10/cifar10_0.0_1024_1024____2020_07_31_10_57_01_987604\n",
      "/mnt/cube/tsainbur/Projects/github_repos/umap_tf_networks/models/semisupervised/cifar10/cifar10_0.0_1024_1024____2020_07_31_11_50_34_800050\n",
      "/mnt/cube/tsainbur/Projects/github_repos/umap_tf_networks/models/semisupervised/cifar10/cifar10_0.0_1024_4____2020_07_31_17_42_46_440651\n",
      "/mnt/cube/tsainbur/Projects/github_repos/umap_tf_networks/models/semisupervised/cifar10/cifar10_0.0_1024_1____2020_07_31_23_11_45_033351\n",
      "/mnt/cube/tsainbur/Projects/github_repos/umap_tf_networks/models/semisupervised/cifar10/cifar10_0.0_1024_16____2020_07_31_17_10_08_950287\n",
      "/mnt/cube/tsainbur/Projects/github_repos/umap_tf_networks/models/semisupervised/cifar10/cifar10_1.0_1024_64____2020_07_31_23_31_00_587082\n",
      "/mnt/cube/tsainbur/Projects/github_repos/umap_tf_networks/models/semisupervised/cifar10/cifar10_1.0_1024_1024____2020_07_31_23_29_10_185850\n",
      "/mnt/cube/tsainbur/Projects/github_repos/umap_tf_networks/models/semisupervised/cifar10/cifar10_1.0_1024_16____2020_07_31_23_27_52_575100\n",
      "/mnt/cube/tsainbur/Projects/github_repos/umap_tf_networks/models/semisupervised/cifar10/cifar10_0.0_1024_16____2020_07_31_17_41_06_036621\n",
      "/mnt/cube/tsainbur/Projects/github_repos/umap_tf_networks/models/semisupervised/cifar10/cifar10_1.0_1024_256____2020_08_01_08_45_34_067655\n",
      "/mnt/cube/tsainbur/Projects/github_repos/umap_tf_networks/models/semisupervised/cifar10/cifar10_1.0_1024_1____2020_07_31_17_47_37_793107\n",
      "/mnt/cube/tsainbur/Projects/github_repos/umap_tf_networks/models/semisupervised/cifar10/old\n",
      "/mnt/cube/tsainbur/Projects/github_repos/umap_tf_networks/models/semisupervised/cifar10/cifar10_1.0_1024_4____2020_07_31_23_27_13_012171\n",
      "/mnt/cube/tsainbur/Projects/github_repos/umap_tf_networks/models/semisupervised/cifar10/cifar10_1.0_1024_1024____2020_08_01_08_45_50_445544\n",
      "/mnt/cube/tsainbur/Projects/github_repos/umap_tf_networks/models/semisupervised/cifar10/cifar10_0.0_1024_16____2020_07_31_17_42_43_175915\n",
      "/mnt/cube/tsainbur/Projects/github_repos/umap_tf_networks/models/semisupervised/cifar10/cifar10_0.0_1024_1____2020_07_31_17_09_12_554802\n",
      "/mnt/cube/tsainbur/Projects/github_repos/umap_tf_networks/models/semisupervised/cifar10/cifar10_0.0_1024_1024____2020_07_31_11_45_13_178920\n"
     ]
    },
    {
     "data": {
      "text/html": [
       "<div>\n",
       "<style scoped>\n",
       "    .dataframe tbody tr th:only-of-type {\n",
       "        vertical-align: middle;\n",
       "    }\n",
       "\n",
       "    .dataframe tbody tr th {\n",
       "        vertical-align: top;\n",
       "    }\n",
       "\n",
       "    .dataframe thead th {\n",
       "        text-align: right;\n",
       "    }\n",
       "</style>\n",
       "<table border=\"1\" class=\"dataframe\">\n",
       "  <thead>\n",
       "    <tr style=\"text-align: right;\">\n",
       "      <th></th>\n",
       "      <th>dataset</th>\n",
       "      <th>labels_per_class</th>\n",
       "      <th>projection_dims</th>\n",
       "      <th>umap_prop</th>\n",
       "      <th>timestamp</th>\n",
       "      <th>location</th>\n",
       "    </tr>\n",
       "  </thead>\n",
       "  <tbody>\n",
       "    <tr>\n",
       "      <th>0</th>\n",
       "      <td>cifar10</td>\n",
       "      <td>16</td>\n",
       "      <td>1024</td>\n",
       "      <td>1.0</td>\n",
       "      <td>2020-08-01 17:41:08.854427</td>\n",
       "      <td>/mnt/cube/tsainbur/Projects/github_repos/umap_...</td>\n",
       "    </tr>\n",
       "    <tr>\n",
       "      <th>1</th>\n",
       "      <td>cifar10</td>\n",
       "      <td>1</td>\n",
       "      <td>1024</td>\n",
       "      <td>0.0</td>\n",
       "      <td>2020-08-01 17:13:01.516326</td>\n",
       "      <td>/mnt/cube/tsainbur/Projects/github_repos/umap_...</td>\n",
       "    </tr>\n",
       "    <tr>\n",
       "      <th>2</th>\n",
       "      <td>cifar10</td>\n",
       "      <td>1024</td>\n",
       "      <td>1024</td>\n",
       "      <td>0.0</td>\n",
       "      <td>2020-07-31 23:46:05.691262</td>\n",
       "      <td>/mnt/cube/tsainbur/Projects/github_repos/umap_...</td>\n",
       "    </tr>\n",
       "    <tr>\n",
       "      <th>3</th>\n",
       "      <td>cifar10</td>\n",
       "      <td>1</td>\n",
       "      <td>1024</td>\n",
       "      <td>1.0</td>\n",
       "      <td>2020-08-01 17:50:08.786179</td>\n",
       "      <td>/mnt/cube/tsainbur/Projects/github_repos/umap_...</td>\n",
       "    </tr>\n",
       "    <tr>\n",
       "      <th>4</th>\n",
       "      <td>cifar10</td>\n",
       "      <td>4</td>\n",
       "      <td>1024</td>\n",
       "      <td>1.0</td>\n",
       "      <td>2020-08-01 17:37:09.358973</td>\n",
       "      <td>/mnt/cube/tsainbur/Projects/github_repos/umap_...</td>\n",
       "    </tr>\n",
       "    <tr>\n",
       "      <th>5</th>\n",
       "      <td>cifar10</td>\n",
       "      <td>4</td>\n",
       "      <td>1024</td>\n",
       "      <td>0.0</td>\n",
       "      <td>2020-07-31 23:46:05.373274</td>\n",
       "      <td>/mnt/cube/tsainbur/Projects/github_repos/umap_...</td>\n",
       "    </tr>\n",
       "    <tr>\n",
       "      <th>6</th>\n",
       "      <td>cifar10</td>\n",
       "      <td>256</td>\n",
       "      <td>1024</td>\n",
       "      <td>1.0</td>\n",
       "      <td>2020-08-01 17:41:43.385324</td>\n",
       "      <td>/mnt/cube/tsainbur/Projects/github_repos/umap_...</td>\n",
       "    </tr>\n",
       "    <tr>\n",
       "      <th>7</th>\n",
       "      <td>cifar10</td>\n",
       "      <td>1024</td>\n",
       "      <td>1024</td>\n",
       "      <td>1.0</td>\n",
       "      <td>2020-08-01 17:37:33.934668</td>\n",
       "      <td>/mnt/cube/tsainbur/Projects/github_repos/umap_...</td>\n",
       "    </tr>\n",
       "    <tr>\n",
       "      <th>8</th>\n",
       "      <td>cifar10</td>\n",
       "      <td>1024</td>\n",
       "      <td>1024</td>\n",
       "      <td>0.0</td>\n",
       "      <td>2020-07-31 23:42:12.718496</td>\n",
       "      <td>/mnt/cube/tsainbur/Projects/github_repos/umap_...</td>\n",
       "    </tr>\n",
       "    <tr>\n",
       "      <th>9</th>\n",
       "      <td>cifar10</td>\n",
       "      <td>full</td>\n",
       "      <td>1024</td>\n",
       "      <td>0.0</td>\n",
       "      <td>2020-07-31 23:46:05.064464</td>\n",
       "      <td>/mnt/cube/tsainbur/Projects/github_repos/umap_...</td>\n",
       "    </tr>\n",
       "    <tr>\n",
       "      <th>10</th>\n",
       "      <td>cifar10</td>\n",
       "      <td>full</td>\n",
       "      <td>1024</td>\n",
       "      <td>0.0</td>\n",
       "      <td>2020-07-31 23:52:29.560829</td>\n",
       "      <td>/mnt/cube/tsainbur/Projects/github_repos/umap_...</td>\n",
       "    </tr>\n",
       "    <tr>\n",
       "      <th>11</th>\n",
       "      <td>cifar10</td>\n",
       "      <td>4</td>\n",
       "      <td>1024</td>\n",
       "      <td>0.0</td>\n",
       "      <td>2020-07-31 23:52:05.128917</td>\n",
       "      <td>/mnt/cube/tsainbur/Projects/github_repos/umap_...</td>\n",
       "    </tr>\n",
       "    <tr>\n",
       "      <th>12</th>\n",
       "      <td>cifar10</td>\n",
       "      <td>64</td>\n",
       "      <td>1024</td>\n",
       "      <td>1.0</td>\n",
       "      <td>2020-08-01 17:42:18.498696</td>\n",
       "      <td>/mnt/cube/tsainbur/Projects/github_repos/umap_...</td>\n",
       "    </tr>\n",
       "    <tr>\n",
       "      <th>13</th>\n",
       "      <td>cifar10</td>\n",
       "      <td>256</td>\n",
       "      <td>1024</td>\n",
       "      <td>0.0</td>\n",
       "      <td>2020-08-01 08:40:18.540610</td>\n",
       "      <td>/mnt/cube/tsainbur/Projects/github_repos/umap_...</td>\n",
       "    </tr>\n",
       "    <tr>\n",
       "      <th>14</th>\n",
       "      <td>cifar10</td>\n",
       "      <td>4</td>\n",
       "      <td>1024</td>\n",
       "      <td>0.0</td>\n",
       "      <td>2020-07-31 23:41:45.286722</td>\n",
       "      <td>/mnt/cube/tsainbur/Projects/github_repos/umap_...</td>\n",
       "    </tr>\n",
       "    <tr>\n",
       "      <th>15</th>\n",
       "      <td>cifar10</td>\n",
       "      <td>16</td>\n",
       "      <td>1024</td>\n",
       "      <td>0.0</td>\n",
       "      <td>2020-08-01 08:39:25.604093</td>\n",
       "      <td>/mnt/cube/tsainbur/Projects/github_repos/umap_...</td>\n",
       "    </tr>\n",
       "    <tr>\n",
       "      <th>16</th>\n",
       "      <td>cifar10</td>\n",
       "      <td>1024</td>\n",
       "      <td>1024</td>\n",
       "      <td>0.0</td>\n",
       "      <td>2020-07-31 23:52:36.427162</td>\n",
       "      <td>/mnt/cube/tsainbur/Projects/github_repos/umap_...</td>\n",
       "    </tr>\n",
       "    <tr>\n",
       "      <th>17</th>\n",
       "      <td>cifar10</td>\n",
       "      <td>1</td>\n",
       "      <td>1024</td>\n",
       "      <td>1.0</td>\n",
       "      <td>2020-08-01 17:44:58.565275</td>\n",
       "      <td>/mnt/cube/tsainbur/Projects/github_repos/umap_...</td>\n",
       "    </tr>\n",
       "    <tr>\n",
       "      <th>18</th>\n",
       "      <td>cifar10</td>\n",
       "      <td>1</td>\n",
       "      <td>1024</td>\n",
       "      <td>0.0</td>\n",
       "      <td>2020-08-01 17:21:58.145193</td>\n",
       "      <td>/mnt/cube/tsainbur/Projects/github_repos/umap_...</td>\n",
       "    </tr>\n",
       "    <tr>\n",
       "      <th>19</th>\n",
       "      <td>cifar10</td>\n",
       "      <td>64</td>\n",
       "      <td>1024</td>\n",
       "      <td>0.0</td>\n",
       "      <td>2020-08-01 08:39:45.034762</td>\n",
       "      <td>/mnt/cube/tsainbur/Projects/github_repos/umap_...</td>\n",
       "    </tr>\n",
       "    <tr>\n",
       "      <th>20</th>\n",
       "      <td>cifar10</td>\n",
       "      <td>full</td>\n",
       "      <td>1024</td>\n",
       "      <td>0.0</td>\n",
       "      <td>2020-07-31 23:38:50.878911</td>\n",
       "      <td>/mnt/cube/tsainbur/Projects/github_repos/umap_...</td>\n",
       "    </tr>\n",
       "  </tbody>\n",
       "</table>\n",
       "</div>"
      ],
      "text/plain": [
       "    dataset labels_per_class projection_dims umap_prop  \\\n",
       "0   cifar10               16            1024       1.0   \n",
       "1   cifar10                1            1024       0.0   \n",
       "2   cifar10             1024            1024       0.0   \n",
       "3   cifar10                1            1024       1.0   \n",
       "4   cifar10                4            1024       1.0   \n",
       "5   cifar10                4            1024       0.0   \n",
       "6   cifar10              256            1024       1.0   \n",
       "7   cifar10             1024            1024       1.0   \n",
       "8   cifar10             1024            1024       0.0   \n",
       "9   cifar10             full            1024       0.0   \n",
       "10  cifar10             full            1024       0.0   \n",
       "11  cifar10                4            1024       0.0   \n",
       "12  cifar10               64            1024       1.0   \n",
       "13  cifar10              256            1024       0.0   \n",
       "14  cifar10                4            1024       0.0   \n",
       "15  cifar10               16            1024       0.0   \n",
       "16  cifar10             1024            1024       0.0   \n",
       "17  cifar10                1            1024       1.0   \n",
       "18  cifar10                1            1024       0.0   \n",
       "19  cifar10               64            1024       0.0   \n",
       "20  cifar10             full            1024       0.0   \n",
       "\n",
       "                    timestamp  \\\n",
       "0  2020-08-01 17:41:08.854427   \n",
       "1  2020-08-01 17:13:01.516326   \n",
       "2  2020-07-31 23:46:05.691262   \n",
       "3  2020-08-01 17:50:08.786179   \n",
       "4  2020-08-01 17:37:09.358973   \n",
       "5  2020-07-31 23:46:05.373274   \n",
       "6  2020-08-01 17:41:43.385324   \n",
       "7  2020-08-01 17:37:33.934668   \n",
       "8  2020-07-31 23:42:12.718496   \n",
       "9  2020-07-31 23:46:05.064464   \n",
       "10 2020-07-31 23:52:29.560829   \n",
       "11 2020-07-31 23:52:05.128917   \n",
       "12 2020-08-01 17:42:18.498696   \n",
       "13 2020-08-01 08:40:18.540610   \n",
       "14 2020-07-31 23:41:45.286722   \n",
       "15 2020-08-01 08:39:25.604093   \n",
       "16 2020-07-31 23:52:36.427162   \n",
       "17 2020-08-01 17:44:58.565275   \n",
       "18 2020-08-01 17:21:58.145193   \n",
       "19 2020-08-01 08:39:45.034762   \n",
       "20 2020-07-31 23:38:50.878911   \n",
       "\n",
       "                                             location  \n",
       "0   /mnt/cube/tsainbur/Projects/github_repos/umap_...  \n",
       "1   /mnt/cube/tsainbur/Projects/github_repos/umap_...  \n",
       "2   /mnt/cube/tsainbur/Projects/github_repos/umap_...  \n",
       "3   /mnt/cube/tsainbur/Projects/github_repos/umap_...  \n",
       "4   /mnt/cube/tsainbur/Projects/github_repos/umap_...  \n",
       "5   /mnt/cube/tsainbur/Projects/github_repos/umap_...  \n",
       "6   /mnt/cube/tsainbur/Projects/github_repos/umap_...  \n",
       "7   /mnt/cube/tsainbur/Projects/github_repos/umap_...  \n",
       "8   /mnt/cube/tsainbur/Projects/github_repos/umap_...  \n",
       "9   /mnt/cube/tsainbur/Projects/github_repos/umap_...  \n",
       "10  /mnt/cube/tsainbur/Projects/github_repos/umap_...  \n",
       "11  /mnt/cube/tsainbur/Projects/github_repos/umap_...  \n",
       "12  /mnt/cube/tsainbur/Projects/github_repos/umap_...  \n",
       "13  /mnt/cube/tsainbur/Projects/github_repos/umap_...  \n",
       "14  /mnt/cube/tsainbur/Projects/github_repos/umap_...  \n",
       "15  /mnt/cube/tsainbur/Projects/github_repos/umap_...  \n",
       "16  /mnt/cube/tsainbur/Projects/github_repos/umap_...  \n",
       "17  /mnt/cube/tsainbur/Projects/github_repos/umap_...  \n",
       "18  /mnt/cube/tsainbur/Projects/github_repos/umap_...  \n",
       "19  /mnt/cube/tsainbur/Projects/github_repos/umap_...  \n",
       "20  /mnt/cube/tsainbur/Projects/github_repos/umap_...  "
      ]
     },
     "execution_count": 4,
     "metadata": {},
     "output_type": "execute_result"
    }
   ],
   "source": [
    "dataset = 'cifar10'\n",
    "\n",
    "saved_networks = list((MODEL_DIR / 'semisupervised' / dataset).glob('*'))\n",
    "location_df = pd.DataFrame(columns=['dataset', 'labels_per_class', 'projection_dims', 'umap_prop', 'timestamp', 'location'])\n",
    "for i in saved_networks:\n",
    "    if len(i.name.split('_')) != 15:\n",
    "        print(i)\n",
    "        continue\n",
    "    ds, umap_prop, projection_dims, labels_per_class, _, _, _, y, m, d,h,m,s,f, _ = i.name.split('_')\n",
    "    timestamp = datetime.strptime('_'.join(i.name.split('_')[-8:-1]), \"%Y_%m_%d_%H_%M_%S_%f\")\n",
    "    location_df.loc[len(location_df)] = [ds, labels_per_class, projection_dims, umap_prop, timestamp, i]\n",
    "location_df  "
   ]
  },
  {
   "cell_type": "markdown",
   "metadata": {},
   "source": [
    "#### grab the relavent results"
   ]
  },
  {
   "cell_type": "code",
   "execution_count": 5,
   "metadata": {
    "ExecuteTime": {
     "end_time": "2020-08-02T05:47:50.355078Z",
     "start_time": "2020-08-02T05:47:50.352089Z"
    }
   },
   "outputs": [],
   "source": [
    "dataset = 'cifar10'\n",
    "\n",
    "label_sizes = [1, 4, 16, 64, 256, 1024]\n",
    "projection_dims = 1024\n",
    "umap_prop_list = [0.0, 1.0]"
   ]
  },
  {
   "cell_type": "code",
   "execution_count": 6,
   "metadata": {
    "ExecuteTime": {
     "end_time": "2020-08-02T05:47:50.544825Z",
     "start_time": "2020-08-02T05:47:50.356748Z"
    }
   },
   "outputs": [],
   "source": [
    "results_df = pd.DataFrame(columns = ['labels_per_class', 'accuracy', 'umap_prop', 'timestamp'])\n",
    "for nex in label_sizes:\n",
    "    for umap_prop in umap_prop_list:\n",
    "        subset_df = location_df[\n",
    "            (location_df.dataset == dataset) & \n",
    "            (location_df.labels_per_class == str(nex)) & \n",
    "            (location_df.projection_dims == str(projection_dims)) & \n",
    "            (location_df.umap_prop == str(umap_prop) ) \n",
    "        ]\n",
    "        \n",
    "        for idx, row in subset_df.sort_values(by='timestamp', ascending=False).iterrows():\n",
    "            acc_list = list(row.location.glob('test_acc.npy'))\n",
    "            if len(acc_list)> 0:\n",
    "                acc = np.load(acc_list[0])\n",
    "                acc = np.mean(acc)\n",
    "                results_df.loc[len(results_df)] = [nex, acc, umap_prop, row.timestamp]\n",
    "                break\n",
    "            "
   ]
  },
  {
   "cell_type": "code",
   "execution_count": 7,
   "metadata": {
    "ExecuteTime": {
     "end_time": "2020-08-02T05:47:50.555295Z",
     "start_time": "2020-08-02T05:47:50.546876Z"
    }
   },
   "outputs": [
    {
     "data": {
      "text/html": [
       "<div>\n",
       "<style scoped>\n",
       "    .dataframe tbody tr th:only-of-type {\n",
       "        vertical-align: middle;\n",
       "    }\n",
       "\n",
       "    .dataframe tbody tr th {\n",
       "        vertical-align: top;\n",
       "    }\n",
       "\n",
       "    .dataframe thead th {\n",
       "        text-align: right;\n",
       "    }\n",
       "</style>\n",
       "<table border=\"1\" class=\"dataframe\">\n",
       "  <thead>\n",
       "    <tr style=\"text-align: right;\">\n",
       "      <th></th>\n",
       "      <th>labels_per_class</th>\n",
       "      <th>accuracy</th>\n",
       "      <th>umap_prop</th>\n",
       "      <th>timestamp</th>\n",
       "    </tr>\n",
       "  </thead>\n",
       "  <tbody>\n",
       "    <tr>\n",
       "      <th>0</th>\n",
       "      <td>1</td>\n",
       "      <td>0.1536</td>\n",
       "      <td>0.0</td>\n",
       "      <td>2020-08-01 17:21:58.145193</td>\n",
       "    </tr>\n",
       "    <tr>\n",
       "      <th>1</th>\n",
       "      <td>1</td>\n",
       "      <td>0.0950</td>\n",
       "      <td>1.0</td>\n",
       "      <td>2020-08-01 17:50:08.786179</td>\n",
       "    </tr>\n",
       "    <tr>\n",
       "      <th>2</th>\n",
       "      <td>4</td>\n",
       "      <td>0.2403</td>\n",
       "      <td>0.0</td>\n",
       "      <td>2020-07-31 23:52:05.128917</td>\n",
       "    </tr>\n",
       "    <tr>\n",
       "      <th>3</th>\n",
       "      <td>4</td>\n",
       "      <td>0.2266</td>\n",
       "      <td>1.0</td>\n",
       "      <td>2020-08-01 17:37:09.358973</td>\n",
       "    </tr>\n",
       "    <tr>\n",
       "      <th>4</th>\n",
       "      <td>16</td>\n",
       "      <td>0.3122</td>\n",
       "      <td>0.0</td>\n",
       "      <td>2020-08-01 08:39:25.604093</td>\n",
       "    </tr>\n",
       "    <tr>\n",
       "      <th>5</th>\n",
       "      <td>16</td>\n",
       "      <td>0.3243</td>\n",
       "      <td>1.0</td>\n",
       "      <td>2020-08-01 17:41:08.854427</td>\n",
       "    </tr>\n",
       "    <tr>\n",
       "      <th>6</th>\n",
       "      <td>64</td>\n",
       "      <td>0.4087</td>\n",
       "      <td>0.0</td>\n",
       "      <td>2020-08-01 08:39:45.034762</td>\n",
       "    </tr>\n",
       "    <tr>\n",
       "      <th>7</th>\n",
       "      <td>64</td>\n",
       "      <td>0.4119</td>\n",
       "      <td>1.0</td>\n",
       "      <td>2020-08-01 17:42:18.498696</td>\n",
       "    </tr>\n",
       "    <tr>\n",
       "      <th>8</th>\n",
       "      <td>256</td>\n",
       "      <td>0.4712</td>\n",
       "      <td>0.0</td>\n",
       "      <td>2020-08-01 08:40:18.540610</td>\n",
       "    </tr>\n",
       "    <tr>\n",
       "      <th>9</th>\n",
       "      <td>256</td>\n",
       "      <td>0.5701</td>\n",
       "      <td>1.0</td>\n",
       "      <td>2020-08-01 17:41:43.385324</td>\n",
       "    </tr>\n",
       "    <tr>\n",
       "      <th>10</th>\n",
       "      <td>1024</td>\n",
       "      <td>0.5533</td>\n",
       "      <td>0.0</td>\n",
       "      <td>2020-07-31 23:52:36.427162</td>\n",
       "    </tr>\n",
       "    <tr>\n",
       "      <th>11</th>\n",
       "      <td>1024</td>\n",
       "      <td>0.5912</td>\n",
       "      <td>1.0</td>\n",
       "      <td>2020-08-01 17:37:33.934668</td>\n",
       "    </tr>\n",
       "  </tbody>\n",
       "</table>\n",
       "</div>"
      ],
      "text/plain": [
       "   labels_per_class  accuracy  umap_prop                  timestamp\n",
       "0                 1    0.1536        0.0 2020-08-01 17:21:58.145193\n",
       "1                 1    0.0950        1.0 2020-08-01 17:50:08.786179\n",
       "2                 4    0.2403        0.0 2020-07-31 23:52:05.128917\n",
       "3                 4    0.2266        1.0 2020-08-01 17:37:09.358973\n",
       "4                16    0.3122        0.0 2020-08-01 08:39:25.604093\n",
       "5                16    0.3243        1.0 2020-08-01 17:41:08.854427\n",
       "6                64    0.4087        0.0 2020-08-01 08:39:45.034762\n",
       "7                64    0.4119        1.0 2020-08-01 17:42:18.498696\n",
       "8               256    0.4712        0.0 2020-08-01 08:40:18.540610\n",
       "9               256    0.5701        1.0 2020-08-01 17:41:43.385324\n",
       "10             1024    0.5533        0.0 2020-07-31 23:52:36.427162\n",
       "11             1024    0.5912        1.0 2020-08-01 17:37:33.934668"
      ]
     },
     "execution_count": 7,
     "metadata": {},
     "output_type": "execute_result"
    }
   ],
   "source": [
    "results_df"
   ]
  },
  {
   "cell_type": "code",
   "execution_count": 8,
   "metadata": {
    "ExecuteTime": {
     "end_time": "2020-08-02T05:47:51.578202Z",
     "start_time": "2020-08-02T05:47:50.557270Z"
    }
   },
   "outputs": [],
   "source": [
    "import seaborn as sns"
   ]
  },
  {
   "cell_type": "code",
   "execution_count": 9,
   "metadata": {
    "ExecuteTime": {
     "end_time": "2020-08-02T05:47:51.590600Z",
     "start_time": "2020-08-02T05:47:51.580187Z"
    }
   },
   "outputs": [
    {
     "name": "stderr",
     "output_type": "stream",
     "text": [
      "/mnt/cube/tsainbur/conda_envs/tpy3/lib/python3.6/site-packages/pandas/core/ops/__init__.py:1115: FutureWarning: elementwise comparison failed; returning scalar instead, but in the future will perform elementwise comparison\n",
      "  result = method(y)\n"
     ]
    },
    {
     "data": {
      "text/html": [
       "<div>\n",
       "<style scoped>\n",
       "    .dataframe tbody tr th:only-of-type {\n",
       "        vertical-align: middle;\n",
       "    }\n",
       "\n",
       "    .dataframe tbody tr th {\n",
       "        vertical-align: top;\n",
       "    }\n",
       "\n",
       "    .dataframe thead th {\n",
       "        text-align: right;\n",
       "    }\n",
       "</style>\n",
       "<table border=\"1\" class=\"dataframe\">\n",
       "  <thead>\n",
       "    <tr style=\"text-align: right;\">\n",
       "      <th></th>\n",
       "      <th>labels_per_class</th>\n",
       "      <th>accuracy</th>\n",
       "      <th>umap_prop</th>\n",
       "      <th>timestamp</th>\n",
       "    </tr>\n",
       "  </thead>\n",
       "  <tbody>\n",
       "  </tbody>\n",
       "</table>\n",
       "</div>"
      ],
      "text/plain": [
       "Empty DataFrame\n",
       "Columns: [labels_per_class, accuracy, umap_prop, timestamp]\n",
       "Index: []"
      ]
     },
     "execution_count": 9,
     "metadata": {},
     "output_type": "execute_result"
    }
   ],
   "source": [
    " results_df[results_df.umap_prop == '0.0']"
   ]
  },
  {
   "cell_type": "code",
   "execution_count": 16,
   "metadata": {
    "ExecuteTime": {
     "end_time": "2020-08-07T22:06:39.234708Z",
     "start_time": "2020-08-07T22:06:39.195144Z"
    }
   },
   "outputs": [
    {
     "data": {
      "image/png": "[encoded data removed]",
      "text/plain": [
       "<Figure size 216x72 with 1 Axes>"
      ]
     },
     "metadata": {
      "needs_background": "light"
     },
     "output_type": "display_data"
    }
   ],
   "source": [
    "pal = sns.color_palette('Set1',3)\n",
    "sns.palplot(pal)"
   ]
  },
  {
   "cell_type": "code",
   "execution_count": 13,
   "metadata": {
    "ExecuteTime": {
     "end_time": "2020-08-04T22:27:35.601076Z",
     "start_time": "2020-08-04T22:27:35.596377Z"
    }
   },
   "outputs": [],
   "source": [
    "from tfumap.paths import DATA_DIR, FIGURE_DIR, ensure_dir, save_fig"
   ]
  },
  {
   "cell_type": "code",
   "execution_count": 17,
   "metadata": {
    "ExecuteTime": {
     "end_time": "2020-08-07T22:07:43.394699Z",
     "start_time": "2020-08-07T22:07:42.688780Z"
    }
   },
   "outputs": [
    {
     "data": {
      "image/png": "[encoded data removed]",
      "text/plain": [
       "<Figure size 360x360 with 1 Axes>"
      ]
     },
     "metadata": {
      "needs_background": "light"
     },
     "output_type": "display_data"
    }
   ],
   "source": [
    "fig, ax = plt.subplots(figsize=(5,5))\n",
    "\n",
    "\n",
    "color = pal[0]\n",
    "nex = results_df[results_df.umap_prop == 0.0].labels_per_class.values.astype('int')\n",
    "acc = results_df[results_df.umap_prop == 0.0].accuracy.values\n",
    "ax.scatter(nex, acc, color=color, s=100)\n",
    "ax.plot(nex, acc, linewidth = 5, alpha = 0.5, ls='dashed', color=color, label = 'Baseline (augmented)')\n",
    "\n",
    "color = pal[1]\n",
    "nex = results_df[results_df.umap_prop == 1.0].labels_per_class.values.astype('int')\n",
    "acc = results_df[results_df.umap_prop == 1.0].accuracy.values\n",
    "ax.scatter(nex, acc, color=color, s=100)\n",
    "ax.plot(nex, acc, linewidth = 5, alpha = 0.5, ls='dashed', color=color, label = '+ UMAP loss (data space)')\n",
    "\n",
    "\n",
    "\n",
    "ax.set_xscale('log')\n",
    "ax.set_ylim([0,1])\n",
    "ax.set_xticks(nex)\n",
    "ax.set_xticklabels([str(i) for i in nex]);\n",
    "ax.set_ylabel('Accuracy', fontsize=16)\n",
    "ax.set_xlabel('Labeled training examples per class', fontsize=16)\n",
    "plt.xticks(fontsize=14)\n",
    "plt.yticks(fontsize=14)\n",
    "[i.set_linewidth(4) for i in ax.spines.values()];\n",
    "leg = ax.legend(fontsize=14)\n",
    "leg.get_frame().set_linewidth(0.0)\n",
    "save_fig(FIGURE_DIR/'cifar10_semisupervised-augmented', save_pdf=True)"
   ]
  },
  {
   "cell_type": "code",
   "execution_count": 12,
   "metadata": {
    "ExecuteTime": {
     "end_time": "2020-08-02T05:47:51.926628Z",
     "start_time": "2020-08-02T05:47:51.924283Z"
    }
   },
   "outputs": [],
   "source": [
    "### plot results "
   ]
  },
  {
   "cell_type": "code",
   "execution_count": null,
   "metadata": {},
   "outputs": [],
   "source": []
  },
  {
   "cell_type": "code",
   "execution_count": null,
   "metadata": {},
   "outputs": [],
   "source": []
  },
  {
   "cell_type": "code",
   "execution_count": null,
   "metadata": {},
   "outputs": [],
   "source": []
  },
  {
   "cell_type": "code",
   "execution_count": null,
   "metadata": {},
   "outputs": [],
   "source": []
  },
  {
   "cell_type": "code",
   "execution_count": null,
   "metadata": {},
   "outputs": [],
   "source": []
  }
 ],
 "metadata": {
  "kernelspec": {
   "display_name": "Python 3",
   "language": "python",
   "name": "python3"
  },
  "language_info": {
   "codemirror_mode": {
    "name": "ipython",
    "version": 3
   },
   "file_extension": ".py",
   "mimetype": "text/x-python",
   "name": "python",
   "nbconvert_exporter": "python",
   "pygments_lexer": "ipython3",
   "version": "3.6.7"
  }
 },
 "nbformat": 4,
 "nbformat_minor": 2
}
