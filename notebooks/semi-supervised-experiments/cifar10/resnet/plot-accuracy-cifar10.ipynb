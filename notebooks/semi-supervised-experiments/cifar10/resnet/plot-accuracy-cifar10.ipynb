{
 "cells": [
  {
   "cell_type": "code",
   "execution_count": 1,
   "metadata": {
    "ExecuteTime": {
     "end_time": "2020-08-02T00:17:33.674503Z",
     "start_time": "2020-08-02T00:17:32.965293Z"
    }
   },
   "outputs": [],
   "source": [
    "import numpy as np\n",
    "import matplotlib.pyplot as plt\n",
    "from datetime import datetime\n",
    "import pandas as pd"
   ]
  },
  {
   "cell_type": "markdown",
   "metadata": {},
   "source": [
    "### load results\n",
    "- for each "
   ]
  },
  {
   "cell_type": "code",
   "execution_count": 2,
   "metadata": {
    "ExecuteTime": {
     "end_time": "2020-08-02T00:17:33.678303Z",
     "start_time": "2020-08-02T00:17:33.676098Z"
    }
   },
   "outputs": [],
   "source": [
    "# find the most recent"
   ]
  },
  {
   "cell_type": "code",
   "execution_count": 3,
   "metadata": {
    "ExecuteTime": {
     "end_time": "2020-08-02T00:17:33.692664Z",
     "start_time": "2020-08-02T00:17:33.679664Z"
    }
   },
   "outputs": [],
   "source": [
    "from pathlib2 import Path\n",
    "from tfumap.paths import MODEL_DIR"
   ]
  },
  {
   "cell_type": "code",
   "execution_count": 1,
   "metadata": {
    "ExecuteTime": {
     "end_time": "2020-08-17T23:17:05.680845Z",
     "start_time": "2020-08-17T23:17:05.619864Z"
    }
   },
   "outputs": [
    {
     "ename": "NameError",
     "evalue": "name 'MODEL_DIR' is not defined",
     "output_type": "error",
     "traceback": [
      "\u001b[0;31m---------------------------------------------------------------------------\u001b[0m",
      "\u001b[0;31mNameError\u001b[0m                                 Traceback (most recent call last)",
      "\u001b[0;32m<ipython-input-1-b32d0dbe160c>\u001b[0m in \u001b[0;36m<module>\u001b[0;34m\u001b[0m\n\u001b[1;32m      1\u001b[0m \u001b[0mdataset\u001b[0m \u001b[0;34m=\u001b[0m \u001b[0;34m'cifar10'\u001b[0m\u001b[0;34m\u001b[0m\u001b[0;34m\u001b[0m\u001b[0m\n\u001b[1;32m      2\u001b[0m \u001b[0;34m\u001b[0m\u001b[0m\n\u001b[0;32m----> 3\u001b[0;31m \u001b[0msaved_networks\u001b[0m \u001b[0;34m=\u001b[0m \u001b[0mlist\u001b[0m\u001b[0;34m(\u001b[0m\u001b[0;34m(\u001b[0m\u001b[0mMODEL_DIR\u001b[0m \u001b[0;34m/\u001b[0m \u001b[0;34m'semisupervised-keras'\u001b[0m \u001b[0;34m/\u001b[0m \u001b[0mdataset\u001b[0m\u001b[0;34m)\u001b[0m\u001b[0;34m.\u001b[0m\u001b[0mglob\u001b[0m\u001b[0;34m(\u001b[0m\u001b[0;34m'*'\u001b[0m\u001b[0;34m)\u001b[0m\u001b[0;34m)\u001b[0m\u001b[0;34m\u001b[0m\u001b[0;34m\u001b[0m\u001b[0m\n\u001b[0m\u001b[1;32m      4\u001b[0m \u001b[0mlocation_df\u001b[0m \u001b[0;34m=\u001b[0m \u001b[0mpd\u001b[0m\u001b[0;34m.\u001b[0m\u001b[0mDataFrame\u001b[0m\u001b[0;34m(\u001b[0m\u001b[0mcolumns\u001b[0m\u001b[0;34m=\u001b[0m\u001b[0;34m[\u001b[0m\u001b[0;34m'dataset'\u001b[0m\u001b[0;34m,\u001b[0m \u001b[0;34m'labels_per_class'\u001b[0m\u001b[0;34m,\u001b[0m \u001b[0;34m'projection_dims'\u001b[0m\u001b[0;34m,\u001b[0m \u001b[0;34m'umap_prop'\u001b[0m\u001b[0;34m,\u001b[0m \u001b[0;34m'timestamp'\u001b[0m\u001b[0;34m,\u001b[0m \u001b[0;34m'location'\u001b[0m\u001b[0;34m]\u001b[0m\u001b[0;34m)\u001b[0m\u001b[0;34m\u001b[0m\u001b[0;34m\u001b[0m\u001b[0m\n\u001b[1;32m      5\u001b[0m \u001b[0;32mfor\u001b[0m \u001b[0mi\u001b[0m \u001b[0;32min\u001b[0m \u001b[0msaved_networks\u001b[0m\u001b[0;34m:\u001b[0m\u001b[0;34m\u001b[0m\u001b[0;34m\u001b[0m\u001b[0m\n",
      "\u001b[0;31mNameError\u001b[0m: name 'MODEL_DIR' is not defined"
     ]
    }
   ],
   "source": [
    "dataset = 'cifar10'\n",
    "\n",
    "saved_networks = list((MODEL_DIR / 'semisupervised' / dataset).glob('*'))\n",
    "location_df = pd.DataFrame(columns=['dataset', 'labels_per_class', 'projection_dims', 'umap_prop', 'timestamp', 'location'])\n",
    "for i in saved_networks:\n",
    "    if len(i.name.split('_')) != 14:\n",
    "        print(i)\n",
    "        continue\n",
    "    ds, umap_prop, projection_dims, labels_per_class, _, _, _, y, m, d,h,m,s,f = i.name.split('_')\n",
    "    timestamp = datetime.strptime('_'.join(i.name.split('_')[-7:]), \"%Y_%m_%d_%H_%M_%S_%f\")\n",
    "    location_df.loc[len(location_df)] = [ds, labels_per_class, projection_dims, umap_prop, timestamp, i]\n",
    "location_df  "
   ]
  },
  {
   "cell_type": "markdown",
   "metadata": {},
   "source": [
    "#### grab the relavent results"
   ]
  },
  {
   "cell_type": "code",
   "execution_count": 5,
   "metadata": {
    "ExecuteTime": {
     "end_time": "2020-08-02T00:17:33.816377Z",
     "start_time": "2020-08-02T00:17:33.813939Z"
    }
   },
   "outputs": [],
   "source": [
    "dataset = 'cifar10'\n",
    "\n",
    "label_sizes = [1, 4, 16, 64, 256, 1024]\n",
    "projection_dims = 1024\n",
    "umap_prop_list = [0.0, 1.0]"
   ]
  },
  {
   "cell_type": "code",
   "execution_count": 6,
   "metadata": {
    "ExecuteTime": {
     "end_time": "2020-08-02T00:17:33.909515Z",
     "start_time": "2020-08-02T00:17:33.817543Z"
    }
   },
   "outputs": [],
   "source": [
    "results_df = pd.DataFrame(columns = ['labels_per_class', 'accuracy', 'umap_prop', 'timestamp'])\n",
    "for nex in label_sizes:\n",
    "    for umap_prop in umap_prop_list:\n",
    "        subset_df = location_df[\n",
    "            (location_df.dataset == dataset) & \n",
    "            (location_df.labels_per_class == str(nex)) & \n",
    "            (location_df.projection_dims == str(projection_dims)) & \n",
    "            (location_df.umap_prop == str(umap_prop) ) \n",
    "        ]\n",
    "        \n",
    "        for idx, row in subset_df.sort_values(by='timestamp', ascending=False).iterrows():\n",
    "            acc_list = list(row.location.glob('test_acc.npy'))\n",
    "            if len(acc_list)> 0:\n",
    "                acc = np.load(acc_list[0])\n",
    "                acc = np.mean(acc)\n",
    "                results_df.loc[len(results_df)] = [nex, acc, umap_prop, row.timestamp]\n",
    "                break\n",
    "            "
   ]
  },
  {
   "cell_type": "code",
   "execution_count": 7,
   "metadata": {
    "ExecuteTime": {
     "end_time": "2020-08-02T00:17:33.918743Z",
     "start_time": "2020-08-02T00:17:33.910764Z"
    }
   },
   "outputs": [
    {
     "data": {
      "text/html": [
       "<div>\n",
       "<style scoped>\n",
       "    .dataframe tbody tr th:only-of-type {\n",
       "        vertical-align: middle;\n",
       "    }\n",
       "\n",
       "    .dataframe tbody tr th {\n",
       "        vertical-align: top;\n",
       "    }\n",
       "\n",
       "    .dataframe thead th {\n",
       "        text-align: right;\n",
       "    }\n",
       "</style>\n",
       "<table border=\"1\" class=\"dataframe\">\n",
       "  <thead>\n",
       "    <tr style=\"text-align: right;\">\n",
       "      <th></th>\n",
       "      <th>labels_per_class</th>\n",
       "      <th>accuracy</th>\n",
       "      <th>umap_prop</th>\n",
       "      <th>timestamp</th>\n",
       "    </tr>\n",
       "  </thead>\n",
       "  <tbody>\n",
       "    <tr>\n",
       "      <th>0</th>\n",
       "      <td>1</td>\n",
       "      <td>0.1838</td>\n",
       "      <td>0.0</td>\n",
       "      <td>2020-07-31 23:11:45.033351</td>\n",
       "    </tr>\n",
       "    <tr>\n",
       "      <th>1</th>\n",
       "      <td>1</td>\n",
       "      <td>0.1000</td>\n",
       "      <td>1.0</td>\n",
       "      <td>2020-07-31 17:47:37.793107</td>\n",
       "    </tr>\n",
       "    <tr>\n",
       "      <th>2</th>\n",
       "      <td>4</td>\n",
       "      <td>0.1774</td>\n",
       "      <td>0.0</td>\n",
       "      <td>2020-07-31 17:42:46.440651</td>\n",
       "    </tr>\n",
       "    <tr>\n",
       "      <th>3</th>\n",
       "      <td>4</td>\n",
       "      <td>0.1755</td>\n",
       "      <td>1.0</td>\n",
       "      <td>2020-07-31 23:27:13.012171</td>\n",
       "    </tr>\n",
       "    <tr>\n",
       "      <th>4</th>\n",
       "      <td>16</td>\n",
       "      <td>0.2919</td>\n",
       "      <td>0.0</td>\n",
       "      <td>2020-07-31 17:42:43.175915</td>\n",
       "    </tr>\n",
       "    <tr>\n",
       "      <th>5</th>\n",
       "      <td>16</td>\n",
       "      <td>0.2474</td>\n",
       "      <td>1.0</td>\n",
       "      <td>2020-07-31 23:27:52.575100</td>\n",
       "    </tr>\n",
       "    <tr>\n",
       "      <th>6</th>\n",
       "      <td>64</td>\n",
       "      <td>0.3174</td>\n",
       "      <td>0.0</td>\n",
       "      <td>2020-07-31 17:11:05.811717</td>\n",
       "    </tr>\n",
       "    <tr>\n",
       "      <th>7</th>\n",
       "      <td>64</td>\n",
       "      <td>0.3158</td>\n",
       "      <td>1.0</td>\n",
       "      <td>2020-07-31 23:31:00.587082</td>\n",
       "    </tr>\n",
       "    <tr>\n",
       "      <th>8</th>\n",
       "      <td>256</td>\n",
       "      <td>0.3926</td>\n",
       "      <td>0.0</td>\n",
       "      <td>2020-07-31 17:13:18.940447</td>\n",
       "    </tr>\n",
       "    <tr>\n",
       "      <th>9</th>\n",
       "      <td>256</td>\n",
       "      <td>0.4360</td>\n",
       "      <td>1.0</td>\n",
       "      <td>2020-08-01 08:45:34.067655</td>\n",
       "    </tr>\n",
       "    <tr>\n",
       "      <th>10</th>\n",
       "      <td>1024</td>\n",
       "      <td>0.5624</td>\n",
       "      <td>0.0</td>\n",
       "      <td>2020-07-31 16:09:01.387660</td>\n",
       "    </tr>\n",
       "    <tr>\n",
       "      <th>11</th>\n",
       "      <td>1024</td>\n",
       "      <td>0.5380</td>\n",
       "      <td>1.0</td>\n",
       "      <td>2020-08-01 08:45:50.445544</td>\n",
       "    </tr>\n",
       "  </tbody>\n",
       "</table>\n",
       "</div>"
      ],
      "text/plain": [
       "   labels_per_class  accuracy  umap_prop                  timestamp\n",
       "0                 1    0.1838        0.0 2020-07-31 23:11:45.033351\n",
       "1                 1    0.1000        1.0 2020-07-31 17:47:37.793107\n",
       "2                 4    0.1774        0.0 2020-07-31 17:42:46.440651\n",
       "3                 4    0.1755        1.0 2020-07-31 23:27:13.012171\n",
       "4                16    0.2919        0.0 2020-07-31 17:42:43.175915\n",
       "5                16    0.2474        1.0 2020-07-31 23:27:52.575100\n",
       "6                64    0.3174        0.0 2020-07-31 17:11:05.811717\n",
       "7                64    0.3158        1.0 2020-07-31 23:31:00.587082\n",
       "8               256    0.3926        0.0 2020-07-31 17:13:18.940447\n",
       "9               256    0.4360        1.0 2020-08-01 08:45:34.067655\n",
       "10             1024    0.5624        0.0 2020-07-31 16:09:01.387660\n",
       "11             1024    0.5380        1.0 2020-08-01 08:45:50.445544"
      ]
     },
     "execution_count": 7,
     "metadata": {},
     "output_type": "execute_result"
    }
   ],
   "source": [
    "results_df"
   ]
  },
  {
   "cell_type": "code",
   "execution_count": 8,
   "metadata": {
    "ExecuteTime": {
     "end_time": "2020-08-02T00:17:34.359665Z",
     "start_time": "2020-08-02T00:17:33.920508Z"
    }
   },
   "outputs": [],
   "source": [
    "import seaborn as sns"
   ]
  },
  {
   "cell_type": "code",
   "execution_count": 9,
   "metadata": {
    "ExecuteTime": {
     "end_time": "2020-08-02T00:17:34.367509Z",
     "start_time": "2020-08-02T00:17:34.360820Z"
    }
   },
   "outputs": [
    {
     "name": "stderr",
     "output_type": "stream",
     "text": [
      "/mnt/cube/tsainbur/conda_envs/tpy3/lib/python3.6/site-packages/pandas/core/ops/__init__.py:1115: FutureWarning: elementwise comparison failed; returning scalar instead, but in the future will perform elementwise comparison\n",
      "  result = method(y)\n"
     ]
    },
    {
     "data": {
      "text/html": [
       "<div>\n",
       "<style scoped>\n",
       "    .dataframe tbody tr th:only-of-type {\n",
       "        vertical-align: middle;\n",
       "    }\n",
       "\n",
       "    .dataframe tbody tr th {\n",
       "        vertical-align: top;\n",
       "    }\n",
       "\n",
       "    .dataframe thead th {\n",
       "        text-align: right;\n",
       "    }\n",
       "</style>\n",
       "<table border=\"1\" class=\"dataframe\">\n",
       "  <thead>\n",
       "    <tr style=\"text-align: right;\">\n",
       "      <th></th>\n",
       "      <th>labels_per_class</th>\n",
       "      <th>accuracy</th>\n",
       "      <th>umap_prop</th>\n",
       "      <th>timestamp</th>\n",
       "    </tr>\n",
       "  </thead>\n",
       "  <tbody>\n",
       "  </tbody>\n",
       "</table>\n",
       "</div>"
      ],
      "text/plain": [
       "Empty DataFrame\n",
       "Columns: [labels_per_class, accuracy, umap_prop, timestamp]\n",
       "Index: []"
      ]
     },
     "execution_count": 9,
     "metadata": {},
     "output_type": "execute_result"
    }
   ],
   "source": [
    " results_df[results_df.umap_prop == '0.0']"
   ]
  },
  {
   "cell_type": "code",
   "execution_count": 10,
   "metadata": {
    "ExecuteTime": {
     "end_time": "2020-08-02T00:17:34.472779Z",
     "start_time": "2020-08-02T00:17:34.368454Z"
    }
   },
   "outputs": [
    {
     "data": {
      "image/png": "[encoded data removed]",
      "text/plain": [
       "<Figure size 144x72 with 1 Axes>"
      ]
     },
     "metadata": {
      "needs_background": "light"
     },
     "output_type": "display_data"
    }
   ],
   "source": [
    "pal = sns.color_palette('Set1',2)\n",
    "sns.palplot(pal)"
   ]
  },
  {
   "cell_type": "code",
   "execution_count": 14,
   "metadata": {
    "ExecuteTime": {
     "end_time": "2020-08-04T22:27:28.235857Z",
     "start_time": "2020-08-04T22:27:28.231059Z"
    }
   },
   "outputs": [],
   "source": [
    "from tfumap.paths import DATA_DIR, FIGURE_DIR, ensure_dir, save_fig"
   ]
  },
  {
   "cell_type": "code",
   "execution_count": 15,
   "metadata": {
    "ExecuteTime": {
     "end_time": "2020-08-04T22:27:29.161660Z",
     "start_time": "2020-08-04T22:27:28.386896Z"
    }
   },
   "outputs": [
    {
     "data": {
      "image/png": "[encoded data removed]",
      "text/plain": [
       "<Figure size 360x360 with 1 Axes>"
      ]
     },
     "metadata": {
      "needs_background": "light"
     },
     "output_type": "display_data"
    }
   ],
   "source": [
    "fig, ax = plt.subplots(figsize=(5,5))\n",
    "\n",
    "\n",
    "color = pal[1]\n",
    "nex = results_df[results_df.umap_prop == 1.0].labels_per_class.values.astype('int')\n",
    "acc = results_df[results_df.umap_prop == 1.0].accuracy.values\n",
    "ax.scatter(nex, acc, color=color, s=100)\n",
    "ax.plot(nex, acc, linewidth = 5, alpha = 0.5, color=color, label = 'With UMAP loss')\n",
    "\n",
    "color = pal[0]\n",
    "nex = results_df[results_df.umap_prop == 0.0].labels_per_class.values.astype('int')\n",
    "acc = results_df[results_df.umap_prop == 0.0].accuracy.values\n",
    "ax.scatter(nex, acc, color=color, s=100)\n",
    "ax.plot(nex, acc, linewidth = 5, alpha = 0.5, color=color, label = 'Without UMAP loss')\n",
    "\n",
    "ax.set_xscale('log')\n",
    "ax.set_ylim([0,1])\n",
    "ax.set_xticks(nex)\n",
    "ax.set_xticklabels([str(i) for i in nex]);\n",
    "ax.set_ylabel('Accuracy', fontsize=16)\n",
    "ax.set_xlabel('Labeled training examples per class', fontsize=16)\n",
    "plt.xticks(fontsize=14)\n",
    "plt.yticks(fontsize=14)\n",
    "[i.set_linewidth(4) for i in ax.spines.values()];\n",
    "leg = ax.legend(fontsize=14)\n",
    "leg.get_frame().set_linewidth(0.0)\n",
    "save_fig(FIGURE_DIR/'cifar10_semisupervised', save_pdf=True)"
   ]
  },
  {
   "cell_type": "code",
   "execution_count": 12,
   "metadata": {
    "ExecuteTime": {
     "end_time": "2020-08-02T00:17:34.743195Z",
     "start_time": "2020-08-02T00:17:34.740858Z"
    }
   },
   "outputs": [],
   "source": [
    "### plot results "
   ]
  },
  {
   "cell_type": "code",
   "execution_count": null,
   "metadata": {},
   "outputs": [],
   "source": []
  },
  {
   "cell_type": "code",
   "execution_count": null,
   "metadata": {},
   "outputs": [],
   "source": []
  }
 ],
 "metadata": {
  "kernelspec": {
   "display_name": "Python 3",
   "language": "python",
   "name": "python3"
  },
  "language_info": {
   "codemirror_mode": {
    "name": "ipython",
    "version": 3
   },
   "file_extension": ".py",
   "mimetype": "text/x-python",
   "name": "python",
   "nbconvert_exporter": "python",
   "pygments_lexer": "ipython3",
   "version": "3.6.7"
  }
 },
 "nbformat": 4,
 "nbformat_minor": 2
}
