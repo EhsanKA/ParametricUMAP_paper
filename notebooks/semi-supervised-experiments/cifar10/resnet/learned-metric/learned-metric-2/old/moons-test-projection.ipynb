{
 "cells": [
  {
   "cell_type": "markdown",
   "metadata": {},
   "source": [
    "- make a classifier network that is as similar as possible to the umap subclass"
   ]
  },
  {
   "cell_type": "code",
   "execution_count": 1,
   "metadata": {
    "ExecuteTime": {
     "end_time": "2020-08-06T18:35:54.768161Z",
     "start_time": "2020-08-06T18:35:54.755249Z"
    }
   },
   "outputs": [],
   "source": [
    "# reload packages\n",
    "%load_ext autoreload\n",
    "%autoreload 2"
   ]
  },
  {
   "cell_type": "markdown",
   "metadata": {},
   "source": [
    "### Choose GPU"
   ]
  },
  {
   "cell_type": "code",
   "execution_count": 2,
   "metadata": {
    "ExecuteTime": {
     "end_time": "2020-08-06T18:35:54.787921Z",
     "start_time": "2020-08-06T18:35:54.769486Z"
    }
   },
   "outputs": [
    {
     "name": "stdout",
     "output_type": "stream",
     "text": [
      "env: CUDA_DEVICE_ORDER=PCI_BUS_ID\n",
      "env: CUDA_VISIBLE_DEVICES=0\n"
     ]
    }
   ],
   "source": [
    "%env CUDA_DEVICE_ORDER=PCI_BUS_ID\n",
    "%env CUDA_VISIBLE_DEVICES=0"
   ]
  },
  {
   "cell_type": "code",
   "execution_count": 3,
   "metadata": {
    "ExecuteTime": {
     "end_time": "2020-08-06T18:35:59.782731Z",
     "start_time": "2020-08-06T18:35:54.790303Z"
    }
   },
   "outputs": [
    {
     "name": "stdout",
     "output_type": "stream",
     "text": [
      "[PhysicalDevice(name='/physical_device:GPU:0', device_type='GPU')]\n"
     ]
    }
   ],
   "source": [
    "import tensorflow as tf\n",
    "gpu_devices = tf.config.experimental.list_physical_devices('GPU')\n",
    "if len(gpu_devices)>0:\n",
    "    tf.config.experimental.set_memory_growth(gpu_devices[0], True)\n",
    "print(gpu_devices)"
   ]
  },
  {
   "cell_type": "markdown",
   "metadata": {},
   "source": [
    "### Load packages"
   ]
  },
  {
   "cell_type": "code",
   "execution_count": 4,
   "metadata": {
    "ExecuteTime": {
     "end_time": "2020-08-06T18:36:05.639495Z",
     "start_time": "2020-08-06T18:35:59.785266Z"
    }
   },
   "outputs": [
    {
     "name": "stderr",
     "output_type": "stream",
     "text": [
      "/mnt/cube/tsainbur/conda_envs/tpy3/lib/python3.6/site-packages/tqdm/autonotebook/__init__.py:14: TqdmExperimentalWarning: Using `tqdm.autonotebook.tqdm` in notebook mode. Use `tqdm.tqdm` instead to force console mode (e.g. in jupyter console)\n",
      "  \" (e.g. in jupyter console)\", TqdmExperimentalWarning)\n"
     ]
    }
   ],
   "source": [
    "import tensorflow as tf\n",
    "import numpy as np\n",
    "import matplotlib.pyplot as plt\n",
    "from tqdm.autonotebook import tqdm\n",
    "from IPython import display\n",
    "import pandas as pd\n",
    "import umap\n",
    "import copy\n",
    "import os, tempfile\n",
    "from datetime import datetime\n"
   ]
  },
  {
   "cell_type": "markdown",
   "metadata": {},
   "source": [
    "### Load dataset"
   ]
  },
  {
   "cell_type": "code",
   "execution_count": 5,
   "metadata": {
    "ExecuteTime": {
     "end_time": "2020-08-06T18:36:05.797877Z",
     "start_time": "2020-08-06T18:36:05.640899Z"
    }
   },
   "outputs": [],
   "source": [
    "from tfumap.load_datasets import load_MOONS, mask_labels"
   ]
  },
  {
   "cell_type": "code",
   "execution_count": 6,
   "metadata": {
    "ExecuteTime": {
     "end_time": "2020-08-06T18:36:05.838877Z",
     "start_time": "2020-08-06T18:36:05.799186Z"
    }
   },
   "outputs": [],
   "source": [
    "X_train, X_test, X_valid, Y_train, Y_test, Y_valid = load_MOONS(noise= 0.1, random_state = 1)"
   ]
  },
  {
   "cell_type": "code",
   "execution_count": 7,
   "metadata": {
    "ExecuteTime": {
     "end_time": "2020-08-06T18:36:05.874471Z",
     "start_time": "2020-08-06T18:36:05.840768Z"
    }
   },
   "outputs": [],
   "source": [
    "from sklearn.datasets import make_blobs"
   ]
  },
  {
   "cell_type": "code",
   "execution_count": 8,
   "metadata": {
    "ExecuteTime": {
     "end_time": "2020-08-06T18:36:05.915965Z",
     "start_time": "2020-08-06T18:36:05.875709Z"
    }
   },
   "outputs": [
    {
     "data": {
      "text/plain": [
       "array([0, 1, 2])"
      ]
     },
     "execution_count": 8,
     "metadata": {},
     "output_type": "execute_result"
    }
   ],
   "source": [
    "X_train, Y_train = make_blobs(n_samples = 1000, n_features = 2, random_state = 1)\n",
    "np.unique(Y_train)"
   ]
  },
  {
   "cell_type": "code",
   "execution_count": 9,
   "metadata": {
    "ExecuteTime": {
     "end_time": "2020-08-06T18:36:05.951165Z",
     "start_time": "2020-08-06T18:36:05.916904Z"
    }
   },
   "outputs": [],
   "source": [
    "def norm(x): \n",
    "    return (x - np.min(x)) / (np.max(x) - np.min(x))\n",
    "X_train = norm(X_train)"
   ]
  },
  {
   "cell_type": "code",
   "execution_count": 10,
   "metadata": {
    "ExecuteTime": {
     "end_time": "2020-08-06T18:36:05.982734Z",
     "start_time": "2020-08-06T18:36:05.952051Z"
    }
   },
   "outputs": [],
   "source": [
    "labels_per_class = 3\n",
    "X_labeled, Y_labeled, Y_masked = mask_labels(X_train, Y_train, labels_per_class = labels_per_class)"
   ]
  },
  {
   "cell_type": "code",
   "execution_count": 11,
   "metadata": {
    "ExecuteTime": {
     "end_time": "2020-08-06T18:36:06.175040Z",
     "start_time": "2020-08-06T18:36:05.983612Z"
    }
   },
   "outputs": [
    {
     "data": {
      "text/plain": [
       "(1000, 9, 1000)"
      ]
     },
     "execution_count": 11,
     "metadata": {},
     "output_type": "execute_result"
    },
    {
     "data": {
      "image/png": "[encoded data removed]",
      "text/plain": [
       "<Figure size 432x288 with 1 Axes>"
      ]
     },
     "metadata": {
      "needs_background": "light"
     },
     "output_type": "display_data"
    }
   ],
   "source": [
    "plt.scatter(X_train[:,0], X_train[:,1], color='#CCCCCC', s=5)\n",
    "plt.scatter(X_labeled[:,0], X_labeled[:,1], c=Y_labeled, cmap = plt.cm.tab10)\n",
    "len(X_train), len(X_labeled), len(X_valid)"
   ]
  },
  {
   "cell_type": "code",
   "execution_count": 12,
   "metadata": {
    "ExecuteTime": {
     "end_time": "2020-08-06T18:36:06.219358Z",
     "start_time": "2020-08-06T18:36:06.176869Z"
    }
   },
   "outputs": [],
   "source": [
    "from umap import UMAP"
   ]
  },
  {
   "cell_type": "code",
   "execution_count": 13,
   "metadata": {
    "ExecuteTime": {
     "end_time": "2020-08-06T18:36:21.320079Z",
     "start_time": "2020-08-06T18:36:06.220461Z"
    }
   },
   "outputs": [],
   "source": [
    "embedder = UMAP()\n",
    "z_train = embedder.fit_transform(X_train)\n",
    "z_labeled = embedder.transform(X_labeled)"
   ]
  },
  {
   "cell_type": "code",
   "execution_count": 14,
   "metadata": {
    "ExecuteTime": {
     "end_time": "2020-08-06T18:36:21.465012Z",
     "start_time": "2020-08-06T18:36:21.321543Z"
    }
   },
   "outputs": [
    {
     "data": {
      "text/plain": [
       "(1000, 9, 1000)"
      ]
     },
     "execution_count": 14,
     "metadata": {},
     "output_type": "execute_result"
    },
    {
     "data": {
      "image/png": "[encoded data removed]",
      "text/plain": [
       "<Figure size 432x288 with 1 Axes>"
      ]
     },
     "metadata": {
      "needs_background": "light"
     },
     "output_type": "display_data"
    }
   ],
   "source": [
    "plt.scatter(z_train[:,0], z_train[:,1], color='#CCCCCC', s=5)\n",
    "plt.scatter(z_labeled[:,0], z_labeled[:,1], c=Y_labeled, cmap = plt.cm.tab10)\n",
    "len(X_train), len(X_labeled), len(X_valid)"
   ]
  },
  {
   "cell_type": "markdown",
   "metadata": {},
   "source": [
    "### add noise"
   ]
  },
  {
   "cell_type": "code",
   "execution_count": 15,
   "metadata": {
    "ExecuteTime": {
     "end_time": "2020-08-06T18:36:21.507428Z",
     "start_time": "2020-08-06T18:36:21.466350Z"
    }
   },
   "outputs": [],
   "source": [
    "n_dims = 50\n",
    "train_noise = np.random.uniform(-1, 1, size=(len(X_train), n_dims))\n",
    "label_noise = np.random.uniform(-1, 1, size=(len(X_labeled), n_dims))\n",
    "X_train = np.concatenate([X_train[:,:2], train_noise], axis=1)\n",
    "X_labeled = np.concatenate([X_labeled[:,:2], label_noise], axis=1)"
   ]
  },
  {
   "cell_type": "code",
   "execution_count": 16,
   "metadata": {
    "ExecuteTime": {
     "end_time": "2020-08-06T18:36:21.544945Z",
     "start_time": "2020-08-06T18:36:21.508847Z"
    }
   },
   "outputs": [],
   "source": [
    "from umap import UMAP"
   ]
  },
  {
   "cell_type": "code",
   "execution_count": 17,
   "metadata": {
    "ExecuteTime": {
     "end_time": "2020-08-06T18:36:26.566924Z",
     "start_time": "2020-08-06T18:36:21.546160Z"
    }
   },
   "outputs": [],
   "source": [
    "embedder = UMAP()\n",
    "emb = embedder.fit_transform(np.vstack([X_train, X_labeled]))\n",
    "z_train = emb[:len(X_train)]\n",
    "z_labeled = emb[len(X_train):]"
   ]
  },
  {
   "cell_type": "code",
   "execution_count": 18,
   "metadata": {
    "ExecuteTime": {
     "end_time": "2020-08-06T18:36:26.725989Z",
     "start_time": "2020-08-06T18:36:26.569013Z"
    }
   },
   "outputs": [
    {
     "data": {
      "text/plain": [
       "(1000, 9, 1000)"
      ]
     },
     "execution_count": 18,
     "metadata": {},
     "output_type": "execute_result"
    },
    {
     "data": {
      "image/png": "[encoded data removed]",
      "text/plain": [
       "<Figure size 432x288 with 1 Axes>"
      ]
     },
     "metadata": {
      "needs_background": "light"
     },
     "output_type": "display_data"
    }
   ],
   "source": [
    "plt.scatter(z_train[:,0], z_train[:,1], color='#CCCCCC', s=5)\n",
    "plt.scatter(z_labeled[:,0], z_labeled[:,1], c=Y_labeled, cmap = plt.cm.tab10)\n",
    "len(X_train), len(X_labeled), len(X_valid)"
   ]
  },
  {
   "cell_type": "markdown",
   "metadata": {},
   "source": [
    "### LDA on data"
   ]
  },
  {
   "cell_type": "code",
   "execution_count": 19,
   "metadata": {
    "ExecuteTime": {
     "end_time": "2020-08-06T18:36:26.780382Z",
     "start_time": "2020-08-06T18:36:26.727617Z"
    }
   },
   "outputs": [],
   "source": [
    "from sklearn.discriminant_analysis import LinearDiscriminantAnalysis"
   ]
  },
  {
   "cell_type": "code",
   "execution_count": 20,
   "metadata": {
    "ExecuteTime": {
     "end_time": "2020-08-06T18:36:26.826432Z",
     "start_time": "2020-08-06T18:36:26.782527Z"
    }
   },
   "outputs": [],
   "source": [
    "clf = LinearDiscriminantAnalysis(n_components=2)"
   ]
  },
  {
   "cell_type": "code",
   "execution_count": 21,
   "metadata": {
    "ExecuteTime": {
     "end_time": "2020-08-06T18:36:26.869441Z",
     "start_time": "2020-08-06T18:36:26.828182Z"
    }
   },
   "outputs": [
    {
     "data": {
      "text/plain": [
       "LinearDiscriminantAnalysis(n_components=2)"
      ]
     },
     "execution_count": 21,
     "metadata": {},
     "output_type": "execute_result"
    }
   ],
   "source": [
    "clf.fit(X_labeled, Y_labeled)"
   ]
  },
  {
   "cell_type": "code",
   "execution_count": 22,
   "metadata": {
    "ExecuteTime": {
     "end_time": "2020-08-06T18:36:26.918939Z",
     "start_time": "2020-08-06T18:36:26.872684Z"
    }
   },
   "outputs": [],
   "source": [
    "lda_train = clf.transform(X_train)\n",
    "lda_labeled = clf.transform(X_labeled)"
   ]
  },
  {
   "cell_type": "code",
   "execution_count": 23,
   "metadata": {
    "ExecuteTime": {
     "end_time": "2020-08-06T18:36:26.963964Z",
     "start_time": "2020-08-06T18:36:26.920672Z"
    }
   },
   "outputs": [
    {
     "data": {
      "text/plain": [
       "(1000, 2)"
      ]
     },
     "execution_count": 23,
     "metadata": {},
     "output_type": "execute_result"
    }
   ],
   "source": [
    "lda_train.shape"
   ]
  },
  {
   "cell_type": "code",
   "execution_count": 24,
   "metadata": {
    "ExecuteTime": {
     "end_time": "2020-08-06T18:36:27.119262Z",
     "start_time": "2020-08-06T18:36:26.965393Z"
    }
   },
   "outputs": [
    {
     "data": {
      "text/plain": [
       "<matplotlib.collections.PathCollection at 0x7f6e847c2470>"
      ]
     },
     "execution_count": 24,
     "metadata": {},
     "output_type": "execute_result"
    },
    {
     "data": {
      "image/png": "[encoded data removed]",
      "text/plain": [
       "<Figure size 432x288 with 1 Axes>"
      ]
     },
     "metadata": {
      "needs_background": "light"
     },
     "output_type": "display_data"
    }
   ],
   "source": [
    "plt.scatter(lda_train[:,0], lda_train[:,1], color='#CCCCCC', s=5)\n",
    "plt.scatter(lda_labeled[:,0], lda_labeled[:,1], c=Y_labeled, cmap = plt.cm.tab10)"
   ]
  },
  {
   "cell_type": "code",
   "execution_count": null,
   "metadata": {},
   "outputs": [],
   "source": []
  }
 ],
 "metadata": {
  "kernelspec": {
   "display_name": "Python 3",
   "language": "python",
   "name": "python3"
  },
  "language_info": {
   "codemirror_mode": {
    "name": "ipython",
    "version": 3
   },
   "file_extension": ".py",
   "mimetype": "text/x-python",
   "name": "python",
   "nbconvert_exporter": "python",
   "pygments_lexer": "ipython3",
   "version": "3.6.7"
  }
 },
 "nbformat": 4,
 "nbformat_minor": 2
}
