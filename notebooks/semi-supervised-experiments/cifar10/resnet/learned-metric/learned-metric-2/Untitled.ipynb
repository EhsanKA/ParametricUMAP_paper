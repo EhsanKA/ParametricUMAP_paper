{
 "cells": [
  {
   "cell_type": "code",
   "execution_count": 1,
   "metadata": {
    "ExecuteTime": {
     "end_time": "2020-08-06T22:27:11.134271Z",
     "start_time": "2020-08-06T22:27:11.129230Z"
    }
   },
   "outputs": [],
   "source": [
    "import queue\n",
    "import threading\n",
    "\n",
    "class BackgroundGenerator(threading.Thread):\n",
    "    def __init__(self, generator, lookahead=10):\n",
    "        threading.Thread.__init__(self)\n",
    "        self.queue = queue.Queue(lookahead)\n",
    "        self.generator = generator\n",
    "        self.daemon = True\n",
    "        self.start()\n",
    "\n",
    "    def __iter__(self):\n",
    "        return self\n",
    "\n",
    "    def run(self):\n",
    "        for item in self.generator:\n",
    "            self.queue.put(item)\n",
    "        self.queue.put(None)\n",
    "\n",
    "    def next(self):\n",
    "            next_item = self.queue.get()\n",
    "            if next_item is None:\n",
    "                 raise StopIteration\n",
    "            return next_item\n"
   ]
  },
  {
   "cell_type": "code",
   "execution_count": 2,
   "metadata": {
    "ExecuteTime": {
     "end_time": "2020-08-06T22:27:11.144982Z",
     "start_time": "2020-08-06T22:27:11.135501Z"
    }
   },
   "outputs": [],
   "source": [
    "import time\n",
    "\n",
    "def processing_releasing_GIL(process_time):\n",
    "    # simulating processing that releases the Global Interpreter Lock\n",
    "    # also see: https://wiki.python.org/moin/GlobalInterpreterLock\n",
    "    time.sleep(process_time)\n",
    "\n",
    "def processing_no_release_GIL(n):\n",
    "    i = 0\n",
    "    while i < n:\n",
    "       i += 1\n",
    "\n",
    "def generator_count_up_release_GIL(count, process_time):\n",
    "    x = 1\n",
    "    while x <= count:\n",
    "        yield x\n",
    "        processing_releasing_GIL(process_time)\n",
    "        x += 1\n",
    "\n",
    "def generator_count_up_not_releasing_GIL(count, n):\n",
    "    x = 1\n",
    "    while x <= count:\n",
    "        yield x\n",
    "        processing_no_release_GIL(n)\n",
    "        x += 1"
   ]
  },
  {
   "cell_type": "code",
   "execution_count": 3,
   "metadata": {
    "ExecuteTime": {
     "end_time": "2020-08-06T22:27:13.159400Z",
     "start_time": "2020-08-06T22:27:11.146396Z"
    }
   },
   "outputs": [
    {
     "name": "stdout",
     "output_type": "stream",
     "text": [
      "Testing runtime of a generator that releases the GIL.\n",
      "- no BackgroundGenerator:   10 2.0030601024627686\n"
     ]
    }
   ],
   "source": [
    "print(\"Testing runtime of a generator that releases the GIL.\")\n",
    "n = 10\n",
    "# test runtime without backgroundGenerator\n",
    "start = time.time()\n",
    "gen1 = generator_count_up_release_GIL(n, 0.1)\n",
    "counter = 0\n",
    "for i in gen1:\n",
    "    counter = i\n",
    "    processing_releasing_GIL(0.1)\n",
    "print (\"- no BackgroundGenerator:  \", counter, time.time() - start)\n"
   ]
  },
  {
   "cell_type": "code",
   "execution_count": 4,
   "metadata": {
    "ExecuteTime": {
     "end_time": "2020-08-06T22:27:13.217070Z",
     "start_time": "2020-08-06T22:27:13.161157Z"
    }
   },
   "outputs": [
    {
     "ename": "TypeError",
     "evalue": "iter() returned non-iterator of type 'BackgroundGenerator'",
     "output_type": "error",
     "traceback": [
      "\u001b[0;31m---------------------------------------------------------------------------\u001b[0m",
      "\u001b[0;31mTypeError\u001b[0m                                 Traceback (most recent call last)",
      "\u001b[0;32m<ipython-input-4-a3f565f8584f>\u001b[0m in \u001b[0;36m<module>\u001b[0;34m\u001b[0m\n\u001b[1;32m      3\u001b[0m \u001b[0mgen2\u001b[0m \u001b[0;34m=\u001b[0m \u001b[0mBackgroundGenerator\u001b[0m\u001b[0;34m(\u001b[0m\u001b[0mgenerator_count_up_release_GIL\u001b[0m\u001b[0;34m(\u001b[0m\u001b[0mn\u001b[0m\u001b[0;34m,\u001b[0m \u001b[0;36m0.1\u001b[0m\u001b[0;34m)\u001b[0m\u001b[0;34m)\u001b[0m\u001b[0;34m\u001b[0m\u001b[0;34m\u001b[0m\u001b[0m\n\u001b[1;32m      4\u001b[0m \u001b[0mcounter\u001b[0m \u001b[0;34m=\u001b[0m \u001b[0;36m0\u001b[0m\u001b[0;34m\u001b[0m\u001b[0;34m\u001b[0m\u001b[0m\n\u001b[0;32m----> 5\u001b[0;31m \u001b[0;32mfor\u001b[0m \u001b[0mi\u001b[0m \u001b[0;32min\u001b[0m \u001b[0mgen2\u001b[0m\u001b[0;34m:\u001b[0m\u001b[0;34m\u001b[0m\u001b[0;34m\u001b[0m\u001b[0m\n\u001b[0m\u001b[1;32m      6\u001b[0m     \u001b[0mcounter\u001b[0m \u001b[0;34m=\u001b[0m \u001b[0mi\u001b[0m\u001b[0;34m\u001b[0m\u001b[0;34m\u001b[0m\u001b[0m\n\u001b[1;32m      7\u001b[0m     \u001b[0mprocessing_releasing_GIL\u001b[0m\u001b[0;34m(\u001b[0m\u001b[0;36m0.1\u001b[0m\u001b[0;34m)\u001b[0m\u001b[0;34m\u001b[0m\u001b[0;34m\u001b[0m\u001b[0m\n",
      "\u001b[0;31mTypeError\u001b[0m: iter() returned non-iterator of type 'BackgroundGenerator'"
     ]
    }
   ],
   "source": [
    "# test runtime WITH backgroundGenerator\n",
    "start = time.time()\n",
    "gen2 = BackgroundGenerator(generator_count_up_release_GIL(n, 0.1))\n",
    "counter = 0\n",
    "for i in gen2:\n",
    "    counter = i\n",
    "    processing_releasing_GIL(0.1)\n",
    "print (\"- with BackgroundGenerator:\", counter, time.time() - start)"
   ]
  },
  {
   "cell_type": "code",
   "execution_count": 5,
   "metadata": {
    "ExecuteTime": {
     "end_time": "2020-08-06T22:27:17.391679Z",
     "start_time": "2020-08-06T22:27:15.849790Z"
    }
   },
   "outputs": [
    {
     "name": "stdout",
     "output_type": "stream",
     "text": [
      "Testing runtime of a generator that does not release the GIL.\n",
      "- no BackgroundGenerator:   10 1.5366764068603516\n"
     ]
    }
   ],
   "source": [
    "print (\"Testing runtime of a generator that does not release the GIL.\")\n",
    "iterations = 2000000\n",
    "# test runtime without backgroundGenerator\n",
    "start = time.time()\n",
    "gen1 = generator_count_up_not_releasing_GIL(n, iterations)\n",
    "counter = 0\n",
    "for i in gen1:\n",
    "    counter = i\n",
    "    processing_no_release_GIL(iterations)\n",
    "print (\"- no BackgroundGenerator:  \", counter, time.time() - start)"
   ]
  },
  {
   "cell_type": "code",
   "execution_count": 6,
   "metadata": {
    "ExecuteTime": {
     "end_time": "2020-08-06T22:27:17.516973Z",
     "start_time": "2020-08-06T22:27:17.392934Z"
    }
   },
   "outputs": [
    {
     "ename": "TypeError",
     "evalue": "iter() returned non-iterator of type 'BackgroundGenerator'",
     "output_type": "error",
     "traceback": [
      "\u001b[0;31m---------------------------------------------------------------------------\u001b[0m",
      "\u001b[0;31mTypeError\u001b[0m                                 Traceback (most recent call last)",
      "\u001b[0;32m<ipython-input-6-e2d6dba2a869>\u001b[0m in \u001b[0;36m<module>\u001b[0;34m\u001b[0m\n\u001b[1;32m      3\u001b[0m \u001b[0mgen2\u001b[0m \u001b[0;34m=\u001b[0m \u001b[0mBackgroundGenerator\u001b[0m\u001b[0;34m(\u001b[0m\u001b[0mgenerator_count_up_not_releasing_GIL\u001b[0m\u001b[0;34m(\u001b[0m\u001b[0mn\u001b[0m\u001b[0;34m,\u001b[0m \u001b[0miterations\u001b[0m\u001b[0;34m)\u001b[0m\u001b[0;34m)\u001b[0m\u001b[0;34m\u001b[0m\u001b[0;34m\u001b[0m\u001b[0m\n\u001b[1;32m      4\u001b[0m \u001b[0mcounter\u001b[0m \u001b[0;34m=\u001b[0m \u001b[0;36m0\u001b[0m\u001b[0;34m\u001b[0m\u001b[0;34m\u001b[0m\u001b[0m\n\u001b[0;32m----> 5\u001b[0;31m \u001b[0;32mfor\u001b[0m \u001b[0mi\u001b[0m \u001b[0;32min\u001b[0m \u001b[0mgen2\u001b[0m\u001b[0;34m:\u001b[0m\u001b[0;34m\u001b[0m\u001b[0;34m\u001b[0m\u001b[0m\n\u001b[0m\u001b[1;32m      6\u001b[0m     \u001b[0mcounter\u001b[0m \u001b[0;34m=\u001b[0m \u001b[0mi\u001b[0m\u001b[0;34m\u001b[0m\u001b[0;34m\u001b[0m\u001b[0m\n\u001b[1;32m      7\u001b[0m     \u001b[0mprocessing_no_release_GIL\u001b[0m\u001b[0;34m(\u001b[0m\u001b[0miterations\u001b[0m\u001b[0;34m)\u001b[0m\u001b[0;34m\u001b[0m\u001b[0;34m\u001b[0m\u001b[0m\n",
      "\u001b[0;31mTypeError\u001b[0m: iter() returned non-iterator of type 'BackgroundGenerator'"
     ]
    }
   ],
   "source": [
    "# test runtime WITH backgroundGenerator\n",
    "start = time.time()\n",
    "gen2 = BackgroundGenerator(generator_count_up_not_releasing_GIL(n, iterations))\n",
    "counter = 0\n",
    "for i in gen2:\n",
    "    counter = i\n",
    "    processing_no_release_GIL(iterations)\n",
    "print (\"- with BackgroundGenerator:\", counter, time.time() - start)"
   ]
  },
  {
   "cell_type": "code",
   "execution_count": null,
   "metadata": {},
   "outputs": [],
   "source": []
  }
 ],
 "metadata": {
  "kernelspec": {
   "display_name": "Python 3",
   "language": "python",
   "name": "python3"
  },
  "language_info": {
   "codemirror_mode": {
    "name": "ipython",
    "version": 3
   },
   "file_extension": ".py",
   "mimetype": "text/x-python",
   "name": "python",
   "nbconvert_exporter": "python",
   "pygments_lexer": "ipython3",
   "version": "3.6.7"
  }
 },
 "nbformat": 4,
 "nbformat_minor": 2
}
