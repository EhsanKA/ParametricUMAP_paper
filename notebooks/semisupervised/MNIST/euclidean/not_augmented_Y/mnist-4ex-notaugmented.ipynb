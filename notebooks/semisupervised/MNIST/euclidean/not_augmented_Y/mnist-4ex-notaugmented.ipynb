{
 "cells": [
  {
   "cell_type": "code",
   "execution_count": 1,
   "metadata": {
    "ExecuteTime": {
     "end_time": "2020-08-24T02:39:22.010035Z",
     "start_time": "2020-08-24T02:39:21.997600Z"
    }
   },
   "outputs": [],
   "source": [
    "# reload packages\n",
    "%load_ext autoreload\n",
    "%autoreload 2"
   ]
  },
  {
   "cell_type": "markdown",
   "metadata": {},
   "source": [
    "### Choose GPU"
   ]
  },
  {
   "cell_type": "code",
   "execution_count": 2,
   "metadata": {
    "ExecuteTime": {
     "end_time": "2020-08-24T02:39:22.018128Z",
     "start_time": "2020-08-24T02:39:22.010896Z"
    }
   },
   "outputs": [
    {
     "name": "stdout",
     "output_type": "stream",
     "text": [
      "env: CUDA_DEVICE_ORDER=PCI_BUS_ID\n",
      "env: CUDA_VISIBLE_DEVICES=0\n"
     ]
    }
   ],
   "source": [
    "%env CUDA_DEVICE_ORDER=PCI_BUS_ID\n",
    "%env CUDA_VISIBLE_DEVICES=0"
   ]
  },
  {
   "cell_type": "code",
   "execution_count": 3,
   "metadata": {
    "ExecuteTime": {
     "end_time": "2020-08-24T02:39:25.787847Z",
     "start_time": "2020-08-24T02:39:22.108215Z"
    }
   },
   "outputs": [
    {
     "name": "stdout",
     "output_type": "stream",
     "text": [
      "[PhysicalDevice(name='/physical_device:GPU:0', device_type='GPU')]\n"
     ]
    }
   ],
   "source": [
    "import tensorflow as tf\n",
    "gpu_devices = tf.config.experimental.list_physical_devices('GPU')\n",
    "if len(gpu_devices)>0:\n",
    "    tf.config.experimental.set_memory_growth(gpu_devices[0], True)\n",
    "print(gpu_devices)\n",
    "tf.keras.backend.clear_session()"
   ]
  },
  {
   "cell_type": "markdown",
   "metadata": {},
   "source": [
    "### Load packages"
   ]
  },
  {
   "cell_type": "code",
   "execution_count": 4,
   "metadata": {
    "ExecuteTime": {
     "end_time": "2020-08-24T02:39:30.682443Z",
     "start_time": "2020-08-24T02:39:25.789918Z"
    }
   },
   "outputs": [
    {
     "name": "stderr",
     "output_type": "stream",
     "text": [
      "/mnt/cube/tsainbur/conda_envs/tpy3/lib/python3.6/site-packages/tqdm/autonotebook/__init__.py:14: TqdmExperimentalWarning: Using `tqdm.autonotebook.tqdm` in notebook mode. Use `tqdm.tqdm` instead to force console mode (e.g. in jupyter console)\n",
      "  \" (e.g. in jupyter console)\", TqdmExperimentalWarning)\n"
     ]
    }
   ],
   "source": [
    "import tensorflow as tf\n",
    "import numpy as np\n",
    "import matplotlib.pyplot as plt\n",
    "from tqdm.autonotebook import tqdm\n",
    "from IPython import display\n",
    "import pandas as pd\n",
    "import umap\n",
    "import copy\n",
    "import os, tempfile\n",
    "import tensorflow_addons as tfa\n",
    "import pickle\n"
   ]
  },
  {
   "cell_type": "markdown",
   "metadata": {},
   "source": [
    "### parameters"
   ]
  },
  {
   "cell_type": "code",
   "execution_count": 5,
   "metadata": {
    "ExecuteTime": {
     "end_time": "2020-08-24T02:39:30.732260Z",
     "start_time": "2020-08-24T02:39:30.685052Z"
    }
   },
   "outputs": [],
   "source": [
    "dataset = \"mnist\"\n",
    "labels_per_class = 4 # 'full'\n",
    "n_latent_dims = 1024\n",
    "confidence_threshold = 0.0 # minimum confidence to include in UMAP graph for learned metric\n",
    "learned_metric = False # whether to use a learned metric, or Euclidean distance between datapoints\n",
    "\n",
    "augmented = False #\n",
    "min_dist= 0.001 # min_dist parameter for UMAP\n",
    "negative_sample_rate = 5 # how many negative samples per positive sample \n",
    "batch_size = 128 # batch size \n",
    "optimizer = tf.keras.optimizers.Adam(1e-3) # the optimizer to train\n",
    "optimizer = tfa.optimizers.MovingAverage(optimizer)\n",
    "label_smoothing = 0.2 # how much label smoothing to apply to categorical crossentropy\n",
    "max_umap_iterations = 500 # how many times, maximum, to recompute UMAP\n",
    "max_epochs_per_graph = 10 # how many epochs maximum each graph trains for (without early stopping)\n",
    "graph_patience = 10 # how many times without improvement to train a new graph\n",
    "min_graph_delta = 0.0025 # minimum improvement on validation acc to consider an improvement for training"
   ]
  },
  {
   "cell_type": "code",
   "execution_count": 6,
   "metadata": {
    "ExecuteTime": {
     "end_time": "2020-08-24T02:39:30.770915Z",
     "start_time": "2020-08-24T02:39:30.734150Z"
    }
   },
   "outputs": [
    {
     "name": "stdout",
     "output_type": "stream",
     "text": [
      "mnist_0.0_4____2020_08_23_19_39_30_768509_umap_augmented\n"
     ]
    }
   ],
   "source": [
    "from datetime import datetime\n",
    "\n",
    "datestring = datetime.now().strftime(\"%Y_%m_%d_%H_%M_%S_%f\")\n",
    "datestring = (\n",
    "    str(dataset)\n",
    "    + \"_\"\n",
    "    + str(confidence_threshold)\n",
    "    + \"_\"\n",
    "    + str(labels_per_class)\n",
    "    + \"____\"\n",
    "    + datestring \n",
    "    + '_umap_augmented'\n",
    ")\n",
    "print(datestring)"
   ]
  },
  {
   "cell_type": "markdown",
   "metadata": {},
   "source": [
    "#### Load dataset"
   ]
  },
  {
   "cell_type": "code",
   "execution_count": 7,
   "metadata": {
    "ExecuteTime": {
     "end_time": "2020-08-24T02:39:30.853528Z",
     "start_time": "2020-08-24T02:39:30.772413Z"
    }
   },
   "outputs": [],
   "source": [
    "from tfumap.semisupervised_keras import load_dataset"
   ]
  },
  {
   "cell_type": "code",
   "execution_count": 8,
   "metadata": {
    "ExecuteTime": {
     "end_time": "2020-08-24T02:39:32.581406Z",
     "start_time": "2020-08-24T02:39:30.855471Z"
    }
   },
   "outputs": [],
   "source": [
    "(\n",
    "    X_train,\n",
    "    X_test,\n",
    "    X_labeled,\n",
    "    Y_labeled,\n",
    "    Y_masked,\n",
    "    X_valid,\n",
    "    Y_train,\n",
    "    Y_test,\n",
    "    Y_valid,\n",
    "    Y_valid_one_hot,\n",
    "    Y_labeled_one_hot,\n",
    "    num_classes,\n",
    "    dims\n",
    ") = load_dataset(dataset, labels_per_class)"
   ]
  },
  {
   "cell_type": "markdown",
   "metadata": {},
   "source": [
    "### load architecture"
   ]
  },
  {
   "cell_type": "code",
   "execution_count": 9,
   "metadata": {
    "ExecuteTime": {
     "end_time": "2020-08-24T02:39:32.622019Z",
     "start_time": "2020-08-24T02:39:32.583691Z"
    }
   },
   "outputs": [],
   "source": [
    "from tfumap.semisupervised_keras import load_architecture"
   ]
  },
  {
   "cell_type": "code",
   "execution_count": 10,
   "metadata": {
    "ExecuteTime": {
     "end_time": "2020-08-24T02:39:34.193757Z",
     "start_time": "2020-08-24T02:39:32.623714Z"
    }
   },
   "outputs": [],
   "source": [
    "encoder, classifier, embedder = load_architecture(dataset, n_latent_dims)"
   ]
  },
  {
   "cell_type": "markdown",
   "metadata": {},
   "source": [
    "### load pretrained weights"
   ]
  },
  {
   "cell_type": "code",
   "execution_count": 11,
   "metadata": {
    "ExecuteTime": {
     "end_time": "2020-08-24T02:39:34.239388Z",
     "start_time": "2020-08-24T02:39:34.197072Z"
    }
   },
   "outputs": [],
   "source": [
    "from tfumap.semisupervised_keras import load_pretrained_weights"
   ]
  },
  {
   "cell_type": "code",
   "execution_count": 12,
   "metadata": {
    "ExecuteTime": {
     "end_time": "2020-08-24T02:39:34.433789Z",
     "start_time": "2020-08-24T02:39:34.241411Z"
    }
   },
   "outputs": [
    {
     "name": "stdout",
     "output_type": "stream",
     "text": [
      "mnist_0.0_64____2020_08_23_18_31_15_922443_umap_augmented\r\n",
      "mnist_0.0_64____2020_08_23_18_32_38_592348_umap_augmented\r\n",
      "mnist_64____2020_08_23_14_13_19_397319_baseline\r\n"
     ]
    }
   ],
   "source": [
    "!ls /mnt/cube/tsainbur/Projects/github_repos/umap_tf_networks/models/semisupervised-keras/mnist/64"
   ]
  },
  {
   "cell_type": "code",
   "execution_count": 13,
   "metadata": {
    "ExecuteTime": {
     "end_time": "2020-08-24T02:39:35.239528Z",
     "start_time": "2020-08-24T02:39:34.436646Z"
    },
    "scrolled": true
   },
   "outputs": [
    {
     "name": "stderr",
     "output_type": "stream",
     "text": [
      "WARNING: Logging before flag parsing goes to stderr.\n",
      "W0823 19:39:34.484016 140003219777344 base.py:272] Inconsistent references when loading the checkpoint into this object graph. Either the Trackable object references in the Python program have changed in an incompatible way, or the checkpoint was generated in an incompatible program.\n",
      "\n",
      "Two checkpoint references resolved to different objects (<tensorflow_addons.layers.wrappers.WeightNormalization object at 0x7f53e4041b38> and <tensorflow.python.keras.layers.advanced_activations.LeakyReLU object at 0x7f53e4041b70>).\n",
      "W0823 19:39:34.487243 140003219777344 base.py:272] Inconsistent references when loading the checkpoint into this object graph. Either the Trackable object references in the Python program have changed in an incompatible way, or the checkpoint was generated in an incompatible program.\n",
      "\n",
      "Two checkpoint references resolved to different objects (<tensorflow_addons.layers.wrappers.WeightNormalization object at 0x7f53e4057128> and <tensorflow.python.keras.layers.advanced_activations.LeakyReLU object at 0x7f53dc5d7240>).\n",
      "W0823 19:39:34.606329 140003219777344 base.py:272] Inconsistent references when loading the checkpoint into this object graph. Either the Trackable object references in the Python program have changed in an incompatible way, or the checkpoint was generated in an incompatible program.\n",
      "\n",
      "Two checkpoint references resolved to different objects (<tensorflow_addons.layers.wrappers.WeightNormalization object at 0x7f53eefd8550> and <tensorflow.python.keras.layers.normalization_v2.BatchNormalization object at 0x7f53ef28d080>).\n",
      "W0823 19:39:34.610323 140003219777344 base.py:272] Inconsistent references when loading the checkpoint into this object graph. Either the Trackable object references in the Python program have changed in an incompatible way, or the checkpoint was generated in an incompatible program.\n",
      "\n",
      "Two checkpoint references resolved to different objects (<tensorflow.python.keras.layers.normalization_v2.BatchNormalization object at 0x7f53ef28d080> and <tensorflow.python.keras.layers.advanced_activations.LeakyReLU object at 0x7f53ef303c50>).\n",
      "W0823 19:39:34.615128 140003219777344 base.py:272] Inconsistent references when loading the checkpoint into this object graph. Either the Trackable object references in the Python program have changed in an incompatible way, or the checkpoint was generated in an incompatible program.\n",
      "\n",
      "Two checkpoint references resolved to different objects (<tensorflow_addons.layers.wrappers.WeightNormalization object at 0x7f53ef2a2438> and <tensorflow.python.keras.layers.normalization_v2.BatchNormalization object at 0x7f53ef2a2a58>).\n",
      "W0823 19:39:34.618063 140003219777344 base.py:272] Inconsistent references when loading the checkpoint into this object graph. Either the Trackable object references in the Python program have changed in an incompatible way, or the checkpoint was generated in an incompatible program.\n",
      "\n",
      "Two checkpoint references resolved to different objects (<tensorflow.python.keras.layers.normalization_v2.BatchNormalization object at 0x7f53ef2a2a58> and <tensorflow.python.keras.layers.advanced_activations.LeakyReLU object at 0x7f53ef2a2710>).\n",
      "W0823 19:39:34.622074 140003219777344 base.py:272] Inconsistent references when loading the checkpoint into this object graph. Either the Trackable object references in the Python program have changed in an incompatible way, or the checkpoint was generated in an incompatible program.\n",
      "\n",
      "Two checkpoint references resolved to different objects (<tensorflow_addons.layers.wrappers.WeightNormalization object at 0x7f53ef2eacc0> and <tensorflow.python.keras.layers.normalization_v2.BatchNormalization object at 0x7f53ef2eaf98>).\n",
      "W0823 19:39:34.625099 140003219777344 base.py:272] Inconsistent references when loading the checkpoint into this object graph. Either the Trackable object references in the Python program have changed in an incompatible way, or the checkpoint was generated in an incompatible program.\n",
      "\n",
      "Two checkpoint references resolved to different objects (<tensorflow.python.keras.layers.normalization_v2.BatchNormalization object at 0x7f53ef2eaf98> and <tensorflow.python.keras.layers.advanced_activations.LeakyReLU object at 0x7f53ef2e7198>).\n",
      "W0823 19:39:34.631203 140003219777344 base.py:272] Inconsistent references when loading the checkpoint into this object graph. Either the Trackable object references in the Python program have changed in an incompatible way, or the checkpoint was generated in an incompatible program.\n",
      "\n",
      "Two checkpoint references resolved to different objects (<tensorflow_addons.layers.wrappers.WeightNormalization object at 0x7f53ef47b400> and <tensorflow.python.keras.layers.normalization_v2.BatchNormalization object at 0x7f53ef47ba58>).\n",
      "W0823 19:39:34.634151 140003219777344 base.py:272] Inconsistent references when loading the checkpoint into this object graph. Either the Trackable object references in the Python program have changed in an incompatible way, or the checkpoint was generated in an incompatible program.\n",
      "\n",
      "Two checkpoint references resolved to different objects (<tensorflow.python.keras.layers.normalization_v2.BatchNormalization object at 0x7f53ef47ba58> and <tensorflow.python.keras.layers.advanced_activations.LeakyReLU object at 0x7f53ef47bc50>).\n",
      "W0823 19:39:34.638039 140003219777344 base.py:272] Inconsistent references when loading the checkpoint into this object graph. Either the Trackable object references in the Python program have changed in an incompatible way, or the checkpoint was generated in an incompatible program.\n",
      "\n",
      "Two checkpoint references resolved to different objects (<tensorflow_addons.layers.wrappers.WeightNormalization object at 0x7f53ef4174a8> and <tensorflow.python.keras.layers.normalization_v2.BatchNormalization object at 0x7f53ef417ac8>).\n",
      "W0823 19:39:34.640873 140003219777344 base.py:272] Inconsistent references when loading the checkpoint into this object graph. Either the Trackable object references in the Python program have changed in an incompatible way, or the checkpoint was generated in an incompatible program.\n",
      "\n",
      "Two checkpoint references resolved to different objects (<tensorflow.python.keras.layers.normalization_v2.BatchNormalization object at 0x7f53ef417ac8> and <tensorflow.python.keras.layers.advanced_activations.LeakyReLU object at 0x7f53ef417cf8>).\n",
      "W0823 19:39:34.644808 140003219777344 base.py:272] Inconsistent references when loading the checkpoint into this object graph. Either the Trackable object references in the Python program have changed in an incompatible way, or the checkpoint was generated in an incompatible program.\n",
      "\n",
      "Two checkpoint references resolved to different objects (<tensorflow_addons.layers.wrappers.WeightNormalization object at 0x7f53e41d37f0> and <tensorflow.python.keras.layers.normalization_v2.BatchNormalization object at 0x7f53e41d3b00>).\n",
      "W0823 19:39:34.647732 140003219777344 base.py:272] Inconsistent references when loading the checkpoint into this object graph. Either the Trackable object references in the Python program have changed in an incompatible way, or the checkpoint was generated in an incompatible program.\n",
      "\n",
      "Two checkpoint references resolved to different objects (<tensorflow.python.keras.layers.normalization_v2.BatchNormalization object at 0x7f53e41d3b00> and <tensorflow.python.keras.layers.advanced_activations.LeakyReLU object at 0x7f53e41d3d30>).\n",
      "W0823 19:39:34.653742 140003219777344 base.py:272] Inconsistent references when loading the checkpoint into this object graph. Either the Trackable object references in the Python program have changed in an incompatible way, or the checkpoint was generated in an incompatible program.\n",
      "\n",
      "Two checkpoint references resolved to different objects (<tensorflow_addons.layers.wrappers.WeightNormalization object at 0x7f53e4138358> and <tensorflow.python.keras.layers.normalization_v2.BatchNormalization object at 0x7f53e4138588>).\n",
      "W0823 19:39:34.656586 140003219777344 base.py:272] Inconsistent references when loading the checkpoint into this object graph. Either the Trackable object references in the Python program have changed in an incompatible way, or the checkpoint was generated in an incompatible program.\n",
      "\n",
      "Two checkpoint references resolved to different objects (<tensorflow.python.keras.layers.normalization_v2.BatchNormalization object at 0x7f53e4138588> and <tensorflow.python.keras.layers.advanced_activations.LeakyReLU object at 0x7f53e41387f0>).\n"
     ]
    },
    {
     "name": "stderr",
     "output_type": "stream",
     "text": [
      "W0823 19:39:34.660454 140003219777344 base.py:272] Inconsistent references when loading the checkpoint into this object graph. Either the Trackable object references in the Python program have changed in an incompatible way, or the checkpoint was generated in an incompatible program.\n",
      "\n",
      "Two checkpoint references resolved to different objects (<tensorflow_addons.layers.wrappers.WeightNormalization object at 0x7f53e410b320> and <tensorflow.python.keras.layers.normalization_v2.BatchNormalization object at 0x7f53e410b630>).\n",
      "W0823 19:39:34.663722 140003219777344 base.py:272] Inconsistent references when loading the checkpoint into this object graph. Either the Trackable object references in the Python program have changed in an incompatible way, or the checkpoint was generated in an incompatible program.\n",
      "\n",
      "Two checkpoint references resolved to different objects (<tensorflow.python.keras.layers.normalization_v2.BatchNormalization object at 0x7f53e410b630> and <tensorflow.python.keras.layers.advanced_activations.LeakyReLU object at 0x7f53e410b828>).\n",
      "W0823 19:39:34.667741 140003219777344 base.py:272] Inconsistent references when loading the checkpoint into this object graph. Either the Trackable object references in the Python program have changed in an incompatible way, or the checkpoint was generated in an incompatible program.\n",
      "\n",
      "Two checkpoint references resolved to different objects (<tensorflow_addons.layers.wrappers.WeightNormalization object at 0x7f53e40e0358> and <tensorflow.python.keras.layers.normalization_v2.BatchNormalization object at 0x7f53e40e0668>).\n",
      "W0823 19:39:34.670582 140003219777344 base.py:272] Inconsistent references when loading the checkpoint into this object graph. Either the Trackable object references in the Python program have changed in an incompatible way, or the checkpoint was generated in an incompatible program.\n",
      "\n",
      "Two checkpoint references resolved to different objects (<tensorflow.python.keras.layers.normalization_v2.BatchNormalization object at 0x7f53e40e0668> and <tensorflow.python.keras.layers.advanced_activations.LeakyReLU object at 0x7f53e40e0860>).\n"
     ]
    }
   ],
   "source": [
    "encoder, classifier = load_pretrained_weights(dataset, augmented, labels_per_class, encoder, classifier)"
   ]
  },
  {
   "cell_type": "markdown",
   "metadata": {},
   "source": [
    "#### compute pretrained accuracy"
   ]
  },
  {
   "cell_type": "code",
   "execution_count": 14,
   "metadata": {
    "ExecuteTime": {
     "end_time": "2020-08-24T02:39:43.780048Z",
     "start_time": "2020-08-24T02:39:35.241294Z"
    }
   },
   "outputs": [
    {
     "name": "stdout",
     "output_type": "stream",
     "text": [
      "313/313 [==============================] - 3s 10ms/step\n",
      "313/313 [==============================] - 1s 3ms/step\n",
      "pretrained acc: 0.8143\n"
     ]
    }
   ],
   "source": [
    "# test current acc\n",
    "pretrained_predictions = classifier.predict(encoder.predict(X_test, verbose=True), verbose=True)\n",
    "pretrained_predictions = np.argmax(pretrained_predictions, axis=1)\n",
    "pretrained_acc = np.mean(pretrained_predictions == Y_test)\n",
    "print('pretrained acc: {}'.format(pretrained_acc))"
   ]
  },
  {
   "cell_type": "markdown",
   "metadata": {},
   "source": [
    "### get a, b parameters for embeddings"
   ]
  },
  {
   "cell_type": "code",
   "execution_count": 15,
   "metadata": {
    "ExecuteTime": {
     "end_time": "2020-08-24T02:39:44.264766Z",
     "start_time": "2020-08-24T02:39:43.782178Z"
    }
   },
   "outputs": [],
   "source": [
    "from tfumap.semisupervised_keras import find_a_b"
   ]
  },
  {
   "cell_type": "code",
   "execution_count": 16,
   "metadata": {
    "ExecuteTime": {
     "end_time": "2020-08-24T02:39:44.349453Z",
     "start_time": "2020-08-24T02:39:44.267277Z"
    }
   },
   "outputs": [],
   "source": [
    "a_param, b_param = find_a_b(min_dist=min_dist)"
   ]
  },
  {
   "cell_type": "markdown",
   "metadata": {},
   "source": [
    "### build network"
   ]
  },
  {
   "cell_type": "code",
   "execution_count": 17,
   "metadata": {
    "ExecuteTime": {
     "end_time": "2020-08-24T02:39:44.389410Z",
     "start_time": "2020-08-24T02:39:44.351724Z"
    }
   },
   "outputs": [],
   "source": [
    "from tfumap.semisupervised_keras import build_model"
   ]
  },
  {
   "cell_type": "code",
   "execution_count": 18,
   "metadata": {
    "ExecuteTime": {
     "end_time": "2020-08-24T02:39:45.901923Z",
     "start_time": "2020-08-24T02:39:44.391193Z"
    }
   },
   "outputs": [],
   "source": [
    "model = build_model(\n",
    "    batch_size=batch_size,\n",
    "    a_param=a_param,\n",
    "    b_param=b_param,\n",
    "    dims=dims,\n",
    "    encoder=encoder,\n",
    "    classifier=classifier,\n",
    "    negative_sample_rate=negative_sample_rate,\n",
    "    optimizer=optimizer,\n",
    "    label_smoothing=label_smoothing,\n",
    "    embedder = embedder,\n",
    ")"
   ]
  },
  {
   "cell_type": "markdown",
   "metadata": {},
   "source": [
    "### build labeled iterator"
   ]
  },
  {
   "cell_type": "code",
   "execution_count": 19,
   "metadata": {
    "ExecuteTime": {
     "end_time": "2020-08-24T02:39:45.943128Z",
     "start_time": "2020-08-24T02:39:45.903818Z"
    }
   },
   "outputs": [],
   "source": [
    "from tfumap.semisupervised_keras import build_labeled_iterator"
   ]
  },
  {
   "cell_type": "code",
   "execution_count": 20,
   "metadata": {
    "ExecuteTime": {
     "end_time": "2020-08-24T02:39:45.982488Z",
     "start_time": "2020-08-24T02:39:45.944723Z"
    }
   },
   "outputs": [],
   "source": [
    "labeled_dataset = build_labeled_iterator(X_labeled, Y_labeled_one_hot, augmented, dims)"
   ]
  },
  {
   "cell_type": "markdown",
   "metadata": {},
   "source": [
    "### training"
   ]
  },
  {
   "cell_type": "code",
   "execution_count": 21,
   "metadata": {
    "ExecuteTime": {
     "end_time": "2020-08-24T02:39:46.037905Z",
     "start_time": "2020-08-24T02:39:45.983892Z"
    }
   },
   "outputs": [],
   "source": [
    "from livelossplot import PlotLossesKerasTF\n",
    "from tfumap.semisupervised_keras import get_edge_dataset\n",
    "from tfumap.semisupervised_keras import zip_datasets"
   ]
  },
  {
   "cell_type": "markdown",
   "metadata": {},
   "source": [
    "#### callbacks"
   ]
  },
  {
   "cell_type": "code",
   "execution_count": 22,
   "metadata": {
    "ExecuteTime": {
     "end_time": "2020-08-24T02:39:46.078699Z",
     "start_time": "2020-08-24T02:39:46.039695Z"
    }
   },
   "outputs": [],
   "source": [
    "# plot losses callback\n",
    "groups = {'acccuracy': ['classifier_accuracy', 'val_classifier_accuracy'], 'loss': ['classifier_loss', 'val_classifier_loss']}\n",
    "plotlosses = PlotLossesKerasTF(groups=groups)"
   ]
  },
  {
   "cell_type": "code",
   "execution_count": 23,
   "metadata": {
    "ExecuteTime": {
     "end_time": "2020-08-24T02:39:46.122055Z",
     "start_time": "2020-08-24T02:39:46.081100Z"
    }
   },
   "outputs": [],
   "source": [
    "history_list = []\n",
    "current_validation_acc = 0\n",
    "batches_per_epoch = np.floor(len(X_train)/batch_size).astype(int)\n",
    "epochs_since_last_improvement = 0\n",
    "current_umap_iterations = 0\n",
    "current_epoch = 0"
   ]
  },
  {
   "cell_type": "code",
   "execution_count": 24,
   "metadata": {
    "ExecuteTime": {
     "end_time": "2020-08-24T02:40:12.869552Z",
     "start_time": "2020-08-24T02:39:46.123588Z"
    }
   },
   "outputs": [],
   "source": [
    "# make dataset\n",
    "edge_dataset = get_edge_dataset(\n",
    "    model,\n",
    "    augmented,\n",
    "    classifier,\n",
    "    encoder,\n",
    "    X_train,\n",
    "    Y_masked,\n",
    "    batch_size,\n",
    "    confidence_threshold,\n",
    "    labeled_dataset,\n",
    "    dims,\n",
    "    learned_metric = learned_metric\n",
    ")\n",
    "\n",
    "# zip dataset\n",
    "zipped_ds = zip_datasets(labeled_dataset, edge_dataset, batch_size)"
   ]
  },
  {
   "cell_type": "code",
   "execution_count": 25,
   "metadata": {
    "ExecuteTime": {
     "end_time": "2020-08-24T08:13:36.063977Z",
     "start_time": "2020-08-24T02:40:12.870954Z"
    }
   },
   "outputs": [
    {
     "data": {
      "image/png": "[encoded data removed]",
      "text/plain": [
       "<Figure size 864x576 with 2 Axes>"
      ]
     },
     "metadata": {
      "needs_background": "light"
     },
     "output_type": "display_data"
    },
    {
     "name": "stdout",
     "output_type": "stream",
     "text": [
      "acccuracy\n",
      "\ttraining         \t (min:    0.998, max:    1.000, cur:    1.000)\n",
      "\tvalidation       \t (min:    0.893, max:    0.984, cur:    0.979)\n",
      "Loss\n",
      "\ttraining         \t (min:    0.867, max:    0.879, cur:    0.867)\n",
      "\tvalidation       \t (min:    0.906, max:    1.085, cur:    0.917)\n",
      "390/390 [==============================] - 105s 270ms/step - loss: 0.9893 - classifier_loss: 0.8669 - umap_loss: 0.1224 - classifier_accuracy: 1.0000 - val_loss: 0.9166 - val_classifier_loss: 0.9166 - val_umap_loss: 0.0000e+00 - val_classifier_accuracy: 0.9795\n",
      "Early stopping\n"
     ]
    }
   ],
   "source": [
    "from tfumap.paths import MODEL_DIR, ensure_dir\n",
    "save_folder = MODEL_DIR / 'semisupervised-keras' / dataset / str(labels_per_class) / datestring\n",
    "ensure_dir(save_folder / 'test_loss.npy')\n",
    "\n",
    "for cui in tqdm(np.arange(current_epoch, max_umap_iterations)):\n",
    "    \n",
    "    if len(history_list) > graph_patience+1:\n",
    "        previous_history = [np.mean(i.history['val_classifier_accuracy']) for i in history_list]\n",
    "        best_of_patience = np.max(previous_history[-graph_patience:])\n",
    "        best_of_previous = np.max(previous_history[:-graph_patience])\n",
    "        if (best_of_previous + min_graph_delta) > best_of_patience:\n",
    "            print('Early stopping')\n",
    "            break\n",
    "    \n",
    "    # train dataset\n",
    "    history = model.fit(\n",
    "        zipped_ds,\n",
    "        epochs= current_epoch + max_epochs_per_graph,\n",
    "        initial_epoch = current_epoch,\n",
    "        validation_data=(\n",
    "            (X_valid, tf.zeros_like(X_valid), tf.zeros_like(X_valid)),\n",
    "            {\"classifier\": Y_valid_one_hot},\n",
    "        ),\n",
    "        callbacks = [plotlosses],\n",
    "        max_queue_size = 100,\n",
    "        steps_per_epoch = batches_per_epoch,\n",
    "        #verbose=0\n",
    "    )\n",
    "    current_epoch+=len(history.history['loss'])\n",
    "    history_list.append(history)\n",
    "    \n",
    "    # save score \n",
    "    class_pred = classifier.predict(encoder.predict(X_test))\n",
    "    class_acc = np.mean(np.argmax(class_pred, axis=1) == Y_test)\n",
    "    np.save(save_folder / 'test_loss.npy', (np.nan, class_acc))\n",
    "    \n",
    "    # save weights\n",
    "    encoder.save_weights((save_folder / \"encoder\").as_posix())\n",
    "    classifier.save_weights((save_folder / \"classifier\").as_posix())\n",
    "    \n",
    "    # save history\n",
    "    with open(save_folder / 'history.pickle', 'wb') as file_pi:\n",
    "        pickle.dump([i.history for i in history_list], file_pi)\n",
    "\n",
    "        current_umap_iterations += 1"
   ]
  },
  {
   "cell_type": "code",
   "execution_count": 26,
   "metadata": {
    "ExecuteTime": {
     "end_time": "2020-08-24T08:13:41.408654Z",
     "start_time": "2020-08-24T08:13:36.065163Z"
    }
   },
   "outputs": [
    {
     "name": "stdout",
     "output_type": "stream",
     "text": [
      "Early stopping\n"
     ]
    }
   ],
   "source": [
    "previous_history = [np.mean(i.history['val_classifier_accuracy']) for i in history_list]\n",
    "best_of_patience = np.max(previous_history[-graph_patience:])\n",
    "best_of_previous = np.max(previous_history[:-graph_patience])\n",
    "if (best_of_previous + min_graph_delta) > best_of_patience:\n",
    "    print('Early stopping')"
   ]
  },
  {
   "cell_type": "code",
   "execution_count": 27,
   "metadata": {
    "ExecuteTime": {
     "end_time": "2020-08-24T08:13:41.547342Z",
     "start_time": "2020-08-24T08:13:41.409990Z"
    }
   },
   "outputs": [
    {
     "data": {
      "text/plain": [
       "[<matplotlib.lines.Line2D at 0x7f52ac326be0>]"
      ]
     },
     "execution_count": 27,
     "metadata": {},
     "output_type": "execute_result"
    },
    {
     "data": {
      "image/png": "[encoded data removed]",
      "text/plain": [
       "<Figure size 432x288 with 1 Axes>"
      ]
     },
     "metadata": {
      "needs_background": "light"
     },
     "output_type": "display_data"
    }
   ],
   "source": [
    "plt.plot(previous_history)"
   ]
  },
  {
   "cell_type": "markdown",
   "metadata": {},
   "source": [
    "### save embedding"
   ]
  },
  {
   "cell_type": "code",
   "execution_count": 28,
   "metadata": {
    "ExecuteTime": {
     "end_time": "2020-08-24T08:13:56.909222Z",
     "start_time": "2020-08-24T08:13:41.548447Z"
    }
   },
   "outputs": [],
   "source": [
    "z = encoder.predict(X_train)"
   ]
  },
  {
   "cell_type": "code",
   "execution_count": 29,
   "metadata": {
    "ExecuteTime": {
     "end_time": "2020-08-24T08:14:55.719727Z",
     "start_time": "2020-08-24T08:13:56.911846Z"
    }
   },
   "outputs": [
    {
     "name": "stdout",
     "output_type": "stream",
     "text": [
      "UMAP(dens_frac=0.0, dens_lambda=0.0, verbose=True)\n",
      "Construct fuzzy simplicial set\n",
      "Mon Aug 24 01:13:57 2020 Finding Nearest Neighbors\n",
      "Mon Aug 24 01:13:57 2020 Building RP forest with 16 trees\n",
      "Mon Aug 24 01:13:58 2020 parallel NN descent for 16 iterations\n",
      "\t 0  /  16\n",
      "\t 1  /  16\n",
      "\t 2  /  16\n",
      "Mon Aug 24 01:14:06 2020 Finished Nearest Neighbor Search\n",
      "Mon Aug 24 01:14:08 2020 Construct embedding\n",
      "\tcompleted  0  /  200 epochs\n",
      "\tcompleted  20  /  200 epochs\n",
      "\tcompleted  40  /  200 epochs\n",
      "\tcompleted  60  /  200 epochs\n",
      "\tcompleted  80  /  200 epochs\n",
      "\tcompleted  100  /  200 epochs\n",
      "\tcompleted  120  /  200 epochs\n",
      "\tcompleted  140  /  200 epochs\n",
      "\tcompleted  160  /  200 epochs\n",
      "\tcompleted  180  /  200 epochs\n",
      "Mon Aug 24 01:14:53 2020 Finished embedding\n"
     ]
    },
    {
     "data": {
      "text/plain": [
       "<matplotlib.collections.PathCollection at 0x7f52cc68df98>"
      ]
     },
     "execution_count": 29,
     "metadata": {},
     "output_type": "execute_result"
    },
    {
     "data": {
      "image/png": "[encoded data removed]",
      "text/plain": [
       "<Figure size 432x288 with 1 Axes>"
      ]
     },
     "metadata": {
      "needs_background": "light"
     },
     "output_type": "display_data"
    }
   ],
   "source": [
    "reducer = umap.UMAP(verbose=True)\n",
    "\n",
    "embedding = reducer.fit_transform(z.reshape(len(z), np.product(np.shape(z)[1:])))\n",
    "\n",
    "plt.scatter(embedding[:, 0], embedding[:, 1], c=Y_train.flatten(), s= 1, alpha = 0.1, cmap = plt.cm.tab10)"
   ]
  },
  {
   "cell_type": "code",
   "execution_count": 30,
   "metadata": {
    "ExecuteTime": {
     "end_time": "2020-08-24T08:15:00.793322Z",
     "start_time": "2020-08-24T08:14:55.721214Z"
    }
   },
   "outputs": [],
   "source": [
    "np.save(save_folder / 'train_embedding.npy', embedding)"
   ]
  },
  {
   "cell_type": "code",
   "execution_count": null,
   "metadata": {},
   "outputs": [],
   "source": []
  },
  {
   "cell_type": "code",
   "execution_count": null,
   "metadata": {},
   "outputs": [],
   "source": []
  },
  {
   "cell_type": "code",
   "execution_count": null,
   "metadata": {},
   "outputs": [],
   "source": []
  }
 ],
 "metadata": {
  "kernelspec": {
   "display_name": "Python 3",
   "language": "python",
   "name": "python3"
  },
  "language_info": {
   "codemirror_mode": {
    "name": "ipython",
    "version": 3
   },
   "file_extension": ".py",
   "mimetype": "text/x-python",
   "name": "python",
   "nbconvert_exporter": "python",
   "pygments_lexer": "ipython3",
   "version": "3.6.7"
  }
 },
 "nbformat": 4,
 "nbformat_minor": 2
}
