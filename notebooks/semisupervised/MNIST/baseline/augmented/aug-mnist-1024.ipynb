{
 "cells": [
  {
   "cell_type": "code",
   "execution_count": 1,
   "metadata": {
    "ExecuteTime": {
     "end_time": "2020-08-27T05:38:17.665303Z",
     "start_time": "2020-08-27T05:38:17.644268Z"
    }
   },
   "outputs": [],
   "source": [
    "# reload packages\n",
    "%load_ext autoreload\n",
    "%autoreload 2"
   ]
  },
  {
   "cell_type": "markdown",
   "metadata": {},
   "source": [
    "### Choose GPU"
   ]
  },
  {
   "cell_type": "code",
   "execution_count": 2,
   "metadata": {
    "ExecuteTime": {
     "end_time": "2020-08-27T05:38:17.748071Z",
     "start_time": "2020-08-27T05:38:17.666977Z"
    }
   },
   "outputs": [
    {
     "name": "stdout",
     "output_type": "stream",
     "text": [
      "env: CUDA_DEVICE_ORDER=PCI_BUS_ID\n",
      "env: CUDA_VISIBLE_DEVICES=2\n"
     ]
    }
   ],
   "source": [
    "%env CUDA_DEVICE_ORDER=PCI_BUS_ID\n",
    "%env CUDA_VISIBLE_DEVICES=2"
   ]
  },
  {
   "cell_type": "code",
   "execution_count": 3,
   "metadata": {
    "ExecuteTime": {
     "end_time": "2020-08-27T05:38:22.819273Z",
     "start_time": "2020-08-27T05:38:17.749755Z"
    }
   },
   "outputs": [
    {
     "name": "stdout",
     "output_type": "stream",
     "text": [
      "[PhysicalDevice(name='/physical_device:GPU:0', device_type='GPU')]\n"
     ]
    }
   ],
   "source": [
    "import tensorflow as tf\n",
    "gpu_devices = tf.config.experimental.list_physical_devices('GPU')\n",
    "if len(gpu_devices)>0:\n",
    "    tf.config.experimental.set_memory_growth(gpu_devices[0], True)\n",
    "print(gpu_devices)\n",
    "tf.keras.backend.clear_session()"
   ]
  },
  {
   "cell_type": "markdown",
   "metadata": {},
   "source": [
    "### dataset information"
   ]
  },
  {
   "cell_type": "code",
   "execution_count": 4,
   "metadata": {
    "ExecuteTime": {
     "end_time": "2020-08-27T05:38:22.881869Z",
     "start_time": "2020-08-27T05:38:22.821596Z"
    }
   },
   "outputs": [
    {
     "name": "stdout",
     "output_type": "stream",
     "text": [
      "mnist_1024____2020_08_26_22_38_22_879325_baseline_augmented\n"
     ]
    }
   ],
   "source": [
    "from datetime import datetime\n",
    "\n",
    "dataset = \"mnist\"\n",
    "dims = (28, 28, 1)\n",
    "num_classes = 10\n",
    "labels_per_class = 1024 # full\n",
    "batch_size = 128\n",
    "datestring = datetime.now().strftime(\"%Y_%m_%d_%H_%M_%S_%f\")\n",
    "datestring = (\n",
    "    str(dataset)\n",
    "    + \"_\"\n",
    "    + str(labels_per_class)\n",
    "    + \"____\"\n",
    "    + datestring \n",
    "    + '_baseline_augmented'\n",
    ")\n",
    "print(datestring)"
   ]
  },
  {
   "cell_type": "markdown",
   "metadata": {},
   "source": [
    "### Load packages"
   ]
  },
  {
   "cell_type": "code",
   "execution_count": 5,
   "metadata": {
    "ExecuteTime": {
     "end_time": "2020-08-27T05:38:30.700710Z",
     "start_time": "2020-08-27T05:38:22.885346Z"
    }
   },
   "outputs": [
    {
     "name": "stderr",
     "output_type": "stream",
     "text": [
      "/mnt/cube/tsainbur/conda_envs/tpy3/lib/python3.6/site-packages/tqdm/autonotebook/__init__.py:14: TqdmExperimentalWarning: Using `tqdm.autonotebook.tqdm` in notebook mode. Use `tqdm.tqdm` instead to force console mode (e.g. in jupyter console)\n",
      "  \" (e.g. in jupyter console)\", TqdmExperimentalWarning)\n"
     ]
    }
   ],
   "source": [
    "import tensorflow as tf\n",
    "import numpy as np\n",
    "import matplotlib.pyplot as plt\n",
    "from tqdm.autonotebook import tqdm\n",
    "from IPython import display\n",
    "import pandas as pd\n",
    "import umap\n",
    "import copy\n",
    "import os, tempfile"
   ]
  },
  {
   "cell_type": "markdown",
   "metadata": {},
   "source": [
    "### Load dataset"
   ]
  },
  {
   "cell_type": "code",
   "execution_count": 6,
   "metadata": {
    "ExecuteTime": {
     "end_time": "2020-08-27T05:38:31.607993Z",
     "start_time": "2020-08-27T05:38:30.703546Z"
    }
   },
   "outputs": [
    {
     "data": {
      "text/plain": [
       "(50000, 28, 28, 1)"
      ]
     },
     "execution_count": 6,
     "metadata": {},
     "output_type": "execute_result"
    }
   ],
   "source": [
    "from tfumap.load_datasets import load_MNIST, mask_labels\n",
    "X_train, X_test, X_valid, Y_train, Y_test, Y_valid = load_MNIST(flatten=False)\n",
    "X_train.shape"
   ]
  },
  {
   "cell_type": "code",
   "execution_count": 7,
   "metadata": {
    "ExecuteTime": {
     "end_time": "2020-08-27T05:38:31.695353Z",
     "start_time": "2020-08-27T05:38:31.609778Z"
    }
   },
   "outputs": [],
   "source": [
    "if labels_per_class == \"full\":\n",
    "    X_labeled = X_train\n",
    "    Y_masked = Y_labeled = Y_train\n",
    "else:\n",
    "    X_labeled, Y_labeled, Y_masked = mask_labels(\n",
    "        X_train, Y_train, labels_per_class=labels_per_class\n",
    "    )"
   ]
  },
  {
   "cell_type": "markdown",
   "metadata": {},
   "source": [
    "### Build network"
   ]
  },
  {
   "cell_type": "code",
   "execution_count": 8,
   "metadata": {
    "ExecuteTime": {
     "end_time": "2020-08-27T05:38:31.909462Z",
     "start_time": "2020-08-27T05:38:31.697229Z"
    }
   },
   "outputs": [],
   "source": [
    "from tensorflow.keras import datasets, layers, models\n",
    "from tensorflow_addons.layers import WeightNormalization\n",
    "\n",
    "def conv_block(filts, name, kernel_size = (3, 3), padding = \"same\", **kwargs):\n",
    "    return WeightNormalization(\n",
    "        layers.Conv2D(\n",
    "            filts, kernel_size, activation=None, padding=padding, **kwargs\n",
    "        ),\n",
    "        name=\"conv\"+name,\n",
    "    )\n",
    "#CNN13\n",
    "#See: \n",
    "#https://github.com/vikasverma1077/ICT/blob/master/networks/lenet.py\n",
    "#https://github.com/brain-research/realistic-ssl-evaluation"
   ]
  },
  {
   "cell_type": "code",
   "execution_count": 9,
   "metadata": {
    "ExecuteTime": {
     "end_time": "2020-08-27T05:38:34.310353Z",
     "start_time": "2020-08-27T05:38:31.912195Z"
    }
   },
   "outputs": [],
   "source": [
    "lr_alpha = 0.1\n",
    "dropout_rate = 0.5\n",
    "num_classes = 10\n",
    "input_shape = dims\n",
    "model = models.Sequential()\n",
    "model.add(tf.keras.Input(shape=input_shape))\n",
    "### conv1a\n",
    "name = '1a'\n",
    "model.add(conv_block(name = name, filts = 128, kernel_size = (3,3), padding=\"same\"))\n",
    "model.add(layers.BatchNormalization(name=\"bn\"+name))\n",
    "model.add(layers.LeakyReLU(alpha=lr_alpha, name = 'lrelu'+name))\n",
    "\n",
    "### conv1b\n",
    "name = '1b'\n",
    "model.add(conv_block(name = name, filts = 128, kernel_size = (3,3), padding=\"same\"))\n",
    "model.add(layers.BatchNormalization(name=\"bn\"+name))\n",
    "model.add(layers.LeakyReLU(alpha=lr_alpha, name = 'lrelu'+name))\n",
    "\n",
    "### conv1c\n",
    "name = '1c'\n",
    "model.add(conv_block(name = name, filts = 128, kernel_size = (3,3), padding=\"same\"))\n",
    "model.add(layers.BatchNormalization(name=\"bn\"+name))\n",
    "model.add(layers.LeakyReLU(alpha=lr_alpha, name = 'lrelu'+name))\n",
    "\n",
    "# max pooling\n",
    "model.add(layers.MaxPooling2D(pool_size=(2, 2), strides=2, padding='valid', name=\"mp1\"))\n",
    "# dropout\n",
    "model.add(layers.Dropout(dropout_rate, name=\"drop1\"))\n",
    "\n",
    "### conv2a\n",
    "name = '2a'\n",
    "model.add(conv_block(name = name, filts = 256, kernel_size = (3,3), padding=\"same\"))\n",
    "model.add(layers.BatchNormalization(name=\"bn\"+name))\n",
    "model.add(layers.LeakyReLU(alpha=lr_alpha))\n",
    "\n",
    "### conv2b\n",
    "name = '2b'\n",
    "model.add(conv_block(name = name, filts = 256, kernel_size = (3,3), padding=\"same\"))\n",
    "model.add(layers.BatchNormalization(name=\"bn\"+name))\n",
    "model.add(layers.LeakyReLU(alpha=lr_alpha, name = 'lrelu'+name))\n",
    "\n",
    "### conv2c\n",
    "name = '2c'\n",
    "model.add(conv_block(name = name, filts = 256, kernel_size = (3,3), padding=\"same\"))\n",
    "model.add(layers.BatchNormalization(name=\"bn\"+name))\n",
    "model.add(layers.LeakyReLU(alpha=lr_alpha, name = 'lrelu'+name))\n",
    "\n",
    "# max pooling\n",
    "model.add(layers.MaxPooling2D(pool_size=(2, 2), strides=2, padding='valid', name=\"mp2\"))\n",
    "# dropout\n",
    "model.add(layers.Dropout(dropout_rate, name=\"drop2\"))\n",
    "\n",
    "### conv3a\n",
    "name = '3a'\n",
    "model.add(conv_block(name = name, filts = 512, kernel_size = (3,3), padding=\"valid\"))\n",
    "model.add(layers.BatchNormalization(name=\"bn\"+name))\n",
    "model.add(layers.LeakyReLU(alpha=lr_alpha, name = 'lrelu'+name))\n",
    "\n",
    "### conv3b\n",
    "name = '3b'\n",
    "model.add(conv_block(name = name, filts = 256, kernel_size = (1,1), padding=\"valid\"))\n",
    "model.add(layers.BatchNormalization(name=\"bn\"+name))\n",
    "model.add(layers.LeakyReLU(alpha=lr_alpha, name = 'lrelu'+name))\n",
    "\n",
    "### conv3c\n",
    "name = '3c'\n",
    "model.add(conv_block(name = name, filts = 128, kernel_size = (1,1), padding=\"valid\"))\n",
    "model.add(layers.BatchNormalization(name=\"bn\"+name))\n",
    "model.add(layers.LeakyReLU(alpha=lr_alpha, name = 'lrelu'+name))\n",
    "\n",
    "# max pooling\n",
    "model.add(layers.AveragePooling2D(pool_size=(3, 3), strides=2, padding='valid'))\n",
    "\n",
    "\n",
    "model.add(layers.Flatten())\n",
    "model.add(layers.Dense(256, activation=None, name='z'))\n",
    "model.add(WeightNormalization(layers.Dense(256, activation=None)))\n",
    "model.add(layers.LeakyReLU(alpha=lr_alpha, name = 'lrelufc1'))\n",
    "model.add(WeightNormalization(layers.Dense(256, activation=None)))\n",
    "model.add(layers.LeakyReLU(alpha=lr_alpha, name = 'lrelufc2'))\n",
    "model.add(WeightNormalization(layers.Dense(num_classes, activation=None)))"
   ]
  },
  {
   "cell_type": "code",
   "execution_count": 10,
   "metadata": {
    "ExecuteTime": {
     "end_time": "2020-08-27T05:38:34.410081Z",
     "start_time": "2020-08-27T05:38:34.312214Z"
    }
   },
   "outputs": [
    {
     "name": "stdout",
     "output_type": "stream",
     "text": [
      "Model: \"sequential\"\n",
      "_________________________________________________________________\n",
      "Layer (type)                 Output Shape              Param #   \n",
      "=================================================================\n",
      "conv1a (WeightNormalization) (None, 28, 28, 128)       2689      \n",
      "_________________________________________________________________\n",
      "bn1a (BatchNormalization)    (None, 28, 28, 128)       512       \n",
      "_________________________________________________________________\n",
      "lrelu1a (LeakyReLU)          (None, 28, 28, 128)       0         \n",
      "_________________________________________________________________\n",
      "conv1b (WeightNormalization) (None, 28, 28, 128)       295297    \n",
      "_________________________________________________________________\n",
      "bn1b (BatchNormalization)    (None, 28, 28, 128)       512       \n",
      "_________________________________________________________________\n",
      "lrelu1b (LeakyReLU)          (None, 28, 28, 128)       0         \n",
      "_________________________________________________________________\n",
      "conv1c (WeightNormalization) (None, 28, 28, 128)       295297    \n",
      "_________________________________________________________________\n",
      "bn1c (BatchNormalization)    (None, 28, 28, 128)       512       \n",
      "_________________________________________________________________\n",
      "lrelu1c (LeakyReLU)          (None, 28, 28, 128)       0         \n",
      "_________________________________________________________________\n",
      "mp1 (MaxPooling2D)           (None, 14, 14, 128)       0         \n",
      "_________________________________________________________________\n",
      "drop1 (Dropout)              (None, 14, 14, 128)       0         \n",
      "_________________________________________________________________\n",
      "conv2a (WeightNormalization) (None, 14, 14, 256)       590593    \n",
      "_________________________________________________________________\n",
      "bn2a (BatchNormalization)    (None, 14, 14, 256)       1024      \n",
      "_________________________________________________________________\n",
      "leaky_re_lu (LeakyReLU)      (None, 14, 14, 256)       0         \n",
      "_________________________________________________________________\n",
      "conv2b (WeightNormalization) (None, 14, 14, 256)       1180417   \n",
      "_________________________________________________________________\n",
      "bn2b (BatchNormalization)    (None, 14, 14, 256)       1024      \n",
      "_________________________________________________________________\n",
      "lrelu2b (LeakyReLU)          (None, 14, 14, 256)       0         \n",
      "_________________________________________________________________\n",
      "conv2c (WeightNormalization) (None, 14, 14, 256)       1180417   \n",
      "_________________________________________________________________\n",
      "bn2c (BatchNormalization)    (None, 14, 14, 256)       1024      \n",
      "_________________________________________________________________\n",
      "lrelu2c (LeakyReLU)          (None, 14, 14, 256)       0         \n",
      "_________________________________________________________________\n",
      "mp2 (MaxPooling2D)           (None, 7, 7, 256)         0         \n",
      "_________________________________________________________________\n",
      "drop2 (Dropout)              (None, 7, 7, 256)         0         \n",
      "_________________________________________________________________\n",
      "conv3a (WeightNormalization) (None, 5, 5, 512)         2360833   \n",
      "_________________________________________________________________\n",
      "bn3a (BatchNormalization)    (None, 5, 5, 512)         2048      \n",
      "_________________________________________________________________\n",
      "lrelu3a (LeakyReLU)          (None, 5, 5, 512)         0         \n",
      "_________________________________________________________________\n",
      "conv3b (WeightNormalization) (None, 5, 5, 256)         262913    \n",
      "_________________________________________________________________\n",
      "bn3b (BatchNormalization)    (None, 5, 5, 256)         1024      \n",
      "_________________________________________________________________\n",
      "lrelu3b (LeakyReLU)          (None, 5, 5, 256)         0         \n",
      "_________________________________________________________________\n",
      "conv3c (WeightNormalization) (None, 5, 5, 128)         65921     \n",
      "_________________________________________________________________\n",
      "bn3c (BatchNormalization)    (None, 5, 5, 128)         512       \n",
      "_________________________________________________________________\n",
      "lrelu3c (LeakyReLU)          (None, 5, 5, 128)         0         \n",
      "_________________________________________________________________\n",
      "average_pooling2d (AveragePo (None, 2, 2, 128)         0         \n",
      "_________________________________________________________________\n",
      "flatten (Flatten)            (None, 512)               0         \n",
      "_________________________________________________________________\n",
      "z (Dense)                    (None, 256)               131328    \n",
      "_________________________________________________________________\n",
      "weight_normalization (Weight (None, 256)               131841    \n",
      "_________________________________________________________________\n",
      "lrelufc1 (LeakyReLU)         (None, 256)               0         \n",
      "_________________________________________________________________\n",
      "weight_normalization_1 (Weig (None, 256)               131841    \n",
      "_________________________________________________________________\n",
      "lrelufc2 (LeakyReLU)         (None, 256)               0         \n",
      "_________________________________________________________________\n",
      "weight_normalization_2 (Weig (None, 10)                5151      \n",
      "=================================================================\n",
      "Total params: 6,642,730\n",
      "Trainable params: 3,388,308\n",
      "Non-trainable params: 3,254,422\n",
      "_________________________________________________________________\n"
     ]
    }
   ],
   "source": [
    "model.summary()"
   ]
  },
  {
   "cell_type": "markdown",
   "metadata": {},
   "source": [
    "### Augmentation"
   ]
  },
  {
   "cell_type": "code",
   "execution_count": 11,
   "metadata": {
    "ExecuteTime": {
     "end_time": "2020-08-27T05:38:34.550505Z",
     "start_time": "2020-08-27T05:38:34.412346Z"
    }
   },
   "outputs": [],
   "source": [
    "#https://github.com/tanzhenyu/image_augmentation/blob/master/image_augmentation/image/image_ops.py\n",
    "IMAGE_DTYPES = [tf.uint8, tf.float32, tf.float16, tf.float64]\n",
    "\n",
    "\n",
    "def _check_image_dtype(image):\n",
    "    assert image.dtype in IMAGE_DTYPES, \"image with \" + str(image.dtype) + \" is not supported for this operation\"\n",
    "\n",
    "\n",
    "@tf.function\n",
    "def invert(image, name=None):\n",
    "    \"\"\"Inverts the pixels of an `image`.\n",
    "    Args:\n",
    "        image: An int or float tensor of shape `[height, width, num_channels]`.\n",
    "        name: An optional string for name of the operation.\n",
    "    Returns:\n",
    "        A tensor with same shape and type as that of `image`.\n",
    "    \"\"\"\n",
    "    _check_image_dtype(image)\n",
    "\n",
    "    with tf.name_scope(name or \"invert\"):\n",
    "        if image.dtype == tf.uint8:\n",
    "            inv_image = 255 - image\n",
    "        else:\n",
    "            inv_image = 1. - image\n",
    "        return inv_image\n",
    "\n",
    "\n",
    "@tf.function\n",
    "def cutout(image, size=16, color=None, name=None):\n",
    "    \"\"\"This is an implementation of Cutout as described in \"Improved\n",
    "    Regularization of Convolutional Neural Networks with Cutout\" by\n",
    "    DeVries & Taylor (https://arxiv.org/abs/1708.04552).\n",
    "    It applies a random square patch of specified `size` over an `image`\n",
    "    and by replacing those pixels with value of `color`.\n",
    "    Args:\n",
    "        image: An int or float tensor of shape `[height, width, num_channels]`.\n",
    "        size: A 0-D int tensor or single int value that is divisible by 2.\n",
    "        color: A single pixel value (grayscale) or tuple of 3 values (RGB),\n",
    "            in case a single value is used for RGB image the value is tiled.\n",
    "            Gray color (128) is used by default.\n",
    "        name: An optional string for name of the operation.\n",
    "    Returns:\n",
    "        A tensor with same shape and type as that of `image`.\n",
    "    \"\"\"\n",
    "    _check_image_dtype(image)\n",
    "\n",
    "    with tf.name_scope(name or \"cutout\"):\n",
    "        image_shape = tf.shape(image)\n",
    "        height, width, channels = image_shape[0], image_shape[1], image_shape[2]\n",
    "\n",
    "        loc_x = tf.random.uniform((), 0, width, tf.int32)\n",
    "        loc_y = tf.random.uniform((), 0, height, tf.int32)\n",
    "\n",
    "        ly, lx = tf.maximum(0, loc_y - size // 2), tf.maximum(0, loc_x - size // 2)\n",
    "        uy, ux = tf.minimum(height, loc_y + size // 2), tf.minimum(width, loc_x + size // 2)\n",
    "\n",
    "        gray = tf.constant(128)\n",
    "        if color is None:\n",
    "            if image.dtype == tf.uint8:\n",
    "                color = tf.repeat(gray, channels)\n",
    "            else:\n",
    "                color = tf.repeat(tf.cast(gray, tf.float32) / 255., channels)\n",
    "        else:\n",
    "            color = tf.convert_to_tensor(color)\n",
    "        color = tf.cast(color, image.dtype)\n",
    "\n",
    "        cut = tf.ones((uy - ly, ux - lx, channels), image.dtype)\n",
    "\n",
    "        top = image[0: ly, 0: width]\n",
    "        between = tf.concat([\n",
    "            image[ly: uy, 0: lx],\n",
    "            cut * color,\n",
    "            image[ly: uy, ux: width]\n",
    "        ], axis=1)\n",
    "        bottom = image[uy: height, 0: width]\n",
    "\n",
    "        cutout_image = tf.concat([top, between, bottom], axis=0)\n",
    "        return cutout_image\n",
    "\n",
    "\n",
    "@tf.function\n",
    "def solarize(image, threshold, name=None):\n",
    "    \"\"\"Inverts the pixels of an `image` above a certain `threshold`.\n",
    "    Args:\n",
    "        image: An int or float tensor of shape `[height, width, num_channels]`.\n",
    "        threshold: A 0-D int / float tensor or int / float value for setting\n",
    "            inversion threshold.\n",
    "        name: An optional string for name of the operation.\n",
    "    Returns:\n",
    "        A tensor with same shape and type as that of `image`.\n",
    "    \"\"\"\n",
    "    _check_image_dtype(image)\n",
    "\n",
    "    with tf.name_scope(name or \"solarize\"):\n",
    "        threshold = tf.cast(threshold, image.dtype)\n",
    "\n",
    "        inverted_image = invert(image)\n",
    "        solarized_image = tf.where(image < threshold, image, inverted_image)\n",
    "        return solarized_image\n",
    "\n",
    "\n",
    "@tf.function\n",
    "def solarize_add(image, addition, threshold=None, name=None):\n",
    "    \"\"\"Adds `addition` intensity to each pixel and inverts the pixels\n",
    "    of an `image` above a certain `threshold`.\n",
    "    Args:\n",
    "        image: An int or float tensor of shape `[height, width, num_channels]`.\n",
    "        addition: A 0-D int / float tensor or int / float value that is to be\n",
    "            added to each pixel.\n",
    "        threshold: A 0-D int / float tensor or int / float value for setting\n",
    "            inversion threshold. 128 (int) / 0.5 (float) is used by default.\n",
    "        name: An optional string for name of the operation.\n",
    "    Returns:\n",
    "        A tensor with same shape and type as that of `image`.\n",
    "    \"\"\"\n",
    "    _check_image_dtype(image)\n",
    "\n",
    "    with tf.name_scope(name or \"solarize_add\"):\n",
    "        if threshold is None:\n",
    "            threshold = tf.image.convert_image_dtype(tf.constant(128, tf.uint8), image.dtype)\n",
    "\n",
    "        addition = tf.cast(addition, image.dtype)\n",
    "        added_image = image + addition\n",
    "\n",
    "        dark, bright = tf.constant(0, tf.uint8), tf.constant(255, tf.uint8)\n",
    "        added_image = tf.clip_by_value(added_image, tf.image.convert_image_dtype(dark, image.dtype),\n",
    "                                       tf.image.convert_image_dtype(bright, image.dtype))\n",
    "        return solarize(added_image, threshold)\n",
    "\n",
    "\n",
    "@tf.function\n",
    "def posterize(image, num_bits, name=None):\n",
    "    \"\"\"Reduces the number of bits used to represent an `image`\n",
    "    for each color channel.\n",
    "    Args:\n",
    "        image: An int or float tensor of shape `[height, width, num_channels]`.\n",
    "        num_bits: A 0-D int tensor or integer value representing number of bits.\n",
    "        name: An optional string for name of the operation.\n",
    "    Returns:\n",
    "        A tensor with same shape and type as that of `image`.\n",
    "    \"\"\"\n",
    "    _check_image_dtype(image)\n",
    "\n",
    "    with tf.name_scope(name or \"posterize\"):\n",
    "        orig_dtype = image.dtype\n",
    "        image = tf.image.convert_image_dtype(image, tf.uint8)\n",
    "\n",
    "        num_bits = tf.cast(num_bits, tf.int32)\n",
    "        mask = tf.cast(2 ** (8 - num_bits) - 1, tf.uint8)\n",
    "        mask = tf.bitwise.invert(mask)\n",
    "\n",
    "        posterized_image = tf.bitwise.bitwise_and(image, mask)\n",
    "        posterized_image = tf.image.convert_image_dtype(posterized_image, orig_dtype, saturate=True)\n",
    "        return posterized_image\n",
    "\n",
    "\n",
    "@tf.function\n",
    "def equalize(image, name=None):\n",
    "    \"\"\"Equalizes the `image` histogram. In case of an RGB image, equalization\n",
    "    individually for each channel.\n",
    "    Args:\n",
    "        image: An int or float tensor of shape `[height, width, num_channels]`.\n",
    "        name: An optional string for name of the operation.\n",
    "    Returns:\n",
    "        A tensor with same shape and type as that of `image`.\n",
    "    \"\"\"\n",
    "    _check_image_dtype(image)\n",
    "\n",
    "    with tf.name_scope(name or \"equalize\"):\n",
    "        orig_dtype = image.dtype\n",
    "        image = tf.image.convert_image_dtype(image, tf.uint8, saturate=True)\n",
    "        image = tf.cast(image, tf.int32)\n",
    "\n",
    "        def equalize_grayscale(image_channel):\n",
    "            \"\"\"Equalizes the histogram of a grayscale (2D) image.\"\"\"\n",
    "            bins = tf.constant(256, tf.int32)\n",
    "\n",
    "            histogram = tf.math.bincount(image_channel, minlength=bins)\n",
    "            nonzero = tf.where(tf.math.not_equal(histogram, 0))\n",
    "            nonzero_histogram = tf.reshape(tf.gather(histogram, nonzero), [-1])\n",
    "            step = (tf.reduce_sum(nonzero_histogram) - nonzero_histogram[-1]) // (bins - 1)\n",
    "\n",
    "            # use a lut similar to PIL\n",
    "            def normalize(histogram, step):\n",
    "                norm_histogram = (tf.math.cumsum(histogram) + (step // 2)) // step\n",
    "                norm_histogram = tf.concat([[0], norm_histogram], axis=0)\n",
    "                norm_histogram = tf.clip_by_value(norm_histogram, 0, bins - 1)\n",
    "                return norm_histogram\n",
    "\n",
    "            return tf.cond(tf.math.equal(step, 0),\n",
    "                           lambda: image_channel,\n",
    "                           lambda: tf.gather(normalize(histogram, step), image_channel))\n",
    "\n",
    "        channels_first_image = tf.transpose(image, [2, 0, 1])\n",
    "        channels_first_equalized_image = tf.map_fn(equalize_grayscale, channels_first_image)\n",
    "        equalized_image = tf.transpose(channels_first_equalized_image, [1, 2, 0])\n",
    "\n",
    "        equalized_image = tf.cast(equalized_image, tf.uint8)\n",
    "        equalized_image = tf.image.convert_image_dtype(equalized_image, orig_dtype)\n",
    "        return equalized_image\n",
    "\n",
    "\n",
    "@tf.function\n",
    "def auto_contrast(image, name=None):\n",
    "    \"\"\"Normalizes `image` contrast by remapping the `image` histogram such\n",
    "    that the brightest pixel becomes 1.0 (float) / 255 (unsigned int) and\n",
    "    darkest pixel becomes 0.\n",
    "    Args:\n",
    "        image: An int or float tensor of shape `[height, width, num_channels]`.\n",
    "        name: An optional string for name of the operation.\n",
    "    Returns:\n",
    "        A tensor with same shape and type as that of `image`.\n",
    "    \"\"\"\n",
    "    _check_image_dtype(image)\n",
    "\n",
    "    with tf.name_scope(name or \"auto_contrast\"):\n",
    "        orig_dtype = image.dtype\n",
    "        image = tf.image.convert_image_dtype(image, tf.float32)\n",
    "\n",
    "        min_val, max_val = tf.reduce_min(image, axis=[0, 1]), tf.reduce_max(image, axis=[0, 1])\n",
    "\n",
    "        norm_image = (image - min_val) / (max_val - min_val)\n",
    "        norm_image = tf.image.convert_image_dtype(norm_image, orig_dtype, saturate=True)\n",
    "        return norm_image\n",
    "\n",
    "\n",
    "@tf.function\n",
    "def blend(image1, image2, factor, name=None):\n",
    "    \"\"\"Blends an image with another using `factor`.\n",
    "    Args:\n",
    "        image1: An int or float tensor of shape `[height, width, num_channels]`.\n",
    "        image2: An int or float tensor of shape `[height, width, num_channels]`.\n",
    "        factor: A 0-D float tensor or single floating point value depicting\n",
    "            a weight above 0.0 for combining the example_images.\n",
    "        name: An optional string for name of the operation.\n",
    "    Returns:\n",
    "        A tensor with same shape and type as that of `image1` and `image2`.\n",
    "    \"\"\"\n",
    "    _check_image_dtype(image1)\n",
    "    _check_image_dtype(image2)\n",
    "    assert image1.dtype == image2.dtype, \"image1 type should exactly match type of image2\"\n",
    "\n",
    "    if factor == 0.0:\n",
    "        return image1\n",
    "    elif factor == 1.0:\n",
    "        return image2\n",
    "    else:\n",
    "        with tf.name_scope(name or \"blend\"):\n",
    "            orig_dtype = image2.dtype\n",
    "\n",
    "            image1, image2 = tf.image.convert_image_dtype(image1, tf.float32), tf.image.convert_image_dtype(image2, tf.float32)\n",
    "            scaled_diff = (image2 - image1) * factor\n",
    "\n",
    "            blended_image = image1 + scaled_diff\n",
    "\n",
    "            blended_image = tf.image.convert_image_dtype(blended_image, orig_dtype, saturate=True)\n",
    "            return blended_image\n",
    "\n",
    "\n",
    "@tf.function\n",
    "def sample_pairing(image1, image2, weight, name=None):\n",
    "    \"\"\"Alias of `blend`. This is an implementation of SamplePairing\n",
    "    as described in \"Data Augmentation by Pairing Samples for Images Classification\"\n",
    "    by Inoue (https://arxiv.org/abs/1801.02929).\n",
    "    Args:\n",
    "        image1: An int or float tensor of shape `[height, width, num_channels]`.\n",
    "        image2: An int or float tensor of shape `[height, width, num_channels]`.\n",
    "        weight: A 0-D float tensor or single floating point value depicting\n",
    "            a weight factor above 0.0 for combining the example_images.\n",
    "        name: An optional string for name of the operation.\n",
    "    Returns:\n",
    "        A tensor with same shape and type as that of `image1`.\n",
    "    \"\"\"\n",
    "    with tf.name_scope(name or \"sample_pairing\"):\n",
    "        paired_image = blend(image1, image2, weight)\n",
    "        return paired_image\n",
    "\n",
    "\n",
    "@tf.function\n",
    "def color(image, magnitude, name=None):\n",
    "    \"\"\"Adjusts the `magnitude` of color of an `image`.\n",
    "    Args:\n",
    "        image: An int or float tensor of shape `[height, width, num_channels]`.\n",
    "        magnitude: A 0-D float tensor or single floating point value above 0.0.\n",
    "        name: An optional string for name of the operation.\n",
    "    Returns:\n",
    "        A tensor with same shape and type as that of `image`.\n",
    "    \"\"\"\n",
    "    _check_image_dtype(image)\n",
    "\n",
    "    with tf.name_scope(name or \"color\"):\n",
    "        tiled_gray_image = tf.image.grayscale_to_rgb(tf.image.rgb_to_grayscale(image))\n",
    "        colored_image = blend(tiled_gray_image, image, magnitude)\n",
    "        return colored_image\n",
    "\n",
    "\n",
    "@tf.function\n",
    "def sharpness(image, magnitude, name=None):\n",
    "    \"\"\"Adjusts the `magnitude` of sharpness of an `image`.\n",
    "    Args:\n",
    "        image: An int or float tensor of shape `[height, width, num_channels]`.\n",
    "        magnitude: A 0-D float tensor or single floating point value above 0.0.\n",
    "        name: An optional string for name of the operation.\n",
    "    Returns:\n",
    "        A tensor with same shape and type as that of `image`.\n",
    "    \"\"\"\n",
    "    _check_image_dtype(image)\n",
    "\n",
    "    with tf.name_scope(name or \"sharpness\"):\n",
    "        orig_dtype = image.dtype\n",
    "        image = tf.image.convert_image_dtype(image, tf.uint8, saturate=True)\n",
    "        image = tf.cast(image, tf.float32)\n",
    "\n",
    "        blur_kernel = tf.constant([[1, 1, 1],\n",
    "                                   [1, 5, 1],\n",
    "                                   [1, 1, 1]], tf.float32, shape=[3, 3, 1, 1]) / 13\n",
    "        blur_kernel = tf.tile(blur_kernel, [1, 1, 3, 1])\n",
    "        strides = [1, 1, 1, 1]\n",
    "\n",
    "        # add extra dimension to image before conv\n",
    "        blurred_image = tf.nn.depthwise_conv2d(image[None, ...], blur_kernel,\n",
    "                                               strides, padding=\"VALID\")\n",
    "        blurred_image = tf.clip_by_value(blurred_image, 0., 255.)\n",
    "        # remove extra dimension\n",
    "        blurred_image = blurred_image[0]\n",
    "\n",
    "        mask = tf.ones_like(blurred_image)\n",
    "        extra_padding = tf.constant([[1, 1],\n",
    "                                     [1, 1],\n",
    "                                     [0, 0]], tf.int32)\n",
    "        padded_mask = tf.pad(mask, extra_padding)\n",
    "        padded_blurred_image = tf.pad(blurred_image, extra_padding)\n",
    "\n",
    "        blurred_image = tf.where(padded_mask == 1, padded_blurred_image, image)\n",
    "\n",
    "        sharpened_image = blend(blurred_image, image, magnitude)\n",
    "\n",
    "        sharpened_image = tf.cast(sharpened_image, tf.uint8)\n",
    "        sharpened_image = tf.image.convert_image_dtype(sharpened_image, orig_dtype)\n",
    "        return sharpened_image\n",
    "\n",
    "\n",
    "@tf.function\n",
    "def brightness(image, magnitude, name=None):\n",
    "    \"\"\"Adjusts the `magnitude` of brightness of an `image`.\n",
    "    Args:\n",
    "        image: An int or float tensor of shape `[height, width, num_channels]`.\n",
    "        magnitude: A 0-D float tensor or single floating point value above 0.0.\n",
    "        name: An optional string for name of the operation.\n",
    "    Returns:\n",
    "        A tensor with same shape and type as that of `image`.\n",
    "    \"\"\"\n",
    "    _check_image_dtype(image)\n",
    "\n",
    "    with tf.name_scope(name or \"brightness\"):\n",
    "        dark = tf.zeros_like(image)\n",
    "        bright_image = blend(dark, image, magnitude)\n",
    "        return bright_image\n",
    "\n",
    "\n",
    "@tf.function\n",
    "def contrast(image, magnitude, name=None):\n",
    "    \"\"\"Adjusts the `magnitude` of contrast of an `image`.\n",
    "    Args:\n",
    "        image: An int or float tensor of shape `[height, width, num_channels]`.\n",
    "        magnitude: A 0-D float tensor or single floating point value above 0.0.\n",
    "        name: An optional string for name of the operation.\n",
    "    Returns:\n",
    "        A tensor with same shape and type as that of `image`.\n",
    "    \"\"\"\n",
    "    _check_image_dtype(image)\n",
    "\n",
    "    with tf.name_scope(name or \"contrast\"):\n",
    "        orig_dtype = image.dtype\n",
    "        image = tf.image.convert_image_dtype(image, tf.uint8, saturate=True)\n",
    "\n",
    "        grayed_image = tf.image.rgb_to_grayscale(image)\n",
    "        grayed_image = tf.cast(grayed_image, tf.int32)\n",
    "        bins = tf.constant(256, tf.int32)\n",
    "        histogram = tf.math.bincount(grayed_image, minlength=bins)\n",
    "        histogram = tf.cast(histogram, tf.float32)\n",
    "        mean = tf.reduce_sum(tf.cast(grayed_image, tf.float32)) / tf.reduce_sum(histogram)\n",
    "        mean = tf.clip_by_value(mean, 0.0, 255.0)\n",
    "\n",
    "        mean = tf.cast(mean, tf.uint8)\n",
    "        mean_image = tf.ones_like(grayed_image, tf.uint8) * mean\n",
    "        mean_image = tf.image.grayscale_to_rgb(mean_image)\n",
    "\n",
    "        contrast_image = blend(mean_image, image, magnitude)\n",
    "        contrast_image = tf.image.convert_image_dtype(contrast_image, orig_dtype, saturate=True)\n",
    "        return contrast_image"
   ]
  },
  {
   "cell_type": "code",
   "execution_count": 12,
   "metadata": {
    "ExecuteTime": {
     "end_time": "2020-08-27T05:38:34.671480Z",
     "start_time": "2020-08-27T05:38:34.552610Z"
    }
   },
   "outputs": [],
   "source": [
    "import tensorflow_addons as tfa\n",
    "\n",
    "\n",
    "def get_augment(\n",
    "    augment_probability=0.25,\n",
    "    brightness_range=[1e-5, 1.5],\n",
    "    contrast_range=[1e-5, 1],\n",
    "    cutout_range=[0, 0.5],\n",
    "    rescale_range=[0.5, 1],\n",
    "    rescale_range_x_range=0.5,\n",
    "    rescale_range_y_range=0.5,\n",
    "    rotate_range=[-3.14, 3.14],\n",
    "    shear_x_range=[-0.3, 0.3],\n",
    "    shear_y_range=[-0.3, 0.3],\n",
    "    translate_x_range=0.3,\n",
    "    translate_y_range=0.3,\n",
    "    dims=(28, 28, 1),\n",
    "):\n",
    "    def augment(image, label):\n",
    "\n",
    "        #image = tf.image.random_flip_left_right(image)\n",
    "\n",
    "        random_switch = tf.cast(\n",
    "            tf.random.uniform(\n",
    "                (1,), minval=0, maxval=1 + int(1 / augment_probability), dtype=tf.int32\n",
    "            )[0]\n",
    "            == 1,\n",
    "            tf.bool,\n",
    "        )\n",
    "\n",
    "        if random_switch:\n",
    "            return image, label\n",
    "        \n",
    "        # Brightness 0-1\n",
    "        brightness_factor = tf.random.uniform(\n",
    "            (1,),\n",
    "            minval=brightness_range[0],\n",
    "            maxval=brightness_range[1],\n",
    "            dtype=tf.float32,\n",
    "        )[0]\n",
    "        image = brightness(image, brightness_factor)\n",
    "    \n",
    "        \n",
    "        # rescale 0.5-1\n",
    "        rescale_factor = tf.random.uniform(\n",
    "            (1,), minval=rescale_range[0], maxval=rescale_range[1], dtype=tf.float32\n",
    "        )[0]\n",
    "        image = tf.image.random_crop(image, [dims[0]*rescale_factor, dims[1]*rescale_factor, dims[2]])\n",
    "        image = tf.image.resize(image, [dims[0], dims[1]])\n",
    "        \n",
    "        # sqeeze x or y\n",
    "        randint_hor = tf.random.uniform(\n",
    "            (2,),\n",
    "            minval=0,\n",
    "            maxval=tf.cast(rescale_range_x_range * dims[0], tf.int32),\n",
    "            dtype=tf.int32,\n",
    "        )[0]\n",
    "        randint_vert = tf.random.uniform(\n",
    "            (2,),\n",
    "            minval=0,\n",
    "            maxval=tf.cast(rescale_range_y_range * dims[1], tf.int32),\n",
    "            dtype=tf.int32,\n",
    "        )[0]\n",
    "        image = tf.image.resize(\n",
    "            image, (dims[0] + randint_vert * 2, dims[1] + randint_hor * 2)\n",
    "        )\n",
    "\n",
    "        image = tf.image.resize_with_pad(image, dims[0], dims[1])\n",
    "\n",
    "        image = tf.image.resize_with_crop_or_pad(\n",
    "            image, dims[0] + 3, dims[1] + 3\n",
    "        )  # crop 6 pixels\n",
    "        image = tf.image.random_crop(image, size=dims)\n",
    "\n",
    "        # rotate -45 45\n",
    "        rotate_factor = tf.random.uniform(\n",
    "            (1,),\n",
    "            minval=rotate_range[0],\n",
    "            maxval=rotate_range[1],\n",
    "            dtype=tf.float32,\n",
    "        )[0]\n",
    "        image = tfa.image.rotate(image, rotate_factor, interpolation=\"BILINEAR\",)\n",
    "\n",
    "        # shear_x -0.3, 3\n",
    "        shear_x_factor = tf.random.uniform(\n",
    "            (1,), minval=shear_x_range[0], maxval=shear_x_range[1], dtype=tf.float32\n",
    "        )[0]\n",
    "\n",
    "        img = tf.repeat(tf.cast(image * 255, tf.uint8), 3, axis=2)\n",
    "        image = tf.cast(tfa.image.shear_x(\n",
    "               img, shear_x_factor, replace=0\n",
    "        )[:,:,:1], tf.float32) / 255\n",
    "\n",
    "        # shear_y -0.3, 3\n",
    "        shear_y_factor = tf.random.uniform(\n",
    "            (1,), minval=shear_x_range[0], maxval=shear_y_range[1], dtype=tf.float32\n",
    "        )[0]\n",
    "        img = tf.repeat(tf.cast(image * 255, tf.uint8), 3, axis=2)\n",
    "        image = tf.cast(tfa.image.shear_y(\n",
    "               img, shear_y_factor, replace=0\n",
    "        )[:,:,:1], tf.float32) / 255.\n",
    "        #print(image.shape)\n",
    "        # translate x -0.3, 0.3\n",
    "        translate_x_factor = tf.random.uniform(\n",
    "            (1,), minval=0, maxval=translate_x_range * 2, dtype=tf.float32\n",
    "        )[0]\n",
    "        # translate y -0.3, 0.3\n",
    "        translate_y_factor = tf.random.uniform(\n",
    "            (1,), minval=0, maxval=translate_y_range * 2, dtype=tf.float32\n",
    "        )[0]\n",
    "\n",
    "        image = tf.image.resize_with_crop_or_pad(\n",
    "            image,\n",
    "            dims[0] + tf.cast(translate_x_factor * dims[0], tf.int32),\n",
    "            dims[1] + tf.cast(translate_x_factor * dims[1], tf.int32),\n",
    "        )  # crop 6 pixels\n",
    "        image = tf.image.random_crop(image, size=dims)\n",
    "        \n",
    "        # contrast 0-1\n",
    "        contrast_factor = tf.random.uniform(\n",
    "            (1,), minval=contrast_range[0], maxval=contrast_range[1], dtype=tf.float32\n",
    "        )[0]\n",
    "        image = tf.image.adjust_contrast(image, contrast_factor)\n",
    "        image = image - tf.reduce_min(image)\n",
    "        \n",
    "        # cutout 0-0.5\n",
    "        cutout_factor = tf.random.uniform(\n",
    "            (1,), minval=cutout_range[0], maxval=cutout_range[1], dtype=tf.float32\n",
    "        )[0]\n",
    "        image = cutout(image, tf.cast(cutout_factor * dims[0], tf.int32))\n",
    "        \n",
    "        image = tf.clip_by_value(image, 0.0,1.0)\n",
    "        \n",
    "\n",
    "        return image, label\n",
    "\n",
    "    return augment\n",
    "\n",
    "\n",
    "augment = get_augment(\n",
    "    augment_probability=0.1,\n",
    "    brightness_range=[0.5, 1],\n",
    "    contrast_range=[0.5, 2],\n",
    "    cutout_range=[0, 0.75],\n",
    "    rescale_range=[0.75, 1],\n",
    "    rescale_range_x_range=0.9,\n",
    "    rescale_range_y_range=0.9,\n",
    "    rotate_range=[-0.5, 0.5],\n",
    "    shear_x_range=[-0.3, 0.3],\n",
    "    shear_y_range=[-0.3, 0.3],\n",
    "    translate_x_range=0.2,\n",
    "    translate_y_range=0.2,\n",
    "    dims=(28, 28, 1),\n",
    ")"
   ]
  },
  {
   "cell_type": "code",
   "execution_count": 13,
   "metadata": {
    "ExecuteTime": {
     "end_time": "2020-08-27T05:38:40.316829Z",
     "start_time": "2020-08-27T05:38:34.673284Z"
    },
    "scrolled": false
   },
   "outputs": [
    {
     "data": {
      "image/png": "[encoded data removed]",
      "text/plain": [
       "<Figure size 1584x144 with 11 Axes>"
      ]
     },
     "metadata": {
      "needs_background": "light"
     },
     "output_type": "display_data"
    },
    {
     "data": {
      "image/png": "[encoded data removed]",
      "text/plain": [
       "<Figure size 1584x144 with 11 Axes>"
      ]
     },
     "metadata": {
      "needs_background": "light"
     },
     "output_type": "display_data"
    },
    {
     "data": {
      "image/png": "[encoded data removed]",
      "text/plain": [
       "<Figure size 1584x144 with 11 Axes>"
      ]
     },
     "metadata": {
      "needs_background": "light"
     },
     "output_type": "display_data"
    },
    {
     "data": {
      "image/png": "[encoded data removed]",
      "text/plain": [
       "<Figure size 1584x144 with 11 Axes>"
      ]
     },
     "metadata": {
      "needs_background": "light"
     },
     "output_type": "display_data"
    },
    {
     "data": {
      "image/png": "[encoded data removed]",
      "text/plain": [
       "<Figure size 1584x144 with 11 Axes>"
      ]
     },
     "metadata": {
      "needs_background": "light"
     },
     "output_type": "display_data"
    }
   ],
   "source": [
    "nex = 10\n",
    "for i in range(5):\n",
    "    fig, axs = plt.subplots(ncols=nex +1, figsize=((nex+1)*2, 2))\n",
    "    axs[0].imshow(np.squeeze(X_train[i]), cmap = plt.cm.Greys)\n",
    "    axs[0].axis('off')\n",
    "    for ax in axs.flatten()[1:]:\n",
    "        aug_img = np.squeeze(augment(X_train[i], Y_train[i])[0])\n",
    "        ax.matshow(aug_img, cmap = plt.cm.Greys, vmin=0, vmax=1)\n",
    "        ax.axis('off')"
   ]
  },
  {
   "cell_type": "markdown",
   "metadata": {},
   "source": [
    "### train"
   ]
  },
  {
   "cell_type": "code",
   "execution_count": 14,
   "metadata": {
    "ExecuteTime": {
     "end_time": "2020-08-27T05:38:40.390085Z",
     "start_time": "2020-08-27T05:38:40.318714Z"
    }
   },
   "outputs": [],
   "source": [
    "early_stopping = tf.keras.callbacks.EarlyStopping(\n",
    "    monitor='val_accuracy', min_delta=0, patience=100, verbose=1, mode='auto',\n",
    "    baseline=None, restore_best_weights=True\n",
    ")"
   ]
  },
  {
   "cell_type": "code",
   "execution_count": 15,
   "metadata": {
    "ExecuteTime": {
     "end_time": "2020-08-27T05:38:40.525307Z",
     "start_time": "2020-08-27T05:38:40.391836Z"
    }
   },
   "outputs": [],
   "source": [
    "import tensorflow_addons as tfa"
   ]
  },
  {
   "cell_type": "code",
   "execution_count": 16,
   "metadata": {
    "ExecuteTime": {
     "end_time": "2020-08-27T05:38:40.636426Z",
     "start_time": "2020-08-27T05:38:40.527030Z"
    }
   },
   "outputs": [],
   "source": [
    "opt = tf.keras.optimizers.Adam(1e-4)\n",
    "opt = tfa.optimizers.MovingAverage(opt)\n",
    "loss = tf.keras.losses.CategoricalCrossentropy(label_smoothing=0.2, from_logits=True)\n",
    "model.compile(opt, loss = loss, metrics=['accuracy'])"
   ]
  },
  {
   "cell_type": "code",
   "execution_count": 17,
   "metadata": {
    "ExecuteTime": {
     "end_time": "2020-08-27T05:38:40.712049Z",
     "start_time": "2020-08-27T05:38:40.638151Z"
    }
   },
   "outputs": [],
   "source": [
    "Y_valid_one_hot = tf.keras.backend.one_hot(\n",
    "    Y_valid, num_classes\n",
    ")"
   ]
  },
  {
   "cell_type": "code",
   "execution_count": 18,
   "metadata": {
    "ExecuteTime": {
     "end_time": "2020-08-27T05:38:40.800423Z",
     "start_time": "2020-08-27T05:38:40.713789Z"
    }
   },
   "outputs": [],
   "source": [
    "Y_labeled_one_hot = tf.keras.backend.one_hot(\n",
    "    Y_labeled, num_classes\n",
    ")"
   ]
  },
  {
   "cell_type": "code",
   "execution_count": 19,
   "metadata": {
    "ExecuteTime": {
     "end_time": "2020-08-27T05:38:40.907108Z",
     "start_time": "2020-08-27T05:38:40.802118Z"
    }
   },
   "outputs": [],
   "source": [
    "from livelossplot import PlotLossesKerasTF\n",
    "# plot losses callback\n",
    "plotlosses = PlotLossesKerasTF()"
   ]
  },
  {
   "cell_type": "code",
   "execution_count": 20,
   "metadata": {
    "ExecuteTime": {
     "end_time": "2020-08-27T05:38:44.289373Z",
     "start_time": "2020-08-27T05:38:40.909088Z"
    }
   },
   "outputs": [],
   "source": [
    "train_ds = (\n",
    "     tf.data.Dataset.from_tensor_slices((X_labeled, Y_labeled_one_hot))\n",
    "    .repeat()\n",
    "    .shuffle(len(X_labeled))\n",
    "    .map(augment, num_parallel_calls=tf.data.experimental.AUTOTUNE)\n",
    "    .batch(batch_size)\n",
    "    .prefetch(tf.data.experimental.AUTOTUNE)\n",
    ") "
   ]
  },
  {
   "cell_type": "code",
   "execution_count": 21,
   "metadata": {
    "ExecuteTime": {
     "end_time": "2020-08-27T07:34:53.401938Z",
     "start_time": "2020-08-27T05:38:44.291594Z"
    },
    "scrolled": false
   },
   "outputs": [
    {
     "data": {
      "image/png": "[encoded data removed]",
      "text/plain": [
       "<Figure size 864x576 with 2 Axes>"
      ]
     },
     "metadata": {
      "needs_background": "light"
     },
     "output_type": "display_data"
    },
    {
     "name": "stdout",
     "output_type": "stream",
     "text": [
      "accuracy\n",
      "\ttraining         \t (min:    0.444, max:    0.959, cur:    0.958)\n",
      "\tvalidation       \t (min:    0.935, max:    0.995, cur:    0.994)\n",
      "Loss\n",
      "\ttraining         \t (min:    0.943, max:    1.881, cur:    0.944)\n",
      "\tvalidation       \t (min:    0.879, max:    1.208, cur:    0.880)\n",
      "390/390 [==============================] - 28s 73ms/step - loss: 0.9444 - accuracy: 0.9583 - val_loss: 0.8805 - val_accuracy: 0.9941\n",
      "Epoch 00243: early stopping\n"
     ]
    }
   ],
   "source": [
    "steps_per_epoch = int(len(X_train)/ batch_size)\n",
    "\n",
    "history = model.fit(\n",
    "    train_ds,\n",
    "    epochs=500,\n",
    "    validation_data=(X_valid, Y_valid_one_hot),\n",
    "    callbacks = [early_stopping, plotlosses],\n",
    "    steps_per_epoch = steps_per_epoch,\n",
    ")"
   ]
  },
  {
   "cell_type": "code",
   "execution_count": 22,
   "metadata": {
    "ExecuteTime": {
     "end_time": "2020-08-27T07:34:54.630028Z",
     "start_time": "2020-08-27T07:34:53.404058Z"
    }
   },
   "outputs": [
    {
     "data": {
      "text/plain": [
       "[<matplotlib.lines.Line2D at 0x7f1154076438>]"
      ]
     },
     "execution_count": 22,
     "metadata": {},
     "output_type": "execute_result"
    },
    {
     "data": {
      "image/png": "[encoded data removed]",
      "text/plain": [
       "<Figure size 432x288 with 1 Axes>"
      ]
     },
     "metadata": {
      "needs_background": "light"
     },
     "output_type": "display_data"
    }
   ],
   "source": [
    "plt.plot(history.history['loss'])\n",
    "plt.plot(history.history['val_loss'])"
   ]
  },
  {
   "cell_type": "code",
   "execution_count": 23,
   "metadata": {
    "ExecuteTime": {
     "end_time": "2020-08-27T07:34:54.899937Z",
     "start_time": "2020-08-27T07:34:54.634653Z"
    }
   },
   "outputs": [
    {
     "data": {
      "text/plain": [
       "[<matplotlib.lines.Line2D at 0x7f12ea7869e8>]"
      ]
     },
     "execution_count": 23,
     "metadata": {},
     "output_type": "execute_result"
    },
    {
     "data": {
      "image/png": "[encoded data removed]",
      "text/plain": [
       "<Figure size 432x288 with 1 Axes>"
      ]
     },
     "metadata": {
      "needs_background": "light"
     },
     "output_type": "display_data"
    }
   ],
   "source": [
    "plt.plot(history.history['accuracy'])\n",
    "plt.plot(history.history['val_accuracy'])"
   ]
  },
  {
   "cell_type": "code",
   "execution_count": 24,
   "metadata": {
    "ExecuteTime": {
     "end_time": "2020-08-27T07:35:05.430229Z",
     "start_time": "2020-08-27T07:34:54.901814Z"
    }
   },
   "outputs": [
    {
     "data": {
      "text/plain": [
       "(50000, 256)"
      ]
     },
     "execution_count": 24,
     "metadata": {},
     "output_type": "execute_result"
    }
   ],
   "source": [
    "submodel = tf.keras.models.Model(\n",
    "        [model.inputs[0]], [model.get_layer('z').output]\n",
    "    )\n",
    "z = submodel.predict(X_train)\n",
    "np.shape(z)"
   ]
  },
  {
   "cell_type": "code",
   "execution_count": 25,
   "metadata": {
    "ExecuteTime": {
     "end_time": "2020-08-27T07:35:56.658613Z",
     "start_time": "2020-08-27T07:35:05.432524Z"
    }
   },
   "outputs": [
    {
     "name": "stdout",
     "output_type": "stream",
     "text": [
      "UMAP(dens_frac=0.0, dens_lambda=0.0, verbose=True)\n",
      "Construct fuzzy simplicial set\n",
      "Thu Aug 27 00:35:05 2020 Finding Nearest Neighbors\n",
      "Thu Aug 27 00:35:05 2020 Building RP forest with 16 trees\n",
      "Thu Aug 27 00:35:13 2020 parallel NN descent for 16 iterations\n",
      "\t 0  /  16\n",
      "\t 1  /  16\n",
      "\t 2  /  16\n",
      "\t 3  /  16\n",
      "Thu Aug 27 00:35:28 2020 Finished Nearest Neighbor Search\n",
      "Thu Aug 27 00:35:32 2020 Construct embedding\n",
      "\tcompleted  0  /  200 epochs\n",
      "\tcompleted  20  /  200 epochs\n",
      "\tcompleted  40  /  200 epochs\n",
      "\tcompleted  60  /  200 epochs\n",
      "\tcompleted  80  /  200 epochs\n",
      "\tcompleted  100  /  200 epochs\n",
      "\tcompleted  120  /  200 epochs\n",
      "\tcompleted  140  /  200 epochs\n",
      "\tcompleted  160  /  200 epochs\n",
      "\tcompleted  180  /  200 epochs\n",
      "Thu Aug 27 00:35:56 2020 Finished embedding\n"
     ]
    }
   ],
   "source": [
    "reducer = umap.UMAP(verbose=True)\n",
    "\n",
    "embedding = reducer.fit_transform(z.reshape(len(z), np.product(np.shape(z)[1:])))"
   ]
  },
  {
   "cell_type": "code",
   "execution_count": 26,
   "metadata": {
    "ExecuteTime": {
     "end_time": "2020-08-27T07:35:58.896731Z",
     "start_time": "2020-08-27T07:35:56.660824Z"
    }
   },
   "outputs": [
    {
     "data": {
      "text/plain": [
       "<matplotlib.collections.PathCollection at 0x7f1114071470>"
      ]
     },
     "execution_count": 26,
     "metadata": {},
     "output_type": "execute_result"
    },
    {
     "data": {
      "image/png": "[encoded data removed]",
      "text/plain": [
       "<Figure size 432x288 with 1 Axes>"
      ]
     },
     "metadata": {
      "needs_background": "light"
     },
     "output_type": "display_data"
    }
   ],
   "source": [
    "plt.scatter(embedding[:, 0], embedding[:, 1], c=Y_train.flatten(), s= 1, alpha = 0.1, cmap = plt.cm.tab10)"
   ]
  },
  {
   "cell_type": "code",
   "execution_count": 27,
   "metadata": {
    "ExecuteTime": {
     "end_time": "2020-08-27T07:36:15.140612Z",
     "start_time": "2020-08-27T07:35:58.898419Z"
    }
   },
   "outputs": [
    {
     "name": "stdout",
     "output_type": "stream",
     "text": [
      "UMAP(dens_frac=0.0, dens_lambda=0.0, verbose=True)\n",
      "Construct fuzzy simplicial set\n",
      "Thu Aug 27 00:36:00 2020 Finding Nearest Neighbors\n",
      "Thu Aug 27 00:36:00 2020 Building RP forest with 10 trees\n",
      "Thu Aug 27 00:36:01 2020 parallel NN descent for 13 iterations\n",
      "\t 0  /  13\n",
      "\t 1  /  13\n",
      "\t 2  /  13\n",
      "Thu Aug 27 00:36:01 2020 Finished Nearest Neighbor Search\n",
      "Thu Aug 27 00:36:02 2020 Construct embedding\n",
      "\tcompleted  0  /  500 epochs\n",
      "\tcompleted  50  /  500 epochs\n",
      "\tcompleted  100  /  500 epochs\n",
      "\tcompleted  150  /  500 epochs\n",
      "\tcompleted  200  /  500 epochs\n",
      "\tcompleted  250  /  500 epochs\n",
      "\tcompleted  300  /  500 epochs\n",
      "\tcompleted  350  /  500 epochs\n",
      "\tcompleted  400  /  500 epochs\n",
      "\tcompleted  450  /  500 epochs\n",
      "Thu Aug 27 00:36:14 2020 Finished embedding\n"
     ]
    },
    {
     "data": {
      "text/plain": [
       "<matplotlib.collections.PathCollection at 0x7f129cca7278>"
      ]
     },
     "execution_count": 27,
     "metadata": {},
     "output_type": "execute_result"
    },
    {
     "data": {
      "image/png": "[encoded data removed]",
      "text/plain": [
       "<Figure size 432x288 with 1 Axes>"
      ]
     },
     "metadata": {
      "needs_background": "light"
     },
     "output_type": "display_data"
    }
   ],
   "source": [
    "z_valid = submodel.predict(X_valid)\n",
    "np.shape(z_valid)\n",
    "reducer = umap.UMAP(verbose=True)\n",
    "\n",
    "embedding = reducer.fit_transform(z_valid.reshape(len(z_valid), np.product(np.shape(z_valid)[1:])))\n",
    "\n",
    "plt.scatter(embedding[:, 0], embedding[:, 1], c=Y_valid.flatten(), s= 1, alpha = 0.1, cmap = plt.cm.tab10)"
   ]
  },
  {
   "cell_type": "code",
   "execution_count": 28,
   "metadata": {
    "ExecuteTime": {
     "end_time": "2020-08-27T07:36:15.723700Z",
     "start_time": "2020-08-27T07:36:15.143357Z"
    }
   },
   "outputs": [
    {
     "data": {
      "text/plain": [
       "<matplotlib.collections.PathCollection at 0x7f11340c7710>"
      ]
     },
     "execution_count": 28,
     "metadata": {},
     "output_type": "execute_result"
    },
    {
     "data": {
      "image/png": "[encoded data removed]",
      "text/plain": [
       "<Figure size 720x720 with 1 Axes>"
      ]
     },
     "metadata": {
      "needs_background": "light"
     },
     "output_type": "display_data"
    }
   ],
   "source": [
    "fig, ax = plt.subplots(figsize=(10,10))\n",
    "ax.scatter(embedding[:, 0], embedding[:, 1], c=Y_valid.flatten(), s= 1, alpha = 1, cmap = plt.cm.tab10)"
   ]
  },
  {
   "cell_type": "code",
   "execution_count": 29,
   "metadata": {
    "ExecuteTime": {
     "end_time": "2020-08-27T07:36:19.177729Z",
     "start_time": "2020-08-27T07:36:15.727760Z"
    }
   },
   "outputs": [],
   "source": [
    "predictions = model.predict(X_valid)"
   ]
  },
  {
   "cell_type": "code",
   "execution_count": 30,
   "metadata": {
    "ExecuteTime": {
     "end_time": "2020-08-27T07:36:19.893554Z",
     "start_time": "2020-08-27T07:36:19.180394Z"
    }
   },
   "outputs": [
    {
     "data": {
      "text/plain": [
       "<matplotlib.collections.PathCollection at 0x7f1298d36668>"
      ]
     },
     "execution_count": 30,
     "metadata": {},
     "output_type": "execute_result"
    },
    {
     "data": {
      "image/png": "[encoded data removed]",
      "text/plain": [
       "<Figure size 720x720 with 1 Axes>"
      ]
     },
     "metadata": {
      "needs_background": "light"
     },
     "output_type": "display_data"
    }
   ],
   "source": [
    "fig, ax = plt.subplots(figsize=(10,10))\n",
    "ax.scatter(embedding[:, 0], embedding[:, 1], c=np.argmax(predictions, axis=1), s= 1, alpha = 1, cmap = plt.cm.tab10)"
   ]
  },
  {
   "cell_type": "code",
   "execution_count": 31,
   "metadata": {
    "ExecuteTime": {
     "end_time": "2020-08-27T07:36:22.802385Z",
     "start_time": "2020-08-27T07:36:19.895426Z"
    }
   },
   "outputs": [
    {
     "name": "stdout",
     "output_type": "stream",
     "text": [
      "313/313 [==============================] - 3s 9ms/step - loss: 0.8809 - accuracy: 0.9939\n"
     ]
    }
   ],
   "source": [
    "Y_test_one_hot = tf.keras.backend.one_hot(\n",
    "    Y_test, num_classes\n",
    ")\n",
    "result = model.evaluate(X_test, Y_test_one_hot)"
   ]
  },
  {
   "cell_type": "markdown",
   "metadata": {},
   "source": [
    "### save results"
   ]
  },
  {
   "cell_type": "code",
   "execution_count": 32,
   "metadata": {
    "ExecuteTime": {
     "end_time": "2020-08-27T07:36:22.893870Z",
     "start_time": "2020-08-27T07:36:22.805001Z"
    }
   },
   "outputs": [],
   "source": [
    "# save score, valid embedding, weights, results"
   ]
  },
  {
   "cell_type": "code",
   "execution_count": 33,
   "metadata": {
    "ExecuteTime": {
     "end_time": "2020-08-27T07:36:23.000171Z",
     "start_time": "2020-08-27T07:36:22.895586Z"
    }
   },
   "outputs": [],
   "source": [
    "from tfumap.paths import MODEL_DIR, ensure_dir"
   ]
  },
  {
   "cell_type": "code",
   "execution_count": 34,
   "metadata": {
    "ExecuteTime": {
     "end_time": "2020-08-27T07:36:23.173928Z",
     "start_time": "2020-08-27T07:36:23.001890Z"
    }
   },
   "outputs": [],
   "source": [
    "save_folder = MODEL_DIR / 'semisupervised-keras' / dataset / str(labels_per_class) / datestring\n",
    "ensure_dir(save_folder)"
   ]
  },
  {
   "cell_type": "markdown",
   "metadata": {
    "ExecuteTime": {
     "end_time": "2020-08-10T06:16:55.467933Z",
     "start_time": "2020-08-10T06:16:55.418378Z"
    }
   },
   "source": [
    "#### save weights"
   ]
  },
  {
   "cell_type": "code",
   "execution_count": 35,
   "metadata": {
    "ExecuteTime": {
     "end_time": "2020-08-27T07:36:23.256869Z",
     "start_time": "2020-08-27T07:36:23.175795Z"
    }
   },
   "outputs": [],
   "source": [
    "encoder = tf.keras.models.Model(\n",
    "        [model.inputs[0]], [model.get_layer('z').output]\n",
    ")"
   ]
  },
  {
   "cell_type": "code",
   "execution_count": 36,
   "metadata": {
    "ExecuteTime": {
     "end_time": "2020-08-27T07:36:23.679498Z",
     "start_time": "2020-08-27T07:36:23.258665Z"
    }
   },
   "outputs": [],
   "source": [
    "encoder.save_weights((save_folder / \"encoder\").as_posix())"
   ]
  },
  {
   "cell_type": "code",
   "execution_count": 37,
   "metadata": {
    "ExecuteTime": {
     "end_time": "2020-08-27T07:36:23.807595Z",
     "start_time": "2020-08-27T07:36:23.682996Z"
    }
   },
   "outputs": [
    {
     "name": "stdout",
     "output_type": "stream",
     "text": [
      "['input_2', 'weight_normalization', 'lrelufc1', 'weight_normalization_1', 'lrelufc2', 'weight_normalization_2']\n"
     ]
    }
   ],
   "source": [
    "classifier = tf.keras.models.Model(\n",
    "        [tf.keras.Input(tensor=model.get_layer('weight_normalization').input)], [model.outputs[0]]\n",
    ")\n",
    "print([i.name for i in classifier.layers])"
   ]
  },
  {
   "cell_type": "code",
   "execution_count": 38,
   "metadata": {
    "ExecuteTime": {
     "end_time": "2020-08-27T07:36:23.947620Z",
     "start_time": "2020-08-27T07:36:23.809625Z"
    }
   },
   "outputs": [],
   "source": [
    "classifier.save_weights((save_folder / \"classifier\").as_posix())"
   ]
  },
  {
   "cell_type": "markdown",
   "metadata": {},
   "source": [
    "#### save score"
   ]
  },
  {
   "cell_type": "code",
   "execution_count": 39,
   "metadata": {
    "ExecuteTime": {
     "end_time": "2020-08-27T07:36:26.801235Z",
     "start_time": "2020-08-27T07:36:23.949618Z"
    }
   },
   "outputs": [
    {
     "name": "stdout",
     "output_type": "stream",
     "text": [
      "313/313 [==============================] - 3s 9ms/step - loss: 0.8809 - accuracy: 0.9939\n"
     ]
    }
   ],
   "source": [
    "Y_test_one_hot = tf.keras.backend.one_hot(\n",
    "    Y_test, num_classes\n",
    ")\n",
    "result = model.evaluate(X_test, Y_test_one_hot)"
   ]
  },
  {
   "cell_type": "code",
   "execution_count": 40,
   "metadata": {
    "ExecuteTime": {
     "end_time": "2020-08-27T07:36:26.887803Z",
     "start_time": "2020-08-27T07:36:26.803309Z"
    }
   },
   "outputs": [],
   "source": [
    "np.save(save_folder / 'test_loss.npy', result)"
   ]
  },
  {
   "cell_type": "markdown",
   "metadata": {},
   "source": [
    "#### save embedding"
   ]
  },
  {
   "cell_type": "code",
   "execution_count": 41,
   "metadata": {
    "ExecuteTime": {
     "end_time": "2020-08-27T07:36:36.996736Z",
     "start_time": "2020-08-27T07:36:26.889632Z"
    }
   },
   "outputs": [],
   "source": [
    "z = encoder.predict(X_train)"
   ]
  },
  {
   "cell_type": "code",
   "execution_count": 42,
   "metadata": {
    "ExecuteTime": {
     "end_time": "2020-08-27T07:37:05.614776Z",
     "start_time": "2020-08-27T07:36:36.999426Z"
    }
   },
   "outputs": [
    {
     "name": "stdout",
     "output_type": "stream",
     "text": [
      "UMAP(dens_frac=0.0, dens_lambda=0.0, verbose=True)\n",
      "Construct fuzzy simplicial set\n",
      "Thu Aug 27 00:36:37 2020 Finding Nearest Neighbors\n",
      "Thu Aug 27 00:36:37 2020 Building RP forest with 16 trees\n",
      "Thu Aug 27 00:36:37 2020 parallel NN descent for 16 iterations\n",
      "\t 0  /  16\n",
      "\t 1  /  16\n",
      "\t 2  /  16\n",
      "\t 3  /  16\n",
      "Thu Aug 27 00:36:39 2020 Finished Nearest Neighbor Search\n",
      "Thu Aug 27 00:36:40 2020 Construct embedding\n",
      "\tcompleted  0  /  200 epochs\n",
      "\tcompleted  20  /  200 epochs\n",
      "\tcompleted  40  /  200 epochs\n",
      "\tcompleted  60  /  200 epochs\n",
      "\tcompleted  80  /  200 epochs\n",
      "\tcompleted  100  /  200 epochs\n",
      "\tcompleted  120  /  200 epochs\n",
      "\tcompleted  140  /  200 epochs\n",
      "\tcompleted  160  /  200 epochs\n",
      "\tcompleted  180  /  200 epochs\n",
      "Thu Aug 27 00:37:03 2020 Finished embedding\n"
     ]
    },
    {
     "data": {
      "text/plain": [
       "<matplotlib.collections.PathCollection at 0x7f129d14e978>"
      ]
     },
     "execution_count": 42,
     "metadata": {},
     "output_type": "execute_result"
    },
    {
     "data": {
      "image/png": "[encoded data removed]",
      "text/plain": [
       "<Figure size 432x288 with 1 Axes>"
      ]
     },
     "metadata": {
      "needs_background": "light"
     },
     "output_type": "display_data"
    }
   ],
   "source": [
    "reducer = umap.UMAP(verbose=True)\n",
    "\n",
    "embedding = reducer.fit_transform(z.reshape(len(z), np.product(np.shape(z)[1:])))\n",
    "\n",
    "plt.scatter(embedding[:, 0], embedding[:, 1], c=Y_train.flatten(), s= 1, alpha = 0.1, cmap = plt.cm.tab10)"
   ]
  },
  {
   "cell_type": "code",
   "execution_count": 43,
   "metadata": {
    "ExecuteTime": {
     "end_time": "2020-08-27T07:37:06.590224Z",
     "start_time": "2020-08-27T07:37:05.616583Z"
    }
   },
   "outputs": [],
   "source": [
    "np.save(save_folder / 'train_embedding.npy', embedding)"
   ]
  },
  {
   "cell_type": "markdown",
   "metadata": {},
   "source": [
    "#### save results"
   ]
  },
  {
   "cell_type": "code",
   "execution_count": 44,
   "metadata": {
    "ExecuteTime": {
     "end_time": "2020-08-27T07:37:06.689288Z",
     "start_time": "2020-08-27T07:37:06.592296Z"
    }
   },
   "outputs": [],
   "source": [
    "import pickle"
   ]
  },
  {
   "cell_type": "code",
   "execution_count": 45,
   "metadata": {
    "ExecuteTime": {
     "end_time": "2020-08-27T07:37:06.776485Z",
     "start_time": "2020-08-27T07:37:06.690989Z"
    }
   },
   "outputs": [],
   "source": [
    "with open(save_folder / 'history.pickle', 'wb') as file_pi:\n",
    "    pickle.dump(history.history, file_pi)"
   ]
  },
  {
   "cell_type": "code",
   "execution_count": null,
   "metadata": {},
   "outputs": [],
   "source": []
  },
  {
   "cell_type": "code",
   "execution_count": null,
   "metadata": {},
   "outputs": [],
   "source": []
  }
 ],
 "metadata": {
  "kernelspec": {
   "display_name": "Python 3",
   "language": "python",
   "name": "python3"
  },
  "language_info": {
   "codemirror_mode": {
    "name": "ipython",
    "version": 3
   },
   "file_extension": ".py",
   "mimetype": "text/x-python",
   "name": "python",
   "nbconvert_exporter": "python",
   "pygments_lexer": "ipython3",
   "version": "3.6.7"
  }
 },
 "nbformat": 4,
 "nbformat_minor": 2
}
