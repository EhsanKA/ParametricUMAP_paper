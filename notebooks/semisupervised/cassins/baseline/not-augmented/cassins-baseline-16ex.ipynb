{
 "cells": [
  {
   "cell_type": "code",
   "execution_count": 1,
   "metadata": {
    "ExecuteTime": {
     "end_time": "2020-11-12T01:56:16.650956Z",
     "start_time": "2020-11-12T01:56:16.614008Z"
    }
   },
   "outputs": [],
   "source": [
    "# reload packages\n",
    "%load_ext autoreload\n",
    "%autoreload 2"
   ]
  },
  {
   "cell_type": "markdown",
   "metadata": {},
   "source": [
    "### Choose GPU"
   ]
  },
  {
   "cell_type": "code",
   "execution_count": 2,
   "metadata": {
    "ExecuteTime": {
     "end_time": "2020-11-12T01:56:16.716082Z",
     "start_time": "2020-11-12T01:56:16.652851Z"
    }
   },
   "outputs": [
    {
     "name": "stdout",
     "output_type": "stream",
     "text": [
      "env: CUDA_DEVICE_ORDER=PCI_BUS_ID\n",
      "env: CUDA_VISIBLE_DEVICES=1\n"
     ]
    }
   ],
   "source": [
    "%env CUDA_DEVICE_ORDER=PCI_BUS_ID\n",
    "%env CUDA_VISIBLE_DEVICES=1"
   ]
  },
  {
   "cell_type": "code",
   "execution_count": 3,
   "metadata": {
    "ExecuteTime": {
     "end_time": "2020-11-12T01:56:52.092681Z",
     "start_time": "2020-11-12T01:56:16.717958Z"
    }
   },
   "outputs": [
    {
     "name": "stdout",
     "output_type": "stream",
     "text": [
      "[PhysicalDevice(name='/physical_device:GPU:0', device_type='GPU')]\n"
     ]
    }
   ],
   "source": [
    "import tensorflow as tf\n",
    "gpu_devices = tf.config.experimental.list_physical_devices('GPU')\n",
    "if len(gpu_devices)>0:\n",
    "    tf.config.experimental.set_memory_growth(gpu_devices[0], True)\n",
    "print(gpu_devices)\n",
    "tf.keras.backend.clear_session()"
   ]
  },
  {
   "cell_type": "markdown",
   "metadata": {},
   "source": [
    "### dataset information"
   ]
  },
  {
   "cell_type": "code",
   "execution_count": 4,
   "metadata": {
    "ExecuteTime": {
     "end_time": "2020-11-12T01:56:52.166379Z",
     "start_time": "2020-11-12T01:56:52.096137Z"
    }
   },
   "outputs": [
    {
     "name": "stdout",
     "output_type": "stream",
     "text": [
      "cassins_16____2020_11_11_17_56_52_163428_baseline\n"
     ]
    }
   ],
   "source": [
    "from datetime import datetime\n",
    "\n",
    "dataset = \"cassins\"\n",
    "dims = (32, 31, 1)\n",
    "num_classes = 20\n",
    "labels_per_class = 16 # full\n",
    "batch_size = 128\n",
    "datestring = datetime.now().strftime(\"%Y_%m_%d_%H_%M_%S_%f\")\n",
    "datestring = (\n",
    "    str(dataset)\n",
    "    + \"_\"\n",
    "    + str(labels_per_class)\n",
    "    + \"____\"\n",
    "    + datestring \n",
    "    + '_baseline'\n",
    ")\n",
    "print(datestring)"
   ]
  },
  {
   "cell_type": "markdown",
   "metadata": {},
   "source": [
    "### Load packages"
   ]
  },
  {
   "cell_type": "code",
   "execution_count": 5,
   "metadata": {
    "ExecuteTime": {
     "end_time": "2020-11-12T01:57:04.611008Z",
     "start_time": "2020-11-12T01:56:52.170008Z"
    }
   },
   "outputs": [
    {
     "name": "stderr",
     "output_type": "stream",
     "text": [
      "/mnt/cube/tsainbur/conda_envs/tpy3/lib/python3.6/site-packages/tqdm/autonotebook/__init__.py:14: TqdmExperimentalWarning: Using `tqdm.autonotebook.tqdm` in notebook mode. Use `tqdm.tqdm` instead to force console mode (e.g. in jupyter console)\n",
      "  \" (e.g. in jupyter console)\", TqdmExperimentalWarning)\n"
     ]
    }
   ],
   "source": [
    "import tensorflow as tf\n",
    "import numpy as np\n",
    "import matplotlib.pyplot as plt\n",
    "from tqdm.autonotebook import tqdm\n",
    "from IPython import display\n",
    "import pandas as pd\n",
    "import umap\n",
    "import copy\n",
    "import os, tempfile"
   ]
  },
  {
   "cell_type": "markdown",
   "metadata": {},
   "source": [
    "### Load dataset"
   ]
  },
  {
   "cell_type": "code",
   "execution_count": 6,
   "metadata": {
    "ExecuteTime": {
     "end_time": "2020-11-12T01:58:37.682095Z",
     "start_time": "2020-11-12T01:57:04.613598Z"
    }
   },
   "outputs": [
    {
     "data": {
      "text/plain": [
       "(24984, 32, 31, 1)"
      ]
     },
     "execution_count": 6,
     "metadata": {},
     "output_type": "execute_result"
    }
   ],
   "source": [
    "from tfumap.load_datasets import load_CASSINS, mask_labels\n",
    "X_train, X_test, X_valid, Y_train, Y_test, Y_valid = load_CASSINS()\n",
    "Y_train = Y_train.astype('int')\n",
    "X_train = np.expand_dims(X_train, -1)\n",
    "X_test = np.expand_dims(X_test, -1)\n",
    "X_valid = np.expand_dims(X_valid, -1)\n",
    "X_train.shape"
   ]
  },
  {
   "cell_type": "code",
   "execution_count": 7,
   "metadata": {
    "ExecuteTime": {
     "end_time": "2020-11-12T01:58:37.773598Z",
     "start_time": "2020-11-12T01:58:37.684832Z"
    }
   },
   "outputs": [],
   "source": [
    "if labels_per_class == \"full\":\n",
    "    X_labeled = X_train\n",
    "    Y_masked = Y_labeled = Y_train\n",
    "else:\n",
    "    X_labeled, Y_labeled, Y_masked = mask_labels(\n",
    "        X_train, Y_train, labels_per_class=labels_per_class\n",
    "    )"
   ]
  },
  {
   "cell_type": "code",
   "execution_count": 8,
   "metadata": {
    "ExecuteTime": {
     "end_time": "2020-11-12T01:58:38.205514Z",
     "start_time": "2020-11-12T01:58:37.775698Z"
    }
   },
   "outputs": [
    {
     "data": {
      "text/plain": [
       "20"
      ]
     },
     "execution_count": 8,
     "metadata": {},
     "output_type": "execute_result"
    }
   ],
   "source": [
    "len(np.unique(Y_train))"
   ]
  },
  {
   "cell_type": "code",
   "execution_count": 9,
   "metadata": {
    "ExecuteTime": {
     "end_time": "2020-11-12T01:58:38.296335Z",
     "start_time": "2020-11-12T01:58:38.207864Z"
    }
   },
   "outputs": [
    {
     "data": {
      "text/plain": [
       "0.91930246"
      ]
     },
     "execution_count": 9,
     "metadata": {},
     "output_type": "execute_result"
    }
   ],
   "source": [
    "np.max(X_labeled[0])"
   ]
  },
  {
   "cell_type": "code",
   "execution_count": 10,
   "metadata": {
    "ExecuteTime": {
     "end_time": "2020-11-12T01:58:38.889980Z",
     "start_time": "2020-11-12T01:58:38.298244Z"
    }
   },
   "outputs": [
    {
     "data": {
      "text/plain": [
       "<matplotlib.image.AxesImage at 0x7f5db74fffd0>"
      ]
     },
     "execution_count": 10,
     "metadata": {},
     "output_type": "execute_result"
    },
    {
     "data": {
      "image/png": "[encoded data removed]",
      "text/plain": [
       "<Figure size 288x297.29 with 1 Axes>"
      ]
     },
     "metadata": {
      "needs_background": "light"
     },
     "output_type": "display_data"
    }
   ],
   "source": [
    "plt.matshow(np.squeeze(X_labeled[0]))"
   ]
  },
  {
   "cell_type": "markdown",
   "metadata": {},
   "source": [
    "### Build network"
   ]
  },
  {
   "cell_type": "code",
   "execution_count": 11,
   "metadata": {
    "ExecuteTime": {
     "end_time": "2020-11-12T01:58:39.444750Z",
     "start_time": "2020-11-12T01:58:38.892085Z"
    }
   },
   "outputs": [],
   "source": [
    "from tensorflow.keras import datasets, layers, models\n",
    "from tensorflow_addons.layers import WeightNormalization\n",
    "from tensorflow.keras.layers import (\n",
    "    Conv2D,\n",
    "    Reshape,\n",
    "    Bidirectional,\n",
    "    Dense,\n",
    "    RepeatVector,\n",
    "    TimeDistributed,\n",
    "    LSTM\n",
    ")\n",
    "n_components=2"
   ]
  },
  {
   "cell_type": "code",
   "execution_count": 12,
   "metadata": {
    "ExecuteTime": {
     "end_time": "2020-11-12T01:58:39.523854Z",
     "start_time": "2020-11-12T01:58:39.446917Z"
    }
   },
   "outputs": [],
   "source": [
    "input_shape = dims"
   ]
  },
  {
   "cell_type": "code",
   "execution_count": 13,
   "metadata": {
    "ExecuteTime": {
     "end_time": "2020-11-12T01:58:45.905247Z",
     "start_time": "2020-11-12T01:58:39.525924Z"
    }
   },
   "outputs": [
    {
     "name": "stderr",
     "output_type": "stream",
     "text": [
      "WARNING: Logging before flag parsing goes to stderr.\n",
      "W1111 17:58:45.211405 140044905572096 recurrent_v2.py:1098] Layer lstm will not use cuDNN kernel since it doesn't meet the cuDNN kernel criteria. It will use generic GPU kernel as fallback when running on GPU\n",
      "W1111 17:58:45.219709 140044905572096 recurrent_v2.py:1098] Layer lstm will not use cuDNN kernel since it doesn't meet the cuDNN kernel criteria. It will use generic GPU kernel as fallback when running on GPU\n",
      "W1111 17:58:45.228703 140044905572096 recurrent_v2.py:1098] Layer lstm will not use cuDNN kernel since it doesn't meet the cuDNN kernel criteria. It will use generic GPU kernel as fallback when running on GPU\n"
     ]
    }
   ],
   "source": [
    "lr_alpha = 0.1\n",
    "model = models.Sequential()\n",
    "model.add(tf.keras.Input(shape=input_shape))\n",
    "model.add(Conv2D(\n",
    "        filters=32, kernel_size=3, strides=(2, 2), activation=tf.nn.leaky_relu, padding=\"same\"\n",
    "    ))\n",
    "model.add(\n",
    "Conv2D(\n",
    "        filters=64, kernel_size=3, strides=(2, 2), activation=tf.nn.leaky_relu, padding=\"same\"\n",
    "    )\n",
    ")\n",
    "model.add(\n",
    "Conv2D(\n",
    "        filters=128, kernel_size=3, strides=(2, 1), activation=tf.nn.leaky_relu, padding=\"same\"\n",
    "    )\n",
    ")\n",
    "model.add(\n",
    "Conv2D(\n",
    "        filters=128, kernel_size=3, strides=(2, 1), activation=tf.nn.leaky_relu, padding=\"same\"\n",
    "    )\n",
    ")\n",
    "model.add(Reshape(target_shape=(8, 2*128)))\n",
    "model.add(Bidirectional(LSTM(units=100, activation=\"relu\")))\n",
    "model.add(layers.Dense(256, activation=None, name='z'))\n",
    "model.add(WeightNormalization(layers.Dense(256, activation=None)))\n",
    "model.add(layers.LeakyReLU(alpha=lr_alpha, name=\"lrelufc1\"))\n",
    "model.add(WeightNormalization(layers.Dense(256, activation=None)))\n",
    "model.add(layers.LeakyReLU(alpha=lr_alpha, name=\"lrelufc2\"))\n",
    "model.add(\n",
    "        WeightNormalization(layers.Dense(num_classes, activation=None), name=\"y_\")\n",
    "    )"
   ]
  },
  {
   "cell_type": "code",
   "execution_count": 14,
   "metadata": {
    "ExecuteTime": {
     "end_time": "2020-11-12T01:58:45.985975Z",
     "start_time": "2020-11-12T01:58:45.907730Z"
    }
   },
   "outputs": [
    {
     "name": "stdout",
     "output_type": "stream",
     "text": [
      "Model: \"sequential\"\n",
      "_________________________________________________________________\n",
      "Layer (type)                 Output Shape              Param #   \n",
      "=================================================================\n",
      "conv2d (Conv2D)              (None, 16, 16, 32)        320       \n",
      "_________________________________________________________________\n",
      "conv2d_1 (Conv2D)            (None, 8, 8, 64)          18496     \n",
      "_________________________________________________________________\n",
      "conv2d_2 (Conv2D)            (None, 4, 8, 128)         73856     \n",
      "_________________________________________________________________\n",
      "conv2d_3 (Conv2D)            (None, 2, 8, 128)         147584    \n",
      "_________________________________________________________________\n",
      "reshape (Reshape)            (None, 8, 256)            0         \n",
      "_________________________________________________________________\n",
      "bidirectional (Bidirectional (None, 200)               285600    \n",
      "_________________________________________________________________\n",
      "z (Dense)                    (None, 256)               51456     \n",
      "_________________________________________________________________\n",
      "weight_normalization (Weight (None, 256)               131841    \n",
      "_________________________________________________________________\n",
      "lrelufc1 (LeakyReLU)         (None, 256)               0         \n",
      "_________________________________________________________________\n",
      "weight_normalization_1 (Weig (None, 256)               131841    \n",
      "_________________________________________________________________\n",
      "lrelufc2 (LeakyReLU)         (None, 256)               0         \n",
      "_________________________________________________________________\n",
      "y_ (WeightNormalization)     (None, 20)                10301     \n",
      "=================================================================\n",
      "Total params: 851,295\n",
      "Trainable params: 714,568\n",
      "Non-trainable params: 136,727\n",
      "_________________________________________________________________\n"
     ]
    }
   ],
   "source": [
    "model.summary()"
   ]
  },
  {
   "cell_type": "code",
   "execution_count": 15,
   "metadata": {
    "ExecuteTime": {
     "end_time": "2020-11-12T01:58:46.252724Z",
     "start_time": "2020-11-12T01:58:45.987916Z"
    }
   },
   "outputs": [],
   "source": [
    "early_stopping = tf.keras.callbacks.EarlyStopping(\n",
    "    monitor='val_accuracy', min_delta=0, patience=100, verbose=1, mode='auto',\n",
    "    baseline=None, restore_best_weights=True\n",
    ")"
   ]
  },
  {
   "cell_type": "code",
   "execution_count": 16,
   "metadata": {
    "ExecuteTime": {
     "end_time": "2020-11-12T01:58:46.335857Z",
     "start_time": "2020-11-12T01:58:46.254714Z"
    }
   },
   "outputs": [],
   "source": [
    "import tensorflow_addons as tfa"
   ]
  },
  {
   "cell_type": "code",
   "execution_count": 17,
   "metadata": {
    "ExecuteTime": {
     "end_time": "2020-11-12T01:58:46.442703Z",
     "start_time": "2020-11-12T01:58:46.337830Z"
    }
   },
   "outputs": [],
   "source": [
    "opt = tf.keras.optimizers.Adam(1e-4)\n",
    "opt = tfa.optimizers.MovingAverage(opt)\n",
    "loss = tf.keras.losses.CategoricalCrossentropy(label_smoothing=0.2, from_logits=True)\n",
    "model.compile(opt, loss = loss, metrics=['accuracy'])"
   ]
  },
  {
   "cell_type": "code",
   "execution_count": 18,
   "metadata": {
    "ExecuteTime": {
     "end_time": "2020-11-12T01:58:46.519856Z",
     "start_time": "2020-11-12T01:58:46.444716Z"
    }
   },
   "outputs": [],
   "source": [
    "Y_valid_one_hot = tf.keras.backend.one_hot(\n",
    "    Y_valid, num_classes\n",
    ")"
   ]
  },
  {
   "cell_type": "code",
   "execution_count": 19,
   "metadata": {
    "ExecuteTime": {
     "end_time": "2020-11-12T01:58:46.602738Z",
     "start_time": "2020-11-12T01:58:46.521839Z"
    }
   },
   "outputs": [],
   "source": [
    "Y_labeled_one_hot = tf.keras.backend.one_hot(\n",
    "    Y_labeled, num_classes\n",
    ")"
   ]
  },
  {
   "cell_type": "code",
   "execution_count": 20,
   "metadata": {
    "ExecuteTime": {
     "end_time": "2020-11-12T01:58:46.700581Z",
     "start_time": "2020-11-12T01:58:46.604703Z"
    }
   },
   "outputs": [],
   "source": [
    "from livelossplot import PlotLossesKerasTF\n",
    "# plot losses callback\n",
    "plotlosses = PlotLossesKerasTF()"
   ]
  },
  {
   "cell_type": "code",
   "execution_count": 21,
   "metadata": {
    "ExecuteTime": {
     "end_time": "2020-11-12T01:58:46.775922Z",
     "start_time": "2020-11-12T01:58:46.702568Z"
    }
   },
   "outputs": [],
   "source": [
    "train_ds = (\n",
    "     tf.data.Dataset.from_tensor_slices((X_labeled, Y_labeled_one_hot))\n",
    "    .repeat()\n",
    "    .shuffle(len(X_labeled))\n",
    "    .batch(batch_size)\n",
    "    .prefetch(tf.data.experimental.AUTOTUNE)\n",
    ") "
   ]
  },
  {
   "cell_type": "code",
   "execution_count": 22,
   "metadata": {
    "ExecuteTime": {
     "end_time": "2020-11-12T02:54:12.579881Z",
     "start_time": "2020-11-12T01:58:46.777957Z"
    },
    "scrolled": false
   },
   "outputs": [
    {
     "data": {
      "image/png": "[encoded data removed]",
      "text/plain": [
       "<Figure size 864x576 with 2 Axes>"
      ]
     },
     "metadata": {
      "needs_background": "light"
     },
     "output_type": "display_data"
    },
    {
     "name": "stdout",
     "output_type": "stream",
     "text": [
      "accuracy\n",
      "\ttraining         \t (min:    0.970, max:    1.000, cur:    1.000)\n",
      "\tvalidation       \t (min:    0.962, max:    0.991, cur:    0.987)\n",
      "Loss\n",
      "\ttraining         \t (min:    1.046, max:    1.177, cur:    1.046)\n",
      "\tvalidation       \t (min:    1.130, max:    1.256, cur:    1.140)\n",
      "195/195 [==============================] - 11s 58ms/step - loss: 1.0457 - accuracy: 1.0000 - val_loss: 1.1403 - val_accuracy: 0.9870\n",
      "Epoch 00302: early stopping\n"
     ]
    }
   ],
   "source": [
    "steps_per_epoch = int(len(X_train)/ batch_size)\n",
    "\n",
    "history = model.fit(\n",
    "    train_ds,\n",
    "    epochs=500,\n",
    "    validation_data=(X_valid, Y_valid_one_hot),\n",
    "    callbacks = [early_stopping, plotlosses],\n",
    "    steps_per_epoch = steps_per_epoch,\n",
    ")"
   ]
  },
  {
   "cell_type": "code",
   "execution_count": 23,
   "metadata": {
    "ExecuteTime": {
     "end_time": "2020-11-12T02:54:13.989157Z",
     "start_time": "2020-11-12T02:54:12.586080Z"
    }
   },
   "outputs": [
    {
     "data": {
      "text/plain": [
       "[<matplotlib.lines.Line2D at 0x7f5eaac998d0>]"
      ]
     },
     "execution_count": 23,
     "metadata": {},
     "output_type": "execute_result"
    },
    {
     "data": {
      "image/png": "[encoded data removed]",
      "text/plain": [
       "<Figure size 432x288 with 1 Axes>"
      ]
     },
     "metadata": {
      "needs_background": "light"
     },
     "output_type": "display_data"
    }
   ],
   "source": [
    "plt.plot(history.history['loss'])\n",
    "plt.plot(history.history['val_loss'])"
   ]
  },
  {
   "cell_type": "code",
   "execution_count": 24,
   "metadata": {
    "ExecuteTime": {
     "end_time": "2020-11-12T02:54:14.269697Z",
     "start_time": "2020-11-12T02:54:13.991777Z"
    }
   },
   "outputs": [
    {
     "data": {
      "text/plain": [
       "[<matplotlib.lines.Line2D at 0x7f5e6074dac8>]"
      ]
     },
     "execution_count": 24,
     "metadata": {},
     "output_type": "execute_result"
    },
    {
     "data": {
      "image/png": "[encoded data removed]",
      "text/plain": [
       "<Figure size 432x288 with 1 Axes>"
      ]
     },
     "metadata": {
      "needs_background": "light"
     },
     "output_type": "display_data"
    }
   ],
   "source": [
    "plt.plot(history.history['accuracy'])\n",
    "plt.plot(history.history['val_accuracy'])"
   ]
  },
  {
   "cell_type": "code",
   "execution_count": 25,
   "metadata": {
    "ExecuteTime": {
     "end_time": "2020-11-12T02:54:22.423353Z",
     "start_time": "2020-11-12T02:54:14.271658Z"
    }
   },
   "outputs": [
    {
     "data": {
      "text/plain": [
       "(24984, 256)"
      ]
     },
     "execution_count": 25,
     "metadata": {},
     "output_type": "execute_result"
    }
   ],
   "source": [
    "submodel = tf.keras.models.Model(\n",
    "        [model.inputs[0]], [model.get_layer('z').output]\n",
    "    )\n",
    "z = submodel.predict(X_train)\n",
    "np.shape(z)"
   ]
  },
  {
   "cell_type": "code",
   "execution_count": 26,
   "metadata": {
    "ExecuteTime": {
     "end_time": "2020-11-12T02:55:01.631785Z",
     "start_time": "2020-11-12T02:54:22.426296Z"
    }
   },
   "outputs": [
    {
     "name": "stdout",
     "output_type": "stream",
     "text": [
      "UMAP(dens_frac=0.0, dens_lambda=0.0, verbose=True)\n",
      "Construct fuzzy simplicial set\n",
      "Wed Nov 11 18:54:22 2020 Finding Nearest Neighbors\n",
      "Wed Nov 11 18:54:22 2020 Building RP forest with 13 trees\n",
      "Wed Nov 11 18:54:29 2020 parallel NN descent for 15 iterations\n",
      "\t 0  /  15\n",
      "\t 1  /  15\n",
      "\t 2  /  15\n",
      "\t 3  /  15\n",
      "Wed Nov 11 18:54:43 2020 Finished Nearest Neighbor Search\n",
      "Wed Nov 11 18:54:47 2020 Construct embedding\n",
      "\tcompleted  0  /  200 epochs\n",
      "\tcompleted  20  /  200 epochs\n",
      "\tcompleted  40  /  200 epochs\n",
      "\tcompleted  60  /  200 epochs\n",
      "\tcompleted  80  /  200 epochs\n",
      "\tcompleted  100  /  200 epochs\n",
      "\tcompleted  120  /  200 epochs\n",
      "\tcompleted  140  /  200 epochs\n",
      "\tcompleted  160  /  200 epochs\n",
      "\tcompleted  180  /  200 epochs\n",
      "Wed Nov 11 18:55:01 2020 Finished embedding\n"
     ]
    }
   ],
   "source": [
    "reducer = umap.UMAP(verbose=True)\n",
    "\n",
    "embedding = reducer.fit_transform(z.reshape(len(z), np.product(np.shape(z)[1:])))"
   ]
  },
  {
   "cell_type": "code",
   "execution_count": 27,
   "metadata": {
    "ExecuteTime": {
     "end_time": "2020-11-12T02:55:02.633620Z",
     "start_time": "2020-11-12T02:55:01.634249Z"
    }
   },
   "outputs": [
    {
     "data": {
      "text/plain": [
       "<matplotlib.collections.PathCollection at 0x7f5db72b5080>"
      ]
     },
     "execution_count": 27,
     "metadata": {},
     "output_type": "execute_result"
    },
    {
     "data": {
      "image/png": "[encoded data removed]",
      "text/plain": [
       "<Figure size 432x288 with 1 Axes>"
      ]
     },
     "metadata": {
      "needs_background": "light"
     },
     "output_type": "display_data"
    }
   ],
   "source": [
    "plt.scatter(embedding[:, 0], embedding[:, 1], c=Y_train.flatten(), s= 1, alpha = 0.1, cmap = plt.cm.tab10)"
   ]
  },
  {
   "cell_type": "code",
   "execution_count": 28,
   "metadata": {
    "ExecuteTime": {
     "end_time": "2020-11-12T02:55:12.906843Z",
     "start_time": "2020-11-12T02:55:02.635534Z"
    }
   },
   "outputs": [
    {
     "name": "stdout",
     "output_type": "stream",
     "text": [
      "UMAP(dens_frac=0.0, dens_lambda=0.0, verbose=True)\n",
      "Construct fuzzy simplicial set\n",
      "Wed Nov 11 18:55:03 2020 Finding Nearest Neighbors\n",
      "Wed Nov 11 18:55:06 2020 Finished Nearest Neighbor Search\n",
      "Wed Nov 11 18:55:07 2020 Construct embedding\n",
      "\tcompleted  0  /  500 epochs\n",
      "\tcompleted  50  /  500 epochs\n",
      "\tcompleted  100  /  500 epochs\n",
      "\tcompleted  150  /  500 epochs\n",
      "\tcompleted  200  /  500 epochs\n",
      "\tcompleted  250  /  500 epochs\n",
      "\tcompleted  300  /  500 epochs\n",
      "\tcompleted  350  /  500 epochs\n",
      "\tcompleted  400  /  500 epochs\n",
      "\tcompleted  450  /  500 epochs\n",
      "Wed Nov 11 18:55:12 2020 Finished embedding\n"
     ]
    },
    {
     "data": {
      "text/plain": [
       "<matplotlib.collections.PathCollection at 0x7f5db6d6db00>"
      ]
     },
     "execution_count": 28,
     "metadata": {},
     "output_type": "execute_result"
    },
    {
     "data": {
      "image/png": "[encoded data removed]",
      "text/plain": [
       "<Figure size 432x288 with 1 Axes>"
      ]
     },
     "metadata": {
      "needs_background": "light"
     },
     "output_type": "display_data"
    }
   ],
   "source": [
    "z_valid = submodel.predict(X_valid)\n",
    "np.shape(z_valid)\n",
    "reducer = umap.UMAP(verbose=True)\n",
    "\n",
    "embedding = reducer.fit_transform(z_valid.reshape(len(z_valid), np.product(np.shape(z_valid)[1:])))\n",
    "\n",
    "plt.scatter(embedding[:, 0], embedding[:, 1], c=Y_valid.flatten(), s= 1, alpha = 0.1, cmap = plt.cm.tab10)"
   ]
  },
  {
   "cell_type": "code",
   "execution_count": 29,
   "metadata": {
    "ExecuteTime": {
     "end_time": "2020-11-12T02:55:13.944109Z",
     "start_time": "2020-11-12T02:55:12.908845Z"
    }
   },
   "outputs": [
    {
     "data": {
      "text/plain": [
       "<matplotlib.collections.PathCollection at 0x7f5db6d46c18>"
      ]
     },
     "execution_count": 29,
     "metadata": {},
     "output_type": "execute_result"
    },
    {
     "data": {
      "image/png": "[encoded data removed]",
      "text/plain": [
       "<Figure size 720x720 with 1 Axes>"
      ]
     },
     "metadata": {
      "needs_background": "light"
     },
     "output_type": "display_data"
    }
   ],
   "source": [
    "fig, ax = plt.subplots(figsize=(10,10))\n",
    "ax.scatter(embedding[:, 0], embedding[:, 1], c=Y_valid.flatten(), s= 1, alpha = 1, cmap = plt.cm.tab10)"
   ]
  },
  {
   "cell_type": "code",
   "execution_count": 30,
   "metadata": {
    "ExecuteTime": {
     "end_time": "2020-11-12T02:55:14.903938Z",
     "start_time": "2020-11-12T02:55:13.945985Z"
    }
   },
   "outputs": [],
   "source": [
    "predictions = model.predict(X_valid)"
   ]
  },
  {
   "cell_type": "code",
   "execution_count": 31,
   "metadata": {
    "ExecuteTime": {
     "end_time": "2020-11-12T02:55:15.199803Z",
     "start_time": "2020-11-12T02:55:14.908150Z"
    }
   },
   "outputs": [
    {
     "data": {
      "text/plain": [
       "<matplotlib.collections.PathCollection at 0x7f5db72b10f0>"
      ]
     },
     "execution_count": 31,
     "metadata": {},
     "output_type": "execute_result"
    },
    {
     "data": {
      "image/png": "[encoded data removed]",
      "text/plain": [
       "<Figure size 720x720 with 1 Axes>"
      ]
     },
     "metadata": {
      "needs_background": "light"
     },
     "output_type": "display_data"
    }
   ],
   "source": [
    "fig, ax = plt.subplots(figsize=(10,10))\n",
    "ax.scatter(embedding[:, 0], embedding[:, 1], c=np.argmax(predictions, axis=1), s= 1, alpha = 1, cmap = plt.cm.tab10)"
   ]
  },
  {
   "cell_type": "code",
   "execution_count": 32,
   "metadata": {
    "ExecuteTime": {
     "end_time": "2020-11-12T02:55:15.551169Z",
     "start_time": "2020-11-12T02:55:15.201655Z"
    }
   },
   "outputs": [
    {
     "name": "stdout",
     "output_type": "stream",
     "text": [
      "32/32 [==============================] - 0s 7ms/step - loss: 1.1392 - accuracy: 0.9920\n"
     ]
    }
   ],
   "source": [
    "Y_test_one_hot = tf.keras.backend.one_hot(\n",
    "    Y_test, num_classes\n",
    ")\n",
    "result = model.evaluate(X_test, Y_test_one_hot)"
   ]
  },
  {
   "cell_type": "markdown",
   "metadata": {},
   "source": [
    "### save results"
   ]
  },
  {
   "cell_type": "code",
   "execution_count": 33,
   "metadata": {
    "ExecuteTime": {
     "end_time": "2020-11-12T02:55:15.610585Z",
     "start_time": "2020-11-12T02:55:15.553007Z"
    }
   },
   "outputs": [],
   "source": [
    "# save score, valid embedding, weights, results"
   ]
  },
  {
   "cell_type": "code",
   "execution_count": 34,
   "metadata": {
    "ExecuteTime": {
     "end_time": "2020-11-12T02:55:15.713140Z",
     "start_time": "2020-11-12T02:55:15.612287Z"
    }
   },
   "outputs": [],
   "source": [
    "from tfumap.paths import MODEL_DIR, ensure_dir"
   ]
  },
  {
   "cell_type": "code",
   "execution_count": 35,
   "metadata": {
    "ExecuteTime": {
     "end_time": "2020-11-12T02:55:15.790108Z",
     "start_time": "2020-11-12T02:55:15.714936Z"
    }
   },
   "outputs": [],
   "source": [
    "save_folder = MODEL_DIR / 'semisupervised-keras' / dataset / str(labels_per_class) / datestring\n",
    "ensure_dir(save_folder)"
   ]
  },
  {
   "cell_type": "markdown",
   "metadata": {
    "ExecuteTime": {
     "end_time": "2020-08-10T06:16:55.467933Z",
     "start_time": "2020-08-10T06:16:55.418378Z"
    }
   },
   "source": [
    "#### save weights"
   ]
  },
  {
   "cell_type": "code",
   "execution_count": 36,
   "metadata": {
    "ExecuteTime": {
     "end_time": "2020-11-12T02:55:15.871337Z",
     "start_time": "2020-11-12T02:55:15.791772Z"
    }
   },
   "outputs": [],
   "source": [
    "encoder = tf.keras.models.Model(\n",
    "        [model.inputs[0]], [model.get_layer('z').output]\n",
    ")"
   ]
  },
  {
   "cell_type": "code",
   "execution_count": 37,
   "metadata": {
    "ExecuteTime": {
     "end_time": "2020-11-12T02:55:15.998890Z",
     "start_time": "2020-11-12T02:55:15.873028Z"
    }
   },
   "outputs": [],
   "source": [
    "encoder.save_weights((save_folder / \"encoder\").as_posix())"
   ]
  },
  {
   "cell_type": "code",
   "execution_count": 38,
   "metadata": {
    "ExecuteTime": {
     "end_time": "2020-11-12T02:55:16.099316Z",
     "start_time": "2020-11-12T02:55:16.001960Z"
    }
   },
   "outputs": [
    {
     "name": "stdout",
     "output_type": "stream",
     "text": [
      "['input_2', 'weight_normalization', 'lrelufc1', 'weight_normalization_1', 'lrelufc2', 'y_']\n"
     ]
    }
   ],
   "source": [
    "classifier = tf.keras.models.Model(\n",
    "        [tf.keras.Input(tensor=model.get_layer('weight_normalization').input)], [model.outputs[0]]\n",
    ")\n",
    "print([i.name for i in classifier.layers])"
   ]
  },
  {
   "cell_type": "code",
   "execution_count": 39,
   "metadata": {
    "ExecuteTime": {
     "end_time": "2020-11-12T02:55:16.204008Z",
     "start_time": "2020-11-12T02:55:16.101188Z"
    }
   },
   "outputs": [],
   "source": [
    "classifier.save_weights((save_folder / \"classifier\").as_posix())"
   ]
  },
  {
   "cell_type": "markdown",
   "metadata": {},
   "source": [
    "#### save score"
   ]
  },
  {
   "cell_type": "code",
   "execution_count": 40,
   "metadata": {
    "ExecuteTime": {
     "end_time": "2020-11-12T02:55:16.552846Z",
     "start_time": "2020-11-12T02:55:16.205794Z"
    }
   },
   "outputs": [
    {
     "name": "stdout",
     "output_type": "stream",
     "text": [
      "32/32 [==============================] - 0s 7ms/step - loss: 1.1392 - accuracy: 0.9920\n"
     ]
    }
   ],
   "source": [
    "Y_test_one_hot = tf.keras.backend.one_hot(\n",
    "    Y_test, num_classes\n",
    ")\n",
    "result = model.evaluate(X_test, Y_test_one_hot)"
   ]
  },
  {
   "cell_type": "code",
   "execution_count": 41,
   "metadata": {
    "ExecuteTime": {
     "end_time": "2020-11-12T02:55:16.628553Z",
     "start_time": "2020-11-12T02:55:16.555159Z"
    }
   },
   "outputs": [],
   "source": [
    "np.save(save_folder / 'test_loss.npy', result)"
   ]
  },
  {
   "cell_type": "markdown",
   "metadata": {},
   "source": [
    "#### save embedding"
   ]
  },
  {
   "cell_type": "code",
   "execution_count": 42,
   "metadata": {
    "ExecuteTime": {
     "end_time": "2020-11-12T02:55:23.735830Z",
     "start_time": "2020-11-12T02:55:16.630436Z"
    }
   },
   "outputs": [],
   "source": [
    "z = encoder.predict(X_train)"
   ]
  },
  {
   "cell_type": "code",
   "execution_count": 43,
   "metadata": {
    "ExecuteTime": {
     "end_time": "2020-11-12T02:55:41.020973Z",
     "start_time": "2020-11-12T02:55:23.739878Z"
    }
   },
   "outputs": [
    {
     "name": "stdout",
     "output_type": "stream",
     "text": [
      "UMAP(dens_frac=0.0, dens_lambda=0.0, verbose=True)\n",
      "Construct fuzzy simplicial set\n",
      "Wed Nov 11 18:55:23 2020 Finding Nearest Neighbors\n",
      "Wed Nov 11 18:55:23 2020 Building RP forest with 13 trees\n",
      "Wed Nov 11 18:55:24 2020 parallel NN descent for 15 iterations\n",
      "\t 0  /  15\n",
      "\t 1  /  15\n",
      "\t 2  /  15\n",
      "\t 3  /  15\n",
      "Wed Nov 11 18:55:25 2020 Finished Nearest Neighbor Search\n",
      "Wed Nov 11 18:55:26 2020 Construct embedding\n",
      "\tcompleted  0  /  200 epochs\n",
      "\tcompleted  20  /  200 epochs\n",
      "\tcompleted  40  /  200 epochs\n",
      "\tcompleted  60  /  200 epochs\n",
      "\tcompleted  80  /  200 epochs\n",
      "\tcompleted  100  /  200 epochs\n",
      "\tcompleted  120  /  200 epochs\n",
      "\tcompleted  140  /  200 epochs\n",
      "\tcompleted  160  /  200 epochs\n",
      "\tcompleted  180  /  200 epochs\n",
      "Wed Nov 11 18:55:40 2020 Finished embedding\n"
     ]
    },
    {
     "data": {
      "text/plain": [
       "<matplotlib.collections.PathCollection at 0x7f5e6000b828>"
      ]
     },
     "execution_count": 43,
     "metadata": {},
     "output_type": "execute_result"
    },
    {
     "data": {
      "image/png": "[encoded data removed]",
      "text/plain": [
       "<Figure size 432x288 with 1 Axes>"
      ]
     },
     "metadata": {
      "needs_background": "light"
     },
     "output_type": "display_data"
    }
   ],
   "source": [
    "reducer = umap.UMAP(verbose=True)\n",
    "\n",
    "embedding = reducer.fit_transform(z.reshape(len(z), np.product(np.shape(z)[1:])))\n",
    "\n",
    "plt.scatter(embedding[:, 0], embedding[:, 1], c=Y_train.flatten(), s= 1, alpha = 0.1, cmap = plt.cm.tab10)"
   ]
  },
  {
   "cell_type": "code",
   "execution_count": 44,
   "metadata": {
    "ExecuteTime": {
     "end_time": "2020-11-12T02:55:41.107067Z",
     "start_time": "2020-11-12T02:55:41.023295Z"
    }
   },
   "outputs": [],
   "source": [
    "np.save(save_folder / 'train_embedding.npy', embedding)"
   ]
  },
  {
   "cell_type": "markdown",
   "metadata": {},
   "source": [
    "#### save results"
   ]
  },
  {
   "cell_type": "code",
   "execution_count": 45,
   "metadata": {
    "ExecuteTime": {
     "end_time": "2020-11-12T02:55:41.238370Z",
     "start_time": "2020-11-12T02:55:41.109010Z"
    }
   },
   "outputs": [],
   "source": [
    "import pickle"
   ]
  },
  {
   "cell_type": "code",
   "execution_count": 46,
   "metadata": {
    "ExecuteTime": {
     "end_time": "2020-11-12T02:55:41.329642Z",
     "start_time": "2020-11-12T02:55:41.240079Z"
    }
   },
   "outputs": [],
   "source": [
    "with open(save_folder / 'history.pickle', 'wb') as file_pi:\n",
    "    pickle.dump(history.history, file_pi)"
   ]
  },
  {
   "cell_type": "code",
   "execution_count": null,
   "metadata": {},
   "outputs": [],
   "source": []
  },
  {
   "cell_type": "code",
   "execution_count": null,
   "metadata": {},
   "outputs": [],
   "source": []
  }
 ],
 "metadata": {
  "kernelspec": {
   "display_name": "Python 3",
   "language": "python",
   "name": "python3"
  },
  "language_info": {
   "codemirror_mode": {
    "name": "ipython",
    "version": 3
   },
   "file_extension": ".py",
   "mimetype": "text/x-python",
   "name": "python",
   "nbconvert_exporter": "python",
   "pygments_lexer": "ipython3",
   "version": "3.6.7"
  }
 },
 "nbformat": 4,
 "nbformat_minor": 2
}
