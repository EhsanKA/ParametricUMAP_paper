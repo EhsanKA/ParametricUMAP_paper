{
 "cells": [
  {
   "cell_type": "code",
   "execution_count": 1,
   "metadata": {
    "ExecuteTime": {
     "end_time": "2020-11-12T03:13:34.725457Z",
     "start_time": "2020-11-12T03:13:34.712605Z"
    }
   },
   "outputs": [],
   "source": [
    "# reload packages\n",
    "%load_ext autoreload\n",
    "%autoreload 2"
   ]
  },
  {
   "cell_type": "markdown",
   "metadata": {},
   "source": [
    "### Choose GPU"
   ]
  },
  {
   "cell_type": "code",
   "execution_count": 2,
   "metadata": {
    "ExecuteTime": {
     "end_time": "2020-11-12T03:13:34.736065Z",
     "start_time": "2020-11-12T03:13:34.726735Z"
    }
   },
   "outputs": [
    {
     "name": "stdout",
     "output_type": "stream",
     "text": [
      "env: CUDA_DEVICE_ORDER=PCI_BUS_ID\n",
      "env: CUDA_VISIBLE_DEVICES=1\n"
     ]
    }
   ],
   "source": [
    "%env CUDA_DEVICE_ORDER=PCI_BUS_ID\n",
    "%env CUDA_VISIBLE_DEVICES=1"
   ]
  },
  {
   "cell_type": "code",
   "execution_count": 3,
   "metadata": {
    "ExecuteTime": {
     "end_time": "2020-11-12T03:13:39.517195Z",
     "start_time": "2020-11-12T03:13:34.737408Z"
    }
   },
   "outputs": [
    {
     "name": "stdout",
     "output_type": "stream",
     "text": [
      "[PhysicalDevice(name='/physical_device:GPU:0', device_type='GPU')]\n"
     ]
    }
   ],
   "source": [
    "import tensorflow as tf\n",
    "gpu_devices = tf.config.experimental.list_physical_devices('GPU')\n",
    "if len(gpu_devices)>0:\n",
    "    tf.config.experimental.set_memory_growth(gpu_devices[0], True)\n",
    "print(gpu_devices)\n",
    "tf.keras.backend.clear_session()"
   ]
  },
  {
   "cell_type": "markdown",
   "metadata": {},
   "source": [
    "### Load packages"
   ]
  },
  {
   "cell_type": "code",
   "execution_count": 4,
   "metadata": {
    "ExecuteTime": {
     "end_time": "2020-11-12T03:13:44.327205Z",
     "start_time": "2020-11-12T03:13:39.519226Z"
    }
   },
   "outputs": [
    {
     "name": "stderr",
     "output_type": "stream",
     "text": [
      "/mnt/cube/tsainbur/conda_envs/tpy3/lib/python3.6/site-packages/tqdm/autonotebook/__init__.py:14: TqdmExperimentalWarning: Using `tqdm.autonotebook.tqdm` in notebook mode. Use `tqdm.tqdm` instead to force console mode (e.g. in jupyter console)\n",
      "  \" (e.g. in jupyter console)\", TqdmExperimentalWarning)\n"
     ]
    }
   ],
   "source": [
    "import tensorflow as tf\n",
    "import numpy as np\n",
    "import matplotlib.pyplot as plt\n",
    "from tqdm.autonotebook import tqdm\n",
    "from IPython import display\n",
    "import pandas as pd\n",
    "import umap\n",
    "import copy\n",
    "import os, tempfile\n",
    "import tensorflow_addons as tfa\n",
    "import pickle\n"
   ]
  },
  {
   "cell_type": "markdown",
   "metadata": {},
   "source": [
    "### parameters"
   ]
  },
  {
   "cell_type": "code",
   "execution_count": 5,
   "metadata": {
    "ExecuteTime": {
     "end_time": "2020-11-12T03:13:44.372325Z",
     "start_time": "2020-11-12T03:13:44.329488Z"
    }
   },
   "outputs": [],
   "source": [
    "dataset = \"cassins\"\n",
    "labels_per_class = 4 # 'full'\n",
    "n_latent_dims = 1024\n",
    "confidence_threshold = 0.0 # minimum confidence to include in UMAP graph for learned metric\n",
    "learned_metric = False # whether to use a learned metric, or Euclidean distance between datapoints\n",
    "\n",
    "augmented = False #\n",
    "min_dist= 0.001 # min_dist parameter for UMAP\n",
    "negative_sample_rate = 5 # how many negative samples per positive sample \n",
    "batch_size = 128 # batch size \n",
    "optimizer = tf.keras.optimizers.Adam(1e-4) # the optimizer to train\n",
    "optimizer = tfa.optimizers.MovingAverage(optimizer)\n",
    "label_smoothing = 0.2 # how much label smoothing to apply to categorical crossentropy\n",
    "max_umap_iterations = 500 # how many times, maximum, to recompute UMAP\n",
    "max_epochs_per_graph = 10 # how many epochs maximum each graph trains for (without early stopping)\n",
    "graph_patience = 10 # how many times without improvement to train a new graph\n",
    "min_graph_delta = 0.0025 # minimum improvement on validation acc to consider an improvement for training"
   ]
  },
  {
   "cell_type": "code",
   "execution_count": 6,
   "metadata": {
    "ExecuteTime": {
     "end_time": "2020-11-12T03:13:44.406338Z",
     "start_time": "2020-11-12T03:13:44.373527Z"
    }
   },
   "outputs": [
    {
     "name": "stdout",
     "output_type": "stream",
     "text": [
      "cassins_0.0_4____2020_11_11_19_13_44_404196_umap_augmented\n"
     ]
    }
   ],
   "source": [
    "from datetime import datetime\n",
    "\n",
    "datestring = datetime.now().strftime(\"%Y_%m_%d_%H_%M_%S_%f\")\n",
    "datestring = (\n",
    "    str(dataset)\n",
    "    + \"_\"\n",
    "    + str(confidence_threshold)\n",
    "    + \"_\"\n",
    "    + str(labels_per_class)\n",
    "    + \"____\"\n",
    "    + datestring \n",
    "    + '_umap_augmented'\n",
    ")\n",
    "print(datestring)"
   ]
  },
  {
   "cell_type": "markdown",
   "metadata": {},
   "source": [
    "#### Load dataset"
   ]
  },
  {
   "cell_type": "code",
   "execution_count": 7,
   "metadata": {
    "ExecuteTime": {
     "end_time": "2020-11-12T03:13:44.512260Z",
     "start_time": "2020-11-12T03:13:44.407449Z"
    }
   },
   "outputs": [],
   "source": [
    "from tfumap.semisupervised_keras import load_dataset"
   ]
  },
  {
   "cell_type": "code",
   "execution_count": 8,
   "metadata": {
    "ExecuteTime": {
     "end_time": "2020-11-12T03:13:49.273226Z",
     "start_time": "2020-11-12T03:13:44.514320Z"
    }
   },
   "outputs": [],
   "source": [
    "(\n",
    "    X_train,\n",
    "    X_test,\n",
    "    X_labeled,\n",
    "    Y_labeled,\n",
    "    Y_masked,\n",
    "    X_valid,\n",
    "    Y_train,\n",
    "    Y_test,\n",
    "    Y_valid,\n",
    "    Y_valid_one_hot,\n",
    "    Y_labeled_one_hot,\n",
    "    num_classes,\n",
    "    dims\n",
    ") = load_dataset(dataset, labels_per_class)"
   ]
  },
  {
   "cell_type": "code",
   "execution_count": 9,
   "metadata": {
    "ExecuteTime": {
     "end_time": "2020-11-12T03:13:49.315064Z",
     "start_time": "2020-11-12T03:13:49.274696Z"
    }
   },
   "outputs": [],
   "source": [
    "X_train = np.expand_dims(X_train, -1)\n",
    "X_test = np.expand_dims(X_test, -1)\n",
    "X_labeled = np.expand_dims(X_labeled, -1)\n",
    "X_valid = np.expand_dims(X_valid, -1)"
   ]
  },
  {
   "cell_type": "markdown",
   "metadata": {},
   "source": [
    "### load architecture"
   ]
  },
  {
   "cell_type": "code",
   "execution_count": 10,
   "metadata": {
    "ExecuteTime": {
     "end_time": "2020-11-12T03:13:49.350549Z",
     "start_time": "2020-11-12T03:13:49.316426Z"
    }
   },
   "outputs": [],
   "source": [
    "from tfumap.semisupervised_keras import load_architecture"
   ]
  },
  {
   "cell_type": "code",
   "execution_count": 11,
   "metadata": {
    "ExecuteTime": {
     "end_time": "2020-11-12T03:13:50.063668Z",
     "start_time": "2020-11-12T03:13:49.351625Z"
    }
   },
   "outputs": [
    {
     "name": "stderr",
     "output_type": "stream",
     "text": [
      "WARNING: Logging before flag parsing goes to stderr.\n",
      "W1111 19:13:49.437629 139785522558784 recurrent_v2.py:1098] Layer lstm will not use cuDNN kernel since it doesn't meet the cuDNN kernel criteria. It will use generic GPU kernel as fallback when running on GPU\n",
      "W1111 19:13:49.442997 139785522558784 recurrent_v2.py:1098] Layer lstm will not use cuDNN kernel since it doesn't meet the cuDNN kernel criteria. It will use generic GPU kernel as fallback when running on GPU\n",
      "W1111 19:13:49.448757 139785522558784 recurrent_v2.py:1098] Layer lstm will not use cuDNN kernel since it doesn't meet the cuDNN kernel criteria. It will use generic GPU kernel as fallback when running on GPU\n"
     ]
    }
   ],
   "source": [
    "encoder, classifier, embedder = load_architecture(dataset, n_latent_dims)"
   ]
  },
  {
   "cell_type": "markdown",
   "metadata": {},
   "source": [
    "### load pretrained weights"
   ]
  },
  {
   "cell_type": "code",
   "execution_count": 12,
   "metadata": {
    "ExecuteTime": {
     "end_time": "2020-11-12T03:13:50.100552Z",
     "start_time": "2020-11-12T03:13:50.065096Z"
    }
   },
   "outputs": [],
   "source": [
    "from tfumap.semisupervised_keras import load_pretrained_weights"
   ]
  },
  {
   "cell_type": "code",
   "execution_count": 13,
   "metadata": {
    "ExecuteTime": {
     "end_time": "2020-11-12T03:13:50.179513Z",
     "start_time": "2020-11-12T03:13:50.101831Z"
    },
    "scrolled": true
   },
   "outputs": [
    {
     "name": "stderr",
     "output_type": "stream",
     "text": [
      "W1111 19:13:50.141930 139785522558784 base.py:272] Inconsistent references when loading the checkpoint into this object graph. Either the Trackable object references in the Python program have changed in an incompatible way, or the checkpoint was generated in an incompatible program.\n",
      "\n",
      "Two checkpoint references resolved to different objects (<tensorflow_addons.layers.wrappers.WeightNormalization object at 0x7f213be1d550> and <tensorflow.python.keras.layers.advanced_activations.LeakyReLU object at 0x7f213f66c780>).\n",
      "W1111 19:13:50.143636 139785522558784 base.py:272] Inconsistent references when loading the checkpoint into this object graph. Either the Trackable object references in the Python program have changed in an incompatible way, or the checkpoint was generated in an incompatible program.\n",
      "\n",
      "Two checkpoint references resolved to different objects (<tensorflow_addons.layers.wrappers.WeightNormalization object at 0x7f213f674400> and <tensorflow.python.keras.layers.advanced_activations.LeakyReLU object at 0x7f213f66c208>).\n",
      "W1111 19:13:50.160015 139785522558784 base.py:272] Inconsistent references when loading the checkpoint into this object graph. Either the Trackable object references in the Python program have changed in an incompatible way, or the checkpoint was generated in an incompatible program.\n",
      "\n",
      "Two checkpoint references resolved to different objects (<tensorflow.python.keras.layers.convolutional.Conv2D object at 0x7f220929c6d8> and <tensorflow.python.keras.layers.convolutional.Conv2D object at 0x7f213bf55780>).\n",
      "W1111 19:13:50.161886 139785522558784 base.py:272] Inconsistent references when loading the checkpoint into this object graph. Either the Trackable object references in the Python program have changed in an incompatible way, or the checkpoint was generated in an incompatible program.\n",
      "\n",
      "Two checkpoint references resolved to different objects (<tensorflow.python.keras.layers.convolutional.Conv2D object at 0x7f213bf55780> and <tensorflow.python.keras.layers.convolutional.Conv2D object at 0x7f213bf5b1d0>).\n",
      "W1111 19:13:50.163660 139785522558784 base.py:272] Inconsistent references when loading the checkpoint into this object graph. Either the Trackable object references in the Python program have changed in an incompatible way, or the checkpoint was generated in an incompatible program.\n",
      "\n",
      "Two checkpoint references resolved to different objects (<tensorflow.python.keras.layers.convolutional.Conv2D object at 0x7f213bf5b1d0> and <tensorflow.python.keras.layers.convolutional.Conv2D object at 0x7f213bf60e80>).\n",
      "W1111 19:13:50.165201 139785522558784 base.py:272] Inconsistent references when loading the checkpoint into this object graph. Either the Trackable object references in the Python program have changed in an incompatible way, or the checkpoint was generated in an incompatible program.\n",
      "\n",
      "Two checkpoint references resolved to different objects (<tensorflow.python.keras.layers.convolutional.Conv2D object at 0x7f213bf60e80> and <tensorflow.python.keras.layers.core.Reshape object at 0x7f213bf6d5c0>).\n",
      "W1111 19:13:50.166891 139785522558784 base.py:272] Inconsistent references when loading the checkpoint into this object graph. Either the Trackable object references in the Python program have changed in an incompatible way, or the checkpoint was generated in an incompatible program.\n",
      "\n",
      "Two checkpoint references resolved to different objects (<tensorflow.python.keras.layers.wrappers.Bidirectional object at 0x7f213bf07860> and <tensorflow.python.keras.layers.core.Dense object at 0x7f213be3ba90>).\n"
     ]
    }
   ],
   "source": [
    "encoder, classifier = load_pretrained_weights(dataset, augmented, labels_per_class, encoder, classifier)"
   ]
  },
  {
   "cell_type": "code",
   "execution_count": 14,
   "metadata": {
    "ExecuteTime": {
     "end_time": "2020-11-12T03:13:50.220469Z",
     "start_time": "2020-11-12T03:13:50.180944Z"
    }
   },
   "outputs": [
    {
     "name": "stdout",
     "output_type": "stream",
     "text": [
      "Model: \"sequential\"\n",
      "_________________________________________________________________\n",
      "Layer (type)                 Output Shape              Param #   \n",
      "=================================================================\n",
      "conv2d (Conv2D)              (None, 16, 16, 32)        320       \n",
      "_________________________________________________________________\n",
      "conv2d_1 (Conv2D)            (None, 8, 8, 64)          18496     \n",
      "_________________________________________________________________\n",
      "conv2d_2 (Conv2D)            (None, 4, 8, 128)         73856     \n",
      "_________________________________________________________________\n",
      "conv2d_3 (Conv2D)            (None, 2, 8, 128)         147584    \n",
      "_________________________________________________________________\n",
      "reshape (Reshape)            (None, 8, 256)            0         \n",
      "_________________________________________________________________\n",
      "bidirectional (Bidirectional (None, 200)               285600    \n",
      "_________________________________________________________________\n",
      "z (Dense)                    (None, 256)               51456     \n",
      "=================================================================\n",
      "Total params: 577,312\n",
      "Trainable params: 577,312\n",
      "Non-trainable params: 0\n",
      "_________________________________________________________________\n"
     ]
    }
   ],
   "source": [
    "encoder.summary()"
   ]
  },
  {
   "cell_type": "markdown",
   "metadata": {},
   "source": [
    "#### compute pretrained accuracy"
   ]
  },
  {
   "cell_type": "code",
   "execution_count": 15,
   "metadata": {
    "ExecuteTime": {
     "end_time": "2020-11-12T03:13:52.361767Z",
     "start_time": "2020-11-12T03:13:50.223592Z"
    }
   },
   "outputs": [
    {
     "name": "stdout",
     "output_type": "stream",
     "text": [
      "32/32 [==============================] - 0s 5ms/step\n",
      "32/32 [==============================] - 0s 1ms/step\n",
      "pretrained acc: 0.952\n"
     ]
    }
   ],
   "source": [
    "# test current acc\n",
    "pretrained_predictions = classifier.predict(encoder.predict(X_test, verbose=True), verbose=True)\n",
    "pretrained_predictions = np.argmax(pretrained_predictions, axis=1)\n",
    "pretrained_acc = np.mean(pretrained_predictions == Y_test)\n",
    "print('pretrained acc: {}'.format(pretrained_acc))"
   ]
  },
  {
   "cell_type": "markdown",
   "metadata": {},
   "source": [
    "### get a, b parameters for embeddings"
   ]
  },
  {
   "cell_type": "code",
   "execution_count": 16,
   "metadata": {
    "ExecuteTime": {
     "end_time": "2020-11-12T03:13:52.403819Z",
     "start_time": "2020-11-12T03:13:52.363749Z"
    }
   },
   "outputs": [],
   "source": [
    "from tfumap.semisupervised_keras import find_a_b"
   ]
  },
  {
   "cell_type": "code",
   "execution_count": 17,
   "metadata": {
    "ExecuteTime": {
     "end_time": "2020-11-12T03:13:52.464394Z",
     "start_time": "2020-11-12T03:13:52.404953Z"
    }
   },
   "outputs": [],
   "source": [
    "a_param, b_param = find_a_b(min_dist=min_dist)"
   ]
  },
  {
   "cell_type": "markdown",
   "metadata": {},
   "source": [
    "### build network"
   ]
  },
  {
   "cell_type": "code",
   "execution_count": 18,
   "metadata": {
    "ExecuteTime": {
     "end_time": "2020-11-12T03:13:52.505273Z",
     "start_time": "2020-11-12T03:13:52.466821Z"
    }
   },
   "outputs": [],
   "source": [
    "from tfumap.semisupervised_keras import build_model"
   ]
  },
  {
   "cell_type": "code",
   "execution_count": 19,
   "metadata": {
    "ExecuteTime": {
     "end_time": "2020-11-12T03:13:53.057858Z",
     "start_time": "2020-11-12T03:13:52.506769Z"
    }
   },
   "outputs": [],
   "source": [
    "model = build_model(\n",
    "    batch_size=batch_size,\n",
    "    a_param=a_param,\n",
    "    b_param=b_param,\n",
    "    dims=dims,\n",
    "    encoder=encoder,\n",
    "    classifier=classifier,\n",
    "    negative_sample_rate=negative_sample_rate,\n",
    "    optimizer=optimizer,\n",
    "    label_smoothing=label_smoothing,\n",
    "    embedder = embedder,\n",
    ")"
   ]
  },
  {
   "cell_type": "markdown",
   "metadata": {},
   "source": [
    "### build labeled iterator"
   ]
  },
  {
   "cell_type": "code",
   "execution_count": 20,
   "metadata": {
    "ExecuteTime": {
     "end_time": "2020-11-12T03:13:53.097745Z",
     "start_time": "2020-11-12T03:13:53.059552Z"
    }
   },
   "outputs": [],
   "source": [
    "from tfumap.semisupervised_keras import build_labeled_iterator"
   ]
  },
  {
   "cell_type": "code",
   "execution_count": 21,
   "metadata": {
    "ExecuteTime": {
     "end_time": "2020-11-12T03:13:53.134738Z",
     "start_time": "2020-11-12T03:13:53.099164Z"
    }
   },
   "outputs": [],
   "source": [
    "labeled_dataset = build_labeled_iterator(X_labeled, Y_labeled_one_hot, augmented, dims)"
   ]
  },
  {
   "cell_type": "markdown",
   "metadata": {},
   "source": [
    "### training"
   ]
  },
  {
   "cell_type": "code",
   "execution_count": 22,
   "metadata": {
    "ExecuteTime": {
     "end_time": "2020-11-12T03:13:53.195867Z",
     "start_time": "2020-11-12T03:13:53.136036Z"
    }
   },
   "outputs": [],
   "source": [
    "from livelossplot import PlotLossesKerasTF\n",
    "from tfumap.semisupervised_keras import get_edge_dataset\n",
    "from tfumap.semisupervised_keras import zip_datasets"
   ]
  },
  {
   "cell_type": "markdown",
   "metadata": {},
   "source": [
    "#### callbacks"
   ]
  },
  {
   "cell_type": "code",
   "execution_count": 23,
   "metadata": {
    "ExecuteTime": {
     "end_time": "2020-11-12T03:13:53.237985Z",
     "start_time": "2020-11-12T03:13:53.198199Z"
    }
   },
   "outputs": [],
   "source": [
    "# plot losses callback\n",
    "groups = {'acccuracy': ['classifier_accuracy', 'val_classifier_accuracy'], 'loss': ['classifier_loss', 'val_classifier_loss']}\n",
    "plotlosses = PlotLossesKerasTF(groups=groups)"
   ]
  },
  {
   "cell_type": "code",
   "execution_count": 24,
   "metadata": {
    "ExecuteTime": {
     "end_time": "2020-11-12T03:13:53.270541Z",
     "start_time": "2020-11-12T03:13:53.239365Z"
    }
   },
   "outputs": [],
   "source": [
    "history_list = []\n",
    "current_validation_acc = 0\n",
    "batches_per_epoch = np.floor(len(X_train)/batch_size).astype(int)\n",
    "epochs_since_last_improvement = 0\n",
    "current_umap_iterations = 0\n",
    "current_epoch = 0"
   ]
  },
  {
   "cell_type": "code",
   "execution_count": 25,
   "metadata": {
    "ExecuteTime": {
     "end_time": "2020-11-12T03:14:15.801215Z",
     "start_time": "2020-11-12T03:13:53.272885Z"
    }
   },
   "outputs": [],
   "source": [
    "# make dataset\n",
    "edge_dataset = get_edge_dataset(\n",
    "    model,\n",
    "    augmented,\n",
    "    classifier,\n",
    "    encoder,\n",
    "    X_train,\n",
    "    Y_masked,\n",
    "    batch_size,\n",
    "    confidence_threshold,\n",
    "    labeled_dataset,\n",
    "    dims,\n",
    "    learned_metric = learned_metric\n",
    ")\n",
    "\n",
    "# zip dataset\n",
    "zipped_ds = zip_datasets(labeled_dataset, edge_dataset, batch_size)"
   ]
  },
  {
   "cell_type": "code",
   "execution_count": 26,
   "metadata": {
    "ExecuteTime": {
     "end_time": "2020-11-12T03:59:36.476502Z",
     "start_time": "2020-11-12T03:14:15.802815Z"
    }
   },
   "outputs": [
    {
     "data": {
      "image/png": "[encoded data removed]",
      "text/plain": [
       "<Figure size 864x576 with 2 Axes>"
      ]
     },
     "metadata": {
      "needs_background": "light"
     },
     "output_type": "display_data"
    },
    {
     "name": "stdout",
     "output_type": "stream",
     "text": [
      "acccuracy\n",
      "\ttraining         \t (min:    1.000, max:    1.000, cur:    1.000)\n",
      "\tvalidation       \t (min:    0.946, max:    0.997, cur:    0.996)\n",
      "Loss\n",
      "\ttraining         \t (min:    1.046, max:    1.050, cur:    1.046)\n",
      "\tvalidation       \t (min:    1.068, max:    1.400, cur:    1.070)\n",
      "195/195 [==============================] - 10s 52ms/step - loss: 1.1370 - classifier_loss: 1.0457 - umap_loss: 0.0914 - classifier_accuracy: 1.0000 - val_loss: 1.0701 - val_classifier_loss: 1.0701 - val_umap_loss: 0.0000e+00 - val_classifier_accuracy: 0.9960\n",
      "Early stopping\n"
     ]
    }
   ],
   "source": [
    "from tfumap.paths import MODEL_DIR, ensure_dir\n",
    "save_folder = MODEL_DIR / 'semisupervised-keras' / dataset / str(labels_per_class) / datestring\n",
    "ensure_dir(save_folder / 'test_loss.npy')\n",
    "\n",
    "for cui in tqdm(np.arange(current_epoch, max_umap_iterations)):\n",
    "    \n",
    "    if len(history_list) > graph_patience+1:\n",
    "        previous_history = [np.mean(i.history['val_classifier_accuracy']) for i in history_list]\n",
    "        best_of_patience = np.max(previous_history[-graph_patience:])\n",
    "        best_of_previous = np.max(previous_history[:-graph_patience])\n",
    "        if (best_of_previous + min_graph_delta) > best_of_patience:\n",
    "            print('Early stopping')\n",
    "            break\n",
    "    \n",
    "    # train dataset\n",
    "    history = model.fit(\n",
    "        zipped_ds,\n",
    "        epochs= current_epoch + max_epochs_per_graph,\n",
    "        initial_epoch = current_epoch,\n",
    "        validation_data=(\n",
    "            (X_valid, tf.zeros_like(X_valid), tf.zeros_like(X_valid)),\n",
    "            {\"classifier\": Y_valid_one_hot},\n",
    "        ),\n",
    "        callbacks = [plotlosses],\n",
    "        max_queue_size = 100,\n",
    "        steps_per_epoch = batches_per_epoch,\n",
    "        #verbose=0\n",
    "    )\n",
    "    current_epoch+=len(history.history['loss'])\n",
    "    history_list.append(history)\n",
    "    \n",
    "    # save score \n",
    "    class_pred = classifier.predict(encoder.predict(X_test))\n",
    "    class_acc = np.mean(np.argmax(class_pred, axis=1) == Y_test)\n",
    "    np.save(save_folder / 'test_loss.npy', (np.nan, class_acc))\n",
    "    \n",
    "    # save weights\n",
    "    encoder.save_weights((save_folder / \"encoder\").as_posix())\n",
    "    classifier.save_weights((save_folder / \"classifier\").as_posix())\n",
    "    \n",
    "    # save history\n",
    "    with open(save_folder / 'history.pickle', 'wb') as file_pi:\n",
    "        pickle.dump([i.history for i in history_list], file_pi)\n",
    "\n",
    "        current_umap_iterations += 1"
   ]
  },
  {
   "cell_type": "code",
   "execution_count": 27,
   "metadata": {
    "ExecuteTime": {
     "end_time": "2020-11-12T03:59:37.276784Z",
     "start_time": "2020-11-12T03:59:36.477781Z"
    }
   },
   "outputs": [
    {
     "name": "stdout",
     "output_type": "stream",
     "text": [
      "Early stopping\n"
     ]
    }
   ],
   "source": [
    "previous_history = [np.mean(i.history['val_classifier_accuracy']) for i in history_list]\n",
    "best_of_patience = np.max(previous_history[-graph_patience:])\n",
    "best_of_previous = np.max(previous_history[:-graph_patience])\n",
    "if (best_of_previous + min_graph_delta) > best_of_patience:\n",
    "    print('Early stopping')"
   ]
  },
  {
   "cell_type": "code",
   "execution_count": 28,
   "metadata": {
    "ExecuteTime": {
     "end_time": "2020-11-12T03:59:37.411463Z",
     "start_time": "2020-11-12T03:59:37.278530Z"
    }
   },
   "outputs": [
    {
     "data": {
      "text/plain": [
       "[<matplotlib.lines.Line2D at 0x7f2130595860>]"
      ]
     },
     "execution_count": 28,
     "metadata": {},
     "output_type": "execute_result"
    },
    {
     "data": {
      "image/png": "[encoded data removed]",
      "text/plain": [
       "<Figure size 432x288 with 1 Axes>"
      ]
     },
     "metadata": {
      "needs_background": "light"
     },
     "output_type": "display_data"
    }
   ],
   "source": [
    "plt.plot(previous_history)"
   ]
  },
  {
   "cell_type": "markdown",
   "metadata": {},
   "source": [
    "### save embedding"
   ]
  },
  {
   "cell_type": "code",
   "execution_count": 29,
   "metadata": {
    "ExecuteTime": {
     "end_time": "2020-11-12T03:59:40.951607Z",
     "start_time": "2020-11-12T03:59:37.412937Z"
    }
   },
   "outputs": [],
   "source": [
    "z = encoder.predict(X_train)"
   ]
  },
  {
   "cell_type": "code",
   "execution_count": 30,
   "metadata": {
    "ExecuteTime": {
     "end_time": "2020-11-12T04:00:10.574690Z",
     "start_time": "2020-11-12T03:59:40.953257Z"
    }
   },
   "outputs": [
    {
     "name": "stdout",
     "output_type": "stream",
     "text": [
      "UMAP(dens_frac=0.0, dens_lambda=0.0, verbose=True)\n",
      "Construct fuzzy simplicial set\n",
      "Wed Nov 11 19:59:41 2020 Finding Nearest Neighbors\n",
      "Wed Nov 11 19:59:41 2020 Building RP forest with 13 trees\n",
      "Wed Nov 11 19:59:41 2020 parallel NN descent for 15 iterations\n",
      "\t 0  /  15\n",
      "\t 1  /  15\n",
      "\t 2  /  15\n",
      "Wed Nov 11 19:59:48 2020 Finished Nearest Neighbor Search\n",
      "Wed Nov 11 19:59:50 2020 Construct embedding\n",
      "\tcompleted  0  /  200 epochs\n",
      "\tcompleted  20  /  200 epochs\n",
      "\tcompleted  40  /  200 epochs\n",
      "\tcompleted  60  /  200 epochs\n",
      "\tcompleted  80  /  200 epochs\n",
      "\tcompleted  100  /  200 epochs\n",
      "\tcompleted  120  /  200 epochs\n",
      "\tcompleted  140  /  200 epochs\n",
      "\tcompleted  160  /  200 epochs\n",
      "\tcompleted  180  /  200 epochs\n",
      "Wed Nov 11 20:00:09 2020 Finished embedding\n"
     ]
    },
    {
     "data": {
      "text/plain": [
       "<matplotlib.collections.PathCollection at 0x7f20c818dc88>"
      ]
     },
     "execution_count": 30,
     "metadata": {},
     "output_type": "execute_result"
    },
    {
     "data": {
      "image/png": "[encoded data removed]",
      "text/plain": [
       "<Figure size 432x288 with 1 Axes>"
      ]
     },
     "metadata": {
      "needs_background": "light"
     },
     "output_type": "display_data"
    }
   ],
   "source": [
    "reducer = umap.UMAP(verbose=True)\n",
    "\n",
    "embedding = reducer.fit_transform(z.reshape(len(z), np.product(np.shape(z)[1:])))\n",
    "\n",
    "plt.scatter(embedding[:, 0], embedding[:, 1], c=Y_train.flatten(), s= 1, alpha = 0.1, cmap = plt.cm.tab10)"
   ]
  },
  {
   "cell_type": "code",
   "execution_count": 31,
   "metadata": {
    "ExecuteTime": {
     "end_time": "2020-11-12T04:00:10.621951Z",
     "start_time": "2020-11-12T04:00:10.576322Z"
    }
   },
   "outputs": [],
   "source": [
    "np.save(save_folder / 'train_embedding.npy', embedding)"
   ]
  },
  {
   "cell_type": "code",
   "execution_count": null,
   "metadata": {},
   "outputs": [],
   "source": []
  },
  {
   "cell_type": "code",
   "execution_count": null,
   "metadata": {},
   "outputs": [],
   "source": []
  },
  {
   "cell_type": "code",
   "execution_count": null,
   "metadata": {},
   "outputs": [],
   "source": []
  },
  {
   "cell_type": "code",
   "execution_count": null,
   "metadata": {},
   "outputs": [],
   "source": []
  }
 ],
 "metadata": {
  "kernelspec": {
   "display_name": "Python 3",
   "language": "python",
   "name": "python3"
  },
  "language_info": {
   "codemirror_mode": {
    "name": "ipython",
    "version": 3
   },
   "file_extension": ".py",
   "mimetype": "text/x-python",
   "name": "python",
   "nbconvert_exporter": "python",
   "pygments_lexer": "ipython3",
   "version": "3.6.7"
  }
 },
 "nbformat": 4,
 "nbformat_minor": 2
}
