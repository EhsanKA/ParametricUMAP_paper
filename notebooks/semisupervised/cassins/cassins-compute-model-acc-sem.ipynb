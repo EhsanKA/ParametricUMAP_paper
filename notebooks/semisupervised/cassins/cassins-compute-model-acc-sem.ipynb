{
 "cells": [
  {
   "cell_type": "markdown",
   "metadata": {},
   "source": [
    "### this notebook loads each model and grabs the prediction accuracy on the test dataset, plus standard error"
   ]
  },
  {
   "cell_type": "code",
   "execution_count": 13,
   "metadata": {
    "ExecuteTime": {
     "end_time": "2020-11-12T22:26:33.658761Z",
     "start_time": "2020-11-12T22:26:33.653742Z"
    }
   },
   "outputs": [],
   "source": [
    "import numpy as np\n",
    "from tfumap.semisupervised_keras import pretrained_networks\n",
    "from tfumap.semisupervised_keras import load_architecture\n",
    "from tfumap.paths import MODEL_DIR"
   ]
  },
  {
   "cell_type": "code",
   "execution_count": 14,
   "metadata": {
    "ExecuteTime": {
     "end_time": "2020-11-12T22:26:33.795773Z",
     "start_time": "2020-11-12T22:26:33.792531Z"
    }
   },
   "outputs": [],
   "source": [
    "from tfumap.semisupervised_keras import load_dataset"
   ]
  },
  {
   "cell_type": "code",
   "execution_count": 15,
   "metadata": {
    "ExecuteTime": {
     "end_time": "2020-11-12T22:26:37.495627Z",
     "start_time": "2020-11-12T22:26:33.930638Z"
    }
   },
   "outputs": [],
   "source": [
    "(\n",
    "    X_train,\n",
    "    X_test,\n",
    "    X_labeled,\n",
    "    Y_labeled,\n",
    "    Y_masked,\n",
    "    X_valid,\n",
    "    Y_train,\n",
    "    Y_test,\n",
    "    Y_valid,\n",
    "    Y_valid_one_hot,\n",
    "    Y_labeled_one_hot,\n",
    "    num_classes,\n",
    "    dims\n",
    ") = load_dataset(dataset, labels_per_class)"
   ]
  },
  {
   "cell_type": "code",
   "execution_count": 16,
   "metadata": {
    "ExecuteTime": {
     "end_time": "2020-11-12T22:26:37.500846Z",
     "start_time": "2020-11-12T22:26:37.497503Z"
    }
   },
   "outputs": [],
   "source": [
    "X_train = np.expand_dims(X_train, -1)\n",
    "X_test = np.expand_dims(X_test, -1)\n",
    "X_labeled = np.expand_dims(X_labeled, -1)\n",
    "X_valid = np.expand_dims(X_valid, -1)"
   ]
  },
  {
   "cell_type": "code",
   "execution_count": 17,
   "metadata": {
    "ExecuteTime": {
     "end_time": "2020-11-12T22:26:37.513895Z",
     "start_time": "2020-11-12T22:26:37.502667Z"
    }
   },
   "outputs": [],
   "source": [
    "dataset = \"cassins\"\n",
    "n_latent_dims = 1024"
   ]
  },
  {
   "cell_type": "code",
   "execution_count": 3,
   "metadata": {
    "ExecuteTime": {
     "end_time": "2020-11-12T22:13:07.269413Z",
     "start_time": "2020-11-12T22:13:05.318212Z"
    }
   },
   "outputs": [
    {
     "name": "stderr",
     "output_type": "stream",
     "text": [
      "WARNING: Logging before flag parsing goes to stderr.\n",
      "W1112 14:13:06.801024 140168604460864 recurrent_v2.py:1098] Layer lstm will not use cuDNN kernel since it doesn't meet the cuDNN kernel criteria. It will use generic GPU kernel as fallback when running on GPU\n",
      "W1112 14:13:06.807159 140168604460864 recurrent_v2.py:1098] Layer lstm will not use cuDNN kernel since it doesn't meet the cuDNN kernel criteria. It will use generic GPU kernel as fallback when running on GPU\n",
      "W1112 14:13:06.812948 140168604460864 recurrent_v2.py:1098] Layer lstm will not use cuDNN kernel since it doesn't meet the cuDNN kernel criteria. It will use generic GPU kernel as fallback when running on GPU\n"
     ]
    }
   ],
   "source": [
    "encoder, classifier, embedder = load_architecture(dataset, n_latent_dims)"
   ]
  },
  {
   "cell_type": "code",
   "execution_count": 29,
   "metadata": {
    "ExecuteTime": {
     "end_time": "2020-11-12T22:30:06.452402Z",
     "start_time": "2020-11-12T22:30:01.825205Z"
    },
    "scrolled": false
   },
   "outputs": [
    {
     "name": "stderr",
     "output_type": "stream",
     "text": [
      "W1112 14:30:01.871281 140168604460864 base.py:272] Inconsistent references when loading the checkpoint into this object graph. Either the Trackable object references in the Python program have changed in an incompatible way, or the checkpoint was generated in an incompatible program.\n",
      "\n",
      "Two checkpoint references resolved to different objects (<tensorflow_addons.layers.wrappers.WeightNormalization object at 0x7f7acecba630> and <tensorflow.python.keras.layers.advanced_activations.LeakyReLU object at 0x7f7acedec240>).\n",
      "W1112 14:30:01.874181 140168604460864 base.py:272] Inconsistent references when loading the checkpoint into this object graph. Either the Trackable object references in the Python program have changed in an incompatible way, or the checkpoint was generated in an incompatible program.\n",
      "\n",
      "Two checkpoint references resolved to different objects (<tensorflow_addons.layers.wrappers.WeightNormalization object at 0x7f7acef01630> and <tensorflow.python.keras.layers.advanced_activations.LeakyReLU object at 0x7f7acef01748>).\n",
      "W1112 14:30:01.892769 140168604460864 base.py:272] Inconsistent references when loading the checkpoint into this object graph. Either the Trackable object references in the Python program have changed in an incompatible way, or the checkpoint was generated in an incompatible program.\n",
      "\n",
      "Two checkpoint references resolved to different objects (<tensorflow.python.keras.layers.convolutional.Conv2D object at 0x7f7b3aa0b7f0> and <tensorflow.python.keras.layers.convolutional.Conv2D object at 0x7f7acecfe208>).\n",
      "W1112 14:30:01.894175 140168604460864 base.py:272] Inconsistent references when loading the checkpoint into this object graph. Either the Trackable object references in the Python program have changed in an incompatible way, or the checkpoint was generated in an incompatible program.\n",
      "\n",
      "Two checkpoint references resolved to different objects (<tensorflow.python.keras.layers.convolutional.Conv2D object at 0x7f7acecfe208> and <tensorflow.python.keras.layers.convolutional.Conv2D object at 0x7f7acecfe748>).\n",
      "W1112 14:30:01.895878 140168604460864 base.py:272] Inconsistent references when loading the checkpoint into this object graph. Either the Trackable object references in the Python program have changed in an incompatible way, or the checkpoint was generated in an incompatible program.\n",
      "\n",
      "Two checkpoint references resolved to different objects (<tensorflow.python.keras.layers.convolutional.Conv2D object at 0x7f7acecfe748> and <tensorflow.python.keras.layers.convolutional.Conv2D object at 0x7f7acdead5c0>).\n",
      "W1112 14:30:01.897466 140168604460864 base.py:272] Inconsistent references when loading the checkpoint into this object graph. Either the Trackable object references in the Python program have changed in an incompatible way, or the checkpoint was generated in an incompatible program.\n",
      "\n",
      "Two checkpoint references resolved to different objects (<tensorflow.python.keras.layers.convolutional.Conv2D object at 0x7f7acdead5c0> and <tensorflow.python.keras.layers.core.Reshape object at 0x7f7acdeade48>).\n",
      "W1112 14:30:01.899745 140168604460864 base.py:272] Inconsistent references when loading the checkpoint into this object graph. Either the Trackable object references in the Python program have changed in an incompatible way, or the checkpoint was generated in an incompatible program.\n",
      "\n",
      "Two checkpoint references resolved to different objects (<tensorflow.python.keras.layers.wrappers.Bidirectional object at 0x7f7acdec12e8> and <tensorflow.python.keras.layers.core.Dense object at 0x7f7ace729240>).\n"
     ]
    },
    {
     "name": "stdout",
     "output_type": "stream",
     "text": [
      "32/32 [==============================] - 0s 5ms/step\n",
      "32/32 [==============================] - 0s 2ms/step\n",
      "pretrained acc: 0.952 +- 0.006759881655768835\n",
      "32/32 [==============================] - 0s 5ms/step\n",
      "32/32 [==============================] - 0s 2ms/step\n"
     ]
    },
    {
     "name": "stderr",
     "output_type": "stream",
     "text": [
      "W1112 14:30:02.761015 140168604460864 base.py:272] Inconsistent references when loading the checkpoint into this object graph. Either the Trackable object references in the Python program have changed in an incompatible way, or the checkpoint was generated in an incompatible program.\n",
      "\n",
      "Two checkpoint references resolved to different objects (<tensorflow_addons.layers.wrappers.WeightNormalization object at 0x7f7acecba630> and <tensorflow.python.keras.layers.advanced_activations.LeakyReLU object at 0x7f7acedec240>).\n",
      "W1112 14:30:02.763276 140168604460864 base.py:272] Inconsistent references when loading the checkpoint into this object graph. Either the Trackable object references in the Python program have changed in an incompatible way, or the checkpoint was generated in an incompatible program.\n",
      "\n",
      "Two checkpoint references resolved to different objects (<tensorflow_addons.layers.wrappers.WeightNormalization object at 0x7f7acef01630> and <tensorflow.python.keras.layers.advanced_activations.LeakyReLU object at 0x7f7acef01748>).\n"
     ]
    },
    {
     "name": "stdout",
     "output_type": "stream",
     "text": [
      "pretrained acc: 0.996 +- 0.001995995991979944\n"
     ]
    },
    {
     "name": "stderr",
     "output_type": "stream",
     "text": [
      "W1112 14:30:02.780312 140168604460864 base.py:272] Inconsistent references when loading the checkpoint into this object graph. Either the Trackable object references in the Python program have changed in an incompatible way, or the checkpoint was generated in an incompatible program.\n",
      "\n",
      "Two checkpoint references resolved to different objects (<tensorflow.python.keras.layers.convolutional.Conv2D object at 0x7f7b3aa0b7f0> and <tensorflow.python.keras.layers.convolutional.Conv2D object at 0x7f7acecfe208>).\n",
      "W1112 14:30:02.782036 140168604460864 base.py:272] Inconsistent references when loading the checkpoint into this object graph. Either the Trackable object references in the Python program have changed in an incompatible way, or the checkpoint was generated in an incompatible program.\n",
      "\n",
      "Two checkpoint references resolved to different objects (<tensorflow.python.keras.layers.convolutional.Conv2D object at 0x7f7acecfe208> and <tensorflow.python.keras.layers.convolutional.Conv2D object at 0x7f7acecfe748>).\n",
      "W1112 14:30:02.783303 140168604460864 base.py:272] Inconsistent references when loading the checkpoint into this object graph. Either the Trackable object references in the Python program have changed in an incompatible way, or the checkpoint was generated in an incompatible program.\n",
      "\n",
      "Two checkpoint references resolved to different objects (<tensorflow.python.keras.layers.convolutional.Conv2D object at 0x7f7acecfe748> and <tensorflow.python.keras.layers.convolutional.Conv2D object at 0x7f7acdead5c0>).\n",
      "W1112 14:30:02.784669 140168604460864 base.py:272] Inconsistent references when loading the checkpoint into this object graph. Either the Trackable object references in the Python program have changed in an incompatible way, or the checkpoint was generated in an incompatible program.\n",
      "\n",
      "Two checkpoint references resolved to different objects (<tensorflow.python.keras.layers.convolutional.Conv2D object at 0x7f7acdead5c0> and <tensorflow.python.keras.layers.core.Reshape object at 0x7f7acdeade48>).\n",
      "W1112 14:30:02.786058 140168604460864 base.py:272] Inconsistent references when loading the checkpoint into this object graph. Either the Trackable object references in the Python program have changed in an incompatible way, or the checkpoint was generated in an incompatible program.\n",
      "\n",
      "Two checkpoint references resolved to different objects (<tensorflow.python.keras.layers.wrappers.Bidirectional object at 0x7f7acdec12e8> and <tensorflow.python.keras.layers.core.Dense object at 0x7f7ace729240>).\n"
     ]
    },
    {
     "name": "stdout",
     "output_type": "stream",
     "text": [
      "32/32 [==============================] - 0s 4ms/step\n",
      "32/32 [==============================] - 0s 1ms/step\n",
      "pretrained acc: 0.992 +- 0.002817090697865441\n",
      "32/32 [==============================] - 0s 5ms/step\n",
      "32/32 [==============================] - 0s 2ms/step\n"
     ]
    },
    {
     "name": "stderr",
     "output_type": "stream",
     "text": [
      "W1112 14:30:03.430610 140168604460864 base.py:272] Inconsistent references when loading the checkpoint into this object graph. Either the Trackable object references in the Python program have changed in an incompatible way, or the checkpoint was generated in an incompatible program.\n",
      "\n",
      "Two checkpoint references resolved to different objects (<tensorflow_addons.layers.wrappers.WeightNormalization object at 0x7f7acecba630> and <tensorflow.python.keras.layers.advanced_activations.LeakyReLU object at 0x7f7acedec240>).\n",
      "W1112 14:30:03.432298 140168604460864 base.py:272] Inconsistent references when loading the checkpoint into this object graph. Either the Trackable object references in the Python program have changed in an incompatible way, or the checkpoint was generated in an incompatible program.\n",
      "\n",
      "Two checkpoint references resolved to different objects (<tensorflow_addons.layers.wrappers.WeightNormalization object at 0x7f7acef01630> and <tensorflow.python.keras.layers.advanced_activations.LeakyReLU object at 0x7f7acef01748>).\n"
     ]
    },
    {
     "name": "stdout",
     "output_type": "stream",
     "text": [
      "pretrained acc: 0.998 +- 0.0014127986409959489\n"
     ]
    },
    {
     "name": "stderr",
     "output_type": "stream",
     "text": [
      "W1112 14:30:03.451538 140168604460864 base.py:272] Inconsistent references when loading the checkpoint into this object graph. Either the Trackable object references in the Python program have changed in an incompatible way, or the checkpoint was generated in an incompatible program.\n",
      "\n",
      "Two checkpoint references resolved to different objects (<tensorflow.python.keras.layers.convolutional.Conv2D object at 0x7f7b3aa0b7f0> and <tensorflow.python.keras.layers.convolutional.Conv2D object at 0x7f7acecfe208>).\n",
      "W1112 14:30:03.453407 140168604460864 base.py:272] Inconsistent references when loading the checkpoint into this object graph. Either the Trackable object references in the Python program have changed in an incompatible way, or the checkpoint was generated in an incompatible program.\n",
      "\n",
      "Two checkpoint references resolved to different objects (<tensorflow.python.keras.layers.convolutional.Conv2D object at 0x7f7acecfe208> and <tensorflow.python.keras.layers.convolutional.Conv2D object at 0x7f7acecfe748>).\n",
      "W1112 14:30:03.455178 140168604460864 base.py:272] Inconsistent references when loading the checkpoint into this object graph. Either the Trackable object references in the Python program have changed in an incompatible way, or the checkpoint was generated in an incompatible program.\n",
      "\n",
      "Two checkpoint references resolved to different objects (<tensorflow.python.keras.layers.convolutional.Conv2D object at 0x7f7acecfe748> and <tensorflow.python.keras.layers.convolutional.Conv2D object at 0x7f7acdead5c0>).\n",
      "W1112 14:30:03.456948 140168604460864 base.py:272] Inconsistent references when loading the checkpoint into this object graph. Either the Trackable object references in the Python program have changed in an incompatible way, or the checkpoint was generated in an incompatible program.\n",
      "\n",
      "Two checkpoint references resolved to different objects (<tensorflow.python.keras.layers.convolutional.Conv2D object at 0x7f7acdead5c0> and <tensorflow.python.keras.layers.core.Reshape object at 0x7f7acdeade48>).\n",
      "W1112 14:30:03.458371 140168604460864 base.py:272] Inconsistent references when loading the checkpoint into this object graph. Either the Trackable object references in the Python program have changed in an incompatible way, or the checkpoint was generated in an incompatible program.\n",
      "\n",
      "Two checkpoint references resolved to different objects (<tensorflow.python.keras.layers.wrappers.Bidirectional object at 0x7f7acdec12e8> and <tensorflow.python.keras.layers.core.Dense object at 0x7f7ace729240>).\n"
     ]
    },
    {
     "name": "stdout",
     "output_type": "stream",
     "text": [
      "32/32 [==============================] - 0s 5ms/step\n",
      "32/32 [==============================] - 0s 2ms/step\n",
      "pretrained acc: 0.993 +- 0.0026364749192814255\n",
      "32/32 [==============================] - 0s 5ms/step\n",
      "32/32 [==============================] - 0s 2ms/step\n"
     ]
    },
    {
     "name": "stderr",
     "output_type": "stream",
     "text": [
      "W1112 14:30:04.210852 140168604460864 base.py:272] Inconsistent references when loading the checkpoint into this object graph. Either the Trackable object references in the Python program have changed in an incompatible way, or the checkpoint was generated in an incompatible program.\n",
      "\n",
      "Two checkpoint references resolved to different objects (<tensorflow_addons.layers.wrappers.WeightNormalization object at 0x7f7acecba630> and <tensorflow.python.keras.layers.advanced_activations.LeakyReLU object at 0x7f7acedec240>).\n",
      "W1112 14:30:04.212541 140168604460864 base.py:272] Inconsistent references when loading the checkpoint into this object graph. Either the Trackable object references in the Python program have changed in an incompatible way, or the checkpoint was generated in an incompatible program.\n",
      "\n",
      "Two checkpoint references resolved to different objects (<tensorflow_addons.layers.wrappers.WeightNormalization object at 0x7f7acef01630> and <tensorflow.python.keras.layers.advanced_activations.LeakyReLU object at 0x7f7acef01748>).\n"
     ]
    },
    {
     "name": "stdout",
     "output_type": "stream",
     "text": [
      "pretrained acc: 0.998 +- 0.0014127986409959489\n"
     ]
    },
    {
     "name": "stderr",
     "output_type": "stream",
     "text": [
      "W1112 14:30:04.231224 140168604460864 base.py:272] Inconsistent references when loading the checkpoint into this object graph. Either the Trackable object references in the Python program have changed in an incompatible way, or the checkpoint was generated in an incompatible program.\n",
      "\n",
      "Two checkpoint references resolved to different objects (<tensorflow.python.keras.layers.convolutional.Conv2D object at 0x7f7b3aa0b7f0> and <tensorflow.python.keras.layers.convolutional.Conv2D object at 0x7f7acecfe208>).\n",
      "W1112 14:30:04.232896 140168604460864 base.py:272] Inconsistent references when loading the checkpoint into this object graph. Either the Trackable object references in the Python program have changed in an incompatible way, or the checkpoint was generated in an incompatible program.\n",
      "\n",
      "Two checkpoint references resolved to different objects (<tensorflow.python.keras.layers.convolutional.Conv2D object at 0x7f7acecfe208> and <tensorflow.python.keras.layers.convolutional.Conv2D object at 0x7f7acecfe748>).\n",
      "W1112 14:30:04.234547 140168604460864 base.py:272] Inconsistent references when loading the checkpoint into this object graph. Either the Trackable object references in the Python program have changed in an incompatible way, or the checkpoint was generated in an incompatible program.\n",
      "\n",
      "Two checkpoint references resolved to different objects (<tensorflow.python.keras.layers.convolutional.Conv2D object at 0x7f7acecfe748> and <tensorflow.python.keras.layers.convolutional.Conv2D object at 0x7f7acdead5c0>).\n",
      "W1112 14:30:04.236269 140168604460864 base.py:272] Inconsistent references when loading the checkpoint into this object graph. Either the Trackable object references in the Python program have changed in an incompatible way, or the checkpoint was generated in an incompatible program.\n",
      "\n",
      "Two checkpoint references resolved to different objects (<tensorflow.python.keras.layers.convolutional.Conv2D object at 0x7f7acdead5c0> and <tensorflow.python.keras.layers.core.Reshape object at 0x7f7acdeade48>).\n",
      "W1112 14:30:04.238032 140168604460864 base.py:272] Inconsistent references when loading the checkpoint into this object graph. Either the Trackable object references in the Python program have changed in an incompatible way, or the checkpoint was generated in an incompatible program.\n",
      "\n",
      "Two checkpoint references resolved to different objects (<tensorflow.python.keras.layers.wrappers.Bidirectional object at 0x7f7acdec12e8> and <tensorflow.python.keras.layers.core.Dense object at 0x7f7ace729240>).\n"
     ]
    },
    {
     "name": "stdout",
     "output_type": "stream",
     "text": [
      "32/32 [==============================] - 0s 5ms/step\n",
      "32/32 [==============================] - 0s 2ms/step\n",
      "pretrained acc: 0.995 +- 0.0022304708023195463\n",
      "32/32 [==============================] - 0s 5ms/step\n",
      "32/32 [==============================] - 0s 2ms/step\n",
      "pretrained acc: 0.997 +- 0.0017294507798720383\n"
     ]
    },
    {
     "name": "stderr",
     "output_type": "stream",
     "text": [
      "W1112 14:30:04.978607 140168604460864 base.py:272] Inconsistent references when loading the checkpoint into this object graph. Either the Trackable object references in the Python program have changed in an incompatible way, or the checkpoint was generated in an incompatible program.\n",
      "\n",
      "Two checkpoint references resolved to different objects (<tensorflow_addons.layers.wrappers.WeightNormalization object at 0x7f7acecba630> and <tensorflow.python.keras.layers.advanced_activations.LeakyReLU object at 0x7f7acedec240>).\n",
      "W1112 14:30:04.980332 140168604460864 base.py:272] Inconsistent references when loading the checkpoint into this object graph. Either the Trackable object references in the Python program have changed in an incompatible way, or the checkpoint was generated in an incompatible program.\n",
      "\n",
      "Two checkpoint references resolved to different objects (<tensorflow_addons.layers.wrappers.WeightNormalization object at 0x7f7acef01630> and <tensorflow.python.keras.layers.advanced_activations.LeakyReLU object at 0x7f7acef01748>).\n",
      "W1112 14:30:05.000595 140168604460864 base.py:272] Inconsistent references when loading the checkpoint into this object graph. Either the Trackable object references in the Python program have changed in an incompatible way, or the checkpoint was generated in an incompatible program.\n",
      "\n",
      "Two checkpoint references resolved to different objects (<tensorflow.python.keras.layers.convolutional.Conv2D object at 0x7f7b3aa0b7f0> and <tensorflow.python.keras.layers.convolutional.Conv2D object at 0x7f7acecfe208>).\n",
      "W1112 14:30:05.002450 140168604460864 base.py:272] Inconsistent references when loading the checkpoint into this object graph. Either the Trackable object references in the Python program have changed in an incompatible way, or the checkpoint was generated in an incompatible program.\n",
      "\n",
      "Two checkpoint references resolved to different objects (<tensorflow.python.keras.layers.convolutional.Conv2D object at 0x7f7acecfe208> and <tensorflow.python.keras.layers.convolutional.Conv2D object at 0x7f7acecfe748>).\n",
      "W1112 14:30:05.004260 140168604460864 base.py:272] Inconsistent references when loading the checkpoint into this object graph. Either the Trackable object references in the Python program have changed in an incompatible way, or the checkpoint was generated in an incompatible program.\n",
      "\n",
      "Two checkpoint references resolved to different objects (<tensorflow.python.keras.layers.convolutional.Conv2D object at 0x7f7acecfe748> and <tensorflow.python.keras.layers.convolutional.Conv2D object at 0x7f7acdead5c0>).\n",
      "W1112 14:30:05.006021 140168604460864 base.py:272] Inconsistent references when loading the checkpoint into this object graph. Either the Trackable object references in the Python program have changed in an incompatible way, or the checkpoint was generated in an incompatible program.\n",
      "\n",
      "Two checkpoint references resolved to different objects (<tensorflow.python.keras.layers.convolutional.Conv2D object at 0x7f7acdead5c0> and <tensorflow.python.keras.layers.core.Reshape object at 0x7f7acdeade48>).\n",
      "W1112 14:30:05.007641 140168604460864 base.py:272] Inconsistent references when loading the checkpoint into this object graph. Either the Trackable object references in the Python program have changed in an incompatible way, or the checkpoint was generated in an incompatible program.\n",
      "\n",
      "Two checkpoint references resolved to different objects (<tensorflow.python.keras.layers.wrappers.Bidirectional object at 0x7f7acdec12e8> and <tensorflow.python.keras.layers.core.Dense object at 0x7f7ace729240>).\n"
     ]
    },
    {
     "name": "stdout",
     "output_type": "stream",
     "text": [
      "32/32 [==============================] - 0s 4ms/step\n",
      "32/32 [==============================] - 0s 2ms/step\n",
      "pretrained acc: 1.0 +- 0.0\n",
      "32/32 [==============================] - 0s 5ms/step\n",
      "32/32 [==============================] - 0s 1ms/step\n"
     ]
    },
    {
     "name": "stderr",
     "output_type": "stream",
     "text": [
      "W1112 14:30:05.747146 140168604460864 base.py:272] Inconsistent references when loading the checkpoint into this object graph. Either the Trackable object references in the Python program have changed in an incompatible way, or the checkpoint was generated in an incompatible program.\n",
      "\n",
      "Two checkpoint references resolved to different objects (<tensorflow_addons.layers.wrappers.WeightNormalization object at 0x7f7acecba630> and <tensorflow.python.keras.layers.advanced_activations.LeakyReLU object at 0x7f7acedec240>).\n",
      "W1112 14:30:05.749589 140168604460864 base.py:272] Inconsistent references when loading the checkpoint into this object graph. Either the Trackable object references in the Python program have changed in an incompatible way, or the checkpoint was generated in an incompatible program.\n",
      "\n",
      "Two checkpoint references resolved to different objects (<tensorflow_addons.layers.wrappers.WeightNormalization object at 0x7f7acef01630> and <tensorflow.python.keras.layers.advanced_activations.LeakyReLU object at 0x7f7acef01748>).\n",
      "W1112 14:30:05.767945 140168604460864 base.py:272] Inconsistent references when loading the checkpoint into this object graph. Either the Trackable object references in the Python program have changed in an incompatible way, or the checkpoint was generated in an incompatible program.\n",
      "\n",
      "Two checkpoint references resolved to different objects (<tensorflow.python.keras.layers.convolutional.Conv2D object at 0x7f7b3aa0b7f0> and <tensorflow.python.keras.layers.convolutional.Conv2D object at 0x7f7acecfe208>).\n",
      "W1112 14:30:05.769247 140168604460864 base.py:272] Inconsistent references when loading the checkpoint into this object graph. Either the Trackable object references in the Python program have changed in an incompatible way, or the checkpoint was generated in an incompatible program.\n",
      "\n",
      "Two checkpoint references resolved to different objects (<tensorflow.python.keras.layers.convolutional.Conv2D object at 0x7f7acecfe208> and <tensorflow.python.keras.layers.convolutional.Conv2D object at 0x7f7acecfe748>).\n",
      "W1112 14:30:05.770351 140168604460864 base.py:272] Inconsistent references when loading the checkpoint into this object graph. Either the Trackable object references in the Python program have changed in an incompatible way, or the checkpoint was generated in an incompatible program.\n",
      "\n",
      "Two checkpoint references resolved to different objects (<tensorflow.python.keras.layers.convolutional.Conv2D object at 0x7f7acecfe748> and <tensorflow.python.keras.layers.convolutional.Conv2D object at 0x7f7acdead5c0>).\n",
      "W1112 14:30:05.771460 140168604460864 base.py:272] Inconsistent references when loading the checkpoint into this object graph. Either the Trackable object references in the Python program have changed in an incompatible way, or the checkpoint was generated in an incompatible program.\n",
      "\n",
      "Two checkpoint references resolved to different objects (<tensorflow.python.keras.layers.convolutional.Conv2D object at 0x7f7acdead5c0> and <tensorflow.python.keras.layers.core.Reshape object at 0x7f7acdeade48>).\n",
      "W1112 14:30:05.773583 140168604460864 base.py:272] Inconsistent references when loading the checkpoint into this object graph. Either the Trackable object references in the Python program have changed in an incompatible way, or the checkpoint was generated in an incompatible program.\n",
      "\n",
      "Two checkpoint references resolved to different objects (<tensorflow.python.keras.layers.wrappers.Bidirectional object at 0x7f7acdec12e8> and <tensorflow.python.keras.layers.core.Dense object at 0x7f7ace729240>).\n"
     ]
    },
    {
     "name": "stdout",
     "output_type": "stream",
     "text": [
      "pretrained acc: 0.999 +- 0.000999499874937461\n",
      "32/32 [==============================] - 0s 5ms/step\n",
      "32/32 [==============================] - 0s 2ms/step\n",
      "pretrained acc: 0.999 +- 0.000999499874937461\n",
      "32/32 [==============================] - 0s 5ms/step\n",
      "32/32 [==============================] - 0s 1ms/step\n",
      "pretrained acc: 0.999 +- 0.000999499874937461\n"
     ]
    }
   ],
   "source": [
    "for labels_per_class in [4, 16, 64, 256, 1024, 'full']:\n",
    "    for aug_str in ['not_augmented', 'umap_euclidean']:\n",
    "        pretrained_weights_loc = pretrained_networks[dataset][aug_str][labels_per_class]\n",
    "        load_folder = (\n",
    "            MODEL_DIR\n",
    "            / \"semisupervised-keras\"\n",
    "            / dataset\n",
    "            / str(labels_per_class)\n",
    "            / pretrained_weights_loc\n",
    "        )\n",
    "        classifier.load_weights((load_folder / \"classifier\").as_posix())\n",
    "        encoder.load_weights((load_folder / \"encoder\").as_posix())\n",
    "        # test current acc\n",
    "        pretrained_predictions = classifier.predict(encoder.predict(X_test, verbose=True), verbose=True)\n",
    "        pretrained_predictions = np.argmax(pretrained_predictions, axis=1)\n",
    "        pretrained_acc = pretrained_predictions == Y_test\n",
    "        mean_acc = np.mean(pretrained_acc)\n",
    "        sem_acc = np.std(pretrained_acc) / np.sqrt(len(pretrained_acc))\n",
    "        np.save(load_folder / 'test_loss_SEM.npy', (mean_acc, sem_acc))\n",
    "        print('pretrained acc: {} +- {}'.format(mean_acc, sem_acc))"
   ]
  },
  {
   "cell_type": "code",
   "execution_count": 30,
   "metadata": {
    "ExecuteTime": {
     "end_time": "2020-11-12T22:31:47.740777Z",
     "start_time": "2020-11-12T22:31:47.735958Z"
    }
   },
   "outputs": [
    {
     "data": {
      "text/plain": [
       "PosixPath('/mnt/cube/tsainbur/Projects/github_repos/umap_tf_networks/models/semisupervised-keras/cassins/full/cassins_0.0_full____2020_11_11_19_18_52_525170_umap_augmented')"
      ]
     },
     "execution_count": 30,
     "metadata": {},
     "output_type": "execute_result"
    }
   ],
   "source": [
    "load_folder"
   ]
  },
  {
   "cell_type": "code",
   "execution_count": 31,
   "metadata": {
    "ExecuteTime": {
     "end_time": "2020-11-12T22:31:55.516608Z",
     "start_time": "2020-11-12T22:31:55.214641Z"
    }
   },
   "outputs": [
    {
     "name": "stdout",
     "output_type": "stream",
     "text": [
      "checkpoint\t\t\thistory.pickle\r\n",
      "classifier.data-00000-of-00001\ttest_loss.npy\r\n",
      "classifier.index\t\ttest_loss_SEM.npy\r\n",
      "encoder.data-00000-of-00001\ttrain_embedding.npy\r\n",
      "encoder.index\r\n"
     ]
    }
   ],
   "source": [
    "!ls /mnt/cube/tsainbur/Projects/github_repos/umap_tf_networks/models/semisupervised-keras/cassins/full/cassins_0.0_full____2020_11_11_19_18_52_525170_umap_augmented"
   ]
  },
  {
   "cell_type": "code",
   "execution_count": null,
   "metadata": {},
   "outputs": [],
   "source": []
  }
 ],
 "metadata": {
  "kernelspec": {
   "display_name": "Python 3",
   "language": "python",
   "name": "python3"
  },
  "language_info": {
   "codemirror_mode": {
    "name": "ipython",
    "version": 3
   },
   "file_extension": ".py",
   "mimetype": "text/x-python",
   "name": "python",
   "nbconvert_exporter": "python",
   "pygments_lexer": "ipython3",
   "version": "3.6.7"
  }
 },
 "nbformat": 4,
 "nbformat_minor": 2
}
