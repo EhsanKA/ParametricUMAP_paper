{
 "cells": [
  {
   "cell_type": "code",
   "execution_count": 1,
   "metadata": {
    "ExecuteTime": {
     "end_time": "2020-08-19T21:38:22.963361Z",
     "start_time": "2020-08-19T21:38:22.949362Z"
    }
   },
   "outputs": [],
   "source": [
    "# reload packages\n",
    "%load_ext autoreload\n",
    "%autoreload 2"
   ]
  },
  {
   "cell_type": "markdown",
   "metadata": {},
   "source": [
    "### Choose GPU"
   ]
  },
  {
   "cell_type": "code",
   "execution_count": 2,
   "metadata": {
    "ExecuteTime": {
     "end_time": "2020-08-19T21:38:22.972190Z",
     "start_time": "2020-08-19T21:38:22.964514Z"
    }
   },
   "outputs": [
    {
     "name": "stdout",
     "output_type": "stream",
     "text": [
      "env: CUDA_DEVICE_ORDER=PCI_BUS_ID\n",
      "env: CUDA_VISIBLE_DEVICES=1\n"
     ]
    }
   ],
   "source": [
    "%env CUDA_DEVICE_ORDER=PCI_BUS_ID\n",
    "%env CUDA_VISIBLE_DEVICES=1"
   ]
  },
  {
   "cell_type": "code",
   "execution_count": 3,
   "metadata": {
    "ExecuteTime": {
     "end_time": "2020-08-19T21:38:26.317032Z",
     "start_time": "2020-08-19T21:38:22.973259Z"
    }
   },
   "outputs": [
    {
     "name": "stdout",
     "output_type": "stream",
     "text": [
      "[PhysicalDevice(name='/physical_device:GPU:0', device_type='GPU')]\n"
     ]
    }
   ],
   "source": [
    "import tensorflow as tf\n",
    "gpu_devices = tf.config.experimental.list_physical_devices('GPU')\n",
    "if len(gpu_devices)>0:\n",
    "    tf.config.experimental.set_memory_growth(gpu_devices[0], True)\n",
    "print(gpu_devices)\n",
    "tf.keras.backend.clear_session()"
   ]
  },
  {
   "cell_type": "markdown",
   "metadata": {},
   "source": [
    "### Load packages"
   ]
  },
  {
   "cell_type": "code",
   "execution_count": 4,
   "metadata": {
    "ExecuteTime": {
     "end_time": "2020-08-19T21:38:31.025637Z",
     "start_time": "2020-08-19T21:38:26.318256Z"
    }
   },
   "outputs": [
    {
     "name": "stderr",
     "output_type": "stream",
     "text": [
      "/mnt/cube/tsainbur/conda_envs/tpy3/lib/python3.6/site-packages/tqdm/autonotebook/__init__.py:14: TqdmExperimentalWarning: Using `tqdm.autonotebook.tqdm` in notebook mode. Use `tqdm.tqdm` instead to force console mode (e.g. in jupyter console)\n",
      "  \" (e.g. in jupyter console)\", TqdmExperimentalWarning)\n"
     ]
    }
   ],
   "source": [
    "import tensorflow as tf\n",
    "import numpy as np\n",
    "import matplotlib.pyplot as plt\n",
    "from tqdm.autonotebook import tqdm\n",
    "from IPython import display\n",
    "import pandas as pd\n",
    "import umap\n",
    "import copy\n",
    "import os, tempfile\n",
    "import tensorflow_addons as tfa\n",
    "import pickle\n"
   ]
  },
  {
   "cell_type": "markdown",
   "metadata": {},
   "source": [
    "### parameters"
   ]
  },
  {
   "cell_type": "code",
   "execution_count": 5,
   "metadata": {
    "ExecuteTime": {
     "end_time": "2020-08-19T21:38:31.071235Z",
     "start_time": "2020-08-19T21:38:31.027080Z"
    }
   },
   "outputs": [],
   "source": [
    "dataset = \"cifar10\"\n",
    "labels_per_class = 256 # 'full'\n",
    "n_latent_dims = 1024\n",
    "confidence_threshold = 0.0 # minimum confidence to include in UMAP graph for learned metric\n",
    "learned_metric = True # whether to use a learned metric, or Euclidean distance between datapoints\n",
    "\n",
    "augmented = False #\n",
    "min_dist= 0.001 # min_dist parameter for UMAP\n",
    "negative_sample_rate = 5 # how many negative samples per positive sample \n",
    "batch_size = 128 # batch size \n",
    "optimizer = tf.keras.optimizers.Adam(1e-3) # the optimizer to train\n",
    "optimizer = tfa.optimizers.MovingAverage(optimizer)\n",
    "label_smoothing = 0.2 # how much label smoothing to apply to categorical crossentropy\n",
    "max_umap_iterations = 500 # how many times, maximum, to recompute UMAP\n",
    "max_epochs_per_graph = 10 # how many epochs maximum each graph trains for (without early stopping)\n",
    "graph_patience = 10 # how many times without improvement to train a new graph\n",
    "min_graph_delta = 0.0025 # minimum improvement on validation acc to consider an improvement for training"
   ]
  },
  {
   "cell_type": "code",
   "execution_count": 6,
   "metadata": {
    "ExecuteTime": {
     "end_time": "2020-08-19T21:38:31.107483Z",
     "start_time": "2020-08-19T21:38:31.072409Z"
    }
   },
   "outputs": [
    {
     "name": "stdout",
     "output_type": "stream",
     "text": [
      "cifar10_0.0_256____2020_08_19_14_38_31_105228_umap_augmented\n"
     ]
    }
   ],
   "source": [
    "from datetime import datetime\n",
    "\n",
    "datestring = datetime.now().strftime(\"%Y_%m_%d_%H_%M_%S_%f\")\n",
    "datestring = (\n",
    "    str(dataset)\n",
    "    + \"_\"\n",
    "    + str(confidence_threshold)\n",
    "    + \"_\"\n",
    "    + str(labels_per_class)\n",
    "    + \"____\"\n",
    "    + datestring \n",
    "    + '_umap_augmented'\n",
    ")\n",
    "print(datestring)"
   ]
  },
  {
   "cell_type": "markdown",
   "metadata": {},
   "source": [
    "#### Load dataset"
   ]
  },
  {
   "cell_type": "code",
   "execution_count": 7,
   "metadata": {
    "ExecuteTime": {
     "end_time": "2020-08-19T21:38:31.180626Z",
     "start_time": "2020-08-19T21:38:31.109472Z"
    }
   },
   "outputs": [],
   "source": [
    "from tfumap.semisupervised_keras import load_dataset"
   ]
  },
  {
   "cell_type": "code",
   "execution_count": 8,
   "metadata": {
    "ExecuteTime": {
     "end_time": "2020-08-19T21:38:33.293401Z",
     "start_time": "2020-08-19T21:38:31.183279Z"
    }
   },
   "outputs": [],
   "source": [
    "(\n",
    "    X_train,\n",
    "    X_test,\n",
    "    X_labeled,\n",
    "    Y_labeled,\n",
    "    Y_masked,\n",
    "    X_valid,\n",
    "    Y_train,\n",
    "    Y_test,\n",
    "    Y_valid,\n",
    "    Y_valid_one_hot,\n",
    "    Y_labeled_one_hot,\n",
    "    num_classes,\n",
    "    dims\n",
    ") = load_dataset(dataset, labels_per_class)"
   ]
  },
  {
   "cell_type": "markdown",
   "metadata": {},
   "source": [
    "### load architecture"
   ]
  },
  {
   "cell_type": "code",
   "execution_count": 9,
   "metadata": {
    "ExecuteTime": {
     "end_time": "2020-08-19T21:38:33.336037Z",
     "start_time": "2020-08-19T21:38:33.296126Z"
    }
   },
   "outputs": [],
   "source": [
    "from tfumap.semisupervised_keras import load_architecture"
   ]
  },
  {
   "cell_type": "code",
   "execution_count": 10,
   "metadata": {
    "ExecuteTime": {
     "end_time": "2020-08-19T21:38:34.856689Z",
     "start_time": "2020-08-19T21:38:33.337617Z"
    }
   },
   "outputs": [],
   "source": [
    "encoder, classifier, embedder = load_architecture(dataset, n_latent_dims)"
   ]
  },
  {
   "cell_type": "markdown",
   "metadata": {},
   "source": [
    "### load pretrained weights"
   ]
  },
  {
   "cell_type": "code",
   "execution_count": 11,
   "metadata": {
    "ExecuteTime": {
     "end_time": "2020-08-19T21:38:34.897626Z",
     "start_time": "2020-08-19T21:38:34.858476Z"
    }
   },
   "outputs": [],
   "source": [
    "from tfumap.semisupervised_keras import load_pretrained_weights"
   ]
  },
  {
   "cell_type": "code",
   "execution_count": 12,
   "metadata": {
    "ExecuteTime": {
     "end_time": "2020-08-19T21:38:35.233677Z",
     "start_time": "2020-08-19T21:38:34.899230Z"
    },
    "scrolled": true
   },
   "outputs": [
    {
     "name": "stderr",
     "output_type": "stream",
     "text": [
      "WARNING: Logging before flag parsing goes to stderr.\n",
      "W0819 14:38:34.938629 139667229517632 base.py:272] Inconsistent references when loading the checkpoint into this object graph. Either the Trackable object references in the Python program have changed in an incompatible way, or the checkpoint was generated in an incompatible program.\n",
      "\n",
      "Two checkpoint references resolved to different objects (<tensorflow_addons.layers.wrappers.WeightNormalization object at 0x7f05a8410be0> and <tensorflow.python.keras.layers.advanced_activations.LeakyReLU object at 0x7f05a8410f28>).\n",
      "W0819 14:38:34.940899 139667229517632 base.py:272] Inconsistent references when loading the checkpoint into this object graph. Either the Trackable object references in the Python program have changed in an incompatible way, or the checkpoint was generated in an incompatible program.\n",
      "\n",
      "Two checkpoint references resolved to different objects (<tensorflow_addons.layers.wrappers.WeightNormalization object at 0x7f05a842c1d0> and <tensorflow.python.keras.layers.advanced_activations.LeakyReLU object at 0x7f05a83d02e8>).\n",
      "W0819 14:38:34.988041 139667229517632 base.py:272] Inconsistent references when loading the checkpoint into this object graph. Either the Trackable object references in the Python program have changed in an incompatible way, or the checkpoint was generated in an incompatible program.\n",
      "\n",
      "Two checkpoint references resolved to different objects (<tensorflow_addons.layers.wrappers.WeightNormalization object at 0x7f05b485cf28> and <tensorflow.python.keras.layers.normalization_v2.BatchNormalization object at 0x7f05b4a950f0>).\n",
      "W0819 14:38:34.991297 139667229517632 base.py:272] Inconsistent references when loading the checkpoint into this object graph. Either the Trackable object references in the Python program have changed in an incompatible way, or the checkpoint was generated in an incompatible program.\n",
      "\n",
      "Two checkpoint references resolved to different objects (<tensorflow.python.keras.layers.normalization_v2.BatchNormalization object at 0x7f05b4a950f0> and <tensorflow.python.keras.layers.advanced_activations.LeakyReLU object at 0x7f05b4546a20>).\n",
      "W0819 14:38:34.995254 139667229517632 base.py:272] Inconsistent references when loading the checkpoint into this object graph. Either the Trackable object references in the Python program have changed in an incompatible way, or the checkpoint was generated in an incompatible program.\n",
      "\n",
      "Two checkpoint references resolved to different objects (<tensorflow_addons.layers.wrappers.WeightNormalization object at 0x7f05b00a1780> and <tensorflow.python.keras.layers.normalization_v2.BatchNormalization object at 0x7f05b00a1ac8>).\n",
      "W0819 14:38:34.998116 139667229517632 base.py:272] Inconsistent references when loading the checkpoint into this object graph. Either the Trackable object references in the Python program have changed in an incompatible way, or the checkpoint was generated in an incompatible program.\n",
      "\n",
      "Two checkpoint references resolved to different objects (<tensorflow.python.keras.layers.normalization_v2.BatchNormalization object at 0x7f05b00a1ac8> and <tensorflow.python.keras.layers.advanced_activations.LeakyReLU object at 0x7f05b00a1e10>).\n",
      "W0819 14:38:35.002020 139667229517632 base.py:272] Inconsistent references when loading the checkpoint into this object graph. Either the Trackable object references in the Python program have changed in an incompatible way, or the checkpoint was generated in an incompatible program.\n",
      "\n",
      "Two checkpoint references resolved to different objects (<tensorflow_addons.layers.wrappers.WeightNormalization object at 0x7f05b4bb2fd0> and <tensorflow.python.keras.layers.normalization_v2.BatchNormalization object at 0x7f05b4bb2be0>).\n",
      "W0819 14:38:35.004811 139667229517632 base.py:272] Inconsistent references when loading the checkpoint into this object graph. Either the Trackable object references in the Python program have changed in an incompatible way, or the checkpoint was generated in an incompatible program.\n",
      "\n",
      "Two checkpoint references resolved to different objects (<tensorflow.python.keras.layers.normalization_v2.BatchNormalization object at 0x7f05b4bb2be0> and <tensorflow.python.keras.layers.advanced_activations.LeakyReLU object at 0x7f05b4baccc0>).\n",
      "W0819 14:38:35.011961 139667229517632 base.py:272] Inconsistent references when loading the checkpoint into this object graph. Either the Trackable object references in the Python program have changed in an incompatible way, or the checkpoint was generated in an incompatible program.\n",
      "\n",
      "Two checkpoint references resolved to different objects (<tensorflow_addons.layers.wrappers.WeightNormalization object at 0x7f05b00c24a8> and <tensorflow.python.keras.layers.normalization_v2.BatchNormalization object at 0x7f05b00c2b00>).\n",
      "W0819 14:38:35.014747 139667229517632 base.py:272] Inconsistent references when loading the checkpoint into this object graph. Either the Trackable object references in the Python program have changed in an incompatible way, or the checkpoint was generated in an incompatible program.\n",
      "\n",
      "Two checkpoint references resolved to different objects (<tensorflow.python.keras.layers.normalization_v2.BatchNormalization object at 0x7f05b00c2b00> and <tensorflow.python.keras.layers.advanced_activations.LeakyReLU object at 0x7f05b00c2cf8>).\n",
      "W0819 14:38:35.018665 139667229517632 base.py:272] Inconsistent references when loading the checkpoint into this object graph. Either the Trackable object references in the Python program have changed in an incompatible way, or the checkpoint was generated in an incompatible program.\n",
      "\n",
      "Two checkpoint references resolved to different objects (<tensorflow_addons.layers.wrappers.WeightNormalization object at 0x7f05a85cf550> and <tensorflow.python.keras.layers.normalization_v2.BatchNormalization object at 0x7f05a85cfb70>).\n",
      "W0819 14:38:35.021509 139667229517632 base.py:272] Inconsistent references when loading the checkpoint into this object graph. Either the Trackable object references in the Python program have changed in an incompatible way, or the checkpoint was generated in an incompatible program.\n",
      "\n",
      "Two checkpoint references resolved to different objects (<tensorflow.python.keras.layers.normalization_v2.BatchNormalization object at 0x7f05a85cfb70> and <tensorflow.python.keras.layers.advanced_activations.LeakyReLU object at 0x7f05a85cfda0>).\n",
      "W0819 14:38:35.026012 139667229517632 base.py:272] Inconsistent references when loading the checkpoint into this object graph. Either the Trackable object references in the Python program have changed in an incompatible way, or the checkpoint was generated in an incompatible program.\n",
      "\n",
      "Two checkpoint references resolved to different objects (<tensorflow_addons.layers.wrappers.WeightNormalization object at 0x7f05a85a6898> and <tensorflow.python.keras.layers.normalization_v2.BatchNormalization object at 0x7f05a85a6ba8>).\n",
      "W0819 14:38:35.028834 139667229517632 base.py:272] Inconsistent references when loading the checkpoint into this object graph. Either the Trackable object references in the Python program have changed in an incompatible way, or the checkpoint was generated in an incompatible program.\n",
      "\n",
      "Two checkpoint references resolved to different objects (<tensorflow.python.keras.layers.normalization_v2.BatchNormalization object at 0x7f05a85a6ba8> and <tensorflow.python.keras.layers.advanced_activations.LeakyReLU object at 0x7f05a85a6e10>).\n",
      "W0819 14:38:35.034893 139667229517632 base.py:272] Inconsistent references when loading the checkpoint into this object graph. Either the Trackable object references in the Python program have changed in an incompatible way, or the checkpoint was generated in an incompatible program.\n",
      "\n",
      "Two checkpoint references resolved to different objects (<tensorflow_addons.layers.wrappers.WeightNormalization object at 0x7f05a850c5c0> and <tensorflow.python.keras.layers.normalization_v2.BatchNormalization object at 0x7f05a850c630>).\n",
      "W0819 14:38:35.037640 139667229517632 base.py:272] Inconsistent references when loading the checkpoint into this object graph. Either the Trackable object references in the Python program have changed in an incompatible way, or the checkpoint was generated in an incompatible program.\n",
      "\n",
      "Two checkpoint references resolved to different objects (<tensorflow.python.keras.layers.normalization_v2.BatchNormalization object at 0x7f05a850c630> and <tensorflow.python.keras.layers.advanced_activations.LeakyReLU object at 0x7f05a850c898>).\n"
     ]
    },
    {
     "name": "stderr",
     "output_type": "stream",
     "text": [
      "W0819 14:38:35.041463 139667229517632 base.py:272] Inconsistent references when loading the checkpoint into this object graph. Either the Trackable object references in the Python program have changed in an incompatible way, or the checkpoint was generated in an incompatible program.\n",
      "\n",
      "Two checkpoint references resolved to different objects (<tensorflow_addons.layers.wrappers.WeightNormalization object at 0x7f05a84df3c8> and <tensorflow.python.keras.layers.normalization_v2.BatchNormalization object at 0x7f05a84df6d8>).\n",
      "W0819 14:38:35.044262 139667229517632 base.py:272] Inconsistent references when loading the checkpoint into this object graph. Either the Trackable object references in the Python program have changed in an incompatible way, or the checkpoint was generated in an incompatible program.\n",
      "\n",
      "Two checkpoint references resolved to different objects (<tensorflow.python.keras.layers.normalization_v2.BatchNormalization object at 0x7f05a84df6d8> and <tensorflow.python.keras.layers.advanced_activations.LeakyReLU object at 0x7f05a84df860>).\n",
      "W0819 14:38:35.048115 139667229517632 base.py:272] Inconsistent references when loading the checkpoint into this object graph. Either the Trackable object references in the Python program have changed in an incompatible way, or the checkpoint was generated in an incompatible program.\n",
      "\n",
      "Two checkpoint references resolved to different objects (<tensorflow_addons.layers.wrappers.WeightNormalization object at 0x7f05a84b5400> and <tensorflow.python.keras.layers.normalization_v2.BatchNormalization object at 0x7f05a84b5710>).\n",
      "W0819 14:38:35.050914 139667229517632 base.py:272] Inconsistent references when loading the checkpoint into this object graph. Either the Trackable object references in the Python program have changed in an incompatible way, or the checkpoint was generated in an incompatible program.\n",
      "\n",
      "Two checkpoint references resolved to different objects (<tensorflow.python.keras.layers.normalization_v2.BatchNormalization object at 0x7f05a84b5710> and <tensorflow.python.keras.layers.advanced_activations.LeakyReLU object at 0x7f05a84b5898>).\n"
     ]
    }
   ],
   "source": [
    "encoder, classifier = load_pretrained_weights(dataset, augmented, labels_per_class, encoder, classifier)"
   ]
  },
  {
   "cell_type": "markdown",
   "metadata": {},
   "source": [
    "#### compute pretrained accuracy"
   ]
  },
  {
   "cell_type": "code",
   "execution_count": 13,
   "metadata": {
    "ExecuteTime": {
     "end_time": "2020-08-19T21:38:46.586769Z",
     "start_time": "2020-08-19T21:38:35.235737Z"
    }
   },
   "outputs": [
    {
     "name": "stdout",
     "output_type": "stream",
     "text": [
      "313/313 [==============================] - 5s 14ms/step\n",
      "313/313 [==============================] - 2s 6ms/step\n",
      "pretrained acc: 0.722\n"
     ]
    }
   ],
   "source": [
    "# test current acc\n",
    "pretrained_predictions = classifier.predict(encoder.predict(X_test, verbose=True), verbose=True)\n",
    "pretrained_predictions = np.argmax(pretrained_predictions, axis=1)\n",
    "pretrained_acc = np.mean(pretrained_predictions == Y_test)\n",
    "print('pretrained acc: {}'.format(pretrained_acc))"
   ]
  },
  {
   "cell_type": "markdown",
   "metadata": {},
   "source": [
    "### get a, b parameters for embeddings"
   ]
  },
  {
   "cell_type": "code",
   "execution_count": 14,
   "metadata": {
    "ExecuteTime": {
     "end_time": "2020-08-19T21:38:46.632816Z",
     "start_time": "2020-08-19T21:38:46.588391Z"
    }
   },
   "outputs": [],
   "source": [
    "from tfumap.semisupervised_keras import find_a_b"
   ]
  },
  {
   "cell_type": "code",
   "execution_count": 15,
   "metadata": {
    "ExecuteTime": {
     "end_time": "2020-08-19T21:38:46.721351Z",
     "start_time": "2020-08-19T21:38:46.634069Z"
    }
   },
   "outputs": [],
   "source": [
    "a_param, b_param = find_a_b(min_dist=min_dist)"
   ]
  },
  {
   "cell_type": "markdown",
   "metadata": {},
   "source": [
    "### build network"
   ]
  },
  {
   "cell_type": "code",
   "execution_count": 16,
   "metadata": {
    "ExecuteTime": {
     "end_time": "2020-08-19T21:38:46.761780Z",
     "start_time": "2020-08-19T21:38:46.723468Z"
    }
   },
   "outputs": [],
   "source": [
    "from tfumap.semisupervised_keras import build_model"
   ]
  },
  {
   "cell_type": "code",
   "execution_count": 17,
   "metadata": {
    "ExecuteTime": {
     "end_time": "2020-08-19T21:38:48.261400Z",
     "start_time": "2020-08-19T21:38:46.762783Z"
    }
   },
   "outputs": [],
   "source": [
    "model = build_model(\n",
    "    batch_size=batch_size,\n",
    "    a_param=a_param,\n",
    "    b_param=b_param,\n",
    "    dims=dims,\n",
    "    encoder=encoder,\n",
    "    classifier=classifier,\n",
    "    negative_sample_rate=negative_sample_rate,\n",
    "    optimizer=optimizer,\n",
    "    label_smoothing=label_smoothing,\n",
    "    embedder = embedder,\n",
    ")"
   ]
  },
  {
   "cell_type": "markdown",
   "metadata": {},
   "source": [
    "### build labeled iterator"
   ]
  },
  {
   "cell_type": "code",
   "execution_count": 18,
   "metadata": {
    "ExecuteTime": {
     "end_time": "2020-08-19T21:38:48.303165Z",
     "start_time": "2020-08-19T21:38:48.263046Z"
    }
   },
   "outputs": [],
   "source": [
    "from tfumap.semisupervised_keras import build_labeled_iterator"
   ]
  },
  {
   "cell_type": "code",
   "execution_count": 19,
   "metadata": {
    "ExecuteTime": {
     "end_time": "2020-08-19T21:38:48.368883Z",
     "start_time": "2020-08-19T21:38:48.304322Z"
    }
   },
   "outputs": [],
   "source": [
    "labeled_dataset = build_labeled_iterator(X_labeled, Y_labeled_one_hot, augmented, dims)"
   ]
  },
  {
   "cell_type": "markdown",
   "metadata": {},
   "source": [
    "### training"
   ]
  },
  {
   "cell_type": "code",
   "execution_count": 20,
   "metadata": {
    "ExecuteTime": {
     "end_time": "2020-08-19T21:38:48.417029Z",
     "start_time": "2020-08-19T21:38:48.370031Z"
    }
   },
   "outputs": [],
   "source": [
    "from livelossplot import PlotLossesKerasTF\n",
    "from tfumap.semisupervised_keras import get_edge_dataset\n",
    "from tfumap.semisupervised_keras import zip_datasets"
   ]
  },
  {
   "cell_type": "markdown",
   "metadata": {},
   "source": [
    "#### callbacks"
   ]
  },
  {
   "cell_type": "code",
   "execution_count": 21,
   "metadata": {
    "ExecuteTime": {
     "end_time": "2020-08-19T21:38:48.455640Z",
     "start_time": "2020-08-19T21:38:48.418425Z"
    }
   },
   "outputs": [],
   "source": [
    "# plot losses callback\n",
    "groups = {'acccuracy': ['classifier_accuracy', 'val_classifier_accuracy'], 'loss': ['classifier_loss', 'val_classifier_loss']}\n",
    "plotlosses = PlotLossesKerasTF(groups=groups)"
   ]
  },
  {
   "cell_type": "code",
   "execution_count": 22,
   "metadata": {
    "ExecuteTime": {
     "end_time": "2020-08-19T21:38:48.494150Z",
     "start_time": "2020-08-19T21:38:48.457766Z"
    }
   },
   "outputs": [],
   "source": [
    "history_list = []\n",
    "current_validation_acc = 0\n",
    "batches_per_epoch = np.floor(len(X_train)/batch_size).astype(int)\n",
    "epochs_since_last_improvement = 0\n",
    "current_umap_iterations = 0\n",
    "current_epoch = 0"
   ]
  },
  {
   "cell_type": "code",
   "execution_count": 23,
   "metadata": {
    "ExecuteTime": {
     "end_time": "2020-08-20T01:55:22.144931Z",
     "start_time": "2020-08-19T21:38:48.495455Z"
    }
   },
   "outputs": [
    {
     "data": {
      "image/png": "[encoded data removed]",
      "text/plain": [
       "<Figure size 864x576 with 2 Axes>"
      ]
     },
     "metadata": {
      "needs_background": "light"
     },
     "output_type": "display_data"
    },
    {
     "name": "stdout",
     "output_type": "stream",
     "text": [
      "acccuracy\n",
      "\ttraining         \t (min:    1.000, max:    1.000, cur:    1.000)\n",
      "\tvalidation       \t (min:    0.735, max:    0.760, cur:    0.750)\n",
      "Loss\n",
      "\ttraining         \t (min:    0.867, max:    0.867, cur:    0.867)\n",
      "\tvalidation       \t (min:    1.433, max:    1.497, cur:    1.495)\n",
      "312/312 [==============================] - 92s 294ms/step - loss: 1.0154 - classifier_loss: 0.8671 - umap_loss: 0.1483 - classifier_accuracy: 0.9999 - val_loss: 1.4947 - val_classifier_loss: 1.4947 - val_umap_loss: 0.0000e+00 - val_classifier_accuracy: 0.7501\n",
      "Early stopping\n"
     ]
    }
   ],
   "source": [
    "from tfumap.paths import MODEL_DIR, ensure_dir\n",
    "save_folder = MODEL_DIR / 'semisupervised-keras' / dataset / str(labels_per_class) / datestring\n",
    "ensure_dir(save_folder / 'test_loss.npy')\n",
    "for cui in tqdm(np.arange(current_epoch, max_umap_iterations)):\n",
    "    \n",
    "    if len(history_list) > graph_patience+1:\n",
    "        previous_history = [np.mean(i.history['val_classifier_accuracy']) for i in history_list]\n",
    "        best_of_patience = np.max(previous_history[-graph_patience:])\n",
    "        best_of_previous = np.max(previous_history[:-graph_patience])\n",
    "        if (best_of_previous + min_graph_delta) > best_of_patience:\n",
    "            print('Early stopping')\n",
    "            break\n",
    "        \n",
    "    # make dataset\n",
    "    edge_dataset = get_edge_dataset(\n",
    "        model,\n",
    "        augmented,\n",
    "        classifier,\n",
    "        encoder,\n",
    "        X_train,\n",
    "        Y_masked,\n",
    "        batch_size,\n",
    "        confidence_threshold,\n",
    "        labeled_dataset,\n",
    "        dims,\n",
    "        learned_metric = learned_metric\n",
    "    )\n",
    "    \n",
    "    # zip dataset\n",
    "    zipped_ds = zip_datasets(labeled_dataset, edge_dataset, batch_size)\n",
    "    \n",
    "    # train dataset\n",
    "    history = model.fit(\n",
    "        zipped_ds,\n",
    "        epochs= current_epoch + max_epochs_per_graph,\n",
    "        initial_epoch = current_epoch,\n",
    "        validation_data=(\n",
    "            (X_valid, tf.zeros_like(X_valid), tf.zeros_like(X_valid)),\n",
    "            {\"classifier\": Y_valid_one_hot},\n",
    "        ),\n",
    "        callbacks = [plotlosses],\n",
    "        max_queue_size = 100,\n",
    "        steps_per_epoch = batches_per_epoch,\n",
    "        #verbose=0\n",
    "    )\n",
    "    current_epoch+=len(history.history['loss'])\n",
    "    history_list.append(history)\n",
    "    \n",
    "    # save score \n",
    "    class_pred = classifier.predict(encoder.predict(X_test))\n",
    "    class_acc = np.mean(np.argmax(class_pred, axis=1) == Y_test)\n",
    "    np.save(save_folder / 'test_loss.npy', (np.nan, class_acc))\n",
    "    \n",
    "    # save weights\n",
    "    encoder.save_weights((save_folder / \"encoder\").as_posix())\n",
    "    classifier.save_weights((save_folder / \"classifier\").as_posix())\n",
    "    \n",
    "    # save history\n",
    "    with open(save_folder / 'history.pickle', 'wb') as file_pi:\n",
    "        pickle.dump([i.history for i in history_list], file_pi)\n",
    "\n",
    "        current_umap_iterations += 1"
   ]
  },
  {
   "cell_type": "code",
   "execution_count": 24,
   "metadata": {
    "ExecuteTime": {
     "end_time": "2020-08-20T01:55:22.911164Z",
     "start_time": "2020-08-20T01:55:22.146625Z"
    }
   },
   "outputs": [
    {
     "name": "stdout",
     "output_type": "stream",
     "text": [
      "Early stopping\n"
     ]
    }
   ],
   "source": [
    "if len(history_list) > graph_patience+1:\n",
    "    previous_history = [np.mean(i.history['val_classifier_accuracy']) for i in history_list]\n",
    "    best_of_patience = np.max(previous_history[-graph_patience:])\n",
    "    best_of_previous = np.max(previous_history[:-graph_patience])\n",
    "    if (best_of_previous + min_graph_delta) > best_of_patience:\n",
    "        print('Early stopping')\n",
    "        #break"
   ]
  },
  {
   "cell_type": "code",
   "execution_count": 25,
   "metadata": {
    "ExecuteTime": {
     "end_time": "2020-08-20T01:55:23.059270Z",
     "start_time": "2020-08-20T01:55:22.912725Z"
    }
   },
   "outputs": [
    {
     "data": {
      "text/plain": [
       "[<matplotlib.lines.Line2D at 0x7f04cc7f1320>]"
      ]
     },
     "execution_count": 25,
     "metadata": {},
     "output_type": "execute_result"
    },
    {
     "data": {
      "image/png": "[encoded data removed]",
      "text/plain": [
       "<Figure size 432x288 with 1 Axes>"
      ]
     },
     "metadata": {
      "needs_background": "light"
     },
     "output_type": "display_data"
    }
   ],
   "source": [
    "plt.plot(previous_history)"
   ]
  },
  {
   "cell_type": "markdown",
   "metadata": {},
   "source": [
    "### save embedding"
   ]
  },
  {
   "cell_type": "code",
   "execution_count": 26,
   "metadata": {
    "ExecuteTime": {
     "end_time": "2020-08-20T01:55:33.157491Z",
     "start_time": "2020-08-20T01:55:23.060771Z"
    }
   },
   "outputs": [],
   "source": [
    "z = encoder.predict(X_train)"
   ]
  },
  {
   "cell_type": "code",
   "execution_count": 27,
   "metadata": {
    "ExecuteTime": {
     "end_time": "2020-08-20T01:56:20.351553Z",
     "start_time": "2020-08-20T01:55:33.158734Z"
    }
   },
   "outputs": [
    {
     "name": "stdout",
     "output_type": "stream",
     "text": [
      "UMAP(dens_frac=0.0, dens_lambda=0.0, verbose=True)\n",
      "Construct fuzzy simplicial set\n",
      "Wed Aug 19 18:55:33 2020 Finding Nearest Neighbors\n",
      "Wed Aug 19 18:55:33 2020 Building RP forest with 15 trees\n",
      "Wed Aug 19 18:55:33 2020 parallel NN descent for 15 iterations\n",
      "\t 0  /  15\n",
      "\t 1  /  15\n",
      "\t 2  /  15\n",
      "\t 3  /  15\n",
      "Wed Aug 19 18:55:41 2020 Finished Nearest Neighbor Search\n",
      "Wed Aug 19 18:55:43 2020 Construct embedding\n",
      "\tcompleted  0  /  200 epochs\n",
      "\tcompleted  20  /  200 epochs\n",
      "\tcompleted  40  /  200 epochs\n",
      "\tcompleted  60  /  200 epochs\n",
      "\tcompleted  80  /  200 epochs\n",
      "\tcompleted  100  /  200 epochs\n",
      "\tcompleted  120  /  200 epochs\n",
      "\tcompleted  140  /  200 epochs\n",
      "\tcompleted  160  /  200 epochs\n",
      "\tcompleted  180  /  200 epochs\n",
      "Wed Aug 19 18:56:19 2020 Finished embedding\n"
     ]
    },
    {
     "data": {
      "text/plain": [
       "<matplotlib.collections.PathCollection at 0x7f04783e2748>"
      ]
     },
     "execution_count": 27,
     "metadata": {},
     "output_type": "execute_result"
    },
    {
     "data": {
      "image/png": "[encoded data removed]",
      "text/plain": [
       "<Figure size 432x288 with 1 Axes>"
      ]
     },
     "metadata": {
      "needs_background": "light"
     },
     "output_type": "display_data"
    }
   ],
   "source": [
    "reducer = umap.UMAP(verbose=True)\n",
    "\n",
    "embedding = reducer.fit_transform(z.reshape(len(z), np.product(np.shape(z)[1:])))\n",
    "\n",
    "plt.scatter(embedding[:, 0], embedding[:, 1], c=Y_train.flatten(), s= 1, alpha = 0.1, cmap = plt.cm.tab10)"
   ]
  },
  {
   "cell_type": "code",
   "execution_count": 28,
   "metadata": {
    "ExecuteTime": {
     "end_time": "2020-08-20T01:56:20.397626Z",
     "start_time": "2020-08-20T01:56:20.352784Z"
    }
   },
   "outputs": [],
   "source": [
    "np.save(save_folder / 'train_embedding.npy', embedding)"
   ]
  },
  {
   "cell_type": "code",
   "execution_count": null,
   "metadata": {},
   "outputs": [],
   "source": []
  },
  {
   "cell_type": "code",
   "execution_count": null,
   "metadata": {},
   "outputs": [],
   "source": []
  },
  {
   "cell_type": "code",
   "execution_count": null,
   "metadata": {},
   "outputs": [],
   "source": []
  }
 ],
 "metadata": {
  "kernelspec": {
   "display_name": "Python 3",
   "language": "python",
   "name": "python3"
  },
  "language_info": {
   "codemirror_mode": {
    "name": "ipython",
    "version": 3
   },
   "file_extension": ".py",
   "mimetype": "text/x-python",
   "name": "python",
   "nbconvert_exporter": "python",
   "pygments_lexer": "ipython3",
   "version": "3.6.7"
  }
 },
 "nbformat": 4,
 "nbformat_minor": 2
}
