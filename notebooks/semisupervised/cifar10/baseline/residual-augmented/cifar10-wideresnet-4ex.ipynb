{
 "cells": [
  {
   "cell_type": "code",
   "execution_count": 1,
   "metadata": {
    "ExecuteTime": {
     "end_time": "2020-08-26T19:17:46.625236Z",
     "start_time": "2020-08-26T19:17:46.611746Z"
    }
   },
   "outputs": [],
   "source": [
    "# reload packages\n",
    "%load_ext autoreload\n",
    "%autoreload 2"
   ]
  },
  {
   "cell_type": "markdown",
   "metadata": {},
   "source": [
    "### Choose GPU"
   ]
  },
  {
   "cell_type": "code",
   "execution_count": 2,
   "metadata": {
    "ExecuteTime": {
     "end_time": "2020-08-26T19:17:46.635633Z",
     "start_time": "2020-08-26T19:17:46.626870Z"
    }
   },
   "outputs": [
    {
     "name": "stdout",
     "output_type": "stream",
     "text": [
      "env: CUDA_DEVICE_ORDER=PCI_BUS_ID\n",
      "env: CUDA_VISIBLE_DEVICES=1\n"
     ]
    }
   ],
   "source": [
    "%env CUDA_DEVICE_ORDER=PCI_BUS_ID\n",
    "%env CUDA_VISIBLE_DEVICES=1"
   ]
  },
  {
   "cell_type": "code",
   "execution_count": 3,
   "metadata": {
    "ExecuteTime": {
     "end_time": "2020-08-26T19:17:50.058497Z",
     "start_time": "2020-08-26T19:17:46.636612Z"
    }
   },
   "outputs": [
    {
     "name": "stdout",
     "output_type": "stream",
     "text": [
      "[PhysicalDevice(name='/physical_device:GPU:0', device_type='GPU')]\n"
     ]
    }
   ],
   "source": [
    "import tensorflow as tf\n",
    "gpu_devices = tf.config.experimental.list_physical_devices('GPU')\n",
    "if len(gpu_devices)>0:\n",
    "    tf.config.experimental.set_memory_growth(gpu_devices[0], True)\n",
    "print(gpu_devices)\n",
    "tf.keras.backend.clear_session()"
   ]
  },
  {
   "cell_type": "markdown",
   "metadata": {},
   "source": [
    "### dataset information"
   ]
  },
  {
   "cell_type": "code",
   "execution_count": 4,
   "metadata": {
    "ExecuteTime": {
     "end_time": "2020-08-26T19:17:50.094675Z",
     "start_time": "2020-08-26T19:17:50.061461Z"
    }
   },
   "outputs": [
    {
     "name": "stdout",
     "output_type": "stream",
     "text": [
      "cifar10_4____2020_08_26_12_17_50_092713_baseline_augmented\n"
     ]
    }
   ],
   "source": [
    "from datetime import datetime\n",
    "\n",
    "dataset = \"cifar10\"\n",
    "dims = (32, 32, 3)\n",
    "num_classes = 10\n",
    "labels_per_class = 4 # full\n",
    "batch_size = 128\n",
    "datestring = datetime.now().strftime(\"%Y_%m_%d_%H_%M_%S_%f\")\n",
    "datestring = (\n",
    "    str(dataset)\n",
    "    + \"_\"\n",
    "    + str(labels_per_class)\n",
    "    + \"____\"\n",
    "    + datestring \n",
    "    + '_baseline_augmented'\n",
    ")\n",
    "print(datestring)"
   ]
  },
  {
   "cell_type": "markdown",
   "metadata": {},
   "source": [
    "### Load packages"
   ]
  },
  {
   "cell_type": "code",
   "execution_count": 5,
   "metadata": {
    "ExecuteTime": {
     "end_time": "2020-08-26T19:17:54.909540Z",
     "start_time": "2020-08-26T19:17:50.095941Z"
    }
   },
   "outputs": [
    {
     "name": "stderr",
     "output_type": "stream",
     "text": [
      "/mnt/cube/tsainbur/conda_envs/tpy3/lib/python3.6/site-packages/tqdm/autonotebook/__init__.py:14: TqdmExperimentalWarning: Using `tqdm.autonotebook.tqdm` in notebook mode. Use `tqdm.tqdm` instead to force console mode (e.g. in jupyter console)\n",
      "  \" (e.g. in jupyter console)\", TqdmExperimentalWarning)\n"
     ]
    }
   ],
   "source": [
    "import tensorflow as tf\n",
    "import numpy as np\n",
    "import matplotlib.pyplot as plt\n",
    "from tqdm.autonotebook import tqdm\n",
    "from IPython import display\n",
    "import pandas as pd\n",
    "import umap\n",
    "import copy\n",
    "import os, tempfile"
   ]
  },
  {
   "cell_type": "markdown",
   "metadata": {},
   "source": [
    "### Load dataset"
   ]
  },
  {
   "cell_type": "code",
   "execution_count": 6,
   "metadata": {
    "ExecuteTime": {
     "end_time": "2020-08-26T19:17:55.780580Z",
     "start_time": "2020-08-26T19:17:54.911228Z"
    }
   },
   "outputs": [
    {
     "data": {
      "text/plain": [
       "(40000, 32, 32, 3)"
      ]
     },
     "execution_count": 6,
     "metadata": {},
     "output_type": "execute_result"
    }
   ],
   "source": [
    "from tfumap.load_datasets import load_CIFAR10, mask_labels\n",
    "X_train, X_test, X_valid, Y_train, Y_test, Y_valid = load_CIFAR10(flatten=False)\n",
    "X_train.shape"
   ]
  },
  {
   "cell_type": "code",
   "execution_count": 7,
   "metadata": {
    "ExecuteTime": {
     "end_time": "2020-08-26T19:17:55.824989Z",
     "start_time": "2020-08-26T19:17:55.781928Z"
    }
   },
   "outputs": [],
   "source": [
    "if labels_per_class == \"full\":\n",
    "    X_labeled = X_train\n",
    "    Y_masked = Y_labeled = Y_train\n",
    "else:\n",
    "    X_labeled, Y_labeled, Y_masked = mask_labels(\n",
    "        X_train, Y_train, labels_per_class=labels_per_class\n",
    "    )"
   ]
  },
  {
   "cell_type": "markdown",
   "metadata": {},
   "source": [
    "### Build network"
   ]
  },
  {
   "cell_type": "code",
   "execution_count": 8,
   "metadata": {
    "ExecuteTime": {
     "end_time": "2020-08-26T19:17:55.875398Z",
     "start_time": "2020-08-26T19:17:55.826319Z"
    }
   },
   "outputs": [],
   "source": [
    "# https://github.com/tanzhenyu/image_augmentation\n",
    "\n",
    "from tensorflow.keras.layers import Conv2D\n",
    "from tensorflow.keras.layers import Activation, BatchNormalization, Add\n",
    "from tensorflow.keras.layers import GlobalAveragePooling2D, Dropout, Dense\n",
    "from tensorflow.keras.initializers import RandomNormal, HeNormal\n",
    "from tensorflow.keras import Input, Model\n",
    "\n",
    "from tensorflow.keras import backend as K\n",
    "\n",
    "from functools import partial\n",
    "\n",
    "CHANNEL_AXIS = 1 if K.image_data_format() == 'channels_first' else -1\n",
    "\n",
    "_batch_norm = partial(BatchNormalization, axis=CHANNEL_AXIS,\n",
    "                      momentum=0.1, epsilon=1e-5, gamma_initializer=RandomNormal(0., 1.))\n",
    "_relu = partial(Activation, 'relu')\n",
    "\n",
    "\n",
    "def _residual_block(input, num_filters=16, k=1, stride=1,\n",
    "                    dropout=0.0, name='res_block'):\n",
    "    \"\"\"Pre-activated residual block.\"\"\"\n",
    "    num_filters = num_filters * k\n",
    "    init = branch = input\n",
    "\n",
    "    init = _batch_norm(name=name + '/bn1')(init)\n",
    "    init = _relu(name=name + '/relu1')(init)\n",
    "    if init.shape[CHANNEL_AXIS] != num_filters or name.endswith(\"block1\"):\n",
    "        branch = Conv2D(num_filters, (1, 1), strides=stride, padding='same',\n",
    "                        use_bias=False, kernel_initializer=HeNormal(),\n",
    "                        name=name + '/conv_identity_1x1')(init)\n",
    "\n",
    "    x = Conv2D(num_filters, (3, 3), strides=stride, padding='same',\n",
    "               use_bias=False, kernel_initializer=HeNormal(),\n",
    "               name=name + '/conv1_3x3')(init)\n",
    "\n",
    "    if dropout > 0.0:\n",
    "        x = Dropout(dropout, name=name + '/dropout')(x)\n",
    "\n",
    "    x = _batch_norm(name=name + '/bn2')(x)\n",
    "    x = _relu(name=name + '/relu2')(x)\n",
    "    x = Conv2D(num_filters, (3, 3), strides=1, padding='same',\n",
    "               use_bias=False, kernel_initializer=HeNormal(),\n",
    "               name=name + '/conv2_3x3')(x)\n",
    "\n",
    "    x = Add(name=name + '/add')([branch, x])\n",
    "\n",
    "    return x\n",
    "\n",
    "\n",
    "def WideResNet(input_shape, depth=28, k=10, dropout=0.0,\n",
    "               num_classes=10, name=None):\n",
    "    \"\"\"This is an implementation of WideResNet architecture\n",
    "    as described in \"Wide Residual Networks\" by Zagoruyko, Komodakis\n",
    "    (https://arxiv.org/abs/1605.07146).\n",
    "    \"\"\"\n",
    "    if name is None:\n",
    "        name = 'WideResNet' + '-' + str(depth) + '-' + str(k)\n",
    "\n",
    "    assert (depth - 4) % 6 == 0, \"depth must be 6n + 4\"\n",
    "    n = (depth - 4) // 6\n",
    "\n",
    "    filters = [(16 * (2 ** i)) for i in range(3)]\n",
    "\n",
    "    inp = Input(input_shape, name='input')\n",
    "\n",
    "    # conv1\n",
    "    x = Conv2D(16, (3, 3), padding='same', use_bias=False,\n",
    "               kernel_initializer=HeNormal(),\n",
    "               name='conv1/conv_3x3')(inp)\n",
    "\n",
    "    # conv2: n blocks\n",
    "    for i in range(n):\n",
    "        x = _residual_block(x, num_filters=filters[0], k=k,\n",
    "                            stride=1, dropout=dropout,\n",
    "                            name='conv2' + '/block' + str(i + 1))\n",
    "\n",
    "    # conv3: n blocks\n",
    "    for i in range(n):\n",
    "        stride = 2 if i == 0 else 1\n",
    "        x = _residual_block(x, num_filters=filters[1], k=k,\n",
    "                            stride=stride, dropout=dropout,\n",
    "                            name='conv3' + '/block' + str(i + 1))\n",
    "\n",
    "    # conv4: n blocks\n",
    "    for i in range(n):\n",
    "        stride = 2 if i == 0 else 1\n",
    "        x = _residual_block(x, num_filters=filters[2], k=k,\n",
    "                            stride=stride, dropout=dropout,\n",
    "                            name='conv4' + '/block' + str(i + 1))\n",
    "\n",
    "    x = _batch_norm(name='bn')(x)\n",
    "    x = _relu(name='relu')(x)\n",
    "\n",
    "    x = GlobalAveragePooling2D(name='avg_pool')(x)\n",
    "    x = Dense(num_classes, activation='softmax',\n",
    "              kernel_initializer=HeNormal(), name='preds')(x)\n",
    "\n",
    "    net = Model(inp, x, name=name)\n",
    "    return net"
   ]
  },
  {
   "cell_type": "code",
   "execution_count": 9,
   "metadata": {
    "ExecuteTime": {
     "end_time": "2020-08-26T19:17:57.127825Z",
     "start_time": "2020-08-26T19:17:55.876563Z"
    }
   },
   "outputs": [],
   "source": [
    "model = WideResNet(dims, depth=28, k=2, dropout=0.5, num_classes=num_classes)"
   ]
  },
  {
   "cell_type": "code",
   "execution_count": 10,
   "metadata": {
    "ExecuteTime": {
     "end_time": "2020-08-26T19:17:57.198002Z",
     "start_time": "2020-08-26T19:17:57.129089Z"
    }
   },
   "outputs": [
    {
     "name": "stdout",
     "output_type": "stream",
     "text": [
      "Model: \"WideResNet-28-2\"\n",
      "__________________________________________________________________________________________________\n",
      "Layer (type)                    Output Shape         Param #     Connected to                     \n",
      "==================================================================================================\n",
      "input (InputLayer)              [(None, 32, 32, 3)]  0                                            \n",
      "__________________________________________________________________________________________________\n",
      "conv1/conv_3x3 (Conv2D)         (None, 32, 32, 16)   432         input[0][0]                      \n",
      "__________________________________________________________________________________________________\n",
      "conv2/block1/bn1 (BatchNormaliz (None, 32, 32, 16)   64          conv1/conv_3x3[0][0]             \n",
      "__________________________________________________________________________________________________\n",
      "conv2/block1/relu1 (Activation) (None, 32, 32, 16)   0           conv2/block1/bn1[0][0]           \n",
      "__________________________________________________________________________________________________\n",
      "conv2/block1/conv1_3x3 (Conv2D) (None, 32, 32, 32)   4608        conv2/block1/relu1[0][0]         \n",
      "__________________________________________________________________________________________________\n",
      "conv2/block1/dropout (Dropout)  (None, 32, 32, 32)   0           conv2/block1/conv1_3x3[0][0]     \n",
      "__________________________________________________________________________________________________\n",
      "conv2/block1/bn2 (BatchNormaliz (None, 32, 32, 32)   128         conv2/block1/dropout[0][0]       \n",
      "__________________________________________________________________________________________________\n",
      "conv2/block1/relu2 (Activation) (None, 32, 32, 32)   0           conv2/block1/bn2[0][0]           \n",
      "__________________________________________________________________________________________________\n",
      "conv2/block1/conv_identity_1x1  (None, 32, 32, 32)   512         conv2/block1/relu1[0][0]         \n",
      "__________________________________________________________________________________________________\n",
      "conv2/block1/conv2_3x3 (Conv2D) (None, 32, 32, 32)   9216        conv2/block1/relu2[0][0]         \n",
      "__________________________________________________________________________________________________\n",
      "conv2/block1/add (Add)          (None, 32, 32, 32)   0           conv2/block1/conv_identity_1x1[0]\n",
      "                                                                 conv2/block1/conv2_3x3[0][0]     \n",
      "__________________________________________________________________________________________________\n",
      "conv2/block2/bn1 (BatchNormaliz (None, 32, 32, 32)   128         conv2/block1/add[0][0]           \n",
      "__________________________________________________________________________________________________\n",
      "conv2/block2/relu1 (Activation) (None, 32, 32, 32)   0           conv2/block2/bn1[0][0]           \n",
      "__________________________________________________________________________________________________\n",
      "conv2/block2/conv1_3x3 (Conv2D) (None, 32, 32, 32)   9216        conv2/block2/relu1[0][0]         \n",
      "__________________________________________________________________________________________________\n",
      "conv2/block2/dropout (Dropout)  (None, 32, 32, 32)   0           conv2/block2/conv1_3x3[0][0]     \n",
      "__________________________________________________________________________________________________\n",
      "conv2/block2/bn2 (BatchNormaliz (None, 32, 32, 32)   128         conv2/block2/dropout[0][0]       \n",
      "__________________________________________________________________________________________________\n",
      "conv2/block2/relu2 (Activation) (None, 32, 32, 32)   0           conv2/block2/bn2[0][0]           \n",
      "__________________________________________________________________________________________________\n",
      "conv2/block2/conv2_3x3 (Conv2D) (None, 32, 32, 32)   9216        conv2/block2/relu2[0][0]         \n",
      "__________________________________________________________________________________________________\n",
      "conv2/block2/add (Add)          (None, 32, 32, 32)   0           conv2/block1/add[0][0]           \n",
      "                                                                 conv2/block2/conv2_3x3[0][0]     \n",
      "__________________________________________________________________________________________________\n",
      "conv2/block3/bn1 (BatchNormaliz (None, 32, 32, 32)   128         conv2/block2/add[0][0]           \n",
      "__________________________________________________________________________________________________\n",
      "conv2/block3/relu1 (Activation) (None, 32, 32, 32)   0           conv2/block3/bn1[0][0]           \n",
      "__________________________________________________________________________________________________\n",
      "conv2/block3/conv1_3x3 (Conv2D) (None, 32, 32, 32)   9216        conv2/block3/relu1[0][0]         \n",
      "__________________________________________________________________________________________________\n",
      "conv2/block3/dropout (Dropout)  (None, 32, 32, 32)   0           conv2/block3/conv1_3x3[0][0]     \n",
      "__________________________________________________________________________________________________\n",
      "conv2/block3/bn2 (BatchNormaliz (None, 32, 32, 32)   128         conv2/block3/dropout[0][0]       \n",
      "__________________________________________________________________________________________________\n",
      "conv2/block3/relu2 (Activation) (None, 32, 32, 32)   0           conv2/block3/bn2[0][0]           \n",
      "__________________________________________________________________________________________________\n",
      "conv2/block3/conv2_3x3 (Conv2D) (None, 32, 32, 32)   9216        conv2/block3/relu2[0][0]         \n",
      "__________________________________________________________________________________________________\n",
      "conv2/block3/add (Add)          (None, 32, 32, 32)   0           conv2/block2/add[0][0]           \n",
      "                                                                 conv2/block3/conv2_3x3[0][0]     \n",
      "__________________________________________________________________________________________________\n",
      "conv2/block4/bn1 (BatchNormaliz (None, 32, 32, 32)   128         conv2/block3/add[0][0]           \n",
      "__________________________________________________________________________________________________\n",
      "conv2/block4/relu1 (Activation) (None, 32, 32, 32)   0           conv2/block4/bn1[0][0]           \n",
      "__________________________________________________________________________________________________\n",
      "conv2/block4/conv1_3x3 (Conv2D) (None, 32, 32, 32)   9216        conv2/block4/relu1[0][0]         \n",
      "__________________________________________________________________________________________________\n",
      "conv2/block4/dropout (Dropout)  (None, 32, 32, 32)   0           conv2/block4/conv1_3x3[0][0]     \n",
      "__________________________________________________________________________________________________\n",
      "conv2/block4/bn2 (BatchNormaliz (None, 32, 32, 32)   128         conv2/block4/dropout[0][0]       \n",
      "__________________________________________________________________________________________________\n",
      "conv2/block4/relu2 (Activation) (None, 32, 32, 32)   0           conv2/block4/bn2[0][0]           \n",
      "__________________________________________________________________________________________________\n",
      "conv2/block4/conv2_3x3 (Conv2D) (None, 32, 32, 32)   9216        conv2/block4/relu2[0][0]         \n",
      "__________________________________________________________________________________________________\n",
      "conv2/block4/add (Add)          (None, 32, 32, 32)   0           conv2/block3/add[0][0]           \n",
      "                                                                 conv2/block4/conv2_3x3[0][0]     \n",
      "__________________________________________________________________________________________________\n",
      "conv3/block1/bn1 (BatchNormaliz (None, 32, 32, 32)   128         conv2/block4/add[0][0]           \n",
      "__________________________________________________________________________________________________\n",
      "conv3/block1/relu1 (Activation) (None, 32, 32, 32)   0           conv3/block1/bn1[0][0]           \n",
      "__________________________________________________________________________________________________\n",
      "conv3/block1/conv1_3x3 (Conv2D) (None, 16, 16, 64)   18432       conv3/block1/relu1[0][0]         \n",
      "__________________________________________________________________________________________________\n",
      "conv3/block1/dropout (Dropout)  (None, 16, 16, 64)   0           conv3/block1/conv1_3x3[0][0]     \n",
      "__________________________________________________________________________________________________\n",
      "conv3/block1/bn2 (BatchNormaliz (None, 16, 16, 64)   256         conv3/block1/dropout[0][0]       \n",
      "__________________________________________________________________________________________________\n",
      "conv3/block1/relu2 (Activation) (None, 16, 16, 64)   0           conv3/block1/bn2[0][0]           \n",
      "__________________________________________________________________________________________________\n",
      "conv3/block1/conv_identity_1x1  (None, 16, 16, 64)   2048        conv3/block1/relu1[0][0]         \n",
      "__________________________________________________________________________________________________\n",
      "conv3/block1/conv2_3x3 (Conv2D) (None, 16, 16, 64)   36864       conv3/block1/relu2[0][0]         \n",
      "__________________________________________________________________________________________________\n",
      "conv3/block1/add (Add)          (None, 16, 16, 64)   0           conv3/block1/conv_identity_1x1[0]\n",
      "                                                                 conv3/block1/conv2_3x3[0][0]     \n",
      "__________________________________________________________________________________________________\n",
      "conv3/block2/bn1 (BatchNormaliz (None, 16, 16, 64)   256         conv3/block1/add[0][0]           \n",
      "__________________________________________________________________________________________________\n",
      "conv3/block2/relu1 (Activation) (None, 16, 16, 64)   0           conv3/block2/bn1[0][0]           \n",
      "__________________________________________________________________________________________________\n",
      "conv3/block2/conv1_3x3 (Conv2D) (None, 16, 16, 64)   36864       conv3/block2/relu1[0][0]         \n",
      "__________________________________________________________________________________________________\n",
      "conv3/block2/dropout (Dropout)  (None, 16, 16, 64)   0           conv3/block2/conv1_3x3[0][0]     \n",
      "__________________________________________________________________________________________________\n",
      "conv3/block2/bn2 (BatchNormaliz (None, 16, 16, 64)   256         conv3/block2/dropout[0][0]       \n",
      "__________________________________________________________________________________________________\n",
      "conv3/block2/relu2 (Activation) (None, 16, 16, 64)   0           conv3/block2/bn2[0][0]           \n",
      "__________________________________________________________________________________________________\n",
      "conv3/block2/conv2_3x3 (Conv2D) (None, 16, 16, 64)   36864       conv3/block2/relu2[0][0]         \n",
      "__________________________________________________________________________________________________\n",
      "conv3/block2/add (Add)          (None, 16, 16, 64)   0           conv3/block1/add[0][0]           \n",
      "                                                                 conv3/block2/conv2_3x3[0][0]     \n",
      "__________________________________________________________________________________________________\n",
      "conv3/block3/bn1 (BatchNormaliz (None, 16, 16, 64)   256         conv3/block2/add[0][0]           \n",
      "__________________________________________________________________________________________________\n",
      "conv3/block3/relu1 (Activation) (None, 16, 16, 64)   0           conv3/block3/bn1[0][0]           \n",
      "__________________________________________________________________________________________________\n",
      "conv3/block3/conv1_3x3 (Conv2D) (None, 16, 16, 64)   36864       conv3/block3/relu1[0][0]         \n",
      "__________________________________________________________________________________________________\n",
      "conv3/block3/dropout (Dropout)  (None, 16, 16, 64)   0           conv3/block3/conv1_3x3[0][0]     \n",
      "__________________________________________________________________________________________________\n",
      "conv3/block3/bn2 (BatchNormaliz (None, 16, 16, 64)   256         conv3/block3/dropout[0][0]       \n",
      "__________________________________________________________________________________________________\n",
      "conv3/block3/relu2 (Activation) (None, 16, 16, 64)   0           conv3/block3/bn2[0][0]           \n",
      "__________________________________________________________________________________________________\n",
      "conv3/block3/conv2_3x3 (Conv2D) (None, 16, 16, 64)   36864       conv3/block3/relu2[0][0]         \n",
      "__________________________________________________________________________________________________\n",
      "conv3/block3/add (Add)          (None, 16, 16, 64)   0           conv3/block2/add[0][0]           \n",
      "                                                                 conv3/block3/conv2_3x3[0][0]     \n",
      "__________________________________________________________________________________________________\n",
      "conv3/block4/bn1 (BatchNormaliz (None, 16, 16, 64)   256         conv3/block3/add[0][0]           \n",
      "__________________________________________________________________________________________________\n",
      "conv3/block4/relu1 (Activation) (None, 16, 16, 64)   0           conv3/block4/bn1[0][0]           \n",
      "__________________________________________________________________________________________________\n",
      "conv3/block4/conv1_3x3 (Conv2D) (None, 16, 16, 64)   36864       conv3/block4/relu1[0][0]         \n",
      "__________________________________________________________________________________________________\n",
      "conv3/block4/dropout (Dropout)  (None, 16, 16, 64)   0           conv3/block4/conv1_3x3[0][0]     \n",
      "__________________________________________________________________________________________________\n",
      "conv3/block4/bn2 (BatchNormaliz (None, 16, 16, 64)   256         conv3/block4/dropout[0][0]       \n",
      "__________________________________________________________________________________________________\n",
      "conv3/block4/relu2 (Activation) (None, 16, 16, 64)   0           conv3/block4/bn2[0][0]           \n",
      "__________________________________________________________________________________________________\n",
      "conv3/block4/conv2_3x3 (Conv2D) (None, 16, 16, 64)   36864       conv3/block4/relu2[0][0]         \n",
      "__________________________________________________________________________________________________\n",
      "conv3/block4/add (Add)          (None, 16, 16, 64)   0           conv3/block3/add[0][0]           \n",
      "                                                                 conv3/block4/conv2_3x3[0][0]     \n",
      "__________________________________________________________________________________________________\n",
      "conv4/block1/bn1 (BatchNormaliz (None, 16, 16, 64)   256         conv3/block4/add[0][0]           \n",
      "__________________________________________________________________________________________________\n",
      "conv4/block1/relu1 (Activation) (None, 16, 16, 64)   0           conv4/block1/bn1[0][0]           \n",
      "__________________________________________________________________________________________________\n",
      "conv4/block1/conv1_3x3 (Conv2D) (None, 8, 8, 128)    73728       conv4/block1/relu1[0][0]         \n",
      "__________________________________________________________________________________________________\n",
      "conv4/block1/dropout (Dropout)  (None, 8, 8, 128)    0           conv4/block1/conv1_3x3[0][0]     \n",
      "__________________________________________________________________________________________________\n",
      "conv4/block1/bn2 (BatchNormaliz (None, 8, 8, 128)    512         conv4/block1/dropout[0][0]       \n",
      "__________________________________________________________________________________________________\n",
      "conv4/block1/relu2 (Activation) (None, 8, 8, 128)    0           conv4/block1/bn2[0][0]           \n",
      "__________________________________________________________________________________________________\n",
      "conv4/block1/conv_identity_1x1  (None, 8, 8, 128)    8192        conv4/block1/relu1[0][0]         \n",
      "__________________________________________________________________________________________________\n",
      "conv4/block1/conv2_3x3 (Conv2D) (None, 8, 8, 128)    147456      conv4/block1/relu2[0][0]         \n",
      "__________________________________________________________________________________________________\n",
      "conv4/block1/add (Add)          (None, 8, 8, 128)    0           conv4/block1/conv_identity_1x1[0]\n",
      "                                                                 conv4/block1/conv2_3x3[0][0]     \n",
      "__________________________________________________________________________________________________\n",
      "conv4/block2/bn1 (BatchNormaliz (None, 8, 8, 128)    512         conv4/block1/add[0][0]           \n",
      "__________________________________________________________________________________________________\n",
      "conv4/block2/relu1 (Activation) (None, 8, 8, 128)    0           conv4/block2/bn1[0][0]           \n",
      "__________________________________________________________________________________________________\n",
      "conv4/block2/conv1_3x3 (Conv2D) (None, 8, 8, 128)    147456      conv4/block2/relu1[0][0]         \n",
      "__________________________________________________________________________________________________\n",
      "conv4/block2/dropout (Dropout)  (None, 8, 8, 128)    0           conv4/block2/conv1_3x3[0][0]     \n",
      "__________________________________________________________________________________________________\n",
      "conv4/block2/bn2 (BatchNormaliz (None, 8, 8, 128)    512         conv4/block2/dropout[0][0]       \n",
      "__________________________________________________________________________________________________\n",
      "conv4/block2/relu2 (Activation) (None, 8, 8, 128)    0           conv4/block2/bn2[0][0]           \n",
      "__________________________________________________________________________________________________\n",
      "conv4/block2/conv2_3x3 (Conv2D) (None, 8, 8, 128)    147456      conv4/block2/relu2[0][0]         \n",
      "__________________________________________________________________________________________________\n",
      "conv4/block2/add (Add)          (None, 8, 8, 128)    0           conv4/block1/add[0][0]           \n",
      "                                                                 conv4/block2/conv2_3x3[0][0]     \n",
      "__________________________________________________________________________________________________\n",
      "conv4/block3/bn1 (BatchNormaliz (None, 8, 8, 128)    512         conv4/block2/add[0][0]           \n",
      "__________________________________________________________________________________________________\n",
      "conv4/block3/relu1 (Activation) (None, 8, 8, 128)    0           conv4/block3/bn1[0][0]           \n",
      "__________________________________________________________________________________________________\n",
      "conv4/block3/conv1_3x3 (Conv2D) (None, 8, 8, 128)    147456      conv4/block3/relu1[0][0]         \n",
      "__________________________________________________________________________________________________\n",
      "conv4/block3/dropout (Dropout)  (None, 8, 8, 128)    0           conv4/block3/conv1_3x3[0][0]     \n",
      "__________________________________________________________________________________________________\n",
      "conv4/block3/bn2 (BatchNormaliz (None, 8, 8, 128)    512         conv4/block3/dropout[0][0]       \n",
      "__________________________________________________________________________________________________\n",
      "conv4/block3/relu2 (Activation) (None, 8, 8, 128)    0           conv4/block3/bn2[0][0]           \n",
      "__________________________________________________________________________________________________\n",
      "conv4/block3/conv2_3x3 (Conv2D) (None, 8, 8, 128)    147456      conv4/block3/relu2[0][0]         \n",
      "__________________________________________________________________________________________________\n",
      "conv4/block3/add (Add)          (None, 8, 8, 128)    0           conv4/block2/add[0][0]           \n",
      "                                                                 conv4/block3/conv2_3x3[0][0]     \n",
      "__________________________________________________________________________________________________\n",
      "conv4/block4/bn1 (BatchNormaliz (None, 8, 8, 128)    512         conv4/block3/add[0][0]           \n",
      "__________________________________________________________________________________________________\n",
      "conv4/block4/relu1 (Activation) (None, 8, 8, 128)    0           conv4/block4/bn1[0][0]           \n",
      "__________________________________________________________________________________________________\n",
      "conv4/block4/conv1_3x3 (Conv2D) (None, 8, 8, 128)    147456      conv4/block4/relu1[0][0]         \n",
      "__________________________________________________________________________________________________\n",
      "conv4/block4/dropout (Dropout)  (None, 8, 8, 128)    0           conv4/block4/conv1_3x3[0][0]     \n",
      "__________________________________________________________________________________________________\n",
      "conv4/block4/bn2 (BatchNormaliz (None, 8, 8, 128)    512         conv4/block4/dropout[0][0]       \n",
      "__________________________________________________________________________________________________\n",
      "conv4/block4/relu2 (Activation) (None, 8, 8, 128)    0           conv4/block4/bn2[0][0]           \n",
      "__________________________________________________________________________________________________\n",
      "conv4/block4/conv2_3x3 (Conv2D) (None, 8, 8, 128)    147456      conv4/block4/relu2[0][0]         \n",
      "__________________________________________________________________________________________________\n",
      "conv4/block4/add (Add)          (None, 8, 8, 128)    0           conv4/block3/add[0][0]           \n",
      "                                                                 conv4/block4/conv2_3x3[0][0]     \n",
      "__________________________________________________________________________________________________\n",
      "bn (BatchNormalization)         (None, 8, 8, 128)    512         conv4/block4/add[0][0]           \n",
      "__________________________________________________________________________________________________\n",
      "relu (Activation)               (None, 8, 8, 128)    0           bn[0][0]                         \n",
      "__________________________________________________________________________________________________\n",
      "avg_pool (GlobalAveragePooling2 (None, 128)          0           relu[0][0]                       \n",
      "__________________________________________________________________________________________________\n",
      "preds (Dense)                   (None, 10)           1290        avg_pool[0][0]                   \n",
      "==================================================================================================\n",
      "Total params: 1,471,226\n",
      "Trainable params: 1,467,610\n",
      "Non-trainable params: 3,616\n",
      "__________________________________________________________________________________________________\n"
     ]
    }
   ],
   "source": [
    "model.summary()"
   ]
  },
  {
   "cell_type": "markdown",
   "metadata": {},
   "source": [
    "### Augmentation"
   ]
  },
  {
   "cell_type": "code",
   "execution_count": 11,
   "metadata": {
    "ExecuteTime": {
     "end_time": "2020-08-26T19:17:57.279483Z",
     "start_time": "2020-08-26T19:17:57.199281Z"
    }
   },
   "outputs": [],
   "source": [
    "#https://github.com/tanzhenyu/image_augmentation/blob/master/image_augmentation/image/image_ops.py\n",
    "IMAGE_DTYPES = [tf.uint8, tf.float32, tf.float16, tf.float64]\n",
    "\n",
    "\n",
    "def _check_image_dtype(image):\n",
    "    assert image.dtype in IMAGE_DTYPES, \"image with \" + str(image.dtype) + \" is not supported for this operation\"\n",
    "\n",
    "\n",
    "@tf.function\n",
    "def invert(image, name=None):\n",
    "    \"\"\"Inverts the pixels of an `image`.\n",
    "    Args:\n",
    "        image: An int or float tensor of shape `[height, width, num_channels]`.\n",
    "        name: An optional string for name of the operation.\n",
    "    Returns:\n",
    "        A tensor with same shape and type as that of `image`.\n",
    "    \"\"\"\n",
    "    _check_image_dtype(image)\n",
    "\n",
    "    with tf.name_scope(name or \"invert\"):\n",
    "        if image.dtype == tf.uint8:\n",
    "            inv_image = 255 - image\n",
    "        else:\n",
    "            inv_image = 1. - image\n",
    "        return inv_image\n",
    "\n",
    "\n",
    "@tf.function\n",
    "def cutout(image, size=16, color=None, name=None):\n",
    "    \"\"\"This is an implementation of Cutout as described in \"Improved\n",
    "    Regularization of Convolutional Neural Networks with Cutout\" by\n",
    "    DeVries & Taylor (https://arxiv.org/abs/1708.04552).\n",
    "    It applies a random square patch of specified `size` over an `image`\n",
    "    and by replacing those pixels with value of `color`.\n",
    "    Args:\n",
    "        image: An int or float tensor of shape `[height, width, num_channels]`.\n",
    "        size: A 0-D int tensor or single int value that is divisible by 2.\n",
    "        color: A single pixel value (grayscale) or tuple of 3 values (RGB),\n",
    "            in case a single value is used for RGB image the value is tiled.\n",
    "            Gray color (128) is used by default.\n",
    "        name: An optional string for name of the operation.\n",
    "    Returns:\n",
    "        A tensor with same shape and type as that of `image`.\n",
    "    \"\"\"\n",
    "    _check_image_dtype(image)\n",
    "\n",
    "    with tf.name_scope(name or \"cutout\"):\n",
    "        image_shape = tf.shape(image)\n",
    "        height, width, channels = image_shape[0], image_shape[1], image_shape[2]\n",
    "\n",
    "        loc_x = tf.random.uniform((), 0, width, tf.int32)\n",
    "        loc_y = tf.random.uniform((), 0, height, tf.int32)\n",
    "\n",
    "        ly, lx = tf.maximum(0, loc_y - size // 2), tf.maximum(0, loc_x - size // 2)\n",
    "        uy, ux = tf.minimum(height, loc_y + size // 2), tf.minimum(width, loc_x + size // 2)\n",
    "\n",
    "        gray = tf.constant(128)\n",
    "        if color is None:\n",
    "            if image.dtype == tf.uint8:\n",
    "                color = tf.repeat(gray, channels)\n",
    "            else:\n",
    "                color = tf.repeat(tf.cast(gray, tf.float32) / 255., channels)\n",
    "        else:\n",
    "            color = tf.convert_to_tensor(color)\n",
    "        color = tf.cast(color, image.dtype)\n",
    "\n",
    "        cut = tf.ones((uy - ly, ux - lx, channels), image.dtype)\n",
    "\n",
    "        top = image[0: ly, 0: width]\n",
    "        between = tf.concat([\n",
    "            image[ly: uy, 0: lx],\n",
    "            cut * color,\n",
    "            image[ly: uy, ux: width]\n",
    "        ], axis=1)\n",
    "        bottom = image[uy: height, 0: width]\n",
    "\n",
    "        cutout_image = tf.concat([top, between, bottom], axis=0)\n",
    "        return cutout_image\n",
    "\n",
    "\n",
    "@tf.function\n",
    "def solarize(image, threshold, name=None):\n",
    "    \"\"\"Inverts the pixels of an `image` above a certain `threshold`.\n",
    "    Args:\n",
    "        image: An int or float tensor of shape `[height, width, num_channels]`.\n",
    "        threshold: A 0-D int / float tensor or int / float value for setting\n",
    "            inversion threshold.\n",
    "        name: An optional string for name of the operation.\n",
    "    Returns:\n",
    "        A tensor with same shape and type as that of `image`.\n",
    "    \"\"\"\n",
    "    _check_image_dtype(image)\n",
    "\n",
    "    with tf.name_scope(name or \"solarize\"):\n",
    "        threshold = tf.cast(threshold, image.dtype)\n",
    "\n",
    "        inverted_image = invert(image)\n",
    "        solarized_image = tf.where(image < threshold, image, inverted_image)\n",
    "        return solarized_image\n",
    "\n",
    "\n",
    "@tf.function\n",
    "def solarize_add(image, addition, threshold=None, name=None):\n",
    "    \"\"\"Adds `addition` intensity to each pixel and inverts the pixels\n",
    "    of an `image` above a certain `threshold`.\n",
    "    Args:\n",
    "        image: An int or float tensor of shape `[height, width, num_channels]`.\n",
    "        addition: A 0-D int / float tensor or int / float value that is to be\n",
    "            added to each pixel.\n",
    "        threshold: A 0-D int / float tensor or int / float value for setting\n",
    "            inversion threshold. 128 (int) / 0.5 (float) is used by default.\n",
    "        name: An optional string for name of the operation.\n",
    "    Returns:\n",
    "        A tensor with same shape and type as that of `image`.\n",
    "    \"\"\"\n",
    "    _check_image_dtype(image)\n",
    "\n",
    "    with tf.name_scope(name or \"solarize_add\"):\n",
    "        if threshold is None:\n",
    "            threshold = tf.image.convert_image_dtype(tf.constant(128, tf.uint8), image.dtype)\n",
    "\n",
    "        addition = tf.cast(addition, image.dtype)\n",
    "        added_image = image + addition\n",
    "\n",
    "        dark, bright = tf.constant(0, tf.uint8), tf.constant(255, tf.uint8)\n",
    "        added_image = tf.clip_by_value(added_image, tf.image.convert_image_dtype(dark, image.dtype),\n",
    "                                       tf.image.convert_image_dtype(bright, image.dtype))\n",
    "        return solarize(added_image, threshold)\n",
    "\n",
    "\n",
    "@tf.function\n",
    "def posterize(image, num_bits, name=None):\n",
    "    \"\"\"Reduces the number of bits used to represent an `image`\n",
    "    for each color channel.\n",
    "    Args:\n",
    "        image: An int or float tensor of shape `[height, width, num_channels]`.\n",
    "        num_bits: A 0-D int tensor or integer value representing number of bits.\n",
    "        name: An optional string for name of the operation.\n",
    "    Returns:\n",
    "        A tensor with same shape and type as that of `image`.\n",
    "    \"\"\"\n",
    "    _check_image_dtype(image)\n",
    "\n",
    "    with tf.name_scope(name or \"posterize\"):\n",
    "        orig_dtype = image.dtype\n",
    "        image = tf.image.convert_image_dtype(image, tf.uint8)\n",
    "\n",
    "        num_bits = tf.cast(num_bits, tf.int32)\n",
    "        mask = tf.cast(2 ** (8 - num_bits) - 1, tf.uint8)\n",
    "        mask = tf.bitwise.invert(mask)\n",
    "\n",
    "        posterized_image = tf.bitwise.bitwise_and(image, mask)\n",
    "        posterized_image = tf.image.convert_image_dtype(posterized_image, orig_dtype, saturate=True)\n",
    "        return posterized_image\n",
    "\n",
    "\n",
    "@tf.function\n",
    "def equalize(image, name=None):\n",
    "    \"\"\"Equalizes the `image` histogram. In case of an RGB image, equalization\n",
    "    individually for each channel.\n",
    "    Args:\n",
    "        image: An int or float tensor of shape `[height, width, num_channels]`.\n",
    "        name: An optional string for name of the operation.\n",
    "    Returns:\n",
    "        A tensor with same shape and type as that of `image`.\n",
    "    \"\"\"\n",
    "    _check_image_dtype(image)\n",
    "\n",
    "    with tf.name_scope(name or \"equalize\"):\n",
    "        orig_dtype = image.dtype\n",
    "        image = tf.image.convert_image_dtype(image, tf.uint8, saturate=True)\n",
    "        image = tf.cast(image, tf.int32)\n",
    "\n",
    "        def equalize_grayscale(image_channel):\n",
    "            \"\"\"Equalizes the histogram of a grayscale (2D) image.\"\"\"\n",
    "            bins = tf.constant(256, tf.int32)\n",
    "\n",
    "            histogram = tf.math.bincount(image_channel, minlength=bins)\n",
    "            nonzero = tf.where(tf.math.not_equal(histogram, 0))\n",
    "            nonzero_histogram = tf.reshape(tf.gather(histogram, nonzero), [-1])\n",
    "            step = (tf.reduce_sum(nonzero_histogram) - nonzero_histogram[-1]) // (bins - 1)\n",
    "\n",
    "            # use a lut similar to PIL\n",
    "            def normalize(histogram, step):\n",
    "                norm_histogram = (tf.math.cumsum(histogram) + (step // 2)) // step\n",
    "                norm_histogram = tf.concat([[0], norm_histogram], axis=0)\n",
    "                norm_histogram = tf.clip_by_value(norm_histogram, 0, bins - 1)\n",
    "                return norm_histogram\n",
    "\n",
    "            return tf.cond(tf.math.equal(step, 0),\n",
    "                           lambda: image_channel,\n",
    "                           lambda: tf.gather(normalize(histogram, step), image_channel))\n",
    "\n",
    "        channels_first_image = tf.transpose(image, [2, 0, 1])\n",
    "        channels_first_equalized_image = tf.map_fn(equalize_grayscale, channels_first_image)\n",
    "        equalized_image = tf.transpose(channels_first_equalized_image, [1, 2, 0])\n",
    "\n",
    "        equalized_image = tf.cast(equalized_image, tf.uint8)\n",
    "        equalized_image = tf.image.convert_image_dtype(equalized_image, orig_dtype)\n",
    "        return equalized_image\n",
    "\n",
    "\n",
    "@tf.function\n",
    "def auto_contrast(image, name=None):\n",
    "    \"\"\"Normalizes `image` contrast by remapping the `image` histogram such\n",
    "    that the brightest pixel becomes 1.0 (float) / 255 (unsigned int) and\n",
    "    darkest pixel becomes 0.\n",
    "    Args:\n",
    "        image: An int or float tensor of shape `[height, width, num_channels]`.\n",
    "        name: An optional string for name of the operation.\n",
    "    Returns:\n",
    "        A tensor with same shape and type as that of `image`.\n",
    "    \"\"\"\n",
    "    _check_image_dtype(image)\n",
    "\n",
    "    with tf.name_scope(name or \"auto_contrast\"):\n",
    "        orig_dtype = image.dtype\n",
    "        image = tf.image.convert_image_dtype(image, tf.float32)\n",
    "\n",
    "        min_val, max_val = tf.reduce_min(image, axis=[0, 1]), tf.reduce_max(image, axis=[0, 1])\n",
    "\n",
    "        norm_image = (image - min_val) / (max_val - min_val)\n",
    "        norm_image = tf.image.convert_image_dtype(norm_image, orig_dtype, saturate=True)\n",
    "        return norm_image\n",
    "\n",
    "\n",
    "@tf.function\n",
    "def blend(image1, image2, factor, name=None):\n",
    "    \"\"\"Blends an image with another using `factor`.\n",
    "    Args:\n",
    "        image1: An int or float tensor of shape `[height, width, num_channels]`.\n",
    "        image2: An int or float tensor of shape `[height, width, num_channels]`.\n",
    "        factor: A 0-D float tensor or single floating point value depicting\n",
    "            a weight above 0.0 for combining the example_images.\n",
    "        name: An optional string for name of the operation.\n",
    "    Returns:\n",
    "        A tensor with same shape and type as that of `image1` and `image2`.\n",
    "    \"\"\"\n",
    "    _check_image_dtype(image1)\n",
    "    _check_image_dtype(image2)\n",
    "    assert image1.dtype == image2.dtype, \"image1 type should exactly match type of image2\"\n",
    "\n",
    "    if factor == 0.0:\n",
    "        return image1\n",
    "    elif factor == 1.0:\n",
    "        return image2\n",
    "    else:\n",
    "        with tf.name_scope(name or \"blend\"):\n",
    "            orig_dtype = image2.dtype\n",
    "\n",
    "            image1, image2 = tf.image.convert_image_dtype(image1, tf.float32), tf.image.convert_image_dtype(image2, tf.float32)\n",
    "            scaled_diff = (image2 - image1) * factor\n",
    "\n",
    "            blended_image = image1 + scaled_diff\n",
    "\n",
    "            blended_image = tf.image.convert_image_dtype(blended_image, orig_dtype, saturate=True)\n",
    "            return blended_image\n",
    "\n",
    "\n",
    "@tf.function\n",
    "def sample_pairing(image1, image2, weight, name=None):\n",
    "    \"\"\"Alias of `blend`. This is an implementation of SamplePairing\n",
    "    as described in \"Data Augmentation by Pairing Samples for Images Classification\"\n",
    "    by Inoue (https://arxiv.org/abs/1801.02929).\n",
    "    Args:\n",
    "        image1: An int or float tensor of shape `[height, width, num_channels]`.\n",
    "        image2: An int or float tensor of shape `[height, width, num_channels]`.\n",
    "        weight: A 0-D float tensor or single floating point value depicting\n",
    "            a weight factor above 0.0 for combining the example_images.\n",
    "        name: An optional string for name of the operation.\n",
    "    Returns:\n",
    "        A tensor with same shape and type as that of `image1`.\n",
    "    \"\"\"\n",
    "    with tf.name_scope(name or \"sample_pairing\"):\n",
    "        paired_image = blend(image1, image2, weight)\n",
    "        return paired_image\n",
    "\n",
    "\n",
    "@tf.function\n",
    "def color(image, magnitude, name=None):\n",
    "    \"\"\"Adjusts the `magnitude` of color of an `image`.\n",
    "    Args:\n",
    "        image: An int or float tensor of shape `[height, width, num_channels]`.\n",
    "        magnitude: A 0-D float tensor or single floating point value above 0.0.\n",
    "        name: An optional string for name of the operation.\n",
    "    Returns:\n",
    "        A tensor with same shape and type as that of `image`.\n",
    "    \"\"\"\n",
    "    _check_image_dtype(image)\n",
    "\n",
    "    with tf.name_scope(name or \"color\"):\n",
    "        tiled_gray_image = tf.image.grayscale_to_rgb(tf.image.rgb_to_grayscale(image))\n",
    "        colored_image = blend(tiled_gray_image, image, magnitude)\n",
    "        return colored_image\n",
    "\n",
    "\n",
    "@tf.function\n",
    "def sharpness(image, magnitude, name=None):\n",
    "    \"\"\"Adjusts the `magnitude` of sharpness of an `image`.\n",
    "    Args:\n",
    "        image: An int or float tensor of shape `[height, width, num_channels]`.\n",
    "        magnitude: A 0-D float tensor or single floating point value above 0.0.\n",
    "        name: An optional string for name of the operation.\n",
    "    Returns:\n",
    "        A tensor with same shape and type as that of `image`.\n",
    "    \"\"\"\n",
    "    _check_image_dtype(image)\n",
    "\n",
    "    with tf.name_scope(name or \"sharpness\"):\n",
    "        orig_dtype = image.dtype\n",
    "        image = tf.image.convert_image_dtype(image, tf.uint8, saturate=True)\n",
    "        image = tf.cast(image, tf.float32)\n",
    "\n",
    "        blur_kernel = tf.constant([[1, 1, 1],\n",
    "                                   [1, 5, 1],\n",
    "                                   [1, 1, 1]], tf.float32, shape=[3, 3, 1, 1]) / 13\n",
    "        blur_kernel = tf.tile(blur_kernel, [1, 1, 3, 1])\n",
    "        strides = [1, 1, 1, 1]\n",
    "\n",
    "        # add extra dimension to image before conv\n",
    "        blurred_image = tf.nn.depthwise_conv2d(image[None, ...], blur_kernel,\n",
    "                                               strides, padding=\"VALID\")\n",
    "        blurred_image = tf.clip_by_value(blurred_image, 0., 255.)\n",
    "        # remove extra dimension\n",
    "        blurred_image = blurred_image[0]\n",
    "\n",
    "        mask = tf.ones_like(blurred_image)\n",
    "        extra_padding = tf.constant([[1, 1],\n",
    "                                     [1, 1],\n",
    "                                     [0, 0]], tf.int32)\n",
    "        padded_mask = tf.pad(mask, extra_padding)\n",
    "        padded_blurred_image = tf.pad(blurred_image, extra_padding)\n",
    "\n",
    "        blurred_image = tf.where(padded_mask == 1, padded_blurred_image, image)\n",
    "\n",
    "        sharpened_image = blend(blurred_image, image, magnitude)\n",
    "\n",
    "        sharpened_image = tf.cast(sharpened_image, tf.uint8)\n",
    "        sharpened_image = tf.image.convert_image_dtype(sharpened_image, orig_dtype)\n",
    "        return sharpened_image\n",
    "\n",
    "\n",
    "@tf.function\n",
    "def brightness(image, magnitude, name=None):\n",
    "    \"\"\"Adjusts the `magnitude` of brightness of an `image`.\n",
    "    Args:\n",
    "        image: An int or float tensor of shape `[height, width, num_channels]`.\n",
    "        magnitude: A 0-D float tensor or single floating point value above 0.0.\n",
    "        name: An optional string for name of the operation.\n",
    "    Returns:\n",
    "        A tensor with same shape and type as that of `image`.\n",
    "    \"\"\"\n",
    "    _check_image_dtype(image)\n",
    "\n",
    "    with tf.name_scope(name or \"brightness\"):\n",
    "        dark = tf.zeros_like(image)\n",
    "        bright_image = blend(dark, image, magnitude)\n",
    "        return bright_image\n",
    "\n",
    "\n",
    "@tf.function\n",
    "def contrast(image, magnitude, name=None):\n",
    "    \"\"\"Adjusts the `magnitude` of contrast of an `image`.\n",
    "    Args:\n",
    "        image: An int or float tensor of shape `[height, width, num_channels]`.\n",
    "        magnitude: A 0-D float tensor or single floating point value above 0.0.\n",
    "        name: An optional string for name of the operation.\n",
    "    Returns:\n",
    "        A tensor with same shape and type as that of `image`.\n",
    "    \"\"\"\n",
    "    _check_image_dtype(image)\n",
    "\n",
    "    with tf.name_scope(name or \"contrast\"):\n",
    "        orig_dtype = image.dtype\n",
    "        image = tf.image.convert_image_dtype(image, tf.uint8, saturate=True)\n",
    "\n",
    "        grayed_image = tf.image.rgb_to_grayscale(image)\n",
    "        grayed_image = tf.cast(grayed_image, tf.int32)\n",
    "        bins = tf.constant(256, tf.int32)\n",
    "        histogram = tf.math.bincount(grayed_image, minlength=bins)\n",
    "        histogram = tf.cast(histogram, tf.float32)\n",
    "        mean = tf.reduce_sum(tf.cast(grayed_image, tf.float32)) / tf.reduce_sum(histogram)\n",
    "        mean = tf.clip_by_value(mean, 0.0, 255.0)\n",
    "\n",
    "        mean = tf.cast(mean, tf.uint8)\n",
    "        mean_image = tf.ones_like(grayed_image, tf.uint8) * mean\n",
    "        mean_image = tf.image.grayscale_to_rgb(mean_image)\n",
    "\n",
    "        contrast_image = blend(mean_image, image, magnitude)\n",
    "        contrast_image = tf.image.convert_image_dtype(contrast_image, orig_dtype, saturate=True)\n",
    "        return contrast_image"
   ]
  },
  {
   "cell_type": "code",
   "execution_count": 65,
   "metadata": {
    "ExecuteTime": {
     "end_time": "2020-08-26T19:30:24.071111Z",
     "start_time": "2020-08-26T19:30:24.025229Z"
    }
   },
   "outputs": [
    {
     "data": {
      "text/plain": [
       "5"
      ]
     },
     "execution_count": 65,
     "metadata": {},
     "output_type": "execute_result"
    }
   ],
   "source": [
    "1 + int(1 / 0.25)"
   ]
  },
  {
   "cell_type": "code",
   "execution_count": 241,
   "metadata": {
    "ExecuteTime": {
     "end_time": "2020-08-26T20:37:48.058118Z",
     "start_time": "2020-08-26T20:37:47.424473Z"
    },
    "code_folding": []
   },
   "outputs": [],
   "source": [
    "import tensorflow_addons as tfa\n",
    "\n",
    "\n",
    "def get_augment(\n",
    "    augment_probability=0.25,\n",
    "    autocontrast_range=[1e-5, 1],\n",
    "    brightness_range=[1e-5, 1.5],\n",
    "    contrast_range=[1e-5, 1],\n",
    "    color_range=[-1, 1],\n",
    "    cutout_range=[0, 0.5],\n",
    "    equalize_range=[0, 1],\n",
    "    invert_range=[0, 1],\n",
    "    posterize_range=[1, 8],\n",
    "    rescale_range=[0.5, 1],\n",
    "    rescale_range_x_range=0.5,\n",
    "    rescale_range_y_range=0.5,\n",
    "    rotate_range=[-45, 45],\n",
    "    sharpness_range=[0, 1],\n",
    "    solarize_range=[0, 1],\n",
    "    shear_x_range=[-0.3, 0.3],\n",
    "    shear_y_range=[-0.3, 0.3],\n",
    "    translate_x_range=0.3,\n",
    "    translate_y_range=0.3,\n",
    "    dims=(32, 32, 3),\n",
    "):\n",
    "    def augment(image, label):\n",
    "\n",
    "        image = tf.image.random_flip_left_right(image)\n",
    "\n",
    "        random_switch = tf.cast(\n",
    "            tf.random.uniform(\n",
    "                (1,), minval=0, maxval=1 + int(1 / augment_probability), dtype=tf.int32\n",
    "            )[0]\n",
    "            == 1,\n",
    "            tf.bool,\n",
    "        )\n",
    "\n",
    "        if random_switch:\n",
    "            return image, label\n",
    "        \n",
    "        # Autocontrast 0-1\n",
    "        ac_img = auto_contrast(image)\n",
    "        ac_blend_factor = tf.random.uniform(\n",
    "            (1,),\n",
    "            minval=autocontrast_range[0],\n",
    "            maxval=autocontrast_range[1],\n",
    "            dtype=tf.float32,\n",
    "        )[0]\n",
    "        image = blend(ac_img, image, ac_blend_factor)\n",
    "        # Brightness 0-1\n",
    "        brightness_factor = tf.random.uniform(\n",
    "            (1,),\n",
    "            minval=brightness_range[0],\n",
    "            maxval=brightness_range[1],\n",
    "            dtype=tf.float32,\n",
    "        )[0]\n",
    "        image = brightness(image, brightness_factor)\n",
    "        # color 0-1\n",
    "        color_factor = tf.random.uniform(\n",
    "            (1,), minval=color_range[0], maxval=color_range[1], dtype=tf.float32\n",
    "        )[0]\n",
    "        image = tf.image.adjust_hue(image, color_factor)\n",
    "        # contrast 0-1\n",
    "        contrast_factor = tf.random.uniform(\n",
    "            (1,), minval=contrast_range[0], maxval=contrast_range[1], dtype=tf.float32\n",
    "        )[0]\n",
    "        image = tf.image.adjust_contrast(image, contrast_factor)\n",
    "        # cutout 0-0.5\n",
    "        cutout_factor = tf.random.uniform(\n",
    "            (1,), minval=cutout_range[0], maxval=cutout_range[1], dtype=tf.float32\n",
    "        )[0]\n",
    "        image = cutout(image, tf.cast(cutout_factor * dims[0], tf.int32))\n",
    "        # equalize 0-1\n",
    "        equalize_factor = tf.random.uniform(\n",
    "            (1,), minval=equalize_range[0], maxval=equalize_range[1], dtype=tf.float32\n",
    "        )[0]\n",
    "        equalized_image = equalize(image)\n",
    "        image = blend(equalized_image, image, equalize_factor)\n",
    "        # invert 0-1\n",
    "        invert_factor = tf.random.uniform(\n",
    "            (1,), minval=invert_range[0], maxval=invert_range[1], dtype=tf.float32\n",
    "        )[0]\n",
    "        invert_image = invert(image)\n",
    "        image = blend(invert_image, image, invert_factor)\n",
    "        # posterize 1-8\n",
    "        posterize_factor = tf.random.uniform(\n",
    "            (1,), minval=posterize_range[0], maxval=posterize_range[1], dtype=tf.int32\n",
    "        )[0]\n",
    "        image = posterize(image, posterize_factor)\n",
    "        # rescale 0.5-1\n",
    "        rescale_factor = tf.random.uniform(\n",
    "            (1,), minval=rescale_range[0], maxval=rescale_range[1], dtype=tf.float32\n",
    "        )[0]\n",
    "        image = tf.image.random_crop(image, [dims[0]*rescale_factor, dims[1]*rescale_factor, dims[2]])\n",
    "        image = tf.image.resize(image, [dims[0], dims[1]])\n",
    "        \n",
    "        # sqeeze x or y\n",
    "        randint_hor = tf.random.uniform(\n",
    "            (2,),\n",
    "            minval=0,\n",
    "            maxval=tf.cast(rescale_range_x_range * dims[0], tf.int32),\n",
    "            dtype=tf.int32,\n",
    "        )[0]\n",
    "        randint_vert = tf.random.uniform(\n",
    "            (2,),\n",
    "            minval=0,\n",
    "            maxval=tf.cast(rescale_range_y_range * dims[1], tf.int32),\n",
    "            dtype=tf.int32,\n",
    "        )[0]\n",
    "        image = tf.image.resize(\n",
    "            image, (dims[0] + randint_vert * 2, dims[1] + randint_hor * 2)\n",
    "        )\n",
    "        # image = tf.image.crop_to_bounding_box(image, randint_vert,randint_hor,28,28)\n",
    "        image = tf.image.resize_with_pad(image, dims[0], dims[1])\n",
    "\n",
    "        image = tf.image.resize_with_crop_or_pad(\n",
    "            image, dims[0] + 3, dims[1] + 3\n",
    "        )  # crop 6 pixels\n",
    "        image = tf.image.random_crop(image, size=dims)\n",
    "\n",
    "        # rotate -45 45\n",
    "        rotate_factor = tf.random.uniform(\n",
    "            (1,),\n",
    "            minval=rotate_range[0] / 360,\n",
    "            maxval=rotate_range[1] / 360,\n",
    "            dtype=tf.float32,\n",
    "        )[0]\n",
    "        image = tfa.image.rotate(image, rotate_factor, interpolation=\"BILINEAR\",)\n",
    "\n",
    "        # sharpness 0,1\n",
    "        sharpness_factor = tf.random.uniform(\n",
    "            (1,), minval=sharpness_range[0], maxval=sharpness_range[1], dtype=tf.float32\n",
    "        )[0]\n",
    "        image = sharpness(image, sharpness_factor)\n",
    "        # shear_x -0.3, 3\n",
    "        shear_x_factor = tf.random.uniform(\n",
    "            (1,), minval=shear_x_range[0], maxval=shear_x_range[1], dtype=tf.float32\n",
    "        )[0]\n",
    "\n",
    "        image = (\n",
    "            tf.cast(\n",
    "                tfa.image.shear_x(\n",
    "                    tf.cast(image * 255, tf.uint8), shear_x_factor, replace=0\n",
    "                ),\n",
    "                tf.float32,\n",
    "            )\n",
    "            / 255.0\n",
    "        )\n",
    "        # shear_y -0.3, 3\n",
    "        shear_y_factor = tf.random.uniform(\n",
    "            (1,), minval=shear_x_range[0], maxval=shear_y_range[1], dtype=tf.float32\n",
    "        )[0]\n",
    "        image = (\n",
    "            tf.cast(\n",
    "                tfa.image.shear_y(\n",
    "                    tf.cast(image * 255, tf.uint8), shear_y_factor, replace=0\n",
    "                ),\n",
    "                tf.float32,\n",
    "            )\n",
    "            / 255.0\n",
    "        )\n",
    "\n",
    "        # smooth 0,1\n",
    "        smooth_factor = tf.random.uniform((1,), minval=0, maxval=1, dtype=tf.float32)[0]\n",
    "        # solarize 0,1\n",
    "        solarize_factor = tf.random.uniform(\n",
    "            (1,), minval=solarize_range[0], maxval=solarize_range[1], dtype=tf.float32\n",
    "        )[0]\n",
    "        image = solarize(image, solarize_factor)\n",
    "        # translate x -0.3, 0.3\n",
    "        translate_x_factor = tf.random.uniform(\n",
    "            (1,), minval=0, maxval=translate_x_range * 2, dtype=tf.float32\n",
    "        )[0]\n",
    "        # translate y -0.3, 0.3\n",
    "        translate_y_factor = tf.random.uniform(\n",
    "            (1,), minval=0, maxval=translate_y_range * 2, dtype=tf.float32\n",
    "        )[0]\n",
    "\n",
    "        image = tf.image.resize_with_crop_or_pad(\n",
    "            image,\n",
    "            dims[0] + tf.cast(translate_x_factor * dims[0], tf.int32),\n",
    "            dims[1] + tf.cast(translate_x_factor * dims[1], tf.int32),\n",
    "        )  # crop 6 pixels\n",
    "        image = tf.image.random_crop(image, size=dims)\n",
    "        \n",
    "        image = tf.clip_by_value(image, 0.0,1.0)\n",
    "\n",
    "        return image, label\n",
    "\n",
    "    return augment\n",
    "\n",
    "\n",
    "augment = get_augment(\n",
    "    augment_probability=0.25,\n",
    "    autocontrast_range=[0.25, 1],\n",
    "    brightness_range=[0.25, 2.0],\n",
    "    contrast_range=[0.5, 1],\n",
    "    cutout_range=[0, 0.5],\n",
    "    color_range=[-0.1, 0.1],\n",
    "    equalize_range=[0.25, 1],\n",
    "    invert_range=[0.9, 1],\n",
    "    posterize_range=[1, 8],\n",
    "    rescale_range=[0.5, 1],\n",
    "    rotate_range=[-45, 45],\n",
    "    sharpness_range=[0.25, 1],\n",
    "    solarize_range=[0.9, 1],\n",
    "    shear_x_range=[-0.15, 0.15],\n",
    "    shear_y_range=[-0.15, 0.15],\n",
    "    translate_x_range=0.15,\n",
    "    translate_y_range=0.15,\n",
    "    dims=(32, 32, 3),\n",
    ")"
   ]
  },
  {
   "cell_type": "code",
   "execution_count": 242,
   "metadata": {
    "ExecuteTime": {
     "end_time": "2020-08-26T20:37:54.189773Z",
     "start_time": "2020-08-26T20:37:49.629968Z"
    }
   },
   "outputs": [
    {
     "data": {
      "image/png": "[encoded data removed]",
      "text/plain": [
       "<Figure size 1584x144 with 11 Axes>"
      ]
     },
     "metadata": {
      "needs_background": "light"
     },
     "output_type": "display_data"
    },
    {
     "data": {
      "image/png": "[encoded data removed]",
      "text/plain": [
       "<Figure size 1584x144 with 11 Axes>"
      ]
     },
     "metadata": {
      "needs_background": "light"
     },
     "output_type": "display_data"
    },
    {
     "data": {
      "image/png": "[encoded data removed]",
      "text/plain": [
       "<Figure size 1584x144 with 11 Axes>"
      ]
     },
     "metadata": {
      "needs_background": "light"
     },
     "output_type": "display_data"
    },
    {
     "data": {
      "image/png": "[encoded data removed]",
      "text/plain": [
       "<Figure size 1584x144 with 11 Axes>"
      ]
     },
     "metadata": {
      "needs_background": "light"
     },
     "output_type": "display_data"
    },
    {
     "data": {
      "image/png": "[encoded data removed]",
      "text/plain": [
       "<Figure size 1584x144 with 11 Axes>"
      ]
     },
     "metadata": {
      "needs_background": "light"
     },
     "output_type": "display_data"
    }
   ],
   "source": [
    "nex = 10\n",
    "for i in range(5):\n",
    "    fig, axs = plt.subplots(ncols=nex +1, figsize=((nex+1)*2, 2))\n",
    "    axs[0].imshow(np.squeeze(X_train[i]), cmap = plt.cm.Greys)\n",
    "    axs[0].axis('off')\n",
    "    for ax in axs.flatten()[1:]:\n",
    "        aug_img = np.squeeze(augment(X_train[i], Y_train[i])[0])\n",
    "        ax.matshow(aug_img, cmap = plt.cm.Greys, vmin=0, vmax=1)\n",
    "        ax.axis('off')"
   ]
  },
  {
   "cell_type": "markdown",
   "metadata": {},
   "source": [
    "### train"
   ]
  },
  {
   "cell_type": "code",
   "execution_count": 243,
   "metadata": {
    "ExecuteTime": {
     "end_time": "2020-08-26T20:37:54.241719Z",
     "start_time": "2020-08-26T20:37:54.191495Z"
    }
   },
   "outputs": [],
   "source": [
    "early_stopping = tf.keras.callbacks.EarlyStopping(\n",
    "    monitor='val_accuracy', min_delta=0, patience=100, verbose=1, mode='auto',\n",
    "    baseline=None, restore_best_weights=True\n",
    ")"
   ]
  },
  {
   "cell_type": "code",
   "execution_count": 244,
   "metadata": {
    "ExecuteTime": {
     "end_time": "2020-08-26T20:37:54.287646Z",
     "start_time": "2020-08-26T20:37:54.243814Z"
    }
   },
   "outputs": [],
   "source": [
    "import tensorflow_addons as tfa"
   ]
  },
  {
   "cell_type": "code",
   "execution_count": 245,
   "metadata": {
    "ExecuteTime": {
     "end_time": "2020-08-26T20:37:54.373375Z",
     "start_time": "2020-08-26T20:37:54.289640Z"
    }
   },
   "outputs": [],
   "source": [
    "opt = tf.keras.optimizers.Adam(1e-4)\n",
    "opt = tfa.optimizers.MovingAverage(opt)\n",
    "loss = tf.keras.losses.CategoricalCrossentropy(label_smoothing=0.2, from_logits=True)\n",
    "model.compile(opt, loss = loss, metrics=['accuracy'])"
   ]
  },
  {
   "cell_type": "code",
   "execution_count": 246,
   "metadata": {
    "ExecuteTime": {
     "end_time": "2020-08-26T20:37:54.424373Z",
     "start_time": "2020-08-26T20:37:54.375366Z"
    }
   },
   "outputs": [],
   "source": [
    "Y_valid_one_hot = tf.keras.backend.one_hot(\n",
    "    Y_valid, num_classes\n",
    ")"
   ]
  },
  {
   "cell_type": "code",
   "execution_count": 247,
   "metadata": {
    "ExecuteTime": {
     "end_time": "2020-08-26T20:37:54.468345Z",
     "start_time": "2020-08-26T20:37:54.426195Z"
    }
   },
   "outputs": [],
   "source": [
    "Y_labeled_one_hot = tf.keras.backend.one_hot(\n",
    "    Y_labeled, num_classes\n",
    ")"
   ]
  },
  {
   "cell_type": "code",
   "execution_count": 248,
   "metadata": {
    "ExecuteTime": {
     "end_time": "2020-08-26T20:37:54.508189Z",
     "start_time": "2020-08-26T20:37:54.469744Z"
    }
   },
   "outputs": [],
   "source": [
    "from livelossplot import PlotLossesKerasTF\n",
    "# plot losses callback\n",
    "plotlosses = PlotLossesKerasTF()"
   ]
  },
  {
   "cell_type": "code",
   "execution_count": 249,
   "metadata": {
    "ExecuteTime": {
     "end_time": "2020-08-26T20:37:57.010624Z",
     "start_time": "2020-08-26T20:37:54.510091Z"
    }
   },
   "outputs": [],
   "source": [
    "train_ds = (\n",
    "     tf.data.Dataset.from_tensor_slices((X_labeled, Y_labeled_one_hot))\n",
    "    .repeat()\n",
    "    .shuffle(len(X_labeled))\n",
    "    .map(augment, num_parallel_calls=tf.data.experimental.AUTOTUNE)\n",
    "    .batch(batch_size)\n",
    "    .prefetch(tf.data.experimental.AUTOTUNE)\n",
    ") "
   ]
  },
  {
   "cell_type": "code",
   "execution_count": null,
   "metadata": {
    "ExecuteTime": {
     "start_time": "2020-08-26T20:37:51.130Z"
    },
    "scrolled": false
   },
   "outputs": [
    {
     "data": {
      "image/png": "[encoded data removed]",
      "text/plain": [
       "<Figure size 864x576 with 2 Axes>"
      ]
     },
     "metadata": {
      "needs_background": "light"
     },
     "output_type": "display_data"
    },
    {
     "name": "stdout",
     "output_type": "stream",
     "text": [
      "accuracy\n",
      "\ttraining         \t (min:    0.741, max:    0.935, cur:    0.935)\n",
      "\tvalidation       \t (min:    0.196, max:    0.258, cur:    0.212)\n",
      "Loss\n",
      "\ttraining         \t (min:    1.694, max:    1.849, cur:    1.694)\n",
      "\tvalidation       \t (min:    2.229, max:    2.276, cur:    2.266)\n",
      "312/312 [==============================] - 66s 211ms/step - loss: 1.6936 - accuracy: 0.9352 - val_loss: 2.2664 - val_accuracy: 0.2115\n",
      "Epoch 65/500\n",
      "253/312 [=======================>......] - ETA: 10s - loss: 1.6946 - accuracy: 0.9341"
     ]
    }
   ],
   "source": [
    "steps_per_epoch = int(len(X_train)/ batch_size)\n",
    "\n",
    "history = model.fit(\n",
    "    train_ds,\n",
    "    epochs=500,\n",
    "    validation_data=(X_valid, Y_valid_one_hot),\n",
    "    callbacks = [early_stopping, plotlosses],\n",
    "    steps_per_epoch = steps_per_epoch,\n",
    ")"
   ]
  },
  {
   "cell_type": "code",
   "execution_count": null,
   "metadata": {
    "ExecuteTime": {
     "end_time": "2020-08-26T19:17:59.469180Z",
     "start_time": "2020-08-26T19:17:46.619Z"
    }
   },
   "outputs": [],
   "source": [
    "plt.plot(history.history['loss'])\n",
    "plt.plot(history.history['val_loss'])"
   ]
  },
  {
   "cell_type": "code",
   "execution_count": null,
   "metadata": {
    "ExecuteTime": {
     "end_time": "2020-08-26T19:17:59.469732Z",
     "start_time": "2020-08-26T19:17:46.620Z"
    }
   },
   "outputs": [],
   "source": [
    "plt.plot(history.history['accuracy'])\n",
    "plt.plot(history.history['val_accuracy'])"
   ]
  },
  {
   "cell_type": "code",
   "execution_count": null,
   "metadata": {
    "ExecuteTime": {
     "end_time": "2020-08-26T19:17:59.470359Z",
     "start_time": "2020-08-26T19:17:46.622Z"
    }
   },
   "outputs": [],
   "source": [
    "submodel = tf.keras.models.Model(\n",
    "        [model.inputs[0]], [model.get_layer('z').output]\n",
    "    )\n",
    "z = submodel.predict(X_train)\n",
    "np.shape(z)"
   ]
  },
  {
   "cell_type": "code",
   "execution_count": null,
   "metadata": {
    "ExecuteTime": {
     "end_time": "2020-08-26T19:17:59.470890Z",
     "start_time": "2020-08-26T19:17:46.624Z"
    }
   },
   "outputs": [],
   "source": [
    "reducer = umap.UMAP(verbose=True)\n",
    "\n",
    "embedding = reducer.fit_transform(z.reshape(len(z), np.product(np.shape(z)[1:])))"
   ]
  },
  {
   "cell_type": "code",
   "execution_count": null,
   "metadata": {
    "ExecuteTime": {
     "end_time": "2020-08-26T19:17:59.471482Z",
     "start_time": "2020-08-26T19:17:46.625Z"
    }
   },
   "outputs": [],
   "source": [
    "plt.scatter(embedding[:, 0], embedding[:, 1], c=Y_train.flatten(), s= 1, alpha = 0.1, cmap = plt.cm.tab10)"
   ]
  },
  {
   "cell_type": "code",
   "execution_count": null,
   "metadata": {
    "ExecuteTime": {
     "end_time": "2020-08-26T19:17:59.472023Z",
     "start_time": "2020-08-26T19:17:46.627Z"
    }
   },
   "outputs": [],
   "source": [
    "z_valid = submodel.predict(X_valid)\n",
    "np.shape(z_valid)\n",
    "reducer = umap.UMAP(verbose=True)\n",
    "\n",
    "embedding = reducer.fit_transform(z_valid.reshape(len(z_valid), np.product(np.shape(z_valid)[1:])))\n",
    "\n",
    "plt.scatter(embedding[:, 0], embedding[:, 1], c=Y_valid.flatten(), s= 1, alpha = 0.1, cmap = plt.cm.tab10)"
   ]
  },
  {
   "cell_type": "code",
   "execution_count": null,
   "metadata": {
    "ExecuteTime": {
     "end_time": "2020-08-26T19:17:59.472582Z",
     "start_time": "2020-08-26T19:17:46.628Z"
    }
   },
   "outputs": [],
   "source": [
    "fig, ax = plt.subplots(figsize=(10,10))\n",
    "ax.scatter(embedding[:, 0], embedding[:, 1], c=Y_valid.flatten(), s= 1, alpha = 1, cmap = plt.cm.tab10)"
   ]
  },
  {
   "cell_type": "code",
   "execution_count": null,
   "metadata": {
    "ExecuteTime": {
     "end_time": "2020-08-26T19:17:59.473125Z",
     "start_time": "2020-08-26T19:17:46.629Z"
    }
   },
   "outputs": [],
   "source": [
    "predictions = model.predict(X_valid)"
   ]
  },
  {
   "cell_type": "code",
   "execution_count": null,
   "metadata": {
    "ExecuteTime": {
     "end_time": "2020-08-26T19:17:59.473689Z",
     "start_time": "2020-08-26T19:17:46.631Z"
    }
   },
   "outputs": [],
   "source": [
    "fig, ax = plt.subplots(figsize=(10,10))\n",
    "ax.scatter(embedding[:, 0], embedding[:, 1], c=np.argmax(predictions, axis=1), s= 1, alpha = 1, cmap = plt.cm.tab10)"
   ]
  },
  {
   "cell_type": "code",
   "execution_count": null,
   "metadata": {
    "ExecuteTime": {
     "end_time": "2020-08-26T19:17:59.474230Z",
     "start_time": "2020-08-26T19:17:46.632Z"
    }
   },
   "outputs": [],
   "source": [
    "Y_test_one_hot = tf.keras.backend.one_hot(\n",
    "    Y_test, num_classes\n",
    ")\n",
    "result = model.evaluate(X_test, Y_test_one_hot)"
   ]
  },
  {
   "cell_type": "markdown",
   "metadata": {},
   "source": [
    "### save results"
   ]
  },
  {
   "cell_type": "code",
   "execution_count": null,
   "metadata": {
    "ExecuteTime": {
     "end_time": "2020-08-26T19:17:59.474741Z",
     "start_time": "2020-08-26T19:17:46.634Z"
    }
   },
   "outputs": [],
   "source": [
    "# save score, valid embedding, weights, results"
   ]
  },
  {
   "cell_type": "code",
   "execution_count": null,
   "metadata": {
    "ExecuteTime": {
     "end_time": "2020-08-26T19:17:59.475276Z",
     "start_time": "2020-08-26T19:17:46.636Z"
    }
   },
   "outputs": [],
   "source": [
    "from tfumap.paths import MODEL_DIR, ensure_dir"
   ]
  },
  {
   "cell_type": "code",
   "execution_count": null,
   "metadata": {
    "ExecuteTime": {
     "end_time": "2020-08-26T19:17:59.475883Z",
     "start_time": "2020-08-26T19:17:46.637Z"
    }
   },
   "outputs": [],
   "source": [
    "save_folder = MODEL_DIR / 'semisupervised-keras' / dataset / str(labels_per_class) / datestring\n",
    "ensure_dir(save_folder)"
   ]
  },
  {
   "cell_type": "markdown",
   "metadata": {
    "ExecuteTime": {
     "end_time": "2020-08-10T06:16:55.467933Z",
     "start_time": "2020-08-10T06:16:55.418378Z"
    }
   },
   "source": [
    "#### save weights"
   ]
  },
  {
   "cell_type": "code",
   "execution_count": null,
   "metadata": {
    "ExecuteTime": {
     "end_time": "2020-08-26T19:17:59.476417Z",
     "start_time": "2020-08-26T19:17:46.639Z"
    }
   },
   "outputs": [],
   "source": [
    "encoder = tf.keras.models.Model(\n",
    "        [model.inputs[0]], [model.get_layer('z').output]\n",
    ")"
   ]
  },
  {
   "cell_type": "code",
   "execution_count": null,
   "metadata": {
    "ExecuteTime": {
     "end_time": "2020-08-26T19:17:59.476971Z",
     "start_time": "2020-08-26T19:17:46.643Z"
    }
   },
   "outputs": [],
   "source": [
    "encoder.save_weights((save_folder / \"encoder\").as_posix())"
   ]
  },
  {
   "cell_type": "code",
   "execution_count": null,
   "metadata": {
    "ExecuteTime": {
     "end_time": "2020-08-26T19:17:59.477467Z",
     "start_time": "2020-08-26T19:17:46.644Z"
    }
   },
   "outputs": [],
   "source": [
    "classifier = tf.keras.models.Model(\n",
    "        [tf.keras.Input(tensor=model.get_layer('weight_normalization').input)], [model.outputs[0]]\n",
    ")\n",
    "print([i.name for i in classifier.layers])"
   ]
  },
  {
   "cell_type": "code",
   "execution_count": null,
   "metadata": {
    "ExecuteTime": {
     "end_time": "2020-08-26T19:17:59.478023Z",
     "start_time": "2020-08-26T19:17:46.646Z"
    }
   },
   "outputs": [],
   "source": [
    "classifier.save_weights((save_folder / \"classifier\").as_posix())"
   ]
  },
  {
   "cell_type": "markdown",
   "metadata": {},
   "source": [
    "#### save score"
   ]
  },
  {
   "cell_type": "code",
   "execution_count": null,
   "metadata": {
    "ExecuteTime": {
     "end_time": "2020-08-26T19:17:59.478605Z",
     "start_time": "2020-08-26T19:17:46.648Z"
    }
   },
   "outputs": [],
   "source": [
    "Y_test_one_hot = tf.keras.backend.one_hot(\n",
    "    Y_test, num_classes\n",
    ")\n",
    "result = model.evaluate(X_test, Y_test_one_hot)"
   ]
  },
  {
   "cell_type": "code",
   "execution_count": null,
   "metadata": {
    "ExecuteTime": {
     "end_time": "2020-08-26T19:17:59.479152Z",
     "start_time": "2020-08-26T19:17:46.649Z"
    }
   },
   "outputs": [],
   "source": [
    "np.save(save_folder / 'test_loss.npy', result)"
   ]
  },
  {
   "cell_type": "markdown",
   "metadata": {},
   "source": [
    "#### save embedding"
   ]
  },
  {
   "cell_type": "code",
   "execution_count": null,
   "metadata": {
    "ExecuteTime": {
     "end_time": "2020-08-26T19:17:59.479704Z",
     "start_time": "2020-08-26T19:17:46.651Z"
    }
   },
   "outputs": [],
   "source": [
    "z = encoder.predict(X_train)"
   ]
  },
  {
   "cell_type": "code",
   "execution_count": null,
   "metadata": {
    "ExecuteTime": {
     "end_time": "2020-08-26T19:17:59.480259Z",
     "start_time": "2020-08-26T19:17:46.653Z"
    }
   },
   "outputs": [],
   "source": [
    "reducer = umap.UMAP(verbose=True)\n",
    "\n",
    "embedding = reducer.fit_transform(z.reshape(len(z), np.product(np.shape(z)[1:])))\n",
    "\n",
    "plt.scatter(embedding[:, 0], embedding[:, 1], c=Y_train.flatten(), s= 1, alpha = 0.1, cmap = plt.cm.tab10)"
   ]
  },
  {
   "cell_type": "code",
   "execution_count": null,
   "metadata": {
    "ExecuteTime": {
     "end_time": "2020-08-26T19:17:59.480838Z",
     "start_time": "2020-08-26T19:17:46.654Z"
    }
   },
   "outputs": [],
   "source": [
    "np.save(save_folder / 'train_embedding.npy', embedding)"
   ]
  },
  {
   "cell_type": "markdown",
   "metadata": {},
   "source": [
    "#### save results"
   ]
  },
  {
   "cell_type": "code",
   "execution_count": null,
   "metadata": {
    "ExecuteTime": {
     "end_time": "2020-08-26T19:17:59.481387Z",
     "start_time": "2020-08-26T19:17:46.656Z"
    }
   },
   "outputs": [],
   "source": [
    "import pickle"
   ]
  },
  {
   "cell_type": "code",
   "execution_count": null,
   "metadata": {
    "ExecuteTime": {
     "end_time": "2020-08-26T19:17:59.481917Z",
     "start_time": "2020-08-26T19:17:46.657Z"
    }
   },
   "outputs": [],
   "source": [
    "with open(save_folder / 'history.pickle', 'wb') as file_pi:\n",
    "    pickle.dump(history.history, file_pi)"
   ]
  },
  {
   "cell_type": "code",
   "execution_count": null,
   "metadata": {
    "ExecuteTime": {
     "end_time": "2020-08-26T19:17:59.482492Z",
     "start_time": "2020-08-26T19:17:46.659Z"
    }
   },
   "outputs": [],
   "source": [
    "print('test')"
   ]
  },
  {
   "cell_type": "code",
   "execution_count": null,
   "metadata": {},
   "outputs": [],
   "source": []
  },
  {
   "cell_type": "code",
   "execution_count": null,
   "metadata": {},
   "outputs": [],
   "source": []
  },
  {
   "cell_type": "code",
   "execution_count": null,
   "metadata": {},
   "outputs": [],
   "source": []
  },
  {
   "cell_type": "code",
   "execution_count": null,
   "metadata": {},
   "outputs": [],
   "source": []
  }
 ],
 "metadata": {
  "kernelspec": {
   "display_name": "Python 3",
   "language": "python",
   "name": "python3"
  },
  "language_info": {
   "codemirror_mode": {
    "name": "ipython",
    "version": 3
   },
   "file_extension": ".py",
   "mimetype": "text/x-python",
   "name": "python",
   "nbconvert_exporter": "python",
   "pygments_lexer": "ipython3",
   "version": "3.6.7"
  }
 },
 "nbformat": 4,
 "nbformat_minor": 2
}
