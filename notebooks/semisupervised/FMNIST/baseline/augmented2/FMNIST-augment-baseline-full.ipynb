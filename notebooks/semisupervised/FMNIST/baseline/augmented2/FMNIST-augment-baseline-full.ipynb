{
 "cells": [
  {
   "cell_type": "code",
   "execution_count": 1,
   "metadata": {
    "ExecuteTime": {
     "end_time": "2020-08-26T04:39:16.406497Z",
     "start_time": "2020-08-26T04:39:16.393381Z"
    }
   },
   "outputs": [],
   "source": [
    "# reload packages\n",
    "%load_ext autoreload\n",
    "%autoreload 2"
   ]
  },
  {
   "cell_type": "markdown",
   "metadata": {},
   "source": [
    "### Choose GPU"
   ]
  },
  {
   "cell_type": "code",
   "execution_count": 2,
   "metadata": {
    "ExecuteTime": {
     "end_time": "2020-08-26T04:39:16.423278Z",
     "start_time": "2020-08-26T04:39:16.409721Z"
    }
   },
   "outputs": [
    {
     "name": "stdout",
     "output_type": "stream",
     "text": [
      "env: CUDA_DEVICE_ORDER=PCI_BUS_ID\n",
      "env: CUDA_VISIBLE_DEVICES=1\n"
     ]
    }
   ],
   "source": [
    "%env CUDA_DEVICE_ORDER=PCI_BUS_ID\n",
    "%env CUDA_VISIBLE_DEVICES=1"
   ]
  },
  {
   "cell_type": "code",
   "execution_count": 3,
   "metadata": {
    "ExecuteTime": {
     "end_time": "2020-08-26T04:39:21.845846Z",
     "start_time": "2020-08-26T04:39:16.424586Z"
    }
   },
   "outputs": [
    {
     "name": "stdout",
     "output_type": "stream",
     "text": [
      "[PhysicalDevice(name='/physical_device:GPU:0', device_type='GPU')]\n"
     ]
    }
   ],
   "source": [
    "import tensorflow as tf\n",
    "gpu_devices = tf.config.experimental.list_physical_devices('GPU')\n",
    "if len(gpu_devices)>0:\n",
    "    tf.config.experimental.set_memory_growth(gpu_devices[0], True)\n",
    "print(gpu_devices)\n",
    "tf.keras.backend.clear_session()"
   ]
  },
  {
   "cell_type": "markdown",
   "metadata": {},
   "source": [
    "### dataset information"
   ]
  },
  {
   "cell_type": "code",
   "execution_count": 4,
   "metadata": {
    "ExecuteTime": {
     "end_time": "2020-08-26T04:39:21.887481Z",
     "start_time": "2020-08-26T04:39:21.848128Z"
    }
   },
   "outputs": [
    {
     "name": "stdout",
     "output_type": "stream",
     "text": [
      "fmnist_full____2020_08_25_22_20_54_702235_baseline_augmented\n"
     ]
    }
   ],
   "source": [
    "from datetime import datetime\n",
    "\n",
    "dataset = \"fmnist\"\n",
    "dims = (28, 28, 1)\n",
    "num_classes = 10\n",
    "labels_per_class = 'full' # full\n",
    "batch_size = 128\n",
    "datestring = datetime.now().strftime(\"%Y_%m_%d_%H_%M_%S_%f\")\n",
    "datestring = (\n",
    "    str(dataset)\n",
    "    + \"_\"\n",
    "    + str(labels_per_class)\n",
    "    + \"____\"\n",
    "    + datestring \n",
    "    + '_baseline_augmented'\n",
    ")\n",
    "print(datestring)"
   ]
  },
  {
   "cell_type": "markdown",
   "metadata": {},
   "source": [
    "### Load packages"
   ]
  },
  {
   "cell_type": "code",
   "execution_count": 5,
   "metadata": {
    "ExecuteTime": {
     "end_time": "2020-08-26T04:39:23.727405Z",
     "start_time": "2020-08-26T04:39:21.888927Z"
    }
   },
   "outputs": [
    {
     "name": "stderr",
     "output_type": "stream",
     "text": [
      "/mnt/cube/tsainbur/conda_envs/tpy3/lib/python3.6/site-packages/tqdm/autonotebook/__init__.py:14: TqdmExperimentalWarning: Using `tqdm.autonotebook.tqdm` in notebook mode. Use `tqdm.tqdm` instead to force console mode (e.g. in jupyter console)\n",
      "  \" (e.g. in jupyter console)\", TqdmExperimentalWarning)\n"
     ]
    }
   ],
   "source": [
    "import tensorflow as tf\n",
    "import numpy as np\n",
    "import matplotlib.pyplot as plt\n",
    "from tqdm.autonotebook import tqdm\n",
    "from IPython import display\n",
    "import pandas as pd\n",
    "import umap\n",
    "import copy\n",
    "import os, tempfile"
   ]
  },
  {
   "cell_type": "markdown",
   "metadata": {},
   "source": [
    "### Load dataset"
   ]
  },
  {
   "cell_type": "code",
   "execution_count": 6,
   "metadata": {
    "ExecuteTime": {
     "end_time": "2020-08-26T04:39:23.730724Z",
     "start_time": "2020-08-26T04:39:16.161Z"
    }
   },
   "outputs": [
    {
     "data": {
      "text/plain": [
       "(50000, 28, 28, 1)"
      ]
     },
     "execution_count": 6,
     "metadata": {},
     "output_type": "execute_result"
    }
   ],
   "source": [
    "from tfumap.load_datasets import load_FMNIST, mask_labels\n",
    "X_train, X_test, X_valid, Y_train, Y_test, Y_valid = load_FMNIST(flatten=False)\n",
    "X_train.shape"
   ]
  },
  {
   "cell_type": "code",
   "execution_count": 7,
   "metadata": {
    "ExecuteTime": {
     "end_time": "2020-08-26T04:39:23.731562Z",
     "start_time": "2020-08-26T04:39:16.163Z"
    }
   },
   "outputs": [],
   "source": [
    "if labels_per_class == \"full\":\n",
    "    X_labeled = X_train\n",
    "    Y_masked = Y_labeled = Y_train\n",
    "else:\n",
    "    X_labeled, Y_labeled, Y_masked = mask_labels(\n",
    "        X_train, Y_train, labels_per_class=labels_per_class\n",
    "    )"
   ]
  },
  {
   "cell_type": "markdown",
   "metadata": {},
   "source": [
    "### Build network"
   ]
  },
  {
   "cell_type": "code",
   "execution_count": 8,
   "metadata": {
    "ExecuteTime": {
     "end_time": "2020-08-26T04:39:23.732379Z",
     "start_time": "2020-08-26T04:39:16.165Z"
    }
   },
   "outputs": [],
   "source": [
    "from tensorflow.keras import datasets, layers, models\n",
    "from tensorflow_addons.layers import WeightNormalization\n",
    "\n",
    "def conv_block(filts, name, kernel_size = (3, 3), padding = \"same\", **kwargs):\n",
    "    return WeightNormalization(\n",
    "        layers.Conv2D(\n",
    "            filts, kernel_size, activation=None, padding=padding, **kwargs\n",
    "        ),\n",
    "        name=\"conv\"+name,\n",
    "    )\n",
    "#CNN13\n",
    "#See: \n",
    "#https://github.com/vikasverma1077/ICT/blob/master/networks/lenet.py\n",
    "#https://github.com/brain-research/realistic-ssl-evaluation"
   ]
  },
  {
   "cell_type": "code",
   "execution_count": 9,
   "metadata": {
    "ExecuteTime": {
     "end_time": "2020-08-26T04:39:23.733384Z",
     "start_time": "2020-08-26T04:39:16.167Z"
    }
   },
   "outputs": [],
   "source": [
    "lr_alpha = 0.1\n",
    "dropout_rate = 0.5\n",
    "num_classes = 10\n",
    "input_shape = dims\n",
    "model = models.Sequential()\n",
    "model.add(tf.keras.Input(shape=input_shape))\n",
    "### conv1a\n",
    "name = '1a'\n",
    "model.add(conv_block(name = name, filts = 128, kernel_size = (3,3), padding=\"same\"))\n",
    "model.add(layers.BatchNormalization(name=\"bn\"+name))\n",
    "model.add(layers.LeakyReLU(alpha=lr_alpha, name = 'lrelu'+name))\n",
    "\n",
    "### conv1b\n",
    "name = '1b'\n",
    "model.add(conv_block(name = name, filts = 128, kernel_size = (3,3), padding=\"same\"))\n",
    "model.add(layers.BatchNormalization(name=\"bn\"+name))\n",
    "model.add(layers.LeakyReLU(alpha=lr_alpha, name = 'lrelu'+name))\n",
    "\n",
    "### conv1c\n",
    "name = '1c'\n",
    "model.add(conv_block(name = name, filts = 128, kernel_size = (3,3), padding=\"same\"))\n",
    "model.add(layers.BatchNormalization(name=\"bn\"+name))\n",
    "model.add(layers.LeakyReLU(alpha=lr_alpha, name = 'lrelu'+name))\n",
    "\n",
    "# max pooling\n",
    "model.add(layers.MaxPooling2D(pool_size=(2, 2), strides=2, padding='valid', name=\"mp1\"))\n",
    "# dropout\n",
    "model.add(layers.Dropout(dropout_rate, name=\"drop1\"))\n",
    "\n",
    "### conv2a\n",
    "name = '2a'\n",
    "model.add(conv_block(name = name, filts = 256, kernel_size = (3,3), padding=\"same\"))\n",
    "model.add(layers.BatchNormalization(name=\"bn\"+name))\n",
    "model.add(layers.LeakyReLU(alpha=lr_alpha))\n",
    "\n",
    "### conv2b\n",
    "name = '2b'\n",
    "model.add(conv_block(name = name, filts = 256, kernel_size = (3,3), padding=\"same\"))\n",
    "model.add(layers.BatchNormalization(name=\"bn\"+name))\n",
    "model.add(layers.LeakyReLU(alpha=lr_alpha, name = 'lrelu'+name))\n",
    "\n",
    "### conv2c\n",
    "name = '2c'\n",
    "model.add(conv_block(name = name, filts = 256, kernel_size = (3,3), padding=\"same\"))\n",
    "model.add(layers.BatchNormalization(name=\"bn\"+name))\n",
    "model.add(layers.LeakyReLU(alpha=lr_alpha, name = 'lrelu'+name))\n",
    "\n",
    "# max pooling\n",
    "model.add(layers.MaxPooling2D(pool_size=(2, 2), strides=2, padding='valid', name=\"mp2\"))\n",
    "# dropout\n",
    "model.add(layers.Dropout(dropout_rate, name=\"drop2\"))\n",
    "\n",
    "### conv3a\n",
    "name = '3a'\n",
    "model.add(conv_block(name = name, filts = 512, kernel_size = (3,3), padding=\"valid\"))\n",
    "model.add(layers.BatchNormalization(name=\"bn\"+name))\n",
    "model.add(layers.LeakyReLU(alpha=lr_alpha, name = 'lrelu'+name))\n",
    "\n",
    "### conv3b\n",
    "name = '3b'\n",
    "model.add(conv_block(name = name, filts = 256, kernel_size = (1,1), padding=\"valid\"))\n",
    "model.add(layers.BatchNormalization(name=\"bn\"+name))\n",
    "model.add(layers.LeakyReLU(alpha=lr_alpha, name = 'lrelu'+name))\n",
    "\n",
    "### conv3c\n",
    "name = '3c'\n",
    "model.add(conv_block(name = name, filts = 128, kernel_size = (1,1), padding=\"valid\"))\n",
    "model.add(layers.BatchNormalization(name=\"bn\"+name))\n",
    "model.add(layers.LeakyReLU(alpha=lr_alpha, name = 'lrelu'+name))\n",
    "\n",
    "# max pooling\n",
    "model.add(layers.AveragePooling2D(pool_size=(3, 3), strides=2, padding='valid'))\n",
    "\n",
    "\n",
    "model.add(layers.Flatten())\n",
    "model.add(layers.Dense(256, activation=None, name='z'))\n",
    "model.add(WeightNormalization(layers.Dense(256, activation=None)))\n",
    "model.add(layers.LeakyReLU(alpha=lr_alpha, name = 'lrelufc1'))\n",
    "model.add(WeightNormalization(layers.Dense(256, activation=None)))\n",
    "model.add(layers.LeakyReLU(alpha=lr_alpha, name = 'lrelufc2'))\n",
    "model.add(WeightNormalization(layers.Dense(num_classes, activation=None)))"
   ]
  },
  {
   "cell_type": "code",
   "execution_count": 10,
   "metadata": {
    "ExecuteTime": {
     "end_time": "2020-08-26T04:39:23.734002Z",
     "start_time": "2020-08-26T04:39:16.170Z"
    }
   },
   "outputs": [
    {
     "name": "stdout",
     "output_type": "stream",
     "text": [
      "Model: \"sequential\"\n",
      "_________________________________________________________________\n",
      "Layer (type)                 Output Shape              Param #   \n",
      "=================================================================\n",
      "conv1a (WeightNormalization) (None, 28, 28, 128)       2689      \n",
      "_________________________________________________________________\n",
      "bn1a (BatchNormalization)    (None, 28, 28, 128)       512       \n",
      "_________________________________________________________________\n",
      "lrelu1a (LeakyReLU)          (None, 28, 28, 128)       0         \n",
      "_________________________________________________________________\n",
      "conv1b (WeightNormalization) (None, 28, 28, 128)       295297    \n",
      "_________________________________________________________________\n",
      "bn1b (BatchNormalization)    (None, 28, 28, 128)       512       \n",
      "_________________________________________________________________\n",
      "lrelu1b (LeakyReLU)          (None, 28, 28, 128)       0         \n",
      "_________________________________________________________________\n",
      "conv1c (WeightNormalization) (None, 28, 28, 128)       295297    \n",
      "_________________________________________________________________\n",
      "bn1c (BatchNormalization)    (None, 28, 28, 128)       512       \n",
      "_________________________________________________________________\n",
      "lrelu1c (LeakyReLU)          (None, 28, 28, 128)       0         \n",
      "_________________________________________________________________\n",
      "mp1 (MaxPooling2D)           (None, 14, 14, 128)       0         \n",
      "_________________________________________________________________\n",
      "drop1 (Dropout)              (None, 14, 14, 128)       0         \n",
      "_________________________________________________________________\n",
      "conv2a (WeightNormalization) (None, 14, 14, 256)       590593    \n",
      "_________________________________________________________________\n",
      "bn2a (BatchNormalization)    (None, 14, 14, 256)       1024      \n",
      "_________________________________________________________________\n",
      "leaky_re_lu (LeakyReLU)      (None, 14, 14, 256)       0         \n",
      "_________________________________________________________________\n",
      "conv2b (WeightNormalization) (None, 14, 14, 256)       1180417   \n",
      "_________________________________________________________________\n",
      "bn2b (BatchNormalization)    (None, 14, 14, 256)       1024      \n",
      "_________________________________________________________________\n",
      "lrelu2b (LeakyReLU)          (None, 14, 14, 256)       0         \n",
      "_________________________________________________________________\n",
      "conv2c (WeightNormalization) (None, 14, 14, 256)       1180417   \n",
      "_________________________________________________________________\n",
      "bn2c (BatchNormalization)    (None, 14, 14, 256)       1024      \n",
      "_________________________________________________________________\n",
      "lrelu2c (LeakyReLU)          (None, 14, 14, 256)       0         \n",
      "_________________________________________________________________\n",
      "mp2 (MaxPooling2D)           (None, 7, 7, 256)         0         \n",
      "_________________________________________________________________\n",
      "drop2 (Dropout)              (None, 7, 7, 256)         0         \n",
      "_________________________________________________________________\n",
      "conv3a (WeightNormalization) (None, 5, 5, 512)         2360833   \n",
      "_________________________________________________________________\n",
      "bn3a (BatchNormalization)    (None, 5, 5, 512)         2048      \n",
      "_________________________________________________________________\n",
      "lrelu3a (LeakyReLU)          (None, 5, 5, 512)         0         \n",
      "_________________________________________________________________\n",
      "conv3b (WeightNormalization) (None, 5, 5, 256)         262913    \n",
      "_________________________________________________________________\n",
      "bn3b (BatchNormalization)    (None, 5, 5, 256)         1024      \n",
      "_________________________________________________________________\n",
      "lrelu3b (LeakyReLU)          (None, 5, 5, 256)         0         \n",
      "_________________________________________________________________\n",
      "conv3c (WeightNormalization) (None, 5, 5, 128)         65921     \n",
      "_________________________________________________________________\n",
      "bn3c (BatchNormalization)    (None, 5, 5, 128)         512       \n",
      "_________________________________________________________________\n",
      "lrelu3c (LeakyReLU)          (None, 5, 5, 128)         0         \n",
      "_________________________________________________________________\n",
      "average_pooling2d (AveragePo (None, 2, 2, 128)         0         \n",
      "_________________________________________________________________\n",
      "flatten (Flatten)            (None, 512)               0         \n",
      "_________________________________________________________________\n",
      "z (Dense)                    (None, 256)               131328    \n",
      "_________________________________________________________________\n",
      "weight_normalization (Weight (None, 256)               131841    \n",
      "_________________________________________________________________\n",
      "lrelufc1 (LeakyReLU)         (None, 256)               0         \n",
      "_________________________________________________________________\n",
      "weight_normalization_1 (Weig (None, 256)               131841    \n",
      "_________________________________________________________________\n",
      "lrelufc2 (LeakyReLU)         (None, 256)               0         \n",
      "_________________________________________________________________\n",
      "weight_normalization_2 (Weig (None, 10)                5151      \n",
      "=================================================================\n",
      "Total params: 6,642,730\n",
      "Trainable params: 3,388,308\n",
      "Non-trainable params: 3,254,422\n",
      "_________________________________________________________________\n"
     ]
    }
   ],
   "source": [
    "model.summary()"
   ]
  },
  {
   "cell_type": "markdown",
   "metadata": {},
   "source": [
    "### Augmentation"
   ]
  },
  {
   "cell_type": "code",
   "execution_count": 11,
   "metadata": {
    "ExecuteTime": {
     "end_time": "2020-08-26T04:39:23.734627Z",
     "start_time": "2020-08-26T04:39:16.172Z"
    }
   },
   "outputs": [],
   "source": [
    "import tensorflow_addons as tfa\n",
    "\n",
    "def norm(x):\n",
    "    return( x - tf.reduce_min(x))#/(tf.reduce_max(x) - tf.reduce_min(x))\n",
    "\n",
    "def augment(image, label):\n",
    "    \n",
    "    if tf.random.uniform((1,), minval=0, maxval = 2, dtype=tf.int32)[0] == 0:\n",
    "        # stretch\n",
    "        randint_hor = tf.random.uniform((2,), minval=0, maxval = 8, dtype=tf.int32)[0]\n",
    "        randint_vert = tf.random.uniform((2,), minval=0, maxval = 8, dtype=tf.int32)[0]\n",
    "        image = tf.image.resize(image, (dims[0]+randint_vert*2, dims[1]+randint_hor*2))\n",
    "        #image = tf.image.crop_to_bounding_box(image, randint_vert,randint_hor,28,28)\n",
    "        image = tf.image.resize_with_pad(\n",
    "            image, dims[0], dims[1]\n",
    "        )  \n",
    "\n",
    "        image = tf.image.resize_with_crop_or_pad(\n",
    "            image, dims[0] + 3, dims[1] + 3\n",
    "        )  # crop 6 pixels\n",
    "        image = tf.image.random_crop(image, size=dims)\n",
    "    if tf.random.uniform((1,), minval=0, maxval = 2, dtype=tf.int32)[0] == 0:\n",
    "        image = tfa.image.rotate(\n",
    "            image,\n",
    "            tf.squeeze(tf.random.uniform(shape=(1, 1), minval=-0.1, maxval=0.1)),\n",
    "            interpolation=\"BILINEAR\",\n",
    "        )\n",
    "    \n",
    "    image = tf.image.random_flip_left_right(image)\n",
    "    image = tf.clip_by_value(image, 0, 1)\n",
    "    if tf.random.uniform((1,), minval=0, maxval = 2, dtype=tf.int32)[0] == 0:\n",
    "        image = tf.image.random_brightness(image, max_delta=0.5)  # Random brightness\n",
    "        image = tf.image.random_contrast(image, lower=0.5, upper=1.75)\n",
    "        image = norm(image)\n",
    "    \n",
    "        image = tf.clip_by_value(image, 0, 1)\n",
    "    \n",
    "    image = tfa.image.random_cutout(\n",
    "        tf.expand_dims(image, 0), (8, 8), constant_values=0.5\n",
    "    )[0]\n",
    "\n",
    "    image = tf.clip_by_value(image, 0, 1)\n",
    "    return image, label"
   ]
  },
  {
   "cell_type": "code",
   "execution_count": 12,
   "metadata": {
    "ExecuteTime": {
     "end_time": "2020-08-26T04:39:23.735204Z",
     "start_time": "2020-08-26T04:39:16.174Z"
    }
   },
   "outputs": [
    {
     "data": {
      "image/png": "[encoded data removed]",
      "text/plain": [
       "<Figure size 1584x144 with 11 Axes>"
      ]
     },
     "metadata": {
      "needs_background": "light"
     },
     "output_type": "display_data"
    },
    {
     "data": {
      "image/png": "[encoded data removed]",
      "text/plain": [
       "<Figure size 1584x144 with 11 Axes>"
      ]
     },
     "metadata": {
      "needs_background": "light"
     },
     "output_type": "display_data"
    },
    {
     "data": {
      "image/png": "[encoded data removed]",
      "text/plain": [
       "<Figure size 1584x144 with 11 Axes>"
      ]
     },
     "metadata": {
      "needs_background": "light"
     },
     "output_type": "display_data"
    },
    {
     "data": {
      "image/png": "[encoded data removed]",
      "text/plain": [
       "<Figure size 1584x144 with 11 Axes>"
      ]
     },
     "metadata": {
      "needs_background": "light"
     },
     "output_type": "display_data"
    },
    {
     "data": {
      "image/png": "[encoded data removed]",
      "text/plain": [
       "<Figure size 1584x144 with 11 Axes>"
      ]
     },
     "metadata": {
      "needs_background": "light"
     },
     "output_type": "display_data"
    }
   ],
   "source": [
    "nex = 10\n",
    "for i in range(5):\n",
    "    fig, axs = plt.subplots(ncols=nex +1, figsize=((nex+1)*2, 2))\n",
    "    axs[0].imshow(np.squeeze(X_train[i]), cmap = plt.cm.Greys)\n",
    "    axs[0].axis('off')\n",
    "    for ax in axs.flatten()[1:]:\n",
    "        aug_img = np.squeeze(augment(X_train[i], Y_train[i])[0])\n",
    "        ax.matshow(aug_img, cmap = plt.cm.Greys, vmin=0, vmax=1)\n",
    "        ax.axis('off')"
   ]
  },
  {
   "cell_type": "markdown",
   "metadata": {},
   "source": [
    "### train"
   ]
  },
  {
   "cell_type": "code",
   "execution_count": 13,
   "metadata": {
    "ExecuteTime": {
     "end_time": "2020-08-26T04:39:23.735751Z",
     "start_time": "2020-08-26T04:39:16.176Z"
    }
   },
   "outputs": [],
   "source": [
    "early_stopping = tf.keras.callbacks.EarlyStopping(\n",
    "    monitor='val_accuracy', min_delta=0, patience=100, verbose=1, mode='auto',\n",
    "    baseline=None, restore_best_weights=True\n",
    ")"
   ]
  },
  {
   "cell_type": "code",
   "execution_count": 14,
   "metadata": {
    "ExecuteTime": {
     "end_time": "2020-08-26T04:39:23.736245Z",
     "start_time": "2020-08-26T04:39:16.178Z"
    }
   },
   "outputs": [
    {
     "name": "stdout",
     "output_type": "stream",
     "text": [
      "(28, 28, 1)\n",
      "(28, 28, 1)\n"
     ]
    }
   ],
   "source": [
    "image = X_train[i]\n",
    "print(image.shape)\n",
    "# stretch\n",
    "# stretch\n",
    "randint_hor = tf.random.uniform((2,), minval=0, maxval = 8, dtype=tf.int32)[0]\n",
    "randint_vert = tf.random.uniform((2,), minval=0, maxval = 8, dtype=tf.int32)[0]\n",
    "image = tf.image.resize(image, (dims[0]+randint_vert*2, dims[1]+randint_hor*2))\n",
    "image = tf.image.crop_to_bounding_box(image, randint_vert,randint_hor,28,28)\n",
    "print(image.shape)"
   ]
  },
  {
   "cell_type": "code",
   "execution_count": 15,
   "metadata": {
    "ExecuteTime": {
     "end_time": "2020-08-26T04:39:23.736935Z",
     "start_time": "2020-08-26T04:39:16.180Z"
    }
   },
   "outputs": [
    {
     "data": {
      "text/plain": [
       "<matplotlib.image.AxesImage at 0x7f64287cb6a0>"
      ]
     },
     "execution_count": 15,
     "metadata": {},
     "output_type": "execute_result"
    },
    {
     "data": {
      "image/png": "[encoded data removed]",
      "text/plain": [
       "<Figure size 288x288 with 1 Axes>"
      ]
     },
     "metadata": {
      "needs_background": "light"
     },
     "output_type": "display_data"
    }
   ],
   "source": [
    "plt.matshow(np.squeeze(image), cmap = plt.cm.Greys, vmin=0, vmax=1)"
   ]
  },
  {
   "cell_type": "code",
   "execution_count": 16,
   "metadata": {
    "ExecuteTime": {
     "end_time": "2020-08-26T04:39:23.737478Z",
     "start_time": "2020-08-26T04:39:16.181Z"
    }
   },
   "outputs": [],
   "source": [
    "import tensorflow_addons as tfa"
   ]
  },
  {
   "cell_type": "code",
   "execution_count": 17,
   "metadata": {
    "ExecuteTime": {
     "end_time": "2020-08-26T04:39:23.737961Z",
     "start_time": "2020-08-26T04:39:16.184Z"
    }
   },
   "outputs": [],
   "source": [
    "opt = tf.keras.optimizers.Adam(1e-4)\n",
    "opt = tfa.optimizers.MovingAverage(opt)\n",
    "loss = tf.keras.losses.CategoricalCrossentropy(label_smoothing=0.2, from_logits=True)\n",
    "model.compile(opt, loss = loss, metrics=['accuracy'])"
   ]
  },
  {
   "cell_type": "code",
   "execution_count": 18,
   "metadata": {
    "ExecuteTime": {
     "end_time": "2020-08-26T04:39:23.738574Z",
     "start_time": "2020-08-26T04:39:16.187Z"
    }
   },
   "outputs": [],
   "source": [
    "Y_valid_one_hot = tf.keras.backend.one_hot(\n",
    "    Y_valid, num_classes\n",
    ")"
   ]
  },
  {
   "cell_type": "code",
   "execution_count": 19,
   "metadata": {
    "ExecuteTime": {
     "end_time": "2020-08-26T04:39:23.739036Z",
     "start_time": "2020-08-26T04:39:16.189Z"
    }
   },
   "outputs": [],
   "source": [
    "Y_labeled_one_hot = tf.keras.backend.one_hot(\n",
    "    Y_labeled, num_classes\n",
    ")"
   ]
  },
  {
   "cell_type": "code",
   "execution_count": 20,
   "metadata": {
    "ExecuteTime": {
     "end_time": "2020-08-26T04:39:23.739536Z",
     "start_time": "2020-08-26T04:39:16.191Z"
    }
   },
   "outputs": [],
   "source": [
    "from livelossplot import PlotLossesKerasTF\n",
    "# plot losses callback\n",
    "plotlosses = PlotLossesKerasTF()"
   ]
  },
  {
   "cell_type": "code",
   "execution_count": 21,
   "metadata": {
    "ExecuteTime": {
     "end_time": "2020-08-26T04:39:23.740087Z",
     "start_time": "2020-08-26T04:39:16.192Z"
    }
   },
   "outputs": [],
   "source": [
    "train_ds = (\n",
    "     tf.data.Dataset.from_tensor_slices((X_labeled, Y_labeled_one_hot))\n",
    "    .repeat()\n",
    "    .shuffle(len(X_labeled))\n",
    "    .map(augment, num_parallel_calls=tf.data.experimental.AUTOTUNE)\n",
    "    .batch(batch_size)\n",
    "    .prefetch(tf.data.experimental.AUTOTUNE)\n",
    ") "
   ]
  },
  {
   "cell_type": "code",
   "execution_count": null,
   "metadata": {
    "ExecuteTime": {
     "end_time": "2020-08-26T04:39:23.740594Z",
     "start_time": "2020-08-26T04:39:16.194Z"
    },
    "scrolled": false
   },
   "outputs": [
    {
     "data": {
      "image/png": "[encoded data removed]",
      "text/plain": [
       "<Figure size 864x576 with 2 Axes>"
      ]
     },
     "metadata": {
      "needs_background": "light"
     },
     "output_type": "display_data"
    },
    {
     "name": "stdout",
     "output_type": "stream",
     "text": [
      "accuracy\n",
      "\ttraining         \t (min:    0.653, max:    0.962, cur:    0.960)\n",
      "\tvalidation       \t (min:    0.798, max:    0.954, cur:    0.952)\n",
      "Loss\n",
      "\ttraining         \t (min:    0.939, max:    1.490, cur:    0.941)\n",
      "\tvalidation       \t (min:    0.953, max:    1.325, cur:    0.958)\n",
      "390/390 [==============================] - 253s 649ms/step - loss: 0.9408 - accuracy: 0.9602 - val_loss: 0.9584 - val_accuracy: 0.9518\n",
      "Epoch 199/500\n",
      "330/390 [========================>.....] - ETA: 34s - loss: 0.9392 - accuracy: 0.9606"
     ]
    }
   ],
   "source": [
    "steps_per_epoch = int(len(X_train)/ batch_size)\n",
    "\n",
    "history = model.fit(\n",
    "    train_ds,\n",
    "    epochs=500,\n",
    "    validation_data=(X_valid, Y_valid_one_hot),\n",
    "    callbacks = [early_stopping, plotlosses],\n",
    "    steps_per_epoch = steps_per_epoch,\n",
    ")"
   ]
  },
  {
   "cell_type": "code",
   "execution_count": null,
   "metadata": {
    "ExecuteTime": {
     "end_time": "2020-08-26T04:39:23.741084Z",
     "start_time": "2020-08-26T04:39:16.196Z"
    }
   },
   "outputs": [],
   "source": [
    "plt.plot(history.history['loss'])\n",
    "plt.plot(history.history['val_loss'])"
   ]
  },
  {
   "cell_type": "code",
   "execution_count": null,
   "metadata": {
    "ExecuteTime": {
     "end_time": "2020-08-26T04:39:23.741658Z",
     "start_time": "2020-08-26T04:39:16.198Z"
    }
   },
   "outputs": [],
   "source": [
    "plt.plot(history.history['accuracy'])\n",
    "plt.plot(history.history['val_accuracy'])"
   ]
  },
  {
   "cell_type": "code",
   "execution_count": null,
   "metadata": {
    "ExecuteTime": {
     "end_time": "2020-08-26T04:39:23.742725Z",
     "start_time": "2020-08-26T04:39:16.200Z"
    }
   },
   "outputs": [],
   "source": [
    "submodel = tf.keras.models.Model(\n",
    "        [model.inputs[0]], [model.get_layer('z').output]\n",
    "    )\n",
    "z = submodel.predict(X_train)\n",
    "np.shape(z)"
   ]
  },
  {
   "cell_type": "code",
   "execution_count": null,
   "metadata": {
    "ExecuteTime": {
     "end_time": "2020-08-26T04:39:23.743174Z",
     "start_time": "2020-08-26T04:39:16.202Z"
    }
   },
   "outputs": [],
   "source": [
    "reducer = umap.UMAP(verbose=True)\n",
    "\n",
    "embedding = reducer.fit_transform(z.reshape(len(z), np.product(np.shape(z)[1:])))"
   ]
  },
  {
   "cell_type": "code",
   "execution_count": null,
   "metadata": {
    "ExecuteTime": {
     "end_time": "2020-08-26T04:39:23.743697Z",
     "start_time": "2020-08-26T04:39:16.204Z"
    }
   },
   "outputs": [],
   "source": [
    "plt.scatter(embedding[:, 0], embedding[:, 1], c=Y_train.flatten(), s= 1, alpha = 0.1, cmap = plt.cm.tab10)"
   ]
  },
  {
   "cell_type": "code",
   "execution_count": null,
   "metadata": {
    "ExecuteTime": {
     "end_time": "2020-08-26T04:39:23.744145Z",
     "start_time": "2020-08-26T04:39:16.206Z"
    }
   },
   "outputs": [],
   "source": [
    "z_valid = submodel.predict(X_valid)\n",
    "np.shape(z_valid)\n",
    "reducer = umap.UMAP(verbose=True)\n",
    "\n",
    "embedding = reducer.fit_transform(z_valid.reshape(len(z_valid), np.product(np.shape(z_valid)[1:])))\n",
    "\n",
    "plt.scatter(embedding[:, 0], embedding[:, 1], c=Y_valid.flatten(), s= 1, alpha = 0.1, cmap = plt.cm.tab10)"
   ]
  },
  {
   "cell_type": "code",
   "execution_count": null,
   "metadata": {
    "ExecuteTime": {
     "end_time": "2020-08-26T04:39:23.744680Z",
     "start_time": "2020-08-26T04:39:16.207Z"
    }
   },
   "outputs": [],
   "source": [
    "fig, ax = plt.subplots(figsize=(10,10))\n",
    "ax.scatter(embedding[:, 0], embedding[:, 1], c=Y_valid.flatten(), s= 1, alpha = 1, cmap = plt.cm.tab10)"
   ]
  },
  {
   "cell_type": "code",
   "execution_count": null,
   "metadata": {
    "ExecuteTime": {
     "end_time": "2020-08-26T04:39:23.745305Z",
     "start_time": "2020-08-26T04:39:16.209Z"
    }
   },
   "outputs": [],
   "source": [
    "predictions = model.predict(X_valid)"
   ]
  },
  {
   "cell_type": "code",
   "execution_count": null,
   "metadata": {
    "ExecuteTime": {
     "end_time": "2020-08-26T04:39:23.745869Z",
     "start_time": "2020-08-26T04:39:16.210Z"
    }
   },
   "outputs": [],
   "source": [
    "fig, ax = plt.subplots(figsize=(10,10))\n",
    "ax.scatter(embedding[:, 0], embedding[:, 1], c=np.argmax(predictions, axis=1), s= 1, alpha = 1, cmap = plt.cm.tab10)"
   ]
  },
  {
   "cell_type": "code",
   "execution_count": null,
   "metadata": {
    "ExecuteTime": {
     "end_time": "2020-08-26T04:39:23.746767Z",
     "start_time": "2020-08-26T04:39:16.212Z"
    }
   },
   "outputs": [],
   "source": [
    "Y_test_one_hot = tf.keras.backend.one_hot(\n",
    "    Y_test, num_classes\n",
    ")\n",
    "result = model.evaluate(X_test, Y_test_one_hot)"
   ]
  },
  {
   "cell_type": "markdown",
   "metadata": {},
   "source": [
    "### save results"
   ]
  },
  {
   "cell_type": "code",
   "execution_count": null,
   "metadata": {
    "ExecuteTime": {
     "end_time": "2020-08-26T04:39:23.747210Z",
     "start_time": "2020-08-26T04:39:16.214Z"
    }
   },
   "outputs": [],
   "source": [
    "# save score, valid embedding, weights, results"
   ]
  },
  {
   "cell_type": "code",
   "execution_count": null,
   "metadata": {
    "ExecuteTime": {
     "end_time": "2020-08-26T04:39:23.747714Z",
     "start_time": "2020-08-26T04:39:16.216Z"
    }
   },
   "outputs": [],
   "source": [
    "from tfumap.paths import MODEL_DIR, ensure_dir"
   ]
  },
  {
   "cell_type": "code",
   "execution_count": null,
   "metadata": {
    "ExecuteTime": {
     "end_time": "2020-08-26T04:39:23.748198Z",
     "start_time": "2020-08-26T04:39:16.217Z"
    }
   },
   "outputs": [],
   "source": [
    "save_folder = MODEL_DIR / 'semisupervised-keras' / dataset / str(labels_per_class) / datestring\n",
    "ensure_dir(save_folder)"
   ]
  },
  {
   "cell_type": "markdown",
   "metadata": {
    "ExecuteTime": {
     "end_time": "2020-08-10T06:16:55.467933Z",
     "start_time": "2020-08-10T06:16:55.418378Z"
    }
   },
   "source": [
    "#### save weights"
   ]
  },
  {
   "cell_type": "code",
   "execution_count": null,
   "metadata": {
    "ExecuteTime": {
     "end_time": "2020-08-26T04:39:23.748699Z",
     "start_time": "2020-08-26T04:39:16.219Z"
    }
   },
   "outputs": [],
   "source": [
    "encoder = tf.keras.models.Model(\n",
    "        [model.inputs[0]], [model.get_layer('z').output]\n",
    ")"
   ]
  },
  {
   "cell_type": "code",
   "execution_count": null,
   "metadata": {
    "ExecuteTime": {
     "end_time": "2020-08-26T04:39:23.749283Z",
     "start_time": "2020-08-26T04:39:16.221Z"
    }
   },
   "outputs": [],
   "source": [
    "encoder.save_weights((save_folder / \"encoder\").as_posix())"
   ]
  },
  {
   "cell_type": "code",
   "execution_count": null,
   "metadata": {
    "ExecuteTime": {
     "end_time": "2020-08-26T04:39:23.751273Z",
     "start_time": "2020-08-26T04:39:16.222Z"
    }
   },
   "outputs": [],
   "source": [
    "classifier = tf.keras.models.Model(\n",
    "        [tf.keras.Input(tensor=model.get_layer('weight_normalization').input)], [model.outputs[0]]\n",
    ")\n",
    "print([i.name for i in classifier.layers])"
   ]
  },
  {
   "cell_type": "code",
   "execution_count": null,
   "metadata": {
    "ExecuteTime": {
     "end_time": "2020-08-26T04:39:23.751795Z",
     "start_time": "2020-08-26T04:39:16.224Z"
    }
   },
   "outputs": [],
   "source": [
    "classifier.save_weights((save_folder / \"classifier\").as_posix())"
   ]
  },
  {
   "cell_type": "markdown",
   "metadata": {},
   "source": [
    "#### save score"
   ]
  },
  {
   "cell_type": "code",
   "execution_count": null,
   "metadata": {
    "ExecuteTime": {
     "end_time": "2020-08-26T04:39:23.752442Z",
     "start_time": "2020-08-26T04:39:16.226Z"
    }
   },
   "outputs": [],
   "source": [
    "Y_test_one_hot = tf.keras.backend.one_hot(\n",
    "    Y_test, num_classes\n",
    ")\n",
    "result = model.evaluate(X_test, Y_test_one_hot)"
   ]
  },
  {
   "cell_type": "code",
   "execution_count": null,
   "metadata": {
    "ExecuteTime": {
     "end_time": "2020-08-26T04:39:23.752920Z",
     "start_time": "2020-08-26T04:39:16.230Z"
    }
   },
   "outputs": [],
   "source": [
    "np.save(save_folder / 'test_loss.npy', result)"
   ]
  },
  {
   "cell_type": "markdown",
   "metadata": {},
   "source": [
    "#### save embedding"
   ]
  },
  {
   "cell_type": "code",
   "execution_count": null,
   "metadata": {
    "ExecuteTime": {
     "end_time": "2020-08-26T04:39:23.753457Z",
     "start_time": "2020-08-26T04:39:16.232Z"
    }
   },
   "outputs": [],
   "source": [
    "z = encoder.predict(X_train)"
   ]
  },
  {
   "cell_type": "code",
   "execution_count": null,
   "metadata": {
    "ExecuteTime": {
     "end_time": "2020-08-26T04:39:23.753933Z",
     "start_time": "2020-08-26T04:39:16.234Z"
    }
   },
   "outputs": [],
   "source": [
    "reducer = umap.UMAP(verbose=True)\n",
    "\n",
    "embedding = reducer.fit_transform(z.reshape(len(z), np.product(np.shape(z)[1:])))\n",
    "\n",
    "plt.scatter(embedding[:, 0], embedding[:, 1], c=Y_train.flatten(), s= 1, alpha = 0.1, cmap = plt.cm.tab10)"
   ]
  },
  {
   "cell_type": "code",
   "execution_count": null,
   "metadata": {
    "ExecuteTime": {
     "end_time": "2020-08-26T04:39:23.754410Z",
     "start_time": "2020-08-26T04:39:16.235Z"
    }
   },
   "outputs": [],
   "source": [
    "np.save(save_folder / 'train_embedding.npy', embedding)"
   ]
  },
  {
   "cell_type": "markdown",
   "metadata": {},
   "source": [
    "#### save results"
   ]
  },
  {
   "cell_type": "code",
   "execution_count": null,
   "metadata": {
    "ExecuteTime": {
     "end_time": "2020-08-26T04:39:23.754995Z",
     "start_time": "2020-08-26T04:39:16.237Z"
    }
   },
   "outputs": [],
   "source": [
    "import pickle"
   ]
  },
  {
   "cell_type": "code",
   "execution_count": null,
   "metadata": {
    "ExecuteTime": {
     "end_time": "2020-08-26T04:39:23.755525Z",
     "start_time": "2020-08-26T04:39:16.239Z"
    }
   },
   "outputs": [],
   "source": [
    "with open(save_folder / 'history.pickle', 'wb') as file_pi:\n",
    "    pickle.dump(history.history, file_pi)"
   ]
  },
  {
   "cell_type": "code",
   "execution_count": null,
   "metadata": {},
   "outputs": [],
   "source": [
    "print('test')"
   ]
  },
  {
   "cell_type": "code",
   "execution_count": null,
   "metadata": {},
   "outputs": [],
   "source": []
  },
  {
   "cell_type": "code",
   "execution_count": null,
   "metadata": {},
   "outputs": [],
   "source": []
  },
  {
   "cell_type": "code",
   "execution_count": null,
   "metadata": {},
   "outputs": [],
   "source": []
  }
 ],
 "metadata": {
  "kernelspec": {
   "display_name": "Python 3",
   "language": "python",
   "name": "python3"
  },
  "language_info": {
   "codemirror_mode": {
    "name": "ipython",
    "version": 3
   },
   "file_extension": ".py",
   "mimetype": "text/x-python",
   "name": "python",
   "nbconvert_exporter": "python",
   "pygments_lexer": "ipython3",
   "version": "3.6.7"
  }
 },
 "nbformat": 4,
 "nbformat_minor": 2
}
