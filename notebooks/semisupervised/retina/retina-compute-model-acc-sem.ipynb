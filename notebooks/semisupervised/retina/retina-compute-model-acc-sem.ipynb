{
 "cells": [
  {
   "cell_type": "markdown",
   "metadata": {},
   "source": [
    "### this notebook loads each model and grabs the prediction accuracy on the test dataset, plus standard error"
   ]
  },
  {
   "cell_type": "code",
   "execution_count": 1,
   "metadata": {
    "ExecuteTime": {
     "end_time": "2020-11-12T22:33:21.345436Z",
     "start_time": "2020-11-12T22:33:12.979127Z"
    }
   },
   "outputs": [],
   "source": [
    "import numpy as np\n",
    "from tfumap.semisupervised_keras import pretrained_networks\n",
    "from tfumap.semisupervised_keras import load_architecture\n",
    "from tfumap.paths import MODEL_DIR"
   ]
  },
  {
   "cell_type": "code",
   "execution_count": 2,
   "metadata": {
    "ExecuteTime": {
     "end_time": "2020-11-12T22:33:21.355606Z",
     "start_time": "2020-11-12T22:33:21.347474Z"
    }
   },
   "outputs": [],
   "source": [
    "from tfumap.semisupervised_keras import load_dataset"
   ]
  },
  {
   "cell_type": "code",
   "execution_count": 4,
   "metadata": {
    "ExecuteTime": {
     "end_time": "2020-11-12T22:33:26.962950Z",
     "start_time": "2020-11-12T22:33:26.959835Z"
    }
   },
   "outputs": [],
   "source": [
    "dataset = \"macosko2015\"\n",
    "n_latent_dims = 1024"
   ]
  },
  {
   "cell_type": "code",
   "execution_count": 10,
   "metadata": {
    "ExecuteTime": {
     "end_time": "2020-11-12T22:33:50.786644Z",
     "start_time": "2020-11-12T22:33:50.537979Z"
    }
   },
   "outputs": [],
   "source": [
    "(\n",
    "    X_train,\n",
    "    X_test,\n",
    "    X_labeled,\n",
    "    Y_labeled,\n",
    "    Y_masked,\n",
    "    X_valid,\n",
    "    Y_train,\n",
    "    Y_test,\n",
    "    Y_valid,\n",
    "    Y_valid_one_hot,\n",
    "    Y_labeled_one_hot,\n",
    "    num_classes,\n",
    "    dims\n",
    ") = load_dataset(dataset, 'full')"
   ]
  },
  {
   "cell_type": "code",
   "execution_count": 11,
   "metadata": {
    "ExecuteTime": {
     "end_time": "2020-11-12T22:33:51.038377Z",
     "start_time": "2020-11-12T22:33:50.788417Z"
    }
   },
   "outputs": [],
   "source": [
    "encoder, classifier, embedder = load_architecture(dataset, n_latent_dims)"
   ]
  },
  {
   "cell_type": "code",
   "execution_count": 12,
   "metadata": {
    "ExecuteTime": {
     "end_time": "2020-11-12T22:33:57.272399Z",
     "start_time": "2020-11-12T22:33:51.112607Z"
    },
    "scrolled": false
   },
   "outputs": [
    {
     "name": "stderr",
     "output_type": "stream",
     "text": [
      "W1112 14:33:51.123180 139991740294976 base.py:272] Inconsistent references when loading the checkpoint into this object graph. Either the Trackable object references in the Python program have changed in an incompatible way, or the checkpoint was generated in an incompatible program.\n",
      "\n",
      "Two checkpoint references resolved to different objects (<tensorflow_addons.layers.wrappers.WeightNormalization object at 0x7f51a0087b38> and <tensorflow.python.keras.layers.advanced_activations.LeakyReLU object at 0x7f51a0087588>).\n",
      "W1112 14:33:51.125298 139991740294976 base.py:272] Inconsistent references when loading the checkpoint into this object graph. Either the Trackable object references in the Python program have changed in an incompatible way, or the checkpoint was generated in an incompatible program.\n",
      "\n",
      "Two checkpoint references resolved to different objects (<tensorflow_addons.layers.wrappers.WeightNormalization object at 0x7f51a9562a20> and <tensorflow.python.keras.layers.advanced_activations.LeakyReLU object at 0x7f51a8a09320>).\n",
      "W1112 14:33:51.142614 139991740294976 base.py:272] Inconsistent references when loading the checkpoint into this object graph. Either the Trackable object references in the Python program have changed in an incompatible way, or the checkpoint was generated in an incompatible program.\n",
      "\n",
      "Two checkpoint references resolved to different objects (<tensorflow.python.keras.layers.core.Dense object at 0x7f51a9205630> and <tensorflow.python.keras.layers.advanced_activations.LeakyReLU object at 0x7f51a9205860>).\n",
      "W1112 14:33:51.143580 139991740294976 base.py:272] Inconsistent references when loading the checkpoint into this object graph. Either the Trackable object references in the Python program have changed in an incompatible way, or the checkpoint was generated in an incompatible program.\n",
      "\n",
      "Two checkpoint references resolved to different objects (<tensorflow.python.keras.layers.core.Dense object at 0x7f51a9205c88> and <tensorflow.python.keras.layers.advanced_activations.LeakyReLU object at 0x7f51a90cf2e8>).\n",
      "W1112 14:33:51.144854 139991740294976 base.py:272] Inconsistent references when loading the checkpoint into this object graph. Either the Trackable object references in the Python program have changed in an incompatible way, or the checkpoint was generated in an incompatible program.\n",
      "\n",
      "Two checkpoint references resolved to different objects (<tensorflow.python.keras.layers.core.Dense object at 0x7f51a90cf278> and <tensorflow.python.keras.layers.advanced_activations.LeakyReLU object at 0x7f51a0079710>).\n"
     ]
    },
    {
     "name": "stdout",
     "output_type": "stream",
     "text": [
      "141/141 [==============================] - 0s 768us/step\n",
      "141/141 [==============================] - 0s 1ms/step\n",
      "pretrained acc: 0.8879714349475564 +- 0.004711686782627693\n",
      "141/141 [==============================] - 0s 748us/step\n",
      "141/141 [==============================] - 0s 1ms/step\n",
      "pretrained acc: 0.9290336978353047 +- 0.003835785822034455\n"
     ]
    },
    {
     "name": "stderr",
     "output_type": "stream",
     "text": [
      "W1112 14:33:52.683024 139991740294976 base.py:272] Inconsistent references when loading the checkpoint into this object graph. Either the Trackable object references in the Python program have changed in an incompatible way, or the checkpoint was generated in an incompatible program.\n",
      "\n",
      "Two checkpoint references resolved to different objects (<tensorflow_addons.layers.wrappers.WeightNormalization object at 0x7f51a0087b38> and <tensorflow.python.keras.layers.advanced_activations.LeakyReLU object at 0x7f51a0087588>).\n",
      "W1112 14:33:52.684811 139991740294976 base.py:272] Inconsistent references when loading the checkpoint into this object graph. Either the Trackable object references in the Python program have changed in an incompatible way, or the checkpoint was generated in an incompatible program.\n",
      "\n",
      "Two checkpoint references resolved to different objects (<tensorflow_addons.layers.wrappers.WeightNormalization object at 0x7f51a9562a20> and <tensorflow.python.keras.layers.advanced_activations.LeakyReLU object at 0x7f51a8a09320>).\n",
      "W1112 14:33:52.718398 139991740294976 base.py:272] Inconsistent references when loading the checkpoint into this object graph. Either the Trackable object references in the Python program have changed in an incompatible way, or the checkpoint was generated in an incompatible program.\n",
      "\n",
      "Two checkpoint references resolved to different objects (<tensorflow.python.keras.layers.core.Dense object at 0x7f51a9205630> and <tensorflow.python.keras.layers.advanced_activations.LeakyReLU object at 0x7f51a9205860>).\n",
      "W1112 14:33:52.719841 139991740294976 base.py:272] Inconsistent references when loading the checkpoint into this object graph. Either the Trackable object references in the Python program have changed in an incompatible way, or the checkpoint was generated in an incompatible program.\n",
      "\n",
      "Two checkpoint references resolved to different objects (<tensorflow.python.keras.layers.core.Dense object at 0x7f51a9205c88> and <tensorflow.python.keras.layers.advanced_activations.LeakyReLU object at 0x7f51a90cf2e8>).\n",
      "W1112 14:33:52.721194 139991740294976 base.py:272] Inconsistent references when loading the checkpoint into this object graph. Either the Trackable object references in the Python program have changed in an incompatible way, or the checkpoint was generated in an incompatible program.\n",
      "\n",
      "Two checkpoint references resolved to different objects (<tensorflow.python.keras.layers.core.Dense object at 0x7f51a90cf278> and <tensorflow.python.keras.layers.advanced_activations.LeakyReLU object at 0x7f51a0079710>).\n"
     ]
    },
    {
     "name": "stdout",
     "output_type": "stream",
     "text": [
      "141/141 [==============================] - 0s 738us/step\n",
      "141/141 [==============================] - 0s 1ms/step\n",
      "pretrained acc: 0.9676411515286766 +- 0.0026434203072884365\n",
      "141/141 [==============================] - 0s 750us/step\n",
      "141/141 [==============================] - 0s 1ms/step\n"
     ]
    },
    {
     "name": "stderr",
     "output_type": "stream",
     "text": [
      "W1112 14:33:53.643675 139991740294976 base.py:272] Inconsistent references when loading the checkpoint into this object graph. Either the Trackable object references in the Python program have changed in an incompatible way, or the checkpoint was generated in an incompatible program.\n",
      "\n",
      "Two checkpoint references resolved to different objects (<tensorflow_addons.layers.wrappers.WeightNormalization object at 0x7f51a0087b38> and <tensorflow.python.keras.layers.advanced_activations.LeakyReLU object at 0x7f51a0087588>).\n",
      "W1112 14:33:53.645341 139991740294976 base.py:272] Inconsistent references when loading the checkpoint into this object graph. Either the Trackable object references in the Python program have changed in an incompatible way, or the checkpoint was generated in an incompatible program.\n",
      "\n",
      "Two checkpoint references resolved to different objects (<tensorflow_addons.layers.wrappers.WeightNormalization object at 0x7f51a9562a20> and <tensorflow.python.keras.layers.advanced_activations.LeakyReLU object at 0x7f51a8a09320>).\n",
      "W1112 14:33:53.662824 139991740294976 base.py:272] Inconsistent references when loading the checkpoint into this object graph. Either the Trackable object references in the Python program have changed in an incompatible way, or the checkpoint was generated in an incompatible program.\n",
      "\n",
      "Two checkpoint references resolved to different objects (<tensorflow.python.keras.layers.core.Dense object at 0x7f51a9205630> and <tensorflow.python.keras.layers.advanced_activations.LeakyReLU object at 0x7f51a9205860>).\n",
      "W1112 14:33:53.664315 139991740294976 base.py:272] Inconsistent references when loading the checkpoint into this object graph. Either the Trackable object references in the Python program have changed in an incompatible way, or the checkpoint was generated in an incompatible program.\n",
      "\n",
      "Two checkpoint references resolved to different objects (<tensorflow.python.keras.layers.core.Dense object at 0x7f51a9205c88> and <tensorflow.python.keras.layers.advanced_activations.LeakyReLU object at 0x7f51a90cf2e8>).\n",
      "W1112 14:33:53.665713 139991740294976 base.py:272] Inconsistent references when loading the checkpoint into this object graph. Either the Trackable object references in the Python program have changed in an incompatible way, or the checkpoint was generated in an incompatible program.\n",
      "\n",
      "Two checkpoint references resolved to different objects (<tensorflow.python.keras.layers.core.Dense object at 0x7f51a90cf278> and <tensorflow.python.keras.layers.advanced_activations.LeakyReLU object at 0x7f51a0079710>).\n"
     ]
    },
    {
     "name": "stdout",
     "output_type": "stream",
     "text": [
      "pretrained acc: 0.9705422896674849 +- 0.002525918033808592\n",
      "141/141 [==============================] - 0s 744us/step\n",
      "141/141 [==============================] - 0s 1ms/step\n",
      "pretrained acc: 0.9703191251952689 +- 0.002535176335640405\n",
      "141/141 [==============================] - 0s 742us/step\n",
      "141/141 [==============================] - 0s 1ms/step\n"
     ]
    },
    {
     "name": "stderr",
     "output_type": "stream",
     "text": [
      "W1112 14:33:54.539988 139991740294976 base.py:272] Inconsistent references when loading the checkpoint into this object graph. Either the Trackable object references in the Python program have changed in an incompatible way, or the checkpoint was generated in an incompatible program.\n",
      "\n",
      "Two checkpoint references resolved to different objects (<tensorflow_addons.layers.wrappers.WeightNormalization object at 0x7f51a0087b38> and <tensorflow.python.keras.layers.advanced_activations.LeakyReLU object at 0x7f51a0087588>).\n",
      "W1112 14:33:54.542384 139991740294976 base.py:272] Inconsistent references when loading the checkpoint into this object graph. Either the Trackable object references in the Python program have changed in an incompatible way, or the checkpoint was generated in an incompatible program.\n",
      "\n",
      "Two checkpoint references resolved to different objects (<tensorflow_addons.layers.wrappers.WeightNormalization object at 0x7f51a9562a20> and <tensorflow.python.keras.layers.advanced_activations.LeakyReLU object at 0x7f51a8a09320>).\n",
      "W1112 14:33:54.560426 139991740294976 base.py:272] Inconsistent references when loading the checkpoint into this object graph. Either the Trackable object references in the Python program have changed in an incompatible way, or the checkpoint was generated in an incompatible program.\n",
      "\n",
      "Two checkpoint references resolved to different objects (<tensorflow.python.keras.layers.core.Dense object at 0x7f51a9205630> and <tensorflow.python.keras.layers.advanced_activations.LeakyReLU object at 0x7f51a9205860>).\n",
      "W1112 14:33:54.561727 139991740294976 base.py:272] Inconsistent references when loading the checkpoint into this object graph. Either the Trackable object references in the Python program have changed in an incompatible way, or the checkpoint was generated in an incompatible program.\n",
      "\n",
      "Two checkpoint references resolved to different objects (<tensorflow.python.keras.layers.core.Dense object at 0x7f51a9205c88> and <tensorflow.python.keras.layers.advanced_activations.LeakyReLU object at 0x7f51a90cf2e8>).\n",
      "W1112 14:33:54.563065 139991740294976 base.py:272] Inconsistent references when loading the checkpoint into this object graph. Either the Trackable object references in the Python program have changed in an incompatible way, or the checkpoint was generated in an incompatible program.\n",
      "\n",
      "Two checkpoint references resolved to different objects (<tensorflow.python.keras.layers.core.Dense object at 0x7f51a90cf278> and <tensorflow.python.keras.layers.advanced_activations.LeakyReLU object at 0x7f51a0079710>).\n"
     ]
    },
    {
     "name": "stdout",
     "output_type": "stream",
     "text": [
      "pretrained acc: 0.9727739343896452 +- 0.0024311454023482337\n",
      "141/141 [==============================] - 0s 758us/step\n",
      "141/141 [==============================] - 0s 1ms/step\n",
      "pretrained acc: 0.9787993751394778 +- 0.002151957551772266\n",
      "141/141 [==============================] - 0s 796us/step\n",
      "141/141 [==============================] - 0s 1ms/step\n"
     ]
    },
    {
     "name": "stderr",
     "output_type": "stream",
     "text": [
      "W1112 14:33:55.412589 139991740294976 base.py:272] Inconsistent references when loading the checkpoint into this object graph. Either the Trackable object references in the Python program have changed in an incompatible way, or the checkpoint was generated in an incompatible program.\n",
      "\n",
      "Two checkpoint references resolved to different objects (<tensorflow_addons.layers.wrappers.WeightNormalization object at 0x7f51a0087b38> and <tensorflow.python.keras.layers.advanced_activations.LeakyReLU object at 0x7f51a0087588>).\n",
      "W1112 14:33:55.415073 139991740294976 base.py:272] Inconsistent references when loading the checkpoint into this object graph. Either the Trackable object references in the Python program have changed in an incompatible way, or the checkpoint was generated in an incompatible program.\n",
      "\n",
      "Two checkpoint references resolved to different objects (<tensorflow_addons.layers.wrappers.WeightNormalization object at 0x7f51a9562a20> and <tensorflow.python.keras.layers.advanced_activations.LeakyReLU object at 0x7f51a8a09320>).\n",
      "W1112 14:33:55.432334 139991740294976 base.py:272] Inconsistent references when loading the checkpoint into this object graph. Either the Trackable object references in the Python program have changed in an incompatible way, or the checkpoint was generated in an incompatible program.\n",
      "\n",
      "Two checkpoint references resolved to different objects (<tensorflow.python.keras.layers.core.Dense object at 0x7f51a9205630> and <tensorflow.python.keras.layers.advanced_activations.LeakyReLU object at 0x7f51a9205860>).\n",
      "W1112 14:33:55.433325 139991740294976 base.py:272] Inconsistent references when loading the checkpoint into this object graph. Either the Trackable object references in the Python program have changed in an incompatible way, or the checkpoint was generated in an incompatible program.\n",
      "\n",
      "Two checkpoint references resolved to different objects (<tensorflow.python.keras.layers.core.Dense object at 0x7f51a9205c88> and <tensorflow.python.keras.layers.advanced_activations.LeakyReLU object at 0x7f51a90cf2e8>).\n",
      "W1112 14:33:55.434313 139991740294976 base.py:272] Inconsistent references when loading the checkpoint into this object graph. Either the Trackable object references in the Python program have changed in an incompatible way, or the checkpoint was generated in an incompatible program.\n",
      "\n",
      "Two checkpoint references resolved to different objects (<tensorflow.python.keras.layers.core.Dense object at 0x7f51a90cf278> and <tensorflow.python.keras.layers.advanced_activations.LeakyReLU object at 0x7f51a0079710>).\n"
     ]
    },
    {
     "name": "stdout",
     "output_type": "stream",
     "text": [
      "pretrained acc: 0.9734434278062932 +- 0.002401894321726978\n",
      "141/141 [==============================] - 0s 748us/step\n",
      "141/141 [==============================] - 0s 1ms/step\n",
      "pretrained acc: 0.9781298817228298 +- 0.002184924111461026\n",
      "141/141 [==============================] - 0s 753us/step\n",
      "141/141 [==============================] - 0s 2ms/step\n"
     ]
    },
    {
     "name": "stderr",
     "output_type": "stream",
     "text": [
      "W1112 14:33:56.349702 139991740294976 base.py:272] Inconsistent references when loading the checkpoint into this object graph. Either the Trackable object references in the Python program have changed in an incompatible way, or the checkpoint was generated in an incompatible program.\n",
      "\n",
      "Two checkpoint references resolved to different objects (<tensorflow_addons.layers.wrappers.WeightNormalization object at 0x7f51a0087b38> and <tensorflow.python.keras.layers.advanced_activations.LeakyReLU object at 0x7f51a0087588>).\n",
      "W1112 14:33:56.351514 139991740294976 base.py:272] Inconsistent references when loading the checkpoint into this object graph. Either the Trackable object references in the Python program have changed in an incompatible way, or the checkpoint was generated in an incompatible program.\n",
      "\n",
      "Two checkpoint references resolved to different objects (<tensorflow_addons.layers.wrappers.WeightNormalization object at 0x7f51a9562a20> and <tensorflow.python.keras.layers.advanced_activations.LeakyReLU object at 0x7f51a8a09320>).\n",
      "W1112 14:33:56.368348 139991740294976 base.py:272] Inconsistent references when loading the checkpoint into this object graph. Either the Trackable object references in the Python program have changed in an incompatible way, or the checkpoint was generated in an incompatible program.\n",
      "\n",
      "Two checkpoint references resolved to different objects (<tensorflow.python.keras.layers.core.Dense object at 0x7f51a9205630> and <tensorflow.python.keras.layers.advanced_activations.LeakyReLU object at 0x7f51a9205860>).\n",
      "W1112 14:33:56.369377 139991740294976 base.py:272] Inconsistent references when loading the checkpoint into this object graph. Either the Trackable object references in the Python program have changed in an incompatible way, or the checkpoint was generated in an incompatible program.\n",
      "\n",
      "Two checkpoint references resolved to different objects (<tensorflow.python.keras.layers.core.Dense object at 0x7f51a9205c88> and <tensorflow.python.keras.layers.advanced_activations.LeakyReLU object at 0x7f51a90cf2e8>).\n",
      "W1112 14:33:56.370351 139991740294976 base.py:272] Inconsistent references when loading the checkpoint into this object graph. Either the Trackable object references in the Python program have changed in an incompatible way, or the checkpoint was generated in an incompatible program.\n",
      "\n",
      "Two checkpoint references resolved to different objects (<tensorflow.python.keras.layers.core.Dense object at 0x7f51a90cf278> and <tensorflow.python.keras.layers.advanced_activations.LeakyReLU object at 0x7f51a0079710>).\n"
     ]
    },
    {
     "name": "stdout",
     "output_type": "stream",
     "text": [
      "pretrained acc: 0.9765677304173176 +- 0.0022598046103121344\n",
      "141/141 [==============================] - 0s 802us/step\n",
      "141/141 [==============================] - 0s 1ms/step\n",
      "pretrained acc: 0.9825931711671502 +- 0.0019537060807251587\n",
      "141/141 [==============================] - 0s 723us/step\n",
      "141/141 [==============================] - 0s 2ms/step\n",
      "pretrained acc: 0.9787993751394778 +- 0.002151957551772266\n"
     ]
    }
   ],
   "source": [
    "for labels_per_class in [4, 16, 64, 256, 1024, 'full']:\n",
    "    for aug_str in ['not_augmented', 'umap_euclidean']:\n",
    "        pretrained_weights_loc = pretrained_networks[dataset][aug_str][labels_per_class]\n",
    "        load_folder = (\n",
    "            MODEL_DIR\n",
    "            / \"semisupervised-keras\"\n",
    "            / dataset\n",
    "            / str(labels_per_class)\n",
    "            / pretrained_weights_loc\n",
    "        )\n",
    "        classifier.load_weights((load_folder / \"classifier\").as_posix())\n",
    "        encoder.load_weights((load_folder / \"encoder\").as_posix())\n",
    "        # test current acc\n",
    "        pretrained_predictions = classifier.predict(encoder.predict(X_test, verbose=True), verbose=True)\n",
    "        pretrained_predictions = np.argmax(pretrained_predictions, axis=1)\n",
    "        pretrained_acc = pretrained_predictions == Y_test\n",
    "        mean_acc = np.mean(pretrained_acc)\n",
    "        sem_acc = np.std(pretrained_acc) / np.sqrt(len(pretrained_acc))\n",
    "        np.save(load_folder / 'test_loss_SEM.npy', (mean_acc, sem_acc))\n",
    "        print('pretrained acc: {} +- {}'.format(mean_acc, sem_acc))"
   ]
  },
  {
   "cell_type": "code",
   "execution_count": null,
   "metadata": {},
   "outputs": [],
   "source": []
  }
 ],
 "metadata": {
  "kernelspec": {
   "display_name": "Python 3",
   "language": "python",
   "name": "python3"
  },
  "language_info": {
   "codemirror_mode": {
    "name": "ipython",
    "version": 3
   },
   "file_extension": ".py",
   "mimetype": "text/x-python",
   "name": "python",
   "nbconvert_exporter": "python",
   "pygments_lexer": "ipython3",
   "version": "3.6.7"
  }
 },
 "nbformat": 4,
 "nbformat_minor": 2
}
