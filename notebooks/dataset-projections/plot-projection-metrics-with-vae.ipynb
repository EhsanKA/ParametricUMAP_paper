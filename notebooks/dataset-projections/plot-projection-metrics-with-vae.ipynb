{
 "cells": [
  {
   "cell_type": "code",
   "execution_count": 1,
   "metadata": {
    "ExecuteTime": {
     "end_time": "2020-08-22T17:23:09.702463Z",
     "start_time": "2020-08-22T17:23:08.502872Z"
    }
   },
   "outputs": [
    {
     "name": "stderr",
     "output_type": "stream",
     "text": [
      "/mnt/cube/tsainbur/conda_envs/tpy3/lib/python3.6/site-packages/tqdm/autonotebook/__init__.py:14: TqdmExperimentalWarning: Using `tqdm.autonotebook.tqdm` in notebook mode. Use `tqdm.tqdm` instead to force console mode (e.g. in jupyter console)\n",
      "  \" (e.g. in jupyter console)\", TqdmExperimentalWarning)\n"
     ]
    }
   ],
   "source": [
    "import numpy as np\n",
    "import pandas as pd\n",
    "\n",
    "from sklearn.manifold import trustworthiness\n",
    "from sklearn.metrics import silhouette_score\n",
    "\n",
    "from tqdm.autonotebook import tqdm\n",
    "\n",
    "from tfumap.paths import ensure_dir, MODEL_DIR, DATA_DIR\n",
    "\n",
    "output_dir = MODEL_DIR/'projections' "
   ]
  },
  {
   "cell_type": "code",
   "execution_count": 2,
   "metadata": {
    "ExecuteTime": {
     "end_time": "2020-08-22T17:23:09.719525Z",
     "start_time": "2020-08-22T17:23:09.703839Z"
    }
   },
   "outputs": [],
   "source": [
    "metrics_df = pd.read_pickle(DATA_DIR / 'projection_metrics.pickle')\n",
    "# metrics_df= pd.read_pickle(DATA_DIR / 'projection_metrics_test.pickle')"
   ]
  },
  {
   "cell_type": "code",
   "execution_count": 3,
   "metadata": {
    "ExecuteTime": {
     "end_time": "2020-08-22T17:23:09.737307Z",
     "start_time": "2020-08-22T17:23:09.720866Z"
    }
   },
   "outputs": [
    {
     "data": {
      "text/html": [
       "<div>\n",
       "<style scoped>\n",
       "    .dataframe tbody tr th:only-of-type {\n",
       "        vertical-align: middle;\n",
       "    }\n",
       "\n",
       "    .dataframe tbody tr th {\n",
       "        vertical-align: top;\n",
       "    }\n",
       "\n",
       "    .dataframe thead th {\n",
       "        text-align: right;\n",
       "    }\n",
       "</style>\n",
       "<table border=\"1\" class=\"dataframe\">\n",
       "  <thead>\n",
       "    <tr style=\"text-align: right;\">\n",
       "      <th></th>\n",
       "      <th>dataset</th>\n",
       "      <th>class_</th>\n",
       "      <th>dim</th>\n",
       "      <th>trustworthiness</th>\n",
       "      <th>silhouette_score</th>\n",
       "      <th>silhouette_samples</th>\n",
       "    </tr>\n",
       "  </thead>\n",
       "  <tbody>\n",
       "    <tr>\n",
       "      <th>0</th>\n",
       "      <td>mnist</td>\n",
       "      <td>umap-learn</td>\n",
       "      <td>2</td>\n",
       "      <td>0.960056</td>\n",
       "      <td>0.518626</td>\n",
       "      <td>[0.639216248568865, 0.781801993664271, 0.44323...</td>\n",
       "    </tr>\n",
       "    <tr>\n",
       "      <th>1</th>\n",
       "      <td>mnist</td>\n",
       "      <td>direct</td>\n",
       "      <td>2</td>\n",
       "      <td>0.960416</td>\n",
       "      <td>0.519683</td>\n",
       "      <td>[0.6649555493948871, 0.7389523838324524, 0.464...</td>\n",
       "    </tr>\n",
       "    <tr>\n",
       "      <th>2</th>\n",
       "      <td>mnist</td>\n",
       "      <td>network</td>\n",
       "      <td>2</td>\n",
       "      <td>0.957346</td>\n",
       "      <td>0.555885</td>\n",
       "      <td>[0.6068383792564549, 0.8137081492037734, 0.522...</td>\n",
       "    </tr>\n",
       "  </tbody>\n",
       "</table>\n",
       "</div>"
      ],
      "text/plain": [
       "  dataset      class_ dim  trustworthiness  silhouette_score  \\\n",
       "0   mnist  umap-learn   2         0.960056          0.518626   \n",
       "1   mnist      direct   2         0.960416          0.519683   \n",
       "2   mnist     network   2         0.957346          0.555885   \n",
       "\n",
       "                                  silhouette_samples  \n",
       "0  [0.639216248568865, 0.781801993664271, 0.44323...  \n",
       "1  [0.6649555493948871, 0.7389523838324524, 0.464...  \n",
       "2  [0.6068383792564549, 0.8137081492037734, 0.522...  "
      ]
     },
     "execution_count": 3,
     "metadata": {},
     "output_type": "execute_result"
    }
   ],
   "source": [
    "metrics_df[:3]"
   ]
  },
  {
   "cell_type": "code",
   "execution_count": 4,
   "metadata": {
    "ExecuteTime": {
     "end_time": "2020-08-22T17:23:09.741078Z",
     "start_time": "2020-08-22T17:23:09.738539Z"
    }
   },
   "outputs": [],
   "source": [
    "datasets = [\n",
    "    'cassins_dtw',\n",
    "    'cifar10',\n",
    "    'fmnist',\n",
    "    'macosko2015',\n",
    "    'mnist'\n",
    "]"
   ]
  },
  {
   "cell_type": "code",
   "execution_count": 5,
   "metadata": {
    "ExecuteTime": {
     "end_time": "2020-08-22T17:23:09.750447Z",
     "start_time": "2020-08-22T17:23:09.742355Z"
    }
   },
   "outputs": [],
   "source": [
    "from IPython.display import display"
   ]
  },
  {
   "cell_type": "code",
   "execution_count": 6,
   "metadata": {
    "ExecuteTime": {
     "end_time": "2020-08-22T17:23:09.946404Z",
     "start_time": "2020-08-22T17:23:09.753358Z"
    }
   },
   "outputs": [],
   "source": [
    "# load parametric t-SNE / vae / ae\n",
    "for dataset in datasets:\n",
    "    for n_components in [\"2\", \"64\"]:\n",
    "        parametric_tsne_save_loc = (\n",
    "            DATA_DIR\n",
    "            / \"projection_metrics\"\n",
    "            / \"train\"\n",
    "            / str(n_components)\n",
    "            / (dataset + \".pickle\")\n",
    "        )\n",
    "        try:\n",
    "            metric_df = pd.read_pickle(parametric_tsne_save_loc)\n",
    "            # display(metric_df)\n",
    "            metrics_df = pd.concat([metrics_df, metric_df])\n",
    "        except FileNotFoundError:\n",
    "            print(parametric_tsne_save_loc)\n",
    "            \n",
    "        vae_save_loc = (\n",
    "            DATA_DIR\n",
    "            / \"projection_metrics\"\n",
    "            / 'vae'\n",
    "            / \"train\"\n",
    "            / str(n_components)\n",
    "            / (dataset + \".pickle\")\n",
    "        )\n",
    "        try:\n",
    "            metric_df = pd.read_pickle(vae_save_loc)\n",
    "            # display(metric_df)\n",
    "            metrics_df = pd.concat([metrics_df, metric_df])\n",
    "        except FileNotFoundError:\n",
    "            print(vae_save_loc, 'test')\n",
    "            \n",
    "            \n",
    "        ae_save_loc = (\n",
    "            DATA_DIR\n",
    "            / \"projection_metrics\"\n",
    "            / 'ae_only'\n",
    "            / \"train\"\n",
    "            / str(n_components)\n",
    "            / (dataset + \".pickle\")\n",
    "        )\n",
    "        try:\n",
    "            metric_df = pd.read_pickle(ae_save_loc)\n",
    "            # display(metric_df)\n",
    "            metrics_df = pd.concat([metrics_df, metric_df])\n",
    "        except FileNotFoundError:\n",
    "            print(ae_save_loc)"
   ]
  },
  {
   "cell_type": "code",
   "execution_count": 7,
   "metadata": {
    "ExecuteTime": {
     "end_time": "2020-08-22T17:23:09.952734Z",
     "start_time": "2020-08-22T17:23:09.947571Z"
    }
   },
   "outputs": [],
   "source": [
    "metrics_df.loc[metrics_df.dataset == 'cassins', 'dataset'] = 'cassins_dtw'"
   ]
  },
  {
   "cell_type": "code",
   "execution_count": 8,
   "metadata": {
    "ExecuteTime": {
     "end_time": "2020-08-22T17:23:09.984586Z",
     "start_time": "2020-08-22T17:23:09.953622Z"
    }
   },
   "outputs": [
    {
     "data": {
      "text/html": [
       "<div>\n",
       "<style scoped>\n",
       "    .dataframe tbody tr th:only-of-type {\n",
       "        vertical-align: middle;\n",
       "    }\n",
       "\n",
       "    .dataframe tbody tr th {\n",
       "        vertical-align: top;\n",
       "    }\n",
       "\n",
       "    .dataframe thead th {\n",
       "        text-align: right;\n",
       "    }\n",
       "</style>\n",
       "<table border=\"1\" class=\"dataframe\">\n",
       "  <thead>\n",
       "    <tr style=\"text-align: right;\">\n",
       "      <th></th>\n",
       "      <th>dataset</th>\n",
       "      <th>class_</th>\n",
       "      <th>dim</th>\n",
       "      <th>trustworthiness</th>\n",
       "      <th>silhouette_score</th>\n",
       "      <th>silhouette_samples</th>\n",
       "    </tr>\n",
       "  </thead>\n",
       "  <tbody>\n",
       "    <tr>\n",
       "      <th>0</th>\n",
       "      <td>mnist</td>\n",
       "      <td>umap-learn</td>\n",
       "      <td>2</td>\n",
       "      <td>0.960056</td>\n",
       "      <td>0.518626</td>\n",
       "      <td>[0.639216248568865, 0.781801993664271, 0.44323...</td>\n",
       "    </tr>\n",
       "    <tr>\n",
       "      <th>1</th>\n",
       "      <td>mnist</td>\n",
       "      <td>direct</td>\n",
       "      <td>2</td>\n",
       "      <td>0.960416</td>\n",
       "      <td>0.519683</td>\n",
       "      <td>[0.6649555493948871, 0.7389523838324524, 0.464...</td>\n",
       "    </tr>\n",
       "    <tr>\n",
       "      <th>2</th>\n",
       "      <td>mnist</td>\n",
       "      <td>network</td>\n",
       "      <td>2</td>\n",
       "      <td>0.957346</td>\n",
       "      <td>0.555885</td>\n",
       "      <td>[0.6068383792564549, 0.8137081492037734, 0.522...</td>\n",
       "    </tr>\n",
       "    <tr>\n",
       "      <th>3</th>\n",
       "      <td>mnist</td>\n",
       "      <td>autoencoder</td>\n",
       "      <td>2</td>\n",
       "      <td>0.967531</td>\n",
       "      <td>0.463664</td>\n",
       "      <td>[0.6270396261421521, 0.6953023558619652, 0.476...</td>\n",
       "    </tr>\n",
       "    <tr>\n",
       "      <th>4</th>\n",
       "      <td>mnist</td>\n",
       "      <td>PCA</td>\n",
       "      <td>2</td>\n",
       "      <td>0.743419</td>\n",
       "      <td>0.022789</td>\n",
       "      <td>[-0.09352723500727518, 0.5116318676810487, 0.0...</td>\n",
       "    </tr>\n",
       "    <tr>\n",
       "      <th>...</th>\n",
       "      <td>...</td>\n",
       "      <td>...</td>\n",
       "      <td>...</td>\n",
       "      <td>...</td>\n",
       "      <td>...</td>\n",
       "      <td>...</td>\n",
       "    </tr>\n",
       "    <tr>\n",
       "      <th>0</th>\n",
       "      <td>mnist</td>\n",
       "      <td>vae</td>\n",
       "      <td>2</td>\n",
       "      <td>0.951298</td>\n",
       "      <td>0.062725</td>\n",
       "      <td>[-0.4249311765798937, 0.31860124944781043, 0.0...</td>\n",
       "    </tr>\n",
       "    <tr>\n",
       "      <th>0</th>\n",
       "      <td>mnist</td>\n",
       "      <td>ae_only</td>\n",
       "      <td>2</td>\n",
       "      <td>0.966330</td>\n",
       "      <td>-0.025757</td>\n",
       "      <td>[-0.3541381283065533, -0.4545258305685591, -0....</td>\n",
       "    </tr>\n",
       "    <tr>\n",
       "      <th>0</th>\n",
       "      <td>mnist</td>\n",
       "      <td>parametric-tsne</td>\n",
       "      <td>64</td>\n",
       "      <td>0.999686</td>\n",
       "      <td>0.048800</td>\n",
       "      <td>[-0.010860901595925445, 0.18013561474196357, 0...</td>\n",
       "    </tr>\n",
       "    <tr>\n",
       "      <th>0</th>\n",
       "      <td>mnist</td>\n",
       "      <td>vae</td>\n",
       "      <td>64</td>\n",
       "      <td>0.999385</td>\n",
       "      <td>0.043106</td>\n",
       "      <td>[-0.015675610761728787, 0.1729575436763652, 0....</td>\n",
       "    </tr>\n",
       "    <tr>\n",
       "      <th>0</th>\n",
       "      <td>mnist</td>\n",
       "      <td>ae_only</td>\n",
       "      <td>64</td>\n",
       "      <td>0.999713</td>\n",
       "      <td>0.065334</td>\n",
       "      <td>[-0.009628635784313793, 0.1924411096825642, 0....</td>\n",
       "    </tr>\n",
       "  </tbody>\n",
       "</table>\n",
       "<p>85 rows × 6 columns</p>\n",
       "</div>"
      ],
      "text/plain": [
       "   dataset           class_ dim  trustworthiness  silhouette_score  \\\n",
       "0    mnist       umap-learn   2         0.960056          0.518626   \n",
       "1    mnist           direct   2         0.960416          0.519683   \n",
       "2    mnist          network   2         0.957346          0.555885   \n",
       "3    mnist      autoencoder   2         0.967531          0.463664   \n",
       "4    mnist              PCA   2         0.743419          0.022789   \n",
       "..     ...              ...  ..              ...               ...   \n",
       "0    mnist              vae   2         0.951298          0.062725   \n",
       "0    mnist          ae_only   2         0.966330         -0.025757   \n",
       "0    mnist  parametric-tsne  64         0.999686          0.048800   \n",
       "0    mnist              vae  64         0.999385          0.043106   \n",
       "0    mnist          ae_only  64         0.999713          0.065334   \n",
       "\n",
       "                                   silhouette_samples  \n",
       "0   [0.639216248568865, 0.781801993664271, 0.44323...  \n",
       "1   [0.6649555493948871, 0.7389523838324524, 0.464...  \n",
       "2   [0.6068383792564549, 0.8137081492037734, 0.522...  \n",
       "3   [0.6270396261421521, 0.6953023558619652, 0.476...  \n",
       "4   [-0.09352723500727518, 0.5116318676810487, 0.0...  \n",
       "..                                                ...  \n",
       "0   [-0.4249311765798937, 0.31860124944781043, 0.0...  \n",
       "0   [-0.3541381283065533, -0.4545258305685591, -0....  \n",
       "0   [-0.010860901595925445, 0.18013561474196357, 0...  \n",
       "0   [-0.015675610761728787, 0.1729575436763652, 0....  \n",
       "0   [-0.009628635784313793, 0.1924411096825642, 0....  \n",
       "\n",
       "[85 rows x 6 columns]"
      ]
     },
     "execution_count": 8,
     "metadata": {},
     "output_type": "execute_result"
    }
   ],
   "source": [
    "metrics_df"
   ]
  },
  {
   "cell_type": "code",
   "execution_count": 9,
   "metadata": {
    "ExecuteTime": {
     "end_time": "2020-08-22T17:23:10.034714Z",
     "start_time": "2020-08-22T17:23:09.985419Z"
    }
   },
   "outputs": [],
   "source": [
    "import seaborn as sns"
   ]
  },
  {
   "cell_type": "code",
   "execution_count": 10,
   "metadata": {
    "ExecuteTime": {
     "end_time": "2020-08-22T17:23:10.037734Z",
     "start_time": "2020-08-22T17:23:10.035783Z"
    }
   },
   "outputs": [],
   "source": [
    "import matplotlib.pyplot as plt"
   ]
  },
  {
   "cell_type": "code",
   "execution_count": 11,
   "metadata": {
    "ExecuteTime": {
     "end_time": "2020-08-22T17:23:10.047041Z",
     "start_time": "2020-08-22T17:23:10.038836Z"
    }
   },
   "outputs": [],
   "source": [
    "from tfumap.paths import FIGURE_DIR, save_fig"
   ]
  },
  {
   "cell_type": "code",
   "execution_count": null,
   "metadata": {
    "ExecuteTime": {
     "end_time": "2020-08-22T06:30:36.429861Z",
     "start_time": "2020-08-22T06:30:36.349708Z"
    }
   },
   "outputs": [],
   "source": []
  },
  {
   "cell_type": "code",
   "execution_count": 12,
   "metadata": {
    "ExecuteTime": {
     "end_time": "2020-08-22T17:23:10.206452Z",
     "start_time": "2020-08-22T17:23:10.048401Z"
    }
   },
   "outputs": [
    {
     "data": {
      "image/png": "[encoded data removed]",
      "text/plain": [
       "<Figure size 1440x72 with 1 Axes>"
      ]
     },
     "metadata": {
      "needs_background": "light"
     },
     "output_type": "display_data"
    },
    {
     "data": {
      "image/png": "[encoded data removed]",
      "text/plain": [
       "<Figure size 864x72 with 1 Axes>"
      ]
     },
     "metadata": {
      "needs_background": "light"
     },
     "output_type": "display_data"
    }
   ],
   "source": [
    "pal20c = sns.color_palette('tab20c', 20)\n",
    "sns.palplot(pal20c)\n",
    "hue_dict = {\n",
    "    \"umap-learn\": list(np.array(pal20c[3])**4),\n",
    "    \"direct\": pal20c[2],\n",
    "    \"AE\": pal20c[1],\n",
    "    \"autoencoder\": pal20c[1],\n",
    "    \"network\": pal20c[0],\n",
    "    'vae':  pal20c[8], \n",
    "    'ae_only':  pal20c[9],\n",
    "    \"pca\":  pal20c[12],\n",
    "    \"PCA\":  pal20c[12],\n",
    "    \"TSNE\": pal20c[4], \n",
    "    \"parametric-tsne\":pal20c[5],\n",
    "    \"network-cpu\": pal20c[2],\n",
    "\n",
    "}\n",
    "sns.palplot([hue_dict[i] for i in hue_dict.keys()])"
   ]
  },
  {
   "cell_type": "code",
   "execution_count": 99,
   "metadata": {
    "ExecuteTime": {
     "end_time": "2020-08-22T19:16:59.311538Z",
     "start_time": "2020-08-22T19:16:58.211957Z"
    }
   },
   "outputs": [
    {
     "data": {
      "image/png": "[encoded data removed]",
      "text/plain": [
       "<Figure size 1375x275 with 2 Axes>"
      ]
     },
     "metadata": {},
     "output_type": "display_data"
    }
   ],
   "source": [
    "axes = {'labelsize': 14,\n",
    "        'titlesize': 14,}\n",
    "mpl.rc('axes', **axes)\n",
    "mpl.rcParams['xtick.labelsize'] = 14\n",
    "\n",
    "hue_list = [\"TSNE\", \"parametric-tsne\", \"umap-learn\", \"direct\", \"network\", \"autoencoder\", 'vae', \"ae_only\", \"PCA\"]\n",
    "fg = sns.catplot(\n",
    "    x=\"dataset\",\n",
    "    y=\"silhouette_score\",\n",
    "    hue=\"class_\",\n",
    "    hue_order=hue_list,\n",
    "    order = ['mnist', 'fmnist', 'macosko2015', 'cassins_dtw', 'cifar10'],\n",
    "    col=\"dim\",\n",
    "    height=2.75, #2.65, \n",
    "    aspect=2.5, #3,\n",
    "    data=metrics_df,\n",
    "    kind=\"bar\",\n",
    "    palette=[hue_dict[i] for i in hue_list],\n",
    "    \n",
    "    legend=False\n",
    ")\n",
    "\n",
    "\n",
    "\n",
    "(fg.despine(bottom=True)\n",
    " .set_xticklabels(['MNIST', 'FMNIST', 'Retina', 'Cassin\\'s', 'CIFAR10'])\n",
    " .set_axis_labels(\"\", \"Silhouette Score\")\n",
    ")\n",
    "ax = fg.axes[0][0]\n",
    "ax.tick_params(axis=u'both', which=u'both',length=0)\n",
    "\n",
    "ax.set_title('2 Dimensions')\n",
    "ax = fg.axes[0][1]\n",
    "ax.tick_params(axis=u'both', which=u'both',length=0)\n",
    "\n",
    "ax.set_title('64 Dimensions')\n",
    "\n",
    "if True:\n",
    "    leg = plt.legend(loc='upper left', bbox_to_anchor=(1.0, 1.1))\n",
    "else:\n",
    "    leg = fg._legend\n",
    "    \n",
    "leg.get_frame().set_edgecolor('w')\n",
    "    \n",
    "leg._legend_title_box._text.set_text(\"\")\n",
    "leg.texts[np.where((np.array([i._text for i in leg.texts]) == 'umap-learn'))[0][0]].set_text('UMAP (UMAP-learn)')\n",
    "leg.texts[np.where((np.array([i._text for i in leg.texts]) == 'network'))[0][0]].set_text('P. UMAP')\n",
    "leg.texts[np.where((np.array([i._text for i in leg.texts]) == 'direct'))[0][0]].set_text('UMAP (TF)')\n",
    "leg.texts[np.where((np.array([i._text for i in leg.texts]) == 'autoencoder'))[0][0]].set_text('UMAP AE')\n",
    "leg.texts[np.where((np.array([i._text for i in leg.texts]) == 'parametric-tsne'))[0][0]].set_text('P. TSNE')\n",
    "leg.texts[np.where((np.array([i._text for i in leg.texts]) == 'ae_only'))[0][0]].set_text('AE')\n",
    "leg.texts[np.where((np.array([i._text for i in leg.texts]) == 'vae'))[0][0]].set_text('VAE')\n",
    "\n",
    "\n",
    "save_fig(FIGURE_DIR/'silhouette', save_pdf=True, dpi=300)"
   ]
  },
  {
   "cell_type": "code",
   "execution_count": 84,
   "metadata": {
    "ExecuteTime": {
     "end_time": "2020-08-22T19:12:30.006795Z",
     "start_time": "2020-08-22T19:12:30.002029Z"
    }
   },
   "outputs": [
    {
     "data": {
      "text/plain": [
       "<matplotlib.legend.Legend at 0x7f316a4db748>"
      ]
     },
     "execution_count": 84,
     "metadata": {},
     "output_type": "execute_result"
    }
   ],
   "source": [
    "leg"
   ]
  },
  {
   "cell_type": "code",
   "execution_count": 52,
   "metadata": {
    "ExecuteTime": {
     "end_time": "2020-08-22T18:00:58.309330Z",
     "start_time": "2020-08-22T18:00:58.306699Z"
    }
   },
   "outputs": [],
   "source": [
    "hue_list = [\"TSNE\", \"parametric-tsne\",  \"umap-learn\", \"direct\", \"network\", \"autoencoder\", 'vae', 'ae_only', \"PCA\"]"
   ]
  },
  {
   "cell_type": "code",
   "execution_count": 53,
   "metadata": {
    "ExecuteTime": {
     "end_time": "2020-08-22T18:00:58.322332Z",
     "start_time": "2020-08-22T18:00:58.311397Z"
    }
   },
   "outputs": [],
   "source": [
    "import matplotlib as mpl"
   ]
  },
  {
   "cell_type": "code",
   "execution_count": 98,
   "metadata": {
    "ExecuteTime": {
     "end_time": "2020-08-22T19:16:41.537585Z",
     "start_time": "2020-08-22T19:16:40.333386Z"
    }
   },
   "outputs": [
    {
     "data": {
      "image/png": "[encoded data removed]",
      "text/plain": [
       "<Figure size 1375x275 with 2 Axes>"
      ]
     },
     "metadata": {},
     "output_type": "display_data"
    }
   ],
   "source": [
    "#sns.set(font_scale=1.0)\n",
    "axes = {'labelsize': 14,\n",
    "        'titlesize': 14,}\n",
    "mpl.rc('axes', **axes)\n",
    "mpl.rcParams['xtick.labelsize'] = 14\n",
    "\n",
    "fg = sns.catplot(\n",
    "    x=\"dataset\",\n",
    "    y=\"trustworthiness\",\n",
    "    hue=\"class_\",\n",
    "    hue_order=hue_list,\n",
    "    order = ['mnist', 'fmnist', 'macosko2015', 'cassins_dtw', 'cifar10'],\n",
    "    col=\"dim\",\n",
    "    height=2.75, #2.65, \n",
    "    aspect=2.5,#3,\n",
    "    data=metrics_df,\n",
    "    kind=\"bar\",\n",
    "    palette=[hue_dict[i] for i in hue_list],\n",
    "    \n",
    "    legend=False\n",
    ")\n",
    "(fg.despine(bottom=True)\n",
    " .set_xticklabels(['MNIST', 'FMNIST', 'Retina', 'Cassin\\'s', 'CIFAR10'])\n",
    " .set_axis_labels(\"\", \"Trustworthiness\")\n",
    ")\n",
    "ax = fg.axes[0][0]\n",
    "ax.tick_params(axis=u'both', which=u'both',length=0)\n",
    "\n",
    "\n",
    "ax.set_title('2 Dimensions')\n",
    "ax = fg.axes[0][1]\n",
    "ax.tick_params(axis=u'both', which=u'both',length=0)\n",
    "\n",
    "ax.set_title('64 Dimensions')\n",
    "ax.set_ylim([0.7, 1])\n",
    "if True:\n",
    "    leg = plt.legend(loc='upper left', bbox_to_anchor=(1.0, 1.1))\n",
    "else:\n",
    "    leg = fg._legend\n",
    "    \n",
    "leg.get_frame().set_edgecolor('w')\n",
    "    \n",
    "leg._legend_title_box._text.set_text(\"\")\n",
    "leg.texts[np.where((np.array([i._text for i in leg.texts]) == 'umap-learn'))[0][0]].set_text('UMAP (UMAP-learn)')\n",
    "leg.texts[np.where((np.array([i._text for i in leg.texts]) == 'network'))[0][0]].set_text('P. UMAP')\n",
    "leg.texts[np.where((np.array([i._text for i in leg.texts]) == 'direct'))[0][0]].set_text('UMAP (TF)')\n",
    "leg.texts[np.where((np.array([i._text for i in leg.texts]) == 'autoencoder'))[0][0]].set_text('UMAP AE')\n",
    "leg.texts[np.where((np.array([i._text for i in leg.texts]) == 'parametric-tsne'))[0][0]].set_text('P. TSNE')\n",
    "leg.texts[np.where((np.array([i._text for i in leg.texts]) == 'ae_only'))[0][0]].set_text('AE')\n",
    "leg.texts[np.where((np.array([i._text for i in leg.texts]) == 'vae'))[0][0]].set_text('VAE')\n",
    "#\n",
    "\n",
    "save_fig(FIGURE_DIR/'trustworthiness', save_pdf=True, dpi=300)\n"
   ]
  },
  {
   "cell_type": "code",
   "execution_count": 38,
   "metadata": {
    "ExecuteTime": {
     "end_time": "2020-08-22T17:29:33.845316Z",
     "start_time": "2020-08-22T17:29:33.839631Z"
    }
   },
   "outputs": [],
   "source": [
    "plt.rcParams.update(plt.rcParamsDefault)"
   ]
  },
  {
   "cell_type": "code",
   "execution_count": null,
   "metadata": {},
   "outputs": [],
   "source": []
  }
 ],
 "metadata": {
  "kernelspec": {
   "display_name": "Python 3",
   "language": "python",
   "name": "python3"
  },
  "language_info": {
   "codemirror_mode": {
    "name": "ipython",
    "version": 3
   },
   "file_extension": ".py",
   "mimetype": "text/x-python",
   "name": "python",
   "nbconvert_exporter": "python",
   "pygments_lexer": "ipython3",
   "version": "3.6.7"
  }
 },
 "nbformat": 4,
 "nbformat_minor": 2
}
