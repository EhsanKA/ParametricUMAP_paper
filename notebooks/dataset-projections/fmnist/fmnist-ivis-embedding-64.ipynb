{
 "cells": [
  {
   "cell_type": "code",
   "execution_count": 1,
   "metadata": {
    "ExecuteTime": {
     "end_time": "2021-01-15T04:40:15.036804Z",
     "start_time": "2021-01-15T04:40:15.032389Z"
    }
   },
   "outputs": [],
   "source": [
    "dataset = 'fmnist'\n",
    "algorithm = 'ivis'\n",
    "n_components = 64"
   ]
  },
  {
   "cell_type": "code",
   "execution_count": 2,
   "metadata": {
    "ExecuteTime": {
     "end_time": "2021-01-15T04:40:15.068500Z",
     "start_time": "2021-01-15T04:40:15.038802Z"
    }
   },
   "outputs": [],
   "source": [
    "# reload packages\n",
    "%load_ext autoreload\n",
    "%autoreload 2"
   ]
  },
  {
   "cell_type": "markdown",
   "metadata": {},
   "source": [
    "### Choose GPU (this may not be needed on your computer)"
   ]
  },
  {
   "cell_type": "code",
   "execution_count": 3,
   "metadata": {
    "ExecuteTime": {
     "end_time": "2021-01-15T04:40:15.093790Z",
     "start_time": "2021-01-15T04:40:15.069937Z"
    }
   },
   "outputs": [
    {
     "name": "stdout",
     "output_type": "stream",
     "text": [
      "env: CUDA_DEVICE_ORDER=PCI_BUS_ID\n",
      "env: CUDA_VISIBLE_DEVICES=1\n"
     ]
    }
   ],
   "source": [
    "%env CUDA_DEVICE_ORDER=PCI_BUS_ID\n",
    "%env CUDA_VISIBLE_DEVICES=1"
   ]
  },
  {
   "cell_type": "code",
   "execution_count": 4,
   "metadata": {
    "ExecuteTime": {
     "end_time": "2021-01-15T04:40:18.278751Z",
     "start_time": "2021-01-15T04:40:15.095742Z"
    }
   },
   "outputs": [],
   "source": [
    "import tensorflow as tf\n",
    "gpus = tf.config.experimental.list_physical_devices('GPU')\n",
    "for gpu in gpus:\n",
    "  tf.config.experimental.set_memory_growth(gpu, True)"
   ]
  },
  {
   "cell_type": "markdown",
   "metadata": {},
   "source": [
    "### load packages"
   ]
  },
  {
   "cell_type": "code",
   "execution_count": 5,
   "metadata": {
    "ExecuteTime": {
     "end_time": "2021-01-15T04:40:46.121406Z",
     "start_time": "2021-01-15T04:40:18.281118Z"
    }
   },
   "outputs": [
    {
     "name": "stderr",
     "output_type": "stream",
     "text": [
      "/mnt/cube/tsainbur/Projects/github_repos/umap_tf_networks/tfumap/umap.py:7: TqdmExperimentalWarning: Using `tqdm.autonotebook.tqdm` in notebook mode. Use `tqdm.tqdm` instead to force console mode (e.g. in jupyter console)\n",
      "  from tqdm.autonotebook import tqdm\n"
     ]
    }
   ],
   "source": [
    "from tfumap.umap import tfUMAP"
   ]
  },
  {
   "cell_type": "code",
   "execution_count": 6,
   "metadata": {
    "ExecuteTime": {
     "end_time": "2021-01-15T04:40:46.910411Z",
     "start_time": "2021-01-15T04:40:46.125837Z"
    }
   },
   "outputs": [],
   "source": [
    "import tensorflow as tf\n",
    "import numpy as np\n",
    "import matplotlib.pyplot as plt\n",
    "from tqdm.autonotebook import tqdm\n",
    "import umap\n",
    "import pandas as pd"
   ]
  },
  {
   "cell_type": "markdown",
   "metadata": {},
   "source": [
    "### Load dataset"
   ]
  },
  {
   "cell_type": "code",
   "execution_count": 7,
   "metadata": {
    "ExecuteTime": {
     "end_time": "2021-01-15T04:40:49.617638Z",
     "start_time": "2021-01-15T04:40:46.920964Z"
    }
   },
   "outputs": [
    {
     "name": "stdout",
     "output_type": "stream",
     "text": [
      "50000 10000 10000\n"
     ]
    }
   ],
   "source": [
    "from tensorflow.keras.datasets import fashion_mnist\n",
    "\n",
    "# load dataset\n",
    "(train_images, Y_train), (test_images, Y_test) = fashion_mnist.load_data()\n",
    "X_train = (train_images/255.).astype('float32')\n",
    "X_test = (test_images/255.).astype('float32')\n",
    "X_train = X_train.reshape((len(X_train), np.product(np.shape(X_train)[1:])))\n",
    "X_test = X_test.reshape((len(X_test), np.product(np.shape(X_test)[1:])))\n",
    "\n",
    "# subset a validation set\n",
    "n_valid = 10000\n",
    "X_valid = X_train[-n_valid:]\n",
    "Y_valid = Y_train[-n_valid:]\n",
    "X_train = X_train[:-n_valid]\n",
    "Y_train = Y_train[:-n_valid]\n",
    "\n",
    "# flatten X\n",
    "X_train_flat = X_train.reshape((len(X_train), np.product(np.shape(X_train)[1:])))\n",
    "X_test_flat = X_test.reshape((len(X_test), np.product(np.shape(X_test)[1:])))\n",
    "X_valid_flat= X_valid.reshape((len(X_valid), np.product(np.shape(X_valid)[1:])))\n",
    "print(len(X_train), len(X_valid), len(X_test))"
   ]
  },
  {
   "cell_type": "markdown",
   "metadata": {},
   "source": [
    "### Create model and train"
   ]
  },
  {
   "cell_type": "code",
   "execution_count": 8,
   "metadata": {
    "ExecuteTime": {
     "end_time": "2021-01-15T04:40:50.061778Z",
     "start_time": "2021-01-15T04:40:49.620930Z"
    }
   },
   "outputs": [],
   "source": [
    "from ivis import Ivis\n",
    "from sklearn.preprocessing import MinMaxScaler\n",
    "from sklearn import datasets"
   ]
  },
  {
   "cell_type": "code",
   "execution_count": 9,
   "metadata": {
    "ExecuteTime": {
     "end_time": "2021-01-15T04:40:50.215109Z",
     "start_time": "2021-01-15T04:40:50.068144Z"
    }
   },
   "outputs": [],
   "source": [
    "dims = (28,28,1)"
   ]
  },
  {
   "cell_type": "code",
   "execution_count": 10,
   "metadata": {
    "ExecuteTime": {
     "end_time": "2021-01-15T04:40:50.377767Z",
     "start_time": "2021-01-15T04:40:50.217309Z"
    }
   },
   "outputs": [],
   "source": [
    "def create_model():\n",
    "    \"\"\"model = tf.keras.models.Sequential()\n",
    "    model.add(tf.keras.layers.BatchNormalization(input_shape=x_train.shape[1:]))\n",
    "    model.add(tf.keras.layers.Conv2D(64, (5, 5), padding='same', activation='elu'))\n",
    "    model.add(tf.keras.layers.MaxPooling2D(pool_size=(2, 2), strides=(2,2)))\n",
    "    model.add(tf.keras.layers.Dropout(0.25))\n",
    "\n",
    "    model.add(tf.keras.layers.BatchNormalization(input_shape=x_train.shape[1:]))\n",
    "    model.add(tf.keras.layers.Conv2D(128, (5, 5), padding='same', activation='elu'))\n",
    "    model.add(tf.keras.layers.MaxPooling2D(pool_size=(2, 2)))\n",
    "    model.add(tf.keras.layers.Dropout(0.25))\n",
    "\n",
    "    model.add(tf.keras.layers.BatchNormalization(input_shape=x_train.shape[1:]))\n",
    "    model.add(tf.keras.layers.Conv2D(256, (5, 5), padding='same', activation='elu'))\n",
    "    model.add(tf.keras.layers.MaxPooling2D(pool_size=(2, 2), strides=(2,2)))\n",
    "\n",
    "    model.add(tf.keras.layers.Flatten())\n",
    "    \"\"\"\n",
    "    model = tf.keras.Sequential([\n",
    "    tf.keras.layers.InputLayer(input_shape=dims),\n",
    "    tf.keras.layers.Conv2D(\n",
    "        filters=64, kernel_size=3, strides=(2, 2), activation=\"relu\"\n",
    "    ),\n",
    "    tf.keras.layers.Conv2D(\n",
    "        filters=128, kernel_size=3, strides=(2, 2), activation=\"relu\"\n",
    "    ),\n",
    "\n",
    "    tf.keras.layers.Flatten(),\n",
    "    tf.keras.layers.Dense(units=512, activation=\"relu\"),\n",
    "    tf.keras.layers.Dense(units=512, activation=\"relu\"),\n",
    "    #tf.keras.layers.Dense(units=n_components),\n",
    "    ])\n",
    "    return model"
   ]
  },
  {
   "cell_type": "code",
   "execution_count": 11,
   "metadata": {
    "ExecuteTime": {
     "end_time": "2021-01-15T04:40:53.426362Z",
     "start_time": "2021-01-15T04:40:50.380038Z"
    }
   },
   "outputs": [],
   "source": [
    "base_model = create_model()"
   ]
  },
  {
   "cell_type": "code",
   "execution_count": 12,
   "metadata": {
    "ExecuteTime": {
     "end_time": "2021-01-15T04:40:53.589670Z",
     "start_time": "2021-01-15T04:40:53.428864Z"
    }
   },
   "outputs": [
    {
     "data": {
      "text/plain": [
       "(50000, 784)"
      ]
     },
     "execution_count": 12,
     "metadata": {},
     "output_type": "execute_result"
    }
   ],
   "source": [
    "X_train.shape"
   ]
  },
  {
   "cell_type": "code",
   "execution_count": 13,
   "metadata": {
    "ExecuteTime": {
     "end_time": "2021-01-15T04:40:54.700219Z",
     "start_time": "2021-01-15T04:40:53.600362Z"
    }
   },
   "outputs": [],
   "source": [
    "x_scaler = MinMaxScaler()\n",
    "X_scaled = x_scaler.fit_transform(X_train).reshape([len(X_train)] + list(dims))"
   ]
  },
  {
   "cell_type": "code",
   "execution_count": 14,
   "metadata": {
    "ExecuteTime": {
     "end_time": "2021-01-15T04:40:54.783067Z",
     "start_time": "2021-01-15T04:40:54.702738Z"
    }
   },
   "outputs": [],
   "source": [
    "# Set ivis parameters\n",
    "model = Ivis(model=base_model, embedding_dims=n_components)"
   ]
  },
  {
   "cell_type": "code",
   "execution_count": 15,
   "metadata": {
    "ExecuteTime": {
     "end_time": "2021-01-15T04:49:41.141067Z",
     "start_time": "2021-01-15T04:40:54.785061Z"
    }
   },
   "outputs": [
    {
     "name": "stderr",
     "output_type": "stream",
     "text": [
      "  1%|          | 258/50000 [00:00<00:19, 2577.33it/s]"
     ]
    },
    {
     "name": "stdout",
     "output_type": "stream",
     "text": [
      "Building KNN index\n",
      "Flattening multidimensional input before building KNN index using Annoy\n"
     ]
    },
    {
     "name": "stderr",
     "output_type": "stream",
     "text": [
      "100%|██████████| 50000/50000 [00:19<00:00, 2543.24it/s]\n"
     ]
    },
    {
     "name": "stdout",
     "output_type": "stream",
     "text": [
      "Extracting KNN neighbours\n",
      "Flattening data before retrieving KNN from index\n"
     ]
    },
    {
     "name": "stderr",
     "output_type": "stream",
     "text": [
      "100%|██████████| 50000/50000 [00:15<00:00, 3146.33it/s]\n"
     ]
    },
    {
     "name": "stdout",
     "output_type": "stream",
     "text": [
      "Training neural network\n",
      "Epoch 1/1000\n",
      "391/391 [==============================] - 3s 8ms/step - loss: 0.0441\n",
      "Epoch 2/1000\n",
      "391/391 [==============================] - 3s 9ms/step - loss: 0.0281\n",
      "Epoch 3/1000\n",
      "391/391 [==============================] - 3s 9ms/step - loss: 0.0251\n",
      "Epoch 4/1000\n",
      "391/391 [==============================] - 4s 9ms/step - loss: 0.0245\n",
      "Epoch 5/1000\n",
      "391/391 [==============================] - 3s 9ms/step - loss: 0.0220\n",
      "Epoch 6/1000\n",
      "391/391 [==============================] - 3s 9ms/step - loss: 0.0210\n",
      "Epoch 7/1000\n",
      "391/391 [==============================] - 3s 9ms/step - loss: 0.0197\n",
      "Epoch 8/1000\n",
      "391/391 [==============================] - 3s 9ms/step - loss: 0.0203\n",
      "Epoch 9/1000\n",
      "391/391 [==============================] - 4s 10ms/step - loss: 0.0206\n",
      "Epoch 10/1000\n",
      "391/391 [==============================] - 4s 11ms/step - loss: 0.0184\n",
      "Epoch 11/1000\n",
      "391/391 [==============================] - 4s 9ms/step - loss: 0.0186\n",
      "Epoch 12/1000\n",
      "391/391 [==============================] - 4s 10ms/step - loss: 0.0178\n",
      "Epoch 13/1000\n",
      "391/391 [==============================] - 4s 10ms/step - loss: 0.0196\n",
      "Epoch 14/1000\n",
      "391/391 [==============================] - 4s 10ms/step - loss: 0.0176\n",
      "Epoch 15/1000\n",
      "391/391 [==============================] - 4s 9ms/step - loss: 0.0170\n",
      "Epoch 16/1000\n",
      "391/391 [==============================] - 3s 9ms/step - loss: 0.0177\n",
      "Epoch 17/1000\n",
      "391/391 [==============================] - 4s 9ms/step - loss: 0.0172\n",
      "Epoch 18/1000\n",
      "391/391 [==============================] - 4s 10ms/step - loss: 0.0172\n",
      "Epoch 19/1000\n",
      "391/391 [==============================] - 5s 14ms/step - loss: 0.0169\n",
      "Epoch 20/1000\n",
      "391/391 [==============================] - 4s 10ms/step - loss: 0.0161\n",
      "Epoch 21/1000\n",
      "391/391 [==============================] - 4s 9ms/step - loss: 0.0171\n",
      "Epoch 22/1000\n",
      "391/391 [==============================] - 4s 9ms/step - loss: 0.0169\n",
      "Epoch 23/1000\n",
      "391/391 [==============================] - 4s 10ms/step - loss: 0.0156\n",
      "Epoch 24/1000\n",
      "391/391 [==============================] - 4s 9ms/step - loss: 0.0160\n",
      "Epoch 25/1000\n",
      "391/391 [==============================] - 4s 9ms/step - loss: 0.0161\n",
      "Epoch 26/1000\n",
      "391/391 [==============================] - 4s 10ms/step - loss: 0.0161\n",
      "Epoch 27/1000\n",
      "391/391 [==============================] - 4s 11ms/step - loss: 0.0163\n",
      "Epoch 28/1000\n",
      "391/391 [==============================] - 4s 10ms/step - loss: 0.0159\n",
      "Epoch 29/1000\n",
      "391/391 [==============================] - 4s 10ms/step - loss: 0.0154\n",
      "Epoch 30/1000\n",
      "391/391 [==============================] - 4s 9ms/step - loss: 0.0157\n",
      "Epoch 31/1000\n",
      "391/391 [==============================] - 4s 9ms/step - loss: 0.0161\n",
      "Epoch 32/1000\n",
      "391/391 [==============================] - 3s 8ms/step - loss: 0.0152\n",
      "Epoch 33/1000\n",
      "391/391 [==============================] - 4s 10ms/step - loss: 0.0165\n",
      "Epoch 34/1000\n",
      "391/391 [==============================] - 4s 10ms/step - loss: 0.0147\n",
      "Epoch 35/1000\n",
      "391/391 [==============================] - 3s 9ms/step - loss: 0.0155\n",
      "Epoch 36/1000\n",
      "391/391 [==============================] - 4s 9ms/step - loss: 0.0147\n",
      "Epoch 37/1000\n",
      "391/391 [==============================] - 3s 8ms/step - loss: 0.0154\n",
      "Epoch 38/1000\n",
      "391/391 [==============================] - 4s 10ms/step - loss: 0.0147\n",
      "Epoch 39/1000\n",
      "391/391 [==============================] - 4s 11ms/step - loss: 0.0152\n",
      "Epoch 40/1000\n",
      "391/391 [==============================] - 4s 10ms/step - loss: 0.0150\n",
      "Epoch 41/1000\n",
      "391/391 [==============================] - 4s 11ms/step - loss: 0.0160\n",
      "Epoch 42/1000\n",
      "391/391 [==============================] - 4s 10ms/step - loss: 0.0145\n",
      "Epoch 43/1000\n",
      "391/391 [==============================] - 4s 9ms/step - loss: 0.0143\n",
      "Epoch 44/1000\n",
      "391/391 [==============================] - 4s 11ms/step - loss: 0.0137\n",
      "Epoch 45/1000\n",
      "391/391 [==============================] - 4s 10ms/step - loss: 0.0143\n",
      "Epoch 46/1000\n",
      "391/391 [==============================] - 4s 10ms/step - loss: 0.0148\n",
      "Epoch 47/1000\n",
      "391/391 [==============================] - 4s 10ms/step - loss: 0.0146\n",
      "Epoch 48/1000\n",
      "391/391 [==============================] - 4s 10ms/step - loss: 0.0139\n",
      "Epoch 49/1000\n",
      "391/391 [==============================] - 4s 10ms/step - loss: 0.0145\n",
      "Epoch 50/1000\n",
      "391/391 [==============================] - 4s 11ms/step - loss: 0.0140\n",
      "Epoch 51/1000\n",
      "391/391 [==============================] - 5s 12ms/step - loss: 0.0132\n",
      "Epoch 52/1000\n",
      "391/391 [==============================] - 4s 10ms/step - loss: 0.0155\n",
      "Epoch 53/1000\n",
      "391/391 [==============================] - 4s 10ms/step - loss: 0.0145\n",
      "Epoch 54/1000\n",
      "391/391 [==============================] - 4s 11ms/step - loss: 0.0139\n",
      "Epoch 55/1000\n",
      "391/391 [==============================] - 4s 11ms/step - loss: 0.0132\n",
      "Epoch 56/1000\n",
      "391/391 [==============================] - 5s 12ms/step - loss: 0.0139\n",
      "Epoch 57/1000\n",
      "391/391 [==============================] - 5s 13ms/step - loss: 0.0135\n",
      "Epoch 58/1000\n",
      "391/391 [==============================] - 5s 14ms/step - loss: 0.0134\n",
      "Epoch 59/1000\n",
      "391/391 [==============================] - 5s 13ms/step - loss: 0.0137\n",
      "Epoch 60/1000\n",
      "391/391 [==============================] - 5s 12ms/step - loss: 0.0137\n",
      "Epoch 61/1000\n",
      "391/391 [==============================] - 4s 11ms/step - loss: 0.0148\n",
      "Epoch 62/1000\n",
      "391/391 [==============================] - 5s 12ms/step - loss: 0.0125\n",
      "Epoch 63/1000\n",
      "391/391 [==============================] - 5s 12ms/step - loss: 0.0133\n",
      "Epoch 64/1000\n",
      "391/391 [==============================] - 5s 12ms/step - loss: 0.0137\n",
      "Epoch 65/1000\n",
      "391/391 [==============================] - 5s 12ms/step - loss: 0.0138\n",
      "Epoch 66/1000\n",
      "391/391 [==============================] - 5s 13ms/step - loss: 0.0128\n",
      "Epoch 67/1000\n",
      "391/391 [==============================] - 6s 16ms/step - loss: 0.0143\n",
      "Epoch 68/1000\n",
      "391/391 [==============================] - 5s 13ms/step - loss: 0.0135\n",
      "Epoch 69/1000\n",
      "391/391 [==============================] - 5s 12ms/step - loss: 0.0136\n",
      "Epoch 70/1000\n",
      "391/391 [==============================] - 5s 12ms/step - loss: 0.0139\n",
      "Epoch 71/1000\n",
      "391/391 [==============================] - 5s 13ms/step - loss: 0.0137\n",
      "Epoch 72/1000\n",
      "391/391 [==============================] - 5s 12ms/step - loss: 0.0127\n",
      "Epoch 73/1000\n",
      "391/391 [==============================] - 5s 12ms/step - loss: 0.0130\n",
      "Epoch 74/1000\n",
      "391/391 [==============================] - 4s 11ms/step - loss: 0.0132\n",
      "Epoch 75/1000\n",
      "391/391 [==============================] - 5s 12ms/step - loss: 0.0128\n",
      "Epoch 76/1000\n",
      "391/391 [==============================] - 5s 13ms/step - loss: 0.0139\n",
      "Epoch 77/1000\n",
      "391/391 [==============================] - 5s 13ms/step - loss: 0.0137\n",
      "Epoch 78/1000\n",
      "391/391 [==============================] - 5s 14ms/step - loss: 0.0126\n",
      "Epoch 79/1000\n",
      "391/391 [==============================] - 5s 13ms/step - loss: 0.0125\n",
      "Epoch 80/1000\n",
      "391/391 [==============================] - 6s 15ms/step - loss: 0.0125\n",
      "Epoch 81/1000\n",
      "391/391 [==============================] - 6s 16ms/step - loss: 0.0125\n",
      "Epoch 82/1000\n",
      "391/391 [==============================] - 7s 17ms/step - loss: 0.0130\n",
      "Epoch 83/1000\n",
      "391/391 [==============================] - 5s 13ms/step - loss: 0.0131\n",
      "Epoch 84/1000\n",
      "391/391 [==============================] - 4s 11ms/step - loss: 0.0136\n",
      "Epoch 85/1000\n",
      "391/391 [==============================] - 5s 13ms/step - loss: 0.0133\n",
      "Epoch 86/1000\n",
      "391/391 [==============================] - 4s 11ms/step - loss: 0.0135\n",
      "Epoch 87/1000\n",
      "391/391 [==============================] - 4s 12ms/step - loss: 0.0116\n",
      "Epoch 88/1000\n",
      "391/391 [==============================] - 5s 13ms/step - loss: 0.0132\n",
      "Epoch 89/1000\n",
      "391/391 [==============================] - 5s 13ms/step - loss: 0.0125\n",
      "Epoch 90/1000\n",
      "391/391 [==============================] - 4s 11ms/step - loss: 0.0132\n",
      "Epoch 91/1000\n",
      "391/391 [==============================] - 6s 14ms/step - loss: 0.0136\n",
      "Epoch 92/1000\n",
      "391/391 [==============================] - 5s 13ms/step - loss: 0.0129\n",
      "Epoch 93/1000\n",
      "391/391 [==============================] - 5s 14ms/step - loss: 0.0135\n",
      "Epoch 94/1000\n",
      "391/391 [==============================] - 4s 11ms/step - loss: 0.0120\n",
      "Epoch 95/1000\n",
      "391/391 [==============================] - 4s 11ms/step - loss: 0.0135\n",
      "Epoch 96/1000\n",
      "391/391 [==============================] - 5s 12ms/step - loss: 0.0128\n",
      "Epoch 97/1000\n"
     ]
    },
    {
     "name": "stdout",
     "output_type": "stream",
     "text": [
      "391/391 [==============================] - 5s 13ms/step - loss: 0.0117\n",
      "Epoch 98/1000\n",
      "391/391 [==============================] - 4s 11ms/step - loss: 0.0130\n",
      "Epoch 99/1000\n",
      "391/391 [==============================] - 5s 13ms/step - loss: 0.0130\n",
      "Epoch 100/1000\n",
      "391/391 [==============================] - 5s 13ms/step - loss: 0.0128\n",
      "Epoch 101/1000\n",
      "391/391 [==============================] - 4s 11ms/step - loss: 0.0128\n",
      "Epoch 102/1000\n",
      "391/391 [==============================] - 4s 10ms/step - loss: 0.0123\n",
      "Epoch 103/1000\n",
      "391/391 [==============================] - 5s 12ms/step - loss: 0.0117\n",
      "Epoch 104/1000\n",
      "391/391 [==============================] - 4s 11ms/step - loss: 0.0124\n",
      "Epoch 105/1000\n",
      "391/391 [==============================] - 4s 11ms/step - loss: 0.0131\n",
      "Epoch 106/1000\n",
      "391/391 [==============================] - 5s 12ms/step - loss: 0.0127\n",
      "Epoch 107/1000\n",
      "391/391 [==============================] - 4s 11ms/step - loss: 0.0119\n",
      "391/391 [==============================] - 1s 3ms/step\n"
     ]
    }
   ],
   "source": [
    "# Generate embeddings\n",
    "embeddings =z = model.fit_transform(X_scaled)"
   ]
  },
  {
   "cell_type": "markdown",
   "metadata": {},
   "source": [
    "### Plot model output"
   ]
  },
  {
   "cell_type": "code",
   "execution_count": 16,
   "metadata": {
    "ExecuteTime": {
     "end_time": "2021-01-15T04:49:43.314238Z",
     "start_time": "2021-01-15T04:49:41.142621Z"
    }
   },
   "outputs": [
    {
     "data": {
      "image/png": "[encoded data removed]",
      "text/plain": [
       "<Figure size 576x576 with 2 Axes>"
      ]
     },
     "metadata": {
      "needs_background": "light"
     },
     "output_type": "display_data"
    }
   ],
   "source": [
    "fig, ax = plt.subplots( figsize=(8, 8))\n",
    "sc = ax.scatter(\n",
    "    z[:, 0],\n",
    "    z[:, 1],\n",
    "    c=Y_train.astype(int)[:len(z)],\n",
    "    cmap=\"tab10\",\n",
    "    s=0.1,\n",
    "    alpha=0.5,\n",
    "    rasterized=True,\n",
    ")\n",
    "ax.axis('equal')\n",
    "ax.set_title(\"UMAP in Tensorflow embedding\", fontsize=20)\n",
    "plt.colorbar(sc, ax=ax);"
   ]
  },
  {
   "cell_type": "markdown",
   "metadata": {},
   "source": [
    "### Save output"
   ]
  },
  {
   "cell_type": "code",
   "execution_count": 17,
   "metadata": {
    "ExecuteTime": {
     "end_time": "2021-01-15T04:49:43.484165Z",
     "start_time": "2021-01-15T04:49:43.331413Z"
    }
   },
   "outputs": [],
   "source": [
    "from tfumap.paths import ensure_dir, MODEL_DIR"
   ]
  },
  {
   "cell_type": "code",
   "execution_count": 18,
   "metadata": {
    "ExecuteTime": {
     "end_time": "2021-01-15T04:49:43.802735Z",
     "start_time": "2021-01-15T04:49:43.488096Z"
    }
   },
   "outputs": [],
   "source": [
    "output_dir = MODEL_DIR/'projections'/ dataset / str(n_components) / algorithm\n",
    "ensure_dir(output_dir)"
   ]
  },
  {
   "cell_type": "code",
   "execution_count": 19,
   "metadata": {
    "ExecuteTime": {
     "end_time": "2021-01-15T04:49:43.912671Z",
     "start_time": "2021-01-15T04:49:43.807520Z"
    }
   },
   "outputs": [],
   "source": [
    "#vae.save(output_dir)"
   ]
  },
  {
   "cell_type": "code",
   "execution_count": 20,
   "metadata": {
    "ExecuteTime": {
     "end_time": "2021-01-15T04:49:44.770665Z",
     "start_time": "2021-01-15T04:49:43.918014Z"
    }
   },
   "outputs": [],
   "source": [
    "model.save_model(output_dir / 'iris.ivis')"
   ]
  },
  {
   "cell_type": "code",
   "execution_count": 21,
   "metadata": {
    "ExecuteTime": {
     "end_time": "2021-01-15T04:49:45.090306Z",
     "start_time": "2021-01-15T04:49:44.772136Z"
    }
   },
   "outputs": [],
   "source": [
    "#loss_df.to_pickle(output_dir / 'loss_df.pickle')"
   ]
  },
  {
   "cell_type": "code",
   "execution_count": 22,
   "metadata": {
    "ExecuteTime": {
     "end_time": "2021-01-15T04:49:45.349720Z",
     "start_time": "2021-01-15T04:49:45.094580Z"
    }
   },
   "outputs": [],
   "source": [
    "np.save(output_dir / 'z.npy', z)"
   ]
  },
  {
   "cell_type": "markdown",
   "metadata": {},
   "source": [
    "### compute metrics "
   ]
  },
  {
   "cell_type": "code",
   "execution_count": 23,
   "metadata": {
    "ExecuteTime": {
     "end_time": "2021-01-15T04:49:45.564597Z",
     "start_time": "2021-01-15T04:49:45.351882Z"
    }
   },
   "outputs": [
    {
     "data": {
      "text/plain": [
       "(10000, 784)"
      ]
     },
     "execution_count": 23,
     "metadata": {},
     "output_type": "execute_result"
    }
   ],
   "source": [
    "X_test.shape"
   ]
  },
  {
   "cell_type": "code",
   "execution_count": 24,
   "metadata": {
    "ExecuteTime": {
     "end_time": "2021-01-15T04:49:46.436367Z",
     "start_time": "2021-01-15T04:49:45.590837Z"
    }
   },
   "outputs": [
    {
     "name": "stdout",
     "output_type": "stream",
     "text": [
      "79/79 [==============================] - 0s 5ms/step\n"
     ]
    }
   ],
   "source": [
    "z_test = model.transform(x_scaler.transform(X_test).reshape([len(X_test)]+ list(dims)))"
   ]
  },
  {
   "cell_type": "markdown",
   "metadata": {},
   "source": [
    "#### silhouette"
   ]
  },
  {
   "cell_type": "code",
   "execution_count": 25,
   "metadata": {
    "ExecuteTime": {
     "end_time": "2021-01-15T04:49:46.508817Z",
     "start_time": "2021-01-15T04:49:46.438209Z"
    }
   },
   "outputs": [],
   "source": [
    "from tfumap.silhouette import silhouette_score_block"
   ]
  },
  {
   "cell_type": "code",
   "execution_count": 26,
   "metadata": {
    "ExecuteTime": {
     "end_time": "2021-01-15T04:50:00.668014Z",
     "start_time": "2021-01-15T04:49:46.510101Z"
    }
   },
   "outputs": [
    {
     "data": {
      "text/plain": [
       "0.07899991541696962"
      ]
     },
     "execution_count": 26,
     "metadata": {},
     "output_type": "execute_result"
    }
   ],
   "source": [
    "ss, sil_samp = silhouette_score_block(z, Y_train, n_jobs = -1)\n",
    "ss"
   ]
  },
  {
   "cell_type": "code",
   "execution_count": 27,
   "metadata": {
    "ExecuteTime": {
     "end_time": "2021-01-15T04:50:01.203449Z",
     "start_time": "2021-01-15T04:50:00.673971Z"
    }
   },
   "outputs": [
    {
     "data": {
      "text/plain": [
       "0.07386861261023535"
      ]
     },
     "execution_count": 27,
     "metadata": {},
     "output_type": "execute_result"
    }
   ],
   "source": [
    "ss_test, sil_samp_test = silhouette_score_block(z_test, Y_test, n_jobs = -1)\n",
    "ss_test"
   ]
  },
  {
   "cell_type": "code",
   "execution_count": 28,
   "metadata": {
    "ExecuteTime": {
     "end_time": "2021-01-15T04:50:04.556371Z",
     "start_time": "2021-01-15T04:50:01.204908Z"
    }
   },
   "outputs": [
    {
     "data": {
      "text/plain": [
       "<matplotlib.collections.PathCollection at 0x7fe2fd27fd10>"
      ]
     },
     "execution_count": 28,
     "metadata": {},
     "output_type": "execute_result"
    },
    {
     "data": {
      "image/png": "[encoded data removed]",
      "text/plain": [
       "<Figure size 720x360 with 2 Axes>"
      ]
     },
     "metadata": {
      "needs_background": "light"
     },
     "output_type": "display_data"
    }
   ],
   "source": [
    "fig, axs = plt.subplots(ncols = 2, figsize=(10, 5))\n",
    "axs[0].scatter(z[:, 0], z[:, 1], s=0.1, alpha=0.5, c=sil_samp, cmap=plt.cm.viridis)\n",
    "axs[1].scatter(z_test[:, 0], z_test[:, 1], s=1, alpha=0.5, c=sil_samp_test, cmap=plt.cm.viridis)"
   ]
  },
  {
   "cell_type": "markdown",
   "metadata": {},
   "source": [
    "#### KNN"
   ]
  },
  {
   "cell_type": "code",
   "execution_count": 29,
   "metadata": {
    "ExecuteTime": {
     "end_time": "2021-01-15T04:50:04.683535Z",
     "start_time": "2021-01-15T04:50:04.558104Z"
    }
   },
   "outputs": [],
   "source": [
    "from sklearn.neighbors import KNeighborsClassifier"
   ]
  },
  {
   "cell_type": "code",
   "execution_count": 30,
   "metadata": {
    "ExecuteTime": {
     "end_time": "2021-01-15T04:50:36.080481Z",
     "start_time": "2021-01-15T04:50:04.685221Z"
    }
   },
   "outputs": [
    {
     "data": {
      "text/plain": [
       "0.8355"
      ]
     },
     "execution_count": 30,
     "metadata": {},
     "output_type": "execute_result"
    }
   ],
   "source": [
    "neigh5 = KNeighborsClassifier(n_neighbors=5)\n",
    "neigh5.fit(z, Y_train)\n",
    "score_5nn = neigh5.score(z_test, Y_test)\n",
    "score_5nn"
   ]
  },
  {
   "cell_type": "code",
   "execution_count": 31,
   "metadata": {
    "ExecuteTime": {
     "end_time": "2021-01-15T04:51:00.342638Z",
     "start_time": "2021-01-15T04:50:36.082246Z"
    }
   },
   "outputs": [
    {
     "data": {
      "text/plain": [
       "0.8188"
      ]
     },
     "execution_count": 31,
     "metadata": {},
     "output_type": "execute_result"
    }
   ],
   "source": [
    "neigh1 = KNeighborsClassifier(n_neighbors=1)\n",
    "neigh1.fit(z, Y_train)\n",
    "score_1nn = neigh1.score(z_test, Y_test)\n",
    "score_1nn"
   ]
  },
  {
   "cell_type": "markdown",
   "metadata": {},
   "source": [
    "#### Trustworthiness"
   ]
  },
  {
   "cell_type": "code",
   "execution_count": 32,
   "metadata": {
    "ExecuteTime": {
     "end_time": "2021-01-15T04:51:00.560903Z",
     "start_time": "2021-01-15T04:51:00.381872Z"
    }
   },
   "outputs": [],
   "source": [
    "from sklearn.manifold import trustworthiness"
   ]
  },
  {
   "cell_type": "code",
   "execution_count": 33,
   "metadata": {
    "ExecuteTime": {
     "end_time": "2021-01-15T04:51:38.734310Z",
     "start_time": "2021-01-15T04:51:00.563171Z"
    }
   },
   "outputs": [],
   "source": [
    "tw = trustworthiness(X_train_flat[:10000], z[:10000])"
   ]
  },
  {
   "cell_type": "code",
   "execution_count": 34,
   "metadata": {
    "ExecuteTime": {
     "end_time": "2021-01-15T04:52:22.575836Z",
     "start_time": "2021-01-15T04:51:38.736027Z"
    }
   },
   "outputs": [],
   "source": [
    "tw_test = trustworthiness(X_test_flat[:10000], z_test[:10000])"
   ]
  },
  {
   "cell_type": "code",
   "execution_count": 35,
   "metadata": {
    "ExecuteTime": {
     "end_time": "2021-01-15T04:52:22.666240Z",
     "start_time": "2021-01-15T04:52:22.578371Z"
    }
   },
   "outputs": [
    {
     "data": {
      "text/plain": [
       "(0.9650974379503603, 0.9641969295436349)"
      ]
     },
     "execution_count": 35,
     "metadata": {},
     "output_type": "execute_result"
    }
   ],
   "source": [
    "tw, tw_test"
   ]
  },
  {
   "cell_type": "markdown",
   "metadata": {},
   "source": [
    "### Save output metrics"
   ]
  },
  {
   "cell_type": "code",
   "execution_count": 36,
   "metadata": {
    "ExecuteTime": {
     "end_time": "2021-01-15T04:52:22.783961Z",
     "start_time": "2021-01-15T04:52:22.669231Z"
    }
   },
   "outputs": [],
   "source": [
    "from tfumap.paths import ensure_dir, MODEL_DIR, DATA_DIR"
   ]
  },
  {
   "cell_type": "markdown",
   "metadata": {},
   "source": [
    "#### train"
   ]
  },
  {
   "cell_type": "code",
   "execution_count": 37,
   "metadata": {
    "ExecuteTime": {
     "end_time": "2021-01-15T04:52:22.966976Z",
     "start_time": "2021-01-15T04:52:22.787883Z"
    }
   },
   "outputs": [
    {
     "data": {
      "text/html": [
       "<div>\n",
       "<style scoped>\n",
       "    .dataframe tbody tr th:only-of-type {\n",
       "        vertical-align: middle;\n",
       "    }\n",
       "\n",
       "    .dataframe tbody tr th {\n",
       "        vertical-align: top;\n",
       "    }\n",
       "\n",
       "    .dataframe thead th {\n",
       "        text-align: right;\n",
       "    }\n",
       "</style>\n",
       "<table border=\"1\" class=\"dataframe\">\n",
       "  <thead>\n",
       "    <tr style=\"text-align: right;\">\n",
       "      <th></th>\n",
       "      <th>dataset</th>\n",
       "      <th>class_</th>\n",
       "      <th>dim</th>\n",
       "      <th>trustworthiness</th>\n",
       "      <th>silhouette_score</th>\n",
       "      <th>silhouette_samples</th>\n",
       "    </tr>\n",
       "  </thead>\n",
       "  <tbody>\n",
       "    <tr>\n",
       "      <th>0</th>\n",
       "      <td>fmnist</td>\n",
       "      <td>ivis</td>\n",
       "      <td>64</td>\n",
       "      <td>0.965097</td>\n",
       "      <td>0.079</td>\n",
       "      <td>[0.25748280095019166, 0.3235264397664966, -0.2...</td>\n",
       "    </tr>\n",
       "  </tbody>\n",
       "</table>\n",
       "</div>"
      ],
      "text/plain": [
       "  dataset class_ dim  trustworthiness  silhouette_score  \\\n",
       "0  fmnist   ivis  64         0.965097             0.079   \n",
       "\n",
       "                                  silhouette_samples  \n",
       "0  [0.25748280095019166, 0.3235264397664966, -0.2...  "
      ]
     },
     "execution_count": 37,
     "metadata": {},
     "output_type": "execute_result"
    }
   ],
   "source": [
    "metrics_df = pd.DataFrame(\n",
    "    columns=[\n",
    "        \"dataset\",\n",
    "        \"class_\",\n",
    "        \"dim\",\n",
    "        \"trustworthiness\",\n",
    "        \"silhouette_score\",\n",
    "        \"silhouette_samples\",\n",
    "    ]\n",
    ")\n",
    "metrics_df.loc[len(metrics_df)] = [dataset, algorithm, n_components, tw, ss, sil_samp]\n",
    "metrics_df"
   ]
  },
  {
   "cell_type": "code",
   "execution_count": 38,
   "metadata": {
    "ExecuteTime": {
     "end_time": "2021-01-15T04:52:23.143120Z",
     "start_time": "2021-01-15T04:52:22.969827Z"
    }
   },
   "outputs": [],
   "source": [
    "save_loc = DATA_DIR / 'projection_metrics' /  algorithm / 'train' / str(n_components) / (dataset + '.pickle')\n",
    "ensure_dir(save_loc)\n",
    "metrics_df.to_pickle(save_loc)"
   ]
  },
  {
   "cell_type": "markdown",
   "metadata": {},
   "source": [
    "#### test"
   ]
  },
  {
   "cell_type": "code",
   "execution_count": 39,
   "metadata": {
    "ExecuteTime": {
     "end_time": "2021-01-15T04:52:23.357681Z",
     "start_time": "2021-01-15T04:52:23.144555Z"
    }
   },
   "outputs": [
    {
     "data": {
      "text/html": [
       "<div>\n",
       "<style scoped>\n",
       "    .dataframe tbody tr th:only-of-type {\n",
       "        vertical-align: middle;\n",
       "    }\n",
       "\n",
       "    .dataframe tbody tr th {\n",
       "        vertical-align: top;\n",
       "    }\n",
       "\n",
       "    .dataframe thead th {\n",
       "        text-align: right;\n",
       "    }\n",
       "</style>\n",
       "<table border=\"1\" class=\"dataframe\">\n",
       "  <thead>\n",
       "    <tr style=\"text-align: right;\">\n",
       "      <th></th>\n",
       "      <th>dataset</th>\n",
       "      <th>class_</th>\n",
       "      <th>dim</th>\n",
       "      <th>trustworthiness</th>\n",
       "      <th>silhouette_score</th>\n",
       "      <th>silhouette_samples</th>\n",
       "    </tr>\n",
       "  </thead>\n",
       "  <tbody>\n",
       "    <tr>\n",
       "      <th>1</th>\n",
       "      <td>fmnist</td>\n",
       "      <td>ivis</td>\n",
       "      <td>64</td>\n",
       "      <td>0.964197</td>\n",
       "      <td>0.073869</td>\n",
       "      <td>[0.1387528066294194, 0.19626777339841955, 0.34...</td>\n",
       "    </tr>\n",
       "  </tbody>\n",
       "</table>\n",
       "</div>"
      ],
      "text/plain": [
       "  dataset class_ dim  trustworthiness  silhouette_score  \\\n",
       "1  fmnist   ivis  64         0.964197          0.073869   \n",
       "\n",
       "                                  silhouette_samples  \n",
       "1  [0.1387528066294194, 0.19626777339841955, 0.34...  "
      ]
     },
     "execution_count": 39,
     "metadata": {},
     "output_type": "execute_result"
    }
   ],
   "source": [
    "metrics_df_test = pd.DataFrame(\n",
    "    columns=[\n",
    "        \"dataset\",\n",
    "        \"class_\",\n",
    "        \"dim\",\n",
    "        \"trustworthiness\",\n",
    "        \"silhouette_score\",\n",
    "        \"silhouette_samples\",\n",
    "    ]\n",
    ")\n",
    "metrics_df_test.loc[len(metrics_df)] = [dataset, algorithm, n_components, tw_test, ss_test, sil_samp_test]\n",
    "metrics_df_test"
   ]
  },
  {
   "cell_type": "code",
   "execution_count": 40,
   "metadata": {
    "ExecuteTime": {
     "end_time": "2021-01-15T04:52:23.574106Z",
     "start_time": "2021-01-15T04:52:23.359960Z"
    }
   },
   "outputs": [],
   "source": [
    "save_loc = DATA_DIR / 'projection_metrics' / algorithm / 'test' / str(n_components) / (dataset + '.pickle')\n",
    "ensure_dir(save_loc)\n",
    "metrics_df.to_pickle(save_loc)"
   ]
  },
  {
   "cell_type": "markdown",
   "metadata": {},
   "source": [
    "#### knn "
   ]
  },
  {
   "cell_type": "code",
   "execution_count": 41,
   "metadata": {
    "ExecuteTime": {
     "end_time": "2021-01-15T04:52:23.687310Z",
     "start_time": "2021-01-15T04:52:23.576936Z"
    }
   },
   "outputs": [
    {
     "data": {
      "text/html": [
       "<div>\n",
       "<style scoped>\n",
       "    .dataframe tbody tr th:only-of-type {\n",
       "        vertical-align: middle;\n",
       "    }\n",
       "\n",
       "    .dataframe tbody tr th {\n",
       "        vertical-align: top;\n",
       "    }\n",
       "\n",
       "    .dataframe thead th {\n",
       "        text-align: right;\n",
       "    }\n",
       "</style>\n",
       "<table border=\"1\" class=\"dataframe\">\n",
       "  <thead>\n",
       "    <tr style=\"text-align: right;\">\n",
       "      <th></th>\n",
       "      <th>method_</th>\n",
       "      <th>dimensions</th>\n",
       "      <th>dataset</th>\n",
       "      <th>1NN_acc</th>\n",
       "      <th>5NN_acc</th>\n",
       "    </tr>\n",
       "  </thead>\n",
       "  <tbody>\n",
       "    <tr>\n",
       "      <th>0</th>\n",
       "      <td>ivis</td>\n",
       "      <td>64</td>\n",
       "      <td>fmnist</td>\n",
       "      <td>0.8188</td>\n",
       "      <td>0.8355</td>\n",
       "    </tr>\n",
       "  </tbody>\n",
       "</table>\n",
       "</div>"
      ],
      "text/plain": [
       "  method_ dimensions dataset  1NN_acc  5NN_acc\n",
       "0    ivis         64  fmnist   0.8188   0.8355"
      ]
     },
     "execution_count": 41,
     "metadata": {},
     "output_type": "execute_result"
    }
   ],
   "source": [
    "nn_acc_df = pd.DataFrame(columns = [\"method_\",\"dimensions\",\"dataset\",\"1NN_acc\",\"5NN_acc\"])\n",
    "nn_acc_df.loc[len(nn_acc_df)] = [algorithm, n_components, dataset,  score_1nn, score_5nn]\n",
    "nn_acc_df"
   ]
  },
  {
   "cell_type": "code",
   "execution_count": 42,
   "metadata": {
    "ExecuteTime": {
     "end_time": "2021-01-15T04:52:23.772139Z",
     "start_time": "2021-01-15T04:52:23.688630Z"
    }
   },
   "outputs": [],
   "source": [
    "save_loc = DATA_DIR / 'knn_classifier' / algorithm / 'train' / str(n_components) / (dataset + '.pickle')\n",
    "ensure_dir(save_loc)\n",
    "nn_acc_df.to_pickle(save_loc)"
   ]
  },
  {
   "cell_type": "markdown",
   "metadata": {},
   "source": [
    "### Compute clustering quality"
   ]
  },
  {
   "cell_type": "code",
   "execution_count": 43,
   "metadata": {
    "ExecuteTime": {
     "end_time": "2021-01-15T04:52:23.816229Z",
     "start_time": "2021-01-15T04:52:23.773474Z"
    }
   },
   "outputs": [],
   "source": [
    "from sklearn.cluster import KMeans\n",
    "from sklearn.metrics import homogeneity_completeness_v_measure"
   ]
  },
  {
   "cell_type": "code",
   "execution_count": 44,
   "metadata": {
    "ExecuteTime": {
     "end_time": "2021-01-15T04:52:23.861691Z",
     "start_time": "2021-01-15T04:52:23.817506Z"
    }
   },
   "outputs": [],
   "source": [
    "def get_cluster_metrics(row, n_init=5):\n",
    "    \n",
    "    # load cluster information\n",
    "    save_loc = DATA_DIR / 'clustering_metric_df'/ ('_'.join([row.class_, str(row.dim), row.dataset]) + '.pickle')\n",
    "    print(save_loc)\n",
    "    if save_loc.exists() and save_loc.is_file():\n",
    "        \n",
    "        cluster_df = pd.read_pickle(save_loc)\n",
    "        return cluster_df\n",
    "    \n",
    "    # make cluster metric dataframe\n",
    "    cluster_df = pd.DataFrame(\n",
    "        columns=[\n",
    "            \"dataset\",\n",
    "            \"class_\",\n",
    "            \"dim\",\n",
    "            \"silhouette\",\n",
    "            \"homogeneity\",\n",
    "            \"completeness\",\n",
    "            \"v_measure\",\n",
    "            \"init_\",\n",
    "            \"n_clusters\",\n",
    "            \"model\",\n",
    "        ]\n",
    "    )\n",
    "    y = row.train_label\n",
    "    z = row.train_z\n",
    "    n_labels = len(np.unique(y))\n",
    "    for n_clusters in tqdm(np.arange(n_labels - int(n_labels / 2), n_labels + int(n_labels / 2)), leave=False, desc = 'n_clusters'):\n",
    "        for init_ in tqdm(range(n_init), leave=False, desc='init'):\n",
    "            kmeans = KMeans(n_clusters=n_clusters, random_state=init_).fit(z)\n",
    "            clustered_y = kmeans.labels_\n",
    "            homogeneity, completeness, v_measure = homogeneity_completeness_v_measure(\n",
    "                y, clustered_y\n",
    "            )\n",
    "            ss, _ = silhouette_score_block(z, clustered_y)\n",
    "            cluster_df.loc[len(cluster_df)] = [\n",
    "                row.dataset,\n",
    "                row.class_,\n",
    "                row.dim,\n",
    "                ss,\n",
    "                homogeneity,\n",
    "                completeness,\n",
    "                v_measure,\n",
    "                init_,\n",
    "                n_clusters,\n",
    "                kmeans,\n",
    "            ]\n",
    "    \n",
    "     # save cluster df in case this fails somewhere\n",
    "    ensure_dir(save_loc)\n",
    "    cluster_df.to_pickle(save_loc)\n",
    "    return cluster_df"
   ]
  },
  {
   "cell_type": "code",
   "execution_count": 45,
   "metadata": {
    "ExecuteTime": {
     "end_time": "2021-01-15T04:52:24.326011Z",
     "start_time": "2021-01-15T04:52:23.863195Z"
    }
   },
   "outputs": [
    {
     "data": {
      "text/html": [
       "<div>\n",
       "<style scoped>\n",
       "    .dataframe tbody tr th:only-of-type {\n",
       "        vertical-align: middle;\n",
       "    }\n",
       "\n",
       "    .dataframe tbody tr th {\n",
       "        vertical-align: top;\n",
       "    }\n",
       "\n",
       "    .dataframe thead th {\n",
       "        text-align: right;\n",
       "    }\n",
       "</style>\n",
       "<table border=\"1\" class=\"dataframe\">\n",
       "  <thead>\n",
       "    <tr style=\"text-align: right;\">\n",
       "      <th></th>\n",
       "      <th>dataset</th>\n",
       "      <th>class_</th>\n",
       "      <th>train_z</th>\n",
       "      <th>train_label</th>\n",
       "      <th>dim</th>\n",
       "    </tr>\n",
       "  </thead>\n",
       "  <tbody>\n",
       "    <tr>\n",
       "      <th>0</th>\n",
       "      <td>fmnist</td>\n",
       "      <td>ivis</td>\n",
       "      <td>[[-2.0739431, 2.6570191, 0.0879506, -1.5557343...</td>\n",
       "      <td>[9, 0, 0, 3, 0, 2, 7, 2, 5, 5, 0, 9, 5, 5, 7, ...</td>\n",
       "      <td>64</td>\n",
       "    </tr>\n",
       "  </tbody>\n",
       "</table>\n",
       "</div>"
      ],
      "text/plain": [
       "  dataset class_                                            train_z  \\\n",
       "0  fmnist   ivis  [[-2.0739431, 2.6570191, 0.0879506, -1.5557343...   \n",
       "\n",
       "                                         train_label dim  \n",
       "0  [9, 0, 0, 3, 0, 2, 7, 2, 5, 5, 0, 9, 5, 5, 7, ...  64  "
      ]
     },
     "execution_count": 45,
     "metadata": {},
     "output_type": "execute_result"
    }
   ],
   "source": [
    "projection_df = pd.DataFrame(columns = ['dataset', 'class_', 'train_z', 'train_label', 'dim'])\n",
    "projection_df.loc[len(projection_df)] = [dataset, algorithm, z, Y_train, n_components]\n",
    "projection_df"
   ]
  },
  {
   "cell_type": "code",
   "execution_count": 46,
   "metadata": {
    "ExecuteTime": {
     "end_time": "2021-01-15T04:52:24.541638Z",
     "start_time": "2021-01-15T04:52:24.327364Z"
    }
   },
   "outputs": [],
   "source": [
    "??get_cluster_metrics"
   ]
  },
  {
   "cell_type": "code",
   "execution_count": 47,
   "metadata": {
    "ExecuteTime": {
     "end_time": "2021-01-15T06:02:33.232415Z",
     "start_time": "2021-01-15T04:52:24.544292Z"
    }
   },
   "outputs": [
    {
     "name": "stdout",
     "output_type": "stream",
     "text": [
      "/mnt/cube/tsainbur/Projects/github_repos/umap_tf_networks/data/clustering_metric_df/ivis_64_fmnist.pickle\n"
     ]
    },
    {
     "data": {
      "application/vnd.jupyter.widget-view+json": {
       "model_id": "",
       "version_major": 2,
       "version_minor": 0
      },
      "text/plain": [
       "n_clusters:   0%|          | 0/10 [00:00<?, ?it/s]"
      ]
     },
     "metadata": {},
     "output_type": "display_data"
    },
    {
     "data": {
      "application/vnd.jupyter.widget-view+json": {
       "model_id": "",
       "version_major": 2,
       "version_minor": 0
      },
      "text/plain": [
       "init:   0%|          | 0/5 [00:00<?, ?it/s]"
      ]
     },
     "metadata": {},
     "output_type": "display_data"
    },
    {
     "data": {
      "application/vnd.jupyter.widget-view+json": {
       "model_id": "",
       "version_major": 2,
       "version_minor": 0
      },
      "text/plain": [
       "init:   0%|          | 0/5 [00:00<?, ?it/s]"
      ]
     },
     "metadata": {},
     "output_type": "display_data"
    },
    {
     "data": {
      "application/vnd.jupyter.widget-view+json": {
       "model_id": "",
       "version_major": 2,
       "version_minor": 0
      },
      "text/plain": [
       "init:   0%|          | 0/5 [00:00<?, ?it/s]"
      ]
     },
     "metadata": {},
     "output_type": "display_data"
    },
    {
     "data": {
      "application/vnd.jupyter.widget-view+json": {
       "model_id": "",
       "version_major": 2,
       "version_minor": 0
      },
      "text/plain": [
       "init:   0%|          | 0/5 [00:00<?, ?it/s]"
      ]
     },
     "metadata": {},
     "output_type": "display_data"
    },
    {
     "data": {
      "application/vnd.jupyter.widget-view+json": {
       "model_id": "",
       "version_major": 2,
       "version_minor": 0
      },
      "text/plain": [
       "init:   0%|          | 0/5 [00:00<?, ?it/s]"
      ]
     },
     "metadata": {},
     "output_type": "display_data"
    },
    {
     "data": {
      "application/vnd.jupyter.widget-view+json": {
       "model_id": "",
       "version_major": 2,
       "version_minor": 0
      },
      "text/plain": [
       "init:   0%|          | 0/5 [00:00<?, ?it/s]"
      ]
     },
     "metadata": {},
     "output_type": "display_data"
    },
    {
     "data": {
      "application/vnd.jupyter.widget-view+json": {
       "model_id": "",
       "version_major": 2,
       "version_minor": 0
      },
      "text/plain": [
       "init:   0%|          | 0/5 [00:00<?, ?it/s]"
      ]
     },
     "metadata": {},
     "output_type": "display_data"
    },
    {
     "data": {
      "application/vnd.jupyter.widget-view+json": {
       "model_id": "",
       "version_major": 2,
       "version_minor": 0
      },
      "text/plain": [
       "init:   0%|          | 0/5 [00:00<?, ?it/s]"
      ]
     },
     "metadata": {},
     "output_type": "display_data"
    },
    {
     "data": {
      "application/vnd.jupyter.widget-view+json": {
       "model_id": "",
       "version_major": 2,
       "version_minor": 0
      },
      "text/plain": [
       "init:   0%|          | 0/5 [00:00<?, ?it/s]"
      ]
     },
     "metadata": {},
     "output_type": "display_data"
    },
    {
     "data": {
      "application/vnd.jupyter.widget-view+json": {
       "model_id": "",
       "version_major": 2,
       "version_minor": 0
      },
      "text/plain": [
       "init:   0%|          | 0/5 [00:00<?, ?it/s]"
      ]
     },
     "metadata": {},
     "output_type": "display_data"
    },
    {
     "data": {
      "text/html": [
       "<div>\n",
       "<style scoped>\n",
       "    .dataframe tbody tr th:only-of-type {\n",
       "        vertical-align: middle;\n",
       "    }\n",
       "\n",
       "    .dataframe tbody tr th {\n",
       "        vertical-align: top;\n",
       "    }\n",
       "\n",
       "    .dataframe thead th {\n",
       "        text-align: right;\n",
       "    }\n",
       "</style>\n",
       "<table border=\"1\" class=\"dataframe\">\n",
       "  <thead>\n",
       "    <tr style=\"text-align: right;\">\n",
       "      <th></th>\n",
       "      <th>dataset</th>\n",
       "      <th>class_</th>\n",
       "      <th>dim</th>\n",
       "      <th>silhouette</th>\n",
       "      <th>homogeneity</th>\n",
       "      <th>completeness</th>\n",
       "      <th>v_measure</th>\n",
       "      <th>init_</th>\n",
       "      <th>n_clusters</th>\n",
       "      <th>model</th>\n",
       "    </tr>\n",
       "  </thead>\n",
       "  <tbody>\n",
       "    <tr>\n",
       "      <th>0</th>\n",
       "      <td>fmnist</td>\n",
       "      <td>ivis</td>\n",
       "      <td>64</td>\n",
       "      <td>0.224978</td>\n",
       "      <td>0.426462</td>\n",
       "      <td>0.613248</td>\n",
       "      <td>0.503076</td>\n",
       "      <td>0</td>\n",
       "      <td>5</td>\n",
       "      <td>KMeans(n_clusters=5, random_state=0)</td>\n",
       "    </tr>\n",
       "    <tr>\n",
       "      <th>1</th>\n",
       "      <td>fmnist</td>\n",
       "      <td>ivis</td>\n",
       "      <td>64</td>\n",
       "      <td>0.224969</td>\n",
       "      <td>0.426433</td>\n",
       "      <td>0.613193</td>\n",
       "      <td>0.503038</td>\n",
       "      <td>1</td>\n",
       "      <td>5</td>\n",
       "      <td>KMeans(n_clusters=5, random_state=1)</td>\n",
       "    </tr>\n",
       "    <tr>\n",
       "      <th>2</th>\n",
       "      <td>fmnist</td>\n",
       "      <td>ivis</td>\n",
       "      <td>64</td>\n",
       "      <td>0.224975</td>\n",
       "      <td>0.426436</td>\n",
       "      <td>0.613209</td>\n",
       "      <td>0.503045</td>\n",
       "      <td>2</td>\n",
       "      <td>5</td>\n",
       "      <td>KMeans(n_clusters=5, random_state=2)</td>\n",
       "    </tr>\n",
       "    <tr>\n",
       "      <th>3</th>\n",
       "      <td>fmnist</td>\n",
       "      <td>ivis</td>\n",
       "      <td>64</td>\n",
       "      <td>0.224981</td>\n",
       "      <td>0.426484</td>\n",
       "      <td>0.613277</td>\n",
       "      <td>0.503102</td>\n",
       "      <td>3</td>\n",
       "      <td>5</td>\n",
       "      <td>KMeans(n_clusters=5, random_state=3)</td>\n",
       "    </tr>\n",
       "    <tr>\n",
       "      <th>4</th>\n",
       "      <td>fmnist</td>\n",
       "      <td>ivis</td>\n",
       "      <td>64</td>\n",
       "      <td>0.224980</td>\n",
       "      <td>0.426455</td>\n",
       "      <td>0.613252</td>\n",
       "      <td>0.503073</td>\n",
       "      <td>4</td>\n",
       "      <td>5</td>\n",
       "      <td>KMeans(n_clusters=5, random_state=4)</td>\n",
       "    </tr>\n",
       "    <tr>\n",
       "      <th>5</th>\n",
       "      <td>fmnist</td>\n",
       "      <td>ivis</td>\n",
       "      <td>64</td>\n",
       "      <td>0.232154</td>\n",
       "      <td>0.461697</td>\n",
       "      <td>0.602838</td>\n",
       "      <td>0.522911</td>\n",
       "      <td>0</td>\n",
       "      <td>6</td>\n",
       "      <td>KMeans(n_clusters=6, random_state=0)</td>\n",
       "    </tr>\n",
       "    <tr>\n",
       "      <th>6</th>\n",
       "      <td>fmnist</td>\n",
       "      <td>ivis</td>\n",
       "      <td>64</td>\n",
       "      <td>0.232143</td>\n",
       "      <td>0.461675</td>\n",
       "      <td>0.602806</td>\n",
       "      <td>0.522885</td>\n",
       "      <td>1</td>\n",
       "      <td>6</td>\n",
       "      <td>KMeans(n_clusters=6, random_state=1)</td>\n",
       "    </tr>\n",
       "    <tr>\n",
       "      <th>7</th>\n",
       "      <td>fmnist</td>\n",
       "      <td>ivis</td>\n",
       "      <td>64</td>\n",
       "      <td>0.232145</td>\n",
       "      <td>0.461694</td>\n",
       "      <td>0.602835</td>\n",
       "      <td>0.522907</td>\n",
       "      <td>2</td>\n",
       "      <td>6</td>\n",
       "      <td>KMeans(n_clusters=6, random_state=2)</td>\n",
       "    </tr>\n",
       "    <tr>\n",
       "      <th>8</th>\n",
       "      <td>fmnist</td>\n",
       "      <td>ivis</td>\n",
       "      <td>64</td>\n",
       "      <td>0.232148</td>\n",
       "      <td>0.461658</td>\n",
       "      <td>0.602775</td>\n",
       "      <td>0.522862</td>\n",
       "      <td>3</td>\n",
       "      <td>6</td>\n",
       "      <td>KMeans(n_clusters=6, random_state=3)</td>\n",
       "    </tr>\n",
       "    <tr>\n",
       "      <th>9</th>\n",
       "      <td>fmnist</td>\n",
       "      <td>ivis</td>\n",
       "      <td>64</td>\n",
       "      <td>0.232151</td>\n",
       "      <td>0.461688</td>\n",
       "      <td>0.602813</td>\n",
       "      <td>0.522896</td>\n",
       "      <td>4</td>\n",
       "      <td>6</td>\n",
       "      <td>KMeans(n_clusters=6, random_state=4)</td>\n",
       "    </tr>\n",
       "    <tr>\n",
       "      <th>10</th>\n",
       "      <td>fmnist</td>\n",
       "      <td>ivis</td>\n",
       "      <td>64</td>\n",
       "      <td>0.235572</td>\n",
       "      <td>0.508924</td>\n",
       "      <td>0.625406</td>\n",
       "      <td>0.561185</td>\n",
       "      <td>0</td>\n",
       "      <td>7</td>\n",
       "      <td>KMeans(n_clusters=7, random_state=0)</td>\n",
       "    </tr>\n",
       "    <tr>\n",
       "      <th>11</th>\n",
       "      <td>fmnist</td>\n",
       "      <td>ivis</td>\n",
       "      <td>64</td>\n",
       "      <td>0.235572</td>\n",
       "      <td>0.508924</td>\n",
       "      <td>0.625406</td>\n",
       "      <td>0.561185</td>\n",
       "      <td>1</td>\n",
       "      <td>7</td>\n",
       "      <td>KMeans(n_clusters=7, random_state=1)</td>\n",
       "    </tr>\n",
       "    <tr>\n",
       "      <th>12</th>\n",
       "      <td>fmnist</td>\n",
       "      <td>ivis</td>\n",
       "      <td>64</td>\n",
       "      <td>0.235572</td>\n",
       "      <td>0.508924</td>\n",
       "      <td>0.625406</td>\n",
       "      <td>0.561185</td>\n",
       "      <td>2</td>\n",
       "      <td>7</td>\n",
       "      <td>KMeans(n_clusters=7, random_state=2)</td>\n",
       "    </tr>\n",
       "    <tr>\n",
       "      <th>13</th>\n",
       "      <td>fmnist</td>\n",
       "      <td>ivis</td>\n",
       "      <td>64</td>\n",
       "      <td>0.235572</td>\n",
       "      <td>0.508924</td>\n",
       "      <td>0.625406</td>\n",
       "      <td>0.561185</td>\n",
       "      <td>3</td>\n",
       "      <td>7</td>\n",
       "      <td>KMeans(n_clusters=7, random_state=3)</td>\n",
       "    </tr>\n",
       "    <tr>\n",
       "      <th>14</th>\n",
       "      <td>fmnist</td>\n",
       "      <td>ivis</td>\n",
       "      <td>64</td>\n",
       "      <td>0.235572</td>\n",
       "      <td>0.508924</td>\n",
       "      <td>0.625406</td>\n",
       "      <td>0.561185</td>\n",
       "      <td>4</td>\n",
       "      <td>7</td>\n",
       "      <td>KMeans(n_clusters=7, random_state=4)</td>\n",
       "    </tr>\n",
       "    <tr>\n",
       "      <th>15</th>\n",
       "      <td>fmnist</td>\n",
       "      <td>ivis</td>\n",
       "      <td>64</td>\n",
       "      <td>0.233356</td>\n",
       "      <td>0.540018</td>\n",
       "      <td>0.622993</td>\n",
       "      <td>0.578545</td>\n",
       "      <td>0</td>\n",
       "      <td>8</td>\n",
       "      <td>KMeans(random_state=0)</td>\n",
       "    </tr>\n",
       "    <tr>\n",
       "      <th>16</th>\n",
       "      <td>fmnist</td>\n",
       "      <td>ivis</td>\n",
       "      <td>64</td>\n",
       "      <td>0.230121</td>\n",
       "      <td>0.553909</td>\n",
       "      <td>0.635488</td>\n",
       "      <td>0.591901</td>\n",
       "      <td>1</td>\n",
       "      <td>8</td>\n",
       "      <td>KMeans(random_state=1)</td>\n",
       "    </tr>\n",
       "    <tr>\n",
       "      <th>17</th>\n",
       "      <td>fmnist</td>\n",
       "      <td>ivis</td>\n",
       "      <td>64</td>\n",
       "      <td>0.233344</td>\n",
       "      <td>0.540061</td>\n",
       "      <td>0.623033</td>\n",
       "      <td>0.578587</td>\n",
       "      <td>2</td>\n",
       "      <td>8</td>\n",
       "      <td>KMeans(random_state=2)</td>\n",
       "    </tr>\n",
       "    <tr>\n",
       "      <th>18</th>\n",
       "      <td>fmnist</td>\n",
       "      <td>ivis</td>\n",
       "      <td>64</td>\n",
       "      <td>0.221072</td>\n",
       "      <td>0.524216</td>\n",
       "      <td>0.594958</td>\n",
       "      <td>0.557351</td>\n",
       "      <td>3</td>\n",
       "      <td>8</td>\n",
       "      <td>KMeans(random_state=3)</td>\n",
       "    </tr>\n",
       "    <tr>\n",
       "      <th>19</th>\n",
       "      <td>fmnist</td>\n",
       "      <td>ivis</td>\n",
       "      <td>64</td>\n",
       "      <td>0.233239</td>\n",
       "      <td>0.539885</td>\n",
       "      <td>0.623015</td>\n",
       "      <td>0.578479</td>\n",
       "      <td>4</td>\n",
       "      <td>8</td>\n",
       "      <td>KMeans(random_state=4)</td>\n",
       "    </tr>\n",
       "    <tr>\n",
       "      <th>20</th>\n",
       "      <td>fmnist</td>\n",
       "      <td>ivis</td>\n",
       "      <td>64</td>\n",
       "      <td>0.220055</td>\n",
       "      <td>0.569721</td>\n",
       "      <td>0.606754</td>\n",
       "      <td>0.587654</td>\n",
       "      <td>0</td>\n",
       "      <td>9</td>\n",
       "      <td>KMeans(n_clusters=9, random_state=0)</td>\n",
       "    </tr>\n",
       "    <tr>\n",
       "      <th>21</th>\n",
       "      <td>fmnist</td>\n",
       "      <td>ivis</td>\n",
       "      <td>64</td>\n",
       "      <td>0.220055</td>\n",
       "      <td>0.569721</td>\n",
       "      <td>0.606754</td>\n",
       "      <td>0.587654</td>\n",
       "      <td>1</td>\n",
       "      <td>9</td>\n",
       "      <td>KMeans(n_clusters=9, random_state=1)</td>\n",
       "    </tr>\n",
       "    <tr>\n",
       "      <th>22</th>\n",
       "      <td>fmnist</td>\n",
       "      <td>ivis</td>\n",
       "      <td>64</td>\n",
       "      <td>0.207256</td>\n",
       "      <td>0.545983</td>\n",
       "      <td>0.576346</td>\n",
       "      <td>0.560754</td>\n",
       "      <td>2</td>\n",
       "      <td>9</td>\n",
       "      <td>KMeans(n_clusters=9, random_state=2)</td>\n",
       "    </tr>\n",
       "    <tr>\n",
       "      <th>23</th>\n",
       "      <td>fmnist</td>\n",
       "      <td>ivis</td>\n",
       "      <td>64</td>\n",
       "      <td>0.220304</td>\n",
       "      <td>0.555573</td>\n",
       "      <td>0.594373</td>\n",
       "      <td>0.574318</td>\n",
       "      <td>3</td>\n",
       "      <td>9</td>\n",
       "      <td>KMeans(n_clusters=9, random_state=3)</td>\n",
       "    </tr>\n",
       "    <tr>\n",
       "      <th>24</th>\n",
       "      <td>fmnist</td>\n",
       "      <td>ivis</td>\n",
       "      <td>64</td>\n",
       "      <td>0.220352</td>\n",
       "      <td>0.555391</td>\n",
       "      <td>0.594445</td>\n",
       "      <td>0.574255</td>\n",
       "      <td>4</td>\n",
       "      <td>9</td>\n",
       "      <td>KMeans(n_clusters=9, random_state=4)</td>\n",
       "    </tr>\n",
       "    <tr>\n",
       "      <th>25</th>\n",
       "      <td>fmnist</td>\n",
       "      <td>ivis</td>\n",
       "      <td>64</td>\n",
       "      <td>0.217806</td>\n",
       "      <td>0.575788</td>\n",
       "      <td>0.584410</td>\n",
       "      <td>0.580067</td>\n",
       "      <td>0</td>\n",
       "      <td>10</td>\n",
       "      <td>KMeans(n_clusters=10, random_state=0)</td>\n",
       "    </tr>\n",
       "    <tr>\n",
       "      <th>26</th>\n",
       "      <td>fmnist</td>\n",
       "      <td>ivis</td>\n",
       "      <td>64</td>\n",
       "      <td>0.217807</td>\n",
       "      <td>0.575721</td>\n",
       "      <td>0.584296</td>\n",
       "      <td>0.579977</td>\n",
       "      <td>1</td>\n",
       "      <td>10</td>\n",
       "      <td>KMeans(n_clusters=10, random_state=1)</td>\n",
       "    </tr>\n",
       "    <tr>\n",
       "      <th>27</th>\n",
       "      <td>fmnist</td>\n",
       "      <td>ivis</td>\n",
       "      <td>64</td>\n",
       "      <td>0.217807</td>\n",
       "      <td>0.575717</td>\n",
       "      <td>0.584292</td>\n",
       "      <td>0.579973</td>\n",
       "      <td>2</td>\n",
       "      <td>10</td>\n",
       "      <td>KMeans(n_clusters=10, random_state=2)</td>\n",
       "    </tr>\n",
       "    <tr>\n",
       "      <th>28</th>\n",
       "      <td>fmnist</td>\n",
       "      <td>ivis</td>\n",
       "      <td>64</td>\n",
       "      <td>0.217853</td>\n",
       "      <td>0.561141</td>\n",
       "      <td>0.571856</td>\n",
       "      <td>0.566448</td>\n",
       "      <td>3</td>\n",
       "      <td>10</td>\n",
       "      <td>KMeans(n_clusters=10, random_state=3)</td>\n",
       "    </tr>\n",
       "    <tr>\n",
       "      <th>29</th>\n",
       "      <td>fmnist</td>\n",
       "      <td>ivis</td>\n",
       "      <td>64</td>\n",
       "      <td>0.217799</td>\n",
       "      <td>0.575717</td>\n",
       "      <td>0.584296</td>\n",
       "      <td>0.579975</td>\n",
       "      <td>4</td>\n",
       "      <td>10</td>\n",
       "      <td>KMeans(n_clusters=10, random_state=4)</td>\n",
       "    </tr>\n",
       "    <tr>\n",
       "      <th>30</th>\n",
       "      <td>fmnist</td>\n",
       "      <td>ivis</td>\n",
       "      <td>64</td>\n",
       "      <td>0.220294</td>\n",
       "      <td>0.577519</td>\n",
       "      <td>0.560263</td>\n",
       "      <td>0.568760</td>\n",
       "      <td>0</td>\n",
       "      <td>11</td>\n",
       "      <td>KMeans(n_clusters=11, random_state=0)</td>\n",
       "    </tr>\n",
       "    <tr>\n",
       "      <th>31</th>\n",
       "      <td>fmnist</td>\n",
       "      <td>ivis</td>\n",
       "      <td>64</td>\n",
       "      <td>0.220313</td>\n",
       "      <td>0.577486</td>\n",
       "      <td>0.560238</td>\n",
       "      <td>0.568731</td>\n",
       "      <td>1</td>\n",
       "      <td>11</td>\n",
       "      <td>KMeans(n_clusters=11, random_state=1)</td>\n",
       "    </tr>\n",
       "    <tr>\n",
       "      <th>32</th>\n",
       "      <td>fmnist</td>\n",
       "      <td>ivis</td>\n",
       "      <td>64</td>\n",
       "      <td>0.220359</td>\n",
       "      <td>0.577785</td>\n",
       "      <td>0.560524</td>\n",
       "      <td>0.569024</td>\n",
       "      <td>2</td>\n",
       "      <td>11</td>\n",
       "      <td>KMeans(n_clusters=11, random_state=2)</td>\n",
       "    </tr>\n",
       "    <tr>\n",
       "      <th>33</th>\n",
       "      <td>fmnist</td>\n",
       "      <td>ivis</td>\n",
       "      <td>64</td>\n",
       "      <td>0.220380</td>\n",
       "      <td>0.577985</td>\n",
       "      <td>0.560741</td>\n",
       "      <td>0.569232</td>\n",
       "      <td>3</td>\n",
       "      <td>11</td>\n",
       "      <td>KMeans(n_clusters=11, random_state=3)</td>\n",
       "    </tr>\n",
       "    <tr>\n",
       "      <th>34</th>\n",
       "      <td>fmnist</td>\n",
       "      <td>ivis</td>\n",
       "      <td>64</td>\n",
       "      <td>0.220347</td>\n",
       "      <td>0.577934</td>\n",
       "      <td>0.560661</td>\n",
       "      <td>0.569167</td>\n",
       "      <td>4</td>\n",
       "      <td>11</td>\n",
       "      <td>KMeans(n_clusters=11, random_state=4)</td>\n",
       "    </tr>\n",
       "    <tr>\n",
       "      <th>35</th>\n",
       "      <td>fmnist</td>\n",
       "      <td>ivis</td>\n",
       "      <td>64</td>\n",
       "      <td>0.224565</td>\n",
       "      <td>0.597671</td>\n",
       "      <td>0.563998</td>\n",
       "      <td>0.580347</td>\n",
       "      <td>0</td>\n",
       "      <td>12</td>\n",
       "      <td>KMeans(n_clusters=12, random_state=0)</td>\n",
       "    </tr>\n",
       "    <tr>\n",
       "      <th>36</th>\n",
       "      <td>fmnist</td>\n",
       "      <td>ivis</td>\n",
       "      <td>64</td>\n",
       "      <td>0.224517</td>\n",
       "      <td>0.597851</td>\n",
       "      <td>0.564145</td>\n",
       "      <td>0.580509</td>\n",
       "      <td>1</td>\n",
       "      <td>12</td>\n",
       "      <td>KMeans(n_clusters=12, random_state=1)</td>\n",
       "    </tr>\n",
       "    <tr>\n",
       "      <th>37</th>\n",
       "      <td>fmnist</td>\n",
       "      <td>ivis</td>\n",
       "      <td>64</td>\n",
       "      <td>0.224500</td>\n",
       "      <td>0.598174</td>\n",
       "      <td>0.564476</td>\n",
       "      <td>0.580837</td>\n",
       "      <td>2</td>\n",
       "      <td>12</td>\n",
       "      <td>KMeans(n_clusters=12, random_state=2)</td>\n",
       "    </tr>\n",
       "    <tr>\n",
       "      <th>38</th>\n",
       "      <td>fmnist</td>\n",
       "      <td>ivis</td>\n",
       "      <td>64</td>\n",
       "      <td>0.224585</td>\n",
       "      <td>0.597946</td>\n",
       "      <td>0.564261</td>\n",
       "      <td>0.580616</td>\n",
       "      <td>3</td>\n",
       "      <td>12</td>\n",
       "      <td>KMeans(n_clusters=12, random_state=3)</td>\n",
       "    </tr>\n",
       "    <tr>\n",
       "      <th>39</th>\n",
       "      <td>fmnist</td>\n",
       "      <td>ivis</td>\n",
       "      <td>64</td>\n",
       "      <td>0.220647</td>\n",
       "      <td>0.583188</td>\n",
       "      <td>0.542908</td>\n",
       "      <td>0.562328</td>\n",
       "      <td>4</td>\n",
       "      <td>12</td>\n",
       "      <td>KMeans(n_clusters=12, random_state=4)</td>\n",
       "    </tr>\n",
       "    <tr>\n",
       "      <th>40</th>\n",
       "      <td>fmnist</td>\n",
       "      <td>ivis</td>\n",
       "      <td>64</td>\n",
       "      <td>0.225483</td>\n",
       "      <td>0.605471</td>\n",
       "      <td>0.549117</td>\n",
       "      <td>0.575918</td>\n",
       "      <td>0</td>\n",
       "      <td>13</td>\n",
       "      <td>KMeans(n_clusters=13, random_state=0)</td>\n",
       "    </tr>\n",
       "    <tr>\n",
       "      <th>41</th>\n",
       "      <td>fmnist</td>\n",
       "      <td>ivis</td>\n",
       "      <td>64</td>\n",
       "      <td>0.225548</td>\n",
       "      <td>0.605594</td>\n",
       "      <td>0.549269</td>\n",
       "      <td>0.576058</td>\n",
       "      <td>1</td>\n",
       "      <td>13</td>\n",
       "      <td>KMeans(n_clusters=13, random_state=1)</td>\n",
       "    </tr>\n",
       "    <tr>\n",
       "      <th>42</th>\n",
       "      <td>fmnist</td>\n",
       "      <td>ivis</td>\n",
       "      <td>64</td>\n",
       "      <td>0.225756</td>\n",
       "      <td>0.605472</td>\n",
       "      <td>0.549237</td>\n",
       "      <td>0.575985</td>\n",
       "      <td>2</td>\n",
       "      <td>13</td>\n",
       "      <td>KMeans(n_clusters=13, random_state=2)</td>\n",
       "    </tr>\n",
       "    <tr>\n",
       "      <th>43</th>\n",
       "      <td>fmnist</td>\n",
       "      <td>ivis</td>\n",
       "      <td>64</td>\n",
       "      <td>0.225616</td>\n",
       "      <td>0.605688</td>\n",
       "      <td>0.549381</td>\n",
       "      <td>0.576162</td>\n",
       "      <td>3</td>\n",
       "      <td>13</td>\n",
       "      <td>KMeans(n_clusters=13, random_state=3)</td>\n",
       "    </tr>\n",
       "    <tr>\n",
       "      <th>44</th>\n",
       "      <td>fmnist</td>\n",
       "      <td>ivis</td>\n",
       "      <td>64</td>\n",
       "      <td>0.225647</td>\n",
       "      <td>0.606305</td>\n",
       "      <td>0.549934</td>\n",
       "      <td>0.576745</td>\n",
       "      <td>4</td>\n",
       "      <td>13</td>\n",
       "      <td>KMeans(n_clusters=13, random_state=4)</td>\n",
       "    </tr>\n",
       "    <tr>\n",
       "      <th>45</th>\n",
       "      <td>fmnist</td>\n",
       "      <td>ivis</td>\n",
       "      <td>64</td>\n",
       "      <td>0.219939</td>\n",
       "      <td>0.610677</td>\n",
       "      <td>0.538403</td>\n",
       "      <td>0.572267</td>\n",
       "      <td>0</td>\n",
       "      <td>14</td>\n",
       "      <td>KMeans(n_clusters=14, random_state=0)</td>\n",
       "    </tr>\n",
       "    <tr>\n",
       "      <th>46</th>\n",
       "      <td>fmnist</td>\n",
       "      <td>ivis</td>\n",
       "      <td>64</td>\n",
       "      <td>0.220050</td>\n",
       "      <td>0.610270</td>\n",
       "      <td>0.538090</td>\n",
       "      <td>0.571911</td>\n",
       "      <td>1</td>\n",
       "      <td>14</td>\n",
       "      <td>KMeans(n_clusters=14, random_state=1)</td>\n",
       "    </tr>\n",
       "    <tr>\n",
       "      <th>47</th>\n",
       "      <td>fmnist</td>\n",
       "      <td>ivis</td>\n",
       "      <td>64</td>\n",
       "      <td>0.219917</td>\n",
       "      <td>0.610089</td>\n",
       "      <td>0.537889</td>\n",
       "      <td>0.571718</td>\n",
       "      <td>2</td>\n",
       "      <td>14</td>\n",
       "      <td>KMeans(n_clusters=14, random_state=2)</td>\n",
       "    </tr>\n",
       "    <tr>\n",
       "      <th>48</th>\n",
       "      <td>fmnist</td>\n",
       "      <td>ivis</td>\n",
       "      <td>64</td>\n",
       "      <td>0.219887</td>\n",
       "      <td>0.610268</td>\n",
       "      <td>0.538047</td>\n",
       "      <td>0.571887</td>\n",
       "      <td>3</td>\n",
       "      <td>14</td>\n",
       "      <td>KMeans(n_clusters=14, random_state=3)</td>\n",
       "    </tr>\n",
       "    <tr>\n",
       "      <th>49</th>\n",
       "      <td>fmnist</td>\n",
       "      <td>ivis</td>\n",
       "      <td>64</td>\n",
       "      <td>0.220002</td>\n",
       "      <td>0.610383</td>\n",
       "      <td>0.538183</td>\n",
       "      <td>0.572014</td>\n",
       "      <td>4</td>\n",
       "      <td>14</td>\n",
       "      <td>KMeans(n_clusters=14, random_state=4)</td>\n",
       "    </tr>\n",
       "  </tbody>\n",
       "</table>\n",
       "</div>"
      ],
      "text/plain": [
       "   dataset class_ dim  silhouette  homogeneity  completeness  v_measure init_  \\\n",
       "0   fmnist   ivis  64    0.224978     0.426462      0.613248   0.503076     0   \n",
       "1   fmnist   ivis  64    0.224969     0.426433      0.613193   0.503038     1   \n",
       "2   fmnist   ivis  64    0.224975     0.426436      0.613209   0.503045     2   \n",
       "3   fmnist   ivis  64    0.224981     0.426484      0.613277   0.503102     3   \n",
       "4   fmnist   ivis  64    0.224980     0.426455      0.613252   0.503073     4   \n",
       "5   fmnist   ivis  64    0.232154     0.461697      0.602838   0.522911     0   \n",
       "6   fmnist   ivis  64    0.232143     0.461675      0.602806   0.522885     1   \n",
       "7   fmnist   ivis  64    0.232145     0.461694      0.602835   0.522907     2   \n",
       "8   fmnist   ivis  64    0.232148     0.461658      0.602775   0.522862     3   \n",
       "9   fmnist   ivis  64    0.232151     0.461688      0.602813   0.522896     4   \n",
       "10  fmnist   ivis  64    0.235572     0.508924      0.625406   0.561185     0   \n",
       "11  fmnist   ivis  64    0.235572     0.508924      0.625406   0.561185     1   \n",
       "12  fmnist   ivis  64    0.235572     0.508924      0.625406   0.561185     2   \n",
       "13  fmnist   ivis  64    0.235572     0.508924      0.625406   0.561185     3   \n",
       "14  fmnist   ivis  64    0.235572     0.508924      0.625406   0.561185     4   \n",
       "15  fmnist   ivis  64    0.233356     0.540018      0.622993   0.578545     0   \n",
       "16  fmnist   ivis  64    0.230121     0.553909      0.635488   0.591901     1   \n",
       "17  fmnist   ivis  64    0.233344     0.540061      0.623033   0.578587     2   \n",
       "18  fmnist   ivis  64    0.221072     0.524216      0.594958   0.557351     3   \n",
       "19  fmnist   ivis  64    0.233239     0.539885      0.623015   0.578479     4   \n",
       "20  fmnist   ivis  64    0.220055     0.569721      0.606754   0.587654     0   \n",
       "21  fmnist   ivis  64    0.220055     0.569721      0.606754   0.587654     1   \n",
       "22  fmnist   ivis  64    0.207256     0.545983      0.576346   0.560754     2   \n",
       "23  fmnist   ivis  64    0.220304     0.555573      0.594373   0.574318     3   \n",
       "24  fmnist   ivis  64    0.220352     0.555391      0.594445   0.574255     4   \n",
       "25  fmnist   ivis  64    0.217806     0.575788      0.584410   0.580067     0   \n",
       "26  fmnist   ivis  64    0.217807     0.575721      0.584296   0.579977     1   \n",
       "27  fmnist   ivis  64    0.217807     0.575717      0.584292   0.579973     2   \n",
       "28  fmnist   ivis  64    0.217853     0.561141      0.571856   0.566448     3   \n",
       "29  fmnist   ivis  64    0.217799     0.575717      0.584296   0.579975     4   \n",
       "30  fmnist   ivis  64    0.220294     0.577519      0.560263   0.568760     0   \n",
       "31  fmnist   ivis  64    0.220313     0.577486      0.560238   0.568731     1   \n",
       "32  fmnist   ivis  64    0.220359     0.577785      0.560524   0.569024     2   \n",
       "33  fmnist   ivis  64    0.220380     0.577985      0.560741   0.569232     3   \n",
       "34  fmnist   ivis  64    0.220347     0.577934      0.560661   0.569167     4   \n",
       "35  fmnist   ivis  64    0.224565     0.597671      0.563998   0.580347     0   \n",
       "36  fmnist   ivis  64    0.224517     0.597851      0.564145   0.580509     1   \n",
       "37  fmnist   ivis  64    0.224500     0.598174      0.564476   0.580837     2   \n",
       "38  fmnist   ivis  64    0.224585     0.597946      0.564261   0.580616     3   \n",
       "39  fmnist   ivis  64    0.220647     0.583188      0.542908   0.562328     4   \n",
       "40  fmnist   ivis  64    0.225483     0.605471      0.549117   0.575918     0   \n",
       "41  fmnist   ivis  64    0.225548     0.605594      0.549269   0.576058     1   \n",
       "42  fmnist   ivis  64    0.225756     0.605472      0.549237   0.575985     2   \n",
       "43  fmnist   ivis  64    0.225616     0.605688      0.549381   0.576162     3   \n",
       "44  fmnist   ivis  64    0.225647     0.606305      0.549934   0.576745     4   \n",
       "45  fmnist   ivis  64    0.219939     0.610677      0.538403   0.572267     0   \n",
       "46  fmnist   ivis  64    0.220050     0.610270      0.538090   0.571911     1   \n",
       "47  fmnist   ivis  64    0.219917     0.610089      0.537889   0.571718     2   \n",
       "48  fmnist   ivis  64    0.219887     0.610268      0.538047   0.571887     3   \n",
       "49  fmnist   ivis  64    0.220002     0.610383      0.538183   0.572014     4   \n",
       "\n",
       "   n_clusters                                  model  \n",
       "0           5   KMeans(n_clusters=5, random_state=0)  \n",
       "1           5   KMeans(n_clusters=5, random_state=1)  \n",
       "2           5   KMeans(n_clusters=5, random_state=2)  \n",
       "3           5   KMeans(n_clusters=5, random_state=3)  \n",
       "4           5   KMeans(n_clusters=5, random_state=4)  \n",
       "5           6   KMeans(n_clusters=6, random_state=0)  \n",
       "6           6   KMeans(n_clusters=6, random_state=1)  \n",
       "7           6   KMeans(n_clusters=6, random_state=2)  \n",
       "8           6   KMeans(n_clusters=6, random_state=3)  \n",
       "9           6   KMeans(n_clusters=6, random_state=4)  \n",
       "10          7   KMeans(n_clusters=7, random_state=0)  \n",
       "11          7   KMeans(n_clusters=7, random_state=1)  \n",
       "12          7   KMeans(n_clusters=7, random_state=2)  \n",
       "13          7   KMeans(n_clusters=7, random_state=3)  \n",
       "14          7   KMeans(n_clusters=7, random_state=4)  \n",
       "15          8                 KMeans(random_state=0)  \n",
       "16          8                 KMeans(random_state=1)  \n",
       "17          8                 KMeans(random_state=2)  \n",
       "18          8                 KMeans(random_state=3)  \n",
       "19          8                 KMeans(random_state=4)  \n",
       "20          9   KMeans(n_clusters=9, random_state=0)  \n",
       "21          9   KMeans(n_clusters=9, random_state=1)  \n",
       "22          9   KMeans(n_clusters=9, random_state=2)  \n",
       "23          9   KMeans(n_clusters=9, random_state=3)  \n",
       "24          9   KMeans(n_clusters=9, random_state=4)  \n",
       "25         10  KMeans(n_clusters=10, random_state=0)  \n",
       "26         10  KMeans(n_clusters=10, random_state=1)  \n",
       "27         10  KMeans(n_clusters=10, random_state=2)  \n",
       "28         10  KMeans(n_clusters=10, random_state=3)  \n",
       "29         10  KMeans(n_clusters=10, random_state=4)  \n",
       "30         11  KMeans(n_clusters=11, random_state=0)  \n",
       "31         11  KMeans(n_clusters=11, random_state=1)  \n",
       "32         11  KMeans(n_clusters=11, random_state=2)  \n",
       "33         11  KMeans(n_clusters=11, random_state=3)  \n",
       "34         11  KMeans(n_clusters=11, random_state=4)  \n",
       "35         12  KMeans(n_clusters=12, random_state=0)  \n",
       "36         12  KMeans(n_clusters=12, random_state=1)  \n",
       "37         12  KMeans(n_clusters=12, random_state=2)  \n",
       "38         12  KMeans(n_clusters=12, random_state=3)  \n",
       "39         12  KMeans(n_clusters=12, random_state=4)  \n",
       "40         13  KMeans(n_clusters=13, random_state=0)  \n",
       "41         13  KMeans(n_clusters=13, random_state=1)  \n",
       "42         13  KMeans(n_clusters=13, random_state=2)  \n",
       "43         13  KMeans(n_clusters=13, random_state=3)  \n",
       "44         13  KMeans(n_clusters=13, random_state=4)  \n",
       "45         14  KMeans(n_clusters=14, random_state=0)  \n",
       "46         14  KMeans(n_clusters=14, random_state=1)  \n",
       "47         14  KMeans(n_clusters=14, random_state=2)  \n",
       "48         14  KMeans(n_clusters=14, random_state=3)  \n",
       "49         14  KMeans(n_clusters=14, random_state=4)  "
      ]
     },
     "execution_count": 47,
     "metadata": {},
     "output_type": "execute_result"
    }
   ],
   "source": [
    "get_cluster_metrics(projection_df.iloc[0], n_init=5)"
   ]
  },
  {
   "cell_type": "code",
   "execution_count": null,
   "metadata": {},
   "outputs": [],
   "source": []
  },
  {
   "cell_type": "code",
   "execution_count": null,
   "metadata": {},
   "outputs": [],
   "source": []
  },
  {
   "cell_type": "code",
   "execution_count": null,
   "metadata": {},
   "outputs": [],
   "source": []
  },
  {
   "cell_type": "code",
   "execution_count": null,
   "metadata": {},
   "outputs": [],
   "source": []
  },
  {
   "cell_type": "code",
   "execution_count": null,
   "metadata": {},
   "outputs": [],
   "source": []
  },
  {
   "cell_type": "code",
   "execution_count": null,
   "metadata": {},
   "outputs": [],
   "source": []
  },
  {
   "cell_type": "code",
   "execution_count": null,
   "metadata": {},
   "outputs": [],
   "source": []
  }
 ],
 "metadata": {
  "kernelspec": {
   "display_name": "Python [conda env:tfumap]",
   "language": "python",
   "name": "conda-env-tfumap-py"
  },
  "language_info": {
   "codemirror_mode": {
    "name": "ipython",
    "version": 3
   },
   "file_extension": ".py",
   "mimetype": "text/x-python",
   "name": "python",
   "nbconvert_exporter": "python",
   "pygments_lexer": "ipython3",
   "version": "3.7.9"
  }
 },
 "nbformat": 4,
 "nbformat_minor": 4
}
