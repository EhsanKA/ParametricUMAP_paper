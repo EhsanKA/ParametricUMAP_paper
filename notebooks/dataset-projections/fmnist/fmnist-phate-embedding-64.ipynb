{
 "cells": [
  {
   "cell_type": "code",
   "execution_count": 1,
   "metadata": {
    "ExecuteTime": {
     "end_time": "2021-01-15T04:40:05.917529Z",
     "start_time": "2021-01-15T04:40:05.912461Z"
    }
   },
   "outputs": [],
   "source": [
    "dataset = 'fmnist'\n",
    "algorithm = 'phate'\n",
    "n_components = 64"
   ]
  },
  {
   "cell_type": "code",
   "execution_count": 2,
   "metadata": {
    "ExecuteTime": {
     "end_time": "2021-01-15T04:40:05.962879Z",
     "start_time": "2021-01-15T04:40:05.919443Z"
    }
   },
   "outputs": [],
   "source": [
    "# reload packages\n",
    "%load_ext autoreload\n",
    "%autoreload 2"
   ]
  },
  {
   "cell_type": "markdown",
   "metadata": {},
   "source": [
    "### Choose GPU (this may not be needed on your computer)"
   ]
  },
  {
   "cell_type": "code",
   "execution_count": 3,
   "metadata": {
    "ExecuteTime": {
     "end_time": "2021-01-15T04:40:05.993930Z",
     "start_time": "2021-01-15T04:40:05.964896Z"
    }
   },
   "outputs": [
    {
     "name": "stdout",
     "output_type": "stream",
     "text": [
      "env: CUDA_DEVICE_ORDER=PCI_BUS_ID\n",
      "env: CUDA_VISIBLE_DEVICES=0\n"
     ]
    }
   ],
   "source": [
    "%env CUDA_DEVICE_ORDER=PCI_BUS_ID\n",
    "%env CUDA_VISIBLE_DEVICES=0"
   ]
  },
  {
   "cell_type": "markdown",
   "metadata": {},
   "source": [
    "### load packages"
   ]
  },
  {
   "cell_type": "code",
   "execution_count": 4,
   "metadata": {
    "ExecuteTime": {
     "end_time": "2021-01-15T04:40:32.929721Z",
     "start_time": "2021-01-15T04:40:05.997354Z"
    }
   },
   "outputs": [
    {
     "name": "stderr",
     "output_type": "stream",
     "text": [
      "/mnt/cube/tsainbur/Projects/github_repos/umap_tf_networks/tfumap/umap.py:7: TqdmExperimentalWarning: Using `tqdm.autonotebook.tqdm` in notebook mode. Use `tqdm.tqdm` instead to force console mode (e.g. in jupyter console)\n",
      "  from tqdm.autonotebook import tqdm\n"
     ]
    }
   ],
   "source": [
    "from tfumap.umap import tfUMAP"
   ]
  },
  {
   "cell_type": "code",
   "execution_count": 5,
   "metadata": {
    "ExecuteTime": {
     "end_time": "2021-01-15T04:40:33.315260Z",
     "start_time": "2021-01-15T04:40:32.931081Z"
    }
   },
   "outputs": [],
   "source": [
    "import tensorflow as tf\n",
    "import numpy as np\n",
    "import matplotlib.pyplot as plt\n",
    "from tqdm.autonotebook import tqdm\n",
    "import umap\n",
    "import pandas as pd"
   ]
  },
  {
   "cell_type": "markdown",
   "metadata": {},
   "source": [
    "### Load dataset"
   ]
  },
  {
   "cell_type": "code",
   "execution_count": 6,
   "metadata": {
    "ExecuteTime": {
     "end_time": "2021-01-15T04:40:33.357795Z",
     "start_time": "2021-01-15T04:40:33.317548Z"
    }
   },
   "outputs": [],
   "source": [
    "from tensorflow.keras.datasets import mnist"
   ]
  },
  {
   "cell_type": "code",
   "execution_count": 7,
   "metadata": {
    "ExecuteTime": {
     "end_time": "2021-01-15T04:40:34.042854Z",
     "start_time": "2021-01-15T04:40:33.359543Z"
    }
   },
   "outputs": [
    {
     "name": "stdout",
     "output_type": "stream",
     "text": [
      "50000 10000 10000\n"
     ]
    }
   ],
   "source": [
    "from tensorflow.keras.datasets import fashion_mnist\n",
    "\n",
    "# load dataset\n",
    "(train_images, Y_train), (test_images, Y_test) = fashion_mnist.load_data()\n",
    "X_train = (train_images/255.).astype('float32')\n",
    "X_test = (test_images/255.).astype('float32')\n",
    "X_train = X_train.reshape((len(X_train), np.product(np.shape(X_train)[1:])))\n",
    "X_test = X_test.reshape((len(X_test), np.product(np.shape(X_test)[1:])))\n",
    "\n",
    "# subset a validation set\n",
    "n_valid = 10000\n",
    "X_valid = X_train[-n_valid:]\n",
    "Y_valid = Y_train[-n_valid:]\n",
    "X_train = X_train[:-n_valid]\n",
    "Y_train = Y_train[:-n_valid]\n",
    "\n",
    "# flatten X\n",
    "X_train_flat = X_train.reshape((len(X_train), np.product(np.shape(X_train)[1:])))\n",
    "X_test_flat = X_test.reshape((len(X_test), np.product(np.shape(X_test)[1:])))\n",
    "X_valid_flat= X_valid.reshape((len(X_valid), np.product(np.shape(X_valid)[1:])))\n",
    "print(len(X_train), len(X_valid), len(X_test))"
   ]
  },
  {
   "cell_type": "markdown",
   "metadata": {},
   "source": [
    "### Create model and train"
   ]
  },
  {
   "cell_type": "code",
   "execution_count": 8,
   "metadata": {
    "ExecuteTime": {
     "end_time": "2021-01-15T04:40:34.234476Z",
     "start_time": "2021-01-15T04:40:34.044165Z"
    }
   },
   "outputs": [],
   "source": [
    "import phate"
   ]
  },
  {
   "cell_type": "code",
   "execution_count": 9,
   "metadata": {
    "ExecuteTime": {
     "end_time": "2021-01-15T04:40:34.798097Z",
     "start_time": "2021-01-15T04:40:34.236603Z"
    }
   },
   "outputs": [],
   "source": [
    "from sklearn.preprocessing import MinMaxScaler\n",
    "from sklearn import datasets\n",
    "\n",
    "X_scaled = MinMaxScaler().fit_transform(X_train_flat)"
   ]
  },
  {
   "cell_type": "code",
   "execution_count": 10,
   "metadata": {
    "ExecuteTime": {
     "end_time": "2021-01-15T04:57:05.664824Z",
     "start_time": "2021-01-15T04:40:34.799671Z"
    }
   },
   "outputs": [
    {
     "name": "stdout",
     "output_type": "stream",
     "text": [
      "Calculating PHATE...\n",
      "  Running PHATE on 50000 observations and 784 variables.\n",
      "  Calculating graph and diffusion operator...\n",
      "    Calculating PCA...\n",
      "    Calculated PCA in 4.72 seconds.\n",
      "    Calculating KNN search...\n",
      "    Calculated KNN search in 73.81 seconds.\n",
      "    Calculating affinities...\n",
      "    Calculated affinities in 1.58 seconds.\n",
      "  Calculated graph and diffusion operator in 80.20 seconds.\n",
      "  Calculating landmark operator...\n",
      "    Calculating SVD...\n",
      "    Calculated SVD in 13.65 seconds.\n",
      "    Calculating KMeans...\n",
      "    Calculated KMeans in 49.84 seconds.\n",
      "  Calculated landmark operator in 68.37 seconds.\n",
      "  Calculating optimal t...\n",
      "    Automatically selected t = 28\n",
      "  Calculated optimal t in 26.43 seconds.\n",
      "  Calculating diffusion potential...\n",
      "  Calculated diffusion potential in 1.06 seconds.\n",
      "  Calculating metric MDS...\n",
      "  Calculated metric MDS in 814.57 seconds.\n",
      "Calculated PHATE in 990.74 seconds.\n"
     ]
    }
   ],
   "source": [
    "phate_op = phate.PHATE(n_jobs=-1, n_components=n_components)\n",
    "z = data_phate = phate_op.fit_transform(X_scaled)"
   ]
  },
  {
   "cell_type": "markdown",
   "metadata": {},
   "source": [
    "### Plot model output"
   ]
  },
  {
   "cell_type": "code",
   "execution_count": 11,
   "metadata": {
    "ExecuteTime": {
     "end_time": "2021-01-15T04:57:09.041968Z",
     "start_time": "2021-01-15T04:57:05.671245Z"
    }
   },
   "outputs": [
    {
     "data": {
      "image/png": "[encoded data removed]",
      "text/plain": [
       "<Figure size 576x576 with 2 Axes>"
      ]
     },
     "metadata": {
      "needs_background": "light"
     },
     "output_type": "display_data"
    }
   ],
   "source": [
    "fig, ax = plt.subplots( figsize=(8, 8))\n",
    "sc = ax.scatter(\n",
    "    z[:, 0],\n",
    "    z[:, 1],\n",
    "    c=Y_train.astype(int)[:len(z)],\n",
    "    cmap=\"tab10\",\n",
    "    s=0.1,\n",
    "    alpha=0.5,\n",
    "    rasterized=True,\n",
    ")\n",
    "ax.axis('equal')\n",
    "ax.set_title(\"UMAP in Tensorflow embedding\", fontsize=20)\n",
    "plt.colorbar(sc, ax=ax);"
   ]
  },
  {
   "cell_type": "markdown",
   "metadata": {},
   "source": [
    "### Save output"
   ]
  },
  {
   "cell_type": "code",
   "execution_count": 12,
   "metadata": {
    "ExecuteTime": {
     "end_time": "2021-01-15T04:57:09.207868Z",
     "start_time": "2021-01-15T04:57:09.046311Z"
    }
   },
   "outputs": [],
   "source": [
    "from tfumap.paths import ensure_dir, MODEL_DIR"
   ]
  },
  {
   "cell_type": "code",
   "execution_count": 13,
   "metadata": {
    "ExecuteTime": {
     "end_time": "2021-01-15T04:57:09.408068Z",
     "start_time": "2021-01-15T04:57:09.210962Z"
    }
   },
   "outputs": [],
   "source": [
    "output_dir = MODEL_DIR/'projections'/ dataset / str(n_components) / algorithm\n",
    "ensure_dir(output_dir)"
   ]
  },
  {
   "cell_type": "code",
   "execution_count": 14,
   "metadata": {
    "ExecuteTime": {
     "end_time": "2021-01-15T04:57:09.602332Z",
     "start_time": "2021-01-15T04:57:09.413835Z"
    }
   },
   "outputs": [],
   "source": [
    "#vae.save(output_dir)"
   ]
  },
  {
   "cell_type": "code",
   "execution_count": 15,
   "metadata": {
    "ExecuteTime": {
     "end_time": "2021-01-15T04:57:09.799552Z",
     "start_time": "2021-01-15T04:57:09.608547Z"
    }
   },
   "outputs": [],
   "source": [
    "#loss_df.to_pickle(output_dir / 'loss_df.pickle')"
   ]
  },
  {
   "cell_type": "code",
   "execution_count": 16,
   "metadata": {
    "ExecuteTime": {
     "end_time": "2021-01-15T04:57:10.041092Z",
     "start_time": "2021-01-15T04:57:09.801880Z"
    }
   },
   "outputs": [],
   "source": [
    "np.save(output_dir / 'z.npy', z)"
   ]
  },
  {
   "cell_type": "markdown",
   "metadata": {},
   "source": [
    "### compute metrics "
   ]
  },
  {
   "cell_type": "code",
   "execution_count": 17,
   "metadata": {
    "ExecuteTime": {
     "end_time": "2021-01-15T04:57:10.221131Z",
     "start_time": "2021-01-15T04:57:10.042522Z"
    }
   },
   "outputs": [
    {
     "data": {
      "text/plain": [
       "(10000, 784)"
      ]
     },
     "execution_count": 17,
     "metadata": {},
     "output_type": "execute_result"
    }
   ],
   "source": [
    "X_test.shape"
   ]
  },
  {
   "cell_type": "code",
   "execution_count": 18,
   "metadata": {
    "ExecuteTime": {
     "end_time": "2021-01-15T04:57:38.630848Z",
     "start_time": "2021-01-15T04:57:10.222453Z"
    }
   },
   "outputs": [
    {
     "name": "stdout",
     "output_type": "stream",
     "text": [
      "Calculating KNN search...\n"
     ]
    },
    {
     "name": "stderr",
     "output_type": "stream",
     "text": [
      "/home/AD/tsainbur/anaconda3/envs/tfumap/lib/python3.7/site-packages/phate/phate.py:881: RuntimeWarning: Pre-fit PHATE should not be used to transform a new data matrix. Please fit PHATE to the new data by running 'fit' with the new data.\n",
      "  RuntimeWarning,\n"
     ]
    },
    {
     "name": "stdout",
     "output_type": "stream",
     "text": [
      "Calculated KNN search in 19.82 seconds.\n",
      "Calculating affinities...\n",
      "Calculated affinities in 1.12 seconds.\n"
     ]
    }
   ],
   "source": [
    "z_test = phate_op.transform(X_test)"
   ]
  },
  {
   "cell_type": "markdown",
   "metadata": {},
   "source": [
    "#### silhouette"
   ]
  },
  {
   "cell_type": "code",
   "execution_count": 19,
   "metadata": {
    "ExecuteTime": {
     "end_time": "2021-01-15T04:57:38.812007Z",
     "start_time": "2021-01-15T04:57:38.632536Z"
    }
   },
   "outputs": [],
   "source": [
    "from tfumap.silhouette import silhouette_score_block"
   ]
  },
  {
   "cell_type": "code",
   "execution_count": 20,
   "metadata": {
    "ExecuteTime": {
     "end_time": "2021-01-15T04:57:50.442072Z",
     "start_time": "2021-01-15T04:57:38.815109Z"
    }
   },
   "outputs": [
    {
     "data": {
      "text/plain": [
       "0.14052123520305668"
      ]
     },
     "execution_count": 20,
     "metadata": {},
     "output_type": "execute_result"
    }
   ],
   "source": [
    "ss, sil_samp = silhouette_score_block(z, Y_train, n_jobs = -1)\n",
    "ss"
   ]
  },
  {
   "cell_type": "code",
   "execution_count": 21,
   "metadata": {
    "ExecuteTime": {
     "end_time": "2021-01-15T04:57:50.924396Z",
     "start_time": "2021-01-15T04:57:50.447111Z"
    }
   },
   "outputs": [
    {
     "data": {
      "text/plain": [
       "0.14015186607850413"
      ]
     },
     "execution_count": 21,
     "metadata": {},
     "output_type": "execute_result"
    }
   ],
   "source": [
    "ss_test, sil_samp_test = silhouette_score_block(z_test, Y_test, n_jobs = -1)\n",
    "ss_test"
   ]
  },
  {
   "cell_type": "code",
   "execution_count": 22,
   "metadata": {
    "ExecuteTime": {
     "end_time": "2021-01-15T04:57:53.499101Z",
     "start_time": "2021-01-15T04:57:50.925886Z"
    }
   },
   "outputs": [
    {
     "data": {
      "text/plain": [
       "<matplotlib.collections.PathCollection at 0x7f0aae0abcd0>"
      ]
     },
     "execution_count": 22,
     "metadata": {},
     "output_type": "execute_result"
    },
    {
     "data": {
      "image/png": "[encoded data removed]",
      "text/plain": [
       "<Figure size 720x360 with 2 Axes>"
      ]
     },
     "metadata": {
      "needs_background": "light"
     },
     "output_type": "display_data"
    }
   ],
   "source": [
    "fig, axs = plt.subplots(ncols = 2, figsize=(10, 5))\n",
    "axs[0].scatter(z[:, 0], z[:, 1], s=0.1, alpha=0.5, c=sil_samp, cmap=plt.cm.viridis)\n",
    "axs[1].scatter(z_test[:, 0], z_test[:, 1], s=1, alpha=0.5, c=sil_samp_test, cmap=plt.cm.viridis)"
   ]
  },
  {
   "cell_type": "markdown",
   "metadata": {},
   "source": [
    "#### KNN"
   ]
  },
  {
   "cell_type": "code",
   "execution_count": 23,
   "metadata": {
    "ExecuteTime": {
     "end_time": "2021-01-15T04:57:53.679038Z",
     "start_time": "2021-01-15T04:57:53.510901Z"
    }
   },
   "outputs": [],
   "source": [
    "from sklearn.neighbors import KNeighborsClassifier"
   ]
  },
  {
   "cell_type": "code",
   "execution_count": 24,
   "metadata": {
    "ExecuteTime": {
     "end_time": "2021-01-15T04:58:17.816180Z",
     "start_time": "2021-01-15T04:57:53.684065Z"
    }
   },
   "outputs": [
    {
     "data": {
      "text/plain": [
       "0.8126"
      ]
     },
     "execution_count": 24,
     "metadata": {},
     "output_type": "execute_result"
    }
   ],
   "source": [
    "neigh5 = KNeighborsClassifier(n_neighbors=5)\n",
    "neigh5.fit(z, Y_train)\n",
    "score_5nn = neigh5.score(z_test, Y_test)\n",
    "score_5nn"
   ]
  },
  {
   "cell_type": "code",
   "execution_count": 25,
   "metadata": {
    "ExecuteTime": {
     "end_time": "2021-01-15T04:58:31.337406Z",
     "start_time": "2021-01-15T04:58:17.819309Z"
    }
   },
   "outputs": [
    {
     "data": {
      "text/plain": [
       "0.7824"
      ]
     },
     "execution_count": 25,
     "metadata": {},
     "output_type": "execute_result"
    }
   ],
   "source": [
    "neigh1 = KNeighborsClassifier(n_neighbors=1)\n",
    "neigh1.fit(z, Y_train)\n",
    "score_1nn = neigh1.score(z_test, Y_test)\n",
    "score_1nn"
   ]
  },
  {
   "cell_type": "markdown",
   "metadata": {},
   "source": [
    "#### Trustworthiness"
   ]
  },
  {
   "cell_type": "code",
   "execution_count": 26,
   "metadata": {
    "ExecuteTime": {
     "end_time": "2021-01-15T04:58:31.502559Z",
     "start_time": "2021-01-15T04:58:31.350481Z"
    }
   },
   "outputs": [],
   "source": [
    "from sklearn.manifold import trustworthiness"
   ]
  },
  {
   "cell_type": "code",
   "execution_count": 27,
   "metadata": {
    "ExecuteTime": {
     "end_time": "2021-01-15T04:59:07.567094Z",
     "start_time": "2021-01-15T04:58:31.509838Z"
    }
   },
   "outputs": [],
   "source": [
    "tw = trustworthiness(X_train_flat[:10000], z[:10000])"
   ]
  },
  {
   "cell_type": "code",
   "execution_count": 28,
   "metadata": {
    "ExecuteTime": {
     "end_time": "2021-01-15T04:59:42.018427Z",
     "start_time": "2021-01-15T04:59:07.570495Z"
    }
   },
   "outputs": [],
   "source": [
    "tw_test = trustworthiness(X_test_flat[:10000], z_test[:10000])"
   ]
  },
  {
   "cell_type": "code",
   "execution_count": 29,
   "metadata": {
    "ExecuteTime": {
     "end_time": "2021-01-15T04:59:42.077865Z",
     "start_time": "2021-01-15T04:59:42.020329Z"
    }
   },
   "outputs": [
    {
     "data": {
      "text/plain": [
       "(0.9887228823058447, 0.9875133927141714)"
      ]
     },
     "execution_count": 29,
     "metadata": {},
     "output_type": "execute_result"
    }
   ],
   "source": [
    "tw, tw_test"
   ]
  },
  {
   "cell_type": "markdown",
   "metadata": {},
   "source": [
    "### Save output metrics"
   ]
  },
  {
   "cell_type": "code",
   "execution_count": 30,
   "metadata": {
    "ExecuteTime": {
     "end_time": "2021-01-15T04:59:42.121689Z",
     "start_time": "2021-01-15T04:59:42.079596Z"
    }
   },
   "outputs": [],
   "source": [
    "from tfumap.paths import ensure_dir, MODEL_DIR, DATA_DIR"
   ]
  },
  {
   "cell_type": "markdown",
   "metadata": {},
   "source": [
    "#### train"
   ]
  },
  {
   "cell_type": "code",
   "execution_count": 31,
   "metadata": {
    "ExecuteTime": {
     "end_time": "2021-01-15T04:59:42.195059Z",
     "start_time": "2021-01-15T04:59:42.123047Z"
    }
   },
   "outputs": [
    {
     "data": {
      "text/html": [
       "<div>\n",
       "<style scoped>\n",
       "    .dataframe tbody tr th:only-of-type {\n",
       "        vertical-align: middle;\n",
       "    }\n",
       "\n",
       "    .dataframe tbody tr th {\n",
       "        vertical-align: top;\n",
       "    }\n",
       "\n",
       "    .dataframe thead th {\n",
       "        text-align: right;\n",
       "    }\n",
       "</style>\n",
       "<table border=\"1\" class=\"dataframe\">\n",
       "  <thead>\n",
       "    <tr style=\"text-align: right;\">\n",
       "      <th></th>\n",
       "      <th>dataset</th>\n",
       "      <th>class_</th>\n",
       "      <th>dim</th>\n",
       "      <th>trustworthiness</th>\n",
       "      <th>silhouette_score</th>\n",
       "      <th>silhouette_samples</th>\n",
       "    </tr>\n",
       "  </thead>\n",
       "  <tbody>\n",
       "    <tr>\n",
       "      <th>0</th>\n",
       "      <td>fmnist</td>\n",
       "      <td>phate</td>\n",
       "      <td>64</td>\n",
       "      <td>0.988723</td>\n",
       "      <td>0.140521</td>\n",
       "      <td>[0.37200717276346196, 0.35605134436227137, -0....</td>\n",
       "    </tr>\n",
       "  </tbody>\n",
       "</table>\n",
       "</div>"
      ],
      "text/plain": [
       "  dataset class_ dim  trustworthiness  silhouette_score  \\\n",
       "0  fmnist  phate  64         0.988723          0.140521   \n",
       "\n",
       "                                  silhouette_samples  \n",
       "0  [0.37200717276346196, 0.35605134436227137, -0....  "
      ]
     },
     "execution_count": 31,
     "metadata": {},
     "output_type": "execute_result"
    }
   ],
   "source": [
    "metrics_df = pd.DataFrame(\n",
    "    columns=[\n",
    "        \"dataset\",\n",
    "        \"class_\",\n",
    "        \"dim\",\n",
    "        \"trustworthiness\",\n",
    "        \"silhouette_score\",\n",
    "        \"silhouette_samples\",\n",
    "    ]\n",
    ")\n",
    "metrics_df.loc[len(metrics_df)] = [dataset, algorithm, n_components, tw, ss, sil_samp]\n",
    "metrics_df"
   ]
  },
  {
   "cell_type": "code",
   "execution_count": 32,
   "metadata": {
    "ExecuteTime": {
     "end_time": "2021-01-15T04:59:42.282535Z",
     "start_time": "2021-01-15T04:59:42.196312Z"
    }
   },
   "outputs": [],
   "source": [
    "save_loc = DATA_DIR / 'projection_metrics' /  algorithm / 'train' / str(n_components) / (dataset + '.pickle')\n",
    "ensure_dir(save_loc)\n",
    "metrics_df.to_pickle(save_loc)"
   ]
  },
  {
   "cell_type": "markdown",
   "metadata": {},
   "source": [
    "#### test"
   ]
  },
  {
   "cell_type": "code",
   "execution_count": 33,
   "metadata": {
    "ExecuteTime": {
     "end_time": "2021-01-15T04:59:42.375830Z",
     "start_time": "2021-01-15T04:59:42.283786Z"
    }
   },
   "outputs": [
    {
     "data": {
      "text/html": [
       "<div>\n",
       "<style scoped>\n",
       "    .dataframe tbody tr th:only-of-type {\n",
       "        vertical-align: middle;\n",
       "    }\n",
       "\n",
       "    .dataframe tbody tr th {\n",
       "        vertical-align: top;\n",
       "    }\n",
       "\n",
       "    .dataframe thead th {\n",
       "        text-align: right;\n",
       "    }\n",
       "</style>\n",
       "<table border=\"1\" class=\"dataframe\">\n",
       "  <thead>\n",
       "    <tr style=\"text-align: right;\">\n",
       "      <th></th>\n",
       "      <th>dataset</th>\n",
       "      <th>class_</th>\n",
       "      <th>dim</th>\n",
       "      <th>trustworthiness</th>\n",
       "      <th>silhouette_score</th>\n",
       "      <th>silhouette_samples</th>\n",
       "    </tr>\n",
       "  </thead>\n",
       "  <tbody>\n",
       "    <tr>\n",
       "      <th>1</th>\n",
       "      <td>fmnist</td>\n",
       "      <td>phate</td>\n",
       "      <td>64</td>\n",
       "      <td>0.987513</td>\n",
       "      <td>0.140152</td>\n",
       "      <td>[-0.06303300877737232, 0.012716377107237794, 0...</td>\n",
       "    </tr>\n",
       "  </tbody>\n",
       "</table>\n",
       "</div>"
      ],
      "text/plain": [
       "  dataset class_ dim  trustworthiness  silhouette_score  \\\n",
       "1  fmnist  phate  64         0.987513          0.140152   \n",
       "\n",
       "                                  silhouette_samples  \n",
       "1  [-0.06303300877737232, 0.012716377107237794, 0...  "
      ]
     },
     "execution_count": 33,
     "metadata": {},
     "output_type": "execute_result"
    }
   ],
   "source": [
    "metrics_df_test = pd.DataFrame(\n",
    "    columns=[\n",
    "        \"dataset\",\n",
    "        \"class_\",\n",
    "        \"dim\",\n",
    "        \"trustworthiness\",\n",
    "        \"silhouette_score\",\n",
    "        \"silhouette_samples\",\n",
    "    ]\n",
    ")\n",
    "metrics_df_test.loc[len(metrics_df)] = [dataset, algorithm, n_components, tw_test, ss_test, sil_samp_test]\n",
    "metrics_df_test"
   ]
  },
  {
   "cell_type": "code",
   "execution_count": 34,
   "metadata": {
    "ExecuteTime": {
     "end_time": "2021-01-15T04:59:42.446814Z",
     "start_time": "2021-01-15T04:59:42.377032Z"
    }
   },
   "outputs": [],
   "source": [
    "save_loc = DATA_DIR / 'projection_metrics' / algorithm / 'test' / str(n_components) / (dataset + '.pickle')\n",
    "ensure_dir(save_loc)\n",
    "metrics_df.to_pickle(save_loc)"
   ]
  },
  {
   "cell_type": "markdown",
   "metadata": {},
   "source": [
    "#### knn "
   ]
  },
  {
   "cell_type": "code",
   "execution_count": 35,
   "metadata": {
    "ExecuteTime": {
     "end_time": "2021-01-15T04:59:42.539880Z",
     "start_time": "2021-01-15T04:59:42.448204Z"
    }
   },
   "outputs": [
    {
     "data": {
      "text/html": [
       "<div>\n",
       "<style scoped>\n",
       "    .dataframe tbody tr th:only-of-type {\n",
       "        vertical-align: middle;\n",
       "    }\n",
       "\n",
       "    .dataframe tbody tr th {\n",
       "        vertical-align: top;\n",
       "    }\n",
       "\n",
       "    .dataframe thead th {\n",
       "        text-align: right;\n",
       "    }\n",
       "</style>\n",
       "<table border=\"1\" class=\"dataframe\">\n",
       "  <thead>\n",
       "    <tr style=\"text-align: right;\">\n",
       "      <th></th>\n",
       "      <th>method_</th>\n",
       "      <th>dimensions</th>\n",
       "      <th>dataset</th>\n",
       "      <th>1NN_acc</th>\n",
       "      <th>5NN_acc</th>\n",
       "    </tr>\n",
       "  </thead>\n",
       "  <tbody>\n",
       "    <tr>\n",
       "      <th>0</th>\n",
       "      <td>phate</td>\n",
       "      <td>64</td>\n",
       "      <td>fmnist</td>\n",
       "      <td>0.7824</td>\n",
       "      <td>0.8126</td>\n",
       "    </tr>\n",
       "  </tbody>\n",
       "</table>\n",
       "</div>"
      ],
      "text/plain": [
       "  method_ dimensions dataset  1NN_acc  5NN_acc\n",
       "0   phate         64  fmnist   0.7824   0.8126"
      ]
     },
     "execution_count": 35,
     "metadata": {},
     "output_type": "execute_result"
    }
   ],
   "source": [
    "nn_acc_df = pd.DataFrame(columns = [\"method_\",\"dimensions\",\"dataset\",\"1NN_acc\",\"5NN_acc\"])\n",
    "nn_acc_df.loc[len(nn_acc_df)] = [algorithm, n_components, dataset,  score_1nn, score_5nn]\n",
    "nn_acc_df"
   ]
  },
  {
   "cell_type": "code",
   "execution_count": 36,
   "metadata": {
    "ExecuteTime": {
     "end_time": "2021-01-15T04:59:42.609682Z",
     "start_time": "2021-01-15T04:59:42.541137Z"
    }
   },
   "outputs": [],
   "source": [
    "save_loc = DATA_DIR / 'knn_classifier' / algorithm / 'train' / str(n_components) / (dataset + '.pickle')\n",
    "ensure_dir(save_loc)\n",
    "nn_acc_df.to_pickle(save_loc)"
   ]
  },
  {
   "cell_type": "markdown",
   "metadata": {},
   "source": [
    "### Compute clustering quality"
   ]
  },
  {
   "cell_type": "code",
   "execution_count": 37,
   "metadata": {
    "ExecuteTime": {
     "end_time": "2021-01-15T04:59:42.679027Z",
     "start_time": "2021-01-15T04:59:42.611058Z"
    }
   },
   "outputs": [],
   "source": [
    "from sklearn.cluster import KMeans\n",
    "from sklearn.metrics import homogeneity_completeness_v_measure"
   ]
  },
  {
   "cell_type": "code",
   "execution_count": 38,
   "metadata": {
    "ExecuteTime": {
     "end_time": "2021-01-15T04:59:42.757730Z",
     "start_time": "2021-01-15T04:59:42.680560Z"
    }
   },
   "outputs": [],
   "source": [
    "def get_cluster_metrics(row, n_init=5):\n",
    "    \n",
    "    # load cluster information\n",
    "    save_loc = DATA_DIR / 'clustering_metric_df'/ ('_'.join([row.class_, str(row.dim), row.dataset]) + '.pickle')\n",
    "    print(save_loc)\n",
    "    if save_loc.exists() and save_loc.is_file():\n",
    "        \n",
    "        cluster_df = pd.read_pickle(save_loc)\n",
    "        return cluster_df\n",
    "    \n",
    "    # make cluster metric dataframe\n",
    "    cluster_df = pd.DataFrame(\n",
    "        columns=[\n",
    "            \"dataset\",\n",
    "            \"class_\",\n",
    "            \"dim\",\n",
    "            \"silhouette\",\n",
    "            \"homogeneity\",\n",
    "            \"completeness\",\n",
    "            \"v_measure\",\n",
    "            \"init_\",\n",
    "            \"n_clusters\",\n",
    "            \"model\",\n",
    "        ]\n",
    "    )\n",
    "    y = row.train_label\n",
    "    z = row.train_z\n",
    "    n_labels = len(np.unique(y))\n",
    "    for n_clusters in tqdm(np.arange(n_labels - int(n_labels / 2), n_labels + int(n_labels / 2)), leave=False, desc = 'n_clusters'):\n",
    "        for init_ in tqdm(range(n_init), leave=False, desc='init'):\n",
    "            kmeans = KMeans(n_clusters=n_clusters, random_state=init_).fit(z)\n",
    "            clustered_y = kmeans.labels_\n",
    "            homogeneity, completeness, v_measure = homogeneity_completeness_v_measure(\n",
    "                y, clustered_y\n",
    "            )\n",
    "            ss, _ = silhouette_score_block(z, clustered_y)\n",
    "            cluster_df.loc[len(cluster_df)] = [\n",
    "                row.dataset,\n",
    "                row.class_,\n",
    "                row.dim,\n",
    "                ss,\n",
    "                homogeneity,\n",
    "                completeness,\n",
    "                v_measure,\n",
    "                init_,\n",
    "                n_clusters,\n",
    "                kmeans,\n",
    "            ]\n",
    "    \n",
    "     # save cluster df in case this fails somewhere\n",
    "    ensure_dir(save_loc)\n",
    "    cluster_df.to_pickle(save_loc)\n",
    "    return cluster_df"
   ]
  },
  {
   "cell_type": "code",
   "execution_count": 39,
   "metadata": {
    "ExecuteTime": {
     "end_time": "2021-01-15T04:59:43.307557Z",
     "start_time": "2021-01-15T04:59:42.759183Z"
    }
   },
   "outputs": [
    {
     "data": {
      "text/html": [
       "<div>\n",
       "<style scoped>\n",
       "    .dataframe tbody tr th:only-of-type {\n",
       "        vertical-align: middle;\n",
       "    }\n",
       "\n",
       "    .dataframe tbody tr th {\n",
       "        vertical-align: top;\n",
       "    }\n",
       "\n",
       "    .dataframe thead th {\n",
       "        text-align: right;\n",
       "    }\n",
       "</style>\n",
       "<table border=\"1\" class=\"dataframe\">\n",
       "  <thead>\n",
       "    <tr style=\"text-align: right;\">\n",
       "      <th></th>\n",
       "      <th>dataset</th>\n",
       "      <th>class_</th>\n",
       "      <th>train_z</th>\n",
       "      <th>train_label</th>\n",
       "      <th>dim</th>\n",
       "    </tr>\n",
       "  </thead>\n",
       "  <tbody>\n",
       "    <tr>\n",
       "      <th>0</th>\n",
       "      <td>fmnist</td>\n",
       "      <td>phate</td>\n",
       "      <td>[[0.0214126977933767, -0.0025264081736014743, ...</td>\n",
       "      <td>[9, 0, 0, 3, 0, 2, 7, 2, 5, 5, 0, 9, 5, 5, 7, ...</td>\n",
       "      <td>64</td>\n",
       "    </tr>\n",
       "  </tbody>\n",
       "</table>\n",
       "</div>"
      ],
      "text/plain": [
       "  dataset class_                                            train_z  \\\n",
       "0  fmnist  phate  [[0.0214126977933767, -0.0025264081736014743, ...   \n",
       "\n",
       "                                         train_label dim  \n",
       "0  [9, 0, 0, 3, 0, 2, 7, 2, 5, 5, 0, 9, 5, 5, 7, ...  64  "
      ]
     },
     "execution_count": 39,
     "metadata": {},
     "output_type": "execute_result"
    }
   ],
   "source": [
    "projection_df = pd.DataFrame(columns = ['dataset', 'class_', 'train_z', 'train_label', 'dim'])\n",
    "projection_df.loc[len(projection_df)] = [dataset, algorithm, z, Y_train, n_components]\n",
    "projection_df"
   ]
  },
  {
   "cell_type": "code",
   "execution_count": 40,
   "metadata": {
    "ExecuteTime": {
     "end_time": "2021-01-15T05:42:12.501845Z",
     "start_time": "2021-01-15T04:59:43.312813Z"
    }
   },
   "outputs": [
    {
     "name": "stdout",
     "output_type": "stream",
     "text": [
      "/mnt/cube/tsainbur/Projects/github_repos/umap_tf_networks/data/clustering_metric_df/phate_64_fmnist.pickle\n"
     ]
    },
    {
     "data": {
      "application/vnd.jupyter.widget-view+json": {
       "model_id": "",
       "version_major": 2,
       "version_minor": 0
      },
      "text/plain": [
       "n_clusters:   0%|          | 0/10 [00:00<?, ?it/s]"
      ]
     },
     "metadata": {},
     "output_type": "display_data"
    },
    {
     "data": {
      "application/vnd.jupyter.widget-view+json": {
       "model_id": "",
       "version_major": 2,
       "version_minor": 0
      },
      "text/plain": [
       "init:   0%|          | 0/5 [00:00<?, ?it/s]"
      ]
     },
     "metadata": {},
     "output_type": "display_data"
    },
    {
     "data": {
      "application/vnd.jupyter.widget-view+json": {
       "model_id": "",
       "version_major": 2,
       "version_minor": 0
      },
      "text/plain": [
       "init:   0%|          | 0/5 [00:00<?, ?it/s]"
      ]
     },
     "metadata": {},
     "output_type": "display_data"
    },
    {
     "data": {
      "application/vnd.jupyter.widget-view+json": {
       "model_id": "",
       "version_major": 2,
       "version_minor": 0
      },
      "text/plain": [
       "init:   0%|          | 0/5 [00:00<?, ?it/s]"
      ]
     },
     "metadata": {},
     "output_type": "display_data"
    },
    {
     "data": {
      "application/vnd.jupyter.widget-view+json": {
       "model_id": "",
       "version_major": 2,
       "version_minor": 0
      },
      "text/plain": [
       "init:   0%|          | 0/5 [00:00<?, ?it/s]"
      ]
     },
     "metadata": {},
     "output_type": "display_data"
    },
    {
     "data": {
      "application/vnd.jupyter.widget-view+json": {
       "model_id": "",
       "version_major": 2,
       "version_minor": 0
      },
      "text/plain": [
       "init:   0%|          | 0/5 [00:00<?, ?it/s]"
      ]
     },
     "metadata": {},
     "output_type": "display_data"
    },
    {
     "data": {
      "application/vnd.jupyter.widget-view+json": {
       "model_id": "",
       "version_major": 2,
       "version_minor": 0
      },
      "text/plain": [
       "init:   0%|          | 0/5 [00:00<?, ?it/s]"
      ]
     },
     "metadata": {},
     "output_type": "display_data"
    },
    {
     "data": {
      "application/vnd.jupyter.widget-view+json": {
       "model_id": "",
       "version_major": 2,
       "version_minor": 0
      },
      "text/plain": [
       "init:   0%|          | 0/5 [00:00<?, ?it/s]"
      ]
     },
     "metadata": {},
     "output_type": "display_data"
    },
    {
     "data": {
      "application/vnd.jupyter.widget-view+json": {
       "model_id": "",
       "version_major": 2,
       "version_minor": 0
      },
      "text/plain": [
       "init:   0%|          | 0/5 [00:00<?, ?it/s]"
      ]
     },
     "metadata": {},
     "output_type": "display_data"
    },
    {
     "data": {
      "application/vnd.jupyter.widget-view+json": {
       "model_id": "",
       "version_major": 2,
       "version_minor": 0
      },
      "text/plain": [
       "init:   0%|          | 0/5 [00:00<?, ?it/s]"
      ]
     },
     "metadata": {},
     "output_type": "display_data"
    },
    {
     "data": {
      "application/vnd.jupyter.widget-view+json": {
       "model_id": "",
       "version_major": 2,
       "version_minor": 0
      },
      "text/plain": [
       "init:   0%|          | 0/5 [00:00<?, ?it/s]"
      ]
     },
     "metadata": {},
     "output_type": "display_data"
    },
    {
     "data": {
      "text/html": [
       "<div>\n",
       "<style scoped>\n",
       "    .dataframe tbody tr th:only-of-type {\n",
       "        vertical-align: middle;\n",
       "    }\n",
       "\n",
       "    .dataframe tbody tr th {\n",
       "        vertical-align: top;\n",
       "    }\n",
       "\n",
       "    .dataframe thead th {\n",
       "        text-align: right;\n",
       "    }\n",
       "</style>\n",
       "<table border=\"1\" class=\"dataframe\">\n",
       "  <thead>\n",
       "    <tr style=\"text-align: right;\">\n",
       "      <th></th>\n",
       "      <th>dataset</th>\n",
       "      <th>class_</th>\n",
       "      <th>dim</th>\n",
       "      <th>silhouette</th>\n",
       "      <th>homogeneity</th>\n",
       "      <th>completeness</th>\n",
       "      <th>v_measure</th>\n",
       "      <th>init_</th>\n",
       "      <th>n_clusters</th>\n",
       "      <th>model</th>\n",
       "    </tr>\n",
       "  </thead>\n",
       "  <tbody>\n",
       "    <tr>\n",
       "      <th>0</th>\n",
       "      <td>fmnist</td>\n",
       "      <td>phate</td>\n",
       "      <td>64</td>\n",
       "      <td>0.451168</td>\n",
       "      <td>0.488971</td>\n",
       "      <td>0.745186</td>\n",
       "      <td>0.590483</td>\n",
       "      <td>0</td>\n",
       "      <td>5</td>\n",
       "      <td>KMeans(n_clusters=5, random_state=0)</td>\n",
       "    </tr>\n",
       "    <tr>\n",
       "      <th>1</th>\n",
       "      <td>fmnist</td>\n",
       "      <td>phate</td>\n",
       "      <td>64</td>\n",
       "      <td>0.451026</td>\n",
       "      <td>0.488733</td>\n",
       "      <td>0.744631</td>\n",
       "      <td>0.590135</td>\n",
       "      <td>1</td>\n",
       "      <td>5</td>\n",
       "      <td>KMeans(n_clusters=5, random_state=1)</td>\n",
       "    </tr>\n",
       "    <tr>\n",
       "      <th>2</th>\n",
       "      <td>fmnist</td>\n",
       "      <td>phate</td>\n",
       "      <td>64</td>\n",
       "      <td>0.451026</td>\n",
       "      <td>0.488733</td>\n",
       "      <td>0.744631</td>\n",
       "      <td>0.590135</td>\n",
       "      <td>2</td>\n",
       "      <td>5</td>\n",
       "      <td>KMeans(n_clusters=5, random_state=2)</td>\n",
       "    </tr>\n",
       "    <tr>\n",
       "      <th>3</th>\n",
       "      <td>fmnist</td>\n",
       "      <td>phate</td>\n",
       "      <td>64</td>\n",
       "      <td>0.451026</td>\n",
       "      <td>0.488733</td>\n",
       "      <td>0.744631</td>\n",
       "      <td>0.590135</td>\n",
       "      <td>3</td>\n",
       "      <td>5</td>\n",
       "      <td>KMeans(n_clusters=5, random_state=3)</td>\n",
       "    </tr>\n",
       "    <tr>\n",
       "      <th>4</th>\n",
       "      <td>fmnist</td>\n",
       "      <td>phate</td>\n",
       "      <td>64</td>\n",
       "      <td>0.451026</td>\n",
       "      <td>0.488733</td>\n",
       "      <td>0.744631</td>\n",
       "      <td>0.590135</td>\n",
       "      <td>4</td>\n",
       "      <td>5</td>\n",
       "      <td>KMeans(n_clusters=5, random_state=4)</td>\n",
       "    </tr>\n",
       "    <tr>\n",
       "      <th>5</th>\n",
       "      <td>fmnist</td>\n",
       "      <td>phate</td>\n",
       "      <td>64</td>\n",
       "      <td>0.421131</td>\n",
       "      <td>0.520102</td>\n",
       "      <td>0.704462</td>\n",
       "      <td>0.598404</td>\n",
       "      <td>0</td>\n",
       "      <td>6</td>\n",
       "      <td>KMeans(n_clusters=6, random_state=0)</td>\n",
       "    </tr>\n",
       "    <tr>\n",
       "      <th>6</th>\n",
       "      <td>fmnist</td>\n",
       "      <td>phate</td>\n",
       "      <td>64</td>\n",
       "      <td>0.421010</td>\n",
       "      <td>0.520250</td>\n",
       "      <td>0.704509</td>\n",
       "      <td>0.598519</td>\n",
       "      <td>1</td>\n",
       "      <td>6</td>\n",
       "      <td>KMeans(n_clusters=6, random_state=1)</td>\n",
       "    </tr>\n",
       "    <tr>\n",
       "      <th>7</th>\n",
       "      <td>fmnist</td>\n",
       "      <td>phate</td>\n",
       "      <td>64</td>\n",
       "      <td>0.420995</td>\n",
       "      <td>0.520285</td>\n",
       "      <td>0.704527</td>\n",
       "      <td>0.598549</td>\n",
       "      <td>2</td>\n",
       "      <td>6</td>\n",
       "      <td>KMeans(n_clusters=6, random_state=2)</td>\n",
       "    </tr>\n",
       "    <tr>\n",
       "      <th>8</th>\n",
       "      <td>fmnist</td>\n",
       "      <td>phate</td>\n",
       "      <td>64</td>\n",
       "      <td>0.421130</td>\n",
       "      <td>0.520090</td>\n",
       "      <td>0.704447</td>\n",
       "      <td>0.598391</td>\n",
       "      <td>3</td>\n",
       "      <td>6</td>\n",
       "      <td>KMeans(n_clusters=6, random_state=3)</td>\n",
       "    </tr>\n",
       "    <tr>\n",
       "      <th>9</th>\n",
       "      <td>fmnist</td>\n",
       "      <td>phate</td>\n",
       "      <td>64</td>\n",
       "      <td>0.421032</td>\n",
       "      <td>0.520202</td>\n",
       "      <td>0.704480</td>\n",
       "      <td>0.598477</td>\n",
       "      <td>4</td>\n",
       "      <td>6</td>\n",
       "      <td>KMeans(n_clusters=6, random_state=4)</td>\n",
       "    </tr>\n",
       "    <tr>\n",
       "      <th>10</th>\n",
       "      <td>fmnist</td>\n",
       "      <td>phate</td>\n",
       "      <td>64</td>\n",
       "      <td>0.420867</td>\n",
       "      <td>0.523367</td>\n",
       "      <td>0.635541</td>\n",
       "      <td>0.574025</td>\n",
       "      <td>0</td>\n",
       "      <td>7</td>\n",
       "      <td>KMeans(n_clusters=7, random_state=0)</td>\n",
       "    </tr>\n",
       "    <tr>\n",
       "      <th>11</th>\n",
       "      <td>fmnist</td>\n",
       "      <td>phate</td>\n",
       "      <td>64</td>\n",
       "      <td>0.420867</td>\n",
       "      <td>0.523378</td>\n",
       "      <td>0.635558</td>\n",
       "      <td>0.574039</td>\n",
       "      <td>1</td>\n",
       "      <td>7</td>\n",
       "      <td>KMeans(n_clusters=7, random_state=1)</td>\n",
       "    </tr>\n",
       "    <tr>\n",
       "      <th>12</th>\n",
       "      <td>fmnist</td>\n",
       "      <td>phate</td>\n",
       "      <td>64</td>\n",
       "      <td>0.420764</td>\n",
       "      <td>0.523415</td>\n",
       "      <td>0.635514</td>\n",
       "      <td>0.574043</td>\n",
       "      <td>2</td>\n",
       "      <td>7</td>\n",
       "      <td>KMeans(n_clusters=7, random_state=2)</td>\n",
       "    </tr>\n",
       "    <tr>\n",
       "      <th>13</th>\n",
       "      <td>fmnist</td>\n",
       "      <td>phate</td>\n",
       "      <td>64</td>\n",
       "      <td>0.420871</td>\n",
       "      <td>0.523324</td>\n",
       "      <td>0.635519</td>\n",
       "      <td>0.573990</td>\n",
       "      <td>3</td>\n",
       "      <td>7</td>\n",
       "      <td>KMeans(n_clusters=7, random_state=3)</td>\n",
       "    </tr>\n",
       "    <tr>\n",
       "      <th>14</th>\n",
       "      <td>fmnist</td>\n",
       "      <td>phate</td>\n",
       "      <td>64</td>\n",
       "      <td>0.420865</td>\n",
       "      <td>0.523326</td>\n",
       "      <td>0.635519</td>\n",
       "      <td>0.573991</td>\n",
       "      <td>4</td>\n",
       "      <td>7</td>\n",
       "      <td>KMeans(n_clusters=7, random_state=4)</td>\n",
       "    </tr>\n",
       "    <tr>\n",
       "      <th>15</th>\n",
       "      <td>fmnist</td>\n",
       "      <td>phate</td>\n",
       "      <td>64</td>\n",
       "      <td>0.421006</td>\n",
       "      <td>0.547816</td>\n",
       "      <td>0.622014</td>\n",
       "      <td>0.582562</td>\n",
       "      <td>0</td>\n",
       "      <td>8</td>\n",
       "      <td>KMeans(random_state=0)</td>\n",
       "    </tr>\n",
       "    <tr>\n",
       "      <th>16</th>\n",
       "      <td>fmnist</td>\n",
       "      <td>phate</td>\n",
       "      <td>64</td>\n",
       "      <td>0.421006</td>\n",
       "      <td>0.547807</td>\n",
       "      <td>0.622007</td>\n",
       "      <td>0.582554</td>\n",
       "      <td>1</td>\n",
       "      <td>8</td>\n",
       "      <td>KMeans(random_state=1)</td>\n",
       "    </tr>\n",
       "    <tr>\n",
       "      <th>17</th>\n",
       "      <td>fmnist</td>\n",
       "      <td>phate</td>\n",
       "      <td>64</td>\n",
       "      <td>0.420989</td>\n",
       "      <td>0.547742</td>\n",
       "      <td>0.621920</td>\n",
       "      <td>0.582479</td>\n",
       "      <td>2</td>\n",
       "      <td>8</td>\n",
       "      <td>KMeans(random_state=2)</td>\n",
       "    </tr>\n",
       "    <tr>\n",
       "      <th>18</th>\n",
       "      <td>fmnist</td>\n",
       "      <td>phate</td>\n",
       "      <td>64</td>\n",
       "      <td>0.421012</td>\n",
       "      <td>0.547813</td>\n",
       "      <td>0.622014</td>\n",
       "      <td>0.582560</td>\n",
       "      <td>3</td>\n",
       "      <td>8</td>\n",
       "      <td>KMeans(random_state=3)</td>\n",
       "    </tr>\n",
       "    <tr>\n",
       "      <th>19</th>\n",
       "      <td>fmnist</td>\n",
       "      <td>phate</td>\n",
       "      <td>64</td>\n",
       "      <td>0.421005</td>\n",
       "      <td>0.547834</td>\n",
       "      <td>0.622029</td>\n",
       "      <td>0.582579</td>\n",
       "      <td>4</td>\n",
       "      <td>8</td>\n",
       "      <td>KMeans(random_state=4)</td>\n",
       "    </tr>\n",
       "    <tr>\n",
       "      <th>20</th>\n",
       "      <td>fmnist</td>\n",
       "      <td>phate</td>\n",
       "      <td>64</td>\n",
       "      <td>0.409598</td>\n",
       "      <td>0.571425</td>\n",
       "      <td>0.611974</td>\n",
       "      <td>0.591005</td>\n",
       "      <td>0</td>\n",
       "      <td>9</td>\n",
       "      <td>KMeans(n_clusters=9, random_state=0)</td>\n",
       "    </tr>\n",
       "    <tr>\n",
       "      <th>21</th>\n",
       "      <td>fmnist</td>\n",
       "      <td>phate</td>\n",
       "      <td>64</td>\n",
       "      <td>0.409591</td>\n",
       "      <td>0.571334</td>\n",
       "      <td>0.611889</td>\n",
       "      <td>0.590917</td>\n",
       "      <td>1</td>\n",
       "      <td>9</td>\n",
       "      <td>KMeans(n_clusters=9, random_state=1)</td>\n",
       "    </tr>\n",
       "    <tr>\n",
       "      <th>22</th>\n",
       "      <td>fmnist</td>\n",
       "      <td>phate</td>\n",
       "      <td>64</td>\n",
       "      <td>0.409519</td>\n",
       "      <td>0.571245</td>\n",
       "      <td>0.611728</td>\n",
       "      <td>0.590794</td>\n",
       "      <td>2</td>\n",
       "      <td>9</td>\n",
       "      <td>KMeans(n_clusters=9, random_state=2)</td>\n",
       "    </tr>\n",
       "    <tr>\n",
       "      <th>23</th>\n",
       "      <td>fmnist</td>\n",
       "      <td>phate</td>\n",
       "      <td>64</td>\n",
       "      <td>0.409594</td>\n",
       "      <td>0.571412</td>\n",
       "      <td>0.611960</td>\n",
       "      <td>0.590991</td>\n",
       "      <td>3</td>\n",
       "      <td>9</td>\n",
       "      <td>KMeans(n_clusters=9, random_state=3)</td>\n",
       "    </tr>\n",
       "    <tr>\n",
       "      <th>24</th>\n",
       "      <td>fmnist</td>\n",
       "      <td>phate</td>\n",
       "      <td>64</td>\n",
       "      <td>0.409562</td>\n",
       "      <td>0.571421</td>\n",
       "      <td>0.611962</td>\n",
       "      <td>0.590997</td>\n",
       "      <td>4</td>\n",
       "      <td>9</td>\n",
       "      <td>KMeans(n_clusters=9, random_state=4)</td>\n",
       "    </tr>\n",
       "    <tr>\n",
       "      <th>25</th>\n",
       "      <td>fmnist</td>\n",
       "      <td>phate</td>\n",
       "      <td>64</td>\n",
       "      <td>0.400744</td>\n",
       "      <td>0.580333</td>\n",
       "      <td>0.589066</td>\n",
       "      <td>0.584667</td>\n",
       "      <td>0</td>\n",
       "      <td>10</td>\n",
       "      <td>KMeans(n_clusters=10, random_state=0)</td>\n",
       "    </tr>\n",
       "    <tr>\n",
       "      <th>26</th>\n",
       "      <td>fmnist</td>\n",
       "      <td>phate</td>\n",
       "      <td>64</td>\n",
       "      <td>0.400853</td>\n",
       "      <td>0.580314</td>\n",
       "      <td>0.589107</td>\n",
       "      <td>0.584678</td>\n",
       "      <td>1</td>\n",
       "      <td>10</td>\n",
       "      <td>KMeans(n_clusters=10, random_state=1)</td>\n",
       "    </tr>\n",
       "    <tr>\n",
       "      <th>27</th>\n",
       "      <td>fmnist</td>\n",
       "      <td>phate</td>\n",
       "      <td>64</td>\n",
       "      <td>0.400881</td>\n",
       "      <td>0.580365</td>\n",
       "      <td>0.589156</td>\n",
       "      <td>0.584727</td>\n",
       "      <td>2</td>\n",
       "      <td>10</td>\n",
       "      <td>KMeans(n_clusters=10, random_state=2)</td>\n",
       "    </tr>\n",
       "    <tr>\n",
       "      <th>28</th>\n",
       "      <td>fmnist</td>\n",
       "      <td>phate</td>\n",
       "      <td>64</td>\n",
       "      <td>0.400881</td>\n",
       "      <td>0.580365</td>\n",
       "      <td>0.589156</td>\n",
       "      <td>0.584727</td>\n",
       "      <td>3</td>\n",
       "      <td>10</td>\n",
       "      <td>KMeans(n_clusters=10, random_state=3)</td>\n",
       "    </tr>\n",
       "    <tr>\n",
       "      <th>29</th>\n",
       "      <td>fmnist</td>\n",
       "      <td>phate</td>\n",
       "      <td>64</td>\n",
       "      <td>0.400871</td>\n",
       "      <td>0.580310</td>\n",
       "      <td>0.589110</td>\n",
       "      <td>0.584677</td>\n",
       "      <td>4</td>\n",
       "      <td>10</td>\n",
       "      <td>KMeans(n_clusters=10, random_state=4)</td>\n",
       "    </tr>\n",
       "    <tr>\n",
       "      <th>30</th>\n",
       "      <td>fmnist</td>\n",
       "      <td>phate</td>\n",
       "      <td>64</td>\n",
       "      <td>0.409095</td>\n",
       "      <td>0.598797</td>\n",
       "      <td>0.590006</td>\n",
       "      <td>0.594369</td>\n",
       "      <td>0</td>\n",
       "      <td>11</td>\n",
       "      <td>KMeans(n_clusters=11, random_state=0)</td>\n",
       "    </tr>\n",
       "    <tr>\n",
       "      <th>31</th>\n",
       "      <td>fmnist</td>\n",
       "      <td>phate</td>\n",
       "      <td>64</td>\n",
       "      <td>0.409053</td>\n",
       "      <td>0.598813</td>\n",
       "      <td>0.590010</td>\n",
       "      <td>0.594379</td>\n",
       "      <td>1</td>\n",
       "      <td>11</td>\n",
       "      <td>KMeans(n_clusters=11, random_state=1)</td>\n",
       "    </tr>\n",
       "    <tr>\n",
       "      <th>32</th>\n",
       "      <td>fmnist</td>\n",
       "      <td>phate</td>\n",
       "      <td>64</td>\n",
       "      <td>0.409143</td>\n",
       "      <td>0.598887</td>\n",
       "      <td>0.590101</td>\n",
       "      <td>0.594462</td>\n",
       "      <td>2</td>\n",
       "      <td>11</td>\n",
       "      <td>KMeans(n_clusters=11, random_state=2)</td>\n",
       "    </tr>\n",
       "    <tr>\n",
       "      <th>33</th>\n",
       "      <td>fmnist</td>\n",
       "      <td>phate</td>\n",
       "      <td>64</td>\n",
       "      <td>0.409094</td>\n",
       "      <td>0.598847</td>\n",
       "      <td>0.590056</td>\n",
       "      <td>0.594419</td>\n",
       "      <td>3</td>\n",
       "      <td>11</td>\n",
       "      <td>KMeans(n_clusters=11, random_state=3)</td>\n",
       "    </tr>\n",
       "    <tr>\n",
       "      <th>34</th>\n",
       "      <td>fmnist</td>\n",
       "      <td>phate</td>\n",
       "      <td>64</td>\n",
       "      <td>0.398298</td>\n",
       "      <td>0.595100</td>\n",
       "      <td>0.579573</td>\n",
       "      <td>0.587233</td>\n",
       "      <td>4</td>\n",
       "      <td>11</td>\n",
       "      <td>KMeans(n_clusters=11, random_state=4)</td>\n",
       "    </tr>\n",
       "    <tr>\n",
       "      <th>35</th>\n",
       "      <td>fmnist</td>\n",
       "      <td>phate</td>\n",
       "      <td>64</td>\n",
       "      <td>0.405782</td>\n",
       "      <td>0.612395</td>\n",
       "      <td>0.579856</td>\n",
       "      <td>0.595682</td>\n",
       "      <td>0</td>\n",
       "      <td>12</td>\n",
       "      <td>KMeans(n_clusters=12, random_state=0)</td>\n",
       "    </tr>\n",
       "    <tr>\n",
       "      <th>36</th>\n",
       "      <td>fmnist</td>\n",
       "      <td>phate</td>\n",
       "      <td>64</td>\n",
       "      <td>0.405809</td>\n",
       "      <td>0.612437</td>\n",
       "      <td>0.579879</td>\n",
       "      <td>0.595714</td>\n",
       "      <td>1</td>\n",
       "      <td>12</td>\n",
       "      <td>KMeans(n_clusters=12, random_state=1)</td>\n",
       "    </tr>\n",
       "    <tr>\n",
       "      <th>37</th>\n",
       "      <td>fmnist</td>\n",
       "      <td>phate</td>\n",
       "      <td>64</td>\n",
       "      <td>0.395362</td>\n",
       "      <td>0.599662</td>\n",
       "      <td>0.574391</td>\n",
       "      <td>0.586755</td>\n",
       "      <td>2</td>\n",
       "      <td>12</td>\n",
       "      <td>KMeans(n_clusters=12, random_state=2)</td>\n",
       "    </tr>\n",
       "    <tr>\n",
       "      <th>38</th>\n",
       "      <td>fmnist</td>\n",
       "      <td>phate</td>\n",
       "      <td>64</td>\n",
       "      <td>0.406669</td>\n",
       "      <td>0.613691</td>\n",
       "      <td>0.580773</td>\n",
       "      <td>0.596778</td>\n",
       "      <td>3</td>\n",
       "      <td>12</td>\n",
       "      <td>KMeans(n_clusters=12, random_state=3)</td>\n",
       "    </tr>\n",
       "    <tr>\n",
       "      <th>39</th>\n",
       "      <td>fmnist</td>\n",
       "      <td>phate</td>\n",
       "      <td>64</td>\n",
       "      <td>0.406713</td>\n",
       "      <td>0.613600</td>\n",
       "      <td>0.580667</td>\n",
       "      <td>0.596680</td>\n",
       "      <td>4</td>\n",
       "      <td>12</td>\n",
       "      <td>KMeans(n_clusters=12, random_state=4)</td>\n",
       "    </tr>\n",
       "    <tr>\n",
       "      <th>40</th>\n",
       "      <td>fmnist</td>\n",
       "      <td>phate</td>\n",
       "      <td>64</td>\n",
       "      <td>0.411652</td>\n",
       "      <td>0.626036</td>\n",
       "      <td>0.578364</td>\n",
       "      <td>0.601257</td>\n",
       "      <td>0</td>\n",
       "      <td>13</td>\n",
       "      <td>KMeans(n_clusters=13, random_state=0)</td>\n",
       "    </tr>\n",
       "    <tr>\n",
       "      <th>41</th>\n",
       "      <td>fmnist</td>\n",
       "      <td>phate</td>\n",
       "      <td>64</td>\n",
       "      <td>0.405282</td>\n",
       "      <td>0.631317</td>\n",
       "      <td>0.578868</td>\n",
       "      <td>0.603955</td>\n",
       "      <td>1</td>\n",
       "      <td>13</td>\n",
       "      <td>KMeans(n_clusters=13, random_state=1)</td>\n",
       "    </tr>\n",
       "    <tr>\n",
       "      <th>42</th>\n",
       "      <td>fmnist</td>\n",
       "      <td>phate</td>\n",
       "      <td>64</td>\n",
       "      <td>0.392768</td>\n",
       "      <td>0.614209</td>\n",
       "      <td>0.565726</td>\n",
       "      <td>0.588971</td>\n",
       "      <td>2</td>\n",
       "      <td>13</td>\n",
       "      <td>KMeans(n_clusters=13, random_state=2)</td>\n",
       "    </tr>\n",
       "    <tr>\n",
       "      <th>43</th>\n",
       "      <td>fmnist</td>\n",
       "      <td>phate</td>\n",
       "      <td>64</td>\n",
       "      <td>0.411724</td>\n",
       "      <td>0.625997</td>\n",
       "      <td>0.578290</td>\n",
       "      <td>0.601199</td>\n",
       "      <td>3</td>\n",
       "      <td>13</td>\n",
       "      <td>KMeans(n_clusters=13, random_state=3)</td>\n",
       "    </tr>\n",
       "    <tr>\n",
       "      <th>44</th>\n",
       "      <td>fmnist</td>\n",
       "      <td>phate</td>\n",
       "      <td>64</td>\n",
       "      <td>0.411683</td>\n",
       "      <td>0.625843</td>\n",
       "      <td>0.578252</td>\n",
       "      <td>0.601107</td>\n",
       "      <td>4</td>\n",
       "      <td>13</td>\n",
       "      <td>KMeans(n_clusters=13, random_state=4)</td>\n",
       "    </tr>\n",
       "    <tr>\n",
       "      <th>45</th>\n",
       "      <td>fmnist</td>\n",
       "      <td>phate</td>\n",
       "      <td>64</td>\n",
       "      <td>0.410324</td>\n",
       "      <td>0.643653</td>\n",
       "      <td>0.576545</td>\n",
       "      <td>0.608254</td>\n",
       "      <td>0</td>\n",
       "      <td>14</td>\n",
       "      <td>KMeans(n_clusters=14, random_state=0)</td>\n",
       "    </tr>\n",
       "    <tr>\n",
       "      <th>46</th>\n",
       "      <td>fmnist</td>\n",
       "      <td>phate</td>\n",
       "      <td>64</td>\n",
       "      <td>0.397944</td>\n",
       "      <td>0.626718</td>\n",
       "      <td>0.563920</td>\n",
       "      <td>0.593663</td>\n",
       "      <td>1</td>\n",
       "      <td>14</td>\n",
       "      <td>KMeans(n_clusters=14, random_state=1)</td>\n",
       "    </tr>\n",
       "    <tr>\n",
       "      <th>47</th>\n",
       "      <td>fmnist</td>\n",
       "      <td>phate</td>\n",
       "      <td>64</td>\n",
       "      <td>0.397917</td>\n",
       "      <td>0.626682</td>\n",
       "      <td>0.563876</td>\n",
       "      <td>0.593622</td>\n",
       "      <td>2</td>\n",
       "      <td>14</td>\n",
       "      <td>KMeans(n_clusters=14, random_state=2)</td>\n",
       "    </tr>\n",
       "    <tr>\n",
       "      <th>48</th>\n",
       "      <td>fmnist</td>\n",
       "      <td>phate</td>\n",
       "      <td>64</td>\n",
       "      <td>0.397884</td>\n",
       "      <td>0.626601</td>\n",
       "      <td>0.563752</td>\n",
       "      <td>0.593517</td>\n",
       "      <td>3</td>\n",
       "      <td>14</td>\n",
       "      <td>KMeans(n_clusters=14, random_state=3)</td>\n",
       "    </tr>\n",
       "    <tr>\n",
       "      <th>49</th>\n",
       "      <td>fmnist</td>\n",
       "      <td>phate</td>\n",
       "      <td>64</td>\n",
       "      <td>0.397915</td>\n",
       "      <td>0.626664</td>\n",
       "      <td>0.563847</td>\n",
       "      <td>0.593598</td>\n",
       "      <td>4</td>\n",
       "      <td>14</td>\n",
       "      <td>KMeans(n_clusters=14, random_state=4)</td>\n",
       "    </tr>\n",
       "  </tbody>\n",
       "</table>\n",
       "</div>"
      ],
      "text/plain": [
       "   dataset class_ dim  silhouette  homogeneity  completeness  v_measure init_  \\\n",
       "0   fmnist  phate  64    0.451168     0.488971      0.745186   0.590483     0   \n",
       "1   fmnist  phate  64    0.451026     0.488733      0.744631   0.590135     1   \n",
       "2   fmnist  phate  64    0.451026     0.488733      0.744631   0.590135     2   \n",
       "3   fmnist  phate  64    0.451026     0.488733      0.744631   0.590135     3   \n",
       "4   fmnist  phate  64    0.451026     0.488733      0.744631   0.590135     4   \n",
       "5   fmnist  phate  64    0.421131     0.520102      0.704462   0.598404     0   \n",
       "6   fmnist  phate  64    0.421010     0.520250      0.704509   0.598519     1   \n",
       "7   fmnist  phate  64    0.420995     0.520285      0.704527   0.598549     2   \n",
       "8   fmnist  phate  64    0.421130     0.520090      0.704447   0.598391     3   \n",
       "9   fmnist  phate  64    0.421032     0.520202      0.704480   0.598477     4   \n",
       "10  fmnist  phate  64    0.420867     0.523367      0.635541   0.574025     0   \n",
       "11  fmnist  phate  64    0.420867     0.523378      0.635558   0.574039     1   \n",
       "12  fmnist  phate  64    0.420764     0.523415      0.635514   0.574043     2   \n",
       "13  fmnist  phate  64    0.420871     0.523324      0.635519   0.573990     3   \n",
       "14  fmnist  phate  64    0.420865     0.523326      0.635519   0.573991     4   \n",
       "15  fmnist  phate  64    0.421006     0.547816      0.622014   0.582562     0   \n",
       "16  fmnist  phate  64    0.421006     0.547807      0.622007   0.582554     1   \n",
       "17  fmnist  phate  64    0.420989     0.547742      0.621920   0.582479     2   \n",
       "18  fmnist  phate  64    0.421012     0.547813      0.622014   0.582560     3   \n",
       "19  fmnist  phate  64    0.421005     0.547834      0.622029   0.582579     4   \n",
       "20  fmnist  phate  64    0.409598     0.571425      0.611974   0.591005     0   \n",
       "21  fmnist  phate  64    0.409591     0.571334      0.611889   0.590917     1   \n",
       "22  fmnist  phate  64    0.409519     0.571245      0.611728   0.590794     2   \n",
       "23  fmnist  phate  64    0.409594     0.571412      0.611960   0.590991     3   \n",
       "24  fmnist  phate  64    0.409562     0.571421      0.611962   0.590997     4   \n",
       "25  fmnist  phate  64    0.400744     0.580333      0.589066   0.584667     0   \n",
       "26  fmnist  phate  64    0.400853     0.580314      0.589107   0.584678     1   \n",
       "27  fmnist  phate  64    0.400881     0.580365      0.589156   0.584727     2   \n",
       "28  fmnist  phate  64    0.400881     0.580365      0.589156   0.584727     3   \n",
       "29  fmnist  phate  64    0.400871     0.580310      0.589110   0.584677     4   \n",
       "30  fmnist  phate  64    0.409095     0.598797      0.590006   0.594369     0   \n",
       "31  fmnist  phate  64    0.409053     0.598813      0.590010   0.594379     1   \n",
       "32  fmnist  phate  64    0.409143     0.598887      0.590101   0.594462     2   \n",
       "33  fmnist  phate  64    0.409094     0.598847      0.590056   0.594419     3   \n",
       "34  fmnist  phate  64    0.398298     0.595100      0.579573   0.587233     4   \n",
       "35  fmnist  phate  64    0.405782     0.612395      0.579856   0.595682     0   \n",
       "36  fmnist  phate  64    0.405809     0.612437      0.579879   0.595714     1   \n",
       "37  fmnist  phate  64    0.395362     0.599662      0.574391   0.586755     2   \n",
       "38  fmnist  phate  64    0.406669     0.613691      0.580773   0.596778     3   \n",
       "39  fmnist  phate  64    0.406713     0.613600      0.580667   0.596680     4   \n",
       "40  fmnist  phate  64    0.411652     0.626036      0.578364   0.601257     0   \n",
       "41  fmnist  phate  64    0.405282     0.631317      0.578868   0.603955     1   \n",
       "42  fmnist  phate  64    0.392768     0.614209      0.565726   0.588971     2   \n",
       "43  fmnist  phate  64    0.411724     0.625997      0.578290   0.601199     3   \n",
       "44  fmnist  phate  64    0.411683     0.625843      0.578252   0.601107     4   \n",
       "45  fmnist  phate  64    0.410324     0.643653      0.576545   0.608254     0   \n",
       "46  fmnist  phate  64    0.397944     0.626718      0.563920   0.593663     1   \n",
       "47  fmnist  phate  64    0.397917     0.626682      0.563876   0.593622     2   \n",
       "48  fmnist  phate  64    0.397884     0.626601      0.563752   0.593517     3   \n",
       "49  fmnist  phate  64    0.397915     0.626664      0.563847   0.593598     4   \n",
       "\n",
       "   n_clusters                                  model  \n",
       "0           5   KMeans(n_clusters=5, random_state=0)  \n",
       "1           5   KMeans(n_clusters=5, random_state=1)  \n",
       "2           5   KMeans(n_clusters=5, random_state=2)  \n",
       "3           5   KMeans(n_clusters=5, random_state=3)  \n",
       "4           5   KMeans(n_clusters=5, random_state=4)  \n",
       "5           6   KMeans(n_clusters=6, random_state=0)  \n",
       "6           6   KMeans(n_clusters=6, random_state=1)  \n",
       "7           6   KMeans(n_clusters=6, random_state=2)  \n",
       "8           6   KMeans(n_clusters=6, random_state=3)  \n",
       "9           6   KMeans(n_clusters=6, random_state=4)  \n",
       "10          7   KMeans(n_clusters=7, random_state=0)  \n",
       "11          7   KMeans(n_clusters=7, random_state=1)  \n",
       "12          7   KMeans(n_clusters=7, random_state=2)  \n",
       "13          7   KMeans(n_clusters=7, random_state=3)  \n",
       "14          7   KMeans(n_clusters=7, random_state=4)  \n",
       "15          8                 KMeans(random_state=0)  \n",
       "16          8                 KMeans(random_state=1)  \n",
       "17          8                 KMeans(random_state=2)  \n",
       "18          8                 KMeans(random_state=3)  \n",
       "19          8                 KMeans(random_state=4)  \n",
       "20          9   KMeans(n_clusters=9, random_state=0)  \n",
       "21          9   KMeans(n_clusters=9, random_state=1)  \n",
       "22          9   KMeans(n_clusters=9, random_state=2)  \n",
       "23          9   KMeans(n_clusters=9, random_state=3)  \n",
       "24          9   KMeans(n_clusters=9, random_state=4)  \n",
       "25         10  KMeans(n_clusters=10, random_state=0)  \n",
       "26         10  KMeans(n_clusters=10, random_state=1)  \n",
       "27         10  KMeans(n_clusters=10, random_state=2)  \n",
       "28         10  KMeans(n_clusters=10, random_state=3)  \n",
       "29         10  KMeans(n_clusters=10, random_state=4)  \n",
       "30         11  KMeans(n_clusters=11, random_state=0)  \n",
       "31         11  KMeans(n_clusters=11, random_state=1)  \n",
       "32         11  KMeans(n_clusters=11, random_state=2)  \n",
       "33         11  KMeans(n_clusters=11, random_state=3)  \n",
       "34         11  KMeans(n_clusters=11, random_state=4)  \n",
       "35         12  KMeans(n_clusters=12, random_state=0)  \n",
       "36         12  KMeans(n_clusters=12, random_state=1)  \n",
       "37         12  KMeans(n_clusters=12, random_state=2)  \n",
       "38         12  KMeans(n_clusters=12, random_state=3)  \n",
       "39         12  KMeans(n_clusters=12, random_state=4)  \n",
       "40         13  KMeans(n_clusters=13, random_state=0)  \n",
       "41         13  KMeans(n_clusters=13, random_state=1)  \n",
       "42         13  KMeans(n_clusters=13, random_state=2)  \n",
       "43         13  KMeans(n_clusters=13, random_state=3)  \n",
       "44         13  KMeans(n_clusters=13, random_state=4)  \n",
       "45         14  KMeans(n_clusters=14, random_state=0)  \n",
       "46         14  KMeans(n_clusters=14, random_state=1)  \n",
       "47         14  KMeans(n_clusters=14, random_state=2)  \n",
       "48         14  KMeans(n_clusters=14, random_state=3)  \n",
       "49         14  KMeans(n_clusters=14, random_state=4)  "
      ]
     },
     "execution_count": 40,
     "metadata": {},
     "output_type": "execute_result"
    }
   ],
   "source": [
    "get_cluster_metrics(projection_df.iloc[0], n_init=5)"
   ]
  },
  {
   "cell_type": "code",
   "execution_count": null,
   "metadata": {},
   "outputs": [],
   "source": []
  },
  {
   "cell_type": "code",
   "execution_count": null,
   "metadata": {},
   "outputs": [],
   "source": []
  },
  {
   "cell_type": "code",
   "execution_count": null,
   "metadata": {},
   "outputs": [],
   "source": []
  },
  {
   "cell_type": "code",
   "execution_count": null,
   "metadata": {},
   "outputs": [],
   "source": []
  },
  {
   "cell_type": "code",
   "execution_count": null,
   "metadata": {},
   "outputs": [],
   "source": []
  },
  {
   "cell_type": "code",
   "execution_count": null,
   "metadata": {},
   "outputs": [],
   "source": []
  },
  {
   "cell_type": "code",
   "execution_count": null,
   "metadata": {},
   "outputs": [],
   "source": []
  },
  {
   "cell_type": "code",
   "execution_count": null,
   "metadata": {},
   "outputs": [],
   "source": []
  },
  {
   "cell_type": "code",
   "execution_count": null,
   "metadata": {},
   "outputs": [],
   "source": []
  },
  {
   "cell_type": "code",
   "execution_count": null,
   "metadata": {},
   "outputs": [],
   "source": []
  }
 ],
 "metadata": {
  "kernelspec": {
   "display_name": "Python [conda env:tfumap]",
   "language": "python",
   "name": "conda-env-tfumap-py"
  },
  "language_info": {
   "codemirror_mode": {
    "name": "ipython",
    "version": 3
   },
   "file_extension": ".py",
   "mimetype": "text/x-python",
   "name": "python",
   "nbconvert_exporter": "python",
   "pygments_lexer": "ipython3",
   "version": "3.7.9"
  }
 },
 "nbformat": 4,
 "nbformat_minor": 4
}
