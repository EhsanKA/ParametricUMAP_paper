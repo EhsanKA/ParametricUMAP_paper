{
 "cells": [
  {
   "cell_type": "code",
   "execution_count": 1,
   "metadata": {
    "ExecuteTime": {
     "end_time": "2020-08-22T05:13:20.424357Z",
     "start_time": "2020-08-22T05:13:20.350765Z"
    }
   },
   "outputs": [],
   "source": [
    "# reload packages\n",
    "%load_ext autoreload\n",
    "%autoreload 2"
   ]
  },
  {
   "cell_type": "markdown",
   "metadata": {},
   "source": [
    "### Choose GPU (this may not be needed on your computer)"
   ]
  },
  {
   "cell_type": "code",
   "execution_count": 2,
   "metadata": {
    "ExecuteTime": {
     "end_time": "2020-08-22T05:13:20.485052Z",
     "start_time": "2020-08-22T05:13:20.427383Z"
    }
   },
   "outputs": [
    {
     "name": "stdout",
     "output_type": "stream",
     "text": [
      "env: CUDA_DEVICE_ORDER=PCI_BUS_ID\n",
      "env: CUDA_VISIBLE_DEVICES=1\n"
     ]
    }
   ],
   "source": [
    "%env CUDA_DEVICE_ORDER=PCI_BUS_ID\n",
    "%env CUDA_VISIBLE_DEVICES=1"
   ]
  },
  {
   "cell_type": "code",
   "execution_count": 3,
   "metadata": {
    "ExecuteTime": {
     "end_time": "2020-08-22T05:13:36.899764Z",
     "start_time": "2020-08-22T05:13:20.486615Z"
    }
   },
   "outputs": [
    {
     "name": "stdout",
     "output_type": "stream",
     "text": [
      "[PhysicalDevice(name='/physical_device:GPU:0', device_type='GPU')]\n"
     ]
    }
   ],
   "source": [
    "import tensorflow as tf\n",
    "gpu_devices = tf.config.experimental.list_physical_devices('GPU')\n",
    "if len(gpu_devices)>0:\n",
    "    tf.config.experimental.set_memory_growth(gpu_devices[0], True)\n",
    "print(gpu_devices)\n",
    "tf.keras.backend.clear_session()"
   ]
  },
  {
   "cell_type": "markdown",
   "metadata": {},
   "source": [
    "### load packages"
   ]
  },
  {
   "cell_type": "code",
   "execution_count": 4,
   "metadata": {
    "ExecuteTime": {
     "end_time": "2020-08-22T05:13:50.482839Z",
     "start_time": "2020-08-22T05:13:36.902528Z"
    }
   },
   "outputs": [
    {
     "name": "stderr",
     "output_type": "stream",
     "text": [
      "/mnt/cube/tsainbur/conda_envs/tpy3/lib/python3.6/site-packages/tqdm/autonotebook/__init__.py:14: TqdmExperimentalWarning: Using `tqdm.autonotebook.tqdm` in notebook mode. Use `tqdm.tqdm` instead to force console mode (e.g. in jupyter console)\n",
      "  \" (e.g. in jupyter console)\", TqdmExperimentalWarning)\n"
     ]
    }
   ],
   "source": [
    "from tfumap.umap import tfUMAP"
   ]
  },
  {
   "cell_type": "code",
   "execution_count": 5,
   "metadata": {
    "ExecuteTime": {
     "end_time": "2020-08-22T05:13:50.855257Z",
     "start_time": "2020-08-22T05:13:50.493849Z"
    }
   },
   "outputs": [],
   "source": [
    "import tensorflow as tf\n",
    "import numpy as np\n",
    "import matplotlib.pyplot as plt\n",
    "from tqdm.autonotebook import tqdm\n",
    "import umap\n",
    "import pandas as pd"
   ]
  },
  {
   "cell_type": "markdown",
   "metadata": {},
   "source": [
    "### Load dataset"
   ]
  },
  {
   "cell_type": "code",
   "execution_count": 6,
   "metadata": {
    "ExecuteTime": {
     "end_time": "2020-08-22T05:13:51.015472Z",
     "start_time": "2020-08-22T05:13:50.858748Z"
    }
   },
   "outputs": [],
   "source": [
    "dataset = 'fmnist'"
   ]
  },
  {
   "cell_type": "code",
   "execution_count": 7,
   "metadata": {
    "ExecuteTime": {
     "end_time": "2020-08-22T05:13:51.223971Z",
     "start_time": "2020-08-22T05:13:51.037562Z"
    }
   },
   "outputs": [],
   "source": [
    "from tensorflow.keras.datasets import fashion_mnist"
   ]
  },
  {
   "cell_type": "code",
   "execution_count": 8,
   "metadata": {
    "ExecuteTime": {
     "end_time": "2020-08-22T05:13:53.620222Z",
     "start_time": "2020-08-22T05:13:51.233190Z"
    }
   },
   "outputs": [
    {
     "name": "stdout",
     "output_type": "stream",
     "text": [
      "50000 10000 10000\n"
     ]
    }
   ],
   "source": [
    "# load dataset\n",
    "(train_images, Y_train), (test_images, Y_test) = fashion_mnist.load_data()\n",
    "X_train = (train_images/255.).astype('float32')\n",
    "X_test = (test_images/255.).astype('float32')\n",
    "X_train = X_train.reshape((len(X_train), np.product(np.shape(X_train)[1:])))\n",
    "X_test = X_test.reshape((len(X_test), np.product(np.shape(X_test)[1:])))\n",
    "\n",
    "# subset a validation set\n",
    "n_valid = 10000\n",
    "X_valid = X_train[-n_valid:]\n",
    "Y_valid = Y_train[-n_valid:]\n",
    "X_train = X_train[:-n_valid]\n",
    "Y_train = Y_train[:-n_valid]\n",
    "\n",
    "# flatten X\n",
    "X_train_flat = X_train.reshape((len(X_train), np.product(np.shape(X_train)[1:])))\n",
    "X_test_flat = X_test.reshape((len(X_test), np.product(np.shape(X_test)[1:])))\n",
    "X_valid_flat= X_valid.reshape((len(X_valid), np.product(np.shape(X_valid)[1:])))\n",
    "print(len(X_train), len(X_valid), len(X_test))"
   ]
  },
  {
   "cell_type": "markdown",
   "metadata": {},
   "source": [
    "### define networks"
   ]
  },
  {
   "cell_type": "code",
   "execution_count": 9,
   "metadata": {
    "ExecuteTime": {
     "end_time": "2020-08-22T05:13:53.740199Z",
     "start_time": "2020-08-22T05:13:53.624266Z"
    }
   },
   "outputs": [],
   "source": [
    "from tfumap.vae import VAE, Sampling"
   ]
  },
  {
   "cell_type": "code",
   "execution_count": 10,
   "metadata": {
    "ExecuteTime": {
     "end_time": "2020-08-22T05:13:56.732649Z",
     "start_time": "2020-08-22T05:13:53.742142Z"
    }
   },
   "outputs": [
    {
     "name": "stdout",
     "output_type": "stream",
     "text": [
      "Model: \"encoder\"\n",
      "__________________________________________________________________________________________________\n",
      "Layer (type)                    Output Shape         Param #     Connected to                     \n",
      "==================================================================================================\n",
      "input_1 (InputLayer)            [(None, 28, 28, 1)]  0                                            \n",
      "__________________________________________________________________________________________________\n",
      "conv2d (Conv2D)                 (None, 13, 13, 64)   640         input_1[0][0]                    \n",
      "__________________________________________________________________________________________________\n",
      "conv2d_1 (Conv2D)               (None, 6, 6, 128)    73856       conv2d[0][0]                     \n",
      "__________________________________________________________________________________________________\n",
      "flatten (Flatten)               (None, 4608)         0           conv2d_1[0][0]                   \n",
      "__________________________________________________________________________________________________\n",
      "dense (Dense)                   (None, 512)          2359808     flatten[0][0]                    \n",
      "__________________________________________________________________________________________________\n",
      "z_mean (Dense)                  (None, 2)            1026        dense[0][0]                      \n",
      "__________________________________________________________________________________________________\n",
      "z_log_var (Dense)               (None, 2)            1026        dense[0][0]                      \n",
      "__________________________________________________________________________________________________\n",
      "sampling (Sampling)             (None, 2)            0           z_mean[0][0]                     \n",
      "                                                                 z_log_var[0][0]                  \n",
      "==================================================================================================\n",
      "Total params: 2,436,356\n",
      "Trainable params: 2,436,356\n",
      "Non-trainable params: 0\n",
      "__________________________________________________________________________________________________\n"
     ]
    }
   ],
   "source": [
    "dims = (28,28,1)\n",
    "n_components = 2\n",
    "\n",
    "encoder_inputs = tf.keras.Input(shape=dims)\n",
    "x = tf.keras.layers.Conv2D(\n",
    "        filters=64, kernel_size=3, strides=(2, 2), activation=\"relu\"\n",
    "    )(encoder_inputs)\n",
    "x = tf.keras.layers.Conv2D(\n",
    "        filters=128, kernel_size=3, strides=(2, 2), activation=\"relu\"\n",
    "    )(x)\n",
    "x = tf.keras.layers.Flatten()(x)\n",
    "x = tf.keras.layers.Dense(units=512, activation=\"relu\")(x)\n",
    "z_mean = tf.keras.layers.Dense(n_components, name=\"z_mean\")(x)\n",
    "z_log_var = tf.keras.layers.Dense(n_components, name=\"z_log_var\")(x)\n",
    "z = Sampling()([z_mean, z_log_var])\n",
    "encoder = tf.keras.Model(encoder_inputs, [z_mean, z_log_var, z], name=\"encoder\")\n",
    "encoder.summary()"
   ]
  },
  {
   "cell_type": "code",
   "execution_count": 11,
   "metadata": {
    "ExecuteTime": {
     "end_time": "2020-08-22T05:13:57.180601Z",
     "start_time": "2020-08-22T05:13:56.738579Z"
    }
   },
   "outputs": [
    {
     "name": "stdout",
     "output_type": "stream",
     "text": [
      "Model: \"decoder\"\n",
      "_________________________________________________________________\n",
      "Layer (type)                 Output Shape              Param #   \n",
      "=================================================================\n",
      "input_2 (InputLayer)         [(None, 2)]               0         \n",
      "_________________________________________________________________\n",
      "dense_1 (Dense)              (None, 512)               1536      \n",
      "_________________________________________________________________\n",
      "dense_2 (Dense)              (None, 12544)             6435072   \n",
      "_________________________________________________________________\n",
      "reshape (Reshape)            (None, 7, 7, 256)         0         \n",
      "_________________________________________________________________\n",
      "conv2d_transpose (Conv2DTran (None, 14, 14, 128)       295040    \n",
      "_________________________________________________________________\n",
      "conv2d_transpose_1 (Conv2DTr (None, 28, 28, 64)        73792     \n",
      "_________________________________________________________________\n",
      "conv2d_transpose_2 (Conv2DTr (None, 28, 28, 1)         577       \n",
      "=================================================================\n",
      "Total params: 6,806,017\n",
      "Trainable params: 6,806,017\n",
      "Non-trainable params: 0\n",
      "_________________________________________________________________\n"
     ]
    }
   ],
   "source": [
    "latent_inputs = tf.keras.Input(shape=(n_components,))\n",
    "x = tf.keras.layers.Dense(units=512, activation=\"relu\")(latent_inputs)\n",
    "x = tf.keras.layers.Dense(units=7 * 7 * 256, activation=\"relu\")(x)\n",
    "x = tf.keras.layers.Reshape(target_shape=(7, 7, 256))(x)\n",
    "x = tf.keras.layers.Conv2DTranspose(\n",
    "        filters=128, kernel_size=3, strides=(2, 2), padding=\"SAME\", activation=\"relu\"\n",
    "    )(x)\n",
    "x = tf.keras.layers.Conv2DTranspose(\n",
    "        filters=64, kernel_size=3, strides=(2, 2), padding=\"SAME\", activation=\"relu\"\n",
    "    )(x)\n",
    "decoder_outputs = tf.keras.layers.Conv2DTranspose(\n",
    "        filters=1, kernel_size=3, strides=(1, 1), padding=\"SAME\", activation=\"sigmoid\"\n",
    "    )(x)\n",
    "decoder = tf.keras.Model(latent_inputs, decoder_outputs, name=\"decoder\")\n",
    "decoder.summary()\n"
   ]
  },
  {
   "cell_type": "markdown",
   "metadata": {},
   "source": [
    "### Create model and train"
   ]
  },
  {
   "cell_type": "code",
   "execution_count": 12,
   "metadata": {
    "ExecuteTime": {
     "end_time": "2020-08-22T05:13:57.316633Z",
     "start_time": "2020-08-22T05:13:57.190567Z"
    }
   },
   "outputs": [
    {
     "data": {
      "text/plain": [
       "(50000, 784)"
      ]
     },
     "execution_count": 12,
     "metadata": {},
     "output_type": "execute_result"
    }
   ],
   "source": [
    "X_train.shape"
   ]
  },
  {
   "cell_type": "code",
   "execution_count": 13,
   "metadata": {
    "ExecuteTime": {
     "end_time": "2020-08-22T05:13:57.427103Z",
     "start_time": "2020-08-22T05:13:57.319573Z"
    }
   },
   "outputs": [
    {
     "data": {
      "text/plain": [
       "(50000, 28, 28, 1)"
      ]
     },
     "execution_count": 13,
     "metadata": {},
     "output_type": "execute_result"
    }
   ],
   "source": [
    "X_train = X_train.reshape((len(X_train), 28,28,1))\n",
    "X_train.shape"
   ]
  },
  {
   "cell_type": "code",
   "execution_count": 14,
   "metadata": {
    "ExecuteTime": {
     "end_time": "2020-08-22T05:13:57.590520Z",
     "start_time": "2020-08-22T05:13:57.429056Z"
    }
   },
   "outputs": [],
   "source": [
    "vae = VAE(encoder, decoder)\n",
    "vae.compile(optimizer=tf.keras.optimizers.Adam())"
   ]
  },
  {
   "cell_type": "code",
   "execution_count": 15,
   "metadata": {
    "ExecuteTime": {
     "end_time": "2020-08-22T05:18:48.023873Z",
     "start_time": "2020-08-22T05:13:57.592909Z"
    }
   },
   "outputs": [
    {
     "name": "stdout",
     "output_type": "stream",
     "text": [
      "Epoch 1/30\n",
      "391/391 [==============================] - 8s 21ms/step - loss: 296.3271 - reconstruction_loss: 292.9405 - kl_loss: 3.3866\n",
      "Epoch 2/30\n",
      "391/391 [==============================] - 9s 23ms/step - loss: 265.3379 - reconstruction_loss: 261.9402 - kl_loss: 3.3976\n",
      "Epoch 3/30\n",
      "391/391 [==============================] - 10s 25ms/step - loss: 261.4831 - reconstruction_loss: 258.0386 - kl_loss: 3.4445 6s - loss: 261.9698 - reconstruction_loss: 258.5213 -\n",
      "Epoch 4/30\n",
      "391/391 [==============================] - 9s 23ms/step - loss: 259.4157 - reconstruction_loss: 255.9421 - kl_loss: 3.4737\n",
      "Epoch 5/30\n",
      "391/391 [==============================] - 10s 24ms/step - loss: 258.2354 - reconstruction_loss: 254.7104 - kl_loss: 3.5250\n",
      "Epoch 6/30\n",
      "391/391 [==============================] - 10s 25ms/step - loss: 257.1587 - reconstruction_loss: 253.6291 - kl_loss: 3.5296\n",
      "Epoch 7/30\n",
      "391/391 [==============================] - 10s 25ms/step - loss: 256.5181 - reconstruction_loss: 252.9653 - kl_loss: 3.5528\n",
      "Epoch 8/30\n",
      "391/391 [==============================] - 10s 24ms/step - loss: 255.5795 - reconstruction_loss: 251.9991 - kl_loss: 3.5804\n",
      "Epoch 9/30\n",
      "391/391 [==============================] - 10s 25ms/step - loss: 254.9470 - reconstruction_loss: 251.3452 - kl_loss: 3.6018\n",
      "Epoch 10/30\n",
      "391/391 [==============================] - 10s 25ms/step - loss: 254.4993 - reconstruction_loss: 250.8859 - kl_loss: 3.6134\n",
      "Epoch 11/30\n",
      "391/391 [==============================] - 10s 25ms/step - loss: 254.1249 - reconstruction_loss: 250.4959 - kl_loss: 3.6290\n",
      "Epoch 12/30\n",
      "391/391 [==============================] - 10s 25ms/step - loss: 253.6094 - reconstruction_loss: 249.9530 - kl_loss: 3.6564\n",
      "Epoch 13/30\n",
      "391/391 [==============================] - 9s 24ms/step - loss: 253.1540 - reconstruction_loss: 249.4933 - kl_loss: 3.6607\n",
      "Epoch 14/30\n",
      "391/391 [==============================] - 9s 23ms/step - loss: 252.8459 - reconstruction_loss: 249.1560 - kl_loss: 3.6899\n",
      "Epoch 15/30\n",
      "391/391 [==============================] - 10s 25ms/step - loss: 252.3818 - reconstruction_loss: 248.6830 - kl_loss: 3.6988\n",
      "Epoch 16/30\n",
      "391/391 [==============================] - 10s 25ms/step - loss: 251.8811 - reconstruction_loss: 248.1674 - kl_loss: 3.7137\n",
      "Epoch 17/30\n",
      "391/391 [==============================] - 10s 25ms/step - loss: 251.6653 - reconstruction_loss: 247.9393 - kl_loss: 3.7259\n",
      "Epoch 18/30\n",
      "391/391 [==============================] - 10s 25ms/step - loss: 251.2815 - reconstruction_loss: 247.5333 - kl_loss: 3.7482 2s - loss: 251.3906 - reconstr\n",
      "Epoch 19/30\n",
      "391/391 [==============================] - 10s 25ms/step - loss: 250.9648 - reconstruction_loss: 247.2120 - kl_loss: 3.7528\n",
      "Epoch 20/30\n",
      "391/391 [==============================] - 10s 25ms/step - loss: 250.6769 - reconstruction_loss: 246.9152 - kl_loss: 3.7618\n",
      "Epoch 21/30\n",
      "391/391 [==============================] - 10s 26ms/step - loss: 250.5341 - reconstruction_loss: 246.7612 - kl_loss: 3.7728\n",
      "Epoch 22/30\n",
      "391/391 [==============================] - 10s 25ms/step - loss: 250.2744 - reconstruction_loss: 246.4948 - kl_loss: 3.7797\n",
      "Epoch 23/30\n",
      "391/391 [==============================] - 9s 24ms/step - loss: 249.8938 - reconstruction_loss: 246.0855 - kl_loss: 3.8082\n",
      "Epoch 24/30\n",
      "391/391 [==============================] - 11s 28ms/step - loss: 249.7365 - reconstruction_loss: 245.9185 - kl_loss: 3.8180\n",
      "Epoch 25/30\n",
      "391/391 [==============================] - 10s 25ms/step - loss: 249.5409 - reconstruction_loss: 245.7320 - kl_loss: 3.8089\n",
      "Epoch 26/30\n",
      "391/391 [==============================] - 9s 24ms/step - loss: 249.3463 - reconstruction_loss: 245.5130 - kl_loss: 3.8333\n",
      "Epoch 27/30\n",
      "391/391 [==============================] - 10s 24ms/step - loss: 249.0201 - reconstruction_loss: 245.1709 - kl_loss: 3.8492\n",
      "Epoch 28/30\n",
      "391/391 [==============================] - 7s 18ms/step - loss: 249.1296 - reconstruction_loss: 245.2749 - kl_loss: 3.8547\n",
      "Epoch 29/30\n",
      "391/391 [==============================] - 9s 23ms/step - loss: 248.6733 - reconstruction_loss: 244.8160 - kl_loss: 3.8573\n",
      "Epoch 30/30\n",
      "391/391 [==============================] - 9s 23ms/step - loss: 248.5873 - reconstruction_loss: 244.7162 - kl_loss: 3.8711\n"
     ]
    },
    {
     "data": {
      "text/plain": [
       "<tensorflow.python.keras.callbacks.History at 0x7f4a7ff000f0>"
      ]
     },
     "execution_count": 15,
     "metadata": {},
     "output_type": "execute_result"
    }
   ],
   "source": [
    "vae.fit(X_train, epochs=30, batch_size=128)"
   ]
  },
  {
   "cell_type": "code",
   "execution_count": 16,
   "metadata": {
    "ExecuteTime": {
     "end_time": "2020-08-22T05:18:48.152763Z",
     "start_time": "2020-08-22T05:18:48.025754Z"
    },
    "scrolled": false
   },
   "outputs": [],
   "source": [
    "# z = embedder.fit_transform(X_train_flat)"
   ]
  },
  {
   "cell_type": "code",
   "execution_count": 17,
   "metadata": {
    "ExecuteTime": {
     "end_time": "2020-08-22T05:18:52.614444Z",
     "start_time": "2020-08-22T05:18:48.154541Z"
    }
   },
   "outputs": [],
   "source": [
    "z = vae.encoder.predict(X_train)[0]"
   ]
  },
  {
   "cell_type": "markdown",
   "metadata": {},
   "source": [
    "### Plot model output"
   ]
  },
  {
   "cell_type": "code",
   "execution_count": 18,
   "metadata": {
    "ExecuteTime": {
     "end_time": "2020-08-22T05:18:57.130608Z",
     "start_time": "2020-08-22T05:18:52.616689Z"
    }
   },
   "outputs": [
    {
     "data": {
      "image/png": "[encoded data removed]",
      "text/plain": [
       "<Figure size 576x576 with 2 Axes>"
      ]
     },
     "metadata": {
      "needs_background": "light"
     },
     "output_type": "display_data"
    }
   ],
   "source": [
    "fig, ax = plt.subplots( figsize=(8, 8))\n",
    "sc = ax.scatter(\n",
    "    z[:, 0],\n",
    "    z[:, 1],\n",
    "    c=Y_train.astype(int)[:len(z)],\n",
    "    cmap=\"tab10\",\n",
    "    s=0.1,\n",
    "    alpha=0.5,\n",
    "    rasterized=True,\n",
    ")\n",
    "ax.axis('equal')\n",
    "ax.set_title(\"UMAP in Tensorflow embedding\", fontsize=20)\n",
    "plt.colorbar(sc, ax=ax);"
   ]
  },
  {
   "cell_type": "markdown",
   "metadata": {},
   "source": [
    "### View loss"
   ]
  },
  {
   "cell_type": "code",
   "execution_count": 19,
   "metadata": {
    "ExecuteTime": {
     "end_time": "2020-08-22T05:18:57.269371Z",
     "start_time": "2020-08-22T05:18:57.132060Z"
    }
   },
   "outputs": [],
   "source": [
    "from tfumap.umap import retrieve_tensors\n",
    "import seaborn as sns"
   ]
  },
  {
   "cell_type": "markdown",
   "metadata": {},
   "source": [
    "### Save output"
   ]
  },
  {
   "cell_type": "code",
   "execution_count": 20,
   "metadata": {
    "ExecuteTime": {
     "end_time": "2020-08-22T05:18:57.349979Z",
     "start_time": "2020-08-22T05:18:57.270868Z"
    }
   },
   "outputs": [],
   "source": [
    "from tfumap.paths import ensure_dir, MODEL_DIR"
   ]
  },
  {
   "cell_type": "code",
   "execution_count": 21,
   "metadata": {
    "ExecuteTime": {
     "end_time": "2020-08-22T05:18:57.473458Z",
     "start_time": "2020-08-22T05:18:57.351717Z"
    }
   },
   "outputs": [],
   "source": [
    "output_dir = MODEL_DIR/'projections'/ dataset / 'vae'\n",
    "ensure_dir(output_dir)"
   ]
  },
  {
   "cell_type": "code",
   "execution_count": 22,
   "metadata": {
    "ExecuteTime": {
     "end_time": "2020-08-22T05:18:57.616788Z",
     "start_time": "2020-08-22T05:18:57.475209Z"
    }
   },
   "outputs": [],
   "source": [
    "#vae.save(output_dir)"
   ]
  },
  {
   "cell_type": "code",
   "execution_count": 23,
   "metadata": {
    "ExecuteTime": {
     "end_time": "2020-08-22T05:19:00.079655Z",
     "start_time": "2020-08-22T05:18:57.618342Z"
    }
   },
   "outputs": [
    {
     "name": "stderr",
     "output_type": "stream",
     "text": [
      "WARNING: Logging before flag parsing goes to stderr.\n",
      "W0821 22:18:58.460498 139962693293888 deprecation.py:323] From /mnt/cube/tsainbur/conda_envs/tpy3/lib/python3.6/site-packages/tensorflow/python/training/tracking/tracking.py:111: Model.state_updates (from tensorflow.python.keras.engine.training) is deprecated and will be removed in a future version.\n",
      "Instructions for updating:\n",
      "This property should not be used in TensorFlow 2.0, as updates are applied automatically.\n",
      "W0821 22:18:58.528464 139962693293888 deprecation.py:323] From /mnt/cube/tsainbur/conda_envs/tpy3/lib/python3.6/site-packages/tensorflow/python/training/tracking/tracking.py:111: Layer.updates (from tensorflow.python.keras.engine.base_layer) is deprecated and will be removed in a future version.\n",
      "Instructions for updating:\n",
      "This property should not be used in TensorFlow 2.0, as updates are applied automatically.\n",
      "I0821 22:19:00.001443 139962693293888 builder_impl.py:775] Assets written to: /mnt/cube/tsainbur/Projects/github_repos/umap_tf_networks/models/projections/fmnist/vae/encoder/assets\n"
     ]
    }
   ],
   "source": [
    "vae.encoder.save(output_dir / 'encoder')"
   ]
  },
  {
   "cell_type": "code",
   "execution_count": 24,
   "metadata": {
    "ExecuteTime": {
     "end_time": "2020-08-22T05:19:02.880455Z",
     "start_time": "2020-08-22T05:19:00.093111Z"
    }
   },
   "outputs": [
    {
     "name": "stderr",
     "output_type": "stream",
     "text": [
      "I0821 22:19:02.808744 139962693293888 builder_impl.py:775] Assets written to: /mnt/cube/tsainbur/Projects/github_repos/umap_tf_networks/models/projections/fmnist/vae/encoder/assets\n"
     ]
    }
   ],
   "source": [
    "vae.decoder.save(output_dir / 'encoder')"
   ]
  },
  {
   "cell_type": "code",
   "execution_count": 25,
   "metadata": {
    "ExecuteTime": {
     "end_time": "2020-08-22T05:19:02.998056Z",
     "start_time": "2020-08-22T05:19:02.882448Z"
    }
   },
   "outputs": [],
   "source": [
    "#loss_df.to_pickle(output_dir / 'loss_df.pickle')"
   ]
  },
  {
   "cell_type": "code",
   "execution_count": 26,
   "metadata": {
    "ExecuteTime": {
     "end_time": "2020-08-22T05:19:03.157634Z",
     "start_time": "2020-08-22T05:19:03.003410Z"
    }
   },
   "outputs": [],
   "source": [
    "np.save(output_dir / 'z.npy', z)"
   ]
  },
  {
   "cell_type": "markdown",
   "metadata": {},
   "source": [
    "### compute metrics "
   ]
  },
  {
   "cell_type": "code",
   "execution_count": 27,
   "metadata": {
    "ExecuteTime": {
     "end_time": "2020-08-22T05:19:03.272012Z",
     "start_time": "2020-08-22T05:19:03.158950Z"
    }
   },
   "outputs": [
    {
     "data": {
      "text/plain": [
       "(10000, 784)"
      ]
     },
     "execution_count": 27,
     "metadata": {},
     "output_type": "execute_result"
    }
   ],
   "source": [
    "X_test.shape"
   ]
  },
  {
   "cell_type": "code",
   "execution_count": 28,
   "metadata": {
    "ExecuteTime": {
     "end_time": "2020-08-22T05:19:04.084742Z",
     "start_time": "2020-08-22T05:19:03.274104Z"
    }
   },
   "outputs": [],
   "source": [
    "z_test = encoder.predict(X_test.reshape((len(X_test), 28,28,1)))[0]"
   ]
  },
  {
   "cell_type": "markdown",
   "metadata": {},
   "source": [
    "#### silhouette"
   ]
  },
  {
   "cell_type": "code",
   "execution_count": 29,
   "metadata": {
    "ExecuteTime": {
     "end_time": "2020-08-22T05:19:04.176390Z",
     "start_time": "2020-08-22T05:19:04.087672Z"
    }
   },
   "outputs": [],
   "source": [
    "from tfumap.silhouette import silhouette_score_block"
   ]
  },
  {
   "cell_type": "code",
   "execution_count": 30,
   "metadata": {
    "ExecuteTime": {
     "end_time": "2020-08-22T05:19:18.363251Z",
     "start_time": "2020-08-22T05:19:04.180401Z"
    }
   },
   "outputs": [
    {
     "data": {
      "text/plain": [
       "0.1064451891396579"
      ]
     },
     "execution_count": 30,
     "metadata": {},
     "output_type": "execute_result"
    }
   ],
   "source": [
    "ss, sil_samp = silhouette_score_block(z, Y_train, n_jobs = -1)\n",
    "ss"
   ]
  },
  {
   "cell_type": "code",
   "execution_count": 31,
   "metadata": {
    "ExecuteTime": {
     "end_time": "2020-08-22T05:19:18.606215Z",
     "start_time": "2020-08-22T05:19:18.364786Z"
    }
   },
   "outputs": [
    {
     "data": {
      "text/plain": [
       "0.10361276144714716"
      ]
     },
     "execution_count": 31,
     "metadata": {},
     "output_type": "execute_result"
    }
   ],
   "source": [
    "ss_test, sil_samp_test = silhouette_score_block(z_test, Y_test, n_jobs = -1)\n",
    "ss_test"
   ]
  },
  {
   "cell_type": "code",
   "execution_count": 32,
   "metadata": {
    "ExecuteTime": {
     "end_time": "2020-08-22T05:19:23.714194Z",
     "start_time": "2020-08-22T05:19:18.607618Z"
    }
   },
   "outputs": [
    {
     "data": {
      "text/plain": [
       "<matplotlib.collections.PathCollection at 0x7f4a805e07b8>"
      ]
     },
     "execution_count": 32,
     "metadata": {},
     "output_type": "execute_result"
    },
    {
     "data": {
      "image/png": "[encoded data removed]",
      "text/plain": [
       "<Figure size 720x360 with 2 Axes>"
      ]
     },
     "metadata": {
      "needs_background": "light"
     },
     "output_type": "display_data"
    }
   ],
   "source": [
    "fig, axs = plt.subplots(ncols = 2, figsize=(10, 5))\n",
    "axs[0].scatter(z[:, 0], z[:, 1], s=0.1, alpha=0.5, c=sil_samp, cmap=plt.cm.viridis)\n",
    "axs[1].scatter(z_test[:, 0], z_test[:, 1], s=1, alpha=0.5, c=sil_samp_test, cmap=plt.cm.viridis)"
   ]
  },
  {
   "cell_type": "markdown",
   "metadata": {},
   "source": [
    "#### KNN"
   ]
  },
  {
   "cell_type": "code",
   "execution_count": 33,
   "metadata": {
    "ExecuteTime": {
     "end_time": "2020-08-22T05:19:23.857263Z",
     "start_time": "2020-08-22T05:19:23.717207Z"
    }
   },
   "outputs": [],
   "source": [
    "from sklearn.neighbors import KNeighborsClassifier"
   ]
  },
  {
   "cell_type": "code",
   "execution_count": 34,
   "metadata": {
    "ExecuteTime": {
     "end_time": "2020-08-22T05:19:24.845493Z",
     "start_time": "2020-08-22T05:19:23.860976Z"
    }
   },
   "outputs": [
    {
     "data": {
      "text/plain": [
       "0.7161"
      ]
     },
     "execution_count": 34,
     "metadata": {},
     "output_type": "execute_result"
    }
   ],
   "source": [
    "neigh5 = KNeighborsClassifier(n_neighbors=5)\n",
    "neigh5.fit(z, Y_train)\n",
    "score_5nn = neigh5.score(z_test, Y_test)\n",
    "score_5nn"
   ]
  },
  {
   "cell_type": "code",
   "execution_count": 35,
   "metadata": {
    "ExecuteTime": {
     "end_time": "2020-08-22T05:19:25.303751Z",
     "start_time": "2020-08-22T05:19:24.847112Z"
    }
   },
   "outputs": [
    {
     "data": {
      "text/plain": [
       "0.6646"
      ]
     },
     "execution_count": 35,
     "metadata": {},
     "output_type": "execute_result"
    }
   ],
   "source": [
    "neigh1 = KNeighborsClassifier(n_neighbors=1)\n",
    "neigh1.fit(z, Y_train)\n",
    "score_1nn = neigh1.score(z_test, Y_test)\n",
    "score_1nn"
   ]
  },
  {
   "cell_type": "markdown",
   "metadata": {},
   "source": [
    "#### Trustworthiness"
   ]
  },
  {
   "cell_type": "code",
   "execution_count": 36,
   "metadata": {
    "ExecuteTime": {
     "end_time": "2020-08-22T05:19:25.351602Z",
     "start_time": "2020-08-22T05:19:25.307378Z"
    }
   },
   "outputs": [],
   "source": [
    "from sklearn.manifold import trustworthiness"
   ]
  },
  {
   "cell_type": "code",
   "execution_count": 37,
   "metadata": {
    "ExecuteTime": {
     "end_time": "2020-08-22T05:19:46.803713Z",
     "start_time": "2020-08-22T05:19:25.356782Z"
    }
   },
   "outputs": [],
   "source": [
    "tw = trustworthiness(X_train_flat[:10000], z[:10000])"
   ]
  },
  {
   "cell_type": "code",
   "execution_count": 38,
   "metadata": {
    "ExecuteTime": {
     "end_time": "2020-08-22T05:20:09.899157Z",
     "start_time": "2020-08-22T05:19:46.805339Z"
    }
   },
   "outputs": [],
   "source": [
    "tw_test = trustworthiness(X_test_flat[:10000], z_test[:10000])"
   ]
  },
  {
   "cell_type": "code",
   "execution_count": 39,
   "metadata": {
    "ExecuteTime": {
     "end_time": "2020-08-22T05:20:09.953193Z",
     "start_time": "2020-08-22T05:20:09.900833Z"
    }
   },
   "outputs": [
    {
     "data": {
      "text/plain": [
       "(0.975138190552442, 0.9681411769415532)"
      ]
     },
     "execution_count": 39,
     "metadata": {},
     "output_type": "execute_result"
    }
   ],
   "source": [
    "tw, tw_test"
   ]
  },
  {
   "cell_type": "markdown",
   "metadata": {},
   "source": [
    "### Save output metrics"
   ]
  },
  {
   "cell_type": "code",
   "execution_count": 40,
   "metadata": {
    "ExecuteTime": {
     "end_time": "2020-08-22T05:20:10.080828Z",
     "start_time": "2020-08-22T05:20:09.954389Z"
    }
   },
   "outputs": [],
   "source": [
    "from tfumap.paths import ensure_dir, MODEL_DIR, DATA_DIR"
   ]
  },
  {
   "cell_type": "code",
   "execution_count": null,
   "metadata": {
    "ExecuteTime": {
     "end_time": "2020-08-22T01:16:59.943703Z",
     "start_time": "2020-08-22T01:16:02.004Z"
    }
   },
   "outputs": [],
   "source": []
  },
  {
   "cell_type": "markdown",
   "metadata": {},
   "source": [
    "#### train"
   ]
  },
  {
   "cell_type": "code",
   "execution_count": 41,
   "metadata": {
    "ExecuteTime": {
     "end_time": "2020-08-22T05:20:10.275967Z",
     "start_time": "2020-08-22T05:20:10.083360Z"
    }
   },
   "outputs": [
    {
     "data": {
      "text/html": [
       "<div>\n",
       "<style scoped>\n",
       "    .dataframe tbody tr th:only-of-type {\n",
       "        vertical-align: middle;\n",
       "    }\n",
       "\n",
       "    .dataframe tbody tr th {\n",
       "        vertical-align: top;\n",
       "    }\n",
       "\n",
       "    .dataframe thead th {\n",
       "        text-align: right;\n",
       "    }\n",
       "</style>\n",
       "<table border=\"1\" class=\"dataframe\">\n",
       "  <thead>\n",
       "    <tr style=\"text-align: right;\">\n",
       "      <th></th>\n",
       "      <th>dataset</th>\n",
       "      <th>class_</th>\n",
       "      <th>dim</th>\n",
       "      <th>trustworthiness</th>\n",
       "      <th>silhouette_score</th>\n",
       "      <th>silhouette_samples</th>\n",
       "    </tr>\n",
       "  </thead>\n",
       "  <tbody>\n",
       "    <tr>\n",
       "      <th>0</th>\n",
       "      <td>fmnist</td>\n",
       "      <td>vae</td>\n",
       "      <td>2</td>\n",
       "      <td>0.975138</td>\n",
       "      <td>0.106445</td>\n",
       "      <td>[0.5898871281951917, 0.33593613657283483, -0.1...</td>\n",
       "    </tr>\n",
       "  </tbody>\n",
       "</table>\n",
       "</div>"
      ],
      "text/plain": [
       "  dataset class_ dim  trustworthiness  silhouette_score  \\\n",
       "0  fmnist    vae   2         0.975138          0.106445   \n",
       "\n",
       "                                  silhouette_samples  \n",
       "0  [0.5898871281951917, 0.33593613657283483, -0.1...  "
      ]
     },
     "execution_count": 41,
     "metadata": {},
     "output_type": "execute_result"
    }
   ],
   "source": [
    "metrics_df = pd.DataFrame(\n",
    "    columns=[\n",
    "        \"dataset\",\n",
    "        \"class_\",\n",
    "        \"dim\",\n",
    "        \"trustworthiness\",\n",
    "        \"silhouette_score\",\n",
    "        \"silhouette_samples\",\n",
    "    ]\n",
    ")\n",
    "metrics_df.loc[len(metrics_df)] = [dataset, 'vae', n_components, tw, ss, sil_samp]\n",
    "metrics_df"
   ]
  },
  {
   "cell_type": "code",
   "execution_count": 42,
   "metadata": {
    "ExecuteTime": {
     "end_time": "2020-08-22T05:20:10.444246Z",
     "start_time": "2020-08-22T05:20:10.277835Z"
    }
   },
   "outputs": [],
   "source": [
    "save_loc = DATA_DIR / 'projection_metrics' /  'vae' / 'train' / str(n_components) / (dataset + '.pickle')\n",
    "ensure_dir(save_loc)\n",
    "metrics_df.to_pickle(save_loc)"
   ]
  },
  {
   "cell_type": "markdown",
   "metadata": {},
   "source": [
    "#### test"
   ]
  },
  {
   "cell_type": "code",
   "execution_count": 43,
   "metadata": {
    "ExecuteTime": {
     "end_time": "2020-08-22T05:20:10.575216Z",
     "start_time": "2020-08-22T05:20:10.445500Z"
    }
   },
   "outputs": [
    {
     "data": {
      "text/html": [
       "<div>\n",
       "<style scoped>\n",
       "    .dataframe tbody tr th:only-of-type {\n",
       "        vertical-align: middle;\n",
       "    }\n",
       "\n",
       "    .dataframe tbody tr th {\n",
       "        vertical-align: top;\n",
       "    }\n",
       "\n",
       "    .dataframe thead th {\n",
       "        text-align: right;\n",
       "    }\n",
       "</style>\n",
       "<table border=\"1\" class=\"dataframe\">\n",
       "  <thead>\n",
       "    <tr style=\"text-align: right;\">\n",
       "      <th></th>\n",
       "      <th>dataset</th>\n",
       "      <th>class_</th>\n",
       "      <th>dim</th>\n",
       "      <th>trustworthiness</th>\n",
       "      <th>silhouette_score</th>\n",
       "      <th>silhouette_samples</th>\n",
       "    </tr>\n",
       "  </thead>\n",
       "  <tbody>\n",
       "    <tr>\n",
       "      <th>1</th>\n",
       "      <td>fmnist</td>\n",
       "      <td>vae</td>\n",
       "      <td>2</td>\n",
       "      <td>0.968141</td>\n",
       "      <td>0.103613</td>\n",
       "      <td>[0.16392628284734986, 0.05248242531883385, 0.4...</td>\n",
       "    </tr>\n",
       "  </tbody>\n",
       "</table>\n",
       "</div>"
      ],
      "text/plain": [
       "  dataset class_ dim  trustworthiness  silhouette_score  \\\n",
       "1  fmnist    vae   2         0.968141          0.103613   \n",
       "\n",
       "                                  silhouette_samples  \n",
       "1  [0.16392628284734986, 0.05248242531883385, 0.4...  "
      ]
     },
     "execution_count": 43,
     "metadata": {},
     "output_type": "execute_result"
    }
   ],
   "source": [
    "metrics_df_test = pd.DataFrame(\n",
    "    columns=[\n",
    "        \"dataset\",\n",
    "        \"class_\",\n",
    "        \"dim\",\n",
    "        \"trustworthiness\",\n",
    "        \"silhouette_score\",\n",
    "        \"silhouette_samples\",\n",
    "    ]\n",
    ")\n",
    "metrics_df_test.loc[len(metrics_df)] = [dataset, 'vae', n_components, tw_test, ss_test, sil_samp_test]\n",
    "metrics_df_test"
   ]
  },
  {
   "cell_type": "code",
   "execution_count": 44,
   "metadata": {
    "ExecuteTime": {
     "end_time": "2020-08-22T05:20:10.772477Z",
     "start_time": "2020-08-22T05:20:10.576343Z"
    }
   },
   "outputs": [],
   "source": [
    "save_loc = DATA_DIR / 'projection_metrics' / 'vae' / 'test' / str(n_components) / (dataset + '.pickle')\n",
    "ensure_dir(save_loc)\n",
    "metrics_df.to_pickle(save_loc)"
   ]
  },
  {
   "cell_type": "markdown",
   "metadata": {},
   "source": [
    "#### knn "
   ]
  },
  {
   "cell_type": "code",
   "execution_count": 45,
   "metadata": {
    "ExecuteTime": {
     "end_time": "2020-08-22T05:20:10.980873Z",
     "start_time": "2020-08-22T05:20:10.773784Z"
    }
   },
   "outputs": [
    {
     "data": {
      "text/html": [
       "<div>\n",
       "<style scoped>\n",
       "    .dataframe tbody tr th:only-of-type {\n",
       "        vertical-align: middle;\n",
       "    }\n",
       "\n",
       "    .dataframe tbody tr th {\n",
       "        vertical-align: top;\n",
       "    }\n",
       "\n",
       "    .dataframe thead th {\n",
       "        text-align: right;\n",
       "    }\n",
       "</style>\n",
       "<table border=\"1\" class=\"dataframe\">\n",
       "  <thead>\n",
       "    <tr style=\"text-align: right;\">\n",
       "      <th></th>\n",
       "      <th>method_</th>\n",
       "      <th>dimensions</th>\n",
       "      <th>dataset</th>\n",
       "      <th>1NN_acc</th>\n",
       "      <th>5NN_acc</th>\n",
       "    </tr>\n",
       "  </thead>\n",
       "  <tbody>\n",
       "    <tr>\n",
       "      <th>0</th>\n",
       "      <td>vae</td>\n",
       "      <td>2</td>\n",
       "      <td>fmnist</td>\n",
       "      <td>0.6646</td>\n",
       "      <td>0.7161</td>\n",
       "    </tr>\n",
       "  </tbody>\n",
       "</table>\n",
       "</div>"
      ],
      "text/plain": [
       "  method_ dimensions dataset  1NN_acc  5NN_acc\n",
       "0     vae          2  fmnist   0.6646   0.7161"
      ]
     },
     "execution_count": 45,
     "metadata": {},
     "output_type": "execute_result"
    }
   ],
   "source": [
    "nn_acc_df = pd.DataFrame(columns = [\"method_\",\"dimensions\",\"dataset\",\"1NN_acc\",\"5NN_acc\"])\n",
    "nn_acc_df.loc[len(nn_acc_df)] = ['vae', n_components, dataset,  score_1nn, score_5nn]\n",
    "nn_acc_df"
   ]
  },
  {
   "cell_type": "code",
   "execution_count": 46,
   "metadata": {
    "ExecuteTime": {
     "end_time": "2020-08-22T05:20:11.192080Z",
     "start_time": "2020-08-22T05:20:10.982180Z"
    }
   },
   "outputs": [],
   "source": [
    "save_loc = DATA_DIR / 'knn_classifier' / 'vae' / 'train' / str(n_components) / (dataset + '.pickle')\n",
    "ensure_dir(save_loc)\n",
    "nn_acc_df.to_pickle(save_loc)"
   ]
  },
  {
   "cell_type": "markdown",
   "metadata": {},
   "source": [
    "### Reconstruction"
   ]
  },
  {
   "cell_type": "code",
   "execution_count": 47,
   "metadata": {
    "ExecuteTime": {
     "end_time": "2020-08-22T05:20:11.333384Z",
     "start_time": "2020-08-22T05:20:11.194576Z"
    }
   },
   "outputs": [],
   "source": [
    "from sklearn.metrics import mean_squared_error, mean_absolute_error, median_absolute_error, r2_score"
   ]
  },
  {
   "cell_type": "code",
   "execution_count": 48,
   "metadata": {
    "ExecuteTime": {
     "end_time": "2020-08-22T05:20:12.830255Z",
     "start_time": "2020-08-22T05:20:11.335046Z"
    }
   },
   "outputs": [],
   "source": [
    "X_recon = vae.decoder.predict(vae.encoder.predict(X_test.reshape((len(X_test), 28, 28, 1)))[0])\n",
    "X_real = X_test.reshape((len(X_test), 28, 28, 1))"
   ]
  },
  {
   "cell_type": "code",
   "execution_count": 49,
   "metadata": {
    "ExecuteTime": {
     "end_time": "2020-08-22T05:20:12.998739Z",
     "start_time": "2020-08-22T05:20:12.833109Z"
    }
   },
   "outputs": [],
   "source": [
    "x_real = X_test.reshape((len(X_test), np.product(np.shape(X_test)[1:])))\n",
    "x_recon = X_recon.reshape((len(X_test), np.product(np.shape(X_test)[1:])))"
   ]
  },
  {
   "cell_type": "code",
   "execution_count": 50,
   "metadata": {
    "ExecuteTime": {
     "end_time": "2020-08-22T05:20:13.166239Z",
     "start_time": "2020-08-22T05:20:13.001390Z"
    }
   },
   "outputs": [],
   "source": [
    "reconstruction_acc_df = pd.DataFrame(\n",
    "    columns=[\"method_\", \"dimensions\", \"dataset\", \"MSE\", \"MAE\", \"MedAE\", \"R2\"]\n",
    ")"
   ]
  },
  {
   "cell_type": "code",
   "execution_count": 51,
   "metadata": {
    "ExecuteTime": {
     "end_time": "2020-08-22T05:20:14.042512Z",
     "start_time": "2020-08-22T05:20:13.168119Z"
    }
   },
   "outputs": [
    {
     "data": {
      "text/html": [
       "<div>\n",
       "<style scoped>\n",
       "    .dataframe tbody tr th:only-of-type {\n",
       "        vertical-align: middle;\n",
       "    }\n",
       "\n",
       "    .dataframe tbody tr th {\n",
       "        vertical-align: top;\n",
       "    }\n",
       "\n",
       "    .dataframe thead th {\n",
       "        text-align: right;\n",
       "    }\n",
       "</style>\n",
       "<table border=\"1\" class=\"dataframe\">\n",
       "  <thead>\n",
       "    <tr style=\"text-align: right;\">\n",
       "      <th></th>\n",
       "      <th>method_</th>\n",
       "      <th>dimensions</th>\n",
       "      <th>dataset</th>\n",
       "      <th>MSE</th>\n",
       "      <th>MAE</th>\n",
       "      <th>MedAE</th>\n",
       "      <th>R2</th>\n",
       "    </tr>\n",
       "  </thead>\n",
       "  <tbody>\n",
       "    <tr>\n",
       "      <th>0</th>\n",
       "      <td>vae</td>\n",
       "      <td>2</td>\n",
       "      <td>fmnist</td>\n",
       "      <td>0.025333</td>\n",
       "      <td>0.087578</td>\n",
       "      <td>0.040589</td>\n",
       "      <td>0.612928</td>\n",
       "    </tr>\n",
       "  </tbody>\n",
       "</table>\n",
       "</div>"
      ],
      "text/plain": [
       "  method_ dimensions dataset       MSE       MAE     MedAE        R2\n",
       "0     vae          2  fmnist  0.025333  0.087578  0.040589  0.612928"
      ]
     },
     "execution_count": 51,
     "metadata": {},
     "output_type": "execute_result"
    }
   ],
   "source": [
    "MSE = mean_squared_error(\n",
    "    x_real, \n",
    "    x_recon\n",
    ")\n",
    "MAE = mean_absolute_error(\n",
    "    x_real, \n",
    "    x_recon\n",
    ")\n",
    "MedAE = median_absolute_error(\n",
    "    x_real, \n",
    "    x_recon\n",
    ")\n",
    "R2 = r2_score(\n",
    "    x_real, \n",
    "    x_recon\n",
    ")\n",
    "\n",
    "reconstruction_acc_df.loc[len(reconstruction_acc_df)] = ['vae', 2, dataset, MSE, MAE, MedAE, R2]\n",
    "reconstruction_acc_df"
   ]
  },
  {
   "cell_type": "code",
   "execution_count": 52,
   "metadata": {
    "ExecuteTime": {
     "end_time": "2020-08-22T05:20:14.233401Z",
     "start_time": "2020-08-22T05:20:14.046191Z"
    }
   },
   "outputs": [],
   "source": [
    "save_loc = DATA_DIR / 'reconstruction_acc' / 'vae' / str(n_components) / (dataset + '.pickle')\n",
    "ensure_dir(save_loc)\n",
    "reconstruction_acc_df.to_pickle(save_loc)"
   ]
  },
  {
   "cell_type": "markdown",
   "metadata": {},
   "source": [
    "### Compute clustering quality"
   ]
  },
  {
   "cell_type": "code",
   "execution_count": 53,
   "metadata": {
    "ExecuteTime": {
     "end_time": "2020-08-22T05:20:14.482098Z",
     "start_time": "2020-08-22T05:20:14.235605Z"
    }
   },
   "outputs": [],
   "source": [
    "from sklearn.cluster import KMeans\n",
    "from sklearn.metrics import homogeneity_completeness_v_measure"
   ]
  },
  {
   "cell_type": "code",
   "execution_count": 54,
   "metadata": {
    "ExecuteTime": {
     "end_time": "2020-08-22T05:20:14.586537Z",
     "start_time": "2020-08-22T05:20:14.484442Z"
    }
   },
   "outputs": [],
   "source": [
    "def get_cluster_metrics(row, n_init=5):\n",
    "    \n",
    "    # load cluster information\n",
    "    save_loc = DATA_DIR / 'clustering_metric_df'/ ('_'.join([row.class_, str(row.dim), row.dataset]) + '.pickle')\n",
    "    print(save_loc)\n",
    "    if save_loc.exists() and save_loc.is_file():\n",
    "        \n",
    "        cluster_df = pd.read_pickle(save_loc)\n",
    "        return cluster_df\n",
    "    \n",
    "    # make cluster metric dataframe\n",
    "    cluster_df = pd.DataFrame(\n",
    "        columns=[\n",
    "            \"dataset\",\n",
    "            \"class_\",\n",
    "            \"dim\",\n",
    "            \"silhouette\",\n",
    "            \"homogeneity\",\n",
    "            \"completeness\",\n",
    "            \"v_measure\",\n",
    "            \"init_\",\n",
    "            \"n_clusters\",\n",
    "            \"model\",\n",
    "        ]\n",
    "    )\n",
    "    y = row.train_label\n",
    "    z = row.train_z\n",
    "    n_labels = len(np.unique(y))\n",
    "    for n_clusters in tqdm(np.arange(n_labels - int(n_labels / 2), n_labels + int(n_labels / 2)), leave=False, desc = 'n_clusters'):\n",
    "        for init_ in tqdm(range(n_init), leave=False, desc='init'):\n",
    "            kmeans = KMeans(n_clusters=n_clusters, random_state=init_).fit(z)\n",
    "            clustered_y = kmeans.labels_\n",
    "            homogeneity, completeness, v_measure = homogeneity_completeness_v_measure(\n",
    "                y, clustered_y\n",
    "            )\n",
    "            ss, _ = silhouette_score_block(z, clustered_y)\n",
    "            cluster_df.loc[len(cluster_df)] = [\n",
    "                row.dataset,\n",
    "                row.class_,\n",
    "                row.dim,\n",
    "                ss,\n",
    "                homogeneity,\n",
    "                completeness,\n",
    "                v_measure,\n",
    "                init_,\n",
    "                n_clusters,\n",
    "                kmeans,\n",
    "            ]\n",
    "    \n",
    "     # save cluster df in case this fails somewhere\n",
    "    ensure_dir(save_loc)\n",
    "    cluster_df.to_pickle(save_loc)\n",
    "    return cluster_df"
   ]
  },
  {
   "cell_type": "code",
   "execution_count": 55,
   "metadata": {
    "ExecuteTime": {
     "end_time": "2020-08-22T05:20:14.799438Z",
     "start_time": "2020-08-22T05:20:14.598325Z"
    }
   },
   "outputs": [
    {
     "data": {
      "text/html": [
       "<div>\n",
       "<style scoped>\n",
       "    .dataframe tbody tr th:only-of-type {\n",
       "        vertical-align: middle;\n",
       "    }\n",
       "\n",
       "    .dataframe tbody tr th {\n",
       "        vertical-align: top;\n",
       "    }\n",
       "\n",
       "    .dataframe thead th {\n",
       "        text-align: right;\n",
       "    }\n",
       "</style>\n",
       "<table border=\"1\" class=\"dataframe\">\n",
       "  <thead>\n",
       "    <tr style=\"text-align: right;\">\n",
       "      <th></th>\n",
       "      <th>dataset</th>\n",
       "      <th>class_</th>\n",
       "      <th>train_z</th>\n",
       "      <th>train_label</th>\n",
       "      <th>dim</th>\n",
       "    </tr>\n",
       "  </thead>\n",
       "  <tbody>\n",
       "    <tr>\n",
       "      <th>0</th>\n",
       "      <td>fmnist</td>\n",
       "      <td>vae</td>\n",
       "      <td>[[-1.3781811, 0.40604594], [2.0028358, 0.09522...</td>\n",
       "      <td>[9, 0, 0, 3, 0, 2, 7, 2, 5, 5, 0, 9, 5, 5, 7, ...</td>\n",
       "      <td>2</td>\n",
       "    </tr>\n",
       "  </tbody>\n",
       "</table>\n",
       "</div>"
      ],
      "text/plain": [
       "  dataset class_                                            train_z  \\\n",
       "0  fmnist    vae  [[-1.3781811, 0.40604594], [2.0028358, 0.09522...   \n",
       "\n",
       "                                         train_label dim  \n",
       "0  [9, 0, 0, 3, 0, 2, 7, 2, 5, 5, 0, 9, 5, 5, 7, ...   2  "
      ]
     },
     "execution_count": 55,
     "metadata": {},
     "output_type": "execute_result"
    }
   ],
   "source": [
    "projection_df = pd.DataFrame(columns = ['dataset', 'class_', 'train_z', 'train_label', 'dim'])\n",
    "projection_df.loc[len(projection_df)] = [dataset, 'vae', z, Y_train, n_components]\n",
    "projection_df"
   ]
  },
  {
   "cell_type": "code",
   "execution_count": 56,
   "metadata": {
    "ExecuteTime": {
     "end_time": "2020-08-22T05:20:15.050580Z",
     "start_time": "2020-08-22T05:20:14.801383Z"
    }
   },
   "outputs": [
    {
     "name": "stdout",
     "output_type": "stream",
     "text": [
      "/mnt/cube/tsainbur/Projects/github_repos/umap_tf_networks/data/clustering_metric_df/vae_2_fmnist.pickle\n"
     ]
    },
    {
     "data": {
      "text/html": [
       "<div>\n",
       "<style scoped>\n",
       "    .dataframe tbody tr th:only-of-type {\n",
       "        vertical-align: middle;\n",
       "    }\n",
       "\n",
       "    .dataframe tbody tr th {\n",
       "        vertical-align: top;\n",
       "    }\n",
       "\n",
       "    .dataframe thead th {\n",
       "        text-align: right;\n",
       "    }\n",
       "</style>\n",
       "<table border=\"1\" class=\"dataframe\">\n",
       "  <thead>\n",
       "    <tr style=\"text-align: right;\">\n",
       "      <th></th>\n",
       "      <th>dataset</th>\n",
       "      <th>class_</th>\n",
       "      <th>dim</th>\n",
       "      <th>silhouette</th>\n",
       "      <th>homogeneity</th>\n",
       "      <th>completeness</th>\n",
       "      <th>v_measure</th>\n",
       "      <th>init_</th>\n",
       "      <th>n_clusters</th>\n",
       "      <th>model</th>\n",
       "    </tr>\n",
       "  </thead>\n",
       "  <tbody>\n",
       "    <tr>\n",
       "      <th>0</th>\n",
       "      <td>fmnist</td>\n",
       "      <td>vae</td>\n",
       "      <td>2</td>\n",
       "      <td>0.387865</td>\n",
       "      <td>0.441178</td>\n",
       "      <td>0.663737</td>\n",
       "      <td>0.530043</td>\n",
       "      <td>0</td>\n",
       "      <td>5</td>\n",
       "      <td>KMeans(n_clusters=5, random_state=0)</td>\n",
       "    </tr>\n",
       "    <tr>\n",
       "      <th>1</th>\n",
       "      <td>fmnist</td>\n",
       "      <td>vae</td>\n",
       "      <td>2</td>\n",
       "      <td>0.387727</td>\n",
       "      <td>0.440974</td>\n",
       "      <td>0.663536</td>\n",
       "      <td>0.529832</td>\n",
       "      <td>1</td>\n",
       "      <td>5</td>\n",
       "      <td>KMeans(n_clusters=5, random_state=1)</td>\n",
       "    </tr>\n",
       "    <tr>\n",
       "      <th>2</th>\n",
       "      <td>fmnist</td>\n",
       "      <td>vae</td>\n",
       "      <td>2</td>\n",
       "      <td>0.388387</td>\n",
       "      <td>0.441128</td>\n",
       "      <td>0.663989</td>\n",
       "      <td>0.530087</td>\n",
       "      <td>2</td>\n",
       "      <td>5</td>\n",
       "      <td>KMeans(n_clusters=5, random_state=2)</td>\n",
       "    </tr>\n",
       "    <tr>\n",
       "      <th>3</th>\n",
       "      <td>fmnist</td>\n",
       "      <td>vae</td>\n",
       "      <td>2</td>\n",
       "      <td>0.388862</td>\n",
       "      <td>0.442395</td>\n",
       "      <td>0.666815</td>\n",
       "      <td>0.531902</td>\n",
       "      <td>3</td>\n",
       "      <td>5</td>\n",
       "      <td>KMeans(n_clusters=5, random_state=3)</td>\n",
       "    </tr>\n",
       "    <tr>\n",
       "      <th>4</th>\n",
       "      <td>fmnist</td>\n",
       "      <td>vae</td>\n",
       "      <td>2</td>\n",
       "      <td>0.387791</td>\n",
       "      <td>0.441233</td>\n",
       "      <td>0.664208</td>\n",
       "      <td>0.530233</td>\n",
       "      <td>4</td>\n",
       "      <td>5</td>\n",
       "      <td>KMeans(n_clusters=5, random_state=4)</td>\n",
       "    </tr>\n",
       "    <tr>\n",
       "      <th>5</th>\n",
       "      <td>fmnist</td>\n",
       "      <td>vae</td>\n",
       "      <td>2</td>\n",
       "      <td>0.369949</td>\n",
       "      <td>0.463594</td>\n",
       "      <td>0.606276</td>\n",
       "      <td>0.525421</td>\n",
       "      <td>0</td>\n",
       "      <td>6</td>\n",
       "      <td>KMeans(n_clusters=6, random_state=0)</td>\n",
       "    </tr>\n",
       "    <tr>\n",
       "      <th>6</th>\n",
       "      <td>fmnist</td>\n",
       "      <td>vae</td>\n",
       "      <td>2</td>\n",
       "      <td>0.370176</td>\n",
       "      <td>0.463896</td>\n",
       "      <td>0.607139</td>\n",
       "      <td>0.525939</td>\n",
       "      <td>1</td>\n",
       "      <td>6</td>\n",
       "      <td>KMeans(n_clusters=6, random_state=1)</td>\n",
       "    </tr>\n",
       "    <tr>\n",
       "      <th>7</th>\n",
       "      <td>fmnist</td>\n",
       "      <td>vae</td>\n",
       "      <td>2</td>\n",
       "      <td>0.370076</td>\n",
       "      <td>0.463272</td>\n",
       "      <td>0.605640</td>\n",
       "      <td>0.524975</td>\n",
       "      <td>2</td>\n",
       "      <td>6</td>\n",
       "      <td>KMeans(n_clusters=6, random_state=2)</td>\n",
       "    </tr>\n",
       "    <tr>\n",
       "      <th>8</th>\n",
       "      <td>fmnist</td>\n",
       "      <td>vae</td>\n",
       "      <td>2</td>\n",
       "      <td>0.370059</td>\n",
       "      <td>0.463793</td>\n",
       "      <td>0.607020</td>\n",
       "      <td>0.525828</td>\n",
       "      <td>3</td>\n",
       "      <td>6</td>\n",
       "      <td>KMeans(n_clusters=6, random_state=3)</td>\n",
       "    </tr>\n",
       "    <tr>\n",
       "      <th>9</th>\n",
       "      <td>fmnist</td>\n",
       "      <td>vae</td>\n",
       "      <td>2</td>\n",
       "      <td>0.369953</td>\n",
       "      <td>0.463080</td>\n",
       "      <td>0.605243</td>\n",
       "      <td>0.524703</td>\n",
       "      <td>4</td>\n",
       "      <td>6</td>\n",
       "      <td>KMeans(n_clusters=6, random_state=4)</td>\n",
       "    </tr>\n",
       "    <tr>\n",
       "      <th>10</th>\n",
       "      <td>fmnist</td>\n",
       "      <td>vae</td>\n",
       "      <td>2</td>\n",
       "      <td>0.377602</td>\n",
       "      <td>0.479187</td>\n",
       "      <td>0.578042</td>\n",
       "      <td>0.523993</td>\n",
       "      <td>0</td>\n",
       "      <td>7</td>\n",
       "      <td>KMeans(n_clusters=7, random_state=0)</td>\n",
       "    </tr>\n",
       "    <tr>\n",
       "      <th>11</th>\n",
       "      <td>fmnist</td>\n",
       "      <td>vae</td>\n",
       "      <td>2</td>\n",
       "      <td>0.377660</td>\n",
       "      <td>0.479199</td>\n",
       "      <td>0.578097</td>\n",
       "      <td>0.524023</td>\n",
       "      <td>1</td>\n",
       "      <td>7</td>\n",
       "      <td>KMeans(n_clusters=7, random_state=1)</td>\n",
       "    </tr>\n",
       "    <tr>\n",
       "      <th>12</th>\n",
       "      <td>fmnist</td>\n",
       "      <td>vae</td>\n",
       "      <td>2</td>\n",
       "      <td>0.377593</td>\n",
       "      <td>0.479136</td>\n",
       "      <td>0.577979</td>\n",
       "      <td>0.523937</td>\n",
       "      <td>2</td>\n",
       "      <td>7</td>\n",
       "      <td>KMeans(n_clusters=7, random_state=2)</td>\n",
       "    </tr>\n",
       "    <tr>\n",
       "      <th>13</th>\n",
       "      <td>fmnist</td>\n",
       "      <td>vae</td>\n",
       "      <td>2</td>\n",
       "      <td>0.378194</td>\n",
       "      <td>0.479685</td>\n",
       "      <td>0.578619</td>\n",
       "      <td>0.524528</td>\n",
       "      <td>3</td>\n",
       "      <td>7</td>\n",
       "      <td>KMeans(n_clusters=7, random_state=3)</td>\n",
       "    </tr>\n",
       "    <tr>\n",
       "      <th>14</th>\n",
       "      <td>fmnist</td>\n",
       "      <td>vae</td>\n",
       "      <td>2</td>\n",
       "      <td>0.377720</td>\n",
       "      <td>0.479098</td>\n",
       "      <td>0.577995</td>\n",
       "      <td>0.523920</td>\n",
       "      <td>4</td>\n",
       "      <td>7</td>\n",
       "      <td>KMeans(n_clusters=7, random_state=4)</td>\n",
       "    </tr>\n",
       "    <tr>\n",
       "      <th>15</th>\n",
       "      <td>fmnist</td>\n",
       "      <td>vae</td>\n",
       "      <td>2</td>\n",
       "      <td>0.366029</td>\n",
       "      <td>0.489465</td>\n",
       "      <td>0.551025</td>\n",
       "      <td>0.518424</td>\n",
       "      <td>0</td>\n",
       "      <td>8</td>\n",
       "      <td>KMeans(random_state=0)</td>\n",
       "    </tr>\n",
       "    <tr>\n",
       "      <th>16</th>\n",
       "      <td>fmnist</td>\n",
       "      <td>vae</td>\n",
       "      <td>2</td>\n",
       "      <td>0.365456</td>\n",
       "      <td>0.489378</td>\n",
       "      <td>0.550953</td>\n",
       "      <td>0.518343</td>\n",
       "      <td>1</td>\n",
       "      <td>8</td>\n",
       "      <td>KMeans(random_state=1)</td>\n",
       "    </tr>\n",
       "    <tr>\n",
       "      <th>17</th>\n",
       "      <td>fmnist</td>\n",
       "      <td>vae</td>\n",
       "      <td>2</td>\n",
       "      <td>0.366303</td>\n",
       "      <td>0.491847</td>\n",
       "      <td>0.553235</td>\n",
       "      <td>0.520738</td>\n",
       "      <td>2</td>\n",
       "      <td>8</td>\n",
       "      <td>KMeans(random_state=2)</td>\n",
       "    </tr>\n",
       "    <tr>\n",
       "      <th>18</th>\n",
       "      <td>fmnist</td>\n",
       "      <td>vae</td>\n",
       "      <td>2</td>\n",
       "      <td>0.366308</td>\n",
       "      <td>0.491948</td>\n",
       "      <td>0.553345</td>\n",
       "      <td>0.520843</td>\n",
       "      <td>3</td>\n",
       "      <td>8</td>\n",
       "      <td>KMeans(random_state=3)</td>\n",
       "    </tr>\n",
       "    <tr>\n",
       "      <th>19</th>\n",
       "      <td>fmnist</td>\n",
       "      <td>vae</td>\n",
       "      <td>2</td>\n",
       "      <td>0.365529</td>\n",
       "      <td>0.486627</td>\n",
       "      <td>0.548647</td>\n",
       "      <td>0.515780</td>\n",
       "      <td>4</td>\n",
       "      <td>8</td>\n",
       "      <td>KMeans(random_state=4)</td>\n",
       "    </tr>\n",
       "    <tr>\n",
       "      <th>20</th>\n",
       "      <td>fmnist</td>\n",
       "      <td>vae</td>\n",
       "      <td>2</td>\n",
       "      <td>0.366555</td>\n",
       "      <td>0.522314</td>\n",
       "      <td>0.556522</td>\n",
       "      <td>0.538875</td>\n",
       "      <td>0</td>\n",
       "      <td>9</td>\n",
       "      <td>KMeans(n_clusters=9, random_state=0)</td>\n",
       "    </tr>\n",
       "    <tr>\n",
       "      <th>21</th>\n",
       "      <td>fmnist</td>\n",
       "      <td>vae</td>\n",
       "      <td>2</td>\n",
       "      <td>0.367043</td>\n",
       "      <td>0.521583</td>\n",
       "      <td>0.556152</td>\n",
       "      <td>0.538313</td>\n",
       "      <td>1</td>\n",
       "      <td>9</td>\n",
       "      <td>KMeans(n_clusters=9, random_state=1)</td>\n",
       "    </tr>\n",
       "    <tr>\n",
       "      <th>22</th>\n",
       "      <td>fmnist</td>\n",
       "      <td>vae</td>\n",
       "      <td>2</td>\n",
       "      <td>0.367449</td>\n",
       "      <td>0.523890</td>\n",
       "      <td>0.558482</td>\n",
       "      <td>0.540633</td>\n",
       "      <td>2</td>\n",
       "      <td>9</td>\n",
       "      <td>KMeans(n_clusters=9, random_state=2)</td>\n",
       "    </tr>\n",
       "    <tr>\n",
       "      <th>23</th>\n",
       "      <td>fmnist</td>\n",
       "      <td>vae</td>\n",
       "      <td>2</td>\n",
       "      <td>0.367851</td>\n",
       "      <td>0.525843</td>\n",
       "      <td>0.560145</td>\n",
       "      <td>0.542452</td>\n",
       "      <td>3</td>\n",
       "      <td>9</td>\n",
       "      <td>KMeans(n_clusters=9, random_state=3)</td>\n",
       "    </tr>\n",
       "    <tr>\n",
       "      <th>24</th>\n",
       "      <td>fmnist</td>\n",
       "      <td>vae</td>\n",
       "      <td>2</td>\n",
       "      <td>0.367739</td>\n",
       "      <td>0.525239</td>\n",
       "      <td>0.559541</td>\n",
       "      <td>0.541847</td>\n",
       "      <td>4</td>\n",
       "      <td>9</td>\n",
       "      <td>KMeans(n_clusters=9, random_state=4)</td>\n",
       "    </tr>\n",
       "    <tr>\n",
       "      <th>25</th>\n",
       "      <td>fmnist</td>\n",
       "      <td>vae</td>\n",
       "      <td>2</td>\n",
       "      <td>0.366927</td>\n",
       "      <td>0.529027</td>\n",
       "      <td>0.534904</td>\n",
       "      <td>0.531949</td>\n",
       "      <td>0</td>\n",
       "      <td>10</td>\n",
       "      <td>KMeans(n_clusters=10, random_state=0)</td>\n",
       "    </tr>\n",
       "    <tr>\n",
       "      <th>26</th>\n",
       "      <td>fmnist</td>\n",
       "      <td>vae</td>\n",
       "      <td>2</td>\n",
       "      <td>0.366802</td>\n",
       "      <td>0.528296</td>\n",
       "      <td>0.534327</td>\n",
       "      <td>0.531294</td>\n",
       "      <td>1</td>\n",
       "      <td>10</td>\n",
       "      <td>KMeans(n_clusters=10, random_state=1)</td>\n",
       "    </tr>\n",
       "    <tr>\n",
       "      <th>27</th>\n",
       "      <td>fmnist</td>\n",
       "      <td>vae</td>\n",
       "      <td>2</td>\n",
       "      <td>0.366254</td>\n",
       "      <td>0.526691</td>\n",
       "      <td>0.532775</td>\n",
       "      <td>0.529715</td>\n",
       "      <td>2</td>\n",
       "      <td>10</td>\n",
       "      <td>KMeans(n_clusters=10, random_state=2)</td>\n",
       "    </tr>\n",
       "    <tr>\n",
       "      <th>28</th>\n",
       "      <td>fmnist</td>\n",
       "      <td>vae</td>\n",
       "      <td>2</td>\n",
       "      <td>0.366812</td>\n",
       "      <td>0.527953</td>\n",
       "      <td>0.534040</td>\n",
       "      <td>0.530979</td>\n",
       "      <td>3</td>\n",
       "      <td>10</td>\n",
       "      <td>KMeans(n_clusters=10, random_state=3)</td>\n",
       "    </tr>\n",
       "    <tr>\n",
       "      <th>29</th>\n",
       "      <td>fmnist</td>\n",
       "      <td>vae</td>\n",
       "      <td>2</td>\n",
       "      <td>0.366870</td>\n",
       "      <td>0.528957</td>\n",
       "      <td>0.534852</td>\n",
       "      <td>0.531888</td>\n",
       "      <td>4</td>\n",
       "      <td>10</td>\n",
       "      <td>KMeans(n_clusters=10, random_state=4)</td>\n",
       "    </tr>\n",
       "    <tr>\n",
       "      <th>30</th>\n",
       "      <td>fmnist</td>\n",
       "      <td>vae</td>\n",
       "      <td>2</td>\n",
       "      <td>0.366619</td>\n",
       "      <td>0.542242</td>\n",
       "      <td>0.527483</td>\n",
       "      <td>0.534760</td>\n",
       "      <td>0</td>\n",
       "      <td>11</td>\n",
       "      <td>KMeans(n_clusters=11, random_state=0)</td>\n",
       "    </tr>\n",
       "    <tr>\n",
       "      <th>31</th>\n",
       "      <td>fmnist</td>\n",
       "      <td>vae</td>\n",
       "      <td>2</td>\n",
       "      <td>0.366501</td>\n",
       "      <td>0.542085</td>\n",
       "      <td>0.527416</td>\n",
       "      <td>0.534650</td>\n",
       "      <td>1</td>\n",
       "      <td>11</td>\n",
       "      <td>KMeans(n_clusters=11, random_state=1)</td>\n",
       "    </tr>\n",
       "    <tr>\n",
       "      <th>32</th>\n",
       "      <td>fmnist</td>\n",
       "      <td>vae</td>\n",
       "      <td>2</td>\n",
       "      <td>0.366547</td>\n",
       "      <td>0.542566</td>\n",
       "      <td>0.527771</td>\n",
       "      <td>0.535066</td>\n",
       "      <td>2</td>\n",
       "      <td>11</td>\n",
       "      <td>KMeans(n_clusters=11, random_state=2)</td>\n",
       "    </tr>\n",
       "    <tr>\n",
       "      <th>33</th>\n",
       "      <td>fmnist</td>\n",
       "      <td>vae</td>\n",
       "      <td>2</td>\n",
       "      <td>0.366446</td>\n",
       "      <td>0.541361</td>\n",
       "      <td>0.526923</td>\n",
       "      <td>0.534044</td>\n",
       "      <td>3</td>\n",
       "      <td>11</td>\n",
       "      <td>KMeans(n_clusters=11, random_state=3)</td>\n",
       "    </tr>\n",
       "    <tr>\n",
       "      <th>34</th>\n",
       "      <td>fmnist</td>\n",
       "      <td>vae</td>\n",
       "      <td>2</td>\n",
       "      <td>0.366481</td>\n",
       "      <td>0.542827</td>\n",
       "      <td>0.528199</td>\n",
       "      <td>0.535413</td>\n",
       "      <td>4</td>\n",
       "      <td>11</td>\n",
       "      <td>KMeans(n_clusters=11, random_state=4)</td>\n",
       "    </tr>\n",
       "    <tr>\n",
       "      <th>35</th>\n",
       "      <td>fmnist</td>\n",
       "      <td>vae</td>\n",
       "      <td>2</td>\n",
       "      <td>0.370180</td>\n",
       "      <td>0.556718</td>\n",
       "      <td>0.526144</td>\n",
       "      <td>0.540999</td>\n",
       "      <td>0</td>\n",
       "      <td>12</td>\n",
       "      <td>KMeans(n_clusters=12, random_state=0)</td>\n",
       "    </tr>\n",
       "    <tr>\n",
       "      <th>36</th>\n",
       "      <td>fmnist</td>\n",
       "      <td>vae</td>\n",
       "      <td>2</td>\n",
       "      <td>0.370461</td>\n",
       "      <td>0.555705</td>\n",
       "      <td>0.525556</td>\n",
       "      <td>0.540210</td>\n",
       "      <td>1</td>\n",
       "      <td>12</td>\n",
       "      <td>KMeans(n_clusters=12, random_state=1)</td>\n",
       "    </tr>\n",
       "    <tr>\n",
       "      <th>37</th>\n",
       "      <td>fmnist</td>\n",
       "      <td>vae</td>\n",
       "      <td>2</td>\n",
       "      <td>0.370722</td>\n",
       "      <td>0.556638</td>\n",
       "      <td>0.526334</td>\n",
       "      <td>0.541062</td>\n",
       "      <td>2</td>\n",
       "      <td>12</td>\n",
       "      <td>KMeans(n_clusters=12, random_state=2)</td>\n",
       "    </tr>\n",
       "    <tr>\n",
       "      <th>38</th>\n",
       "      <td>fmnist</td>\n",
       "      <td>vae</td>\n",
       "      <td>2</td>\n",
       "      <td>0.370162</td>\n",
       "      <td>0.556782</td>\n",
       "      <td>0.526199</td>\n",
       "      <td>0.541059</td>\n",
       "      <td>3</td>\n",
       "      <td>12</td>\n",
       "      <td>KMeans(n_clusters=12, random_state=3)</td>\n",
       "    </tr>\n",
       "    <tr>\n",
       "      <th>39</th>\n",
       "      <td>fmnist</td>\n",
       "      <td>vae</td>\n",
       "      <td>2</td>\n",
       "      <td>0.370468</td>\n",
       "      <td>0.557714</td>\n",
       "      <td>0.526887</td>\n",
       "      <td>0.541862</td>\n",
       "      <td>4</td>\n",
       "      <td>12</td>\n",
       "      <td>KMeans(n_clusters=12, random_state=4)</td>\n",
       "    </tr>\n",
       "    <tr>\n",
       "      <th>40</th>\n",
       "      <td>fmnist</td>\n",
       "      <td>vae</td>\n",
       "      <td>2</td>\n",
       "      <td>0.372926</td>\n",
       "      <td>0.564307</td>\n",
       "      <td>0.516290</td>\n",
       "      <td>0.539232</td>\n",
       "      <td>0</td>\n",
       "      <td>13</td>\n",
       "      <td>KMeans(n_clusters=13, random_state=0)</td>\n",
       "    </tr>\n",
       "    <tr>\n",
       "      <th>41</th>\n",
       "      <td>fmnist</td>\n",
       "      <td>vae</td>\n",
       "      <td>2</td>\n",
       "      <td>0.372924</td>\n",
       "      <td>0.564381</td>\n",
       "      <td>0.516348</td>\n",
       "      <td>0.539297</td>\n",
       "      <td>1</td>\n",
       "      <td>13</td>\n",
       "      <td>KMeans(n_clusters=13, random_state=1)</td>\n",
       "    </tr>\n",
       "    <tr>\n",
       "      <th>42</th>\n",
       "      <td>fmnist</td>\n",
       "      <td>vae</td>\n",
       "      <td>2</td>\n",
       "      <td>0.373037</td>\n",
       "      <td>0.563944</td>\n",
       "      <td>0.516055</td>\n",
       "      <td>0.538938</td>\n",
       "      <td>2</td>\n",
       "      <td>13</td>\n",
       "      <td>KMeans(n_clusters=13, random_state=2)</td>\n",
       "    </tr>\n",
       "    <tr>\n",
       "      <th>43</th>\n",
       "      <td>fmnist</td>\n",
       "      <td>vae</td>\n",
       "      <td>2</td>\n",
       "      <td>0.373024</td>\n",
       "      <td>0.564487</td>\n",
       "      <td>0.516475</td>\n",
       "      <td>0.539414</td>\n",
       "      <td>3</td>\n",
       "      <td>13</td>\n",
       "      <td>KMeans(n_clusters=13, random_state=3)</td>\n",
       "    </tr>\n",
       "    <tr>\n",
       "      <th>44</th>\n",
       "      <td>fmnist</td>\n",
       "      <td>vae</td>\n",
       "      <td>2</td>\n",
       "      <td>0.373116</td>\n",
       "      <td>0.563681</td>\n",
       "      <td>0.515881</td>\n",
       "      <td>0.538723</td>\n",
       "      <td>4</td>\n",
       "      <td>13</td>\n",
       "      <td>KMeans(n_clusters=13, random_state=4)</td>\n",
       "    </tr>\n",
       "    <tr>\n",
       "      <th>45</th>\n",
       "      <td>fmnist</td>\n",
       "      <td>vae</td>\n",
       "      <td>2</td>\n",
       "      <td>0.375252</td>\n",
       "      <td>0.575557</td>\n",
       "      <td>0.511677</td>\n",
       "      <td>0.541740</td>\n",
       "      <td>0</td>\n",
       "      <td>14</td>\n",
       "      <td>KMeans(n_clusters=14, random_state=0)</td>\n",
       "    </tr>\n",
       "    <tr>\n",
       "      <th>46</th>\n",
       "      <td>fmnist</td>\n",
       "      <td>vae</td>\n",
       "      <td>2</td>\n",
       "      <td>0.374912</td>\n",
       "      <td>0.575514</td>\n",
       "      <td>0.511521</td>\n",
       "      <td>0.541634</td>\n",
       "      <td>1</td>\n",
       "      <td>14</td>\n",
       "      <td>KMeans(n_clusters=14, random_state=1)</td>\n",
       "    </tr>\n",
       "    <tr>\n",
       "      <th>47</th>\n",
       "      <td>fmnist</td>\n",
       "      <td>vae</td>\n",
       "      <td>2</td>\n",
       "      <td>0.374924</td>\n",
       "      <td>0.575444</td>\n",
       "      <td>0.511468</td>\n",
       "      <td>0.541573</td>\n",
       "      <td>2</td>\n",
       "      <td>14</td>\n",
       "      <td>KMeans(n_clusters=14, random_state=2)</td>\n",
       "    </tr>\n",
       "    <tr>\n",
       "      <th>48</th>\n",
       "      <td>fmnist</td>\n",
       "      <td>vae</td>\n",
       "      <td>2</td>\n",
       "      <td>0.374862</td>\n",
       "      <td>0.575051</td>\n",
       "      <td>0.511110</td>\n",
       "      <td>0.541198</td>\n",
       "      <td>3</td>\n",
       "      <td>14</td>\n",
       "      <td>KMeans(n_clusters=14, random_state=3)</td>\n",
       "    </tr>\n",
       "    <tr>\n",
       "      <th>49</th>\n",
       "      <td>fmnist</td>\n",
       "      <td>vae</td>\n",
       "      <td>2</td>\n",
       "      <td>0.374872</td>\n",
       "      <td>0.575227</td>\n",
       "      <td>0.511292</td>\n",
       "      <td>0.541378</td>\n",
       "      <td>4</td>\n",
       "      <td>14</td>\n",
       "      <td>KMeans(n_clusters=14, random_state=4)</td>\n",
       "    </tr>\n",
       "  </tbody>\n",
       "</table>\n",
       "</div>"
      ],
      "text/plain": [
       "   dataset class_ dim  silhouette  homogeneity  completeness  v_measure init_  \\\n",
       "0   fmnist    vae   2    0.387865     0.441178      0.663737   0.530043     0   \n",
       "1   fmnist    vae   2    0.387727     0.440974      0.663536   0.529832     1   \n",
       "2   fmnist    vae   2    0.388387     0.441128      0.663989   0.530087     2   \n",
       "3   fmnist    vae   2    0.388862     0.442395      0.666815   0.531902     3   \n",
       "4   fmnist    vae   2    0.387791     0.441233      0.664208   0.530233     4   \n",
       "5   fmnist    vae   2    0.369949     0.463594      0.606276   0.525421     0   \n",
       "6   fmnist    vae   2    0.370176     0.463896      0.607139   0.525939     1   \n",
       "7   fmnist    vae   2    0.370076     0.463272      0.605640   0.524975     2   \n",
       "8   fmnist    vae   2    0.370059     0.463793      0.607020   0.525828     3   \n",
       "9   fmnist    vae   2    0.369953     0.463080      0.605243   0.524703     4   \n",
       "10  fmnist    vae   2    0.377602     0.479187      0.578042   0.523993     0   \n",
       "11  fmnist    vae   2    0.377660     0.479199      0.578097   0.524023     1   \n",
       "12  fmnist    vae   2    0.377593     0.479136      0.577979   0.523937     2   \n",
       "13  fmnist    vae   2    0.378194     0.479685      0.578619   0.524528     3   \n",
       "14  fmnist    vae   2    0.377720     0.479098      0.577995   0.523920     4   \n",
       "15  fmnist    vae   2    0.366029     0.489465      0.551025   0.518424     0   \n",
       "16  fmnist    vae   2    0.365456     0.489378      0.550953   0.518343     1   \n",
       "17  fmnist    vae   2    0.366303     0.491847      0.553235   0.520738     2   \n",
       "18  fmnist    vae   2    0.366308     0.491948      0.553345   0.520843     3   \n",
       "19  fmnist    vae   2    0.365529     0.486627      0.548647   0.515780     4   \n",
       "20  fmnist    vae   2    0.366555     0.522314      0.556522   0.538875     0   \n",
       "21  fmnist    vae   2    0.367043     0.521583      0.556152   0.538313     1   \n",
       "22  fmnist    vae   2    0.367449     0.523890      0.558482   0.540633     2   \n",
       "23  fmnist    vae   2    0.367851     0.525843      0.560145   0.542452     3   \n",
       "24  fmnist    vae   2    0.367739     0.525239      0.559541   0.541847     4   \n",
       "25  fmnist    vae   2    0.366927     0.529027      0.534904   0.531949     0   \n",
       "26  fmnist    vae   2    0.366802     0.528296      0.534327   0.531294     1   \n",
       "27  fmnist    vae   2    0.366254     0.526691      0.532775   0.529715     2   \n",
       "28  fmnist    vae   2    0.366812     0.527953      0.534040   0.530979     3   \n",
       "29  fmnist    vae   2    0.366870     0.528957      0.534852   0.531888     4   \n",
       "30  fmnist    vae   2    0.366619     0.542242      0.527483   0.534760     0   \n",
       "31  fmnist    vae   2    0.366501     0.542085      0.527416   0.534650     1   \n",
       "32  fmnist    vae   2    0.366547     0.542566      0.527771   0.535066     2   \n",
       "33  fmnist    vae   2    0.366446     0.541361      0.526923   0.534044     3   \n",
       "34  fmnist    vae   2    0.366481     0.542827      0.528199   0.535413     4   \n",
       "35  fmnist    vae   2    0.370180     0.556718      0.526144   0.540999     0   \n",
       "36  fmnist    vae   2    0.370461     0.555705      0.525556   0.540210     1   \n",
       "37  fmnist    vae   2    0.370722     0.556638      0.526334   0.541062     2   \n",
       "38  fmnist    vae   2    0.370162     0.556782      0.526199   0.541059     3   \n",
       "39  fmnist    vae   2    0.370468     0.557714      0.526887   0.541862     4   \n",
       "40  fmnist    vae   2    0.372926     0.564307      0.516290   0.539232     0   \n",
       "41  fmnist    vae   2    0.372924     0.564381      0.516348   0.539297     1   \n",
       "42  fmnist    vae   2    0.373037     0.563944      0.516055   0.538938     2   \n",
       "43  fmnist    vae   2    0.373024     0.564487      0.516475   0.539414     3   \n",
       "44  fmnist    vae   2    0.373116     0.563681      0.515881   0.538723     4   \n",
       "45  fmnist    vae   2    0.375252     0.575557      0.511677   0.541740     0   \n",
       "46  fmnist    vae   2    0.374912     0.575514      0.511521   0.541634     1   \n",
       "47  fmnist    vae   2    0.374924     0.575444      0.511468   0.541573     2   \n",
       "48  fmnist    vae   2    0.374862     0.575051      0.511110   0.541198     3   \n",
       "49  fmnist    vae   2    0.374872     0.575227      0.511292   0.541378     4   \n",
       "\n",
       "   n_clusters                                  model  \n",
       "0           5   KMeans(n_clusters=5, random_state=0)  \n",
       "1           5   KMeans(n_clusters=5, random_state=1)  \n",
       "2           5   KMeans(n_clusters=5, random_state=2)  \n",
       "3           5   KMeans(n_clusters=5, random_state=3)  \n",
       "4           5   KMeans(n_clusters=5, random_state=4)  \n",
       "5           6   KMeans(n_clusters=6, random_state=0)  \n",
       "6           6   KMeans(n_clusters=6, random_state=1)  \n",
       "7           6   KMeans(n_clusters=6, random_state=2)  \n",
       "8           6   KMeans(n_clusters=6, random_state=3)  \n",
       "9           6   KMeans(n_clusters=6, random_state=4)  \n",
       "10          7   KMeans(n_clusters=7, random_state=0)  \n",
       "11          7   KMeans(n_clusters=7, random_state=1)  \n",
       "12          7   KMeans(n_clusters=7, random_state=2)  \n",
       "13          7   KMeans(n_clusters=7, random_state=3)  \n",
       "14          7   KMeans(n_clusters=7, random_state=4)  \n",
       "15          8                 KMeans(random_state=0)  \n",
       "16          8                 KMeans(random_state=1)  \n",
       "17          8                 KMeans(random_state=2)  \n",
       "18          8                 KMeans(random_state=3)  \n",
       "19          8                 KMeans(random_state=4)  \n",
       "20          9   KMeans(n_clusters=9, random_state=0)  \n",
       "21          9   KMeans(n_clusters=9, random_state=1)  \n",
       "22          9   KMeans(n_clusters=9, random_state=2)  \n",
       "23          9   KMeans(n_clusters=9, random_state=3)  \n",
       "24          9   KMeans(n_clusters=9, random_state=4)  \n",
       "25         10  KMeans(n_clusters=10, random_state=0)  \n",
       "26         10  KMeans(n_clusters=10, random_state=1)  \n",
       "27         10  KMeans(n_clusters=10, random_state=2)  \n",
       "28         10  KMeans(n_clusters=10, random_state=3)  \n",
       "29         10  KMeans(n_clusters=10, random_state=4)  \n",
       "30         11  KMeans(n_clusters=11, random_state=0)  \n",
       "31         11  KMeans(n_clusters=11, random_state=1)  \n",
       "32         11  KMeans(n_clusters=11, random_state=2)  \n",
       "33         11  KMeans(n_clusters=11, random_state=3)  \n",
       "34         11  KMeans(n_clusters=11, random_state=4)  \n",
       "35         12  KMeans(n_clusters=12, random_state=0)  \n",
       "36         12  KMeans(n_clusters=12, random_state=1)  \n",
       "37         12  KMeans(n_clusters=12, random_state=2)  \n",
       "38         12  KMeans(n_clusters=12, random_state=3)  \n",
       "39         12  KMeans(n_clusters=12, random_state=4)  \n",
       "40         13  KMeans(n_clusters=13, random_state=0)  \n",
       "41         13  KMeans(n_clusters=13, random_state=1)  \n",
       "42         13  KMeans(n_clusters=13, random_state=2)  \n",
       "43         13  KMeans(n_clusters=13, random_state=3)  \n",
       "44         13  KMeans(n_clusters=13, random_state=4)  \n",
       "45         14  KMeans(n_clusters=14, random_state=0)  \n",
       "46         14  KMeans(n_clusters=14, random_state=1)  \n",
       "47         14  KMeans(n_clusters=14, random_state=2)  \n",
       "48         14  KMeans(n_clusters=14, random_state=3)  \n",
       "49         14  KMeans(n_clusters=14, random_state=4)  "
      ]
     },
     "execution_count": 56,
     "metadata": {},
     "output_type": "execute_result"
    }
   ],
   "source": [
    "get_cluster_metrics(projection_df.iloc[0], n_init=5)"
   ]
  },
  {
   "cell_type": "code",
   "execution_count": null,
   "metadata": {},
   "outputs": [],
   "source": []
  },
  {
   "cell_type": "code",
   "execution_count": null,
   "metadata": {},
   "outputs": [],
   "source": []
  },
  {
   "cell_type": "code",
   "execution_count": null,
   "metadata": {},
   "outputs": [],
   "source": []
  }
 ],
 "metadata": {
  "kernelspec": {
   "display_name": "Python 3",
   "language": "python",
   "name": "python3"
  },
  "language_info": {
   "codemirror_mode": {
    "name": "ipython",
    "version": 3
   },
   "file_extension": ".py",
   "mimetype": "text/x-python",
   "name": "python",
   "nbconvert_exporter": "python",
   "pygments_lexer": "ipython3",
   "version": "3.9.1"
  }
 },
 "nbformat": 4,
 "nbformat_minor": 2
}
