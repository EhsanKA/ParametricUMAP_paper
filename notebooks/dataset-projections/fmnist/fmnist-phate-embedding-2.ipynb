{
 "cells": [
  {
   "cell_type": "code",
   "execution_count": 1,
   "metadata": {
    "ExecuteTime": {
     "end_time": "2021-01-14T19:42:07.604704Z",
     "start_time": "2021-01-14T19:42:07.600880Z"
    }
   },
   "outputs": [],
   "source": [
    "dataset = 'fmnist'\n",
    "algorithm = 'phate'\n",
    "n_components = 2"
   ]
  },
  {
   "cell_type": "code",
   "execution_count": 2,
   "metadata": {
    "ExecuteTime": {
     "end_time": "2021-01-14T19:42:07.627121Z",
     "start_time": "2021-01-14T19:42:07.606453Z"
    }
   },
   "outputs": [],
   "source": [
    "# reload packages\n",
    "%load_ext autoreload\n",
    "%autoreload 2"
   ]
  },
  {
   "cell_type": "markdown",
   "metadata": {},
   "source": [
    "### Choose GPU (this may not be needed on your computer)"
   ]
  },
  {
   "cell_type": "code",
   "execution_count": 3,
   "metadata": {
    "ExecuteTime": {
     "end_time": "2021-01-14T19:42:07.643126Z",
     "start_time": "2021-01-14T19:42:07.628641Z"
    }
   },
   "outputs": [
    {
     "name": "stdout",
     "output_type": "stream",
     "text": [
      "env: CUDA_DEVICE_ORDER=PCI_BUS_ID\n",
      "env: CUDA_VISIBLE_DEVICES=0\n"
     ]
    }
   ],
   "source": [
    "%env CUDA_DEVICE_ORDER=PCI_BUS_ID\n",
    "%env CUDA_VISIBLE_DEVICES=0"
   ]
  },
  {
   "cell_type": "markdown",
   "metadata": {},
   "source": [
    "### load packages"
   ]
  },
  {
   "cell_type": "code",
   "execution_count": 4,
   "metadata": {
    "ExecuteTime": {
     "end_time": "2021-01-14T19:42:26.468636Z",
     "start_time": "2021-01-14T19:42:07.644503Z"
    }
   },
   "outputs": [
    {
     "name": "stderr",
     "output_type": "stream",
     "text": [
      "/mnt/cube/tsainbur/Projects/github_repos/umap_tf_networks/tfumap/umap.py:7: TqdmExperimentalWarning: Using `tqdm.autonotebook.tqdm` in notebook mode. Use `tqdm.tqdm` instead to force console mode (e.g. in jupyter console)\n",
      "  from tqdm.autonotebook import tqdm\n"
     ]
    }
   ],
   "source": [
    "from tfumap.umap import tfUMAP"
   ]
  },
  {
   "cell_type": "code",
   "execution_count": 5,
   "metadata": {
    "ExecuteTime": {
     "end_time": "2021-01-14T19:42:26.697444Z",
     "start_time": "2021-01-14T19:42:26.472775Z"
    }
   },
   "outputs": [],
   "source": [
    "import tensorflow as tf\n",
    "import numpy as np\n",
    "import matplotlib.pyplot as plt\n",
    "from tqdm.autonotebook import tqdm\n",
    "import umap\n",
    "import pandas as pd"
   ]
  },
  {
   "cell_type": "markdown",
   "metadata": {},
   "source": [
    "### Load dataset"
   ]
  },
  {
   "cell_type": "code",
   "execution_count": 6,
   "metadata": {
    "ExecuteTime": {
     "end_time": "2021-01-14T19:42:26.732792Z",
     "start_time": "2021-01-14T19:42:26.700952Z"
    }
   },
   "outputs": [],
   "source": [
    "from tensorflow.keras.datasets import mnist"
   ]
  },
  {
   "cell_type": "code",
   "execution_count": 7,
   "metadata": {
    "ExecuteTime": {
     "end_time": "2021-01-14T19:42:27.411632Z",
     "start_time": "2021-01-14T19:42:26.735039Z"
    }
   },
   "outputs": [
    {
     "name": "stdout",
     "output_type": "stream",
     "text": [
      "50000 10000 10000\n"
     ]
    }
   ],
   "source": [
    "from tensorflow.keras.datasets import fashion_mnist\n",
    "\n",
    "# load dataset\n",
    "(train_images, Y_train), (test_images, Y_test) = fashion_mnist.load_data()\n",
    "X_train = (train_images/255.).astype('float32')\n",
    "X_test = (test_images/255.).astype('float32')\n",
    "X_train = X_train.reshape((len(X_train), np.product(np.shape(X_train)[1:])))\n",
    "X_test = X_test.reshape((len(X_test), np.product(np.shape(X_test)[1:])))\n",
    "\n",
    "# subset a validation set\n",
    "n_valid = 10000\n",
    "X_valid = X_train[-n_valid:]\n",
    "Y_valid = Y_train[-n_valid:]\n",
    "X_train = X_train[:-n_valid]\n",
    "Y_train = Y_train[:-n_valid]\n",
    "\n",
    "# flatten X\n",
    "X_train_flat = X_train.reshape((len(X_train), np.product(np.shape(X_train)[1:])))\n",
    "X_test_flat = X_test.reshape((len(X_test), np.product(np.shape(X_test)[1:])))\n",
    "X_valid_flat= X_valid.reshape((len(X_valid), np.product(np.shape(X_valid)[1:])))\n",
    "print(len(X_train), len(X_valid), len(X_test))"
   ]
  },
  {
   "cell_type": "markdown",
   "metadata": {},
   "source": [
    "### Create model and train"
   ]
  },
  {
   "cell_type": "code",
   "execution_count": 8,
   "metadata": {
    "ExecuteTime": {
     "end_time": "2021-01-14T19:42:27.551684Z",
     "start_time": "2021-01-14T19:42:27.413710Z"
    }
   },
   "outputs": [],
   "source": [
    "import phate"
   ]
  },
  {
   "cell_type": "code",
   "execution_count": 9,
   "metadata": {
    "ExecuteTime": {
     "end_time": "2021-01-14T19:42:27.943266Z",
     "start_time": "2021-01-14T19:42:27.553985Z"
    }
   },
   "outputs": [],
   "source": [
    "from sklearn.preprocessing import MinMaxScaler\n",
    "from sklearn import datasets\n",
    "\n",
    "X_scaled = MinMaxScaler().fit_transform(X_train_flat)"
   ]
  },
  {
   "cell_type": "code",
   "execution_count": 10,
   "metadata": {
    "ExecuteTime": {
     "end_time": "2021-01-14T19:44:36.846467Z",
     "start_time": "2021-01-14T19:42:27.945464Z"
    }
   },
   "outputs": [
    {
     "name": "stdout",
     "output_type": "stream",
     "text": [
      "Calculating PHATE...\n",
      "  Running PHATE on 50000 observations and 784 variables.\n",
      "  Calculating graph and diffusion operator...\n",
      "    Calculating PCA...\n",
      "    Calculated PCA in 3.04 seconds.\n",
      "    Calculating KNN search...\n",
      "    Calculated KNN search in 81.72 seconds.\n",
      "    Calculating affinities...\n",
      "    Calculated affinities in 1.21 seconds.\n",
      "  Calculated graph and diffusion operator in 86.02 seconds.\n",
      "  Calculating landmark operator...\n",
      "    Calculating SVD...\n",
      "    Calculated SVD in 6.68 seconds.\n",
      "    Calculating KMeans...\n",
      "    Calculated KMeans in 23.78 seconds.\n",
      "  Calculated landmark operator in 32.34 seconds.\n",
      "  Calculating optimal t...\n",
      "    Automatically selected t = 28\n",
      "  Calculated optimal t in 0.97 seconds.\n",
      "  Calculating diffusion potential...\n",
      "  Calculated diffusion potential in 0.51 seconds.\n",
      "  Calculating metric MDS...\n",
      "  Calculated metric MDS in 9.01 seconds.\n",
      "Calculated PHATE in 128.86 seconds.\n"
     ]
    }
   ],
   "source": [
    "phate_op = phate.PHATE(n_jobs=-1)\n",
    "z = data_phate = phate_op.fit_transform(X_scaled)"
   ]
  },
  {
   "cell_type": "markdown",
   "metadata": {},
   "source": [
    "### Plot model output"
   ]
  },
  {
   "cell_type": "code",
   "execution_count": 11,
   "metadata": {
    "ExecuteTime": {
     "end_time": "2021-01-14T19:44:37.533779Z",
     "start_time": "2021-01-14T19:44:36.848853Z"
    }
   },
   "outputs": [
    {
     "data": {
      "image/png": "[encoded data removed]",
      "text/plain": [
       "<Figure size 576x576 with 2 Axes>"
      ]
     },
     "metadata": {
      "needs_background": "light"
     },
     "output_type": "display_data"
    }
   ],
   "source": [
    "fig, ax = plt.subplots( figsize=(8, 8))\n",
    "sc = ax.scatter(\n",
    "    z[:, 0],\n",
    "    z[:, 1],\n",
    "    c=Y_train.astype(int)[:len(z)],\n",
    "    cmap=\"tab10\",\n",
    "    s=0.1,\n",
    "    alpha=0.5,\n",
    "    rasterized=True,\n",
    ")\n",
    "ax.axis('equal')\n",
    "ax.set_title(\"UMAP in Tensorflow embedding\", fontsize=20)\n",
    "plt.colorbar(sc, ax=ax);"
   ]
  },
  {
   "cell_type": "markdown",
   "metadata": {},
   "source": [
    "### Save output"
   ]
  },
  {
   "cell_type": "code",
   "execution_count": 12,
   "metadata": {
    "ExecuteTime": {
     "end_time": "2021-01-14T19:44:37.566877Z",
     "start_time": "2021-01-14T19:44:37.535516Z"
    }
   },
   "outputs": [],
   "source": [
    "from tfumap.paths import ensure_dir, MODEL_DIR"
   ]
  },
  {
   "cell_type": "code",
   "execution_count": 13,
   "metadata": {
    "ExecuteTime": {
     "end_time": "2021-01-14T19:44:37.611090Z",
     "start_time": "2021-01-14T19:44:37.568121Z"
    }
   },
   "outputs": [],
   "source": [
    "output_dir = MODEL_DIR/'projections'/ dataset / algorithm\n",
    "ensure_dir(output_dir)"
   ]
  },
  {
   "cell_type": "code",
   "execution_count": 14,
   "metadata": {
    "ExecuteTime": {
     "end_time": "2021-01-14T19:44:37.644449Z",
     "start_time": "2021-01-14T19:44:37.613398Z"
    }
   },
   "outputs": [],
   "source": [
    "#vae.save(output_dir)"
   ]
  },
  {
   "cell_type": "code",
   "execution_count": 15,
   "metadata": {
    "ExecuteTime": {
     "end_time": "2021-01-14T19:44:37.672660Z",
     "start_time": "2021-01-14T19:44:37.645968Z"
    }
   },
   "outputs": [],
   "source": [
    "#loss_df.to_pickle(output_dir / 'loss_df.pickle')"
   ]
  },
  {
   "cell_type": "code",
   "execution_count": 16,
   "metadata": {
    "ExecuteTime": {
     "end_time": "2021-01-14T19:44:37.722594Z",
     "start_time": "2021-01-14T19:44:37.674188Z"
    }
   },
   "outputs": [],
   "source": [
    "np.save(output_dir / 'z.npy', z)"
   ]
  },
  {
   "cell_type": "markdown",
   "metadata": {},
   "source": [
    "### compute metrics "
   ]
  },
  {
   "cell_type": "code",
   "execution_count": 17,
   "metadata": {
    "ExecuteTime": {
     "end_time": "2021-01-14T19:44:37.756308Z",
     "start_time": "2021-01-14T19:44:37.724462Z"
    }
   },
   "outputs": [
    {
     "data": {
      "text/plain": [
       "(10000, 784)"
      ]
     },
     "execution_count": 17,
     "metadata": {},
     "output_type": "execute_result"
    }
   ],
   "source": [
    "X_test.shape"
   ]
  },
  {
   "cell_type": "code",
   "execution_count": 18,
   "metadata": {
    "ExecuteTime": {
     "end_time": "2021-01-14T19:44:56.037612Z",
     "start_time": "2021-01-14T19:44:37.757457Z"
    }
   },
   "outputs": [
    {
     "name": "stdout",
     "output_type": "stream",
     "text": [
      "Calculating KNN search...\n"
     ]
    },
    {
     "name": "stderr",
     "output_type": "stream",
     "text": [
      "/home/AD/tsainbur/anaconda3/envs/tfumap/lib/python3.7/site-packages/phate/phate.py:881: RuntimeWarning: Pre-fit PHATE should not be used to transform a new data matrix. Please fit PHATE to the new data by running 'fit' with the new data.\n",
      "  RuntimeWarning,\n"
     ]
    },
    {
     "name": "stdout",
     "output_type": "stream",
     "text": [
      "Calculated KNN search in 15.71 seconds.\n",
      "Calculating affinities...\n",
      "Calculated affinities in 0.44 seconds.\n"
     ]
    }
   ],
   "source": [
    "z_test = phate_op.transform(X_test)"
   ]
  },
  {
   "cell_type": "markdown",
   "metadata": {},
   "source": [
    "#### silhouette"
   ]
  },
  {
   "cell_type": "code",
   "execution_count": 19,
   "metadata": {
    "ExecuteTime": {
     "end_time": "2021-01-14T19:44:56.075580Z",
     "start_time": "2021-01-14T19:44:56.039446Z"
    }
   },
   "outputs": [],
   "source": [
    "from tfumap.silhouette import silhouette_score_block"
   ]
  },
  {
   "cell_type": "code",
   "execution_count": 20,
   "metadata": {
    "ExecuteTime": {
     "end_time": "2021-01-14T19:44:58.877461Z",
     "start_time": "2021-01-14T19:44:56.077195Z"
    }
   },
   "outputs": [
    {
     "data": {
      "text/plain": [
       "0.129812041400787"
      ]
     },
     "execution_count": 20,
     "metadata": {},
     "output_type": "execute_result"
    }
   ],
   "source": [
    "ss, sil_samp = silhouette_score_block(z, Y_train, n_jobs = -1)\n",
    "ss"
   ]
  },
  {
   "cell_type": "code",
   "execution_count": 21,
   "metadata": {
    "ExecuteTime": {
     "end_time": "2021-01-14T19:44:59.011625Z",
     "start_time": "2021-01-14T19:44:58.879200Z"
    }
   },
   "outputs": [
    {
     "data": {
      "text/plain": [
       "0.12804909265766737"
      ]
     },
     "execution_count": 21,
     "metadata": {},
     "output_type": "execute_result"
    }
   ],
   "source": [
    "ss_test, sil_samp_test = silhouette_score_block(z_test, Y_test, n_jobs = -1)\n",
    "ss_test"
   ]
  },
  {
   "cell_type": "code",
   "execution_count": 22,
   "metadata": {
    "ExecuteTime": {
     "end_time": "2021-01-14T19:44:59.744180Z",
     "start_time": "2021-01-14T19:44:59.012824Z"
    }
   },
   "outputs": [
    {
     "data": {
      "text/plain": [
       "<matplotlib.collections.PathCollection at 0x7f3dccaddc90>"
      ]
     },
     "execution_count": 22,
     "metadata": {},
     "output_type": "execute_result"
    },
    {
     "data": {
      "image/png": "[encoded data removed]",
      "text/plain": [
       "<Figure size 720x360 with 2 Axes>"
      ]
     },
     "metadata": {
      "needs_background": "light"
     },
     "output_type": "display_data"
    }
   ],
   "source": [
    "fig, axs = plt.subplots(ncols = 2, figsize=(10, 5))\n",
    "axs[0].scatter(z[:, 0], z[:, 1], s=0.1, alpha=0.5, c=sil_samp, cmap=plt.cm.viridis)\n",
    "axs[1].scatter(z_test[:, 0], z_test[:, 1], s=1, alpha=0.5, c=sil_samp_test, cmap=plt.cm.viridis)"
   ]
  },
  {
   "cell_type": "markdown",
   "metadata": {},
   "source": [
    "#### KNN"
   ]
  },
  {
   "cell_type": "code",
   "execution_count": 23,
   "metadata": {
    "ExecuteTime": {
     "end_time": "2021-01-14T19:44:59.774686Z",
     "start_time": "2021-01-14T19:44:59.745498Z"
    }
   },
   "outputs": [],
   "source": [
    "from sklearn.neighbors import KNeighborsClassifier"
   ]
  },
  {
   "cell_type": "code",
   "execution_count": 24,
   "metadata": {
    "ExecuteTime": {
     "end_time": "2021-01-14T19:45:00.079232Z",
     "start_time": "2021-01-14T19:44:59.778398Z"
    }
   },
   "outputs": [
    {
     "data": {
      "text/plain": [
       "0.7138"
      ]
     },
     "execution_count": 24,
     "metadata": {},
     "output_type": "execute_result"
    }
   ],
   "source": [
    "neigh5 = KNeighborsClassifier(n_neighbors=5)\n",
    "neigh5.fit(z, Y_train)\n",
    "score_5nn = neigh5.score(z_test, Y_test)\n",
    "score_5nn"
   ]
  },
  {
   "cell_type": "code",
   "execution_count": 25,
   "metadata": {
    "ExecuteTime": {
     "end_time": "2021-01-14T19:45:00.353829Z",
     "start_time": "2021-01-14T19:45:00.080807Z"
    }
   },
   "outputs": [
    {
     "data": {
      "text/plain": [
       "0.6655"
      ]
     },
     "execution_count": 25,
     "metadata": {},
     "output_type": "execute_result"
    }
   ],
   "source": [
    "neigh1 = KNeighborsClassifier(n_neighbors=1)\n",
    "neigh1.fit(z, Y_train)\n",
    "score_1nn = neigh1.score(z_test, Y_test)\n",
    "score_1nn"
   ]
  },
  {
   "cell_type": "markdown",
   "metadata": {},
   "source": [
    "#### Trustworthiness"
   ]
  },
  {
   "cell_type": "code",
   "execution_count": 26,
   "metadata": {
    "ExecuteTime": {
     "end_time": "2021-01-14T19:45:00.384400Z",
     "start_time": "2021-01-14T19:45:00.355462Z"
    }
   },
   "outputs": [],
   "source": [
    "from sklearn.manifold import trustworthiness"
   ]
  },
  {
   "cell_type": "code",
   "execution_count": 27,
   "metadata": {
    "ExecuteTime": {
     "end_time": "2021-01-14T19:45:09.885580Z",
     "start_time": "2021-01-14T19:45:00.385971Z"
    }
   },
   "outputs": [],
   "source": [
    "tw = trustworthiness(X_train_flat[:10000], z[:10000])"
   ]
  },
  {
   "cell_type": "code",
   "execution_count": 28,
   "metadata": {
    "ExecuteTime": {
     "end_time": "2021-01-14T19:45:19.252765Z",
     "start_time": "2021-01-14T19:45:09.887725Z"
    }
   },
   "outputs": [],
   "source": [
    "tw_test = trustworthiness(X_test_flat[:10000], z_test[:10000])"
   ]
  },
  {
   "cell_type": "code",
   "execution_count": 29,
   "metadata": {
    "ExecuteTime": {
     "end_time": "2021-01-14T19:45:19.288467Z",
     "start_time": "2021-01-14T19:45:19.254473Z"
    }
   },
   "outputs": [
    {
     "data": {
      "text/plain": [
       "(0.9494394455564451, 0.947450356285028)"
      ]
     },
     "execution_count": 29,
     "metadata": {},
     "output_type": "execute_result"
    }
   ],
   "source": [
    "tw, tw_test"
   ]
  },
  {
   "cell_type": "markdown",
   "metadata": {},
   "source": [
    "### Save output metrics"
   ]
  },
  {
   "cell_type": "code",
   "execution_count": 30,
   "metadata": {
    "ExecuteTime": {
     "end_time": "2021-01-14T19:45:19.314772Z",
     "start_time": "2021-01-14T19:45:19.289870Z"
    }
   },
   "outputs": [],
   "source": [
    "from tfumap.paths import ensure_dir, MODEL_DIR, DATA_DIR"
   ]
  },
  {
   "cell_type": "markdown",
   "metadata": {},
   "source": [
    "#### train"
   ]
  },
  {
   "cell_type": "code",
   "execution_count": 31,
   "metadata": {
    "ExecuteTime": {
     "end_time": "2021-01-14T19:45:19.357424Z",
     "start_time": "2021-01-14T19:45:19.316397Z"
    }
   },
   "outputs": [
    {
     "data": {
      "text/html": [
       "<div>\n",
       "<style scoped>\n",
       "    .dataframe tbody tr th:only-of-type {\n",
       "        vertical-align: middle;\n",
       "    }\n",
       "\n",
       "    .dataframe tbody tr th {\n",
       "        vertical-align: top;\n",
       "    }\n",
       "\n",
       "    .dataframe thead th {\n",
       "        text-align: right;\n",
       "    }\n",
       "</style>\n",
       "<table border=\"1\" class=\"dataframe\">\n",
       "  <thead>\n",
       "    <tr style=\"text-align: right;\">\n",
       "      <th></th>\n",
       "      <th>dataset</th>\n",
       "      <th>class_</th>\n",
       "      <th>dim</th>\n",
       "      <th>trustworthiness</th>\n",
       "      <th>silhouette_score</th>\n",
       "      <th>silhouette_samples</th>\n",
       "    </tr>\n",
       "  </thead>\n",
       "  <tbody>\n",
       "    <tr>\n",
       "      <th>0</th>\n",
       "      <td>fmnist</td>\n",
       "      <td>phate</td>\n",
       "      <td>2</td>\n",
       "      <td>0.949439</td>\n",
       "      <td>0.129812</td>\n",
       "      <td>[0.446127443631707, 0.3779580071622708, -0.054...</td>\n",
       "    </tr>\n",
       "  </tbody>\n",
       "</table>\n",
       "</div>"
      ],
      "text/plain": [
       "  dataset class_ dim  trustworthiness  silhouette_score  \\\n",
       "0  fmnist  phate   2         0.949439          0.129812   \n",
       "\n",
       "                                  silhouette_samples  \n",
       "0  [0.446127443631707, 0.3779580071622708, -0.054...  "
      ]
     },
     "execution_count": 31,
     "metadata": {},
     "output_type": "execute_result"
    }
   ],
   "source": [
    "metrics_df = pd.DataFrame(\n",
    "    columns=[\n",
    "        \"dataset\",\n",
    "        \"class_\",\n",
    "        \"dim\",\n",
    "        \"trustworthiness\",\n",
    "        \"silhouette_score\",\n",
    "        \"silhouette_samples\",\n",
    "    ]\n",
    ")\n",
    "metrics_df.loc[len(metrics_df)] = [dataset, algorithm, n_components, tw, ss, sil_samp]\n",
    "metrics_df"
   ]
  },
  {
   "cell_type": "code",
   "execution_count": 32,
   "metadata": {
    "ExecuteTime": {
     "end_time": "2021-01-14T19:45:19.415153Z",
     "start_time": "2021-01-14T19:45:19.359767Z"
    }
   },
   "outputs": [],
   "source": [
    "save_loc = DATA_DIR / 'projection_metrics' /  algorithm / 'train' / str(n_components) / (dataset + '.pickle')\n",
    "ensure_dir(save_loc)\n",
    "metrics_df.to_pickle(save_loc)"
   ]
  },
  {
   "cell_type": "markdown",
   "metadata": {},
   "source": [
    "#### test"
   ]
  },
  {
   "cell_type": "code",
   "execution_count": 33,
   "metadata": {
    "ExecuteTime": {
     "end_time": "2021-01-14T19:45:19.466684Z",
     "start_time": "2021-01-14T19:45:19.416817Z"
    }
   },
   "outputs": [
    {
     "data": {
      "text/html": [
       "<div>\n",
       "<style scoped>\n",
       "    .dataframe tbody tr th:only-of-type {\n",
       "        vertical-align: middle;\n",
       "    }\n",
       "\n",
       "    .dataframe tbody tr th {\n",
       "        vertical-align: top;\n",
       "    }\n",
       "\n",
       "    .dataframe thead th {\n",
       "        text-align: right;\n",
       "    }\n",
       "</style>\n",
       "<table border=\"1\" class=\"dataframe\">\n",
       "  <thead>\n",
       "    <tr style=\"text-align: right;\">\n",
       "      <th></th>\n",
       "      <th>dataset</th>\n",
       "      <th>class_</th>\n",
       "      <th>dim</th>\n",
       "      <th>trustworthiness</th>\n",
       "      <th>silhouette_score</th>\n",
       "      <th>silhouette_samples</th>\n",
       "    </tr>\n",
       "  </thead>\n",
       "  <tbody>\n",
       "    <tr>\n",
       "      <th>1</th>\n",
       "      <td>fmnist</td>\n",
       "      <td>phate</td>\n",
       "      <td>2</td>\n",
       "      <td>0.94745</td>\n",
       "      <td>0.128049</td>\n",
       "      <td>[0.12493260066231064, 0.12114442980520357, 0.6...</td>\n",
       "    </tr>\n",
       "  </tbody>\n",
       "</table>\n",
       "</div>"
      ],
      "text/plain": [
       "  dataset class_ dim  trustworthiness  silhouette_score  \\\n",
       "1  fmnist  phate   2          0.94745          0.128049   \n",
       "\n",
       "                                  silhouette_samples  \n",
       "1  [0.12493260066231064, 0.12114442980520357, 0.6...  "
      ]
     },
     "execution_count": 33,
     "metadata": {},
     "output_type": "execute_result"
    }
   ],
   "source": [
    "metrics_df_test = pd.DataFrame(\n",
    "    columns=[\n",
    "        \"dataset\",\n",
    "        \"class_\",\n",
    "        \"dim\",\n",
    "        \"trustworthiness\",\n",
    "        \"silhouette_score\",\n",
    "        \"silhouette_samples\",\n",
    "    ]\n",
    ")\n",
    "metrics_df_test.loc[len(metrics_df)] = [dataset, algorithm, n_components, tw_test, ss_test, sil_samp_test]\n",
    "metrics_df_test"
   ]
  },
  {
   "cell_type": "code",
   "execution_count": 34,
   "metadata": {
    "ExecuteTime": {
     "end_time": "2021-01-14T19:45:19.525717Z",
     "start_time": "2021-01-14T19:45:19.468256Z"
    }
   },
   "outputs": [],
   "source": [
    "save_loc = DATA_DIR / 'projection_metrics' / algorithm / 'test' / str(n_components) / (dataset + '.pickle')\n",
    "ensure_dir(save_loc)\n",
    "metrics_df.to_pickle(save_loc)"
   ]
  },
  {
   "cell_type": "markdown",
   "metadata": {},
   "source": [
    "#### knn "
   ]
  },
  {
   "cell_type": "code",
   "execution_count": 35,
   "metadata": {
    "ExecuteTime": {
     "end_time": "2021-01-14T19:45:19.566468Z",
     "start_time": "2021-01-14T19:45:19.527961Z"
    }
   },
   "outputs": [
    {
     "data": {
      "text/html": [
       "<div>\n",
       "<style scoped>\n",
       "    .dataframe tbody tr th:only-of-type {\n",
       "        vertical-align: middle;\n",
       "    }\n",
       "\n",
       "    .dataframe tbody tr th {\n",
       "        vertical-align: top;\n",
       "    }\n",
       "\n",
       "    .dataframe thead th {\n",
       "        text-align: right;\n",
       "    }\n",
       "</style>\n",
       "<table border=\"1\" class=\"dataframe\">\n",
       "  <thead>\n",
       "    <tr style=\"text-align: right;\">\n",
       "      <th></th>\n",
       "      <th>method_</th>\n",
       "      <th>dimensions</th>\n",
       "      <th>dataset</th>\n",
       "      <th>1NN_acc</th>\n",
       "      <th>5NN_acc</th>\n",
       "    </tr>\n",
       "  </thead>\n",
       "  <tbody>\n",
       "    <tr>\n",
       "      <th>0</th>\n",
       "      <td>phate</td>\n",
       "      <td>2</td>\n",
       "      <td>fmnist</td>\n",
       "      <td>0.6655</td>\n",
       "      <td>0.7138</td>\n",
       "    </tr>\n",
       "  </tbody>\n",
       "</table>\n",
       "</div>"
      ],
      "text/plain": [
       "  method_ dimensions dataset  1NN_acc  5NN_acc\n",
       "0   phate          2  fmnist   0.6655   0.7138"
      ]
     },
     "execution_count": 35,
     "metadata": {},
     "output_type": "execute_result"
    }
   ],
   "source": [
    "nn_acc_df = pd.DataFrame(columns = [\"method_\",\"dimensions\",\"dataset\",\"1NN_acc\",\"5NN_acc\"])\n",
    "nn_acc_df.loc[len(nn_acc_df)] = [algorithm, n_components, dataset,  score_1nn, score_5nn]\n",
    "nn_acc_df"
   ]
  },
  {
   "cell_type": "code",
   "execution_count": 36,
   "metadata": {
    "ExecuteTime": {
     "end_time": "2021-01-14T19:45:19.602853Z",
     "start_time": "2021-01-14T19:45:19.567787Z"
    }
   },
   "outputs": [],
   "source": [
    "save_loc = DATA_DIR / 'knn_classifier' / algorithm / 'train' / str(n_components) / (dataset + '.pickle')\n",
    "ensure_dir(save_loc)\n",
    "nn_acc_df.to_pickle(save_loc)"
   ]
  },
  {
   "cell_type": "markdown",
   "metadata": {},
   "source": [
    "### Compute clustering quality"
   ]
  },
  {
   "cell_type": "code",
   "execution_count": 37,
   "metadata": {
    "ExecuteTime": {
     "end_time": "2021-01-14T19:45:19.630176Z",
     "start_time": "2021-01-14T19:45:19.604049Z"
    }
   },
   "outputs": [],
   "source": [
    "from sklearn.cluster import KMeans\n",
    "from sklearn.metrics import homogeneity_completeness_v_measure"
   ]
  },
  {
   "cell_type": "code",
   "execution_count": 38,
   "metadata": {
    "ExecuteTime": {
     "end_time": "2021-01-14T19:45:19.659871Z",
     "start_time": "2021-01-14T19:45:19.631754Z"
    }
   },
   "outputs": [],
   "source": [
    "def get_cluster_metrics(row, n_init=5):\n",
    "    \n",
    "    # load cluster information\n",
    "    save_loc = DATA_DIR / 'clustering_metric_df'/ ('_'.join([row.class_, str(row.dim), row.dataset]) + '.pickle')\n",
    "    print(save_loc)\n",
    "    if save_loc.exists() and save_loc.is_file():\n",
    "        \n",
    "        cluster_df = pd.read_pickle(save_loc)\n",
    "        return cluster_df\n",
    "    \n",
    "    # make cluster metric dataframe\n",
    "    cluster_df = pd.DataFrame(\n",
    "        columns=[\n",
    "            \"dataset\",\n",
    "            \"class_\",\n",
    "            \"dim\",\n",
    "            \"silhouette\",\n",
    "            \"homogeneity\",\n",
    "            \"completeness\",\n",
    "            \"v_measure\",\n",
    "            \"init_\",\n",
    "            \"n_clusters\",\n",
    "            \"model\",\n",
    "        ]\n",
    "    )\n",
    "    y = row.train_label\n",
    "    z = row.train_z\n",
    "    n_labels = len(np.unique(y))\n",
    "    for n_clusters in tqdm(np.arange(n_labels - int(n_labels / 2), n_labels + int(n_labels / 2)), leave=False, desc = 'n_clusters'):\n",
    "        for init_ in tqdm(range(n_init), leave=False, desc='init'):\n",
    "            kmeans = KMeans(n_clusters=n_clusters, random_state=init_).fit(z)\n",
    "            clustered_y = kmeans.labels_\n",
    "            homogeneity, completeness, v_measure = homogeneity_completeness_v_measure(\n",
    "                y, clustered_y\n",
    "            )\n",
    "            ss, _ = silhouette_score_block(z, clustered_y)\n",
    "            cluster_df.loc[len(cluster_df)] = [\n",
    "                row.dataset,\n",
    "                row.class_,\n",
    "                row.dim,\n",
    "                ss,\n",
    "                homogeneity,\n",
    "                completeness,\n",
    "                v_measure,\n",
    "                init_,\n",
    "                n_clusters,\n",
    "                kmeans,\n",
    "            ]\n",
    "    \n",
    "     # save cluster df in case this fails somewhere\n",
    "    ensure_dir(save_loc)\n",
    "    cluster_df.to_pickle(save_loc)\n",
    "    return cluster_df"
   ]
  },
  {
   "cell_type": "code",
   "execution_count": 39,
   "metadata": {
    "ExecuteTime": {
     "end_time": "2021-01-14T19:45:19.718048Z",
     "start_time": "2021-01-14T19:45:19.661175Z"
    }
   },
   "outputs": [
    {
     "data": {
      "text/html": [
       "<div>\n",
       "<style scoped>\n",
       "    .dataframe tbody tr th:only-of-type {\n",
       "        vertical-align: middle;\n",
       "    }\n",
       "\n",
       "    .dataframe tbody tr th {\n",
       "        vertical-align: top;\n",
       "    }\n",
       "\n",
       "    .dataframe thead th {\n",
       "        text-align: right;\n",
       "    }\n",
       "</style>\n",
       "<table border=\"1\" class=\"dataframe\">\n",
       "  <thead>\n",
       "    <tr style=\"text-align: right;\">\n",
       "      <th></th>\n",
       "      <th>dataset</th>\n",
       "      <th>class_</th>\n",
       "      <th>train_z</th>\n",
       "      <th>train_label</th>\n",
       "      <th>dim</th>\n",
       "    </tr>\n",
       "  </thead>\n",
       "  <tbody>\n",
       "    <tr>\n",
       "      <th>0</th>\n",
       "      <td>fmnist</td>\n",
       "      <td>phate</td>\n",
       "      <td>[[0.025477627435757755, -0.007334513758119133]...</td>\n",
       "      <td>[9, 0, 0, 3, 0, 2, 7, 2, 5, 5, 0, 9, 5, 5, 7, ...</td>\n",
       "      <td>2</td>\n",
       "    </tr>\n",
       "  </tbody>\n",
       "</table>\n",
       "</div>"
      ],
      "text/plain": [
       "  dataset class_                                            train_z  \\\n",
       "0  fmnist  phate  [[0.025477627435757755, -0.007334513758119133]...   \n",
       "\n",
       "                                         train_label dim  \n",
       "0  [9, 0, 0, 3, 0, 2, 7, 2, 5, 5, 0, 9, 5, 5, 7, ...   2  "
      ]
     },
     "execution_count": 39,
     "metadata": {},
     "output_type": "execute_result"
    }
   ],
   "source": [
    "projection_df = pd.DataFrame(columns = ['dataset', 'class_', 'train_z', 'train_label', 'dim'])\n",
    "projection_df.loc[len(projection_df)] = [dataset, algorithm, z, Y_train, n_components]\n",
    "projection_df"
   ]
  },
  {
   "cell_type": "code",
   "execution_count": 40,
   "metadata": {
    "ExecuteTime": {
     "end_time": "2021-01-14T19:45:19.799560Z",
     "start_time": "2021-01-14T19:45:19.720854Z"
    }
   },
   "outputs": [
    {
     "name": "stdout",
     "output_type": "stream",
     "text": [
      "/mnt/cube/tsainbur/Projects/github_repos/umap_tf_networks/data/clustering_metric_df/phate_2_fmnist.pickle\n"
     ]
    },
    {
     "data": {
      "text/html": [
       "<div>\n",
       "<style scoped>\n",
       "    .dataframe tbody tr th:only-of-type {\n",
       "        vertical-align: middle;\n",
       "    }\n",
       "\n",
       "    .dataframe tbody tr th {\n",
       "        vertical-align: top;\n",
       "    }\n",
       "\n",
       "    .dataframe thead th {\n",
       "        text-align: right;\n",
       "    }\n",
       "</style>\n",
       "<table border=\"1\" class=\"dataframe\">\n",
       "  <thead>\n",
       "    <tr style=\"text-align: right;\">\n",
       "      <th></th>\n",
       "      <th>dataset</th>\n",
       "      <th>class_</th>\n",
       "      <th>dim</th>\n",
       "      <th>silhouette</th>\n",
       "      <th>homogeneity</th>\n",
       "      <th>completeness</th>\n",
       "      <th>v_measure</th>\n",
       "      <th>init_</th>\n",
       "      <th>n_clusters</th>\n",
       "      <th>model</th>\n",
       "    </tr>\n",
       "  </thead>\n",
       "  <tbody>\n",
       "    <tr>\n",
       "      <th>0</th>\n",
       "      <td>fmnist</td>\n",
       "      <td>phate</td>\n",
       "      <td>2</td>\n",
       "      <td>0.488025</td>\n",
       "      <td>0.467456</td>\n",
       "      <td>0.698975</td>\n",
       "      <td>0.560239</td>\n",
       "      <td>0</td>\n",
       "      <td>5</td>\n",
       "      <td>KMeans(n_clusters=5, random_state=0)</td>\n",
       "    </tr>\n",
       "    <tr>\n",
       "      <th>1</th>\n",
       "      <td>fmnist</td>\n",
       "      <td>phate</td>\n",
       "      <td>2</td>\n",
       "      <td>0.489533</td>\n",
       "      <td>0.464825</td>\n",
       "      <td>0.697240</td>\n",
       "      <td>0.557791</td>\n",
       "      <td>1</td>\n",
       "      <td>5</td>\n",
       "      <td>KMeans(n_clusters=5, random_state=1)</td>\n",
       "    </tr>\n",
       "    <tr>\n",
       "      <th>2</th>\n",
       "      <td>fmnist</td>\n",
       "      <td>phate</td>\n",
       "      <td>2</td>\n",
       "      <td>0.488108</td>\n",
       "      <td>0.467336</td>\n",
       "      <td>0.698784</td>\n",
       "      <td>0.560091</td>\n",
       "      <td>2</td>\n",
       "      <td>5</td>\n",
       "      <td>KMeans(n_clusters=5, random_state=2)</td>\n",
       "    </tr>\n",
       "    <tr>\n",
       "      <th>3</th>\n",
       "      <td>fmnist</td>\n",
       "      <td>phate</td>\n",
       "      <td>2</td>\n",
       "      <td>0.488865</td>\n",
       "      <td>0.464546</td>\n",
       "      <td>0.696464</td>\n",
       "      <td>0.557342</td>\n",
       "      <td>3</td>\n",
       "      <td>5</td>\n",
       "      <td>KMeans(n_clusters=5, random_state=3)</td>\n",
       "    </tr>\n",
       "    <tr>\n",
       "      <th>4</th>\n",
       "      <td>fmnist</td>\n",
       "      <td>phate</td>\n",
       "      <td>2</td>\n",
       "      <td>0.490348</td>\n",
       "      <td>0.465087</td>\n",
       "      <td>0.697418</td>\n",
       "      <td>0.558036</td>\n",
       "      <td>4</td>\n",
       "      <td>5</td>\n",
       "      <td>KMeans(n_clusters=5, random_state=4)</td>\n",
       "    </tr>\n",
       "    <tr>\n",
       "      <th>5</th>\n",
       "      <td>fmnist</td>\n",
       "      <td>phate</td>\n",
       "      <td>2</td>\n",
       "      <td>0.520811</td>\n",
       "      <td>0.547211</td>\n",
       "      <td>0.733561</td>\n",
       "      <td>0.626829</td>\n",
       "      <td>0</td>\n",
       "      <td>6</td>\n",
       "      <td>KMeans(n_clusters=6, random_state=0)</td>\n",
       "    </tr>\n",
       "    <tr>\n",
       "      <th>6</th>\n",
       "      <td>fmnist</td>\n",
       "      <td>phate</td>\n",
       "      <td>2</td>\n",
       "      <td>0.520772</td>\n",
       "      <td>0.547029</td>\n",
       "      <td>0.733240</td>\n",
       "      <td>0.626593</td>\n",
       "      <td>1</td>\n",
       "      <td>6</td>\n",
       "      <td>KMeans(n_clusters=6, random_state=1)</td>\n",
       "    </tr>\n",
       "    <tr>\n",
       "      <th>7</th>\n",
       "      <td>fmnist</td>\n",
       "      <td>phate</td>\n",
       "      <td>2</td>\n",
       "      <td>0.520881</td>\n",
       "      <td>0.546989</td>\n",
       "      <td>0.733617</td>\n",
       "      <td>0.626704</td>\n",
       "      <td>2</td>\n",
       "      <td>6</td>\n",
       "      <td>KMeans(n_clusters=6, random_state=2)</td>\n",
       "    </tr>\n",
       "    <tr>\n",
       "      <th>8</th>\n",
       "      <td>fmnist</td>\n",
       "      <td>phate</td>\n",
       "      <td>2</td>\n",
       "      <td>0.520792</td>\n",
       "      <td>0.547049</td>\n",
       "      <td>0.733345</td>\n",
       "      <td>0.626644</td>\n",
       "      <td>3</td>\n",
       "      <td>6</td>\n",
       "      <td>KMeans(n_clusters=6, random_state=3)</td>\n",
       "    </tr>\n",
       "    <tr>\n",
       "      <th>9</th>\n",
       "      <td>fmnist</td>\n",
       "      <td>phate</td>\n",
       "      <td>2</td>\n",
       "      <td>0.520883</td>\n",
       "      <td>0.546838</td>\n",
       "      <td>0.733505</td>\n",
       "      <td>0.626564</td>\n",
       "      <td>4</td>\n",
       "      <td>6</td>\n",
       "      <td>KMeans(n_clusters=6, random_state=4)</td>\n",
       "    </tr>\n",
       "    <tr>\n",
       "      <th>10</th>\n",
       "      <td>fmnist</td>\n",
       "      <td>phate</td>\n",
       "      <td>2</td>\n",
       "      <td>0.497764</td>\n",
       "      <td>0.540227</td>\n",
       "      <td>0.656474</td>\n",
       "      <td>0.592705</td>\n",
       "      <td>0</td>\n",
       "      <td>7</td>\n",
       "      <td>KMeans(n_clusters=7, random_state=0)</td>\n",
       "    </tr>\n",
       "    <tr>\n",
       "      <th>11</th>\n",
       "      <td>fmnist</td>\n",
       "      <td>phate</td>\n",
       "      <td>2</td>\n",
       "      <td>0.497700</td>\n",
       "      <td>0.540477</td>\n",
       "      <td>0.656983</td>\n",
       "      <td>0.593062</td>\n",
       "      <td>1</td>\n",
       "      <td>7</td>\n",
       "      <td>KMeans(n_clusters=7, random_state=1)</td>\n",
       "    </tr>\n",
       "    <tr>\n",
       "      <th>12</th>\n",
       "      <td>fmnist</td>\n",
       "      <td>phate</td>\n",
       "      <td>2</td>\n",
       "      <td>0.497610</td>\n",
       "      <td>0.540421</td>\n",
       "      <td>0.656366</td>\n",
       "      <td>0.592777</td>\n",
       "      <td>2</td>\n",
       "      <td>7</td>\n",
       "      <td>KMeans(n_clusters=7, random_state=2)</td>\n",
       "    </tr>\n",
       "    <tr>\n",
       "      <th>13</th>\n",
       "      <td>fmnist</td>\n",
       "      <td>phate</td>\n",
       "      <td>2</td>\n",
       "      <td>0.497680</td>\n",
       "      <td>0.540409</td>\n",
       "      <td>0.656411</td>\n",
       "      <td>0.592788</td>\n",
       "      <td>3</td>\n",
       "      <td>7</td>\n",
       "      <td>KMeans(n_clusters=7, random_state=3)</td>\n",
       "    </tr>\n",
       "    <tr>\n",
       "      <th>14</th>\n",
       "      <td>fmnist</td>\n",
       "      <td>phate</td>\n",
       "      <td>2</td>\n",
       "      <td>0.497793</td>\n",
       "      <td>0.540241</td>\n",
       "      <td>0.656498</td>\n",
       "      <td>0.592722</td>\n",
       "      <td>4</td>\n",
       "      <td>7</td>\n",
       "      <td>KMeans(n_clusters=7, random_state=4)</td>\n",
       "    </tr>\n",
       "    <tr>\n",
       "      <th>15</th>\n",
       "      <td>fmnist</td>\n",
       "      <td>phate</td>\n",
       "      <td>2</td>\n",
       "      <td>0.500070</td>\n",
       "      <td>0.563014</td>\n",
       "      <td>0.635406</td>\n",
       "      <td>0.597024</td>\n",
       "      <td>0</td>\n",
       "      <td>8</td>\n",
       "      <td>KMeans(random_state=0)</td>\n",
       "    </tr>\n",
       "    <tr>\n",
       "      <th>16</th>\n",
       "      <td>fmnist</td>\n",
       "      <td>phate</td>\n",
       "      <td>2</td>\n",
       "      <td>0.500178</td>\n",
       "      <td>0.562847</td>\n",
       "      <td>0.635326</td>\n",
       "      <td>0.596894</td>\n",
       "      <td>1</td>\n",
       "      <td>8</td>\n",
       "      <td>KMeans(random_state=1)</td>\n",
       "    </tr>\n",
       "    <tr>\n",
       "      <th>17</th>\n",
       "      <td>fmnist</td>\n",
       "      <td>phate</td>\n",
       "      <td>2</td>\n",
       "      <td>0.500149</td>\n",
       "      <td>0.562933</td>\n",
       "      <td>0.635406</td>\n",
       "      <td>0.596978</td>\n",
       "      <td>2</td>\n",
       "      <td>8</td>\n",
       "      <td>KMeans(random_state=2)</td>\n",
       "    </tr>\n",
       "    <tr>\n",
       "      <th>18</th>\n",
       "      <td>fmnist</td>\n",
       "      <td>phate</td>\n",
       "      <td>2</td>\n",
       "      <td>0.499969</td>\n",
       "      <td>0.563228</td>\n",
       "      <td>0.635665</td>\n",
       "      <td>0.597259</td>\n",
       "      <td>3</td>\n",
       "      <td>8</td>\n",
       "      <td>KMeans(random_state=3)</td>\n",
       "    </tr>\n",
       "    <tr>\n",
       "      <th>19</th>\n",
       "      <td>fmnist</td>\n",
       "      <td>phate</td>\n",
       "      <td>2</td>\n",
       "      <td>0.500438</td>\n",
       "      <td>0.562773</td>\n",
       "      <td>0.635140</td>\n",
       "      <td>0.596771</td>\n",
       "      <td>4</td>\n",
       "      <td>8</td>\n",
       "      <td>KMeans(random_state=4)</td>\n",
       "    </tr>\n",
       "    <tr>\n",
       "      <th>20</th>\n",
       "      <td>fmnist</td>\n",
       "      <td>phate</td>\n",
       "      <td>2</td>\n",
       "      <td>0.488993</td>\n",
       "      <td>0.568753</td>\n",
       "      <td>0.609518</td>\n",
       "      <td>0.588431</td>\n",
       "      <td>0</td>\n",
       "      <td>9</td>\n",
       "      <td>KMeans(n_clusters=9, random_state=0)</td>\n",
       "    </tr>\n",
       "    <tr>\n",
       "      <th>21</th>\n",
       "      <td>fmnist</td>\n",
       "      <td>phate</td>\n",
       "      <td>2</td>\n",
       "      <td>0.489468</td>\n",
       "      <td>0.568357</td>\n",
       "      <td>0.609163</td>\n",
       "      <td>0.588053</td>\n",
       "      <td>1</td>\n",
       "      <td>9</td>\n",
       "      <td>KMeans(n_clusters=9, random_state=1)</td>\n",
       "    </tr>\n",
       "    <tr>\n",
       "      <th>22</th>\n",
       "      <td>fmnist</td>\n",
       "      <td>phate</td>\n",
       "      <td>2</td>\n",
       "      <td>0.489120</td>\n",
       "      <td>0.568569</td>\n",
       "      <td>0.609408</td>\n",
       "      <td>0.588281</td>\n",
       "      <td>2</td>\n",
       "      <td>9</td>\n",
       "      <td>KMeans(n_clusters=9, random_state=2)</td>\n",
       "    </tr>\n",
       "    <tr>\n",
       "      <th>23</th>\n",
       "      <td>fmnist</td>\n",
       "      <td>phate</td>\n",
       "      <td>2</td>\n",
       "      <td>0.489387</td>\n",
       "      <td>0.568329</td>\n",
       "      <td>0.608986</td>\n",
       "      <td>0.587955</td>\n",
       "      <td>3</td>\n",
       "      <td>9</td>\n",
       "      <td>KMeans(n_clusters=9, random_state=3)</td>\n",
       "    </tr>\n",
       "    <tr>\n",
       "      <th>24</th>\n",
       "      <td>fmnist</td>\n",
       "      <td>phate</td>\n",
       "      <td>2</td>\n",
       "      <td>0.488728</td>\n",
       "      <td>0.569029</td>\n",
       "      <td>0.609698</td>\n",
       "      <td>0.588662</td>\n",
       "      <td>4</td>\n",
       "      <td>9</td>\n",
       "      <td>KMeans(n_clusters=9, random_state=4)</td>\n",
       "    </tr>\n",
       "    <tr>\n",
       "      <th>25</th>\n",
       "      <td>fmnist</td>\n",
       "      <td>phate</td>\n",
       "      <td>2</td>\n",
       "      <td>0.488065</td>\n",
       "      <td>0.573911</td>\n",
       "      <td>0.584780</td>\n",
       "      <td>0.579294</td>\n",
       "      <td>0</td>\n",
       "      <td>10</td>\n",
       "      <td>KMeans(n_clusters=10, random_state=0)</td>\n",
       "    </tr>\n",
       "    <tr>\n",
       "      <th>26</th>\n",
       "      <td>fmnist</td>\n",
       "      <td>phate</td>\n",
       "      <td>2</td>\n",
       "      <td>0.488093</td>\n",
       "      <td>0.573950</td>\n",
       "      <td>0.584763</td>\n",
       "      <td>0.579306</td>\n",
       "      <td>1</td>\n",
       "      <td>10</td>\n",
       "      <td>KMeans(n_clusters=10, random_state=1)</td>\n",
       "    </tr>\n",
       "    <tr>\n",
       "      <th>27</th>\n",
       "      <td>fmnist</td>\n",
       "      <td>phate</td>\n",
       "      <td>2</td>\n",
       "      <td>0.488226</td>\n",
       "      <td>0.573914</td>\n",
       "      <td>0.584786</td>\n",
       "      <td>0.579299</td>\n",
       "      <td>2</td>\n",
       "      <td>10</td>\n",
       "      <td>KMeans(n_clusters=10, random_state=2)</td>\n",
       "    </tr>\n",
       "    <tr>\n",
       "      <th>28</th>\n",
       "      <td>fmnist</td>\n",
       "      <td>phate</td>\n",
       "      <td>2</td>\n",
       "      <td>0.488065</td>\n",
       "      <td>0.573992</td>\n",
       "      <td>0.584791</td>\n",
       "      <td>0.579342</td>\n",
       "      <td>3</td>\n",
       "      <td>10</td>\n",
       "      <td>KMeans(n_clusters=10, random_state=3)</td>\n",
       "    </tr>\n",
       "    <tr>\n",
       "      <th>29</th>\n",
       "      <td>fmnist</td>\n",
       "      <td>phate</td>\n",
       "      <td>2</td>\n",
       "      <td>0.488285</td>\n",
       "      <td>0.574008</td>\n",
       "      <td>0.584867</td>\n",
       "      <td>0.579387</td>\n",
       "      <td>4</td>\n",
       "      <td>10</td>\n",
       "      <td>KMeans(n_clusters=10, random_state=4)</td>\n",
       "    </tr>\n",
       "    <tr>\n",
       "      <th>30</th>\n",
       "      <td>fmnist</td>\n",
       "      <td>phate</td>\n",
       "      <td>2</td>\n",
       "      <td>0.481226</td>\n",
       "      <td>0.576586</td>\n",
       "      <td>0.572465</td>\n",
       "      <td>0.574518</td>\n",
       "      <td>0</td>\n",
       "      <td>11</td>\n",
       "      <td>KMeans(n_clusters=11, random_state=0)</td>\n",
       "    </tr>\n",
       "    <tr>\n",
       "      <th>31</th>\n",
       "      <td>fmnist</td>\n",
       "      <td>phate</td>\n",
       "      <td>2</td>\n",
       "      <td>0.486168</td>\n",
       "      <td>0.584322</td>\n",
       "      <td>0.578952</td>\n",
       "      <td>0.581624</td>\n",
       "      <td>1</td>\n",
       "      <td>11</td>\n",
       "      <td>KMeans(n_clusters=11, random_state=1)</td>\n",
       "    </tr>\n",
       "    <tr>\n",
       "      <th>32</th>\n",
       "      <td>fmnist</td>\n",
       "      <td>phate</td>\n",
       "      <td>2</td>\n",
       "      <td>0.483801</td>\n",
       "      <td>0.583158</td>\n",
       "      <td>0.577376</td>\n",
       "      <td>0.580253</td>\n",
       "      <td>2</td>\n",
       "      <td>11</td>\n",
       "      <td>KMeans(n_clusters=11, random_state=2)</td>\n",
       "    </tr>\n",
       "    <tr>\n",
       "      <th>33</th>\n",
       "      <td>fmnist</td>\n",
       "      <td>phate</td>\n",
       "      <td>2</td>\n",
       "      <td>0.485945</td>\n",
       "      <td>0.584180</td>\n",
       "      <td>0.578819</td>\n",
       "      <td>0.581487</td>\n",
       "      <td>3</td>\n",
       "      <td>11</td>\n",
       "      <td>KMeans(n_clusters=11, random_state=3)</td>\n",
       "    </tr>\n",
       "    <tr>\n",
       "      <th>34</th>\n",
       "      <td>fmnist</td>\n",
       "      <td>phate</td>\n",
       "      <td>2</td>\n",
       "      <td>0.486317</td>\n",
       "      <td>0.584228</td>\n",
       "      <td>0.579098</td>\n",
       "      <td>0.581651</td>\n",
       "      <td>4</td>\n",
       "      <td>11</td>\n",
       "      <td>KMeans(n_clusters=11, random_state=4)</td>\n",
       "    </tr>\n",
       "    <tr>\n",
       "      <th>35</th>\n",
       "      <td>fmnist</td>\n",
       "      <td>phate</td>\n",
       "      <td>2</td>\n",
       "      <td>0.457812</td>\n",
       "      <td>0.586678</td>\n",
       "      <td>0.553209</td>\n",
       "      <td>0.569452</td>\n",
       "      <td>0</td>\n",
       "      <td>12</td>\n",
       "      <td>KMeans(n_clusters=12, random_state=0)</td>\n",
       "    </tr>\n",
       "    <tr>\n",
       "      <th>36</th>\n",
       "      <td>fmnist</td>\n",
       "      <td>phate</td>\n",
       "      <td>2</td>\n",
       "      <td>0.458183</td>\n",
       "      <td>0.586234</td>\n",
       "      <td>0.553047</td>\n",
       "      <td>0.569157</td>\n",
       "      <td>1</td>\n",
       "      <td>12</td>\n",
       "      <td>KMeans(n_clusters=12, random_state=1)</td>\n",
       "    </tr>\n",
       "    <tr>\n",
       "      <th>37</th>\n",
       "      <td>fmnist</td>\n",
       "      <td>phate</td>\n",
       "      <td>2</td>\n",
       "      <td>0.456559</td>\n",
       "      <td>0.587237</td>\n",
       "      <td>0.554242</td>\n",
       "      <td>0.570263</td>\n",
       "      <td>2</td>\n",
       "      <td>12</td>\n",
       "      <td>KMeans(n_clusters=12, random_state=2)</td>\n",
       "    </tr>\n",
       "    <tr>\n",
       "      <th>38</th>\n",
       "      <td>fmnist</td>\n",
       "      <td>phate</td>\n",
       "      <td>2</td>\n",
       "      <td>0.457777</td>\n",
       "      <td>0.586443</td>\n",
       "      <td>0.552991</td>\n",
       "      <td>0.569226</td>\n",
       "      <td>3</td>\n",
       "      <td>12</td>\n",
       "      <td>KMeans(n_clusters=12, random_state=3)</td>\n",
       "    </tr>\n",
       "    <tr>\n",
       "      <th>39</th>\n",
       "      <td>fmnist</td>\n",
       "      <td>phate</td>\n",
       "      <td>2</td>\n",
       "      <td>0.453109</td>\n",
       "      <td>0.578542</td>\n",
       "      <td>0.546681</td>\n",
       "      <td>0.562160</td>\n",
       "      <td>4</td>\n",
       "      <td>12</td>\n",
       "      <td>KMeans(n_clusters=12, random_state=4)</td>\n",
       "    </tr>\n",
       "    <tr>\n",
       "      <th>40</th>\n",
       "      <td>fmnist</td>\n",
       "      <td>phate</td>\n",
       "      <td>2</td>\n",
       "      <td>0.440020</td>\n",
       "      <td>0.590681</td>\n",
       "      <td>0.540140</td>\n",
       "      <td>0.564281</td>\n",
       "      <td>0</td>\n",
       "      <td>13</td>\n",
       "      <td>KMeans(n_clusters=13, random_state=0)</td>\n",
       "    </tr>\n",
       "    <tr>\n",
       "      <th>41</th>\n",
       "      <td>fmnist</td>\n",
       "      <td>phate</td>\n",
       "      <td>2</td>\n",
       "      <td>0.437709</td>\n",
       "      <td>0.591471</td>\n",
       "      <td>0.540525</td>\n",
       "      <td>0.564851</td>\n",
       "      <td>1</td>\n",
       "      <td>13</td>\n",
       "      <td>KMeans(n_clusters=13, random_state=1)</td>\n",
       "    </tr>\n",
       "    <tr>\n",
       "      <th>42</th>\n",
       "      <td>fmnist</td>\n",
       "      <td>phate</td>\n",
       "      <td>2</td>\n",
       "      <td>0.435053</td>\n",
       "      <td>0.585208</td>\n",
       "      <td>0.534503</td>\n",
       "      <td>0.558708</td>\n",
       "      <td>2</td>\n",
       "      <td>13</td>\n",
       "      <td>KMeans(n_clusters=13, random_state=2)</td>\n",
       "    </tr>\n",
       "    <tr>\n",
       "      <th>43</th>\n",
       "      <td>fmnist</td>\n",
       "      <td>phate</td>\n",
       "      <td>2</td>\n",
       "      <td>0.463515</td>\n",
       "      <td>0.595256</td>\n",
       "      <td>0.545385</td>\n",
       "      <td>0.569231</td>\n",
       "      <td>3</td>\n",
       "      <td>13</td>\n",
       "      <td>KMeans(n_clusters=13, random_state=3)</td>\n",
       "    </tr>\n",
       "    <tr>\n",
       "      <th>44</th>\n",
       "      <td>fmnist</td>\n",
       "      <td>phate</td>\n",
       "      <td>2</td>\n",
       "      <td>0.438741</td>\n",
       "      <td>0.589642</td>\n",
       "      <td>0.538585</td>\n",
       "      <td>0.562958</td>\n",
       "      <td>4</td>\n",
       "      <td>13</td>\n",
       "      <td>KMeans(n_clusters=13, random_state=4)</td>\n",
       "    </tr>\n",
       "    <tr>\n",
       "      <th>45</th>\n",
       "      <td>fmnist</td>\n",
       "      <td>phate</td>\n",
       "      <td>2</td>\n",
       "      <td>0.443665</td>\n",
       "      <td>0.599647</td>\n",
       "      <td>0.532015</td>\n",
       "      <td>0.563810</td>\n",
       "      <td>0</td>\n",
       "      <td>14</td>\n",
       "      <td>KMeans(n_clusters=14, random_state=0)</td>\n",
       "    </tr>\n",
       "    <tr>\n",
       "      <th>46</th>\n",
       "      <td>fmnist</td>\n",
       "      <td>phate</td>\n",
       "      <td>2</td>\n",
       "      <td>0.440239</td>\n",
       "      <td>0.587612</td>\n",
       "      <td>0.527172</td>\n",
       "      <td>0.555754</td>\n",
       "      <td>1</td>\n",
       "      <td>14</td>\n",
       "      <td>KMeans(n_clusters=14, random_state=1)</td>\n",
       "    </tr>\n",
       "    <tr>\n",
       "      <th>47</th>\n",
       "      <td>fmnist</td>\n",
       "      <td>phate</td>\n",
       "      <td>2</td>\n",
       "      <td>0.441181</td>\n",
       "      <td>0.594487</td>\n",
       "      <td>0.528139</td>\n",
       "      <td>0.559353</td>\n",
       "      <td>2</td>\n",
       "      <td>14</td>\n",
       "      <td>KMeans(n_clusters=14, random_state=2)</td>\n",
       "    </tr>\n",
       "    <tr>\n",
       "      <th>48</th>\n",
       "      <td>fmnist</td>\n",
       "      <td>phate</td>\n",
       "      <td>2</td>\n",
       "      <td>0.415800</td>\n",
       "      <td>0.590993</td>\n",
       "      <td>0.525783</td>\n",
       "      <td>0.556484</td>\n",
       "      <td>3</td>\n",
       "      <td>14</td>\n",
       "      <td>KMeans(n_clusters=14, random_state=3)</td>\n",
       "    </tr>\n",
       "    <tr>\n",
       "      <th>49</th>\n",
       "      <td>fmnist</td>\n",
       "      <td>phate</td>\n",
       "      <td>2</td>\n",
       "      <td>0.444586</td>\n",
       "      <td>0.599509</td>\n",
       "      <td>0.532357</td>\n",
       "      <td>0.563941</td>\n",
       "      <td>4</td>\n",
       "      <td>14</td>\n",
       "      <td>KMeans(n_clusters=14, random_state=4)</td>\n",
       "    </tr>\n",
       "  </tbody>\n",
       "</table>\n",
       "</div>"
      ],
      "text/plain": [
       "   dataset class_ dim  silhouette  homogeneity  completeness  v_measure init_  \\\n",
       "0   fmnist  phate   2    0.488025     0.467456      0.698975   0.560239     0   \n",
       "1   fmnist  phate   2    0.489533     0.464825      0.697240   0.557791     1   \n",
       "2   fmnist  phate   2    0.488108     0.467336      0.698784   0.560091     2   \n",
       "3   fmnist  phate   2    0.488865     0.464546      0.696464   0.557342     3   \n",
       "4   fmnist  phate   2    0.490348     0.465087      0.697418   0.558036     4   \n",
       "5   fmnist  phate   2    0.520811     0.547211      0.733561   0.626829     0   \n",
       "6   fmnist  phate   2    0.520772     0.547029      0.733240   0.626593     1   \n",
       "7   fmnist  phate   2    0.520881     0.546989      0.733617   0.626704     2   \n",
       "8   fmnist  phate   2    0.520792     0.547049      0.733345   0.626644     3   \n",
       "9   fmnist  phate   2    0.520883     0.546838      0.733505   0.626564     4   \n",
       "10  fmnist  phate   2    0.497764     0.540227      0.656474   0.592705     0   \n",
       "11  fmnist  phate   2    0.497700     0.540477      0.656983   0.593062     1   \n",
       "12  fmnist  phate   2    0.497610     0.540421      0.656366   0.592777     2   \n",
       "13  fmnist  phate   2    0.497680     0.540409      0.656411   0.592788     3   \n",
       "14  fmnist  phate   2    0.497793     0.540241      0.656498   0.592722     4   \n",
       "15  fmnist  phate   2    0.500070     0.563014      0.635406   0.597024     0   \n",
       "16  fmnist  phate   2    0.500178     0.562847      0.635326   0.596894     1   \n",
       "17  fmnist  phate   2    0.500149     0.562933      0.635406   0.596978     2   \n",
       "18  fmnist  phate   2    0.499969     0.563228      0.635665   0.597259     3   \n",
       "19  fmnist  phate   2    0.500438     0.562773      0.635140   0.596771     4   \n",
       "20  fmnist  phate   2    0.488993     0.568753      0.609518   0.588431     0   \n",
       "21  fmnist  phate   2    0.489468     0.568357      0.609163   0.588053     1   \n",
       "22  fmnist  phate   2    0.489120     0.568569      0.609408   0.588281     2   \n",
       "23  fmnist  phate   2    0.489387     0.568329      0.608986   0.587955     3   \n",
       "24  fmnist  phate   2    0.488728     0.569029      0.609698   0.588662     4   \n",
       "25  fmnist  phate   2    0.488065     0.573911      0.584780   0.579294     0   \n",
       "26  fmnist  phate   2    0.488093     0.573950      0.584763   0.579306     1   \n",
       "27  fmnist  phate   2    0.488226     0.573914      0.584786   0.579299     2   \n",
       "28  fmnist  phate   2    0.488065     0.573992      0.584791   0.579342     3   \n",
       "29  fmnist  phate   2    0.488285     0.574008      0.584867   0.579387     4   \n",
       "30  fmnist  phate   2    0.481226     0.576586      0.572465   0.574518     0   \n",
       "31  fmnist  phate   2    0.486168     0.584322      0.578952   0.581624     1   \n",
       "32  fmnist  phate   2    0.483801     0.583158      0.577376   0.580253     2   \n",
       "33  fmnist  phate   2    0.485945     0.584180      0.578819   0.581487     3   \n",
       "34  fmnist  phate   2    0.486317     0.584228      0.579098   0.581651     4   \n",
       "35  fmnist  phate   2    0.457812     0.586678      0.553209   0.569452     0   \n",
       "36  fmnist  phate   2    0.458183     0.586234      0.553047   0.569157     1   \n",
       "37  fmnist  phate   2    0.456559     0.587237      0.554242   0.570263     2   \n",
       "38  fmnist  phate   2    0.457777     0.586443      0.552991   0.569226     3   \n",
       "39  fmnist  phate   2    0.453109     0.578542      0.546681   0.562160     4   \n",
       "40  fmnist  phate   2    0.440020     0.590681      0.540140   0.564281     0   \n",
       "41  fmnist  phate   2    0.437709     0.591471      0.540525   0.564851     1   \n",
       "42  fmnist  phate   2    0.435053     0.585208      0.534503   0.558708     2   \n",
       "43  fmnist  phate   2    0.463515     0.595256      0.545385   0.569231     3   \n",
       "44  fmnist  phate   2    0.438741     0.589642      0.538585   0.562958     4   \n",
       "45  fmnist  phate   2    0.443665     0.599647      0.532015   0.563810     0   \n",
       "46  fmnist  phate   2    0.440239     0.587612      0.527172   0.555754     1   \n",
       "47  fmnist  phate   2    0.441181     0.594487      0.528139   0.559353     2   \n",
       "48  fmnist  phate   2    0.415800     0.590993      0.525783   0.556484     3   \n",
       "49  fmnist  phate   2    0.444586     0.599509      0.532357   0.563941     4   \n",
       "\n",
       "   n_clusters                                  model  \n",
       "0           5   KMeans(n_clusters=5, random_state=0)  \n",
       "1           5   KMeans(n_clusters=5, random_state=1)  \n",
       "2           5   KMeans(n_clusters=5, random_state=2)  \n",
       "3           5   KMeans(n_clusters=5, random_state=3)  \n",
       "4           5   KMeans(n_clusters=5, random_state=4)  \n",
       "5           6   KMeans(n_clusters=6, random_state=0)  \n",
       "6           6   KMeans(n_clusters=6, random_state=1)  \n",
       "7           6   KMeans(n_clusters=6, random_state=2)  \n",
       "8           6   KMeans(n_clusters=6, random_state=3)  \n",
       "9           6   KMeans(n_clusters=6, random_state=4)  \n",
       "10          7   KMeans(n_clusters=7, random_state=0)  \n",
       "11          7   KMeans(n_clusters=7, random_state=1)  \n",
       "12          7   KMeans(n_clusters=7, random_state=2)  \n",
       "13          7   KMeans(n_clusters=7, random_state=3)  \n",
       "14          7   KMeans(n_clusters=7, random_state=4)  \n",
       "15          8                 KMeans(random_state=0)  \n",
       "16          8                 KMeans(random_state=1)  \n",
       "17          8                 KMeans(random_state=2)  \n",
       "18          8                 KMeans(random_state=3)  \n",
       "19          8                 KMeans(random_state=4)  \n",
       "20          9   KMeans(n_clusters=9, random_state=0)  \n",
       "21          9   KMeans(n_clusters=9, random_state=1)  \n",
       "22          9   KMeans(n_clusters=9, random_state=2)  \n",
       "23          9   KMeans(n_clusters=9, random_state=3)  \n",
       "24          9   KMeans(n_clusters=9, random_state=4)  \n",
       "25         10  KMeans(n_clusters=10, random_state=0)  \n",
       "26         10  KMeans(n_clusters=10, random_state=1)  \n",
       "27         10  KMeans(n_clusters=10, random_state=2)  \n",
       "28         10  KMeans(n_clusters=10, random_state=3)  \n",
       "29         10  KMeans(n_clusters=10, random_state=4)  \n",
       "30         11  KMeans(n_clusters=11, random_state=0)  \n",
       "31         11  KMeans(n_clusters=11, random_state=1)  \n",
       "32         11  KMeans(n_clusters=11, random_state=2)  \n",
       "33         11  KMeans(n_clusters=11, random_state=3)  \n",
       "34         11  KMeans(n_clusters=11, random_state=4)  \n",
       "35         12  KMeans(n_clusters=12, random_state=0)  \n",
       "36         12  KMeans(n_clusters=12, random_state=1)  \n",
       "37         12  KMeans(n_clusters=12, random_state=2)  \n",
       "38         12  KMeans(n_clusters=12, random_state=3)  \n",
       "39         12  KMeans(n_clusters=12, random_state=4)  \n",
       "40         13  KMeans(n_clusters=13, random_state=0)  \n",
       "41         13  KMeans(n_clusters=13, random_state=1)  \n",
       "42         13  KMeans(n_clusters=13, random_state=2)  \n",
       "43         13  KMeans(n_clusters=13, random_state=3)  \n",
       "44         13  KMeans(n_clusters=13, random_state=4)  \n",
       "45         14  KMeans(n_clusters=14, random_state=0)  \n",
       "46         14  KMeans(n_clusters=14, random_state=1)  \n",
       "47         14  KMeans(n_clusters=14, random_state=2)  \n",
       "48         14  KMeans(n_clusters=14, random_state=3)  \n",
       "49         14  KMeans(n_clusters=14, random_state=4)  "
      ]
     },
     "execution_count": 40,
     "metadata": {},
     "output_type": "execute_result"
    }
   ],
   "source": [
    "get_cluster_metrics(projection_df.iloc[0], n_init=5)"
   ]
  },
  {
   "cell_type": "code",
   "execution_count": null,
   "metadata": {},
   "outputs": [],
   "source": []
  },
  {
   "cell_type": "code",
   "execution_count": null,
   "metadata": {},
   "outputs": [],
   "source": []
  },
  {
   "cell_type": "code",
   "execution_count": null,
   "metadata": {},
   "outputs": [],
   "source": []
  },
  {
   "cell_type": "code",
   "execution_count": null,
   "metadata": {},
   "outputs": [],
   "source": []
  },
  {
   "cell_type": "code",
   "execution_count": null,
   "metadata": {},
   "outputs": [],
   "source": []
  },
  {
   "cell_type": "code",
   "execution_count": null,
   "metadata": {},
   "outputs": [],
   "source": []
  },
  {
   "cell_type": "code",
   "execution_count": null,
   "metadata": {},
   "outputs": [],
   "source": []
  },
  {
   "cell_type": "code",
   "execution_count": null,
   "metadata": {},
   "outputs": [],
   "source": []
  },
  {
   "cell_type": "code",
   "execution_count": null,
   "metadata": {},
   "outputs": [],
   "source": []
  },
  {
   "cell_type": "code",
   "execution_count": null,
   "metadata": {},
   "outputs": [],
   "source": []
  }
 ],
 "metadata": {
  "kernelspec": {
   "display_name": "Python [conda env:tfumap]",
   "language": "python",
   "name": "conda-env-tfumap-py"
  },
  "language_info": {
   "codemirror_mode": {
    "name": "ipython",
    "version": 3
   },
   "file_extension": ".py",
   "mimetype": "text/x-python",
   "name": "python",
   "nbconvert_exporter": "python",
   "pygments_lexer": "ipython3",
   "version": "3.7.9"
  }
 },
 "nbformat": 4,
 "nbformat_minor": 4
}
