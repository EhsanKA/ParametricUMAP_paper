{
 "cells": [
  {
   "cell_type": "markdown",
   "metadata": {},
   "source": [
    "### Metrics\n",
    "- for each dataset, load x and z, then compute silhouette score and trustworthiness\n",
    "- save metrics to a pandas dataframe"
   ]
  },
  {
   "cell_type": "code",
   "execution_count": 1,
   "metadata": {
    "ExecuteTime": {
     "end_time": "2020-07-16T02:27:36.482880Z",
     "start_time": "2020-07-16T02:27:35.792182Z"
    }
   },
   "outputs": [],
   "source": [
    "import numpy as np\n",
    "import pandas as pd"
   ]
  },
  {
   "cell_type": "code",
   "execution_count": 2,
   "metadata": {
    "ExecuteTime": {
     "end_time": "2020-07-16T02:27:36.992724Z",
     "start_time": "2020-07-16T02:27:36.484190Z"
    }
   },
   "outputs": [],
   "source": [
    "from sklearn.manifold import trustworthiness\n",
    "from sklearn.metrics import silhouette_score"
   ]
  },
  {
   "cell_type": "code",
   "execution_count": 3,
   "metadata": {
    "ExecuteTime": {
     "end_time": "2020-07-16T02:27:37.046693Z",
     "start_time": "2020-07-16T02:27:36.994917Z"
    }
   },
   "outputs": [
    {
     "name": "stderr",
     "output_type": "stream",
     "text": [
      "/mnt/cube/tsainbur/conda_envs/tpy3/lib/python3.6/site-packages/tqdm/autonotebook/__init__.py:14: TqdmExperimentalWarning: Using `tqdm.autonotebook.tqdm` in notebook mode. Use `tqdm.tqdm` instead to force console mode (e.g. in jupyter console)\n",
      "  \" (e.g. in jupyter console)\", TqdmExperimentalWarning)\n"
     ]
    }
   ],
   "source": [
    "from tqdm.autonotebook import tqdm"
   ]
  },
  {
   "cell_type": "code",
   "execution_count": 4,
   "metadata": {
    "ExecuteTime": {
     "end_time": "2020-07-16T02:27:37.187022Z",
     "start_time": "2020-07-16T02:27:37.048275Z"
    }
   },
   "outputs": [],
   "source": [
    "from tfumap.paths import ensure_dir, MODEL_DIR, DATA_DIR"
   ]
  },
  {
   "cell_type": "code",
   "execution_count": 5,
   "metadata": {
    "ExecuteTime": {
     "end_time": "2020-07-16T02:27:37.191712Z",
     "start_time": "2020-07-16T02:27:37.189519Z"
    }
   },
   "outputs": [],
   "source": [
    "output_dir = MODEL_DIR/'projections' "
   ]
  },
  {
   "cell_type": "code",
   "execution_count": 6,
   "metadata": {
    "ExecuteTime": {
     "end_time": "2020-07-16T02:27:37.215540Z",
     "start_time": "2020-07-16T02:27:37.194037Z"
    }
   },
   "outputs": [],
   "source": [
    "#from https://gist.github.com/AlexandreAbraham/5544803\n",
    "from sklearn.utils import check_random_state\n",
    "from sklearn.metrics.pairwise import distance_metrics\n",
    "from sklearn.metrics.pairwise import pairwise_distances\n",
    "from joblib import Parallel, delayed\n",
    "from itertools import combinations\n",
    "\n",
    "\n",
    "def silhouette_score_block(X, labels, metric='euclidean', sample_size=None,\n",
    "                           random_state=None, n_jobs=1, **kwds):\n",
    "    \"\"\"Compute the mean Silhouette Coefficient of all samples.\n",
    "    The Silhouette Coefficient is calculated using the mean intra-cluster\n",
    "    distance (a) and the mean nearest-cluster distance (b) for each sample.\n",
    "    The Silhouette Coefficient for a sample is ``(b - a) / max(a, b)``.\n",
    "    To clarrify, b is the distance between a sample and the nearest cluster\n",
    "    that b is not a part of.\n",
    "    This function returns the mean Silhoeutte Coefficient over all samples.\n",
    "    To obtain the values for each sample, use silhouette_samples\n",
    "    The best value is 1 and the worst value is -1. Values near 0 indicate\n",
    "    overlapping clusters. Negative values generally indicate that a sample has\n",
    "    been assigned to the wrong cluster, as a different cluster is more similar.\n",
    "    Parameters\n",
    "    ----------\n",
    "    X : array [n_samples_a, n_features]\n",
    "        Feature array.\n",
    "    labels : array, shape = [n_samples]\n",
    "             label values for each sample\n",
    "    metric : string, or callable\n",
    "        The metric to use when calculating distance between instances in a\n",
    "        feature array. If metric is a string, it must be one of the options\n",
    "        allowed by metrics.pairwise.pairwise_distances. If X is the distance\n",
    "        array itself, use \"precomputed\" as the metric.\n",
    "    sample_size : int or None\n",
    "        The size of the sample to use when computing the Silhouette\n",
    "        Coefficient. If sample_size is None, no sampling is used.\n",
    "    random_state : integer or numpy.RandomState, optional\n",
    "        The generator used to initialize the centers. If an integer is\n",
    "        given, it fixes the seed. Defaults to the global numpy random\n",
    "        number generator.\n",
    "    `**kwds` : optional keyword parameters\n",
    "        Any further parameters are passed directly to the distance function.\n",
    "        If using a scipy.spatial.distance metric, the parameters are still\n",
    "        metric dependent. See the scipy docs for usage examples.\n",
    "    Returns\n",
    "    -------\n",
    "    silhouette : float\n",
    "        Mean Silhouette Coefficient for all samples.\n",
    "    References\n",
    "    ----------\n",
    "    Peter J. Rousseeuw (1987). \"Silhouettes: a Graphical Aid to the\n",
    "        Interpretation and Validation of Cluster Analysis\". Computational\n",
    "        and Applied Mathematics 20: 53-65. doi:10.1016/0377-0427(87)90125-7.\n",
    "    http://en.wikipedia.org/wiki/Silhouette_(clustering)\n",
    "    \"\"\"\n",
    "    if sample_size is not None:\n",
    "        random_state = check_random_state(random_state)\n",
    "        indices = random_state.permutation(X.shape[0])[:sample_size]\n",
    "        if metric == \"precomputed\":\n",
    "            raise ValueError('Distance matrix cannot be precomputed')\n",
    "        else:\n",
    "            X, labels = X[indices], labels[indices]\n",
    "    sil_samp = silhouette_samples_block(\n",
    "        X, labels, metric=metric, n_jobs=n_jobs, **kwds)\n",
    "    return np.mean(sil_samp), sil_samp\n",
    "\n",
    "\n",
    "def silhouette_samples_block(X, labels, metric='euclidean', n_jobs=1, **kwds):\n",
    "    \"\"\"Compute the Silhouette Coefficient for each sample.\n",
    "    The Silhoeutte Coefficient is a measure of how well samples are clustered\n",
    "    with samples that are similar to themselves. Clustering models with a high\n",
    "    Silhouette Coefficient are said to be dense, where samples in the same\n",
    "    cluster are similar to each other, and well separated, where samples in\n",
    "    different clusters are not very similar to each other.\n",
    "    The Silhouette Coefficient is calculated using the mean intra-cluster\n",
    "    distance (a) and the mean nearest-cluster distance (b) for each sample.\n",
    "    The Silhouette Coefficient for a sample is ``(b - a) / max(a, b)``.\n",
    "    This function returns the Silhoeutte Coefficient for each sample.\n",
    "    The best value is 1 and the worst value is -1. Values near 0 indicate\n",
    "    overlapping clusters.\n",
    "    Parameters\n",
    "    ----------\n",
    "    X : array [n_samples_a, n_features]\n",
    "        Feature array.\n",
    "    labels : array, shape = [n_samples]\n",
    "             label values for each sample\n",
    "    metric : string, or callable\n",
    "        The metric to use when calculating distance between instances in a\n",
    "        feature array. If metric is a string, it must be one of the options\n",
    "        allowed by metrics.pairwise.pairwise_distances. If X is the distance\n",
    "        array itself, use \"precomputed\" as the metric.\n",
    "    `**kwds` : optional keyword parameters\n",
    "        Any further parameters are passed directly to the distance function.\n",
    "        If using a scipy.spatial.distance metric, the parameters are still\n",
    "        metric dependent. See the scipy docs for usage examples.\n",
    "    Returns\n",
    "    -------\n",
    "    silhouette : array, shape = [n_samples]\n",
    "        Silhouette Coefficient for each samples.\n",
    "    References\n",
    "    ----------\n",
    "    Peter J. Rousseeuw (1987). \"Silhouettes: a Graphical Aid to the\n",
    "        Interpretation and Validation of Cluster Analysis\". Computational\n",
    "        and Applied Mathematics 20: 53-65. doi:10.1016/0377-0427(87)90125-7.\n",
    "    http://en.wikipedia.org/wiki/Silhouette_(clustering)\n",
    "    \"\"\"\n",
    "    A = _intra_cluster_distances_block(X, labels, metric, n_jobs=n_jobs,\n",
    "                                       **kwds)\n",
    "    B = _nearest_cluster_distance_block(X, labels, metric, n_jobs=n_jobs,\n",
    "                                        **kwds)\n",
    "    sil_samples = (B - A) / np.maximum(A, B)\n",
    "    # nan values are for clusters of size 1, and should be 0\n",
    "    return np.nan_to_num(sil_samples)\n",
    "\n",
    "\n",
    "def _intra_cluster_distances_block_(subX, metric, **kwds):\n",
    "    distances = pairwise_distances(subX, metric=metric, **kwds)\n",
    "    return distances.sum(axis=1) / (distances.shape[0] - 1)\n",
    "\n",
    "\n",
    "def _intra_cluster_distances_block(X, labels, metric, n_jobs=1, **kwds):\n",
    "    \"\"\"Calculate the mean intra-cluster distance for sample i.\n",
    "    Parameters\n",
    "    ----------\n",
    "    X : array [n_samples_a, n_features]\n",
    "        Feature array.\n",
    "    labels : array, shape = [n_samples]\n",
    "        label values for each sample\n",
    "    metric : string, or callable\n",
    "        The metric to use when calculating distance between instances in a\n",
    "        feature array. If metric is a string, it must be one of the options\n",
    "        allowed by metrics.pairwise.pairwise_distances. If X is the distance\n",
    "        array itself, use \"precomputed\" as the metric.\n",
    "    `**kwds` : optional keyword parameters\n",
    "        Any further parameters are passed directly to the distance function.\n",
    "        If using a scipy.spatial.distance metric, the parameters are still\n",
    "        metric dependent. See the scipy docs for usage examples.\n",
    "    Returns\n",
    "    -------\n",
    "    a : array [n_samples_a]\n",
    "        Mean intra-cluster distance\n",
    "    \"\"\"\n",
    "    intra_dist = np.zeros(labels.size, dtype=float)\n",
    "    values = Parallel(n_jobs=n_jobs)(\n",
    "            delayed(_intra_cluster_distances_block_)\n",
    "                (X[np.where(labels == label)[0]], metric, **kwds)\n",
    "                for label in np.unique(labels))\n",
    "    for label, values_ in zip(np.unique(labels), values):\n",
    "        intra_dist[np.where(labels == label)[0]] = values_\n",
    "    return intra_dist\n",
    "\n",
    "\n",
    "def _nearest_cluster_distance_block_(subX_a, subX_b, metric, **kwds):\n",
    "    dist = pairwise_distances(subX_a, subX_b, metric=metric, **kwds)\n",
    "    dist_a = dist.mean(axis=1)\n",
    "    dist_b = dist.mean(axis=0)\n",
    "    return dist_a, dist_b\n",
    "\n",
    "\n",
    "def _nearest_cluster_distance_block(X, labels, metric, n_jobs=1, **kwds):\n",
    "    \"\"\"Calculate the mean nearest-cluster distance for sample i.\n",
    "    Parameters\n",
    "    ----------\n",
    "    X : array [n_samples_a, n_features]\n",
    "        Feature array.\n",
    "    labels : array, shape = [n_samples]\n",
    "        label values for each sample\n",
    "    metric : string, or callable\n",
    "        The metric to use when calculating distance between instances in a\n",
    "        feature array. If metric is a string, it must be one of the options\n",
    "        allowed by metrics.pairwise.pairwise_distances. If X is the distance\n",
    "        array itself, use \"precomputed\" as the metric.\n",
    "    `**kwds` : optional keyword parameters\n",
    "        Any further parameters are passed directly to the distance function.\n",
    "        If using a scipy.spatial.distance metric, the parameters are still\n",
    "        metric dependent. See the scipy docs for usage examples.\n",
    "    X : array [n_samples_a, n_features]\n",
    "        Feature array.\n",
    "    Returns\n",
    "    -------\n",
    "    b : float\n",
    "        Mean nearest-cluster distance for sample i\n",
    "    \"\"\"\n",
    "    inter_dist = np.empty(labels.size, dtype=float)\n",
    "    inter_dist.fill(np.inf)\n",
    "    # Compute cluster distance between pairs of clusters\n",
    "    unique_labels = np.unique(labels)\n",
    "\n",
    "    values = Parallel(n_jobs=n_jobs)(\n",
    "            delayed(_nearest_cluster_distance_block_)(\n",
    "                X[np.where(labels == label_a)[0]],\n",
    "                X[np.where(labels == label_b)[0]],\n",
    "                metric, **kwds)\n",
    "                for label_a, label_b in combinations(unique_labels, 2))\n",
    "\n",
    "    for (label_a, label_b), (values_a, values_b) in \\\n",
    "            zip(combinations(unique_labels, 2), values):\n",
    "\n",
    "            indices_a = np.where(labels == label_a)[0]\n",
    "            inter_dist[indices_a] = np.minimum(values_a, inter_dist[indices_a])\n",
    "            del indices_a\n",
    "            indices_b = np.where(labels == label_b)[0]\n",
    "            inter_dist[indices_b] = np.minimum(values_b, inter_dist[indices_b])\n",
    "            del indices_b\n",
    "    return inter_dist"
   ]
  },
  {
   "cell_type": "code",
   "execution_count": 7,
   "metadata": {
    "ExecuteTime": {
     "end_time": "2020-07-16T02:27:37.230800Z",
     "start_time": "2020-07-16T02:27:37.216800Z"
    }
   },
   "outputs": [],
   "source": [
    "metrics_df = pd.DataFrame(columns = ['dataset', 'class_', 'dim', 'trustworthiness', 'silhouette_score', 'silhouette_samples'])"
   ]
  },
  {
   "cell_type": "markdown",
   "metadata": {},
   "source": [
    "### MNIST"
   ]
  },
  {
   "cell_type": "markdown",
   "metadata": {},
   "source": [
    "##### load dataset"
   ]
  },
  {
   "cell_type": "code",
   "execution_count": 8,
   "metadata": {
    "ExecuteTime": {
     "end_time": "2020-07-16T02:27:40.761137Z",
     "start_time": "2020-07-16T02:27:37.232245Z"
    }
   },
   "outputs": [
    {
     "name": "stdout",
     "output_type": "stream",
     "text": [
      "50000 10000 10000\n"
     ]
    }
   ],
   "source": [
    "from tensorflow.keras.datasets import mnist\n",
    "\n",
    "# load dataset\n",
    "(train_images, Y_train), (test_images, Y_test) = mnist.load_data()\n",
    "X_train = (train_images/255.).astype('float32')\n",
    "X_test = (test_images/255.).astype('float32')\n",
    "X_train = X_train.reshape((len(X_train), np.product(np.shape(X_train)[1:])))\n",
    "X_test = X_test.reshape((len(X_test), np.product(np.shape(X_test)[1:])))\n",
    "\n",
    "# subset a validation set\n",
    "n_valid = 10000\n",
    "X_valid = X_train[-n_valid:]\n",
    "Y_valid = Y_train[-n_valid:]\n",
    "X_train = X_train[:-n_valid]\n",
    "Y_train = Y_train[:-n_valid]\n",
    "\n",
    "# flatten X\n",
    "X_train_flat = X_train.reshape((len(X_train), np.product(np.shape(X_train)[1:])))\n",
    "X_test_flat = X_test.reshape((len(X_test), np.product(np.shape(X_test)[1:])))\n",
    "X_valid_flat= X_valid.reshape((len(X_valid), np.product(np.shape(X_valid)[1:])))\n",
    "print(len(X_train), len(X_valid), len(X_test))"
   ]
  },
  {
   "cell_type": "markdown",
   "metadata": {},
   "source": [
    "#### load projections"
   ]
  },
  {
   "cell_type": "code",
   "execution_count": 9,
   "metadata": {
    "ExecuteTime": {
     "end_time": "2020-07-16T02:27:40.765022Z",
     "start_time": "2020-07-16T02:27:40.762659Z"
    }
   },
   "outputs": [],
   "source": [
    "dataset = 'mnist'"
   ]
  },
  {
   "cell_type": "code",
   "execution_count": 10,
   "metadata": {
    "ExecuteTime": {
     "end_time": "2020-07-16T02:27:40.775483Z",
     "start_time": "2020-07-16T02:27:40.766194Z"
    }
   },
   "outputs": [],
   "source": [
    "classes = ['umap-learn', 'network', 'autoencoder', 'PCA', 'TSNE']"
   ]
  },
  {
   "cell_type": "code",
   "execution_count": 11,
   "metadata": {
    "ExecuteTime": {
     "end_time": "2020-07-16T02:27:40.808158Z",
     "start_time": "2020-07-16T02:27:40.777361Z"
    }
   },
   "outputs": [
    {
     "name": "stdout",
     "output_type": "stream",
     "text": [
      "/mnt/cube/tsainbur/Projects/github_repos/umap_tf_networks/models/projections/mnist/umap-learn\n",
      "/mnt/cube/tsainbur/Projects/github_repos/umap_tf_networks/models/projections/mnist/network\n",
      "/mnt/cube/tsainbur/Projects/github_repos/umap_tf_networks/models/projections/mnist/autoencoder\n",
      "/mnt/cube/tsainbur/Projects/github_repos/umap_tf_networks/models/projections/mnist/PCA\n",
      "/mnt/cube/tsainbur/Projects/github_repos/umap_tf_networks/models/projections/mnist/TSNE\n"
     ]
    }
   ],
   "source": [
    "projection_df = pd.DataFrame(columns = ['dataset', 'class_', 'train_z', 'train_label'])\n",
    "for class_ in classes:\n",
    "    print(output_dir / dataset / class_)\n",
    "    z = np.load(output_dir / dataset / class_ / 'z_test.npy')\n",
    "    projection_df.loc[len(projection_df)] = [dataset, class_, z, Y_test]\n",
    "projection_df['dim'] = 2"
   ]
  },
  {
   "cell_type": "code",
   "execution_count": 12,
   "metadata": {
    "ExecuteTime": {
     "end_time": "2020-07-16T02:27:40.831681Z",
     "start_time": "2020-07-16T02:27:40.809475Z"
    }
   },
   "outputs": [
    {
     "name": "stdout",
     "output_type": "stream",
     "text": [
      "/mnt/cube/tsainbur/Projects/github_repos/umap_tf_networks/models/projections/mnist/64/umap-learn/z_test.npy\n",
      "/mnt/cube/tsainbur/Projects/github_repos/umap_tf_networks/models/projections/mnist/64/network/z_test.npy\n",
      "/mnt/cube/tsainbur/Projects/github_repos/umap_tf_networks/models/projections/mnist/64/autoencoder/z_test.npy\n",
      "/mnt/cube/tsainbur/Projects/github_repos/umap_tf_networks/models/projections/mnist/64/PCA/z_test.npy\n",
      "/mnt/cube/tsainbur/Projects/github_repos/umap_tf_networks/models/projections/mnist/64/TSNE/z_test.npy\n",
      "[Errno 2] No such file or directory: '/mnt/cube/tsainbur/Projects/github_repos/umap_tf_networks/models/projections/mnist/64/TSNE/z_test.npy'\n"
     ]
    }
   ],
   "source": [
    "projection_df_64 = pd.DataFrame(columns = ['dataset', 'class_', 'train_z', 'train_label'])\n",
    "for class_ in classes:\n",
    "    print(output_dir / dataset / '64' / class_ / 'z_test.npy')\n",
    "    try:\n",
    "        z = np.load(output_dir / dataset / '64' / class_ / 'z_test.npy')\n",
    "        projection_df_64.loc[len(projection_df_64)] = [dataset, class_, z, Y_test]\n",
    "    except FileNotFoundError as e:\n",
    "        print(e)\n",
    "projection_df_64['dim'] = 64"
   ]
  },
  {
   "cell_type": "code",
   "execution_count": 13,
   "metadata": {
    "ExecuteTime": {
     "end_time": "2020-07-16T02:27:41.099399Z",
     "start_time": "2020-07-16T02:27:40.833122Z"
    }
   },
   "outputs": [
    {
     "data": {
      "text/html": [
       "<div>\n",
       "<style scoped>\n",
       "    .dataframe tbody tr th:only-of-type {\n",
       "        vertical-align: middle;\n",
       "    }\n",
       "\n",
       "    .dataframe tbody tr th {\n",
       "        vertical-align: top;\n",
       "    }\n",
       "\n",
       "    .dataframe thead th {\n",
       "        text-align: right;\n",
       "    }\n",
       "</style>\n",
       "<table border=\"1\" class=\"dataframe\">\n",
       "  <thead>\n",
       "    <tr style=\"text-align: right;\">\n",
       "      <th></th>\n",
       "      <th>dataset</th>\n",
       "      <th>class_</th>\n",
       "      <th>train_z</th>\n",
       "      <th>train_label</th>\n",
       "      <th>dim</th>\n",
       "    </tr>\n",
       "  </thead>\n",
       "  <tbody>\n",
       "    <tr>\n",
       "      <th>0</th>\n",
       "      <td>mnist</td>\n",
       "      <td>umap-learn</td>\n",
       "      <td>[[10.357074, 1.5838902, 7.035351, 5.7068515, 4...</td>\n",
       "      <td>[7, 2, 1, 0, 4, 1, 4, 9, 5, 9, 0, 6, 9, 0, 1, ...</td>\n",
       "      <td>64</td>\n",
       "    </tr>\n",
       "    <tr>\n",
       "      <th>1</th>\n",
       "      <td>mnist</td>\n",
       "      <td>network</td>\n",
       "      <td>[[0.4765154, -1.242, -1.4237565, -0.67418647, ...</td>\n",
       "      <td>[7, 2, 1, 0, 4, 1, 4, 9, 5, 9, 0, 6, 9, 0, 1, ...</td>\n",
       "      <td>64</td>\n",
       "    </tr>\n",
       "    <tr>\n",
       "      <th>2</th>\n",
       "      <td>mnist</td>\n",
       "      <td>autoencoder</td>\n",
       "      <td>[[-0.6130227, 0.12474405, 0.018241605, 0.07817...</td>\n",
       "      <td>[7, 2, 1, 0, 4, 1, 4, 9, 5, 9, 0, 6, 9, 0, 1, ...</td>\n",
       "      <td>64</td>\n",
       "    </tr>\n",
       "    <tr>\n",
       "      <th>3</th>\n",
       "      <td>mnist</td>\n",
       "      <td>PCA</td>\n",
       "      <td>[[-1.2580044, 2.9119534, -0.10601278, -1.14694...</td>\n",
       "      <td>[7, 2, 1, 0, 4, 1, 4, 9, 5, 9, 0, 6, 9, 0, 1, ...</td>\n",
       "      <td>64</td>\n",
       "    </tr>\n",
       "  </tbody>\n",
       "</table>\n",
       "</div>"
      ],
      "text/plain": [
       "  dataset       class_                                            train_z  \\\n",
       "0   mnist   umap-learn  [[10.357074, 1.5838902, 7.035351, 5.7068515, 4...   \n",
       "1   mnist      network  [[0.4765154, -1.242, -1.4237565, -0.67418647, ...   \n",
       "2   mnist  autoencoder  [[-0.6130227, 0.12474405, 0.018241605, 0.07817...   \n",
       "3   mnist          PCA  [[-1.2580044, 2.9119534, -0.10601278, -1.14694...   \n",
       "\n",
       "                                         train_label  dim  \n",
       "0  [7, 2, 1, 0, 4, 1, 4, 9, 5, 9, 0, 6, 9, 0, 1, ...   64  \n",
       "1  [7, 2, 1, 0, 4, 1, 4, 9, 5, 9, 0, 6, 9, 0, 1, ...   64  \n",
       "2  [7, 2, 1, 0, 4, 1, 4, 9, 5, 9, 0, 6, 9, 0, 1, ...   64  \n",
       "3  [7, 2, 1, 0, 4, 1, 4, 9, 5, 9, 0, 6, 9, 0, 1, ...   64  "
      ]
     },
     "execution_count": 13,
     "metadata": {},
     "output_type": "execute_result"
    }
   ],
   "source": [
    "projection_df_64"
   ]
  },
  {
   "cell_type": "markdown",
   "metadata": {},
   "source": [
    "##### compute silhouette score and trustworthiness"
   ]
  },
  {
   "cell_type": "code",
   "execution_count": 14,
   "metadata": {
    "ExecuteTime": {
     "end_time": "2020-07-16T02:29:10.832285Z",
     "start_time": "2020-07-16T02:27:41.100590Z"
    }
   },
   "outputs": [
    {
     "data": {
      "application/vnd.jupyter.widget-view+json": {
       "model_id": "72da1700710349be83bdc688752e3d45",
       "version_major": 2,
       "version_minor": 0
      },
      "text/plain": [
       "HBox(children=(IntProgress(value=0, max=9), HTML(value='')))"
      ]
     },
     "metadata": {},
     "output_type": "display_data"
    },
    {
     "name": "stdout",
     "output_type": "stream",
     "text": [
      "\n"
     ]
    }
   ],
   "source": [
    "for idx, row in tqdm(pd.concat([projection_df, projection_df_64]).iterrows(), total = len(projection_df)+ len(projection_df_64)):\n",
    "    ss, sil_samp = silhouette_score_block(row.train_z, row.train_label, n_jobs = -1)\n",
    "    tw = trustworthiness(X_test_flat[:10000], row.train_z[:10000])\n",
    "    metrics_df.loc[len(metrics_df)] = [dataset, row.class_, row.dim, tw, ss, sil_samp]"
   ]
  },
  {
   "cell_type": "markdown",
   "metadata": {},
   "source": [
    "### FMNIST"
   ]
  },
  {
   "cell_type": "markdown",
   "metadata": {},
   "source": [
    "##### load dataset"
   ]
  },
  {
   "cell_type": "code",
   "execution_count": 15,
   "metadata": {
    "ExecuteTime": {
     "end_time": "2020-07-16T02:29:11.320048Z",
     "start_time": "2020-07-16T02:29:10.834573Z"
    }
   },
   "outputs": [
    {
     "name": "stdout",
     "output_type": "stream",
     "text": [
      "50000 10000 10000\n"
     ]
    }
   ],
   "source": [
    "from tensorflow.keras.datasets import fashion_mnist\n",
    "\n",
    "# load dataset\n",
    "(train_images, Y_train), (test_images, Y_test) = fashion_mnist.load_data()\n",
    "X_train = (train_images/255.).astype('float32')\n",
    "X_test = (test_images/255.).astype('float32')\n",
    "X_train = X_train.reshape((len(X_train), np.product(np.shape(X_train)[1:])))\n",
    "X_test = X_test.reshape((len(X_test), np.product(np.shape(X_test)[1:])))\n",
    "\n",
    "# subset a validation set\n",
    "n_valid = 10000\n",
    "X_valid = X_train[-n_valid:]\n",
    "Y_valid = Y_train[-n_valid:]\n",
    "X_train = X_train[:-n_valid]\n",
    "Y_train = Y_train[:-n_valid]\n",
    "\n",
    "# flatten X\n",
    "X_train_flat = X_train.reshape((len(X_train), np.product(np.shape(X_train)[1:])))\n",
    "X_test_flat = X_test.reshape((len(X_test), np.product(np.shape(X_test)[1:])))\n",
    "X_valid_flat= X_valid.reshape((len(X_valid), np.product(np.shape(X_valid)[1:])))\n",
    "print(len(X_train), len(X_valid), len(X_test))"
   ]
  },
  {
   "cell_type": "markdown",
   "metadata": {},
   "source": [
    "#### load projections"
   ]
  },
  {
   "cell_type": "code",
   "execution_count": 16,
   "metadata": {
    "ExecuteTime": {
     "end_time": "2020-07-16T02:29:11.323385Z",
     "start_time": "2020-07-16T02:29:11.321369Z"
    }
   },
   "outputs": [],
   "source": [
    "dataset = 'fmnist'"
   ]
  },
  {
   "cell_type": "code",
   "execution_count": 17,
   "metadata": {
    "ExecuteTime": {
     "end_time": "2020-07-16T02:29:11.333869Z",
     "start_time": "2020-07-16T02:29:11.324362Z"
    }
   },
   "outputs": [],
   "source": [
    "classes = ['umap-learn', 'network', 'autoencoder', 'PCA', 'TSNE']"
   ]
  },
  {
   "cell_type": "code",
   "execution_count": 18,
   "metadata": {
    "ExecuteTime": {
     "end_time": "2020-07-16T02:29:11.363439Z",
     "start_time": "2020-07-16T02:29:11.335203Z"
    }
   },
   "outputs": [
    {
     "name": "stdout",
     "output_type": "stream",
     "text": [
      "/mnt/cube/tsainbur/Projects/github_repos/umap_tf_networks/models/projections/fmnist/umap-learn\n",
      "/mnt/cube/tsainbur/Projects/github_repos/umap_tf_networks/models/projections/fmnist/network\n",
      "/mnt/cube/tsainbur/Projects/github_repos/umap_tf_networks/models/projections/fmnist/autoencoder\n",
      "/mnt/cube/tsainbur/Projects/github_repos/umap_tf_networks/models/projections/fmnist/PCA\n",
      "/mnt/cube/tsainbur/Projects/github_repos/umap_tf_networks/models/projections/fmnist/TSNE\n"
     ]
    }
   ],
   "source": [
    "projection_df = pd.DataFrame(columns = ['dataset', 'class_', 'train_z', 'train_label'])\n",
    "for class_ in classes:\n",
    "    print(output_dir / dataset / class_)\n",
    "    z = np.load(output_dir / dataset / class_ / 'z_test.npy')\n",
    "    projection_df.loc[len(projection_df)] = [dataset, class_, z, Y_test]\n",
    "projection_df['dim'] = 2"
   ]
  },
  {
   "cell_type": "code",
   "execution_count": 19,
   "metadata": {
    "ExecuteTime": {
     "end_time": "2020-07-16T02:29:11.384105Z",
     "start_time": "2020-07-16T02:29:11.364637Z"
    }
   },
   "outputs": [
    {
     "name": "stdout",
     "output_type": "stream",
     "text": [
      "/mnt/cube/tsainbur/Projects/github_repos/umap_tf_networks/models/projections/fmnist/64/umap-learn/z_test.npy\n",
      "/mnt/cube/tsainbur/Projects/github_repos/umap_tf_networks/models/projections/fmnist/64/network/z_test.npy\n",
      "/mnt/cube/tsainbur/Projects/github_repos/umap_tf_networks/models/projections/fmnist/64/autoencoder/z_test.npy\n",
      "/mnt/cube/tsainbur/Projects/github_repos/umap_tf_networks/models/projections/fmnist/64/PCA/z_test.npy\n",
      "/mnt/cube/tsainbur/Projects/github_repos/umap_tf_networks/models/projections/fmnist/64/TSNE/z_test.npy\n",
      "[Errno 2] No such file or directory: '/mnt/cube/tsainbur/Projects/github_repos/umap_tf_networks/models/projections/fmnist/64/TSNE/z_test.npy'\n"
     ]
    }
   ],
   "source": [
    "projection_df_64 = pd.DataFrame(columns = ['dataset', 'class_', 'train_z', 'train_label'])\n",
    "for class_ in classes:\n",
    "    print(output_dir / dataset / '64' / class_ / 'z_test.npy')\n",
    "    try:\n",
    "        z = np.load(output_dir / dataset / '64' / class_ / 'z_test.npy')\n",
    "        projection_df_64.loc[len(projection_df_64)] = [dataset, class_, z, Y_test]\n",
    "    except FileNotFoundError as e:\n",
    "        print(e)\n",
    "projection_df_64['dim'] = 64"
   ]
  },
  {
   "cell_type": "markdown",
   "metadata": {},
   "source": [
    "##### compute silhouette score and trustworthiness"
   ]
  },
  {
   "cell_type": "code",
   "execution_count": 20,
   "metadata": {
    "ExecuteTime": {
     "end_time": "2020-07-16T02:30:34.931834Z",
     "start_time": "2020-07-16T02:29:11.387385Z"
    }
   },
   "outputs": [
    {
     "data": {
      "application/vnd.jupyter.widget-view+json": {
       "model_id": "ac31799fc7604a8da8dd4d85a946942a",
       "version_major": 2,
       "version_minor": 0
      },
      "text/plain": [
       "HBox(children=(IntProgress(value=0, max=9), HTML(value='')))"
      ]
     },
     "metadata": {},
     "output_type": "display_data"
    },
    {
     "name": "stdout",
     "output_type": "stream",
     "text": [
      "\n"
     ]
    }
   ],
   "source": [
    "for idx, row in tqdm(pd.concat([projection_df, projection_df_64]).iterrows(), total = len(projection_df)+ len(projection_df_64)):\n",
    "    ss, sil_samp = silhouette_score_block(row.train_z, row.train_label, n_jobs = -1)\n",
    "    tw = trustworthiness(X_test_flat[:10000], row.train_z[:10000])\n",
    "    metrics_df.loc[len(metrics_df)] = [dataset, row.class_, row.dim, tw, ss, sil_samp]"
   ]
  },
  {
   "cell_type": "markdown",
   "metadata": {},
   "source": [
    "### CIFAR10"
   ]
  },
  {
   "cell_type": "markdown",
   "metadata": {},
   "source": [
    "##### load dataset"
   ]
  },
  {
   "cell_type": "code",
   "execution_count": 21,
   "metadata": {
    "ExecuteTime": {
     "end_time": "2020-07-16T02:30:35.992624Z",
     "start_time": "2020-07-16T02:30:34.934244Z"
    }
   },
   "outputs": [
    {
     "name": "stdout",
     "output_type": "stream",
     "text": [
      "40000 10000 10000\n"
     ]
    }
   ],
   "source": [
    "from tensorflow.keras.datasets import cifar10\n",
    "\n",
    "# load dataset\n",
    "(train_images, Y_train), (test_images, Y_test) = cifar10.load_data()\n",
    "X_train = (train_images/255.).astype('float32')\n",
    "X_test = (test_images/255.).astype('float32')\n",
    "X_train = X_train.reshape((len(X_train), np.product(np.shape(X_train)[1:])))\n",
    "X_test = X_test.reshape((len(X_test), np.product(np.shape(X_test)[1:])))\n",
    "\n",
    "# subset a validation set\n",
    "n_valid = 10000\n",
    "X_valid = X_train[-n_valid:]\n",
    "Y_valid = Y_train[-n_valid:].flatten()\n",
    "X_train = X_train[:-n_valid]\n",
    "Y_train = Y_train[:-n_valid].flatten()\n",
    "Y_test = Y_test.flatten()\n",
    "X_test_flat = X_test\n",
    "\n",
    "print(len(X_train), len(X_valid), len(X_test))"
   ]
  },
  {
   "cell_type": "markdown",
   "metadata": {},
   "source": [
    "#### load projections"
   ]
  },
  {
   "cell_type": "code",
   "execution_count": 22,
   "metadata": {
    "ExecuteTime": {
     "end_time": "2020-07-16T02:30:35.996440Z",
     "start_time": "2020-07-16T02:30:35.994135Z"
    }
   },
   "outputs": [],
   "source": [
    "dataset = 'cifar10'"
   ]
  },
  {
   "cell_type": "code",
   "execution_count": 23,
   "metadata": {
    "ExecuteTime": {
     "end_time": "2020-07-16T02:30:36.007072Z",
     "start_time": "2020-07-16T02:30:35.997546Z"
    }
   },
   "outputs": [],
   "source": [
    "classes = ['umap-learn', 'network', 'autoencoder', 'PCA', 'TSNE']"
   ]
  },
  {
   "cell_type": "code",
   "execution_count": 24,
   "metadata": {
    "ExecuteTime": {
     "end_time": "2020-07-16T02:30:36.045269Z",
     "start_time": "2020-07-16T02:30:36.008380Z"
    }
   },
   "outputs": [
    {
     "name": "stdout",
     "output_type": "stream",
     "text": [
      "/mnt/cube/tsainbur/Projects/github_repos/umap_tf_networks/models/projections/cifar10/umap-learn\n",
      "/mnt/cube/tsainbur/Projects/github_repos/umap_tf_networks/models/projections/cifar10/network\n",
      "/mnt/cube/tsainbur/Projects/github_repos/umap_tf_networks/models/projections/cifar10/autoencoder\n",
      "/mnt/cube/tsainbur/Projects/github_repos/umap_tf_networks/models/projections/cifar10/PCA\n",
      "/mnt/cube/tsainbur/Projects/github_repos/umap_tf_networks/models/projections/cifar10/TSNE\n"
     ]
    }
   ],
   "source": [
    "projection_df = pd.DataFrame(columns = ['dataset', 'class_', 'train_z', 'train_label'])\n",
    "for class_ in classes:\n",
    "    print(output_dir / dataset / class_)\n",
    "    z = np.load(output_dir / dataset / class_ / 'z_test.npy')\n",
    "    projection_df.loc[len(projection_df)] = [dataset, class_, z, Y_test]\n",
    "projection_df['dim'] = 2"
   ]
  },
  {
   "cell_type": "code",
   "execution_count": 25,
   "metadata": {
    "ExecuteTime": {
     "end_time": "2020-07-16T02:30:36.081158Z",
     "start_time": "2020-07-16T02:30:36.047297Z"
    }
   },
   "outputs": [
    {
     "name": "stdout",
     "output_type": "stream",
     "text": [
      "/mnt/cube/tsainbur/Projects/github_repos/umap_tf_networks/models/projections/cifar10/64/umap-learn/z_test.npy\n",
      "/mnt/cube/tsainbur/Projects/github_repos/umap_tf_networks/models/projections/cifar10/64/network/z_test.npy\n",
      "/mnt/cube/tsainbur/Projects/github_repos/umap_tf_networks/models/projections/cifar10/64/autoencoder/z_test.npy\n",
      "/mnt/cube/tsainbur/Projects/github_repos/umap_tf_networks/models/projections/cifar10/64/PCA/z_test.npy\n",
      "/mnt/cube/tsainbur/Projects/github_repos/umap_tf_networks/models/projections/cifar10/64/TSNE/z_test.npy\n",
      "[Errno 2] No such file or directory: '/mnt/cube/tsainbur/Projects/github_repos/umap_tf_networks/models/projections/cifar10/64/TSNE/z_test.npy'\n"
     ]
    }
   ],
   "source": [
    "projection_df_64 = pd.DataFrame(columns = ['dataset', 'class_', 'train_z', 'train_label'])\n",
    "for class_ in classes:\n",
    "    print(output_dir / dataset / '64' / class_ / 'z_test.npy')\n",
    "    try:\n",
    "        z = np.load(output_dir / dataset / '64' / class_ / 'z_test.npy')\n",
    "        projection_df_64.loc[len(projection_df_64)] = [dataset, class_, z, Y_test]\n",
    "    except FileNotFoundError as e:\n",
    "        print(e)\n",
    "projection_df_64['dim'] = 64"
   ]
  },
  {
   "cell_type": "code",
   "execution_count": 26,
   "metadata": {
    "ExecuteTime": {
     "end_time": "2020-07-16T02:30:36.350739Z",
     "start_time": "2020-07-16T02:30:36.082673Z"
    }
   },
   "outputs": [
    {
     "data": {
      "text/html": [
       "<div>\n",
       "<style scoped>\n",
       "    .dataframe tbody tr th:only-of-type {\n",
       "        vertical-align: middle;\n",
       "    }\n",
       "\n",
       "    .dataframe tbody tr th {\n",
       "        vertical-align: top;\n",
       "    }\n",
       "\n",
       "    .dataframe thead th {\n",
       "        text-align: right;\n",
       "    }\n",
       "</style>\n",
       "<table border=\"1\" class=\"dataframe\">\n",
       "  <thead>\n",
       "    <tr style=\"text-align: right;\">\n",
       "      <th></th>\n",
       "      <th>dataset</th>\n",
       "      <th>class_</th>\n",
       "      <th>train_z</th>\n",
       "      <th>train_label</th>\n",
       "      <th>dim</th>\n",
       "    </tr>\n",
       "  </thead>\n",
       "  <tbody>\n",
       "    <tr>\n",
       "      <th>0</th>\n",
       "      <td>cifar10</td>\n",
       "      <td>umap-learn</td>\n",
       "      <td>[[6.9873776, 9.125104, 7.1634693, 6.643967, 5....</td>\n",
       "      <td>[3, 8, 8, 0, 6, 6, 1, 6, 3, 1, 0, 9, 5, 7, 9, ...</td>\n",
       "      <td>64</td>\n",
       "    </tr>\n",
       "    <tr>\n",
       "      <th>1</th>\n",
       "      <td>cifar10</td>\n",
       "      <td>network</td>\n",
       "      <td>[[-0.029608527, 0.12517297, -0.21703288, 0.036...</td>\n",
       "      <td>[3, 8, 8, 0, 6, 6, 1, 6, 3, 1, 0, 9, 5, 7, 9, ...</td>\n",
       "      <td>64</td>\n",
       "    </tr>\n",
       "    <tr>\n",
       "      <th>2</th>\n",
       "      <td>cifar10</td>\n",
       "      <td>autoencoder</td>\n",
       "      <td>[[0.082228325, -0.002842024, -0.08078372, 0.02...</td>\n",
       "      <td>[3, 8, 8, 0, 6, 6, 1, 6, 3, 1, 0, 9, 5, 7, 9, ...</td>\n",
       "      <td>64</td>\n",
       "    </tr>\n",
       "    <tr>\n",
       "      <th>3</th>\n",
       "      <td>cifar10</td>\n",
       "      <td>PCA</td>\n",
       "      <td>[[-3.4676628, 0.91849434, 1.2494233, 3.553762,...</td>\n",
       "      <td>[3, 8, 8, 0, 6, 6, 1, 6, 3, 1, 0, 9, 5, 7, 9, ...</td>\n",
       "      <td>64</td>\n",
       "    </tr>\n",
       "  </tbody>\n",
       "</table>\n",
       "</div>"
      ],
      "text/plain": [
       "   dataset       class_                                            train_z  \\\n",
       "0  cifar10   umap-learn  [[6.9873776, 9.125104, 7.1634693, 6.643967, 5....   \n",
       "1  cifar10      network  [[-0.029608527, 0.12517297, -0.21703288, 0.036...   \n",
       "2  cifar10  autoencoder  [[0.082228325, -0.002842024, -0.08078372, 0.02...   \n",
       "3  cifar10          PCA  [[-3.4676628, 0.91849434, 1.2494233, 3.553762,...   \n",
       "\n",
       "                                         train_label  dim  \n",
       "0  [3, 8, 8, 0, 6, 6, 1, 6, 3, 1, 0, 9, 5, 7, 9, ...   64  \n",
       "1  [3, 8, 8, 0, 6, 6, 1, 6, 3, 1, 0, 9, 5, 7, 9, ...   64  \n",
       "2  [3, 8, 8, 0, 6, 6, 1, 6, 3, 1, 0, 9, 5, 7, 9, ...   64  \n",
       "3  [3, 8, 8, 0, 6, 6, 1, 6, 3, 1, 0, 9, 5, 7, 9, ...   64  "
      ]
     },
     "execution_count": 26,
     "metadata": {},
     "output_type": "execute_result"
    }
   ],
   "source": [
    "projection_df_64"
   ]
  },
  {
   "cell_type": "markdown",
   "metadata": {},
   "source": [
    "##### compute silhouette score and trustworthiness"
   ]
  },
  {
   "cell_type": "code",
   "execution_count": 27,
   "metadata": {
    "ExecuteTime": {
     "end_time": "2020-07-16T02:32:13.151437Z",
     "start_time": "2020-07-16T02:30:36.351949Z"
    }
   },
   "outputs": [
    {
     "data": {
      "application/vnd.jupyter.widget-view+json": {
       "model_id": "9059917edf0b4b28aa2f3587422f015e",
       "version_major": 2,
       "version_minor": 0
      },
      "text/plain": [
       "HBox(children=(IntProgress(value=0, max=9), HTML(value='')))"
      ]
     },
     "metadata": {},
     "output_type": "display_data"
    },
    {
     "name": "stdout",
     "output_type": "stream",
     "text": [
      "\n"
     ]
    }
   ],
   "source": [
    "for idx, row in tqdm(pd.concat([projection_df, projection_df_64]).iterrows(), total = len(projection_df)+ len(projection_df_64)):\n",
    "    ss, sil_samp = silhouette_score_block(row.train_z, row.train_label, n_jobs = -1)\n",
    "    tw = trustworthiness(X_test_flat[:10000], row.train_z[:10000])\n",
    "    metrics_df.loc[len(metrics_df)] = [dataset, row.class_, row.dim, tw, ss, sil_samp]"
   ]
  },
  {
   "cell_type": "markdown",
   "metadata": {},
   "source": [
    "### Macosko"
   ]
  },
  {
   "cell_type": "markdown",
   "metadata": {},
   "source": [
    "##### load dataset"
   ]
  },
  {
   "cell_type": "code",
   "execution_count": 28,
   "metadata": {
    "ExecuteTime": {
     "end_time": "2020-07-16T02:32:13.484358Z",
     "start_time": "2020-07-16T02:32:13.153218Z"
    }
   },
   "outputs": [
    {
     "name": "stdout",
     "output_type": "stream",
     "text": [
      "Data set contains 44808 samples with 50 features\n"
     ]
    }
   ],
   "source": [
    "from tfumap.paths import ensure_dir, MODEL_DIR, DATA_DIR\n",
    "\n",
    "#dataset_address = 'http://file.biolab.si/opentsne/macosko_2015.pkl.gz'\n",
    "# https://opentsne.readthedocs.io/en/latest/examples/01_simple_usage/01_simple_usage.html\n",
    "# also see https://github.com/berenslab/rna-seq-tsne/blob/master/umi-datasets.ipynb\n",
    "\n",
    "import gzip\n",
    "import pickle\n",
    "\n",
    "with gzip.open(DATA_DIR / 'macosko_2015.pkl.gz', \"rb\") as f:\n",
    "    data = pickle.load(f)\n",
    "\n",
    "x = data[\"pca_50\"]\n",
    "y = data[\"CellType1\"].astype(str)\n",
    "\n",
    "print(\"Data set contains %d samples with %d features\" % x.shape)\n",
    "\n",
    "from sklearn.model_selection import train_test_split\n",
    "\n",
    "X_train, X_test, Y_train, Y_test = train_test_split(x, y, test_size=.1, random_state=42)\n",
    "\n",
    "np.shape(X_train)\n",
    "\n",
    "n_valid = 10000\n",
    "X_valid = X_train[-n_valid:]\n",
    "Y_valid = Y_train[-n_valid:]\n",
    "X_train = X_train[:-n_valid]\n",
    "Y_train = Y_train[:-n_valid]\n",
    "\n",
    "X_train_flat = X_train\n",
    "X_test_flat = X_test\n",
    "\n",
    "from sklearn.preprocessing import OrdinalEncoder\n",
    "enc = OrdinalEncoder()\n",
    "\n",
    "Y_train = enc.fit_transform([[i] for i in Y_train]).flatten()"
   ]
  },
  {
   "cell_type": "code",
   "execution_count": 29,
   "metadata": {
    "ExecuteTime": {
     "end_time": "2020-07-16T02:32:13.488149Z",
     "start_time": "2020-07-16T02:32:13.485796Z"
    }
   },
   "outputs": [],
   "source": [
    "dataset = 'macosko2015'"
   ]
  },
  {
   "cell_type": "code",
   "execution_count": 30,
   "metadata": {
    "ExecuteTime": {
     "end_time": "2020-07-16T02:32:13.498147Z",
     "start_time": "2020-07-16T02:32:13.489275Z"
    }
   },
   "outputs": [],
   "source": [
    "classes = ['umap-learn', 'network', 'autoencoder', 'PCA', 'TSNE']"
   ]
  },
  {
   "cell_type": "code",
   "execution_count": 31,
   "metadata": {
    "ExecuteTime": {
     "end_time": "2020-07-16T02:32:13.532063Z",
     "start_time": "2020-07-16T02:32:13.499993Z"
    }
   },
   "outputs": [
    {
     "name": "stdout",
     "output_type": "stream",
     "text": [
      "/mnt/cube/tsainbur/Projects/github_repos/umap_tf_networks/models/projections/macosko2015/umap-learn\n",
      "/mnt/cube/tsainbur/Projects/github_repos/umap_tf_networks/models/projections/macosko2015/network\n",
      "/mnt/cube/tsainbur/Projects/github_repos/umap_tf_networks/models/projections/macosko2015/autoencoder\n",
      "/mnt/cube/tsainbur/Projects/github_repos/umap_tf_networks/models/projections/macosko2015/PCA\n",
      "/mnt/cube/tsainbur/Projects/github_repos/umap_tf_networks/models/projections/macosko2015/TSNE\n"
     ]
    }
   ],
   "source": [
    "projection_df = pd.DataFrame(columns = ['dataset', 'class_', 'train_z', 'train_label'])\n",
    "for class_ in classes:\n",
    "    print(output_dir / dataset / class_)\n",
    "    z = np.load(output_dir / dataset / class_ / 'z_test.npy')\n",
    "    projection_df.loc[len(projection_df)] = [dataset, class_, z, Y_test]\n",
    "projection_df['dim'] = 2"
   ]
  },
  {
   "cell_type": "code",
   "execution_count": 32,
   "metadata": {
    "ExecuteTime": {
     "end_time": "2020-07-16T02:32:13.535563Z",
     "start_time": "2020-07-16T02:32:13.533576Z"
    }
   },
   "outputs": [],
   "source": [
    "import matplotlib.pyplot as plt"
   ]
  },
  {
   "cell_type": "code",
   "execution_count": 33,
   "metadata": {
    "ExecuteTime": {
     "end_time": "2020-07-16T02:32:13.831994Z",
     "start_time": "2020-07-16T02:32:13.536755Z"
    }
   },
   "outputs": [
    {
     "data": {
      "image/png": "[encoded data removed]",
      "text/plain": [
       "<Figure size 576x576 with 2 Axes>"
      ]
     },
     "metadata": {
      "needs_background": "light"
     },
     "output_type": "display_data"
    }
   ],
   "source": [
    "z = projection_df[projection_df.class_== 'TSNE'].train_z.values[0]\n",
    "y = projection_df.train_label.values[0]\n",
    "y = enc.fit_transform([[i] for i in y]).flatten()\n",
    "fig, ax = plt.subplots( figsize=(8, 8))\n",
    "sc = ax.scatter(\n",
    "    z[:, 0],\n",
    "    z[:, 1],\n",
    "    c=y,\n",
    "    cmap=\"tab10\",\n",
    "    s=0.1,\n",
    "    alpha=0.5,\n",
    "    rasterized=True,\n",
    ")\n",
    "ax.axis('equal')\n",
    "plt.colorbar(sc, ax=ax);"
   ]
  },
  {
   "cell_type": "code",
   "execution_count": 34,
   "metadata": {
    "ExecuteTime": {
     "end_time": "2020-07-16T02:32:13.834833Z",
     "start_time": "2020-07-16T02:32:13.832918Z"
    }
   },
   "outputs": [],
   "source": [
    "from sklearn.metrics import silhouette_score"
   ]
  },
  {
   "cell_type": "code",
   "execution_count": 35,
   "metadata": {
    "ExecuteTime": {
     "end_time": "2020-07-16T02:32:14.134889Z",
     "start_time": "2020-07-16T02:32:13.835644Z"
    }
   },
   "outputs": [
    {
     "data": {
      "text/plain": [
       "0.04540748992057796"
      ]
     },
     "execution_count": 35,
     "metadata": {},
     "output_type": "execute_result"
    }
   ],
   "source": [
    "silhouette_score(z, y)"
   ]
  },
  {
   "cell_type": "code",
   "execution_count": 36,
   "metadata": {
    "ExecuteTime": {
     "end_time": "2020-07-16T02:32:14.288669Z",
     "start_time": "2020-07-16T02:32:14.135847Z"
    }
   },
   "outputs": [
    {
     "data": {
      "text/plain": [
       "0.04540748992057795"
      ]
     },
     "execution_count": 36,
     "metadata": {},
     "output_type": "execute_result"
    }
   ],
   "source": [
    "ss, sil_samp = silhouette_score_block(z, y.astype('int'), n_jobs = -1)\n",
    "ss"
   ]
  },
  {
   "cell_type": "code",
   "execution_count": 37,
   "metadata": {
    "ExecuteTime": {
     "end_time": "2020-07-16T02:32:14.563574Z",
     "start_time": "2020-07-16T02:32:14.289623Z"
    }
   },
   "outputs": [
    {
     "data": {
      "image/png": "[encoded data removed]",
      "text/plain": [
       "<Figure size 576x576 with 2 Axes>"
      ]
     },
     "metadata": {
      "needs_background": "light"
     },
     "output_type": "display_data"
    }
   ],
   "source": [
    "z = projection_df[projection_df.class_== 'TSNE'].train_z.values[0]\n",
    "y = projection_df.train_label.values[0]\n",
    "fig, ax = plt.subplots( figsize=(8, 8))\n",
    "sc = ax.scatter(\n",
    "    z[:, 0],\n",
    "    z[:, 1],\n",
    "    c=sil_samp,\n",
    "    cmap=\"viridis\",\n",
    "    s=0.1,\n",
    "    alpha=0.5,\n",
    "    rasterized=True,\n",
    ")\n",
    "ax.axis('equal')\n",
    "plt.colorbar(sc, ax=ax);"
   ]
  },
  {
   "cell_type": "code",
   "execution_count": 38,
   "metadata": {
    "ExecuteTime": {
     "end_time": "2020-07-16T02:32:14.675376Z",
     "start_time": "2020-07-16T02:32:14.564936Z"
    }
   },
   "outputs": [
    {
     "data": {
      "text/plain": [
       "(array([  60.,  267.,  434.,  620.,  583.,  646., 1028.,  543.,  105.,\n",
       "         195.]),\n",
       " array([-0.94406126, -0.75434224, -0.56462323, -0.37490421, -0.1851852 ,\n",
       "         0.00453382,  0.19425284,  0.38397185,  0.57369087,  0.76340988,\n",
       "         0.9531289 ]),\n",
       " <a list of 10 Patch objects>)"
      ]
     },
     "execution_count": 38,
     "metadata": {},
     "output_type": "execute_result"
    },
    {
     "data": {
      "image/png": "[encoded data removed]",
      "text/plain": [
       "<Figure size 432x288 with 1 Axes>"
      ]
     },
     "metadata": {
      "needs_background": "light"
     },
     "output_type": "display_data"
    }
   ],
   "source": [
    "plt.hist(sil_samp)"
   ]
  },
  {
   "cell_type": "code",
   "execution_count": 39,
   "metadata": {
    "ExecuteTime": {
     "end_time": "2020-07-16T02:32:14.696019Z",
     "start_time": "2020-07-16T02:32:14.676812Z"
    }
   },
   "outputs": [
    {
     "name": "stdout",
     "output_type": "stream",
     "text": [
      "/mnt/cube/tsainbur/Projects/github_repos/umap_tf_networks/models/projections/macosko2015/64/umap-learn/z_test.npy\n",
      "/mnt/cube/tsainbur/Projects/github_repos/umap_tf_networks/models/projections/macosko2015/64/network/z_test.npy\n",
      "/mnt/cube/tsainbur/Projects/github_repos/umap_tf_networks/models/projections/macosko2015/64/autoencoder/z_test.npy\n",
      "/mnt/cube/tsainbur/Projects/github_repos/umap_tf_networks/models/projections/macosko2015/64/PCA/z_test.npy\n",
      "/mnt/cube/tsainbur/Projects/github_repos/umap_tf_networks/models/projections/macosko2015/64/TSNE/z_test.npy\n",
      "[Errno 2] No such file or directory: '/mnt/cube/tsainbur/Projects/github_repos/umap_tf_networks/models/projections/macosko2015/64/TSNE/z_test.npy'\n"
     ]
    }
   ],
   "source": [
    "projection_df_64 = pd.DataFrame(columns = ['dataset', 'class_', 'train_z', 'train_label'])\n",
    "for class_ in classes:\n",
    "    print(output_dir / dataset / '64' / class_ / 'z_test.npy')\n",
    "    try:\n",
    "        z = np.load(output_dir / dataset / '64' / class_ / 'z_test.npy')\n",
    "        projection_df_64.loc[len(projection_df_64)] = [dataset, class_, z, y]\n",
    "    except FileNotFoundError as e:\n",
    "        print(e)\n",
    "projection_df_64['dim'] = 64"
   ]
  },
  {
   "cell_type": "code",
   "execution_count": 40,
   "metadata": {
    "ExecuteTime": {
     "end_time": "2020-07-16T02:32:14.962342Z",
     "start_time": "2020-07-16T02:32:14.697614Z"
    }
   },
   "outputs": [
    {
     "data": {
      "text/html": [
       "<div>\n",
       "<style scoped>\n",
       "    .dataframe tbody tr th:only-of-type {\n",
       "        vertical-align: middle;\n",
       "    }\n",
       "\n",
       "    .dataframe tbody tr th {\n",
       "        vertical-align: top;\n",
       "    }\n",
       "\n",
       "    .dataframe thead th {\n",
       "        text-align: right;\n",
       "    }\n",
       "</style>\n",
       "<table border=\"1\" class=\"dataframe\">\n",
       "  <thead>\n",
       "    <tr style=\"text-align: right;\">\n",
       "      <th></th>\n",
       "      <th>dataset</th>\n",
       "      <th>class_</th>\n",
       "      <th>train_z</th>\n",
       "      <th>train_label</th>\n",
       "      <th>dim</th>\n",
       "    </tr>\n",
       "  </thead>\n",
       "  <tbody>\n",
       "    <tr>\n",
       "      <th>0</th>\n",
       "      <td>macosko2015</td>\n",
       "      <td>umap-learn</td>\n",
       "      <td>[[1.0537016, 8.398526, 10.593911, 0.35060787, ...</td>\n",
       "      <td>[Rods, Amacrine cells, Rods, Rods, Amacrine ce...</td>\n",
       "      <td>64</td>\n",
       "    </tr>\n",
       "    <tr>\n",
       "      <th>1</th>\n",
       "      <td>macosko2015</td>\n",
       "      <td>network</td>\n",
       "      <td>[[1.4117787, -0.57711494, -1.275607, 0.9532537...</td>\n",
       "      <td>[Rods, Amacrine cells, Rods, Rods, Amacrine ce...</td>\n",
       "      <td>64</td>\n",
       "    </tr>\n",
       "    <tr>\n",
       "      <th>2</th>\n",
       "      <td>macosko2015</td>\n",
       "      <td>autoencoder</td>\n",
       "      <td>[[-1.0849965, 6.8297834, -1.2966242, 3.6598475...</td>\n",
       "      <td>[Rods, Amacrine cells, Rods, Rods, Amacrine ce...</td>\n",
       "      <td>64</td>\n",
       "    </tr>\n",
       "    <tr>\n",
       "      <th>3</th>\n",
       "      <td>macosko2015</td>\n",
       "      <td>PCA</td>\n",
       "      <td>[[-6.048407231019987, 0.8438246575800042, 1.50...</td>\n",
       "      <td>[Rods, Amacrine cells, Rods, Rods, Amacrine ce...</td>\n",
       "      <td>64</td>\n",
       "    </tr>\n",
       "  </tbody>\n",
       "</table>\n",
       "</div>"
      ],
      "text/plain": [
       "       dataset       class_  \\\n",
       "0  macosko2015   umap-learn   \n",
       "1  macosko2015      network   \n",
       "2  macosko2015  autoencoder   \n",
       "3  macosko2015          PCA   \n",
       "\n",
       "                                             train_z  \\\n",
       "0  [[1.0537016, 8.398526, 10.593911, 0.35060787, ...   \n",
       "1  [[1.4117787, -0.57711494, -1.275607, 0.9532537...   \n",
       "2  [[-1.0849965, 6.8297834, -1.2966242, 3.6598475...   \n",
       "3  [[-6.048407231019987, 0.8438246575800042, 1.50...   \n",
       "\n",
       "                                         train_label  dim  \n",
       "0  [Rods, Amacrine cells, Rods, Rods, Amacrine ce...   64  \n",
       "1  [Rods, Amacrine cells, Rods, Rods, Amacrine ce...   64  \n",
       "2  [Rods, Amacrine cells, Rods, Rods, Amacrine ce...   64  \n",
       "3  [Rods, Amacrine cells, Rods, Rods, Amacrine ce...   64  "
      ]
     },
     "execution_count": 40,
     "metadata": {},
     "output_type": "execute_result"
    }
   ],
   "source": [
    "projection_df_64"
   ]
  },
  {
   "cell_type": "markdown",
   "metadata": {},
   "source": [
    "##### compute silhouette score and trustworthiness"
   ]
  },
  {
   "cell_type": "code",
   "execution_count": 41,
   "metadata": {
    "ExecuteTime": {
     "end_time": "2020-07-16T02:32:33.921876Z",
     "start_time": "2020-07-16T02:32:14.963919Z"
    }
   },
   "outputs": [
    {
     "data": {
      "application/vnd.jupyter.widget-view+json": {
       "model_id": "97436cbe6b254bce8598093cd51e840b",
       "version_major": 2,
       "version_minor": 0
      },
      "text/plain": [
       "HBox(children=(IntProgress(value=0, max=9), HTML(value='')))"
      ]
     },
     "metadata": {},
     "output_type": "display_data"
    },
    {
     "name": "stdout",
     "output_type": "stream",
     "text": [
      "\n"
     ]
    }
   ],
   "source": [
    "for idx, row in tqdm(pd.concat([projection_df, projection_df_64]).iterrows(), total = len(projection_df)+ len(projection_df_64)):\n",
    "    ss, sil_samp = silhouette_score_block(row.train_z, row.train_label, n_jobs = -1)\n",
    "    tw = trustworthiness(X_test_flat[:10000], row.train_z[:10000])\n",
    "    metrics_df.loc[len(metrics_df)] = [dataset, row.class_, row.dim, tw, ss, sil_samp]"
   ]
  },
  {
   "cell_type": "markdown",
   "metadata": {},
   "source": [
    "### Cassin's"
   ]
  },
  {
   "cell_type": "markdown",
   "metadata": {},
   "source": [
    "##### load dataset"
   ]
  },
  {
   "cell_type": "code",
   "execution_count": 56,
   "metadata": {
    "ExecuteTime": {
     "end_time": "2020-07-16T04:27:56.802420Z",
     "start_time": "2020-07-16T04:27:52.540988Z"
    }
   },
   "outputs": [],
   "source": [
    "from tfumap.paths import ensure_dir, MODEL_DIR, DATA_DIR\n",
    "\n",
    "syllable_df = pd.read_pickle(DATA_DIR/'cassins'/ 'cassins.pickle')\n",
    "\n",
    "top_labels = (\n",
    "    pd.DataFrame(\n",
    "        {i: [np.sum(syllable_df.labels.values == i)] for i in syllable_df.labels.unique()}\n",
    "    )\n",
    "    .T.sort_values(by=0, ascending=False)[:20]\n",
    "    .T\n",
    ")\n",
    "\n",
    "sylllable_df = syllable_df[syllable_df.labels.isin(top_labels.columns)]\n",
    "\n",
    "\n",
    "sylllable_df = sylllable_df.reset_index()\n",
    "\n",
    "specs = np.array(list(sylllable_df.spectrogram.values))\n",
    "specs.shape\n",
    "\n",
    "sylllable_df['subset'] = 'train'\n",
    "sylllable_df.loc[:1000, 'subset'] = 'valid'\n",
    "sylllable_df.loc[1000:1999, 'subset'] = 'test'\n",
    "\n",
    "\n",
    "Y_train = np.array(list(sylllable_df.labels.values[sylllable_df.subset == 'train']))\n",
    "Y_valid = np.array(list(sylllable_df.labels.values[sylllable_df.subset == 'valid']))\n",
    "Y_test = np.array(list(sylllable_df.labels.values[sylllable_df.subset == 'test']))\n",
    "\n",
    "X_train = np.array(list(sylllable_df.spectrogram.values[sylllable_df.subset == 'train'])) #/ 255.\n",
    "X_valid = np.array(list(sylllable_df.spectrogram.values[sylllable_df.subset == 'valid']))# / 255.\n",
    "X_test = np.array(list(sylllable_df.spectrogram.values[sylllable_df.subset == 'test'])) #/ 255.\n",
    "\n",
    "X_train_flat = X_train.reshape((len(X_train), np.product(np.shape(X_train)[1:])))\n",
    "X_test_flat = X_test.reshape((len(X_test), np.product(np.shape(X_test)[1:])))\n",
    "\n",
    "from sklearn.preprocessing import OrdinalEncoder\n",
    "enc = OrdinalEncoder()\n",
    "Y_train = enc.fit_transform([[i] for i in Y_train]).astype('int').flatten()"
   ]
  },
  {
   "cell_type": "code",
   "execution_count": 57,
   "metadata": {
    "ExecuteTime": {
     "end_time": "2020-07-16T04:27:56.806264Z",
     "start_time": "2020-07-16T04:27:56.804077Z"
    }
   },
   "outputs": [],
   "source": [
    "dataset = 'cassins_dtw'"
   ]
  },
  {
   "cell_type": "code",
   "execution_count": 58,
   "metadata": {
    "ExecuteTime": {
     "end_time": "2020-07-16T04:27:56.819876Z",
     "start_time": "2020-07-16T04:27:56.807779Z"
    }
   },
   "outputs": [],
   "source": [
    "classes = ['umap-learn',  'network', 'autoencoder', 'PCA', 'TSNE']"
   ]
  },
  {
   "cell_type": "code",
   "execution_count": 59,
   "metadata": {
    "ExecuteTime": {
     "end_time": "2020-07-16T04:27:56.848266Z",
     "start_time": "2020-07-16T04:27:56.821783Z"
    }
   },
   "outputs": [
    {
     "name": "stdout",
     "output_type": "stream",
     "text": [
      "/mnt/cube/tsainbur/Projects/github_repos/umap_tf_networks/models/projections/cassins_dtw/umap-learn\n",
      "(1000, 2)\n",
      "/mnt/cube/tsainbur/Projects/github_repos/umap_tf_networks/models/projections/cassins_dtw/network\n",
      "(1000, 2)\n",
      "/mnt/cube/tsainbur/Projects/github_repos/umap_tf_networks/models/projections/cassins_dtw/autoencoder\n",
      "(1000, 2)\n",
      "/mnt/cube/tsainbur/Projects/github_repos/umap_tf_networks/models/projections/cassins_dtw/PCA\n",
      "(1000, 2)\n",
      "/mnt/cube/tsainbur/Projects/github_repos/umap_tf_networks/models/projections/cassins_dtw/TSNE\n",
      "(1000, 2)\n"
     ]
    }
   ],
   "source": [
    "projection_df = pd.DataFrame(columns = ['dataset', 'class_', 'train_z', 'train_label'])\n",
    "for class_ in classes:\n",
    "    print(output_dir / dataset / class_)\n",
    "    z = np.load(output_dir / dataset / class_ / 'z_test.npy')\n",
    "    print(z.shape)\n",
    "    projection_df.loc[len(projection_df)] = [dataset, class_, z, Y_test]\n",
    "projection_df['dim'] = 2"
   ]
  },
  {
   "cell_type": "code",
   "execution_count": 60,
   "metadata": {
    "ExecuteTime": {
     "end_time": "2020-07-16T04:27:56.867875Z",
     "start_time": "2020-07-16T04:27:56.849437Z"
    }
   },
   "outputs": [
    {
     "name": "stdout",
     "output_type": "stream",
     "text": [
      "/mnt/cube/tsainbur/Projects/github_repos/umap_tf_networks/models/projections/cassins_dtw/64/umap-learn/z_test.npy\n",
      "/mnt/cube/tsainbur/Projects/github_repos/umap_tf_networks/models/projections/cassins_dtw/64/network/z_test.npy\n",
      "/mnt/cube/tsainbur/Projects/github_repos/umap_tf_networks/models/projections/cassins_dtw/64/autoencoder/z_test.npy\n",
      "/mnt/cube/tsainbur/Projects/github_repos/umap_tf_networks/models/projections/cassins_dtw/64/PCA/z_test.npy\n",
      "/mnt/cube/tsainbur/Projects/github_repos/umap_tf_networks/models/projections/cassins_dtw/64/TSNE/z_test.npy\n",
      "[Errno 2] No such file or directory: '/mnt/cube/tsainbur/Projects/github_repos/umap_tf_networks/models/projections/cassins_dtw/64/TSNE/z_test.npy'\n"
     ]
    }
   ],
   "source": [
    "projection_df_64 = pd.DataFrame(columns = ['dataset', 'class_', 'train_z', 'train_label'])\n",
    "for class_ in classes:\n",
    "    print(output_dir / dataset / '64' / class_ / 'z_test.npy')\n",
    "    try:\n",
    "        z = np.load(output_dir / dataset / '64' / class_ / 'z_test.npy')\n",
    "        projection_df_64.loc[len(projection_df_64)] = [dataset, class_, z, Y_test]\n",
    "    except FileNotFoundError as e:\n",
    "        print(e)\n",
    "projection_df_64['dim'] = 64"
   ]
  },
  {
   "cell_type": "code",
   "execution_count": 61,
   "metadata": {
    "ExecuteTime": {
     "end_time": "2020-07-16T04:27:57.132586Z",
     "start_time": "2020-07-16T04:27:56.869012Z"
    }
   },
   "outputs": [
    {
     "data": {
      "text/html": [
       "<div>\n",
       "<style scoped>\n",
       "    .dataframe tbody tr th:only-of-type {\n",
       "        vertical-align: middle;\n",
       "    }\n",
       "\n",
       "    .dataframe tbody tr th {\n",
       "        vertical-align: top;\n",
       "    }\n",
       "\n",
       "    .dataframe thead th {\n",
       "        text-align: right;\n",
       "    }\n",
       "</style>\n",
       "<table border=\"1\" class=\"dataframe\">\n",
       "  <thead>\n",
       "    <tr style=\"text-align: right;\">\n",
       "      <th></th>\n",
       "      <th>dataset</th>\n",
       "      <th>class_</th>\n",
       "      <th>train_z</th>\n",
       "      <th>train_label</th>\n",
       "      <th>dim</th>\n",
       "    </tr>\n",
       "  </thead>\n",
       "  <tbody>\n",
       "    <tr>\n",
       "      <th>0</th>\n",
       "      <td>cassins_dtw</td>\n",
       "      <td>umap-learn</td>\n",
       "      <td>[[10.0358715, 1.5026189, 1.4839272, 7.6965694,...</td>\n",
       "      <td>[en, ai, aj, en, ai, aj, en, en, ah, ai, en, a...</td>\n",
       "      <td>64</td>\n",
       "    </tr>\n",
       "    <tr>\n",
       "      <th>1</th>\n",
       "      <td>cassins_dtw</td>\n",
       "      <td>network</td>\n",
       "      <td>[[0.00652323, 0.31705543, -0.017104171, -0.094...</td>\n",
       "      <td>[en, ai, aj, en, ai, aj, en, en, ah, ai, en, a...</td>\n",
       "      <td>64</td>\n",
       "    </tr>\n",
       "    <tr>\n",
       "      <th>2</th>\n",
       "      <td>cassins_dtw</td>\n",
       "      <td>autoencoder</td>\n",
       "      <td>[[-0.1901173, -0.06890071, 0.19752231, -0.3321...</td>\n",
       "      <td>[en, ai, aj, en, ai, aj, en, en, ah, ai, en, a...</td>\n",
       "      <td>64</td>\n",
       "    </tr>\n",
       "    <tr>\n",
       "      <th>3</th>\n",
       "      <td>cassins_dtw</td>\n",
       "      <td>PCA</td>\n",
       "      <td>[[-1.3741655, -1.256713, 0.41196084, -1.696582...</td>\n",
       "      <td>[en, ai, aj, en, ai, aj, en, en, ah, ai, en, a...</td>\n",
       "      <td>64</td>\n",
       "    </tr>\n",
       "  </tbody>\n",
       "</table>\n",
       "</div>"
      ],
      "text/plain": [
       "       dataset       class_  \\\n",
       "0  cassins_dtw   umap-learn   \n",
       "1  cassins_dtw      network   \n",
       "2  cassins_dtw  autoencoder   \n",
       "3  cassins_dtw          PCA   \n",
       "\n",
       "                                             train_z  \\\n",
       "0  [[10.0358715, 1.5026189, 1.4839272, 7.6965694,...   \n",
       "1  [[0.00652323, 0.31705543, -0.017104171, -0.094...   \n",
       "2  [[-0.1901173, -0.06890071, 0.19752231, -0.3321...   \n",
       "3  [[-1.3741655, -1.256713, 0.41196084, -1.696582...   \n",
       "\n",
       "                                         train_label  dim  \n",
       "0  [en, ai, aj, en, ai, aj, en, en, ah, ai, en, a...   64  \n",
       "1  [en, ai, aj, en, ai, aj, en, en, ah, ai, en, a...   64  \n",
       "2  [en, ai, aj, en, ai, aj, en, en, ah, ai, en, a...   64  \n",
       "3  [en, ai, aj, en, ai, aj, en, en, ah, ai, en, a...   64  "
      ]
     },
     "execution_count": 61,
     "metadata": {},
     "output_type": "execute_result"
    }
   ],
   "source": [
    "projection_df_64"
   ]
  },
  {
   "cell_type": "markdown",
   "metadata": {},
   "source": [
    "##### compute silhouette score and trustworthiness"
   ]
  },
  {
   "cell_type": "code",
   "execution_count": 62,
   "metadata": {
    "ExecuteTime": {
     "end_time": "2020-07-16T04:27:58.984381Z",
     "start_time": "2020-07-16T04:27:58.979094Z"
    }
   },
   "outputs": [
    {
     "data": {
      "text/plain": [
       "(1000, 1000)"
      ]
     },
     "execution_count": 62,
     "metadata": {},
     "output_type": "execute_result"
    }
   ],
   "source": [
    "len(X_test_flat[:10000]), len(row.train_z)"
   ]
  },
  {
   "cell_type": "code",
   "execution_count": 63,
   "metadata": {
    "ExecuteTime": {
     "end_time": "2020-07-16T04:28:02.758919Z",
     "start_time": "2020-07-16T04:27:59.682573Z"
    }
   },
   "outputs": [
    {
     "data": {
      "application/vnd.jupyter.widget-view+json": {
       "model_id": "ae5f28c7401f4308961b43c1ed88affb",
       "version_major": 2,
       "version_minor": 0
      },
      "text/plain": [
       "HBox(children=(IntProgress(value=0, max=9), HTML(value='')))"
      ]
     },
     "metadata": {},
     "output_type": "display_data"
    },
    {
     "name": "stdout",
     "output_type": "stream",
     "text": [
      "\n"
     ]
    }
   ],
   "source": [
    "for idx, row in tqdm(pd.concat([projection_df, projection_df_64]).iterrows(), total = len(projection_df)+ len(projection_df_64)):\n",
    "    ss, sil_samp = silhouette_score_block(row.train_z, row.train_label, n_jobs = -1)\n",
    "    tw = trustworthiness(X_test_flat[:10000], row.train_z[:10000])\n",
    "    metrics_df.loc[len(metrics_df)] = [dataset, row.class_, row.dim, tw, ss, sil_samp]"
   ]
  },
  {
   "cell_type": "markdown",
   "metadata": {},
   "source": [
    "### Save all"
   ]
  },
  {
   "cell_type": "code",
   "execution_count": 64,
   "metadata": {
    "ExecuteTime": {
     "end_time": "2020-07-16T04:28:03.317958Z",
     "start_time": "2020-07-16T04:28:03.296223Z"
    }
   },
   "outputs": [],
   "source": [
    "metrics_df.to_pickle(DATA_DIR / 'projection_metrics_test.pickle')"
   ]
  },
  {
   "cell_type": "code",
   "execution_count": 65,
   "metadata": {
    "ExecuteTime": {
     "end_time": "2020-07-16T04:28:03.470282Z",
     "start_time": "2020-07-16T04:28:03.458576Z"
    }
   },
   "outputs": [
    {
     "data": {
      "text/html": [
       "<div>\n",
       "<style scoped>\n",
       "    .dataframe tbody tr th:only-of-type {\n",
       "        vertical-align: middle;\n",
       "    }\n",
       "\n",
       "    .dataframe tbody tr th {\n",
       "        vertical-align: top;\n",
       "    }\n",
       "\n",
       "    .dataframe thead th {\n",
       "        text-align: right;\n",
       "    }\n",
       "</style>\n",
       "<table border=\"1\" class=\"dataframe\">\n",
       "  <thead>\n",
       "    <tr style=\"text-align: right;\">\n",
       "      <th></th>\n",
       "      <th>dataset</th>\n",
       "      <th>class_</th>\n",
       "      <th>dim</th>\n",
       "      <th>trustworthiness</th>\n",
       "      <th>silhouette_score</th>\n",
       "      <th>silhouette_samples</th>\n",
       "    </tr>\n",
       "  </thead>\n",
       "  <tbody>\n",
       "    <tr>\n",
       "      <th>0</th>\n",
       "      <td>mnist</td>\n",
       "      <td>umap-learn</td>\n",
       "      <td>2</td>\n",
       "      <td>0.957523</td>\n",
       "      <td>0.498622</td>\n",
       "      <td>[0.6652105430819873, 0.5560565910285055, 0.674...</td>\n",
       "    </tr>\n",
       "    <tr>\n",
       "      <th>1</th>\n",
       "      <td>mnist</td>\n",
       "      <td>network</td>\n",
       "      <td>2</td>\n",
       "      <td>0.940794</td>\n",
       "      <td>0.556763</td>\n",
       "      <td>[0.6467435975005477, 0.7353703835055341, 0.751...</td>\n",
       "    </tr>\n",
       "    <tr>\n",
       "      <th>2</th>\n",
       "      <td>mnist</td>\n",
       "      <td>autoencoder</td>\n",
       "      <td>2</td>\n",
       "      <td>0.930384</td>\n",
       "      <td>0.469030</td>\n",
       "      <td>[0.6125063346018064, 0.5963238260826161, 0.657...</td>\n",
       "    </tr>\n",
       "  </tbody>\n",
       "</table>\n",
       "</div>"
      ],
      "text/plain": [
       "  dataset       class_ dim  trustworthiness  silhouette_score  \\\n",
       "0   mnist   umap-learn   2         0.957523          0.498622   \n",
       "1   mnist      network   2         0.940794          0.556763   \n",
       "2   mnist  autoencoder   2         0.930384          0.469030   \n",
       "\n",
       "                                  silhouette_samples  \n",
       "0  [0.6652105430819873, 0.5560565910285055, 0.674...  \n",
       "1  [0.6467435975005477, 0.7353703835055341, 0.751...  \n",
       "2  [0.6125063346018064, 0.5963238260826161, 0.657...  "
      ]
     },
     "execution_count": 65,
     "metadata": {},
     "output_type": "execute_result"
    }
   ],
   "source": [
    "metrics_df[:3]"
   ]
  },
  {
   "cell_type": "code",
   "execution_count": 66,
   "metadata": {
    "ExecuteTime": {
     "end_time": "2020-07-16T04:28:03.659892Z",
     "start_time": "2020-07-16T04:28:03.607265Z"
    }
   },
   "outputs": [],
   "source": [
    "import seaborn as sns"
   ]
  },
  {
   "cell_type": "code",
   "execution_count": 67,
   "metadata": {
    "ExecuteTime": {
     "end_time": "2020-07-16T04:28:03.733864Z",
     "start_time": "2020-07-16T04:28:03.730862Z"
    }
   },
   "outputs": [],
   "source": [
    "import matplotlib.pyplot as plt"
   ]
  },
  {
   "cell_type": "code",
   "execution_count": 82,
   "metadata": {
    "ExecuteTime": {
     "end_time": "2020-07-16T22:17:40.467215Z",
     "start_time": "2020-07-16T22:17:40.125117Z"
    }
   },
   "outputs": [
    {
     "data": {
      "image/png": "[encoded data removed]",
      "text/plain": [
       "<Figure size 360x72 with 1 Axes>"
      ]
     },
     "metadata": {
      "needs_background": "light"
     },
     "output_type": "display_data"
    }
   ],
   "source": [
    "palette = sns.color_palette('Reds', 1) + sns.color_palette('Blues', 6)[3:] + sns.color_palette('Greens', 1)\n",
    "sns.palplot(palette)"
   ]
  },
  {
   "cell_type": "code",
   "execution_count": 83,
   "metadata": {
    "ExecuteTime": {
     "end_time": "2020-07-16T22:17:40.472016Z",
     "start_time": "2020-07-16T22:17:40.468939Z"
    }
   },
   "outputs": [],
   "source": [
    "from tfumap.paths import FIGURE_DIR, save_fig"
   ]
  },
  {
   "cell_type": "code",
   "execution_count": 88,
   "metadata": {
    "ExecuteTime": {
     "end_time": "2020-07-16T22:20:00.335852Z",
     "start_time": "2020-07-16T22:19:59.056322Z"
    }
   },
   "outputs": [
    {
     "data": {
      "image/png": "[encoded data removed]",
      "text/plain": [
       "<Figure size 729x180 with 2 Axes>"
      ]
     },
     "metadata": {
      "needs_background": "light"
     },
     "output_type": "display_data"
    }
   ],
   "source": [
    "fg = sns.catplot(\n",
    "    x=\"dataset\",\n",
    "    y=\"silhouette_score\",\n",
    "    hue=\"class_\",\n",
    "    hue_order=[\"TSNE\", \"umap-learn\",  \"network\", \"autoencoder\", \"PCA\"],\n",
    "    order = ['mnist', 'fmnist', 'macosko2015', 'cassins_dtw', 'cifar10'],\n",
    "    col=\"dim\",\n",
    "    height=2.5, \n",
    "    aspect=1.75,\n",
    "    data=metrics_df,\n",
    "    kind=\"bar\",\n",
    "    palette=palette,\n",
    "    #legend=False\n",
    ")\n",
    "(fg.despine(bottom=True)\n",
    " .set_xticklabels(['MNIST', 'FMNIST', 'Retina', 'Cassin\\'s', 'CIFAR10'])\n",
    " .set_axis_labels(\"\", \"Silhouette Score\")\n",
    ")\n",
    "ax = fg.axes[0][0]\n",
    "ax.tick_params(axis=u'both', which=u'both',length=0)\n",
    "fg._legend._legend_title_box._text.set_text(\"\")\n",
    "#fg._legend.texts[1].set_text(\"Param. UMAP\")\n",
    "#fg._legend.texts[2].set_text(\"UMAP AE\")\n",
    "ax.set_title('2 Dimensions')\n",
    "ax = fg.axes[0][1]\n",
    "ax.tick_params(axis=u'both', which=u'both',length=0)\n",
    "\n",
    "ax.set_title('64 Dimensions')\n",
    "\n",
    "fg._legend.texts[np.where((np.array([i._text for i in fg._legend.texts]) == 'umap-learn'))[0][0]].set_text('UMAP-learn')\n",
    "fg._legend.texts[np.where((np.array([i._text for i in fg._legend.texts]) == 'network'))[0][0]].set_text('P. UMAP')\n",
    "fg._legend.texts[np.where((np.array([i._text for i in fg._legend.texts]) == 'autoencoder'))[0][0]].set_text('UMAP AE')\n",
    "\n",
    "save_fig(FIGURE_DIR/'silhouette_test', save_pdf=True, dpi=300)"
   ]
  },
  {
   "cell_type": "code",
   "execution_count": 89,
   "metadata": {
    "ExecuteTime": {
     "end_time": "2020-07-16T22:20:02.062257Z",
     "start_time": "2020-07-16T22:20:00.338205Z"
    }
   },
   "outputs": [
    {
     "data": {
      "image/png": "[encoded data removed]",
      "text/plain": [
       "<Figure size 729x180 with 2 Axes>"
      ]
     },
     "metadata": {
      "needs_background": "light"
     },
     "output_type": "display_data"
    }
   ],
   "source": [
    "fg = sns.catplot(\n",
    "    x=\"dataset\",\n",
    "    y=\"trustworthiness\",\n",
    "    hue=\"class_\",\n",
    "    hue_order=[\"TSNE\", \"umap-learn\", \"network\", \"autoencoder\", \"PCA\"],\n",
    "    order = ['mnist', 'fmnist', 'macosko2015', 'cassins_dtw', 'cifar10'],\n",
    "    col=\"dim\",\n",
    "    height=2.5, \n",
    "    aspect=1.75,\n",
    "    data=metrics_df,\n",
    "    kind=\"bar\",\n",
    "    palette=palette,\n",
    "    #legend=False\n",
    ")\n",
    "(fg.despine(bottom=True)\n",
    " .set_xticklabels(['MNIST', 'FMNIST', 'Retina', 'Cassin\\'s', 'CIFAR10'])\n",
    " .set_axis_labels(\"\", \"Trustworthiness\")\n",
    ")\n",
    "ax = fg.axes[0][0]\n",
    "ax.tick_params(axis=u'both', which=u'both',length=0)\n",
    "fg._legend._legend_title_box._text.set_text(\"\")\n",
    "#fg._legend.texts[1].set_text(\"Param. UMAP\")\n",
    "#fg._legend.texts[2].set_text(\"UMAP AE\")\n",
    "\n",
    "ax.set_title('2 Dimensions')\n",
    "ax = fg.axes[0][1]\n",
    "ax.tick_params(axis=u'both', which=u'both',length=0)\n",
    "\n",
    "ax.set_title('64 Dimensions')\n",
    "\n",
    "fg._legend.texts[np.where((np.array([i._text for i in fg._legend.texts]) == 'umap-learn'))[0][0]].set_text('UMAP-learn')\n",
    "fg._legend.texts[np.where((np.array([i._text for i in fg._legend.texts]) == 'network'))[0][0]].set_text('P. UMAP')\n",
    "fg._legend.texts[np.where((np.array([i._text for i in fg._legend.texts]) == 'autoencoder'))[0][0]].set_text('UMAP AE')\n",
    "\n",
    "save_fig(FIGURE_DIR/'trustworthiness_test', save_pdf=True, dpi=300)"
   ]
  },
  {
   "cell_type": "code",
   "execution_count": null,
   "metadata": {
    "ExecuteTime": {
     "end_time": "2020-07-16T02:32:48.559764Z",
     "start_time": "2020-07-16T02:27:35.855Z"
    }
   },
   "outputs": [],
   "source": [
    "unique_datasets = list(metrics_df.dataset.unique())\n",
    "unique_dims = list(metrics_df.dim.unique())\n",
    "unique_metric = ['trustworthiness', 'silhouette_score']\n",
    "unique_method = list(metrics_df.class_.unique())\n",
    "unique_datasets, unique_dims, unique_metric, unique_method"
   ]
  },
  {
   "cell_type": "code",
   "execution_count": null,
   "metadata": {
    "ExecuteTime": {
     "end_time": "2020-07-16T02:32:48.560564Z",
     "start_time": "2020-07-16T02:27:35.856Z"
    }
   },
   "outputs": [],
   "source": [
    "row_idx = [\n",
    "    np.concatenate([list(np.repeat(i, len(unique_dims))) for i in unique_datasets]),\n",
    "    np.concatenate([list(unique_dims) for i in unique_datasets]),  \n",
    "]\n",
    "row_idx = pd.MultiIndex.from_tuples(list(zip(*row_idx)), names=['dataset', 'dim'])\n",
    "row_idx"
   ]
  },
  {
   "cell_type": "code",
   "execution_count": null,
   "metadata": {
    "ExecuteTime": {
     "end_time": "2020-07-16T02:32:48.561331Z",
     "start_time": "2020-07-16T02:27:35.857Z"
    }
   },
   "outputs": [],
   "source": [
    "col_idx = [\n",
    "    np.concatenate([list(np.repeat(i, len(unique_metric))) for i in unique_method]),\n",
    "    np.concatenate([list(unique_metric) for i in unique_method]),  \n",
    "\n",
    "]\n",
    "col_idx = pd.MultiIndex.from_tuples(list(zip(*col_idx)), names=['method', 'metric'])\n",
    "col_idx"
   ]
  },
  {
   "cell_type": "code",
   "execution_count": null,
   "metadata": {
    "ExecuteTime": {
     "end_time": "2020-07-16T02:32:48.562088Z",
     "start_time": "2020-07-16T02:27:35.858Z"
    }
   },
   "outputs": [],
   "source": [
    "results_df = pd.DataFrame(-1*np.ones((len(row_idx), len(col_idx))), index=row_idx, columns=col_idx)\n",
    "results_df"
   ]
  },
  {
   "cell_type": "code",
   "execution_count": null,
   "metadata": {
    "ExecuteTime": {
     "end_time": "2020-07-16T02:32:48.562821Z",
     "start_time": "2020-07-16T02:27:35.860Z"
    }
   },
   "outputs": [],
   "source": [
    "results_df = pd.DataFrame(-1*np.ones((len(row_idx), len(col_idx))), index=row_idx, columns=col_idx)\n",
    "for method_ in unique_method:\n",
    "    for dataset in unique_datasets:\n",
    "        for dim in unique_dims:\n",
    "            sil_scores = metrics_df[(metrics_df.dataset == dataset) &\n",
    "               (metrics_df.class_ == method_) &\n",
    "               (metrics_df.dim == dim)\n",
    "              ]['silhouette_score']\n",
    "            if len(sil_scores) > 0:\n",
    "                results_df.loc[(dataset,dim), (method_, 'silhouette_score')] = round(list(sil_scores)[0],3)\n",
    "                \n",
    "            trustworthiness_scores = metrics_df[(metrics_df.dataset == dataset) &\n",
    "               (metrics_df.class_ == method_) &\n",
    "               (metrics_df.dim == dim)\n",
    "              ]['trustworthiness']\n",
    "            if len(trustworthiness_scores) > 0:\n",
    "                results_df.loc[(dataset,dim), (method_, 'trustworthiness')] = round(list(trustworthiness_scores)[0],3)"
   ]
  },
  {
   "cell_type": "code",
   "execution_count": null,
   "metadata": {
    "ExecuteTime": {
     "end_time": "2020-07-16T02:32:48.563618Z",
     "start_time": "2020-07-16T02:27:35.861Z"
    }
   },
   "outputs": [],
   "source": [
    "results_df"
   ]
  },
  {
   "cell_type": "code",
   "execution_count": null,
   "metadata": {
    "ExecuteTime": {
     "end_time": "2020-07-16T02:32:48.564364Z",
     "start_time": "2020-07-16T02:27:35.862Z"
    }
   },
   "outputs": [],
   "source": [
    "unique_datasets = list(metrics_df.dataset.unique())\n",
    "unique_dims = list(metrics_df.dim.unique())\n",
    "unique_metric = ['trustworthiness', 'silhouette_score']\n",
    "unique_method = list(metrics_df.class_.unique())\n",
    "unique_datasets, unique_dims, unique_metric, unique_method"
   ]
  },
  {
   "cell_type": "code",
   "execution_count": null,
   "metadata": {
    "ExecuteTime": {
     "end_time": "2020-07-16T02:32:48.565175Z",
     "start_time": "2020-07-16T02:27:35.863Z"
    }
   },
   "outputs": [],
   "source": [
    "row_idx = [\n",
    "    np.concatenate([list(np.repeat(i, len(unique_method))) for i in unique_dims]),\n",
    "    np.concatenate([list(unique_method) for i in unique_dims]),  \n",
    "]\n",
    "row_idx = pd.MultiIndex.from_tuples(list(zip(*row_idx)), names=['dim', 'method'])\n",
    "row_idx"
   ]
  },
  {
   "cell_type": "code",
   "execution_count": null,
   "metadata": {
    "ExecuteTime": {
     "end_time": "2020-07-16T02:32:48.565784Z",
     "start_time": "2020-07-16T02:27:35.864Z"
    }
   },
   "outputs": [],
   "source": [
    "col_idx = [\n",
    "    np.concatenate([list(np.repeat(i, len(unique_metric))) for i in unique_datasets]),\n",
    "    np.concatenate([list(unique_metric) for i in unique_datasets]),  \n",
    "\n",
    "]\n",
    "col_idx = pd.MultiIndex.from_tuples(list(zip(*col_idx)), names=['dataset', 'metric'])\n",
    "col_idx"
   ]
  },
  {
   "cell_type": "code",
   "execution_count": null,
   "metadata": {
    "ExecuteTime": {
     "end_time": "2020-07-16T02:32:48.566395Z",
     "start_time": "2020-07-16T02:27:35.865Z"
    }
   },
   "outputs": [],
   "source": [
    "results_df = pd.DataFrame(-1*np.ones((len(row_idx), len(col_idx))), index=row_idx, columns=col_idx)\n",
    "for method_ in unique_method:\n",
    "    for dataset in unique_datasets:\n",
    "        for dim in unique_dims:\n",
    "            sil_scores = metrics_df[(metrics_df.dataset == dataset) &\n",
    "               (metrics_df.class_ == method_) &\n",
    "               (metrics_df.dim == dim)\n",
    "              ]['silhouette_score']\n",
    "            if len(sil_scores) > 0:\n",
    "                results_df.loc[(dim,method_), (dataset, 'silhouette_score')] = round(list(sil_scores)[0],3)\n",
    "                \n",
    "            trustworthiness_scores = metrics_df[(metrics_df.dataset == dataset) &\n",
    "               (metrics_df.class_ == method_) &\n",
    "               (metrics_df.dim == dim)\n",
    "              ]['trustworthiness']\n",
    "            if len(trustworthiness_scores) > 0:\n",
    "                results_df.loc[(dim,method_), (dataset, 'trustworthiness')] = round(list(trustworthiness_scores)[0],3)"
   ]
  },
  {
   "cell_type": "code",
   "execution_count": null,
   "metadata": {
    "ExecuteTime": {
     "end_time": "2020-07-16T02:32:48.566994Z",
     "start_time": "2020-07-16T02:27:35.866Z"
    }
   },
   "outputs": [],
   "source": [
    "results_df"
   ]
  },
  {
   "cell_type": "code",
   "execution_count": null,
   "metadata": {
    "ExecuteTime": {
     "end_time": "2020-07-16T02:32:48.567602Z",
     "start_time": "2020-07-16T02:27:35.867Z"
    }
   },
   "outputs": [],
   "source": [
    "import seaborn as sns"
   ]
  },
  {
   "cell_type": "code",
   "execution_count": null,
   "metadata": {
    "ExecuteTime": {
     "end_time": "2020-07-16T02:32:48.568245Z",
     "start_time": "2020-07-16T02:27:35.869Z"
    }
   },
   "outputs": [],
   "source": [
    "results_latex = results_df.to_latex(\n",
    "    bold_rows=True, multirow=True, multicolumn=True, multicolumn_format=\"l\"\n",
    ")\n",
    "replace_list = [\n",
    "    [\"\\\\begin{tabular}\", \"\\\\begin{table}\\n\\\\begin{tabular}\"],\n",
    "    [\"\\\\end{tabular}\", \"\\\\end{tabular}\\n\\\\end{table}\"],\n",
    "    [\"-1.000\", \"-\"],\n",
    "    [\"-1.00\", \"-\"],\n",
    "    [\"silhouette\\_score\", \"Silhou.\"],\n",
    "    [\"fmnist\", \"\\\\textbf{FMNIST}\"],\n",
    "    [\"mnist\", \"\\\\textbf{MNIST}\"],\n",
    "    [\"macosko2015\", \"\\\\textbf{Retina}\"],\n",
    "    [\"cassins\\_dtw\", \"\\\\textbf{Cassin's}\"],\n",
    "    [\"trustworthiness\", \"Trust.\"],\n",
    "    [\"cifar10\", \"\\\\textbf{CIFAR10}\"],\n",
    "    [\"dataset\", \"\"],\n",
    "    [\"metric\", \"\"],\n",
    "    [\"dim\", \"\"],\n",
    "    [\"method\", \"\"],\n",
    "    [\"multicolumn{2}{l}\", \"multicolumn{2}{c}\"],\n",
    "    [\"\\\\\\\\\\n   & \\\\textbf{TSNE} &           -\", \"\\\\\\%\"],\n",
    "    [\"\\\\\\\\\\n   & \\\\textbf{TSNE} &          -\", \"\\\\\\%\"],\n",
    "    [\n",
    "        \"\\textbf{} & \\textbf{} &                 &                  &                 &                  &                 &                  &                 &                  &                 &                  \\\\\",\n",
    "        \"\",\n",
    "    ],\n",
    "    [\"\\multirow{6}{*}{\\textbf{64}}\", \"\\multirow{5}{*}{\\textbf{64}}\"],\n",
    "    [\"{\\\\textbf{Cassin's}} \\\\\\\\\\n\", \"{\\\\textbf{Cassin's}} \\\\\\\\\\n \\cmidrule(r){3-4}\\cmidrule(r){5-6}\\cmidrule(r){7-8}\\cmidrule(r){9-10}\\cmidrule(r){11-12}\"],\n",
    "    [\"\\\\\\\\\\n\\\\textbf{} & \\\\textbf{} &                 &                  &                 &                  &                 &                  &                 &                  &                 &                  \", \"\"],\n",
    "    [\"\\\\end{tabular}\",\n",
    "     \"\\\\end{tabular}\\n\\caption{Silhouette score (Silhou.) and Trustworthiness (Trust.) for five datasets using 2 and 64-dimensional latent projections across each projection method.}\\label{metrics}\"]\n",
    "]\n",
    "for i, j in replace_list:\n",
    "    results_latex = results_latex.replace(i, j)\n",
    "print(results_latex)"
   ]
  },
  {
   "cell_type": "code",
   "execution_count": null,
   "metadata": {
    "ExecuteTime": {
     "end_time": "2020-07-16T02:32:48.568851Z",
     "start_time": "2020-07-16T02:27:35.870Z"
    }
   },
   "outputs": [],
   "source": [
    "results_latex"
   ]
  },
  {
   "cell_type": "code",
   "execution_count": null,
   "metadata": {},
   "outputs": [],
   "source": []
  },
  {
   "cell_type": "code",
   "execution_count": null,
   "metadata": {},
   "outputs": [],
   "source": []
  }
 ],
 "metadata": {
  "kernelspec": {
   "display_name": "Python 3",
   "language": "python",
   "name": "python3"
  },
  "language_info": {
   "codemirror_mode": {
    "name": "ipython",
    "version": 3
   },
   "file_extension": ".py",
   "mimetype": "text/x-python",
   "name": "python",
   "nbconvert_exporter": "python",
   "pygments_lexer": "ipython3",
   "version": "3.6.7"
  }
 },
 "nbformat": 4,
 "nbformat_minor": 2
}
