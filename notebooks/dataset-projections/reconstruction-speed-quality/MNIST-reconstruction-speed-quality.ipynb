{
 "cells": [
  {
   "cell_type": "markdown",
   "metadata": {},
   "source": [
    "first we need to train a parametric-umap network for each dataset... (5 datasets x 2 dimensions)\n",
    "For umap-learn, UMAP AE, Param. UMAP, PCA\n",
    "- load dataset\n",
    "- load network\n",
    "- compute reconstruction MSE\n",
    "- count time"
   ]
  },
  {
   "cell_type": "code",
   "execution_count": 1,
   "metadata": {
    "ExecuteTime": {
     "end_time": "2020-07-17T23:55:32.056998Z",
     "start_time": "2020-07-17T23:55:32.044829Z"
    }
   },
   "outputs": [],
   "source": [
    "# reload packages\n",
    "%load_ext autoreload\n",
    "%autoreload 2"
   ]
  },
  {
   "cell_type": "markdown",
   "metadata": {},
   "source": [
    "### Choose GPU (this may not be needed on your computer)"
   ]
  },
  {
   "cell_type": "code",
   "execution_count": 2,
   "metadata": {
    "ExecuteTime": {
     "end_time": "2020-07-17T23:55:32.084227Z",
     "start_time": "2020-07-17T23:55:32.058174Z"
    }
   },
   "outputs": [
    {
     "name": "stdout",
     "output_type": "stream",
     "text": [
      "env: CUDA_DEVICE_ORDER=PCI_BUS_ID\n",
      "env: CUDA_VISIBLE_DEVICES=0\n"
     ]
    }
   ],
   "source": [
    "%env CUDA_DEVICE_ORDER=PCI_BUS_ID\n",
    "%env CUDA_VISIBLE_DEVICES=0"
   ]
  },
  {
   "cell_type": "code",
   "execution_count": 3,
   "metadata": {
    "ExecuteTime": {
     "end_time": "2020-07-17T23:55:36.175198Z",
     "start_time": "2020-07-17T23:55:32.086045Z"
    }
   },
   "outputs": [
    {
     "name": "stdout",
     "output_type": "stream",
     "text": [
      "[PhysicalDevice(name='/physical_device:GPU:0', device_type='GPU')]\n"
     ]
    }
   ],
   "source": [
    "import tensorflow as tf\n",
    "gpu_devices = tf.config.experimental.list_physical_devices('GPU')\n",
    "if len(gpu_devices)>0:\n",
    "    tf.config.experimental.set_memory_growth(gpu_devices[0], True)\n",
    "print(gpu_devices)"
   ]
  },
  {
   "cell_type": "code",
   "execution_count": 4,
   "metadata": {
    "ExecuteTime": {
     "end_time": "2020-07-17T23:55:40.787632Z",
     "start_time": "2020-07-17T23:55:36.176828Z"
    }
   },
   "outputs": [],
   "source": [
    "import numpy as np\n",
    "import pickle\n",
    "import pandas as pd\n",
    "import time\n",
    "from umap import UMAP"
   ]
  },
  {
   "cell_type": "code",
   "execution_count": 5,
   "metadata": {
    "ExecuteTime": {
     "end_time": "2020-07-17T23:55:40.894092Z",
     "start_time": "2020-07-17T23:55:40.789288Z"
    }
   },
   "outputs": [
    {
     "name": "stderr",
     "output_type": "stream",
     "text": [
      "/mnt/cube/tsainbur/conda_envs/tpy3/lib/python3.6/site-packages/tqdm/autonotebook/__init__.py:14: TqdmExperimentalWarning: Using `tqdm.autonotebook.tqdm` in notebook mode. Use `tqdm.tqdm` instead to force console mode (e.g. in jupyter console)\n",
      "  \" (e.g. in jupyter console)\", TqdmExperimentalWarning)\n"
     ]
    }
   ],
   "source": [
    "from tfumap.umap import tfUMAP\n",
    "import tensorflow as tf\n",
    "from sklearn.decomposition import PCA\n",
    "from sklearn.metrics import mean_squared_error, mean_absolute_error, median_absolute_error, r2_score"
   ]
  },
  {
   "cell_type": "code",
   "execution_count": 6,
   "metadata": {
    "ExecuteTime": {
     "end_time": "2020-07-17T23:55:40.933713Z",
     "start_time": "2020-07-17T23:55:40.896058Z"
    }
   },
   "outputs": [],
   "source": [
    "from tqdm.autonotebook import tqdm"
   ]
  },
  {
   "cell_type": "code",
   "execution_count": 7,
   "metadata": {
    "ExecuteTime": {
     "end_time": "2020-07-17T23:55:41.080657Z",
     "start_time": "2020-07-17T23:55:40.935440Z"
    }
   },
   "outputs": [],
   "source": [
    "from tfumap.paths import ensure_dir, MODEL_DIR, DATA_DIR"
   ]
  },
  {
   "cell_type": "code",
   "execution_count": 8,
   "metadata": {
    "ExecuteTime": {
     "end_time": "2020-07-17T23:55:41.125306Z",
     "start_time": "2020-07-17T23:55:41.082131Z"
    }
   },
   "outputs": [],
   "source": [
    "output_dir = MODEL_DIR/'projections' "
   ]
  },
  {
   "cell_type": "code",
   "execution_count": 9,
   "metadata": {
    "ExecuteTime": {
     "end_time": "2020-07-17T23:55:41.166076Z",
     "start_time": "2020-07-17T23:55:41.126647Z"
    }
   },
   "outputs": [],
   "source": [
    "reconstruction_acc_df = pd.DataFrame(columns = ['method_', 'dimensions', 'dataset', 'MSE', 'MAE', 'MedAE', 'R2'])"
   ]
  },
  {
   "cell_type": "code",
   "execution_count": 10,
   "metadata": {
    "ExecuteTime": {
     "end_time": "2020-07-17T23:55:41.204117Z",
     "start_time": "2020-07-17T23:55:41.167368Z"
    }
   },
   "outputs": [],
   "source": [
    "reconstruction_speed_df = pd.DataFrame(columns = ['method_', 'dimensions', 'dataset', 'embed_time', 'recon_time', 'speed', 'nex'])"
   ]
  },
  {
   "cell_type": "markdown",
   "metadata": {},
   "source": [
    "### MNIST"
   ]
  },
  {
   "cell_type": "code",
   "execution_count": 11,
   "metadata": {
    "ExecuteTime": {
     "end_time": "2020-07-17T23:55:41.239274Z",
     "start_time": "2020-07-17T23:55:41.205354Z"
    }
   },
   "outputs": [],
   "source": [
    "dataset = 'mnist'\n",
    "dims = (28,28,1)"
   ]
  },
  {
   "cell_type": "markdown",
   "metadata": {},
   "source": [
    "##### load dataset"
   ]
  },
  {
   "cell_type": "code",
   "execution_count": 12,
   "metadata": {
    "ExecuteTime": {
     "end_time": "2020-07-17T23:55:41.641350Z",
     "start_time": "2020-07-17T23:55:41.240515Z"
    }
   },
   "outputs": [
    {
     "name": "stdout",
     "output_type": "stream",
     "text": [
      "50000 10000 10000\n"
     ]
    }
   ],
   "source": [
    "from tensorflow.keras.datasets import mnist\n",
    "\n",
    "# load dataset\n",
    "(train_images, Y_train), (test_images, Y_test) = mnist.load_data()\n",
    "X_train = (train_images/255.).astype('float32')\n",
    "X_test = (test_images/255.).astype('float32')\n",
    "X_train = X_train.reshape((len(X_train), np.product(np.shape(X_train)[1:])))\n",
    "X_test = X_test.reshape((len(X_test), np.product(np.shape(X_test)[1:])))\n",
    "\n",
    "# subset a validation set\n",
    "n_valid = 10000\n",
    "X_valid = X_train[-n_valid:]\n",
    "Y_valid = Y_train[-n_valid:]\n",
    "X_train = X_train[:-n_valid]\n",
    "Y_train = Y_train[:-n_valid]\n",
    "\n",
    "# flatten X\n",
    "X_train_flat = X_train.reshape((len(X_train), np.product(np.shape(X_train)[1:])))\n",
    "X_test_flat = X_test.reshape((len(X_test), np.product(np.shape(X_test)[1:])))\n",
    "X_valid_flat= X_valid.reshape((len(X_valid), np.product(np.shape(X_valid)[1:])))\n",
    "X_test = X_test.reshape((10000, 28,28,1))\n",
    "print(len(X_train), len(X_valid), len(X_test))"
   ]
  },
  {
   "cell_type": "code",
   "execution_count": null,
   "metadata": {},
   "outputs": [],
   "source": []
  },
  {
   "cell_type": "markdown",
   "metadata": {},
   "source": [
    "### AE "
   ]
  },
  {
   "cell_type": "markdown",
   "metadata": {},
   "source": [
    "##### 2 dims"
   ]
  },
  {
   "cell_type": "code",
   "execution_count": 13,
   "metadata": {
    "ExecuteTime": {
     "end_time": "2020-07-17T23:55:41.687603Z",
     "start_time": "2020-07-17T23:55:41.643052Z"
    }
   },
   "outputs": [],
   "source": [
    "load_loc = output_dir / dataset / 'autoencoder' "
   ]
  },
  {
   "cell_type": "code",
   "execution_count": 14,
   "metadata": {
    "ExecuteTime": {
     "end_time": "2020-07-17T23:55:42.120791Z",
     "start_time": "2020-07-17T23:55:41.688919Z"
    }
   },
   "outputs": [],
   "source": [
    "embedder = tfUMAP(\n",
    "    direct_embedding=False,\n",
    "    verbose=True,\n",
    "    negative_sample_rate=5,\n",
    "    training_epochs=5,\n",
    "    decoding_method = \"autoencoder\",\n",
    "    batch_size = 100,\n",
    "    dims = dims\n",
    ")"
   ]
  },
  {
   "cell_type": "code",
   "execution_count": 15,
   "metadata": {
    "ExecuteTime": {
     "end_time": "2020-07-17T23:55:42.701179Z",
     "start_time": "2020-07-17T23:55:42.122381Z"
    }
   },
   "outputs": [],
   "source": [
    "encoder = tf.keras.models.load_model((load_loc / 'encoder').as_posix())\n",
    "embedder.encoder = encoder"
   ]
  },
  {
   "cell_type": "code",
   "execution_count": 16,
   "metadata": {
    "ExecuteTime": {
     "end_time": "2020-07-17T23:55:43.030427Z",
     "start_time": "2020-07-17T23:55:42.702688Z"
    }
   },
   "outputs": [],
   "source": [
    "decoder = tf.keras.models.load_model((load_loc / 'decoder').as_posix())\n",
    "embedder.decoder = decoder"
   ]
  },
  {
   "cell_type": "code",
   "execution_count": 17,
   "metadata": {
    "ExecuteTime": {
     "end_time": "2020-07-17T23:55:45.603466Z",
     "start_time": "2020-07-17T23:55:43.032028Z"
    },
    "code_folding": []
   },
   "outputs": [],
   "source": [
    "X_recon = decoder(encoder(X_test)).numpy()\n",
    "x_real = X_test.reshape((len(X_test), np.product(np.shape(X_test)[1:])))\n",
    "x_recon = X_recon.reshape((len(X_test), np.product(np.shape(X_test)[1:])))"
   ]
  },
  {
   "cell_type": "code",
   "execution_count": 18,
   "metadata": {
    "ExecuteTime": {
     "end_time": "2020-07-17T23:55:45.922880Z",
     "start_time": "2020-07-17T23:55:45.605272Z"
    }
   },
   "outputs": [],
   "source": [
    "MSE = mean_squared_error(\n",
    "    x_real, \n",
    "    x_recon\n",
    ")\n",
    "MAE = mean_absolute_error(\n",
    "    x_real, \n",
    "    x_recon\n",
    ")\n",
    "MedAE = median_absolute_error(\n",
    "    x_real, \n",
    "    x_recon\n",
    ")\n",
    "R2 = r2_score(\n",
    "    x_real, \n",
    "    x_recon\n",
    ")"
   ]
  },
  {
   "cell_type": "code",
   "execution_count": 19,
   "metadata": {
    "ExecuteTime": {
     "end_time": "2020-07-17T23:55:45.980851Z",
     "start_time": "2020-07-17T23:55:45.924463Z"
    }
   },
   "outputs": [
    {
     "data": {
      "text/html": [
       "<div>\n",
       "<style scoped>\n",
       "    .dataframe tbody tr th:only-of-type {\n",
       "        vertical-align: middle;\n",
       "    }\n",
       "\n",
       "    .dataframe tbody tr th {\n",
       "        vertical-align: top;\n",
       "    }\n",
       "\n",
       "    .dataframe thead th {\n",
       "        text-align: right;\n",
       "    }\n",
       "</style>\n",
       "<table border=\"1\" class=\"dataframe\">\n",
       "  <thead>\n",
       "    <tr style=\"text-align: right;\">\n",
       "      <th></th>\n",
       "      <th>method_</th>\n",
       "      <th>dimensions</th>\n",
       "      <th>dataset</th>\n",
       "      <th>MSE</th>\n",
       "      <th>MAE</th>\n",
       "      <th>MedAE</th>\n",
       "      <th>R2</th>\n",
       "    </tr>\n",
       "  </thead>\n",
       "  <tbody>\n",
       "    <tr>\n",
       "      <th>0</th>\n",
       "      <td>AE</td>\n",
       "      <td>2</td>\n",
       "      <td>mnist</td>\n",
       "      <td>0.035955</td>\n",
       "      <td>0.080954</td>\n",
       "      <td>0.040411</td>\n",
       "      <td>0.048519</td>\n",
       "    </tr>\n",
       "  </tbody>\n",
       "</table>\n",
       "</div>"
      ],
      "text/plain": [
       "  method_ dimensions dataset       MSE       MAE     MedAE        R2\n",
       "0      AE          2   mnist  0.035955  0.080954  0.040411  0.048519"
      ]
     },
     "execution_count": 19,
     "metadata": {},
     "output_type": "execute_result"
    }
   ],
   "source": [
    "reconstruction_acc_df.loc[len(reconstruction_acc_df)] = ['AE', 2, dataset, MSE, MAE, MedAE, R2]\n",
    "reconstruction_acc_df"
   ]
  },
  {
   "cell_type": "markdown",
   "metadata": {},
   "source": [
    "##### 64 dims"
   ]
  },
  {
   "cell_type": "code",
   "execution_count": 20,
   "metadata": {
    "ExecuteTime": {
     "end_time": "2020-07-17T23:55:46.018541Z",
     "start_time": "2020-07-17T23:55:45.982049Z"
    }
   },
   "outputs": [],
   "source": [
    "load_loc = output_dir / dataset / '64' / 'autoencoder' "
   ]
  },
  {
   "cell_type": "code",
   "execution_count": 21,
   "metadata": {
    "ExecuteTime": {
     "end_time": "2020-07-17T23:55:46.056792Z",
     "start_time": "2020-07-17T23:55:46.021617Z"
    }
   },
   "outputs": [],
   "source": [
    "embedder = tfUMAP(\n",
    "    direct_embedding=False,\n",
    "    verbose=True,\n",
    "    negative_sample_rate=5,\n",
    "    training_epochs=5,\n",
    "    decoding_method = \"autoencoder\",\n",
    "    batch_size = 100,\n",
    "    dims = dims\n",
    ")"
   ]
  },
  {
   "cell_type": "code",
   "execution_count": 22,
   "metadata": {
    "ExecuteTime": {
     "end_time": "2020-07-17T23:55:46.249657Z",
     "start_time": "2020-07-17T23:55:46.058486Z"
    }
   },
   "outputs": [],
   "source": [
    "encoder = tf.keras.models.load_model((load_loc / 'encoder').as_posix())\n",
    "embedder.encoder = encoder"
   ]
  },
  {
   "cell_type": "code",
   "execution_count": 23,
   "metadata": {
    "ExecuteTime": {
     "end_time": "2020-07-17T23:55:46.557325Z",
     "start_time": "2020-07-17T23:55:46.251325Z"
    }
   },
   "outputs": [],
   "source": [
    "decoder = tf.keras.models.load_model((load_loc / 'decoder').as_posix())\n",
    "embedder.decoder = decoder"
   ]
  },
  {
   "cell_type": "code",
   "execution_count": 24,
   "metadata": {
    "ExecuteTime": {
     "end_time": "2020-07-17T23:55:46.861480Z",
     "start_time": "2020-07-17T23:55:46.559078Z"
    },
    "code_folding": []
   },
   "outputs": [],
   "source": [
    "X_recon = decoder(encoder(X_test)).numpy()\n",
    "x_real = X_test.reshape((len(X_test), np.product(np.shape(X_test)[1:])))\n",
    "x_recon = X_recon.reshape((len(X_test), np.product(np.shape(X_test)[1:])))"
   ]
  },
  {
   "cell_type": "code",
   "execution_count": 25,
   "metadata": {
    "ExecuteTime": {
     "end_time": "2020-07-17T23:55:47.141763Z",
     "start_time": "2020-07-17T23:55:46.863104Z"
    }
   },
   "outputs": [],
   "source": [
    "MSE = mean_squared_error(\n",
    "    x_real, \n",
    "    x_recon\n",
    ")\n",
    "MAE = mean_absolute_error(\n",
    "    x_real, \n",
    "    x_recon\n",
    ")\n",
    "MedAE = median_absolute_error(\n",
    "    x_real, \n",
    "    x_recon\n",
    ")\n",
    "R2 = r2_score(\n",
    "    x_real, \n",
    "    x_recon\n",
    ")"
   ]
  },
  {
   "cell_type": "code",
   "execution_count": 26,
   "metadata": {
    "ExecuteTime": {
     "end_time": "2020-07-17T23:55:47.193103Z",
     "start_time": "2020-07-17T23:55:47.143280Z"
    }
   },
   "outputs": [
    {
     "data": {
      "text/html": [
       "<div>\n",
       "<style scoped>\n",
       "    .dataframe tbody tr th:only-of-type {\n",
       "        vertical-align: middle;\n",
       "    }\n",
       "\n",
       "    .dataframe tbody tr th {\n",
       "        vertical-align: top;\n",
       "    }\n",
       "\n",
       "    .dataframe thead th {\n",
       "        text-align: right;\n",
       "    }\n",
       "</style>\n",
       "<table border=\"1\" class=\"dataframe\">\n",
       "  <thead>\n",
       "    <tr style=\"text-align: right;\">\n",
       "      <th></th>\n",
       "      <th>method_</th>\n",
       "      <th>dimensions</th>\n",
       "      <th>dataset</th>\n",
       "      <th>MSE</th>\n",
       "      <th>MAE</th>\n",
       "      <th>MedAE</th>\n",
       "      <th>R2</th>\n",
       "    </tr>\n",
       "  </thead>\n",
       "  <tbody>\n",
       "    <tr>\n",
       "      <th>0</th>\n",
       "      <td>AE</td>\n",
       "      <td>2</td>\n",
       "      <td>mnist</td>\n",
       "      <td>0.035955</td>\n",
       "      <td>0.080954</td>\n",
       "      <td>0.040411</td>\n",
       "      <td>0.048519</td>\n",
       "    </tr>\n",
       "    <tr>\n",
       "      <th>1</th>\n",
       "      <td>AE</td>\n",
       "      <td>64</td>\n",
       "      <td>mnist</td>\n",
       "      <td>0.002684</td>\n",
       "      <td>0.014447</td>\n",
       "      <td>0.001088</td>\n",
       "      <td>-11.882787</td>\n",
       "    </tr>\n",
       "  </tbody>\n",
       "</table>\n",
       "</div>"
      ],
      "text/plain": [
       "  method_ dimensions dataset       MSE       MAE     MedAE         R2\n",
       "0      AE          2   mnist  0.035955  0.080954  0.040411   0.048519\n",
       "1      AE         64   mnist  0.002684  0.014447  0.001088 -11.882787"
      ]
     },
     "execution_count": 26,
     "metadata": {},
     "output_type": "execute_result"
    }
   ],
   "source": [
    "reconstruction_acc_df.loc[len(reconstruction_acc_df)] = ['AE', 64, dataset, MSE, MAE, MedAE, R2]\n",
    "reconstruction_acc_df"
   ]
  },
  {
   "cell_type": "markdown",
   "metadata": {},
   "source": [
    "### Network"
   ]
  },
  {
   "cell_type": "markdown",
   "metadata": {},
   "source": [
    "##### 2 dims"
   ]
  },
  {
   "cell_type": "code",
   "execution_count": 27,
   "metadata": {
    "ExecuteTime": {
     "end_time": "2020-07-17T23:55:47.228642Z",
     "start_time": "2020-07-17T23:55:47.194352Z"
    }
   },
   "outputs": [],
   "source": [
    "load_loc = output_dir / dataset / 'recon-network' "
   ]
  },
  {
   "cell_type": "code",
   "execution_count": 28,
   "metadata": {
    "ExecuteTime": {
     "end_time": "2020-07-17T23:55:47.264230Z",
     "start_time": "2020-07-17T23:55:47.229864Z"
    }
   },
   "outputs": [],
   "source": [
    "embedder = tfUMAP(\n",
    "    direct_embedding=False,\n",
    "    verbose=True,\n",
    "    negative_sample_rate=5,\n",
    "    training_epochs=5,\n",
    "    decoding_method = \"network\",\n",
    "    batch_size = 100,\n",
    "    dims = dims\n",
    ")"
   ]
  },
  {
   "cell_type": "code",
   "execution_count": 29,
   "metadata": {
    "ExecuteTime": {
     "end_time": "2020-07-17T23:55:47.461037Z",
     "start_time": "2020-07-17T23:55:47.265496Z"
    }
   },
   "outputs": [],
   "source": [
    "encoder = tf.keras.models.load_model((load_loc / 'encoder').as_posix())\n",
    "embedder.encoder = encoder"
   ]
  },
  {
   "cell_type": "code",
   "execution_count": 30,
   "metadata": {
    "ExecuteTime": {
     "end_time": "2020-07-17T23:55:47.946729Z",
     "start_time": "2020-07-17T23:55:47.463052Z"
    }
   },
   "outputs": [],
   "source": [
    "decoder = tf.keras.models.load_model((load_loc / 'decoder').as_posix())\n",
    "embedder.decoder = decoder"
   ]
  },
  {
   "cell_type": "code",
   "execution_count": 31,
   "metadata": {
    "ExecuteTime": {
     "end_time": "2020-07-17T23:55:49.885133Z",
     "start_time": "2020-07-17T23:55:47.948144Z"
    }
   },
   "outputs": [
    {
     "data": {
      "application/vnd.jupyter.widget-view+json": {
       "model_id": "d381c9373260472b80298bd0325e4fcf",
       "version_major": 2,
       "version_minor": 0
      },
      "text/plain": [
       "HBox(children=(IntProgress(value=0, max=10), HTML(value='')))"
      ]
     },
     "metadata": {},
     "output_type": "display_data"
    },
    {
     "name": "stdout",
     "output_type": "stream",
     "text": [
      "seconds:  0.047606691950932145\n",
      "seconds:  0.06828333111479878\n",
      "seconds:  0.136085748905316\n",
      "seconds:  0.0043345659505575895\n",
      "seconds:  0.18782232096418738\n",
      "seconds:  0.0024340699892491102\n",
      "seconds:  0.1914884380530566\n",
      "seconds:  0.003859231946989894\n",
      "seconds:  0.19070990500040352\n",
      "seconds:  0.0051141290459781885\n",
      "seconds:  0.18706278898753226\n",
      "seconds:  0.0053688958287239075\n",
      "seconds:  0.1887765189167112\n",
      "seconds:  0.004326215013861656\n",
      "seconds:  0.18734967801719904\n",
      "seconds:  0.004991925088688731\n",
      "seconds:  0.18792237411253154\n",
      "seconds:  0.004749927902594209\n",
      "seconds:  0.19044224685057998\n",
      "seconds:  0.005074627930298448\n",
      "\n"
     ]
    }
   ],
   "source": [
    "n_repeats = 10\n",
    "for i in tqdm(range(n_repeats)):\n",
    "    start_time = time.monotonic()\n",
    "    z_test = encoder(X_test)\n",
    "    end_time = time.monotonic()\n",
    "    print(\"seconds: \", end_time - start_time)\n",
    "    embed_time = end_time - start_time\n",
    "\n",
    "    start_time = time.monotonic()\n",
    "    x_test_recon = decoder(z_test)\n",
    "    end_time = time.monotonic()\n",
    "    print(\"seconds: \", end_time - start_time)\n",
    "    recon_time = end_time - start_time\n",
    "    reconstruction_speed_df.loc[len(reconstruction_speed_df)] = [\n",
    "        \"network\",\n",
    "        2,\n",
    "        dataset,\n",
    "        embed_time,\n",
    "        recon_time,\n",
    "        embed_time + recon_time,\n",
    "        len(X_test_flat)\n",
    "    ]"
   ]
  },
  {
   "cell_type": "code",
   "execution_count": 32,
   "metadata": {
    "ExecuteTime": {
     "end_time": "2020-07-17T23:56:10.693130Z",
     "start_time": "2020-07-17T23:55:49.887136Z"
    }
   },
   "outputs": [
    {
     "data": {
      "application/vnd.jupyter.widget-view+json": {
       "model_id": "9701685d261045dda294c49eaa4e35b6",
       "version_major": 2,
       "version_minor": 0
      },
      "text/plain": [
       "HBox(children=(IntProgress(value=0, max=10), HTML(value='')))"
      ]
     },
     "metadata": {},
     "output_type": "display_data"
    },
    {
     "name": "stdout",
     "output_type": "stream",
     "text": [
      "seconds:  0.3397181900218129\n",
      "seconds:  1.8273342358879745\n",
      "seconds:  0.1658749538473785\n",
      "seconds:  1.6899378600064665\n",
      "seconds:  0.1654303518589586\n",
      "seconds:  2.032220804132521\n",
      "seconds:  0.1837475139182061\n",
      "seconds:  1.7667381989303976\n",
      "seconds:  0.18383879610337317\n",
      "seconds:  1.9855527710169554\n",
      "seconds:  0.19604746997356415\n",
      "seconds:  1.9348531789146364\n",
      "seconds:  0.20859102485701442\n",
      "seconds:  1.7768055831547827\n",
      "seconds:  0.18944814894348383\n",
      "seconds:  1.997139248996973\n",
      "seconds:  0.17445748392492533\n",
      "seconds:  1.7296911960002035\n",
      "seconds:  0.18382606515660882\n",
      "seconds:  1.9514724239706993\n",
      "\n"
     ]
    }
   ],
   "source": [
    "with tf.device('/CPU:0'):\n",
    "    n_repeats = 10\n",
    "    for i in tqdm(range(n_repeats)):\n",
    "        start_time = time.monotonic()\n",
    "        z_test = encoder(X_test)\n",
    "        end_time = time.monotonic()\n",
    "        print(\"seconds: \", end_time - start_time)\n",
    "        embed_time = end_time - start_time\n",
    "\n",
    "        start_time = time.monotonic()\n",
    "        x_test_recon = decoder(z_test)\n",
    "        end_time = time.monotonic()\n",
    "        print(\"seconds: \", end_time - start_time)\n",
    "        recon_time = end_time - start_time\n",
    "        reconstruction_speed_df.loc[len(reconstruction_speed_df)] = [\n",
    "            \"network-cpu\",\n",
    "            2,\n",
    "            dataset,\n",
    "            embed_time,\n",
    "            recon_time,\n",
    "            embed_time + recon_time,\n",
    "        len(X_test_flat)\n",
    "        ]"
   ]
  },
  {
   "cell_type": "code",
   "execution_count": 33,
   "metadata": {
    "ExecuteTime": {
     "end_time": "2020-07-17T23:56:10.990676Z",
     "start_time": "2020-07-17T23:56:10.694811Z"
    },
    "code_folding": []
   },
   "outputs": [],
   "source": [
    "X_recon = decoder(encoder(X_test)).numpy()\n",
    "x_real = X_test.reshape((len(X_test), np.product(np.shape(X_test)[1:])))\n",
    "x_recon = X_recon.reshape((len(X_test), np.product(np.shape(X_test)[1:])))"
   ]
  },
  {
   "cell_type": "code",
   "execution_count": 34,
   "metadata": {
    "ExecuteTime": {
     "end_time": "2020-07-17T23:56:11.311663Z",
     "start_time": "2020-07-17T23:56:10.992157Z"
    }
   },
   "outputs": [],
   "source": [
    "MSE = mean_squared_error(\n",
    "    x_real, \n",
    "    x_recon\n",
    ")\n",
    "MAE = mean_absolute_error(\n",
    "    x_real, \n",
    "    x_recon\n",
    ")\n",
    "MedAE = median_absolute_error(\n",
    "    x_real, \n",
    "    x_recon\n",
    ")\n",
    "R2 = r2_score(\n",
    "    x_real, \n",
    "    x_recon\n",
    ")"
   ]
  },
  {
   "cell_type": "code",
   "execution_count": 35,
   "metadata": {
    "ExecuteTime": {
     "end_time": "2020-07-17T23:56:11.363819Z",
     "start_time": "2020-07-17T23:56:11.313204Z"
    }
   },
   "outputs": [
    {
     "data": {
      "text/html": [
       "<div>\n",
       "<style scoped>\n",
       "    .dataframe tbody tr th:only-of-type {\n",
       "        vertical-align: middle;\n",
       "    }\n",
       "\n",
       "    .dataframe tbody tr th {\n",
       "        vertical-align: top;\n",
       "    }\n",
       "\n",
       "    .dataframe thead th {\n",
       "        text-align: right;\n",
       "    }\n",
       "</style>\n",
       "<table border=\"1\" class=\"dataframe\">\n",
       "  <thead>\n",
       "    <tr style=\"text-align: right;\">\n",
       "      <th></th>\n",
       "      <th>method_</th>\n",
       "      <th>dimensions</th>\n",
       "      <th>dataset</th>\n",
       "      <th>MSE</th>\n",
       "      <th>MAE</th>\n",
       "      <th>MedAE</th>\n",
       "      <th>R2</th>\n",
       "    </tr>\n",
       "  </thead>\n",
       "  <tbody>\n",
       "    <tr>\n",
       "      <th>0</th>\n",
       "      <td>AE</td>\n",
       "      <td>2</td>\n",
       "      <td>mnist</td>\n",
       "      <td>0.035955</td>\n",
       "      <td>0.080954</td>\n",
       "      <td>0.040411</td>\n",
       "      <td>0.048519</td>\n",
       "    </tr>\n",
       "    <tr>\n",
       "      <th>1</th>\n",
       "      <td>AE</td>\n",
       "      <td>64</td>\n",
       "      <td>mnist</td>\n",
       "      <td>0.002684</td>\n",
       "      <td>0.014447</td>\n",
       "      <td>0.001088</td>\n",
       "      <td>-11.882787</td>\n",
       "    </tr>\n",
       "    <tr>\n",
       "      <th>2</th>\n",
       "      <td>network</td>\n",
       "      <td>2</td>\n",
       "      <td>mnist</td>\n",
       "      <td>0.037375</td>\n",
       "      <td>0.083731</td>\n",
       "      <td>0.043021</td>\n",
       "      <td>0.219779</td>\n",
       "    </tr>\n",
       "  </tbody>\n",
       "</table>\n",
       "</div>"
      ],
      "text/plain": [
       "   method_ dimensions dataset       MSE       MAE     MedAE         R2\n",
       "0       AE          2   mnist  0.035955  0.080954  0.040411   0.048519\n",
       "1       AE         64   mnist  0.002684  0.014447  0.001088 -11.882787\n",
       "2  network          2   mnist  0.037375  0.083731  0.043021   0.219779"
      ]
     },
     "execution_count": 35,
     "metadata": {},
     "output_type": "execute_result"
    }
   ],
   "source": [
    "reconstruction_acc_df.loc[len(reconstruction_acc_df)] = ['network', 2, dataset, MSE, MAE, MedAE, R2]\n",
    "reconstruction_acc_df"
   ]
  },
  {
   "cell_type": "markdown",
   "metadata": {},
   "source": [
    "##### 64 dims"
   ]
  },
  {
   "cell_type": "code",
   "execution_count": 36,
   "metadata": {
    "ExecuteTime": {
     "end_time": "2020-07-17T23:56:11.401959Z",
     "start_time": "2020-07-17T23:56:11.365324Z"
    }
   },
   "outputs": [],
   "source": [
    "load_loc = output_dir / dataset / '64' / 'recon-network' "
   ]
  },
  {
   "cell_type": "code",
   "execution_count": 37,
   "metadata": {
    "ExecuteTime": {
     "end_time": "2020-07-17T23:56:11.440112Z",
     "start_time": "2020-07-17T23:56:11.403001Z"
    }
   },
   "outputs": [],
   "source": [
    "embedder = tfUMAP(\n",
    "    direct_embedding=False,\n",
    "    verbose=True,\n",
    "    negative_sample_rate=5,\n",
    "    training_epochs=5,\n",
    "    decoding_method = \"autoencoder\",\n",
    "    batch_size = 100,\n",
    "    dims = dims\n",
    ")"
   ]
  },
  {
   "cell_type": "code",
   "execution_count": 38,
   "metadata": {
    "ExecuteTime": {
     "end_time": "2020-07-17T23:56:11.642277Z",
     "start_time": "2020-07-17T23:56:11.441152Z"
    }
   },
   "outputs": [],
   "source": [
    "encoder = tf.keras.models.load_model((load_loc / 'encoder').as_posix())\n",
    "embedder.encoder = encoder"
   ]
  },
  {
   "cell_type": "code",
   "execution_count": 39,
   "metadata": {
    "ExecuteTime": {
     "end_time": "2020-07-17T23:56:11.958612Z",
     "start_time": "2020-07-17T23:56:11.643459Z"
    }
   },
   "outputs": [],
   "source": [
    "decoder = tf.keras.models.load_model((load_loc / 'decoder').as_posix())\n",
    "embedder.decoder = decoder"
   ]
  },
  {
   "cell_type": "code",
   "execution_count": 40,
   "metadata": {
    "ExecuteTime": {
     "end_time": "2020-07-17T23:56:13.905861Z",
     "start_time": "2020-07-17T23:56:11.959919Z"
    }
   },
   "outputs": [
    {
     "data": {
      "application/vnd.jupyter.widget-view+json": {
       "model_id": "0bb55147146a47fdb02dace7d1772a41",
       "version_major": 2,
       "version_minor": 0
      },
      "text/plain": [
       "HBox(children=(IntProgress(value=0, max=10), HTML(value='')))"
      ]
     },
     "metadata": {},
     "output_type": "display_data"
    },
    {
     "name": "stdout",
     "output_type": "stream",
     "text": [
      "seconds:  0.04903166298754513\n",
      "seconds:  0.06792001193389297\n",
      "seconds:  0.13675066991709173\n",
      "seconds:  0.004365356173366308\n",
      "seconds:  0.1894212979823351\n",
      "seconds:  0.0030193268321454525\n",
      "seconds:  0.19372298289090395\n",
      "seconds:  0.004429218824952841\n",
      "seconds:  0.18937998707406223\n",
      "seconds:  0.0041558409575372934\n",
      "seconds:  0.19039957597851753\n",
      "seconds:  0.004118279088288546\n",
      "seconds:  0.19103462505154312\n",
      "seconds:  0.004932042909786105\n",
      "seconds:  0.18687354493886232\n",
      "seconds:  0.0045830439776182175\n",
      "seconds:  0.1911635589785874\n",
      "seconds:  0.0030429689213633537\n",
      "seconds:  0.1935827590059489\n",
      "seconds:  0.004507890902459621\n",
      "\n"
     ]
    }
   ],
   "source": [
    "n_repeats = 10\n",
    "for i in tqdm(range(n_repeats)):\n",
    "    start_time = time.monotonic()\n",
    "    z_test = encoder(X_test)\n",
    "    end_time = time.monotonic()\n",
    "    print(\"seconds: \", end_time - start_time)\n",
    "    embed_time = end_time - start_time\n",
    "\n",
    "    start_time = time.monotonic()\n",
    "    x_test_recon = decoder(z_test)\n",
    "    end_time = time.monotonic()\n",
    "    print(\"seconds: \", end_time - start_time)\n",
    "    recon_time = end_time - start_time\n",
    "    reconstruction_speed_df.loc[len(reconstruction_speed_df)] = [\n",
    "        \"network\",\n",
    "        64,\n",
    "        dataset,\n",
    "        embed_time,\n",
    "        recon_time,\n",
    "        embed_time + recon_time,\n",
    "        len(X_test_flat)\n",
    "    ]"
   ]
  },
  {
   "cell_type": "code",
   "execution_count": 41,
   "metadata": {
    "ExecuteTime": {
     "end_time": "2020-07-17T23:56:33.707905Z",
     "start_time": "2020-07-17T23:56:13.907236Z"
    }
   },
   "outputs": [
    {
     "data": {
      "application/vnd.jupyter.widget-view+json": {
       "model_id": "ae882d873dbc40f9b21930b9cfe23009",
       "version_major": 2,
       "version_minor": 0
      },
      "text/plain": [
       "HBox(children=(IntProgress(value=0, max=10), HTML(value='')))"
      ]
     },
     "metadata": {},
     "output_type": "display_data"
    },
    {
     "name": "stdout",
     "output_type": "stream",
     "text": [
      "seconds:  0.3112418248783797\n",
      "seconds:  1.8116632369346917\n",
      "seconds:  0.1763658698182553\n",
      "seconds:  1.8126914270687848\n",
      "seconds:  0.17950269090943038\n",
      "seconds:  1.734817026881501\n",
      "seconds:  0.17828768491744995\n",
      "seconds:  1.770699128974229\n",
      "seconds:  0.18126451107673347\n",
      "seconds:  1.779010941972956\n",
      "seconds:  0.18361581908538938\n",
      "seconds:  1.7863495650235564\n",
      "seconds:  0.18945515900850296\n",
      "seconds:  1.7586877120193094\n",
      "seconds:  0.17092587193474174\n",
      "seconds:  1.7274982770904899\n",
      "seconds:  0.17903384706005454\n",
      "seconds:  1.793327279156074\n",
      "seconds:  0.17443917389027774\n",
      "seconds:  1.7762416929472238\n",
      "\n"
     ]
    }
   ],
   "source": [
    "with tf.device(\"/CPU:0\"):\n",
    "    n_repeats = 10\n",
    "    for i in tqdm(range(n_repeats)):\n",
    "        start_time = time.monotonic()\n",
    "        z_test = encoder(X_test)\n",
    "        end_time = time.monotonic()\n",
    "        print(\"seconds: \", end_time - start_time)\n",
    "        embed_time = end_time - start_time\n",
    "\n",
    "        start_time = time.monotonic()\n",
    "        x_test_recon = decoder(z_test)\n",
    "        end_time = time.monotonic()\n",
    "        print(\"seconds: \", end_time - start_time)\n",
    "        recon_time = end_time - start_time\n",
    "        reconstruction_speed_df.loc[len(reconstruction_speed_df)] = [\n",
    "            \"network-cpu\",\n",
    "            64,\n",
    "            dataset,\n",
    "            embed_time,\n",
    "            recon_time,\n",
    "            embed_time + recon_time,\n",
    "        len(X_test_flat)\n",
    "        ]"
   ]
  },
  {
   "cell_type": "code",
   "execution_count": 42,
   "metadata": {
    "ExecuteTime": {
     "end_time": "2020-07-17T23:56:33.953253Z",
     "start_time": "2020-07-17T23:56:33.709445Z"
    }
   },
   "outputs": [
    {
     "data": {
      "text/html": [
       "<div>\n",
       "<style scoped>\n",
       "    .dataframe tbody tr th:only-of-type {\n",
       "        vertical-align: middle;\n",
       "    }\n",
       "\n",
       "    .dataframe tbody tr th {\n",
       "        vertical-align: top;\n",
       "    }\n",
       "\n",
       "    .dataframe thead th {\n",
       "        text-align: right;\n",
       "    }\n",
       "</style>\n",
       "<table border=\"1\" class=\"dataframe\">\n",
       "  <thead>\n",
       "    <tr style=\"text-align: right;\">\n",
       "      <th></th>\n",
       "      <th>method_</th>\n",
       "      <th>dimensions</th>\n",
       "      <th>dataset</th>\n",
       "      <th>embed_time</th>\n",
       "      <th>recon_time</th>\n",
       "      <th>speed</th>\n",
       "      <th>nex</th>\n",
       "    </tr>\n",
       "  </thead>\n",
       "  <tbody>\n",
       "    <tr>\n",
       "      <th>0</th>\n",
       "      <td>network</td>\n",
       "      <td>2</td>\n",
       "      <td>mnist</td>\n",
       "      <td>0.047607</td>\n",
       "      <td>0.068283</td>\n",
       "      <td>0.115890</td>\n",
       "      <td>10000</td>\n",
       "    </tr>\n",
       "    <tr>\n",
       "      <th>1</th>\n",
       "      <td>network</td>\n",
       "      <td>2</td>\n",
       "      <td>mnist</td>\n",
       "      <td>0.136086</td>\n",
       "      <td>0.004335</td>\n",
       "      <td>0.140420</td>\n",
       "      <td>10000</td>\n",
       "    </tr>\n",
       "    <tr>\n",
       "      <th>2</th>\n",
       "      <td>network</td>\n",
       "      <td>2</td>\n",
       "      <td>mnist</td>\n",
       "      <td>0.187822</td>\n",
       "      <td>0.002434</td>\n",
       "      <td>0.190256</td>\n",
       "      <td>10000</td>\n",
       "    </tr>\n",
       "    <tr>\n",
       "      <th>3</th>\n",
       "      <td>network</td>\n",
       "      <td>2</td>\n",
       "      <td>mnist</td>\n",
       "      <td>0.191488</td>\n",
       "      <td>0.003859</td>\n",
       "      <td>0.195348</td>\n",
       "      <td>10000</td>\n",
       "    </tr>\n",
       "    <tr>\n",
       "      <th>4</th>\n",
       "      <td>network</td>\n",
       "      <td>2</td>\n",
       "      <td>mnist</td>\n",
       "      <td>0.190710</td>\n",
       "      <td>0.005114</td>\n",
       "      <td>0.195824</td>\n",
       "      <td>10000</td>\n",
       "    </tr>\n",
       "    <tr>\n",
       "      <th>5</th>\n",
       "      <td>network</td>\n",
       "      <td>2</td>\n",
       "      <td>mnist</td>\n",
       "      <td>0.187063</td>\n",
       "      <td>0.005369</td>\n",
       "      <td>0.192432</td>\n",
       "      <td>10000</td>\n",
       "    </tr>\n",
       "    <tr>\n",
       "      <th>6</th>\n",
       "      <td>network</td>\n",
       "      <td>2</td>\n",
       "      <td>mnist</td>\n",
       "      <td>0.188777</td>\n",
       "      <td>0.004326</td>\n",
       "      <td>0.193103</td>\n",
       "      <td>10000</td>\n",
       "    </tr>\n",
       "    <tr>\n",
       "      <th>7</th>\n",
       "      <td>network</td>\n",
       "      <td>2</td>\n",
       "      <td>mnist</td>\n",
       "      <td>0.187350</td>\n",
       "      <td>0.004992</td>\n",
       "      <td>0.192342</td>\n",
       "      <td>10000</td>\n",
       "    </tr>\n",
       "    <tr>\n",
       "      <th>8</th>\n",
       "      <td>network</td>\n",
       "      <td>2</td>\n",
       "      <td>mnist</td>\n",
       "      <td>0.187922</td>\n",
       "      <td>0.004750</td>\n",
       "      <td>0.192672</td>\n",
       "      <td>10000</td>\n",
       "    </tr>\n",
       "    <tr>\n",
       "      <th>9</th>\n",
       "      <td>network</td>\n",
       "      <td>2</td>\n",
       "      <td>mnist</td>\n",
       "      <td>0.190442</td>\n",
       "      <td>0.005075</td>\n",
       "      <td>0.195517</td>\n",
       "      <td>10000</td>\n",
       "    </tr>\n",
       "    <tr>\n",
       "      <th>10</th>\n",
       "      <td>network-cpu</td>\n",
       "      <td>2</td>\n",
       "      <td>mnist</td>\n",
       "      <td>0.339718</td>\n",
       "      <td>1.827334</td>\n",
       "      <td>2.167052</td>\n",
       "      <td>10000</td>\n",
       "    </tr>\n",
       "    <tr>\n",
       "      <th>11</th>\n",
       "      <td>network-cpu</td>\n",
       "      <td>2</td>\n",
       "      <td>mnist</td>\n",
       "      <td>0.165875</td>\n",
       "      <td>1.689938</td>\n",
       "      <td>1.855813</td>\n",
       "      <td>10000</td>\n",
       "    </tr>\n",
       "    <tr>\n",
       "      <th>12</th>\n",
       "      <td>network-cpu</td>\n",
       "      <td>2</td>\n",
       "      <td>mnist</td>\n",
       "      <td>0.165430</td>\n",
       "      <td>2.032221</td>\n",
       "      <td>2.197651</td>\n",
       "      <td>10000</td>\n",
       "    </tr>\n",
       "    <tr>\n",
       "      <th>13</th>\n",
       "      <td>network-cpu</td>\n",
       "      <td>2</td>\n",
       "      <td>mnist</td>\n",
       "      <td>0.183748</td>\n",
       "      <td>1.766738</td>\n",
       "      <td>1.950486</td>\n",
       "      <td>10000</td>\n",
       "    </tr>\n",
       "    <tr>\n",
       "      <th>14</th>\n",
       "      <td>network-cpu</td>\n",
       "      <td>2</td>\n",
       "      <td>mnist</td>\n",
       "      <td>0.183839</td>\n",
       "      <td>1.985553</td>\n",
       "      <td>2.169392</td>\n",
       "      <td>10000</td>\n",
       "    </tr>\n",
       "    <tr>\n",
       "      <th>15</th>\n",
       "      <td>network-cpu</td>\n",
       "      <td>2</td>\n",
       "      <td>mnist</td>\n",
       "      <td>0.196047</td>\n",
       "      <td>1.934853</td>\n",
       "      <td>2.130901</td>\n",
       "      <td>10000</td>\n",
       "    </tr>\n",
       "    <tr>\n",
       "      <th>16</th>\n",
       "      <td>network-cpu</td>\n",
       "      <td>2</td>\n",
       "      <td>mnist</td>\n",
       "      <td>0.208591</td>\n",
       "      <td>1.776806</td>\n",
       "      <td>1.985397</td>\n",
       "      <td>10000</td>\n",
       "    </tr>\n",
       "    <tr>\n",
       "      <th>17</th>\n",
       "      <td>network-cpu</td>\n",
       "      <td>2</td>\n",
       "      <td>mnist</td>\n",
       "      <td>0.189448</td>\n",
       "      <td>1.997139</td>\n",
       "      <td>2.186587</td>\n",
       "      <td>10000</td>\n",
       "    </tr>\n",
       "    <tr>\n",
       "      <th>18</th>\n",
       "      <td>network-cpu</td>\n",
       "      <td>2</td>\n",
       "      <td>mnist</td>\n",
       "      <td>0.174457</td>\n",
       "      <td>1.729691</td>\n",
       "      <td>1.904149</td>\n",
       "      <td>10000</td>\n",
       "    </tr>\n",
       "    <tr>\n",
       "      <th>19</th>\n",
       "      <td>network-cpu</td>\n",
       "      <td>2</td>\n",
       "      <td>mnist</td>\n",
       "      <td>0.183826</td>\n",
       "      <td>1.951472</td>\n",
       "      <td>2.135298</td>\n",
       "      <td>10000</td>\n",
       "    </tr>\n",
       "    <tr>\n",
       "      <th>20</th>\n",
       "      <td>network</td>\n",
       "      <td>64</td>\n",
       "      <td>mnist</td>\n",
       "      <td>0.049032</td>\n",
       "      <td>0.067920</td>\n",
       "      <td>0.116952</td>\n",
       "      <td>10000</td>\n",
       "    </tr>\n",
       "    <tr>\n",
       "      <th>21</th>\n",
       "      <td>network</td>\n",
       "      <td>64</td>\n",
       "      <td>mnist</td>\n",
       "      <td>0.136751</td>\n",
       "      <td>0.004365</td>\n",
       "      <td>0.141116</td>\n",
       "      <td>10000</td>\n",
       "    </tr>\n",
       "    <tr>\n",
       "      <th>22</th>\n",
       "      <td>network</td>\n",
       "      <td>64</td>\n",
       "      <td>mnist</td>\n",
       "      <td>0.189421</td>\n",
       "      <td>0.003019</td>\n",
       "      <td>0.192441</td>\n",
       "      <td>10000</td>\n",
       "    </tr>\n",
       "    <tr>\n",
       "      <th>23</th>\n",
       "      <td>network</td>\n",
       "      <td>64</td>\n",
       "      <td>mnist</td>\n",
       "      <td>0.193723</td>\n",
       "      <td>0.004429</td>\n",
       "      <td>0.198152</td>\n",
       "      <td>10000</td>\n",
       "    </tr>\n",
       "    <tr>\n",
       "      <th>24</th>\n",
       "      <td>network</td>\n",
       "      <td>64</td>\n",
       "      <td>mnist</td>\n",
       "      <td>0.189380</td>\n",
       "      <td>0.004156</td>\n",
       "      <td>0.193536</td>\n",
       "      <td>10000</td>\n",
       "    </tr>\n",
       "    <tr>\n",
       "      <th>25</th>\n",
       "      <td>network</td>\n",
       "      <td>64</td>\n",
       "      <td>mnist</td>\n",
       "      <td>0.190400</td>\n",
       "      <td>0.004118</td>\n",
       "      <td>0.194518</td>\n",
       "      <td>10000</td>\n",
       "    </tr>\n",
       "    <tr>\n",
       "      <th>26</th>\n",
       "      <td>network</td>\n",
       "      <td>64</td>\n",
       "      <td>mnist</td>\n",
       "      <td>0.191035</td>\n",
       "      <td>0.004932</td>\n",
       "      <td>0.195967</td>\n",
       "      <td>10000</td>\n",
       "    </tr>\n",
       "    <tr>\n",
       "      <th>27</th>\n",
       "      <td>network</td>\n",
       "      <td>64</td>\n",
       "      <td>mnist</td>\n",
       "      <td>0.186874</td>\n",
       "      <td>0.004583</td>\n",
       "      <td>0.191457</td>\n",
       "      <td>10000</td>\n",
       "    </tr>\n",
       "    <tr>\n",
       "      <th>28</th>\n",
       "      <td>network</td>\n",
       "      <td>64</td>\n",
       "      <td>mnist</td>\n",
       "      <td>0.191164</td>\n",
       "      <td>0.003043</td>\n",
       "      <td>0.194207</td>\n",
       "      <td>10000</td>\n",
       "    </tr>\n",
       "    <tr>\n",
       "      <th>29</th>\n",
       "      <td>network</td>\n",
       "      <td>64</td>\n",
       "      <td>mnist</td>\n",
       "      <td>0.193583</td>\n",
       "      <td>0.004508</td>\n",
       "      <td>0.198091</td>\n",
       "      <td>10000</td>\n",
       "    </tr>\n",
       "    <tr>\n",
       "      <th>30</th>\n",
       "      <td>network-cpu</td>\n",
       "      <td>64</td>\n",
       "      <td>mnist</td>\n",
       "      <td>0.311242</td>\n",
       "      <td>1.811663</td>\n",
       "      <td>2.122905</td>\n",
       "      <td>10000</td>\n",
       "    </tr>\n",
       "    <tr>\n",
       "      <th>31</th>\n",
       "      <td>network-cpu</td>\n",
       "      <td>64</td>\n",
       "      <td>mnist</td>\n",
       "      <td>0.176366</td>\n",
       "      <td>1.812691</td>\n",
       "      <td>1.989057</td>\n",
       "      <td>10000</td>\n",
       "    </tr>\n",
       "    <tr>\n",
       "      <th>32</th>\n",
       "      <td>network-cpu</td>\n",
       "      <td>64</td>\n",
       "      <td>mnist</td>\n",
       "      <td>0.179503</td>\n",
       "      <td>1.734817</td>\n",
       "      <td>1.914320</td>\n",
       "      <td>10000</td>\n",
       "    </tr>\n",
       "    <tr>\n",
       "      <th>33</th>\n",
       "      <td>network-cpu</td>\n",
       "      <td>64</td>\n",
       "      <td>mnist</td>\n",
       "      <td>0.178288</td>\n",
       "      <td>1.770699</td>\n",
       "      <td>1.948987</td>\n",
       "      <td>10000</td>\n",
       "    </tr>\n",
       "    <tr>\n",
       "      <th>34</th>\n",
       "      <td>network-cpu</td>\n",
       "      <td>64</td>\n",
       "      <td>mnist</td>\n",
       "      <td>0.181265</td>\n",
       "      <td>1.779011</td>\n",
       "      <td>1.960275</td>\n",
       "      <td>10000</td>\n",
       "    </tr>\n",
       "    <tr>\n",
       "      <th>35</th>\n",
       "      <td>network-cpu</td>\n",
       "      <td>64</td>\n",
       "      <td>mnist</td>\n",
       "      <td>0.183616</td>\n",
       "      <td>1.786350</td>\n",
       "      <td>1.969965</td>\n",
       "      <td>10000</td>\n",
       "    </tr>\n",
       "    <tr>\n",
       "      <th>36</th>\n",
       "      <td>network-cpu</td>\n",
       "      <td>64</td>\n",
       "      <td>mnist</td>\n",
       "      <td>0.189455</td>\n",
       "      <td>1.758688</td>\n",
       "      <td>1.948143</td>\n",
       "      <td>10000</td>\n",
       "    </tr>\n",
       "    <tr>\n",
       "      <th>37</th>\n",
       "      <td>network-cpu</td>\n",
       "      <td>64</td>\n",
       "      <td>mnist</td>\n",
       "      <td>0.170926</td>\n",
       "      <td>1.727498</td>\n",
       "      <td>1.898424</td>\n",
       "      <td>10000</td>\n",
       "    </tr>\n",
       "    <tr>\n",
       "      <th>38</th>\n",
       "      <td>network-cpu</td>\n",
       "      <td>64</td>\n",
       "      <td>mnist</td>\n",
       "      <td>0.179034</td>\n",
       "      <td>1.793327</td>\n",
       "      <td>1.972361</td>\n",
       "      <td>10000</td>\n",
       "    </tr>\n",
       "    <tr>\n",
       "      <th>39</th>\n",
       "      <td>network-cpu</td>\n",
       "      <td>64</td>\n",
       "      <td>mnist</td>\n",
       "      <td>0.174439</td>\n",
       "      <td>1.776242</td>\n",
       "      <td>1.950681</td>\n",
       "      <td>10000</td>\n",
       "    </tr>\n",
       "  </tbody>\n",
       "</table>\n",
       "</div>"
      ],
      "text/plain": [
       "        method_ dimensions dataset  embed_time  recon_time     speed    nex\n",
       "0       network          2   mnist    0.047607    0.068283  0.115890  10000\n",
       "1       network          2   mnist    0.136086    0.004335  0.140420  10000\n",
       "2       network          2   mnist    0.187822    0.002434  0.190256  10000\n",
       "3       network          2   mnist    0.191488    0.003859  0.195348  10000\n",
       "4       network          2   mnist    0.190710    0.005114  0.195824  10000\n",
       "5       network          2   mnist    0.187063    0.005369  0.192432  10000\n",
       "6       network          2   mnist    0.188777    0.004326  0.193103  10000\n",
       "7       network          2   mnist    0.187350    0.004992  0.192342  10000\n",
       "8       network          2   mnist    0.187922    0.004750  0.192672  10000\n",
       "9       network          2   mnist    0.190442    0.005075  0.195517  10000\n",
       "10  network-cpu          2   mnist    0.339718    1.827334  2.167052  10000\n",
       "11  network-cpu          2   mnist    0.165875    1.689938  1.855813  10000\n",
       "12  network-cpu          2   mnist    0.165430    2.032221  2.197651  10000\n",
       "13  network-cpu          2   mnist    0.183748    1.766738  1.950486  10000\n",
       "14  network-cpu          2   mnist    0.183839    1.985553  2.169392  10000\n",
       "15  network-cpu          2   mnist    0.196047    1.934853  2.130901  10000\n",
       "16  network-cpu          2   mnist    0.208591    1.776806  1.985397  10000\n",
       "17  network-cpu          2   mnist    0.189448    1.997139  2.186587  10000\n",
       "18  network-cpu          2   mnist    0.174457    1.729691  1.904149  10000\n",
       "19  network-cpu          2   mnist    0.183826    1.951472  2.135298  10000\n",
       "20      network         64   mnist    0.049032    0.067920  0.116952  10000\n",
       "21      network         64   mnist    0.136751    0.004365  0.141116  10000\n",
       "22      network         64   mnist    0.189421    0.003019  0.192441  10000\n",
       "23      network         64   mnist    0.193723    0.004429  0.198152  10000\n",
       "24      network         64   mnist    0.189380    0.004156  0.193536  10000\n",
       "25      network         64   mnist    0.190400    0.004118  0.194518  10000\n",
       "26      network         64   mnist    0.191035    0.004932  0.195967  10000\n",
       "27      network         64   mnist    0.186874    0.004583  0.191457  10000\n",
       "28      network         64   mnist    0.191164    0.003043  0.194207  10000\n",
       "29      network         64   mnist    0.193583    0.004508  0.198091  10000\n",
       "30  network-cpu         64   mnist    0.311242    1.811663  2.122905  10000\n",
       "31  network-cpu         64   mnist    0.176366    1.812691  1.989057  10000\n",
       "32  network-cpu         64   mnist    0.179503    1.734817  1.914320  10000\n",
       "33  network-cpu         64   mnist    0.178288    1.770699  1.948987  10000\n",
       "34  network-cpu         64   mnist    0.181265    1.779011  1.960275  10000\n",
       "35  network-cpu         64   mnist    0.183616    1.786350  1.969965  10000\n",
       "36  network-cpu         64   mnist    0.189455    1.758688  1.948143  10000\n",
       "37  network-cpu         64   mnist    0.170926    1.727498  1.898424  10000\n",
       "38  network-cpu         64   mnist    0.179034    1.793327  1.972361  10000\n",
       "39  network-cpu         64   mnist    0.174439    1.776242  1.950681  10000"
      ]
     },
     "execution_count": 42,
     "metadata": {},
     "output_type": "execute_result"
    }
   ],
   "source": [
    "reconstruction_speed_df"
   ]
  },
  {
   "cell_type": "code",
   "execution_count": 43,
   "metadata": {
    "ExecuteTime": {
     "end_time": "2020-07-17T23:56:34.250431Z",
     "start_time": "2020-07-17T23:56:33.954667Z"
    },
    "code_folding": []
   },
   "outputs": [],
   "source": [
    "X_recon = decoder(encoder(X_test)).numpy()\n",
    "x_real = X_test.reshape((len(X_test), np.product(np.shape(X_test)[1:])))\n",
    "x_recon = X_recon.reshape((len(X_test), np.product(np.shape(X_test)[1:])))"
   ]
  },
  {
   "cell_type": "code",
   "execution_count": 44,
   "metadata": {
    "ExecuteTime": {
     "end_time": "2020-07-17T23:56:34.602722Z",
     "start_time": "2020-07-17T23:56:34.252040Z"
    }
   },
   "outputs": [],
   "source": [
    "MSE = mean_squared_error(\n",
    "    x_real, \n",
    "    x_recon\n",
    ")\n",
    "MAE = mean_absolute_error(\n",
    "    x_real, \n",
    "    x_recon\n",
    ")\n",
    "MedAE = median_absolute_error(\n",
    "    x_real, \n",
    "    x_recon\n",
    ")\n",
    "R2 = r2_score(\n",
    "    x_real, \n",
    "    x_recon\n",
    ")"
   ]
  },
  {
   "cell_type": "code",
   "execution_count": 45,
   "metadata": {
    "ExecuteTime": {
     "end_time": "2020-07-17T23:56:34.679458Z",
     "start_time": "2020-07-17T23:56:34.604315Z"
    }
   },
   "outputs": [
    {
     "data": {
      "text/html": [
       "<div>\n",
       "<style scoped>\n",
       "    .dataframe tbody tr th:only-of-type {\n",
       "        vertical-align: middle;\n",
       "    }\n",
       "\n",
       "    .dataframe tbody tr th {\n",
       "        vertical-align: top;\n",
       "    }\n",
       "\n",
       "    .dataframe thead th {\n",
       "        text-align: right;\n",
       "    }\n",
       "</style>\n",
       "<table border=\"1\" class=\"dataframe\">\n",
       "  <thead>\n",
       "    <tr style=\"text-align: right;\">\n",
       "      <th></th>\n",
       "      <th>method_</th>\n",
       "      <th>dimensions</th>\n",
       "      <th>dataset</th>\n",
       "      <th>MSE</th>\n",
       "      <th>MAE</th>\n",
       "      <th>MedAE</th>\n",
       "      <th>R2</th>\n",
       "    </tr>\n",
       "  </thead>\n",
       "  <tbody>\n",
       "    <tr>\n",
       "      <th>0</th>\n",
       "      <td>AE</td>\n",
       "      <td>2</td>\n",
       "      <td>mnist</td>\n",
       "      <td>0.035955</td>\n",
       "      <td>0.080954</td>\n",
       "      <td>0.040411</td>\n",
       "      <td>0.048519</td>\n",
       "    </tr>\n",
       "    <tr>\n",
       "      <th>1</th>\n",
       "      <td>AE</td>\n",
       "      <td>64</td>\n",
       "      <td>mnist</td>\n",
       "      <td>0.002684</td>\n",
       "      <td>0.014447</td>\n",
       "      <td>0.001088</td>\n",
       "      <td>-11.882787</td>\n",
       "    </tr>\n",
       "    <tr>\n",
       "      <th>2</th>\n",
       "      <td>network</td>\n",
       "      <td>2</td>\n",
       "      <td>mnist</td>\n",
       "      <td>0.037375</td>\n",
       "      <td>0.083731</td>\n",
       "      <td>0.043021</td>\n",
       "      <td>0.219779</td>\n",
       "    </tr>\n",
       "    <tr>\n",
       "      <th>3</th>\n",
       "      <td>network</td>\n",
       "      <td>64</td>\n",
       "      <td>mnist</td>\n",
       "      <td>0.031332</td>\n",
       "      <td>0.073505</td>\n",
       "      <td>0.033229</td>\n",
       "      <td>-0.376022</td>\n",
       "    </tr>\n",
       "  </tbody>\n",
       "</table>\n",
       "</div>"
      ],
      "text/plain": [
       "   method_ dimensions dataset       MSE       MAE     MedAE         R2\n",
       "0       AE          2   mnist  0.035955  0.080954  0.040411   0.048519\n",
       "1       AE         64   mnist  0.002684  0.014447  0.001088 -11.882787\n",
       "2  network          2   mnist  0.037375  0.083731  0.043021   0.219779\n",
       "3  network         64   mnist  0.031332  0.073505  0.033229  -0.376022"
      ]
     },
     "execution_count": 45,
     "metadata": {},
     "output_type": "execute_result"
    }
   ],
   "source": [
    "reconstruction_acc_df.loc[len(reconstruction_acc_df)] = ['network', 64, dataset, MSE, MAE, MedAE, R2]\n",
    "reconstruction_acc_df"
   ]
  },
  {
   "cell_type": "markdown",
   "metadata": {},
   "source": [
    "#### UMAP-learn"
   ]
  },
  {
   "cell_type": "markdown",
   "metadata": {},
   "source": [
    "##### 2 dims"
   ]
  },
  {
   "cell_type": "code",
   "execution_count": 46,
   "metadata": {
    "ExecuteTime": {
     "end_time": "2020-07-17T23:57:17.819430Z",
     "start_time": "2020-07-17T23:56:34.680904Z"
    }
   },
   "outputs": [
    {
     "name": "stdout",
     "output_type": "stream",
     "text": [
      "UMAP(dens_frac=0.0, dens_lambda=0.0, verbose=True)\n",
      "Construct fuzzy simplicial set\n",
      "Fri Jul 17 16:56:34 2020 Finding Nearest Neighbors\n",
      "Fri Jul 17 16:56:34 2020 Building RP forest with 16 trees\n",
      "Fri Jul 17 16:56:36 2020 parallel NN descent for 16 iterations\n",
      "\t 0  /  16\n",
      "\t 1  /  16\n",
      "\t 2  /  16\n",
      "\t 3  /  16\n",
      "\t 4  /  16\n",
      "Fri Jul 17 16:56:46 2020 Finished Nearest Neighbor Search\n",
      "Fri Jul 17 16:56:48 2020 Construct embedding\n",
      "\tcompleted  0  /  200 epochs\n",
      "\tcompleted  20  /  200 epochs\n",
      "\tcompleted  40  /  200 epochs\n",
      "\tcompleted  60  /  200 epochs\n",
      "\tcompleted  80  /  200 epochs\n",
      "\tcompleted  100  /  200 epochs\n",
      "\tcompleted  120  /  200 epochs\n",
      "\tcompleted  140  /  200 epochs\n",
      "\tcompleted  160  /  200 epochs\n",
      "\tcompleted  180  /  200 epochs\n",
      "Fri Jul 17 16:57:17 2020 Finished embedding\n"
     ]
    }
   ],
   "source": [
    "embedder = UMAP(n_components = 2, verbose=True)\n",
    "z_umap = embedder.fit_transform(X_train_flat)"
   ]
  },
  {
   "cell_type": "code",
   "execution_count": null,
   "metadata": {
    "ExecuteTime": {
     "start_time": "2020-07-17T23:55:32.095Z"
    }
   },
   "outputs": [
    {
     "data": {
      "application/vnd.jupyter.widget-view+json": {
       "model_id": "58b1572cd84d43da8b79f3cb75e427a8",
       "version_major": 2,
       "version_minor": 0
      },
      "text/plain": [
       "HBox(children=(IntProgress(value=0, max=10), HTML(value='')))"
      ]
     },
     "metadata": {},
     "output_type": "display_data"
    },
    {
     "name": "stdout",
     "output_type": "stream",
     "text": [
      "\tcompleted  0  /  100 epochs\n",
      "\tcompleted  10  /  100 epochs\n",
      "\tcompleted  20  /  100 epochs\n",
      "\tcompleted  30  /  100 epochs\n",
      "\tcompleted  40  /  100 epochs\n",
      "\tcompleted  50  /  100 epochs\n",
      "\tcompleted  60  /  100 epochs\n",
      "\tcompleted  70  /  100 epochs\n",
      "\tcompleted  80  /  100 epochs\n",
      "\tcompleted  90  /  100 epochs\n",
      "seconds:  18.70488342293538\n",
      "\tcompleted  0  /  100 epochs\n",
      "\tcompleted  10  /  100 epochs\n",
      "\tcompleted  20  /  100 epochs\n",
      "\tcompleted  30  /  100 epochs\n",
      "\tcompleted  40  /  100 epochs\n",
      "\tcompleted  50  /  100 epochs\n",
      "\tcompleted  60  /  100 epochs\n",
      "\tcompleted  70  /  100 epochs\n",
      "\tcompleted  80  /  100 epochs\n",
      "\tcompleted  90  /  100 epochs\n",
      "seconds:  54.85580839589238\n",
      "\tcompleted  0  /  100 epochs\n",
      "\tcompleted  10  /  100 epochs\n",
      "\tcompleted  20  /  100 epochs\n",
      "\tcompleted  30  /  100 epochs\n",
      "\tcompleted  40  /  100 epochs\n",
      "\tcompleted  50  /  100 epochs\n",
      "\tcompleted  60  /  100 epochs\n",
      "\tcompleted  70  /  100 epochs\n",
      "\tcompleted  80  /  100 epochs\n",
      "\tcompleted  90  /  100 epochs\n",
      "seconds:  6.195352715905756\n",
      "\tcompleted  0  /  100 epochs\n",
      "\tcompleted  10  /  100 epochs\n",
      "\tcompleted  20  /  100 epochs\n",
      "\tcompleted  30  /  100 epochs\n",
      "\tcompleted  40  /  100 epochs\n",
      "\tcompleted  50  /  100 epochs\n",
      "\tcompleted  60  /  100 epochs\n",
      "\tcompleted  70  /  100 epochs\n",
      "\tcompleted  80  /  100 epochs\n",
      "\tcompleted  90  /  100 epochs\n",
      "seconds:  53.81068310304545\n",
      "\tcompleted  0  /  100 epochs\n",
      "\tcompleted  10  /  100 epochs\n",
      "\tcompleted  20  /  100 epochs\n",
      "\tcompleted  30  /  100 epochs\n",
      "\tcompleted  40  /  100 epochs\n",
      "\tcompleted  50  /  100 epochs\n",
      "\tcompleted  60  /  100 epochs\n",
      "\tcompleted  70  /  100 epochs\n",
      "\tcompleted  80  /  100 epochs\n",
      "\tcompleted  90  /  100 epochs\n",
      "seconds:  6.205399441067129\n"
     ]
    }
   ],
   "source": [
    "x_test_samples= []\n",
    "x_test_recon_samples= []\n",
    "n_repeats = 10\n",
    "for i in tqdm(range(n_repeats)):\n",
    "    start_time = time.monotonic()\n",
    "    z_test = embedder.transform(X_test_flat);\n",
    "    end_time = time.monotonic()\n",
    "    print('seconds: ', end_time - start_time)\n",
    "    embed_time = end_time - start_time\n",
    "\n",
    "    nex = 10 # it would take far too long to reconstruct the entire dataset\n",
    "    samp_idx = np.random.randint(len(z_test),  size= nex)\n",
    "    sample = np.array(z_test)[samp_idx]\n",
    "    x_test_samples.append(samp_idx)\n",
    "    start_time = time.monotonic()\n",
    "    x_test_recon = embedder.inverse_transform(sample);\n",
    "    end_time = time.monotonic()\n",
    "    print('seconds: ', end_time - start_time)\n",
    "    recon_time = (end_time - start_time)*len(z_test)/nex\n",
    "\n",
    "    reconstruction_speed_df.loc[len(reconstruction_speed_df)] = [\n",
    "        \"umap-learn\",\n",
    "        2,\n",
    "        dataset,\n",
    "        embed_time,\n",
    "        recon_time,\n",
    "        embed_time + recon_time,\n",
    "        len(X_test_flat)\n",
    "    ]\n",
    "    x_test_recon_samples.append(x_test_recon)"
   ]
  },
  {
   "cell_type": "code",
   "execution_count": null,
   "metadata": {
    "ExecuteTime": {
     "start_time": "2020-07-17T23:55:32.096Z"
    }
   },
   "outputs": [],
   "source": [
    "x_recon = np.concatenate(x_test_recon_samples)"
   ]
  },
  {
   "cell_type": "code",
   "execution_count": null,
   "metadata": {
    "ExecuteTime": {
     "start_time": "2020-07-17T23:55:32.098Z"
    }
   },
   "outputs": [],
   "source": [
    "x_real = np.array(X_test_flat)[np.concatenate(x_test_samples)]"
   ]
  },
  {
   "cell_type": "code",
   "execution_count": null,
   "metadata": {
    "ExecuteTime": {
     "start_time": "2020-07-17T23:55:32.099Z"
    }
   },
   "outputs": [],
   "source": [
    "\n",
    "MSE = mean_squared_error(\n",
    "    x_real, \n",
    "    x_recon\n",
    ")\n",
    "MAE = mean_absolute_error(\n",
    "    x_real, \n",
    "    x_recon\n",
    ")\n",
    "MedAE = median_absolute_error(\n",
    "    x_real, \n",
    "    x_recon\n",
    ")\n",
    "R2 = r2_score(\n",
    "    x_real, \n",
    "    x_recon\n",
    ")\n",
    "\n",
    "reconstruction_acc_df.loc[len(reconstruction_acc_df)] = ['umap-learn', 2, dataset, MSE, MAE, MedAE, R2]\n",
    "reconstruction_acc_df"
   ]
  },
  {
   "cell_type": "markdown",
   "metadata": {
    "ExecuteTime": {
     "end_time": "2020-07-17T18:45:10.741411Z",
     "start_time": "2020-07-17T18:44:51.265Z"
    }
   },
   "source": [
    "##### PCA"
   ]
  },
  {
   "cell_type": "markdown",
   "metadata": {},
   "source": [
    "##### 2 dims\n"
   ]
  },
  {
   "cell_type": "code",
   "execution_count": null,
   "metadata": {
    "ExecuteTime": {
     "start_time": "2020-07-17T23:55:32.101Z"
    }
   },
   "outputs": [],
   "source": [
    "pca = PCA(n_components=2)\n",
    "z = pca.fit_transform(X_train_flat)"
   ]
  },
  {
   "cell_type": "code",
   "execution_count": null,
   "metadata": {
    "ExecuteTime": {
     "start_time": "2020-07-17T23:55:32.103Z"
    }
   },
   "outputs": [],
   "source": [
    "n_repeats = 10\n",
    "for i in tqdm(range(n_repeats)):\n",
    "    start_time = time.monotonic()\n",
    "    z_test = pca.transform(X_test_flat);\n",
    "    end_time = time.monotonic()\n",
    "    print('seconds: ', end_time - start_time)\n",
    "    embed_time = end_time - start_time\n",
    "\n",
    "    start_time = time.monotonic()\n",
    "    x_test_recon = pca.inverse_transform(z_test);\n",
    "    end_time = time.monotonic()\n",
    "    print('seconds: ', end_time - start_time)\n",
    "    recon_time = (end_time - start_time)\n",
    "\n",
    "    reconstruction_speed_df.loc[len(reconstruction_speed_df)] = [\n",
    "        \"pca\",\n",
    "        2,\n",
    "        dataset,\n",
    "        embed_time,\n",
    "        recon_time,\n",
    "        embed_time + recon_time,\n",
    "        len(X_test_flat)\n",
    "    ]"
   ]
  },
  {
   "cell_type": "code",
   "execution_count": null,
   "metadata": {
    "ExecuteTime": {
     "start_time": "2020-07-17T23:55:32.105Z"
    }
   },
   "outputs": [],
   "source": [
    "X_recon = pca.inverse_transform(pca.transform(X_test_flat))\n",
    "x_real = X_test.reshape((len(X_test), np.product(np.shape(X_test)[1:])))\n",
    "x_recon = X_recon.reshape((len(X_test), np.product(np.shape(X_test)[1:])))\n",
    "\n",
    "MSE = mean_squared_error(\n",
    "    x_real, \n",
    "    x_recon\n",
    ")\n",
    "MAE = mean_absolute_error(\n",
    "    x_real, \n",
    "    x_recon\n",
    ")\n",
    "MedAE = median_absolute_error(\n",
    "    x_real, \n",
    "    x_recon\n",
    ")\n",
    "R2 = r2_score(\n",
    "    x_real, \n",
    "    x_recon\n",
    ")\n",
    "\n",
    "reconstruction_acc_df.loc[len(reconstruction_acc_df)] = ['pca', 2, dataset, MSE, MAE, MedAE, R2]\n",
    "reconstruction_acc_df"
   ]
  },
  {
   "cell_type": "markdown",
   "metadata": {},
   "source": [
    "##### 64 dims"
   ]
  },
  {
   "cell_type": "code",
   "execution_count": null,
   "metadata": {
    "ExecuteTime": {
     "start_time": "2020-07-17T23:55:32.106Z"
    }
   },
   "outputs": [],
   "source": [
    "pca = PCA(n_components=64)\n",
    "z = pca.fit_transform(X_train_flat)"
   ]
  },
  {
   "cell_type": "code",
   "execution_count": null,
   "metadata": {
    "ExecuteTime": {
     "start_time": "2020-07-17T23:55:32.108Z"
    }
   },
   "outputs": [],
   "source": [
    "n_repeats = 10\n",
    "for i in tqdm(range(n_repeats)):\n",
    "    start_time = time.monotonic()\n",
    "    z_test = pca.transform(X_test_flat);\n",
    "    end_time = time.monotonic()\n",
    "    print('seconds: ', end_time - start_time)\n",
    "    embed_time = end_time - start_time\n",
    "\n",
    "    start_time = time.monotonic()\n",
    "    x_test_recon = pca.inverse_transform(z_test);\n",
    "    end_time = time.monotonic()\n",
    "    print('seconds: ', end_time - start_time)\n",
    "    recon_time = (end_time - start_time)\n",
    "\n",
    "    reconstruction_speed_df.loc[len(reconstruction_speed_df)] = [\n",
    "        \"pca\",\n",
    "        64,\n",
    "        dataset,\n",
    "        embed_time,\n",
    "        recon_time,\n",
    "        embed_time + recon_time,\n",
    "        len(X_test_flat)\n",
    "    ]"
   ]
  },
  {
   "cell_type": "code",
   "execution_count": null,
   "metadata": {
    "ExecuteTime": {
     "start_time": "2020-07-17T23:55:32.110Z"
    }
   },
   "outputs": [],
   "source": [
    "X_recon = pca.inverse_transform(pca.transform(X_test_flat))\n",
    "x_real = X_test.reshape((len(X_test), np.product(np.shape(X_test)[1:])))\n",
    "x_recon = X_recon.reshape((len(X_test), np.product(np.shape(X_test)[1:])))\n",
    "\n",
    "MSE = mean_squared_error(\n",
    "    x_real, \n",
    "    x_recon\n",
    ")\n",
    "MAE = mean_absolute_error(\n",
    "    x_real, \n",
    "    x_recon\n",
    ")\n",
    "MedAE = median_absolute_error(\n",
    "    x_real, \n",
    "    x_recon\n",
    ")\n",
    "R2 = r2_score(\n",
    "    x_real, \n",
    "    x_recon\n",
    ")\n",
    "\n",
    "reconstruction_acc_df.loc[len(reconstruction_acc_df)] = ['pca', 64, dataset, MSE, MAE, MedAE, R2]\n",
    "reconstruction_acc_df"
   ]
  },
  {
   "cell_type": "markdown",
   "metadata": {},
   "source": [
    "### Save"
   ]
  },
  {
   "cell_type": "code",
   "execution_count": null,
   "metadata": {
    "ExecuteTime": {
     "start_time": "2020-07-17T23:55:32.111Z"
    }
   },
   "outputs": [],
   "source": [
    "save_loc = DATA_DIR / 'reconstruction_speed' / (dataset + '.pickle')\n",
    "ensure_dir(save_loc)\n",
    "reconstruction_speed_df.to_pickle(save_loc)"
   ]
  },
  {
   "cell_type": "code",
   "execution_count": null,
   "metadata": {
    "ExecuteTime": {
     "start_time": "2020-07-17T23:55:32.112Z"
    }
   },
   "outputs": [],
   "source": [
    "save_loc = DATA_DIR / 'reconstruction_acc' / (dataset + '.pickle')\n",
    "ensure_dir(save_loc)\n",
    "reconstruction_acc_df.to_pickle(save_loc)"
   ]
  },
  {
   "cell_type": "code",
   "execution_count": null,
   "metadata": {},
   "outputs": [],
   "source": []
  }
 ],
 "metadata": {
  "kernelspec": {
   "display_name": "Python 3",
   "language": "python",
   "name": "python3"
  },
  "language_info": {
   "codemirror_mode": {
    "name": "ipython",
    "version": 3
   },
   "file_extension": ".py",
   "mimetype": "text/x-python",
   "name": "python",
   "nbconvert_exporter": "python",
   "pygments_lexer": "ipython3",
   "version": "3.6.7"
  }
 },
 "nbformat": 4,
 "nbformat_minor": 2
}
