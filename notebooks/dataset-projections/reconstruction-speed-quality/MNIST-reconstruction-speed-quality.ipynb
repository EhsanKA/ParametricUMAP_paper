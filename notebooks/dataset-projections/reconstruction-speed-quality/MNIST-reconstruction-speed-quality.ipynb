{
 "cells": [
  {
   "cell_type": "markdown",
   "metadata": {},
   "source": [
    "first we need to train a parametric-umap network for each dataset... (5 datasets x 2 dimensions)\n",
    "For umap-learn, UMAP AE, Param. UMAP, PCA\n",
    "- load dataset\n",
    "- load network\n",
    "- compute reconstruction MSE\n",
    "- count time"
   ]
  },
  {
   "cell_type": "code",
   "execution_count": 1,
   "metadata": {
    "ExecuteTime": {
     "end_time": "2020-07-18T18:13:27.577474Z",
     "start_time": "2020-07-18T18:13:27.561715Z"
    }
   },
   "outputs": [],
   "source": [
    "# reload packages\n",
    "%load_ext autoreload\n",
    "%autoreload 2"
   ]
  },
  {
   "cell_type": "markdown",
   "metadata": {},
   "source": [
    "### Choose GPU (this may not be needed on your computer)"
   ]
  },
  {
   "cell_type": "code",
   "execution_count": 2,
   "metadata": {
    "ExecuteTime": {
     "end_time": "2020-07-18T18:13:27.586841Z",
     "start_time": "2020-07-18T18:13:27.578656Z"
    }
   },
   "outputs": [
    {
     "name": "stdout",
     "output_type": "stream",
     "text": [
      "env: CUDA_DEVICE_ORDER=PCI_BUS_ID\n",
      "env: CUDA_VISIBLE_DEVICES=0\n"
     ]
    }
   ],
   "source": [
    "%env CUDA_DEVICE_ORDER=PCI_BUS_ID\n",
    "%env CUDA_VISIBLE_DEVICES=0"
   ]
  },
  {
   "cell_type": "code",
   "execution_count": 3,
   "metadata": {
    "ExecuteTime": {
     "end_time": "2020-07-18T18:13:31.629513Z",
     "start_time": "2020-07-18T18:13:27.587953Z"
    }
   },
   "outputs": [
    {
     "name": "stdout",
     "output_type": "stream",
     "text": [
      "[PhysicalDevice(name='/physical_device:GPU:0', device_type='GPU')]\n"
     ]
    }
   ],
   "source": [
    "import tensorflow as tf\n",
    "gpu_devices = tf.config.experimental.list_physical_devices('GPU')\n",
    "if len(gpu_devices)>0:\n",
    "    tf.config.experimental.set_memory_growth(gpu_devices[0], True)\n",
    "print(gpu_devices)"
   ]
  },
  {
   "cell_type": "code",
   "execution_count": 4,
   "metadata": {
    "ExecuteTime": {
     "end_time": "2020-07-18T18:13:36.178010Z",
     "start_time": "2020-07-18T18:13:31.631591Z"
    }
   },
   "outputs": [],
   "source": [
    "import numpy as np\n",
    "import pickle\n",
    "import pandas as pd\n",
    "import time\n",
    "from umap import UMAP"
   ]
  },
  {
   "cell_type": "code",
   "execution_count": 5,
   "metadata": {
    "ExecuteTime": {
     "end_time": "2020-07-18T18:13:36.284182Z",
     "start_time": "2020-07-18T18:13:36.179831Z"
    }
   },
   "outputs": [
    {
     "name": "stderr",
     "output_type": "stream",
     "text": [
      "/mnt/cube/tsainbur/conda_envs/tpy3/lib/python3.6/site-packages/tqdm/autonotebook/__init__.py:14: TqdmExperimentalWarning: Using `tqdm.autonotebook.tqdm` in notebook mode. Use `tqdm.tqdm` instead to force console mode (e.g. in jupyter console)\n",
      "  \" (e.g. in jupyter console)\", TqdmExperimentalWarning)\n"
     ]
    }
   ],
   "source": [
    "from tfumap.umap import tfUMAP\n",
    "import tensorflow as tf\n",
    "from sklearn.decomposition import PCA\n",
    "from sklearn.metrics import mean_squared_error, mean_absolute_error, median_absolute_error, r2_score"
   ]
  },
  {
   "cell_type": "code",
   "execution_count": 6,
   "metadata": {
    "ExecuteTime": {
     "end_time": "2020-07-18T18:13:36.323778Z",
     "start_time": "2020-07-18T18:13:36.285848Z"
    }
   },
   "outputs": [],
   "source": [
    "from tqdm.autonotebook import tqdm"
   ]
  },
  {
   "cell_type": "code",
   "execution_count": 7,
   "metadata": {
    "ExecuteTime": {
     "end_time": "2020-07-18T18:13:36.470024Z",
     "start_time": "2020-07-18T18:13:36.325048Z"
    }
   },
   "outputs": [],
   "source": [
    "from tfumap.paths import ensure_dir, MODEL_DIR, DATA_DIR"
   ]
  },
  {
   "cell_type": "code",
   "execution_count": 8,
   "metadata": {
    "ExecuteTime": {
     "end_time": "2020-07-18T18:13:36.513995Z",
     "start_time": "2020-07-18T18:13:36.471465Z"
    }
   },
   "outputs": [],
   "source": [
    "output_dir = MODEL_DIR/'projections' "
   ]
  },
  {
   "cell_type": "code",
   "execution_count": 9,
   "metadata": {
    "ExecuteTime": {
     "end_time": "2020-07-18T18:13:36.554533Z",
     "start_time": "2020-07-18T18:13:36.515055Z"
    }
   },
   "outputs": [],
   "source": [
    "reconstruction_acc_df = pd.DataFrame(columns = ['method_', 'dimensions', 'dataset', 'MSE', 'MAE', 'MedAE', 'R2'])"
   ]
  },
  {
   "cell_type": "code",
   "execution_count": 10,
   "metadata": {
    "ExecuteTime": {
     "end_time": "2020-07-18T18:13:36.593569Z",
     "start_time": "2020-07-18T18:13:36.555607Z"
    }
   },
   "outputs": [],
   "source": [
    "reconstruction_speed_df = pd.DataFrame(columns = ['method_', 'dimensions', 'dataset', 'embed_time', 'recon_time', 'speed', 'nex'])"
   ]
  },
  {
   "cell_type": "markdown",
   "metadata": {},
   "source": [
    "### MNIST"
   ]
  },
  {
   "cell_type": "code",
   "execution_count": 11,
   "metadata": {
    "ExecuteTime": {
     "end_time": "2020-07-18T18:13:36.629289Z",
     "start_time": "2020-07-18T18:13:36.594614Z"
    }
   },
   "outputs": [],
   "source": [
    "dataset = 'mnist'\n",
    "dims = (28,28,1)"
   ]
  },
  {
   "cell_type": "markdown",
   "metadata": {},
   "source": [
    "##### load dataset"
   ]
  },
  {
   "cell_type": "code",
   "execution_count": 12,
   "metadata": {
    "ExecuteTime": {
     "end_time": "2020-07-18T18:13:37.036581Z",
     "start_time": "2020-07-18T18:13:36.630275Z"
    }
   },
   "outputs": [
    {
     "name": "stdout",
     "output_type": "stream",
     "text": [
      "50000 10000 10000\n"
     ]
    }
   ],
   "source": [
    "from tensorflow.keras.datasets import mnist\n",
    "\n",
    "# load dataset\n",
    "(train_images, Y_train), (test_images, Y_test) = mnist.load_data()\n",
    "X_train = (train_images/255.).astype('float32')\n",
    "X_test = (test_images/255.).astype('float32')\n",
    "X_train = X_train.reshape((len(X_train), np.product(np.shape(X_train)[1:])))\n",
    "X_test = X_test.reshape((len(X_test), np.product(np.shape(X_test)[1:])))\n",
    "\n",
    "# subset a validation set\n",
    "n_valid = 10000\n",
    "X_valid = X_train[-n_valid:]\n",
    "Y_valid = Y_train[-n_valid:]\n",
    "X_train = X_train[:-n_valid]\n",
    "Y_train = Y_train[:-n_valid]\n",
    "\n",
    "# flatten X\n",
    "X_train_flat = X_train.reshape((len(X_train), np.product(np.shape(X_train)[1:])))\n",
    "X_test_flat = X_test.reshape((len(X_test), np.product(np.shape(X_test)[1:])))\n",
    "X_valid_flat= X_valid.reshape((len(X_valid), np.product(np.shape(X_valid)[1:])))\n",
    "X_test = X_test.reshape((10000, 28,28,1))\n",
    "print(len(X_train), len(X_valid), len(X_test))"
   ]
  },
  {
   "cell_type": "code",
   "execution_count": null,
   "metadata": {},
   "outputs": [],
   "source": []
  },
  {
   "cell_type": "markdown",
   "metadata": {},
   "source": [
    "### AE "
   ]
  },
  {
   "cell_type": "markdown",
   "metadata": {},
   "source": [
    "##### 2 dims"
   ]
  },
  {
   "cell_type": "code",
   "execution_count": 13,
   "metadata": {
    "ExecuteTime": {
     "end_time": "2020-07-18T18:13:37.076030Z",
     "start_time": "2020-07-18T18:13:37.037622Z"
    }
   },
   "outputs": [],
   "source": [
    "load_loc = output_dir / dataset / 'autoencoder' "
   ]
  },
  {
   "cell_type": "code",
   "execution_count": 14,
   "metadata": {
    "ExecuteTime": {
     "end_time": "2020-07-18T18:13:37.504943Z",
     "start_time": "2020-07-18T18:13:37.077518Z"
    }
   },
   "outputs": [],
   "source": [
    "embedder = tfUMAP(\n",
    "    direct_embedding=False,\n",
    "    verbose=True,\n",
    "    negative_sample_rate=5,\n",
    "    training_epochs=5,\n",
    "    decoding_method = \"autoencoder\",\n",
    "    batch_size = 100,\n",
    "    dims = dims\n",
    ")"
   ]
  },
  {
   "cell_type": "code",
   "execution_count": 15,
   "metadata": {
    "ExecuteTime": {
     "end_time": "2020-07-18T18:13:38.096660Z",
     "start_time": "2020-07-18T18:13:37.509781Z"
    }
   },
   "outputs": [],
   "source": [
    "encoder = tf.keras.models.load_model((load_loc / 'encoder').as_posix())\n",
    "embedder.encoder = encoder"
   ]
  },
  {
   "cell_type": "code",
   "execution_count": 16,
   "metadata": {
    "ExecuteTime": {
     "end_time": "2020-07-18T18:13:38.419273Z",
     "start_time": "2020-07-18T18:13:38.098755Z"
    }
   },
   "outputs": [],
   "source": [
    "decoder = tf.keras.models.load_model((load_loc / 'decoder').as_posix())\n",
    "embedder.decoder = decoder"
   ]
  },
  {
   "cell_type": "code",
   "execution_count": 17,
   "metadata": {
    "ExecuteTime": {
     "end_time": "2020-07-18T18:13:40.950332Z",
     "start_time": "2020-07-18T18:13:38.420714Z"
    },
    "code_folding": []
   },
   "outputs": [],
   "source": [
    "X_recon = tf.nn.relu(decoder(encoder(X_test))).numpy()\n",
    "x_real = X_test.reshape((len(X_test), np.product(np.shape(X_test)[1:])))\n",
    "x_recon = X_recon.reshape((len(X_test), np.product(np.shape(X_test)[1:])))"
   ]
  },
  {
   "cell_type": "code",
   "execution_count": 18,
   "metadata": {
    "ExecuteTime": {
     "end_time": "2020-07-18T18:13:44.997628Z",
     "start_time": "2020-07-18T18:13:40.952778Z"
    }
   },
   "outputs": [
    {
     "data": {
      "image/png": "[encoded data removed]",
      "text/plain": [
       "<Figure size 576x72 with 2 Axes>"
      ]
     },
     "metadata": {
      "needs_background": "light"
     },
     "output_type": "display_data"
    },
    {
     "data": {
      "image/png": "[encoded data removed]",
      "text/plain": [
       "<Figure size 4320x288 with 60 Axes>"
      ]
     },
     "metadata": {
      "needs_background": "light"
     },
     "output_type": "display_data"
    }
   ],
   "source": [
    "import matplotlib.pyplot as plt\n",
    "fig, axs = plt.subplots(ncols=2, figsize=(8,1))\n",
    "axs[0].hist(x_real.flatten())\n",
    "axs[1].hist(x_recon.flatten())\n",
    "\n",
    "nex = 30\n",
    "fig, axs = plt.subplots(nrows=2, ncols=nex, figsize=(nex*2, 2*2))\n",
    "for i, (real, recon) in enumerate(zip(x_real[:nex], x_recon[:nex])):\n",
    "    axs[0,i].matshow(np.squeeze(real.reshape(dims)))\n",
    "    axs[1,i].matshow(np.squeeze(recon.reshape(dims)))"
   ]
  },
  {
   "cell_type": "code",
   "execution_count": 19,
   "metadata": {
    "ExecuteTime": {
     "end_time": "2020-07-18T18:13:45.308510Z",
     "start_time": "2020-07-18T18:13:44.999778Z"
    }
   },
   "outputs": [],
   "source": [
    "MSE = mean_squared_error(\n",
    "    x_real, \n",
    "    x_recon\n",
    ")\n",
    "MAE = mean_absolute_error(\n",
    "    x_real, \n",
    "    x_recon\n",
    ")\n",
    "MedAE = median_absolute_error(\n",
    "    x_real, \n",
    "    x_recon\n",
    ")\n",
    "R2 = r2_score(\n",
    "    x_real, \n",
    "    x_recon\n",
    ")"
   ]
  },
  {
   "cell_type": "code",
   "execution_count": 20,
   "metadata": {
    "ExecuteTime": {
     "end_time": "2020-07-18T18:13:45.369485Z",
     "start_time": "2020-07-18T18:13:45.310306Z"
    }
   },
   "outputs": [
    {
     "data": {
      "text/html": [
       "<div>\n",
       "<style scoped>\n",
       "    .dataframe tbody tr th:only-of-type {\n",
       "        vertical-align: middle;\n",
       "    }\n",
       "\n",
       "    .dataframe tbody tr th {\n",
       "        vertical-align: top;\n",
       "    }\n",
       "\n",
       "    .dataframe thead th {\n",
       "        text-align: right;\n",
       "    }\n",
       "</style>\n",
       "<table border=\"1\" class=\"dataframe\">\n",
       "  <thead>\n",
       "    <tr style=\"text-align: right;\">\n",
       "      <th></th>\n",
       "      <th>method_</th>\n",
       "      <th>dimensions</th>\n",
       "      <th>dataset</th>\n",
       "      <th>MSE</th>\n",
       "      <th>MAE</th>\n",
       "      <th>MedAE</th>\n",
       "      <th>R2</th>\n",
       "    </tr>\n",
       "  </thead>\n",
       "  <tbody>\n",
       "    <tr>\n",
       "      <th>0</th>\n",
       "      <td>AE</td>\n",
       "      <td>2</td>\n",
       "      <td>mnist</td>\n",
       "      <td>0.035955</td>\n",
       "      <td>0.080954</td>\n",
       "      <td>0.040411</td>\n",
       "      <td>0.048519</td>\n",
       "    </tr>\n",
       "  </tbody>\n",
       "</table>\n",
       "</div>"
      ],
      "text/plain": [
       "  method_ dimensions dataset       MSE       MAE     MedAE        R2\n",
       "0      AE          2   mnist  0.035955  0.080954  0.040411  0.048519"
      ]
     },
     "execution_count": 20,
     "metadata": {},
     "output_type": "execute_result"
    }
   ],
   "source": [
    "reconstruction_acc_df.loc[len(reconstruction_acc_df)] = ['AE', 2, dataset, MSE, MAE, MedAE, R2]\n",
    "reconstruction_acc_df"
   ]
  },
  {
   "cell_type": "markdown",
   "metadata": {},
   "source": [
    "##### 64 dims"
   ]
  },
  {
   "cell_type": "code",
   "execution_count": 21,
   "metadata": {
    "ExecuteTime": {
     "end_time": "2020-07-18T18:13:45.408472Z",
     "start_time": "2020-07-18T18:13:45.370938Z"
    }
   },
   "outputs": [],
   "source": [
    "load_loc = output_dir / dataset / '64' / 'autoencoder' "
   ]
  },
  {
   "cell_type": "code",
   "execution_count": 22,
   "metadata": {
    "ExecuteTime": {
     "end_time": "2020-07-18T18:13:45.445027Z",
     "start_time": "2020-07-18T18:13:45.409636Z"
    }
   },
   "outputs": [],
   "source": [
    "embedder = tfUMAP(\n",
    "    direct_embedding=False,\n",
    "    verbose=True,\n",
    "    negative_sample_rate=5,\n",
    "    training_epochs=5,\n",
    "    decoding_method = \"autoencoder\",\n",
    "    batch_size = 100,\n",
    "    dims = dims\n",
    ")"
   ]
  },
  {
   "cell_type": "code",
   "execution_count": 23,
   "metadata": {
    "ExecuteTime": {
     "end_time": "2020-07-18T18:13:45.827920Z",
     "start_time": "2020-07-18T18:13:45.446359Z"
    }
   },
   "outputs": [],
   "source": [
    "encoder = tf.keras.models.load_model((load_loc / 'encoder').as_posix())\n",
    "embedder.encoder = encoder"
   ]
  },
  {
   "cell_type": "code",
   "execution_count": 24,
   "metadata": {
    "ExecuteTime": {
     "end_time": "2020-07-18T18:13:46.149311Z",
     "start_time": "2020-07-18T18:13:45.829739Z"
    }
   },
   "outputs": [],
   "source": [
    "decoder = tf.keras.models.load_model((load_loc / 'decoder').as_posix())\n",
    "embedder.decoder = decoder"
   ]
  },
  {
   "cell_type": "code",
   "execution_count": 25,
   "metadata": {
    "ExecuteTime": {
     "end_time": "2020-07-18T18:13:46.480434Z",
     "start_time": "2020-07-18T18:13:46.151058Z"
    },
    "code_folding": []
   },
   "outputs": [],
   "source": [
    "X_recon = tf.nn.relu(decoder(encoder(X_test))).numpy()\n",
    "x_real = X_test.reshape((len(X_test), np.product(np.shape(X_test)[1:])))\n",
    "x_recon = X_recon.reshape((len(X_test), np.product(np.shape(X_test)[1:])))"
   ]
  },
  {
   "cell_type": "code",
   "execution_count": 26,
   "metadata": {
    "ExecuteTime": {
     "end_time": "2020-07-18T18:13:46.769850Z",
     "start_time": "2020-07-18T18:13:46.481986Z"
    }
   },
   "outputs": [],
   "source": [
    "MSE = mean_squared_error(\n",
    "    x_real, \n",
    "    x_recon\n",
    ")\n",
    "MAE = mean_absolute_error(\n",
    "    x_real, \n",
    "    x_recon\n",
    ")\n",
    "MedAE = median_absolute_error(\n",
    "    x_real, \n",
    "    x_recon\n",
    ")\n",
    "R2 = r2_score(\n",
    "    x_real, \n",
    "    x_recon\n",
    ")"
   ]
  },
  {
   "cell_type": "code",
   "execution_count": 27,
   "metadata": {
    "ExecuteTime": {
     "end_time": "2020-07-18T18:13:46.821367Z",
     "start_time": "2020-07-18T18:13:46.771335Z"
    }
   },
   "outputs": [
    {
     "data": {
      "text/html": [
       "<div>\n",
       "<style scoped>\n",
       "    .dataframe tbody tr th:only-of-type {\n",
       "        vertical-align: middle;\n",
       "    }\n",
       "\n",
       "    .dataframe tbody tr th {\n",
       "        vertical-align: top;\n",
       "    }\n",
       "\n",
       "    .dataframe thead th {\n",
       "        text-align: right;\n",
       "    }\n",
       "</style>\n",
       "<table border=\"1\" class=\"dataframe\">\n",
       "  <thead>\n",
       "    <tr style=\"text-align: right;\">\n",
       "      <th></th>\n",
       "      <th>method_</th>\n",
       "      <th>dimensions</th>\n",
       "      <th>dataset</th>\n",
       "      <th>MSE</th>\n",
       "      <th>MAE</th>\n",
       "      <th>MedAE</th>\n",
       "      <th>R2</th>\n",
       "    </tr>\n",
       "  </thead>\n",
       "  <tbody>\n",
       "    <tr>\n",
       "      <th>0</th>\n",
       "      <td>AE</td>\n",
       "      <td>2</td>\n",
       "      <td>mnist</td>\n",
       "      <td>0.035955</td>\n",
       "      <td>0.080954</td>\n",
       "      <td>0.040411</td>\n",
       "      <td>0.048519</td>\n",
       "    </tr>\n",
       "    <tr>\n",
       "      <th>1</th>\n",
       "      <td>AE</td>\n",
       "      <td>64</td>\n",
       "      <td>mnist</td>\n",
       "      <td>0.002684</td>\n",
       "      <td>0.014447</td>\n",
       "      <td>0.001088</td>\n",
       "      <td>-11.882787</td>\n",
       "    </tr>\n",
       "  </tbody>\n",
       "</table>\n",
       "</div>"
      ],
      "text/plain": [
       "  method_ dimensions dataset       MSE       MAE     MedAE         R2\n",
       "0      AE          2   mnist  0.035955  0.080954  0.040411   0.048519\n",
       "1      AE         64   mnist  0.002684  0.014447  0.001088 -11.882787"
      ]
     },
     "execution_count": 27,
     "metadata": {},
     "output_type": "execute_result"
    }
   ],
   "source": [
    "reconstruction_acc_df.loc[len(reconstruction_acc_df)] = ['AE', 64, dataset, MSE, MAE, MedAE, R2]\n",
    "reconstruction_acc_df"
   ]
  },
  {
   "cell_type": "markdown",
   "metadata": {},
   "source": [
    "### Network"
   ]
  },
  {
   "cell_type": "markdown",
   "metadata": {},
   "source": [
    "##### 2 dims"
   ]
  },
  {
   "cell_type": "code",
   "execution_count": 28,
   "metadata": {
    "ExecuteTime": {
     "end_time": "2020-07-18T18:13:46.858973Z",
     "start_time": "2020-07-18T18:13:46.822867Z"
    }
   },
   "outputs": [],
   "source": [
    "load_loc = output_dir / dataset / 'recon-network' "
   ]
  },
  {
   "cell_type": "code",
   "execution_count": 29,
   "metadata": {
    "ExecuteTime": {
     "end_time": "2020-07-18T18:13:46.894886Z",
     "start_time": "2020-07-18T18:13:46.860202Z"
    }
   },
   "outputs": [],
   "source": [
    "embedder = tfUMAP(\n",
    "    direct_embedding=False,\n",
    "    verbose=True,\n",
    "    negative_sample_rate=5,\n",
    "    training_epochs=5,\n",
    "    decoding_method = \"network\",\n",
    "    batch_size = 100,\n",
    "    dims = dims\n",
    ")"
   ]
  },
  {
   "cell_type": "code",
   "execution_count": 30,
   "metadata": {
    "ExecuteTime": {
     "end_time": "2020-07-18T18:13:47.093315Z",
     "start_time": "2020-07-18T18:13:46.896100Z"
    }
   },
   "outputs": [],
   "source": [
    "encoder = tf.keras.models.load_model((load_loc / 'encoder').as_posix())\n",
    "embedder.encoder = encoder"
   ]
  },
  {
   "cell_type": "code",
   "execution_count": 31,
   "metadata": {
    "ExecuteTime": {
     "end_time": "2020-07-18T18:13:47.421269Z",
     "start_time": "2020-07-18T18:13:47.094988Z"
    }
   },
   "outputs": [],
   "source": [
    "decoder = tf.keras.models.load_model((load_loc / 'decoder').as_posix())\n",
    "embedder.decoder = decoder"
   ]
  },
  {
   "cell_type": "code",
   "execution_count": 32,
   "metadata": {
    "ExecuteTime": {
     "end_time": "2020-07-18T18:13:49.359508Z",
     "start_time": "2020-07-18T18:13:47.423275Z"
    }
   },
   "outputs": [
    {
     "data": {
      "application/vnd.jupyter.widget-view+json": {
       "model_id": "9a2132a61fd54951b4ea220259580968",
       "version_major": 2,
       "version_minor": 0
      },
      "text/plain": [
       "HBox(children=(IntProgress(value=0, max=10), HTML(value='')))"
      ]
     },
     "metadata": {},
     "output_type": "display_data"
    },
    {
     "name": "stdout",
     "output_type": "stream",
     "text": [
      "seconds:  0.04807971487753093\n",
      "seconds:  0.06775693199597299\n",
      "seconds:  0.13557924586348236\n",
      "seconds:  0.004442108096554875\n",
      "seconds:  0.18870172603055835\n",
      "seconds:  0.0038740721065551043\n",
      "seconds:  0.19045652588829398\n",
      "seconds:  0.004709756001830101\n",
      "seconds:  0.19006033497862518\n",
      "seconds:  0.004098108038306236\n",
      "seconds:  0.18986478890292346\n",
      "seconds:  0.004095037933439016\n",
      "seconds:  0.18782206089235842\n",
      "seconds:  0.0032103019766509533\n",
      "seconds:  0.19180322508327663\n",
      "seconds:  0.004321384942159057\n",
      "seconds:  0.18809833796694875\n",
      "seconds:  0.004368816036731005\n",
      "seconds:  0.1908132468815893\n",
      "seconds:  0.0047903480008244514\n",
      "\n"
     ]
    }
   ],
   "source": [
    "n_repeats = 10\n",
    "for i in tqdm(range(n_repeats)):\n",
    "    start_time = time.monotonic()\n",
    "    z_test = encoder(X_test)\n",
    "    end_time = time.monotonic()\n",
    "    print(\"seconds: \", end_time - start_time)\n",
    "    embed_time = end_time - start_time\n",
    "\n",
    "    start_time = time.monotonic()\n",
    "    x_test_recon = decoder(z_test)\n",
    "    end_time = time.monotonic()\n",
    "    print(\"seconds: \", end_time - start_time)\n",
    "    recon_time = end_time - start_time\n",
    "    reconstruction_speed_df.loc[len(reconstruction_speed_df)] = [\n",
    "        \"network\",\n",
    "        2,\n",
    "        dataset,\n",
    "        embed_time,\n",
    "        recon_time,\n",
    "        embed_time + recon_time,\n",
    "        len(X_test_flat)\n",
    "    ]"
   ]
  },
  {
   "cell_type": "code",
   "execution_count": 33,
   "metadata": {
    "ExecuteTime": {
     "end_time": "2020-07-18T18:14:09.153353Z",
     "start_time": "2020-07-18T18:13:49.361104Z"
    }
   },
   "outputs": [
    {
     "data": {
      "application/vnd.jupyter.widget-view+json": {
       "model_id": "8ba5639a73c4443a8b604c1a20b5e0e9",
       "version_major": 2,
       "version_minor": 0
      },
      "text/plain": [
       "HBox(children=(IntProgress(value=0, max=10), HTML(value='')))"
      ]
     },
     "metadata": {},
     "output_type": "display_data"
    },
    {
     "name": "stdout",
     "output_type": "stream",
     "text": [
      "seconds:  0.34037954499945045\n",
      "seconds:  1.7733755731023848\n",
      "seconds:  0.16480477689765394\n",
      "seconds:  1.6999832489527762\n",
      "seconds:  0.15501629607751966\n",
      "seconds:  1.6654670049902052\n",
      "seconds:  0.1743539220187813\n",
      "seconds:  1.735320057021454\n",
      "seconds:  0.18796115391887724\n",
      "seconds:  2.0725060109980404\n",
      "seconds:  0.16266389493830502\n",
      "seconds:  1.803611075039953\n",
      "seconds:  0.18968667392618954\n",
      "seconds:  1.8164070839993656\n",
      "seconds:  0.17437560390681028\n",
      "seconds:  1.636024747043848\n",
      "seconds:  0.15793495997786522\n",
      "seconds:  1.6706888061016798\n",
      "seconds:  0.16231532604433596\n",
      "seconds:  1.9191905849147588\n",
      "\n"
     ]
    }
   ],
   "source": [
    "with tf.device('/CPU:0'):\n",
    "    n_repeats = 10\n",
    "    for i in tqdm(range(n_repeats)):\n",
    "        start_time = time.monotonic()\n",
    "        z_test = encoder(X_test)\n",
    "        end_time = time.monotonic()\n",
    "        print(\"seconds: \", end_time - start_time)\n",
    "        embed_time = end_time - start_time\n",
    "\n",
    "        start_time = time.monotonic()\n",
    "        x_test_recon = decoder(z_test)\n",
    "        end_time = time.monotonic()\n",
    "        print(\"seconds: \", end_time - start_time)\n",
    "        recon_time = end_time - start_time\n",
    "        reconstruction_speed_df.loc[len(reconstruction_speed_df)] = [\n",
    "            \"network-cpu\",\n",
    "            2,\n",
    "            dataset,\n",
    "            embed_time,\n",
    "            recon_time,\n",
    "            embed_time + recon_time,\n",
    "        len(X_test_flat)\n",
    "        ]"
   ]
  },
  {
   "cell_type": "code",
   "execution_count": 34,
   "metadata": {
    "ExecuteTime": {
     "end_time": "2020-07-18T18:14:09.444664Z",
     "start_time": "2020-07-18T18:14:09.154432Z"
    },
    "code_folding": []
   },
   "outputs": [],
   "source": [
    "X_recon = tf.nn.relu(decoder(encoder(X_test))).numpy()\n",
    "x_real = X_test.reshape((len(X_test), np.product(np.shape(X_test)[1:])))\n",
    "x_recon = X_recon.reshape((len(X_test), np.product(np.shape(X_test)[1:])))"
   ]
  },
  {
   "cell_type": "code",
   "execution_count": 35,
   "metadata": {
    "ExecuteTime": {
     "end_time": "2020-07-18T18:14:09.751823Z",
     "start_time": "2020-07-18T18:14:09.446014Z"
    }
   },
   "outputs": [],
   "source": [
    "MSE = mean_squared_error(\n",
    "    x_real, \n",
    "    x_recon\n",
    ")\n",
    "MAE = mean_absolute_error(\n",
    "    x_real, \n",
    "    x_recon\n",
    ")\n",
    "MedAE = median_absolute_error(\n",
    "    x_real, \n",
    "    x_recon\n",
    ")\n",
    "R2 = r2_score(\n",
    "    x_real, \n",
    "    x_recon\n",
    ")"
   ]
  },
  {
   "cell_type": "code",
   "execution_count": 36,
   "metadata": {
    "ExecuteTime": {
     "end_time": "2020-07-18T18:14:09.802688Z",
     "start_time": "2020-07-18T18:14:09.753238Z"
    }
   },
   "outputs": [
    {
     "data": {
      "text/html": [
       "<div>\n",
       "<style scoped>\n",
       "    .dataframe tbody tr th:only-of-type {\n",
       "        vertical-align: middle;\n",
       "    }\n",
       "\n",
       "    .dataframe tbody tr th {\n",
       "        vertical-align: top;\n",
       "    }\n",
       "\n",
       "    .dataframe thead th {\n",
       "        text-align: right;\n",
       "    }\n",
       "</style>\n",
       "<table border=\"1\" class=\"dataframe\">\n",
       "  <thead>\n",
       "    <tr style=\"text-align: right;\">\n",
       "      <th></th>\n",
       "      <th>method_</th>\n",
       "      <th>dimensions</th>\n",
       "      <th>dataset</th>\n",
       "      <th>MSE</th>\n",
       "      <th>MAE</th>\n",
       "      <th>MedAE</th>\n",
       "      <th>R2</th>\n",
       "    </tr>\n",
       "  </thead>\n",
       "  <tbody>\n",
       "    <tr>\n",
       "      <th>0</th>\n",
       "      <td>AE</td>\n",
       "      <td>2</td>\n",
       "      <td>mnist</td>\n",
       "      <td>0.035955</td>\n",
       "      <td>0.080954</td>\n",
       "      <td>0.040411</td>\n",
       "      <td>0.048519</td>\n",
       "    </tr>\n",
       "    <tr>\n",
       "      <th>1</th>\n",
       "      <td>AE</td>\n",
       "      <td>64</td>\n",
       "      <td>mnist</td>\n",
       "      <td>0.002684</td>\n",
       "      <td>0.014447</td>\n",
       "      <td>0.001088</td>\n",
       "      <td>-11.882787</td>\n",
       "    </tr>\n",
       "    <tr>\n",
       "      <th>2</th>\n",
       "      <td>network</td>\n",
       "      <td>2</td>\n",
       "      <td>mnist</td>\n",
       "      <td>0.037375</td>\n",
       "      <td>0.083731</td>\n",
       "      <td>0.043021</td>\n",
       "      <td>0.219779</td>\n",
       "    </tr>\n",
       "  </tbody>\n",
       "</table>\n",
       "</div>"
      ],
      "text/plain": [
       "   method_ dimensions dataset       MSE       MAE     MedAE         R2\n",
       "0       AE          2   mnist  0.035955  0.080954  0.040411   0.048519\n",
       "1       AE         64   mnist  0.002684  0.014447  0.001088 -11.882787\n",
       "2  network          2   mnist  0.037375  0.083731  0.043021   0.219779"
      ]
     },
     "execution_count": 36,
     "metadata": {},
     "output_type": "execute_result"
    }
   ],
   "source": [
    "reconstruction_acc_df.loc[len(reconstruction_acc_df)] = [\n",
    "    \"network\",\n",
    "    2,\n",
    "    dataset,\n",
    "    MSE,\n",
    "    MAE,\n",
    "    MedAE,\n",
    "    R2,\n",
    "]\n",
    "reconstruction_acc_df"
   ]
  },
  {
   "cell_type": "markdown",
   "metadata": {},
   "source": [
    "##### 64 dims"
   ]
  },
  {
   "cell_type": "code",
   "execution_count": 37,
   "metadata": {
    "ExecuteTime": {
     "end_time": "2020-07-18T18:14:09.840269Z",
     "start_time": "2020-07-18T18:14:09.804042Z"
    }
   },
   "outputs": [],
   "source": [
    "load_loc = output_dir / dataset / '64' / 'recon-network' "
   ]
  },
  {
   "cell_type": "code",
   "execution_count": 38,
   "metadata": {
    "ExecuteTime": {
     "end_time": "2020-07-18T18:14:09.879925Z",
     "start_time": "2020-07-18T18:14:09.841387Z"
    }
   },
   "outputs": [],
   "source": [
    "embedder = tfUMAP(\n",
    "    direct_embedding=False,\n",
    "    verbose=True,\n",
    "    negative_sample_rate=5,\n",
    "    training_epochs=5,\n",
    "    decoding_method = \"autoencoder\",\n",
    "    batch_size = 100,\n",
    "    dims = dims\n",
    ")"
   ]
  },
  {
   "cell_type": "code",
   "execution_count": 39,
   "metadata": {
    "ExecuteTime": {
     "end_time": "2020-07-18T18:14:10.086044Z",
     "start_time": "2020-07-18T18:14:09.881074Z"
    }
   },
   "outputs": [],
   "source": [
    "encoder = tf.keras.models.load_model((load_loc / 'encoder').as_posix())\n",
    "embedder.encoder = encoder"
   ]
  },
  {
   "cell_type": "code",
   "execution_count": 40,
   "metadata": {
    "ExecuteTime": {
     "end_time": "2020-07-18T18:14:10.395960Z",
     "start_time": "2020-07-18T18:14:10.087822Z"
    }
   },
   "outputs": [],
   "source": [
    "decoder = tf.keras.models.load_model((load_loc / 'decoder').as_posix())\n",
    "embedder.decoder = decoder"
   ]
  },
  {
   "cell_type": "code",
   "execution_count": 41,
   "metadata": {
    "ExecuteTime": {
     "end_time": "2020-07-18T18:14:12.347913Z",
     "start_time": "2020-07-18T18:14:10.397328Z"
    }
   },
   "outputs": [
    {
     "data": {
      "application/vnd.jupyter.widget-view+json": {
       "model_id": "33e216b2a16649d0829cc8dfb97eb71d",
       "version_major": 2,
       "version_minor": 0
      },
      "text/plain": [
       "HBox(children=(IntProgress(value=0, max=10), HTML(value='')))"
      ]
     },
     "metadata": {},
     "output_type": "display_data"
    },
    {
     "name": "stdout",
     "output_type": "stream",
     "text": [
      "seconds:  0.05251229205168784\n",
      "seconds:  0.06928337505087256\n",
      "seconds:  0.13638085895217955\n",
      "seconds:  0.004139229888096452\n",
      "seconds:  0.19102242216467857\n",
      "seconds:  0.005655892891809344\n",
      "seconds:  0.1875505622010678\n",
      "seconds:  0.004919522209092975\n",
      "seconds:  0.18840149696916342\n",
      "seconds:  0.004688085988163948\n",
      "seconds:  0.19026883109472692\n",
      "seconds:  0.00604420411400497\n",
      "seconds:  0.18607781012542546\n",
      "seconds:  0.005024085054174066\n",
      "seconds:  0.19283772492781281\n",
      "seconds:  0.004732086090371013\n",
      "seconds:  0.18900744407437742\n",
      "seconds:  0.004666254157200456\n",
      "seconds:  0.18939979607239366\n",
      "seconds:  0.004446028033271432\n",
      "\n"
     ]
    }
   ],
   "source": [
    "n_repeats = 10\n",
    "for i in tqdm(range(n_repeats)):\n",
    "    start_time = time.monotonic()\n",
    "    z_test = encoder(X_test)\n",
    "    end_time = time.monotonic()\n",
    "    print(\"seconds: \", end_time - start_time)\n",
    "    embed_time = end_time - start_time\n",
    "\n",
    "    start_time = time.monotonic()\n",
    "    x_test_recon = decoder(z_test)\n",
    "    end_time = time.monotonic()\n",
    "    print(\"seconds: \", end_time - start_time)\n",
    "    recon_time = end_time - start_time\n",
    "    reconstruction_speed_df.loc[len(reconstruction_speed_df)] = [\n",
    "        \"network\",\n",
    "        64,\n",
    "        dataset,\n",
    "        embed_time,\n",
    "        recon_time,\n",
    "        embed_time + recon_time,\n",
    "        len(X_test_flat)\n",
    "    ]"
   ]
  },
  {
   "cell_type": "code",
   "execution_count": 42,
   "metadata": {
    "ExecuteTime": {
     "end_time": "2020-07-18T18:14:31.552439Z",
     "start_time": "2020-07-18T18:14:12.349420Z"
    }
   },
   "outputs": [
    {
     "data": {
      "application/vnd.jupyter.widget-view+json": {
       "model_id": "83e1aa3b34f24120930da73c25eb325d",
       "version_major": 2,
       "version_minor": 0
      },
      "text/plain": [
       "HBox(children=(IntProgress(value=0, max=10), HTML(value='')))"
      ]
     },
     "metadata": {},
     "output_type": "display_data"
    },
    {
     "name": "stdout",
     "output_type": "stream",
     "text": [
      "seconds:  0.31082181399688125\n",
      "seconds:  1.795312485890463\n",
      "seconds:  0.17176664783619344\n",
      "seconds:  1.893185646040365\n",
      "seconds:  0.16523995017632842\n",
      "seconds:  1.6690745910163969\n",
      "seconds:  0.1682044160552323\n",
      "seconds:  1.7159536220133305\n",
      "seconds:  0.1664927660021931\n",
      "seconds:  1.695009428076446\n",
      "seconds:  0.17018988309428096\n",
      "seconds:  1.6924896261189133\n",
      "seconds:  0.17019874299876392\n",
      "seconds:  1.6641429690644145\n",
      "seconds:  0.16542665497399867\n",
      "seconds:  1.7117113799322397\n",
      "seconds:  0.16038748994469643\n",
      "seconds:  1.7273002888541669\n",
      "seconds:  0.17079860996454954\n",
      "seconds:  1.6956382668577135\n",
      "\n"
     ]
    }
   ],
   "source": [
    "with tf.device(\"/CPU:0\"):\n",
    "    n_repeats = 10\n",
    "    for i in tqdm(range(n_repeats)):\n",
    "        start_time = time.monotonic()\n",
    "        z_test = encoder(X_test)\n",
    "        end_time = time.monotonic()\n",
    "        print(\"seconds: \", end_time - start_time)\n",
    "        embed_time = end_time - start_time\n",
    "\n",
    "        start_time = time.monotonic()\n",
    "        x_test_recon = decoder(z_test)\n",
    "        end_time = time.monotonic()\n",
    "        print(\"seconds: \", end_time - start_time)\n",
    "        recon_time = end_time - start_time\n",
    "        reconstruction_speed_df.loc[len(reconstruction_speed_df)] = [\n",
    "            \"network-cpu\",\n",
    "            64,\n",
    "            dataset,\n",
    "            embed_time,\n",
    "            recon_time,\n",
    "            embed_time + recon_time,\n",
    "        len(X_test_flat)\n",
    "        ]"
   ]
  },
  {
   "cell_type": "code",
   "execution_count": 43,
   "metadata": {
    "ExecuteTime": {
     "end_time": "2020-07-18T18:14:32.061572Z",
     "start_time": "2020-07-18T18:14:31.554327Z"
    }
   },
   "outputs": [
    {
     "data": {
      "text/html": [
       "<div>\n",
       "<style scoped>\n",
       "    .dataframe tbody tr th:only-of-type {\n",
       "        vertical-align: middle;\n",
       "    }\n",
       "\n",
       "    .dataframe tbody tr th {\n",
       "        vertical-align: top;\n",
       "    }\n",
       "\n",
       "    .dataframe thead th {\n",
       "        text-align: right;\n",
       "    }\n",
       "</style>\n",
       "<table border=\"1\" class=\"dataframe\">\n",
       "  <thead>\n",
       "    <tr style=\"text-align: right;\">\n",
       "      <th></th>\n",
       "      <th>method_</th>\n",
       "      <th>dimensions</th>\n",
       "      <th>dataset</th>\n",
       "      <th>embed_time</th>\n",
       "      <th>recon_time</th>\n",
       "      <th>speed</th>\n",
       "      <th>nex</th>\n",
       "    </tr>\n",
       "  </thead>\n",
       "  <tbody>\n",
       "    <tr>\n",
       "      <th>0</th>\n",
       "      <td>network</td>\n",
       "      <td>2</td>\n",
       "      <td>mnist</td>\n",
       "      <td>0.048080</td>\n",
       "      <td>0.067757</td>\n",
       "      <td>0.115837</td>\n",
       "      <td>10000</td>\n",
       "    </tr>\n",
       "    <tr>\n",
       "      <th>1</th>\n",
       "      <td>network</td>\n",
       "      <td>2</td>\n",
       "      <td>mnist</td>\n",
       "      <td>0.135579</td>\n",
       "      <td>0.004442</td>\n",
       "      <td>0.140021</td>\n",
       "      <td>10000</td>\n",
       "    </tr>\n",
       "    <tr>\n",
       "      <th>2</th>\n",
       "      <td>network</td>\n",
       "      <td>2</td>\n",
       "      <td>mnist</td>\n",
       "      <td>0.188702</td>\n",
       "      <td>0.003874</td>\n",
       "      <td>0.192576</td>\n",
       "      <td>10000</td>\n",
       "    </tr>\n",
       "  </tbody>\n",
       "</table>\n",
       "</div>"
      ],
      "text/plain": [
       "   method_ dimensions dataset  embed_time  recon_time     speed    nex\n",
       "0  network          2   mnist    0.048080    0.067757  0.115837  10000\n",
       "1  network          2   mnist    0.135579    0.004442  0.140021  10000\n",
       "2  network          2   mnist    0.188702    0.003874  0.192576  10000"
      ]
     },
     "execution_count": 43,
     "metadata": {},
     "output_type": "execute_result"
    }
   ],
   "source": [
    "reconstruction_speed_df[:3]"
   ]
  },
  {
   "cell_type": "code",
   "execution_count": 44,
   "metadata": {
    "ExecuteTime": {
     "end_time": "2020-07-18T18:14:32.348029Z",
     "start_time": "2020-07-18T18:14:32.063099Z"
    },
    "code_folding": []
   },
   "outputs": [],
   "source": [
    "X_recon = tf.nn.relu(decoder(encoder(X_test))).numpy()\n",
    "x_real = X_test.reshape((len(X_test), np.product(np.shape(X_test)[1:])))\n",
    "x_recon = X_recon.reshape((len(X_test), np.product(np.shape(X_test)[1:])))"
   ]
  },
  {
   "cell_type": "code",
   "execution_count": 45,
   "metadata": {
    "ExecuteTime": {
     "end_time": "2020-07-18T18:14:32.698862Z",
     "start_time": "2020-07-18T18:14:32.349657Z"
    }
   },
   "outputs": [],
   "source": [
    "MSE = mean_squared_error(\n",
    "    x_real, \n",
    "    x_recon\n",
    ")\n",
    "MAE = mean_absolute_error(\n",
    "    x_real, \n",
    "    x_recon\n",
    ")\n",
    "MedAE = median_absolute_error(\n",
    "    x_real, \n",
    "    x_recon\n",
    ")\n",
    "R2 = r2_score(\n",
    "    x_real, \n",
    "    x_recon\n",
    ")"
   ]
  },
  {
   "cell_type": "code",
   "execution_count": 46,
   "metadata": {
    "ExecuteTime": {
     "end_time": "2020-07-18T18:14:32.761692Z",
     "start_time": "2020-07-18T18:14:32.700545Z"
    }
   },
   "outputs": [
    {
     "data": {
      "text/html": [
       "<div>\n",
       "<style scoped>\n",
       "    .dataframe tbody tr th:only-of-type {\n",
       "        vertical-align: middle;\n",
       "    }\n",
       "\n",
       "    .dataframe tbody tr th {\n",
       "        vertical-align: top;\n",
       "    }\n",
       "\n",
       "    .dataframe thead th {\n",
       "        text-align: right;\n",
       "    }\n",
       "</style>\n",
       "<table border=\"1\" class=\"dataframe\">\n",
       "  <thead>\n",
       "    <tr style=\"text-align: right;\">\n",
       "      <th></th>\n",
       "      <th>method_</th>\n",
       "      <th>dimensions</th>\n",
       "      <th>dataset</th>\n",
       "      <th>MSE</th>\n",
       "      <th>MAE</th>\n",
       "      <th>MedAE</th>\n",
       "      <th>R2</th>\n",
       "    </tr>\n",
       "  </thead>\n",
       "  <tbody>\n",
       "    <tr>\n",
       "      <th>0</th>\n",
       "      <td>AE</td>\n",
       "      <td>2</td>\n",
       "      <td>mnist</td>\n",
       "      <td>0.035955</td>\n",
       "      <td>0.080954</td>\n",
       "      <td>0.040411</td>\n",
       "      <td>0.048519</td>\n",
       "    </tr>\n",
       "    <tr>\n",
       "      <th>1</th>\n",
       "      <td>AE</td>\n",
       "      <td>64</td>\n",
       "      <td>mnist</td>\n",
       "      <td>0.002684</td>\n",
       "      <td>0.014447</td>\n",
       "      <td>0.001088</td>\n",
       "      <td>-11.882787</td>\n",
       "    </tr>\n",
       "    <tr>\n",
       "      <th>2</th>\n",
       "      <td>network</td>\n",
       "      <td>2</td>\n",
       "      <td>mnist</td>\n",
       "      <td>0.037375</td>\n",
       "      <td>0.083731</td>\n",
       "      <td>0.043021</td>\n",
       "      <td>0.219779</td>\n",
       "    </tr>\n",
       "    <tr>\n",
       "      <th>3</th>\n",
       "      <td>network</td>\n",
       "      <td>64</td>\n",
       "      <td>mnist</td>\n",
       "      <td>0.031332</td>\n",
       "      <td>0.073505</td>\n",
       "      <td>0.033229</td>\n",
       "      <td>-0.376022</td>\n",
       "    </tr>\n",
       "  </tbody>\n",
       "</table>\n",
       "</div>"
      ],
      "text/plain": [
       "   method_ dimensions dataset       MSE       MAE     MedAE         R2\n",
       "0       AE          2   mnist  0.035955  0.080954  0.040411   0.048519\n",
       "1       AE         64   mnist  0.002684  0.014447  0.001088 -11.882787\n",
       "2  network          2   mnist  0.037375  0.083731  0.043021   0.219779\n",
       "3  network         64   mnist  0.031332  0.073505  0.033229  -0.376022"
      ]
     },
     "execution_count": 46,
     "metadata": {},
     "output_type": "execute_result"
    }
   ],
   "source": [
    "reconstruction_acc_df.loc[len(reconstruction_acc_df)] = ['network', 64, dataset, MSE, MAE, MedAE, R2]\n",
    "reconstruction_acc_df"
   ]
  },
  {
   "cell_type": "markdown",
   "metadata": {},
   "source": [
    "#### UMAP-learn"
   ]
  },
  {
   "cell_type": "markdown",
   "metadata": {},
   "source": [
    "##### 2 dims"
   ]
  },
  {
   "cell_type": "code",
   "execution_count": 47,
   "metadata": {
    "ExecuteTime": {
     "end_time": "2020-07-18T18:15:18.110086Z",
     "start_time": "2020-07-18T18:14:32.762902Z"
    }
   },
   "outputs": [
    {
     "name": "stdout",
     "output_type": "stream",
     "text": [
      "UMAP(dens_frac=0.0, dens_lambda=0.0, verbose=True)\n",
      "Construct fuzzy simplicial set\n",
      "Sat Jul 18 11:14:32 2020 Finding Nearest Neighbors\n",
      "Sat Jul 18 11:14:32 2020 Building RP forest with 16 trees\n",
      "Sat Jul 18 11:14:34 2020 parallel NN descent for 16 iterations\n",
      "\t 0  /  16\n",
      "\t 1  /  16\n",
      "\t 2  /  16\n",
      "\t 3  /  16\n",
      "\t 4  /  16\n",
      "Sat Jul 18 11:14:45 2020 Finished Nearest Neighbor Search\n",
      "Sat Jul 18 11:14:47 2020 Construct embedding\n",
      "\tcompleted  0  /  200 epochs\n",
      "\tcompleted  20  /  200 epochs\n",
      "\tcompleted  40  /  200 epochs\n",
      "\tcompleted  60  /  200 epochs\n",
      "\tcompleted  80  /  200 epochs\n",
      "\tcompleted  100  /  200 epochs\n",
      "\tcompleted  120  /  200 epochs\n",
      "\tcompleted  140  /  200 epochs\n",
      "\tcompleted  160  /  200 epochs\n",
      "\tcompleted  180  /  200 epochs\n",
      "Sat Jul 18 11:15:17 2020 Finished embedding\n"
     ]
    }
   ],
   "source": [
    "embedder = UMAP(n_components = 2, verbose=True)\n",
    "z_umap = embedder.fit_transform(X_train_flat)"
   ]
  },
  {
   "cell_type": "code",
   "execution_count": 48,
   "metadata": {
    "ExecuteTime": {
     "end_time": "2020-07-18T18:25:40.430725Z",
     "start_time": "2020-07-18T18:15:18.113475Z"
    },
    "scrolled": true
   },
   "outputs": [
    {
     "data": {
      "application/vnd.jupyter.widget-view+json": {
       "model_id": "6990afad547d40c4bedd7727f08685f1",
       "version_major": 2,
       "version_minor": 0
      },
      "text/plain": [
       "HBox(children=(IntProgress(value=0, max=10), HTML(value='')))"
      ]
     },
     "metadata": {},
     "output_type": "display_data"
    },
    {
     "name": "stdout",
     "output_type": "stream",
     "text": [
      "\tcompleted  0  /  100 epochs\n",
      "\tcompleted  10  /  100 epochs\n",
      "\tcompleted  20  /  100 epochs\n",
      "\tcompleted  30  /  100 epochs\n",
      "\tcompleted  40  /  100 epochs\n",
      "\tcompleted  50  /  100 epochs\n",
      "\tcompleted  60  /  100 epochs\n",
      "\tcompleted  70  /  100 epochs\n",
      "\tcompleted  80  /  100 epochs\n",
      "\tcompleted  90  /  100 epochs\n",
      "seconds:  18.78321402007714\n",
      "\tcompleted  0  /  100 epochs\n",
      "\tcompleted  10  /  100 epochs\n",
      "\tcompleted  20  /  100 epochs\n",
      "\tcompleted  30  /  100 epochs\n",
      "\tcompleted  40  /  100 epochs\n",
      "\tcompleted  50  /  100 epochs\n",
      "\tcompleted  60  /  100 epochs\n",
      "\tcompleted  70  /  100 epochs\n",
      "\tcompleted  80  /  100 epochs\n",
      "\tcompleted  90  /  100 epochs\n",
      "seconds:  56.270065859891474\n",
      "\tcompleted  0  /  100 epochs\n",
      "\tcompleted  10  /  100 epochs\n",
      "\tcompleted  20  /  100 epochs\n",
      "\tcompleted  30  /  100 epochs\n",
      "\tcompleted  40  /  100 epochs\n",
      "\tcompleted  50  /  100 epochs\n",
      "\tcompleted  60  /  100 epochs\n",
      "\tcompleted  70  /  100 epochs\n",
      "\tcompleted  80  /  100 epochs\n",
      "\tcompleted  90  /  100 epochs\n",
      "seconds:  5.977272775024176\n",
      "\tcompleted  0  /  100 epochs\n",
      "\tcompleted  10  /  100 epochs\n",
      "\tcompleted  20  /  100 epochs\n",
      "\tcompleted  30  /  100 epochs\n",
      "\tcompleted  40  /  100 epochs\n",
      "\tcompleted  50  /  100 epochs\n",
      "\tcompleted  60  /  100 epochs\n",
      "\tcompleted  70  /  100 epochs\n",
      "\tcompleted  80  /  100 epochs\n",
      "\tcompleted  90  /  100 epochs\n",
      "seconds:  55.24529325286858\n",
      "\tcompleted  0  /  100 epochs\n",
      "\tcompleted  10  /  100 epochs\n",
      "\tcompleted  20  /  100 epochs\n",
      "\tcompleted  30  /  100 epochs\n",
      "\tcompleted  40  /  100 epochs\n",
      "\tcompleted  50  /  100 epochs\n",
      "\tcompleted  60  /  100 epochs\n",
      "\tcompleted  70  /  100 epochs\n",
      "\tcompleted  80  /  100 epochs\n",
      "\tcompleted  90  /  100 epochs\n",
      "seconds:  5.978567785816267\n",
      "\tcompleted  0  /  100 epochs\n",
      "\tcompleted  10  /  100 epochs\n",
      "\tcompleted  20  /  100 epochs\n",
      "\tcompleted  30  /  100 epochs\n",
      "\tcompleted  40  /  100 epochs\n",
      "\tcompleted  50  /  100 epochs\n",
      "\tcompleted  60  /  100 epochs\n",
      "\tcompleted  70  /  100 epochs\n",
      "\tcompleted  80  /  100 epochs\n",
      "\tcompleted  90  /  100 epochs\n",
      "seconds:  54.71356586087495\n",
      "\tcompleted  0  /  100 epochs\n",
      "\tcompleted  10  /  100 epochs\n",
      "\tcompleted  20  /  100 epochs\n",
      "\tcompleted  30  /  100 epochs\n",
      "\tcompleted  40  /  100 epochs\n",
      "\tcompleted  50  /  100 epochs\n",
      "\tcompleted  60  /  100 epochs\n",
      "\tcompleted  70  /  100 epochs\n",
      "\tcompleted  80  /  100 epochs\n",
      "\tcompleted  90  /  100 epochs\n",
      "seconds:  5.955512054031715\n",
      "\tcompleted  0  /  100 epochs\n",
      "\tcompleted  10  /  100 epochs\n",
      "\tcompleted  20  /  100 epochs\n",
      "\tcompleted  30  /  100 epochs\n",
      "\tcompleted  40  /  100 epochs\n",
      "\tcompleted  50  /  100 epochs\n",
      "\tcompleted  60  /  100 epochs\n",
      "\tcompleted  70  /  100 epochs\n",
      "\tcompleted  80  /  100 epochs\n",
      "\tcompleted  90  /  100 epochs\n",
      "seconds:  54.842287139967084\n",
      "\tcompleted  0  /  100 epochs\n",
      "\tcompleted  10  /  100 epochs\n",
      "\tcompleted  20  /  100 epochs\n",
      "\tcompleted  30  /  100 epochs\n",
      "\tcompleted  40  /  100 epochs\n",
      "\tcompleted  50  /  100 epochs\n",
      "\tcompleted  60  /  100 epochs\n",
      "\tcompleted  70  /  100 epochs\n",
      "\tcompleted  80  /  100 epochs\n",
      "\tcompleted  90  /  100 epochs\n",
      "seconds:  5.86796799604781\n",
      "\tcompleted  0  /  100 epochs\n",
      "\tcompleted  10  /  100 epochs\n",
      "\tcompleted  20  /  100 epochs\n",
      "\tcompleted  30  /  100 epochs\n",
      "\tcompleted  40  /  100 epochs\n",
      "\tcompleted  50  /  100 epochs\n",
      "\tcompleted  60  /  100 epochs\n",
      "\tcompleted  70  /  100 epochs\n",
      "\tcompleted  80  /  100 epochs\n",
      "\tcompleted  90  /  100 epochs\n",
      "seconds:  55.008066452806816\n",
      "\tcompleted  0  /  100 epochs\n",
      "\tcompleted  10  /  100 epochs\n",
      "\tcompleted  20  /  100 epochs\n",
      "\tcompleted  30  /  100 epochs\n",
      "\tcompleted  40  /  100 epochs\n",
      "\tcompleted  50  /  100 epochs\n",
      "\tcompleted  60  /  100 epochs\n",
      "\tcompleted  70  /  100 epochs\n",
      "\tcompleted  80  /  100 epochs\n",
      "\tcompleted  90  /  100 epochs\n",
      "seconds:  6.257110981969163\n",
      "\tcompleted  0  /  100 epochs\n",
      "\tcompleted  10  /  100 epochs\n",
      "\tcompleted  20  /  100 epochs\n",
      "\tcompleted  30  /  100 epochs\n",
      "\tcompleted  40  /  100 epochs\n",
      "\tcompleted  50  /  100 epochs\n",
      "\tcompleted  60  /  100 epochs\n",
      "\tcompleted  70  /  100 epochs\n",
      "\tcompleted  80  /  100 epochs\n",
      "\tcompleted  90  /  100 epochs\n",
      "seconds:  54.47917833807878\n",
      "\tcompleted  0  /  100 epochs\n",
      "\tcompleted  10  /  100 epochs\n",
      "\tcompleted  20  /  100 epochs\n",
      "\tcompleted  30  /  100 epochs\n",
      "\tcompleted  40  /  100 epochs\n",
      "\tcompleted  50  /  100 epochs\n",
      "\tcompleted  60  /  100 epochs\n",
      "\tcompleted  70  /  100 epochs\n",
      "\tcompleted  80  /  100 epochs\n",
      "\tcompleted  90  /  100 epochs\n",
      "seconds:  6.106794144958258\n",
      "\tcompleted  0  /  100 epochs\n",
      "\tcompleted  10  /  100 epochs\n",
      "\tcompleted  20  /  100 epochs\n",
      "\tcompleted  30  /  100 epochs\n",
      "\tcompleted  40  /  100 epochs\n",
      "\tcompleted  50  /  100 epochs\n",
      "\tcompleted  60  /  100 epochs\n",
      "\tcompleted  70  /  100 epochs\n",
      "\tcompleted  80  /  100 epochs\n",
      "\tcompleted  90  /  100 epochs\n",
      "seconds:  55.43895081500523\n",
      "\tcompleted  0  /  100 epochs\n",
      "\tcompleted  10  /  100 epochs\n",
      "\tcompleted  20  /  100 epochs\n",
      "\tcompleted  30  /  100 epochs\n",
      "\tcompleted  40  /  100 epochs\n",
      "\tcompleted  50  /  100 epochs\n",
      "\tcompleted  60  /  100 epochs\n",
      "\tcompleted  70  /  100 epochs\n",
      "\tcompleted  80  /  100 epochs\n",
      "\tcompleted  90  /  100 epochs\n",
      "seconds:  6.306424072943628\n",
      "\tcompleted  0  /  100 epochs\n",
      "\tcompleted  10  /  100 epochs\n",
      "\tcompleted  20  /  100 epochs\n",
      "\tcompleted  30  /  100 epochs\n",
      "\tcompleted  40  /  100 epochs\n",
      "\tcompleted  50  /  100 epochs\n",
      "\tcompleted  60  /  100 epochs\n",
      "\tcompleted  70  /  100 epochs\n",
      "\tcompleted  80  /  100 epochs\n",
      "\tcompleted  90  /  100 epochs\n",
      "seconds:  54.24031974421814\n",
      "\tcompleted  0  /  100 epochs\n",
      "\tcompleted  10  /  100 epochs\n",
      "\tcompleted  20  /  100 epochs\n",
      "\tcompleted  30  /  100 epochs\n",
      "\tcompleted  40  /  100 epochs\n",
      "\tcompleted  50  /  100 epochs\n",
      "\tcompleted  60  /  100 epochs\n",
      "\tcompleted  70  /  100 epochs\n",
      "\tcompleted  80  /  100 epochs\n",
      "\tcompleted  90  /  100 epochs\n",
      "seconds:  6.150162456789985\n",
      "\tcompleted  0  /  100 epochs\n",
      "\tcompleted  10  /  100 epochs\n",
      "\tcompleted  20  /  100 epochs\n",
      "\tcompleted  30  /  100 epochs\n",
      "\tcompleted  40  /  100 epochs\n",
      "\tcompleted  50  /  100 epochs\n",
      "\tcompleted  60  /  100 epochs\n",
      "\tcompleted  70  /  100 epochs\n",
      "\tcompleted  80  /  100 epochs\n",
      "\tcompleted  90  /  100 epochs\n",
      "seconds:  54.17155158892274\n",
      "\tcompleted  0  /  100 epochs\n",
      "\tcompleted  10  /  100 epochs\n",
      "\tcompleted  20  /  100 epochs\n",
      "\tcompleted  30  /  100 epochs\n",
      "\tcompleted  40  /  100 epochs\n",
      "\tcompleted  50  /  100 epochs\n",
      "\tcompleted  60  /  100 epochs\n",
      "\tcompleted  70  /  100 epochs\n",
      "\tcompleted  80  /  100 epochs\n",
      "\tcompleted  90  /  100 epochs\n",
      "seconds:  6.224488552194089\n",
      "\tcompleted  0  /  100 epochs\n",
      "\tcompleted  10  /  100 epochs\n",
      "\tcompleted  20  /  100 epochs\n",
      "\tcompleted  30  /  100 epochs\n",
      "\tcompleted  40  /  100 epochs\n",
      "\tcompleted  50  /  100 epochs\n",
      "\tcompleted  60  /  100 epochs\n",
      "\tcompleted  70  /  100 epochs\n",
      "\tcompleted  80  /  100 epochs\n",
      "\tcompleted  90  /  100 epochs\n",
      "seconds:  54.146681688027456\n",
      "\n"
     ]
    }
   ],
   "source": [
    "x_test_samples= []\n",
    "x_test_recon_samples= []\n",
    "n_repeats = 10\n",
    "for i in tqdm(range(n_repeats)):\n",
    "    start_time = time.monotonic()\n",
    "    z_test = embedder.transform(X_test_flat);\n",
    "    end_time = time.monotonic()\n",
    "    print('seconds: ', end_time - start_time)\n",
    "    embed_time = end_time - start_time\n",
    "\n",
    "    nex = 10 # it would take far too long to reconstruct the entire dataset\n",
    "    samp_idx = np.random.randint(len(z_test),  size= nex)\n",
    "    sample = np.array(z_test)[samp_idx]\n",
    "    x_test_samples.append(samp_idx)\n",
    "    start_time = time.monotonic()\n",
    "    x_test_recon = embedder.inverse_transform(sample);\n",
    "    end_time = time.monotonic()\n",
    "    print('seconds: ', end_time - start_time)\n",
    "    recon_time = (end_time - start_time)*len(z_test)/nex\n",
    "\n",
    "    reconstruction_speed_df.loc[len(reconstruction_speed_df)] = [\n",
    "        \"umap-learn\",\n",
    "        2,\n",
    "        dataset,\n",
    "        embed_time,\n",
    "        recon_time,\n",
    "        embed_time + recon_time,\n",
    "        len(X_test_flat)\n",
    "    ]\n",
    "    x_test_recon_samples.append(x_test_recon)"
   ]
  },
  {
   "cell_type": "code",
   "execution_count": 49,
   "metadata": {
    "ExecuteTime": {
     "end_time": "2020-07-18T18:25:40.990889Z",
     "start_time": "2020-07-18T18:25:40.432631Z"
    }
   },
   "outputs": [],
   "source": [
    "x_recon = np.concatenate(x_test_recon_samples)"
   ]
  },
  {
   "cell_type": "code",
   "execution_count": 50,
   "metadata": {
    "ExecuteTime": {
     "end_time": "2020-07-18T18:25:41.038598Z",
     "start_time": "2020-07-18T18:25:40.993112Z"
    }
   },
   "outputs": [],
   "source": [
    "x_real = np.array(X_test_flat)[np.concatenate(x_test_samples)]"
   ]
  },
  {
   "cell_type": "code",
   "execution_count": 51,
   "metadata": {
    "ExecuteTime": {
     "end_time": "2020-07-18T18:25:41.094186Z",
     "start_time": "2020-07-18T18:25:41.040587Z"
    }
   },
   "outputs": [
    {
     "data": {
      "text/html": [
       "<div>\n",
       "<style scoped>\n",
       "    .dataframe tbody tr th:only-of-type {\n",
       "        vertical-align: middle;\n",
       "    }\n",
       "\n",
       "    .dataframe tbody tr th {\n",
       "        vertical-align: top;\n",
       "    }\n",
       "\n",
       "    .dataframe thead th {\n",
       "        text-align: right;\n",
       "    }\n",
       "</style>\n",
       "<table border=\"1\" class=\"dataframe\">\n",
       "  <thead>\n",
       "    <tr style=\"text-align: right;\">\n",
       "      <th></th>\n",
       "      <th>method_</th>\n",
       "      <th>dimensions</th>\n",
       "      <th>dataset</th>\n",
       "      <th>MSE</th>\n",
       "      <th>MAE</th>\n",
       "      <th>MedAE</th>\n",
       "      <th>R2</th>\n",
       "    </tr>\n",
       "  </thead>\n",
       "  <tbody>\n",
       "    <tr>\n",
       "      <th>0</th>\n",
       "      <td>AE</td>\n",
       "      <td>2</td>\n",
       "      <td>mnist</td>\n",
       "      <td>0.035955</td>\n",
       "      <td>0.080954</td>\n",
       "      <td>0.040411</td>\n",
       "      <td>0.048519</td>\n",
       "    </tr>\n",
       "    <tr>\n",
       "      <th>1</th>\n",
       "      <td>AE</td>\n",
       "      <td>64</td>\n",
       "      <td>mnist</td>\n",
       "      <td>0.002684</td>\n",
       "      <td>0.014447</td>\n",
       "      <td>0.001088</td>\n",
       "      <td>-11.882787</td>\n",
       "    </tr>\n",
       "    <tr>\n",
       "      <th>2</th>\n",
       "      <td>network</td>\n",
       "      <td>2</td>\n",
       "      <td>mnist</td>\n",
       "      <td>0.037375</td>\n",
       "      <td>0.083731</td>\n",
       "      <td>0.043021</td>\n",
       "      <td>0.219779</td>\n",
       "    </tr>\n",
       "    <tr>\n",
       "      <th>3</th>\n",
       "      <td>network</td>\n",
       "      <td>64</td>\n",
       "      <td>mnist</td>\n",
       "      <td>0.031332</td>\n",
       "      <td>0.073505</td>\n",
       "      <td>0.033229</td>\n",
       "      <td>-0.376022</td>\n",
       "    </tr>\n",
       "    <tr>\n",
       "      <th>4</th>\n",
       "      <td>umap-learn</td>\n",
       "      <td>2</td>\n",
       "      <td>mnist</td>\n",
       "      <td>0.039312</td>\n",
       "      <td>0.098128</td>\n",
       "      <td>0.067867</td>\n",
       "      <td>-0.157930</td>\n",
       "    </tr>\n",
       "  </tbody>\n",
       "</table>\n",
       "</div>"
      ],
      "text/plain": [
       "      method_ dimensions dataset       MSE       MAE     MedAE         R2\n",
       "0          AE          2   mnist  0.035955  0.080954  0.040411   0.048519\n",
       "1          AE         64   mnist  0.002684  0.014447  0.001088 -11.882787\n",
       "2     network          2   mnist  0.037375  0.083731  0.043021   0.219779\n",
       "3     network         64   mnist  0.031332  0.073505  0.033229  -0.376022\n",
       "4  umap-learn          2   mnist  0.039312  0.098128  0.067867  -0.157930"
      ]
     },
     "execution_count": 51,
     "metadata": {},
     "output_type": "execute_result"
    }
   ],
   "source": [
    "\n",
    "MSE = mean_squared_error(\n",
    "    x_real, \n",
    "    x_recon\n",
    ")\n",
    "MAE = mean_absolute_error(\n",
    "    x_real, \n",
    "    x_recon\n",
    ")\n",
    "MedAE = median_absolute_error(\n",
    "    x_real, \n",
    "    x_recon\n",
    ")\n",
    "R2 = r2_score(\n",
    "    x_real, \n",
    "    x_recon\n",
    ")\n",
    "\n",
    "reconstruction_acc_df.loc[len(reconstruction_acc_df)] = ['umap-learn', 2, dataset, MSE, MAE, MedAE, R2]\n",
    "reconstruction_acc_df"
   ]
  },
  {
   "cell_type": "markdown",
   "metadata": {
    "ExecuteTime": {
     "end_time": "2020-07-17T18:45:10.741411Z",
     "start_time": "2020-07-17T18:44:51.265Z"
    }
   },
   "source": [
    "##### PCA"
   ]
  },
  {
   "cell_type": "markdown",
   "metadata": {},
   "source": [
    "##### 2 dims\n"
   ]
  },
  {
   "cell_type": "code",
   "execution_count": 52,
   "metadata": {
    "ExecuteTime": {
     "end_time": "2020-07-18T18:25:41.618836Z",
     "start_time": "2020-07-18T18:25:41.095416Z"
    }
   },
   "outputs": [],
   "source": [
    "pca = PCA(n_components=2)\n",
    "z = pca.fit_transform(X_train_flat)"
   ]
  },
  {
   "cell_type": "code",
   "execution_count": 53,
   "metadata": {
    "ExecuteTime": {
     "end_time": "2020-07-18T18:25:41.975279Z",
     "start_time": "2020-07-18T18:25:41.620235Z"
    }
   },
   "outputs": [
    {
     "data": {
      "application/vnd.jupyter.widget-view+json": {
       "model_id": "38edcaaef2ae4054b330ac8f099af0fb",
       "version_major": 2,
       "version_minor": 0
      },
      "text/plain": [
       "HBox(children=(IntProgress(value=0, max=10), HTML(value='')))"
      ]
     },
     "metadata": {},
     "output_type": "display_data"
    },
    {
     "name": "stdout",
     "output_type": "stream",
     "text": [
      "seconds:  0.010349307907745242\n",
      "seconds:  0.016990039963275194\n",
      "seconds:  0.010479332180693746\n",
      "seconds:  0.02470860304310918\n",
      "seconds:  0.009389179991558194\n",
      "seconds:  0.013677514856681228\n",
      "seconds:  0.009859394049271941\n",
      "seconds:  0.012727197026833892\n",
      "seconds:  0.009761702036485076\n",
      "seconds:  0.012721447041258216\n",
      "seconds:  0.009627907071262598\n",
      "seconds:  0.012780658900737762\n",
      "seconds:  0.009824004024267197\n",
      "seconds:  0.013886430067941546\n",
      "seconds:  0.009689799044281244\n",
      "seconds:  0.01286296104080975\n",
      "seconds:  0.009678259026259184\n",
      "seconds:  0.012939003063365817\n",
      "seconds:  0.00989336590282619\n",
      "seconds:  0.012702385894954205\n",
      "\n"
     ]
    }
   ],
   "source": [
    "n_repeats = 10\n",
    "for i in tqdm(range(n_repeats)):\n",
    "    start_time = time.monotonic()\n",
    "    z_test = pca.transform(X_test_flat);\n",
    "    end_time = time.monotonic()\n",
    "    print('seconds: ', end_time - start_time)\n",
    "    embed_time = end_time - start_time\n",
    "\n",
    "    start_time = time.monotonic()\n",
    "    x_test_recon = pca.inverse_transform(z_test);\n",
    "    end_time = time.monotonic()\n",
    "    print('seconds: ', end_time - start_time)\n",
    "    recon_time = (end_time - start_time)\n",
    "\n",
    "    reconstruction_speed_df.loc[len(reconstruction_speed_df)] = [\n",
    "        \"pca\",\n",
    "        2,\n",
    "        dataset,\n",
    "        embed_time,\n",
    "        recon_time,\n",
    "        embed_time + recon_time,\n",
    "        len(X_test_flat)\n",
    "    ]"
   ]
  },
  {
   "cell_type": "code",
   "execution_count": 54,
   "metadata": {
    "ExecuteTime": {
     "end_time": "2020-07-18T18:25:42.323808Z",
     "start_time": "2020-07-18T18:25:41.976515Z"
    }
   },
   "outputs": [
    {
     "data": {
      "text/html": [
       "<div>\n",
       "<style scoped>\n",
       "    .dataframe tbody tr th:only-of-type {\n",
       "        vertical-align: middle;\n",
       "    }\n",
       "\n",
       "    .dataframe tbody tr th {\n",
       "        vertical-align: top;\n",
       "    }\n",
       "\n",
       "    .dataframe thead th {\n",
       "        text-align: right;\n",
       "    }\n",
       "</style>\n",
       "<table border=\"1\" class=\"dataframe\">\n",
       "  <thead>\n",
       "    <tr style=\"text-align: right;\">\n",
       "      <th></th>\n",
       "      <th>method_</th>\n",
       "      <th>dimensions</th>\n",
       "      <th>dataset</th>\n",
       "      <th>MSE</th>\n",
       "      <th>MAE</th>\n",
       "      <th>MedAE</th>\n",
       "      <th>R2</th>\n",
       "    </tr>\n",
       "  </thead>\n",
       "  <tbody>\n",
       "    <tr>\n",
       "      <th>0</th>\n",
       "      <td>AE</td>\n",
       "      <td>2</td>\n",
       "      <td>mnist</td>\n",
       "      <td>0.035955</td>\n",
       "      <td>0.080954</td>\n",
       "      <td>0.040411</td>\n",
       "      <td>0.048519</td>\n",
       "    </tr>\n",
       "    <tr>\n",
       "      <th>1</th>\n",
       "      <td>AE</td>\n",
       "      <td>64</td>\n",
       "      <td>mnist</td>\n",
       "      <td>0.002684</td>\n",
       "      <td>0.014447</td>\n",
       "      <td>0.001088</td>\n",
       "      <td>-11.882787</td>\n",
       "    </tr>\n",
       "    <tr>\n",
       "      <th>2</th>\n",
       "      <td>network</td>\n",
       "      <td>2</td>\n",
       "      <td>mnist</td>\n",
       "      <td>0.037375</td>\n",
       "      <td>0.083731</td>\n",
       "      <td>0.043021</td>\n",
       "      <td>0.219779</td>\n",
       "    </tr>\n",
       "    <tr>\n",
       "      <th>3</th>\n",
       "      <td>network</td>\n",
       "      <td>64</td>\n",
       "      <td>mnist</td>\n",
       "      <td>0.031332</td>\n",
       "      <td>0.073505</td>\n",
       "      <td>0.033229</td>\n",
       "      <td>-0.376022</td>\n",
       "    </tr>\n",
       "    <tr>\n",
       "      <th>4</th>\n",
       "      <td>umap-learn</td>\n",
       "      <td>2</td>\n",
       "      <td>mnist</td>\n",
       "      <td>0.039312</td>\n",
       "      <td>0.098128</td>\n",
       "      <td>0.067867</td>\n",
       "      <td>-0.157930</td>\n",
       "    </tr>\n",
       "    <tr>\n",
       "      <th>5</th>\n",
       "      <td>pca</td>\n",
       "      <td>2</td>\n",
       "      <td>mnist</td>\n",
       "      <td>0.055667</td>\n",
       "      <td>0.130651</td>\n",
       "      <td>0.112987</td>\n",
       "      <td>0.145549</td>\n",
       "    </tr>\n",
       "  </tbody>\n",
       "</table>\n",
       "</div>"
      ],
      "text/plain": [
       "      method_ dimensions dataset       MSE       MAE     MedAE         R2\n",
       "0          AE          2   mnist  0.035955  0.080954  0.040411   0.048519\n",
       "1          AE         64   mnist  0.002684  0.014447  0.001088 -11.882787\n",
       "2     network          2   mnist  0.037375  0.083731  0.043021   0.219779\n",
       "3     network         64   mnist  0.031332  0.073505  0.033229  -0.376022\n",
       "4  umap-learn          2   mnist  0.039312  0.098128  0.067867  -0.157930\n",
       "5         pca          2   mnist  0.055667  0.130651  0.112987   0.145549"
      ]
     },
     "execution_count": 54,
     "metadata": {},
     "output_type": "execute_result"
    }
   ],
   "source": [
    "X_recon = pca.inverse_transform(pca.transform(X_test_flat))\n",
    "x_real = X_test.reshape((len(X_test), np.product(np.shape(X_test)[1:])))\n",
    "x_recon = X_recon.reshape((len(X_test), np.product(np.shape(X_test)[1:])))\n",
    "\n",
    "MSE = mean_squared_error(\n",
    "    x_real, \n",
    "    x_recon\n",
    ")\n",
    "MAE = mean_absolute_error(\n",
    "    x_real, \n",
    "    x_recon\n",
    ")\n",
    "MedAE = median_absolute_error(\n",
    "    x_real, \n",
    "    x_recon\n",
    ")\n",
    "R2 = r2_score(\n",
    "    x_real, \n",
    "    x_recon\n",
    ")\n",
    "\n",
    "reconstruction_acc_df.loc[len(reconstruction_acc_df)] = ['pca', 2, dataset, MSE, MAE, MedAE, R2]\n",
    "reconstruction_acc_df"
   ]
  },
  {
   "cell_type": "markdown",
   "metadata": {},
   "source": [
    "##### 64 dims"
   ]
  },
  {
   "cell_type": "code",
   "execution_count": 55,
   "metadata": {
    "ExecuteTime": {
     "end_time": "2020-07-18T18:25:43.540633Z",
     "start_time": "2020-07-18T18:25:42.324983Z"
    }
   },
   "outputs": [],
   "source": [
    "pca = PCA(n_components=64)\n",
    "z = pca.fit_transform(X_train_flat)"
   ]
  },
  {
   "cell_type": "code",
   "execution_count": 56,
   "metadata": {
    "ExecuteTime": {
     "end_time": "2020-07-18T18:25:43.978660Z",
     "start_time": "2020-07-18T18:25:43.541957Z"
    }
   },
   "outputs": [
    {
     "data": {
      "application/vnd.jupyter.widget-view+json": {
       "model_id": "a8380238110442a78b25e1b04ced81f4",
       "version_major": 2,
       "version_minor": 0
      },
      "text/plain": [
       "HBox(children=(IntProgress(value=0, max=10), HTML(value='')))"
      ]
     },
     "metadata": {},
     "output_type": "display_data"
    },
    {
     "name": "stdout",
     "output_type": "stream",
     "text": [
      "seconds:  0.014473286923021078\n",
      "seconds:  0.019930025096982718\n",
      "seconds:  0.014566730940714478\n",
      "seconds:  0.01586883794516325\n",
      "seconds:  0.015583788976073265\n",
      "seconds:  0.01592417899519205\n",
      "seconds:  0.014985451940447092\n",
      "seconds:  0.016177616082131863\n",
      "seconds:  0.015708262799307704\n",
      "seconds:  0.01710262382403016\n",
      "seconds:  0.015303591033443809\n",
      "seconds:  0.016569416970014572\n",
      "seconds:  0.016035383101552725\n",
      "seconds:  0.01655597798526287\n",
      "seconds:  0.015293471049517393\n",
      "seconds:  0.016628409968689084\n",
      "seconds:  0.0160977840423584\n",
      "seconds:  0.01647517504170537\n",
      "seconds:  0.01528386096470058\n",
      "seconds:  0.01710090390406549\n",
      "\n"
     ]
    }
   ],
   "source": [
    "n_repeats = 10\n",
    "for i in tqdm(range(n_repeats)):\n",
    "    start_time = time.monotonic()\n",
    "    z_test = pca.transform(X_test_flat);\n",
    "    end_time = time.monotonic()\n",
    "    print('seconds: ', end_time - start_time)\n",
    "    embed_time = end_time - start_time\n",
    "\n",
    "    start_time = time.monotonic()\n",
    "    x_test_recon = pca.inverse_transform(z_test);\n",
    "    end_time = time.monotonic()\n",
    "    print('seconds: ', end_time - start_time)\n",
    "    recon_time = (end_time - start_time)\n",
    "\n",
    "    reconstruction_speed_df.loc[len(reconstruction_speed_df)] = [\n",
    "        \"pca\",\n",
    "        64,\n",
    "        dataset,\n",
    "        embed_time,\n",
    "        recon_time,\n",
    "        embed_time + recon_time,\n",
    "        len(X_test_flat)\n",
    "    ]"
   ]
  },
  {
   "cell_type": "code",
   "execution_count": 57,
   "metadata": {
    "ExecuteTime": {
     "end_time": "2020-07-18T18:25:44.334673Z",
     "start_time": "2020-07-18T18:25:43.980187Z"
    }
   },
   "outputs": [
    {
     "data": {
      "text/html": [
       "<div>\n",
       "<style scoped>\n",
       "    .dataframe tbody tr th:only-of-type {\n",
       "        vertical-align: middle;\n",
       "    }\n",
       "\n",
       "    .dataframe tbody tr th {\n",
       "        vertical-align: top;\n",
       "    }\n",
       "\n",
       "    .dataframe thead th {\n",
       "        text-align: right;\n",
       "    }\n",
       "</style>\n",
       "<table border=\"1\" class=\"dataframe\">\n",
       "  <thead>\n",
       "    <tr style=\"text-align: right;\">\n",
       "      <th></th>\n",
       "      <th>method_</th>\n",
       "      <th>dimensions</th>\n",
       "      <th>dataset</th>\n",
       "      <th>MSE</th>\n",
       "      <th>MAE</th>\n",
       "      <th>MedAE</th>\n",
       "      <th>R2</th>\n",
       "    </tr>\n",
       "  </thead>\n",
       "  <tbody>\n",
       "    <tr>\n",
       "      <th>0</th>\n",
       "      <td>AE</td>\n",
       "      <td>2</td>\n",
       "      <td>mnist</td>\n",
       "      <td>0.035955</td>\n",
       "      <td>0.080954</td>\n",
       "      <td>0.040411</td>\n",
       "      <td>0.048519</td>\n",
       "    </tr>\n",
       "    <tr>\n",
       "      <th>1</th>\n",
       "      <td>AE</td>\n",
       "      <td>64</td>\n",
       "      <td>mnist</td>\n",
       "      <td>0.002684</td>\n",
       "      <td>0.014447</td>\n",
       "      <td>0.001088</td>\n",
       "      <td>-11.882787</td>\n",
       "    </tr>\n",
       "    <tr>\n",
       "      <th>2</th>\n",
       "      <td>network</td>\n",
       "      <td>2</td>\n",
       "      <td>mnist</td>\n",
       "      <td>0.037375</td>\n",
       "      <td>0.083731</td>\n",
       "      <td>0.043021</td>\n",
       "      <td>0.219779</td>\n",
       "    </tr>\n",
       "    <tr>\n",
       "      <th>3</th>\n",
       "      <td>network</td>\n",
       "      <td>64</td>\n",
       "      <td>mnist</td>\n",
       "      <td>0.031332</td>\n",
       "      <td>0.073505</td>\n",
       "      <td>0.033229</td>\n",
       "      <td>-0.376022</td>\n",
       "    </tr>\n",
       "    <tr>\n",
       "      <th>4</th>\n",
       "      <td>umap-learn</td>\n",
       "      <td>2</td>\n",
       "      <td>mnist</td>\n",
       "      <td>0.039312</td>\n",
       "      <td>0.098128</td>\n",
       "      <td>0.067867</td>\n",
       "      <td>-0.157930</td>\n",
       "    </tr>\n",
       "    <tr>\n",
       "      <th>5</th>\n",
       "      <td>pca</td>\n",
       "      <td>2</td>\n",
       "      <td>mnist</td>\n",
       "      <td>0.055667</td>\n",
       "      <td>0.130651</td>\n",
       "      <td>0.112987</td>\n",
       "      <td>0.145549</td>\n",
       "    </tr>\n",
       "    <tr>\n",
       "      <th>6</th>\n",
       "      <td>pca</td>\n",
       "      <td>64</td>\n",
       "      <td>mnist</td>\n",
       "      <td>0.009049</td>\n",
       "      <td>0.051964</td>\n",
       "      <td>0.037784</td>\n",
       "      <td>0.440804</td>\n",
       "    </tr>\n",
       "  </tbody>\n",
       "</table>\n",
       "</div>"
      ],
      "text/plain": [
       "      method_ dimensions dataset       MSE       MAE     MedAE         R2\n",
       "0          AE          2   mnist  0.035955  0.080954  0.040411   0.048519\n",
       "1          AE         64   mnist  0.002684  0.014447  0.001088 -11.882787\n",
       "2     network          2   mnist  0.037375  0.083731  0.043021   0.219779\n",
       "3     network         64   mnist  0.031332  0.073505  0.033229  -0.376022\n",
       "4  umap-learn          2   mnist  0.039312  0.098128  0.067867  -0.157930\n",
       "5         pca          2   mnist  0.055667  0.130651  0.112987   0.145549\n",
       "6         pca         64   mnist  0.009049  0.051964  0.037784   0.440804"
      ]
     },
     "execution_count": 57,
     "metadata": {},
     "output_type": "execute_result"
    }
   ],
   "source": [
    "X_recon = pca.inverse_transform(pca.transform(X_test_flat))\n",
    "x_real = X_test.reshape((len(X_test), np.product(np.shape(X_test)[1:])))\n",
    "x_recon = X_recon.reshape((len(X_test), np.product(np.shape(X_test)[1:])))\n",
    "\n",
    "MSE = mean_squared_error(\n",
    "    x_real, \n",
    "    x_recon\n",
    ")\n",
    "MAE = mean_absolute_error(\n",
    "    x_real, \n",
    "    x_recon\n",
    ")\n",
    "MedAE = median_absolute_error(\n",
    "    x_real, \n",
    "    x_recon\n",
    ")\n",
    "R2 = r2_score(\n",
    "    x_real, \n",
    "    x_recon\n",
    ")\n",
    "\n",
    "reconstruction_acc_df.loc[len(reconstruction_acc_df)] = ['pca', 64, dataset, MSE, MAE, MedAE, R2]\n",
    "reconstruction_acc_df"
   ]
  },
  {
   "cell_type": "markdown",
   "metadata": {},
   "source": [
    "### Save"
   ]
  },
  {
   "cell_type": "code",
   "execution_count": 58,
   "metadata": {
    "ExecuteTime": {
     "end_time": "2020-07-18T18:25:44.374381Z",
     "start_time": "2020-07-18T18:25:44.335856Z"
    }
   },
   "outputs": [],
   "source": [
    "#save_loc = DATA_DIR / 'reconstruction_speed' / (dataset + '.pickle')\n",
    "#ensure_dir(save_loc)\n",
    "#reconstruction_speed_df.to_pickle(save_loc)"
   ]
  },
  {
   "cell_type": "code",
   "execution_count": 59,
   "metadata": {
    "ExecuteTime": {
     "end_time": "2020-07-18T18:25:44.415946Z",
     "start_time": "2020-07-18T18:25:44.375404Z"
    }
   },
   "outputs": [],
   "source": [
    "save_loc = DATA_DIR / 'reconstruction_acc' / (dataset + '.pickle')\n",
    "ensure_dir(save_loc)\n",
    "reconstruction_acc_df.to_pickle(save_loc)"
   ]
  },
  {
   "cell_type": "markdown",
   "metadata": {},
   "source": [
    "### compute reconstruction speed/quality"
   ]
  },
  {
   "cell_type": "code",
   "execution_count": null,
   "metadata": {},
   "outputs": [],
   "source": []
  }
 ],
 "metadata": {
  "kernelspec": {
   "display_name": "Python 3",
   "language": "python",
   "name": "python3"
  },
  "language_info": {
   "codemirror_mode": {
    "name": "ipython",
    "version": 3
   },
   "file_extension": ".py",
   "mimetype": "text/x-python",
   "name": "python",
   "nbconvert_exporter": "python",
   "pygments_lexer": "ipython3",
   "version": "3.6.7"
  }
 },
 "nbformat": 4,
 "nbformat_minor": 2
}
