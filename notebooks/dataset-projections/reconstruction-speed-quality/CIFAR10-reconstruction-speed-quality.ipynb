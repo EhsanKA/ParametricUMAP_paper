{
 "cells": [
  {
   "cell_type": "markdown",
   "metadata": {},
   "source": [
    "first we need to train a parametric-umap network for each dataset... (5 datasets x 2 dimensions)\n",
    "For umap-learn, UMAP AE, Param. UMAP, PCA\n",
    "- load dataset\n",
    "- load network\n",
    "- compute reconstruction MSE\n",
    "- count time"
   ]
  },
  {
   "cell_type": "code",
   "execution_count": 1,
   "metadata": {
    "ExecuteTime": {
     "end_time": "2020-07-17T22:47:34.241997Z",
     "start_time": "2020-07-17T22:47:34.227432Z"
    }
   },
   "outputs": [],
   "source": [
    "# reload packages\n",
    "%load_ext autoreload\n",
    "%autoreload 2"
   ]
  },
  {
   "cell_type": "markdown",
   "metadata": {},
   "source": [
    "### Choose GPU (this may not be needed on your computer)"
   ]
  },
  {
   "cell_type": "code",
   "execution_count": 2,
   "metadata": {
    "ExecuteTime": {
     "end_time": "2020-07-17T22:47:34.251381Z",
     "start_time": "2020-07-17T22:47:34.243198Z"
    }
   },
   "outputs": [
    {
     "name": "stdout",
     "output_type": "stream",
     "text": [
      "env: CUDA_DEVICE_ORDER=PCI_BUS_ID\n",
      "env: CUDA_VISIBLE_DEVICES=0\n"
     ]
    }
   ],
   "source": [
    "%env CUDA_DEVICE_ORDER=PCI_BUS_ID\n",
    "%env CUDA_VISIBLE_DEVICES=0"
   ]
  },
  {
   "cell_type": "code",
   "execution_count": 3,
   "metadata": {
    "ExecuteTime": {
     "end_time": "2020-07-17T22:47:39.540934Z",
     "start_time": "2020-07-17T22:47:34.252634Z"
    }
   },
   "outputs": [],
   "source": [
    "import tensorflow as tf\n",
    "gpu_devices = tf.config.experimental.list_physical_devices('GPU')\n",
    "if len(gpu_devices)>0:\n",
    "    tf.config.experimental.set_memory_growth(gpu_devices[0], True)"
   ]
  },
  {
   "cell_type": "code",
   "execution_count": 4,
   "metadata": {
    "ExecuteTime": {
     "end_time": "2020-07-17T22:47:39.581743Z",
     "start_time": "2020-07-17T22:47:39.543356Z"
    }
   },
   "outputs": [
    {
     "data": {
      "text/plain": [
       "[PhysicalDevice(name='/physical_device:GPU:0', device_type='GPU')]"
      ]
     },
     "execution_count": 4,
     "metadata": {},
     "output_type": "execute_result"
    }
   ],
   "source": [
    "gpu_devices"
   ]
  },
  {
   "cell_type": "code",
   "execution_count": 5,
   "metadata": {
    "ExecuteTime": {
     "end_time": "2020-07-17T22:47:44.222082Z",
     "start_time": "2020-07-17T22:47:39.583660Z"
    }
   },
   "outputs": [],
   "source": [
    "import numpy as np\n",
    "import pickle\n",
    "import pandas as pd\n",
    "import time\n",
    "from umap import UMAP"
   ]
  },
  {
   "cell_type": "code",
   "execution_count": 6,
   "metadata": {
    "ExecuteTime": {
     "end_time": "2020-07-17T22:47:44.338595Z",
     "start_time": "2020-07-17T22:47:44.224042Z"
    }
   },
   "outputs": [
    {
     "name": "stderr",
     "output_type": "stream",
     "text": [
      "/mnt/cube/tsainbur/conda_envs/tpy3/lib/python3.6/site-packages/tqdm/autonotebook/__init__.py:14: TqdmExperimentalWarning: Using `tqdm.autonotebook.tqdm` in notebook mode. Use `tqdm.tqdm` instead to force console mode (e.g. in jupyter console)\n",
      "  \" (e.g. in jupyter console)\", TqdmExperimentalWarning)\n"
     ]
    }
   ],
   "source": [
    "from tfumap.umap import tfUMAP\n",
    "import tensorflow as tf\n",
    "from sklearn.decomposition import PCA\n",
    "from sklearn.metrics import mean_squared_error, mean_absolute_error, median_absolute_error, r2_score"
   ]
  },
  {
   "cell_type": "code",
   "execution_count": 7,
   "metadata": {
    "ExecuteTime": {
     "end_time": "2020-07-17T22:47:44.380202Z",
     "start_time": "2020-07-17T22:47:44.340089Z"
    }
   },
   "outputs": [],
   "source": [
    "from tqdm.autonotebook import tqdm"
   ]
  },
  {
   "cell_type": "code",
   "execution_count": 8,
   "metadata": {
    "ExecuteTime": {
     "end_time": "2020-07-17T22:47:44.539207Z",
     "start_time": "2020-07-17T22:47:44.381528Z"
    }
   },
   "outputs": [],
   "source": [
    "from tfumap.paths import ensure_dir, MODEL_DIR, DATA_DIR"
   ]
  },
  {
   "cell_type": "code",
   "execution_count": 9,
   "metadata": {
    "ExecuteTime": {
     "end_time": "2020-07-17T22:47:44.590208Z",
     "start_time": "2020-07-17T22:47:44.540973Z"
    }
   },
   "outputs": [],
   "source": [
    "output_dir = MODEL_DIR/'projections' "
   ]
  },
  {
   "cell_type": "code",
   "execution_count": 10,
   "metadata": {
    "ExecuteTime": {
     "end_time": "2020-07-17T22:47:44.635497Z",
     "start_time": "2020-07-17T22:47:44.592207Z"
    }
   },
   "outputs": [],
   "source": [
    "reconstruction_acc_df = pd.DataFrame(columns = ['method_', 'dimensions', 'dataset', 'MSE', 'MAE', 'MedAE', 'R2'])"
   ]
  },
  {
   "cell_type": "code",
   "execution_count": 11,
   "metadata": {
    "ExecuteTime": {
     "end_time": "2020-07-17T22:47:44.673567Z",
     "start_time": "2020-07-17T22:47:44.636464Z"
    }
   },
   "outputs": [],
   "source": [
    "reconstruction_speed_df = pd.DataFrame(columns = ['method_', 'dimensions', 'dataset', 'embed_time', 'recon_time', 'speed', 'nex'])"
   ]
  },
  {
   "cell_type": "markdown",
   "metadata": {},
   "source": [
    "### MNIST"
   ]
  },
  {
   "cell_type": "code",
   "execution_count": 12,
   "metadata": {
    "ExecuteTime": {
     "end_time": "2020-07-17T22:47:44.708191Z",
     "start_time": "2020-07-17T22:47:44.674633Z"
    }
   },
   "outputs": [],
   "source": [
    "dataset = 'cifar10'\n",
    "dims = (32,32,3)"
   ]
  },
  {
   "cell_type": "markdown",
   "metadata": {},
   "source": [
    "##### load dataset"
   ]
  },
  {
   "cell_type": "code",
   "execution_count": 13,
   "metadata": {
    "ExecuteTime": {
     "end_time": "2020-07-17T22:47:45.885835Z",
     "start_time": "2020-07-17T22:47:44.709152Z"
    }
   },
   "outputs": [
    {
     "name": "stdout",
     "output_type": "stream",
     "text": [
      "40000 10000 10000\n"
     ]
    }
   ],
   "source": [
    "from tensorflow.keras.datasets import cifar10\n",
    "\n",
    "# load dataset\n",
    "(train_images, Y_train), (test_images, Y_test) = cifar10.load_data()\n",
    "X_train = (train_images/255.).astype('float32')\n",
    "X_test = (test_images/255.).astype('float32')\n",
    "X_train = X_train.reshape((len(X_train), np.product(np.shape(X_train)[1:])))\n",
    "X_test = X_test.reshape((len(X_test), np.product(np.shape(X_test)[1:])))\n",
    "\n",
    "# subset a validation set\n",
    "n_valid = 10000\n",
    "X_valid = X_train[-n_valid:]\n",
    "Y_valid = Y_train[-n_valid:].flatten()\n",
    "X_train = X_train[:-n_valid]\n",
    "Y_train = Y_train[:-n_valid].flatten()\n",
    "Y_test = Y_test.flatten()\n",
    "\n",
    "print(len(X_train), len(X_valid), len(X_test))\n",
    "\n",
    "X_test_flat = X_test\n",
    "X_train_flat = X_train"
   ]
  },
  {
   "cell_type": "code",
   "execution_count": 14,
   "metadata": {
    "ExecuteTime": {
     "end_time": "2020-07-17T22:47:45.927718Z",
     "start_time": "2020-07-17T22:47:45.886981Z"
    }
   },
   "outputs": [],
   "source": [
    "X_test = X_test.reshape((10000, 32,32,3))"
   ]
  },
  {
   "cell_type": "markdown",
   "metadata": {},
   "source": [
    "### AE "
   ]
  },
  {
   "cell_type": "markdown",
   "metadata": {},
   "source": [
    "##### 2 dims"
   ]
  },
  {
   "cell_type": "code",
   "execution_count": 15,
   "metadata": {
    "ExecuteTime": {
     "end_time": "2020-07-17T22:47:45.962434Z",
     "start_time": "2020-07-17T22:47:45.928948Z"
    }
   },
   "outputs": [],
   "source": [
    "load_loc = output_dir / dataset / 'autoencoder' "
   ]
  },
  {
   "cell_type": "code",
   "execution_count": 16,
   "metadata": {
    "ExecuteTime": {
     "end_time": "2020-07-17T22:47:46.364116Z",
     "start_time": "2020-07-17T22:47:45.963588Z"
    }
   },
   "outputs": [],
   "source": [
    "embedder = tfUMAP(\n",
    "    direct_embedding=False,\n",
    "    verbose=True,\n",
    "    negative_sample_rate=5,\n",
    "    training_epochs=5,\n",
    "    decoding_method = \"autoencoder\",\n",
    "    batch_size = 100,\n",
    "    dims = dims\n",
    ")"
   ]
  },
  {
   "cell_type": "code",
   "execution_count": 17,
   "metadata": {
    "ExecuteTime": {
     "end_time": "2020-07-17T22:47:46.957972Z",
     "start_time": "2020-07-17T22:47:46.365723Z"
    }
   },
   "outputs": [],
   "source": [
    "encoder = tf.keras.models.load_model((load_loc / 'encoder').as_posix())\n",
    "embedder.encoder = encoder"
   ]
  },
  {
   "cell_type": "code",
   "execution_count": 18,
   "metadata": {
    "ExecuteTime": {
     "end_time": "2020-07-17T22:47:47.296001Z",
     "start_time": "2020-07-17T22:47:46.959381Z"
    }
   },
   "outputs": [],
   "source": [
    "decoder = tf.keras.models.load_model((load_loc / 'decoder').as_posix())\n",
    "embedder.decoder = decoder"
   ]
  },
  {
   "cell_type": "code",
   "execution_count": 19,
   "metadata": {
    "ExecuteTime": {
     "end_time": "2020-07-17T22:47:49.818788Z",
     "start_time": "2020-07-17T22:47:47.297721Z"
    },
    "code_folding": []
   },
   "outputs": [],
   "source": [
    "X_recon = decoder(encoder(X_test)).numpy()\n",
    "x_real = X_test.reshape((len(X_test), np.product(np.shape(X_test)[1:])))\n",
    "x_recon = X_recon.reshape((len(X_test), np.product(np.shape(X_test)[1:])))"
   ]
  },
  {
   "cell_type": "code",
   "execution_count": 20,
   "metadata": {
    "ExecuteTime": {
     "end_time": "2020-07-17T22:47:51.214384Z",
     "start_time": "2020-07-17T22:47:49.822591Z"
    }
   },
   "outputs": [],
   "source": [
    "MSE = mean_squared_error(\n",
    "    x_real, \n",
    "    x_recon\n",
    ")\n",
    "MAE = mean_absolute_error(\n",
    "    x_real, \n",
    "    x_recon\n",
    ")\n",
    "MedAE = median_absolute_error(\n",
    "    x_real, \n",
    "    x_recon\n",
    ")\n",
    "R2 = r2_score(\n",
    "    x_real, \n",
    "    x_recon\n",
    ")"
   ]
  },
  {
   "cell_type": "code",
   "execution_count": 21,
   "metadata": {
    "ExecuteTime": {
     "end_time": "2020-07-17T22:47:51.270482Z",
     "start_time": "2020-07-17T22:47:51.216532Z"
    }
   },
   "outputs": [
    {
     "data": {
      "text/html": [
       "<div>\n",
       "<style scoped>\n",
       "    .dataframe tbody tr th:only-of-type {\n",
       "        vertical-align: middle;\n",
       "    }\n",
       "\n",
       "    .dataframe tbody tr th {\n",
       "        vertical-align: top;\n",
       "    }\n",
       "\n",
       "    .dataframe thead th {\n",
       "        text-align: right;\n",
       "    }\n",
       "</style>\n",
       "<table border=\"1\" class=\"dataframe\">\n",
       "  <thead>\n",
       "    <tr style=\"text-align: right;\">\n",
       "      <th></th>\n",
       "      <th>method_</th>\n",
       "      <th>dimensions</th>\n",
       "      <th>dataset</th>\n",
       "      <th>MSE</th>\n",
       "      <th>MAE</th>\n",
       "      <th>MedAE</th>\n",
       "      <th>R2</th>\n",
       "    </tr>\n",
       "  </thead>\n",
       "  <tbody>\n",
       "    <tr>\n",
       "      <th>0</th>\n",
       "      <td>AE</td>\n",
       "      <td>2</td>\n",
       "      <td>cifar10</td>\n",
       "      <td>0.03641</td>\n",
       "      <td>0.14936</td>\n",
       "      <td>0.122907</td>\n",
       "      <td>0.3903</td>\n",
       "    </tr>\n",
       "  </tbody>\n",
       "</table>\n",
       "</div>"
      ],
      "text/plain": [
       "  method_ dimensions  dataset      MSE      MAE     MedAE      R2\n",
       "0      AE          2  cifar10  0.03641  0.14936  0.122907  0.3903"
      ]
     },
     "execution_count": 21,
     "metadata": {},
     "output_type": "execute_result"
    }
   ],
   "source": [
    "reconstruction_acc_df.loc[len(reconstruction_acc_df)] = ['AE', 2, dataset, MSE, MAE, MedAE, R2]\n",
    "reconstruction_acc_df"
   ]
  },
  {
   "cell_type": "markdown",
   "metadata": {},
   "source": [
    "##### 64 dims"
   ]
  },
  {
   "cell_type": "code",
   "execution_count": 22,
   "metadata": {
    "ExecuteTime": {
     "end_time": "2020-07-17T22:47:51.310799Z",
     "start_time": "2020-07-17T22:47:51.271738Z"
    }
   },
   "outputs": [],
   "source": [
    "load_loc = output_dir / dataset / '64' / 'autoencoder' "
   ]
  },
  {
   "cell_type": "code",
   "execution_count": 23,
   "metadata": {
    "ExecuteTime": {
     "end_time": "2020-07-17T22:47:51.347147Z",
     "start_time": "2020-07-17T22:47:51.312093Z"
    }
   },
   "outputs": [],
   "source": [
    "embedder = tfUMAP(\n",
    "    direct_embedding=False,\n",
    "    verbose=True,\n",
    "    negative_sample_rate=5,\n",
    "    training_epochs=5,\n",
    "    decoding_method = \"autoencoder\",\n",
    "    batch_size = 100,\n",
    "    dims = dims\n",
    ")"
   ]
  },
  {
   "cell_type": "code",
   "execution_count": 24,
   "metadata": {
    "ExecuteTime": {
     "end_time": "2020-07-17T22:47:51.558282Z",
     "start_time": "2020-07-17T22:47:51.348363Z"
    }
   },
   "outputs": [],
   "source": [
    "encoder = tf.keras.models.load_model((load_loc / 'encoder').as_posix())\n",
    "embedder.encoder = encoder"
   ]
  },
  {
   "cell_type": "code",
   "execution_count": 25,
   "metadata": {
    "ExecuteTime": {
     "end_time": "2020-07-17T22:47:51.900481Z",
     "start_time": "2020-07-17T22:47:51.560030Z"
    }
   },
   "outputs": [],
   "source": [
    "decoder = tf.keras.models.load_model((load_loc / 'decoder').as_posix())\n",
    "embedder.decoder = decoder"
   ]
  },
  {
   "cell_type": "code",
   "execution_count": 26,
   "metadata": {
    "ExecuteTime": {
     "end_time": "2020-07-17T22:47:52.274379Z",
     "start_time": "2020-07-17T22:47:51.902037Z"
    },
    "code_folding": []
   },
   "outputs": [],
   "source": [
    "X_recon = decoder(encoder(X_test)).numpy()\n",
    "x_real = X_test.reshape((len(X_test), np.product(np.shape(X_test)[1:])))\n",
    "x_recon = X_recon.reshape((len(X_test), np.product(np.shape(X_test)[1:])))"
   ]
  },
  {
   "cell_type": "code",
   "execution_count": 27,
   "metadata": {
    "ExecuteTime": {
     "end_time": "2020-07-17T22:47:53.676520Z",
     "start_time": "2020-07-17T22:47:52.275932Z"
    }
   },
   "outputs": [],
   "source": [
    "MSE = mean_squared_error(\n",
    "    x_real, \n",
    "    x_recon\n",
    ")\n",
    "MAE = mean_absolute_error(\n",
    "    x_real, \n",
    "    x_recon\n",
    ")\n",
    "MedAE = median_absolute_error(\n",
    "    x_real, \n",
    "    x_recon\n",
    ")\n",
    "R2 = r2_score(\n",
    "    x_real, \n",
    "    x_recon\n",
    ")"
   ]
  },
  {
   "cell_type": "code",
   "execution_count": 28,
   "metadata": {
    "ExecuteTime": {
     "end_time": "2020-07-17T22:47:53.731719Z",
     "start_time": "2020-07-17T22:47:53.678345Z"
    }
   },
   "outputs": [
    {
     "data": {
      "text/html": [
       "<div>\n",
       "<style scoped>\n",
       "    .dataframe tbody tr th:only-of-type {\n",
       "        vertical-align: middle;\n",
       "    }\n",
       "\n",
       "    .dataframe tbody tr th {\n",
       "        vertical-align: top;\n",
       "    }\n",
       "\n",
       "    .dataframe thead th {\n",
       "        text-align: right;\n",
       "    }\n",
       "</style>\n",
       "<table border=\"1\" class=\"dataframe\">\n",
       "  <thead>\n",
       "    <tr style=\"text-align: right;\">\n",
       "      <th></th>\n",
       "      <th>method_</th>\n",
       "      <th>dimensions</th>\n",
       "      <th>dataset</th>\n",
       "      <th>MSE</th>\n",
       "      <th>MAE</th>\n",
       "      <th>MedAE</th>\n",
       "      <th>R2</th>\n",
       "    </tr>\n",
       "  </thead>\n",
       "  <tbody>\n",
       "    <tr>\n",
       "      <th>0</th>\n",
       "      <td>AE</td>\n",
       "      <td>2</td>\n",
       "      <td>cifar10</td>\n",
       "      <td>0.036410</td>\n",
       "      <td>0.149360</td>\n",
       "      <td>0.122907</td>\n",
       "      <td>0.390300</td>\n",
       "    </tr>\n",
       "    <tr>\n",
       "      <th>1</th>\n",
       "      <td>AE</td>\n",
       "      <td>64</td>\n",
       "      <td>cifar10</td>\n",
       "      <td>0.009391</td>\n",
       "      <td>0.068816</td>\n",
       "      <td>0.048234</td>\n",
       "      <td>0.843418</td>\n",
       "    </tr>\n",
       "  </tbody>\n",
       "</table>\n",
       "</div>"
      ],
      "text/plain": [
       "  method_ dimensions  dataset       MSE       MAE     MedAE        R2\n",
       "0      AE          2  cifar10  0.036410  0.149360  0.122907  0.390300\n",
       "1      AE         64  cifar10  0.009391  0.068816  0.048234  0.843418"
      ]
     },
     "execution_count": 28,
     "metadata": {},
     "output_type": "execute_result"
    }
   ],
   "source": [
    "reconstruction_acc_df.loc[len(reconstruction_acc_df)] = ['AE', 64, dataset, MSE, MAE, MedAE, R2]\n",
    "reconstruction_acc_df"
   ]
  },
  {
   "cell_type": "markdown",
   "metadata": {},
   "source": [
    "### Network"
   ]
  },
  {
   "cell_type": "markdown",
   "metadata": {},
   "source": [
    "##### 2 dims"
   ]
  },
  {
   "cell_type": "code",
   "execution_count": 29,
   "metadata": {
    "ExecuteTime": {
     "end_time": "2020-07-17T22:47:53.768318Z",
     "start_time": "2020-07-17T22:47:53.733191Z"
    }
   },
   "outputs": [],
   "source": [
    "load_loc = output_dir / dataset / 'recon-network' "
   ]
  },
  {
   "cell_type": "code",
   "execution_count": 30,
   "metadata": {
    "ExecuteTime": {
     "end_time": "2020-07-17T22:47:53.804516Z",
     "start_time": "2020-07-17T22:47:53.769560Z"
    }
   },
   "outputs": [],
   "source": [
    "embedder = tfUMAP(\n",
    "    direct_embedding=False,\n",
    "    verbose=True,\n",
    "    negative_sample_rate=5,\n",
    "    training_epochs=5,\n",
    "    decoding_method = \"network\",\n",
    "    batch_size = 100,\n",
    "    dims = dims\n",
    ")"
   ]
  },
  {
   "cell_type": "code",
   "execution_count": 31,
   "metadata": {
    "ExecuteTime": {
     "end_time": "2020-07-17T22:47:54.188750Z",
     "start_time": "2020-07-17T22:47:53.805727Z"
    }
   },
   "outputs": [],
   "source": [
    "encoder = tf.keras.models.load_model((load_loc / 'encoder').as_posix())\n",
    "embedder.encoder = encoder"
   ]
  },
  {
   "cell_type": "code",
   "execution_count": 32,
   "metadata": {
    "ExecuteTime": {
     "end_time": "2020-07-17T22:47:54.520179Z",
     "start_time": "2020-07-17T22:47:54.190480Z"
    }
   },
   "outputs": [],
   "source": [
    "decoder = tf.keras.models.load_model((load_loc / 'decoder').as_posix())\n",
    "embedder.decoder = decoder"
   ]
  },
  {
   "cell_type": "code",
   "execution_count": 33,
   "metadata": {
    "ExecuteTime": {
     "end_time": "2020-07-17T22:47:55.929880Z",
     "start_time": "2020-07-17T22:47:54.522227Z"
    }
   },
   "outputs": [
    {
     "data": {
      "application/vnd.jupyter.widget-view+json": {
       "model_id": "f331af6b4ac7479193ca7b6b4445f8bb",
       "version_major": 2,
       "version_minor": 0
      },
      "text/plain": [
       "HBox(children=(IntProgress(value=0, max=10), HTML(value='')))"
      ]
     },
     "metadata": {},
     "output_type": "display_data"
    },
    {
     "name": "stdout",
     "output_type": "stream",
     "text": [
      "seconds:  0.11485811113379896\n",
      "seconds:  0.09156258194707334\n",
      "seconds:  0.08690015599131584\n",
      "seconds:  0.003268125932663679\n",
      "seconds:  0.12388642504811287\n",
      "seconds:  0.003580765100196004\n",
      "seconds:  0.11969384318217635\n",
      "seconds:  0.0032865761313587427\n",
      "seconds:  0.1210703831166029\n",
      "seconds:  0.0034980319906026125\n",
      "seconds:  0.12065843096934259\n",
      "seconds:  0.0032458449713885784\n",
      "seconds:  0.11982168722897768\n",
      "seconds:  0.00336117809638381\n",
      "seconds:  0.1206874018535018\n",
      "seconds:  0.003353468142449856\n",
      "seconds:  0.11967774201184511\n",
      "seconds:  0.003355917986482382\n",
      "seconds:  0.12496622698381543\n",
      "seconds:  0.0034395901020616293\n",
      "\n"
     ]
    }
   ],
   "source": [
    "n_repeats = 10\n",
    "for i in tqdm(range(n_repeats)):\n",
    "    start_time = time.monotonic()\n",
    "    z_test = encoder(X_test)\n",
    "    end_time = time.monotonic()\n",
    "    print(\"seconds: \", end_time - start_time)\n",
    "    embed_time = end_time - start_time\n",
    "\n",
    "    start_time = time.monotonic()\n",
    "    x_test_recon = decoder(z_test)\n",
    "    end_time = time.monotonic()\n",
    "    print(\"seconds: \", end_time - start_time)\n",
    "    recon_time = end_time - start_time\n",
    "    reconstruction_speed_df.loc[len(reconstruction_speed_df)] = [\n",
    "        \"network\",\n",
    "        2,\n",
    "        dataset,\n",
    "        embed_time,\n",
    "        recon_time,\n",
    "        embed_time + recon_time,\n",
    "        len(X_test_flat)\n",
    "    ]"
   ]
  },
  {
   "cell_type": "code",
   "execution_count": 34,
   "metadata": {
    "ExecuteTime": {
     "end_time": "2020-07-17T22:48:07.147068Z",
     "start_time": "2020-07-17T22:47:55.931131Z"
    }
   },
   "outputs": [
    {
     "data": {
      "application/vnd.jupyter.widget-view+json": {
       "model_id": "5081546c1ba3462ea4c778a129671e1b",
       "version_major": 2,
       "version_minor": 0
      },
      "text/plain": [
       "HBox(children=(IntProgress(value=0, max=10), HTML(value='')))"
      ]
     },
     "metadata": {},
     "output_type": "display_data"
    },
    {
     "name": "stdout",
     "output_type": "stream",
     "text": [
      "seconds:  0.22668297495692968\n",
      "seconds:  0.928623448126018\n",
      "seconds:  0.15982816508039832\n",
      "seconds:  0.886087556835264\n",
      "seconds:  0.1591781449969858\n",
      "seconds:  0.8952258629724383\n",
      "seconds:  0.16626196214929223\n",
      "seconds:  0.8977729480247945\n",
      "seconds:  0.16659339098259807\n",
      "seconds:  0.8925167541019619\n",
      "seconds:  0.1672428110614419\n",
      "seconds:  0.9846575430128723\n",
      "seconds:  0.1640205371659249\n",
      "seconds:  0.899480827851221\n",
      "seconds:  0.16422246280126274\n",
      "seconds:  1.1240649910178035\n",
      "seconds:  0.18245329381898046\n",
      "seconds:  0.9477057550102472\n",
      "seconds:  0.17511625005863607\n",
      "seconds:  0.910248912172392\n",
      "\n"
     ]
    }
   ],
   "source": [
    "with tf.device('/CPU:0'):\n",
    "    n_repeats = 10\n",
    "    for i in tqdm(range(n_repeats)):\n",
    "        start_time = time.monotonic()\n",
    "        z_test = encoder(X_test)\n",
    "        end_time = time.monotonic()\n",
    "        print(\"seconds: \", end_time - start_time)\n",
    "        embed_time = end_time - start_time\n",
    "\n",
    "        start_time = time.monotonic()\n",
    "        x_test_recon = decoder(z_test)\n",
    "        end_time = time.monotonic()\n",
    "        print(\"seconds: \", end_time - start_time)\n",
    "        recon_time = end_time - start_time\n",
    "        reconstruction_speed_df.loc[len(reconstruction_speed_df)] = [\n",
    "            \"network-cpu\",\n",
    "            2,\n",
    "            dataset,\n",
    "            embed_time,\n",
    "            recon_time,\n",
    "            embed_time + recon_time,\n",
    "        len(X_test_flat)\n",
    "        ]"
   ]
  },
  {
   "cell_type": "code",
   "execution_count": 35,
   "metadata": {
    "ExecuteTime": {
     "end_time": "2020-07-17T22:48:07.521838Z",
     "start_time": "2020-07-17T22:48:07.148218Z"
    },
    "code_folding": []
   },
   "outputs": [],
   "source": [
    "X_recon = decoder(encoder(X_test)).numpy()\n",
    "x_real = X_test.reshape((len(X_test), np.product(np.shape(X_test)[1:])))\n",
    "x_recon = X_recon.reshape((len(X_test), np.product(np.shape(X_test)[1:])))"
   ]
  },
  {
   "cell_type": "code",
   "execution_count": 36,
   "metadata": {
    "ExecuteTime": {
     "end_time": "2020-07-17T22:48:08.922509Z",
     "start_time": "2020-07-17T22:48:07.523273Z"
    }
   },
   "outputs": [],
   "source": [
    "MSE = mean_squared_error(\n",
    "    x_real, \n",
    "    x_recon\n",
    ")\n",
    "MAE = mean_absolute_error(\n",
    "    x_real, \n",
    "    x_recon\n",
    ")\n",
    "MedAE = median_absolute_error(\n",
    "    x_real, \n",
    "    x_recon\n",
    ")\n",
    "R2 = r2_score(\n",
    "    x_real, \n",
    "    x_recon\n",
    ")"
   ]
  },
  {
   "cell_type": "code",
   "execution_count": 37,
   "metadata": {
    "ExecuteTime": {
     "end_time": "2020-07-17T22:48:08.972496Z",
     "start_time": "2020-07-17T22:48:08.924190Z"
    }
   },
   "outputs": [
    {
     "data": {
      "text/html": [
       "<div>\n",
       "<style scoped>\n",
       "    .dataframe tbody tr th:only-of-type {\n",
       "        vertical-align: middle;\n",
       "    }\n",
       "\n",
       "    .dataframe tbody tr th {\n",
       "        vertical-align: top;\n",
       "    }\n",
       "\n",
       "    .dataframe thead th {\n",
       "        text-align: right;\n",
       "    }\n",
       "</style>\n",
       "<table border=\"1\" class=\"dataframe\">\n",
       "  <thead>\n",
       "    <tr style=\"text-align: right;\">\n",
       "      <th></th>\n",
       "      <th>method_</th>\n",
       "      <th>dimensions</th>\n",
       "      <th>dataset</th>\n",
       "      <th>MSE</th>\n",
       "      <th>MAE</th>\n",
       "      <th>MedAE</th>\n",
       "      <th>R2</th>\n",
       "    </tr>\n",
       "  </thead>\n",
       "  <tbody>\n",
       "    <tr>\n",
       "      <th>0</th>\n",
       "      <td>AE</td>\n",
       "      <td>2</td>\n",
       "      <td>cifar10</td>\n",
       "      <td>0.036410</td>\n",
       "      <td>0.149360</td>\n",
       "      <td>0.122907</td>\n",
       "      <td>0.390300</td>\n",
       "    </tr>\n",
       "    <tr>\n",
       "      <th>1</th>\n",
       "      <td>AE</td>\n",
       "      <td>64</td>\n",
       "      <td>cifar10</td>\n",
       "      <td>0.009391</td>\n",
       "      <td>0.068816</td>\n",
       "      <td>0.048234</td>\n",
       "      <td>0.843418</td>\n",
       "    </tr>\n",
       "    <tr>\n",
       "      <th>2</th>\n",
       "      <td>network</td>\n",
       "      <td>2</td>\n",
       "      <td>cifar10</td>\n",
       "      <td>0.036922</td>\n",
       "      <td>0.151219</td>\n",
       "      <td>0.125664</td>\n",
       "      <td>0.381821</td>\n",
       "    </tr>\n",
       "  </tbody>\n",
       "</table>\n",
       "</div>"
      ],
      "text/plain": [
       "   method_ dimensions  dataset       MSE       MAE     MedAE        R2\n",
       "0       AE          2  cifar10  0.036410  0.149360  0.122907  0.390300\n",
       "1       AE         64  cifar10  0.009391  0.068816  0.048234  0.843418\n",
       "2  network          2  cifar10  0.036922  0.151219  0.125664  0.381821"
      ]
     },
     "execution_count": 37,
     "metadata": {},
     "output_type": "execute_result"
    }
   ],
   "source": [
    "reconstruction_acc_df.loc[len(reconstruction_acc_df)] = ['network', 2, dataset, MSE, MAE, MedAE, R2]\n",
    "reconstruction_acc_df"
   ]
  },
  {
   "cell_type": "markdown",
   "metadata": {},
   "source": [
    "##### 64 dims"
   ]
  },
  {
   "cell_type": "code",
   "execution_count": 38,
   "metadata": {
    "ExecuteTime": {
     "end_time": "2020-07-17T22:48:09.009187Z",
     "start_time": "2020-07-17T22:48:08.973823Z"
    }
   },
   "outputs": [],
   "source": [
    "load_loc = output_dir / dataset / '64' / 'recon-network' "
   ]
  },
  {
   "cell_type": "code",
   "execution_count": 39,
   "metadata": {
    "ExecuteTime": {
     "end_time": "2020-07-17T22:48:09.044671Z",
     "start_time": "2020-07-17T22:48:09.010403Z"
    }
   },
   "outputs": [],
   "source": [
    "embedder = tfUMAP(\n",
    "    direct_embedding=False,\n",
    "    verbose=True,\n",
    "    negative_sample_rate=5,\n",
    "    training_epochs=5,\n",
    "    decoding_method = \"autoencoder\",\n",
    "    batch_size = 100,\n",
    "    dims = dims\n",
    ")"
   ]
  },
  {
   "cell_type": "code",
   "execution_count": 40,
   "metadata": {
    "ExecuteTime": {
     "end_time": "2020-07-17T22:48:09.265497Z",
     "start_time": "2020-07-17T22:48:09.045925Z"
    }
   },
   "outputs": [],
   "source": [
    "encoder = tf.keras.models.load_model((load_loc / 'encoder').as_posix())\n",
    "embedder.encoder = encoder"
   ]
  },
  {
   "cell_type": "code",
   "execution_count": 41,
   "metadata": {
    "ExecuteTime": {
     "end_time": "2020-07-17T22:48:09.612045Z",
     "start_time": "2020-07-17T22:48:09.267395Z"
    }
   },
   "outputs": [],
   "source": [
    "decoder = tf.keras.models.load_model((load_loc / 'decoder').as_posix())\n",
    "embedder.decoder = decoder"
   ]
  },
  {
   "cell_type": "code",
   "execution_count": 42,
   "metadata": {
    "ExecuteTime": {
     "end_time": "2020-07-17T22:48:11.011911Z",
     "start_time": "2020-07-17T22:48:09.614447Z"
    }
   },
   "outputs": [
    {
     "data": {
      "application/vnd.jupyter.widget-view+json": {
       "model_id": "38a6627f56af417c8b506244c5562e67",
       "version_major": 2,
       "version_minor": 0
      },
      "text/plain": [
       "HBox(children=(IntProgress(value=0, max=10), HTML(value='')))"
      ]
     },
     "metadata": {},
     "output_type": "display_data"
    },
    {
     "name": "stdout",
     "output_type": "stream",
     "text": [
      "seconds:  0.11657201196067035\n",
      "seconds:  0.09330560197122395\n",
      "seconds:  0.07561178598552942\n",
      "seconds:  0.0032574948854744434\n",
      "seconds:  0.12267446890473366\n",
      "seconds:  0.0035495131742209196\n",
      "seconds:  0.12008333392441273\n",
      "seconds:  0.00329367583617568\n",
      "seconds:  0.12001422210596502\n",
      "seconds:  0.005914292996749282\n",
      "seconds:  0.11670337500981987\n",
      "seconds:  0.0029000239446759224\n",
      "seconds:  0.12145541282370687\n",
      "seconds:  0.002969837049022317\n",
      "seconds:  0.1248045212123543\n",
      "seconds:  0.0028595540206879377\n",
      "seconds:  0.11898522218689322\n",
      "seconds:  0.003568924032151699\n",
      "seconds:  0.1207721249666065\n",
      "seconds:  0.0034503908827900887\n",
      "\n"
     ]
    }
   ],
   "source": [
    "n_repeats = 10\n",
    "for i in tqdm(range(n_repeats)):\n",
    "    start_time = time.monotonic()\n",
    "    z_test = encoder(X_test)\n",
    "    end_time = time.monotonic()\n",
    "    print(\"seconds: \", end_time - start_time)\n",
    "    embed_time = end_time - start_time\n",
    "\n",
    "    start_time = time.monotonic()\n",
    "    x_test_recon = decoder(z_test)\n",
    "    end_time = time.monotonic()\n",
    "    print(\"seconds: \", end_time - start_time)\n",
    "    recon_time = end_time - start_time\n",
    "    reconstruction_speed_df.loc[len(reconstruction_speed_df)] = [\n",
    "        \"network\",\n",
    "        64,\n",
    "        dataset,\n",
    "        embed_time,\n",
    "        recon_time,\n",
    "        embed_time + recon_time,\n",
    "        len(X_test_flat)\n",
    "    ]"
   ]
  },
  {
   "cell_type": "code",
   "execution_count": 43,
   "metadata": {
    "ExecuteTime": {
     "end_time": "2020-07-17T22:48:21.923238Z",
     "start_time": "2020-07-17T22:48:11.013316Z"
    }
   },
   "outputs": [
    {
     "data": {
      "application/vnd.jupyter.widget-view+json": {
       "model_id": "cc21c6f9b3074f1092c998cae182f865",
       "version_major": 2,
       "version_minor": 0
      },
      "text/plain": [
       "HBox(children=(IntProgress(value=0, max=10), HTML(value='')))"
      ]
     },
     "metadata": {},
     "output_type": "display_data"
    },
    {
     "name": "stdout",
     "output_type": "stream",
     "text": [
      "seconds:  0.20894349785521626\n",
      "seconds:  0.9680911200121045\n",
      "seconds:  0.16628512204624712\n",
      "seconds:  0.8796881511807442\n",
      "seconds:  0.15982554387301207\n",
      "seconds:  0.8832851140759885\n",
      "seconds:  0.16065200814045966\n",
      "seconds:  0.9567414498887956\n",
      "seconds:  0.1698929681442678\n",
      "seconds:  0.9116363830398768\n",
      "seconds:  0.16931391088292003\n",
      "seconds:  0.8939382159151137\n",
      "seconds:  0.1601123819127679\n",
      "seconds:  0.909452049061656\n",
      "seconds:  0.16660675196908414\n",
      "seconds:  0.9099991449620575\n",
      "seconds:  0.1702697779983282\n",
      "seconds:  0.8896017700899392\n",
      "seconds:  0.15965068899095058\n",
      "seconds:  0.890405602985993\n",
      "\n"
     ]
    }
   ],
   "source": [
    "with tf.device(\"/CPU:0\"):\n",
    "    n_repeats = 10\n",
    "    for i in tqdm(range(n_repeats)):\n",
    "        start_time = time.monotonic()\n",
    "        z_test = encoder(X_test)\n",
    "        end_time = time.monotonic()\n",
    "        print(\"seconds: \", end_time - start_time)\n",
    "        embed_time = end_time - start_time\n",
    "\n",
    "        start_time = time.monotonic()\n",
    "        x_test_recon = decoder(z_test)\n",
    "        end_time = time.monotonic()\n",
    "        print(\"seconds: \", end_time - start_time)\n",
    "        recon_time = end_time - start_time\n",
    "        reconstruction_speed_df.loc[len(reconstruction_speed_df)] = [\n",
    "            \"network-cpu\",\n",
    "            64,\n",
    "            dataset,\n",
    "            embed_time,\n",
    "            recon_time,\n",
    "            embed_time + recon_time,\n",
    "        len(X_test_flat)\n",
    "        ]"
   ]
  },
  {
   "cell_type": "code",
   "execution_count": 44,
   "metadata": {
    "ExecuteTime": {
     "end_time": "2020-07-17T22:48:21.981661Z",
     "start_time": "2020-07-17T22:48:21.924810Z"
    }
   },
   "outputs": [
    {
     "data": {
      "text/html": [
       "<div>\n",
       "<style scoped>\n",
       "    .dataframe tbody tr th:only-of-type {\n",
       "        vertical-align: middle;\n",
       "    }\n",
       "\n",
       "    .dataframe tbody tr th {\n",
       "        vertical-align: top;\n",
       "    }\n",
       "\n",
       "    .dataframe thead th {\n",
       "        text-align: right;\n",
       "    }\n",
       "</style>\n",
       "<table border=\"1\" class=\"dataframe\">\n",
       "  <thead>\n",
       "    <tr style=\"text-align: right;\">\n",
       "      <th></th>\n",
       "      <th>method_</th>\n",
       "      <th>dimensions</th>\n",
       "      <th>dataset</th>\n",
       "      <th>embed_time</th>\n",
       "      <th>recon_time</th>\n",
       "      <th>speed</th>\n",
       "      <th>nex</th>\n",
       "    </tr>\n",
       "  </thead>\n",
       "  <tbody>\n",
       "    <tr>\n",
       "      <th>0</th>\n",
       "      <td>network</td>\n",
       "      <td>2</td>\n",
       "      <td>cifar10</td>\n",
       "      <td>0.114858</td>\n",
       "      <td>0.091563</td>\n",
       "      <td>0.206421</td>\n",
       "      <td>10000</td>\n",
       "    </tr>\n",
       "    <tr>\n",
       "      <th>1</th>\n",
       "      <td>network</td>\n",
       "      <td>2</td>\n",
       "      <td>cifar10</td>\n",
       "      <td>0.086900</td>\n",
       "      <td>0.003268</td>\n",
       "      <td>0.090168</td>\n",
       "      <td>10000</td>\n",
       "    </tr>\n",
       "    <tr>\n",
       "      <th>2</th>\n",
       "      <td>network</td>\n",
       "      <td>2</td>\n",
       "      <td>cifar10</td>\n",
       "      <td>0.123886</td>\n",
       "      <td>0.003581</td>\n",
       "      <td>0.127467</td>\n",
       "      <td>10000</td>\n",
       "    </tr>\n",
       "    <tr>\n",
       "      <th>3</th>\n",
       "      <td>network</td>\n",
       "      <td>2</td>\n",
       "      <td>cifar10</td>\n",
       "      <td>0.119694</td>\n",
       "      <td>0.003287</td>\n",
       "      <td>0.122980</td>\n",
       "      <td>10000</td>\n",
       "    </tr>\n",
       "    <tr>\n",
       "      <th>4</th>\n",
       "      <td>network</td>\n",
       "      <td>2</td>\n",
       "      <td>cifar10</td>\n",
       "      <td>0.121070</td>\n",
       "      <td>0.003498</td>\n",
       "      <td>0.124568</td>\n",
       "      <td>10000</td>\n",
       "    </tr>\n",
       "    <tr>\n",
       "      <th>5</th>\n",
       "      <td>network</td>\n",
       "      <td>2</td>\n",
       "      <td>cifar10</td>\n",
       "      <td>0.120658</td>\n",
       "      <td>0.003246</td>\n",
       "      <td>0.123904</td>\n",
       "      <td>10000</td>\n",
       "    </tr>\n",
       "    <tr>\n",
       "      <th>6</th>\n",
       "      <td>network</td>\n",
       "      <td>2</td>\n",
       "      <td>cifar10</td>\n",
       "      <td>0.119822</td>\n",
       "      <td>0.003361</td>\n",
       "      <td>0.123183</td>\n",
       "      <td>10000</td>\n",
       "    </tr>\n",
       "    <tr>\n",
       "      <th>7</th>\n",
       "      <td>network</td>\n",
       "      <td>2</td>\n",
       "      <td>cifar10</td>\n",
       "      <td>0.120687</td>\n",
       "      <td>0.003353</td>\n",
       "      <td>0.124041</td>\n",
       "      <td>10000</td>\n",
       "    </tr>\n",
       "    <tr>\n",
       "      <th>8</th>\n",
       "      <td>network</td>\n",
       "      <td>2</td>\n",
       "      <td>cifar10</td>\n",
       "      <td>0.119678</td>\n",
       "      <td>0.003356</td>\n",
       "      <td>0.123034</td>\n",
       "      <td>10000</td>\n",
       "    </tr>\n",
       "    <tr>\n",
       "      <th>9</th>\n",
       "      <td>network</td>\n",
       "      <td>2</td>\n",
       "      <td>cifar10</td>\n",
       "      <td>0.124966</td>\n",
       "      <td>0.003440</td>\n",
       "      <td>0.128406</td>\n",
       "      <td>10000</td>\n",
       "    </tr>\n",
       "    <tr>\n",
       "      <th>10</th>\n",
       "      <td>network-cpu</td>\n",
       "      <td>2</td>\n",
       "      <td>cifar10</td>\n",
       "      <td>0.226683</td>\n",
       "      <td>0.928623</td>\n",
       "      <td>1.155306</td>\n",
       "      <td>10000</td>\n",
       "    </tr>\n",
       "    <tr>\n",
       "      <th>11</th>\n",
       "      <td>network-cpu</td>\n",
       "      <td>2</td>\n",
       "      <td>cifar10</td>\n",
       "      <td>0.159828</td>\n",
       "      <td>0.886088</td>\n",
       "      <td>1.045916</td>\n",
       "      <td>10000</td>\n",
       "    </tr>\n",
       "    <tr>\n",
       "      <th>12</th>\n",
       "      <td>network-cpu</td>\n",
       "      <td>2</td>\n",
       "      <td>cifar10</td>\n",
       "      <td>0.159178</td>\n",
       "      <td>0.895226</td>\n",
       "      <td>1.054404</td>\n",
       "      <td>10000</td>\n",
       "    </tr>\n",
       "    <tr>\n",
       "      <th>13</th>\n",
       "      <td>network-cpu</td>\n",
       "      <td>2</td>\n",
       "      <td>cifar10</td>\n",
       "      <td>0.166262</td>\n",
       "      <td>0.897773</td>\n",
       "      <td>1.064035</td>\n",
       "      <td>10000</td>\n",
       "    </tr>\n",
       "    <tr>\n",
       "      <th>14</th>\n",
       "      <td>network-cpu</td>\n",
       "      <td>2</td>\n",
       "      <td>cifar10</td>\n",
       "      <td>0.166593</td>\n",
       "      <td>0.892517</td>\n",
       "      <td>1.059110</td>\n",
       "      <td>10000</td>\n",
       "    </tr>\n",
       "    <tr>\n",
       "      <th>15</th>\n",
       "      <td>network-cpu</td>\n",
       "      <td>2</td>\n",
       "      <td>cifar10</td>\n",
       "      <td>0.167243</td>\n",
       "      <td>0.984658</td>\n",
       "      <td>1.151900</td>\n",
       "      <td>10000</td>\n",
       "    </tr>\n",
       "    <tr>\n",
       "      <th>16</th>\n",
       "      <td>network-cpu</td>\n",
       "      <td>2</td>\n",
       "      <td>cifar10</td>\n",
       "      <td>0.164021</td>\n",
       "      <td>0.899481</td>\n",
       "      <td>1.063501</td>\n",
       "      <td>10000</td>\n",
       "    </tr>\n",
       "    <tr>\n",
       "      <th>17</th>\n",
       "      <td>network-cpu</td>\n",
       "      <td>2</td>\n",
       "      <td>cifar10</td>\n",
       "      <td>0.164222</td>\n",
       "      <td>1.124065</td>\n",
       "      <td>1.288287</td>\n",
       "      <td>10000</td>\n",
       "    </tr>\n",
       "    <tr>\n",
       "      <th>18</th>\n",
       "      <td>network-cpu</td>\n",
       "      <td>2</td>\n",
       "      <td>cifar10</td>\n",
       "      <td>0.182453</td>\n",
       "      <td>0.947706</td>\n",
       "      <td>1.130159</td>\n",
       "      <td>10000</td>\n",
       "    </tr>\n",
       "    <tr>\n",
       "      <th>19</th>\n",
       "      <td>network-cpu</td>\n",
       "      <td>2</td>\n",
       "      <td>cifar10</td>\n",
       "      <td>0.175116</td>\n",
       "      <td>0.910249</td>\n",
       "      <td>1.085365</td>\n",
       "      <td>10000</td>\n",
       "    </tr>\n",
       "    <tr>\n",
       "      <th>20</th>\n",
       "      <td>network</td>\n",
       "      <td>64</td>\n",
       "      <td>cifar10</td>\n",
       "      <td>0.116572</td>\n",
       "      <td>0.093306</td>\n",
       "      <td>0.209878</td>\n",
       "      <td>10000</td>\n",
       "    </tr>\n",
       "    <tr>\n",
       "      <th>21</th>\n",
       "      <td>network</td>\n",
       "      <td>64</td>\n",
       "      <td>cifar10</td>\n",
       "      <td>0.075612</td>\n",
       "      <td>0.003257</td>\n",
       "      <td>0.078869</td>\n",
       "      <td>10000</td>\n",
       "    </tr>\n",
       "    <tr>\n",
       "      <th>22</th>\n",
       "      <td>network</td>\n",
       "      <td>64</td>\n",
       "      <td>cifar10</td>\n",
       "      <td>0.122674</td>\n",
       "      <td>0.003550</td>\n",
       "      <td>0.126224</td>\n",
       "      <td>10000</td>\n",
       "    </tr>\n",
       "    <tr>\n",
       "      <th>23</th>\n",
       "      <td>network</td>\n",
       "      <td>64</td>\n",
       "      <td>cifar10</td>\n",
       "      <td>0.120083</td>\n",
       "      <td>0.003294</td>\n",
       "      <td>0.123377</td>\n",
       "      <td>10000</td>\n",
       "    </tr>\n",
       "    <tr>\n",
       "      <th>24</th>\n",
       "      <td>network</td>\n",
       "      <td>64</td>\n",
       "      <td>cifar10</td>\n",
       "      <td>0.120014</td>\n",
       "      <td>0.005914</td>\n",
       "      <td>0.125929</td>\n",
       "      <td>10000</td>\n",
       "    </tr>\n",
       "    <tr>\n",
       "      <th>25</th>\n",
       "      <td>network</td>\n",
       "      <td>64</td>\n",
       "      <td>cifar10</td>\n",
       "      <td>0.116703</td>\n",
       "      <td>0.002900</td>\n",
       "      <td>0.119603</td>\n",
       "      <td>10000</td>\n",
       "    </tr>\n",
       "    <tr>\n",
       "      <th>26</th>\n",
       "      <td>network</td>\n",
       "      <td>64</td>\n",
       "      <td>cifar10</td>\n",
       "      <td>0.121455</td>\n",
       "      <td>0.002970</td>\n",
       "      <td>0.124425</td>\n",
       "      <td>10000</td>\n",
       "    </tr>\n",
       "    <tr>\n",
       "      <th>27</th>\n",
       "      <td>network</td>\n",
       "      <td>64</td>\n",
       "      <td>cifar10</td>\n",
       "      <td>0.124805</td>\n",
       "      <td>0.002860</td>\n",
       "      <td>0.127664</td>\n",
       "      <td>10000</td>\n",
       "    </tr>\n",
       "    <tr>\n",
       "      <th>28</th>\n",
       "      <td>network</td>\n",
       "      <td>64</td>\n",
       "      <td>cifar10</td>\n",
       "      <td>0.118985</td>\n",
       "      <td>0.003569</td>\n",
       "      <td>0.122554</td>\n",
       "      <td>10000</td>\n",
       "    </tr>\n",
       "    <tr>\n",
       "      <th>29</th>\n",
       "      <td>network</td>\n",
       "      <td>64</td>\n",
       "      <td>cifar10</td>\n",
       "      <td>0.120772</td>\n",
       "      <td>0.003450</td>\n",
       "      <td>0.124223</td>\n",
       "      <td>10000</td>\n",
       "    </tr>\n",
       "    <tr>\n",
       "      <th>30</th>\n",
       "      <td>network-cpu</td>\n",
       "      <td>64</td>\n",
       "      <td>cifar10</td>\n",
       "      <td>0.208943</td>\n",
       "      <td>0.968091</td>\n",
       "      <td>1.177035</td>\n",
       "      <td>10000</td>\n",
       "    </tr>\n",
       "    <tr>\n",
       "      <th>31</th>\n",
       "      <td>network-cpu</td>\n",
       "      <td>64</td>\n",
       "      <td>cifar10</td>\n",
       "      <td>0.166285</td>\n",
       "      <td>0.879688</td>\n",
       "      <td>1.045973</td>\n",
       "      <td>10000</td>\n",
       "    </tr>\n",
       "    <tr>\n",
       "      <th>32</th>\n",
       "      <td>network-cpu</td>\n",
       "      <td>64</td>\n",
       "      <td>cifar10</td>\n",
       "      <td>0.159826</td>\n",
       "      <td>0.883285</td>\n",
       "      <td>1.043111</td>\n",
       "      <td>10000</td>\n",
       "    </tr>\n",
       "    <tr>\n",
       "      <th>33</th>\n",
       "      <td>network-cpu</td>\n",
       "      <td>64</td>\n",
       "      <td>cifar10</td>\n",
       "      <td>0.160652</td>\n",
       "      <td>0.956741</td>\n",
       "      <td>1.117393</td>\n",
       "      <td>10000</td>\n",
       "    </tr>\n",
       "    <tr>\n",
       "      <th>34</th>\n",
       "      <td>network-cpu</td>\n",
       "      <td>64</td>\n",
       "      <td>cifar10</td>\n",
       "      <td>0.169893</td>\n",
       "      <td>0.911636</td>\n",
       "      <td>1.081529</td>\n",
       "      <td>10000</td>\n",
       "    </tr>\n",
       "    <tr>\n",
       "      <th>35</th>\n",
       "      <td>network-cpu</td>\n",
       "      <td>64</td>\n",
       "      <td>cifar10</td>\n",
       "      <td>0.169314</td>\n",
       "      <td>0.893938</td>\n",
       "      <td>1.063252</td>\n",
       "      <td>10000</td>\n",
       "    </tr>\n",
       "    <tr>\n",
       "      <th>36</th>\n",
       "      <td>network-cpu</td>\n",
       "      <td>64</td>\n",
       "      <td>cifar10</td>\n",
       "      <td>0.160112</td>\n",
       "      <td>0.909452</td>\n",
       "      <td>1.069564</td>\n",
       "      <td>10000</td>\n",
       "    </tr>\n",
       "    <tr>\n",
       "      <th>37</th>\n",
       "      <td>network-cpu</td>\n",
       "      <td>64</td>\n",
       "      <td>cifar10</td>\n",
       "      <td>0.166607</td>\n",
       "      <td>0.909999</td>\n",
       "      <td>1.076606</td>\n",
       "      <td>10000</td>\n",
       "    </tr>\n",
       "    <tr>\n",
       "      <th>38</th>\n",
       "      <td>network-cpu</td>\n",
       "      <td>64</td>\n",
       "      <td>cifar10</td>\n",
       "      <td>0.170270</td>\n",
       "      <td>0.889602</td>\n",
       "      <td>1.059872</td>\n",
       "      <td>10000</td>\n",
       "    </tr>\n",
       "    <tr>\n",
       "      <th>39</th>\n",
       "      <td>network-cpu</td>\n",
       "      <td>64</td>\n",
       "      <td>cifar10</td>\n",
       "      <td>0.159651</td>\n",
       "      <td>0.890406</td>\n",
       "      <td>1.050056</td>\n",
       "      <td>10000</td>\n",
       "    </tr>\n",
       "  </tbody>\n",
       "</table>\n",
       "</div>"
      ],
      "text/plain": [
       "        method_ dimensions  dataset  embed_time  recon_time     speed    nex\n",
       "0       network          2  cifar10    0.114858    0.091563  0.206421  10000\n",
       "1       network          2  cifar10    0.086900    0.003268  0.090168  10000\n",
       "2       network          2  cifar10    0.123886    0.003581  0.127467  10000\n",
       "3       network          2  cifar10    0.119694    0.003287  0.122980  10000\n",
       "4       network          2  cifar10    0.121070    0.003498  0.124568  10000\n",
       "5       network          2  cifar10    0.120658    0.003246  0.123904  10000\n",
       "6       network          2  cifar10    0.119822    0.003361  0.123183  10000\n",
       "7       network          2  cifar10    0.120687    0.003353  0.124041  10000\n",
       "8       network          2  cifar10    0.119678    0.003356  0.123034  10000\n",
       "9       network          2  cifar10    0.124966    0.003440  0.128406  10000\n",
       "10  network-cpu          2  cifar10    0.226683    0.928623  1.155306  10000\n",
       "11  network-cpu          2  cifar10    0.159828    0.886088  1.045916  10000\n",
       "12  network-cpu          2  cifar10    0.159178    0.895226  1.054404  10000\n",
       "13  network-cpu          2  cifar10    0.166262    0.897773  1.064035  10000\n",
       "14  network-cpu          2  cifar10    0.166593    0.892517  1.059110  10000\n",
       "15  network-cpu          2  cifar10    0.167243    0.984658  1.151900  10000\n",
       "16  network-cpu          2  cifar10    0.164021    0.899481  1.063501  10000\n",
       "17  network-cpu          2  cifar10    0.164222    1.124065  1.288287  10000\n",
       "18  network-cpu          2  cifar10    0.182453    0.947706  1.130159  10000\n",
       "19  network-cpu          2  cifar10    0.175116    0.910249  1.085365  10000\n",
       "20      network         64  cifar10    0.116572    0.093306  0.209878  10000\n",
       "21      network         64  cifar10    0.075612    0.003257  0.078869  10000\n",
       "22      network         64  cifar10    0.122674    0.003550  0.126224  10000\n",
       "23      network         64  cifar10    0.120083    0.003294  0.123377  10000\n",
       "24      network         64  cifar10    0.120014    0.005914  0.125929  10000\n",
       "25      network         64  cifar10    0.116703    0.002900  0.119603  10000\n",
       "26      network         64  cifar10    0.121455    0.002970  0.124425  10000\n",
       "27      network         64  cifar10    0.124805    0.002860  0.127664  10000\n",
       "28      network         64  cifar10    0.118985    0.003569  0.122554  10000\n",
       "29      network         64  cifar10    0.120772    0.003450  0.124223  10000\n",
       "30  network-cpu         64  cifar10    0.208943    0.968091  1.177035  10000\n",
       "31  network-cpu         64  cifar10    0.166285    0.879688  1.045973  10000\n",
       "32  network-cpu         64  cifar10    0.159826    0.883285  1.043111  10000\n",
       "33  network-cpu         64  cifar10    0.160652    0.956741  1.117393  10000\n",
       "34  network-cpu         64  cifar10    0.169893    0.911636  1.081529  10000\n",
       "35  network-cpu         64  cifar10    0.169314    0.893938  1.063252  10000\n",
       "36  network-cpu         64  cifar10    0.160112    0.909452  1.069564  10000\n",
       "37  network-cpu         64  cifar10    0.166607    0.909999  1.076606  10000\n",
       "38  network-cpu         64  cifar10    0.170270    0.889602  1.059872  10000\n",
       "39  network-cpu         64  cifar10    0.159651    0.890406  1.050056  10000"
      ]
     },
     "execution_count": 44,
     "metadata": {},
     "output_type": "execute_result"
    }
   ],
   "source": [
    "reconstruction_speed_df"
   ]
  },
  {
   "cell_type": "code",
   "execution_count": 45,
   "metadata": {
    "ExecuteTime": {
     "end_time": "2020-07-17T22:48:22.281694Z",
     "start_time": "2020-07-17T22:48:21.982993Z"
    },
    "code_folding": []
   },
   "outputs": [],
   "source": [
    "X_recon = decoder(encoder(X_test)).numpy()\n",
    "x_real = X_test.reshape((len(X_test), np.product(np.shape(X_test)[1:])))\n",
    "x_recon = X_recon.reshape((len(X_test), np.product(np.shape(X_test)[1:])))"
   ]
  },
  {
   "cell_type": "code",
   "execution_count": 46,
   "metadata": {
    "ExecuteTime": {
     "end_time": "2020-07-17T22:48:23.670886Z",
     "start_time": "2020-07-17T22:48:22.283280Z"
    }
   },
   "outputs": [],
   "source": [
    "MSE = mean_squared_error(\n",
    "    x_real, \n",
    "    x_recon\n",
    ")\n",
    "MAE = mean_absolute_error(\n",
    "    x_real, \n",
    "    x_recon\n",
    ")\n",
    "MedAE = median_absolute_error(\n",
    "    x_real, \n",
    "    x_recon\n",
    ")\n",
    "R2 = r2_score(\n",
    "    x_real, \n",
    "    x_recon\n",
    ")"
   ]
  },
  {
   "cell_type": "code",
   "execution_count": 47,
   "metadata": {
    "ExecuteTime": {
     "end_time": "2020-07-17T22:48:23.722741Z",
     "start_time": "2020-07-17T22:48:23.672495Z"
    }
   },
   "outputs": [
    {
     "data": {
      "text/html": [
       "<div>\n",
       "<style scoped>\n",
       "    .dataframe tbody tr th:only-of-type {\n",
       "        vertical-align: middle;\n",
       "    }\n",
       "\n",
       "    .dataframe tbody tr th {\n",
       "        vertical-align: top;\n",
       "    }\n",
       "\n",
       "    .dataframe thead th {\n",
       "        text-align: right;\n",
       "    }\n",
       "</style>\n",
       "<table border=\"1\" class=\"dataframe\">\n",
       "  <thead>\n",
       "    <tr style=\"text-align: right;\">\n",
       "      <th></th>\n",
       "      <th>method_</th>\n",
       "      <th>dimensions</th>\n",
       "      <th>dataset</th>\n",
       "      <th>MSE</th>\n",
       "      <th>MAE</th>\n",
       "      <th>MedAE</th>\n",
       "      <th>R2</th>\n",
       "    </tr>\n",
       "  </thead>\n",
       "  <tbody>\n",
       "    <tr>\n",
       "      <th>0</th>\n",
       "      <td>AE</td>\n",
       "      <td>2</td>\n",
       "      <td>cifar10</td>\n",
       "      <td>0.036410</td>\n",
       "      <td>0.149360</td>\n",
       "      <td>0.122907</td>\n",
       "      <td>0.390300</td>\n",
       "    </tr>\n",
       "    <tr>\n",
       "      <th>1</th>\n",
       "      <td>AE</td>\n",
       "      <td>64</td>\n",
       "      <td>cifar10</td>\n",
       "      <td>0.009391</td>\n",
       "      <td>0.068816</td>\n",
       "      <td>0.048234</td>\n",
       "      <td>0.843418</td>\n",
       "    </tr>\n",
       "    <tr>\n",
       "      <th>2</th>\n",
       "      <td>network</td>\n",
       "      <td>2</td>\n",
       "      <td>cifar10</td>\n",
       "      <td>0.036922</td>\n",
       "      <td>0.151219</td>\n",
       "      <td>0.125664</td>\n",
       "      <td>0.381821</td>\n",
       "    </tr>\n",
       "    <tr>\n",
       "      <th>3</th>\n",
       "      <td>network</td>\n",
       "      <td>64</td>\n",
       "      <td>cifar10</td>\n",
       "      <td>0.029988</td>\n",
       "      <td>0.132275</td>\n",
       "      <td>0.104090</td>\n",
       "      <td>0.498113</td>\n",
       "    </tr>\n",
       "  </tbody>\n",
       "</table>\n",
       "</div>"
      ],
      "text/plain": [
       "   method_ dimensions  dataset       MSE       MAE     MedAE        R2\n",
       "0       AE          2  cifar10  0.036410  0.149360  0.122907  0.390300\n",
       "1       AE         64  cifar10  0.009391  0.068816  0.048234  0.843418\n",
       "2  network          2  cifar10  0.036922  0.151219  0.125664  0.381821\n",
       "3  network         64  cifar10  0.029988  0.132275  0.104090  0.498113"
      ]
     },
     "execution_count": 47,
     "metadata": {},
     "output_type": "execute_result"
    }
   ],
   "source": [
    "reconstruction_acc_df.loc[len(reconstruction_acc_df)] = ['network', 64, dataset, MSE, MAE, MedAE, R2]\n",
    "reconstruction_acc_df"
   ]
  },
  {
   "cell_type": "markdown",
   "metadata": {},
   "source": [
    "#### UMAP-learn"
   ]
  },
  {
   "cell_type": "markdown",
   "metadata": {},
   "source": [
    "##### 2 dims"
   ]
  },
  {
   "cell_type": "code",
   "execution_count": 48,
   "metadata": {
    "ExecuteTime": {
     "end_time": "2020-07-17T22:49:07.624095Z",
     "start_time": "2020-07-17T22:48:23.723992Z"
    }
   },
   "outputs": [
    {
     "name": "stdout",
     "output_type": "stream",
     "text": [
      "UMAP(dens_frac=0.0, dens_lambda=0.0, verbose=True)\n",
      "Construct fuzzy simplicial set\n",
      "Fri Jul 17 15:48:24 2020 Finding Nearest Neighbors\n",
      "Fri Jul 17 15:48:24 2020 Building RP forest with 15 trees\n",
      "Fri Jul 17 15:48:26 2020 parallel NN descent for 15 iterations\n",
      "\t 0  /  15\n",
      "\t 1  /  15\n",
      "\t 2  /  15\n",
      "\t 3  /  15\n",
      "\t 4  /  15\n",
      "\t 5  /  15\n",
      "Fri Jul 17 15:48:37 2020 Finished Nearest Neighbor Search\n",
      "Fri Jul 17 15:48:40 2020 Construct embedding\n",
      "\tcompleted  0  /  200 epochs\n",
      "\tcompleted  20  /  200 epochs\n",
      "\tcompleted  40  /  200 epochs\n",
      "\tcompleted  60  /  200 epochs\n",
      "\tcompleted  80  /  200 epochs\n",
      "\tcompleted  100  /  200 epochs\n",
      "\tcompleted  120  /  200 epochs\n",
      "\tcompleted  140  /  200 epochs\n",
      "\tcompleted  160  /  200 epochs\n",
      "\tcompleted  180  /  200 epochs\n",
      "Fri Jul 17 15:49:06 2020 Finished embedding\n"
     ]
    }
   ],
   "source": [
    "embedder = UMAP(n_components = 2, verbose=True)\n",
    "z_umap = embedder.fit_transform(X_train_flat)"
   ]
  },
  {
   "cell_type": "code",
   "execution_count": 49,
   "metadata": {
    "ExecuteTime": {
     "end_time": "2020-07-17T23:04:08.898744Z",
     "start_time": "2020-07-17T22:49:07.626028Z"
    }
   },
   "outputs": [
    {
     "data": {
      "application/vnd.jupyter.widget-view+json": {
       "model_id": "a3d756d6d8874643a526cd937a76297e",
       "version_major": 2,
       "version_minor": 0
      },
      "text/plain": [
       "HBox(children=(IntProgress(value=0, max=10), HTML(value='')))"
      ]
     },
     "metadata": {},
     "output_type": "display_data"
    },
    {
     "name": "stdout",
     "output_type": "stream",
     "text": [
      "\tcompleted  0  /  100 epochs\n",
      "\tcompleted  10  /  100 epochs\n",
      "\tcompleted  20  /  100 epochs\n",
      "\tcompleted  30  /  100 epochs\n",
      "\tcompleted  40  /  100 epochs\n",
      "\tcompleted  50  /  100 epochs\n",
      "\tcompleted  60  /  100 epochs\n",
      "\tcompleted  70  /  100 epochs\n",
      "\tcompleted  80  /  100 epochs\n",
      "\tcompleted  90  /  100 epochs\n",
      "seconds:  23.39345172396861\n",
      "\tcompleted  0  /  100 epochs\n",
      "\tcompleted  10  /  100 epochs\n",
      "\tcompleted  20  /  100 epochs\n",
      "\tcompleted  30  /  100 epochs\n",
      "\tcompleted  40  /  100 epochs\n",
      "\tcompleted  50  /  100 epochs\n",
      "\tcompleted  60  /  100 epochs\n",
      "\tcompleted  70  /  100 epochs\n",
      "\tcompleted  80  /  100 epochs\n",
      "\tcompleted  90  /  100 epochs\n",
      "seconds:  78.7236777881626\n",
      "\tcompleted  0  /  100 epochs\n",
      "\tcompleted  10  /  100 epochs\n",
      "\tcompleted  20  /  100 epochs\n",
      "\tcompleted  30  /  100 epochs\n",
      "\tcompleted  40  /  100 epochs\n",
      "\tcompleted  50  /  100 epochs\n",
      "\tcompleted  60  /  100 epochs\n",
      "\tcompleted  70  /  100 epochs\n",
      "\tcompleted  80  /  100 epochs\n",
      "\tcompleted  90  /  100 epochs\n",
      "seconds:  10.731074622832239\n",
      "\tcompleted  0  /  100 epochs\n",
      "\tcompleted  10  /  100 epochs\n",
      "\tcompleted  20  /  100 epochs\n",
      "\tcompleted  30  /  100 epochs\n",
      "\tcompleted  40  /  100 epochs\n",
      "\tcompleted  50  /  100 epochs\n",
      "\tcompleted  60  /  100 epochs\n",
      "\tcompleted  70  /  100 epochs\n",
      "\tcompleted  80  /  100 epochs\n",
      "\tcompleted  90  /  100 epochs\n",
      "seconds:  75.91601578402333\n",
      "\tcompleted  0  /  100 epochs\n",
      "\tcompleted  10  /  100 epochs\n",
      "\tcompleted  20  /  100 epochs\n",
      "\tcompleted  30  /  100 epochs\n",
      "\tcompleted  40  /  100 epochs\n",
      "\tcompleted  50  /  100 epochs\n",
      "\tcompleted  60  /  100 epochs\n",
      "\tcompleted  70  /  100 epochs\n",
      "\tcompleted  80  /  100 epochs\n",
      "\tcompleted  90  /  100 epochs\n",
      "seconds:  10.887987703084946\n",
      "\tcompleted  0  /  100 epochs\n",
      "\tcompleted  10  /  100 epochs\n",
      "\tcompleted  20  /  100 epochs\n",
      "\tcompleted  30  /  100 epochs\n",
      "\tcompleted  40  /  100 epochs\n",
      "\tcompleted  50  /  100 epochs\n",
      "\tcompleted  60  /  100 epochs\n",
      "\tcompleted  70  /  100 epochs\n",
      "\tcompleted  80  /  100 epochs\n",
      "\tcompleted  90  /  100 epochs\n",
      "seconds:  76.2057257250417\n",
      "\tcompleted  0  /  100 epochs\n",
      "\tcompleted  10  /  100 epochs\n",
      "\tcompleted  20  /  100 epochs\n",
      "\tcompleted  30  /  100 epochs\n",
      "\tcompleted  40  /  100 epochs\n",
      "\tcompleted  50  /  100 epochs\n",
      "\tcompleted  60  /  100 epochs\n",
      "\tcompleted  70  /  100 epochs\n",
      "\tcompleted  80  /  100 epochs\n",
      "\tcompleted  90  /  100 epochs\n",
      "seconds:  10.788330544019118\n",
      "\tcompleted  0  /  100 epochs\n",
      "\tcompleted  10  /  100 epochs\n",
      "\tcompleted  20  /  100 epochs\n",
      "\tcompleted  30  /  100 epochs\n",
      "\tcompleted  40  /  100 epochs\n",
      "\tcompleted  50  /  100 epochs\n",
      "\tcompleted  60  /  100 epochs\n",
      "\tcompleted  70  /  100 epochs\n",
      "\tcompleted  80  /  100 epochs\n",
      "\tcompleted  90  /  100 epochs\n",
      "seconds:  77.06061813794076\n",
      "\tcompleted  0  /  100 epochs\n",
      "\tcompleted  10  /  100 epochs\n",
      "\tcompleted  20  /  100 epochs\n",
      "\tcompleted  30  /  100 epochs\n",
      "\tcompleted  40  /  100 epochs\n",
      "\tcompleted  50  /  100 epochs\n",
      "\tcompleted  60  /  100 epochs\n",
      "\tcompleted  70  /  100 epochs\n",
      "\tcompleted  80  /  100 epochs\n",
      "\tcompleted  90  /  100 epochs\n",
      "seconds:  10.408397448947653\n",
      "\tcompleted  0  /  100 epochs\n",
      "\tcompleted  10  /  100 epochs\n",
      "\tcompleted  20  /  100 epochs\n",
      "\tcompleted  30  /  100 epochs\n",
      "\tcompleted  40  /  100 epochs\n",
      "\tcompleted  50  /  100 epochs\n",
      "\tcompleted  60  /  100 epochs\n",
      "\tcompleted  70  /  100 epochs\n",
      "\tcompleted  80  /  100 epochs\n",
      "\tcompleted  90  /  100 epochs\n",
      "seconds:  78.01565925683826\n",
      "\tcompleted  0  /  100 epochs\n",
      "\tcompleted  10  /  100 epochs\n",
      "\tcompleted  20  /  100 epochs\n",
      "\tcompleted  30  /  100 epochs\n",
      "\tcompleted  40  /  100 epochs\n",
      "\tcompleted  50  /  100 epochs\n",
      "\tcompleted  60  /  100 epochs\n",
      "\tcompleted  70  /  100 epochs\n",
      "\tcompleted  80  /  100 epochs\n",
      "\tcompleted  90  /  100 epochs\n",
      "seconds:  10.399677659850568\n",
      "\tcompleted  0  /  100 epochs\n",
      "\tcompleted  10  /  100 epochs\n",
      "\tcompleted  20  /  100 epochs\n",
      "\tcompleted  30  /  100 epochs\n",
      "\tcompleted  40  /  100 epochs\n",
      "\tcompleted  50  /  100 epochs\n",
      "\tcompleted  60  /  100 epochs\n",
      "\tcompleted  70  /  100 epochs\n",
      "\tcompleted  80  /  100 epochs\n",
      "\tcompleted  90  /  100 epochs\n",
      "seconds:  76.77502842992544\n",
      "\tcompleted  0  /  100 epochs\n",
      "\tcompleted  10  /  100 epochs\n",
      "\tcompleted  20  /  100 epochs\n",
      "\tcompleted  30  /  100 epochs\n",
      "\tcompleted  40  /  100 epochs\n",
      "\tcompleted  50  /  100 epochs\n",
      "\tcompleted  60  /  100 epochs\n",
      "\tcompleted  70  /  100 epochs\n",
      "\tcompleted  80  /  100 epochs\n",
      "\tcompleted  90  /  100 epochs\n",
      "seconds:  10.463617365108803\n",
      "\tcompleted  0  /  100 epochs\n",
      "\tcompleted  10  /  100 epochs\n",
      "\tcompleted  20  /  100 epochs\n",
      "\tcompleted  30  /  100 epochs\n",
      "\tcompleted  40  /  100 epochs\n",
      "\tcompleted  50  /  100 epochs\n",
      "\tcompleted  60  /  100 epochs\n",
      "\tcompleted  70  /  100 epochs\n",
      "\tcompleted  80  /  100 epochs\n",
      "\tcompleted  90  /  100 epochs\n",
      "seconds:  81.18788924999535\n",
      "\tcompleted  0  /  100 epochs\n",
      "\tcompleted  10  /  100 epochs\n",
      "\tcompleted  20  /  100 epochs\n",
      "\tcompleted  30  /  100 epochs\n",
      "\tcompleted  40  /  100 epochs\n",
      "\tcompleted  50  /  100 epochs\n",
      "\tcompleted  60  /  100 epochs\n",
      "\tcompleted  70  /  100 epochs\n",
      "\tcompleted  80  /  100 epochs\n",
      "\tcompleted  90  /  100 epochs\n",
      "seconds:  10.473790964111686\n",
      "\tcompleted  0  /  100 epochs\n",
      "\tcompleted  10  /  100 epochs\n",
      "\tcompleted  20  /  100 epochs\n",
      "\tcompleted  30  /  100 epochs\n",
      "\tcompleted  40  /  100 epochs\n",
      "\tcompleted  50  /  100 epochs\n",
      "\tcompleted  60  /  100 epochs\n",
      "\tcompleted  70  /  100 epochs\n",
      "\tcompleted  80  /  100 epochs\n",
      "\tcompleted  90  /  100 epochs\n",
      "seconds:  79.90291009400971\n",
      "\tcompleted  0  /  100 epochs\n",
      "\tcompleted  10  /  100 epochs\n",
      "\tcompleted  20  /  100 epochs\n",
      "\tcompleted  30  /  100 epochs\n",
      "\tcompleted  40  /  100 epochs\n",
      "\tcompleted  50  /  100 epochs\n",
      "\tcompleted  60  /  100 epochs\n",
      "\tcompleted  70  /  100 epochs\n",
      "\tcompleted  80  /  100 epochs\n",
      "\tcompleted  90  /  100 epochs\n",
      "seconds:  11.920664437115192\n",
      "\tcompleted  0  /  100 epochs\n",
      "\tcompleted  10  /  100 epochs\n",
      "\tcompleted  20  /  100 epochs\n",
      "\tcompleted  30  /  100 epochs\n",
      "\tcompleted  40  /  100 epochs\n",
      "\tcompleted  50  /  100 epochs\n",
      "\tcompleted  60  /  100 epochs\n",
      "\tcompleted  70  /  100 epochs\n",
      "\tcompleted  80  /  100 epochs\n",
      "\tcompleted  90  /  100 epochs\n",
      "seconds:  77.53924739197828\n",
      "\tcompleted  0  /  100 epochs\n",
      "\tcompleted  10  /  100 epochs\n",
      "\tcompleted  20  /  100 epochs\n",
      "\tcompleted  30  /  100 epochs\n",
      "\tcompleted  40  /  100 epochs\n",
      "\tcompleted  50  /  100 epochs\n",
      "\tcompleted  60  /  100 epochs\n",
      "\tcompleted  70  /  100 epochs\n",
      "\tcompleted  80  /  100 epochs\n",
      "\tcompleted  90  /  100 epochs\n",
      "seconds:  10.598556890850887\n",
      "\tcompleted  0  /  100 epochs\n",
      "\tcompleted  10  /  100 epochs\n",
      "\tcompleted  20  /  100 epochs\n",
      "\tcompleted  30  /  100 epochs\n",
      "\tcompleted  40  /  100 epochs\n",
      "\tcompleted  50  /  100 epochs\n",
      "\tcompleted  60  /  100 epochs\n",
      "\tcompleted  70  /  100 epochs\n",
      "\tcompleted  80  /  100 epochs\n",
      "\tcompleted  90  /  100 epochs\n",
      "seconds:  79.2107685180381\n",
      "\n"
     ]
    }
   ],
   "source": [
    "x_test_samples= []\n",
    "x_test_recon_samples= []\n",
    "n_repeats = 10\n",
    "for i in tqdm(range(n_repeats)):\n",
    "    start_time = time.monotonic()\n",
    "    z_test = embedder.transform(X_test_flat);\n",
    "    end_time = time.monotonic()\n",
    "    print('seconds: ', end_time - start_time)\n",
    "    embed_time = end_time - start_time\n",
    "\n",
    "    nex = 10 # it would take far too long to reconstruct the entire dataset\n",
    "    samp_idx = np.random.randint(len(z_test),  size= nex)\n",
    "    sample = np.array(z_test)[samp_idx]\n",
    "    x_test_samples.append(samp_idx)\n",
    "    start_time = time.monotonic()\n",
    "    x_test_recon = embedder.inverse_transform(sample);\n",
    "    end_time = time.monotonic()\n",
    "    print('seconds: ', end_time - start_time)\n",
    "    recon_time = (end_time - start_time)*len(z_test)/nex\n",
    "\n",
    "    reconstruction_speed_df.loc[len(reconstruction_speed_df)] = [\n",
    "        \"umap-learn\",\n",
    "        2,\n",
    "        dataset,\n",
    "        embed_time,\n",
    "        recon_time,\n",
    "        embed_time + recon_time,\n",
    "        len(X_test_flat)\n",
    "    ]\n",
    "    x_test_recon_samples.append(x_test_recon)"
   ]
  },
  {
   "cell_type": "code",
   "execution_count": 50,
   "metadata": {
    "ExecuteTime": {
     "end_time": "2020-07-17T23:04:09.604030Z",
     "start_time": "2020-07-17T23:04:08.900474Z"
    }
   },
   "outputs": [],
   "source": [
    "x_recon = np.concatenate(x_test_recon_samples)"
   ]
  },
  {
   "cell_type": "code",
   "execution_count": 51,
   "metadata": {
    "ExecuteTime": {
     "end_time": "2020-07-17T23:04:09.669330Z",
     "start_time": "2020-07-17T23:04:09.606337Z"
    }
   },
   "outputs": [],
   "source": [
    "x_real = np.array(X_test_flat)[np.concatenate(x_test_samples)]"
   ]
  },
  {
   "cell_type": "code",
   "execution_count": 52,
   "metadata": {
    "ExecuteTime": {
     "end_time": "2020-07-17T23:04:09.738822Z",
     "start_time": "2020-07-17T23:04:09.670916Z"
    }
   },
   "outputs": [
    {
     "data": {
      "text/html": [
       "<div>\n",
       "<style scoped>\n",
       "    .dataframe tbody tr th:only-of-type {\n",
       "        vertical-align: middle;\n",
       "    }\n",
       "\n",
       "    .dataframe tbody tr th {\n",
       "        vertical-align: top;\n",
       "    }\n",
       "\n",
       "    .dataframe thead th {\n",
       "        text-align: right;\n",
       "    }\n",
       "</style>\n",
       "<table border=\"1\" class=\"dataframe\">\n",
       "  <thead>\n",
       "    <tr style=\"text-align: right;\">\n",
       "      <th></th>\n",
       "      <th>method_</th>\n",
       "      <th>dimensions</th>\n",
       "      <th>dataset</th>\n",
       "      <th>MSE</th>\n",
       "      <th>MAE</th>\n",
       "      <th>MedAE</th>\n",
       "      <th>R2</th>\n",
       "    </tr>\n",
       "  </thead>\n",
       "  <tbody>\n",
       "    <tr>\n",
       "      <th>0</th>\n",
       "      <td>AE</td>\n",
       "      <td>2</td>\n",
       "      <td>cifar10</td>\n",
       "      <td>0.036410</td>\n",
       "      <td>0.149360</td>\n",
       "      <td>0.122907</td>\n",
       "      <td>0.390300</td>\n",
       "    </tr>\n",
       "    <tr>\n",
       "      <th>1</th>\n",
       "      <td>AE</td>\n",
       "      <td>64</td>\n",
       "      <td>cifar10</td>\n",
       "      <td>0.009391</td>\n",
       "      <td>0.068816</td>\n",
       "      <td>0.048234</td>\n",
       "      <td>0.843418</td>\n",
       "    </tr>\n",
       "    <tr>\n",
       "      <th>2</th>\n",
       "      <td>network</td>\n",
       "      <td>2</td>\n",
       "      <td>cifar10</td>\n",
       "      <td>0.036922</td>\n",
       "      <td>0.151219</td>\n",
       "      <td>0.125664</td>\n",
       "      <td>0.381821</td>\n",
       "    </tr>\n",
       "    <tr>\n",
       "      <th>3</th>\n",
       "      <td>network</td>\n",
       "      <td>64</td>\n",
       "      <td>cifar10</td>\n",
       "      <td>0.029988</td>\n",
       "      <td>0.132275</td>\n",
       "      <td>0.104090</td>\n",
       "      <td>0.498113</td>\n",
       "    </tr>\n",
       "    <tr>\n",
       "      <th>4</th>\n",
       "      <td>umap-learn</td>\n",
       "      <td>2</td>\n",
       "      <td>cifar10</td>\n",
       "      <td>0.047413</td>\n",
       "      <td>0.174495</td>\n",
       "      <td>0.149409</td>\n",
       "      <td>0.254802</td>\n",
       "    </tr>\n",
       "  </tbody>\n",
       "</table>\n",
       "</div>"
      ],
      "text/plain": [
       "      method_ dimensions  dataset       MSE       MAE     MedAE        R2\n",
       "0          AE          2  cifar10  0.036410  0.149360  0.122907  0.390300\n",
       "1          AE         64  cifar10  0.009391  0.068816  0.048234  0.843418\n",
       "2     network          2  cifar10  0.036922  0.151219  0.125664  0.381821\n",
       "3     network         64  cifar10  0.029988  0.132275  0.104090  0.498113\n",
       "4  umap-learn          2  cifar10  0.047413  0.174495  0.149409  0.254802"
      ]
     },
     "execution_count": 52,
     "metadata": {},
     "output_type": "execute_result"
    }
   ],
   "source": [
    "\n",
    "MSE = mean_squared_error(\n",
    "    x_real, \n",
    "    x_recon\n",
    ")\n",
    "MAE = mean_absolute_error(\n",
    "    x_real, \n",
    "    x_recon\n",
    ")\n",
    "MedAE = median_absolute_error(\n",
    "    x_real, \n",
    "    x_recon\n",
    ")\n",
    "R2 = r2_score(\n",
    "    x_real, \n",
    "    x_recon\n",
    ")\n",
    "\n",
    "reconstruction_acc_df.loc[len(reconstruction_acc_df)] = ['umap-learn', 2, dataset, MSE, MAE, MedAE, R2]\n",
    "reconstruction_acc_df"
   ]
  },
  {
   "cell_type": "markdown",
   "metadata": {
    "ExecuteTime": {
     "end_time": "2020-07-17T18:45:10.741411Z",
     "start_time": "2020-07-17T18:44:51.265Z"
    }
   },
   "source": [
    "##### PCA"
   ]
  },
  {
   "cell_type": "markdown",
   "metadata": {},
   "source": [
    "##### 2 dims\n"
   ]
  },
  {
   "cell_type": "code",
   "execution_count": 53,
   "metadata": {
    "ExecuteTime": {
     "end_time": "2020-07-17T23:04:11.041794Z",
     "start_time": "2020-07-17T23:04:09.740263Z"
    }
   },
   "outputs": [],
   "source": [
    "pca = PCA(n_components=2)\n",
    "z = pca.fit_transform(X_train_flat)"
   ]
  },
  {
   "cell_type": "code",
   "execution_count": 54,
   "metadata": {
    "ExecuteTime": {
     "end_time": "2020-07-17T23:04:12.250769Z",
     "start_time": "2020-07-17T23:04:11.043300Z"
    }
   },
   "outputs": [
    {
     "data": {
      "application/vnd.jupyter.widget-view+json": {
       "model_id": "987d52b37d084e08b76596fd0370fae3",
       "version_major": 2,
       "version_minor": 0
      },
      "text/plain": [
       "HBox(children=(IntProgress(value=0, max=10), HTML(value='')))"
      ]
     },
     "metadata": {},
     "output_type": "display_data"
    },
    {
     "name": "stdout",
     "output_type": "stream",
     "text": [
      "seconds:  0.06524737412109971\n",
      "seconds:  0.061934988014400005\n",
      "seconds:  0.04584545409306884\n",
      "seconds:  0.0626235178206116\n",
      "seconds:  0.045959727140143514\n",
      "seconds:  0.06004590401425958\n",
      "seconds:  0.04591950587928295\n",
      "seconds:  0.0617062218952924\n",
      "seconds:  0.045964577002450824\n",
      "seconds:  0.06206604209728539\n",
      "seconds:  0.04595038597472012\n",
      "seconds:  0.059127748012542725\n",
      "seconds:  0.04589886497706175\n",
      "seconds:  0.061126384884119034\n",
      "seconds:  0.04601204791106284\n",
      "seconds:  0.06070400308817625\n",
      "seconds:  0.04586034291423857\n",
      "seconds:  0.061398983001708984\n",
      "seconds:  0.045916936127468944\n",
      "seconds:  0.06117443693801761\n",
      "\n"
     ]
    }
   ],
   "source": [
    "n_repeats = 10\n",
    "for i in tqdm(range(n_repeats)):\n",
    "    start_time = time.monotonic()\n",
    "    z_test = pca.transform(X_test_flat);\n",
    "    end_time = time.monotonic()\n",
    "    print('seconds: ', end_time - start_time)\n",
    "    embed_time = end_time - start_time\n",
    "\n",
    "    start_time = time.monotonic()\n",
    "    x_test_recon = pca.inverse_transform(z_test);\n",
    "    end_time = time.monotonic()\n",
    "    print('seconds: ', end_time - start_time)\n",
    "    recon_time = (end_time - start_time)\n",
    "\n",
    "    reconstruction_speed_df.loc[len(reconstruction_speed_df)] = [\n",
    "        \"pca\",\n",
    "        2,\n",
    "        dataset,\n",
    "        embed_time,\n",
    "        recon_time,\n",
    "        embed_time + recon_time,\n",
    "        len(X_test_flat)\n",
    "    ]"
   ]
  },
  {
   "cell_type": "code",
   "execution_count": 55,
   "metadata": {
    "ExecuteTime": {
     "end_time": "2020-07-17T23:04:13.775263Z",
     "start_time": "2020-07-17T23:04:12.252029Z"
    }
   },
   "outputs": [
    {
     "data": {
      "text/html": [
       "<div>\n",
       "<style scoped>\n",
       "    .dataframe tbody tr th:only-of-type {\n",
       "        vertical-align: middle;\n",
       "    }\n",
       "\n",
       "    .dataframe tbody tr th {\n",
       "        vertical-align: top;\n",
       "    }\n",
       "\n",
       "    .dataframe thead th {\n",
       "        text-align: right;\n",
       "    }\n",
       "</style>\n",
       "<table border=\"1\" class=\"dataframe\">\n",
       "  <thead>\n",
       "    <tr style=\"text-align: right;\">\n",
       "      <th></th>\n",
       "      <th>method_</th>\n",
       "      <th>dimensions</th>\n",
       "      <th>dataset</th>\n",
       "      <th>MSE</th>\n",
       "      <th>MAE</th>\n",
       "      <th>MedAE</th>\n",
       "      <th>R2</th>\n",
       "    </tr>\n",
       "  </thead>\n",
       "  <tbody>\n",
       "    <tr>\n",
       "      <th>0</th>\n",
       "      <td>AE</td>\n",
       "      <td>2</td>\n",
       "      <td>cifar10</td>\n",
       "      <td>0.036410</td>\n",
       "      <td>0.149360</td>\n",
       "      <td>0.122907</td>\n",
       "      <td>0.390300</td>\n",
       "    </tr>\n",
       "    <tr>\n",
       "      <th>1</th>\n",
       "      <td>AE</td>\n",
       "      <td>64</td>\n",
       "      <td>cifar10</td>\n",
       "      <td>0.009391</td>\n",
       "      <td>0.068816</td>\n",
       "      <td>0.048234</td>\n",
       "      <td>0.843418</td>\n",
       "    </tr>\n",
       "    <tr>\n",
       "      <th>2</th>\n",
       "      <td>network</td>\n",
       "      <td>2</td>\n",
       "      <td>cifar10</td>\n",
       "      <td>0.036922</td>\n",
       "      <td>0.151219</td>\n",
       "      <td>0.125664</td>\n",
       "      <td>0.381821</td>\n",
       "    </tr>\n",
       "    <tr>\n",
       "      <th>3</th>\n",
       "      <td>network</td>\n",
       "      <td>64</td>\n",
       "      <td>cifar10</td>\n",
       "      <td>0.029988</td>\n",
       "      <td>0.132275</td>\n",
       "      <td>0.104090</td>\n",
       "      <td>0.498113</td>\n",
       "    </tr>\n",
       "    <tr>\n",
       "      <th>4</th>\n",
       "      <td>umap-learn</td>\n",
       "      <td>2</td>\n",
       "      <td>cifar10</td>\n",
       "      <td>0.047413</td>\n",
       "      <td>0.174495</td>\n",
       "      <td>0.149409</td>\n",
       "      <td>0.254802</td>\n",
       "    </tr>\n",
       "    <tr>\n",
       "      <th>5</th>\n",
       "      <td>pca</td>\n",
       "      <td>2</td>\n",
       "      <td>cifar10</td>\n",
       "      <td>0.037042</td>\n",
       "      <td>0.151388</td>\n",
       "      <td>0.126452</td>\n",
       "      <td>0.379544</td>\n",
       "    </tr>\n",
       "  </tbody>\n",
       "</table>\n",
       "</div>"
      ],
      "text/plain": [
       "      method_ dimensions  dataset       MSE       MAE     MedAE        R2\n",
       "0          AE          2  cifar10  0.036410  0.149360  0.122907  0.390300\n",
       "1          AE         64  cifar10  0.009391  0.068816  0.048234  0.843418\n",
       "2     network          2  cifar10  0.036922  0.151219  0.125664  0.381821\n",
       "3     network         64  cifar10  0.029988  0.132275  0.104090  0.498113\n",
       "4  umap-learn          2  cifar10  0.047413  0.174495  0.149409  0.254802\n",
       "5         pca          2  cifar10  0.037042  0.151388  0.126452  0.379544"
      ]
     },
     "execution_count": 55,
     "metadata": {},
     "output_type": "execute_result"
    }
   ],
   "source": [
    "X_recon = pca.inverse_transform(pca.transform(X_test_flat))\n",
    "x_real = X_test.reshape((len(X_test), np.product(np.shape(X_test)[1:])))\n",
    "x_recon = X_recon.reshape((len(X_test), np.product(np.shape(X_test)[1:])))\n",
    "\n",
    "MSE = mean_squared_error(\n",
    "    x_real, \n",
    "    x_recon\n",
    ")\n",
    "MAE = mean_absolute_error(\n",
    "    x_real, \n",
    "    x_recon\n",
    ")\n",
    "MedAE = median_absolute_error(\n",
    "    x_real, \n",
    "    x_recon\n",
    ")\n",
    "R2 = r2_score(\n",
    "    x_real, \n",
    "    x_recon\n",
    ")\n",
    "\n",
    "reconstruction_acc_df.loc[len(reconstruction_acc_df)] = ['pca', 2, dataset, MSE, MAE, MedAE, R2]\n",
    "reconstruction_acc_df"
   ]
  },
  {
   "cell_type": "markdown",
   "metadata": {},
   "source": [
    "##### 64 dims"
   ]
  },
  {
   "cell_type": "code",
   "execution_count": 56,
   "metadata": {
    "ExecuteTime": {
     "end_time": "2020-07-17T23:04:16.665353Z",
     "start_time": "2020-07-17T23:04:13.777456Z"
    }
   },
   "outputs": [],
   "source": [
    "pca = PCA(n_components=64)\n",
    "z = pca.fit_transform(X_train_flat)"
   ]
  },
  {
   "cell_type": "code",
   "execution_count": 57,
   "metadata": {
    "ExecuteTime": {
     "end_time": "2020-07-17T23:04:18.204391Z",
     "start_time": "2020-07-17T23:04:16.666888Z"
    }
   },
   "outputs": [
    {
     "data": {
      "application/vnd.jupyter.widget-view+json": {
       "model_id": "87ba58a847d4431f8b6c3bc69123a3ae",
       "version_major": 2,
       "version_minor": 0
      },
      "text/plain": [
       "HBox(children=(IntProgress(value=0, max=10), HTML(value='')))"
      ]
     },
     "metadata": {},
     "output_type": "display_data"
    },
    {
     "name": "stdout",
     "output_type": "stream",
     "text": [
      "seconds:  0.08457015198655427\n",
      "seconds:  0.07463448494672775\n",
      "seconds:  0.06355920480564237\n",
      "seconds:  0.07206980115734041\n",
      "seconds:  0.06367199798114598\n",
      "seconds:  0.0750897778198123\n",
      "seconds:  0.0641158721409738\n",
      "seconds:  0.07459666416980326\n",
      "seconds:  0.06427785591222346\n",
      "seconds:  0.07422176306135952\n",
      "seconds:  0.06382953305728734\n",
      "seconds:  0.07524773199111223\n",
      "seconds:  0.0634234210010618\n",
      "seconds:  0.07289729500189424\n",
      "seconds:  0.06402558879926801\n",
      "seconds:  0.07427029497921467\n",
      "seconds:  0.06378019182011485\n",
      "seconds:  0.08525394299067557\n",
      "seconds:  0.06958561902865767\n",
      "seconds:  0.07472653803415596\n",
      "\n"
     ]
    }
   ],
   "source": [
    "n_repeats = 10\n",
    "for i in tqdm(range(n_repeats)):\n",
    "    start_time = time.monotonic()\n",
    "    z_test = pca.transform(X_test_flat);\n",
    "    end_time = time.monotonic()\n",
    "    print('seconds: ', end_time - start_time)\n",
    "    embed_time = end_time - start_time\n",
    "\n",
    "    start_time = time.monotonic()\n",
    "    x_test_recon = pca.inverse_transform(z_test);\n",
    "    end_time = time.monotonic()\n",
    "    print('seconds: ', end_time - start_time)\n",
    "    recon_time = (end_time - start_time)\n",
    "\n",
    "    reconstruction_speed_df.loc[len(reconstruction_speed_df)] = [\n",
    "        \"pca\",\n",
    "        64,\n",
    "        dataset,\n",
    "        embed_time,\n",
    "        recon_time,\n",
    "        embed_time + recon_time,\n",
    "        len(X_test_flat)\n",
    "    ]"
   ]
  },
  {
   "cell_type": "code",
   "execution_count": 58,
   "metadata": {
    "ExecuteTime": {
     "end_time": "2020-07-17T23:04:19.758186Z",
     "start_time": "2020-07-17T23:04:18.205662Z"
    }
   },
   "outputs": [
    {
     "data": {
      "text/html": [
       "<div>\n",
       "<style scoped>\n",
       "    .dataframe tbody tr th:only-of-type {\n",
       "        vertical-align: middle;\n",
       "    }\n",
       "\n",
       "    .dataframe tbody tr th {\n",
       "        vertical-align: top;\n",
       "    }\n",
       "\n",
       "    .dataframe thead th {\n",
       "        text-align: right;\n",
       "    }\n",
       "</style>\n",
       "<table border=\"1\" class=\"dataframe\">\n",
       "  <thead>\n",
       "    <tr style=\"text-align: right;\">\n",
       "      <th></th>\n",
       "      <th>method_</th>\n",
       "      <th>dimensions</th>\n",
       "      <th>dataset</th>\n",
       "      <th>MSE</th>\n",
       "      <th>MAE</th>\n",
       "      <th>MedAE</th>\n",
       "      <th>R2</th>\n",
       "    </tr>\n",
       "  </thead>\n",
       "  <tbody>\n",
       "    <tr>\n",
       "      <th>0</th>\n",
       "      <td>AE</td>\n",
       "      <td>2</td>\n",
       "      <td>cifar10</td>\n",
       "      <td>0.036410</td>\n",
       "      <td>0.149360</td>\n",
       "      <td>0.122907</td>\n",
       "      <td>0.390300</td>\n",
       "    </tr>\n",
       "    <tr>\n",
       "      <th>1</th>\n",
       "      <td>AE</td>\n",
       "      <td>64</td>\n",
       "      <td>cifar10</td>\n",
       "      <td>0.009391</td>\n",
       "      <td>0.068816</td>\n",
       "      <td>0.048234</td>\n",
       "      <td>0.843418</td>\n",
       "    </tr>\n",
       "    <tr>\n",
       "      <th>2</th>\n",
       "      <td>network</td>\n",
       "      <td>2</td>\n",
       "      <td>cifar10</td>\n",
       "      <td>0.036922</td>\n",
       "      <td>0.151219</td>\n",
       "      <td>0.125664</td>\n",
       "      <td>0.381821</td>\n",
       "    </tr>\n",
       "    <tr>\n",
       "      <th>3</th>\n",
       "      <td>network</td>\n",
       "      <td>64</td>\n",
       "      <td>cifar10</td>\n",
       "      <td>0.029988</td>\n",
       "      <td>0.132275</td>\n",
       "      <td>0.104090</td>\n",
       "      <td>0.498113</td>\n",
       "    </tr>\n",
       "    <tr>\n",
       "      <th>4</th>\n",
       "      <td>umap-learn</td>\n",
       "      <td>2</td>\n",
       "      <td>cifar10</td>\n",
       "      <td>0.047413</td>\n",
       "      <td>0.174495</td>\n",
       "      <td>0.149409</td>\n",
       "      <td>0.254802</td>\n",
       "    </tr>\n",
       "    <tr>\n",
       "      <th>5</th>\n",
       "      <td>pca</td>\n",
       "      <td>2</td>\n",
       "      <td>cifar10</td>\n",
       "      <td>0.037042</td>\n",
       "      <td>0.151388</td>\n",
       "      <td>0.126452</td>\n",
       "      <td>0.379544</td>\n",
       "    </tr>\n",
       "    <tr>\n",
       "      <th>6</th>\n",
       "      <td>pca</td>\n",
       "      <td>64</td>\n",
       "      <td>cifar10</td>\n",
       "      <td>0.008396</td>\n",
       "      <td>0.066066</td>\n",
       "      <td>0.047329</td>\n",
       "      <td>0.859842</td>\n",
       "    </tr>\n",
       "  </tbody>\n",
       "</table>\n",
       "</div>"
      ],
      "text/plain": [
       "      method_ dimensions  dataset       MSE       MAE     MedAE        R2\n",
       "0          AE          2  cifar10  0.036410  0.149360  0.122907  0.390300\n",
       "1          AE         64  cifar10  0.009391  0.068816  0.048234  0.843418\n",
       "2     network          2  cifar10  0.036922  0.151219  0.125664  0.381821\n",
       "3     network         64  cifar10  0.029988  0.132275  0.104090  0.498113\n",
       "4  umap-learn          2  cifar10  0.047413  0.174495  0.149409  0.254802\n",
       "5         pca          2  cifar10  0.037042  0.151388  0.126452  0.379544\n",
       "6         pca         64  cifar10  0.008396  0.066066  0.047329  0.859842"
      ]
     },
     "execution_count": 58,
     "metadata": {},
     "output_type": "execute_result"
    }
   ],
   "source": [
    "X_recon = pca.inverse_transform(pca.transform(X_test_flat))\n",
    "x_real = X_test.reshape((len(X_test), np.product(np.shape(X_test)[1:])))\n",
    "x_recon = X_recon.reshape((len(X_test), np.product(np.shape(X_test)[1:])))\n",
    "\n",
    "MSE = mean_squared_error(\n",
    "    x_real, \n",
    "    x_recon\n",
    ")\n",
    "MAE = mean_absolute_error(\n",
    "    x_real, \n",
    "    x_recon\n",
    ")\n",
    "MedAE = median_absolute_error(\n",
    "    x_real, \n",
    "    x_recon\n",
    ")\n",
    "R2 = r2_score(\n",
    "    x_real, \n",
    "    x_recon\n",
    ")\n",
    "\n",
    "reconstruction_acc_df.loc[len(reconstruction_acc_df)] = ['pca', 64, dataset, MSE, MAE, MedAE, R2]\n",
    "reconstruction_acc_df"
   ]
  },
  {
   "cell_type": "code",
   "execution_count": 61,
   "metadata": {
    "ExecuteTime": {
     "end_time": "2020-07-17T23:42:55.325677Z",
     "start_time": "2020-07-17T23:42:54.584255Z"
    }
   },
   "outputs": [
    {
     "data": {
      "text/html": [
       "<div>\n",
       "<style scoped>\n",
       "    .dataframe tbody tr th:only-of-type {\n",
       "        vertical-align: middle;\n",
       "    }\n",
       "\n",
       "    .dataframe tbody tr th {\n",
       "        vertical-align: top;\n",
       "    }\n",
       "\n",
       "    .dataframe thead th {\n",
       "        text-align: right;\n",
       "    }\n",
       "</style>\n",
       "<table border=\"1\" class=\"dataframe\">\n",
       "  <thead>\n",
       "    <tr style=\"text-align: right;\">\n",
       "      <th></th>\n",
       "      <th>method_</th>\n",
       "      <th>dimensions</th>\n",
       "      <th>dataset</th>\n",
       "      <th>MSE</th>\n",
       "      <th>MAE</th>\n",
       "      <th>MedAE</th>\n",
       "      <th>R2</th>\n",
       "    </tr>\n",
       "  </thead>\n",
       "  <tbody>\n",
       "    <tr>\n",
       "      <th>0</th>\n",
       "      <td>AE</td>\n",
       "      <td>2</td>\n",
       "      <td>cifar10</td>\n",
       "      <td>0.036410</td>\n",
       "      <td>0.149360</td>\n",
       "      <td>0.122907</td>\n",
       "      <td>0.390300</td>\n",
       "    </tr>\n",
       "    <tr>\n",
       "      <th>1</th>\n",
       "      <td>AE</td>\n",
       "      <td>64</td>\n",
       "      <td>cifar10</td>\n",
       "      <td>0.009391</td>\n",
       "      <td>0.068816</td>\n",
       "      <td>0.048234</td>\n",
       "      <td>0.843418</td>\n",
       "    </tr>\n",
       "    <tr>\n",
       "      <th>2</th>\n",
       "      <td>network</td>\n",
       "      <td>2</td>\n",
       "      <td>cifar10</td>\n",
       "      <td>0.036922</td>\n",
       "      <td>0.151219</td>\n",
       "      <td>0.125664</td>\n",
       "      <td>0.381821</td>\n",
       "    </tr>\n",
       "    <tr>\n",
       "      <th>3</th>\n",
       "      <td>network</td>\n",
       "      <td>64</td>\n",
       "      <td>cifar10</td>\n",
       "      <td>0.029988</td>\n",
       "      <td>0.132275</td>\n",
       "      <td>0.104090</td>\n",
       "      <td>0.498113</td>\n",
       "    </tr>\n",
       "    <tr>\n",
       "      <th>4</th>\n",
       "      <td>umap-learn</td>\n",
       "      <td>2</td>\n",
       "      <td>cifar10</td>\n",
       "      <td>0.047413</td>\n",
       "      <td>0.174495</td>\n",
       "      <td>0.149409</td>\n",
       "      <td>0.254802</td>\n",
       "    </tr>\n",
       "    <tr>\n",
       "      <th>5</th>\n",
       "      <td>pca</td>\n",
       "      <td>2</td>\n",
       "      <td>cifar10</td>\n",
       "      <td>0.037042</td>\n",
       "      <td>0.151388</td>\n",
       "      <td>0.126452</td>\n",
       "      <td>0.379544</td>\n",
       "    </tr>\n",
       "    <tr>\n",
       "      <th>6</th>\n",
       "      <td>pca</td>\n",
       "      <td>64</td>\n",
       "      <td>cifar10</td>\n",
       "      <td>0.008396</td>\n",
       "      <td>0.066066</td>\n",
       "      <td>0.047329</td>\n",
       "      <td>0.859842</td>\n",
       "    </tr>\n",
       "  </tbody>\n",
       "</table>\n",
       "</div>"
      ],
      "text/plain": [
       "      method_ dimensions  dataset       MSE       MAE     MedAE        R2\n",
       "0          AE          2  cifar10  0.036410  0.149360  0.122907  0.390300\n",
       "1          AE         64  cifar10  0.009391  0.068816  0.048234  0.843418\n",
       "2     network          2  cifar10  0.036922  0.151219  0.125664  0.381821\n",
       "3     network         64  cifar10  0.029988  0.132275  0.104090  0.498113\n",
       "4  umap-learn          2  cifar10  0.047413  0.174495  0.149409  0.254802\n",
       "5         pca          2  cifar10  0.037042  0.151388  0.126452  0.379544\n",
       "6         pca         64  cifar10  0.008396  0.066066  0.047329  0.859842"
      ]
     },
     "execution_count": 61,
     "metadata": {},
     "output_type": "execute_result"
    }
   ],
   "source": [
    "reconstruction_acc_df"
   ]
  },
  {
   "cell_type": "markdown",
   "metadata": {},
   "source": [
    "### Save"
   ]
  },
  {
   "cell_type": "code",
   "execution_count": 77,
   "metadata": {
    "ExecuteTime": {
     "end_time": "2020-07-17T23:46:24.778905Z",
     "start_time": "2020-07-17T23:46:24.727470Z"
    }
   },
   "outputs": [],
   "source": [
    "save_loc = DATA_DIR / 'reconstruction_speed' / (dataset + '.pickle')\n",
    "ensure_dir(save_loc)\n",
    "reconstruction_speed_df.to_pickle(save_loc)"
   ]
  },
  {
   "cell_type": "code",
   "execution_count": 60,
   "metadata": {
    "ExecuteTime": {
     "end_time": "2020-07-17T23:04:19.863270Z",
     "start_time": "2020-07-17T23:04:19.823464Z"
    }
   },
   "outputs": [],
   "source": [
    "save_loc = DATA_DIR / 'reconstruction_acc' / (dataset + '.pickle')\n",
    "ensure_dir(save_loc)\n",
    "reconstruction_acc_df.to_pickle(save_loc)"
   ]
  },
  {
   "cell_type": "code",
   "execution_count": null,
   "metadata": {},
   "outputs": [],
   "source": []
  }
 ],
 "metadata": {
  "kernelspec": {
   "display_name": "Python 3",
   "language": "python",
   "name": "python3"
  },
  "language_info": {
   "codemirror_mode": {
    "name": "ipython",
    "version": 3
   },
   "file_extension": ".py",
   "mimetype": "text/x-python",
   "name": "python",
   "nbconvert_exporter": "python",
   "pygments_lexer": "ipython3",
   "version": "3.6.7"
  }
 },
 "nbformat": 4,
 "nbformat_minor": 2
}
