{
 "cells": [
  {
   "cell_type": "markdown",
   "metadata": {},
   "source": [
    "first we need to train a parametric-umap network for each dataset... (5 datasets x 2 dimensions)\n",
    "For umap-learn, UMAP AE, Param. UMAP, PCA\n",
    "- load dataset\n",
    "- load network\n",
    "- compute reconstruction MSE\n",
    "- count time"
   ]
  },
  {
   "cell_type": "code",
   "execution_count": 1,
   "metadata": {
    "ExecuteTime": {
     "end_time": "2020-07-18T18:07:24.121955Z",
     "start_time": "2020-07-18T18:07:24.109287Z"
    }
   },
   "outputs": [],
   "source": [
    "# reload packages\n",
    "%load_ext autoreload\n",
    "%autoreload 2"
   ]
  },
  {
   "cell_type": "markdown",
   "metadata": {},
   "source": [
    "### Choose GPU (this may not be needed on your computer)"
   ]
  },
  {
   "cell_type": "code",
   "execution_count": 2,
   "metadata": {
    "ExecuteTime": {
     "end_time": "2020-07-18T18:07:24.134185Z",
     "start_time": "2020-07-18T18:07:24.123141Z"
    }
   },
   "outputs": [
    {
     "name": "stdout",
     "output_type": "stream",
     "text": [
      "env: CUDA_DEVICE_ORDER=PCI_BUS_ID\n",
      "env: CUDA_VISIBLE_DEVICES=0\n"
     ]
    }
   ],
   "source": [
    "%env CUDA_DEVICE_ORDER=PCI_BUS_ID\n",
    "%env CUDA_VISIBLE_DEVICES=0"
   ]
  },
  {
   "cell_type": "code",
   "execution_count": 3,
   "metadata": {
    "ExecuteTime": {
     "end_time": "2020-07-18T18:07:27.559019Z",
     "start_time": "2020-07-18T18:07:24.135342Z"
    }
   },
   "outputs": [],
   "source": [
    "import tensorflow as tf\n",
    "gpu_devices = tf.config.experimental.list_physical_devices('GPU')\n",
    "if len(gpu_devices)>0:\n",
    "    tf.config.experimental.set_memory_growth(gpu_devices[0], True)"
   ]
  },
  {
   "cell_type": "code",
   "execution_count": 4,
   "metadata": {
    "ExecuteTime": {
     "end_time": "2020-07-18T18:07:32.009248Z",
     "start_time": "2020-07-18T18:07:27.560562Z"
    }
   },
   "outputs": [],
   "source": [
    "import numpy as np\n",
    "import pickle\n",
    "import pandas as pd\n",
    "import time\n",
    "from umap import UMAP"
   ]
  },
  {
   "cell_type": "code",
   "execution_count": 5,
   "metadata": {
    "ExecuteTime": {
     "end_time": "2020-07-18T18:07:32.448496Z",
     "start_time": "2020-07-18T18:07:32.013219Z"
    }
   },
   "outputs": [
    {
     "name": "stderr",
     "output_type": "stream",
     "text": [
      "/mnt/cube/tsainbur/conda_envs/tpy3/lib/python3.6/site-packages/tqdm/autonotebook/__init__.py:14: TqdmExperimentalWarning: Using `tqdm.autonotebook.tqdm` in notebook mode. Use `tqdm.tqdm` instead to force console mode (e.g. in jupyter console)\n",
      "  \" (e.g. in jupyter console)\", TqdmExperimentalWarning)\n"
     ]
    }
   ],
   "source": [
    "from tfumap.umap import tfUMAP\n",
    "import tensorflow as tf\n",
    "from sklearn.decomposition import PCA\n",
    "from sklearn.metrics import mean_squared_error, mean_absolute_error, median_absolute_error, r2_score"
   ]
  },
  {
   "cell_type": "code",
   "execution_count": 6,
   "metadata": {
    "ExecuteTime": {
     "end_time": "2020-07-18T18:07:32.504894Z",
     "start_time": "2020-07-18T18:07:32.451346Z"
    }
   },
   "outputs": [],
   "source": [
    "from tqdm.autonotebook import tqdm"
   ]
  },
  {
   "cell_type": "code",
   "execution_count": 7,
   "metadata": {
    "ExecuteTime": {
     "end_time": "2020-07-18T18:07:32.652112Z",
     "start_time": "2020-07-18T18:07:32.506470Z"
    }
   },
   "outputs": [],
   "source": [
    "from tfumap.paths import ensure_dir, MODEL_DIR, DATA_DIR"
   ]
  },
  {
   "cell_type": "code",
   "execution_count": 8,
   "metadata": {
    "ExecuteTime": {
     "end_time": "2020-07-18T18:07:32.697500Z",
     "start_time": "2020-07-18T18:07:32.653538Z"
    }
   },
   "outputs": [],
   "source": [
    "output_dir = MODEL_DIR/'projections' "
   ]
  },
  {
   "cell_type": "code",
   "execution_count": 9,
   "metadata": {
    "ExecuteTime": {
     "end_time": "2020-07-18T18:07:32.750479Z",
     "start_time": "2020-07-18T18:07:32.698826Z"
    }
   },
   "outputs": [],
   "source": [
    "reconstruction_acc_df = pd.DataFrame(columns = ['method_', 'dimensions', 'dataset', 'MSE', 'MAE', 'MedAE', 'R2'])"
   ]
  },
  {
   "cell_type": "code",
   "execution_count": 10,
   "metadata": {
    "ExecuteTime": {
     "end_time": "2020-07-18T18:07:32.796043Z",
     "start_time": "2020-07-18T18:07:32.751785Z"
    }
   },
   "outputs": [],
   "source": [
    "reconstruction_speed_df = pd.DataFrame(columns = ['method_', 'dimensions', 'dataset', 'embed_time', 'recon_time', 'speed', 'nex'])"
   ]
  },
  {
   "cell_type": "markdown",
   "metadata": {},
   "source": [
    "### MNIST"
   ]
  },
  {
   "cell_type": "code",
   "execution_count": 11,
   "metadata": {
    "ExecuteTime": {
     "end_time": "2020-07-18T18:07:32.838203Z",
     "start_time": "2020-07-18T18:07:32.797584Z"
    }
   },
   "outputs": [],
   "source": [
    "dataset = 'macosko2015'\n",
    "dims = [50]"
   ]
  },
  {
   "cell_type": "markdown",
   "metadata": {},
   "source": [
    "##### load dataset"
   ]
  },
  {
   "cell_type": "code",
   "execution_count": 12,
   "metadata": {
    "ExecuteTime": {
     "end_time": "2020-07-18T18:07:33.105156Z",
     "start_time": "2020-07-18T18:07:32.839517Z"
    }
   },
   "outputs": [
    {
     "name": "stdout",
     "output_type": "stream",
     "text": [
      "Data set contains 44808 samples with 50 features\n"
     ]
    }
   ],
   "source": [
    "from tfumap.paths import ensure_dir, MODEL_DIR, DATA_DIR\n",
    "\n",
    "#dataset_address = 'http://file.biolab.si/opentsne/macosko_2015.pkl.gz'\n",
    "# https://opentsne.readthedocs.io/en/latest/examples/01_simple_usage/01_simple_usage.html\n",
    "# also see https://github.com/berenslab/rna-seq-tsne/blob/master/umi-datasets.ipynb\n",
    "\n",
    "import gzip\n",
    "import pickle\n",
    "\n",
    "with gzip.open(DATA_DIR / 'macosko_2015.pkl.gz', \"rb\") as f:\n",
    "    data = pickle.load(f)\n",
    "\n",
    "x = data[\"pca_50\"]\n",
    "y = data[\"CellType1\"].astype(str)\n",
    "\n",
    "print(\"Data set contains %d samples with %d features\" % x.shape)\n",
    "\n",
    "from sklearn.model_selection import train_test_split\n",
    "\n",
    "def zero_one_norm(x):\n",
    "    return (x- np.min(x, axis=0))/ (np.max(x, axis=0)-np.min(x, axis=0))\n",
    "\n",
    "x_norm = zero_one_norm(x)\n",
    "\n",
    "X_train, X_test, Y_train, Y_test = train_test_split(x_norm, y, test_size=.1, random_state=42)\n",
    "\n",
    "np.shape(X_train)\n",
    "\n",
    "n_valid = 10000\n",
    "X_valid = X_train[-n_valid:]\n",
    "Y_valid = Y_train[-n_valid:]\n",
    "X_train = X_train[:-n_valid]\n",
    "Y_train = Y_train[:-n_valid]\n",
    "\n",
    "X_train_flat = X_train\n",
    "\n",
    "from sklearn.preprocessing import OrdinalEncoder\n",
    "enc = OrdinalEncoder()\n",
    "\n",
    "Y_train = enc.fit_transform([[i] for i in Y_train]).flatten()\n",
    "\n",
    "X_train_flat = X_train\n",
    "X_test_flat = X_test"
   ]
  },
  {
   "cell_type": "markdown",
   "metadata": {},
   "source": [
    "### AE "
   ]
  },
  {
   "cell_type": "markdown",
   "metadata": {},
   "source": [
    "##### 2 dims"
   ]
  },
  {
   "cell_type": "code",
   "execution_count": 13,
   "metadata": {
    "ExecuteTime": {
     "end_time": "2020-07-18T18:07:33.159533Z",
     "start_time": "2020-07-18T18:07:33.106704Z"
    }
   },
   "outputs": [],
   "source": [
    "load_loc = output_dir / dataset / 'autoencoder' "
   ]
  },
  {
   "cell_type": "code",
   "execution_count": 14,
   "metadata": {
    "ExecuteTime": {
     "end_time": "2020-07-18T18:07:33.564335Z",
     "start_time": "2020-07-18T18:07:33.161471Z"
    }
   },
   "outputs": [],
   "source": [
    "embedder = tfUMAP(\n",
    "    direct_embedding=False,\n",
    "    verbose=True,\n",
    "    negative_sample_rate=5,\n",
    "    training_epochs=5,\n",
    "    decoding_method = \"autoencoder\",\n",
    "    batch_size = 100,\n",
    "    dims = dims\n",
    ")"
   ]
  },
  {
   "cell_type": "code",
   "execution_count": 15,
   "metadata": {
    "ExecuteTime": {
     "end_time": "2020-07-18T18:07:34.134207Z",
     "start_time": "2020-07-18T18:07:33.566101Z"
    }
   },
   "outputs": [],
   "source": [
    "encoder = tf.keras.models.load_model((load_loc / 'encoder').as_posix())\n",
    "embedder.encoder = encoder"
   ]
  },
  {
   "cell_type": "code",
   "execution_count": 16,
   "metadata": {
    "ExecuteTime": {
     "end_time": "2020-07-18T18:07:34.348954Z",
     "start_time": "2020-07-18T18:07:34.135544Z"
    }
   },
   "outputs": [],
   "source": [
    "decoder = tf.keras.models.load_model((load_loc / 'decoder').as_posix())\n",
    "embedder.decoder = decoder"
   ]
  },
  {
   "cell_type": "code",
   "execution_count": 17,
   "metadata": {
    "ExecuteTime": {
     "end_time": "2020-07-18T18:07:34.661804Z",
     "start_time": "2020-07-18T18:07:34.349996Z"
    },
    "code_folding": []
   },
   "outputs": [],
   "source": [
    "X_recon = decoder(encoder(X_test)).numpy()\n",
    "x_real = X_test.reshape((len(X_test), np.product(np.shape(X_test)[1:])))\n",
    "x_recon = X_recon.reshape((len(X_test), np.product(np.shape(X_test)[1:])))"
   ]
  },
  {
   "cell_type": "code",
   "execution_count": 18,
   "metadata": {
    "ExecuteTime": {
     "end_time": "2020-07-18T18:07:34.718769Z",
     "start_time": "2020-07-18T18:07:34.662890Z"
    }
   },
   "outputs": [],
   "source": [
    "MSE = mean_squared_error(\n",
    "    x_real, \n",
    "    x_recon\n",
    ")\n",
    "MAE = mean_absolute_error(\n",
    "    x_real, \n",
    "    x_recon\n",
    ")\n",
    "MedAE = median_absolute_error(\n",
    "    x_real, \n",
    "    x_recon\n",
    ")\n",
    "R2 = r2_score(\n",
    "    x_real, \n",
    "    x_recon\n",
    ")"
   ]
  },
  {
   "cell_type": "code",
   "execution_count": 19,
   "metadata": {
    "ExecuteTime": {
     "end_time": "2020-07-18T18:07:34.757672Z",
     "start_time": "2020-07-18T18:07:34.719783Z"
    }
   },
   "outputs": [],
   "source": [
    "import matplotlib.pyplot as plt"
   ]
  },
  {
   "cell_type": "code",
   "execution_count": 20,
   "metadata": {
    "ExecuteTime": {
     "end_time": "2020-07-18T18:07:34.940529Z",
     "start_time": "2020-07-18T18:07:34.760445Z"
    }
   },
   "outputs": [
    {
     "data": {
      "text/plain": [
       "(array([1.2181e+04, 1.8812e+04, 2.2892e+04, 3.2167e+04, 5.7821e+04,\n",
       "        4.0748e+04, 2.6636e+04, 1.2310e+04, 4.3300e+02, 5.0000e+01]),\n",
       " array([0. , 0.1, 0.2, 0.3, 0.4, 0.5, 0.6, 0.7, 0.8, 0.9, 1. ]),\n",
       " <a list of 10 Patch objects>)"
      ]
     },
     "execution_count": 20,
     "metadata": {},
     "output_type": "execute_result"
    },
    {
     "data": {
      "image/png": "[encoded data removed]",
      "text/plain": [
       "<Figure size 432x288 with 1 Axes>"
      ]
     },
     "metadata": {
      "needs_background": "light"
     },
     "output_type": "display_data"
    }
   ],
   "source": [
    "plt.hist(x_real.flatten())"
   ]
  },
  {
   "cell_type": "code",
   "execution_count": 21,
   "metadata": {
    "ExecuteTime": {
     "end_time": "2020-07-18T18:07:35.082953Z",
     "start_time": "2020-07-18T18:07:34.941950Z"
    }
   },
   "outputs": [
    {
     "data": {
      "text/plain": [
       "(array([12108., 19567., 22025., 31418., 49460., 45352., 23244., 18269.,\n",
       "         2543.,    64.]),\n",
       " array([0.01297177, 0.10760446, 0.20223716, 0.29686984, 0.39150256,\n",
       "        0.48613524, 0.5807679 , 0.6754006 , 0.77003336, 0.86466604,\n",
       "        0.95929873], dtype=float32),\n",
       " <a list of 10 Patch objects>)"
      ]
     },
     "execution_count": 21,
     "metadata": {},
     "output_type": "execute_result"
    },
    {
     "data": {
      "image/png": "[encoded data removed]",
      "text/plain": [
       "<Figure size 432x288 with 1 Axes>"
      ]
     },
     "metadata": {
      "needs_background": "light"
     },
     "output_type": "display_data"
    }
   ],
   "source": [
    "plt.hist(x_recon.flatten())"
   ]
  },
  {
   "cell_type": "code",
   "execution_count": 22,
   "metadata": {
    "ExecuteTime": {
     "end_time": "2020-07-18T18:07:35.133607Z",
     "start_time": "2020-07-18T18:07:35.084131Z"
    }
   },
   "outputs": [
    {
     "data": {
      "text/html": [
       "<div>\n",
       "<style scoped>\n",
       "    .dataframe tbody tr th:only-of-type {\n",
       "        vertical-align: middle;\n",
       "    }\n",
       "\n",
       "    .dataframe tbody tr th {\n",
       "        vertical-align: top;\n",
       "    }\n",
       "\n",
       "    .dataframe thead th {\n",
       "        text-align: right;\n",
       "    }\n",
       "</style>\n",
       "<table border=\"1\" class=\"dataframe\">\n",
       "  <thead>\n",
       "    <tr style=\"text-align: right;\">\n",
       "      <th></th>\n",
       "      <th>method_</th>\n",
       "      <th>dimensions</th>\n",
       "      <th>dataset</th>\n",
       "      <th>MSE</th>\n",
       "      <th>MAE</th>\n",
       "      <th>MedAE</th>\n",
       "      <th>R2</th>\n",
       "    </tr>\n",
       "  </thead>\n",
       "  <tbody>\n",
       "    <tr>\n",
       "      <th>0</th>\n",
       "      <td>AE</td>\n",
       "      <td>2</td>\n",
       "      <td>macosko2015</td>\n",
       "      <td>0.000507</td>\n",
       "      <td>0.010176</td>\n",
       "      <td>0.005322</td>\n",
       "      <td>0.335652</td>\n",
       "    </tr>\n",
       "  </tbody>\n",
       "</table>\n",
       "</div>"
      ],
      "text/plain": [
       "  method_ dimensions      dataset       MSE       MAE     MedAE        R2\n",
       "0      AE          2  macosko2015  0.000507  0.010176  0.005322  0.335652"
      ]
     },
     "execution_count": 22,
     "metadata": {},
     "output_type": "execute_result"
    }
   ],
   "source": [
    "reconstruction_acc_df.loc[len(reconstruction_acc_df)] = ['AE', 2, dataset, MSE, MAE, MedAE, R2]\n",
    "reconstruction_acc_df"
   ]
  },
  {
   "cell_type": "markdown",
   "metadata": {},
   "source": [
    "##### 64 dims"
   ]
  },
  {
   "cell_type": "code",
   "execution_count": 23,
   "metadata": {
    "ExecuteTime": {
     "end_time": "2020-07-18T18:07:35.174710Z",
     "start_time": "2020-07-18T18:07:35.134688Z"
    }
   },
   "outputs": [],
   "source": [
    "load_loc = output_dir / dataset / '64' / 'autoencoder' "
   ]
  },
  {
   "cell_type": "code",
   "execution_count": 24,
   "metadata": {
    "ExecuteTime": {
     "end_time": "2020-07-18T18:07:35.212994Z",
     "start_time": "2020-07-18T18:07:35.175877Z"
    }
   },
   "outputs": [],
   "source": [
    "embedder = tfUMAP(\n",
    "    direct_embedding=False,\n",
    "    verbose=True,\n",
    "    negative_sample_rate=5,\n",
    "    training_epochs=5,\n",
    "    decoding_method = \"autoencoder\",\n",
    "    batch_size = 100,\n",
    "    dims = dims\n",
    ")"
   ]
  },
  {
   "cell_type": "code",
   "execution_count": 25,
   "metadata": {
    "ExecuteTime": {
     "end_time": "2020-07-18T18:07:35.531765Z",
     "start_time": "2020-07-18T18:07:35.214072Z"
    }
   },
   "outputs": [],
   "source": [
    "encoder = tf.keras.models.load_model((load_loc / 'encoder').as_posix())\n",
    "embedder.encoder = encoder"
   ]
  },
  {
   "cell_type": "code",
   "execution_count": 26,
   "metadata": {
    "ExecuteTime": {
     "end_time": "2020-07-18T18:07:35.742269Z",
     "start_time": "2020-07-18T18:07:35.533946Z"
    }
   },
   "outputs": [],
   "source": [
    "decoder = tf.keras.models.load_model((load_loc / 'decoder').as_posix())\n",
    "embedder.decoder = decoder"
   ]
  },
  {
   "cell_type": "code",
   "execution_count": 27,
   "metadata": {
    "ExecuteTime": {
     "end_time": "2020-07-18T18:07:35.859730Z",
     "start_time": "2020-07-18T18:07:35.743308Z"
    },
    "code_folding": []
   },
   "outputs": [],
   "source": [
    "X_recon = decoder(encoder(X_test)).numpy()\n",
    "x_real = X_test.reshape((len(X_test), np.product(np.shape(X_test)[1:])))\n",
    "x_recon = X_recon.reshape((len(X_test), np.product(np.shape(X_test)[1:])))"
   ]
  },
  {
   "cell_type": "code",
   "execution_count": 28,
   "metadata": {
    "ExecuteTime": {
     "end_time": "2020-07-18T18:07:35.907603Z",
     "start_time": "2020-07-18T18:07:35.860887Z"
    }
   },
   "outputs": [],
   "source": [
    "MSE = mean_squared_error(\n",
    "    x_real, \n",
    "    x_recon\n",
    ")\n",
    "MAE = mean_absolute_error(\n",
    "    x_real, \n",
    "    x_recon\n",
    ")\n",
    "MedAE = median_absolute_error(\n",
    "    x_real, \n",
    "    x_recon\n",
    ")\n",
    "R2 = r2_score(\n",
    "    x_real, \n",
    "    x_recon\n",
    ")"
   ]
  },
  {
   "cell_type": "code",
   "execution_count": 29,
   "metadata": {
    "ExecuteTime": {
     "end_time": "2020-07-18T18:07:35.957406Z",
     "start_time": "2020-07-18T18:07:35.908916Z"
    }
   },
   "outputs": [
    {
     "data": {
      "text/html": [
       "<div>\n",
       "<style scoped>\n",
       "    .dataframe tbody tr th:only-of-type {\n",
       "        vertical-align: middle;\n",
       "    }\n",
       "\n",
       "    .dataframe tbody tr th {\n",
       "        vertical-align: top;\n",
       "    }\n",
       "\n",
       "    .dataframe thead th {\n",
       "        text-align: right;\n",
       "    }\n",
       "</style>\n",
       "<table border=\"1\" class=\"dataframe\">\n",
       "  <thead>\n",
       "    <tr style=\"text-align: right;\">\n",
       "      <th></th>\n",
       "      <th>method_</th>\n",
       "      <th>dimensions</th>\n",
       "      <th>dataset</th>\n",
       "      <th>MSE</th>\n",
       "      <th>MAE</th>\n",
       "      <th>MedAE</th>\n",
       "      <th>R2</th>\n",
       "    </tr>\n",
       "  </thead>\n",
       "  <tbody>\n",
       "    <tr>\n",
       "      <th>0</th>\n",
       "      <td>AE</td>\n",
       "      <td>2</td>\n",
       "      <td>macosko2015</td>\n",
       "      <td>0.000507</td>\n",
       "      <td>0.010176</td>\n",
       "      <td>0.005322</td>\n",
       "      <td>0.335652</td>\n",
       "    </tr>\n",
       "    <tr>\n",
       "      <th>1</th>\n",
       "      <td>AE</td>\n",
       "      <td>64</td>\n",
       "      <td>macosko2015</td>\n",
       "      <td>0.000277</td>\n",
       "      <td>0.008203</td>\n",
       "      <td>0.004512</td>\n",
       "      <td>0.590031</td>\n",
       "    </tr>\n",
       "  </tbody>\n",
       "</table>\n",
       "</div>"
      ],
      "text/plain": [
       "  method_ dimensions      dataset       MSE       MAE     MedAE        R2\n",
       "0      AE          2  macosko2015  0.000507  0.010176  0.005322  0.335652\n",
       "1      AE         64  macosko2015  0.000277  0.008203  0.004512  0.590031"
      ]
     },
     "execution_count": 29,
     "metadata": {},
     "output_type": "execute_result"
    }
   ],
   "source": [
    "reconstruction_acc_df.loc[len(reconstruction_acc_df)] = ['AE', 64, dataset, MSE, MAE, MedAE, R2]\n",
    "reconstruction_acc_df"
   ]
  },
  {
   "cell_type": "markdown",
   "metadata": {},
   "source": [
    "### Network"
   ]
  },
  {
   "cell_type": "markdown",
   "metadata": {},
   "source": [
    "##### 2 dims"
   ]
  },
  {
   "cell_type": "code",
   "execution_count": 30,
   "metadata": {
    "ExecuteTime": {
     "end_time": "2020-07-18T18:07:35.997424Z",
     "start_time": "2020-07-18T18:07:35.958536Z"
    }
   },
   "outputs": [],
   "source": [
    "load_loc = output_dir / dataset / 'recon-network' "
   ]
  },
  {
   "cell_type": "code",
   "execution_count": 31,
   "metadata": {
    "ExecuteTime": {
     "end_time": "2020-07-18T18:07:36.039836Z",
     "start_time": "2020-07-18T18:07:35.999092Z"
    }
   },
   "outputs": [],
   "source": [
    "embedder = tfUMAP(\n",
    "    direct_embedding=False,\n",
    "    verbose=True,\n",
    "    negative_sample_rate=5,\n",
    "    training_epochs=5,\n",
    "    decoding_method = \"network\",\n",
    "    batch_size = 100,\n",
    "    dims = dims\n",
    ")"
   ]
  },
  {
   "cell_type": "code",
   "execution_count": 32,
   "metadata": {
    "ExecuteTime": {
     "end_time": "2020-07-18T18:07:36.228878Z",
     "start_time": "2020-07-18T18:07:36.040920Z"
    }
   },
   "outputs": [],
   "source": [
    "encoder = tf.keras.models.load_model((load_loc / 'encoder').as_posix())\n",
    "embedder.encoder = encoder"
   ]
  },
  {
   "cell_type": "code",
   "execution_count": 33,
   "metadata": {
    "ExecuteTime": {
     "end_time": "2020-07-18T18:07:36.438924Z",
     "start_time": "2020-07-18T18:07:36.230106Z"
    }
   },
   "outputs": [],
   "source": [
    "decoder = tf.keras.models.load_model((load_loc / 'decoder').as_posix())\n",
    "embedder.decoder = decoder"
   ]
  },
  {
   "cell_type": "code",
   "execution_count": 34,
   "metadata": {
    "ExecuteTime": {
     "end_time": "2020-07-18T18:07:36.652953Z",
     "start_time": "2020-07-18T18:07:36.440154Z"
    }
   },
   "outputs": [
    {
     "data": {
      "application/vnd.jupyter.widget-view+json": {
       "model_id": "68ae694a8a4c481ebc18afbce1589be6",
       "version_major": 2,
       "version_minor": 0
      },
      "text/plain": [
       "HBox(children=(IntProgress(value=0, max=10), HTML(value='')))"
      ]
     },
     "metadata": {},
     "output_type": "display_data"
    },
    {
     "name": "stdout",
     "output_type": "stream",
     "text": [
      "seconds:  0.03618646110408008\n",
      "seconds:  0.04024898796342313\n",
      "seconds:  0.0025396929122507572\n",
      "seconds:  0.002330527175217867\n",
      "seconds:  0.0027018669061362743\n",
      "seconds:  0.002642035949975252\n",
      "seconds:  0.002559994114562869\n",
      "seconds:  0.002158222021535039\n",
      "seconds:  0.0024086888879537582\n",
      "seconds:  0.0022805051412433386\n",
      "seconds:  0.0021180210169404745\n",
      "seconds:  0.0018064919859170914\n",
      "seconds:  0.0019680268596857786\n",
      "seconds:  0.0017694709822535515\n",
      "seconds:  0.0020053479820489883\n",
      "seconds:  0.0017461201641708612\n",
      "seconds:  0.0018672640435397625\n",
      "seconds:  0.0017474701162427664\n",
      "seconds:  0.0019652261398732662\n",
      "seconds:  0.0017809721175581217\n",
      "\n"
     ]
    }
   ],
   "source": [
    "n_repeats = 10\n",
    "for i in tqdm(range(n_repeats)):\n",
    "    start_time = time.monotonic()\n",
    "    z_test = encoder(X_test)\n",
    "    end_time = time.monotonic()\n",
    "    print(\"seconds: \", end_time - start_time)\n",
    "    embed_time = end_time - start_time\n",
    "\n",
    "    start_time = time.monotonic()\n",
    "    x_test_recon = decoder(z_test)\n",
    "    end_time = time.monotonic()\n",
    "    print(\"seconds: \", end_time - start_time)\n",
    "    recon_time = end_time - start_time\n",
    "    reconstruction_speed_df.loc[len(reconstruction_speed_df)] = [\n",
    "        \"network\",\n",
    "        2,\n",
    "        dataset,\n",
    "        embed_time,\n",
    "        recon_time,\n",
    "        embed_time + recon_time,\n",
    "        len(X_test_flat)\n",
    "    ]"
   ]
  },
  {
   "cell_type": "code",
   "execution_count": 35,
   "metadata": {
    "ExecuteTime": {
     "end_time": "2020-07-18T18:07:36.941546Z",
     "start_time": "2020-07-18T18:07:36.654065Z"
    }
   },
   "outputs": [
    {
     "data": {
      "application/vnd.jupyter.widget-view+json": {
       "model_id": "8a96f3743ae8434085439321884b07c0",
       "version_major": 2,
       "version_minor": 0
      },
      "text/plain": [
       "HBox(children=(IntProgress(value=0, max=10), HTML(value='')))"
      ]
     },
     "metadata": {},
     "output_type": "display_data"
    },
    {
     "name": "stdout",
     "output_type": "stream",
     "text": [
      "seconds:  0.058781731175258756\n",
      "seconds:  0.038023473927751184\n",
      "seconds:  0.004671395057812333\n",
      "seconds:  0.005431426921859384\n",
      "seconds:  0.004366555018350482\n",
      "seconds:  0.004564551869407296\n",
      "seconds:  0.004963553044945002\n",
      "seconds:  0.005666533950716257\n",
      "seconds:  0.0037285578437149525\n",
      "seconds:  0.004377115983515978\n",
      "seconds:  0.00455852085724473\n",
      "seconds:  0.004160300130024552\n",
      "seconds:  0.004150148946791887\n",
      "seconds:  0.005470118019729853\n",
      "seconds:  0.004200950963422656\n",
      "seconds:  0.005120857153087854\n",
      "seconds:  0.004572832025587559\n",
      "seconds:  0.005430755903944373\n",
      "seconds:  0.004802868003025651\n",
      "seconds:  0.00406755693256855\n",
      "\n"
     ]
    }
   ],
   "source": [
    "with tf.device('/CPU:0'):\n",
    "    n_repeats = 10\n",
    "    for i in tqdm(range(n_repeats)):\n",
    "        start_time = time.monotonic()\n",
    "        z_test = encoder(X_test)\n",
    "        end_time = time.monotonic()\n",
    "        print(\"seconds: \", end_time - start_time)\n",
    "        embed_time = end_time - start_time\n",
    "\n",
    "        start_time = time.monotonic()\n",
    "        x_test_recon = decoder(z_test)\n",
    "        end_time = time.monotonic()\n",
    "        print(\"seconds: \", end_time - start_time)\n",
    "        recon_time = end_time - start_time\n",
    "        reconstruction_speed_df.loc[len(reconstruction_speed_df)] = [\n",
    "            \"network-cpu\",\n",
    "            2,\n",
    "            dataset,\n",
    "            embed_time,\n",
    "            recon_time,\n",
    "            embed_time + recon_time,\n",
    "        len(X_test_flat)\n",
    "        ]"
   ]
  },
  {
   "cell_type": "code",
   "execution_count": 36,
   "metadata": {
    "ExecuteTime": {
     "end_time": "2020-07-18T18:07:36.987602Z",
     "start_time": "2020-07-18T18:07:36.942806Z"
    },
    "code_folding": []
   },
   "outputs": [],
   "source": [
    "X_recon = decoder(encoder(X_test)).numpy()\n",
    "x_real = X_test.reshape((len(X_test), np.product(np.shape(X_test)[1:])))\n",
    "x_recon = X_recon.reshape((len(X_test), np.product(np.shape(X_test)[1:])))"
   ]
  },
  {
   "cell_type": "code",
   "execution_count": 37,
   "metadata": {
    "ExecuteTime": {
     "end_time": "2020-07-18T18:07:37.034961Z",
     "start_time": "2020-07-18T18:07:36.988647Z"
    }
   },
   "outputs": [],
   "source": [
    "MSE = mean_squared_error(\n",
    "    x_real, \n",
    "    x_recon\n",
    ")\n",
    "MAE = mean_absolute_error(\n",
    "    x_real, \n",
    "    x_recon\n",
    ")\n",
    "MedAE = median_absolute_error(\n",
    "    x_real, \n",
    "    x_recon\n",
    ")\n",
    "R2 = r2_score(\n",
    "    x_real, \n",
    "    x_recon\n",
    ")"
   ]
  },
  {
   "cell_type": "code",
   "execution_count": 38,
   "metadata": {
    "ExecuteTime": {
     "end_time": "2020-07-18T18:07:37.081814Z",
     "start_time": "2020-07-18T18:07:37.036005Z"
    }
   },
   "outputs": [
    {
     "data": {
      "text/html": [
       "<div>\n",
       "<style scoped>\n",
       "    .dataframe tbody tr th:only-of-type {\n",
       "        vertical-align: middle;\n",
       "    }\n",
       "\n",
       "    .dataframe tbody tr th {\n",
       "        vertical-align: top;\n",
       "    }\n",
       "\n",
       "    .dataframe thead th {\n",
       "        text-align: right;\n",
       "    }\n",
       "</style>\n",
       "<table border=\"1\" class=\"dataframe\">\n",
       "  <thead>\n",
       "    <tr style=\"text-align: right;\">\n",
       "      <th></th>\n",
       "      <th>method_</th>\n",
       "      <th>dimensions</th>\n",
       "      <th>dataset</th>\n",
       "      <th>MSE</th>\n",
       "      <th>MAE</th>\n",
       "      <th>MedAE</th>\n",
       "      <th>R2</th>\n",
       "    </tr>\n",
       "  </thead>\n",
       "  <tbody>\n",
       "    <tr>\n",
       "      <th>0</th>\n",
       "      <td>AE</td>\n",
       "      <td>2</td>\n",
       "      <td>macosko2015</td>\n",
       "      <td>0.000507</td>\n",
       "      <td>0.010176</td>\n",
       "      <td>0.005322</td>\n",
       "      <td>0.335652</td>\n",
       "    </tr>\n",
       "    <tr>\n",
       "      <th>1</th>\n",
       "      <td>AE</td>\n",
       "      <td>64</td>\n",
       "      <td>macosko2015</td>\n",
       "      <td>0.000277</td>\n",
       "      <td>0.008203</td>\n",
       "      <td>0.004512</td>\n",
       "      <td>0.590031</td>\n",
       "    </tr>\n",
       "    <tr>\n",
       "      <th>2</th>\n",
       "      <td>network</td>\n",
       "      <td>2</td>\n",
       "      <td>macosko2015</td>\n",
       "      <td>0.000799</td>\n",
       "      <td>0.011572</td>\n",
       "      <td>0.005110</td>\n",
       "      <td>0.154924</td>\n",
       "    </tr>\n",
       "  </tbody>\n",
       "</table>\n",
       "</div>"
      ],
      "text/plain": [
       "   method_ dimensions      dataset       MSE       MAE     MedAE        R2\n",
       "0       AE          2  macosko2015  0.000507  0.010176  0.005322  0.335652\n",
       "1       AE         64  macosko2015  0.000277  0.008203  0.004512  0.590031\n",
       "2  network          2  macosko2015  0.000799  0.011572  0.005110  0.154924"
      ]
     },
     "execution_count": 38,
     "metadata": {},
     "output_type": "execute_result"
    }
   ],
   "source": [
    "reconstruction_acc_df.loc[len(reconstruction_acc_df)] = ['network', 2, dataset, MSE, MAE, MedAE, R2]\n",
    "reconstruction_acc_df"
   ]
  },
  {
   "cell_type": "markdown",
   "metadata": {},
   "source": [
    "##### 64 dims"
   ]
  },
  {
   "cell_type": "code",
   "execution_count": 39,
   "metadata": {
    "ExecuteTime": {
     "end_time": "2020-07-18T18:07:37.119704Z",
     "start_time": "2020-07-18T18:07:37.082777Z"
    }
   },
   "outputs": [],
   "source": [
    "load_loc = output_dir / dataset / '64' / 'recon-network' "
   ]
  },
  {
   "cell_type": "code",
   "execution_count": 40,
   "metadata": {
    "ExecuteTime": {
     "end_time": "2020-07-18T18:07:37.159408Z",
     "start_time": "2020-07-18T18:07:37.120866Z"
    }
   },
   "outputs": [],
   "source": [
    "embedder = tfUMAP(\n",
    "    direct_embedding=False,\n",
    "    verbose=True,\n",
    "    negative_sample_rate=5,\n",
    "    training_epochs=5,\n",
    "    decoding_method = \"autoencoder\",\n",
    "    batch_size = 100,\n",
    "    dims = dims\n",
    ")"
   ]
  },
  {
   "cell_type": "code",
   "execution_count": 41,
   "metadata": {
    "ExecuteTime": {
     "end_time": "2020-07-18T18:07:37.350159Z",
     "start_time": "2020-07-18T18:07:37.161439Z"
    }
   },
   "outputs": [],
   "source": [
    "encoder = tf.keras.models.load_model((load_loc / 'encoder').as_posix())\n",
    "embedder.encoder = encoder"
   ]
  },
  {
   "cell_type": "code",
   "execution_count": 42,
   "metadata": {
    "ExecuteTime": {
     "end_time": "2020-07-18T18:07:37.567654Z",
     "start_time": "2020-07-18T18:07:37.352287Z"
    }
   },
   "outputs": [],
   "source": [
    "decoder = tf.keras.models.load_model((load_loc / 'decoder').as_posix())\n",
    "embedder.decoder = decoder"
   ]
  },
  {
   "cell_type": "code",
   "execution_count": 43,
   "metadata": {
    "ExecuteTime": {
     "end_time": "2020-07-18T18:07:37.786389Z",
     "start_time": "2020-07-18T18:07:37.568810Z"
    }
   },
   "outputs": [
    {
     "data": {
      "application/vnd.jupyter.widget-view+json": {
       "model_id": "51e91d615186434181bda98102e07e16",
       "version_major": 2,
       "version_minor": 0
      },
      "text/plain": [
       "HBox(children=(IntProgress(value=0, max=10), HTML(value='')))"
      ]
     },
     "metadata": {},
     "output_type": "display_data"
    },
    {
     "name": "stdout",
     "output_type": "stream",
     "text": [
      "seconds:  0.03552028187550604\n",
      "seconds:  0.03997276001609862\n",
      "seconds:  0.002491131890565157\n",
      "seconds:  0.002670216839760542\n",
      "seconds:  0.0026426061522215605\n",
      "seconds:  0.002147702034562826\n",
      "seconds:  0.002161292126402259\n",
      "seconds:  0.0022058039903640747\n",
      "seconds:  0.0023094560019671917\n",
      "seconds:  0.001699778949841857\n",
      "seconds:  0.001887905178591609\n",
      "seconds:  0.0017153688240796328\n",
      "seconds:  0.0018584630452096462\n",
      "seconds:  0.001945186872035265\n",
      "seconds:  0.0018701939843595028\n",
      "seconds:  0.0017744309734553099\n",
      "seconds:  0.0017936117947101593\n",
      "seconds:  0.0017714209388941526\n",
      "seconds:  0.001785981934517622\n",
      "seconds:  0.0017964409198611975\n",
      "\n"
     ]
    }
   ],
   "source": [
    "n_repeats = 10\n",
    "for i in tqdm(range(n_repeats)):\n",
    "    start_time = time.monotonic()\n",
    "    z_test = encoder(X_test)\n",
    "    end_time = time.monotonic()\n",
    "    print(\"seconds: \", end_time - start_time)\n",
    "    embed_time = end_time - start_time\n",
    "\n",
    "    start_time = time.monotonic()\n",
    "    x_test_recon = decoder(z_test)\n",
    "    end_time = time.monotonic()\n",
    "    print(\"seconds: \", end_time - start_time)\n",
    "    recon_time = end_time - start_time\n",
    "    reconstruction_speed_df.loc[len(reconstruction_speed_df)] = [\n",
    "        \"network\",\n",
    "        64,\n",
    "        dataset,\n",
    "        embed_time,\n",
    "        recon_time,\n",
    "        embed_time + recon_time,\n",
    "        len(X_test_flat)\n",
    "    ]"
   ]
  },
  {
   "cell_type": "code",
   "execution_count": 44,
   "metadata": {
    "ExecuteTime": {
     "end_time": "2020-07-18T18:07:38.028697Z",
     "start_time": "2020-07-18T18:07:37.787479Z"
    }
   },
   "outputs": [
    {
     "data": {
      "application/vnd.jupyter.widget-view+json": {
       "model_id": "347e5f984b6443cfb13b6f55c7c0e761",
       "version_major": 2,
       "version_minor": 0
      },
      "text/plain": [
       "HBox(children=(IntProgress(value=0, max=10), HTML(value='')))"
      ]
     },
     "metadata": {},
     "output_type": "display_data"
    },
    {
     "name": "stdout",
     "output_type": "stream",
     "text": [
      "seconds:  0.03012821706943214\n",
      "seconds:  0.03654350200667977\n",
      "seconds:  0.004542701179161668\n",
      "seconds:  0.004259102046489716\n",
      "seconds:  0.004174640867859125\n",
      "seconds:  0.004026436014100909\n",
      "seconds:  0.004350475035607815\n",
      "seconds:  0.004652314120903611\n",
      "seconds:  0.0044740778394043446\n",
      "seconds:  0.004147728905081749\n",
      "seconds:  0.004790588049218059\n",
      "seconds:  0.00395063403993845\n",
      "seconds:  0.003657305845990777\n",
      "seconds:  0.004068447044119239\n",
      "seconds:  0.003824500134214759\n",
      "seconds:  0.0039324830286204815\n",
      "seconds:  0.004074217984452844\n",
      "seconds:  0.004188830964267254\n",
      "seconds:  0.0037836190313100815\n",
      "seconds:  0.004372966010123491\n",
      "\n"
     ]
    }
   ],
   "source": [
    "with tf.device(\"/CPU:0\"):\n",
    "    n_repeats = 10\n",
    "    for i in tqdm(range(n_repeats)):\n",
    "        start_time = time.monotonic()\n",
    "        z_test = encoder(X_test)\n",
    "        end_time = time.monotonic()\n",
    "        print(\"seconds: \", end_time - start_time)\n",
    "        embed_time = end_time - start_time\n",
    "\n",
    "        start_time = time.monotonic()\n",
    "        x_test_recon = decoder(z_test)\n",
    "        end_time = time.monotonic()\n",
    "        print(\"seconds: \", end_time - start_time)\n",
    "        recon_time = end_time - start_time\n",
    "        reconstruction_speed_df.loc[len(reconstruction_speed_df)] = [\n",
    "            \"network-cpu\",\n",
    "            64,\n",
    "            dataset,\n",
    "            embed_time,\n",
    "            recon_time,\n",
    "            embed_time + recon_time,\n",
    "        len(X_test_flat)\n",
    "        ]"
   ]
  },
  {
   "cell_type": "code",
   "execution_count": 45,
   "metadata": {
    "ExecuteTime": {
     "end_time": "2020-07-18T18:07:38.079603Z",
     "start_time": "2020-07-18T18:07:38.029788Z"
    }
   },
   "outputs": [
    {
     "data": {
      "text/html": [
       "<div>\n",
       "<style scoped>\n",
       "    .dataframe tbody tr th:only-of-type {\n",
       "        vertical-align: middle;\n",
       "    }\n",
       "\n",
       "    .dataframe tbody tr th {\n",
       "        vertical-align: top;\n",
       "    }\n",
       "\n",
       "    .dataframe thead th {\n",
       "        text-align: right;\n",
       "    }\n",
       "</style>\n",
       "<table border=\"1\" class=\"dataframe\">\n",
       "  <thead>\n",
       "    <tr style=\"text-align: right;\">\n",
       "      <th></th>\n",
       "      <th>method_</th>\n",
       "      <th>dimensions</th>\n",
       "      <th>dataset</th>\n",
       "      <th>embed_time</th>\n",
       "      <th>recon_time</th>\n",
       "      <th>speed</th>\n",
       "      <th>nex</th>\n",
       "    </tr>\n",
       "  </thead>\n",
       "  <tbody>\n",
       "    <tr>\n",
       "      <th>0</th>\n",
       "      <td>network</td>\n",
       "      <td>2</td>\n",
       "      <td>macosko2015</td>\n",
       "      <td>0.036186</td>\n",
       "      <td>0.040249</td>\n",
       "      <td>0.076435</td>\n",
       "      <td>4481</td>\n",
       "    </tr>\n",
       "    <tr>\n",
       "      <th>1</th>\n",
       "      <td>network</td>\n",
       "      <td>2</td>\n",
       "      <td>macosko2015</td>\n",
       "      <td>0.002540</td>\n",
       "      <td>0.002331</td>\n",
       "      <td>0.004870</td>\n",
       "      <td>4481</td>\n",
       "    </tr>\n",
       "    <tr>\n",
       "      <th>2</th>\n",
       "      <td>network</td>\n",
       "      <td>2</td>\n",
       "      <td>macosko2015</td>\n",
       "      <td>0.002702</td>\n",
       "      <td>0.002642</td>\n",
       "      <td>0.005344</td>\n",
       "      <td>4481</td>\n",
       "    </tr>\n",
       "    <tr>\n",
       "      <th>3</th>\n",
       "      <td>network</td>\n",
       "      <td>2</td>\n",
       "      <td>macosko2015</td>\n",
       "      <td>0.002560</td>\n",
       "      <td>0.002158</td>\n",
       "      <td>0.004718</td>\n",
       "      <td>4481</td>\n",
       "    </tr>\n",
       "    <tr>\n",
       "      <th>4</th>\n",
       "      <td>network</td>\n",
       "      <td>2</td>\n",
       "      <td>macosko2015</td>\n",
       "      <td>0.002409</td>\n",
       "      <td>0.002281</td>\n",
       "      <td>0.004689</td>\n",
       "      <td>4481</td>\n",
       "    </tr>\n",
       "    <tr>\n",
       "      <th>5</th>\n",
       "      <td>network</td>\n",
       "      <td>2</td>\n",
       "      <td>macosko2015</td>\n",
       "      <td>0.002118</td>\n",
       "      <td>0.001806</td>\n",
       "      <td>0.003925</td>\n",
       "      <td>4481</td>\n",
       "    </tr>\n",
       "    <tr>\n",
       "      <th>6</th>\n",
       "      <td>network</td>\n",
       "      <td>2</td>\n",
       "      <td>macosko2015</td>\n",
       "      <td>0.001968</td>\n",
       "      <td>0.001769</td>\n",
       "      <td>0.003737</td>\n",
       "      <td>4481</td>\n",
       "    </tr>\n",
       "    <tr>\n",
       "      <th>7</th>\n",
       "      <td>network</td>\n",
       "      <td>2</td>\n",
       "      <td>macosko2015</td>\n",
       "      <td>0.002005</td>\n",
       "      <td>0.001746</td>\n",
       "      <td>0.003751</td>\n",
       "      <td>4481</td>\n",
       "    </tr>\n",
       "    <tr>\n",
       "      <th>8</th>\n",
       "      <td>network</td>\n",
       "      <td>2</td>\n",
       "      <td>macosko2015</td>\n",
       "      <td>0.001867</td>\n",
       "      <td>0.001747</td>\n",
       "      <td>0.003615</td>\n",
       "      <td>4481</td>\n",
       "    </tr>\n",
       "    <tr>\n",
       "      <th>9</th>\n",
       "      <td>network</td>\n",
       "      <td>2</td>\n",
       "      <td>macosko2015</td>\n",
       "      <td>0.001965</td>\n",
       "      <td>0.001781</td>\n",
       "      <td>0.003746</td>\n",
       "      <td>4481</td>\n",
       "    </tr>\n",
       "    <tr>\n",
       "      <th>10</th>\n",
       "      <td>network-cpu</td>\n",
       "      <td>2</td>\n",
       "      <td>macosko2015</td>\n",
       "      <td>0.058782</td>\n",
       "      <td>0.038023</td>\n",
       "      <td>0.096805</td>\n",
       "      <td>4481</td>\n",
       "    </tr>\n",
       "    <tr>\n",
       "      <th>11</th>\n",
       "      <td>network-cpu</td>\n",
       "      <td>2</td>\n",
       "      <td>macosko2015</td>\n",
       "      <td>0.004671</td>\n",
       "      <td>0.005431</td>\n",
       "      <td>0.010103</td>\n",
       "      <td>4481</td>\n",
       "    </tr>\n",
       "    <tr>\n",
       "      <th>12</th>\n",
       "      <td>network-cpu</td>\n",
       "      <td>2</td>\n",
       "      <td>macosko2015</td>\n",
       "      <td>0.004367</td>\n",
       "      <td>0.004565</td>\n",
       "      <td>0.008931</td>\n",
       "      <td>4481</td>\n",
       "    </tr>\n",
       "    <tr>\n",
       "      <th>13</th>\n",
       "      <td>network-cpu</td>\n",
       "      <td>2</td>\n",
       "      <td>macosko2015</td>\n",
       "      <td>0.004964</td>\n",
       "      <td>0.005667</td>\n",
       "      <td>0.010630</td>\n",
       "      <td>4481</td>\n",
       "    </tr>\n",
       "    <tr>\n",
       "      <th>14</th>\n",
       "      <td>network-cpu</td>\n",
       "      <td>2</td>\n",
       "      <td>macosko2015</td>\n",
       "      <td>0.003729</td>\n",
       "      <td>0.004377</td>\n",
       "      <td>0.008106</td>\n",
       "      <td>4481</td>\n",
       "    </tr>\n",
       "    <tr>\n",
       "      <th>15</th>\n",
       "      <td>network-cpu</td>\n",
       "      <td>2</td>\n",
       "      <td>macosko2015</td>\n",
       "      <td>0.004559</td>\n",
       "      <td>0.004160</td>\n",
       "      <td>0.008719</td>\n",
       "      <td>4481</td>\n",
       "    </tr>\n",
       "    <tr>\n",
       "      <th>16</th>\n",
       "      <td>network-cpu</td>\n",
       "      <td>2</td>\n",
       "      <td>macosko2015</td>\n",
       "      <td>0.004150</td>\n",
       "      <td>0.005470</td>\n",
       "      <td>0.009620</td>\n",
       "      <td>4481</td>\n",
       "    </tr>\n",
       "    <tr>\n",
       "      <th>17</th>\n",
       "      <td>network-cpu</td>\n",
       "      <td>2</td>\n",
       "      <td>macosko2015</td>\n",
       "      <td>0.004201</td>\n",
       "      <td>0.005121</td>\n",
       "      <td>0.009322</td>\n",
       "      <td>4481</td>\n",
       "    </tr>\n",
       "    <tr>\n",
       "      <th>18</th>\n",
       "      <td>network-cpu</td>\n",
       "      <td>2</td>\n",
       "      <td>macosko2015</td>\n",
       "      <td>0.004573</td>\n",
       "      <td>0.005431</td>\n",
       "      <td>0.010004</td>\n",
       "      <td>4481</td>\n",
       "    </tr>\n",
       "    <tr>\n",
       "      <th>19</th>\n",
       "      <td>network-cpu</td>\n",
       "      <td>2</td>\n",
       "      <td>macosko2015</td>\n",
       "      <td>0.004803</td>\n",
       "      <td>0.004068</td>\n",
       "      <td>0.008870</td>\n",
       "      <td>4481</td>\n",
       "    </tr>\n",
       "    <tr>\n",
       "      <th>20</th>\n",
       "      <td>network</td>\n",
       "      <td>64</td>\n",
       "      <td>macosko2015</td>\n",
       "      <td>0.035520</td>\n",
       "      <td>0.039973</td>\n",
       "      <td>0.075493</td>\n",
       "      <td>4481</td>\n",
       "    </tr>\n",
       "    <tr>\n",
       "      <th>21</th>\n",
       "      <td>network</td>\n",
       "      <td>64</td>\n",
       "      <td>macosko2015</td>\n",
       "      <td>0.002491</td>\n",
       "      <td>0.002670</td>\n",
       "      <td>0.005161</td>\n",
       "      <td>4481</td>\n",
       "    </tr>\n",
       "    <tr>\n",
       "      <th>22</th>\n",
       "      <td>network</td>\n",
       "      <td>64</td>\n",
       "      <td>macosko2015</td>\n",
       "      <td>0.002643</td>\n",
       "      <td>0.002148</td>\n",
       "      <td>0.004790</td>\n",
       "      <td>4481</td>\n",
       "    </tr>\n",
       "    <tr>\n",
       "      <th>23</th>\n",
       "      <td>network</td>\n",
       "      <td>64</td>\n",
       "      <td>macosko2015</td>\n",
       "      <td>0.002161</td>\n",
       "      <td>0.002206</td>\n",
       "      <td>0.004367</td>\n",
       "      <td>4481</td>\n",
       "    </tr>\n",
       "    <tr>\n",
       "      <th>24</th>\n",
       "      <td>network</td>\n",
       "      <td>64</td>\n",
       "      <td>macosko2015</td>\n",
       "      <td>0.002309</td>\n",
       "      <td>0.001700</td>\n",
       "      <td>0.004009</td>\n",
       "      <td>4481</td>\n",
       "    </tr>\n",
       "    <tr>\n",
       "      <th>25</th>\n",
       "      <td>network</td>\n",
       "      <td>64</td>\n",
       "      <td>macosko2015</td>\n",
       "      <td>0.001888</td>\n",
       "      <td>0.001715</td>\n",
       "      <td>0.003603</td>\n",
       "      <td>4481</td>\n",
       "    </tr>\n",
       "    <tr>\n",
       "      <th>26</th>\n",
       "      <td>network</td>\n",
       "      <td>64</td>\n",
       "      <td>macosko2015</td>\n",
       "      <td>0.001858</td>\n",
       "      <td>0.001945</td>\n",
       "      <td>0.003804</td>\n",
       "      <td>4481</td>\n",
       "    </tr>\n",
       "    <tr>\n",
       "      <th>27</th>\n",
       "      <td>network</td>\n",
       "      <td>64</td>\n",
       "      <td>macosko2015</td>\n",
       "      <td>0.001870</td>\n",
       "      <td>0.001774</td>\n",
       "      <td>0.003645</td>\n",
       "      <td>4481</td>\n",
       "    </tr>\n",
       "    <tr>\n",
       "      <th>28</th>\n",
       "      <td>network</td>\n",
       "      <td>64</td>\n",
       "      <td>macosko2015</td>\n",
       "      <td>0.001794</td>\n",
       "      <td>0.001771</td>\n",
       "      <td>0.003565</td>\n",
       "      <td>4481</td>\n",
       "    </tr>\n",
       "    <tr>\n",
       "      <th>29</th>\n",
       "      <td>network</td>\n",
       "      <td>64</td>\n",
       "      <td>macosko2015</td>\n",
       "      <td>0.001786</td>\n",
       "      <td>0.001796</td>\n",
       "      <td>0.003582</td>\n",
       "      <td>4481</td>\n",
       "    </tr>\n",
       "    <tr>\n",
       "      <th>30</th>\n",
       "      <td>network-cpu</td>\n",
       "      <td>64</td>\n",
       "      <td>macosko2015</td>\n",
       "      <td>0.030128</td>\n",
       "      <td>0.036544</td>\n",
       "      <td>0.066672</td>\n",
       "      <td>4481</td>\n",
       "    </tr>\n",
       "    <tr>\n",
       "      <th>31</th>\n",
       "      <td>network-cpu</td>\n",
       "      <td>64</td>\n",
       "      <td>macosko2015</td>\n",
       "      <td>0.004543</td>\n",
       "      <td>0.004259</td>\n",
       "      <td>0.008802</td>\n",
       "      <td>4481</td>\n",
       "    </tr>\n",
       "    <tr>\n",
       "      <th>32</th>\n",
       "      <td>network-cpu</td>\n",
       "      <td>64</td>\n",
       "      <td>macosko2015</td>\n",
       "      <td>0.004175</td>\n",
       "      <td>0.004026</td>\n",
       "      <td>0.008201</td>\n",
       "      <td>4481</td>\n",
       "    </tr>\n",
       "    <tr>\n",
       "      <th>33</th>\n",
       "      <td>network-cpu</td>\n",
       "      <td>64</td>\n",
       "      <td>macosko2015</td>\n",
       "      <td>0.004350</td>\n",
       "      <td>0.004652</td>\n",
       "      <td>0.009003</td>\n",
       "      <td>4481</td>\n",
       "    </tr>\n",
       "    <tr>\n",
       "      <th>34</th>\n",
       "      <td>network-cpu</td>\n",
       "      <td>64</td>\n",
       "      <td>macosko2015</td>\n",
       "      <td>0.004474</td>\n",
       "      <td>0.004148</td>\n",
       "      <td>0.008622</td>\n",
       "      <td>4481</td>\n",
       "    </tr>\n",
       "    <tr>\n",
       "      <th>35</th>\n",
       "      <td>network-cpu</td>\n",
       "      <td>64</td>\n",
       "      <td>macosko2015</td>\n",
       "      <td>0.004791</td>\n",
       "      <td>0.003951</td>\n",
       "      <td>0.008741</td>\n",
       "      <td>4481</td>\n",
       "    </tr>\n",
       "    <tr>\n",
       "      <th>36</th>\n",
       "      <td>network-cpu</td>\n",
       "      <td>64</td>\n",
       "      <td>macosko2015</td>\n",
       "      <td>0.003657</td>\n",
       "      <td>0.004068</td>\n",
       "      <td>0.007726</td>\n",
       "      <td>4481</td>\n",
       "    </tr>\n",
       "    <tr>\n",
       "      <th>37</th>\n",
       "      <td>network-cpu</td>\n",
       "      <td>64</td>\n",
       "      <td>macosko2015</td>\n",
       "      <td>0.003825</td>\n",
       "      <td>0.003932</td>\n",
       "      <td>0.007757</td>\n",
       "      <td>4481</td>\n",
       "    </tr>\n",
       "    <tr>\n",
       "      <th>38</th>\n",
       "      <td>network-cpu</td>\n",
       "      <td>64</td>\n",
       "      <td>macosko2015</td>\n",
       "      <td>0.004074</td>\n",
       "      <td>0.004189</td>\n",
       "      <td>0.008263</td>\n",
       "      <td>4481</td>\n",
       "    </tr>\n",
       "    <tr>\n",
       "      <th>39</th>\n",
       "      <td>network-cpu</td>\n",
       "      <td>64</td>\n",
       "      <td>macosko2015</td>\n",
       "      <td>0.003784</td>\n",
       "      <td>0.004373</td>\n",
       "      <td>0.008157</td>\n",
       "      <td>4481</td>\n",
       "    </tr>\n",
       "  </tbody>\n",
       "</table>\n",
       "</div>"
      ],
      "text/plain": [
       "        method_ dimensions      dataset  embed_time  recon_time     speed  \\\n",
       "0       network          2  macosko2015    0.036186    0.040249  0.076435   \n",
       "1       network          2  macosko2015    0.002540    0.002331  0.004870   \n",
       "2       network          2  macosko2015    0.002702    0.002642  0.005344   \n",
       "3       network          2  macosko2015    0.002560    0.002158  0.004718   \n",
       "4       network          2  macosko2015    0.002409    0.002281  0.004689   \n",
       "5       network          2  macosko2015    0.002118    0.001806  0.003925   \n",
       "6       network          2  macosko2015    0.001968    0.001769  0.003737   \n",
       "7       network          2  macosko2015    0.002005    0.001746  0.003751   \n",
       "8       network          2  macosko2015    0.001867    0.001747  0.003615   \n",
       "9       network          2  macosko2015    0.001965    0.001781  0.003746   \n",
       "10  network-cpu          2  macosko2015    0.058782    0.038023  0.096805   \n",
       "11  network-cpu          2  macosko2015    0.004671    0.005431  0.010103   \n",
       "12  network-cpu          2  macosko2015    0.004367    0.004565  0.008931   \n",
       "13  network-cpu          2  macosko2015    0.004964    0.005667  0.010630   \n",
       "14  network-cpu          2  macosko2015    0.003729    0.004377  0.008106   \n",
       "15  network-cpu          2  macosko2015    0.004559    0.004160  0.008719   \n",
       "16  network-cpu          2  macosko2015    0.004150    0.005470  0.009620   \n",
       "17  network-cpu          2  macosko2015    0.004201    0.005121  0.009322   \n",
       "18  network-cpu          2  macosko2015    0.004573    0.005431  0.010004   \n",
       "19  network-cpu          2  macosko2015    0.004803    0.004068  0.008870   \n",
       "20      network         64  macosko2015    0.035520    0.039973  0.075493   \n",
       "21      network         64  macosko2015    0.002491    0.002670  0.005161   \n",
       "22      network         64  macosko2015    0.002643    0.002148  0.004790   \n",
       "23      network         64  macosko2015    0.002161    0.002206  0.004367   \n",
       "24      network         64  macosko2015    0.002309    0.001700  0.004009   \n",
       "25      network         64  macosko2015    0.001888    0.001715  0.003603   \n",
       "26      network         64  macosko2015    0.001858    0.001945  0.003804   \n",
       "27      network         64  macosko2015    0.001870    0.001774  0.003645   \n",
       "28      network         64  macosko2015    0.001794    0.001771  0.003565   \n",
       "29      network         64  macosko2015    0.001786    0.001796  0.003582   \n",
       "30  network-cpu         64  macosko2015    0.030128    0.036544  0.066672   \n",
       "31  network-cpu         64  macosko2015    0.004543    0.004259  0.008802   \n",
       "32  network-cpu         64  macosko2015    0.004175    0.004026  0.008201   \n",
       "33  network-cpu         64  macosko2015    0.004350    0.004652  0.009003   \n",
       "34  network-cpu         64  macosko2015    0.004474    0.004148  0.008622   \n",
       "35  network-cpu         64  macosko2015    0.004791    0.003951  0.008741   \n",
       "36  network-cpu         64  macosko2015    0.003657    0.004068  0.007726   \n",
       "37  network-cpu         64  macosko2015    0.003825    0.003932  0.007757   \n",
       "38  network-cpu         64  macosko2015    0.004074    0.004189  0.008263   \n",
       "39  network-cpu         64  macosko2015    0.003784    0.004373  0.008157   \n",
       "\n",
       "     nex  \n",
       "0   4481  \n",
       "1   4481  \n",
       "2   4481  \n",
       "3   4481  \n",
       "4   4481  \n",
       "5   4481  \n",
       "6   4481  \n",
       "7   4481  \n",
       "8   4481  \n",
       "9   4481  \n",
       "10  4481  \n",
       "11  4481  \n",
       "12  4481  \n",
       "13  4481  \n",
       "14  4481  \n",
       "15  4481  \n",
       "16  4481  \n",
       "17  4481  \n",
       "18  4481  \n",
       "19  4481  \n",
       "20  4481  \n",
       "21  4481  \n",
       "22  4481  \n",
       "23  4481  \n",
       "24  4481  \n",
       "25  4481  \n",
       "26  4481  \n",
       "27  4481  \n",
       "28  4481  \n",
       "29  4481  \n",
       "30  4481  \n",
       "31  4481  \n",
       "32  4481  \n",
       "33  4481  \n",
       "34  4481  \n",
       "35  4481  \n",
       "36  4481  \n",
       "37  4481  \n",
       "38  4481  \n",
       "39  4481  "
      ]
     },
     "execution_count": 45,
     "metadata": {},
     "output_type": "execute_result"
    }
   ],
   "source": [
    "reconstruction_speed_df"
   ]
  },
  {
   "cell_type": "code",
   "execution_count": 46,
   "metadata": {
    "ExecuteTime": {
     "end_time": "2020-07-18T18:07:38.123994Z",
     "start_time": "2020-07-18T18:07:38.080660Z"
    },
    "code_folding": []
   },
   "outputs": [],
   "source": [
    "X_recon = decoder(encoder(X_test)).numpy()\n",
    "x_real = X_test.reshape((len(X_test), np.product(np.shape(X_test)[1:])))\n",
    "x_recon = X_recon.reshape((len(X_test), np.product(np.shape(X_test)[1:])))"
   ]
  },
  {
   "cell_type": "code",
   "execution_count": 47,
   "metadata": {
    "ExecuteTime": {
     "end_time": "2020-07-18T18:07:38.177191Z",
     "start_time": "2020-07-18T18:07:38.125091Z"
    }
   },
   "outputs": [],
   "source": [
    "MSE = mean_squared_error(\n",
    "    x_real, \n",
    "    x_recon\n",
    ")\n",
    "MAE = mean_absolute_error(\n",
    "    x_real, \n",
    "    x_recon\n",
    ")\n",
    "MedAE = median_absolute_error(\n",
    "    x_real, \n",
    "    x_recon\n",
    ")\n",
    "R2 = r2_score(\n",
    "    x_real, \n",
    "    x_recon\n",
    ")"
   ]
  },
  {
   "cell_type": "code",
   "execution_count": 48,
   "metadata": {
    "ExecuteTime": {
     "end_time": "2020-07-18T18:07:38.225761Z",
     "start_time": "2020-07-18T18:07:38.178376Z"
    }
   },
   "outputs": [
    {
     "data": {
      "text/html": [
       "<div>\n",
       "<style scoped>\n",
       "    .dataframe tbody tr th:only-of-type {\n",
       "        vertical-align: middle;\n",
       "    }\n",
       "\n",
       "    .dataframe tbody tr th {\n",
       "        vertical-align: top;\n",
       "    }\n",
       "\n",
       "    .dataframe thead th {\n",
       "        text-align: right;\n",
       "    }\n",
       "</style>\n",
       "<table border=\"1\" class=\"dataframe\">\n",
       "  <thead>\n",
       "    <tr style=\"text-align: right;\">\n",
       "      <th></th>\n",
       "      <th>method_</th>\n",
       "      <th>dimensions</th>\n",
       "      <th>dataset</th>\n",
       "      <th>MSE</th>\n",
       "      <th>MAE</th>\n",
       "      <th>MedAE</th>\n",
       "      <th>R2</th>\n",
       "    </tr>\n",
       "  </thead>\n",
       "  <tbody>\n",
       "    <tr>\n",
       "      <th>0</th>\n",
       "      <td>AE</td>\n",
       "      <td>2</td>\n",
       "      <td>macosko2015</td>\n",
       "      <td>0.000507</td>\n",
       "      <td>0.010176</td>\n",
       "      <td>0.005322</td>\n",
       "      <td>0.335652</td>\n",
       "    </tr>\n",
       "    <tr>\n",
       "      <th>1</th>\n",
       "      <td>AE</td>\n",
       "      <td>64</td>\n",
       "      <td>macosko2015</td>\n",
       "      <td>0.000277</td>\n",
       "      <td>0.008203</td>\n",
       "      <td>0.004512</td>\n",
       "      <td>0.590031</td>\n",
       "    </tr>\n",
       "    <tr>\n",
       "      <th>2</th>\n",
       "      <td>network</td>\n",
       "      <td>2</td>\n",
       "      <td>macosko2015</td>\n",
       "      <td>0.000799</td>\n",
       "      <td>0.011572</td>\n",
       "      <td>0.005110</td>\n",
       "      <td>0.154924</td>\n",
       "    </tr>\n",
       "    <tr>\n",
       "      <th>3</th>\n",
       "      <td>network</td>\n",
       "      <td>64</td>\n",
       "      <td>macosko2015</td>\n",
       "      <td>0.000451</td>\n",
       "      <td>0.009078</td>\n",
       "      <td>0.004311</td>\n",
       "      <td>0.417873</td>\n",
       "    </tr>\n",
       "  </tbody>\n",
       "</table>\n",
       "</div>"
      ],
      "text/plain": [
       "   method_ dimensions      dataset       MSE       MAE     MedAE        R2\n",
       "0       AE          2  macosko2015  0.000507  0.010176  0.005322  0.335652\n",
       "1       AE         64  macosko2015  0.000277  0.008203  0.004512  0.590031\n",
       "2  network          2  macosko2015  0.000799  0.011572  0.005110  0.154924\n",
       "3  network         64  macosko2015  0.000451  0.009078  0.004311  0.417873"
      ]
     },
     "execution_count": 48,
     "metadata": {},
     "output_type": "execute_result"
    }
   ],
   "source": [
    "reconstruction_acc_df.loc[len(reconstruction_acc_df)] = ['network', 64, dataset, MSE, MAE, MedAE, R2]\n",
    "reconstruction_acc_df"
   ]
  },
  {
   "cell_type": "markdown",
   "metadata": {},
   "source": [
    "#### UMAP-learn"
   ]
  },
  {
   "cell_type": "markdown",
   "metadata": {},
   "source": [
    "##### 2 dims"
   ]
  },
  {
   "cell_type": "code",
   "execution_count": 49,
   "metadata": {
    "ExecuteTime": {
     "end_time": "2020-07-18T18:08:14.283665Z",
     "start_time": "2020-07-18T18:07:38.226824Z"
    }
   },
   "outputs": [
    {
     "name": "stdout",
     "output_type": "stream",
     "text": [
      "UMAP(dens_frac=0.0, dens_lambda=0.0, verbose=True)\n",
      "Construct fuzzy simplicial set\n",
      "Sat Jul 18 11:07:38 2020 Finding Nearest Neighbors\n",
      "Sat Jul 18 11:07:38 2020 Building RP forest with 14 trees\n",
      "Sat Jul 18 11:07:39 2020 parallel NN descent for 15 iterations\n",
      "\t 0  /  15\n",
      "\t 1  /  15\n",
      "\t 2  /  15\n",
      "\t 3  /  15\n",
      "\t 4  /  15\n",
      "\t 5  /  15\n",
      "Sat Jul 18 11:07:48 2020 Finished Nearest Neighbor Search\n",
      "Sat Jul 18 11:07:50 2020 Construct embedding\n",
      "\tcompleted  0  /  200 epochs\n",
      "\tcompleted  20  /  200 epochs\n",
      "\tcompleted  40  /  200 epochs\n",
      "\tcompleted  60  /  200 epochs\n",
      "\tcompleted  80  /  200 epochs\n",
      "\tcompleted  100  /  200 epochs\n",
      "\tcompleted  120  /  200 epochs\n",
      "\tcompleted  140  /  200 epochs\n",
      "\tcompleted  160  /  200 epochs\n",
      "\tcompleted  180  /  200 epochs\n",
      "Sat Jul 18 11:08:14 2020 Finished embedding\n"
     ]
    }
   ],
   "source": [
    "embedder = UMAP(n_components = 2, verbose=True)\n",
    "z_umap = embedder.fit_transform(X_train_flat)"
   ]
  },
  {
   "cell_type": "code",
   "execution_count": 50,
   "metadata": {
    "ExecuteTime": {
     "end_time": "2020-07-18T18:14:14.723316Z",
     "start_time": "2020-07-18T18:08:14.284877Z"
    }
   },
   "outputs": [
    {
     "data": {
      "application/vnd.jupyter.widget-view+json": {
       "model_id": "12805f8ad7684e88b4f3d5359b21debf",
       "version_major": 2,
       "version_minor": 0
      },
      "text/plain": [
       "HBox(children=(IntProgress(value=0, max=10), HTML(value='')))"
      ]
     },
     "metadata": {},
     "output_type": "display_data"
    },
    {
     "name": "stdout",
     "output_type": "stream",
     "text": [
      "\tcompleted  0  /  100 epochs\n",
      "\tcompleted  10  /  100 epochs\n",
      "\tcompleted  20  /  100 epochs\n",
      "\tcompleted  30  /  100 epochs\n",
      "\tcompleted  40  /  100 epochs\n",
      "\tcompleted  50  /  100 epochs\n",
      "\tcompleted  60  /  100 epochs\n",
      "\tcompleted  70  /  100 epochs\n",
      "\tcompleted  80  /  100 epochs\n",
      "\tcompleted  90  /  100 epochs\n",
      "seconds:  16.077007019193843\n",
      "\tcompleted  0  /  100 epochs\n",
      "\tcompleted  10  /  100 epochs\n",
      "\tcompleted  20  /  100 epochs\n",
      "\tcompleted  30  /  100 epochs\n",
      "\tcompleted  40  /  100 epochs\n",
      "\tcompleted  50  /  100 epochs\n",
      "\tcompleted  60  /  100 epochs\n",
      "\tcompleted  70  /  100 epochs\n",
      "\tcompleted  80  /  100 epochs\n",
      "\tcompleted  90  /  100 epochs\n",
      "seconds:  32.93827842292376\n",
      "\tcompleted  0  /  100 epochs\n",
      "\tcompleted  10  /  100 epochs\n",
      "\tcompleted  20  /  100 epochs\n",
      "\tcompleted  30  /  100 epochs\n",
      "\tcompleted  40  /  100 epochs\n",
      "\tcompleted  50  /  100 epochs\n",
      "\tcompleted  60  /  100 epochs\n",
      "\tcompleted  70  /  100 epochs\n",
      "\tcompleted  80  /  100 epochs\n",
      "\tcompleted  90  /  100 epochs\n",
      "seconds:  4.931507837958634\n",
      "\tcompleted  0  /  100 epochs\n",
      "\tcompleted  10  /  100 epochs\n",
      "\tcompleted  20  /  100 epochs\n",
      "\tcompleted  30  /  100 epochs\n",
      "\tcompleted  40  /  100 epochs\n",
      "\tcompleted  50  /  100 epochs\n",
      "\tcompleted  60  /  100 epochs\n",
      "\tcompleted  70  /  100 epochs\n",
      "\tcompleted  80  /  100 epochs\n",
      "\tcompleted  90  /  100 epochs\n",
      "seconds:  30.643490893999115\n",
      "\tcompleted  0  /  100 epochs\n",
      "\tcompleted  10  /  100 epochs\n",
      "\tcompleted  20  /  100 epochs\n",
      "\tcompleted  30  /  100 epochs\n",
      "\tcompleted  40  /  100 epochs\n",
      "\tcompleted  50  /  100 epochs\n",
      "\tcompleted  60  /  100 epochs\n",
      "\tcompleted  70  /  100 epochs\n",
      "\tcompleted  80  /  100 epochs\n",
      "\tcompleted  90  /  100 epochs\n",
      "seconds:  4.044921841938049\n",
      "\tcompleted  0  /  100 epochs\n",
      "\tcompleted  10  /  100 epochs\n",
      "\tcompleted  20  /  100 epochs\n",
      "\tcompleted  30  /  100 epochs\n",
      "\tcompleted  40  /  100 epochs\n",
      "\tcompleted  50  /  100 epochs\n",
      "\tcompleted  60  /  100 epochs\n",
      "\tcompleted  70  /  100 epochs\n",
      "\tcompleted  80  /  100 epochs\n",
      "\tcompleted  90  /  100 epochs\n",
      "seconds:  29.920496336184442\n",
      "\tcompleted  0  /  100 epochs\n",
      "\tcompleted  10  /  100 epochs\n",
      "\tcompleted  20  /  100 epochs\n",
      "\tcompleted  30  /  100 epochs\n",
      "\tcompleted  40  /  100 epochs\n",
      "\tcompleted  50  /  100 epochs\n",
      "\tcompleted  60  /  100 epochs\n",
      "\tcompleted  70  /  100 epochs\n",
      "\tcompleted  80  /  100 epochs\n",
      "\tcompleted  90  /  100 epochs\n",
      "seconds:  3.806869209976867\n",
      "\tcompleted  0  /  100 epochs\n",
      "\tcompleted  10  /  100 epochs\n",
      "\tcompleted  20  /  100 epochs\n",
      "\tcompleted  30  /  100 epochs\n",
      "\tcompleted  40  /  100 epochs\n",
      "\tcompleted  50  /  100 epochs\n",
      "\tcompleted  60  /  100 epochs\n",
      "\tcompleted  70  /  100 epochs\n",
      "\tcompleted  80  /  100 epochs\n",
      "\tcompleted  90  /  100 epochs\n",
      "seconds:  30.545789466938004\n",
      "\tcompleted  0  /  100 epochs\n",
      "\tcompleted  10  /  100 epochs\n",
      "\tcompleted  20  /  100 epochs\n",
      "\tcompleted  30  /  100 epochs\n",
      "\tcompleted  40  /  100 epochs\n",
      "\tcompleted  50  /  100 epochs\n",
      "\tcompleted  60  /  100 epochs\n",
      "\tcompleted  70  /  100 epochs\n",
      "\tcompleted  80  /  100 epochs\n",
      "\tcompleted  90  /  100 epochs\n",
      "seconds:  3.822993066860363\n",
      "\tcompleted  0  /  100 epochs\n",
      "\tcompleted  10  /  100 epochs\n",
      "\tcompleted  20  /  100 epochs\n",
      "\tcompleted  30  /  100 epochs\n",
      "\tcompleted  40  /  100 epochs\n",
      "\tcompleted  50  /  100 epochs\n",
      "\tcompleted  60  /  100 epochs\n",
      "\tcompleted  70  /  100 epochs\n",
      "\tcompleted  80  /  100 epochs\n",
      "\tcompleted  90  /  100 epochs\n",
      "seconds:  30.017456436995417\n",
      "\tcompleted  0  /  100 epochs\n",
      "\tcompleted  10  /  100 epochs\n",
      "\tcompleted  20  /  100 epochs\n",
      "\tcompleted  30  /  100 epochs\n",
      "\tcompleted  40  /  100 epochs\n",
      "\tcompleted  50  /  100 epochs\n",
      "\tcompleted  60  /  100 epochs\n",
      "\tcompleted  70  /  100 epochs\n",
      "\tcompleted  80  /  100 epochs\n",
      "\tcompleted  90  /  100 epochs\n",
      "seconds:  3.8155513908714056\n",
      "\tcompleted  0  /  100 epochs\n",
      "\tcompleted  10  /  100 epochs\n",
      "\tcompleted  20  /  100 epochs\n",
      "\tcompleted  30  /  100 epochs\n",
      "\tcompleted  40  /  100 epochs\n",
      "\tcompleted  50  /  100 epochs\n",
      "\tcompleted  60  /  100 epochs\n",
      "\tcompleted  70  /  100 epochs\n",
      "\tcompleted  80  /  100 epochs\n",
      "\tcompleted  90  /  100 epochs\n",
      "seconds:  30.437673444859684\n",
      "\tcompleted  0  /  100 epochs\n",
      "\tcompleted  10  /  100 epochs\n",
      "\tcompleted  20  /  100 epochs\n",
      "\tcompleted  30  /  100 epochs\n",
      "\tcompleted  40  /  100 epochs\n",
      "\tcompleted  50  /  100 epochs\n",
      "\tcompleted  60  /  100 epochs\n",
      "\tcompleted  70  /  100 epochs\n",
      "\tcompleted  80  /  100 epochs\n",
      "\tcompleted  90  /  100 epochs\n",
      "seconds:  3.791187488939613\n",
      "\tcompleted  0  /  100 epochs\n",
      "\tcompleted  10  /  100 epochs\n",
      "\tcompleted  20  /  100 epochs\n",
      "\tcompleted  30  /  100 epochs\n",
      "\tcompleted  40  /  100 epochs\n",
      "\tcompleted  50  /  100 epochs\n",
      "\tcompleted  60  /  100 epochs\n",
      "\tcompleted  70  /  100 epochs\n",
      "\tcompleted  80  /  100 epochs\n",
      "\tcompleted  90  /  100 epochs\n",
      "seconds:  30.32645818288438\n",
      "\tcompleted  0  /  100 epochs\n",
      "\tcompleted  10  /  100 epochs\n",
      "\tcompleted  20  /  100 epochs\n",
      "\tcompleted  30  /  100 epochs\n",
      "\tcompleted  40  /  100 epochs\n",
      "\tcompleted  50  /  100 epochs\n",
      "\tcompleted  60  /  100 epochs\n",
      "\tcompleted  70  /  100 epochs\n",
      "\tcompleted  80  /  100 epochs\n",
      "\tcompleted  90  /  100 epochs\n",
      "seconds:  3.8219519241247326\n",
      "\tcompleted  0  /  100 epochs\n",
      "\tcompleted  10  /  100 epochs\n",
      "\tcompleted  20  /  100 epochs\n",
      "\tcompleted  30  /  100 epochs\n",
      "\tcompleted  40  /  100 epochs\n",
      "\tcompleted  50  /  100 epochs\n",
      "\tcompleted  60  /  100 epochs\n",
      "\tcompleted  70  /  100 epochs\n",
      "\tcompleted  80  /  100 epochs\n",
      "\tcompleted  90  /  100 epochs\n",
      "seconds:  30.02685432205908\n",
      "\tcompleted  0  /  100 epochs\n",
      "\tcompleted  10  /  100 epochs\n",
      "\tcompleted  20  /  100 epochs\n",
      "\tcompleted  30  /  100 epochs\n",
      "\tcompleted  40  /  100 epochs\n",
      "\tcompleted  50  /  100 epochs\n",
      "\tcompleted  60  /  100 epochs\n",
      "\tcompleted  70  /  100 epochs\n",
      "\tcompleted  80  /  100 epochs\n",
      "\tcompleted  90  /  100 epochs\n",
      "seconds:  4.0472480619791895\n",
      "\tcompleted  0  /  100 epochs\n",
      "\tcompleted  10  /  100 epochs\n",
      "\tcompleted  20  /  100 epochs\n",
      "\tcompleted  30  /  100 epochs\n",
      "\tcompleted  40  /  100 epochs\n",
      "\tcompleted  50  /  100 epochs\n",
      "\tcompleted  60  /  100 epochs\n",
      "\tcompleted  70  /  100 epochs\n",
      "\tcompleted  80  /  100 epochs\n",
      "\tcompleted  90  /  100 epochs\n",
      "seconds:  30.000471055042\n",
      "\tcompleted  0  /  100 epochs\n",
      "\tcompleted  10  /  100 epochs\n",
      "\tcompleted  20  /  100 epochs\n",
      "\tcompleted  30  /  100 epochs\n",
      "\tcompleted  40  /  100 epochs\n",
      "\tcompleted  50  /  100 epochs\n",
      "\tcompleted  60  /  100 epochs\n",
      "\tcompleted  70  /  100 epochs\n",
      "\tcompleted  80  /  100 epochs\n",
      "\tcompleted  90  /  100 epochs\n",
      "seconds:  4.073935549007729\n",
      "\tcompleted  0  /  100 epochs\n",
      "\tcompleted  10  /  100 epochs\n",
      "\tcompleted  20  /  100 epochs\n",
      "\tcompleted  30  /  100 epochs\n",
      "\tcompleted  40  /  100 epochs\n",
      "\tcompleted  50  /  100 epochs\n",
      "\tcompleted  60  /  100 epochs\n",
      "\tcompleted  70  /  100 epochs\n",
      "\tcompleted  80  /  100 epochs\n",
      "\tcompleted  90  /  100 epochs\n",
      "seconds:  33.20713280607015\n",
      "\n"
     ]
    }
   ],
   "source": [
    "x_test_samples= []\n",
    "x_test_recon_samples= []\n",
    "n_repeats = 10\n",
    "for i in tqdm(range(n_repeats)):\n",
    "    start_time = time.monotonic()\n",
    "    z_test = embedder.transform(X_test_flat);\n",
    "    end_time = time.monotonic()\n",
    "    print('seconds: ', end_time - start_time)\n",
    "    embed_time = end_time - start_time\n",
    "\n",
    "    nex = 10 # it would take far too long to reconstruct the entire dataset\n",
    "    samp_idx = np.random.randint(len(z_test),  size= nex)\n",
    "    sample = np.array(z_test)[samp_idx]\n",
    "    x_test_samples.append(samp_idx)\n",
    "    start_time = time.monotonic()\n",
    "    x_test_recon = embedder.inverse_transform(sample);\n",
    "    end_time = time.monotonic()\n",
    "    print('seconds: ', end_time - start_time)\n",
    "    recon_time = (end_time - start_time)*len(z_test)/nex\n",
    "\n",
    "    reconstruction_speed_df.loc[len(reconstruction_speed_df)] = [\n",
    "        \"umap-learn\",\n",
    "        2,\n",
    "        dataset,\n",
    "        embed_time,\n",
    "        recon_time,\n",
    "        embed_time + recon_time,\n",
    "        len(X_test_flat)\n",
    "    ]\n",
    "    x_test_recon_samples.append(x_test_recon)"
   ]
  },
  {
   "cell_type": "code",
   "execution_count": 51,
   "metadata": {
    "ExecuteTime": {
     "end_time": "2020-07-18T18:14:14.802305Z",
     "start_time": "2020-07-18T18:14:14.725098Z"
    }
   },
   "outputs": [],
   "source": [
    "x_recon = np.concatenate(x_test_recon_samples)"
   ]
  },
  {
   "cell_type": "code",
   "execution_count": 52,
   "metadata": {
    "ExecuteTime": {
     "end_time": "2020-07-18T18:14:14.855763Z",
     "start_time": "2020-07-18T18:14:14.803924Z"
    }
   },
   "outputs": [],
   "source": [
    "x_real = np.array(X_test_flat)[np.concatenate(x_test_samples)]"
   ]
  },
  {
   "cell_type": "code",
   "execution_count": 53,
   "metadata": {
    "ExecuteTime": {
     "end_time": "2020-07-18T18:14:14.919117Z",
     "start_time": "2020-07-18T18:14:14.857119Z"
    }
   },
   "outputs": [
    {
     "data": {
      "text/html": [
       "<div>\n",
       "<style scoped>\n",
       "    .dataframe tbody tr th:only-of-type {\n",
       "        vertical-align: middle;\n",
       "    }\n",
       "\n",
       "    .dataframe tbody tr th {\n",
       "        vertical-align: top;\n",
       "    }\n",
       "\n",
       "    .dataframe thead th {\n",
       "        text-align: right;\n",
       "    }\n",
       "</style>\n",
       "<table border=\"1\" class=\"dataframe\">\n",
       "  <thead>\n",
       "    <tr style=\"text-align: right;\">\n",
       "      <th></th>\n",
       "      <th>method_</th>\n",
       "      <th>dimensions</th>\n",
       "      <th>dataset</th>\n",
       "      <th>MSE</th>\n",
       "      <th>MAE</th>\n",
       "      <th>MedAE</th>\n",
       "      <th>R2</th>\n",
       "    </tr>\n",
       "  </thead>\n",
       "  <tbody>\n",
       "    <tr>\n",
       "      <th>0</th>\n",
       "      <td>AE</td>\n",
       "      <td>2</td>\n",
       "      <td>macosko2015</td>\n",
       "      <td>0.000507</td>\n",
       "      <td>0.010176</td>\n",
       "      <td>0.005322</td>\n",
       "      <td>0.335652</td>\n",
       "    </tr>\n",
       "    <tr>\n",
       "      <th>1</th>\n",
       "      <td>AE</td>\n",
       "      <td>64</td>\n",
       "      <td>macosko2015</td>\n",
       "      <td>0.000277</td>\n",
       "      <td>0.008203</td>\n",
       "      <td>0.004512</td>\n",
       "      <td>0.590031</td>\n",
       "    </tr>\n",
       "    <tr>\n",
       "      <th>2</th>\n",
       "      <td>network</td>\n",
       "      <td>2</td>\n",
       "      <td>macosko2015</td>\n",
       "      <td>0.000799</td>\n",
       "      <td>0.011572</td>\n",
       "      <td>0.005110</td>\n",
       "      <td>0.154924</td>\n",
       "    </tr>\n",
       "    <tr>\n",
       "      <th>3</th>\n",
       "      <td>network</td>\n",
       "      <td>64</td>\n",
       "      <td>macosko2015</td>\n",
       "      <td>0.000451</td>\n",
       "      <td>0.009078</td>\n",
       "      <td>0.004311</td>\n",
       "      <td>0.417873</td>\n",
       "    </tr>\n",
       "    <tr>\n",
       "      <th>4</th>\n",
       "      <td>umap-learn</td>\n",
       "      <td>2</td>\n",
       "      <td>macosko2015</td>\n",
       "      <td>0.000339</td>\n",
       "      <td>0.013422</td>\n",
       "      <td>0.011102</td>\n",
       "      <td>-1.009019</td>\n",
       "    </tr>\n",
       "  </tbody>\n",
       "</table>\n",
       "</div>"
      ],
      "text/plain": [
       "      method_ dimensions      dataset       MSE       MAE     MedAE        R2\n",
       "0          AE          2  macosko2015  0.000507  0.010176  0.005322  0.335652\n",
       "1          AE         64  macosko2015  0.000277  0.008203  0.004512  0.590031\n",
       "2     network          2  macosko2015  0.000799  0.011572  0.005110  0.154924\n",
       "3     network         64  macosko2015  0.000451  0.009078  0.004311  0.417873\n",
       "4  umap-learn          2  macosko2015  0.000339  0.013422  0.011102 -1.009019"
      ]
     },
     "execution_count": 53,
     "metadata": {},
     "output_type": "execute_result"
    }
   ],
   "source": [
    "\n",
    "MSE = mean_squared_error(\n",
    "    x_real, \n",
    "    x_recon\n",
    ")\n",
    "MAE = mean_absolute_error(\n",
    "    x_real, \n",
    "    x_recon\n",
    ")\n",
    "MedAE = median_absolute_error(\n",
    "    x_real, \n",
    "    x_recon\n",
    ")\n",
    "R2 = r2_score(\n",
    "    x_real, \n",
    "    x_recon\n",
    ")\n",
    "\n",
    "reconstruction_acc_df.loc[len(reconstruction_acc_df)] = ['umap-learn', 2, dataset, MSE, MAE, MedAE, R2]\n",
    "reconstruction_acc_df"
   ]
  },
  {
   "cell_type": "markdown",
   "metadata": {
    "ExecuteTime": {
     "end_time": "2020-07-17T18:45:10.741411Z",
     "start_time": "2020-07-17T18:44:51.265Z"
    }
   },
   "source": [
    "##### PCA"
   ]
  },
  {
   "cell_type": "markdown",
   "metadata": {},
   "source": [
    "##### 2 dims\n"
   ]
  },
  {
   "cell_type": "code",
   "execution_count": 54,
   "metadata": {
    "ExecuteTime": {
     "end_time": "2020-07-18T18:14:15.091883Z",
     "start_time": "2020-07-18T18:14:14.920301Z"
    }
   },
   "outputs": [],
   "source": [
    "pca = PCA(n_components=2)\n",
    "z = pca.fit_transform(X_train_flat)"
   ]
  },
  {
   "cell_type": "code",
   "execution_count": 55,
   "metadata": {
    "ExecuteTime": {
     "end_time": "2020-07-18T18:14:15.225861Z",
     "start_time": "2020-07-18T18:14:15.093474Z"
    }
   },
   "outputs": [
    {
     "data": {
      "application/vnd.jupyter.widget-view+json": {
       "model_id": "11d2d5c9acb74f4a839379d7a2424842",
       "version_major": 2,
       "version_minor": 0
      },
      "text/plain": [
       "HBox(children=(IntProgress(value=0, max=10), HTML(value='')))"
      ]
     },
     "metadata": {},
     "output_type": "display_data"
    },
    {
     "name": "stdout",
     "output_type": "stream",
     "text": [
      "seconds:  0.000993059016764164\n",
      "seconds:  0.00113176298327744\n",
      "seconds:  0.00048239389434456825\n",
      "seconds:  0.0013239390682429075\n",
      "seconds:  0.0004580640234053135\n",
      "seconds:  0.0010325598996132612\n",
      "seconds:  0.00267716683447361\n",
      "seconds:  0.0013587391003966331\n",
      "seconds:  0.0004935238976031542\n",
      "seconds:  0.0012710869777947664\n",
      "seconds:  0.000490914098918438\n",
      "seconds:  0.0009620878845453262\n",
      "seconds:  0.0004870740231126547\n",
      "seconds:  0.000856724800541997\n",
      "seconds:  0.0004929350689053535\n",
      "seconds:  0.0008604649920016527\n",
      "seconds:  0.0004856339655816555\n",
      "seconds:  0.0009556680452078581\n",
      "seconds:  0.0005124250892549753\n",
      "seconds:  0.0009185168892145157\n",
      "\n"
     ]
    }
   ],
   "source": [
    "n_repeats = 10\n",
    "for i in tqdm(range(n_repeats)):\n",
    "    start_time = time.monotonic()\n",
    "    z_test = pca.transform(X_test_flat);\n",
    "    end_time = time.monotonic()\n",
    "    print('seconds: ', end_time - start_time)\n",
    "    embed_time = end_time - start_time\n",
    "\n",
    "    start_time = time.monotonic()\n",
    "    x_test_recon = pca.inverse_transform(z_test);\n",
    "    end_time = time.monotonic()\n",
    "    print('seconds: ', end_time - start_time)\n",
    "    recon_time = (end_time - start_time)\n",
    "\n",
    "    reconstruction_speed_df.loc[len(reconstruction_speed_df)] = [\n",
    "        \"pca\",\n",
    "        2,\n",
    "        dataset,\n",
    "        embed_time,\n",
    "        recon_time,\n",
    "        embed_time + recon_time,\n",
    "        len(X_test_flat)\n",
    "    ]"
   ]
  },
  {
   "cell_type": "code",
   "execution_count": 56,
   "metadata": {
    "ExecuteTime": {
     "end_time": "2020-07-18T18:14:15.296219Z",
     "start_time": "2020-07-18T18:14:15.227768Z"
    }
   },
   "outputs": [
    {
     "data": {
      "text/html": [
       "<div>\n",
       "<style scoped>\n",
       "    .dataframe tbody tr th:only-of-type {\n",
       "        vertical-align: middle;\n",
       "    }\n",
       "\n",
       "    .dataframe tbody tr th {\n",
       "        vertical-align: top;\n",
       "    }\n",
       "\n",
       "    .dataframe thead th {\n",
       "        text-align: right;\n",
       "    }\n",
       "</style>\n",
       "<table border=\"1\" class=\"dataframe\">\n",
       "  <thead>\n",
       "    <tr style=\"text-align: right;\">\n",
       "      <th></th>\n",
       "      <th>method_</th>\n",
       "      <th>dimensions</th>\n",
       "      <th>dataset</th>\n",
       "      <th>MSE</th>\n",
       "      <th>MAE</th>\n",
       "      <th>MedAE</th>\n",
       "      <th>R2</th>\n",
       "    </tr>\n",
       "  </thead>\n",
       "  <tbody>\n",
       "    <tr>\n",
       "      <th>0</th>\n",
       "      <td>AE</td>\n",
       "      <td>2</td>\n",
       "      <td>macosko2015</td>\n",
       "      <td>0.000507</td>\n",
       "      <td>0.010176</td>\n",
       "      <td>0.005322</td>\n",
       "      <td>0.335652</td>\n",
       "    </tr>\n",
       "    <tr>\n",
       "      <th>1</th>\n",
       "      <td>AE</td>\n",
       "      <td>64</td>\n",
       "      <td>macosko2015</td>\n",
       "      <td>0.000277</td>\n",
       "      <td>0.008203</td>\n",
       "      <td>0.004512</td>\n",
       "      <td>0.590031</td>\n",
       "    </tr>\n",
       "    <tr>\n",
       "      <th>2</th>\n",
       "      <td>network</td>\n",
       "      <td>2</td>\n",
       "      <td>macosko2015</td>\n",
       "      <td>0.000799</td>\n",
       "      <td>0.011572</td>\n",
       "      <td>0.005110</td>\n",
       "      <td>0.154924</td>\n",
       "    </tr>\n",
       "    <tr>\n",
       "      <th>3</th>\n",
       "      <td>network</td>\n",
       "      <td>64</td>\n",
       "      <td>macosko2015</td>\n",
       "      <td>0.000451</td>\n",
       "      <td>0.009078</td>\n",
       "      <td>0.004311</td>\n",
       "      <td>0.417873</td>\n",
       "    </tr>\n",
       "    <tr>\n",
       "      <th>4</th>\n",
       "      <td>umap-learn</td>\n",
       "      <td>2</td>\n",
       "      <td>macosko2015</td>\n",
       "      <td>0.000339</td>\n",
       "      <td>0.013422</td>\n",
       "      <td>0.011102</td>\n",
       "      <td>-1.009019</td>\n",
       "    </tr>\n",
       "    <tr>\n",
       "      <th>5</th>\n",
       "      <td>pca</td>\n",
       "      <td>2</td>\n",
       "      <td>macosko2015</td>\n",
       "      <td>0.000974</td>\n",
       "      <td>0.012988</td>\n",
       "      <td>0.005960</td>\n",
       "      <td>0.039447</td>\n",
       "    </tr>\n",
       "  </tbody>\n",
       "</table>\n",
       "</div>"
      ],
      "text/plain": [
       "      method_ dimensions      dataset       MSE       MAE     MedAE        R2\n",
       "0          AE          2  macosko2015  0.000507  0.010176  0.005322  0.335652\n",
       "1          AE         64  macosko2015  0.000277  0.008203  0.004512  0.590031\n",
       "2     network          2  macosko2015  0.000799  0.011572  0.005110  0.154924\n",
       "3     network         64  macosko2015  0.000451  0.009078  0.004311  0.417873\n",
       "4  umap-learn          2  macosko2015  0.000339  0.013422  0.011102 -1.009019\n",
       "5         pca          2  macosko2015  0.000974  0.012988  0.005960  0.039447"
      ]
     },
     "execution_count": 56,
     "metadata": {},
     "output_type": "execute_result"
    }
   ],
   "source": [
    "X_recon = pca.inverse_transform(pca.transform(X_test_flat))\n",
    "x_real = X_test.reshape((len(X_test), np.product(np.shape(X_test)[1:])))\n",
    "x_recon = X_recon.reshape((len(X_test), np.product(np.shape(X_test)[1:])))\n",
    "\n",
    "MSE = mean_squared_error(\n",
    "    x_real, \n",
    "    x_recon\n",
    ")\n",
    "MAE = mean_absolute_error(\n",
    "    x_real, \n",
    "    x_recon\n",
    ")\n",
    "MedAE = median_absolute_error(\n",
    "    x_real, \n",
    "    x_recon\n",
    ")\n",
    "R2 = r2_score(\n",
    "    x_real, \n",
    "    x_recon\n",
    ")\n",
    "\n",
    "reconstruction_acc_df.loc[len(reconstruction_acc_df)] = ['pca', 2, dataset, MSE, MAE, MedAE, R2]\n",
    "reconstruction_acc_df"
   ]
  },
  {
   "cell_type": "markdown",
   "metadata": {},
   "source": [
    "### Save"
   ]
  },
  {
   "cell_type": "code",
   "execution_count": 57,
   "metadata": {
    "ExecuteTime": {
     "end_time": "2020-07-18T18:14:15.340910Z",
     "start_time": "2020-07-18T18:14:15.298352Z"
    }
   },
   "outputs": [],
   "source": [
    "#save_loc = DATA_DIR / 'reconstruction_speed' / (dataset + '.pickle')\n",
    "#ensure_dir(save_loc)\n",
    "#reconstruction_speed_df.to_pickle(save_loc)"
   ]
  },
  {
   "cell_type": "code",
   "execution_count": 58,
   "metadata": {
    "ExecuteTime": {
     "end_time": "2020-07-18T18:14:15.411530Z",
     "start_time": "2020-07-18T18:14:15.342351Z"
    }
   },
   "outputs": [],
   "source": [
    "save_loc = DATA_DIR / 'reconstruction_acc' / (dataset + '.pickle')\n",
    "ensure_dir(save_loc)\n",
    "reconstruction_acc_df.to_pickle(save_loc)"
   ]
  },
  {
   "cell_type": "code",
   "execution_count": null,
   "metadata": {},
   "outputs": [],
   "source": []
  }
 ],
 "metadata": {
  "kernelspec": {
   "display_name": "Python 3",
   "language": "python",
   "name": "python3"
  },
  "language_info": {
   "codemirror_mode": {
    "name": "ipython",
    "version": 3
   },
   "file_extension": ".py",
   "mimetype": "text/x-python",
   "name": "python",
   "nbconvert_exporter": "python",
   "pygments_lexer": "ipython3",
   "version": "3.6.7"
  }
 },
 "nbformat": 4,
 "nbformat_minor": 2
}
