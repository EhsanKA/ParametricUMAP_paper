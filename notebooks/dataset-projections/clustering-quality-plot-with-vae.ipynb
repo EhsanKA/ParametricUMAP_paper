{
 "cells": [
  {
   "cell_type": "code",
   "execution_count": 1,
   "metadata": {
    "ExecuteTime": {
     "end_time": "2020-08-22T17:53:10.592492Z",
     "start_time": "2020-08-22T17:53:09.464176Z"
    }
   },
   "outputs": [
    {
     "name": "stderr",
     "output_type": "stream",
     "text": [
      "/mnt/cube/tsainbur/conda_envs/tpy3/lib/python3.6/site-packages/tqdm/autonotebook/__init__.py:14: TqdmExperimentalWarning: Using `tqdm.autonotebook.tqdm` in notebook mode. Use `tqdm.tqdm` instead to force console mode (e.g. in jupyter console)\n",
      "  \" (e.g. in jupyter console)\", TqdmExperimentalWarning)\n"
     ]
    }
   ],
   "source": [
    "import numpy as np\n",
    "import pandas as pd\n",
    "from tqdm.autonotebook import tqdm\n",
    "import matplotlib.pyplot as plt"
   ]
  },
  {
   "cell_type": "code",
   "execution_count": 2,
   "metadata": {
    "ExecuteTime": {
     "end_time": "2020-08-22T17:53:11.416979Z",
     "start_time": "2020-08-22T17:53:10.594018Z"
    }
   },
   "outputs": [],
   "source": [
    "from sklearn.cluster import KMeans\n",
    "from sklearn.metrics import homogeneity_completeness_v_measure"
   ]
  },
  {
   "cell_type": "code",
   "execution_count": 3,
   "metadata": {
    "ExecuteTime": {
     "end_time": "2020-08-22T17:53:11.466690Z",
     "start_time": "2020-08-22T17:53:11.419287Z"
    }
   },
   "outputs": [],
   "source": [
    "from tfumap.paths import ensure_dir, MODEL_DIR, DATA_DIR"
   ]
  },
  {
   "cell_type": "code",
   "execution_count": 4,
   "metadata": {
    "ExecuteTime": {
     "end_time": "2020-08-22T17:53:12.103653Z",
     "start_time": "2020-08-22T17:53:11.468500Z"
    }
   },
   "outputs": [
    {
     "data": {
      "text/html": [
       "<div>\n",
       "<style scoped>\n",
       "    .dataframe tbody tr th:only-of-type {\n",
       "        vertical-align: middle;\n",
       "    }\n",
       "\n",
       "    .dataframe tbody tr th {\n",
       "        vertical-align: top;\n",
       "    }\n",
       "\n",
       "    .dataframe thead th {\n",
       "        text-align: right;\n",
       "    }\n",
       "</style>\n",
       "<table border=\"1\" class=\"dataframe\">\n",
       "  <thead>\n",
       "    <tr style=\"text-align: right;\">\n",
       "      <th></th>\n",
       "      <th>dataset</th>\n",
       "      <th>class_</th>\n",
       "      <th>dim</th>\n",
       "      <th>silhouette</th>\n",
       "      <th>homogeneity</th>\n",
       "      <th>completeness</th>\n",
       "      <th>v_measure</th>\n",
       "      <th>init_</th>\n",
       "      <th>n_clusters</th>\n",
       "      <th>model</th>\n",
       "    </tr>\n",
       "  </thead>\n",
       "  <tbody>\n",
       "    <tr>\n",
       "      <th>0</th>\n",
       "      <td>mnist</td>\n",
       "      <td>PCA</td>\n",
       "      <td>2</td>\n",
       "      <td>0.377440</td>\n",
       "      <td>0.272552</td>\n",
       "      <td>0.39746</td>\n",
       "      <td>0.323363</td>\n",
       "      <td>0</td>\n",
       "      <td>5</td>\n",
       "      <td>KMeans(n_clusters=5, random_state=0)</td>\n",
       "    </tr>\n",
       "    <tr>\n",
       "      <th>1</th>\n",
       "      <td>mnist</td>\n",
       "      <td>PCA</td>\n",
       "      <td>2</td>\n",
       "      <td>0.377355</td>\n",
       "      <td>0.273045</td>\n",
       "      <td>0.39793</td>\n",
       "      <td>0.323865</td>\n",
       "      <td>1</td>\n",
       "      <td>5</td>\n",
       "      <td>KMeans(n_clusters=5, random_state=1)</td>\n",
       "    </tr>\n",
       "    <tr>\n",
       "      <th>2</th>\n",
       "      <td>mnist</td>\n",
       "      <td>PCA</td>\n",
       "      <td>2</td>\n",
       "      <td>0.377199</td>\n",
       "      <td>0.273357</td>\n",
       "      <td>0.39823</td>\n",
       "      <td>0.324184</td>\n",
       "      <td>2</td>\n",
       "      <td>5</td>\n",
       "      <td>KMeans(n_clusters=5, random_state=2)</td>\n",
       "    </tr>\n",
       "  </tbody>\n",
       "</table>\n",
       "</div>"
      ],
      "text/plain": [
       "  dataset class_ dim  silhouette  homogeneity  completeness  v_measure init_  \\\n",
       "0   mnist    PCA   2    0.377440     0.272552       0.39746   0.323363     0   \n",
       "1   mnist    PCA   2    0.377355     0.273045       0.39793   0.323865     1   \n",
       "2   mnist    PCA   2    0.377199     0.273357       0.39823   0.324184     2   \n",
       "\n",
       "  n_clusters                                 model  \n",
       "0          5  KMeans(n_clusters=5, random_state=0)  \n",
       "1          5  KMeans(n_clusters=5, random_state=1)  \n",
       "2          5  KMeans(n_clusters=5, random_state=2)  "
      ]
     },
     "execution_count": 4,
     "metadata": {},
     "output_type": "execute_result"
    }
   ],
   "source": [
    "metrics_df = pd.concat([pd.read_pickle(i) for i in list((DATA_DIR / 'clustering_metric_df').glob('*.pickle'))])\n",
    "metrics_df[:3]"
   ]
  },
  {
   "cell_type": "code",
   "execution_count": 5,
   "metadata": {
    "ExecuteTime": {
     "end_time": "2020-08-22T17:53:12.125589Z",
     "start_time": "2020-08-22T17:53:12.104917Z"
    }
   },
   "outputs": [
    {
     "data": {
      "text/html": [
       "<div>\n",
       "<style scoped>\n",
       "    .dataframe tbody tr th:only-of-type {\n",
       "        vertical-align: middle;\n",
       "    }\n",
       "\n",
       "    .dataframe tbody tr th {\n",
       "        vertical-align: top;\n",
       "    }\n",
       "\n",
       "    .dataframe thead th {\n",
       "        text-align: right;\n",
       "    }\n",
       "</style>\n",
       "<table border=\"1\" class=\"dataframe\">\n",
       "  <thead>\n",
       "    <tr style=\"text-align: right;\">\n",
       "      <th></th>\n",
       "      <th>dataset</th>\n",
       "      <th>class_</th>\n",
       "      <th>dim</th>\n",
       "      <th>silhouette</th>\n",
       "      <th>homogeneity</th>\n",
       "      <th>completeness</th>\n",
       "      <th>v_measure</th>\n",
       "      <th>init_</th>\n",
       "      <th>n_clusters</th>\n",
       "      <th>model</th>\n",
       "    </tr>\n",
       "  </thead>\n",
       "  <tbody>\n",
       "    <tr>\n",
       "      <th>0</th>\n",
       "      <td>mnist</td>\n",
       "      <td>PCA</td>\n",
       "      <td>2</td>\n",
       "      <td>0.377440</td>\n",
       "      <td>0.272552</td>\n",
       "      <td>0.397460</td>\n",
       "      <td>0.323363</td>\n",
       "      <td>0</td>\n",
       "      <td>5</td>\n",
       "      <td>KMeans(n_clusters=5, random_state=0)</td>\n",
       "    </tr>\n",
       "    <tr>\n",
       "      <th>1</th>\n",
       "      <td>mnist</td>\n",
       "      <td>PCA</td>\n",
       "      <td>2</td>\n",
       "      <td>0.377355</td>\n",
       "      <td>0.273045</td>\n",
       "      <td>0.397930</td>\n",
       "      <td>0.323865</td>\n",
       "      <td>1</td>\n",
       "      <td>5</td>\n",
       "      <td>KMeans(n_clusters=5, random_state=1)</td>\n",
       "    </tr>\n",
       "    <tr>\n",
       "      <th>2</th>\n",
       "      <td>mnist</td>\n",
       "      <td>PCA</td>\n",
       "      <td>2</td>\n",
       "      <td>0.377199</td>\n",
       "      <td>0.273357</td>\n",
       "      <td>0.398230</td>\n",
       "      <td>0.324184</td>\n",
       "      <td>2</td>\n",
       "      <td>5</td>\n",
       "      <td>KMeans(n_clusters=5, random_state=2)</td>\n",
       "    </tr>\n",
       "    <tr>\n",
       "      <th>3</th>\n",
       "      <td>mnist</td>\n",
       "      <td>PCA</td>\n",
       "      <td>2</td>\n",
       "      <td>0.377346</td>\n",
       "      <td>0.273049</td>\n",
       "      <td>0.397946</td>\n",
       "      <td>0.323874</td>\n",
       "      <td>3</td>\n",
       "      <td>5</td>\n",
       "      <td>KMeans(n_clusters=5, random_state=3)</td>\n",
       "    </tr>\n",
       "    <tr>\n",
       "      <th>4</th>\n",
       "      <td>mnist</td>\n",
       "      <td>PCA</td>\n",
       "      <td>2</td>\n",
       "      <td>0.377413</td>\n",
       "      <td>0.272501</td>\n",
       "      <td>0.397373</td>\n",
       "      <td>0.323298</td>\n",
       "      <td>4</td>\n",
       "      <td>5</td>\n",
       "      <td>KMeans(n_clusters=5, random_state=4)</td>\n",
       "    </tr>\n",
       "    <tr>\n",
       "      <th>...</th>\n",
       "      <td>...</td>\n",
       "      <td>...</td>\n",
       "      <td>...</td>\n",
       "      <td>...</td>\n",
       "      <td>...</td>\n",
       "      <td>...</td>\n",
       "      <td>...</td>\n",
       "      <td>...</td>\n",
       "      <td>...</td>\n",
       "      <td>...</td>\n",
       "    </tr>\n",
       "    <tr>\n",
       "      <th>45</th>\n",
       "      <td>fmnist</td>\n",
       "      <td>vae</td>\n",
       "      <td>2</td>\n",
       "      <td>0.375252</td>\n",
       "      <td>0.575557</td>\n",
       "      <td>0.511677</td>\n",
       "      <td>0.541740</td>\n",
       "      <td>0</td>\n",
       "      <td>14</td>\n",
       "      <td>KMeans(n_clusters=14, random_state=0)</td>\n",
       "    </tr>\n",
       "    <tr>\n",
       "      <th>46</th>\n",
       "      <td>fmnist</td>\n",
       "      <td>vae</td>\n",
       "      <td>2</td>\n",
       "      <td>0.374912</td>\n",
       "      <td>0.575514</td>\n",
       "      <td>0.511521</td>\n",
       "      <td>0.541634</td>\n",
       "      <td>1</td>\n",
       "      <td>14</td>\n",
       "      <td>KMeans(n_clusters=14, random_state=1)</td>\n",
       "    </tr>\n",
       "    <tr>\n",
       "      <th>47</th>\n",
       "      <td>fmnist</td>\n",
       "      <td>vae</td>\n",
       "      <td>2</td>\n",
       "      <td>0.374924</td>\n",
       "      <td>0.575444</td>\n",
       "      <td>0.511468</td>\n",
       "      <td>0.541573</td>\n",
       "      <td>2</td>\n",
       "      <td>14</td>\n",
       "      <td>KMeans(n_clusters=14, random_state=2)</td>\n",
       "    </tr>\n",
       "    <tr>\n",
       "      <th>48</th>\n",
       "      <td>fmnist</td>\n",
       "      <td>vae</td>\n",
       "      <td>2</td>\n",
       "      <td>0.374862</td>\n",
       "      <td>0.575051</td>\n",
       "      <td>0.511110</td>\n",
       "      <td>0.541198</td>\n",
       "      <td>3</td>\n",
       "      <td>14</td>\n",
       "      <td>KMeans(n_clusters=14, random_state=3)</td>\n",
       "    </tr>\n",
       "    <tr>\n",
       "      <th>49</th>\n",
       "      <td>fmnist</td>\n",
       "      <td>vae</td>\n",
       "      <td>2</td>\n",
       "      <td>0.374872</td>\n",
       "      <td>0.575227</td>\n",
       "      <td>0.511292</td>\n",
       "      <td>0.541378</td>\n",
       "      <td>4</td>\n",
       "      <td>14</td>\n",
       "      <td>KMeans(n_clusters=14, random_state=4)</td>\n",
       "    </tr>\n",
       "  </tbody>\n",
       "</table>\n",
       "<p>5470 rows × 10 columns</p>\n",
       "</div>"
      ],
      "text/plain": [
       "   dataset class_ dim  silhouette  homogeneity  completeness  v_measure init_  \\\n",
       "0    mnist    PCA   2    0.377440     0.272552      0.397460   0.323363     0   \n",
       "1    mnist    PCA   2    0.377355     0.273045      0.397930   0.323865     1   \n",
       "2    mnist    PCA   2    0.377199     0.273357      0.398230   0.324184     2   \n",
       "3    mnist    PCA   2    0.377346     0.273049      0.397946   0.323874     3   \n",
       "4    mnist    PCA   2    0.377413     0.272501      0.397373   0.323298     4   \n",
       "..     ...    ...  ..         ...          ...           ...        ...   ...   \n",
       "45  fmnist    vae   2    0.375252     0.575557      0.511677   0.541740     0   \n",
       "46  fmnist    vae   2    0.374912     0.575514      0.511521   0.541634     1   \n",
       "47  fmnist    vae   2    0.374924     0.575444      0.511468   0.541573     2   \n",
       "48  fmnist    vae   2    0.374862     0.575051      0.511110   0.541198     3   \n",
       "49  fmnist    vae   2    0.374872     0.575227      0.511292   0.541378     4   \n",
       "\n",
       "   n_clusters                                  model  \n",
       "0           5   KMeans(n_clusters=5, random_state=0)  \n",
       "1           5   KMeans(n_clusters=5, random_state=1)  \n",
       "2           5   KMeans(n_clusters=5, random_state=2)  \n",
       "3           5   KMeans(n_clusters=5, random_state=3)  \n",
       "4           5   KMeans(n_clusters=5, random_state=4)  \n",
       "..        ...                                    ...  \n",
       "45         14  KMeans(n_clusters=14, random_state=0)  \n",
       "46         14  KMeans(n_clusters=14, random_state=1)  \n",
       "47         14  KMeans(n_clusters=14, random_state=2)  \n",
       "48         14  KMeans(n_clusters=14, random_state=3)  \n",
       "49         14  KMeans(n_clusters=14, random_state=4)  \n",
       "\n",
       "[5470 rows x 10 columns]"
      ]
     },
     "execution_count": 5,
     "metadata": {},
     "output_type": "execute_result"
    }
   ],
   "source": [
    "metrics_df"
   ]
  },
  {
   "cell_type": "code",
   "execution_count": 6,
   "metadata": {
    "ExecuteTime": {
     "end_time": "2020-08-22T17:53:12.129918Z",
     "start_time": "2020-08-22T17:53:12.127131Z"
    }
   },
   "outputs": [
    {
     "data": {
      "text/plain": [
       "array(['PCA', 'ae_only', 'autoencoder', 'direct', 'vae', 'network',\n",
       "       'umap-learn', 'TSNE', 'parametric-tsne'], dtype=object)"
      ]
     },
     "execution_count": 6,
     "metadata": {},
     "output_type": "execute_result"
    }
   ],
   "source": [
    "metrics_df.class_.unique()"
   ]
  },
  {
   "cell_type": "code",
   "execution_count": null,
   "metadata": {
    "ExecuteTime": {
     "end_time": "2020-07-23T21:49:14.250057Z",
     "start_time": "2020-07-23T21:49:14.227908Z"
    }
   },
   "outputs": [],
   "source": []
  },
  {
   "cell_type": "code",
   "execution_count": 7,
   "metadata": {
    "ExecuteTime": {
     "end_time": "2020-08-22T17:53:12.306429Z",
     "start_time": "2020-08-22T17:53:12.130976Z"
    }
   },
   "outputs": [],
   "source": [
    "import seaborn as sns"
   ]
  },
  {
   "cell_type": "code",
   "execution_count": 8,
   "metadata": {
    "ExecuteTime": {
     "end_time": "2020-08-22T17:53:12.524284Z",
     "start_time": "2020-08-22T17:53:12.308169Z"
    }
   },
   "outputs": [
    {
     "data": {
      "image/png": "[encoded data removed]",
      "text/plain": [
       "<Figure size 1440x72 with 1 Axes>"
      ]
     },
     "metadata": {
      "needs_background": "light"
     },
     "output_type": "display_data"
    },
    {
     "data": {
      "image/png": "[encoded data removed]",
      "text/plain": [
       "<Figure size 864x72 with 1 Axes>"
      ]
     },
     "metadata": {
      "needs_background": "light"
     },
     "output_type": "display_data"
    }
   ],
   "source": [
    "pal20c = sns.color_palette('tab20c', 20)\n",
    "sns.palplot(pal20c)\n",
    "hue_dict = {\n",
    "    \"umap-learn\": list(np.array(pal20c[3])**4),\n",
    "    \"direct\": pal20c[2],\n",
    "    \"AE\": pal20c[1],\n",
    "    \"autoencoder\": pal20c[1],\n",
    "    \"network\": pal20c[0],\n",
    "    'vae':  pal20c[8], \n",
    "    'ae_only':  pal20c[9],\n",
    "    \"pca\":  pal20c[12],\n",
    "    \"PCA\":  pal20c[12],\n",
    "    \"TSNE\": pal20c[4], \n",
    "    \"parametric-tsne\":pal20c[5],\n",
    "    \"network-cpu\": pal20c[2],\n",
    "\n",
    "}\n",
    "sns.palplot([hue_dict[i] for i in hue_dict.keys()])"
   ]
  },
  {
   "cell_type": "code",
   "execution_count": 9,
   "metadata": {
    "ExecuteTime": {
     "end_time": "2020-08-22T17:53:12.528191Z",
     "start_time": "2020-08-22T17:53:12.525737Z"
    }
   },
   "outputs": [],
   "source": [
    "hue_list = [\"TSNE\", \"parametric-tsne\", \"umap-learn\",  \"network\", \"autoencoder\", 'vae', 'ae_only',  \"PCA\"]"
   ]
  },
  {
   "cell_type": "code",
   "execution_count": 10,
   "metadata": {
    "ExecuteTime": {
     "end_time": "2020-08-22T17:53:16.073772Z",
     "start_time": "2020-08-22T17:53:12.529292Z"
    }
   },
   "outputs": [
    {
     "data": {
      "image/png": "[encoded data removed]",
      "text/plain": [
       "<Figure size 1916x180 with 2 Axes>"
      ]
     },
     "metadata": {
      "needs_background": "light"
     },
     "output_type": "display_data"
    }
   ],
   "source": [
    "fg = sns.catplot(\n",
    "    x=\"n_clusters\",\n",
    "    y=\"v_measure\",\n",
    "    hue=\"class_\",\n",
    "    hue_order=hue_list,\n",
    "    #order = ['mnist', 'fmnist', 'macosko2015', 'cassins_dtw', 'cifar10'],\n",
    "    col=\"dim\",\n",
    "    height=2.5, \n",
    "    aspect=5,\n",
    "    data=metrics_df[metrics_df.dataset == 'fmnist'],\n",
    "    kind=\"bar\",\n",
    "    palette=[hue_dict[i] for i in hue_list],\n",
    "    #legend=False\n",
    ")\n",
    "(fg.despine(bottom=True)\n",
    " #.set_xticklabels(['MNIST', 'FMNIST', 'Retina', 'Cassin\\'s', 'CIFAR10'])\n",
    " .set_axis_labels(\"\", \"Silhouette Score\")\n",
    ")\n",
    "ax = fg.axes[0][0]\n",
    "ax.tick_params(axis=u'both', which=u'both',length=0)\n",
    "fg._legend._legend_title_box._text.set_text(\"\")\n",
    "\n",
    "ax.set_title('2 Dimensions')\n",
    "\n",
    "\n",
    "\n",
    "fg._legend.texts[np.where((np.array([i._text for i in fg._legend.texts]) == 'umap-learn'))[0][0]].set_text('UMAP-learn')\n",
    "fg._legend.texts[np.where((np.array([i._text for i in fg._legend.texts]) == 'network'))[0][0]].set_text('P. UMAP')\n",
    "fg._legend.texts[np.where((np.array([i._text for i in fg._legend.texts]) == 'autoencoder'))[0][0]].set_text('UMAP AE')\n",
    "fg._legend.texts[np.where((np.array([i._text for i in fg._legend.texts]) == 'parametric-tsne'))[0][0]].set_text('P. TSNE')\n",
    "fg._legend.texts[np.where((np.array([i._text for i in fg._legend.texts]) == 'vae'))[0][0]].set_text('VAE')\n",
    "\n",
    "#save_fig(FIGURE_DIR/'silhouette-test', save_pdf=True, dpi=300)"
   ]
  },
  {
   "cell_type": "code",
   "execution_count": 11,
   "metadata": {
    "ExecuteTime": {
     "end_time": "2020-08-22T17:53:16.086418Z",
     "start_time": "2020-08-22T17:53:16.075265Z"
    }
   },
   "outputs": [
    {
     "data": {
      "text/html": [
       "<div>\n",
       "<style scoped>\n",
       "    .dataframe tbody tr th:only-of-type {\n",
       "        vertical-align: middle;\n",
       "    }\n",
       "\n",
       "    .dataframe tbody tr th {\n",
       "        vertical-align: top;\n",
       "    }\n",
       "\n",
       "    .dataframe thead th {\n",
       "        text-align: right;\n",
       "    }\n",
       "</style>\n",
       "<table border=\"1\" class=\"dataframe\">\n",
       "  <thead>\n",
       "    <tr style=\"text-align: right;\">\n",
       "      <th></th>\n",
       "      <th>dataset</th>\n",
       "      <th>class_</th>\n",
       "      <th>dim</th>\n",
       "      <th>silhouette</th>\n",
       "      <th>homogeneity</th>\n",
       "      <th>completeness</th>\n",
       "      <th>v_measure</th>\n",
       "      <th>init_</th>\n",
       "      <th>n_clusters</th>\n",
       "      <th>model</th>\n",
       "    </tr>\n",
       "  </thead>\n",
       "  <tbody>\n",
       "    <tr>\n",
       "      <th>0</th>\n",
       "      <td>mnist</td>\n",
       "      <td>PCA</td>\n",
       "      <td>2</td>\n",
       "      <td>0.377440</td>\n",
       "      <td>0.272552</td>\n",
       "      <td>0.39746</td>\n",
       "      <td>0.323363</td>\n",
       "      <td>0</td>\n",
       "      <td>5</td>\n",
       "      <td>KMeans(n_clusters=5, random_state=0)</td>\n",
       "    </tr>\n",
       "    <tr>\n",
       "      <th>1</th>\n",
       "      <td>mnist</td>\n",
       "      <td>PCA</td>\n",
       "      <td>2</td>\n",
       "      <td>0.377355</td>\n",
       "      <td>0.273045</td>\n",
       "      <td>0.39793</td>\n",
       "      <td>0.323865</td>\n",
       "      <td>1</td>\n",
       "      <td>5</td>\n",
       "      <td>KMeans(n_clusters=5, random_state=1)</td>\n",
       "    </tr>\n",
       "    <tr>\n",
       "      <th>2</th>\n",
       "      <td>mnist</td>\n",
       "      <td>PCA</td>\n",
       "      <td>2</td>\n",
       "      <td>0.377199</td>\n",
       "      <td>0.273357</td>\n",
       "      <td>0.39823</td>\n",
       "      <td>0.324184</td>\n",
       "      <td>2</td>\n",
       "      <td>5</td>\n",
       "      <td>KMeans(n_clusters=5, random_state=2)</td>\n",
       "    </tr>\n",
       "  </tbody>\n",
       "</table>\n",
       "</div>"
      ],
      "text/plain": [
       "  dataset class_ dim  silhouette  homogeneity  completeness  v_measure init_  \\\n",
       "0   mnist    PCA   2    0.377440     0.272552       0.39746   0.323363     0   \n",
       "1   mnist    PCA   2    0.377355     0.273045       0.39793   0.323865     1   \n",
       "2   mnist    PCA   2    0.377199     0.273357       0.39823   0.324184     2   \n",
       "\n",
       "  n_clusters                                 model  \n",
       "0          5  KMeans(n_clusters=5, random_state=0)  \n",
       "1          5  KMeans(n_clusters=5, random_state=1)  \n",
       "2          5  KMeans(n_clusters=5, random_state=2)  "
      ]
     },
     "execution_count": 11,
     "metadata": {},
     "output_type": "execute_result"
    }
   ],
   "source": [
    "metrics_df[:3]"
   ]
  },
  {
   "cell_type": "code",
   "execution_count": 12,
   "metadata": {
    "ExecuteTime": {
     "end_time": "2020-08-22T17:53:16.121179Z",
     "start_time": "2020-08-22T17:53:16.087546Z"
    }
   },
   "outputs": [
    {
     "data": {
      "text/html": [
       "<div>\n",
       "<style scoped>\n",
       "    .dataframe tbody tr th:only-of-type {\n",
       "        vertical-align: middle;\n",
       "    }\n",
       "\n",
       "    .dataframe tbody tr th {\n",
       "        vertical-align: top;\n",
       "    }\n",
       "\n",
       "    .dataframe thead th {\n",
       "        text-align: right;\n",
       "    }\n",
       "</style>\n",
       "<table border=\"1\" class=\"dataframe\">\n",
       "  <thead>\n",
       "    <tr style=\"text-align: right;\">\n",
       "      <th></th>\n",
       "      <th>dataset</th>\n",
       "      <th>class_</th>\n",
       "      <th>dim</th>\n",
       "      <th>silhouette</th>\n",
       "      <th>homogeneity</th>\n",
       "      <th>completeness</th>\n",
       "      <th>v_measure</th>\n",
       "      <th>init_</th>\n",
       "      <th>n_clusters</th>\n",
       "      <th>model</th>\n",
       "    </tr>\n",
       "  </thead>\n",
       "  <tbody>\n",
       "    <tr>\n",
       "      <th>0</th>\n",
       "      <td>cassins_dtw</td>\n",
       "      <td>ae_only</td>\n",
       "      <td>2</td>\n",
       "      <td>0.406004</td>\n",
       "      <td>0.303372</td>\n",
       "      <td>0.550551</td>\n",
       "      <td>0.391187</td>\n",
       "      <td>0</td>\n",
       "      <td>10</td>\n",
       "      <td>KMeans(n_clusters=10, random_state=0)</td>\n",
       "    </tr>\n",
       "    <tr>\n",
       "      <th>1</th>\n",
       "      <td>cassins_dtw</td>\n",
       "      <td>ae_only</td>\n",
       "      <td>2</td>\n",
       "      <td>0.406065</td>\n",
       "      <td>0.303442</td>\n",
       "      <td>0.550766</td>\n",
       "      <td>0.391299</td>\n",
       "      <td>1</td>\n",
       "      <td>10</td>\n",
       "      <td>KMeans(n_clusters=10, random_state=1)</td>\n",
       "    </tr>\n",
       "    <tr>\n",
       "      <th>2</th>\n",
       "      <td>cassins_dtw</td>\n",
       "      <td>ae_only</td>\n",
       "      <td>2</td>\n",
       "      <td>0.406113</td>\n",
       "      <td>0.303368</td>\n",
       "      <td>0.550724</td>\n",
       "      <td>0.391227</td>\n",
       "      <td>2</td>\n",
       "      <td>10</td>\n",
       "      <td>KMeans(n_clusters=10, random_state=2)</td>\n",
       "    </tr>\n",
       "    <tr>\n",
       "      <th>3</th>\n",
       "      <td>cassins_dtw</td>\n",
       "      <td>ae_only</td>\n",
       "      <td>2</td>\n",
       "      <td>0.406105</td>\n",
       "      <td>0.303386</td>\n",
       "      <td>0.550709</td>\n",
       "      <td>0.391238</td>\n",
       "      <td>3</td>\n",
       "      <td>10</td>\n",
       "      <td>KMeans(n_clusters=10, random_state=3)</td>\n",
       "    </tr>\n",
       "    <tr>\n",
       "      <th>4</th>\n",
       "      <td>cassins_dtw</td>\n",
       "      <td>ae_only</td>\n",
       "      <td>2</td>\n",
       "      <td>0.406191</td>\n",
       "      <td>0.303576</td>\n",
       "      <td>0.551096</td>\n",
       "      <td>0.391494</td>\n",
       "      <td>4</td>\n",
       "      <td>10</td>\n",
       "      <td>KMeans(n_clusters=10, random_state=4)</td>\n",
       "    </tr>\n",
       "    <tr>\n",
       "      <th>...</th>\n",
       "      <td>...</td>\n",
       "      <td>...</td>\n",
       "      <td>...</td>\n",
       "      <td>...</td>\n",
       "      <td>...</td>\n",
       "      <td>...</td>\n",
       "      <td>...</td>\n",
       "      <td>...</td>\n",
       "      <td>...</td>\n",
       "      <td>...</td>\n",
       "    </tr>\n",
       "    <tr>\n",
       "      <th>95</th>\n",
       "      <td>cassins_dtw</td>\n",
       "      <td>ae_only</td>\n",
       "      <td>2</td>\n",
       "      <td>0.439537</td>\n",
       "      <td>0.586736</td>\n",
       "      <td>0.610595</td>\n",
       "      <td>0.598428</td>\n",
       "      <td>0</td>\n",
       "      <td>29</td>\n",
       "      <td>KMeans(n_clusters=29, random_state=0)</td>\n",
       "    </tr>\n",
       "    <tr>\n",
       "      <th>96</th>\n",
       "      <td>cassins_dtw</td>\n",
       "      <td>ae_only</td>\n",
       "      <td>2</td>\n",
       "      <td>0.434805</td>\n",
       "      <td>0.563134</td>\n",
       "      <td>0.603179</td>\n",
       "      <td>0.582469</td>\n",
       "      <td>1</td>\n",
       "      <td>29</td>\n",
       "      <td>KMeans(n_clusters=29, random_state=1)</td>\n",
       "    </tr>\n",
       "    <tr>\n",
       "      <th>97</th>\n",
       "      <td>cassins_dtw</td>\n",
       "      <td>ae_only</td>\n",
       "      <td>2</td>\n",
       "      <td>0.437031</td>\n",
       "      <td>0.540524</td>\n",
       "      <td>0.591563</td>\n",
       "      <td>0.564893</td>\n",
       "      <td>2</td>\n",
       "      <td>29</td>\n",
       "      <td>KMeans(n_clusters=29, random_state=2)</td>\n",
       "    </tr>\n",
       "    <tr>\n",
       "      <th>98</th>\n",
       "      <td>cassins_dtw</td>\n",
       "      <td>ae_only</td>\n",
       "      <td>2</td>\n",
       "      <td>0.434973</td>\n",
       "      <td>0.563468</td>\n",
       "      <td>0.603589</td>\n",
       "      <td>0.582839</td>\n",
       "      <td>3</td>\n",
       "      <td>29</td>\n",
       "      <td>KMeans(n_clusters=29, random_state=3)</td>\n",
       "    </tr>\n",
       "    <tr>\n",
       "      <th>99</th>\n",
       "      <td>cassins_dtw</td>\n",
       "      <td>ae_only</td>\n",
       "      <td>2</td>\n",
       "      <td>0.435251</td>\n",
       "      <td>0.541636</td>\n",
       "      <td>0.590887</td>\n",
       "      <td>0.565191</td>\n",
       "      <td>4</td>\n",
       "      <td>29</td>\n",
       "      <td>KMeans(n_clusters=29, random_state=4)</td>\n",
       "    </tr>\n",
       "  </tbody>\n",
       "</table>\n",
       "<p>300 rows × 10 columns</p>\n",
       "</div>"
      ],
      "text/plain": [
       "        dataset   class_ dim  silhouette  homogeneity  completeness  \\\n",
       "0   cassins_dtw  ae_only   2    0.406004     0.303372      0.550551   \n",
       "1   cassins_dtw  ae_only   2    0.406065     0.303442      0.550766   \n",
       "2   cassins_dtw  ae_only   2    0.406113     0.303368      0.550724   \n",
       "3   cassins_dtw  ae_only   2    0.406105     0.303386      0.550709   \n",
       "4   cassins_dtw  ae_only   2    0.406191     0.303576      0.551096   \n",
       "..          ...      ...  ..         ...          ...           ...   \n",
       "95  cassins_dtw  ae_only   2    0.439537     0.586736      0.610595   \n",
       "96  cassins_dtw  ae_only   2    0.434805     0.563134      0.603179   \n",
       "97  cassins_dtw  ae_only   2    0.437031     0.540524      0.591563   \n",
       "98  cassins_dtw  ae_only   2    0.434973     0.563468      0.603589   \n",
       "99  cassins_dtw  ae_only   2    0.435251     0.541636      0.590887   \n",
       "\n",
       "    v_measure init_ n_clusters                                  model  \n",
       "0    0.391187     0         10  KMeans(n_clusters=10, random_state=0)  \n",
       "1    0.391299     1         10  KMeans(n_clusters=10, random_state=1)  \n",
       "2    0.391227     2         10  KMeans(n_clusters=10, random_state=2)  \n",
       "3    0.391238     3         10  KMeans(n_clusters=10, random_state=3)  \n",
       "4    0.391494     4         10  KMeans(n_clusters=10, random_state=4)  \n",
       "..        ...   ...        ...                                    ...  \n",
       "95   0.598428     0         29  KMeans(n_clusters=29, random_state=0)  \n",
       "96   0.582469     1         29  KMeans(n_clusters=29, random_state=1)  \n",
       "97   0.564893     2         29  KMeans(n_clusters=29, random_state=2)  \n",
       "98   0.582839     3         29  KMeans(n_clusters=29, random_state=3)  \n",
       "99   0.565191     4         29  KMeans(n_clusters=29, random_state=4)  \n",
       "\n",
       "[300 rows x 10 columns]"
      ]
     },
     "execution_count": 12,
     "metadata": {},
     "output_type": "execute_result"
    }
   ],
   "source": [
    "metrics_df[(metrics_df.dataset == 'cassins_dtw') & (metrics_df.class_ == 'ae_only')]"
   ]
  },
  {
   "cell_type": "code",
   "execution_count": 13,
   "metadata": {
    "ExecuteTime": {
     "end_time": "2020-08-22T17:53:16.135049Z",
     "start_time": "2020-08-22T17:53:16.122243Z"
    }
   },
   "outputs": [
    {
     "data": {
      "text/plain": [
       "array([2, 64], dtype=object)"
      ]
     },
     "execution_count": 13,
     "metadata": {},
     "output_type": "execute_result"
    }
   ],
   "source": [
    "metrics_df[(metrics_df.dataset == 'cassins_dtw') & (metrics_df.class_ == 'ae_only')].dim.unique()"
   ]
  },
  {
   "cell_type": "markdown",
   "metadata": {},
   "source": [
    "### plot on the basis of the best silhouette score"
   ]
  },
  {
   "cell_type": "code",
   "execution_count": 14,
   "metadata": {
    "ExecuteTime": {
     "end_time": "2020-08-22T17:53:16.244979Z",
     "start_time": "2020-08-22T17:53:16.136832Z"
    }
   },
   "outputs": [
    {
     "name": "stderr",
     "output_type": "stream",
     "text": [
      "/mnt/cube/tsainbur/conda_envs/tpy3/lib/python3.6/site-packages/numpy/core/fromnumeric.py:61: FutureWarning: \n",
      "The current behaviour of 'Series.argmax' is deprecated, use 'idxmax'\n",
      "instead.\n",
      "The behavior of 'argmax' will be corrected to return the positional\n",
      "maximum in the future. For now, use 'series.values.argmax' or\n",
      "'np.argmax(np.array(values))' to get the position of the maximum\n",
      "row.\n",
      "  return bound(*args, **kwds)\n"
     ]
    }
   ],
   "source": [
    "### get the best silhouette score for each dataset, class_, dim_\n",
    "metrics_df_max_iter = []\n",
    "for dataset in metrics_df.dataset.unique():\n",
    "    for class_ in metrics_df.class_.unique():\n",
    "        for dim in metrics_df.dim.unique():\n",
    "            subset_df = metrics_df[\n",
    "                (dataset == metrics_df.dataset.values) &\n",
    "                (class_ == metrics_df.class_.values) &\n",
    "                (dim == metrics_df.dim.values) \n",
    "            ]\n",
    "            if len(subset_df) > 0:\n",
    "                #print(np.argmax(subset_df.silhouette))\n",
    "                metrics_df_max_iter.append(subset_df.iloc[np.argmax(subset_df.silhouette)])"
   ]
  },
  {
   "cell_type": "code",
   "execution_count": 15,
   "metadata": {
    "ExecuteTime": {
     "end_time": "2020-08-22T17:53:16.263762Z",
     "start_time": "2020-08-22T17:53:16.246311Z"
    }
   },
   "outputs": [
    {
     "data": {
      "text/html": [
       "<div>\n",
       "<style scoped>\n",
       "    .dataframe tbody tr th:only-of-type {\n",
       "        vertical-align: middle;\n",
       "    }\n",
       "\n",
       "    .dataframe tbody tr th {\n",
       "        vertical-align: top;\n",
       "    }\n",
       "\n",
       "    .dataframe thead th {\n",
       "        text-align: right;\n",
       "    }\n",
       "</style>\n",
       "<table border=\"1\" class=\"dataframe\">\n",
       "  <thead>\n",
       "    <tr style=\"text-align: right;\">\n",
       "      <th></th>\n",
       "      <th>index</th>\n",
       "      <th>dataset</th>\n",
       "      <th>class_</th>\n",
       "      <th>dim</th>\n",
       "      <th>silhouette</th>\n",
       "      <th>homogeneity</th>\n",
       "      <th>completeness</th>\n",
       "      <th>v_measure</th>\n",
       "      <th>init_</th>\n",
       "      <th>n_clusters</th>\n",
       "      <th>model</th>\n",
       "    </tr>\n",
       "  </thead>\n",
       "  <tbody>\n",
       "    <tr>\n",
       "      <th>0</th>\n",
       "      <td>0</td>\n",
       "      <td>mnist</td>\n",
       "      <td>PCA</td>\n",
       "      <td>2</td>\n",
       "      <td>0.37744</td>\n",
       "      <td>0.272552</td>\n",
       "      <td>0.39746</td>\n",
       "      <td>0.323363</td>\n",
       "      <td>0</td>\n",
       "      <td>5</td>\n",
       "      <td>KMeans(n_clusters=5, random_state=0)</td>\n",
       "    </tr>\n",
       "    <tr>\n",
       "      <th>1</th>\n",
       "      <td>18</td>\n",
       "      <td>mnist</td>\n",
       "      <td>PCA</td>\n",
       "      <td>64</td>\n",
       "      <td>0.0912846</td>\n",
       "      <td>0.472775</td>\n",
       "      <td>0.53284</td>\n",
       "      <td>0.501013</td>\n",
       "      <td>3</td>\n",
       "      <td>8</td>\n",
       "      <td>KMeans(random_state=3)</td>\n",
       "    </tr>\n",
       "    <tr>\n",
       "      <th>2</th>\n",
       "      <td>5</td>\n",
       "      <td>mnist</td>\n",
       "      <td>ae_only</td>\n",
       "      <td>2</td>\n",
       "      <td>0.493923</td>\n",
       "      <td>0.307547</td>\n",
       "      <td>0.611768</td>\n",
       "      <td>0.409321</td>\n",
       "      <td>0</td>\n",
       "      <td>6</td>\n",
       "      <td>KMeans(n_clusters=6, random_state=0)</td>\n",
       "    </tr>\n",
       "  </tbody>\n",
       "</table>\n",
       "</div>"
      ],
      "text/plain": [
       "   index dataset   class_ dim silhouette homogeneity completeness v_measure  \\\n",
       "0      0   mnist      PCA   2    0.37744    0.272552      0.39746  0.323363   \n",
       "1     18   mnist      PCA  64  0.0912846    0.472775      0.53284  0.501013   \n",
       "2      5   mnist  ae_only   2   0.493923    0.307547     0.611768  0.409321   \n",
       "\n",
       "  init_ n_clusters                                 model  \n",
       "0     0          5  KMeans(n_clusters=5, random_state=0)  \n",
       "1     3          8                KMeans(random_state=3)  \n",
       "2     0          6  KMeans(n_clusters=6, random_state=0)  "
      ]
     },
     "execution_count": 15,
     "metadata": {},
     "output_type": "execute_result"
    }
   ],
   "source": [
    "metrics_max_df = pd.concat(metrics_df_max_iter, axis=1).T.reset_index()\n",
    "metrics_max_df[:3]"
   ]
  },
  {
   "cell_type": "code",
   "execution_count": 16,
   "metadata": {
    "ExecuteTime": {
     "end_time": "2020-08-22T17:53:16.286841Z",
     "start_time": "2020-08-22T17:53:16.265111Z"
    }
   },
   "outputs": [
    {
     "data": {
      "text/html": [
       "<div>\n",
       "<style scoped>\n",
       "    .dataframe tbody tr th:only-of-type {\n",
       "        vertical-align: middle;\n",
       "    }\n",
       "\n",
       "    .dataframe tbody tr th {\n",
       "        vertical-align: top;\n",
       "    }\n",
       "\n",
       "    .dataframe thead th {\n",
       "        text-align: right;\n",
       "    }\n",
       "</style>\n",
       "<table border=\"1\" class=\"dataframe\">\n",
       "  <thead>\n",
       "    <tr style=\"text-align: right;\">\n",
       "      <th></th>\n",
       "      <th>index</th>\n",
       "      <th>dataset</th>\n",
       "      <th>class_</th>\n",
       "      <th>dim</th>\n",
       "      <th>silhouette</th>\n",
       "      <th>homogeneity</th>\n",
       "      <th>completeness</th>\n",
       "      <th>v_measure</th>\n",
       "      <th>init_</th>\n",
       "      <th>n_clusters</th>\n",
       "      <th>model</th>\n",
       "    </tr>\n",
       "  </thead>\n",
       "  <tbody>\n",
       "    <tr>\n",
       "      <th>0</th>\n",
       "      <td>0</td>\n",
       "      <td>mnist</td>\n",
       "      <td>PCA</td>\n",
       "      <td>2</td>\n",
       "      <td>0.37744</td>\n",
       "      <td>0.272552</td>\n",
       "      <td>0.39746</td>\n",
       "      <td>0.323363</td>\n",
       "      <td>0</td>\n",
       "      <td>5</td>\n",
       "      <td>KMeans(n_clusters=5, random_state=0)</td>\n",
       "    </tr>\n",
       "    <tr>\n",
       "      <th>1</th>\n",
       "      <td>18</td>\n",
       "      <td>mnist</td>\n",
       "      <td>PCA</td>\n",
       "      <td>64</td>\n",
       "      <td>0.0912846</td>\n",
       "      <td>0.472775</td>\n",
       "      <td>0.53284</td>\n",
       "      <td>0.501013</td>\n",
       "      <td>3</td>\n",
       "      <td>8</td>\n",
       "      <td>KMeans(random_state=3)</td>\n",
       "    </tr>\n",
       "    <tr>\n",
       "      <th>2</th>\n",
       "      <td>5</td>\n",
       "      <td>mnist</td>\n",
       "      <td>ae_only</td>\n",
       "      <td>2</td>\n",
       "      <td>0.493923</td>\n",
       "      <td>0.307547</td>\n",
       "      <td>0.611768</td>\n",
       "      <td>0.409321</td>\n",
       "      <td>0</td>\n",
       "      <td>6</td>\n",
       "      <td>KMeans(n_clusters=6, random_state=0)</td>\n",
       "    </tr>\n",
       "    <tr>\n",
       "      <th>3</th>\n",
       "      <td>14</td>\n",
       "      <td>mnist</td>\n",
       "      <td>ae_only</td>\n",
       "      <td>64</td>\n",
       "      <td>0.0979506</td>\n",
       "      <td>0.389987</td>\n",
       "      <td>0.467557</td>\n",
       "      <td>0.425264</td>\n",
       "      <td>4</td>\n",
       "      <td>7</td>\n",
       "      <td>KMeans(n_clusters=7, random_state=4)</td>\n",
       "    </tr>\n",
       "    <tr>\n",
       "      <th>4</th>\n",
       "      <td>28</td>\n",
       "      <td>mnist</td>\n",
       "      <td>autoencoder</td>\n",
       "      <td>2</td>\n",
       "      <td>0.529301</td>\n",
       "      <td>0.837299</td>\n",
       "      <td>0.85496</td>\n",
       "      <td>0.846037</td>\n",
       "      <td>3</td>\n",
       "      <td>10</td>\n",
       "      <td>KMeans(n_clusters=10, random_state=3)</td>\n",
       "    </tr>\n",
       "    <tr>\n",
       "      <th>...</th>\n",
       "      <td>...</td>\n",
       "      <td>...</td>\n",
       "      <td>...</td>\n",
       "      <td>...</td>\n",
       "      <td>...</td>\n",
       "      <td>...</td>\n",
       "      <td>...</td>\n",
       "      <td>...</td>\n",
       "      <td>...</td>\n",
       "      <td>...</td>\n",
       "      <td>...</td>\n",
       "    </tr>\n",
       "    <tr>\n",
       "      <th>81</th>\n",
       "      <td>4</td>\n",
       "      <td>macosko2015</td>\n",
       "      <td>umap-learn</td>\n",
       "      <td>64</td>\n",
       "      <td>0.640607</td>\n",
       "      <td>0.76894</td>\n",
       "      <td>0.783878</td>\n",
       "      <td>0.776338</td>\n",
       "      <td>4</td>\n",
       "      <td>6</td>\n",
       "      <td>KMeans(n_clusters=6, random_state=4)</td>\n",
       "    </tr>\n",
       "    <tr>\n",
       "      <th>82</th>\n",
       "      <td>21</td>\n",
       "      <td>macosko2015</td>\n",
       "      <td>TSNE</td>\n",
       "      <td>2</td>\n",
       "      <td>0.402322</td>\n",
       "      <td>0.749659</td>\n",
       "      <td>0.389235</td>\n",
       "      <td>0.512415</td>\n",
       "      <td>1</td>\n",
       "      <td>10</td>\n",
       "      <td>KMeans(n_clusters=10, random_state=1)</td>\n",
       "    </tr>\n",
       "    <tr>\n",
       "      <th>83</th>\n",
       "      <td>16</td>\n",
       "      <td>macosko2015</td>\n",
       "      <td>parametric-tsne</td>\n",
       "      <td>2</td>\n",
       "      <td>0.505702</td>\n",
       "      <td>0.782231</td>\n",
       "      <td>0.475215</td>\n",
       "      <td>0.591243</td>\n",
       "      <td>1</td>\n",
       "      <td>9</td>\n",
       "      <td>KMeans(n_clusters=9, random_state=1)</td>\n",
       "    </tr>\n",
       "    <tr>\n",
       "      <th>84</th>\n",
       "      <td>42</td>\n",
       "      <td>macosko2015</td>\n",
       "      <td>parametric-tsne</td>\n",
       "      <td>64</td>\n",
       "      <td>0.126007</td>\n",
       "      <td>0.725631</td>\n",
       "      <td>0.345641</td>\n",
       "      <td>0.468243</td>\n",
       "      <td>2</td>\n",
       "      <td>14</td>\n",
       "      <td>KMeans(n_clusters=14, random_state=2)</td>\n",
       "    </tr>\n",
       "    <tr>\n",
       "      <th>85</th>\n",
       "      <td>92</td>\n",
       "      <td>cassins</td>\n",
       "      <td>vae</td>\n",
       "      <td>2</td>\n",
       "      <td>0.501133</td>\n",
       "      <td>0.770006</td>\n",
       "      <td>0.705441</td>\n",
       "      <td>0.736311</td>\n",
       "      <td>2</td>\n",
       "      <td>28</td>\n",
       "      <td>KMeans(n_clusters=28, random_state=2)</td>\n",
       "    </tr>\n",
       "  </tbody>\n",
       "</table>\n",
       "<p>86 rows × 11 columns</p>\n",
       "</div>"
      ],
      "text/plain": [
       "    index      dataset           class_ dim silhouette homogeneity  \\\n",
       "0       0        mnist              PCA   2    0.37744    0.272552   \n",
       "1      18        mnist              PCA  64  0.0912846    0.472775   \n",
       "2       5        mnist          ae_only   2   0.493923    0.307547   \n",
       "3      14        mnist          ae_only  64  0.0979506    0.389987   \n",
       "4      28        mnist      autoencoder   2   0.529301    0.837299   \n",
       "..    ...          ...              ...  ..        ...         ...   \n",
       "81      4  macosko2015       umap-learn  64   0.640607     0.76894   \n",
       "82     21  macosko2015             TSNE   2   0.402322    0.749659   \n",
       "83     16  macosko2015  parametric-tsne   2   0.505702    0.782231   \n",
       "84     42  macosko2015  parametric-tsne  64   0.126007    0.725631   \n",
       "85     92      cassins              vae   2   0.501133    0.770006   \n",
       "\n",
       "   completeness v_measure init_ n_clusters  \\\n",
       "0       0.39746  0.323363     0          5   \n",
       "1       0.53284  0.501013     3          8   \n",
       "2      0.611768  0.409321     0          6   \n",
       "3      0.467557  0.425264     4          7   \n",
       "4       0.85496  0.846037     3         10   \n",
       "..          ...       ...   ...        ...   \n",
       "81     0.783878  0.776338     4          6   \n",
       "82     0.389235  0.512415     1         10   \n",
       "83     0.475215  0.591243     1          9   \n",
       "84     0.345641  0.468243     2         14   \n",
       "85     0.705441  0.736311     2         28   \n",
       "\n",
       "                                    model  \n",
       "0    KMeans(n_clusters=5, random_state=0)  \n",
       "1                  KMeans(random_state=3)  \n",
       "2    KMeans(n_clusters=6, random_state=0)  \n",
       "3    KMeans(n_clusters=7, random_state=4)  \n",
       "4   KMeans(n_clusters=10, random_state=3)  \n",
       "..                                    ...  \n",
       "81   KMeans(n_clusters=6, random_state=4)  \n",
       "82  KMeans(n_clusters=10, random_state=1)  \n",
       "83   KMeans(n_clusters=9, random_state=1)  \n",
       "84  KMeans(n_clusters=14, random_state=2)  \n",
       "85  KMeans(n_clusters=28, random_state=2)  \n",
       "\n",
       "[86 rows x 11 columns]"
      ]
     },
     "execution_count": 16,
     "metadata": {},
     "output_type": "execute_result"
    }
   ],
   "source": [
    "metrics_max_df"
   ]
  },
  {
   "cell_type": "code",
   "execution_count": 31,
   "metadata": {
    "ExecuteTime": {
     "end_time": "2020-08-22T17:58:43.175581Z",
     "start_time": "2020-08-22T17:58:43.169971Z"
    }
   },
   "outputs": [
    {
     "data": {
      "text/plain": [
       "array(['PCA', 'ae_only', 'autoencoder', 'direct', 'vae', 'network',\n",
       "       'umap-learn', 'TSNE', 'parametric-tsne'], dtype=object)"
      ]
     },
     "execution_count": 31,
     "metadata": {},
     "output_type": "execute_result"
    }
   ],
   "source": [
    "metrics_max_df.class_.unique()"
   ]
  },
  {
   "cell_type": "code",
   "execution_count": 17,
   "metadata": {
    "ExecuteTime": {
     "end_time": "2020-08-22T17:53:16.295523Z",
     "start_time": "2020-08-22T17:53:16.288138Z"
    }
   },
   "outputs": [],
   "source": [
    "from tfumap.paths import FIGURE_DIR, save_fig"
   ]
  },
  {
   "cell_type": "code",
   "execution_count": 47,
   "metadata": {
    "ExecuteTime": {
     "end_time": "2020-08-22T19:36:42.511635Z",
     "start_time": "2020-08-22T19:36:41.405836Z"
    }
   },
   "outputs": [
    {
     "data": {
      "image/png": "[encoded data removed]",
      "text/plain": [
       "<Figure size 990x198 with 2 Axes>"
      ]
     },
     "metadata": {
      "needs_background": "light"
     },
     "output_type": "display_data"
    }
   ],
   "source": [
    "#sns.set(font_scale=1.0)\n",
    "import matplotlib as mpl\n",
    "axes = {'labelsize': 14,\n",
    "        'titlesize': 14,}\n",
    "mpl.rc('axes', **axes)\n",
    "mpl.rcParams['xtick.labelsize'] = 14\n",
    "\n",
    "hue_list = [\"TSNE\", \"parametric-tsne\", \"umap-learn\",  'direct', \"network\", \"autoencoder\", 'vae', 'ae_only', \"PCA\"]\n",
    "fg = sns.catplot(\n",
    "    x=\"dataset\",\n",
    "    y=\"v_measure\",\n",
    "    hue=\"class_\",\n",
    "    hue_order=hue_list,\n",
    "    order = ['mnist', 'fmnist', 'macosko2015', 'cassins_dtw', 'cifar10'],\n",
    "    col=\"dim\",\n",
    "    height=2.75, #2.65, \n",
    "    aspect=2.5,#3,\n",
    "    data=metrics_max_df,\n",
    "    kind=\"bar\",\n",
    "    palette=[hue_dict[i] for i in hue_list],\n",
    "    legend=False\n",
    ")\n",
    "(fg.despine(bottom=True)\n",
    " .set_xticklabels(['MNIST', 'FMNIST', 'Retina', 'Cassin\\'s', 'CIFAR10'])\n",
    " .set_axis_labels(\"\", \"NMI\")\n",
    ")\n",
    "ax = fg.axes[0][0]\n",
    "ax.tick_params(axis=u'both', which=u'both',length=0)\n",
    "#fg._legend.texts[2].set_text(\"P. UMAP\")\n",
    "#fg._legend.texts[3].set_text(\"UMAP AE\")\n",
    "ax.set_title('2 Dimensions')\n",
    "if len(fg.axes[0])>1:\n",
    "    ax = fg.axes[0][1]\n",
    "    ax.tick_params(axis=u'both', which=u'both',length=0)\n",
    "    ax.set_title('64 Dimensions')\n",
    "\n",
    "if True:\n",
    "    leg = plt.legend(loc='upper left', bbox_to_anchor=(1.0, 1.1))\n",
    "else:\n",
    "    leg = fg._legend\n",
    "    \n",
    "leg.get_frame().set_edgecolor('w')\n",
    "    \n",
    "leg._legend_title_box._text.set_text(\"\")\n",
    "leg.texts[np.where((np.array([i._text for i in leg.texts]) == 'umap-learn'))[0][0]].set_text('UMAP (UMAP-learn)')\n",
    "leg.texts[np.where((np.array([i._text for i in leg.texts]) == 'network'))[0][0]].set_text('P. UMAP')\n",
    "leg.texts[np.where((np.array([i._text for i in leg.texts]) == 'direct'))[0][0]].set_text('UMAP (TF)')\n",
    "leg.texts[np.where((np.array([i._text for i in leg.texts]) == 'autoencoder'))[0][0]].set_text('UMAP AE')\n",
    "leg.texts[np.where((np.array([i._text for i in leg.texts]) == 'parametric-tsne'))[0][0]].set_text('P. TSNE')\n",
    "leg.texts[np.where((np.array([i._text for i in leg.texts]) == 'ae_only'))[0][0]].set_text('AE')\n",
    "leg\n",
    "\n",
    "save_fig(FIGURE_DIR/'NMI', save_pdf=True, dpi=300)"
   ]
  },
  {
   "cell_type": "markdown",
   "metadata": {},
   "source": [
    "#### plot on the basis of best score"
   ]
  },
  {
   "cell_type": "code",
   "execution_count": 43,
   "metadata": {
    "ExecuteTime": {
     "end_time": "2020-08-22T19:31:06.268360Z",
     "start_time": "2020-08-22T19:31:06.165333Z"
    }
   },
   "outputs": [
    {
     "name": "stderr",
     "output_type": "stream",
     "text": [
      "/mnt/cube/tsainbur/conda_envs/tpy3/lib/python3.6/site-packages/numpy/core/fromnumeric.py:61: FutureWarning: \n",
      "The current behaviour of 'Series.argmax' is deprecated, use 'idxmax'\n",
      "instead.\n",
      "The behavior of 'argmax' will be corrected to return the positional\n",
      "maximum in the future. For now, use 'series.values.argmax' or\n",
      "'np.argmax(np.array(values))' to get the position of the maximum\n",
      "row.\n",
      "  return bound(*args, **kwds)\n"
     ]
    }
   ],
   "source": [
    "### get the best silhouette score for each dataset, class_, dim_\n",
    "metrics_df_max_iter = []\n",
    "for dataset in metrics_df.dataset.unique():\n",
    "    for class_ in metrics_df.class_.unique():\n",
    "        for dim in metrics_df.dim.unique():\n",
    "            subset_df = metrics_df[\n",
    "                (dataset == metrics_df.dataset.values) &\n",
    "                (class_ == metrics_df.class_.values) &\n",
    "                (dim == metrics_df.dim.values) \n",
    "            ]\n",
    "            if len(subset_df) > 0:\n",
    "                #print(np.argmax(subset_df.silhouette))\n",
    "                metrics_df_max_iter.append(subset_df.iloc[np.argmax(subset_df.v_measure)])"
   ]
  },
  {
   "cell_type": "code",
   "execution_count": 44,
   "metadata": {
    "ExecuteTime": {
     "end_time": "2020-08-22T19:31:06.293078Z",
     "start_time": "2020-08-22T19:31:06.270762Z"
    }
   },
   "outputs": [
    {
     "data": {
      "text/html": [
       "<div>\n",
       "<style scoped>\n",
       "    .dataframe tbody tr th:only-of-type {\n",
       "        vertical-align: middle;\n",
       "    }\n",
       "\n",
       "    .dataframe tbody tr th {\n",
       "        vertical-align: top;\n",
       "    }\n",
       "\n",
       "    .dataframe thead th {\n",
       "        text-align: right;\n",
       "    }\n",
       "</style>\n",
       "<table border=\"1\" class=\"dataframe\">\n",
       "  <thead>\n",
       "    <tr style=\"text-align: right;\">\n",
       "      <th></th>\n",
       "      <th>index</th>\n",
       "      <th>dataset</th>\n",
       "      <th>class_</th>\n",
       "      <th>dim</th>\n",
       "      <th>silhouette</th>\n",
       "      <th>homogeneity</th>\n",
       "      <th>completeness</th>\n",
       "      <th>v_measure</th>\n",
       "      <th>init_</th>\n",
       "      <th>n_clusters</th>\n",
       "      <th>model</th>\n",
       "    </tr>\n",
       "  </thead>\n",
       "  <tbody>\n",
       "    <tr>\n",
       "      <th>0</th>\n",
       "      <td>16</td>\n",
       "      <td>mnist</td>\n",
       "      <td>PCA</td>\n",
       "      <td>2</td>\n",
       "      <td>0.363991</td>\n",
       "      <td>0.347121</td>\n",
       "      <td>0.39101</td>\n",
       "      <td>0.367761</td>\n",
       "      <td>1</td>\n",
       "      <td>8</td>\n",
       "      <td>KMeans(random_state=1)</td>\n",
       "    </tr>\n",
       "    <tr>\n",
       "      <th>1</th>\n",
       "      <td>49</td>\n",
       "      <td>mnist</td>\n",
       "      <td>PCA</td>\n",
       "      <td>64</td>\n",
       "      <td>0.0818908</td>\n",
       "      <td>0.554349</td>\n",
       "      <td>0.488848</td>\n",
       "      <td>0.519542</td>\n",
       "      <td>4</td>\n",
       "      <td>14</td>\n",
       "      <td>KMeans(n_clusters=14, random_state=4)</td>\n",
       "    </tr>\n",
       "    <tr>\n",
       "      <th>2</th>\n",
       "      <td>46</td>\n",
       "      <td>mnist</td>\n",
       "      <td>ae_only</td>\n",
       "      <td>2</td>\n",
       "      <td>0.413019</td>\n",
       "      <td>0.468532</td>\n",
       "      <td>0.530543</td>\n",
       "      <td>0.497613</td>\n",
       "      <td>1</td>\n",
       "      <td>14</td>\n",
       "      <td>KMeans(n_clusters=14, random_state=1)</td>\n",
       "    </tr>\n",
       "  </tbody>\n",
       "</table>\n",
       "</div>"
      ],
      "text/plain": [
       "   index dataset   class_ dim silhouette homogeneity completeness v_measure  \\\n",
       "0     16   mnist      PCA   2   0.363991    0.347121      0.39101  0.367761   \n",
       "1     49   mnist      PCA  64  0.0818908    0.554349     0.488848  0.519542   \n",
       "2     46   mnist  ae_only   2   0.413019    0.468532     0.530543  0.497613   \n",
       "\n",
       "  init_ n_clusters                                  model  \n",
       "0     1          8                 KMeans(random_state=1)  \n",
       "1     4         14  KMeans(n_clusters=14, random_state=4)  \n",
       "2     1         14  KMeans(n_clusters=14, random_state=1)  "
      ]
     },
     "execution_count": 44,
     "metadata": {},
     "output_type": "execute_result"
    }
   ],
   "source": [
    "metrics_max_df = pd.concat(metrics_df_max_iter, axis=1).T.reset_index()\n",
    "metrics_max_df[:3]"
   ]
  },
  {
   "cell_type": "code",
   "execution_count": 45,
   "metadata": {
    "ExecuteTime": {
     "end_time": "2020-08-22T19:31:06.983430Z",
     "start_time": "2020-08-22T19:31:06.294637Z"
    }
   },
   "outputs": [
    {
     "data": {
      "image/png": "[encoded data removed]",
      "text/plain": [
       "<Figure size 1106x198 with 2 Axes>"
      ]
     },
     "metadata": {
      "needs_background": "light"
     },
     "output_type": "display_data"
    }
   ],
   "source": [
    "fg = sns.catplot(\n",
    "    x=\"dataset\",\n",
    "    y=\"v_measure\",\n",
    "    hue=\"class_\",\n",
    "    hue_order=hue_list,\n",
    "    order = ['mnist', 'fmnist', 'macosko2015', 'cassins_dtw', 'cifar10'],\n",
    "    col=\"dim\",\n",
    "    height=2.75, #2.65, \n",
    "    aspect=2.5,#3,\n",
    "    data=metrics_max_df,\n",
    "    kind=\"bar\",\n",
    "    palette=[hue_dict[i] for i in hue_list],\n",
    "    #legend=False\n",
    ")\n",
    "(fg.despine(bottom=True)\n",
    " .set_xticklabels(['MNIST', 'FMNIST', 'Retina', 'Cassin\\'s', 'CIFAR10'])\n",
    " .set_axis_labels(\"\", \"V-measure\")\n",
    ")\n",
    "ax = fg.axes[0][0]\n",
    "ax.tick_params(axis=u'both', which=u'both',length=0)\n",
    "fg._legend._legend_title_box._text.set_text(\"\")\n",
    "#fg._legend.texts[2].set_text(\"P. UMAP\")\n",
    "#fg._legend.texts[3].set_text(\"UMAP AE\")\n",
    "ax.set_title('2 Dimensions')\n",
    "if len(fg.axes[0])>1:\n",
    "    ax = fg.axes[0][1]\n",
    "    ax.tick_params(axis=u'both', which=u'both',length=0)\n",
    "    ax.set_title('64 Dimensions')\n",
    "\n",
    "\n",
    "fg._legend.texts[np.where((np.array([i._text for i in fg._legend.texts]) == 'umap-learn'))[0][0]].set_text('UMAP (UMAP-learn)')\n",
    "fg._legend.texts[np.where((np.array([i._text for i in fg._legend.texts]) == 'network'))[0][0]].set_text('P. UMAP')\n",
    "fg._legend.texts[np.where((np.array([i._text for i in fg._legend.texts]) == 'autoencoder'))[0][0]].set_text('UMAP AE')\n",
    "fg._legend.texts[np.where((np.array([i._text for i in fg._legend.texts]) == 'parametric-tsne'))[0][0]].set_text('P. TSNE')\n",
    "\n",
    "#save_fig(FIGURE_DIR/'v-measure', save_pdf=True, dpi=300)"
   ]
  },
  {
   "cell_type": "code",
   "execution_count": null,
   "metadata": {},
   "outputs": [],
   "source": []
  },
  {
   "cell_type": "code",
   "execution_count": null,
   "metadata": {},
   "outputs": [],
   "source": []
  }
 ],
 "metadata": {
  "kernelspec": {
   "display_name": "Python 3",
   "language": "python",
   "name": "python3"
  },
  "language_info": {
   "codemirror_mode": {
    "name": "ipython",
    "version": 3
   },
   "file_extension": ".py",
   "mimetype": "text/x-python",
   "name": "python",
   "nbconvert_exporter": "python",
   "pygments_lexer": "ipython3",
   "version": "3.6.7"
  }
 },
 "nbformat": 4,
 "nbformat_minor": 2
}
