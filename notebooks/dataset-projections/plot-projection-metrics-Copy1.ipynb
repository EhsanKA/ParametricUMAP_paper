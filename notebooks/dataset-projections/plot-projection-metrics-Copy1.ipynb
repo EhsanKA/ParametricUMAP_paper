{
 "cells": [
  {
   "cell_type": "code",
   "execution_count": 37,
   "metadata": {
    "ExecuteTime": {
     "end_time": "2020-07-20T18:04:12.941853Z",
     "start_time": "2020-07-20T18:04:12.938621Z"
    }
   },
   "outputs": [],
   "source": [
    "import numpy as np\n",
    "import pandas as pd\n",
    "\n",
    "from sklearn.manifold import trustworthiness\n",
    "from sklearn.metrics import silhouette_score\n",
    "\n",
    "from tqdm.autonotebook import tqdm\n",
    "\n",
    "from tfumap.paths import ensure_dir, MODEL_DIR, DATA_DIR\n",
    "\n",
    "output_dir = MODEL_DIR/'projections' "
   ]
  },
  {
   "cell_type": "code",
   "execution_count": 38,
   "metadata": {
    "ExecuteTime": {
     "end_time": "2020-07-20T18:04:13.111383Z",
     "start_time": "2020-07-20T18:04:13.096631Z"
    }
   },
   "outputs": [],
   "source": [
    "metrics_df = pd.read_pickle(DATA_DIR / 'projection_metrics.pickle')"
   ]
  },
  {
   "cell_type": "code",
   "execution_count": 39,
   "metadata": {
    "ExecuteTime": {
     "end_time": "2020-07-20T18:04:13.244870Z",
     "start_time": "2020-07-20T18:04:13.232216Z"
    }
   },
   "outputs": [
    {
     "data": {
      "text/html": [
       "<div>\n",
       "<style scoped>\n",
       "    .dataframe tbody tr th:only-of-type {\n",
       "        vertical-align: middle;\n",
       "    }\n",
       "\n",
       "    .dataframe tbody tr th {\n",
       "        vertical-align: top;\n",
       "    }\n",
       "\n",
       "    .dataframe thead th {\n",
       "        text-align: right;\n",
       "    }\n",
       "</style>\n",
       "<table border=\"1\" class=\"dataframe\">\n",
       "  <thead>\n",
       "    <tr style=\"text-align: right;\">\n",
       "      <th></th>\n",
       "      <th>dataset</th>\n",
       "      <th>class_</th>\n",
       "      <th>dim</th>\n",
       "      <th>trustworthiness</th>\n",
       "      <th>silhouette_score</th>\n",
       "      <th>silhouette_samples</th>\n",
       "    </tr>\n",
       "  </thead>\n",
       "  <tbody>\n",
       "    <tr>\n",
       "      <th>0</th>\n",
       "      <td>mnist</td>\n",
       "      <td>umap-learn</td>\n",
       "      <td>2</td>\n",
       "      <td>0.960056</td>\n",
       "      <td>0.518626</td>\n",
       "      <td>[0.639216248568865, 0.781801993664271, 0.44323...</td>\n",
       "    </tr>\n",
       "    <tr>\n",
       "      <th>1</th>\n",
       "      <td>mnist</td>\n",
       "      <td>direct</td>\n",
       "      <td>2</td>\n",
       "      <td>0.960416</td>\n",
       "      <td>0.519683</td>\n",
       "      <td>[0.6649555493948871, 0.7389523838324524, 0.464...</td>\n",
       "    </tr>\n",
       "    <tr>\n",
       "      <th>2</th>\n",
       "      <td>mnist</td>\n",
       "      <td>network</td>\n",
       "      <td>2</td>\n",
       "      <td>0.957346</td>\n",
       "      <td>0.555885</td>\n",
       "      <td>[0.6068383792564549, 0.8137081492037734, 0.522...</td>\n",
       "    </tr>\n",
       "  </tbody>\n",
       "</table>\n",
       "</div>"
      ],
      "text/plain": [
       "  dataset      class_ dim  trustworthiness  silhouette_score  \\\n",
       "0   mnist  umap-learn   2         0.960056          0.518626   \n",
       "1   mnist      direct   2         0.960416          0.519683   \n",
       "2   mnist     network   2         0.957346          0.555885   \n",
       "\n",
       "                                  silhouette_samples  \n",
       "0  [0.639216248568865, 0.781801993664271, 0.44323...  \n",
       "1  [0.6649555493948871, 0.7389523838324524, 0.464...  \n",
       "2  [0.6068383792564549, 0.8137081492037734, 0.522...  "
      ]
     },
     "execution_count": 39,
     "metadata": {},
     "output_type": "execute_result"
    }
   ],
   "source": [
    "metrics_df[:3]"
   ]
  },
  {
   "cell_type": "code",
   "execution_count": 50,
   "metadata": {
    "ExecuteTime": {
     "end_time": "2020-07-20T18:07:35.049852Z",
     "start_time": "2020-07-20T18:07:35.034780Z"
    }
   },
   "outputs": [],
   "source": [
    "for dataset in ['mnist', 'fmnist', 'cassins_dtw', 'makosco2015']:\n",
    "    for n_components in ['2']:\n",
    "        save_loc = DATA_DIR / 'projection_metrics' / 'train' / str(n_components) / (dataset + '.pickle')\n",
    "        metric_df = pd.read_pickle(save_loc)\n",
    "        metrics_df = pd.concat([metrics_df, metric_df])"
   ]
  },
  {
   "cell_type": "code",
   "execution_count": 51,
   "metadata": {
    "ExecuteTime": {
     "end_time": "2020-07-20T18:07:35.874069Z",
     "start_time": "2020-07-20T18:07:35.848977Z"
    }
   },
   "outputs": [
    {
     "ename": "KeyError",
     "evalue": "\"None of [Index(['mnist', 'mnist', 'mnist', 'mnist', 'mnist', 'mnist', 'mnist', 'mnist',\\n       'mnist', 'mnist', 'mnist', 'fmnist', 'fmnist', 'fmnist', 'fmnist',\\n       'fmnist', 'fmnist', 'fmnist', 'fmnist', 'fmnist', 'fmnist', 'fmnist',\\n       'cifar10', 'cifar10', 'cifar10', 'cifar10', 'cifar10', 'cifar10',\\n       'cifar10', 'cifar10', 'cifar10', 'cifar10', 'cifar10', 'macosko2015',\\n       'macosko2015', 'macosko2015', 'macosko2015', 'macosko2015',\\n       'macosko2015', 'macosko2015', 'macosko2015', 'macosko2015',\\n       'macosko2015', 'macosko2015', 'cassins_dtw', 'cassins_dtw',\\n       'cassins_dtw', 'cassins_dtw', 'cassins_dtw', 'cassins_dtw',\\n       'cassins_dtw', 'cassins_dtw', 'cassins_dtw', 'cassins_dtw',\\n       'cassins_dtw', 'mnist', 'fmnist', 'cassins', 'macosko2015', 'mnist',\\n       'fmnist', 'mnist', 'fmnist', 'mnist', 'fmnist', 'mnist', 'fmnist',\\n       'cassins', 'macosko2015'],\\n      dtype='object')] are in the [columns]\"",
     "output_type": "error",
     "traceback": [
      "\u001b[0;31m---------------------------------------------------------------------------\u001b[0m",
      "\u001b[0;31mKeyError\u001b[0m                                  Traceback (most recent call last)",
      "\u001b[0;32m<ipython-input-51-c9792e0dade8>\u001b[0m in \u001b[0;36m<module>\u001b[0;34m\u001b[0m\n\u001b[0;32m----> 1\u001b[0;31m \u001b[0mmetrics_df\u001b[0m\u001b[0;34m[\u001b[0m\u001b[0mmetrics_df\u001b[0m\u001b[0;34m.\u001b[0m\u001b[0mdataset\u001b[0m\u001b[0;34m]\u001b[0m\u001b[0;34m\u001b[0m\u001b[0;34m\u001b[0m\u001b[0m\n\u001b[0m",
      "\u001b[0;32m/mnt/cube/tsainbur/conda_envs/tpy3/lib/python3.6/site-packages/pandas/core/frame.py\u001b[0m in \u001b[0;36m__getitem__\u001b[0;34m(self, key)\u001b[0m\n\u001b[1;32m   2999\u001b[0m             \u001b[0;32mif\u001b[0m \u001b[0mis_iterator\u001b[0m\u001b[0;34m(\u001b[0m\u001b[0mkey\u001b[0m\u001b[0;34m)\u001b[0m\u001b[0;34m:\u001b[0m\u001b[0;34m\u001b[0m\u001b[0;34m\u001b[0m\u001b[0m\n\u001b[1;32m   3000\u001b[0m                 \u001b[0mkey\u001b[0m \u001b[0;34m=\u001b[0m \u001b[0mlist\u001b[0m\u001b[0;34m(\u001b[0m\u001b[0mkey\u001b[0m\u001b[0;34m)\u001b[0m\u001b[0;34m\u001b[0m\u001b[0;34m\u001b[0m\u001b[0m\n\u001b[0;32m-> 3001\u001b[0;31m             \u001b[0mindexer\u001b[0m \u001b[0;34m=\u001b[0m \u001b[0mself\u001b[0m\u001b[0;34m.\u001b[0m\u001b[0mloc\u001b[0m\u001b[0;34m.\u001b[0m\u001b[0m_convert_to_indexer\u001b[0m\u001b[0;34m(\u001b[0m\u001b[0mkey\u001b[0m\u001b[0;34m,\u001b[0m \u001b[0maxis\u001b[0m\u001b[0;34m=\u001b[0m\u001b[0;36m1\u001b[0m\u001b[0;34m,\u001b[0m \u001b[0mraise_missing\u001b[0m\u001b[0;34m=\u001b[0m\u001b[0;32mTrue\u001b[0m\u001b[0;34m)\u001b[0m\u001b[0;34m\u001b[0m\u001b[0;34m\u001b[0m\u001b[0m\n\u001b[0m\u001b[1;32m   3002\u001b[0m \u001b[0;34m\u001b[0m\u001b[0m\n\u001b[1;32m   3003\u001b[0m         \u001b[0;31m# take() does not accept boolean indexers\u001b[0m\u001b[0;34m\u001b[0m\u001b[0;34m\u001b[0m\u001b[0;34m\u001b[0m\u001b[0m\n",
      "\u001b[0;32m/mnt/cube/tsainbur/conda_envs/tpy3/lib/python3.6/site-packages/pandas/core/indexing.py\u001b[0m in \u001b[0;36m_convert_to_indexer\u001b[0;34m(self, obj, axis, is_setter, raise_missing)\u001b[0m\n\u001b[1;32m   1283\u001b[0m                 \u001b[0;31m# When setting, missing keys are not allowed, even with .loc:\u001b[0m\u001b[0;34m\u001b[0m\u001b[0;34m\u001b[0m\u001b[0;34m\u001b[0m\u001b[0m\n\u001b[1;32m   1284\u001b[0m                 \u001b[0mkwargs\u001b[0m \u001b[0;34m=\u001b[0m \u001b[0;34m{\u001b[0m\u001b[0;34m\"raise_missing\"\u001b[0m\u001b[0;34m:\u001b[0m \u001b[0;32mTrue\u001b[0m \u001b[0;32mif\u001b[0m \u001b[0mis_setter\u001b[0m \u001b[0;32melse\u001b[0m \u001b[0mraise_missing\u001b[0m\u001b[0;34m}\u001b[0m\u001b[0;34m\u001b[0m\u001b[0;34m\u001b[0m\u001b[0m\n\u001b[0;32m-> 1285\u001b[0;31m                 \u001b[0;32mreturn\u001b[0m \u001b[0mself\u001b[0m\u001b[0;34m.\u001b[0m\u001b[0m_get_listlike_indexer\u001b[0m\u001b[0;34m(\u001b[0m\u001b[0mobj\u001b[0m\u001b[0;34m,\u001b[0m \u001b[0maxis\u001b[0m\u001b[0;34m,\u001b[0m \u001b[0;34m**\u001b[0m\u001b[0mkwargs\u001b[0m\u001b[0;34m)\u001b[0m\u001b[0;34m[\u001b[0m\u001b[0;36m1\u001b[0m\u001b[0;34m]\u001b[0m\u001b[0;34m\u001b[0m\u001b[0;34m\u001b[0m\u001b[0m\n\u001b[0m\u001b[1;32m   1286\u001b[0m         \u001b[0;32melse\u001b[0m\u001b[0;34m:\u001b[0m\u001b[0;34m\u001b[0m\u001b[0;34m\u001b[0m\u001b[0m\n\u001b[1;32m   1287\u001b[0m             \u001b[0;32mtry\u001b[0m\u001b[0;34m:\u001b[0m\u001b[0;34m\u001b[0m\u001b[0;34m\u001b[0m\u001b[0m\n",
      "\u001b[0;32m/mnt/cube/tsainbur/conda_envs/tpy3/lib/python3.6/site-packages/pandas/core/indexing.py\u001b[0m in \u001b[0;36m_get_listlike_indexer\u001b[0;34m(self, key, axis, raise_missing)\u001b[0m\n\u001b[1;32m   1090\u001b[0m \u001b[0;34m\u001b[0m\u001b[0m\n\u001b[1;32m   1091\u001b[0m         self._validate_read_indexer(\n\u001b[0;32m-> 1092\u001b[0;31m             \u001b[0mkeyarr\u001b[0m\u001b[0;34m,\u001b[0m \u001b[0mindexer\u001b[0m\u001b[0;34m,\u001b[0m \u001b[0mo\u001b[0m\u001b[0;34m.\u001b[0m\u001b[0m_get_axis_number\u001b[0m\u001b[0;34m(\u001b[0m\u001b[0maxis\u001b[0m\u001b[0;34m)\u001b[0m\u001b[0;34m,\u001b[0m \u001b[0mraise_missing\u001b[0m\u001b[0;34m=\u001b[0m\u001b[0mraise_missing\u001b[0m\u001b[0;34m\u001b[0m\u001b[0;34m\u001b[0m\u001b[0m\n\u001b[0m\u001b[1;32m   1093\u001b[0m         )\n\u001b[1;32m   1094\u001b[0m         \u001b[0;32mreturn\u001b[0m \u001b[0mkeyarr\u001b[0m\u001b[0;34m,\u001b[0m \u001b[0mindexer\u001b[0m\u001b[0;34m\u001b[0m\u001b[0;34m\u001b[0m\u001b[0m\n",
      "\u001b[0;32m/mnt/cube/tsainbur/conda_envs/tpy3/lib/python3.6/site-packages/pandas/core/indexing.py\u001b[0m in \u001b[0;36m_validate_read_indexer\u001b[0;34m(self, key, indexer, axis, raise_missing)\u001b[0m\n\u001b[1;32m   1175\u001b[0m                 raise KeyError(\n\u001b[1;32m   1176\u001b[0m                     \"None of [{key}] are in the [{axis}]\".format(\n\u001b[0;32m-> 1177\u001b[0;31m                         \u001b[0mkey\u001b[0m\u001b[0;34m=\u001b[0m\u001b[0mkey\u001b[0m\u001b[0;34m,\u001b[0m \u001b[0maxis\u001b[0m\u001b[0;34m=\u001b[0m\u001b[0mself\u001b[0m\u001b[0;34m.\u001b[0m\u001b[0mobj\u001b[0m\u001b[0;34m.\u001b[0m\u001b[0m_get_axis_name\u001b[0m\u001b[0;34m(\u001b[0m\u001b[0maxis\u001b[0m\u001b[0;34m)\u001b[0m\u001b[0;34m\u001b[0m\u001b[0;34m\u001b[0m\u001b[0m\n\u001b[0m\u001b[1;32m   1178\u001b[0m                     )\n\u001b[1;32m   1179\u001b[0m                 )\n",
      "\u001b[0;31mKeyError\u001b[0m: \"None of [Index(['mnist', 'mnist', 'mnist', 'mnist', 'mnist', 'mnist', 'mnist', 'mnist',\\n       'mnist', 'mnist', 'mnist', 'fmnist', 'fmnist', 'fmnist', 'fmnist',\\n       'fmnist', 'fmnist', 'fmnist', 'fmnist', 'fmnist', 'fmnist', 'fmnist',\\n       'cifar10', 'cifar10', 'cifar10', 'cifar10', 'cifar10', 'cifar10',\\n       'cifar10', 'cifar10', 'cifar10', 'cifar10', 'cifar10', 'macosko2015',\\n       'macosko2015', 'macosko2015', 'macosko2015', 'macosko2015',\\n       'macosko2015', 'macosko2015', 'macosko2015', 'macosko2015',\\n       'macosko2015', 'macosko2015', 'cassins_dtw', 'cassins_dtw',\\n       'cassins_dtw', 'cassins_dtw', 'cassins_dtw', 'cassins_dtw',\\n       'cassins_dtw', 'cassins_dtw', 'cassins_dtw', 'cassins_dtw',\\n       'cassins_dtw', 'mnist', 'fmnist', 'cassins', 'macosko2015', 'mnist',\\n       'fmnist', 'mnist', 'fmnist', 'mnist', 'fmnist', 'mnist', 'fmnist',\\n       'cassins', 'macosko2015'],\\n      dtype='object')] are in the [columns]\""
     ]
    }
   ],
   "source": [
    "metrics_df[metrics_df.dataset]"
   ]
  },
  {
   "cell_type": "code",
   "execution_count": 59,
   "metadata": {
    "ExecuteTime": {
     "end_time": "2020-07-20T18:08:40.016198Z",
     "start_time": "2020-07-20T18:08:40.007706Z"
    }
   },
   "outputs": [],
   "source": [
    "metrics_df.loc[metrics_df.dataset == 'cassins', 'dataset'] = 'cassins_dtw'"
   ]
  },
  {
   "cell_type": "code",
   "execution_count": 60,
   "metadata": {
    "ExecuteTime": {
     "end_time": "2020-07-20T18:08:40.797893Z",
     "start_time": "2020-07-20T18:08:40.782921Z"
    }
   },
   "outputs": [
    {
     "data": {
      "text/html": [
       "<div>\n",
       "<style scoped>\n",
       "    .dataframe tbody tr th:only-of-type {\n",
       "        vertical-align: middle;\n",
       "    }\n",
       "\n",
       "    .dataframe tbody tr th {\n",
       "        vertical-align: top;\n",
       "    }\n",
       "\n",
       "    .dataframe thead th {\n",
       "        text-align: right;\n",
       "    }\n",
       "</style>\n",
       "<table border=\"1\" class=\"dataframe\">\n",
       "  <thead>\n",
       "    <tr style=\"text-align: right;\">\n",
       "      <th></th>\n",
       "      <th>dataset</th>\n",
       "      <th>class_</th>\n",
       "      <th>dim</th>\n",
       "      <th>trustworthiness</th>\n",
       "      <th>silhouette_score</th>\n",
       "      <th>silhouette_samples</th>\n",
       "    </tr>\n",
       "  </thead>\n",
       "  <tbody>\n",
       "    <tr>\n",
       "      <th>0</th>\n",
       "      <td>fmnist</td>\n",
       "      <td>parametric-tsne</td>\n",
       "      <td>2</td>\n",
       "      <td>0.982720</td>\n",
       "      <td>0.201303</td>\n",
       "      <td>[0.6231377233668559, 0.4950800214069023, -0.27...</td>\n",
       "    </tr>\n",
       "    <tr>\n",
       "      <th>0</th>\n",
       "      <td>cassins_dtw</td>\n",
       "      <td>parametric-tsne</td>\n",
       "      <td>2</td>\n",
       "      <td>0.985611</td>\n",
       "      <td>0.742322</td>\n",
       "      <td>[0.8330382289009316, 0.7695866976623688, 0.771...</td>\n",
       "    </tr>\n",
       "    <tr>\n",
       "      <th>0</th>\n",
       "      <td>macosko2015</td>\n",
       "      <td>parametric-tsne</td>\n",
       "      <td>2</td>\n",
       "      <td>0.946283</td>\n",
       "      <td>0.257810</td>\n",
       "      <td>[0.3406608482046336, 0.8008643850128306, 0.103...</td>\n",
       "    </tr>\n",
       "  </tbody>\n",
       "</table>\n",
       "</div>"
      ],
      "text/plain": [
       "       dataset           class_ dim  trustworthiness  silhouette_score  \\\n",
       "0       fmnist  parametric-tsne   2         0.982720          0.201303   \n",
       "0  cassins_dtw  parametric-tsne   2         0.985611          0.742322   \n",
       "0  macosko2015  parametric-tsne   2         0.946283          0.257810   \n",
       "\n",
       "                                  silhouette_samples  \n",
       "0  [0.6231377233668559, 0.4950800214069023, -0.27...  \n",
       "0  [0.8330382289009316, 0.7695866976623688, 0.771...  \n",
       "0  [0.3406608482046336, 0.8008643850128306, 0.103...  "
      ]
     },
     "execution_count": 60,
     "metadata": {},
     "output_type": "execute_result"
    }
   ],
   "source": [
    "metrics_df[-3:]"
   ]
  },
  {
   "cell_type": "code",
   "execution_count": 61,
   "metadata": {
    "ExecuteTime": {
     "end_time": "2020-07-20T18:08:42.208949Z",
     "start_time": "2020-07-20T18:08:42.206092Z"
    }
   },
   "outputs": [],
   "source": [
    "import seaborn as sns"
   ]
  },
  {
   "cell_type": "code",
   "execution_count": 62,
   "metadata": {
    "ExecuteTime": {
     "end_time": "2020-07-20T18:08:42.344117Z",
     "start_time": "2020-07-20T18:08:42.341184Z"
    }
   },
   "outputs": [],
   "source": [
    "import matplotlib.pyplot as plt"
   ]
  },
  {
   "cell_type": "code",
   "execution_count": 63,
   "metadata": {
    "ExecuteTime": {
     "end_time": "2020-07-20T18:08:42.539555Z",
     "start_time": "2020-07-20T18:08:42.487322Z"
    }
   },
   "outputs": [
    {
     "data": {
      "image/png": "[encoded data removed]",
      "text/plain": [
       "<Figure size 504x72 with 1 Axes>"
      ]
     },
     "metadata": {
      "needs_background": "light"
     },
     "output_type": "display_data"
    }
   ],
   "source": [
    "palette = sns.color_palette('Reds', 3)[1:] + sns.color_palette('Blues', 6)[2:] + sns.color_palette('Greens', 1) \n",
    "sns.palplot(palette)"
   ]
  },
  {
   "cell_type": "code",
   "execution_count": 64,
   "metadata": {
    "ExecuteTime": {
     "end_time": "2020-07-20T18:08:42.732011Z",
     "start_time": "2020-07-20T18:08:42.728988Z"
    }
   },
   "outputs": [],
   "source": [
    "from tfumap.paths import FIGURE_DIR, save_fig"
   ]
  },
  {
   "cell_type": "code",
   "execution_count": 65,
   "metadata": {
    "ExecuteTime": {
     "end_time": "2020-07-20T18:08:43.744820Z",
     "start_time": "2020-07-20T18:08:43.078411Z"
    }
   },
   "outputs": [
    {
     "data": {
      "image/png": "[encoded data removed]",
      "text/plain": [
       "<Figure size 746x180 with 2 Axes>"
      ]
     },
     "metadata": {
      "needs_background": "light"
     },
     "output_type": "display_data"
    }
   ],
   "source": [
    "fg = sns.catplot(\n",
    "    x=\"dataset\",\n",
    "    y=\"silhouette_score\",\n",
    "    hue=\"class_\",\n",
    "    hue_order=[\"TSNE\", \"parametric-tsne\", \"umap-learn\", \"direct\", \"network\", \"autoencoder\", \"PCA\"],\n",
    "    order = ['mnist', 'fmnist', 'macosko2015', 'cassins_dtw', 'cifar10'],\n",
    "    col=\"dim\",\n",
    "    height=2.5, \n",
    "    aspect=1.75,\n",
    "    data=metrics_df,\n",
    "    kind=\"bar\",\n",
    "    palette=palette,\n",
    "    #legend=False\n",
    ")\n",
    "(fg.despine(bottom=True)\n",
    " .set_xticklabels(['MNIST', 'FMNIST', 'Retina', 'Cassin\\'s', 'CIFAR10'])\n",
    " .set_axis_labels(\"\", \"Silhouette Score\")\n",
    ")\n",
    "ax = fg.axes[0][0]\n",
    "ax.tick_params(axis=u'both', which=u'both',length=0)\n",
    "fg._legend._legend_title_box._text.set_text(\"\")\n",
    "#fg._legend.texts[2].set_text(\"P. UMAP\")\n",
    "#fg._legend.texts[3].set_text(\"UMAP AE\")\n",
    "ax.set_title('2 Dimensions')\n",
    "ax = fg.axes[0][1]\n",
    "ax.tick_params(axis=u'both', which=u'both',length=0)\n",
    "\n",
    "ax.set_title('64 Dimensions')\n",
    "\n",
    "\n",
    "fg._legend.texts[np.where((np.array([i._text for i in fg._legend.texts]) == 'umap-learn'))[0][0]].set_text('UMAP-learn')\n",
    "fg._legend.texts[np.where((np.array([i._text for i in fg._legend.texts]) == 'network'))[0][0]].set_text('P. UMAP')\n",
    "fg._legend.texts[np.where((np.array([i._text for i in fg._legend.texts]) == 'direct'))[0][0]].set_text('UMAP (direct)')\n",
    "fg._legend.texts[np.where((np.array([i._text for i in fg._legend.texts]) == 'autoencoder'))[0][0]].set_text('UMAP AE')\n",
    "\n",
    "#save_fig(FIGURE_DIR/'silhouette', save_pdf=True, dpi=300)"
   ]
  },
  {
   "cell_type": "code",
   "execution_count": 10,
   "metadata": {
    "ExecuteTime": {
     "end_time": "2020-07-20T17:58:07.374671Z",
     "start_time": "2020-07-20T17:58:06.828527Z"
    }
   },
   "outputs": [
    {
     "data": {
      "image/png": "[encoded data removed]",
      "text/plain": [
       "<Figure size 729x180 with 2 Axes>"
      ]
     },
     "metadata": {
      "needs_background": "light"
     },
     "output_type": "display_data"
    }
   ],
   "source": [
    "fg = sns.catplot(\n",
    "    x=\"dataset\",\n",
    "    y=\"trustworthiness\",\n",
    "    hue=\"class_\",\n",
    "    hue_order=[\"TSNE\", \"umap-learn\", \"direct\", \"network\", \"autoencoder\", \"PCA\"],\n",
    "    order = ['mnist', 'fmnist', 'macosko2015', 'cassins_dtw', 'cifar10'],\n",
    "    col=\"dim\",\n",
    "    height=2.5, \n",
    "    aspect=1.75,\n",
    "    data=metrics_df,\n",
    "    kind=\"bar\",\n",
    "    palette=palette,\n",
    "    #legend=False\n",
    ")\n",
    "(fg.despine(bottom=True)\n",
    " .set_xticklabels(['MNIST', 'FMNIST', 'Retina', 'Cassin\\'s', 'CIFAR10'])\n",
    " .set_axis_labels(\"\", \"Trustworthiness\")\n",
    ")\n",
    "ax = fg.axes[0][0]\n",
    "ax.tick_params(axis=u'both', which=u'both',length=0)\n",
    "fg._legend._legend_title_box._text.set_text(\"\")\n",
    "\n",
    "\n",
    "ax.set_title('2 Dimensions')\n",
    "ax = fg.axes[0][1]\n",
    "ax.tick_params(axis=u'both', which=u'both',length=0)\n",
    "\n",
    "ax.set_title('64 Dimensions')\n",
    "\n",
    "fg._legend.texts[np.where((np.array([i._text for i in fg._legend.texts]) == 'umap-learn'))[0][0]].set_text('UMAP-learn')\n",
    "fg._legend.texts[np.where((np.array([i._text for i in fg._legend.texts]) == 'network'))[0][0]].set_text('P. UMAP')\n",
    "fg._legend.texts[np.where((np.array([i._text for i in fg._legend.texts]) == 'direct'))[0][0]].set_text('UMAP (direct)')\n",
    "fg._legend.texts[np.where((np.array([i._text for i in fg._legend.texts]) == 'autoencoder'))[0][0]].set_text('UMAP AE')\n",
    "\n",
    "#save_fig(FIGURE_DIR/'trustworthiness', save_pdf=True, dpi=300)"
   ]
  },
  {
   "cell_type": "code",
   "execution_count": null,
   "metadata": {},
   "outputs": [],
   "source": []
  }
 ],
 "metadata": {
  "kernelspec": {
   "display_name": "Python 3",
   "language": "python",
   "name": "python3"
  },
  "language_info": {
   "codemirror_mode": {
    "name": "ipython",
    "version": 3
   },
   "file_extension": ".py",
   "mimetype": "text/x-python",
   "name": "python",
   "nbconvert_exporter": "python",
   "pygments_lexer": "ipython3",
   "version": "3.6.7"
  }
 },
 "nbformat": 4,
 "nbformat_minor": 2
}
