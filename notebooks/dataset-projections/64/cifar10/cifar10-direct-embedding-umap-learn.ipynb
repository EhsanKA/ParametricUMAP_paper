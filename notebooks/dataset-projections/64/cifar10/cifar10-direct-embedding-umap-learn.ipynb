{
 "cells": [
  {
   "cell_type": "code",
   "execution_count": 1,
   "metadata": {
    "ExecuteTime": {
     "end_time": "2020-07-14T18:14:46.549050Z",
     "start_time": "2020-07-14T18:14:46.521110Z"
    }
   },
   "outputs": [],
   "source": [
    "# reload packages\n",
    "%load_ext autoreload\n",
    "%autoreload 2"
   ]
  },
  {
   "cell_type": "markdown",
   "metadata": {},
   "source": [
    "### Choose GPU (this may not be needed on your computer)"
   ]
  },
  {
   "cell_type": "code",
   "execution_count": 2,
   "metadata": {
    "ExecuteTime": {
     "end_time": "2020-07-14T18:14:46.565736Z",
     "start_time": "2020-07-14T18:14:46.550659Z"
    }
   },
   "outputs": [
    {
     "name": "stdout",
     "output_type": "stream",
     "text": [
      "env: CUDA_DEVICE_ORDER=PCI_BUS_ID\n",
      "env: CUDA_VISIBLE_DEVICES=''\n"
     ]
    }
   ],
   "source": [
    "%env CUDA_DEVICE_ORDER=PCI_BUS_ID\n",
    "%env CUDA_VISIBLE_DEVICES=''"
   ]
  },
  {
   "cell_type": "markdown",
   "metadata": {},
   "source": [
    "### load packages"
   ]
  },
  {
   "cell_type": "code",
   "execution_count": 3,
   "metadata": {
    "ExecuteTime": {
     "end_time": "2020-07-14T18:14:58.424577Z",
     "start_time": "2020-07-14T18:14:46.567738Z"
    }
   },
   "outputs": [
    {
     "name": "stderr",
     "output_type": "stream",
     "text": [
      "/mnt/cube/tsainbur/conda_envs/tpy3/lib/python3.6/site-packages/tqdm/autonotebook/__init__.py:14: TqdmExperimentalWarning: Using `tqdm.autonotebook.tqdm` in notebook mode. Use `tqdm.tqdm` instead to force console mode (e.g. in jupyter console)\n",
      "  \" (e.g. in jupyter console)\", TqdmExperimentalWarning)\n"
     ]
    }
   ],
   "source": [
    "from tfumap.umap import tfUMAP"
   ]
  },
  {
   "cell_type": "code",
   "execution_count": 4,
   "metadata": {
    "ExecuteTime": {
     "end_time": "2020-07-14T18:14:58.651462Z",
     "start_time": "2020-07-14T18:14:58.425958Z"
    }
   },
   "outputs": [],
   "source": [
    "import tensorflow as tf\n",
    "import numpy as np\n",
    "import matplotlib.pyplot as plt\n",
    "from tqdm.autonotebook import tqdm\n",
    "import umap\n",
    "import pandas as pd"
   ]
  },
  {
   "cell_type": "markdown",
   "metadata": {},
   "source": [
    "### Load dataset"
   ]
  },
  {
   "cell_type": "code",
   "execution_count": 5,
   "metadata": {
    "ExecuteTime": {
     "end_time": "2020-07-14T18:14:58.709431Z",
     "start_time": "2020-07-14T18:14:58.653661Z"
    }
   },
   "outputs": [],
   "source": [
    "from tensorflow.keras.datasets import cifar10"
   ]
  },
  {
   "cell_type": "code",
   "execution_count": 6,
   "metadata": {
    "ExecuteTime": {
     "end_time": "2020-07-14T18:15:00.170144Z",
     "start_time": "2020-07-14T18:14:58.710723Z"
    }
   },
   "outputs": [
    {
     "name": "stdout",
     "output_type": "stream",
     "text": [
      "40000 10000 10000\n"
     ]
    }
   ],
   "source": [
    "# load dataset\n",
    "(train_images, Y_train), (test_images, Y_test) = cifar10.load_data()\n",
    "X_train = (train_images/255.).astype('float32')\n",
    "X_test = (test_images/255.).astype('float32')\n",
    "X_train = X_train.reshape((len(X_train), np.product(np.shape(X_train)[1:])))\n",
    "X_test = X_test.reshape((len(X_test), np.product(np.shape(X_test)[1:])))\n",
    "\n",
    "# subset a validation set\n",
    "n_valid = 10000\n",
    "X_valid = X_train[-n_valid:]\n",
    "Y_valid = Y_train[-n_valid:]\n",
    "X_train = X_train[:-n_valid]\n",
    "Y_train = Y_train[:-n_valid]\n",
    "\n",
    "# flatten X\n",
    "X_train_flat = X_train.reshape((len(X_train), np.product(np.shape(X_train)[1:])))\n",
    "X_test_flat = X_test.reshape((len(X_test), np.product(np.shape(X_test)[1:])))\n",
    "X_valid_flat= X_valid.reshape((len(X_valid), np.product(np.shape(X_valid)[1:])))\n",
    "print(len(X_train), len(X_valid), len(X_test))"
   ]
  },
  {
   "cell_type": "markdown",
   "metadata": {},
   "source": [
    "### Train model"
   ]
  },
  {
   "cell_type": "code",
   "execution_count": 7,
   "metadata": {
    "ExecuteTime": {
     "end_time": "2020-07-14T18:15:00.225039Z",
     "start_time": "2020-07-14T18:15:00.171224Z"
    }
   },
   "outputs": [],
   "source": [
    "from umap import UMAP"
   ]
  },
  {
   "cell_type": "code",
   "execution_count": 8,
   "metadata": {
    "ExecuteTime": {
     "end_time": "2020-07-14T18:16:20.225093Z",
     "start_time": "2020-07-14T18:15:00.226146Z"
    }
   },
   "outputs": [
    {
     "name": "stdout",
     "output_type": "stream",
     "text": [
      "UMAP(dens_frac=0.0, dens_lambda=0.0, n_components=64, verbose=True)\n",
      "Construct fuzzy simplicial set\n",
      "Tue Jul 14 11:15:00 2020 Finding Nearest Neighbors\n",
      "Tue Jul 14 11:15:00 2020 Building RP forest with 15 trees\n",
      "Tue Jul 14 11:15:03 2020 parallel NN descent for 15 iterations\n",
      "\t 0  /  15\n",
      "\t 1  /  15\n",
      "\t 2  /  15\n",
      "\t 3  /  15\n",
      "\t 4  /  15\n",
      "\t 5  /  15\n",
      "Tue Jul 14 11:15:17 2020 Finished Nearest Neighbor Search\n",
      "Tue Jul 14 11:15:20 2020 Construct embedding\n",
      "\tcompleted  0  /  200 epochs\n",
      "\tcompleted  20  /  200 epochs\n",
      "\tcompleted  40  /  200 epochs\n",
      "\tcompleted  60  /  200 epochs\n",
      "\tcompleted  80  /  200 epochs\n",
      "\tcompleted  100  /  200 epochs\n",
      "\tcompleted  120  /  200 epochs\n",
      "\tcompleted  140  /  200 epochs\n",
      "\tcompleted  160  /  200 epochs\n",
      "\tcompleted  180  /  200 epochs\n",
      "Tue Jul 14 11:16:19 2020 Finished embedding\n"
     ]
    }
   ],
   "source": [
    "embedder = UMAP(n_components = 64, verbose=True)\n",
    "z_umap = embedder.fit_transform(X_train_flat)"
   ]
  },
  {
   "cell_type": "code",
   "execution_count": 9,
   "metadata": {
    "ExecuteTime": {
     "end_time": "2020-07-14T18:16:22.102110Z",
     "start_time": "2020-07-14T18:16:20.227613Z"
    }
   },
   "outputs": [
    {
     "data": {
      "image/png": "[encoded data removed]",
      "text/plain": [
       "<Figure size 576x576 with 2 Axes>"
      ]
     },
     "metadata": {
      "needs_background": "light"
     },
     "output_type": "display_data"
    }
   ],
   "source": [
    "fig, ax = plt.subplots( figsize=(8, 8))\n",
    "sc = ax.scatter(\n",
    "    z_umap[:, 0],\n",
    "    z_umap[:, 1],\n",
    "    c=Y_train.flatten(),\n",
    "    cmap=\"tab10\",\n",
    "    s=0.1,\n",
    "    alpha=0.5,\n",
    "    rasterized=True,\n",
    ")\n",
    "ax.axis('equal')\n",
    "ax.set_title(\"UMAP in Tensorflow embedding\", fontsize=20)\n",
    "plt.colorbar(sc, ax=ax);"
   ]
  },
  {
   "cell_type": "markdown",
   "metadata": {},
   "source": [
    "### Save output"
   ]
  },
  {
   "cell_type": "code",
   "execution_count": 10,
   "metadata": {
    "ExecuteTime": {
     "end_time": "2020-07-14T18:16:22.149163Z",
     "start_time": "2020-07-14T18:16:22.103342Z"
    }
   },
   "outputs": [],
   "source": [
    "import os\n",
    "import pickle"
   ]
  },
  {
   "cell_type": "code",
   "execution_count": 11,
   "metadata": {
    "ExecuteTime": {
     "end_time": "2020-07-14T18:16:22.206522Z",
     "start_time": "2020-07-14T18:16:22.151103Z"
    }
   },
   "outputs": [],
   "source": [
    "from tfumap.paths import ensure_dir, MODEL_DIR"
   ]
  },
  {
   "cell_type": "code",
   "execution_count": 12,
   "metadata": {
    "ExecuteTime": {
     "end_time": "2020-07-14T18:16:22.284650Z",
     "start_time": "2020-07-14T18:16:22.207938Z"
    }
   },
   "outputs": [],
   "source": [
    "output_dir = MODEL_DIR/'projections'/ 'cifar10' / '64'/ 'umap-learn'\n",
    "ensure_dir(output_dir)"
   ]
  },
  {
   "cell_type": "code",
   "execution_count": 13,
   "metadata": {
    "ExecuteTime": {
     "end_time": "2020-07-14T18:16:32.750783Z",
     "start_time": "2020-07-14T18:16:22.286179Z"
    }
   },
   "outputs": [],
   "source": [
    "with open(os.path.join(output_dir, \"model.pkl\"), \"wb\") as output:\n",
    "    pickle.dump(embedder, output, pickle.HIGHEST_PROTOCOL)"
   ]
  },
  {
   "cell_type": "code",
   "execution_count": 14,
   "metadata": {
    "ExecuteTime": {
     "end_time": "2020-07-14T18:16:33.200062Z",
     "start_time": "2020-07-14T18:16:32.752300Z"
    }
   },
   "outputs": [],
   "source": [
    "np.save(output_dir / 'z.npy', z_umap)"
   ]
  },
  {
   "cell_type": "code",
   "execution_count": null,
   "metadata": {},
   "outputs": [],
   "source": []
  }
 ],
 "metadata": {
  "kernelspec": {
   "display_name": "Python 3",
   "language": "python",
   "name": "python3"
  },
  "language_info": {
   "codemirror_mode": {
    "name": "ipython",
    "version": 3
   },
   "file_extension": ".py",
   "mimetype": "text/x-python",
   "name": "python",
   "nbconvert_exporter": "python",
   "pygments_lexer": "ipython3",
   "version": "3.6.7"
  }
 },
 "nbformat": 4,
 "nbformat_minor": 2
}
