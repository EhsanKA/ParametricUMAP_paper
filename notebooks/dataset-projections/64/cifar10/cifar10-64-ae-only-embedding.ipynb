{
 "cells": [
  {
   "cell_type": "code",
   "execution_count": 1,
   "metadata": {
    "ExecuteTime": {
     "end_time": "2020-08-22T05:03:49.542236Z",
     "start_time": "2020-08-22T05:03:49.530814Z"
    }
   },
   "outputs": [],
   "source": [
    "# reload packages\n",
    "%load_ext autoreload\n",
    "%autoreload 2"
   ]
  },
  {
   "cell_type": "markdown",
   "metadata": {},
   "source": [
    "### Choose GPU (this may not be needed on your computer)"
   ]
  },
  {
   "cell_type": "code",
   "execution_count": 2,
   "metadata": {
    "ExecuteTime": {
     "end_time": "2020-08-22T05:03:49.551562Z",
     "start_time": "2020-08-22T05:03:49.543104Z"
    }
   },
   "outputs": [
    {
     "name": "stdout",
     "output_type": "stream",
     "text": [
      "env: CUDA_DEVICE_ORDER=PCI_BUS_ID\n",
      "env: CUDA_VISIBLE_DEVICES=0\n"
     ]
    }
   ],
   "source": [
    "%env CUDA_DEVICE_ORDER=PCI_BUS_ID\n",
    "%env CUDA_VISIBLE_DEVICES=0"
   ]
  },
  {
   "cell_type": "code",
   "execution_count": 3,
   "metadata": {
    "ExecuteTime": {
     "end_time": "2020-08-22T05:03:52.862208Z",
     "start_time": "2020-08-22T05:03:49.552823Z"
    }
   },
   "outputs": [
    {
     "name": "stdout",
     "output_type": "stream",
     "text": [
      "[PhysicalDevice(name='/physical_device:GPU:0', device_type='GPU')]\n"
     ]
    }
   ],
   "source": [
    "import tensorflow as tf\n",
    "gpu_devices = tf.config.experimental.list_physical_devices('GPU')\n",
    "if len(gpu_devices)>0:\n",
    "    tf.config.experimental.set_memory_growth(gpu_devices[0], True)\n",
    "print(gpu_devices)\n",
    "tf.keras.backend.clear_session()"
   ]
  },
  {
   "cell_type": "markdown",
   "metadata": {},
   "source": [
    "### load packages"
   ]
  },
  {
   "cell_type": "code",
   "execution_count": 4,
   "metadata": {
    "ExecuteTime": {
     "end_time": "2020-08-22T05:03:57.550187Z",
     "start_time": "2020-08-22T05:03:52.863863Z"
    }
   },
   "outputs": [
    {
     "name": "stderr",
     "output_type": "stream",
     "text": [
      "/mnt/cube/tsainbur/conda_envs/tpy3/lib/python3.6/site-packages/tqdm/autonotebook/__init__.py:14: TqdmExperimentalWarning: Using `tqdm.autonotebook.tqdm` in notebook mode. Use `tqdm.tqdm` instead to force console mode (e.g. in jupyter console)\n",
      "  \" (e.g. in jupyter console)\", TqdmExperimentalWarning)\n"
     ]
    }
   ],
   "source": [
    "from tfumap.umap import tfUMAP"
   ]
  },
  {
   "cell_type": "code",
   "execution_count": 5,
   "metadata": {
    "ExecuteTime": {
     "end_time": "2020-08-22T05:03:57.690694Z",
     "start_time": "2020-08-22T05:03:57.551666Z"
    }
   },
   "outputs": [],
   "source": [
    "import tensorflow as tf\n",
    "import numpy as np\n",
    "import matplotlib.pyplot as plt\n",
    "from tqdm.autonotebook import tqdm\n",
    "import umap\n",
    "import pandas as pd"
   ]
  },
  {
   "cell_type": "markdown",
   "metadata": {},
   "source": [
    "### Load dataset"
   ]
  },
  {
   "cell_type": "code",
   "execution_count": 6,
   "metadata": {
    "ExecuteTime": {
     "end_time": "2020-08-22T05:03:57.732237Z",
     "start_time": "2020-08-22T05:03:57.691872Z"
    }
   },
   "outputs": [],
   "source": [
    "dataset = 'cifar10'\n",
    "dims = (32,32,3)\n",
    "n_components = 64"
   ]
  },
  {
   "cell_type": "code",
   "execution_count": 7,
   "metadata": {
    "ExecuteTime": {
     "end_time": "2020-08-22T05:03:57.770307Z",
     "start_time": "2020-08-22T05:03:57.733471Z"
    }
   },
   "outputs": [],
   "source": [
    "from tensorflow.keras.datasets import cifar10"
   ]
  },
  {
   "cell_type": "code",
   "execution_count": 8,
   "metadata": {
    "ExecuteTime": {
     "end_time": "2020-08-22T05:03:58.980744Z",
     "start_time": "2020-08-22T05:03:57.771737Z"
    }
   },
   "outputs": [
    {
     "name": "stdout",
     "output_type": "stream",
     "text": [
      "40000 10000 10000\n"
     ]
    }
   ],
   "source": [
    "# load dataset\n",
    "(train_images, Y_train), (test_images, Y_test) = cifar10.load_data()\n",
    "X_train = (train_images/255.).astype('float32')\n",
    "X_test = (test_images/255.).astype('float32')\n",
    "X_train = X_train.reshape((len(X_train), np.product(np.shape(X_train)[1:])))\n",
    "X_test = X_test.reshape((len(X_test), np.product(np.shape(X_test)[1:])))\n",
    "\n",
    "# subset a validation set\n",
    "n_valid = 10000\n",
    "X_valid = X_train[-n_valid:]\n",
    "Y_valid = Y_train[-n_valid:]\n",
    "X_train = X_train[:-n_valid]\n",
    "Y_train = Y_train[:-n_valid]\n",
    "\n",
    "# flatten X\n",
    "X_train_flat = X_train.reshape((len(X_train), np.product(np.shape(X_train)[1:])))\n",
    "X_test_flat = X_test.reshape((len(X_test), np.product(np.shape(X_test)[1:])))\n",
    "X_valid_flat= X_valid.reshape((len(X_valid), np.product(np.shape(X_valid)[1:])))\n",
    "print(len(X_train), len(X_valid), len(X_test))"
   ]
  },
  {
   "cell_type": "markdown",
   "metadata": {},
   "source": [
    "### define networks"
   ]
  },
  {
   "cell_type": "code",
   "execution_count": 9,
   "metadata": {
    "ExecuteTime": {
     "end_time": "2020-08-22T05:03:59.763571Z",
     "start_time": "2020-08-22T05:03:58.983468Z"
    }
   },
   "outputs": [],
   "source": [
    "encoder = tf.keras.Sequential([\n",
    "    tf.keras.layers.InputLayer(input_shape=dims),\n",
    "    tf.keras.layers.Conv2D(\n",
    "        filters=32, kernel_size=3, strides=(2, 2), activation=\"relu\"\n",
    "    ),\n",
    "    tf.keras.layers.Conv2D(\n",
    "        filters=64, kernel_size=3, strides=(2, 2), activation=\"relu\"\n",
    "    ),\n",
    "    tf.keras.layers.Conv2D(\n",
    "        filters=128, kernel_size=3, strides=(2, 2), activation=\"relu\"\n",
    "    ),\n",
    "\n",
    "    tf.keras.layers.Flatten(),\n",
    "    tf.keras.layers.Dense(units=512, activation=\"relu\"),\n",
    "    tf.keras.layers.Dense(units=n_components),\n",
    "])"
   ]
  },
  {
   "cell_type": "code",
   "execution_count": 10,
   "metadata": {
    "ExecuteTime": {
     "end_time": "2020-08-22T05:03:59.882785Z",
     "start_time": "2020-08-22T05:03:59.764801Z"
    }
   },
   "outputs": [],
   "source": [
    "decoder = tf.keras.Sequential([\n",
    "    tf.keras.layers.InputLayer(input_shape=(n_components)),\n",
    "    tf.keras.layers.Dense(units=512, activation=\"relu\"),\n",
    "    tf.keras.layers.Dense(units=4 * 4 * 128, activation=\"relu\"),\n",
    "    tf.keras.layers.Reshape(target_shape=(4, 4, 128)),\n",
    "    tf.keras.layers.Conv2DTranspose(\n",
    "        filters=128, kernel_size=3, strides=(2, 2), padding=\"SAME\", activation=\"relu\"\n",
    "    ),\n",
    "    tf.keras.layers.Conv2DTranspose(\n",
    "        filters=64, kernel_size=3, strides=(2, 2), padding=\"SAME\", activation=\"relu\"\n",
    "    ),\n",
    "    tf.keras.layers.Conv2DTranspose(\n",
    "        filters=32, kernel_size=3, strides=(2, 2), padding=\"SAME\", activation=\"relu\"\n",
    "    ),\n",
    "    tf.keras.layers.Conv2DTranspose(\n",
    "        filters=3, kernel_size=3, strides=(1, 1), padding=\"SAME\", activation=\"sigmoid\"\n",
    "    )\n",
    "])"
   ]
  },
  {
   "cell_type": "code",
   "execution_count": 11,
   "metadata": {
    "ExecuteTime": {
     "end_time": "2020-08-22T05:03:59.973422Z",
     "start_time": "2020-08-22T05:03:59.884120Z"
    }
   },
   "outputs": [],
   "source": [
    "input_img = tf.keras.Input(dims)\n",
    "output_img = decoder(encoder(input_img))\n",
    "autoencoder = tf.keras.Model(input_img, output_img)"
   ]
  },
  {
   "cell_type": "code",
   "execution_count": 12,
   "metadata": {
    "ExecuteTime": {
     "end_time": "2020-08-22T05:04:00.049309Z",
     "start_time": "2020-08-22T05:03:59.976150Z"
    }
   },
   "outputs": [],
   "source": [
    "autoencoder.compile(optimizer='adam', loss='binary_crossentropy')"
   ]
  },
  {
   "cell_type": "code",
   "execution_count": 13,
   "metadata": {
    "ExecuteTime": {
     "end_time": "2020-08-22T05:08:28.163907Z",
     "start_time": "2020-08-22T05:04:00.052198Z"
    },
    "scrolled": true
   },
   "outputs": [
    {
     "name": "stdout",
     "output_type": "stream",
     "text": [
      "Epoch 1/50\n",
      "157/157 [==============================] - 2s 15ms/step - loss: 0.6338\n",
      "Epoch 2/50\n",
      "157/157 [==============================] - 2s 16ms/step - loss: 0.5970\n",
      "Epoch 3/50\n",
      "157/157 [==============================] - 3s 21ms/step - loss: 0.5895\n",
      "Epoch 4/50\n",
      "157/157 [==============================] - 4s 22ms/step - loss: 0.5828\n",
      "Epoch 5/50\n",
      "157/157 [==============================] - 4s 24ms/step - loss: 0.5785\n",
      "Epoch 6/50\n",
      "157/157 [==============================] - 4s 23ms/step - loss: 0.5763\n",
      "Epoch 7/50\n",
      "157/157 [==============================] - 4s 24ms/step - loss: 0.5751\n",
      "Epoch 8/50\n",
      "157/157 [==============================] - 4s 24ms/step - loss: 0.5742\n",
      "Epoch 9/50\n",
      "157/157 [==============================] - 5s 30ms/step - loss: 0.5732\n",
      "Epoch 10/50\n",
      "157/157 [==============================] - 5s 33ms/step - loss: 0.5725\n",
      "Epoch 11/50\n",
      "157/157 [==============================] - 5s 32ms/step - loss: 0.5718\n",
      "Epoch 12/50\n",
      "157/157 [==============================] - 5s 33ms/step - loss: 0.5709\n",
      "Epoch 13/50\n",
      "157/157 [==============================] - 5s 33ms/step - loss: 0.5700\n",
      "Epoch 14/50\n",
      "157/157 [==============================] - 5s 34ms/step - loss: 0.5694\n",
      "Epoch 15/50\n",
      "157/157 [==============================] - 5s 34ms/step - loss: 0.5691\n",
      "Epoch 16/50\n",
      "157/157 [==============================] - 5s 34ms/step - loss: 0.5688\n",
      "Epoch 17/50\n",
      "157/157 [==============================] - 5s 34ms/step - loss: 0.5685\n",
      "Epoch 18/50\n",
      "157/157 [==============================] - 6s 40ms/step - loss: 0.5683\n",
      "Epoch 19/50\n",
      "157/157 [==============================] - 7s 43ms/step - loss: 0.5679\n",
      "Epoch 20/50\n",
      "157/157 [==============================] - 7s 42ms/step - loss: 0.5678\n",
      "Epoch 21/50\n",
      "157/157 [==============================] - 7s 43ms/step - loss: 0.5675\n",
      "Epoch 22/50\n",
      "157/157 [==============================] - 7s 43ms/step - loss: 0.5676\n",
      "Epoch 23/50\n",
      "157/157 [==============================] - 7s 43ms/step - loss: 0.5674\n",
      "Epoch 24/50\n",
      "157/157 [==============================] - 6s 39ms/step - loss: 0.5674\n",
      "Epoch 25/50\n",
      "157/157 [==============================] - 6s 36ms/step - loss: 0.5672\n",
      "Epoch 26/50\n",
      "157/157 [==============================] - 6s 36ms/step - loss: 0.5672\n",
      "Epoch 27/50\n",
      "157/157 [==============================] - 6s 35ms/step - loss: 0.5672\n",
      "Epoch 28/50\n",
      "157/157 [==============================] - 6s 35ms/step - loss: 0.5671\n",
      "Epoch 29/50\n",
      "157/157 [==============================] - 6s 36ms/step - loss: 0.5670\n",
      "Epoch 30/50\n",
      "157/157 [==============================] - 6s 35ms/step - loss: 0.5669\n",
      "Epoch 31/50\n",
      "157/157 [==============================] - 5s 35ms/step - loss: 0.5670\n",
      "Epoch 32/50\n",
      "157/157 [==============================] - 6s 36ms/step - loss: 0.5667\n",
      "Epoch 33/50\n",
      "157/157 [==============================] - 6s 35ms/step - loss: 0.5668\n",
      "Epoch 34/50\n",
      "157/157 [==============================] - 6s 35ms/step - loss: 0.5669\n",
      "Epoch 35/50\n",
      "157/157 [==============================] - 6s 36ms/step - loss: 0.5666\n",
      "Epoch 36/50\n",
      "157/157 [==============================] - 6s 36ms/step - loss: 0.5667\n",
      "Epoch 37/50\n",
      "157/157 [==============================] - 5s 35ms/step - loss: 0.5666\n",
      "Epoch 38/50\n",
      "157/157 [==============================] - 6s 35ms/step - loss: 0.5665\n",
      "Epoch 39/50\n",
      "157/157 [==============================] - 6s 35ms/step - loss: 0.5666\n",
      "Epoch 40/50\n",
      "157/157 [==============================] - 6s 35ms/step - loss: 0.5664\n",
      "Epoch 41/50\n",
      "157/157 [==============================] - 6s 36ms/step - loss: 0.5664\n",
      "Epoch 42/50\n",
      "157/157 [==============================] - 6s 35ms/step - loss: 0.5664\n",
      "Epoch 43/50\n",
      "157/157 [==============================] - 6s 35ms/step - loss: 0.5664\n",
      "Epoch 44/50\n",
      "157/157 [==============================] - 6s 36ms/step - loss: 0.5662\n",
      "Epoch 45/50\n",
      "157/157 [==============================] - 6s 35ms/step - loss: 0.5663\n",
      "Epoch 46/50\n",
      "157/157 [==============================] - 6s 36ms/step - loss: 0.5664\n",
      "Epoch 47/50\n",
      "157/157 [==============================] - 5s 35ms/step - loss: 0.5661\n",
      "Epoch 48/50\n",
      "157/157 [==============================] - 6s 36ms/step - loss: 0.5661\n",
      "Epoch 49/50\n",
      "157/157 [==============================] - 6s 36ms/step - loss: 0.5661\n",
      "Epoch 50/50\n",
      "157/157 [==============================] - 5s 35ms/step - loss: 0.5662\n"
     ]
    }
   ],
   "source": [
    "X_train = X_train.reshape([len(X_train)] + list(dims))\n",
    "history = autoencoder.fit(X_train, X_train,\n",
    "                epochs=50,\n",
    "                batch_size=256,\n",
    "                shuffle=True,\n",
    "                #validation_data=(X_valid, X_valid)\n",
    "                         )"
   ]
  },
  {
   "cell_type": "code",
   "execution_count": 14,
   "metadata": {
    "ExecuteTime": {
     "end_time": "2020-08-22T05:08:33.682359Z",
     "start_time": "2020-08-22T05:08:28.165492Z"
    }
   },
   "outputs": [],
   "source": [
    "z = encoder.predict(X_train)"
   ]
  },
  {
   "cell_type": "markdown",
   "metadata": {},
   "source": [
    "### Plot model output"
   ]
  },
  {
   "cell_type": "code",
   "execution_count": 15,
   "metadata": {
    "ExecuteTime": {
     "end_time": "2020-08-22T05:08:35.049969Z",
     "start_time": "2020-08-22T05:08:33.686708Z"
    }
   },
   "outputs": [
    {
     "data": {
      "image/png": "[encoded data removed]",
      "text/plain": [
       "<Figure size 576x576 with 2 Axes>"
      ]
     },
     "metadata": {
      "needs_background": "light"
     },
     "output_type": "display_data"
    }
   ],
   "source": [
    "fig, ax = plt.subplots( figsize=(8, 8))\n",
    "sc = ax.scatter(\n",
    "    z[:, 0],\n",
    "    z[:, 1],\n",
    "    c=Y_train.astype(int)[:len(z)].flatten(),\n",
    "    cmap=\"tab10\",\n",
    "    s=0.1,\n",
    "    alpha=0.5,\n",
    "    rasterized=True,\n",
    ")\n",
    "ax.axis('equal')\n",
    "ax.set_title(\"UMAP in Tensorflow embedding\", fontsize=20)\n",
    "plt.colorbar(sc, ax=ax);"
   ]
  },
  {
   "cell_type": "markdown",
   "metadata": {},
   "source": [
    "### View loss"
   ]
  },
  {
   "cell_type": "code",
   "execution_count": 16,
   "metadata": {
    "ExecuteTime": {
     "end_time": "2020-08-22T05:08:35.143493Z",
     "start_time": "2020-08-22T05:08:35.052610Z"
    }
   },
   "outputs": [],
   "source": [
    "from tfumap.umap import retrieve_tensors\n",
    "import seaborn as sns"
   ]
  },
  {
   "cell_type": "markdown",
   "metadata": {},
   "source": [
    "### Save output"
   ]
  },
  {
   "cell_type": "code",
   "execution_count": 17,
   "metadata": {
    "ExecuteTime": {
     "end_time": "2020-08-22T05:08:35.194149Z",
     "start_time": "2020-08-22T05:08:35.145610Z"
    }
   },
   "outputs": [],
   "source": [
    "from tfumap.paths import ensure_dir, MODEL_DIR"
   ]
  },
  {
   "cell_type": "code",
   "execution_count": 18,
   "metadata": {
    "ExecuteTime": {
     "end_time": "2020-08-22T05:08:35.238572Z",
     "start_time": "2020-08-22T05:08:35.195565Z"
    }
   },
   "outputs": [],
   "source": [
    "output_dir = MODEL_DIR/'projections'/ dataset / '64' /'ae_only'\n",
    "ensure_dir(output_dir)"
   ]
  },
  {
   "cell_type": "code",
   "execution_count": 19,
   "metadata": {
    "ExecuteTime": {
     "end_time": "2020-08-22T05:08:35.880423Z",
     "start_time": "2020-08-22T05:08:35.239925Z"
    }
   },
   "outputs": [
    {
     "name": "stderr",
     "output_type": "stream",
     "text": [
      "WARNING: Logging before flag parsing goes to stderr.\n",
      "W0821 22:08:35.451343 140392930293568 deprecation.py:323] From /mnt/cube/tsainbur/conda_envs/tpy3/lib/python3.6/site-packages/tensorflow/python/training/tracking/tracking.py:111: Model.state_updates (from tensorflow.python.keras.engine.training) is deprecated and will be removed in a future version.\n",
      "Instructions for updating:\n",
      "This property should not be used in TensorFlow 2.0, as updates are applied automatically.\n",
      "W0821 22:08:35.466518 140392930293568 deprecation.py:323] From /mnt/cube/tsainbur/conda_envs/tpy3/lib/python3.6/site-packages/tensorflow/python/training/tracking/tracking.py:111: Layer.updates (from tensorflow.python.keras.engine.base_layer) is deprecated and will be removed in a future version.\n",
      "Instructions for updating:\n",
      "This property should not be used in TensorFlow 2.0, as updates are applied automatically.\n",
      "I0821 22:08:35.859143 140392930293568 builder_impl.py:775] Assets written to: /mnt/cube/tsainbur/Projects/github_repos/umap_tf_networks/models/projections/cifar10/64/ae_only/encoder/assets\n"
     ]
    }
   ],
   "source": [
    "encoder.save(output_dir / 'encoder')"
   ]
  },
  {
   "cell_type": "code",
   "execution_count": 20,
   "metadata": {
    "ExecuteTime": {
     "end_time": "2020-08-22T05:08:37.049163Z",
     "start_time": "2020-08-22T05:08:35.881996Z"
    }
   },
   "outputs": [
    {
     "name": "stderr",
     "output_type": "stream",
     "text": [
      "I0821 22:08:37.010614 140392930293568 builder_impl.py:775] Assets written to: /mnt/cube/tsainbur/Projects/github_repos/umap_tf_networks/models/projections/cifar10/64/ae_only/encoder/assets\n"
     ]
    }
   ],
   "source": [
    "decoder.save(output_dir / 'encoder')"
   ]
  },
  {
   "cell_type": "code",
   "execution_count": 21,
   "metadata": {
    "ExecuteTime": {
     "end_time": "2020-08-22T05:08:37.089402Z",
     "start_time": "2020-08-22T05:08:37.050555Z"
    }
   },
   "outputs": [],
   "source": [
    "#loss_df.to_pickle(output_dir / 'loss_df.pickle')"
   ]
  },
  {
   "cell_type": "code",
   "execution_count": 22,
   "metadata": {
    "ExecuteTime": {
     "end_time": "2020-08-22T05:08:37.147369Z",
     "start_time": "2020-08-22T05:08:37.090805Z"
    }
   },
   "outputs": [],
   "source": [
    "np.save(output_dir / 'z.npy', z)"
   ]
  },
  {
   "cell_type": "markdown",
   "metadata": {},
   "source": [
    "### compute metrics "
   ]
  },
  {
   "cell_type": "code",
   "execution_count": 23,
   "metadata": {
    "ExecuteTime": {
     "end_time": "2020-08-22T05:08:37.193619Z",
     "start_time": "2020-08-22T05:08:37.148807Z"
    }
   },
   "outputs": [
    {
     "data": {
      "text/plain": [
       "(10000, 3072)"
      ]
     },
     "execution_count": 23,
     "metadata": {},
     "output_type": "execute_result"
    }
   ],
   "source": [
    "X_test.shape"
   ]
  },
  {
   "cell_type": "code",
   "execution_count": 24,
   "metadata": {
    "ExecuteTime": {
     "end_time": "2020-08-22T05:08:38.800973Z",
     "start_time": "2020-08-22T05:08:37.194937Z"
    }
   },
   "outputs": [],
   "source": [
    "z_test = encoder.predict(X_test.reshape((len(X_test), 32,32,3)))"
   ]
  },
  {
   "cell_type": "markdown",
   "metadata": {},
   "source": [
    "#### silhouette"
   ]
  },
  {
   "cell_type": "code",
   "execution_count": 25,
   "metadata": {
    "ExecuteTime": {
     "end_time": "2020-08-22T05:08:38.847143Z",
     "start_time": "2020-08-22T05:08:38.802341Z"
    }
   },
   "outputs": [],
   "source": [
    "from tfumap.silhouette import silhouette_score_block"
   ]
  },
  {
   "cell_type": "code",
   "execution_count": 26,
   "metadata": {
    "ExecuteTime": {
     "end_time": "2020-08-22T05:08:46.066321Z",
     "start_time": "2020-08-22T05:08:38.848276Z"
    }
   },
   "outputs": [
    {
     "data": {
      "text/plain": [
       "-0.06435754681531324"
      ]
     },
     "execution_count": 26,
     "metadata": {},
     "output_type": "execute_result"
    }
   ],
   "source": [
    "ss, sil_samp = silhouette_score_block(z, Y_train, n_jobs = -1)\n",
    "ss"
   ]
  },
  {
   "cell_type": "code",
   "execution_count": 27,
   "metadata": {
    "ExecuteTime": {
     "end_time": "2020-08-22T05:08:46.472925Z",
     "start_time": "2020-08-22T05:08:46.068757Z"
    }
   },
   "outputs": [
    {
     "data": {
      "text/plain": [
       "-0.06772076917227814"
      ]
     },
     "execution_count": 27,
     "metadata": {},
     "output_type": "execute_result"
    }
   ],
   "source": [
    "ss_test, sil_samp_test = silhouette_score_block(z_test, Y_test, n_jobs = -1)\n",
    "ss_test"
   ]
  },
  {
   "cell_type": "code",
   "execution_count": 28,
   "metadata": {
    "ExecuteTime": {
     "end_time": "2020-08-22T05:08:48.221241Z",
     "start_time": "2020-08-22T05:08:46.474334Z"
    }
   },
   "outputs": [
    {
     "data": {
      "text/plain": [
       "<matplotlib.collections.PathCollection at 0x7faeac787ba8>"
      ]
     },
     "execution_count": 28,
     "metadata": {},
     "output_type": "execute_result"
    },
    {
     "data": {
      "image/png": "[encoded data removed]",
      "text/plain": [
       "<Figure size 720x360 with 2 Axes>"
      ]
     },
     "metadata": {
      "needs_background": "light"
     },
     "output_type": "display_data"
    }
   ],
   "source": [
    "fig, axs = plt.subplots(ncols = 2, figsize=(10, 5))\n",
    "axs[0].scatter(z[:, 0], z[:, 1], s=0.1, alpha=0.5, c=sil_samp, cmap=plt.cm.viridis)\n",
    "axs[1].scatter(z_test[:, 0], z_test[:, 1], s=1, alpha=0.5, c=sil_samp_test, cmap=plt.cm.viridis)"
   ]
  },
  {
   "cell_type": "markdown",
   "metadata": {},
   "source": [
    "#### KNN"
   ]
  },
  {
   "cell_type": "code",
   "execution_count": 29,
   "metadata": {
    "ExecuteTime": {
     "end_time": "2020-08-22T05:08:48.263959Z",
     "start_time": "2020-08-22T05:08:48.222476Z"
    }
   },
   "outputs": [],
   "source": [
    "from sklearn.neighbors import KNeighborsClassifier"
   ]
  },
  {
   "cell_type": "code",
   "execution_count": 30,
   "metadata": {
    "ExecuteTime": {
     "end_time": "2020-08-22T05:10:18.982134Z",
     "start_time": "2020-08-22T05:08:48.265560Z"
    }
   },
   "outputs": [
    {
     "data": {
      "text/plain": [
       "0.3728"
      ]
     },
     "execution_count": 30,
     "metadata": {},
     "output_type": "execute_result"
    }
   ],
   "source": [
    "neigh5 = KNeighborsClassifier(n_neighbors=5)\n",
    "neigh5.fit(z, Y_train.flatten())\n",
    "score_5nn = neigh5.score(z_test, Y_test)\n",
    "score_5nn"
   ]
  },
  {
   "cell_type": "code",
   "execution_count": 31,
   "metadata": {
    "ExecuteTime": {
     "end_time": "2020-08-22T05:11:43.976713Z",
     "start_time": "2020-08-22T05:10:18.983797Z"
    }
   },
   "outputs": [
    {
     "name": "stderr",
     "output_type": "stream",
     "text": [
      "/mnt/cube/tsainbur/conda_envs/tpy3/lib/python3.6/site-packages/ipykernel_launcher.py:2: DataConversionWarning: A column-vector y was passed when a 1d array was expected. Please change the shape of y to (n_samples, ), for example using ravel().\n",
      "  \n"
     ]
    },
    {
     "data": {
      "text/plain": [
       "0.379"
      ]
     },
     "execution_count": 31,
     "metadata": {},
     "output_type": "execute_result"
    }
   ],
   "source": [
    "neigh1 = KNeighborsClassifier(n_neighbors=1)\n",
    "neigh1.fit(z, Y_train)\n",
    "score_1nn = neigh1.score(z_test, Y_test)\n",
    "score_1nn"
   ]
  },
  {
   "cell_type": "markdown",
   "metadata": {},
   "source": [
    "#### Trustworthiness"
   ]
  },
  {
   "cell_type": "code",
   "execution_count": 32,
   "metadata": {
    "ExecuteTime": {
     "end_time": "2020-08-22T05:11:44.125602Z",
     "start_time": "2020-08-22T05:11:43.978819Z"
    }
   },
   "outputs": [],
   "source": [
    "from sklearn.manifold import trustworthiness"
   ]
  },
  {
   "cell_type": "code",
   "execution_count": 33,
   "metadata": {
    "ExecuteTime": {
     "end_time": "2020-08-22T05:12:16.128142Z",
     "start_time": "2020-08-22T05:11:44.128425Z"
    }
   },
   "outputs": [],
   "source": [
    "tw = trustworthiness(X_train_flat[:10000], z[:10000])"
   ]
  },
  {
   "cell_type": "code",
   "execution_count": 34,
   "metadata": {
    "ExecuteTime": {
     "end_time": "2020-08-22T05:12:44.006501Z",
     "start_time": "2020-08-22T05:12:16.130789Z"
    }
   },
   "outputs": [],
   "source": [
    "tw_test = trustworthiness(X_test_flat[:10000], z_test[:10000])"
   ]
  },
  {
   "cell_type": "code",
   "execution_count": 35,
   "metadata": {
    "ExecuteTime": {
     "end_time": "2020-08-22T05:12:44.060078Z",
     "start_time": "2020-08-22T05:12:44.008536Z"
    }
   },
   "outputs": [
    {
     "data": {
      "text/plain": [
       "(0.9991580104083266, 0.9990815292233787)"
      ]
     },
     "execution_count": 35,
     "metadata": {},
     "output_type": "execute_result"
    }
   ],
   "source": [
    "tw, tw_test"
   ]
  },
  {
   "cell_type": "markdown",
   "metadata": {},
   "source": [
    "### Save output metrics"
   ]
  },
  {
   "cell_type": "code",
   "execution_count": 36,
   "metadata": {
    "ExecuteTime": {
     "end_time": "2020-08-22T05:12:44.106714Z",
     "start_time": "2020-08-22T05:12:44.061335Z"
    }
   },
   "outputs": [],
   "source": [
    "from tfumap.paths import ensure_dir, MODEL_DIR, DATA_DIR"
   ]
  },
  {
   "cell_type": "markdown",
   "metadata": {},
   "source": [
    "#### train"
   ]
  },
  {
   "cell_type": "code",
   "execution_count": 37,
   "metadata": {
    "ExecuteTime": {
     "end_time": "2020-08-22T05:12:44.197407Z",
     "start_time": "2020-08-22T05:12:44.108322Z"
    }
   },
   "outputs": [
    {
     "data": {
      "text/html": [
       "<div>\n",
       "<style scoped>\n",
       "    .dataframe tbody tr th:only-of-type {\n",
       "        vertical-align: middle;\n",
       "    }\n",
       "\n",
       "    .dataframe tbody tr th {\n",
       "        vertical-align: top;\n",
       "    }\n",
       "\n",
       "    .dataframe thead th {\n",
       "        text-align: right;\n",
       "    }\n",
       "</style>\n",
       "<table border=\"1\" class=\"dataframe\">\n",
       "  <thead>\n",
       "    <tr style=\"text-align: right;\">\n",
       "      <th></th>\n",
       "      <th>dataset</th>\n",
       "      <th>class_</th>\n",
       "      <th>dim</th>\n",
       "      <th>trustworthiness</th>\n",
       "      <th>silhouette_score</th>\n",
       "      <th>silhouette_samples</th>\n",
       "    </tr>\n",
       "  </thead>\n",
       "  <tbody>\n",
       "    <tr>\n",
       "      <th>0</th>\n",
       "      <td>cifar10</td>\n",
       "      <td>ae_only</td>\n",
       "      <td>64</td>\n",
       "      <td>0.999158</td>\n",
       "      <td>-0.064358</td>\n",
       "      <td>[0.005307908321667048, -0.0819039974256925, 0....</td>\n",
       "    </tr>\n",
       "  </tbody>\n",
       "</table>\n",
       "</div>"
      ],
      "text/plain": [
       "   dataset   class_ dim  trustworthiness  silhouette_score  \\\n",
       "0  cifar10  ae_only  64         0.999158         -0.064358   \n",
       "\n",
       "                                  silhouette_samples  \n",
       "0  [0.005307908321667048, -0.0819039974256925, 0....  "
      ]
     },
     "execution_count": 37,
     "metadata": {},
     "output_type": "execute_result"
    }
   ],
   "source": [
    "metrics_df = pd.DataFrame(\n",
    "    columns=[\n",
    "        \"dataset\",\n",
    "        \"class_\",\n",
    "        \"dim\",\n",
    "        \"trustworthiness\",\n",
    "        \"silhouette_score\",\n",
    "        \"silhouette_samples\",\n",
    "    ]\n",
    ")\n",
    "metrics_df.loc[len(metrics_df)] = [dataset, 'ae_only', n_components, tw, ss, sil_samp]\n",
    "metrics_df"
   ]
  },
  {
   "cell_type": "code",
   "execution_count": 38,
   "metadata": {
    "ExecuteTime": {
     "end_time": "2020-08-22T05:12:44.261491Z",
     "start_time": "2020-08-22T05:12:44.198641Z"
    }
   },
   "outputs": [],
   "source": [
    "save_loc = DATA_DIR / 'projection_metrics' /  'ae_only' / 'train' / str(n_components) / (dataset + '.pickle')\n",
    "ensure_dir(save_loc)\n",
    "metrics_df.to_pickle(save_loc)"
   ]
  },
  {
   "cell_type": "markdown",
   "metadata": {},
   "source": [
    "#### test"
   ]
  },
  {
   "cell_type": "code",
   "execution_count": 39,
   "metadata": {
    "ExecuteTime": {
     "end_time": "2020-08-22T05:12:44.355123Z",
     "start_time": "2020-08-22T05:12:44.262937Z"
    }
   },
   "outputs": [
    {
     "data": {
      "text/html": [
       "<div>\n",
       "<style scoped>\n",
       "    .dataframe tbody tr th:only-of-type {\n",
       "        vertical-align: middle;\n",
       "    }\n",
       "\n",
       "    .dataframe tbody tr th {\n",
       "        vertical-align: top;\n",
       "    }\n",
       "\n",
       "    .dataframe thead th {\n",
       "        text-align: right;\n",
       "    }\n",
       "</style>\n",
       "<table border=\"1\" class=\"dataframe\">\n",
       "  <thead>\n",
       "    <tr style=\"text-align: right;\">\n",
       "      <th></th>\n",
       "      <th>dataset</th>\n",
       "      <th>class_</th>\n",
       "      <th>dim</th>\n",
       "      <th>trustworthiness</th>\n",
       "      <th>silhouette_score</th>\n",
       "      <th>silhouette_samples</th>\n",
       "    </tr>\n",
       "  </thead>\n",
       "  <tbody>\n",
       "    <tr>\n",
       "      <th>1</th>\n",
       "      <td>cifar10</td>\n",
       "      <td>ae_only</td>\n",
       "      <td>64</td>\n",
       "      <td>0.999082</td>\n",
       "      <td>-0.067721</td>\n",
       "      <td>[-0.13966357055284712, 0.058379444548200314, 0...</td>\n",
       "    </tr>\n",
       "  </tbody>\n",
       "</table>\n",
       "</div>"
      ],
      "text/plain": [
       "   dataset   class_ dim  trustworthiness  silhouette_score  \\\n",
       "1  cifar10  ae_only  64         0.999082         -0.067721   \n",
       "\n",
       "                                  silhouette_samples  \n",
       "1  [-0.13966357055284712, 0.058379444548200314, 0...  "
      ]
     },
     "execution_count": 39,
     "metadata": {},
     "output_type": "execute_result"
    }
   ],
   "source": [
    "metrics_df_test = pd.DataFrame(\n",
    "    columns=[\n",
    "        \"dataset\",\n",
    "        \"class_\",\n",
    "        \"dim\",\n",
    "        \"trustworthiness\",\n",
    "        \"silhouette_score\",\n",
    "        \"silhouette_samples\",\n",
    "    ]\n",
    ")\n",
    "metrics_df_test.loc[len(metrics_df)] = [dataset, 'ae_only', n_components, tw_test, ss_test, sil_samp_test]\n",
    "metrics_df_test"
   ]
  },
  {
   "cell_type": "code",
   "execution_count": 40,
   "metadata": {
    "ExecuteTime": {
     "end_time": "2020-08-22T05:12:44.406580Z",
     "start_time": "2020-08-22T05:12:44.356648Z"
    }
   },
   "outputs": [],
   "source": [
    "save_loc = DATA_DIR / 'projection_metrics' / 'ae' / 'test' / str(n_components) / (dataset + '.pickle')\n",
    "ensure_dir(save_loc)\n",
    "metrics_df.to_pickle(save_loc)"
   ]
  },
  {
   "cell_type": "markdown",
   "metadata": {},
   "source": [
    "#### knn "
   ]
  },
  {
   "cell_type": "code",
   "execution_count": 41,
   "metadata": {
    "ExecuteTime": {
     "end_time": "2020-08-22T05:12:44.514561Z",
     "start_time": "2020-08-22T05:12:44.408108Z"
    }
   },
   "outputs": [
    {
     "data": {
      "text/html": [
       "<div>\n",
       "<style scoped>\n",
       "    .dataframe tbody tr th:only-of-type {\n",
       "        vertical-align: middle;\n",
       "    }\n",
       "\n",
       "    .dataframe tbody tr th {\n",
       "        vertical-align: top;\n",
       "    }\n",
       "\n",
       "    .dataframe thead th {\n",
       "        text-align: right;\n",
       "    }\n",
       "</style>\n",
       "<table border=\"1\" class=\"dataframe\">\n",
       "  <thead>\n",
       "    <tr style=\"text-align: right;\">\n",
       "      <th></th>\n",
       "      <th>method_</th>\n",
       "      <th>dimensions</th>\n",
       "      <th>dataset</th>\n",
       "      <th>1NN_acc</th>\n",
       "      <th>5NN_acc</th>\n",
       "    </tr>\n",
       "  </thead>\n",
       "  <tbody>\n",
       "    <tr>\n",
       "      <th>0</th>\n",
       "      <td>ae_only</td>\n",
       "      <td>64</td>\n",
       "      <td>cifar10</td>\n",
       "      <td>0.379</td>\n",
       "      <td>0.3728</td>\n",
       "    </tr>\n",
       "  </tbody>\n",
       "</table>\n",
       "</div>"
      ],
      "text/plain": [
       "   method_ dimensions  dataset  1NN_acc  5NN_acc\n",
       "0  ae_only         64  cifar10    0.379   0.3728"
      ]
     },
     "execution_count": 41,
     "metadata": {},
     "output_type": "execute_result"
    }
   ],
   "source": [
    "nn_acc_df = pd.DataFrame(columns = [\"method_\",\"dimensions\",\"dataset\",\"1NN_acc\",\"5NN_acc\"])\n",
    "nn_acc_df.loc[len(nn_acc_df)] = ['ae_only', n_components, dataset,  score_1nn, score_5nn]\n",
    "nn_acc_df"
   ]
  },
  {
   "cell_type": "code",
   "execution_count": 42,
   "metadata": {
    "ExecuteTime": {
     "end_time": "2020-08-22T05:12:44.567346Z",
     "start_time": "2020-08-22T05:12:44.516278Z"
    }
   },
   "outputs": [],
   "source": [
    "save_loc = DATA_DIR / 'knn_classifier' / 'ae_only' / 'train' / str(n_components) / (dataset + '.pickle')\n",
    "ensure_dir(save_loc)\n",
    "nn_acc_df.to_pickle(save_loc)"
   ]
  },
  {
   "cell_type": "markdown",
   "metadata": {},
   "source": [
    "### Reconstruction"
   ]
  },
  {
   "cell_type": "code",
   "execution_count": 43,
   "metadata": {
    "ExecuteTime": {
     "end_time": "2020-08-22T05:12:44.609881Z",
     "start_time": "2020-08-22T05:12:44.568599Z"
    }
   },
   "outputs": [],
   "source": [
    "from sklearn.metrics import mean_squared_error, mean_absolute_error, median_absolute_error, r2_score"
   ]
  },
  {
   "cell_type": "code",
   "execution_count": 44,
   "metadata": {
    "ExecuteTime": {
     "end_time": "2020-08-22T05:12:45.932189Z",
     "start_time": "2020-08-22T05:12:44.611250Z"
    }
   },
   "outputs": [],
   "source": [
    "X_recon = decoder.predict(encoder.predict(X_test.reshape((len(X_test), 32, 32, 3))))\n",
    "X_real = X_test.reshape((len(X_test), 32, 32, 3))"
   ]
  },
  {
   "cell_type": "code",
   "execution_count": 45,
   "metadata": {
    "ExecuteTime": {
     "end_time": "2020-08-22T05:12:45.985231Z",
     "start_time": "2020-08-22T05:12:45.933929Z"
    }
   },
   "outputs": [],
   "source": [
    "x_real = X_test.reshape((len(X_test), np.product(np.shape(X_test)[1:])))\n",
    "x_recon = X_recon.reshape((len(X_test), np.product(np.shape(X_test)[1:])))"
   ]
  },
  {
   "cell_type": "code",
   "execution_count": 46,
   "metadata": {
    "ExecuteTime": {
     "end_time": "2020-08-22T05:12:46.080375Z",
     "start_time": "2020-08-22T05:12:45.987027Z"
    }
   },
   "outputs": [],
   "source": [
    "reconstruction_acc_df = pd.DataFrame(\n",
    "    columns=[\"method_\", \"dimensions\", \"dataset\", \"MSE\", \"MAE\", \"MedAE\", \"R2\"]\n",
    ")"
   ]
  },
  {
   "cell_type": "code",
   "execution_count": 53,
   "metadata": {
    "ExecuteTime": {
     "end_time": "2020-08-22T05:59:37.673434Z",
     "start_time": "2020-08-22T05:59:31.112994Z"
    }
   },
   "outputs": [
    {
     "data": {
      "text/html": [
       "<div>\n",
       "<style scoped>\n",
       "    .dataframe tbody tr th:only-of-type {\n",
       "        vertical-align: middle;\n",
       "    }\n",
       "\n",
       "    .dataframe tbody tr th {\n",
       "        vertical-align: top;\n",
       "    }\n",
       "\n",
       "    .dataframe thead th {\n",
       "        text-align: right;\n",
       "    }\n",
       "</style>\n",
       "<table border=\"1\" class=\"dataframe\">\n",
       "  <thead>\n",
       "    <tr style=\"text-align: right;\">\n",
       "      <th></th>\n",
       "      <th>method_</th>\n",
       "      <th>dimensions</th>\n",
       "      <th>dataset</th>\n",
       "      <th>MSE</th>\n",
       "      <th>MAE</th>\n",
       "      <th>MedAE</th>\n",
       "      <th>R2</th>\n",
       "    </tr>\n",
       "  </thead>\n",
       "  <tbody>\n",
       "    <tr>\n",
       "      <th>0</th>\n",
       "      <td>ae_only</td>\n",
       "      <td>2</td>\n",
       "      <td>cifar10</td>\n",
       "      <td>0.008022</td>\n",
       "      <td>0.062918</td>\n",
       "      <td>0.043356</td>\n",
       "      <td>0.865958</td>\n",
       "    </tr>\n",
       "    <tr>\n",
       "      <th>1</th>\n",
       "      <td>ae_only</td>\n",
       "      <td>64</td>\n",
       "      <td>cifar10</td>\n",
       "      <td>0.008022</td>\n",
       "      <td>0.062918</td>\n",
       "      <td>0.043356</td>\n",
       "      <td>0.865958</td>\n",
       "    </tr>\n",
       "  </tbody>\n",
       "</table>\n",
       "</div>"
      ],
      "text/plain": [
       "   method_ dimensions  dataset       MSE       MAE     MedAE        R2\n",
       "0  ae_only          2  cifar10  0.008022  0.062918  0.043356  0.865958\n",
       "1  ae_only         64  cifar10  0.008022  0.062918  0.043356  0.865958"
      ]
     },
     "execution_count": 53,
     "metadata": {},
     "output_type": "execute_result"
    }
   ],
   "source": [
    "MSE = mean_squared_error(\n",
    "    x_real, \n",
    "    x_recon\n",
    ")\n",
    "MAE = mean_absolute_error(\n",
    "    x_real, \n",
    "    x_recon\n",
    ")\n",
    "MedAE = median_absolute_error(\n",
    "    x_real, \n",
    "    x_recon\n",
    ")\n",
    "R2 = r2_score(\n",
    "    x_real, \n",
    "    x_recon\n",
    ")\n",
    "\n",
    "reconstruction_acc_df.loc[len(reconstruction_acc_df)] = ['ae_only', 64, dataset, MSE, MAE, MedAE, R2]\n",
    "reconstruction_acc_df"
   ]
  },
  {
   "cell_type": "code",
   "execution_count": 54,
   "metadata": {
    "ExecuteTime": {
     "end_time": "2020-08-22T05:59:37.926363Z",
     "start_time": "2020-08-22T05:59:37.682216Z"
    }
   },
   "outputs": [],
   "source": [
    "save_loc = DATA_DIR / 'reconstruction_acc' / 'ae_only' / str(n_components) / (dataset + '.pickle')\n",
    "ensure_dir(save_loc)\n",
    "reconstruction_acc_df.to_pickle(save_loc)"
   ]
  },
  {
   "cell_type": "markdown",
   "metadata": {},
   "source": [
    "### Compute clustering quality"
   ]
  },
  {
   "cell_type": "code",
   "execution_count": 49,
   "metadata": {
    "ExecuteTime": {
     "end_time": "2020-08-22T05:12:48.341515Z",
     "start_time": "2020-08-22T05:12:48.255062Z"
    }
   },
   "outputs": [],
   "source": [
    "from sklearn.cluster import KMeans\n",
    "from sklearn.metrics import homogeneity_completeness_v_measure"
   ]
  },
  {
   "cell_type": "code",
   "execution_count": 50,
   "metadata": {
    "ExecuteTime": {
     "end_time": "2020-08-22T05:12:48.396312Z",
     "start_time": "2020-08-22T05:12:48.343198Z"
    }
   },
   "outputs": [],
   "source": [
    "def get_cluster_metrics(row, n_init=5):\n",
    "    \n",
    "    # load cluster information\n",
    "    save_loc = DATA_DIR / 'clustering_metric_df'/ ('_'.join([row.class_, str(row.dim), row.dataset]) + '.pickle')\n",
    "    print(save_loc)\n",
    "    if save_loc.exists() and save_loc.is_file():\n",
    "        \n",
    "        cluster_df = pd.read_pickle(save_loc)\n",
    "        return cluster_df\n",
    "    \n",
    "    # make cluster metric dataframe\n",
    "    cluster_df = pd.DataFrame(\n",
    "        columns=[\n",
    "            \"dataset\",\n",
    "            \"class_\",\n",
    "            \"dim\",\n",
    "            \"silhouette\",\n",
    "            \"homogeneity\",\n",
    "            \"completeness\",\n",
    "            \"v_measure\",\n",
    "            \"init_\",\n",
    "            \"n_clusters\",\n",
    "            \"model\",\n",
    "        ]\n",
    "    )\n",
    "    y = row.train_label\n",
    "    z = row.train_z\n",
    "    n_labels = len(np.unique(y))\n",
    "    for n_clusters in tqdm(np.arange(n_labels - int(n_labels / 2), n_labels + int(n_labels / 2)), leave=False, desc = 'n_clusters'):\n",
    "        for init_ in tqdm(range(n_init), leave=False, desc='init'):\n",
    "            kmeans = KMeans(n_clusters=n_clusters, random_state=init_).fit(z)\n",
    "            clustered_y = kmeans.labels_\n",
    "            homogeneity, completeness, v_measure = homogeneity_completeness_v_measure(\n",
    "                y, clustered_y\n",
    "            )\n",
    "            ss, _ = silhouette_score_block(z, clustered_y)\n",
    "            cluster_df.loc[len(cluster_df)] = [\n",
    "                row.dataset,\n",
    "                row.class_,\n",
    "                row.dim,\n",
    "                ss,\n",
    "                homogeneity,\n",
    "                completeness,\n",
    "                v_measure,\n",
    "                init_,\n",
    "                n_clusters,\n",
    "                kmeans,\n",
    "            ]\n",
    "    \n",
    "     # save cluster df in case this fails somewhere\n",
    "    ensure_dir(save_loc)\n",
    "    cluster_df.to_pickle(save_loc)\n",
    "    return cluster_df"
   ]
  },
  {
   "cell_type": "code",
   "execution_count": 51,
   "metadata": {
    "ExecuteTime": {
     "end_time": "2020-08-22T05:12:48.530441Z",
     "start_time": "2020-08-22T05:12:48.397738Z"
    }
   },
   "outputs": [
    {
     "data": {
      "text/html": [
       "<div>\n",
       "<style scoped>\n",
       "    .dataframe tbody tr th:only-of-type {\n",
       "        vertical-align: middle;\n",
       "    }\n",
       "\n",
       "    .dataframe tbody tr th {\n",
       "        vertical-align: top;\n",
       "    }\n",
       "\n",
       "    .dataframe thead th {\n",
       "        text-align: right;\n",
       "    }\n",
       "</style>\n",
       "<table border=\"1\" class=\"dataframe\">\n",
       "  <thead>\n",
       "    <tr style=\"text-align: right;\">\n",
       "      <th></th>\n",
       "      <th>dataset</th>\n",
       "      <th>class_</th>\n",
       "      <th>train_z</th>\n",
       "      <th>train_label</th>\n",
       "      <th>dim</th>\n",
       "    </tr>\n",
       "  </thead>\n",
       "  <tbody>\n",
       "    <tr>\n",
       "      <th>0</th>\n",
       "      <td>cifar10</td>\n",
       "      <td>ae_only</td>\n",
       "      <td>[[-0.24137093, 0.48144782, 0.4854865, -0.15651...</td>\n",
       "      <td>[6, 9, 9, 4, 1, 1, 2, 7, 8, 3, 4, 7, 7, 2, 9, ...</td>\n",
       "      <td>64</td>\n",
       "    </tr>\n",
       "  </tbody>\n",
       "</table>\n",
       "</div>"
      ],
      "text/plain": [
       "   dataset   class_                                            train_z  \\\n",
       "0  cifar10  ae_only  [[-0.24137093, 0.48144782, 0.4854865, -0.15651...   \n",
       "\n",
       "                                         train_label dim  \n",
       "0  [6, 9, 9, 4, 1, 1, 2, 7, 8, 3, 4, 7, 7, 2, 9, ...  64  "
      ]
     },
     "execution_count": 51,
     "metadata": {},
     "output_type": "execute_result"
    }
   ],
   "source": [
    "projection_df = pd.DataFrame(columns = ['dataset', 'class_', 'train_z', 'train_label', 'dim'])\n",
    "projection_df.loc[len(projection_df)] = [dataset, 'ae_only', z, Y_train.flatten(), n_components]\n",
    "projection_df"
   ]
  },
  {
   "cell_type": "code",
   "execution_count": 52,
   "metadata": {
    "ExecuteTime": {
     "end_time": "2020-08-22T05:38:35.695498Z",
     "start_time": "2020-08-22T05:12:48.531679Z"
    }
   },
   "outputs": [
    {
     "name": "stdout",
     "output_type": "stream",
     "text": [
      "/mnt/cube/tsainbur/Projects/github_repos/umap_tf_networks/data/clustering_metric_df/ae_only_64_cifar10.pickle\n"
     ]
    },
    {
     "data": {
      "application/vnd.jupyter.widget-view+json": {
       "model_id": "",
       "version_major": 2,
       "version_minor": 0
      },
      "text/plain": [
       "HBox(children=(IntProgress(value=0, description='n_clusters', max=10, style=ProgressStyle(description_width='i…"
      ]
     },
     "metadata": {},
     "output_type": "display_data"
    },
    {
     "data": {
      "application/vnd.jupyter.widget-view+json": {
       "model_id": "",
       "version_major": 2,
       "version_minor": 0
      },
      "text/plain": [
       "HBox(children=(IntProgress(value=0, description='init', max=5, style=ProgressStyle(description_width='initial'…"
      ]
     },
     "metadata": {},
     "output_type": "display_data"
    },
    {
     "data": {
      "application/vnd.jupyter.widget-view+json": {
       "model_id": "",
       "version_major": 2,
       "version_minor": 0
      },
      "text/plain": [
       "HBox(children=(IntProgress(value=0, description='init', max=5, style=ProgressStyle(description_width='initial'…"
      ]
     },
     "metadata": {},
     "output_type": "display_data"
    },
    {
     "data": {
      "application/vnd.jupyter.widget-view+json": {
       "model_id": "",
       "version_major": 2,
       "version_minor": 0
      },
      "text/plain": [
       "HBox(children=(IntProgress(value=0, description='init', max=5, style=ProgressStyle(description_width='initial'…"
      ]
     },
     "metadata": {},
     "output_type": "display_data"
    },
    {
     "data": {
      "application/vnd.jupyter.widget-view+json": {
       "model_id": "",
       "version_major": 2,
       "version_minor": 0
      },
      "text/plain": [
       "HBox(children=(IntProgress(value=0, description='init', max=5, style=ProgressStyle(description_width='initial'…"
      ]
     },
     "metadata": {},
     "output_type": "display_data"
    },
    {
     "data": {
      "application/vnd.jupyter.widget-view+json": {
       "model_id": "",
       "version_major": 2,
       "version_minor": 0
      },
      "text/plain": [
       "HBox(children=(IntProgress(value=0, description='init', max=5, style=ProgressStyle(description_width='initial'…"
      ]
     },
     "metadata": {},
     "output_type": "display_data"
    },
    {
     "data": {
      "application/vnd.jupyter.widget-view+json": {
       "model_id": "",
       "version_major": 2,
       "version_minor": 0
      },
      "text/plain": [
       "HBox(children=(IntProgress(value=0, description='init', max=5, style=ProgressStyle(description_width='initial'…"
      ]
     },
     "metadata": {},
     "output_type": "display_data"
    },
    {
     "data": {
      "application/vnd.jupyter.widget-view+json": {
       "model_id": "",
       "version_major": 2,
       "version_minor": 0
      },
      "text/plain": [
       "HBox(children=(IntProgress(value=0, description='init', max=5, style=ProgressStyle(description_width='initial'…"
      ]
     },
     "metadata": {},
     "output_type": "display_data"
    },
    {
     "data": {
      "application/vnd.jupyter.widget-view+json": {
       "model_id": "",
       "version_major": 2,
       "version_minor": 0
      },
      "text/plain": [
       "HBox(children=(IntProgress(value=0, description='init', max=5, style=ProgressStyle(description_width='initial'…"
      ]
     },
     "metadata": {},
     "output_type": "display_data"
    },
    {
     "data": {
      "application/vnd.jupyter.widget-view+json": {
       "model_id": "",
       "version_major": 2,
       "version_minor": 0
      },
      "text/plain": [
       "HBox(children=(IntProgress(value=0, description='init', max=5, style=ProgressStyle(description_width='initial'…"
      ]
     },
     "metadata": {},
     "output_type": "display_data"
    },
    {
     "data": {
      "application/vnd.jupyter.widget-view+json": {
       "model_id": "",
       "version_major": 2,
       "version_minor": 0
      },
      "text/plain": [
       "HBox(children=(IntProgress(value=0, description='init', max=5, style=ProgressStyle(description_width='initial'…"
      ]
     },
     "metadata": {},
     "output_type": "display_data"
    },
    {
     "name": "stdout",
     "output_type": "stream",
     "text": [
      "\r"
     ]
    },
    {
     "data": {
      "text/html": [
       "<div>\n",
       "<style scoped>\n",
       "    .dataframe tbody tr th:only-of-type {\n",
       "        vertical-align: middle;\n",
       "    }\n",
       "\n",
       "    .dataframe tbody tr th {\n",
       "        vertical-align: top;\n",
       "    }\n",
       "\n",
       "    .dataframe thead th {\n",
       "        text-align: right;\n",
       "    }\n",
       "</style>\n",
       "<table border=\"1\" class=\"dataframe\">\n",
       "  <thead>\n",
       "    <tr style=\"text-align: right;\">\n",
       "      <th></th>\n",
       "      <th>dataset</th>\n",
       "      <th>class_</th>\n",
       "      <th>dim</th>\n",
       "      <th>silhouette</th>\n",
       "      <th>homogeneity</th>\n",
       "      <th>completeness</th>\n",
       "      <th>v_measure</th>\n",
       "      <th>init_</th>\n",
       "      <th>n_clusters</th>\n",
       "      <th>model</th>\n",
       "    </tr>\n",
       "  </thead>\n",
       "  <tbody>\n",
       "    <tr>\n",
       "      <th>0</th>\n",
       "      <td>cifar10</td>\n",
       "      <td>ae_only</td>\n",
       "      <td>64</td>\n",
       "      <td>0.078531</td>\n",
       "      <td>0.047224</td>\n",
       "      <td>0.073053</td>\n",
       "      <td>0.057365</td>\n",
       "      <td>0</td>\n",
       "      <td>5</td>\n",
       "      <td>KMeans(n_clusters=5, random_state=0)</td>\n",
       "    </tr>\n",
       "    <tr>\n",
       "      <th>1</th>\n",
       "      <td>cifar10</td>\n",
       "      <td>ae_only</td>\n",
       "      <td>64</td>\n",
       "      <td>0.078508</td>\n",
       "      <td>0.047313</td>\n",
       "      <td>0.073199</td>\n",
       "      <td>0.057476</td>\n",
       "      <td>1</td>\n",
       "      <td>5</td>\n",
       "      <td>KMeans(n_clusters=5, random_state=1)</td>\n",
       "    </tr>\n",
       "    <tr>\n",
       "      <th>2</th>\n",
       "      <td>cifar10</td>\n",
       "      <td>ae_only</td>\n",
       "      <td>64</td>\n",
       "      <td>0.078360</td>\n",
       "      <td>0.047333</td>\n",
       "      <td>0.073190</td>\n",
       "      <td>0.057488</td>\n",
       "      <td>2</td>\n",
       "      <td>5</td>\n",
       "      <td>KMeans(n_clusters=5, random_state=2)</td>\n",
       "    </tr>\n",
       "    <tr>\n",
       "      <th>3</th>\n",
       "      <td>cifar10</td>\n",
       "      <td>ae_only</td>\n",
       "      <td>64</td>\n",
       "      <td>0.078359</td>\n",
       "      <td>0.047333</td>\n",
       "      <td>0.073190</td>\n",
       "      <td>0.057488</td>\n",
       "      <td>3</td>\n",
       "      <td>5</td>\n",
       "      <td>KMeans(n_clusters=5, random_state=3)</td>\n",
       "    </tr>\n",
       "    <tr>\n",
       "      <th>4</th>\n",
       "      <td>cifar10</td>\n",
       "      <td>ae_only</td>\n",
       "      <td>64</td>\n",
       "      <td>0.078372</td>\n",
       "      <td>0.047338</td>\n",
       "      <td>0.073199</td>\n",
       "      <td>0.057494</td>\n",
       "      <td>4</td>\n",
       "      <td>5</td>\n",
       "      <td>KMeans(n_clusters=5, random_state=4)</td>\n",
       "    </tr>\n",
       "    <tr>\n",
       "      <th>5</th>\n",
       "      <td>cifar10</td>\n",
       "      <td>ae_only</td>\n",
       "      <td>64</td>\n",
       "      <td>0.071473</td>\n",
       "      <td>0.052475</td>\n",
       "      <td>0.073654</td>\n",
       "      <td>0.061286</td>\n",
       "      <td>0</td>\n",
       "      <td>6</td>\n",
       "      <td>KMeans(n_clusters=6, random_state=0)</td>\n",
       "    </tr>\n",
       "    <tr>\n",
       "      <th>6</th>\n",
       "      <td>cifar10</td>\n",
       "      <td>ae_only</td>\n",
       "      <td>64</td>\n",
       "      <td>0.071243</td>\n",
       "      <td>0.052382</td>\n",
       "      <td>0.073390</td>\n",
       "      <td>0.061131</td>\n",
       "      <td>1</td>\n",
       "      <td>6</td>\n",
       "      <td>KMeans(n_clusters=6, random_state=1)</td>\n",
       "    </tr>\n",
       "    <tr>\n",
       "      <th>7</th>\n",
       "      <td>cifar10</td>\n",
       "      <td>ae_only</td>\n",
       "      <td>64</td>\n",
       "      <td>0.071450</td>\n",
       "      <td>0.052482</td>\n",
       "      <td>0.073664</td>\n",
       "      <td>0.061294</td>\n",
       "      <td>2</td>\n",
       "      <td>6</td>\n",
       "      <td>KMeans(n_clusters=6, random_state=2)</td>\n",
       "    </tr>\n",
       "    <tr>\n",
       "      <th>8</th>\n",
       "      <td>cifar10</td>\n",
       "      <td>ae_only</td>\n",
       "      <td>64</td>\n",
       "      <td>0.071463</td>\n",
       "      <td>0.052490</td>\n",
       "      <td>0.073674</td>\n",
       "      <td>0.061304</td>\n",
       "      <td>3</td>\n",
       "      <td>6</td>\n",
       "      <td>KMeans(n_clusters=6, random_state=3)</td>\n",
       "    </tr>\n",
       "    <tr>\n",
       "      <th>9</th>\n",
       "      <td>cifar10</td>\n",
       "      <td>ae_only</td>\n",
       "      <td>64</td>\n",
       "      <td>0.071116</td>\n",
       "      <td>0.052438</td>\n",
       "      <td>0.073506</td>\n",
       "      <td>0.061210</td>\n",
       "      <td>4</td>\n",
       "      <td>6</td>\n",
       "      <td>KMeans(n_clusters=6, random_state=4)</td>\n",
       "    </tr>\n",
       "    <tr>\n",
       "      <th>10</th>\n",
       "      <td>cifar10</td>\n",
       "      <td>ae_only</td>\n",
       "      <td>64</td>\n",
       "      <td>0.064082</td>\n",
       "      <td>0.057887</td>\n",
       "      <td>0.074803</td>\n",
       "      <td>0.065267</td>\n",
       "      <td>0</td>\n",
       "      <td>7</td>\n",
       "      <td>KMeans(n_clusters=7, random_state=0)</td>\n",
       "    </tr>\n",
       "    <tr>\n",
       "      <th>11</th>\n",
       "      <td>cifar10</td>\n",
       "      <td>ae_only</td>\n",
       "      <td>64</td>\n",
       "      <td>0.064042</td>\n",
       "      <td>0.057751</td>\n",
       "      <td>0.074606</td>\n",
       "      <td>0.065105</td>\n",
       "      <td>1</td>\n",
       "      <td>7</td>\n",
       "      <td>KMeans(n_clusters=7, random_state=1)</td>\n",
       "    </tr>\n",
       "    <tr>\n",
       "      <th>12</th>\n",
       "      <td>cifar10</td>\n",
       "      <td>ae_only</td>\n",
       "      <td>64</td>\n",
       "      <td>0.064037</td>\n",
       "      <td>0.057733</td>\n",
       "      <td>0.074581</td>\n",
       "      <td>0.065085</td>\n",
       "      <td>2</td>\n",
       "      <td>7</td>\n",
       "      <td>KMeans(n_clusters=7, random_state=2)</td>\n",
       "    </tr>\n",
       "    <tr>\n",
       "      <th>13</th>\n",
       "      <td>cifar10</td>\n",
       "      <td>ae_only</td>\n",
       "      <td>64</td>\n",
       "      <td>0.063972</td>\n",
       "      <td>0.057786</td>\n",
       "      <td>0.074590</td>\n",
       "      <td>0.065122</td>\n",
       "      <td>3</td>\n",
       "      <td>7</td>\n",
       "      <td>KMeans(n_clusters=7, random_state=3)</td>\n",
       "    </tr>\n",
       "    <tr>\n",
       "      <th>14</th>\n",
       "      <td>cifar10</td>\n",
       "      <td>ae_only</td>\n",
       "      <td>64</td>\n",
       "      <td>0.064068</td>\n",
       "      <td>0.057727</td>\n",
       "      <td>0.074585</td>\n",
       "      <td>0.065082</td>\n",
       "      <td>4</td>\n",
       "      <td>7</td>\n",
       "      <td>KMeans(n_clusters=7, random_state=4)</td>\n",
       "    </tr>\n",
       "    <tr>\n",
       "      <th>15</th>\n",
       "      <td>cifar10</td>\n",
       "      <td>ae_only</td>\n",
       "      <td>64</td>\n",
       "      <td>0.062116</td>\n",
       "      <td>0.070443</td>\n",
       "      <td>0.083525</td>\n",
       "      <td>0.076428</td>\n",
       "      <td>0</td>\n",
       "      <td>8</td>\n",
       "      <td>KMeans(random_state=0)</td>\n",
       "    </tr>\n",
       "    <tr>\n",
       "      <th>16</th>\n",
       "      <td>cifar10</td>\n",
       "      <td>ae_only</td>\n",
       "      <td>64</td>\n",
       "      <td>0.062219</td>\n",
       "      <td>0.070038</td>\n",
       "      <td>0.083124</td>\n",
       "      <td>0.076022</td>\n",
       "      <td>1</td>\n",
       "      <td>8</td>\n",
       "      <td>KMeans(random_state=1)</td>\n",
       "    </tr>\n",
       "    <tr>\n",
       "      <th>17</th>\n",
       "      <td>cifar10</td>\n",
       "      <td>ae_only</td>\n",
       "      <td>64</td>\n",
       "      <td>0.062104</td>\n",
       "      <td>0.070394</td>\n",
       "      <td>0.083468</td>\n",
       "      <td>0.076376</td>\n",
       "      <td>2</td>\n",
       "      <td>8</td>\n",
       "      <td>KMeans(random_state=2)</td>\n",
       "    </tr>\n",
       "    <tr>\n",
       "      <th>18</th>\n",
       "      <td>cifar10</td>\n",
       "      <td>ae_only</td>\n",
       "      <td>64</td>\n",
       "      <td>0.062246</td>\n",
       "      <td>0.069958</td>\n",
       "      <td>0.083013</td>\n",
       "      <td>0.075928</td>\n",
       "      <td>3</td>\n",
       "      <td>8</td>\n",
       "      <td>KMeans(random_state=3)</td>\n",
       "    </tr>\n",
       "    <tr>\n",
       "      <th>19</th>\n",
       "      <td>cifar10</td>\n",
       "      <td>ae_only</td>\n",
       "      <td>64</td>\n",
       "      <td>0.062370</td>\n",
       "      <td>0.070319</td>\n",
       "      <td>0.083413</td>\n",
       "      <td>0.076309</td>\n",
       "      <td>4</td>\n",
       "      <td>8</td>\n",
       "      <td>KMeans(random_state=4)</td>\n",
       "    </tr>\n",
       "    <tr>\n",
       "      <th>20</th>\n",
       "      <td>cifar10</td>\n",
       "      <td>ae_only</td>\n",
       "      <td>64</td>\n",
       "      <td>0.053542</td>\n",
       "      <td>0.075493</td>\n",
       "      <td>0.083186</td>\n",
       "      <td>0.079153</td>\n",
       "      <td>0</td>\n",
       "      <td>9</td>\n",
       "      <td>KMeans(n_clusters=9, random_state=0)</td>\n",
       "    </tr>\n",
       "    <tr>\n",
       "      <th>21</th>\n",
       "      <td>cifar10</td>\n",
       "      <td>ae_only</td>\n",
       "      <td>64</td>\n",
       "      <td>0.053518</td>\n",
       "      <td>0.075877</td>\n",
       "      <td>0.083577</td>\n",
       "      <td>0.079541</td>\n",
       "      <td>1</td>\n",
       "      <td>9</td>\n",
       "      <td>KMeans(n_clusters=9, random_state=1)</td>\n",
       "    </tr>\n",
       "    <tr>\n",
       "      <th>22</th>\n",
       "      <td>cifar10</td>\n",
       "      <td>ae_only</td>\n",
       "      <td>64</td>\n",
       "      <td>0.053521</td>\n",
       "      <td>0.075865</td>\n",
       "      <td>0.083563</td>\n",
       "      <td>0.079528</td>\n",
       "      <td>2</td>\n",
       "      <td>9</td>\n",
       "      <td>KMeans(n_clusters=9, random_state=2)</td>\n",
       "    </tr>\n",
       "    <tr>\n",
       "      <th>23</th>\n",
       "      <td>cifar10</td>\n",
       "      <td>ae_only</td>\n",
       "      <td>64</td>\n",
       "      <td>0.053609</td>\n",
       "      <td>0.075881</td>\n",
       "      <td>0.083601</td>\n",
       "      <td>0.079554</td>\n",
       "      <td>3</td>\n",
       "      <td>9</td>\n",
       "      <td>KMeans(n_clusters=9, random_state=3)</td>\n",
       "    </tr>\n",
       "    <tr>\n",
       "      <th>24</th>\n",
       "      <td>cifar10</td>\n",
       "      <td>ae_only</td>\n",
       "      <td>64</td>\n",
       "      <td>0.053723</td>\n",
       "      <td>0.075882</td>\n",
       "      <td>0.083638</td>\n",
       "      <td>0.079572</td>\n",
       "      <td>4</td>\n",
       "      <td>9</td>\n",
       "      <td>KMeans(n_clusters=9, random_state=4)</td>\n",
       "    </tr>\n",
       "    <tr>\n",
       "      <th>25</th>\n",
       "      <td>cifar10</td>\n",
       "      <td>ae_only</td>\n",
       "      <td>64</td>\n",
       "      <td>0.050767</td>\n",
       "      <td>0.082919</td>\n",
       "      <td>0.086855</td>\n",
       "      <td>0.084841</td>\n",
       "      <td>0</td>\n",
       "      <td>10</td>\n",
       "      <td>KMeans(n_clusters=10, random_state=0)</td>\n",
       "    </tr>\n",
       "    <tr>\n",
       "      <th>26</th>\n",
       "      <td>cifar10</td>\n",
       "      <td>ae_only</td>\n",
       "      <td>64</td>\n",
       "      <td>0.050479</td>\n",
       "      <td>0.082537</td>\n",
       "      <td>0.086339</td>\n",
       "      <td>0.084395</td>\n",
       "      <td>1</td>\n",
       "      <td>10</td>\n",
       "      <td>KMeans(n_clusters=10, random_state=1)</td>\n",
       "    </tr>\n",
       "    <tr>\n",
       "      <th>27</th>\n",
       "      <td>cifar10</td>\n",
       "      <td>ae_only</td>\n",
       "      <td>64</td>\n",
       "      <td>0.050755</td>\n",
       "      <td>0.082912</td>\n",
       "      <td>0.086841</td>\n",
       "      <td>0.084831</td>\n",
       "      <td>2</td>\n",
       "      <td>10</td>\n",
       "      <td>KMeans(n_clusters=10, random_state=2)</td>\n",
       "    </tr>\n",
       "    <tr>\n",
       "      <th>28</th>\n",
       "      <td>cifar10</td>\n",
       "      <td>ae_only</td>\n",
       "      <td>64</td>\n",
       "      <td>0.050036</td>\n",
       "      <td>0.082779</td>\n",
       "      <td>0.086560</td>\n",
       "      <td>0.084627</td>\n",
       "      <td>3</td>\n",
       "      <td>10</td>\n",
       "      <td>KMeans(n_clusters=10, random_state=3)</td>\n",
       "    </tr>\n",
       "    <tr>\n",
       "      <th>29</th>\n",
       "      <td>cifar10</td>\n",
       "      <td>ae_only</td>\n",
       "      <td>64</td>\n",
       "      <td>0.051232</td>\n",
       "      <td>0.083037</td>\n",
       "      <td>0.087024</td>\n",
       "      <td>0.084984</td>\n",
       "      <td>4</td>\n",
       "      <td>10</td>\n",
       "      <td>KMeans(n_clusters=10, random_state=4)</td>\n",
       "    </tr>\n",
       "    <tr>\n",
       "      <th>30</th>\n",
       "      <td>cifar10</td>\n",
       "      <td>ae_only</td>\n",
       "      <td>64</td>\n",
       "      <td>0.048386</td>\n",
       "      <td>0.083689</td>\n",
       "      <td>0.084219</td>\n",
       "      <td>0.083953</td>\n",
       "      <td>0</td>\n",
       "      <td>11</td>\n",
       "      <td>KMeans(n_clusters=11, random_state=0)</td>\n",
       "    </tr>\n",
       "    <tr>\n",
       "      <th>31</th>\n",
       "      <td>cifar10</td>\n",
       "      <td>ae_only</td>\n",
       "      <td>64</td>\n",
       "      <td>0.048342</td>\n",
       "      <td>0.083957</td>\n",
       "      <td>0.084513</td>\n",
       "      <td>0.084234</td>\n",
       "      <td>1</td>\n",
       "      <td>11</td>\n",
       "      <td>KMeans(n_clusters=11, random_state=1)</td>\n",
       "    </tr>\n",
       "    <tr>\n",
       "      <th>32</th>\n",
       "      <td>cifar10</td>\n",
       "      <td>ae_only</td>\n",
       "      <td>64</td>\n",
       "      <td>0.048356</td>\n",
       "      <td>0.083974</td>\n",
       "      <td>0.084534</td>\n",
       "      <td>0.084253</td>\n",
       "      <td>2</td>\n",
       "      <td>11</td>\n",
       "      <td>KMeans(n_clusters=11, random_state=2)</td>\n",
       "    </tr>\n",
       "    <tr>\n",
       "      <th>33</th>\n",
       "      <td>cifar10</td>\n",
       "      <td>ae_only</td>\n",
       "      <td>64</td>\n",
       "      <td>0.048257</td>\n",
       "      <td>0.083724</td>\n",
       "      <td>0.084205</td>\n",
       "      <td>0.083964</td>\n",
       "      <td>3</td>\n",
       "      <td>11</td>\n",
       "      <td>KMeans(n_clusters=11, random_state=3)</td>\n",
       "    </tr>\n",
       "    <tr>\n",
       "      <th>34</th>\n",
       "      <td>cifar10</td>\n",
       "      <td>ae_only</td>\n",
       "      <td>64</td>\n",
       "      <td>0.048346</td>\n",
       "      <td>0.083693</td>\n",
       "      <td>0.084243</td>\n",
       "      <td>0.083967</td>\n",
       "      <td>4</td>\n",
       "      <td>11</td>\n",
       "      <td>KMeans(n_clusters=11, random_state=4)</td>\n",
       "    </tr>\n",
       "    <tr>\n",
       "      <th>35</th>\n",
       "      <td>cifar10</td>\n",
       "      <td>ae_only</td>\n",
       "      <td>64</td>\n",
       "      <td>0.039851</td>\n",
       "      <td>0.087619</td>\n",
       "      <td>0.084455</td>\n",
       "      <td>0.086008</td>\n",
       "      <td>0</td>\n",
       "      <td>12</td>\n",
       "      <td>KMeans(n_clusters=12, random_state=0)</td>\n",
       "    </tr>\n",
       "    <tr>\n",
       "      <th>36</th>\n",
       "      <td>cifar10</td>\n",
       "      <td>ae_only</td>\n",
       "      <td>64</td>\n",
       "      <td>0.043587</td>\n",
       "      <td>0.085445</td>\n",
       "      <td>0.082743</td>\n",
       "      <td>0.084072</td>\n",
       "      <td>1</td>\n",
       "      <td>12</td>\n",
       "      <td>KMeans(n_clusters=12, random_state=1)</td>\n",
       "    </tr>\n",
       "    <tr>\n",
       "      <th>37</th>\n",
       "      <td>cifar10</td>\n",
       "      <td>ae_only</td>\n",
       "      <td>64</td>\n",
       "      <td>0.040158</td>\n",
       "      <td>0.087340</td>\n",
       "      <td>0.084206</td>\n",
       "      <td>0.085745</td>\n",
       "      <td>2</td>\n",
       "      <td>12</td>\n",
       "      <td>KMeans(n_clusters=12, random_state=2)</td>\n",
       "    </tr>\n",
       "    <tr>\n",
       "      <th>38</th>\n",
       "      <td>cifar10</td>\n",
       "      <td>ae_only</td>\n",
       "      <td>64</td>\n",
       "      <td>0.041558</td>\n",
       "      <td>0.086732</td>\n",
       "      <td>0.083681</td>\n",
       "      <td>0.085179</td>\n",
       "      <td>3</td>\n",
       "      <td>12</td>\n",
       "      <td>KMeans(n_clusters=12, random_state=3)</td>\n",
       "    </tr>\n",
       "    <tr>\n",
       "      <th>39</th>\n",
       "      <td>cifar10</td>\n",
       "      <td>ae_only</td>\n",
       "      <td>64</td>\n",
       "      <td>0.040115</td>\n",
       "      <td>0.087327</td>\n",
       "      <td>0.084159</td>\n",
       "      <td>0.085714</td>\n",
       "      <td>4</td>\n",
       "      <td>12</td>\n",
       "      <td>KMeans(n_clusters=12, random_state=4)</td>\n",
       "    </tr>\n",
       "    <tr>\n",
       "      <th>40</th>\n",
       "      <td>cifar10</td>\n",
       "      <td>ae_only</td>\n",
       "      <td>64</td>\n",
       "      <td>0.043447</td>\n",
       "      <td>0.088179</td>\n",
       "      <td>0.082794</td>\n",
       "      <td>0.085402</td>\n",
       "      <td>0</td>\n",
       "      <td>13</td>\n",
       "      <td>KMeans(n_clusters=13, random_state=0)</td>\n",
       "    </tr>\n",
       "    <tr>\n",
       "      <th>41</th>\n",
       "      <td>cifar10</td>\n",
       "      <td>ae_only</td>\n",
       "      <td>64</td>\n",
       "      <td>0.039832</td>\n",
       "      <td>0.086859</td>\n",
       "      <td>0.081004</td>\n",
       "      <td>0.083829</td>\n",
       "      <td>1</td>\n",
       "      <td>13</td>\n",
       "      <td>KMeans(n_clusters=13, random_state=1)</td>\n",
       "    </tr>\n",
       "    <tr>\n",
       "      <th>42</th>\n",
       "      <td>cifar10</td>\n",
       "      <td>ae_only</td>\n",
       "      <td>64</td>\n",
       "      <td>0.039120</td>\n",
       "      <td>0.088382</td>\n",
       "      <td>0.082283</td>\n",
       "      <td>0.085224</td>\n",
       "      <td>2</td>\n",
       "      <td>13</td>\n",
       "      <td>KMeans(n_clusters=13, random_state=2)</td>\n",
       "    </tr>\n",
       "    <tr>\n",
       "      <th>43</th>\n",
       "      <td>cifar10</td>\n",
       "      <td>ae_only</td>\n",
       "      <td>64</td>\n",
       "      <td>0.040668</td>\n",
       "      <td>0.089925</td>\n",
       "      <td>0.083850</td>\n",
       "      <td>0.086782</td>\n",
       "      <td>3</td>\n",
       "      <td>13</td>\n",
       "      <td>KMeans(n_clusters=13, random_state=3)</td>\n",
       "    </tr>\n",
       "    <tr>\n",
       "      <th>44</th>\n",
       "      <td>cifar10</td>\n",
       "      <td>ae_only</td>\n",
       "      <td>64</td>\n",
       "      <td>0.043987</td>\n",
       "      <td>0.088311</td>\n",
       "      <td>0.083093</td>\n",
       "      <td>0.085623</td>\n",
       "      <td>4</td>\n",
       "      <td>13</td>\n",
       "      <td>KMeans(n_clusters=13, random_state=4)</td>\n",
       "    </tr>\n",
       "    <tr>\n",
       "      <th>45</th>\n",
       "      <td>cifar10</td>\n",
       "      <td>ae_only</td>\n",
       "      <td>64</td>\n",
       "      <td>0.037087</td>\n",
       "      <td>0.089778</td>\n",
       "      <td>0.081897</td>\n",
       "      <td>0.085656</td>\n",
       "      <td>0</td>\n",
       "      <td>14</td>\n",
       "      <td>KMeans(n_clusters=14, random_state=0)</td>\n",
       "    </tr>\n",
       "    <tr>\n",
       "      <th>46</th>\n",
       "      <td>cifar10</td>\n",
       "      <td>ae_only</td>\n",
       "      <td>64</td>\n",
       "      <td>0.042086</td>\n",
       "      <td>0.098849</td>\n",
       "      <td>0.090905</td>\n",
       "      <td>0.094711</td>\n",
       "      <td>1</td>\n",
       "      <td>14</td>\n",
       "      <td>KMeans(n_clusters=14, random_state=1)</td>\n",
       "    </tr>\n",
       "    <tr>\n",
       "      <th>47</th>\n",
       "      <td>cifar10</td>\n",
       "      <td>ae_only</td>\n",
       "      <td>64</td>\n",
       "      <td>0.037222</td>\n",
       "      <td>0.088477</td>\n",
       "      <td>0.080630</td>\n",
       "      <td>0.084371</td>\n",
       "      <td>2</td>\n",
       "      <td>14</td>\n",
       "      <td>KMeans(n_clusters=14, random_state=2)</td>\n",
       "    </tr>\n",
       "    <tr>\n",
       "      <th>48</th>\n",
       "      <td>cifar10</td>\n",
       "      <td>ae_only</td>\n",
       "      <td>64</td>\n",
       "      <td>0.038594</td>\n",
       "      <td>0.097259</td>\n",
       "      <td>0.088495</td>\n",
       "      <td>0.092670</td>\n",
       "      <td>3</td>\n",
       "      <td>14</td>\n",
       "      <td>KMeans(n_clusters=14, random_state=3)</td>\n",
       "    </tr>\n",
       "    <tr>\n",
       "      <th>49</th>\n",
       "      <td>cifar10</td>\n",
       "      <td>ae_only</td>\n",
       "      <td>64</td>\n",
       "      <td>0.039389</td>\n",
       "      <td>0.097005</td>\n",
       "      <td>0.088408</td>\n",
       "      <td>0.092507</td>\n",
       "      <td>4</td>\n",
       "      <td>14</td>\n",
       "      <td>KMeans(n_clusters=14, random_state=4)</td>\n",
       "    </tr>\n",
       "  </tbody>\n",
       "</table>\n",
       "</div>"
      ],
      "text/plain": [
       "    dataset   class_ dim  silhouette  homogeneity  completeness  v_measure  \\\n",
       "0   cifar10  ae_only  64    0.078531     0.047224      0.073053   0.057365   \n",
       "1   cifar10  ae_only  64    0.078508     0.047313      0.073199   0.057476   \n",
       "2   cifar10  ae_only  64    0.078360     0.047333      0.073190   0.057488   \n",
       "3   cifar10  ae_only  64    0.078359     0.047333      0.073190   0.057488   \n",
       "4   cifar10  ae_only  64    0.078372     0.047338      0.073199   0.057494   \n",
       "5   cifar10  ae_only  64    0.071473     0.052475      0.073654   0.061286   \n",
       "6   cifar10  ae_only  64    0.071243     0.052382      0.073390   0.061131   \n",
       "7   cifar10  ae_only  64    0.071450     0.052482      0.073664   0.061294   \n",
       "8   cifar10  ae_only  64    0.071463     0.052490      0.073674   0.061304   \n",
       "9   cifar10  ae_only  64    0.071116     0.052438      0.073506   0.061210   \n",
       "10  cifar10  ae_only  64    0.064082     0.057887      0.074803   0.065267   \n",
       "11  cifar10  ae_only  64    0.064042     0.057751      0.074606   0.065105   \n",
       "12  cifar10  ae_only  64    0.064037     0.057733      0.074581   0.065085   \n",
       "13  cifar10  ae_only  64    0.063972     0.057786      0.074590   0.065122   \n",
       "14  cifar10  ae_only  64    0.064068     0.057727      0.074585   0.065082   \n",
       "15  cifar10  ae_only  64    0.062116     0.070443      0.083525   0.076428   \n",
       "16  cifar10  ae_only  64    0.062219     0.070038      0.083124   0.076022   \n",
       "17  cifar10  ae_only  64    0.062104     0.070394      0.083468   0.076376   \n",
       "18  cifar10  ae_only  64    0.062246     0.069958      0.083013   0.075928   \n",
       "19  cifar10  ae_only  64    0.062370     0.070319      0.083413   0.076309   \n",
       "20  cifar10  ae_only  64    0.053542     0.075493      0.083186   0.079153   \n",
       "21  cifar10  ae_only  64    0.053518     0.075877      0.083577   0.079541   \n",
       "22  cifar10  ae_only  64    0.053521     0.075865      0.083563   0.079528   \n",
       "23  cifar10  ae_only  64    0.053609     0.075881      0.083601   0.079554   \n",
       "24  cifar10  ae_only  64    0.053723     0.075882      0.083638   0.079572   \n",
       "25  cifar10  ae_only  64    0.050767     0.082919      0.086855   0.084841   \n",
       "26  cifar10  ae_only  64    0.050479     0.082537      0.086339   0.084395   \n",
       "27  cifar10  ae_only  64    0.050755     0.082912      0.086841   0.084831   \n",
       "28  cifar10  ae_only  64    0.050036     0.082779      0.086560   0.084627   \n",
       "29  cifar10  ae_only  64    0.051232     0.083037      0.087024   0.084984   \n",
       "30  cifar10  ae_only  64    0.048386     0.083689      0.084219   0.083953   \n",
       "31  cifar10  ae_only  64    0.048342     0.083957      0.084513   0.084234   \n",
       "32  cifar10  ae_only  64    0.048356     0.083974      0.084534   0.084253   \n",
       "33  cifar10  ae_only  64    0.048257     0.083724      0.084205   0.083964   \n",
       "34  cifar10  ae_only  64    0.048346     0.083693      0.084243   0.083967   \n",
       "35  cifar10  ae_only  64    0.039851     0.087619      0.084455   0.086008   \n",
       "36  cifar10  ae_only  64    0.043587     0.085445      0.082743   0.084072   \n",
       "37  cifar10  ae_only  64    0.040158     0.087340      0.084206   0.085745   \n",
       "38  cifar10  ae_only  64    0.041558     0.086732      0.083681   0.085179   \n",
       "39  cifar10  ae_only  64    0.040115     0.087327      0.084159   0.085714   \n",
       "40  cifar10  ae_only  64    0.043447     0.088179      0.082794   0.085402   \n",
       "41  cifar10  ae_only  64    0.039832     0.086859      0.081004   0.083829   \n",
       "42  cifar10  ae_only  64    0.039120     0.088382      0.082283   0.085224   \n",
       "43  cifar10  ae_only  64    0.040668     0.089925      0.083850   0.086782   \n",
       "44  cifar10  ae_only  64    0.043987     0.088311      0.083093   0.085623   \n",
       "45  cifar10  ae_only  64    0.037087     0.089778      0.081897   0.085656   \n",
       "46  cifar10  ae_only  64    0.042086     0.098849      0.090905   0.094711   \n",
       "47  cifar10  ae_only  64    0.037222     0.088477      0.080630   0.084371   \n",
       "48  cifar10  ae_only  64    0.038594     0.097259      0.088495   0.092670   \n",
       "49  cifar10  ae_only  64    0.039389     0.097005      0.088408   0.092507   \n",
       "\n",
       "   init_ n_clusters                                  model  \n",
       "0      0          5   KMeans(n_clusters=5, random_state=0)  \n",
       "1      1          5   KMeans(n_clusters=5, random_state=1)  \n",
       "2      2          5   KMeans(n_clusters=5, random_state=2)  \n",
       "3      3          5   KMeans(n_clusters=5, random_state=3)  \n",
       "4      4          5   KMeans(n_clusters=5, random_state=4)  \n",
       "5      0          6   KMeans(n_clusters=6, random_state=0)  \n",
       "6      1          6   KMeans(n_clusters=6, random_state=1)  \n",
       "7      2          6   KMeans(n_clusters=6, random_state=2)  \n",
       "8      3          6   KMeans(n_clusters=6, random_state=3)  \n",
       "9      4          6   KMeans(n_clusters=6, random_state=4)  \n",
       "10     0          7   KMeans(n_clusters=7, random_state=0)  \n",
       "11     1          7   KMeans(n_clusters=7, random_state=1)  \n",
       "12     2          7   KMeans(n_clusters=7, random_state=2)  \n",
       "13     3          7   KMeans(n_clusters=7, random_state=3)  \n",
       "14     4          7   KMeans(n_clusters=7, random_state=4)  \n",
       "15     0          8                 KMeans(random_state=0)  \n",
       "16     1          8                 KMeans(random_state=1)  \n",
       "17     2          8                 KMeans(random_state=2)  \n",
       "18     3          8                 KMeans(random_state=3)  \n",
       "19     4          8                 KMeans(random_state=4)  \n",
       "20     0          9   KMeans(n_clusters=9, random_state=0)  \n",
       "21     1          9   KMeans(n_clusters=9, random_state=1)  \n",
       "22     2          9   KMeans(n_clusters=9, random_state=2)  \n",
       "23     3          9   KMeans(n_clusters=9, random_state=3)  \n",
       "24     4          9   KMeans(n_clusters=9, random_state=4)  \n",
       "25     0         10  KMeans(n_clusters=10, random_state=0)  \n",
       "26     1         10  KMeans(n_clusters=10, random_state=1)  \n",
       "27     2         10  KMeans(n_clusters=10, random_state=2)  \n",
       "28     3         10  KMeans(n_clusters=10, random_state=3)  \n",
       "29     4         10  KMeans(n_clusters=10, random_state=4)  \n",
       "30     0         11  KMeans(n_clusters=11, random_state=0)  \n",
       "31     1         11  KMeans(n_clusters=11, random_state=1)  \n",
       "32     2         11  KMeans(n_clusters=11, random_state=2)  \n",
       "33     3         11  KMeans(n_clusters=11, random_state=3)  \n",
       "34     4         11  KMeans(n_clusters=11, random_state=4)  \n",
       "35     0         12  KMeans(n_clusters=12, random_state=0)  \n",
       "36     1         12  KMeans(n_clusters=12, random_state=1)  \n",
       "37     2         12  KMeans(n_clusters=12, random_state=2)  \n",
       "38     3         12  KMeans(n_clusters=12, random_state=3)  \n",
       "39     4         12  KMeans(n_clusters=12, random_state=4)  \n",
       "40     0         13  KMeans(n_clusters=13, random_state=0)  \n",
       "41     1         13  KMeans(n_clusters=13, random_state=1)  \n",
       "42     2         13  KMeans(n_clusters=13, random_state=2)  \n",
       "43     3         13  KMeans(n_clusters=13, random_state=3)  \n",
       "44     4         13  KMeans(n_clusters=13, random_state=4)  \n",
       "45     0         14  KMeans(n_clusters=14, random_state=0)  \n",
       "46     1         14  KMeans(n_clusters=14, random_state=1)  \n",
       "47     2         14  KMeans(n_clusters=14, random_state=2)  \n",
       "48     3         14  KMeans(n_clusters=14, random_state=3)  \n",
       "49     4         14  KMeans(n_clusters=14, random_state=4)  "
      ]
     },
     "execution_count": 52,
     "metadata": {},
     "output_type": "execute_result"
    }
   ],
   "source": [
    "get_cluster_metrics(projection_df.iloc[0], n_init=5)"
   ]
  },
  {
   "cell_type": "code",
   "execution_count": null,
   "metadata": {},
   "outputs": [],
   "source": []
  }
 ],
 "metadata": {
  "kernelspec": {
   "display_name": "Python 3",
   "language": "python",
   "name": "python3"
  },
  "language_info": {
   "codemirror_mode": {
    "name": "ipython",
    "version": 3
   },
   "file_extension": ".py",
   "mimetype": "text/x-python",
   "name": "python",
   "nbconvert_exporter": "python",
   "pygments_lexer": "ipython3",
   "version": "3.6.7"
  }
 },
 "nbformat": 4,
 "nbformat_minor": 2
}
