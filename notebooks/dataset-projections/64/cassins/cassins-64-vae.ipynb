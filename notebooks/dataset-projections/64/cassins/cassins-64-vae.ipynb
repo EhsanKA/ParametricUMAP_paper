{
 "cells": [
  {
   "cell_type": "code",
   "execution_count": 1,
   "metadata": {
    "ExecuteTime": {
     "end_time": "2020-08-22T17:08:23.301223Z",
     "start_time": "2020-08-22T17:08:23.288503Z"
    }
   },
   "outputs": [],
   "source": [
    "# reload packages\n",
    "%load_ext autoreload\n",
    "%autoreload 2"
   ]
  },
  {
   "cell_type": "markdown",
   "metadata": {},
   "source": [
    "### Choose GPU (this may not be needed on your computer)"
   ]
  },
  {
   "cell_type": "code",
   "execution_count": 2,
   "metadata": {
    "ExecuteTime": {
     "end_time": "2020-08-22T17:08:23.325285Z",
     "start_time": "2020-08-22T17:08:23.302189Z"
    }
   },
   "outputs": [
    {
     "name": "stdout",
     "output_type": "stream",
     "text": [
      "env: CUDA_DEVICE_ORDER=PCI_BUS_ID\n",
      "env: CUDA_VISIBLE_DEVICES=0\n"
     ]
    }
   ],
   "source": [
    "%env CUDA_DEVICE_ORDER=PCI_BUS_ID\n",
    "%env CUDA_VISIBLE_DEVICES=0"
   ]
  },
  {
   "cell_type": "code",
   "execution_count": 3,
   "metadata": {
    "ExecuteTime": {
     "end_time": "2020-08-22T17:08:27.688530Z",
     "start_time": "2020-08-22T17:08:23.327325Z"
    }
   },
   "outputs": [
    {
     "name": "stdout",
     "output_type": "stream",
     "text": [
      "[PhysicalDevice(name='/physical_device:GPU:0', device_type='GPU')]\n"
     ]
    }
   ],
   "source": [
    "import tensorflow as tf\n",
    "gpu_devices = tf.config.experimental.list_physical_devices('GPU')\n",
    "if len(gpu_devices)>0:\n",
    "    tf.config.experimental.set_memory_growth(gpu_devices[0], True)\n",
    "print(gpu_devices)\n",
    "tf.keras.backend.clear_session()"
   ]
  },
  {
   "cell_type": "markdown",
   "metadata": {},
   "source": [
    "### load packages"
   ]
  },
  {
   "cell_type": "code",
   "execution_count": 4,
   "metadata": {
    "ExecuteTime": {
     "end_time": "2020-08-22T17:08:32.150746Z",
     "start_time": "2020-08-22T17:08:27.690043Z"
    }
   },
   "outputs": [
    {
     "name": "stderr",
     "output_type": "stream",
     "text": [
      "/mnt/cube/tsainbur/conda_envs/tpy3/lib/python3.6/site-packages/tqdm/autonotebook/__init__.py:14: TqdmExperimentalWarning: Using `tqdm.autonotebook.tqdm` in notebook mode. Use `tqdm.tqdm` instead to force console mode (e.g. in jupyter console)\n",
      "  \" (e.g. in jupyter console)\", TqdmExperimentalWarning)\n"
     ]
    }
   ],
   "source": [
    "from tfumap.umap import tfUMAP"
   ]
  },
  {
   "cell_type": "code",
   "execution_count": 5,
   "metadata": {
    "ExecuteTime": {
     "end_time": "2020-08-22T17:08:32.320806Z",
     "start_time": "2020-08-22T17:08:32.152230Z"
    }
   },
   "outputs": [],
   "source": [
    "import tensorflow as tf\n",
    "import numpy as np\n",
    "import matplotlib.pyplot as plt\n",
    "from tqdm.autonotebook import tqdm\n",
    "import umap\n",
    "import pandas as pd"
   ]
  },
  {
   "cell_type": "markdown",
   "metadata": {},
   "source": [
    "### Load dataset"
   ]
  },
  {
   "cell_type": "code",
   "execution_count": 6,
   "metadata": {
    "ExecuteTime": {
     "end_time": "2020-08-22T17:08:32.365114Z",
     "start_time": "2020-08-22T17:08:32.322899Z"
    }
   },
   "outputs": [],
   "source": [
    "dataset = 'cassins'\n",
    "dims = (32,32,1)\n",
    "n_components = 64"
   ]
  },
  {
   "cell_type": "code",
   "execution_count": 7,
   "metadata": {
    "ExecuteTime": {
     "end_time": "2020-08-22T17:08:36.995170Z",
     "start_time": "2020-08-22T17:08:32.366693Z"
    }
   },
   "outputs": [
    {
     "data": {
      "application/vnd.jupyter.widget-view+json": {
       "model_id": "335eb378824e429f88e24b88d1cbf4a6",
       "version_major": 2,
       "version_minor": 0
      },
      "text/plain": [
       "HBox(children=(IntProgress(value=0, max=26984), HTML(value='')))"
      ]
     },
     "metadata": {},
     "output_type": "display_data"
    },
    {
     "name": "stdout",
     "output_type": "stream",
     "text": [
      "\n"
     ]
    }
   ],
   "source": [
    "from tfumap.paths import ensure_dir, MODEL_DIR, DATA_DIR\n",
    "\n",
    "syllable_df = pd.read_pickle(DATA_DIR/'cassins'/ 'cassins.pickle')\n",
    "\n",
    "\n",
    "\n",
    "top_labels = (\n",
    "    pd.DataFrame(\n",
    "        {i: [np.sum(syllable_df.labels.values == i)] for i in syllable_df.labels.unique()}\n",
    "    )\n",
    "    .T.sort_values(by=0, ascending=False)[:20]\n",
    "    .T\n",
    ")\n",
    "\n",
    "syllable_df = syllable_df[syllable_df.labels.isin(top_labels.columns)]\n",
    "\n",
    "syllable_df[:3]\n",
    "syllable_df = syllable_df.reset_index()\n",
    "\n",
    "syllable_df['subset'] = 'train'\n",
    "syllable_df.loc[:1000, 'subset'] = 'valid'\n",
    "syllable_df.loc[1000:1999, 'subset'] = 'test'\n",
    "\n",
    "specs = np.array(list(syllable_df.spectrogram.values))\n",
    "specs = np.array([np.concatenate([np.zeros((32,1)), i], axis=1) for i in tqdm(specs)])\n",
    "\n",
    "\n",
    "syllable_df['spectrogram'] = syllable_df['spectrogram'].astype('object')\n",
    "syllable_df['spectrogram'] = list(specs)\n",
    "\n",
    "\n",
    "Y_train = np.array(list(syllable_df.labels.values[syllable_df.subset == 'train']))\n",
    "Y_valid = np.array(list(syllable_df.labels.values[syllable_df.subset == 'valid']))\n",
    "Y_test = np.array(list(syllable_df.labels.values[syllable_df.subset == 'test']))\n",
    "\n",
    "X_train = np.array(list(syllable_df.spectrogram.values[syllable_df.subset == 'train'])) #/ 255.\n",
    "X_valid = np.array(list(syllable_df.spectrogram.values[syllable_df.subset == 'valid']))# / 255.\n",
    "X_test = np.array(list(syllable_df.spectrogram.values[syllable_df.subset == 'test'])) #/ 255.\n",
    "\n",
    "X_train_flat = X_train.reshape((len(X_train), np.product(np.shape(X_train)[1:])))\n",
    "\n",
    "from sklearn.preprocessing import OrdinalEncoder\n",
    "enc = OrdinalEncoder()\n",
    "Y_train = enc.fit_transform([[i] for i in Y_train]).astype('int').flatten()\n",
    "Y_test = enc.fit_transform([[i] for i in Y_test]).astype('int').flatten()\n",
    "X_test_flat = X_test.reshape((len(X_test), np.product(np.shape(X_test)[1:])))"
   ]
  },
  {
   "cell_type": "markdown",
   "metadata": {},
   "source": [
    "### define networks"
   ]
  },
  {
   "cell_type": "code",
   "execution_count": 8,
   "metadata": {
    "ExecuteTime": {
     "end_time": "2020-08-22T17:08:37.035096Z",
     "start_time": "2020-08-22T17:08:36.997276Z"
    }
   },
   "outputs": [],
   "source": [
    "from tensorflow.keras.layers import (\n",
    "    Conv2D,\n",
    "    Reshape,\n",
    "    Bidirectional,\n",
    "    Dense,\n",
    "    RepeatVector,\n",
    "    TimeDistributed,\n",
    "    LSTM\n",
    ")"
   ]
  },
  {
   "cell_type": "code",
   "execution_count": 9,
   "metadata": {
    "ExecuteTime": {
     "end_time": "2020-08-22T17:08:37.073346Z",
     "start_time": "2020-08-22T17:08:37.036452Z"
    }
   },
   "outputs": [],
   "source": [
    "from tfumap.vae import VAE, Sampling"
   ]
  },
  {
   "cell_type": "code",
   "execution_count": 10,
   "metadata": {
    "ExecuteTime": {
     "end_time": "2020-08-22T17:08:37.962397Z",
     "start_time": "2020-08-22T17:08:37.074750Z"
    }
   },
   "outputs": [
    {
     "name": "stderr",
     "output_type": "stream",
     "text": [
      "WARNING: Logging before flag parsing goes to stderr.\n",
      "W0822 10:08:37.774958 140156596483904 recurrent_v2.py:1098] Layer lstm will not use cuDNN kernel since it doesn't meet the cuDNN kernel criteria. It will use generic GPU kernel as fallback when running on GPU\n",
      "W0822 10:08:37.779890 140156596483904 recurrent_v2.py:1098] Layer lstm will not use cuDNN kernel since it doesn't meet the cuDNN kernel criteria. It will use generic GPU kernel as fallback when running on GPU\n",
      "W0822 10:08:37.785395 140156596483904 recurrent_v2.py:1098] Layer lstm will not use cuDNN kernel since it doesn't meet the cuDNN kernel criteria. It will use generic GPU kernel as fallback when running on GPU\n"
     ]
    },
    {
     "name": "stdout",
     "output_type": "stream",
     "text": [
      "Model: \"encoder\"\n",
      "__________________________________________________________________________________________________\n",
      "Layer (type)                    Output Shape         Param #     Connected to                     \n",
      "==================================================================================================\n",
      "input_1 (InputLayer)            [(None, 32, 32, 1)]  0                                            \n",
      "__________________________________________________________________________________________________\n",
      "conv2d (Conv2D)                 (None, 16, 16, 32)   320         input_1[0][0]                    \n",
      "__________________________________________________________________________________________________\n",
      "conv2d_1 (Conv2D)               (None, 8, 8, 64)     18496       conv2d[0][0]                     \n",
      "__________________________________________________________________________________________________\n",
      "conv2d_2 (Conv2D)               (None, 4, 8, 128)    73856       conv2d_1[0][0]                   \n",
      "__________________________________________________________________________________________________\n",
      "conv2d_3 (Conv2D)               (None, 2, 8, 128)    147584      conv2d_2[0][0]                   \n",
      "__________________________________________________________________________________________________\n",
      "reshape (Reshape)               (None, 8, 256)       0           conv2d_3[0][0]                   \n",
      "__________________________________________________________________________________________________\n",
      "bidirectional (Bidirectional)   (None, 200)          285600      reshape[0][0]                    \n",
      "__________________________________________________________________________________________________\n",
      "dense (Dense)                   (None, 512)          102912      bidirectional[0][0]              \n",
      "__________________________________________________________________________________________________\n",
      "z_mean (Dense)                  (None, 64)           32832       dense[0][0]                      \n",
      "__________________________________________________________________________________________________\n",
      "z_log_var (Dense)               (None, 64)           32832       dense[0][0]                      \n",
      "__________________________________________________________________________________________________\n",
      "sampling (Sampling)             (None, 64)           0           z_mean[0][0]                     \n",
      "                                                                 z_log_var[0][0]                  \n",
      "==================================================================================================\n",
      "Total params: 694,432\n",
      "Trainable params: 694,432\n",
      "Non-trainable params: 0\n",
      "__________________________________________________________________________________________________\n"
     ]
    }
   ],
   "source": [
    "\n",
    "encoder_inputs = tf.keras.Input(shape=dims)\n",
    "x = Conv2D(\n",
    "        filters=32, kernel_size=3, strides=(2, 2), activation=tf.nn.leaky_relu, padding=\"same\"\n",
    "    )(encoder_inputs)\n",
    "x = Conv2D(\n",
    "        filters=64, kernel_size=3, strides=(2, 2), activation=tf.nn.leaky_relu, padding=\"same\"\n",
    "    )(x)\n",
    "x = Conv2D(\n",
    "        filters=128, kernel_size=3, strides=(2, 1), activation=tf.nn.leaky_relu, padding=\"same\"\n",
    "    )(x)\n",
    "x = Conv2D(\n",
    "        filters=128, kernel_size=3, strides=(2, 1), activation=tf.nn.leaky_relu, padding=\"same\"\n",
    "    )(x)\n",
    "x = Reshape(target_shape=(8, 2*128))(x)\n",
    "x = Bidirectional(LSTM(units=100, activation=\"relu\"))(x)\n",
    "x = Dense(units=512)(x)\n",
    "z_mean = tf.keras.layers.Dense(n_components, name=\"z_mean\")(x)\n",
    "z_log_var = tf.keras.layers.Dense(n_components, name=\"z_log_var\")(x)\n",
    "z = Sampling()([z_mean, z_log_var])\n",
    "encoder = tf.keras.Model(encoder_inputs, [z_mean, z_log_var, z], name=\"encoder\")\n",
    "encoder.summary()"
   ]
  },
  {
   "cell_type": "code",
   "execution_count": 11,
   "metadata": {
    "ExecuteTime": {
     "end_time": "2020-08-22T17:08:38.185083Z",
     "start_time": "2020-08-22T17:08:37.964589Z"
    }
   },
   "outputs": [
    {
     "name": "stderr",
     "output_type": "stream",
     "text": [
      "W0822 10:08:38.014850 140156596483904 recurrent_v2.py:1098] Layer lstm_1 will not use cuDNN kernel since it doesn't meet the cuDNN kernel criteria. It will use generic GPU kernel as fallback when running on GPU\n",
      "W0822 10:08:38.024241 140156596483904 recurrent_v2.py:1098] Layer lstm_1 will not use cuDNN kernel since it doesn't meet the cuDNN kernel criteria. It will use generic GPU kernel as fallback when running on GPU\n",
      "W0822 10:08:38.028821 140156596483904 recurrent_v2.py:1098] Layer lstm_1 will not use cuDNN kernel since it doesn't meet the cuDNN kernel criteria. It will use generic GPU kernel as fallback when running on GPU\n"
     ]
    },
    {
     "name": "stdout",
     "output_type": "stream",
     "text": [
      "Model: \"decoder\"\n",
      "_________________________________________________________________\n",
      "Layer (type)                 Output Shape              Param #   \n",
      "=================================================================\n",
      "input_2 (InputLayer)         [(None, 64)]              0         \n",
      "_________________________________________________________________\n",
      "dense_1 (Dense)              (None, 512)               33280     \n",
      "_________________________________________________________________\n",
      "repeat_vector (RepeatVector) (None, 8, 512)            0         \n",
      "_________________________________________________________________\n",
      "bidirectional_1 (Bidirection (None, 8, 200)            490400    \n",
      "_________________________________________________________________\n",
      "time_distributed (TimeDistri (None, 8, 256)            51456     \n",
      "_________________________________________________________________\n",
      "reshape_1 (Reshape)          (None, 8, 2, 128)         0         \n",
      "_________________________________________________________________\n",
      "conv2d_transpose (Conv2DTran (None, 8, 4, 128)         147584    \n",
      "_________________________________________________________________\n",
      "conv2d_transpose_1 (Conv2DTr (None, 8, 8, 128)         147584    \n",
      "_________________________________________________________________\n",
      "conv2d_transpose_2 (Conv2DTr (None, 16, 16, 64)        73792     \n",
      "_________________________________________________________________\n",
      "conv2d_transpose_3 (Conv2DTr (None, 32, 32, 32)        18464     \n",
      "_________________________________________________________________\n",
      "conv2d_transpose_4 (Conv2DTr (None, 32, 32, 1)         289       \n",
      "_________________________________________________________________\n",
      "reshape_2 (Reshape)          (None, 32, 32, 1)         0         \n",
      "=================================================================\n",
      "Total params: 962,849\n",
      "Trainable params: 962,849\n",
      "Non-trainable params: 0\n",
      "_________________________________________________________________\n"
     ]
    }
   ],
   "source": [
    "latent_inputs = tf.keras.Input(shape=(n_components,))\n",
    "x = Dense(units=512)(latent_inputs)\n",
    "x = RepeatVector(8)(x)\n",
    "x = Bidirectional(LSTM(units=100, activation=\"relu\", return_sequences=True))(x)\n",
    "x = TimeDistributed(Dense(2*128))(x)\n",
    "x = Reshape(target_shape=(8,2,128))(x)\n",
    "x = tf.keras.layers.Conv2DTranspose(\n",
    "        filters=128, kernel_size=3, strides=(1, 2), padding=\"SAME\", activation=tf.nn.leaky_relu\n",
    "    )(x)\n",
    "\n",
    "x = tf.keras.layers.Conv2DTranspose(\n",
    "        filters=128, kernel_size=3, strides=(1, 2), padding=\"SAME\", activation=tf.nn.leaky_relu\n",
    "    )(x)\n",
    "x = tf.keras.layers.Conv2DTranspose(\n",
    "        filters=64, kernel_size=3, strides=(2, 2), padding=\"SAME\", activation=tf.nn.leaky_relu\n",
    "    )(x)\n",
    "x = tf.keras.layers.Conv2DTranspose(\n",
    "        filters=32, kernel_size=3, strides=(2, 2), padding=\"SAME\", activation=tf.nn.leaky_relu\n",
    "    )(x)\n",
    "x = tf.keras.layers.Conv2DTranspose(\n",
    "        filters=1, kernel_size=3, strides=(1, 1), padding=\"SAME\", activation=\"sigmoid\"\n",
    "    )(x)\n",
    "\n",
    "\n",
    "decoder_outputs = Reshape(target_shape=(32, 32, 1))(x)\n",
    "decoder = tf.keras.Model(latent_inputs, decoder_outputs, name=\"decoder\")\n",
    "decoder.summary()\n"
   ]
  },
  {
   "cell_type": "markdown",
   "metadata": {},
   "source": [
    "### Create model and train"
   ]
  },
  {
   "cell_type": "code",
   "execution_count": 12,
   "metadata": {
    "ExecuteTime": {
     "end_time": "2020-08-22T17:08:38.225151Z",
     "start_time": "2020-08-22T17:08:38.187298Z"
    }
   },
   "outputs": [
    {
     "data": {
      "text/plain": [
       "(24984, 32, 32)"
      ]
     },
     "execution_count": 12,
     "metadata": {},
     "output_type": "execute_result"
    }
   ],
   "source": [
    "X_train.shape"
   ]
  },
  {
   "cell_type": "code",
   "execution_count": 13,
   "metadata": {
    "ExecuteTime": {
     "end_time": "2020-08-22T17:08:38.259696Z",
     "start_time": "2020-08-22T17:08:38.226920Z"
    }
   },
   "outputs": [
    {
     "data": {
      "text/plain": [
       "(24984, 32, 32, 1)"
      ]
     },
     "execution_count": 13,
     "metadata": {},
     "output_type": "execute_result"
    }
   ],
   "source": [
    "X_train = X_train.reshape([len(X_train)]+ list(dims))\n",
    "X_train.shape"
   ]
  },
  {
   "cell_type": "code",
   "execution_count": 14,
   "metadata": {
    "ExecuteTime": {
     "end_time": "2020-08-22T17:08:38.308378Z",
     "start_time": "2020-08-22T17:08:38.261313Z"
    }
   },
   "outputs": [],
   "source": [
    "vae = VAE(encoder, decoder)\n",
    "vae.compile(optimizer=tf.keras.optimizers.Adam())"
   ]
  },
  {
   "cell_type": "code",
   "execution_count": 15,
   "metadata": {
    "ExecuteTime": {
     "end_time": "2020-08-22T17:13:43.407618Z",
     "start_time": "2020-08-22T17:08:38.310227Z"
    }
   },
   "outputs": [
    {
     "name": "stdout",
     "output_type": "stream",
     "text": [
      "Epoch 1/30\n",
      "196/196 [==============================] - 10s 52ms/step - loss: 124.5450 - reconstruction_loss: 124.2098 - kl_loss: 0.3352\n",
      "Epoch 2/30\n",
      "196/196 [==============================] - 10s 53ms/step - loss: 93.4402 - reconstruction_loss: 92.6499 - kl_loss: 0.7904\n",
      "Epoch 3/30\n",
      "196/196 [==============================] - 10s 52ms/step - loss: 86.4320 - reconstruction_loss: 85.5443 - kl_loss: 0.8877\n",
      "Epoch 4/30\n",
      "196/196 [==============================] - 10s 53ms/step - loss: 82.4218 - reconstruction_loss: 81.5636 - kl_loss: 0.8582\n",
      "Epoch 5/30\n",
      "196/196 [==============================] - 10s 53ms/step - loss: 80.5862 - reconstruction_loss: 79.7849 - kl_loss: 0.8014\n",
      "Epoch 6/30\n",
      "196/196 [==============================] - 10s 52ms/step - loss: 79.6182 - reconstruction_loss: 78.8903 - kl_loss: 0.7279\n",
      "Epoch 7/30\n",
      "196/196 [==============================] - 10s 52ms/step - loss: 79.0273 - reconstruction_loss: 78.3469 - kl_loss: 0.6804\n",
      "Epoch 8/30\n",
      "196/196 [==============================] - 10s 50ms/step - loss: 78.6630 - reconstruction_loss: 78.0094 - kl_loss: 0.6535\n",
      "Epoch 9/30\n",
      "196/196 [==============================] - 10s 50ms/step - loss: 78.2428 - reconstruction_loss: 77.6081 - kl_loss: 0.6346\n",
      "Epoch 10/30\n",
      "196/196 [==============================] - 10s 51ms/step - loss: 77.8709 - reconstruction_loss: 77.2502 - kl_loss: 0.6206\n",
      "Epoch 11/30\n",
      "196/196 [==============================] - 10s 50ms/step - loss: 77.6892 - reconstruction_loss: 77.0773 - kl_loss: 0.6119\n",
      "Epoch 12/30\n",
      "196/196 [==============================] - 10s 50ms/step - loss: 77.3338 - reconstruction_loss: 76.7289 - kl_loss: 0.6049\n",
      "Epoch 13/30\n",
      "196/196 [==============================] - 10s 51ms/step - loss: 77.1083 - reconstruction_loss: 76.5069 - kl_loss: 0.6014 1s - loss: 77.0999 - reconstruction_loss: 76.\n",
      "Epoch 14/30\n",
      "196/196 [==============================] - 10s 51ms/step - loss: 77.0621 - reconstruction_loss: 76.4627 - kl_loss: 0.5994\n",
      "Epoch 15/30\n",
      "196/196 [==============================] - 10s 50ms/step - loss: 76.8279 - reconstruction_loss: 76.2314 - kl_loss: 0.5965\n",
      "Epoch 16/30\n",
      "196/196 [==============================] - 10s 50ms/step - loss: 76.7427 - reconstruction_loss: 76.1451 - kl_loss: 0.5976\n",
      "Epoch 17/30\n",
      "196/196 [==============================] - 10s 49ms/step - loss: 76.4427 - reconstruction_loss: 75.8477 - kl_loss: 0.5950\n",
      "Epoch 18/30\n",
      "196/196 [==============================] - 10s 51ms/step - loss: 76.2456 - reconstruction_loss: 75.6488 - kl_loss: 0.5967\n",
      "Epoch 19/30\n",
      "196/196 [==============================] - 10s 50ms/step - loss: 76.1312 - reconstruction_loss: 75.5355 - kl_loss: 0.5956\n",
      "Epoch 20/30\n",
      "196/196 [==============================] - 10s 49ms/step - loss: 76.1343 - reconstruction_loss: 75.5393 - kl_loss: 0.5951\n",
      "Epoch 21/30\n",
      "196/196 [==============================] - 10s 52ms/step - loss: 75.9649 - reconstruction_loss: 75.3680 - kl_loss: 0.5968\n",
      "Epoch 22/30\n",
      "196/196 [==============================] - 10s 50ms/step - loss: 75.8677 - reconstruction_loss: 75.2722 - kl_loss: 0.5955\n",
      "Epoch 23/30\n",
      "196/196 [==============================] - 10s 51ms/step - loss: 75.7479 - reconstruction_loss: 75.1534 - kl_loss: 0.5945\n",
      "Epoch 24/30\n",
      "196/196 [==============================] - 10s 50ms/step - loss: 75.8495 - reconstruction_loss: 75.2548 - kl_loss: 0.5947\n",
      "Epoch 25/30\n",
      "196/196 [==============================] - 10s 50ms/step - loss: 75.7704 - reconstruction_loss: 75.1734 - kl_loss: 0.5970\n",
      "Epoch 26/30\n",
      "196/196 [==============================] - 10s 51ms/step - loss: 75.6106 - reconstruction_loss: 75.0154 - kl_loss: 0.5953\n",
      "Epoch 27/30\n",
      "196/196 [==============================] - 10s 49ms/step - loss: 75.4703 - reconstruction_loss: 74.8749 - kl_loss: 0.5955\n",
      "Epoch 28/30\n",
      "196/196 [==============================] - 10s 49ms/step - loss: 75.5072 - reconstruction_loss: 74.9124 - kl_loss: 0.5948\n",
      "Epoch 29/30\n",
      "196/196 [==============================] - 10s 50ms/step - loss: 75.5608 - reconstruction_loss: 74.9655 - kl_loss: 0.5954\n",
      "Epoch 30/30\n",
      "196/196 [==============================] - 11s 54ms/step - loss: 75.3298 - reconstruction_loss: 74.7336 - kl_loss: 0.5962\n"
     ]
    },
    {
     "data": {
      "text/plain": [
       "<tensorflow.python.keras.callbacks.History at 0x7f77a57df160>"
      ]
     },
     "execution_count": 15,
     "metadata": {},
     "output_type": "execute_result"
    }
   ],
   "source": [
    "vae.fit(X_train, epochs=30, batch_size=128)"
   ]
  },
  {
   "cell_type": "code",
   "execution_count": 16,
   "metadata": {
    "ExecuteTime": {
     "end_time": "2020-08-22T17:13:47.542655Z",
     "start_time": "2020-08-22T17:13:43.410784Z"
    }
   },
   "outputs": [],
   "source": [
    "z = vae.encoder.predict(X_train)[0]"
   ]
  },
  {
   "cell_type": "markdown",
   "metadata": {},
   "source": [
    "### Plot model output"
   ]
  },
  {
   "cell_type": "code",
   "execution_count": 17,
   "metadata": {
    "ExecuteTime": {
     "end_time": "2020-08-22T17:13:47.579397Z",
     "start_time": "2020-08-22T17:13:47.544291Z"
    }
   },
   "outputs": [
    {
     "data": {
      "text/plain": [
       "array([14, 11, 11, ...,  6,  0,  0])"
      ]
     },
     "execution_count": 17,
     "metadata": {},
     "output_type": "execute_result"
    }
   ],
   "source": [
    "Y_train"
   ]
  },
  {
   "cell_type": "code",
   "execution_count": 18,
   "metadata": {
    "ExecuteTime": {
     "end_time": "2020-08-22T17:13:48.366261Z",
     "start_time": "2020-08-22T17:13:47.580569Z"
    }
   },
   "outputs": [
    {
     "data": {
      "image/png": "[encoded data removed]",
      "text/plain": [
       "<Figure size 576x576 with 2 Axes>"
      ]
     },
     "metadata": {
      "needs_background": "light"
     },
     "output_type": "display_data"
    }
   ],
   "source": [
    "fig, ax = plt.subplots( figsize=(8, 8))\n",
    "sc = ax.scatter(\n",
    "    z[:, 0],\n",
    "    z[:, 1],\n",
    "    c=Y_train.astype(int)[:len(z)].flatten(),\n",
    "    cmap=\"tab10\",\n",
    "    s=0.1,\n",
    "    alpha=0.5,\n",
    "    rasterized=True,\n",
    ")\n",
    "ax.axis('equal')\n",
    "ax.set_title(\"UMAP in Tensorflow embedding\", fontsize=20)\n",
    "plt.colorbar(sc, ax=ax);"
   ]
  },
  {
   "cell_type": "markdown",
   "metadata": {},
   "source": [
    "### View loss"
   ]
  },
  {
   "cell_type": "code",
   "execution_count": 19,
   "metadata": {
    "ExecuteTime": {
     "end_time": "2020-08-22T17:13:48.606335Z",
     "start_time": "2020-08-22T17:13:48.368071Z"
    }
   },
   "outputs": [],
   "source": [
    "from tfumap.umap import retrieve_tensors\n",
    "import seaborn as sns"
   ]
  },
  {
   "cell_type": "markdown",
   "metadata": {},
   "source": [
    "### Save output"
   ]
  },
  {
   "cell_type": "code",
   "execution_count": 20,
   "metadata": {
    "ExecuteTime": {
     "end_time": "2020-08-22T17:13:48.643006Z",
     "start_time": "2020-08-22T17:13:48.607465Z"
    }
   },
   "outputs": [],
   "source": [
    "dataset = \"cassins_dtw\""
   ]
  },
  {
   "cell_type": "code",
   "execution_count": 21,
   "metadata": {
    "ExecuteTime": {
     "end_time": "2020-08-22T17:13:48.674341Z",
     "start_time": "2020-08-22T17:13:48.644042Z"
    }
   },
   "outputs": [],
   "source": [
    "from tfumap.paths import ensure_dir, MODEL_DIR"
   ]
  },
  {
   "cell_type": "code",
   "execution_count": 22,
   "metadata": {
    "ExecuteTime": {
     "end_time": "2020-08-22T17:13:48.742674Z",
     "start_time": "2020-08-22T17:13:48.675568Z"
    }
   },
   "outputs": [],
   "source": [
    "output_dir = MODEL_DIR/'projections'/ dataset /  '64'/ 'vae'\n",
    "ensure_dir(output_dir)"
   ]
  },
  {
   "cell_type": "code",
   "execution_count": 23,
   "metadata": {
    "ExecuteTime": {
     "end_time": "2020-08-22T17:13:48.772921Z",
     "start_time": "2020-08-22T17:13:48.743639Z"
    }
   },
   "outputs": [],
   "source": [
    "#vae.save(output_dir)"
   ]
  },
  {
   "cell_type": "code",
   "execution_count": 24,
   "metadata": {
    "ExecuteTime": {
     "end_time": "2020-08-22T17:13:52.314915Z",
     "start_time": "2020-08-22T17:13:48.775797Z"
    }
   },
   "outputs": [
    {
     "name": "stderr",
     "output_type": "stream",
     "text": [
      "W0822 10:13:49.997952 140156596483904 deprecation.py:323] From /mnt/cube/tsainbur/conda_envs/tpy3/lib/python3.6/site-packages/tensorflow/python/training/tracking/tracking.py:111: Model.state_updates (from tensorflow.python.keras.engine.training) is deprecated and will be removed in a future version.\n",
      "Instructions for updating:\n",
      "This property should not be used in TensorFlow 2.0, as updates are applied automatically.\n",
      "W0822 10:13:50.012688 140156596483904 deprecation.py:323] From /mnt/cube/tsainbur/conda_envs/tpy3/lib/python3.6/site-packages/tensorflow/python/training/tracking/tracking.py:111: Layer.updates (from tensorflow.python.keras.engine.base_layer) is deprecated and will be removed in a future version.\n",
      "Instructions for updating:\n",
      "This property should not be used in TensorFlow 2.0, as updates are applied automatically.\n",
      "I0822 10:13:52.162152 140156596483904 builder_impl.py:775] Assets written to: /mnt/cube/tsainbur/Projects/github_repos/umap_tf_networks/models/projections/cassins_dtw/64/vae/encoder/assets\n"
     ]
    }
   ],
   "source": [
    "vae.encoder.save(output_dir / 'encoder')"
   ]
  },
  {
   "cell_type": "code",
   "execution_count": 25,
   "metadata": {
    "ExecuteTime": {
     "end_time": "2020-08-22T17:13:56.487544Z",
     "start_time": "2020-08-22T17:13:52.317564Z"
    }
   },
   "outputs": [
    {
     "name": "stderr",
     "output_type": "stream",
     "text": [
      "I0822 10:13:56.333064 140156596483904 builder_impl.py:775] Assets written to: /mnt/cube/tsainbur/Projects/github_repos/umap_tf_networks/models/projections/cassins_dtw/64/vae/encoder/assets\n"
     ]
    }
   ],
   "source": [
    "vae.decoder.save(output_dir / 'encoder')"
   ]
  },
  {
   "cell_type": "code",
   "execution_count": 26,
   "metadata": {
    "ExecuteTime": {
     "end_time": "2020-08-22T17:13:56.524838Z",
     "start_time": "2020-08-22T17:13:56.490404Z"
    }
   },
   "outputs": [],
   "source": [
    "#loss_df.to_pickle(output_dir / 'loss_df.pickle')"
   ]
  },
  {
   "cell_type": "code",
   "execution_count": 27,
   "metadata": {
    "ExecuteTime": {
     "end_time": "2020-08-22T17:13:56.587166Z",
     "start_time": "2020-08-22T17:13:56.526825Z"
    }
   },
   "outputs": [],
   "source": [
    "np.save(output_dir / 'z.npy', z)"
   ]
  },
  {
   "cell_type": "markdown",
   "metadata": {},
   "source": [
    "### compute metrics "
   ]
  },
  {
   "cell_type": "code",
   "execution_count": 28,
   "metadata": {
    "ExecuteTime": {
     "end_time": "2020-08-22T17:13:56.628609Z",
     "start_time": "2020-08-22T17:13:56.590147Z"
    }
   },
   "outputs": [
    {
     "data": {
      "text/plain": [
       "(1000, 32, 32)"
      ]
     },
     "execution_count": 28,
     "metadata": {},
     "output_type": "execute_result"
    }
   ],
   "source": [
    "X_test.shape"
   ]
  },
  {
   "cell_type": "code",
   "execution_count": 29,
   "metadata": {
    "ExecuteTime": {
     "end_time": "2020-08-22T17:13:56.854545Z",
     "start_time": "2020-08-22T17:13:56.630063Z"
    }
   },
   "outputs": [],
   "source": [
    "z_test = encoder.predict(X_test.reshape((len(X_test), 32,32,1)))[0]"
   ]
  },
  {
   "cell_type": "markdown",
   "metadata": {},
   "source": [
    "#### silhouette"
   ]
  },
  {
   "cell_type": "code",
   "execution_count": 30,
   "metadata": {
    "ExecuteTime": {
     "end_time": "2020-08-22T17:13:56.904910Z",
     "start_time": "2020-08-22T17:13:56.857168Z"
    }
   },
   "outputs": [],
   "source": [
    "from tfumap.silhouette import silhouette_score_block"
   ]
  },
  {
   "cell_type": "code",
   "execution_count": 31,
   "metadata": {
    "ExecuteTime": {
     "end_time": "2020-08-22T17:14:02.365720Z",
     "start_time": "2020-08-22T17:13:56.907288Z"
    }
   },
   "outputs": [
    {
     "data": {
      "text/plain": [
       "0.15833879286782773"
      ]
     },
     "execution_count": 31,
     "metadata": {},
     "output_type": "execute_result"
    }
   ],
   "source": [
    "ss, sil_samp = silhouette_score_block(z, Y_train, n_jobs = -1)\n",
    "ss"
   ]
  },
  {
   "cell_type": "code",
   "execution_count": 32,
   "metadata": {
    "ExecuteTime": {
     "end_time": "2020-08-22T17:14:02.616272Z",
     "start_time": "2020-08-22T17:14:02.367722Z"
    }
   },
   "outputs": [
    {
     "data": {
      "text/plain": [
       "0.22506680453932565"
      ]
     },
     "execution_count": 32,
     "metadata": {},
     "output_type": "execute_result"
    }
   ],
   "source": [
    "ss_test, sil_samp_test = silhouette_score_block(z_test, Y_test, n_jobs = -1)\n",
    "ss_test"
   ]
  },
  {
   "cell_type": "code",
   "execution_count": 33,
   "metadata": {
    "ExecuteTime": {
     "end_time": "2020-08-22T17:14:03.408838Z",
     "start_time": "2020-08-22T17:14:02.618205Z"
    }
   },
   "outputs": [
    {
     "data": {
      "text/plain": [
       "<matplotlib.collections.PathCollection at 0x7f77a067d2e8>"
      ]
     },
     "execution_count": 33,
     "metadata": {},
     "output_type": "execute_result"
    },
    {
     "data": {
      "image/png": "[encoded data removed]",
      "text/plain": [
       "<Figure size 720x360 with 2 Axes>"
      ]
     },
     "metadata": {
      "needs_background": "light"
     },
     "output_type": "display_data"
    }
   ],
   "source": [
    "fig, axs = plt.subplots(ncols = 2, figsize=(10, 5))\n",
    "axs[0].scatter(z[:, 0], z[:, 1], s=0.1, alpha=0.5, c=sil_samp, cmap=plt.cm.viridis)\n",
    "axs[1].scatter(z_test[:, 0], z_test[:, 1], s=1, alpha=0.5, c=sil_samp_test, cmap=plt.cm.viridis)"
   ]
  },
  {
   "cell_type": "markdown",
   "metadata": {},
   "source": [
    "#### KNN"
   ]
  },
  {
   "cell_type": "code",
   "execution_count": 34,
   "metadata": {
    "ExecuteTime": {
     "end_time": "2020-08-22T17:14:03.450783Z",
     "start_time": "2020-08-22T17:14:03.410365Z"
    }
   },
   "outputs": [],
   "source": [
    "from sklearn.neighbors import KNeighborsClassifier"
   ]
  },
  {
   "cell_type": "code",
   "execution_count": 35,
   "metadata": {
    "ExecuteTime": {
     "end_time": "2020-08-22T17:14:03.484732Z",
     "start_time": "2020-08-22T17:14:03.452919Z"
    }
   },
   "outputs": [
    {
     "data": {
      "text/plain": [
       "array([[-0.04244103,  0.05020817,  0.03919956, ...,  1.2407975 ,\n",
       "         0.03620336,  0.04856126],\n",
       "       [ 0.09443478, -0.11061835, -0.05397689, ..., -0.2163135 ,\n",
       "         0.00457929, -0.3634016 ],\n",
       "       [ 0.02341519,  0.0124176 ,  0.01211085, ..., -0.07058898,\n",
       "         0.0259145 , -0.18067323],\n",
       "       ...,\n",
       "       [ 0.0919086 ,  0.02771177, -0.03741535, ..., -0.1334303 ,\n",
       "        -0.1217416 ,  0.14443208],\n",
       "       [ 0.02607518, -0.01759579,  0.01393413, ...,  0.70366824,\n",
       "        -0.01251261,  0.00551696],\n",
       "       [-0.00598954, -0.09738456, -0.01983831, ...,  0.98287433,\n",
       "        -0.0150048 , -0.08635031]], dtype=float32)"
      ]
     },
     "execution_count": 35,
     "metadata": {},
     "output_type": "execute_result"
    }
   ],
   "source": [
    "z"
   ]
  },
  {
   "cell_type": "code",
   "execution_count": 36,
   "metadata": {
    "ExecuteTime": {
     "end_time": "2020-08-22T17:14:03.517621Z",
     "start_time": "2020-08-22T17:14:03.485967Z"
    }
   },
   "outputs": [
    {
     "data": {
      "text/plain": [
       "array([[-1.5856870e-02, -1.1571610e-01,  1.0721872e-03, ...,\n",
       "        -5.4440320e-01, -4.1967232e-02, -6.3511394e-03],\n",
       "       [-4.5025375e-02, -1.1397982e-01, -5.6286372e-02, ...,\n",
       "        -1.3217559e-01,  4.8730027e-02, -1.3319965e-02],\n",
       "       [ 2.8760530e-02,  2.0176802e-02,  7.4132442e-02, ...,\n",
       "        -8.9482534e-01,  6.1956700e-02,  1.2178561e-01],\n",
       "       ...,\n",
       "       [ 7.5081579e-02,  5.9062157e-02, -2.2164993e-02, ...,\n",
       "        -1.6333728e-01, -1.0236453e-02,  9.4093382e-02],\n",
       "       [-3.8045570e-03, -2.6824441e-02,  4.3822143e-02, ...,\n",
       "         6.8491012e-01,  1.6883630e-02, -3.0810192e-02],\n",
       "       [ 9.6976347e-02, -2.1178933e-02, -3.1293940e-02, ...,\n",
       "        -1.2630982e+00, -2.6226986e-02, -4.5030657e-02]], dtype=float32)"
      ]
     },
     "execution_count": 36,
     "metadata": {},
     "output_type": "execute_result"
    }
   ],
   "source": [
    "z_test"
   ]
  },
  {
   "cell_type": "code",
   "execution_count": 37,
   "metadata": {
    "ExecuteTime": {
     "end_time": "2020-08-22T17:14:03.556844Z",
     "start_time": "2020-08-22T17:14:03.518961Z"
    }
   },
   "outputs": [
    {
     "data": {
      "text/plain": [
       "array([14, 11, 11, ...,  6,  0,  0])"
      ]
     },
     "execution_count": 37,
     "metadata": {},
     "output_type": "execute_result"
    }
   ],
   "source": [
    "Y_train"
   ]
  },
  {
   "cell_type": "code",
   "execution_count": 38,
   "metadata": {
    "ExecuteTime": {
     "end_time": "2020-08-22T17:14:04.772202Z",
     "start_time": "2020-08-22T17:14:03.558581Z"
    }
   },
   "outputs": [
    {
     "data": {
      "text/plain": [
       "0.988"
      ]
     },
     "execution_count": 38,
     "metadata": {},
     "output_type": "execute_result"
    }
   ],
   "source": [
    "neigh5 = KNeighborsClassifier(n_neighbors=5)\n",
    "neigh5.fit(z, Y_train)\n",
    "score_5nn = neigh5.score(z_test, Y_test)\n",
    "score_5nn"
   ]
  },
  {
   "cell_type": "code",
   "execution_count": 39,
   "metadata": {
    "ExecuteTime": {
     "end_time": "2020-08-22T17:14:05.665352Z",
     "start_time": "2020-08-22T17:14:04.774503Z"
    }
   },
   "outputs": [
    {
     "data": {
      "text/plain": [
       "0.98"
      ]
     },
     "execution_count": 39,
     "metadata": {},
     "output_type": "execute_result"
    }
   ],
   "source": [
    "neigh1 = KNeighborsClassifier(n_neighbors=1)\n",
    "neigh1.fit(z, Y_train)\n",
    "score_1nn = neigh1.score(z_test, Y_test)\n",
    "score_1nn"
   ]
  },
  {
   "cell_type": "markdown",
   "metadata": {},
   "source": [
    "#### Trustworthiness"
   ]
  },
  {
   "cell_type": "code",
   "execution_count": 40,
   "metadata": {
    "ExecuteTime": {
     "end_time": "2020-08-22T17:14:05.704491Z",
     "start_time": "2020-08-22T17:14:05.667403Z"
    }
   },
   "outputs": [],
   "source": [
    "from sklearn.manifold import trustworthiness"
   ]
  },
  {
   "cell_type": "code",
   "execution_count": 41,
   "metadata": {
    "ExecuteTime": {
     "end_time": "2020-08-22T17:14:20.812279Z",
     "start_time": "2020-08-22T17:14:05.706201Z"
    }
   },
   "outputs": [],
   "source": [
    "tw = trustworthiness(X_train_flat[:10000], z[:10000])"
   ]
  },
  {
   "cell_type": "code",
   "execution_count": 42,
   "metadata": {
    "ExecuteTime": {
     "end_time": "2020-08-22T17:14:22.661452Z",
     "start_time": "2020-08-22T17:14:20.814649Z"
    }
   },
   "outputs": [],
   "source": [
    "tw_test = trustworthiness(X_test_flat[:10000], z_test[:10000])"
   ]
  },
  {
   "cell_type": "code",
   "execution_count": 43,
   "metadata": {
    "ExecuteTime": {
     "end_time": "2020-08-22T17:14:22.709933Z",
     "start_time": "2020-08-22T17:14:22.664400Z"
    }
   },
   "outputs": [
    {
     "data": {
      "text/plain": [
       "(0.9948842894315453, 0.990220564516129)"
      ]
     },
     "execution_count": 43,
     "metadata": {},
     "output_type": "execute_result"
    }
   ],
   "source": [
    "tw, tw_test"
   ]
  },
  {
   "cell_type": "markdown",
   "metadata": {},
   "source": [
    "### Save output metrics"
   ]
  },
  {
   "cell_type": "code",
   "execution_count": 44,
   "metadata": {
    "ExecuteTime": {
     "end_time": "2020-08-22T17:14:22.755030Z",
     "start_time": "2020-08-22T17:14:22.711368Z"
    }
   },
   "outputs": [],
   "source": [
    "from tfumap.paths import ensure_dir, MODEL_DIR, DATA_DIR"
   ]
  },
  {
   "cell_type": "markdown",
   "metadata": {},
   "source": [
    "#### train"
   ]
  },
  {
   "cell_type": "code",
   "execution_count": 45,
   "metadata": {
    "ExecuteTime": {
     "end_time": "2020-08-22T17:14:22.812038Z",
     "start_time": "2020-08-22T17:14:22.756505Z"
    }
   },
   "outputs": [
    {
     "data": {
      "text/html": [
       "<div>\n",
       "<style scoped>\n",
       "    .dataframe tbody tr th:only-of-type {\n",
       "        vertical-align: middle;\n",
       "    }\n",
       "\n",
       "    .dataframe tbody tr th {\n",
       "        vertical-align: top;\n",
       "    }\n",
       "\n",
       "    .dataframe thead th {\n",
       "        text-align: right;\n",
       "    }\n",
       "</style>\n",
       "<table border=\"1\" class=\"dataframe\">\n",
       "  <thead>\n",
       "    <tr style=\"text-align: right;\">\n",
       "      <th></th>\n",
       "      <th>dataset</th>\n",
       "      <th>class_</th>\n",
       "      <th>dim</th>\n",
       "      <th>trustworthiness</th>\n",
       "      <th>silhouette_score</th>\n",
       "      <th>silhouette_samples</th>\n",
       "    </tr>\n",
       "  </thead>\n",
       "  <tbody>\n",
       "    <tr>\n",
       "      <th>0</th>\n",
       "      <td>cassins_dtw</td>\n",
       "      <td>vae</td>\n",
       "      <td>64</td>\n",
       "      <td>0.994884</td>\n",
       "      <td>0.158339</td>\n",
       "      <td>[0.31641692934195603, 0.11196094985030139, 0.1...</td>\n",
       "    </tr>\n",
       "  </tbody>\n",
       "</table>\n",
       "</div>"
      ],
      "text/plain": [
       "       dataset class_ dim  trustworthiness  silhouette_score  \\\n",
       "0  cassins_dtw    vae  64         0.994884          0.158339   \n",
       "\n",
       "                                  silhouette_samples  \n",
       "0  [0.31641692934195603, 0.11196094985030139, 0.1...  "
      ]
     },
     "execution_count": 45,
     "metadata": {},
     "output_type": "execute_result"
    }
   ],
   "source": [
    "metrics_df = pd.DataFrame(\n",
    "    columns=[\n",
    "        \"dataset\",\n",
    "        \"class_\",\n",
    "        \"dim\",\n",
    "        \"trustworthiness\",\n",
    "        \"silhouette_score\",\n",
    "        \"silhouette_samples\",\n",
    "    ]\n",
    ")\n",
    "metrics_df.loc[len(metrics_df)] = [dataset, 'vae', n_components, tw, ss, sil_samp]\n",
    "metrics_df"
   ]
  },
  {
   "cell_type": "code",
   "execution_count": 46,
   "metadata": {
    "ExecuteTime": {
     "end_time": "2020-08-22T17:14:22.893634Z",
     "start_time": "2020-08-22T17:14:22.813818Z"
    }
   },
   "outputs": [
    {
     "data": {
      "text/plain": [
       "PosixPath('/mnt/cube/tsainbur/Projects/github_repos/umap_tf_networks/data/projection_metrics/vae/train/64/cassins_dtw.pickle')"
      ]
     },
     "execution_count": 46,
     "metadata": {},
     "output_type": "execute_result"
    }
   ],
   "source": [
    "save_loc = DATA_DIR / 'projection_metrics' /  'vae' / 'train' / str(n_components) / (dataset + '.pickle')\n",
    "ensure_dir(save_loc)\n",
    "metrics_df.to_pickle(save_loc)\n",
    "save_loc"
   ]
  },
  {
   "cell_type": "markdown",
   "metadata": {},
   "source": [
    "#### test"
   ]
  },
  {
   "cell_type": "code",
   "execution_count": 47,
   "metadata": {
    "ExecuteTime": {
     "end_time": "2020-08-22T17:14:22.947254Z",
     "start_time": "2020-08-22T17:14:22.895544Z"
    }
   },
   "outputs": [
    {
     "data": {
      "text/html": [
       "<div>\n",
       "<style scoped>\n",
       "    .dataframe tbody tr th:only-of-type {\n",
       "        vertical-align: middle;\n",
       "    }\n",
       "\n",
       "    .dataframe tbody tr th {\n",
       "        vertical-align: top;\n",
       "    }\n",
       "\n",
       "    .dataframe thead th {\n",
       "        text-align: right;\n",
       "    }\n",
       "</style>\n",
       "<table border=\"1\" class=\"dataframe\">\n",
       "  <thead>\n",
       "    <tr style=\"text-align: right;\">\n",
       "      <th></th>\n",
       "      <th>dataset</th>\n",
       "      <th>class_</th>\n",
       "      <th>dim</th>\n",
       "      <th>trustworthiness</th>\n",
       "      <th>silhouette_score</th>\n",
       "      <th>silhouette_samples</th>\n",
       "    </tr>\n",
       "  </thead>\n",
       "  <tbody>\n",
       "    <tr>\n",
       "      <th>1</th>\n",
       "      <td>cassins_dtw</td>\n",
       "      <td>vae</td>\n",
       "      <td>64</td>\n",
       "      <td>0.990221</td>\n",
       "      <td>0.225067</td>\n",
       "      <td>[0.20978888806866355, 0.31581369453809977, 0.3...</td>\n",
       "    </tr>\n",
       "  </tbody>\n",
       "</table>\n",
       "</div>"
      ],
      "text/plain": [
       "       dataset class_ dim  trustworthiness  silhouette_score  \\\n",
       "1  cassins_dtw    vae  64         0.990221          0.225067   \n",
       "\n",
       "                                  silhouette_samples  \n",
       "1  [0.20978888806866355, 0.31581369453809977, 0.3...  "
      ]
     },
     "execution_count": 47,
     "metadata": {},
     "output_type": "execute_result"
    }
   ],
   "source": [
    "metrics_df_test = pd.DataFrame(\n",
    "    columns=[\n",
    "        \"dataset\",\n",
    "        \"class_\",\n",
    "        \"dim\",\n",
    "        \"trustworthiness\",\n",
    "        \"silhouette_score\",\n",
    "        \"silhouette_samples\",\n",
    "    ]\n",
    ")\n",
    "metrics_df_test.loc[len(metrics_df)] = [dataset, 'vae', n_components, tw_test, ss_test, sil_samp_test]\n",
    "metrics_df_test"
   ]
  },
  {
   "cell_type": "code",
   "execution_count": 48,
   "metadata": {
    "ExecuteTime": {
     "end_time": "2020-08-22T17:14:22.996025Z",
     "start_time": "2020-08-22T17:14:22.948859Z"
    }
   },
   "outputs": [],
   "source": [
    "save_loc = DATA_DIR / 'projection_metrics' / 'vae' / 'test' / str(n_components) / (dataset + '.pickle')\n",
    "ensure_dir(save_loc)\n",
    "metrics_df.to_pickle(save_loc)"
   ]
  },
  {
   "cell_type": "markdown",
   "metadata": {},
   "source": [
    "#### knn "
   ]
  },
  {
   "cell_type": "code",
   "execution_count": 49,
   "metadata": {
    "ExecuteTime": {
     "end_time": "2020-08-22T17:14:23.048378Z",
     "start_time": "2020-08-22T17:14:22.998444Z"
    }
   },
   "outputs": [
    {
     "data": {
      "text/html": [
       "<div>\n",
       "<style scoped>\n",
       "    .dataframe tbody tr th:only-of-type {\n",
       "        vertical-align: middle;\n",
       "    }\n",
       "\n",
       "    .dataframe tbody tr th {\n",
       "        vertical-align: top;\n",
       "    }\n",
       "\n",
       "    .dataframe thead th {\n",
       "        text-align: right;\n",
       "    }\n",
       "</style>\n",
       "<table border=\"1\" class=\"dataframe\">\n",
       "  <thead>\n",
       "    <tr style=\"text-align: right;\">\n",
       "      <th></th>\n",
       "      <th>method_</th>\n",
       "      <th>dimensions</th>\n",
       "      <th>dataset</th>\n",
       "      <th>1NN_acc</th>\n",
       "      <th>5NN_acc</th>\n",
       "    </tr>\n",
       "  </thead>\n",
       "  <tbody>\n",
       "    <tr>\n",
       "      <th>0</th>\n",
       "      <td>vae</td>\n",
       "      <td>64</td>\n",
       "      <td>cassins_dtw</td>\n",
       "      <td>0.98</td>\n",
       "      <td>0.988</td>\n",
       "    </tr>\n",
       "  </tbody>\n",
       "</table>\n",
       "</div>"
      ],
      "text/plain": [
       "  method_ dimensions      dataset  1NN_acc  5NN_acc\n",
       "0     vae         64  cassins_dtw     0.98    0.988"
      ]
     },
     "execution_count": 49,
     "metadata": {},
     "output_type": "execute_result"
    }
   ],
   "source": [
    "nn_acc_df = pd.DataFrame(columns = [\"method_\",\"dimensions\",\"dataset\",\"1NN_acc\",\"5NN_acc\"])\n",
    "nn_acc_df.loc[len(nn_acc_df)] = ['vae', n_components, dataset,  score_1nn, score_5nn]\n",
    "nn_acc_df"
   ]
  },
  {
   "cell_type": "code",
   "execution_count": 50,
   "metadata": {
    "ExecuteTime": {
     "end_time": "2020-08-22T17:14:23.119076Z",
     "start_time": "2020-08-22T17:14:23.050444Z"
    }
   },
   "outputs": [],
   "source": [
    "save_loc = DATA_DIR / 'knn_classifier' / 'vae' / 'train' / str(n_components) / (dataset + '.pickle')\n",
    "ensure_dir(save_loc)\n",
    "nn_acc_df.to_pickle(save_loc)"
   ]
  },
  {
   "cell_type": "markdown",
   "metadata": {},
   "source": [
    "### Reconstruction"
   ]
  },
  {
   "cell_type": "code",
   "execution_count": 51,
   "metadata": {
    "ExecuteTime": {
     "end_time": "2020-08-22T17:14:23.155979Z",
     "start_time": "2020-08-22T17:14:23.120666Z"
    }
   },
   "outputs": [],
   "source": [
    "from sklearn.metrics import mean_squared_error, mean_absolute_error, median_absolute_error, r2_score"
   ]
  },
  {
   "cell_type": "code",
   "execution_count": 52,
   "metadata": {
    "ExecuteTime": {
     "end_time": "2020-08-22T17:14:23.878099Z",
     "start_time": "2020-08-22T17:14:23.157287Z"
    }
   },
   "outputs": [],
   "source": [
    "X_recon = vae.decoder.predict(vae.encoder.predict(X_test.reshape((len(X_test), 32, 32, 1)))[0])\n",
    "X_real = X_test.reshape((len(X_test), 32, 32, 1))"
   ]
  },
  {
   "cell_type": "code",
   "execution_count": 53,
   "metadata": {
    "ExecuteTime": {
     "end_time": "2020-08-22T17:14:23.923747Z",
     "start_time": "2020-08-22T17:14:23.880813Z"
    }
   },
   "outputs": [],
   "source": [
    "x_real = X_test.reshape((len(X_test), np.product(np.shape(X_test)[1:])))\n",
    "x_recon = X_recon.reshape((len(X_test), np.product(np.shape(X_test)[1:])))"
   ]
  },
  {
   "cell_type": "code",
   "execution_count": 54,
   "metadata": {
    "ExecuteTime": {
     "end_time": "2020-08-22T17:14:23.959166Z",
     "start_time": "2020-08-22T17:14:23.925260Z"
    }
   },
   "outputs": [],
   "source": [
    "reconstruction_acc_df = pd.DataFrame(\n",
    "    columns=[\"method_\", \"dimensions\", \"dataset\", \"MSE\", \"MAE\", \"MedAE\", \"R2\"]\n",
    ")"
   ]
  },
  {
   "cell_type": "code",
   "execution_count": 55,
   "metadata": {
    "ExecuteTime": {
     "end_time": "2020-08-22T17:14:24.064357Z",
     "start_time": "2020-08-22T17:14:23.960629Z"
    }
   },
   "outputs": [
    {
     "data": {
      "text/html": [
       "<div>\n",
       "<style scoped>\n",
       "    .dataframe tbody tr th:only-of-type {\n",
       "        vertical-align: middle;\n",
       "    }\n",
       "\n",
       "    .dataframe tbody tr th {\n",
       "        vertical-align: top;\n",
       "    }\n",
       "\n",
       "    .dataframe thead th {\n",
       "        text-align: right;\n",
       "    }\n",
       "</style>\n",
       "<table border=\"1\" class=\"dataframe\">\n",
       "  <thead>\n",
       "    <tr style=\"text-align: right;\">\n",
       "      <th></th>\n",
       "      <th>method_</th>\n",
       "      <th>dimensions</th>\n",
       "      <th>dataset</th>\n",
       "      <th>MSE</th>\n",
       "      <th>MAE</th>\n",
       "      <th>MedAE</th>\n",
       "      <th>R2</th>\n",
       "    </tr>\n",
       "  </thead>\n",
       "  <tbody>\n",
       "    <tr>\n",
       "      <th>0</th>\n",
       "      <td>vae</td>\n",
       "      <td>64</td>\n",
       "      <td>cassins_dtw</td>\n",
       "      <td>0.001331</td>\n",
       "      <td>0.012782</td>\n",
       "      <td>0.006875</td>\n",
       "      <td>-9389.089214</td>\n",
       "    </tr>\n",
       "  </tbody>\n",
       "</table>\n",
       "</div>"
      ],
      "text/plain": [
       "  method_ dimensions      dataset       MSE       MAE     MedAE           R2\n",
       "0     vae         64  cassins_dtw  0.001331  0.012782  0.006875 -9389.089214"
      ]
     },
     "execution_count": 55,
     "metadata": {},
     "output_type": "execute_result"
    }
   ],
   "source": [
    "MSE = mean_squared_error(\n",
    "    x_real, \n",
    "    x_recon\n",
    ")\n",
    "MAE = mean_absolute_error(\n",
    "    x_real, \n",
    "    x_recon\n",
    ")\n",
    "MedAE = median_absolute_error(\n",
    "    x_real, \n",
    "    x_recon\n",
    ")\n",
    "R2 = r2_score(\n",
    "    x_real, \n",
    "    x_recon\n",
    ")\n",
    "\n",
    "reconstruction_acc_df.loc[len(reconstruction_acc_df)] = ['vae', 64, dataset, MSE, MAE, MedAE, R2]\n",
    "reconstruction_acc_df"
   ]
  },
  {
   "cell_type": "code",
   "execution_count": 56,
   "metadata": {
    "ExecuteTime": {
     "end_time": "2020-08-22T17:14:24.113130Z",
     "start_time": "2020-08-22T17:14:24.066807Z"
    }
   },
   "outputs": [],
   "source": [
    "save_loc = DATA_DIR / 'reconstruction_acc' / 'vae' / str(n_components) / (dataset + '.pickle')\n",
    "ensure_dir(save_loc)\n",
    "reconstruction_acc_df.to_pickle(save_loc)"
   ]
  },
  {
   "cell_type": "markdown",
   "metadata": {},
   "source": [
    "### Compute clustering quality"
   ]
  },
  {
   "cell_type": "code",
   "execution_count": 57,
   "metadata": {
    "ExecuteTime": {
     "end_time": "2020-08-22T17:14:24.187717Z",
     "start_time": "2020-08-22T17:14:24.114846Z"
    }
   },
   "outputs": [],
   "source": [
    "from sklearn.cluster import KMeans\n",
    "from sklearn.metrics import homogeneity_completeness_v_measure"
   ]
  },
  {
   "cell_type": "code",
   "execution_count": 58,
   "metadata": {
    "ExecuteTime": {
     "end_time": "2020-08-22T17:14:24.236870Z",
     "start_time": "2020-08-22T17:14:24.189981Z"
    }
   },
   "outputs": [],
   "source": [
    "def get_cluster_metrics(row, n_init=5):\n",
    "    \n",
    "    # load cluster information\n",
    "    save_loc = DATA_DIR / 'clustering_metric_df'/ ('_'.join([row.class_, str(row.dim), row.dataset]) + '.pickle')\n",
    "    print(save_loc)\n",
    "    #if save_loc.exists() and save_loc.is_file():\n",
    "    #    \n",
    "    #    cluster_df = pd.read_pickle(save_loc)\n",
    "    #    return cluster_df\n",
    "    \n",
    "    # make cluster metric dataframe\n",
    "    cluster_df = pd.DataFrame(\n",
    "        columns=[\n",
    "            \"dataset\",\n",
    "            \"class_\",\n",
    "            \"dim\",\n",
    "            \"silhouette\",\n",
    "            \"homogeneity\",\n",
    "            \"completeness\",\n",
    "            \"v_measure\",\n",
    "            \"init_\",\n",
    "            \"n_clusters\",\n",
    "            \"model\",\n",
    "        ]\n",
    "    )\n",
    "    y = row.train_label\n",
    "    z = row.train_z\n",
    "    n_labels = len(np.unique(y))\n",
    "    for n_clusters in tqdm(np.arange(n_labels - int(n_labels / 2), n_labels + int(n_labels / 2)), leave=False, desc = 'n_clusters'):\n",
    "        for init_ in tqdm(range(n_init), leave=False, desc='init'):\n",
    "            kmeans = KMeans(n_clusters=n_clusters, random_state=init_).fit(z)\n",
    "            clustered_y = kmeans.labels_\n",
    "            homogeneity, completeness, v_measure = homogeneity_completeness_v_measure(\n",
    "                y, clustered_y\n",
    "            )\n",
    "            ss, _ = silhouette_score_block(z, clustered_y)\n",
    "            cluster_df.loc[len(cluster_df)] = [\n",
    "                row.dataset,\n",
    "                row.class_,\n",
    "                row.dim,\n",
    "                ss,\n",
    "                homogeneity,\n",
    "                completeness,\n",
    "                v_measure,\n",
    "                init_,\n",
    "                n_clusters,\n",
    "                kmeans,\n",
    "            ]\n",
    "    \n",
    "     # save cluster df in case this fails somewhere\n",
    "    ensure_dir(save_loc)\n",
    "    cluster_df.to_pickle(save_loc)\n",
    "    return cluster_df"
   ]
  },
  {
   "cell_type": "code",
   "execution_count": 59,
   "metadata": {
    "ExecuteTime": {
     "end_time": "2020-08-22T17:14:24.346031Z",
     "start_time": "2020-08-22T17:14:24.238181Z"
    }
   },
   "outputs": [
    {
     "data": {
      "text/html": [
       "<div>\n",
       "<style scoped>\n",
       "    .dataframe tbody tr th:only-of-type {\n",
       "        vertical-align: middle;\n",
       "    }\n",
       "\n",
       "    .dataframe tbody tr th {\n",
       "        vertical-align: top;\n",
       "    }\n",
       "\n",
       "    .dataframe thead th {\n",
       "        text-align: right;\n",
       "    }\n",
       "</style>\n",
       "<table border=\"1\" class=\"dataframe\">\n",
       "  <thead>\n",
       "    <tr style=\"text-align: right;\">\n",
       "      <th></th>\n",
       "      <th>dataset</th>\n",
       "      <th>class_</th>\n",
       "      <th>train_z</th>\n",
       "      <th>train_label</th>\n",
       "      <th>dim</th>\n",
       "    </tr>\n",
       "  </thead>\n",
       "  <tbody>\n",
       "    <tr>\n",
       "      <th>0</th>\n",
       "      <td>cassins_dtw</td>\n",
       "      <td>vae</td>\n",
       "      <td>[[-0.042441033, 0.05020817, 0.039199565, 0.040...</td>\n",
       "      <td>[14, 11, 11, 11, 11, 11, 11, 11, 11, 17, 0, 0,...</td>\n",
       "      <td>64</td>\n",
       "    </tr>\n",
       "  </tbody>\n",
       "</table>\n",
       "</div>"
      ],
      "text/plain": [
       "       dataset class_                                            train_z  \\\n",
       "0  cassins_dtw    vae  [[-0.042441033, 0.05020817, 0.039199565, 0.040...   \n",
       "\n",
       "                                         train_label dim  \n",
       "0  [14, 11, 11, 11, 11, 11, 11, 11, 11, 17, 0, 0,...  64  "
      ]
     },
     "execution_count": 59,
     "metadata": {},
     "output_type": "execute_result"
    }
   ],
   "source": [
    "projection_df = pd.DataFrame(columns = ['dataset', 'class_', 'train_z', 'train_label', 'dim'])\n",
    "projection_df.loc[len(projection_df)] = [dataset, 'vae', z, Y_train.flatten(), n_components]\n",
    "projection_df"
   ]
  },
  {
   "cell_type": "code",
   "execution_count": 60,
   "metadata": {
    "ExecuteTime": {
     "end_time": "2020-08-22T17:14:24.430113Z",
     "start_time": "2020-08-22T17:14:24.347818Z"
    }
   },
   "outputs": [
    {
     "name": "stdout",
     "output_type": "stream",
     "text": [
      "/mnt/cube/tsainbur/Projects/github_repos/umap_tf_networks/data/clustering_metric_df/vae_64_cassins_dtw.pickle\n"
     ]
    },
    {
     "data": {
      "text/html": [
       "<div>\n",
       "<style scoped>\n",
       "    .dataframe tbody tr th:only-of-type {\n",
       "        vertical-align: middle;\n",
       "    }\n",
       "\n",
       "    .dataframe tbody tr th {\n",
       "        vertical-align: top;\n",
       "    }\n",
       "\n",
       "    .dataframe thead th {\n",
       "        text-align: right;\n",
       "    }\n",
       "</style>\n",
       "<table border=\"1\" class=\"dataframe\">\n",
       "  <thead>\n",
       "    <tr style=\"text-align: right;\">\n",
       "      <th></th>\n",
       "      <th>dataset</th>\n",
       "      <th>class_</th>\n",
       "      <th>dim</th>\n",
       "      <th>silhouette</th>\n",
       "      <th>homogeneity</th>\n",
       "      <th>completeness</th>\n",
       "      <th>v_measure</th>\n",
       "      <th>init_</th>\n",
       "      <th>n_clusters</th>\n",
       "      <th>model</th>\n",
       "    </tr>\n",
       "  </thead>\n",
       "  <tbody>\n",
       "    <tr>\n",
       "      <th>0</th>\n",
       "      <td>cassins_dtw</td>\n",
       "      <td>vae</td>\n",
       "      <td>64</td>\n",
       "      <td>0.253794</td>\n",
       "      <td>0.588147</td>\n",
       "      <td>0.782382</td>\n",
       "      <td>0.671501</td>\n",
       "      <td>0</td>\n",
       "      <td>10</td>\n",
       "      <td>KMeans(n_clusters=10, random_state=0)</td>\n",
       "    </tr>\n",
       "    <tr>\n",
       "      <th>1</th>\n",
       "      <td>cassins_dtw</td>\n",
       "      <td>vae</td>\n",
       "      <td>64</td>\n",
       "      <td>0.253795</td>\n",
       "      <td>0.588208</td>\n",
       "      <td>0.782454</td>\n",
       "      <td>0.671567</td>\n",
       "      <td>1</td>\n",
       "      <td>10</td>\n",
       "      <td>KMeans(n_clusters=10, random_state=1)</td>\n",
       "    </tr>\n",
       "    <tr>\n",
       "      <th>2</th>\n",
       "      <td>cassins_dtw</td>\n",
       "      <td>vae</td>\n",
       "      <td>64</td>\n",
       "      <td>0.253761</td>\n",
       "      <td>0.588159</td>\n",
       "      <td>0.782343</td>\n",
       "      <td>0.671494</td>\n",
       "      <td>2</td>\n",
       "      <td>10</td>\n",
       "      <td>KMeans(n_clusters=10, random_state=2)</td>\n",
       "    </tr>\n",
       "    <tr>\n",
       "      <th>3</th>\n",
       "      <td>cassins_dtw</td>\n",
       "      <td>vae</td>\n",
       "      <td>64</td>\n",
       "      <td>0.253794</td>\n",
       "      <td>0.588129</td>\n",
       "      <td>0.782357</td>\n",
       "      <td>0.671479</td>\n",
       "      <td>3</td>\n",
       "      <td>10</td>\n",
       "      <td>KMeans(n_clusters=10, random_state=3)</td>\n",
       "    </tr>\n",
       "    <tr>\n",
       "      <th>4</th>\n",
       "      <td>cassins_dtw</td>\n",
       "      <td>vae</td>\n",
       "      <td>64</td>\n",
       "      <td>0.253794</td>\n",
       "      <td>0.588129</td>\n",
       "      <td>0.782357</td>\n",
       "      <td>0.671479</td>\n",
       "      <td>4</td>\n",
       "      <td>10</td>\n",
       "      <td>KMeans(n_clusters=10, random_state=4)</td>\n",
       "    </tr>\n",
       "    <tr>\n",
       "      <th>...</th>\n",
       "      <td>...</td>\n",
       "      <td>...</td>\n",
       "      <td>...</td>\n",
       "      <td>...</td>\n",
       "      <td>...</td>\n",
       "      <td>...</td>\n",
       "      <td>...</td>\n",
       "      <td>...</td>\n",
       "      <td>...</td>\n",
       "      <td>...</td>\n",
       "    </tr>\n",
       "    <tr>\n",
       "      <th>95</th>\n",
       "      <td>cassins_dtw</td>\n",
       "      <td>vae</td>\n",
       "      <td>64</td>\n",
       "      <td>0.286230</td>\n",
       "      <td>0.836382</td>\n",
       "      <td>0.749434</td>\n",
       "      <td>0.790524</td>\n",
       "      <td>0</td>\n",
       "      <td>29</td>\n",
       "      <td>KMeans(n_clusters=29, random_state=0)</td>\n",
       "    </tr>\n",
       "    <tr>\n",
       "      <th>96</th>\n",
       "      <td>cassins_dtw</td>\n",
       "      <td>vae</td>\n",
       "      <td>64</td>\n",
       "      <td>0.294373</td>\n",
       "      <td>0.838084</td>\n",
       "      <td>0.754878</td>\n",
       "      <td>0.794308</td>\n",
       "      <td>1</td>\n",
       "      <td>29</td>\n",
       "      <td>KMeans(n_clusters=29, random_state=1)</td>\n",
       "    </tr>\n",
       "    <tr>\n",
       "      <th>97</th>\n",
       "      <td>cassins_dtw</td>\n",
       "      <td>vae</td>\n",
       "      <td>64</td>\n",
       "      <td>0.287079</td>\n",
       "      <td>0.840021</td>\n",
       "      <td>0.753849</td>\n",
       "      <td>0.794606</td>\n",
       "      <td>2</td>\n",
       "      <td>29</td>\n",
       "      <td>KMeans(n_clusters=29, random_state=2)</td>\n",
       "    </tr>\n",
       "    <tr>\n",
       "      <th>98</th>\n",
       "      <td>cassins_dtw</td>\n",
       "      <td>vae</td>\n",
       "      <td>64</td>\n",
       "      <td>0.305724</td>\n",
       "      <td>0.838055</td>\n",
       "      <td>0.759943</td>\n",
       "      <td>0.797090</td>\n",
       "      <td>3</td>\n",
       "      <td>29</td>\n",
       "      <td>KMeans(n_clusters=29, random_state=3)</td>\n",
       "    </tr>\n",
       "    <tr>\n",
       "      <th>99</th>\n",
       "      <td>cassins_dtw</td>\n",
       "      <td>vae</td>\n",
       "      <td>64</td>\n",
       "      <td>0.306314</td>\n",
       "      <td>0.839174</td>\n",
       "      <td>0.758277</td>\n",
       "      <td>0.796677</td>\n",
       "      <td>4</td>\n",
       "      <td>29</td>\n",
       "      <td>KMeans(n_clusters=29, random_state=4)</td>\n",
       "    </tr>\n",
       "  </tbody>\n",
       "</table>\n",
       "<p>100 rows × 10 columns</p>\n",
       "</div>"
      ],
      "text/plain": [
       "        dataset class_ dim  silhouette  homogeneity  completeness  v_measure  \\\n",
       "0   cassins_dtw    vae  64    0.253794     0.588147      0.782382   0.671501   \n",
       "1   cassins_dtw    vae  64    0.253795     0.588208      0.782454   0.671567   \n",
       "2   cassins_dtw    vae  64    0.253761     0.588159      0.782343   0.671494   \n",
       "3   cassins_dtw    vae  64    0.253794     0.588129      0.782357   0.671479   \n",
       "4   cassins_dtw    vae  64    0.253794     0.588129      0.782357   0.671479   \n",
       "..          ...    ...  ..         ...          ...           ...        ...   \n",
       "95  cassins_dtw    vae  64    0.286230     0.836382      0.749434   0.790524   \n",
       "96  cassins_dtw    vae  64    0.294373     0.838084      0.754878   0.794308   \n",
       "97  cassins_dtw    vae  64    0.287079     0.840021      0.753849   0.794606   \n",
       "98  cassins_dtw    vae  64    0.305724     0.838055      0.759943   0.797090   \n",
       "99  cassins_dtw    vae  64    0.306314     0.839174      0.758277   0.796677   \n",
       "\n",
       "   init_ n_clusters                                  model  \n",
       "0      0         10  KMeans(n_clusters=10, random_state=0)  \n",
       "1      1         10  KMeans(n_clusters=10, random_state=1)  \n",
       "2      2         10  KMeans(n_clusters=10, random_state=2)  \n",
       "3      3         10  KMeans(n_clusters=10, random_state=3)  \n",
       "4      4         10  KMeans(n_clusters=10, random_state=4)  \n",
       "..   ...        ...                                    ...  \n",
       "95     0         29  KMeans(n_clusters=29, random_state=0)  \n",
       "96     1         29  KMeans(n_clusters=29, random_state=1)  \n",
       "97     2         29  KMeans(n_clusters=29, random_state=2)  \n",
       "98     3         29  KMeans(n_clusters=29, random_state=3)  \n",
       "99     4         29  KMeans(n_clusters=29, random_state=4)  \n",
       "\n",
       "[100 rows x 10 columns]"
      ]
     },
     "execution_count": 60,
     "metadata": {},
     "output_type": "execute_result"
    }
   ],
   "source": [
    "get_cluster_metrics(projection_df.iloc[0], n_init=5)"
   ]
  },
  {
   "cell_type": "code",
   "execution_count": null,
   "metadata": {},
   "outputs": [],
   "source": []
  },
  {
   "cell_type": "code",
   "execution_count": null,
   "metadata": {},
   "outputs": [],
   "source": []
  },
  {
   "cell_type": "code",
   "execution_count": null,
   "metadata": {},
   "outputs": [],
   "source": []
  },
  {
   "cell_type": "code",
   "execution_count": null,
   "metadata": {},
   "outputs": [],
   "source": []
  }
 ],
 "metadata": {
  "kernelspec": {
   "display_name": "Python 3",
   "language": "python",
   "name": "python3"
  },
  "language_info": {
   "codemirror_mode": {
    "name": "ipython",
    "version": 3
   },
   "file_extension": ".py",
   "mimetype": "text/x-python",
   "name": "python",
   "nbconvert_exporter": "python",
   "pygments_lexer": "ipython3",
   "version": "3.6.7"
  }
 },
 "nbformat": 4,
 "nbformat_minor": 2
}
