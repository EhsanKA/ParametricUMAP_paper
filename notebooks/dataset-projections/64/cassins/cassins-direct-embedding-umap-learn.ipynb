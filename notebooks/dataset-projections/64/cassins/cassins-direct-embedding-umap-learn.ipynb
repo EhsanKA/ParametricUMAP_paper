{
 "cells": [
  {
   "cell_type": "code",
   "execution_count": 1,
   "metadata": {
    "ExecuteTime": {
     "end_time": "2020-07-14T18:20:37.790887Z",
     "start_time": "2020-07-14T18:20:37.759706Z"
    }
   },
   "outputs": [],
   "source": [
    "# reload packages\n",
    "%load_ext autoreload\n",
    "%autoreload 2"
   ]
  },
  {
   "cell_type": "markdown",
   "metadata": {},
   "source": [
    "### Choose GPU (this may not be needed on your computer)"
   ]
  },
  {
   "cell_type": "code",
   "execution_count": 2,
   "metadata": {
    "ExecuteTime": {
     "end_time": "2020-07-14T18:20:37.813785Z",
     "start_time": "2020-07-14T18:20:37.794544Z"
    }
   },
   "outputs": [
    {
     "name": "stdout",
     "output_type": "stream",
     "text": [
      "env: CUDA_DEVICE_ORDER=PCI_BUS_ID\n",
      "env: CUDA_VISIBLE_DEVICES=''\n"
     ]
    }
   ],
   "source": [
    "%env CUDA_DEVICE_ORDER=PCI_BUS_ID\n",
    "%env CUDA_VISIBLE_DEVICES=''"
   ]
  },
  {
   "cell_type": "markdown",
   "metadata": {},
   "source": [
    "### load packages"
   ]
  },
  {
   "cell_type": "code",
   "execution_count": 3,
   "metadata": {
    "ExecuteTime": {
     "end_time": "2020-07-14T18:20:55.446551Z",
     "start_time": "2020-07-14T18:20:37.815101Z"
    }
   },
   "outputs": [
    {
     "name": "stderr",
     "output_type": "stream",
     "text": [
      "/mnt/cube/tsainbur/conda_envs/tpy3/lib/python3.6/site-packages/tqdm/autonotebook/__init__.py:14: TqdmExperimentalWarning: Using `tqdm.autonotebook.tqdm` in notebook mode. Use `tqdm.tqdm` instead to force console mode (e.g. in jupyter console)\n",
      "  \" (e.g. in jupyter console)\", TqdmExperimentalWarning)\n"
     ]
    }
   ],
   "source": [
    "from tfumap.umap import tfUMAP"
   ]
  },
  {
   "cell_type": "code",
   "execution_count": 4,
   "metadata": {
    "ExecuteTime": {
     "end_time": "2020-07-14T18:20:55.712338Z",
     "start_time": "2020-07-14T18:20:55.448984Z"
    }
   },
   "outputs": [],
   "source": [
    "import tensorflow as tf\n",
    "import numpy as np\n",
    "import matplotlib.pyplot as plt\n",
    "from tqdm.autonotebook import tqdm\n",
    "import umap\n",
    "import pandas as pd"
   ]
  },
  {
   "cell_type": "markdown",
   "metadata": {},
   "source": [
    "### Load dataset"
   ]
  },
  {
   "cell_type": "code",
   "execution_count": 5,
   "metadata": {
    "ExecuteTime": {
     "end_time": "2020-07-14T18:20:55.788397Z",
     "start_time": "2020-07-14T18:20:55.715063Z"
    }
   },
   "outputs": [],
   "source": [
    "from tfumap.paths import ensure_dir, MODEL_DIR, DATA_DIR"
   ]
  },
  {
   "cell_type": "code",
   "execution_count": 6,
   "metadata": {
    "ExecuteTime": {
     "end_time": "2020-07-14T18:21:02.294176Z",
     "start_time": "2020-07-14T18:20:55.790557Z"
    }
   },
   "outputs": [],
   "source": [
    "syllable_df = pd.read_pickle(DATA_DIR/'cassins'/ 'cassins.pickle')"
   ]
  },
  {
   "cell_type": "code",
   "execution_count": 7,
   "metadata": {
    "ExecuteTime": {
     "end_time": "2020-07-14T18:21:02.432682Z",
     "start_time": "2020-07-14T18:21:02.296500Z"
    }
   },
   "outputs": [
    {
     "data": {
      "text/html": [
       "<div>\n",
       "<style scoped>\n",
       "    .dataframe tbody tr th:only-of-type {\n",
       "        vertical-align: middle;\n",
       "    }\n",
       "\n",
       "    .dataframe tbody tr th {\n",
       "        vertical-align: top;\n",
       "    }\n",
       "\n",
       "    .dataframe thead th {\n",
       "        text-align: right;\n",
       "    }\n",
       "</style>\n",
       "<table border=\"1\" class=\"dataframe\">\n",
       "  <thead>\n",
       "    <tr style=\"text-align: right;\">\n",
       "      <th></th>\n",
       "      <th>start_time</th>\n",
       "      <th>end_time</th>\n",
       "      <th>labels</th>\n",
       "      <th>indv</th>\n",
       "      <th>indvi</th>\n",
       "      <th>subject_importance</th>\n",
       "      <th>key</th>\n",
       "      <th>audio</th>\n",
       "      <th>rate</th>\n",
       "      <th>spectrogram</th>\n",
       "    </tr>\n",
       "  </thead>\n",
       "  <tbody>\n",
       "    <tr>\n",
       "      <th>0</th>\n",
       "      <td>9.842790</td>\n",
       "      <td>10.105938</td>\n",
       "      <td>ah</td>\n",
       "      <td>ORA</td>\n",
       "      <td>0</td>\n",
       "      <td>Primary subject</td>\n",
       "      <td>2014-05-29_10-10-00-000000</td>\n",
       "      <td>[-0.19927763130383222, -0.2129138251615996, -0...</td>\n",
       "      <td>44100</td>\n",
       "      <td>[[0.0, 0.0, 0.0, 0.0, 0.0, 0.0, 0.3059005, 0.4...</td>\n",
       "    </tr>\n",
       "    <tr>\n",
       "      <th>1</th>\n",
       "      <td>72.031245</td>\n",
       "      <td>72.346332</td>\n",
       "      <td>ah</td>\n",
       "      <td>ORA</td>\n",
       "      <td>0</td>\n",
       "      <td>Primary subject</td>\n",
       "      <td>2014-05-29_10-10-00-000000</td>\n",
       "      <td>[-0.12207342570633199, -0.09996911527363203, -...</td>\n",
       "      <td>44100</td>\n",
       "      <td>[[0.0, 0.0, 0.0, 0.0, 0.0, 0.12574787, 0.12236...</td>\n",
       "    </tr>\n",
       "    <tr>\n",
       "      <th>2</th>\n",
       "      <td>74.130176</td>\n",
       "      <td>74.376012</td>\n",
       "      <td>bz</td>\n",
       "      <td>ORA</td>\n",
       "      <td>0</td>\n",
       "      <td>Primary subject</td>\n",
       "      <td>2014-05-29_10-10-00-000000</td>\n",
       "      <td>[-0.0889848557398444, -0.06770700742932487, -0...</td>\n",
       "      <td>44100</td>\n",
       "      <td>[[0.0, 0.0, 0.0, 0.0, 0.0, 0.0, 0.2822944, 0.0...</td>\n",
       "    </tr>\n",
       "  </tbody>\n",
       "</table>\n",
       "</div>"
      ],
      "text/plain": [
       "   start_time   end_time labels indv  indvi subject_importance  \\\n",
       "0    9.842790  10.105938     ah  ORA      0    Primary subject   \n",
       "1   72.031245  72.346332     ah  ORA      0    Primary subject   \n",
       "2   74.130176  74.376012     bz  ORA      0    Primary subject   \n",
       "\n",
       "                          key  \\\n",
       "0  2014-05-29_10-10-00-000000   \n",
       "1  2014-05-29_10-10-00-000000   \n",
       "2  2014-05-29_10-10-00-000000   \n",
       "\n",
       "                                               audio   rate  \\\n",
       "0  [-0.19927763130383222, -0.2129138251615996, -0...  44100   \n",
       "1  [-0.12207342570633199, -0.09996911527363203, -...  44100   \n",
       "2  [-0.0889848557398444, -0.06770700742932487, -0...  44100   \n",
       "\n",
       "                                         spectrogram  \n",
       "0  [[0.0, 0.0, 0.0, 0.0, 0.0, 0.0, 0.3059005, 0.4...  \n",
       "1  [[0.0, 0.0, 0.0, 0.0, 0.0, 0.12574787, 0.12236...  \n",
       "2  [[0.0, 0.0, 0.0, 0.0, 0.0, 0.0, 0.2822944, 0.0...  "
      ]
     },
     "execution_count": 7,
     "metadata": {},
     "output_type": "execute_result"
    }
   ],
   "source": [
    "syllable_df[:3]"
   ]
  },
  {
   "cell_type": "code",
   "execution_count": 8,
   "metadata": {
    "ExecuteTime": {
     "end_time": "2020-07-14T18:21:02.761766Z",
     "start_time": "2020-07-14T18:21:02.435031Z"
    }
   },
   "outputs": [
    {
     "data": {
      "text/html": [
       "<div>\n",
       "<style scoped>\n",
       "    .dataframe tbody tr th:only-of-type {\n",
       "        vertical-align: middle;\n",
       "    }\n",
       "\n",
       "    .dataframe tbody tr th {\n",
       "        vertical-align: top;\n",
       "    }\n",
       "\n",
       "    .dataframe thead th {\n",
       "        text-align: right;\n",
       "    }\n",
       "</style>\n",
       "<table border=\"1\" class=\"dataframe\">\n",
       "  <thead>\n",
       "    <tr style=\"text-align: right;\">\n",
       "      <th></th>\n",
       "      <th>en</th>\n",
       "      <th>au</th>\n",
       "      <th>ce</th>\n",
       "      <th>cj</th>\n",
       "      <th>ah</th>\n",
       "      <th>bm</th>\n",
       "      <th>ch</th>\n",
       "      <th>ai</th>\n",
       "      <th>db</th>\n",
       "      <th>aj</th>\n",
       "      <th>ck</th>\n",
       "      <th>hg</th>\n",
       "      <th>ac</th>\n",
       "      <th>ci</th>\n",
       "      <th>fq</th>\n",
       "      <th>ec</th>\n",
       "      <th>df</th>\n",
       "      <th>bx</th>\n",
       "      <th>cr</th>\n",
       "      <th>cl</th>\n",
       "    </tr>\n",
       "  </thead>\n",
       "  <tbody>\n",
       "    <tr>\n",
       "      <th>0</th>\n",
       "      <td>2995</td>\n",
       "      <td>2077</td>\n",
       "      <td>1620</td>\n",
       "      <td>1506</td>\n",
       "      <td>1418</td>\n",
       "      <td>1379</td>\n",
       "      <td>1363</td>\n",
       "      <td>1362</td>\n",
       "      <td>1358</td>\n",
       "      <td>1305</td>\n",
       "      <td>1233</td>\n",
       "      <td>1180</td>\n",
       "      <td>1179</td>\n",
       "      <td>1080</td>\n",
       "      <td>1007</td>\n",
       "      <td>1003</td>\n",
       "      <td>986</td>\n",
       "      <td>984</td>\n",
       "      <td>978</td>\n",
       "      <td>971</td>\n",
       "    </tr>\n",
       "  </tbody>\n",
       "</table>\n",
       "</div>"
      ],
      "text/plain": [
       "     en    au    ce    cj    ah    bm    ch    ai    db    aj    ck    hg  \\\n",
       "0  2995  2077  1620  1506  1418  1379  1363  1362  1358  1305  1233  1180   \n",
       "\n",
       "     ac    ci    fq    ec   df   bx   cr   cl  \n",
       "0  1179  1080  1007  1003  986  984  978  971  "
      ]
     },
     "execution_count": 8,
     "metadata": {},
     "output_type": "execute_result"
    }
   ],
   "source": [
    "top_labels = (\n",
    "    pd.DataFrame(\n",
    "        {i: [np.sum(syllable_df.labels.values == i)] for i in syllable_df.labels.unique()}\n",
    "    )\n",
    "    .T.sort_values(by=0, ascending=False)[:20]\n",
    "    .T\n",
    ")\n",
    "top_labels"
   ]
  },
  {
   "cell_type": "code",
   "execution_count": 9,
   "metadata": {
    "ExecuteTime": {
     "end_time": "2020-07-14T18:21:02.841229Z",
     "start_time": "2020-07-14T18:21:02.767152Z"
    }
   },
   "outputs": [],
   "source": [
    "sylllable_df = syllable_df[syllable_df.labels.isin(top_labels.columns)]"
   ]
  },
  {
   "cell_type": "code",
   "execution_count": 10,
   "metadata": {
    "ExecuteTime": {
     "end_time": "2020-07-14T18:21:02.975525Z",
     "start_time": "2020-07-14T18:21:02.842956Z"
    }
   },
   "outputs": [
    {
     "data": {
      "text/html": [
       "<div>\n",
       "<style scoped>\n",
       "    .dataframe tbody tr th:only-of-type {\n",
       "        vertical-align: middle;\n",
       "    }\n",
       "\n",
       "    .dataframe tbody tr th {\n",
       "        vertical-align: top;\n",
       "    }\n",
       "\n",
       "    .dataframe thead th {\n",
       "        text-align: right;\n",
       "    }\n",
       "</style>\n",
       "<table border=\"1\" class=\"dataframe\">\n",
       "  <thead>\n",
       "    <tr style=\"text-align: right;\">\n",
       "      <th></th>\n",
       "      <th>start_time</th>\n",
       "      <th>end_time</th>\n",
       "      <th>labels</th>\n",
       "      <th>indv</th>\n",
       "      <th>indvi</th>\n",
       "      <th>subject_importance</th>\n",
       "      <th>key</th>\n",
       "      <th>audio</th>\n",
       "      <th>rate</th>\n",
       "      <th>spectrogram</th>\n",
       "    </tr>\n",
       "  </thead>\n",
       "  <tbody>\n",
       "    <tr>\n",
       "      <th>0</th>\n",
       "      <td>9.842790</td>\n",
       "      <td>10.105938</td>\n",
       "      <td>ah</td>\n",
       "      <td>ORA</td>\n",
       "      <td>0</td>\n",
       "      <td>Primary subject</td>\n",
       "      <td>2014-05-29_10-10-00-000000</td>\n",
       "      <td>[-0.19927763130383222, -0.2129138251615996, -0...</td>\n",
       "      <td>44100</td>\n",
       "      <td>[[0.0, 0.0, 0.0, 0.0, 0.0, 0.0, 0.3059005, 0.4...</td>\n",
       "    </tr>\n",
       "    <tr>\n",
       "      <th>1</th>\n",
       "      <td>72.031245</td>\n",
       "      <td>72.346332</td>\n",
       "      <td>ah</td>\n",
       "      <td>ORA</td>\n",
       "      <td>0</td>\n",
       "      <td>Primary subject</td>\n",
       "      <td>2014-05-29_10-10-00-000000</td>\n",
       "      <td>[-0.12207342570633199, -0.09996911527363203, -...</td>\n",
       "      <td>44100</td>\n",
       "      <td>[[0.0, 0.0, 0.0, 0.0, 0.0, 0.12574787, 0.12236...</td>\n",
       "    </tr>\n",
       "    <tr>\n",
       "      <th>12</th>\n",
       "      <td>114.757543</td>\n",
       "      <td>114.986067</td>\n",
       "      <td>bm</td>\n",
       "      <td>ORA</td>\n",
       "      <td>0</td>\n",
       "      <td>Primary subject</td>\n",
       "      <td>2014-05-29_10-10-00-000000</td>\n",
       "      <td>[-0.03662450122476042, -0.022604548403189744, ...</td>\n",
       "      <td>44100</td>\n",
       "      <td>[[0.0, 0.0, 0.0, 0.0, 0.0, 0.0, 0.0, 0.0, 0.0,...</td>\n",
       "    </tr>\n",
       "  </tbody>\n",
       "</table>\n",
       "</div>"
      ],
      "text/plain": [
       "    start_time    end_time labels indv  indvi subject_importance  \\\n",
       "0     9.842790   10.105938     ah  ORA      0    Primary subject   \n",
       "1    72.031245   72.346332     ah  ORA      0    Primary subject   \n",
       "12  114.757543  114.986067     bm  ORA      0    Primary subject   \n",
       "\n",
       "                           key  \\\n",
       "0   2014-05-29_10-10-00-000000   \n",
       "1   2014-05-29_10-10-00-000000   \n",
       "12  2014-05-29_10-10-00-000000   \n",
       "\n",
       "                                                audio   rate  \\\n",
       "0   [-0.19927763130383222, -0.2129138251615996, -0...  44100   \n",
       "1   [-0.12207342570633199, -0.09996911527363203, -...  44100   \n",
       "12  [-0.03662450122476042, -0.022604548403189744, ...  44100   \n",
       "\n",
       "                                          spectrogram  \n",
       "0   [[0.0, 0.0, 0.0, 0.0, 0.0, 0.0, 0.3059005, 0.4...  \n",
       "1   [[0.0, 0.0, 0.0, 0.0, 0.0, 0.12574787, 0.12236...  \n",
       "12  [[0.0, 0.0, 0.0, 0.0, 0.0, 0.0, 0.0, 0.0, 0.0,...  "
      ]
     },
     "execution_count": 10,
     "metadata": {},
     "output_type": "execute_result"
    }
   ],
   "source": [
    "sylllable_df[:3]"
   ]
  },
  {
   "cell_type": "code",
   "execution_count": 11,
   "metadata": {
    "ExecuteTime": {
     "end_time": "2020-07-14T18:21:03.034509Z",
     "start_time": "2020-07-14T18:21:02.979670Z"
    }
   },
   "outputs": [],
   "source": [
    "sylllable_df = sylllable_df.reset_index()"
   ]
  },
  {
   "cell_type": "code",
   "execution_count": 12,
   "metadata": {
    "ExecuteTime": {
     "end_time": "2020-07-14T18:21:03.157258Z",
     "start_time": "2020-07-14T18:21:03.037310Z"
    }
   },
   "outputs": [
    {
     "data": {
      "text/plain": [
       "(26984, 32, 31)"
      ]
     },
     "execution_count": 12,
     "metadata": {},
     "output_type": "execute_result"
    }
   ],
   "source": [
    "specs = np.array(list(sylllable_df.spectrogram.values))\n",
    "specs.shape"
   ]
  },
  {
   "cell_type": "code",
   "execution_count": 13,
   "metadata": {
    "ExecuteTime": {
     "end_time": "2020-07-14T18:21:03.242894Z",
     "start_time": "2020-07-14T18:21:03.158732Z"
    }
   },
   "outputs": [],
   "source": [
    "sylllable_df['subset'] = 'train'\n",
    "sylllable_df.loc[:1000, 'subset'] = 'valid'\n",
    "sylllable_df.loc[1000:1999, 'subset'] = 'test'"
   ]
  },
  {
   "cell_type": "code",
   "execution_count": 14,
   "metadata": {
    "ExecuteTime": {
     "end_time": "2020-07-14T18:21:03.301255Z",
     "start_time": "2020-07-14T18:21:03.244639Z"
    }
   },
   "outputs": [
    {
     "data": {
      "text/plain": [
       "26984"
      ]
     },
     "execution_count": 14,
     "metadata": {},
     "output_type": "execute_result"
    }
   ],
   "source": [
    "len(sylllable_df)"
   ]
  },
  {
   "cell_type": "code",
   "execution_count": 15,
   "metadata": {
    "ExecuteTime": {
     "end_time": "2020-07-14T18:21:03.388636Z",
     "start_time": "2020-07-14T18:21:03.306958Z"
    }
   },
   "outputs": [],
   "source": [
    "Y_train = np.array(list(sylllable_df.labels.values[sylllable_df.subset == 'train']))\n",
    "Y_valid = np.array(list(sylllable_df.labels.values[sylllable_df.subset == 'valid']))\n",
    "Y_test = np.array(list(sylllable_df.labels.values[sylllable_df.subset == 'test']))"
   ]
  },
  {
   "cell_type": "code",
   "execution_count": 16,
   "metadata": {
    "ExecuteTime": {
     "end_time": "2020-07-14T18:21:03.525445Z",
     "start_time": "2020-07-14T18:21:03.391375Z"
    }
   },
   "outputs": [],
   "source": [
    "X_train = np.array(list(sylllable_df.spectrogram.values[sylllable_df.subset == 'train'])) #/ 255.\n",
    "X_valid = np.array(list(sylllable_df.spectrogram.values[sylllable_df.subset == 'valid']))# / 255.\n",
    "X_test = np.array(list(sylllable_df.spectrogram.values[sylllable_df.subset == 'test'])) #/ 255."
   ]
  },
  {
   "cell_type": "code",
   "execution_count": 17,
   "metadata": {
    "ExecuteTime": {
     "end_time": "2020-07-14T18:21:03.597409Z",
     "start_time": "2020-07-14T18:21:03.528446Z"
    }
   },
   "outputs": [],
   "source": [
    "X_train_flat = X_train.reshape((len(X_train), np.product(np.shape(X_train)[1:])))"
   ]
  },
  {
   "cell_type": "code",
   "execution_count": 18,
   "metadata": {
    "ExecuteTime": {
     "end_time": "2020-07-14T18:21:03.720621Z",
     "start_time": "2020-07-14T18:21:03.599333Z"
    }
   },
   "outputs": [],
   "source": [
    "from sklearn.preprocessing import OrdinalEncoder\n",
    "enc = OrdinalEncoder()\n",
    "Y_train = enc.fit_transform([[i] for i in Y_train]).astype('int').flatten()"
   ]
  },
  {
   "cell_type": "code",
   "execution_count": 19,
   "metadata": {
    "ExecuteTime": {
     "end_time": "2020-07-14T18:21:03.972745Z",
     "start_time": "2020-07-14T18:21:03.723152Z"
    }
   },
   "outputs": [
    {
     "data": {
      "text/plain": [
       "<matplotlib.image.AxesImage at 0x7f0ea23f9c18>"
      ]
     },
     "execution_count": 19,
     "metadata": {},
     "output_type": "execute_result"
    },
    {
     "data": {
      "image/png": "[encoded data removed]",
      "text/plain": [
       "<Figure size 288x297.29 with 1 Axes>"
      ]
     },
     "metadata": {
      "needs_background": "light"
     },
     "output_type": "display_data"
    }
   ],
   "source": [
    "plt.matshow(X_train[10])"
   ]
  },
  {
   "cell_type": "markdown",
   "metadata": {},
   "source": [
    "### Create model and train"
   ]
  },
  {
   "cell_type": "code",
   "execution_count": 20,
   "metadata": {
    "ExecuteTime": {
     "end_time": "2020-07-14T18:21:04.071813Z",
     "start_time": "2020-07-14T18:21:03.974544Z"
    }
   },
   "outputs": [],
   "source": [
    "embedder = tfUMAP(n_components = 64, direct_embedding=True, verbose=True, negative_sample_rate=5, training_epochs=100)"
   ]
  },
  {
   "cell_type": "code",
   "execution_count": 21,
   "metadata": {
    "ExecuteTime": {
     "end_time": "2020-07-14T18:26:17.984747Z",
     "start_time": "2020-07-14T18:21:04.074029Z"
    },
    "scrolled": false
   },
   "outputs": [
    {
     "name": "stdout",
     "output_type": "stream",
     "text": [
      "tfUMAP(direct_embedding=True, negative_sample_rate=5,\n",
      "       optimizer=<tensorflow.python.keras.optimizer_v2.adadelta.Adadelta object at 0x7f0ea23a5198>,\n",
      "       tensorboard_logdir='/tmp/tensorboard/20200714-112104',\n",
      "       training_epochs=100)\n",
      "Construct fuzzy simplicial set\n",
      "Tue Jul 14 11:21:04 2020 Finding Nearest Neighbors\n",
      "Tue Jul 14 11:21:04 2020 Building RP forest with 13 trees\n",
      "Tue Jul 14 11:21:06 2020 parallel NN descent for 15 iterations\n",
      "\t 0  /  15\n",
      "\t 1  /  15\n",
      "\t 2  /  15\n",
      "\t 3  /  15\n",
      "Tue Jul 14 11:21:20 2020 Finished Nearest Neighbor Search\n",
      "Tue Jul 14 11:21:55 2020 Embedding with TensorFlow\n"
     ]
    },
    {
     "data": {
      "application/vnd.jupyter.widget-view+json": {
       "model_id": "1bee8f26c89d412eb232604725222896",
       "version_major": 2,
       "version_minor": 0
      },
      "text/plain": [
       "HBox(children=(IntProgress(value=0, description='epoch', style=ProgressStyle(description_width='initial')), HT…"
      ]
     },
     "metadata": {},
     "output_type": "display_data"
    },
    {
     "name": "stderr",
     "output_type": "stream",
     "text": [
      "/mnt/cube/tsainbur/conda_envs/tpy3/lib/python3.6/site-packages/tensorflow_core/python/framework/indexed_slices.py:433: UserWarning: Converting sparse IndexedSlices to a dense Tensor of unknown shape. This may consume a large amount of memory.\n",
      "  \"Converting sparse IndexedSlices to a dense Tensor of unknown shape. \"\n",
      "/mnt/cube/tsainbur/conda_envs/tpy3/lib/python3.6/site-packages/tensorflow_core/python/framework/indexed_slices.py:433: UserWarning: Converting sparse IndexedSlices to a dense Tensor of unknown shape. This may consume a large amount of memory.\n",
      "  \"Converting sparse IndexedSlices to a dense Tensor of unknown shape. \"\n"
     ]
    },
    {
     "name": "stdout",
     "output_type": "stream",
     "text": [
      "Tue Jul 14 11:26:17 2020 Finished embedding\n"
     ]
    }
   ],
   "source": [
    "z = embedder.fit_transform(X_train_flat)"
   ]
  },
  {
   "cell_type": "markdown",
   "metadata": {},
   "source": [
    "### Plot model output"
   ]
  },
  {
   "cell_type": "code",
   "execution_count": 22,
   "metadata": {
    "ExecuteTime": {
     "end_time": "2020-07-14T18:26:20.219961Z",
     "start_time": "2020-07-14T18:26:17.986244Z"
    }
   },
   "outputs": [
    {
     "data": {
      "image/png": "[encoded data removed]",
      "text/plain": [
       "<Figure size 576x576 with 2 Axes>"
      ]
     },
     "metadata": {
      "needs_background": "light"
     },
     "output_type": "display_data"
    }
   ],
   "source": [
    "fig, ax = plt.subplots( figsize=(8, 8))\n",
    "sc = ax.scatter(\n",
    "    z[:, 0],\n",
    "    z[:, 1],\n",
    "    c=Y_train[:len(z)],\n",
    "    cmap=\"tab20\",\n",
    "    s=0.1,\n",
    "    alpha=0.5,\n",
    "    rasterized=True,\n",
    ")\n",
    "ax.axis('equal')\n",
    "ax.set_title(\"UMAP in Tensorflow embedding\", fontsize=20)\n",
    "plt.colorbar(sc, ax=ax);"
   ]
  },
  {
   "cell_type": "markdown",
   "metadata": {},
   "source": [
    "### View loss"
   ]
  },
  {
   "cell_type": "code",
   "execution_count": 23,
   "metadata": {
    "ExecuteTime": {
     "end_time": "2020-07-14T18:26:20.563060Z",
     "start_time": "2020-07-14T18:26:20.221437Z"
    }
   },
   "outputs": [],
   "source": [
    "from tfumap.umap import retrieve_tensors\n",
    "import seaborn as sns"
   ]
  },
  {
   "cell_type": "code",
   "execution_count": 24,
   "metadata": {
    "ExecuteTime": {
     "end_time": "2020-07-14T18:26:22.151971Z",
     "start_time": "2020-07-14T18:26:20.570541Z"
    }
   },
   "outputs": [
    {
     "name": "stdout",
     "output_type": "stream",
     "text": [
      "['umap_loss']\n",
      "[]\n"
     ]
    },
    {
     "data": {
      "text/html": [
       "<div>\n",
       "<style scoped>\n",
       "    .dataframe tbody tr th:only-of-type {\n",
       "        vertical-align: middle;\n",
       "    }\n",
       "\n",
       "    .dataframe tbody tr th {\n",
       "        vertical-align: top;\n",
       "    }\n",
       "\n",
       "    .dataframe thead th {\n",
       "        text-align: right;\n",
       "    }\n",
       "</style>\n",
       "<table border=\"1\" class=\"dataframe\">\n",
       "  <thead>\n",
       "    <tr style=\"text-align: right;\">\n",
       "      <th></th>\n",
       "      <th>wall_time</th>\n",
       "      <th>step</th>\n",
       "      <th>val</th>\n",
       "      <th>group</th>\n",
       "      <th>variable</th>\n",
       "    </tr>\n",
       "  </thead>\n",
       "  <tbody>\n",
       "    <tr>\n",
       "      <th>0</th>\n",
       "      <td>1.594751e+09</td>\n",
       "      <td>1</td>\n",
       "      <td>1.696854</td>\n",
       "      <td>train</td>\n",
       "      <td>umap_loss</td>\n",
       "    </tr>\n",
       "    <tr>\n",
       "      <th>1</th>\n",
       "      <td>1.594751e+09</td>\n",
       "      <td>2</td>\n",
       "      <td>1.525656</td>\n",
       "      <td>train</td>\n",
       "      <td>umap_loss</td>\n",
       "    </tr>\n",
       "    <tr>\n",
       "      <th>2</th>\n",
       "      <td>1.594751e+09</td>\n",
       "      <td>3</td>\n",
       "      <td>1.405051</td>\n",
       "      <td>train</td>\n",
       "      <td>umap_loss</td>\n",
       "    </tr>\n",
       "  </tbody>\n",
       "</table>\n",
       "</div>"
      ],
      "text/plain": [
       "      wall_time  step       val  group   variable\n",
       "0  1.594751e+09     1  1.696854  train  umap_loss\n",
       "1  1.594751e+09     2  1.525656  train  umap_loss\n",
       "2  1.594751e+09     3  1.405051  train  umap_loss"
      ]
     },
     "execution_count": 24,
     "metadata": {},
     "output_type": "execute_result"
    }
   ],
   "source": [
    "loss_df = retrieve_tensors(embedder.tensorboard_logdir)\n",
    "loss_df[:3]"
   ]
  },
  {
   "cell_type": "code",
   "execution_count": 25,
   "metadata": {
    "ExecuteTime": {
     "end_time": "2020-07-14T18:26:26.340059Z",
     "start_time": "2020-07-14T18:26:22.155637Z"
    }
   },
   "outputs": [
    {
     "data": {
      "image/png": "[encoded data removed]",
      "text/plain": [
       "<Figure size 432x288 with 1 Axes>"
      ]
     },
     "metadata": {
      "needs_background": "light"
     },
     "output_type": "display_data"
    }
   ],
   "source": [
    "ax = sns.lineplot(x=\"step\", y=\"val\", hue=\"group\", data=loss_df[loss_df.variable=='umap_loss'])\n",
    "ax.set_xscale('log')"
   ]
  },
  {
   "cell_type": "markdown",
   "metadata": {},
   "source": [
    "### Compare to direct embedding with base UMAP"
   ]
  },
  {
   "cell_type": "code",
   "execution_count": 33,
   "metadata": {
    "ExecuteTime": {
     "end_time": "2020-07-14T18:36:30.593299Z",
     "start_time": "2020-07-14T18:36:29.917579Z"
    }
   },
   "outputs": [],
   "source": [
    "from umap import UMAP"
   ]
  },
  {
   "cell_type": "code",
   "execution_count": 34,
   "metadata": {
    "ExecuteTime": {
     "end_time": "2020-07-14T19:23:18.876031Z",
     "start_time": "2020-07-14T18:36:30.594611Z"
    }
   },
   "outputs": [
    {
     "name": "stderr",
     "output_type": "stream",
     "text": [
      "/mnt/cube/tsainbur/Projects/github_repos/umap/umap/umap_.py:1624: UserWarning: custom distance metric does not return gradient; inverse_transform will be unavailable. To enable using inverse_transform method method, define a distance function that returns a tuple of (distance [float], gradient [np.array])\n",
      "  \"custom distance metric does not return gradient; inverse_transform will be unavailable. \"\n"
     ]
    },
    {
     "name": "stdout",
     "output_type": "stream",
     "text": [
      "UMAP(dens_frac=0.0, dens_lambda=0.0,\n",
      "     metric=CPUDispatcher(<function build_dtw_mse.<locals>.dtw_mse at 0x7f0ea2b838c8>),\n",
      "     n_components=64, verbose=True)\n",
      "Construct fuzzy simplicial set\n",
      "Tue Jul 14 11:36:34 2020 Finding Nearest Neighbors\n",
      "Tue Jul 14 11:36:34 2020 Building RP forest with 13 trees\n",
      "Tue Jul 14 11:36:37 2020 parallel NN descent for 15 iterations\n",
      "\t 0  /  15\n",
      "\t 1  /  15\n",
      "\t 2  /  15\n",
      "\t 3  /  15\n",
      "\t 4  /  15\n",
      "\t 5  /  15\n",
      "Tue Jul 14 12:22:39 2020 Finished Nearest Neighbor Search\n",
      "Tue Jul 14 12:22:39 2020 Construct embedding\n",
      "\tcompleted  0  /  200 epochs\n",
      "\tcompleted  20  /  200 epochs\n",
      "\tcompleted  40  /  200 epochs\n",
      "\tcompleted  60  /  200 epochs\n",
      "\tcompleted  80  /  200 epochs\n",
      "\tcompleted  100  /  200 epochs\n",
      "\tcompleted  120  /  200 epochs\n",
      "\tcompleted  140  /  200 epochs\n",
      "\tcompleted  160  /  200 epochs\n",
      "\tcompleted  180  /  200 epochs\n",
      "Tue Jul 14 12:23:18 2020 Finished embedding\n"
     ]
    }
   ],
   "source": [
    "z_umap = UMAP(metric = dtw_metric, verbose=True, n_components = 64).fit_transform(X_train_flat)"
   ]
  },
  {
   "cell_type": "code",
   "execution_count": 43,
   "metadata": {
    "ExecuteTime": {
     "end_time": "2020-07-14T19:57:25.103500Z",
     "start_time": "2020-07-14T19:57:24.382421Z"
    }
   },
   "outputs": [
    {
     "data": {
      "image/png": "[encoded data removed]",
      "text/plain": [
       "<Figure size 576x576 with 2 Axes>"
      ]
     },
     "metadata": {
      "needs_background": "light"
     },
     "output_type": "display_data"
    }
   ],
   "source": [
    "### Plot model output\n",
    "\n",
    "fig, ax = plt.subplots( figsize=(8, 8))\n",
    "sc = ax.scatter(\n",
    "    z_umap[:, 0],\n",
    "    z_umap[:, 1],\n",
    "    c=Y_train[:len(z)],\n",
    "    cmap=\"tab20\",\n",
    "    s=0.1,\n",
    "    alpha=0.5,\n",
    "    rasterized=True,\n",
    ")\n",
    "ax.axis('equal')\n",
    "ax.set_title(\"UMAP in Tensorflow embedding\", fontsize=20)\n",
    "plt.colorbar(sc, ax=ax);"
   ]
  },
  {
   "cell_type": "markdown",
   "metadata": {},
   "source": [
    "### Save output"
   ]
  },
  {
   "cell_type": "code",
   "execution_count": 36,
   "metadata": {
    "ExecuteTime": {
     "end_time": "2020-07-14T19:56:50.260837Z",
     "start_time": "2020-07-14T19:56:49.694528Z"
    }
   },
   "outputs": [],
   "source": [
    "import os\n",
    "import pickle"
   ]
  },
  {
   "cell_type": "code",
   "execution_count": 37,
   "metadata": {
    "ExecuteTime": {
     "end_time": "2020-07-14T19:56:50.305489Z",
     "start_time": "2020-07-14T19:56:50.262865Z"
    }
   },
   "outputs": [],
   "source": [
    "from tfumap.paths import ensure_dir, MODEL_DIR"
   ]
  },
  {
   "cell_type": "code",
   "execution_count": 38,
   "metadata": {
    "ExecuteTime": {
     "end_time": "2020-07-14T19:56:50.382067Z",
     "start_time": "2020-07-14T19:56:50.306956Z"
    }
   },
   "outputs": [],
   "source": [
    "output_dir = MODEL_DIR/'projections'/ 'cassins_dtw' / '64' / 'umap-learn'\n",
    "ensure_dir(output_dir)"
   ]
  },
  {
   "cell_type": "code",
   "execution_count": 39,
   "metadata": {
    "ExecuteTime": {
     "end_time": "2020-07-14T19:56:54.595111Z",
     "start_time": "2020-07-14T19:56:50.805360Z"
    }
   },
   "outputs": [],
   "source": [
    "with open(os.path.join(output_dir, \"model.pkl\"), \"wb\") as output:\n",
    "    pickle.dump(embedder, output, pickle.HIGHEST_PROTOCOL)"
   ]
  },
  {
   "cell_type": "code",
   "execution_count": 40,
   "metadata": {
    "ExecuteTime": {
     "end_time": "2020-07-14T19:56:54.667391Z",
     "start_time": "2020-07-14T19:56:54.596728Z"
    }
   },
   "outputs": [],
   "source": [
    "np.save(output_dir / 'z.npy', z_umap)"
   ]
  },
  {
   "cell_type": "code",
   "execution_count": null,
   "metadata": {},
   "outputs": [],
   "source": []
  },
  {
   "cell_type": "code",
   "execution_count": null,
   "metadata": {},
   "outputs": [],
   "source": []
  },
  {
   "cell_type": "code",
   "execution_count": null,
   "metadata": {},
   "outputs": [],
   "source": []
  },
  {
   "cell_type": "code",
   "execution_count": null,
   "metadata": {},
   "outputs": [],
   "source": []
  }
 ],
 "metadata": {
  "kernelspec": {
   "display_name": "Python 3",
   "language": "python",
   "name": "python3"
  },
  "language_info": {
   "codemirror_mode": {
    "name": "ipython",
    "version": 3
   },
   "file_extension": ".py",
   "mimetype": "text/x-python",
   "name": "python",
   "nbconvert_exporter": "python",
   "pygments_lexer": "ipython3",
   "version": "3.6.7"
  }
 },
 "nbformat": 4,
 "nbformat_minor": 2
}
