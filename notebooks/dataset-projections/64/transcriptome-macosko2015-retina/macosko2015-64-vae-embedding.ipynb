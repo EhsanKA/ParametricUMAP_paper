{
 "cells": [
  {
   "cell_type": "code",
   "execution_count": 1,
   "metadata": {
    "ExecuteTime": {
     "end_time": "2020-08-22T05:52:02.348937Z",
     "start_time": "2020-08-22T05:52:02.300981Z"
    }
   },
   "outputs": [],
   "source": [
    "# reload packages\n",
    "%load_ext autoreload\n",
    "%autoreload 2"
   ]
  },
  {
   "cell_type": "markdown",
   "metadata": {},
   "source": [
    "### Choose GPU (this may not be needed on your computer)"
   ]
  },
  {
   "cell_type": "code",
   "execution_count": 2,
   "metadata": {
    "ExecuteTime": {
     "end_time": "2020-08-22T05:52:02.389245Z",
     "start_time": "2020-08-22T05:52:02.356284Z"
    }
   },
   "outputs": [
    {
     "name": "stdout",
     "output_type": "stream",
     "text": [
      "env: CUDA_DEVICE_ORDER=PCI_BUS_ID\n",
      "env: CUDA_VISIBLE_DEVICES=1\n"
     ]
    }
   ],
   "source": [
    "%env CUDA_DEVICE_ORDER=PCI_BUS_ID\n",
    "%env CUDA_VISIBLE_DEVICES=1"
   ]
  },
  {
   "cell_type": "code",
   "execution_count": 3,
   "metadata": {
    "ExecuteTime": {
     "end_time": "2020-08-22T05:52:14.698596Z",
     "start_time": "2020-08-22T05:52:02.392566Z"
    }
   },
   "outputs": [
    {
     "name": "stdout",
     "output_type": "stream",
     "text": [
      "[PhysicalDevice(name='/physical_device:GPU:0', device_type='GPU')]\n"
     ]
    }
   ],
   "source": [
    "import tensorflow as tf\n",
    "gpu_devices = tf.config.experimental.list_physical_devices('GPU')\n",
    "if len(gpu_devices)>0:\n",
    "    tf.config.experimental.set_memory_growth(gpu_devices[0], True)\n",
    "print(gpu_devices)\n",
    "tf.keras.backend.clear_session()"
   ]
  },
  {
   "cell_type": "markdown",
   "metadata": {},
   "source": [
    "### load packages"
   ]
  },
  {
   "cell_type": "code",
   "execution_count": 4,
   "metadata": {
    "ExecuteTime": {
     "end_time": "2020-08-22T05:52:33.453368Z",
     "start_time": "2020-08-22T05:52:14.702231Z"
    }
   },
   "outputs": [
    {
     "name": "stderr",
     "output_type": "stream",
     "text": [
      "/mnt/cube/tsainbur/conda_envs/tpy3/lib/python3.6/site-packages/tqdm/autonotebook/__init__.py:14: TqdmExperimentalWarning: Using `tqdm.autonotebook.tqdm` in notebook mode. Use `tqdm.tqdm` instead to force console mode (e.g. in jupyter console)\n",
      "  \" (e.g. in jupyter console)\", TqdmExperimentalWarning)\n"
     ]
    }
   ],
   "source": [
    "from tfumap.umap import tfUMAP"
   ]
  },
  {
   "cell_type": "code",
   "execution_count": 5,
   "metadata": {
    "ExecuteTime": {
     "end_time": "2020-08-22T05:52:34.096794Z",
     "start_time": "2020-08-22T05:52:33.454740Z"
    }
   },
   "outputs": [],
   "source": [
    "import tensorflow as tf\n",
    "import numpy as np\n",
    "import matplotlib.pyplot as plt\n",
    "from tqdm.autonotebook import tqdm\n",
    "import umap\n",
    "import pandas as pd"
   ]
  },
  {
   "cell_type": "markdown",
   "metadata": {},
   "source": [
    "### Load dataset"
   ]
  },
  {
   "cell_type": "code",
   "execution_count": 6,
   "metadata": {
    "ExecuteTime": {
     "end_time": "2020-08-22T05:52:34.156885Z",
     "start_time": "2020-08-22T05:52:34.098062Z"
    }
   },
   "outputs": [],
   "source": [
    "dataset = 'macosko2015'\n",
    "dims = (50)\n",
    "n_components = 64"
   ]
  },
  {
   "cell_type": "code",
   "execution_count": 7,
   "metadata": {
    "ExecuteTime": {
     "end_time": "2020-08-22T05:52:34.315392Z",
     "start_time": "2020-08-22T05:52:34.160117Z"
    }
   },
   "outputs": [],
   "source": [
    "from tfumap.paths import ensure_dir, MODEL_DIR, DATA_DIR"
   ]
  },
  {
   "cell_type": "code",
   "execution_count": 8,
   "metadata": {
    "ExecuteTime": {
     "end_time": "2020-08-22T05:52:35.582482Z",
     "start_time": "2020-08-22T05:52:34.318186Z"
    }
   },
   "outputs": [
    {
     "name": "stdout",
     "output_type": "stream",
     "text": [
      "Data set contains 44808 samples with 50 features\n"
     ]
    }
   ],
   "source": [
    "import gzip\n",
    "import pickle\n",
    "\n",
    "with gzip.open(DATA_DIR / 'macosko_2015.pkl.gz', \"rb\") as f:\n",
    "    data = pickle.load(f)\n",
    "\n",
    "x = data[\"pca_50\"]\n",
    "y = data[\"CellType1\"].astype(str)\n",
    "\n",
    "def zero_one_norm(x):\n",
    "    return (x- np.min(x, axis=0))/ (np.max(x, axis=0)-np.min(x, axis=0))\n",
    "\n",
    "x_norm = zero_one_norm(x)\n",
    "\n",
    "print(\"Data set contains %d samples with %d features\" % x.shape)\n",
    "\n",
    "from sklearn.model_selection import train_test_split\n",
    "\n",
    "X_train, X_test, Y_train, Y_test = train_test_split(x_norm, y, test_size=.1, random_state=42)\n",
    "\n",
    "n_valid = 10000\n",
    "X_valid = X_train[-n_valid:]\n",
    "Y_valid = Y_train[-n_valid:]\n",
    "X_train = X_train[:-n_valid]\n",
    "Y_train = Y_train[:-n_valid]\n",
    "\n",
    "X_train_flat = X_train\n",
    "X_test_flat = X_test\n",
    "\n",
    "from sklearn.preprocessing import OrdinalEncoder\n",
    "enc = OrdinalEncoder()\n",
    "\n",
    "Y_train = enc.fit_transform([[i] for i in Y_train]).flatten()\n",
    "Y_test = enc.fit_transform([[i] for i in Y_test]).flatten()"
   ]
  },
  {
   "cell_type": "markdown",
   "metadata": {},
   "source": [
    "### define networks"
   ]
  },
  {
   "cell_type": "code",
   "execution_count": 9,
   "metadata": {
    "ExecuteTime": {
     "end_time": "2020-08-22T05:52:35.743416Z",
     "start_time": "2020-08-22T05:52:35.586094Z"
    }
   },
   "outputs": [],
   "source": [
    "from tfumap.vae import VAE, Sampling"
   ]
  },
  {
   "cell_type": "code",
   "execution_count": 10,
   "metadata": {
    "ExecuteTime": {
     "end_time": "2020-08-22T05:52:38.728347Z",
     "start_time": "2020-08-22T05:52:35.751389Z"
    }
   },
   "outputs": [
    {
     "name": "stdout",
     "output_type": "stream",
     "text": [
      "Model: \"encoder\"\n",
      "__________________________________________________________________________________________________\n",
      "Layer (type)                    Output Shape         Param #     Connected to                     \n",
      "==================================================================================================\n",
      "input_1 (InputLayer)            [(None, 50)]         0                                            \n",
      "__________________________________________________________________________________________________\n",
      "flatten (Flatten)               (None, 50)           0           input_1[0][0]                    \n",
      "__________________________________________________________________________________________________\n",
      "dense (Dense)                   (None, 100)          5100        flatten[0][0]                    \n",
      "__________________________________________________________________________________________________\n",
      "dense_1 (Dense)                 (None, 100)          10100       dense[0][0]                      \n",
      "__________________________________________________________________________________________________\n",
      "dense_2 (Dense)                 (None, 100)          10100       dense_1[0][0]                    \n",
      "__________________________________________________________________________________________________\n",
      "z_mean (Dense)                  (None, 64)           6464        dense_2[0][0]                    \n",
      "__________________________________________________________________________________________________\n",
      "z_log_var (Dense)               (None, 64)           6464        dense_2[0][0]                    \n",
      "__________________________________________________________________________________________________\n",
      "sampling (Sampling)             (None, 64)           0           z_mean[0][0]                     \n",
      "                                                                 z_log_var[0][0]                  \n",
      "==================================================================================================\n",
      "Total params: 38,228\n",
      "Trainable params: 38,228\n",
      "Non-trainable params: 0\n",
      "__________________________________________________________________________________________________\n"
     ]
    }
   ],
   "source": [
    "encoder_inputs = tf.keras.Input(shape=dims)\n",
    "x = tf.keras.layers.Flatten()(encoder_inputs)\n",
    "x = tf.keras.layers.Dense(units=100, activation=\"relu\")(x)\n",
    "x = tf.keras.layers.Dense(units=100, activation=\"relu\")(x)\n",
    "x = tf.keras.layers.Dense(units=100, activation=\"relu\")(x)\n",
    "z_mean = tf.keras.layers.Dense(n_components, name=\"z_mean\")(x)\n",
    "z_log_var = tf.keras.layers.Dense(n_components, name=\"z_log_var\")(x)\n",
    "z = Sampling()([z_mean, z_log_var])\n",
    "encoder = tf.keras.Model(encoder_inputs, [z_mean, z_log_var, z], name=\"encoder\")\n",
    "encoder.summary()"
   ]
  },
  {
   "cell_type": "code",
   "execution_count": 11,
   "metadata": {
    "ExecuteTime": {
     "end_time": "2020-08-22T05:52:39.004549Z",
     "start_time": "2020-08-22T05:52:38.735912Z"
    }
   },
   "outputs": [
    {
     "name": "stdout",
     "output_type": "stream",
     "text": [
      "Model: \"decoder\"\n",
      "_________________________________________________________________\n",
      "Layer (type)                 Output Shape              Param #   \n",
      "=================================================================\n",
      "input_2 (InputLayer)         [(None, 64)]              0         \n",
      "_________________________________________________________________\n",
      "dense_3 (Dense)              (None, 100)               6500      \n",
      "_________________________________________________________________\n",
      "dense_4 (Dense)              (None, 100)               10100     \n",
      "_________________________________________________________________\n",
      "dense_5 (Dense)              (None, 100)               10100     \n",
      "_________________________________________________________________\n",
      "dense_6 (Dense)              (None, 50)                5050      \n",
      "=================================================================\n",
      "Total params: 31,750\n",
      "Trainable params: 31,750\n",
      "Non-trainable params: 0\n",
      "_________________________________________________________________\n"
     ]
    }
   ],
   "source": [
    "latent_inputs = tf.keras.Input(shape=(n_components,))\n",
    "x = tf.keras.layers.Dense(units=100, activation=\"relu\")(latent_inputs)\n",
    "x = tf.keras.layers.Dense(units=100, activation=\"relu\")(x)\n",
    "x = tf.keras.layers.Dense(units=100, activation=\"relu\")(x)\n",
    "decoder_outputs = tf.keras.layers.Dense(units=50, activation=\"sigmoid\")(x)\n",
    "\n",
    "decoder = tf.keras.Model(latent_inputs, decoder_outputs, name=\"decoder\")\n",
    "decoder.summary()\n"
   ]
  },
  {
   "cell_type": "markdown",
   "metadata": {},
   "source": [
    "### Create model and train"
   ]
  },
  {
   "cell_type": "code",
   "execution_count": 12,
   "metadata": {
    "ExecuteTime": {
     "end_time": "2020-08-22T05:52:39.219182Z",
     "start_time": "2020-08-22T05:52:39.013329Z"
    }
   },
   "outputs": [
    {
     "data": {
      "text/plain": [
       "(30327, 50)"
      ]
     },
     "execution_count": 12,
     "metadata": {},
     "output_type": "execute_result"
    }
   ],
   "source": [
    "X_train.shape"
   ]
  },
  {
   "cell_type": "code",
   "execution_count": 13,
   "metadata": {
    "ExecuteTime": {
     "end_time": "2020-08-22T05:52:39.525231Z",
     "start_time": "2020-08-22T05:52:39.223195Z"
    }
   },
   "outputs": [],
   "source": [
    "vae = VAE(encoder, decoder)\n",
    "vae.compile(optimizer=tf.keras.optimizers.Adam())"
   ]
  },
  {
   "cell_type": "code",
   "execution_count": 14,
   "metadata": {
    "ExecuteTime": {
     "end_time": "2020-08-22T05:53:10.904980Z",
     "start_time": "2020-08-22T05:52:39.527656Z"
    }
   },
   "outputs": [
    {
     "name": "stdout",
     "output_type": "stream",
     "text": [
      "Epoch 1/30\n",
      "237/237 [==============================] - 1s 3ms/step - loss: 483.7693 - reconstruction_loss: 483.3413 - kl_loss: 0.4280\n",
      "Epoch 2/30\n",
      "237/237 [==============================] - 1s 3ms/step - loss: 480.0473 - reconstruction_loss: 479.6429 - kl_loss: 0.4045\n",
      "Epoch 3/30\n",
      "237/237 [==============================] - 1s 3ms/step - loss: 479.6017 - reconstruction_loss: 479.2876 - kl_loss: 0.3141\n",
      "Epoch 4/30\n",
      "237/237 [==============================] - 1s 4ms/step - loss: 479.4553 - reconstruction_loss: 479.1889 - kl_loss: 0.2663\n",
      "Epoch 5/30\n",
      "237/237 [==============================] - 1s 3ms/step - loss: 479.3266 - reconstruction_loss: 479.0886 - kl_loss: 0.2380\n",
      "Epoch 6/30\n",
      "237/237 [==============================] - 1s 4ms/step - loss: 479.1970 - reconstruction_loss: 478.9816 - kl_loss: 0.2154\n",
      "Epoch 7/30\n",
      "237/237 [==============================] - 1s 4ms/step - loss: 479.0506 - reconstruction_loss: 478.8543 - kl_loss: 0.1962\n",
      "Epoch 8/30\n",
      "237/237 [==============================] - 1s 4ms/step - loss: 478.9131 - reconstruction_loss: 478.7247 - kl_loss: 0.1884\n",
      "Epoch 9/30\n",
      "237/237 [==============================] - 1s 3ms/step - loss: 478.7614 - reconstruction_loss: 478.5701 - kl_loss: 0.1913\n",
      "Epoch 10/30\n",
      "237/237 [==============================] - 1s 4ms/step - loss: 478.6654 - reconstruction_loss: 478.4746 - kl_loss: 0.1909\n",
      "Epoch 11/30\n",
      "237/237 [==============================] - 1s 4ms/step - loss: 478.5958 - reconstruction_loss: 478.4076 - kl_loss: 0.1882\n",
      "Epoch 12/30\n",
      "237/237 [==============================] - 1s 4ms/step - loss: 478.5294 - reconstruction_loss: 478.3452 - kl_loss: 0.1842\n",
      "Epoch 13/30\n",
      "237/237 [==============================] - 1s 4ms/step - loss: 478.4547 - reconstruction_loss: 478.2727 - kl_loss: 0.1820\n",
      "Epoch 14/30\n",
      "237/237 [==============================] - 1s 4ms/step - loss: 478.3883 - reconstruction_loss: 478.2121 - kl_loss: 0.1762\n",
      "Epoch 15/30\n",
      "237/237 [==============================] - 1s 4ms/step - loss: 478.3311 - reconstruction_loss: 478.1598 - kl_loss: 0.1713\n",
      "Epoch 16/30\n",
      "237/237 [==============================] - 1s 3ms/step - loss: 478.2878 - reconstruction_loss: 478.1242 - kl_loss: 0.1635\n",
      "Epoch 17/30\n",
      "237/237 [==============================] - 1s 3ms/step - loss: 478.2463 - reconstruction_loss: 478.0889 - kl_loss: 0.1575\n",
      "Epoch 18/30\n",
      "237/237 [==============================] - 1s 3ms/step - loss: 478.2012 - reconstruction_loss: 478.0515 - kl_loss: 0.1498\n",
      "Epoch 19/30\n",
      "237/237 [==============================] - 1s 3ms/step - loss: 478.1622 - reconstruction_loss: 478.0198 - kl_loss: 0.1424\n",
      "Epoch 20/30\n",
      "237/237 [==============================] - 1s 4ms/step - loss: 478.1222 - reconstruction_loss: 477.9900 - kl_loss: 0.1323\n",
      "Epoch 21/30\n",
      "237/237 [==============================] - 1s 4ms/step - loss: 478.0948 - reconstruction_loss: 477.9717 - kl_loss: 0.1231\n",
      "Epoch 22/30\n",
      "237/237 [==============================] - 1s 4ms/step - loss: 478.0563 - reconstruction_loss: 477.9386 - kl_loss: 0.1177\n",
      "Epoch 23/30\n",
      "237/237 [==============================] - 1s 5ms/step - loss: 478.0308 - reconstruction_loss: 477.9156 - kl_loss: 0.1152\n",
      "Epoch 24/30\n",
      "237/237 [==============================] - 1s 6ms/step - loss: 478.0071 - reconstruction_loss: 477.8932 - kl_loss: 0.1139\n",
      "Epoch 25/30\n",
      "237/237 [==============================] - 1s 5ms/step - loss: 477.9886 - reconstruction_loss: 477.8753 - kl_loss: 0.1133\n",
      "Epoch 26/30\n",
      "237/237 [==============================] - 1s 4ms/step - loss: 477.9687 - reconstruction_loss: 477.8578 - kl_loss: 0.1109\n",
      "Epoch 27/30\n",
      "237/237 [==============================] - 1s 4ms/step - loss: 477.9432 - reconstruction_loss: 477.8324 - kl_loss: 0.1108\n",
      "Epoch 28/30\n",
      "237/237 [==============================] - 1s 5ms/step - loss: 477.9302 - reconstruction_loss: 477.8190 - kl_loss: 0.1113\n",
      "Epoch 29/30\n",
      "237/237 [==============================] - 1s 4ms/step - loss: 477.9104 - reconstruction_loss: 477.8006 - kl_loss: 0.1097\n",
      "Epoch 30/30\n",
      "237/237 [==============================] - 1s 3ms/step - loss: 477.8969 - reconstruction_loss: 477.7871 - kl_loss: 0.1098\n"
     ]
    },
    {
     "data": {
      "text/plain": [
       "<tensorflow.python.keras.callbacks.History at 0x7f2e74a9b588>"
      ]
     },
     "execution_count": 14,
     "metadata": {},
     "output_type": "execute_result"
    }
   ],
   "source": [
    "vae.fit(X_train, epochs=30, batch_size=128)"
   ]
  },
  {
   "cell_type": "code",
   "execution_count": 15,
   "metadata": {
    "ExecuteTime": {
     "end_time": "2020-08-22T05:53:11.174951Z",
     "start_time": "2020-08-22T05:53:10.908130Z"
    },
    "scrolled": false
   },
   "outputs": [],
   "source": [
    "# z = embedder.fit_transform(X_train_flat)"
   ]
  },
  {
   "cell_type": "code",
   "execution_count": 16,
   "metadata": {
    "ExecuteTime": {
     "end_time": "2020-08-22T05:53:13.206635Z",
     "start_time": "2020-08-22T05:53:11.177701Z"
    }
   },
   "outputs": [],
   "source": [
    "z = vae.encoder.predict(X_train)[0]"
   ]
  },
  {
   "cell_type": "markdown",
   "metadata": {},
   "source": [
    "### Plot model output"
   ]
  },
  {
   "cell_type": "code",
   "execution_count": 17,
   "metadata": {
    "ExecuteTime": {
     "end_time": "2020-08-22T05:53:13.417081Z",
     "start_time": "2020-08-22T05:53:13.209068Z"
    }
   },
   "outputs": [
    {
     "data": {
      "text/plain": [
       "array([10.,  7.,  0., ..., 10.,  2., 10.])"
      ]
     },
     "execution_count": 17,
     "metadata": {},
     "output_type": "execute_result"
    }
   ],
   "source": [
    "Y_train"
   ]
  },
  {
   "cell_type": "code",
   "execution_count": 18,
   "metadata": {
    "ExecuteTime": {
     "end_time": "2020-08-22T05:53:18.166846Z",
     "start_time": "2020-08-22T05:53:13.419340Z"
    }
   },
   "outputs": [
    {
     "data": {
      "image/png": "[encoded data removed]",
      "text/plain": [
       "<Figure size 576x576 with 2 Axes>"
      ]
     },
     "metadata": {
      "needs_background": "light"
     },
     "output_type": "display_data"
    }
   ],
   "source": [
    "fig, ax = plt.subplots( figsize=(8, 8))\n",
    "sc = ax.scatter(\n",
    "    z[:, 0],\n",
    "    z[:, 1],\n",
    "    c=Y_train.astype(int)[:len(z)].flatten(),\n",
    "    cmap=\"tab10\",\n",
    "    s=0.1,\n",
    "    alpha=0.5,\n",
    "    rasterized=True,\n",
    ")\n",
    "ax.axis('equal')\n",
    "ax.set_title(\"UMAP in Tensorflow embedding\", fontsize=20)\n",
    "plt.colorbar(sc, ax=ax);"
   ]
  },
  {
   "cell_type": "markdown",
   "metadata": {},
   "source": [
    "### View loss"
   ]
  },
  {
   "cell_type": "code",
   "execution_count": 19,
   "metadata": {
    "ExecuteTime": {
     "end_time": "2020-08-22T05:53:19.781299Z",
     "start_time": "2020-08-22T05:53:18.170377Z"
    }
   },
   "outputs": [],
   "source": [
    "from tfumap.umap import retrieve_tensors\n",
    "import seaborn as sns"
   ]
  },
  {
   "cell_type": "markdown",
   "metadata": {},
   "source": [
    "### Save output"
   ]
  },
  {
   "cell_type": "code",
   "execution_count": 59,
   "metadata": {
    "ExecuteTime": {
     "end_time": "2020-08-22T06:19:23.843937Z",
     "start_time": "2020-08-22T06:19:23.812081Z"
    }
   },
   "outputs": [],
   "source": [
    "from tfumap.paths import ensure_dir, MODEL_DIR"
   ]
  },
  {
   "cell_type": "code",
   "execution_count": 60,
   "metadata": {
    "ExecuteTime": {
     "end_time": "2020-08-22T06:19:23.900771Z",
     "start_time": "2020-08-22T06:19:23.845091Z"
    }
   },
   "outputs": [],
   "source": [
    "output_dir = MODEL_DIR/'projections'/ dataset / '64'/ 'vae'\n",
    "ensure_dir(output_dir)"
   ]
  },
  {
   "cell_type": "code",
   "execution_count": 61,
   "metadata": {
    "ExecuteTime": {
     "end_time": "2020-08-22T06:19:23.935787Z",
     "start_time": "2020-08-22T06:19:23.902577Z"
    }
   },
   "outputs": [],
   "source": [
    "#vae.save(output_dir)"
   ]
  },
  {
   "cell_type": "code",
   "execution_count": 62,
   "metadata": {
    "ExecuteTime": {
     "end_time": "2020-08-22T06:19:24.543187Z",
     "start_time": "2020-08-22T06:19:23.936809Z"
    }
   },
   "outputs": [
    {
     "name": "stderr",
     "output_type": "stream",
     "text": [
      "I0821 23:19:24.517724 139842244519744 builder_impl.py:775] Assets written to: /mnt/cube/tsainbur/Projects/github_repos/umap_tf_networks/models/projections/macosko2015/64/vae/encoder/assets\n"
     ]
    }
   ],
   "source": [
    "vae.encoder.save(output_dir / 'encoder')"
   ]
  },
  {
   "cell_type": "code",
   "execution_count": 63,
   "metadata": {
    "ExecuteTime": {
     "end_time": "2020-08-22T06:19:24.951432Z",
     "start_time": "2020-08-22T06:19:24.544310Z"
    }
   },
   "outputs": [
    {
     "name": "stderr",
     "output_type": "stream",
     "text": [
      "I0821 23:19:24.933554 139842244519744 builder_impl.py:775] Assets written to: /mnt/cube/tsainbur/Projects/github_repos/umap_tf_networks/models/projections/macosko2015/64/vae/encoder/assets\n"
     ]
    }
   ],
   "source": [
    "vae.decoder.save(output_dir / 'encoder')"
   ]
  },
  {
   "cell_type": "code",
   "execution_count": 64,
   "metadata": {
    "ExecuteTime": {
     "end_time": "2020-08-22T06:19:24.990339Z",
     "start_time": "2020-08-22T06:19:24.952988Z"
    }
   },
   "outputs": [],
   "source": [
    "#loss_df.to_pickle(output_dir / 'loss_df.pickle')"
   ]
  },
  {
   "cell_type": "code",
   "execution_count": 65,
   "metadata": {
    "ExecuteTime": {
     "end_time": "2020-08-22T06:19:25.040649Z",
     "start_time": "2020-08-22T06:19:24.993020Z"
    }
   },
   "outputs": [],
   "source": [
    "np.save(output_dir / 'z.npy', z)"
   ]
  },
  {
   "cell_type": "markdown",
   "metadata": {},
   "source": [
    "### compute metrics "
   ]
  },
  {
   "cell_type": "code",
   "execution_count": 27,
   "metadata": {
    "ExecuteTime": {
     "end_time": "2020-08-22T05:53:26.223187Z",
     "start_time": "2020-08-22T05:53:26.025488Z"
    }
   },
   "outputs": [
    {
     "data": {
      "text/plain": [
       "(4481, 50)"
      ]
     },
     "execution_count": 27,
     "metadata": {},
     "output_type": "execute_result"
    }
   ],
   "source": [
    "X_test.shape"
   ]
  },
  {
   "cell_type": "code",
   "execution_count": 28,
   "metadata": {
    "ExecuteTime": {
     "end_time": "2020-08-22T05:53:26.960077Z",
     "start_time": "2020-08-22T05:53:26.228077Z"
    }
   },
   "outputs": [],
   "source": [
    "z_test = encoder.predict(X_test.reshape((len(X_test), 50)))[0]"
   ]
  },
  {
   "cell_type": "markdown",
   "metadata": {},
   "source": [
    "#### silhouette"
   ]
  },
  {
   "cell_type": "code",
   "execution_count": 29,
   "metadata": {
    "ExecuteTime": {
     "end_time": "2020-08-22T05:53:27.106984Z",
     "start_time": "2020-08-22T05:53:26.964027Z"
    }
   },
   "outputs": [],
   "source": [
    "from tfumap.silhouette import silhouette_score_block"
   ]
  },
  {
   "cell_type": "code",
   "execution_count": 30,
   "metadata": {
    "ExecuteTime": {
     "end_time": "2020-08-22T05:53:55.665940Z",
     "start_time": "2020-08-22T05:53:27.110355Z"
    }
   },
   "outputs": [
    {
     "data": {
      "text/plain": [
       "0.3873419497697651"
      ]
     },
     "execution_count": 30,
     "metadata": {},
     "output_type": "execute_result"
    }
   ],
   "source": [
    "ss, sil_samp = silhouette_score_block(z, Y_train, n_jobs = -1)\n",
    "ss"
   ]
  },
  {
   "cell_type": "code",
   "execution_count": 31,
   "metadata": {
    "ExecuteTime": {
     "end_time": "2020-08-22T05:53:56.643422Z",
     "start_time": "2020-08-22T05:53:55.678578Z"
    }
   },
   "outputs": [
    {
     "data": {
      "text/plain": [
       "0.39415385039047773"
      ]
     },
     "execution_count": 31,
     "metadata": {},
     "output_type": "execute_result"
    }
   ],
   "source": [
    "ss_test, sil_samp_test = silhouette_score_block(z_test, Y_test, n_jobs = -1)\n",
    "ss_test"
   ]
  },
  {
   "cell_type": "code",
   "execution_count": 32,
   "metadata": {
    "ExecuteTime": {
     "end_time": "2020-08-22T05:53:59.985396Z",
     "start_time": "2020-08-22T05:53:56.644599Z"
    }
   },
   "outputs": [
    {
     "data": {
      "text/plain": [
       "<matplotlib.collections.PathCollection at 0x7f2e747bff28>"
      ]
     },
     "execution_count": 32,
     "metadata": {},
     "output_type": "execute_result"
    },
    {
     "data": {
      "image/png": "[encoded data removed]",
      "text/plain": [
       "<Figure size 720x360 with 2 Axes>"
      ]
     },
     "metadata": {
      "needs_background": "light"
     },
     "output_type": "display_data"
    }
   ],
   "source": [
    "fig, axs = plt.subplots(ncols = 2, figsize=(10, 5))\n",
    "axs[0].scatter(z[:, 0], z[:, 1], s=0.1, alpha=0.5, c=sil_samp, cmap=plt.cm.viridis)\n",
    "axs[1].scatter(z_test[:, 0], z_test[:, 1], s=1, alpha=0.5, c=sil_samp_test, cmap=plt.cm.viridis)"
   ]
  },
  {
   "cell_type": "markdown",
   "metadata": {},
   "source": [
    "#### KNN"
   ]
  },
  {
   "cell_type": "code",
   "execution_count": 33,
   "metadata": {
    "ExecuteTime": {
     "end_time": "2020-08-22T05:54:00.047828Z",
     "start_time": "2020-08-22T05:53:59.990716Z"
    }
   },
   "outputs": [],
   "source": [
    "from sklearn.neighbors import KNeighborsClassifier"
   ]
  },
  {
   "cell_type": "code",
   "execution_count": 34,
   "metadata": {
    "ExecuteTime": {
     "end_time": "2020-08-22T05:54:04.737380Z",
     "start_time": "2020-08-22T05:54:00.053251Z"
    }
   },
   "outputs": [
    {
     "data": {
      "text/plain": [
       "0.9770140593617496"
      ]
     },
     "execution_count": 34,
     "metadata": {},
     "output_type": "execute_result"
    }
   ],
   "source": [
    "neigh5 = KNeighborsClassifier(n_neighbors=5)\n",
    "neigh5.fit(z, Y_train)\n",
    "score_5nn = neigh5.score(z_test, Y_test)\n",
    "score_5nn"
   ]
  },
  {
   "cell_type": "code",
   "execution_count": 35,
   "metadata": {
    "ExecuteTime": {
     "end_time": "2020-08-22T05:54:08.601321Z",
     "start_time": "2020-08-22T05:54:04.739784Z"
    }
   },
   "outputs": [
    {
     "data": {
      "text/plain": [
       "0.9669716581120286"
      ]
     },
     "execution_count": 35,
     "metadata": {},
     "output_type": "execute_result"
    }
   ],
   "source": [
    "neigh1 = KNeighborsClassifier(n_neighbors=1)\n",
    "neigh1.fit(z, Y_train)\n",
    "score_1nn = neigh1.score(z_test, Y_test)\n",
    "score_1nn"
   ]
  },
  {
   "cell_type": "markdown",
   "metadata": {},
   "source": [
    "#### Trustworthiness"
   ]
  },
  {
   "cell_type": "code",
   "execution_count": 36,
   "metadata": {
    "ExecuteTime": {
     "end_time": "2020-08-22T05:54:08.648548Z",
     "start_time": "2020-08-22T05:54:08.602976Z"
    }
   },
   "outputs": [],
   "source": [
    "from sklearn.manifold import trustworthiness"
   ]
  },
  {
   "cell_type": "code",
   "execution_count": 37,
   "metadata": {
    "ExecuteTime": {
     "end_time": "2020-08-22T05:54:41.155488Z",
     "start_time": "2020-08-22T05:54:08.649915Z"
    }
   },
   "outputs": [],
   "source": [
    "tw = trustworthiness(X_train_flat[:10000], z[:10000])"
   ]
  },
  {
   "cell_type": "code",
   "execution_count": 38,
   "metadata": {
    "ExecuteTime": {
     "end_time": "2020-08-22T05:54:47.293252Z",
     "start_time": "2020-08-22T05:54:41.157140Z"
    }
   },
   "outputs": [],
   "source": [
    "tw_test = trustworthiness(X_test_flat[:10000], z_test[:10000])"
   ]
  },
  {
   "cell_type": "code",
   "execution_count": 39,
   "metadata": {
    "ExecuteTime": {
     "end_time": "2020-08-22T05:54:47.424173Z",
     "start_time": "2020-08-22T05:54:47.295799Z"
    }
   },
   "outputs": [
    {
     "data": {
      "text/plain": [
       "(0.9341802882305845, 0.9260655754308139)"
      ]
     },
     "execution_count": 39,
     "metadata": {},
     "output_type": "execute_result"
    }
   ],
   "source": [
    "tw, tw_test"
   ]
  },
  {
   "cell_type": "markdown",
   "metadata": {},
   "source": [
    "### Save output metrics"
   ]
  },
  {
   "cell_type": "code",
   "execution_count": 40,
   "metadata": {
    "ExecuteTime": {
     "end_time": "2020-08-22T05:54:47.509073Z",
     "start_time": "2020-08-22T05:54:47.425741Z"
    }
   },
   "outputs": [],
   "source": [
    "from tfumap.paths import ensure_dir, MODEL_DIR, DATA_DIR"
   ]
  },
  {
   "cell_type": "markdown",
   "metadata": {},
   "source": [
    "#### train"
   ]
  },
  {
   "cell_type": "code",
   "execution_count": 41,
   "metadata": {
    "ExecuteTime": {
     "end_time": "2020-08-22T05:54:47.689401Z",
     "start_time": "2020-08-22T05:54:47.511135Z"
    }
   },
   "outputs": [
    {
     "data": {
      "text/html": [
       "<div>\n",
       "<style scoped>\n",
       "    .dataframe tbody tr th:only-of-type {\n",
       "        vertical-align: middle;\n",
       "    }\n",
       "\n",
       "    .dataframe tbody tr th {\n",
       "        vertical-align: top;\n",
       "    }\n",
       "\n",
       "    .dataframe thead th {\n",
       "        text-align: right;\n",
       "    }\n",
       "</style>\n",
       "<table border=\"1\" class=\"dataframe\">\n",
       "  <thead>\n",
       "    <tr style=\"text-align: right;\">\n",
       "      <th></th>\n",
       "      <th>dataset</th>\n",
       "      <th>class_</th>\n",
       "      <th>dim</th>\n",
       "      <th>trustworthiness</th>\n",
       "      <th>silhouette_score</th>\n",
       "      <th>silhouette_samples</th>\n",
       "    </tr>\n",
       "  </thead>\n",
       "  <tbody>\n",
       "    <tr>\n",
       "      <th>0</th>\n",
       "      <td>macosko2015</td>\n",
       "      <td>vae</td>\n",
       "      <td>64</td>\n",
       "      <td>0.93418</td>\n",
       "      <td>0.387342</td>\n",
       "      <td>[0.36883589228294705, 0.4076033567200585, -0.0...</td>\n",
       "    </tr>\n",
       "  </tbody>\n",
       "</table>\n",
       "</div>"
      ],
      "text/plain": [
       "       dataset class_ dim  trustworthiness  silhouette_score  \\\n",
       "0  macosko2015    vae  64          0.93418          0.387342   \n",
       "\n",
       "                                  silhouette_samples  \n",
       "0  [0.36883589228294705, 0.4076033567200585, -0.0...  "
      ]
     },
     "execution_count": 41,
     "metadata": {},
     "output_type": "execute_result"
    }
   ],
   "source": [
    "metrics_df = pd.DataFrame(\n",
    "    columns=[\n",
    "        \"dataset\",\n",
    "        \"class_\",\n",
    "        \"dim\",\n",
    "        \"trustworthiness\",\n",
    "        \"silhouette_score\",\n",
    "        \"silhouette_samples\",\n",
    "    ]\n",
    ")\n",
    "metrics_df.loc[len(metrics_df)] = [dataset, 'vae', n_components, tw, ss, sil_samp]\n",
    "metrics_df"
   ]
  },
  {
   "cell_type": "code",
   "execution_count": 42,
   "metadata": {
    "ExecuteTime": {
     "end_time": "2020-08-22T05:54:47.858056Z",
     "start_time": "2020-08-22T05:54:47.690626Z"
    }
   },
   "outputs": [],
   "source": [
    "save_loc = DATA_DIR / 'projection_metrics' /  'vae' / 'train' / str(n_components) / (dataset + '.pickle')\n",
    "ensure_dir(save_loc)\n",
    "metrics_df.to_pickle(save_loc)"
   ]
  },
  {
   "cell_type": "markdown",
   "metadata": {},
   "source": [
    "#### test"
   ]
  },
  {
   "cell_type": "code",
   "execution_count": 43,
   "metadata": {
    "ExecuteTime": {
     "end_time": "2020-08-22T05:54:48.096951Z",
     "start_time": "2020-08-22T05:54:47.864165Z"
    }
   },
   "outputs": [
    {
     "data": {
      "text/html": [
       "<div>\n",
       "<style scoped>\n",
       "    .dataframe tbody tr th:only-of-type {\n",
       "        vertical-align: middle;\n",
       "    }\n",
       "\n",
       "    .dataframe tbody tr th {\n",
       "        vertical-align: top;\n",
       "    }\n",
       "\n",
       "    .dataframe thead th {\n",
       "        text-align: right;\n",
       "    }\n",
       "</style>\n",
       "<table border=\"1\" class=\"dataframe\">\n",
       "  <thead>\n",
       "    <tr style=\"text-align: right;\">\n",
       "      <th></th>\n",
       "      <th>dataset</th>\n",
       "      <th>class_</th>\n",
       "      <th>dim</th>\n",
       "      <th>trustworthiness</th>\n",
       "      <th>silhouette_score</th>\n",
       "      <th>silhouette_samples</th>\n",
       "    </tr>\n",
       "  </thead>\n",
       "  <tbody>\n",
       "    <tr>\n",
       "      <th>1</th>\n",
       "      <td>macosko2015</td>\n",
       "      <td>vae</td>\n",
       "      <td>64</td>\n",
       "      <td>0.926066</td>\n",
       "      <td>0.394154</td>\n",
       "      <td>[0.4816070376470057, -0.012686150953653592, 0....</td>\n",
       "    </tr>\n",
       "  </tbody>\n",
       "</table>\n",
       "</div>"
      ],
      "text/plain": [
       "       dataset class_ dim  trustworthiness  silhouette_score  \\\n",
       "1  macosko2015    vae  64         0.926066          0.394154   \n",
       "\n",
       "                                  silhouette_samples  \n",
       "1  [0.4816070376470057, -0.012686150953653592, 0....  "
      ]
     },
     "execution_count": 43,
     "metadata": {},
     "output_type": "execute_result"
    }
   ],
   "source": [
    "metrics_df_test = pd.DataFrame(\n",
    "    columns=[\n",
    "        \"dataset\",\n",
    "        \"class_\",\n",
    "        \"dim\",\n",
    "        \"trustworthiness\",\n",
    "        \"silhouette_score\",\n",
    "        \"silhouette_samples\",\n",
    "    ]\n",
    ")\n",
    "metrics_df_test.loc[len(metrics_df)] = [dataset, 'vae', n_components, tw_test, ss_test, sil_samp_test]\n",
    "metrics_df_test"
   ]
  },
  {
   "cell_type": "code",
   "execution_count": 44,
   "metadata": {
    "ExecuteTime": {
     "end_time": "2020-08-22T05:54:48.150765Z",
     "start_time": "2020-08-22T05:54:48.099091Z"
    }
   },
   "outputs": [],
   "source": [
    "save_loc = DATA_DIR / 'projection_metrics' / 'vae' / 'test' / str(n_components) / (dataset + '.pickle')\n",
    "ensure_dir(save_loc)\n",
    "metrics_df.to_pickle(save_loc)"
   ]
  },
  {
   "cell_type": "markdown",
   "metadata": {},
   "source": [
    "#### knn "
   ]
  },
  {
   "cell_type": "code",
   "execution_count": 45,
   "metadata": {
    "ExecuteTime": {
     "end_time": "2020-08-22T05:54:48.218316Z",
     "start_time": "2020-08-22T05:54:48.151974Z"
    }
   },
   "outputs": [
    {
     "data": {
      "text/html": [
       "<div>\n",
       "<style scoped>\n",
       "    .dataframe tbody tr th:only-of-type {\n",
       "        vertical-align: middle;\n",
       "    }\n",
       "\n",
       "    .dataframe tbody tr th {\n",
       "        vertical-align: top;\n",
       "    }\n",
       "\n",
       "    .dataframe thead th {\n",
       "        text-align: right;\n",
       "    }\n",
       "</style>\n",
       "<table border=\"1\" class=\"dataframe\">\n",
       "  <thead>\n",
       "    <tr style=\"text-align: right;\">\n",
       "      <th></th>\n",
       "      <th>method_</th>\n",
       "      <th>dimensions</th>\n",
       "      <th>dataset</th>\n",
       "      <th>1NN_acc</th>\n",
       "      <th>5NN_acc</th>\n",
       "    </tr>\n",
       "  </thead>\n",
       "  <tbody>\n",
       "    <tr>\n",
       "      <th>0</th>\n",
       "      <td>vae</td>\n",
       "      <td>64</td>\n",
       "      <td>macosko2015</td>\n",
       "      <td>0.966972</td>\n",
       "      <td>0.977014</td>\n",
       "    </tr>\n",
       "  </tbody>\n",
       "</table>\n",
       "</div>"
      ],
      "text/plain": [
       "  method_ dimensions      dataset   1NN_acc   5NN_acc\n",
       "0     vae         64  macosko2015  0.966972  0.977014"
      ]
     },
     "execution_count": 45,
     "metadata": {},
     "output_type": "execute_result"
    }
   ],
   "source": [
    "nn_acc_df = pd.DataFrame(columns = [\"method_\",\"dimensions\",\"dataset\",\"1NN_acc\",\"5NN_acc\"])\n",
    "nn_acc_df.loc[len(nn_acc_df)] = ['vae', n_components, dataset,  score_1nn, score_5nn]\n",
    "nn_acc_df"
   ]
  },
  {
   "cell_type": "code",
   "execution_count": 46,
   "metadata": {
    "ExecuteTime": {
     "end_time": "2020-08-22T05:54:48.356452Z",
     "start_time": "2020-08-22T05:54:48.219531Z"
    }
   },
   "outputs": [],
   "source": [
    "save_loc = DATA_DIR / 'knn_classifier' / 'vae' / 'train' / str(n_components) / (dataset + '.pickle')\n",
    "ensure_dir(save_loc)\n",
    "nn_acc_df.to_pickle(save_loc)"
   ]
  },
  {
   "cell_type": "markdown",
   "metadata": {},
   "source": [
    "### Reconstruction"
   ]
  },
  {
   "cell_type": "code",
   "execution_count": 47,
   "metadata": {
    "ExecuteTime": {
     "end_time": "2020-08-22T05:54:48.558093Z",
     "start_time": "2020-08-22T05:54:48.357765Z"
    }
   },
   "outputs": [],
   "source": [
    "from sklearn.metrics import mean_squared_error, mean_absolute_error, median_absolute_error, r2_score"
   ]
  },
  {
   "cell_type": "code",
   "execution_count": 48,
   "metadata": {
    "ExecuteTime": {
     "end_time": "2020-08-22T05:54:49.340876Z",
     "start_time": "2020-08-22T05:54:48.559704Z"
    }
   },
   "outputs": [],
   "source": [
    "X_recon = vae.decoder.predict(vae.encoder.predict(X_test.reshape((len(X_test), 50)))[0])\n",
    "X_real = X_test.reshape((len(X_test), 50))"
   ]
  },
  {
   "cell_type": "code",
   "execution_count": 49,
   "metadata": {
    "ExecuteTime": {
     "end_time": "2020-08-22T05:54:49.504980Z",
     "start_time": "2020-08-22T05:54:49.345653Z"
    }
   },
   "outputs": [],
   "source": [
    "x_real = X_test.reshape((len(X_test), np.product(np.shape(X_test)[1:])))\n",
    "x_recon = X_recon.reshape((len(X_test), np.product(np.shape(X_test)[1:])))"
   ]
  },
  {
   "cell_type": "code",
   "execution_count": 50,
   "metadata": {
    "ExecuteTime": {
     "end_time": "2020-08-22T05:54:49.634717Z",
     "start_time": "2020-08-22T05:54:49.507529Z"
    }
   },
   "outputs": [],
   "source": [
    "reconstruction_acc_df = pd.DataFrame(\n",
    "    columns=[\"method_\", \"dimensions\", \"dataset\", \"MSE\", \"MAE\", \"MedAE\", \"R2\"]\n",
    ")"
   ]
  },
  {
   "cell_type": "code",
   "execution_count": 57,
   "metadata": {
    "ExecuteTime": {
     "end_time": "2020-08-22T06:19:23.770515Z",
     "start_time": "2020-08-22T06:19:23.719045Z"
    }
   },
   "outputs": [
    {
     "data": {
      "text/html": [
       "<div>\n",
       "<style scoped>\n",
       "    .dataframe tbody tr th:only-of-type {\n",
       "        vertical-align: middle;\n",
       "    }\n",
       "\n",
       "    .dataframe tbody tr th {\n",
       "        vertical-align: top;\n",
       "    }\n",
       "\n",
       "    .dataframe thead th {\n",
       "        text-align: right;\n",
       "    }\n",
       "</style>\n",
       "<table border=\"1\" class=\"dataframe\">\n",
       "  <thead>\n",
       "    <tr style=\"text-align: right;\">\n",
       "      <th></th>\n",
       "      <th>method_</th>\n",
       "      <th>dimensions</th>\n",
       "      <th>dataset</th>\n",
       "      <th>MSE</th>\n",
       "      <th>MAE</th>\n",
       "      <th>MedAE</th>\n",
       "      <th>R2</th>\n",
       "    </tr>\n",
       "  </thead>\n",
       "  <tbody>\n",
       "    <tr>\n",
       "      <th>0</th>\n",
       "      <td>vae</td>\n",
       "      <td>2</td>\n",
       "      <td>macosko2015</td>\n",
       "      <td>0.000345</td>\n",
       "      <td>0.009504</td>\n",
       "      <td>0.005681</td>\n",
       "      <td>0.509231</td>\n",
       "    </tr>\n",
       "    <tr>\n",
       "      <th>1</th>\n",
       "      <td>vae</td>\n",
       "      <td>64</td>\n",
       "      <td>macosko2015</td>\n",
       "      <td>0.000345</td>\n",
       "      <td>0.009504</td>\n",
       "      <td>0.005681</td>\n",
       "      <td>0.509231</td>\n",
       "    </tr>\n",
       "  </tbody>\n",
       "</table>\n",
       "</div>"
      ],
      "text/plain": [
       "  method_ dimensions      dataset       MSE       MAE     MedAE        R2\n",
       "0     vae          2  macosko2015  0.000345  0.009504  0.005681  0.509231\n",
       "1     vae         64  macosko2015  0.000345  0.009504  0.005681  0.509231"
      ]
     },
     "execution_count": 57,
     "metadata": {},
     "output_type": "execute_result"
    }
   ],
   "source": [
    "MSE = mean_squared_error(\n",
    "    x_real, \n",
    "    x_recon\n",
    ")\n",
    "MAE = mean_absolute_error(\n",
    "    x_real, \n",
    "    x_recon\n",
    ")\n",
    "MedAE = median_absolute_error(\n",
    "    x_real, \n",
    "    x_recon\n",
    ")\n",
    "R2 = r2_score(\n",
    "    x_real, \n",
    "    x_recon\n",
    ")\n",
    "\n",
    "reconstruction_acc_df.loc[len(reconstruction_acc_df)] = ['vae', 64, dataset, MSE, MAE, MedAE, R2]\n",
    "reconstruction_acc_df"
   ]
  },
  {
   "cell_type": "code",
   "execution_count": 58,
   "metadata": {
    "ExecuteTime": {
     "end_time": "2020-08-22T06:19:23.810988Z",
     "start_time": "2020-08-22T06:19:23.771988Z"
    }
   },
   "outputs": [],
   "source": [
    "save_loc = DATA_DIR / 'reconstruction_acc' / 'vae' / str(n_components) / (dataset + '.pickle')\n",
    "ensure_dir(save_loc)\n",
    "reconstruction_acc_df.to_pickle(save_loc)"
   ]
  },
  {
   "cell_type": "markdown",
   "metadata": {},
   "source": [
    "### Compute clustering quality"
   ]
  },
  {
   "cell_type": "code",
   "execution_count": 53,
   "metadata": {
    "ExecuteTime": {
     "end_time": "2020-08-22T05:54:50.093513Z",
     "start_time": "2020-08-22T05:54:49.938143Z"
    }
   },
   "outputs": [],
   "source": [
    "from sklearn.cluster import KMeans\n",
    "from sklearn.metrics import homogeneity_completeness_v_measure"
   ]
  },
  {
   "cell_type": "code",
   "execution_count": 54,
   "metadata": {
    "ExecuteTime": {
     "end_time": "2020-08-22T05:54:50.230657Z",
     "start_time": "2020-08-22T05:54:50.097645Z"
    }
   },
   "outputs": [],
   "source": [
    "def get_cluster_metrics(row, n_init=5):\n",
    "    \n",
    "    # load cluster information\n",
    "    save_loc = DATA_DIR / 'clustering_metric_df'/ ('_'.join([row.class_, str(row.dim), row.dataset]) + '.pickle')\n",
    "    print(save_loc)\n",
    "    if save_loc.exists() and save_loc.is_file():\n",
    "        \n",
    "        cluster_df = pd.read_pickle(save_loc)\n",
    "        return cluster_df\n",
    "    \n",
    "    # make cluster metric dataframe\n",
    "    cluster_df = pd.DataFrame(\n",
    "        columns=[\n",
    "            \"dataset\",\n",
    "            \"class_\",\n",
    "            \"dim\",\n",
    "            \"silhouette\",\n",
    "            \"homogeneity\",\n",
    "            \"completeness\",\n",
    "            \"v_measure\",\n",
    "            \"init_\",\n",
    "            \"n_clusters\",\n",
    "            \"model\",\n",
    "        ]\n",
    "    )\n",
    "    y = row.train_label\n",
    "    z = row.train_z\n",
    "    n_labels = len(np.unique(y))\n",
    "    for n_clusters in tqdm(np.arange(n_labels - int(n_labels / 2), n_labels + int(n_labels / 2)), leave=False, desc = 'n_clusters'):\n",
    "        for init_ in tqdm(range(n_init), leave=False, desc='init'):\n",
    "            kmeans = KMeans(n_clusters=n_clusters, random_state=init_).fit(z)\n",
    "            clustered_y = kmeans.labels_\n",
    "            homogeneity, completeness, v_measure = homogeneity_completeness_v_measure(\n",
    "                y, clustered_y\n",
    "            )\n",
    "            ss, _ = silhouette_score_block(z, clustered_y)\n",
    "            cluster_df.loc[len(cluster_df)] = [\n",
    "                row.dataset,\n",
    "                row.class_,\n",
    "                row.dim,\n",
    "                ss,\n",
    "                homogeneity,\n",
    "                completeness,\n",
    "                v_measure,\n",
    "                init_,\n",
    "                n_clusters,\n",
    "                kmeans,\n",
    "            ]\n",
    "    \n",
    "     # save cluster df in case this fails somewhere\n",
    "    ensure_dir(save_loc)\n",
    "    cluster_df.to_pickle(save_loc)\n",
    "    return cluster_df"
   ]
  },
  {
   "cell_type": "code",
   "execution_count": 55,
   "metadata": {
    "ExecuteTime": {
     "end_time": "2020-08-22T05:54:50.657457Z",
     "start_time": "2020-08-22T05:54:50.235051Z"
    }
   },
   "outputs": [
    {
     "data": {
      "text/html": [
       "<div>\n",
       "<style scoped>\n",
       "    .dataframe tbody tr th:only-of-type {\n",
       "        vertical-align: middle;\n",
       "    }\n",
       "\n",
       "    .dataframe tbody tr th {\n",
       "        vertical-align: top;\n",
       "    }\n",
       "\n",
       "    .dataframe thead th {\n",
       "        text-align: right;\n",
       "    }\n",
       "</style>\n",
       "<table border=\"1\" class=\"dataframe\">\n",
       "  <thead>\n",
       "    <tr style=\"text-align: right;\">\n",
       "      <th></th>\n",
       "      <th>dataset</th>\n",
       "      <th>class_</th>\n",
       "      <th>train_z</th>\n",
       "      <th>train_label</th>\n",
       "      <th>dim</th>\n",
       "    </tr>\n",
       "  </thead>\n",
       "  <tbody>\n",
       "    <tr>\n",
       "      <th>0</th>\n",
       "      <td>macosko2015</td>\n",
       "      <td>vae</td>\n",
       "      <td>[[0.5538558, 0.018479256, 0.021293806, -0.0171...</td>\n",
       "      <td>[10.0, 7.0, 0.0, 10.0, 10.0, 10.0, 10.0, 10.0,...</td>\n",
       "      <td>64</td>\n",
       "    </tr>\n",
       "  </tbody>\n",
       "</table>\n",
       "</div>"
      ],
      "text/plain": [
       "       dataset class_                                            train_z  \\\n",
       "0  macosko2015    vae  [[0.5538558, 0.018479256, 0.021293806, -0.0171...   \n",
       "\n",
       "                                         train_label dim  \n",
       "0  [10.0, 7.0, 0.0, 10.0, 10.0, 10.0, 10.0, 10.0,...  64  "
      ]
     },
     "execution_count": 55,
     "metadata": {},
     "output_type": "execute_result"
    }
   ],
   "source": [
    "projection_df = pd.DataFrame(columns = ['dataset', 'class_', 'train_z', 'train_label', 'dim'])\n",
    "projection_df.loc[len(projection_df)] = [dataset, 'vae', z, Y_train.flatten(), n_components]\n",
    "projection_df"
   ]
  },
  {
   "cell_type": "code",
   "execution_count": 56,
   "metadata": {
    "ExecuteTime": {
     "end_time": "2020-08-22T06:19:22.799237Z",
     "start_time": "2020-08-22T05:54:50.659020Z"
    }
   },
   "outputs": [
    {
     "name": "stdout",
     "output_type": "stream",
     "text": [
      "/mnt/cube/tsainbur/Projects/github_repos/umap_tf_networks/data/clustering_metric_df/vae_64_macosko2015.pickle\n"
     ]
    },
    {
     "data": {
      "application/vnd.jupyter.widget-view+json": {
       "model_id": "",
       "version_major": 2,
       "version_minor": 0
      },
      "text/plain": [
       "HBox(children=(IntProgress(value=0, description='n_clusters', max=12, style=ProgressStyle(description_width='i…"
      ]
     },
     "metadata": {},
     "output_type": "display_data"
    },
    {
     "data": {
      "application/vnd.jupyter.widget-view+json": {
       "model_id": "",
       "version_major": 2,
       "version_minor": 0
      },
      "text/plain": [
       "HBox(children=(IntProgress(value=0, description='init', max=5, style=ProgressStyle(description_width='initial'…"
      ]
     },
     "metadata": {},
     "output_type": "display_data"
    },
    {
     "data": {
      "application/vnd.jupyter.widget-view+json": {
       "model_id": "",
       "version_major": 2,
       "version_minor": 0
      },
      "text/plain": [
       "HBox(children=(IntProgress(value=0, description='init', max=5, style=ProgressStyle(description_width='initial'…"
      ]
     },
     "metadata": {},
     "output_type": "display_data"
    },
    {
     "data": {
      "application/vnd.jupyter.widget-view+json": {
       "model_id": "",
       "version_major": 2,
       "version_minor": 0
      },
      "text/plain": [
       "HBox(children=(IntProgress(value=0, description='init', max=5, style=ProgressStyle(description_width='initial'…"
      ]
     },
     "metadata": {},
     "output_type": "display_data"
    },
    {
     "data": {
      "application/vnd.jupyter.widget-view+json": {
       "model_id": "",
       "version_major": 2,
       "version_minor": 0
      },
      "text/plain": [
       "HBox(children=(IntProgress(value=0, description='init', max=5, style=ProgressStyle(description_width='initial'…"
      ]
     },
     "metadata": {},
     "output_type": "display_data"
    },
    {
     "data": {
      "application/vnd.jupyter.widget-view+json": {
       "model_id": "",
       "version_major": 2,
       "version_minor": 0
      },
      "text/plain": [
       "HBox(children=(IntProgress(value=0, description='init', max=5, style=ProgressStyle(description_width='initial'…"
      ]
     },
     "metadata": {},
     "output_type": "display_data"
    },
    {
     "data": {
      "application/vnd.jupyter.widget-view+json": {
       "model_id": "",
       "version_major": 2,
       "version_minor": 0
      },
      "text/plain": [
       "HBox(children=(IntProgress(value=0, description='init', max=5, style=ProgressStyle(description_width='initial'…"
      ]
     },
     "metadata": {},
     "output_type": "display_data"
    },
    {
     "data": {
      "application/vnd.jupyter.widget-view+json": {
       "model_id": "",
       "version_major": 2,
       "version_minor": 0
      },
      "text/plain": [
       "HBox(children=(IntProgress(value=0, description='init', max=5, style=ProgressStyle(description_width='initial'…"
      ]
     },
     "metadata": {},
     "output_type": "display_data"
    },
    {
     "data": {
      "application/vnd.jupyter.widget-view+json": {
       "model_id": "",
       "version_major": 2,
       "version_minor": 0
      },
      "text/plain": [
       "HBox(children=(IntProgress(value=0, description='init', max=5, style=ProgressStyle(description_width='initial'…"
      ]
     },
     "metadata": {},
     "output_type": "display_data"
    },
    {
     "data": {
      "application/vnd.jupyter.widget-view+json": {
       "model_id": "",
       "version_major": 2,
       "version_minor": 0
      },
      "text/plain": [
       "HBox(children=(IntProgress(value=0, description='init', max=5, style=ProgressStyle(description_width='initial'…"
      ]
     },
     "metadata": {},
     "output_type": "display_data"
    },
    {
     "data": {
      "application/vnd.jupyter.widget-view+json": {
       "model_id": "",
       "version_major": 2,
       "version_minor": 0
      },
      "text/plain": [
       "HBox(children=(IntProgress(value=0, description='init', max=5, style=ProgressStyle(description_width='initial'…"
      ]
     },
     "metadata": {},
     "output_type": "display_data"
    },
    {
     "data": {
      "application/vnd.jupyter.widget-view+json": {
       "model_id": "",
       "version_major": 2,
       "version_minor": 0
      },
      "text/plain": [
       "HBox(children=(IntProgress(value=0, description='init', max=5, style=ProgressStyle(description_width='initial'…"
      ]
     },
     "metadata": {},
     "output_type": "display_data"
    },
    {
     "data": {
      "application/vnd.jupyter.widget-view+json": {
       "model_id": "",
       "version_major": 2,
       "version_minor": 0
      },
      "text/plain": [
       "HBox(children=(IntProgress(value=0, description='init', max=5, style=ProgressStyle(description_width='initial'…"
      ]
     },
     "metadata": {},
     "output_type": "display_data"
    },
    {
     "name": "stdout",
     "output_type": "stream",
     "text": [
      "\r"
     ]
    },
    {
     "data": {
      "text/html": [
       "<div>\n",
       "<style scoped>\n",
       "    .dataframe tbody tr th:only-of-type {\n",
       "        vertical-align: middle;\n",
       "    }\n",
       "\n",
       "    .dataframe tbody tr th {\n",
       "        vertical-align: top;\n",
       "    }\n",
       "\n",
       "    .dataframe thead th {\n",
       "        text-align: right;\n",
       "    }\n",
       "</style>\n",
       "<table border=\"1\" class=\"dataframe\">\n",
       "  <thead>\n",
       "    <tr style=\"text-align: right;\">\n",
       "      <th></th>\n",
       "      <th>dataset</th>\n",
       "      <th>class_</th>\n",
       "      <th>dim</th>\n",
       "      <th>silhouette</th>\n",
       "      <th>homogeneity</th>\n",
       "      <th>completeness</th>\n",
       "      <th>v_measure</th>\n",
       "      <th>init_</th>\n",
       "      <th>n_clusters</th>\n",
       "      <th>model</th>\n",
       "    </tr>\n",
       "  </thead>\n",
       "  <tbody>\n",
       "    <tr>\n",
       "      <th>0</th>\n",
       "      <td>macosko2015</td>\n",
       "      <td>vae</td>\n",
       "      <td>64</td>\n",
       "      <td>0.390035</td>\n",
       "      <td>0.587057</td>\n",
       "      <td>0.472790</td>\n",
       "      <td>0.523764</td>\n",
       "      <td>0</td>\n",
       "      <td>6</td>\n",
       "      <td>KMeans(n_clusters=6, random_state=0)</td>\n",
       "    </tr>\n",
       "    <tr>\n",
       "      <th>1</th>\n",
       "      <td>macosko2015</td>\n",
       "      <td>vae</td>\n",
       "      <td>64</td>\n",
       "      <td>0.389497</td>\n",
       "      <td>0.587596</td>\n",
       "      <td>0.472759</td>\n",
       "      <td>0.523959</td>\n",
       "      <td>1</td>\n",
       "      <td>6</td>\n",
       "      <td>KMeans(n_clusters=6, random_state=1)</td>\n",
       "    </tr>\n",
       "    <tr>\n",
       "      <th>2</th>\n",
       "      <td>macosko2015</td>\n",
       "      <td>vae</td>\n",
       "      <td>64</td>\n",
       "      <td>0.389506</td>\n",
       "      <td>0.587643</td>\n",
       "      <td>0.472806</td>\n",
       "      <td>0.524007</td>\n",
       "      <td>2</td>\n",
       "      <td>6</td>\n",
       "      <td>KMeans(n_clusters=6, random_state=2)</td>\n",
       "    </tr>\n",
       "    <tr>\n",
       "      <th>3</th>\n",
       "      <td>macosko2015</td>\n",
       "      <td>vae</td>\n",
       "      <td>64</td>\n",
       "      <td>0.388968</td>\n",
       "      <td>0.587770</td>\n",
       "      <td>0.472546</td>\n",
       "      <td>0.523898</td>\n",
       "      <td>3</td>\n",
       "      <td>6</td>\n",
       "      <td>KMeans(n_clusters=6, random_state=3)</td>\n",
       "    </tr>\n",
       "    <tr>\n",
       "      <th>4</th>\n",
       "      <td>macosko2015</td>\n",
       "      <td>vae</td>\n",
       "      <td>64</td>\n",
       "      <td>0.389825</td>\n",
       "      <td>0.587017</td>\n",
       "      <td>0.472625</td>\n",
       "      <td>0.523646</td>\n",
       "      <td>4</td>\n",
       "      <td>6</td>\n",
       "      <td>KMeans(n_clusters=6, random_state=4)</td>\n",
       "    </tr>\n",
       "    <tr>\n",
       "      <th>5</th>\n",
       "      <td>macosko2015</td>\n",
       "      <td>vae</td>\n",
       "      <td>64</td>\n",
       "      <td>0.396504</td>\n",
       "      <td>0.592107</td>\n",
       "      <td>0.450001</td>\n",
       "      <td>0.511365</td>\n",
       "      <td>0</td>\n",
       "      <td>7</td>\n",
       "      <td>KMeans(n_clusters=7, random_state=0)</td>\n",
       "    </tr>\n",
       "    <tr>\n",
       "      <th>6</th>\n",
       "      <td>macosko2015</td>\n",
       "      <td>vae</td>\n",
       "      <td>64</td>\n",
       "      <td>0.396120</td>\n",
       "      <td>0.597148</td>\n",
       "      <td>0.452519</td>\n",
       "      <td>0.514870</td>\n",
       "      <td>1</td>\n",
       "      <td>7</td>\n",
       "      <td>KMeans(n_clusters=7, random_state=1)</td>\n",
       "    </tr>\n",
       "    <tr>\n",
       "      <th>7</th>\n",
       "      <td>macosko2015</td>\n",
       "      <td>vae</td>\n",
       "      <td>64</td>\n",
       "      <td>0.396689</td>\n",
       "      <td>0.591907</td>\n",
       "      <td>0.450051</td>\n",
       "      <td>0.511322</td>\n",
       "      <td>2</td>\n",
       "      <td>7</td>\n",
       "      <td>KMeans(n_clusters=7, random_state=2)</td>\n",
       "    </tr>\n",
       "    <tr>\n",
       "      <th>8</th>\n",
       "      <td>macosko2015</td>\n",
       "      <td>vae</td>\n",
       "      <td>64</td>\n",
       "      <td>0.396659</td>\n",
       "      <td>0.591958</td>\n",
       "      <td>0.450060</td>\n",
       "      <td>0.511347</td>\n",
       "      <td>3</td>\n",
       "      <td>7</td>\n",
       "      <td>KMeans(n_clusters=7, random_state=3)</td>\n",
       "    </tr>\n",
       "    <tr>\n",
       "      <th>9</th>\n",
       "      <td>macosko2015</td>\n",
       "      <td>vae</td>\n",
       "      <td>64</td>\n",
       "      <td>0.396689</td>\n",
       "      <td>0.591907</td>\n",
       "      <td>0.450051</td>\n",
       "      <td>0.511322</td>\n",
       "      <td>4</td>\n",
       "      <td>7</td>\n",
       "      <td>KMeans(n_clusters=7, random_state=4)</td>\n",
       "    </tr>\n",
       "    <tr>\n",
       "      <th>10</th>\n",
       "      <td>macosko2015</td>\n",
       "      <td>vae</td>\n",
       "      <td>64</td>\n",
       "      <td>0.403784</td>\n",
       "      <td>0.630260</td>\n",
       "      <td>0.459178</td>\n",
       "      <td>0.531286</td>\n",
       "      <td>0</td>\n",
       "      <td>8</td>\n",
       "      <td>KMeans(random_state=0)</td>\n",
       "    </tr>\n",
       "    <tr>\n",
       "      <th>11</th>\n",
       "      <td>macosko2015</td>\n",
       "      <td>vae</td>\n",
       "      <td>64</td>\n",
       "      <td>0.403906</td>\n",
       "      <td>0.630090</td>\n",
       "      <td>0.459174</td>\n",
       "      <td>0.531223</td>\n",
       "      <td>1</td>\n",
       "      <td>8</td>\n",
       "      <td>KMeans(random_state=1)</td>\n",
       "    </tr>\n",
       "    <tr>\n",
       "      <th>12</th>\n",
       "      <td>macosko2015</td>\n",
       "      <td>vae</td>\n",
       "      <td>64</td>\n",
       "      <td>0.403835</td>\n",
       "      <td>0.629777</td>\n",
       "      <td>0.458846</td>\n",
       "      <td>0.530892</td>\n",
       "      <td>2</td>\n",
       "      <td>8</td>\n",
       "      <td>KMeans(random_state=2)</td>\n",
       "    </tr>\n",
       "    <tr>\n",
       "      <th>13</th>\n",
       "      <td>macosko2015</td>\n",
       "      <td>vae</td>\n",
       "      <td>64</td>\n",
       "      <td>0.404154</td>\n",
       "      <td>0.629907</td>\n",
       "      <td>0.459213</td>\n",
       "      <td>0.531184</td>\n",
       "      <td>3</td>\n",
       "      <td>8</td>\n",
       "      <td>KMeans(random_state=3)</td>\n",
       "    </tr>\n",
       "    <tr>\n",
       "      <th>14</th>\n",
       "      <td>macosko2015</td>\n",
       "      <td>vae</td>\n",
       "      <td>64</td>\n",
       "      <td>0.403886</td>\n",
       "      <td>0.629991</td>\n",
       "      <td>0.459095</td>\n",
       "      <td>0.531135</td>\n",
       "      <td>4</td>\n",
       "      <td>8</td>\n",
       "      <td>KMeans(random_state=4)</td>\n",
       "    </tr>\n",
       "    <tr>\n",
       "      <th>15</th>\n",
       "      <td>macosko2015</td>\n",
       "      <td>vae</td>\n",
       "      <td>64</td>\n",
       "      <td>0.408556</td>\n",
       "      <td>0.683830</td>\n",
       "      <td>0.472799</td>\n",
       "      <td>0.559063</td>\n",
       "      <td>0</td>\n",
       "      <td>9</td>\n",
       "      <td>KMeans(n_clusters=9, random_state=0)</td>\n",
       "    </tr>\n",
       "    <tr>\n",
       "      <th>16</th>\n",
       "      <td>macosko2015</td>\n",
       "      <td>vae</td>\n",
       "      <td>64</td>\n",
       "      <td>0.408559</td>\n",
       "      <td>0.683816</td>\n",
       "      <td>0.472789</td>\n",
       "      <td>0.559051</td>\n",
       "      <td>1</td>\n",
       "      <td>9</td>\n",
       "      <td>KMeans(n_clusters=9, random_state=1)</td>\n",
       "    </tr>\n",
       "    <tr>\n",
       "      <th>17</th>\n",
       "      <td>macosko2015</td>\n",
       "      <td>vae</td>\n",
       "      <td>64</td>\n",
       "      <td>0.408570</td>\n",
       "      <td>0.683594</td>\n",
       "      <td>0.472710</td>\n",
       "      <td>0.558922</td>\n",
       "      <td>2</td>\n",
       "      <td>9</td>\n",
       "      <td>KMeans(n_clusters=9, random_state=2)</td>\n",
       "    </tr>\n",
       "    <tr>\n",
       "      <th>18</th>\n",
       "      <td>macosko2015</td>\n",
       "      <td>vae</td>\n",
       "      <td>64</td>\n",
       "      <td>0.410705</td>\n",
       "      <td>0.707825</td>\n",
       "      <td>0.483472</td>\n",
       "      <td>0.574523</td>\n",
       "      <td>3</td>\n",
       "      <td>9</td>\n",
       "      <td>KMeans(n_clusters=9, random_state=3)</td>\n",
       "    </tr>\n",
       "    <tr>\n",
       "      <th>19</th>\n",
       "      <td>macosko2015</td>\n",
       "      <td>vae</td>\n",
       "      <td>64</td>\n",
       "      <td>0.408561</td>\n",
       "      <td>0.683656</td>\n",
       "      <td>0.472688</td>\n",
       "      <td>0.558927</td>\n",
       "      <td>4</td>\n",
       "      <td>9</td>\n",
       "      <td>KMeans(n_clusters=9, random_state=4)</td>\n",
       "    </tr>\n",
       "    <tr>\n",
       "      <th>20</th>\n",
       "      <td>macosko2015</td>\n",
       "      <td>vae</td>\n",
       "      <td>64</td>\n",
       "      <td>0.413739</td>\n",
       "      <td>0.711283</td>\n",
       "      <td>0.479426</td>\n",
       "      <td>0.572781</td>\n",
       "      <td>0</td>\n",
       "      <td>10</td>\n",
       "      <td>KMeans(n_clusters=10, random_state=0)</td>\n",
       "    </tr>\n",
       "    <tr>\n",
       "      <th>21</th>\n",
       "      <td>macosko2015</td>\n",
       "      <td>vae</td>\n",
       "      <td>64</td>\n",
       "      <td>0.413792</td>\n",
       "      <td>0.711273</td>\n",
       "      <td>0.479434</td>\n",
       "      <td>0.572783</td>\n",
       "      <td>1</td>\n",
       "      <td>10</td>\n",
       "      <td>KMeans(n_clusters=10, random_state=1)</td>\n",
       "    </tr>\n",
       "    <tr>\n",
       "      <th>22</th>\n",
       "      <td>macosko2015</td>\n",
       "      <td>vae</td>\n",
       "      <td>64</td>\n",
       "      <td>0.415628</td>\n",
       "      <td>0.718204</td>\n",
       "      <td>0.482559</td>\n",
       "      <td>0.577259</td>\n",
       "      <td>2</td>\n",
       "      <td>10</td>\n",
       "      <td>KMeans(n_clusters=10, random_state=2)</td>\n",
       "    </tr>\n",
       "    <tr>\n",
       "      <th>23</th>\n",
       "      <td>macosko2015</td>\n",
       "      <td>vae</td>\n",
       "      <td>64</td>\n",
       "      <td>0.415290</td>\n",
       "      <td>0.718415</td>\n",
       "      <td>0.482450</td>\n",
       "      <td>0.577250</td>\n",
       "      <td>3</td>\n",
       "      <td>10</td>\n",
       "      <td>KMeans(n_clusters=10, random_state=3)</td>\n",
       "    </tr>\n",
       "    <tr>\n",
       "      <th>24</th>\n",
       "      <td>macosko2015</td>\n",
       "      <td>vae</td>\n",
       "      <td>64</td>\n",
       "      <td>0.415543</td>\n",
       "      <td>0.718367</td>\n",
       "      <td>0.482382</td>\n",
       "      <td>0.577185</td>\n",
       "      <td>4</td>\n",
       "      <td>10</td>\n",
       "      <td>KMeans(n_clusters=10, random_state=4)</td>\n",
       "    </tr>\n",
       "    <tr>\n",
       "      <th>25</th>\n",
       "      <td>macosko2015</td>\n",
       "      <td>vae</td>\n",
       "      <td>64</td>\n",
       "      <td>0.417745</td>\n",
       "      <td>0.721864</td>\n",
       "      <td>0.481663</td>\n",
       "      <td>0.577794</td>\n",
       "      <td>0</td>\n",
       "      <td>11</td>\n",
       "      <td>KMeans(n_clusters=11, random_state=0)</td>\n",
       "    </tr>\n",
       "    <tr>\n",
       "      <th>26</th>\n",
       "      <td>macosko2015</td>\n",
       "      <td>vae</td>\n",
       "      <td>64</td>\n",
       "      <td>0.420948</td>\n",
       "      <td>0.745514</td>\n",
       "      <td>0.488381</td>\n",
       "      <td>0.590156</td>\n",
       "      <td>1</td>\n",
       "      <td>11</td>\n",
       "      <td>KMeans(n_clusters=11, random_state=1)</td>\n",
       "    </tr>\n",
       "    <tr>\n",
       "      <th>27</th>\n",
       "      <td>macosko2015</td>\n",
       "      <td>vae</td>\n",
       "      <td>64</td>\n",
       "      <td>0.420883</td>\n",
       "      <td>0.745457</td>\n",
       "      <td>0.488221</td>\n",
       "      <td>0.590021</td>\n",
       "      <td>2</td>\n",
       "      <td>11</td>\n",
       "      <td>KMeans(n_clusters=11, random_state=2)</td>\n",
       "    </tr>\n",
       "    <tr>\n",
       "      <th>28</th>\n",
       "      <td>macosko2015</td>\n",
       "      <td>vae</td>\n",
       "      <td>64</td>\n",
       "      <td>0.420971</td>\n",
       "      <td>0.745806</td>\n",
       "      <td>0.488589</td>\n",
       "      <td>0.590399</td>\n",
       "      <td>3</td>\n",
       "      <td>11</td>\n",
       "      <td>KMeans(n_clusters=11, random_state=3)</td>\n",
       "    </tr>\n",
       "    <tr>\n",
       "      <th>29</th>\n",
       "      <td>macosko2015</td>\n",
       "      <td>vae</td>\n",
       "      <td>64</td>\n",
       "      <td>0.420936</td>\n",
       "      <td>0.745059</td>\n",
       "      <td>0.488192</td>\n",
       "      <td>0.589875</td>\n",
       "      <td>4</td>\n",
       "      <td>11</td>\n",
       "      <td>KMeans(n_clusters=11, random_state=4)</td>\n",
       "    </tr>\n",
       "    <tr>\n",
       "      <th>30</th>\n",
       "      <td>macosko2015</td>\n",
       "      <td>vae</td>\n",
       "      <td>64</td>\n",
       "      <td>0.423546</td>\n",
       "      <td>0.748948</td>\n",
       "      <td>0.487807</td>\n",
       "      <td>0.590808</td>\n",
       "      <td>0</td>\n",
       "      <td>12</td>\n",
       "      <td>KMeans(n_clusters=12, random_state=0)</td>\n",
       "    </tr>\n",
       "    <tr>\n",
       "      <th>31</th>\n",
       "      <td>macosko2015</td>\n",
       "      <td>vae</td>\n",
       "      <td>64</td>\n",
       "      <td>0.377949</td>\n",
       "      <td>0.739014</td>\n",
       "      <td>0.430705</td>\n",
       "      <td>0.544228</td>\n",
       "      <td>1</td>\n",
       "      <td>12</td>\n",
       "      <td>KMeans(n_clusters=12, random_state=1)</td>\n",
       "    </tr>\n",
       "    <tr>\n",
       "      <th>32</th>\n",
       "      <td>macosko2015</td>\n",
       "      <td>vae</td>\n",
       "      <td>64</td>\n",
       "      <td>0.378113</td>\n",
       "      <td>0.738982</td>\n",
       "      <td>0.430700</td>\n",
       "      <td>0.544215</td>\n",
       "      <td>2</td>\n",
       "      <td>12</td>\n",
       "      <td>KMeans(n_clusters=12, random_state=2)</td>\n",
       "    </tr>\n",
       "    <tr>\n",
       "      <th>33</th>\n",
       "      <td>macosko2015</td>\n",
       "      <td>vae</td>\n",
       "      <td>64</td>\n",
       "      <td>0.377564</td>\n",
       "      <td>0.739751</td>\n",
       "      <td>0.430833</td>\n",
       "      <td>0.544530</td>\n",
       "      <td>3</td>\n",
       "      <td>12</td>\n",
       "      <td>KMeans(n_clusters=12, random_state=3)</td>\n",
       "    </tr>\n",
       "    <tr>\n",
       "      <th>34</th>\n",
       "      <td>macosko2015</td>\n",
       "      <td>vae</td>\n",
       "      <td>64</td>\n",
       "      <td>0.377762</td>\n",
       "      <td>0.739516</td>\n",
       "      <td>0.430824</td>\n",
       "      <td>0.544459</td>\n",
       "      <td>4</td>\n",
       "      <td>12</td>\n",
       "      <td>KMeans(n_clusters=12, random_state=4)</td>\n",
       "    </tr>\n",
       "    <tr>\n",
       "      <th>35</th>\n",
       "      <td>macosko2015</td>\n",
       "      <td>vae</td>\n",
       "      <td>64</td>\n",
       "      <td>0.379671</td>\n",
       "      <td>0.750636</td>\n",
       "      <td>0.431004</td>\n",
       "      <td>0.547590</td>\n",
       "      <td>0</td>\n",
       "      <td>13</td>\n",
       "      <td>KMeans(n_clusters=13, random_state=0)</td>\n",
       "    </tr>\n",
       "    <tr>\n",
       "      <th>36</th>\n",
       "      <td>macosko2015</td>\n",
       "      <td>vae</td>\n",
       "      <td>64</td>\n",
       "      <td>0.382415</td>\n",
       "      <td>0.753212</td>\n",
       "      <td>0.435798</td>\n",
       "      <td>0.552137</td>\n",
       "      <td>1</td>\n",
       "      <td>13</td>\n",
       "      <td>KMeans(n_clusters=13, random_state=1)</td>\n",
       "    </tr>\n",
       "    <tr>\n",
       "      <th>37</th>\n",
       "      <td>macosko2015</td>\n",
       "      <td>vae</td>\n",
       "      <td>64</td>\n",
       "      <td>0.382303</td>\n",
       "      <td>0.751502</td>\n",
       "      <td>0.434799</td>\n",
       "      <td>0.550876</td>\n",
       "      <td>2</td>\n",
       "      <td>13</td>\n",
       "      <td>KMeans(n_clusters=13, random_state=2)</td>\n",
       "    </tr>\n",
       "    <tr>\n",
       "      <th>38</th>\n",
       "      <td>macosko2015</td>\n",
       "      <td>vae</td>\n",
       "      <td>64</td>\n",
       "      <td>0.379249</td>\n",
       "      <td>0.742472</td>\n",
       "      <td>0.429379</td>\n",
       "      <td>0.544100</td>\n",
       "      <td>3</td>\n",
       "      <td>13</td>\n",
       "      <td>KMeans(n_clusters=13, random_state=3)</td>\n",
       "    </tr>\n",
       "    <tr>\n",
       "      <th>39</th>\n",
       "      <td>macosko2015</td>\n",
       "      <td>vae</td>\n",
       "      <td>64</td>\n",
       "      <td>0.379111</td>\n",
       "      <td>0.742668</td>\n",
       "      <td>0.429409</td>\n",
       "      <td>0.544176</td>\n",
       "      <td>4</td>\n",
       "      <td>13</td>\n",
       "      <td>KMeans(n_clusters=13, random_state=4)</td>\n",
       "    </tr>\n",
       "    <tr>\n",
       "      <th>40</th>\n",
       "      <td>macosko2015</td>\n",
       "      <td>vae</td>\n",
       "      <td>64</td>\n",
       "      <td>0.382527</td>\n",
       "      <td>0.753851</td>\n",
       "      <td>0.430292</td>\n",
       "      <td>0.547866</td>\n",
       "      <td>0</td>\n",
       "      <td>14</td>\n",
       "      <td>KMeans(n_clusters=14, random_state=0)</td>\n",
       "    </tr>\n",
       "    <tr>\n",
       "      <th>41</th>\n",
       "      <td>macosko2015</td>\n",
       "      <td>vae</td>\n",
       "      <td>64</td>\n",
       "      <td>0.386198</td>\n",
       "      <td>0.754376</td>\n",
       "      <td>0.434289</td>\n",
       "      <td>0.551235</td>\n",
       "      <td>1</td>\n",
       "      <td>14</td>\n",
       "      <td>KMeans(n_clusters=14, random_state=1)</td>\n",
       "    </tr>\n",
       "    <tr>\n",
       "      <th>42</th>\n",
       "      <td>macosko2015</td>\n",
       "      <td>vae</td>\n",
       "      <td>64</td>\n",
       "      <td>0.385575</td>\n",
       "      <td>0.754185</td>\n",
       "      <td>0.433759</td>\n",
       "      <td>0.550758</td>\n",
       "      <td>2</td>\n",
       "      <td>14</td>\n",
       "      <td>KMeans(n_clusters=14, random_state=2)</td>\n",
       "    </tr>\n",
       "    <tr>\n",
       "      <th>43</th>\n",
       "      <td>macosko2015</td>\n",
       "      <td>vae</td>\n",
       "      <td>64</td>\n",
       "      <td>0.380620</td>\n",
       "      <td>0.758537</td>\n",
       "      <td>0.430321</td>\n",
       "      <td>0.549123</td>\n",
       "      <td>3</td>\n",
       "      <td>14</td>\n",
       "      <td>KMeans(n_clusters=14, random_state=3)</td>\n",
       "    </tr>\n",
       "    <tr>\n",
       "      <th>44</th>\n",
       "      <td>macosko2015</td>\n",
       "      <td>vae</td>\n",
       "      <td>64</td>\n",
       "      <td>0.385266</td>\n",
       "      <td>0.755163</td>\n",
       "      <td>0.433994</td>\n",
       "      <td>0.551208</td>\n",
       "      <td>4</td>\n",
       "      <td>14</td>\n",
       "      <td>KMeans(n_clusters=14, random_state=4)</td>\n",
       "    </tr>\n",
       "    <tr>\n",
       "      <th>45</th>\n",
       "      <td>macosko2015</td>\n",
       "      <td>vae</td>\n",
       "      <td>64</td>\n",
       "      <td>0.383905</td>\n",
       "      <td>0.764041</td>\n",
       "      <td>0.432743</td>\n",
       "      <td>0.552536</td>\n",
       "      <td>0</td>\n",
       "      <td>15</td>\n",
       "      <td>KMeans(n_clusters=15, random_state=0)</td>\n",
       "    </tr>\n",
       "    <tr>\n",
       "      <th>46</th>\n",
       "      <td>macosko2015</td>\n",
       "      <td>vae</td>\n",
       "      <td>64</td>\n",
       "      <td>0.385517</td>\n",
       "      <td>0.773065</td>\n",
       "      <td>0.434842</td>\n",
       "      <td>0.556601</td>\n",
       "      <td>1</td>\n",
       "      <td>15</td>\n",
       "      <td>KMeans(n_clusters=15, random_state=1)</td>\n",
       "    </tr>\n",
       "    <tr>\n",
       "      <th>47</th>\n",
       "      <td>macosko2015</td>\n",
       "      <td>vae</td>\n",
       "      <td>64</td>\n",
       "      <td>0.383784</td>\n",
       "      <td>0.772864</td>\n",
       "      <td>0.433909</td>\n",
       "      <td>0.555784</td>\n",
       "      <td>2</td>\n",
       "      <td>15</td>\n",
       "      <td>KMeans(n_clusters=15, random_state=2)</td>\n",
       "    </tr>\n",
       "    <tr>\n",
       "      <th>48</th>\n",
       "      <td>macosko2015</td>\n",
       "      <td>vae</td>\n",
       "      <td>64</td>\n",
       "      <td>0.385491</td>\n",
       "      <td>0.772272</td>\n",
       "      <td>0.434558</td>\n",
       "      <td>0.556163</td>\n",
       "      <td>3</td>\n",
       "      <td>15</td>\n",
       "      <td>KMeans(n_clusters=15, random_state=3)</td>\n",
       "    </tr>\n",
       "    <tr>\n",
       "      <th>49</th>\n",
       "      <td>macosko2015</td>\n",
       "      <td>vae</td>\n",
       "      <td>64</td>\n",
       "      <td>0.388715</td>\n",
       "      <td>0.765640</td>\n",
       "      <td>0.437829</td>\n",
       "      <td>0.557088</td>\n",
       "      <td>4</td>\n",
       "      <td>15</td>\n",
       "      <td>KMeans(n_clusters=15, random_state=4)</td>\n",
       "    </tr>\n",
       "    <tr>\n",
       "      <th>50</th>\n",
       "      <td>macosko2015</td>\n",
       "      <td>vae</td>\n",
       "      <td>64</td>\n",
       "      <td>0.387257</td>\n",
       "      <td>0.782930</td>\n",
       "      <td>0.437257</td>\n",
       "      <td>0.561129</td>\n",
       "      <td>0</td>\n",
       "      <td>16</td>\n",
       "      <td>KMeans(n_clusters=16, random_state=0)</td>\n",
       "    </tr>\n",
       "    <tr>\n",
       "      <th>51</th>\n",
       "      <td>macosko2015</td>\n",
       "      <td>vae</td>\n",
       "      <td>64</td>\n",
       "      <td>0.387253</td>\n",
       "      <td>0.783002</td>\n",
       "      <td>0.437284</td>\n",
       "      <td>0.561170</td>\n",
       "      <td>1</td>\n",
       "      <td>16</td>\n",
       "      <td>KMeans(n_clusters=16, random_state=1)</td>\n",
       "    </tr>\n",
       "    <tr>\n",
       "      <th>52</th>\n",
       "      <td>macosko2015</td>\n",
       "      <td>vae</td>\n",
       "      <td>64</td>\n",
       "      <td>0.387257</td>\n",
       "      <td>0.782930</td>\n",
       "      <td>0.437257</td>\n",
       "      <td>0.561129</td>\n",
       "      <td>2</td>\n",
       "      <td>16</td>\n",
       "      <td>KMeans(n_clusters=16, random_state=2)</td>\n",
       "    </tr>\n",
       "    <tr>\n",
       "      <th>53</th>\n",
       "      <td>macosko2015</td>\n",
       "      <td>vae</td>\n",
       "      <td>64</td>\n",
       "      <td>0.387259</td>\n",
       "      <td>0.782994</td>\n",
       "      <td>0.437290</td>\n",
       "      <td>0.561173</td>\n",
       "      <td>3</td>\n",
       "      <td>16</td>\n",
       "      <td>KMeans(n_clusters=16, random_state=3)</td>\n",
       "    </tr>\n",
       "    <tr>\n",
       "      <th>54</th>\n",
       "      <td>macosko2015</td>\n",
       "      <td>vae</td>\n",
       "      <td>64</td>\n",
       "      <td>0.385337</td>\n",
       "      <td>0.783168</td>\n",
       "      <td>0.436417</td>\n",
       "      <td>0.560498</td>\n",
       "      <td>4</td>\n",
       "      <td>16</td>\n",
       "      <td>KMeans(n_clusters=16, random_state=4)</td>\n",
       "    </tr>\n",
       "    <tr>\n",
       "      <th>55</th>\n",
       "      <td>macosko2015</td>\n",
       "      <td>vae</td>\n",
       "      <td>64</td>\n",
       "      <td>0.385663</td>\n",
       "      <td>0.786190</td>\n",
       "      <td>0.430615</td>\n",
       "      <td>0.556449</td>\n",
       "      <td>0</td>\n",
       "      <td>17</td>\n",
       "      <td>KMeans(n_clusters=17, random_state=0)</td>\n",
       "    </tr>\n",
       "    <tr>\n",
       "      <th>56</th>\n",
       "      <td>macosko2015</td>\n",
       "      <td>vae</td>\n",
       "      <td>64</td>\n",
       "      <td>0.387157</td>\n",
       "      <td>0.789248</td>\n",
       "      <td>0.432675</td>\n",
       "      <td>0.558935</td>\n",
       "      <td>1</td>\n",
       "      <td>17</td>\n",
       "      <td>KMeans(n_clusters=17, random_state=1)</td>\n",
       "    </tr>\n",
       "    <tr>\n",
       "      <th>57</th>\n",
       "      <td>macosko2015</td>\n",
       "      <td>vae</td>\n",
       "      <td>64</td>\n",
       "      <td>0.381064</td>\n",
       "      <td>0.788966</td>\n",
       "      <td>0.432289</td>\n",
       "      <td>0.558543</td>\n",
       "      <td>2</td>\n",
       "      <td>17</td>\n",
       "      <td>KMeans(n_clusters=17, random_state=2)</td>\n",
       "    </tr>\n",
       "    <tr>\n",
       "      <th>58</th>\n",
       "      <td>macosko2015</td>\n",
       "      <td>vae</td>\n",
       "      <td>64</td>\n",
       "      <td>0.388319</td>\n",
       "      <td>0.782283</td>\n",
       "      <td>0.427490</td>\n",
       "      <td>0.552861</td>\n",
       "      <td>3</td>\n",
       "      <td>17</td>\n",
       "      <td>KMeans(n_clusters=17, random_state=3)</td>\n",
       "    </tr>\n",
       "    <tr>\n",
       "      <th>59</th>\n",
       "      <td>macosko2015</td>\n",
       "      <td>vae</td>\n",
       "      <td>64</td>\n",
       "      <td>0.385404</td>\n",
       "      <td>0.789218</td>\n",
       "      <td>0.431674</td>\n",
       "      <td>0.558092</td>\n",
       "      <td>4</td>\n",
       "      <td>17</td>\n",
       "      <td>KMeans(n_clusters=17, random_state=4)</td>\n",
       "    </tr>\n",
       "  </tbody>\n",
       "</table>\n",
       "</div>"
      ],
      "text/plain": [
       "        dataset class_ dim  silhouette  homogeneity  completeness  v_measure  \\\n",
       "0   macosko2015    vae  64    0.390035     0.587057      0.472790   0.523764   \n",
       "1   macosko2015    vae  64    0.389497     0.587596      0.472759   0.523959   \n",
       "2   macosko2015    vae  64    0.389506     0.587643      0.472806   0.524007   \n",
       "3   macosko2015    vae  64    0.388968     0.587770      0.472546   0.523898   \n",
       "4   macosko2015    vae  64    0.389825     0.587017      0.472625   0.523646   \n",
       "5   macosko2015    vae  64    0.396504     0.592107      0.450001   0.511365   \n",
       "6   macosko2015    vae  64    0.396120     0.597148      0.452519   0.514870   \n",
       "7   macosko2015    vae  64    0.396689     0.591907      0.450051   0.511322   \n",
       "8   macosko2015    vae  64    0.396659     0.591958      0.450060   0.511347   \n",
       "9   macosko2015    vae  64    0.396689     0.591907      0.450051   0.511322   \n",
       "10  macosko2015    vae  64    0.403784     0.630260      0.459178   0.531286   \n",
       "11  macosko2015    vae  64    0.403906     0.630090      0.459174   0.531223   \n",
       "12  macosko2015    vae  64    0.403835     0.629777      0.458846   0.530892   \n",
       "13  macosko2015    vae  64    0.404154     0.629907      0.459213   0.531184   \n",
       "14  macosko2015    vae  64    0.403886     0.629991      0.459095   0.531135   \n",
       "15  macosko2015    vae  64    0.408556     0.683830      0.472799   0.559063   \n",
       "16  macosko2015    vae  64    0.408559     0.683816      0.472789   0.559051   \n",
       "17  macosko2015    vae  64    0.408570     0.683594      0.472710   0.558922   \n",
       "18  macosko2015    vae  64    0.410705     0.707825      0.483472   0.574523   \n",
       "19  macosko2015    vae  64    0.408561     0.683656      0.472688   0.558927   \n",
       "20  macosko2015    vae  64    0.413739     0.711283      0.479426   0.572781   \n",
       "21  macosko2015    vae  64    0.413792     0.711273      0.479434   0.572783   \n",
       "22  macosko2015    vae  64    0.415628     0.718204      0.482559   0.577259   \n",
       "23  macosko2015    vae  64    0.415290     0.718415      0.482450   0.577250   \n",
       "24  macosko2015    vae  64    0.415543     0.718367      0.482382   0.577185   \n",
       "25  macosko2015    vae  64    0.417745     0.721864      0.481663   0.577794   \n",
       "26  macosko2015    vae  64    0.420948     0.745514      0.488381   0.590156   \n",
       "27  macosko2015    vae  64    0.420883     0.745457      0.488221   0.590021   \n",
       "28  macosko2015    vae  64    0.420971     0.745806      0.488589   0.590399   \n",
       "29  macosko2015    vae  64    0.420936     0.745059      0.488192   0.589875   \n",
       "30  macosko2015    vae  64    0.423546     0.748948      0.487807   0.590808   \n",
       "31  macosko2015    vae  64    0.377949     0.739014      0.430705   0.544228   \n",
       "32  macosko2015    vae  64    0.378113     0.738982      0.430700   0.544215   \n",
       "33  macosko2015    vae  64    0.377564     0.739751      0.430833   0.544530   \n",
       "34  macosko2015    vae  64    0.377762     0.739516      0.430824   0.544459   \n",
       "35  macosko2015    vae  64    0.379671     0.750636      0.431004   0.547590   \n",
       "36  macosko2015    vae  64    0.382415     0.753212      0.435798   0.552137   \n",
       "37  macosko2015    vae  64    0.382303     0.751502      0.434799   0.550876   \n",
       "38  macosko2015    vae  64    0.379249     0.742472      0.429379   0.544100   \n",
       "39  macosko2015    vae  64    0.379111     0.742668      0.429409   0.544176   \n",
       "40  macosko2015    vae  64    0.382527     0.753851      0.430292   0.547866   \n",
       "41  macosko2015    vae  64    0.386198     0.754376      0.434289   0.551235   \n",
       "42  macosko2015    vae  64    0.385575     0.754185      0.433759   0.550758   \n",
       "43  macosko2015    vae  64    0.380620     0.758537      0.430321   0.549123   \n",
       "44  macosko2015    vae  64    0.385266     0.755163      0.433994   0.551208   \n",
       "45  macosko2015    vae  64    0.383905     0.764041      0.432743   0.552536   \n",
       "46  macosko2015    vae  64    0.385517     0.773065      0.434842   0.556601   \n",
       "47  macosko2015    vae  64    0.383784     0.772864      0.433909   0.555784   \n",
       "48  macosko2015    vae  64    0.385491     0.772272      0.434558   0.556163   \n",
       "49  macosko2015    vae  64    0.388715     0.765640      0.437829   0.557088   \n",
       "50  macosko2015    vae  64    0.387257     0.782930      0.437257   0.561129   \n",
       "51  macosko2015    vae  64    0.387253     0.783002      0.437284   0.561170   \n",
       "52  macosko2015    vae  64    0.387257     0.782930      0.437257   0.561129   \n",
       "53  macosko2015    vae  64    0.387259     0.782994      0.437290   0.561173   \n",
       "54  macosko2015    vae  64    0.385337     0.783168      0.436417   0.560498   \n",
       "55  macosko2015    vae  64    0.385663     0.786190      0.430615   0.556449   \n",
       "56  macosko2015    vae  64    0.387157     0.789248      0.432675   0.558935   \n",
       "57  macosko2015    vae  64    0.381064     0.788966      0.432289   0.558543   \n",
       "58  macosko2015    vae  64    0.388319     0.782283      0.427490   0.552861   \n",
       "59  macosko2015    vae  64    0.385404     0.789218      0.431674   0.558092   \n",
       "\n",
       "   init_ n_clusters                                  model  \n",
       "0      0          6   KMeans(n_clusters=6, random_state=0)  \n",
       "1      1          6   KMeans(n_clusters=6, random_state=1)  \n",
       "2      2          6   KMeans(n_clusters=6, random_state=2)  \n",
       "3      3          6   KMeans(n_clusters=6, random_state=3)  \n",
       "4      4          6   KMeans(n_clusters=6, random_state=4)  \n",
       "5      0          7   KMeans(n_clusters=7, random_state=0)  \n",
       "6      1          7   KMeans(n_clusters=7, random_state=1)  \n",
       "7      2          7   KMeans(n_clusters=7, random_state=2)  \n",
       "8      3          7   KMeans(n_clusters=7, random_state=3)  \n",
       "9      4          7   KMeans(n_clusters=7, random_state=4)  \n",
       "10     0          8                 KMeans(random_state=0)  \n",
       "11     1          8                 KMeans(random_state=1)  \n",
       "12     2          8                 KMeans(random_state=2)  \n",
       "13     3          8                 KMeans(random_state=3)  \n",
       "14     4          8                 KMeans(random_state=4)  \n",
       "15     0          9   KMeans(n_clusters=9, random_state=0)  \n",
       "16     1          9   KMeans(n_clusters=9, random_state=1)  \n",
       "17     2          9   KMeans(n_clusters=9, random_state=2)  \n",
       "18     3          9   KMeans(n_clusters=9, random_state=3)  \n",
       "19     4          9   KMeans(n_clusters=9, random_state=4)  \n",
       "20     0         10  KMeans(n_clusters=10, random_state=0)  \n",
       "21     1         10  KMeans(n_clusters=10, random_state=1)  \n",
       "22     2         10  KMeans(n_clusters=10, random_state=2)  \n",
       "23     3         10  KMeans(n_clusters=10, random_state=3)  \n",
       "24     4         10  KMeans(n_clusters=10, random_state=4)  \n",
       "25     0         11  KMeans(n_clusters=11, random_state=0)  \n",
       "26     1         11  KMeans(n_clusters=11, random_state=1)  \n",
       "27     2         11  KMeans(n_clusters=11, random_state=2)  \n",
       "28     3         11  KMeans(n_clusters=11, random_state=3)  \n",
       "29     4         11  KMeans(n_clusters=11, random_state=4)  \n",
       "30     0         12  KMeans(n_clusters=12, random_state=0)  \n",
       "31     1         12  KMeans(n_clusters=12, random_state=1)  \n",
       "32     2         12  KMeans(n_clusters=12, random_state=2)  \n",
       "33     3         12  KMeans(n_clusters=12, random_state=3)  \n",
       "34     4         12  KMeans(n_clusters=12, random_state=4)  \n",
       "35     0         13  KMeans(n_clusters=13, random_state=0)  \n",
       "36     1         13  KMeans(n_clusters=13, random_state=1)  \n",
       "37     2         13  KMeans(n_clusters=13, random_state=2)  \n",
       "38     3         13  KMeans(n_clusters=13, random_state=3)  \n",
       "39     4         13  KMeans(n_clusters=13, random_state=4)  \n",
       "40     0         14  KMeans(n_clusters=14, random_state=0)  \n",
       "41     1         14  KMeans(n_clusters=14, random_state=1)  \n",
       "42     2         14  KMeans(n_clusters=14, random_state=2)  \n",
       "43     3         14  KMeans(n_clusters=14, random_state=3)  \n",
       "44     4         14  KMeans(n_clusters=14, random_state=4)  \n",
       "45     0         15  KMeans(n_clusters=15, random_state=0)  \n",
       "46     1         15  KMeans(n_clusters=15, random_state=1)  \n",
       "47     2         15  KMeans(n_clusters=15, random_state=2)  \n",
       "48     3         15  KMeans(n_clusters=15, random_state=3)  \n",
       "49     4         15  KMeans(n_clusters=15, random_state=4)  \n",
       "50     0         16  KMeans(n_clusters=16, random_state=0)  \n",
       "51     1         16  KMeans(n_clusters=16, random_state=1)  \n",
       "52     2         16  KMeans(n_clusters=16, random_state=2)  \n",
       "53     3         16  KMeans(n_clusters=16, random_state=3)  \n",
       "54     4         16  KMeans(n_clusters=16, random_state=4)  \n",
       "55     0         17  KMeans(n_clusters=17, random_state=0)  \n",
       "56     1         17  KMeans(n_clusters=17, random_state=1)  \n",
       "57     2         17  KMeans(n_clusters=17, random_state=2)  \n",
       "58     3         17  KMeans(n_clusters=17, random_state=3)  \n",
       "59     4         17  KMeans(n_clusters=17, random_state=4)  "
      ]
     },
     "execution_count": 56,
     "metadata": {},
     "output_type": "execute_result"
    }
   ],
   "source": [
    "get_cluster_metrics(projection_df.iloc[0], n_init=5)"
   ]
  },
  {
   "cell_type": "code",
   "execution_count": null,
   "metadata": {},
   "outputs": [],
   "source": []
  },
  {
   "cell_type": "code",
   "execution_count": null,
   "metadata": {},
   "outputs": [],
   "source": []
  },
  {
   "cell_type": "code",
   "execution_count": null,
   "metadata": {},
   "outputs": [],
   "source": []
  },
  {
   "cell_type": "code",
   "execution_count": null,
   "metadata": {},
   "outputs": [],
   "source": []
  },
  {
   "cell_type": "code",
   "execution_count": null,
   "metadata": {},
   "outputs": [],
   "source": []
  },
  {
   "cell_type": "code",
   "execution_count": null,
   "metadata": {},
   "outputs": [],
   "source": []
  },
  {
   "cell_type": "code",
   "execution_count": null,
   "metadata": {},
   "outputs": [],
   "source": []
  }
 ],
 "metadata": {
  "kernelspec": {
   "display_name": "Python 3",
   "language": "python",
   "name": "python3"
  },
  "language_info": {
   "codemirror_mode": {
    "name": "ipython",
    "version": 3
   },
   "file_extension": ".py",
   "mimetype": "text/x-python",
   "name": "python",
   "nbconvert_exporter": "python",
   "pygments_lexer": "ipython3",
   "version": "3.6.7"
  }
 },
 "nbformat": 4,
 "nbformat_minor": 2
}
