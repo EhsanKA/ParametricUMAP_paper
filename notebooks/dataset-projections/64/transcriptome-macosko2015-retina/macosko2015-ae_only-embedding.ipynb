{
 "cells": [
  {
   "cell_type": "code",
   "execution_count": 1,
   "metadata": {
    "ExecuteTime": {
     "end_time": "2020-08-22T05:54:49.306233Z",
     "start_time": "2020-08-22T05:54:49.271009Z"
    }
   },
   "outputs": [],
   "source": [
    "# reload packages\n",
    "%load_ext autoreload\n",
    "%autoreload 2"
   ]
  },
  {
   "cell_type": "markdown",
   "metadata": {},
   "source": [
    "### Choose GPU (this may not be needed on your computer)"
   ]
  },
  {
   "cell_type": "code",
   "execution_count": 2,
   "metadata": {
    "ExecuteTime": {
     "end_time": "2020-08-22T05:54:49.347323Z",
     "start_time": "2020-08-22T05:54:49.309846Z"
    }
   },
   "outputs": [
    {
     "name": "stdout",
     "output_type": "stream",
     "text": [
      "env: CUDA_DEVICE_ORDER=PCI_BUS_ID\n",
      "env: CUDA_VISIBLE_DEVICES=0\n"
     ]
    }
   ],
   "source": [
    "%env CUDA_DEVICE_ORDER=PCI_BUS_ID\n",
    "%env CUDA_VISIBLE_DEVICES=0"
   ]
  },
  {
   "cell_type": "code",
   "execution_count": 3,
   "metadata": {
    "ExecuteTime": {
     "end_time": "2020-08-22T05:55:00.445582Z",
     "start_time": "2020-08-22T05:54:49.353241Z"
    }
   },
   "outputs": [
    {
     "name": "stdout",
     "output_type": "stream",
     "text": [
      "[PhysicalDevice(name='/physical_device:GPU:0', device_type='GPU')]\n"
     ]
    }
   ],
   "source": [
    "import tensorflow as tf\n",
    "gpu_devices = tf.config.experimental.list_physical_devices('GPU')\n",
    "if len(gpu_devices)>0:\n",
    "    tf.config.experimental.set_memory_growth(gpu_devices[0], True)\n",
    "print(gpu_devices)\n",
    "tf.keras.backend.clear_session()"
   ]
  },
  {
   "cell_type": "markdown",
   "metadata": {},
   "source": [
    "### load packages"
   ]
  },
  {
   "cell_type": "code",
   "execution_count": 4,
   "metadata": {
    "ExecuteTime": {
     "end_time": "2020-08-22T05:55:17.576428Z",
     "start_time": "2020-08-22T05:55:00.450112Z"
    }
   },
   "outputs": [
    {
     "name": "stderr",
     "output_type": "stream",
     "text": [
      "/mnt/cube/tsainbur/conda_envs/tpy3/lib/python3.6/site-packages/tqdm/autonotebook/__init__.py:14: TqdmExperimentalWarning: Using `tqdm.autonotebook.tqdm` in notebook mode. Use `tqdm.tqdm` instead to force console mode (e.g. in jupyter console)\n",
      "  \" (e.g. in jupyter console)\", TqdmExperimentalWarning)\n"
     ]
    }
   ],
   "source": [
    "from tfumap.umap import tfUMAP"
   ]
  },
  {
   "cell_type": "code",
   "execution_count": 5,
   "metadata": {
    "ExecuteTime": {
     "end_time": "2020-08-22T05:55:18.309861Z",
     "start_time": "2020-08-22T05:55:17.588340Z"
    }
   },
   "outputs": [],
   "source": [
    "import tensorflow as tf\n",
    "import numpy as np\n",
    "import matplotlib.pyplot as plt\n",
    "from tqdm.autonotebook import tqdm\n",
    "import umap\n",
    "import pandas as pd"
   ]
  },
  {
   "cell_type": "markdown",
   "metadata": {},
   "source": [
    "### Load dataset"
   ]
  },
  {
   "cell_type": "code",
   "execution_count": 6,
   "metadata": {
    "ExecuteTime": {
     "end_time": "2020-08-22T05:55:18.498085Z",
     "start_time": "2020-08-22T05:55:18.318006Z"
    }
   },
   "outputs": [],
   "source": [
    "dataset = 'macosko2015'\n",
    "dims = (50)\n",
    "n_components = 2"
   ]
  },
  {
   "cell_type": "code",
   "execution_count": 7,
   "metadata": {
    "ExecuteTime": {
     "end_time": "2020-08-22T05:55:18.685873Z",
     "start_time": "2020-08-22T05:55:18.529036Z"
    }
   },
   "outputs": [],
   "source": [
    "from tfumap.paths import ensure_dir, MODEL_DIR, DATA_DIR"
   ]
  },
  {
   "cell_type": "code",
   "execution_count": 8,
   "metadata": {
    "ExecuteTime": {
     "end_time": "2020-08-22T05:55:19.659506Z",
     "start_time": "2020-08-22T05:55:18.689861Z"
    }
   },
   "outputs": [
    {
     "name": "stdout",
     "output_type": "stream",
     "text": [
      "Data set contains 44808 samples with 50 features\n"
     ]
    }
   ],
   "source": [
    "import gzip\n",
    "import pickle\n",
    "\n",
    "with gzip.open(DATA_DIR / 'macosko_2015.pkl.gz', \"rb\") as f:\n",
    "    data = pickle.load(f)\n",
    "\n",
    "x = data[\"pca_50\"]\n",
    "y = data[\"CellType1\"].astype(str)\n",
    "\n",
    "def zero_one_norm(x):\n",
    "    return (x- np.min(x, axis=0))/ (np.max(x, axis=0)-np.min(x, axis=0))\n",
    "\n",
    "x_norm = zero_one_norm(x)\n",
    "\n",
    "print(\"Data set contains %d samples with %d features\" % x.shape)\n",
    "\n",
    "from sklearn.model_selection import train_test_split\n",
    "\n",
    "X_train, X_test, Y_train, Y_test = train_test_split(x_norm, y, test_size=.1, random_state=42)\n",
    "\n",
    "n_valid = 10000\n",
    "X_valid = X_train[-n_valid:]\n",
    "Y_valid = Y_train[-n_valid:]\n",
    "X_train = X_train[:-n_valid]\n",
    "Y_train = Y_train[:-n_valid]\n",
    "\n",
    "X_train_flat = X_train\n",
    "X_test_flat = X_test\n",
    "\n",
    "from sklearn.preprocessing import OrdinalEncoder\n",
    "enc = OrdinalEncoder()\n",
    "\n",
    "Y_train = enc.fit_transform([[i] for i in Y_train]).flatten()\n",
    "Y_test = enc.fit_transform([[i] for i in Y_test]).flatten()"
   ]
  },
  {
   "cell_type": "markdown",
   "metadata": {},
   "source": [
    "### define networks"
   ]
  },
  {
   "cell_type": "code",
   "execution_count": 9,
   "metadata": {
    "ExecuteTime": {
     "end_time": "2020-08-22T05:55:22.890734Z",
     "start_time": "2020-08-22T05:55:19.664485Z"
    }
   },
   "outputs": [],
   "source": [
    "encoder = tf.keras.Sequential()\n",
    "encoder.add(tf.keras.layers.InputLayer(input_shape=dims))\n",
    "encoder.add(tf.keras.layers.Flatten())\n",
    "encoder.add(tf.keras.layers.Dense(units=100, activation=\"relu\"))\n",
    "encoder.add(tf.keras.layers.Dense(units=100, activation=\"relu\"))\n",
    "encoder.add(tf.keras.layers.Dense(units=100, activation=\"relu\"))\n",
    "encoder.add(\n",
    "    tf.keras.layers.Dense(units=n_components, name=\"z\")\n",
    ")"
   ]
  },
  {
   "cell_type": "code",
   "execution_count": 10,
   "metadata": {
    "ExecuteTime": {
     "end_time": "2020-08-22T05:55:23.211945Z",
     "start_time": "2020-08-22T05:55:22.892946Z"
    }
   },
   "outputs": [],
   "source": [
    "decoder = tf.keras.Sequential([\n",
    "    tf.keras.layers.InputLayer(input_shape=(n_components)),\n",
    "    tf.keras.layers.Dense(units=100, activation=\"relu\"),\n",
    "    tf.keras.layers.Dense(units=100, activation=\"relu\"),\n",
    "    tf.keras.layers.Dense(units=100, activation=\"relu\"),\n",
    "    tf.keras.layers.Dense(units=50, activation=\"sigmoid\"),\n",
    "])"
   ]
  },
  {
   "cell_type": "code",
   "execution_count": 11,
   "metadata": {
    "ExecuteTime": {
     "end_time": "2020-08-22T05:55:23.443967Z",
     "start_time": "2020-08-22T05:55:23.217649Z"
    }
   },
   "outputs": [],
   "source": [
    "input_img = tf.keras.Input(dims)\n",
    "output_img = decoder(encoder(input_img))\n",
    "autoencoder = tf.keras.Model(input_img, output_img)"
   ]
  },
  {
   "cell_type": "code",
   "execution_count": 12,
   "metadata": {
    "ExecuteTime": {
     "end_time": "2020-08-22T05:55:23.673289Z",
     "start_time": "2020-08-22T05:55:23.446976Z"
    }
   },
   "outputs": [],
   "source": [
    "autoencoder.compile(optimizer='adam', loss='binary_crossentropy')"
   ]
  },
  {
   "cell_type": "code",
   "execution_count": 13,
   "metadata": {
    "ExecuteTime": {
     "end_time": "2020-08-22T05:55:46.637537Z",
     "start_time": "2020-08-22T05:55:23.677368Z"
    },
    "scrolled": true
   },
   "outputs": [
    {
     "name": "stdout",
     "output_type": "stream",
     "text": [
      "Epoch 1/50\n",
      "119/119 [==============================] - 0s 3ms/step - loss: 0.6241\n",
      "Epoch 2/50\n",
      "119/119 [==============================] - 0s 3ms/step - loss: 0.6125\n",
      "Epoch 3/50\n",
      "119/119 [==============================] - 0s 3ms/step - loss: 0.6121\n",
      "Epoch 4/50\n",
      "119/119 [==============================] - 0s 3ms/step - loss: 0.6111\n",
      "Epoch 5/50\n",
      "119/119 [==============================] - 0s 4ms/step - loss: 0.6110\n",
      "Epoch 6/50\n",
      "119/119 [==============================] - 0s 3ms/step - loss: 0.6110\n",
      "Epoch 7/50\n",
      "119/119 [==============================] - 0s 3ms/step - loss: 0.6110\n",
      "Epoch 8/50\n",
      "119/119 [==============================] - 0s 3ms/step - loss: 0.6109\n",
      "Epoch 9/50\n",
      "119/119 [==============================] - 0s 3ms/step - loss: 0.6109\n",
      "Epoch 10/50\n",
      "119/119 [==============================] - 0s 3ms/step - loss: 0.6109\n",
      "Epoch 11/50\n",
      "119/119 [==============================] - 0s 3ms/step - loss: 0.6108\n",
      "Epoch 12/50\n",
      "119/119 [==============================] - 0s 3ms/step - loss: 0.6108\n",
      "Epoch 13/50\n",
      "119/119 [==============================] - 0s 3ms/step - loss: 0.6108\n",
      "Epoch 14/50\n",
      "119/119 [==============================] - 0s 3ms/step - loss: 0.6108\n",
      "Epoch 15/50\n",
      "119/119 [==============================] - 0s 3ms/step - loss: 0.6108\n",
      "Epoch 16/50\n",
      "119/119 [==============================] - 0s 3ms/step - loss: 0.6108\n",
      "Epoch 17/50\n",
      "119/119 [==============================] - 0s 2ms/step - loss: 0.6108\n",
      "Epoch 18/50\n",
      "119/119 [==============================] - 0s 3ms/step - loss: 0.6108\n",
      "Epoch 19/50\n",
      "119/119 [==============================] - 0s 3ms/step - loss: 0.6107\n",
      "Epoch 20/50\n",
      "119/119 [==============================] - 0s 3ms/step - loss: 0.6107\n",
      "Epoch 21/50\n",
      "119/119 [==============================] - 0s 4ms/step - loss: 0.6107\n",
      "Epoch 22/50\n",
      "119/119 [==============================] - 0s 3ms/step - loss: 0.6107\n",
      "Epoch 23/50\n",
      "119/119 [==============================] - 1s 4ms/step - loss: 0.6106\n",
      "Epoch 24/50\n",
      "119/119 [==============================] - 0s 3ms/step - loss: 0.6105\n",
      "Epoch 25/50\n",
      "119/119 [==============================] - 0s 4ms/step - loss: 0.6104\n",
      "Epoch 26/50\n",
      "119/119 [==============================] - 0s 3ms/step - loss: 0.6103\n",
      "Epoch 27/50\n",
      "119/119 [==============================] - 0s 4ms/step - loss: 0.6103\n",
      "Epoch 28/50\n",
      "119/119 [==============================] - 0s 3ms/step - loss: 0.6102\n",
      "Epoch 29/50\n",
      "119/119 [==============================] - 0s 3ms/step - loss: 0.6102\n",
      "Epoch 30/50\n",
      "119/119 [==============================] - 0s 4ms/step - loss: 0.6102\n",
      "Epoch 31/50\n",
      "119/119 [==============================] - 0s 4ms/step - loss: 0.6101\n",
      "Epoch 32/50\n",
      "119/119 [==============================] - 0s 3ms/step - loss: 0.6101\n",
      "Epoch 33/50\n",
      "119/119 [==============================] - 0s 4ms/step - loss: 0.6101\n",
      "Epoch 34/50\n",
      "119/119 [==============================] - 0s 3ms/step - loss: 0.6100\n",
      "Epoch 35/50\n",
      "119/119 [==============================] - 1s 4ms/step - loss: 0.6100\n",
      "Epoch 36/50\n",
      "119/119 [==============================] - 0s 4ms/step - loss: 0.6100\n",
      "Epoch 37/50\n",
      "119/119 [==============================] - 0s 3ms/step - loss: 0.6100\n",
      "Epoch 38/50\n",
      "119/119 [==============================] - 1s 5ms/step - loss: 0.6100\n",
      "Epoch 39/50\n",
      "119/119 [==============================] - 0s 3ms/step - loss: 0.6100\n",
      "Epoch 40/50\n",
      "119/119 [==============================] - 0s 3ms/step - loss: 0.6100\n",
      "Epoch 41/50\n",
      "119/119 [==============================] - 0s 3ms/step - loss: 0.6099\n",
      "Epoch 42/50\n",
      "119/119 [==============================] - 0s 4ms/step - loss: 0.6099\n",
      "Epoch 43/50\n",
      "119/119 [==============================] - 0s 4ms/step - loss: 0.6099\n",
      "Epoch 44/50\n",
      "119/119 [==============================] - 0s 3ms/step - loss: 0.6099\n",
      "Epoch 45/50\n",
      "119/119 [==============================] - 0s 3ms/step - loss: 0.6099\n",
      "Epoch 46/50\n",
      "119/119 [==============================] - 0s 3ms/step - loss: 0.6099\n",
      "Epoch 47/50\n",
      "119/119 [==============================] - 0s 4ms/step - loss: 0.6099\n",
      "Epoch 48/50\n",
      "119/119 [==============================] - 0s 3ms/step - loss: 0.6098\n",
      "Epoch 49/50\n",
      "119/119 [==============================] - 0s 3ms/step - loss: 0.6098\n",
      "Epoch 50/50\n",
      "119/119 [==============================] - 0s 3ms/step - loss: 0.6098\n"
     ]
    }
   ],
   "source": [
    "#X_train = X_train.reshape([len(X_train)] + list(dims))\n",
    "history = autoencoder.fit(X_train, X_train,\n",
    "                epochs=50,\n",
    "                batch_size=256,\n",
    "                shuffle=True,\n",
    "                #validation_data=(X_valid, X_valid)\n",
    "                         )"
   ]
  },
  {
   "cell_type": "code",
   "execution_count": 14,
   "metadata": {
    "ExecuteTime": {
     "end_time": "2020-08-22T05:55:48.260177Z",
     "start_time": "2020-08-22T05:55:46.647707Z"
    }
   },
   "outputs": [],
   "source": [
    "z = encoder.predict(X_train)"
   ]
  },
  {
   "cell_type": "markdown",
   "metadata": {},
   "source": [
    "### Plot model output"
   ]
  },
  {
   "cell_type": "code",
   "execution_count": 15,
   "metadata": {
    "ExecuteTime": {
     "end_time": "2020-08-22T05:55:52.396877Z",
     "start_time": "2020-08-22T05:55:48.264363Z"
    }
   },
   "outputs": [
    {
     "data": {
      "image/png": "[encoded data removed]",
      "text/plain": [
       "<Figure size 576x576 with 2 Axes>"
      ]
     },
     "metadata": {
      "needs_background": "light"
     },
     "output_type": "display_data"
    }
   ],
   "source": [
    "fig, ax = plt.subplots( figsize=(8, 8))\n",
    "sc = ax.scatter(\n",
    "    z[:, 0],\n",
    "    z[:, 1],\n",
    "    c=Y_train.astype(int)[:len(z)].flatten(),\n",
    "    cmap=\"tab10\",\n",
    "    s=0.1,\n",
    "    alpha=0.5,\n",
    "    rasterized=True,\n",
    ")\n",
    "ax.axis('equal')\n",
    "ax.set_title(\"UMAP in Tensorflow embedding\", fontsize=20)\n",
    "plt.colorbar(sc, ax=ax);"
   ]
  },
  {
   "cell_type": "markdown",
   "metadata": {},
   "source": [
    "### View loss"
   ]
  },
  {
   "cell_type": "code",
   "execution_count": 16,
   "metadata": {
    "ExecuteTime": {
     "end_time": "2020-08-22T05:55:52.754206Z",
     "start_time": "2020-08-22T05:55:52.398695Z"
    }
   },
   "outputs": [],
   "source": [
    "from tfumap.umap import retrieve_tensors\n",
    "import seaborn as sns"
   ]
  },
  {
   "cell_type": "markdown",
   "metadata": {},
   "source": [
    "### Save output"
   ]
  },
  {
   "cell_type": "code",
   "execution_count": 56,
   "metadata": {
    "ExecuteTime": {
     "end_time": "2020-08-22T06:15:52.337381Z",
     "start_time": "2020-08-22T06:15:52.298091Z"
    }
   },
   "outputs": [],
   "source": [
    "from tfumap.paths import ensure_dir, MODEL_DIR"
   ]
  },
  {
   "cell_type": "code",
   "execution_count": 57,
   "metadata": {
    "ExecuteTime": {
     "end_time": "2020-08-22T06:15:52.433870Z",
     "start_time": "2020-08-22T06:15:52.338821Z"
    }
   },
   "outputs": [],
   "source": [
    "output_dir = MODEL_DIR/'projections'/ dataset / 'ae_only'\n",
    "ensure_dir(output_dir)"
   ]
  },
  {
   "cell_type": "code",
   "execution_count": 58,
   "metadata": {
    "ExecuteTime": {
     "end_time": "2020-08-22T06:15:52.970300Z",
     "start_time": "2020-08-22T06:15:52.434987Z"
    }
   },
   "outputs": [
    {
     "name": "stderr",
     "output_type": "stream",
     "text": [
      "I0821 23:15:52.935351 139621710026560 builder_impl.py:775] Assets written to: /mnt/cube/tsainbur/Projects/github_repos/umap_tf_networks/models/projections/macosko2015/ae_only/encoder/assets\n"
     ]
    }
   ],
   "source": [
    "encoder.save(output_dir / 'encoder')"
   ]
  },
  {
   "cell_type": "code",
   "execution_count": 59,
   "metadata": {
    "ExecuteTime": {
     "end_time": "2020-08-22T06:15:53.523846Z",
     "start_time": "2020-08-22T06:15:52.972145Z"
    }
   },
   "outputs": [
    {
     "name": "stderr",
     "output_type": "stream",
     "text": [
      "I0821 23:15:53.498640 139621710026560 builder_impl.py:775] Assets written to: /mnt/cube/tsainbur/Projects/github_repos/umap_tf_networks/models/projections/macosko2015/ae_only/encoder/assets\n"
     ]
    }
   ],
   "source": [
    "decoder.save(output_dir / 'encoder')"
   ]
  },
  {
   "cell_type": "code",
   "execution_count": 60,
   "metadata": {
    "ExecuteTime": {
     "end_time": "2020-08-22T06:15:53.578456Z",
     "start_time": "2020-08-22T06:15:53.527150Z"
    }
   },
   "outputs": [],
   "source": [
    "#loss_df.to_pickle(output_dir / 'loss_df.pickle')"
   ]
  },
  {
   "cell_type": "code",
   "execution_count": 61,
   "metadata": {
    "ExecuteTime": {
     "end_time": "2020-08-22T06:15:53.641296Z",
     "start_time": "2020-08-22T06:15:53.580220Z"
    }
   },
   "outputs": [],
   "source": [
    "np.save(output_dir / 'z.npy', z)"
   ]
  },
  {
   "cell_type": "markdown",
   "metadata": {},
   "source": [
    "### compute metrics "
   ]
  },
  {
   "cell_type": "code",
   "execution_count": 23,
   "metadata": {
    "ExecuteTime": {
     "end_time": "2020-08-22T05:55:58.868138Z",
     "start_time": "2020-08-22T05:55:58.679836Z"
    }
   },
   "outputs": [
    {
     "data": {
      "text/plain": [
       "(4481, 50)"
      ]
     },
     "execution_count": 23,
     "metadata": {},
     "output_type": "execute_result"
    }
   ],
   "source": [
    "X_test.shape"
   ]
  },
  {
   "cell_type": "code",
   "execution_count": 24,
   "metadata": {
    "ExecuteTime": {
     "end_time": "2020-08-22T05:55:59.109923Z",
     "start_time": "2020-08-22T05:55:58.871779Z"
    }
   },
   "outputs": [
    {
     "data": {
      "text/plain": [
       "(4481, 50)"
      ]
     },
     "execution_count": 24,
     "metadata": {},
     "output_type": "execute_result"
    }
   ],
   "source": [
    "X_test_flat.shape"
   ]
  },
  {
   "cell_type": "code",
   "execution_count": 25,
   "metadata": {
    "ExecuteTime": {
     "end_time": "2020-08-22T05:55:59.632541Z",
     "start_time": "2020-08-22T05:55:59.116876Z"
    }
   },
   "outputs": [],
   "source": [
    "z_test = encoder.predict(X_test.reshape((len(X_test), 50)))"
   ]
  },
  {
   "cell_type": "code",
   "execution_count": 26,
   "metadata": {
    "ExecuteTime": {
     "end_time": "2020-08-22T05:55:59.850515Z",
     "start_time": "2020-08-22T05:55:59.634208Z"
    }
   },
   "outputs": [
    {
     "data": {
      "text/plain": [
       "(4481, 2)"
      ]
     },
     "execution_count": 26,
     "metadata": {},
     "output_type": "execute_result"
    }
   ],
   "source": [
    "z_test.shape"
   ]
  },
  {
   "cell_type": "markdown",
   "metadata": {},
   "source": [
    "#### silhouette"
   ]
  },
  {
   "cell_type": "code",
   "execution_count": 27,
   "metadata": {
    "ExecuteTime": {
     "end_time": "2020-08-22T05:56:00.062472Z",
     "start_time": "2020-08-22T05:55:59.854566Z"
    }
   },
   "outputs": [],
   "source": [
    "from tfumap.silhouette import silhouette_score_block"
   ]
  },
  {
   "cell_type": "code",
   "execution_count": 28,
   "metadata": {
    "ExecuteTime": {
     "end_time": "2020-08-22T05:56:29.923554Z",
     "start_time": "2020-08-22T05:56:00.065763Z"
    }
   },
   "outputs": [
    {
     "data": {
      "text/plain": [
       "0.43943955755601477"
      ]
     },
     "execution_count": 28,
     "metadata": {},
     "output_type": "execute_result"
    }
   ],
   "source": [
    "ss, sil_samp = silhouette_score_block(z, Y_train, n_jobs = -1)\n",
    "ss"
   ]
  },
  {
   "cell_type": "code",
   "execution_count": 29,
   "metadata": {
    "ExecuteTime": {
     "end_time": "2020-08-22T05:56:30.477158Z",
     "start_time": "2020-08-22T05:56:29.930377Z"
    }
   },
   "outputs": [
    {
     "data": {
      "text/plain": [
       "0.4430071902133101"
      ]
     },
     "execution_count": 29,
     "metadata": {},
     "output_type": "execute_result"
    }
   ],
   "source": [
    "ss_test, sil_samp_test = silhouette_score_block(z_test, Y_test, n_jobs = -1)\n",
    "ss_test"
   ]
  },
  {
   "cell_type": "code",
   "execution_count": 30,
   "metadata": {
    "ExecuteTime": {
     "end_time": "2020-08-22T05:56:35.160439Z",
     "start_time": "2020-08-22T05:56:30.478393Z"
    }
   },
   "outputs": [
    {
     "data": {
      "text/plain": [
       "<matplotlib.collections.PathCollection at 0x7efb24452438>"
      ]
     },
     "execution_count": 30,
     "metadata": {},
     "output_type": "execute_result"
    },
    {
     "data": {
      "image/png": "[encoded data removed]",
      "text/plain": [
       "<Figure size 720x360 with 2 Axes>"
      ]
     },
     "metadata": {
      "needs_background": "light"
     },
     "output_type": "display_data"
    }
   ],
   "source": [
    "fig, axs = plt.subplots(ncols = 2, figsize=(10, 5))\n",
    "axs[0].scatter(z[:, 0], z[:, 1], s=0.1, alpha=0.5, c=sil_samp, cmap=plt.cm.viridis)\n",
    "axs[1].scatter(z_test[:, 0], z_test[:, 1], s=1, alpha=0.5, c=sil_samp_test, cmap=plt.cm.viridis)"
   ]
  },
  {
   "cell_type": "markdown",
   "metadata": {},
   "source": [
    "#### KNN"
   ]
  },
  {
   "cell_type": "code",
   "execution_count": 31,
   "metadata": {
    "ExecuteTime": {
     "end_time": "2020-08-22T05:56:35.323093Z",
     "start_time": "2020-08-22T05:56:35.164347Z"
    }
   },
   "outputs": [],
   "source": [
    "from sklearn.neighbors import KNeighborsClassifier"
   ]
  },
  {
   "cell_type": "code",
   "execution_count": 32,
   "metadata": {
    "ExecuteTime": {
     "end_time": "2020-08-22T05:56:35.875259Z",
     "start_time": "2020-08-22T05:56:35.325533Z"
    }
   },
   "outputs": [
    {
     "data": {
      "text/plain": [
       "0.9647400133898684"
      ]
     },
     "execution_count": 32,
     "metadata": {},
     "output_type": "execute_result"
    }
   ],
   "source": [
    "neigh5 = KNeighborsClassifier(n_neighbors=5)\n",
    "neigh5.fit(z, Y_train.flatten())\n",
    "score_5nn = neigh5.score(z_test, Y_test)\n",
    "score_5nn"
   ]
  },
  {
   "cell_type": "code",
   "execution_count": 33,
   "metadata": {
    "ExecuteTime": {
     "end_time": "2020-08-22T05:56:36.518589Z",
     "start_time": "2020-08-22T05:56:35.881864Z"
    }
   },
   "outputs": [
    {
     "data": {
      "text/plain": [
       "0.942869895112698"
      ]
     },
     "execution_count": 33,
     "metadata": {},
     "output_type": "execute_result"
    }
   ],
   "source": [
    "neigh1 = KNeighborsClassifier(n_neighbors=1)\n",
    "neigh1.fit(z, Y_train)\n",
    "score_1nn = neigh1.score(z_test, Y_test)\n",
    "score_1nn"
   ]
  },
  {
   "cell_type": "markdown",
   "metadata": {},
   "source": [
    "#### Trustworthiness"
   ]
  },
  {
   "cell_type": "code",
   "execution_count": 34,
   "metadata": {
    "ExecuteTime": {
     "end_time": "2020-08-22T05:56:36.676301Z",
     "start_time": "2020-08-22T05:56:36.523989Z"
    }
   },
   "outputs": [],
   "source": [
    "from sklearn.manifold import trustworthiness"
   ]
  },
  {
   "cell_type": "code",
   "execution_count": 35,
   "metadata": {
    "ExecuteTime": {
     "end_time": "2020-08-22T05:57:10.279636Z",
     "start_time": "2020-08-22T05:56:36.677839Z"
    }
   },
   "outputs": [],
   "source": [
    "tw = trustworthiness(X_train_flat[:10000], z[:10000])"
   ]
  },
  {
   "cell_type": "code",
   "execution_count": 36,
   "metadata": {
    "ExecuteTime": {
     "end_time": "2020-08-22T05:57:10.856061Z",
     "start_time": "2020-08-22T05:57:10.296193Z"
    }
   },
   "outputs": [
    {
     "data": {
      "text/plain": [
       "((4481, 50), (4481, 2))"
      ]
     },
     "execution_count": 36,
     "metadata": {},
     "output_type": "execute_result"
    }
   ],
   "source": [
    "X_test_flat.shape, z_test.shape"
   ]
  },
  {
   "cell_type": "code",
   "execution_count": 37,
   "metadata": {
    "ExecuteTime": {
     "end_time": "2020-08-22T05:57:17.006462Z",
     "start_time": "2020-08-22T05:57:10.861756Z"
    }
   },
   "outputs": [],
   "source": [
    "tw_test = trustworthiness(X_test_flat[:10000], z_test[:10000])"
   ]
  },
  {
   "cell_type": "code",
   "execution_count": 38,
   "metadata": {
    "ExecuteTime": {
     "end_time": "2020-08-22T05:57:17.103520Z",
     "start_time": "2020-08-22T05:57:17.011482Z"
    }
   },
   "outputs": [
    {
     "data": {
      "text/plain": [
       "(0.8062959267413932, 0.8049682707816739)"
      ]
     },
     "execution_count": 38,
     "metadata": {},
     "output_type": "execute_result"
    }
   ],
   "source": [
    "tw, tw_test"
   ]
  },
  {
   "cell_type": "markdown",
   "metadata": {},
   "source": [
    "### Save output metrics"
   ]
  },
  {
   "cell_type": "code",
   "execution_count": 39,
   "metadata": {
    "ExecuteTime": {
     "end_time": "2020-08-22T05:57:17.303602Z",
     "start_time": "2020-08-22T05:57:17.106975Z"
    }
   },
   "outputs": [],
   "source": [
    "from tfumap.paths import ensure_dir, MODEL_DIR, DATA_DIR"
   ]
  },
  {
   "cell_type": "markdown",
   "metadata": {},
   "source": [
    "#### train"
   ]
  },
  {
   "cell_type": "code",
   "execution_count": 40,
   "metadata": {
    "ExecuteTime": {
     "end_time": "2020-08-22T05:57:17.483039Z",
     "start_time": "2020-08-22T05:57:17.306885Z"
    }
   },
   "outputs": [
    {
     "data": {
      "text/html": [
       "<div>\n",
       "<style scoped>\n",
       "    .dataframe tbody tr th:only-of-type {\n",
       "        vertical-align: middle;\n",
       "    }\n",
       "\n",
       "    .dataframe tbody tr th {\n",
       "        vertical-align: top;\n",
       "    }\n",
       "\n",
       "    .dataframe thead th {\n",
       "        text-align: right;\n",
       "    }\n",
       "</style>\n",
       "<table border=\"1\" class=\"dataframe\">\n",
       "  <thead>\n",
       "    <tr style=\"text-align: right;\">\n",
       "      <th></th>\n",
       "      <th>dataset</th>\n",
       "      <th>class_</th>\n",
       "      <th>dim</th>\n",
       "      <th>trustworthiness</th>\n",
       "      <th>silhouette_score</th>\n",
       "      <th>silhouette_samples</th>\n",
       "    </tr>\n",
       "  </thead>\n",
       "  <tbody>\n",
       "    <tr>\n",
       "      <th>0</th>\n",
       "      <td>macosko2015</td>\n",
       "      <td>ae_only</td>\n",
       "      <td>2</td>\n",
       "      <td>0.806296</td>\n",
       "      <td>0.43944</td>\n",
       "      <td>[0.455295750448101, 0.6493602537388448, 0.2850...</td>\n",
       "    </tr>\n",
       "  </tbody>\n",
       "</table>\n",
       "</div>"
      ],
      "text/plain": [
       "       dataset   class_ dim  trustworthiness  silhouette_score  \\\n",
       "0  macosko2015  ae_only   2         0.806296           0.43944   \n",
       "\n",
       "                                  silhouette_samples  \n",
       "0  [0.455295750448101, 0.6493602537388448, 0.2850...  "
      ]
     },
     "execution_count": 40,
     "metadata": {},
     "output_type": "execute_result"
    }
   ],
   "source": [
    "metrics_df = pd.DataFrame(\n",
    "    columns=[\n",
    "        \"dataset\",\n",
    "        \"class_\",\n",
    "        \"dim\",\n",
    "        \"trustworthiness\",\n",
    "        \"silhouette_score\",\n",
    "        \"silhouette_samples\",\n",
    "    ]\n",
    ")\n",
    "metrics_df.loc[len(metrics_df)] = [dataset, 'ae_only', n_components, tw, ss, sil_samp]\n",
    "metrics_df"
   ]
  },
  {
   "cell_type": "code",
   "execution_count": 41,
   "metadata": {
    "ExecuteTime": {
     "end_time": "2020-08-22T05:57:17.658366Z",
     "start_time": "2020-08-22T05:57:17.484575Z"
    }
   },
   "outputs": [],
   "source": [
    "save_loc = DATA_DIR / 'projection_metrics' /  'ae_only' / 'train' / str(n_components) / (dataset + '.pickle')\n",
    "ensure_dir(save_loc)\n",
    "metrics_df.to_pickle(save_loc)"
   ]
  },
  {
   "cell_type": "markdown",
   "metadata": {},
   "source": [
    "#### test"
   ]
  },
  {
   "cell_type": "code",
   "execution_count": 42,
   "metadata": {
    "ExecuteTime": {
     "end_time": "2020-08-22T05:57:17.917789Z",
     "start_time": "2020-08-22T05:57:17.662015Z"
    }
   },
   "outputs": [
    {
     "data": {
      "text/html": [
       "<div>\n",
       "<style scoped>\n",
       "    .dataframe tbody tr th:only-of-type {\n",
       "        vertical-align: middle;\n",
       "    }\n",
       "\n",
       "    .dataframe tbody tr th {\n",
       "        vertical-align: top;\n",
       "    }\n",
       "\n",
       "    .dataframe thead th {\n",
       "        text-align: right;\n",
       "    }\n",
       "</style>\n",
       "<table border=\"1\" class=\"dataframe\">\n",
       "  <thead>\n",
       "    <tr style=\"text-align: right;\">\n",
       "      <th></th>\n",
       "      <th>dataset</th>\n",
       "      <th>class_</th>\n",
       "      <th>dim</th>\n",
       "      <th>trustworthiness</th>\n",
       "      <th>silhouette_score</th>\n",
       "      <th>silhouette_samples</th>\n",
       "    </tr>\n",
       "  </thead>\n",
       "  <tbody>\n",
       "    <tr>\n",
       "      <th>1</th>\n",
       "      <td>macosko2015</td>\n",
       "      <td>ae_only</td>\n",
       "      <td>2</td>\n",
       "      <td>0.804968</td>\n",
       "      <td>0.443007</td>\n",
       "      <td>[0.5091189531128555, -0.31112209908702976, 0.6...</td>\n",
       "    </tr>\n",
       "  </tbody>\n",
       "</table>\n",
       "</div>"
      ],
      "text/plain": [
       "       dataset   class_ dim  trustworthiness  silhouette_score  \\\n",
       "1  macosko2015  ae_only   2         0.804968          0.443007   \n",
       "\n",
       "                                  silhouette_samples  \n",
       "1  [0.5091189531128555, -0.31112209908702976, 0.6...  "
      ]
     },
     "execution_count": 42,
     "metadata": {},
     "output_type": "execute_result"
    }
   ],
   "source": [
    "metrics_df_test = pd.DataFrame(\n",
    "    columns=[\n",
    "        \"dataset\",\n",
    "        \"class_\",\n",
    "        \"dim\",\n",
    "        \"trustworthiness\",\n",
    "        \"silhouette_score\",\n",
    "        \"silhouette_samples\",\n",
    "    ]\n",
    ")\n",
    "metrics_df_test.loc[len(metrics_df)] = [dataset, 'ae_only', n_components, tw_test, ss_test, sil_samp_test]\n",
    "metrics_df_test"
   ]
  },
  {
   "cell_type": "code",
   "execution_count": 43,
   "metadata": {
    "ExecuteTime": {
     "end_time": "2020-08-22T05:57:18.074250Z",
     "start_time": "2020-08-22T05:57:17.922420Z"
    }
   },
   "outputs": [],
   "source": [
    "save_loc = DATA_DIR / 'projection_metrics' / 'ae' / 'test' / str(n_components) / (dataset + '.pickle')\n",
    "ensure_dir(save_loc)\n",
    "metrics_df.to_pickle(save_loc)"
   ]
  },
  {
   "cell_type": "markdown",
   "metadata": {},
   "source": [
    "#### knn "
   ]
  },
  {
   "cell_type": "code",
   "execution_count": 44,
   "metadata": {
    "ExecuteTime": {
     "end_time": "2020-08-22T05:57:18.215286Z",
     "start_time": "2020-08-22T05:57:18.075760Z"
    }
   },
   "outputs": [
    {
     "data": {
      "text/html": [
       "<div>\n",
       "<style scoped>\n",
       "    .dataframe tbody tr th:only-of-type {\n",
       "        vertical-align: middle;\n",
       "    }\n",
       "\n",
       "    .dataframe tbody tr th {\n",
       "        vertical-align: top;\n",
       "    }\n",
       "\n",
       "    .dataframe thead th {\n",
       "        text-align: right;\n",
       "    }\n",
       "</style>\n",
       "<table border=\"1\" class=\"dataframe\">\n",
       "  <thead>\n",
       "    <tr style=\"text-align: right;\">\n",
       "      <th></th>\n",
       "      <th>method_</th>\n",
       "      <th>dimensions</th>\n",
       "      <th>dataset</th>\n",
       "      <th>1NN_acc</th>\n",
       "      <th>5NN_acc</th>\n",
       "    </tr>\n",
       "  </thead>\n",
       "  <tbody>\n",
       "    <tr>\n",
       "      <th>0</th>\n",
       "      <td>ae_only</td>\n",
       "      <td>2</td>\n",
       "      <td>macosko2015</td>\n",
       "      <td>0.94287</td>\n",
       "      <td>0.96474</td>\n",
       "    </tr>\n",
       "  </tbody>\n",
       "</table>\n",
       "</div>"
      ],
      "text/plain": [
       "   method_ dimensions      dataset  1NN_acc  5NN_acc\n",
       "0  ae_only          2  macosko2015  0.94287  0.96474"
      ]
     },
     "execution_count": 44,
     "metadata": {},
     "output_type": "execute_result"
    }
   ],
   "source": [
    "nn_acc_df = pd.DataFrame(columns = [\"method_\",\"dimensions\",\"dataset\",\"1NN_acc\",\"5NN_acc\"])\n",
    "nn_acc_df.loc[len(nn_acc_df)] = ['ae_only', n_components, dataset,  score_1nn, score_5nn]\n",
    "nn_acc_df"
   ]
  },
  {
   "cell_type": "code",
   "execution_count": 45,
   "metadata": {
    "ExecuteTime": {
     "end_time": "2020-08-22T05:57:18.309719Z",
     "start_time": "2020-08-22T05:57:18.217725Z"
    }
   },
   "outputs": [],
   "source": [
    "save_loc = DATA_DIR / 'knn_classifier' / 'ae_only' / 'train' / str(n_components) / (dataset + '.pickle')\n",
    "ensure_dir(save_loc)\n",
    "nn_acc_df.to_pickle(save_loc)"
   ]
  },
  {
   "cell_type": "markdown",
   "metadata": {},
   "source": [
    "### Reconstruction"
   ]
  },
  {
   "cell_type": "code",
   "execution_count": 46,
   "metadata": {
    "ExecuteTime": {
     "end_time": "2020-08-22T05:57:18.474821Z",
     "start_time": "2020-08-22T05:57:18.311992Z"
    }
   },
   "outputs": [],
   "source": [
    "from sklearn.metrics import mean_squared_error, mean_absolute_error, median_absolute_error, r2_score"
   ]
  },
  {
   "cell_type": "code",
   "execution_count": 47,
   "metadata": {
    "ExecuteTime": {
     "end_time": "2020-08-22T05:57:19.178324Z",
     "start_time": "2020-08-22T05:57:18.477823Z"
    }
   },
   "outputs": [],
   "source": [
    "X_recon = decoder.predict(encoder.predict(X_test.reshape((len(X_test), 50))))\n",
    "X_real = X_test.reshape((len(X_test), 50))"
   ]
  },
  {
   "cell_type": "code",
   "execution_count": 48,
   "metadata": {
    "ExecuteTime": {
     "end_time": "2020-08-22T05:57:19.270871Z",
     "start_time": "2020-08-22T05:57:19.180569Z"
    }
   },
   "outputs": [],
   "source": [
    "x_real = X_test.reshape((len(X_test), np.product(np.shape(X_test)[1:])))\n",
    "x_recon = X_recon.reshape((len(X_test), np.product(np.shape(X_test)[1:])))"
   ]
  },
  {
   "cell_type": "code",
   "execution_count": 49,
   "metadata": {
    "ExecuteTime": {
     "end_time": "2020-08-22T05:57:19.370460Z",
     "start_time": "2020-08-22T05:57:19.273174Z"
    }
   },
   "outputs": [],
   "source": [
    "reconstruction_acc_df = pd.DataFrame(\n",
    "    columns=[\"method_\", \"dimensions\", \"dataset\", \"MSE\", \"MAE\", \"MedAE\", \"R2\"]\n",
    ")"
   ]
  },
  {
   "cell_type": "code",
   "execution_count": 50,
   "metadata": {
    "ExecuteTime": {
     "end_time": "2020-08-22T05:57:19.508989Z",
     "start_time": "2020-08-22T05:57:19.372940Z"
    }
   },
   "outputs": [
    {
     "data": {
      "text/html": [
       "<div>\n",
       "<style scoped>\n",
       "    .dataframe tbody tr th:only-of-type {\n",
       "        vertical-align: middle;\n",
       "    }\n",
       "\n",
       "    .dataframe tbody tr th {\n",
       "        vertical-align: top;\n",
       "    }\n",
       "\n",
       "    .dataframe thead th {\n",
       "        text-align: right;\n",
       "    }\n",
       "</style>\n",
       "<table border=\"1\" class=\"dataframe\">\n",
       "  <thead>\n",
       "    <tr style=\"text-align: right;\">\n",
       "      <th></th>\n",
       "      <th>method_</th>\n",
       "      <th>dimensions</th>\n",
       "      <th>dataset</th>\n",
       "      <th>MSE</th>\n",
       "      <th>MAE</th>\n",
       "      <th>MedAE</th>\n",
       "      <th>R2</th>\n",
       "    </tr>\n",
       "  </thead>\n",
       "  <tbody>\n",
       "    <tr>\n",
       "      <th>0</th>\n",
       "      <td>ae_only</td>\n",
       "      <td>2</td>\n",
       "      <td>macosko2015</td>\n",
       "      <td>0.000529</td>\n",
       "      <td>0.010935</td>\n",
       "      <td>0.00572</td>\n",
       "      <td>0.323583</td>\n",
       "    </tr>\n",
       "  </tbody>\n",
       "</table>\n",
       "</div>"
      ],
      "text/plain": [
       "   method_ dimensions      dataset       MSE       MAE    MedAE        R2\n",
       "0  ae_only          2  macosko2015  0.000529  0.010935  0.00572  0.323583"
      ]
     },
     "execution_count": 50,
     "metadata": {},
     "output_type": "execute_result"
    }
   ],
   "source": [
    "MSE = mean_squared_error(\n",
    "    x_real, \n",
    "    x_recon\n",
    ")\n",
    "MAE = mean_absolute_error(\n",
    "    x_real, \n",
    "    x_recon\n",
    ")\n",
    "MedAE = median_absolute_error(\n",
    "    x_real, \n",
    "    x_recon\n",
    ")\n",
    "R2 = r2_score(\n",
    "    x_real, \n",
    "    x_recon\n",
    ")\n",
    "\n",
    "reconstruction_acc_df.loc[len(reconstruction_acc_df)] = ['ae_only', 2, dataset, MSE, MAE, MedAE, R2]\n",
    "reconstruction_acc_df"
   ]
  },
  {
   "cell_type": "code",
   "execution_count": 51,
   "metadata": {
    "ExecuteTime": {
     "end_time": "2020-08-22T05:57:19.602390Z",
     "start_time": "2020-08-22T05:57:19.511147Z"
    }
   },
   "outputs": [],
   "source": [
    "save_loc = DATA_DIR / 'reconstruction_acc' / 'ae_only' / str(n_components) / (dataset + '.pickle')\n",
    "ensure_dir(save_loc)\n",
    "reconstruction_acc_df.to_pickle(save_loc)"
   ]
  },
  {
   "cell_type": "markdown",
   "metadata": {},
   "source": [
    "### Compute clustering quality"
   ]
  },
  {
   "cell_type": "code",
   "execution_count": 52,
   "metadata": {
    "ExecuteTime": {
     "end_time": "2020-08-22T05:57:19.772654Z",
     "start_time": "2020-08-22T05:57:19.608338Z"
    }
   },
   "outputs": [],
   "source": [
    "from sklearn.cluster import KMeans\n",
    "from sklearn.metrics import homogeneity_completeness_v_measure"
   ]
  },
  {
   "cell_type": "code",
   "execution_count": 53,
   "metadata": {
    "ExecuteTime": {
     "end_time": "2020-08-22T05:57:19.891793Z",
     "start_time": "2020-08-22T05:57:19.774056Z"
    }
   },
   "outputs": [],
   "source": [
    "def get_cluster_metrics(row, n_init=5):\n",
    "    \n",
    "    # load cluster information\n",
    "    save_loc = DATA_DIR / 'clustering_metric_df'/ ('_'.join([row.class_, str(row.dim), row.dataset]) + '.pickle')\n",
    "    print(save_loc)\n",
    "    if save_loc.exists() and save_loc.is_file():\n",
    "        \n",
    "        cluster_df = pd.read_pickle(save_loc)\n",
    "        return cluster_df\n",
    "    \n",
    "    # make cluster metric dataframe\n",
    "    cluster_df = pd.DataFrame(\n",
    "        columns=[\n",
    "            \"dataset\",\n",
    "            \"class_\",\n",
    "            \"dim\",\n",
    "            \"silhouette\",\n",
    "            \"homogeneity\",\n",
    "            \"completeness\",\n",
    "            \"v_measure\",\n",
    "            \"init_\",\n",
    "            \"n_clusters\",\n",
    "            \"model\",\n",
    "        ]\n",
    "    )\n",
    "    y = row.train_label\n",
    "    z = row.train_z\n",
    "    n_labels = len(np.unique(y))\n",
    "    for n_clusters in tqdm(np.arange(n_labels - int(n_labels / 2), n_labels + int(n_labels / 2)), leave=False, desc = 'n_clusters'):\n",
    "        for init_ in tqdm(range(n_init), leave=False, desc='init'):\n",
    "            kmeans = KMeans(n_clusters=n_clusters, random_state=init_).fit(z)\n",
    "            clustered_y = kmeans.labels_\n",
    "            homogeneity, completeness, v_measure = homogeneity_completeness_v_measure(\n",
    "                y, clustered_y\n",
    "            )\n",
    "            ss, _ = silhouette_score_block(z, clustered_y)\n",
    "            cluster_df.loc[len(cluster_df)] = [\n",
    "                row.dataset,\n",
    "                row.class_,\n",
    "                row.dim,\n",
    "                ss,\n",
    "                homogeneity,\n",
    "                completeness,\n",
    "                v_measure,\n",
    "                init_,\n",
    "                n_clusters,\n",
    "                kmeans,\n",
    "            ]\n",
    "    \n",
    "     # save cluster df in case this fails somewhere\n",
    "    ensure_dir(save_loc)\n",
    "    cluster_df.to_pickle(save_loc)\n",
    "    return cluster_df"
   ]
  },
  {
   "cell_type": "code",
   "execution_count": 54,
   "metadata": {
    "ExecuteTime": {
     "end_time": "2020-08-22T05:57:20.073215Z",
     "start_time": "2020-08-22T05:57:19.893062Z"
    }
   },
   "outputs": [
    {
     "data": {
      "text/html": [
       "<div>\n",
       "<style scoped>\n",
       "    .dataframe tbody tr th:only-of-type {\n",
       "        vertical-align: middle;\n",
       "    }\n",
       "\n",
       "    .dataframe tbody tr th {\n",
       "        vertical-align: top;\n",
       "    }\n",
       "\n",
       "    .dataframe thead th {\n",
       "        text-align: right;\n",
       "    }\n",
       "</style>\n",
       "<table border=\"1\" class=\"dataframe\">\n",
       "  <thead>\n",
       "    <tr style=\"text-align: right;\">\n",
       "      <th></th>\n",
       "      <th>dataset</th>\n",
       "      <th>class_</th>\n",
       "      <th>train_z</th>\n",
       "      <th>train_label</th>\n",
       "      <th>dim</th>\n",
       "    </tr>\n",
       "  </thead>\n",
       "  <tbody>\n",
       "    <tr>\n",
       "      <th>0</th>\n",
       "      <td>macosko2015</td>\n",
       "      <td>ae_only</td>\n",
       "      <td>[[1.4839494, -0.7097231], [0.28838432, -0.7642...</td>\n",
       "      <td>[10.0, 7.0, 0.0, 10.0, 10.0, 10.0, 10.0, 10.0,...</td>\n",
       "      <td>2</td>\n",
       "    </tr>\n",
       "  </tbody>\n",
       "</table>\n",
       "</div>"
      ],
      "text/plain": [
       "       dataset   class_                                            train_z  \\\n",
       "0  macosko2015  ae_only  [[1.4839494, -0.7097231], [0.28838432, -0.7642...   \n",
       "\n",
       "                                         train_label dim  \n",
       "0  [10.0, 7.0, 0.0, 10.0, 10.0, 10.0, 10.0, 10.0,...   2  "
      ]
     },
     "execution_count": 54,
     "metadata": {},
     "output_type": "execute_result"
    }
   ],
   "source": [
    "projection_df = pd.DataFrame(columns = ['dataset', 'class_', 'train_z', 'train_label', 'dim'])\n",
    "projection_df.loc[len(projection_df)] = [dataset, 'ae_only', z, Y_train.flatten(), n_components]\n",
    "projection_df"
   ]
  },
  {
   "cell_type": "code",
   "execution_count": 55,
   "metadata": {
    "ExecuteTime": {
     "end_time": "2020-08-22T06:15:52.065502Z",
     "start_time": "2020-08-22T05:57:20.074427Z"
    }
   },
   "outputs": [
    {
     "name": "stdout",
     "output_type": "stream",
     "text": [
      "/mnt/cube/tsainbur/Projects/github_repos/umap_tf_networks/data/clustering_metric_df/ae_only_2_macosko2015.pickle\n"
     ]
    },
    {
     "data": {
      "application/vnd.jupyter.widget-view+json": {
       "model_id": "",
       "version_major": 2,
       "version_minor": 0
      },
      "text/plain": [
       "HBox(children=(IntProgress(value=0, description='n_clusters', max=12, style=ProgressStyle(description_width='i…"
      ]
     },
     "metadata": {},
     "output_type": "display_data"
    },
    {
     "data": {
      "application/vnd.jupyter.widget-view+json": {
       "model_id": "",
       "version_major": 2,
       "version_minor": 0
      },
      "text/plain": [
       "HBox(children=(IntProgress(value=0, description='init', max=5, style=ProgressStyle(description_width='initial'…"
      ]
     },
     "metadata": {},
     "output_type": "display_data"
    },
    {
     "data": {
      "application/vnd.jupyter.widget-view+json": {
       "model_id": "",
       "version_major": 2,
       "version_minor": 0
      },
      "text/plain": [
       "HBox(children=(IntProgress(value=0, description='init', max=5, style=ProgressStyle(description_width='initial'…"
      ]
     },
     "metadata": {},
     "output_type": "display_data"
    },
    {
     "data": {
      "application/vnd.jupyter.widget-view+json": {
       "model_id": "",
       "version_major": 2,
       "version_minor": 0
      },
      "text/plain": [
       "HBox(children=(IntProgress(value=0, description='init', max=5, style=ProgressStyle(description_width='initial'…"
      ]
     },
     "metadata": {},
     "output_type": "display_data"
    },
    {
     "data": {
      "application/vnd.jupyter.widget-view+json": {
       "model_id": "",
       "version_major": 2,
       "version_minor": 0
      },
      "text/plain": [
       "HBox(children=(IntProgress(value=0, description='init', max=5, style=ProgressStyle(description_width='initial'…"
      ]
     },
     "metadata": {},
     "output_type": "display_data"
    },
    {
     "data": {
      "application/vnd.jupyter.widget-view+json": {
       "model_id": "",
       "version_major": 2,
       "version_minor": 0
      },
      "text/plain": [
       "HBox(children=(IntProgress(value=0, description='init', max=5, style=ProgressStyle(description_width='initial'…"
      ]
     },
     "metadata": {},
     "output_type": "display_data"
    },
    {
     "data": {
      "application/vnd.jupyter.widget-view+json": {
       "model_id": "",
       "version_major": 2,
       "version_minor": 0
      },
      "text/plain": [
       "HBox(children=(IntProgress(value=0, description='init', max=5, style=ProgressStyle(description_width='initial'…"
      ]
     },
     "metadata": {},
     "output_type": "display_data"
    },
    {
     "data": {
      "application/vnd.jupyter.widget-view+json": {
       "model_id": "",
       "version_major": 2,
       "version_minor": 0
      },
      "text/plain": [
       "HBox(children=(IntProgress(value=0, description='init', max=5, style=ProgressStyle(description_width='initial'…"
      ]
     },
     "metadata": {},
     "output_type": "display_data"
    },
    {
     "data": {
      "application/vnd.jupyter.widget-view+json": {
       "model_id": "",
       "version_major": 2,
       "version_minor": 0
      },
      "text/plain": [
       "HBox(children=(IntProgress(value=0, description='init', max=5, style=ProgressStyle(description_width='initial'…"
      ]
     },
     "metadata": {},
     "output_type": "display_data"
    },
    {
     "data": {
      "application/vnd.jupyter.widget-view+json": {
       "model_id": "",
       "version_major": 2,
       "version_minor": 0
      },
      "text/plain": [
       "HBox(children=(IntProgress(value=0, description='init', max=5, style=ProgressStyle(description_width='initial'…"
      ]
     },
     "metadata": {},
     "output_type": "display_data"
    },
    {
     "data": {
      "application/vnd.jupyter.widget-view+json": {
       "model_id": "",
       "version_major": 2,
       "version_minor": 0
      },
      "text/plain": [
       "HBox(children=(IntProgress(value=0, description='init', max=5, style=ProgressStyle(description_width='initial'…"
      ]
     },
     "metadata": {},
     "output_type": "display_data"
    },
    {
     "data": {
      "application/vnd.jupyter.widget-view+json": {
       "model_id": "",
       "version_major": 2,
       "version_minor": 0
      },
      "text/plain": [
       "HBox(children=(IntProgress(value=0, description='init', max=5, style=ProgressStyle(description_width='initial'…"
      ]
     },
     "metadata": {},
     "output_type": "display_data"
    },
    {
     "data": {
      "application/vnd.jupyter.widget-view+json": {
       "model_id": "",
       "version_major": 2,
       "version_minor": 0
      },
      "text/plain": [
       "HBox(children=(IntProgress(value=0, description='init', max=5, style=ProgressStyle(description_width='initial'…"
      ]
     },
     "metadata": {},
     "output_type": "display_data"
    },
    {
     "name": "stdout",
     "output_type": "stream",
     "text": [
      "\r"
     ]
    },
    {
     "data": {
      "text/html": [
       "<div>\n",
       "<style scoped>\n",
       "    .dataframe tbody tr th:only-of-type {\n",
       "        vertical-align: middle;\n",
       "    }\n",
       "\n",
       "    .dataframe tbody tr th {\n",
       "        vertical-align: top;\n",
       "    }\n",
       "\n",
       "    .dataframe thead th {\n",
       "        text-align: right;\n",
       "    }\n",
       "</style>\n",
       "<table border=\"1\" class=\"dataframe\">\n",
       "  <thead>\n",
       "    <tr style=\"text-align: right;\">\n",
       "      <th></th>\n",
       "      <th>dataset</th>\n",
       "      <th>class_</th>\n",
       "      <th>dim</th>\n",
       "      <th>silhouette</th>\n",
       "      <th>homogeneity</th>\n",
       "      <th>completeness</th>\n",
       "      <th>v_measure</th>\n",
       "      <th>init_</th>\n",
       "      <th>n_clusters</th>\n",
       "      <th>model</th>\n",
       "    </tr>\n",
       "  </thead>\n",
       "  <tbody>\n",
       "    <tr>\n",
       "      <th>0</th>\n",
       "      <td>macosko2015</td>\n",
       "      <td>ae_only</td>\n",
       "      <td>2</td>\n",
       "      <td>0.539727</td>\n",
       "      <td>0.606145</td>\n",
       "      <td>0.537056</td>\n",
       "      <td>0.569513</td>\n",
       "      <td>0</td>\n",
       "      <td>6</td>\n",
       "      <td>KMeans(n_clusters=6, random_state=0)</td>\n",
       "    </tr>\n",
       "    <tr>\n",
       "      <th>1</th>\n",
       "      <td>macosko2015</td>\n",
       "      <td>ae_only</td>\n",
       "      <td>2</td>\n",
       "      <td>0.539613</td>\n",
       "      <td>0.606327</td>\n",
       "      <td>0.537069</td>\n",
       "      <td>0.569601</td>\n",
       "      <td>1</td>\n",
       "      <td>6</td>\n",
       "      <td>KMeans(n_clusters=6, random_state=1)</td>\n",
       "    </tr>\n",
       "    <tr>\n",
       "      <th>2</th>\n",
       "      <td>macosko2015</td>\n",
       "      <td>ae_only</td>\n",
       "      <td>2</td>\n",
       "      <td>0.539229</td>\n",
       "      <td>0.606792</td>\n",
       "      <td>0.536404</td>\n",
       "      <td>0.569431</td>\n",
       "      <td>2</td>\n",
       "      <td>6</td>\n",
       "      <td>KMeans(n_clusters=6, random_state=2)</td>\n",
       "    </tr>\n",
       "    <tr>\n",
       "      <th>3</th>\n",
       "      <td>macosko2015</td>\n",
       "      <td>ae_only</td>\n",
       "      <td>2</td>\n",
       "      <td>0.539249</td>\n",
       "      <td>0.606719</td>\n",
       "      <td>0.536366</td>\n",
       "      <td>0.569377</td>\n",
       "      <td>3</td>\n",
       "      <td>6</td>\n",
       "      <td>KMeans(n_clusters=6, random_state=3)</td>\n",
       "    </tr>\n",
       "    <tr>\n",
       "      <th>4</th>\n",
       "      <td>macosko2015</td>\n",
       "      <td>ae_only</td>\n",
       "      <td>2</td>\n",
       "      <td>0.539261</td>\n",
       "      <td>0.606726</td>\n",
       "      <td>0.536385</td>\n",
       "      <td>0.569391</td>\n",
       "      <td>4</td>\n",
       "      <td>6</td>\n",
       "      <td>KMeans(n_clusters=6, random_state=4)</td>\n",
       "    </tr>\n",
       "    <tr>\n",
       "      <th>5</th>\n",
       "      <td>macosko2015</td>\n",
       "      <td>ae_only</td>\n",
       "      <td>2</td>\n",
       "      <td>0.530614</td>\n",
       "      <td>0.653852</td>\n",
       "      <td>0.546602</td>\n",
       "      <td>0.595436</td>\n",
       "      <td>0</td>\n",
       "      <td>7</td>\n",
       "      <td>KMeans(n_clusters=7, random_state=0)</td>\n",
       "    </tr>\n",
       "    <tr>\n",
       "      <th>6</th>\n",
       "      <td>macosko2015</td>\n",
       "      <td>ae_only</td>\n",
       "      <td>2</td>\n",
       "      <td>0.530603</td>\n",
       "      <td>0.653991</td>\n",
       "      <td>0.546695</td>\n",
       "      <td>0.595549</td>\n",
       "      <td>1</td>\n",
       "      <td>7</td>\n",
       "      <td>KMeans(n_clusters=7, random_state=1)</td>\n",
       "    </tr>\n",
       "    <tr>\n",
       "      <th>7</th>\n",
       "      <td>macosko2015</td>\n",
       "      <td>ae_only</td>\n",
       "      <td>2</td>\n",
       "      <td>0.530614</td>\n",
       "      <td>0.653852</td>\n",
       "      <td>0.546602</td>\n",
       "      <td>0.595436</td>\n",
       "      <td>2</td>\n",
       "      <td>7</td>\n",
       "      <td>KMeans(n_clusters=7, random_state=2)</td>\n",
       "    </tr>\n",
       "    <tr>\n",
       "      <th>8</th>\n",
       "      <td>macosko2015</td>\n",
       "      <td>ae_only</td>\n",
       "      <td>2</td>\n",
       "      <td>0.530976</td>\n",
       "      <td>0.653835</td>\n",
       "      <td>0.546986</td>\n",
       "      <td>0.595657</td>\n",
       "      <td>3</td>\n",
       "      <td>7</td>\n",
       "      <td>KMeans(n_clusters=7, random_state=3)</td>\n",
       "    </tr>\n",
       "    <tr>\n",
       "      <th>9</th>\n",
       "      <td>macosko2015</td>\n",
       "      <td>ae_only</td>\n",
       "      <td>2</td>\n",
       "      <td>0.530952</td>\n",
       "      <td>0.653895</td>\n",
       "      <td>0.547010</td>\n",
       "      <td>0.595696</td>\n",
       "      <td>4</td>\n",
       "      <td>7</td>\n",
       "      <td>KMeans(n_clusters=7, random_state=4)</td>\n",
       "    </tr>\n",
       "    <tr>\n",
       "      <th>10</th>\n",
       "      <td>macosko2015</td>\n",
       "      <td>ae_only</td>\n",
       "      <td>2</td>\n",
       "      <td>0.536921</td>\n",
       "      <td>0.647454</td>\n",
       "      <td>0.526424</td>\n",
       "      <td>0.580700</td>\n",
       "      <td>0</td>\n",
       "      <td>8</td>\n",
       "      <td>KMeans(random_state=0)</td>\n",
       "    </tr>\n",
       "    <tr>\n",
       "      <th>11</th>\n",
       "      <td>macosko2015</td>\n",
       "      <td>ae_only</td>\n",
       "      <td>2</td>\n",
       "      <td>0.537405</td>\n",
       "      <td>0.644455</td>\n",
       "      <td>0.524430</td>\n",
       "      <td>0.578280</td>\n",
       "      <td>1</td>\n",
       "      <td>8</td>\n",
       "      <td>KMeans(random_state=1)</td>\n",
       "    </tr>\n",
       "    <tr>\n",
       "      <th>12</th>\n",
       "      <td>macosko2015</td>\n",
       "      <td>ae_only</td>\n",
       "      <td>2</td>\n",
       "      <td>0.537493</td>\n",
       "      <td>0.645590</td>\n",
       "      <td>0.525796</td>\n",
       "      <td>0.579567</td>\n",
       "      <td>2</td>\n",
       "      <td>8</td>\n",
       "      <td>KMeans(random_state=2)</td>\n",
       "    </tr>\n",
       "    <tr>\n",
       "      <th>13</th>\n",
       "      <td>macosko2015</td>\n",
       "      <td>ae_only</td>\n",
       "      <td>2</td>\n",
       "      <td>0.536831</td>\n",
       "      <td>0.647598</td>\n",
       "      <td>0.526441</td>\n",
       "      <td>0.580768</td>\n",
       "      <td>3</td>\n",
       "      <td>8</td>\n",
       "      <td>KMeans(random_state=3)</td>\n",
       "    </tr>\n",
       "    <tr>\n",
       "      <th>14</th>\n",
       "      <td>macosko2015</td>\n",
       "      <td>ae_only</td>\n",
       "      <td>2</td>\n",
       "      <td>0.537393</td>\n",
       "      <td>0.644517</td>\n",
       "      <td>0.524454</td>\n",
       "      <td>0.578320</td>\n",
       "      <td>4</td>\n",
       "      <td>8</td>\n",
       "      <td>KMeans(random_state=4)</td>\n",
       "    </tr>\n",
       "    <tr>\n",
       "      <th>15</th>\n",
       "      <td>macosko2015</td>\n",
       "      <td>ae_only</td>\n",
       "      <td>2</td>\n",
       "      <td>0.523919</td>\n",
       "      <td>0.673890</td>\n",
       "      <td>0.520747</td>\n",
       "      <td>0.587503</td>\n",
       "      <td>0</td>\n",
       "      <td>9</td>\n",
       "      <td>KMeans(n_clusters=9, random_state=0)</td>\n",
       "    </tr>\n",
       "    <tr>\n",
       "      <th>16</th>\n",
       "      <td>macosko2015</td>\n",
       "      <td>ae_only</td>\n",
       "      <td>2</td>\n",
       "      <td>0.515359</td>\n",
       "      <td>0.648585</td>\n",
       "      <td>0.493356</td>\n",
       "      <td>0.560420</td>\n",
       "      <td>1</td>\n",
       "      <td>9</td>\n",
       "      <td>KMeans(n_clusters=9, random_state=1)</td>\n",
       "    </tr>\n",
       "    <tr>\n",
       "      <th>17</th>\n",
       "      <td>macosko2015</td>\n",
       "      <td>ae_only</td>\n",
       "      <td>2</td>\n",
       "      <td>0.526905</td>\n",
       "      <td>0.650580</td>\n",
       "      <td>0.508722</td>\n",
       "      <td>0.570972</td>\n",
       "      <td>2</td>\n",
       "      <td>9</td>\n",
       "      <td>KMeans(n_clusters=9, random_state=2)</td>\n",
       "    </tr>\n",
       "    <tr>\n",
       "      <th>18</th>\n",
       "      <td>macosko2015</td>\n",
       "      <td>ae_only</td>\n",
       "      <td>2</td>\n",
       "      <td>0.521757</td>\n",
       "      <td>0.669955</td>\n",
       "      <td>0.516003</td>\n",
       "      <td>0.582987</td>\n",
       "      <td>3</td>\n",
       "      <td>9</td>\n",
       "      <td>KMeans(n_clusters=9, random_state=3)</td>\n",
       "    </tr>\n",
       "    <tr>\n",
       "      <th>19</th>\n",
       "      <td>macosko2015</td>\n",
       "      <td>ae_only</td>\n",
       "      <td>2</td>\n",
       "      <td>0.526840</td>\n",
       "      <td>0.650572</td>\n",
       "      <td>0.508736</td>\n",
       "      <td>0.570978</td>\n",
       "      <td>4</td>\n",
       "      <td>9</td>\n",
       "      <td>KMeans(n_clusters=9, random_state=4)</td>\n",
       "    </tr>\n",
       "    <tr>\n",
       "      <th>20</th>\n",
       "      <td>macosko2015</td>\n",
       "      <td>ae_only</td>\n",
       "      <td>2</td>\n",
       "      <td>0.472031</td>\n",
       "      <td>0.663921</td>\n",
       "      <td>0.440411</td>\n",
       "      <td>0.529548</td>\n",
       "      <td>0</td>\n",
       "      <td>10</td>\n",
       "      <td>KMeans(n_clusters=10, random_state=0)</td>\n",
       "    </tr>\n",
       "    <tr>\n",
       "      <th>21</th>\n",
       "      <td>macosko2015</td>\n",
       "      <td>ae_only</td>\n",
       "      <td>2</td>\n",
       "      <td>0.471683</td>\n",
       "      <td>0.663496</td>\n",
       "      <td>0.439800</td>\n",
       "      <td>0.528970</td>\n",
       "      <td>1</td>\n",
       "      <td>10</td>\n",
       "      <td>KMeans(n_clusters=10, random_state=1)</td>\n",
       "    </tr>\n",
       "    <tr>\n",
       "      <th>22</th>\n",
       "      <td>macosko2015</td>\n",
       "      <td>ae_only</td>\n",
       "      <td>2</td>\n",
       "      <td>0.516639</td>\n",
       "      <td>0.663438</td>\n",
       "      <td>0.492520</td>\n",
       "      <td>0.565343</td>\n",
       "      <td>2</td>\n",
       "      <td>10</td>\n",
       "      <td>KMeans(n_clusters=10, random_state=2)</td>\n",
       "    </tr>\n",
       "    <tr>\n",
       "      <th>23</th>\n",
       "      <td>macosko2015</td>\n",
       "      <td>ae_only</td>\n",
       "      <td>2</td>\n",
       "      <td>0.516613</td>\n",
       "      <td>0.663330</td>\n",
       "      <td>0.492404</td>\n",
       "      <td>0.565228</td>\n",
       "      <td>3</td>\n",
       "      <td>10</td>\n",
       "      <td>KMeans(n_clusters=10, random_state=3)</td>\n",
       "    </tr>\n",
       "    <tr>\n",
       "      <th>24</th>\n",
       "      <td>macosko2015</td>\n",
       "      <td>ae_only</td>\n",
       "      <td>2</td>\n",
       "      <td>0.516635</td>\n",
       "      <td>0.663586</td>\n",
       "      <td>0.492552</td>\n",
       "      <td>0.565418</td>\n",
       "      <td>4</td>\n",
       "      <td>10</td>\n",
       "      <td>KMeans(n_clusters=10, random_state=4)</td>\n",
       "    </tr>\n",
       "    <tr>\n",
       "      <th>25</th>\n",
       "      <td>macosko2015</td>\n",
       "      <td>ae_only</td>\n",
       "      <td>2</td>\n",
       "      <td>0.462657</td>\n",
       "      <td>0.679376</td>\n",
       "      <td>0.430183</td>\n",
       "      <td>0.526797</td>\n",
       "      <td>0</td>\n",
       "      <td>11</td>\n",
       "      <td>KMeans(n_clusters=11, random_state=0)</td>\n",
       "    </tr>\n",
       "    <tr>\n",
       "      <th>26</th>\n",
       "      <td>macosko2015</td>\n",
       "      <td>ae_only</td>\n",
       "      <td>2</td>\n",
       "      <td>0.463286</td>\n",
       "      <td>0.679413</td>\n",
       "      <td>0.430853</td>\n",
       "      <td>0.527310</td>\n",
       "      <td>1</td>\n",
       "      <td>11</td>\n",
       "      <td>KMeans(n_clusters=11, random_state=1)</td>\n",
       "    </tr>\n",
       "    <tr>\n",
       "      <th>27</th>\n",
       "      <td>macosko2015</td>\n",
       "      <td>ae_only</td>\n",
       "      <td>2</td>\n",
       "      <td>0.462235</td>\n",
       "      <td>0.676815</td>\n",
       "      <td>0.428546</td>\n",
       "      <td>0.524799</td>\n",
       "      <td>2</td>\n",
       "      <td>11</td>\n",
       "      <td>KMeans(n_clusters=11, random_state=2)</td>\n",
       "    </tr>\n",
       "    <tr>\n",
       "      <th>28</th>\n",
       "      <td>macosko2015</td>\n",
       "      <td>ae_only</td>\n",
       "      <td>2</td>\n",
       "      <td>0.462339</td>\n",
       "      <td>0.677298</td>\n",
       "      <td>0.428828</td>\n",
       "      <td>0.525156</td>\n",
       "      <td>3</td>\n",
       "      <td>11</td>\n",
       "      <td>KMeans(n_clusters=11, random_state=3)</td>\n",
       "    </tr>\n",
       "    <tr>\n",
       "      <th>29</th>\n",
       "      <td>macosko2015</td>\n",
       "      <td>ae_only</td>\n",
       "      <td>2</td>\n",
       "      <td>0.462944</td>\n",
       "      <td>0.677732</td>\n",
       "      <td>0.429647</td>\n",
       "      <td>0.525901</td>\n",
       "      <td>4</td>\n",
       "      <td>11</td>\n",
       "      <td>KMeans(n_clusters=11, random_state=4)</td>\n",
       "    </tr>\n",
       "    <tr>\n",
       "      <th>30</th>\n",
       "      <td>macosko2015</td>\n",
       "      <td>ae_only</td>\n",
       "      <td>2</td>\n",
       "      <td>0.479664</td>\n",
       "      <td>0.734275</td>\n",
       "      <td>0.443253</td>\n",
       "      <td>0.552802</td>\n",
       "      <td>0</td>\n",
       "      <td>12</td>\n",
       "      <td>KMeans(n_clusters=12, random_state=0)</td>\n",
       "    </tr>\n",
       "    <tr>\n",
       "      <th>31</th>\n",
       "      <td>macosko2015</td>\n",
       "      <td>ae_only</td>\n",
       "      <td>2</td>\n",
       "      <td>0.478395</td>\n",
       "      <td>0.734687</td>\n",
       "      <td>0.441735</td>\n",
       "      <td>0.551736</td>\n",
       "      <td>1</td>\n",
       "      <td>12</td>\n",
       "      <td>KMeans(n_clusters=12, random_state=1)</td>\n",
       "    </tr>\n",
       "    <tr>\n",
       "      <th>32</th>\n",
       "      <td>macosko2015</td>\n",
       "      <td>ae_only</td>\n",
       "      <td>2</td>\n",
       "      <td>0.479482</td>\n",
       "      <td>0.732756</td>\n",
       "      <td>0.442282</td>\n",
       "      <td>0.551616</td>\n",
       "      <td>2</td>\n",
       "      <td>12</td>\n",
       "      <td>KMeans(n_clusters=12, random_state=2)</td>\n",
       "    </tr>\n",
       "    <tr>\n",
       "      <th>33</th>\n",
       "      <td>macosko2015</td>\n",
       "      <td>ae_only</td>\n",
       "      <td>2</td>\n",
       "      <td>0.479157</td>\n",
       "      <td>0.732823</td>\n",
       "      <td>0.441929</td>\n",
       "      <td>0.551360</td>\n",
       "      <td>3</td>\n",
       "      <td>12</td>\n",
       "      <td>KMeans(n_clusters=12, random_state=3)</td>\n",
       "    </tr>\n",
       "    <tr>\n",
       "      <th>34</th>\n",
       "      <td>macosko2015</td>\n",
       "      <td>ae_only</td>\n",
       "      <td>2</td>\n",
       "      <td>0.467340</td>\n",
       "      <td>0.699151</td>\n",
       "      <td>0.437662</td>\n",
       "      <td>0.538333</td>\n",
       "      <td>4</td>\n",
       "      <td>12</td>\n",
       "      <td>KMeans(n_clusters=12, random_state=4)</td>\n",
       "    </tr>\n",
       "    <tr>\n",
       "      <th>35</th>\n",
       "      <td>macosko2015</td>\n",
       "      <td>ae_only</td>\n",
       "      <td>2</td>\n",
       "      <td>0.483648</td>\n",
       "      <td>0.754859</td>\n",
       "      <td>0.449830</td>\n",
       "      <td>0.563728</td>\n",
       "      <td>0</td>\n",
       "      <td>13</td>\n",
       "      <td>KMeans(n_clusters=13, random_state=0)</td>\n",
       "    </tr>\n",
       "    <tr>\n",
       "      <th>36</th>\n",
       "      <td>macosko2015</td>\n",
       "      <td>ae_only</td>\n",
       "      <td>2</td>\n",
       "      <td>0.484105</td>\n",
       "      <td>0.754731</td>\n",
       "      <td>0.450289</td>\n",
       "      <td>0.564052</td>\n",
       "      <td>1</td>\n",
       "      <td>13</td>\n",
       "      <td>KMeans(n_clusters=13, random_state=1)</td>\n",
       "    </tr>\n",
       "    <tr>\n",
       "      <th>37</th>\n",
       "      <td>macosko2015</td>\n",
       "      <td>ae_only</td>\n",
       "      <td>2</td>\n",
       "      <td>0.484124</td>\n",
       "      <td>0.755359</td>\n",
       "      <td>0.450581</td>\n",
       "      <td>0.564456</td>\n",
       "      <td>2</td>\n",
       "      <td>13</td>\n",
       "      <td>KMeans(n_clusters=13, random_state=2)</td>\n",
       "    </tr>\n",
       "    <tr>\n",
       "      <th>38</th>\n",
       "      <td>macosko2015</td>\n",
       "      <td>ae_only</td>\n",
       "      <td>2</td>\n",
       "      <td>0.484113</td>\n",
       "      <td>0.754869</td>\n",
       "      <td>0.450362</td>\n",
       "      <td>0.564148</td>\n",
       "      <td>3</td>\n",
       "      <td>13</td>\n",
       "      <td>KMeans(n_clusters=13, random_state=3)</td>\n",
       "    </tr>\n",
       "    <tr>\n",
       "      <th>39</th>\n",
       "      <td>macosko2015</td>\n",
       "      <td>ae_only</td>\n",
       "      <td>2</td>\n",
       "      <td>0.483789</td>\n",
       "      <td>0.754790</td>\n",
       "      <td>0.449937</td>\n",
       "      <td>0.563793</td>\n",
       "      <td>4</td>\n",
       "      <td>13</td>\n",
       "      <td>KMeans(n_clusters=13, random_state=4)</td>\n",
       "    </tr>\n",
       "    <tr>\n",
       "      <th>40</th>\n",
       "      <td>macosko2015</td>\n",
       "      <td>ae_only</td>\n",
       "      <td>2</td>\n",
       "      <td>0.485878</td>\n",
       "      <td>0.765110</td>\n",
       "      <td>0.453513</td>\n",
       "      <td>0.569474</td>\n",
       "      <td>0</td>\n",
       "      <td>14</td>\n",
       "      <td>KMeans(n_clusters=14, random_state=0)</td>\n",
       "    </tr>\n",
       "    <tr>\n",
       "      <th>41</th>\n",
       "      <td>macosko2015</td>\n",
       "      <td>ae_only</td>\n",
       "      <td>2</td>\n",
       "      <td>0.485650</td>\n",
       "      <td>0.764711</td>\n",
       "      <td>0.452689</td>\n",
       "      <td>0.568714</td>\n",
       "      <td>1</td>\n",
       "      <td>14</td>\n",
       "      <td>KMeans(n_clusters=14, random_state=1)</td>\n",
       "    </tr>\n",
       "    <tr>\n",
       "      <th>42</th>\n",
       "      <td>macosko2015</td>\n",
       "      <td>ae_only</td>\n",
       "      <td>2</td>\n",
       "      <td>0.485606</td>\n",
       "      <td>0.764622</td>\n",
       "      <td>0.452863</td>\n",
       "      <td>0.568827</td>\n",
       "      <td>2</td>\n",
       "      <td>14</td>\n",
       "      <td>KMeans(n_clusters=14, random_state=2)</td>\n",
       "    </tr>\n",
       "    <tr>\n",
       "      <th>43</th>\n",
       "      <td>macosko2015</td>\n",
       "      <td>ae_only</td>\n",
       "      <td>2</td>\n",
       "      <td>0.485579</td>\n",
       "      <td>0.765160</td>\n",
       "      <td>0.453100</td>\n",
       "      <td>0.569163</td>\n",
       "      <td>3</td>\n",
       "      <td>14</td>\n",
       "      <td>KMeans(n_clusters=14, random_state=3)</td>\n",
       "    </tr>\n",
       "    <tr>\n",
       "      <th>44</th>\n",
       "      <td>macosko2015</td>\n",
       "      <td>ae_only</td>\n",
       "      <td>2</td>\n",
       "      <td>0.485650</td>\n",
       "      <td>0.764711</td>\n",
       "      <td>0.452689</td>\n",
       "      <td>0.568714</td>\n",
       "      <td>4</td>\n",
       "      <td>14</td>\n",
       "      <td>KMeans(n_clusters=14, random_state=4)</td>\n",
       "    </tr>\n",
       "    <tr>\n",
       "      <th>45</th>\n",
       "      <td>macosko2015</td>\n",
       "      <td>ae_only</td>\n",
       "      <td>2</td>\n",
       "      <td>0.485152</td>\n",
       "      <td>0.786519</td>\n",
       "      <td>0.455642</td>\n",
       "      <td>0.577013</td>\n",
       "      <td>0</td>\n",
       "      <td>15</td>\n",
       "      <td>KMeans(n_clusters=15, random_state=0)</td>\n",
       "    </tr>\n",
       "    <tr>\n",
       "      <th>46</th>\n",
       "      <td>macosko2015</td>\n",
       "      <td>ae_only</td>\n",
       "      <td>2</td>\n",
       "      <td>0.487699</td>\n",
       "      <td>0.771680</td>\n",
       "      <td>0.454038</td>\n",
       "      <td>0.571701</td>\n",
       "      <td>1</td>\n",
       "      <td>15</td>\n",
       "      <td>KMeans(n_clusters=15, random_state=1)</td>\n",
       "    </tr>\n",
       "    <tr>\n",
       "      <th>47</th>\n",
       "      <td>macosko2015</td>\n",
       "      <td>ae_only</td>\n",
       "      <td>2</td>\n",
       "      <td>0.487628</td>\n",
       "      <td>0.772088</td>\n",
       "      <td>0.453898</td>\n",
       "      <td>0.571702</td>\n",
       "      <td>2</td>\n",
       "      <td>15</td>\n",
       "      <td>KMeans(n_clusters=15, random_state=2)</td>\n",
       "    </tr>\n",
       "    <tr>\n",
       "      <th>48</th>\n",
       "      <td>macosko2015</td>\n",
       "      <td>ae_only</td>\n",
       "      <td>2</td>\n",
       "      <td>0.486013</td>\n",
       "      <td>0.786164</td>\n",
       "      <td>0.456833</td>\n",
       "      <td>0.577870</td>\n",
       "      <td>3</td>\n",
       "      <td>15</td>\n",
       "      <td>KMeans(n_clusters=15, random_state=3)</td>\n",
       "    </tr>\n",
       "    <tr>\n",
       "      <th>49</th>\n",
       "      <td>macosko2015</td>\n",
       "      <td>ae_only</td>\n",
       "      <td>2</td>\n",
       "      <td>0.487603</td>\n",
       "      <td>0.771237</td>\n",
       "      <td>0.453498</td>\n",
       "      <td>0.571152</td>\n",
       "      <td>4</td>\n",
       "      <td>15</td>\n",
       "      <td>KMeans(n_clusters=15, random_state=4)</td>\n",
       "    </tr>\n",
       "    <tr>\n",
       "      <th>50</th>\n",
       "      <td>macosko2015</td>\n",
       "      <td>ae_only</td>\n",
       "      <td>2</td>\n",
       "      <td>0.487268</td>\n",
       "      <td>0.795856</td>\n",
       "      <td>0.458917</td>\n",
       "      <td>0.582148</td>\n",
       "      <td>0</td>\n",
       "      <td>16</td>\n",
       "      <td>KMeans(n_clusters=16, random_state=0)</td>\n",
       "    </tr>\n",
       "    <tr>\n",
       "      <th>51</th>\n",
       "      <td>macosko2015</td>\n",
       "      <td>ae_only</td>\n",
       "      <td>2</td>\n",
       "      <td>0.487461</td>\n",
       "      <td>0.795515</td>\n",
       "      <td>0.458907</td>\n",
       "      <td>0.582049</td>\n",
       "      <td>1</td>\n",
       "      <td>16</td>\n",
       "      <td>KMeans(n_clusters=16, random_state=1)</td>\n",
       "    </tr>\n",
       "    <tr>\n",
       "      <th>52</th>\n",
       "      <td>macosko2015</td>\n",
       "      <td>ae_only</td>\n",
       "      <td>2</td>\n",
       "      <td>0.487479</td>\n",
       "      <td>0.795962</td>\n",
       "      <td>0.459220</td>\n",
       "      <td>0.582420</td>\n",
       "      <td>2</td>\n",
       "      <td>16</td>\n",
       "      <td>KMeans(n_clusters=16, random_state=2)</td>\n",
       "    </tr>\n",
       "    <tr>\n",
       "      <th>53</th>\n",
       "      <td>macosko2015</td>\n",
       "      <td>ae_only</td>\n",
       "      <td>2</td>\n",
       "      <td>0.478613</td>\n",
       "      <td>0.776468</td>\n",
       "      <td>0.443382</td>\n",
       "      <td>0.564449</td>\n",
       "      <td>3</td>\n",
       "      <td>16</td>\n",
       "      <td>KMeans(n_clusters=16, random_state=3)</td>\n",
       "    </tr>\n",
       "    <tr>\n",
       "      <th>54</th>\n",
       "      <td>macosko2015</td>\n",
       "      <td>ae_only</td>\n",
       "      <td>2</td>\n",
       "      <td>0.487543</td>\n",
       "      <td>0.795428</td>\n",
       "      <td>0.459043</td>\n",
       "      <td>0.582135</td>\n",
       "      <td>4</td>\n",
       "      <td>16</td>\n",
       "      <td>KMeans(n_clusters=16, random_state=4)</td>\n",
       "    </tr>\n",
       "    <tr>\n",
       "      <th>55</th>\n",
       "      <td>macosko2015</td>\n",
       "      <td>ae_only</td>\n",
       "      <td>2</td>\n",
       "      <td>0.470674</td>\n",
       "      <td>0.794122</td>\n",
       "      <td>0.420178</td>\n",
       "      <td>0.549572</td>\n",
       "      <td>0</td>\n",
       "      <td>17</td>\n",
       "      <td>KMeans(n_clusters=17, random_state=0)</td>\n",
       "    </tr>\n",
       "    <tr>\n",
       "      <th>56</th>\n",
       "      <td>macosko2015</td>\n",
       "      <td>ae_only</td>\n",
       "      <td>2</td>\n",
       "      <td>0.470591</td>\n",
       "      <td>0.795036</td>\n",
       "      <td>0.420566</td>\n",
       "      <td>0.550123</td>\n",
       "      <td>1</td>\n",
       "      <td>17</td>\n",
       "      <td>KMeans(n_clusters=17, random_state=1)</td>\n",
       "    </tr>\n",
       "    <tr>\n",
       "      <th>57</th>\n",
       "      <td>macosko2015</td>\n",
       "      <td>ae_only</td>\n",
       "      <td>2</td>\n",
       "      <td>0.470238</td>\n",
       "      <td>0.795191</td>\n",
       "      <td>0.420207</td>\n",
       "      <td>0.549852</td>\n",
       "      <td>2</td>\n",
       "      <td>17</td>\n",
       "      <td>KMeans(n_clusters=17, random_state=2)</td>\n",
       "    </tr>\n",
       "    <tr>\n",
       "      <th>58</th>\n",
       "      <td>macosko2015</td>\n",
       "      <td>ae_only</td>\n",
       "      <td>2</td>\n",
       "      <td>0.470595</td>\n",
       "      <td>0.794870</td>\n",
       "      <td>0.420634</td>\n",
       "      <td>0.550141</td>\n",
       "      <td>3</td>\n",
       "      <td>17</td>\n",
       "      <td>KMeans(n_clusters=17, random_state=3)</td>\n",
       "    </tr>\n",
       "    <tr>\n",
       "      <th>59</th>\n",
       "      <td>macosko2015</td>\n",
       "      <td>ae_only</td>\n",
       "      <td>2</td>\n",
       "      <td>0.470679</td>\n",
       "      <td>0.794812</td>\n",
       "      <td>0.420469</td>\n",
       "      <td>0.549986</td>\n",
       "      <td>4</td>\n",
       "      <td>17</td>\n",
       "      <td>KMeans(n_clusters=17, random_state=4)</td>\n",
       "    </tr>\n",
       "  </tbody>\n",
       "</table>\n",
       "</div>"
      ],
      "text/plain": [
       "        dataset   class_ dim  silhouette  homogeneity  completeness  \\\n",
       "0   macosko2015  ae_only   2    0.539727     0.606145      0.537056   \n",
       "1   macosko2015  ae_only   2    0.539613     0.606327      0.537069   \n",
       "2   macosko2015  ae_only   2    0.539229     0.606792      0.536404   \n",
       "3   macosko2015  ae_only   2    0.539249     0.606719      0.536366   \n",
       "4   macosko2015  ae_only   2    0.539261     0.606726      0.536385   \n",
       "5   macosko2015  ae_only   2    0.530614     0.653852      0.546602   \n",
       "6   macosko2015  ae_only   2    0.530603     0.653991      0.546695   \n",
       "7   macosko2015  ae_only   2    0.530614     0.653852      0.546602   \n",
       "8   macosko2015  ae_only   2    0.530976     0.653835      0.546986   \n",
       "9   macosko2015  ae_only   2    0.530952     0.653895      0.547010   \n",
       "10  macosko2015  ae_only   2    0.536921     0.647454      0.526424   \n",
       "11  macosko2015  ae_only   2    0.537405     0.644455      0.524430   \n",
       "12  macosko2015  ae_only   2    0.537493     0.645590      0.525796   \n",
       "13  macosko2015  ae_only   2    0.536831     0.647598      0.526441   \n",
       "14  macosko2015  ae_only   2    0.537393     0.644517      0.524454   \n",
       "15  macosko2015  ae_only   2    0.523919     0.673890      0.520747   \n",
       "16  macosko2015  ae_only   2    0.515359     0.648585      0.493356   \n",
       "17  macosko2015  ae_only   2    0.526905     0.650580      0.508722   \n",
       "18  macosko2015  ae_only   2    0.521757     0.669955      0.516003   \n",
       "19  macosko2015  ae_only   2    0.526840     0.650572      0.508736   \n",
       "20  macosko2015  ae_only   2    0.472031     0.663921      0.440411   \n",
       "21  macosko2015  ae_only   2    0.471683     0.663496      0.439800   \n",
       "22  macosko2015  ae_only   2    0.516639     0.663438      0.492520   \n",
       "23  macosko2015  ae_only   2    0.516613     0.663330      0.492404   \n",
       "24  macosko2015  ae_only   2    0.516635     0.663586      0.492552   \n",
       "25  macosko2015  ae_only   2    0.462657     0.679376      0.430183   \n",
       "26  macosko2015  ae_only   2    0.463286     0.679413      0.430853   \n",
       "27  macosko2015  ae_only   2    0.462235     0.676815      0.428546   \n",
       "28  macosko2015  ae_only   2    0.462339     0.677298      0.428828   \n",
       "29  macosko2015  ae_only   2    0.462944     0.677732      0.429647   \n",
       "30  macosko2015  ae_only   2    0.479664     0.734275      0.443253   \n",
       "31  macosko2015  ae_only   2    0.478395     0.734687      0.441735   \n",
       "32  macosko2015  ae_only   2    0.479482     0.732756      0.442282   \n",
       "33  macosko2015  ae_only   2    0.479157     0.732823      0.441929   \n",
       "34  macosko2015  ae_only   2    0.467340     0.699151      0.437662   \n",
       "35  macosko2015  ae_only   2    0.483648     0.754859      0.449830   \n",
       "36  macosko2015  ae_only   2    0.484105     0.754731      0.450289   \n",
       "37  macosko2015  ae_only   2    0.484124     0.755359      0.450581   \n",
       "38  macosko2015  ae_only   2    0.484113     0.754869      0.450362   \n",
       "39  macosko2015  ae_only   2    0.483789     0.754790      0.449937   \n",
       "40  macosko2015  ae_only   2    0.485878     0.765110      0.453513   \n",
       "41  macosko2015  ae_only   2    0.485650     0.764711      0.452689   \n",
       "42  macosko2015  ae_only   2    0.485606     0.764622      0.452863   \n",
       "43  macosko2015  ae_only   2    0.485579     0.765160      0.453100   \n",
       "44  macosko2015  ae_only   2    0.485650     0.764711      0.452689   \n",
       "45  macosko2015  ae_only   2    0.485152     0.786519      0.455642   \n",
       "46  macosko2015  ae_only   2    0.487699     0.771680      0.454038   \n",
       "47  macosko2015  ae_only   2    0.487628     0.772088      0.453898   \n",
       "48  macosko2015  ae_only   2    0.486013     0.786164      0.456833   \n",
       "49  macosko2015  ae_only   2    0.487603     0.771237      0.453498   \n",
       "50  macosko2015  ae_only   2    0.487268     0.795856      0.458917   \n",
       "51  macosko2015  ae_only   2    0.487461     0.795515      0.458907   \n",
       "52  macosko2015  ae_only   2    0.487479     0.795962      0.459220   \n",
       "53  macosko2015  ae_only   2    0.478613     0.776468      0.443382   \n",
       "54  macosko2015  ae_only   2    0.487543     0.795428      0.459043   \n",
       "55  macosko2015  ae_only   2    0.470674     0.794122      0.420178   \n",
       "56  macosko2015  ae_only   2    0.470591     0.795036      0.420566   \n",
       "57  macosko2015  ae_only   2    0.470238     0.795191      0.420207   \n",
       "58  macosko2015  ae_only   2    0.470595     0.794870      0.420634   \n",
       "59  macosko2015  ae_only   2    0.470679     0.794812      0.420469   \n",
       "\n",
       "    v_measure init_ n_clusters                                  model  \n",
       "0    0.569513     0          6   KMeans(n_clusters=6, random_state=0)  \n",
       "1    0.569601     1          6   KMeans(n_clusters=6, random_state=1)  \n",
       "2    0.569431     2          6   KMeans(n_clusters=6, random_state=2)  \n",
       "3    0.569377     3          6   KMeans(n_clusters=6, random_state=3)  \n",
       "4    0.569391     4          6   KMeans(n_clusters=6, random_state=4)  \n",
       "5    0.595436     0          7   KMeans(n_clusters=7, random_state=0)  \n",
       "6    0.595549     1          7   KMeans(n_clusters=7, random_state=1)  \n",
       "7    0.595436     2          7   KMeans(n_clusters=7, random_state=2)  \n",
       "8    0.595657     3          7   KMeans(n_clusters=7, random_state=3)  \n",
       "9    0.595696     4          7   KMeans(n_clusters=7, random_state=4)  \n",
       "10   0.580700     0          8                 KMeans(random_state=0)  \n",
       "11   0.578280     1          8                 KMeans(random_state=1)  \n",
       "12   0.579567     2          8                 KMeans(random_state=2)  \n",
       "13   0.580768     3          8                 KMeans(random_state=3)  \n",
       "14   0.578320     4          8                 KMeans(random_state=4)  \n",
       "15   0.587503     0          9   KMeans(n_clusters=9, random_state=0)  \n",
       "16   0.560420     1          9   KMeans(n_clusters=9, random_state=1)  \n",
       "17   0.570972     2          9   KMeans(n_clusters=9, random_state=2)  \n",
       "18   0.582987     3          9   KMeans(n_clusters=9, random_state=3)  \n",
       "19   0.570978     4          9   KMeans(n_clusters=9, random_state=4)  \n",
       "20   0.529548     0         10  KMeans(n_clusters=10, random_state=0)  \n",
       "21   0.528970     1         10  KMeans(n_clusters=10, random_state=1)  \n",
       "22   0.565343     2         10  KMeans(n_clusters=10, random_state=2)  \n",
       "23   0.565228     3         10  KMeans(n_clusters=10, random_state=3)  \n",
       "24   0.565418     4         10  KMeans(n_clusters=10, random_state=4)  \n",
       "25   0.526797     0         11  KMeans(n_clusters=11, random_state=0)  \n",
       "26   0.527310     1         11  KMeans(n_clusters=11, random_state=1)  \n",
       "27   0.524799     2         11  KMeans(n_clusters=11, random_state=2)  \n",
       "28   0.525156     3         11  KMeans(n_clusters=11, random_state=3)  \n",
       "29   0.525901     4         11  KMeans(n_clusters=11, random_state=4)  \n",
       "30   0.552802     0         12  KMeans(n_clusters=12, random_state=0)  \n",
       "31   0.551736     1         12  KMeans(n_clusters=12, random_state=1)  \n",
       "32   0.551616     2         12  KMeans(n_clusters=12, random_state=2)  \n",
       "33   0.551360     3         12  KMeans(n_clusters=12, random_state=3)  \n",
       "34   0.538333     4         12  KMeans(n_clusters=12, random_state=4)  \n",
       "35   0.563728     0         13  KMeans(n_clusters=13, random_state=0)  \n",
       "36   0.564052     1         13  KMeans(n_clusters=13, random_state=1)  \n",
       "37   0.564456     2         13  KMeans(n_clusters=13, random_state=2)  \n",
       "38   0.564148     3         13  KMeans(n_clusters=13, random_state=3)  \n",
       "39   0.563793     4         13  KMeans(n_clusters=13, random_state=4)  \n",
       "40   0.569474     0         14  KMeans(n_clusters=14, random_state=0)  \n",
       "41   0.568714     1         14  KMeans(n_clusters=14, random_state=1)  \n",
       "42   0.568827     2         14  KMeans(n_clusters=14, random_state=2)  \n",
       "43   0.569163     3         14  KMeans(n_clusters=14, random_state=3)  \n",
       "44   0.568714     4         14  KMeans(n_clusters=14, random_state=4)  \n",
       "45   0.577013     0         15  KMeans(n_clusters=15, random_state=0)  \n",
       "46   0.571701     1         15  KMeans(n_clusters=15, random_state=1)  \n",
       "47   0.571702     2         15  KMeans(n_clusters=15, random_state=2)  \n",
       "48   0.577870     3         15  KMeans(n_clusters=15, random_state=3)  \n",
       "49   0.571152     4         15  KMeans(n_clusters=15, random_state=4)  \n",
       "50   0.582148     0         16  KMeans(n_clusters=16, random_state=0)  \n",
       "51   0.582049     1         16  KMeans(n_clusters=16, random_state=1)  \n",
       "52   0.582420     2         16  KMeans(n_clusters=16, random_state=2)  \n",
       "53   0.564449     3         16  KMeans(n_clusters=16, random_state=3)  \n",
       "54   0.582135     4         16  KMeans(n_clusters=16, random_state=4)  \n",
       "55   0.549572     0         17  KMeans(n_clusters=17, random_state=0)  \n",
       "56   0.550123     1         17  KMeans(n_clusters=17, random_state=1)  \n",
       "57   0.549852     2         17  KMeans(n_clusters=17, random_state=2)  \n",
       "58   0.550141     3         17  KMeans(n_clusters=17, random_state=3)  \n",
       "59   0.549986     4         17  KMeans(n_clusters=17, random_state=4)  "
      ]
     },
     "execution_count": 55,
     "metadata": {},
     "output_type": "execute_result"
    }
   ],
   "source": [
    "get_cluster_metrics(projection_df.iloc[0], n_init=5)"
   ]
  },
  {
   "cell_type": "code",
   "execution_count": null,
   "metadata": {},
   "outputs": [],
   "source": []
  },
  {
   "cell_type": "code",
   "execution_count": null,
   "metadata": {},
   "outputs": [],
   "source": []
  },
  {
   "cell_type": "code",
   "execution_count": null,
   "metadata": {},
   "outputs": [],
   "source": []
  },
  {
   "cell_type": "code",
   "execution_count": null,
   "metadata": {},
   "outputs": [],
   "source": []
  },
  {
   "cell_type": "code",
   "execution_count": null,
   "metadata": {},
   "outputs": [],
   "source": []
  }
 ],
 "metadata": {
  "kernelspec": {
   "display_name": "Python 3",
   "language": "python",
   "name": "python3"
  },
  "language_info": {
   "codemirror_mode": {
    "name": "ipython",
    "version": 3
   },
   "file_extension": ".py",
   "mimetype": "text/x-python",
   "name": "python",
   "nbconvert_exporter": "python",
   "pygments_lexer": "ipython3",
   "version": "3.6.7"
  }
 },
 "nbformat": 4,
 "nbformat_minor": 2
}
