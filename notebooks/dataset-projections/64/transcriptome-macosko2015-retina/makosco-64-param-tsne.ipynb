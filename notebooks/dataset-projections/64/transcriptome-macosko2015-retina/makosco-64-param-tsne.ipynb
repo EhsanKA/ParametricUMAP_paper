{
 "cells": [
  {
   "cell_type": "code",
   "execution_count": 1,
   "metadata": {
    "ExecuteTime": {
     "end_time": "2020-07-20T19:42:27.689736Z",
     "start_time": "2020-07-20T19:42:27.676241Z"
    }
   },
   "outputs": [],
   "source": [
    "# reload packages\n",
    "%load_ext autoreload\n",
    "%autoreload 2"
   ]
  },
  {
   "cell_type": "markdown",
   "metadata": {},
   "source": [
    "### Choose GPU (this may not be needed on your computer)"
   ]
  },
  {
   "cell_type": "code",
   "execution_count": 2,
   "metadata": {
    "ExecuteTime": {
     "end_time": "2020-07-20T19:42:27.699526Z",
     "start_time": "2020-07-20T19:42:27.691093Z"
    }
   },
   "outputs": [
    {
     "name": "stdout",
     "output_type": "stream",
     "text": [
      "env: CUDA_DEVICE_ORDER=PCI_BUS_ID\n",
      "env: CUDA_VISIBLE_DEVICES=1\n"
     ]
    }
   ],
   "source": [
    "%env CUDA_DEVICE_ORDER=PCI_BUS_ID\n",
    "%env CUDA_VISIBLE_DEVICES=1"
   ]
  },
  {
   "cell_type": "code",
   "execution_count": 3,
   "metadata": {
    "ExecuteTime": {
     "end_time": "2020-07-20T19:42:31.665805Z",
     "start_time": "2020-07-20T19:42:27.700593Z"
    }
   },
   "outputs": [
    {
     "name": "stdout",
     "output_type": "stream",
     "text": [
      "[PhysicalDevice(name='/physical_device:GPU:0', device_type='GPU')]\n"
     ]
    }
   ],
   "source": [
    "import tensorflow as tf\n",
    "gpu_devices = tf.config.experimental.list_physical_devices('GPU')\n",
    "if len(gpu_devices)>0:\n",
    "    tf.config.experimental.set_memory_growth(gpu_devices[0], True)\n",
    "print(gpu_devices)"
   ]
  },
  {
   "cell_type": "markdown",
   "metadata": {},
   "source": [
    "### load packages"
   ]
  },
  {
   "cell_type": "code",
   "execution_count": 4,
   "metadata": {
    "ExecuteTime": {
     "end_time": "2020-07-20T19:42:36.489241Z",
     "start_time": "2020-07-20T19:42:31.667403Z"
    }
   },
   "outputs": [
    {
     "name": "stderr",
     "output_type": "stream",
     "text": [
      "/mnt/cube/tsainbur/conda_envs/tpy3/lib/python3.6/site-packages/tqdm/autonotebook/__init__.py:14: TqdmExperimentalWarning: Using `tqdm.autonotebook.tqdm` in notebook mode. Use `tqdm.tqdm` instead to force console mode (e.g. in jupyter console)\n",
      "  \" (e.g. in jupyter console)\", TqdmExperimentalWarning)\n"
     ]
    }
   ],
   "source": [
    "from tfumap.umap import tfUMAP"
   ]
  },
  {
   "cell_type": "code",
   "execution_count": 5,
   "metadata": {
    "ExecuteTime": {
     "end_time": "2020-07-20T19:42:36.658270Z",
     "start_time": "2020-07-20T19:42:36.490958Z"
    }
   },
   "outputs": [],
   "source": [
    "import tensorflow as tf\n",
    "import numpy as np\n",
    "import matplotlib.pyplot as plt\n",
    "from tqdm.autonotebook import tqdm\n",
    "import umap\n",
    "import pandas as pd"
   ]
  },
  {
   "cell_type": "code",
   "execution_count": 6,
   "metadata": {
    "ExecuteTime": {
     "end_time": "2020-07-20T19:42:36.704375Z",
     "start_time": "2020-07-20T19:42:36.659945Z"
    }
   },
   "outputs": [],
   "source": [
    "from tfumap.umap import tfUMAP"
   ]
  },
  {
   "cell_type": "markdown",
   "metadata": {},
   "source": [
    "### Load dataset"
   ]
  },
  {
   "cell_type": "code",
   "execution_count": 72,
   "metadata": {
    "ExecuteTime": {
     "end_time": "2020-07-23T18:36:48.498227Z",
     "start_time": "2020-07-23T18:36:47.962917Z"
    }
   },
   "outputs": [],
   "source": [
    "dataset = 'macosko2015'\n",
    "dims = (50)"
   ]
  },
  {
   "cell_type": "code",
   "execution_count": 8,
   "metadata": {
    "ExecuteTime": {
     "end_time": "2020-07-20T19:42:36.771954Z",
     "start_time": "2020-07-20T19:42:36.739547Z"
    }
   },
   "outputs": [],
   "source": [
    "from tfumap.paths import ensure_dir, MODEL_DIR, DATA_DIR"
   ]
  },
  {
   "cell_type": "code",
   "execution_count": 9,
   "metadata": {
    "ExecuteTime": {
     "end_time": "2020-07-20T19:42:36.804991Z",
     "start_time": "2020-07-20T19:42:36.773086Z"
    }
   },
   "outputs": [],
   "source": [
    "#dataset_address = 'http://file.biolab.si/opentsne/macosko_2015.pkl.gz'\n",
    "# https://opentsne.readthedocs.io/en/latest/examples/01_simple_usage/01_simple_usage.html\n",
    "# also see https://github.com/berenslab/rna-seq-tsne/blob/master/umi-datasets.ipynb"
   ]
  },
  {
   "cell_type": "code",
   "execution_count": 10,
   "metadata": {
    "ExecuteTime": {
     "end_time": "2020-07-20T19:42:36.976114Z",
     "start_time": "2020-07-20T19:42:36.806125Z"
    }
   },
   "outputs": [],
   "source": [
    "import gzip\n",
    "import pickle\n",
    "\n",
    "with gzip.open(DATA_DIR / 'macosko_2015.pkl.gz', \"rb\") as f:\n",
    "    data = pickle.load(f)\n",
    "\n",
    "x = data[\"pca_50\"]\n",
    "y = data[\"CellType1\"].astype(str)"
   ]
  },
  {
   "cell_type": "code",
   "execution_count": 11,
   "metadata": {
    "ExecuteTime": {
     "end_time": "2020-07-20T19:42:37.017859Z",
     "start_time": "2020-07-20T19:42:36.977561Z"
    }
   },
   "outputs": [
    {
     "name": "stdout",
     "output_type": "stream",
     "text": [
      "Data set contains 44808 samples with 50 features\n"
     ]
    }
   ],
   "source": [
    "print(\"Data set contains %d samples with %d features\" % x.shape)"
   ]
  },
  {
   "cell_type": "code",
   "execution_count": 12,
   "metadata": {
    "ExecuteTime": {
     "end_time": "2020-07-20T19:42:37.054245Z",
     "start_time": "2020-07-20T19:42:37.019002Z"
    }
   },
   "outputs": [],
   "source": [
    "from sklearn.model_selection import train_test_split"
   ]
  },
  {
   "cell_type": "code",
   "execution_count": 13,
   "metadata": {
    "ExecuteTime": {
     "end_time": "2020-07-20T19:42:37.104834Z",
     "start_time": "2020-07-20T19:42:37.055405Z"
    }
   },
   "outputs": [],
   "source": [
    "X_train, X_test, Y_train, Y_test = train_test_split(x, y, test_size=.1, random_state=42)"
   ]
  },
  {
   "cell_type": "code",
   "execution_count": 14,
   "metadata": {
    "ExecuteTime": {
     "end_time": "2020-07-20T19:42:37.148439Z",
     "start_time": "2020-07-20T19:42:37.106274Z"
    }
   },
   "outputs": [
    {
     "data": {
      "text/plain": [
       "(40327, 50)"
      ]
     },
     "execution_count": 14,
     "metadata": {},
     "output_type": "execute_result"
    }
   ],
   "source": [
    "np.shape(X_train)"
   ]
  },
  {
   "cell_type": "code",
   "execution_count": 15,
   "metadata": {
    "ExecuteTime": {
     "end_time": "2020-07-20T19:42:37.183753Z",
     "start_time": "2020-07-20T19:42:37.149713Z"
    }
   },
   "outputs": [],
   "source": [
    "n_valid = 10000\n",
    "X_valid = X_train[-n_valid:]\n",
    "Y_valid = Y_train[-n_valid:]\n",
    "X_train = X_train[:-n_valid]\n",
    "Y_train = Y_train[:-n_valid]"
   ]
  },
  {
   "cell_type": "code",
   "execution_count": 16,
   "metadata": {
    "ExecuteTime": {
     "end_time": "2020-07-20T19:42:37.220920Z",
     "start_time": "2020-07-20T19:42:37.185811Z"
    }
   },
   "outputs": [],
   "source": [
    "X_train_flat = X_train"
   ]
  },
  {
   "cell_type": "code",
   "execution_count": 17,
   "metadata": {
    "ExecuteTime": {
     "end_time": "2020-07-20T19:42:37.253833Z",
     "start_time": "2020-07-20T19:42:37.222120Z"
    }
   },
   "outputs": [],
   "source": [
    "X_test_flat = X_test"
   ]
  },
  {
   "cell_type": "code",
   "execution_count": 18,
   "metadata": {
    "ExecuteTime": {
     "end_time": "2020-07-20T19:42:37.286668Z",
     "start_time": "2020-07-20T19:42:37.254980Z"
    }
   },
   "outputs": [],
   "source": [
    "from sklearn.preprocessing import OrdinalEncoder\n",
    "enc = OrdinalEncoder()"
   ]
  },
  {
   "cell_type": "code",
   "execution_count": 19,
   "metadata": {
    "ExecuteTime": {
     "end_time": "2020-07-20T19:42:37.391781Z",
     "start_time": "2020-07-20T19:42:37.287771Z"
    }
   },
   "outputs": [],
   "source": [
    "Y_train = enc.fit_transform([[i] for i in Y_train]).flatten()\n",
    "Y_test = enc.fit_transform([[i] for i in Y_test]).flatten()"
   ]
  },
  {
   "cell_type": "markdown",
   "metadata": {},
   "source": [
    "### Create model and train"
   ]
  },
  {
   "cell_type": "code",
   "execution_count": 20,
   "metadata": {
    "ExecuteTime": {
     "end_time": "2020-07-20T19:42:38.294099Z",
     "start_time": "2020-07-20T19:42:37.394870Z"
    }
   },
   "outputs": [],
   "source": [
    "n_components = 64\n",
    "encoder = tf.keras.Sequential()\n",
    "encoder.add(tf.keras.layers.InputLayer(input_shape=dims))\n",
    "encoder.add(tf.keras.layers.Flatten())\n",
    "encoder.add(tf.keras.layers.Dense(units=100, activation=\"relu\"))\n",
    "encoder.add(tf.keras.layers.Dense(units=100, activation=\"relu\"))\n",
    "encoder.add(tf.keras.layers.Dense(units=100, activation=\"relu\"))\n",
    "encoder.add(\n",
    "    tf.keras.layers.Dense(units=n_components, name=\"z\")\n",
    ")"
   ]
  },
  {
   "cell_type": "code",
   "execution_count": 21,
   "metadata": {
    "ExecuteTime": {
     "end_time": "2020-07-20T19:42:38.337299Z",
     "start_time": "2020-07-20T19:42:38.295834Z"
    }
   },
   "outputs": [],
   "source": [
    "batch_size = 5000"
   ]
  },
  {
   "cell_type": "code",
   "execution_count": 22,
   "metadata": {
    "ExecuteTime": {
     "end_time": "2020-07-20T19:42:38.372197Z",
     "start_time": "2020-07-20T19:42:38.338502Z"
    }
   },
   "outputs": [],
   "source": [
    "from tfumap.paths import ensure_dir, MODEL_DIR, DATA_DIR"
   ]
  },
  {
   "cell_type": "code",
   "execution_count": 23,
   "metadata": {
    "ExecuteTime": {
     "end_time": "2020-07-20T19:42:38.406991Z",
     "start_time": "2020-07-20T19:42:38.373359Z"
    }
   },
   "outputs": [],
   "source": [
    "from tfumap.parametric_tsne import compute_joint_probabilities, tsne_loss"
   ]
  },
  {
   "cell_type": "code",
   "execution_count": 24,
   "metadata": {
    "ExecuteTime": {
     "end_time": "2020-07-20T19:42:38.834464Z",
     "start_time": "2020-07-20T19:42:38.408141Z"
    },
    "scrolled": true
   },
   "outputs": [],
   "source": [
    "save_loc = DATA_DIR/ 'parametric_tsne'/ dataset / 'P.npy'\n",
    "if save_loc.exists():\n",
    "    P = np.load(save_loc)\n",
    "else:\n",
    "    P = compute_joint_probabilities(X_train_flat, batch_size=batch_size, perplexity=30, verbose=2)\n",
    "    ensure_dir(save_loc)\n",
    "    np.save(save_loc, P)"
   ]
  },
  {
   "cell_type": "code",
   "execution_count": 25,
   "metadata": {
    "ExecuteTime": {
     "end_time": "2020-07-20T19:42:38.877033Z",
     "start_time": "2020-07-20T19:42:38.835935Z"
    }
   },
   "outputs": [],
   "source": [
    "X_train_subset = X_train[:np.product(P.shape[:2])]"
   ]
  },
  {
   "cell_type": "code",
   "execution_count": 26,
   "metadata": {
    "ExecuteTime": {
     "end_time": "2020-07-20T19:42:38.911711Z",
     "start_time": "2020-07-20T19:42:38.878244Z"
    }
   },
   "outputs": [],
   "source": [
    "# Joint probabilities of data\n",
    "Y_train_tsne = P.reshape(X_train_subset.shape[0], -1)"
   ]
  },
  {
   "cell_type": "code",
   "execution_count": 27,
   "metadata": {
    "ExecuteTime": {
     "end_time": "2020-07-20T19:42:38.945428Z",
     "start_time": "2020-07-20T19:42:38.912878Z"
    }
   },
   "outputs": [],
   "source": [
    "opt = tf.keras.optimizers.Adam(lr=0.01)"
   ]
  },
  {
   "cell_type": "code",
   "execution_count": 28,
   "metadata": {
    "ExecuteTime": {
     "end_time": "2020-07-20T19:42:39.213575Z",
     "start_time": "2020-07-20T19:42:38.946601Z"
    }
   },
   "outputs": [],
   "source": [
    "encoder.compile(loss=tsne_loss(d=n_components, batch_size=batch_size), optimizer=opt)"
   ]
  },
  {
   "cell_type": "code",
   "execution_count": 29,
   "metadata": {
    "ExecuteTime": {
     "end_time": "2020-07-20T19:42:39.255314Z",
     "start_time": "2020-07-20T19:42:39.215020Z"
    }
   },
   "outputs": [],
   "source": [
    "X_train_subset = np.reshape(X_train_subset, ([len(X_train_subset)]+ [dims]))\n",
    "X_test = np.reshape(X_test, ([len(X_test)]+ [dims]))"
   ]
  },
  {
   "cell_type": "code",
   "execution_count": 30,
   "metadata": {
    "ExecuteTime": {
     "end_time": "2020-07-20T19:48:43.605951Z",
     "start_time": "2020-07-20T19:42:39.256475Z"
    }
   },
   "outputs": [
    {
     "name": "stderr",
     "output_type": "stream",
     "text": [
      "WARNING: Logging before flag parsing goes to stderr.\n",
      "W0720 12:42:39.288091 139730880911168 training.py:792] The `nb_epoch` argument in `fit` has been renamed `epochs`.\n"
     ]
    },
    {
     "name": "stdout",
     "output_type": "stream",
     "text": [
      "Train on 30000 samples\n",
      "Epoch 1/1000\n",
      "30000/30000 [==============================] - 7s 222us/sample - loss: 2.7554\n",
      "Epoch 2/1000\n",
      "30000/30000 [==============================] - 0s 10us/sample - loss: 1.4821\n",
      "Epoch 3/1000\n",
      "30000/30000 [==============================] - 0s 10us/sample - loss: 1.2178\n",
      "Epoch 4/1000\n",
      "30000/30000 [==============================] - 0s 11us/sample - loss: 1.0661\n",
      "Epoch 5/1000\n",
      "30000/30000 [==============================] - 0s 10us/sample - loss: 0.9739\n",
      "Epoch 6/1000\n",
      "30000/30000 [==============================] - 0s 11us/sample - loss: 0.9036\n",
      "Epoch 7/1000\n",
      "30000/30000 [==============================] - 0s 11us/sample - loss: 0.8497\n",
      "Epoch 8/1000\n",
      "30000/30000 [==============================] - 0s 11us/sample - loss: 0.8078\n",
      "Epoch 9/1000\n",
      "30000/30000 [==============================] - 0s 10us/sample - loss: 0.7747\n",
      "Epoch 10/1000\n",
      "30000/30000 [==============================] - 0s 11us/sample - loss: 0.7483\n",
      "Epoch 11/1000\n",
      "30000/30000 [==============================] - 0s 11us/sample - loss: 0.7257\n",
      "Epoch 12/1000\n",
      "30000/30000 [==============================] - 0s 11us/sample - loss: 0.7061\n",
      "Epoch 13/1000\n",
      "30000/30000 [==============================] - 0s 11us/sample - loss: 0.6913\n",
      "Epoch 14/1000\n",
      "30000/30000 [==============================] - 0s 11us/sample - loss: 0.6800\n",
      "Epoch 15/1000\n",
      "30000/30000 [==============================] - 0s 11us/sample - loss: 0.6678\n",
      "Epoch 16/1000\n",
      "30000/30000 [==============================] - 0s 12us/sample - loss: 0.6581\n",
      "Epoch 17/1000\n",
      "30000/30000 [==============================] - 0s 13us/sample - loss: 0.6552\n",
      "Epoch 18/1000\n",
      "30000/30000 [==============================] - 0s 12us/sample - loss: 0.6413\n",
      "Epoch 19/1000\n",
      "30000/30000 [==============================] - 0s 12us/sample - loss: 0.6321\n",
      "Epoch 20/1000\n",
      "30000/30000 [==============================] - 0s 12us/sample - loss: 0.6203\n",
      "Epoch 21/1000\n",
      "30000/30000 [==============================] - 0s 11us/sample - loss: 0.6144\n",
      "Epoch 22/1000\n",
      "30000/30000 [==============================] - 0s 11us/sample - loss: 0.6060\n",
      "Epoch 23/1000\n",
      "30000/30000 [==============================] - 0s 12us/sample - loss: 0.5986\n",
      "Epoch 24/1000\n",
      "30000/30000 [==============================] - 0s 11us/sample - loss: 0.5918\n",
      "Epoch 25/1000\n",
      "30000/30000 [==============================] - 0s 11us/sample - loss: 0.5843\n",
      "Epoch 26/1000\n",
      "30000/30000 [==============================] - 0s 13us/sample - loss: 0.5796\n",
      "Epoch 27/1000\n",
      "30000/30000 [==============================] - 1s 18us/sample - loss: 0.5760\n",
      "Epoch 28/1000\n",
      "30000/30000 [==============================] - 1s 18us/sample - loss: 0.5759\n",
      "Epoch 29/1000\n",
      "30000/30000 [==============================] - 0s 11us/sample - loss: 0.5736\n",
      "Epoch 30/1000\n",
      "30000/30000 [==============================] - 0s 15us/sample - loss: 0.5711\n",
      "Epoch 31/1000\n",
      "30000/30000 [==============================] - 1s 24us/sample - loss: 0.5653\n",
      "Epoch 32/1000\n",
      "30000/30000 [==============================] - 1s 20us/sample - loss: 0.5589\n",
      "Epoch 33/1000\n",
      "30000/30000 [==============================] - 0s 10us/sample - loss: 0.5547\n",
      "Epoch 34/1000\n",
      "30000/30000 [==============================] - 1s 22us/sample - loss: 0.5524\n",
      "Epoch 35/1000\n",
      "30000/30000 [==============================] - 1s 24us/sample - loss: 0.5498\n",
      "Epoch 36/1000\n",
      "30000/30000 [==============================] - 0s 15us/sample - loss: 0.5498\n",
      "Epoch 37/1000\n",
      "30000/30000 [==============================] - 0s 12us/sample - loss: 0.5432\n",
      "Epoch 38/1000\n",
      "30000/30000 [==============================] - 0s 12us/sample - loss: 0.5421\n",
      "Epoch 39/1000\n",
      "30000/30000 [==============================] - 0s 11us/sample - loss: 0.5428\n",
      "Epoch 40/1000\n",
      "30000/30000 [==============================] - 0s 11us/sample - loss: 0.5471\n",
      "Epoch 41/1000\n",
      "30000/30000 [==============================] - 0s 11us/sample - loss: 0.5478\n",
      "Epoch 42/1000\n",
      "30000/30000 [==============================] - 0s 12us/sample - loss: 0.5435\n",
      "Epoch 43/1000\n",
      "30000/30000 [==============================] - 1s 21us/sample - loss: 0.5399\n",
      "Epoch 44/1000\n",
      "30000/30000 [==============================] - 1s 22us/sample - loss: 0.5315\n",
      "Epoch 45/1000\n",
      "30000/30000 [==============================] - 0s 11us/sample - loss: 0.5229\n",
      "Epoch 46/1000\n",
      "30000/30000 [==============================] - 1s 23us/sample - loss: 0.5168\n",
      "Epoch 47/1000\n",
      "30000/30000 [==============================] - 1s 23us/sample - loss: 0.5162\n",
      "Epoch 48/1000\n",
      "30000/30000 [==============================] - 1s 17us/sample - loss: 0.5122\n",
      "Epoch 49/1000\n",
      "30000/30000 [==============================] - 0s 12us/sample - loss: 0.5102\n",
      "Epoch 50/1000\n",
      "30000/30000 [==============================] - 1s 18us/sample - loss: 0.5065\n",
      "Epoch 51/1000\n",
      "30000/30000 [==============================] - 1s 20us/sample - loss: 0.5042\n",
      "Epoch 52/1000\n",
      "30000/30000 [==============================] - 0s 12us/sample - loss: 0.5012\n",
      "Epoch 53/1000\n",
      "30000/30000 [==============================] - 0s 12us/sample - loss: 0.4988\n",
      "Epoch 54/1000\n",
      "30000/30000 [==============================] - 0s 12us/sample - loss: 0.4977\n",
      "Epoch 55/1000\n",
      "30000/30000 [==============================] - 0s 14us/sample - loss: 0.4989\n",
      "Epoch 56/1000\n",
      "30000/30000 [==============================] - 0s 11us/sample - loss: 0.4977\n",
      "Epoch 57/1000\n",
      "30000/30000 [==============================] - 0s 10us/sample - loss: 0.4973\n",
      "Epoch 58/1000\n",
      "30000/30000 [==============================] - 0s 11us/sample - loss: 0.4980\n",
      "Epoch 59/1000\n",
      "30000/30000 [==============================] - 1s 17us/sample - loss: 0.4944\n",
      "Epoch 60/1000\n",
      "30000/30000 [==============================] - 1s 21us/sample - loss: 0.4940\n",
      "Epoch 61/1000\n",
      "30000/30000 [==============================] - 0s 13us/sample - loss: 0.4929\n",
      "Epoch 62/1000\n",
      "30000/30000 [==============================] - 0s 11us/sample - loss: 0.4940\n",
      "Epoch 63/1000\n",
      "30000/30000 [==============================] - 0s 14us/sample - loss: 0.5007\n",
      "Epoch 64/1000\n",
      "30000/30000 [==============================] - 1s 19us/sample - loss: 0.4987\n",
      "Epoch 65/1000\n",
      "30000/30000 [==============================] - 0s 11us/sample - loss: 0.4956\n",
      "Epoch 66/1000\n",
      "30000/30000 [==============================] - 0s 11us/sample - loss: 0.4875\n",
      "Epoch 67/1000\n",
      "30000/30000 [==============================] - 1s 18us/sample - loss: 0.4829\n",
      "Epoch 68/1000\n",
      "30000/30000 [==============================] - 1s 21us/sample - loss: 0.4836\n",
      "Epoch 69/1000\n",
      "30000/30000 [==============================] - 0s 13us/sample - loss: 0.4830\n",
      "Epoch 70/1000\n",
      "30000/30000 [==============================] - 0s 11us/sample - loss: 0.4788\n",
      "Epoch 71/1000\n",
      "30000/30000 [==============================] - 0s 11us/sample - loss: 0.4786\n",
      "Epoch 72/1000\n",
      "30000/30000 [==============================] - 0s 15us/sample - loss: 0.4806\n",
      "Epoch 73/1000\n",
      "30000/30000 [==============================] - 0s 12us/sample - loss: 0.4854\n",
      "Epoch 74/1000\n",
      "30000/30000 [==============================] - 0s 11us/sample - loss: 0.4886\n",
      "Epoch 75/1000\n",
      "30000/30000 [==============================] - 0s 11us/sample - loss: 0.4852\n",
      "Epoch 76/1000\n",
      "30000/30000 [==============================] - 0s 11us/sample - loss: 0.4802\n",
      "Epoch 77/1000\n",
      "30000/30000 [==============================] - 0s 11us/sample - loss: 0.4747\n",
      "Epoch 78/1000\n",
      "30000/30000 [==============================] - 0s 12us/sample - loss: 0.4724\n",
      "Epoch 79/1000\n",
      "30000/30000 [==============================] - 0s 11us/sample - loss: 0.4729\n",
      "Epoch 80/1000\n",
      "30000/30000 [==============================] - 0s 11us/sample - loss: 0.4681\n",
      "Epoch 81/1000\n",
      "30000/30000 [==============================] - 0s 12us/sample - loss: 0.4668\n",
      "Epoch 82/1000\n",
      "30000/30000 [==============================] - 0s 12us/sample - loss: 0.4664\n",
      "Epoch 83/1000\n",
      "30000/30000 [==============================] - 0s 14us/sample - loss: 0.4682\n",
      "Epoch 84/1000\n",
      "30000/30000 [==============================] - 0s 11us/sample - loss: 0.4692\n",
      "Epoch 85/1000\n",
      "30000/30000 [==============================] - 0s 11us/sample - loss: 0.4695\n",
      "Epoch 86/1000\n",
      "30000/30000 [==============================] - 0s 11us/sample - loss: 0.4686\n",
      "Epoch 87/1000\n",
      "30000/30000 [==============================] - 0s 11us/sample - loss: 0.4674\n",
      "Epoch 88/1000\n",
      "30000/30000 [==============================] - 0s 14us/sample - loss: 0.4663\n",
      "Epoch 89/1000\n",
      "30000/30000 [==============================] - 0s 10us/sample - loss: 0.4725\n",
      "Epoch 90/1000\n",
      "30000/30000 [==============================] - 0s 11us/sample - loss: 0.4756\n",
      "Epoch 91/1000\n",
      "30000/30000 [==============================] - 0s 10us/sample - loss: 0.4761\n",
      "Epoch 92/1000\n",
      "30000/30000 [==============================] - 0s 12us/sample - loss: 0.4760\n",
      "Epoch 93/1000\n",
      "30000/30000 [==============================] - 0s 15us/sample - loss: 0.4735\n",
      "Epoch 94/1000\n",
      "30000/30000 [==============================] - 0s 13us/sample - loss: 0.4707\n",
      "Epoch 95/1000\n",
      "30000/30000 [==============================] - 0s 10us/sample - loss: 0.4721\n",
      "Epoch 96/1000\n",
      "30000/30000 [==============================] - 0s 11us/sample - loss: 0.4729\n",
      "Epoch 97/1000\n",
      "30000/30000 [==============================] - 0s 11us/sample - loss: 0.4719\n",
      "Epoch 98/1000\n",
      "30000/30000 [==============================] - 1s 21us/sample - loss: 0.4742\n",
      "Epoch 99/1000\n",
      "30000/30000 [==============================] - 0s 11us/sample - loss: 0.4744\n",
      "Epoch 100/1000\n",
      "30000/30000 [==============================] - 0s 10us/sample - loss: 0.4739\n",
      "Epoch 101/1000\n",
      "30000/30000 [==============================] - 0s 11us/sample - loss: 0.4707\n",
      "Epoch 102/1000\n",
      "30000/30000 [==============================] - 1s 17us/sample - loss: 0.4668\n",
      "Epoch 103/1000\n",
      "30000/30000 [==============================] - 0s 13us/sample - loss: 0.4602\n",
      "Epoch 104/1000\n",
      "30000/30000 [==============================] - 0s 10us/sample - loss: 0.4570\n",
      "Epoch 105/1000\n",
      "30000/30000 [==============================] - 0s 11us/sample - loss: 0.4543\n",
      "Epoch 106/1000\n",
      "30000/30000 [==============================] - 0s 10us/sample - loss: 0.4497\n",
      "Epoch 107/1000\n",
      "30000/30000 [==============================] - 0s 16us/sample - loss: 0.4470\n",
      "Epoch 108/1000\n",
      "30000/30000 [==============================] - 0s 11us/sample - loss: 0.4441\n",
      "Epoch 109/1000\n",
      "30000/30000 [==============================] - 0s 10us/sample - loss: 0.4438\n",
      "Epoch 110/1000\n",
      "30000/30000 [==============================] - 0s 10us/sample - loss: 0.4465\n",
      "Epoch 111/1000\n",
      "30000/30000 [==============================] - 0s 10us/sample - loss: 0.4459\n",
      "Epoch 112/1000\n",
      "30000/30000 [==============================] - 1s 19us/sample - loss: 0.4447\n",
      "Epoch 113/1000\n",
      "30000/30000 [==============================] - 0s 10us/sample - loss: 0.4420\n",
      "Epoch 114/1000\n",
      "30000/30000 [==============================] - 0s 11us/sample - loss: 0.4412\n",
      "Epoch 115/1000\n",
      "30000/30000 [==============================] - 0s 10us/sample - loss: 0.4457\n",
      "Epoch 116/1000\n",
      "30000/30000 [==============================] - 0s 11us/sample - loss: 0.4448\n",
      "Epoch 117/1000\n",
      "30000/30000 [==============================] - 1s 20us/sample - loss: 0.4472\n",
      "Epoch 118/1000\n",
      "30000/30000 [==============================] - 0s 11us/sample - loss: 0.4438\n",
      "Epoch 119/1000\n",
      "30000/30000 [==============================] - 0s 10us/sample - loss: 0.4437\n",
      "Epoch 120/1000\n",
      "30000/30000 [==============================] - 0s 10us/sample - loss: 0.4402\n",
      "Epoch 121/1000\n",
      "30000/30000 [==============================] - 0s 10us/sample - loss: 0.4371\n",
      "Epoch 122/1000\n",
      "30000/30000 [==============================] - 1s 18us/sample - loss: 0.4364\n",
      "Epoch 123/1000\n",
      "30000/30000 [==============================] - 0s 10us/sample - loss: 0.4355\n",
      "Epoch 124/1000\n",
      "30000/30000 [==============================] - 0s 11us/sample - loss: 0.4354\n",
      "Epoch 125/1000\n",
      "30000/30000 [==============================] - 0s 11us/sample - loss: 0.4347\n",
      "Epoch 126/1000\n",
      "30000/30000 [==============================] - 0s 11us/sample - loss: 0.4370\n",
      "Epoch 127/1000\n",
      "30000/30000 [==============================] - 0s 11us/sample - loss: 0.4380\n",
      "Epoch 128/1000\n",
      "30000/30000 [==============================] - 0s 11us/sample - loss: 0.4388\n",
      "Epoch 129/1000\n",
      "30000/30000 [==============================] - 0s 11us/sample - loss: 0.4420\n",
      "Epoch 130/1000\n",
      "30000/30000 [==============================] - 0s 11us/sample - loss: 0.4433\n",
      "Epoch 131/1000\n",
      "30000/30000 [==============================] - 0s 12us/sample - loss: 0.4421\n",
      "Epoch 132/1000\n",
      "30000/30000 [==============================] - 0s 12us/sample - loss: 0.4400\n",
      "Epoch 133/1000\n",
      "30000/30000 [==============================] - 0s 12us/sample - loss: 0.4388\n",
      "Epoch 134/1000\n",
      "30000/30000 [==============================] - 0s 12us/sample - loss: 0.4428\n",
      "Epoch 135/1000\n",
      "30000/30000 [==============================] - 0s 11us/sample - loss: 0.4436\n",
      "Epoch 136/1000\n",
      "30000/30000 [==============================] - 0s 11us/sample - loss: 0.4453\n",
      "Epoch 137/1000\n",
      "30000/30000 [==============================] - 0s 11us/sample - loss: 0.4421\n",
      "Epoch 138/1000\n",
      "30000/30000 [==============================] - 0s 11us/sample - loss: 0.4394\n",
      "Epoch 139/1000\n",
      "30000/30000 [==============================] - 0s 11us/sample - loss: 0.4355\n",
      "Epoch 140/1000\n",
      "30000/30000 [==============================] - 0s 11us/sample - loss: 0.4326\n",
      "Epoch 141/1000\n",
      "30000/30000 [==============================] - 0s 11us/sample - loss: 0.4287\n",
      "Epoch 142/1000\n",
      "30000/30000 [==============================] - 0s 10us/sample - loss: 0.4263\n",
      "Epoch 143/1000\n",
      "30000/30000 [==============================] - 0s 11us/sample - loss: 0.4240\n",
      "Epoch 144/1000\n",
      "30000/30000 [==============================] - 0s 11us/sample - loss: 0.4251\n",
      "Epoch 145/1000\n",
      "30000/30000 [==============================] - 0s 11us/sample - loss: 0.4248\n",
      "Epoch 146/1000\n",
      "30000/30000 [==============================] - 0s 11us/sample - loss: 0.4270\n",
      "Epoch 147/1000\n",
      "30000/30000 [==============================] - 0s 11us/sample - loss: 0.4291\n",
      "Epoch 148/1000\n",
      "30000/30000 [==============================] - 0s 13us/sample - loss: 0.4276\n",
      "Epoch 149/1000\n",
      "30000/30000 [==============================] - 0s 14us/sample - loss: 0.4298\n",
      "Epoch 150/1000\n",
      "30000/30000 [==============================] - 0s 10us/sample - loss: 0.4301\n",
      "Epoch 151/1000\n",
      "30000/30000 [==============================] - 0s 11us/sample - loss: 0.4294\n",
      "Epoch 152/1000\n",
      "30000/30000 [==============================] - 0s 12us/sample - loss: 0.4286\n",
      "Epoch 153/1000\n",
      "30000/30000 [==============================] - 0s 10us/sample - loss: 0.4277\n",
      "Epoch 154/1000\n",
      "30000/30000 [==============================] - 1s 17us/sample - loss: 0.4318\n",
      "Epoch 155/1000\n",
      "30000/30000 [==============================] - 0s 11us/sample - loss: 0.4290\n",
      "Epoch 156/1000\n",
      "30000/30000 [==============================] - 0s 10us/sample - loss: 0.4321\n",
      "Epoch 157/1000\n",
      "30000/30000 [==============================] - 0s 11us/sample - loss: 0.4320\n",
      "Epoch 158/1000\n",
      "30000/30000 [==============================] - 0s 12us/sample - loss: 0.4327\n",
      "Epoch 159/1000\n",
      "30000/30000 [==============================] - 1s 17us/sample - loss: 0.4287\n",
      "Epoch 160/1000\n",
      "30000/30000 [==============================] - 0s 11us/sample - loss: 0.4258\n",
      "Epoch 161/1000\n",
      "30000/30000 [==============================] - 0s 11us/sample - loss: 0.4234\n",
      "Epoch 162/1000\n",
      "30000/30000 [==============================] - 0s 11us/sample - loss: 0.4187\n",
      "Epoch 163/1000\n",
      "30000/30000 [==============================] - 0s 14us/sample - loss: 0.4167\n",
      "Epoch 164/1000\n",
      "30000/30000 [==============================] - 0s 16us/sample - loss: 0.4153\n",
      "Epoch 165/1000\n",
      "30000/30000 [==============================] - 0s 11us/sample - loss: 0.4158\n",
      "Epoch 166/1000\n",
      "30000/30000 [==============================] - 0s 11us/sample - loss: 0.4149\n",
      "Epoch 167/1000\n",
      "30000/30000 [==============================] - 0s 11us/sample - loss: 0.4149\n",
      "Epoch 168/1000\n",
      "30000/30000 [==============================] - 1s 17us/sample - loss: 0.4183\n",
      "Epoch 169/1000\n",
      "30000/30000 [==============================] - 0s 11us/sample - loss: 0.4192\n",
      "Epoch 170/1000\n",
      "30000/30000 [==============================] - 0s 11us/sample - loss: 0.4212\n",
      "Epoch 171/1000\n",
      "30000/30000 [==============================] - 0s 11us/sample - loss: 0.4219\n",
      "Epoch 172/1000\n",
      "30000/30000 [==============================] - 0s 11us/sample - loss: 0.4252\n",
      "Epoch 173/1000\n",
      "30000/30000 [==============================] - 1s 22us/sample - loss: 0.4248\n",
      "Epoch 174/1000\n",
      "30000/30000 [==============================] - 0s 11us/sample - loss: 0.4223\n",
      "Epoch 175/1000\n",
      "30000/30000 [==============================] - 0s 11us/sample - loss: 0.4195\n",
      "Epoch 176/1000\n",
      "30000/30000 [==============================] - 0s 11us/sample - loss: 0.4173\n",
      "Epoch 177/1000\n",
      "30000/30000 [==============================] - 0s 11us/sample - loss: 0.4142\n",
      "Epoch 178/1000\n",
      "30000/30000 [==============================] - 0s 14us/sample - loss: 0.4173\n",
      "Epoch 179/1000\n"
     ]
    },
    {
     "name": "stdout",
     "output_type": "stream",
     "text": [
      "30000/30000 [==============================] - 0s 11us/sample - loss: 0.4165\n",
      "Epoch 180/1000\n",
      "30000/30000 [==============================] - 0s 10us/sample - loss: 0.4187\n",
      "Epoch 181/1000\n",
      "30000/30000 [==============================] - 0s 11us/sample - loss: 0.4190\n",
      "Epoch 182/1000\n",
      "30000/30000 [==============================] - 0s 12us/sample - loss: 0.4211\n",
      "Epoch 183/1000\n",
      "30000/30000 [==============================] - 0s 16us/sample - loss: 0.4192\n",
      "Epoch 184/1000\n",
      "30000/30000 [==============================] - 0s 12us/sample - loss: 0.4191\n",
      "Epoch 185/1000\n",
      "30000/30000 [==============================] - 0s 11us/sample - loss: 0.4149\n",
      "Epoch 186/1000\n",
      "30000/30000 [==============================] - 0s 10us/sample - loss: 0.4165\n",
      "Epoch 187/1000\n",
      "30000/30000 [==============================] - 0s 11us/sample - loss: 0.4146\n",
      "Epoch 188/1000\n",
      "30000/30000 [==============================] - 0s 14us/sample - loss: 0.4155\n",
      "Epoch 189/1000\n",
      "30000/30000 [==============================] - 0s 11us/sample - loss: 0.4183\n",
      "Epoch 190/1000\n",
      "30000/30000 [==============================] - 0s 11us/sample - loss: 0.4169\n",
      "Epoch 191/1000\n",
      "30000/30000 [==============================] - 0s 11us/sample - loss: 0.4215\n",
      "Epoch 192/1000\n",
      "30000/30000 [==============================] - 0s 10us/sample - loss: 0.4202\n",
      "Epoch 193/1000\n",
      "30000/30000 [==============================] - 0s 11us/sample - loss: 0.4170\n",
      "Epoch 194/1000\n",
      "30000/30000 [==============================] - 0s 11us/sample - loss: 0.4140\n",
      "Epoch 195/1000\n",
      "30000/30000 [==============================] - 0s 10us/sample - loss: 0.4129\n",
      "Epoch 196/1000\n",
      "30000/30000 [==============================] - 0s 11us/sample - loss: 0.4123\n",
      "Epoch 197/1000\n",
      "30000/30000 [==============================] - 0s 11us/sample - loss: 0.4102\n",
      "Epoch 198/1000\n",
      "30000/30000 [==============================] - 0s 11us/sample - loss: 0.4075\n",
      "Epoch 199/1000\n",
      "30000/30000 [==============================] - 0s 12us/sample - loss: 0.4062\n",
      "Epoch 200/1000\n",
      "30000/30000 [==============================] - 0s 12us/sample - loss: 0.4057\n",
      "Epoch 201/1000\n",
      "30000/30000 [==============================] - 0s 11us/sample - loss: 0.4055\n",
      "Epoch 202/1000\n",
      "30000/30000 [==============================] - 0s 11us/sample - loss: 0.4069\n",
      "Epoch 203/1000\n",
      "30000/30000 [==============================] - 0s 11us/sample - loss: 0.4083\n",
      "Epoch 204/1000\n",
      "30000/30000 [==============================] - 0s 11us/sample - loss: 0.4112\n",
      "Epoch 205/1000\n",
      "30000/30000 [==============================] - 0s 11us/sample - loss: 0.4130\n",
      "Epoch 206/1000\n",
      "30000/30000 [==============================] - 0s 11us/sample - loss: 0.4244\n",
      "Epoch 207/1000\n",
      "30000/30000 [==============================] - 0s 11us/sample - loss: 0.4245\n",
      "Epoch 208/1000\n",
      "30000/30000 [==============================] - 0s 11us/sample - loss: 0.4183\n",
      "Epoch 209/1000\n",
      "30000/30000 [==============================] - 0s 11us/sample - loss: 0.4146\n",
      "Epoch 210/1000\n",
      "30000/30000 [==============================] - 0s 11us/sample - loss: 0.4163\n",
      "Epoch 211/1000\n",
      "30000/30000 [==============================] - 0s 11us/sample - loss: 0.4121\n",
      "Epoch 212/1000\n",
      "30000/30000 [==============================] - 0s 11us/sample - loss: 0.4084\n",
      "Epoch 213/1000\n",
      "30000/30000 [==============================] - 0s 11us/sample - loss: 0.4058\n",
      "Epoch 214/1000\n",
      "30000/30000 [==============================] - 0s 13us/sample - loss: 0.4063\n",
      "Epoch 215/1000\n",
      "30000/30000 [==============================] - 0s 11us/sample - loss: 0.4050\n",
      "Epoch 216/1000\n",
      "30000/30000 [==============================] - 0s 11us/sample - loss: 0.4053\n",
      "Epoch 217/1000\n",
      "30000/30000 [==============================] - 0s 11us/sample - loss: 0.4040\n",
      "Epoch 218/1000\n",
      "30000/30000 [==============================] - 0s 12us/sample - loss: 0.4085\n",
      "Epoch 219/1000\n",
      "30000/30000 [==============================] - 0s 11us/sample - loss: 0.4074\n",
      "Epoch 220/1000\n",
      "30000/30000 [==============================] - 0s 16us/sample - loss: 0.4084\n",
      "Epoch 221/1000\n",
      "30000/30000 [==============================] - 0s 11us/sample - loss: 0.4094\n",
      "Epoch 222/1000\n",
      "30000/30000 [==============================] - 0s 11us/sample - loss: 0.4119\n",
      "Epoch 223/1000\n",
      "30000/30000 [==============================] - 0s 11us/sample - loss: 0.4108\n",
      "Epoch 224/1000\n",
      "30000/30000 [==============================] - 0s 12us/sample - loss: 0.4101\n",
      "Epoch 225/1000\n",
      "30000/30000 [==============================] - 0s 14us/sample - loss: 0.4071\n",
      "Epoch 226/1000\n",
      "30000/30000 [==============================] - 0s 12us/sample - loss: 0.4064\n",
      "Epoch 227/1000\n",
      "30000/30000 [==============================] - 0s 11us/sample - loss: 0.4073\n",
      "Epoch 228/1000\n",
      "30000/30000 [==============================] - 0s 11us/sample - loss: 0.4080\n",
      "Epoch 229/1000\n",
      "30000/30000 [==============================] - 0s 11us/sample - loss: 0.4103\n",
      "Epoch 230/1000\n",
      "30000/30000 [==============================] - 0s 14us/sample - loss: 0.4086\n",
      "Epoch 231/1000\n",
      "30000/30000 [==============================] - 0s 11us/sample - loss: 0.4129\n",
      "Epoch 232/1000\n",
      "30000/30000 [==============================] - 0s 11us/sample - loss: 0.4115\n",
      "Epoch 233/1000\n",
      "30000/30000 [==============================] - 0s 11us/sample - loss: 0.4108\n",
      "Epoch 234/1000\n",
      "30000/30000 [==============================] - 0s 13us/sample - loss: 0.4086\n",
      "Epoch 235/1000\n",
      "30000/30000 [==============================] - 1s 18us/sample - loss: 0.4108\n",
      "Epoch 236/1000\n",
      "30000/30000 [==============================] - 0s 11us/sample - loss: 0.4086\n",
      "Epoch 237/1000\n",
      "30000/30000 [==============================] - 0s 11us/sample - loss: 0.4087\n",
      "Epoch 238/1000\n",
      "30000/30000 [==============================] - 0s 11us/sample - loss: 0.4065\n",
      "Epoch 239/1000\n",
      "30000/30000 [==============================] - 0s 13us/sample - loss: 0.4053\n",
      "Epoch 240/1000\n",
      "30000/30000 [==============================] - 0s 14us/sample - loss: 0.4045\n",
      "Epoch 241/1000\n",
      "30000/30000 [==============================] - 0s 11us/sample - loss: 0.4046\n",
      "Epoch 242/1000\n",
      "30000/30000 [==============================] - 0s 11us/sample - loss: 0.4042\n",
      "Epoch 243/1000\n",
      "30000/30000 [==============================] - 0s 11us/sample - loss: 0.4087\n",
      "Epoch 244/1000\n",
      "30000/30000 [==============================] - 0s 13us/sample - loss: 0.4081\n",
      "Epoch 245/1000\n",
      "30000/30000 [==============================] - 0s 14us/sample - loss: 0.4075\n",
      "Epoch 246/1000\n",
      "30000/30000 [==============================] - 0s 11us/sample - loss: 0.4074\n",
      "Epoch 247/1000\n",
      "30000/30000 [==============================] - 0s 11us/sample - loss: 0.4051\n",
      "Epoch 248/1000\n",
      "30000/30000 [==============================] - 0s 11us/sample - loss: 0.4016\n",
      "Epoch 249/1000\n",
      "30000/30000 [==============================] - 0s 16us/sample - loss: 0.3997\n",
      "Epoch 250/1000\n",
      "30000/30000 [==============================] - 0s 12us/sample - loss: 0.3996\n",
      "Epoch 251/1000\n",
      "30000/30000 [==============================] - 0s 11us/sample - loss: 0.3990\n",
      "Epoch 252/1000\n",
      "30000/30000 [==============================] - 0s 11us/sample - loss: 0.4000\n",
      "Epoch 253/1000\n",
      "30000/30000 [==============================] - 0s 11us/sample - loss: 0.4018\n",
      "Epoch 254/1000\n",
      "30000/30000 [==============================] - 1s 18us/sample - loss: 0.4024\n",
      "Epoch 255/1000\n",
      "30000/30000 [==============================] - 0s 12us/sample - loss: 0.4036\n",
      "Epoch 256/1000\n",
      "30000/30000 [==============================] - 0s 11us/sample - loss: 0.4033\n",
      "Epoch 257/1000\n",
      "30000/30000 [==============================] - 0s 11us/sample - loss: 0.4055\n",
      "Epoch 258/1000\n",
      "30000/30000 [==============================] - 0s 11us/sample - loss: 0.4076\n",
      "Epoch 259/1000\n",
      "30000/30000 [==============================] - 0s 14us/sample - loss: 0.4078\n",
      "Epoch 260/1000\n",
      "30000/30000 [==============================] - 0s 11us/sample - loss: 0.4070\n",
      "Epoch 261/1000\n",
      "30000/30000 [==============================] - 0s 11us/sample - loss: 0.4051\n",
      "Epoch 262/1000\n",
      "30000/30000 [==============================] - 0s 11us/sample - loss: 0.4019\n",
      "Epoch 263/1000\n",
      "30000/30000 [==============================] - 0s 12us/sample - loss: 0.4010\n",
      "Epoch 264/1000\n",
      "30000/30000 [==============================] - 0s 11us/sample - loss: 0.3988\n",
      "Epoch 265/1000\n",
      "30000/30000 [==============================] - 0s 11us/sample - loss: 0.3993\n",
      "Epoch 266/1000\n",
      "30000/30000 [==============================] - 0s 11us/sample - loss: 0.4012\n",
      "Epoch 267/1000\n",
      "30000/30000 [==============================] - 0s 11us/sample - loss: 0.4017\n",
      "Epoch 268/1000\n",
      "30000/30000 [==============================] - 0s 11us/sample - loss: 0.4012\n",
      "Epoch 269/1000\n",
      "30000/30000 [==============================] - 0s 10us/sample - loss: 0.4030\n",
      "Epoch 270/1000\n",
      "30000/30000 [==============================] - 0s 12us/sample - loss: 0.4058\n",
      "Epoch 271/1000\n",
      "30000/30000 [==============================] - 0s 11us/sample - loss: 0.4109\n",
      "Epoch 272/1000\n",
      "30000/30000 [==============================] - 0s 11us/sample - loss: 0.4149\n",
      "Epoch 273/1000\n",
      "30000/30000 [==============================] - 0s 11us/sample - loss: 0.4163\n",
      "Epoch 274/1000\n",
      "30000/30000 [==============================] - 0s 11us/sample - loss: 0.4166\n",
      "Epoch 275/1000\n",
      "30000/30000 [==============================] - 0s 10us/sample - loss: 0.4105\n",
      "Epoch 276/1000\n",
      "30000/30000 [==============================] - 0s 11us/sample - loss: 0.4064\n",
      "Epoch 277/1000\n",
      "30000/30000 [==============================] - 0s 11us/sample - loss: 0.4028\n",
      "Epoch 278/1000\n",
      "30000/30000 [==============================] - 0s 11us/sample - loss: 0.3984\n",
      "Epoch 279/1000\n",
      "30000/30000 [==============================] - 0s 11us/sample - loss: 0.3947\n",
      "Epoch 280/1000\n",
      "30000/30000 [==============================] - 0s 11us/sample - loss: 0.3926\n",
      "Epoch 281/1000\n",
      "30000/30000 [==============================] - 0s 11us/sample - loss: 0.3924\n",
      "Epoch 282/1000\n",
      "30000/30000 [==============================] - 0s 11us/sample - loss: 0.3920\n",
      "Epoch 283/1000\n",
      "30000/30000 [==============================] - 0s 11us/sample - loss: 0.3922\n",
      "Epoch 284/1000\n",
      "30000/30000 [==============================] - 0s 11us/sample - loss: 0.3927\n",
      "Epoch 285/1000\n",
      "30000/30000 [==============================] - 0s 11us/sample - loss: 0.3928\n",
      "Epoch 286/1000\n",
      "30000/30000 [==============================] - 0s 12us/sample - loss: 0.3931\n",
      "Epoch 287/1000\n",
      "30000/30000 [==============================] - 0s 11us/sample - loss: 0.3920\n",
      "Epoch 288/1000\n",
      "30000/30000 [==============================] - 0s 11us/sample - loss: 0.3927\n",
      "Epoch 289/1000\n",
      "30000/30000 [==============================] - 0s 10us/sample - loss: 0.3944\n",
      "Epoch 290/1000\n",
      "30000/30000 [==============================] - 0s 12us/sample - loss: 0.3979\n",
      "Epoch 291/1000\n",
      "30000/30000 [==============================] - 0s 11us/sample - loss: 0.4022\n",
      "Epoch 292/1000\n",
      "30000/30000 [==============================] - 0s 13us/sample - loss: 0.4065\n",
      "Epoch 293/1000\n",
      "30000/30000 [==============================] - 0s 11us/sample - loss: 0.4135\n",
      "Epoch 294/1000\n",
      "30000/30000 [==============================] - 0s 11us/sample - loss: 0.4114\n",
      "Epoch 295/1000\n",
      "30000/30000 [==============================] - 0s 11us/sample - loss: 0.4069\n",
      "Epoch 296/1000\n",
      "30000/30000 [==============================] - 0s 11us/sample - loss: 0.4086\n",
      "Epoch 297/1000\n",
      "30000/30000 [==============================] - 0s 15us/sample - loss: 0.4089\n",
      "Epoch 298/1000\n",
      "30000/30000 [==============================] - 0s 11us/sample - loss: 0.4093\n",
      "Epoch 299/1000\n",
      "30000/30000 [==============================] - 0s 11us/sample - loss: 0.4153\n",
      "Epoch 300/1000\n",
      "30000/30000 [==============================] - 0s 11us/sample - loss: 0.4181\n",
      "Epoch 301/1000\n",
      "30000/30000 [==============================] - 0s 12us/sample - loss: 0.4137\n",
      "Epoch 302/1000\n",
      "30000/30000 [==============================] - 0s 15us/sample - loss: 0.4110\n",
      "Epoch 303/1000\n",
      "30000/30000 [==============================] - 0s 11us/sample - loss: 0.4067\n",
      "Epoch 304/1000\n",
      "30000/30000 [==============================] - 0s 11us/sample - loss: 0.4029\n",
      "Epoch 305/1000\n",
      "30000/30000 [==============================] - 0s 11us/sample - loss: 0.4015\n",
      "Epoch 306/1000\n",
      "30000/30000 [==============================] - 0s 13us/sample - loss: 0.4002\n",
      "Epoch 307/1000\n",
      "30000/30000 [==============================] - 0s 16us/sample - loss: 0.4007\n",
      "Epoch 308/1000\n",
      "30000/30000 [==============================] - 0s 11us/sample - loss: 0.4007\n",
      "Epoch 309/1000\n",
      "30000/30000 [==============================] - 0s 11us/sample - loss: 0.4021\n",
      "Epoch 310/1000\n",
      "30000/30000 [==============================] - 0s 11us/sample - loss: 0.4021\n",
      "Epoch 311/1000\n",
      "30000/30000 [==============================] - 0s 14us/sample - loss: 0.4022\n",
      "Epoch 312/1000\n",
      "30000/30000 [==============================] - 0s 13us/sample - loss: 0.3999\n",
      "Epoch 313/1000\n",
      "30000/30000 [==============================] - 0s 10us/sample - loss: 0.4004\n",
      "Epoch 314/1000\n",
      "30000/30000 [==============================] - 0s 12us/sample - loss: 0.3996\n",
      "Epoch 315/1000\n",
      "30000/30000 [==============================] - 0s 11us/sample - loss: 0.4016\n",
      "Epoch 316/1000\n",
      "30000/30000 [==============================] - 1s 18us/sample - loss: 0.4002\n",
      "Epoch 317/1000\n",
      "30000/30000 [==============================] - 0s 13us/sample - loss: 0.4003\n",
      "Epoch 318/1000\n",
      "30000/30000 [==============================] - 0s 11us/sample - loss: 0.4012\n",
      "Epoch 319/1000\n",
      "30000/30000 [==============================] - 0s 11us/sample - loss: 0.4015\n",
      "Epoch 320/1000\n",
      "30000/30000 [==============================] - 0s 11us/sample - loss: 0.3983\n",
      "Epoch 321/1000\n",
      "30000/30000 [==============================] - 1s 17us/sample - loss: 0.4013\n",
      "Epoch 322/1000\n",
      "30000/30000 [==============================] - 0s 11us/sample - loss: 0.4035\n",
      "Epoch 323/1000\n",
      "30000/30000 [==============================] - 0s 11us/sample - loss: 0.3999\n",
      "Epoch 324/1000\n",
      "30000/30000 [==============================] - 0s 11us/sample - loss: 0.3987\n",
      "Epoch 325/1000\n",
      "30000/30000 [==============================] - 0s 11us/sample - loss: 0.3945\n",
      "Epoch 326/1000\n",
      "30000/30000 [==============================] - 0s 17us/sample - loss: 0.3921\n",
      "Epoch 327/1000\n",
      "30000/30000 [==============================] - 0s 11us/sample - loss: 0.3915\n",
      "Epoch 328/1000\n",
      "30000/30000 [==============================] - 0s 10us/sample - loss: 0.3915\n",
      "Epoch 329/1000\n",
      "30000/30000 [==============================] - 0s 10us/sample - loss: 0.3958\n",
      "Epoch 330/1000\n",
      "30000/30000 [==============================] - 0s 10us/sample - loss: 0.3968\n",
      "Epoch 331/1000\n",
      "30000/30000 [==============================] - 0s 16us/sample - loss: 0.4000\n",
      "Epoch 332/1000\n",
      "30000/30000 [==============================] - 0s 11us/sample - loss: 0.3990\n",
      "Epoch 333/1000\n",
      "30000/30000 [==============================] - 0s 11us/sample - loss: 0.4021\n",
      "Epoch 334/1000\n",
      "30000/30000 [==============================] - 0s 11us/sample - loss: 0.3984\n",
      "Epoch 335/1000\n",
      "30000/30000 [==============================] - 0s 11us/sample - loss: 0.3986\n",
      "Epoch 336/1000\n",
      "30000/30000 [==============================] - 0s 16us/sample - loss: 0.3964\n",
      "Epoch 337/1000\n",
      "30000/30000 [==============================] - 0s 11us/sample - loss: 0.3985\n",
      "Epoch 338/1000\n",
      "30000/30000 [==============================] - 0s 11us/sample - loss: 0.3962\n",
      "Epoch 339/1000\n",
      "30000/30000 [==============================] - 0s 11us/sample - loss: 0.3967\n",
      "Epoch 340/1000\n",
      "30000/30000 [==============================] - 0s 10us/sample - loss: 0.3938\n",
      "Epoch 341/1000\n",
      "30000/30000 [==============================] - 0s 11us/sample - loss: 0.3981\n",
      "Epoch 342/1000\n",
      "30000/30000 [==============================] - 0s 11us/sample - loss: 0.3967\n",
      "Epoch 343/1000\n",
      "30000/30000 [==============================] - 0s 11us/sample - loss: 0.3958\n",
      "Epoch 344/1000\n",
      "30000/30000 [==============================] - 0s 10us/sample - loss: 0.3927\n",
      "Epoch 345/1000\n",
      "30000/30000 [==============================] - 0s 11us/sample - loss: 0.3923\n",
      "Epoch 346/1000\n",
      "30000/30000 [==============================] - 0s 12us/sample - loss: 0.3923\n",
      "Epoch 347/1000\n",
      "30000/30000 [==============================] - 0s 12us/sample - loss: 0.3931\n",
      "Epoch 348/1000\n",
      "30000/30000 [==============================] - 0s 11us/sample - loss: 0.3933\n",
      "Epoch 349/1000\n",
      "30000/30000 [==============================] - 0s 12us/sample - loss: 0.3945\n",
      "Epoch 350/1000\n",
      "30000/30000 [==============================] - 0s 11us/sample - loss: 0.3955\n",
      "Epoch 351/1000\n",
      "30000/30000 [==============================] - 0s 11us/sample - loss: 0.3948\n",
      "Epoch 352/1000\n",
      "30000/30000 [==============================] - 0s 11us/sample - loss: 0.3903\n",
      "Epoch 353/1000\n",
      "30000/30000 [==============================] - 0s 11us/sample - loss: 0.3912\n",
      "Epoch 354/1000\n",
      "30000/30000 [==============================] - 0s 12us/sample - loss: 0.3902\n",
      "Epoch 355/1000\n",
      "30000/30000 [==============================] - 0s 11us/sample - loss: 0.3909\n",
      "Epoch 356/1000\n",
      "30000/30000 [==============================] - 0s 11us/sample - loss: 0.3912\n",
      "Epoch 357/1000\n"
     ]
    },
    {
     "name": "stdout",
     "output_type": "stream",
     "text": [
      "30000/30000 [==============================] - 0s 11us/sample - loss: 0.3920\n",
      "Epoch 358/1000\n",
      "30000/30000 [==============================] - 0s 11us/sample - loss: 0.3923\n",
      "Epoch 359/1000\n",
      "30000/30000 [==============================] - 0s 11us/sample - loss: 0.3915\n",
      "Epoch 360/1000\n",
      "30000/30000 [==============================] - 0s 11us/sample - loss: 0.3903\n",
      "Epoch 361/1000\n",
      "30000/30000 [==============================] - 0s 12us/sample - loss: 0.3901\n",
      "Epoch 362/1000\n",
      "30000/30000 [==============================] - 0s 11us/sample - loss: 0.3869\n",
      "Epoch 363/1000\n",
      "30000/30000 [==============================] - 0s 11us/sample - loss: 0.3877\n",
      "Epoch 364/1000\n",
      "30000/30000 [==============================] - 0s 11us/sample - loss: 0.3863\n",
      "Epoch 365/1000\n",
      "30000/30000 [==============================] - 0s 11us/sample - loss: 0.3858\n",
      "Epoch 366/1000\n",
      "30000/30000 [==============================] - 0s 11us/sample - loss: 0.3892\n",
      "Epoch 367/1000\n",
      "30000/30000 [==============================] - 0s 11us/sample - loss: 0.3889\n",
      "Epoch 368/1000\n",
      "30000/30000 [==============================] - 0s 13us/sample - loss: 0.3975\n",
      "Epoch 369/1000\n",
      "30000/30000 [==============================] - 0s 11us/sample - loss: 0.3961\n",
      "Epoch 370/1000\n",
      "30000/30000 [==============================] - 0s 12us/sample - loss: 0.3959\n",
      "Epoch 371/1000\n",
      "30000/30000 [==============================] - 0s 10us/sample - loss: 0.3921\n",
      "Epoch 372/1000\n",
      "30000/30000 [==============================] - 0s 14us/sample - loss: 0.3879\n",
      "Epoch 373/1000\n",
      "30000/30000 [==============================] - 0s 11us/sample - loss: 0.3897\n",
      "Epoch 374/1000\n",
      "30000/30000 [==============================] - 1s 21us/sample - loss: 0.3900\n",
      "Epoch 375/1000\n",
      "30000/30000 [==============================] - 0s 11us/sample - loss: 0.3924\n",
      "Epoch 376/1000\n",
      "30000/30000 [==============================] - 0s 11us/sample - loss: 0.3926\n",
      "Epoch 377/1000\n",
      "30000/30000 [==============================] - 0s 11us/sample - loss: 0.3948\n",
      "Epoch 378/1000\n",
      "30000/30000 [==============================] - 0s 13us/sample - loss: 0.3931\n",
      "Epoch 379/1000\n",
      "30000/30000 [==============================] - 0s 15us/sample - loss: 0.3901\n",
      "Epoch 380/1000\n",
      "30000/30000 [==============================] - 0s 10us/sample - loss: 0.3924\n",
      "Epoch 381/1000\n",
      "30000/30000 [==============================] - 0s 11us/sample - loss: 0.3903\n",
      "Epoch 382/1000\n",
      "30000/30000 [==============================] - 0s 11us/sample - loss: 0.3909\n",
      "Epoch 383/1000\n",
      "30000/30000 [==============================] - 0s 11us/sample - loss: 0.3893\n",
      "Epoch 384/1000\n",
      "30000/30000 [==============================] - 1s 20us/sample - loss: 0.3917\n",
      "Epoch 385/1000\n",
      "30000/30000 [==============================] - 0s 11us/sample - loss: 0.3903\n",
      "Epoch 386/1000\n",
      "30000/30000 [==============================] - 0s 11us/sample - loss: 0.3922\n",
      "Epoch 387/1000\n",
      "30000/30000 [==============================] - 0s 11us/sample - loss: 0.3895\n",
      "Epoch 388/1000\n",
      "30000/30000 [==============================] - 0s 16us/sample - loss: 0.3927\n",
      "Epoch 389/1000\n",
      "30000/30000 [==============================] - 1s 18us/sample - loss: 0.3910\n",
      "Epoch 390/1000\n",
      "30000/30000 [==============================] - 0s 11us/sample - loss: 0.3886\n",
      "Epoch 391/1000\n",
      "30000/30000 [==============================] - 0s 11us/sample - loss: 0.3848\n",
      "Epoch 392/1000\n",
      "30000/30000 [==============================] - 0s 11us/sample - loss: 0.3835\n",
      "Epoch 393/1000\n",
      "30000/30000 [==============================] - 0s 15us/sample - loss: 0.3835\n",
      "Epoch 394/1000\n",
      "30000/30000 [==============================] - 0s 14us/sample - loss: 0.3857\n",
      "Epoch 395/1000\n",
      "30000/30000 [==============================] - 0s 11us/sample - loss: 0.3861\n",
      "Epoch 396/1000\n",
      "30000/30000 [==============================] - 0s 11us/sample - loss: 0.3852\n",
      "Epoch 397/1000\n",
      "30000/30000 [==============================] - 0s 10us/sample - loss: 0.3885\n",
      "Epoch 398/1000\n",
      "30000/30000 [==============================] - 0s 14us/sample - loss: 0.3892\n",
      "Epoch 399/1000\n",
      "30000/30000 [==============================] - 0s 16us/sample - loss: 0.3894\n",
      "Epoch 400/1000\n",
      "30000/30000 [==============================] - 0s 11us/sample - loss: 0.3884\n",
      "Epoch 401/1000\n",
      "30000/30000 [==============================] - 0s 11us/sample - loss: 0.3875\n",
      "Epoch 402/1000\n",
      "30000/30000 [==============================] - 0s 11us/sample - loss: 0.3900\n",
      "Epoch 403/1000\n",
      "30000/30000 [==============================] - 0s 16us/sample - loss: 0.3914\n",
      "Epoch 404/1000\n",
      "30000/30000 [==============================] - 0s 14us/sample - loss: 0.3922\n",
      "Epoch 405/1000\n",
      "30000/30000 [==============================] - 0s 12us/sample - loss: 0.3936\n",
      "Epoch 406/1000\n",
      "30000/30000 [==============================] - 0s 11us/sample - loss: 0.3911\n",
      "Epoch 407/1000\n",
      "30000/30000 [==============================] - 0s 11us/sample - loss: 0.3944\n",
      "Epoch 408/1000\n",
      "30000/30000 [==============================] - 1s 19us/sample - loss: 0.3925\n",
      "Epoch 409/1000\n",
      "30000/30000 [==============================] - 0s 12us/sample - loss: 0.3966\n",
      "Epoch 410/1000\n",
      "30000/30000 [==============================] - 0s 11us/sample - loss: 0.3963\n",
      "Epoch 411/1000\n",
      "30000/30000 [==============================] - 0s 11us/sample - loss: 0.4043\n",
      "Epoch 412/1000\n",
      "30000/30000 [==============================] - 0s 11us/sample - loss: 0.4006\n",
      "Epoch 413/1000\n",
      "30000/30000 [==============================] - 0s 17us/sample - loss: 0.3949\n",
      "Epoch 414/1000\n",
      "30000/30000 [==============================] - 0s 11us/sample - loss: 0.3906\n",
      "Epoch 415/1000\n",
      "30000/30000 [==============================] - 0s 11us/sample - loss: 0.3891\n",
      "Epoch 416/1000\n",
      "30000/30000 [==============================] - 0s 11us/sample - loss: 0.3884\n",
      "Epoch 417/1000\n",
      "30000/30000 [==============================] - 0s 11us/sample - loss: 0.3858\n",
      "Epoch 418/1000\n",
      "30000/30000 [==============================] - 0s 11us/sample - loss: 0.3909\n",
      "Epoch 419/1000\n",
      "30000/30000 [==============================] - 0s 11us/sample - loss: 0.3897\n",
      "Epoch 420/1000\n",
      "30000/30000 [==============================] - 0s 12us/sample - loss: 0.3881\n",
      "Epoch 421/1000\n",
      "30000/30000 [==============================] - 0s 11us/sample - loss: 0.3860\n",
      "Epoch 422/1000\n",
      "30000/30000 [==============================] - 0s 11us/sample - loss: 0.3876\n",
      "Epoch 423/1000\n",
      "30000/30000 [==============================] - 0s 11us/sample - loss: 0.3858\n",
      "Epoch 424/1000\n",
      "30000/30000 [==============================] - 0s 12us/sample - loss: 0.3848\n",
      "Epoch 425/1000\n",
      "30000/30000 [==============================] - 0s 12us/sample - loss: 0.3831\n",
      "Epoch 426/1000\n",
      "30000/30000 [==============================] - 0s 12us/sample - loss: 0.3866\n",
      "Epoch 427/1000\n",
      "30000/30000 [==============================] - 0s 12us/sample - loss: 0.3881\n",
      "Epoch 428/1000\n",
      "30000/30000 [==============================] - 0s 11us/sample - loss: 0.3876\n",
      "Epoch 429/1000\n",
      "30000/30000 [==============================] - 0s 12us/sample - loss: 0.3869\n",
      "Epoch 430/1000\n",
      "30000/30000 [==============================] - 0s 11us/sample - loss: 0.3907\n",
      "Epoch 431/1000\n",
      "30000/30000 [==============================] - 0s 11us/sample - loss: 0.3889\n",
      "Epoch 432/1000\n",
      "30000/30000 [==============================] - 0s 11us/sample - loss: 0.3869\n",
      "Epoch 433/1000\n",
      "30000/30000 [==============================] - 0s 11us/sample - loss: 0.3849\n",
      "Epoch 434/1000\n",
      "30000/30000 [==============================] - 0s 11us/sample - loss: 0.3851\n",
      "Epoch 435/1000\n",
      "30000/30000 [==============================] - 0s 11us/sample - loss: 0.3852\n",
      "Epoch 436/1000\n",
      "30000/30000 [==============================] - 0s 11us/sample - loss: 0.3863\n",
      "Epoch 437/1000\n",
      "30000/30000 [==============================] - 0s 11us/sample - loss: 0.3846\n",
      "Epoch 438/1000\n",
      "30000/30000 [==============================] - 0s 11us/sample - loss: 0.3856\n",
      "Epoch 439/1000\n",
      "30000/30000 [==============================] - 0s 12us/sample - loss: 0.3886\n",
      "Epoch 440/1000\n",
      "30000/30000 [==============================] - 0s 11us/sample - loss: 0.3887\n",
      "Epoch 441/1000\n",
      "30000/30000 [==============================] - 0s 11us/sample - loss: 0.3907\n",
      "Epoch 442/1000\n",
      "30000/30000 [==============================] - 0s 11us/sample - loss: 0.3875\n",
      "Epoch 443/1000\n",
      "30000/30000 [==============================] - 0s 11us/sample - loss: 0.3950\n",
      "Epoch 444/1000\n",
      "30000/30000 [==============================] - 0s 11us/sample - loss: 0.3928\n",
      "Epoch 445/1000\n",
      "30000/30000 [==============================] - 0s 13us/sample - loss: 0.3912\n",
      "Epoch 446/1000\n",
      "30000/30000 [==============================] - 0s 11us/sample - loss: 0.3880\n",
      "Epoch 447/1000\n",
      "30000/30000 [==============================] - 0s 11us/sample - loss: 0.3891\n",
      "Epoch 448/1000\n",
      "30000/30000 [==============================] - 0s 11us/sample - loss: 0.3888\n",
      "Epoch 449/1000\n",
      "30000/30000 [==============================] - 0s 12us/sample - loss: 0.3854\n",
      "Epoch 450/1000\n",
      "30000/30000 [==============================] - 0s 11us/sample - loss: 0.3882\n",
      "Epoch 451/1000\n",
      "30000/30000 [==============================] - 0s 16us/sample - loss: 0.3847\n",
      "Epoch 452/1000\n",
      "30000/30000 [==============================] - 0s 11us/sample - loss: 0.3834\n",
      "Epoch 453/1000\n",
      "30000/30000 [==============================] - 0s 11us/sample - loss: 0.3801\n",
      "Epoch 454/1000\n",
      "30000/30000 [==============================] - 0s 11us/sample - loss: 0.3843\n",
      "Epoch 455/1000\n",
      "30000/30000 [==============================] - 0s 12us/sample - loss: 0.3852\n",
      "Epoch 456/1000\n",
      "30000/30000 [==============================] - 0s 14us/sample - loss: 0.3844\n",
      "Epoch 457/1000\n",
      "30000/30000 [==============================] - 0s 11us/sample - loss: 0.3834\n",
      "Epoch 458/1000\n",
      "30000/30000 [==============================] - 0s 11us/sample - loss: 0.3826\n",
      "Epoch 459/1000\n",
      "30000/30000 [==============================] - 0s 10us/sample - loss: 0.3814\n",
      "Epoch 460/1000\n",
      "30000/30000 [==============================] - 0s 11us/sample - loss: 0.3803\n",
      "Epoch 461/1000\n",
      "30000/30000 [==============================] - 0s 15us/sample - loss: 0.3802\n",
      "Epoch 462/1000\n",
      "30000/30000 [==============================] - 0s 10us/sample - loss: 0.3818\n",
      "Epoch 463/1000\n",
      "30000/30000 [==============================] - 0s 12us/sample - loss: 0.3825\n",
      "Epoch 464/1000\n",
      "30000/30000 [==============================] - 0s 11us/sample - loss: 0.3827\n",
      "Epoch 465/1000\n",
      "30000/30000 [==============================] - 0s 11us/sample - loss: 0.3817\n",
      "Epoch 466/1000\n",
      "30000/30000 [==============================] - 0s 16us/sample - loss: 0.3852\n",
      "Epoch 467/1000\n",
      "30000/30000 [==============================] - 0s 11us/sample - loss: 0.3845\n",
      "Epoch 468/1000\n",
      "30000/30000 [==============================] - 0s 10us/sample - loss: 0.3818\n",
      "Epoch 469/1000\n",
      "30000/30000 [==============================] - 0s 11us/sample - loss: 0.3813\n",
      "Epoch 470/1000\n",
      "30000/30000 [==============================] - 0s 12us/sample - loss: 0.3837\n",
      "Epoch 471/1000\n",
      "30000/30000 [==============================] - 1s 19us/sample - loss: 0.3849\n",
      "Epoch 472/1000\n",
      "30000/30000 [==============================] - 0s 11us/sample - loss: 0.3857\n",
      "Epoch 473/1000\n",
      "30000/30000 [==============================] - 0s 11us/sample - loss: 0.3856\n",
      "Epoch 474/1000\n",
      "30000/30000 [==============================] - 0s 11us/sample - loss: 0.3888\n",
      "Epoch 475/1000\n",
      "30000/30000 [==============================] - 0s 14us/sample - loss: 0.3863\n",
      "Epoch 476/1000\n",
      "30000/30000 [==============================] - 0s 15us/sample - loss: 0.3830\n",
      "Epoch 477/1000\n",
      "30000/30000 [==============================] - 0s 11us/sample - loss: 0.3805\n",
      "Epoch 478/1000\n",
      "30000/30000 [==============================] - 0s 11us/sample - loss: 0.3817\n",
      "Epoch 479/1000\n",
      "30000/30000 [==============================] - 0s 11us/sample - loss: 0.3820\n",
      "Epoch 480/1000\n",
      "30000/30000 [==============================] - 0s 16us/sample - loss: 0.3840\n",
      "Epoch 481/1000\n",
      "30000/30000 [==============================] - 0s 14us/sample - loss: 0.3848\n",
      "Epoch 482/1000\n",
      "30000/30000 [==============================] - 0s 10us/sample - loss: 0.3856\n",
      "Epoch 483/1000\n",
      "30000/30000 [==============================] - 0s 11us/sample - loss: 0.3917\n",
      "Epoch 484/1000\n",
      "30000/30000 [==============================] - 0s 11us/sample - loss: 0.3905\n",
      "Epoch 485/1000\n",
      "30000/30000 [==============================] - 0s 16us/sample - loss: 0.3887\n",
      "Epoch 486/1000\n",
      "30000/30000 [==============================] - 0s 12us/sample - loss: 0.3846\n",
      "Epoch 487/1000\n",
      "30000/30000 [==============================] - 0s 11us/sample - loss: 0.3878\n",
      "Epoch 488/1000\n",
      "30000/30000 [==============================] - 0s 12us/sample - loss: 0.3879\n",
      "Epoch 489/1000\n",
      "30000/30000 [==============================] - 0s 11us/sample - loss: 0.3887\n",
      "Epoch 490/1000\n",
      "30000/30000 [==============================] - 0s 15us/sample - loss: 0.3877\n",
      "Epoch 491/1000\n",
      "30000/30000 [==============================] - 0s 11us/sample - loss: 0.3936\n",
      "Epoch 492/1000\n",
      "30000/30000 [==============================] - 0s 11us/sample - loss: 0.3947\n",
      "Epoch 493/1000\n",
      "30000/30000 [==============================] - 0s 11us/sample - loss: 0.3919\n",
      "Epoch 494/1000\n",
      "30000/30000 [==============================] - 0s 12us/sample - loss: 0.3906\n",
      "Epoch 495/1000\n",
      "30000/30000 [==============================] - 0s 11us/sample - loss: 0.3896\n",
      "Epoch 496/1000\n",
      "30000/30000 [==============================] - 0s 11us/sample - loss: 0.3901\n",
      "Epoch 497/1000\n",
      "30000/30000 [==============================] - 0s 11us/sample - loss: 0.3868\n",
      "Epoch 498/1000\n",
      "30000/30000 [==============================] - 0s 11us/sample - loss: 0.3859\n",
      "Epoch 499/1000\n",
      "30000/30000 [==============================] - 0s 11us/sample - loss: 0.3849\n",
      "Epoch 500/1000\n",
      "30000/30000 [==============================] - 0s 11us/sample - loss: 0.3847\n",
      "Epoch 501/1000\n",
      "30000/30000 [==============================] - 0s 11us/sample - loss: 0.3825\n",
      "Epoch 502/1000\n",
      "30000/30000 [==============================] - 0s 12us/sample - loss: 0.3833\n",
      "Epoch 503/1000\n",
      "30000/30000 [==============================] - 0s 12us/sample - loss: 0.3847\n",
      "Epoch 504/1000\n",
      "30000/30000 [==============================] - 0s 11us/sample - loss: 0.3844\n",
      "Epoch 505/1000\n",
      "30000/30000 [==============================] - 0s 12us/sample - loss: 0.3833\n",
      "Epoch 506/1000\n",
      "30000/30000 [==============================] - 0s 11us/sample - loss: 0.3829\n",
      "Epoch 507/1000\n",
      "30000/30000 [==============================] - 0s 11us/sample - loss: 0.3849\n",
      "Epoch 508/1000\n",
      "30000/30000 [==============================] - 0s 11us/sample - loss: 0.3827\n",
      "Epoch 509/1000\n",
      "30000/30000 [==============================] - 0s 10us/sample - loss: 0.3852\n",
      "Epoch 510/1000\n",
      "30000/30000 [==============================] - 0s 10us/sample - loss: 0.3866\n",
      "Epoch 511/1000\n",
      "30000/30000 [==============================] - 0s 12us/sample - loss: 0.3899\n",
      "Epoch 512/1000\n",
      "30000/30000 [==============================] - 0s 11us/sample - loss: 0.3870\n",
      "Epoch 513/1000\n",
      "30000/30000 [==============================] - 0s 11us/sample - loss: 0.3869\n",
      "Epoch 514/1000\n",
      "30000/30000 [==============================] - 0s 11us/sample - loss: 0.3873\n",
      "Epoch 515/1000\n",
      "30000/30000 [==============================] - 0s 11us/sample - loss: 0.3869\n",
      "Epoch 516/1000\n",
      "30000/30000 [==============================] - 0s 11us/sample - loss: 0.3849\n",
      "Epoch 517/1000\n",
      "30000/30000 [==============================] - 0s 12us/sample - loss: 0.3841\n",
      "Epoch 518/1000\n",
      "30000/30000 [==============================] - 0s 11us/sample - loss: 0.3811\n",
      "Epoch 519/1000\n",
      "30000/30000 [==============================] - 0s 11us/sample - loss: 0.3797\n",
      "Epoch 520/1000\n",
      "30000/30000 [==============================] - 0s 11us/sample - loss: 0.3817\n",
      "Epoch 521/1000\n",
      "30000/30000 [==============================] - 0s 11us/sample - loss: 0.3837\n",
      "Epoch 522/1000\n",
      "30000/30000 [==============================] - 0s 12us/sample - loss: 0.3859\n",
      "Epoch 523/1000\n",
      "30000/30000 [==============================] - 0s 11us/sample - loss: 0.3858\n",
      "Epoch 524/1000\n",
      "30000/30000 [==============================] - 0s 11us/sample - loss: 0.3864\n",
      "Epoch 525/1000\n",
      "30000/30000 [==============================] - 0s 11us/sample - loss: 0.3858\n",
      "Epoch 526/1000\n",
      "30000/30000 [==============================] - 0s 12us/sample - loss: 0.3853\n",
      "Epoch 527/1000\n",
      "30000/30000 [==============================] - 0s 11us/sample - loss: 0.3849\n",
      "Epoch 528/1000\n",
      "30000/30000 [==============================] - 0s 17us/sample - loss: 0.3842\n",
      "Epoch 529/1000\n",
      "30000/30000 [==============================] - 0s 12us/sample - loss: 0.3835\n",
      "Epoch 530/1000\n",
      "30000/30000 [==============================] - 0s 12us/sample - loss: 0.3839\n",
      "Epoch 531/1000\n",
      "30000/30000 [==============================] - 0s 11us/sample - loss: 0.3838\n",
      "Epoch 532/1000\n",
      "30000/30000 [==============================] - 0s 11us/sample - loss: 0.3842\n",
      "Epoch 533/1000\n",
      "30000/30000 [==============================] - 0s 14us/sample - loss: 0.3867\n",
      "Epoch 534/1000\n",
      "30000/30000 [==============================] - 0s 12us/sample - loss: 0.3860\n",
      "Epoch 535/1000\n"
     ]
    },
    {
     "name": "stdout",
     "output_type": "stream",
     "text": [
      "30000/30000 [==============================] - 0s 11us/sample - loss: 0.3912\n",
      "Epoch 536/1000\n",
      "30000/30000 [==============================] - 0s 11us/sample - loss: 0.3941\n",
      "Epoch 537/1000\n",
      "30000/30000 [==============================] - 0s 11us/sample - loss: 0.3937\n",
      "Epoch 538/1000\n",
      "30000/30000 [==============================] - 1s 17us/sample - loss: 0.3901\n",
      "Epoch 539/1000\n",
      "30000/30000 [==============================] - 0s 14us/sample - loss: 0.3887\n",
      "Epoch 540/1000\n",
      "30000/30000 [==============================] - 0s 11us/sample - loss: 0.3890\n",
      "Epoch 541/1000\n",
      "30000/30000 [==============================] - 0s 10us/sample - loss: 0.3886\n",
      "Epoch 542/1000\n",
      "30000/30000 [==============================] - 0s 11us/sample - loss: 0.3864\n",
      "Epoch 543/1000\n",
      "30000/30000 [==============================] - 0s 15us/sample - loss: 0.3851\n",
      "Epoch 544/1000\n",
      "30000/30000 [==============================] - 0s 11us/sample - loss: 0.3854\n",
      "Epoch 545/1000\n",
      "30000/30000 [==============================] - 0s 10us/sample - loss: 0.3837\n",
      "Epoch 546/1000\n",
      "30000/30000 [==============================] - 0s 11us/sample - loss: 0.3844\n",
      "Epoch 547/1000\n",
      "30000/30000 [==============================] - 0s 13us/sample - loss: 0.3856\n",
      "Epoch 548/1000\n",
      "30000/30000 [==============================] - 0s 16us/sample - loss: 0.3859\n",
      "Epoch 549/1000\n",
      "30000/30000 [==============================] - 0s 11us/sample - loss: 0.3862\n",
      "Epoch 550/1000\n",
      "30000/30000 [==============================] - 0s 11us/sample - loss: 0.3870\n",
      "Epoch 551/1000\n",
      "30000/30000 [==============================] - 0s 11us/sample - loss: 0.3901\n",
      "Epoch 552/1000\n",
      "30000/30000 [==============================] - 0s 11us/sample - loss: 0.3936\n",
      "Epoch 553/1000\n",
      "30000/30000 [==============================] - 0s 16us/sample - loss: 0.3954\n",
      "Epoch 554/1000\n",
      "30000/30000 [==============================] - 0s 10us/sample - loss: 0.3934\n",
      "Epoch 555/1000\n",
      "30000/30000 [==============================] - 0s 11us/sample - loss: 0.3904\n",
      "Epoch 556/1000\n",
      "30000/30000 [==============================] - 0s 11us/sample - loss: 0.3900\n",
      "Epoch 557/1000\n",
      "30000/30000 [==============================] - 0s 13us/sample - loss: 0.3903\n",
      "Epoch 558/1000\n",
      "30000/30000 [==============================] - 0s 15us/sample - loss: 0.3902\n",
      "Epoch 559/1000\n",
      "30000/30000 [==============================] - 0s 11us/sample - loss: 0.3874\n",
      "Epoch 560/1000\n",
      "30000/30000 [==============================] - 0s 11us/sample - loss: 0.3889\n",
      "Epoch 561/1000\n",
      "30000/30000 [==============================] - 0s 12us/sample - loss: 0.3868\n",
      "Epoch 562/1000\n",
      "30000/30000 [==============================] - 0s 12us/sample - loss: 0.3844\n",
      "Epoch 563/1000\n",
      "30000/30000 [==============================] - 0s 14us/sample - loss: 0.3862\n",
      "Epoch 564/1000\n",
      "30000/30000 [==============================] - 0s 11us/sample - loss: 0.3893\n",
      "Epoch 565/1000\n",
      "30000/30000 [==============================] - 0s 12us/sample - loss: 0.3885\n",
      "Epoch 566/1000\n",
      "30000/30000 [==============================] - 0s 11us/sample - loss: 0.3871\n",
      "Epoch 567/1000\n",
      "30000/30000 [==============================] - 0s 12us/sample - loss: 0.3868\n",
      "Epoch 568/1000\n",
      "30000/30000 [==============================] - 0s 15us/sample - loss: 0.3885\n",
      "Epoch 569/1000\n",
      "30000/30000 [==============================] - 0s 11us/sample - loss: 0.3891\n",
      "Epoch 570/1000\n",
      "30000/30000 [==============================] - 0s 12us/sample - loss: 0.3869\n",
      "Epoch 571/1000\n",
      "30000/30000 [==============================] - 0s 11us/sample - loss: 0.3886\n",
      "Epoch 572/1000\n",
      "30000/30000 [==============================] - 0s 11us/sample - loss: 0.3886\n",
      "Epoch 573/1000\n",
      "30000/30000 [==============================] - 0s 15us/sample - loss: 0.3889\n",
      "Epoch 574/1000\n",
      "30000/30000 [==============================] - 0s 10us/sample - loss: 0.3884\n",
      "Epoch 575/1000\n",
      "30000/30000 [==============================] - 0s 11us/sample - loss: 0.3890\n",
      "Epoch 576/1000\n",
      "30000/30000 [==============================] - 0s 11us/sample - loss: 0.3887\n",
      "Epoch 577/1000\n",
      "30000/30000 [==============================] - 0s 11us/sample - loss: 0.3874\n",
      "Epoch 578/1000\n",
      "30000/30000 [==============================] - 0s 11us/sample - loss: 0.3860\n",
      "Epoch 579/1000\n",
      "30000/30000 [==============================] - 0s 11us/sample - loss: 0.3858\n",
      "Epoch 580/1000\n",
      "30000/30000 [==============================] - 0s 11us/sample - loss: 0.3840\n",
      "Epoch 581/1000\n",
      "30000/30000 [==============================] - 0s 10us/sample - loss: 0.3834\n",
      "Epoch 582/1000\n",
      "30000/30000 [==============================] - 0s 12us/sample - loss: 0.3820\n",
      "Epoch 583/1000\n",
      "30000/30000 [==============================] - 0s 12us/sample - loss: 0.3836\n",
      "Epoch 584/1000\n",
      "30000/30000 [==============================] - 0s 12us/sample - loss: 0.3837\n",
      "Epoch 585/1000\n",
      "30000/30000 [==============================] - 0s 11us/sample - loss: 0.3838\n",
      "Epoch 586/1000\n",
      "30000/30000 [==============================] - 0s 11us/sample - loss: 0.3832\n",
      "Epoch 587/1000\n",
      "30000/30000 [==============================] - 0s 11us/sample - loss: 0.3833\n",
      "Epoch 588/1000\n",
      "30000/30000 [==============================] - 0s 12us/sample - loss: 0.3845\n",
      "Epoch 589/1000\n",
      "30000/30000 [==============================] - 0s 11us/sample - loss: 0.3853\n",
      "Epoch 590/1000\n",
      "30000/30000 [==============================] - 0s 11us/sample - loss: 0.3831\n",
      "Epoch 591/1000\n",
      "30000/30000 [==============================] - 0s 11us/sample - loss: 0.3838\n",
      "Epoch 592/1000\n",
      "30000/30000 [==============================] - 0s 11us/sample - loss: 0.3875\n",
      "Epoch 593/1000\n",
      "30000/30000 [==============================] - 0s 11us/sample - loss: 0.3873\n",
      "Epoch 594/1000\n",
      "30000/30000 [==============================] - 0s 11us/sample - loss: 0.3869\n",
      "Epoch 595/1000\n",
      "30000/30000 [==============================] - 0s 11us/sample - loss: 0.3844\n",
      "Epoch 596/1000\n",
      "30000/30000 [==============================] - 0s 11us/sample - loss: 0.3808\n",
      "Epoch 597/1000\n",
      "30000/30000 [==============================] - 0s 11us/sample - loss: 0.3780\n",
      "Epoch 598/1000\n",
      "30000/30000 [==============================] - 0s 11us/sample - loss: 0.3777\n",
      "Epoch 599/1000\n",
      "30000/30000 [==============================] - 0s 12us/sample - loss: 0.3778\n",
      "Epoch 600/1000\n",
      "30000/30000 [==============================] - 0s 12us/sample - loss: 0.3800\n",
      "Epoch 601/1000\n",
      "30000/30000 [==============================] - 0s 12us/sample - loss: 0.3769\n",
      "Epoch 602/1000\n",
      "30000/30000 [==============================] - 0s 11us/sample - loss: 0.3801\n",
      "Epoch 603/1000\n",
      "30000/30000 [==============================] - 0s 13us/sample - loss: 0.3801\n",
      "Epoch 604/1000\n",
      "30000/30000 [==============================] - 0s 10us/sample - loss: 0.3797\n",
      "Epoch 605/1000\n",
      "30000/30000 [==============================] - 0s 13us/sample - loss: 0.3788\n",
      "Epoch 606/1000\n",
      "30000/30000 [==============================] - 0s 12us/sample - loss: 0.3794\n",
      "Epoch 607/1000\n",
      "30000/30000 [==============================] - 0s 11us/sample - loss: 0.3817\n",
      "Epoch 608/1000\n",
      "30000/30000 [==============================] - 0s 11us/sample - loss: 0.3790\n",
      "Epoch 609/1000\n",
      "30000/30000 [==============================] - 0s 12us/sample - loss: 0.3797\n",
      "Epoch 610/1000\n",
      "30000/30000 [==============================] - 0s 12us/sample - loss: 0.3778\n",
      "Epoch 611/1000\n",
      "30000/30000 [==============================] - 0s 15us/sample - loss: 0.3783\n",
      "Epoch 612/1000\n",
      "30000/30000 [==============================] - 0s 11us/sample - loss: 0.3764\n",
      "Epoch 613/1000\n",
      "30000/30000 [==============================] - 0s 11us/sample - loss: 0.3799\n",
      "Epoch 614/1000\n",
      "30000/30000 [==============================] - 0s 11us/sample - loss: 0.3796\n",
      "Epoch 615/1000\n",
      "30000/30000 [==============================] - 0s 13us/sample - loss: 0.3796\n",
      "Epoch 616/1000\n",
      "30000/30000 [==============================] - 0s 12us/sample - loss: 0.3758\n",
      "Epoch 617/1000\n",
      "30000/30000 [==============================] - 0s 11us/sample - loss: 0.3767\n",
      "Epoch 618/1000\n",
      "30000/30000 [==============================] - 0s 11us/sample - loss: 0.3779\n",
      "Epoch 619/1000\n",
      "30000/30000 [==============================] - 0s 11us/sample - loss: 0.3789\n",
      "Epoch 620/1000\n",
      "30000/30000 [==============================] - 0s 15us/sample - loss: 0.3766\n",
      "Epoch 621/1000\n",
      "30000/30000 [==============================] - 0s 14us/sample - loss: 0.3774\n",
      "Epoch 622/1000\n",
      "30000/30000 [==============================] - 0s 12us/sample - loss: 0.3779\n",
      "Epoch 623/1000\n",
      "30000/30000 [==============================] - 0s 11us/sample - loss: 0.3783\n",
      "Epoch 624/1000\n",
      "30000/30000 [==============================] - 0s 10us/sample - loss: 0.3769\n",
      "Epoch 625/1000\n",
      "30000/30000 [==============================] - 0s 15us/sample - loss: 0.3773\n",
      "Epoch 626/1000\n",
      "30000/30000 [==============================] - 0s 11us/sample - loss: 0.3805\n",
      "Epoch 627/1000\n",
      "30000/30000 [==============================] - 0s 11us/sample - loss: 0.3793\n",
      "Epoch 628/1000\n",
      "30000/30000 [==============================] - 0s 11us/sample - loss: 0.3795\n",
      "Epoch 629/1000\n",
      "30000/30000 [==============================] - 0s 11us/sample - loss: 0.3774\n",
      "Epoch 630/1000\n",
      "30000/30000 [==============================] - 0s 15us/sample - loss: 0.3771\n",
      "Epoch 631/1000\n",
      "30000/30000 [==============================] - 0s 11us/sample - loss: 0.3752\n",
      "Epoch 632/1000\n",
      "30000/30000 [==============================] - 0s 10us/sample - loss: 0.3751\n",
      "Epoch 633/1000\n",
      "30000/30000 [==============================] - 0s 11us/sample - loss: 0.3754\n",
      "Epoch 634/1000\n",
      "30000/30000 [==============================] - 0s 11us/sample - loss: 0.3751\n",
      "Epoch 635/1000\n",
      "30000/30000 [==============================] - 1s 17us/sample - loss: 0.3717\n",
      "Epoch 636/1000\n",
      "30000/30000 [==============================] - 0s 10us/sample - loss: 0.3743\n",
      "Epoch 637/1000\n",
      "30000/30000 [==============================] - 0s 11us/sample - loss: 0.3768\n",
      "Epoch 638/1000\n",
      "30000/30000 [==============================] - 0s 11us/sample - loss: 0.3786\n",
      "Epoch 639/1000\n",
      "30000/30000 [==============================] - 0s 11us/sample - loss: 0.3758\n",
      "Epoch 640/1000\n",
      "30000/30000 [==============================] - 0s 15us/sample - loss: 0.3774\n",
      "Epoch 641/1000\n",
      "30000/30000 [==============================] - 0s 11us/sample - loss: 0.3782\n",
      "Epoch 642/1000\n",
      "30000/30000 [==============================] - 0s 12us/sample - loss: 0.3761\n",
      "Epoch 643/1000\n",
      "30000/30000 [==============================] - 0s 11us/sample - loss: 0.3745\n",
      "Epoch 644/1000\n",
      "30000/30000 [==============================] - 0s 11us/sample - loss: 0.3755\n",
      "Epoch 645/1000\n",
      "30000/30000 [==============================] - 0s 16us/sample - loss: 0.3779\n",
      "Epoch 646/1000\n",
      "30000/30000 [==============================] - 0s 11us/sample - loss: 0.3766\n",
      "Epoch 647/1000\n",
      "30000/30000 [==============================] - 0s 11us/sample - loss: 0.3753\n",
      "Epoch 648/1000\n",
      "30000/30000 [==============================] - 0s 10us/sample - loss: 0.3753\n",
      "Epoch 649/1000\n",
      "30000/30000 [==============================] - 0s 11us/sample - loss: 0.3779\n",
      "Epoch 650/1000\n",
      "30000/30000 [==============================] - 0s 15us/sample - loss: 0.3771\n",
      "Epoch 651/1000\n",
      "30000/30000 [==============================] - 0s 11us/sample - loss: 0.3778\n",
      "Epoch 652/1000\n",
      "30000/30000 [==============================] - 0s 11us/sample - loss: 0.3780\n",
      "Epoch 653/1000\n",
      "30000/30000 [==============================] - 0s 10us/sample - loss: 0.3795\n",
      "Epoch 654/1000\n",
      "30000/30000 [==============================] - 0s 12us/sample - loss: 0.3742\n",
      "Epoch 655/1000\n",
      "30000/30000 [==============================] - 0s 16us/sample - loss: 0.3732\n",
      "Epoch 656/1000\n",
      "30000/30000 [==============================] - 0s 11us/sample - loss: 0.3731\n",
      "Epoch 657/1000\n",
      "30000/30000 [==============================] - 0s 11us/sample - loss: 0.3750\n",
      "Epoch 658/1000\n",
      "30000/30000 [==============================] - 0s 11us/sample - loss: 0.3762\n",
      "Epoch 659/1000\n",
      "30000/30000 [==============================] - 0s 11us/sample - loss: 0.3780\n",
      "Epoch 660/1000\n",
      "30000/30000 [==============================] - 0s 11us/sample - loss: 0.3794\n",
      "Epoch 661/1000\n",
      "30000/30000 [==============================] - 0s 11us/sample - loss: 0.3815\n",
      "Epoch 662/1000\n",
      "30000/30000 [==============================] - 0s 11us/sample - loss: 0.3829\n",
      "Epoch 663/1000\n",
      "30000/30000 [==============================] - 0s 11us/sample - loss: 0.3844\n",
      "Epoch 664/1000\n",
      "30000/30000 [==============================] - 0s 11us/sample - loss: 0.3833\n",
      "Epoch 665/1000\n",
      "30000/30000 [==============================] - 0s 12us/sample - loss: 0.3843\n",
      "Epoch 666/1000\n",
      "30000/30000 [==============================] - 0s 12us/sample - loss: 0.3836\n",
      "Epoch 667/1000\n",
      "30000/30000 [==============================] - 0s 11us/sample - loss: 0.3881\n",
      "Epoch 668/1000\n",
      "30000/30000 [==============================] - 0s 11us/sample - loss: 0.3930\n",
      "Epoch 669/1000\n",
      "30000/30000 [==============================] - 0s 11us/sample - loss: 0.3900\n",
      "Epoch 670/1000\n",
      "30000/30000 [==============================] - 0s 11us/sample - loss: 0.3867\n",
      "Epoch 671/1000\n",
      "30000/30000 [==============================] - 0s 11us/sample - loss: 0.3858\n",
      "Epoch 672/1000\n",
      "30000/30000 [==============================] - 0s 11us/sample - loss: 0.3851\n",
      "Epoch 673/1000\n",
      "30000/30000 [==============================] - 0s 11us/sample - loss: 0.3823\n",
      "Epoch 674/1000\n",
      "30000/30000 [==============================] - 0s 11us/sample - loss: 0.3791\n",
      "Epoch 675/1000\n",
      "30000/30000 [==============================] - 0s 11us/sample - loss: 0.3769\n",
      "Epoch 676/1000\n",
      "30000/30000 [==============================] - 0s 11us/sample - loss: 0.3770\n",
      "Epoch 677/1000\n",
      "30000/30000 [==============================] - 0s 11us/sample - loss: 0.3774\n",
      "Epoch 678/1000\n",
      "30000/30000 [==============================] - 0s 11us/sample - loss: 0.3784\n",
      "Epoch 679/1000\n",
      "30000/30000 [==============================] - 0s 11us/sample - loss: 0.3790\n",
      "Epoch 680/1000\n",
      "30000/30000 [==============================] - 0s 11us/sample - loss: 0.3824\n",
      "Epoch 681/1000\n",
      "30000/30000 [==============================] - 0s 11us/sample - loss: 0.3793\n",
      "Epoch 682/1000\n",
      "30000/30000 [==============================] - 0s 11us/sample - loss: 0.3798\n",
      "Epoch 683/1000\n",
      "30000/30000 [==============================] - 0s 12us/sample - loss: 0.3784\n",
      "Epoch 684/1000\n",
      "30000/30000 [==============================] - 0s 11us/sample - loss: 0.3777\n",
      "Epoch 685/1000\n",
      "30000/30000 [==============================] - 0s 11us/sample - loss: 0.3777\n",
      "Epoch 686/1000\n",
      "30000/30000 [==============================] - 0s 11us/sample - loss: 0.3765\n",
      "Epoch 687/1000\n",
      "30000/30000 [==============================] - 0s 12us/sample - loss: 0.3768\n",
      "Epoch 688/1000\n",
      "30000/30000 [==============================] - 0s 11us/sample - loss: 0.3779\n",
      "Epoch 689/1000\n",
      "30000/30000 [==============================] - 0s 11us/sample - loss: 0.3747\n",
      "Epoch 690/1000\n",
      "30000/30000 [==============================] - 0s 11us/sample - loss: 0.3776\n",
      "Epoch 691/1000\n",
      "30000/30000 [==============================] - 0s 12us/sample - loss: 0.3783\n",
      "Epoch 692/1000\n",
      "30000/30000 [==============================] - 0s 11us/sample - loss: 0.3805\n",
      "Epoch 693/1000\n",
      "30000/30000 [==============================] - 0s 15us/sample - loss: 0.3768\n",
      "Epoch 694/1000\n",
      "30000/30000 [==============================] - 0s 11us/sample - loss: 0.3791\n",
      "Epoch 695/1000\n",
      "30000/30000 [==============================] - 0s 11us/sample - loss: 0.3801\n",
      "Epoch 696/1000\n",
      "30000/30000 [==============================] - 0s 10us/sample - loss: 0.3757\n",
      "Epoch 697/1000\n",
      "30000/30000 [==============================] - 0s 11us/sample - loss: 0.3740\n",
      "Epoch 698/1000\n",
      "30000/30000 [==============================] - 0s 14us/sample - loss: 0.3743\n",
      "Epoch 699/1000\n",
      "30000/30000 [==============================] - 0s 12us/sample - loss: 0.3753\n",
      "Epoch 700/1000\n",
      "30000/30000 [==============================] - 0s 11us/sample - loss: 0.3738\n",
      "Epoch 701/1000\n",
      "30000/30000 [==============================] - 0s 11us/sample - loss: 0.3763\n",
      "Epoch 702/1000\n",
      "30000/30000 [==============================] - 0s 11us/sample - loss: 0.3786\n",
      "Epoch 703/1000\n",
      "30000/30000 [==============================] - 0s 16us/sample - loss: 0.3772\n",
      "Epoch 704/1000\n",
      "30000/30000 [==============================] - 0s 11us/sample - loss: 0.3742\n",
      "Epoch 705/1000\n",
      "30000/30000 [==============================] - 0s 11us/sample - loss: 0.3747\n",
      "Epoch 706/1000\n",
      "30000/30000 [==============================] - 0s 11us/sample - loss: 0.3766\n",
      "Epoch 707/1000\n",
      "30000/30000 [==============================] - 0s 11us/sample - loss: 0.3737\n",
      "Epoch 708/1000\n",
      "30000/30000 [==============================] - 0s 15us/sample - loss: 0.3736\n",
      "Epoch 709/1000\n",
      "30000/30000 [==============================] - 0s 11us/sample - loss: 0.3735\n",
      "Epoch 710/1000\n",
      "30000/30000 [==============================] - 0s 11us/sample - loss: 0.3732\n",
      "Epoch 711/1000\n",
      "30000/30000 [==============================] - 0s 11us/sample - loss: 0.3705\n",
      "Epoch 712/1000\n",
      "30000/30000 [==============================] - 0s 11us/sample - loss: 0.3704\n",
      "Epoch 713/1000\n"
     ]
    },
    {
     "name": "stdout",
     "output_type": "stream",
     "text": [
      "30000/30000 [==============================] - 0s 14us/sample - loss: 0.3707\n",
      "Epoch 714/1000\n",
      "30000/30000 [==============================] - 0s 11us/sample - loss: 0.3732\n",
      "Epoch 715/1000\n",
      "30000/30000 [==============================] - 0s 11us/sample - loss: 0.3715\n",
      "Epoch 716/1000\n",
      "30000/30000 [==============================] - 0s 11us/sample - loss: 0.3717\n",
      "Epoch 717/1000\n",
      "30000/30000 [==============================] - 0s 12us/sample - loss: 0.3744\n",
      "Epoch 718/1000\n",
      "30000/30000 [==============================] - 1s 17us/sample - loss: 0.3761\n",
      "Epoch 719/1000\n",
      "30000/30000 [==============================] - 0s 11us/sample - loss: 0.3729\n",
      "Epoch 720/1000\n",
      "30000/30000 [==============================] - 0s 11us/sample - loss: 0.3741\n",
      "Epoch 721/1000\n",
      "30000/30000 [==============================] - 0s 11us/sample - loss: 0.3727\n",
      "Epoch 722/1000\n",
      "30000/30000 [==============================] - 0s 12us/sample - loss: 0.3730\n",
      "Epoch 723/1000\n",
      "30000/30000 [==============================] - 0s 14us/sample - loss: 0.3743\n",
      "Epoch 724/1000\n",
      "30000/30000 [==============================] - 0s 11us/sample - loss: 0.3763\n",
      "Epoch 725/1000\n",
      "30000/30000 [==============================] - 0s 11us/sample - loss: 0.3782\n",
      "Epoch 726/1000\n",
      "30000/30000 [==============================] - 0s 11us/sample - loss: 0.3795\n",
      "Epoch 727/1000\n",
      "30000/30000 [==============================] - 0s 12us/sample - loss: 0.3774\n",
      "Epoch 728/1000\n",
      "30000/30000 [==============================] - 0s 15us/sample - loss: 0.3750\n",
      "Epoch 729/1000\n",
      "30000/30000 [==============================] - 0s 11us/sample - loss: 0.3726\n",
      "Epoch 730/1000\n",
      "30000/30000 [==============================] - 0s 12us/sample - loss: 0.3721\n",
      "Epoch 731/1000\n",
      "30000/30000 [==============================] - 0s 11us/sample - loss: 0.3753\n",
      "Epoch 732/1000\n",
      "30000/30000 [==============================] - 0s 14us/sample - loss: 0.3752\n",
      "Epoch 733/1000\n",
      "30000/30000 [==============================] - 0s 15us/sample - loss: 0.3770\n",
      "Epoch 734/1000\n",
      "30000/30000 [==============================] - 0s 11us/sample - loss: 0.3769\n",
      "Epoch 735/1000\n",
      "30000/30000 [==============================] - 0s 11us/sample - loss: 0.3765\n",
      "Epoch 736/1000\n",
      "30000/30000 [==============================] - 0s 10us/sample - loss: 0.3706\n",
      "Epoch 737/1000\n",
      "30000/30000 [==============================] - 0s 11us/sample - loss: 0.3693\n",
      "Epoch 738/1000\n",
      "30000/30000 [==============================] - 0s 13us/sample - loss: 0.3684\n",
      "Epoch 739/1000\n",
      "30000/30000 [==============================] - 0s 12us/sample - loss: 0.3703\n",
      "Epoch 740/1000\n",
      "30000/30000 [==============================] - 0s 11us/sample - loss: 0.3691\n",
      "Epoch 741/1000\n",
      "30000/30000 [==============================] - 0s 11us/sample - loss: 0.3700\n",
      "Epoch 742/1000\n",
      "30000/30000 [==============================] - 0s 11us/sample - loss: 0.3719\n",
      "Epoch 743/1000\n",
      "30000/30000 [==============================] - 0s 11us/sample - loss: 0.3772\n",
      "Epoch 744/1000\n",
      "30000/30000 [==============================] - 0s 11us/sample - loss: 0.3718\n",
      "Epoch 745/1000\n",
      "30000/30000 [==============================] - 0s 10us/sample - loss: 0.3729\n",
      "Epoch 746/1000\n",
      "30000/30000 [==============================] - 0s 11us/sample - loss: 0.3725\n",
      "Epoch 747/1000\n",
      "30000/30000 [==============================] - 0s 12us/sample - loss: 0.3755\n",
      "Epoch 748/1000\n",
      "30000/30000 [==============================] - 0s 11us/sample - loss: 0.3723\n",
      "Epoch 749/1000\n",
      "30000/30000 [==============================] - 0s 11us/sample - loss: 0.3742\n",
      "Epoch 750/1000\n",
      "30000/30000 [==============================] - 0s 11us/sample - loss: 0.3749\n",
      "Epoch 751/1000\n",
      "30000/30000 [==============================] - 0s 12us/sample - loss: 0.3744\n",
      "Epoch 752/1000\n",
      "30000/30000 [==============================] - 0s 12us/sample - loss: 0.3704\n",
      "Epoch 753/1000\n",
      "30000/30000 [==============================] - 0s 12us/sample - loss: 0.3718\n",
      "Epoch 754/1000\n",
      "30000/30000 [==============================] - 0s 12us/sample - loss: 0.3715\n",
      "Epoch 755/1000\n",
      "30000/30000 [==============================] - 0s 13us/sample - loss: 0.3713\n",
      "Epoch 756/1000\n",
      "30000/30000 [==============================] - 0s 12us/sample - loss: 0.3702\n",
      "Epoch 757/1000\n",
      "30000/30000 [==============================] - 0s 11us/sample - loss: 0.3707\n",
      "Epoch 758/1000\n",
      "30000/30000 [==============================] - 0s 11us/sample - loss: 0.3741\n",
      "Epoch 759/1000\n",
      "30000/30000 [==============================] - 0s 11us/sample - loss: 0.3738\n",
      "Epoch 760/1000\n",
      "30000/30000 [==============================] - 0s 11us/sample - loss: 0.3735\n",
      "Epoch 761/1000\n",
      "30000/30000 [==============================] - 0s 11us/sample - loss: 0.3733\n",
      "Epoch 762/1000\n",
      "30000/30000 [==============================] - 0s 11us/sample - loss: 0.3745\n",
      "Epoch 763/1000\n",
      "30000/30000 [==============================] - 0s 10us/sample - loss: 0.3713\n",
      "Epoch 764/1000\n",
      "30000/30000 [==============================] - 0s 12us/sample - loss: 0.3696\n",
      "Epoch 765/1000\n",
      "30000/30000 [==============================] - 0s 11us/sample - loss: 0.3702\n",
      "Epoch 766/1000\n",
      "30000/30000 [==============================] - 0s 11us/sample - loss: 0.3727\n",
      "Epoch 767/1000\n",
      "30000/30000 [==============================] - 0s 11us/sample - loss: 0.3700\n",
      "Epoch 768/1000\n",
      "30000/30000 [==============================] - 0s 11us/sample - loss: 0.3729\n",
      "Epoch 769/1000\n",
      "30000/30000 [==============================] - 0s 11us/sample - loss: 0.3753\n",
      "Epoch 770/1000\n",
      "30000/30000 [==============================] - 0s 11us/sample - loss: 0.3755\n",
      "Epoch 771/1000\n",
      "30000/30000 [==============================] - 0s 11us/sample - loss: 0.3728\n",
      "Epoch 772/1000\n",
      "30000/30000 [==============================] - 0s 12us/sample - loss: 0.3725\n",
      "Epoch 773/1000\n",
      "30000/30000 [==============================] - 0s 11us/sample - loss: 0.3779\n",
      "Epoch 774/1000\n",
      "30000/30000 [==============================] - 0s 11us/sample - loss: 0.3749\n",
      "Epoch 775/1000\n",
      "30000/30000 [==============================] - 0s 12us/sample - loss: 0.3764\n",
      "Epoch 776/1000\n",
      "30000/30000 [==============================] - 0s 12us/sample - loss: 0.3782\n",
      "Epoch 777/1000\n",
      "30000/30000 [==============================] - 0s 11us/sample - loss: 0.3780\n",
      "Epoch 778/1000\n",
      "30000/30000 [==============================] - 0s 11us/sample - loss: 0.3740\n",
      "Epoch 779/1000\n",
      "30000/30000 [==============================] - 0s 12us/sample - loss: 0.3735\n",
      "Epoch 780/1000\n",
      "30000/30000 [==============================] - 0s 11us/sample - loss: 0.3704\n",
      "Epoch 781/1000\n",
      "30000/30000 [==============================] - 0s 15us/sample - loss: 0.3665\n",
      "Epoch 782/1000\n",
      "30000/30000 [==============================] - 0s 11us/sample - loss: 0.3647\n",
      "Epoch 783/1000\n",
      "30000/30000 [==============================] - 0s 12us/sample - loss: 0.3643\n",
      "Epoch 784/1000\n",
      "30000/30000 [==============================] - 0s 10us/sample - loss: 0.3659\n",
      "Epoch 785/1000\n",
      "30000/30000 [==============================] - 0s 10us/sample - loss: 0.3666\n",
      "Epoch 786/1000\n",
      "30000/30000 [==============================] - 0s 12us/sample - loss: 0.3659\n",
      "Epoch 787/1000\n",
      "30000/30000 [==============================] - 0s 12us/sample - loss: 0.3669\n",
      "Epoch 788/1000\n",
      "30000/30000 [==============================] - 0s 11us/sample - loss: 0.3692\n",
      "Epoch 789/1000\n",
      "30000/30000 [==============================] - 0s 11us/sample - loss: 0.3733\n",
      "Epoch 790/1000\n",
      "30000/30000 [==============================] - 0s 12us/sample - loss: 0.3725\n",
      "Epoch 791/1000\n",
      "30000/30000 [==============================] - 0s 15us/sample - loss: 0.3711\n",
      "Epoch 792/1000\n",
      "30000/30000 [==============================] - 0s 13us/sample - loss: 0.3724\n",
      "Epoch 793/1000\n",
      "30000/30000 [==============================] - 0s 12us/sample - loss: 0.3756\n",
      "Epoch 794/1000\n",
      "30000/30000 [==============================] - 0s 12us/sample - loss: 0.3728\n",
      "Epoch 795/1000\n",
      "30000/30000 [==============================] - 0s 11us/sample - loss: 0.3735\n",
      "Epoch 796/1000\n",
      "30000/30000 [==============================] - 0s 14us/sample - loss: 0.3755\n",
      "Epoch 797/1000\n",
      "30000/30000 [==============================] - 0s 12us/sample - loss: 0.3775\n",
      "Epoch 798/1000\n",
      "30000/30000 [==============================] - 0s 11us/sample - loss: 0.3728\n",
      "Epoch 799/1000\n",
      "30000/30000 [==============================] - 0s 11us/sample - loss: 0.3737\n",
      "Epoch 800/1000\n",
      "30000/30000 [==============================] - 0s 11us/sample - loss: 0.3744\n",
      "Epoch 801/1000\n",
      "30000/30000 [==============================] - 0s 14us/sample - loss: 0.3724\n",
      "Epoch 802/1000\n",
      "30000/30000 [==============================] - 0s 12us/sample - loss: 0.3698\n",
      "Epoch 803/1000\n",
      "30000/30000 [==============================] - 0s 10us/sample - loss: 0.3700\n",
      "Epoch 804/1000\n",
      "30000/30000 [==============================] - 0s 11us/sample - loss: 0.3740\n",
      "Epoch 805/1000\n",
      "30000/30000 [==============================] - 0s 11us/sample - loss: 0.3697\n",
      "Epoch 806/1000\n",
      "30000/30000 [==============================] - 0s 14us/sample - loss: 0.3715\n",
      "Epoch 807/1000\n",
      "30000/30000 [==============================] - 0s 12us/sample - loss: 0.3706\n",
      "Epoch 808/1000\n",
      "30000/30000 [==============================] - 0s 11us/sample - loss: 0.3716\n",
      "Epoch 809/1000\n",
      "30000/30000 [==============================] - 0s 10us/sample - loss: 0.3688\n",
      "Epoch 810/1000\n",
      "30000/30000 [==============================] - 0s 11us/sample - loss: 0.3687\n",
      "Epoch 811/1000\n",
      "30000/30000 [==============================] - 0s 14us/sample - loss: 0.3724\n",
      "Epoch 812/1000\n",
      "30000/30000 [==============================] - 0s 13us/sample - loss: 0.3726\n",
      "Epoch 813/1000\n",
      "30000/30000 [==============================] - 0s 11us/sample - loss: 0.3700\n",
      "Epoch 814/1000\n",
      "30000/30000 [==============================] - 0s 11us/sample - loss: 0.3707\n",
      "Epoch 815/1000\n",
      "30000/30000 [==============================] - 0s 11us/sample - loss: 0.3749\n",
      "Epoch 816/1000\n",
      "30000/30000 [==============================] - 0s 15us/sample - loss: 0.3732\n",
      "Epoch 817/1000\n",
      "30000/30000 [==============================] - 0s 12us/sample - loss: 0.3739\n",
      "Epoch 818/1000\n",
      "30000/30000 [==============================] - 0s 11us/sample - loss: 0.3770\n",
      "Epoch 819/1000\n",
      "30000/30000 [==============================] - 0s 11us/sample - loss: 0.3768\n",
      "Epoch 820/1000\n",
      "30000/30000 [==============================] - 0s 11us/sample - loss: 0.3733\n",
      "Epoch 821/1000\n",
      "30000/30000 [==============================] - 0s 14us/sample - loss: 0.3742\n",
      "Epoch 822/1000\n",
      "30000/30000 [==============================] - 0s 13us/sample - loss: 0.3722\n",
      "Epoch 823/1000\n",
      "30000/30000 [==============================] - 0s 11us/sample - loss: 0.3693\n",
      "Epoch 824/1000\n",
      "30000/30000 [==============================] - 0s 11us/sample - loss: 0.3691\n",
      "Epoch 825/1000\n",
      "30000/30000 [==============================] - 0s 11us/sample - loss: 0.3702\n",
      "Epoch 826/1000\n",
      "30000/30000 [==============================] - 0s 13us/sample - loss: 0.3717\n",
      "Epoch 827/1000\n",
      "30000/30000 [==============================] - 0s 12us/sample - loss: 0.3684\n",
      "Epoch 828/1000\n",
      "30000/30000 [==============================] - 0s 11us/sample - loss: 0.3680\n",
      "Epoch 829/1000\n",
      "30000/30000 [==============================] - 0s 11us/sample - loss: 0.3692\n",
      "Epoch 830/1000\n",
      "30000/30000 [==============================] - 0s 11us/sample - loss: 0.3692\n",
      "Epoch 831/1000\n",
      "30000/30000 [==============================] - 0s 12us/sample - loss: 0.3667\n",
      "Epoch 832/1000\n",
      "30000/30000 [==============================] - 0s 15us/sample - loss: 0.3671\n",
      "Epoch 833/1000\n",
      "30000/30000 [==============================] - 0s 11us/sample - loss: 0.3694\n",
      "Epoch 834/1000\n",
      "30000/30000 [==============================] - 0s 11us/sample - loss: 0.3703\n",
      "Epoch 835/1000\n",
      "30000/30000 [==============================] - 0s 11us/sample - loss: 0.3688\n",
      "Epoch 836/1000\n",
      "30000/30000 [==============================] - 0s 11us/sample - loss: 0.3693\n",
      "Epoch 837/1000\n",
      "30000/30000 [==============================] - 0s 15us/sample - loss: 0.3700\n",
      "Epoch 838/1000\n",
      "30000/30000 [==============================] - 0s 11us/sample - loss: 0.3709\n",
      "Epoch 839/1000\n",
      "30000/30000 [==============================] - 0s 12us/sample - loss: 0.3674\n",
      "Epoch 840/1000\n",
      "30000/30000 [==============================] - 0s 11us/sample - loss: 0.3665\n",
      "Epoch 841/1000\n",
      "30000/30000 [==============================] - 0s 11us/sample - loss: 0.3661\n",
      "Epoch 842/1000\n",
      "30000/30000 [==============================] - 0s 11us/sample - loss: 0.3669\n",
      "Epoch 843/1000\n",
      "30000/30000 [==============================] - 0s 11us/sample - loss: 0.3662\n",
      "Epoch 844/1000\n",
      "30000/30000 [==============================] - 0s 11us/sample - loss: 0.3685\n",
      "Epoch 845/1000\n",
      "30000/30000 [==============================] - 0s 11us/sample - loss: 0.3711\n",
      "Epoch 846/1000\n",
      "30000/30000 [==============================] - 0s 12us/sample - loss: 0.3754\n",
      "Epoch 847/1000\n",
      "30000/30000 [==============================] - 0s 11us/sample - loss: 0.3727\n",
      "Epoch 848/1000\n",
      "30000/30000 [==============================] - 0s 11us/sample - loss: 0.3745\n",
      "Epoch 849/1000\n",
      "30000/30000 [==============================] - 0s 11us/sample - loss: 0.3722\n",
      "Epoch 850/1000\n",
      "30000/30000 [==============================] - 0s 11us/sample - loss: 0.3699\n",
      "Epoch 851/1000\n",
      "30000/30000 [==============================] - 0s 11us/sample - loss: 0.3667\n",
      "Epoch 852/1000\n",
      "30000/30000 [==============================] - 0s 11us/sample - loss: 0.3659\n",
      "Epoch 853/1000\n",
      "30000/30000 [==============================] - 0s 11us/sample - loss: 0.3685\n",
      "Epoch 854/1000\n",
      "30000/30000 [==============================] - 0s 11us/sample - loss: 0.3695\n",
      "Epoch 855/1000\n",
      "30000/30000 [==============================] - 0s 12us/sample - loss: 0.3679\n",
      "Epoch 856/1000\n",
      "30000/30000 [==============================] - 0s 12us/sample - loss: 0.3698\n",
      "Epoch 857/1000\n",
      "30000/30000 [==============================] - 0s 12us/sample - loss: 0.3728\n",
      "Epoch 858/1000\n",
      "30000/30000 [==============================] - 0s 11us/sample - loss: 0.3713\n",
      "Epoch 859/1000\n",
      "30000/30000 [==============================] - 0s 12us/sample - loss: 0.3699\n",
      "Epoch 860/1000\n",
      "30000/30000 [==============================] - 0s 11us/sample - loss: 0.3690\n",
      "Epoch 861/1000\n",
      "30000/30000 [==============================] - 0s 11us/sample - loss: 0.3710\n",
      "Epoch 862/1000\n",
      "30000/30000 [==============================] - 0s 11us/sample - loss: 0.3684\n",
      "Epoch 863/1000\n",
      "30000/30000 [==============================] - 0s 12us/sample - loss: 0.3684\n",
      "Epoch 864/1000\n",
      "30000/30000 [==============================] - 0s 11us/sample - loss: 0.3683\n",
      "Epoch 865/1000\n",
      "30000/30000 [==============================] - 0s 11us/sample - loss: 0.3706\n",
      "Epoch 866/1000\n",
      "30000/30000 [==============================] - 0s 12us/sample - loss: 0.3681\n",
      "Epoch 867/1000\n",
      "30000/30000 [==============================] - 0s 12us/sample - loss: 0.3677\n",
      "Epoch 868/1000\n",
      "30000/30000 [==============================] - 0s 11us/sample - loss: 0.3691\n",
      "Epoch 869/1000\n",
      "30000/30000 [==============================] - 0s 11us/sample - loss: 0.3727\n",
      "Epoch 870/1000\n",
      "30000/30000 [==============================] - 0s 11us/sample - loss: 0.3709\n",
      "Epoch 871/1000\n",
      "30000/30000 [==============================] - 0s 11us/sample - loss: 0.3715\n",
      "Epoch 872/1000\n",
      "30000/30000 [==============================] - 0s 11us/sample - loss: 0.3729\n",
      "Epoch 873/1000\n",
      "30000/30000 [==============================] - 0s 11us/sample - loss: 0.3724\n",
      "Epoch 874/1000\n",
      "30000/30000 [==============================] - 0s 12us/sample - loss: 0.3699\n",
      "Epoch 875/1000\n",
      "30000/30000 [==============================] - 0s 11us/sample - loss: 0.3694\n",
      "Epoch 876/1000\n",
      "30000/30000 [==============================] - 0s 11us/sample - loss: 0.3718\n",
      "Epoch 877/1000\n",
      "30000/30000 [==============================] - 0s 11us/sample - loss: 0.3713\n",
      "Epoch 878/1000\n",
      "30000/30000 [==============================] - 0s 12us/sample - loss: 0.3708\n",
      "Epoch 879/1000\n",
      "30000/30000 [==============================] - 0s 10us/sample - loss: 0.3720\n",
      "Epoch 880/1000\n",
      "30000/30000 [==============================] - 0s 13us/sample - loss: 0.3757\n",
      "Epoch 881/1000\n",
      "30000/30000 [==============================] - 0s 10us/sample - loss: 0.3714\n",
      "Epoch 882/1000\n",
      "30000/30000 [==============================] - 0s 10us/sample - loss: 0.3732\n",
      "Epoch 883/1000\n",
      "30000/30000 [==============================] - 0s 11us/sample - loss: 0.3740\n",
      "Epoch 884/1000\n",
      "30000/30000 [==============================] - 0s 12us/sample - loss: 0.3742\n",
      "Epoch 885/1000\n",
      "30000/30000 [==============================] - 0s 11us/sample - loss: 0.3728\n",
      "Epoch 886/1000\n",
      "30000/30000 [==============================] - 0s 15us/sample - loss: 0.3718\n",
      "Epoch 887/1000\n",
      "30000/30000 [==============================] - 0s 11us/sample - loss: 0.3717\n",
      "Epoch 888/1000\n",
      "30000/30000 [==============================] - 0s 11us/sample - loss: 0.3679\n",
      "Epoch 889/1000\n",
      "30000/30000 [==============================] - 0s 11us/sample - loss: 0.3688\n",
      "Epoch 890/1000\n",
      "30000/30000 [==============================] - 0s 12us/sample - loss: 0.3719\n",
      "Epoch 891/1000\n"
     ]
    },
    {
     "name": "stdout",
     "output_type": "stream",
     "text": [
      "30000/30000 [==============================] - 0s 17us/sample - loss: 0.3716\n",
      "Epoch 892/1000\n",
      "30000/30000 [==============================] - 0s 11us/sample - loss: 0.3703\n",
      "Epoch 893/1000\n",
      "30000/30000 [==============================] - 0s 11us/sample - loss: 0.3704\n",
      "Epoch 894/1000\n",
      "30000/30000 [==============================] - 0s 11us/sample - loss: 0.3732\n",
      "Epoch 895/1000\n",
      "30000/30000 [==============================] - 0s 14us/sample - loss: 0.3703\n",
      "Epoch 896/1000\n",
      "30000/30000 [==============================] - 0s 16us/sample - loss: 0.3713\n",
      "Epoch 897/1000\n",
      "30000/30000 [==============================] - 0s 11us/sample - loss: 0.3717\n",
      "Epoch 898/1000\n",
      "30000/30000 [==============================] - 0s 11us/sample - loss: 0.3681\n",
      "Epoch 899/1000\n",
      "30000/30000 [==============================] - 0s 11us/sample - loss: 0.3667\n",
      "Epoch 900/1000\n",
      "30000/30000 [==============================] - 0s 11us/sample - loss: 0.3666\n",
      "Epoch 901/1000\n",
      "30000/30000 [==============================] - 1s 17us/sample - loss: 0.3675\n",
      "Epoch 902/1000\n",
      "30000/30000 [==============================] - 0s 11us/sample - loss: 0.3658\n",
      "Epoch 903/1000\n",
      "30000/30000 [==============================] - 0s 11us/sample - loss: 0.3667\n",
      "Epoch 904/1000\n",
      "30000/30000 [==============================] - 0s 11us/sample - loss: 0.3694\n",
      "Epoch 905/1000\n",
      "30000/30000 [==============================] - 0s 11us/sample - loss: 0.3667\n",
      "Epoch 906/1000\n",
      "30000/30000 [==============================] - 1s 19us/sample - loss: 0.3660\n",
      "Epoch 907/1000\n",
      "30000/30000 [==============================] - 0s 11us/sample - loss: 0.3654\n",
      "Epoch 908/1000\n",
      "30000/30000 [==============================] - 0s 11us/sample - loss: 0.3658\n",
      "Epoch 909/1000\n",
      "30000/30000 [==============================] - 0s 11us/sample - loss: 0.3639\n",
      "Epoch 910/1000\n",
      "30000/30000 [==============================] - 0s 11us/sample - loss: 0.3653\n",
      "Epoch 911/1000\n",
      "30000/30000 [==============================] - 1s 18us/sample - loss: 0.3675\n",
      "Epoch 912/1000\n",
      "30000/30000 [==============================] - 0s 11us/sample - loss: 0.3691\n",
      "Epoch 913/1000\n",
      "30000/30000 [==============================] - 0s 11us/sample - loss: 0.3679\n",
      "Epoch 914/1000\n",
      "30000/30000 [==============================] - 0s 11us/sample - loss: 0.3713\n",
      "Epoch 915/1000\n",
      "30000/30000 [==============================] - 0s 12us/sample - loss: 0.3733\n",
      "Epoch 916/1000\n",
      "30000/30000 [==============================] - 1s 18us/sample - loss: 0.3719\n",
      "Epoch 917/1000\n",
      "30000/30000 [==============================] - 0s 11us/sample - loss: 0.3715\n",
      "Epoch 918/1000\n",
      "30000/30000 [==============================] - 0s 12us/sample - loss: 0.3718\n",
      "Epoch 919/1000\n",
      "30000/30000 [==============================] - 0s 11us/sample - loss: 0.3708\n",
      "Epoch 920/1000\n",
      "30000/30000 [==============================] - 0s 11us/sample - loss: 0.3691\n",
      "Epoch 921/1000\n",
      "30000/30000 [==============================] - 1s 18us/sample - loss: 0.3674\n",
      "Epoch 922/1000\n",
      "30000/30000 [==============================] - 0s 11us/sample - loss: 0.3678\n",
      "Epoch 923/1000\n",
      "30000/30000 [==============================] - 0s 11us/sample - loss: 0.3652\n",
      "Epoch 924/1000\n",
      "30000/30000 [==============================] - 0s 11us/sample - loss: 0.3645\n",
      "Epoch 925/1000\n",
      "30000/30000 [==============================] - 0s 11us/sample - loss: 0.3647\n",
      "Epoch 926/1000\n",
      "30000/30000 [==============================] - 1s 18us/sample - loss: 0.3637\n",
      "Epoch 927/1000\n",
      "30000/30000 [==============================] - 0s 11us/sample - loss: 0.3650\n",
      "Epoch 928/1000\n",
      "30000/30000 [==============================] - 0s 11us/sample - loss: 0.3669\n",
      "Epoch 929/1000\n",
      "30000/30000 [==============================] - 0s 11us/sample - loss: 0.3691\n",
      "Epoch 930/1000\n",
      "30000/30000 [==============================] - 0s 11us/sample - loss: 0.3687\n",
      "Epoch 931/1000\n",
      "30000/30000 [==============================] - 1s 21us/sample - loss: 0.3690\n",
      "Epoch 932/1000\n",
      "30000/30000 [==============================] - 0s 11us/sample - loss: 0.3701\n",
      "Epoch 933/1000\n",
      "30000/30000 [==============================] - 0s 11us/sample - loss: 0.3674\n",
      "Epoch 934/1000\n",
      "30000/30000 [==============================] - 0s 11us/sample - loss: 0.3675\n",
      "Epoch 935/1000\n",
      "30000/30000 [==============================] - 0s 11us/sample - loss: 0.3703\n",
      "Epoch 936/1000\n",
      "30000/30000 [==============================] - 1s 19us/sample - loss: 0.3666\n",
      "Epoch 937/1000\n",
      "30000/30000 [==============================] - 0s 11us/sample - loss: 0.3692\n",
      "Epoch 938/1000\n",
      "30000/30000 [==============================] - 0s 11us/sample - loss: 0.3713\n",
      "Epoch 939/1000\n",
      "30000/30000 [==============================] - 0s 11us/sample - loss: 0.3695\n",
      "Epoch 940/1000\n",
      "30000/30000 [==============================] - 0s 11us/sample - loss: 0.3672\n",
      "Epoch 941/1000\n",
      "30000/30000 [==============================] - 0s 14us/sample - loss: 0.3675\n",
      "Epoch 942/1000\n",
      "30000/30000 [==============================] - 0s 11us/sample - loss: 0.3685\n",
      "Epoch 943/1000\n",
      "30000/30000 [==============================] - 0s 11us/sample - loss: 0.3658\n",
      "Epoch 944/1000\n",
      "30000/30000 [==============================] - 0s 11us/sample - loss: 0.3673\n",
      "Epoch 945/1000\n",
      "30000/30000 [==============================] - 0s 10us/sample - loss: 0.3694\n",
      "Epoch 946/1000\n",
      "30000/30000 [==============================] - 0s 11us/sample - loss: 0.3702\n",
      "Epoch 947/1000\n",
      "30000/30000 [==============================] - 0s 11us/sample - loss: 0.3697\n",
      "Epoch 948/1000\n",
      "30000/30000 [==============================] - 0s 11us/sample - loss: 0.3697\n",
      "Epoch 949/1000\n",
      "30000/30000 [==============================] - 0s 11us/sample - loss: 0.3705\n",
      "Epoch 950/1000\n",
      "30000/30000 [==============================] - 0s 11us/sample - loss: 0.3693\n",
      "Epoch 951/1000\n",
      "30000/30000 [==============================] - 0s 12us/sample - loss: 0.3695\n",
      "Epoch 952/1000\n",
      "30000/30000 [==============================] - 0s 11us/sample - loss: 0.3719\n",
      "Epoch 953/1000\n",
      "30000/30000 [==============================] - 0s 11us/sample - loss: 0.3695\n",
      "Epoch 954/1000\n",
      "30000/30000 [==============================] - 0s 12us/sample - loss: 0.3711\n",
      "Epoch 955/1000\n",
      "30000/30000 [==============================] - 0s 11us/sample - loss: 0.3720\n",
      "Epoch 956/1000\n",
      "30000/30000 [==============================] - 0s 12us/sample - loss: 0.3691\n",
      "Epoch 957/1000\n",
      "30000/30000 [==============================] - 0s 12us/sample - loss: 0.3705\n",
      "Epoch 958/1000\n",
      "30000/30000 [==============================] - 0s 11us/sample - loss: 0.3711\n",
      "Epoch 959/1000\n",
      "30000/30000 [==============================] - 0s 12us/sample - loss: 0.3704\n",
      "Epoch 960/1000\n",
      "30000/30000 [==============================] - 0s 11us/sample - loss: 0.3691\n",
      "Epoch 961/1000\n",
      "30000/30000 [==============================] - 0s 11us/sample - loss: 0.3689\n",
      "Epoch 962/1000\n",
      "30000/30000 [==============================] - 0s 10us/sample - loss: 0.3715\n",
      "Epoch 963/1000\n",
      "30000/30000 [==============================] - 0s 11us/sample - loss: 0.3698\n",
      "Epoch 964/1000\n",
      "30000/30000 [==============================] - 0s 11us/sample - loss: 0.3699\n",
      "Epoch 965/1000\n",
      "30000/30000 [==============================] - 0s 11us/sample - loss: 0.3697\n",
      "Epoch 966/1000\n",
      "30000/30000 [==============================] - 0s 11us/sample - loss: 0.3676\n",
      "Epoch 967/1000\n",
      "30000/30000 [==============================] - 0s 11us/sample - loss: 0.3659\n",
      "Epoch 968/1000\n",
      "30000/30000 [==============================] - 0s 11us/sample - loss: 0.3656\n",
      "Epoch 969/1000\n",
      "30000/30000 [==============================] - 0s 10us/sample - loss: 0.3684\n",
      "Epoch 970/1000\n",
      "30000/30000 [==============================] - 0s 11us/sample - loss: 0.3685\n",
      "Epoch 971/1000\n",
      "30000/30000 [==============================] - 0s 11us/sample - loss: 0.3682\n",
      "Epoch 972/1000\n",
      "30000/30000 [==============================] - 0s 11us/sample - loss: 0.3684\n",
      "Epoch 973/1000\n",
      "30000/30000 [==============================] - 0s 11us/sample - loss: 0.3692\n",
      "Epoch 974/1000\n",
      "30000/30000 [==============================] - 0s 11us/sample - loss: 0.3655\n",
      "Epoch 975/1000\n",
      "30000/30000 [==============================] - 0s 11us/sample - loss: 0.3663\n",
      "Epoch 976/1000\n",
      "30000/30000 [==============================] - 0s 11us/sample - loss: 0.3695\n",
      "Epoch 977/1000\n",
      "30000/30000 [==============================] - 0s 11us/sample - loss: 0.3679\n",
      "Epoch 978/1000\n",
      "30000/30000 [==============================] - 0s 11us/sample - loss: 0.3683\n",
      "Epoch 979/1000\n",
      "30000/30000 [==============================] - 0s 10us/sample - loss: 0.3663\n",
      "Epoch 980/1000\n",
      "30000/30000 [==============================] - 0s 11us/sample - loss: 0.3681\n",
      "Epoch 981/1000\n",
      "30000/30000 [==============================] - 0s 11us/sample - loss: 0.3662\n",
      "Epoch 982/1000\n",
      "30000/30000 [==============================] - 0s 11us/sample - loss: 0.3663\n",
      "Epoch 983/1000\n",
      "30000/30000 [==============================] - 0s 13us/sample - loss: 0.3682\n",
      "Epoch 984/1000\n",
      "30000/30000 [==============================] - 0s 12us/sample - loss: 0.3708\n",
      "Epoch 985/1000\n",
      "30000/30000 [==============================] - 0s 12us/sample - loss: 0.3676\n",
      "Epoch 986/1000\n",
      "30000/30000 [==============================] - 0s 11us/sample - loss: 0.3701\n",
      "Epoch 987/1000\n",
      "30000/30000 [==============================] - 0s 11us/sample - loss: 0.3736\n",
      "Epoch 988/1000\n",
      "30000/30000 [==============================] - 0s 12us/sample - loss: 0.3718\n",
      "Epoch 989/1000\n",
      "30000/30000 [==============================] - 0s 11us/sample - loss: 0.3716\n",
      "Epoch 990/1000\n",
      "30000/30000 [==============================] - 1s 17us/sample - loss: 0.3719\n",
      "Epoch 991/1000\n",
      "30000/30000 [==============================] - 0s 11us/sample - loss: 0.3739\n",
      "Epoch 992/1000\n",
      "30000/30000 [==============================] - 0s 11us/sample - loss: 0.3711\n",
      "Epoch 993/1000\n",
      "30000/30000 [==============================] - 0s 11us/sample - loss: 0.3718\n",
      "Epoch 994/1000\n",
      "30000/30000 [==============================] - 0s 12us/sample - loss: 0.3728\n",
      "Epoch 995/1000\n",
      "30000/30000 [==============================] - 0s 14us/sample - loss: 0.3698\n",
      "Epoch 996/1000\n",
      "30000/30000 [==============================] - 0s 11us/sample - loss: 0.3682\n",
      "Epoch 997/1000\n",
      "30000/30000 [==============================] - 0s 11us/sample - loss: 0.3666\n",
      "Epoch 998/1000\n",
      "30000/30000 [==============================] - 0s 10us/sample - loss: 0.3649\n",
      "Epoch 999/1000\n",
      "30000/30000 [==============================] - 0s 11us/sample - loss: 0.3628\n",
      "Epoch 1000/1000\n",
      "30000/30000 [==============================] - 1s 17us/sample - loss: 0.3628\n"
     ]
    }
   ],
   "source": [
    "# because shuffle == False, the same batches are used each time...\n",
    "history = encoder.fit(X_train_subset, Y_train_tsne, batch_size=batch_size, shuffle=False, nb_epoch=1000)"
   ]
  },
  {
   "cell_type": "markdown",
   "metadata": {
    "ExecuteTime": {
     "end_time": "2020-07-20T06:32:03.953834Z",
     "start_time": "2020-07-20T06:32:03.910532Z"
    }
   },
   "source": [
    "### get z for training and test"
   ]
  },
  {
   "cell_type": "code",
   "execution_count": 31,
   "metadata": {
    "ExecuteTime": {
     "end_time": "2020-07-20T19:48:45.165534Z",
     "start_time": "2020-07-20T19:48:43.608032Z"
    }
   },
   "outputs": [],
   "source": [
    "z = encoder.predict(X_train)\n",
    "z_test = encoder.predict(X_test)"
   ]
  },
  {
   "cell_type": "markdown",
   "metadata": {},
   "source": [
    "### Test plot"
   ]
  },
  {
   "cell_type": "code",
   "execution_count": 32,
   "metadata": {
    "ExecuteTime": {
     "end_time": "2020-07-20T19:48:46.206644Z",
     "start_time": "2020-07-20T19:48:45.167138Z"
    }
   },
   "outputs": [
    {
     "data": {
      "text/plain": [
       "<matplotlib.collections.PathCollection at 0x7f14b22e04a8>"
      ]
     },
     "execution_count": 32,
     "metadata": {},
     "output_type": "execute_result"
    },
    {
     "data": {
      "image/png": "[encoded data removed]",
      "text/plain": [
       "<Figure size 720x360 with 2 Axes>"
      ]
     },
     "metadata": {
      "needs_background": "light"
     },
     "output_type": "display_data"
    }
   ],
   "source": [
    "fig, axs = plt.subplots(ncols = 2, figsize=(10, 5))\n",
    "axs[0].scatter(z[:, 0], z[:, 1], s=0.1, alpha=0.5, c=Y_train, cmap=plt.cm.tab10)\n",
    "axs[1].scatter(z_test[:, 0], z_test[:, 1], s=1, alpha=0.5, c=Y_test, cmap=plt.cm.tab10)"
   ]
  },
  {
   "cell_type": "markdown",
   "metadata": {},
   "source": [
    "### Save models + projections"
   ]
  },
  {
   "cell_type": "code",
   "execution_count": 33,
   "metadata": {
    "ExecuteTime": {
     "end_time": "2020-07-20T19:48:46.249671Z",
     "start_time": "2020-07-20T19:48:46.208073Z"
    }
   },
   "outputs": [],
   "source": [
    "import os"
   ]
  },
  {
   "cell_type": "code",
   "execution_count": 73,
   "metadata": {
    "ExecuteTime": {
     "end_time": "2020-07-23T18:36:52.392488Z",
     "start_time": "2020-07-23T18:36:52.351972Z"
    }
   },
   "outputs": [
    {
     "data": {
      "text/plain": [
       "PosixPath('/mnt/cube/tsainbur/Projects/github_repos/umap_tf_networks/models/projections/macosko2015/64/parametric-tsne')"
      ]
     },
     "execution_count": 73,
     "metadata": {},
     "output_type": "execute_result"
    }
   ],
   "source": [
    "output_dir = MODEL_DIR/'projections'/ dataset / '64' / 'parametric-tsne'\n",
    "output_dir"
   ]
  },
  {
   "cell_type": "code",
   "execution_count": 74,
   "metadata": {
    "ExecuteTime": {
     "end_time": "2020-07-23T18:36:54.611918Z",
     "start_time": "2020-07-23T18:36:54.198653Z"
    }
   },
   "outputs": [
    {
     "name": "stderr",
     "output_type": "stream",
     "text": [
      "I0723 11:36:54.569936 139730880911168 builder_impl.py:775] Assets written to: /mnt/cube/tsainbur/Projects/github_repos/umap_tf_networks/models/projections/macosko2015/64/parametric-tsne/encoder/assets\n"
     ]
    }
   ],
   "source": [
    "encoder.save(os.path.join(output_dir, \"encoder\"))"
   ]
  },
  {
   "cell_type": "code",
   "execution_count": 75,
   "metadata": {
    "ExecuteTime": {
     "end_time": "2020-07-23T18:36:55.343248Z",
     "start_time": "2020-07-23T18:36:55.299962Z"
    }
   },
   "outputs": [
    {
     "data": {
      "text/plain": [
       "PosixPath('/mnt/cube/tsainbur/Projects/github_repos/umap_tf_networks/models/projections/macosko2015/64/parametric-tsne')"
      ]
     },
     "execution_count": 75,
     "metadata": {},
     "output_type": "execute_result"
    }
   ],
   "source": [
    "output_dir"
   ]
  },
  {
   "cell_type": "code",
   "execution_count": 76,
   "metadata": {
    "ExecuteTime": {
     "end_time": "2020-07-23T18:36:55.559970Z",
     "start_time": "2020-07-23T18:36:55.505144Z"
    }
   },
   "outputs": [],
   "source": [
    "np.save(output_dir / 'z.npy', z)\n",
    "np.save(output_dir / 'z_test.npy', z_test)"
   ]
  },
  {
   "cell_type": "markdown",
   "metadata": {},
   "source": [
    "### compute metrics"
   ]
  },
  {
   "cell_type": "markdown",
   "metadata": {},
   "source": [
    "#### silhouette"
   ]
  },
  {
   "cell_type": "code",
   "execution_count": 37,
   "metadata": {
    "ExecuteTime": {
     "end_time": "2020-07-20T19:48:47.151722Z",
     "start_time": "2020-07-20T19:48:47.105527Z"
    }
   },
   "outputs": [],
   "source": [
    "from tfumap.silhouette import silhouette_score_block"
   ]
  },
  {
   "cell_type": "code",
   "execution_count": 38,
   "metadata": {
    "ExecuteTime": {
     "end_time": "2020-07-20T19:48:54.457032Z",
     "start_time": "2020-07-20T19:48:47.153138Z"
    }
   },
   "outputs": [
    {
     "data": {
      "text/plain": [
       "-0.021431519661098564"
      ]
     },
     "execution_count": 38,
     "metadata": {},
     "output_type": "execute_result"
    }
   ],
   "source": [
    "ss, sil_samp = silhouette_score_block(z, Y_train, n_jobs = -1)\n",
    "ss"
   ]
  },
  {
   "cell_type": "code",
   "execution_count": 39,
   "metadata": {
    "ExecuteTime": {
     "end_time": "2020-07-20T19:48:54.680985Z",
     "start_time": "2020-07-20T19:48:54.458527Z"
    }
   },
   "outputs": [
    {
     "data": {
      "text/plain": [
       "-0.02625966097104412"
      ]
     },
     "execution_count": 39,
     "metadata": {},
     "output_type": "execute_result"
    }
   ],
   "source": [
    "ss_test, sil_samp_test = silhouette_score_block(z_test, Y_test, n_jobs = -1)\n",
    "ss_test"
   ]
  },
  {
   "cell_type": "code",
   "execution_count": 40,
   "metadata": {
    "ExecuteTime": {
     "end_time": "2020-07-20T19:48:55.669707Z",
     "start_time": "2020-07-20T19:48:54.682373Z"
    }
   },
   "outputs": [
    {
     "data": {
      "text/plain": [
       "<matplotlib.collections.PathCollection at 0x7f14b267ac18>"
      ]
     },
     "execution_count": 40,
     "metadata": {},
     "output_type": "execute_result"
    },
    {
     "data": {
      "image/png": "[encoded data removed]",
      "text/plain": [
       "<Figure size 720x360 with 2 Axes>"
      ]
     },
     "metadata": {
      "needs_background": "light"
     },
     "output_type": "display_data"
    }
   ],
   "source": [
    "fig, axs = plt.subplots(ncols = 2, figsize=(10, 5))\n",
    "axs[0].scatter(z[:, 0], z[:, 1], s=0.1, alpha=0.5, c=sil_samp, cmap=plt.cm.viridis)\n",
    "axs[1].scatter(z_test[:, 0], z_test[:, 1], s=1, alpha=0.5, c=sil_samp_test, cmap=plt.cm.viridis)"
   ]
  },
  {
   "cell_type": "markdown",
   "metadata": {},
   "source": [
    "#### KNN"
   ]
  },
  {
   "cell_type": "code",
   "execution_count": 41,
   "metadata": {
    "ExecuteTime": {
     "end_time": "2020-07-20T19:48:55.710899Z",
     "start_time": "2020-07-20T19:48:55.670807Z"
    }
   },
   "outputs": [],
   "source": [
    "from sklearn.neighbors import KNeighborsClassifier"
   ]
  },
  {
   "cell_type": "code",
   "execution_count": 42,
   "metadata": {
    "ExecuteTime": {
     "end_time": "2020-07-20T19:49:05.197795Z",
     "start_time": "2020-07-20T19:48:55.712204Z"
    }
   },
   "outputs": [
    {
     "data": {
      "text/plain": [
       "0.981254184333854"
      ]
     },
     "execution_count": 42,
     "metadata": {},
     "output_type": "execute_result"
    }
   ],
   "source": [
    "neigh5 = KNeighborsClassifier(n_neighbors=5)\n",
    "neigh5.fit(z, Y_train)\n",
    "score_5nn = neigh5.score(z_test, Y_test)\n",
    "score_5nn"
   ]
  },
  {
   "cell_type": "code",
   "execution_count": 43,
   "metadata": {
    "ExecuteTime": {
     "end_time": "2020-07-20T19:49:12.208781Z",
     "start_time": "2020-07-20T19:49:05.199583Z"
    }
   },
   "outputs": [
    {
     "data": {
      "text/plain": [
       "0.9772372238339656"
      ]
     },
     "execution_count": 43,
     "metadata": {},
     "output_type": "execute_result"
    }
   ],
   "source": [
    "neigh1 = KNeighborsClassifier(n_neighbors=1)\n",
    "neigh1.fit(z, Y_train)\n",
    "score_1nn = neigh1.score(z_test, Y_test)\n",
    "score_1nn"
   ]
  },
  {
   "cell_type": "markdown",
   "metadata": {},
   "source": [
    "#### Trustworthiness"
   ]
  },
  {
   "cell_type": "code",
   "execution_count": 44,
   "metadata": {
    "ExecuteTime": {
     "end_time": "2020-07-20T19:49:12.255243Z",
     "start_time": "2020-07-20T19:49:12.210454Z"
    }
   },
   "outputs": [],
   "source": [
    "from sklearn.manifold import trustworthiness"
   ]
  },
  {
   "cell_type": "code",
   "execution_count": 45,
   "metadata": {
    "ExecuteTime": {
     "end_time": "2020-07-20T19:49:28.742532Z",
     "start_time": "2020-07-20T19:49:12.256721Z"
    }
   },
   "outputs": [],
   "source": [
    "tw = trustworthiness(X_train_flat[:10000], z[:10000])"
   ]
  },
  {
   "cell_type": "code",
   "execution_count": 46,
   "metadata": {
    "ExecuteTime": {
     "end_time": "2020-07-20T19:49:32.322369Z",
     "start_time": "2020-07-20T19:49:28.744020Z"
    }
   },
   "outputs": [],
   "source": [
    "tw_test = trustworthiness(X_test_flat[:10000], z_test[:10000])"
   ]
  },
  {
   "cell_type": "code",
   "execution_count": 47,
   "metadata": {
    "ExecuteTime": {
     "end_time": "2020-07-20T19:49:32.372668Z",
     "start_time": "2020-07-20T19:49:32.324444Z"
    }
   },
   "outputs": [
    {
     "data": {
      "text/plain": [
       "(0.9917757285828663, 0.98765861054397)"
      ]
     },
     "execution_count": 47,
     "metadata": {},
     "output_type": "execute_result"
    }
   ],
   "source": [
    "tw, tw_test"
   ]
  },
  {
   "cell_type": "markdown",
   "metadata": {
    "ExecuteTime": {
     "end_time": "2020-07-20T07:01:59.230864Z",
     "start_time": "2020-07-20T07:01:59.186379Z"
    }
   },
   "source": [
    "#### save output metrics"
   ]
  },
  {
   "cell_type": "code",
   "execution_count": 57,
   "metadata": {
    "ExecuteTime": {
     "end_time": "2020-07-20T20:06:18.443988Z",
     "start_time": "2020-07-20T20:06:18.384356Z"
    }
   },
   "outputs": [
    {
     "data": {
      "text/html": [
       "<div>\n",
       "<style scoped>\n",
       "    .dataframe tbody tr th:only-of-type {\n",
       "        vertical-align: middle;\n",
       "    }\n",
       "\n",
       "    .dataframe tbody tr th {\n",
       "        vertical-align: top;\n",
       "    }\n",
       "\n",
       "    .dataframe thead th {\n",
       "        text-align: right;\n",
       "    }\n",
       "</style>\n",
       "<table border=\"1\" class=\"dataframe\">\n",
       "  <thead>\n",
       "    <tr style=\"text-align: right;\">\n",
       "      <th></th>\n",
       "      <th>dataset</th>\n",
       "      <th>class_</th>\n",
       "      <th>dim</th>\n",
       "      <th>trustworthiness</th>\n",
       "      <th>silhouette_score</th>\n",
       "      <th>silhouette_samples</th>\n",
       "    </tr>\n",
       "  </thead>\n",
       "  <tbody>\n",
       "    <tr>\n",
       "      <th>0</th>\n",
       "      <td>macosko2015</td>\n",
       "      <td>parametric-tsne</td>\n",
       "      <td>64</td>\n",
       "      <td>0.991776</td>\n",
       "      <td>-0.021432</td>\n",
       "      <td>[-0.08902739890354991, 0.31910139972405144, 0....</td>\n",
       "    </tr>\n",
       "  </tbody>\n",
       "</table>\n",
       "</div>"
      ],
      "text/plain": [
       "       dataset           class_ dim  trustworthiness  silhouette_score  \\\n",
       "0  macosko2015  parametric-tsne  64         0.991776         -0.021432   \n",
       "\n",
       "                                  silhouette_samples  \n",
       "0  [-0.08902739890354991, 0.31910139972405144, 0....  "
      ]
     },
     "execution_count": 57,
     "metadata": {},
     "output_type": "execute_result"
    }
   ],
   "source": [
    "metrics_df = pd.DataFrame(\n",
    "    columns=[\n",
    "        \"dataset\",\n",
    "        \"class_\",\n",
    "        \"dim\",\n",
    "        \"trustworthiness\",\n",
    "        \"silhouette_score\",\n",
    "        \"silhouette_samples\",\n",
    "    ]\n",
    ")\n",
    "metrics_df.loc[len(metrics_df)] = [dataset, 'parametric-tsne', n_components, tw, ss, sil_samp]\n",
    "metrics_df"
   ]
  },
  {
   "cell_type": "code",
   "execution_count": 58,
   "metadata": {
    "ExecuteTime": {
     "end_time": "2020-07-20T20:06:18.766414Z",
     "start_time": "2020-07-20T20:06:18.703366Z"
    }
   },
   "outputs": [],
   "source": [
    "save_loc = DATA_DIR / 'projection_metrics' / 'train' / str(n_components) / (dataset + '.pickle')\n",
    "ensure_dir(save_loc)\n",
    "metrics_df.to_pickle(save_loc)"
   ]
  },
  {
   "cell_type": "code",
   "execution_count": 59,
   "metadata": {
    "ExecuteTime": {
     "end_time": "2020-07-20T20:06:18.899488Z",
     "start_time": "2020-07-20T20:06:18.845062Z"
    }
   },
   "outputs": [
    {
     "data": {
      "text/html": [
       "<div>\n",
       "<style scoped>\n",
       "    .dataframe tbody tr th:only-of-type {\n",
       "        vertical-align: middle;\n",
       "    }\n",
       "\n",
       "    .dataframe tbody tr th {\n",
       "        vertical-align: top;\n",
       "    }\n",
       "\n",
       "    .dataframe thead th {\n",
       "        text-align: right;\n",
       "    }\n",
       "</style>\n",
       "<table border=\"1\" class=\"dataframe\">\n",
       "  <thead>\n",
       "    <tr style=\"text-align: right;\">\n",
       "      <th></th>\n",
       "      <th>dataset</th>\n",
       "      <th>class_</th>\n",
       "      <th>dim</th>\n",
       "      <th>trustworthiness</th>\n",
       "      <th>silhouette_score</th>\n",
       "      <th>silhouette_samples</th>\n",
       "    </tr>\n",
       "  </thead>\n",
       "  <tbody>\n",
       "    <tr>\n",
       "      <th>1</th>\n",
       "      <td>macosko2015</td>\n",
       "      <td>parametric-tsne</td>\n",
       "      <td>64</td>\n",
       "      <td>0.987659</td>\n",
       "      <td>-0.02626</td>\n",
       "      <td>[-0.015183595472137964, -0.01295052244733406, ...</td>\n",
       "    </tr>\n",
       "  </tbody>\n",
       "</table>\n",
       "</div>"
      ],
      "text/plain": [
       "       dataset           class_ dim  trustworthiness  silhouette_score  \\\n",
       "1  macosko2015  parametric-tsne  64         0.987659          -0.02626   \n",
       "\n",
       "                                  silhouette_samples  \n",
       "1  [-0.015183595472137964, -0.01295052244733406, ...  "
      ]
     },
     "execution_count": 59,
     "metadata": {},
     "output_type": "execute_result"
    }
   ],
   "source": [
    "metrics_df_test = pd.DataFrame(\n",
    "    columns=[\n",
    "        \"dataset\",\n",
    "        \"class_\",\n",
    "        \"dim\",\n",
    "        \"trustworthiness\",\n",
    "        \"silhouette_score\",\n",
    "        \"silhouette_samples\",\n",
    "    ]\n",
    ")\n",
    "metrics_df_test.loc[len(metrics_df)] = [dataset, 'parametric-tsne', n_components, tw_test, ss_test, sil_samp_test]\n",
    "metrics_df_test"
   ]
  },
  {
   "cell_type": "code",
   "execution_count": 60,
   "metadata": {
    "ExecuteTime": {
     "end_time": "2020-07-20T20:06:19.050147Z",
     "start_time": "2020-07-20T20:06:18.986120Z"
    }
   },
   "outputs": [],
   "source": [
    "save_loc = DATA_DIR / 'projection_metrics' / 'test' / str(n_components) / (dataset + '.pickle')\n",
    "ensure_dir(save_loc)\n",
    "metrics_df.to_pickle(save_loc)"
   ]
  },
  {
   "cell_type": "code",
   "execution_count": 61,
   "metadata": {
    "ExecuteTime": {
     "end_time": "2020-07-20T20:06:19.165547Z",
     "start_time": "2020-07-20T20:06:19.123586Z"
    }
   },
   "outputs": [
    {
     "data": {
      "text/plain": [
       "PosixPath('/mnt/cube/tsainbur/Projects/github_repos/umap_tf_networks/data/projection_metrics/test/64/macosko2015.pickle')"
      ]
     },
     "execution_count": 61,
     "metadata": {},
     "output_type": "execute_result"
    }
   ],
   "source": [
    "save_loc"
   ]
  },
  {
   "cell_type": "code",
   "execution_count": 62,
   "metadata": {
    "ExecuteTime": {
     "end_time": "2020-07-20T20:06:19.327991Z",
     "start_time": "2020-07-20T20:06:19.262605Z"
    }
   },
   "outputs": [
    {
     "data": {
      "text/html": [
       "<div>\n",
       "<style scoped>\n",
       "    .dataframe tbody tr th:only-of-type {\n",
       "        vertical-align: middle;\n",
       "    }\n",
       "\n",
       "    .dataframe tbody tr th {\n",
       "        vertical-align: top;\n",
       "    }\n",
       "\n",
       "    .dataframe thead th {\n",
       "        text-align: right;\n",
       "    }\n",
       "</style>\n",
       "<table border=\"1\" class=\"dataframe\">\n",
       "  <thead>\n",
       "    <tr style=\"text-align: right;\">\n",
       "      <th></th>\n",
       "      <th>method_</th>\n",
       "      <th>dimensions</th>\n",
       "      <th>dataset</th>\n",
       "      <th>1NN_acc</th>\n",
       "      <th>5NN_acc</th>\n",
       "    </tr>\n",
       "  </thead>\n",
       "  <tbody>\n",
       "    <tr>\n",
       "      <th>0</th>\n",
       "      <td>parametric-tsne</td>\n",
       "      <td>64</td>\n",
       "      <td>macosko2015</td>\n",
       "      <td>0.977237</td>\n",
       "      <td>0.981254</td>\n",
       "    </tr>\n",
       "  </tbody>\n",
       "</table>\n",
       "</div>"
      ],
      "text/plain": [
       "           method_ dimensions      dataset   1NN_acc   5NN_acc\n",
       "0  parametric-tsne         64  macosko2015  0.977237  0.981254"
      ]
     },
     "execution_count": 62,
     "metadata": {},
     "output_type": "execute_result"
    }
   ],
   "source": [
    "nn_acc_df = pd.DataFrame(columns = [\"method_\",\"dimensions\",\"dataset\",\"1NN_acc\",\"5NN_acc\"])\n",
    "nn_acc_df.loc[len(nn_acc_df)] = ['parametric-tsne', n_components, dataset,  score_1nn, score_5nn]\n",
    "nn_acc_df"
   ]
  },
  {
   "cell_type": "code",
   "execution_count": 63,
   "metadata": {
    "ExecuteTime": {
     "end_time": "2020-07-20T20:06:19.462013Z",
     "start_time": "2020-07-20T20:06:19.398128Z"
    }
   },
   "outputs": [],
   "source": [
    "save_loc = DATA_DIR / 'knn_classifier' / str(n_components) / (dataset + '.pickle')\n",
    "ensure_dir(save_loc)\n",
    "nn_acc_df.to_pickle(save_loc)"
   ]
  },
  {
   "cell_type": "code",
   "execution_count": 64,
   "metadata": {
    "ExecuteTime": {
     "end_time": "2020-07-20T20:06:19.578584Z",
     "start_time": "2020-07-20T20:06:19.539259Z"
    }
   },
   "outputs": [
    {
     "data": {
      "text/plain": [
       "PosixPath('/mnt/cube/tsainbur/Projects/github_repos/umap_tf_networks/data/knn_classifier/64/macosko2015.pickle')"
      ]
     },
     "execution_count": 64,
     "metadata": {},
     "output_type": "execute_result"
    }
   ],
   "source": [
    "save_loc"
   ]
  },
  {
   "cell_type": "code",
   "execution_count": null,
   "metadata": {},
   "outputs": [],
   "source": []
  },
  {
   "cell_type": "code",
   "execution_count": null,
   "metadata": {},
   "outputs": [],
   "source": []
  }
 ],
 "metadata": {
  "kernelspec": {
   "display_name": "Python 3",
   "language": "python",
   "name": "python3"
  },
  "language_info": {
   "codemirror_mode": {
    "name": "ipython",
    "version": 3
   },
   "file_extension": ".py",
   "mimetype": "text/x-python",
   "name": "python",
   "nbconvert_exporter": "python",
   "pygments_lexer": "ipython3",
   "version": "3.6.7"
  }
 },
 "nbformat": 4,
 "nbformat_minor": 2
}
