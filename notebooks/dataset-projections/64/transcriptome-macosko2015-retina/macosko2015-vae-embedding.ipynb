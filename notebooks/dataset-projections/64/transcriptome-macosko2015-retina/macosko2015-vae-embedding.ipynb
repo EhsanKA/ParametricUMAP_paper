{
 "cells": [
  {
   "cell_type": "code",
   "execution_count": 1,
   "metadata": {
    "ExecuteTime": {
     "end_time": "2020-08-22T05:34:35.162090Z",
     "start_time": "2020-08-22T05:34:35.137725Z"
    }
   },
   "outputs": [],
   "source": [
    "# reload packages\n",
    "%load_ext autoreload\n",
    "%autoreload 2"
   ]
  },
  {
   "cell_type": "markdown",
   "metadata": {},
   "source": [
    "### Choose GPU (this may not be needed on your computer)"
   ]
  },
  {
   "cell_type": "code",
   "execution_count": 2,
   "metadata": {
    "ExecuteTime": {
     "end_time": "2020-08-22T05:34:35.176701Z",
     "start_time": "2020-08-22T05:34:35.163924Z"
    }
   },
   "outputs": [
    {
     "name": "stdout",
     "output_type": "stream",
     "text": [
      "env: CUDA_DEVICE_ORDER=PCI_BUS_ID\n",
      "env: CUDA_VISIBLE_DEVICES=1\n"
     ]
    }
   ],
   "source": [
    "%env CUDA_DEVICE_ORDER=PCI_BUS_ID\n",
    "%env CUDA_VISIBLE_DEVICES=1"
   ]
  },
  {
   "cell_type": "code",
   "execution_count": 3,
   "metadata": {
    "ExecuteTime": {
     "end_time": "2020-08-22T05:34:40.275539Z",
     "start_time": "2020-08-22T05:34:35.177952Z"
    }
   },
   "outputs": [
    {
     "name": "stdout",
     "output_type": "stream",
     "text": [
      "[PhysicalDevice(name='/physical_device:GPU:0', device_type='GPU')]\n"
     ]
    }
   ],
   "source": [
    "import tensorflow as tf\n",
    "gpu_devices = tf.config.experimental.list_physical_devices('GPU')\n",
    "if len(gpu_devices)>0:\n",
    "    tf.config.experimental.set_memory_growth(gpu_devices[0], True)\n",
    "print(gpu_devices)\n",
    "tf.keras.backend.clear_session()"
   ]
  },
  {
   "cell_type": "markdown",
   "metadata": {},
   "source": [
    "### load packages"
   ]
  },
  {
   "cell_type": "code",
   "execution_count": 4,
   "metadata": {
    "ExecuteTime": {
     "end_time": "2020-08-22T05:34:46.229669Z",
     "start_time": "2020-08-22T05:34:40.276815Z"
    }
   },
   "outputs": [
    {
     "name": "stderr",
     "output_type": "stream",
     "text": [
      "/mnt/cube/tsainbur/conda_envs/tpy3/lib/python3.6/site-packages/tqdm/autonotebook/__init__.py:14: TqdmExperimentalWarning: Using `tqdm.autonotebook.tqdm` in notebook mode. Use `tqdm.tqdm` instead to force console mode (e.g. in jupyter console)\n",
      "  \" (e.g. in jupyter console)\", TqdmExperimentalWarning)\n"
     ]
    }
   ],
   "source": [
    "from tfumap.umap import tfUMAP"
   ]
  },
  {
   "cell_type": "code",
   "execution_count": 5,
   "metadata": {
    "ExecuteTime": {
     "end_time": "2020-08-22T05:34:46.459264Z",
     "start_time": "2020-08-22T05:34:46.230787Z"
    }
   },
   "outputs": [],
   "source": [
    "import tensorflow as tf\n",
    "import numpy as np\n",
    "import matplotlib.pyplot as plt\n",
    "from tqdm.autonotebook import tqdm\n",
    "import umap\n",
    "import pandas as pd"
   ]
  },
  {
   "cell_type": "markdown",
   "metadata": {},
   "source": [
    "### Load dataset"
   ]
  },
  {
   "cell_type": "code",
   "execution_count": 6,
   "metadata": {
    "ExecuteTime": {
     "end_time": "2020-08-22T05:34:46.547715Z",
     "start_time": "2020-08-22T05:34:46.461078Z"
    }
   },
   "outputs": [],
   "source": [
    "dataset = 'macosko2015'\n",
    "dims = (50)\n",
    "n_components = 2"
   ]
  },
  {
   "cell_type": "code",
   "execution_count": 7,
   "metadata": {
    "ExecuteTime": {
     "end_time": "2020-08-22T05:34:46.587963Z",
     "start_time": "2020-08-22T05:34:46.548823Z"
    }
   },
   "outputs": [],
   "source": [
    "from tfumap.paths import ensure_dir, MODEL_DIR, DATA_DIR"
   ]
  },
  {
   "cell_type": "code",
   "execution_count": 8,
   "metadata": {
    "ExecuteTime": {
     "end_time": "2020-08-22T05:34:46.899219Z",
     "start_time": "2020-08-22T05:34:46.590036Z"
    }
   },
   "outputs": [
    {
     "name": "stdout",
     "output_type": "stream",
     "text": [
      "Data set contains 44808 samples with 50 features\n"
     ]
    }
   ],
   "source": [
    "import gzip\n",
    "import pickle\n",
    "\n",
    "with gzip.open(DATA_DIR / 'macosko_2015.pkl.gz', \"rb\") as f:\n",
    "    data = pickle.load(f)\n",
    "\n",
    "x = data[\"pca_50\"]\n",
    "y = data[\"CellType1\"].astype(str)\n",
    "\n",
    "def zero_one_norm(x):\n",
    "    return (x- np.min(x, axis=0))/ (np.max(x, axis=0)-np.min(x, axis=0))\n",
    "\n",
    "x_norm = zero_one_norm(x)\n",
    "\n",
    "print(\"Data set contains %d samples with %d features\" % x.shape)\n",
    "\n",
    "from sklearn.model_selection import train_test_split\n",
    "\n",
    "X_train, X_test, Y_train, Y_test = train_test_split(x_norm, y, test_size=.1, random_state=42)\n",
    "\n",
    "n_valid = 10000\n",
    "X_valid = X_train[-n_valid:]\n",
    "Y_valid = Y_train[-n_valid:]\n",
    "X_train = X_train[:-n_valid]\n",
    "Y_train = Y_train[:-n_valid]\n",
    "\n",
    "X_train_flat = X_train\n",
    "X_test_flat = X_test\n",
    "\n",
    "from sklearn.preprocessing import OrdinalEncoder\n",
    "enc = OrdinalEncoder()\n",
    "\n",
    "Y_train = enc.fit_transform([[i] for i in Y_train]).flatten()\n",
    "Y_test = enc.fit_transform([[i] for i in Y_test]).flatten()"
   ]
  },
  {
   "cell_type": "markdown",
   "metadata": {},
   "source": [
    "### define networks"
   ]
  },
  {
   "cell_type": "code",
   "execution_count": 9,
   "metadata": {
    "ExecuteTime": {
     "end_time": "2020-08-22T05:34:46.942305Z",
     "start_time": "2020-08-22T05:34:46.900811Z"
    }
   },
   "outputs": [],
   "source": [
    "from tfumap.vae import VAE, Sampling"
   ]
  },
  {
   "cell_type": "code",
   "execution_count": 10,
   "metadata": {
    "ExecuteTime": {
     "end_time": "2020-08-22T05:34:47.876922Z",
     "start_time": "2020-08-22T05:34:46.943706Z"
    }
   },
   "outputs": [
    {
     "name": "stdout",
     "output_type": "stream",
     "text": [
      "Model: \"encoder\"\n",
      "__________________________________________________________________________________________________\n",
      "Layer (type)                    Output Shape         Param #     Connected to                     \n",
      "==================================================================================================\n",
      "input_1 (InputLayer)            [(None, 50)]         0                                            \n",
      "__________________________________________________________________________________________________\n",
      "flatten (Flatten)               (None, 50)           0           input_1[0][0]                    \n",
      "__________________________________________________________________________________________________\n",
      "dense (Dense)                   (None, 100)          5100        flatten[0][0]                    \n",
      "__________________________________________________________________________________________________\n",
      "dense_1 (Dense)                 (None, 100)          10100       dense[0][0]                      \n",
      "__________________________________________________________________________________________________\n",
      "dense_2 (Dense)                 (None, 100)          10100       dense_1[0][0]                    \n",
      "__________________________________________________________________________________________________\n",
      "z_mean (Dense)                  (None, 2)            202         dense_2[0][0]                    \n",
      "__________________________________________________________________________________________________\n",
      "z_log_var (Dense)               (None, 2)            202         dense_2[0][0]                    \n",
      "__________________________________________________________________________________________________\n",
      "sampling (Sampling)             (None, 2)            0           z_mean[0][0]                     \n",
      "                                                                 z_log_var[0][0]                  \n",
      "==================================================================================================\n",
      "Total params: 25,704\n",
      "Trainable params: 25,704\n",
      "Non-trainable params: 0\n",
      "__________________________________________________________________________________________________\n"
     ]
    }
   ],
   "source": [
    "encoder_inputs = tf.keras.Input(shape=dims)\n",
    "x = tf.keras.layers.Flatten()(encoder_inputs)\n",
    "x = tf.keras.layers.Dense(units=100, activation=\"relu\")(x)\n",
    "x = tf.keras.layers.Dense(units=100, activation=\"relu\")(x)\n",
    "x = tf.keras.layers.Dense(units=100, activation=\"relu\")(x)\n",
    "z_mean = tf.keras.layers.Dense(n_components, name=\"z_mean\")(x)\n",
    "z_log_var = tf.keras.layers.Dense(n_components, name=\"z_log_var\")(x)\n",
    "z = Sampling()([z_mean, z_log_var])\n",
    "encoder = tf.keras.Model(encoder_inputs, [z_mean, z_log_var, z], name=\"encoder\")\n",
    "encoder.summary()"
   ]
  },
  {
   "cell_type": "code",
   "execution_count": 11,
   "metadata": {
    "ExecuteTime": {
     "end_time": "2020-08-22T05:34:47.954247Z",
     "start_time": "2020-08-22T05:34:47.878605Z"
    }
   },
   "outputs": [
    {
     "name": "stdout",
     "output_type": "stream",
     "text": [
      "Model: \"decoder\"\n",
      "_________________________________________________________________\n",
      "Layer (type)                 Output Shape              Param #   \n",
      "=================================================================\n",
      "input_2 (InputLayer)         [(None, 2)]               0         \n",
      "_________________________________________________________________\n",
      "dense_3 (Dense)              (None, 100)               300       \n",
      "_________________________________________________________________\n",
      "dense_4 (Dense)              (None, 100)               10100     \n",
      "_________________________________________________________________\n",
      "dense_5 (Dense)              (None, 100)               10100     \n",
      "_________________________________________________________________\n",
      "dense_6 (Dense)              (None, 50)                5050      \n",
      "=================================================================\n",
      "Total params: 25,550\n",
      "Trainable params: 25,550\n",
      "Non-trainable params: 0\n",
      "_________________________________________________________________\n"
     ]
    }
   ],
   "source": [
    "latent_inputs = tf.keras.Input(shape=(n_components,))\n",
    "x = tf.keras.layers.Dense(units=100, activation=\"relu\")(latent_inputs)\n",
    "x = tf.keras.layers.Dense(units=100, activation=\"relu\")(x)\n",
    "x = tf.keras.layers.Dense(units=100, activation=\"relu\")(x)\n",
    "decoder_outputs = tf.keras.layers.Dense(units=50, activation=\"sigmoid\")(x)\n",
    "\n",
    "decoder = tf.keras.Model(latent_inputs, decoder_outputs, name=\"decoder\")\n",
    "decoder.summary()\n"
   ]
  },
  {
   "cell_type": "markdown",
   "metadata": {},
   "source": [
    "### Create model and train"
   ]
  },
  {
   "cell_type": "code",
   "execution_count": 12,
   "metadata": {
    "ExecuteTime": {
     "end_time": "2020-08-22T05:34:48.004177Z",
     "start_time": "2020-08-22T05:34:47.955659Z"
    }
   },
   "outputs": [
    {
     "data": {
      "text/plain": [
       "(30327, 50)"
      ]
     },
     "execution_count": 12,
     "metadata": {},
     "output_type": "execute_result"
    }
   ],
   "source": [
    "X_train.shape"
   ]
  },
  {
   "cell_type": "code",
   "execution_count": 13,
   "metadata": {
    "ExecuteTime": {
     "end_time": "2020-08-22T05:34:48.066876Z",
     "start_time": "2020-08-22T05:34:48.007732Z"
    }
   },
   "outputs": [],
   "source": [
    "vae = VAE(encoder, decoder)\n",
    "vae.compile(optimizer=tf.keras.optimizers.Adam())"
   ]
  },
  {
   "cell_type": "code",
   "execution_count": 14,
   "metadata": {
    "ExecuteTime": {
     "end_time": "2020-08-22T05:35:09.562403Z",
     "start_time": "2020-08-22T05:34:48.070384Z"
    }
   },
   "outputs": [
    {
     "name": "stdout",
     "output_type": "stream",
     "text": [
      "Epoch 1/30\n",
      "237/237 [==============================] - 1s 2ms/step - loss: 485.0019 - reconstruction_loss: 483.8811 - kl_loss: 1.1208\n",
      "Epoch 2/30\n",
      "237/237 [==============================] - 1s 3ms/step - loss: 480.1335 - reconstruction_loss: 479.7202 - kl_loss: 0.4133\n",
      "Epoch 3/30\n",
      "237/237 [==============================] - 1s 2ms/step - loss: 479.7021 - reconstruction_loss: 479.3552 - kl_loss: 0.3469\n",
      "Epoch 4/30\n",
      "237/237 [==============================] - 1s 3ms/step - loss: 479.6627 - reconstruction_loss: 479.3113 - kl_loss: 0.3514\n",
      "Epoch 5/30\n",
      "237/237 [==============================] - 1s 3ms/step - loss: 479.6555 - reconstruction_loss: 479.3002 - kl_loss: 0.3553\n",
      "Epoch 6/30\n",
      "237/237 [==============================] - 1s 3ms/step - loss: 479.6456 - reconstruction_loss: 479.2866 - kl_loss: 0.3590\n",
      "Epoch 7/30\n",
      "237/237 [==============================] - 1s 3ms/step - loss: 479.6402 - reconstruction_loss: 479.2774 - kl_loss: 0.3627\n",
      "Epoch 8/30\n",
      "237/237 [==============================] - 1s 3ms/step - loss: 479.6342 - reconstruction_loss: 479.2727 - kl_loss: 0.3615\n",
      "Epoch 9/30\n",
      "237/237 [==============================] - 1s 3ms/step - loss: 479.6269 - reconstruction_loss: 479.2608 - kl_loss: 0.3661\n",
      "Epoch 10/30\n",
      "237/237 [==============================] - 1s 3ms/step - loss: 479.6245 - reconstruction_loss: 479.2554 - kl_loss: 0.3691\n",
      "Epoch 11/30\n",
      "237/237 [==============================] - 1s 3ms/step - loss: 479.6211 - reconstruction_loss: 479.2509 - kl_loss: 0.3702\n",
      "Epoch 12/30\n",
      "237/237 [==============================] - 1s 3ms/step - loss: 479.6145 - reconstruction_loss: 479.2444 - kl_loss: 0.3702\n",
      "Epoch 13/30\n",
      "237/237 [==============================] - 1s 3ms/step - loss: 479.6129 - reconstruction_loss: 479.2394 - kl_loss: 0.3735\n",
      "Epoch 14/30\n",
      "237/237 [==============================] - 1s 3ms/step - loss: 479.6128 - reconstruction_loss: 479.2370 - kl_loss: 0.3758\n",
      "Epoch 15/30\n",
      "237/237 [==============================] - 1s 3ms/step - loss: 479.6057 - reconstruction_loss: 479.2293 - kl_loss: 0.3763\n",
      "Epoch 16/30\n",
      "237/237 [==============================] - 1s 4ms/step - loss: 479.6061 - reconstruction_loss: 479.2238 - kl_loss: 0.3823\n",
      "Epoch 17/30\n",
      "237/237 [==============================] - 1s 3ms/step - loss: 479.5996 - reconstruction_loss: 479.2108 - kl_loss: 0.3888\n",
      "Epoch 18/30\n",
      "237/237 [==============================] - 1s 4ms/step - loss: 479.5890 - reconstruction_loss: 479.1910 - kl_loss: 0.3981\n",
      "Epoch 19/30\n",
      "237/237 [==============================] - 1s 3ms/step - loss: 479.5734 - reconstruction_loss: 479.1624 - kl_loss: 0.4109\n",
      "Epoch 20/30\n",
      "237/237 [==============================] - 1s 3ms/step - loss: 479.5696 - reconstruction_loss: 479.1369 - kl_loss: 0.4327\n",
      "Epoch 21/30\n",
      "237/237 [==============================] - 1s 3ms/step - loss: 479.5517 - reconstruction_loss: 479.1058 - kl_loss: 0.4459\n",
      "Epoch 22/30\n",
      "237/237 [==============================] - 1s 3ms/step - loss: 479.5487 - reconstruction_loss: 479.0919 - kl_loss: 0.4568\n",
      "Epoch 23/30\n",
      "237/237 [==============================] - 1s 3ms/step - loss: 479.5242 - reconstruction_loss: 479.0606 - kl_loss: 0.4635\n",
      "Epoch 24/30\n",
      "237/237 [==============================] - 1s 3ms/step - loss: 479.5138 - reconstruction_loss: 479.0403 - kl_loss: 0.4736\n",
      "Epoch 25/30\n",
      "237/237 [==============================] - 1s 3ms/step - loss: 479.5132 - reconstruction_loss: 479.0339 - kl_loss: 0.4793\n",
      "Epoch 26/30\n",
      "237/237 [==============================] - 1s 3ms/step - loss: 479.4950 - reconstruction_loss: 479.0053 - kl_loss: 0.4897\n",
      "Epoch 27/30\n",
      "237/237 [==============================] - 1s 3ms/step - loss: 479.4907 - reconstruction_loss: 478.9888 - kl_loss: 0.5020\n",
      "Epoch 28/30\n",
      "237/237 [==============================] - 1s 3ms/step - loss: 479.4640 - reconstruction_loss: 478.9564 - kl_loss: 0.5076\n",
      "Epoch 29/30\n",
      "237/237 [==============================] - 1s 3ms/step - loss: 479.4651 - reconstruction_loss: 478.9476 - kl_loss: 0.5174\n",
      "Epoch 30/30\n",
      "237/237 [==============================] - 1s 3ms/step - loss: 479.4622 - reconstruction_loss: 478.9432 - kl_loss: 0.5190\n"
     ]
    },
    {
     "data": {
      "text/plain": [
       "<tensorflow.python.keras.callbacks.History at 0x7fce29149630>"
      ]
     },
     "execution_count": 14,
     "metadata": {},
     "output_type": "execute_result"
    }
   ],
   "source": [
    "vae.fit(X_train, epochs=30, batch_size=128)"
   ]
  },
  {
   "cell_type": "code",
   "execution_count": 15,
   "metadata": {
    "ExecuteTime": {
     "end_time": "2020-08-22T05:35:09.609865Z",
     "start_time": "2020-08-22T05:35:09.564038Z"
    },
    "scrolled": false
   },
   "outputs": [],
   "source": [
    "# z = embedder.fit_transform(X_train_flat)"
   ]
  },
  {
   "cell_type": "code",
   "execution_count": 16,
   "metadata": {
    "ExecuteTime": {
     "end_time": "2020-08-22T05:35:10.600582Z",
     "start_time": "2020-08-22T05:35:09.611300Z"
    }
   },
   "outputs": [],
   "source": [
    "z = vae.encoder.predict(X_train)[0]"
   ]
  },
  {
   "cell_type": "markdown",
   "metadata": {},
   "source": [
    "### Plot model output"
   ]
  },
  {
   "cell_type": "code",
   "execution_count": 17,
   "metadata": {
    "ExecuteTime": {
     "end_time": "2020-08-22T05:35:10.644760Z",
     "start_time": "2020-08-22T05:35:10.602351Z"
    }
   },
   "outputs": [
    {
     "data": {
      "text/plain": [
       "array([10.,  7.,  0., ..., 10.,  2., 10.])"
      ]
     },
     "execution_count": 17,
     "metadata": {},
     "output_type": "execute_result"
    }
   ],
   "source": [
    "Y_train"
   ]
  },
  {
   "cell_type": "code",
   "execution_count": 18,
   "metadata": {
    "ExecuteTime": {
     "end_time": "2020-08-22T05:35:11.827150Z",
     "start_time": "2020-08-22T05:35:10.646090Z"
    }
   },
   "outputs": [
    {
     "data": {
      "image/png": "[encoded data removed]",
      "text/plain": [
       "<Figure size 576x576 with 2 Axes>"
      ]
     },
     "metadata": {
      "needs_background": "light"
     },
     "output_type": "display_data"
    }
   ],
   "source": [
    "fig, ax = plt.subplots( figsize=(8, 8))\n",
    "sc = ax.scatter(\n",
    "    z[:, 0],\n",
    "    z[:, 1],\n",
    "    c=Y_train.astype(int)[:len(z)].flatten(),\n",
    "    cmap=\"tab10\",\n",
    "    s=0.1,\n",
    "    alpha=0.5,\n",
    "    rasterized=True,\n",
    ")\n",
    "ax.axis('equal')\n",
    "ax.set_title(\"UMAP in Tensorflow embedding\", fontsize=20)\n",
    "plt.colorbar(sc, ax=ax);"
   ]
  },
  {
   "cell_type": "markdown",
   "metadata": {},
   "source": [
    "### View loss"
   ]
  },
  {
   "cell_type": "code",
   "execution_count": 19,
   "metadata": {
    "ExecuteTime": {
     "end_time": "2020-08-22T05:35:11.952598Z",
     "start_time": "2020-08-22T05:35:11.828628Z"
    }
   },
   "outputs": [],
   "source": [
    "from tfumap.umap import retrieve_tensors\n",
    "import seaborn as sns"
   ]
  },
  {
   "cell_type": "markdown",
   "metadata": {},
   "source": [
    "### Save output"
   ]
  },
  {
   "cell_type": "code",
   "execution_count": 65,
   "metadata": {
    "ExecuteTime": {
     "end_time": "2020-08-22T06:09:30.183468Z",
     "start_time": "2020-08-22T06:09:30.116561Z"
    }
   },
   "outputs": [],
   "source": [
    "from tfumap.paths import ensure_dir, MODEL_DIR"
   ]
  },
  {
   "cell_type": "code",
   "execution_count": 66,
   "metadata": {
    "ExecuteTime": {
     "end_time": "2020-08-22T06:09:30.254285Z",
     "start_time": "2020-08-22T06:09:30.186181Z"
    }
   },
   "outputs": [],
   "source": [
    "output_dir = MODEL_DIR/'projections'/ dataset / 'vae'\n",
    "ensure_dir(output_dir)"
   ]
  },
  {
   "cell_type": "code",
   "execution_count": 67,
   "metadata": {
    "ExecuteTime": {
     "end_time": "2020-08-22T06:09:30.331707Z",
     "start_time": "2020-08-22T06:09:30.256635Z"
    }
   },
   "outputs": [],
   "source": [
    "#vae.save(output_dir)"
   ]
  },
  {
   "cell_type": "code",
   "execution_count": 68,
   "metadata": {
    "ExecuteTime": {
     "end_time": "2020-08-22T06:09:31.489544Z",
     "start_time": "2020-08-22T06:09:30.334401Z"
    }
   },
   "outputs": [
    {
     "name": "stderr",
     "output_type": "stream",
     "text": [
      "I0821 23:09:31.449522 140528170284864 builder_impl.py:775] Assets written to: /mnt/cube/tsainbur/Projects/github_repos/umap_tf_networks/models/projections/macosko2015/vae/encoder/assets\n"
     ]
    }
   ],
   "source": [
    "vae.encoder.save(output_dir / 'encoder')"
   ]
  },
  {
   "cell_type": "code",
   "execution_count": 69,
   "metadata": {
    "ExecuteTime": {
     "end_time": "2020-08-22T06:09:32.058999Z",
     "start_time": "2020-08-22T06:09:31.494015Z"
    }
   },
   "outputs": [
    {
     "name": "stderr",
     "output_type": "stream",
     "text": [
      "I0821 23:09:32.028082 140528170284864 builder_impl.py:775] Assets written to: /mnt/cube/tsainbur/Projects/github_repos/umap_tf_networks/models/projections/macosko2015/vae/encoder/assets\n"
     ]
    }
   ],
   "source": [
    "vae.decoder.save(output_dir / 'encoder')"
   ]
  },
  {
   "cell_type": "code",
   "execution_count": 70,
   "metadata": {
    "ExecuteTime": {
     "end_time": "2020-08-22T06:09:32.132912Z",
     "start_time": "2020-08-22T06:09:32.062105Z"
    }
   },
   "outputs": [],
   "source": [
    "#loss_df.to_pickle(output_dir / 'loss_df.pickle')"
   ]
  },
  {
   "cell_type": "code",
   "execution_count": 71,
   "metadata": {
    "ExecuteTime": {
     "end_time": "2020-08-22T06:09:32.233450Z",
     "start_time": "2020-08-22T06:09:32.135145Z"
    }
   },
   "outputs": [],
   "source": [
    "np.save(output_dir / 'z.npy', z)"
   ]
  },
  {
   "cell_type": "markdown",
   "metadata": {},
   "source": [
    "### compute metrics "
   ]
  },
  {
   "cell_type": "code",
   "execution_count": 27,
   "metadata": {
    "ExecuteTime": {
     "end_time": "2020-08-22T05:35:13.699346Z",
     "start_time": "2020-08-22T05:35:13.619543Z"
    }
   },
   "outputs": [
    {
     "data": {
      "text/plain": [
       "(4481, 50)"
      ]
     },
     "execution_count": 27,
     "metadata": {},
     "output_type": "execute_result"
    }
   ],
   "source": [
    "X_test.shape"
   ]
  },
  {
   "cell_type": "code",
   "execution_count": 32,
   "metadata": {
    "ExecuteTime": {
     "end_time": "2020-08-22T05:44:06.534307Z",
     "start_time": "2020-08-22T05:44:06.229923Z"
    }
   },
   "outputs": [],
   "source": [
    "z_test = encoder.predict(X_test.reshape((len(X_test), 50)))[0]"
   ]
  },
  {
   "cell_type": "markdown",
   "metadata": {},
   "source": [
    "#### silhouette"
   ]
  },
  {
   "cell_type": "code",
   "execution_count": 33,
   "metadata": {
    "ExecuteTime": {
     "end_time": "2020-08-22T05:44:07.083908Z",
     "start_time": "2020-08-22T05:44:07.016697Z"
    }
   },
   "outputs": [],
   "source": [
    "from tfumap.silhouette import silhouette_score_block"
   ]
  },
  {
   "cell_type": "code",
   "execution_count": 34,
   "metadata": {
    "ExecuteTime": {
     "end_time": "2020-08-22T05:44:23.994537Z",
     "start_time": "2020-08-22T05:44:07.149800Z"
    }
   },
   "outputs": [
    {
     "data": {
      "text/plain": [
       "0.44485978376407487"
      ]
     },
     "execution_count": 34,
     "metadata": {},
     "output_type": "execute_result"
    }
   ],
   "source": [
    "ss, sil_samp = silhouette_score_block(z, Y_train, n_jobs = -1)\n",
    "ss"
   ]
  },
  {
   "cell_type": "code",
   "execution_count": 35,
   "metadata": {
    "ExecuteTime": {
     "end_time": "2020-08-22T05:44:24.464787Z",
     "start_time": "2020-08-22T05:44:23.998917Z"
    }
   },
   "outputs": [
    {
     "data": {
      "text/plain": [
       "0.43656714029269994"
      ]
     },
     "execution_count": 35,
     "metadata": {},
     "output_type": "execute_result"
    }
   ],
   "source": [
    "ss_test, sil_samp_test = silhouette_score_block(z_test, Y_test, n_jobs = -1)\n",
    "ss_test"
   ]
  },
  {
   "cell_type": "code",
   "execution_count": 36,
   "metadata": {
    "ExecuteTime": {
     "end_time": "2020-08-22T05:44:27.057214Z",
     "start_time": "2020-08-22T05:44:24.466504Z"
    }
   },
   "outputs": [
    {
     "data": {
      "text/plain": [
       "<matplotlib.collections.PathCollection at 0x7fce297f5358>"
      ]
     },
     "execution_count": 36,
     "metadata": {},
     "output_type": "execute_result"
    },
    {
     "data": {
      "image/png": "[encoded data removed]",
      "text/plain": [
       "<Figure size 720x360 with 2 Axes>"
      ]
     },
     "metadata": {
      "needs_background": "light"
     },
     "output_type": "display_data"
    }
   ],
   "source": [
    "fig, axs = plt.subplots(ncols = 2, figsize=(10, 5))\n",
    "axs[0].scatter(z[:, 0], z[:, 1], s=0.1, alpha=0.5, c=sil_samp, cmap=plt.cm.viridis)\n",
    "axs[1].scatter(z_test[:, 0], z_test[:, 1], s=1, alpha=0.5, c=sil_samp_test, cmap=plt.cm.viridis)"
   ]
  },
  {
   "cell_type": "markdown",
   "metadata": {},
   "source": [
    "#### KNN"
   ]
  },
  {
   "cell_type": "code",
   "execution_count": 37,
   "metadata": {
    "ExecuteTime": {
     "end_time": "2020-08-22T05:44:46.890916Z",
     "start_time": "2020-08-22T05:44:46.712205Z"
    }
   },
   "outputs": [],
   "source": [
    "from sklearn.neighbors import KNeighborsClassifier"
   ]
  },
  {
   "cell_type": "code",
   "execution_count": 38,
   "metadata": {
    "ExecuteTime": {
     "end_time": "2020-08-22T05:44:47.106336Z",
     "start_time": "2020-08-22T05:44:46.893431Z"
    }
   },
   "outputs": [
    {
     "data": {
      "text/plain": [
       "0.8794911850033474"
      ]
     },
     "execution_count": 38,
     "metadata": {},
     "output_type": "execute_result"
    }
   ],
   "source": [
    "neigh5 = KNeighborsClassifier(n_neighbors=5)\n",
    "neigh5.fit(z, Y_train)\n",
    "score_5nn = neigh5.score(z_test, Y_test)\n",
    "score_5nn"
   ]
  },
  {
   "cell_type": "code",
   "execution_count": 39,
   "metadata": {
    "ExecuteTime": {
     "end_time": "2020-08-22T05:44:47.776831Z",
     "start_time": "2020-08-22T05:44:47.235575Z"
    }
   },
   "outputs": [
    {
     "data": {
      "text/plain": [
       "0.8544967641151529"
      ]
     },
     "execution_count": 39,
     "metadata": {},
     "output_type": "execute_result"
    }
   ],
   "source": [
    "neigh1 = KNeighborsClassifier(n_neighbors=1)\n",
    "neigh1.fit(z, Y_train)\n",
    "score_1nn = neigh1.score(z_test, Y_test)\n",
    "score_1nn"
   ]
  },
  {
   "cell_type": "markdown",
   "metadata": {},
   "source": [
    "#### Trustworthiness"
   ]
  },
  {
   "cell_type": "code",
   "execution_count": 40,
   "metadata": {
    "ExecuteTime": {
     "end_time": "2020-08-22T05:44:49.429646Z",
     "start_time": "2020-08-22T05:44:49.277193Z"
    }
   },
   "outputs": [],
   "source": [
    "from sklearn.manifold import trustworthiness"
   ]
  },
  {
   "cell_type": "code",
   "execution_count": 41,
   "metadata": {
    "ExecuteTime": {
     "end_time": "2020-08-22T05:45:07.775100Z",
     "start_time": "2020-08-22T05:44:49.431224Z"
    }
   },
   "outputs": [],
   "source": [
    "tw = trustworthiness(X_train_flat[:10000], z[:10000])"
   ]
  },
  {
   "cell_type": "code",
   "execution_count": 44,
   "metadata": {
    "ExecuteTime": {
     "end_time": "2020-08-22T05:46:41.073558Z",
     "start_time": "2020-08-22T05:46:36.708592Z"
    }
   },
   "outputs": [],
   "source": [
    "tw_test = trustworthiness(X_test_flat[:10000], z_test[:10000])"
   ]
  },
  {
   "cell_type": "code",
   "execution_count": 45,
   "metadata": {
    "ExecuteTime": {
     "end_time": "2020-08-22T05:46:41.220101Z",
     "start_time": "2020-08-22T05:46:41.079602Z"
    }
   },
   "outputs": [
    {
     "data": {
      "text/plain": [
       "(0.7533395916733386, 0.7513253490044385)"
      ]
     },
     "execution_count": 45,
     "metadata": {},
     "output_type": "execute_result"
    }
   ],
   "source": [
    "tw, tw_test"
   ]
  },
  {
   "cell_type": "markdown",
   "metadata": {},
   "source": [
    "### Save output metrics"
   ]
  },
  {
   "cell_type": "code",
   "execution_count": 46,
   "metadata": {
    "ExecuteTime": {
     "end_time": "2020-08-22T05:46:42.856365Z",
     "start_time": "2020-08-22T05:46:42.788046Z"
    }
   },
   "outputs": [],
   "source": [
    "from tfumap.paths import ensure_dir, MODEL_DIR, DATA_DIR"
   ]
  },
  {
   "cell_type": "markdown",
   "metadata": {},
   "source": [
    "#### train"
   ]
  },
  {
   "cell_type": "code",
   "execution_count": 47,
   "metadata": {
    "ExecuteTime": {
     "end_time": "2020-08-22T05:46:44.521974Z",
     "start_time": "2020-08-22T05:46:44.448452Z"
    }
   },
   "outputs": [
    {
     "data": {
      "text/html": [
       "<div>\n",
       "<style scoped>\n",
       "    .dataframe tbody tr th:only-of-type {\n",
       "        vertical-align: middle;\n",
       "    }\n",
       "\n",
       "    .dataframe tbody tr th {\n",
       "        vertical-align: top;\n",
       "    }\n",
       "\n",
       "    .dataframe thead th {\n",
       "        text-align: right;\n",
       "    }\n",
       "</style>\n",
       "<table border=\"1\" class=\"dataframe\">\n",
       "  <thead>\n",
       "    <tr style=\"text-align: right;\">\n",
       "      <th></th>\n",
       "      <th>dataset</th>\n",
       "      <th>class_</th>\n",
       "      <th>dim</th>\n",
       "      <th>trustworthiness</th>\n",
       "      <th>silhouette_score</th>\n",
       "      <th>silhouette_samples</th>\n",
       "    </tr>\n",
       "  </thead>\n",
       "  <tbody>\n",
       "    <tr>\n",
       "      <th>0</th>\n",
       "      <td>macosko2015</td>\n",
       "      <td>vae</td>\n",
       "      <td>2</td>\n",
       "      <td>0.75334</td>\n",
       "      <td>0.44486</td>\n",
       "      <td>[0.7403312028462018, 0.2609322861528072, 0.098...</td>\n",
       "    </tr>\n",
       "  </tbody>\n",
       "</table>\n",
       "</div>"
      ],
      "text/plain": [
       "       dataset class_ dim  trustworthiness  silhouette_score  \\\n",
       "0  macosko2015    vae   2          0.75334           0.44486   \n",
       "\n",
       "                                  silhouette_samples  \n",
       "0  [0.7403312028462018, 0.2609322861528072, 0.098...  "
      ]
     },
     "execution_count": 47,
     "metadata": {},
     "output_type": "execute_result"
    }
   ],
   "source": [
    "metrics_df = pd.DataFrame(\n",
    "    columns=[\n",
    "        \"dataset\",\n",
    "        \"class_\",\n",
    "        \"dim\",\n",
    "        \"trustworthiness\",\n",
    "        \"silhouette_score\",\n",
    "        \"silhouette_samples\",\n",
    "    ]\n",
    ")\n",
    "metrics_df.loc[len(metrics_df)] = [dataset, 'vae', n_components, tw, ss, sil_samp]\n",
    "metrics_df"
   ]
  },
  {
   "cell_type": "code",
   "execution_count": 48,
   "metadata": {
    "ExecuteTime": {
     "end_time": "2020-08-22T05:46:45.036435Z",
     "start_time": "2020-08-22T05:46:44.956079Z"
    }
   },
   "outputs": [],
   "source": [
    "save_loc = DATA_DIR / 'projection_metrics' /  'vae' / 'train' / str(n_components) / (dataset + '.pickle')\n",
    "ensure_dir(save_loc)\n",
    "metrics_df.to_pickle(save_loc)"
   ]
  },
  {
   "cell_type": "markdown",
   "metadata": {},
   "source": [
    "#### test"
   ]
  },
  {
   "cell_type": "code",
   "execution_count": 49,
   "metadata": {
    "ExecuteTime": {
     "end_time": "2020-08-22T05:46:47.052467Z",
     "start_time": "2020-08-22T05:46:46.954952Z"
    }
   },
   "outputs": [
    {
     "data": {
      "text/html": [
       "<div>\n",
       "<style scoped>\n",
       "    .dataframe tbody tr th:only-of-type {\n",
       "        vertical-align: middle;\n",
       "    }\n",
       "\n",
       "    .dataframe tbody tr th {\n",
       "        vertical-align: top;\n",
       "    }\n",
       "\n",
       "    .dataframe thead th {\n",
       "        text-align: right;\n",
       "    }\n",
       "</style>\n",
       "<table border=\"1\" class=\"dataframe\">\n",
       "  <thead>\n",
       "    <tr style=\"text-align: right;\">\n",
       "      <th></th>\n",
       "      <th>dataset</th>\n",
       "      <th>class_</th>\n",
       "      <th>dim</th>\n",
       "      <th>trustworthiness</th>\n",
       "      <th>silhouette_score</th>\n",
       "      <th>silhouette_samples</th>\n",
       "    </tr>\n",
       "  </thead>\n",
       "  <tbody>\n",
       "    <tr>\n",
       "      <th>1</th>\n",
       "      <td>macosko2015</td>\n",
       "      <td>vae</td>\n",
       "      <td>2</td>\n",
       "      <td>0.751325</td>\n",
       "      <td>0.436567</td>\n",
       "      <td>[0.7659427156870005, -0.10614061670578484, 0.8...</td>\n",
       "    </tr>\n",
       "  </tbody>\n",
       "</table>\n",
       "</div>"
      ],
      "text/plain": [
       "       dataset class_ dim  trustworthiness  silhouette_score  \\\n",
       "1  macosko2015    vae   2         0.751325          0.436567   \n",
       "\n",
       "                                  silhouette_samples  \n",
       "1  [0.7659427156870005, -0.10614061670578484, 0.8...  "
      ]
     },
     "execution_count": 49,
     "metadata": {},
     "output_type": "execute_result"
    }
   ],
   "source": [
    "metrics_df_test = pd.DataFrame(\n",
    "    columns=[\n",
    "        \"dataset\",\n",
    "        \"class_\",\n",
    "        \"dim\",\n",
    "        \"trustworthiness\",\n",
    "        \"silhouette_score\",\n",
    "        \"silhouette_samples\",\n",
    "    ]\n",
    ")\n",
    "metrics_df_test.loc[len(metrics_df)] = [dataset, 'vae', n_components, tw_test, ss_test, sil_samp_test]\n",
    "metrics_df_test"
   ]
  },
  {
   "cell_type": "code",
   "execution_count": 50,
   "metadata": {
    "ExecuteTime": {
     "end_time": "2020-08-22T05:46:47.175106Z",
     "start_time": "2020-08-22T05:46:47.101910Z"
    }
   },
   "outputs": [],
   "source": [
    "save_loc = DATA_DIR / 'projection_metrics' / 'vae' / 'test' / str(n_components) / (dataset + '.pickle')\n",
    "ensure_dir(save_loc)\n",
    "metrics_df.to_pickle(save_loc)"
   ]
  },
  {
   "cell_type": "markdown",
   "metadata": {},
   "source": [
    "#### knn "
   ]
  },
  {
   "cell_type": "code",
   "execution_count": 51,
   "metadata": {
    "ExecuteTime": {
     "end_time": "2020-08-22T05:46:47.995587Z",
     "start_time": "2020-08-22T05:46:47.840219Z"
    }
   },
   "outputs": [
    {
     "data": {
      "text/html": [
       "<div>\n",
       "<style scoped>\n",
       "    .dataframe tbody tr th:only-of-type {\n",
       "        vertical-align: middle;\n",
       "    }\n",
       "\n",
       "    .dataframe tbody tr th {\n",
       "        vertical-align: top;\n",
       "    }\n",
       "\n",
       "    .dataframe thead th {\n",
       "        text-align: right;\n",
       "    }\n",
       "</style>\n",
       "<table border=\"1\" class=\"dataframe\">\n",
       "  <thead>\n",
       "    <tr style=\"text-align: right;\">\n",
       "      <th></th>\n",
       "      <th>method_</th>\n",
       "      <th>dimensions</th>\n",
       "      <th>dataset</th>\n",
       "      <th>1NN_acc</th>\n",
       "      <th>5NN_acc</th>\n",
       "    </tr>\n",
       "  </thead>\n",
       "  <tbody>\n",
       "    <tr>\n",
       "      <th>0</th>\n",
       "      <td>vae</td>\n",
       "      <td>2</td>\n",
       "      <td>macosko2015</td>\n",
       "      <td>0.854497</td>\n",
       "      <td>0.879491</td>\n",
       "    </tr>\n",
       "  </tbody>\n",
       "</table>\n",
       "</div>"
      ],
      "text/plain": [
       "  method_ dimensions      dataset   1NN_acc   5NN_acc\n",
       "0     vae          2  macosko2015  0.854497  0.879491"
      ]
     },
     "execution_count": 51,
     "metadata": {},
     "output_type": "execute_result"
    }
   ],
   "source": [
    "nn_acc_df = pd.DataFrame(columns = [\"method_\",\"dimensions\",\"dataset\",\"1NN_acc\",\"5NN_acc\"])\n",
    "nn_acc_df.loc[len(nn_acc_df)] = ['vae', n_components, dataset,  score_1nn, score_5nn]\n",
    "nn_acc_df"
   ]
  },
  {
   "cell_type": "code",
   "execution_count": 52,
   "metadata": {
    "ExecuteTime": {
     "end_time": "2020-08-22T05:46:48.376965Z",
     "start_time": "2020-08-22T05:46:48.259663Z"
    }
   },
   "outputs": [],
   "source": [
    "save_loc = DATA_DIR / 'knn_classifier' / 'vae' / 'train' / str(n_components) / (dataset + '.pickle')\n",
    "ensure_dir(save_loc)\n",
    "nn_acc_df.to_pickle(save_loc)"
   ]
  },
  {
   "cell_type": "markdown",
   "metadata": {},
   "source": [
    "### Reconstruction"
   ]
  },
  {
   "cell_type": "code",
   "execution_count": 53,
   "metadata": {
    "ExecuteTime": {
     "end_time": "2020-08-22T05:46:49.584721Z",
     "start_time": "2020-08-22T05:46:49.522733Z"
    }
   },
   "outputs": [],
   "source": [
    "from sklearn.metrics import mean_squared_error, mean_absolute_error, median_absolute_error, r2_score"
   ]
  },
  {
   "cell_type": "code",
   "execution_count": 56,
   "metadata": {
    "ExecuteTime": {
     "end_time": "2020-08-22T05:47:00.540128Z",
     "start_time": "2020-08-22T05:46:59.778942Z"
    }
   },
   "outputs": [],
   "source": [
    "X_recon = vae.decoder.predict(vae.encoder.predict(X_test.reshape((len(X_test), 50)))[0])\n",
    "X_real = X_test.reshape((len(X_test), 50))"
   ]
  },
  {
   "cell_type": "code",
   "execution_count": 57,
   "metadata": {
    "ExecuteTime": {
     "end_time": "2020-08-22T05:47:01.725642Z",
     "start_time": "2020-08-22T05:47:01.623063Z"
    }
   },
   "outputs": [],
   "source": [
    "x_real = X_test.reshape((len(X_test), np.product(np.shape(X_test)[1:])))\n",
    "x_recon = X_recon.reshape((len(X_test), np.product(np.shape(X_test)[1:])))"
   ]
  },
  {
   "cell_type": "code",
   "execution_count": 58,
   "metadata": {
    "ExecuteTime": {
     "end_time": "2020-08-22T05:47:02.410652Z",
     "start_time": "2020-08-22T05:47:02.297289Z"
    }
   },
   "outputs": [],
   "source": [
    "reconstruction_acc_df = pd.DataFrame(\n",
    "    columns=[\"method_\", \"dimensions\", \"dataset\", \"MSE\", \"MAE\", \"MedAE\", \"R2\"]\n",
    ")"
   ]
  },
  {
   "cell_type": "code",
   "execution_count": 59,
   "metadata": {
    "ExecuteTime": {
     "end_time": "2020-08-22T05:47:03.912078Z",
     "start_time": "2020-08-22T05:47:03.740068Z"
    }
   },
   "outputs": [
    {
     "data": {
      "text/html": [
       "<div>\n",
       "<style scoped>\n",
       "    .dataframe tbody tr th:only-of-type {\n",
       "        vertical-align: middle;\n",
       "    }\n",
       "\n",
       "    .dataframe tbody tr th {\n",
       "        vertical-align: top;\n",
       "    }\n",
       "\n",
       "    .dataframe thead th {\n",
       "        text-align: right;\n",
       "    }\n",
       "</style>\n",
       "<table border=\"1\" class=\"dataframe\">\n",
       "  <thead>\n",
       "    <tr style=\"text-align: right;\">\n",
       "      <th></th>\n",
       "      <th>method_</th>\n",
       "      <th>dimensions</th>\n",
       "      <th>dataset</th>\n",
       "      <th>MSE</th>\n",
       "      <th>MAE</th>\n",
       "      <th>MedAE</th>\n",
       "      <th>R2</th>\n",
       "    </tr>\n",
       "  </thead>\n",
       "  <tbody>\n",
       "    <tr>\n",
       "      <th>0</th>\n",
       "      <td>vae</td>\n",
       "      <td>2</td>\n",
       "      <td>macosko2015</td>\n",
       "      <td>0.000843</td>\n",
       "      <td>0.0134</td>\n",
       "      <td>0.006827</td>\n",
       "      <td>0.109899</td>\n",
       "    </tr>\n",
       "  </tbody>\n",
       "</table>\n",
       "</div>"
      ],
      "text/plain": [
       "  method_ dimensions      dataset       MSE     MAE     MedAE        R2\n",
       "0     vae          2  macosko2015  0.000843  0.0134  0.006827  0.109899"
      ]
     },
     "execution_count": 59,
     "metadata": {},
     "output_type": "execute_result"
    }
   ],
   "source": [
    "MSE = mean_squared_error(\n",
    "    x_real, \n",
    "    x_recon\n",
    ")\n",
    "MAE = mean_absolute_error(\n",
    "    x_real, \n",
    "    x_recon\n",
    ")\n",
    "MedAE = median_absolute_error(\n",
    "    x_real, \n",
    "    x_recon\n",
    ")\n",
    "R2 = r2_score(\n",
    "    x_real, \n",
    "    x_recon\n",
    ")\n",
    "\n",
    "reconstruction_acc_df.loc[len(reconstruction_acc_df)] = ['vae', 2, dataset, MSE, MAE, MedAE, R2]\n",
    "reconstruction_acc_df"
   ]
  },
  {
   "cell_type": "code",
   "execution_count": 60,
   "metadata": {
    "ExecuteTime": {
     "end_time": "2020-08-22T05:47:14.830656Z",
     "start_time": "2020-08-22T05:47:14.731416Z"
    }
   },
   "outputs": [],
   "source": [
    "save_loc = DATA_DIR / 'reconstruction_acc' / 'vae' / str(n_components) / (dataset + '.pickle')\n",
    "ensure_dir(save_loc)\n",
    "reconstruction_acc_df.to_pickle(save_loc)"
   ]
  },
  {
   "cell_type": "markdown",
   "metadata": {},
   "source": [
    "### Compute clustering quality"
   ]
  },
  {
   "cell_type": "code",
   "execution_count": 61,
   "metadata": {
    "ExecuteTime": {
     "end_time": "2020-08-22T05:47:35.928547Z",
     "start_time": "2020-08-22T05:47:35.455147Z"
    }
   },
   "outputs": [],
   "source": [
    "from sklearn.cluster import KMeans\n",
    "from sklearn.metrics import homogeneity_completeness_v_measure"
   ]
  },
  {
   "cell_type": "code",
   "execution_count": 62,
   "metadata": {
    "ExecuteTime": {
     "end_time": "2020-08-22T05:47:36.084370Z",
     "start_time": "2020-08-22T05:47:35.929913Z"
    }
   },
   "outputs": [],
   "source": [
    "def get_cluster_metrics(row, n_init=5):\n",
    "    \n",
    "    # load cluster information\n",
    "    save_loc = DATA_DIR / 'clustering_metric_df'/ ('_'.join([row.class_, str(row.dim), row.dataset]) + '.pickle')\n",
    "    print(save_loc)\n",
    "    if save_loc.exists() and save_loc.is_file():\n",
    "        \n",
    "        cluster_df = pd.read_pickle(save_loc)\n",
    "        return cluster_df\n",
    "    \n",
    "    # make cluster metric dataframe\n",
    "    cluster_df = pd.DataFrame(\n",
    "        columns=[\n",
    "            \"dataset\",\n",
    "            \"class_\",\n",
    "            \"dim\",\n",
    "            \"silhouette\",\n",
    "            \"homogeneity\",\n",
    "            \"completeness\",\n",
    "            \"v_measure\",\n",
    "            \"init_\",\n",
    "            \"n_clusters\",\n",
    "            \"model\",\n",
    "        ]\n",
    "    )\n",
    "    y = row.train_label\n",
    "    z = row.train_z\n",
    "    n_labels = len(np.unique(y))\n",
    "    for n_clusters in tqdm(np.arange(n_labels - int(n_labels / 2), n_labels + int(n_labels / 2)), leave=False, desc = 'n_clusters'):\n",
    "        for init_ in tqdm(range(n_init), leave=False, desc='init'):\n",
    "            kmeans = KMeans(n_clusters=n_clusters, random_state=init_).fit(z)\n",
    "            clustered_y = kmeans.labels_\n",
    "            homogeneity, completeness, v_measure = homogeneity_completeness_v_measure(\n",
    "                y, clustered_y\n",
    "            )\n",
    "            ss, _ = silhouette_score_block(z, clustered_y)\n",
    "            cluster_df.loc[len(cluster_df)] = [\n",
    "                row.dataset,\n",
    "                row.class_,\n",
    "                row.dim,\n",
    "                ss,\n",
    "                homogeneity,\n",
    "                completeness,\n",
    "                v_measure,\n",
    "                init_,\n",
    "                n_clusters,\n",
    "                kmeans,\n",
    "            ]\n",
    "    \n",
    "     # save cluster df in case this fails somewhere\n",
    "    ensure_dir(save_loc)\n",
    "    cluster_df.to_pickle(save_loc)\n",
    "    return cluster_df"
   ]
  },
  {
   "cell_type": "code",
   "execution_count": 63,
   "metadata": {
    "ExecuteTime": {
     "end_time": "2020-08-22T05:47:36.268425Z",
     "start_time": "2020-08-22T05:47:36.086668Z"
    }
   },
   "outputs": [
    {
     "data": {
      "text/html": [
       "<div>\n",
       "<style scoped>\n",
       "    .dataframe tbody tr th:only-of-type {\n",
       "        vertical-align: middle;\n",
       "    }\n",
       "\n",
       "    .dataframe tbody tr th {\n",
       "        vertical-align: top;\n",
       "    }\n",
       "\n",
       "    .dataframe thead th {\n",
       "        text-align: right;\n",
       "    }\n",
       "</style>\n",
       "<table border=\"1\" class=\"dataframe\">\n",
       "  <thead>\n",
       "    <tr style=\"text-align: right;\">\n",
       "      <th></th>\n",
       "      <th>dataset</th>\n",
       "      <th>class_</th>\n",
       "      <th>train_z</th>\n",
       "      <th>train_label</th>\n",
       "      <th>dim</th>\n",
       "    </tr>\n",
       "  </thead>\n",
       "  <tbody>\n",
       "    <tr>\n",
       "      <th>0</th>\n",
       "      <td>macosko2015</td>\n",
       "      <td>vae</td>\n",
       "      <td>[[-0.064974114, 0.5490219], [-0.675572, -0.865...</td>\n",
       "      <td>[10.0, 7.0, 0.0, 10.0, 10.0, 10.0, 10.0, 10.0,...</td>\n",
       "      <td>2</td>\n",
       "    </tr>\n",
       "  </tbody>\n",
       "</table>\n",
       "</div>"
      ],
      "text/plain": [
       "       dataset class_                                            train_z  \\\n",
       "0  macosko2015    vae  [[-0.064974114, 0.5490219], [-0.675572, -0.865...   \n",
       "\n",
       "                                         train_label dim  \n",
       "0  [10.0, 7.0, 0.0, 10.0, 10.0, 10.0, 10.0, 10.0,...   2  "
      ]
     },
     "execution_count": 63,
     "metadata": {},
     "output_type": "execute_result"
    }
   ],
   "source": [
    "projection_df = pd.DataFrame(columns = ['dataset', 'class_', 'train_z', 'train_label', 'dim'])\n",
    "projection_df.loc[len(projection_df)] = [dataset, 'vae', z, Y_train.flatten(), n_components]\n",
    "projection_df"
   ]
  },
  {
   "cell_type": "code",
   "execution_count": 64,
   "metadata": {
    "ExecuteTime": {
     "end_time": "2020-08-22T06:09:30.113933Z",
     "start_time": "2020-08-22T05:47:36.269606Z"
    }
   },
   "outputs": [
    {
     "name": "stdout",
     "output_type": "stream",
     "text": [
      "/mnt/cube/tsainbur/Projects/github_repos/umap_tf_networks/data/clustering_metric_df/vae_2_macosko2015.pickle\n"
     ]
    },
    {
     "data": {
      "application/vnd.jupyter.widget-view+json": {
       "model_id": "",
       "version_major": 2,
       "version_minor": 0
      },
      "text/plain": [
       "HBox(children=(IntProgress(value=0, description='n_clusters', max=12, style=ProgressStyle(description_width='i…"
      ]
     },
     "metadata": {},
     "output_type": "display_data"
    },
    {
     "data": {
      "application/vnd.jupyter.widget-view+json": {
       "model_id": "",
       "version_major": 2,
       "version_minor": 0
      },
      "text/plain": [
       "HBox(children=(IntProgress(value=0, description='init', max=5, style=ProgressStyle(description_width='initial'…"
      ]
     },
     "metadata": {},
     "output_type": "display_data"
    },
    {
     "data": {
      "application/vnd.jupyter.widget-view+json": {
       "model_id": "",
       "version_major": 2,
       "version_minor": 0
      },
      "text/plain": [
       "HBox(children=(IntProgress(value=0, description='init', max=5, style=ProgressStyle(description_width='initial'…"
      ]
     },
     "metadata": {},
     "output_type": "display_data"
    },
    {
     "data": {
      "application/vnd.jupyter.widget-view+json": {
       "model_id": "",
       "version_major": 2,
       "version_minor": 0
      },
      "text/plain": [
       "HBox(children=(IntProgress(value=0, description='init', max=5, style=ProgressStyle(description_width='initial'…"
      ]
     },
     "metadata": {},
     "output_type": "display_data"
    },
    {
     "data": {
      "application/vnd.jupyter.widget-view+json": {
       "model_id": "",
       "version_major": 2,
       "version_minor": 0
      },
      "text/plain": [
       "HBox(children=(IntProgress(value=0, description='init', max=5, style=ProgressStyle(description_width='initial'…"
      ]
     },
     "metadata": {},
     "output_type": "display_data"
    },
    {
     "data": {
      "application/vnd.jupyter.widget-view+json": {
       "model_id": "",
       "version_major": 2,
       "version_minor": 0
      },
      "text/plain": [
       "HBox(children=(IntProgress(value=0, description='init', max=5, style=ProgressStyle(description_width='initial'…"
      ]
     },
     "metadata": {},
     "output_type": "display_data"
    },
    {
     "data": {
      "application/vnd.jupyter.widget-view+json": {
       "model_id": "",
       "version_major": 2,
       "version_minor": 0
      },
      "text/plain": [
       "HBox(children=(IntProgress(value=0, description='init', max=5, style=ProgressStyle(description_width='initial'…"
      ]
     },
     "metadata": {},
     "output_type": "display_data"
    },
    {
     "data": {
      "application/vnd.jupyter.widget-view+json": {
       "model_id": "",
       "version_major": 2,
       "version_minor": 0
      },
      "text/plain": [
       "HBox(children=(IntProgress(value=0, description='init', max=5, style=ProgressStyle(description_width='initial'…"
      ]
     },
     "metadata": {},
     "output_type": "display_data"
    },
    {
     "data": {
      "application/vnd.jupyter.widget-view+json": {
       "model_id": "",
       "version_major": 2,
       "version_minor": 0
      },
      "text/plain": [
       "HBox(children=(IntProgress(value=0, description='init', max=5, style=ProgressStyle(description_width='initial'…"
      ]
     },
     "metadata": {},
     "output_type": "display_data"
    },
    {
     "data": {
      "application/vnd.jupyter.widget-view+json": {
       "model_id": "",
       "version_major": 2,
       "version_minor": 0
      },
      "text/plain": [
       "HBox(children=(IntProgress(value=0, description='init', max=5, style=ProgressStyle(description_width='initial'…"
      ]
     },
     "metadata": {},
     "output_type": "display_data"
    },
    {
     "data": {
      "application/vnd.jupyter.widget-view+json": {
       "model_id": "",
       "version_major": 2,
       "version_minor": 0
      },
      "text/plain": [
       "HBox(children=(IntProgress(value=0, description='init', max=5, style=ProgressStyle(description_width='initial'…"
      ]
     },
     "metadata": {},
     "output_type": "display_data"
    },
    {
     "data": {
      "application/vnd.jupyter.widget-view+json": {
       "model_id": "",
       "version_major": 2,
       "version_minor": 0
      },
      "text/plain": [
       "HBox(children=(IntProgress(value=0, description='init', max=5, style=ProgressStyle(description_width='initial'…"
      ]
     },
     "metadata": {},
     "output_type": "display_data"
    },
    {
     "data": {
      "application/vnd.jupyter.widget-view+json": {
       "model_id": "",
       "version_major": 2,
       "version_minor": 0
      },
      "text/plain": [
       "HBox(children=(IntProgress(value=0, description='init', max=5, style=ProgressStyle(description_width='initial'…"
      ]
     },
     "metadata": {},
     "output_type": "display_data"
    },
    {
     "name": "stdout",
     "output_type": "stream",
     "text": [
      "\r"
     ]
    },
    {
     "data": {
      "text/html": [
       "<div>\n",
       "<style scoped>\n",
       "    .dataframe tbody tr th:only-of-type {\n",
       "        vertical-align: middle;\n",
       "    }\n",
       "\n",
       "    .dataframe tbody tr th {\n",
       "        vertical-align: top;\n",
       "    }\n",
       "\n",
       "    .dataframe thead th {\n",
       "        text-align: right;\n",
       "    }\n",
       "</style>\n",
       "<table border=\"1\" class=\"dataframe\">\n",
       "  <thead>\n",
       "    <tr style=\"text-align: right;\">\n",
       "      <th></th>\n",
       "      <th>dataset</th>\n",
       "      <th>class_</th>\n",
       "      <th>dim</th>\n",
       "      <th>silhouette</th>\n",
       "      <th>homogeneity</th>\n",
       "      <th>completeness</th>\n",
       "      <th>v_measure</th>\n",
       "      <th>init_</th>\n",
       "      <th>n_clusters</th>\n",
       "      <th>model</th>\n",
       "    </tr>\n",
       "  </thead>\n",
       "  <tbody>\n",
       "    <tr>\n",
       "      <th>0</th>\n",
       "      <td>macosko2015</td>\n",
       "      <td>vae</td>\n",
       "      <td>2</td>\n",
       "      <td>0.710901</td>\n",
       "      <td>0.552989</td>\n",
       "      <td>0.559097</td>\n",
       "      <td>0.556026</td>\n",
       "      <td>0</td>\n",
       "      <td>6</td>\n",
       "      <td>KMeans(n_clusters=6, random_state=0)</td>\n",
       "    </tr>\n",
       "    <tr>\n",
       "      <th>1</th>\n",
       "      <td>macosko2015</td>\n",
       "      <td>vae</td>\n",
       "      <td>2</td>\n",
       "      <td>0.710883</td>\n",
       "      <td>0.553118</td>\n",
       "      <td>0.559214</td>\n",
       "      <td>0.556149</td>\n",
       "      <td>1</td>\n",
       "      <td>6</td>\n",
       "      <td>KMeans(n_clusters=6, random_state=1)</td>\n",
       "    </tr>\n",
       "    <tr>\n",
       "      <th>2</th>\n",
       "      <td>macosko2015</td>\n",
       "      <td>vae</td>\n",
       "      <td>2</td>\n",
       "      <td>0.711158</td>\n",
       "      <td>0.552863</td>\n",
       "      <td>0.559435</td>\n",
       "      <td>0.556129</td>\n",
       "      <td>2</td>\n",
       "      <td>6</td>\n",
       "      <td>KMeans(n_clusters=6, random_state=2)</td>\n",
       "    </tr>\n",
       "    <tr>\n",
       "      <th>3</th>\n",
       "      <td>macosko2015</td>\n",
       "      <td>vae</td>\n",
       "      <td>2</td>\n",
       "      <td>0.711263</td>\n",
       "      <td>0.552630</td>\n",
       "      <td>0.559529</td>\n",
       "      <td>0.556058</td>\n",
       "      <td>3</td>\n",
       "      <td>6</td>\n",
       "      <td>KMeans(n_clusters=6, random_state=3)</td>\n",
       "    </tr>\n",
       "    <tr>\n",
       "      <th>4</th>\n",
       "      <td>macosko2015</td>\n",
       "      <td>vae</td>\n",
       "      <td>2</td>\n",
       "      <td>0.711158</td>\n",
       "      <td>0.552863</td>\n",
       "      <td>0.559435</td>\n",
       "      <td>0.556129</td>\n",
       "      <td>4</td>\n",
       "      <td>6</td>\n",
       "      <td>KMeans(n_clusters=6, random_state=4)</td>\n",
       "    </tr>\n",
       "    <tr>\n",
       "      <th>5</th>\n",
       "      <td>macosko2015</td>\n",
       "      <td>vae</td>\n",
       "      <td>2</td>\n",
       "      <td>0.715679</td>\n",
       "      <td>0.571734</td>\n",
       "      <td>0.566965</td>\n",
       "      <td>0.569339</td>\n",
       "      <td>0</td>\n",
       "      <td>7</td>\n",
       "      <td>KMeans(n_clusters=7, random_state=0)</td>\n",
       "    </tr>\n",
       "    <tr>\n",
       "      <th>6</th>\n",
       "      <td>macosko2015</td>\n",
       "      <td>vae</td>\n",
       "      <td>2</td>\n",
       "      <td>0.715662</td>\n",
       "      <td>0.571703</td>\n",
       "      <td>0.566920</td>\n",
       "      <td>0.569301</td>\n",
       "      <td>1</td>\n",
       "      <td>7</td>\n",
       "      <td>KMeans(n_clusters=7, random_state=1)</td>\n",
       "    </tr>\n",
       "    <tr>\n",
       "      <th>7</th>\n",
       "      <td>macosko2015</td>\n",
       "      <td>vae</td>\n",
       "      <td>2</td>\n",
       "      <td>0.715572</td>\n",
       "      <td>0.572174</td>\n",
       "      <td>0.567146</td>\n",
       "      <td>0.569649</td>\n",
       "      <td>2</td>\n",
       "      <td>7</td>\n",
       "      <td>KMeans(n_clusters=7, random_state=2)</td>\n",
       "    </tr>\n",
       "    <tr>\n",
       "      <th>8</th>\n",
       "      <td>macosko2015</td>\n",
       "      <td>vae</td>\n",
       "      <td>2</td>\n",
       "      <td>0.715438</td>\n",
       "      <td>0.572230</td>\n",
       "      <td>0.566962</td>\n",
       "      <td>0.569584</td>\n",
       "      <td>3</td>\n",
       "      <td>7</td>\n",
       "      <td>KMeans(n_clusters=7, random_state=3)</td>\n",
       "    </tr>\n",
       "    <tr>\n",
       "      <th>9</th>\n",
       "      <td>macosko2015</td>\n",
       "      <td>vae</td>\n",
       "      <td>2</td>\n",
       "      <td>0.715863</td>\n",
       "      <td>0.571365</td>\n",
       "      <td>0.566878</td>\n",
       "      <td>0.569113</td>\n",
       "      <td>4</td>\n",
       "      <td>7</td>\n",
       "      <td>KMeans(n_clusters=7, random_state=4)</td>\n",
       "    </tr>\n",
       "    <tr>\n",
       "      <th>10</th>\n",
       "      <td>macosko2015</td>\n",
       "      <td>vae</td>\n",
       "      <td>2</td>\n",
       "      <td>0.667819</td>\n",
       "      <td>0.587042</td>\n",
       "      <td>0.519117</td>\n",
       "      <td>0.550994</td>\n",
       "      <td>0</td>\n",
       "      <td>8</td>\n",
       "      <td>KMeans(random_state=0)</td>\n",
       "    </tr>\n",
       "    <tr>\n",
       "      <th>11</th>\n",
       "      <td>macosko2015</td>\n",
       "      <td>vae</td>\n",
       "      <td>2</td>\n",
       "      <td>0.665141</td>\n",
       "      <td>0.588691</td>\n",
       "      <td>0.518232</td>\n",
       "      <td>0.551219</td>\n",
       "      <td>1</td>\n",
       "      <td>8</td>\n",
       "      <td>KMeans(random_state=1)</td>\n",
       "    </tr>\n",
       "    <tr>\n",
       "      <th>12</th>\n",
       "      <td>macosko2015</td>\n",
       "      <td>vae</td>\n",
       "      <td>2</td>\n",
       "      <td>0.667876</td>\n",
       "      <td>0.586771</td>\n",
       "      <td>0.519034</td>\n",
       "      <td>0.550828</td>\n",
       "      <td>2</td>\n",
       "      <td>8</td>\n",
       "      <td>KMeans(random_state=2)</td>\n",
       "    </tr>\n",
       "    <tr>\n",
       "      <th>13</th>\n",
       "      <td>macosko2015</td>\n",
       "      <td>vae</td>\n",
       "      <td>2</td>\n",
       "      <td>0.663887</td>\n",
       "      <td>0.589305</td>\n",
       "      <td>0.517669</td>\n",
       "      <td>0.551169</td>\n",
       "      <td>3</td>\n",
       "      <td>8</td>\n",
       "      <td>KMeans(random_state=3)</td>\n",
       "    </tr>\n",
       "    <tr>\n",
       "      <th>14</th>\n",
       "      <td>macosko2015</td>\n",
       "      <td>vae</td>\n",
       "      <td>2</td>\n",
       "      <td>0.668828</td>\n",
       "      <td>0.586209</td>\n",
       "      <td>0.519372</td>\n",
       "      <td>0.550770</td>\n",
       "      <td>4</td>\n",
       "      <td>8</td>\n",
       "      <td>KMeans(random_state=4)</td>\n",
       "    </tr>\n",
       "    <tr>\n",
       "      <th>15</th>\n",
       "      <td>macosko2015</td>\n",
       "      <td>vae</td>\n",
       "      <td>2</td>\n",
       "      <td>0.673567</td>\n",
       "      <td>0.595233</td>\n",
       "      <td>0.522017</td>\n",
       "      <td>0.556226</td>\n",
       "      <td>0</td>\n",
       "      <td>9</td>\n",
       "      <td>KMeans(n_clusters=9, random_state=0)</td>\n",
       "    </tr>\n",
       "    <tr>\n",
       "      <th>16</th>\n",
       "      <td>macosko2015</td>\n",
       "      <td>vae</td>\n",
       "      <td>2</td>\n",
       "      <td>0.661921</td>\n",
       "      <td>0.601942</td>\n",
       "      <td>0.518416</td>\n",
       "      <td>0.557065</td>\n",
       "      <td>1</td>\n",
       "      <td>9</td>\n",
       "      <td>KMeans(n_clusters=9, random_state=1)</td>\n",
       "    </tr>\n",
       "    <tr>\n",
       "      <th>17</th>\n",
       "      <td>macosko2015</td>\n",
       "      <td>vae</td>\n",
       "      <td>2</td>\n",
       "      <td>0.670816</td>\n",
       "      <td>0.597629</td>\n",
       "      <td>0.522060</td>\n",
       "      <td>0.557294</td>\n",
       "      <td>2</td>\n",
       "      <td>9</td>\n",
       "      <td>KMeans(n_clusters=9, random_state=2)</td>\n",
       "    </tr>\n",
       "    <tr>\n",
       "      <th>18</th>\n",
       "      <td>macosko2015</td>\n",
       "      <td>vae</td>\n",
       "      <td>2</td>\n",
       "      <td>0.676096</td>\n",
       "      <td>0.593189</td>\n",
       "      <td>0.522379</td>\n",
       "      <td>0.555537</td>\n",
       "      <td>3</td>\n",
       "      <td>9</td>\n",
       "      <td>KMeans(n_clusters=9, random_state=3)</td>\n",
       "    </tr>\n",
       "    <tr>\n",
       "      <th>19</th>\n",
       "      <td>macosko2015</td>\n",
       "      <td>vae</td>\n",
       "      <td>2</td>\n",
       "      <td>0.675904</td>\n",
       "      <td>0.593240</td>\n",
       "      <td>0.522255</td>\n",
       "      <td>0.555489</td>\n",
       "      <td>4</td>\n",
       "      <td>9</td>\n",
       "      <td>KMeans(n_clusters=9, random_state=4)</td>\n",
       "    </tr>\n",
       "    <tr>\n",
       "      <th>20</th>\n",
       "      <td>macosko2015</td>\n",
       "      <td>vae</td>\n",
       "      <td>2</td>\n",
       "      <td>0.664999</td>\n",
       "      <td>0.604194</td>\n",
       "      <td>0.507091</td>\n",
       "      <td>0.551400</td>\n",
       "      <td>0</td>\n",
       "      <td>10</td>\n",
       "      <td>KMeans(n_clusters=10, random_state=0)</td>\n",
       "    </tr>\n",
       "    <tr>\n",
       "      <th>21</th>\n",
       "      <td>macosko2015</td>\n",
       "      <td>vae</td>\n",
       "      <td>2</td>\n",
       "      <td>0.684268</td>\n",
       "      <td>0.613181</td>\n",
       "      <td>0.529220</td>\n",
       "      <td>0.568115</td>\n",
       "      <td>1</td>\n",
       "      <td>10</td>\n",
       "      <td>KMeans(n_clusters=10, random_state=1)</td>\n",
       "    </tr>\n",
       "    <tr>\n",
       "      <th>22</th>\n",
       "      <td>macosko2015</td>\n",
       "      <td>vae</td>\n",
       "      <td>2</td>\n",
       "      <td>0.684055</td>\n",
       "      <td>0.621508</td>\n",
       "      <td>0.531833</td>\n",
       "      <td>0.573185</td>\n",
       "      <td>2</td>\n",
       "      <td>10</td>\n",
       "      <td>KMeans(n_clusters=10, random_state=2)</td>\n",
       "    </tr>\n",
       "    <tr>\n",
       "      <th>23</th>\n",
       "      <td>macosko2015</td>\n",
       "      <td>vae</td>\n",
       "      <td>2</td>\n",
       "      <td>0.678909</td>\n",
       "      <td>0.623853</td>\n",
       "      <td>0.528830</td>\n",
       "      <td>0.572425</td>\n",
       "      <td>3</td>\n",
       "      <td>10</td>\n",
       "      <td>KMeans(n_clusters=10, random_state=3)</td>\n",
       "    </tr>\n",
       "    <tr>\n",
       "      <th>24</th>\n",
       "      <td>macosko2015</td>\n",
       "      <td>vae</td>\n",
       "      <td>2</td>\n",
       "      <td>0.679698</td>\n",
       "      <td>0.625220</td>\n",
       "      <td>0.530746</td>\n",
       "      <td>0.574123</td>\n",
       "      <td>4</td>\n",
       "      <td>10</td>\n",
       "      <td>KMeans(n_clusters=10, random_state=4)</td>\n",
       "    </tr>\n",
       "    <tr>\n",
       "      <th>25</th>\n",
       "      <td>macosko2015</td>\n",
       "      <td>vae</td>\n",
       "      <td>2</td>\n",
       "      <td>0.624585</td>\n",
       "      <td>0.622973</td>\n",
       "      <td>0.481235</td>\n",
       "      <td>0.543007</td>\n",
       "      <td>0</td>\n",
       "      <td>11</td>\n",
       "      <td>KMeans(n_clusters=11, random_state=0)</td>\n",
       "    </tr>\n",
       "    <tr>\n",
       "      <th>26</th>\n",
       "      <td>macosko2015</td>\n",
       "      <td>vae</td>\n",
       "      <td>2</td>\n",
       "      <td>0.611224</td>\n",
       "      <td>0.619761</td>\n",
       "      <td>0.472142</td>\n",
       "      <td>0.535973</td>\n",
       "      <td>1</td>\n",
       "      <td>11</td>\n",
       "      <td>KMeans(n_clusters=11, random_state=1)</td>\n",
       "    </tr>\n",
       "    <tr>\n",
       "      <th>27</th>\n",
       "      <td>macosko2015</td>\n",
       "      <td>vae</td>\n",
       "      <td>2</td>\n",
       "      <td>0.625683</td>\n",
       "      <td>0.622714</td>\n",
       "      <td>0.481333</td>\n",
       "      <td>0.542971</td>\n",
       "      <td>2</td>\n",
       "      <td>11</td>\n",
       "      <td>KMeans(n_clusters=11, random_state=2)</td>\n",
       "    </tr>\n",
       "    <tr>\n",
       "      <th>28</th>\n",
       "      <td>macosko2015</td>\n",
       "      <td>vae</td>\n",
       "      <td>2</td>\n",
       "      <td>0.611026</td>\n",
       "      <td>0.625521</td>\n",
       "      <td>0.473420</td>\n",
       "      <td>0.538945</td>\n",
       "      <td>3</td>\n",
       "      <td>11</td>\n",
       "      <td>KMeans(n_clusters=11, random_state=3)</td>\n",
       "    </tr>\n",
       "    <tr>\n",
       "      <th>29</th>\n",
       "      <td>macosko2015</td>\n",
       "      <td>vae</td>\n",
       "      <td>2</td>\n",
       "      <td>0.674692</td>\n",
       "      <td>0.624478</td>\n",
       "      <td>0.515804</td>\n",
       "      <td>0.564963</td>\n",
       "      <td>4</td>\n",
       "      <td>11</td>\n",
       "      <td>KMeans(n_clusters=11, random_state=4)</td>\n",
       "    </tr>\n",
       "    <tr>\n",
       "      <th>30</th>\n",
       "      <td>macosko2015</td>\n",
       "      <td>vae</td>\n",
       "      <td>2</td>\n",
       "      <td>0.619750</td>\n",
       "      <td>0.621924</td>\n",
       "      <td>0.468446</td>\n",
       "      <td>0.534384</td>\n",
       "      <td>0</td>\n",
       "      <td>12</td>\n",
       "      <td>KMeans(n_clusters=12, random_state=0)</td>\n",
       "    </tr>\n",
       "    <tr>\n",
       "      <th>31</th>\n",
       "      <td>macosko2015</td>\n",
       "      <td>vae</td>\n",
       "      <td>2</td>\n",
       "      <td>0.617089</td>\n",
       "      <td>0.623068</td>\n",
       "      <td>0.467483</td>\n",
       "      <td>0.534177</td>\n",
       "      <td>1</td>\n",
       "      <td>12</td>\n",
       "      <td>KMeans(n_clusters=12, random_state=1)</td>\n",
       "    </tr>\n",
       "    <tr>\n",
       "      <th>32</th>\n",
       "      <td>macosko2015</td>\n",
       "      <td>vae</td>\n",
       "      <td>2</td>\n",
       "      <td>0.613045</td>\n",
       "      <td>0.622330</td>\n",
       "      <td>0.464022</td>\n",
       "      <td>0.531642</td>\n",
       "      <td>2</td>\n",
       "      <td>12</td>\n",
       "      <td>KMeans(n_clusters=12, random_state=2)</td>\n",
       "    </tr>\n",
       "    <tr>\n",
       "      <th>33</th>\n",
       "      <td>macosko2015</td>\n",
       "      <td>vae</td>\n",
       "      <td>2</td>\n",
       "      <td>0.608803</td>\n",
       "      <td>0.630521</td>\n",
       "      <td>0.469396</td>\n",
       "      <td>0.538157</td>\n",
       "      <td>3</td>\n",
       "      <td>12</td>\n",
       "      <td>KMeans(n_clusters=12, random_state=3)</td>\n",
       "    </tr>\n",
       "    <tr>\n",
       "      <th>34</th>\n",
       "      <td>macosko2015</td>\n",
       "      <td>vae</td>\n",
       "      <td>2</td>\n",
       "      <td>0.620428</td>\n",
       "      <td>0.626787</td>\n",
       "      <td>0.471844</td>\n",
       "      <td>0.538389</td>\n",
       "      <td>4</td>\n",
       "      <td>12</td>\n",
       "      <td>KMeans(n_clusters=12, random_state=4)</td>\n",
       "    </tr>\n",
       "    <tr>\n",
       "      <th>35</th>\n",
       "      <td>macosko2015</td>\n",
       "      <td>vae</td>\n",
       "      <td>2</td>\n",
       "      <td>0.632339</td>\n",
       "      <td>0.625016</td>\n",
       "      <td>0.468406</td>\n",
       "      <td>0.535496</td>\n",
       "      <td>0</td>\n",
       "      <td>13</td>\n",
       "      <td>KMeans(n_clusters=13, random_state=0)</td>\n",
       "    </tr>\n",
       "    <tr>\n",
       "      <th>36</th>\n",
       "      <td>macosko2015</td>\n",
       "      <td>vae</td>\n",
       "      <td>2</td>\n",
       "      <td>0.631739</td>\n",
       "      <td>0.625013</td>\n",
       "      <td>0.468246</td>\n",
       "      <td>0.535390</td>\n",
       "      <td>1</td>\n",
       "      <td>13</td>\n",
       "      <td>KMeans(n_clusters=13, random_state=1)</td>\n",
       "    </tr>\n",
       "    <tr>\n",
       "      <th>37</th>\n",
       "      <td>macosko2015</td>\n",
       "      <td>vae</td>\n",
       "      <td>2</td>\n",
       "      <td>0.614832</td>\n",
       "      <td>0.635911</td>\n",
       "      <td>0.467241</td>\n",
       "      <td>0.538681</td>\n",
       "      <td>2</td>\n",
       "      <td>13</td>\n",
       "      <td>KMeans(n_clusters=13, random_state=2)</td>\n",
       "    </tr>\n",
       "    <tr>\n",
       "      <th>38</th>\n",
       "      <td>macosko2015</td>\n",
       "      <td>vae</td>\n",
       "      <td>2</td>\n",
       "      <td>0.631565</td>\n",
       "      <td>0.624995</td>\n",
       "      <td>0.467920</td>\n",
       "      <td>0.535170</td>\n",
       "      <td>3</td>\n",
       "      <td>13</td>\n",
       "      <td>KMeans(n_clusters=13, random_state=3)</td>\n",
       "    </tr>\n",
       "    <tr>\n",
       "      <th>39</th>\n",
       "      <td>macosko2015</td>\n",
       "      <td>vae</td>\n",
       "      <td>2</td>\n",
       "      <td>0.608012</td>\n",
       "      <td>0.637831</td>\n",
       "      <td>0.462995</td>\n",
       "      <td>0.536529</td>\n",
       "      <td>4</td>\n",
       "      <td>13</td>\n",
       "      <td>KMeans(n_clusters=13, random_state=4)</td>\n",
       "    </tr>\n",
       "    <tr>\n",
       "      <th>40</th>\n",
       "      <td>macosko2015</td>\n",
       "      <td>vae</td>\n",
       "      <td>2</td>\n",
       "      <td>0.616962</td>\n",
       "      <td>0.635586</td>\n",
       "      <td>0.458378</td>\n",
       "      <td>0.532629</td>\n",
       "      <td>0</td>\n",
       "      <td>14</td>\n",
       "      <td>KMeans(n_clusters=14, random_state=0)</td>\n",
       "    </tr>\n",
       "    <tr>\n",
       "      <th>41</th>\n",
       "      <td>macosko2015</td>\n",
       "      <td>vae</td>\n",
       "      <td>2</td>\n",
       "      <td>0.600284</td>\n",
       "      <td>0.636179</td>\n",
       "      <td>0.448233</td>\n",
       "      <td>0.525919</td>\n",
       "      <td>1</td>\n",
       "      <td>14</td>\n",
       "      <td>KMeans(n_clusters=14, random_state=1)</td>\n",
       "    </tr>\n",
       "    <tr>\n",
       "      <th>42</th>\n",
       "      <td>macosko2015</td>\n",
       "      <td>vae</td>\n",
       "      <td>2</td>\n",
       "      <td>0.608196</td>\n",
       "      <td>0.636666</td>\n",
       "      <td>0.452797</td>\n",
       "      <td>0.529216</td>\n",
       "      <td>2</td>\n",
       "      <td>14</td>\n",
       "      <td>KMeans(n_clusters=14, random_state=2)</td>\n",
       "    </tr>\n",
       "    <tr>\n",
       "      <th>43</th>\n",
       "      <td>macosko2015</td>\n",
       "      <td>vae</td>\n",
       "      <td>2</td>\n",
       "      <td>0.599432</td>\n",
       "      <td>0.634221</td>\n",
       "      <td>0.446723</td>\n",
       "      <td>0.524211</td>\n",
       "      <td>3</td>\n",
       "      <td>14</td>\n",
       "      <td>KMeans(n_clusters=14, random_state=3)</td>\n",
       "    </tr>\n",
       "    <tr>\n",
       "      <th>44</th>\n",
       "      <td>macosko2015</td>\n",
       "      <td>vae</td>\n",
       "      <td>2</td>\n",
       "      <td>0.620548</td>\n",
       "      <td>0.635151</td>\n",
       "      <td>0.460857</td>\n",
       "      <td>0.534145</td>\n",
       "      <td>4</td>\n",
       "      <td>14</td>\n",
       "      <td>KMeans(n_clusters=14, random_state=4)</td>\n",
       "    </tr>\n",
       "    <tr>\n",
       "      <th>45</th>\n",
       "      <td>macosko2015</td>\n",
       "      <td>vae</td>\n",
       "      <td>2</td>\n",
       "      <td>0.562586</td>\n",
       "      <td>0.631456</td>\n",
       "      <td>0.416862</td>\n",
       "      <td>0.502195</td>\n",
       "      <td>0</td>\n",
       "      <td>15</td>\n",
       "      <td>KMeans(n_clusters=15, random_state=0)</td>\n",
       "    </tr>\n",
       "    <tr>\n",
       "      <th>46</th>\n",
       "      <td>macosko2015</td>\n",
       "      <td>vae</td>\n",
       "      <td>2</td>\n",
       "      <td>0.593454</td>\n",
       "      <td>0.639232</td>\n",
       "      <td>0.438241</td>\n",
       "      <td>0.519990</td>\n",
       "      <td>1</td>\n",
       "      <td>15</td>\n",
       "      <td>KMeans(n_clusters=15, random_state=1)</td>\n",
       "    </tr>\n",
       "    <tr>\n",
       "      <th>47</th>\n",
       "      <td>macosko2015</td>\n",
       "      <td>vae</td>\n",
       "      <td>2</td>\n",
       "      <td>0.601666</td>\n",
       "      <td>0.636831</td>\n",
       "      <td>0.443699</td>\n",
       "      <td>0.523005</td>\n",
       "      <td>2</td>\n",
       "      <td>15</td>\n",
       "      <td>KMeans(n_clusters=15, random_state=2)</td>\n",
       "    </tr>\n",
       "    <tr>\n",
       "      <th>48</th>\n",
       "      <td>macosko2015</td>\n",
       "      <td>vae</td>\n",
       "      <td>2</td>\n",
       "      <td>0.604679</td>\n",
       "      <td>0.636656</td>\n",
       "      <td>0.445665</td>\n",
       "      <td>0.524309</td>\n",
       "      <td>3</td>\n",
       "      <td>15</td>\n",
       "      <td>KMeans(n_clusters=15, random_state=3)</td>\n",
       "    </tr>\n",
       "    <tr>\n",
       "      <th>49</th>\n",
       "      <td>macosko2015</td>\n",
       "      <td>vae</td>\n",
       "      <td>2</td>\n",
       "      <td>0.597489</td>\n",
       "      <td>0.637297</td>\n",
       "      <td>0.440048</td>\n",
       "      <td>0.520615</td>\n",
       "      <td>4</td>\n",
       "      <td>15</td>\n",
       "      <td>KMeans(n_clusters=15, random_state=4)</td>\n",
       "    </tr>\n",
       "    <tr>\n",
       "      <th>50</th>\n",
       "      <td>macosko2015</td>\n",
       "      <td>vae</td>\n",
       "      <td>2</td>\n",
       "      <td>0.529300</td>\n",
       "      <td>0.639660</td>\n",
       "      <td>0.390567</td>\n",
       "      <td>0.485000</td>\n",
       "      <td>0</td>\n",
       "      <td>16</td>\n",
       "      <td>KMeans(n_clusters=16, random_state=0)</td>\n",
       "    </tr>\n",
       "    <tr>\n",
       "      <th>51</th>\n",
       "      <td>macosko2015</td>\n",
       "      <td>vae</td>\n",
       "      <td>2</td>\n",
       "      <td>0.539082</td>\n",
       "      <td>0.637726</td>\n",
       "      <td>0.397616</td>\n",
       "      <td>0.489829</td>\n",
       "      <td>1</td>\n",
       "      <td>16</td>\n",
       "      <td>KMeans(n_clusters=16, random_state=1)</td>\n",
       "    </tr>\n",
       "    <tr>\n",
       "      <th>52</th>\n",
       "      <td>macosko2015</td>\n",
       "      <td>vae</td>\n",
       "      <td>2</td>\n",
       "      <td>0.529710</td>\n",
       "      <td>0.639697</td>\n",
       "      <td>0.390893</td>\n",
       "      <td>0.485262</td>\n",
       "      <td>2</td>\n",
       "      <td>16</td>\n",
       "      <td>KMeans(n_clusters=16, random_state=2)</td>\n",
       "    </tr>\n",
       "    <tr>\n",
       "      <th>53</th>\n",
       "      <td>macosko2015</td>\n",
       "      <td>vae</td>\n",
       "      <td>2</td>\n",
       "      <td>0.529386</td>\n",
       "      <td>0.639053</td>\n",
       "      <td>0.390176</td>\n",
       "      <td>0.484524</td>\n",
       "      <td>3</td>\n",
       "      <td>16</td>\n",
       "      <td>KMeans(n_clusters=16, random_state=3)</td>\n",
       "    </tr>\n",
       "    <tr>\n",
       "      <th>54</th>\n",
       "      <td>macosko2015</td>\n",
       "      <td>vae</td>\n",
       "      <td>2</td>\n",
       "      <td>0.533834</td>\n",
       "      <td>0.637528</td>\n",
       "      <td>0.393514</td>\n",
       "      <td>0.486646</td>\n",
       "      <td>4</td>\n",
       "      <td>16</td>\n",
       "      <td>KMeans(n_clusters=16, random_state=4)</td>\n",
       "    </tr>\n",
       "    <tr>\n",
       "      <th>55</th>\n",
       "      <td>macosko2015</td>\n",
       "      <td>vae</td>\n",
       "      <td>2</td>\n",
       "      <td>0.523939</td>\n",
       "      <td>0.645380</td>\n",
       "      <td>0.384390</td>\n",
       "      <td>0.481812</td>\n",
       "      <td>0</td>\n",
       "      <td>17</td>\n",
       "      <td>KMeans(n_clusters=17, random_state=0)</td>\n",
       "    </tr>\n",
       "    <tr>\n",
       "      <th>56</th>\n",
       "      <td>macosko2015</td>\n",
       "      <td>vae</td>\n",
       "      <td>2</td>\n",
       "      <td>0.537730</td>\n",
       "      <td>0.638917</td>\n",
       "      <td>0.392457</td>\n",
       "      <td>0.486240</td>\n",
       "      <td>1</td>\n",
       "      <td>17</td>\n",
       "      <td>KMeans(n_clusters=17, random_state=1)</td>\n",
       "    </tr>\n",
       "    <tr>\n",
       "      <th>57</th>\n",
       "      <td>macosko2015</td>\n",
       "      <td>vae</td>\n",
       "      <td>2</td>\n",
       "      <td>0.525132</td>\n",
       "      <td>0.645152</td>\n",
       "      <td>0.385459</td>\n",
       "      <td>0.482587</td>\n",
       "      <td>2</td>\n",
       "      <td>17</td>\n",
       "      <td>KMeans(n_clusters=17, random_state=2)</td>\n",
       "    </tr>\n",
       "    <tr>\n",
       "      <th>58</th>\n",
       "      <td>macosko2015</td>\n",
       "      <td>vae</td>\n",
       "      <td>2</td>\n",
       "      <td>0.535975</td>\n",
       "      <td>0.640715</td>\n",
       "      <td>0.393386</td>\n",
       "      <td>0.487473</td>\n",
       "      <td>3</td>\n",
       "      <td>17</td>\n",
       "      <td>KMeans(n_clusters=17, random_state=3)</td>\n",
       "    </tr>\n",
       "    <tr>\n",
       "      <th>59</th>\n",
       "      <td>macosko2015</td>\n",
       "      <td>vae</td>\n",
       "      <td>2</td>\n",
       "      <td>0.529528</td>\n",
       "      <td>0.644964</td>\n",
       "      <td>0.388920</td>\n",
       "      <td>0.485237</td>\n",
       "      <td>4</td>\n",
       "      <td>17</td>\n",
       "      <td>KMeans(n_clusters=17, random_state=4)</td>\n",
       "    </tr>\n",
       "  </tbody>\n",
       "</table>\n",
       "</div>"
      ],
      "text/plain": [
       "        dataset class_ dim  silhouette  homogeneity  completeness  v_measure  \\\n",
       "0   macosko2015    vae   2    0.710901     0.552989      0.559097   0.556026   \n",
       "1   macosko2015    vae   2    0.710883     0.553118      0.559214   0.556149   \n",
       "2   macosko2015    vae   2    0.711158     0.552863      0.559435   0.556129   \n",
       "3   macosko2015    vae   2    0.711263     0.552630      0.559529   0.556058   \n",
       "4   macosko2015    vae   2    0.711158     0.552863      0.559435   0.556129   \n",
       "5   macosko2015    vae   2    0.715679     0.571734      0.566965   0.569339   \n",
       "6   macosko2015    vae   2    0.715662     0.571703      0.566920   0.569301   \n",
       "7   macosko2015    vae   2    0.715572     0.572174      0.567146   0.569649   \n",
       "8   macosko2015    vae   2    0.715438     0.572230      0.566962   0.569584   \n",
       "9   macosko2015    vae   2    0.715863     0.571365      0.566878   0.569113   \n",
       "10  macosko2015    vae   2    0.667819     0.587042      0.519117   0.550994   \n",
       "11  macosko2015    vae   2    0.665141     0.588691      0.518232   0.551219   \n",
       "12  macosko2015    vae   2    0.667876     0.586771      0.519034   0.550828   \n",
       "13  macosko2015    vae   2    0.663887     0.589305      0.517669   0.551169   \n",
       "14  macosko2015    vae   2    0.668828     0.586209      0.519372   0.550770   \n",
       "15  macosko2015    vae   2    0.673567     0.595233      0.522017   0.556226   \n",
       "16  macosko2015    vae   2    0.661921     0.601942      0.518416   0.557065   \n",
       "17  macosko2015    vae   2    0.670816     0.597629      0.522060   0.557294   \n",
       "18  macosko2015    vae   2    0.676096     0.593189      0.522379   0.555537   \n",
       "19  macosko2015    vae   2    0.675904     0.593240      0.522255   0.555489   \n",
       "20  macosko2015    vae   2    0.664999     0.604194      0.507091   0.551400   \n",
       "21  macosko2015    vae   2    0.684268     0.613181      0.529220   0.568115   \n",
       "22  macosko2015    vae   2    0.684055     0.621508      0.531833   0.573185   \n",
       "23  macosko2015    vae   2    0.678909     0.623853      0.528830   0.572425   \n",
       "24  macosko2015    vae   2    0.679698     0.625220      0.530746   0.574123   \n",
       "25  macosko2015    vae   2    0.624585     0.622973      0.481235   0.543007   \n",
       "26  macosko2015    vae   2    0.611224     0.619761      0.472142   0.535973   \n",
       "27  macosko2015    vae   2    0.625683     0.622714      0.481333   0.542971   \n",
       "28  macosko2015    vae   2    0.611026     0.625521      0.473420   0.538945   \n",
       "29  macosko2015    vae   2    0.674692     0.624478      0.515804   0.564963   \n",
       "30  macosko2015    vae   2    0.619750     0.621924      0.468446   0.534384   \n",
       "31  macosko2015    vae   2    0.617089     0.623068      0.467483   0.534177   \n",
       "32  macosko2015    vae   2    0.613045     0.622330      0.464022   0.531642   \n",
       "33  macosko2015    vae   2    0.608803     0.630521      0.469396   0.538157   \n",
       "34  macosko2015    vae   2    0.620428     0.626787      0.471844   0.538389   \n",
       "35  macosko2015    vae   2    0.632339     0.625016      0.468406   0.535496   \n",
       "36  macosko2015    vae   2    0.631739     0.625013      0.468246   0.535390   \n",
       "37  macosko2015    vae   2    0.614832     0.635911      0.467241   0.538681   \n",
       "38  macosko2015    vae   2    0.631565     0.624995      0.467920   0.535170   \n",
       "39  macosko2015    vae   2    0.608012     0.637831      0.462995   0.536529   \n",
       "40  macosko2015    vae   2    0.616962     0.635586      0.458378   0.532629   \n",
       "41  macosko2015    vae   2    0.600284     0.636179      0.448233   0.525919   \n",
       "42  macosko2015    vae   2    0.608196     0.636666      0.452797   0.529216   \n",
       "43  macosko2015    vae   2    0.599432     0.634221      0.446723   0.524211   \n",
       "44  macosko2015    vae   2    0.620548     0.635151      0.460857   0.534145   \n",
       "45  macosko2015    vae   2    0.562586     0.631456      0.416862   0.502195   \n",
       "46  macosko2015    vae   2    0.593454     0.639232      0.438241   0.519990   \n",
       "47  macosko2015    vae   2    0.601666     0.636831      0.443699   0.523005   \n",
       "48  macosko2015    vae   2    0.604679     0.636656      0.445665   0.524309   \n",
       "49  macosko2015    vae   2    0.597489     0.637297      0.440048   0.520615   \n",
       "50  macosko2015    vae   2    0.529300     0.639660      0.390567   0.485000   \n",
       "51  macosko2015    vae   2    0.539082     0.637726      0.397616   0.489829   \n",
       "52  macosko2015    vae   2    0.529710     0.639697      0.390893   0.485262   \n",
       "53  macosko2015    vae   2    0.529386     0.639053      0.390176   0.484524   \n",
       "54  macosko2015    vae   2    0.533834     0.637528      0.393514   0.486646   \n",
       "55  macosko2015    vae   2    0.523939     0.645380      0.384390   0.481812   \n",
       "56  macosko2015    vae   2    0.537730     0.638917      0.392457   0.486240   \n",
       "57  macosko2015    vae   2    0.525132     0.645152      0.385459   0.482587   \n",
       "58  macosko2015    vae   2    0.535975     0.640715      0.393386   0.487473   \n",
       "59  macosko2015    vae   2    0.529528     0.644964      0.388920   0.485237   \n",
       "\n",
       "   init_ n_clusters                                  model  \n",
       "0      0          6   KMeans(n_clusters=6, random_state=0)  \n",
       "1      1          6   KMeans(n_clusters=6, random_state=1)  \n",
       "2      2          6   KMeans(n_clusters=6, random_state=2)  \n",
       "3      3          6   KMeans(n_clusters=6, random_state=3)  \n",
       "4      4          6   KMeans(n_clusters=6, random_state=4)  \n",
       "5      0          7   KMeans(n_clusters=7, random_state=0)  \n",
       "6      1          7   KMeans(n_clusters=7, random_state=1)  \n",
       "7      2          7   KMeans(n_clusters=7, random_state=2)  \n",
       "8      3          7   KMeans(n_clusters=7, random_state=3)  \n",
       "9      4          7   KMeans(n_clusters=7, random_state=4)  \n",
       "10     0          8                 KMeans(random_state=0)  \n",
       "11     1          8                 KMeans(random_state=1)  \n",
       "12     2          8                 KMeans(random_state=2)  \n",
       "13     3          8                 KMeans(random_state=3)  \n",
       "14     4          8                 KMeans(random_state=4)  \n",
       "15     0          9   KMeans(n_clusters=9, random_state=0)  \n",
       "16     1          9   KMeans(n_clusters=9, random_state=1)  \n",
       "17     2          9   KMeans(n_clusters=9, random_state=2)  \n",
       "18     3          9   KMeans(n_clusters=9, random_state=3)  \n",
       "19     4          9   KMeans(n_clusters=9, random_state=4)  \n",
       "20     0         10  KMeans(n_clusters=10, random_state=0)  \n",
       "21     1         10  KMeans(n_clusters=10, random_state=1)  \n",
       "22     2         10  KMeans(n_clusters=10, random_state=2)  \n",
       "23     3         10  KMeans(n_clusters=10, random_state=3)  \n",
       "24     4         10  KMeans(n_clusters=10, random_state=4)  \n",
       "25     0         11  KMeans(n_clusters=11, random_state=0)  \n",
       "26     1         11  KMeans(n_clusters=11, random_state=1)  \n",
       "27     2         11  KMeans(n_clusters=11, random_state=2)  \n",
       "28     3         11  KMeans(n_clusters=11, random_state=3)  \n",
       "29     4         11  KMeans(n_clusters=11, random_state=4)  \n",
       "30     0         12  KMeans(n_clusters=12, random_state=0)  \n",
       "31     1         12  KMeans(n_clusters=12, random_state=1)  \n",
       "32     2         12  KMeans(n_clusters=12, random_state=2)  \n",
       "33     3         12  KMeans(n_clusters=12, random_state=3)  \n",
       "34     4         12  KMeans(n_clusters=12, random_state=4)  \n",
       "35     0         13  KMeans(n_clusters=13, random_state=0)  \n",
       "36     1         13  KMeans(n_clusters=13, random_state=1)  \n",
       "37     2         13  KMeans(n_clusters=13, random_state=2)  \n",
       "38     3         13  KMeans(n_clusters=13, random_state=3)  \n",
       "39     4         13  KMeans(n_clusters=13, random_state=4)  \n",
       "40     0         14  KMeans(n_clusters=14, random_state=0)  \n",
       "41     1         14  KMeans(n_clusters=14, random_state=1)  \n",
       "42     2         14  KMeans(n_clusters=14, random_state=2)  \n",
       "43     3         14  KMeans(n_clusters=14, random_state=3)  \n",
       "44     4         14  KMeans(n_clusters=14, random_state=4)  \n",
       "45     0         15  KMeans(n_clusters=15, random_state=0)  \n",
       "46     1         15  KMeans(n_clusters=15, random_state=1)  \n",
       "47     2         15  KMeans(n_clusters=15, random_state=2)  \n",
       "48     3         15  KMeans(n_clusters=15, random_state=3)  \n",
       "49     4         15  KMeans(n_clusters=15, random_state=4)  \n",
       "50     0         16  KMeans(n_clusters=16, random_state=0)  \n",
       "51     1         16  KMeans(n_clusters=16, random_state=1)  \n",
       "52     2         16  KMeans(n_clusters=16, random_state=2)  \n",
       "53     3         16  KMeans(n_clusters=16, random_state=3)  \n",
       "54     4         16  KMeans(n_clusters=16, random_state=4)  \n",
       "55     0         17  KMeans(n_clusters=17, random_state=0)  \n",
       "56     1         17  KMeans(n_clusters=17, random_state=1)  \n",
       "57     2         17  KMeans(n_clusters=17, random_state=2)  \n",
       "58     3         17  KMeans(n_clusters=17, random_state=3)  \n",
       "59     4         17  KMeans(n_clusters=17, random_state=4)  "
      ]
     },
     "execution_count": 64,
     "metadata": {},
     "output_type": "execute_result"
    }
   ],
   "source": [
    "get_cluster_metrics(projection_df.iloc[0], n_init=5)"
   ]
  },
  {
   "cell_type": "code",
   "execution_count": null,
   "metadata": {},
   "outputs": [],
   "source": []
  },
  {
   "cell_type": "code",
   "execution_count": null,
   "metadata": {},
   "outputs": [],
   "source": []
  },
  {
   "cell_type": "code",
   "execution_count": null,
   "metadata": {},
   "outputs": [],
   "source": []
  },
  {
   "cell_type": "code",
   "execution_count": null,
   "metadata": {},
   "outputs": [],
   "source": []
  },
  {
   "cell_type": "code",
   "execution_count": null,
   "metadata": {},
   "outputs": [],
   "source": []
  },
  {
   "cell_type": "code",
   "execution_count": null,
   "metadata": {},
   "outputs": [],
   "source": []
  },
  {
   "cell_type": "code",
   "execution_count": null,
   "metadata": {},
   "outputs": [],
   "source": []
  }
 ],
 "metadata": {
  "kernelspec": {
   "display_name": "Python 3",
   "language": "python",
   "name": "python3"
  },
  "language_info": {
   "codemirror_mode": {
    "name": "ipython",
    "version": 3
   },
   "file_extension": ".py",
   "mimetype": "text/x-python",
   "name": "python",
   "nbconvert_exporter": "python",
   "pygments_lexer": "ipython3",
   "version": "3.9.1"
  }
 },
 "nbformat": 4,
 "nbformat_minor": 2
}
