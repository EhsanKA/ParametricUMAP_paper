{
 "cells": [
  {
   "cell_type": "code",
   "execution_count": 1,
   "metadata": {
    "ExecuteTime": {
     "end_time": "2020-08-22T05:05:40.813242Z",
     "start_time": "2020-08-22T05:05:40.799943Z"
    }
   },
   "outputs": [],
   "source": [
    "# reload packages\n",
    "%load_ext autoreload\n",
    "%autoreload 2"
   ]
  },
  {
   "cell_type": "markdown",
   "metadata": {},
   "source": [
    "### Choose GPU (this may not be needed on your computer)"
   ]
  },
  {
   "cell_type": "code",
   "execution_count": 2,
   "metadata": {
    "ExecuteTime": {
     "end_time": "2020-08-22T05:05:40.824206Z",
     "start_time": "2020-08-22T05:05:40.814114Z"
    }
   },
   "outputs": [
    {
     "name": "stdout",
     "output_type": "stream",
     "text": [
      "env: CUDA_DEVICE_ORDER=PCI_BUS_ID\n",
      "env: CUDA_VISIBLE_DEVICES=1\n"
     ]
    }
   ],
   "source": [
    "%env CUDA_DEVICE_ORDER=PCI_BUS_ID\n",
    "%env CUDA_VISIBLE_DEVICES=1"
   ]
  },
  {
   "cell_type": "code",
   "execution_count": 3,
   "metadata": {
    "ExecuteTime": {
     "end_time": "2020-08-22T05:05:44.058655Z",
     "start_time": "2020-08-22T05:05:40.825101Z"
    }
   },
   "outputs": [
    {
     "name": "stdout",
     "output_type": "stream",
     "text": [
      "[PhysicalDevice(name='/physical_device:GPU:0', device_type='GPU')]\n"
     ]
    }
   ],
   "source": [
    "import tensorflow as tf\n",
    "gpu_devices = tf.config.experimental.list_physical_devices('GPU')\n",
    "if len(gpu_devices)>0:\n",
    "    tf.config.experimental.set_memory_growth(gpu_devices[0], True)\n",
    "print(gpu_devices)\n",
    "tf.keras.backend.clear_session()"
   ]
  },
  {
   "cell_type": "markdown",
   "metadata": {},
   "source": [
    "### load packages"
   ]
  },
  {
   "cell_type": "code",
   "execution_count": 4,
   "metadata": {
    "ExecuteTime": {
     "end_time": "2020-08-22T05:05:48.895640Z",
     "start_time": "2020-08-22T05:05:44.061617Z"
    }
   },
   "outputs": [
    {
     "name": "stderr",
     "output_type": "stream",
     "text": [
      "/mnt/cube/tsainbur/conda_envs/tpy3/lib/python3.6/site-packages/tqdm/autonotebook/__init__.py:14: TqdmExperimentalWarning: Using `tqdm.autonotebook.tqdm` in notebook mode. Use `tqdm.tqdm` instead to force console mode (e.g. in jupyter console)\n",
      "  \" (e.g. in jupyter console)\", TqdmExperimentalWarning)\n"
     ]
    }
   ],
   "source": [
    "from tfumap.umap import tfUMAP"
   ]
  },
  {
   "cell_type": "code",
   "execution_count": 5,
   "metadata": {
    "ExecuteTime": {
     "end_time": "2020-08-22T05:05:49.040706Z",
     "start_time": "2020-08-22T05:05:48.897944Z"
    }
   },
   "outputs": [],
   "source": [
    "import tensorflow as tf\n",
    "import numpy as np\n",
    "import matplotlib.pyplot as plt\n",
    "from tqdm.autonotebook import tqdm\n",
    "import umap\n",
    "import pandas as pd"
   ]
  },
  {
   "cell_type": "markdown",
   "metadata": {},
   "source": [
    "### Load dataset"
   ]
  },
  {
   "cell_type": "code",
   "execution_count": 6,
   "metadata": {
    "ExecuteTime": {
     "end_time": "2020-08-22T05:05:49.082871Z",
     "start_time": "2020-08-22T05:05:49.042948Z"
    }
   },
   "outputs": [],
   "source": [
    "dataset = 'fmnist'"
   ]
  },
  {
   "cell_type": "code",
   "execution_count": 7,
   "metadata": {
    "ExecuteTime": {
     "end_time": "2020-08-22T05:05:49.123183Z",
     "start_time": "2020-08-22T05:05:49.084636Z"
    }
   },
   "outputs": [],
   "source": [
    "from tensorflow.keras.datasets import fashion_mnist"
   ]
  },
  {
   "cell_type": "code",
   "execution_count": 8,
   "metadata": {
    "ExecuteTime": {
     "end_time": "2020-08-22T05:05:49.681255Z",
     "start_time": "2020-08-22T05:05:49.124900Z"
    }
   },
   "outputs": [
    {
     "name": "stdout",
     "output_type": "stream",
     "text": [
      "50000 10000 10000\n"
     ]
    }
   ],
   "source": [
    "# load dataset\n",
    "(train_images, Y_train), (test_images, Y_test) = fashion_mnist.load_data()\n",
    "X_train = (train_images/255.).astype('float32')\n",
    "X_test = (test_images/255.).astype('float32')\n",
    "X_train = X_train.reshape((len(X_train), np.product(np.shape(X_train)[1:])))\n",
    "X_test = X_test.reshape((len(X_test), np.product(np.shape(X_test)[1:])))\n",
    "\n",
    "# subset a validation set\n",
    "n_valid = 10000\n",
    "X_valid = X_train[-n_valid:]\n",
    "Y_valid = Y_train[-n_valid:]\n",
    "X_train = X_train[:-n_valid]\n",
    "Y_train = Y_train[:-n_valid]\n",
    "\n",
    "# flatten X\n",
    "X_train_flat = X_train.reshape((len(X_train), np.product(np.shape(X_train)[1:])))\n",
    "X_test_flat = X_test.reshape((len(X_test), np.product(np.shape(X_test)[1:])))\n",
    "X_valid_flat= X_valid.reshape((len(X_valid), np.product(np.shape(X_valid)[1:])))\n",
    "print(len(X_train), len(X_valid), len(X_test))"
   ]
  },
  {
   "cell_type": "markdown",
   "metadata": {},
   "source": [
    "### define networks"
   ]
  },
  {
   "cell_type": "code",
   "execution_count": 9,
   "metadata": {
    "ExecuteTime": {
     "end_time": "2020-08-22T05:05:49.719959Z",
     "start_time": "2020-08-22T05:05:49.683286Z"
    }
   },
   "outputs": [],
   "source": [
    "dims = (28,28,1)\n",
    "n_components = 64"
   ]
  },
  {
   "cell_type": "code",
   "execution_count": 10,
   "metadata": {
    "ExecuteTime": {
     "end_time": "2020-08-22T05:05:53.570605Z",
     "start_time": "2020-08-22T05:05:49.721554Z"
    }
   },
   "outputs": [],
   "source": [
    "encoder = tf.keras.Sequential([\n",
    "    tf.keras.layers.InputLayer(input_shape=dims),\n",
    "    tf.keras.layers.Conv2D(\n",
    "        filters=64, kernel_size=3, strides=(2, 2), activation=\"relu\"\n",
    "    ),\n",
    "    tf.keras.layers.Conv2D(\n",
    "        filters=128, kernel_size=3, strides=(2, 2), activation=\"relu\"\n",
    "    ),\n",
    "\n",
    "    tf.keras.layers.Flatten(),\n",
    "    tf.keras.layers.Dense(units=512, activation=\"relu\"),\n",
    "    tf.keras.layers.Dense(units=n_components),\n",
    "])"
   ]
  },
  {
   "cell_type": "code",
   "execution_count": 11,
   "metadata": {
    "ExecuteTime": {
     "end_time": "2020-08-22T05:05:53.881992Z",
     "start_time": "2020-08-22T05:05:53.573792Z"
    }
   },
   "outputs": [],
   "source": [
    "decoder = tf.keras.Sequential([\n",
    "    tf.keras.layers.InputLayer(input_shape=(n_components)),\n",
    "    tf.keras.layers.Dense(units=512, activation=\"relu\"),\n",
    "    tf.keras.layers.Dense(units=7 * 7 * 256, activation=\"relu\"),\n",
    "    tf.keras.layers.Reshape(target_shape=(7, 7, 256)),\n",
    "    tf.keras.layers.Conv2DTranspose(\n",
    "        filters=128, kernel_size=3, strides=(2, 2), padding=\"SAME\", activation=\"relu\"\n",
    "    ),\n",
    "    tf.keras.layers.Conv2DTranspose(\n",
    "        filters=64, kernel_size=3, strides=(2, 2), padding=\"SAME\", activation=\"relu\"\n",
    "    ),\n",
    "    tf.keras.layers.Conv2DTranspose(\n",
    "        filters=1, kernel_size=3, strides=(1, 1), padding=\"SAME\", activation=\"sigmoid\"\n",
    "    )\n",
    "])"
   ]
  },
  {
   "cell_type": "code",
   "execution_count": 12,
   "metadata": {
    "ExecuteTime": {
     "end_time": "2020-08-22T05:05:54.043325Z",
     "start_time": "2020-08-22T05:05:53.883504Z"
    }
   },
   "outputs": [],
   "source": [
    "input_img = tf.keras.Input(dims)\n",
    "output_img = decoder(encoder(input_img))\n",
    "autoencoder = tf.keras.Model(input_img, output_img)"
   ]
  },
  {
   "cell_type": "code",
   "execution_count": 13,
   "metadata": {
    "ExecuteTime": {
     "end_time": "2020-08-22T05:05:54.145289Z",
     "start_time": "2020-08-22T05:05:54.044865Z"
    }
   },
   "outputs": [],
   "source": [
    "autoencoder.compile(optimizer='adam', loss='binary_crossentropy')"
   ]
  },
  {
   "cell_type": "code",
   "execution_count": 14,
   "metadata": {
    "ExecuteTime": {
     "end_time": "2020-08-22T05:13:11.793537Z",
     "start_time": "2020-08-22T05:05:54.147884Z"
    },
    "scrolled": true
   },
   "outputs": [
    {
     "name": "stdout",
     "output_type": "stream",
     "text": [
      "Epoch 1/50\n",
      "196/196 [==============================] - 12s 61ms/step - loss: 0.3511\n",
      "Epoch 2/50\n",
      "196/196 [==============================] - 11s 55ms/step - loss: 0.2881\n",
      "Epoch 3/50\n",
      "196/196 [==============================] - 11s 54ms/step - loss: 0.2777\n",
      "Epoch 4/50\n",
      "196/196 [==============================] - 11s 54ms/step - loss: 0.2725\n",
      "Epoch 5/50\n",
      "196/196 [==============================] - 9s 46ms/step - loss: 0.2693\n",
      "Epoch 6/50\n",
      "196/196 [==============================] - 9s 45ms/step - loss: 0.2670\n",
      "Epoch 7/50\n",
      "196/196 [==============================] - 9s 44ms/step - loss: 0.2654\n",
      "Epoch 8/50\n",
      "196/196 [==============================] - 9s 44ms/step - loss: 0.2640\n",
      "Epoch 9/50\n",
      "196/196 [==============================] - 9s 45ms/step - loss: 0.2629\n",
      "Epoch 10/50\n",
      "196/196 [==============================] - 9s 45ms/step - loss: 0.2621\n",
      "Epoch 11/50\n",
      "196/196 [==============================] - 9s 44ms/step - loss: 0.2613\n",
      "Epoch 12/50\n",
      "196/196 [==============================] - 9s 44ms/step - loss: 0.2606\n",
      "Epoch 13/50\n",
      "196/196 [==============================] - 9s 44ms/step - loss: 0.2599\n",
      "Epoch 14/50\n",
      "196/196 [==============================] - 9s 45ms/step - loss: 0.2594\n",
      "Epoch 15/50\n",
      "196/196 [==============================] - 9s 45ms/step - loss: 0.2589\n",
      "Epoch 16/50\n",
      "196/196 [==============================] - 9s 44ms/step - loss: 0.2584\n",
      "Epoch 17/50\n",
      "196/196 [==============================] - 9s 44ms/step - loss: 0.2580\n",
      "Epoch 18/50\n",
      "196/196 [==============================] - 9s 44ms/step - loss: 0.2576\n",
      "Epoch 19/50\n",
      "196/196 [==============================] - 9s 44ms/step - loss: 0.2572\n",
      "Epoch 20/50\n",
      "196/196 [==============================] - 9s 45ms/step - loss: 0.2570\n",
      "Epoch 21/50\n",
      "196/196 [==============================] - 9s 44ms/step - loss: 0.2567\n",
      "Epoch 22/50\n",
      "196/196 [==============================] - 9s 44ms/step - loss: 0.2563\n",
      "Epoch 23/50\n",
      "196/196 [==============================] - 9s 44ms/step - loss: 0.2560\n",
      "Epoch 24/50\n",
      "196/196 [==============================] - 9s 44ms/step - loss: 0.2557\n",
      "Epoch 25/50\n",
      "196/196 [==============================] - 9s 44ms/step - loss: 0.2557\n",
      "Epoch 26/50\n",
      "196/196 [==============================] - 9s 45ms/step - loss: 0.2552\n",
      "Epoch 27/50\n",
      "196/196 [==============================] - 9s 45ms/step - loss: 0.2551\n",
      "Epoch 28/50\n",
      "196/196 [==============================] - 9s 44ms/step - loss: 0.2548\n",
      "Epoch 29/50\n",
      "196/196 [==============================] - 9s 46ms/step - loss: 0.2546\n",
      "Epoch 30/50\n",
      "196/196 [==============================] - 9s 45ms/step - loss: 0.2545\n",
      "Epoch 31/50\n",
      "196/196 [==============================] - 9s 45ms/step - loss: 0.2543\n",
      "Epoch 32/50\n",
      "196/196 [==============================] - 9s 44ms/step - loss: 0.2539\n",
      "Epoch 33/50\n",
      "196/196 [==============================] - 9s 45ms/step - loss: 0.2539\n",
      "Epoch 34/50\n",
      "196/196 [==============================] - 9s 45ms/step - loss: 0.2536\n",
      "Epoch 35/50\n",
      "196/196 [==============================] - 9s 46ms/step - loss: 0.2536\n",
      "Epoch 36/50\n",
      "196/196 [==============================] - 9s 44ms/step - loss: 0.2533\n",
      "Epoch 37/50\n",
      "196/196 [==============================] - 9s 48ms/step - loss: 0.2532\n",
      "Epoch 38/50\n",
      "196/196 [==============================] - 9s 45ms/step - loss: 0.2530\n",
      "Epoch 39/50\n",
      "196/196 [==============================] - 9s 45ms/step - loss: 0.2529\n",
      "Epoch 40/50\n",
      "196/196 [==============================] - 9s 47ms/step - loss: 0.2528\n",
      "Epoch 41/50\n",
      "196/196 [==============================] - 9s 48ms/step - loss: 0.2527\n",
      "Epoch 42/50\n",
      "196/196 [==============================] - 9s 46ms/step - loss: 0.2526\n",
      "Epoch 43/50\n",
      "196/196 [==============================] - 9s 45ms/step - loss: 0.2524\n",
      "Epoch 44/50\n",
      "196/196 [==============================] - 9s 46ms/step - loss: 0.2523\n",
      "Epoch 45/50\n",
      "196/196 [==============================] - 8s 40ms/step - loss: 0.2522\n",
      "Epoch 46/50\n",
      "196/196 [==============================] - 6s 30ms/step - loss: 0.2520\n",
      "Epoch 47/50\n",
      "196/196 [==============================] - 4s 21ms/step - loss: 0.2519\n",
      "Epoch 48/50\n",
      "196/196 [==============================] - 4s 18ms/step - loss: 0.2519\n",
      "Epoch 49/50\n",
      "196/196 [==============================] - 4s 19ms/step - loss: 0.2517\n",
      "Epoch 50/50\n",
      "196/196 [==============================] - 5s 23ms/step - loss: 0.2517\n"
     ]
    }
   ],
   "source": [
    "X_train = X_train.reshape([len(X_train)] + list(dims))\n",
    "history = autoencoder.fit(X_train, X_train,\n",
    "                epochs=50,\n",
    "                batch_size=256,\n",
    "                shuffle=True,\n",
    "                #validation_data=(X_valid, X_valid)\n",
    "                         )"
   ]
  },
  {
   "cell_type": "code",
   "execution_count": 15,
   "metadata": {
    "ExecuteTime": {
     "end_time": "2020-08-22T05:13:14.708927Z",
     "start_time": "2020-08-22T05:13:11.807965Z"
    }
   },
   "outputs": [],
   "source": [
    "z = encoder.predict(X_train)"
   ]
  },
  {
   "cell_type": "markdown",
   "metadata": {},
   "source": [
    "### Plot model output"
   ]
  },
  {
   "cell_type": "code",
   "execution_count": 16,
   "metadata": {
    "ExecuteTime": {
     "end_time": "2020-08-22T05:13:21.492510Z",
     "start_time": "2020-08-22T05:13:14.711276Z"
    }
   },
   "outputs": [
    {
     "data": {
      "image/png": "[encoded data removed]",
      "text/plain": [
       "<Figure size 576x576 with 2 Axes>"
      ]
     },
     "metadata": {
      "needs_background": "light"
     },
     "output_type": "display_data"
    }
   ],
   "source": [
    "fig, ax = plt.subplots( figsize=(8, 8))\n",
    "sc = ax.scatter(\n",
    "    z[:, 0],\n",
    "    z[:, 1],\n",
    "    c=Y_train.astype(int)[:len(z)],\n",
    "    cmap=\"tab10\",\n",
    "    s=0.1,\n",
    "    alpha=0.5,\n",
    "    rasterized=True,\n",
    ")\n",
    "ax.axis('equal')\n",
    "ax.set_title(\"UMAP in Tensorflow embedding\", fontsize=20)\n",
    "plt.colorbar(sc, ax=ax);"
   ]
  },
  {
   "cell_type": "markdown",
   "metadata": {},
   "source": [
    "### View loss"
   ]
  },
  {
   "cell_type": "code",
   "execution_count": 17,
   "metadata": {
    "ExecuteTime": {
     "end_time": "2020-08-22T05:13:21.797246Z",
     "start_time": "2020-08-22T05:13:21.494793Z"
    }
   },
   "outputs": [],
   "source": [
    "from tfumap.umap import retrieve_tensors\n",
    "import seaborn as sns"
   ]
  },
  {
   "cell_type": "markdown",
   "metadata": {},
   "source": [
    "### Save output"
   ]
  },
  {
   "cell_type": "code",
   "execution_count": 18,
   "metadata": {
    "ExecuteTime": {
     "end_time": "2020-08-22T05:13:21.946513Z",
     "start_time": "2020-08-22T05:13:21.803603Z"
    }
   },
   "outputs": [],
   "source": [
    "from tfumap.paths import ensure_dir, MODEL_DIR"
   ]
  },
  {
   "cell_type": "code",
   "execution_count": 19,
   "metadata": {
    "ExecuteTime": {
     "end_time": "2020-08-22T05:13:22.145287Z",
     "start_time": "2020-08-22T05:13:21.948097Z"
    }
   },
   "outputs": [],
   "source": [
    "output_dir = MODEL_DIR/'projections'/ dataset / '64' /'ae_only'\n",
    "ensure_dir(output_dir)"
   ]
  },
  {
   "cell_type": "code",
   "execution_count": 20,
   "metadata": {
    "ExecuteTime": {
     "end_time": "2020-08-22T05:13:23.945315Z",
     "start_time": "2020-08-22T05:13:22.146801Z"
    }
   },
   "outputs": [
    {
     "name": "stderr",
     "output_type": "stream",
     "text": [
      "WARNING: Logging before flag parsing goes to stderr.\n",
      "W0821 22:13:22.498517 139878705719104 deprecation.py:323] From /mnt/cube/tsainbur/conda_envs/tpy3/lib/python3.6/site-packages/tensorflow/python/training/tracking/tracking.py:111: Model.state_updates (from tensorflow.python.keras.engine.training) is deprecated and will be removed in a future version.\n",
      "Instructions for updating:\n",
      "This property should not be used in TensorFlow 2.0, as updates are applied automatically.\n",
      "W0821 22:13:22.564436 139878705719104 deprecation.py:323] From /mnt/cube/tsainbur/conda_envs/tpy3/lib/python3.6/site-packages/tensorflow/python/training/tracking/tracking.py:111: Layer.updates (from tensorflow.python.keras.engine.base_layer) is deprecated and will be removed in a future version.\n",
      "Instructions for updating:\n",
      "This property should not be used in TensorFlow 2.0, as updates are applied automatically.\n",
      "I0821 22:13:23.913495 139878705719104 builder_impl.py:775] Assets written to: /mnt/cube/tsainbur/Projects/github_repos/umap_tf_networks/models/projections/fmnist/64/ae_only/encoder/assets\n"
     ]
    }
   ],
   "source": [
    "encoder.save(output_dir / 'encoder')"
   ]
  },
  {
   "cell_type": "code",
   "execution_count": 21,
   "metadata": {
    "ExecuteTime": {
     "end_time": "2020-08-22T05:13:27.087403Z",
     "start_time": "2020-08-22T05:13:23.947170Z"
    }
   },
   "outputs": [
    {
     "name": "stderr",
     "output_type": "stream",
     "text": [
      "I0821 22:13:27.026618 139878705719104 builder_impl.py:775] Assets written to: /mnt/cube/tsainbur/Projects/github_repos/umap_tf_networks/models/projections/fmnist/64/ae_only/encoder/assets\n"
     ]
    }
   ],
   "source": [
    "decoder.save(output_dir / 'encoder')"
   ]
  },
  {
   "cell_type": "code",
   "execution_count": 22,
   "metadata": {
    "ExecuteTime": {
     "end_time": "2020-08-22T05:13:27.216169Z",
     "start_time": "2020-08-22T05:13:27.088731Z"
    }
   },
   "outputs": [],
   "source": [
    "#loss_df.to_pickle(output_dir / 'loss_df.pickle')"
   ]
  },
  {
   "cell_type": "code",
   "execution_count": 23,
   "metadata": {
    "ExecuteTime": {
     "end_time": "2020-08-22T05:13:27.385903Z",
     "start_time": "2020-08-22T05:13:27.218844Z"
    }
   },
   "outputs": [],
   "source": [
    "np.save(output_dir / 'z.npy', z)"
   ]
  },
  {
   "cell_type": "markdown",
   "metadata": {},
   "source": [
    "### compute metrics "
   ]
  },
  {
   "cell_type": "code",
   "execution_count": 24,
   "metadata": {
    "ExecuteTime": {
     "end_time": "2020-08-22T05:13:27.526569Z",
     "start_time": "2020-08-22T05:13:27.390074Z"
    }
   },
   "outputs": [
    {
     "data": {
      "text/plain": [
       "(10000, 784)"
      ]
     },
     "execution_count": 24,
     "metadata": {},
     "output_type": "execute_result"
    }
   ],
   "source": [
    "X_test.shape"
   ]
  },
  {
   "cell_type": "code",
   "execution_count": 25,
   "metadata": {
    "ExecuteTime": {
     "end_time": "2020-08-22T05:13:28.051669Z",
     "start_time": "2020-08-22T05:13:27.527824Z"
    }
   },
   "outputs": [],
   "source": [
    "z_test = encoder.predict(X_test.reshape((len(X_test), 28,28,1)))"
   ]
  },
  {
   "cell_type": "markdown",
   "metadata": {},
   "source": [
    "#### silhouette"
   ]
  },
  {
   "cell_type": "code",
   "execution_count": 26,
   "metadata": {
    "ExecuteTime": {
     "end_time": "2020-08-22T05:13:28.094421Z",
     "start_time": "2020-08-22T05:13:28.052916Z"
    }
   },
   "outputs": [],
   "source": [
    "from tfumap.silhouette import silhouette_score_block"
   ]
  },
  {
   "cell_type": "code",
   "execution_count": 27,
   "metadata": {
    "ExecuteTime": {
     "end_time": "2020-08-22T05:13:43.902754Z",
     "start_time": "2020-08-22T05:13:28.095557Z"
    }
   },
   "outputs": [
    {
     "data": {
      "text/plain": [
       "0.06550060191932076"
      ]
     },
     "execution_count": 27,
     "metadata": {},
     "output_type": "execute_result"
    }
   ],
   "source": [
    "ss, sil_samp = silhouette_score_block(z, Y_train, n_jobs = -1)\n",
    "ss"
   ]
  },
  {
   "cell_type": "code",
   "execution_count": 28,
   "metadata": {
    "ExecuteTime": {
     "end_time": "2020-08-22T05:13:44.360721Z",
     "start_time": "2020-08-22T05:13:43.906212Z"
    }
   },
   "outputs": [
    {
     "data": {
      "text/plain": [
       "0.06258647974940505"
      ]
     },
     "execution_count": 28,
     "metadata": {},
     "output_type": "execute_result"
    }
   ],
   "source": [
    "ss_test, sil_samp_test = silhouette_score_block(z_test, Y_test, n_jobs = -1)\n",
    "ss_test"
   ]
  },
  {
   "cell_type": "code",
   "execution_count": 29,
   "metadata": {
    "ExecuteTime": {
     "end_time": "2020-08-22T05:13:49.760348Z",
     "start_time": "2020-08-22T05:13:44.364242Z"
    }
   },
   "outputs": [
    {
     "data": {
      "text/plain": [
       "<matplotlib.collections.PathCollection at 0x7f36f1ef1ba8>"
      ]
     },
     "execution_count": 29,
     "metadata": {},
     "output_type": "execute_result"
    },
    {
     "data": {
      "image/png": "[encoded data removed]",
      "text/plain": [
       "<Figure size 720x360 with 2 Axes>"
      ]
     },
     "metadata": {
      "needs_background": "light"
     },
     "output_type": "display_data"
    }
   ],
   "source": [
    "fig, axs = plt.subplots(ncols = 2, figsize=(10, 5))\n",
    "axs[0].scatter(z[:, 0], z[:, 1], s=0.1, alpha=0.5, c=sil_samp, cmap=plt.cm.viridis)\n",
    "axs[1].scatter(z_test[:, 0], z_test[:, 1], s=1, alpha=0.5, c=sil_samp_test, cmap=plt.cm.viridis)"
   ]
  },
  {
   "cell_type": "markdown",
   "metadata": {},
   "source": [
    "#### KNN"
   ]
  },
  {
   "cell_type": "code",
   "execution_count": 30,
   "metadata": {
    "ExecuteTime": {
     "end_time": "2020-08-22T05:13:49.945657Z",
     "start_time": "2020-08-22T05:13:49.764563Z"
    }
   },
   "outputs": [],
   "source": [
    "from sklearn.neighbors import KNeighborsClassifier"
   ]
  },
  {
   "cell_type": "code",
   "execution_count": 31,
   "metadata": {
    "ExecuteTime": {
     "end_time": "2020-08-22T05:15:44.663278Z",
     "start_time": "2020-08-22T05:13:49.948661Z"
    }
   },
   "outputs": [
    {
     "data": {
      "text/plain": [
       "0.8756"
      ]
     },
     "execution_count": 31,
     "metadata": {},
     "output_type": "execute_result"
    }
   ],
   "source": [
    "neigh5 = KNeighborsClassifier(n_neighbors=5)\n",
    "neigh5.fit(z, Y_train)\n",
    "score_5nn = neigh5.score(z_test, Y_test)\n",
    "score_5nn"
   ]
  },
  {
   "cell_type": "code",
   "execution_count": 32,
   "metadata": {
    "ExecuteTime": {
     "end_time": "2020-08-22T05:17:12.830393Z",
     "start_time": "2020-08-22T05:15:44.664589Z"
    }
   },
   "outputs": [
    {
     "data": {
      "text/plain": [
       "0.8671"
      ]
     },
     "execution_count": 32,
     "metadata": {},
     "output_type": "execute_result"
    }
   ],
   "source": [
    "neigh1 = KNeighborsClassifier(n_neighbors=1)\n",
    "neigh1.fit(z, Y_train)\n",
    "score_1nn = neigh1.score(z_test, Y_test)\n",
    "score_1nn"
   ]
  },
  {
   "cell_type": "markdown",
   "metadata": {},
   "source": [
    "#### Trustworthiness"
   ]
  },
  {
   "cell_type": "code",
   "execution_count": 33,
   "metadata": {
    "ExecuteTime": {
     "end_time": "2020-08-22T05:17:12.944286Z",
     "start_time": "2020-08-22T05:17:12.832011Z"
    }
   },
   "outputs": [],
   "source": [
    "from sklearn.manifold import trustworthiness"
   ]
  },
  {
   "cell_type": "code",
   "execution_count": 34,
   "metadata": {
    "ExecuteTime": {
     "end_time": "2020-08-22T05:17:59.689444Z",
     "start_time": "2020-08-22T05:17:12.945881Z"
    }
   },
   "outputs": [],
   "source": [
    "tw = trustworthiness(X_train_flat[:10000], z[:10000])"
   ]
  },
  {
   "cell_type": "code",
   "execution_count": 35,
   "metadata": {
    "ExecuteTime": {
     "end_time": "2020-08-22T05:18:47.449624Z",
     "start_time": "2020-08-22T05:17:59.692581Z"
    }
   },
   "outputs": [],
   "source": [
    "tw_test = trustworthiness(X_test_flat[:10000], z_test[:10000])"
   ]
  },
  {
   "cell_type": "code",
   "execution_count": 36,
   "metadata": {
    "ExecuteTime": {
     "end_time": "2020-08-22T05:18:48.009984Z",
     "start_time": "2020-08-22T05:18:47.458198Z"
    }
   },
   "outputs": [
    {
     "data": {
      "text/plain": [
       "(0.9991417994395516, 0.9990918494795836)"
      ]
     },
     "execution_count": 36,
     "metadata": {},
     "output_type": "execute_result"
    }
   ],
   "source": [
    "tw, tw_test"
   ]
  },
  {
   "cell_type": "markdown",
   "metadata": {},
   "source": [
    "### Save output metrics"
   ]
  },
  {
   "cell_type": "code",
   "execution_count": 37,
   "metadata": {
    "ExecuteTime": {
     "end_time": "2020-08-22T05:18:48.112290Z",
     "start_time": "2020-08-22T05:18:48.011433Z"
    }
   },
   "outputs": [],
   "source": [
    "from tfumap.paths import ensure_dir, MODEL_DIR, DATA_DIR"
   ]
  },
  {
   "cell_type": "markdown",
   "metadata": {},
   "source": [
    "#### train"
   ]
  },
  {
   "cell_type": "code",
   "execution_count": 38,
   "metadata": {
    "ExecuteTime": {
     "end_time": "2020-08-22T05:18:48.353267Z",
     "start_time": "2020-08-22T05:18:48.114165Z"
    }
   },
   "outputs": [
    {
     "data": {
      "text/html": [
       "<div>\n",
       "<style scoped>\n",
       "    .dataframe tbody tr th:only-of-type {\n",
       "        vertical-align: middle;\n",
       "    }\n",
       "\n",
       "    .dataframe tbody tr th {\n",
       "        vertical-align: top;\n",
       "    }\n",
       "\n",
       "    .dataframe thead th {\n",
       "        text-align: right;\n",
       "    }\n",
       "</style>\n",
       "<table border=\"1\" class=\"dataframe\">\n",
       "  <thead>\n",
       "    <tr style=\"text-align: right;\">\n",
       "      <th></th>\n",
       "      <th>dataset</th>\n",
       "      <th>class_</th>\n",
       "      <th>dim</th>\n",
       "      <th>trustworthiness</th>\n",
       "      <th>silhouette_score</th>\n",
       "      <th>silhouette_samples</th>\n",
       "    </tr>\n",
       "  </thead>\n",
       "  <tbody>\n",
       "    <tr>\n",
       "      <th>0</th>\n",
       "      <td>fmnist</td>\n",
       "      <td>ae_only</td>\n",
       "      <td>64</td>\n",
       "      <td>0.999142</td>\n",
       "      <td>0.065501</td>\n",
       "      <td>[0.21983970307893655, 0.19372022722504137, -0....</td>\n",
       "    </tr>\n",
       "  </tbody>\n",
       "</table>\n",
       "</div>"
      ],
      "text/plain": [
       "  dataset   class_ dim  trustworthiness  silhouette_score  \\\n",
       "0  fmnist  ae_only  64         0.999142          0.065501   \n",
       "\n",
       "                                  silhouette_samples  \n",
       "0  [0.21983970307893655, 0.19372022722504137, -0....  "
      ]
     },
     "execution_count": 38,
     "metadata": {},
     "output_type": "execute_result"
    }
   ],
   "source": [
    "metrics_df = pd.DataFrame(\n",
    "    columns=[\n",
    "        \"dataset\",\n",
    "        \"class_\",\n",
    "        \"dim\",\n",
    "        \"trustworthiness\",\n",
    "        \"silhouette_score\",\n",
    "        \"silhouette_samples\",\n",
    "    ]\n",
    ")\n",
    "metrics_df.loc[len(metrics_df)] = [dataset, 'ae_only', n_components, tw, ss, sil_samp]\n",
    "metrics_df"
   ]
  },
  {
   "cell_type": "code",
   "execution_count": 39,
   "metadata": {
    "ExecuteTime": {
     "end_time": "2020-08-22T05:18:48.541801Z",
     "start_time": "2020-08-22T05:18:48.356146Z"
    }
   },
   "outputs": [],
   "source": [
    "save_loc = DATA_DIR / 'projection_metrics' /  'ae_only' / 'train' / str(n_components) / (dataset + '.pickle')\n",
    "ensure_dir(save_loc)\n",
    "metrics_df.to_pickle(save_loc)"
   ]
  },
  {
   "cell_type": "markdown",
   "metadata": {},
   "source": [
    "#### test"
   ]
  },
  {
   "cell_type": "code",
   "execution_count": 40,
   "metadata": {
    "ExecuteTime": {
     "end_time": "2020-08-22T05:18:48.770443Z",
     "start_time": "2020-08-22T05:18:48.545813Z"
    }
   },
   "outputs": [
    {
     "data": {
      "text/html": [
       "<div>\n",
       "<style scoped>\n",
       "    .dataframe tbody tr th:only-of-type {\n",
       "        vertical-align: middle;\n",
       "    }\n",
       "\n",
       "    .dataframe tbody tr th {\n",
       "        vertical-align: top;\n",
       "    }\n",
       "\n",
       "    .dataframe thead th {\n",
       "        text-align: right;\n",
       "    }\n",
       "</style>\n",
       "<table border=\"1\" class=\"dataframe\">\n",
       "  <thead>\n",
       "    <tr style=\"text-align: right;\">\n",
       "      <th></th>\n",
       "      <th>dataset</th>\n",
       "      <th>class_</th>\n",
       "      <th>dim</th>\n",
       "      <th>trustworthiness</th>\n",
       "      <th>silhouette_score</th>\n",
       "      <th>silhouette_samples</th>\n",
       "    </tr>\n",
       "  </thead>\n",
       "  <tbody>\n",
       "    <tr>\n",
       "      <th>1</th>\n",
       "      <td>fmnist</td>\n",
       "      <td>ae_only</td>\n",
       "      <td>64</td>\n",
       "      <td>0.999092</td>\n",
       "      <td>0.062586</td>\n",
       "      <td>[-0.13945409347898408, 0.04202391065426492, 0....</td>\n",
       "    </tr>\n",
       "  </tbody>\n",
       "</table>\n",
       "</div>"
      ],
      "text/plain": [
       "  dataset   class_ dim  trustworthiness  silhouette_score  \\\n",
       "1  fmnist  ae_only  64         0.999092          0.062586   \n",
       "\n",
       "                                  silhouette_samples  \n",
       "1  [-0.13945409347898408, 0.04202391065426492, 0....  "
      ]
     },
     "execution_count": 40,
     "metadata": {},
     "output_type": "execute_result"
    }
   ],
   "source": [
    "metrics_df_test = pd.DataFrame(\n",
    "    columns=[\n",
    "        \"dataset\",\n",
    "        \"class_\",\n",
    "        \"dim\",\n",
    "        \"trustworthiness\",\n",
    "        \"silhouette_score\",\n",
    "        \"silhouette_samples\",\n",
    "    ]\n",
    ")\n",
    "metrics_df_test.loc[len(metrics_df)] = [dataset, 'ae_only', n_components, tw_test, ss_test, sil_samp_test]\n",
    "metrics_df_test"
   ]
  },
  {
   "cell_type": "code",
   "execution_count": 41,
   "metadata": {
    "ExecuteTime": {
     "end_time": "2020-08-22T05:18:48.934264Z",
     "start_time": "2020-08-22T05:18:48.775205Z"
    }
   },
   "outputs": [],
   "source": [
    "save_loc = DATA_DIR / 'projection_metrics' / 'ae' / 'test' / str(n_components) / (dataset + '.pickle')\n",
    "ensure_dir(save_loc)\n",
    "metrics_df.to_pickle(save_loc)"
   ]
  },
  {
   "cell_type": "markdown",
   "metadata": {},
   "source": [
    "#### knn "
   ]
  },
  {
   "cell_type": "code",
   "execution_count": 42,
   "metadata": {
    "ExecuteTime": {
     "end_time": "2020-08-22T05:18:49.073373Z",
     "start_time": "2020-08-22T05:18:48.935420Z"
    }
   },
   "outputs": [
    {
     "data": {
      "text/html": [
       "<div>\n",
       "<style scoped>\n",
       "    .dataframe tbody tr th:only-of-type {\n",
       "        vertical-align: middle;\n",
       "    }\n",
       "\n",
       "    .dataframe tbody tr th {\n",
       "        vertical-align: top;\n",
       "    }\n",
       "\n",
       "    .dataframe thead th {\n",
       "        text-align: right;\n",
       "    }\n",
       "</style>\n",
       "<table border=\"1\" class=\"dataframe\">\n",
       "  <thead>\n",
       "    <tr style=\"text-align: right;\">\n",
       "      <th></th>\n",
       "      <th>method_</th>\n",
       "      <th>dimensions</th>\n",
       "      <th>dataset</th>\n",
       "      <th>1NN_acc</th>\n",
       "      <th>5NN_acc</th>\n",
       "    </tr>\n",
       "  </thead>\n",
       "  <tbody>\n",
       "    <tr>\n",
       "      <th>0</th>\n",
       "      <td>ae_only</td>\n",
       "      <td>64</td>\n",
       "      <td>fmnist</td>\n",
       "      <td>0.8671</td>\n",
       "      <td>0.8756</td>\n",
       "    </tr>\n",
       "  </tbody>\n",
       "</table>\n",
       "</div>"
      ],
      "text/plain": [
       "   method_ dimensions dataset  1NN_acc  5NN_acc\n",
       "0  ae_only         64  fmnist   0.8671   0.8756"
      ]
     },
     "execution_count": 42,
     "metadata": {},
     "output_type": "execute_result"
    }
   ],
   "source": [
    "nn_acc_df = pd.DataFrame(columns = [\"method_\",\"dimensions\",\"dataset\",\"1NN_acc\",\"5NN_acc\"])\n",
    "nn_acc_df.loc[len(nn_acc_df)] = ['ae_only', n_components, dataset,  score_1nn, score_5nn]\n",
    "nn_acc_df"
   ]
  },
  {
   "cell_type": "code",
   "execution_count": 43,
   "metadata": {
    "ExecuteTime": {
     "end_time": "2020-08-22T05:18:49.160371Z",
     "start_time": "2020-08-22T05:18:49.075007Z"
    }
   },
   "outputs": [],
   "source": [
    "save_loc = DATA_DIR / 'knn_classifier' / 'ae_only' / 'train' / str(n_components) / (dataset + '.pickle')\n",
    "ensure_dir(save_loc)\n",
    "nn_acc_df.to_pickle(save_loc)"
   ]
  },
  {
   "cell_type": "markdown",
   "metadata": {},
   "source": [
    "### Reconstruction"
   ]
  },
  {
   "cell_type": "code",
   "execution_count": 44,
   "metadata": {
    "ExecuteTime": {
     "end_time": "2020-08-22T05:18:49.299148Z",
     "start_time": "2020-08-22T05:18:49.161904Z"
    }
   },
   "outputs": [],
   "source": [
    "from sklearn.metrics import mean_squared_error, mean_absolute_error, median_absolute_error, r2_score"
   ]
  },
  {
   "cell_type": "code",
   "execution_count": 45,
   "metadata": {
    "ExecuteTime": {
     "end_time": "2020-08-22T05:18:51.863396Z",
     "start_time": "2020-08-22T05:18:49.302475Z"
    }
   },
   "outputs": [],
   "source": [
    "X_recon = decoder.predict(encoder.predict(X_test.reshape((len(X_test), 28, 28, 1))))\n",
    "X_real = X_test.reshape((len(X_test), 28, 28, 1))"
   ]
  },
  {
   "cell_type": "code",
   "execution_count": 46,
   "metadata": {
    "ExecuteTime": {
     "end_time": "2020-08-22T05:18:52.008044Z",
     "start_time": "2020-08-22T05:18:51.865305Z"
    }
   },
   "outputs": [],
   "source": [
    "x_real = X_test.reshape((len(X_test), np.product(np.shape(X_test)[1:])))\n",
    "x_recon = X_recon.reshape((len(X_test), np.product(np.shape(X_test)[1:])))"
   ]
  },
  {
   "cell_type": "code",
   "execution_count": null,
   "metadata": {
    "ExecuteTime": {
     "end_time": "2020-08-22T01:26:01.624739Z",
     "start_time": "2020-08-22T01:26:01.549195Z"
    }
   },
   "outputs": [],
   "source": []
  },
  {
   "cell_type": "code",
   "execution_count": 47,
   "metadata": {
    "ExecuteTime": {
     "end_time": "2020-08-22T05:18:52.758772Z",
     "start_time": "2020-08-22T05:18:52.011730Z"
    }
   },
   "outputs": [
    {
     "data": {
      "text/html": [
       "<div>\n",
       "<style scoped>\n",
       "    .dataframe tbody tr th:only-of-type {\n",
       "        vertical-align: middle;\n",
       "    }\n",
       "\n",
       "    .dataframe tbody tr th {\n",
       "        vertical-align: top;\n",
       "    }\n",
       "\n",
       "    .dataframe thead th {\n",
       "        text-align: right;\n",
       "    }\n",
       "</style>\n",
       "<table border=\"1\" class=\"dataframe\">\n",
       "  <thead>\n",
       "    <tr style=\"text-align: right;\">\n",
       "      <th></th>\n",
       "      <th>method_</th>\n",
       "      <th>dimensions</th>\n",
       "      <th>dataset</th>\n",
       "      <th>MSE</th>\n",
       "      <th>MAE</th>\n",
       "      <th>MedAE</th>\n",
       "      <th>R2</th>\n",
       "    </tr>\n",
       "  </thead>\n",
       "  <tbody>\n",
       "    <tr>\n",
       "      <th>0</th>\n",
       "      <td>ae_only</td>\n",
       "      <td>64</td>\n",
       "      <td>fmnist</td>\n",
       "      <td>0.005404</td>\n",
       "      <td>0.033148</td>\n",
       "      <td>0.010455</td>\n",
       "      <td>0.874051</td>\n",
       "    </tr>\n",
       "  </tbody>\n",
       "</table>\n",
       "</div>"
      ],
      "text/plain": [
       "   method_ dimensions dataset       MSE       MAE     MedAE        R2\n",
       "0  ae_only         64  fmnist  0.005404  0.033148  0.010455  0.874051"
      ]
     },
     "execution_count": 47,
     "metadata": {},
     "output_type": "execute_result"
    }
   ],
   "source": [
    "reconstruction_acc_df = pd.DataFrame(\n",
    "    columns=[\"method_\", \"dimensions\", \"dataset\", \"MSE\", \"MAE\", \"MedAE\", \"R2\"]\n",
    ")\n",
    "\n",
    "MSE = mean_squared_error(\n",
    "    x_real, \n",
    "    x_recon\n",
    ")\n",
    "MAE = mean_absolute_error(\n",
    "    x_real, \n",
    "    x_recon\n",
    ")\n",
    "MedAE = median_absolute_error(\n",
    "    x_real, \n",
    "    x_recon\n",
    ")\n",
    "R2 = r2_score(\n",
    "    x_real, \n",
    "    x_recon\n",
    ")\n",
    "\n",
    "reconstruction_acc_df.loc[len(reconstruction_acc_df)] = ['ae_only', n_components, dataset, MSE, MAE, MedAE, R2]\n",
    "reconstruction_acc_df"
   ]
  },
  {
   "cell_type": "code",
   "execution_count": 48,
   "metadata": {
    "ExecuteTime": {
     "end_time": "2020-08-22T05:18:52.867838Z",
     "start_time": "2020-08-22T05:18:52.763739Z"
    }
   },
   "outputs": [],
   "source": [
    "save_loc = DATA_DIR / 'reconstruction_acc' / 'ae_only' / str(n_components) / (dataset + '.pickle')\n",
    "ensure_dir(save_loc)\n",
    "reconstruction_acc_df.to_pickle(save_loc)"
   ]
  },
  {
   "cell_type": "markdown",
   "metadata": {},
   "source": [
    "### Compute clustering quality"
   ]
  },
  {
   "cell_type": "code",
   "execution_count": 49,
   "metadata": {
    "ExecuteTime": {
     "end_time": "2020-08-22T05:18:53.002272Z",
     "start_time": "2020-08-22T05:18:52.869796Z"
    }
   },
   "outputs": [],
   "source": [
    "from sklearn.cluster import KMeans\n",
    "from sklearn.metrics import homogeneity_completeness_v_measure"
   ]
  },
  {
   "cell_type": "code",
   "execution_count": 50,
   "metadata": {
    "ExecuteTime": {
     "end_time": "2020-08-22T05:18:53.079681Z",
     "start_time": "2020-08-22T05:18:53.003973Z"
    }
   },
   "outputs": [],
   "source": [
    "def get_cluster_metrics(row, n_init=5):\n",
    "    \n",
    "    # load cluster information\n",
    "    save_loc = DATA_DIR / 'clustering_metric_df'/ ('_'.join([row.class_, str(row.dim), row.dataset]) + '.pickle')\n",
    "    print(save_loc)\n",
    "    if save_loc.exists() and save_loc.is_file():\n",
    "        \n",
    "        cluster_df = pd.read_pickle(save_loc)\n",
    "        return cluster_df\n",
    "    \n",
    "    # make cluster metric dataframe\n",
    "    cluster_df = pd.DataFrame(\n",
    "        columns=[\n",
    "            \"dataset\",\n",
    "            \"class_\",\n",
    "            \"dim\",\n",
    "            \"silhouette\",\n",
    "            \"homogeneity\",\n",
    "            \"completeness\",\n",
    "            \"v_measure\",\n",
    "            \"init_\",\n",
    "            \"n_clusters\",\n",
    "            \"model\",\n",
    "        ]\n",
    "    )\n",
    "    y = row.train_label\n",
    "    z = row.train_z\n",
    "    n_labels = len(np.unique(y))\n",
    "    for n_clusters in tqdm(np.arange(n_labels - int(n_labels / 2), n_labels + int(n_labels / 2)), leave=False, desc = 'n_clusters'):\n",
    "        for init_ in tqdm(range(n_init), leave=False, desc='init'):\n",
    "            kmeans = KMeans(n_clusters=n_clusters, random_state=init_).fit(z)\n",
    "            clustered_y = kmeans.labels_\n",
    "            homogeneity, completeness, v_measure = homogeneity_completeness_v_measure(\n",
    "                y, clustered_y\n",
    "            )\n",
    "            ss, _ = silhouette_score_block(z, clustered_y)\n",
    "            cluster_df.loc[len(cluster_df)] = [\n",
    "                row.dataset,\n",
    "                row.class_,\n",
    "                row.dim,\n",
    "                ss,\n",
    "                homogeneity,\n",
    "                completeness,\n",
    "                v_measure,\n",
    "                init_,\n",
    "                n_clusters,\n",
    "                kmeans,\n",
    "            ]\n",
    "    \n",
    "     # save cluster df in case this fails somewhere\n",
    "    ensure_dir(save_loc)\n",
    "    cluster_df.to_pickle(save_loc)\n",
    "    return cluster_df"
   ]
  },
  {
   "cell_type": "code",
   "execution_count": 51,
   "metadata": {
    "ExecuteTime": {
     "end_time": "2020-08-22T05:18:53.325911Z",
     "start_time": "2020-08-22T05:18:53.081438Z"
    }
   },
   "outputs": [
    {
     "data": {
      "text/html": [
       "<div>\n",
       "<style scoped>\n",
       "    .dataframe tbody tr th:only-of-type {\n",
       "        vertical-align: middle;\n",
       "    }\n",
       "\n",
       "    .dataframe tbody tr th {\n",
       "        vertical-align: top;\n",
       "    }\n",
       "\n",
       "    .dataframe thead th {\n",
       "        text-align: right;\n",
       "    }\n",
       "</style>\n",
       "<table border=\"1\" class=\"dataframe\">\n",
       "  <thead>\n",
       "    <tr style=\"text-align: right;\">\n",
       "      <th></th>\n",
       "      <th>dataset</th>\n",
       "      <th>class_</th>\n",
       "      <th>train_z</th>\n",
       "      <th>train_label</th>\n",
       "      <th>dim</th>\n",
       "    </tr>\n",
       "  </thead>\n",
       "  <tbody>\n",
       "    <tr>\n",
       "      <th>0</th>\n",
       "      <td>fmnist</td>\n",
       "      <td>ae_only</td>\n",
       "      <td>[[-0.29317108, 1.2271864, -1.0851365, -1.62406...</td>\n",
       "      <td>[9, 0, 0, 3, 0, 2, 7, 2, 5, 5, 0, 9, 5, 5, 7, ...</td>\n",
       "      <td>64</td>\n",
       "    </tr>\n",
       "  </tbody>\n",
       "</table>\n",
       "</div>"
      ],
      "text/plain": [
       "  dataset   class_                                            train_z  \\\n",
       "0  fmnist  ae_only  [[-0.29317108, 1.2271864, -1.0851365, -1.62406...   \n",
       "\n",
       "                                         train_label dim  \n",
       "0  [9, 0, 0, 3, 0, 2, 7, 2, 5, 5, 0, 9, 5, 5, 7, ...  64  "
      ]
     },
     "execution_count": 51,
     "metadata": {},
     "output_type": "execute_result"
    }
   ],
   "source": [
    "projection_df = pd.DataFrame(columns = ['dataset', 'class_', 'train_z', 'train_label', 'dim'])\n",
    "projection_df.loc[len(projection_df)] = [dataset, 'ae_only', z, Y_train, n_components]\n",
    "projection_df"
   ]
  },
  {
   "cell_type": "code",
   "execution_count": 52,
   "metadata": {
    "ExecuteTime": {
     "end_time": "2020-08-22T05:18:53.668352Z",
     "start_time": "2020-08-22T05:18:53.327983Z"
    }
   },
   "outputs": [
    {
     "name": "stdout",
     "output_type": "stream",
     "text": [
      "/mnt/cube/tsainbur/Projects/github_repos/umap_tf_networks/data/clustering_metric_df/ae_only_64_fmnist.pickle\n"
     ]
    },
    {
     "data": {
      "text/html": [
       "<div>\n",
       "<style scoped>\n",
       "    .dataframe tbody tr th:only-of-type {\n",
       "        vertical-align: middle;\n",
       "    }\n",
       "\n",
       "    .dataframe tbody tr th {\n",
       "        vertical-align: top;\n",
       "    }\n",
       "\n",
       "    .dataframe thead th {\n",
       "        text-align: right;\n",
       "    }\n",
       "</style>\n",
       "<table border=\"1\" class=\"dataframe\">\n",
       "  <thead>\n",
       "    <tr style=\"text-align: right;\">\n",
       "      <th></th>\n",
       "      <th>dataset</th>\n",
       "      <th>class_</th>\n",
       "      <th>dim</th>\n",
       "      <th>silhouette</th>\n",
       "      <th>homogeneity</th>\n",
       "      <th>completeness</th>\n",
       "      <th>v_measure</th>\n",
       "      <th>init_</th>\n",
       "      <th>n_clusters</th>\n",
       "      <th>model</th>\n",
       "    </tr>\n",
       "  </thead>\n",
       "  <tbody>\n",
       "    <tr>\n",
       "      <th>0</th>\n",
       "      <td>fmnist</td>\n",
       "      <td>ae_only</td>\n",
       "      <td>64</td>\n",
       "      <td>0.151898</td>\n",
       "      <td>0.380128</td>\n",
       "      <td>0.549528</td>\n",
       "      <td>0.449394</td>\n",
       "      <td>0</td>\n",
       "      <td>5</td>\n",
       "      <td>KMeans(n_clusters=5, random_state=0)</td>\n",
       "    </tr>\n",
       "    <tr>\n",
       "      <th>1</th>\n",
       "      <td>fmnist</td>\n",
       "      <td>ae_only</td>\n",
       "      <td>64</td>\n",
       "      <td>0.152125</td>\n",
       "      <td>0.379820</td>\n",
       "      <td>0.549246</td>\n",
       "      <td>0.449084</td>\n",
       "      <td>1</td>\n",
       "      <td>5</td>\n",
       "      <td>KMeans(n_clusters=5, random_state=1)</td>\n",
       "    </tr>\n",
       "    <tr>\n",
       "      <th>2</th>\n",
       "      <td>fmnist</td>\n",
       "      <td>ae_only</td>\n",
       "      <td>64</td>\n",
       "      <td>0.151866</td>\n",
       "      <td>0.380173</td>\n",
       "      <td>0.549590</td>\n",
       "      <td>0.449447</td>\n",
       "      <td>2</td>\n",
       "      <td>5</td>\n",
       "      <td>KMeans(n_clusters=5, random_state=2)</td>\n",
       "    </tr>\n",
       "    <tr>\n",
       "      <th>3</th>\n",
       "      <td>fmnist</td>\n",
       "      <td>ae_only</td>\n",
       "      <td>64</td>\n",
       "      <td>0.151864</td>\n",
       "      <td>0.380157</td>\n",
       "      <td>0.549567</td>\n",
       "      <td>0.449428</td>\n",
       "      <td>3</td>\n",
       "      <td>5</td>\n",
       "      <td>KMeans(n_clusters=5, random_state=3)</td>\n",
       "    </tr>\n",
       "    <tr>\n",
       "      <th>4</th>\n",
       "      <td>fmnist</td>\n",
       "      <td>ae_only</td>\n",
       "      <td>64</td>\n",
       "      <td>0.151857</td>\n",
       "      <td>0.380147</td>\n",
       "      <td>0.549551</td>\n",
       "      <td>0.449415</td>\n",
       "      <td>4</td>\n",
       "      <td>5</td>\n",
       "      <td>KMeans(n_clusters=5, random_state=4)</td>\n",
       "    </tr>\n",
       "    <tr>\n",
       "      <th>5</th>\n",
       "      <td>fmnist</td>\n",
       "      <td>ae_only</td>\n",
       "      <td>64</td>\n",
       "      <td>0.157860</td>\n",
       "      <td>0.420519</td>\n",
       "      <td>0.542521</td>\n",
       "      <td>0.473792</td>\n",
       "      <td>0</td>\n",
       "      <td>6</td>\n",
       "      <td>KMeans(n_clusters=6, random_state=0)</td>\n",
       "    </tr>\n",
       "    <tr>\n",
       "      <th>6</th>\n",
       "      <td>fmnist</td>\n",
       "      <td>ae_only</td>\n",
       "      <td>64</td>\n",
       "      <td>0.157806</td>\n",
       "      <td>0.420474</td>\n",
       "      <td>0.542465</td>\n",
       "      <td>0.473742</td>\n",
       "      <td>1</td>\n",
       "      <td>6</td>\n",
       "      <td>KMeans(n_clusters=6, random_state=1)</td>\n",
       "    </tr>\n",
       "    <tr>\n",
       "      <th>7</th>\n",
       "      <td>fmnist</td>\n",
       "      <td>ae_only</td>\n",
       "      <td>64</td>\n",
       "      <td>0.157887</td>\n",
       "      <td>0.420560</td>\n",
       "      <td>0.542620</td>\n",
       "      <td>0.473856</td>\n",
       "      <td>2</td>\n",
       "      <td>6</td>\n",
       "      <td>KMeans(n_clusters=6, random_state=2)</td>\n",
       "    </tr>\n",
       "    <tr>\n",
       "      <th>8</th>\n",
       "      <td>fmnist</td>\n",
       "      <td>ae_only</td>\n",
       "      <td>64</td>\n",
       "      <td>0.157881</td>\n",
       "      <td>0.420515</td>\n",
       "      <td>0.542550</td>\n",
       "      <td>0.473800</td>\n",
       "      <td>3</td>\n",
       "      <td>6</td>\n",
       "      <td>KMeans(n_clusters=6, random_state=3)</td>\n",
       "    </tr>\n",
       "    <tr>\n",
       "      <th>9</th>\n",
       "      <td>fmnist</td>\n",
       "      <td>ae_only</td>\n",
       "      <td>64</td>\n",
       "      <td>0.157878</td>\n",
       "      <td>0.420608</td>\n",
       "      <td>0.542686</td>\n",
       "      <td>0.473911</td>\n",
       "      <td>4</td>\n",
       "      <td>6</td>\n",
       "      <td>KMeans(n_clusters=6, random_state=4)</td>\n",
       "    </tr>\n",
       "    <tr>\n",
       "      <th>10</th>\n",
       "      <td>fmnist</td>\n",
       "      <td>ae_only</td>\n",
       "      <td>64</td>\n",
       "      <td>0.165655</td>\n",
       "      <td>0.496023</td>\n",
       "      <td>0.593758</td>\n",
       "      <td>0.540508</td>\n",
       "      <td>0</td>\n",
       "      <td>7</td>\n",
       "      <td>KMeans(n_clusters=7, random_state=0)</td>\n",
       "    </tr>\n",
       "    <tr>\n",
       "      <th>11</th>\n",
       "      <td>fmnist</td>\n",
       "      <td>ae_only</td>\n",
       "      <td>64</td>\n",
       "      <td>0.165615</td>\n",
       "      <td>0.496156</td>\n",
       "      <td>0.593914</td>\n",
       "      <td>0.540651</td>\n",
       "      <td>1</td>\n",
       "      <td>7</td>\n",
       "      <td>KMeans(n_clusters=7, random_state=1)</td>\n",
       "    </tr>\n",
       "    <tr>\n",
       "      <th>12</th>\n",
       "      <td>fmnist</td>\n",
       "      <td>ae_only</td>\n",
       "      <td>64</td>\n",
       "      <td>0.165644</td>\n",
       "      <td>0.496080</td>\n",
       "      <td>0.593817</td>\n",
       "      <td>0.540566</td>\n",
       "      <td>2</td>\n",
       "      <td>7</td>\n",
       "      <td>KMeans(n_clusters=7, random_state=2)</td>\n",
       "    </tr>\n",
       "    <tr>\n",
       "      <th>13</th>\n",
       "      <td>fmnist</td>\n",
       "      <td>ae_only</td>\n",
       "      <td>64</td>\n",
       "      <td>0.165619</td>\n",
       "      <td>0.496396</td>\n",
       "      <td>0.594240</td>\n",
       "      <td>0.540929</td>\n",
       "      <td>3</td>\n",
       "      <td>7</td>\n",
       "      <td>KMeans(n_clusters=7, random_state=3)</td>\n",
       "    </tr>\n",
       "    <tr>\n",
       "      <th>14</th>\n",
       "      <td>fmnist</td>\n",
       "      <td>ae_only</td>\n",
       "      <td>64</td>\n",
       "      <td>0.165614</td>\n",
       "      <td>0.496587</td>\n",
       "      <td>0.594436</td>\n",
       "      <td>0.541124</td>\n",
       "      <td>4</td>\n",
       "      <td>7</td>\n",
       "      <td>KMeans(n_clusters=7, random_state=4)</td>\n",
       "    </tr>\n",
       "    <tr>\n",
       "      <th>15</th>\n",
       "      <td>fmnist</td>\n",
       "      <td>ae_only</td>\n",
       "      <td>64</td>\n",
       "      <td>0.172941</td>\n",
       "      <td>0.517083</td>\n",
       "      <td>0.596743</td>\n",
       "      <td>0.554064</td>\n",
       "      <td>0</td>\n",
       "      <td>8</td>\n",
       "      <td>KMeans(random_state=0)</td>\n",
       "    </tr>\n",
       "    <tr>\n",
       "      <th>16</th>\n",
       "      <td>fmnist</td>\n",
       "      <td>ae_only</td>\n",
       "      <td>64</td>\n",
       "      <td>0.172880</td>\n",
       "      <td>0.517207</td>\n",
       "      <td>0.596807</td>\n",
       "      <td>0.554163</td>\n",
       "      <td>1</td>\n",
       "      <td>8</td>\n",
       "      <td>KMeans(random_state=1)</td>\n",
       "    </tr>\n",
       "    <tr>\n",
       "      <th>17</th>\n",
       "      <td>fmnist</td>\n",
       "      <td>ae_only</td>\n",
       "      <td>64</td>\n",
       "      <td>0.172937</td>\n",
       "      <td>0.517287</td>\n",
       "      <td>0.596931</td>\n",
       "      <td>0.554263</td>\n",
       "      <td>2</td>\n",
       "      <td>8</td>\n",
       "      <td>KMeans(random_state=2)</td>\n",
       "    </tr>\n",
       "    <tr>\n",
       "      <th>18</th>\n",
       "      <td>fmnist</td>\n",
       "      <td>ae_only</td>\n",
       "      <td>64</td>\n",
       "      <td>0.172908</td>\n",
       "      <td>0.517259</td>\n",
       "      <td>0.596900</td>\n",
       "      <td>0.554233</td>\n",
       "      <td>3</td>\n",
       "      <td>8</td>\n",
       "      <td>KMeans(random_state=3)</td>\n",
       "    </tr>\n",
       "    <tr>\n",
       "      <th>19</th>\n",
       "      <td>fmnist</td>\n",
       "      <td>ae_only</td>\n",
       "      <td>64</td>\n",
       "      <td>0.172876</td>\n",
       "      <td>0.517245</td>\n",
       "      <td>0.596863</td>\n",
       "      <td>0.554209</td>\n",
       "      <td>4</td>\n",
       "      <td>8</td>\n",
       "      <td>KMeans(random_state=4)</td>\n",
       "    </tr>\n",
       "    <tr>\n",
       "      <th>20</th>\n",
       "      <td>fmnist</td>\n",
       "      <td>ae_only</td>\n",
       "      <td>64</td>\n",
       "      <td>0.172882</td>\n",
       "      <td>0.540584</td>\n",
       "      <td>0.589438</td>\n",
       "      <td>0.563955</td>\n",
       "      <td>0</td>\n",
       "      <td>9</td>\n",
       "      <td>KMeans(n_clusters=9, random_state=0)</td>\n",
       "    </tr>\n",
       "    <tr>\n",
       "      <th>21</th>\n",
       "      <td>fmnist</td>\n",
       "      <td>ae_only</td>\n",
       "      <td>64</td>\n",
       "      <td>0.172882</td>\n",
       "      <td>0.540580</td>\n",
       "      <td>0.589435</td>\n",
       "      <td>0.563952</td>\n",
       "      <td>1</td>\n",
       "      <td>9</td>\n",
       "      <td>KMeans(n_clusters=9, random_state=1)</td>\n",
       "    </tr>\n",
       "    <tr>\n",
       "      <th>22</th>\n",
       "      <td>fmnist</td>\n",
       "      <td>ae_only</td>\n",
       "      <td>64</td>\n",
       "      <td>0.172866</td>\n",
       "      <td>0.540621</td>\n",
       "      <td>0.589474</td>\n",
       "      <td>0.563992</td>\n",
       "      <td>2</td>\n",
       "      <td>9</td>\n",
       "      <td>KMeans(n_clusters=9, random_state=2)</td>\n",
       "    </tr>\n",
       "    <tr>\n",
       "      <th>23</th>\n",
       "      <td>fmnist</td>\n",
       "      <td>ae_only</td>\n",
       "      <td>64</td>\n",
       "      <td>0.172859</td>\n",
       "      <td>0.540606</td>\n",
       "      <td>0.589464</td>\n",
       "      <td>0.563979</td>\n",
       "      <td>3</td>\n",
       "      <td>9</td>\n",
       "      <td>KMeans(n_clusters=9, random_state=3)</td>\n",
       "    </tr>\n",
       "    <tr>\n",
       "      <th>24</th>\n",
       "      <td>fmnist</td>\n",
       "      <td>ae_only</td>\n",
       "      <td>64</td>\n",
       "      <td>0.172838</td>\n",
       "      <td>0.540843</td>\n",
       "      <td>0.589682</td>\n",
       "      <td>0.564208</td>\n",
       "      <td>4</td>\n",
       "      <td>9</td>\n",
       "      <td>KMeans(n_clusters=9, random_state=4)</td>\n",
       "    </tr>\n",
       "    <tr>\n",
       "      <th>25</th>\n",
       "      <td>fmnist</td>\n",
       "      <td>ae_only</td>\n",
       "      <td>64</td>\n",
       "      <td>0.167193</td>\n",
       "      <td>0.546852</td>\n",
       "      <td>0.568189</td>\n",
       "      <td>0.557316</td>\n",
       "      <td>0</td>\n",
       "      <td>10</td>\n",
       "      <td>KMeans(n_clusters=10, random_state=0)</td>\n",
       "    </tr>\n",
       "    <tr>\n",
       "      <th>26</th>\n",
       "      <td>fmnist</td>\n",
       "      <td>ae_only</td>\n",
       "      <td>64</td>\n",
       "      <td>0.167184</td>\n",
       "      <td>0.546788</td>\n",
       "      <td>0.568121</td>\n",
       "      <td>0.557250</td>\n",
       "      <td>1</td>\n",
       "      <td>10</td>\n",
       "      <td>KMeans(n_clusters=10, random_state=1)</td>\n",
       "    </tr>\n",
       "    <tr>\n",
       "      <th>27</th>\n",
       "      <td>fmnist</td>\n",
       "      <td>ae_only</td>\n",
       "      <td>64</td>\n",
       "      <td>0.166930</td>\n",
       "      <td>0.547049</td>\n",
       "      <td>0.568245</td>\n",
       "      <td>0.557446</td>\n",
       "      <td>2</td>\n",
       "      <td>10</td>\n",
       "      <td>KMeans(n_clusters=10, random_state=2)</td>\n",
       "    </tr>\n",
       "    <tr>\n",
       "      <th>28</th>\n",
       "      <td>fmnist</td>\n",
       "      <td>ae_only</td>\n",
       "      <td>64</td>\n",
       "      <td>0.167468</td>\n",
       "      <td>0.546273</td>\n",
       "      <td>0.568103</td>\n",
       "      <td>0.556974</td>\n",
       "      <td>3</td>\n",
       "      <td>10</td>\n",
       "      <td>KMeans(n_clusters=10, random_state=3)</td>\n",
       "    </tr>\n",
       "    <tr>\n",
       "      <th>29</th>\n",
       "      <td>fmnist</td>\n",
       "      <td>ae_only</td>\n",
       "      <td>64</td>\n",
       "      <td>0.166937</td>\n",
       "      <td>0.547130</td>\n",
       "      <td>0.568318</td>\n",
       "      <td>0.557523</td>\n",
       "      <td>4</td>\n",
       "      <td>10</td>\n",
       "      <td>KMeans(n_clusters=10, random_state=4)</td>\n",
       "    </tr>\n",
       "    <tr>\n",
       "      <th>30</th>\n",
       "      <td>fmnist</td>\n",
       "      <td>ae_only</td>\n",
       "      <td>64</td>\n",
       "      <td>0.169466</td>\n",
       "      <td>0.579471</td>\n",
       "      <td>0.584345</td>\n",
       "      <td>0.581898</td>\n",
       "      <td>0</td>\n",
       "      <td>11</td>\n",
       "      <td>KMeans(n_clusters=11, random_state=0)</td>\n",
       "    </tr>\n",
       "    <tr>\n",
       "      <th>31</th>\n",
       "      <td>fmnist</td>\n",
       "      <td>ae_only</td>\n",
       "      <td>64</td>\n",
       "      <td>0.169465</td>\n",
       "      <td>0.579577</td>\n",
       "      <td>0.584433</td>\n",
       "      <td>0.581995</td>\n",
       "      <td>1</td>\n",
       "      <td>11</td>\n",
       "      <td>KMeans(n_clusters=11, random_state=1)</td>\n",
       "    </tr>\n",
       "    <tr>\n",
       "      <th>32</th>\n",
       "      <td>fmnist</td>\n",
       "      <td>ae_only</td>\n",
       "      <td>64</td>\n",
       "      <td>0.169316</td>\n",
       "      <td>0.579485</td>\n",
       "      <td>0.584259</td>\n",
       "      <td>0.581862</td>\n",
       "      <td>2</td>\n",
       "      <td>11</td>\n",
       "      <td>KMeans(n_clusters=11, random_state=2)</td>\n",
       "    </tr>\n",
       "    <tr>\n",
       "      <th>33</th>\n",
       "      <td>fmnist</td>\n",
       "      <td>ae_only</td>\n",
       "      <td>64</td>\n",
       "      <td>0.169334</td>\n",
       "      <td>0.579518</td>\n",
       "      <td>0.584291</td>\n",
       "      <td>0.581895</td>\n",
       "      <td>3</td>\n",
       "      <td>11</td>\n",
       "      <td>KMeans(n_clusters=11, random_state=3)</td>\n",
       "    </tr>\n",
       "    <tr>\n",
       "      <th>34</th>\n",
       "      <td>fmnist</td>\n",
       "      <td>ae_only</td>\n",
       "      <td>64</td>\n",
       "      <td>0.169461</td>\n",
       "      <td>0.579551</td>\n",
       "      <td>0.584404</td>\n",
       "      <td>0.581968</td>\n",
       "      <td>4</td>\n",
       "      <td>11</td>\n",
       "      <td>KMeans(n_clusters=11, random_state=4)</td>\n",
       "    </tr>\n",
       "    <tr>\n",
       "      <th>35</th>\n",
       "      <td>fmnist</td>\n",
       "      <td>ae_only</td>\n",
       "      <td>64</td>\n",
       "      <td>0.159283</td>\n",
       "      <td>0.584071</td>\n",
       "      <td>0.560778</td>\n",
       "      <td>0.572188</td>\n",
       "      <td>0</td>\n",
       "      <td>12</td>\n",
       "      <td>KMeans(n_clusters=12, random_state=0)</td>\n",
       "    </tr>\n",
       "    <tr>\n",
       "      <th>36</th>\n",
       "      <td>fmnist</td>\n",
       "      <td>ae_only</td>\n",
       "      <td>64</td>\n",
       "      <td>0.159264</td>\n",
       "      <td>0.584081</td>\n",
       "      <td>0.560759</td>\n",
       "      <td>0.572182</td>\n",
       "      <td>1</td>\n",
       "      <td>12</td>\n",
       "      <td>KMeans(n_clusters=12, random_state=1)</td>\n",
       "    </tr>\n",
       "    <tr>\n",
       "      <th>37</th>\n",
       "      <td>fmnist</td>\n",
       "      <td>ae_only</td>\n",
       "      <td>64</td>\n",
       "      <td>0.159139</td>\n",
       "      <td>0.583957</td>\n",
       "      <td>0.560573</td>\n",
       "      <td>0.572026</td>\n",
       "      <td>2</td>\n",
       "      <td>12</td>\n",
       "      <td>KMeans(n_clusters=12, random_state=2)</td>\n",
       "    </tr>\n",
       "    <tr>\n",
       "      <th>38</th>\n",
       "      <td>fmnist</td>\n",
       "      <td>ae_only</td>\n",
       "      <td>64</td>\n",
       "      <td>0.168600</td>\n",
       "      <td>0.610510</td>\n",
       "      <td>0.590218</td>\n",
       "      <td>0.600193</td>\n",
       "      <td>3</td>\n",
       "      <td>12</td>\n",
       "      <td>KMeans(n_clusters=12, random_state=3)</td>\n",
       "    </tr>\n",
       "    <tr>\n",
       "      <th>39</th>\n",
       "      <td>fmnist</td>\n",
       "      <td>ae_only</td>\n",
       "      <td>64</td>\n",
       "      <td>0.159135</td>\n",
       "      <td>0.583996</td>\n",
       "      <td>0.560594</td>\n",
       "      <td>0.572056</td>\n",
       "      <td>4</td>\n",
       "      <td>12</td>\n",
       "      <td>KMeans(n_clusters=12, random_state=4)</td>\n",
       "    </tr>\n",
       "    <tr>\n",
       "      <th>40</th>\n",
       "      <td>fmnist</td>\n",
       "      <td>ae_only</td>\n",
       "      <td>64</td>\n",
       "      <td>0.147332</td>\n",
       "      <td>0.600229</td>\n",
       "      <td>0.554802</td>\n",
       "      <td>0.576622</td>\n",
       "      <td>0</td>\n",
       "      <td>13</td>\n",
       "      <td>KMeans(n_clusters=13, random_state=0)</td>\n",
       "    </tr>\n",
       "    <tr>\n",
       "      <th>41</th>\n",
       "      <td>fmnist</td>\n",
       "      <td>ae_only</td>\n",
       "      <td>64</td>\n",
       "      <td>0.160151</td>\n",
       "      <td>0.614992</td>\n",
       "      <td>0.568050</td>\n",
       "      <td>0.590590</td>\n",
       "      <td>1</td>\n",
       "      <td>13</td>\n",
       "      <td>KMeans(n_clusters=13, random_state=1)</td>\n",
       "    </tr>\n",
       "    <tr>\n",
       "      <th>42</th>\n",
       "      <td>fmnist</td>\n",
       "      <td>ae_only</td>\n",
       "      <td>64</td>\n",
       "      <td>0.160176</td>\n",
       "      <td>0.615105</td>\n",
       "      <td>0.568119</td>\n",
       "      <td>0.590679</td>\n",
       "      <td>2</td>\n",
       "      <td>13</td>\n",
       "      <td>KMeans(n_clusters=13, random_state=2)</td>\n",
       "    </tr>\n",
       "    <tr>\n",
       "      <th>43</th>\n",
       "      <td>fmnist</td>\n",
       "      <td>ae_only</td>\n",
       "      <td>64</td>\n",
       "      <td>0.160322</td>\n",
       "      <td>0.615329</td>\n",
       "      <td>0.568438</td>\n",
       "      <td>0.590955</td>\n",
       "      <td>3</td>\n",
       "      <td>13</td>\n",
       "      <td>KMeans(n_clusters=13, random_state=3)</td>\n",
       "    </tr>\n",
       "    <tr>\n",
       "      <th>44</th>\n",
       "      <td>fmnist</td>\n",
       "      <td>ae_only</td>\n",
       "      <td>64</td>\n",
       "      <td>0.160252</td>\n",
       "      <td>0.615133</td>\n",
       "      <td>0.568234</td>\n",
       "      <td>0.590755</td>\n",
       "      <td>4</td>\n",
       "      <td>13</td>\n",
       "      <td>KMeans(n_clusters=13, random_state=4)</td>\n",
       "    </tr>\n",
       "    <tr>\n",
       "      <th>45</th>\n",
       "      <td>fmnist</td>\n",
       "      <td>ae_only</td>\n",
       "      <td>64</td>\n",
       "      <td>0.157638</td>\n",
       "      <td>0.620562</td>\n",
       "      <td>0.557105</td>\n",
       "      <td>0.587124</td>\n",
       "      <td>0</td>\n",
       "      <td>14</td>\n",
       "      <td>KMeans(n_clusters=14, random_state=0)</td>\n",
       "    </tr>\n",
       "    <tr>\n",
       "      <th>46</th>\n",
       "      <td>fmnist</td>\n",
       "      <td>ae_only</td>\n",
       "      <td>64</td>\n",
       "      <td>0.157557</td>\n",
       "      <td>0.620604</td>\n",
       "      <td>0.557046</td>\n",
       "      <td>0.587110</td>\n",
       "      <td>1</td>\n",
       "      <td>14</td>\n",
       "      <td>KMeans(n_clusters=14, random_state=1)</td>\n",
       "    </tr>\n",
       "    <tr>\n",
       "      <th>47</th>\n",
       "      <td>fmnist</td>\n",
       "      <td>ae_only</td>\n",
       "      <td>64</td>\n",
       "      <td>0.149103</td>\n",
       "      <td>0.633853</td>\n",
       "      <td>0.565394</td>\n",
       "      <td>0.597669</td>\n",
       "      <td>2</td>\n",
       "      <td>14</td>\n",
       "      <td>KMeans(n_clusters=14, random_state=2)</td>\n",
       "    </tr>\n",
       "    <tr>\n",
       "      <th>48</th>\n",
       "      <td>fmnist</td>\n",
       "      <td>ae_only</td>\n",
       "      <td>64</td>\n",
       "      <td>0.157483</td>\n",
       "      <td>0.620485</td>\n",
       "      <td>0.556915</td>\n",
       "      <td>0.586984</td>\n",
       "      <td>3</td>\n",
       "      <td>14</td>\n",
       "      <td>KMeans(n_clusters=14, random_state=3)</td>\n",
       "    </tr>\n",
       "    <tr>\n",
       "      <th>49</th>\n",
       "      <td>fmnist</td>\n",
       "      <td>ae_only</td>\n",
       "      <td>64</td>\n",
       "      <td>0.148386</td>\n",
       "      <td>0.631497</td>\n",
       "      <td>0.562396</td>\n",
       "      <td>0.594947</td>\n",
       "      <td>4</td>\n",
       "      <td>14</td>\n",
       "      <td>KMeans(n_clusters=14, random_state=4)</td>\n",
       "    </tr>\n",
       "  </tbody>\n",
       "</table>\n",
       "</div>"
      ],
      "text/plain": [
       "   dataset   class_ dim  silhouette  homogeneity  completeness  v_measure  \\\n",
       "0   fmnist  ae_only  64    0.151898     0.380128      0.549528   0.449394   \n",
       "1   fmnist  ae_only  64    0.152125     0.379820      0.549246   0.449084   \n",
       "2   fmnist  ae_only  64    0.151866     0.380173      0.549590   0.449447   \n",
       "3   fmnist  ae_only  64    0.151864     0.380157      0.549567   0.449428   \n",
       "4   fmnist  ae_only  64    0.151857     0.380147      0.549551   0.449415   \n",
       "5   fmnist  ae_only  64    0.157860     0.420519      0.542521   0.473792   \n",
       "6   fmnist  ae_only  64    0.157806     0.420474      0.542465   0.473742   \n",
       "7   fmnist  ae_only  64    0.157887     0.420560      0.542620   0.473856   \n",
       "8   fmnist  ae_only  64    0.157881     0.420515      0.542550   0.473800   \n",
       "9   fmnist  ae_only  64    0.157878     0.420608      0.542686   0.473911   \n",
       "10  fmnist  ae_only  64    0.165655     0.496023      0.593758   0.540508   \n",
       "11  fmnist  ae_only  64    0.165615     0.496156      0.593914   0.540651   \n",
       "12  fmnist  ae_only  64    0.165644     0.496080      0.593817   0.540566   \n",
       "13  fmnist  ae_only  64    0.165619     0.496396      0.594240   0.540929   \n",
       "14  fmnist  ae_only  64    0.165614     0.496587      0.594436   0.541124   \n",
       "15  fmnist  ae_only  64    0.172941     0.517083      0.596743   0.554064   \n",
       "16  fmnist  ae_only  64    0.172880     0.517207      0.596807   0.554163   \n",
       "17  fmnist  ae_only  64    0.172937     0.517287      0.596931   0.554263   \n",
       "18  fmnist  ae_only  64    0.172908     0.517259      0.596900   0.554233   \n",
       "19  fmnist  ae_only  64    0.172876     0.517245      0.596863   0.554209   \n",
       "20  fmnist  ae_only  64    0.172882     0.540584      0.589438   0.563955   \n",
       "21  fmnist  ae_only  64    0.172882     0.540580      0.589435   0.563952   \n",
       "22  fmnist  ae_only  64    0.172866     0.540621      0.589474   0.563992   \n",
       "23  fmnist  ae_only  64    0.172859     0.540606      0.589464   0.563979   \n",
       "24  fmnist  ae_only  64    0.172838     0.540843      0.589682   0.564208   \n",
       "25  fmnist  ae_only  64    0.167193     0.546852      0.568189   0.557316   \n",
       "26  fmnist  ae_only  64    0.167184     0.546788      0.568121   0.557250   \n",
       "27  fmnist  ae_only  64    0.166930     0.547049      0.568245   0.557446   \n",
       "28  fmnist  ae_only  64    0.167468     0.546273      0.568103   0.556974   \n",
       "29  fmnist  ae_only  64    0.166937     0.547130      0.568318   0.557523   \n",
       "30  fmnist  ae_only  64    0.169466     0.579471      0.584345   0.581898   \n",
       "31  fmnist  ae_only  64    0.169465     0.579577      0.584433   0.581995   \n",
       "32  fmnist  ae_only  64    0.169316     0.579485      0.584259   0.581862   \n",
       "33  fmnist  ae_only  64    0.169334     0.579518      0.584291   0.581895   \n",
       "34  fmnist  ae_only  64    0.169461     0.579551      0.584404   0.581968   \n",
       "35  fmnist  ae_only  64    0.159283     0.584071      0.560778   0.572188   \n",
       "36  fmnist  ae_only  64    0.159264     0.584081      0.560759   0.572182   \n",
       "37  fmnist  ae_only  64    0.159139     0.583957      0.560573   0.572026   \n",
       "38  fmnist  ae_only  64    0.168600     0.610510      0.590218   0.600193   \n",
       "39  fmnist  ae_only  64    0.159135     0.583996      0.560594   0.572056   \n",
       "40  fmnist  ae_only  64    0.147332     0.600229      0.554802   0.576622   \n",
       "41  fmnist  ae_only  64    0.160151     0.614992      0.568050   0.590590   \n",
       "42  fmnist  ae_only  64    0.160176     0.615105      0.568119   0.590679   \n",
       "43  fmnist  ae_only  64    0.160322     0.615329      0.568438   0.590955   \n",
       "44  fmnist  ae_only  64    0.160252     0.615133      0.568234   0.590755   \n",
       "45  fmnist  ae_only  64    0.157638     0.620562      0.557105   0.587124   \n",
       "46  fmnist  ae_only  64    0.157557     0.620604      0.557046   0.587110   \n",
       "47  fmnist  ae_only  64    0.149103     0.633853      0.565394   0.597669   \n",
       "48  fmnist  ae_only  64    0.157483     0.620485      0.556915   0.586984   \n",
       "49  fmnist  ae_only  64    0.148386     0.631497      0.562396   0.594947   \n",
       "\n",
       "   init_ n_clusters                                  model  \n",
       "0      0          5   KMeans(n_clusters=5, random_state=0)  \n",
       "1      1          5   KMeans(n_clusters=5, random_state=1)  \n",
       "2      2          5   KMeans(n_clusters=5, random_state=2)  \n",
       "3      3          5   KMeans(n_clusters=5, random_state=3)  \n",
       "4      4          5   KMeans(n_clusters=5, random_state=4)  \n",
       "5      0          6   KMeans(n_clusters=6, random_state=0)  \n",
       "6      1          6   KMeans(n_clusters=6, random_state=1)  \n",
       "7      2          6   KMeans(n_clusters=6, random_state=2)  \n",
       "8      3          6   KMeans(n_clusters=6, random_state=3)  \n",
       "9      4          6   KMeans(n_clusters=6, random_state=4)  \n",
       "10     0          7   KMeans(n_clusters=7, random_state=0)  \n",
       "11     1          7   KMeans(n_clusters=7, random_state=1)  \n",
       "12     2          7   KMeans(n_clusters=7, random_state=2)  \n",
       "13     3          7   KMeans(n_clusters=7, random_state=3)  \n",
       "14     4          7   KMeans(n_clusters=7, random_state=4)  \n",
       "15     0          8                 KMeans(random_state=0)  \n",
       "16     1          8                 KMeans(random_state=1)  \n",
       "17     2          8                 KMeans(random_state=2)  \n",
       "18     3          8                 KMeans(random_state=3)  \n",
       "19     4          8                 KMeans(random_state=4)  \n",
       "20     0          9   KMeans(n_clusters=9, random_state=0)  \n",
       "21     1          9   KMeans(n_clusters=9, random_state=1)  \n",
       "22     2          9   KMeans(n_clusters=9, random_state=2)  \n",
       "23     3          9   KMeans(n_clusters=9, random_state=3)  \n",
       "24     4          9   KMeans(n_clusters=9, random_state=4)  \n",
       "25     0         10  KMeans(n_clusters=10, random_state=0)  \n",
       "26     1         10  KMeans(n_clusters=10, random_state=1)  \n",
       "27     2         10  KMeans(n_clusters=10, random_state=2)  \n",
       "28     3         10  KMeans(n_clusters=10, random_state=3)  \n",
       "29     4         10  KMeans(n_clusters=10, random_state=4)  \n",
       "30     0         11  KMeans(n_clusters=11, random_state=0)  \n",
       "31     1         11  KMeans(n_clusters=11, random_state=1)  \n",
       "32     2         11  KMeans(n_clusters=11, random_state=2)  \n",
       "33     3         11  KMeans(n_clusters=11, random_state=3)  \n",
       "34     4         11  KMeans(n_clusters=11, random_state=4)  \n",
       "35     0         12  KMeans(n_clusters=12, random_state=0)  \n",
       "36     1         12  KMeans(n_clusters=12, random_state=1)  \n",
       "37     2         12  KMeans(n_clusters=12, random_state=2)  \n",
       "38     3         12  KMeans(n_clusters=12, random_state=3)  \n",
       "39     4         12  KMeans(n_clusters=12, random_state=4)  \n",
       "40     0         13  KMeans(n_clusters=13, random_state=0)  \n",
       "41     1         13  KMeans(n_clusters=13, random_state=1)  \n",
       "42     2         13  KMeans(n_clusters=13, random_state=2)  \n",
       "43     3         13  KMeans(n_clusters=13, random_state=3)  \n",
       "44     4         13  KMeans(n_clusters=13, random_state=4)  \n",
       "45     0         14  KMeans(n_clusters=14, random_state=0)  \n",
       "46     1         14  KMeans(n_clusters=14, random_state=1)  \n",
       "47     2         14  KMeans(n_clusters=14, random_state=2)  \n",
       "48     3         14  KMeans(n_clusters=14, random_state=3)  \n",
       "49     4         14  KMeans(n_clusters=14, random_state=4)  "
      ]
     },
     "execution_count": 52,
     "metadata": {},
     "output_type": "execute_result"
    }
   ],
   "source": [
    "get_cluster_metrics(projection_df.iloc[0], n_init=5)"
   ]
  },
  {
   "cell_type": "code",
   "execution_count": null,
   "metadata": {},
   "outputs": [],
   "source": []
  }
 ],
 "metadata": {
  "kernelspec": {
   "display_name": "Python 3",
   "language": "python",
   "name": "python3"
  },
  "language_info": {
   "codemirror_mode": {
    "name": "ipython",
    "version": 3
   },
   "file_extension": ".py",
   "mimetype": "text/x-python",
   "name": "python",
   "nbconvert_exporter": "python",
   "pygments_lexer": "ipython3",
   "version": "3.6.7"
  }
 },
 "nbformat": 4,
 "nbformat_minor": 2
}
