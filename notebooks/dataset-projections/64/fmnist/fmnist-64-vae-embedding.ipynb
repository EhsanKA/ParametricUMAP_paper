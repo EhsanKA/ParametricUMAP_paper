{
 "cells": [
  {
   "cell_type": "code",
   "execution_count": 1,
   "metadata": {
    "ExecuteTime": {
     "end_time": "2020-08-22T05:12:56.260148Z",
     "start_time": "2020-08-22T05:12:56.229494Z"
    }
   },
   "outputs": [],
   "source": [
    "# reload packages\n",
    "%load_ext autoreload\n",
    "%autoreload 2"
   ]
  },
  {
   "cell_type": "markdown",
   "metadata": {},
   "source": [
    "### Choose GPU (this may not be needed on your computer)"
   ]
  },
  {
   "cell_type": "code",
   "execution_count": 2,
   "metadata": {
    "ExecuteTime": {
     "end_time": "2020-08-22T05:12:56.294910Z",
     "start_time": "2020-08-22T05:12:56.265806Z"
    }
   },
   "outputs": [
    {
     "name": "stdout",
     "output_type": "stream",
     "text": [
      "env: CUDA_DEVICE_ORDER=PCI_BUS_ID\n",
      "env: CUDA_VISIBLE_DEVICES=1\n"
     ]
    }
   ],
   "source": [
    "%env CUDA_DEVICE_ORDER=PCI_BUS_ID\n",
    "%env CUDA_VISIBLE_DEVICES=1"
   ]
  },
  {
   "cell_type": "code",
   "execution_count": 3,
   "metadata": {
    "ExecuteTime": {
     "end_time": "2020-08-22T05:13:23.946437Z",
     "start_time": "2020-08-22T05:12:56.299881Z"
    }
   },
   "outputs": [
    {
     "name": "stdout",
     "output_type": "stream",
     "text": [
      "[PhysicalDevice(name='/physical_device:GPU:0', device_type='GPU')]\n"
     ]
    }
   ],
   "source": [
    "import tensorflow as tf\n",
    "gpu_devices = tf.config.experimental.list_physical_devices('GPU')\n",
    "if len(gpu_devices)>0:\n",
    "    tf.config.experimental.set_memory_growth(gpu_devices[0], True)\n",
    "print(gpu_devices)\n",
    "tf.keras.backend.clear_session()"
   ]
  },
  {
   "cell_type": "markdown",
   "metadata": {},
   "source": [
    "### load packages"
   ]
  },
  {
   "cell_type": "code",
   "execution_count": 4,
   "metadata": {
    "ExecuteTime": {
     "end_time": "2020-08-22T05:13:39.813917Z",
     "start_time": "2020-08-22T05:13:23.948207Z"
    }
   },
   "outputs": [
    {
     "name": "stderr",
     "output_type": "stream",
     "text": [
      "/mnt/cube/tsainbur/conda_envs/tpy3/lib/python3.6/site-packages/tqdm/autonotebook/__init__.py:14: TqdmExperimentalWarning: Using `tqdm.autonotebook.tqdm` in notebook mode. Use `tqdm.tqdm` instead to force console mode (e.g. in jupyter console)\n",
      "  \" (e.g. in jupyter console)\", TqdmExperimentalWarning)\n"
     ]
    }
   ],
   "source": [
    "from tfumap.umap import tfUMAP"
   ]
  },
  {
   "cell_type": "code",
   "execution_count": 5,
   "metadata": {
    "ExecuteTime": {
     "end_time": "2020-08-22T05:13:41.068350Z",
     "start_time": "2020-08-22T05:13:39.836749Z"
    }
   },
   "outputs": [],
   "source": [
    "import tensorflow as tf\n",
    "import numpy as np\n",
    "import matplotlib.pyplot as plt\n",
    "from tqdm.autonotebook import tqdm\n",
    "import umap\n",
    "import pandas as pd"
   ]
  },
  {
   "cell_type": "markdown",
   "metadata": {},
   "source": [
    "### Load dataset"
   ]
  },
  {
   "cell_type": "code",
   "execution_count": 6,
   "metadata": {
    "ExecuteTime": {
     "end_time": "2020-08-22T05:13:41.185280Z",
     "start_time": "2020-08-22T05:13:41.075671Z"
    }
   },
   "outputs": [],
   "source": [
    "dataset = 'fmnist'"
   ]
  },
  {
   "cell_type": "code",
   "execution_count": 7,
   "metadata": {
    "ExecuteTime": {
     "end_time": "2020-08-22T05:13:41.357851Z",
     "start_time": "2020-08-22T05:13:41.189021Z"
    }
   },
   "outputs": [],
   "source": [
    "from tensorflow.keras.datasets import fashion_mnist"
   ]
  },
  {
   "cell_type": "code",
   "execution_count": 8,
   "metadata": {
    "ExecuteTime": {
     "end_time": "2020-08-22T05:13:43.245911Z",
     "start_time": "2020-08-22T05:13:41.359825Z"
    }
   },
   "outputs": [
    {
     "name": "stdout",
     "output_type": "stream",
     "text": [
      "50000 10000 10000\n"
     ]
    }
   ],
   "source": [
    "# load dataset\n",
    "(train_images, Y_train), (test_images, Y_test) = fashion_mnist.load_data()\n",
    "X_train = (train_images/255.).astype('float32')\n",
    "X_test = (test_images/255.).astype('float32')\n",
    "X_train = X_train.reshape((len(X_train), np.product(np.shape(X_train)[1:])))\n",
    "X_test = X_test.reshape((len(X_test), np.product(np.shape(X_test)[1:])))\n",
    "\n",
    "# subset a validation set\n",
    "n_valid = 10000\n",
    "X_valid = X_train[-n_valid:]\n",
    "Y_valid = Y_train[-n_valid:]\n",
    "X_train = X_train[:-n_valid]\n",
    "Y_train = Y_train[:-n_valid]\n",
    "\n",
    "# flatten X\n",
    "X_train_flat = X_train.reshape((len(X_train), np.product(np.shape(X_train)[1:])))\n",
    "X_test_flat = X_test.reshape((len(X_test), np.product(np.shape(X_test)[1:])))\n",
    "X_valid_flat= X_valid.reshape((len(X_valid), np.product(np.shape(X_valid)[1:])))\n",
    "print(len(X_train), len(X_valid), len(X_test))"
   ]
  },
  {
   "cell_type": "markdown",
   "metadata": {},
   "source": [
    "### define networks"
   ]
  },
  {
   "cell_type": "code",
   "execution_count": 9,
   "metadata": {
    "ExecuteTime": {
     "end_time": "2020-08-22T05:13:43.389682Z",
     "start_time": "2020-08-22T05:13:43.247506Z"
    }
   },
   "outputs": [],
   "source": [
    "from tfumap.vae import VAE, Sampling"
   ]
  },
  {
   "cell_type": "code",
   "execution_count": 10,
   "metadata": {
    "ExecuteTime": {
     "end_time": "2020-08-22T05:13:45.783403Z",
     "start_time": "2020-08-22T05:13:43.397295Z"
    }
   },
   "outputs": [
    {
     "name": "stdout",
     "output_type": "stream",
     "text": [
      "Model: \"encoder\"\n",
      "__________________________________________________________________________________________________\n",
      "Layer (type)                    Output Shape         Param #     Connected to                     \n",
      "==================================================================================================\n",
      "input_1 (InputLayer)            [(None, 28, 28, 1)]  0                                            \n",
      "__________________________________________________________________________________________________\n",
      "conv2d (Conv2D)                 (None, 13, 13, 64)   640         input_1[0][0]                    \n",
      "__________________________________________________________________________________________________\n",
      "conv2d_1 (Conv2D)               (None, 6, 6, 128)    73856       conv2d[0][0]                     \n",
      "__________________________________________________________________________________________________\n",
      "flatten (Flatten)               (None, 4608)         0           conv2d_1[0][0]                   \n",
      "__________________________________________________________________________________________________\n",
      "dense (Dense)                   (None, 512)          2359808     flatten[0][0]                    \n",
      "__________________________________________________________________________________________________\n",
      "z_mean (Dense)                  (None, 64)           32832       dense[0][0]                      \n",
      "__________________________________________________________________________________________________\n",
      "z_log_var (Dense)               (None, 64)           32832       dense[0][0]                      \n",
      "__________________________________________________________________________________________________\n",
      "sampling (Sampling)             (None, 64)           0           z_mean[0][0]                     \n",
      "                                                                 z_log_var[0][0]                  \n",
      "==================================================================================================\n",
      "Total params: 2,499,968\n",
      "Trainable params: 2,499,968\n",
      "Non-trainable params: 0\n",
      "__________________________________________________________________________________________________\n"
     ]
    }
   ],
   "source": [
    "dims = (28,28,1)\n",
    "n_components = 64\n",
    "\n",
    "encoder_inputs = tf.keras.Input(shape=dims)\n",
    "x = tf.keras.layers.Conv2D(\n",
    "        filters=64, kernel_size=3, strides=(2, 2), activation=\"relu\"\n",
    "    )(encoder_inputs)\n",
    "x = tf.keras.layers.Conv2D(\n",
    "        filters=128, kernel_size=3, strides=(2, 2), activation=\"relu\"\n",
    "    )(x)\n",
    "x = tf.keras.layers.Flatten()(x)\n",
    "x = tf.keras.layers.Dense(units=512, activation=\"relu\")(x)\n",
    "z_mean = tf.keras.layers.Dense(n_components, name=\"z_mean\")(x)\n",
    "z_log_var = tf.keras.layers.Dense(n_components, name=\"z_log_var\")(x)\n",
    "z = Sampling()([z_mean, z_log_var])\n",
    "encoder = tf.keras.Model(encoder_inputs, [z_mean, z_log_var, z], name=\"encoder\")\n",
    "encoder.summary()"
   ]
  },
  {
   "cell_type": "code",
   "execution_count": 11,
   "metadata": {
    "ExecuteTime": {
     "end_time": "2020-08-22T05:13:46.128285Z",
     "start_time": "2020-08-22T05:13:45.784683Z"
    }
   },
   "outputs": [
    {
     "name": "stdout",
     "output_type": "stream",
     "text": [
      "Model: \"decoder\"\n",
      "_________________________________________________________________\n",
      "Layer (type)                 Output Shape              Param #   \n",
      "=================================================================\n",
      "input_2 (InputLayer)         [(None, 64)]              0         \n",
      "_________________________________________________________________\n",
      "dense_1 (Dense)              (None, 512)               33280     \n",
      "_________________________________________________________________\n",
      "dense_2 (Dense)              (None, 12544)             6435072   \n",
      "_________________________________________________________________\n",
      "reshape (Reshape)            (None, 7, 7, 256)         0         \n",
      "_________________________________________________________________\n",
      "conv2d_transpose (Conv2DTran (None, 14, 14, 128)       295040    \n",
      "_________________________________________________________________\n",
      "conv2d_transpose_1 (Conv2DTr (None, 28, 28, 64)        73792     \n",
      "_________________________________________________________________\n",
      "conv2d_transpose_2 (Conv2DTr (None, 28, 28, 1)         577       \n",
      "=================================================================\n",
      "Total params: 6,837,761\n",
      "Trainable params: 6,837,761\n",
      "Non-trainable params: 0\n",
      "_________________________________________________________________\n"
     ]
    }
   ],
   "source": [
    "latent_inputs = tf.keras.Input(shape=(n_components,))\n",
    "x = tf.keras.layers.Dense(units=512, activation=\"relu\")(latent_inputs)\n",
    "x = tf.keras.layers.Dense(units=7 * 7 * 256, activation=\"relu\")(x)\n",
    "x = tf.keras.layers.Reshape(target_shape=(7, 7, 256))(x)\n",
    "x = tf.keras.layers.Conv2DTranspose(\n",
    "        filters=128, kernel_size=3, strides=(2, 2), padding=\"SAME\", activation=\"relu\"\n",
    "    )(x)\n",
    "x = tf.keras.layers.Conv2DTranspose(\n",
    "        filters=64, kernel_size=3, strides=(2, 2), padding=\"SAME\", activation=\"relu\"\n",
    "    )(x)\n",
    "decoder_outputs = tf.keras.layers.Conv2DTranspose(\n",
    "        filters=1, kernel_size=3, strides=(1, 1), padding=\"SAME\", activation=\"sigmoid\"\n",
    "    )(x)\n",
    "decoder = tf.keras.Model(latent_inputs, decoder_outputs, name=\"decoder\")\n",
    "decoder.summary()\n"
   ]
  },
  {
   "cell_type": "markdown",
   "metadata": {},
   "source": [
    "### Create model and train"
   ]
  },
  {
   "cell_type": "code",
   "execution_count": 12,
   "metadata": {
    "ExecuteTime": {
     "end_time": "2020-08-22T05:13:46.203445Z",
     "start_time": "2020-08-22T05:13:46.150270Z"
    }
   },
   "outputs": [
    {
     "data": {
      "text/plain": [
       "(50000, 784)"
      ]
     },
     "execution_count": 12,
     "metadata": {},
     "output_type": "execute_result"
    }
   ],
   "source": [
    "X_train.shape"
   ]
  },
  {
   "cell_type": "code",
   "execution_count": 13,
   "metadata": {
    "ExecuteTime": {
     "end_time": "2020-08-22T05:13:46.279979Z",
     "start_time": "2020-08-22T05:13:46.206138Z"
    }
   },
   "outputs": [
    {
     "data": {
      "text/plain": [
       "(50000, 28, 28, 1)"
      ]
     },
     "execution_count": 13,
     "metadata": {},
     "output_type": "execute_result"
    }
   ],
   "source": [
    "X_train = X_train.reshape((len(X_train), 28,28,1))\n",
    "X_train.shape"
   ]
  },
  {
   "cell_type": "code",
   "execution_count": 14,
   "metadata": {
    "ExecuteTime": {
     "end_time": "2020-08-22T05:13:46.508331Z",
     "start_time": "2020-08-22T05:13:46.281186Z"
    }
   },
   "outputs": [],
   "source": [
    "vae = VAE(encoder, decoder)\n",
    "vae.compile(optimizer=tf.keras.optimizers.Adam())"
   ]
  },
  {
   "cell_type": "code",
   "execution_count": 15,
   "metadata": {
    "ExecuteTime": {
     "end_time": "2020-08-22T05:18:23.122212Z",
     "start_time": "2020-08-22T05:13:46.509841Z"
    }
   },
   "outputs": [
    {
     "name": "stdout",
     "output_type": "stream",
     "text": [
      "Epoch 1/30\n",
      "391/391 [==============================] - 5s 13ms/step - loss: 261.7956 - reconstruction_loss: 259.9697 - kl_loss: 1.8259\n",
      "Epoch 2/30\n",
      "391/391 [==============================] - 4s 11ms/step - loss: 222.7414 - reconstruction_loss: 220.5559 - kl_loss: 2.1855\n",
      "Epoch 3/30\n",
      "391/391 [==============================] - 6s 15ms/step - loss: 216.4628 - reconstruction_loss: 214.2037 - kl_loss: 2.2592\n",
      "Epoch 4/30\n",
      "391/391 [==============================] - 10s 24ms/step - loss: 213.3199 - reconstruction_loss: 211.0240 - kl_loss: 2.2958\n",
      "Epoch 5/30\n",
      "391/391 [==============================] - 9s 23ms/step - loss: 211.3087 - reconstruction_loss: 208.9924 - kl_loss: 2.3163\n",
      "Epoch 6/30\n",
      "391/391 [==============================] - 9s 24ms/step - loss: 210.1208 - reconstruction_loss: 207.7960 - kl_loss: 2.3248\n",
      "Epoch 7/30\n",
      "391/391 [==============================] - 10s 25ms/step - loss: 209.0757 - reconstruction_loss: 206.7484 - kl_loss: 2.3273\n",
      "Epoch 8/30\n",
      "391/391 [==============================] - 9s 24ms/step - loss: 208.2791 - reconstruction_loss: 205.9472 - kl_loss: 2.3319\n",
      "Epoch 9/30\n",
      "391/391 [==============================] - 9s 24ms/step - loss: 207.6138 - reconstruction_loss: 205.2781 - kl_loss: 2.3357\n",
      "Epoch 10/30\n",
      "391/391 [==============================] - 8s 21ms/step - loss: 207.0641 - reconstruction_loss: 204.7291 - kl_loss: 2.3349\n",
      "Epoch 11/30\n",
      "391/391 [==============================] - 10s 25ms/step - loss: 206.5167 - reconstruction_loss: 204.1807 - kl_loss: 2.3360\n",
      "Epoch 12/30\n",
      "391/391 [==============================] - 9s 24ms/step - loss: 206.0367 - reconstruction_loss: 203.7007 - kl_loss: 2.3360\n",
      "Epoch 13/30\n",
      "391/391 [==============================] - 9s 24ms/step - loss: 205.7094 - reconstruction_loss: 203.3726 - kl_loss: 2.3368\n",
      "Epoch 14/30\n",
      "391/391 [==============================] - 10s 25ms/step - loss: 205.3722 - reconstruction_loss: 203.0375 - kl_loss: 2.3347\n",
      "Epoch 15/30\n",
      "391/391 [==============================] - 9s 24ms/step - loss: 205.0659 - reconstruction_loss: 202.7339 - kl_loss: 2.3320\n",
      "Epoch 16/30\n",
      "391/391 [==============================] - 9s 24ms/step - loss: 204.8039 - reconstruction_loss: 202.4734 - kl_loss: 2.3305\n",
      "Epoch 17/30\n",
      "391/391 [==============================] - 10s 25ms/step - loss: 204.4595 - reconstruction_loss: 202.1281 - kl_loss: 2.3315\n",
      "Epoch 18/30\n",
      "391/391 [==============================] - 10s 25ms/step - loss: 204.2283 - reconstruction_loss: 201.9002 - kl_loss: 2.3281\n",
      "Epoch 19/30\n",
      "391/391 [==============================] - 10s 25ms/step - loss: 204.0496 - reconstruction_loss: 201.7242 - kl_loss: 2.3253\n",
      "Epoch 20/30\n",
      "391/391 [==============================] - 10s 25ms/step - loss: 203.7700 - reconstruction_loss: 201.4437 - kl_loss: 2.3263\n",
      "Epoch 21/30\n",
      "391/391 [==============================] - 9s 23ms/step - loss: 203.6632 - reconstruction_loss: 201.3365 - kl_loss: 2.3268\n",
      "Epoch 22/30\n",
      "391/391 [==============================] - 9s 23ms/step - loss: 203.3525 - reconstruction_loss: 201.0300 - kl_loss: 2.3225\n",
      "Epoch 23/30\n",
      "391/391 [==============================] - 9s 23ms/step - loss: 203.2456 - reconstruction_loss: 200.9207 - kl_loss: 2.3248\n",
      "Epoch 24/30\n",
      "391/391 [==============================] - 10s 25ms/step - loss: 203.0180 - reconstruction_loss: 200.6960 - kl_loss: 2.3219 0s - loss: 203.0012 - reconstruction_loss: 200.6791 - k\n",
      "Epoch 25/30\n",
      "391/391 [==============================] - 10s 26ms/step - loss: 202.9142 - reconstruction_loss: 200.5924 - kl_loss: 2.3218\n",
      "Epoch 26/30\n",
      "391/391 [==============================] - 10s 24ms/step - loss: 202.7053 - reconstruction_loss: 200.3846 - kl_loss: 2.3207\n",
      "Epoch 27/30\n",
      "391/391 [==============================] - 9s 23ms/step - loss: 202.6115 - reconstruction_loss: 200.2946 - kl_loss: 2.3169\n",
      "Epoch 28/30\n",
      "391/391 [==============================] - 9s 23ms/step - loss: 202.4134 - reconstruction_loss: 200.0964 - kl_loss: 2.3170\n",
      "Epoch 29/30\n",
      "391/391 [==============================] - 10s 25ms/step - loss: 202.3161 - reconstruction_loss: 200.0013 - kl_loss: 2.3148\n",
      "Epoch 30/30\n",
      "391/391 [==============================] - 10s 25ms/step - loss: 202.1954 - reconstruction_loss: 199.8811 - kl_loss: 2.3143\n"
     ]
    },
    {
     "data": {
      "text/plain": [
       "<tensorflow.python.keras.callbacks.History at 0x7fa764225b70>"
      ]
     },
     "execution_count": 15,
     "metadata": {},
     "output_type": "execute_result"
    }
   ],
   "source": [
    "vae.fit(X_train, epochs=30, batch_size=128)"
   ]
  },
  {
   "cell_type": "code",
   "execution_count": 16,
   "metadata": {
    "ExecuteTime": {
     "end_time": "2020-08-22T05:18:23.183859Z",
     "start_time": "2020-08-22T05:18:23.126885Z"
    },
    "scrolled": false
   },
   "outputs": [],
   "source": [
    "# z = embedder.fit_transform(X_train_flat)"
   ]
  },
  {
   "cell_type": "code",
   "execution_count": 17,
   "metadata": {
    "ExecuteTime": {
     "end_time": "2020-08-22T05:18:27.692243Z",
     "start_time": "2020-08-22T05:18:23.187483Z"
    }
   },
   "outputs": [],
   "source": [
    "z = vae.encoder.predict(X_train)[0]"
   ]
  },
  {
   "cell_type": "markdown",
   "metadata": {},
   "source": [
    "### Plot model output"
   ]
  },
  {
   "cell_type": "code",
   "execution_count": 18,
   "metadata": {
    "ExecuteTime": {
     "end_time": "2020-08-22T05:18:32.155022Z",
     "start_time": "2020-08-22T05:18:27.694314Z"
    }
   },
   "outputs": [
    {
     "data": {
      "image/png": "[encoded data removed]",
      "text/plain": [
       "<Figure size 576x576 with 2 Axes>"
      ]
     },
     "metadata": {
      "needs_background": "light"
     },
     "output_type": "display_data"
    }
   ],
   "source": [
    "fig, ax = plt.subplots( figsize=(8, 8))\n",
    "sc = ax.scatter(\n",
    "    z[:, 0],\n",
    "    z[:, 1],\n",
    "    c=Y_train.astype(int)[:len(z)],\n",
    "    cmap=\"tab10\",\n",
    "    s=0.1,\n",
    "    alpha=0.5,\n",
    "    rasterized=True,\n",
    ")\n",
    "ax.axis('equal')\n",
    "ax.set_title(\"UMAP in Tensorflow embedding\", fontsize=20)\n",
    "plt.colorbar(sc, ax=ax);"
   ]
  },
  {
   "cell_type": "markdown",
   "metadata": {},
   "source": [
    "### View loss"
   ]
  },
  {
   "cell_type": "code",
   "execution_count": 19,
   "metadata": {
    "ExecuteTime": {
     "end_time": "2020-08-22T05:18:32.403920Z",
     "start_time": "2020-08-22T05:18:32.156622Z"
    }
   },
   "outputs": [],
   "source": [
    "from tfumap.umap import retrieve_tensors\n",
    "import seaborn as sns"
   ]
  },
  {
   "cell_type": "markdown",
   "metadata": {},
   "source": [
    "### Save output"
   ]
  },
  {
   "cell_type": "code",
   "execution_count": 20,
   "metadata": {
    "ExecuteTime": {
     "end_time": "2020-08-22T05:18:32.506051Z",
     "start_time": "2020-08-22T05:18:32.405922Z"
    }
   },
   "outputs": [],
   "source": [
    "from tfumap.paths import ensure_dir, MODEL_DIR"
   ]
  },
  {
   "cell_type": "code",
   "execution_count": 21,
   "metadata": {
    "ExecuteTime": {
     "end_time": "2020-08-22T05:18:32.630537Z",
     "start_time": "2020-08-22T05:18:32.508148Z"
    }
   },
   "outputs": [],
   "source": [
    "output_dir = MODEL_DIR/'projections'/ dataset / '64' / 'vae'\n",
    "ensure_dir(output_dir)"
   ]
  },
  {
   "cell_type": "code",
   "execution_count": 22,
   "metadata": {
    "ExecuteTime": {
     "end_time": "2020-08-22T05:18:32.752069Z",
     "start_time": "2020-08-22T05:18:32.632357Z"
    }
   },
   "outputs": [],
   "source": [
    "#vae.save(output_dir)"
   ]
  },
  {
   "cell_type": "code",
   "execution_count": 23,
   "metadata": {
    "ExecuteTime": {
     "end_time": "2020-08-22T05:18:34.634892Z",
     "start_time": "2020-08-22T05:18:32.759210Z"
    }
   },
   "outputs": [
    {
     "name": "stderr",
     "output_type": "stream",
     "text": [
      "WARNING: Logging before flag parsing goes to stderr.\n",
      "W0821 22:18:33.405104 140361652766528 deprecation.py:323] From /mnt/cube/tsainbur/conda_envs/tpy3/lib/python3.6/site-packages/tensorflow/python/training/tracking/tracking.py:111: Model.state_updates (from tensorflow.python.keras.engine.training) is deprecated and will be removed in a future version.\n",
      "Instructions for updating:\n",
      "This property should not be used in TensorFlow 2.0, as updates are applied automatically.\n",
      "W0821 22:18:33.422811 140361652766528 deprecation.py:323] From /mnt/cube/tsainbur/conda_envs/tpy3/lib/python3.6/site-packages/tensorflow/python/training/tracking/tracking.py:111: Layer.updates (from tensorflow.python.keras.engine.base_layer) is deprecated and will be removed in a future version.\n",
      "Instructions for updating:\n",
      "This property should not be used in TensorFlow 2.0, as updates are applied automatically.\n",
      "I0821 22:18:34.535793 140361652766528 builder_impl.py:775] Assets written to: /mnt/cube/tsainbur/Projects/github_repos/umap_tf_networks/models/projections/fmnist/64/vae/encoder/assets\n"
     ]
    }
   ],
   "source": [
    "vae.encoder.save(output_dir / 'encoder')"
   ]
  },
  {
   "cell_type": "code",
   "execution_count": 24,
   "metadata": {
    "ExecuteTime": {
     "end_time": "2020-08-22T05:18:37.052646Z",
     "start_time": "2020-08-22T05:18:34.640582Z"
    }
   },
   "outputs": [
    {
     "name": "stderr",
     "output_type": "stream",
     "text": [
      "I0821 22:18:36.974231 140361652766528 builder_impl.py:775] Assets written to: /mnt/cube/tsainbur/Projects/github_repos/umap_tf_networks/models/projections/fmnist/64/vae/encoder/assets\n"
     ]
    }
   ],
   "source": [
    "vae.decoder.save(output_dir / 'encoder')"
   ]
  },
  {
   "cell_type": "code",
   "execution_count": 25,
   "metadata": {
    "ExecuteTime": {
     "end_time": "2020-08-22T05:18:37.266886Z",
     "start_time": "2020-08-22T05:18:37.055658Z"
    }
   },
   "outputs": [],
   "source": [
    "#loss_df.to_pickle(output_dir / 'loss_df.pickle')"
   ]
  },
  {
   "cell_type": "code",
   "execution_count": 26,
   "metadata": {
    "ExecuteTime": {
     "end_time": "2020-08-22T05:18:37.461362Z",
     "start_time": "2020-08-22T05:18:37.273086Z"
    }
   },
   "outputs": [],
   "source": [
    "np.save(output_dir / 'z.npy', z)"
   ]
  },
  {
   "cell_type": "markdown",
   "metadata": {},
   "source": [
    "### compute metrics "
   ]
  },
  {
   "cell_type": "code",
   "execution_count": 27,
   "metadata": {
    "ExecuteTime": {
     "end_time": "2020-08-22T05:18:37.668815Z",
     "start_time": "2020-08-22T05:18:37.464821Z"
    }
   },
   "outputs": [
    {
     "data": {
      "text/plain": [
       "(10000, 784)"
      ]
     },
     "execution_count": 27,
     "metadata": {},
     "output_type": "execute_result"
    }
   ],
   "source": [
    "X_test.shape"
   ]
  },
  {
   "cell_type": "code",
   "execution_count": 28,
   "metadata": {
    "ExecuteTime": {
     "end_time": "2020-08-22T05:18:38.682747Z",
     "start_time": "2020-08-22T05:18:37.671303Z"
    }
   },
   "outputs": [],
   "source": [
    "z_test = encoder.predict(X_test.reshape((len(X_test), 28,28,1)))[0]"
   ]
  },
  {
   "cell_type": "markdown",
   "metadata": {},
   "source": [
    "#### silhouette"
   ]
  },
  {
   "cell_type": "code",
   "execution_count": 29,
   "metadata": {
    "ExecuteTime": {
     "end_time": "2020-08-22T05:18:38.811141Z",
     "start_time": "2020-08-22T05:18:38.684747Z"
    }
   },
   "outputs": [],
   "source": [
    "from tfumap.silhouette import silhouette_score_block"
   ]
  },
  {
   "cell_type": "code",
   "execution_count": 30,
   "metadata": {
    "ExecuteTime": {
     "end_time": "2020-08-22T05:18:54.676082Z",
     "start_time": "2020-08-22T05:18:38.812948Z"
    }
   },
   "outputs": [
    {
     "data": {
      "text/plain": [
       "0.037600484922248205"
      ]
     },
     "execution_count": 30,
     "metadata": {},
     "output_type": "execute_result"
    }
   ],
   "source": [
    "ss, sil_samp = silhouette_score_block(z, Y_train, n_jobs = -1)\n",
    "ss"
   ]
  },
  {
   "cell_type": "code",
   "execution_count": 31,
   "metadata": {
    "ExecuteTime": {
     "end_time": "2020-08-22T05:18:55.306863Z",
     "start_time": "2020-08-22T05:18:54.679033Z"
    }
   },
   "outputs": [
    {
     "data": {
      "text/plain": [
       "0.03570526587987456"
      ]
     },
     "execution_count": 31,
     "metadata": {},
     "output_type": "execute_result"
    }
   ],
   "source": [
    "ss_test, sil_samp_test = silhouette_score_block(z_test, Y_test, n_jobs = -1)\n",
    "ss_test"
   ]
  },
  {
   "cell_type": "code",
   "execution_count": 32,
   "metadata": {
    "ExecuteTime": {
     "end_time": "2020-08-22T05:18:59.908881Z",
     "start_time": "2020-08-22T05:18:55.308105Z"
    }
   },
   "outputs": [
    {
     "data": {
      "text/plain": [
       "<matplotlib.collections.PathCollection at 0x7fa7646e74e0>"
      ]
     },
     "execution_count": 32,
     "metadata": {},
     "output_type": "execute_result"
    },
    {
     "data": {
      "image/png": "[encoded data removed]",
      "text/plain": [
       "<Figure size 720x360 with 2 Axes>"
      ]
     },
     "metadata": {
      "needs_background": "light"
     },
     "output_type": "display_data"
    }
   ],
   "source": [
    "fig, axs = plt.subplots(ncols = 2, figsize=(10, 5))\n",
    "axs[0].scatter(z[:, 0], z[:, 1], s=0.1, alpha=0.5, c=sil_samp, cmap=plt.cm.viridis)\n",
    "axs[1].scatter(z_test[:, 0], z_test[:, 1], s=1, alpha=0.5, c=sil_samp_test, cmap=plt.cm.viridis)"
   ]
  },
  {
   "cell_type": "markdown",
   "metadata": {},
   "source": [
    "#### KNN"
   ]
  },
  {
   "cell_type": "code",
   "execution_count": 33,
   "metadata": {
    "ExecuteTime": {
     "end_time": "2020-08-22T05:19:00.005159Z",
     "start_time": "2020-08-22T05:18:59.910223Z"
    }
   },
   "outputs": [],
   "source": [
    "from sklearn.neighbors import KNeighborsClassifier"
   ]
  },
  {
   "cell_type": "code",
   "execution_count": 34,
   "metadata": {
    "ExecuteTime": {
     "end_time": "2020-08-22T05:23:30.843240Z",
     "start_time": "2020-08-22T05:19:00.006614Z"
    }
   },
   "outputs": [
    {
     "data": {
      "text/plain": [
       "0.883"
      ]
     },
     "execution_count": 34,
     "metadata": {},
     "output_type": "execute_result"
    }
   ],
   "source": [
    "neigh5 = KNeighborsClassifier(n_neighbors=5)\n",
    "neigh5.fit(z, Y_train)\n",
    "score_5nn = neigh5.score(z_test, Y_test)\n",
    "score_5nn"
   ]
  },
  {
   "cell_type": "code",
   "execution_count": 35,
   "metadata": {
    "ExecuteTime": {
     "end_time": "2020-08-22T05:26:54.250084Z",
     "start_time": "2020-08-22T05:23:30.844605Z"
    }
   },
   "outputs": [
    {
     "data": {
      "text/plain": [
       "0.8747"
      ]
     },
     "execution_count": 35,
     "metadata": {},
     "output_type": "execute_result"
    }
   ],
   "source": [
    "neigh1 = KNeighborsClassifier(n_neighbors=1)\n",
    "neigh1.fit(z, Y_train)\n",
    "score_1nn = neigh1.score(z_test, Y_test)\n",
    "score_1nn"
   ]
  },
  {
   "cell_type": "markdown",
   "metadata": {},
   "source": [
    "#### Trustworthiness"
   ]
  },
  {
   "cell_type": "code",
   "execution_count": 36,
   "metadata": {
    "ExecuteTime": {
     "end_time": "2020-08-22T05:26:54.441595Z",
     "start_time": "2020-08-22T05:26:54.256034Z"
    }
   },
   "outputs": [],
   "source": [
    "from sklearn.manifold import trustworthiness"
   ]
  },
  {
   "cell_type": "code",
   "execution_count": 37,
   "metadata": {
    "ExecuteTime": {
     "end_time": "2020-08-22T05:27:42.683646Z",
     "start_time": "2020-08-22T05:26:54.443820Z"
    }
   },
   "outputs": [],
   "source": [
    "tw = trustworthiness(X_train_flat[:10000], z[:10000])"
   ]
  },
  {
   "cell_type": "code",
   "execution_count": 38,
   "metadata": {
    "ExecuteTime": {
     "end_time": "2020-08-22T05:28:33.413793Z",
     "start_time": "2020-08-22T05:27:42.693416Z"
    }
   },
   "outputs": [],
   "source": [
    "tw_test = trustworthiness(X_test_flat[:10000], z_test[:10000])"
   ]
  },
  {
   "cell_type": "code",
   "execution_count": 39,
   "metadata": {
    "ExecuteTime": {
     "end_time": "2020-08-22T05:28:33.595794Z",
     "start_time": "2020-08-22T05:28:33.415647Z"
    }
   },
   "outputs": [
    {
     "data": {
      "text/plain": [
       "(0.9960193975180144, 0.9957007305844676)"
      ]
     },
     "execution_count": 39,
     "metadata": {},
     "output_type": "execute_result"
    }
   ],
   "source": [
    "tw, tw_test"
   ]
  },
  {
   "cell_type": "markdown",
   "metadata": {},
   "source": [
    "### Save output metrics"
   ]
  },
  {
   "cell_type": "code",
   "execution_count": 40,
   "metadata": {
    "ExecuteTime": {
     "end_time": "2020-08-22T05:28:33.724573Z",
     "start_time": "2020-08-22T05:28:33.597998Z"
    }
   },
   "outputs": [],
   "source": [
    "from tfumap.paths import ensure_dir, MODEL_DIR, DATA_DIR"
   ]
  },
  {
   "cell_type": "code",
   "execution_count": null,
   "metadata": {
    "ExecuteTime": {
     "end_time": "2020-08-22T01:16:59.943703Z",
     "start_time": "2020-08-22T01:16:02.004Z"
    }
   },
   "outputs": [],
   "source": []
  },
  {
   "cell_type": "markdown",
   "metadata": {},
   "source": [
    "#### train"
   ]
  },
  {
   "cell_type": "code",
   "execution_count": 41,
   "metadata": {
    "ExecuteTime": {
     "end_time": "2020-08-22T05:28:33.895196Z",
     "start_time": "2020-08-22T05:28:33.727610Z"
    }
   },
   "outputs": [
    {
     "data": {
      "text/html": [
       "<div>\n",
       "<style scoped>\n",
       "    .dataframe tbody tr th:only-of-type {\n",
       "        vertical-align: middle;\n",
       "    }\n",
       "\n",
       "    .dataframe tbody tr th {\n",
       "        vertical-align: top;\n",
       "    }\n",
       "\n",
       "    .dataframe thead th {\n",
       "        text-align: right;\n",
       "    }\n",
       "</style>\n",
       "<table border=\"1\" class=\"dataframe\">\n",
       "  <thead>\n",
       "    <tr style=\"text-align: right;\">\n",
       "      <th></th>\n",
       "      <th>dataset</th>\n",
       "      <th>class_</th>\n",
       "      <th>dim</th>\n",
       "      <th>trustworthiness</th>\n",
       "      <th>silhouette_score</th>\n",
       "      <th>silhouette_samples</th>\n",
       "    </tr>\n",
       "  </thead>\n",
       "  <tbody>\n",
       "    <tr>\n",
       "      <th>0</th>\n",
       "      <td>fmnist</td>\n",
       "      <td>vae</td>\n",
       "      <td>64</td>\n",
       "      <td>0.996019</td>\n",
       "      <td>0.0376</td>\n",
       "      <td>[0.08784711334541154, 0.13215393288081614, -0....</td>\n",
       "    </tr>\n",
       "  </tbody>\n",
       "</table>\n",
       "</div>"
      ],
      "text/plain": [
       "  dataset class_ dim  trustworthiness  silhouette_score  \\\n",
       "0  fmnist    vae  64         0.996019            0.0376   \n",
       "\n",
       "                                  silhouette_samples  \n",
       "0  [0.08784711334541154, 0.13215393288081614, -0....  "
      ]
     },
     "execution_count": 41,
     "metadata": {},
     "output_type": "execute_result"
    }
   ],
   "source": [
    "metrics_df = pd.DataFrame(\n",
    "    columns=[\n",
    "        \"dataset\",\n",
    "        \"class_\",\n",
    "        \"dim\",\n",
    "        \"trustworthiness\",\n",
    "        \"silhouette_score\",\n",
    "        \"silhouette_samples\",\n",
    "    ]\n",
    ")\n",
    "metrics_df.loc[len(metrics_df)] = [dataset, 'vae', n_components, tw, ss, sil_samp]\n",
    "metrics_df"
   ]
  },
  {
   "cell_type": "code",
   "execution_count": 42,
   "metadata": {
    "ExecuteTime": {
     "end_time": "2020-08-22T05:28:33.982326Z",
     "start_time": "2020-08-22T05:28:33.896806Z"
    }
   },
   "outputs": [],
   "source": [
    "save_loc = DATA_DIR / 'projection_metrics' /  'vae' / 'train' / str(n_components) / (dataset + '.pickle')\n",
    "ensure_dir(save_loc)\n",
    "metrics_df.to_pickle(save_loc)"
   ]
  },
  {
   "cell_type": "markdown",
   "metadata": {},
   "source": [
    "#### test"
   ]
  },
  {
   "cell_type": "code",
   "execution_count": 43,
   "metadata": {
    "ExecuteTime": {
     "end_time": "2020-08-22T05:28:34.134328Z",
     "start_time": "2020-08-22T05:28:33.983859Z"
    }
   },
   "outputs": [
    {
     "data": {
      "text/html": [
       "<div>\n",
       "<style scoped>\n",
       "    .dataframe tbody tr th:only-of-type {\n",
       "        vertical-align: middle;\n",
       "    }\n",
       "\n",
       "    .dataframe tbody tr th {\n",
       "        vertical-align: top;\n",
       "    }\n",
       "\n",
       "    .dataframe thead th {\n",
       "        text-align: right;\n",
       "    }\n",
       "</style>\n",
       "<table border=\"1\" class=\"dataframe\">\n",
       "  <thead>\n",
       "    <tr style=\"text-align: right;\">\n",
       "      <th></th>\n",
       "      <th>dataset</th>\n",
       "      <th>class_</th>\n",
       "      <th>dim</th>\n",
       "      <th>trustworthiness</th>\n",
       "      <th>silhouette_score</th>\n",
       "      <th>silhouette_samples</th>\n",
       "    </tr>\n",
       "  </thead>\n",
       "  <tbody>\n",
       "    <tr>\n",
       "      <th>1</th>\n",
       "      <td>fmnist</td>\n",
       "      <td>vae</td>\n",
       "      <td>64</td>\n",
       "      <td>0.995701</td>\n",
       "      <td>0.035705</td>\n",
       "      <td>[-0.04260079095420527, 0.060938056158322144, 0...</td>\n",
       "    </tr>\n",
       "  </tbody>\n",
       "</table>\n",
       "</div>"
      ],
      "text/plain": [
       "  dataset class_ dim  trustworthiness  silhouette_score  \\\n",
       "1  fmnist    vae  64         0.995701          0.035705   \n",
       "\n",
       "                                  silhouette_samples  \n",
       "1  [-0.04260079095420527, 0.060938056158322144, 0...  "
      ]
     },
     "execution_count": 43,
     "metadata": {},
     "output_type": "execute_result"
    }
   ],
   "source": [
    "metrics_df_test = pd.DataFrame(\n",
    "    columns=[\n",
    "        \"dataset\",\n",
    "        \"class_\",\n",
    "        \"dim\",\n",
    "        \"trustworthiness\",\n",
    "        \"silhouette_score\",\n",
    "        \"silhouette_samples\",\n",
    "    ]\n",
    ")\n",
    "metrics_df_test.loc[len(metrics_df)] = [dataset, 'vae', n_components, tw_test, ss_test, sil_samp_test]\n",
    "metrics_df_test"
   ]
  },
  {
   "cell_type": "code",
   "execution_count": 44,
   "metadata": {
    "ExecuteTime": {
     "end_time": "2020-08-22T05:28:34.197927Z",
     "start_time": "2020-08-22T05:28:34.147101Z"
    }
   },
   "outputs": [],
   "source": [
    "save_loc = DATA_DIR / 'projection_metrics' / 'vae' / 'test' / str(n_components) / (dataset + '.pickle')\n",
    "ensure_dir(save_loc)\n",
    "metrics_df.to_pickle(save_loc)"
   ]
  },
  {
   "cell_type": "markdown",
   "metadata": {},
   "source": [
    "#### knn "
   ]
  },
  {
   "cell_type": "code",
   "execution_count": 45,
   "metadata": {
    "ExecuteTime": {
     "end_time": "2020-08-22T05:28:34.266091Z",
     "start_time": "2020-08-22T05:28:34.199806Z"
    }
   },
   "outputs": [
    {
     "data": {
      "text/html": [
       "<div>\n",
       "<style scoped>\n",
       "    .dataframe tbody tr th:only-of-type {\n",
       "        vertical-align: middle;\n",
       "    }\n",
       "\n",
       "    .dataframe tbody tr th {\n",
       "        vertical-align: top;\n",
       "    }\n",
       "\n",
       "    .dataframe thead th {\n",
       "        text-align: right;\n",
       "    }\n",
       "</style>\n",
       "<table border=\"1\" class=\"dataframe\">\n",
       "  <thead>\n",
       "    <tr style=\"text-align: right;\">\n",
       "      <th></th>\n",
       "      <th>method_</th>\n",
       "      <th>dimensions</th>\n",
       "      <th>dataset</th>\n",
       "      <th>1NN_acc</th>\n",
       "      <th>5NN_acc</th>\n",
       "    </tr>\n",
       "  </thead>\n",
       "  <tbody>\n",
       "    <tr>\n",
       "      <th>0</th>\n",
       "      <td>vae</td>\n",
       "      <td>64</td>\n",
       "      <td>fmnist</td>\n",
       "      <td>0.8747</td>\n",
       "      <td>0.883</td>\n",
       "    </tr>\n",
       "  </tbody>\n",
       "</table>\n",
       "</div>"
      ],
      "text/plain": [
       "  method_ dimensions dataset  1NN_acc  5NN_acc\n",
       "0     vae         64  fmnist   0.8747    0.883"
      ]
     },
     "execution_count": 45,
     "metadata": {},
     "output_type": "execute_result"
    }
   ],
   "source": [
    "nn_acc_df = pd.DataFrame(columns = [\"method_\",\"dimensions\",\"dataset\",\"1NN_acc\",\"5NN_acc\"])\n",
    "nn_acc_df.loc[len(nn_acc_df)] = ['vae', n_components, dataset,  score_1nn, score_5nn]\n",
    "nn_acc_df"
   ]
  },
  {
   "cell_type": "code",
   "execution_count": 46,
   "metadata": {
    "ExecuteTime": {
     "end_time": "2020-08-22T05:28:34.331299Z",
     "start_time": "2020-08-22T05:28:34.268861Z"
    }
   },
   "outputs": [],
   "source": [
    "save_loc = DATA_DIR / 'knn_classifier' / 'vae' / 'train' / str(n_components) / (dataset + '.pickle')\n",
    "ensure_dir(save_loc)\n",
    "nn_acc_df.to_pickle(save_loc)"
   ]
  },
  {
   "cell_type": "markdown",
   "metadata": {},
   "source": [
    "### Reconstruction"
   ]
  },
  {
   "cell_type": "code",
   "execution_count": 47,
   "metadata": {
    "ExecuteTime": {
     "end_time": "2020-08-22T05:28:34.379654Z",
     "start_time": "2020-08-22T05:28:34.332553Z"
    }
   },
   "outputs": [],
   "source": [
    "from sklearn.metrics import mean_squared_error, mean_absolute_error, median_absolute_error, r2_score"
   ]
  },
  {
   "cell_type": "code",
   "execution_count": 48,
   "metadata": {
    "ExecuteTime": {
     "end_time": "2020-08-22T05:28:35.567100Z",
     "start_time": "2020-08-22T05:28:34.381604Z"
    }
   },
   "outputs": [],
   "source": [
    "X_recon = vae.decoder.predict(vae.encoder.predict(X_test.reshape((len(X_test), 28, 28, 1)))[0])\n",
    "X_real = X_test.reshape((len(X_test), 28, 28, 1))"
   ]
  },
  {
   "cell_type": "code",
   "execution_count": 49,
   "metadata": {
    "ExecuteTime": {
     "end_time": "2020-08-22T05:28:35.662458Z",
     "start_time": "2020-08-22T05:28:35.570424Z"
    }
   },
   "outputs": [],
   "source": [
    "x_real = X_test.reshape((len(X_test), np.product(np.shape(X_test)[1:])))\n",
    "x_recon = X_recon.reshape((len(X_test), np.product(np.shape(X_test)[1:])))"
   ]
  },
  {
   "cell_type": "code",
   "execution_count": null,
   "metadata": {
    "ExecuteTime": {
     "end_time": "2020-08-22T01:27:32.104816Z",
     "start_time": "2020-08-22T01:27:32.060215Z"
    }
   },
   "outputs": [],
   "source": []
  },
  {
   "cell_type": "code",
   "execution_count": 50,
   "metadata": {
    "ExecuteTime": {
     "end_time": "2020-08-22T05:28:36.131876Z",
     "start_time": "2020-08-22T05:28:35.663875Z"
    }
   },
   "outputs": [
    {
     "data": {
      "text/html": [
       "<div>\n",
       "<style scoped>\n",
       "    .dataframe tbody tr th:only-of-type {\n",
       "        vertical-align: middle;\n",
       "    }\n",
       "\n",
       "    .dataframe tbody tr th {\n",
       "        vertical-align: top;\n",
       "    }\n",
       "\n",
       "    .dataframe thead th {\n",
       "        text-align: right;\n",
       "    }\n",
       "</style>\n",
       "<table border=\"1\" class=\"dataframe\">\n",
       "  <thead>\n",
       "    <tr style=\"text-align: right;\">\n",
       "      <th></th>\n",
       "      <th>method_</th>\n",
       "      <th>dimensions</th>\n",
       "      <th>dataset</th>\n",
       "      <th>MSE</th>\n",
       "      <th>MAE</th>\n",
       "      <th>MedAE</th>\n",
       "      <th>R2</th>\n",
       "    </tr>\n",
       "  </thead>\n",
       "  <tbody>\n",
       "    <tr>\n",
       "      <th>0</th>\n",
       "      <td>vae</td>\n",
       "      <td>64</td>\n",
       "      <td>fmnist</td>\n",
       "      <td>0.005772</td>\n",
       "      <td>0.03495</td>\n",
       "      <td>0.011457</td>\n",
       "      <td>0.870439</td>\n",
       "    </tr>\n",
       "  </tbody>\n",
       "</table>\n",
       "</div>"
      ],
      "text/plain": [
       "  method_ dimensions dataset       MSE      MAE     MedAE        R2\n",
       "0     vae         64  fmnist  0.005772  0.03495  0.011457  0.870439"
      ]
     },
     "execution_count": 50,
     "metadata": {},
     "output_type": "execute_result"
    }
   ],
   "source": [
    "reconstruction_acc_df = pd.DataFrame(\n",
    "    columns=[\"method_\", \"dimensions\", \"dataset\", \"MSE\", \"MAE\", \"MedAE\", \"R2\"]\n",
    ")\n",
    "\n",
    "MSE = mean_squared_error(\n",
    "    x_real, \n",
    "    x_recon\n",
    ")\n",
    "MAE = mean_absolute_error(\n",
    "    x_real, \n",
    "    x_recon\n",
    ")\n",
    "MedAE = median_absolute_error(\n",
    "    x_real, \n",
    "    x_recon\n",
    ")\n",
    "R2 = r2_score(\n",
    "    x_real, \n",
    "    x_recon\n",
    ")\n",
    "\n",
    "reconstruction_acc_df.loc[len(reconstruction_acc_df)] = ['vae', n_components, dataset, MSE, MAE, MedAE, R2]\n",
    "reconstruction_acc_df"
   ]
  },
  {
   "cell_type": "code",
   "execution_count": 51,
   "metadata": {
    "ExecuteTime": {
     "end_time": "2020-08-22T05:28:36.219229Z",
     "start_time": "2020-08-22T05:28:36.133352Z"
    }
   },
   "outputs": [],
   "source": [
    "save_loc = DATA_DIR / 'reconstruction_acc' / 'vae' / str(n_components) / (dataset + '.pickle')\n",
    "ensure_dir(save_loc)\n",
    "reconstruction_acc_df.to_pickle(save_loc)"
   ]
  },
  {
   "cell_type": "markdown",
   "metadata": {},
   "source": [
    "### Compute clustering quality"
   ]
  },
  {
   "cell_type": "code",
   "execution_count": 52,
   "metadata": {
    "ExecuteTime": {
     "end_time": "2020-08-22T05:28:36.336332Z",
     "start_time": "2020-08-22T05:28:36.222084Z"
    }
   },
   "outputs": [],
   "source": [
    "from sklearn.cluster import KMeans\n",
    "from sklearn.metrics import homogeneity_completeness_v_measure"
   ]
  },
  {
   "cell_type": "code",
   "execution_count": 53,
   "metadata": {
    "ExecuteTime": {
     "end_time": "2020-08-22T05:28:36.432310Z",
     "start_time": "2020-08-22T05:28:36.339825Z"
    }
   },
   "outputs": [],
   "source": [
    "def get_cluster_metrics(row, n_init=5):\n",
    "    \n",
    "    # load cluster information\n",
    "    save_loc = DATA_DIR / 'clustering_metric_df'/ ('_'.join([row.class_, str(row.dim), row.dataset]) + '.pickle')\n",
    "    print(save_loc)\n",
    "    if save_loc.exists() and save_loc.is_file():\n",
    "        \n",
    "        cluster_df = pd.read_pickle(save_loc)\n",
    "        return cluster_df\n",
    "    \n",
    "    # make cluster metric dataframe\n",
    "    cluster_df = pd.DataFrame(\n",
    "        columns=[\n",
    "            \"dataset\",\n",
    "            \"class_\",\n",
    "            \"dim\",\n",
    "            \"silhouette\",\n",
    "            \"homogeneity\",\n",
    "            \"completeness\",\n",
    "            \"v_measure\",\n",
    "            \"init_\",\n",
    "            \"n_clusters\",\n",
    "            \"model\",\n",
    "        ]\n",
    "    )\n",
    "    y = row.train_label\n",
    "    z = row.train_z\n",
    "    n_labels = len(np.unique(y))\n",
    "    for n_clusters in tqdm(np.arange(n_labels - int(n_labels / 2), n_labels + int(n_labels / 2)), leave=False, desc = 'n_clusters'):\n",
    "        for init_ in tqdm(range(n_init), leave=False, desc='init'):\n",
    "            kmeans = KMeans(n_clusters=n_clusters, random_state=init_).fit(z)\n",
    "            clustered_y = kmeans.labels_\n",
    "            homogeneity, completeness, v_measure = homogeneity_completeness_v_measure(\n",
    "                y, clustered_y\n",
    "            )\n",
    "            ss, _ = silhouette_score_block(z, clustered_y)\n",
    "            cluster_df.loc[len(cluster_df)] = [\n",
    "                row.dataset,\n",
    "                row.class_,\n",
    "                row.dim,\n",
    "                ss,\n",
    "                homogeneity,\n",
    "                completeness,\n",
    "                v_measure,\n",
    "                init_,\n",
    "                n_clusters,\n",
    "                kmeans,\n",
    "            ]\n",
    "    \n",
    "     # save cluster df in case this fails somewhere\n",
    "    ensure_dir(save_loc)\n",
    "    cluster_df.to_pickle(save_loc)\n",
    "    return cluster_df"
   ]
  },
  {
   "cell_type": "code",
   "execution_count": 54,
   "metadata": {
    "ExecuteTime": {
     "end_time": "2020-08-22T05:28:36.649893Z",
     "start_time": "2020-08-22T05:28:36.433863Z"
    }
   },
   "outputs": [
    {
     "data": {
      "text/html": [
       "<div>\n",
       "<style scoped>\n",
       "    .dataframe tbody tr th:only-of-type {\n",
       "        vertical-align: middle;\n",
       "    }\n",
       "\n",
       "    .dataframe tbody tr th {\n",
       "        vertical-align: top;\n",
       "    }\n",
       "\n",
       "    .dataframe thead th {\n",
       "        text-align: right;\n",
       "    }\n",
       "</style>\n",
       "<table border=\"1\" class=\"dataframe\">\n",
       "  <thead>\n",
       "    <tr style=\"text-align: right;\">\n",
       "      <th></th>\n",
       "      <th>dataset</th>\n",
       "      <th>class_</th>\n",
       "      <th>train_z</th>\n",
       "      <th>train_label</th>\n",
       "      <th>dim</th>\n",
       "    </tr>\n",
       "  </thead>\n",
       "  <tbody>\n",
       "    <tr>\n",
       "      <th>0</th>\n",
       "      <td>fmnist</td>\n",
       "      <td>vae</td>\n",
       "      <td>[[-1.1192247, -0.44295377, -0.63528687, -0.864...</td>\n",
       "      <td>[9, 0, 0, 3, 0, 2, 7, 2, 5, 5, 0, 9, 5, 5, 7, ...</td>\n",
       "      <td>64</td>\n",
       "    </tr>\n",
       "  </tbody>\n",
       "</table>\n",
       "</div>"
      ],
      "text/plain": [
       "  dataset class_                                            train_z  \\\n",
       "0  fmnist    vae  [[-1.1192247, -0.44295377, -0.63528687, -0.864...   \n",
       "\n",
       "                                         train_label dim  \n",
       "0  [9, 0, 0, 3, 0, 2, 7, 2, 5, 5, 0, 9, 5, 5, 7, ...  64  "
      ]
     },
     "execution_count": 54,
     "metadata": {},
     "output_type": "execute_result"
    }
   ],
   "source": [
    "projection_df = pd.DataFrame(columns = ['dataset', 'class_', 'train_z', 'train_label', 'dim'])\n",
    "projection_df.loc[len(projection_df)] = [dataset, 'vae', z, Y_train, n_components]\n",
    "projection_df"
   ]
  },
  {
   "cell_type": "code",
   "execution_count": 55,
   "metadata": {
    "ExecuteTime": {
     "end_time": "2020-08-22T05:28:36.832334Z",
     "start_time": "2020-08-22T05:28:36.651368Z"
    }
   },
   "outputs": [
    {
     "name": "stdout",
     "output_type": "stream",
     "text": [
      "/mnt/cube/tsainbur/Projects/github_repos/umap_tf_networks/data/clustering_metric_df/vae_64_fmnist.pickle\n"
     ]
    },
    {
     "data": {
      "text/html": [
       "<div>\n",
       "<style scoped>\n",
       "    .dataframe tbody tr th:only-of-type {\n",
       "        vertical-align: middle;\n",
       "    }\n",
       "\n",
       "    .dataframe tbody tr th {\n",
       "        vertical-align: top;\n",
       "    }\n",
       "\n",
       "    .dataframe thead th {\n",
       "        text-align: right;\n",
       "    }\n",
       "</style>\n",
       "<table border=\"1\" class=\"dataframe\">\n",
       "  <thead>\n",
       "    <tr style=\"text-align: right;\">\n",
       "      <th></th>\n",
       "      <th>dataset</th>\n",
       "      <th>class_</th>\n",
       "      <th>dim</th>\n",
       "      <th>silhouette</th>\n",
       "      <th>homogeneity</th>\n",
       "      <th>completeness</th>\n",
       "      <th>v_measure</th>\n",
       "      <th>init_</th>\n",
       "      <th>n_clusters</th>\n",
       "      <th>model</th>\n",
       "    </tr>\n",
       "  </thead>\n",
       "  <tbody>\n",
       "    <tr>\n",
       "      <th>0</th>\n",
       "      <td>fmnist</td>\n",
       "      <td>vae</td>\n",
       "      <td>64</td>\n",
       "      <td>0.075441</td>\n",
       "      <td>0.434067</td>\n",
       "      <td>0.629836</td>\n",
       "      <td>0.513940</td>\n",
       "      <td>0</td>\n",
       "      <td>5</td>\n",
       "      <td>KMeans(n_clusters=5, random_state=0)</td>\n",
       "    </tr>\n",
       "    <tr>\n",
       "      <th>1</th>\n",
       "      <td>fmnist</td>\n",
       "      <td>vae</td>\n",
       "      <td>64</td>\n",
       "      <td>0.075386</td>\n",
       "      <td>0.434367</td>\n",
       "      <td>0.630538</td>\n",
       "      <td>0.514383</td>\n",
       "      <td>1</td>\n",
       "      <td>5</td>\n",
       "      <td>KMeans(n_clusters=5, random_state=1)</td>\n",
       "    </tr>\n",
       "    <tr>\n",
       "      <th>2</th>\n",
       "      <td>fmnist</td>\n",
       "      <td>vae</td>\n",
       "      <td>64</td>\n",
       "      <td>0.075436</td>\n",
       "      <td>0.433972</td>\n",
       "      <td>0.629794</td>\n",
       "      <td>0.513859</td>\n",
       "      <td>2</td>\n",
       "      <td>5</td>\n",
       "      <td>KMeans(n_clusters=5, random_state=2)</td>\n",
       "    </tr>\n",
       "    <tr>\n",
       "      <th>3</th>\n",
       "      <td>fmnist</td>\n",
       "      <td>vae</td>\n",
       "      <td>64</td>\n",
       "      <td>0.075443</td>\n",
       "      <td>0.434030</td>\n",
       "      <td>0.629781</td>\n",
       "      <td>0.513896</td>\n",
       "      <td>3</td>\n",
       "      <td>5</td>\n",
       "      <td>KMeans(n_clusters=5, random_state=3)</td>\n",
       "    </tr>\n",
       "    <tr>\n",
       "      <th>4</th>\n",
       "      <td>fmnist</td>\n",
       "      <td>vae</td>\n",
       "      <td>64</td>\n",
       "      <td>0.075381</td>\n",
       "      <td>0.434228</td>\n",
       "      <td>0.630431</td>\n",
       "      <td>0.514251</td>\n",
       "      <td>4</td>\n",
       "      <td>5</td>\n",
       "      <td>KMeans(n_clusters=5, random_state=4)</td>\n",
       "    </tr>\n",
       "    <tr>\n",
       "      <th>5</th>\n",
       "      <td>fmnist</td>\n",
       "      <td>vae</td>\n",
       "      <td>64</td>\n",
       "      <td>0.076639</td>\n",
       "      <td>0.464115</td>\n",
       "      <td>0.598282</td>\n",
       "      <td>0.522727</td>\n",
       "      <td>0</td>\n",
       "      <td>6</td>\n",
       "      <td>KMeans(n_clusters=6, random_state=0)</td>\n",
       "    </tr>\n",
       "    <tr>\n",
       "      <th>6</th>\n",
       "      <td>fmnist</td>\n",
       "      <td>vae</td>\n",
       "      <td>64</td>\n",
       "      <td>0.076589</td>\n",
       "      <td>0.464236</td>\n",
       "      <td>0.598467</td>\n",
       "      <td>0.522874</td>\n",
       "      <td>1</td>\n",
       "      <td>6</td>\n",
       "      <td>KMeans(n_clusters=6, random_state=1)</td>\n",
       "    </tr>\n",
       "    <tr>\n",
       "      <th>7</th>\n",
       "      <td>fmnist</td>\n",
       "      <td>vae</td>\n",
       "      <td>64</td>\n",
       "      <td>0.076615</td>\n",
       "      <td>0.463996</td>\n",
       "      <td>0.598147</td>\n",
       "      <td>0.522600</td>\n",
       "      <td>2</td>\n",
       "      <td>6</td>\n",
       "      <td>KMeans(n_clusters=6, random_state=2)</td>\n",
       "    </tr>\n",
       "    <tr>\n",
       "      <th>8</th>\n",
       "      <td>fmnist</td>\n",
       "      <td>vae</td>\n",
       "      <td>64</td>\n",
       "      <td>0.076618</td>\n",
       "      <td>0.464026</td>\n",
       "      <td>0.598210</td>\n",
       "      <td>0.522643</td>\n",
       "      <td>3</td>\n",
       "      <td>6</td>\n",
       "      <td>KMeans(n_clusters=6, random_state=3)</td>\n",
       "    </tr>\n",
       "    <tr>\n",
       "      <th>9</th>\n",
       "      <td>fmnist</td>\n",
       "      <td>vae</td>\n",
       "      <td>64</td>\n",
       "      <td>0.076642</td>\n",
       "      <td>0.463697</td>\n",
       "      <td>0.597763</td>\n",
       "      <td>0.522264</td>\n",
       "      <td>4</td>\n",
       "      <td>6</td>\n",
       "      <td>KMeans(n_clusters=6, random_state=4)</td>\n",
       "    </tr>\n",
       "    <tr>\n",
       "      <th>10</th>\n",
       "      <td>fmnist</td>\n",
       "      <td>vae</td>\n",
       "      <td>64</td>\n",
       "      <td>0.081465</td>\n",
       "      <td>0.486216</td>\n",
       "      <td>0.584727</td>\n",
       "      <td>0.530941</td>\n",
       "      <td>0</td>\n",
       "      <td>7</td>\n",
       "      <td>KMeans(n_clusters=7, random_state=0)</td>\n",
       "    </tr>\n",
       "    <tr>\n",
       "      <th>11</th>\n",
       "      <td>fmnist</td>\n",
       "      <td>vae</td>\n",
       "      <td>64</td>\n",
       "      <td>0.081450</td>\n",
       "      <td>0.486295</td>\n",
       "      <td>0.584801</td>\n",
       "      <td>0.531018</td>\n",
       "      <td>1</td>\n",
       "      <td>7</td>\n",
       "      <td>KMeans(n_clusters=7, random_state=1)</td>\n",
       "    </tr>\n",
       "    <tr>\n",
       "      <th>12</th>\n",
       "      <td>fmnist</td>\n",
       "      <td>vae</td>\n",
       "      <td>64</td>\n",
       "      <td>0.081442</td>\n",
       "      <td>0.486552</td>\n",
       "      <td>0.585027</td>\n",
       "      <td>0.531265</td>\n",
       "      <td>2</td>\n",
       "      <td>7</td>\n",
       "      <td>KMeans(n_clusters=7, random_state=2)</td>\n",
       "    </tr>\n",
       "    <tr>\n",
       "      <th>13</th>\n",
       "      <td>fmnist</td>\n",
       "      <td>vae</td>\n",
       "      <td>64</td>\n",
       "      <td>0.083999</td>\n",
       "      <td>0.508233</td>\n",
       "      <td>0.632037</td>\n",
       "      <td>0.563414</td>\n",
       "      <td>3</td>\n",
       "      <td>7</td>\n",
       "      <td>KMeans(n_clusters=7, random_state=3)</td>\n",
       "    </tr>\n",
       "    <tr>\n",
       "      <th>14</th>\n",
       "      <td>fmnist</td>\n",
       "      <td>vae</td>\n",
       "      <td>64</td>\n",
       "      <td>0.081438</td>\n",
       "      <td>0.486319</td>\n",
       "      <td>0.584761</td>\n",
       "      <td>0.531016</td>\n",
       "      <td>4</td>\n",
       "      <td>7</td>\n",
       "      <td>KMeans(n_clusters=7, random_state=4)</td>\n",
       "    </tr>\n",
       "    <tr>\n",
       "      <th>15</th>\n",
       "      <td>fmnist</td>\n",
       "      <td>vae</td>\n",
       "      <td>64</td>\n",
       "      <td>0.084365</td>\n",
       "      <td>0.530950</td>\n",
       "      <td>0.604557</td>\n",
       "      <td>0.565368</td>\n",
       "      <td>0</td>\n",
       "      <td>8</td>\n",
       "      <td>KMeans(random_state=0)</td>\n",
       "    </tr>\n",
       "    <tr>\n",
       "      <th>16</th>\n",
       "      <td>fmnist</td>\n",
       "      <td>vae</td>\n",
       "      <td>64</td>\n",
       "      <td>0.086006</td>\n",
       "      <td>0.528742</td>\n",
       "      <td>0.604510</td>\n",
       "      <td>0.564093</td>\n",
       "      <td>1</td>\n",
       "      <td>8</td>\n",
       "      <td>KMeans(random_state=1)</td>\n",
       "    </tr>\n",
       "    <tr>\n",
       "      <th>17</th>\n",
       "      <td>fmnist</td>\n",
       "      <td>vae</td>\n",
       "      <td>64</td>\n",
       "      <td>0.086015</td>\n",
       "      <td>0.528536</td>\n",
       "      <td>0.604325</td>\n",
       "      <td>0.563896</td>\n",
       "      <td>2</td>\n",
       "      <td>8</td>\n",
       "      <td>KMeans(random_state=2)</td>\n",
       "    </tr>\n",
       "    <tr>\n",
       "      <th>18</th>\n",
       "      <td>fmnist</td>\n",
       "      <td>vae</td>\n",
       "      <td>64</td>\n",
       "      <td>0.080294</td>\n",
       "      <td>0.547055</td>\n",
       "      <td>0.618174</td>\n",
       "      <td>0.580444</td>\n",
       "      <td>3</td>\n",
       "      <td>8</td>\n",
       "      <td>KMeans(random_state=3)</td>\n",
       "    </tr>\n",
       "    <tr>\n",
       "      <th>19</th>\n",
       "      <td>fmnist</td>\n",
       "      <td>vae</td>\n",
       "      <td>64</td>\n",
       "      <td>0.084359</td>\n",
       "      <td>0.531596</td>\n",
       "      <td>0.605276</td>\n",
       "      <td>0.566048</td>\n",
       "      <td>4</td>\n",
       "      <td>8</td>\n",
       "      <td>KMeans(random_state=4)</td>\n",
       "    </tr>\n",
       "    <tr>\n",
       "      <th>20</th>\n",
       "      <td>fmnist</td>\n",
       "      <td>vae</td>\n",
       "      <td>64</td>\n",
       "      <td>0.058618</td>\n",
       "      <td>0.523928</td>\n",
       "      <td>0.560138</td>\n",
       "      <td>0.541428</td>\n",
       "      <td>0</td>\n",
       "      <td>9</td>\n",
       "      <td>KMeans(n_clusters=9, random_state=0)</td>\n",
       "    </tr>\n",
       "    <tr>\n",
       "      <th>21</th>\n",
       "      <td>fmnist</td>\n",
       "      <td>vae</td>\n",
       "      <td>64</td>\n",
       "      <td>0.060035</td>\n",
       "      <td>0.548926</td>\n",
       "      <td>0.588564</td>\n",
       "      <td>0.568054</td>\n",
       "      <td>1</td>\n",
       "      <td>9</td>\n",
       "      <td>KMeans(n_clusters=9, random_state=1)</td>\n",
       "    </tr>\n",
       "    <tr>\n",
       "      <th>22</th>\n",
       "      <td>fmnist</td>\n",
       "      <td>vae</td>\n",
       "      <td>64</td>\n",
       "      <td>0.060054</td>\n",
       "      <td>0.548991</td>\n",
       "      <td>0.588694</td>\n",
       "      <td>0.568150</td>\n",
       "      <td>2</td>\n",
       "      <td>9</td>\n",
       "      <td>KMeans(n_clusters=9, random_state=2)</td>\n",
       "    </tr>\n",
       "    <tr>\n",
       "      <th>23</th>\n",
       "      <td>fmnist</td>\n",
       "      <td>vae</td>\n",
       "      <td>64</td>\n",
       "      <td>0.059993</td>\n",
       "      <td>0.549025</td>\n",
       "      <td>0.588659</td>\n",
       "      <td>0.568151</td>\n",
       "      <td>3</td>\n",
       "      <td>9</td>\n",
       "      <td>KMeans(n_clusters=9, random_state=3)</td>\n",
       "    </tr>\n",
       "    <tr>\n",
       "      <th>24</th>\n",
       "      <td>fmnist</td>\n",
       "      <td>vae</td>\n",
       "      <td>64</td>\n",
       "      <td>0.060070</td>\n",
       "      <td>0.548873</td>\n",
       "      <td>0.588559</td>\n",
       "      <td>0.568024</td>\n",
       "      <td>4</td>\n",
       "      <td>9</td>\n",
       "      <td>KMeans(n_clusters=9, random_state=4)</td>\n",
       "    </tr>\n",
       "    <tr>\n",
       "      <th>25</th>\n",
       "      <td>fmnist</td>\n",
       "      <td>vae</td>\n",
       "      <td>64</td>\n",
       "      <td>0.066894</td>\n",
       "      <td>0.588542</td>\n",
       "      <td>0.605897</td>\n",
       "      <td>0.597093</td>\n",
       "      <td>0</td>\n",
       "      <td>10</td>\n",
       "      <td>KMeans(n_clusters=10, random_state=0)</td>\n",
       "    </tr>\n",
       "    <tr>\n",
       "      <th>26</th>\n",
       "      <td>fmnist</td>\n",
       "      <td>vae</td>\n",
       "      <td>64</td>\n",
       "      <td>0.082094</td>\n",
       "      <td>0.593916</td>\n",
       "      <td>0.608147</td>\n",
       "      <td>0.600947</td>\n",
       "      <td>1</td>\n",
       "      <td>10</td>\n",
       "      <td>KMeans(n_clusters=10, random_state=1)</td>\n",
       "    </tr>\n",
       "    <tr>\n",
       "      <th>27</th>\n",
       "      <td>fmnist</td>\n",
       "      <td>vae</td>\n",
       "      <td>64</td>\n",
       "      <td>0.066963</td>\n",
       "      <td>0.588447</td>\n",
       "      <td>0.605831</td>\n",
       "      <td>0.597012</td>\n",
       "      <td>2</td>\n",
       "      <td>10</td>\n",
       "      <td>KMeans(n_clusters=10, random_state=2)</td>\n",
       "    </tr>\n",
       "    <tr>\n",
       "      <th>28</th>\n",
       "      <td>fmnist</td>\n",
       "      <td>vae</td>\n",
       "      <td>64</td>\n",
       "      <td>0.066898</td>\n",
       "      <td>0.588546</td>\n",
       "      <td>0.605936</td>\n",
       "      <td>0.597114</td>\n",
       "      <td>3</td>\n",
       "      <td>10</td>\n",
       "      <td>KMeans(n_clusters=10, random_state=3)</td>\n",
       "    </tr>\n",
       "    <tr>\n",
       "      <th>29</th>\n",
       "      <td>fmnist</td>\n",
       "      <td>vae</td>\n",
       "      <td>64</td>\n",
       "      <td>0.065615</td>\n",
       "      <td>0.563295</td>\n",
       "      <td>0.578518</td>\n",
       "      <td>0.570805</td>\n",
       "      <td>4</td>\n",
       "      <td>10</td>\n",
       "      <td>KMeans(n_clusters=10, random_state=4)</td>\n",
       "    </tr>\n",
       "    <tr>\n",
       "      <th>30</th>\n",
       "      <td>fmnist</td>\n",
       "      <td>vae</td>\n",
       "      <td>64</td>\n",
       "      <td>0.084476</td>\n",
       "      <td>0.620039</td>\n",
       "      <td>0.607791</td>\n",
       "      <td>0.613854</td>\n",
       "      <td>0</td>\n",
       "      <td>11</td>\n",
       "      <td>KMeans(n_clusters=11, random_state=0)</td>\n",
       "    </tr>\n",
       "    <tr>\n",
       "      <th>31</th>\n",
       "      <td>fmnist</td>\n",
       "      <td>vae</td>\n",
       "      <td>64</td>\n",
       "      <td>0.068088</td>\n",
       "      <td>0.598380</td>\n",
       "      <td>0.585620</td>\n",
       "      <td>0.591931</td>\n",
       "      <td>1</td>\n",
       "      <td>11</td>\n",
       "      <td>KMeans(n_clusters=11, random_state=1)</td>\n",
       "    </tr>\n",
       "    <tr>\n",
       "      <th>32</th>\n",
       "      <td>fmnist</td>\n",
       "      <td>vae</td>\n",
       "      <td>64</td>\n",
       "      <td>0.070986</td>\n",
       "      <td>0.591050</td>\n",
       "      <td>0.581315</td>\n",
       "      <td>0.586142</td>\n",
       "      <td>2</td>\n",
       "      <td>11</td>\n",
       "      <td>KMeans(n_clusters=11, random_state=2)</td>\n",
       "    </tr>\n",
       "    <tr>\n",
       "      <th>33</th>\n",
       "      <td>fmnist</td>\n",
       "      <td>vae</td>\n",
       "      <td>64</td>\n",
       "      <td>0.070999</td>\n",
       "      <td>0.591397</td>\n",
       "      <td>0.581625</td>\n",
       "      <td>0.586470</td>\n",
       "      <td>3</td>\n",
       "      <td>11</td>\n",
       "      <td>KMeans(n_clusters=11, random_state=3)</td>\n",
       "    </tr>\n",
       "    <tr>\n",
       "      <th>34</th>\n",
       "      <td>fmnist</td>\n",
       "      <td>vae</td>\n",
       "      <td>64</td>\n",
       "      <td>0.071108</td>\n",
       "      <td>0.591045</td>\n",
       "      <td>0.581313</td>\n",
       "      <td>0.586139</td>\n",
       "      <td>4</td>\n",
       "      <td>11</td>\n",
       "      <td>KMeans(n_clusters=11, random_state=4)</td>\n",
       "    </tr>\n",
       "    <tr>\n",
       "      <th>35</th>\n",
       "      <td>fmnist</td>\n",
       "      <td>vae</td>\n",
       "      <td>64</td>\n",
       "      <td>0.072021</td>\n",
       "      <td>0.600651</td>\n",
       "      <td>0.566597</td>\n",
       "      <td>0.583127</td>\n",
       "      <td>0</td>\n",
       "      <td>12</td>\n",
       "      <td>KMeans(n_clusters=12, random_state=0)</td>\n",
       "    </tr>\n",
       "    <tr>\n",
       "      <th>36</th>\n",
       "      <td>fmnist</td>\n",
       "      <td>vae</td>\n",
       "      <td>64</td>\n",
       "      <td>0.072033</td>\n",
       "      <td>0.600779</td>\n",
       "      <td>0.566681</td>\n",
       "      <td>0.583232</td>\n",
       "      <td>1</td>\n",
       "      <td>12</td>\n",
       "      <td>KMeans(n_clusters=12, random_state=1)</td>\n",
       "    </tr>\n",
       "    <tr>\n",
       "      <th>37</th>\n",
       "      <td>fmnist</td>\n",
       "      <td>vae</td>\n",
       "      <td>64</td>\n",
       "      <td>0.072036</td>\n",
       "      <td>0.600686</td>\n",
       "      <td>0.566613</td>\n",
       "      <td>0.583152</td>\n",
       "      <td>2</td>\n",
       "      <td>12</td>\n",
       "      <td>KMeans(n_clusters=12, random_state=2)</td>\n",
       "    </tr>\n",
       "    <tr>\n",
       "      <th>38</th>\n",
       "      <td>fmnist</td>\n",
       "      <td>vae</td>\n",
       "      <td>64</td>\n",
       "      <td>0.072026</td>\n",
       "      <td>0.600568</td>\n",
       "      <td>0.566565</td>\n",
       "      <td>0.583072</td>\n",
       "      <td>3</td>\n",
       "      <td>12</td>\n",
       "      <td>KMeans(n_clusters=12, random_state=3)</td>\n",
       "    </tr>\n",
       "    <tr>\n",
       "      <th>39</th>\n",
       "      <td>fmnist</td>\n",
       "      <td>vae</td>\n",
       "      <td>64</td>\n",
       "      <td>0.072034</td>\n",
       "      <td>0.600801</td>\n",
       "      <td>0.566703</td>\n",
       "      <td>0.583254</td>\n",
       "      <td>4</td>\n",
       "      <td>12</td>\n",
       "      <td>KMeans(n_clusters=12, random_state=4)</td>\n",
       "    </tr>\n",
       "    <tr>\n",
       "      <th>40</th>\n",
       "      <td>fmnist</td>\n",
       "      <td>vae</td>\n",
       "      <td>64</td>\n",
       "      <td>0.074487</td>\n",
       "      <td>0.623850</td>\n",
       "      <td>0.573818</td>\n",
       "      <td>0.597789</td>\n",
       "      <td>0</td>\n",
       "      <td>13</td>\n",
       "      <td>KMeans(n_clusters=13, random_state=0)</td>\n",
       "    </tr>\n",
       "    <tr>\n",
       "      <th>41</th>\n",
       "      <td>fmnist</td>\n",
       "      <td>vae</td>\n",
       "      <td>64</td>\n",
       "      <td>0.074516</td>\n",
       "      <td>0.623980</td>\n",
       "      <td>0.573965</td>\n",
       "      <td>0.597928</td>\n",
       "      <td>1</td>\n",
       "      <td>13</td>\n",
       "      <td>KMeans(n_clusters=13, random_state=1)</td>\n",
       "    </tr>\n",
       "    <tr>\n",
       "      <th>42</th>\n",
       "      <td>fmnist</td>\n",
       "      <td>vae</td>\n",
       "      <td>64</td>\n",
       "      <td>0.074423</td>\n",
       "      <td>0.624663</td>\n",
       "      <td>0.574585</td>\n",
       "      <td>0.598578</td>\n",
       "      <td>2</td>\n",
       "      <td>13</td>\n",
       "      <td>KMeans(n_clusters=13, random_state=2)</td>\n",
       "    </tr>\n",
       "    <tr>\n",
       "      <th>43</th>\n",
       "      <td>fmnist</td>\n",
       "      <td>vae</td>\n",
       "      <td>64</td>\n",
       "      <td>0.074532</td>\n",
       "      <td>0.623780</td>\n",
       "      <td>0.573764</td>\n",
       "      <td>0.597728</td>\n",
       "      <td>3</td>\n",
       "      <td>13</td>\n",
       "      <td>KMeans(n_clusters=13, random_state=3)</td>\n",
       "    </tr>\n",
       "    <tr>\n",
       "      <th>44</th>\n",
       "      <td>fmnist</td>\n",
       "      <td>vae</td>\n",
       "      <td>64</td>\n",
       "      <td>0.074530</td>\n",
       "      <td>0.623810</td>\n",
       "      <td>0.573806</td>\n",
       "      <td>0.597764</td>\n",
       "      <td>4</td>\n",
       "      <td>13</td>\n",
       "      <td>KMeans(n_clusters=13, random_state=4)</td>\n",
       "    </tr>\n",
       "    <tr>\n",
       "      <th>45</th>\n",
       "      <td>fmnist</td>\n",
       "      <td>vae</td>\n",
       "      <td>64</td>\n",
       "      <td>0.072922</td>\n",
       "      <td>0.627789</td>\n",
       "      <td>0.560157</td>\n",
       "      <td>0.592048</td>\n",
       "      <td>0</td>\n",
       "      <td>14</td>\n",
       "      <td>KMeans(n_clusters=14, random_state=0)</td>\n",
       "    </tr>\n",
       "    <tr>\n",
       "      <th>46</th>\n",
       "      <td>fmnist</td>\n",
       "      <td>vae</td>\n",
       "      <td>64</td>\n",
       "      <td>0.076999</td>\n",
       "      <td>0.647764</td>\n",
       "      <td>0.575741</td>\n",
       "      <td>0.609633</td>\n",
       "      <td>1</td>\n",
       "      <td>14</td>\n",
       "      <td>KMeans(n_clusters=14, random_state=1)</td>\n",
       "    </tr>\n",
       "    <tr>\n",
       "      <th>47</th>\n",
       "      <td>fmnist</td>\n",
       "      <td>vae</td>\n",
       "      <td>64</td>\n",
       "      <td>0.072944</td>\n",
       "      <td>0.628210</td>\n",
       "      <td>0.560611</td>\n",
       "      <td>0.592489</td>\n",
       "      <td>2</td>\n",
       "      <td>14</td>\n",
       "      <td>KMeans(n_clusters=14, random_state=2)</td>\n",
       "    </tr>\n",
       "    <tr>\n",
       "      <th>48</th>\n",
       "      <td>fmnist</td>\n",
       "      <td>vae</td>\n",
       "      <td>64</td>\n",
       "      <td>0.076997</td>\n",
       "      <td>0.647841</td>\n",
       "      <td>0.575830</td>\n",
       "      <td>0.609717</td>\n",
       "      <td>3</td>\n",
       "      <td>14</td>\n",
       "      <td>KMeans(n_clusters=14, random_state=3)</td>\n",
       "    </tr>\n",
       "    <tr>\n",
       "      <th>49</th>\n",
       "      <td>fmnist</td>\n",
       "      <td>vae</td>\n",
       "      <td>64</td>\n",
       "      <td>0.072971</td>\n",
       "      <td>0.627701</td>\n",
       "      <td>0.560132</td>\n",
       "      <td>0.591994</td>\n",
       "      <td>4</td>\n",
       "      <td>14</td>\n",
       "      <td>KMeans(n_clusters=14, random_state=4)</td>\n",
       "    </tr>\n",
       "  </tbody>\n",
       "</table>\n",
       "</div>"
      ],
      "text/plain": [
       "   dataset class_ dim  silhouette  homogeneity  completeness  v_measure init_  \\\n",
       "0   fmnist    vae  64    0.075441     0.434067      0.629836   0.513940     0   \n",
       "1   fmnist    vae  64    0.075386     0.434367      0.630538   0.514383     1   \n",
       "2   fmnist    vae  64    0.075436     0.433972      0.629794   0.513859     2   \n",
       "3   fmnist    vae  64    0.075443     0.434030      0.629781   0.513896     3   \n",
       "4   fmnist    vae  64    0.075381     0.434228      0.630431   0.514251     4   \n",
       "5   fmnist    vae  64    0.076639     0.464115      0.598282   0.522727     0   \n",
       "6   fmnist    vae  64    0.076589     0.464236      0.598467   0.522874     1   \n",
       "7   fmnist    vae  64    0.076615     0.463996      0.598147   0.522600     2   \n",
       "8   fmnist    vae  64    0.076618     0.464026      0.598210   0.522643     3   \n",
       "9   fmnist    vae  64    0.076642     0.463697      0.597763   0.522264     4   \n",
       "10  fmnist    vae  64    0.081465     0.486216      0.584727   0.530941     0   \n",
       "11  fmnist    vae  64    0.081450     0.486295      0.584801   0.531018     1   \n",
       "12  fmnist    vae  64    0.081442     0.486552      0.585027   0.531265     2   \n",
       "13  fmnist    vae  64    0.083999     0.508233      0.632037   0.563414     3   \n",
       "14  fmnist    vae  64    0.081438     0.486319      0.584761   0.531016     4   \n",
       "15  fmnist    vae  64    0.084365     0.530950      0.604557   0.565368     0   \n",
       "16  fmnist    vae  64    0.086006     0.528742      0.604510   0.564093     1   \n",
       "17  fmnist    vae  64    0.086015     0.528536      0.604325   0.563896     2   \n",
       "18  fmnist    vae  64    0.080294     0.547055      0.618174   0.580444     3   \n",
       "19  fmnist    vae  64    0.084359     0.531596      0.605276   0.566048     4   \n",
       "20  fmnist    vae  64    0.058618     0.523928      0.560138   0.541428     0   \n",
       "21  fmnist    vae  64    0.060035     0.548926      0.588564   0.568054     1   \n",
       "22  fmnist    vae  64    0.060054     0.548991      0.588694   0.568150     2   \n",
       "23  fmnist    vae  64    0.059993     0.549025      0.588659   0.568151     3   \n",
       "24  fmnist    vae  64    0.060070     0.548873      0.588559   0.568024     4   \n",
       "25  fmnist    vae  64    0.066894     0.588542      0.605897   0.597093     0   \n",
       "26  fmnist    vae  64    0.082094     0.593916      0.608147   0.600947     1   \n",
       "27  fmnist    vae  64    0.066963     0.588447      0.605831   0.597012     2   \n",
       "28  fmnist    vae  64    0.066898     0.588546      0.605936   0.597114     3   \n",
       "29  fmnist    vae  64    0.065615     0.563295      0.578518   0.570805     4   \n",
       "30  fmnist    vae  64    0.084476     0.620039      0.607791   0.613854     0   \n",
       "31  fmnist    vae  64    0.068088     0.598380      0.585620   0.591931     1   \n",
       "32  fmnist    vae  64    0.070986     0.591050      0.581315   0.586142     2   \n",
       "33  fmnist    vae  64    0.070999     0.591397      0.581625   0.586470     3   \n",
       "34  fmnist    vae  64    0.071108     0.591045      0.581313   0.586139     4   \n",
       "35  fmnist    vae  64    0.072021     0.600651      0.566597   0.583127     0   \n",
       "36  fmnist    vae  64    0.072033     0.600779      0.566681   0.583232     1   \n",
       "37  fmnist    vae  64    0.072036     0.600686      0.566613   0.583152     2   \n",
       "38  fmnist    vae  64    0.072026     0.600568      0.566565   0.583072     3   \n",
       "39  fmnist    vae  64    0.072034     0.600801      0.566703   0.583254     4   \n",
       "40  fmnist    vae  64    0.074487     0.623850      0.573818   0.597789     0   \n",
       "41  fmnist    vae  64    0.074516     0.623980      0.573965   0.597928     1   \n",
       "42  fmnist    vae  64    0.074423     0.624663      0.574585   0.598578     2   \n",
       "43  fmnist    vae  64    0.074532     0.623780      0.573764   0.597728     3   \n",
       "44  fmnist    vae  64    0.074530     0.623810      0.573806   0.597764     4   \n",
       "45  fmnist    vae  64    0.072922     0.627789      0.560157   0.592048     0   \n",
       "46  fmnist    vae  64    0.076999     0.647764      0.575741   0.609633     1   \n",
       "47  fmnist    vae  64    0.072944     0.628210      0.560611   0.592489     2   \n",
       "48  fmnist    vae  64    0.076997     0.647841      0.575830   0.609717     3   \n",
       "49  fmnist    vae  64    0.072971     0.627701      0.560132   0.591994     4   \n",
       "\n",
       "   n_clusters                                  model  \n",
       "0           5   KMeans(n_clusters=5, random_state=0)  \n",
       "1           5   KMeans(n_clusters=5, random_state=1)  \n",
       "2           5   KMeans(n_clusters=5, random_state=2)  \n",
       "3           5   KMeans(n_clusters=5, random_state=3)  \n",
       "4           5   KMeans(n_clusters=5, random_state=4)  \n",
       "5           6   KMeans(n_clusters=6, random_state=0)  \n",
       "6           6   KMeans(n_clusters=6, random_state=1)  \n",
       "7           6   KMeans(n_clusters=6, random_state=2)  \n",
       "8           6   KMeans(n_clusters=6, random_state=3)  \n",
       "9           6   KMeans(n_clusters=6, random_state=4)  \n",
       "10          7   KMeans(n_clusters=7, random_state=0)  \n",
       "11          7   KMeans(n_clusters=7, random_state=1)  \n",
       "12          7   KMeans(n_clusters=7, random_state=2)  \n",
       "13          7   KMeans(n_clusters=7, random_state=3)  \n",
       "14          7   KMeans(n_clusters=7, random_state=4)  \n",
       "15          8                 KMeans(random_state=0)  \n",
       "16          8                 KMeans(random_state=1)  \n",
       "17          8                 KMeans(random_state=2)  \n",
       "18          8                 KMeans(random_state=3)  \n",
       "19          8                 KMeans(random_state=4)  \n",
       "20          9   KMeans(n_clusters=9, random_state=0)  \n",
       "21          9   KMeans(n_clusters=9, random_state=1)  \n",
       "22          9   KMeans(n_clusters=9, random_state=2)  \n",
       "23          9   KMeans(n_clusters=9, random_state=3)  \n",
       "24          9   KMeans(n_clusters=9, random_state=4)  \n",
       "25         10  KMeans(n_clusters=10, random_state=0)  \n",
       "26         10  KMeans(n_clusters=10, random_state=1)  \n",
       "27         10  KMeans(n_clusters=10, random_state=2)  \n",
       "28         10  KMeans(n_clusters=10, random_state=3)  \n",
       "29         10  KMeans(n_clusters=10, random_state=4)  \n",
       "30         11  KMeans(n_clusters=11, random_state=0)  \n",
       "31         11  KMeans(n_clusters=11, random_state=1)  \n",
       "32         11  KMeans(n_clusters=11, random_state=2)  \n",
       "33         11  KMeans(n_clusters=11, random_state=3)  \n",
       "34         11  KMeans(n_clusters=11, random_state=4)  \n",
       "35         12  KMeans(n_clusters=12, random_state=0)  \n",
       "36         12  KMeans(n_clusters=12, random_state=1)  \n",
       "37         12  KMeans(n_clusters=12, random_state=2)  \n",
       "38         12  KMeans(n_clusters=12, random_state=3)  \n",
       "39         12  KMeans(n_clusters=12, random_state=4)  \n",
       "40         13  KMeans(n_clusters=13, random_state=0)  \n",
       "41         13  KMeans(n_clusters=13, random_state=1)  \n",
       "42         13  KMeans(n_clusters=13, random_state=2)  \n",
       "43         13  KMeans(n_clusters=13, random_state=3)  \n",
       "44         13  KMeans(n_clusters=13, random_state=4)  \n",
       "45         14  KMeans(n_clusters=14, random_state=0)  \n",
       "46         14  KMeans(n_clusters=14, random_state=1)  \n",
       "47         14  KMeans(n_clusters=14, random_state=2)  \n",
       "48         14  KMeans(n_clusters=14, random_state=3)  \n",
       "49         14  KMeans(n_clusters=14, random_state=4)  "
      ]
     },
     "execution_count": 55,
     "metadata": {},
     "output_type": "execute_result"
    }
   ],
   "source": [
    "get_cluster_metrics(projection_df.iloc[0], n_init=5)"
   ]
  },
  {
   "cell_type": "code",
   "execution_count": null,
   "metadata": {},
   "outputs": [],
   "source": []
  }
 ],
 "metadata": {
  "kernelspec": {
   "display_name": "Python 3",
   "language": "python",
   "name": "python3"
  },
  "language_info": {
   "codemirror_mode": {
    "name": "ipython",
    "version": 3
   },
   "file_extension": ".py",
   "mimetype": "text/x-python",
   "name": "python",
   "nbconvert_exporter": "python",
   "pygments_lexer": "ipython3",
   "version": "3.6.7"
  }
 },
 "nbformat": 4,
 "nbformat_minor": 2
}
