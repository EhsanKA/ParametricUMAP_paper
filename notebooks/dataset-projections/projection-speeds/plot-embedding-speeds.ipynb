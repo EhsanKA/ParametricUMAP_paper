{
 "cells": [
  {
   "cell_type": "markdown",
   "metadata": {},
   "source": [
    "load data\n",
    "plot data"
   ]
  },
  {
   "cell_type": "code",
   "execution_count": 1,
   "metadata": {
    "ExecuteTime": {
     "end_time": "2020-07-16T01:59:58.570811Z",
     "start_time": "2020-07-16T01:59:52.918891Z"
    }
   },
   "outputs": [],
   "source": [
    "import numpy as np\n",
    "import pickle\n",
    "import pandas as pd\n",
    "import time\n",
    "from umap import UMAP"
   ]
  },
  {
   "cell_type": "code",
   "execution_count": 2,
   "metadata": {
    "ExecuteTime": {
     "end_time": "2020-07-16T01:59:58.695132Z",
     "start_time": "2020-07-16T01:59:58.573221Z"
    }
   },
   "outputs": [],
   "source": [
    "from tfumap.paths import ensure_dir, MODEL_DIR, DATA_DIR"
   ]
  },
  {
   "cell_type": "code",
   "execution_count": 3,
   "metadata": {
    "ExecuteTime": {
     "end_time": "2020-07-16T01:59:58.699736Z",
     "start_time": "2020-07-16T01:59:58.697227Z"
    }
   },
   "outputs": [],
   "source": [
    "from tfumap.paths import FIGURE_DIR, save_fig"
   ]
  },
  {
   "cell_type": "code",
   "execution_count": 4,
   "metadata": {
    "ExecuteTime": {
     "end_time": "2020-07-16T01:59:58.709998Z",
     "start_time": "2020-07-16T01:59:58.701834Z"
    }
   },
   "outputs": [],
   "source": [
    "save_loc = DATA_DIR / 'projection_speeds' "
   ]
  },
  {
   "cell_type": "code",
   "execution_count": 5,
   "metadata": {
    "ExecuteTime": {
     "end_time": "2020-07-16T01:59:58.719560Z",
     "start_time": "2020-07-16T01:59:58.711791Z"
    }
   },
   "outputs": [],
   "source": [
    "datasets = [\n",
    "    'cassins_dtw',\n",
    "    'cifar10',\n",
    "    'fmnist',\n",
    "    'macosko2015',\n",
    "    'mnist'\n",
    "]"
   ]
  },
  {
   "cell_type": "code",
   "execution_count": 6,
   "metadata": {
    "ExecuteTime": {
     "end_time": "2020-07-16T01:59:58.750822Z",
     "start_time": "2020-07-16T01:59:58.721172Z"
    }
   },
   "outputs": [
    {
     "data": {
      "text/html": [
       "<div>\n",
       "<style scoped>\n",
       "    .dataframe tbody tr th:only-of-type {\n",
       "        vertical-align: middle;\n",
       "    }\n",
       "\n",
       "    .dataframe tbody tr th {\n",
       "        vertical-align: top;\n",
       "    }\n",
       "\n",
       "    .dataframe thead th {\n",
       "        text-align: right;\n",
       "    }\n",
       "</style>\n",
       "<table border=\"1\" class=\"dataframe\">\n",
       "  <thead>\n",
       "    <tr style=\"text-align: right;\">\n",
       "      <th></th>\n",
       "      <th>method_</th>\n",
       "      <th>dimensions</th>\n",
       "      <th>dataset</th>\n",
       "      <th>speed</th>\n",
       "    </tr>\n",
       "  </thead>\n",
       "  <tbody>\n",
       "    <tr>\n",
       "      <th>0</th>\n",
       "      <td>network</td>\n",
       "      <td>2</td>\n",
       "      <td>cassins_dtw</td>\n",
       "      <td>2.153692</td>\n",
       "    </tr>\n",
       "    <tr>\n",
       "      <th>1</th>\n",
       "      <td>network</td>\n",
       "      <td>2</td>\n",
       "      <td>cassins_dtw</td>\n",
       "      <td>0.072841</td>\n",
       "    </tr>\n",
       "    <tr>\n",
       "      <th>2</th>\n",
       "      <td>network</td>\n",
       "      <td>2</td>\n",
       "      <td>cassins_dtw</td>\n",
       "      <td>0.068512</td>\n",
       "    </tr>\n",
       "  </tbody>\n",
       "</table>\n",
       "</div>"
      ],
      "text/plain": [
       "   method_ dimensions      dataset     speed\n",
       "0  network          2  cassins_dtw  2.153692\n",
       "1  network          2  cassins_dtw  0.072841\n",
       "2  network          2  cassins_dtw  0.068512"
      ]
     },
     "execution_count": 6,
     "metadata": {},
     "output_type": "execute_result"
    }
   ],
   "source": [
    "projection_speeds = pd.concat([pd.read_pickle(save_loc / (dataset + '.pickle')) for dataset in datasets])\n",
    "projection_speeds[:3]"
   ]
  },
  {
   "cell_type": "code",
   "execution_count": 18,
   "metadata": {
    "ExecuteTime": {
     "end_time": "2020-07-16T02:01:08.110816Z",
     "start_time": "2020-07-16T02:01:08.088253Z"
    }
   },
   "outputs": [
    {
     "data": {
      "text/html": [
       "<div>\n",
       "<style scoped>\n",
       "    .dataframe tbody tr th:only-of-type {\n",
       "        vertical-align: middle;\n",
       "    }\n",
       "\n",
       "    .dataframe tbody tr th {\n",
       "        vertical-align: top;\n",
       "    }\n",
       "\n",
       "    .dataframe thead th {\n",
       "        text-align: right;\n",
       "    }\n",
       "</style>\n",
       "<table border=\"1\" class=\"dataframe\">\n",
       "  <thead>\n",
       "    <tr style=\"text-align: right;\">\n",
       "      <th></th>\n",
       "      <th>method_</th>\n",
       "      <th>dimensions</th>\n",
       "      <th>dataset</th>\n",
       "      <th>value</th>\n",
       "    </tr>\n",
       "  </thead>\n",
       "  <tbody>\n",
       "    <tr>\n",
       "      <th>0</th>\n",
       "      <td>TSNE</td>\n",
       "      <td>2</td>\n",
       "      <td>cassins_dtw</td>\n",
       "      <td>1.023208</td>\n",
       "    </tr>\n",
       "    <tr>\n",
       "      <th>1</th>\n",
       "      <td>TSNE</td>\n",
       "      <td>2</td>\n",
       "      <td>cifar10</td>\n",
       "      <td>11.968415</td>\n",
       "    </tr>\n",
       "    <tr>\n",
       "      <th>2</th>\n",
       "      <td>TSNE</td>\n",
       "      <td>2</td>\n",
       "      <td>fmnist</td>\n",
       "      <td>5.921398</td>\n",
       "    </tr>\n",
       "    <tr>\n",
       "      <th>3</th>\n",
       "      <td>TSNE</td>\n",
       "      <td>2</td>\n",
       "      <td>macosko2015</td>\n",
       "      <td>1.820215</td>\n",
       "    </tr>\n",
       "    <tr>\n",
       "      <th>4</th>\n",
       "      <td>TSNE</td>\n",
       "      <td>2</td>\n",
       "      <td>mnist</td>\n",
       "      <td>5.832716</td>\n",
       "    </tr>\n",
       "    <tr>\n",
       "      <th>5</th>\n",
       "      <td>network</td>\n",
       "      <td>2</td>\n",
       "      <td>cassins_dtw</td>\n",
       "      <td>0.070201</td>\n",
       "    </tr>\n",
       "    <tr>\n",
       "      <th>6</th>\n",
       "      <td>network</td>\n",
       "      <td>2</td>\n",
       "      <td>cifar10</td>\n",
       "      <td>0.376749</td>\n",
       "    </tr>\n",
       "    <tr>\n",
       "      <th>7</th>\n",
       "      <td>network</td>\n",
       "      <td>2</td>\n",
       "      <td>fmnist</td>\n",
       "      <td>0.276191</td>\n",
       "    </tr>\n",
       "    <tr>\n",
       "      <th>8</th>\n",
       "      <td>network</td>\n",
       "      <td>2</td>\n",
       "      <td>macosko2015</td>\n",
       "      <td>0.075098</td>\n",
       "    </tr>\n",
       "    <tr>\n",
       "      <th>9</th>\n",
       "      <td>network</td>\n",
       "      <td>2</td>\n",
       "      <td>mnist</td>\n",
       "      <td>0.279094</td>\n",
       "    </tr>\n",
       "    <tr>\n",
       "      <th>10</th>\n",
       "      <td>network</td>\n",
       "      <td>64</td>\n",
       "      <td>cassins_dtw</td>\n",
       "      <td>0.070537</td>\n",
       "    </tr>\n",
       "    <tr>\n",
       "      <th>11</th>\n",
       "      <td>network</td>\n",
       "      <td>64</td>\n",
       "      <td>cifar10</td>\n",
       "      <td>0.381547</td>\n",
       "    </tr>\n",
       "    <tr>\n",
       "      <th>12</th>\n",
       "      <td>network</td>\n",
       "      <td>64</td>\n",
       "      <td>fmnist</td>\n",
       "      <td>0.277840</td>\n",
       "    </tr>\n",
       "    <tr>\n",
       "      <th>13</th>\n",
       "      <td>network</td>\n",
       "      <td>64</td>\n",
       "      <td>macosko2015</td>\n",
       "      <td>0.073252</td>\n",
       "    </tr>\n",
       "    <tr>\n",
       "      <th>14</th>\n",
       "      <td>network</td>\n",
       "      <td>64</td>\n",
       "      <td>mnist</td>\n",
       "      <td>0.291204</td>\n",
       "    </tr>\n",
       "    <tr>\n",
       "      <th>15</th>\n",
       "      <td>network-cpu</td>\n",
       "      <td>2</td>\n",
       "      <td>cassins_dtw</td>\n",
       "      <td>0.144697</td>\n",
       "    </tr>\n",
       "    <tr>\n",
       "      <th>16</th>\n",
       "      <td>network-cpu</td>\n",
       "      <td>2</td>\n",
       "      <td>cifar10</td>\n",
       "      <td>0.638469</td>\n",
       "    </tr>\n",
       "    <tr>\n",
       "      <th>17</th>\n",
       "      <td>network-cpu</td>\n",
       "      <td>2</td>\n",
       "      <td>fmnist</td>\n",
       "      <td>0.853846</td>\n",
       "    </tr>\n",
       "    <tr>\n",
       "      <th>18</th>\n",
       "      <td>network-cpu</td>\n",
       "      <td>2</td>\n",
       "      <td>macosko2015</td>\n",
       "      <td>0.104193</td>\n",
       "    </tr>\n",
       "    <tr>\n",
       "      <th>19</th>\n",
       "      <td>network-cpu</td>\n",
       "      <td>2</td>\n",
       "      <td>mnist</td>\n",
       "      <td>0.869110</td>\n",
       "    </tr>\n",
       "    <tr>\n",
       "      <th>20</th>\n",
       "      <td>network-cpu</td>\n",
       "      <td>64</td>\n",
       "      <td>cassins_dtw</td>\n",
       "      <td>0.143674</td>\n",
       "    </tr>\n",
       "    <tr>\n",
       "      <th>21</th>\n",
       "      <td>network-cpu</td>\n",
       "      <td>64</td>\n",
       "      <td>cifar10</td>\n",
       "      <td>0.630163</td>\n",
       "    </tr>\n",
       "    <tr>\n",
       "      <th>22</th>\n",
       "      <td>network-cpu</td>\n",
       "      <td>64</td>\n",
       "      <td>fmnist</td>\n",
       "      <td>0.878336</td>\n",
       "    </tr>\n",
       "    <tr>\n",
       "      <th>23</th>\n",
       "      <td>network-cpu</td>\n",
       "      <td>64</td>\n",
       "      <td>macosko2015</td>\n",
       "      <td>0.108755</td>\n",
       "    </tr>\n",
       "    <tr>\n",
       "      <th>24</th>\n",
       "      <td>network-cpu</td>\n",
       "      <td>64</td>\n",
       "      <td>mnist</td>\n",
       "      <td>0.888856</td>\n",
       "    </tr>\n",
       "    <tr>\n",
       "      <th>25</th>\n",
       "      <td>pca</td>\n",
       "      <td>2</td>\n",
       "      <td>cassins_dtw</td>\n",
       "      <td>0.002327</td>\n",
       "    </tr>\n",
       "    <tr>\n",
       "      <th>26</th>\n",
       "      <td>pca</td>\n",
       "      <td>2</td>\n",
       "      <td>cifar10</td>\n",
       "      <td>0.063628</td>\n",
       "    </tr>\n",
       "    <tr>\n",
       "      <th>27</th>\n",
       "      <td>pca</td>\n",
       "      <td>2</td>\n",
       "      <td>fmnist</td>\n",
       "      <td>0.016220</td>\n",
       "    </tr>\n",
       "    <tr>\n",
       "      <th>28</th>\n",
       "      <td>pca</td>\n",
       "      <td>2</td>\n",
       "      <td>macosko2015</td>\n",
       "      <td>0.000940</td>\n",
       "    </tr>\n",
       "    <tr>\n",
       "      <th>29</th>\n",
       "      <td>pca</td>\n",
       "      <td>2</td>\n",
       "      <td>mnist</td>\n",
       "      <td>0.015831</td>\n",
       "    </tr>\n",
       "    <tr>\n",
       "      <th>30</th>\n",
       "      <td>pca</td>\n",
       "      <td>64</td>\n",
       "      <td>cassins_dtw</td>\n",
       "      <td>0.002793</td>\n",
       "    </tr>\n",
       "    <tr>\n",
       "      <th>31</th>\n",
       "      <td>pca</td>\n",
       "      <td>64</td>\n",
       "      <td>cifar10</td>\n",
       "      <td>0.077702</td>\n",
       "    </tr>\n",
       "    <tr>\n",
       "      <th>32</th>\n",
       "      <td>pca</td>\n",
       "      <td>64</td>\n",
       "      <td>fmnist</td>\n",
       "      <td>0.020216</td>\n",
       "    </tr>\n",
       "    <tr>\n",
       "      <th>33</th>\n",
       "      <td>pca</td>\n",
       "      <td>64</td>\n",
       "      <td>macosko2015</td>\n",
       "      <td>0.002325</td>\n",
       "    </tr>\n",
       "    <tr>\n",
       "      <th>34</th>\n",
       "      <td>pca</td>\n",
       "      <td>64</td>\n",
       "      <td>mnist</td>\n",
       "      <td>0.019653</td>\n",
       "    </tr>\n",
       "    <tr>\n",
       "      <th>35</th>\n",
       "      <td>umap-learn</td>\n",
       "      <td>2</td>\n",
       "      <td>cassins_dtw</td>\n",
       "      <td>2.883579</td>\n",
       "    </tr>\n",
       "    <tr>\n",
       "      <th>36</th>\n",
       "      <td>umap-learn</td>\n",
       "      <td>2</td>\n",
       "      <td>cifar10</td>\n",
       "      <td>10.947547</td>\n",
       "    </tr>\n",
       "    <tr>\n",
       "      <th>37</th>\n",
       "      <td>umap-learn</td>\n",
       "      <td>2</td>\n",
       "      <td>fmnist</td>\n",
       "      <td>5.863770</td>\n",
       "    </tr>\n",
       "    <tr>\n",
       "      <th>38</th>\n",
       "      <td>umap-learn</td>\n",
       "      <td>2</td>\n",
       "      <td>macosko2015</td>\n",
       "      <td>3.904217</td>\n",
       "    </tr>\n",
       "    <tr>\n",
       "      <th>39</th>\n",
       "      <td>umap-learn</td>\n",
       "      <td>2</td>\n",
       "      <td>mnist</td>\n",
       "      <td>6.094271</td>\n",
       "    </tr>\n",
       "    <tr>\n",
       "      <th>40</th>\n",
       "      <td>umap-learn</td>\n",
       "      <td>64</td>\n",
       "      <td>cassins_dtw</td>\n",
       "      <td>2.956369</td>\n",
       "    </tr>\n",
       "    <tr>\n",
       "      <th>41</th>\n",
       "      <td>umap-learn</td>\n",
       "      <td>64</td>\n",
       "      <td>cifar10</td>\n",
       "      <td>10.957017</td>\n",
       "    </tr>\n",
       "    <tr>\n",
       "      <th>42</th>\n",
       "      <td>umap-learn</td>\n",
       "      <td>64</td>\n",
       "      <td>fmnist</td>\n",
       "      <td>5.281124</td>\n",
       "    </tr>\n",
       "    <tr>\n",
       "      <th>43</th>\n",
       "      <td>umap-learn</td>\n",
       "      <td>64</td>\n",
       "      <td>macosko2015</td>\n",
       "      <td>3.999265</td>\n",
       "    </tr>\n",
       "    <tr>\n",
       "      <th>44</th>\n",
       "      <td>umap-learn</td>\n",
       "      <td>64</td>\n",
       "      <td>mnist</td>\n",
       "      <td>6.497895</td>\n",
       "    </tr>\n",
       "  </tbody>\n",
       "</table>\n",
       "</div>"
      ],
      "text/plain": [
       "        method_  dimensions      dataset      value\n",
       "0          TSNE           2  cassins_dtw   1.023208\n",
       "1          TSNE           2      cifar10  11.968415\n",
       "2          TSNE           2       fmnist   5.921398\n",
       "3          TSNE           2  macosko2015   1.820215\n",
       "4          TSNE           2        mnist   5.832716\n",
       "5       network           2  cassins_dtw   0.070201\n",
       "6       network           2      cifar10   0.376749\n",
       "7       network           2       fmnist   0.276191\n",
       "8       network           2  macosko2015   0.075098\n",
       "9       network           2        mnist   0.279094\n",
       "10      network          64  cassins_dtw   0.070537\n",
       "11      network          64      cifar10   0.381547\n",
       "12      network          64       fmnist   0.277840\n",
       "13      network          64  macosko2015   0.073252\n",
       "14      network          64        mnist   0.291204\n",
       "15  network-cpu           2  cassins_dtw   0.144697\n",
       "16  network-cpu           2      cifar10   0.638469\n",
       "17  network-cpu           2       fmnist   0.853846\n",
       "18  network-cpu           2  macosko2015   0.104193\n",
       "19  network-cpu           2        mnist   0.869110\n",
       "20  network-cpu          64  cassins_dtw   0.143674\n",
       "21  network-cpu          64      cifar10   0.630163\n",
       "22  network-cpu          64       fmnist   0.878336\n",
       "23  network-cpu          64  macosko2015   0.108755\n",
       "24  network-cpu          64        mnist   0.888856\n",
       "25          pca           2  cassins_dtw   0.002327\n",
       "26          pca           2      cifar10   0.063628\n",
       "27          pca           2       fmnist   0.016220\n",
       "28          pca           2  macosko2015   0.000940\n",
       "29          pca           2        mnist   0.015831\n",
       "30          pca          64  cassins_dtw   0.002793\n",
       "31          pca          64      cifar10   0.077702\n",
       "32          pca          64       fmnist   0.020216\n",
       "33          pca          64  macosko2015   0.002325\n",
       "34          pca          64        mnist   0.019653\n",
       "35   umap-learn           2  cassins_dtw   2.883579\n",
       "36   umap-learn           2      cifar10  10.947547\n",
       "37   umap-learn           2       fmnist   5.863770\n",
       "38   umap-learn           2  macosko2015   3.904217\n",
       "39   umap-learn           2        mnist   6.094271\n",
       "40   umap-learn          64  cassins_dtw   2.956369\n",
       "41   umap-learn          64      cifar10  10.957017\n",
       "42   umap-learn          64       fmnist   5.281124\n",
       "43   umap-learn          64  macosko2015   3.999265\n",
       "44   umap-learn          64        mnist   6.497895"
      ]
     },
     "execution_count": 18,
     "metadata": {},
     "output_type": "execute_result"
    }
   ],
   "source": [
    "median_df = projection_speeds.groupby(['method_','dimensions', 'dataset']).median()\n",
    "median_df = median_df.T.melt()\n",
    "median_df"
   ]
  },
  {
   "cell_type": "code",
   "execution_count": 19,
   "metadata": {
    "ExecuteTime": {
     "end_time": "2020-07-16T02:01:08.447120Z",
     "start_time": "2020-07-16T02:01:08.443950Z"
    }
   },
   "outputs": [],
   "source": [
    "import seaborn as sns"
   ]
  },
  {
   "cell_type": "code",
   "execution_count": 20,
   "metadata": {
    "ExecuteTime": {
     "end_time": "2020-07-16T02:01:08.634513Z",
     "start_time": "2020-07-16T02:01:08.588131Z"
    }
   },
   "outputs": [
    {
     "data": {
      "image/png": "[encoded data removed]",
      "text/plain": [
       "<Figure size 360x72 with 1 Axes>"
      ]
     },
     "metadata": {
      "needs_background": "light"
     },
     "output_type": "display_data"
    }
   ],
   "source": [
    "palette = sns.color_palette('Blues', 5)[2:] + sns.color_palette('Greens', 1) + sns.color_palette('Reds', 1)\n",
    "palette = [palette[-1]] + palette[:-1]\n",
    "sns.palplot(palette)"
   ]
  },
  {
   "cell_type": "code",
   "execution_count": 35,
   "metadata": {
    "ExecuteTime": {
     "end_time": "2020-07-16T02:06:26.390535Z",
     "start_time": "2020-07-16T02:06:24.628727Z"
    }
   },
   "outputs": [
    {
     "data": {
      "image/png": "[encoded data removed]",
      "text/plain": [
       "<Figure size 890.125x198 with 2 Axes>"
      ]
     },
     "metadata": {
      "needs_background": "light"
     },
     "output_type": "display_data"
    }
   ],
   "source": [
    "fg = sns.catplot(\n",
    "    x=\"dataset\",\n",
    "    y=\"value\",\n",
    "    hue=\"method_\",\n",
    "    hue_order=[\"TSNE\",\"umap-learn\", \"network-cpu\", \"network\",  \"pca\"],\n",
    "    order = ['mnist', 'fmnist', 'macosko2015', 'cassins_dtw', 'cifar10'],\n",
    "    col=\"dimensions\",\n",
    "    height=2.75, \n",
    "    aspect=2.0,\n",
    "    data=median_df,\n",
    "    kind=\"bar\",\n",
    "    palette=palette,\n",
    "    #legend=False\n",
    ")\n",
    "(fg.despine(bottom=True)\n",
    " .set_xticklabels(['MNIST', 'FMNIST', 'Retina', 'Cassin\\'s', 'CIFAR10'])\n",
    " .set_axis_labels(\"\", \"Embedding time (s)\")\n",
    ")\n",
    "ax = fg.axes[0][0]\n",
    "ax.tick_params(axis=u'both', which=u'both',length=0)\n",
    "fg._legend._legend_title_box._text.set_text(\"\")\n",
    "fg._legend.texts[2].set_text(\"P. UMAP (CPU)\")\n",
    "fg._legend.texts[3].set_text(\"P. UMAP (GPU)\")\n",
    "fg._legend.texts[4].set_text(\"PCA\")\n",
    "#ax.set_ylim([1e-10,1e-3])\n",
    "ax.set_yscale('log')\n",
    "\n",
    "ax.set_title('2 Dimensions')\n",
    "ax = fg.axes[0][1]\n",
    "ax.tick_params(axis=u'both', which=u'both',length=0)\n",
    "\n",
    "ax.set_title('64 Dimensions')\n",
    "#ax.set_yscale('log')\n",
    "\n",
    "save_fig(FIGURE_DIR/'embedding_speed', save_pdf=True, dpi=300)"
   ]
  },
  {
   "cell_type": "code",
   "execution_count": 26,
   "metadata": {
    "ExecuteTime": {
     "end_time": "2020-07-16T02:02:05.628153Z",
     "start_time": "2020-07-16T02:02:05.624749Z"
    }
   },
   "outputs": [],
   "source": [
    "#median_df = projection_speeds.groupby(['method_','dimensions', 'dataset']).median()\n",
    "#median_df.reset_index(inplace=True)  \n",
    "#median_df"
   ]
  },
  {
   "cell_type": "code",
   "execution_count": 12,
   "metadata": {
    "ExecuteTime": {
     "end_time": "2020-07-16T01:59:59.952482Z",
     "start_time": "2020-07-16T01:59:59.950458Z"
    }
   },
   "outputs": [],
   "source": [
    "# 2 AMD EPYC Rome 7252 8-Core 3.1 GHz  processors "
   ]
  }
 ],
 "metadata": {
  "kernelspec": {
   "display_name": "Python 3",
   "language": "python",
   "name": "python3"
  },
  "language_info": {
   "codemirror_mode": {
    "name": "ipython",
    "version": 3
   },
   "file_extension": ".py",
   "mimetype": "text/x-python",
   "name": "python",
   "nbconvert_exporter": "python",
   "pygments_lexer": "ipython3",
   "version": "3.6.7"
  }
 },
 "nbformat": 4,
 "nbformat_minor": 2
}
