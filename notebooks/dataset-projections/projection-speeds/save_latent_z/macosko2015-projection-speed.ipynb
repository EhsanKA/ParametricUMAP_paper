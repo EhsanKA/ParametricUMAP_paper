{
 "cells": [
  {
   "cell_type": "markdown",
   "metadata": {},
   "source": [
    "#### Outline\n",
    "- for each dataset: \n",
    "    - load dataset; \n",
    "    - for each network: \n",
    "        - load network\n",
    "        - project 1000 test dataset samples\n",
    "        - save to metric dataframe"
   ]
  },
  {
   "cell_type": "code",
   "execution_count": 1,
   "metadata": {
    "ExecuteTime": {
     "end_time": "2020-07-16T01:48:12.471646Z",
     "start_time": "2020-07-16T01:48:12.459085Z"
    }
   },
   "outputs": [],
   "source": [
    "# reload packages\n",
    "%load_ext autoreload\n",
    "%autoreload 2"
   ]
  },
  {
   "cell_type": "markdown",
   "metadata": {},
   "source": [
    "### Choose GPU (this may not be needed on your computer)"
   ]
  },
  {
   "cell_type": "code",
   "execution_count": 2,
   "metadata": {
    "ExecuteTime": {
     "end_time": "2020-07-16T01:48:12.480302Z",
     "start_time": "2020-07-16T01:48:12.472586Z"
    }
   },
   "outputs": [
    {
     "name": "stdout",
     "output_type": "stream",
     "text": [
      "env: CUDA_DEVICE_ORDER=PCI_BUS_ID\n",
      "env: CUDA_VISIBLE_DEVICES=0\n"
     ]
    }
   ],
   "source": [
    "%env CUDA_DEVICE_ORDER=PCI_BUS_ID\n",
    "%env CUDA_VISIBLE_DEVICES=0"
   ]
  },
  {
   "cell_type": "code",
   "execution_count": 3,
   "metadata": {
    "ExecuteTime": {
     "end_time": "2020-07-16T01:48:18.294889Z",
     "start_time": "2020-07-16T01:48:12.481579Z"
    }
   },
   "outputs": [],
   "source": [
    "import numpy as np\n",
    "import pickle\n",
    "import pandas as pd\n",
    "import time\n",
    "from umap import UMAP"
   ]
  },
  {
   "cell_type": "code",
   "execution_count": 4,
   "metadata": {
    "ExecuteTime": {
     "end_time": "2020-07-16T01:48:21.036057Z",
     "start_time": "2020-07-16T01:48:18.296677Z"
    }
   },
   "outputs": [
    {
     "name": "stderr",
     "output_type": "stream",
     "text": [
      "/mnt/cube/tsainbur/conda_envs/tpy3/lib/python3.6/site-packages/tqdm/autonotebook/__init__.py:14: TqdmExperimentalWarning: Using `tqdm.autonotebook.tqdm` in notebook mode. Use `tqdm.tqdm` instead to force console mode (e.g. in jupyter console)\n",
      "  \" (e.g. in jupyter console)\", TqdmExperimentalWarning)\n"
     ]
    }
   ],
   "source": [
    "from tfumap.umap import tfUMAP\n",
    "import tensorflow as tf\n",
    "from sklearn.decomposition import PCA\n",
    "from openTSNE import TSNE"
   ]
  },
  {
   "cell_type": "code",
   "execution_count": 5,
   "metadata": {
    "ExecuteTime": {
     "end_time": "2020-07-16T01:48:21.080596Z",
     "start_time": "2020-07-16T01:48:21.037765Z"
    }
   },
   "outputs": [],
   "source": [
    "from tqdm.autonotebook import tqdm"
   ]
  },
  {
   "cell_type": "code",
   "execution_count": 6,
   "metadata": {
    "ExecuteTime": {
     "end_time": "2020-07-16T01:48:21.239506Z",
     "start_time": "2020-07-16T01:48:21.081929Z"
    }
   },
   "outputs": [],
   "source": [
    "from tfumap.paths import ensure_dir, MODEL_DIR, DATA_DIR"
   ]
  },
  {
   "cell_type": "code",
   "execution_count": 7,
   "metadata": {
    "ExecuteTime": {
     "end_time": "2020-07-16T01:48:21.283735Z",
     "start_time": "2020-07-16T01:48:21.240971Z"
    }
   },
   "outputs": [],
   "source": [
    "output_dir = MODEL_DIR/'projections' "
   ]
  },
  {
   "cell_type": "code",
   "execution_count": 8,
   "metadata": {
    "ExecuteTime": {
     "end_time": "2020-07-16T01:48:21.324778Z",
     "start_time": "2020-07-16T01:48:21.285083Z"
    }
   },
   "outputs": [],
   "source": [
    "projection_speeds = pd.DataFrame(columns = ['method_', 'dimensions', 'dataset', 'speed'])"
   ]
  },
  {
   "cell_type": "markdown",
   "metadata": {},
   "source": [
    "### MNIST"
   ]
  },
  {
   "cell_type": "code",
   "execution_count": 9,
   "metadata": {
    "ExecuteTime": {
     "end_time": "2020-07-16T01:48:21.361354Z",
     "start_time": "2020-07-16T01:48:21.326137Z"
    }
   },
   "outputs": [],
   "source": [
    "dataset = 'macosko2015'\n",
    "dims = [50]"
   ]
  },
  {
   "cell_type": "markdown",
   "metadata": {},
   "source": [
    "##### load dataset"
   ]
  },
  {
   "cell_type": "code",
   "execution_count": 10,
   "metadata": {
    "ExecuteTime": {
     "end_time": "2020-07-16T01:48:21.750035Z",
     "start_time": "2020-07-16T01:48:21.362570Z"
    }
   },
   "outputs": [
    {
     "name": "stdout",
     "output_type": "stream",
     "text": [
      "Data set contains 44808 samples with 50 features\n"
     ]
    }
   ],
   "source": [
    "from tfumap.paths import ensure_dir, MODEL_DIR, DATA_DIR\n",
    "\n",
    "#dataset_address = 'http://file.biolab.si/opentsne/macosko_2015.pkl.gz'\n",
    "# https://opentsne.readthedocs.io/en/latest/examples/01_simple_usage/01_simple_usage.html\n",
    "# also see https://github.com/berenslab/rna-seq-tsne/blob/master/umi-datasets.ipynb\n",
    "\n",
    "import gzip\n",
    "import pickle\n",
    "\n",
    "with gzip.open(DATA_DIR / 'macosko_2015.pkl.gz', \"rb\") as f:\n",
    "    data = pickle.load(f)\n",
    "\n",
    "x = data[\"pca_50\"]\n",
    "y = data[\"CellType1\"].astype(str)\n",
    "\n",
    "print(\"Data set contains %d samples with %d features\" % x.shape)\n",
    "\n",
    "from sklearn.model_selection import train_test_split\n",
    "\n",
    "X_train, X_test, Y_train, Y_test = train_test_split(x, y, test_size=.1, random_state=42)\n",
    "\n",
    "np.shape(X_train)\n",
    "\n",
    "n_valid = 10000\n",
    "X_valid = X_train[-n_valid:]\n",
    "Y_valid = Y_train[-n_valid:]\n",
    "X_train = X_train[:-n_valid]\n",
    "Y_train = Y_train[:-n_valid]\n",
    "\n",
    "X_train_flat = X_train\n",
    "\n",
    "from sklearn.preprocessing import OrdinalEncoder\n",
    "enc = OrdinalEncoder()\n",
    "\n",
    "Y_train = enc.fit_transform([[i] for i in Y_train]).flatten()\n",
    "\n",
    "X_train_flat = X_train\n",
    "X_test_flat = X_test"
   ]
  },
  {
   "cell_type": "markdown",
   "metadata": {},
   "source": [
    "#### Network "
   ]
  },
  {
   "cell_type": "markdown",
   "metadata": {},
   "source": [
    "##### 2 dims"
   ]
  },
  {
   "cell_type": "code",
   "execution_count": 11,
   "metadata": {
    "ExecuteTime": {
     "end_time": "2020-07-16T01:48:21.790910Z",
     "start_time": "2020-07-16T01:48:21.752635Z"
    }
   },
   "outputs": [],
   "source": [
    "load_loc = output_dir / dataset / 'network' "
   ]
  },
  {
   "cell_type": "code",
   "execution_count": 12,
   "metadata": {
    "ExecuteTime": {
     "end_time": "2020-07-16T01:48:23.203402Z",
     "start_time": "2020-07-16T01:48:21.792708Z"
    }
   },
   "outputs": [],
   "source": [
    "embedder = tfUMAP(\n",
    "    direct_embedding=False,\n",
    "    verbose=True,\n",
    "    negative_sample_rate=5,\n",
    "    training_epochs=5,\n",
    "    batch_size = 100,\n",
    "    dims = dims\n",
    ")"
   ]
  },
  {
   "cell_type": "code",
   "execution_count": 13,
   "metadata": {
    "ExecuteTime": {
     "end_time": "2020-07-16T01:48:24.019923Z",
     "start_time": "2020-07-16T01:48:23.204893Z"
    }
   },
   "outputs": [],
   "source": [
    "encoder = tf.keras.models.load_model((load_loc / 'encoder').as_posix())\n",
    "embedder.encoder = encoder"
   ]
  },
  {
   "cell_type": "code",
   "execution_count": 14,
   "metadata": {
    "ExecuteTime": {
     "end_time": "2020-07-16T01:48:25.081745Z",
     "start_time": "2020-07-16T01:48:24.021540Z"
    }
   },
   "outputs": [
    {
     "data": {
      "application/vnd.jupyter.widget-view+json": {
       "model_id": "66e4200e982a4ecfa5606cd9b20f5e89",
       "version_major": 2,
       "version_minor": 0
      },
      "text/plain": [
       "HBox(children=(IntProgress(value=0, max=10), HTML(value='')))"
      ]
     },
     "metadata": {},
     "output_type": "display_data"
    },
    {
     "name": "stdout",
     "output_type": "stream",
     "text": [
      "seconds:  0.34870755416341126\n",
      "seconds:  0.06752445199526846\n",
      "seconds:  0.07420067302882671\n",
      "seconds:  0.06199060403741896\n",
      "seconds:  0.06612191000021994\n",
      "seconds:  0.0715452239383012\n",
      "seconds:  0.07032172591425478\n",
      "seconds:  0.06778662884607911\n",
      "seconds:  0.07116298214532435\n",
      "seconds:  0.06888453289866447\n",
      "\n"
     ]
    }
   ],
   "source": [
    "n_repeats = 10\n",
    "times = []\n",
    "for i in tqdm(range(n_repeats)):\n",
    "    start_time = time.monotonic()\n",
    "    encoder(X_test);\n",
    "    end_time = time.monotonic()\n",
    "    print('seconds: ', end_time - start_time)\n",
    "    times.append(end_time - start_time)\n",
    "    projection_speeds.loc[len(projection_speeds)] = ['network', 2, dataset, end_time - start_time]\n"
   ]
  },
  {
   "cell_type": "code",
   "execution_count": 15,
   "metadata": {
    "ExecuteTime": {
     "end_time": "2020-07-16T01:48:25.222417Z",
     "start_time": "2020-07-16T01:48:25.083121Z"
    }
   },
   "outputs": [],
   "source": [
    "z = embedder.transform(X_test_flat);\n",
    "np.save( MODEL_DIR/'projections' / dataset / 'network' / 'z_test.npy', z)"
   ]
  },
  {
   "cell_type": "code",
   "execution_count": 16,
   "metadata": {
    "ExecuteTime": {
     "end_time": "2020-07-16T01:48:26.450508Z",
     "start_time": "2020-07-16T01:48:25.224577Z"
    }
   },
   "outputs": [
    {
     "data": {
      "application/vnd.jupyter.widget-view+json": {
       "model_id": "c0d67b90c66047b4946028589c8cc102",
       "version_major": 2,
       "version_minor": 0
      },
      "text/plain": [
       "HBox(children=(IntProgress(value=0, max=10), HTML(value='')))"
      ]
     },
     "metadata": {},
     "output_type": "display_data"
    },
    {
     "name": "stdout",
     "output_type": "stream",
     "text": [
      "seconds:  0.17694095987826586\n",
      "seconds:  0.10471905604936182\n",
      "seconds:  0.10097882291302085\n",
      "seconds:  0.10366744408383965\n",
      "seconds:  0.10533470497466624\n",
      "seconds:  0.10049255890771747\n",
      "seconds:  0.10127843101508915\n",
      "seconds:  0.1097943289205432\n",
      "seconds:  0.10216619912534952\n",
      "seconds:  0.1051028179936111\n",
      "\n"
     ]
    }
   ],
   "source": [
    "##### Network CPU\n",
    "\n",
    "with tf.device('/CPU:0'):\n",
    "    n_repeats = 10\n",
    "    times = []\n",
    "    for i in tqdm(range(n_repeats)):\n",
    "        start_time = time.monotonic()\n",
    "        encoder(X_test);\n",
    "        end_time = time.monotonic()\n",
    "        print('seconds: ', end_time - start_time)\n",
    "        times.append(end_time - start_time)\n",
    "        projection_speeds.loc[len(projection_speeds)] = ['network-cpu', 2, dataset, end_time - start_time]"
   ]
  },
  {
   "cell_type": "markdown",
   "metadata": {},
   "source": [
    "##### 64 dims"
   ]
  },
  {
   "cell_type": "code",
   "execution_count": 17,
   "metadata": {
    "ExecuteTime": {
     "end_time": "2020-07-16T01:48:26.494497Z",
     "start_time": "2020-07-16T01:48:26.452408Z"
    }
   },
   "outputs": [],
   "source": [
    "load_loc = output_dir / dataset /\"64\"/ 'network' "
   ]
  },
  {
   "cell_type": "code",
   "execution_count": 18,
   "metadata": {
    "ExecuteTime": {
     "end_time": "2020-07-16T01:48:26.532072Z",
     "start_time": "2020-07-16T01:48:26.495761Z"
    }
   },
   "outputs": [],
   "source": [
    "embedder = tfUMAP(\n",
    "    direct_embedding=False,\n",
    "    verbose=True,\n",
    "    negative_sample_rate=5,\n",
    "    training_epochs=5,\n",
    "    batch_size = 100,\n",
    "    dims = dims\n",
    ")"
   ]
  },
  {
   "cell_type": "code",
   "execution_count": 19,
   "metadata": {
    "ExecuteTime": {
     "end_time": "2020-07-16T01:48:26.716995Z",
     "start_time": "2020-07-16T01:48:26.533298Z"
    }
   },
   "outputs": [],
   "source": [
    "encoder = tf.keras.models.load_model((load_loc / 'encoder').as_posix())\n",
    "embedder.encoder = encoder"
   ]
  },
  {
   "cell_type": "code",
   "execution_count": 20,
   "metadata": {
    "ExecuteTime": {
     "end_time": "2020-07-16T01:48:27.611166Z",
     "start_time": "2020-07-16T01:48:26.718525Z"
    }
   },
   "outputs": [
    {
     "data": {
      "application/vnd.jupyter.widget-view+json": {
       "model_id": "3829accf24ef4340acc281377d31071a",
       "version_major": 2,
       "version_minor": 0
      },
      "text/plain": [
       "HBox(children=(IntProgress(value=0, max=10), HTML(value='')))"
      ]
     },
     "metadata": {},
     "output_type": "display_data"
    },
    {
     "name": "stdout",
     "output_type": "stream",
     "text": [
      "seconds:  0.1387474648654461\n",
      "seconds:  0.07135432702489197\n",
      "seconds:  0.07083864114247262\n",
      "seconds:  0.07298869709484279\n",
      "seconds:  0.07185079203918576\n",
      "seconds:  0.07028880412690341\n",
      "seconds:  0.07917366409674287\n",
      "seconds:  0.07074770797044039\n",
      "seconds:  0.07060583494603634\n",
      "seconds:  0.07840379001572728\n",
      "\n"
     ]
    }
   ],
   "source": [
    "n_repeats = 10\n",
    "times = []\n",
    "for i in tqdm(range(n_repeats)):\n",
    "    start_time = time.monotonic()\n",
    "    encoder(X_test);\n",
    "    end_time = time.monotonic()\n",
    "    print('seconds: ', end_time - start_time)\n",
    "    times.append(end_time - start_time)\n",
    "    projection_speeds.loc[len(projection_speeds)] = ['network', 64, dataset, end_time - start_time]"
   ]
  },
  {
   "cell_type": "code",
   "execution_count": 21,
   "metadata": {
    "ExecuteTime": {
     "end_time": "2020-07-16T01:48:27.743569Z",
     "start_time": "2020-07-16T01:48:27.612492Z"
    }
   },
   "outputs": [],
   "source": [
    "z = embedder.transform(X_test_flat);\n",
    "out = MODEL_DIR/'projections' / dataset / '64' / 'network' / 'z_test.npy'\n",
    "np.save( out, z)"
   ]
  },
  {
   "cell_type": "markdown",
   "metadata": {},
   "source": [
    "##### Network CPU"
   ]
  },
  {
   "cell_type": "code",
   "execution_count": 22,
   "metadata": {
    "ExecuteTime": {
     "end_time": "2020-07-16T01:48:28.994818Z",
     "start_time": "2020-07-16T01:48:27.745625Z"
    }
   },
   "outputs": [
    {
     "data": {
      "application/vnd.jupyter.widget-view+json": {
       "model_id": "926d09bef35b41e18c862d8aaf33e10b",
       "version_major": 2,
       "version_minor": 0
      },
      "text/plain": [
       "HBox(children=(IntProgress(value=0, max=10), HTML(value='')))"
      ]
     },
     "metadata": {},
     "output_type": "display_data"
    },
    {
     "name": "stdout",
     "output_type": "stream",
     "text": [
      "seconds:  0.16303336806595325\n",
      "seconds:  0.10610278695821762\n",
      "seconds:  0.10556052112951875\n",
      "seconds:  0.10626827203668654\n",
      "seconds:  0.10975868790410459\n",
      "seconds:  0.1103381251450628\n",
      "seconds:  0.11395004391670227\n",
      "seconds:  0.10775221697986126\n",
      "seconds:  0.11023474205285311\n",
      "seconds:  0.10755685088224709\n",
      "\n"
     ]
    }
   ],
   "source": [
    "with tf.device('/CPU:0'):\n",
    "    n_repeats = 10\n",
    "    times = []\n",
    "    for i in tqdm(range(n_repeats)):\n",
    "        start_time = time.monotonic()\n",
    "        encoder(X_test);\n",
    "        end_time = time.monotonic()\n",
    "        print('seconds: ', end_time - start_time)\n",
    "        times.append(end_time - start_time)\n",
    "        projection_speeds.loc[len(projection_speeds)] = ['network-cpu', 64, dataset, end_time - start_time]"
   ]
  },
  {
   "cell_type": "markdown",
   "metadata": {},
   "source": [
    "### AE "
   ]
  },
  {
   "cell_type": "markdown",
   "metadata": {},
   "source": [
    "##### 2 dims"
   ]
  },
  {
   "cell_type": "code",
   "execution_count": 23,
   "metadata": {
    "ExecuteTime": {
     "end_time": "2020-07-16T01:48:29.036685Z",
     "start_time": "2020-07-16T01:48:28.996202Z"
    }
   },
   "outputs": [],
   "source": [
    "load_loc = output_dir / dataset / 'autoencoder' "
   ]
  },
  {
   "cell_type": "code",
   "execution_count": 24,
   "metadata": {
    "ExecuteTime": {
     "end_time": "2020-07-16T01:48:29.073508Z",
     "start_time": "2020-07-16T01:48:29.037912Z"
    }
   },
   "outputs": [],
   "source": [
    "embedder = tfUMAP(\n",
    "    direct_embedding=False,\n",
    "    verbose=True,\n",
    "    negative_sample_rate=5,\n",
    "    training_epochs=5,\n",
    "    decoding_method = \"autoencoder\",\n",
    "    batch_size = 100,\n",
    "    dims = dims\n",
    ")"
   ]
  },
  {
   "cell_type": "code",
   "execution_count": 25,
   "metadata": {
    "ExecuteTime": {
     "end_time": "2020-07-16T01:48:29.363575Z",
     "start_time": "2020-07-16T01:48:29.074700Z"
    }
   },
   "outputs": [],
   "source": [
    "encoder = tf.keras.models.load_model((load_loc / 'encoder').as_posix())\n",
    "embedder.encoder = encoder"
   ]
  },
  {
   "cell_type": "code",
   "execution_count": 26,
   "metadata": {
    "ExecuteTime": {
     "end_time": "2020-07-16T01:48:29.578195Z",
     "start_time": "2020-07-16T01:48:29.365047Z"
    }
   },
   "outputs": [],
   "source": [
    "decoder = tf.keras.models.load_model((load_loc / 'decoder').as_posix())\n",
    "embedder.decoder = decoder"
   ]
  },
  {
   "cell_type": "code",
   "execution_count": 27,
   "metadata": {
    "ExecuteTime": {
     "end_time": "2020-07-16T01:48:30.520292Z",
     "start_time": "2020-07-16T01:48:29.580354Z"
    }
   },
   "outputs": [
    {
     "data": {
      "application/vnd.jupyter.widget-view+json": {
       "model_id": "6fc21a0ccf6b4095bd25be72326848f8",
       "version_major": 2,
       "version_minor": 0
      },
      "text/plain": [
       "HBox(children=(IntProgress(value=0, max=10), HTML(value='')))"
      ]
     },
     "metadata": {},
     "output_type": "display_data"
    },
    {
     "name": "stdout",
     "output_type": "stream",
     "text": [
      "seconds:  0.14908249489963055\n",
      "seconds:  0.08126686583273113\n",
      "seconds:  0.07773436000570655\n",
      "seconds:  0.08099470799788833\n",
      "seconds:  0.07816082192584872\n",
      "seconds:  0.07541698892600834\n",
      "seconds:  0.07679978106170893\n",
      "seconds:  0.07628789590671659\n",
      "seconds:  0.07477834005840123\n",
      "seconds:  0.07749953307211399\n",
      "\n"
     ]
    }
   ],
   "source": [
    "n_repeats = 10\n",
    "times = []\n",
    "for i in tqdm(range(n_repeats)):\n",
    "    start_time = time.monotonic()\n",
    "    encoder(X_test);\n",
    "    end_time = time.monotonic()\n",
    "    print('seconds: ', end_time - start_time)\n",
    "    times.append(end_time - start_time)\n",
    "    projection_speeds.loc[len(projection_speeds)] = ['network', 2, dataset, end_time - start_time]\n"
   ]
  },
  {
   "cell_type": "code",
   "execution_count": 28,
   "metadata": {
    "ExecuteTime": {
     "end_time": "2020-07-16T01:48:30.637924Z",
     "start_time": "2020-07-16T01:48:30.521778Z"
    }
   },
   "outputs": [],
   "source": [
    "z = embedder.transform(X_test_flat);\n",
    "np.save( MODEL_DIR/'projections' / dataset / 'autoencoder' / 'z_test.npy', z)"
   ]
  },
  {
   "cell_type": "markdown",
   "metadata": {},
   "source": [
    "##### 64 dims"
   ]
  },
  {
   "cell_type": "code",
   "execution_count": 29,
   "metadata": {
    "ExecuteTime": {
     "end_time": "2020-07-16T01:48:30.678069Z",
     "start_time": "2020-07-16T01:48:30.639351Z"
    }
   },
   "outputs": [],
   "source": [
    "load_loc = output_dir / dataset /\"64\"/ 'autoencoder' "
   ]
  },
  {
   "cell_type": "code",
   "execution_count": 30,
   "metadata": {
    "ExecuteTime": {
     "end_time": "2020-07-16T01:48:30.715163Z",
     "start_time": "2020-07-16T01:48:30.679558Z"
    }
   },
   "outputs": [],
   "source": [
    "embedder = tfUMAP(\n",
    "    direct_embedding=False,\n",
    "    verbose=True,\n",
    "    negative_sample_rate=5,\n",
    "    training_epochs=5,\n",
    "    decoding_method = \"autoencoder\",\n",
    "    batch_size = 100,\n",
    "    dims = dims\n",
    ")"
   ]
  },
  {
   "cell_type": "code",
   "execution_count": 31,
   "metadata": {
    "ExecuteTime": {
     "end_time": "2020-07-16T01:48:30.968880Z",
     "start_time": "2020-07-16T01:48:30.716457Z"
    }
   },
   "outputs": [],
   "source": [
    "encoder = tf.keras.models.load_model((load_loc / 'encoder').as_posix())\n",
    "embedder.encoder = encoder"
   ]
  },
  {
   "cell_type": "code",
   "execution_count": 32,
   "metadata": {
    "ExecuteTime": {
     "end_time": "2020-07-16T01:48:31.187712Z",
     "start_time": "2020-07-16T01:48:30.970460Z"
    }
   },
   "outputs": [],
   "source": [
    "decoder = tf.keras.models.load_model((load_loc / 'decoder').as_posix())\n",
    "embedder.decoder = decoder"
   ]
  },
  {
   "cell_type": "code",
   "execution_count": 33,
   "metadata": {
    "ExecuteTime": {
     "end_time": "2020-07-16T01:48:32.091332Z",
     "start_time": "2020-07-16T01:48:31.189243Z"
    }
   },
   "outputs": [
    {
     "data": {
      "application/vnd.jupyter.widget-view+json": {
       "model_id": "d74022c27aac417cad4745525889b219",
       "version_major": 2,
       "version_minor": 0
      },
      "text/plain": [
       "HBox(children=(IntProgress(value=0, max=10), HTML(value='')))"
      ]
     },
     "metadata": {},
     "output_type": "display_data"
    },
    {
     "name": "stdout",
     "output_type": "stream",
     "text": [
      "seconds:  0.1398882467765361\n",
      "seconds:  0.07351517211645842\n",
      "seconds:  0.07095298497006297\n",
      "seconds:  0.07434593699872494\n",
      "seconds:  0.0720775390509516\n",
      "seconds:  0.07467798702418804\n",
      "seconds:  0.07704888819716871\n",
      "seconds:  0.07738307816907763\n",
      "seconds:  0.07694023591466248\n",
      "seconds:  0.07161920494399965\n",
      "\n"
     ]
    }
   ],
   "source": [
    "n_repeats = 10\n",
    "times = []\n",
    "for i in tqdm(range(n_repeats)):\n",
    "    start_time = time.monotonic()\n",
    "    encoder(X_test);\n",
    "    end_time = time.monotonic()\n",
    "    print('seconds: ', end_time - start_time)\n",
    "    times.append(end_time - start_time)\n",
    "    projection_speeds.loc[len(projection_speeds)] = ['network', 64, dataset, end_time - start_time]"
   ]
  },
  {
   "cell_type": "code",
   "execution_count": 34,
   "metadata": {
    "ExecuteTime": {
     "end_time": "2020-07-16T01:48:32.213772Z",
     "start_time": "2020-07-16T01:48:32.092845Z"
    }
   },
   "outputs": [],
   "source": [
    "z = embedder.transform(X_test_flat);\n",
    "out = MODEL_DIR/'projections' / dataset / '64' / 'autoencoder' / 'z_test.npy'\n",
    "np.save( out, z)"
   ]
  },
  {
   "cell_type": "markdown",
   "metadata": {},
   "source": [
    "#### UMAP-learn"
   ]
  },
  {
   "cell_type": "markdown",
   "metadata": {},
   "source": [
    "##### 2 dims"
   ]
  },
  {
   "cell_type": "code",
   "execution_count": 35,
   "metadata": {
    "ExecuteTime": {
     "end_time": "2020-07-16T01:49:08.077968Z",
     "start_time": "2020-07-16T01:48:32.218759Z"
    }
   },
   "outputs": [
    {
     "name": "stdout",
     "output_type": "stream",
     "text": [
      "UMAP(dens_frac=0.0, dens_lambda=0.0, verbose=True)\n",
      "Construct fuzzy simplicial set\n",
      "Wed Jul 15 18:48:32 2020 Finding Nearest Neighbors\n",
      "Wed Jul 15 18:48:32 2020 Building RP forest with 14 trees\n",
      "Wed Jul 15 18:48:33 2020 parallel NN descent for 15 iterations\n",
      "\t 0  /  15\n",
      "\t 1  /  15\n",
      "\t 2  /  15\n",
      "\t 3  /  15\n",
      "\t 4  /  15\n",
      "\t 5  /  15\n",
      "Wed Jul 15 18:48:43 2020 Finished Nearest Neighbor Search\n",
      "Wed Jul 15 18:48:45 2020 Construct embedding\n",
      "\tcompleted  0  /  200 epochs\n",
      "\tcompleted  20  /  200 epochs\n",
      "\tcompleted  40  /  200 epochs\n",
      "\tcompleted  60  /  200 epochs\n",
      "\tcompleted  80  /  200 epochs\n",
      "\tcompleted  100  /  200 epochs\n",
      "\tcompleted  120  /  200 epochs\n",
      "\tcompleted  140  /  200 epochs\n",
      "\tcompleted  160  /  200 epochs\n",
      "\tcompleted  180  /  200 epochs\n",
      "Wed Jul 15 18:49:08 2020 Finished embedding\n"
     ]
    }
   ],
   "source": [
    "embedder = UMAP(n_components = 2, verbose=True)\n",
    "z_umap = embedder.fit_transform(X_train_flat)"
   ]
  },
  {
   "cell_type": "code",
   "execution_count": 36,
   "metadata": {
    "ExecuteTime": {
     "end_time": "2020-07-16T01:49:58.299345Z",
     "start_time": "2020-07-16T01:49:08.079536Z"
    }
   },
   "outputs": [
    {
     "data": {
      "application/vnd.jupyter.widget-view+json": {
       "model_id": "8bd6df95111e4d518c81e1976f256c5e",
       "version_major": 2,
       "version_minor": 0
      },
      "text/plain": [
       "HBox(children=(IntProgress(value=0, max=10), HTML(value='')))"
      ]
     },
     "metadata": {},
     "output_type": "display_data"
    },
    {
     "name": "stdout",
     "output_type": "stream",
     "text": [
      "\tcompleted  0  /  100 epochs\n",
      "\tcompleted  10  /  100 epochs\n",
      "\tcompleted  20  /  100 epochs\n",
      "\tcompleted  30  /  100 epochs\n",
      "\tcompleted  40  /  100 epochs\n",
      "\tcompleted  50  /  100 epochs\n",
      "\tcompleted  60  /  100 epochs\n",
      "\tcompleted  70  /  100 epochs\n",
      "\tcompleted  80  /  100 epochs\n",
      "\tcompleted  90  /  100 epochs\n",
      "seconds:  15.81415882683359\n",
      "\tcompleted  0  /  100 epochs\n",
      "\tcompleted  10  /  100 epochs\n",
      "\tcompleted  20  /  100 epochs\n",
      "\tcompleted  30  /  100 epochs\n",
      "\tcompleted  40  /  100 epochs\n",
      "\tcompleted  50  /  100 epochs\n",
      "\tcompleted  60  /  100 epochs\n",
      "\tcompleted  70  /  100 epochs\n",
      "\tcompleted  80  /  100 epochs\n",
      "\tcompleted  90  /  100 epochs\n",
      "seconds:  3.627559836022556\n",
      "\tcompleted  0  /  100 epochs\n",
      "\tcompleted  10  /  100 epochs\n",
      "\tcompleted  20  /  100 epochs\n",
      "\tcompleted  30  /  100 epochs\n",
      "\tcompleted  40  /  100 epochs\n",
      "\tcompleted  50  /  100 epochs\n",
      "\tcompleted  60  /  100 epochs\n",
      "\tcompleted  70  /  100 epochs\n",
      "\tcompleted  80  /  100 epochs\n",
      "\tcompleted  90  /  100 epochs\n",
      "seconds:  3.907332541886717\n",
      "\tcompleted  0  /  100 epochs\n",
      "\tcompleted  10  /  100 epochs\n",
      "\tcompleted  20  /  100 epochs\n",
      "\tcompleted  30  /  100 epochs\n",
      "\tcompleted  40  /  100 epochs\n",
      "\tcompleted  50  /  100 epochs\n",
      "\tcompleted  60  /  100 epochs\n",
      "\tcompleted  70  /  100 epochs\n",
      "\tcompleted  80  /  100 epochs\n",
      "\tcompleted  90  /  100 epochs\n",
      "seconds:  3.943627713015303\n",
      "\tcompleted  0  /  100 epochs\n",
      "\tcompleted  10  /  100 epochs\n",
      "\tcompleted  20  /  100 epochs\n",
      "\tcompleted  30  /  100 epochs\n",
      "\tcompleted  40  /  100 epochs\n",
      "\tcompleted  50  /  100 epochs\n",
      "\tcompleted  60  /  100 epochs\n",
      "\tcompleted  70  /  100 epochs\n",
      "\tcompleted  80  /  100 epochs\n",
      "\tcompleted  90  /  100 epochs\n",
      "seconds:  3.7026251829229295\n",
      "\tcompleted  0  /  100 epochs\n",
      "\tcompleted  10  /  100 epochs\n",
      "\tcompleted  20  /  100 epochs\n",
      "\tcompleted  30  /  100 epochs\n",
      "\tcompleted  40  /  100 epochs\n",
      "\tcompleted  50  /  100 epochs\n",
      "\tcompleted  60  /  100 epochs\n",
      "\tcompleted  70  /  100 epochs\n",
      "\tcompleted  80  /  100 epochs\n",
      "\tcompleted  90  /  100 epochs\n",
      "seconds:  3.949889804935083\n",
      "\tcompleted  0  /  100 epochs\n",
      "\tcompleted  10  /  100 epochs\n",
      "\tcompleted  20  /  100 epochs\n",
      "\tcompleted  30  /  100 epochs\n",
      "\tcompleted  40  /  100 epochs\n",
      "\tcompleted  50  /  100 epochs\n",
      "\tcompleted  60  /  100 epochs\n",
      "\tcompleted  70  /  100 epochs\n",
      "\tcompleted  80  /  100 epochs\n",
      "\tcompleted  90  /  100 epochs\n",
      "seconds:  3.6764611550606787\n",
      "\tcompleted  0  /  100 epochs\n",
      "\tcompleted  10  /  100 epochs\n",
      "\tcompleted  20  /  100 epochs\n",
      "\tcompleted  30  /  100 epochs\n",
      "\tcompleted  40  /  100 epochs\n",
      "\tcompleted  50  /  100 epochs\n",
      "\tcompleted  60  /  100 epochs\n",
      "\tcompleted  70  /  100 epochs\n",
      "\tcompleted  80  /  100 epochs\n",
      "\tcompleted  90  /  100 epochs\n",
      "seconds:  3.9206670951098204\n",
      "\tcompleted  0  /  100 epochs\n",
      "\tcompleted  10  /  100 epochs\n",
      "\tcompleted  20  /  100 epochs\n",
      "\tcompleted  30  /  100 epochs\n",
      "\tcompleted  40  /  100 epochs\n",
      "\tcompleted  50  /  100 epochs\n",
      "\tcompleted  60  /  100 epochs\n",
      "\tcompleted  70  /  100 epochs\n",
      "\tcompleted  80  /  100 epochs\n",
      "\tcompleted  90  /  100 epochs\n",
      "seconds:  3.6552260001190007\n",
      "\tcompleted  0  /  100 epochs\n",
      "\tcompleted  10  /  100 epochs\n",
      "\tcompleted  20  /  100 epochs\n",
      "\tcompleted  30  /  100 epochs\n",
      "\tcompleted  40  /  100 epochs\n",
      "\tcompleted  50  /  100 epochs\n",
      "\tcompleted  60  /  100 epochs\n",
      "\tcompleted  70  /  100 epochs\n",
      "\tcompleted  80  /  100 epochs\n",
      "\tcompleted  90  /  100 epochs\n",
      "seconds:  3.9011018350720406\n",
      "\n"
     ]
    }
   ],
   "source": [
    "n_repeats = 10\n",
    "times = []\n",
    "for i in tqdm(range(n_repeats)):\n",
    "    start_time = time.monotonic()\n",
    "    embedder.transform(X_test_flat);\n",
    "    end_time = time.monotonic()\n",
    "    print('seconds: ', end_time - start_time)\n",
    "    times.append(end_time - start_time)\n",
    "    projection_speeds.loc[len(projection_speeds)] = ['umap-learn', 2, dataset, end_time - start_time]\n"
   ]
  },
  {
   "cell_type": "code",
   "execution_count": 37,
   "metadata": {
    "ExecuteTime": {
     "end_time": "2020-07-16T01:49:58.868096Z",
     "start_time": "2020-07-16T01:49:58.300804Z"
    }
   },
   "outputs": [
    {
     "data": {
      "text/plain": [
       "PosixPath('/mnt/cube/tsainbur/Projects/github_repos/umap_tf_networks/models/projections/macosko2015/64/autoencoder/z_test.npy')"
      ]
     },
     "execution_count": 37,
     "metadata": {},
     "output_type": "execute_result"
    }
   ],
   "source": [
    "out"
   ]
  },
  {
   "cell_type": "code",
   "execution_count": 38,
   "metadata": {
    "ExecuteTime": {
     "end_time": "2020-07-16T01:50:02.582961Z",
     "start_time": "2020-07-16T01:49:58.869752Z"
    }
   },
   "outputs": [
    {
     "name": "stdout",
     "output_type": "stream",
     "text": [
      "\tcompleted  0  /  100 epochs\n",
      "\tcompleted  10  /  100 epochs\n",
      "\tcompleted  20  /  100 epochs\n",
      "\tcompleted  30  /  100 epochs\n",
      "\tcompleted  40  /  100 epochs\n",
      "\tcompleted  50  /  100 epochs\n",
      "\tcompleted  60  /  100 epochs\n",
      "\tcompleted  70  /  100 epochs\n",
      "\tcompleted  80  /  100 epochs\n",
      "\tcompleted  90  /  100 epochs\n"
     ]
    }
   ],
   "source": [
    "z = embedder.transform(X_test_flat);\n",
    "out = MODEL_DIR/'projections' / dataset / 'umap-learn' / 'z_test.npy'\n",
    "ensure_dir(out)\n",
    "np.save(out, z)"
   ]
  },
  {
   "cell_type": "markdown",
   "metadata": {},
   "source": [
    "##### 64 dims"
   ]
  },
  {
   "cell_type": "code",
   "execution_count": 39,
   "metadata": {
    "ExecuteTime": {
     "end_time": "2020-07-16T01:50:32.597224Z",
     "start_time": "2020-07-16T01:50:02.584792Z"
    }
   },
   "outputs": [
    {
     "name": "stdout",
     "output_type": "stream",
     "text": [
      "UMAP(dens_frac=0.0, dens_lambda=0.0, n_components=64, verbose=True)\n",
      "Construct fuzzy simplicial set\n",
      "Wed Jul 15 18:50:02 2020 Finding Nearest Neighbors\n",
      "Wed Jul 15 18:50:02 2020 Building RP forest with 14 trees\n",
      "Wed Jul 15 18:50:02 2020 parallel NN descent for 15 iterations\n",
      "\t 0  /  15\n",
      "\t 1  /  15\n",
      "\t 2  /  15\n",
      "\t 3  /  15\n",
      "\t 4  /  15\n",
      "\t 5  /  15\n",
      "Wed Jul 15 18:50:04 2020 Finished Nearest Neighbor Search\n",
      "Wed Jul 15 18:50:04 2020 Construct embedding\n",
      "\tcompleted  0  /  200 epochs\n",
      "\tcompleted  20  /  200 epochs\n",
      "\tcompleted  40  /  200 epochs\n",
      "\tcompleted  60  /  200 epochs\n",
      "\tcompleted  80  /  200 epochs\n",
      "\tcompleted  100  /  200 epochs\n",
      "\tcompleted  120  /  200 epochs\n",
      "\tcompleted  140  /  200 epochs\n",
      "\tcompleted  160  /  200 epochs\n",
      "\tcompleted  180  /  200 epochs\n",
      "Wed Jul 15 18:50:32 2020 Finished embedding\n"
     ]
    }
   ],
   "source": [
    "embedder = UMAP(n_components = 64, verbose=True)\n",
    "z_umap = embedder.fit_transform(X_train_flat)"
   ]
  },
  {
   "cell_type": "code",
   "execution_count": 40,
   "metadata": {
    "ExecuteTime": {
     "end_time": "2020-07-16T01:51:12.361236Z",
     "start_time": "2020-07-16T01:50:32.598602Z"
    }
   },
   "outputs": [
    {
     "data": {
      "application/vnd.jupyter.widget-view+json": {
       "model_id": "ea0e8496691a47ea8b4402b63c020b97",
       "version_major": 2,
       "version_minor": 0
      },
      "text/plain": [
       "HBox(children=(IntProgress(value=0, max=10), HTML(value='')))"
      ]
     },
     "metadata": {},
     "output_type": "display_data"
    },
    {
     "name": "stdout",
     "output_type": "stream",
     "text": [
      "\tcompleted  0  /  100 epochs\n",
      "\tcompleted  10  /  100 epochs\n",
      "\tcompleted  20  /  100 epochs\n",
      "\tcompleted  30  /  100 epochs\n",
      "\tcompleted  40  /  100 epochs\n",
      "\tcompleted  50  /  100 epochs\n",
      "\tcompleted  60  /  100 epochs\n",
      "\tcompleted  70  /  100 epochs\n",
      "\tcompleted  80  /  100 epochs\n",
      "\tcompleted  90  /  100 epochs\n",
      "seconds:  4.430640858830884\n",
      "\tcompleted  0  /  100 epochs\n",
      "\tcompleted  10  /  100 epochs\n",
      "\tcompleted  20  /  100 epochs\n",
      "\tcompleted  30  /  100 epochs\n",
      "\tcompleted  40  /  100 epochs\n",
      "\tcompleted  50  /  100 epochs\n",
      "\tcompleted  60  /  100 epochs\n",
      "\tcompleted  70  /  100 epochs\n",
      "\tcompleted  80  /  100 epochs\n",
      "\tcompleted  90  /  100 epochs\n",
      "seconds:  3.756479786010459\n",
      "\tcompleted  0  /  100 epochs\n",
      "\tcompleted  10  /  100 epochs\n",
      "\tcompleted  20  /  100 epochs\n",
      "\tcompleted  30  /  100 epochs\n",
      "\tcompleted  40  /  100 epochs\n",
      "\tcompleted  50  /  100 epochs\n",
      "\tcompleted  60  /  100 epochs\n",
      "\tcompleted  70  /  100 epochs\n",
      "\tcompleted  80  /  100 epochs\n",
      "\tcompleted  90  /  100 epochs\n",
      "seconds:  3.9919693088158965\n",
      "\tcompleted  0  /  100 epochs\n",
      "\tcompleted  10  /  100 epochs\n",
      "\tcompleted  20  /  100 epochs\n",
      "\tcompleted  30  /  100 epochs\n",
      "\tcompleted  40  /  100 epochs\n",
      "\tcompleted  50  /  100 epochs\n",
      "\tcompleted  60  /  100 epochs\n",
      "\tcompleted  70  /  100 epochs\n",
      "\tcompleted  80  /  100 epochs\n",
      "\tcompleted  90  /  100 epochs\n",
      "seconds:  3.7420359381940216\n",
      "\tcompleted  0  /  100 epochs\n",
      "\tcompleted  10  /  100 epochs\n",
      "\tcompleted  20  /  100 epochs\n",
      "\tcompleted  30  /  100 epochs\n",
      "\tcompleted  40  /  100 epochs\n",
      "\tcompleted  50  /  100 epochs\n",
      "\tcompleted  60  /  100 epochs\n",
      "\tcompleted  70  /  100 epochs\n",
      "\tcompleted  80  /  100 epochs\n",
      "\tcompleted  90  /  100 epochs\n",
      "seconds:  4.076630403054878\n",
      "\tcompleted  0  /  100 epochs\n",
      "\tcompleted  10  /  100 epochs\n",
      "\tcompleted  20  /  100 epochs\n",
      "\tcompleted  30  /  100 epochs\n",
      "\tcompleted  40  /  100 epochs\n",
      "\tcompleted  50  /  100 epochs\n",
      "\tcompleted  60  /  100 epochs\n",
      "\tcompleted  70  /  100 epochs\n",
      "\tcompleted  80  /  100 epochs\n",
      "\tcompleted  90  /  100 epochs\n",
      "seconds:  4.011278728023171\n",
      "\tcompleted  0  /  100 epochs\n",
      "\tcompleted  10  /  100 epochs\n",
      "\tcompleted  20  /  100 epochs\n",
      "\tcompleted  30  /  100 epochs\n",
      "\tcompleted  40  /  100 epochs\n",
      "\tcompleted  50  /  100 epochs\n",
      "\tcompleted  60  /  100 epochs\n",
      "\tcompleted  70  /  100 epochs\n",
      "\tcompleted  80  /  100 epochs\n",
      "\tcompleted  90  /  100 epochs\n",
      "seconds:  3.78216233686544\n",
      "\tcompleted  0  /  100 epochs\n",
      "\tcompleted  10  /  100 epochs\n",
      "\tcompleted  20  /  100 epochs\n",
      "\tcompleted  30  /  100 epochs\n",
      "\tcompleted  40  /  100 epochs\n",
      "\tcompleted  50  /  100 epochs\n",
      "\tcompleted  60  /  100 epochs\n",
      "\tcompleted  70  /  100 epochs\n",
      "\tcompleted  80  /  100 epochs\n",
      "\tcompleted  90  /  100 epochs\n",
      "seconds:  4.0065610588062555\n",
      "\tcompleted  0  /  100 epochs\n",
      "\tcompleted  10  /  100 epochs\n",
      "\tcompleted  20  /  100 epochs\n",
      "\tcompleted  30  /  100 epochs\n",
      "\tcompleted  40  /  100 epochs\n",
      "\tcompleted  50  /  100 epochs\n",
      "\tcompleted  60  /  100 epochs\n",
      "\tcompleted  70  /  100 epochs\n",
      "\tcompleted  80  /  100 epochs\n",
      "\tcompleted  90  /  100 epochs\n",
      "seconds:  3.7977514788508415\n",
      "\tcompleted  0  /  100 epochs\n",
      "\tcompleted  10  /  100 epochs\n",
      "\tcompleted  20  /  100 epochs\n",
      "\tcompleted  30  /  100 epochs\n",
      "\tcompleted  40  /  100 epochs\n",
      "\tcompleted  50  /  100 epochs\n",
      "\tcompleted  60  /  100 epochs\n",
      "\tcompleted  70  /  100 epochs\n",
      "\tcompleted  80  /  100 epochs\n",
      "\tcompleted  90  /  100 epochs\n",
      "seconds:  4.037998782936484\n",
      "\n"
     ]
    }
   ],
   "source": [
    "n_repeats = 10\n",
    "times = []\n",
    "for i in tqdm(range(n_repeats)):\n",
    "    start_time = time.monotonic()\n",
    "    embedder.transform(X_test_flat);\n",
    "    end_time = time.monotonic()\n",
    "    print('seconds: ', end_time - start_time)\n",
    "    projection_speeds.loc[len(projection_speeds)] = ['umap-learn', 64, dataset, end_time - start_time]\n"
   ]
  },
  {
   "cell_type": "code",
   "execution_count": 41,
   "metadata": {
    "ExecuteTime": {
     "end_time": "2020-07-16T01:51:16.701588Z",
     "start_time": "2020-07-16T01:51:12.362733Z"
    }
   },
   "outputs": [
    {
     "name": "stdout",
     "output_type": "stream",
     "text": [
      "\tcompleted  0  /  100 epochs\n",
      "\tcompleted  10  /  100 epochs\n",
      "\tcompleted  20  /  100 epochs\n",
      "\tcompleted  30  /  100 epochs\n",
      "\tcompleted  40  /  100 epochs\n",
      "\tcompleted  50  /  100 epochs\n",
      "\tcompleted  60  /  100 epochs\n",
      "\tcompleted  70  /  100 epochs\n",
      "\tcompleted  80  /  100 epochs\n",
      "\tcompleted  90  /  100 epochs\n"
     ]
    }
   ],
   "source": [
    "z = embedder.transform(X_test_flat);\n",
    "out = MODEL_DIR/'projections' / dataset / '64' / 'umap-learn' / 'z_test.npy'\n",
    "ensure_dir(out)\n",
    "np.save(out, z)"
   ]
  },
  {
   "cell_type": "markdown",
   "metadata": {},
   "source": [
    "#### PCA"
   ]
  },
  {
   "cell_type": "markdown",
   "metadata": {},
   "source": [
    "##### 2 dims"
   ]
  },
  {
   "cell_type": "code",
   "execution_count": 42,
   "metadata": {
    "ExecuteTime": {
     "end_time": "2020-07-16T01:51:16.817022Z",
     "start_time": "2020-07-16T01:51:16.702919Z"
    }
   },
   "outputs": [],
   "source": [
    "pca = PCA(n_components=2)\n",
    "z = pca.fit_transform(X_train_flat)"
   ]
  },
  {
   "cell_type": "code",
   "execution_count": 43,
   "metadata": {
    "ExecuteTime": {
     "end_time": "2020-07-16T01:51:16.909475Z",
     "start_time": "2020-07-16T01:51:16.818328Z"
    }
   },
   "outputs": [
    {
     "data": {
      "application/vnd.jupyter.widget-view+json": {
       "model_id": "6b7ab8b8a9bc4d1dbfe242226c66512b",
       "version_major": 2,
       "version_minor": 0
      },
      "text/plain": [
       "HBox(children=(IntProgress(value=0, max=10), HTML(value='')))"
      ]
     },
     "metadata": {},
     "output_type": "display_data"
    },
    {
     "name": "stdout",
     "output_type": "stream",
     "text": [
      "seconds:  0.0011653951369225979\n",
      "seconds:  0.0009461690206080675\n",
      "seconds:  0.0009426679462194443\n",
      "seconds:  0.0009383079595863819\n",
      "seconds:  0.0008981470018625259\n",
      "seconds:  0.0010467211250215769\n",
      "seconds:  0.0009048669598996639\n",
      "seconds:  0.0008987870533019304\n",
      "seconds:  0.0009086169302463531\n",
      "seconds:  0.0009974287822842598\n",
      "\n"
     ]
    }
   ],
   "source": [
    "n_repeats = 10\n",
    "times = []\n",
    "for i in tqdm(range(n_repeats)):\n",
    "    start_time = time.monotonic()\n",
    "    pca.transform(X_test_flat);\n",
    "    end_time = time.monotonic()\n",
    "    print('seconds: ', end_time - start_time)\n",
    "    times.append(end_time - start_time)\n",
    "    projection_speeds.loc[len(projection_speeds)] = ['pca', 2, dataset, end_time - start_time]\n"
   ]
  },
  {
   "cell_type": "code",
   "execution_count": 44,
   "metadata": {
    "ExecuteTime": {
     "end_time": "2020-07-16T01:51:16.950908Z",
     "start_time": "2020-07-16T01:51:16.910819Z"
    }
   },
   "outputs": [],
   "source": [
    "z = pca.transform(X_test_flat);\n",
    "out = MODEL_DIR/'projections' / dataset / 'PCA' / 'z_test.npy'\n",
    "ensure_dir(out)\n",
    "np.save(out, z)"
   ]
  },
  {
   "cell_type": "markdown",
   "metadata": {},
   "source": [
    "##### 64 dims"
   ]
  },
  {
   "cell_type": "code",
   "execution_count": 45,
   "metadata": {
    "ExecuteTime": {
     "end_time": "2020-07-16T01:51:16.995974Z",
     "start_time": "2020-07-16T01:51:16.952309Z"
    }
   },
   "outputs": [],
   "source": [
    "x_train_flat_padded = np.concatenate([X_train_flat, np.zeros((len(X_train_flat), 14))], axis=1)\n",
    "X_test_flat_padded = np.concatenate([X_test_flat, np.zeros((len(X_test_flat), 14))], axis=1)"
   ]
  },
  {
   "cell_type": "code",
   "execution_count": 47,
   "metadata": {
    "ExecuteTime": {
     "end_time": "2020-07-16T01:53:57.005847Z",
     "start_time": "2020-07-16T01:53:56.381767Z"
    }
   },
   "outputs": [],
   "source": [
    "pca = PCA(n_components=64)\n",
    "z = pca.fit_transform(x_train_flat_padded)"
   ]
  },
  {
   "cell_type": "code",
   "execution_count": 48,
   "metadata": {
    "ExecuteTime": {
     "end_time": "2020-07-16T01:53:58.569469Z",
     "start_time": "2020-07-16T01:53:58.450084Z"
    }
   },
   "outputs": [
    {
     "data": {
      "application/vnd.jupyter.widget-view+json": {
       "model_id": "28740856845149f4b2a245c832221e82",
       "version_major": 2,
       "version_minor": 0
      },
      "text/plain": [
       "HBox(children=(IntProgress(value=0, max=10), HTML(value='')))"
      ]
     },
     "metadata": {},
     "output_type": "display_data"
    },
    {
     "name": "stdout",
     "output_type": "stream",
     "text": [
      "seconds:  0.0019446571823209524\n",
      "seconds:  0.002559094922617078\n",
      "seconds:  0.002344178967177868\n",
      "seconds:  0.002321189036592841\n",
      "seconds:  0.002323488937690854\n",
      "seconds:  0.0023256191052496433\n",
      "seconds:  0.0023484600242227316\n",
      "seconds:  0.002322959015145898\n",
      "seconds:  0.002382779959589243\n",
      "seconds:  0.0023157980758696795\n",
      "\n"
     ]
    }
   ],
   "source": [
    "n_repeats = 10\n",
    "times = []\n",
    "for i in tqdm(range(n_repeats)):\n",
    "    start_time = time.monotonic()\n",
    "    pca.transform(X_test_flat_padded);\n",
    "    end_time = time.monotonic()\n",
    "    print('seconds: ', end_time - start_time)\n",
    "    times.append(end_time - start_time)\n",
    "    projection_speeds.loc[len(projection_speeds)] = ['pca', 64, dataset, end_time - start_time]\n"
   ]
  },
  {
   "cell_type": "code",
   "execution_count": 49,
   "metadata": {
    "ExecuteTime": {
     "end_time": "2020-07-16T01:54:00.237095Z",
     "start_time": "2020-07-16T01:54:00.178851Z"
    }
   },
   "outputs": [],
   "source": [
    "z = pca.transform(X_test_flat_padded);\n",
    "out = MODEL_DIR/'projections' / dataset / \"64\" / 'PCA'  / 'z_test.npy'\n",
    "ensure_dir(out)\n",
    "np.save(out, z)"
   ]
  },
  {
   "cell_type": "markdown",
   "metadata": {},
   "source": [
    "#### TSNE"
   ]
  },
  {
   "cell_type": "markdown",
   "metadata": {},
   "source": [
    "##### 2 dims"
   ]
  },
  {
   "cell_type": "code",
   "execution_count": 50,
   "metadata": {
    "ExecuteTime": {
     "end_time": "2020-07-16T01:54:03.224821Z",
     "start_time": "2020-07-16T01:54:03.182637Z"
    }
   },
   "outputs": [],
   "source": [
    "tsne = TSNE(\n",
    "    n_components = 2,\n",
    "    n_jobs=32,\n",
    "    verbose=True\n",
    ")"
   ]
  },
  {
   "cell_type": "code",
   "execution_count": 51,
   "metadata": {
    "ExecuteTime": {
     "end_time": "2020-07-16T01:55:01.538677Z",
     "start_time": "2020-07-16T01:54:05.525364Z"
    }
   },
   "outputs": [
    {
     "name": "stderr",
     "output_type": "stream",
     "text": [
      "/mnt/cube/tsainbur/conda_envs/tpy3/lib/python3.6/site-packages/sklearn/base.py:213: FutureWarning: From version 0.24, get_params will raise an AttributeError if a parameter cannot be retrieved as an instance attribute. Previously it would return None.\n",
      "  FutureWarning)\n"
     ]
    },
    {
     "name": "stdout",
     "output_type": "stream",
     "text": [
      "--------------------------------------------------------------------------------\n",
      "TSNE(n_jobs=32, neighbors=None, verbose=True)\n",
      "--------------------------------------------------------------------------------\n",
      "===> Finding 90 nearest neighbors using Annoy approximate search using euclidean distance...\n",
      "   --> Time elapsed: 9.61 seconds\n",
      "===> Calculating affinity matrix...\n",
      "   --> Time elapsed: 0.29 seconds\n",
      "===> Calculating PCA-based initialization...\n",
      "   --> Time elapsed: 0.09 seconds\n",
      "===> Running optimization with exaggeration=12.00, lr=2527.25 for 250 iterations...\n",
      "Iteration   50, KL divergence 5.8140, 50 iterations in 1.3969 sec\n",
      "Iteration  100, KL divergence 5.2442, 50 iterations in 1.3714 sec\n",
      "Iteration  150, KL divergence 5.1509, 50 iterations in 1.4883 sec\n",
      "Iteration  200, KL divergence 5.1121, 50 iterations in 1.3465 sec\n",
      "Iteration  250, KL divergence 5.0915, 50 iterations in 1.3821 sec\n",
      "   --> Time elapsed: 6.99 seconds\n",
      "===> Running optimization with exaggeration=1.00, lr=2527.25 for 500 iterations...\n",
      "Iteration   50, KL divergence 3.5890, 50 iterations in 1.2824 sec\n",
      "Iteration  100, KL divergence 3.1806, 50 iterations in 1.3325 sec\n",
      "Iteration  150, KL divergence 2.9766, 50 iterations in 1.5551 sec\n",
      "Iteration  200, KL divergence 2.8507, 50 iterations in 2.1588 sec\n",
      "Iteration  250, KL divergence 2.7648, 50 iterations in 3.0143 sec\n",
      "Iteration  300, KL divergence 2.7031, 50 iterations in 3.8601 sec\n",
      "Iteration  350, KL divergence 2.6570, 50 iterations in 4.9099 sec\n",
      "Iteration  400, KL divergence 2.6216, 50 iterations in 5.8498 sec\n",
      "Iteration  450, KL divergence 2.5941, 50 iterations in 6.9853 sec\n",
      "Iteration  500, KL divergence 2.5723, 50 iterations in 7.8170 sec\n",
      "   --> Time elapsed: 38.77 seconds\n"
     ]
    }
   ],
   "source": [
    "embedding_train = tsne.fit(X_train_flat)"
   ]
  },
  {
   "cell_type": "code",
   "execution_count": 52,
   "metadata": {
    "ExecuteTime": {
     "end_time": "2020-07-16T01:55:20.060851Z",
     "start_time": "2020-07-16T01:55:01.540366Z"
    }
   },
   "outputs": [
    {
     "data": {
      "application/vnd.jupyter.widget-view+json": {
       "model_id": "6827469ef3ec43adb5d9341744230023",
       "version_major": 2,
       "version_minor": 0
      },
      "text/plain": [
       "HBox(children=(IntProgress(value=0, max=10), HTML(value='')))"
      ]
     },
     "metadata": {},
     "output_type": "display_data"
    },
    {
     "name": "stdout",
     "output_type": "stream",
     "text": [
      "===> Finding 15 nearest neighbors in existing embedding using Annoy approximate search...\n",
      "   --> Time elapsed: 0.83 seconds\n",
      "===> Calculating affinity matrix...\n",
      "   --> Time elapsed: 0.02 seconds\n",
      "===> Running optimization with exaggeration=4.00, lr=0.10 for 0 iterations...\n",
      "   --> Time elapsed: 0.00 seconds\n",
      "===> Running optimization with exaggeration=1.50, lr=0.10 for 250 iterations...\n",
      "Iteration   50, KL divergence 83598.4208, 50 iterations in 0.1525 sec\n",
      "Iteration  100, KL divergence 83676.5596, 50 iterations in 0.1467 sec\n",
      "Iteration  150, KL divergence 83716.2225, 50 iterations in 0.1432 sec\n",
      "Iteration  200, KL divergence 83752.3232, 50 iterations in 0.1421 sec\n",
      "Iteration  250, KL divergence 83779.3871, 50 iterations in 0.1762 sec\n",
      "   --> Time elapsed: 0.76 seconds\n",
      "seconds:  1.8744666308630258\n",
      "===> Finding 15 nearest neighbors in existing embedding using Annoy approximate search...\n",
      "   --> Time elapsed: 1.07 seconds\n",
      "===> Calculating affinity matrix...\n",
      "   --> Time elapsed: 0.02 seconds\n",
      "===> Running optimization with exaggeration=4.00, lr=0.10 for 0 iterations...\n",
      "   --> Time elapsed: 0.00 seconds\n",
      "===> Running optimization with exaggeration=1.50, lr=0.10 for 250 iterations...\n",
      "Iteration   50, KL divergence 83598.4208, 50 iterations in 0.1548 sec\n",
      "Iteration  100, KL divergence 83676.5596, 50 iterations in 0.1974 sec\n",
      "Iteration  150, KL divergence 83716.2225, 50 iterations in 0.1378 sec\n",
      "Iteration  200, KL divergence 83752.3232, 50 iterations in 0.1520 sec\n",
      "Iteration  250, KL divergence 83779.3871, 50 iterations in 0.1386 sec\n",
      "   --> Time elapsed: 0.78 seconds\n",
      "seconds:  1.8862371749710292\n",
      "===> Finding 15 nearest neighbors in existing embedding using Annoy approximate search...\n",
      "   --> Time elapsed: 1.06 seconds\n",
      "===> Calculating affinity matrix...\n",
      "   --> Time elapsed: 0.02 seconds\n",
      "===> Running optimization with exaggeration=4.00, lr=0.10 for 0 iterations...\n",
      "   --> Time elapsed: 0.00 seconds\n",
      "===> Running optimization with exaggeration=1.50, lr=0.10 for 250 iterations...\n",
      "Iteration   50, KL divergence 83598.4208, 50 iterations in 0.1942 sec\n",
      "Iteration  100, KL divergence 83676.5596, 50 iterations in 0.1478 sec\n",
      "Iteration  150, KL divergence 83716.2225, 50 iterations in 0.1530 sec\n",
      "Iteration  200, KL divergence 83752.3232, 50 iterations in 0.1651 sec\n",
      "Iteration  250, KL divergence 83779.3871, 50 iterations in 0.1760 sec\n",
      "   --> Time elapsed: 0.84 seconds\n",
      "seconds:  1.9585338779725134\n",
      "===> Finding 15 nearest neighbors in existing embedding using Annoy approximate search...\n",
      "   --> Time elapsed: 0.89 seconds\n",
      "===> Calculating affinity matrix...\n",
      "   --> Time elapsed: 0.02 seconds\n",
      "===> Running optimization with exaggeration=4.00, lr=0.10 for 0 iterations...\n",
      "   --> Time elapsed: 0.00 seconds\n",
      "===> Running optimization with exaggeration=1.50, lr=0.10 for 250 iterations...\n",
      "Iteration   50, KL divergence 83598.4208, 50 iterations in 0.1471 sec\n",
      "Iteration  100, KL divergence 83676.5596, 50 iterations in 0.1373 sec\n",
      "Iteration  150, KL divergence 83716.2225, 50 iterations in 0.1561 sec\n",
      "Iteration  200, KL divergence 83752.3232, 50 iterations in 0.1408 sec\n",
      "Iteration  250, KL divergence 83779.3871, 50 iterations in 0.1485 sec\n",
      "   --> Time elapsed: 0.73 seconds\n",
      "seconds:  1.6528095800895244\n",
      "===> Finding 15 nearest neighbors in existing embedding using Annoy approximate search...\n",
      "   --> Time elapsed: 0.98 seconds\n",
      "===> Calculating affinity matrix...\n",
      "   --> Time elapsed: 0.02 seconds\n",
      "===> Running optimization with exaggeration=4.00, lr=0.10 for 0 iterations...\n",
      "   --> Time elapsed: 0.00 seconds\n",
      "===> Running optimization with exaggeration=1.50, lr=0.10 for 250 iterations...\n",
      "Iteration   50, KL divergence 83598.4208, 50 iterations in 0.1525 sec\n",
      "Iteration  100, KL divergence 83676.5596, 50 iterations in 0.1467 sec\n",
      "Iteration  150, KL divergence 83716.2225, 50 iterations in 0.1571 sec\n",
      "Iteration  200, KL divergence 83752.3232, 50 iterations in 0.1533 sec\n",
      "Iteration  250, KL divergence 83779.3871, 50 iterations in 0.1562 sec\n",
      "   --> Time elapsed: 0.77 seconds\n",
      "seconds:  1.77848816011101\n",
      "===> Finding 15 nearest neighbors in existing embedding using Annoy approximate search...\n",
      "   --> Time elapsed: 1.05 seconds\n",
      "===> Calculating affinity matrix...\n",
      "   --> Time elapsed: 0.02 seconds\n",
      "===> Running optimization with exaggeration=4.00, lr=0.10 for 0 iterations...\n",
      "   --> Time elapsed: 0.00 seconds\n",
      "===> Running optimization with exaggeration=1.50, lr=0.10 for 250 iterations...\n",
      "Iteration   50, KL divergence 83598.4208, 50 iterations in 0.1443 sec\n",
      "Iteration  100, KL divergence 83676.5596, 50 iterations in 0.1394 sec\n",
      "Iteration  150, KL divergence 83716.2225, 50 iterations in 0.1370 sec\n",
      "Iteration  200, KL divergence 83752.3232, 50 iterations in 0.1429 sec\n",
      "Iteration  250, KL divergence 83779.3871, 50 iterations in 0.1658 sec\n",
      "   --> Time elapsed: 0.73 seconds\n",
      "seconds:  1.8219956730026752\n",
      "===> Finding 15 nearest neighbors in existing embedding using Annoy approximate search...\n",
      "   --> Time elapsed: 1.05 seconds\n",
      "===> Calculating affinity matrix...\n",
      "   --> Time elapsed: 0.02 seconds\n",
      "===> Running optimization with exaggeration=4.00, lr=0.10 for 0 iterations...\n",
      "   --> Time elapsed: 0.00 seconds\n",
      "===> Running optimization with exaggeration=1.50, lr=0.10 for 250 iterations...\n",
      "Iteration   50, KL divergence 83598.4208, 50 iterations in 0.1458 sec\n",
      "Iteration  100, KL divergence 83676.5596, 50 iterations in 0.1445 sec\n",
      "Iteration  150, KL divergence 83716.2225, 50 iterations in 0.1688 sec\n",
      "Iteration  200, KL divergence 83752.3232, 50 iterations in 0.1456 sec\n",
      "Iteration  250, KL divergence 83779.3871, 50 iterations in 0.1428 sec\n",
      "   --> Time elapsed: 0.75 seconds\n",
      "seconds:  1.8383543309755623\n",
      "===> Finding 15 nearest neighbors in existing embedding using Annoy approximate search...\n",
      "   --> Time elapsed: 0.97 seconds\n",
      "===> Calculating affinity matrix...\n",
      "   --> Time elapsed: 0.02 seconds\n",
      "===> Running optimization with exaggeration=4.00, lr=0.10 for 0 iterations...\n",
      "   --> Time elapsed: 0.00 seconds\n",
      "===> Running optimization with exaggeration=1.50, lr=0.10 for 250 iterations...\n",
      "Iteration   50, KL divergence 83598.4208, 50 iterations in 0.1674 sec\n",
      "Iteration  100, KL divergence 83676.5596, 50 iterations in 0.1881 sec\n",
      "Iteration  150, KL divergence 83716.2225, 50 iterations in 0.1503 sec\n",
      "Iteration  200, KL divergence 83752.3232, 50 iterations in 0.1622 sec\n",
      "Iteration  250, KL divergence 83779.3871, 50 iterations in 0.1491 sec\n",
      "   --> Time elapsed: 0.82 seconds\n",
      "seconds:  1.8184337599668652\n",
      "===> Finding 15 nearest neighbors in existing embedding using Annoy approximate search...\n",
      "   --> Time elapsed: 0.87 seconds\n",
      "===> Calculating affinity matrix...\n",
      "   --> Time elapsed: 0.02 seconds\n",
      "===> Running optimization with exaggeration=4.00, lr=0.10 for 0 iterations...\n",
      "   --> Time elapsed: 0.00 seconds\n",
      "===> Running optimization with exaggeration=1.50, lr=0.10 for 250 iterations...\n",
      "Iteration   50, KL divergence 83598.4208, 50 iterations in 0.1565 sec\n",
      "Iteration  100, KL divergence 83676.5596, 50 iterations in 0.1404 sec\n",
      "Iteration  150, KL divergence 83716.2225, 50 iterations in 0.1343 sec\n",
      "Iteration  200, KL divergence 83752.3232, 50 iterations in 0.1598 sec\n",
      "Iteration  250, KL divergence 83779.3871, 50 iterations in 0.1473 sec\n",
      "   --> Time elapsed: 0.74 seconds\n",
      "seconds:  1.656120072118938\n",
      "===> Finding 15 nearest neighbors in existing embedding using Annoy approximate search...\n",
      "   --> Time elapsed: 0.89 seconds\n",
      "===> Calculating affinity matrix...\n",
      "   --> Time elapsed: 0.02 seconds\n",
      "===> Running optimization with exaggeration=4.00, lr=0.10 for 0 iterations...\n",
      "   --> Time elapsed: 0.00 seconds\n",
      "===> Running optimization with exaggeration=1.50, lr=0.10 for 250 iterations...\n",
      "Iteration   50, KL divergence 83598.4208, 50 iterations in 0.1439 sec\n",
      "Iteration  100, KL divergence 83676.5596, 50 iterations in 0.1472 sec\n",
      "Iteration  150, KL divergence 83716.2225, 50 iterations in 0.1388 sec\n",
      "Iteration  200, KL divergence 83752.3232, 50 iterations in 0.1365 sec\n",
      "Iteration  250, KL divergence 83779.3871, 50 iterations in 0.1451 sec\n",
      "   --> Time elapsed: 0.71 seconds\n",
      "seconds:  1.6423244317993522\n",
      "\n"
     ]
    }
   ],
   "source": [
    "n_repeats = 10\n",
    "times = []\n",
    "for i in tqdm(range(n_repeats)):\n",
    "    start_time = time.monotonic()\n",
    "    embedding_train.transform(X_test_flat);\n",
    "    end_time = time.monotonic()\n",
    "    print('seconds: ', end_time - start_time)\n",
    "    times.append(end_time - start_time)\n",
    "    projection_speeds.loc[len(projection_speeds)] = ['TSNE', 2, dataset, end_time - start_time]"
   ]
  },
  {
   "cell_type": "code",
   "execution_count": 53,
   "metadata": {
    "ExecuteTime": {
     "end_time": "2020-07-16T01:55:22.456162Z",
     "start_time": "2020-07-16T01:55:20.062728Z"
    }
   },
   "outputs": [
    {
     "name": "stdout",
     "output_type": "stream",
     "text": [
      "===> Finding 15 nearest neighbors in existing embedding using Annoy approximate search...\n",
      "   --> Time elapsed: 1.53 seconds\n",
      "===> Calculating affinity matrix...\n",
      "   --> Time elapsed: 0.02 seconds\n",
      "===> Running optimization with exaggeration=4.00, lr=0.10 for 0 iterations...\n",
      "   --> Time elapsed: 0.00 seconds\n",
      "===> Running optimization with exaggeration=1.50, lr=0.10 for 250 iterations...\n",
      "Iteration   50, KL divergence 83598.4208, 50 iterations in 0.1621 sec\n",
      "Iteration  100, KL divergence 83676.5596, 50 iterations in 0.1569 sec\n",
      "Iteration  150, KL divergence 83716.2225, 50 iterations in 0.1441 sec\n",
      "Iteration  200, KL divergence 83752.3232, 50 iterations in 0.1750 sec\n",
      "Iteration  250, KL divergence 83779.3871, 50 iterations in 0.1369 sec\n",
      "   --> Time elapsed: 0.78 seconds\n"
     ]
    }
   ],
   "source": [
    "z = embedding_train.transform(X_test_flat);\n",
    "out = MODEL_DIR/'projections' / dataset / 'TSNE' / 'z_test.npy'\n",
    "ensure_dir(out)\n",
    "np.save(out, z)"
   ]
  },
  {
   "cell_type": "code",
   "execution_count": 54,
   "metadata": {
    "ExecuteTime": {
     "end_time": "2020-07-16T01:55:22.517468Z",
     "start_time": "2020-07-16T01:55:22.457817Z"
    }
   },
   "outputs": [
    {
     "data": {
      "text/html": [
       "<div>\n",
       "<style scoped>\n",
       "    .dataframe tbody tr th:only-of-type {\n",
       "        vertical-align: middle;\n",
       "    }\n",
       "\n",
       "    .dataframe tbody tr th {\n",
       "        vertical-align: top;\n",
       "    }\n",
       "\n",
       "    .dataframe thead th {\n",
       "        text-align: right;\n",
       "    }\n",
       "</style>\n",
       "<table border=\"1\" class=\"dataframe\">\n",
       "  <thead>\n",
       "    <tr style=\"text-align: right;\">\n",
       "      <th></th>\n",
       "      <th>method_</th>\n",
       "      <th>dimensions</th>\n",
       "      <th>dataset</th>\n",
       "      <th>speed</th>\n",
       "    </tr>\n",
       "  </thead>\n",
       "  <tbody>\n",
       "    <tr>\n",
       "      <th>0</th>\n",
       "      <td>network</td>\n",
       "      <td>2</td>\n",
       "      <td>macosko2015</td>\n",
       "      <td>0.348708</td>\n",
       "    </tr>\n",
       "    <tr>\n",
       "      <th>1</th>\n",
       "      <td>network</td>\n",
       "      <td>2</td>\n",
       "      <td>macosko2015</td>\n",
       "      <td>0.067524</td>\n",
       "    </tr>\n",
       "    <tr>\n",
       "      <th>2</th>\n",
       "      <td>network</td>\n",
       "      <td>2</td>\n",
       "      <td>macosko2015</td>\n",
       "      <td>0.074201</td>\n",
       "    </tr>\n",
       "    <tr>\n",
       "      <th>3</th>\n",
       "      <td>network</td>\n",
       "      <td>2</td>\n",
       "      <td>macosko2015</td>\n",
       "      <td>0.061991</td>\n",
       "    </tr>\n",
       "    <tr>\n",
       "      <th>4</th>\n",
       "      <td>network</td>\n",
       "      <td>2</td>\n",
       "      <td>macosko2015</td>\n",
       "      <td>0.066122</td>\n",
       "    </tr>\n",
       "    <tr>\n",
       "      <th>...</th>\n",
       "      <td>...</td>\n",
       "      <td>...</td>\n",
       "      <td>...</td>\n",
       "      <td>...</td>\n",
       "    </tr>\n",
       "    <tr>\n",
       "      <th>105</th>\n",
       "      <td>TSNE</td>\n",
       "      <td>2</td>\n",
       "      <td>macosko2015</td>\n",
       "      <td>1.821996</td>\n",
       "    </tr>\n",
       "    <tr>\n",
       "      <th>106</th>\n",
       "      <td>TSNE</td>\n",
       "      <td>2</td>\n",
       "      <td>macosko2015</td>\n",
       "      <td>1.838354</td>\n",
       "    </tr>\n",
       "    <tr>\n",
       "      <th>107</th>\n",
       "      <td>TSNE</td>\n",
       "      <td>2</td>\n",
       "      <td>macosko2015</td>\n",
       "      <td>1.818434</td>\n",
       "    </tr>\n",
       "    <tr>\n",
       "      <th>108</th>\n",
       "      <td>TSNE</td>\n",
       "      <td>2</td>\n",
       "      <td>macosko2015</td>\n",
       "      <td>1.656120</td>\n",
       "    </tr>\n",
       "    <tr>\n",
       "      <th>109</th>\n",
       "      <td>TSNE</td>\n",
       "      <td>2</td>\n",
       "      <td>macosko2015</td>\n",
       "      <td>1.642324</td>\n",
       "    </tr>\n",
       "  </tbody>\n",
       "</table>\n",
       "<p>110 rows × 4 columns</p>\n",
       "</div>"
      ],
      "text/plain": [
       "     method_ dimensions      dataset     speed\n",
       "0    network          2  macosko2015  0.348708\n",
       "1    network          2  macosko2015  0.067524\n",
       "2    network          2  macosko2015  0.074201\n",
       "3    network          2  macosko2015  0.061991\n",
       "4    network          2  macosko2015  0.066122\n",
       "..       ...        ...          ...       ...\n",
       "105     TSNE          2  macosko2015  1.821996\n",
       "106     TSNE          2  macosko2015  1.838354\n",
       "107     TSNE          2  macosko2015  1.818434\n",
       "108     TSNE          2  macosko2015  1.656120\n",
       "109     TSNE          2  macosko2015  1.642324\n",
       "\n",
       "[110 rows x 4 columns]"
      ]
     },
     "execution_count": 54,
     "metadata": {},
     "output_type": "execute_result"
    }
   ],
   "source": [
    "projection_speeds"
   ]
  },
  {
   "cell_type": "markdown",
   "metadata": {},
   "source": [
    "### Save"
   ]
  },
  {
   "cell_type": "code",
   "execution_count": 55,
   "metadata": {
    "ExecuteTime": {
     "end_time": "2020-07-16T01:55:22.590439Z",
     "start_time": "2020-07-16T01:55:22.518868Z"
    }
   },
   "outputs": [],
   "source": [
    "save_loc = DATA_DIR / 'projection_speeds' / (dataset + '.pickle')\n",
    "ensure_dir(save_loc)\n",
    "projection_speeds.to_pickle(save_loc)"
   ]
  },
  {
   "cell_type": "code",
   "execution_count": null,
   "metadata": {},
   "outputs": [],
   "source": []
  }
 ],
 "metadata": {
  "kernelspec": {
   "display_name": "Python 3",
   "language": "python",
   "name": "python3"
  },
  "language_info": {
   "codemirror_mode": {
    "name": "ipython",
    "version": 3
   },
   "file_extension": ".py",
   "mimetype": "text/x-python",
   "name": "python",
   "nbconvert_exporter": "python",
   "pygments_lexer": "ipython3",
   "version": "3.6.7"
  }
 },
 "nbformat": 4,
 "nbformat_minor": 2
}
