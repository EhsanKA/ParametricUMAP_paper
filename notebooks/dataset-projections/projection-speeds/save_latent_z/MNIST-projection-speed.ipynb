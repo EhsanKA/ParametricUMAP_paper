{
 "cells": [
  {
   "cell_type": "markdown",
   "metadata": {},
   "source": [
    "#### Outline\n",
    "- for each dataset: \n",
    "    - load dataset; \n",
    "    - for each network: \n",
    "        - load network\n",
    "        - project 1000 test dataset samples\n",
    "        - save to metric dataframe"
   ]
  },
  {
   "cell_type": "code",
   "execution_count": 1,
   "metadata": {
    "ExecuteTime": {
     "end_time": "2020-07-18T19:10:43.478525Z",
     "start_time": "2020-07-18T19:10:43.466815Z"
    }
   },
   "outputs": [],
   "source": [
    "# reload packages\n",
    "%load_ext autoreload\n",
    "%autoreload 2"
   ]
  },
  {
   "cell_type": "markdown",
   "metadata": {},
   "source": [
    "### Choose GPU (this may not be needed on your computer)"
   ]
  },
  {
   "cell_type": "code",
   "execution_count": 2,
   "metadata": {
    "ExecuteTime": {
     "end_time": "2020-07-18T19:10:43.491078Z",
     "start_time": "2020-07-18T19:10:43.480292Z"
    }
   },
   "outputs": [
    {
     "name": "stdout",
     "output_type": "stream",
     "text": [
      "env: CUDA_DEVICE_ORDER=PCI_BUS_ID\n",
      "env: CUDA_VISIBLE_DEVICES=0\n"
     ]
    }
   ],
   "source": [
    "%env CUDA_DEVICE_ORDER=PCI_BUS_ID\n",
    "%env CUDA_VISIBLE_DEVICES=0"
   ]
  },
  {
   "cell_type": "code",
   "execution_count": 3,
   "metadata": {
    "ExecuteTime": {
     "end_time": "2020-07-18T19:10:48.957298Z",
     "start_time": "2020-07-18T19:10:43.492859Z"
    }
   },
   "outputs": [],
   "source": [
    "import numpy as np\n",
    "import pickle\n",
    "import pandas as pd\n",
    "import time\n",
    "from umap import UMAP"
   ]
  },
  {
   "cell_type": "code",
   "execution_count": 4,
   "metadata": {
    "ExecuteTime": {
     "end_time": "2020-07-18T19:10:51.372379Z",
     "start_time": "2020-07-18T19:10:48.959000Z"
    }
   },
   "outputs": [
    {
     "name": "stderr",
     "output_type": "stream",
     "text": [
      "/mnt/cube/tsainbur/conda_envs/tpy3/lib/python3.6/site-packages/tqdm/autonotebook/__init__.py:14: TqdmExperimentalWarning: Using `tqdm.autonotebook.tqdm` in notebook mode. Use `tqdm.tqdm` instead to force console mode (e.g. in jupyter console)\n",
      "  \" (e.g. in jupyter console)\", TqdmExperimentalWarning)\n"
     ]
    }
   ],
   "source": [
    "from tfumap.umap import tfUMAP\n",
    "import tensorflow as tf\n",
    "from sklearn.decomposition import PCA\n",
    "from openTSNE import TSNE"
   ]
  },
  {
   "cell_type": "code",
   "execution_count": 5,
   "metadata": {
    "ExecuteTime": {
     "end_time": "2020-07-18T19:10:51.419965Z",
     "start_time": "2020-07-18T19:10:51.374169Z"
    }
   },
   "outputs": [],
   "source": [
    "from tqdm.autonotebook import tqdm"
   ]
  },
  {
   "cell_type": "code",
   "execution_count": 6,
   "metadata": {
    "ExecuteTime": {
     "end_time": "2020-07-18T19:10:51.566539Z",
     "start_time": "2020-07-18T19:10:51.422087Z"
    }
   },
   "outputs": [],
   "source": [
    "from tfumap.paths import ensure_dir, MODEL_DIR, DATA_DIR"
   ]
  },
  {
   "cell_type": "code",
   "execution_count": 7,
   "metadata": {
    "ExecuteTime": {
     "end_time": "2020-07-18T19:10:51.611353Z",
     "start_time": "2020-07-18T19:10:51.568416Z"
    }
   },
   "outputs": [],
   "source": [
    "output_dir = MODEL_DIR/'projections' "
   ]
  },
  {
   "cell_type": "code",
   "execution_count": 8,
   "metadata": {
    "ExecuteTime": {
     "end_time": "2020-07-18T19:10:51.657572Z",
     "start_time": "2020-07-18T19:10:51.613073Z"
    }
   },
   "outputs": [],
   "source": [
    "projection_speeds = pd.DataFrame(columns = ['method_', 'dimensions', 'dataset', 'speed'])"
   ]
  },
  {
   "cell_type": "markdown",
   "metadata": {},
   "source": [
    "### MNIST"
   ]
  },
  {
   "cell_type": "code",
   "execution_count": 9,
   "metadata": {
    "ExecuteTime": {
     "end_time": "2020-07-18T19:10:51.693478Z",
     "start_time": "2020-07-18T19:10:51.658623Z"
    }
   },
   "outputs": [],
   "source": [
    "dataset = 'mnist'\n",
    "dims = (28,28,1)"
   ]
  },
  {
   "cell_type": "markdown",
   "metadata": {},
   "source": [
    "##### load dataset"
   ]
  },
  {
   "cell_type": "code",
   "execution_count": 10,
   "metadata": {
    "ExecuteTime": {
     "end_time": "2020-07-18T19:10:52.093828Z",
     "start_time": "2020-07-18T19:10:51.694395Z"
    }
   },
   "outputs": [
    {
     "name": "stdout",
     "output_type": "stream",
     "text": [
      "50000 10000 10000\n"
     ]
    }
   ],
   "source": [
    "from tensorflow.keras.datasets import mnist\n",
    "\n",
    "# load dataset\n",
    "(train_images, Y_train), (test_images, Y_test) = mnist.load_data()\n",
    "X_train = (train_images/255.).astype('float32')\n",
    "X_test = (test_images/255.).astype('float32')\n",
    "X_train = X_train.reshape((len(X_train), np.product(np.shape(X_train)[1:])))\n",
    "X_test = X_test.reshape((len(X_test), np.product(np.shape(X_test)[1:])))\n",
    "\n",
    "# subset a validation set\n",
    "n_valid = 10000\n",
    "X_valid = X_train[-n_valid:]\n",
    "Y_valid = Y_train[-n_valid:]\n",
    "X_train = X_train[:-n_valid]\n",
    "Y_train = Y_train[:-n_valid]\n",
    "\n",
    "# flatten X\n",
    "X_train_flat = X_train.reshape((len(X_train), np.product(np.shape(X_train)[1:])))\n",
    "X_test_flat = X_test.reshape((len(X_test), np.product(np.shape(X_test)[1:])))\n",
    "X_valid_flat= X_valid.reshape((len(X_valid), np.product(np.shape(X_valid)[1:])))\n",
    "X_test = X_test.reshape((10000, 28,28,1))\n",
    "print(len(X_train), len(X_valid), len(X_test))"
   ]
  },
  {
   "cell_type": "markdown",
   "metadata": {},
   "source": [
    "#### Network "
   ]
  },
  {
   "cell_type": "markdown",
   "metadata": {},
   "source": [
    "##### 2 dims"
   ]
  },
  {
   "cell_type": "code",
   "execution_count": 11,
   "metadata": {
    "ExecuteTime": {
     "end_time": "2020-07-18T19:10:52.133919Z",
     "start_time": "2020-07-18T19:10:52.095060Z"
    }
   },
   "outputs": [],
   "source": [
    "load_loc = output_dir / dataset / 'network' "
   ]
  },
  {
   "cell_type": "code",
   "execution_count": 12,
   "metadata": {
    "ExecuteTime": {
     "end_time": "2020-07-18T19:10:52.613012Z",
     "start_time": "2020-07-18T19:10:52.135073Z"
    }
   },
   "outputs": [],
   "source": [
    "embedder = tfUMAP(\n",
    "    direct_embedding=False,\n",
    "    verbose=True,\n",
    "    negative_sample_rate=5,\n",
    "    training_epochs=5,\n",
    "    batch_size = 100,\n",
    "    dims = dims\n",
    ")"
   ]
  },
  {
   "cell_type": "code",
   "execution_count": 13,
   "metadata": {
    "ExecuteTime": {
     "end_time": "2020-07-18T19:10:53.565371Z",
     "start_time": "2020-07-18T19:10:52.615063Z"
    }
   },
   "outputs": [],
   "source": [
    "encoder = tf.keras.models.load_model((load_loc / 'encoder').as_posix())\n",
    "embedder.encoder = encoder"
   ]
  },
  {
   "cell_type": "code",
   "execution_count": 14,
   "metadata": {
    "ExecuteTime": {
     "end_time": "2020-07-18T19:10:55.424498Z",
     "start_time": "2020-07-18T19:10:53.567261Z"
    }
   },
   "outputs": [
    {
     "data": {
      "application/vnd.jupyter.widget-view+json": {
       "model_id": "72ee060ff0954c2b9199917232ab1347",
       "version_major": 2,
       "version_minor": 0
      },
      "text/plain": [
       "HBox(children=(IntProgress(value=0, max=10), HTML(value='')))"
      ]
     },
     "metadata": {},
     "output_type": "display_data"
    },
    {
     "name": "stdout",
     "output_type": "stream",
     "text": [
      "seconds:  1.527062423992902\n",
      "seconds:  0.016539287054911256\n",
      "seconds:  0.020336237037554383\n",
      "seconds:  0.016299020033329725\n",
      "seconds:  0.018280027899891138\n",
      "seconds:  0.016238729003816843\n",
      "seconds:  0.016804924933239818\n",
      "seconds:  0.016820276156067848\n",
      "seconds:  0.0179649090860039\n",
      "seconds:  0.017752072075381875\n",
      "\n"
     ]
    }
   ],
   "source": [
    "n_repeats = 10\n",
    "times = []\n",
    "for i in tqdm(range(n_repeats)):\n",
    "    start_time = time.monotonic()\n",
    "    encoder(X_test);\n",
    "    end_time = time.monotonic()\n",
    "    print('seconds: ', end_time - start_time)\n",
    "    times.append(end_time - start_time)\n",
    "    projection_speeds.loc[len(projection_speeds)] = ['network', 2, dataset, end_time - start_time]\n"
   ]
  },
  {
   "cell_type": "code",
   "execution_count": 15,
   "metadata": {
    "ExecuteTime": {
     "end_time": "2020-07-18T19:10:55.837954Z",
     "start_time": "2020-07-18T19:10:55.425900Z"
    }
   },
   "outputs": [],
   "source": [
    "z = embedder.transform(X_test_flat);\n",
    "np.save( MODEL_DIR/'projections' / dataset / 'network' / 'z_test.npy', z)"
   ]
  },
  {
   "cell_type": "code",
   "execution_count": 16,
   "metadata": {
    "ExecuteTime": {
     "end_time": "2020-07-18T19:10:57.837927Z",
     "start_time": "2020-07-18T19:10:55.840125Z"
    }
   },
   "outputs": [
    {
     "data": {
      "application/vnd.jupyter.widget-view+json": {
       "model_id": "140a736bfa9c4044ae43173b822bcb02",
       "version_major": 2,
       "version_minor": 0
      },
      "text/plain": [
       "HBox(children=(IntProgress(value=0, max=10), HTML(value='')))"
      ]
     },
     "metadata": {},
     "output_type": "display_data"
    },
    {
     "name": "stdout",
     "output_type": "stream",
     "text": [
      "seconds:  0.24373182887211442\n",
      "seconds:  0.17276065913029015\n",
      "seconds:  0.19281285884790123\n",
      "seconds:  0.18893026607111096\n",
      "seconds:  0.1820602579973638\n",
      "seconds:  0.17994305700995028\n",
      "seconds:  0.17823819792829454\n",
      "seconds:  0.18001810903660953\n",
      "seconds:  0.18178374995477498\n",
      "seconds:  0.17954553617164493\n",
      "\n"
     ]
    }
   ],
   "source": [
    "##### Network CPU\n",
    "\n",
    "with tf.device('/CPU:0'):\n",
    "    n_repeats = 10\n",
    "    times = []\n",
    "    for i in tqdm(range(n_repeats)):\n",
    "        start_time = time.monotonic()\n",
    "        encoder(X_test);\n",
    "        end_time = time.monotonic()\n",
    "        print('seconds: ', end_time - start_time)\n",
    "        times.append(end_time - start_time)\n",
    "        projection_speeds.loc[len(projection_speeds)] = ['network-cpu', 2, dataset, end_time - start_time]"
   ]
  },
  {
   "cell_type": "markdown",
   "metadata": {},
   "source": [
    "##### 64 dims"
   ]
  },
  {
   "cell_type": "code",
   "execution_count": 17,
   "metadata": {
    "ExecuteTime": {
     "end_time": "2020-07-18T19:10:57.881806Z",
     "start_time": "2020-07-18T19:10:57.839065Z"
    }
   },
   "outputs": [],
   "source": [
    "load_loc = output_dir / dataset /\"64\"/ 'network' "
   ]
  },
  {
   "cell_type": "code",
   "execution_count": 18,
   "metadata": {
    "ExecuteTime": {
     "end_time": "2020-07-18T19:10:57.920738Z",
     "start_time": "2020-07-18T19:10:57.882953Z"
    }
   },
   "outputs": [],
   "source": [
    "embedder = tfUMAP(\n",
    "    direct_embedding=False,\n",
    "    verbose=True,\n",
    "    negative_sample_rate=5,\n",
    "    training_epochs=5,\n",
    "    batch_size = 100,\n",
    "    dims = dims\n",
    ")"
   ]
  },
  {
   "cell_type": "code",
   "execution_count": 19,
   "metadata": {
    "ExecuteTime": {
     "end_time": "2020-07-18T19:10:58.144355Z",
     "start_time": "2020-07-18T19:10:57.922048Z"
    }
   },
   "outputs": [],
   "source": [
    "encoder = tf.keras.models.load_model((load_loc / 'encoder').as_posix())\n",
    "embedder.encoder = encoder"
   ]
  },
  {
   "cell_type": "code",
   "execution_count": 20,
   "metadata": {
    "ExecuteTime": {
     "end_time": "2020-07-18T19:10:58.606891Z",
     "start_time": "2020-07-18T19:10:58.146379Z"
    }
   },
   "outputs": [
    {
     "data": {
      "application/vnd.jupyter.widget-view+json": {
       "model_id": "d84d75957ad44f41b6009c7d6859035b",
       "version_major": 2,
       "version_minor": 0
      },
      "text/plain": [
       "HBox(children=(IntProgress(value=0, max=10), HTML(value='')))"
      ]
     },
     "metadata": {},
     "output_type": "display_data"
    },
    {
     "name": "stdout",
     "output_type": "stream",
     "text": [
      "seconds:  0.20061858394183218\n",
      "seconds:  0.01261534495279193\n",
      "seconds:  0.019989737076684833\n",
      "seconds:  0.019328777911141515\n",
      "seconds:  0.01886826497502625\n",
      "seconds:  0.016155005898326635\n",
      "seconds:  0.013327894965186715\n",
      "seconds:  0.01744435401633382\n",
      "seconds:  0.01484965905547142\n",
      "seconds:  0.01628102990798652\n",
      "\n"
     ]
    }
   ],
   "source": [
    "n_repeats = 10\n",
    "times = []\n",
    "for i in tqdm(range(n_repeats)):\n",
    "    start_time = time.monotonic()\n",
    "    encoder(X_test);\n",
    "    end_time = time.monotonic()\n",
    "    print('seconds: ', end_time - start_time)\n",
    "    times.append(end_time - start_time)\n",
    "    projection_speeds.loc[len(projection_speeds)] = ['network', 64, dataset, end_time - start_time]"
   ]
  },
  {
   "cell_type": "code",
   "execution_count": 21,
   "metadata": {
    "ExecuteTime": {
     "end_time": "2020-07-18T19:10:59.095743Z",
     "start_time": "2020-07-18T19:10:58.610766Z"
    }
   },
   "outputs": [],
   "source": [
    "z = embedder.transform(X_test_flat);\n",
    "out = MODEL_DIR/'projections' / dataset / '64' / 'network' / 'z_test.npy'\n",
    "np.save( out, z)"
   ]
  },
  {
   "cell_type": "markdown",
   "metadata": {},
   "source": [
    "##### Network CPU"
   ]
  },
  {
   "cell_type": "code",
   "execution_count": 22,
   "metadata": {
    "ExecuteTime": {
     "end_time": "2020-07-18T19:11:01.033446Z",
     "start_time": "2020-07-18T19:10:59.099431Z"
    }
   },
   "outputs": [
    {
     "data": {
      "application/vnd.jupyter.widget-view+json": {
       "model_id": "1f00d76812354c189836d631794925a8",
       "version_major": 2,
       "version_minor": 0
      },
      "text/plain": [
       "HBox(children=(IntProgress(value=0, max=10), HTML(value='')))"
      ]
     },
     "metadata": {},
     "output_type": "display_data"
    },
    {
     "name": "stdout",
     "output_type": "stream",
     "text": [
      "seconds:  0.21380140515975654\n",
      "seconds:  0.17139822989702225\n",
      "seconds:  0.17903825105167925\n",
      "seconds:  0.17432924499735236\n",
      "seconds:  0.17155396495945752\n",
      "seconds:  0.17749124602414668\n",
      "seconds:  0.17678735591471195\n",
      "seconds:  0.17378693004138768\n",
      "seconds:  0.17925074696540833\n",
      "seconds:  0.18059621611610055\n",
      "\n"
     ]
    }
   ],
   "source": [
    "with tf.device('/CPU:0'):\n",
    "    n_repeats = 10\n",
    "    times = []\n",
    "    for i in tqdm(range(n_repeats)):\n",
    "        start_time = time.monotonic()\n",
    "        encoder(X_test);\n",
    "        end_time = time.monotonic()\n",
    "        print('seconds: ', end_time - start_time)\n",
    "        times.append(end_time - start_time)\n",
    "        projection_speeds.loc[len(projection_speeds)] = ['network-cpu', 64, dataset, end_time - start_time]"
   ]
  },
  {
   "cell_type": "markdown",
   "metadata": {},
   "source": [
    "### AE "
   ]
  },
  {
   "cell_type": "markdown",
   "metadata": {},
   "source": [
    "##### 2 dims"
   ]
  },
  {
   "cell_type": "code",
   "execution_count": 23,
   "metadata": {
    "ExecuteTime": {
     "end_time": "2020-07-18T19:11:01.296031Z",
     "start_time": "2020-07-18T19:11:01.034541Z"
    }
   },
   "outputs": [],
   "source": [
    "load_loc = output_dir / dataset / 'autoencoder' "
   ]
  },
  {
   "cell_type": "code",
   "execution_count": 24,
   "metadata": {
    "ExecuteTime": {
     "end_time": "2020-07-18T19:11:01.339960Z",
     "start_time": "2020-07-18T19:11:01.298021Z"
    }
   },
   "outputs": [],
   "source": [
    "embedder = tfUMAP(\n",
    "    direct_embedding=False,\n",
    "    verbose=True,\n",
    "    negative_sample_rate=5,\n",
    "    training_epochs=5,\n",
    "    decoding_method = \"autoencoder\",\n",
    "    batch_size = 100,\n",
    "    dims = dims\n",
    ")"
   ]
  },
  {
   "cell_type": "code",
   "execution_count": 25,
   "metadata": {
    "ExecuteTime": {
     "end_time": "2020-07-18T19:11:01.534401Z",
     "start_time": "2020-07-18T19:11:01.340989Z"
    }
   },
   "outputs": [],
   "source": [
    "encoder = tf.keras.models.load_model((load_loc / 'encoder').as_posix())\n",
    "embedder.encoder = encoder"
   ]
  },
  {
   "cell_type": "code",
   "execution_count": 26,
   "metadata": {
    "ExecuteTime": {
     "end_time": "2020-07-18T19:11:01.845885Z",
     "start_time": "2020-07-18T19:11:01.535684Z"
    }
   },
   "outputs": [],
   "source": [
    "decoder = tf.keras.models.load_model((load_loc / 'decoder').as_posix())\n",
    "embedder.decoder = decoder"
   ]
  },
  {
   "cell_type": "code",
   "execution_count": 27,
   "metadata": {
    "ExecuteTime": {
     "end_time": "2020-07-18T19:11:02.145771Z",
     "start_time": "2020-07-18T19:11:01.847547Z"
    }
   },
   "outputs": [
    {
     "data": {
      "application/vnd.jupyter.widget-view+json": {
       "model_id": "0d645ccfd15b465ba7f7eb5145d371e1",
       "version_major": 2,
       "version_minor": 0
      },
      "text/plain": [
       "HBox(children=(IntProgress(value=0, max=10), HTML(value='')))"
      ]
     },
     "metadata": {},
     "output_type": "display_data"
    },
    {
     "name": "stdout",
     "output_type": "stream",
     "text": [
      "seconds:  0.04768513794988394\n",
      "seconds:  0.009328898973762989\n",
      "seconds:  0.018834464019164443\n",
      "seconds:  0.016188958194106817\n",
      "seconds:  0.017677120165899396\n",
      "seconds:  0.01483573904260993\n",
      "seconds:  0.01706812297925353\n",
      "seconds:  0.01788075710646808\n",
      "seconds:  0.014090516837313771\n",
      "seconds:  0.016367392847314477\n",
      "\n"
     ]
    }
   ],
   "source": [
    "n_repeats = 10\n",
    "times = []\n",
    "for i in tqdm(range(n_repeats)):\n",
    "    start_time = time.monotonic()\n",
    "    encoder(X_test);\n",
    "    end_time = time.monotonic()\n",
    "    print('seconds: ', end_time - start_time)\n",
    "    times.append(end_time - start_time)\n",
    "    projection_speeds.loc[len(projection_speeds)] = ['network', 2, dataset, end_time - start_time]\n"
   ]
  },
  {
   "cell_type": "code",
   "execution_count": 28,
   "metadata": {
    "ExecuteTime": {
     "end_time": "2020-07-18T19:11:02.452296Z",
     "start_time": "2020-07-18T19:11:02.147160Z"
    }
   },
   "outputs": [],
   "source": [
    "z = embedder.transform(X_test_flat);\n",
    "np.save( MODEL_DIR/'projections' / dataset / 'autoencoder' / 'z_test.npy', z)"
   ]
  },
  {
   "cell_type": "markdown",
   "metadata": {},
   "source": [
    "##### 64 dims"
   ]
  },
  {
   "cell_type": "code",
   "execution_count": 29,
   "metadata": {
    "ExecuteTime": {
     "end_time": "2020-07-18T19:11:02.494812Z",
     "start_time": "2020-07-18T19:11:02.454028Z"
    }
   },
   "outputs": [],
   "source": [
    "load_loc = output_dir / dataset /\"64\"/ 'autoencoder' "
   ]
  },
  {
   "cell_type": "code",
   "execution_count": 30,
   "metadata": {
    "ExecuteTime": {
     "end_time": "2020-07-18T19:11:02.533733Z",
     "start_time": "2020-07-18T19:11:02.496219Z"
    }
   },
   "outputs": [],
   "source": [
    "embedder = tfUMAP(\n",
    "    direct_embedding=False,\n",
    "    verbose=True,\n",
    "    negative_sample_rate=5,\n",
    "    training_epochs=5,\n",
    "    decoding_method = \"autoencoder\",\n",
    "    batch_size = 100,\n",
    "    dims = dims\n",
    ")"
   ]
  },
  {
   "cell_type": "code",
   "execution_count": 31,
   "metadata": {
    "ExecuteTime": {
     "end_time": "2020-07-18T19:11:02.728481Z",
     "start_time": "2020-07-18T19:11:02.535222Z"
    }
   },
   "outputs": [],
   "source": [
    "encoder = tf.keras.models.load_model((load_loc / 'encoder').as_posix())\n",
    "embedder.encoder = encoder"
   ]
  },
  {
   "cell_type": "code",
   "execution_count": 32,
   "metadata": {
    "ExecuteTime": {
     "end_time": "2020-07-18T19:11:03.038412Z",
     "start_time": "2020-07-18T19:11:02.730777Z"
    }
   },
   "outputs": [],
   "source": [
    "decoder = tf.keras.models.load_model((load_loc / 'decoder').as_posix())\n",
    "embedder.decoder = decoder"
   ]
  },
  {
   "cell_type": "code",
   "execution_count": 33,
   "metadata": {
    "ExecuteTime": {
     "end_time": "2020-07-18T19:11:03.329827Z",
     "start_time": "2020-07-18T19:11:03.040174Z"
    }
   },
   "outputs": [
    {
     "data": {
      "application/vnd.jupyter.widget-view+json": {
       "model_id": "1921246a3c4e4c3993cb7a71dc279b83",
       "version_major": 2,
       "version_minor": 0
      },
      "text/plain": [
       "HBox(children=(IntProgress(value=0, max=10), HTML(value='')))"
      ]
     },
     "metadata": {},
     "output_type": "display_data"
    },
    {
     "name": "stdout",
     "output_type": "stream",
     "text": [
      "seconds:  0.0495485810097307\n",
      "seconds:  0.015326161868870258\n",
      "seconds:  0.01691779913380742\n",
      "seconds:  0.015541868982836604\n",
      "seconds:  0.017993279034271836\n",
      "seconds:  0.012141920858994126\n",
      "seconds:  0.01535433391109109\n",
      "seconds:  0.016166407149285078\n",
      "seconds:  0.015979072079062462\n",
      "seconds:  0.015312472824007273\n",
      "\n"
     ]
    }
   ],
   "source": [
    "n_repeats = 10\n",
    "times = []\n",
    "for i in tqdm(range(n_repeats)):\n",
    "    start_time = time.monotonic()\n",
    "    encoder(X_test);\n",
    "    end_time = time.monotonic()\n",
    "    print('seconds: ', end_time - start_time)\n",
    "    times.append(end_time - start_time)\n",
    "    projection_speeds.loc[len(projection_speeds)] = ['network', 64, dataset, end_time - start_time]"
   ]
  },
  {
   "cell_type": "code",
   "execution_count": 34,
   "metadata": {
    "ExecuteTime": {
     "end_time": "2020-07-18T19:11:03.677553Z",
     "start_time": "2020-07-18T19:11:03.331580Z"
    }
   },
   "outputs": [],
   "source": [
    "z = embedder.transform(X_test_flat);\n",
    "out = MODEL_DIR/'projections' / dataset / '64' / 'autoencoder' / 'z_test.npy'\n",
    "np.save( out, z)"
   ]
  },
  {
   "cell_type": "markdown",
   "metadata": {},
   "source": [
    "#### UMAP-learn"
   ]
  },
  {
   "cell_type": "markdown",
   "metadata": {},
   "source": [
    "##### 2 dims"
   ]
  },
  {
   "cell_type": "code",
   "execution_count": 35,
   "metadata": {
    "ExecuteTime": {
     "end_time": "2020-07-18T19:11:48.238290Z",
     "start_time": "2020-07-18T19:11:03.679716Z"
    }
   },
   "outputs": [
    {
     "name": "stdout",
     "output_type": "stream",
     "text": [
      "UMAP(dens_frac=0.0, dens_lambda=0.0, verbose=True)\n",
      "Construct fuzzy simplicial set\n",
      "Sat Jul 18 12:11:03 2020 Finding Nearest Neighbors\n",
      "Sat Jul 18 12:11:03 2020 Building RP forest with 16 trees\n",
      "Sat Jul 18 12:11:05 2020 parallel NN descent for 16 iterations\n",
      "\t 0  /  16\n",
      "\t 1  /  16\n",
      "\t 2  /  16\n",
      "\t 3  /  16\n",
      "\t 4  /  16\n",
      "Sat Jul 18 12:11:15 2020 Finished Nearest Neighbor Search\n",
      "Sat Jul 18 12:11:18 2020 Construct embedding\n",
      "\tcompleted  0  /  200 epochs\n",
      "\tcompleted  20  /  200 epochs\n",
      "\tcompleted  40  /  200 epochs\n",
      "\tcompleted  60  /  200 epochs\n",
      "\tcompleted  80  /  200 epochs\n",
      "\tcompleted  100  /  200 epochs\n",
      "\tcompleted  120  /  200 epochs\n",
      "\tcompleted  140  /  200 epochs\n",
      "\tcompleted  160  /  200 epochs\n",
      "\tcompleted  180  /  200 epochs\n",
      "Sat Jul 18 12:11:47 2020 Finished embedding\n"
     ]
    }
   ],
   "source": [
    "embedder = UMAP(n_components = 2, verbose=True)\n",
    "z_umap = embedder.fit_transform(X_train_flat)"
   ]
  },
  {
   "cell_type": "code",
   "execution_count": 36,
   "metadata": {
    "ExecuteTime": {
     "end_time": "2020-07-18T19:12:48.279574Z",
     "start_time": "2020-07-18T19:11:48.240000Z"
    }
   },
   "outputs": [
    {
     "data": {
      "application/vnd.jupyter.widget-view+json": {
       "model_id": "5373a02a55e646f09dcdf9d7ddc62adc",
       "version_major": 2,
       "version_minor": 0
      },
      "text/plain": [
       "HBox(children=(IntProgress(value=0, max=10), HTML(value='')))"
      ]
     },
     "metadata": {},
     "output_type": "display_data"
    },
    {
     "name": "stdout",
     "output_type": "stream",
     "text": [
      "\tcompleted  0  /  100 epochs\n",
      "\tcompleted  10  /  100 epochs\n",
      "\tcompleted  20  /  100 epochs\n",
      "\tcompleted  30  /  100 epochs\n",
      "\tcompleted  40  /  100 epochs\n",
      "\tcompleted  50  /  100 epochs\n",
      "\tcompleted  60  /  100 epochs\n",
      "\tcompleted  70  /  100 epochs\n",
      "\tcompleted  80  /  100 epochs\n",
      "\tcompleted  90  /  100 epochs\n",
      "seconds:  18.653969231061637\n",
      "\tcompleted  0  /  100 epochs\n",
      "\tcompleted  10  /  100 epochs\n",
      "\tcompleted  20  /  100 epochs\n",
      "\tcompleted  30  /  100 epochs\n",
      "\tcompleted  40  /  100 epochs\n",
      "\tcompleted  50  /  100 epochs\n",
      "\tcompleted  60  /  100 epochs\n",
      "\tcompleted  70  /  100 epochs\n",
      "\tcompleted  80  /  100 epochs\n",
      "\tcompleted  90  /  100 epochs\n",
      "seconds:  6.219653055071831\n",
      "\tcompleted  0  /  100 epochs\n",
      "\tcompleted  10  /  100 epochs\n",
      "\tcompleted  20  /  100 epochs\n",
      "\tcompleted  30  /  100 epochs\n",
      "\tcompleted  40  /  100 epochs\n",
      "\tcompleted  50  /  100 epochs\n",
      "\tcompleted  60  /  100 epochs\n",
      "\tcompleted  70  /  100 epochs\n",
      "\tcompleted  80  /  100 epochs\n",
      "\tcompleted  90  /  100 epochs\n",
      "seconds:  6.218235112959519\n",
      "\tcompleted  0  /  100 epochs\n",
      "\tcompleted  10  /  100 epochs\n",
      "\tcompleted  20  /  100 epochs\n",
      "\tcompleted  30  /  100 epochs\n",
      "\tcompleted  40  /  100 epochs\n",
      "\tcompleted  50  /  100 epochs\n",
      "\tcompleted  60  /  100 epochs\n",
      "\tcompleted  70  /  100 epochs\n",
      "\tcompleted  80  /  100 epochs\n",
      "\tcompleted  90  /  100 epochs\n",
      "seconds:  5.985531431855634\n",
      "\tcompleted  0  /  100 epochs\n",
      "\tcompleted  10  /  100 epochs\n",
      "\tcompleted  20  /  100 epochs\n",
      "\tcompleted  30  /  100 epochs\n",
      "\tcompleted  40  /  100 epochs\n",
      "\tcompleted  50  /  100 epochs\n",
      "\tcompleted  60  /  100 epochs\n",
      "\tcompleted  70  /  100 epochs\n",
      "\tcompleted  80  /  100 epochs\n",
      "\tcompleted  90  /  100 epochs\n",
      "seconds:  6.194846994010732\n",
      "\tcompleted  0  /  100 epochs\n",
      "\tcompleted  10  /  100 epochs\n",
      "\tcompleted  20  /  100 epochs\n",
      "\tcompleted  30  /  100 epochs\n",
      "\tcompleted  40  /  100 epochs\n",
      "\tcompleted  50  /  100 epochs\n",
      "\tcompleted  60  /  100 epochs\n",
      "\tcompleted  70  /  100 epochs\n",
      "\tcompleted  80  /  100 epochs\n",
      "\tcompleted  90  /  100 epochs\n",
      "seconds:  6.002456967020407\n",
      "\tcompleted  0  /  100 epochs\n",
      "\tcompleted  10  /  100 epochs\n",
      "\tcompleted  20  /  100 epochs\n",
      "\tcompleted  30  /  100 epochs\n",
      "\tcompleted  40  /  100 epochs\n",
      "\tcompleted  50  /  100 epochs\n",
      "\tcompleted  60  /  100 epochs\n",
      "\tcompleted  70  /  100 epochs\n",
      "\tcompleted  80  /  100 epochs\n",
      "\tcompleted  90  /  100 epochs\n",
      "seconds:  6.193087660940364\n",
      "\tcompleted  0  /  100 epochs\n"
     ]
    },
    {
     "ename": "KeyboardInterrupt",
     "evalue": "",
     "output_type": "error",
     "traceback": [
      "\u001b[0;31m---------------------------------------------------------------------------\u001b[0m",
      "\u001b[0;31mKeyboardInterrupt\u001b[0m                         Traceback (most recent call last)",
      "\u001b[0;32m<ipython-input-36-62a10edbc84c>\u001b[0m in \u001b[0;36m<module>\u001b[0;34m\u001b[0m\n\u001b[1;32m      3\u001b[0m \u001b[0;32mfor\u001b[0m \u001b[0mi\u001b[0m \u001b[0;32min\u001b[0m \u001b[0mtqdm\u001b[0m\u001b[0;34m(\u001b[0m\u001b[0mrange\u001b[0m\u001b[0;34m(\u001b[0m\u001b[0mn_repeats\u001b[0m\u001b[0;34m)\u001b[0m\u001b[0;34m)\u001b[0m\u001b[0;34m:\u001b[0m\u001b[0;34m\u001b[0m\u001b[0;34m\u001b[0m\u001b[0m\n\u001b[1;32m      4\u001b[0m     \u001b[0mstart_time\u001b[0m \u001b[0;34m=\u001b[0m \u001b[0mtime\u001b[0m\u001b[0;34m.\u001b[0m\u001b[0mmonotonic\u001b[0m\u001b[0;34m(\u001b[0m\u001b[0;34m)\u001b[0m\u001b[0;34m\u001b[0m\u001b[0;34m\u001b[0m\u001b[0m\n\u001b[0;32m----> 5\u001b[0;31m     \u001b[0membedder\u001b[0m\u001b[0;34m.\u001b[0m\u001b[0mtransform\u001b[0m\u001b[0;34m(\u001b[0m\u001b[0mX_test_flat\u001b[0m\u001b[0;34m)\u001b[0m\u001b[0;34m;\u001b[0m\u001b[0;34m\u001b[0m\u001b[0;34m\u001b[0m\u001b[0m\n\u001b[0m\u001b[1;32m      6\u001b[0m     \u001b[0mend_time\u001b[0m \u001b[0;34m=\u001b[0m \u001b[0mtime\u001b[0m\u001b[0;34m.\u001b[0m\u001b[0mmonotonic\u001b[0m\u001b[0;34m(\u001b[0m\u001b[0;34m)\u001b[0m\u001b[0;34m\u001b[0m\u001b[0;34m\u001b[0m\u001b[0m\n\u001b[1;32m      7\u001b[0m     \u001b[0mprint\u001b[0m\u001b[0;34m(\u001b[0m\u001b[0;34m'seconds: '\u001b[0m\u001b[0;34m,\u001b[0m \u001b[0mend_time\u001b[0m \u001b[0;34m-\u001b[0m \u001b[0mstart_time\u001b[0m\u001b[0;34m)\u001b[0m\u001b[0;34m\u001b[0m\u001b[0;34m\u001b[0m\u001b[0m\n",
      "\u001b[0;32m/mnt/cube/tsainbur/Projects/github_repos/umap/umap/umap_.py\u001b[0m in \u001b[0;36mtransform\u001b[0;34m(self, X)\u001b[0m\n\u001b[1;32m   2524\u001b[0m                 \u001b[0mself\u001b[0m\u001b[0;34m.\u001b[0m\u001b[0mnegative_sample_rate\u001b[0m\u001b[0;34m,\u001b[0m\u001b[0;34m\u001b[0m\u001b[0;34m\u001b[0m\u001b[0m\n\u001b[1;32m   2525\u001b[0m                 \u001b[0mself\u001b[0m\u001b[0;34m.\u001b[0m\u001b[0mrandom_state\u001b[0m \u001b[0;32mis\u001b[0m \u001b[0;32mNone\u001b[0m\u001b[0;34m,\u001b[0m\u001b[0;34m\u001b[0m\u001b[0;34m\u001b[0m\u001b[0m\n\u001b[0;32m-> 2526\u001b[0;31m                 \u001b[0mverbose\u001b[0m\u001b[0;34m=\u001b[0m\u001b[0mself\u001b[0m\u001b[0;34m.\u001b[0m\u001b[0mverbose\u001b[0m\u001b[0;34m,\u001b[0m\u001b[0;34m\u001b[0m\u001b[0;34m\u001b[0m\u001b[0m\n\u001b[0m\u001b[1;32m   2527\u001b[0m             )\n\u001b[1;32m   2528\u001b[0m         \u001b[0;32melse\u001b[0m\u001b[0;34m:\u001b[0m\u001b[0;34m\u001b[0m\u001b[0;34m\u001b[0m\u001b[0m\n",
      "\u001b[0;32m/mnt/cube/tsainbur/Projects/github_repos/umap/umap/layouts.py\u001b[0m in \u001b[0;36moptimize_layout_euclidean\u001b[0;34m(head_embedding, tail_embedding, head, tail, n_epochs, n_vertices, epochs_per_sample, a, b, rng_state, gamma, initial_alpha, negative_sample_rate, parallel, verbose, densmap, densmap_kwds)\u001b[0m\n\u001b[1;32m    344\u001b[0m             \u001b[0mdens_R\u001b[0m\u001b[0;34m,\u001b[0m\u001b[0;34m\u001b[0m\u001b[0;34m\u001b[0m\u001b[0m\n\u001b[1;32m    345\u001b[0m             \u001b[0mdens_mu\u001b[0m\u001b[0;34m,\u001b[0m\u001b[0;34m\u001b[0m\u001b[0;34m\u001b[0m\u001b[0m\n\u001b[0;32m--> 346\u001b[0;31m             \u001b[0mdens_mu_tot\u001b[0m\u001b[0;34m,\u001b[0m\u001b[0;34m\u001b[0m\u001b[0;34m\u001b[0m\u001b[0m\n\u001b[0m\u001b[1;32m    347\u001b[0m         )\n\u001b[1;32m    348\u001b[0m \u001b[0;34m\u001b[0m\u001b[0m\n",
      "\u001b[0;31mKeyboardInterrupt\u001b[0m: "
     ]
    }
   ],
   "source": [
    "n_repeats = 10\n",
    "times = []\n",
    "for i in tqdm(range(n_repeats)):\n",
    "    start_time = time.monotonic()\n",
    "    embedder.transform(X_test_flat);\n",
    "    end_time = time.monotonic()\n",
    "    print('seconds: ', end_time - start_time)\n",
    "    times.append(end_time - start_time)\n",
    "    projection_speeds.loc[len(projection_speeds)] = ['umap-learn', 2, dataset, end_time - start_time]\n"
   ]
  },
  {
   "cell_type": "code",
   "execution_count": null,
   "metadata": {
    "ExecuteTime": {
     "end_time": "2020-07-18T19:12:48.281104Z",
     "start_time": "2020-07-18T19:10:43.492Z"
    }
   },
   "outputs": [],
   "source": [
    "out"
   ]
  },
  {
   "cell_type": "code",
   "execution_count": null,
   "metadata": {
    "ExecuteTime": {
     "end_time": "2020-07-18T19:12:48.281967Z",
     "start_time": "2020-07-18T19:10:43.493Z"
    }
   },
   "outputs": [],
   "source": [
    "z = embedder.transform(X_test_flat);\n",
    "out = MODEL_DIR/'projections' / dataset / 'umap-learn' / 'z_test.npy'\n",
    "ensure_dir(out)\n",
    "np.save(out, z)"
   ]
  },
  {
   "cell_type": "markdown",
   "metadata": {},
   "source": [
    "##### 64 dims"
   ]
  },
  {
   "cell_type": "code",
   "execution_count": null,
   "metadata": {
    "ExecuteTime": {
     "end_time": "2020-07-18T19:12:48.282906Z",
     "start_time": "2020-07-18T19:10:43.495Z"
    }
   },
   "outputs": [],
   "source": [
    "embedder = UMAP(n_components = 64, verbose=True)\n",
    "z_umap = embedder.fit_transform(X_train_flat)"
   ]
  },
  {
   "cell_type": "code",
   "execution_count": null,
   "metadata": {
    "ExecuteTime": {
     "end_time": "2020-07-18T19:12:48.283670Z",
     "start_time": "2020-07-18T19:10:43.497Z"
    }
   },
   "outputs": [],
   "source": [
    "n_repeats = 10\n",
    "times = []\n",
    "for i in tqdm(range(n_repeats)):\n",
    "    start_time = time.monotonic()\n",
    "    embedder.transform(X_test_flat);\n",
    "    end_time = time.monotonic()\n",
    "    print('seconds: ', end_time - start_time)\n",
    "    projection_speeds.loc[len(projection_speeds)] = ['umap-learn', 64, dataset, end_time - start_time]\n"
   ]
  },
  {
   "cell_type": "code",
   "execution_count": null,
   "metadata": {
    "ExecuteTime": {
     "end_time": "2020-07-18T19:12:48.284584Z",
     "start_time": "2020-07-18T19:10:43.498Z"
    }
   },
   "outputs": [],
   "source": [
    "z = embedder.transform(X_test_flat);\n",
    "out = MODEL_DIR/'projections' / dataset / '64' / 'umap-learn' / 'z_test.npy'\n",
    "ensure_dir(out)\n",
    "np.save(out, z)"
   ]
  },
  {
   "cell_type": "markdown",
   "metadata": {},
   "source": [
    "#### PCA"
   ]
  },
  {
   "cell_type": "markdown",
   "metadata": {},
   "source": [
    "##### 2 dims"
   ]
  },
  {
   "cell_type": "code",
   "execution_count": null,
   "metadata": {
    "ExecuteTime": {
     "end_time": "2020-07-18T19:12:48.285390Z",
     "start_time": "2020-07-18T19:10:43.500Z"
    }
   },
   "outputs": [],
   "source": [
    "pca = PCA(n_components=2)\n",
    "z = pca.fit_transform(X_train_flat)"
   ]
  },
  {
   "cell_type": "code",
   "execution_count": null,
   "metadata": {
    "ExecuteTime": {
     "end_time": "2020-07-18T19:12:48.286226Z",
     "start_time": "2020-07-18T19:10:43.501Z"
    }
   },
   "outputs": [],
   "source": [
    "n_repeats = 10\n",
    "times = []\n",
    "for i in tqdm(range(n_repeats)):\n",
    "    start_time = time.monotonic()\n",
    "    pca.transform(X_test_flat);\n",
    "    end_time = time.monotonic()\n",
    "    print('seconds: ', end_time - start_time)\n",
    "    times.append(end_time - start_time)\n",
    "    projection_speeds.loc[len(projection_speeds)] = ['pca', 2, dataset, end_time - start_time]\n"
   ]
  },
  {
   "cell_type": "code",
   "execution_count": null,
   "metadata": {
    "ExecuteTime": {
     "end_time": "2020-07-18T19:12:48.287041Z",
     "start_time": "2020-07-18T19:10:43.503Z"
    }
   },
   "outputs": [],
   "source": [
    "z = pca.transform(X_test_flat);\n",
    "out = MODEL_DIR/'projections' / dataset / 'PCA' / 'z_test.npy'\n",
    "ensure_dir(out)\n",
    "np.save(out, z)"
   ]
  },
  {
   "cell_type": "markdown",
   "metadata": {},
   "source": [
    "##### 64 dims"
   ]
  },
  {
   "cell_type": "code",
   "execution_count": null,
   "metadata": {
    "ExecuteTime": {
     "end_time": "2020-07-18T19:12:48.287709Z",
     "start_time": "2020-07-18T19:10:43.504Z"
    }
   },
   "outputs": [],
   "source": [
    "pca = PCA(n_components=64)\n",
    "z = pca.fit_transform(X_train_flat)"
   ]
  },
  {
   "cell_type": "code",
   "execution_count": null,
   "metadata": {
    "ExecuteTime": {
     "end_time": "2020-07-18T19:12:48.288653Z",
     "start_time": "2020-07-18T19:10:43.505Z"
    }
   },
   "outputs": [],
   "source": [
    "n_repeats = 10\n",
    "times = []\n",
    "for i in tqdm(range(n_repeats)):\n",
    "    start_time = time.monotonic()\n",
    "    pca.transform(X_test_flat);\n",
    "    end_time = time.monotonic()\n",
    "    print('seconds: ', end_time - start_time)\n",
    "    times.append(end_time - start_time)\n",
    "    projection_speeds.loc[len(projection_speeds)] = ['pca', 64, dataset, end_time - start_time]\n"
   ]
  },
  {
   "cell_type": "code",
   "execution_count": null,
   "metadata": {
    "ExecuteTime": {
     "end_time": "2020-07-18T19:12:48.289550Z",
     "start_time": "2020-07-18T19:10:43.506Z"
    }
   },
   "outputs": [],
   "source": [
    "z = pca.transform(X_test_flat);\n",
    "out = MODEL_DIR/'projections' / dataset / \"64\" / 'PCA'  / 'z_test.npy'\n",
    "ensure_dir(out)\n",
    "np.save(out, z)"
   ]
  },
  {
   "cell_type": "markdown",
   "metadata": {},
   "source": [
    "#### TSNE"
   ]
  },
  {
   "cell_type": "markdown",
   "metadata": {},
   "source": [
    "##### 2 dims"
   ]
  },
  {
   "cell_type": "code",
   "execution_count": null,
   "metadata": {
    "ExecuteTime": {
     "end_time": "2020-07-18T19:12:48.290151Z",
     "start_time": "2020-07-18T19:10:43.508Z"
    }
   },
   "outputs": [],
   "source": [
    "tsne = TSNE(\n",
    "    n_components = 2,\n",
    "    n_jobs=32,\n",
    "    verbose=True\n",
    ")"
   ]
  },
  {
   "cell_type": "code",
   "execution_count": null,
   "metadata": {
    "ExecuteTime": {
     "end_time": "2020-07-18T19:12:48.290639Z",
     "start_time": "2020-07-18T19:10:43.509Z"
    }
   },
   "outputs": [],
   "source": [
    "embedding_train = tsne.fit(X_train_flat)"
   ]
  },
  {
   "cell_type": "code",
   "execution_count": null,
   "metadata": {
    "ExecuteTime": {
     "end_time": "2020-07-18T19:12:48.291237Z",
     "start_time": "2020-07-18T19:10:43.511Z"
    }
   },
   "outputs": [],
   "source": [
    "n_repeats = 10\n",
    "times = []\n",
    "for i in tqdm(range(n_repeats)):\n",
    "    start_time = time.monotonic()\n",
    "    embedding_train.transform(X_test_flat);\n",
    "    end_time = time.monotonic()\n",
    "    print('seconds: ', end_time - start_time)\n",
    "    times.append(end_time - start_time)\n",
    "    projection_speeds.loc[len(projection_speeds)] = ['TSNE', 2, dataset, end_time - start_time]"
   ]
  },
  {
   "cell_type": "code",
   "execution_count": null,
   "metadata": {
    "ExecuteTime": {
     "end_time": "2020-07-18T19:12:48.291735Z",
     "start_time": "2020-07-18T19:10:43.512Z"
    }
   },
   "outputs": [],
   "source": [
    "z = embedding_train.transform(X_test_flat);\n",
    "out = MODEL_DIR/'projections' / dataset / 'TSNE' / 'z_test.npy'\n",
    "ensure_dir(out)\n",
    "np.save(out, z)"
   ]
  },
  {
   "cell_type": "code",
   "execution_count": null,
   "metadata": {
    "ExecuteTime": {
     "end_time": "2020-07-18T19:12:48.292250Z",
     "start_time": "2020-07-18T19:10:43.513Z"
    }
   },
   "outputs": [],
   "source": [
    "projection_speeds"
   ]
  },
  {
   "cell_type": "markdown",
   "metadata": {},
   "source": [
    "### Save"
   ]
  },
  {
   "cell_type": "code",
   "execution_count": null,
   "metadata": {
    "ExecuteTime": {
     "end_time": "2020-07-18T19:12:48.292694Z",
     "start_time": "2020-07-18T19:10:43.515Z"
    }
   },
   "outputs": [],
   "source": [
    "save_loc = DATA_DIR / 'projection_speeds' / (dataset + '.pickle')\n",
    "ensure_dir(save_loc)\n",
    "projection_speeds.to_pickle(save_loc)"
   ]
  },
  {
   "cell_type": "code",
   "execution_count": null,
   "metadata": {},
   "outputs": [],
   "source": []
  }
 ],
 "metadata": {
  "kernelspec": {
   "display_name": "Python 3",
   "language": "python",
   "name": "python3"
  },
  "language_info": {
   "codemirror_mode": {
    "name": "ipython",
    "version": 3
   },
   "file_extension": ".py",
   "mimetype": "text/x-python",
   "name": "python",
   "nbconvert_exporter": "python",
   "pygments_lexer": "ipython3",
   "version": "3.6.7"
  }
 },
 "nbformat": 4,
 "nbformat_minor": 2
}
