{
 "cells": [
  {
   "cell_type": "markdown",
   "metadata": {},
   "source": [
    "#### Outline\n",
    "- for each dataset: \n",
    "    - load dataset; \n",
    "    - for each network: \n",
    "        - load network\n",
    "        - project 1000 test dataset samples\n",
    "        - save to metric dataframe"
   ]
  },
  {
   "cell_type": "code",
   "execution_count": 1,
   "metadata": {
    "ExecuteTime": {
     "end_time": "2020-07-16T01:20:27.777668Z",
     "start_time": "2020-07-16T01:20:27.761949Z"
    }
   },
   "outputs": [],
   "source": [
    "# reload packages\n",
    "%load_ext autoreload\n",
    "%autoreload 2"
   ]
  },
  {
   "cell_type": "markdown",
   "metadata": {},
   "source": [
    "### Choose GPU (this may not be needed on your computer)"
   ]
  },
  {
   "cell_type": "code",
   "execution_count": 2,
   "metadata": {
    "ExecuteTime": {
     "end_time": "2020-07-16T01:20:27.787825Z",
     "start_time": "2020-07-16T01:20:27.778987Z"
    }
   },
   "outputs": [
    {
     "name": "stdout",
     "output_type": "stream",
     "text": [
      "env: CUDA_DEVICE_ORDER=PCI_BUS_ID\n",
      "env: CUDA_VISIBLE_DEVICES=0\n"
     ]
    }
   ],
   "source": [
    "%env CUDA_DEVICE_ORDER=PCI_BUS_ID\n",
    "%env CUDA_VISIBLE_DEVICES=0"
   ]
  },
  {
   "cell_type": "code",
   "execution_count": 3,
   "metadata": {
    "ExecuteTime": {
     "end_time": "2020-07-16T01:20:33.126070Z",
     "start_time": "2020-07-16T01:20:27.789342Z"
    }
   },
   "outputs": [],
   "source": [
    "import numpy as np\n",
    "import pickle\n",
    "import pandas as pd\n",
    "import time\n",
    "from umap import UMAP"
   ]
  },
  {
   "cell_type": "code",
   "execution_count": 4,
   "metadata": {
    "ExecuteTime": {
     "end_time": "2020-07-16T01:20:35.456429Z",
     "start_time": "2020-07-16T01:20:33.127322Z"
    }
   },
   "outputs": [
    {
     "name": "stderr",
     "output_type": "stream",
     "text": [
      "/mnt/cube/tsainbur/conda_envs/tpy3/lib/python3.6/site-packages/tqdm/autonotebook/__init__.py:14: TqdmExperimentalWarning: Using `tqdm.autonotebook.tqdm` in notebook mode. Use `tqdm.tqdm` instead to force console mode (e.g. in jupyter console)\n",
      "  \" (e.g. in jupyter console)\", TqdmExperimentalWarning)\n"
     ]
    }
   ],
   "source": [
    "from tfumap.umap import tfUMAP\n",
    "import tensorflow as tf\n",
    "from sklearn.decomposition import PCA\n",
    "from openTSNE import TSNE"
   ]
  },
  {
   "cell_type": "code",
   "execution_count": 5,
   "metadata": {
    "ExecuteTime": {
     "end_time": "2020-07-16T01:20:35.495830Z",
     "start_time": "2020-07-16T01:20:35.458151Z"
    }
   },
   "outputs": [],
   "source": [
    "from tqdm.autonotebook import tqdm"
   ]
  },
  {
   "cell_type": "code",
   "execution_count": 6,
   "metadata": {
    "ExecuteTime": {
     "end_time": "2020-07-16T01:20:35.629731Z",
     "start_time": "2020-07-16T01:20:35.497180Z"
    }
   },
   "outputs": [],
   "source": [
    "from tfumap.paths import ensure_dir, MODEL_DIR, DATA_DIR"
   ]
  },
  {
   "cell_type": "code",
   "execution_count": 7,
   "metadata": {
    "ExecuteTime": {
     "end_time": "2020-07-16T01:20:35.673004Z",
     "start_time": "2020-07-16T01:20:35.630847Z"
    }
   },
   "outputs": [],
   "source": [
    "output_dir = MODEL_DIR/'projections' "
   ]
  },
  {
   "cell_type": "code",
   "execution_count": 8,
   "metadata": {
    "ExecuteTime": {
     "end_time": "2020-07-16T01:20:35.714774Z",
     "start_time": "2020-07-16T01:20:35.674023Z"
    }
   },
   "outputs": [],
   "source": [
    "projection_speeds = pd.DataFrame(columns = ['method_', 'dimensions', 'dataset', 'speed'])"
   ]
  },
  {
   "cell_type": "markdown",
   "metadata": {},
   "source": [
    "### MNIST"
   ]
  },
  {
   "cell_type": "code",
   "execution_count": 9,
   "metadata": {
    "ExecuteTime": {
     "end_time": "2020-07-16T01:20:35.751629Z",
     "start_time": "2020-07-16T01:20:35.715824Z"
    }
   },
   "outputs": [],
   "source": [
    "dataset = 'cifar10'\n",
    "dims = (32,32,3)"
   ]
  },
  {
   "cell_type": "markdown",
   "metadata": {},
   "source": [
    "##### load dataset"
   ]
  },
  {
   "cell_type": "code",
   "execution_count": 10,
   "metadata": {
    "ExecuteTime": {
     "end_time": "2020-07-16T01:20:36.917046Z",
     "start_time": "2020-07-16T01:20:35.752689Z"
    }
   },
   "outputs": [
    {
     "name": "stdout",
     "output_type": "stream",
     "text": [
      "40000 10000 10000\n"
     ]
    }
   ],
   "source": [
    "from tensorflow.keras.datasets import cifar10\n",
    "\n",
    "# load dataset\n",
    "(train_images, Y_train), (test_images, Y_test) = cifar10.load_data()\n",
    "X_train = (train_images/255.).astype('float32')\n",
    "X_test = (test_images/255.).astype('float32')\n",
    "X_train = X_train.reshape((len(X_train), np.product(np.shape(X_train)[1:])))\n",
    "X_test = X_test.reshape((len(X_test), np.product(np.shape(X_test)[1:])))\n",
    "\n",
    "# subset a validation set\n",
    "n_valid = 10000\n",
    "X_valid = X_train[-n_valid:]\n",
    "Y_valid = Y_train[-n_valid:].flatten()\n",
    "X_train = X_train[:-n_valid]\n",
    "Y_train = Y_train[:-n_valid].flatten()\n",
    "Y_test = Y_test.flatten()\n",
    "\n",
    "print(len(X_train), len(X_valid), len(X_test))"
   ]
  },
  {
   "cell_type": "code",
   "execution_count": 11,
   "metadata": {
    "ExecuteTime": {
     "end_time": "2020-07-16T01:20:36.958262Z",
     "start_time": "2020-07-16T01:20:36.918075Z"
    }
   },
   "outputs": [],
   "source": [
    "X_test_flat = X_test\n",
    "\n",
    "X_train_flat = X_train"
   ]
  },
  {
   "cell_type": "markdown",
   "metadata": {},
   "source": [
    "#### Network "
   ]
  },
  {
   "cell_type": "markdown",
   "metadata": {},
   "source": [
    "##### 2 dims"
   ]
  },
  {
   "cell_type": "code",
   "execution_count": 12,
   "metadata": {
    "ExecuteTime": {
     "end_time": "2020-07-16T01:20:36.995198Z",
     "start_time": "2020-07-16T01:20:36.959225Z"
    }
   },
   "outputs": [],
   "source": [
    "load_loc = output_dir / dataset / 'network' "
   ]
  },
  {
   "cell_type": "code",
   "execution_count": 13,
   "metadata": {
    "ExecuteTime": {
     "end_time": "2020-07-16T01:20:38.329883Z",
     "start_time": "2020-07-16T01:20:36.996136Z"
    }
   },
   "outputs": [],
   "source": [
    "embedder = tfUMAP(\n",
    "    direct_embedding=False,\n",
    "    verbose=True,\n",
    "    negative_sample_rate=5,\n",
    "    training_epochs=5,\n",
    "    batch_size = 100,\n",
    "    dims = dims\n",
    ")"
   ]
  },
  {
   "cell_type": "code",
   "execution_count": 14,
   "metadata": {
    "ExecuteTime": {
     "end_time": "2020-07-16T01:20:39.123386Z",
     "start_time": "2020-07-16T01:20:38.331709Z"
    }
   },
   "outputs": [],
   "source": [
    "encoder = tf.keras.models.load_model((load_loc / 'encoder').as_posix())\n",
    "embedder.encoder = encoder"
   ]
  },
  {
   "cell_type": "code",
   "execution_count": 15,
   "metadata": {
    "ExecuteTime": {
     "end_time": "2020-07-16T01:20:44.510451Z",
     "start_time": "2020-07-16T01:20:39.125130Z"
    }
   },
   "outputs": [
    {
     "data": {
      "application/vnd.jupyter.widget-view+json": {
       "model_id": "aafe082981f84a269e9a79981d565a0c",
       "version_major": 2,
       "version_minor": 0
      },
      "text/plain": [
       "HBox(children=(IntProgress(value=0, max=10), HTML(value='')))"
      ]
     },
     "metadata": {},
     "output_type": "display_data"
    },
    {
     "name": "stdout",
     "output_type": "stream",
     "text": [
      "seconds:  1.874784923857078\n",
      "seconds:  0.3794771549291909\n",
      "seconds:  0.3734123900067061\n",
      "seconds:  0.3755004310514778\n",
      "seconds:  0.3702197789680213\n",
      "seconds:  0.378474015975371\n",
      "seconds:  0.3569971020333469\n",
      "seconds:  0.3871835151221603\n",
      "seconds:  0.38585041696205735\n",
      "seconds:  0.38425082084722817\n",
      "\n"
     ]
    }
   ],
   "source": [
    "n_repeats = 10\n",
    "times = []\n",
    "for i in tqdm(range(n_repeats)):\n",
    "    start_time = time.monotonic()\n",
    "    embedder.transform(X_test_flat);\n",
    "    end_time = time.monotonic()\n",
    "    print('seconds: ', end_time - start_time)\n",
    "    times.append(end_time - start_time)\n",
    "    projection_speeds.loc[len(projection_speeds)] = ['network', 2, dataset, end_time - start_time]\n"
   ]
  },
  {
   "cell_type": "code",
   "execution_count": 16,
   "metadata": {
    "ExecuteTime": {
     "end_time": "2020-07-16T01:20:44.964321Z",
     "start_time": "2020-07-16T01:20:44.512195Z"
    }
   },
   "outputs": [],
   "source": [
    "z = embedder.transform(X_test_flat);\n",
    "np.save( MODEL_DIR/'projections' / dataset / 'network' / 'z_test.npy', z)"
   ]
  },
  {
   "cell_type": "code",
   "execution_count": 17,
   "metadata": {
    "ExecuteTime": {
     "end_time": "2020-07-16T01:20:51.522899Z",
     "start_time": "2020-07-16T01:20:44.966572Z"
    }
   },
   "outputs": [
    {
     "data": {
      "application/vnd.jupyter.widget-view+json": {
       "model_id": "425e8d811856490ea953ece5c55ab0f6",
       "version_major": 2,
       "version_minor": 0
      },
      "text/plain": [
       "HBox(children=(IntProgress(value=0, max=10), HTML(value='')))"
      ]
     },
     "metadata": {},
     "output_type": "display_data"
    },
    {
     "name": "stdout",
     "output_type": "stream",
     "text": [
      "seconds:  0.692751414841041\n",
      "seconds:  0.6400489979423583\n",
      "seconds:  0.6192996150348336\n",
      "seconds:  0.636889728019014\n",
      "seconds:  0.6178402330260724\n",
      "seconds:  0.64328903099522\n",
      "seconds:  0.6315891661215574\n",
      "seconds:  0.6589479590766132\n",
      "seconds:  0.6676586179528385\n",
      "seconds:  0.6246913690119982\n",
      "\n"
     ]
    }
   ],
   "source": [
    "##### Network CPU\n",
    "\n",
    "with tf.device('/CPU:0'):\n",
    "    n_repeats = 10\n",
    "    times = []\n",
    "    for i in tqdm(range(n_repeats)):\n",
    "        start_time = time.monotonic()\n",
    "        embedder.transform(X_test_flat);\n",
    "        end_time = time.monotonic()\n",
    "        print('seconds: ', end_time - start_time)\n",
    "        times.append(end_time - start_time)\n",
    "        projection_speeds.loc[len(projection_speeds)] = ['network-cpu', 2, dataset, end_time - start_time]"
   ]
  },
  {
   "cell_type": "markdown",
   "metadata": {},
   "source": [
    "##### 64 dims"
   ]
  },
  {
   "cell_type": "code",
   "execution_count": 18,
   "metadata": {
    "ExecuteTime": {
     "end_time": "2020-07-16T01:20:51.569889Z",
     "start_time": "2020-07-16T01:20:51.525094Z"
    }
   },
   "outputs": [],
   "source": [
    "load_loc = output_dir / dataset /\"64\"/ 'network' "
   ]
  },
  {
   "cell_type": "code",
   "execution_count": 19,
   "metadata": {
    "ExecuteTime": {
     "end_time": "2020-07-16T01:20:51.606365Z",
     "start_time": "2020-07-16T01:20:51.570955Z"
    }
   },
   "outputs": [],
   "source": [
    "embedder = tfUMAP(\n",
    "    direct_embedding=False,\n",
    "    verbose=True,\n",
    "    negative_sample_rate=5,\n",
    "    training_epochs=5,\n",
    "    batch_size = 100,\n",
    "    dims = dims\n",
    ")"
   ]
  },
  {
   "cell_type": "code",
   "execution_count": 20,
   "metadata": {
    "ExecuteTime": {
     "end_time": "2020-07-16T01:20:51.971329Z",
     "start_time": "2020-07-16T01:20:51.609293Z"
    }
   },
   "outputs": [],
   "source": [
    "encoder = tf.keras.models.load_model((load_loc / 'encoder').as_posix())\n",
    "embedder.encoder = encoder"
   ]
  },
  {
   "cell_type": "code",
   "execution_count": 21,
   "metadata": {
    "ExecuteTime": {
     "end_time": "2020-07-16T01:20:55.931983Z",
     "start_time": "2020-07-16T01:20:51.973455Z"
    }
   },
   "outputs": [
    {
     "data": {
      "application/vnd.jupyter.widget-view+json": {
       "model_id": "d410e11ade91407495a010da63213f5c",
       "version_major": 2,
       "version_minor": 0
      },
      "text/plain": [
       "HBox(children=(IntProgress(value=0, max=10), HTML(value='')))"
      ]
     },
     "metadata": {},
     "output_type": "display_data"
    },
    {
     "name": "stdout",
     "output_type": "stream",
     "text": [
      "seconds:  0.435495647136122\n",
      "seconds:  0.3813212178647518\n",
      "seconds:  0.37471195799298584\n",
      "seconds:  0.37979300506412983\n",
      "seconds:  0.3835528821218759\n",
      "seconds:  0.3817722708918154\n",
      "seconds:  0.38441167515702546\n",
      "seconds:  0.38366482499986887\n",
      "seconds:  0.37157777906395495\n",
      "seconds:  0.3721130739431828\n",
      "\n"
     ]
    }
   ],
   "source": [
    "n_repeats = 10\n",
    "times = []\n",
    "for i in tqdm(range(n_repeats)):\n",
    "    start_time = time.monotonic()\n",
    "    embedder.transform(X_test_flat);\n",
    "    end_time = time.monotonic()\n",
    "    print('seconds: ', end_time - start_time)\n",
    "    times.append(end_time - start_time)\n",
    "    projection_speeds.loc[len(projection_speeds)] = ['network', 64, dataset, end_time - start_time]"
   ]
  },
  {
   "cell_type": "code",
   "execution_count": 22,
   "metadata": {
    "ExecuteTime": {
     "end_time": "2020-07-16T01:20:56.383852Z",
     "start_time": "2020-07-16T01:20:55.933728Z"
    }
   },
   "outputs": [],
   "source": [
    "z = embedder.transform(X_test_flat);\n",
    "out = MODEL_DIR/'projections' / dataset / '64' / 'network' / 'z_test.npy'\n",
    "np.save( out, z)"
   ]
  },
  {
   "cell_type": "markdown",
   "metadata": {},
   "source": [
    "##### Network CPU"
   ]
  },
  {
   "cell_type": "code",
   "execution_count": 23,
   "metadata": {
    "ExecuteTime": {
     "end_time": "2020-07-16T01:21:02.867851Z",
     "start_time": "2020-07-16T01:20:56.385592Z"
    }
   },
   "outputs": [
    {
     "data": {
      "application/vnd.jupyter.widget-view+json": {
       "model_id": "751a78db4f354e098d4a639da0c19211",
       "version_major": 2,
       "version_minor": 0
      },
      "text/plain": [
       "HBox(children=(IntProgress(value=0, max=10), HTML(value='')))"
      ]
     },
     "metadata": {},
     "output_type": "display_data"
    },
    {
     "name": "stdout",
     "output_type": "stream",
     "text": [
      "seconds:  0.6672555468976498\n",
      "seconds:  0.6753822390455753\n",
      "seconds:  0.6320249699056149\n",
      "seconds:  0.6222059191204607\n",
      "seconds:  0.6180766997858882\n",
      "seconds:  0.6158034859690815\n",
      "seconds:  0.6382959592156112\n",
      "seconds:  0.6408430230803788\n",
      "seconds:  0.6283011038322002\n",
      "seconds:  0.6170152500271797\n",
      "\n"
     ]
    }
   ],
   "source": [
    "with tf.device('/CPU:0'):\n",
    "    n_repeats = 10\n",
    "    times = []\n",
    "    for i in tqdm(range(n_repeats)):\n",
    "        start_time = time.monotonic()\n",
    "        embedder.transform(X_test_flat);\n",
    "        end_time = time.monotonic()\n",
    "        print('seconds: ', end_time - start_time)\n",
    "        times.append(end_time - start_time)\n",
    "        projection_speeds.loc[len(projection_speeds)] = ['network-cpu', 64, dataset, end_time - start_time]"
   ]
  },
  {
   "cell_type": "markdown",
   "metadata": {},
   "source": [
    "### AE "
   ]
  },
  {
   "cell_type": "markdown",
   "metadata": {},
   "source": [
    "##### 2 dims"
   ]
  },
  {
   "cell_type": "code",
   "execution_count": 24,
   "metadata": {
    "ExecuteTime": {
     "end_time": "2020-07-16T01:21:03.365508Z",
     "start_time": "2020-07-16T01:21:02.869467Z"
    }
   },
   "outputs": [],
   "source": [
    "load_loc = output_dir / dataset / 'autoencoder' "
   ]
  },
  {
   "cell_type": "code",
   "execution_count": 25,
   "metadata": {
    "ExecuteTime": {
     "end_time": "2020-07-16T01:21:03.410430Z",
     "start_time": "2020-07-16T01:21:03.367616Z"
    }
   },
   "outputs": [],
   "source": [
    "embedder = tfUMAP(\n",
    "    direct_embedding=False,\n",
    "    verbose=True,\n",
    "    negative_sample_rate=5,\n",
    "    training_epochs=5,\n",
    "    decoding_method = \"autoencoder\",\n",
    "    batch_size = 100,\n",
    "    dims = dims\n",
    ")"
   ]
  },
  {
   "cell_type": "code",
   "execution_count": 26,
   "metadata": {
    "ExecuteTime": {
     "end_time": "2020-07-16T01:21:03.844860Z",
     "start_time": "2020-07-16T01:21:03.411650Z"
    }
   },
   "outputs": [],
   "source": [
    "encoder = tf.keras.models.load_model((load_loc / 'encoder').as_posix())\n",
    "embedder.encoder = encoder"
   ]
  },
  {
   "cell_type": "code",
   "execution_count": 27,
   "metadata": {
    "ExecuteTime": {
     "end_time": "2020-07-16T01:21:04.239070Z",
     "start_time": "2020-07-16T01:21:03.846613Z"
    }
   },
   "outputs": [],
   "source": [
    "decoder = tf.keras.models.load_model((load_loc / 'decoder').as_posix())\n",
    "embedder.decoder = decoder"
   ]
  },
  {
   "cell_type": "code",
   "execution_count": 28,
   "metadata": {
    "ExecuteTime": {
     "end_time": "2020-07-16T01:21:08.099369Z",
     "start_time": "2020-07-16T01:21:04.240305Z"
    }
   },
   "outputs": [
    {
     "data": {
      "application/vnd.jupyter.widget-view+json": {
       "model_id": "843991415676450c9cac5216e5183988",
       "version_major": 2,
       "version_minor": 0
      },
      "text/plain": [
       "HBox(children=(IntProgress(value=0, max=10), HTML(value='')))"
      ]
     },
     "metadata": {},
     "output_type": "display_data"
    },
    {
     "name": "stdout",
     "output_type": "stream",
     "text": [
      "seconds:  0.41231335513293743\n",
      "seconds:  0.3749568169005215\n",
      "seconds:  0.36639093211852014\n",
      "seconds:  0.3599984881002456\n",
      "seconds:  0.3579307298641652\n",
      "seconds:  0.3640342438593507\n",
      "seconds:  0.37799659301526845\n",
      "seconds:  0.38012760295532644\n",
      "seconds:  0.3791631569620222\n",
      "seconds:  0.3745101629756391\n",
      "\n"
     ]
    }
   ],
   "source": [
    "n_repeats = 10\n",
    "times = []\n",
    "for i in tqdm(range(n_repeats)):\n",
    "    start_time = time.monotonic()\n",
    "    embedder.transform(X_test_flat);\n",
    "    end_time = time.monotonic()\n",
    "    print('seconds: ', end_time - start_time)\n",
    "    times.append(end_time - start_time)\n",
    "    projection_speeds.loc[len(projection_speeds)] = ['network', 2, dataset, end_time - start_time]\n"
   ]
  },
  {
   "cell_type": "code",
   "execution_count": 29,
   "metadata": {
    "ExecuteTime": {
     "end_time": "2020-07-16T01:21:08.559574Z",
     "start_time": "2020-07-16T01:21:08.100811Z"
    }
   },
   "outputs": [],
   "source": [
    "z = embedder.transform(X_test_flat);\n",
    "np.save( MODEL_DIR/'projections' / dataset / 'autoencoder' / 'z_test.npy', z)"
   ]
  },
  {
   "cell_type": "markdown",
   "metadata": {},
   "source": [
    "##### 64 dims"
   ]
  },
  {
   "cell_type": "code",
   "execution_count": 30,
   "metadata": {
    "ExecuteTime": {
     "end_time": "2020-07-16T01:21:08.603109Z",
     "start_time": "2020-07-16T01:21:08.561634Z"
    }
   },
   "outputs": [],
   "source": [
    "load_loc = output_dir / dataset /\"64\"/ 'autoencoder' "
   ]
  },
  {
   "cell_type": "code",
   "execution_count": 31,
   "metadata": {
    "ExecuteTime": {
     "end_time": "2020-07-16T01:21:08.640070Z",
     "start_time": "2020-07-16T01:21:08.604287Z"
    }
   },
   "outputs": [],
   "source": [
    "embedder = tfUMAP(\n",
    "    direct_embedding=False,\n",
    "    verbose=True,\n",
    "    negative_sample_rate=5,\n",
    "    training_epochs=5,\n",
    "    decoding_method = \"autoencoder\",\n",
    "    batch_size = 100,\n",
    "    dims = dims\n",
    ")"
   ]
  },
  {
   "cell_type": "code",
   "execution_count": 32,
   "metadata": {
    "ExecuteTime": {
     "end_time": "2020-07-16T01:21:08.946730Z",
     "start_time": "2020-07-16T01:21:08.641257Z"
    }
   },
   "outputs": [],
   "source": [
    "encoder = tf.keras.models.load_model((load_loc / 'encoder').as_posix())\n",
    "embedder.encoder = encoder"
   ]
  },
  {
   "cell_type": "code",
   "execution_count": 33,
   "metadata": {
    "ExecuteTime": {
     "end_time": "2020-07-16T01:21:09.373205Z",
     "start_time": "2020-07-16T01:21:08.948492Z"
    }
   },
   "outputs": [],
   "source": [
    "decoder = tf.keras.models.load_model((load_loc / 'decoder').as_posix())\n",
    "embedder.decoder = decoder"
   ]
  },
  {
   "cell_type": "code",
   "execution_count": 34,
   "metadata": {
    "ExecuteTime": {
     "end_time": "2020-07-16T01:21:13.318435Z",
     "start_time": "2020-07-16T01:21:09.374926Z"
    }
   },
   "outputs": [
    {
     "data": {
      "application/vnd.jupyter.widget-view+json": {
       "model_id": "09f129cbf3d34dbb9cf53d3ff756e6ce",
       "version_major": 2,
       "version_minor": 0
      },
      "text/plain": [
       "HBox(children=(IntProgress(value=0, max=10), HTML(value='')))"
      ]
     },
     "metadata": {},
     "output_type": "display_data"
    },
    {
     "name": "stdout",
     "output_type": "stream",
     "text": [
      "seconds:  0.41536225308664143\n",
      "seconds:  0.34870417579077184\n",
      "seconds:  0.3780167440418154\n",
      "seconds:  0.38507360592484474\n",
      "seconds:  0.3804287030361593\n",
      "seconds:  0.38184590404853225\n",
      "seconds:  0.37666002521291375\n",
      "seconds:  0.3794912868179381\n",
      "seconds:  0.38970558787696064\n",
      "seconds:  0.3865322871133685\n",
      "\n"
     ]
    }
   ],
   "source": [
    "n_repeats = 10\n",
    "times = []\n",
    "for i in tqdm(range(n_repeats)):\n",
    "    start_time = time.monotonic()\n",
    "    embedder.transform(X_test_flat);\n",
    "    end_time = time.monotonic()\n",
    "    print('seconds: ', end_time - start_time)\n",
    "    times.append(end_time - start_time)\n",
    "    projection_speeds.loc[len(projection_speeds)] = ['network', 64, dataset, end_time - start_time]"
   ]
  },
  {
   "cell_type": "code",
   "execution_count": 35,
   "metadata": {
    "ExecuteTime": {
     "end_time": "2020-07-16T01:21:13.754221Z",
     "start_time": "2020-07-16T01:21:13.320318Z"
    }
   },
   "outputs": [],
   "source": [
    "z = embedder.transform(X_test_flat);\n",
    "out = MODEL_DIR/'projections' / dataset / '64' / 'autoencoder' / 'z_test.npy'\n",
    "np.save( out, z)"
   ]
  },
  {
   "cell_type": "markdown",
   "metadata": {},
   "source": [
    "#### UMAP-learn"
   ]
  },
  {
   "cell_type": "markdown",
   "metadata": {},
   "source": [
    "##### 2 dims"
   ]
  },
  {
   "cell_type": "code",
   "execution_count": 36,
   "metadata": {
    "ExecuteTime": {
     "end_time": "2020-07-16T01:21:59.328161Z",
     "start_time": "2020-07-16T01:21:13.755874Z"
    }
   },
   "outputs": [
    {
     "name": "stdout",
     "output_type": "stream",
     "text": [
      "UMAP(dens_frac=0.0, dens_lambda=0.0, verbose=True)\n",
      "Construct fuzzy simplicial set\n",
      "Wed Jul 15 18:21:14 2020 Finding Nearest Neighbors\n",
      "Wed Jul 15 18:21:14 2020 Building RP forest with 15 trees\n",
      "Wed Jul 15 18:21:16 2020 parallel NN descent for 15 iterations\n",
      "\t 0  /  15\n",
      "\t 1  /  15\n",
      "\t 2  /  15\n",
      "\t 3  /  15\n",
      "\t 4  /  15\n",
      "\t 5  /  15\n",
      "Wed Jul 15 18:21:28 2020 Finished Nearest Neighbor Search\n",
      "Wed Jul 15 18:21:30 2020 Construct embedding\n",
      "\tcompleted  0  /  200 epochs\n",
      "\tcompleted  20  /  200 epochs\n",
      "\tcompleted  40  /  200 epochs\n",
      "\tcompleted  60  /  200 epochs\n",
      "\tcompleted  80  /  200 epochs\n",
      "\tcompleted  100  /  200 epochs\n",
      "\tcompleted  120  /  200 epochs\n",
      "\tcompleted  140  /  200 epochs\n",
      "\tcompleted  160  /  200 epochs\n",
      "\tcompleted  180  /  200 epochs\n",
      "Wed Jul 15 18:21:58 2020 Finished embedding\n"
     ]
    }
   ],
   "source": [
    "embedder = UMAP(n_components = 2, verbose=True)\n",
    "z_umap = embedder.fit_transform(X_train_flat)"
   ]
  },
  {
   "cell_type": "code",
   "execution_count": 37,
   "metadata": {
    "ExecuteTime": {
     "end_time": "2020-07-16T01:24:03.611516Z",
     "start_time": "2020-07-16T01:21:59.330809Z"
    }
   },
   "outputs": [
    {
     "data": {
      "application/vnd.jupyter.widget-view+json": {
       "model_id": "273e1591e8f94eee9799e5f0fb419f0b",
       "version_major": 2,
       "version_minor": 0
      },
      "text/plain": [
       "HBox(children=(IntProgress(value=0, max=10), HTML(value='')))"
      ]
     },
     "metadata": {},
     "output_type": "display_data"
    },
    {
     "name": "stdout",
     "output_type": "stream",
     "text": [
      "\tcompleted  0  /  100 epochs\n",
      "\tcompleted  10  /  100 epochs\n",
      "\tcompleted  20  /  100 epochs\n",
      "\tcompleted  30  /  100 epochs\n",
      "\tcompleted  40  /  100 epochs\n",
      "\tcompleted  50  /  100 epochs\n",
      "\tcompleted  60  /  100 epochs\n",
      "\tcompleted  70  /  100 epochs\n",
      "\tcompleted  80  /  100 epochs\n",
      "\tcompleted  90  /  100 epochs\n",
      "seconds:  23.63913108711131\n",
      "\tcompleted  0  /  100 epochs\n",
      "\tcompleted  10  /  100 epochs\n",
      "\tcompleted  20  /  100 epochs\n",
      "\tcompleted  30  /  100 epochs\n",
      "\tcompleted  40  /  100 epochs\n",
      "\tcompleted  50  /  100 epochs\n",
      "\tcompleted  60  /  100 epochs\n",
      "\tcompleted  70  /  100 epochs\n",
      "\tcompleted  80  /  100 epochs\n",
      "\tcompleted  90  /  100 epochs\n",
      "seconds:  12.671670091804117\n",
      "\tcompleted  0  /  100 epochs\n",
      "\tcompleted  10  /  100 epochs\n",
      "\tcompleted  20  /  100 epochs\n",
      "\tcompleted  30  /  100 epochs\n",
      "\tcompleted  40  /  100 epochs\n",
      "\tcompleted  50  /  100 epochs\n",
      "\tcompleted  60  /  100 epochs\n",
      "\tcompleted  70  /  100 epochs\n",
      "\tcompleted  80  /  100 epochs\n",
      "\tcompleted  90  /  100 epochs\n",
      "seconds:  11.785255311988294\n",
      "\tcompleted  0  /  100 epochs\n",
      "\tcompleted  10  /  100 epochs\n",
      "\tcompleted  20  /  100 epochs\n",
      "\tcompleted  30  /  100 epochs\n",
      "\tcompleted  40  /  100 epochs\n",
      "\tcompleted  50  /  100 epochs\n",
      "\tcompleted  60  /  100 epochs\n",
      "\tcompleted  70  /  100 epochs\n",
      "\tcompleted  80  /  100 epochs\n",
      "\tcompleted  90  /  100 epochs\n",
      "seconds:  10.623034883989021\n",
      "\tcompleted  0  /  100 epochs\n",
      "\tcompleted  10  /  100 epochs\n",
      "\tcompleted  20  /  100 epochs\n",
      "\tcompleted  30  /  100 epochs\n",
      "\tcompleted  40  /  100 epochs\n",
      "\tcompleted  50  /  100 epochs\n",
      "\tcompleted  60  /  100 epochs\n",
      "\tcompleted  70  /  100 epochs\n",
      "\tcompleted  80  /  100 epochs\n",
      "\tcompleted  90  /  100 epochs\n",
      "seconds:  11.142734012799338\n",
      "\tcompleted  0  /  100 epochs\n",
      "\tcompleted  10  /  100 epochs\n",
      "\tcompleted  20  /  100 epochs\n",
      "\tcompleted  30  /  100 epochs\n",
      "\tcompleted  40  /  100 epochs\n",
      "\tcompleted  50  /  100 epochs\n",
      "\tcompleted  60  /  100 epochs\n",
      "\tcompleted  70  /  100 epochs\n",
      "\tcompleted  80  /  100 epochs\n",
      "\tcompleted  90  /  100 epochs\n",
      "seconds:  10.999330073129386\n",
      "\tcompleted  0  /  100 epochs\n",
      "\tcompleted  10  /  100 epochs\n",
      "\tcompleted  20  /  100 epochs\n",
      "\tcompleted  30  /  100 epochs\n",
      "\tcompleted  40  /  100 epochs\n",
      "\tcompleted  50  /  100 epochs\n",
      "\tcompleted  60  /  100 epochs\n",
      "\tcompleted  70  /  100 epochs\n",
      "\tcompleted  80  /  100 epochs\n",
      "\tcompleted  90  /  100 epochs\n",
      "seconds:  10.5869740920607\n",
      "\tcompleted  0  /  100 epochs\n",
      "\tcompleted  10  /  100 epochs\n",
      "\tcompleted  20  /  100 epochs\n",
      "\tcompleted  30  /  100 epochs\n",
      "\tcompleted  40  /  100 epochs\n",
      "\tcompleted  50  /  100 epochs\n",
      "\tcompleted  60  /  100 epochs\n",
      "\tcompleted  70  /  100 epochs\n",
      "\tcompleted  80  /  100 epochs\n",
      "\tcompleted  90  /  100 epochs\n",
      "seconds:  10.866145686944947\n",
      "\tcompleted  0  /  100 epochs\n",
      "\tcompleted  10  /  100 epochs\n",
      "\tcompleted  20  /  100 epochs\n",
      "\tcompleted  30  /  100 epochs\n",
      "\tcompleted  40  /  100 epochs\n",
      "\tcompleted  50  /  100 epochs\n",
      "\tcompleted  60  /  100 epochs\n",
      "\tcompleted  70  /  100 epochs\n",
      "\tcompleted  80  /  100 epochs\n",
      "\tcompleted  90  /  100 epochs\n",
      "seconds:  10.89576401701197\n",
      "\tcompleted  0  /  100 epochs\n",
      "\tcompleted  10  /  100 epochs\n",
      "\tcompleted  20  /  100 epochs\n",
      "\tcompleted  30  /  100 epochs\n",
      "\tcompleted  40  /  100 epochs\n",
      "\tcompleted  50  /  100 epochs\n",
      "\tcompleted  60  /  100 epochs\n",
      "\tcompleted  70  /  100 epochs\n",
      "\tcompleted  80  /  100 epochs\n",
      "\tcompleted  90  /  100 epochs\n",
      "seconds:  10.852175242034718\n",
      "\n"
     ]
    }
   ],
   "source": [
    "n_repeats = 10\n",
    "times = []\n",
    "for i in tqdm(range(n_repeats)):\n",
    "    start_time = time.monotonic()\n",
    "    embedder.transform(X_test_flat);\n",
    "    end_time = time.monotonic()\n",
    "    print('seconds: ', end_time - start_time)\n",
    "    times.append(end_time - start_time)\n",
    "    projection_speeds.loc[len(projection_speeds)] = ['umap-learn', 2, dataset, end_time - start_time]\n"
   ]
  },
  {
   "cell_type": "code",
   "execution_count": 38,
   "metadata": {
    "ExecuteTime": {
     "end_time": "2020-07-16T01:24:04.168449Z",
     "start_time": "2020-07-16T01:24:03.613274Z"
    }
   },
   "outputs": [
    {
     "data": {
      "text/plain": [
       "PosixPath('/mnt/cube/tsainbur/Projects/github_repos/umap_tf_networks/models/projections/cifar10/64/autoencoder/z_test.npy')"
      ]
     },
     "execution_count": 38,
     "metadata": {},
     "output_type": "execute_result"
    }
   ],
   "source": [
    "out"
   ]
  },
  {
   "cell_type": "code",
   "execution_count": 39,
   "metadata": {
    "ExecuteTime": {
     "end_time": "2020-07-16T01:24:14.892908Z",
     "start_time": "2020-07-16T01:24:04.170266Z"
    }
   },
   "outputs": [
    {
     "name": "stdout",
     "output_type": "stream",
     "text": [
      "\tcompleted  0  /  100 epochs\n",
      "\tcompleted  10  /  100 epochs\n",
      "\tcompleted  20  /  100 epochs\n",
      "\tcompleted  30  /  100 epochs\n",
      "\tcompleted  40  /  100 epochs\n",
      "\tcompleted  50  /  100 epochs\n",
      "\tcompleted  60  /  100 epochs\n",
      "\tcompleted  70  /  100 epochs\n",
      "\tcompleted  80  /  100 epochs\n",
      "\tcompleted  90  /  100 epochs\n"
     ]
    }
   ],
   "source": [
    "z = embedder.transform(X_test_flat);\n",
    "out = MODEL_DIR/'projections' / dataset / 'umap-learn' / 'z_test.npy'\n",
    "ensure_dir(out)\n",
    "np.save(out, z)"
   ]
  },
  {
   "cell_type": "markdown",
   "metadata": {},
   "source": [
    "##### 64 dims"
   ]
  },
  {
   "cell_type": "code",
   "execution_count": 40,
   "metadata": {
    "ExecuteTime": {
     "end_time": "2020-07-16T01:24:55.589497Z",
     "start_time": "2020-07-16T01:24:14.894749Z"
    }
   },
   "outputs": [
    {
     "name": "stdout",
     "output_type": "stream",
     "text": [
      "UMAP(dens_frac=0.0, dens_lambda=0.0, n_components=64, verbose=True)\n",
      "Construct fuzzy simplicial set\n",
      "Wed Jul 15 18:24:15 2020 Finding Nearest Neighbors\n",
      "Wed Jul 15 18:24:15 2020 Building RP forest with 15 trees\n",
      "Wed Jul 15 18:24:17 2020 parallel NN descent for 15 iterations\n",
      "\t 0  /  15\n",
      "\t 1  /  15\n",
      "\t 2  /  15\n",
      "\t 3  /  15\n",
      "\t 4  /  15\n",
      "\t 5  /  15\n",
      "Wed Jul 15 18:24:20 2020 Finished Nearest Neighbor Search\n",
      "Wed Jul 15 18:24:21 2020 Construct embedding\n",
      "\tcompleted  0  /  200 epochs\n",
      "\tcompleted  20  /  200 epochs\n",
      "\tcompleted  40  /  200 epochs\n",
      "\tcompleted  60  /  200 epochs\n",
      "\tcompleted  80  /  200 epochs\n",
      "\tcompleted  100  /  200 epochs\n",
      "\tcompleted  120  /  200 epochs\n",
      "\tcompleted  140  /  200 epochs\n",
      "\tcompleted  160  /  200 epochs\n",
      "\tcompleted  180  /  200 epochs\n",
      "Wed Jul 15 18:24:54 2020 Finished embedding\n"
     ]
    }
   ],
   "source": [
    "embedder = UMAP(n_components = 64, verbose=True)\n",
    "z_umap = embedder.fit_transform(X_train_flat)"
   ]
  },
  {
   "cell_type": "code",
   "execution_count": 41,
   "metadata": {
    "ExecuteTime": {
     "end_time": "2020-07-16T01:26:46.910007Z",
     "start_time": "2020-07-16T01:24:55.591106Z"
    }
   },
   "outputs": [
    {
     "data": {
      "application/vnd.jupyter.widget-view+json": {
       "model_id": "d4361db07bce44d88479931615d2b371",
       "version_major": 2,
       "version_minor": 0
      },
      "text/plain": [
       "HBox(children=(IntProgress(value=0, max=10), HTML(value='')))"
      ]
     },
     "metadata": {},
     "output_type": "display_data"
    },
    {
     "name": "stdout",
     "output_type": "stream",
     "text": [
      "\tcompleted  0  /  100 epochs\n",
      "\tcompleted  10  /  100 epochs\n",
      "\tcompleted  20  /  100 epochs\n",
      "\tcompleted  30  /  100 epochs\n",
      "\tcompleted  40  /  100 epochs\n",
      "\tcompleted  50  /  100 epochs\n",
      "\tcompleted  60  /  100 epochs\n",
      "\tcompleted  70  /  100 epochs\n",
      "\tcompleted  80  /  100 epochs\n",
      "\tcompleted  90  /  100 epochs\n",
      "seconds:  12.545422846917063\n",
      "\tcompleted  0  /  100 epochs\n",
      "\tcompleted  10  /  100 epochs\n",
      "\tcompleted  20  /  100 epochs\n",
      "\tcompleted  30  /  100 epochs\n",
      "\tcompleted  40  /  100 epochs\n",
      "\tcompleted  50  /  100 epochs\n",
      "\tcompleted  60  /  100 epochs\n",
      "\tcompleted  70  /  100 epochs\n",
      "\tcompleted  80  /  100 epochs\n",
      "\tcompleted  90  /  100 epochs\n",
      "seconds:  11.244350783061236\n",
      "\tcompleted  0  /  100 epochs\n",
      "\tcompleted  10  /  100 epochs\n",
      "\tcompleted  20  /  100 epochs\n",
      "\tcompleted  30  /  100 epochs\n",
      "\tcompleted  40  /  100 epochs\n",
      "\tcompleted  50  /  100 epochs\n",
      "\tcompleted  60  /  100 epochs\n",
      "\tcompleted  70  /  100 epochs\n",
      "\tcompleted  80  /  100 epochs\n",
      "\tcompleted  90  /  100 epochs\n",
      "seconds:  10.764399299863726\n",
      "\tcompleted  0  /  100 epochs\n",
      "\tcompleted  10  /  100 epochs\n",
      "\tcompleted  20  /  100 epochs\n",
      "\tcompleted  30  /  100 epochs\n",
      "\tcompleted  40  /  100 epochs\n",
      "\tcompleted  50  /  100 epochs\n",
      "\tcompleted  60  /  100 epochs\n",
      "\tcompleted  70  /  100 epochs\n",
      "\tcompleted  80  /  100 epochs\n",
      "\tcompleted  90  /  100 epochs\n",
      "seconds:  10.983685049926862\n",
      "\tcompleted  0  /  100 epochs\n",
      "\tcompleted  10  /  100 epochs\n",
      "\tcompleted  20  /  100 epochs\n",
      "\tcompleted  30  /  100 epochs\n",
      "\tcompleted  40  /  100 epochs\n",
      "\tcompleted  50  /  100 epochs\n",
      "\tcompleted  60  /  100 epochs\n",
      "\tcompleted  70  /  100 epochs\n",
      "\tcompleted  80  /  100 epochs\n",
      "\tcompleted  90  /  100 epochs\n",
      "seconds:  10.736404380062595\n",
      "\tcompleted  0  /  100 epochs\n",
      "\tcompleted  10  /  100 epochs\n",
      "\tcompleted  20  /  100 epochs\n",
      "\tcompleted  30  /  100 epochs\n",
      "\tcompleted  40  /  100 epochs\n",
      "\tcompleted  50  /  100 epochs\n",
      "\tcompleted  60  /  100 epochs\n",
      "\tcompleted  70  /  100 epochs\n",
      "\tcompleted  80  /  100 epochs\n",
      "\tcompleted  90  /  100 epochs\n",
      "seconds:  10.930348282912746\n",
      "\tcompleted  0  /  100 epochs\n",
      "\tcompleted  10  /  100 epochs\n",
      "\tcompleted  20  /  100 epochs\n",
      "\tcompleted  30  /  100 epochs\n",
      "\tcompleted  40  /  100 epochs\n",
      "\tcompleted  50  /  100 epochs\n",
      "\tcompleted  60  /  100 epochs\n",
      "\tcompleted  70  /  100 epochs\n",
      "\tcompleted  80  /  100 epochs\n",
      "\tcompleted  90  /  100 epochs\n",
      "seconds:  10.677905193064362\n",
      "\tcompleted  0  /  100 epochs\n",
      "\tcompleted  10  /  100 epochs\n",
      "\tcompleted  20  /  100 epochs\n",
      "\tcompleted  30  /  100 epochs\n",
      "\tcompleted  40  /  100 epochs\n",
      "\tcompleted  50  /  100 epochs\n",
      "\tcompleted  60  /  100 epochs\n",
      "\tcompleted  70  /  100 epochs\n",
      "\tcompleted  80  /  100 epochs\n",
      "\tcompleted  90  /  100 epochs\n",
      "seconds:  11.06454178597778\n",
      "\tcompleted  0  /  100 epochs\n",
      "\tcompleted  10  /  100 epochs\n",
      "\tcompleted  20  /  100 epochs\n",
      "\tcompleted  30  /  100 epochs\n",
      "\tcompleted  40  /  100 epochs\n",
      "\tcompleted  50  /  100 epochs\n",
      "\tcompleted  60  /  100 epochs\n",
      "\tcompleted  70  /  100 epochs\n",
      "\tcompleted  80  /  100 epochs\n",
      "\tcompleted  90  /  100 epochs\n",
      "seconds:  10.807887794915587\n",
      "\tcompleted  0  /  100 epochs\n",
      "\tcompleted  10  /  100 epochs\n",
      "\tcompleted  20  /  100 epochs\n",
      "\tcompleted  30  /  100 epochs\n",
      "\tcompleted  40  /  100 epochs\n",
      "\tcompleted  50  /  100 epochs\n",
      "\tcompleted  60  /  100 epochs\n",
      "\tcompleted  70  /  100 epochs\n",
      "\tcompleted  80  /  100 epochs\n",
      "\tcompleted  90  /  100 epochs\n",
      "seconds:  11.4486299471464\n",
      "\n"
     ]
    }
   ],
   "source": [
    "n_repeats = 10\n",
    "times = []\n",
    "for i in tqdm(range(n_repeats)):\n",
    "    start_time = time.monotonic()\n",
    "    embedder.transform(X_test_flat);\n",
    "    end_time = time.monotonic()\n",
    "    print('seconds: ', end_time - start_time)\n",
    "    projection_speeds.loc[len(projection_speeds)] = ['umap-learn', 64, dataset, end_time - start_time]\n"
   ]
  },
  {
   "cell_type": "code",
   "execution_count": 42,
   "metadata": {
    "ExecuteTime": {
     "end_time": "2020-07-16T01:26:58.467565Z",
     "start_time": "2020-07-16T01:26:46.911793Z"
    }
   },
   "outputs": [
    {
     "name": "stdout",
     "output_type": "stream",
     "text": [
      "\tcompleted  0  /  100 epochs\n",
      "\tcompleted  10  /  100 epochs\n",
      "\tcompleted  20  /  100 epochs\n",
      "\tcompleted  30  /  100 epochs\n",
      "\tcompleted  40  /  100 epochs\n",
      "\tcompleted  50  /  100 epochs\n",
      "\tcompleted  60  /  100 epochs\n",
      "\tcompleted  70  /  100 epochs\n",
      "\tcompleted  80  /  100 epochs\n",
      "\tcompleted  90  /  100 epochs\n"
     ]
    }
   ],
   "source": [
    "z = embedder.transform(X_test_flat);\n",
    "out = MODEL_DIR/'projections' / dataset / '64' / 'umap-learn' / 'z_test.npy'\n",
    "ensure_dir(out)\n",
    "np.save(out, z)"
   ]
  },
  {
   "cell_type": "markdown",
   "metadata": {},
   "source": [
    "#### PCA"
   ]
  },
  {
   "cell_type": "markdown",
   "metadata": {},
   "source": [
    "##### 2 dims"
   ]
  },
  {
   "cell_type": "code",
   "execution_count": 43,
   "metadata": {
    "ExecuteTime": {
     "end_time": "2020-07-16T01:26:59.764803Z",
     "start_time": "2020-07-16T01:26:58.469080Z"
    }
   },
   "outputs": [],
   "source": [
    "pca = PCA(n_components=2)\n",
    "z = pca.fit_transform(X_train_flat)"
   ]
  },
  {
   "cell_type": "code",
   "execution_count": 44,
   "metadata": {
    "ExecuteTime": {
     "end_time": "2020-07-16T01:27:00.507222Z",
     "start_time": "2020-07-16T01:26:59.766247Z"
    }
   },
   "outputs": [
    {
     "data": {
      "application/vnd.jupyter.widget-view+json": {
       "model_id": "9d01c2737e0d40dbb1da65bc98f3add0",
       "version_major": 2,
       "version_minor": 0
      },
      "text/plain": [
       "HBox(children=(IntProgress(value=0, max=10), HTML(value='')))"
      ]
     },
     "metadata": {},
     "output_type": "display_data"
    },
    {
     "name": "stdout",
     "output_type": "stream",
     "text": [
      "seconds:  0.05264236801303923\n",
      "seconds:  0.06321813096292317\n",
      "seconds:  0.06407096493057907\n",
      "seconds:  0.07108574593439698\n",
      "seconds:  0.061707987915724516\n",
      "seconds:  0.06539362319745123\n",
      "seconds:  0.06713679293170571\n",
      "seconds:  0.061284495051950216\n",
      "seconds:  0.06372776487842202\n",
      "seconds:  0.0635275999084115\n",
      "\n"
     ]
    }
   ],
   "source": [
    "n_repeats = 10\n",
    "times = []\n",
    "for i in tqdm(range(n_repeats)):\n",
    "    start_time = time.monotonic()\n",
    "    pca.transform(X_test_flat);\n",
    "    end_time = time.monotonic()\n",
    "    print('seconds: ', end_time - start_time)\n",
    "    times.append(end_time - start_time)\n",
    "    projection_speeds.loc[len(projection_speeds)] = ['pca', 2, dataset, end_time - start_time]\n"
   ]
  },
  {
   "cell_type": "code",
   "execution_count": 45,
   "metadata": {
    "ExecuteTime": {
     "end_time": "2020-07-16T01:27:00.618003Z",
     "start_time": "2020-07-16T01:27:00.508529Z"
    }
   },
   "outputs": [],
   "source": [
    "z = pca.transform(X_test_flat);\n",
    "out = MODEL_DIR/'projections' / dataset / 'PCA' / 'z_test.npy'\n",
    "ensure_dir(out)\n",
    "np.save(out, z)"
   ]
  },
  {
   "cell_type": "markdown",
   "metadata": {},
   "source": [
    "##### 64 dims"
   ]
  },
  {
   "cell_type": "code",
   "execution_count": 46,
   "metadata": {
    "ExecuteTime": {
     "end_time": "2020-07-16T01:27:03.225887Z",
     "start_time": "2020-07-16T01:27:00.619333Z"
    }
   },
   "outputs": [],
   "source": [
    "pca = PCA(n_components=64)\n",
    "z = pca.fit_transform(X_train_flat)"
   ]
  },
  {
   "cell_type": "code",
   "execution_count": 47,
   "metadata": {
    "ExecuteTime": {
     "end_time": "2020-07-16T01:27:04.086405Z",
     "start_time": "2020-07-16T01:27:03.227383Z"
    }
   },
   "outputs": [
    {
     "data": {
      "application/vnd.jupyter.widget-view+json": {
       "model_id": "dfcdc60048bd432899e275e8a1b788a0",
       "version_major": 2,
       "version_minor": 0
      },
      "text/plain": [
       "HBox(children=(IntProgress(value=0, max=10), HTML(value='')))"
      ]
     },
     "metadata": {},
     "output_type": "display_data"
    },
    {
     "name": "stdout",
     "output_type": "stream",
     "text": [
      "seconds:  0.06336713512428105\n",
      "seconds:  0.07780653890222311\n",
      "seconds:  0.07852321001701057\n",
      "seconds:  0.07353859581053257\n",
      "seconds:  0.0793257721234113\n",
      "seconds:  0.07759653218090534\n",
      "seconds:  0.076399568002671\n",
      "seconds:  0.07381777395494282\n",
      "seconds:  0.07876881584525108\n",
      "seconds:  0.07799441507086158\n",
      "\n"
     ]
    }
   ],
   "source": [
    "n_repeats = 10\n",
    "times = []\n",
    "for i in tqdm(range(n_repeats)):\n",
    "    start_time = time.monotonic()\n",
    "    pca.transform(X_test_flat);\n",
    "    end_time = time.monotonic()\n",
    "    print('seconds: ', end_time - start_time)\n",
    "    times.append(end_time - start_time)\n",
    "    projection_speeds.loc[len(projection_speeds)] = ['pca', 64, dataset, end_time - start_time]\n"
   ]
  },
  {
   "cell_type": "code",
   "execution_count": 48,
   "metadata": {
    "ExecuteTime": {
     "end_time": "2020-07-16T01:27:04.212437Z",
     "start_time": "2020-07-16T01:27:04.087694Z"
    }
   },
   "outputs": [],
   "source": [
    "z = pca.transform(X_test_flat);\n",
    "out = MODEL_DIR/'projections' / dataset / \"64\" / 'PCA'  / 'z_test.npy'\n",
    "ensure_dir(out)\n",
    "np.save(out, z)"
   ]
  },
  {
   "cell_type": "markdown",
   "metadata": {},
   "source": [
    "#### TSNE"
   ]
  },
  {
   "cell_type": "markdown",
   "metadata": {},
   "source": [
    "##### 2 dims"
   ]
  },
  {
   "cell_type": "code",
   "execution_count": 49,
   "metadata": {
    "ExecuteTime": {
     "end_time": "2020-07-16T01:27:04.260680Z",
     "start_time": "2020-07-16T01:27:04.213904Z"
    }
   },
   "outputs": [],
   "source": [
    "tsne = TSNE(\n",
    "    n_components = 2,\n",
    "    n_jobs=32,\n",
    "    verbose=True\n",
    ")"
   ]
  },
  {
   "cell_type": "code",
   "execution_count": 50,
   "metadata": {
    "ExecuteTime": {
     "end_time": "2020-07-16T01:29:27.185922Z",
     "start_time": "2020-07-16T01:27:04.262686Z"
    }
   },
   "outputs": [
    {
     "name": "stderr",
     "output_type": "stream",
     "text": [
      "/mnt/cube/tsainbur/conda_envs/tpy3/lib/python3.6/site-packages/sklearn/base.py:213: FutureWarning: From version 0.24, get_params will raise an AttributeError if a parameter cannot be retrieved as an instance attribute. Previously it would return None.\n",
      "  FutureWarning)\n"
     ]
    },
    {
     "name": "stdout",
     "output_type": "stream",
     "text": [
      "--------------------------------------------------------------------------------\n",
      "TSNE(n_jobs=32, neighbors=None, verbose=True)\n",
      "--------------------------------------------------------------------------------\n",
      "===> Finding 90 nearest neighbors using Annoy approximate search using euclidean distance...\n",
      "   --> Time elapsed: 82.68 seconds\n",
      "===> Calculating affinity matrix...\n",
      "   --> Time elapsed: 0.37 seconds\n",
      "===> Calculating PCA-based initialization...\n",
      "   --> Time elapsed: 1.30 seconds\n",
      "===> Running optimization with exaggeration=12.00, lr=3333.33 for 250 iterations...\n",
      "Iteration   50, KL divergence 6.7705, 50 iterations in 2.1137 sec\n",
      "Iteration  100, KL divergence 6.3256, 50 iterations in 3.5605 sec\n",
      "Iteration  150, KL divergence 6.3298, 50 iterations in 5.8472 sec\n",
      "Iteration  200, KL divergence 6.3539, 50 iterations in 10.0566 sec\n",
      "Iteration  250, KL divergence 6.3440, 50 iterations in 7.0360 sec\n",
      "   --> Time elapsed: 28.62 seconds\n",
      "===> Running optimization with exaggeration=1.00, lr=3333.33 for 500 iterations...\n",
      "Iteration   50, KL divergence 4.5312, 50 iterations in 1.6776 sec\n",
      "Iteration  100, KL divergence 4.2752, 50 iterations in 1.4911 sec\n",
      "Iteration  150, KL divergence 4.1529, 50 iterations in 1.4555 sec\n",
      "Iteration  200, KL divergence 4.0782, 50 iterations in 1.7327 sec\n",
      "Iteration  250, KL divergence 4.0269, 50 iterations in 2.4121 sec\n",
      "Iteration  300, KL divergence 3.9893, 50 iterations in 2.7517 sec\n",
      "Iteration  350, KL divergence 3.9608, 50 iterations in 3.7041 sec\n",
      "Iteration  400, KL divergence 3.9384, 50 iterations in 3.9219 sec\n",
      "Iteration  450, KL divergence 3.9204, 50 iterations in 5.2721 sec\n",
      "Iteration  500, KL divergence 3.9055, 50 iterations in 5.2850 sec\n",
      "   --> Time elapsed: 29.71 seconds\n"
     ]
    }
   ],
   "source": [
    "embedding_train = tsne.fit(X_train_flat)"
   ]
  },
  {
   "cell_type": "code",
   "execution_count": 51,
   "metadata": {
    "ExecuteTime": {
     "end_time": "2020-07-16T01:31:27.800261Z",
     "start_time": "2020-07-16T01:29:27.187410Z"
    }
   },
   "outputs": [
    {
     "data": {
      "application/vnd.jupyter.widget-view+json": {
       "model_id": "2b8a705a3f5d4e2880f8bfc1a7db2ede",
       "version_major": 2,
       "version_minor": 0
      },
      "text/plain": [
       "HBox(children=(IntProgress(value=0, max=10), HTML(value='')))"
      ]
     },
     "metadata": {},
     "output_type": "display_data"
    },
    {
     "name": "stdout",
     "output_type": "stream",
     "text": [
      "===> Finding 15 nearest neighbors in existing embedding using Annoy approximate search...\n",
      "   --> Time elapsed: 10.55 seconds\n",
      "===> Calculating affinity matrix...\n",
      "   --> Time elapsed: 0.03 seconds\n",
      "===> Running optimization with exaggeration=4.00, lr=0.10 for 0 iterations...\n",
      "   --> Time elapsed: 0.00 seconds\n",
      "===> Running optimization with exaggeration=1.50, lr=0.10 for 250 iterations...\n",
      "Iteration   50, KL divergence 193568.7237, 50 iterations in 0.2706 sec\n",
      "Iteration  100, KL divergence 193530.0377, 50 iterations in 0.2779 sec\n",
      "Iteration  150, KL divergence 193524.6180, 50 iterations in 0.2689 sec\n",
      "Iteration  200, KL divergence 193529.3813, 50 iterations in 0.2908 sec\n",
      "Iteration  250, KL divergence 193539.1925, 50 iterations in 0.2672 sec\n",
      "   --> Time elapsed: 1.38 seconds\n",
      "seconds:  12.179296564077958\n",
      "===> Finding 15 nearest neighbors in existing embedding using Annoy approximate search...\n",
      "   --> Time elapsed: 10.55 seconds\n",
      "===> Calculating affinity matrix...\n",
      "   --> Time elapsed: 0.02 seconds\n",
      "===> Running optimization with exaggeration=4.00, lr=0.10 for 0 iterations...\n",
      "   --> Time elapsed: 0.00 seconds\n",
      "===> Running optimization with exaggeration=1.50, lr=0.10 for 250 iterations...\n",
      "Iteration   50, KL divergence 193568.7237, 50 iterations in 0.2831 sec\n",
      "Iteration  100, KL divergence 193530.0377, 50 iterations in 0.2673 sec\n",
      "Iteration  150, KL divergence 193524.6180, 50 iterations in 0.2855 sec\n",
      "Iteration  200, KL divergence 193529.3813, 50 iterations in 0.2923 sec\n",
      "Iteration  250, KL divergence 193539.1925, 50 iterations in 0.3190 sec\n",
      "   --> Time elapsed: 1.45 seconds\n",
      "seconds:  12.048470572102815\n",
      "===> Finding 15 nearest neighbors in existing embedding using Annoy approximate search...\n",
      "   --> Time elapsed: 10.55 seconds\n",
      "===> Calculating affinity matrix...\n",
      "   --> Time elapsed: 0.03 seconds\n",
      "===> Running optimization with exaggeration=4.00, lr=0.10 for 0 iterations...\n",
      "   --> Time elapsed: 0.00 seconds\n",
      "===> Running optimization with exaggeration=1.50, lr=0.10 for 250 iterations...\n",
      "Iteration   50, KL divergence 193568.7237, 50 iterations in 0.2989 sec\n",
      "Iteration  100, KL divergence 193530.0377, 50 iterations in 0.2757 sec\n",
      "Iteration  150, KL divergence 193524.6180, 50 iterations in 0.2601 sec\n",
      "Iteration  200, KL divergence 193529.3813, 50 iterations in 0.2619 sec\n",
      "Iteration  250, KL divergence 193539.1925, 50 iterations in 0.2874 sec\n",
      "   --> Time elapsed: 1.38 seconds\n",
      "seconds:  11.98752627405338\n",
      "===> Finding 15 nearest neighbors in existing embedding using Annoy approximate search...\n",
      "   --> Time elapsed: 10.78 seconds\n",
      "===> Calculating affinity matrix...\n",
      "   --> Time elapsed: 0.03 seconds\n",
      "===> Running optimization with exaggeration=4.00, lr=0.10 for 0 iterations...\n",
      "   --> Time elapsed: 0.00 seconds\n",
      "===> Running optimization with exaggeration=1.50, lr=0.10 for 250 iterations...\n",
      "Iteration   50, KL divergence 193568.7237, 50 iterations in 0.2686 sec\n",
      "Iteration  100, KL divergence 193530.0377, 50 iterations in 0.2934 sec\n",
      "Iteration  150, KL divergence 193524.6180, 50 iterations in 0.2783 sec\n",
      "Iteration  200, KL divergence 193529.3813, 50 iterations in 0.2725 sec\n",
      "Iteration  250, KL divergence 193539.1925, 50 iterations in 0.2692 sec\n",
      "   --> Time elapsed: 1.38 seconds\n",
      "seconds:  12.218777348054573\n",
      "===> Finding 15 nearest neighbors in existing embedding using Annoy approximate search...\n",
      "   --> Time elapsed: 10.42 seconds\n",
      "===> Calculating affinity matrix...\n",
      "   --> Time elapsed: 0.03 seconds\n",
      "===> Running optimization with exaggeration=4.00, lr=0.10 for 0 iterations...\n",
      "   --> Time elapsed: 0.00 seconds\n",
      "===> Running optimization with exaggeration=1.50, lr=0.10 for 250 iterations...\n",
      "Iteration   50, KL divergence 193568.7237, 50 iterations in 0.2857 sec\n",
      "Iteration  100, KL divergence 193530.0377, 50 iterations in 0.2602 sec\n",
      "Iteration  150, KL divergence 193524.6180, 50 iterations in 0.2602 sec\n",
      "Iteration  200, KL divergence 193529.3813, 50 iterations in 0.2957 sec\n",
      "Iteration  250, KL divergence 193539.1925, 50 iterations in 0.2533 sec\n",
      "   --> Time elapsed: 1.36 seconds\n",
      "seconds:  11.82515251613222\n",
      "===> Finding 15 nearest neighbors in existing embedding using Annoy approximate search...\n",
      "   --> Time elapsed: 10.49 seconds\n",
      "===> Calculating affinity matrix...\n",
      "   --> Time elapsed: 0.03 seconds\n",
      "===> Running optimization with exaggeration=4.00, lr=0.10 for 0 iterations...\n",
      "   --> Time elapsed: 0.00 seconds\n",
      "===> Running optimization with exaggeration=1.50, lr=0.10 for 250 iterations...\n",
      "Iteration   50, KL divergence 193568.7237, 50 iterations in 0.2756 sec\n",
      "Iteration  100, KL divergence 193530.0377, 50 iterations in 0.2911 sec\n",
      "Iteration  150, KL divergence 193524.6180, 50 iterations in 0.2861 sec\n",
      "Iteration  200, KL divergence 193529.3813, 50 iterations in 0.2618 sec\n",
      "Iteration  250, KL divergence 193539.1925, 50 iterations in 0.2564 sec\n",
      "   --> Time elapsed: 1.37 seconds\n",
      "seconds:  11.949304420035332\n",
      "===> Finding 15 nearest neighbors in existing embedding using Annoy approximate search...\n",
      "   --> Time elapsed: 10.46 seconds\n",
      "===> Calculating affinity matrix...\n",
      "   --> Time elapsed: 0.03 seconds\n",
      "===> Running optimization with exaggeration=4.00, lr=0.10 for 0 iterations...\n",
      "   --> Time elapsed: 0.00 seconds\n",
      "===> Running optimization with exaggeration=1.50, lr=0.10 for 250 iterations...\n",
      "Iteration   50, KL divergence 193568.7237, 50 iterations in 0.2669 sec\n",
      "Iteration  100, KL divergence 193530.0377, 50 iterations in 0.2822 sec\n",
      "Iteration  150, KL divergence 193524.6180, 50 iterations in 0.2791 sec\n",
      "Iteration  200, KL divergence 193529.3813, 50 iterations in 0.2864 sec\n",
      "Iteration  250, KL divergence 193539.1925, 50 iterations in 0.2799 sec\n",
      "   --> Time elapsed: 1.39 seconds\n",
      "seconds:  11.923503878060728\n",
      "===> Finding 15 nearest neighbors in existing embedding using Annoy approximate search...\n",
      "   --> Time elapsed: 10.41 seconds\n",
      "===> Calculating affinity matrix...\n",
      "   --> Time elapsed: 0.03 seconds\n",
      "===> Running optimization with exaggeration=4.00, lr=0.10 for 0 iterations...\n",
      "   --> Time elapsed: 0.00 seconds\n",
      "===> Running optimization with exaggeration=1.50, lr=0.10 for 250 iterations...\n",
      "Iteration   50, KL divergence 193568.7237, 50 iterations in 0.2811 sec\n",
      "Iteration  100, KL divergence 193530.0377, 50 iterations in 0.3120 sec\n",
      "Iteration  150, KL divergence 193524.6180, 50 iterations in 0.2808 sec\n",
      "Iteration  200, KL divergence 193529.3813, 50 iterations in 0.2845 sec\n",
      "Iteration  250, KL divergence 193539.1925, 50 iterations in 0.2945 sec\n",
      "   --> Time elapsed: 1.45 seconds\n",
      "seconds:  11.913524968083948\n",
      "===> Finding 15 nearest neighbors in existing embedding using Annoy approximate search...\n",
      "   --> Time elapsed: 10.55 seconds\n",
      "===> Calculating affinity matrix...\n",
      "   --> Time elapsed: 0.03 seconds\n",
      "===> Running optimization with exaggeration=4.00, lr=0.10 for 0 iterations...\n",
      "   --> Time elapsed: 0.00 seconds\n",
      "===> Running optimization with exaggeration=1.50, lr=0.10 for 250 iterations...\n",
      "Iteration   50, KL divergence 193568.7237, 50 iterations in 0.2857 sec\n",
      "Iteration  100, KL divergence 193530.0377, 50 iterations in 0.2681 sec\n",
      "Iteration  150, KL divergence 193524.6180, 50 iterations in 0.2961 sec\n",
      "Iteration  200, KL divergence 193529.3813, 50 iterations in 0.2826 sec\n",
      "Iteration  250, KL divergence 193539.1925, 50 iterations in 0.2919 sec\n",
      "   --> Time elapsed: 1.43 seconds\n",
      "seconds:  12.030830077128485\n",
      "===> Finding 15 nearest neighbors in existing embedding using Annoy approximate search...\n",
      "   --> Time elapsed: 10.40 seconds\n",
      "===> Calculating affinity matrix...\n",
      "   --> Time elapsed: 0.03 seconds\n",
      "===> Running optimization with exaggeration=4.00, lr=0.10 for 0 iterations...\n",
      "   --> Time elapsed: 0.00 seconds\n",
      "===> Running optimization with exaggeration=1.50, lr=0.10 for 250 iterations...\n",
      "Iteration   50, KL divergence 193568.7237, 50 iterations in 0.3179 sec\n",
      "Iteration  100, KL divergence 193530.0377, 50 iterations in 0.3023 sec\n",
      "Iteration  150, KL divergence 193524.6180, 50 iterations in 0.2720 sec\n",
      "Iteration  200, KL divergence 193529.3813, 50 iterations in 0.2664 sec\n",
      "Iteration  250, KL divergence 193539.1925, 50 iterations in 0.2789 sec\n",
      "   --> Time elapsed: 1.44 seconds\n",
      "seconds:  11.892353544943035\n",
      "\n"
     ]
    }
   ],
   "source": [
    "n_repeats = 10\n",
    "times = []\n",
    "for i in tqdm(range(n_repeats)):\n",
    "    start_time = time.monotonic()\n",
    "    embedding_train.transform(X_test_flat);\n",
    "    end_time = time.monotonic()\n",
    "    print('seconds: ', end_time - start_time)\n",
    "    times.append(end_time - start_time)\n",
    "    projection_speeds.loc[len(projection_speeds)] = ['TSNE', 2, dataset, end_time - start_time]"
   ]
  },
  {
   "cell_type": "code",
   "execution_count": 52,
   "metadata": {
    "ExecuteTime": {
     "end_time": "2020-07-16T01:31:40.182450Z",
     "start_time": "2020-07-16T01:31:27.803528Z"
    }
   },
   "outputs": [
    {
     "name": "stdout",
     "output_type": "stream",
     "text": [
      "===> Finding 15 nearest neighbors in existing embedding using Annoy approximate search...\n",
      "   --> Time elapsed: 10.33 seconds\n",
      "===> Calculating affinity matrix...\n",
      "   --> Time elapsed: 0.03 seconds\n",
      "===> Running optimization with exaggeration=4.00, lr=0.10 for 0 iterations...\n",
      "   --> Time elapsed: 0.00 seconds\n",
      "===> Running optimization with exaggeration=1.50, lr=0.10 for 250 iterations...\n",
      "Iteration   50, KL divergence 193568.7237, 50 iterations in 0.2933 sec\n",
      "Iteration  100, KL divergence 193530.0377, 50 iterations in 0.2967 sec\n",
      "Iteration  150, KL divergence 193524.6180, 50 iterations in 0.3119 sec\n",
      "Iteration  200, KL divergence 193529.3813, 50 iterations in 0.2506 sec\n",
      "Iteration  250, KL divergence 193539.1925, 50 iterations in 0.2861 sec\n",
      "   --> Time elapsed: 1.44 seconds\n"
     ]
    }
   ],
   "source": [
    "z = embedding_train.transform(X_test_flat);\n",
    "out = MODEL_DIR/'projections' / dataset / 'TSNE' / 'z_test.npy'\n",
    "ensure_dir(out)\n",
    "np.save(out, z)"
   ]
  },
  {
   "cell_type": "code",
   "execution_count": 53,
   "metadata": {
    "ExecuteTime": {
     "end_time": "2020-07-16T01:31:40.265387Z",
     "start_time": "2020-07-16T01:31:40.184671Z"
    }
   },
   "outputs": [
    {
     "data": {
      "text/html": [
       "<div>\n",
       "<style scoped>\n",
       "    .dataframe tbody tr th:only-of-type {\n",
       "        vertical-align: middle;\n",
       "    }\n",
       "\n",
       "    .dataframe tbody tr th {\n",
       "        vertical-align: top;\n",
       "    }\n",
       "\n",
       "    .dataframe thead th {\n",
       "        text-align: right;\n",
       "    }\n",
       "</style>\n",
       "<table border=\"1\" class=\"dataframe\">\n",
       "  <thead>\n",
       "    <tr style=\"text-align: right;\">\n",
       "      <th></th>\n",
       "      <th>method_</th>\n",
       "      <th>dimensions</th>\n",
       "      <th>dataset</th>\n",
       "      <th>speed</th>\n",
       "    </tr>\n",
       "  </thead>\n",
       "  <tbody>\n",
       "    <tr>\n",
       "      <th>0</th>\n",
       "      <td>network</td>\n",
       "      <td>2</td>\n",
       "      <td>cifar10</td>\n",
       "      <td>1.874785</td>\n",
       "    </tr>\n",
       "    <tr>\n",
       "      <th>1</th>\n",
       "      <td>network</td>\n",
       "      <td>2</td>\n",
       "      <td>cifar10</td>\n",
       "      <td>0.379477</td>\n",
       "    </tr>\n",
       "    <tr>\n",
       "      <th>2</th>\n",
       "      <td>network</td>\n",
       "      <td>2</td>\n",
       "      <td>cifar10</td>\n",
       "      <td>0.373412</td>\n",
       "    </tr>\n",
       "    <tr>\n",
       "      <th>3</th>\n",
       "      <td>network</td>\n",
       "      <td>2</td>\n",
       "      <td>cifar10</td>\n",
       "      <td>0.375500</td>\n",
       "    </tr>\n",
       "    <tr>\n",
       "      <th>4</th>\n",
       "      <td>network</td>\n",
       "      <td>2</td>\n",
       "      <td>cifar10</td>\n",
       "      <td>0.370220</td>\n",
       "    </tr>\n",
       "    <tr>\n",
       "      <th>...</th>\n",
       "      <td>...</td>\n",
       "      <td>...</td>\n",
       "      <td>...</td>\n",
       "      <td>...</td>\n",
       "    </tr>\n",
       "    <tr>\n",
       "      <th>105</th>\n",
       "      <td>TSNE</td>\n",
       "      <td>2</td>\n",
       "      <td>cifar10</td>\n",
       "      <td>11.949304</td>\n",
       "    </tr>\n",
       "    <tr>\n",
       "      <th>106</th>\n",
       "      <td>TSNE</td>\n",
       "      <td>2</td>\n",
       "      <td>cifar10</td>\n",
       "      <td>11.923504</td>\n",
       "    </tr>\n",
       "    <tr>\n",
       "      <th>107</th>\n",
       "      <td>TSNE</td>\n",
       "      <td>2</td>\n",
       "      <td>cifar10</td>\n",
       "      <td>11.913525</td>\n",
       "    </tr>\n",
       "    <tr>\n",
       "      <th>108</th>\n",
       "      <td>TSNE</td>\n",
       "      <td>2</td>\n",
       "      <td>cifar10</td>\n",
       "      <td>12.030830</td>\n",
       "    </tr>\n",
       "    <tr>\n",
       "      <th>109</th>\n",
       "      <td>TSNE</td>\n",
       "      <td>2</td>\n",
       "      <td>cifar10</td>\n",
       "      <td>11.892354</td>\n",
       "    </tr>\n",
       "  </tbody>\n",
       "</table>\n",
       "<p>110 rows × 4 columns</p>\n",
       "</div>"
      ],
      "text/plain": [
       "     method_ dimensions  dataset      speed\n",
       "0    network          2  cifar10   1.874785\n",
       "1    network          2  cifar10   0.379477\n",
       "2    network          2  cifar10   0.373412\n",
       "3    network          2  cifar10   0.375500\n",
       "4    network          2  cifar10   0.370220\n",
       "..       ...        ...      ...        ...\n",
       "105     TSNE          2  cifar10  11.949304\n",
       "106     TSNE          2  cifar10  11.923504\n",
       "107     TSNE          2  cifar10  11.913525\n",
       "108     TSNE          2  cifar10  12.030830\n",
       "109     TSNE          2  cifar10  11.892354\n",
       "\n",
       "[110 rows x 4 columns]"
      ]
     },
     "execution_count": 53,
     "metadata": {},
     "output_type": "execute_result"
    }
   ],
   "source": [
    "projection_speeds"
   ]
  },
  {
   "cell_type": "markdown",
   "metadata": {},
   "source": [
    "### Save"
   ]
  },
  {
   "cell_type": "code",
   "execution_count": 54,
   "metadata": {
    "ExecuteTime": {
     "end_time": "2020-07-16T01:31:40.371795Z",
     "start_time": "2020-07-16T01:31:40.275229Z"
    }
   },
   "outputs": [],
   "source": [
    "save_loc = DATA_DIR / 'projection_speeds' / (dataset + '.pickle')\n",
    "ensure_dir(save_loc)\n",
    "projection_speeds.to_pickle(save_loc)"
   ]
  },
  {
   "cell_type": "code",
   "execution_count": null,
   "metadata": {},
   "outputs": [],
   "source": []
  }
 ],
 "metadata": {
  "kernelspec": {
   "display_name": "Python 3",
   "language": "python",
   "name": "python3"
  },
  "language_info": {
   "codemirror_mode": {
    "name": "ipython",
    "version": 3
   },
   "file_extension": ".py",
   "mimetype": "text/x-python",
   "name": "python",
   "nbconvert_exporter": "python",
   "pygments_lexer": "ipython3",
   "version": "3.6.7"
  }
 },
 "nbformat": 4,
 "nbformat_minor": 2
}
