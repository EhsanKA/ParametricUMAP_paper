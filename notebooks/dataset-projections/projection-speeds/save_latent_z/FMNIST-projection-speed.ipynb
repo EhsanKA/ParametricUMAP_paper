{
 "cells": [
  {
   "cell_type": "markdown",
   "metadata": {},
   "source": [
    "#### Outline\n",
    "- for each dataset: \n",
    "    - load dataset; \n",
    "    - for each network: \n",
    "        - load network\n",
    "        - project 1000 test dataset samples\n",
    "        - save to metric dataframe"
   ]
  },
  {
   "cell_type": "code",
   "execution_count": 1,
   "metadata": {
    "ExecuteTime": {
     "end_time": "2020-07-16T01:11:20.549985Z",
     "start_time": "2020-07-16T01:11:20.538274Z"
    }
   },
   "outputs": [],
   "source": [
    "# reload packages\n",
    "%load_ext autoreload\n",
    "%autoreload 2"
   ]
  },
  {
   "cell_type": "markdown",
   "metadata": {},
   "source": [
    "### Choose GPU (this may not be needed on your computer)"
   ]
  },
  {
   "cell_type": "code",
   "execution_count": 2,
   "metadata": {
    "ExecuteTime": {
     "end_time": "2020-07-16T01:11:20.559318Z",
     "start_time": "2020-07-16T01:11:20.550977Z"
    }
   },
   "outputs": [
    {
     "name": "stdout",
     "output_type": "stream",
     "text": [
      "env: CUDA_DEVICE_ORDER=PCI_BUS_ID\n",
      "env: CUDA_VISIBLE_DEVICES=0\n"
     ]
    }
   ],
   "source": [
    "%env CUDA_DEVICE_ORDER=PCI_BUS_ID\n",
    "%env CUDA_VISIBLE_DEVICES=0"
   ]
  },
  {
   "cell_type": "code",
   "execution_count": 3,
   "metadata": {
    "ExecuteTime": {
     "end_time": "2020-07-16T01:11:26.434322Z",
     "start_time": "2020-07-16T01:11:20.561004Z"
    }
   },
   "outputs": [],
   "source": [
    "import numpy as np\n",
    "import pickle\n",
    "import pandas as pd\n",
    "import time\n",
    "from umap import UMAP"
   ]
  },
  {
   "cell_type": "code",
   "execution_count": 4,
   "metadata": {
    "ExecuteTime": {
     "end_time": "2020-07-16T01:11:29.250573Z",
     "start_time": "2020-07-16T01:11:26.436077Z"
    }
   },
   "outputs": [
    {
     "name": "stderr",
     "output_type": "stream",
     "text": [
      "/mnt/cube/tsainbur/conda_envs/tpy3/lib/python3.6/site-packages/tqdm/autonotebook/__init__.py:14: TqdmExperimentalWarning: Using `tqdm.autonotebook.tqdm` in notebook mode. Use `tqdm.tqdm` instead to force console mode (e.g. in jupyter console)\n",
      "  \" (e.g. in jupyter console)\", TqdmExperimentalWarning)\n"
     ]
    }
   ],
   "source": [
    "from tfumap.umap import tfUMAP\n",
    "import tensorflow as tf\n",
    "from sklearn.decomposition import PCA\n",
    "from openTSNE import TSNE"
   ]
  },
  {
   "cell_type": "code",
   "execution_count": 5,
   "metadata": {
    "ExecuteTime": {
     "end_time": "2020-07-16T01:11:29.293694Z",
     "start_time": "2020-07-16T01:11:29.253035Z"
    }
   },
   "outputs": [],
   "source": [
    "from tqdm.autonotebook import tqdm"
   ]
  },
  {
   "cell_type": "code",
   "execution_count": 6,
   "metadata": {
    "ExecuteTime": {
     "end_time": "2020-07-16T01:11:29.447931Z",
     "start_time": "2020-07-16T01:11:29.295084Z"
    }
   },
   "outputs": [],
   "source": [
    "from tfumap.paths import ensure_dir, MODEL_DIR, DATA_DIR"
   ]
  },
  {
   "cell_type": "code",
   "execution_count": 7,
   "metadata": {
    "ExecuteTime": {
     "end_time": "2020-07-16T01:11:29.491980Z",
     "start_time": "2020-07-16T01:11:29.449098Z"
    }
   },
   "outputs": [],
   "source": [
    "output_dir = MODEL_DIR/'projections' "
   ]
  },
  {
   "cell_type": "code",
   "execution_count": 8,
   "metadata": {
    "ExecuteTime": {
     "end_time": "2020-07-16T01:11:29.532616Z",
     "start_time": "2020-07-16T01:11:29.493300Z"
    }
   },
   "outputs": [],
   "source": [
    "projection_speeds = pd.DataFrame(columns = ['method_', 'dimensions', 'dataset', 'speed'])"
   ]
  },
  {
   "cell_type": "markdown",
   "metadata": {},
   "source": [
    "### MNIST"
   ]
  },
  {
   "cell_type": "code",
   "execution_count": 9,
   "metadata": {
    "ExecuteTime": {
     "end_time": "2020-07-16T01:11:29.568385Z",
     "start_time": "2020-07-16T01:11:29.533951Z"
    }
   },
   "outputs": [],
   "source": [
    "dataset = 'fmnist'\n",
    "dims = (28,28,1)"
   ]
  },
  {
   "cell_type": "markdown",
   "metadata": {},
   "source": [
    "##### load dataset"
   ]
  },
  {
   "cell_type": "code",
   "execution_count": 10,
   "metadata": {
    "ExecuteTime": {
     "end_time": "2020-07-16T01:11:30.092954Z",
     "start_time": "2020-07-16T01:11:29.569597Z"
    }
   },
   "outputs": [
    {
     "name": "stdout",
     "output_type": "stream",
     "text": [
      "50000 10000 10000\n"
     ]
    }
   ],
   "source": [
    "from tensorflow.keras.datasets import fashion_mnist\n",
    "\n",
    "# load dataset\n",
    "(train_images, Y_train), (test_images, Y_test) = fashion_mnist.load_data()\n",
    "X_train = (train_images/255.).astype('float32')\n",
    "X_test = (test_images/255.).astype('float32')\n",
    "X_train = X_train.reshape((len(X_train), np.product(np.shape(X_train)[1:])))\n",
    "X_test = X_test.reshape((len(X_test), np.product(np.shape(X_test)[1:])))\n",
    "\n",
    "# subset a validation set\n",
    "n_valid = 10000\n",
    "X_valid = X_train[-n_valid:]\n",
    "Y_valid = Y_train[-n_valid:]\n",
    "X_train = X_train[:-n_valid]\n",
    "Y_train = Y_train[:-n_valid]\n",
    "\n",
    "# flatten X\n",
    "X_train_flat = X_train.reshape((len(X_train), np.product(np.shape(X_train)[1:])))\n",
    "X_test_flat = X_test.reshape((len(X_test), np.product(np.shape(X_test)[1:])))\n",
    "X_valid_flat= X_valid.reshape((len(X_valid), np.product(np.shape(X_valid)[1:])))\n",
    "print(len(X_train), len(X_valid), len(X_test))"
   ]
  },
  {
   "cell_type": "markdown",
   "metadata": {},
   "source": [
    "#### Network "
   ]
  },
  {
   "cell_type": "markdown",
   "metadata": {},
   "source": [
    "##### 2 dims"
   ]
  },
  {
   "cell_type": "code",
   "execution_count": 11,
   "metadata": {
    "ExecuteTime": {
     "end_time": "2020-07-16T01:11:30.135904Z",
     "start_time": "2020-07-16T01:11:30.094591Z"
    }
   },
   "outputs": [],
   "source": [
    "load_loc = output_dir / dataset / 'network' "
   ]
  },
  {
   "cell_type": "code",
   "execution_count": 12,
   "metadata": {
    "ExecuteTime": {
     "end_time": "2020-07-16T01:11:31.455678Z",
     "start_time": "2020-07-16T01:11:30.137128Z"
    }
   },
   "outputs": [],
   "source": [
    "embedder = tfUMAP(\n",
    "    direct_embedding=False,\n",
    "    verbose=True,\n",
    "    negative_sample_rate=5,\n",
    "    training_epochs=5,\n",
    "    batch_size = 100,\n",
    "    dims = dims\n",
    ")"
   ]
  },
  {
   "cell_type": "code",
   "execution_count": 13,
   "metadata": {
    "ExecuteTime": {
     "end_time": "2020-07-16T01:11:32.256480Z",
     "start_time": "2020-07-16T01:11:31.457251Z"
    }
   },
   "outputs": [],
   "source": [
    "encoder = tf.keras.models.load_model((load_loc / 'encoder').as_posix())\n",
    "embedder.encoder = encoder"
   ]
  },
  {
   "cell_type": "code",
   "execution_count": 14,
   "metadata": {
    "ExecuteTime": {
     "end_time": "2020-07-16T01:11:36.318911Z",
     "start_time": "2020-07-16T01:11:32.258009Z"
    }
   },
   "outputs": [
    {
     "data": {
      "application/vnd.jupyter.widget-view+json": {
       "model_id": "4ed5f370a4c646d487a45a25057d2e6a",
       "version_major": 2,
       "version_minor": 0
      },
      "text/plain": [
       "HBox(children=(IntProgress(value=0, max=10), HTML(value='')))"
      ]
     },
     "metadata": {},
     "output_type": "display_data"
    },
    {
     "name": "stdout",
     "output_type": "stream",
     "text": [
      "seconds:  1.6093630669638515\n",
      "seconds:  0.2437515240162611\n",
      "seconds:  0.26432971004396677\n",
      "seconds:  0.25305046886205673\n",
      "seconds:  0.2678830320946872\n",
      "seconds:  0.26259954180568457\n",
      "seconds:  0.26445943396538496\n",
      "seconds:  0.25773053290322423\n",
      "seconds:  0.25907672103494406\n",
      "seconds:  0.2657383200712502\n",
      "\n"
     ]
    }
   ],
   "source": [
    "n_repeats = 10\n",
    "times = []\n",
    "for i in tqdm(range(n_repeats)):\n",
    "    start_time = time.monotonic()\n",
    "    embedder.transform(X_test_flat);\n",
    "    end_time = time.monotonic()\n",
    "    print('seconds: ', end_time - start_time)\n",
    "    times.append(end_time - start_time)\n",
    "    projection_speeds.loc[len(projection_speeds)] = ['network', 2, dataset, end_time - start_time]\n"
   ]
  },
  {
   "cell_type": "code",
   "execution_count": 15,
   "metadata": {
    "ExecuteTime": {
     "end_time": "2020-07-16T01:11:36.662474Z",
     "start_time": "2020-07-16T01:11:36.320603Z"
    }
   },
   "outputs": [],
   "source": [
    "z = embedder.transform(X_test_flat);\n",
    "np.save( MODEL_DIR/'projections' / dataset / 'network' / 'z_test.npy', z)"
   ]
  },
  {
   "cell_type": "code",
   "execution_count": 16,
   "metadata": {
    "ExecuteTime": {
     "end_time": "2020-07-16T01:11:45.414107Z",
     "start_time": "2020-07-16T01:11:36.664506Z"
    }
   },
   "outputs": [
    {
     "data": {
      "application/vnd.jupyter.widget-view+json": {
       "model_id": "4f1c3b91dbcf415e918c496df8c1b596",
       "version_major": 2,
       "version_minor": 0
      },
      "text/plain": [
       "HBox(children=(IntProgress(value=0, max=10), HTML(value='')))"
      ]
     },
     "metadata": {},
     "output_type": "display_data"
    },
    {
     "name": "stdout",
     "output_type": "stream",
     "text": [
      "seconds:  0.9234743739943951\n",
      "seconds:  0.8395044561475515\n",
      "seconds:  0.8431702309753746\n",
      "seconds:  0.8660649319645017\n",
      "seconds:  0.8605503858998418\n",
      "seconds:  0.8468576169107109\n",
      "seconds:  0.847140644909814\n",
      "seconds:  0.8442668330390006\n",
      "seconds:  0.8650177039671689\n",
      "seconds:  0.8962270328775048\n",
      "\n"
     ]
    }
   ],
   "source": [
    "##### Network CPU\n",
    "\n",
    "with tf.device('/CPU:0'):\n",
    "    n_repeats = 10\n",
    "    times = []\n",
    "    for i in tqdm(range(n_repeats)):\n",
    "        start_time = time.monotonic()\n",
    "        embedder.transform(X_test_flat);\n",
    "        end_time = time.monotonic()\n",
    "        print('seconds: ', end_time - start_time)\n",
    "        times.append(end_time - start_time)\n",
    "        projection_speeds.loc[len(projection_speeds)] = ['network-cpu', 2, dataset, end_time - start_time]"
   ]
  },
  {
   "cell_type": "markdown",
   "metadata": {},
   "source": [
    "##### 64 dims"
   ]
  },
  {
   "cell_type": "code",
   "execution_count": 17,
   "metadata": {
    "ExecuteTime": {
     "end_time": "2020-07-16T01:11:45.456742Z",
     "start_time": "2020-07-16T01:11:45.415568Z"
    }
   },
   "outputs": [],
   "source": [
    "load_loc = output_dir / dataset /\"64\"/ 'network' "
   ]
  },
  {
   "cell_type": "code",
   "execution_count": 18,
   "metadata": {
    "ExecuteTime": {
     "end_time": "2020-07-16T01:11:45.498910Z",
     "start_time": "2020-07-16T01:11:45.458012Z"
    }
   },
   "outputs": [],
   "source": [
    "embedder = tfUMAP(\n",
    "    direct_embedding=False,\n",
    "    verbose=True,\n",
    "    negative_sample_rate=5,\n",
    "    training_epochs=5,\n",
    "    batch_size = 100,\n",
    "    dims = dims\n",
    ")"
   ]
  },
  {
   "cell_type": "code",
   "execution_count": 19,
   "metadata": {
    "ExecuteTime": {
     "end_time": "2020-07-16T01:11:45.871562Z",
     "start_time": "2020-07-16T01:11:45.501766Z"
    }
   },
   "outputs": [],
   "source": [
    "encoder = tf.keras.models.load_model((load_loc / 'encoder').as_posix())\n",
    "embedder.encoder = encoder"
   ]
  },
  {
   "cell_type": "code",
   "execution_count": 20,
   "metadata": {
    "ExecuteTime": {
     "end_time": "2020-07-16T01:11:48.746113Z",
     "start_time": "2020-07-16T01:11:45.873740Z"
    }
   },
   "outputs": [
    {
     "data": {
      "application/vnd.jupyter.widget-view+json": {
       "model_id": "7201085d2e2442f2b177b28c127c8be4",
       "version_major": 2,
       "version_minor": 0
      },
      "text/plain": [
       "HBox(children=(IntProgress(value=0, max=10), HTML(value='')))"
      ]
     },
     "metadata": {},
     "output_type": "display_data"
    },
    {
     "name": "stdout",
     "output_type": "stream",
     "text": [
      "seconds:  0.3392068021930754\n",
      "seconds:  0.26779276994057\n",
      "seconds:  0.26533499103970826\n",
      "seconds:  0.239339220803231\n",
      "seconds:  0.2822510318364948\n",
      "seconds:  0.2804501010105014\n",
      "seconds:  0.26394743099808693\n",
      "seconds:  0.2698164889588952\n",
      "seconds:  0.27522900188341737\n",
      "seconds:  0.27469990705139935\n",
      "\n"
     ]
    }
   ],
   "source": [
    "n_repeats = 10\n",
    "times = []\n",
    "for i in tqdm(range(n_repeats)):\n",
    "    start_time = time.monotonic()\n",
    "    embedder.transform(X_test_flat);\n",
    "    end_time = time.monotonic()\n",
    "    print('seconds: ', end_time - start_time)\n",
    "    times.append(end_time - start_time)\n",
    "    projection_speeds.loc[len(projection_speeds)] = ['network', 64, dataset, end_time - start_time]"
   ]
  },
  {
   "cell_type": "code",
   "execution_count": 21,
   "metadata": {
    "ExecuteTime": {
     "end_time": "2020-07-16T01:11:49.098354Z",
     "start_time": "2020-07-16T01:11:48.747850Z"
    }
   },
   "outputs": [],
   "source": [
    "z = embedder.transform(X_test_flat);\n",
    "out = MODEL_DIR/'projections' / dataset / '64' / 'network' / 'z_test.npy'\n",
    "np.save( out, z)"
   ]
  },
  {
   "cell_type": "markdown",
   "metadata": {},
   "source": [
    "##### Network CPU"
   ]
  },
  {
   "cell_type": "code",
   "execution_count": 22,
   "metadata": {
    "ExecuteTime": {
     "end_time": "2020-07-16T01:11:58.107766Z",
     "start_time": "2020-07-16T01:11:49.100177Z"
    }
   },
   "outputs": [
    {
     "data": {
      "application/vnd.jupyter.widget-view+json": {
       "model_id": "5411a792fac94975b47754deba24fdcc",
       "version_major": 2,
       "version_minor": 0
      },
      "text/plain": [
       "HBox(children=(IntProgress(value=0, max=10), HTML(value='')))"
      ]
     },
     "metadata": {},
     "output_type": "display_data"
    },
    {
     "name": "stdout",
     "output_type": "stream",
     "text": [
      "seconds:  0.8980304258875549\n",
      "seconds:  0.8695031041279435\n",
      "seconds:  0.9754359191283584\n",
      "seconds:  0.8788484209217131\n",
      "seconds:  0.8665103900711983\n",
      "seconds:  0.8949240099173039\n",
      "seconds:  0.9040012781042606\n",
      "seconds:  0.8591185410041362\n",
      "seconds:  0.8778232429176569\n",
      "seconds:  0.8591339718550444\n",
      "\n"
     ]
    }
   ],
   "source": [
    "with tf.device('/CPU:0'):\n",
    "    n_repeats = 10\n",
    "    times = []\n",
    "    for i in tqdm(range(n_repeats)):\n",
    "        start_time = time.monotonic()\n",
    "        embedder.transform(X_test_flat);\n",
    "        end_time = time.monotonic()\n",
    "        print('seconds: ', end_time - start_time)\n",
    "        times.append(end_time - start_time)\n",
    "        projection_speeds.loc[len(projection_speeds)] = ['network-cpu', 64, dataset, end_time - start_time]"
   ]
  },
  {
   "cell_type": "markdown",
   "metadata": {},
   "source": [
    "### AE "
   ]
  },
  {
   "cell_type": "markdown",
   "metadata": {},
   "source": [
    "##### 2 dims"
   ]
  },
  {
   "cell_type": "code",
   "execution_count": 23,
   "metadata": {
    "ExecuteTime": {
     "end_time": "2020-07-16T01:11:58.155955Z",
     "start_time": "2020-07-16T01:11:58.109182Z"
    }
   },
   "outputs": [],
   "source": [
    "load_loc = output_dir / dataset / 'autoencoder' "
   ]
  },
  {
   "cell_type": "code",
   "execution_count": 24,
   "metadata": {
    "ExecuteTime": {
     "end_time": "2020-07-16T01:11:58.195095Z",
     "start_time": "2020-07-16T01:11:58.157221Z"
    }
   },
   "outputs": [],
   "source": [
    "embedder = tfUMAP(\n",
    "    direct_embedding=False,\n",
    "    verbose=True,\n",
    "    negative_sample_rate=5,\n",
    "    training_epochs=5,\n",
    "    decoding_method = \"autoencoder\",\n",
    "    batch_size = 100,\n",
    "    dims = dims\n",
    ")"
   ]
  },
  {
   "cell_type": "code",
   "execution_count": 25,
   "metadata": {
    "ExecuteTime": {
     "end_time": "2020-07-16T01:11:58.944653Z",
     "start_time": "2020-07-16T01:11:58.196326Z"
    }
   },
   "outputs": [],
   "source": [
    "encoder = tf.keras.models.load_model((load_loc / 'encoder').as_posix())\n",
    "embedder.encoder = encoder"
   ]
  },
  {
   "cell_type": "code",
   "execution_count": 26,
   "metadata": {
    "ExecuteTime": {
     "end_time": "2020-07-16T01:11:59.664499Z",
     "start_time": "2020-07-16T01:11:58.946243Z"
    }
   },
   "outputs": [],
   "source": [
    "decoder = tf.keras.models.load_model((load_loc / 'decoder').as_posix())\n",
    "embedder.decoder = decoder"
   ]
  },
  {
   "cell_type": "code",
   "execution_count": 27,
   "metadata": {
    "ExecuteTime": {
     "end_time": "2020-07-16T01:12:02.764186Z",
     "start_time": "2020-07-16T01:11:59.665902Z"
    }
   },
   "outputs": [
    {
     "data": {
      "application/vnd.jupyter.widget-view+json": {
       "model_id": "5e953b56802b4bc4b44f829b1fac1eac",
       "version_major": 2,
       "version_minor": 0
      },
      "text/plain": [
       "HBox(children=(IntProgress(value=0, max=10), HTML(value='')))"
      ]
     },
     "metadata": {},
     "output_type": "display_data"
    },
    {
     "name": "stdout",
     "output_type": "stream",
     "text": [
      "seconds:  0.3289679139852524\n",
      "seconds:  0.27692279289476573\n",
      "seconds:  0.2754600599873811\n",
      "seconds:  0.2897339970804751\n",
      "seconds:  0.299851835006848\n",
      "seconds:  0.302612183149904\n",
      "seconds:  0.2975750700570643\n",
      "seconds:  0.31203595106489956\n",
      "seconds:  0.30532261985354125\n",
      "seconds:  0.2964583688881248\n",
      "\n"
     ]
    }
   ],
   "source": [
    "n_repeats = 10\n",
    "times = []\n",
    "for i in tqdm(range(n_repeats)):\n",
    "    start_time = time.monotonic()\n",
    "    embedder.transform(X_test_flat);\n",
    "    end_time = time.monotonic()\n",
    "    print('seconds: ', end_time - start_time)\n",
    "    times.append(end_time - start_time)\n",
    "    projection_speeds.loc[len(projection_speeds)] = ['network', 2, dataset, end_time - start_time]\n"
   ]
  },
  {
   "cell_type": "code",
   "execution_count": 28,
   "metadata": {
    "ExecuteTime": {
     "end_time": "2020-07-16T01:12:03.106928Z",
     "start_time": "2020-07-16T01:12:02.765309Z"
    }
   },
   "outputs": [],
   "source": [
    "z = embedder.transform(X_test_flat);\n",
    "np.save( MODEL_DIR/'projections' / dataset / 'autoencoder' / 'z_test.npy', z)"
   ]
  },
  {
   "cell_type": "markdown",
   "metadata": {},
   "source": [
    "##### 64 dims"
   ]
  },
  {
   "cell_type": "code",
   "execution_count": 29,
   "metadata": {
    "ExecuteTime": {
     "end_time": "2020-07-16T01:12:03.149126Z",
     "start_time": "2020-07-16T01:12:03.108318Z"
    }
   },
   "outputs": [],
   "source": [
    "load_loc = output_dir / dataset /\"64\"/ 'autoencoder' "
   ]
  },
  {
   "cell_type": "code",
   "execution_count": 30,
   "metadata": {
    "ExecuteTime": {
     "end_time": "2020-07-16T01:12:03.185456Z",
     "start_time": "2020-07-16T01:12:03.150108Z"
    }
   },
   "outputs": [],
   "source": [
    "embedder = tfUMAP(\n",
    "    direct_embedding=False,\n",
    "    verbose=True,\n",
    "    negative_sample_rate=5,\n",
    "    training_epochs=5,\n",
    "    decoding_method = \"autoencoder\",\n",
    "    batch_size = 100,\n",
    "    dims = dims\n",
    ")"
   ]
  },
  {
   "cell_type": "code",
   "execution_count": 31,
   "metadata": {
    "ExecuteTime": {
     "end_time": "2020-07-16T01:12:03.924293Z",
     "start_time": "2020-07-16T01:12:03.186400Z"
    }
   },
   "outputs": [],
   "source": [
    "encoder = tf.keras.models.load_model((load_loc / 'encoder').as_posix())\n",
    "embedder.encoder = encoder"
   ]
  },
  {
   "cell_type": "code",
   "execution_count": 32,
   "metadata": {
    "ExecuteTime": {
     "end_time": "2020-07-16T01:12:04.514980Z",
     "start_time": "2020-07-16T01:12:03.925773Z"
    }
   },
   "outputs": [],
   "source": [
    "decoder = tf.keras.models.load_model((load_loc / 'decoder').as_posix())\n",
    "embedder.decoder = decoder"
   ]
  },
  {
   "cell_type": "code",
   "execution_count": 33,
   "metadata": {
    "ExecuteTime": {
     "end_time": "2020-07-16T01:12:07.492418Z",
     "start_time": "2020-07-16T01:12:04.516684Z"
    }
   },
   "outputs": [
    {
     "data": {
      "application/vnd.jupyter.widget-view+json": {
       "model_id": "1a41a29b73cb41e295a1a4d76f80ffc2",
       "version_major": 2,
       "version_minor": 0
      },
      "text/plain": [
       "HBox(children=(IntProgress(value=0, max=10), HTML(value='')))"
      ]
     },
     "metadata": {},
     "output_type": "display_data"
    },
    {
     "name": "stdout",
     "output_type": "stream",
     "text": [
      "seconds:  0.3413436959963292\n",
      "seconds:  0.2896068631671369\n",
      "seconds:  0.29347500391304493\n",
      "seconds:  0.2913685441017151\n",
      "seconds:  0.2935077839065343\n",
      "seconds:  0.2875676159746945\n",
      "seconds:  0.28728250809945166\n",
      "seconds:  0.24583292799070477\n",
      "seconds:  0.2635373619850725\n",
      "seconds:  0.26781487418338656\n",
      "\n"
     ]
    }
   ],
   "source": [
    "n_repeats = 10\n",
    "times = []\n",
    "for i in tqdm(range(n_repeats)):\n",
    "    start_time = time.monotonic()\n",
    "    embedder.transform(X_test_flat);\n",
    "    end_time = time.monotonic()\n",
    "    print('seconds: ', end_time - start_time)\n",
    "    times.append(end_time - start_time)\n",
    "    projection_speeds.loc[len(projection_speeds)] = ['network', 64, dataset, end_time - start_time]"
   ]
  },
  {
   "cell_type": "code",
   "execution_count": 34,
   "metadata": {
    "ExecuteTime": {
     "end_time": "2020-07-16T01:12:07.884251Z",
     "start_time": "2020-07-16T01:12:07.494482Z"
    }
   },
   "outputs": [],
   "source": [
    "z = embedder.transform(X_test_flat);\n",
    "out = MODEL_DIR/'projections' / dataset / '64' / 'autoencoder' / 'z_test.npy'\n",
    "np.save( out, z)"
   ]
  },
  {
   "cell_type": "markdown",
   "metadata": {},
   "source": [
    "#### UMAP-learn"
   ]
  },
  {
   "cell_type": "markdown",
   "metadata": {},
   "source": [
    "##### 2 dims"
   ]
  },
  {
   "cell_type": "code",
   "execution_count": 35,
   "metadata": {
    "ExecuteTime": {
     "end_time": "2020-07-16T01:13:08.470069Z",
     "start_time": "2020-07-16T01:12:07.885697Z"
    }
   },
   "outputs": [
    {
     "name": "stdout",
     "output_type": "stream",
     "text": [
      "UMAP(dens_frac=0.0, dens_lambda=0.0, verbose=True)\n",
      "Construct fuzzy simplicial set\n",
      "Wed Jul 15 18:12:08 2020 Finding Nearest Neighbors\n",
      "Wed Jul 15 18:12:08 2020 Building RP forest with 16 trees\n",
      "Wed Jul 15 18:12:09 2020 parallel NN descent for 16 iterations\n",
      "\t 0  /  16\n",
      "\t 1  /  16\n",
      "\t 2  /  16\n",
      "\t 3  /  16\n",
      "Wed Jul 15 18:12:19 2020 Finished Nearest Neighbor Search\n",
      "Wed Jul 15 18:12:22 2020 Construct embedding\n",
      "\tcompleted  0  /  200 epochs\n",
      "\tcompleted  20  /  200 epochs\n",
      "\tcompleted  40  /  200 epochs\n",
      "\tcompleted  60  /  200 epochs\n",
      "\tcompleted  80  /  200 epochs\n",
      "\tcompleted  100  /  200 epochs\n",
      "\tcompleted  120  /  200 epochs\n",
      "\tcompleted  140  /  200 epochs\n",
      "\tcompleted  160  /  200 epochs\n",
      "\tcompleted  180  /  200 epochs\n",
      "Wed Jul 15 18:13:08 2020 Finished embedding\n"
     ]
    }
   ],
   "source": [
    "embedder = UMAP(n_components = 2, verbose=True)\n",
    "z_umap = embedder.fit_transform(X_train_flat)"
   ]
  },
  {
   "cell_type": "code",
   "execution_count": 36,
   "metadata": {
    "ExecuteTime": {
     "end_time": "2020-07-16T01:14:19.774891Z",
     "start_time": "2020-07-16T01:13:08.472699Z"
    }
   },
   "outputs": [
    {
     "data": {
      "application/vnd.jupyter.widget-view+json": {
       "model_id": "b7f6dbd1daab485f8b683b9c3a14b859",
       "version_major": 2,
       "version_minor": 0
      },
      "text/plain": [
       "HBox(children=(IntProgress(value=0, max=10), HTML(value='')))"
      ]
     },
     "metadata": {},
     "output_type": "display_data"
    },
    {
     "name": "stdout",
     "output_type": "stream",
     "text": [
      "\tcompleted  0  /  100 epochs\n",
      "\tcompleted  10  /  100 epochs\n",
      "\tcompleted  20  /  100 epochs\n",
      "\tcompleted  30  /  100 epochs\n",
      "\tcompleted  40  /  100 epochs\n",
      "\tcompleted  50  /  100 epochs\n",
      "\tcompleted  60  /  100 epochs\n",
      "\tcompleted  70  /  100 epochs\n",
      "\tcompleted  80  /  100 epochs\n",
      "\tcompleted  90  /  100 epochs\n",
      "seconds:  18.889129700139165\n",
      "\tcompleted  0  /  100 epochs\n",
      "\tcompleted  10  /  100 epochs\n",
      "\tcompleted  20  /  100 epochs\n",
      "\tcompleted  30  /  100 epochs\n",
      "\tcompleted  40  /  100 epochs\n",
      "\tcompleted  50  /  100 epochs\n",
      "\tcompleted  60  /  100 epochs\n",
      "\tcompleted  70  /  100 epochs\n",
      "\tcompleted  80  /  100 epochs\n",
      "\tcompleted  90  /  100 epochs\n",
      "seconds:  6.109847509069368\n",
      "\tcompleted  0  /  100 epochs\n",
      "\tcompleted  10  /  100 epochs\n",
      "\tcompleted  20  /  100 epochs\n",
      "\tcompleted  30  /  100 epochs\n",
      "\tcompleted  40  /  100 epochs\n",
      "\tcompleted  50  /  100 epochs\n",
      "\tcompleted  60  /  100 epochs\n",
      "\tcompleted  70  /  100 epochs\n",
      "\tcompleted  80  /  100 epochs\n",
      "\tcompleted  90  /  100 epochs\n",
      "seconds:  5.085486338008195\n",
      "\tcompleted  0  /  100 epochs\n",
      "\tcompleted  10  /  100 epochs\n",
      "\tcompleted  20  /  100 epochs\n",
      "\tcompleted  30  /  100 epochs\n",
      "\tcompleted  40  /  100 epochs\n",
      "\tcompleted  50  /  100 epochs\n",
      "\tcompleted  60  /  100 epochs\n",
      "\tcompleted  70  /  100 epochs\n",
      "\tcompleted  80  /  100 epochs\n",
      "\tcompleted  90  /  100 epochs\n",
      "seconds:  5.85188792203553\n",
      "\tcompleted  0  /  100 epochs\n",
      "\tcompleted  10  /  100 epochs\n",
      "\tcompleted  20  /  100 epochs\n",
      "\tcompleted  30  /  100 epochs\n",
      "\tcompleted  40  /  100 epochs\n",
      "\tcompleted  50  /  100 epochs\n",
      "\tcompleted  60  /  100 epochs\n",
      "\tcompleted  70  /  100 epochs\n",
      "\tcompleted  80  /  100 epochs\n",
      "\tcompleted  90  /  100 epochs\n",
      "seconds:  6.850534480065107\n",
      "\tcompleted  0  /  100 epochs\n",
      "\tcompleted  10  /  100 epochs\n",
      "\tcompleted  20  /  100 epochs\n",
      "\tcompleted  30  /  100 epochs\n",
      "\tcompleted  40  /  100 epochs\n",
      "\tcompleted  50  /  100 epochs\n",
      "\tcompleted  60  /  100 epochs\n",
      "\tcompleted  70  /  100 epochs\n",
      "\tcompleted  80  /  100 epochs\n",
      "\tcompleted  90  /  100 epochs\n",
      "seconds:  4.886322550941259\n",
      "\tcompleted  0  /  100 epochs\n",
      "\tcompleted  10  /  100 epochs\n",
      "\tcompleted  20  /  100 epochs\n",
      "\tcompleted  30  /  100 epochs\n",
      "\tcompleted  40  /  100 epochs\n",
      "\tcompleted  50  /  100 epochs\n",
      "\tcompleted  60  /  100 epochs\n",
      "\tcompleted  70  /  100 epochs\n",
      "\tcompleted  80  /  100 epochs\n",
      "\tcompleted  90  /  100 epochs\n",
      "seconds:  6.122422389918938\n",
      "\tcompleted  0  /  100 epochs\n",
      "\tcompleted  10  /  100 epochs\n",
      "\tcompleted  20  /  100 epochs\n",
      "\tcompleted  30  /  100 epochs\n",
      "\tcompleted  40  /  100 epochs\n",
      "\tcompleted  50  /  100 epochs\n",
      "\tcompleted  60  /  100 epochs\n",
      "\tcompleted  70  /  100 epochs\n",
      "\tcompleted  80  /  100 epochs\n",
      "\tcompleted  90  /  100 epochs\n",
      "seconds:  5.8756514771375805\n",
      "\tcompleted  0  /  100 epochs\n",
      "\tcompleted  10  /  100 epochs\n",
      "\tcompleted  20  /  100 epochs\n",
      "\tcompleted  30  /  100 epochs\n",
      "\tcompleted  40  /  100 epochs\n",
      "\tcompleted  50  /  100 epochs\n",
      "\tcompleted  60  /  100 epochs\n",
      "\tcompleted  70  /  100 epochs\n",
      "\tcompleted  80  /  100 epochs\n",
      "\tcompleted  90  /  100 epochs\n",
      "seconds:  5.187636530958116\n",
      "\tcompleted  0  /  100 epochs\n",
      "\tcompleted  10  /  100 epochs\n",
      "\tcompleted  20  /  100 epochs\n",
      "\tcompleted  30  /  100 epochs\n",
      "\tcompleted  40  /  100 epochs\n",
      "\tcompleted  50  /  100 epochs\n",
      "\tcompleted  60  /  100 epochs\n",
      "\tcompleted  70  /  100 epochs\n",
      "\tcompleted  80  /  100 epochs\n",
      "\tcompleted  90  /  100 epochs\n",
      "seconds:  5.851730306865647\n",
      "\n"
     ]
    }
   ],
   "source": [
    "n_repeats = 10\n",
    "times = []\n",
    "for i in tqdm(range(n_repeats)):\n",
    "    start_time = time.monotonic()\n",
    "    embedder.transform(X_test_flat);\n",
    "    end_time = time.monotonic()\n",
    "    print('seconds: ', end_time - start_time)\n",
    "    times.append(end_time - start_time)\n",
    "    projection_speeds.loc[len(projection_speeds)] = ['umap-learn', 2, dataset, end_time - start_time]\n"
   ]
  },
  {
   "cell_type": "code",
   "execution_count": 37,
   "metadata": {
    "ExecuteTime": {
     "end_time": "2020-07-16T01:14:20.330270Z",
     "start_time": "2020-07-16T01:14:19.776513Z"
    }
   },
   "outputs": [
    {
     "data": {
      "text/plain": [
       "PosixPath('/mnt/cube/tsainbur/Projects/github_repos/umap_tf_networks/models/projections/fmnist/64/autoencoder/z_test.npy')"
      ]
     },
     "execution_count": 37,
     "metadata": {},
     "output_type": "execute_result"
    }
   ],
   "source": [
    "out"
   ]
  },
  {
   "cell_type": "code",
   "execution_count": 38,
   "metadata": {
    "ExecuteTime": {
     "end_time": "2020-07-16T01:14:26.497405Z",
     "start_time": "2020-07-16T01:14:20.332420Z"
    }
   },
   "outputs": [
    {
     "name": "stdout",
     "output_type": "stream",
     "text": [
      "\tcompleted  0  /  100 epochs\n",
      "\tcompleted  10  /  100 epochs\n",
      "\tcompleted  20  /  100 epochs\n",
      "\tcompleted  30  /  100 epochs\n",
      "\tcompleted  40  /  100 epochs\n",
      "\tcompleted  50  /  100 epochs\n",
      "\tcompleted  60  /  100 epochs\n",
      "\tcompleted  70  /  100 epochs\n",
      "\tcompleted  80  /  100 epochs\n",
      "\tcompleted  90  /  100 epochs\n"
     ]
    }
   ],
   "source": [
    "z = embedder.transform(X_test_flat);\n",
    "out = MODEL_DIR/'projections' / dataset / 'umap-learn' / 'z_test.npy'\n",
    "ensure_dir(out)\n",
    "np.save(out, z)"
   ]
  },
  {
   "cell_type": "markdown",
   "metadata": {},
   "source": [
    "##### 64 dims"
   ]
  },
  {
   "cell_type": "code",
   "execution_count": 39,
   "metadata": {
    "ExecuteTime": {
     "end_time": "2020-07-16T01:15:12.864433Z",
     "start_time": "2020-07-16T01:14:26.499424Z"
    }
   },
   "outputs": [
    {
     "name": "stdout",
     "output_type": "stream",
     "text": [
      "UMAP(dens_frac=0.0, dens_lambda=0.0, n_components=64, verbose=True)\n",
      "Construct fuzzy simplicial set\n",
      "Wed Jul 15 18:14:26 2020 Finding Nearest Neighbors\n",
      "Wed Jul 15 18:14:26 2020 Building RP forest with 16 trees\n",
      "Wed Jul 15 18:14:27 2020 parallel NN descent for 16 iterations\n",
      "\t 0  /  16\n",
      "\t 1  /  16\n",
      "\t 2  /  16\n",
      "\t 3  /  16\n",
      "Wed Jul 15 18:14:29 2020 Finished Nearest Neighbor Search\n",
      "Wed Jul 15 18:14:29 2020 Construct embedding\n",
      "\tcompleted  0  /  200 epochs\n",
      "\tcompleted  20  /  200 epochs\n",
      "\tcompleted  40  /  200 epochs\n",
      "\tcompleted  60  /  200 epochs\n",
      "\tcompleted  80  /  200 epochs\n",
      "\tcompleted  100  /  200 epochs\n",
      "\tcompleted  120  /  200 epochs\n",
      "\tcompleted  140  /  200 epochs\n",
      "\tcompleted  160  /  200 epochs\n",
      "\tcompleted  180  /  200 epochs\n",
      "Wed Jul 15 18:15:12 2020 Finished embedding\n"
     ]
    }
   ],
   "source": [
    "embedder = UMAP(n_components = 64, verbose=True)\n",
    "z_umap = embedder.fit_transform(X_train_flat)"
   ]
  },
  {
   "cell_type": "code",
   "execution_count": 40,
   "metadata": {
    "ExecuteTime": {
     "end_time": "2020-07-16T01:16:09.188906Z",
     "start_time": "2020-07-16T01:15:12.865735Z"
    }
   },
   "outputs": [
    {
     "data": {
      "application/vnd.jupyter.widget-view+json": {
       "model_id": "1210c3c0b4cb4719a07db17e4fbe769b",
       "version_major": 2,
       "version_minor": 0
      },
      "text/plain": [
       "HBox(children=(IntProgress(value=0, max=10), HTML(value='')))"
      ]
     },
     "metadata": {},
     "output_type": "display_data"
    },
    {
     "name": "stdout",
     "output_type": "stream",
     "text": [
      "\tcompleted  0  /  100 epochs\n",
      "\tcompleted  10  /  100 epochs\n",
      "\tcompleted  20  /  100 epochs\n",
      "\tcompleted  30  /  100 epochs\n",
      "\tcompleted  40  /  100 epochs\n",
      "\tcompleted  50  /  100 epochs\n",
      "\tcompleted  60  /  100 epochs\n",
      "\tcompleted  70  /  100 epochs\n",
      "\tcompleted  80  /  100 epochs\n",
      "\tcompleted  90  /  100 epochs\n",
      "seconds:  6.467231506947428\n",
      "\tcompleted  0  /  100 epochs\n",
      "\tcompleted  10  /  100 epochs\n",
      "\tcompleted  20  /  100 epochs\n",
      "\tcompleted  30  /  100 epochs\n",
      "\tcompleted  40  /  100 epochs\n",
      "\tcompleted  50  /  100 epochs\n",
      "\tcompleted  60  /  100 epochs\n",
      "\tcompleted  70  /  100 epochs\n",
      "\tcompleted  80  /  100 epochs\n",
      "\tcompleted  90  /  100 epochs\n",
      "seconds:  5.239951777970418\n",
      "\tcompleted  0  /  100 epochs\n",
      "\tcompleted  10  /  100 epochs\n",
      "\tcompleted  20  /  100 epochs\n",
      "\tcompleted  30  /  100 epochs\n",
      "\tcompleted  40  /  100 epochs\n",
      "\tcompleted  50  /  100 epochs\n",
      "\tcompleted  60  /  100 epochs\n",
      "\tcompleted  70  /  100 epochs\n",
      "\tcompleted  80  /  100 epochs\n",
      "\tcompleted  90  /  100 epochs\n",
      "seconds:  6.043835605960339\n",
      "\tcompleted  0  /  100 epochs\n",
      "\tcompleted  10  /  100 epochs\n",
      "\tcompleted  20  /  100 epochs\n",
      "\tcompleted  30  /  100 epochs\n",
      "\tcompleted  40  /  100 epochs\n",
      "\tcompleted  50  /  100 epochs\n",
      "\tcompleted  60  /  100 epochs\n",
      "\tcompleted  70  /  100 epochs\n",
      "\tcompleted  80  /  100 epochs\n",
      "\tcompleted  90  /  100 epochs\n",
      "seconds:  5.283773275092244\n",
      "\tcompleted  0  /  100 epochs\n",
      "\tcompleted  10  /  100 epochs\n",
      "\tcompleted  20  /  100 epochs\n",
      "\tcompleted  30  /  100 epochs\n",
      "\tcompleted  40  /  100 epochs\n",
      "\tcompleted  50  /  100 epochs\n",
      "\tcompleted  60  /  100 epochs\n",
      "\tcompleted  70  /  100 epochs\n",
      "\tcompleted  80  /  100 epochs\n",
      "\tcompleted  90  /  100 epochs\n",
      "seconds:  5.277429821901023\n",
      "\tcompleted  0  /  100 epochs\n",
      "\tcompleted  10  /  100 epochs\n",
      "\tcompleted  20  /  100 epochs\n",
      "\tcompleted  30  /  100 epochs\n",
      "\tcompleted  40  /  100 epochs\n",
      "\tcompleted  50  /  100 epochs\n",
      "\tcompleted  60  /  100 epochs\n",
      "\tcompleted  70  /  100 epochs\n",
      "\tcompleted  80  /  100 epochs\n",
      "\tcompleted  90  /  100 epochs\n",
      "seconds:  6.320766807999462\n",
      "\tcompleted  0  /  100 epochs\n",
      "\tcompleted  10  /  100 epochs\n",
      "\tcompleted  20  /  100 epochs\n",
      "\tcompleted  30  /  100 epochs\n",
      "\tcompleted  40  /  100 epochs\n",
      "\tcompleted  50  /  100 epochs\n",
      "\tcompleted  60  /  100 epochs\n",
      "\tcompleted  70  /  100 epochs\n",
      "\tcompleted  80  /  100 epochs\n",
      "\tcompleted  90  /  100 epochs\n",
      "seconds:  5.039544970029965\n",
      "\tcompleted  0  /  100 epochs\n",
      "\tcompleted  10  /  100 epochs\n",
      "\tcompleted  20  /  100 epochs\n",
      "\tcompleted  30  /  100 epochs\n",
      "\tcompleted  40  /  100 epochs\n",
      "\tcompleted  50  /  100 epochs\n",
      "\tcompleted  60  /  100 epochs\n",
      "\tcompleted  70  /  100 epochs\n",
      "\tcompleted  80  /  100 epochs\n",
      "\tcompleted  90  /  100 epochs\n",
      "seconds:  5.211156035074964\n",
      "\tcompleted  0  /  100 epochs\n",
      "\tcompleted  10  /  100 epochs\n",
      "\tcompleted  20  /  100 epochs\n",
      "\tcompleted  30  /  100 epochs\n",
      "\tcompleted  40  /  100 epochs\n",
      "\tcompleted  50  /  100 epochs\n",
      "\tcompleted  60  /  100 epochs\n",
      "\tcompleted  70  /  100 epochs\n",
      "\tcompleted  80  /  100 epochs\n",
      "\tcompleted  90  /  100 epochs\n",
      "seconds:  6.045003845123574\n",
      "\tcompleted  0  /  100 epochs\n",
      "\tcompleted  10  /  100 epochs\n",
      "\tcompleted  20  /  100 epochs\n",
      "\tcompleted  30  /  100 epochs\n",
      "\tcompleted  40  /  100 epochs\n",
      "\tcompleted  50  /  100 epochs\n",
      "\tcompleted  60  /  100 epochs\n",
      "\tcompleted  70  /  100 epochs\n",
      "\tcompleted  80  /  100 epochs\n",
      "\tcompleted  90  /  100 epochs\n",
      "seconds:  5.278474671998993\n",
      "\n"
     ]
    }
   ],
   "source": [
    "n_repeats = 10\n",
    "times = []\n",
    "for i in tqdm(range(n_repeats)):\n",
    "    start_time = time.monotonic()\n",
    "    embedder.transform(X_test_flat);\n",
    "    end_time = time.monotonic()\n",
    "    print('seconds: ', end_time - start_time)\n",
    "    projection_speeds.loc[len(projection_speeds)] = ['umap-learn', 64, dataset, end_time - start_time]\n"
   ]
  },
  {
   "cell_type": "code",
   "execution_count": 41,
   "metadata": {
    "ExecuteTime": {
     "end_time": "2020-07-16T01:16:14.762688Z",
     "start_time": "2020-07-16T01:16:09.189856Z"
    }
   },
   "outputs": [
    {
     "name": "stdout",
     "output_type": "stream",
     "text": [
      "\tcompleted  0  /  100 epochs\n",
      "\tcompleted  10  /  100 epochs\n",
      "\tcompleted  20  /  100 epochs\n",
      "\tcompleted  30  /  100 epochs\n",
      "\tcompleted  40  /  100 epochs\n",
      "\tcompleted  50  /  100 epochs\n",
      "\tcompleted  60  /  100 epochs\n",
      "\tcompleted  70  /  100 epochs\n",
      "\tcompleted  80  /  100 epochs\n",
      "\tcompleted  90  /  100 epochs\n"
     ]
    }
   ],
   "source": [
    "z = embedder.transform(X_test_flat);\n",
    "out = MODEL_DIR/'projections' / dataset / '64' / 'umap-learn' / 'z_test.npy'\n",
    "ensure_dir(out)\n",
    "np.save(out, z)"
   ]
  },
  {
   "cell_type": "markdown",
   "metadata": {},
   "source": [
    "#### PCA"
   ]
  },
  {
   "cell_type": "markdown",
   "metadata": {},
   "source": [
    "##### 2 dims"
   ]
  },
  {
   "cell_type": "code",
   "execution_count": 42,
   "metadata": {
    "ExecuteTime": {
     "end_time": "2020-07-16T01:16:15.269155Z",
     "start_time": "2020-07-16T01:16:14.763910Z"
    }
   },
   "outputs": [],
   "source": [
    "pca = PCA(n_components=2)\n",
    "z = pca.fit_transform(X_train_flat)"
   ]
  },
  {
   "cell_type": "code",
   "execution_count": 43,
   "metadata": {
    "ExecuteTime": {
     "end_time": "2020-07-16T01:16:15.522559Z",
     "start_time": "2020-07-16T01:16:15.270602Z"
    }
   },
   "outputs": [
    {
     "data": {
      "application/vnd.jupyter.widget-view+json": {
       "model_id": "f8588b7194c54733aa30ca2e724bd834",
       "version_major": 2,
       "version_minor": 0
      },
      "text/plain": [
       "HBox(children=(IntProgress(value=0, max=10), HTML(value='')))"
      ]
     },
     "metadata": {},
     "output_type": "display_data"
    },
    {
     "name": "stdout",
     "output_type": "stream",
     "text": [
      "seconds:  0.012413454940542579\n",
      "seconds:  0.016345296055078506\n",
      "seconds:  0.016240833094343543\n",
      "seconds:  0.016228123800829053\n",
      "seconds:  0.0162113921251148\n",
      "seconds:  0.01624728413298726\n",
      "seconds:  0.016731307841837406\n",
      "seconds:  0.015960826072841883\n",
      "seconds:  0.015970516949892044\n",
      "seconds:  0.01609861897304654\n",
      "\n"
     ]
    }
   ],
   "source": [
    "n_repeats = 10\n",
    "times = []\n",
    "for i in tqdm(range(n_repeats)):\n",
    "    start_time = time.monotonic()\n",
    "    pca.transform(X_test_flat);\n",
    "    end_time = time.monotonic()\n",
    "    print('seconds: ', end_time - start_time)\n",
    "    times.append(end_time - start_time)\n",
    "    projection_speeds.loc[len(projection_speeds)] = ['pca', 2, dataset, end_time - start_time]\n"
   ]
  },
  {
   "cell_type": "code",
   "execution_count": 44,
   "metadata": {
    "ExecuteTime": {
     "end_time": "2020-07-16T01:16:15.582311Z",
     "start_time": "2020-07-16T01:16:15.523769Z"
    }
   },
   "outputs": [],
   "source": [
    "z = pca.transform(X_test_flat);\n",
    "out = MODEL_DIR/'projections' / dataset / 'PCA' / 'z_test.npy'\n",
    "ensure_dir(out)\n",
    "np.save(out, z)"
   ]
  },
  {
   "cell_type": "markdown",
   "metadata": {},
   "source": [
    "##### 64 dims"
   ]
  },
  {
   "cell_type": "code",
   "execution_count": 45,
   "metadata": {
    "ExecuteTime": {
     "end_time": "2020-07-16T01:16:16.655800Z",
     "start_time": "2020-07-16T01:16:15.583587Z"
    }
   },
   "outputs": [],
   "source": [
    "pca = PCA(n_components=64)\n",
    "z = pca.fit_transform(X_train_flat)"
   ]
  },
  {
   "cell_type": "code",
   "execution_count": 46,
   "metadata": {
    "ExecuteTime": {
     "end_time": "2020-07-16T01:16:16.958180Z",
     "start_time": "2020-07-16T01:16:16.657112Z"
    }
   },
   "outputs": [
    {
     "data": {
      "application/vnd.jupyter.widget-view+json": {
       "model_id": "a7e1ece8bed649afa16e3e62db95dc86",
       "version_major": 2,
       "version_minor": 0
      },
      "text/plain": [
       "HBox(children=(IntProgress(value=0, max=10), HTML(value='')))"
      ]
     },
     "metadata": {},
     "output_type": "display_data"
    },
    {
     "name": "stdout",
     "output_type": "stream",
     "text": [
      "seconds:  0.017922770930454135\n",
      "seconds:  0.02029794896952808\n",
      "seconds:  0.020222487160935998\n",
      "seconds:  0.020251557929441333\n",
      "seconds:  0.020192776108160615\n",
      "seconds:  0.026769133983179927\n",
      "seconds:  0.019984570099040866\n",
      "seconds:  0.020177125930786133\n",
      "seconds:  0.020209297072142363\n",
      "seconds:  0.020944118034094572\n",
      "\n"
     ]
    }
   ],
   "source": [
    "n_repeats = 10\n",
    "times = []\n",
    "for i in tqdm(range(n_repeats)):\n",
    "    start_time = time.monotonic()\n",
    "    pca.transform(X_test_flat);\n",
    "    end_time = time.monotonic()\n",
    "    print('seconds: ', end_time - start_time)\n",
    "    times.append(end_time - start_time)\n",
    "    projection_speeds.loc[len(projection_speeds)] = ['pca', 64, dataset, end_time - start_time]\n"
   ]
  },
  {
   "cell_type": "code",
   "execution_count": 47,
   "metadata": {
    "ExecuteTime": {
     "end_time": "2020-07-16T01:16:17.025758Z",
     "start_time": "2020-07-16T01:16:16.959416Z"
    }
   },
   "outputs": [],
   "source": [
    "z = pca.transform(X_test_flat);\n",
    "out = MODEL_DIR/'projections' / dataset / \"64\" / 'PCA'  / 'z_test.npy'\n",
    "ensure_dir(out)\n",
    "np.save(out, z)"
   ]
  },
  {
   "cell_type": "markdown",
   "metadata": {},
   "source": [
    "#### TSNE"
   ]
  },
  {
   "cell_type": "markdown",
   "metadata": {},
   "source": [
    "##### 2 dims"
   ]
  },
  {
   "cell_type": "code",
   "execution_count": 48,
   "metadata": {
    "ExecuteTime": {
     "end_time": "2020-07-16T01:16:17.066727Z",
     "start_time": "2020-07-16T01:16:17.027311Z"
    }
   },
   "outputs": [],
   "source": [
    "tsne = TSNE(\n",
    "    n_components = 2,\n",
    "    n_jobs=32,\n",
    "    verbose=True\n",
    ")"
   ]
  },
  {
   "cell_type": "code",
   "execution_count": 49,
   "metadata": {
    "ExecuteTime": {
     "end_time": "2020-07-16T01:17:56.089269Z",
     "start_time": "2020-07-16T01:16:17.067837Z"
    }
   },
   "outputs": [
    {
     "name": "stdout",
     "output_type": "stream",
     "text": [
      "--------------------------------------------------------------------------------\n",
      "TSNE(n_jobs=32, neighbors=None, verbose=True)\n",
      "--------------------------------------------------------------------------------\n",
      "===> Finding 90 nearest neighbors using Annoy approximate search using euclidean distance...\n"
     ]
    },
    {
     "name": "stderr",
     "output_type": "stream",
     "text": [
      "/mnt/cube/tsainbur/conda_envs/tpy3/lib/python3.6/site-packages/sklearn/base.py:213: FutureWarning: From version 0.24, get_params will raise an AttributeError if a parameter cannot be retrieved as an instance attribute. Previously it would return None.\n",
      "  FutureWarning)\n"
     ]
    },
    {
     "name": "stdout",
     "output_type": "stream",
     "text": [
      "   --> Time elapsed: 36.55 seconds\n",
      "===> Calculating affinity matrix...\n",
      "   --> Time elapsed: 0.42 seconds\n",
      "===> Calculating PCA-based initialization...\n",
      "   --> Time elapsed: 0.50 seconds\n",
      "===> Running optimization with exaggeration=12.00, lr=4166.67 for 250 iterations...\n",
      "Iteration   50, KL divergence 5.9436, 50 iterations in 1.6673 sec\n",
      "Iteration  100, KL divergence 5.4386, 50 iterations in 1.9028 sec\n",
      "Iteration  150, KL divergence 5.3137, 50 iterations in 1.7100 sec\n",
      "Iteration  200, KL divergence 5.2569, 50 iterations in 1.6821 sec\n",
      "Iteration  250, KL divergence 5.2247, 50 iterations in 1.6964 sec\n",
      "   --> Time elapsed: 8.66 seconds\n",
      "===> Running optimization with exaggeration=1.00, lr=4166.67 for 500 iterations...\n",
      "Iteration   50, KL divergence 3.8569, 50 iterations in 1.6423 sec\n",
      "Iteration  100, KL divergence 3.3410, 50 iterations in 1.6177 sec\n",
      "Iteration  150, KL divergence 3.0753, 50 iterations in 2.1912 sec\n",
      "Iteration  200, KL divergence 2.9081, 50 iterations in 3.3540 sec\n",
      "Iteration  250, KL divergence 2.7926, 50 iterations in 3.9539 sec\n",
      "Iteration  300, KL divergence 2.7080, 50 iterations in 5.3542 sec\n",
      "Iteration  350, KL divergence 2.6442, 50 iterations in 6.6494 sec\n",
      "Iteration  400, KL divergence 2.5944, 50 iterations in 7.7615 sec\n",
      "Iteration  450, KL divergence 2.5542, 50 iterations in 8.3002 sec\n",
      "Iteration  500, KL divergence 2.5217, 50 iterations in 11.7007 sec\n",
      "   --> Time elapsed: 52.53 seconds\n"
     ]
    }
   ],
   "source": [
    "embedding_train = tsne.fit(X_train_flat)"
   ]
  },
  {
   "cell_type": "code",
   "execution_count": 50,
   "metadata": {
    "ExecuteTime": {
     "end_time": "2020-07-16T01:18:57.113890Z",
     "start_time": "2020-07-16T01:17:56.090973Z"
    }
   },
   "outputs": [
    {
     "data": {
      "application/vnd.jupyter.widget-view+json": {
       "model_id": "a67cd5c7c25b468487e7b149bc397031",
       "version_major": 2,
       "version_minor": 0
      },
      "text/plain": [
       "HBox(children=(IntProgress(value=0, max=10), HTML(value='')))"
      ]
     },
     "metadata": {},
     "output_type": "display_data"
    },
    {
     "name": "stdout",
     "output_type": "stream",
     "text": [
      "===> Finding 15 nearest neighbors in existing embedding using Annoy approximate search...\n",
      "   --> Time elapsed: 4.48 seconds\n",
      "===> Calculating affinity matrix...\n",
      "   --> Time elapsed: 0.03 seconds\n",
      "===> Running optimization with exaggeration=4.00, lr=0.10 for 0 iterations...\n",
      "   --> Time elapsed: 0.00 seconds\n",
      "===> Running optimization with exaggeration=1.50, lr=0.10 for 250 iterations...\n",
      "Iteration   50, KL divergence 197632.1554, 50 iterations in 0.2897 sec\n",
      "Iteration  100, KL divergence 197870.5254, 50 iterations in 0.2642 sec\n",
      "Iteration  150, KL divergence 198006.6539, 50 iterations in 0.2600 sec\n",
      "Iteration  200, KL divergence 198109.0177, 50 iterations in 0.2813 sec\n",
      "Iteration  250, KL divergence 198185.8774, 50 iterations in 0.2595 sec\n",
      "   --> Time elapsed: 1.36 seconds\n",
      "seconds:  6.19698175904341\n",
      "===> Finding 15 nearest neighbors in existing embedding using Annoy approximate search...\n",
      "   --> Time elapsed: 4.33 seconds\n",
      "===> Calculating affinity matrix...\n",
      "   --> Time elapsed: 0.03 seconds\n",
      "===> Running optimization with exaggeration=4.00, lr=0.10 for 0 iterations...\n",
      "   --> Time elapsed: 0.00 seconds\n",
      "===> Running optimization with exaggeration=1.50, lr=0.10 for 250 iterations...\n",
      "Iteration   50, KL divergence 197632.1554, 50 iterations in 0.3082 sec\n",
      "Iteration  100, KL divergence 197870.5254, 50 iterations in 0.2748 sec\n",
      "Iteration  150, KL divergence 198006.6539, 50 iterations in 0.2849 sec\n",
      "Iteration  200, KL divergence 198109.0177, 50 iterations in 0.2727 sec\n",
      "Iteration  250, KL divergence 198185.8774, 50 iterations in 0.2661 sec\n",
      "   --> Time elapsed: 1.41 seconds\n",
      "seconds:  5.786838558036834\n",
      "===> Finding 15 nearest neighbors in existing embedding using Annoy approximate search...\n",
      "   --> Time elapsed: 4.47 seconds\n",
      "===> Calculating affinity matrix...\n",
      "   --> Time elapsed: 0.02 seconds\n",
      "===> Running optimization with exaggeration=4.00, lr=0.10 for 0 iterations...\n",
      "   --> Time elapsed: 0.00 seconds\n",
      "===> Running optimization with exaggeration=1.50, lr=0.10 for 250 iterations...\n",
      "Iteration   50, KL divergence 197632.1554, 50 iterations in 0.2770 sec\n",
      "Iteration  100, KL divergence 197870.5254, 50 iterations in 0.2813 sec\n",
      "Iteration  150, KL divergence 198006.6539, 50 iterations in 0.2621 sec\n",
      "Iteration  200, KL divergence 198109.0177, 50 iterations in 0.2719 sec\n",
      "Iteration  250, KL divergence 198185.8774, 50 iterations in 0.2660 sec\n",
      "   --> Time elapsed: 1.36 seconds\n",
      "seconds:  5.881104679079726\n",
      "===> Finding 15 nearest neighbors in existing embedding using Annoy approximate search...\n",
      "   --> Time elapsed: 4.39 seconds\n",
      "===> Calculating affinity matrix...\n",
      "   --> Time elapsed: 0.03 seconds\n",
      "===> Running optimization with exaggeration=4.00, lr=0.10 for 0 iterations...\n",
      "   --> Time elapsed: 0.00 seconds\n",
      "===> Running optimization with exaggeration=1.50, lr=0.10 for 250 iterations...\n",
      "Iteration   50, KL divergence 197632.1554, 50 iterations in 0.2803 sec\n",
      "Iteration  100, KL divergence 197870.5254, 50 iterations in 0.2554 sec\n",
      "Iteration  150, KL divergence 198006.6539, 50 iterations in 0.2900 sec\n",
      "Iteration  200, KL divergence 198109.0177, 50 iterations in 0.2704 sec\n",
      "Iteration  250, KL divergence 198185.8774, 50 iterations in 0.2858 sec\n",
      "   --> Time elapsed: 1.38 seconds\n",
      "seconds:  5.835983227007091\n",
      "===> Finding 15 nearest neighbors in existing embedding using Annoy approximate search...\n",
      "   --> Time elapsed: 4.42 seconds\n",
      "===> Calculating affinity matrix...\n",
      "   --> Time elapsed: 0.03 seconds\n",
      "===> Running optimization with exaggeration=4.00, lr=0.10 for 0 iterations...\n",
      "   --> Time elapsed: 0.00 seconds\n",
      "===> Running optimization with exaggeration=1.50, lr=0.10 for 250 iterations...\n",
      "Iteration   50, KL divergence 197632.1554, 50 iterations in 0.3130 sec\n",
      "Iteration  100, KL divergence 197870.5254, 50 iterations in 0.3315 sec\n",
      "Iteration  150, KL divergence 198006.6539, 50 iterations in 0.2913 sec\n",
      "Iteration  200, KL divergence 198109.0177, 50 iterations in 0.2980 sec\n",
      "Iteration  250, KL divergence 198185.8774, 50 iterations in 0.2771 sec\n",
      "   --> Time elapsed: 1.51 seconds\n",
      "seconds:  5.993956058984622\n",
      "===> Finding 15 nearest neighbors in existing embedding using Annoy approximate search...\n",
      "   --> Time elapsed: 4.43 seconds\n",
      "===> Calculating affinity matrix...\n",
      "   --> Time elapsed: 0.04 seconds\n",
      "===> Running optimization with exaggeration=4.00, lr=0.10 for 0 iterations...\n",
      "   --> Time elapsed: 0.00 seconds\n",
      "===> Running optimization with exaggeration=1.50, lr=0.10 for 250 iterations...\n",
      "Iteration   50, KL divergence 197632.1554, 50 iterations in 0.2788 sec\n",
      "Iteration  100, KL divergence 197870.5254, 50 iterations in 0.2814 sec\n",
      "Iteration  150, KL divergence 198006.6539, 50 iterations in 0.2975 sec\n",
      "Iteration  200, KL divergence 198109.0177, 50 iterations in 0.2697 sec\n",
      "Iteration  250, KL divergence 198185.8774, 50 iterations in 0.2686 sec\n",
      "   --> Time elapsed: 1.40 seconds\n",
      "seconds:  5.894441400887445\n",
      "===> Finding 15 nearest neighbors in existing embedding using Annoy approximate search...\n",
      "   --> Time elapsed: 4.31 seconds\n",
      "===> Calculating affinity matrix...\n",
      "   --> Time elapsed: 0.02 seconds\n",
      "===> Running optimization with exaggeration=4.00, lr=0.10 for 0 iterations...\n",
      "   --> Time elapsed: 0.00 seconds\n",
      "===> Running optimization with exaggeration=1.50, lr=0.10 for 250 iterations...\n",
      "Iteration   50, KL divergence 197632.1554, 50 iterations in 0.2997 sec\n",
      "Iteration  100, KL divergence 197870.5254, 50 iterations in 0.2830 sec\n",
      "Iteration  150, KL divergence 198006.6539, 50 iterations in 0.2693 sec\n",
      "Iteration  200, KL divergence 198109.0177, 50 iterations in 0.2530 sec\n",
      "Iteration  250, KL divergence 198185.8774, 50 iterations in 0.2665 sec\n",
      "   --> Time elapsed: 1.37 seconds\n",
      "seconds:  5.73490123800002\n",
      "===> Finding 15 nearest neighbors in existing embedding using Annoy approximate search...\n",
      "   --> Time elapsed: 4.99 seconds\n",
      "===> Calculating affinity matrix...\n",
      "   --> Time elapsed: 0.03 seconds\n",
      "===> Running optimization with exaggeration=4.00, lr=0.10 for 0 iterations...\n",
      "   --> Time elapsed: 0.00 seconds\n",
      "===> Running optimization with exaggeration=1.50, lr=0.10 for 250 iterations...\n",
      "Iteration   50, KL divergence 197632.1554, 50 iterations in 0.2828 sec\n",
      "Iteration  100, KL divergence 197870.5254, 50 iterations in 0.2828 sec\n",
      "Iteration  150, KL divergence 198006.6539, 50 iterations in 0.2800 sec\n",
      "Iteration  200, KL divergence 198109.0177, 50 iterations in 0.2786 sec\n",
      "Iteration  250, KL divergence 198185.8774, 50 iterations in 0.2850 sec\n",
      "   --> Time elapsed: 1.41 seconds\n",
      "seconds:  6.456362537108362\n",
      "===> Finding 15 nearest neighbors in existing embedding using Annoy approximate search...\n",
      "   --> Time elapsed: 4.41 seconds\n",
      "===> Calculating affinity matrix...\n",
      "   --> Time elapsed: 0.03 seconds\n",
      "===> Running optimization with exaggeration=4.00, lr=0.10 for 0 iterations...\n",
      "   --> Time elapsed: 0.00 seconds\n",
      "===> Running optimization with exaggeration=1.50, lr=0.10 for 250 iterations...\n",
      "Iteration   50, KL divergence 197632.1554, 50 iterations in 0.2993 sec\n",
      "Iteration  100, KL divergence 197870.5254, 50 iterations in 0.2824 sec\n",
      "Iteration  150, KL divergence 198006.6539, 50 iterations in 0.2772 sec\n",
      "Iteration  200, KL divergence 198109.0177, 50 iterations in 0.2941 sec\n",
      "Iteration  250, KL divergence 198185.8774, 50 iterations in 0.3217 sec\n",
      "   --> Time elapsed: 1.48 seconds\n",
      "seconds:  5.948355373227969\n",
      "===> Finding 15 nearest neighbors in existing embedding using Annoy approximate search...\n",
      "   --> Time elapsed: 5.29 seconds\n",
      "===> Calculating affinity matrix...\n",
      "   --> Time elapsed: 0.02 seconds\n",
      "===> Running optimization with exaggeration=4.00, lr=0.10 for 0 iterations...\n",
      "   --> Time elapsed: 0.00 seconds\n",
      "===> Running optimization with exaggeration=1.50, lr=0.10 for 250 iterations...\n",
      "Iteration   50, KL divergence 197632.1554, 50 iterations in 0.2690 sec\n",
      "Iteration  100, KL divergence 197870.5254, 50 iterations in 0.2757 sec\n",
      "Iteration  150, KL divergence 198006.6539, 50 iterations in 0.2739 sec\n",
      "Iteration  200, KL divergence 198109.0177, 50 iterations in 0.2822 sec\n",
      "Iteration  250, KL divergence 198185.8774, 50 iterations in 0.2619 sec\n",
      "   --> Time elapsed: 1.36 seconds\n",
      "seconds:  6.7024143459275365\n",
      "\n"
     ]
    }
   ],
   "source": [
    "n_repeats = 10\n",
    "times = []\n",
    "for i in tqdm(range(n_repeats)):\n",
    "    start_time = time.monotonic()\n",
    "    embedding_train.transform(X_test_flat);\n",
    "    end_time = time.monotonic()\n",
    "    print('seconds: ', end_time - start_time)\n",
    "    times.append(end_time - start_time)\n",
    "    projection_speeds.loc[len(projection_speeds)] = ['TSNE', 2, dataset, end_time - start_time]"
   ]
  },
  {
   "cell_type": "code",
   "execution_count": 51,
   "metadata": {
    "ExecuteTime": {
     "end_time": "2020-07-16T01:19:03.298996Z",
     "start_time": "2020-07-16T01:18:57.116248Z"
    }
   },
   "outputs": [
    {
     "name": "stdout",
     "output_type": "stream",
     "text": [
      "===> Finding 15 nearest neighbors in existing embedding using Annoy approximate search...\n",
      "   --> Time elapsed: 4.21 seconds\n",
      "===> Calculating affinity matrix...\n",
      "   --> Time elapsed: 0.03 seconds\n",
      "===> Running optimization with exaggeration=4.00, lr=0.10 for 0 iterations...\n",
      "   --> Time elapsed: 0.00 seconds\n",
      "===> Running optimization with exaggeration=1.50, lr=0.10 for 250 iterations...\n",
      "Iteration   50, KL divergence 197632.1554, 50 iterations in 0.2709 sec\n",
      "Iteration  100, KL divergence 197870.5254, 50 iterations in 0.2705 sec\n",
      "Iteration  150, KL divergence 198006.6539, 50 iterations in 0.2594 sec\n",
      "Iteration  200, KL divergence 198109.0177, 50 iterations in 0.2783 sec\n",
      "Iteration  250, KL divergence 198185.8774, 50 iterations in 0.2722 sec\n",
      "   --> Time elapsed: 1.35 seconds\n"
     ]
    }
   ],
   "source": [
    "z = embedding_train.transform(X_test_flat);\n",
    "out = MODEL_DIR/'projections' / dataset / 'TSNE' / 'z_test.npy'\n",
    "ensure_dir(out)\n",
    "np.save(out, z)"
   ]
  },
  {
   "cell_type": "code",
   "execution_count": 52,
   "metadata": {
    "ExecuteTime": {
     "end_time": "2020-07-16T01:19:03.370447Z",
     "start_time": "2020-07-16T01:19:03.300463Z"
    }
   },
   "outputs": [
    {
     "data": {
      "text/html": [
       "<div>\n",
       "<style scoped>\n",
       "    .dataframe tbody tr th:only-of-type {\n",
       "        vertical-align: middle;\n",
       "    }\n",
       "\n",
       "    .dataframe tbody tr th {\n",
       "        vertical-align: top;\n",
       "    }\n",
       "\n",
       "    .dataframe thead th {\n",
       "        text-align: right;\n",
       "    }\n",
       "</style>\n",
       "<table border=\"1\" class=\"dataframe\">\n",
       "  <thead>\n",
       "    <tr style=\"text-align: right;\">\n",
       "      <th></th>\n",
       "      <th>method_</th>\n",
       "      <th>dimensions</th>\n",
       "      <th>dataset</th>\n",
       "      <th>speed</th>\n",
       "    </tr>\n",
       "  </thead>\n",
       "  <tbody>\n",
       "    <tr>\n",
       "      <th>0</th>\n",
       "      <td>network</td>\n",
       "      <td>2</td>\n",
       "      <td>fmnist</td>\n",
       "      <td>1.609363</td>\n",
       "    </tr>\n",
       "    <tr>\n",
       "      <th>1</th>\n",
       "      <td>network</td>\n",
       "      <td>2</td>\n",
       "      <td>fmnist</td>\n",
       "      <td>0.243752</td>\n",
       "    </tr>\n",
       "    <tr>\n",
       "      <th>2</th>\n",
       "      <td>network</td>\n",
       "      <td>2</td>\n",
       "      <td>fmnist</td>\n",
       "      <td>0.264330</td>\n",
       "    </tr>\n",
       "    <tr>\n",
       "      <th>3</th>\n",
       "      <td>network</td>\n",
       "      <td>2</td>\n",
       "      <td>fmnist</td>\n",
       "      <td>0.253050</td>\n",
       "    </tr>\n",
       "    <tr>\n",
       "      <th>4</th>\n",
       "      <td>network</td>\n",
       "      <td>2</td>\n",
       "      <td>fmnist</td>\n",
       "      <td>0.267883</td>\n",
       "    </tr>\n",
       "    <tr>\n",
       "      <th>...</th>\n",
       "      <td>...</td>\n",
       "      <td>...</td>\n",
       "      <td>...</td>\n",
       "      <td>...</td>\n",
       "    </tr>\n",
       "    <tr>\n",
       "      <th>105</th>\n",
       "      <td>TSNE</td>\n",
       "      <td>2</td>\n",
       "      <td>fmnist</td>\n",
       "      <td>5.894441</td>\n",
       "    </tr>\n",
       "    <tr>\n",
       "      <th>106</th>\n",
       "      <td>TSNE</td>\n",
       "      <td>2</td>\n",
       "      <td>fmnist</td>\n",
       "      <td>5.734901</td>\n",
       "    </tr>\n",
       "    <tr>\n",
       "      <th>107</th>\n",
       "      <td>TSNE</td>\n",
       "      <td>2</td>\n",
       "      <td>fmnist</td>\n",
       "      <td>6.456363</td>\n",
       "    </tr>\n",
       "    <tr>\n",
       "      <th>108</th>\n",
       "      <td>TSNE</td>\n",
       "      <td>2</td>\n",
       "      <td>fmnist</td>\n",
       "      <td>5.948355</td>\n",
       "    </tr>\n",
       "    <tr>\n",
       "      <th>109</th>\n",
       "      <td>TSNE</td>\n",
       "      <td>2</td>\n",
       "      <td>fmnist</td>\n",
       "      <td>6.702414</td>\n",
       "    </tr>\n",
       "  </tbody>\n",
       "</table>\n",
       "<p>110 rows × 4 columns</p>\n",
       "</div>"
      ],
      "text/plain": [
       "     method_ dimensions dataset     speed\n",
       "0    network          2  fmnist  1.609363\n",
       "1    network          2  fmnist  0.243752\n",
       "2    network          2  fmnist  0.264330\n",
       "3    network          2  fmnist  0.253050\n",
       "4    network          2  fmnist  0.267883\n",
       "..       ...        ...     ...       ...\n",
       "105     TSNE          2  fmnist  5.894441\n",
       "106     TSNE          2  fmnist  5.734901\n",
       "107     TSNE          2  fmnist  6.456363\n",
       "108     TSNE          2  fmnist  5.948355\n",
       "109     TSNE          2  fmnist  6.702414\n",
       "\n",
       "[110 rows x 4 columns]"
      ]
     },
     "execution_count": 52,
     "metadata": {},
     "output_type": "execute_result"
    }
   ],
   "source": [
    "projection_speeds"
   ]
  },
  {
   "cell_type": "markdown",
   "metadata": {},
   "source": [
    "### Save"
   ]
  },
  {
   "cell_type": "code",
   "execution_count": 53,
   "metadata": {
    "ExecuteTime": {
     "end_time": "2020-07-16T01:19:03.421523Z",
     "start_time": "2020-07-16T01:19:03.371806Z"
    }
   },
   "outputs": [],
   "source": [
    "save_loc = DATA_DIR / 'projection_speeds' / (dataset + '.pickle')\n",
    "ensure_dir(save_loc)\n",
    "projection_speeds.to_pickle(save_loc)"
   ]
  },
  {
   "cell_type": "code",
   "execution_count": null,
   "metadata": {},
   "outputs": [],
   "source": []
  }
 ],
 "metadata": {
  "kernelspec": {
   "display_name": "Python 3",
   "language": "python",
   "name": "python3"
  },
  "language_info": {
   "codemirror_mode": {
    "name": "ipython",
    "version": 3
   },
   "file_extension": ".py",
   "mimetype": "text/x-python",
   "name": "python",
   "nbconvert_exporter": "python",
   "pygments_lexer": "ipython3",
   "version": "3.6.7"
  }
 },
 "nbformat": 4,
 "nbformat_minor": 2
}
