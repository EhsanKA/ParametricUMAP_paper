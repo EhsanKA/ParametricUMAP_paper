{
 "cells": [
  {
   "cell_type": "code",
   "execution_count": 1,
   "metadata": {
    "ExecuteTime": {
     "end_time": "2020-08-22T05:04:55.788242Z",
     "start_time": "2020-08-22T05:04:55.773987Z"
    }
   },
   "outputs": [],
   "source": [
    "# reload packages\n",
    "%load_ext autoreload\n",
    "%autoreload 2"
   ]
  },
  {
   "cell_type": "markdown",
   "metadata": {},
   "source": [
    "### Choose GPU (this may not be needed on your computer)"
   ]
  },
  {
   "cell_type": "code",
   "execution_count": 2,
   "metadata": {
    "ExecuteTime": {
     "end_time": "2020-08-22T05:04:55.797442Z",
     "start_time": "2020-08-22T05:04:55.789354Z"
    }
   },
   "outputs": [
    {
     "name": "stdout",
     "output_type": "stream",
     "text": [
      "env: CUDA_DEVICE_ORDER=PCI_BUS_ID\n",
      "env: CUDA_VISIBLE_DEVICES=0\n"
     ]
    }
   ],
   "source": [
    "%env CUDA_DEVICE_ORDER=PCI_BUS_ID\n",
    "%env CUDA_VISIBLE_DEVICES=0"
   ]
  },
  {
   "cell_type": "code",
   "execution_count": 3,
   "metadata": {
    "ExecuteTime": {
     "end_time": "2020-08-22T05:04:59.576589Z",
     "start_time": "2020-08-22T05:04:55.798628Z"
    }
   },
   "outputs": [
    {
     "name": "stdout",
     "output_type": "stream",
     "text": [
      "[PhysicalDevice(name='/physical_device:GPU:0', device_type='GPU')]\n"
     ]
    }
   ],
   "source": [
    "import tensorflow as tf\n",
    "gpu_devices = tf.config.experimental.list_physical_devices('GPU')\n",
    "if len(gpu_devices)>0:\n",
    "    tf.config.experimental.set_memory_growth(gpu_devices[0], True)\n",
    "print(gpu_devices)\n",
    "tf.keras.backend.clear_session()"
   ]
  },
  {
   "cell_type": "markdown",
   "metadata": {},
   "source": [
    "### load packages"
   ]
  },
  {
   "cell_type": "code",
   "execution_count": 4,
   "metadata": {
    "ExecuteTime": {
     "end_time": "2020-08-22T05:05:04.592720Z",
     "start_time": "2020-08-22T05:04:59.578724Z"
    }
   },
   "outputs": [
    {
     "name": "stderr",
     "output_type": "stream",
     "text": [
      "/mnt/cube/tsainbur/conda_envs/tpy3/lib/python3.6/site-packages/tqdm/autonotebook/__init__.py:14: TqdmExperimentalWarning: Using `tqdm.autonotebook.tqdm` in notebook mode. Use `tqdm.tqdm` instead to force console mode (e.g. in jupyter console)\n",
      "  \" (e.g. in jupyter console)\", TqdmExperimentalWarning)\n"
     ]
    }
   ],
   "source": [
    "from tfumap.umap import tfUMAP"
   ]
  },
  {
   "cell_type": "code",
   "execution_count": 5,
   "metadata": {
    "ExecuteTime": {
     "end_time": "2020-08-22T05:05:04.759462Z",
     "start_time": "2020-08-22T05:05:04.594741Z"
    }
   },
   "outputs": [],
   "source": [
    "import tensorflow as tf\n",
    "import numpy as np\n",
    "import matplotlib.pyplot as plt\n",
    "from tqdm.autonotebook import tqdm\n",
    "import umap\n",
    "import pandas as pd"
   ]
  },
  {
   "cell_type": "markdown",
   "metadata": {},
   "source": [
    "### Load dataset"
   ]
  },
  {
   "cell_type": "code",
   "execution_count": 6,
   "metadata": {
    "ExecuteTime": {
     "end_time": "2020-08-22T05:05:04.801270Z",
     "start_time": "2020-08-22T05:05:04.760870Z"
    }
   },
   "outputs": [],
   "source": [
    "from tensorflow.keras.datasets import mnist"
   ]
  },
  {
   "cell_type": "code",
   "execution_count": 7,
   "metadata": {
    "ExecuteTime": {
     "end_time": "2020-08-22T05:05:05.221912Z",
     "start_time": "2020-08-22T05:05:04.803015Z"
    }
   },
   "outputs": [
    {
     "name": "stdout",
     "output_type": "stream",
     "text": [
      "50000 10000 10000\n"
     ]
    }
   ],
   "source": [
    "# load dataset\n",
    "(train_images, Y_train), (test_images, Y_test) = mnist.load_data()\n",
    "X_train = (train_images/255.).astype('float32')\n",
    "X_test = (test_images/255.).astype('float32')\n",
    "X_train = X_train.reshape((len(X_train), np.product(np.shape(X_train)[1:])))\n",
    "X_test = X_test.reshape((len(X_test), np.product(np.shape(X_test)[1:])))\n",
    "\n",
    "# subset a validation set\n",
    "n_valid = 10000\n",
    "X_valid = X_train[-n_valid:]\n",
    "Y_valid = Y_train[-n_valid:]\n",
    "X_train = X_train[:-n_valid]\n",
    "Y_train = Y_train[:-n_valid]\n",
    "\n",
    "# flatten X\n",
    "X_train_flat = X_train.reshape((len(X_train), np.product(np.shape(X_train)[1:])))\n",
    "X_test_flat = X_test.reshape((len(X_test), np.product(np.shape(X_test)[1:])))\n",
    "X_valid_flat= X_valid.reshape((len(X_valid), np.product(np.shape(X_valid)[1:])))\n",
    "print(len(X_train), len(X_valid), len(X_test))"
   ]
  },
  {
   "cell_type": "markdown",
   "metadata": {},
   "source": [
    "### define networks"
   ]
  },
  {
   "cell_type": "code",
   "execution_count": 8,
   "metadata": {
    "ExecuteTime": {
     "end_time": "2020-08-22T05:05:05.266910Z",
     "start_time": "2020-08-22T05:05:05.223668Z"
    }
   },
   "outputs": [],
   "source": [
    "from tfumap.vae import VAE, Sampling"
   ]
  },
  {
   "cell_type": "code",
   "execution_count": 9,
   "metadata": {
    "ExecuteTime": {
     "end_time": "2020-08-22T05:05:08.684326Z",
     "start_time": "2020-08-22T05:05:05.268660Z"
    }
   },
   "outputs": [
    {
     "name": "stdout",
     "output_type": "stream",
     "text": [
      "Model: \"encoder\"\n",
      "__________________________________________________________________________________________________\n",
      "Layer (type)                    Output Shape         Param #     Connected to                     \n",
      "==================================================================================================\n",
      "input_1 (InputLayer)            [(None, 28, 28, 1)]  0                                            \n",
      "__________________________________________________________________________________________________\n",
      "conv2d (Conv2D)                 (None, 13, 13, 64)   640         input_1[0][0]                    \n",
      "__________________________________________________________________________________________________\n",
      "conv2d_1 (Conv2D)               (None, 6, 6, 128)    73856       conv2d[0][0]                     \n",
      "__________________________________________________________________________________________________\n",
      "flatten (Flatten)               (None, 4608)         0           conv2d_1[0][0]                   \n",
      "__________________________________________________________________________________________________\n",
      "dense (Dense)                   (None, 512)          2359808     flatten[0][0]                    \n",
      "__________________________________________________________________________________________________\n",
      "z_mean (Dense)                  (None, 2)            1026        dense[0][0]                      \n",
      "__________________________________________________________________________________________________\n",
      "z_log_var (Dense)               (None, 2)            1026        dense[0][0]                      \n",
      "__________________________________________________________________________________________________\n",
      "sampling (Sampling)             (None, 2)            0           z_mean[0][0]                     \n",
      "                                                                 z_log_var[0][0]                  \n",
      "==================================================================================================\n",
      "Total params: 2,436,356\n",
      "Trainable params: 2,436,356\n",
      "Non-trainable params: 0\n",
      "__________________________________________________________________________________________________\n"
     ]
    }
   ],
   "source": [
    "dims = (28,28,1)\n",
    "n_components = 2\n",
    "\n",
    "encoder_inputs = tf.keras.Input(shape=dims)\n",
    "x = tf.keras.layers.Conv2D(\n",
    "        filters=64, kernel_size=3, strides=(2, 2), activation=\"relu\"\n",
    "    )(encoder_inputs)\n",
    "x = tf.keras.layers.Conv2D(\n",
    "        filters=128, kernel_size=3, strides=(2, 2), activation=\"relu\"\n",
    "    )(x)\n",
    "x = tf.keras.layers.Flatten()(x)\n",
    "x = tf.keras.layers.Dense(units=512, activation=\"relu\")(x)\n",
    "z_mean = tf.keras.layers.Dense(n_components, name=\"z_mean\")(x)\n",
    "z_log_var = tf.keras.layers.Dense(n_components, name=\"z_log_var\")(x)\n",
    "z = Sampling()([z_mean, z_log_var])\n",
    "encoder = tf.keras.Model(encoder_inputs, [z_mean, z_log_var, z], name=\"encoder\")\n",
    "encoder.summary()"
   ]
  },
  {
   "cell_type": "code",
   "execution_count": 10,
   "metadata": {
    "ExecuteTime": {
     "end_time": "2020-08-22T05:05:08.975116Z",
     "start_time": "2020-08-22T05:05:08.686579Z"
    }
   },
   "outputs": [
    {
     "name": "stdout",
     "output_type": "stream",
     "text": [
      "Model: \"decoder\"\n",
      "_________________________________________________________________\n",
      "Layer (type)                 Output Shape              Param #   \n",
      "=================================================================\n",
      "input_2 (InputLayer)         [(None, 2)]               0         \n",
      "_________________________________________________________________\n",
      "dense_1 (Dense)              (None, 512)               1536      \n",
      "_________________________________________________________________\n",
      "dense_2 (Dense)              (None, 12544)             6435072   \n",
      "_________________________________________________________________\n",
      "reshape (Reshape)            (None, 7, 7, 256)         0         \n",
      "_________________________________________________________________\n",
      "conv2d_transpose (Conv2DTran (None, 14, 14, 128)       295040    \n",
      "_________________________________________________________________\n",
      "conv2d_transpose_1 (Conv2DTr (None, 28, 28, 64)        73792     \n",
      "_________________________________________________________________\n",
      "conv2d_transpose_2 (Conv2DTr (None, 28, 28, 1)         577       \n",
      "=================================================================\n",
      "Total params: 6,806,017\n",
      "Trainable params: 6,806,017\n",
      "Non-trainable params: 0\n",
      "_________________________________________________________________\n"
     ]
    }
   ],
   "source": [
    "latent_inputs = tf.keras.Input(shape=(n_components,))\n",
    "x = tf.keras.layers.Dense(units=512, activation=\"relu\")(latent_inputs)\n",
    "x = tf.keras.layers.Dense(units=7 * 7 * 256, activation=\"relu\")(x)\n",
    "x = tf.keras.layers.Reshape(target_shape=(7, 7, 256))(x)\n",
    "x = tf.keras.layers.Conv2DTranspose(\n",
    "        filters=128, kernel_size=3, strides=(2, 2), padding=\"SAME\", activation=\"relu\"\n",
    "    )(x)\n",
    "x = tf.keras.layers.Conv2DTranspose(\n",
    "        filters=64, kernel_size=3, strides=(2, 2), padding=\"SAME\", activation=\"relu\"\n",
    "    )(x)\n",
    "decoder_outputs = tf.keras.layers.Conv2DTranspose(\n",
    "        filters=1, kernel_size=3, strides=(1, 1), padding=\"SAME\", activation=\"sigmoid\"\n",
    "    )(x)\n",
    "decoder = tf.keras.Model(latent_inputs, decoder_outputs, name=\"decoder\")\n",
    "decoder.summary()\n"
   ]
  },
  {
   "cell_type": "markdown",
   "metadata": {},
   "source": [
    "### Create model and train"
   ]
  },
  {
   "cell_type": "code",
   "execution_count": 11,
   "metadata": {
    "ExecuteTime": {
     "end_time": "2020-08-22T05:05:09.019003Z",
     "start_time": "2020-08-22T05:05:08.978148Z"
    }
   },
   "outputs": [
    {
     "data": {
      "text/plain": [
       "(50000, 784)"
      ]
     },
     "execution_count": 11,
     "metadata": {},
     "output_type": "execute_result"
    }
   ],
   "source": [
    "X_train.shape"
   ]
  },
  {
   "cell_type": "code",
   "execution_count": 12,
   "metadata": {
    "ExecuteTime": {
     "end_time": "2020-08-22T05:05:09.062822Z",
     "start_time": "2020-08-22T05:05:09.021162Z"
    }
   },
   "outputs": [
    {
     "data": {
      "text/plain": [
       "(50000, 28, 28, 1)"
      ]
     },
     "execution_count": 12,
     "metadata": {},
     "output_type": "execute_result"
    }
   ],
   "source": [
    "X_train = X_train.reshape((len(X_train), 28,28,1))\n",
    "X_train.shape"
   ]
  },
  {
   "cell_type": "code",
   "execution_count": 13,
   "metadata": {
    "ExecuteTime": {
     "end_time": "2020-08-22T05:05:09.187300Z",
     "start_time": "2020-08-22T05:05:09.064140Z"
    }
   },
   "outputs": [],
   "source": [
    "vae = VAE(encoder, decoder)\n",
    "vae.compile(optimizer=tf.keras.optimizers.Adam())"
   ]
  },
  {
   "cell_type": "code",
   "execution_count": 14,
   "metadata": {
    "ExecuteTime": {
     "end_time": "2020-08-22T05:10:25.107196Z",
     "start_time": "2020-08-22T05:05:09.189711Z"
    },
    "scrolled": true
   },
   "outputs": [
    {
     "name": "stdout",
     "output_type": "stream",
     "text": [
      "Epoch 1/30\n",
      "391/391 [==============================] - 18s 46ms/step - loss: 186.9876 - reconstruction_loss: 184.9028 - kl_loss: 2.0848\n",
      "Epoch 2/30\n",
      "391/391 [==============================] - 17s 43ms/step - loss: 156.9598 - reconstruction_loss: 153.8667 - kl_loss: 3.0931\n",
      "Epoch 3/30\n",
      "391/391 [==============================] - 15s 38ms/step - loss: 151.5974 - reconstruction_loss: 148.3022 - kl_loss: 3.2952\n",
      "Epoch 4/30\n",
      "391/391 [==============================] - 14s 35ms/step - loss: 148.4995 - reconstruction_loss: 145.0980 - kl_loss: 3.4015\n",
      "Epoch 5/30\n",
      "391/391 [==============================] - 14s 35ms/step - loss: 146.4532 - reconstruction_loss: 142.9500 - kl_loss: 3.5032\n",
      "Epoch 6/30\n",
      "391/391 [==============================] - 14s 35ms/step - loss: 145.1295 - reconstruction_loss: 141.5711 - kl_loss: 3.5584\n",
      "Epoch 7/30\n",
      "391/391 [==============================] - 14s 35ms/step - loss: 143.8592 - reconstruction_loss: 140.2488 - kl_loss: 3.6104\n",
      "Epoch 8/30\n",
      "391/391 [==============================] - 14s 35ms/step - loss: 142.9389 - reconstruction_loss: 139.2879 - kl_loss: 3.6510\n",
      "Epoch 9/30\n",
      "391/391 [==============================] - 14s 35ms/step - loss: 141.9960 - reconstruction_loss: 138.3013 - kl_loss: 3.6947\n",
      "Epoch 10/30\n",
      "391/391 [==============================] - 14s 35ms/step - loss: 140.9958 - reconstruction_loss: 137.2686 - kl_loss: 3.7272\n",
      "Epoch 11/30\n",
      "391/391 [==============================] - 14s 35ms/step - loss: 140.4348 - reconstruction_loss: 136.6697 - kl_loss: 3.7651\n",
      "Epoch 12/30\n",
      "391/391 [==============================] - 14s 35ms/step - loss: 139.8072 - reconstruction_loss: 136.0252 - kl_loss: 3.7820\n",
      "Epoch 13/30\n",
      "391/391 [==============================] - 14s 35ms/step - loss: 139.1537 - reconstruction_loss: 135.3628 - kl_loss: 3.7909\n",
      "Epoch 14/30\n",
      "391/391 [==============================] - 11s 29ms/step - loss: 138.7739 - reconstruction_loss: 134.9617 - kl_loss: 3.8122\n",
      "Epoch 15/30\n",
      "391/391 [==============================] - 9s 23ms/step - loss: 138.2706 - reconstruction_loss: 134.4328 - kl_loss: 3.8378\n",
      "Epoch 16/30\n",
      "391/391 [==============================] - 7s 19ms/step - loss: 137.9304 - reconstruction_loss: 134.0778 - kl_loss: 3.8526\n",
      "Epoch 17/30\n",
      "391/391 [==============================] - 7s 19ms/step - loss: 137.4318 - reconstruction_loss: 133.5632 - kl_loss: 3.8686\n",
      "Epoch 18/30\n",
      "391/391 [==============================] - 7s 19ms/step - loss: 137.1512 - reconstruction_loss: 133.2673 - kl_loss: 3.8839\n",
      "Epoch 19/30\n",
      "391/391 [==============================] - 8s 19ms/step - loss: 136.8345 - reconstruction_loss: 132.9384 - kl_loss: 3.8962\n",
      "Epoch 20/30\n",
      "391/391 [==============================] - 7s 19ms/step - loss: 136.5772 - reconstruction_loss: 132.6639 - kl_loss: 3.9133\n",
      "Epoch 21/30\n",
      "391/391 [==============================] - 7s 19ms/step - loss: 136.1886 - reconstruction_loss: 132.2616 - kl_loss: 3.9270\n",
      "Epoch 22/30\n",
      "391/391 [==============================] - 7s 18ms/step - loss: 135.9146 - reconstruction_loss: 131.9803 - kl_loss: 3.9343\n",
      "Epoch 23/30\n",
      "391/391 [==============================] - 7s 19ms/step - loss: 135.7327 - reconstruction_loss: 131.7984 - kl_loss: 3.9342\n",
      "Epoch 24/30\n",
      "391/391 [==============================] - 7s 19ms/step - loss: 135.4360 - reconstruction_loss: 131.4755 - kl_loss: 3.9605\n",
      "Epoch 25/30\n",
      "391/391 [==============================] - 7s 18ms/step - loss: 135.2849 - reconstruction_loss: 131.3351 - kl_loss: 3.9498\n",
      "Epoch 26/30\n",
      "391/391 [==============================] - 7s 18ms/step - loss: 135.1018 - reconstruction_loss: 131.1320 - kl_loss: 3.9698\n",
      "Epoch 27/30\n",
      "391/391 [==============================] - 5s 14ms/step - loss: 134.8255 - reconstruction_loss: 130.8495 - kl_loss: 3.9760\n",
      "Epoch 28/30\n",
      "391/391 [==============================] - 4s 10ms/step - loss: 134.5580 - reconstruction_loss: 130.5669 - kl_loss: 3.9911\n",
      "Epoch 29/30\n",
      "391/391 [==============================] - 4s 11ms/step - loss: 134.4583 - reconstruction_loss: 130.4628 - kl_loss: 3.9955\n",
      "Epoch 30/30\n",
      "391/391 [==============================] - 5s 12ms/step - loss: 134.2354 - reconstruction_loss: 130.2311 - kl_loss: 4.0043\n"
     ]
    },
    {
     "data": {
      "text/plain": [
       "<tensorflow.python.keras.callbacks.History at 0x7f740d79b4a8>"
      ]
     },
     "execution_count": 14,
     "metadata": {},
     "output_type": "execute_result"
    }
   ],
   "source": [
    "vae.fit(X_train, epochs=30, batch_size=128)"
   ]
  },
  {
   "cell_type": "code",
   "execution_count": 15,
   "metadata": {
    "ExecuteTime": {
     "end_time": "2020-08-22T05:10:25.201623Z",
     "start_time": "2020-08-22T05:10:25.109298Z"
    },
    "scrolled": false
   },
   "outputs": [],
   "source": [
    "# z = embedder.fit_transform(X_train_flat)"
   ]
  },
  {
   "cell_type": "code",
   "execution_count": 16,
   "metadata": {
    "ExecuteTime": {
     "end_time": "2020-08-22T05:10:27.313053Z",
     "start_time": "2020-08-22T05:10:25.203374Z"
    }
   },
   "outputs": [],
   "source": [
    "z = vae.encoder.predict(X_train)[0]"
   ]
  },
  {
   "cell_type": "markdown",
   "metadata": {},
   "source": [
    "### Plot model output"
   ]
  },
  {
   "cell_type": "code",
   "execution_count": 17,
   "metadata": {
    "ExecuteTime": {
     "end_time": "2020-08-22T05:10:29.870538Z",
     "start_time": "2020-08-22T05:10:27.314801Z"
    }
   },
   "outputs": [
    {
     "data": {
      "image/png": "[encoded data removed]",
      "text/plain": [
       "<Figure size 576x576 with 2 Axes>"
      ]
     },
     "metadata": {
      "needs_background": "light"
     },
     "output_type": "display_data"
    }
   ],
   "source": [
    "fig, ax = plt.subplots( figsize=(8, 8))\n",
    "sc = ax.scatter(\n",
    "    z[:, 0],\n",
    "    z[:, 1],\n",
    "    c=Y_train.astype(int)[:len(z)],\n",
    "    cmap=\"tab10\",\n",
    "    s=0.1,\n",
    "    alpha=0.5,\n",
    "    rasterized=True,\n",
    ")\n",
    "ax.axis('equal')\n",
    "ax.set_title(\"UMAP in Tensorflow embedding\", fontsize=20)\n",
    "plt.colorbar(sc, ax=ax);"
   ]
  },
  {
   "cell_type": "markdown",
   "metadata": {},
   "source": [
    "### View loss"
   ]
  },
  {
   "cell_type": "code",
   "execution_count": 18,
   "metadata": {
    "ExecuteTime": {
     "end_time": "2020-08-22T05:10:30.016192Z",
     "start_time": "2020-08-22T05:10:29.874599Z"
    }
   },
   "outputs": [],
   "source": [
    "from tfumap.umap import retrieve_tensors\n",
    "import seaborn as sns"
   ]
  },
  {
   "cell_type": "markdown",
   "metadata": {},
   "source": [
    "### Save output"
   ]
  },
  {
   "cell_type": "code",
   "execution_count": 19,
   "metadata": {
    "ExecuteTime": {
     "end_time": "2020-08-22T05:10:30.080149Z",
     "start_time": "2020-08-22T05:10:30.019478Z"
    }
   },
   "outputs": [],
   "source": [
    "from tfumap.paths import ensure_dir, MODEL_DIR"
   ]
  },
  {
   "cell_type": "code",
   "execution_count": 20,
   "metadata": {
    "ExecuteTime": {
     "end_time": "2020-08-22T05:10:30.167130Z",
     "start_time": "2020-08-22T05:10:30.090891Z"
    }
   },
   "outputs": [],
   "source": [
    "output_dir = MODEL_DIR/'projections'/ 'mnist' / 'vae'\n",
    "ensure_dir(output_dir)"
   ]
  },
  {
   "cell_type": "code",
   "execution_count": 22,
   "metadata": {
    "ExecuteTime": {
     "end_time": "2020-08-22T05:16:17.318219Z",
     "start_time": "2020-08-22T05:16:17.233632Z"
    }
   },
   "outputs": [],
   "source": [
    "#vae.save(output_dir)"
   ]
  },
  {
   "cell_type": "code",
   "execution_count": 23,
   "metadata": {
    "ExecuteTime": {
     "end_time": "2020-08-22T05:16:19.864441Z",
     "start_time": "2020-08-22T05:16:17.497208Z"
    }
   },
   "outputs": [
    {
     "name": "stderr",
     "output_type": "stream",
     "text": [
      "W0821 22:16:18.451584 140141161494336 deprecation.py:323] From /mnt/cube/tsainbur/conda_envs/tpy3/lib/python3.6/site-packages/tensorflow/python/training/tracking/tracking.py:111: Model.state_updates (from tensorflow.python.keras.engine.training) is deprecated and will be removed in a future version.\n",
      "Instructions for updating:\n",
      "This property should not be used in TensorFlow 2.0, as updates are applied automatically.\n",
      "W0821 22:16:18.528814 140141161494336 deprecation.py:323] From /mnt/cube/tsainbur/conda_envs/tpy3/lib/python3.6/site-packages/tensorflow/python/training/tracking/tracking.py:111: Layer.updates (from tensorflow.python.keras.engine.base_layer) is deprecated and will be removed in a future version.\n",
      "Instructions for updating:\n",
      "This property should not be used in TensorFlow 2.0, as updates are applied automatically.\n",
      "I0821 22:16:19.822197 140141161494336 builder_impl.py:775] Assets written to: /mnt/cube/tsainbur/Projects/github_repos/umap_tf_networks/models/projections/mnist/vae/encoder/assets\n"
     ]
    }
   ],
   "source": [
    "vae.encoder.save(output_dir / 'encoder')"
   ]
  },
  {
   "cell_type": "code",
   "execution_count": 24,
   "metadata": {
    "ExecuteTime": {
     "end_time": "2020-08-22T05:16:21.379019Z",
     "start_time": "2020-08-22T05:16:19.866065Z"
    }
   },
   "outputs": [
    {
     "name": "stderr",
     "output_type": "stream",
     "text": [
      "I0821 22:16:21.329332 140141161494336 builder_impl.py:775] Assets written to: /mnt/cube/tsainbur/Projects/github_repos/umap_tf_networks/models/projections/mnist/vae/encoder/assets\n"
     ]
    }
   ],
   "source": [
    "vae.decoder.save(output_dir / 'encoder')"
   ]
  },
  {
   "cell_type": "code",
   "execution_count": 25,
   "metadata": {
    "ExecuteTime": {
     "end_time": "2020-08-22T05:16:21.462278Z",
     "start_time": "2020-08-22T05:16:21.380553Z"
    }
   },
   "outputs": [],
   "source": [
    "#loss_df.to_pickle(output_dir / 'loss_df.pickle')"
   ]
  },
  {
   "cell_type": "code",
   "execution_count": 26,
   "metadata": {
    "ExecuteTime": {
     "end_time": "2020-08-22T05:16:21.533424Z",
     "start_time": "2020-08-22T05:16:21.463862Z"
    }
   },
   "outputs": [],
   "source": [
    "np.save(output_dir / 'z.npy', z)"
   ]
  },
  {
   "cell_type": "markdown",
   "metadata": {},
   "source": [
    "### compute metrics "
   ]
  },
  {
   "cell_type": "code",
   "execution_count": 29,
   "metadata": {
    "ExecuteTime": {
     "end_time": "2020-08-22T05:16:30.348637Z",
     "start_time": "2020-08-22T05:16:30.145729Z"
    }
   },
   "outputs": [
    {
     "data": {
      "text/plain": [
       "(10000, 784)"
      ]
     },
     "execution_count": 29,
     "metadata": {},
     "output_type": "execute_result"
    }
   ],
   "source": [
    "X_test.shape"
   ]
  },
  {
   "cell_type": "code",
   "execution_count": 30,
   "metadata": {
    "ExecuteTime": {
     "end_time": "2020-08-22T05:16:31.154952Z",
     "start_time": "2020-08-22T05:16:30.495309Z"
    }
   },
   "outputs": [],
   "source": [
    "z_test = encoder.predict(X_test.reshape((len(X_test), 28,28,1)))[0]"
   ]
  },
  {
   "cell_type": "markdown",
   "metadata": {},
   "source": [
    "#### silhouette"
   ]
  },
  {
   "cell_type": "code",
   "execution_count": 31,
   "metadata": {
    "ExecuteTime": {
     "end_time": "2020-08-22T05:16:31.445412Z",
     "start_time": "2020-08-22T05:16:31.342847Z"
    }
   },
   "outputs": [],
   "source": [
    "from tfumap.silhouette import silhouette_score_block"
   ]
  },
  {
   "cell_type": "code",
   "execution_count": 32,
   "metadata": {
    "ExecuteTime": {
     "end_time": "2020-08-22T05:16:46.880014Z",
     "start_time": "2020-08-22T05:16:31.498982Z"
    }
   },
   "outputs": [
    {
     "data": {
      "text/plain": [
       "0.0627254548566289"
      ]
     },
     "execution_count": 32,
     "metadata": {},
     "output_type": "execute_result"
    }
   ],
   "source": [
    "ss, sil_samp = silhouette_score_block(z, Y_train, n_jobs = -1)\n",
    "ss"
   ]
  },
  {
   "cell_type": "code",
   "execution_count": 33,
   "metadata": {
    "ExecuteTime": {
     "end_time": "2020-08-22T05:16:47.474308Z",
     "start_time": "2020-08-22T05:16:46.882984Z"
    }
   },
   "outputs": [
    {
     "data": {
      "text/plain": [
       "0.06633251290947303"
      ]
     },
     "execution_count": 33,
     "metadata": {},
     "output_type": "execute_result"
    }
   ],
   "source": [
    "ss_test, sil_samp_test = silhouette_score_block(z_test, Y_test, n_jobs = -1)\n",
    "ss_test"
   ]
  },
  {
   "cell_type": "code",
   "execution_count": 34,
   "metadata": {
    "ExecuteTime": {
     "end_time": "2020-08-22T05:16:52.895882Z",
     "start_time": "2020-08-22T05:16:47.476257Z"
    }
   },
   "outputs": [
    {
     "data": {
      "text/plain": [
       "<matplotlib.collections.PathCollection at 0x7f74c6a15f60>"
      ]
     },
     "execution_count": 34,
     "metadata": {},
     "output_type": "execute_result"
    },
    {
     "data": {
      "image/png": "[encoded data removed]",
      "text/plain": [
       "<Figure size 720x360 with 2 Axes>"
      ]
     },
     "metadata": {
      "needs_background": "light"
     },
     "output_type": "display_data"
    }
   ],
   "source": [
    "fig, axs = plt.subplots(ncols = 2, figsize=(10, 5))\n",
    "axs[0].scatter(z[:, 0], z[:, 1], s=0.1, alpha=0.5, c=sil_samp, cmap=plt.cm.viridis)\n",
    "axs[1].scatter(z_test[:, 0], z_test[:, 1], s=1, alpha=0.5, c=sil_samp_test, cmap=plt.cm.viridis)"
   ]
  },
  {
   "cell_type": "markdown",
   "metadata": {},
   "source": [
    "#### KNN"
   ]
  },
  {
   "cell_type": "code",
   "execution_count": 35,
   "metadata": {
    "ExecuteTime": {
     "end_time": "2020-08-22T05:16:53.068574Z",
     "start_time": "2020-08-22T05:16:52.898121Z"
    }
   },
   "outputs": [],
   "source": [
    "from sklearn.neighbors import KNeighborsClassifier"
   ]
  },
  {
   "cell_type": "code",
   "execution_count": 36,
   "metadata": {
    "ExecuteTime": {
     "end_time": "2020-08-22T05:16:57.353648Z",
     "start_time": "2020-08-22T05:16:56.592808Z"
    }
   },
   "outputs": [
    {
     "data": {
      "text/plain": [
       "0.7649"
      ]
     },
     "execution_count": 36,
     "metadata": {},
     "output_type": "execute_result"
    }
   ],
   "source": [
    "neigh5 = KNeighborsClassifier(n_neighbors=5)\n",
    "neigh5.fit(z, Y_train)\n",
    "score_5nn = neigh5.score(z_test, Y_test)\n",
    "score_5nn"
   ]
  },
  {
   "cell_type": "code",
   "execution_count": 37,
   "metadata": {
    "ExecuteTime": {
     "end_time": "2020-08-22T05:16:58.161798Z",
     "start_time": "2020-08-22T05:16:57.356315Z"
    }
   },
   "outputs": [
    {
     "data": {
      "text/plain": [
       "0.7241"
      ]
     },
     "execution_count": 37,
     "metadata": {},
     "output_type": "execute_result"
    }
   ],
   "source": [
    "neigh1 = KNeighborsClassifier(n_neighbors=1)\n",
    "neigh1.fit(z, Y_train)\n",
    "score_1nn = neigh1.score(z_test, Y_test)\n",
    "score_1nn"
   ]
  },
  {
   "cell_type": "markdown",
   "metadata": {},
   "source": [
    "#### Trustworthiness"
   ]
  },
  {
   "cell_type": "code",
   "execution_count": 38,
   "metadata": {
    "ExecuteTime": {
     "end_time": "2020-08-22T05:16:58.281000Z",
     "start_time": "2020-08-22T05:16:58.163853Z"
    }
   },
   "outputs": [],
   "source": [
    "from sklearn.manifold import trustworthiness"
   ]
  },
  {
   "cell_type": "code",
   "execution_count": 39,
   "metadata": {
    "ExecuteTime": {
     "end_time": "2020-08-22T05:17:23.117703Z",
     "start_time": "2020-08-22T05:16:58.283324Z"
    }
   },
   "outputs": [],
   "source": [
    "tw = trustworthiness(X_train_flat[:10000], z[:10000])"
   ]
  },
  {
   "cell_type": "code",
   "execution_count": 40,
   "metadata": {
    "ExecuteTime": {
     "end_time": "2020-08-22T05:17:45.306277Z",
     "start_time": "2020-08-22T05:17:23.120299Z"
    }
   },
   "outputs": [],
   "source": [
    "tw_test = trustworthiness(X_test_flat[:10000], z_test[:10000])"
   ]
  },
  {
   "cell_type": "code",
   "execution_count": 41,
   "metadata": {
    "ExecuteTime": {
     "end_time": "2020-08-22T05:17:45.523297Z",
     "start_time": "2020-08-22T05:17:45.310979Z"
    }
   },
   "outputs": [
    {
     "data": {
      "text/plain": [
       "(0.9512980464371498, 0.9202522598078463)"
      ]
     },
     "execution_count": 41,
     "metadata": {},
     "output_type": "execute_result"
    }
   ],
   "source": [
    "tw, tw_test"
   ]
  },
  {
   "cell_type": "markdown",
   "metadata": {},
   "source": [
    "### Save output metrics"
   ]
  },
  {
   "cell_type": "code",
   "execution_count": 42,
   "metadata": {
    "ExecuteTime": {
     "end_time": "2020-08-22T05:17:45.688427Z",
     "start_time": "2020-08-22T05:17:45.528077Z"
    }
   },
   "outputs": [],
   "source": [
    "from tfumap.paths import ensure_dir, MODEL_DIR, DATA_DIR"
   ]
  },
  {
   "cell_type": "code",
   "execution_count": 43,
   "metadata": {
    "ExecuteTime": {
     "end_time": "2020-08-22T05:17:45.868515Z",
     "start_time": "2020-08-22T05:17:45.693480Z"
    }
   },
   "outputs": [],
   "source": [
    "dataset = 'mnist'"
   ]
  },
  {
   "cell_type": "markdown",
   "metadata": {},
   "source": [
    "#### train"
   ]
  },
  {
   "cell_type": "code",
   "execution_count": 44,
   "metadata": {
    "ExecuteTime": {
     "end_time": "2020-08-22T05:17:46.149158Z",
     "start_time": "2020-08-22T05:17:45.870490Z"
    }
   },
   "outputs": [
    {
     "data": {
      "text/html": [
       "<div>\n",
       "<style scoped>\n",
       "    .dataframe tbody tr th:only-of-type {\n",
       "        vertical-align: middle;\n",
       "    }\n",
       "\n",
       "    .dataframe tbody tr th {\n",
       "        vertical-align: top;\n",
       "    }\n",
       "\n",
       "    .dataframe thead th {\n",
       "        text-align: right;\n",
       "    }\n",
       "</style>\n",
       "<table border=\"1\" class=\"dataframe\">\n",
       "  <thead>\n",
       "    <tr style=\"text-align: right;\">\n",
       "      <th></th>\n",
       "      <th>dataset</th>\n",
       "      <th>class_</th>\n",
       "      <th>dim</th>\n",
       "      <th>trustworthiness</th>\n",
       "      <th>silhouette_score</th>\n",
       "      <th>silhouette_samples</th>\n",
       "    </tr>\n",
       "  </thead>\n",
       "  <tbody>\n",
       "    <tr>\n",
       "      <th>0</th>\n",
       "      <td>mnist</td>\n",
       "      <td>vae</td>\n",
       "      <td>2</td>\n",
       "      <td>0.951298</td>\n",
       "      <td>0.062725</td>\n",
       "      <td>[-0.4249311765798937, 0.31860124944781043, 0.0...</td>\n",
       "    </tr>\n",
       "  </tbody>\n",
       "</table>\n",
       "</div>"
      ],
      "text/plain": [
       "  dataset class_ dim  trustworthiness  silhouette_score  \\\n",
       "0   mnist    vae   2         0.951298          0.062725   \n",
       "\n",
       "                                  silhouette_samples  \n",
       "0  [-0.4249311765798937, 0.31860124944781043, 0.0...  "
      ]
     },
     "execution_count": 44,
     "metadata": {},
     "output_type": "execute_result"
    }
   ],
   "source": [
    "metrics_df = pd.DataFrame(\n",
    "    columns=[\n",
    "        \"dataset\",\n",
    "        \"class_\",\n",
    "        \"dim\",\n",
    "        \"trustworthiness\",\n",
    "        \"silhouette_score\",\n",
    "        \"silhouette_samples\",\n",
    "    ]\n",
    ")\n",
    "metrics_df.loc[len(metrics_df)] = [dataset, 'vae', n_components, tw, ss, sil_samp]\n",
    "metrics_df"
   ]
  },
  {
   "cell_type": "code",
   "execution_count": 45,
   "metadata": {
    "ExecuteTime": {
     "end_time": "2020-08-22T05:17:46.402263Z",
     "start_time": "2020-08-22T05:17:46.157360Z"
    }
   },
   "outputs": [],
   "source": [
    "save_loc = DATA_DIR / 'projection_metrics' /  'vae' / 'train' / str(n_components) / (dataset + '.pickle')\n",
    "ensure_dir(save_loc)\n",
    "metrics_df.to_pickle(save_loc)"
   ]
  },
  {
   "cell_type": "markdown",
   "metadata": {},
   "source": [
    "#### test"
   ]
  },
  {
   "cell_type": "code",
   "execution_count": 46,
   "metadata": {
    "ExecuteTime": {
     "end_time": "2020-08-22T05:17:46.658377Z",
     "start_time": "2020-08-22T05:17:46.405371Z"
    }
   },
   "outputs": [
    {
     "data": {
      "text/html": [
       "<div>\n",
       "<style scoped>\n",
       "    .dataframe tbody tr th:only-of-type {\n",
       "        vertical-align: middle;\n",
       "    }\n",
       "\n",
       "    .dataframe tbody tr th {\n",
       "        vertical-align: top;\n",
       "    }\n",
       "\n",
       "    .dataframe thead th {\n",
       "        text-align: right;\n",
       "    }\n",
       "</style>\n",
       "<table border=\"1\" class=\"dataframe\">\n",
       "  <thead>\n",
       "    <tr style=\"text-align: right;\">\n",
       "      <th></th>\n",
       "      <th>dataset</th>\n",
       "      <th>class_</th>\n",
       "      <th>dim</th>\n",
       "      <th>trustworthiness</th>\n",
       "      <th>silhouette_score</th>\n",
       "      <th>silhouette_samples</th>\n",
       "    </tr>\n",
       "  </thead>\n",
       "  <tbody>\n",
       "    <tr>\n",
       "      <th>1</th>\n",
       "      <td>mnist</td>\n",
       "      <td>vae</td>\n",
       "      <td>2</td>\n",
       "      <td>0.920252</td>\n",
       "      <td>0.066333</td>\n",
       "      <td>[0.07530093875386917, 0.13428258920053682, 0.5...</td>\n",
       "    </tr>\n",
       "  </tbody>\n",
       "</table>\n",
       "</div>"
      ],
      "text/plain": [
       "  dataset class_ dim  trustworthiness  silhouette_score  \\\n",
       "1   mnist    vae   2         0.920252          0.066333   \n",
       "\n",
       "                                  silhouette_samples  \n",
       "1  [0.07530093875386917, 0.13428258920053682, 0.5...  "
      ]
     },
     "execution_count": 46,
     "metadata": {},
     "output_type": "execute_result"
    }
   ],
   "source": [
    "metrics_df_test = pd.DataFrame(\n",
    "    columns=[\n",
    "        \"dataset\",\n",
    "        \"class_\",\n",
    "        \"dim\",\n",
    "        \"trustworthiness\",\n",
    "        \"silhouette_score\",\n",
    "        \"silhouette_samples\",\n",
    "    ]\n",
    ")\n",
    "metrics_df_test.loc[len(metrics_df)] = [dataset, 'vae', n_components, tw_test, ss_test, sil_samp_test]\n",
    "metrics_df_test"
   ]
  },
  {
   "cell_type": "code",
   "execution_count": 47,
   "metadata": {
    "ExecuteTime": {
     "end_time": "2020-08-22T05:17:46.795037Z",
     "start_time": "2020-08-22T05:17:46.662296Z"
    }
   },
   "outputs": [],
   "source": [
    "save_loc = DATA_DIR / 'projection_metrics' / 'vae' / 'test' / str(n_components) / (dataset + '.pickle')\n",
    "ensure_dir(save_loc)\n",
    "metrics_df.to_pickle(save_loc)"
   ]
  },
  {
   "cell_type": "markdown",
   "metadata": {},
   "source": [
    "#### knn "
   ]
  },
  {
   "cell_type": "code",
   "execution_count": 48,
   "metadata": {
    "ExecuteTime": {
     "end_time": "2020-08-22T05:17:47.098846Z",
     "start_time": "2020-08-22T05:17:46.797564Z"
    }
   },
   "outputs": [
    {
     "data": {
      "text/html": [
       "<div>\n",
       "<style scoped>\n",
       "    .dataframe tbody tr th:only-of-type {\n",
       "        vertical-align: middle;\n",
       "    }\n",
       "\n",
       "    .dataframe tbody tr th {\n",
       "        vertical-align: top;\n",
       "    }\n",
       "\n",
       "    .dataframe thead th {\n",
       "        text-align: right;\n",
       "    }\n",
       "</style>\n",
       "<table border=\"1\" class=\"dataframe\">\n",
       "  <thead>\n",
       "    <tr style=\"text-align: right;\">\n",
       "      <th></th>\n",
       "      <th>method_</th>\n",
       "      <th>dimensions</th>\n",
       "      <th>dataset</th>\n",
       "      <th>1NN_acc</th>\n",
       "      <th>5NN_acc</th>\n",
       "    </tr>\n",
       "  </thead>\n",
       "  <tbody>\n",
       "    <tr>\n",
       "      <th>0</th>\n",
       "      <td>vae</td>\n",
       "      <td>2</td>\n",
       "      <td>mnist</td>\n",
       "      <td>0.7241</td>\n",
       "      <td>0.7649</td>\n",
       "    </tr>\n",
       "  </tbody>\n",
       "</table>\n",
       "</div>"
      ],
      "text/plain": [
       "  method_ dimensions dataset  1NN_acc  5NN_acc\n",
       "0     vae          2   mnist   0.7241   0.7649"
      ]
     },
     "execution_count": 48,
     "metadata": {},
     "output_type": "execute_result"
    }
   ],
   "source": [
    "nn_acc_df = pd.DataFrame(columns = [\"method_\",\"dimensions\",\"dataset\",\"1NN_acc\",\"5NN_acc\"])\n",
    "nn_acc_df.loc[len(nn_acc_df)] = ['vae', n_components, dataset,  score_1nn, score_5nn]\n",
    "nn_acc_df"
   ]
  },
  {
   "cell_type": "code",
   "execution_count": 49,
   "metadata": {
    "ExecuteTime": {
     "end_time": "2020-08-22T05:17:47.671175Z",
     "start_time": "2020-08-22T05:17:47.103345Z"
    }
   },
   "outputs": [],
   "source": [
    "save_loc = DATA_DIR / 'knn_classifier' / 'vae' / 'train' / str(n_components) / (dataset + '.pickle')\n",
    "ensure_dir(save_loc)\n",
    "nn_acc_df.to_pickle(save_loc)"
   ]
  },
  {
   "cell_type": "markdown",
   "metadata": {},
   "source": [
    "### Reconstruction"
   ]
  },
  {
   "cell_type": "code",
   "execution_count": 50,
   "metadata": {
    "ExecuteTime": {
     "end_time": "2020-08-22T05:17:47.827193Z",
     "start_time": "2020-08-22T05:17:47.675570Z"
    }
   },
   "outputs": [],
   "source": [
    "from sklearn.metrics import mean_squared_error, mean_absolute_error, median_absolute_error, r2_score"
   ]
  },
  {
   "cell_type": "code",
   "execution_count": 51,
   "metadata": {
    "ExecuteTime": {
     "end_time": "2020-08-22T05:17:49.454975Z",
     "start_time": "2020-08-22T05:17:47.828558Z"
    }
   },
   "outputs": [],
   "source": [
    "X_recon = vae.decoder.predict(vae.encoder.predict(X_test.reshape((len(X_test), 28, 28, 1)))[0])\n",
    "X_real = X_test.reshape((len(X_test), 28, 28, 1))"
   ]
  },
  {
   "cell_type": "code",
   "execution_count": 52,
   "metadata": {
    "ExecuteTime": {
     "end_time": "2020-08-22T05:17:49.673006Z",
     "start_time": "2020-08-22T05:17:49.458193Z"
    }
   },
   "outputs": [],
   "source": [
    "x_real = X_test.reshape((len(X_test), np.product(np.shape(X_test)[1:])))\n",
    "x_recon = X_recon.reshape((len(X_test), np.product(np.shape(X_test)[1:])))"
   ]
  },
  {
   "cell_type": "code",
   "execution_count": 53,
   "metadata": {
    "ExecuteTime": {
     "end_time": "2020-08-22T05:17:49.851973Z",
     "start_time": "2020-08-22T05:17:49.686389Z"
    }
   },
   "outputs": [],
   "source": [
    "reconstruction_acc_df = pd.DataFrame(\n",
    "    columns=[\"method_\", \"dimensions\", \"dataset\", \"MSE\", \"MAE\", \"MedAE\", \"R2\"]\n",
    ")"
   ]
  },
  {
   "cell_type": "code",
   "execution_count": 54,
   "metadata": {
    "ExecuteTime": {
     "end_time": "2020-08-22T05:17:50.872744Z",
     "start_time": "2020-08-22T05:17:49.853708Z"
    }
   },
   "outputs": [
    {
     "data": {
      "text/html": [
       "<div>\n",
       "<style scoped>\n",
       "    .dataframe tbody tr th:only-of-type {\n",
       "        vertical-align: middle;\n",
       "    }\n",
       "\n",
       "    .dataframe tbody tr th {\n",
       "        vertical-align: top;\n",
       "    }\n",
       "\n",
       "    .dataframe thead th {\n",
       "        text-align: right;\n",
       "    }\n",
       "</style>\n",
       "<table border=\"1\" class=\"dataframe\">\n",
       "  <thead>\n",
       "    <tr style=\"text-align: right;\">\n",
       "      <th></th>\n",
       "      <th>method_</th>\n",
       "      <th>dimensions</th>\n",
       "      <th>dataset</th>\n",
       "      <th>MSE</th>\n",
       "      <th>MAE</th>\n",
       "      <th>MedAE</th>\n",
       "      <th>R2</th>\n",
       "    </tr>\n",
       "  </thead>\n",
       "  <tbody>\n",
       "    <tr>\n",
       "      <th>0</th>\n",
       "      <td>vae</td>\n",
       "      <td>2</td>\n",
       "      <td>mnist</td>\n",
       "      <td>0.037106</td>\n",
       "      <td>0.086902</td>\n",
       "      <td>0.053122</td>\n",
       "      <td>0.155441</td>\n",
       "    </tr>\n",
       "  </tbody>\n",
       "</table>\n",
       "</div>"
      ],
      "text/plain": [
       "  method_ dimensions dataset       MSE       MAE     MedAE        R2\n",
       "0     vae          2   mnist  0.037106  0.086902  0.053122  0.155441"
      ]
     },
     "execution_count": 54,
     "metadata": {},
     "output_type": "execute_result"
    }
   ],
   "source": [
    "MSE = mean_squared_error(\n",
    "    x_real, \n",
    "    x_recon\n",
    ")\n",
    "MAE = mean_absolute_error(\n",
    "    x_real, \n",
    "    x_recon\n",
    ")\n",
    "MedAE = median_absolute_error(\n",
    "    x_real, \n",
    "    x_recon\n",
    ")\n",
    "R2 = r2_score(\n",
    "    x_real, \n",
    "    x_recon\n",
    ")\n",
    "\n",
    "reconstruction_acc_df.loc[len(reconstruction_acc_df)] = ['vae', 2, dataset, MSE, MAE, MedAE, R2]\n",
    "reconstruction_acc_df"
   ]
  },
  {
   "cell_type": "code",
   "execution_count": 55,
   "metadata": {
    "ExecuteTime": {
     "end_time": "2020-08-22T05:17:51.031125Z",
     "start_time": "2020-08-22T05:17:50.874413Z"
    }
   },
   "outputs": [],
   "source": [
    "save_loc = DATA_DIR / 'reconstruction_acc' / 'vae' / str(n_components) / (dataset + '.pickle')\n",
    "ensure_dir(save_loc)\n",
    "reconstruction_acc_df.to_pickle(save_loc)"
   ]
  },
  {
   "cell_type": "markdown",
   "metadata": {},
   "source": [
    "### Compute clustering quality"
   ]
  },
  {
   "cell_type": "code",
   "execution_count": 56,
   "metadata": {
    "ExecuteTime": {
     "end_time": "2020-08-22T05:17:51.223806Z",
     "start_time": "2020-08-22T05:17:51.034199Z"
    }
   },
   "outputs": [],
   "source": [
    "from sklearn.cluster import KMeans\n",
    "from sklearn.metrics import homogeneity_completeness_v_measure"
   ]
  },
  {
   "cell_type": "code",
   "execution_count": 57,
   "metadata": {
    "ExecuteTime": {
     "end_time": "2020-08-22T05:17:51.390965Z",
     "start_time": "2020-08-22T05:17:51.225533Z"
    }
   },
   "outputs": [],
   "source": [
    "def get_cluster_metrics(row, n_init=5):\n",
    "    \n",
    "    # load cluster information\n",
    "    save_loc = DATA_DIR / 'clustering_metric_df'/ ('_'.join([row.class_, str(row.dim), row.dataset]) + '.pickle')\n",
    "    print(save_loc)\n",
    "    if save_loc.exists() and save_loc.is_file():\n",
    "        \n",
    "        cluster_df = pd.read_pickle(save_loc)\n",
    "        return cluster_df\n",
    "    \n",
    "    # make cluster metric dataframe\n",
    "    cluster_df = pd.DataFrame(\n",
    "        columns=[\n",
    "            \"dataset\",\n",
    "            \"class_\",\n",
    "            \"dim\",\n",
    "            \"silhouette\",\n",
    "            \"homogeneity\",\n",
    "            \"completeness\",\n",
    "            \"v_measure\",\n",
    "            \"init_\",\n",
    "            \"n_clusters\",\n",
    "            \"model\",\n",
    "        ]\n",
    "    )\n",
    "    y = row.train_label\n",
    "    z = row.train_z\n",
    "    n_labels = len(np.unique(y))\n",
    "    for n_clusters in tqdm(np.arange(n_labels - int(n_labels / 2), n_labels + int(n_labels / 2)), leave=False, desc = 'n_clusters'):\n",
    "        for init_ in tqdm(range(n_init), leave=False, desc='init'):\n",
    "            kmeans = KMeans(n_clusters=n_clusters, random_state=init_).fit(z)\n",
    "            clustered_y = kmeans.labels_\n",
    "            homogeneity, completeness, v_measure = homogeneity_completeness_v_measure(\n",
    "                y, clustered_y\n",
    "            )\n",
    "            ss, _ = silhouette_score_block(z, clustered_y)\n",
    "            cluster_df.loc[len(cluster_df)] = [\n",
    "                row.dataset,\n",
    "                row.class_,\n",
    "                row.dim,\n",
    "                ss,\n",
    "                homogeneity,\n",
    "                completeness,\n",
    "                v_measure,\n",
    "                init_,\n",
    "                n_clusters,\n",
    "                kmeans,\n",
    "            ]\n",
    "    \n",
    "     # save cluster df in case this fails somewhere\n",
    "    ensure_dir(save_loc)\n",
    "    cluster_df.to_pickle(save_loc)\n",
    "    return cluster_df"
   ]
  },
  {
   "cell_type": "code",
   "execution_count": 58,
   "metadata": {
    "ExecuteTime": {
     "end_time": "2020-08-22T05:17:51.705514Z",
     "start_time": "2020-08-22T05:17:51.393392Z"
    }
   },
   "outputs": [
    {
     "data": {
      "text/html": [
       "<div>\n",
       "<style scoped>\n",
       "    .dataframe tbody tr th:only-of-type {\n",
       "        vertical-align: middle;\n",
       "    }\n",
       "\n",
       "    .dataframe tbody tr th {\n",
       "        vertical-align: top;\n",
       "    }\n",
       "\n",
       "    .dataframe thead th {\n",
       "        text-align: right;\n",
       "    }\n",
       "</style>\n",
       "<table border=\"1\" class=\"dataframe\">\n",
       "  <thead>\n",
       "    <tr style=\"text-align: right;\">\n",
       "      <th></th>\n",
       "      <th>dataset</th>\n",
       "      <th>class_</th>\n",
       "      <th>train_z</th>\n",
       "      <th>train_label</th>\n",
       "      <th>dim</th>\n",
       "    </tr>\n",
       "  </thead>\n",
       "  <tbody>\n",
       "    <tr>\n",
       "      <th>0</th>\n",
       "      <td>mnist</td>\n",
       "      <td>vae</td>\n",
       "      <td>[[0.025244305, 0.043182153], [-1.0676663, 1.55...</td>\n",
       "      <td>[5, 0, 4, 1, 9, 2, 1, 3, 1, 4, 3, 5, 3, 6, 1, ...</td>\n",
       "      <td>2</td>\n",
       "    </tr>\n",
       "  </tbody>\n",
       "</table>\n",
       "</div>"
      ],
      "text/plain": [
       "  dataset class_                                            train_z  \\\n",
       "0   mnist    vae  [[0.025244305, 0.043182153], [-1.0676663, 1.55...   \n",
       "\n",
       "                                         train_label dim  \n",
       "0  [5, 0, 4, 1, 9, 2, 1, 3, 1, 4, 3, 5, 3, 6, 1, ...   2  "
      ]
     },
     "execution_count": 58,
     "metadata": {},
     "output_type": "execute_result"
    }
   ],
   "source": [
    "projection_df = pd.DataFrame(columns = ['dataset', 'class_', 'train_z', 'train_label', 'dim'])\n",
    "projection_df.loc[len(projection_df)] = [dataset, 'vae', z, Y_train, n_components]\n",
    "projection_df"
   ]
  },
  {
   "cell_type": "code",
   "execution_count": 59,
   "metadata": {
    "ExecuteTime": {
     "end_time": "2020-08-22T05:17:51.941381Z",
     "start_time": "2020-08-22T05:17:51.707209Z"
    }
   },
   "outputs": [
    {
     "name": "stdout",
     "output_type": "stream",
     "text": [
      "/mnt/cube/tsainbur/Projects/github_repos/umap_tf_networks/data/clustering_metric_df/vae_2_mnist.pickle\n"
     ]
    },
    {
     "data": {
      "text/html": [
       "<div>\n",
       "<style scoped>\n",
       "    .dataframe tbody tr th:only-of-type {\n",
       "        vertical-align: middle;\n",
       "    }\n",
       "\n",
       "    .dataframe tbody tr th {\n",
       "        vertical-align: top;\n",
       "    }\n",
       "\n",
       "    .dataframe thead th {\n",
       "        text-align: right;\n",
       "    }\n",
       "</style>\n",
       "<table border=\"1\" class=\"dataframe\">\n",
       "  <thead>\n",
       "    <tr style=\"text-align: right;\">\n",
       "      <th></th>\n",
       "      <th>dataset</th>\n",
       "      <th>class_</th>\n",
       "      <th>dim</th>\n",
       "      <th>silhouette</th>\n",
       "      <th>homogeneity</th>\n",
       "      <th>completeness</th>\n",
       "      <th>v_measure</th>\n",
       "      <th>init_</th>\n",
       "      <th>n_clusters</th>\n",
       "      <th>model</th>\n",
       "    </tr>\n",
       "  </thead>\n",
       "  <tbody>\n",
       "    <tr>\n",
       "      <th>0</th>\n",
       "      <td>mnist</td>\n",
       "      <td>vae</td>\n",
       "      <td>2</td>\n",
       "      <td>0.388973</td>\n",
       "      <td>0.421272</td>\n",
       "      <td>0.695445</td>\n",
       "      <td>0.524701</td>\n",
       "      <td>0</td>\n",
       "      <td>5</td>\n",
       "      <td>KMeans(n_clusters=5, random_state=0)</td>\n",
       "    </tr>\n",
       "    <tr>\n",
       "      <th>1</th>\n",
       "      <td>mnist</td>\n",
       "      <td>vae</td>\n",
       "      <td>2</td>\n",
       "      <td>0.389133</td>\n",
       "      <td>0.421581</td>\n",
       "      <td>0.696126</td>\n",
       "      <td>0.525135</td>\n",
       "      <td>1</td>\n",
       "      <td>5</td>\n",
       "      <td>KMeans(n_clusters=5, random_state=1)</td>\n",
       "    </tr>\n",
       "    <tr>\n",
       "      <th>2</th>\n",
       "      <td>mnist</td>\n",
       "      <td>vae</td>\n",
       "      <td>2</td>\n",
       "      <td>0.390253</td>\n",
       "      <td>0.423417</td>\n",
       "      <td>0.700372</td>\n",
       "      <td>0.527767</td>\n",
       "      <td>2</td>\n",
       "      <td>5</td>\n",
       "      <td>KMeans(n_clusters=5, random_state=2)</td>\n",
       "    </tr>\n",
       "    <tr>\n",
       "      <th>3</th>\n",
       "      <td>mnist</td>\n",
       "      <td>vae</td>\n",
       "      <td>2</td>\n",
       "      <td>0.389102</td>\n",
       "      <td>0.422494</td>\n",
       "      <td>0.697719</td>\n",
       "      <td>0.526297</td>\n",
       "      <td>3</td>\n",
       "      <td>5</td>\n",
       "      <td>KMeans(n_clusters=5, random_state=3)</td>\n",
       "    </tr>\n",
       "    <tr>\n",
       "      <th>4</th>\n",
       "      <td>mnist</td>\n",
       "      <td>vae</td>\n",
       "      <td>2</td>\n",
       "      <td>0.388953</td>\n",
       "      <td>0.421415</td>\n",
       "      <td>0.695732</td>\n",
       "      <td>0.524894</td>\n",
       "      <td>4</td>\n",
       "      <td>5</td>\n",
       "      <td>KMeans(n_clusters=5, random_state=4)</td>\n",
       "    </tr>\n",
       "    <tr>\n",
       "      <th>5</th>\n",
       "      <td>mnist</td>\n",
       "      <td>vae</td>\n",
       "      <td>2</td>\n",
       "      <td>0.401446</td>\n",
       "      <td>0.448176</td>\n",
       "      <td>0.700668</td>\n",
       "      <td>0.546676</td>\n",
       "      <td>0</td>\n",
       "      <td>6</td>\n",
       "      <td>KMeans(n_clusters=6, random_state=0)</td>\n",
       "    </tr>\n",
       "    <tr>\n",
       "      <th>6</th>\n",
       "      <td>mnist</td>\n",
       "      <td>vae</td>\n",
       "      <td>2</td>\n",
       "      <td>0.401370</td>\n",
       "      <td>0.448022</td>\n",
       "      <td>0.700347</td>\n",
       "      <td>0.546463</td>\n",
       "      <td>1</td>\n",
       "      <td>6</td>\n",
       "      <td>KMeans(n_clusters=6, random_state=1)</td>\n",
       "    </tr>\n",
       "    <tr>\n",
       "      <th>7</th>\n",
       "      <td>mnist</td>\n",
       "      <td>vae</td>\n",
       "      <td>2</td>\n",
       "      <td>0.401431</td>\n",
       "      <td>0.448054</td>\n",
       "      <td>0.700457</td>\n",
       "      <td>0.546521</td>\n",
       "      <td>2</td>\n",
       "      <td>6</td>\n",
       "      <td>KMeans(n_clusters=6, random_state=2)</td>\n",
       "    </tr>\n",
       "    <tr>\n",
       "      <th>8</th>\n",
       "      <td>mnist</td>\n",
       "      <td>vae</td>\n",
       "      <td>2</td>\n",
       "      <td>0.401370</td>\n",
       "      <td>0.448022</td>\n",
       "      <td>0.700347</td>\n",
       "      <td>0.546463</td>\n",
       "      <td>3</td>\n",
       "      <td>6</td>\n",
       "      <td>KMeans(n_clusters=6, random_state=3)</td>\n",
       "    </tr>\n",
       "    <tr>\n",
       "      <th>9</th>\n",
       "      <td>mnist</td>\n",
       "      <td>vae</td>\n",
       "      <td>2</td>\n",
       "      <td>0.401370</td>\n",
       "      <td>0.448022</td>\n",
       "      <td>0.700347</td>\n",
       "      <td>0.546463</td>\n",
       "      <td>4</td>\n",
       "      <td>6</td>\n",
       "      <td>KMeans(n_clusters=6, random_state=4)</td>\n",
       "    </tr>\n",
       "    <tr>\n",
       "      <th>10</th>\n",
       "      <td>mnist</td>\n",
       "      <td>vae</td>\n",
       "      <td>2</td>\n",
       "      <td>0.382426</td>\n",
       "      <td>0.469376</td>\n",
       "      <td>0.645475</td>\n",
       "      <td>0.543517</td>\n",
       "      <td>0</td>\n",
       "      <td>7</td>\n",
       "      <td>KMeans(n_clusters=7, random_state=0)</td>\n",
       "    </tr>\n",
       "    <tr>\n",
       "      <th>11</th>\n",
       "      <td>mnist</td>\n",
       "      <td>vae</td>\n",
       "      <td>2</td>\n",
       "      <td>0.381843</td>\n",
       "      <td>0.470410</td>\n",
       "      <td>0.645597</td>\n",
       "      <td>0.544253</td>\n",
       "      <td>1</td>\n",
       "      <td>7</td>\n",
       "      <td>KMeans(n_clusters=7, random_state=1)</td>\n",
       "    </tr>\n",
       "    <tr>\n",
       "      <th>12</th>\n",
       "      <td>mnist</td>\n",
       "      <td>vae</td>\n",
       "      <td>2</td>\n",
       "      <td>0.381822</td>\n",
       "      <td>0.470366</td>\n",
       "      <td>0.645477</td>\n",
       "      <td>0.544181</td>\n",
       "      <td>2</td>\n",
       "      <td>7</td>\n",
       "      <td>KMeans(n_clusters=7, random_state=2)</td>\n",
       "    </tr>\n",
       "    <tr>\n",
       "      <th>13</th>\n",
       "      <td>mnist</td>\n",
       "      <td>vae</td>\n",
       "      <td>2</td>\n",
       "      <td>0.382502</td>\n",
       "      <td>0.469849</td>\n",
       "      <td>0.645875</td>\n",
       "      <td>0.543976</td>\n",
       "      <td>3</td>\n",
       "      <td>7</td>\n",
       "      <td>KMeans(n_clusters=7, random_state=3)</td>\n",
       "    </tr>\n",
       "    <tr>\n",
       "      <th>14</th>\n",
       "      <td>mnist</td>\n",
       "      <td>vae</td>\n",
       "      <td>2</td>\n",
       "      <td>0.382543</td>\n",
       "      <td>0.469667</td>\n",
       "      <td>0.645755</td>\n",
       "      <td>0.543812</td>\n",
       "      <td>4</td>\n",
       "      <td>7</td>\n",
       "      <td>KMeans(n_clusters=7, random_state=4)</td>\n",
       "    </tr>\n",
       "    <tr>\n",
       "      <th>15</th>\n",
       "      <td>mnist</td>\n",
       "      <td>vae</td>\n",
       "      <td>2</td>\n",
       "      <td>0.351803</td>\n",
       "      <td>0.456056</td>\n",
       "      <td>0.585939</td>\n",
       "      <td>0.512903</td>\n",
       "      <td>0</td>\n",
       "      <td>8</td>\n",
       "      <td>KMeans(random_state=0)</td>\n",
       "    </tr>\n",
       "    <tr>\n",
       "      <th>16</th>\n",
       "      <td>mnist</td>\n",
       "      <td>vae</td>\n",
       "      <td>2</td>\n",
       "      <td>0.349142</td>\n",
       "      <td>0.455697</td>\n",
       "      <td>0.584525</td>\n",
       "      <td>0.512134</td>\n",
       "      <td>1</td>\n",
       "      <td>8</td>\n",
       "      <td>KMeans(random_state=1)</td>\n",
       "    </tr>\n",
       "    <tr>\n",
       "      <th>17</th>\n",
       "      <td>mnist</td>\n",
       "      <td>vae</td>\n",
       "      <td>2</td>\n",
       "      <td>0.349025</td>\n",
       "      <td>0.461107</td>\n",
       "      <td>0.585351</td>\n",
       "      <td>0.515853</td>\n",
       "      <td>2</td>\n",
       "      <td>8</td>\n",
       "      <td>KMeans(random_state=2)</td>\n",
       "    </tr>\n",
       "    <tr>\n",
       "      <th>18</th>\n",
       "      <td>mnist</td>\n",
       "      <td>vae</td>\n",
       "      <td>2</td>\n",
       "      <td>0.351121</td>\n",
       "      <td>0.455458</td>\n",
       "      <td>0.584935</td>\n",
       "      <td>0.512140</td>\n",
       "      <td>3</td>\n",
       "      <td>8</td>\n",
       "      <td>KMeans(random_state=3)</td>\n",
       "    </tr>\n",
       "    <tr>\n",
       "      <th>19</th>\n",
       "      <td>mnist</td>\n",
       "      <td>vae</td>\n",
       "      <td>2</td>\n",
       "      <td>0.347887</td>\n",
       "      <td>0.455753</td>\n",
       "      <td>0.584085</td>\n",
       "      <td>0.512000</td>\n",
       "      <td>4</td>\n",
       "      <td>8</td>\n",
       "      <td>KMeans(random_state=4)</td>\n",
       "    </tr>\n",
       "    <tr>\n",
       "      <th>20</th>\n",
       "      <td>mnist</td>\n",
       "      <td>vae</td>\n",
       "      <td>2</td>\n",
       "      <td>0.366459</td>\n",
       "      <td>0.470572</td>\n",
       "      <td>0.585267</td>\n",
       "      <td>0.521690</td>\n",
       "      <td>0</td>\n",
       "      <td>9</td>\n",
       "      <td>KMeans(n_clusters=9, random_state=0)</td>\n",
       "    </tr>\n",
       "    <tr>\n",
       "      <th>21</th>\n",
       "      <td>mnist</td>\n",
       "      <td>vae</td>\n",
       "      <td>2</td>\n",
       "      <td>0.366416</td>\n",
       "      <td>0.470544</td>\n",
       "      <td>0.585312</td>\n",
       "      <td>0.521690</td>\n",
       "      <td>1</td>\n",
       "      <td>9</td>\n",
       "      <td>KMeans(n_clusters=9, random_state=1)</td>\n",
       "    </tr>\n",
       "    <tr>\n",
       "      <th>22</th>\n",
       "      <td>mnist</td>\n",
       "      <td>vae</td>\n",
       "      <td>2</td>\n",
       "      <td>0.367851</td>\n",
       "      <td>0.470563</td>\n",
       "      <td>0.585917</td>\n",
       "      <td>0.521943</td>\n",
       "      <td>2</td>\n",
       "      <td>9</td>\n",
       "      <td>KMeans(n_clusters=9, random_state=2)</td>\n",
       "    </tr>\n",
       "    <tr>\n",
       "      <th>23</th>\n",
       "      <td>mnist</td>\n",
       "      <td>vae</td>\n",
       "      <td>2</td>\n",
       "      <td>0.366705</td>\n",
       "      <td>0.470587</td>\n",
       "      <td>0.585401</td>\n",
       "      <td>0.521752</td>\n",
       "      <td>3</td>\n",
       "      <td>9</td>\n",
       "      <td>KMeans(n_clusters=9, random_state=3)</td>\n",
       "    </tr>\n",
       "    <tr>\n",
       "      <th>24</th>\n",
       "      <td>mnist</td>\n",
       "      <td>vae</td>\n",
       "      <td>2</td>\n",
       "      <td>0.366553</td>\n",
       "      <td>0.470549</td>\n",
       "      <td>0.585160</td>\n",
       "      <td>0.521633</td>\n",
       "      <td>4</td>\n",
       "      <td>9</td>\n",
       "      <td>KMeans(n_clusters=9, random_state=4)</td>\n",
       "    </tr>\n",
       "    <tr>\n",
       "      <th>25</th>\n",
       "      <td>mnist</td>\n",
       "      <td>vae</td>\n",
       "      <td>2</td>\n",
       "      <td>0.360566</td>\n",
       "      <td>0.516990</td>\n",
       "      <td>0.590794</td>\n",
       "      <td>0.551433</td>\n",
       "      <td>0</td>\n",
       "      <td>10</td>\n",
       "      <td>KMeans(n_clusters=10, random_state=0)</td>\n",
       "    </tr>\n",
       "    <tr>\n",
       "      <th>26</th>\n",
       "      <td>mnist</td>\n",
       "      <td>vae</td>\n",
       "      <td>2</td>\n",
       "      <td>0.361514</td>\n",
       "      <td>0.516947</td>\n",
       "      <td>0.590959</td>\n",
       "      <td>0.551481</td>\n",
       "      <td>1</td>\n",
       "      <td>10</td>\n",
       "      <td>KMeans(n_clusters=10, random_state=1)</td>\n",
       "    </tr>\n",
       "    <tr>\n",
       "      <th>27</th>\n",
       "      <td>mnist</td>\n",
       "      <td>vae</td>\n",
       "      <td>2</td>\n",
       "      <td>0.359403</td>\n",
       "      <td>0.516294</td>\n",
       "      <td>0.589700</td>\n",
       "      <td>0.550561</td>\n",
       "      <td>2</td>\n",
       "      <td>10</td>\n",
       "      <td>KMeans(n_clusters=10, random_state=2)</td>\n",
       "    </tr>\n",
       "    <tr>\n",
       "      <th>28</th>\n",
       "      <td>mnist</td>\n",
       "      <td>vae</td>\n",
       "      <td>2</td>\n",
       "      <td>0.360710</td>\n",
       "      <td>0.516726</td>\n",
       "      <td>0.590562</td>\n",
       "      <td>0.551182</td>\n",
       "      <td>3</td>\n",
       "      <td>10</td>\n",
       "      <td>KMeans(n_clusters=10, random_state=3)</td>\n",
       "    </tr>\n",
       "    <tr>\n",
       "      <th>29</th>\n",
       "      <td>mnist</td>\n",
       "      <td>vae</td>\n",
       "      <td>2</td>\n",
       "      <td>0.363464</td>\n",
       "      <td>0.517750</td>\n",
       "      <td>0.592957</td>\n",
       "      <td>0.552807</td>\n",
       "      <td>4</td>\n",
       "      <td>10</td>\n",
       "      <td>KMeans(n_clusters=10, random_state=4)</td>\n",
       "    </tr>\n",
       "    <tr>\n",
       "      <th>30</th>\n",
       "      <td>mnist</td>\n",
       "      <td>vae</td>\n",
       "      <td>2</td>\n",
       "      <td>0.365265</td>\n",
       "      <td>0.521604</td>\n",
       "      <td>0.574925</td>\n",
       "      <td>0.546968</td>\n",
       "      <td>0</td>\n",
       "      <td>11</td>\n",
       "      <td>KMeans(n_clusters=11, random_state=0)</td>\n",
       "    </tr>\n",
       "    <tr>\n",
       "      <th>31</th>\n",
       "      <td>mnist</td>\n",
       "      <td>vae</td>\n",
       "      <td>2</td>\n",
       "      <td>0.365671</td>\n",
       "      <td>0.522558</td>\n",
       "      <td>0.575286</td>\n",
       "      <td>0.547656</td>\n",
       "      <td>1</td>\n",
       "      <td>11</td>\n",
       "      <td>KMeans(n_clusters=11, random_state=1)</td>\n",
       "    </tr>\n",
       "    <tr>\n",
       "      <th>32</th>\n",
       "      <td>mnist</td>\n",
       "      <td>vae</td>\n",
       "      <td>2</td>\n",
       "      <td>0.365964</td>\n",
       "      <td>0.522125</td>\n",
       "      <td>0.575548</td>\n",
       "      <td>0.547537</td>\n",
       "      <td>2</td>\n",
       "      <td>11</td>\n",
       "      <td>KMeans(n_clusters=11, random_state=2)</td>\n",
       "    </tr>\n",
       "    <tr>\n",
       "      <th>33</th>\n",
       "      <td>mnist</td>\n",
       "      <td>vae</td>\n",
       "      <td>2</td>\n",
       "      <td>0.365609</td>\n",
       "      <td>0.521554</td>\n",
       "      <td>0.574612</td>\n",
       "      <td>0.546799</td>\n",
       "      <td>3</td>\n",
       "      <td>11</td>\n",
       "      <td>KMeans(n_clusters=11, random_state=3)</td>\n",
       "    </tr>\n",
       "    <tr>\n",
       "      <th>34</th>\n",
       "      <td>mnist</td>\n",
       "      <td>vae</td>\n",
       "      <td>2</td>\n",
       "      <td>0.365269</td>\n",
       "      <td>0.520803</td>\n",
       "      <td>0.573682</td>\n",
       "      <td>0.545965</td>\n",
       "      <td>4</td>\n",
       "      <td>11</td>\n",
       "      <td>KMeans(n_clusters=11, random_state=4)</td>\n",
       "    </tr>\n",
       "    <tr>\n",
       "      <th>35</th>\n",
       "      <td>mnist</td>\n",
       "      <td>vae</td>\n",
       "      <td>2</td>\n",
       "      <td>0.365266</td>\n",
       "      <td>0.528211</td>\n",
       "      <td>0.569368</td>\n",
       "      <td>0.548018</td>\n",
       "      <td>0</td>\n",
       "      <td>12</td>\n",
       "      <td>KMeans(n_clusters=12, random_state=0)</td>\n",
       "    </tr>\n",
       "    <tr>\n",
       "      <th>36</th>\n",
       "      <td>mnist</td>\n",
       "      <td>vae</td>\n",
       "      <td>2</td>\n",
       "      <td>0.365969</td>\n",
       "      <td>0.531004</td>\n",
       "      <td>0.571651</td>\n",
       "      <td>0.550578</td>\n",
       "      <td>1</td>\n",
       "      <td>12</td>\n",
       "      <td>KMeans(n_clusters=12, random_state=1)</td>\n",
       "    </tr>\n",
       "    <tr>\n",
       "      <th>37</th>\n",
       "      <td>mnist</td>\n",
       "      <td>vae</td>\n",
       "      <td>2</td>\n",
       "      <td>0.365875</td>\n",
       "      <td>0.530563</td>\n",
       "      <td>0.571187</td>\n",
       "      <td>0.550126</td>\n",
       "      <td>2</td>\n",
       "      <td>12</td>\n",
       "      <td>KMeans(n_clusters=12, random_state=2)</td>\n",
       "    </tr>\n",
       "    <tr>\n",
       "      <th>38</th>\n",
       "      <td>mnist</td>\n",
       "      <td>vae</td>\n",
       "      <td>2</td>\n",
       "      <td>0.359353</td>\n",
       "      <td>0.523090</td>\n",
       "      <td>0.563872</td>\n",
       "      <td>0.542716</td>\n",
       "      <td>3</td>\n",
       "      <td>12</td>\n",
       "      <td>KMeans(n_clusters=12, random_state=3)</td>\n",
       "    </tr>\n",
       "    <tr>\n",
       "      <th>39</th>\n",
       "      <td>mnist</td>\n",
       "      <td>vae</td>\n",
       "      <td>2</td>\n",
       "      <td>0.364443</td>\n",
       "      <td>0.524118</td>\n",
       "      <td>0.566430</td>\n",
       "      <td>0.544453</td>\n",
       "      <td>4</td>\n",
       "      <td>12</td>\n",
       "      <td>KMeans(n_clusters=12, random_state=4)</td>\n",
       "    </tr>\n",
       "    <tr>\n",
       "      <th>40</th>\n",
       "      <td>mnist</td>\n",
       "      <td>vae</td>\n",
       "      <td>2</td>\n",
       "      <td>0.361114</td>\n",
       "      <td>0.531222</td>\n",
       "      <td>0.562435</td>\n",
       "      <td>0.546383</td>\n",
       "      <td>0</td>\n",
       "      <td>13</td>\n",
       "      <td>KMeans(n_clusters=13, random_state=0)</td>\n",
       "    </tr>\n",
       "    <tr>\n",
       "      <th>41</th>\n",
       "      <td>mnist</td>\n",
       "      <td>vae</td>\n",
       "      <td>2</td>\n",
       "      <td>0.365274</td>\n",
       "      <td>0.532236</td>\n",
       "      <td>0.562526</td>\n",
       "      <td>0.546962</td>\n",
       "      <td>1</td>\n",
       "      <td>13</td>\n",
       "      <td>KMeans(n_clusters=13, random_state=1)</td>\n",
       "    </tr>\n",
       "    <tr>\n",
       "      <th>42</th>\n",
       "      <td>mnist</td>\n",
       "      <td>vae</td>\n",
       "      <td>2</td>\n",
       "      <td>0.365392</td>\n",
       "      <td>0.532204</td>\n",
       "      <td>0.562686</td>\n",
       "      <td>0.547021</td>\n",
       "      <td>2</td>\n",
       "      <td>13</td>\n",
       "      <td>KMeans(n_clusters=13, random_state=2)</td>\n",
       "    </tr>\n",
       "    <tr>\n",
       "      <th>43</th>\n",
       "      <td>mnist</td>\n",
       "      <td>vae</td>\n",
       "      <td>2</td>\n",
       "      <td>0.365138</td>\n",
       "      <td>0.540115</td>\n",
       "      <td>0.549312</td>\n",
       "      <td>0.544674</td>\n",
       "      <td>3</td>\n",
       "      <td>13</td>\n",
       "      <td>KMeans(n_clusters=13, random_state=3)</td>\n",
       "    </tr>\n",
       "    <tr>\n",
       "      <th>44</th>\n",
       "      <td>mnist</td>\n",
       "      <td>vae</td>\n",
       "      <td>2</td>\n",
       "      <td>0.364724</td>\n",
       "      <td>0.530216</td>\n",
       "      <td>0.561136</td>\n",
       "      <td>0.545238</td>\n",
       "      <td>4</td>\n",
       "      <td>13</td>\n",
       "      <td>KMeans(n_clusters=13, random_state=4)</td>\n",
       "    </tr>\n",
       "    <tr>\n",
       "      <th>45</th>\n",
       "      <td>mnist</td>\n",
       "      <td>vae</td>\n",
       "      <td>2</td>\n",
       "      <td>0.365931</td>\n",
       "      <td>0.537880</td>\n",
       "      <td>0.543675</td>\n",
       "      <td>0.540762</td>\n",
       "      <td>0</td>\n",
       "      <td>14</td>\n",
       "      <td>KMeans(n_clusters=14, random_state=0)</td>\n",
       "    </tr>\n",
       "    <tr>\n",
       "      <th>46</th>\n",
       "      <td>mnist</td>\n",
       "      <td>vae</td>\n",
       "      <td>2</td>\n",
       "      <td>0.365760</td>\n",
       "      <td>0.540522</td>\n",
       "      <td>0.542082</td>\n",
       "      <td>0.541301</td>\n",
       "      <td>1</td>\n",
       "      <td>14</td>\n",
       "      <td>KMeans(n_clusters=14, random_state=1)</td>\n",
       "    </tr>\n",
       "    <tr>\n",
       "      <th>47</th>\n",
       "      <td>mnist</td>\n",
       "      <td>vae</td>\n",
       "      <td>2</td>\n",
       "      <td>0.365526</td>\n",
       "      <td>0.540794</td>\n",
       "      <td>0.542195</td>\n",
       "      <td>0.541493</td>\n",
       "      <td>2</td>\n",
       "      <td>14</td>\n",
       "      <td>KMeans(n_clusters=14, random_state=2)</td>\n",
       "    </tr>\n",
       "    <tr>\n",
       "      <th>48</th>\n",
       "      <td>mnist</td>\n",
       "      <td>vae</td>\n",
       "      <td>2</td>\n",
       "      <td>0.361530</td>\n",
       "      <td>0.542165</td>\n",
       "      <td>0.542886</td>\n",
       "      <td>0.542525</td>\n",
       "      <td>3</td>\n",
       "      <td>14</td>\n",
       "      <td>KMeans(n_clusters=14, random_state=3)</td>\n",
       "    </tr>\n",
       "    <tr>\n",
       "      <th>49</th>\n",
       "      <td>mnist</td>\n",
       "      <td>vae</td>\n",
       "      <td>2</td>\n",
       "      <td>0.335026</td>\n",
       "      <td>0.544018</td>\n",
       "      <td>0.540054</td>\n",
       "      <td>0.542029</td>\n",
       "      <td>4</td>\n",
       "      <td>14</td>\n",
       "      <td>KMeans(n_clusters=14, random_state=4)</td>\n",
       "    </tr>\n",
       "  </tbody>\n",
       "</table>\n",
       "</div>"
      ],
      "text/plain": [
       "   dataset class_ dim  silhouette  homogeneity  completeness  v_measure init_  \\\n",
       "0    mnist    vae   2    0.388973     0.421272      0.695445   0.524701     0   \n",
       "1    mnist    vae   2    0.389133     0.421581      0.696126   0.525135     1   \n",
       "2    mnist    vae   2    0.390253     0.423417      0.700372   0.527767     2   \n",
       "3    mnist    vae   2    0.389102     0.422494      0.697719   0.526297     3   \n",
       "4    mnist    vae   2    0.388953     0.421415      0.695732   0.524894     4   \n",
       "5    mnist    vae   2    0.401446     0.448176      0.700668   0.546676     0   \n",
       "6    mnist    vae   2    0.401370     0.448022      0.700347   0.546463     1   \n",
       "7    mnist    vae   2    0.401431     0.448054      0.700457   0.546521     2   \n",
       "8    mnist    vae   2    0.401370     0.448022      0.700347   0.546463     3   \n",
       "9    mnist    vae   2    0.401370     0.448022      0.700347   0.546463     4   \n",
       "10   mnist    vae   2    0.382426     0.469376      0.645475   0.543517     0   \n",
       "11   mnist    vae   2    0.381843     0.470410      0.645597   0.544253     1   \n",
       "12   mnist    vae   2    0.381822     0.470366      0.645477   0.544181     2   \n",
       "13   mnist    vae   2    0.382502     0.469849      0.645875   0.543976     3   \n",
       "14   mnist    vae   2    0.382543     0.469667      0.645755   0.543812     4   \n",
       "15   mnist    vae   2    0.351803     0.456056      0.585939   0.512903     0   \n",
       "16   mnist    vae   2    0.349142     0.455697      0.584525   0.512134     1   \n",
       "17   mnist    vae   2    0.349025     0.461107      0.585351   0.515853     2   \n",
       "18   mnist    vae   2    0.351121     0.455458      0.584935   0.512140     3   \n",
       "19   mnist    vae   2    0.347887     0.455753      0.584085   0.512000     4   \n",
       "20   mnist    vae   2    0.366459     0.470572      0.585267   0.521690     0   \n",
       "21   mnist    vae   2    0.366416     0.470544      0.585312   0.521690     1   \n",
       "22   mnist    vae   2    0.367851     0.470563      0.585917   0.521943     2   \n",
       "23   mnist    vae   2    0.366705     0.470587      0.585401   0.521752     3   \n",
       "24   mnist    vae   2    0.366553     0.470549      0.585160   0.521633     4   \n",
       "25   mnist    vae   2    0.360566     0.516990      0.590794   0.551433     0   \n",
       "26   mnist    vae   2    0.361514     0.516947      0.590959   0.551481     1   \n",
       "27   mnist    vae   2    0.359403     0.516294      0.589700   0.550561     2   \n",
       "28   mnist    vae   2    0.360710     0.516726      0.590562   0.551182     3   \n",
       "29   mnist    vae   2    0.363464     0.517750      0.592957   0.552807     4   \n",
       "30   mnist    vae   2    0.365265     0.521604      0.574925   0.546968     0   \n",
       "31   mnist    vae   2    0.365671     0.522558      0.575286   0.547656     1   \n",
       "32   mnist    vae   2    0.365964     0.522125      0.575548   0.547537     2   \n",
       "33   mnist    vae   2    0.365609     0.521554      0.574612   0.546799     3   \n",
       "34   mnist    vae   2    0.365269     0.520803      0.573682   0.545965     4   \n",
       "35   mnist    vae   2    0.365266     0.528211      0.569368   0.548018     0   \n",
       "36   mnist    vae   2    0.365969     0.531004      0.571651   0.550578     1   \n",
       "37   mnist    vae   2    0.365875     0.530563      0.571187   0.550126     2   \n",
       "38   mnist    vae   2    0.359353     0.523090      0.563872   0.542716     3   \n",
       "39   mnist    vae   2    0.364443     0.524118      0.566430   0.544453     4   \n",
       "40   mnist    vae   2    0.361114     0.531222      0.562435   0.546383     0   \n",
       "41   mnist    vae   2    0.365274     0.532236      0.562526   0.546962     1   \n",
       "42   mnist    vae   2    0.365392     0.532204      0.562686   0.547021     2   \n",
       "43   mnist    vae   2    0.365138     0.540115      0.549312   0.544674     3   \n",
       "44   mnist    vae   2    0.364724     0.530216      0.561136   0.545238     4   \n",
       "45   mnist    vae   2    0.365931     0.537880      0.543675   0.540762     0   \n",
       "46   mnist    vae   2    0.365760     0.540522      0.542082   0.541301     1   \n",
       "47   mnist    vae   2    0.365526     0.540794      0.542195   0.541493     2   \n",
       "48   mnist    vae   2    0.361530     0.542165      0.542886   0.542525     3   \n",
       "49   mnist    vae   2    0.335026     0.544018      0.540054   0.542029     4   \n",
       "\n",
       "   n_clusters                                  model  \n",
       "0           5   KMeans(n_clusters=5, random_state=0)  \n",
       "1           5   KMeans(n_clusters=5, random_state=1)  \n",
       "2           5   KMeans(n_clusters=5, random_state=2)  \n",
       "3           5   KMeans(n_clusters=5, random_state=3)  \n",
       "4           5   KMeans(n_clusters=5, random_state=4)  \n",
       "5           6   KMeans(n_clusters=6, random_state=0)  \n",
       "6           6   KMeans(n_clusters=6, random_state=1)  \n",
       "7           6   KMeans(n_clusters=6, random_state=2)  \n",
       "8           6   KMeans(n_clusters=6, random_state=3)  \n",
       "9           6   KMeans(n_clusters=6, random_state=4)  \n",
       "10          7   KMeans(n_clusters=7, random_state=0)  \n",
       "11          7   KMeans(n_clusters=7, random_state=1)  \n",
       "12          7   KMeans(n_clusters=7, random_state=2)  \n",
       "13          7   KMeans(n_clusters=7, random_state=3)  \n",
       "14          7   KMeans(n_clusters=7, random_state=4)  \n",
       "15          8                 KMeans(random_state=0)  \n",
       "16          8                 KMeans(random_state=1)  \n",
       "17          8                 KMeans(random_state=2)  \n",
       "18          8                 KMeans(random_state=3)  \n",
       "19          8                 KMeans(random_state=4)  \n",
       "20          9   KMeans(n_clusters=9, random_state=0)  \n",
       "21          9   KMeans(n_clusters=9, random_state=1)  \n",
       "22          9   KMeans(n_clusters=9, random_state=2)  \n",
       "23          9   KMeans(n_clusters=9, random_state=3)  \n",
       "24          9   KMeans(n_clusters=9, random_state=4)  \n",
       "25         10  KMeans(n_clusters=10, random_state=0)  \n",
       "26         10  KMeans(n_clusters=10, random_state=1)  \n",
       "27         10  KMeans(n_clusters=10, random_state=2)  \n",
       "28         10  KMeans(n_clusters=10, random_state=3)  \n",
       "29         10  KMeans(n_clusters=10, random_state=4)  \n",
       "30         11  KMeans(n_clusters=11, random_state=0)  \n",
       "31         11  KMeans(n_clusters=11, random_state=1)  \n",
       "32         11  KMeans(n_clusters=11, random_state=2)  \n",
       "33         11  KMeans(n_clusters=11, random_state=3)  \n",
       "34         11  KMeans(n_clusters=11, random_state=4)  \n",
       "35         12  KMeans(n_clusters=12, random_state=0)  \n",
       "36         12  KMeans(n_clusters=12, random_state=1)  \n",
       "37         12  KMeans(n_clusters=12, random_state=2)  \n",
       "38         12  KMeans(n_clusters=12, random_state=3)  \n",
       "39         12  KMeans(n_clusters=12, random_state=4)  \n",
       "40         13  KMeans(n_clusters=13, random_state=0)  \n",
       "41         13  KMeans(n_clusters=13, random_state=1)  \n",
       "42         13  KMeans(n_clusters=13, random_state=2)  \n",
       "43         13  KMeans(n_clusters=13, random_state=3)  \n",
       "44         13  KMeans(n_clusters=13, random_state=4)  \n",
       "45         14  KMeans(n_clusters=14, random_state=0)  \n",
       "46         14  KMeans(n_clusters=14, random_state=1)  \n",
       "47         14  KMeans(n_clusters=14, random_state=2)  \n",
       "48         14  KMeans(n_clusters=14, random_state=3)  \n",
       "49         14  KMeans(n_clusters=14, random_state=4)  "
      ]
     },
     "execution_count": 59,
     "metadata": {},
     "output_type": "execute_result"
    }
   ],
   "source": [
    "get_cluster_metrics(projection_df.iloc[0], n_init=5)"
   ]
  },
  {
   "cell_type": "code",
   "execution_count": null,
   "metadata": {},
   "outputs": [],
   "source": []
  },
  {
   "cell_type": "code",
   "execution_count": null,
   "metadata": {},
   "outputs": [],
   "source": []
  },
  {
   "cell_type": "code",
   "execution_count": null,
   "metadata": {},
   "outputs": [],
   "source": []
  }
 ],
 "metadata": {
  "kernelspec": {
   "display_name": "Python 3",
   "language": "python",
   "name": "python3"
  },
  "language_info": {
   "codemirror_mode": {
    "name": "ipython",
    "version": 3
   },
   "file_extension": ".py",
   "mimetype": "text/x-python",
   "name": "python",
   "nbconvert_exporter": "python",
   "pygments_lexer": "ipython3",
   "version": "3.9.1"
  }
 },
 "nbformat": 4,
 "nbformat_minor": 2
}
