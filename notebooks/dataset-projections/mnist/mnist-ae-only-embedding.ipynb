{
 "cells": [
  {
   "cell_type": "code",
   "execution_count": 1,
   "metadata": {
    "ExecuteTime": {
     "end_time": "2020-08-22T05:05:17.834284Z",
     "start_time": "2020-08-22T05:05:17.820236Z"
    }
   },
   "outputs": [],
   "source": [
    "# reload packages\n",
    "%load_ext autoreload\n",
    "%autoreload 2"
   ]
  },
  {
   "cell_type": "markdown",
   "metadata": {},
   "source": [
    "### Choose GPU (this may not be needed on your computer)"
   ]
  },
  {
   "cell_type": "code",
   "execution_count": 2,
   "metadata": {
    "ExecuteTime": {
     "end_time": "2020-08-22T05:05:17.848985Z",
     "start_time": "2020-08-22T05:05:17.835619Z"
    }
   },
   "outputs": [
    {
     "name": "stdout",
     "output_type": "stream",
     "text": [
      "env: CUDA_DEVICE_ORDER=PCI_BUS_ID\n",
      "env: CUDA_VISIBLE_DEVICES=1\n"
     ]
    }
   ],
   "source": [
    "%env CUDA_DEVICE_ORDER=PCI_BUS_ID\n",
    "%env CUDA_VISIBLE_DEVICES=1"
   ]
  },
  {
   "cell_type": "code",
   "execution_count": 3,
   "metadata": {
    "ExecuteTime": {
     "end_time": "2020-08-22T05:05:21.221848Z",
     "start_time": "2020-08-22T05:05:17.850653Z"
    }
   },
   "outputs": [
    {
     "name": "stdout",
     "output_type": "stream",
     "text": [
      "[PhysicalDevice(name='/physical_device:GPU:0', device_type='GPU')]\n"
     ]
    }
   ],
   "source": [
    "import tensorflow as tf\n",
    "gpu_devices = tf.config.experimental.list_physical_devices('GPU')\n",
    "if len(gpu_devices)>0:\n",
    "    tf.config.experimental.set_memory_growth(gpu_devices[0], True)\n",
    "print(gpu_devices)\n",
    "tf.keras.backend.clear_session()"
   ]
  },
  {
   "cell_type": "markdown",
   "metadata": {},
   "source": [
    "### load packages"
   ]
  },
  {
   "cell_type": "code",
   "execution_count": 4,
   "metadata": {
    "ExecuteTime": {
     "end_time": "2020-08-22T05:05:26.554641Z",
     "start_time": "2020-08-22T05:05:21.223752Z"
    }
   },
   "outputs": [
    {
     "name": "stderr",
     "output_type": "stream",
     "text": [
      "/mnt/cube/tsainbur/conda_envs/tpy3/lib/python3.6/site-packages/tqdm/autonotebook/__init__.py:14: TqdmExperimentalWarning: Using `tqdm.autonotebook.tqdm` in notebook mode. Use `tqdm.tqdm` instead to force console mode (e.g. in jupyter console)\n",
      "  \" (e.g. in jupyter console)\", TqdmExperimentalWarning)\n"
     ]
    }
   ],
   "source": [
    "from tfumap.umap import tfUMAP"
   ]
  },
  {
   "cell_type": "code",
   "execution_count": 5,
   "metadata": {
    "ExecuteTime": {
     "end_time": "2020-08-22T05:05:26.717896Z",
     "start_time": "2020-08-22T05:05:26.555956Z"
    }
   },
   "outputs": [],
   "source": [
    "import tensorflow as tf\n",
    "import numpy as np\n",
    "import matplotlib.pyplot as plt\n",
    "from tqdm.autonotebook import tqdm\n",
    "import umap\n",
    "import pandas as pd"
   ]
  },
  {
   "cell_type": "markdown",
   "metadata": {},
   "source": [
    "### Load dataset"
   ]
  },
  {
   "cell_type": "code",
   "execution_count": 6,
   "metadata": {
    "ExecuteTime": {
     "end_time": "2020-08-22T05:05:26.769981Z",
     "start_time": "2020-08-22T05:05:26.722205Z"
    }
   },
   "outputs": [],
   "source": [
    "from tensorflow.keras.datasets import mnist"
   ]
  },
  {
   "cell_type": "code",
   "execution_count": 7,
   "metadata": {
    "ExecuteTime": {
     "end_time": "2020-08-22T05:05:27.198336Z",
     "start_time": "2020-08-22T05:05:26.772140Z"
    }
   },
   "outputs": [
    {
     "name": "stdout",
     "output_type": "stream",
     "text": [
      "50000 10000 10000\n"
     ]
    }
   ],
   "source": [
    "# load dataset\n",
    "(train_images, Y_train), (test_images, Y_test) = mnist.load_data()\n",
    "X_train = (train_images/255.).astype('float32')\n",
    "X_test = (test_images/255.).astype('float32')\n",
    "X_train = X_train.reshape((len(X_train), np.product(np.shape(X_train)[1:])))\n",
    "X_test = X_test.reshape((len(X_test), np.product(np.shape(X_test)[1:])))\n",
    "\n",
    "# subset a validation set\n",
    "n_valid = 10000\n",
    "X_valid = X_train[-n_valid:]\n",
    "Y_valid = Y_train[-n_valid:]\n",
    "X_train = X_train[:-n_valid]\n",
    "Y_train = Y_train[:-n_valid]\n",
    "\n",
    "# flatten X\n",
    "X_train_flat = X_train.reshape((len(X_train), np.product(np.shape(X_train)[1:])))\n",
    "X_test_flat = X_test.reshape((len(X_test), np.product(np.shape(X_test)[1:])))\n",
    "X_valid_flat= X_valid.reshape((len(X_valid), np.product(np.shape(X_valid)[1:])))\n",
    "print(len(X_train), len(X_valid), len(X_test))"
   ]
  },
  {
   "cell_type": "markdown",
   "metadata": {},
   "source": [
    "### define networks"
   ]
  },
  {
   "cell_type": "code",
   "execution_count": 8,
   "metadata": {
    "ExecuteTime": {
     "end_time": "2020-08-22T05:05:27.243735Z",
     "start_time": "2020-08-22T05:05:27.200436Z"
    }
   },
   "outputs": [],
   "source": [
    "dims = (28,28,1)\n",
    "n_components = 2"
   ]
  },
  {
   "cell_type": "code",
   "execution_count": 9,
   "metadata": {
    "ExecuteTime": {
     "end_time": "2020-08-22T05:05:29.938365Z",
     "start_time": "2020-08-22T05:05:27.245515Z"
    }
   },
   "outputs": [],
   "source": [
    "encoder = tf.keras.Sequential([\n",
    "    tf.keras.layers.InputLayer(input_shape=dims),\n",
    "    tf.keras.layers.Conv2D(\n",
    "        filters=64, kernel_size=3, strides=(2, 2), activation=\"relu\"\n",
    "    ),\n",
    "    tf.keras.layers.Conv2D(\n",
    "        filters=128, kernel_size=3, strides=(2, 2), activation=\"relu\"\n",
    "    ),\n",
    "\n",
    "    tf.keras.layers.Flatten(),\n",
    "    tf.keras.layers.Dense(units=512, activation=\"relu\"),\n",
    "    tf.keras.layers.Dense(units=n_components),\n",
    "])"
   ]
  },
  {
   "cell_type": "code",
   "execution_count": 10,
   "metadata": {
    "ExecuteTime": {
     "end_time": "2020-08-22T05:05:30.154416Z",
     "start_time": "2020-08-22T05:05:29.940520Z"
    }
   },
   "outputs": [],
   "source": [
    "decoder = tf.keras.Sequential([\n",
    "    tf.keras.layers.InputLayer(input_shape=(n_components)),\n",
    "    tf.keras.layers.Dense(units=512, activation=\"relu\"),\n",
    "    tf.keras.layers.Dense(units=7 * 7 * 256, activation=\"relu\"),\n",
    "    tf.keras.layers.Reshape(target_shape=(7, 7, 256)),\n",
    "    tf.keras.layers.Conv2DTranspose(\n",
    "        filters=128, kernel_size=3, strides=(2, 2), padding=\"SAME\", activation=\"relu\"\n",
    "    ),\n",
    "    tf.keras.layers.Conv2DTranspose(\n",
    "        filters=64, kernel_size=3, strides=(2, 2), padding=\"SAME\", activation=\"relu\"\n",
    "    ),\n",
    "    tf.keras.layers.Conv2DTranspose(\n",
    "        filters=1, kernel_size=3, strides=(1, 1), padding=\"SAME\", activation=\"sigmoid\"\n",
    "    )\n",
    "])"
   ]
  },
  {
   "cell_type": "code",
   "execution_count": 11,
   "metadata": {
    "ExecuteTime": {
     "end_time": "2020-08-22T05:05:30.273158Z",
     "start_time": "2020-08-22T05:05:30.155856Z"
    }
   },
   "outputs": [],
   "source": [
    "input_img = tf.keras.Input(dims)\n",
    "output_img = decoder(encoder(input_img))\n",
    "autoencoder = tf.keras.Model(input_img, output_img)"
   ]
  },
  {
   "cell_type": "code",
   "execution_count": 12,
   "metadata": {
    "ExecuteTime": {
     "end_time": "2020-08-22T05:05:30.357642Z",
     "start_time": "2020-08-22T05:05:30.274700Z"
    }
   },
   "outputs": [],
   "source": [
    "autoencoder.compile(optimizer='adam', loss='binary_crossentropy')"
   ]
  },
  {
   "cell_type": "code",
   "execution_count": 13,
   "metadata": {
    "ExecuteTime": {
     "end_time": "2020-08-22T05:12:53.502622Z",
     "start_time": "2020-08-22T05:05:30.359316Z"
    },
    "scrolled": true
   },
   "outputs": [
    {
     "name": "stdout",
     "output_type": "stream",
     "text": [
      "Epoch 1/50\n",
      "196/196 [==============================] - 10s 53ms/step - loss: 0.2615\n",
      "Epoch 2/50\n",
      "196/196 [==============================] - 10s 52ms/step - loss: 0.2029\n",
      "Epoch 3/50\n",
      "196/196 [==============================] - 9s 46ms/step - loss: 0.1889\n",
      "Epoch 4/50\n",
      "196/196 [==============================] - 10s 52ms/step - loss: 0.1834\n",
      "Epoch 5/50\n",
      "196/196 [==============================] - 10s 54ms/step - loss: 0.1802\n",
      "Epoch 6/50\n",
      "196/196 [==============================] - 10s 54ms/step - loss: 0.1780\n",
      "Epoch 7/50\n",
      "196/196 [==============================] - 10s 53ms/step - loss: 0.1764\n",
      "Epoch 8/50\n",
      "196/196 [==============================] - 9s 46ms/step - loss: 0.1751\n",
      "Epoch 9/50\n",
      "196/196 [==============================] - 9s 44ms/step - loss: 0.1739\n",
      "Epoch 10/50\n",
      "196/196 [==============================] - 9s 44ms/step - loss: 0.1729\n",
      "Epoch 11/50\n",
      "196/196 [==============================] - 9s 44ms/step - loss: 0.1720\n",
      "Epoch 12/50\n",
      "196/196 [==============================] - 9s 45ms/step - loss: 0.1709\n",
      "Epoch 13/50\n",
      "196/196 [==============================] - 9s 44ms/step - loss: 0.1704\n",
      "Epoch 14/50\n",
      "196/196 [==============================] - 9s 43ms/step - loss: 0.1698\n",
      "Epoch 15/50\n",
      "196/196 [==============================] - 9s 44ms/step - loss: 0.1690\n",
      "Epoch 16/50\n",
      "196/196 [==============================] - 9s 43ms/step - loss: 0.1682\n",
      "Epoch 17/50\n",
      "196/196 [==============================] - 9s 44ms/step - loss: 0.1679\n",
      "Epoch 18/50\n",
      "196/196 [==============================] - 9s 44ms/step - loss: 0.1671\n",
      "Epoch 19/50\n",
      "196/196 [==============================] - 9s 44ms/step - loss: 0.1665\n",
      "Epoch 20/50\n",
      "196/196 [==============================] - 9s 44ms/step - loss: 0.1660\n",
      "Epoch 21/50\n",
      "196/196 [==============================] - 9s 44ms/step - loss: 0.1655\n",
      "Epoch 22/50\n",
      "196/196 [==============================] - 9s 44ms/step - loss: 0.1651\n",
      "Epoch 23/50\n",
      "196/196 [==============================] - 8s 43ms/step - loss: 0.1648\n",
      "Epoch 24/50\n",
      "196/196 [==============================] - 9s 44ms/step - loss: 0.1640\n",
      "Epoch 25/50\n",
      "196/196 [==============================] - 8s 43ms/step - loss: 0.1638\n",
      "Epoch 26/50\n",
      "196/196 [==============================] - 9s 43ms/step - loss: 0.1633\n",
      "Epoch 27/50\n",
      "196/196 [==============================] - 9s 44ms/step - loss: 0.1630\n",
      "Epoch 28/50\n",
      "196/196 [==============================] - 9s 44ms/step - loss: 0.1625\n",
      "Epoch 29/50\n",
      "196/196 [==============================] - 9s 44ms/step - loss: 0.1622\n",
      "Epoch 30/50\n",
      "196/196 [==============================] - 9s 45ms/step - loss: 0.1618\n",
      "Epoch 31/50\n",
      "196/196 [==============================] - 8s 42ms/step - loss: 0.1617\n",
      "Epoch 32/50\n",
      "196/196 [==============================] - 8s 42ms/step - loss: 0.1612\n",
      "Epoch 33/50\n",
      "196/196 [==============================] - 8s 43ms/step - loss: 0.1608\n",
      "Epoch 34/50\n",
      "196/196 [==============================] - 8s 43ms/step - loss: 0.1607\n",
      "Epoch 35/50\n",
      "196/196 [==============================] - 8s 42ms/step - loss: 0.1604\n",
      "Epoch 36/50\n",
      "196/196 [==============================] - 8s 43ms/step - loss: 0.1602\n",
      "Epoch 37/50\n",
      "196/196 [==============================] - 8s 43ms/step - loss: 0.1599\n",
      "Epoch 38/50\n",
      "196/196 [==============================] - 8s 43ms/step - loss: 0.1598\n",
      "Epoch 39/50\n",
      "196/196 [==============================] - 9s 44ms/step - loss: 0.1595\n",
      "Epoch 40/50\n",
      "196/196 [==============================] - 9s 44ms/step - loss: 0.1592\n",
      "Epoch 41/50\n",
      "196/196 [==============================] - 8s 42ms/step - loss: 0.1590\n",
      "Epoch 42/50\n",
      "196/196 [==============================] - 9s 45ms/step - loss: 0.1587\n",
      "Epoch 43/50\n",
      "196/196 [==============================] - 8s 43ms/step - loss: 0.1585\n",
      "Epoch 44/50\n",
      "196/196 [==============================] - 8s 41ms/step - loss: 0.1584\n",
      "Epoch 45/50\n",
      "196/196 [==============================] - 8s 43ms/step - loss: 0.1583\n",
      "Epoch 46/50\n",
      "196/196 [==============================] - 8s 43ms/step - loss: 0.1580\n",
      "Epoch 47/50\n",
      "196/196 [==============================] - 8s 43ms/step - loss: 0.1578\n",
      "Epoch 48/50\n",
      "196/196 [==============================] - 9s 44ms/step - loss: 0.1575\n",
      "Epoch 49/50\n",
      "196/196 [==============================] - 8s 41ms/step - loss: 0.1575\n",
      "Epoch 50/50\n",
      "196/196 [==============================] - 6s 33ms/step - loss: 0.1573\n"
     ]
    }
   ],
   "source": [
    "X_train = X_train.reshape([len(X_train)] + list(dims))\n",
    "history = autoencoder.fit(X_train, X_train,\n",
    "                epochs=50,\n",
    "                batch_size=256,\n",
    "                shuffle=True,\n",
    "                #validation_data=(X_valid, X_valid)\n",
    "                         )"
   ]
  },
  {
   "cell_type": "code",
   "execution_count": 14,
   "metadata": {
    "ExecuteTime": {
     "end_time": "2020-08-22T05:12:55.995017Z",
     "start_time": "2020-08-22T05:12:53.505270Z"
    }
   },
   "outputs": [],
   "source": [
    "z = encoder.predict(X_train)"
   ]
  },
  {
   "cell_type": "markdown",
   "metadata": {},
   "source": [
    "### Plot model output"
   ]
  },
  {
   "cell_type": "code",
   "execution_count": 15,
   "metadata": {
    "ExecuteTime": {
     "end_time": "2020-08-22T05:12:58.531925Z",
     "start_time": "2020-08-22T05:12:55.996736Z"
    }
   },
   "outputs": [
    {
     "data": {
      "image/png": "[encoded data removed]",
      "text/plain": [
       "<Figure size 576x576 with 2 Axes>"
      ]
     },
     "metadata": {
      "needs_background": "light"
     },
     "output_type": "display_data"
    }
   ],
   "source": [
    "fig, ax = plt.subplots( figsize=(8, 8))\n",
    "sc = ax.scatter(\n",
    "    z[:, 0],\n",
    "    z[:, 1],\n",
    "    c=Y_train.astype(int)[:len(z)],\n",
    "    cmap=\"tab10\",\n",
    "    s=0.1,\n",
    "    alpha=0.5,\n",
    "    rasterized=True,\n",
    ")\n",
    "ax.axis('equal')\n",
    "ax.set_title(\"UMAP in Tensorflow embedding\", fontsize=20)\n",
    "plt.colorbar(sc, ax=ax);"
   ]
  },
  {
   "cell_type": "markdown",
   "metadata": {},
   "source": [
    "### View loss"
   ]
  },
  {
   "cell_type": "code",
   "execution_count": 16,
   "metadata": {
    "ExecuteTime": {
     "end_time": "2020-08-22T05:12:58.767969Z",
     "start_time": "2020-08-22T05:12:58.533239Z"
    }
   },
   "outputs": [],
   "source": [
    "from tfumap.umap import retrieve_tensors\n",
    "import seaborn as sns"
   ]
  },
  {
   "cell_type": "markdown",
   "metadata": {},
   "source": [
    "### Save output"
   ]
  },
  {
   "cell_type": "code",
   "execution_count": 17,
   "metadata": {
    "ExecuteTime": {
     "end_time": "2020-08-22T05:12:58.893619Z",
     "start_time": "2020-08-22T05:12:58.769419Z"
    }
   },
   "outputs": [],
   "source": [
    "from tfumap.paths import ensure_dir, MODEL_DIR"
   ]
  },
  {
   "cell_type": "code",
   "execution_count": 18,
   "metadata": {
    "ExecuteTime": {
     "end_time": "2020-08-22T05:12:59.047948Z",
     "start_time": "2020-08-22T05:12:58.895450Z"
    }
   },
   "outputs": [],
   "source": [
    "output_dir = MODEL_DIR/'projections'/ 'mnist' / 'ae_only'\n",
    "ensure_dir(output_dir)"
   ]
  },
  {
   "cell_type": "code",
   "execution_count": 19,
   "metadata": {
    "ExecuteTime": {
     "end_time": "2020-08-22T05:13:00.636600Z",
     "start_time": "2020-08-22T05:12:59.049496Z"
    }
   },
   "outputs": [
    {
     "name": "stderr",
     "output_type": "stream",
     "text": [
      "WARNING: Logging before flag parsing goes to stderr.\n",
      "W0821 22:12:59.436054 140251450402624 deprecation.py:323] From /mnt/cube/tsainbur/conda_envs/tpy3/lib/python3.6/site-packages/tensorflow/python/training/tracking/tracking.py:111: Model.state_updates (from tensorflow.python.keras.engine.training) is deprecated and will be removed in a future version.\n",
      "Instructions for updating:\n",
      "This property should not be used in TensorFlow 2.0, as updates are applied automatically.\n",
      "W0821 22:12:59.451294 140251450402624 deprecation.py:323] From /mnt/cube/tsainbur/conda_envs/tpy3/lib/python3.6/site-packages/tensorflow/python/training/tracking/tracking.py:111: Layer.updates (from tensorflow.python.keras.engine.base_layer) is deprecated and will be removed in a future version.\n",
      "Instructions for updating:\n",
      "This property should not be used in TensorFlow 2.0, as updates are applied automatically.\n",
      "I0821 22:13:00.584385 140251450402624 builder_impl.py:775] Assets written to: /mnt/cube/tsainbur/Projects/github_repos/umap_tf_networks/models/projections/mnist/ae_only/encoder/assets\n"
     ]
    }
   ],
   "source": [
    "encoder.save(output_dir / 'encoder')"
   ]
  },
  {
   "cell_type": "code",
   "execution_count": 20,
   "metadata": {
    "ExecuteTime": {
     "end_time": "2020-08-22T05:13:02.478373Z",
     "start_time": "2020-08-22T05:13:00.637915Z"
    }
   },
   "outputs": [
    {
     "name": "stderr",
     "output_type": "stream",
     "text": [
      "I0821 22:13:02.402296 140251450402624 builder_impl.py:775] Assets written to: /mnt/cube/tsainbur/Projects/github_repos/umap_tf_networks/models/projections/mnist/ae_only/encoder/assets\n"
     ]
    }
   ],
   "source": [
    "decoder.save(output_dir / 'encoder')"
   ]
  },
  {
   "cell_type": "code",
   "execution_count": 21,
   "metadata": {
    "ExecuteTime": {
     "end_time": "2020-08-22T05:13:02.587100Z",
     "start_time": "2020-08-22T05:13:02.482991Z"
    }
   },
   "outputs": [],
   "source": [
    "#loss_df.to_pickle(output_dir / 'loss_df.pickle')"
   ]
  },
  {
   "cell_type": "code",
   "execution_count": 22,
   "metadata": {
    "ExecuteTime": {
     "end_time": "2020-08-22T05:13:02.744109Z",
     "start_time": "2020-08-22T05:13:02.588689Z"
    }
   },
   "outputs": [],
   "source": [
    "np.save(output_dir / 'z.npy', z)"
   ]
  },
  {
   "cell_type": "markdown",
   "metadata": {},
   "source": [
    "### compute metrics "
   ]
  },
  {
   "cell_type": "code",
   "execution_count": 23,
   "metadata": {
    "ExecuteTime": {
     "end_time": "2020-08-22T05:13:02.820467Z",
     "start_time": "2020-08-22T05:13:02.746170Z"
    }
   },
   "outputs": [
    {
     "data": {
      "text/plain": [
       "(10000, 784)"
      ]
     },
     "execution_count": 23,
     "metadata": {},
     "output_type": "execute_result"
    }
   ],
   "source": [
    "X_test.shape"
   ]
  },
  {
   "cell_type": "code",
   "execution_count": 24,
   "metadata": {
    "ExecuteTime": {
     "end_time": "2020-08-22T05:13:03.447281Z",
     "start_time": "2020-08-22T05:13:02.823913Z"
    }
   },
   "outputs": [],
   "source": [
    "z_test = encoder.predict(X_test.reshape((len(X_test), 28,28,1)))"
   ]
  },
  {
   "cell_type": "markdown",
   "metadata": {},
   "source": [
    "#### silhouette"
   ]
  },
  {
   "cell_type": "code",
   "execution_count": 25,
   "metadata": {
    "ExecuteTime": {
     "end_time": "2020-08-22T05:13:03.548868Z",
     "start_time": "2020-08-22T05:13:03.449428Z"
    }
   },
   "outputs": [],
   "source": [
    "from tfumap.silhouette import silhouette_score_block"
   ]
  },
  {
   "cell_type": "code",
   "execution_count": 26,
   "metadata": {
    "ExecuteTime": {
     "end_time": "2020-08-22T05:13:24.255393Z",
     "start_time": "2020-08-22T05:13:03.550359Z"
    }
   },
   "outputs": [
    {
     "data": {
      "text/plain": [
       "-0.02575710709168215"
      ]
     },
     "execution_count": 26,
     "metadata": {},
     "output_type": "execute_result"
    }
   ],
   "source": [
    "ss, sil_samp = silhouette_score_block(z, Y_train, n_jobs = -1)\n",
    "ss"
   ]
  },
  {
   "cell_type": "code",
   "execution_count": 27,
   "metadata": {
    "ExecuteTime": {
     "end_time": "2020-08-22T05:13:24.668160Z",
     "start_time": "2020-08-22T05:13:24.257318Z"
    }
   },
   "outputs": [
    {
     "data": {
      "text/plain": [
       "-0.008990655037656557"
      ]
     },
     "execution_count": 27,
     "metadata": {},
     "output_type": "execute_result"
    }
   ],
   "source": [
    "ss_test, sil_samp_test = silhouette_score_block(z_test, Y_test, n_jobs = -1)\n",
    "ss_test"
   ]
  },
  {
   "cell_type": "code",
   "execution_count": 28,
   "metadata": {
    "ExecuteTime": {
     "end_time": "2020-08-22T05:13:28.879777Z",
     "start_time": "2020-08-22T05:13:24.669862Z"
    }
   },
   "outputs": [
    {
     "data": {
      "text/plain": [
       "<matplotlib.collections.PathCollection at 0x7f8e7450cf98>"
      ]
     },
     "execution_count": 28,
     "metadata": {},
     "output_type": "execute_result"
    },
    {
     "data": {
      "image/png": "[encoded data removed]",
      "text/plain": [
       "<Figure size 720x360 with 2 Axes>"
      ]
     },
     "metadata": {
      "needs_background": "light"
     },
     "output_type": "display_data"
    }
   ],
   "source": [
    "fig, axs = plt.subplots(ncols = 2, figsize=(10, 5))\n",
    "axs[0].scatter(z[:, 0], z[:, 1], s=0.1, alpha=0.5, c=sil_samp, cmap=plt.cm.viridis)\n",
    "axs[1].scatter(z_test[:, 0], z_test[:, 1], s=1, alpha=0.5, c=sil_samp_test, cmap=plt.cm.viridis)"
   ]
  },
  {
   "cell_type": "markdown",
   "metadata": {},
   "source": [
    "#### KNN"
   ]
  },
  {
   "cell_type": "code",
   "execution_count": 29,
   "metadata": {
    "ExecuteTime": {
     "end_time": "2020-08-22T05:13:28.976438Z",
     "start_time": "2020-08-22T05:13:28.884274Z"
    }
   },
   "outputs": [],
   "source": [
    "from sklearn.neighbors import KNeighborsClassifier"
   ]
  },
  {
   "cell_type": "code",
   "execution_count": 30,
   "metadata": {
    "ExecuteTime": {
     "end_time": "2020-08-22T05:13:29.860449Z",
     "start_time": "2020-08-22T05:13:28.977848Z"
    }
   },
   "outputs": [
    {
     "data": {
      "text/plain": [
       "0.7926"
      ]
     },
     "execution_count": 30,
     "metadata": {},
     "output_type": "execute_result"
    }
   ],
   "source": [
    "neigh5 = KNeighborsClassifier(n_neighbors=5)\n",
    "neigh5.fit(z, Y_train)\n",
    "score_5nn = neigh5.score(z_test, Y_test)\n",
    "score_5nn"
   ]
  },
  {
   "cell_type": "code",
   "execution_count": 31,
   "metadata": {
    "ExecuteTime": {
     "end_time": "2020-08-22T05:13:30.750132Z",
     "start_time": "2020-08-22T05:13:29.861778Z"
    }
   },
   "outputs": [
    {
     "data": {
      "text/plain": [
       "0.7647"
      ]
     },
     "execution_count": 31,
     "metadata": {},
     "output_type": "execute_result"
    }
   ],
   "source": [
    "neigh1 = KNeighborsClassifier(n_neighbors=1)\n",
    "neigh1.fit(z, Y_train)\n",
    "score_1nn = neigh1.score(z_test, Y_test)\n",
    "score_1nn"
   ]
  },
  {
   "cell_type": "markdown",
   "metadata": {},
   "source": [
    "#### Trustworthiness"
   ]
  },
  {
   "cell_type": "code",
   "execution_count": 32,
   "metadata": {
    "ExecuteTime": {
     "end_time": "2020-08-22T05:13:30.912941Z",
     "start_time": "2020-08-22T05:13:30.751805Z"
    }
   },
   "outputs": [],
   "source": [
    "from sklearn.manifold import trustworthiness"
   ]
  },
  {
   "cell_type": "code",
   "execution_count": 33,
   "metadata": {
    "ExecuteTime": {
     "end_time": "2020-08-22T05:13:51.319032Z",
     "start_time": "2020-08-22T05:13:30.915932Z"
    }
   },
   "outputs": [],
   "source": [
    "tw = trustworthiness(X_train_flat[:10000], z[:10000])"
   ]
  },
  {
   "cell_type": "code",
   "execution_count": 34,
   "metadata": {
    "ExecuteTime": {
     "end_time": "2020-08-22T05:14:11.315891Z",
     "start_time": "2020-08-22T05:13:51.323718Z"
    }
   },
   "outputs": [],
   "source": [
    "tw_test = trustworthiness(X_test_flat[:10000], z_test[:10000])"
   ]
  },
  {
   "cell_type": "code",
   "execution_count": 35,
   "metadata": {
    "ExecuteTime": {
     "end_time": "2020-08-22T05:14:11.476683Z",
     "start_time": "2020-08-22T05:14:11.317703Z"
    }
   },
   "outputs": [
    {
     "data": {
      "text/plain": [
       "(0.9663301941553243, 0.9224283686949559)"
      ]
     },
     "execution_count": 35,
     "metadata": {},
     "output_type": "execute_result"
    }
   ],
   "source": [
    "tw, tw_test"
   ]
  },
  {
   "cell_type": "markdown",
   "metadata": {},
   "source": [
    "### Save output metrics"
   ]
  },
  {
   "cell_type": "code",
   "execution_count": 36,
   "metadata": {
    "ExecuteTime": {
     "end_time": "2020-08-22T05:14:11.521239Z",
     "start_time": "2020-08-22T05:14:11.477936Z"
    }
   },
   "outputs": [],
   "source": [
    "from tfumap.paths import ensure_dir, MODEL_DIR, DATA_DIR"
   ]
  },
  {
   "cell_type": "code",
   "execution_count": 37,
   "metadata": {
    "ExecuteTime": {
     "end_time": "2020-08-22T05:14:11.708677Z",
     "start_time": "2020-08-22T05:14:11.523203Z"
    }
   },
   "outputs": [],
   "source": [
    "dataset = 'mnist'"
   ]
  },
  {
   "cell_type": "markdown",
   "metadata": {},
   "source": [
    "#### train"
   ]
  },
  {
   "cell_type": "code",
   "execution_count": 38,
   "metadata": {
    "ExecuteTime": {
     "end_time": "2020-08-22T05:14:11.961934Z",
     "start_time": "2020-08-22T05:14:11.739879Z"
    }
   },
   "outputs": [
    {
     "data": {
      "text/html": [
       "<div>\n",
       "<style scoped>\n",
       "    .dataframe tbody tr th:only-of-type {\n",
       "        vertical-align: middle;\n",
       "    }\n",
       "\n",
       "    .dataframe tbody tr th {\n",
       "        vertical-align: top;\n",
       "    }\n",
       "\n",
       "    .dataframe thead th {\n",
       "        text-align: right;\n",
       "    }\n",
       "</style>\n",
       "<table border=\"1\" class=\"dataframe\">\n",
       "  <thead>\n",
       "    <tr style=\"text-align: right;\">\n",
       "      <th></th>\n",
       "      <th>dataset</th>\n",
       "      <th>class_</th>\n",
       "      <th>dim</th>\n",
       "      <th>trustworthiness</th>\n",
       "      <th>silhouette_score</th>\n",
       "      <th>silhouette_samples</th>\n",
       "    </tr>\n",
       "  </thead>\n",
       "  <tbody>\n",
       "    <tr>\n",
       "      <th>0</th>\n",
       "      <td>mnist</td>\n",
       "      <td>ae_only</td>\n",
       "      <td>2</td>\n",
       "      <td>0.96633</td>\n",
       "      <td>-0.025757</td>\n",
       "      <td>[-0.3541381283065533, -0.4545258305685591, -0....</td>\n",
       "    </tr>\n",
       "  </tbody>\n",
       "</table>\n",
       "</div>"
      ],
      "text/plain": [
       "  dataset   class_ dim  trustworthiness  silhouette_score  \\\n",
       "0   mnist  ae_only   2          0.96633         -0.025757   \n",
       "\n",
       "                                  silhouette_samples  \n",
       "0  [-0.3541381283065533, -0.4545258305685591, -0....  "
      ]
     },
     "execution_count": 38,
     "metadata": {},
     "output_type": "execute_result"
    }
   ],
   "source": [
    "metrics_df = pd.DataFrame(\n",
    "    columns=[\n",
    "        \"dataset\",\n",
    "        \"class_\",\n",
    "        \"dim\",\n",
    "        \"trustworthiness\",\n",
    "        \"silhouette_score\",\n",
    "        \"silhouette_samples\",\n",
    "    ]\n",
    ")\n",
    "metrics_df.loc[len(metrics_df)] = [dataset, 'ae_only', n_components, tw, ss, sil_samp]\n",
    "metrics_df"
   ]
  },
  {
   "cell_type": "code",
   "execution_count": 39,
   "metadata": {
    "ExecuteTime": {
     "end_time": "2020-08-22T05:14:12.125403Z",
     "start_time": "2020-08-22T05:14:11.963461Z"
    }
   },
   "outputs": [],
   "source": [
    "save_loc = DATA_DIR / 'projection_metrics' /  'ae_only' / 'train' / str(n_components) / (dataset + '.pickle')\n",
    "ensure_dir(save_loc)\n",
    "metrics_df.to_pickle(save_loc)"
   ]
  },
  {
   "cell_type": "markdown",
   "metadata": {},
   "source": [
    "#### test"
   ]
  },
  {
   "cell_type": "code",
   "execution_count": 40,
   "metadata": {
    "ExecuteTime": {
     "end_time": "2020-08-22T05:14:12.197842Z",
     "start_time": "2020-08-22T05:14:12.126612Z"
    }
   },
   "outputs": [
    {
     "data": {
      "text/html": [
       "<div>\n",
       "<style scoped>\n",
       "    .dataframe tbody tr th:only-of-type {\n",
       "        vertical-align: middle;\n",
       "    }\n",
       "\n",
       "    .dataframe tbody tr th {\n",
       "        vertical-align: top;\n",
       "    }\n",
       "\n",
       "    .dataframe thead th {\n",
       "        text-align: right;\n",
       "    }\n",
       "</style>\n",
       "<table border=\"1\" class=\"dataframe\">\n",
       "  <thead>\n",
       "    <tr style=\"text-align: right;\">\n",
       "      <th></th>\n",
       "      <th>dataset</th>\n",
       "      <th>class_</th>\n",
       "      <th>dim</th>\n",
       "      <th>trustworthiness</th>\n",
       "      <th>silhouette_score</th>\n",
       "      <th>silhouette_samples</th>\n",
       "    </tr>\n",
       "  </thead>\n",
       "  <tbody>\n",
       "    <tr>\n",
       "      <th>1</th>\n",
       "      <td>mnist</td>\n",
       "      <td>ae_only</td>\n",
       "      <td>2</td>\n",
       "      <td>0.922428</td>\n",
       "      <td>-0.008991</td>\n",
       "      <td>[0.30045042503201536, 0.4591367315743017, 0.52...</td>\n",
       "    </tr>\n",
       "  </tbody>\n",
       "</table>\n",
       "</div>"
      ],
      "text/plain": [
       "  dataset   class_ dim  trustworthiness  silhouette_score  \\\n",
       "1   mnist  ae_only   2         0.922428         -0.008991   \n",
       "\n",
       "                                  silhouette_samples  \n",
       "1  [0.30045042503201536, 0.4591367315743017, 0.52...  "
      ]
     },
     "execution_count": 40,
     "metadata": {},
     "output_type": "execute_result"
    }
   ],
   "source": [
    "metrics_df_test = pd.DataFrame(\n",
    "    columns=[\n",
    "        \"dataset\",\n",
    "        \"class_\",\n",
    "        \"dim\",\n",
    "        \"trustworthiness\",\n",
    "        \"silhouette_score\",\n",
    "        \"silhouette_samples\",\n",
    "    ]\n",
    ")\n",
    "metrics_df_test.loc[len(metrics_df)] = [dataset, 'ae_only', n_components, tw_test, ss_test, sil_samp_test]\n",
    "metrics_df_test"
   ]
  },
  {
   "cell_type": "code",
   "execution_count": 41,
   "metadata": {
    "ExecuteTime": {
     "end_time": "2020-08-22T05:14:12.296267Z",
     "start_time": "2020-08-22T05:14:12.198969Z"
    }
   },
   "outputs": [],
   "source": [
    "save_loc = DATA_DIR / 'projection_metrics' / 'ae' / 'test' / str(n_components) / (dataset + '.pickle')\n",
    "ensure_dir(save_loc)\n",
    "metrics_df.to_pickle(save_loc)"
   ]
  },
  {
   "cell_type": "markdown",
   "metadata": {},
   "source": [
    "#### knn "
   ]
  },
  {
   "cell_type": "code",
   "execution_count": 42,
   "metadata": {
    "ExecuteTime": {
     "end_time": "2020-08-22T05:14:12.394810Z",
     "start_time": "2020-08-22T05:14:12.297703Z"
    }
   },
   "outputs": [
    {
     "data": {
      "text/html": [
       "<div>\n",
       "<style scoped>\n",
       "    .dataframe tbody tr th:only-of-type {\n",
       "        vertical-align: middle;\n",
       "    }\n",
       "\n",
       "    .dataframe tbody tr th {\n",
       "        vertical-align: top;\n",
       "    }\n",
       "\n",
       "    .dataframe thead th {\n",
       "        text-align: right;\n",
       "    }\n",
       "</style>\n",
       "<table border=\"1\" class=\"dataframe\">\n",
       "  <thead>\n",
       "    <tr style=\"text-align: right;\">\n",
       "      <th></th>\n",
       "      <th>method_</th>\n",
       "      <th>dimensions</th>\n",
       "      <th>dataset</th>\n",
       "      <th>1NN_acc</th>\n",
       "      <th>5NN_acc</th>\n",
       "    </tr>\n",
       "  </thead>\n",
       "  <tbody>\n",
       "    <tr>\n",
       "      <th>0</th>\n",
       "      <td>ae_only</td>\n",
       "      <td>2</td>\n",
       "      <td>mnist</td>\n",
       "      <td>0.7647</td>\n",
       "      <td>0.7926</td>\n",
       "    </tr>\n",
       "  </tbody>\n",
       "</table>\n",
       "</div>"
      ],
      "text/plain": [
       "   method_ dimensions dataset  1NN_acc  5NN_acc\n",
       "0  ae_only          2   mnist   0.7647   0.7926"
      ]
     },
     "execution_count": 42,
     "metadata": {},
     "output_type": "execute_result"
    }
   ],
   "source": [
    "nn_acc_df = pd.DataFrame(columns = [\"method_\",\"dimensions\",\"dataset\",\"1NN_acc\",\"5NN_acc\"])\n",
    "nn_acc_df.loc[len(nn_acc_df)] = ['ae_only', n_components, dataset,  score_1nn, score_5nn]\n",
    "nn_acc_df"
   ]
  },
  {
   "cell_type": "code",
   "execution_count": 43,
   "metadata": {
    "ExecuteTime": {
     "end_time": "2020-08-22T05:14:12.444949Z",
     "start_time": "2020-08-22T05:14:12.396067Z"
    }
   },
   "outputs": [],
   "source": [
    "save_loc = DATA_DIR / 'knn_classifier' / 'ae_only' / 'train' / str(n_components) / (dataset + '.pickle')\n",
    "ensure_dir(save_loc)\n",
    "nn_acc_df.to_pickle(save_loc)"
   ]
  },
  {
   "cell_type": "markdown",
   "metadata": {},
   "source": [
    "### Reconstruction"
   ]
  },
  {
   "cell_type": "code",
   "execution_count": 44,
   "metadata": {
    "ExecuteTime": {
     "end_time": "2020-08-22T05:14:12.493842Z",
     "start_time": "2020-08-22T05:14:12.449868Z"
    }
   },
   "outputs": [],
   "source": [
    "from sklearn.metrics import mean_squared_error, mean_absolute_error, median_absolute_error, r2_score"
   ]
  },
  {
   "cell_type": "code",
   "execution_count": 45,
   "metadata": {
    "ExecuteTime": {
     "end_time": "2020-08-22T05:14:15.726168Z",
     "start_time": "2020-08-22T05:14:12.495125Z"
    }
   },
   "outputs": [],
   "source": [
    "X_recon = decoder.predict(encoder.predict(X_test.reshape((len(X_test), 28, 28, 1))))\n",
    "X_real = X_test.reshape((len(X_test), 28, 28, 1))"
   ]
  },
  {
   "cell_type": "code",
   "execution_count": 46,
   "metadata": {
    "ExecuteTime": {
     "end_time": "2020-08-22T05:14:15.863593Z",
     "start_time": "2020-08-22T05:14:15.727934Z"
    }
   },
   "outputs": [],
   "source": [
    "x_real = X_test.reshape((len(X_test), np.product(np.shape(X_test)[1:])))\n",
    "x_recon = X_recon.reshape((len(X_test), np.product(np.shape(X_test)[1:])))"
   ]
  },
  {
   "cell_type": "code",
   "execution_count": 47,
   "metadata": {
    "ExecuteTime": {
     "end_time": "2020-08-22T05:14:15.993777Z",
     "start_time": "2020-08-22T05:14:15.865999Z"
    }
   },
   "outputs": [],
   "source": [
    "reconstruction_acc_df = pd.DataFrame(\n",
    "    columns=[\"method_\", \"dimensions\", \"dataset\", \"MSE\", \"MAE\", \"MedAE\", \"R2\"]\n",
    ")"
   ]
  },
  {
   "cell_type": "code",
   "execution_count": 48,
   "metadata": {
    "ExecuteTime": {
     "end_time": "2020-08-22T05:14:16.694197Z",
     "start_time": "2020-08-22T05:14:15.995367Z"
    }
   },
   "outputs": [
    {
     "data": {
      "text/html": [
       "<div>\n",
       "<style scoped>\n",
       "    .dataframe tbody tr th:only-of-type {\n",
       "        vertical-align: middle;\n",
       "    }\n",
       "\n",
       "    .dataframe tbody tr th {\n",
       "        vertical-align: top;\n",
       "    }\n",
       "\n",
       "    .dataframe thead th {\n",
       "        text-align: right;\n",
       "    }\n",
       "</style>\n",
       "<table border=\"1\" class=\"dataframe\">\n",
       "  <thead>\n",
       "    <tr style=\"text-align: right;\">\n",
       "      <th></th>\n",
       "      <th>method_</th>\n",
       "      <th>dimensions</th>\n",
       "      <th>dataset</th>\n",
       "      <th>MSE</th>\n",
       "      <th>MAE</th>\n",
       "      <th>MedAE</th>\n",
       "      <th>R2</th>\n",
       "    </tr>\n",
       "  </thead>\n",
       "  <tbody>\n",
       "    <tr>\n",
       "      <th>0</th>\n",
       "      <td>ae_only</td>\n",
       "      <td>2</td>\n",
       "      <td>mnist</td>\n",
       "      <td>0.036907</td>\n",
       "      <td>0.085118</td>\n",
       "      <td>0.047828</td>\n",
       "      <td>0.188441</td>\n",
       "    </tr>\n",
       "  </tbody>\n",
       "</table>\n",
       "</div>"
      ],
      "text/plain": [
       "   method_ dimensions dataset       MSE       MAE     MedAE        R2\n",
       "0  ae_only          2   mnist  0.036907  0.085118  0.047828  0.188441"
      ]
     },
     "execution_count": 48,
     "metadata": {},
     "output_type": "execute_result"
    }
   ],
   "source": [
    "MSE = mean_squared_error(\n",
    "    x_real, \n",
    "    x_recon\n",
    ")\n",
    "MAE = mean_absolute_error(\n",
    "    x_real, \n",
    "    x_recon\n",
    ")\n",
    "MedAE = median_absolute_error(\n",
    "    x_real, \n",
    "    x_recon\n",
    ")\n",
    "R2 = r2_score(\n",
    "    x_real, \n",
    "    x_recon\n",
    ")\n",
    "\n",
    "reconstruction_acc_df.loc[len(reconstruction_acc_df)] = ['ae_only', 2, dataset, MSE, MAE, MedAE, R2]\n",
    "reconstruction_acc_df"
   ]
  },
  {
   "cell_type": "code",
   "execution_count": 49,
   "metadata": {
    "ExecuteTime": {
     "end_time": "2020-08-22T05:14:16.832059Z",
     "start_time": "2020-08-22T05:14:16.695800Z"
    }
   },
   "outputs": [],
   "source": [
    "save_loc = DATA_DIR / 'reconstruction_acc' / 'ae_only' / str(n_components) / (dataset + '.pickle')\n",
    "ensure_dir(save_loc)\n",
    "reconstruction_acc_df.to_pickle(save_loc)"
   ]
  },
  {
   "cell_type": "markdown",
   "metadata": {},
   "source": [
    "### Compute clustering quality"
   ]
  },
  {
   "cell_type": "code",
   "execution_count": 50,
   "metadata": {
    "ExecuteTime": {
     "end_time": "2020-08-22T05:14:16.980073Z",
     "start_time": "2020-08-22T05:14:16.833716Z"
    }
   },
   "outputs": [],
   "source": [
    "from sklearn.cluster import KMeans\n",
    "from sklearn.metrics import homogeneity_completeness_v_measure"
   ]
  },
  {
   "cell_type": "code",
   "execution_count": 51,
   "metadata": {
    "ExecuteTime": {
     "end_time": "2020-08-22T05:14:17.075527Z",
     "start_time": "2020-08-22T05:14:16.982300Z"
    }
   },
   "outputs": [],
   "source": [
    "def get_cluster_metrics(row, n_init=5):\n",
    "    \n",
    "    # load cluster information\n",
    "    save_loc = DATA_DIR / 'clustering_metric_df'/ ('_'.join([row.class_, str(row.dim), row.dataset]) + '.pickle')\n",
    "    print(save_loc)\n",
    "    if save_loc.exists() and save_loc.is_file():\n",
    "        \n",
    "        cluster_df = pd.read_pickle(save_loc)\n",
    "        return cluster_df\n",
    "    \n",
    "    # make cluster metric dataframe\n",
    "    cluster_df = pd.DataFrame(\n",
    "        columns=[\n",
    "            \"dataset\",\n",
    "            \"class_\",\n",
    "            \"dim\",\n",
    "            \"silhouette\",\n",
    "            \"homogeneity\",\n",
    "            \"completeness\",\n",
    "            \"v_measure\",\n",
    "            \"init_\",\n",
    "            \"n_clusters\",\n",
    "            \"model\",\n",
    "        ]\n",
    "    )\n",
    "    y = row.train_label\n",
    "    z = row.train_z\n",
    "    n_labels = len(np.unique(y))\n",
    "    for n_clusters in tqdm(np.arange(n_labels - int(n_labels / 2), n_labels + int(n_labels / 2)), leave=False, desc = 'n_clusters'):\n",
    "        for init_ in tqdm(range(n_init), leave=False, desc='init'):\n",
    "            kmeans = KMeans(n_clusters=n_clusters, random_state=init_).fit(z)\n",
    "            clustered_y = kmeans.labels_\n",
    "            homogeneity, completeness, v_measure = homogeneity_completeness_v_measure(\n",
    "                y, clustered_y\n",
    "            )\n",
    "            ss, _ = silhouette_score_block(z, clustered_y)\n",
    "            cluster_df.loc[len(cluster_df)] = [\n",
    "                row.dataset,\n",
    "                row.class_,\n",
    "                row.dim,\n",
    "                ss,\n",
    "                homogeneity,\n",
    "                completeness,\n",
    "                v_measure,\n",
    "                init_,\n",
    "                n_clusters,\n",
    "                kmeans,\n",
    "            ]\n",
    "    \n",
    "     # save cluster df in case this fails somewhere\n",
    "    ensure_dir(save_loc)\n",
    "    cluster_df.to_pickle(save_loc)\n",
    "    return cluster_df"
   ]
  },
  {
   "cell_type": "code",
   "execution_count": 52,
   "metadata": {
    "ExecuteTime": {
     "end_time": "2020-08-22T05:14:17.167359Z",
     "start_time": "2020-08-22T05:14:17.077090Z"
    }
   },
   "outputs": [
    {
     "data": {
      "text/html": [
       "<div>\n",
       "<style scoped>\n",
       "    .dataframe tbody tr th:only-of-type {\n",
       "        vertical-align: middle;\n",
       "    }\n",
       "\n",
       "    .dataframe tbody tr th {\n",
       "        vertical-align: top;\n",
       "    }\n",
       "\n",
       "    .dataframe thead th {\n",
       "        text-align: right;\n",
       "    }\n",
       "</style>\n",
       "<table border=\"1\" class=\"dataframe\">\n",
       "  <thead>\n",
       "    <tr style=\"text-align: right;\">\n",
       "      <th></th>\n",
       "      <th>dataset</th>\n",
       "      <th>class_</th>\n",
       "      <th>train_z</th>\n",
       "      <th>train_label</th>\n",
       "      <th>dim</th>\n",
       "    </tr>\n",
       "  </thead>\n",
       "  <tbody>\n",
       "    <tr>\n",
       "      <th>0</th>\n",
       "      <td>mnist</td>\n",
       "      <td>ae_only</td>\n",
       "      <td>[[0.1683843, -0.5898318], [-0.8790838, 0.32199...</td>\n",
       "      <td>[5, 0, 4, 1, 9, 2, 1, 3, 1, 4, 3, 5, 3, 6, 1, ...</td>\n",
       "      <td>2</td>\n",
       "    </tr>\n",
       "  </tbody>\n",
       "</table>\n",
       "</div>"
      ],
      "text/plain": [
       "  dataset   class_                                            train_z  \\\n",
       "0   mnist  ae_only  [[0.1683843, -0.5898318], [-0.8790838, 0.32199...   \n",
       "\n",
       "                                         train_label dim  \n",
       "0  [5, 0, 4, 1, 9, 2, 1, 3, 1, 4, 3, 5, 3, 6, 1, ...   2  "
      ]
     },
     "execution_count": 52,
     "metadata": {},
     "output_type": "execute_result"
    }
   ],
   "source": [
    "projection_df = pd.DataFrame(columns = ['dataset', 'class_', 'train_z', 'train_label', 'dim'])\n",
    "projection_df.loc[len(projection_df)] = [dataset, 'ae_only', z, Y_train, n_components]\n",
    "projection_df"
   ]
  },
  {
   "cell_type": "code",
   "execution_count": 53,
   "metadata": {
    "ExecuteTime": {
     "end_time": "2020-08-22T05:14:17.398594Z",
     "start_time": "2020-08-22T05:14:17.168741Z"
    }
   },
   "outputs": [
    {
     "name": "stdout",
     "output_type": "stream",
     "text": [
      "/mnt/cube/tsainbur/Projects/github_repos/umap_tf_networks/data/clustering_metric_df/ae_only_2_mnist.pickle\n"
     ]
    },
    {
     "data": {
      "text/html": [
       "<div>\n",
       "<style scoped>\n",
       "    .dataframe tbody tr th:only-of-type {\n",
       "        vertical-align: middle;\n",
       "    }\n",
       "\n",
       "    .dataframe tbody tr th {\n",
       "        vertical-align: top;\n",
       "    }\n",
       "\n",
       "    .dataframe thead th {\n",
       "        text-align: right;\n",
       "    }\n",
       "</style>\n",
       "<table border=\"1\" class=\"dataframe\">\n",
       "  <thead>\n",
       "    <tr style=\"text-align: right;\">\n",
       "      <th></th>\n",
       "      <th>dataset</th>\n",
       "      <th>class_</th>\n",
       "      <th>dim</th>\n",
       "      <th>silhouette</th>\n",
       "      <th>homogeneity</th>\n",
       "      <th>completeness</th>\n",
       "      <th>v_measure</th>\n",
       "      <th>init_</th>\n",
       "      <th>n_clusters</th>\n",
       "      <th>model</th>\n",
       "    </tr>\n",
       "  </thead>\n",
       "  <tbody>\n",
       "    <tr>\n",
       "      <th>0</th>\n",
       "      <td>mnist</td>\n",
       "      <td>ae_only</td>\n",
       "      <td>2</td>\n",
       "      <td>0.492309</td>\n",
       "      <td>0.300232</td>\n",
       "      <td>0.627767</td>\n",
       "      <td>0.406198</td>\n",
       "      <td>0</td>\n",
       "      <td>5</td>\n",
       "      <td>KMeans(n_clusters=5, random_state=0)</td>\n",
       "    </tr>\n",
       "    <tr>\n",
       "      <th>1</th>\n",
       "      <td>mnist</td>\n",
       "      <td>ae_only</td>\n",
       "      <td>2</td>\n",
       "      <td>0.491629</td>\n",
       "      <td>0.300986</td>\n",
       "      <td>0.628354</td>\n",
       "      <td>0.407011</td>\n",
       "      <td>1</td>\n",
       "      <td>5</td>\n",
       "      <td>KMeans(n_clusters=5, random_state=1)</td>\n",
       "    </tr>\n",
       "    <tr>\n",
       "      <th>2</th>\n",
       "      <td>mnist</td>\n",
       "      <td>ae_only</td>\n",
       "      <td>2</td>\n",
       "      <td>0.491147</td>\n",
       "      <td>0.301118</td>\n",
       "      <td>0.628220</td>\n",
       "      <td>0.407103</td>\n",
       "      <td>2</td>\n",
       "      <td>5</td>\n",
       "      <td>KMeans(n_clusters=5, random_state=2)</td>\n",
       "    </tr>\n",
       "    <tr>\n",
       "      <th>3</th>\n",
       "      <td>mnist</td>\n",
       "      <td>ae_only</td>\n",
       "      <td>2</td>\n",
       "      <td>0.491749</td>\n",
       "      <td>0.300418</td>\n",
       "      <td>0.627608</td>\n",
       "      <td>0.406335</td>\n",
       "      <td>3</td>\n",
       "      <td>5</td>\n",
       "      <td>KMeans(n_clusters=5, random_state=3)</td>\n",
       "    </tr>\n",
       "    <tr>\n",
       "      <th>4</th>\n",
       "      <td>mnist</td>\n",
       "      <td>ae_only</td>\n",
       "      <td>2</td>\n",
       "      <td>0.491106</td>\n",
       "      <td>0.301153</td>\n",
       "      <td>0.628272</td>\n",
       "      <td>0.407147</td>\n",
       "      <td>4</td>\n",
       "      <td>5</td>\n",
       "      <td>KMeans(n_clusters=5, random_state=4)</td>\n",
       "    </tr>\n",
       "    <tr>\n",
       "      <th>5</th>\n",
       "      <td>mnist</td>\n",
       "      <td>ae_only</td>\n",
       "      <td>2</td>\n",
       "      <td>0.493923</td>\n",
       "      <td>0.307547</td>\n",
       "      <td>0.611768</td>\n",
       "      <td>0.409321</td>\n",
       "      <td>0</td>\n",
       "      <td>6</td>\n",
       "      <td>KMeans(n_clusters=6, random_state=0)</td>\n",
       "    </tr>\n",
       "    <tr>\n",
       "      <th>6</th>\n",
       "      <td>mnist</td>\n",
       "      <td>ae_only</td>\n",
       "      <td>2</td>\n",
       "      <td>0.493210</td>\n",
       "      <td>0.306938</td>\n",
       "      <td>0.611544</td>\n",
       "      <td>0.408731</td>\n",
       "      <td>1</td>\n",
       "      <td>6</td>\n",
       "      <td>KMeans(n_clusters=6, random_state=1)</td>\n",
       "    </tr>\n",
       "    <tr>\n",
       "      <th>7</th>\n",
       "      <td>mnist</td>\n",
       "      <td>ae_only</td>\n",
       "      <td>2</td>\n",
       "      <td>0.493545</td>\n",
       "      <td>0.306800</td>\n",
       "      <td>0.611720</td>\n",
       "      <td>0.408648</td>\n",
       "      <td>2</td>\n",
       "      <td>6</td>\n",
       "      <td>KMeans(n_clusters=6, random_state=2)</td>\n",
       "    </tr>\n",
       "    <tr>\n",
       "      <th>8</th>\n",
       "      <td>mnist</td>\n",
       "      <td>ae_only</td>\n",
       "      <td>2</td>\n",
       "      <td>0.493542</td>\n",
       "      <td>0.307718</td>\n",
       "      <td>0.611581</td>\n",
       "      <td>0.409431</td>\n",
       "      <td>3</td>\n",
       "      <td>6</td>\n",
       "      <td>KMeans(n_clusters=6, random_state=3)</td>\n",
       "    </tr>\n",
       "    <tr>\n",
       "      <th>9</th>\n",
       "      <td>mnist</td>\n",
       "      <td>ae_only</td>\n",
       "      <td>2</td>\n",
       "      <td>0.493575</td>\n",
       "      <td>0.307690</td>\n",
       "      <td>0.611570</td>\n",
       "      <td>0.409403</td>\n",
       "      <td>4</td>\n",
       "      <td>6</td>\n",
       "      <td>KMeans(n_clusters=6, random_state=4)</td>\n",
       "    </tr>\n",
       "    <tr>\n",
       "      <th>10</th>\n",
       "      <td>mnist</td>\n",
       "      <td>ae_only</td>\n",
       "      <td>2</td>\n",
       "      <td>0.425618</td>\n",
       "      <td>0.345302</td>\n",
       "      <td>0.562661</td>\n",
       "      <td>0.427965</td>\n",
       "      <td>0</td>\n",
       "      <td>7</td>\n",
       "      <td>KMeans(n_clusters=7, random_state=0)</td>\n",
       "    </tr>\n",
       "    <tr>\n",
       "      <th>11</th>\n",
       "      <td>mnist</td>\n",
       "      <td>ae_only</td>\n",
       "      <td>2</td>\n",
       "      <td>0.439602</td>\n",
       "      <td>0.340377</td>\n",
       "      <td>0.562391</td>\n",
       "      <td>0.424085</td>\n",
       "      <td>1</td>\n",
       "      <td>7</td>\n",
       "      <td>KMeans(n_clusters=7, random_state=1)</td>\n",
       "    </tr>\n",
       "    <tr>\n",
       "      <th>12</th>\n",
       "      <td>mnist</td>\n",
       "      <td>ae_only</td>\n",
       "      <td>2</td>\n",
       "      <td>0.430814</td>\n",
       "      <td>0.344733</td>\n",
       "      <td>0.563652</td>\n",
       "      <td>0.427813</td>\n",
       "      <td>2</td>\n",
       "      <td>7</td>\n",
       "      <td>KMeans(n_clusters=7, random_state=2)</td>\n",
       "    </tr>\n",
       "    <tr>\n",
       "      <th>13</th>\n",
       "      <td>mnist</td>\n",
       "      <td>ae_only</td>\n",
       "      <td>2</td>\n",
       "      <td>0.434383</td>\n",
       "      <td>0.343863</td>\n",
       "      <td>0.563840</td>\n",
       "      <td>0.427196</td>\n",
       "      <td>3</td>\n",
       "      <td>7</td>\n",
       "      <td>KMeans(n_clusters=7, random_state=3)</td>\n",
       "    </tr>\n",
       "    <tr>\n",
       "      <th>14</th>\n",
       "      <td>mnist</td>\n",
       "      <td>ae_only</td>\n",
       "      <td>2</td>\n",
       "      <td>0.439549</td>\n",
       "      <td>0.340398</td>\n",
       "      <td>0.562391</td>\n",
       "      <td>0.424101</td>\n",
       "      <td>4</td>\n",
       "      <td>7</td>\n",
       "      <td>KMeans(n_clusters=7, random_state=4)</td>\n",
       "    </tr>\n",
       "    <tr>\n",
       "      <th>15</th>\n",
       "      <td>mnist</td>\n",
       "      <td>ae_only</td>\n",
       "      <td>2</td>\n",
       "      <td>0.456526</td>\n",
       "      <td>0.349467</td>\n",
       "      <td>0.549335</td>\n",
       "      <td>0.427178</td>\n",
       "      <td>0</td>\n",
       "      <td>8</td>\n",
       "      <td>KMeans(random_state=0)</td>\n",
       "    </tr>\n",
       "    <tr>\n",
       "      <th>16</th>\n",
       "      <td>mnist</td>\n",
       "      <td>ae_only</td>\n",
       "      <td>2</td>\n",
       "      <td>0.454306</td>\n",
       "      <td>0.351457</td>\n",
       "      <td>0.548559</td>\n",
       "      <td>0.428425</td>\n",
       "      <td>1</td>\n",
       "      <td>8</td>\n",
       "      <td>KMeans(random_state=1)</td>\n",
       "    </tr>\n",
       "    <tr>\n",
       "      <th>17</th>\n",
       "      <td>mnist</td>\n",
       "      <td>ae_only</td>\n",
       "      <td>2</td>\n",
       "      <td>0.451051</td>\n",
       "      <td>0.354666</td>\n",
       "      <td>0.548810</td>\n",
       "      <td>0.430878</td>\n",
       "      <td>2</td>\n",
       "      <td>8</td>\n",
       "      <td>KMeans(random_state=2)</td>\n",
       "    </tr>\n",
       "    <tr>\n",
       "      <th>18</th>\n",
       "      <td>mnist</td>\n",
       "      <td>ae_only</td>\n",
       "      <td>2</td>\n",
       "      <td>0.453189</td>\n",
       "      <td>0.353140</td>\n",
       "      <td>0.549735</td>\n",
       "      <td>0.430034</td>\n",
       "      <td>3</td>\n",
       "      <td>8</td>\n",
       "      <td>KMeans(random_state=3)</td>\n",
       "    </tr>\n",
       "    <tr>\n",
       "      <th>19</th>\n",
       "      <td>mnist</td>\n",
       "      <td>ae_only</td>\n",
       "      <td>2</td>\n",
       "      <td>0.454307</td>\n",
       "      <td>0.351763</td>\n",
       "      <td>0.549186</td>\n",
       "      <td>0.428844</td>\n",
       "      <td>4</td>\n",
       "      <td>8</td>\n",
       "      <td>KMeans(random_state=4)</td>\n",
       "    </tr>\n",
       "    <tr>\n",
       "      <th>20</th>\n",
       "      <td>mnist</td>\n",
       "      <td>ae_only</td>\n",
       "      <td>2</td>\n",
       "      <td>0.456523</td>\n",
       "      <td>0.354818</td>\n",
       "      <td>0.530713</td>\n",
       "      <td>0.425296</td>\n",
       "      <td>0</td>\n",
       "      <td>9</td>\n",
       "      <td>KMeans(n_clusters=9, random_state=0)</td>\n",
       "    </tr>\n",
       "    <tr>\n",
       "      <th>21</th>\n",
       "      <td>mnist</td>\n",
       "      <td>ae_only</td>\n",
       "      <td>2</td>\n",
       "      <td>0.453976</td>\n",
       "      <td>0.357553</td>\n",
       "      <td>0.531510</td>\n",
       "      <td>0.427513</td>\n",
       "      <td>1</td>\n",
       "      <td>9</td>\n",
       "      <td>KMeans(n_clusters=9, random_state=1)</td>\n",
       "    </tr>\n",
       "    <tr>\n",
       "      <th>22</th>\n",
       "      <td>mnist</td>\n",
       "      <td>ae_only</td>\n",
       "      <td>2</td>\n",
       "      <td>0.454861</td>\n",
       "      <td>0.356929</td>\n",
       "      <td>0.531406</td>\n",
       "      <td>0.427033</td>\n",
       "      <td>2</td>\n",
       "      <td>9</td>\n",
       "      <td>KMeans(n_clusters=9, random_state=2)</td>\n",
       "    </tr>\n",
       "    <tr>\n",
       "      <th>23</th>\n",
       "      <td>mnist</td>\n",
       "      <td>ae_only</td>\n",
       "      <td>2</td>\n",
       "      <td>0.456731</td>\n",
       "      <td>0.354456</td>\n",
       "      <td>0.530584</td>\n",
       "      <td>0.424995</td>\n",
       "      <td>3</td>\n",
       "      <td>9</td>\n",
       "      <td>KMeans(n_clusters=9, random_state=3)</td>\n",
       "    </tr>\n",
       "    <tr>\n",
       "      <th>24</th>\n",
       "      <td>mnist</td>\n",
       "      <td>ae_only</td>\n",
       "      <td>2</td>\n",
       "      <td>0.457457</td>\n",
       "      <td>0.354394</td>\n",
       "      <td>0.531604</td>\n",
       "      <td>0.425277</td>\n",
       "      <td>4</td>\n",
       "      <td>9</td>\n",
       "      <td>KMeans(n_clusters=9, random_state=4)</td>\n",
       "    </tr>\n",
       "    <tr>\n",
       "      <th>25</th>\n",
       "      <td>mnist</td>\n",
       "      <td>ae_only</td>\n",
       "      <td>2</td>\n",
       "      <td>0.452302</td>\n",
       "      <td>0.359275</td>\n",
       "      <td>0.523607</td>\n",
       "      <td>0.426147</td>\n",
       "      <td>0</td>\n",
       "      <td>10</td>\n",
       "      <td>KMeans(n_clusters=10, random_state=0)</td>\n",
       "    </tr>\n",
       "    <tr>\n",
       "      <th>26</th>\n",
       "      <td>mnist</td>\n",
       "      <td>ae_only</td>\n",
       "      <td>2</td>\n",
       "      <td>0.450645</td>\n",
       "      <td>0.363204</td>\n",
       "      <td>0.527199</td>\n",
       "      <td>0.430099</td>\n",
       "      <td>1</td>\n",
       "      <td>10</td>\n",
       "      <td>KMeans(n_clusters=10, random_state=1)</td>\n",
       "    </tr>\n",
       "    <tr>\n",
       "      <th>27</th>\n",
       "      <td>mnist</td>\n",
       "      <td>ae_only</td>\n",
       "      <td>2</td>\n",
       "      <td>0.450905</td>\n",
       "      <td>0.360746</td>\n",
       "      <td>0.523778</td>\n",
       "      <td>0.427238</td>\n",
       "      <td>2</td>\n",
       "      <td>10</td>\n",
       "      <td>KMeans(n_clusters=10, random_state=2)</td>\n",
       "    </tr>\n",
       "    <tr>\n",
       "      <th>28</th>\n",
       "      <td>mnist</td>\n",
       "      <td>ae_only</td>\n",
       "      <td>2</td>\n",
       "      <td>0.450397</td>\n",
       "      <td>0.361476</td>\n",
       "      <td>0.524544</td>\n",
       "      <td>0.428004</td>\n",
       "      <td>3</td>\n",
       "      <td>10</td>\n",
       "      <td>KMeans(n_clusters=10, random_state=3)</td>\n",
       "    </tr>\n",
       "    <tr>\n",
       "      <th>29</th>\n",
       "      <td>mnist</td>\n",
       "      <td>ae_only</td>\n",
       "      <td>2</td>\n",
       "      <td>0.452565</td>\n",
       "      <td>0.359366</td>\n",
       "      <td>0.524393</td>\n",
       "      <td>0.426472</td>\n",
       "      <td>4</td>\n",
       "      <td>10</td>\n",
       "      <td>KMeans(n_clusters=10, random_state=4)</td>\n",
       "    </tr>\n",
       "    <tr>\n",
       "      <th>30</th>\n",
       "      <td>mnist</td>\n",
       "      <td>ae_only</td>\n",
       "      <td>2</td>\n",
       "      <td>0.393898</td>\n",
       "      <td>0.417715</td>\n",
       "      <td>0.548169</td>\n",
       "      <td>0.474132</td>\n",
       "      <td>0</td>\n",
       "      <td>11</td>\n",
       "      <td>KMeans(n_clusters=11, random_state=0)</td>\n",
       "    </tr>\n",
       "    <tr>\n",
       "      <th>31</th>\n",
       "      <td>mnist</td>\n",
       "      <td>ae_only</td>\n",
       "      <td>2</td>\n",
       "      <td>0.396992</td>\n",
       "      <td>0.419513</td>\n",
       "      <td>0.548869</td>\n",
       "      <td>0.475551</td>\n",
       "      <td>1</td>\n",
       "      <td>11</td>\n",
       "      <td>KMeans(n_clusters=11, random_state=1)</td>\n",
       "    </tr>\n",
       "    <tr>\n",
       "      <th>32</th>\n",
       "      <td>mnist</td>\n",
       "      <td>ae_only</td>\n",
       "      <td>2</td>\n",
       "      <td>0.395078</td>\n",
       "      <td>0.420840</td>\n",
       "      <td>0.551024</td>\n",
       "      <td>0.477213</td>\n",
       "      <td>2</td>\n",
       "      <td>11</td>\n",
       "      <td>KMeans(n_clusters=11, random_state=2)</td>\n",
       "    </tr>\n",
       "    <tr>\n",
       "      <th>33</th>\n",
       "      <td>mnist</td>\n",
       "      <td>ae_only</td>\n",
       "      <td>2</td>\n",
       "      <td>0.392997</td>\n",
       "      <td>0.417104</td>\n",
       "      <td>0.547889</td>\n",
       "      <td>0.473634</td>\n",
       "      <td>3</td>\n",
       "      <td>11</td>\n",
       "      <td>KMeans(n_clusters=11, random_state=3)</td>\n",
       "    </tr>\n",
       "    <tr>\n",
       "      <th>34</th>\n",
       "      <td>mnist</td>\n",
       "      <td>ae_only</td>\n",
       "      <td>2</td>\n",
       "      <td>0.393847</td>\n",
       "      <td>0.417504</td>\n",
       "      <td>0.547934</td>\n",
       "      <td>0.473908</td>\n",
       "      <td>4</td>\n",
       "      <td>11</td>\n",
       "      <td>KMeans(n_clusters=11, random_state=4)</td>\n",
       "    </tr>\n",
       "    <tr>\n",
       "      <th>35</th>\n",
       "      <td>mnist</td>\n",
       "      <td>ae_only</td>\n",
       "      <td>2</td>\n",
       "      <td>0.400209</td>\n",
       "      <td>0.434982</td>\n",
       "      <td>0.549762</td>\n",
       "      <td>0.485683</td>\n",
       "      <td>0</td>\n",
       "      <td>12</td>\n",
       "      <td>KMeans(n_clusters=12, random_state=0)</td>\n",
       "    </tr>\n",
       "    <tr>\n",
       "      <th>36</th>\n",
       "      <td>mnist</td>\n",
       "      <td>ae_only</td>\n",
       "      <td>2</td>\n",
       "      <td>0.400017</td>\n",
       "      <td>0.436849</td>\n",
       "      <td>0.550493</td>\n",
       "      <td>0.487131</td>\n",
       "      <td>1</td>\n",
       "      <td>12</td>\n",
       "      <td>KMeans(n_clusters=12, random_state=1)</td>\n",
       "    </tr>\n",
       "    <tr>\n",
       "      <th>37</th>\n",
       "      <td>mnist</td>\n",
       "      <td>ae_only</td>\n",
       "      <td>2</td>\n",
       "      <td>0.400410</td>\n",
       "      <td>0.435692</td>\n",
       "      <td>0.550619</td>\n",
       "      <td>0.486459</td>\n",
       "      <td>2</td>\n",
       "      <td>12</td>\n",
       "      <td>KMeans(n_clusters=12, random_state=2)</td>\n",
       "    </tr>\n",
       "    <tr>\n",
       "      <th>38</th>\n",
       "      <td>mnist</td>\n",
       "      <td>ae_only</td>\n",
       "      <td>2</td>\n",
       "      <td>0.399926</td>\n",
       "      <td>0.436717</td>\n",
       "      <td>0.550701</td>\n",
       "      <td>0.487130</td>\n",
       "      <td>3</td>\n",
       "      <td>12</td>\n",
       "      <td>KMeans(n_clusters=12, random_state=3)</td>\n",
       "    </tr>\n",
       "    <tr>\n",
       "      <th>39</th>\n",
       "      <td>mnist</td>\n",
       "      <td>ae_only</td>\n",
       "      <td>2</td>\n",
       "      <td>0.401289</td>\n",
       "      <td>0.435677</td>\n",
       "      <td>0.549854</td>\n",
       "      <td>0.486151</td>\n",
       "      <td>4</td>\n",
       "      <td>12</td>\n",
       "      <td>KMeans(n_clusters=12, random_state=4)</td>\n",
       "    </tr>\n",
       "    <tr>\n",
       "      <th>40</th>\n",
       "      <td>mnist</td>\n",
       "      <td>ae_only</td>\n",
       "      <td>2</td>\n",
       "      <td>0.410674</td>\n",
       "      <td>0.460404</td>\n",
       "      <td>0.532001</td>\n",
       "      <td>0.493620</td>\n",
       "      <td>0</td>\n",
       "      <td>13</td>\n",
       "      <td>KMeans(n_clusters=13, random_state=0)</td>\n",
       "    </tr>\n",
       "    <tr>\n",
       "      <th>41</th>\n",
       "      <td>mnist</td>\n",
       "      <td>ae_only</td>\n",
       "      <td>2</td>\n",
       "      <td>0.413119</td>\n",
       "      <td>0.452756</td>\n",
       "      <td>0.527260</td>\n",
       "      <td>0.487176</td>\n",
       "      <td>1</td>\n",
       "      <td>13</td>\n",
       "      <td>KMeans(n_clusters=13, random_state=1)</td>\n",
       "    </tr>\n",
       "    <tr>\n",
       "      <th>42</th>\n",
       "      <td>mnist</td>\n",
       "      <td>ae_only</td>\n",
       "      <td>2</td>\n",
       "      <td>0.412563</td>\n",
       "      <td>0.456487</td>\n",
       "      <td>0.528746</td>\n",
       "      <td>0.489966</td>\n",
       "      <td>2</td>\n",
       "      <td>13</td>\n",
       "      <td>KMeans(n_clusters=13, random_state=2)</td>\n",
       "    </tr>\n",
       "    <tr>\n",
       "      <th>43</th>\n",
       "      <td>mnist</td>\n",
       "      <td>ae_only</td>\n",
       "      <td>2</td>\n",
       "      <td>0.412927</td>\n",
       "      <td>0.453474</td>\n",
       "      <td>0.527277</td>\n",
       "      <td>0.487598</td>\n",
       "      <td>3</td>\n",
       "      <td>13</td>\n",
       "      <td>KMeans(n_clusters=13, random_state=3)</td>\n",
       "    </tr>\n",
       "    <tr>\n",
       "      <th>44</th>\n",
       "      <td>mnist</td>\n",
       "      <td>ae_only</td>\n",
       "      <td>2</td>\n",
       "      <td>0.412642</td>\n",
       "      <td>0.453267</td>\n",
       "      <td>0.527181</td>\n",
       "      <td>0.487438</td>\n",
       "      <td>4</td>\n",
       "      <td>13</td>\n",
       "      <td>KMeans(n_clusters=13, random_state=4)</td>\n",
       "    </tr>\n",
       "    <tr>\n",
       "      <th>45</th>\n",
       "      <td>mnist</td>\n",
       "      <td>ae_only</td>\n",
       "      <td>2</td>\n",
       "      <td>0.402719</td>\n",
       "      <td>0.465158</td>\n",
       "      <td>0.527852</td>\n",
       "      <td>0.494526</td>\n",
       "      <td>0</td>\n",
       "      <td>14</td>\n",
       "      <td>KMeans(n_clusters=14, random_state=0)</td>\n",
       "    </tr>\n",
       "    <tr>\n",
       "      <th>46</th>\n",
       "      <td>mnist</td>\n",
       "      <td>ae_only</td>\n",
       "      <td>2</td>\n",
       "      <td>0.413019</td>\n",
       "      <td>0.468532</td>\n",
       "      <td>0.530543</td>\n",
       "      <td>0.497613</td>\n",
       "      <td>1</td>\n",
       "      <td>14</td>\n",
       "      <td>KMeans(n_clusters=14, random_state=1)</td>\n",
       "    </tr>\n",
       "    <tr>\n",
       "      <th>47</th>\n",
       "      <td>mnist</td>\n",
       "      <td>ae_only</td>\n",
       "      <td>2</td>\n",
       "      <td>0.414596</td>\n",
       "      <td>0.466049</td>\n",
       "      <td>0.529154</td>\n",
       "      <td>0.495601</td>\n",
       "      <td>2</td>\n",
       "      <td>14</td>\n",
       "      <td>KMeans(n_clusters=14, random_state=2)</td>\n",
       "    </tr>\n",
       "    <tr>\n",
       "      <th>48</th>\n",
       "      <td>mnist</td>\n",
       "      <td>ae_only</td>\n",
       "      <td>2</td>\n",
       "      <td>0.413179</td>\n",
       "      <td>0.467479</td>\n",
       "      <td>0.530086</td>\n",
       "      <td>0.496818</td>\n",
       "      <td>3</td>\n",
       "      <td>14</td>\n",
       "      <td>KMeans(n_clusters=14, random_state=3)</td>\n",
       "    </tr>\n",
       "    <tr>\n",
       "      <th>49</th>\n",
       "      <td>mnist</td>\n",
       "      <td>ae_only</td>\n",
       "      <td>2</td>\n",
       "      <td>0.413572</td>\n",
       "      <td>0.467628</td>\n",
       "      <td>0.530133</td>\n",
       "      <td>0.496923</td>\n",
       "      <td>4</td>\n",
       "      <td>14</td>\n",
       "      <td>KMeans(n_clusters=14, random_state=4)</td>\n",
       "    </tr>\n",
       "  </tbody>\n",
       "</table>\n",
       "</div>"
      ],
      "text/plain": [
       "   dataset   class_ dim  silhouette  homogeneity  completeness  v_measure  \\\n",
       "0    mnist  ae_only   2    0.492309     0.300232      0.627767   0.406198   \n",
       "1    mnist  ae_only   2    0.491629     0.300986      0.628354   0.407011   \n",
       "2    mnist  ae_only   2    0.491147     0.301118      0.628220   0.407103   \n",
       "3    mnist  ae_only   2    0.491749     0.300418      0.627608   0.406335   \n",
       "4    mnist  ae_only   2    0.491106     0.301153      0.628272   0.407147   \n",
       "5    mnist  ae_only   2    0.493923     0.307547      0.611768   0.409321   \n",
       "6    mnist  ae_only   2    0.493210     0.306938      0.611544   0.408731   \n",
       "7    mnist  ae_only   2    0.493545     0.306800      0.611720   0.408648   \n",
       "8    mnist  ae_only   2    0.493542     0.307718      0.611581   0.409431   \n",
       "9    mnist  ae_only   2    0.493575     0.307690      0.611570   0.409403   \n",
       "10   mnist  ae_only   2    0.425618     0.345302      0.562661   0.427965   \n",
       "11   mnist  ae_only   2    0.439602     0.340377      0.562391   0.424085   \n",
       "12   mnist  ae_only   2    0.430814     0.344733      0.563652   0.427813   \n",
       "13   mnist  ae_only   2    0.434383     0.343863      0.563840   0.427196   \n",
       "14   mnist  ae_only   2    0.439549     0.340398      0.562391   0.424101   \n",
       "15   mnist  ae_only   2    0.456526     0.349467      0.549335   0.427178   \n",
       "16   mnist  ae_only   2    0.454306     0.351457      0.548559   0.428425   \n",
       "17   mnist  ae_only   2    0.451051     0.354666      0.548810   0.430878   \n",
       "18   mnist  ae_only   2    0.453189     0.353140      0.549735   0.430034   \n",
       "19   mnist  ae_only   2    0.454307     0.351763      0.549186   0.428844   \n",
       "20   mnist  ae_only   2    0.456523     0.354818      0.530713   0.425296   \n",
       "21   mnist  ae_only   2    0.453976     0.357553      0.531510   0.427513   \n",
       "22   mnist  ae_only   2    0.454861     0.356929      0.531406   0.427033   \n",
       "23   mnist  ae_only   2    0.456731     0.354456      0.530584   0.424995   \n",
       "24   mnist  ae_only   2    0.457457     0.354394      0.531604   0.425277   \n",
       "25   mnist  ae_only   2    0.452302     0.359275      0.523607   0.426147   \n",
       "26   mnist  ae_only   2    0.450645     0.363204      0.527199   0.430099   \n",
       "27   mnist  ae_only   2    0.450905     0.360746      0.523778   0.427238   \n",
       "28   mnist  ae_only   2    0.450397     0.361476      0.524544   0.428004   \n",
       "29   mnist  ae_only   2    0.452565     0.359366      0.524393   0.426472   \n",
       "30   mnist  ae_only   2    0.393898     0.417715      0.548169   0.474132   \n",
       "31   mnist  ae_only   2    0.396992     0.419513      0.548869   0.475551   \n",
       "32   mnist  ae_only   2    0.395078     0.420840      0.551024   0.477213   \n",
       "33   mnist  ae_only   2    0.392997     0.417104      0.547889   0.473634   \n",
       "34   mnist  ae_only   2    0.393847     0.417504      0.547934   0.473908   \n",
       "35   mnist  ae_only   2    0.400209     0.434982      0.549762   0.485683   \n",
       "36   mnist  ae_only   2    0.400017     0.436849      0.550493   0.487131   \n",
       "37   mnist  ae_only   2    0.400410     0.435692      0.550619   0.486459   \n",
       "38   mnist  ae_only   2    0.399926     0.436717      0.550701   0.487130   \n",
       "39   mnist  ae_only   2    0.401289     0.435677      0.549854   0.486151   \n",
       "40   mnist  ae_only   2    0.410674     0.460404      0.532001   0.493620   \n",
       "41   mnist  ae_only   2    0.413119     0.452756      0.527260   0.487176   \n",
       "42   mnist  ae_only   2    0.412563     0.456487      0.528746   0.489966   \n",
       "43   mnist  ae_only   2    0.412927     0.453474      0.527277   0.487598   \n",
       "44   mnist  ae_only   2    0.412642     0.453267      0.527181   0.487438   \n",
       "45   mnist  ae_only   2    0.402719     0.465158      0.527852   0.494526   \n",
       "46   mnist  ae_only   2    0.413019     0.468532      0.530543   0.497613   \n",
       "47   mnist  ae_only   2    0.414596     0.466049      0.529154   0.495601   \n",
       "48   mnist  ae_only   2    0.413179     0.467479      0.530086   0.496818   \n",
       "49   mnist  ae_only   2    0.413572     0.467628      0.530133   0.496923   \n",
       "\n",
       "   init_ n_clusters                                  model  \n",
       "0      0          5   KMeans(n_clusters=5, random_state=0)  \n",
       "1      1          5   KMeans(n_clusters=5, random_state=1)  \n",
       "2      2          5   KMeans(n_clusters=5, random_state=2)  \n",
       "3      3          5   KMeans(n_clusters=5, random_state=3)  \n",
       "4      4          5   KMeans(n_clusters=5, random_state=4)  \n",
       "5      0          6   KMeans(n_clusters=6, random_state=0)  \n",
       "6      1          6   KMeans(n_clusters=6, random_state=1)  \n",
       "7      2          6   KMeans(n_clusters=6, random_state=2)  \n",
       "8      3          6   KMeans(n_clusters=6, random_state=3)  \n",
       "9      4          6   KMeans(n_clusters=6, random_state=4)  \n",
       "10     0          7   KMeans(n_clusters=7, random_state=0)  \n",
       "11     1          7   KMeans(n_clusters=7, random_state=1)  \n",
       "12     2          7   KMeans(n_clusters=7, random_state=2)  \n",
       "13     3          7   KMeans(n_clusters=7, random_state=3)  \n",
       "14     4          7   KMeans(n_clusters=7, random_state=4)  \n",
       "15     0          8                 KMeans(random_state=0)  \n",
       "16     1          8                 KMeans(random_state=1)  \n",
       "17     2          8                 KMeans(random_state=2)  \n",
       "18     3          8                 KMeans(random_state=3)  \n",
       "19     4          8                 KMeans(random_state=4)  \n",
       "20     0          9   KMeans(n_clusters=9, random_state=0)  \n",
       "21     1          9   KMeans(n_clusters=9, random_state=1)  \n",
       "22     2          9   KMeans(n_clusters=9, random_state=2)  \n",
       "23     3          9   KMeans(n_clusters=9, random_state=3)  \n",
       "24     4          9   KMeans(n_clusters=9, random_state=4)  \n",
       "25     0         10  KMeans(n_clusters=10, random_state=0)  \n",
       "26     1         10  KMeans(n_clusters=10, random_state=1)  \n",
       "27     2         10  KMeans(n_clusters=10, random_state=2)  \n",
       "28     3         10  KMeans(n_clusters=10, random_state=3)  \n",
       "29     4         10  KMeans(n_clusters=10, random_state=4)  \n",
       "30     0         11  KMeans(n_clusters=11, random_state=0)  \n",
       "31     1         11  KMeans(n_clusters=11, random_state=1)  \n",
       "32     2         11  KMeans(n_clusters=11, random_state=2)  \n",
       "33     3         11  KMeans(n_clusters=11, random_state=3)  \n",
       "34     4         11  KMeans(n_clusters=11, random_state=4)  \n",
       "35     0         12  KMeans(n_clusters=12, random_state=0)  \n",
       "36     1         12  KMeans(n_clusters=12, random_state=1)  \n",
       "37     2         12  KMeans(n_clusters=12, random_state=2)  \n",
       "38     3         12  KMeans(n_clusters=12, random_state=3)  \n",
       "39     4         12  KMeans(n_clusters=12, random_state=4)  \n",
       "40     0         13  KMeans(n_clusters=13, random_state=0)  \n",
       "41     1         13  KMeans(n_clusters=13, random_state=1)  \n",
       "42     2         13  KMeans(n_clusters=13, random_state=2)  \n",
       "43     3         13  KMeans(n_clusters=13, random_state=3)  \n",
       "44     4         13  KMeans(n_clusters=13, random_state=4)  \n",
       "45     0         14  KMeans(n_clusters=14, random_state=0)  \n",
       "46     1         14  KMeans(n_clusters=14, random_state=1)  \n",
       "47     2         14  KMeans(n_clusters=14, random_state=2)  \n",
       "48     3         14  KMeans(n_clusters=14, random_state=3)  \n",
       "49     4         14  KMeans(n_clusters=14, random_state=4)  "
      ]
     },
     "execution_count": 53,
     "metadata": {},
     "output_type": "execute_result"
    }
   ],
   "source": [
    "get_cluster_metrics(projection_df.iloc[0], n_init=5)"
   ]
  },
  {
   "cell_type": "code",
   "execution_count": null,
   "metadata": {},
   "outputs": [],
   "source": []
  },
  {
   "cell_type": "code",
   "execution_count": null,
   "metadata": {},
   "outputs": [],
   "source": []
  }
 ],
 "metadata": {
  "kernelspec": {
   "display_name": "Python 3",
   "language": "python",
   "name": "python3"
  },
  "language_info": {
   "codemirror_mode": {
    "name": "ipython",
    "version": 3
   },
   "file_extension": ".py",
   "mimetype": "text/x-python",
   "name": "python",
   "nbconvert_exporter": "python",
   "pygments_lexer": "ipython3",
   "version": "3.6.7"
  }
 },
 "nbformat": 4,
 "nbformat_minor": 2
}
