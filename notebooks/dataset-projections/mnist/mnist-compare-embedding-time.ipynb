{
 "cells": [
  {
   "cell_type": "code",
   "execution_count": 1,
   "metadata": {
    "ExecuteTime": {
     "end_time": "2020-08-22T19:56:03.616470Z",
     "start_time": "2020-08-22T19:56:03.598541Z"
    }
   },
   "outputs": [],
   "source": [
    "# reload packages\n",
    "%load_ext autoreload\n",
    "%autoreload 2"
   ]
  },
  {
   "cell_type": "markdown",
   "metadata": {},
   "source": [
    "### Choose GPU (this may not be needed on your computer)"
   ]
  },
  {
   "cell_type": "code",
   "execution_count": 2,
   "metadata": {
    "ExecuteTime": {
     "end_time": "2020-08-22T19:56:03.884044Z",
     "start_time": "2020-08-22T19:56:03.870856Z"
    }
   },
   "outputs": [
    {
     "name": "stdout",
     "output_type": "stream",
     "text": [
      "env: CUDA_DEVICE_ORDER=PCI_BUS_ID\n",
      "env: CUDA_VISIBLE_DEVICES=1\n"
     ]
    }
   ],
   "source": [
    "%env CUDA_DEVICE_ORDER=PCI_BUS_ID\n",
    "%env CUDA_VISIBLE_DEVICES=1"
   ]
  },
  {
   "cell_type": "markdown",
   "metadata": {},
   "source": [
    "### load packages"
   ]
  },
  {
   "cell_type": "code",
   "execution_count": 3,
   "metadata": {
    "ExecuteTime": {
     "end_time": "2020-08-22T19:56:14.327226Z",
     "start_time": "2020-08-22T19:56:04.217019Z"
    }
   },
   "outputs": [
    {
     "name": "stderr",
     "output_type": "stream",
     "text": [
      "/mnt/cube/tsainbur/conda_envs/tpy3/lib/python3.6/site-packages/tqdm/autonotebook/__init__.py:14: TqdmExperimentalWarning: Using `tqdm.autonotebook.tqdm` in notebook mode. Use `tqdm.tqdm` instead to force console mode (e.g. in jupyter console)\n",
      "  \" (e.g. in jupyter console)\", TqdmExperimentalWarning)\n"
     ]
    }
   ],
   "source": [
    "from tfumap.umap import tfUMAP"
   ]
  },
  {
   "cell_type": "code",
   "execution_count": 4,
   "metadata": {
    "ExecuteTime": {
     "end_time": "2020-08-22T19:56:14.482277Z",
     "start_time": "2020-08-22T19:56:14.328958Z"
    }
   },
   "outputs": [],
   "source": [
    "import tensorflow as tf\n",
    "import numpy as np\n",
    "import matplotlib.pyplot as plt\n",
    "from tqdm.autonotebook import tqdm\n",
    "import umap\n",
    "import pandas as pd"
   ]
  },
  {
   "cell_type": "markdown",
   "metadata": {},
   "source": [
    "### Load dataset"
   ]
  },
  {
   "cell_type": "code",
   "execution_count": 5,
   "metadata": {
    "ExecuteTime": {
     "end_time": "2020-08-22T19:56:14.528023Z",
     "start_time": "2020-08-22T19:56:14.483803Z"
    }
   },
   "outputs": [],
   "source": [
    "from tensorflow.keras.datasets import mnist"
   ]
  },
  {
   "cell_type": "code",
   "execution_count": 6,
   "metadata": {
    "ExecuteTime": {
     "end_time": "2020-08-22T19:56:14.921003Z",
     "start_time": "2020-08-22T19:56:14.529356Z"
    }
   },
   "outputs": [
    {
     "name": "stdout",
     "output_type": "stream",
     "text": [
      "50000 10000 10000\n"
     ]
    }
   ],
   "source": [
    "# load dataset\n",
    "(train_images, Y_train), (test_images, Y_test) = mnist.load_data()\n",
    "X_train = (train_images/255.).astype('float32')\n",
    "X_test = (test_images/255.).astype('float32')\n",
    "X_train = X_train.reshape((len(X_train), np.product(np.shape(X_train)[1:])))\n",
    "X_test = X_test.reshape((len(X_test), np.product(np.shape(X_test)[1:])))\n",
    "\n",
    "# subset a validation set\n",
    "n_valid = 10000\n",
    "X_valid = X_train[-n_valid:]\n",
    "Y_valid = Y_train[-n_valid:]\n",
    "X_train = X_train[:-n_valid]\n",
    "Y_train = Y_train[:-n_valid]\n",
    "\n",
    "# flatten X\n",
    "X_train_flat = X_train.reshape((len(X_train), np.product(np.shape(X_train)[1:])))\n",
    "X_test_flat = X_test.reshape((len(X_test), np.product(np.shape(X_test)[1:])))\n",
    "X_valid_flat= X_valid.reshape((len(X_valid), np.product(np.shape(X_valid)[1:])))\n",
    "print(len(X_train), len(X_valid), len(X_test))"
   ]
  },
  {
   "cell_type": "code",
   "execution_count": 8,
   "metadata": {
    "ExecuteTime": {
     "end_time": "2020-08-22T19:56:42.990071Z",
     "start_time": "2020-08-22T19:56:42.864899Z"
    }
   },
   "outputs": [],
   "source": [
    "from tfumap.paths import ensure_dir, MODEL_DIR"
   ]
  },
  {
   "cell_type": "code",
   "execution_count": 90,
   "metadata": {
    "ExecuteTime": {
     "end_time": "2020-08-22T20:32:11.182117Z",
     "start_time": "2020-08-22T20:32:10.557341Z"
    }
   },
   "outputs": [
    {
     "data": {
      "text/plain": [
       "[<matplotlib.lines.Line2D at 0x7ff636286fd0>]"
      ]
     },
     "execution_count": 90,
     "metadata": {},
     "output_type": "execute_result"
    },
    {
     "data": {
      "image/png": "[encoded data removed]",
      "text/plain": [
       "<Figure size 432x288 with 1 Axes>"
      ]
     },
     "metadata": {
      "needs_background": "light"
     },
     "output_type": "display_data"
    }
   ],
   "source": [
    "output_dir = MODEL_DIR/'projections'/ 'mnist' / 'direct'\n",
    "ensure_dir(output_dir)\n",
    "\n",
    "loss_df_direct = pd.read_pickle(output_dir / 'loss_df.pickle')\n",
    "loss_df_direct\n",
    "\n",
    "plt.plot(loss_df_direct.wall_time - loss_df_direct.wall_time[0], loss_df_direct.val)"
   ]
  },
  {
   "cell_type": "code",
   "execution_count": 77,
   "metadata": {
    "ExecuteTime": {
     "end_time": "2020-08-22T20:27:43.703414Z",
     "start_time": "2020-08-22T20:27:43.658785Z"
    }
   },
   "outputs": [],
   "source": [
    "output_dir = MODEL_DIR/'projections'/ 'mnist' / 'network'\n",
    "ensure_dir(output_dir)"
   ]
  },
  {
   "cell_type": "code",
   "execution_count": 78,
   "metadata": {
    "ExecuteTime": {
     "end_time": "2020-08-22T20:27:43.952800Z",
     "start_time": "2020-08-22T20:27:43.776375Z"
    }
   },
   "outputs": [
    {
     "data": {
      "text/html": [
       "<div>\n",
       "<style scoped>\n",
       "    .dataframe tbody tr th:only-of-type {\n",
       "        vertical-align: middle;\n",
       "    }\n",
       "\n",
       "    .dataframe tbody tr th {\n",
       "        vertical-align: top;\n",
       "    }\n",
       "\n",
       "    .dataframe thead th {\n",
       "        text-align: right;\n",
       "    }\n",
       "</style>\n",
       "<table border=\"1\" class=\"dataframe\">\n",
       "  <thead>\n",
       "    <tr style=\"text-align: right;\">\n",
       "      <th></th>\n",
       "      <th>wall_time</th>\n",
       "      <th>step</th>\n",
       "      <th>val</th>\n",
       "      <th>group</th>\n",
       "      <th>variable</th>\n",
       "    </tr>\n",
       "  </thead>\n",
       "  <tbody>\n",
       "    <tr>\n",
       "      <th>0</th>\n",
       "      <td>1.594144e+09</td>\n",
       "      <td>1</td>\n",
       "      <td>5.532123</td>\n",
       "      <td>train</td>\n",
       "      <td>umap_loss</td>\n",
       "    </tr>\n",
       "    <tr>\n",
       "      <th>1</th>\n",
       "      <td>1.594144e+09</td>\n",
       "      <td>2</td>\n",
       "      <td>3.821637</td>\n",
       "      <td>train</td>\n",
       "      <td>umap_loss</td>\n",
       "    </tr>\n",
       "    <tr>\n",
       "      <th>2</th>\n",
       "      <td>1.594144e+09</td>\n",
       "      <td>3</td>\n",
       "      <td>2.842405</td>\n",
       "      <td>train</td>\n",
       "      <td>umap_loss</td>\n",
       "    </tr>\n",
       "    <tr>\n",
       "      <th>3</th>\n",
       "      <td>1.594144e+09</td>\n",
       "      <td>4</td>\n",
       "      <td>2.229157</td>\n",
       "      <td>train</td>\n",
       "      <td>umap_loss</td>\n",
       "    </tr>\n",
       "    <tr>\n",
       "      <th>4</th>\n",
       "      <td>1.594144e+09</td>\n",
       "      <td>5</td>\n",
       "      <td>1.832781</td>\n",
       "      <td>train</td>\n",
       "      <td>umap_loss</td>\n",
       "    </tr>\n",
       "    <tr>\n",
       "      <th>...</th>\n",
       "      <td>...</td>\n",
       "      <td>...</td>\n",
       "      <td>...</td>\n",
       "      <td>...</td>\n",
       "      <td>...</td>\n",
       "    </tr>\n",
       "    <tr>\n",
       "      <th>46300</th>\n",
       "      <td>1.594145e+09</td>\n",
       "      <td>46301</td>\n",
       "      <td>0.097195</td>\n",
       "      <td>train</td>\n",
       "      <td>umap_loss</td>\n",
       "    </tr>\n",
       "    <tr>\n",
       "      <th>46301</th>\n",
       "      <td>1.594145e+09</td>\n",
       "      <td>46302</td>\n",
       "      <td>0.097196</td>\n",
       "      <td>train</td>\n",
       "      <td>umap_loss</td>\n",
       "    </tr>\n",
       "    <tr>\n",
       "      <th>46302</th>\n",
       "      <td>1.594145e+09</td>\n",
       "      <td>46303</td>\n",
       "      <td>0.097195</td>\n",
       "      <td>train</td>\n",
       "      <td>umap_loss</td>\n",
       "    </tr>\n",
       "    <tr>\n",
       "      <th>46303</th>\n",
       "      <td>1.594145e+09</td>\n",
       "      <td>46304</td>\n",
       "      <td>0.097195</td>\n",
       "      <td>train</td>\n",
       "      <td>umap_loss</td>\n",
       "    </tr>\n",
       "    <tr>\n",
       "      <th>46304</th>\n",
       "      <td>1.594145e+09</td>\n",
       "      <td>46305</td>\n",
       "      <td>0.097195</td>\n",
       "      <td>train</td>\n",
       "      <td>umap_loss</td>\n",
       "    </tr>\n",
       "  </tbody>\n",
       "</table>\n",
       "<p>46305 rows × 5 columns</p>\n",
       "</div>"
      ],
      "text/plain": [
       "          wall_time   step       val  group   variable\n",
       "0      1.594144e+09      1  5.532123  train  umap_loss\n",
       "1      1.594144e+09      2  3.821637  train  umap_loss\n",
       "2      1.594144e+09      3  2.842405  train  umap_loss\n",
       "3      1.594144e+09      4  2.229157  train  umap_loss\n",
       "4      1.594144e+09      5  1.832781  train  umap_loss\n",
       "...             ...    ...       ...    ...        ...\n",
       "46300  1.594145e+09  46301  0.097195  train  umap_loss\n",
       "46301  1.594145e+09  46302  0.097196  train  umap_loss\n",
       "46302  1.594145e+09  46303  0.097195  train  umap_loss\n",
       "46303  1.594145e+09  46304  0.097195  train  umap_loss\n",
       "46304  1.594145e+09  46305  0.097195  train  umap_loss\n",
       "\n",
       "[46305 rows x 5 columns]"
      ]
     },
     "execution_count": 78,
     "metadata": {},
     "output_type": "execute_result"
    }
   ],
   "source": [
    "loss_df = pd.read_pickle(output_dir / 'loss_df.pickle')\n",
    "loss_df"
   ]
  },
  {
   "cell_type": "code",
   "execution_count": 79,
   "metadata": {
    "ExecuteTime": {
     "end_time": "2020-08-22T20:27:45.292936Z",
     "start_time": "2020-08-22T20:27:45.150816Z"
    }
   },
   "outputs": [
    {
     "data": {
      "text/plain": [
       "[<matplotlib.lines.Line2D at 0x7ff68b9c1c88>]"
      ]
     },
     "execution_count": 79,
     "metadata": {},
     "output_type": "execute_result"
    },
    {
     "data": {
      "image/png": "[encoded data removed]",
      "text/plain": [
       "<Figure size 432x288 with 1 Axes>"
      ]
     },
     "metadata": {
      "needs_background": "light"
     },
     "output_type": "display_data"
    }
   ],
   "source": [
    "plt.plot(loss_df.wall_time - loss_df.wall_time[0], loss_df.val)"
   ]
  },
  {
   "cell_type": "markdown",
   "metadata": {},
   "source": [
    "#### get umap learn"
   ]
  },
  {
   "cell_type": "code",
   "execution_count": 16,
   "metadata": {
    "ExecuteTime": {
     "end_time": "2020-08-22T20:00:16.760334Z",
     "start_time": "2020-08-22T20:00:16.719418Z"
    }
   },
   "outputs": [],
   "source": [
    "from umap import UMAP"
   ]
  },
  {
   "cell_type": "code",
   "execution_count": 17,
   "metadata": {
    "ExecuteTime": {
     "end_time": "2020-08-22T20:01:14.756749Z",
     "start_time": "2020-08-22T20:00:16.988388Z"
    }
   },
   "outputs": [
    {
     "name": "stdout",
     "output_type": "stream",
     "text": [
      "UMAP(dens_frac=0.0, dens_lambda=0.0, verbose=True)\n",
      "Construct fuzzy simplicial set\n",
      "Sat Aug 22 13:00:17 2020 Finding Nearest Neighbors\n",
      "Sat Aug 22 13:00:17 2020 Building RP forest with 16 trees\n",
      "Sat Aug 22 13:00:18 2020 parallel NN descent for 16 iterations\n",
      "\t 0  /  16\n",
      "\t 1  /  16\n",
      "\t 2  /  16\n",
      "\t 3  /  16\n",
      "\t 4  /  16\n",
      "Sat Aug 22 13:00:28 2020 Finished Nearest Neighbor Search\n",
      "Sat Aug 22 13:00:31 2020 Construct embedding\n",
      "\tcompleted  0  /  200 epochs\n",
      "\tcompleted  20  /  200 epochs\n",
      "\tcompleted  40  /  200 epochs\n",
      "\tcompleted  60  /  200 epochs\n",
      "\tcompleted  80  /  200 epochs\n",
      "\tcompleted  100  /  200 epochs\n",
      "\tcompleted  120  /  200 epochs\n",
      "\tcompleted  140  /  200 epochs\n",
      "\tcompleted  160  /  200 epochs\n",
      "\tcompleted  180  /  200 epochs\n",
      "Sat Aug 22 13:01:14 2020 Finished embedding\n"
     ]
    }
   ],
   "source": [
    "embedder = UMAP(verbose=True)\n",
    "z_umap = embedder.fit_transform(X_train_flat)"
   ]
  },
  {
   "cell_type": "code",
   "execution_count": 55,
   "metadata": {
    "ExecuteTime": {
     "end_time": "2020-08-22T20:13:11.185301Z",
     "start_time": "2020-08-22T20:13:11.141164Z"
    }
   },
   "outputs": [],
   "source": [
    "from datetime import datetime"
   ]
  },
  {
   "cell_type": "code",
   "execution_count": 60,
   "metadata": {
    "ExecuteTime": {
     "end_time": "2020-08-22T20:14:09.493877Z",
     "start_time": "2020-08-22T20:14:09.447777Z"
    }
   },
   "outputs": [
    {
     "data": {
      "text/plain": [
       "43.0"
      ]
     },
     "execution_count": 60,
     "metadata": {},
     "output_type": "execute_result"
    }
   ],
   "source": [
    "start_time = datetime.strptime('13:00:31', '%H:%M:%S')\n",
    "end_time =   datetime.strptime('13:01:14', '%H:%M:%S') \n",
    "umap_learn_training_time = (end_time - start_time).total_seconds()\n",
    "umap_learn_training_time"
   ]
  },
  {
   "cell_type": "markdown",
   "metadata": {},
   "source": [
    "### compute loss for UMAP learn"
   ]
  },
  {
   "cell_type": "code",
   "execution_count": 23,
   "metadata": {
    "ExecuteTime": {
     "end_time": "2020-08-22T20:03:53.464762Z",
     "start_time": "2020-08-22T20:03:53.425673Z"
    }
   },
   "outputs": [
    {
     "data": {
      "text/plain": [
       "<50000x50000 sparse matrix of type '<class 'numpy.float32'>'\n",
       "\twith 1030786 stored elements in Compressed Sparse Row format>"
      ]
     },
     "execution_count": 23,
     "metadata": {},
     "output_type": "execute_result"
    }
   ],
   "source": [
    "embedder.graph_"
   ]
  },
  {
   "cell_type": "code",
   "execution_count": null,
   "metadata": {},
   "outputs": [],
   "source": [
    "for each edge in umap graph\n",
    "    randomly sample 5 other edges\n",
    "        compute distances"
   ]
  },
  {
   "cell_type": "code",
   "execution_count": 25,
   "metadata": {
    "ExecuteTime": {
     "end_time": "2020-08-22T20:04:50.280619Z",
     "start_time": "2020-08-22T20:04:49.577928Z"
    }
   },
   "outputs": [],
   "source": [
    "from tfumap.umap import get_graph_elements\n",
    "graph, epochs_per_sample, head, tail, weight, n_vertices = get_graph_elements(\n",
    "    embedder.graph_, embedder.n_epochs\n",
    ")"
   ]
  },
  {
   "cell_type": "code",
   "execution_count": 28,
   "metadata": {
    "ExecuteTime": {
     "end_time": "2020-08-22T20:06:52.830050Z",
     "start_time": "2020-08-22T20:06:52.784545Z"
    }
   },
   "outputs": [],
   "source": [
    "max_sample_repeats_per_epoch = 25\n",
    "batch_size = 1000\n",
    "def batch_epoch_edges(edges_to, edges_from):\n",
    "        \"\"\" permutes and batches edges for epoch\n",
    "        \"\"\"\n",
    "        # compute the number of batches in one epoch\n",
    "        n_batches = int(len(edges_to) / batch_size)\n",
    "        # permute list of edges\n",
    "        permutation_mask = np.random.permutation(len(edges_to))[\n",
    "            : n_batches * batch_size\n",
    "        ]\n",
    "        to_all = tf.reshape(\n",
    "            tf.gather(edges_to, permutation_mask), (n_batches, batch_size)\n",
    "        )\n",
    "        from_all = tf.reshape(\n",
    "            tf.gather(edges_from, permutation_mask), (n_batches, batch_size)\n",
    "        )\n",
    "        # return a tensorflow dataset of one epoch's worth of batches\n",
    "        return tf.data.Dataset.from_tensor_slices((to_all, from_all))\n",
    "def create_edge_iterator(head, tail, weight):\n",
    "        \"\"\" create an iterator for edges\n",
    "        \"\"\"\n",
    "        # set the maximum number of times each edge should be repeated per epoch\n",
    "        \n",
    "        epochs_per_sample = np.clip(\n",
    "            (weight / np.max(weight)) * max_sample_repeats_per_epoch,\n",
    "            1,\n",
    "            max_sample_repeats_per_epoch,\n",
    "        ).astype(\"int\")\n",
    "\n",
    "        edges_to_exp, edges_from_exp = (\n",
    "            np.array([np.repeat(head, epochs_per_sample.astype(\"int\"))]),\n",
    "            np.array([np.repeat(tail, epochs_per_sample.astype(\"int\"))]),\n",
    "        )\n",
    "        edge_iter = tf.data.Dataset.from_tensor_slices((edges_to_exp, edges_from_exp))\n",
    "        edge_iter = edge_iter.repeat()\n",
    "        edge_iter = edge_iter.map(batch_epoch_edges)\n",
    "        edge_iter = edge_iter.prefetch(buffer_size=10)\n",
    "\n",
    "        return iter(edge_iter), np.shape(edges_to_exp)[1]"
   ]
  },
  {
   "cell_type": "code",
   "execution_count": 30,
   "metadata": {
    "ExecuteTime": {
     "end_time": "2020-08-22T20:07:06.838543Z",
     "start_time": "2020-08-22T20:07:02.446390Z"
    }
   },
   "outputs": [],
   "source": [
    "# create iterator for data/edges\n",
    "edge_iter, n_edges_per_epoch = create_edge_iterator(head, tail, weight)"
   ]
  },
  {
   "cell_type": "code",
   "execution_count": 44,
   "metadata": {
    "ExecuteTime": {
     "end_time": "2020-08-22T20:10:45.745010Z",
     "start_time": "2020-08-22T20:10:45.697460Z"
    }
   },
   "outputs": [],
   "source": [
    "from tfumap.umap import convert_distance_to_probability, compute_cross_entropy\n",
    "def compute_umap_loss(batch_to, batch_from):\n",
    "        \"\"\"\n",
    "        compute the cross entropy loss for learning embeddings\n",
    "\n",
    "        Parameters\n",
    "        ----------\n",
    "        batch_to : tf.int or tf.float32\n",
    "            Either X or the index locations of the embeddings for verticies (to)\n",
    "        batch_from : tf.int or tf.float32\n",
    "            Either X or the index locations of the embeddings for verticies (from)\n",
    "\n",
    "        Returns\n",
    "        -------\n",
    "        ce_loss : tf.float\n",
    "            cross entropy loss for UMAP\n",
    "        embedding_to : tf.float\n",
    "            embeddings for verticies (to)\n",
    "        embedding_from : tf.float\n",
    "            embeddings for verticies (from)\n",
    "        \"\"\"\n",
    "\n",
    "        # get the embeddings\n",
    "        embedding_to = tf.gather(z_umap, batch_to)\n",
    "        embedding_from = tf.gather(z_umap, batch_from)\n",
    "\n",
    "        # get negative samples\n",
    "        embedding_neg_to = tf.repeat(embedding_to, embedder.negative_sample_rate, axis=0)\n",
    "        repeat_neg = tf.repeat(embedding_from, embedder.negative_sample_rate, axis=0)\n",
    "        embedding_neg_from = tf.gather(\n",
    "            repeat_neg, tf.random.shuffle(tf.range(tf.shape(repeat_neg)[0]))\n",
    "        )\n",
    "\n",
    "        #  distances between samples\n",
    "        distance_embedding = tf.concat(\n",
    "            [\n",
    "                tf.norm(embedding_to - embedding_from, axis=1),\n",
    "                tf.norm(embedding_neg_to - embedding_neg_from, axis=1),\n",
    "            ],\n",
    "            axis=0,\n",
    "        )\n",
    "\n",
    "        # convert probabilities to distances\n",
    "        probabilities_distance = convert_distance_to_probability(\n",
    "            distance_embedding, embedder._a, embedder._b\n",
    "        )\n",
    "\n",
    "        # treat positive samples as p=1, and negative samples as p=0\n",
    "        probabilities_graph = tf.concat(\n",
    "            [tf.ones(embedding_to.shape[0]), tf.zeros(embedding_neg_to.shape[0])],\n",
    "            axis=0,\n",
    "        )\n",
    "\n",
    "        # cross entropy loss\n",
    "        (attraction_loss, repellant_loss, ce_loss) = compute_cross_entropy(\n",
    "            probabilities_graph,\n",
    "            probabilities_distance,\n",
    "            repulsion_strength=embedder.repulsion_strength,\n",
    "        )\n",
    "\n",
    "        return ce_loss, embedding_to, embedding_from"
   ]
  },
  {
   "cell_type": "code",
   "execution_count": 45,
   "metadata": {
    "ExecuteTime": {
     "end_time": "2020-08-22T20:10:45.876611Z",
     "start_time": "2020-08-22T20:10:45.838015Z"
    }
   },
   "outputs": [],
   "source": [
    "edge_epoch = next((iter(edge_iter)))"
   ]
  },
  {
   "cell_type": "code",
   "execution_count": 51,
   "metadata": {
    "ExecuteTime": {
     "end_time": "2020-08-22T20:12:31.684913Z",
     "start_time": "2020-08-22T20:12:06.611098Z"
    }
   },
   "outputs": [
    {
     "data": {
      "application/vnd.jupyter.widget-view+json": {
       "model_id": "9d0317c5c4004c96aea0fc1190328e72",
       "version_major": 2,
       "version_minor": 0
      },
      "text/plain": [
       "HBox(children=(IntProgress(value=0, max=7709), HTML(value='')))"
      ]
     },
     "metadata": {},
     "output_type": "display_data"
    },
    {
     "name": "stdout",
     "output_type": "stream",
     "text": [
      "\n"
     ]
    }
   ],
   "source": [
    "ce_loss_list = []\n",
    "for batch_to, batch_from in tqdm(edge_epoch):\n",
    "    (ce_loss, _, _) = compute_umap_loss(\n",
    "                        batch_to, batch_from\n",
    "                    )\n",
    "    ce_loss_list.append(np.mean(ce_loss.numpy()))"
   ]
  },
  {
   "cell_type": "code",
   "execution_count": 53,
   "metadata": {
    "ExecuteTime": {
     "end_time": "2020-08-22T20:12:35.601563Z",
     "start_time": "2020-08-22T20:12:35.043666Z"
    }
   },
   "outputs": [
    {
     "data": {
      "text/plain": [
       "0.09647695"
      ]
     },
     "execution_count": 53,
     "metadata": {},
     "output_type": "execute_result"
    }
   ],
   "source": [
    "umap_learn_loss = np.mean(ce_loss_list)\n",
    "umap_learn_loss"
   ]
  },
  {
   "cell_type": "code",
   "execution_count": 95,
   "metadata": {
    "ExecuteTime": {
     "end_time": "2020-08-22T20:34:33.037648Z",
     "start_time": "2020-08-22T20:34:32.990622Z"
    }
   },
   "outputs": [
    {
     "data": {
      "text/plain": [
       "array([0.00000000e+00, 1.79188251e-02, 3.52840424e-02, ...,\n",
       "       1.19955444e+02, 1.19971340e+02, 1.19987603e+02])"
      ]
     },
     "execution_count": 95,
     "metadata": {},
     "output_type": "execute_result"
    }
   ],
   "source": [
    "time_d_mask"
   ]
  },
  {
   "cell_type": "code",
   "execution_count": 112,
   "metadata": {
    "ExecuteTime": {
     "end_time": "2020-08-22T20:43:53.724296Z",
     "start_time": "2020-08-22T20:43:53.205777Z"
    }
   },
   "outputs": [
    {
     "data": {
      "image/png": "[encoded data removed]",
      "text/plain": [
       "<Figure size 1440x72 with 1 Axes>"
      ]
     },
     "metadata": {
      "needs_background": "light"
     },
     "output_type": "display_data"
    },
    {
     "data": {
      "image/png": "[encoded data removed]",
      "text/plain": [
       "<Figure size 864x72 with 1 Axes>"
      ]
     },
     "metadata": {
      "needs_background": "light"
     },
     "output_type": "display_data"
    }
   ],
   "source": [
    "import seaborn as sns\n",
    "pal20c = sns.color_palette('tab20c', 20)\n",
    "sns.palplot(pal20c)\n",
    "hue_dict = {\n",
    "    \"umap-learn\": list(np.array(pal20c[3])**4),\n",
    "    \"direct\": pal20c[2],\n",
    "    \"AE\": pal20c[1],\n",
    "    \"autoencoder\": pal20c[1],\n",
    "    \"network\": pal20c[0],\n",
    "    'vae':  pal20c[8], \n",
    "    'ae_only':  pal20c[9],\n",
    "    \"pca\":  pal20c[12],\n",
    "    \"PCA\":  pal20c[12],\n",
    "    \"TSNE\": pal20c[4], \n",
    "    \"parametric-tsne\":pal20c[5],\n",
    "    \"network-cpu\": pal20c[2],\n",
    "\n",
    "}\n",
    "sns.palplot([hue_dict[i] for i in hue_dict.keys()])"
   ]
  },
  {
   "cell_type": "code",
   "execution_count": 118,
   "metadata": {
    "ExecuteTime": {
     "end_time": "2020-08-22T20:51:03.352306Z",
     "start_time": "2020-08-22T20:51:02.797771Z"
    }
   },
   "outputs": [],
   "source": [
    "from tfumap.paths import FIGURE_DIR, save_fig"
   ]
  },
  {
   "cell_type": "code",
   "execution_count": 120,
   "metadata": {
    "ExecuteTime": {
     "end_time": "2020-08-23T00:48:37.241929Z",
     "start_time": "2020-08-23T00:48:35.047961Z"
    }
   },
   "outputs": [
    {
     "data": {
      "image/png": "[encoded data removed]",
      "text/plain": [
       "<Figure size 1200x600 with 1 Axes>"
      ]
     },
     "metadata": {
      "needs_background": "light"
     },
     "output_type": "display_data"
    }
   ],
   "source": [
    "max_time = 1000#120\n",
    "fig, ax = plt.subplots(figsize=(4,2), dpi=300)\n",
    "\n",
    "time_d = loss_df.wall_time.values - loss_df.wall_time[0]\n",
    "time_d_mask = time_d<max_time\n",
    "val_d = loss_df.val.values[time_d_mask]\n",
    "time_d = time_d[time_d_mask]\n",
    "ax.plot(time_d,val_d, lw = 3, label='P. UMAP', color=hue_dict['network'])\n",
    "\n",
    "time_d = loss_df_direct.wall_time.values - loss_df_direct.wall_time[0]\n",
    "time_d_mask = time_d<max_time\n",
    "val_d = loss_df_direct.val.values[time_d_mask]\n",
    "time_d = time_d[time_d_mask]\n",
    "ax.plot(time_d,val_d, lw = 3, label='UMAP (TF)', color=hue_dict['direct'], ls='dashed')\n",
    "\n",
    "ax.scatter([umap_learn_training_time], umap_learn_loss, color=hue_dict['umap-learn'], label='UMAP (UMAP-learn)')\n",
    "ax.set_ylim([0, 0.5])\n",
    "ax.legend()\n",
    "ax.set_ylabel('Cross Entropy')\n",
    "ax.set_xlabel('Time (S)')\n",
    "ax.set_xscale('log')\n",
    "#ax.set_yscale('log')\n",
    "save_fig(FIGURE_DIR/'mnist-training-time', save_pdf=True, dpi=300)"
   ]
  },
  {
   "cell_type": "code",
   "execution_count": null,
   "metadata": {},
   "outputs": [],
   "source": []
  }
 ],
 "metadata": {
  "kernelspec": {
   "display_name": "Python 3",
   "language": "python",
   "name": "python3"
  },
  "language_info": {
   "codemirror_mode": {
    "name": "ipython",
    "version": 3
   },
   "file_extension": ".py",
   "mimetype": "text/x-python",
   "name": "python",
   "nbconvert_exporter": "python",
   "pygments_lexer": "ipython3",
   "version": "3.6.7"
  }
 },
 "nbformat": 4,
 "nbformat_minor": 2
}
