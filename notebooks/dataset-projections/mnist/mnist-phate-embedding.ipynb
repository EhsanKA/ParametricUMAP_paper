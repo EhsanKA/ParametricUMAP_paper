{
 "cells": [
  {
   "cell_type": "code",
   "execution_count": 1,
   "metadata": {
    "ExecuteTime": {
     "end_time": "2021-01-14T19:35:58.524431Z",
     "start_time": "2021-01-14T19:35:58.522182Z"
    }
   },
   "outputs": [],
   "source": [
    "dataset = 'mnist'\n",
    "algorithm = 'phate'\n",
    "n_components = 2"
   ]
  },
  {
   "cell_type": "code",
   "execution_count": 2,
   "metadata": {
    "ExecuteTime": {
     "end_time": "2021-01-14T19:35:58.542823Z",
     "start_time": "2021-01-14T19:35:58.525656Z"
    }
   },
   "outputs": [],
   "source": [
    "# reload packages\n",
    "%load_ext autoreload\n",
    "%autoreload 2"
   ]
  },
  {
   "cell_type": "markdown",
   "metadata": {},
   "source": [
    "### Choose GPU (this may not be needed on your computer)"
   ]
  },
  {
   "cell_type": "code",
   "execution_count": 3,
   "metadata": {
    "ExecuteTime": {
     "end_time": "2021-01-14T19:35:58.551977Z",
     "start_time": "2021-01-14T19:35:58.544802Z"
    }
   },
   "outputs": [
    {
     "name": "stdout",
     "output_type": "stream",
     "text": [
      "env: CUDA_DEVICE_ORDER=PCI_BUS_ID\n",
      "env: CUDA_VISIBLE_DEVICES=0\n"
     ]
    }
   ],
   "source": [
    "%env CUDA_DEVICE_ORDER=PCI_BUS_ID\n",
    "%env CUDA_VISIBLE_DEVICES=0"
   ]
  },
  {
   "cell_type": "markdown",
   "metadata": {},
   "source": [
    "### load packages"
   ]
  },
  {
   "cell_type": "code",
   "execution_count": 4,
   "metadata": {
    "ExecuteTime": {
     "end_time": "2021-01-14T19:36:09.085925Z",
     "start_time": "2021-01-14T19:35:58.553455Z"
    }
   },
   "outputs": [
    {
     "name": "stderr",
     "output_type": "stream",
     "text": [
      "/mnt/cube/tsainbur/Projects/github_repos/umap_tf_networks/tfumap/umap.py:7: TqdmExperimentalWarning: Using `tqdm.autonotebook.tqdm` in notebook mode. Use `tqdm.tqdm` instead to force console mode (e.g. in jupyter console)\n",
      "  from tqdm.autonotebook import tqdm\n"
     ]
    }
   ],
   "source": [
    "from tfumap.umap import tfUMAP"
   ]
  },
  {
   "cell_type": "code",
   "execution_count": 5,
   "metadata": {
    "ExecuteTime": {
     "end_time": "2021-01-14T19:36:09.241877Z",
     "start_time": "2021-01-14T19:36:09.087503Z"
    }
   },
   "outputs": [],
   "source": [
    "import tensorflow as tf\n",
    "import numpy as np\n",
    "import matplotlib.pyplot as plt\n",
    "from tqdm.autonotebook import tqdm\n",
    "import umap\n",
    "import pandas as pd"
   ]
  },
  {
   "cell_type": "markdown",
   "metadata": {},
   "source": [
    "### Load dataset"
   ]
  },
  {
   "cell_type": "code",
   "execution_count": 6,
   "metadata": {
    "ExecuteTime": {
     "end_time": "2021-01-14T19:36:09.270867Z",
     "start_time": "2021-01-14T19:36:09.243455Z"
    }
   },
   "outputs": [],
   "source": [
    "from tensorflow.keras.datasets import mnist"
   ]
  },
  {
   "cell_type": "code",
   "execution_count": 7,
   "metadata": {
    "ExecuteTime": {
     "end_time": "2021-01-14T19:36:09.659256Z",
     "start_time": "2021-01-14T19:36:09.272084Z"
    }
   },
   "outputs": [
    {
     "name": "stdout",
     "output_type": "stream",
     "text": [
      "50000 10000 10000\n"
     ]
    }
   ],
   "source": [
    "# load dataset\n",
    "(train_images, Y_train), (test_images, Y_test) = mnist.load_data()\n",
    "X_train = (train_images/255.).astype('float32')\n",
    "X_test = (test_images/255.).astype('float32')\n",
    "X_train = X_train.reshape((len(X_train), np.product(np.shape(X_train)[1:])))\n",
    "X_test = X_test.reshape((len(X_test), np.product(np.shape(X_test)[1:])))\n",
    "\n",
    "# subset a validation set\n",
    "n_valid = 10000\n",
    "X_valid = X_train[-n_valid:]\n",
    "Y_valid = Y_train[-n_valid:]\n",
    "X_train = X_train[:-n_valid]\n",
    "Y_train = Y_train[:-n_valid]\n",
    "\n",
    "# flatten X\n",
    "X_train_flat = X_train.reshape((len(X_train), np.product(np.shape(X_train)[1:])))\n",
    "X_test_flat = X_test.reshape((len(X_test), np.product(np.shape(X_test)[1:])))\n",
    "X_valid_flat= X_valid.reshape((len(X_valid), np.product(np.shape(X_valid)[1:])))\n",
    "print(len(X_train), len(X_valid), len(X_test))"
   ]
  },
  {
   "cell_type": "markdown",
   "metadata": {},
   "source": [
    "### Create model and train"
   ]
  },
  {
   "cell_type": "code",
   "execution_count": 8,
   "metadata": {
    "ExecuteTime": {
     "end_time": "2021-01-14T19:36:09.734000Z",
     "start_time": "2021-01-14T19:36:09.660941Z"
    }
   },
   "outputs": [],
   "source": [
    "import phate"
   ]
  },
  {
   "cell_type": "code",
   "execution_count": 9,
   "metadata": {
    "ExecuteTime": {
     "end_time": "2021-01-14T19:36:09.952996Z",
     "start_time": "2021-01-14T19:36:09.735559Z"
    }
   },
   "outputs": [],
   "source": [
    "from sklearn.preprocessing import MinMaxScaler\n",
    "from sklearn import datasets\n",
    "\n",
    "X_scaled = MinMaxScaler().fit_transform(X_train_flat)"
   ]
  },
  {
   "cell_type": "code",
   "execution_count": 10,
   "metadata": {
    "ExecuteTime": {
     "end_time": "2021-01-14T19:41:10.568989Z",
     "start_time": "2021-01-14T19:36:09.954682Z"
    }
   },
   "outputs": [
    {
     "name": "stdout",
     "output_type": "stream",
     "text": [
      "Calculating PHATE...\n",
      "  Running PHATE on 50000 observations and 784 variables.\n",
      "  Calculating graph and diffusion operator...\n",
      "    Calculating PCA...\n",
      "    Calculated PCA in 1.29 seconds.\n",
      "    Calculating KNN search...\n",
      "    Calculated KNN search in 135.80 seconds.\n",
      "    Calculating affinities...\n",
      "    Calculated affinities in 0.87 seconds.\n",
      "  Calculated graph and diffusion operator in 138.00 seconds.\n",
      "  Calculating landmark operator...\n",
      "    Calculating SVD...\n",
      "    Calculated SVD in 7.11 seconds.\n",
      "    Calculating KMeans...\n",
      "    Calculated KMeans in 80.80 seconds.\n",
      "  Calculated landmark operator in 91.96 seconds.\n",
      "  Calculating optimal t...\n",
      "    Automatically selected t = 26\n",
      "  Calculated optimal t in 61.83 seconds.\n",
      "  Calculating diffusion potential...\n",
      "  Calculated diffusion potential in 1.23 seconds.\n",
      "  Calculating metric MDS...\n",
      "  Calculated metric MDS in 7.53 seconds.\n",
      "Calculated PHATE in 300.58 seconds.\n"
     ]
    }
   ],
   "source": [
    "phate_op = phate.PHATE(n_jobs=-1)\n",
    "z = data_phate = phate_op.fit_transform(X_scaled)"
   ]
  },
  {
   "cell_type": "markdown",
   "metadata": {},
   "source": [
    "### Plot model output"
   ]
  },
  {
   "cell_type": "code",
   "execution_count": 11,
   "metadata": {
    "ExecuteTime": {
     "end_time": "2021-01-14T19:41:11.424177Z",
     "start_time": "2021-01-14T19:41:10.574843Z"
    }
   },
   "outputs": [
    {
     "data": {
      "image/png": "[encoded data removed]",
      "text/plain": [
       "<Figure size 576x576 with 2 Axes>"
      ]
     },
     "metadata": {
      "needs_background": "light"
     },
     "output_type": "display_data"
    }
   ],
   "source": [
    "fig, ax = plt.subplots( figsize=(8, 8))\n",
    "sc = ax.scatter(\n",
    "    z[:, 0],\n",
    "    z[:, 1],\n",
    "    c=Y_train.astype(int)[:len(z)],\n",
    "    cmap=\"tab10\",\n",
    "    s=0.1,\n",
    "    alpha=0.5,\n",
    "    rasterized=True,\n",
    ")\n",
    "ax.axis('equal')\n",
    "ax.set_title(\"UMAP in Tensorflow embedding\", fontsize=20)\n",
    "plt.colorbar(sc, ax=ax);"
   ]
  },
  {
   "cell_type": "markdown",
   "metadata": {},
   "source": [
    "### Save output"
   ]
  },
  {
   "cell_type": "code",
   "execution_count": 12,
   "metadata": {
    "ExecuteTime": {
     "end_time": "2021-01-14T19:41:11.464674Z",
     "start_time": "2021-01-14T19:41:11.428983Z"
    }
   },
   "outputs": [],
   "source": [
    "from tfumap.paths import ensure_dir, MODEL_DIR"
   ]
  },
  {
   "cell_type": "code",
   "execution_count": 13,
   "metadata": {
    "ExecuteTime": {
     "end_time": "2021-01-14T19:41:11.526790Z",
     "start_time": "2021-01-14T19:41:11.466028Z"
    }
   },
   "outputs": [],
   "source": [
    "output_dir = MODEL_DIR/'projections'/ dataset / algorithm\n",
    "ensure_dir(output_dir)"
   ]
  },
  {
   "cell_type": "code",
   "execution_count": 14,
   "metadata": {
    "ExecuteTime": {
     "end_time": "2021-01-14T19:41:11.561149Z",
     "start_time": "2021-01-14T19:41:11.528213Z"
    }
   },
   "outputs": [],
   "source": [
    "#vae.save(output_dir)"
   ]
  },
  {
   "cell_type": "code",
   "execution_count": 15,
   "metadata": {
    "ExecuteTime": {
     "end_time": "2021-01-14T19:41:11.595988Z",
     "start_time": "2021-01-14T19:41:11.562301Z"
    }
   },
   "outputs": [],
   "source": [
    "#loss_df.to_pickle(output_dir / 'loss_df.pickle')"
   ]
  },
  {
   "cell_type": "code",
   "execution_count": 16,
   "metadata": {
    "ExecuteTime": {
     "end_time": "2021-01-14T19:41:11.649888Z",
     "start_time": "2021-01-14T19:41:11.597442Z"
    }
   },
   "outputs": [],
   "source": [
    "np.save(output_dir / 'z.npy', z)"
   ]
  },
  {
   "cell_type": "markdown",
   "metadata": {},
   "source": [
    "### compute metrics "
   ]
  },
  {
   "cell_type": "code",
   "execution_count": 17,
   "metadata": {
    "ExecuteTime": {
     "end_time": "2021-01-14T19:41:11.708867Z",
     "start_time": "2021-01-14T19:41:11.651520Z"
    }
   },
   "outputs": [
    {
     "data": {
      "text/plain": [
       "(10000, 784)"
      ]
     },
     "execution_count": 17,
     "metadata": {},
     "output_type": "execute_result"
    }
   ],
   "source": [
    "X_test.shape"
   ]
  },
  {
   "cell_type": "code",
   "execution_count": 18,
   "metadata": {
    "ExecuteTime": {
     "end_time": "2021-01-14T19:41:56.445076Z",
     "start_time": "2021-01-14T19:41:11.710165Z"
    }
   },
   "outputs": [
    {
     "name": "stdout",
     "output_type": "stream",
     "text": [
      "Calculating KNN search...\n"
     ]
    },
    {
     "name": "stderr",
     "output_type": "stream",
     "text": [
      "/home/AD/tsainbur/anaconda3/envs/tfumap/lib/python3.7/site-packages/phate/phate.py:881: RuntimeWarning: Pre-fit PHATE should not be used to transform a new data matrix. Please fit PHATE to the new data by running 'fit' with the new data.\n",
      "  RuntimeWarning,\n"
     ]
    },
    {
     "name": "stdout",
     "output_type": "stream",
     "text": [
      "Calculated KNN search in 38.89 seconds.\n",
      "Calculating affinities...\n",
      "Calculated affinities in 1.03 seconds.\n"
     ]
    }
   ],
   "source": [
    "z_test = phate_op.transform(X_test)"
   ]
  },
  {
   "cell_type": "markdown",
   "metadata": {},
   "source": [
    "#### silhouette"
   ]
  },
  {
   "cell_type": "code",
   "execution_count": 19,
   "metadata": {
    "ExecuteTime": {
     "end_time": "2021-01-14T19:41:56.531891Z",
     "start_time": "2021-01-14T19:41:56.446565Z"
    }
   },
   "outputs": [],
   "source": [
    "from tfumap.silhouette import silhouette_score_block"
   ]
  },
  {
   "cell_type": "code",
   "execution_count": 20,
   "metadata": {
    "ExecuteTime": {
     "end_time": "2021-01-14T19:42:02.866609Z",
     "start_time": "2021-01-14T19:41:56.533185Z"
    }
   },
   "outputs": [
    {
     "data": {
      "text/plain": [
       "0.180338624288841"
      ]
     },
     "execution_count": 20,
     "metadata": {},
     "output_type": "execute_result"
    }
   ],
   "source": [
    "ss, sil_samp = silhouette_score_block(z, Y_train, n_jobs = -1)\n",
    "ss"
   ]
  },
  {
   "cell_type": "code",
   "execution_count": 21,
   "metadata": {
    "ExecuteTime": {
     "end_time": "2021-01-14T19:42:03.163628Z",
     "start_time": "2021-01-14T19:42:02.867851Z"
    }
   },
   "outputs": [
    {
     "data": {
      "text/plain": [
       "0.20184220976752085"
      ]
     },
     "execution_count": 21,
     "metadata": {},
     "output_type": "execute_result"
    }
   ],
   "source": [
    "ss_test, sil_samp_test = silhouette_score_block(z_test, Y_test, n_jobs = -1)\n",
    "ss_test"
   ]
  },
  {
   "cell_type": "code",
   "execution_count": 22,
   "metadata": {
    "ExecuteTime": {
     "end_time": "2021-01-14T19:42:04.192793Z",
     "start_time": "2021-01-14T19:42:03.164718Z"
    }
   },
   "outputs": [
    {
     "data": {
      "text/plain": [
       "<matplotlib.collections.PathCollection at 0x7fcda8553990>"
      ]
     },
     "execution_count": 22,
     "metadata": {},
     "output_type": "execute_result"
    },
    {
     "data": {
      "image/png": "[encoded data removed]",
      "text/plain": [
       "<Figure size 720x360 with 2 Axes>"
      ]
     },
     "metadata": {
      "needs_background": "light"
     },
     "output_type": "display_data"
    }
   ],
   "source": [
    "fig, axs = plt.subplots(ncols = 2, figsize=(10, 5))\n",
    "axs[0].scatter(z[:, 0], z[:, 1], s=0.1, alpha=0.5, c=sil_samp, cmap=plt.cm.viridis)\n",
    "axs[1].scatter(z_test[:, 0], z_test[:, 1], s=1, alpha=0.5, c=sil_samp_test, cmap=plt.cm.viridis)"
   ]
  },
  {
   "cell_type": "markdown",
   "metadata": {},
   "source": [
    "#### KNN"
   ]
  },
  {
   "cell_type": "code",
   "execution_count": 23,
   "metadata": {
    "ExecuteTime": {
     "end_time": "2021-01-14T19:42:04.225920Z",
     "start_time": "2021-01-14T19:42:04.194058Z"
    }
   },
   "outputs": [],
   "source": [
    "from sklearn.neighbors import KNeighborsClassifier"
   ]
  },
  {
   "cell_type": "code",
   "execution_count": 24,
   "metadata": {
    "ExecuteTime": {
     "end_time": "2021-01-14T19:42:04.643336Z",
     "start_time": "2021-01-14T19:42:04.227314Z"
    }
   },
   "outputs": [
    {
     "data": {
      "text/plain": [
       "0.8114"
      ]
     },
     "execution_count": 24,
     "metadata": {},
     "output_type": "execute_result"
    }
   ],
   "source": [
    "neigh5 = KNeighborsClassifier(n_neighbors=5)\n",
    "neigh5.fit(z, Y_train)\n",
    "score_5nn = neigh5.score(z_test, Y_test)\n",
    "score_5nn"
   ]
  },
  {
   "cell_type": "code",
   "execution_count": 25,
   "metadata": {
    "ExecuteTime": {
     "end_time": "2021-01-14T19:42:05.068144Z",
     "start_time": "2021-01-14T19:42:04.644356Z"
    }
   },
   "outputs": [
    {
     "data": {
      "text/plain": [
       "0.7684"
      ]
     },
     "execution_count": 25,
     "metadata": {},
     "output_type": "execute_result"
    }
   ],
   "source": [
    "neigh1 = KNeighborsClassifier(n_neighbors=1)\n",
    "neigh1.fit(z, Y_train)\n",
    "score_1nn = neigh1.score(z_test, Y_test)\n",
    "score_1nn"
   ]
  },
  {
   "cell_type": "markdown",
   "metadata": {},
   "source": [
    "#### Trustworthiness"
   ]
  },
  {
   "cell_type": "code",
   "execution_count": 26,
   "metadata": {
    "ExecuteTime": {
     "end_time": "2021-01-14T19:42:05.151244Z",
     "start_time": "2021-01-14T19:42:05.076099Z"
    }
   },
   "outputs": [],
   "source": [
    "from sklearn.manifold import trustworthiness"
   ]
  },
  {
   "cell_type": "code",
   "execution_count": 27,
   "metadata": {
    "ExecuteTime": {
     "end_time": "2021-01-14T19:42:16.172622Z",
     "start_time": "2021-01-14T19:42:05.152495Z"
    }
   },
   "outputs": [],
   "source": [
    "tw = trustworthiness(X_train_flat[:10000], z[:10000])"
   ]
  },
  {
   "cell_type": "code",
   "execution_count": 28,
   "metadata": {
    "ExecuteTime": {
     "end_time": "2021-01-14T19:42:29.627881Z",
     "start_time": "2021-01-14T19:42:16.174510Z"
    }
   },
   "outputs": [],
   "source": [
    "tw_test = trustworthiness(X_test_flat[:10000], z_test[:10000])"
   ]
  },
  {
   "cell_type": "code",
   "execution_count": 29,
   "metadata": {
    "ExecuteTime": {
     "end_time": "2021-01-14T19:42:29.756183Z",
     "start_time": "2021-01-14T19:42:29.631893Z"
    }
   },
   "outputs": [
    {
     "data": {
      "text/plain": [
       "(0.8729725720576461, 0.8686270496397117)"
      ]
     },
     "execution_count": 29,
     "metadata": {},
     "output_type": "execute_result"
    }
   ],
   "source": [
    "tw, tw_test"
   ]
  },
  {
   "cell_type": "markdown",
   "metadata": {},
   "source": [
    "### Save output metrics"
   ]
  },
  {
   "cell_type": "code",
   "execution_count": 30,
   "metadata": {
    "ExecuteTime": {
     "end_time": "2021-01-14T19:42:29.845021Z",
     "start_time": "2021-01-14T19:42:29.758676Z"
    }
   },
   "outputs": [],
   "source": [
    "from tfumap.paths import ensure_dir, MODEL_DIR, DATA_DIR"
   ]
  },
  {
   "cell_type": "markdown",
   "metadata": {},
   "source": [
    "#### train"
   ]
  },
  {
   "cell_type": "code",
   "execution_count": 31,
   "metadata": {
    "ExecuteTime": {
     "end_time": "2021-01-14T19:42:29.904505Z",
     "start_time": "2021-01-14T19:42:29.846423Z"
    }
   },
   "outputs": [
    {
     "data": {
      "text/html": [
       "<div>\n",
       "<style scoped>\n",
       "    .dataframe tbody tr th:only-of-type {\n",
       "        vertical-align: middle;\n",
       "    }\n",
       "\n",
       "    .dataframe tbody tr th {\n",
       "        vertical-align: top;\n",
       "    }\n",
       "\n",
       "    .dataframe thead th {\n",
       "        text-align: right;\n",
       "    }\n",
       "</style>\n",
       "<table border=\"1\" class=\"dataframe\">\n",
       "  <thead>\n",
       "    <tr style=\"text-align: right;\">\n",
       "      <th></th>\n",
       "      <th>dataset</th>\n",
       "      <th>class_</th>\n",
       "      <th>dim</th>\n",
       "      <th>trustworthiness</th>\n",
       "      <th>silhouette_score</th>\n",
       "      <th>silhouette_samples</th>\n",
       "    </tr>\n",
       "  </thead>\n",
       "  <tbody>\n",
       "    <tr>\n",
       "      <th>0</th>\n",
       "      <td>mnist</td>\n",
       "      <td>phate</td>\n",
       "      <td>2</td>\n",
       "      <td>0.872973</td>\n",
       "      <td>0.180339</td>\n",
       "      <td>[-0.16720255603424397, 0.7820445866583386, 0.1...</td>\n",
       "    </tr>\n",
       "  </tbody>\n",
       "</table>\n",
       "</div>"
      ],
      "text/plain": [
       "  dataset class_ dim  trustworthiness  silhouette_score  \\\n",
       "0   mnist  phate   2         0.872973          0.180339   \n",
       "\n",
       "                                  silhouette_samples  \n",
       "0  [-0.16720255603424397, 0.7820445866583386, 0.1...  "
      ]
     },
     "execution_count": 31,
     "metadata": {},
     "output_type": "execute_result"
    }
   ],
   "source": [
    "metrics_df = pd.DataFrame(\n",
    "    columns=[\n",
    "        \"dataset\",\n",
    "        \"class_\",\n",
    "        \"dim\",\n",
    "        \"trustworthiness\",\n",
    "        \"silhouette_score\",\n",
    "        \"silhouette_samples\",\n",
    "    ]\n",
    ")\n",
    "metrics_df.loc[len(metrics_df)] = [dataset, algorithm, n_components, tw, ss, sil_samp]\n",
    "metrics_df"
   ]
  },
  {
   "cell_type": "code",
   "execution_count": 32,
   "metadata": {
    "ExecuteTime": {
     "end_time": "2021-01-14T19:42:29.966357Z",
     "start_time": "2021-01-14T19:42:29.905938Z"
    }
   },
   "outputs": [],
   "source": [
    "save_loc = DATA_DIR / 'projection_metrics' /  algorithm / 'train' / str(n_components) / (dataset + '.pickle')\n",
    "ensure_dir(save_loc)\n",
    "metrics_df.to_pickle(save_loc)"
   ]
  },
  {
   "cell_type": "markdown",
   "metadata": {},
   "source": [
    "#### test"
   ]
  },
  {
   "cell_type": "code",
   "execution_count": 33,
   "metadata": {
    "ExecuteTime": {
     "end_time": "2021-01-14T19:42:30.023451Z",
     "start_time": "2021-01-14T19:42:29.967395Z"
    }
   },
   "outputs": [
    {
     "data": {
      "text/html": [
       "<div>\n",
       "<style scoped>\n",
       "    .dataframe tbody tr th:only-of-type {\n",
       "        vertical-align: middle;\n",
       "    }\n",
       "\n",
       "    .dataframe tbody tr th {\n",
       "        vertical-align: top;\n",
       "    }\n",
       "\n",
       "    .dataframe thead th {\n",
       "        text-align: right;\n",
       "    }\n",
       "</style>\n",
       "<table border=\"1\" class=\"dataframe\">\n",
       "  <thead>\n",
       "    <tr style=\"text-align: right;\">\n",
       "      <th></th>\n",
       "      <th>dataset</th>\n",
       "      <th>class_</th>\n",
       "      <th>dim</th>\n",
       "      <th>trustworthiness</th>\n",
       "      <th>silhouette_score</th>\n",
       "      <th>silhouette_samples</th>\n",
       "    </tr>\n",
       "  </thead>\n",
       "  <tbody>\n",
       "    <tr>\n",
       "      <th>1</th>\n",
       "      <td>mnist</td>\n",
       "      <td>phate</td>\n",
       "      <td>2</td>\n",
       "      <td>0.868627</td>\n",
       "      <td>0.201842</td>\n",
       "      <td>[0.4012211214973008, 0.28055054963552334, 0.48...</td>\n",
       "    </tr>\n",
       "  </tbody>\n",
       "</table>\n",
       "</div>"
      ],
      "text/plain": [
       "  dataset class_ dim  trustworthiness  silhouette_score  \\\n",
       "1   mnist  phate   2         0.868627          0.201842   \n",
       "\n",
       "                                  silhouette_samples  \n",
       "1  [0.4012211214973008, 0.28055054963552334, 0.48...  "
      ]
     },
     "execution_count": 33,
     "metadata": {},
     "output_type": "execute_result"
    }
   ],
   "source": [
    "metrics_df_test = pd.DataFrame(\n",
    "    columns=[\n",
    "        \"dataset\",\n",
    "        \"class_\",\n",
    "        \"dim\",\n",
    "        \"trustworthiness\",\n",
    "        \"silhouette_score\",\n",
    "        \"silhouette_samples\",\n",
    "    ]\n",
    ")\n",
    "metrics_df_test.loc[len(metrics_df)] = [dataset, algorithm, n_components, tw_test, ss_test, sil_samp_test]\n",
    "metrics_df_test"
   ]
  },
  {
   "cell_type": "code",
   "execution_count": 34,
   "metadata": {
    "ExecuteTime": {
     "end_time": "2021-01-14T19:42:30.120534Z",
     "start_time": "2021-01-14T19:42:30.024878Z"
    }
   },
   "outputs": [],
   "source": [
    "save_loc = DATA_DIR / 'projection_metrics' / algorithm / 'test' / str(n_components) / (dataset + '.pickle')\n",
    "ensure_dir(save_loc)\n",
    "metrics_df.to_pickle(save_loc)"
   ]
  },
  {
   "cell_type": "markdown",
   "metadata": {},
   "source": [
    "#### knn "
   ]
  },
  {
   "cell_type": "code",
   "execution_count": 35,
   "metadata": {
    "ExecuteTime": {
     "end_time": "2021-01-14T19:42:30.220821Z",
     "start_time": "2021-01-14T19:42:30.123625Z"
    }
   },
   "outputs": [
    {
     "data": {
      "text/html": [
       "<div>\n",
       "<style scoped>\n",
       "    .dataframe tbody tr th:only-of-type {\n",
       "        vertical-align: middle;\n",
       "    }\n",
       "\n",
       "    .dataframe tbody tr th {\n",
       "        vertical-align: top;\n",
       "    }\n",
       "\n",
       "    .dataframe thead th {\n",
       "        text-align: right;\n",
       "    }\n",
       "</style>\n",
       "<table border=\"1\" class=\"dataframe\">\n",
       "  <thead>\n",
       "    <tr style=\"text-align: right;\">\n",
       "      <th></th>\n",
       "      <th>method_</th>\n",
       "      <th>dimensions</th>\n",
       "      <th>dataset</th>\n",
       "      <th>1NN_acc</th>\n",
       "      <th>5NN_acc</th>\n",
       "    </tr>\n",
       "  </thead>\n",
       "  <tbody>\n",
       "    <tr>\n",
       "      <th>0</th>\n",
       "      <td>phate</td>\n",
       "      <td>2</td>\n",
       "      <td>mnist</td>\n",
       "      <td>0.7684</td>\n",
       "      <td>0.8114</td>\n",
       "    </tr>\n",
       "  </tbody>\n",
       "</table>\n",
       "</div>"
      ],
      "text/plain": [
       "  method_ dimensions dataset  1NN_acc  5NN_acc\n",
       "0   phate          2   mnist   0.7684   0.8114"
      ]
     },
     "execution_count": 35,
     "metadata": {},
     "output_type": "execute_result"
    }
   ],
   "source": [
    "nn_acc_df = pd.DataFrame(columns = [\"method_\",\"dimensions\",\"dataset\",\"1NN_acc\",\"5NN_acc\"])\n",
    "nn_acc_df.loc[len(nn_acc_df)] = [algorithm, n_components, dataset,  score_1nn, score_5nn]\n",
    "nn_acc_df"
   ]
  },
  {
   "cell_type": "code",
   "execution_count": 36,
   "metadata": {
    "ExecuteTime": {
     "end_time": "2021-01-14T19:42:30.329812Z",
     "start_time": "2021-01-14T19:42:30.222802Z"
    }
   },
   "outputs": [],
   "source": [
    "save_loc = DATA_DIR / 'knn_classifier' / algorithm / 'train' / str(n_components) / (dataset + '.pickle')\n",
    "ensure_dir(save_loc)\n",
    "nn_acc_df.to_pickle(save_loc)"
   ]
  },
  {
   "cell_type": "markdown",
   "metadata": {},
   "source": [
    "### Compute clustering quality"
   ]
  },
  {
   "cell_type": "code",
   "execution_count": 37,
   "metadata": {
    "ExecuteTime": {
     "end_time": "2021-01-14T19:42:30.385479Z",
     "start_time": "2021-01-14T19:42:30.331450Z"
    }
   },
   "outputs": [],
   "source": [
    "from sklearn.cluster import KMeans\n",
    "from sklearn.metrics import homogeneity_completeness_v_measure"
   ]
  },
  {
   "cell_type": "code",
   "execution_count": 38,
   "metadata": {
    "ExecuteTime": {
     "end_time": "2021-01-14T19:42:30.474803Z",
     "start_time": "2021-01-14T19:42:30.395451Z"
    }
   },
   "outputs": [],
   "source": [
    "def get_cluster_metrics(row, n_init=5):\n",
    "    \n",
    "    # load cluster information\n",
    "    save_loc = DATA_DIR / 'clustering_metric_df'/ ('_'.join([row.class_, str(row.dim), row.dataset]) + '.pickle')\n",
    "    print(save_loc)\n",
    "    if save_loc.exists() and save_loc.is_file():\n",
    "        \n",
    "        cluster_df = pd.read_pickle(save_loc)\n",
    "        return cluster_df\n",
    "    \n",
    "    # make cluster metric dataframe\n",
    "    cluster_df = pd.DataFrame(\n",
    "        columns=[\n",
    "            \"dataset\",\n",
    "            \"class_\",\n",
    "            \"dim\",\n",
    "            \"silhouette\",\n",
    "            \"homogeneity\",\n",
    "            \"completeness\",\n",
    "            \"v_measure\",\n",
    "            \"init_\",\n",
    "            \"n_clusters\",\n",
    "            \"model\",\n",
    "        ]\n",
    "    )\n",
    "    y = row.train_label\n",
    "    z = row.train_z\n",
    "    n_labels = len(np.unique(y))\n",
    "    for n_clusters in tqdm(np.arange(n_labels - int(n_labels / 2), n_labels + int(n_labels / 2)), leave=False, desc = 'n_clusters'):\n",
    "        for init_ in tqdm(range(n_init), leave=False, desc='init'):\n",
    "            kmeans = KMeans(n_clusters=n_clusters, random_state=init_).fit(z)\n",
    "            clustered_y = kmeans.labels_\n",
    "            homogeneity, completeness, v_measure = homogeneity_completeness_v_measure(\n",
    "                y, clustered_y\n",
    "            )\n",
    "            ss, _ = silhouette_score_block(z, clustered_y)\n",
    "            cluster_df.loc[len(cluster_df)] = [\n",
    "                row.dataset,\n",
    "                row.class_,\n",
    "                row.dim,\n",
    "                ss,\n",
    "                homogeneity,\n",
    "                completeness,\n",
    "                v_measure,\n",
    "                init_,\n",
    "                n_clusters,\n",
    "                kmeans,\n",
    "            ]\n",
    "    \n",
    "     # save cluster df in case this fails somewhere\n",
    "    ensure_dir(save_loc)\n",
    "    cluster_df.to_pickle(save_loc)\n",
    "    return cluster_df"
   ]
  },
  {
   "cell_type": "code",
   "execution_count": 39,
   "metadata": {
    "ExecuteTime": {
     "end_time": "2021-01-14T19:42:30.670822Z",
     "start_time": "2021-01-14T19:42:30.479409Z"
    }
   },
   "outputs": [
    {
     "data": {
      "text/html": [
       "<div>\n",
       "<style scoped>\n",
       "    .dataframe tbody tr th:only-of-type {\n",
       "        vertical-align: middle;\n",
       "    }\n",
       "\n",
       "    .dataframe tbody tr th {\n",
       "        vertical-align: top;\n",
       "    }\n",
       "\n",
       "    .dataframe thead th {\n",
       "        text-align: right;\n",
       "    }\n",
       "</style>\n",
       "<table border=\"1\" class=\"dataframe\">\n",
       "  <thead>\n",
       "    <tr style=\"text-align: right;\">\n",
       "      <th></th>\n",
       "      <th>dataset</th>\n",
       "      <th>class_</th>\n",
       "      <th>train_z</th>\n",
       "      <th>train_label</th>\n",
       "      <th>dim</th>\n",
       "    </tr>\n",
       "  </thead>\n",
       "  <tbody>\n",
       "    <tr>\n",
       "      <th>0</th>\n",
       "      <td>mnist</td>\n",
       "      <td>phate</td>\n",
       "      <td>[[0.006963707349338973, -0.0061746428696805526...</td>\n",
       "      <td>[5, 0, 4, 1, 9, 2, 1, 3, 1, 4, 3, 5, 3, 6, 1, ...</td>\n",
       "      <td>2</td>\n",
       "    </tr>\n",
       "  </tbody>\n",
       "</table>\n",
       "</div>"
      ],
      "text/plain": [
       "  dataset class_                                            train_z  \\\n",
       "0   mnist  phate  [[0.006963707349338973, -0.0061746428696805526...   \n",
       "\n",
       "                                         train_label dim  \n",
       "0  [5, 0, 4, 1, 9, 2, 1, 3, 1, 4, 3, 5, 3, 6, 1, ...   2  "
      ]
     },
     "execution_count": 39,
     "metadata": {},
     "output_type": "execute_result"
    }
   ],
   "source": [
    "projection_df = pd.DataFrame(columns = ['dataset', 'class_', 'train_z', 'train_label', 'dim'])\n",
    "projection_df.loc[len(projection_df)] = [dataset, algorithm, z, Y_train, n_components]\n",
    "projection_df"
   ]
  },
  {
   "cell_type": "code",
   "execution_count": 40,
   "metadata": {
    "ExecuteTime": {
     "end_time": "2021-01-14T19:42:30.787034Z",
     "start_time": "2021-01-14T19:42:30.672942Z"
    }
   },
   "outputs": [
    {
     "name": "stdout",
     "output_type": "stream",
     "text": [
      "/mnt/cube/tsainbur/Projects/github_repos/umap_tf_networks/data/clustering_metric_df/phate_2_mnist.pickle\n"
     ]
    },
    {
     "data": {
      "text/html": [
       "<div>\n",
       "<style scoped>\n",
       "    .dataframe tbody tr th:only-of-type {\n",
       "        vertical-align: middle;\n",
       "    }\n",
       "\n",
       "    .dataframe tbody tr th {\n",
       "        vertical-align: top;\n",
       "    }\n",
       "\n",
       "    .dataframe thead th {\n",
       "        text-align: right;\n",
       "    }\n",
       "</style>\n",
       "<table border=\"1\" class=\"dataframe\">\n",
       "  <thead>\n",
       "    <tr style=\"text-align: right;\">\n",
       "      <th></th>\n",
       "      <th>dataset</th>\n",
       "      <th>class_</th>\n",
       "      <th>dim</th>\n",
       "      <th>silhouette</th>\n",
       "      <th>homogeneity</th>\n",
       "      <th>completeness</th>\n",
       "      <th>v_measure</th>\n",
       "      <th>init_</th>\n",
       "      <th>n_clusters</th>\n",
       "      <th>model</th>\n",
       "    </tr>\n",
       "  </thead>\n",
       "  <tbody>\n",
       "    <tr>\n",
       "      <th>0</th>\n",
       "      <td>mnist</td>\n",
       "      <td>phate</td>\n",
       "      <td>2</td>\n",
       "      <td>0.474208</td>\n",
       "      <td>0.521685</td>\n",
       "      <td>0.800110</td>\n",
       "      <td>0.631574</td>\n",
       "      <td>0</td>\n",
       "      <td>5</td>\n",
       "      <td>KMeans(n_clusters=5, random_state=0)</td>\n",
       "    </tr>\n",
       "    <tr>\n",
       "      <th>1</th>\n",
       "      <td>mnist</td>\n",
       "      <td>phate</td>\n",
       "      <td>2</td>\n",
       "      <td>0.477703</td>\n",
       "      <td>0.523121</td>\n",
       "      <td>0.805420</td>\n",
       "      <td>0.634278</td>\n",
       "      <td>1</td>\n",
       "      <td>5</td>\n",
       "      <td>KMeans(n_clusters=5, random_state=1)</td>\n",
       "    </tr>\n",
       "    <tr>\n",
       "      <th>2</th>\n",
       "      <td>mnist</td>\n",
       "      <td>phate</td>\n",
       "      <td>2</td>\n",
       "      <td>0.470268</td>\n",
       "      <td>0.520258</td>\n",
       "      <td>0.794429</td>\n",
       "      <td>0.628755</td>\n",
       "      <td>2</td>\n",
       "      <td>5</td>\n",
       "      <td>KMeans(n_clusters=5, random_state=2)</td>\n",
       "    </tr>\n",
       "    <tr>\n",
       "      <th>3</th>\n",
       "      <td>mnist</td>\n",
       "      <td>phate</td>\n",
       "      <td>2</td>\n",
       "      <td>0.475848</td>\n",
       "      <td>0.522258</td>\n",
       "      <td>0.802473</td>\n",
       "      <td>0.632729</td>\n",
       "      <td>3</td>\n",
       "      <td>5</td>\n",
       "      <td>KMeans(n_clusters=5, random_state=3)</td>\n",
       "    </tr>\n",
       "    <tr>\n",
       "      <th>4</th>\n",
       "      <td>mnist</td>\n",
       "      <td>phate</td>\n",
       "      <td>2</td>\n",
       "      <td>0.471142</td>\n",
       "      <td>0.520466</td>\n",
       "      <td>0.795547</td>\n",
       "      <td>0.629257</td>\n",
       "      <td>4</td>\n",
       "      <td>5</td>\n",
       "      <td>KMeans(n_clusters=5, random_state=4)</td>\n",
       "    </tr>\n",
       "    <tr>\n",
       "      <th>5</th>\n",
       "      <td>mnist</td>\n",
       "      <td>phate</td>\n",
       "      <td>2</td>\n",
       "      <td>0.459886</td>\n",
       "      <td>0.532026</td>\n",
       "      <td>0.717663</td>\n",
       "      <td>0.611056</td>\n",
       "      <td>0</td>\n",
       "      <td>6</td>\n",
       "      <td>KMeans(n_clusters=6, random_state=0)</td>\n",
       "    </tr>\n",
       "    <tr>\n",
       "      <th>6</th>\n",
       "      <td>mnist</td>\n",
       "      <td>phate</td>\n",
       "      <td>2</td>\n",
       "      <td>0.461965</td>\n",
       "      <td>0.533136</td>\n",
       "      <td>0.720991</td>\n",
       "      <td>0.612994</td>\n",
       "      <td>1</td>\n",
       "      <td>6</td>\n",
       "      <td>KMeans(n_clusters=6, random_state=1)</td>\n",
       "    </tr>\n",
       "    <tr>\n",
       "      <th>7</th>\n",
       "      <td>mnist</td>\n",
       "      <td>phate</td>\n",
       "      <td>2</td>\n",
       "      <td>0.461626</td>\n",
       "      <td>0.532867</td>\n",
       "      <td>0.720325</td>\n",
       "      <td>0.612575</td>\n",
       "      <td>2</td>\n",
       "      <td>6</td>\n",
       "      <td>KMeans(n_clusters=6, random_state=2)</td>\n",
       "    </tr>\n",
       "    <tr>\n",
       "      <th>8</th>\n",
       "      <td>mnist</td>\n",
       "      <td>phate</td>\n",
       "      <td>2</td>\n",
       "      <td>0.460497</td>\n",
       "      <td>0.532132</td>\n",
       "      <td>0.718286</td>\n",
       "      <td>0.611352</td>\n",
       "      <td>3</td>\n",
       "      <td>6</td>\n",
       "      <td>KMeans(n_clusters=6, random_state=3)</td>\n",
       "    </tr>\n",
       "    <tr>\n",
       "      <th>9</th>\n",
       "      <td>mnist</td>\n",
       "      <td>phate</td>\n",
       "      <td>2</td>\n",
       "      <td>0.459241</td>\n",
       "      <td>0.531578</td>\n",
       "      <td>0.716349</td>\n",
       "      <td>0.610285</td>\n",
       "      <td>4</td>\n",
       "      <td>6</td>\n",
       "      <td>KMeans(n_clusters=6, random_state=4)</td>\n",
       "    </tr>\n",
       "    <tr>\n",
       "      <th>10</th>\n",
       "      <td>mnist</td>\n",
       "      <td>phate</td>\n",
       "      <td>2</td>\n",
       "      <td>0.479027</td>\n",
       "      <td>0.620043</td>\n",
       "      <td>0.748901</td>\n",
       "      <td>0.678407</td>\n",
       "      <td>0</td>\n",
       "      <td>7</td>\n",
       "      <td>KMeans(n_clusters=7, random_state=0)</td>\n",
       "    </tr>\n",
       "    <tr>\n",
       "      <th>11</th>\n",
       "      <td>mnist</td>\n",
       "      <td>phate</td>\n",
       "      <td>2</td>\n",
       "      <td>0.478995</td>\n",
       "      <td>0.620016</td>\n",
       "      <td>0.748945</td>\n",
       "      <td>0.678409</td>\n",
       "      <td>1</td>\n",
       "      <td>7</td>\n",
       "      <td>KMeans(n_clusters=7, random_state=1)</td>\n",
       "    </tr>\n",
       "    <tr>\n",
       "      <th>12</th>\n",
       "      <td>mnist</td>\n",
       "      <td>phate</td>\n",
       "      <td>2</td>\n",
       "      <td>0.479020</td>\n",
       "      <td>0.619996</td>\n",
       "      <td>0.748863</td>\n",
       "      <td>0.678363</td>\n",
       "      <td>2</td>\n",
       "      <td>7</td>\n",
       "      <td>KMeans(n_clusters=7, random_state=2)</td>\n",
       "    </tr>\n",
       "    <tr>\n",
       "      <th>13</th>\n",
       "      <td>mnist</td>\n",
       "      <td>phate</td>\n",
       "      <td>2</td>\n",
       "      <td>0.479025</td>\n",
       "      <td>0.620034</td>\n",
       "      <td>0.748928</td>\n",
       "      <td>0.678413</td>\n",
       "      <td>3</td>\n",
       "      <td>7</td>\n",
       "      <td>KMeans(n_clusters=7, random_state=3)</td>\n",
       "    </tr>\n",
       "    <tr>\n",
       "      <th>14</th>\n",
       "      <td>mnist</td>\n",
       "      <td>phate</td>\n",
       "      <td>2</td>\n",
       "      <td>0.479004</td>\n",
       "      <td>0.619976</td>\n",
       "      <td>0.748846</td>\n",
       "      <td>0.678345</td>\n",
       "      <td>4</td>\n",
       "      <td>7</td>\n",
       "      <td>KMeans(n_clusters=7, random_state=4)</td>\n",
       "    </tr>\n",
       "    <tr>\n",
       "      <th>15</th>\n",
       "      <td>mnist</td>\n",
       "      <td>phate</td>\n",
       "      <td>2</td>\n",
       "      <td>0.497233</td>\n",
       "      <td>0.626498</td>\n",
       "      <td>0.725638</td>\n",
       "      <td>0.672433</td>\n",
       "      <td>0</td>\n",
       "      <td>8</td>\n",
       "      <td>KMeans(random_state=0)</td>\n",
       "    </tr>\n",
       "    <tr>\n",
       "      <th>16</th>\n",
       "      <td>mnist</td>\n",
       "      <td>phate</td>\n",
       "      <td>2</td>\n",
       "      <td>0.497212</td>\n",
       "      <td>0.626630</td>\n",
       "      <td>0.725733</td>\n",
       "      <td>0.672550</td>\n",
       "      <td>1</td>\n",
       "      <td>8</td>\n",
       "      <td>KMeans(random_state=1)</td>\n",
       "    </tr>\n",
       "    <tr>\n",
       "      <th>17</th>\n",
       "      <td>mnist</td>\n",
       "      <td>phate</td>\n",
       "      <td>2</td>\n",
       "      <td>0.497290</td>\n",
       "      <td>0.626821</td>\n",
       "      <td>0.726011</td>\n",
       "      <td>0.672780</td>\n",
       "      <td>2</td>\n",
       "      <td>8</td>\n",
       "      <td>KMeans(random_state=2)</td>\n",
       "    </tr>\n",
       "    <tr>\n",
       "      <th>18</th>\n",
       "      <td>mnist</td>\n",
       "      <td>phate</td>\n",
       "      <td>2</td>\n",
       "      <td>0.497098</td>\n",
       "      <td>0.626663</td>\n",
       "      <td>0.725680</td>\n",
       "      <td>0.672547</td>\n",
       "      <td>3</td>\n",
       "      <td>8</td>\n",
       "      <td>KMeans(random_state=3)</td>\n",
       "    </tr>\n",
       "    <tr>\n",
       "      <th>19</th>\n",
       "      <td>mnist</td>\n",
       "      <td>phate</td>\n",
       "      <td>2</td>\n",
       "      <td>0.497078</td>\n",
       "      <td>0.626760</td>\n",
       "      <td>0.725763</td>\n",
       "      <td>0.672638</td>\n",
       "      <td>4</td>\n",
       "      <td>8</td>\n",
       "      <td>KMeans(random_state=4)</td>\n",
       "    </tr>\n",
       "    <tr>\n",
       "      <th>20</th>\n",
       "      <td>mnist</td>\n",
       "      <td>phate</td>\n",
       "      <td>2</td>\n",
       "      <td>0.476766</td>\n",
       "      <td>0.630658</td>\n",
       "      <td>0.688553</td>\n",
       "      <td>0.658335</td>\n",
       "      <td>0</td>\n",
       "      <td>9</td>\n",
       "      <td>KMeans(n_clusters=9, random_state=0)</td>\n",
       "    </tr>\n",
       "    <tr>\n",
       "      <th>21</th>\n",
       "      <td>mnist</td>\n",
       "      <td>phate</td>\n",
       "      <td>2</td>\n",
       "      <td>0.476788</td>\n",
       "      <td>0.630629</td>\n",
       "      <td>0.688526</td>\n",
       "      <td>0.658307</td>\n",
       "      <td>1</td>\n",
       "      <td>9</td>\n",
       "      <td>KMeans(n_clusters=9, random_state=1)</td>\n",
       "    </tr>\n",
       "    <tr>\n",
       "      <th>22</th>\n",
       "      <td>mnist</td>\n",
       "      <td>phate</td>\n",
       "      <td>2</td>\n",
       "      <td>0.476782</td>\n",
       "      <td>0.630770</td>\n",
       "      <td>0.688673</td>\n",
       "      <td>0.658451</td>\n",
       "      <td>2</td>\n",
       "      <td>9</td>\n",
       "      <td>KMeans(n_clusters=9, random_state=2)</td>\n",
       "    </tr>\n",
       "    <tr>\n",
       "      <th>23</th>\n",
       "      <td>mnist</td>\n",
       "      <td>phate</td>\n",
       "      <td>2</td>\n",
       "      <td>0.476782</td>\n",
       "      <td>0.630623</td>\n",
       "      <td>0.688517</td>\n",
       "      <td>0.658299</td>\n",
       "      <td>3</td>\n",
       "      <td>9</td>\n",
       "      <td>KMeans(n_clusters=9, random_state=3)</td>\n",
       "    </tr>\n",
       "    <tr>\n",
       "      <th>24</th>\n",
       "      <td>mnist</td>\n",
       "      <td>phate</td>\n",
       "      <td>2</td>\n",
       "      <td>0.476741</td>\n",
       "      <td>0.630684</td>\n",
       "      <td>0.688539</td>\n",
       "      <td>0.658343</td>\n",
       "      <td>4</td>\n",
       "      <td>9</td>\n",
       "      <td>KMeans(n_clusters=9, random_state=4)</td>\n",
       "    </tr>\n",
       "    <tr>\n",
       "      <th>25</th>\n",
       "      <td>mnist</td>\n",
       "      <td>phate</td>\n",
       "      <td>2</td>\n",
       "      <td>0.473160</td>\n",
       "      <td>0.641817</td>\n",
       "      <td>0.678244</td>\n",
       "      <td>0.659528</td>\n",
       "      <td>0</td>\n",
       "      <td>10</td>\n",
       "      <td>KMeans(n_clusters=10, random_state=0)</td>\n",
       "    </tr>\n",
       "    <tr>\n",
       "      <th>26</th>\n",
       "      <td>mnist</td>\n",
       "      <td>phate</td>\n",
       "      <td>2</td>\n",
       "      <td>0.473167</td>\n",
       "      <td>0.641930</td>\n",
       "      <td>0.678402</td>\n",
       "      <td>0.659662</td>\n",
       "      <td>1</td>\n",
       "      <td>10</td>\n",
       "      <td>KMeans(n_clusters=10, random_state=1)</td>\n",
       "    </tr>\n",
       "    <tr>\n",
       "      <th>27</th>\n",
       "      <td>mnist</td>\n",
       "      <td>phate</td>\n",
       "      <td>2</td>\n",
       "      <td>0.473160</td>\n",
       "      <td>0.642148</td>\n",
       "      <td>0.678568</td>\n",
       "      <td>0.659856</td>\n",
       "      <td>2</td>\n",
       "      <td>10</td>\n",
       "      <td>KMeans(n_clusters=10, random_state=2)</td>\n",
       "    </tr>\n",
       "    <tr>\n",
       "      <th>28</th>\n",
       "      <td>mnist</td>\n",
       "      <td>phate</td>\n",
       "      <td>2</td>\n",
       "      <td>0.473100</td>\n",
       "      <td>0.641915</td>\n",
       "      <td>0.678231</td>\n",
       "      <td>0.659573</td>\n",
       "      <td>3</td>\n",
       "      <td>10</td>\n",
       "      <td>KMeans(n_clusters=10, random_state=3)</td>\n",
       "    </tr>\n",
       "    <tr>\n",
       "      <th>29</th>\n",
       "      <td>mnist</td>\n",
       "      <td>phate</td>\n",
       "      <td>2</td>\n",
       "      <td>0.473136</td>\n",
       "      <td>0.641826</td>\n",
       "      <td>0.678139</td>\n",
       "      <td>0.659483</td>\n",
       "      <td>4</td>\n",
       "      <td>10</td>\n",
       "      <td>KMeans(n_clusters=10, random_state=4)</td>\n",
       "    </tr>\n",
       "    <tr>\n",
       "      <th>30</th>\n",
       "      <td>mnist</td>\n",
       "      <td>phate</td>\n",
       "      <td>2</td>\n",
       "      <td>0.455551</td>\n",
       "      <td>0.664887</td>\n",
       "      <td>0.658750</td>\n",
       "      <td>0.661804</td>\n",
       "      <td>0</td>\n",
       "      <td>11</td>\n",
       "      <td>KMeans(n_clusters=11, random_state=0)</td>\n",
       "    </tr>\n",
       "    <tr>\n",
       "      <th>31</th>\n",
       "      <td>mnist</td>\n",
       "      <td>phate</td>\n",
       "      <td>2</td>\n",
       "      <td>0.455384</td>\n",
       "      <td>0.664911</td>\n",
       "      <td>0.658741</td>\n",
       "      <td>0.661812</td>\n",
       "      <td>1</td>\n",
       "      <td>11</td>\n",
       "      <td>KMeans(n_clusters=11, random_state=1)</td>\n",
       "    </tr>\n",
       "    <tr>\n",
       "      <th>32</th>\n",
       "      <td>mnist</td>\n",
       "      <td>phate</td>\n",
       "      <td>2</td>\n",
       "      <td>0.455224</td>\n",
       "      <td>0.665022</td>\n",
       "      <td>0.658779</td>\n",
       "      <td>0.661886</td>\n",
       "      <td>2</td>\n",
       "      <td>11</td>\n",
       "      <td>KMeans(n_clusters=11, random_state=2)</td>\n",
       "    </tr>\n",
       "    <tr>\n",
       "      <th>33</th>\n",
       "      <td>mnist</td>\n",
       "      <td>phate</td>\n",
       "      <td>2</td>\n",
       "      <td>0.455153</td>\n",
       "      <td>0.665173</td>\n",
       "      <td>0.659026</td>\n",
       "      <td>0.662085</td>\n",
       "      <td>3</td>\n",
       "      <td>11</td>\n",
       "      <td>KMeans(n_clusters=11, random_state=3)</td>\n",
       "    </tr>\n",
       "    <tr>\n",
       "      <th>34</th>\n",
       "      <td>mnist</td>\n",
       "      <td>phate</td>\n",
       "      <td>2</td>\n",
       "      <td>0.455119</td>\n",
       "      <td>0.665079</td>\n",
       "      <td>0.658743</td>\n",
       "      <td>0.661896</td>\n",
       "      <td>4</td>\n",
       "      <td>11</td>\n",
       "      <td>KMeans(n_clusters=11, random_state=4)</td>\n",
       "    </tr>\n",
       "    <tr>\n",
       "      <th>35</th>\n",
       "      <td>mnist</td>\n",
       "      <td>phate</td>\n",
       "      <td>2</td>\n",
       "      <td>0.447400</td>\n",
       "      <td>0.664746</td>\n",
       "      <td>0.645297</td>\n",
       "      <td>0.654877</td>\n",
       "      <td>0</td>\n",
       "      <td>12</td>\n",
       "      <td>KMeans(n_clusters=12, random_state=0)</td>\n",
       "    </tr>\n",
       "    <tr>\n",
       "      <th>36</th>\n",
       "      <td>mnist</td>\n",
       "      <td>phate</td>\n",
       "      <td>2</td>\n",
       "      <td>0.446184</td>\n",
       "      <td>0.670237</td>\n",
       "      <td>0.630749</td>\n",
       "      <td>0.649894</td>\n",
       "      <td>1</td>\n",
       "      <td>12</td>\n",
       "      <td>KMeans(n_clusters=12, random_state=1)</td>\n",
       "    </tr>\n",
       "    <tr>\n",
       "      <th>37</th>\n",
       "      <td>mnist</td>\n",
       "      <td>phate</td>\n",
       "      <td>2</td>\n",
       "      <td>0.447542</td>\n",
       "      <td>0.666939</td>\n",
       "      <td>0.630985</td>\n",
       "      <td>0.648464</td>\n",
       "      <td>2</td>\n",
       "      <td>12</td>\n",
       "      <td>KMeans(n_clusters=12, random_state=2)</td>\n",
       "    </tr>\n",
       "    <tr>\n",
       "      <th>38</th>\n",
       "      <td>mnist</td>\n",
       "      <td>phate</td>\n",
       "      <td>2</td>\n",
       "      <td>0.446263</td>\n",
       "      <td>0.670265</td>\n",
       "      <td>0.630740</td>\n",
       "      <td>0.649902</td>\n",
       "      <td>3</td>\n",
       "      <td>12</td>\n",
       "      <td>KMeans(n_clusters=12, random_state=3)</td>\n",
       "    </tr>\n",
       "    <tr>\n",
       "      <th>39</th>\n",
       "      <td>mnist</td>\n",
       "      <td>phate</td>\n",
       "      <td>2</td>\n",
       "      <td>0.447420</td>\n",
       "      <td>0.667010</td>\n",
       "      <td>0.630983</td>\n",
       "      <td>0.648496</td>\n",
       "      <td>4</td>\n",
       "      <td>12</td>\n",
       "      <td>KMeans(n_clusters=12, random_state=4)</td>\n",
       "    </tr>\n",
       "    <tr>\n",
       "      <th>40</th>\n",
       "      <td>mnist</td>\n",
       "      <td>phate</td>\n",
       "      <td>2</td>\n",
       "      <td>0.439319</td>\n",
       "      <td>0.670555</td>\n",
       "      <td>0.619229</td>\n",
       "      <td>0.643871</td>\n",
       "      <td>0</td>\n",
       "      <td>13</td>\n",
       "      <td>KMeans(n_clusters=13, random_state=0)</td>\n",
       "    </tr>\n",
       "    <tr>\n",
       "      <th>41</th>\n",
       "      <td>mnist</td>\n",
       "      <td>phate</td>\n",
       "      <td>2</td>\n",
       "      <td>0.439321</td>\n",
       "      <td>0.670336</td>\n",
       "      <td>0.619091</td>\n",
       "      <td>0.643695</td>\n",
       "      <td>1</td>\n",
       "      <td>13</td>\n",
       "      <td>KMeans(n_clusters=13, random_state=1)</td>\n",
       "    </tr>\n",
       "    <tr>\n",
       "      <th>42</th>\n",
       "      <td>mnist</td>\n",
       "      <td>phate</td>\n",
       "      <td>2</td>\n",
       "      <td>0.439422</td>\n",
       "      <td>0.670496</td>\n",
       "      <td>0.619228</td>\n",
       "      <td>0.643843</td>\n",
       "      <td>2</td>\n",
       "      <td>13</td>\n",
       "      <td>KMeans(n_clusters=13, random_state=2)</td>\n",
       "    </tr>\n",
       "    <tr>\n",
       "      <th>43</th>\n",
       "      <td>mnist</td>\n",
       "      <td>phate</td>\n",
       "      <td>2</td>\n",
       "      <td>0.439112</td>\n",
       "      <td>0.670425</td>\n",
       "      <td>0.619191</td>\n",
       "      <td>0.643791</td>\n",
       "      <td>3</td>\n",
       "      <td>13</td>\n",
       "      <td>KMeans(n_clusters=13, random_state=3)</td>\n",
       "    </tr>\n",
       "    <tr>\n",
       "      <th>44</th>\n",
       "      <td>mnist</td>\n",
       "      <td>phate</td>\n",
       "      <td>2</td>\n",
       "      <td>0.439304</td>\n",
       "      <td>0.670459</td>\n",
       "      <td>0.619168</td>\n",
       "      <td>0.643793</td>\n",
       "      <td>4</td>\n",
       "      <td>13</td>\n",
       "      <td>KMeans(n_clusters=13, random_state=4)</td>\n",
       "    </tr>\n",
       "    <tr>\n",
       "      <th>45</th>\n",
       "      <td>mnist</td>\n",
       "      <td>phate</td>\n",
       "      <td>2</td>\n",
       "      <td>0.440455</td>\n",
       "      <td>0.675872</td>\n",
       "      <td>0.603384</td>\n",
       "      <td>0.637574</td>\n",
       "      <td>0</td>\n",
       "      <td>14</td>\n",
       "      <td>KMeans(n_clusters=14, random_state=0)</td>\n",
       "    </tr>\n",
       "    <tr>\n",
       "      <th>46</th>\n",
       "      <td>mnist</td>\n",
       "      <td>phate</td>\n",
       "      <td>2</td>\n",
       "      <td>0.440081</td>\n",
       "      <td>0.675445</td>\n",
       "      <td>0.602993</td>\n",
       "      <td>0.637166</td>\n",
       "      <td>1</td>\n",
       "      <td>14</td>\n",
       "      <td>KMeans(n_clusters=14, random_state=1)</td>\n",
       "    </tr>\n",
       "    <tr>\n",
       "      <th>47</th>\n",
       "      <td>mnist</td>\n",
       "      <td>phate</td>\n",
       "      <td>2</td>\n",
       "      <td>0.439693</td>\n",
       "      <td>0.676559</td>\n",
       "      <td>0.604212</td>\n",
       "      <td>0.638342</td>\n",
       "      <td>2</td>\n",
       "      <td>14</td>\n",
       "      <td>KMeans(n_clusters=14, random_state=2)</td>\n",
       "    </tr>\n",
       "    <tr>\n",
       "      <th>48</th>\n",
       "      <td>mnist</td>\n",
       "      <td>phate</td>\n",
       "      <td>2</td>\n",
       "      <td>0.439835</td>\n",
       "      <td>0.676383</td>\n",
       "      <td>0.604071</td>\n",
       "      <td>0.638185</td>\n",
       "      <td>3</td>\n",
       "      <td>14</td>\n",
       "      <td>KMeans(n_clusters=14, random_state=3)</td>\n",
       "    </tr>\n",
       "    <tr>\n",
       "      <th>49</th>\n",
       "      <td>mnist</td>\n",
       "      <td>phate</td>\n",
       "      <td>2</td>\n",
       "      <td>0.439445</td>\n",
       "      <td>0.676765</td>\n",
       "      <td>0.604195</td>\n",
       "      <td>0.638424</td>\n",
       "      <td>4</td>\n",
       "      <td>14</td>\n",
       "      <td>KMeans(n_clusters=14, random_state=4)</td>\n",
       "    </tr>\n",
       "  </tbody>\n",
       "</table>\n",
       "</div>"
      ],
      "text/plain": [
       "   dataset class_ dim  silhouette  homogeneity  completeness  v_measure init_  \\\n",
       "0    mnist  phate   2    0.474208     0.521685      0.800110   0.631574     0   \n",
       "1    mnist  phate   2    0.477703     0.523121      0.805420   0.634278     1   \n",
       "2    mnist  phate   2    0.470268     0.520258      0.794429   0.628755     2   \n",
       "3    mnist  phate   2    0.475848     0.522258      0.802473   0.632729     3   \n",
       "4    mnist  phate   2    0.471142     0.520466      0.795547   0.629257     4   \n",
       "5    mnist  phate   2    0.459886     0.532026      0.717663   0.611056     0   \n",
       "6    mnist  phate   2    0.461965     0.533136      0.720991   0.612994     1   \n",
       "7    mnist  phate   2    0.461626     0.532867      0.720325   0.612575     2   \n",
       "8    mnist  phate   2    0.460497     0.532132      0.718286   0.611352     3   \n",
       "9    mnist  phate   2    0.459241     0.531578      0.716349   0.610285     4   \n",
       "10   mnist  phate   2    0.479027     0.620043      0.748901   0.678407     0   \n",
       "11   mnist  phate   2    0.478995     0.620016      0.748945   0.678409     1   \n",
       "12   mnist  phate   2    0.479020     0.619996      0.748863   0.678363     2   \n",
       "13   mnist  phate   2    0.479025     0.620034      0.748928   0.678413     3   \n",
       "14   mnist  phate   2    0.479004     0.619976      0.748846   0.678345     4   \n",
       "15   mnist  phate   2    0.497233     0.626498      0.725638   0.672433     0   \n",
       "16   mnist  phate   2    0.497212     0.626630      0.725733   0.672550     1   \n",
       "17   mnist  phate   2    0.497290     0.626821      0.726011   0.672780     2   \n",
       "18   mnist  phate   2    0.497098     0.626663      0.725680   0.672547     3   \n",
       "19   mnist  phate   2    0.497078     0.626760      0.725763   0.672638     4   \n",
       "20   mnist  phate   2    0.476766     0.630658      0.688553   0.658335     0   \n",
       "21   mnist  phate   2    0.476788     0.630629      0.688526   0.658307     1   \n",
       "22   mnist  phate   2    0.476782     0.630770      0.688673   0.658451     2   \n",
       "23   mnist  phate   2    0.476782     0.630623      0.688517   0.658299     3   \n",
       "24   mnist  phate   2    0.476741     0.630684      0.688539   0.658343     4   \n",
       "25   mnist  phate   2    0.473160     0.641817      0.678244   0.659528     0   \n",
       "26   mnist  phate   2    0.473167     0.641930      0.678402   0.659662     1   \n",
       "27   mnist  phate   2    0.473160     0.642148      0.678568   0.659856     2   \n",
       "28   mnist  phate   2    0.473100     0.641915      0.678231   0.659573     3   \n",
       "29   mnist  phate   2    0.473136     0.641826      0.678139   0.659483     4   \n",
       "30   mnist  phate   2    0.455551     0.664887      0.658750   0.661804     0   \n",
       "31   mnist  phate   2    0.455384     0.664911      0.658741   0.661812     1   \n",
       "32   mnist  phate   2    0.455224     0.665022      0.658779   0.661886     2   \n",
       "33   mnist  phate   2    0.455153     0.665173      0.659026   0.662085     3   \n",
       "34   mnist  phate   2    0.455119     0.665079      0.658743   0.661896     4   \n",
       "35   mnist  phate   2    0.447400     0.664746      0.645297   0.654877     0   \n",
       "36   mnist  phate   2    0.446184     0.670237      0.630749   0.649894     1   \n",
       "37   mnist  phate   2    0.447542     0.666939      0.630985   0.648464     2   \n",
       "38   mnist  phate   2    0.446263     0.670265      0.630740   0.649902     3   \n",
       "39   mnist  phate   2    0.447420     0.667010      0.630983   0.648496     4   \n",
       "40   mnist  phate   2    0.439319     0.670555      0.619229   0.643871     0   \n",
       "41   mnist  phate   2    0.439321     0.670336      0.619091   0.643695     1   \n",
       "42   mnist  phate   2    0.439422     0.670496      0.619228   0.643843     2   \n",
       "43   mnist  phate   2    0.439112     0.670425      0.619191   0.643791     3   \n",
       "44   mnist  phate   2    0.439304     0.670459      0.619168   0.643793     4   \n",
       "45   mnist  phate   2    0.440455     0.675872      0.603384   0.637574     0   \n",
       "46   mnist  phate   2    0.440081     0.675445      0.602993   0.637166     1   \n",
       "47   mnist  phate   2    0.439693     0.676559      0.604212   0.638342     2   \n",
       "48   mnist  phate   2    0.439835     0.676383      0.604071   0.638185     3   \n",
       "49   mnist  phate   2    0.439445     0.676765      0.604195   0.638424     4   \n",
       "\n",
       "   n_clusters                                  model  \n",
       "0           5   KMeans(n_clusters=5, random_state=0)  \n",
       "1           5   KMeans(n_clusters=5, random_state=1)  \n",
       "2           5   KMeans(n_clusters=5, random_state=2)  \n",
       "3           5   KMeans(n_clusters=5, random_state=3)  \n",
       "4           5   KMeans(n_clusters=5, random_state=4)  \n",
       "5           6   KMeans(n_clusters=6, random_state=0)  \n",
       "6           6   KMeans(n_clusters=6, random_state=1)  \n",
       "7           6   KMeans(n_clusters=6, random_state=2)  \n",
       "8           6   KMeans(n_clusters=6, random_state=3)  \n",
       "9           6   KMeans(n_clusters=6, random_state=4)  \n",
       "10          7   KMeans(n_clusters=7, random_state=0)  \n",
       "11          7   KMeans(n_clusters=7, random_state=1)  \n",
       "12          7   KMeans(n_clusters=7, random_state=2)  \n",
       "13          7   KMeans(n_clusters=7, random_state=3)  \n",
       "14          7   KMeans(n_clusters=7, random_state=4)  \n",
       "15          8                 KMeans(random_state=0)  \n",
       "16          8                 KMeans(random_state=1)  \n",
       "17          8                 KMeans(random_state=2)  \n",
       "18          8                 KMeans(random_state=3)  \n",
       "19          8                 KMeans(random_state=4)  \n",
       "20          9   KMeans(n_clusters=9, random_state=0)  \n",
       "21          9   KMeans(n_clusters=9, random_state=1)  \n",
       "22          9   KMeans(n_clusters=9, random_state=2)  \n",
       "23          9   KMeans(n_clusters=9, random_state=3)  \n",
       "24          9   KMeans(n_clusters=9, random_state=4)  \n",
       "25         10  KMeans(n_clusters=10, random_state=0)  \n",
       "26         10  KMeans(n_clusters=10, random_state=1)  \n",
       "27         10  KMeans(n_clusters=10, random_state=2)  \n",
       "28         10  KMeans(n_clusters=10, random_state=3)  \n",
       "29         10  KMeans(n_clusters=10, random_state=4)  \n",
       "30         11  KMeans(n_clusters=11, random_state=0)  \n",
       "31         11  KMeans(n_clusters=11, random_state=1)  \n",
       "32         11  KMeans(n_clusters=11, random_state=2)  \n",
       "33         11  KMeans(n_clusters=11, random_state=3)  \n",
       "34         11  KMeans(n_clusters=11, random_state=4)  \n",
       "35         12  KMeans(n_clusters=12, random_state=0)  \n",
       "36         12  KMeans(n_clusters=12, random_state=1)  \n",
       "37         12  KMeans(n_clusters=12, random_state=2)  \n",
       "38         12  KMeans(n_clusters=12, random_state=3)  \n",
       "39         12  KMeans(n_clusters=12, random_state=4)  \n",
       "40         13  KMeans(n_clusters=13, random_state=0)  \n",
       "41         13  KMeans(n_clusters=13, random_state=1)  \n",
       "42         13  KMeans(n_clusters=13, random_state=2)  \n",
       "43         13  KMeans(n_clusters=13, random_state=3)  \n",
       "44         13  KMeans(n_clusters=13, random_state=4)  \n",
       "45         14  KMeans(n_clusters=14, random_state=0)  \n",
       "46         14  KMeans(n_clusters=14, random_state=1)  \n",
       "47         14  KMeans(n_clusters=14, random_state=2)  \n",
       "48         14  KMeans(n_clusters=14, random_state=3)  \n",
       "49         14  KMeans(n_clusters=14, random_state=4)  "
      ]
     },
     "execution_count": 40,
     "metadata": {},
     "output_type": "execute_result"
    }
   ],
   "source": [
    "get_cluster_metrics(projection_df.iloc[0], n_init=5)"
   ]
  },
  {
   "cell_type": "code",
   "execution_count": null,
   "metadata": {},
   "outputs": [],
   "source": []
  },
  {
   "cell_type": "code",
   "execution_count": null,
   "metadata": {},
   "outputs": [],
   "source": []
  },
  {
   "cell_type": "code",
   "execution_count": null,
   "metadata": {},
   "outputs": [],
   "source": []
  },
  {
   "cell_type": "code",
   "execution_count": null,
   "metadata": {},
   "outputs": [],
   "source": []
  },
  {
   "cell_type": "code",
   "execution_count": null,
   "metadata": {},
   "outputs": [],
   "source": []
  },
  {
   "cell_type": "code",
   "execution_count": null,
   "metadata": {},
   "outputs": [],
   "source": []
  },
  {
   "cell_type": "code",
   "execution_count": null,
   "metadata": {},
   "outputs": [],
   "source": []
  },
  {
   "cell_type": "code",
   "execution_count": null,
   "metadata": {},
   "outputs": [],
   "source": []
  }
 ],
 "metadata": {
  "kernelspec": {
   "display_name": "Python [conda env:tfumap]",
   "language": "python",
   "name": "conda-env-tfumap-py"
  },
  "language_info": {
   "codemirror_mode": {
    "name": "ipython",
    "version": 3
   },
   "file_extension": ".py",
   "mimetype": "text/x-python",
   "name": "python",
   "nbconvert_exporter": "python",
   "pygments_lexer": "ipython3",
   "version": "3.7.9"
  }
 },
 "nbformat": 4,
 "nbformat_minor": 4
}
