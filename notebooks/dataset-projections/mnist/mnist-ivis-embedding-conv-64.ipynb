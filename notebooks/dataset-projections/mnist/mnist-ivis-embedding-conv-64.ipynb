{
 "cells": [
  {
   "cell_type": "code",
   "execution_count": 1,
   "metadata": {
    "ExecuteTime": {
     "end_time": "2021-01-15T04:44:46.922374Z",
     "start_time": "2021-01-15T04:44:46.916417Z"
    }
   },
   "outputs": [],
   "source": [
    "dataset = 'mnist'\n",
    "algorithm = 'ivis'\n",
    "n_components = 64"
   ]
  },
  {
   "cell_type": "code",
   "execution_count": 2,
   "metadata": {
    "ExecuteTime": {
     "end_time": "2021-01-15T04:44:46.950033Z",
     "start_time": "2021-01-15T04:44:46.924519Z"
    }
   },
   "outputs": [],
   "source": [
    "# reload packages\n",
    "%load_ext autoreload\n",
    "%autoreload 2"
   ]
  },
  {
   "cell_type": "markdown",
   "metadata": {},
   "source": [
    "### Choose GPU (this may not be needed on your computer)"
   ]
  },
  {
   "cell_type": "code",
   "execution_count": 3,
   "metadata": {
    "ExecuteTime": {
     "end_time": "2021-01-15T04:44:46.993962Z",
     "start_time": "2021-01-15T04:44:46.952116Z"
    }
   },
   "outputs": [
    {
     "name": "stdout",
     "output_type": "stream",
     "text": [
      "env: CUDA_DEVICE_ORDER=PCI_BUS_ID\n",
      "env: CUDA_VISIBLE_DEVICES=1\n"
     ]
    }
   ],
   "source": [
    "%env CUDA_DEVICE_ORDER=PCI_BUS_ID\n",
    "%env CUDA_VISIBLE_DEVICES=1"
   ]
  },
  {
   "cell_type": "code",
   "execution_count": 4,
   "metadata": {
    "ExecuteTime": {
     "end_time": "2021-01-15T04:44:50.535144Z",
     "start_time": "2021-01-15T04:44:46.997405Z"
    }
   },
   "outputs": [],
   "source": [
    "import tensorflow as tf\n",
    "gpus = tf.config.experimental.list_physical_devices('GPU')\n",
    "for gpu in gpus:\n",
    "  tf.config.experimental.set_memory_growth(gpu, True)"
   ]
  },
  {
   "cell_type": "markdown",
   "metadata": {},
   "source": [
    "### load packages"
   ]
  },
  {
   "cell_type": "code",
   "execution_count": 5,
   "metadata": {
    "ExecuteTime": {
     "end_time": "2021-01-15T04:45:30.929773Z",
     "start_time": "2021-01-15T04:44:50.537804Z"
    }
   },
   "outputs": [
    {
     "name": "stderr",
     "output_type": "stream",
     "text": [
      "/mnt/cube/tsainbur/Projects/github_repos/umap_tf_networks/tfumap/umap.py:7: TqdmExperimentalWarning: Using `tqdm.autonotebook.tqdm` in notebook mode. Use `tqdm.tqdm` instead to force console mode (e.g. in jupyter console)\n",
      "  from tqdm.autonotebook import tqdm\n"
     ]
    }
   ],
   "source": [
    "from tfumap.umap import tfUMAP"
   ]
  },
  {
   "cell_type": "code",
   "execution_count": 6,
   "metadata": {
    "ExecuteTime": {
     "end_time": "2021-01-15T04:45:31.634806Z",
     "start_time": "2021-01-15T04:45:30.932630Z"
    }
   },
   "outputs": [],
   "source": [
    "import tensorflow as tf\n",
    "import numpy as np\n",
    "import matplotlib.pyplot as plt\n",
    "from tqdm.autonotebook import tqdm\n",
    "import umap\n",
    "import pandas as pd"
   ]
  },
  {
   "cell_type": "markdown",
   "metadata": {},
   "source": [
    "### Load dataset"
   ]
  },
  {
   "cell_type": "code",
   "execution_count": 7,
   "metadata": {
    "ExecuteTime": {
     "end_time": "2021-01-15T04:45:31.706828Z",
     "start_time": "2021-01-15T04:45:31.636620Z"
    }
   },
   "outputs": [],
   "source": [
    "from tensorflow.keras.datasets import mnist"
   ]
  },
  {
   "cell_type": "code",
   "execution_count": 8,
   "metadata": {
    "ExecuteTime": {
     "end_time": "2021-01-15T04:45:33.955936Z",
     "start_time": "2021-01-15T04:45:31.708297Z"
    }
   },
   "outputs": [
    {
     "name": "stdout",
     "output_type": "stream",
     "text": [
      "50000 10000 10000\n"
     ]
    }
   ],
   "source": [
    "# load dataset\n",
    "(train_images, Y_train), (test_images, Y_test) = mnist.load_data()\n",
    "X_train = (train_images/255.).astype('float32')\n",
    "X_test = (test_images/255.).astype('float32')\n",
    "X_train = X_train.reshape((len(X_train), np.product(np.shape(X_train)[1:])))\n",
    "X_test = X_test.reshape((len(X_test), np.product(np.shape(X_test)[1:])))\n",
    "\n",
    "# subset a validation set\n",
    "n_valid = 10000\n",
    "X_valid = X_train[-n_valid:]\n",
    "Y_valid = Y_train[-n_valid:]\n",
    "X_train = X_train[:-n_valid]\n",
    "Y_train = Y_train[:-n_valid]\n",
    "\n",
    "# flatten X\n",
    "X_train_flat = X_train.reshape((len(X_train), np.product(np.shape(X_train)[1:])))\n",
    "X_test_flat = X_test.reshape((len(X_test), np.product(np.shape(X_test)[1:])))\n",
    "X_valid_flat= X_valid.reshape((len(X_valid), np.product(np.shape(X_valid)[1:])))\n",
    "print(len(X_train), len(X_valid), len(X_test))"
   ]
  },
  {
   "cell_type": "markdown",
   "metadata": {},
   "source": [
    "### Create model and train"
   ]
  },
  {
   "cell_type": "code",
   "execution_count": 9,
   "metadata": {
    "ExecuteTime": {
     "end_time": "2021-01-15T04:45:34.253737Z",
     "start_time": "2021-01-15T04:45:33.958494Z"
    }
   },
   "outputs": [],
   "source": [
    "from ivis import Ivis\n",
    "from sklearn.preprocessing import MinMaxScaler\n",
    "from sklearn import datasets"
   ]
  },
  {
   "cell_type": "code",
   "execution_count": 10,
   "metadata": {
    "ExecuteTime": {
     "end_time": "2021-01-15T04:45:34.339345Z",
     "start_time": "2021-01-15T04:45:34.255057Z"
    }
   },
   "outputs": [],
   "source": [
    "dims = (28,28,1)"
   ]
  },
  {
   "cell_type": "code",
   "execution_count": 11,
   "metadata": {
    "ExecuteTime": {
     "end_time": "2021-01-15T04:45:34.486221Z",
     "start_time": "2021-01-15T04:45:34.348640Z"
    }
   },
   "outputs": [],
   "source": [
    "def create_model():\n",
    "    \"\"\"model = tf.keras.models.Sequential()\n",
    "    model.add(tf.keras.layers.BatchNormalization(input_shape=x_train.shape[1:]))\n",
    "    model.add(tf.keras.layers.Conv2D(64, (5, 5), padding='same', activation='elu'))\n",
    "    model.add(tf.keras.layers.MaxPooling2D(pool_size=(2, 2), strides=(2,2)))\n",
    "    model.add(tf.keras.layers.Dropout(0.25))\n",
    "\n",
    "    model.add(tf.keras.layers.BatchNormalization(input_shape=x_train.shape[1:]))\n",
    "    model.add(tf.keras.layers.Conv2D(128, (5, 5), padding='same', activation='elu'))\n",
    "    model.add(tf.keras.layers.MaxPooling2D(pool_size=(2, 2)))\n",
    "    model.add(tf.keras.layers.Dropout(0.25))\n",
    "\n",
    "    model.add(tf.keras.layers.BatchNormalization(input_shape=x_train.shape[1:]))\n",
    "    model.add(tf.keras.layers.Conv2D(256, (5, 5), padding='same', activation='elu'))\n",
    "    model.add(tf.keras.layers.MaxPooling2D(pool_size=(2, 2), strides=(2,2)))\n",
    "\n",
    "    model.add(tf.keras.layers.Flatten())\n",
    "    \"\"\"\n",
    "    model = tf.keras.Sequential([\n",
    "    tf.keras.layers.InputLayer(input_shape=dims),\n",
    "    tf.keras.layers.Conv2D(\n",
    "        filters=64, kernel_size=3, strides=(2, 2), activation=\"relu\"\n",
    "    ),\n",
    "    tf.keras.layers.Conv2D(\n",
    "        filters=128, kernel_size=3, strides=(2, 2), activation=\"relu\"\n",
    "    ),\n",
    "\n",
    "    tf.keras.layers.Flatten(),\n",
    "    tf.keras.layers.Dense(units=512, activation=\"relu\"),\n",
    "    tf.keras.layers.Dense(units=512, activation=\"relu\"),\n",
    "    #tf.keras.layers.Dense(units=n_components),\n",
    "    ])\n",
    "    return model"
   ]
  },
  {
   "cell_type": "code",
   "execution_count": 12,
   "metadata": {
    "ExecuteTime": {
     "end_time": "2021-01-15T04:45:38.006952Z",
     "start_time": "2021-01-15T04:45:34.488100Z"
    }
   },
   "outputs": [],
   "source": [
    "base_model = create_model()"
   ]
  },
  {
   "cell_type": "code",
   "execution_count": 13,
   "metadata": {
    "ExecuteTime": {
     "end_time": "2021-01-15T04:45:38.196134Z",
     "start_time": "2021-01-15T04:45:38.009026Z"
    }
   },
   "outputs": [
    {
     "data": {
      "text/plain": [
       "(50000, 784)"
      ]
     },
     "execution_count": 13,
     "metadata": {},
     "output_type": "execute_result"
    }
   ],
   "source": [
    "X_train.shape"
   ]
  },
  {
   "cell_type": "code",
   "execution_count": 14,
   "metadata": {
    "ExecuteTime": {
     "end_time": "2021-01-15T04:45:39.600955Z",
     "start_time": "2021-01-15T04:45:38.206022Z"
    }
   },
   "outputs": [],
   "source": [
    "x_scaler = MinMaxScaler()\n",
    "X_scaled = x_scaler.fit_transform(X_train).reshape([len(X_train)] + list(dims))"
   ]
  },
  {
   "cell_type": "code",
   "execution_count": 15,
   "metadata": {
    "ExecuteTime": {
     "end_time": "2021-01-15T04:45:39.791452Z",
     "start_time": "2021-01-15T04:45:39.612387Z"
    }
   },
   "outputs": [],
   "source": [
    "# Set ivis parameters\n",
    "model = Ivis(model=base_model, embedding_dims=n_components)"
   ]
  },
  {
   "cell_type": "code",
   "execution_count": 16,
   "metadata": {
    "ExecuteTime": {
     "end_time": "2021-01-15T04:52:04.915513Z",
     "start_time": "2021-01-15T04:45:39.802752Z"
    }
   },
   "outputs": [
    {
     "name": "stderr",
     "output_type": "stream",
     "text": [
      "\r",
      "  0%|          | 0/50000 [00:00<?, ?it/s]"
     ]
    },
    {
     "name": "stdout",
     "output_type": "stream",
     "text": [
      "Building KNN index\n",
      "Flattening multidimensional input before building KNN index using Annoy\n"
     ]
    },
    {
     "name": "stderr",
     "output_type": "stream",
     "text": [
      "100%|██████████| 50000/50000 [00:31<00:00, 1563.89it/s]\n"
     ]
    },
    {
     "name": "stdout",
     "output_type": "stream",
     "text": [
      "Extracting KNN neighbours\n",
      "Flattening data before retrieving KNN from index\n"
     ]
    },
    {
     "name": "stderr",
     "output_type": "stream",
     "text": [
      "100%|█████████▉| 49998/50000 [00:25<00:00, 1944.24it/s]\n"
     ]
    },
    {
     "name": "stdout",
     "output_type": "stream",
     "text": [
      "Training neural network\n",
      "Epoch 1/1000\n",
      "391/391 [==============================] - 9s 23ms/step - loss: 0.0340\n",
      "Epoch 2/1000\n",
      "391/391 [==============================] - 8s 19ms/step - loss: 0.0197\n",
      "Epoch 3/1000\n",
      "391/391 [==============================] - 7s 19ms/step - loss: 0.0189\n",
      "Epoch 4/1000\n",
      "391/391 [==============================] - 8s 20ms/step - loss: 0.0177\n",
      "Epoch 5/1000\n",
      "391/391 [==============================] - 8s 21ms/step - loss: 0.0158\n",
      "Epoch 6/1000\n",
      "391/391 [==============================] - 7s 18ms/step - loss: 0.0152\n",
      "Epoch 7/1000\n",
      "391/391 [==============================] - 6s 15ms/step - loss: 0.0153\n",
      "Epoch 8/1000\n",
      "391/391 [==============================] - 7s 18ms/step - loss: 0.0150\n",
      "Epoch 9/1000\n",
      "391/391 [==============================] - 7s 17ms/step - loss: 0.0155\n",
      "Epoch 10/1000\n",
      "391/391 [==============================] - 6s 16ms/step - loss: 0.0137\n",
      "Epoch 11/1000\n",
      "391/391 [==============================] - 7s 18ms/step - loss: 0.0133\n",
      "Epoch 12/1000\n",
      "391/391 [==============================] - 7s 18ms/step - loss: 0.0141\n",
      "Epoch 13/1000\n",
      "391/391 [==============================] - 7s 19ms/step - loss: 0.0134\n",
      "Epoch 14/1000\n",
      "391/391 [==============================] - 5s 14ms/step - loss: 0.0133\n",
      "Epoch 15/1000\n",
      "391/391 [==============================] - 6s 17ms/step - loss: 0.0131\n",
      "Epoch 16/1000\n",
      "391/391 [==============================] - 6s 16ms/step - loss: 0.0125\n",
      "Epoch 17/1000\n",
      "391/391 [==============================] - 6s 14ms/step - loss: 0.0119\n",
      "Epoch 18/1000\n",
      "391/391 [==============================] - 6s 16ms/step - loss: 0.0124\n",
      "Epoch 19/1000\n",
      "391/391 [==============================] - 6s 15ms/step - loss: 0.0122\n",
      "Epoch 20/1000\n",
      "391/391 [==============================] - 6s 14ms/step - loss: 0.0117\n",
      "Epoch 21/1000\n",
      "391/391 [==============================] - 5s 13ms/step - loss: 0.0117\n",
      "Epoch 22/1000\n",
      "391/391 [==============================] - 6s 15ms/step - loss: 0.0120\n",
      "Epoch 23/1000\n",
      "391/391 [==============================] - 6s 16ms/step - loss: 0.0117\n",
      "Epoch 24/1000\n",
      "391/391 [==============================] - 4s 11ms/step - loss: 0.0115\n",
      "Epoch 25/1000\n",
      "391/391 [==============================] - 5s 12ms/step - loss: 0.0119\n",
      "Epoch 26/1000\n",
      "391/391 [==============================] - 5s 13ms/step - loss: 0.0124\n",
      "Epoch 27/1000\n",
      "391/391 [==============================] - 4s 11ms/step - loss: 0.0116\n",
      "Epoch 28/1000\n",
      "391/391 [==============================] - 5s 12ms/step - loss: 0.0111\n",
      "Epoch 29/1000\n",
      "391/391 [==============================] - 5s 14ms/step - loss: 0.0112\n",
      "Epoch 30/1000\n",
      "391/391 [==============================] - 4s 10ms/step - loss: 0.0108\n",
      "Epoch 31/1000\n",
      "391/391 [==============================] - 4s 11ms/step - loss: 0.0112\n",
      "Epoch 32/1000\n",
      "391/391 [==============================] - 4s 11ms/step - loss: 0.0104\n",
      "Epoch 33/1000\n",
      "391/391 [==============================] - 5s 12ms/step - loss: 0.0098\n",
      "Epoch 34/1000\n",
      "391/391 [==============================] - 5s 12ms/step - loss: 0.0101\n",
      "Epoch 35/1000\n",
      "391/391 [==============================] - 5s 14ms/step - loss: 0.0112\n",
      "Epoch 36/1000\n",
      "391/391 [==============================] - 5s 14ms/step - loss: 0.0115\n",
      "Epoch 37/1000\n",
      "391/391 [==============================] - 5s 12ms/step - loss: 0.0105\n",
      "Epoch 38/1000\n",
      "391/391 [==============================] - 5s 13ms/step - loss: 0.0107\n",
      "Epoch 39/1000\n",
      "391/391 [==============================] - 5s 13ms/step - loss: 0.0105\n",
      "Epoch 40/1000\n",
      "391/391 [==============================] - 5s 13ms/step - loss: 0.0108\n",
      "Epoch 41/1000\n",
      "391/391 [==============================] - 5s 13ms/step - loss: 0.0106\n",
      "Epoch 42/1000\n",
      "391/391 [==============================] - 5s 12ms/step - loss: 0.0109\n",
      "Epoch 43/1000\n",
      "391/391 [==============================] - 4s 10ms/step - loss: 0.0106\n",
      "Epoch 44/1000\n",
      "391/391 [==============================] - 4s 11ms/step - loss: 0.0101\n",
      "Epoch 45/1000\n",
      "391/391 [==============================] - 4s 11ms/step - loss: 0.0101\n",
      "Epoch 46/1000\n",
      "391/391 [==============================] - 4s 11ms/step - loss: 0.0107\n",
      "Epoch 47/1000\n",
      "391/391 [==============================] - 4s 11ms/step - loss: 0.0107\n",
      "Epoch 48/1000\n",
      "391/391 [==============================] - 5s 12ms/step - loss: 0.0105\n",
      "Epoch 49/1000\n",
      "391/391 [==============================] - 5s 14ms/step - loss: 0.0106\n",
      "Epoch 50/1000\n",
      "391/391 [==============================] - 5s 12ms/step - loss: 0.0111\n",
      "Epoch 51/1000\n",
      "391/391 [==============================] - 6s 14ms/step - loss: 0.0103\n",
      "Epoch 52/1000\n",
      "391/391 [==============================] - 5s 12ms/step - loss: 0.0102\n",
      "Epoch 53/1000\n",
      "391/391 [==============================] - 5s 13ms/step - loss: 0.0101\n",
      "391/391 [==============================] - 2s 4ms/step\n"
     ]
    }
   ],
   "source": [
    "# Generate embeddings\n",
    "embeddings =z = model.fit_transform(X_scaled)"
   ]
  },
  {
   "cell_type": "markdown",
   "metadata": {},
   "source": [
    "### Plot model output"
   ]
  },
  {
   "cell_type": "code",
   "execution_count": 17,
   "metadata": {
    "ExecuteTime": {
     "end_time": "2021-01-15T04:52:08.417595Z",
     "start_time": "2021-01-15T04:52:04.919597Z"
    }
   },
   "outputs": [
    {
     "data": {
      "image/png": "[encoded data removed]",
      "text/plain": [
       "<Figure size 576x576 with 2 Axes>"
      ]
     },
     "metadata": {
      "needs_background": "light"
     },
     "output_type": "display_data"
    }
   ],
   "source": [
    "fig, ax = plt.subplots( figsize=(8, 8))\n",
    "sc = ax.scatter(\n",
    "    z[:, 0],\n",
    "    z[:, 1],\n",
    "    c=Y_train.astype(int)[:len(z)],\n",
    "    cmap=\"tab10\",\n",
    "    s=0.1,\n",
    "    alpha=0.5,\n",
    "    rasterized=True,\n",
    ")\n",
    "ax.axis('equal')\n",
    "ax.set_title(\"UMAP in Tensorflow embedding\", fontsize=20)\n",
    "plt.colorbar(sc, ax=ax);"
   ]
  },
  {
   "cell_type": "markdown",
   "metadata": {},
   "source": [
    "### Save output"
   ]
  },
  {
   "cell_type": "code",
   "execution_count": 18,
   "metadata": {
    "ExecuteTime": {
     "end_time": "2021-01-15T04:52:08.490208Z",
     "start_time": "2021-01-15T04:52:08.418779Z"
    }
   },
   "outputs": [],
   "source": [
    "from tfumap.paths import ensure_dir, MODEL_DIR"
   ]
  },
  {
   "cell_type": "code",
   "execution_count": 19,
   "metadata": {
    "ExecuteTime": {
     "end_time": "2021-01-15T04:52:08.608779Z",
     "start_time": "2021-01-15T04:52:08.491503Z"
    }
   },
   "outputs": [],
   "source": [
    "output_dir = MODEL_DIR/'projections'/ dataset / str(n_components) / algorithm\n",
    "ensure_dir(output_dir)"
   ]
  },
  {
   "cell_type": "code",
   "execution_count": 20,
   "metadata": {
    "ExecuteTime": {
     "end_time": "2021-01-15T04:52:08.672504Z",
     "start_time": "2021-01-15T04:52:08.609973Z"
    }
   },
   "outputs": [],
   "source": [
    "#vae.save(output_dir)"
   ]
  },
  {
   "cell_type": "code",
   "execution_count": 21,
   "metadata": {
    "ExecuteTime": {
     "end_time": "2021-01-15T04:52:09.188213Z",
     "start_time": "2021-01-15T04:52:08.673953Z"
    }
   },
   "outputs": [],
   "source": [
    "model.save_model(output_dir / 'iris.ivis')"
   ]
  },
  {
   "cell_type": "code",
   "execution_count": 22,
   "metadata": {
    "ExecuteTime": {
     "end_time": "2021-01-15T04:52:09.275227Z",
     "start_time": "2021-01-15T04:52:09.189860Z"
    }
   },
   "outputs": [],
   "source": [
    "#loss_df.to_pickle(output_dir / 'loss_df.pickle')"
   ]
  },
  {
   "cell_type": "code",
   "execution_count": 23,
   "metadata": {
    "ExecuteTime": {
     "end_time": "2021-01-15T04:52:09.370151Z",
     "start_time": "2021-01-15T04:52:09.277114Z"
    }
   },
   "outputs": [],
   "source": [
    "np.save(output_dir / 'z.npy', z)"
   ]
  },
  {
   "cell_type": "markdown",
   "metadata": {},
   "source": [
    "### compute metrics "
   ]
  },
  {
   "cell_type": "code",
   "execution_count": 24,
   "metadata": {
    "ExecuteTime": {
     "end_time": "2021-01-15T04:52:09.440312Z",
     "start_time": "2021-01-15T04:52:09.374948Z"
    }
   },
   "outputs": [
    {
     "data": {
      "text/plain": [
       "(10000, 784)"
      ]
     },
     "execution_count": 24,
     "metadata": {},
     "output_type": "execute_result"
    }
   ],
   "source": [
    "X_test.shape"
   ]
  },
  {
   "cell_type": "code",
   "execution_count": 25,
   "metadata": {
    "ExecuteTime": {
     "end_time": "2021-01-15T04:52:09.731077Z",
     "start_time": "2021-01-15T04:52:09.442170Z"
    }
   },
   "outputs": [
    {
     "name": "stdout",
     "output_type": "stream",
     "text": [
      "79/79 [==============================] - 0s 2ms/step\n"
     ]
    }
   ],
   "source": [
    "z_test = model.transform(x_scaler.transform(X_test).reshape([len(X_test)]+ list(dims)))"
   ]
  },
  {
   "cell_type": "markdown",
   "metadata": {},
   "source": [
    "#### silhouette"
   ]
  },
  {
   "cell_type": "code",
   "execution_count": 26,
   "metadata": {
    "ExecuteTime": {
     "end_time": "2021-01-15T04:52:09.911812Z",
     "start_time": "2021-01-15T04:52:09.749063Z"
    }
   },
   "outputs": [],
   "source": [
    "from tfumap.silhouette import silhouette_score_block"
   ]
  },
  {
   "cell_type": "code",
   "execution_count": 27,
   "metadata": {
    "ExecuteTime": {
     "end_time": "2021-01-15T04:52:22.422963Z",
     "start_time": "2021-01-15T04:52:09.914416Z"
    }
   },
   "outputs": [
    {
     "data": {
      "text/plain": [
       "0.08424772791599323"
      ]
     },
     "execution_count": 27,
     "metadata": {},
     "output_type": "execute_result"
    }
   ],
   "source": [
    "ss, sil_samp = silhouette_score_block(z, Y_train, n_jobs = -1)\n",
    "ss"
   ]
  },
  {
   "cell_type": "code",
   "execution_count": 28,
   "metadata": {
    "ExecuteTime": {
     "end_time": "2021-01-15T04:52:23.091192Z",
     "start_time": "2021-01-15T04:52:22.424757Z"
    }
   },
   "outputs": [
    {
     "data": {
      "text/plain": [
       "0.0915232019975219"
      ]
     },
     "execution_count": 28,
     "metadata": {},
     "output_type": "execute_result"
    }
   ],
   "source": [
    "ss_test, sil_samp_test = silhouette_score_block(z_test, Y_test, n_jobs = -1)\n",
    "ss_test"
   ]
  },
  {
   "cell_type": "code",
   "execution_count": 29,
   "metadata": {
    "ExecuteTime": {
     "end_time": "2021-01-15T04:52:24.789219Z",
     "start_time": "2021-01-15T04:52:23.092991Z"
    }
   },
   "outputs": [
    {
     "data": {
      "text/plain": [
       "<matplotlib.collections.PathCollection at 0x7f8604fe4cd0>"
      ]
     },
     "execution_count": 29,
     "metadata": {},
     "output_type": "execute_result"
    },
    {
     "data": {
      "image/png": "[encoded data removed]",
      "text/plain": [
       "<Figure size 720x360 with 2 Axes>"
      ]
     },
     "metadata": {
      "needs_background": "light"
     },
     "output_type": "display_data"
    }
   ],
   "source": [
    "fig, axs = plt.subplots(ncols = 2, figsize=(10, 5))\n",
    "axs[0].scatter(z[:, 0], z[:, 1], s=0.1, alpha=0.5, c=sil_samp, cmap=plt.cm.viridis)\n",
    "axs[1].scatter(z_test[:, 0], z_test[:, 1], s=1, alpha=0.5, c=sil_samp_test, cmap=plt.cm.viridis)"
   ]
  },
  {
   "cell_type": "markdown",
   "metadata": {},
   "source": [
    "#### KNN"
   ]
  },
  {
   "cell_type": "code",
   "execution_count": 30,
   "metadata": {
    "ExecuteTime": {
     "end_time": "2021-01-15T04:52:24.889167Z",
     "start_time": "2021-01-15T04:52:24.797892Z"
    }
   },
   "outputs": [],
   "source": [
    "from sklearn.neighbors import KNeighborsClassifier"
   ]
  },
  {
   "cell_type": "code",
   "execution_count": 31,
   "metadata": {
    "ExecuteTime": {
     "end_time": "2021-01-15T04:53:04.362572Z",
     "start_time": "2021-01-15T04:52:24.893892Z"
    }
   },
   "outputs": [
    {
     "data": {
      "text/plain": [
       "0.9614"
      ]
     },
     "execution_count": 31,
     "metadata": {},
     "output_type": "execute_result"
    }
   ],
   "source": [
    "neigh5 = KNeighborsClassifier(n_neighbors=5)\n",
    "neigh5.fit(z, Y_train)\n",
    "score_5nn = neigh5.score(z_test, Y_test)\n",
    "score_5nn"
   ]
  },
  {
   "cell_type": "code",
   "execution_count": 32,
   "metadata": {
    "ExecuteTime": {
     "end_time": "2021-01-15T04:53:30.495647Z",
     "start_time": "2021-01-15T04:53:04.366562Z"
    }
   },
   "outputs": [
    {
     "data": {
      "text/plain": [
       "0.9588"
      ]
     },
     "execution_count": 32,
     "metadata": {},
     "output_type": "execute_result"
    }
   ],
   "source": [
    "neigh1 = KNeighborsClassifier(n_neighbors=1)\n",
    "neigh1.fit(z, Y_train)\n",
    "score_1nn = neigh1.score(z_test, Y_test)\n",
    "score_1nn"
   ]
  },
  {
   "cell_type": "markdown",
   "metadata": {},
   "source": [
    "#### Trustworthiness"
   ]
  },
  {
   "cell_type": "code",
   "execution_count": 33,
   "metadata": {
    "ExecuteTime": {
     "end_time": "2021-01-15T04:53:30.648162Z",
     "start_time": "2021-01-15T04:53:30.500668Z"
    }
   },
   "outputs": [],
   "source": [
    "from sklearn.manifold import trustworthiness"
   ]
  },
  {
   "cell_type": "code",
   "execution_count": 34,
   "metadata": {
    "ExecuteTime": {
     "end_time": "2021-01-15T04:54:18.040615Z",
     "start_time": "2021-01-15T04:53:30.652387Z"
    }
   },
   "outputs": [],
   "source": [
    "tw = trustworthiness(X_train_flat[:10000], z[:10000])"
   ]
  },
  {
   "cell_type": "code",
   "execution_count": 35,
   "metadata": {
    "ExecuteTime": {
     "end_time": "2021-01-15T04:55:00.640784Z",
     "start_time": "2021-01-15T04:54:18.050497Z"
    }
   },
   "outputs": [],
   "source": [
    "tw_test = trustworthiness(X_test_flat[:10000], z_test[:10000])"
   ]
  },
  {
   "cell_type": "code",
   "execution_count": 36,
   "metadata": {
    "ExecuteTime": {
     "end_time": "2021-01-15T04:55:00.763834Z",
     "start_time": "2021-01-15T04:55:00.643095Z"
    }
   },
   "outputs": [
    {
     "data": {
      "text/plain": [
       "(0.9961351421136909, 0.9961160128102482)"
      ]
     },
     "execution_count": 36,
     "metadata": {},
     "output_type": "execute_result"
    }
   ],
   "source": [
    "tw, tw_test"
   ]
  },
  {
   "cell_type": "markdown",
   "metadata": {},
   "source": [
    "### Save output metrics"
   ]
  },
  {
   "cell_type": "code",
   "execution_count": 37,
   "metadata": {
    "ExecuteTime": {
     "end_time": "2021-01-15T04:55:00.876733Z",
     "start_time": "2021-01-15T04:55:00.765666Z"
    }
   },
   "outputs": [],
   "source": [
    "from tfumap.paths import ensure_dir, MODEL_DIR, DATA_DIR"
   ]
  },
  {
   "cell_type": "markdown",
   "metadata": {},
   "source": [
    "#### train"
   ]
  },
  {
   "cell_type": "code",
   "execution_count": 38,
   "metadata": {
    "ExecuteTime": {
     "end_time": "2021-01-15T04:55:01.066214Z",
     "start_time": "2021-01-15T04:55:00.878950Z"
    }
   },
   "outputs": [
    {
     "data": {
      "text/html": [
       "<div>\n",
       "<style scoped>\n",
       "    .dataframe tbody tr th:only-of-type {\n",
       "        vertical-align: middle;\n",
       "    }\n",
       "\n",
       "    .dataframe tbody tr th {\n",
       "        vertical-align: top;\n",
       "    }\n",
       "\n",
       "    .dataframe thead th {\n",
       "        text-align: right;\n",
       "    }\n",
       "</style>\n",
       "<table border=\"1\" class=\"dataframe\">\n",
       "  <thead>\n",
       "    <tr style=\"text-align: right;\">\n",
       "      <th></th>\n",
       "      <th>dataset</th>\n",
       "      <th>class_</th>\n",
       "      <th>dim</th>\n",
       "      <th>trustworthiness</th>\n",
       "      <th>silhouette_score</th>\n",
       "      <th>silhouette_samples</th>\n",
       "    </tr>\n",
       "  </thead>\n",
       "  <tbody>\n",
       "    <tr>\n",
       "      <th>0</th>\n",
       "      <td>mnist</td>\n",
       "      <td>ivis</td>\n",
       "      <td>64</td>\n",
       "      <td>0.996135</td>\n",
       "      <td>0.084248</td>\n",
       "      <td>[-0.012954094263086186, 0.29213583424020007, 0...</td>\n",
       "    </tr>\n",
       "  </tbody>\n",
       "</table>\n",
       "</div>"
      ],
      "text/plain": [
       "  dataset class_ dim  trustworthiness  silhouette_score  \\\n",
       "0   mnist   ivis  64         0.996135          0.084248   \n",
       "\n",
       "                                  silhouette_samples  \n",
       "0  [-0.012954094263086186, 0.29213583424020007, 0...  "
      ]
     },
     "execution_count": 38,
     "metadata": {},
     "output_type": "execute_result"
    }
   ],
   "source": [
    "metrics_df = pd.DataFrame(\n",
    "    columns=[\n",
    "        \"dataset\",\n",
    "        \"class_\",\n",
    "        \"dim\",\n",
    "        \"trustworthiness\",\n",
    "        \"silhouette_score\",\n",
    "        \"silhouette_samples\",\n",
    "    ]\n",
    ")\n",
    "metrics_df.loc[len(metrics_df)] = [dataset, algorithm, n_components, tw, ss, sil_samp]\n",
    "metrics_df"
   ]
  },
  {
   "cell_type": "code",
   "execution_count": 39,
   "metadata": {
    "ExecuteTime": {
     "end_time": "2021-01-15T04:55:01.210814Z",
     "start_time": "2021-01-15T04:55:01.069907Z"
    }
   },
   "outputs": [],
   "source": [
    "save_loc = DATA_DIR / 'projection_metrics' /  algorithm / 'train' / str(n_components) / (dataset + '.pickle')\n",
    "ensure_dir(save_loc)\n",
    "metrics_df.to_pickle(save_loc)"
   ]
  },
  {
   "cell_type": "markdown",
   "metadata": {},
   "source": [
    "#### test"
   ]
  },
  {
   "cell_type": "code",
   "execution_count": 40,
   "metadata": {
    "ExecuteTime": {
     "end_time": "2021-01-15T04:55:01.401492Z",
     "start_time": "2021-01-15T04:55:01.214828Z"
    }
   },
   "outputs": [
    {
     "data": {
      "text/html": [
       "<div>\n",
       "<style scoped>\n",
       "    .dataframe tbody tr th:only-of-type {\n",
       "        vertical-align: middle;\n",
       "    }\n",
       "\n",
       "    .dataframe tbody tr th {\n",
       "        vertical-align: top;\n",
       "    }\n",
       "\n",
       "    .dataframe thead th {\n",
       "        text-align: right;\n",
       "    }\n",
       "</style>\n",
       "<table border=\"1\" class=\"dataframe\">\n",
       "  <thead>\n",
       "    <tr style=\"text-align: right;\">\n",
       "      <th></th>\n",
       "      <th>dataset</th>\n",
       "      <th>class_</th>\n",
       "      <th>dim</th>\n",
       "      <th>trustworthiness</th>\n",
       "      <th>silhouette_score</th>\n",
       "      <th>silhouette_samples</th>\n",
       "    </tr>\n",
       "  </thead>\n",
       "  <tbody>\n",
       "    <tr>\n",
       "      <th>1</th>\n",
       "      <td>mnist</td>\n",
       "      <td>ivis</td>\n",
       "      <td>64</td>\n",
       "      <td>0.996116</td>\n",
       "      <td>0.091523</td>\n",
       "      <td>[0.18583200824687737, -0.00895606104554652, 0....</td>\n",
       "    </tr>\n",
       "  </tbody>\n",
       "</table>\n",
       "</div>"
      ],
      "text/plain": [
       "  dataset class_ dim  trustworthiness  silhouette_score  \\\n",
       "1   mnist   ivis  64         0.996116          0.091523   \n",
       "\n",
       "                                  silhouette_samples  \n",
       "1  [0.18583200824687737, -0.00895606104554652, 0....  "
      ]
     },
     "execution_count": 40,
     "metadata": {},
     "output_type": "execute_result"
    }
   ],
   "source": [
    "metrics_df_test = pd.DataFrame(\n",
    "    columns=[\n",
    "        \"dataset\",\n",
    "        \"class_\",\n",
    "        \"dim\",\n",
    "        \"trustworthiness\",\n",
    "        \"silhouette_score\",\n",
    "        \"silhouette_samples\",\n",
    "    ]\n",
    ")\n",
    "metrics_df_test.loc[len(metrics_df)] = [dataset, algorithm, n_components, tw_test, ss_test, sil_samp_test]\n",
    "metrics_df_test"
   ]
  },
  {
   "cell_type": "code",
   "execution_count": 41,
   "metadata": {
    "ExecuteTime": {
     "end_time": "2021-01-15T04:55:01.537614Z",
     "start_time": "2021-01-15T04:55:01.405453Z"
    }
   },
   "outputs": [],
   "source": [
    "save_loc = DATA_DIR / 'projection_metrics' / algorithm / 'test' / str(n_components) / (dataset + '.pickle')\n",
    "ensure_dir(save_loc)\n",
    "metrics_df.to_pickle(save_loc)"
   ]
  },
  {
   "cell_type": "markdown",
   "metadata": {},
   "source": [
    "#### knn "
   ]
  },
  {
   "cell_type": "code",
   "execution_count": 42,
   "metadata": {
    "ExecuteTime": {
     "end_time": "2021-01-15T04:55:01.708931Z",
     "start_time": "2021-01-15T04:55:01.542214Z"
    }
   },
   "outputs": [
    {
     "data": {
      "text/html": [
       "<div>\n",
       "<style scoped>\n",
       "    .dataframe tbody tr th:only-of-type {\n",
       "        vertical-align: middle;\n",
       "    }\n",
       "\n",
       "    .dataframe tbody tr th {\n",
       "        vertical-align: top;\n",
       "    }\n",
       "\n",
       "    .dataframe thead th {\n",
       "        text-align: right;\n",
       "    }\n",
       "</style>\n",
       "<table border=\"1\" class=\"dataframe\">\n",
       "  <thead>\n",
       "    <tr style=\"text-align: right;\">\n",
       "      <th></th>\n",
       "      <th>method_</th>\n",
       "      <th>dimensions</th>\n",
       "      <th>dataset</th>\n",
       "      <th>1NN_acc</th>\n",
       "      <th>5NN_acc</th>\n",
       "    </tr>\n",
       "  </thead>\n",
       "  <tbody>\n",
       "    <tr>\n",
       "      <th>0</th>\n",
       "      <td>ivis</td>\n",
       "      <td>64</td>\n",
       "      <td>mnist</td>\n",
       "      <td>0.9588</td>\n",
       "      <td>0.9614</td>\n",
       "    </tr>\n",
       "  </tbody>\n",
       "</table>\n",
       "</div>"
      ],
      "text/plain": [
       "  method_ dimensions dataset  1NN_acc  5NN_acc\n",
       "0    ivis         64   mnist   0.9588   0.9614"
      ]
     },
     "execution_count": 42,
     "metadata": {},
     "output_type": "execute_result"
    }
   ],
   "source": [
    "nn_acc_df = pd.DataFrame(columns = [\"method_\",\"dimensions\",\"dataset\",\"1NN_acc\",\"5NN_acc\"])\n",
    "nn_acc_df.loc[len(nn_acc_df)] = [algorithm, n_components, dataset,  score_1nn, score_5nn]\n",
    "nn_acc_df"
   ]
  },
  {
   "cell_type": "code",
   "execution_count": 43,
   "metadata": {
    "ExecuteTime": {
     "end_time": "2021-01-15T04:55:01.784265Z",
     "start_time": "2021-01-15T04:55:01.712424Z"
    }
   },
   "outputs": [],
   "source": [
    "save_loc = DATA_DIR / 'knn_classifier' / algorithm / 'train' / str(n_components) / (dataset + '.pickle')\n",
    "ensure_dir(save_loc)\n",
    "nn_acc_df.to_pickle(save_loc)"
   ]
  },
  {
   "cell_type": "markdown",
   "metadata": {},
   "source": [
    "### Compute clustering quality"
   ]
  },
  {
   "cell_type": "code",
   "execution_count": 44,
   "metadata": {
    "ExecuteTime": {
     "end_time": "2021-01-15T04:55:01.870157Z",
     "start_time": "2021-01-15T04:55:01.785945Z"
    }
   },
   "outputs": [],
   "source": [
    "from sklearn.cluster import KMeans\n",
    "from sklearn.metrics import homogeneity_completeness_v_measure"
   ]
  },
  {
   "cell_type": "code",
   "execution_count": 45,
   "metadata": {
    "ExecuteTime": {
     "end_time": "2021-01-15T04:55:01.944429Z",
     "start_time": "2021-01-15T04:55:01.871906Z"
    }
   },
   "outputs": [],
   "source": [
    "def get_cluster_metrics(row, n_init=5):\n",
    "    \n",
    "    # load cluster information\n",
    "    save_loc = DATA_DIR / 'clustering_metric_df'/ ('_'.join([row.class_, str(row.dim), row.dataset]) + '.pickle')\n",
    "    print(save_loc)\n",
    "    if save_loc.exists() and save_loc.is_file():\n",
    "        \n",
    "        cluster_df = pd.read_pickle(save_loc)\n",
    "        return cluster_df\n",
    "    \n",
    "    # make cluster metric dataframe\n",
    "    cluster_df = pd.DataFrame(\n",
    "        columns=[\n",
    "            \"dataset\",\n",
    "            \"class_\",\n",
    "            \"dim\",\n",
    "            \"silhouette\",\n",
    "            \"homogeneity\",\n",
    "            \"completeness\",\n",
    "            \"v_measure\",\n",
    "            \"init_\",\n",
    "            \"n_clusters\",\n",
    "            \"model\",\n",
    "        ]\n",
    "    )\n",
    "    y = row.train_label\n",
    "    z = row.train_z\n",
    "    n_labels = len(np.unique(y))\n",
    "    for n_clusters in tqdm(np.arange(n_labels - int(n_labels / 2), n_labels + int(n_labels / 2)), leave=False, desc = 'n_clusters'):\n",
    "        for init_ in tqdm(range(n_init), leave=False, desc='init'):\n",
    "            kmeans = KMeans(n_clusters=n_clusters, random_state=init_).fit(z)\n",
    "            clustered_y = kmeans.labels_\n",
    "            homogeneity, completeness, v_measure = homogeneity_completeness_v_measure(\n",
    "                y, clustered_y\n",
    "            )\n",
    "            ss, _ = silhouette_score_block(z, clustered_y)\n",
    "            cluster_df.loc[len(cluster_df)] = [\n",
    "                row.dataset,\n",
    "                row.class_,\n",
    "                row.dim,\n",
    "                ss,\n",
    "                homogeneity,\n",
    "                completeness,\n",
    "                v_measure,\n",
    "                init_,\n",
    "                n_clusters,\n",
    "                kmeans,\n",
    "            ]\n",
    "    \n",
    "     # save cluster df in case this fails somewhere\n",
    "    ensure_dir(save_loc)\n",
    "    cluster_df.to_pickle(save_loc)\n",
    "    return cluster_df"
   ]
  },
  {
   "cell_type": "code",
   "execution_count": 46,
   "metadata": {
    "ExecuteTime": {
     "end_time": "2021-01-15T04:55:02.612064Z",
     "start_time": "2021-01-15T04:55:01.954445Z"
    }
   },
   "outputs": [
    {
     "data": {
      "text/html": [
       "<div>\n",
       "<style scoped>\n",
       "    .dataframe tbody tr th:only-of-type {\n",
       "        vertical-align: middle;\n",
       "    }\n",
       "\n",
       "    .dataframe tbody tr th {\n",
       "        vertical-align: top;\n",
       "    }\n",
       "\n",
       "    .dataframe thead th {\n",
       "        text-align: right;\n",
       "    }\n",
       "</style>\n",
       "<table border=\"1\" class=\"dataframe\">\n",
       "  <thead>\n",
       "    <tr style=\"text-align: right;\">\n",
       "      <th></th>\n",
       "      <th>dataset</th>\n",
       "      <th>class_</th>\n",
       "      <th>train_z</th>\n",
       "      <th>train_label</th>\n",
       "      <th>dim</th>\n",
       "    </tr>\n",
       "  </thead>\n",
       "  <tbody>\n",
       "    <tr>\n",
       "      <th>0</th>\n",
       "      <td>mnist</td>\n",
       "      <td>ivis</td>\n",
       "      <td>[[0.8737984, 1.0773877, 1.7127395, 2.764896, 2...</td>\n",
       "      <td>[5, 0, 4, 1, 9, 2, 1, 3, 1, 4, 3, 5, 3, 6, 1, ...</td>\n",
       "      <td>64</td>\n",
       "    </tr>\n",
       "  </tbody>\n",
       "</table>\n",
       "</div>"
      ],
      "text/plain": [
       "  dataset class_                                            train_z  \\\n",
       "0   mnist   ivis  [[0.8737984, 1.0773877, 1.7127395, 2.764896, 2...   \n",
       "\n",
       "                                         train_label dim  \n",
       "0  [5, 0, 4, 1, 9, 2, 1, 3, 1, 4, 3, 5, 3, 6, 1, ...  64  "
      ]
     },
     "execution_count": 46,
     "metadata": {},
     "output_type": "execute_result"
    }
   ],
   "source": [
    "projection_df = pd.DataFrame(columns = ['dataset', 'class_', 'train_z', 'train_label', 'dim'])\n",
    "projection_df.loc[len(projection_df)] = [dataset, algorithm, z, Y_train, n_components]\n",
    "projection_df"
   ]
  },
  {
   "cell_type": "code",
   "execution_count": 47,
   "metadata": {
    "ExecuteTime": {
     "end_time": "2021-01-15T04:55:02.968069Z",
     "start_time": "2021-01-15T04:55:02.613302Z"
    }
   },
   "outputs": [],
   "source": [
    "??get_cluster_metrics"
   ]
  },
  {
   "cell_type": "code",
   "execution_count": 48,
   "metadata": {
    "ExecuteTime": {
     "end_time": "2021-01-15T05:58:08.842692Z",
     "start_time": "2021-01-15T04:55:02.970873Z"
    }
   },
   "outputs": [
    {
     "name": "stdout",
     "output_type": "stream",
     "text": [
      "/mnt/cube/tsainbur/Projects/github_repos/umap_tf_networks/data/clustering_metric_df/ivis_64_mnist.pickle\n"
     ]
    },
    {
     "data": {
      "application/vnd.jupyter.widget-view+json": {
       "model_id": "",
       "version_major": 2,
       "version_minor": 0
      },
      "text/plain": [
       "n_clusters:   0%|          | 0/10 [00:00<?, ?it/s]"
      ]
     },
     "metadata": {},
     "output_type": "display_data"
    },
    {
     "data": {
      "application/vnd.jupyter.widget-view+json": {
       "model_id": "",
       "version_major": 2,
       "version_minor": 0
      },
      "text/plain": [
       "init:   0%|          | 0/5 [00:00<?, ?it/s]"
      ]
     },
     "metadata": {},
     "output_type": "display_data"
    },
    {
     "data": {
      "application/vnd.jupyter.widget-view+json": {
       "model_id": "",
       "version_major": 2,
       "version_minor": 0
      },
      "text/plain": [
       "init:   0%|          | 0/5 [00:00<?, ?it/s]"
      ]
     },
     "metadata": {},
     "output_type": "display_data"
    },
    {
     "data": {
      "application/vnd.jupyter.widget-view+json": {
       "model_id": "",
       "version_major": 2,
       "version_minor": 0
      },
      "text/plain": [
       "init:   0%|          | 0/5 [00:00<?, ?it/s]"
      ]
     },
     "metadata": {},
     "output_type": "display_data"
    },
    {
     "data": {
      "application/vnd.jupyter.widget-view+json": {
       "model_id": "",
       "version_major": 2,
       "version_minor": 0
      },
      "text/plain": [
       "init:   0%|          | 0/5 [00:00<?, ?it/s]"
      ]
     },
     "metadata": {},
     "output_type": "display_data"
    },
    {
     "data": {
      "application/vnd.jupyter.widget-view+json": {
       "model_id": "",
       "version_major": 2,
       "version_minor": 0
      },
      "text/plain": [
       "init:   0%|          | 0/5 [00:00<?, ?it/s]"
      ]
     },
     "metadata": {},
     "output_type": "display_data"
    },
    {
     "data": {
      "application/vnd.jupyter.widget-view+json": {
       "model_id": "",
       "version_major": 2,
       "version_minor": 0
      },
      "text/plain": [
       "init:   0%|          | 0/5 [00:00<?, ?it/s]"
      ]
     },
     "metadata": {},
     "output_type": "display_data"
    },
    {
     "data": {
      "application/vnd.jupyter.widget-view+json": {
       "model_id": "",
       "version_major": 2,
       "version_minor": 0
      },
      "text/plain": [
       "init:   0%|          | 0/5 [00:00<?, ?it/s]"
      ]
     },
     "metadata": {},
     "output_type": "display_data"
    },
    {
     "data": {
      "application/vnd.jupyter.widget-view+json": {
       "model_id": "",
       "version_major": 2,
       "version_minor": 0
      },
      "text/plain": [
       "init:   0%|          | 0/5 [00:00<?, ?it/s]"
      ]
     },
     "metadata": {},
     "output_type": "display_data"
    },
    {
     "data": {
      "application/vnd.jupyter.widget-view+json": {
       "model_id": "",
       "version_major": 2,
       "version_minor": 0
      },
      "text/plain": [
       "init:   0%|          | 0/5 [00:00<?, ?it/s]"
      ]
     },
     "metadata": {},
     "output_type": "display_data"
    },
    {
     "data": {
      "application/vnd.jupyter.widget-view+json": {
       "model_id": "",
       "version_major": 2,
       "version_minor": 0
      },
      "text/plain": [
       "init:   0%|          | 0/5 [00:00<?, ?it/s]"
      ]
     },
     "metadata": {},
     "output_type": "display_data"
    },
    {
     "data": {
      "text/html": [
       "<div>\n",
       "<style scoped>\n",
       "    .dataframe tbody tr th:only-of-type {\n",
       "        vertical-align: middle;\n",
       "    }\n",
       "\n",
       "    .dataframe tbody tr th {\n",
       "        vertical-align: top;\n",
       "    }\n",
       "\n",
       "    .dataframe thead th {\n",
       "        text-align: right;\n",
       "    }\n",
       "</style>\n",
       "<table border=\"1\" class=\"dataframe\">\n",
       "  <thead>\n",
       "    <tr style=\"text-align: right;\">\n",
       "      <th></th>\n",
       "      <th>dataset</th>\n",
       "      <th>class_</th>\n",
       "      <th>dim</th>\n",
       "      <th>silhouette</th>\n",
       "      <th>homogeneity</th>\n",
       "      <th>completeness</th>\n",
       "      <th>v_measure</th>\n",
       "      <th>init_</th>\n",
       "      <th>n_clusters</th>\n",
       "      <th>model</th>\n",
       "    </tr>\n",
       "  </thead>\n",
       "  <tbody>\n",
       "    <tr>\n",
       "      <th>0</th>\n",
       "      <td>mnist</td>\n",
       "      <td>ivis</td>\n",
       "      <td>64</td>\n",
       "      <td>0.121823</td>\n",
       "      <td>0.292815</td>\n",
       "      <td>0.421473</td>\n",
       "      <td>0.345557</td>\n",
       "      <td>0</td>\n",
       "      <td>5</td>\n",
       "      <td>KMeans(n_clusters=5, random_state=0)</td>\n",
       "    </tr>\n",
       "    <tr>\n",
       "      <th>1</th>\n",
       "      <td>mnist</td>\n",
       "      <td>ivis</td>\n",
       "      <td>64</td>\n",
       "      <td>0.121940</td>\n",
       "      <td>0.292647</td>\n",
       "      <td>0.421200</td>\n",
       "      <td>0.345349</td>\n",
       "      <td>1</td>\n",
       "      <td>5</td>\n",
       "      <td>KMeans(n_clusters=5, random_state=1)</td>\n",
       "    </tr>\n",
       "    <tr>\n",
       "      <th>2</th>\n",
       "      <td>mnist</td>\n",
       "      <td>ivis</td>\n",
       "      <td>64</td>\n",
       "      <td>0.121950</td>\n",
       "      <td>0.292603</td>\n",
       "      <td>0.421063</td>\n",
       "      <td>0.345271</td>\n",
       "      <td>2</td>\n",
       "      <td>5</td>\n",
       "      <td>KMeans(n_clusters=5, random_state=2)</td>\n",
       "    </tr>\n",
       "    <tr>\n",
       "      <th>3</th>\n",
       "      <td>mnist</td>\n",
       "      <td>ivis</td>\n",
       "      <td>64</td>\n",
       "      <td>0.121930</td>\n",
       "      <td>0.292460</td>\n",
       "      <td>0.420960</td>\n",
       "      <td>0.345138</td>\n",
       "      <td>3</td>\n",
       "      <td>5</td>\n",
       "      <td>KMeans(n_clusters=5, random_state=3)</td>\n",
       "    </tr>\n",
       "    <tr>\n",
       "      <th>4</th>\n",
       "      <td>mnist</td>\n",
       "      <td>ivis</td>\n",
       "      <td>64</td>\n",
       "      <td>0.121946</td>\n",
       "      <td>0.292747</td>\n",
       "      <td>0.421267</td>\n",
       "      <td>0.345441</td>\n",
       "      <td>4</td>\n",
       "      <td>5</td>\n",
       "      <td>KMeans(n_clusters=5, random_state=4)</td>\n",
       "    </tr>\n",
       "    <tr>\n",
       "      <th>5</th>\n",
       "      <td>mnist</td>\n",
       "      <td>ivis</td>\n",
       "      <td>64</td>\n",
       "      <td>0.131828</td>\n",
       "      <td>0.328263</td>\n",
       "      <td>0.429253</td>\n",
       "      <td>0.372026</td>\n",
       "      <td>0</td>\n",
       "      <td>6</td>\n",
       "      <td>KMeans(n_clusters=6, random_state=0)</td>\n",
       "    </tr>\n",
       "    <tr>\n",
       "      <th>6</th>\n",
       "      <td>mnist</td>\n",
       "      <td>ivis</td>\n",
       "      <td>64</td>\n",
       "      <td>0.131836</td>\n",
       "      <td>0.328316</td>\n",
       "      <td>0.429363</td>\n",
       "      <td>0.372101</td>\n",
       "      <td>1</td>\n",
       "      <td>6</td>\n",
       "      <td>KMeans(n_clusters=6, random_state=1)</td>\n",
       "    </tr>\n",
       "    <tr>\n",
       "      <th>7</th>\n",
       "      <td>mnist</td>\n",
       "      <td>ivis</td>\n",
       "      <td>64</td>\n",
       "      <td>0.136445</td>\n",
       "      <td>0.305812</td>\n",
       "      <td>0.400497</td>\n",
       "      <td>0.346808</td>\n",
       "      <td>2</td>\n",
       "      <td>6</td>\n",
       "      <td>KMeans(n_clusters=6, random_state=2)</td>\n",
       "    </tr>\n",
       "    <tr>\n",
       "      <th>8</th>\n",
       "      <td>mnist</td>\n",
       "      <td>ivis</td>\n",
       "      <td>64</td>\n",
       "      <td>0.131844</td>\n",
       "      <td>0.328493</td>\n",
       "      <td>0.429391</td>\n",
       "      <td>0.372226</td>\n",
       "      <td>3</td>\n",
       "      <td>6</td>\n",
       "      <td>KMeans(n_clusters=6, random_state=3)</td>\n",
       "    </tr>\n",
       "    <tr>\n",
       "      <th>9</th>\n",
       "      <td>mnist</td>\n",
       "      <td>ivis</td>\n",
       "      <td>64</td>\n",
       "      <td>0.131821</td>\n",
       "      <td>0.328203</td>\n",
       "      <td>0.429157</td>\n",
       "      <td>0.371951</td>\n",
       "      <td>4</td>\n",
       "      <td>6</td>\n",
       "      <td>KMeans(n_clusters=6, random_state=4)</td>\n",
       "    </tr>\n",
       "    <tr>\n",
       "      <th>10</th>\n",
       "      <td>mnist</td>\n",
       "      <td>ivis</td>\n",
       "      <td>64</td>\n",
       "      <td>0.142785</td>\n",
       "      <td>0.362985</td>\n",
       "      <td>0.439013</td>\n",
       "      <td>0.397395</td>\n",
       "      <td>0</td>\n",
       "      <td>7</td>\n",
       "      <td>KMeans(n_clusters=7, random_state=0)</td>\n",
       "    </tr>\n",
       "    <tr>\n",
       "      <th>11</th>\n",
       "      <td>mnist</td>\n",
       "      <td>ivis</td>\n",
       "      <td>64</td>\n",
       "      <td>0.142769</td>\n",
       "      <td>0.363034</td>\n",
       "      <td>0.439083</td>\n",
       "      <td>0.397453</td>\n",
       "      <td>1</td>\n",
       "      <td>7</td>\n",
       "      <td>KMeans(n_clusters=7, random_state=1)</td>\n",
       "    </tr>\n",
       "    <tr>\n",
       "      <th>12</th>\n",
       "      <td>mnist</td>\n",
       "      <td>ivis</td>\n",
       "      <td>64</td>\n",
       "      <td>0.142779</td>\n",
       "      <td>0.362908</td>\n",
       "      <td>0.438913</td>\n",
       "      <td>0.397308</td>\n",
       "      <td>2</td>\n",
       "      <td>7</td>\n",
       "      <td>KMeans(n_clusters=7, random_state=2)</td>\n",
       "    </tr>\n",
       "    <tr>\n",
       "      <th>13</th>\n",
       "      <td>mnist</td>\n",
       "      <td>ivis</td>\n",
       "      <td>64</td>\n",
       "      <td>0.142786</td>\n",
       "      <td>0.362976</td>\n",
       "      <td>0.438999</td>\n",
       "      <td>0.397384</td>\n",
       "      <td>3</td>\n",
       "      <td>7</td>\n",
       "      <td>KMeans(n_clusters=7, random_state=3)</td>\n",
       "    </tr>\n",
       "    <tr>\n",
       "      <th>14</th>\n",
       "      <td>mnist</td>\n",
       "      <td>ivis</td>\n",
       "      <td>64</td>\n",
       "      <td>0.142808</td>\n",
       "      <td>0.363341</td>\n",
       "      <td>0.439593</td>\n",
       "      <td>0.397846</td>\n",
       "      <td>4</td>\n",
       "      <td>7</td>\n",
       "      <td>KMeans(n_clusters=7, random_state=4)</td>\n",
       "    </tr>\n",
       "    <tr>\n",
       "      <th>15</th>\n",
       "      <td>mnist</td>\n",
       "      <td>ivis</td>\n",
       "      <td>64</td>\n",
       "      <td>0.149334</td>\n",
       "      <td>0.411699</td>\n",
       "      <td>0.470671</td>\n",
       "      <td>0.439215</td>\n",
       "      <td>0</td>\n",
       "      <td>8</td>\n",
       "      <td>KMeans(random_state=0)</td>\n",
       "    </tr>\n",
       "    <tr>\n",
       "      <th>16</th>\n",
       "      <td>mnist</td>\n",
       "      <td>ivis</td>\n",
       "      <td>64</td>\n",
       "      <td>0.149331</td>\n",
       "      <td>0.411878</td>\n",
       "      <td>0.470782</td>\n",
       "      <td>0.439364</td>\n",
       "      <td>1</td>\n",
       "      <td>8</td>\n",
       "      <td>KMeans(random_state=1)</td>\n",
       "    </tr>\n",
       "    <tr>\n",
       "      <th>17</th>\n",
       "      <td>mnist</td>\n",
       "      <td>ivis</td>\n",
       "      <td>64</td>\n",
       "      <td>0.149329</td>\n",
       "      <td>0.411854</td>\n",
       "      <td>0.470753</td>\n",
       "      <td>0.439338</td>\n",
       "      <td>2</td>\n",
       "      <td>8</td>\n",
       "      <td>KMeans(random_state=2)</td>\n",
       "    </tr>\n",
       "    <tr>\n",
       "      <th>18</th>\n",
       "      <td>mnist</td>\n",
       "      <td>ivis</td>\n",
       "      <td>64</td>\n",
       "      <td>0.149350</td>\n",
       "      <td>0.412123</td>\n",
       "      <td>0.471089</td>\n",
       "      <td>0.439638</td>\n",
       "      <td>3</td>\n",
       "      <td>8</td>\n",
       "      <td>KMeans(random_state=3)</td>\n",
       "    </tr>\n",
       "    <tr>\n",
       "      <th>19</th>\n",
       "      <td>mnist</td>\n",
       "      <td>ivis</td>\n",
       "      <td>64</td>\n",
       "      <td>0.149335</td>\n",
       "      <td>0.411446</td>\n",
       "      <td>0.470390</td>\n",
       "      <td>0.438948</td>\n",
       "      <td>4</td>\n",
       "      <td>8</td>\n",
       "      <td>KMeans(random_state=4)</td>\n",
       "    </tr>\n",
       "    <tr>\n",
       "      <th>20</th>\n",
       "      <td>mnist</td>\n",
       "      <td>ivis</td>\n",
       "      <td>64</td>\n",
       "      <td>0.152198</td>\n",
       "      <td>0.461342</td>\n",
       "      <td>0.494856</td>\n",
       "      <td>0.477512</td>\n",
       "      <td>0</td>\n",
       "      <td>9</td>\n",
       "      <td>KMeans(n_clusters=9, random_state=0)</td>\n",
       "    </tr>\n",
       "    <tr>\n",
       "      <th>21</th>\n",
       "      <td>mnist</td>\n",
       "      <td>ivis</td>\n",
       "      <td>64</td>\n",
       "      <td>0.152182</td>\n",
       "      <td>0.461927</td>\n",
       "      <td>0.495378</td>\n",
       "      <td>0.478068</td>\n",
       "      <td>1</td>\n",
       "      <td>9</td>\n",
       "      <td>KMeans(n_clusters=9, random_state=1)</td>\n",
       "    </tr>\n",
       "    <tr>\n",
       "      <th>22</th>\n",
       "      <td>mnist</td>\n",
       "      <td>ivis</td>\n",
       "      <td>64</td>\n",
       "      <td>0.152183</td>\n",
       "      <td>0.461946</td>\n",
       "      <td>0.495370</td>\n",
       "      <td>0.478075</td>\n",
       "      <td>2</td>\n",
       "      <td>9</td>\n",
       "      <td>KMeans(n_clusters=9, random_state=2)</td>\n",
       "    </tr>\n",
       "    <tr>\n",
       "      <th>23</th>\n",
       "      <td>mnist</td>\n",
       "      <td>ivis</td>\n",
       "      <td>64</td>\n",
       "      <td>0.152158</td>\n",
       "      <td>0.461835</td>\n",
       "      <td>0.495250</td>\n",
       "      <td>0.477959</td>\n",
       "      <td>3</td>\n",
       "      <td>9</td>\n",
       "      <td>KMeans(n_clusters=9, random_state=3)</td>\n",
       "    </tr>\n",
       "    <tr>\n",
       "      <th>24</th>\n",
       "      <td>mnist</td>\n",
       "      <td>ivis</td>\n",
       "      <td>64</td>\n",
       "      <td>0.152168</td>\n",
       "      <td>0.461929</td>\n",
       "      <td>0.495342</td>\n",
       "      <td>0.478052</td>\n",
       "      <td>4</td>\n",
       "      <td>9</td>\n",
       "      <td>KMeans(n_clusters=9, random_state=4)</td>\n",
       "    </tr>\n",
       "    <tr>\n",
       "      <th>25</th>\n",
       "      <td>mnist</td>\n",
       "      <td>ivis</td>\n",
       "      <td>64</td>\n",
       "      <td>0.159113</td>\n",
       "      <td>0.510275</td>\n",
       "      <td>0.520504</td>\n",
       "      <td>0.515339</td>\n",
       "      <td>0</td>\n",
       "      <td>10</td>\n",
       "      <td>KMeans(n_clusters=10, random_state=0)</td>\n",
       "    </tr>\n",
       "    <tr>\n",
       "      <th>26</th>\n",
       "      <td>mnist</td>\n",
       "      <td>ivis</td>\n",
       "      <td>64</td>\n",
       "      <td>0.153111</td>\n",
       "      <td>0.485333</td>\n",
       "      <td>0.494805</td>\n",
       "      <td>0.490024</td>\n",
       "      <td>1</td>\n",
       "      <td>10</td>\n",
       "      <td>KMeans(n_clusters=10, random_state=1)</td>\n",
       "    </tr>\n",
       "    <tr>\n",
       "      <th>27</th>\n",
       "      <td>mnist</td>\n",
       "      <td>ivis</td>\n",
       "      <td>64</td>\n",
       "      <td>0.159120</td>\n",
       "      <td>0.510467</td>\n",
       "      <td>0.520697</td>\n",
       "      <td>0.515531</td>\n",
       "      <td>2</td>\n",
       "      <td>10</td>\n",
       "      <td>KMeans(n_clusters=10, random_state=2)</td>\n",
       "    </tr>\n",
       "    <tr>\n",
       "      <th>28</th>\n",
       "      <td>mnist</td>\n",
       "      <td>ivis</td>\n",
       "      <td>64</td>\n",
       "      <td>0.159093</td>\n",
       "      <td>0.508807</td>\n",
       "      <td>0.519027</td>\n",
       "      <td>0.513866</td>\n",
       "      <td>3</td>\n",
       "      <td>10</td>\n",
       "      <td>KMeans(n_clusters=10, random_state=3)</td>\n",
       "    </tr>\n",
       "    <tr>\n",
       "      <th>29</th>\n",
       "      <td>mnist</td>\n",
       "      <td>ivis</td>\n",
       "      <td>64</td>\n",
       "      <td>0.159112</td>\n",
       "      <td>0.509026</td>\n",
       "      <td>0.519219</td>\n",
       "      <td>0.514072</td>\n",
       "      <td>4</td>\n",
       "      <td>10</td>\n",
       "      <td>KMeans(n_clusters=10, random_state=4)</td>\n",
       "    </tr>\n",
       "    <tr>\n",
       "      <th>30</th>\n",
       "      <td>mnist</td>\n",
       "      <td>ivis</td>\n",
       "      <td>64</td>\n",
       "      <td>0.161150</td>\n",
       "      <td>0.532605</td>\n",
       "      <td>0.518152</td>\n",
       "      <td>0.525279</td>\n",
       "      <td>0</td>\n",
       "      <td>11</td>\n",
       "      <td>KMeans(n_clusters=11, random_state=0)</td>\n",
       "    </tr>\n",
       "    <tr>\n",
       "      <th>31</th>\n",
       "      <td>mnist</td>\n",
       "      <td>ivis</td>\n",
       "      <td>64</td>\n",
       "      <td>0.161130</td>\n",
       "      <td>0.532856</td>\n",
       "      <td>0.518369</td>\n",
       "      <td>0.525513</td>\n",
       "      <td>1</td>\n",
       "      <td>11</td>\n",
       "      <td>KMeans(n_clusters=11, random_state=1)</td>\n",
       "    </tr>\n",
       "    <tr>\n",
       "      <th>32</th>\n",
       "      <td>mnist</td>\n",
       "      <td>ivis</td>\n",
       "      <td>64</td>\n",
       "      <td>0.161212</td>\n",
       "      <td>0.534038</td>\n",
       "      <td>0.519508</td>\n",
       "      <td>0.526673</td>\n",
       "      <td>2</td>\n",
       "      <td>11</td>\n",
       "      <td>KMeans(n_clusters=11, random_state=2)</td>\n",
       "    </tr>\n",
       "    <tr>\n",
       "      <th>33</th>\n",
       "      <td>mnist</td>\n",
       "      <td>ivis</td>\n",
       "      <td>64</td>\n",
       "      <td>0.161146</td>\n",
       "      <td>0.532648</td>\n",
       "      <td>0.518184</td>\n",
       "      <td>0.525317</td>\n",
       "      <td>3</td>\n",
       "      <td>11</td>\n",
       "      <td>KMeans(n_clusters=11, random_state=3)</td>\n",
       "    </tr>\n",
       "    <tr>\n",
       "      <th>34</th>\n",
       "      <td>mnist</td>\n",
       "      <td>ivis</td>\n",
       "      <td>64</td>\n",
       "      <td>0.161184</td>\n",
       "      <td>0.533442</td>\n",
       "      <td>0.518924</td>\n",
       "      <td>0.526083</td>\n",
       "      <td>4</td>\n",
       "      <td>11</td>\n",
       "      <td>KMeans(n_clusters=11, random_state=4)</td>\n",
       "    </tr>\n",
       "    <tr>\n",
       "      <th>35</th>\n",
       "      <td>mnist</td>\n",
       "      <td>ivis</td>\n",
       "      <td>64</td>\n",
       "      <td>0.161720</td>\n",
       "      <td>0.545926</td>\n",
       "      <td>0.512033</td>\n",
       "      <td>0.528437</td>\n",
       "      <td>0</td>\n",
       "      <td>12</td>\n",
       "      <td>KMeans(n_clusters=12, random_state=0)</td>\n",
       "    </tr>\n",
       "    <tr>\n",
       "      <th>36</th>\n",
       "      <td>mnist</td>\n",
       "      <td>ivis</td>\n",
       "      <td>64</td>\n",
       "      <td>0.161712</td>\n",
       "      <td>0.545951</td>\n",
       "      <td>0.512067</td>\n",
       "      <td>0.528467</td>\n",
       "      <td>1</td>\n",
       "      <td>12</td>\n",
       "      <td>KMeans(n_clusters=12, random_state=1)</td>\n",
       "    </tr>\n",
       "    <tr>\n",
       "      <th>37</th>\n",
       "      <td>mnist</td>\n",
       "      <td>ivis</td>\n",
       "      <td>64</td>\n",
       "      <td>0.161653</td>\n",
       "      <td>0.545978</td>\n",
       "      <td>0.511961</td>\n",
       "      <td>0.528422</td>\n",
       "      <td>2</td>\n",
       "      <td>12</td>\n",
       "      <td>KMeans(n_clusters=12, random_state=2)</td>\n",
       "    </tr>\n",
       "    <tr>\n",
       "      <th>38</th>\n",
       "      <td>mnist</td>\n",
       "      <td>ivis</td>\n",
       "      <td>64</td>\n",
       "      <td>0.161673</td>\n",
       "      <td>0.546010</td>\n",
       "      <td>0.512027</td>\n",
       "      <td>0.528473</td>\n",
       "      <td>3</td>\n",
       "      <td>12</td>\n",
       "      <td>KMeans(n_clusters=12, random_state=3)</td>\n",
       "    </tr>\n",
       "    <tr>\n",
       "      <th>39</th>\n",
       "      <td>mnist</td>\n",
       "      <td>ivis</td>\n",
       "      <td>64</td>\n",
       "      <td>0.161669</td>\n",
       "      <td>0.546080</td>\n",
       "      <td>0.512091</td>\n",
       "      <td>0.528540</td>\n",
       "      <td>4</td>\n",
       "      <td>12</td>\n",
       "      <td>KMeans(n_clusters=12, random_state=4)</td>\n",
       "    </tr>\n",
       "    <tr>\n",
       "      <th>40</th>\n",
       "      <td>mnist</td>\n",
       "      <td>ivis</td>\n",
       "      <td>64</td>\n",
       "      <td>0.161319</td>\n",
       "      <td>0.552448</td>\n",
       "      <td>0.498464</td>\n",
       "      <td>0.524070</td>\n",
       "      <td>0</td>\n",
       "      <td>13</td>\n",
       "      <td>KMeans(n_clusters=13, random_state=0)</td>\n",
       "    </tr>\n",
       "    <tr>\n",
       "      <th>41</th>\n",
       "      <td>mnist</td>\n",
       "      <td>ivis</td>\n",
       "      <td>64</td>\n",
       "      <td>0.161492</td>\n",
       "      <td>0.555976</td>\n",
       "      <td>0.501664</td>\n",
       "      <td>0.527425</td>\n",
       "      <td>1</td>\n",
       "      <td>13</td>\n",
       "      <td>KMeans(n_clusters=13, random_state=1)</td>\n",
       "    </tr>\n",
       "    <tr>\n",
       "      <th>42</th>\n",
       "      <td>mnist</td>\n",
       "      <td>ivis</td>\n",
       "      <td>64</td>\n",
       "      <td>0.161564</td>\n",
       "      <td>0.556534</td>\n",
       "      <td>0.502152</td>\n",
       "      <td>0.527946</td>\n",
       "      <td>2</td>\n",
       "      <td>13</td>\n",
       "      <td>KMeans(n_clusters=13, random_state=2)</td>\n",
       "    </tr>\n",
       "    <tr>\n",
       "      <th>43</th>\n",
       "      <td>mnist</td>\n",
       "      <td>ivis</td>\n",
       "      <td>64</td>\n",
       "      <td>0.161305</td>\n",
       "      <td>0.552006</td>\n",
       "      <td>0.498066</td>\n",
       "      <td>0.523651</td>\n",
       "      <td>3</td>\n",
       "      <td>13</td>\n",
       "      <td>KMeans(n_clusters=13, random_state=3)</td>\n",
       "    </tr>\n",
       "    <tr>\n",
       "      <th>44</th>\n",
       "      <td>mnist</td>\n",
       "      <td>ivis</td>\n",
       "      <td>64</td>\n",
       "      <td>0.161346</td>\n",
       "      <td>0.552814</td>\n",
       "      <td>0.498773</td>\n",
       "      <td>0.524405</td>\n",
       "      <td>4</td>\n",
       "      <td>13</td>\n",
       "      <td>KMeans(n_clusters=13, random_state=4)</td>\n",
       "    </tr>\n",
       "    <tr>\n",
       "      <th>45</th>\n",
       "      <td>mnist</td>\n",
       "      <td>ivis</td>\n",
       "      <td>64</td>\n",
       "      <td>0.163110</td>\n",
       "      <td>0.569553</td>\n",
       "      <td>0.499112</td>\n",
       "      <td>0.532011</td>\n",
       "      <td>0</td>\n",
       "      <td>14</td>\n",
       "      <td>KMeans(n_clusters=14, random_state=0)</td>\n",
       "    </tr>\n",
       "    <tr>\n",
       "      <th>46</th>\n",
       "      <td>mnist</td>\n",
       "      <td>ivis</td>\n",
       "      <td>64</td>\n",
       "      <td>0.163222</td>\n",
       "      <td>0.569728</td>\n",
       "      <td>0.499302</td>\n",
       "      <td>0.532196</td>\n",
       "      <td>1</td>\n",
       "      <td>14</td>\n",
       "      <td>KMeans(n_clusters=14, random_state=1)</td>\n",
       "    </tr>\n",
       "    <tr>\n",
       "      <th>47</th>\n",
       "      <td>mnist</td>\n",
       "      <td>ivis</td>\n",
       "      <td>64</td>\n",
       "      <td>0.163203</td>\n",
       "      <td>0.569596</td>\n",
       "      <td>0.499183</td>\n",
       "      <td>0.532070</td>\n",
       "      <td>2</td>\n",
       "      <td>14</td>\n",
       "      <td>KMeans(n_clusters=14, random_state=2)</td>\n",
       "    </tr>\n",
       "    <tr>\n",
       "      <th>48</th>\n",
       "      <td>mnist</td>\n",
       "      <td>ivis</td>\n",
       "      <td>64</td>\n",
       "      <td>0.162914</td>\n",
       "      <td>0.569668</td>\n",
       "      <td>0.499222</td>\n",
       "      <td>0.532124</td>\n",
       "      <td>3</td>\n",
       "      <td>14</td>\n",
       "      <td>KMeans(n_clusters=14, random_state=3)</td>\n",
       "    </tr>\n",
       "    <tr>\n",
       "      <th>49</th>\n",
       "      <td>mnist</td>\n",
       "      <td>ivis</td>\n",
       "      <td>64</td>\n",
       "      <td>0.162860</td>\n",
       "      <td>0.569749</td>\n",
       "      <td>0.499268</td>\n",
       "      <td>0.532185</td>\n",
       "      <td>4</td>\n",
       "      <td>14</td>\n",
       "      <td>KMeans(n_clusters=14, random_state=4)</td>\n",
       "    </tr>\n",
       "  </tbody>\n",
       "</table>\n",
       "</div>"
      ],
      "text/plain": [
       "   dataset class_ dim  silhouette  homogeneity  completeness  v_measure init_  \\\n",
       "0    mnist   ivis  64    0.121823     0.292815      0.421473   0.345557     0   \n",
       "1    mnist   ivis  64    0.121940     0.292647      0.421200   0.345349     1   \n",
       "2    mnist   ivis  64    0.121950     0.292603      0.421063   0.345271     2   \n",
       "3    mnist   ivis  64    0.121930     0.292460      0.420960   0.345138     3   \n",
       "4    mnist   ivis  64    0.121946     0.292747      0.421267   0.345441     4   \n",
       "5    mnist   ivis  64    0.131828     0.328263      0.429253   0.372026     0   \n",
       "6    mnist   ivis  64    0.131836     0.328316      0.429363   0.372101     1   \n",
       "7    mnist   ivis  64    0.136445     0.305812      0.400497   0.346808     2   \n",
       "8    mnist   ivis  64    0.131844     0.328493      0.429391   0.372226     3   \n",
       "9    mnist   ivis  64    0.131821     0.328203      0.429157   0.371951     4   \n",
       "10   mnist   ivis  64    0.142785     0.362985      0.439013   0.397395     0   \n",
       "11   mnist   ivis  64    0.142769     0.363034      0.439083   0.397453     1   \n",
       "12   mnist   ivis  64    0.142779     0.362908      0.438913   0.397308     2   \n",
       "13   mnist   ivis  64    0.142786     0.362976      0.438999   0.397384     3   \n",
       "14   mnist   ivis  64    0.142808     0.363341      0.439593   0.397846     4   \n",
       "15   mnist   ivis  64    0.149334     0.411699      0.470671   0.439215     0   \n",
       "16   mnist   ivis  64    0.149331     0.411878      0.470782   0.439364     1   \n",
       "17   mnist   ivis  64    0.149329     0.411854      0.470753   0.439338     2   \n",
       "18   mnist   ivis  64    0.149350     0.412123      0.471089   0.439638     3   \n",
       "19   mnist   ivis  64    0.149335     0.411446      0.470390   0.438948     4   \n",
       "20   mnist   ivis  64    0.152198     0.461342      0.494856   0.477512     0   \n",
       "21   mnist   ivis  64    0.152182     0.461927      0.495378   0.478068     1   \n",
       "22   mnist   ivis  64    0.152183     0.461946      0.495370   0.478075     2   \n",
       "23   mnist   ivis  64    0.152158     0.461835      0.495250   0.477959     3   \n",
       "24   mnist   ivis  64    0.152168     0.461929      0.495342   0.478052     4   \n",
       "25   mnist   ivis  64    0.159113     0.510275      0.520504   0.515339     0   \n",
       "26   mnist   ivis  64    0.153111     0.485333      0.494805   0.490024     1   \n",
       "27   mnist   ivis  64    0.159120     0.510467      0.520697   0.515531     2   \n",
       "28   mnist   ivis  64    0.159093     0.508807      0.519027   0.513866     3   \n",
       "29   mnist   ivis  64    0.159112     0.509026      0.519219   0.514072     4   \n",
       "30   mnist   ivis  64    0.161150     0.532605      0.518152   0.525279     0   \n",
       "31   mnist   ivis  64    0.161130     0.532856      0.518369   0.525513     1   \n",
       "32   mnist   ivis  64    0.161212     0.534038      0.519508   0.526673     2   \n",
       "33   mnist   ivis  64    0.161146     0.532648      0.518184   0.525317     3   \n",
       "34   mnist   ivis  64    0.161184     0.533442      0.518924   0.526083     4   \n",
       "35   mnist   ivis  64    0.161720     0.545926      0.512033   0.528437     0   \n",
       "36   mnist   ivis  64    0.161712     0.545951      0.512067   0.528467     1   \n",
       "37   mnist   ivis  64    0.161653     0.545978      0.511961   0.528422     2   \n",
       "38   mnist   ivis  64    0.161673     0.546010      0.512027   0.528473     3   \n",
       "39   mnist   ivis  64    0.161669     0.546080      0.512091   0.528540     4   \n",
       "40   mnist   ivis  64    0.161319     0.552448      0.498464   0.524070     0   \n",
       "41   mnist   ivis  64    0.161492     0.555976      0.501664   0.527425     1   \n",
       "42   mnist   ivis  64    0.161564     0.556534      0.502152   0.527946     2   \n",
       "43   mnist   ivis  64    0.161305     0.552006      0.498066   0.523651     3   \n",
       "44   mnist   ivis  64    0.161346     0.552814      0.498773   0.524405     4   \n",
       "45   mnist   ivis  64    0.163110     0.569553      0.499112   0.532011     0   \n",
       "46   mnist   ivis  64    0.163222     0.569728      0.499302   0.532196     1   \n",
       "47   mnist   ivis  64    0.163203     0.569596      0.499183   0.532070     2   \n",
       "48   mnist   ivis  64    0.162914     0.569668      0.499222   0.532124     3   \n",
       "49   mnist   ivis  64    0.162860     0.569749      0.499268   0.532185     4   \n",
       "\n",
       "   n_clusters                                  model  \n",
       "0           5   KMeans(n_clusters=5, random_state=0)  \n",
       "1           5   KMeans(n_clusters=5, random_state=1)  \n",
       "2           5   KMeans(n_clusters=5, random_state=2)  \n",
       "3           5   KMeans(n_clusters=5, random_state=3)  \n",
       "4           5   KMeans(n_clusters=5, random_state=4)  \n",
       "5           6   KMeans(n_clusters=6, random_state=0)  \n",
       "6           6   KMeans(n_clusters=6, random_state=1)  \n",
       "7           6   KMeans(n_clusters=6, random_state=2)  \n",
       "8           6   KMeans(n_clusters=6, random_state=3)  \n",
       "9           6   KMeans(n_clusters=6, random_state=4)  \n",
       "10          7   KMeans(n_clusters=7, random_state=0)  \n",
       "11          7   KMeans(n_clusters=7, random_state=1)  \n",
       "12          7   KMeans(n_clusters=7, random_state=2)  \n",
       "13          7   KMeans(n_clusters=7, random_state=3)  \n",
       "14          7   KMeans(n_clusters=7, random_state=4)  \n",
       "15          8                 KMeans(random_state=0)  \n",
       "16          8                 KMeans(random_state=1)  \n",
       "17          8                 KMeans(random_state=2)  \n",
       "18          8                 KMeans(random_state=3)  \n",
       "19          8                 KMeans(random_state=4)  \n",
       "20          9   KMeans(n_clusters=9, random_state=0)  \n",
       "21          9   KMeans(n_clusters=9, random_state=1)  \n",
       "22          9   KMeans(n_clusters=9, random_state=2)  \n",
       "23          9   KMeans(n_clusters=9, random_state=3)  \n",
       "24          9   KMeans(n_clusters=9, random_state=4)  \n",
       "25         10  KMeans(n_clusters=10, random_state=0)  \n",
       "26         10  KMeans(n_clusters=10, random_state=1)  \n",
       "27         10  KMeans(n_clusters=10, random_state=2)  \n",
       "28         10  KMeans(n_clusters=10, random_state=3)  \n",
       "29         10  KMeans(n_clusters=10, random_state=4)  \n",
       "30         11  KMeans(n_clusters=11, random_state=0)  \n",
       "31         11  KMeans(n_clusters=11, random_state=1)  \n",
       "32         11  KMeans(n_clusters=11, random_state=2)  \n",
       "33         11  KMeans(n_clusters=11, random_state=3)  \n",
       "34         11  KMeans(n_clusters=11, random_state=4)  \n",
       "35         12  KMeans(n_clusters=12, random_state=0)  \n",
       "36         12  KMeans(n_clusters=12, random_state=1)  \n",
       "37         12  KMeans(n_clusters=12, random_state=2)  \n",
       "38         12  KMeans(n_clusters=12, random_state=3)  \n",
       "39         12  KMeans(n_clusters=12, random_state=4)  \n",
       "40         13  KMeans(n_clusters=13, random_state=0)  \n",
       "41         13  KMeans(n_clusters=13, random_state=1)  \n",
       "42         13  KMeans(n_clusters=13, random_state=2)  \n",
       "43         13  KMeans(n_clusters=13, random_state=3)  \n",
       "44         13  KMeans(n_clusters=13, random_state=4)  \n",
       "45         14  KMeans(n_clusters=14, random_state=0)  \n",
       "46         14  KMeans(n_clusters=14, random_state=1)  \n",
       "47         14  KMeans(n_clusters=14, random_state=2)  \n",
       "48         14  KMeans(n_clusters=14, random_state=3)  \n",
       "49         14  KMeans(n_clusters=14, random_state=4)  "
      ]
     },
     "execution_count": 48,
     "metadata": {},
     "output_type": "execute_result"
    }
   ],
   "source": [
    "get_cluster_metrics(projection_df.iloc[0], n_init=5)"
   ]
  },
  {
   "cell_type": "code",
   "execution_count": null,
   "metadata": {},
   "outputs": [],
   "source": []
  },
  {
   "cell_type": "code",
   "execution_count": null,
   "metadata": {},
   "outputs": [],
   "source": []
  },
  {
   "cell_type": "code",
   "execution_count": null,
   "metadata": {},
   "outputs": [],
   "source": []
  },
  {
   "cell_type": "code",
   "execution_count": null,
   "metadata": {},
   "outputs": [],
   "source": []
  },
  {
   "cell_type": "code",
   "execution_count": null,
   "metadata": {},
   "outputs": [],
   "source": []
  },
  {
   "cell_type": "code",
   "execution_count": null,
   "metadata": {},
   "outputs": [],
   "source": []
  },
  {
   "cell_type": "code",
   "execution_count": null,
   "metadata": {},
   "outputs": [],
   "source": []
  }
 ],
 "metadata": {
  "kernelspec": {
   "display_name": "Python [conda env:tfumap]",
   "language": "python",
   "name": "conda-env-tfumap-py"
  },
  "language_info": {
   "codemirror_mode": {
    "name": "ipython",
    "version": 3
   },
   "file_extension": ".py",
   "mimetype": "text/x-python",
   "name": "python",
   "nbconvert_exporter": "python",
   "pygments_lexer": "ipython3",
   "version": "3.7.9"
  }
 },
 "nbformat": 4,
 "nbformat_minor": 4
}
