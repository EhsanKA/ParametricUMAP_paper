{
 "cells": [
  {
   "cell_type": "markdown",
   "metadata": {},
   "source": [
    "load data\n",
    "plot data"
   ]
  },
  {
   "cell_type": "code",
   "execution_count": 1,
   "metadata": {
    "ExecuteTime": {
     "end_time": "2020-08-30T23:51:37.568933Z",
     "start_time": "2020-08-30T23:51:30.776551Z"
    }
   },
   "outputs": [],
   "source": [
    "import numpy as np\n",
    "import pickle\n",
    "import pandas as pd\n",
    "import time\n",
    "from umap import UMAP"
   ]
  },
  {
   "cell_type": "code",
   "execution_count": 2,
   "metadata": {
    "ExecuteTime": {
     "end_time": "2020-08-30T23:51:37.773075Z",
     "start_time": "2020-08-30T23:51:37.570573Z"
    }
   },
   "outputs": [],
   "source": [
    "from tfumap.paths import ensure_dir, MODEL_DIR, DATA_DIR"
   ]
  },
  {
   "cell_type": "code",
   "execution_count": 3,
   "metadata": {
    "ExecuteTime": {
     "end_time": "2020-08-30T23:51:37.776299Z",
     "start_time": "2020-08-30T23:51:37.774386Z"
    }
   },
   "outputs": [],
   "source": [
    "from tfumap.paths import FIGURE_DIR, save_fig"
   ]
  },
  {
   "cell_type": "code",
   "execution_count": 4,
   "metadata": {
    "ExecuteTime": {
     "end_time": "2020-08-30T23:51:37.785761Z",
     "start_time": "2020-08-30T23:51:37.777664Z"
    }
   },
   "outputs": [],
   "source": [
    "save_loc = DATA_DIR / 'knn_classifier' "
   ]
  },
  {
   "cell_type": "code",
   "execution_count": 5,
   "metadata": {
    "ExecuteTime": {
     "end_time": "2020-08-30T23:51:37.795775Z",
     "start_time": "2020-08-30T23:51:37.787243Z"
    }
   },
   "outputs": [],
   "source": [
    "datasets = [\n",
    "    'cassins_dtw',\n",
    "    'cifar10',\n",
    "    'fmnist',\n",
    "    'macosko2015',\n",
    "    'mnist'\n",
    "]"
   ]
  },
  {
   "cell_type": "code",
   "execution_count": 6,
   "metadata": {
    "ExecuteTime": {
     "end_time": "2020-08-30T23:51:37.846111Z",
     "start_time": "2020-08-30T23:51:37.798074Z"
    }
   },
   "outputs": [
    {
     "data": {
      "text/html": [
       "<div>\n",
       "<style scoped>\n",
       "    .dataframe tbody tr th:only-of-type {\n",
       "        vertical-align: middle;\n",
       "    }\n",
       "\n",
       "    .dataframe tbody tr th {\n",
       "        vertical-align: top;\n",
       "    }\n",
       "\n",
       "    .dataframe thead th {\n",
       "        text-align: right;\n",
       "    }\n",
       "</style>\n",
       "<table border=\"1\" class=\"dataframe\">\n",
       "  <thead>\n",
       "    <tr style=\"text-align: right;\">\n",
       "      <th></th>\n",
       "      <th>method_</th>\n",
       "      <th>dimensions</th>\n",
       "      <th>dataset</th>\n",
       "      <th>1NN_acc</th>\n",
       "      <th>5NN_acc</th>\n",
       "    </tr>\n",
       "  </thead>\n",
       "  <tbody>\n",
       "    <tr>\n",
       "      <th>0</th>\n",
       "      <td>network</td>\n",
       "      <td>2</td>\n",
       "      <td>cassins_dtw</td>\n",
       "      <td>0.991</td>\n",
       "      <td>0.995</td>\n",
       "    </tr>\n",
       "    <tr>\n",
       "      <th>1</th>\n",
       "      <td>network</td>\n",
       "      <td>64</td>\n",
       "      <td>cassins_dtw</td>\n",
       "      <td>0.988</td>\n",
       "      <td>0.991</td>\n",
       "    </tr>\n",
       "    <tr>\n",
       "      <th>2</th>\n",
       "      <td>autoencoder</td>\n",
       "      <td>2</td>\n",
       "      <td>cassins_dtw</td>\n",
       "      <td>0.989</td>\n",
       "      <td>0.993</td>\n",
       "    </tr>\n",
       "  </tbody>\n",
       "</table>\n",
       "</div>"
      ],
      "text/plain": [
       "       method_ dimensions      dataset  1NN_acc  5NN_acc\n",
       "0      network          2  cassins_dtw    0.991    0.995\n",
       "1      network         64  cassins_dtw    0.988    0.991\n",
       "2  autoencoder          2  cassins_dtw    0.989    0.993"
      ]
     },
     "execution_count": 6,
     "metadata": {},
     "output_type": "execute_result"
    }
   ],
   "source": [
    "projection_speeds = pd.concat([pd.read_pickle(save_loc / (dataset + '.pickle')) for dataset in datasets])\n",
    "projection_speeds[:3]"
   ]
  },
  {
   "cell_type": "code",
   "execution_count": 7,
   "metadata": {
    "ExecuteTime": {
     "end_time": "2020-08-30T23:51:38.129660Z",
     "start_time": "2020-08-30T23:51:37.847267Z"
    },
    "scrolled": true
   },
   "outputs": [],
   "source": [
    "# load parametric tsne, vae, ae\n",
    "for dataset in datasets:\n",
    "    for n_components in ['2', '64']:\n",
    "        save_loc =  DATA_DIR / 'knn_classifier' / str(n_components) / (dataset + '.pickle')\n",
    "        try:\n",
    "            metric_df = pd.read_pickle(save_loc)\n",
    "            projection_speeds = pd.concat([projection_speeds, metric_df])\n",
    "        except FileNotFoundError:\n",
    "            print(save_loc)\n",
    "            \n",
    "        vae_save_loc = (\n",
    "            DATA_DIR\n",
    "            / \"knn_classifier\"\n",
    "            / 'vae'\n",
    "            / \"train\"\n",
    "            / str(n_components)\n",
    "            / (dataset + \".pickle\")\n",
    "        )\n",
    "        try:\n",
    "            metric_df = pd.read_pickle(vae_save_loc)\n",
    "            # display(metric_df)\n",
    "            projection_speeds = pd.concat([projection_speeds, metric_df])\n",
    "        except FileNotFoundError:\n",
    "            print(vae_save_loc)\n",
    "            \n",
    "        ae_save_loc = (\n",
    "            DATA_DIR\n",
    "            / \"knn_classifier\"\n",
    "            / 'ae_only'\n",
    "            / \"train\"\n",
    "            / str(n_components)\n",
    "            / (dataset + \".pickle\")\n",
    "        )\n",
    "        try:\n",
    "            metric_df = pd.read_pickle(ae_save_loc)\n",
    "            # display(metric_df)\n",
    "            projection_speeds = pd.concat([projection_speeds, metric_df])\n",
    "        except FileNotFoundError:\n",
    "            print(ae_save_loc)"
   ]
  },
  {
   "cell_type": "code",
   "execution_count": 9,
   "metadata": {
    "ExecuteTime": {
     "end_time": "2020-08-30T23:51:43.809028Z",
     "start_time": "2020-08-30T23:51:43.793937Z"
    }
   },
   "outputs": [
    {
     "data": {
      "text/html": [
       "<div>\n",
       "<style scoped>\n",
       "    .dataframe tbody tr th:only-of-type {\n",
       "        vertical-align: middle;\n",
       "    }\n",
       "\n",
       "    .dataframe tbody tr th {\n",
       "        vertical-align: top;\n",
       "    }\n",
       "\n",
       "    .dataframe thead th {\n",
       "        text-align: right;\n",
       "    }\n",
       "</style>\n",
       "<table border=\"1\" class=\"dataframe\">\n",
       "  <thead>\n",
       "    <tr style=\"text-align: right;\">\n",
       "      <th></th>\n",
       "      <th>method_</th>\n",
       "      <th>dimensions</th>\n",
       "      <th>dataset</th>\n",
       "      <th>1NN_acc</th>\n",
       "      <th>5NN_acc</th>\n",
       "    </tr>\n",
       "  </thead>\n",
       "  <tbody>\n",
       "    <tr>\n",
       "      <th>0</th>\n",
       "      <td>network</td>\n",
       "      <td>2</td>\n",
       "      <td>cassins_dtw</td>\n",
       "      <td>0.9910</td>\n",
       "      <td>0.9950</td>\n",
       "    </tr>\n",
       "    <tr>\n",
       "      <th>1</th>\n",
       "      <td>network</td>\n",
       "      <td>64</td>\n",
       "      <td>cassins_dtw</td>\n",
       "      <td>0.9880</td>\n",
       "      <td>0.9910</td>\n",
       "    </tr>\n",
       "    <tr>\n",
       "      <th>2</th>\n",
       "      <td>autoencoder</td>\n",
       "      <td>2</td>\n",
       "      <td>cassins_dtw</td>\n",
       "      <td>0.9890</td>\n",
       "      <td>0.9930</td>\n",
       "    </tr>\n",
       "    <tr>\n",
       "      <th>3</th>\n",
       "      <td>autoencoder</td>\n",
       "      <td>64</td>\n",
       "      <td>cassins_dtw</td>\n",
       "      <td>0.9940</td>\n",
       "      <td>0.9970</td>\n",
       "    </tr>\n",
       "    <tr>\n",
       "      <th>4</th>\n",
       "      <td>umap-learn</td>\n",
       "      <td>2</td>\n",
       "      <td>cassins_dtw</td>\n",
       "      <td>0.9860</td>\n",
       "      <td>0.9890</td>\n",
       "    </tr>\n",
       "    <tr>\n",
       "      <th>...</th>\n",
       "      <td>...</td>\n",
       "      <td>...</td>\n",
       "      <td>...</td>\n",
       "      <td>...</td>\n",
       "      <td>...</td>\n",
       "    </tr>\n",
       "    <tr>\n",
       "      <th>0</th>\n",
       "      <td>vae</td>\n",
       "      <td>2</td>\n",
       "      <td>mnist</td>\n",
       "      <td>0.7241</td>\n",
       "      <td>0.7649</td>\n",
       "    </tr>\n",
       "    <tr>\n",
       "      <th>0</th>\n",
       "      <td>ae_only</td>\n",
       "      <td>2</td>\n",
       "      <td>mnist</td>\n",
       "      <td>0.7647</td>\n",
       "      <td>0.7926</td>\n",
       "    </tr>\n",
       "    <tr>\n",
       "      <th>0</th>\n",
       "      <td>parametric-tsne</td>\n",
       "      <td>64</td>\n",
       "      <td>mnist</td>\n",
       "      <td>0.9697</td>\n",
       "      <td>0.9734</td>\n",
       "    </tr>\n",
       "    <tr>\n",
       "      <th>0</th>\n",
       "      <td>vae</td>\n",
       "      <td>64</td>\n",
       "      <td>mnist</td>\n",
       "      <td>0.9785</td>\n",
       "      <td>0.9791</td>\n",
       "    </tr>\n",
       "    <tr>\n",
       "      <th>0</th>\n",
       "      <td>ae_only</td>\n",
       "      <td>64</td>\n",
       "      <td>mnist</td>\n",
       "      <td>0.9748</td>\n",
       "      <td>0.9758</td>\n",
       "    </tr>\n",
       "  </tbody>\n",
       "</table>\n",
       "<p>75 rows × 5 columns</p>\n",
       "</div>"
      ],
      "text/plain": [
       "            method_ dimensions      dataset  1NN_acc  5NN_acc\n",
       "0           network          2  cassins_dtw   0.9910   0.9950\n",
       "1           network         64  cassins_dtw   0.9880   0.9910\n",
       "2       autoencoder          2  cassins_dtw   0.9890   0.9930\n",
       "3       autoencoder         64  cassins_dtw   0.9940   0.9970\n",
       "4        umap-learn          2  cassins_dtw   0.9860   0.9890\n",
       "..              ...        ...          ...      ...      ...\n",
       "0               vae          2        mnist   0.7241   0.7649\n",
       "0           ae_only          2        mnist   0.7647   0.7926\n",
       "0   parametric-tsne         64        mnist   0.9697   0.9734\n",
       "0               vae         64        mnist   0.9785   0.9791\n",
       "0           ae_only         64        mnist   0.9748   0.9758\n",
       "\n",
       "[75 rows x 5 columns]"
      ]
     },
     "execution_count": 9,
     "metadata": {},
     "output_type": "execute_result"
    }
   ],
   "source": [
    "projection_speeds"
   ]
  },
  {
   "cell_type": "code",
   "execution_count": 12,
   "metadata": {
    "ExecuteTime": {
     "end_time": "2020-08-30T23:52:52.719971Z",
     "start_time": "2020-08-30T23:52:52.691621Z"
    }
   },
   "outputs": [
    {
     "data": {
      "text/html": [
       "<div>\n",
       "<style scoped>\n",
       "    .dataframe tbody tr th:only-of-type {\n",
       "        vertical-align: middle;\n",
       "    }\n",
       "\n",
       "    .dataframe tbody tr th {\n",
       "        vertical-align: top;\n",
       "    }\n",
       "\n",
       "    .dataframe thead th {\n",
       "        text-align: right;\n",
       "    }\n",
       "</style>\n",
       "<table border=\"1\" class=\"dataframe\">\n",
       "  <thead>\n",
       "    <tr style=\"text-align: right;\">\n",
       "      <th></th>\n",
       "      <th>method_</th>\n",
       "      <th>PCA</th>\n",
       "      <th>TSNE</th>\n",
       "      <th>ae_only</th>\n",
       "      <th>autoencoder</th>\n",
       "      <th>network</th>\n",
       "      <th>parametric-tsne</th>\n",
       "      <th>umap-learn</th>\n",
       "      <th>vae</th>\n",
       "    </tr>\n",
       "    <tr>\n",
       "      <th>dataset</th>\n",
       "      <th>dimensions</th>\n",
       "      <th></th>\n",
       "      <th></th>\n",
       "      <th></th>\n",
       "      <th></th>\n",
       "      <th></th>\n",
       "      <th></th>\n",
       "      <th></th>\n",
       "      <th></th>\n",
       "    </tr>\n",
       "  </thead>\n",
       "  <tbody>\n",
       "    <tr>\n",
       "      <th rowspan=\"2\" valign=\"top\">cassins_dtw</th>\n",
       "      <th>2</th>\n",
       "      <td>0.626000</td>\n",
       "      <td>0.988000</td>\n",
       "      <td>0.874000</td>\n",
       "      <td>0.989000</td>\n",
       "      <td>0.991000</td>\n",
       "      <td>0.986000</td>\n",
       "      <td>0.986000</td>\n",
       "      <td>0.730000</td>\n",
       "    </tr>\n",
       "    <tr>\n",
       "      <th>64</th>\n",
       "      <td>0.995000</td>\n",
       "      <td>NaN</td>\n",
       "      <td>0.995000</td>\n",
       "      <td>0.994000</td>\n",
       "      <td>0.988000</td>\n",
       "      <td>0.995000</td>\n",
       "      <td>0.985000</td>\n",
       "      <td>0.980000</td>\n",
       "    </tr>\n",
       "    <tr>\n",
       "      <th rowspan=\"2\" valign=\"top\">cifar10</th>\n",
       "      <th>2</th>\n",
       "      <td>0.143600</td>\n",
       "      <td>0.245700</td>\n",
       "      <td>0.169600</td>\n",
       "      <td>0.159200</td>\n",
       "      <td>0.151200</td>\n",
       "      <td>0.167500</td>\n",
       "      <td>0.168900</td>\n",
       "      <td>0.166500</td>\n",
       "    </tr>\n",
       "    <tr>\n",
       "      <th>64</th>\n",
       "      <td>0.382900</td>\n",
       "      <td>NaN</td>\n",
       "      <td>0.379000</td>\n",
       "      <td>0.222300</td>\n",
       "      <td>0.213900</td>\n",
       "      <td>0.342600</td>\n",
       "      <td>0.237500</td>\n",
       "      <td>0.394900</td>\n",
       "    </tr>\n",
       "    <tr>\n",
       "      <th rowspan=\"2\" valign=\"top\">fmnist</th>\n",
       "      <th>2</th>\n",
       "      <td>0.446700</td>\n",
       "      <td>0.782500</td>\n",
       "      <td>0.681600</td>\n",
       "      <td>0.708300</td>\n",
       "      <td>0.694100</td>\n",
       "      <td>0.683400</td>\n",
       "      <td>0.714400</td>\n",
       "      <td>0.664600</td>\n",
       "    </tr>\n",
       "    <tr>\n",
       "      <th>64</th>\n",
       "      <td>0.839800</td>\n",
       "      <td>NaN</td>\n",
       "      <td>0.867100</td>\n",
       "      <td>0.777200</td>\n",
       "      <td>0.743100</td>\n",
       "      <td>0.830000</td>\n",
       "      <td>0.768200</td>\n",
       "      <td>0.874700</td>\n",
       "    </tr>\n",
       "    <tr>\n",
       "      <th rowspan=\"2\" valign=\"top\">macosko2015</th>\n",
       "      <th>2</th>\n",
       "      <td>0.808525</td>\n",
       "      <td>0.971658</td>\n",
       "      <td>0.942870</td>\n",
       "      <td>0.858067</td>\n",
       "      <td>0.964294</td>\n",
       "      <td>0.966079</td>\n",
       "      <td>0.966525</td>\n",
       "      <td>0.854497</td>\n",
       "    </tr>\n",
       "    <tr>\n",
       "      <th>64</th>\n",
       "      <td>0.975898</td>\n",
       "      <td>NaN</td>\n",
       "      <td>0.975006</td>\n",
       "      <td>0.957599</td>\n",
       "      <td>0.968311</td>\n",
       "      <td>0.977237</td>\n",
       "      <td>0.972104</td>\n",
       "      <td>0.966972</td>\n",
       "    </tr>\n",
       "    <tr>\n",
       "      <th rowspan=\"2\" valign=\"top\">mnist</th>\n",
       "      <th>2</th>\n",
       "      <td>0.376500</td>\n",
       "      <td>0.941100</td>\n",
       "      <td>0.764700</td>\n",
       "      <td>0.940300</td>\n",
       "      <td>0.940200</td>\n",
       "      <td>0.911800</td>\n",
       "      <td>0.931700</td>\n",
       "      <td>0.724100</td>\n",
       "    </tr>\n",
       "    <tr>\n",
       "      <th>64</th>\n",
       "      <td>0.970700</td>\n",
       "      <td>NaN</td>\n",
       "      <td>0.974800</td>\n",
       "      <td>0.948100</td>\n",
       "      <td>0.951800</td>\n",
       "      <td>0.969700</td>\n",
       "      <td>0.944900</td>\n",
       "      <td>0.978500</td>\n",
       "    </tr>\n",
       "  </tbody>\n",
       "</table>\n",
       "</div>"
      ],
      "text/plain": [
       "method_                      PCA      TSNE   ae_only  autoencoder   network  \\\n",
       "dataset     dimensions                                                        \n",
       "cassins_dtw 2           0.626000  0.988000  0.874000     0.989000  0.991000   \n",
       "            64          0.995000       NaN  0.995000     0.994000  0.988000   \n",
       "cifar10     2           0.143600  0.245700  0.169600     0.159200  0.151200   \n",
       "            64          0.382900       NaN  0.379000     0.222300  0.213900   \n",
       "fmnist      2           0.446700  0.782500  0.681600     0.708300  0.694100   \n",
       "            64          0.839800       NaN  0.867100     0.777200  0.743100   \n",
       "macosko2015 2           0.808525  0.971658  0.942870     0.858067  0.964294   \n",
       "            64          0.975898       NaN  0.975006     0.957599  0.968311   \n",
       "mnist       2           0.376500  0.941100  0.764700     0.940300  0.940200   \n",
       "            64          0.970700       NaN  0.974800     0.948100  0.951800   \n",
       "\n",
       "method_                 parametric-tsne  umap-learn       vae  \n",
       "dataset     dimensions                                         \n",
       "cassins_dtw 2                  0.986000    0.986000  0.730000  \n",
       "            64                 0.995000    0.985000  0.980000  \n",
       "cifar10     2                  0.167500    0.168900  0.166500  \n",
       "            64                 0.342600    0.237500  0.394900  \n",
       "fmnist      2                  0.683400    0.714400  0.664600  \n",
       "            64                 0.830000    0.768200  0.874700  \n",
       "macosko2015 2                  0.966079    0.966525  0.854497  \n",
       "            64                 0.977237    0.972104  0.966972  \n",
       "mnist       2                  0.911800    0.931700  0.724100  \n",
       "            64                 0.969700    0.944900  0.978500  "
      ]
     },
     "execution_count": 12,
     "metadata": {},
     "output_type": "execute_result"
    }
   ],
   "source": [
    "metrics_df = projection_speeds[[\"method_\",\"dimensions\",\"dataset\",\"1NN_acc\"]].set_index(['dataset', 'dimensions'])\n",
    "metrics_df = metrics_df.pivot_table(\n",
    "    index=[\"dataset\", \"dimensions\"],\n",
    "    columns=\"method_\",\n",
    "    values=\"1NN_acc\",\n",
    "    aggfunc=\"first\",\n",
    ")\n",
    "metrics_df "
   ]
  },
  {
   "cell_type": "code",
   "execution_count": 14,
   "metadata": {
    "ExecuteTime": {
     "end_time": "2020-08-30T23:53:50.669929Z",
     "start_time": "2020-08-30T23:53:50.666797Z"
    }
   },
   "outputs": [],
   "source": [
    "def can_float(x):\n",
    "    try:\n",
    "        float(x)\n",
    "        if np.isnan(float(x)):\n",
    "            return False\n",
    "        return True\n",
    "    except:\n",
    "        return False"
   ]
  },
  {
   "cell_type": "code",
   "execution_count": 15,
   "metadata": {
    "ExecuteTime": {
     "end_time": "2020-08-30T23:53:50.817177Z",
     "start_time": "2020-08-30T23:53:50.784342Z"
    }
   },
   "outputs": [],
   "source": [
    "metric_string = (\n",
    "    metrics_df[[\"TSNE\", 'parametric-tsne', \"umap-learn\", \"network\", \"autoencoder\", \"ae_only\", \"vae\", \"PCA\"]]\n",
    "    .round(4)\n",
    "    .to_latex()\n",
    "    .replace(\"cassins\\_dtw\", \"Cassin's\")\n",
    "    .replace(\"cifar10\", \"CIFAR10\")\n",
    "    .replace(\"fmnist\", \"FMNIST\")\n",
    "    .replace(\"mnist\", \"MNIST\")\n",
    "    .replace(\"macosko2015\", \"Retina\")\n",
    "    .replace(\"autoencoder\", \"UMAP/AE\")\n",
    "    .replace(\"ae\\_only\", \"AE\")\n",
    "    .replace(\"network\", \"P. UMAP\")\n",
    "    .replace(\"umap-learn\", \"UMAP\")\n",
    "    .replace(\"vae\", \"VAE\")\n",
    "    .replace(\"pca\", \"PCA\")\n",
    "    .replace(\"parametric-tsne\", \"P. t-SNE\")\n",
    "    .replace(\"TSNE\", \"t-SNE\")\n",
    "    .replace(\"NaN\", \"-\")\n",
    ")"
   ]
  },
  {
   "cell_type": "code",
   "execution_count": 16,
   "metadata": {
    "ExecuteTime": {
     "end_time": "2020-08-30T23:53:54.544592Z",
     "start_time": "2020-08-30T23:53:54.532304Z"
    }
   },
   "outputs": [
    {
     "name": "stdout",
     "output_type": "stream",
     "text": [
      "\\begin{tabular}{llrrrrrrrr}\n",
      "\\toprule\n",
      "      & method\\_ &    t-SNE &  P. t-SNE &  UMAP &  P. UMAP &  UMAP/AE &  AE &     VAE &     PCA \\\\\n",
      "dataset & dimensions &         &                  &             &          &              &          &         &         \\\\\n",
      "\\midrule\n",
      "Cassin's & 2  &  0.9880 &           0.9860 &      0.9860 &   \\textbf{0.9910} &       0.9890 &   0.8740 &  0.7300 &  0.6260 \\\\\n",
      "      & 64 &     - &           \\textbf{0.9950} &      0.9850 &   0.9880 &       0.9940 &   0.9950 &  0.9800 &  0.9950 \\\\\n",
      "CIFAR10 & 2  &  \\textbf{0.2457} &           0.1675 &      0.1689 &   0.1512 &       0.1592 &   0.1696 &  0.1665 &  0.1436 \\\\\n",
      "      & 64 &     - &           0.3426 &      0.2375 &   0.2139 &       0.2223 &   0.3790 &  \\textbf{0.3949} &  0.3829 \\\\\n",
      "FMNIST & 2  &  \\textbf{0.7825} &           0.6834 &      0.7144 &   0.6941 &       0.7083 &   0.6816 &  0.6646 &  0.4467 \\\\\n",
      "      & 64 &     - &           0.8300 &      0.7682 &   0.7431 &       0.7772 &   0.8671 &  \\textbf{0.8747} &  0.8398 \\\\\n",
      "Retina & 2  &  \\textbf{0.9717} &           0.9661 &      0.9665 &   0.9643 &       0.8581 &   0.9429 &  0.8545 &  0.8085 \\\\\n",
      "      & 64 &     - &           \\textbf{0.9772} &      0.9721 &   0.9683 &       0.9576 &   0.9750 &  0.9670 &  0.9759 \\\\\n",
      "MNIST & 2  &  \\textbf{0.9411} &           0.9118 &      0.9317 &   0.9402 &       0.9403 &   0.7647 &  0.7241 &  0.3765 \\\\\n",
      "      & 64 &     - &           0.9697 &      0.9449 &   0.9518 &       0.9481 &   0.9748 &  \\textbf{0.9785} &  0.9707 \\\\\n",
      "\\bottomrule\n",
      "\\end{tabular}\n",
      "\n"
     ]
    }
   ],
   "source": [
    "lines = metric_string.split('\\n')\n",
    "skip = 1\n",
    "for line in lines:\n",
    "    line_elements = line.split(' ')\n",
    "    floatables = [can_float(le) for (le) in line_elements]\n",
    "    floats = [float(j) for i, j in zip(floatables, line_elements) if i]\n",
    "    if len(floats)> 1:\n",
    "        best = np.argmax(floats[skip:])\n",
    "        replace_element = np.where(floatables)[0][skip + best]\n",
    "        line_elements[replace_element] = '\\\\textbf{' +line_elements[replace_element]+ '}'\n",
    "    print(' '.join(line_elements))"
   ]
  },
  {
   "cell_type": "code",
   "execution_count": 18,
   "metadata": {
    "ExecuteTime": {
     "end_time": "2020-08-30T23:58:33.841823Z",
     "start_time": "2020-08-30T23:58:33.805860Z"
    }
   },
   "outputs": [
    {
     "name": "stdout",
     "output_type": "stream",
     "text": [
      "\\begin{tabular}{llrrrrrrrr}\n",
      "\\toprule\n",
      "      & method\\_ &    t-SNE &  P. t-SNE &  UMAP &  P. UMAP &  UMAP/AE &  AE &     VAE &     PCA \\\\\n",
      "dataset & dimensions &         &                  &             &          &              &          &         &         \\\\\n",
      "\\midrule\n",
      "Cassin's & 2  &  0.9910 &           0.9930 &      0.9890 &   \\textbf{0.9950} &       0.9930 &   0.9090 &  0.7740 &  0.6910 \\\\\n",
      "      & 64 &     - &           0.9950 &      0.9860 &   0.9910 &       \\textbf{0.9970} &   0.9930 &  0.9880 &  0.9920 \\\\\n",
      "CIFAR10 & 2  &  \\textbf{0.2608} &           0.2017 &      0.1936 &   0.1722 &       0.1833 &   0.2007 &  0.1941 &  0.1503 \\\\\n",
      "      & 64 &     - &           0.3556 &      0.2694 &   0.2519 &       0.2477 &   0.3728 &  \\textbf{0.3777} &  0.3769 \\\\\n",
      "FMNIST & 2  &  \\textbf{0.8039} &           0.7361 &      0.7608 &   0.7407 &       0.7561 &   0.7339 &  0.7161 &  0.5055 \\\\\n",
      "      & 64 &     - &           0.8479 &      0.8059 &   0.7878 &       0.8028 &   0.8756 &  \\textbf{0.8830} &  0.8568 \\\\\n",
      "Retina & 2  &  \\textbf{0.9795} &           0.9766 &      0.9792 &   0.9761 &       0.8933 &   0.9647 &  0.8795 &  0.8429 \\\\\n",
      "      & 64 &     - &           0.9813 &      0.9801 &   0.9748 &       0.9661 &   \\textbf{0.9817} &  0.9770 &  0.9806 \\\\\n",
      "MNIST & 2  &  0.9502 &           0.9378 &      0.9544 &   \\textbf{0.9614} &       0.9537 &   0.7926 &  0.7649 &  0.4201 \\\\\n",
      "      & 64 &     - &           0.9734 &      0.9538 &   0.9680 &       0.9654 &   0.9758 &  \\textbf{0.9791} &  0.9727 \\\\\n",
      "\\bottomrule\n",
      "\\end{tabular}\n",
      "\n"
     ]
    }
   ],
   "source": [
    "metrics_df = projection_speeds[[\"method_\",\"dimensions\",\"dataset\",\"5NN_acc\"]].set_index(['dataset', 'dimensions'])\n",
    "metrics_df = metrics_df.pivot_table(\n",
    "    index=[\"dataset\", \"dimensions\"],\n",
    "    columns=\"method_\",\n",
    "    values=\"5NN_acc\",\n",
    "    aggfunc=\"first\",\n",
    ")\n",
    "\n",
    "\n",
    "metric_string = (\n",
    "    metrics_df[[\"TSNE\", 'parametric-tsne', \"umap-learn\", \"network\", \"autoencoder\", \"ae_only\", \"vae\", \"PCA\"]]\n",
    "    .round(4)\n",
    "    .to_latex()\n",
    "    .replace(\"cassins\\_dtw\", \"Cassin's\")\n",
    "    .replace(\"cifar10\", \"CIFAR10\")\n",
    "    .replace(\"fmnist\", \"FMNIST\")\n",
    "    .replace(\"mnist\", \"MNIST\")\n",
    "    .replace(\"macosko2015\", \"Retina\")\n",
    "    .replace(\"autoencoder\", \"UMAP/AE\")\n",
    "    .replace(\"ae\\_only\", \"AE\")\n",
    "    .replace(\"network\", \"P. UMAP\")\n",
    "    .replace(\"umap-learn\", \"UMAP\")\n",
    "    .replace(\"vae\", \"VAE\")\n",
    "    .replace(\"pca\", \"PCA\")\n",
    "    .replace(\"parametric-tsne\", \"P. t-SNE\")\n",
    "    .replace(\"TSNE\", \"t-SNE\")\n",
    "    .replace(\"NaN\", \"-\")\n",
    ")\n",
    "\n",
    "lines = metric_string.split('\\n')\n",
    "skip = 1\n",
    "for line in lines:\n",
    "    line_elements = line.split(' ')\n",
    "    floatables = [can_float(le) for (le) in line_elements]\n",
    "    floats = [float(j) for i, j in zip(floatables, line_elements) if i]\n",
    "    if len(floats)> 1:\n",
    "        best = np.argmax(floats[skip:])\n",
    "        replace_element = np.where(floatables)[0][skip + best]\n",
    "        line_elements[replace_element] = '\\\\textbf{' +line_elements[replace_element]+ '}'\n",
    "    print(' '.join(line_elements))"
   ]
  },
  {
   "cell_type": "code",
   "execution_count": null,
   "metadata": {},
   "outputs": [],
   "source": []
  }
 ],
 "metadata": {
  "kernelspec": {
   "display_name": "Python 3",
   "language": "python",
   "name": "python3"
  },
  "language_info": {
   "codemirror_mode": {
    "name": "ipython",
    "version": 3
   },
   "file_extension": ".py",
   "mimetype": "text/x-python",
   "name": "python",
   "nbconvert_exporter": "python",
   "pygments_lexer": "ipython3",
   "version": "3.6.7"
  }
 },
 "nbformat": 4,
 "nbformat_minor": 2
}
