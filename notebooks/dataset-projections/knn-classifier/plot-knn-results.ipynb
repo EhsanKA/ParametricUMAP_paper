{
 "cells": [
  {
   "cell_type": "markdown",
   "metadata": {},
   "source": [
    "load data\n",
    "plot data"
   ]
  },
  {
   "cell_type": "code",
   "execution_count": 1,
   "metadata": {
    "ExecuteTime": {
     "end_time": "2020-07-17T07:26:08.370562Z",
     "start_time": "2020-07-17T07:26:03.105446Z"
    }
   },
   "outputs": [],
   "source": [
    "import numpy as np\n",
    "import pickle\n",
    "import pandas as pd\n",
    "import time\n",
    "from umap import UMAP"
   ]
  },
  {
   "cell_type": "code",
   "execution_count": 2,
   "metadata": {
    "ExecuteTime": {
     "end_time": "2020-07-17T07:26:08.498213Z",
     "start_time": "2020-07-17T07:26:08.371905Z"
    }
   },
   "outputs": [],
   "source": [
    "from tfumap.paths import ensure_dir, MODEL_DIR, DATA_DIR"
   ]
  },
  {
   "cell_type": "code",
   "execution_count": 3,
   "metadata": {
    "ExecuteTime": {
     "end_time": "2020-07-17T07:26:08.501526Z",
     "start_time": "2020-07-17T07:26:08.499386Z"
    }
   },
   "outputs": [],
   "source": [
    "from tfumap.paths import FIGURE_DIR, save_fig"
   ]
  },
  {
   "cell_type": "code",
   "execution_count": 4,
   "metadata": {
    "ExecuteTime": {
     "end_time": "2020-07-17T07:26:08.511828Z",
     "start_time": "2020-07-17T07:26:08.502417Z"
    }
   },
   "outputs": [],
   "source": [
    "save_loc = DATA_DIR / 'knn_classifier' "
   ]
  },
  {
   "cell_type": "code",
   "execution_count": 5,
   "metadata": {
    "ExecuteTime": {
     "end_time": "2020-07-17T07:26:08.521870Z",
     "start_time": "2020-07-17T07:26:08.513768Z"
    }
   },
   "outputs": [],
   "source": [
    "datasets = [\n",
    "    'cassins_dtw',\n",
    "    'cifar10',\n",
    "    'fmnist',\n",
    "    'macosko2015',\n",
    "    'mnist'\n",
    "]"
   ]
  },
  {
   "cell_type": "code",
   "execution_count": 6,
   "metadata": {
    "ExecuteTime": {
     "end_time": "2020-07-17T07:26:08.559149Z",
     "start_time": "2020-07-17T07:26:08.523146Z"
    }
   },
   "outputs": [
    {
     "data": {
      "text/html": [
       "<div>\n",
       "<style scoped>\n",
       "    .dataframe tbody tr th:only-of-type {\n",
       "        vertical-align: middle;\n",
       "    }\n",
       "\n",
       "    .dataframe tbody tr th {\n",
       "        vertical-align: top;\n",
       "    }\n",
       "\n",
       "    .dataframe thead th {\n",
       "        text-align: right;\n",
       "    }\n",
       "</style>\n",
       "<table border=\"1\" class=\"dataframe\">\n",
       "  <thead>\n",
       "    <tr style=\"text-align: right;\">\n",
       "      <th></th>\n",
       "      <th>method_</th>\n",
       "      <th>dimensions</th>\n",
       "      <th>dataset</th>\n",
       "      <th>1NN_acc</th>\n",
       "      <th>5NN_acc</th>\n",
       "    </tr>\n",
       "  </thead>\n",
       "  <tbody>\n",
       "    <tr>\n",
       "      <th>0</th>\n",
       "      <td>network</td>\n",
       "      <td>2</td>\n",
       "      <td>cassins_dtw</td>\n",
       "      <td>0.991</td>\n",
       "      <td>0.995</td>\n",
       "    </tr>\n",
       "    <tr>\n",
       "      <th>1</th>\n",
       "      <td>network</td>\n",
       "      <td>64</td>\n",
       "      <td>cassins_dtw</td>\n",
       "      <td>0.988</td>\n",
       "      <td>0.991</td>\n",
       "    </tr>\n",
       "    <tr>\n",
       "      <th>2</th>\n",
       "      <td>autoencoder</td>\n",
       "      <td>2</td>\n",
       "      <td>cassins_dtw</td>\n",
       "      <td>0.989</td>\n",
       "      <td>0.993</td>\n",
       "    </tr>\n",
       "  </tbody>\n",
       "</table>\n",
       "</div>"
      ],
      "text/plain": [
       "       method_ dimensions      dataset  1NN_acc  5NN_acc\n",
       "0      network          2  cassins_dtw    0.991    0.995\n",
       "1      network         64  cassins_dtw    0.988    0.991\n",
       "2  autoencoder          2  cassins_dtw    0.989    0.993"
      ]
     },
     "execution_count": 6,
     "metadata": {},
     "output_type": "execute_result"
    }
   ],
   "source": [
    "projection_speeds = pd.concat([pd.read_pickle(save_loc / (dataset + '.pickle')) for dataset in datasets])\n",
    "projection_speeds[:3]"
   ]
  },
  {
   "cell_type": "code",
   "execution_count": 91,
   "metadata": {
    "ExecuteTime": {
     "end_time": "2020-07-17T16:58:57.979735Z",
     "start_time": "2020-07-17T16:58:57.929057Z"
    }
   },
   "outputs": [
    {
     "data": {
      "image/png": "[encoded data removed]",
      "text/plain": [
       "<Figure size 360x72 with 1 Axes>"
      ]
     },
     "metadata": {
      "needs_background": "light"
     },
     "output_type": "display_data"
    }
   ],
   "source": [
    "import seaborn as sns\n",
    "\n",
    "palette = (\n",
    "    sns.color_palette(\"Blues\", 5)[2:]\n",
    "    + sns.color_palette(\"Greens\", 1)\n",
    "    + sns.color_palette(\"Reds\", 1)\n",
    ")\n",
    "palette = [palette[-1]] + palette[:-1]\n",
    "sns.palplot(palette)"
   ]
  },
  {
   "cell_type": "markdown",
   "metadata": {},
   "source": [
    "### K=1"
   ]
  },
  {
   "cell_type": "code",
   "execution_count": 132,
   "metadata": {
    "ExecuteTime": {
     "end_time": "2020-07-17T17:24:09.802534Z",
     "start_time": "2020-07-17T17:24:08.861260Z"
    }
   },
   "outputs": [
    {
     "data": {
      "image/png": "[encoded data removed]",
      "text/plain": [
       "<Figure size 729x180 with 2 Axes>"
      ]
     },
     "metadata": {
      "needs_background": "light"
     },
     "output_type": "display_data"
    }
   ],
   "source": [
    "median_df = (\n",
    "    projection_speeds[[\"method_\", \"dimensions\", \"dataset\", \"1NN_acc\"]]\n",
    "    .groupby([\"method_\", \"dimensions\", \"dataset\"])\n",
    "    .median()\n",
    ")\n",
    "median_df = median_df.T.melt()\n",
    "median_df[\"value\"]*=100\n",
    "median_df[\"error\"] = 100 - median_df[\"value\"]\n",
    "fg = sns.catplot(\n",
    "    x=\"dataset\",\n",
    "    y=\"value\",\n",
    "    hue=\"method_\",\n",
    "    hue_order=[\"TSNE\", \"umap-learn\", \"network\", \"autoencoder\", \"PCA\"],\n",
    "    order=[\"mnist\", \"fmnist\", \"macosko2015\", \"cassins_dtw\", \"cifar10\"],\n",
    "    col=\"dimensions\",\n",
    "    height=2.5,\n",
    "    aspect=1.75,\n",
    "    data=median_df,\n",
    "    kind=\"bar\",\n",
    "    palette=palette,\n",
    "    # legend=False\n",
    ")\n",
    "(\n",
    "    fg.despine(bottom=True)\n",
    "    .set_xticklabels([\"MNIST\", \"FMNIST\", \"Retina\", \"Cassin's\", \"CIFAR10\"])\n",
    "    .set_axis_labels(\"\", \"Accuracy\")\n",
    ")\n",
    "ax = fg.axes[0][0]\n",
    "ax.tick_params(axis=u\"both\", which=u\"both\", length=0)\n",
    "fg._legend._legend_title_box._text.set_text(\"\")\n",
    "fg._legend.texts[\n",
    "    np.where((np.array([i._text for i in fg._legend.texts]) == \"umap-learn\"))[0][0]\n",
    "].set_text(\"UMAP-learn\")\n",
    "fg._legend.texts[\n",
    "    np.where((np.array([i._text for i in fg._legend.texts]) == \"network\"))[0][0]\n",
    "].set_text(\"P. UMAP\")\n",
    "fg._legend.texts[\n",
    "    np.where((np.array([i._text for i in fg._legend.texts]) == \"autoencoder\"))[0][0]\n",
    "].set_text(\"UMAP AE\")\n",
    "# fg._legend.texts[np.where((np.array([i._text for i in fg._legend.texts]) == 'pca'))[0][0]].set_text('PCA')\n",
    "# fg._legend.texts[3].set_text(\"PCA\")\n",
    "# ax.set_ylim([1e-10,1e-3])\n",
    "# ax.set_yscale('log')\n",
    "# fg._legend.texts[2].set_text(\"Param. UMAP\")\n",
    "\n",
    "ax.set_title(\"2 Dimensions\")\n",
    "ax = fg.axes[0][1]\n",
    "ax.tick_params(axis=u\"both\", which=u\"both\", length=0)\n",
    "\n",
    "ax.set_title(\"64 Dimensions\")\n",
    "# ax.set_yscale('log')\n",
    "\n",
    "save_fig(FIGURE_DIR/'1nn_acc_results', save_pdf=True, dpi=300, pad_inches=0.1)"
   ]
  },
  {
   "cell_type": "code",
   "execution_count": 124,
   "metadata": {
    "ExecuteTime": {
     "end_time": "2020-07-17T17:20:32.215537Z",
     "start_time": "2020-07-17T17:20:31.539748Z"
    }
   },
   "outputs": [
    {
     "data": {
      "text/plain": [
       "Text(0.5, 1, '64 Dimensions')"
      ]
     },
     "execution_count": 124,
     "metadata": {},
     "output_type": "execute_result"
    },
    {
     "data": {
      "image/png": "[encoded data removed]",
      "text/plain": [
       "<Figure size 729x180 with 2 Axes>"
      ]
     },
     "metadata": {
      "needs_background": "light"
     },
     "output_type": "display_data"
    }
   ],
   "source": [
    "fg = sns.catplot(\n",
    "    x=\"dataset\",\n",
    "    y=\"error\",\n",
    "    hue=\"method_\",\n",
    "    hue_order=[\"TSNE\",\"umap-learn\", \"network\", \"autoencoder\",  \"PCA\"],\n",
    "    order = ['mnist', 'fmnist', 'macosko2015', 'cassins_dtw', 'cifar10'],\n",
    "    col=\"dimensions\",\n",
    "    height=2.5, \n",
    "    aspect=1.75,\n",
    "    data=median_df,\n",
    "    kind=\"bar\",\n",
    "    palette=palette,\n",
    "    #legend=False\n",
    ")\n",
    "(fg.despine(bottom=True)\n",
    " .set_xticklabels(['MNIST', 'FMNIST', 'Retina', 'Cassin\\'s', 'CIFAR10'])\n",
    " .set_axis_labels(\"\", \"Error\")\n",
    ")\n",
    "ax = fg.axes[0][0]\n",
    "ax.tick_params(axis=u'both', which=u'both',length=0)\n",
    "fg._legend._legend_title_box._text.set_text(\"\")\n",
    "fg._legend.texts[np.where((np.array([i._text for i in fg._legend.texts]) == 'umap-learn'))[0][0]].set_text('UMAP-learn')\n",
    "fg._legend.texts[np.where((np.array([i._text for i in fg._legend.texts]) == 'network'))[0][0]].set_text('P. UMAP')\n",
    "fg._legend.texts[np.where((np.array([i._text for i in fg._legend.texts]) == 'autoencoder'))[0][0]].set_text('UMAP AE')\n",
    "ax.set_ylim([1e-1,100])\n",
    "ax.set_yscale('log')\n",
    "#fg._legend.texts[2].set_text(\"Param. UMAP\")\n",
    "\n",
    "ax.set_title('2 Dimensions')\n",
    "ax = fg.axes[0][1]\n",
    "ax.tick_params(axis=u'both', which=u'both',length=0)\n",
    "\n",
    "ax.set_title('64 Dimensions')\n",
    "#ax.set_yscale('log')\n",
    "\n",
    "#save_fig(FIGURE_DIR/'knn_classifier_results', save_pdf=True, dpi=300, pad_inches=0.1)"
   ]
  },
  {
   "cell_type": "markdown",
   "metadata": {},
   "source": [
    "### K = 5"
   ]
  },
  {
   "cell_type": "code",
   "execution_count": 133,
   "metadata": {
    "ExecuteTime": {
     "end_time": "2020-07-17T17:24:19.981515Z",
     "start_time": "2020-07-17T17:24:19.100359Z"
    }
   },
   "outputs": [
    {
     "data": {
      "image/png": "[encoded data removed]",
      "text/plain": [
       "<Figure size 729x180 with 2 Axes>"
      ]
     },
     "metadata": {
      "needs_background": "light"
     },
     "output_type": "display_data"
    }
   ],
   "source": [
    "median_df = (\n",
    "    projection_speeds[[\"method_\", \"dimensions\", \"dataset\", \"5NN_acc\"]]\n",
    "    .groupby([\"method_\", \"dimensions\", \"dataset\"])\n",
    "    .median()\n",
    ")\n",
    "median_df = median_df.T.melt()\n",
    "median_df[\"value\"]*=100\n",
    "median_df[\"error\"] = 100 - median_df[\"value\"]\n",
    "fg = sns.catplot(\n",
    "    x=\"dataset\",\n",
    "    y=\"value\",\n",
    "    hue=\"method_\",\n",
    "    hue_order=[\"TSNE\", \"umap-learn\", \"network\", \"autoencoder\", \"PCA\"],\n",
    "    order=[\"mnist\", \"fmnist\", \"macosko2015\", \"cassins_dtw\", \"cifar10\"],\n",
    "    col=\"dimensions\",\n",
    "    height=2.5,\n",
    "    aspect=1.75,\n",
    "    data=median_df,\n",
    "    kind=\"bar\",\n",
    "    palette=palette,\n",
    "    # legend=False\n",
    ")\n",
    "(\n",
    "    fg.despine(bottom=True)\n",
    "    .set_xticklabels([\"MNIST\", \"FMNIST\", \"Retina\", \"Cassin's\", \"CIFAR10\"])\n",
    "    .set_axis_labels(\"\", \"Accuracy\")\n",
    ")\n",
    "ax = fg.axes[0][0]\n",
    "ax.tick_params(axis=u\"both\", which=u\"both\", length=0)\n",
    "fg._legend._legend_title_box._text.set_text(\"\")\n",
    "fg._legend.texts[\n",
    "    np.where((np.array([i._text for i in fg._legend.texts]) == \"umap-learn\"))[0][0]\n",
    "].set_text(\"UMAP-learn\")\n",
    "fg._legend.texts[\n",
    "    np.where((np.array([i._text for i in fg._legend.texts]) == \"network\"))[0][0]\n",
    "].set_text(\"P. UMAP\")\n",
    "fg._legend.texts[\n",
    "    np.where((np.array([i._text for i in fg._legend.texts]) == \"autoencoder\"))[0][0]\n",
    "].set_text(\"UMAP AE\")\n",
    "# fg._legend.texts[np.where((np.array([i._text for i in fg._legend.texts]) == 'pca'))[0][0]].set_text('PCA')\n",
    "# fg._legend.texts[3].set_text(\"PCA\")\n",
    "# ax.set_ylim([1e-10,1e-3])\n",
    "# ax.set_yscale('log')\n",
    "# fg._legend.texts[2].set_text(\"Param. UMAP\")\n",
    "\n",
    "ax.set_title(\"2 Dimensions\")\n",
    "ax = fg.axes[0][1]\n",
    "ax.tick_params(axis=u\"both\", which=u\"both\", length=0)\n",
    "\n",
    "ax.set_title(\"64 Dimensions\")\n",
    "# ax.set_yscale('log')\n",
    "\n",
    "save_fig(FIGURE_DIR/'5nn_acc_results', save_pdf=True, dpi=300, pad_inches=0.1)"
   ]
  },
  {
   "cell_type": "code",
   "execution_count": 131,
   "metadata": {
    "ExecuteTime": {
     "end_time": "2020-07-17T17:21:29.119367Z",
     "start_time": "2020-07-17T17:21:28.456808Z"
    }
   },
   "outputs": [
    {
     "data": {
      "text/plain": [
       "Text(0.5, 1, '64 Dimensions')"
      ]
     },
     "execution_count": 131,
     "metadata": {},
     "output_type": "execute_result"
    },
    {
     "data": {
      "image/png": "[encoded data removed]",
      "text/plain": [
       "<Figure size 729x180 with 2 Axes>"
      ]
     },
     "metadata": {
      "needs_background": "light"
     },
     "output_type": "display_data"
    }
   ],
   "source": [
    "fg = sns.catplot(\n",
    "    x=\"dataset\",\n",
    "    y=\"error\",\n",
    "    hue=\"method_\",\n",
    "    hue_order=[\"TSNE\",\"umap-learn\", \"network\", \"autoencoder\",  \"PCA\"],\n",
    "    order = ['mnist', 'fmnist', 'macosko2015', 'cassins_dtw', 'cifar10'],\n",
    "    col=\"dimensions\",\n",
    "    height=2.5, \n",
    "    aspect=1.75,\n",
    "    data=median_df,\n",
    "    kind=\"bar\",\n",
    "    palette=palette,\n",
    "    #legend=False\n",
    ")\n",
    "(fg.despine(bottom=True)\n",
    " .set_xticklabels(['MNIST', 'FMNIST', 'Retina', 'Cassin\\'s', 'CIFAR10'])\n",
    " .set_axis_labels(\"\", \"Error\")\n",
    ")\n",
    "ax = fg.axes[0][0]\n",
    "ax.tick_params(axis=u'both', which=u'both',length=0)\n",
    "fg._legend._legend_title_box._text.set_text(\"\")\n",
    "fg._legend.texts[np.where((np.array([i._text for i in fg._legend.texts]) == 'umap-learn'))[0][0]].set_text('UMAP-learn')\n",
    "fg._legend.texts[np.where((np.array([i._text for i in fg._legend.texts]) == 'network'))[0][0]].set_text('P. UMAP')\n",
    "fg._legend.texts[np.where((np.array([i._text for i in fg._legend.texts]) == 'autoencoder'))[0][0]].set_text('UMAP AE')\n",
    "ax.set_ylim([1e-1,100])\n",
    "ax.set_yscale('log')\n",
    "#fg._legend.texts[2].set_text(\"Param. UMAP\")\n",
    "\n",
    "ax.set_title('2 Dimensions')\n",
    "ax = fg.axes[0][1]\n",
    "ax.tick_params(axis=u'both', which=u'both',length=0)\n",
    "\n",
    "ax.set_title('64 Dimensions')\n",
    "#ax.set_yscale('log')\n",
    "\n",
    "#save_fig(FIGURE_DIR/'knn_classifier_results', save_pdf=True, dpi=300, pad_inches=0.1)"
   ]
  },
  {
   "cell_type": "code",
   "execution_count": 11,
   "metadata": {
    "ExecuteTime": {
     "end_time": "2020-07-17T07:26:09.602982Z",
     "start_time": "2020-07-17T07:26:09.600649Z"
    }
   },
   "outputs": [],
   "source": [
    "# 2 AMD EPYC Rome 7252 8-Core 3.1 GHz  processors "
   ]
  },
  {
   "cell_type": "markdown",
   "metadata": {
    "ExecuteTime": {
     "end_time": "2020-07-17T07:26:09.613364Z",
     "start_time": "2020-07-17T07:26:09.604214Z"
    }
   },
   "source": [
    "### Make latex table"
   ]
  },
  {
   "cell_type": "code",
   "execution_count": 38,
   "metadata": {
    "ExecuteTime": {
     "end_time": "2020-07-17T16:29:18.235042Z",
     "start_time": "2020-07-17T16:29:18.222851Z"
    }
   },
   "outputs": [
    {
     "data": {
      "text/html": [
       "<div>\n",
       "<style scoped>\n",
       "    .dataframe tbody tr th:only-of-type {\n",
       "        vertical-align: middle;\n",
       "    }\n",
       "\n",
       "    .dataframe tbody tr th {\n",
       "        vertical-align: top;\n",
       "    }\n",
       "\n",
       "    .dataframe thead th {\n",
       "        text-align: right;\n",
       "    }\n",
       "</style>\n",
       "<table border=\"1\" class=\"dataframe\">\n",
       "  <thead>\n",
       "    <tr style=\"text-align: right;\">\n",
       "      <th></th>\n",
       "      <th>method_</th>\n",
       "      <th>dimensions</th>\n",
       "      <th>dataset</th>\n",
       "      <th>1NN_acc</th>\n",
       "      <th>5NN_acc</th>\n",
       "    </tr>\n",
       "  </thead>\n",
       "  <tbody>\n",
       "    <tr>\n",
       "      <th>0</th>\n",
       "      <td>network</td>\n",
       "      <td>2</td>\n",
       "      <td>cassins_dtw</td>\n",
       "      <td>0.991</td>\n",
       "      <td>0.995</td>\n",
       "    </tr>\n",
       "    <tr>\n",
       "      <th>1</th>\n",
       "      <td>network</td>\n",
       "      <td>64</td>\n",
       "      <td>cassins_dtw</td>\n",
       "      <td>0.988</td>\n",
       "      <td>0.991</td>\n",
       "    </tr>\n",
       "    <tr>\n",
       "      <th>2</th>\n",
       "      <td>autoencoder</td>\n",
       "      <td>2</td>\n",
       "      <td>cassins_dtw</td>\n",
       "      <td>0.989</td>\n",
       "      <td>0.993</td>\n",
       "    </tr>\n",
       "  </tbody>\n",
       "</table>\n",
       "</div>"
      ],
      "text/plain": [
       "       method_ dimensions      dataset  1NN_acc  5NN_acc\n",
       "0      network          2  cassins_dtw    0.991    0.995\n",
       "1      network         64  cassins_dtw    0.988    0.991\n",
       "2  autoencoder          2  cassins_dtw    0.989    0.993"
      ]
     },
     "execution_count": 38,
     "metadata": {},
     "output_type": "execute_result"
    }
   ],
   "source": [
    "projection_speeds[:3]"
   ]
  },
  {
   "cell_type": "code",
   "execution_count": 45,
   "metadata": {
    "ExecuteTime": {
     "end_time": "2020-07-17T16:35:19.730596Z",
     "start_time": "2020-07-17T16:35:19.706510Z"
    }
   },
   "outputs": [
    {
     "data": {
      "text/html": [
       "<div>\n",
       "<style scoped>\n",
       "    .dataframe tbody tr th:only-of-type {\n",
       "        vertical-align: middle;\n",
       "    }\n",
       "\n",
       "    .dataframe tbody tr th {\n",
       "        vertical-align: top;\n",
       "    }\n",
       "\n",
       "    .dataframe thead th {\n",
       "        text-align: right;\n",
       "    }\n",
       "</style>\n",
       "<table border=\"1\" class=\"dataframe\">\n",
       "  <thead>\n",
       "    <tr style=\"text-align: right;\">\n",
       "      <th></th>\n",
       "      <th>method_</th>\n",
       "      <th>dimensions</th>\n",
       "      <th>dataset</th>\n",
       "      <th>metric</th>\n",
       "      <th>value</th>\n",
       "    </tr>\n",
       "  </thead>\n",
       "  <tbody>\n",
       "    <tr>\n",
       "      <th>0</th>\n",
       "      <td>network</td>\n",
       "      <td>2</td>\n",
       "      <td>cassins_dtw</td>\n",
       "      <td>1NN_acc</td>\n",
       "      <td>0.9910</td>\n",
       "    </tr>\n",
       "    <tr>\n",
       "      <th>1</th>\n",
       "      <td>network</td>\n",
       "      <td>64</td>\n",
       "      <td>cassins_dtw</td>\n",
       "      <td>1NN_acc</td>\n",
       "      <td>0.9880</td>\n",
       "    </tr>\n",
       "    <tr>\n",
       "      <th>2</th>\n",
       "      <td>autoencoder</td>\n",
       "      <td>2</td>\n",
       "      <td>cassins_dtw</td>\n",
       "      <td>1NN_acc</td>\n",
       "      <td>0.9890</td>\n",
       "    </tr>\n",
       "    <tr>\n",
       "      <th>3</th>\n",
       "      <td>autoencoder</td>\n",
       "      <td>64</td>\n",
       "      <td>cassins_dtw</td>\n",
       "      <td>1NN_acc</td>\n",
       "      <td>0.9940</td>\n",
       "    </tr>\n",
       "    <tr>\n",
       "      <th>4</th>\n",
       "      <td>umap-learn</td>\n",
       "      <td>2</td>\n",
       "      <td>cassins_dtw</td>\n",
       "      <td>1NN_acc</td>\n",
       "      <td>0.9860</td>\n",
       "    </tr>\n",
       "    <tr>\n",
       "      <th>...</th>\n",
       "      <td>...</td>\n",
       "      <td>...</td>\n",
       "      <td>...</td>\n",
       "      <td>...</td>\n",
       "      <td>...</td>\n",
       "    </tr>\n",
       "    <tr>\n",
       "      <th>85</th>\n",
       "      <td>umap-learn</td>\n",
       "      <td>2</td>\n",
       "      <td>mnist</td>\n",
       "      <td>5NN_acc</td>\n",
       "      <td>0.9544</td>\n",
       "    </tr>\n",
       "    <tr>\n",
       "      <th>86</th>\n",
       "      <td>umap-learn</td>\n",
       "      <td>64</td>\n",
       "      <td>mnist</td>\n",
       "      <td>5NN_acc</td>\n",
       "      <td>0.9538</td>\n",
       "    </tr>\n",
       "    <tr>\n",
       "      <th>87</th>\n",
       "      <td>PCA</td>\n",
       "      <td>2</td>\n",
       "      <td>mnist</td>\n",
       "      <td>5NN_acc</td>\n",
       "      <td>0.4201</td>\n",
       "    </tr>\n",
       "    <tr>\n",
       "      <th>88</th>\n",
       "      <td>PCA</td>\n",
       "      <td>64</td>\n",
       "      <td>mnist</td>\n",
       "      <td>5NN_acc</td>\n",
       "      <td>0.9727</td>\n",
       "    </tr>\n",
       "    <tr>\n",
       "      <th>89</th>\n",
       "      <td>TSNE</td>\n",
       "      <td>2</td>\n",
       "      <td>mnist</td>\n",
       "      <td>5NN_acc</td>\n",
       "      <td>0.9502</td>\n",
       "    </tr>\n",
       "  </tbody>\n",
       "</table>\n",
       "<p>90 rows × 5 columns</p>\n",
       "</div>"
      ],
      "text/plain": [
       "        method_ dimensions      dataset   metric   value\n",
       "0       network          2  cassins_dtw  1NN_acc  0.9910\n",
       "1       network         64  cassins_dtw  1NN_acc  0.9880\n",
       "2   autoencoder          2  cassins_dtw  1NN_acc  0.9890\n",
       "3   autoencoder         64  cassins_dtw  1NN_acc  0.9940\n",
       "4    umap-learn          2  cassins_dtw  1NN_acc  0.9860\n",
       "..          ...        ...          ...      ...     ...\n",
       "85   umap-learn          2        mnist  5NN_acc  0.9544\n",
       "86   umap-learn         64        mnist  5NN_acc  0.9538\n",
       "87          PCA          2        mnist  5NN_acc  0.4201\n",
       "88          PCA         64        mnist  5NN_acc  0.9727\n",
       "89         TSNE          2        mnist  5NN_acc  0.9502\n",
       "\n",
       "[90 rows x 5 columns]"
      ]
     },
     "execution_count": 45,
     "metadata": {},
     "output_type": "execute_result"
    }
   ],
   "source": [
    "proj_speed_melt = pd.melt(\n",
    "    projection_speeds,\n",
    "    id_vars=[\"method_\", \"dimensions\", \"dataset\"],\n",
    "    value_vars=[\"1NN_acc\", \"5NN_acc\"],\n",
    ")\n",
    "proj_speed_melt.rename(columns={'variable':'metric'}, inplace=True)\n",
    "proj_speed_melt"
   ]
  },
  {
   "cell_type": "code",
   "execution_count": 75,
   "metadata": {
    "ExecuteTime": {
     "end_time": "2020-07-17T16:51:22.891992Z",
     "start_time": "2020-07-17T16:51:22.883604Z"
    }
   },
   "outputs": [
    {
     "data": {
      "text/plain": [
       "(['cassins_dtw', 'cifar10', 'fmnist', 'macosko2015', 'mnist'],\n",
       " [2, 64],\n",
       " ['1NN_acc', '5NN_acc'],\n",
       " ['network', 'autoencoder', 'umap-learn', 'PCA', 'TSNE'])"
      ]
     },
     "execution_count": 75,
     "metadata": {},
     "output_type": "execute_result"
    }
   ],
   "source": [
    "unique_datasets = list(projection_speeds.dataset.unique())\n",
    "unique_dims = list(projection_speeds.dimensions.unique())\n",
    "unique_metric = ['1NN_acc', '5NN_acc']\n",
    "unique_method = list(projection_speeds.method_.unique())\n",
    "unique_datasets, unique_dims, unique_metric, unique_method"
   ]
  },
  {
   "cell_type": "code",
   "execution_count": 76,
   "metadata": {
    "ExecuteTime": {
     "end_time": "2020-07-17T16:51:23.050935Z",
     "start_time": "2020-07-17T16:51:23.037891Z"
    }
   },
   "outputs": [
    {
     "data": {
      "text/html": [
       "<div>\n",
       "<style scoped>\n",
       "    .dataframe tbody tr th:only-of-type {\n",
       "        vertical-align: middle;\n",
       "    }\n",
       "\n",
       "    .dataframe tbody tr th {\n",
       "        vertical-align: top;\n",
       "    }\n",
       "\n",
       "    .dataframe thead th {\n",
       "        text-align: right;\n",
       "    }\n",
       "</style>\n",
       "<table border=\"1\" class=\"dataframe\">\n",
       "  <thead>\n",
       "    <tr style=\"text-align: right;\">\n",
       "      <th></th>\n",
       "      <th>method_</th>\n",
       "      <th>dimensions</th>\n",
       "      <th>dataset</th>\n",
       "      <th>metric</th>\n",
       "      <th>value</th>\n",
       "    </tr>\n",
       "  </thead>\n",
       "  <tbody>\n",
       "    <tr>\n",
       "      <th>0</th>\n",
       "      <td>network</td>\n",
       "      <td>2</td>\n",
       "      <td>cassins_dtw</td>\n",
       "      <td>1NN_acc</td>\n",
       "      <td>0.991</td>\n",
       "    </tr>\n",
       "    <tr>\n",
       "      <th>1</th>\n",
       "      <td>network</td>\n",
       "      <td>64</td>\n",
       "      <td>cassins_dtw</td>\n",
       "      <td>1NN_acc</td>\n",
       "      <td>0.988</td>\n",
       "    </tr>\n",
       "    <tr>\n",
       "      <th>2</th>\n",
       "      <td>autoencoder</td>\n",
       "      <td>2</td>\n",
       "      <td>cassins_dtw</td>\n",
       "      <td>1NN_acc</td>\n",
       "      <td>0.989</td>\n",
       "    </tr>\n",
       "  </tbody>\n",
       "</table>\n",
       "</div>"
      ],
      "text/plain": [
       "       method_ dimensions      dataset   metric  value\n",
       "0      network          2  cassins_dtw  1NN_acc  0.991\n",
       "1      network         64  cassins_dtw  1NN_acc  0.988\n",
       "2  autoencoder          2  cassins_dtw  1NN_acc  0.989"
      ]
     },
     "execution_count": 76,
     "metadata": {},
     "output_type": "execute_result"
    }
   ],
   "source": [
    "proj_speed_melt[:3]"
   ]
  },
  {
   "cell_type": "code",
   "execution_count": 83,
   "metadata": {
    "ExecuteTime": {
     "end_time": "2020-07-17T16:52:32.080669Z",
     "start_time": "2020-07-17T16:52:31.832897Z"
    }
   },
   "outputs": [
    {
     "data": {
      "text/html": [
       "<div>\n",
       "<style scoped>\n",
       "    .dataframe tbody tr th:only-of-type {\n",
       "        vertical-align: middle;\n",
       "    }\n",
       "\n",
       "    .dataframe tbody tr th {\n",
       "        vertical-align: top;\n",
       "    }\n",
       "\n",
       "    .dataframe thead tr th {\n",
       "        text-align: left;\n",
       "    }\n",
       "\n",
       "    .dataframe thead tr:last-of-type th {\n",
       "        text-align: right;\n",
       "    }\n",
       "</style>\n",
       "<table border=\"1\" class=\"dataframe\">\n",
       "  <thead>\n",
       "    <tr>\n",
       "      <th></th>\n",
       "      <th>dataset</th>\n",
       "      <th colspan=\"2\" halign=\"left\">cassins_dtw</th>\n",
       "      <th colspan=\"2\" halign=\"left\">cifar10</th>\n",
       "      <th colspan=\"2\" halign=\"left\">fmnist</th>\n",
       "      <th colspan=\"2\" halign=\"left\">macosko2015</th>\n",
       "      <th colspan=\"2\" halign=\"left\">mnist</th>\n",
       "    </tr>\n",
       "    <tr>\n",
       "      <th></th>\n",
       "      <th>metric</th>\n",
       "      <th>1NN_acc</th>\n",
       "      <th>5NN_acc</th>\n",
       "      <th>1NN_acc</th>\n",
       "      <th>5NN_acc</th>\n",
       "      <th>1NN_acc</th>\n",
       "      <th>5NN_acc</th>\n",
       "      <th>1NN_acc</th>\n",
       "      <th>5NN_acc</th>\n",
       "      <th>1NN_acc</th>\n",
       "      <th>5NN_acc</th>\n",
       "    </tr>\n",
       "    <tr>\n",
       "      <th>method_</th>\n",
       "      <th>dimensions</th>\n",
       "      <th></th>\n",
       "      <th></th>\n",
       "      <th></th>\n",
       "      <th></th>\n",
       "      <th></th>\n",
       "      <th></th>\n",
       "      <th></th>\n",
       "      <th></th>\n",
       "      <th></th>\n",
       "      <th></th>\n",
       "    </tr>\n",
       "  </thead>\n",
       "  <tbody>\n",
       "    <tr>\n",
       "      <th rowspan=\"2\" valign=\"top\">network</th>\n",
       "      <th>2</th>\n",
       "      <td>0.991</td>\n",
       "      <td>0.995</td>\n",
       "      <td>0.151</td>\n",
       "      <td>0.172</td>\n",
       "      <td>0.694</td>\n",
       "      <td>0.741</td>\n",
       "      <td>0.964</td>\n",
       "      <td>0.976</td>\n",
       "      <td>0.940</td>\n",
       "      <td>0.961</td>\n",
       "    </tr>\n",
       "    <tr>\n",
       "      <th>64</th>\n",
       "      <td>0.988</td>\n",
       "      <td>0.991</td>\n",
       "      <td>0.214</td>\n",
       "      <td>0.252</td>\n",
       "      <td>0.743</td>\n",
       "      <td>0.788</td>\n",
       "      <td>0.968</td>\n",
       "      <td>0.975</td>\n",
       "      <td>0.952</td>\n",
       "      <td>0.968</td>\n",
       "    </tr>\n",
       "    <tr>\n",
       "      <th rowspan=\"2\" valign=\"top\">autoencoder</th>\n",
       "      <th>2</th>\n",
       "      <td>0.989</td>\n",
       "      <td>0.993</td>\n",
       "      <td>0.159</td>\n",
       "      <td>0.183</td>\n",
       "      <td>0.708</td>\n",
       "      <td>0.756</td>\n",
       "      <td>0.858</td>\n",
       "      <td>0.893</td>\n",
       "      <td>0.940</td>\n",
       "      <td>0.954</td>\n",
       "    </tr>\n",
       "    <tr>\n",
       "      <th>64</th>\n",
       "      <td>0.994</td>\n",
       "      <td>0.997</td>\n",
       "      <td>0.222</td>\n",
       "      <td>0.248</td>\n",
       "      <td>0.777</td>\n",
       "      <td>0.803</td>\n",
       "      <td>0.958</td>\n",
       "      <td>0.966</td>\n",
       "      <td>0.948</td>\n",
       "      <td>0.965</td>\n",
       "    </tr>\n",
       "    <tr>\n",
       "      <th rowspan=\"2\" valign=\"top\">umap-learn</th>\n",
       "      <th>2</th>\n",
       "      <td>0.986</td>\n",
       "      <td>0.989</td>\n",
       "      <td>0.169</td>\n",
       "      <td>0.194</td>\n",
       "      <td>0.714</td>\n",
       "      <td>0.761</td>\n",
       "      <td>0.967</td>\n",
       "      <td>0.979</td>\n",
       "      <td>0.932</td>\n",
       "      <td>0.954</td>\n",
       "    </tr>\n",
       "    <tr>\n",
       "      <th>64</th>\n",
       "      <td>0.985</td>\n",
       "      <td>0.986</td>\n",
       "      <td>0.237</td>\n",
       "      <td>0.269</td>\n",
       "      <td>0.768</td>\n",
       "      <td>0.806</td>\n",
       "      <td>0.972</td>\n",
       "      <td>0.980</td>\n",
       "      <td>0.945</td>\n",
       "      <td>0.954</td>\n",
       "    </tr>\n",
       "    <tr>\n",
       "      <th rowspan=\"2\" valign=\"top\">PCA</th>\n",
       "      <th>2</th>\n",
       "      <td>0.626</td>\n",
       "      <td>0.691</td>\n",
       "      <td>0.144</td>\n",
       "      <td>0.150</td>\n",
       "      <td>0.447</td>\n",
       "      <td>0.505</td>\n",
       "      <td>0.809</td>\n",
       "      <td>0.843</td>\n",
       "      <td>0.377</td>\n",
       "      <td>0.420</td>\n",
       "    </tr>\n",
       "    <tr>\n",
       "      <th>64</th>\n",
       "      <td>0.995</td>\n",
       "      <td>0.992</td>\n",
       "      <td>0.383</td>\n",
       "      <td>0.377</td>\n",
       "      <td>0.840</td>\n",
       "      <td>0.857</td>\n",
       "      <td>0.976</td>\n",
       "      <td>0.981</td>\n",
       "      <td>0.971</td>\n",
       "      <td>0.973</td>\n",
       "    </tr>\n",
       "    <tr>\n",
       "      <th rowspan=\"2\" valign=\"top\">TSNE</th>\n",
       "      <th>2</th>\n",
       "      <td>0.988</td>\n",
       "      <td>0.991</td>\n",
       "      <td>0.246</td>\n",
       "      <td>0.261</td>\n",
       "      <td>0.782</td>\n",
       "      <td>0.804</td>\n",
       "      <td>0.972</td>\n",
       "      <td>0.979</td>\n",
       "      <td>0.941</td>\n",
       "      <td>0.950</td>\n",
       "    </tr>\n",
       "    <tr>\n",
       "      <th>64</th>\n",
       "      <td>-1.000</td>\n",
       "      <td>-1.000</td>\n",
       "      <td>-1.000</td>\n",
       "      <td>-1.000</td>\n",
       "      <td>-1.000</td>\n",
       "      <td>-1.000</td>\n",
       "      <td>-1.000</td>\n",
       "      <td>-1.000</td>\n",
       "      <td>-1.000</td>\n",
       "      <td>-1.000</td>\n",
       "    </tr>\n",
       "  </tbody>\n",
       "</table>\n",
       "</div>"
      ],
      "text/plain": [
       "dataset                cassins_dtw         cifar10          fmnist          \\\n",
       "metric                     1NN_acc 5NN_acc 1NN_acc 5NN_acc 1NN_acc 5NN_acc   \n",
       "method_     dimensions                                                       \n",
       "network     2                0.991   0.995   0.151   0.172   0.694   0.741   \n",
       "            64               0.988   0.991   0.214   0.252   0.743   0.788   \n",
       "autoencoder 2                0.989   0.993   0.159   0.183   0.708   0.756   \n",
       "            64               0.994   0.997   0.222   0.248   0.777   0.803   \n",
       "umap-learn  2                0.986   0.989   0.169   0.194   0.714   0.761   \n",
       "            64               0.985   0.986   0.237   0.269   0.768   0.806   \n",
       "PCA         2                0.626   0.691   0.144   0.150   0.447   0.505   \n",
       "            64               0.995   0.992   0.383   0.377   0.840   0.857   \n",
       "TSNE        2                0.988   0.991   0.246   0.261   0.782   0.804   \n",
       "            64              -1.000  -1.000  -1.000  -1.000  -1.000  -1.000   \n",
       "\n",
       "dataset                macosko2015           mnist          \n",
       "metric                     1NN_acc 5NN_acc 1NN_acc 5NN_acc  \n",
       "method_     dimensions                                      \n",
       "network     2                0.964   0.976   0.940   0.961  \n",
       "            64               0.968   0.975   0.952   0.968  \n",
       "autoencoder 2                0.858   0.893   0.940   0.954  \n",
       "            64               0.958   0.966   0.948   0.965  \n",
       "umap-learn  2                0.967   0.979   0.932   0.954  \n",
       "            64               0.972   0.980   0.945   0.954  \n",
       "PCA         2                0.809   0.843   0.377   0.420  \n",
       "            64               0.976   0.981   0.971   0.973  \n",
       "TSNE        2                0.972   0.979   0.941   0.950  \n",
       "            64              -1.000  -1.000  -1.000  -1.000  "
      ]
     },
     "execution_count": 83,
     "metadata": {},
     "output_type": "execute_result"
    }
   ],
   "source": [
    "r0, r0n = unique_method, \"method_\" \n",
    "r1, r1n = unique_dims, \"dimensions\"\n",
    "c0, c0n = unique_datasets, \"dataset\" \n",
    "c1, c1n = unique_metric, \"metric\"\n",
    "row_idx = [\n",
    "    np.concatenate([list(np.repeat(i, len(r1))) for i in r0]),\n",
    "    np.concatenate([list(r1) for i in r0]),  \n",
    "]\n",
    "row_idx = pd.MultiIndex.from_tuples(list(zip(*row_idx)), names=[r0n, r1n])\n",
    "col_idx = [\n",
    "    np.concatenate([list(np.repeat(i, len(c1))) for i in c0]),\n",
    "    np.concatenate([list(c1) for i in c0]),  \n",
    "\n",
    "]\n",
    "col_idx = pd.MultiIndex.from_tuples(list(zip(*col_idx)), names=[c0n, c1n])\n",
    "results_df = pd.DataFrame(-1*np.ones((len(row_idx), len(col_idx))), index=row_idx, columns=col_idx)\n",
    "for method_ in unique_method:\n",
    "    for dataset in unique_datasets:\n",
    "        for dim in unique_dims:\n",
    "            for metric in unique_metric:\n",
    "                val = proj_speed_melt[\n",
    "                    (proj_speed_melt.dataset == dataset) &\n",
    "                   (proj_speed_melt.method_ == method_) &\n",
    "                   (proj_speed_melt.dimensions == dim) & \n",
    "                   (proj_speed_melt['metric'] == metric)\n",
    "                  ]['value']\n",
    "                if len(val) > 0:\n",
    "                     results_df.loc[(method_,dim), (dataset, metric)] = round(list(val)[0],3)\n",
    "results_df"
   ]
  },
  {
   "cell_type": "code",
   "execution_count": 87,
   "metadata": {
    "ExecuteTime": {
     "end_time": "2020-07-17T16:56:33.419221Z",
     "start_time": "2020-07-17T16:56:33.401177Z"
    },
    "code_folding": [
     0
    ],
    "scrolled": true
   },
   "outputs": [
    {
     "name": "stdout",
     "output_type": "stream",
     "text": [
      "\\begin{table}\n",
      "\\begin{tabular}{llrrrrrrrrrr}\n",
      "\\toprule\n",
      "     & \\textbf{} & \\multicolumn{2}{l}{\\textbf{Cassin's}} & \\multicolumn{2}{l}{\\textbf{CIFAR10}} & \\multicolumn{2}{l}{\\textbf{FMNIST}} & \\multicolumn{2}{l}{\\textbf{Retina}} & \\multicolumn{2}{l}{\\textbf{MNIST}} \\\\\n",
      "     & \\textbf{} &     k=1 & k=5 & k=1 & k=5 & k=1 & k=5 &     k=1 & k=5 & k=1 & k=5 \\\\\n",
      "\\textbf{method\\_} & \\textbf{} &             &         &         &         &         &         &             &         &         &         \\\\\n",
      "\\midrule\n",
      "\\multirow{2}{*}{\\textbf{network}} & \\textbf{2 } &       0.991 &   0.995 &   0.151 &   0.172 &   0.694 &   0.741 &       0.964 &   0.976 &   0.940 &   0.961 \\\\\n",
      "     & \\textbf{64} &       0.988 &   0.991 &   0.214 &   0.252 &   0.743 &   0.788 &       0.968 &   0.975 &   0.952 &   0.968 \\\\\n",
      "\\cline{1-12}\n",
      "\\multirow{2}{*}{\\textbf{autoencoder}} & \\textbf{2 } &       0.989 &   0.993 &   0.159 &   0.183 &   0.708 &   0.756 &       0.858 &   0.893 &   0.940 &   0.954 \\\\\n",
      "     & \\textbf{64} &       0.994 &   0.997 &   0.222 &   0.248 &   0.777 &   0.803 &       0.958 &   0.966 &   0.948 &   0.965 \\\\\n",
      "\\cline{1-12}\n",
      "\\multirow{2}{*}{\\textbf{umap-learn}} & \\textbf{2 } &       0.986 &   0.989 &   0.169 &   0.194 &   0.714 &   0.761 &       0.967 &   0.979 &   0.932 &   0.954 \\\\\n",
      "     & \\textbf{64} &       0.985 &   0.986 &   0.237 &   0.269 &   0.768 &   0.806 &       0.972 &   0.980 &   0.945 &   0.954 \\\\\n",
      "\\cline{1-12}\n",
      "\\multirow{2}{*}{\\textbf{PCA}} & \\textbf{2 } &       0.626 &   0.691 &   0.144 &   0.150 &   0.447 &   0.505 &       0.809 &   0.843 &   0.377 &   0.420 \\\\\n",
      "     & \\textbf{64} &       0.995 &   0.992 &   0.383 &   0.377 &   0.840 &   0.857 &       0.976 &   0.981 &   0.971 &   0.973 \\\\\n",
      "\\cline{1-12}\n",
      "\\multirow{2}{*}{\\textbf{TSNE}} & \\textbf{2 } &       0.988 &   0.991 &   0.246 &   0.261 &   0.782 &   0.804 &       0.972 &   0.979 &   0.941 &   0.950 \\\\\n",
      "     & \\textbf{64} &      - &  - &  - &  - &  - &  - &      - &  - &  - &  - \\\\\n",
      "\\bottomrule\n",
      "\\end{tabular}\n",
      "\\caption{KNN Clustering metrics for each dataset\n",
      "\\end{table}\n",
      "\n"
     ]
    }
   ],
   "source": [
    "results_latex = results_df.to_latex(\n",
    "    bold_rows=True, multirow=True, multicolumn=True, multicolumn_format=\"l\"\n",
    ")\n",
    "replace_list = [\n",
    "    [\"\\\\begin{tabular}\", \"\\\\begin{table}\\n\\\\begin{tabular}\"],\n",
    "    [\"\\\\end{tabular}\", \"\\\\end{tabular}\\n\\\\end{table}\"],\n",
    "    [\"-1.000\", \"-\"],\n",
    "    [\"-1.00\", \"-\"],\n",
    "    [\"fmnist\", \"\\\\textbf{FMNIST}\"],\n",
    "    [\"mnist\", \"\\\\textbf{MNIST}\"],\n",
    "    [\"macosko2015\", \"\\\\textbf{Retina}\"],\n",
    "    [\"cassins\\_dtw\", \"\\\\textbf{Cassin's}\"],\n",
    "    [\"cifar10\", \"\\\\textbf{CIFAR10}\"],\n",
    "    [\"dataset\", \"\"],\n",
    "    [\"metric\", \"\"],\n",
    "    [\"dimensions\", \"\"],\n",
    "    [\"method_\", \"\"],\n",
    "    [\"1NN\\_acc\", \"k=1\"],\n",
    "    [\"5NN\\_acc\", \"k=5\"],\n",
    "    \n",
    "    [\"\\\\end{tabular}\",\n",
    "     \"\\\\end{tabular}\\n\\caption{KNN Clustering metrics for each dataset\"]\n",
    "]\n",
    "for i, j in replace_list:\n",
    "    results_latex = results_latex.replace(i, j)\n",
    "print(results_latex)"
   ]
  },
  {
   "cell_type": "code",
   "execution_count": 99,
   "metadata": {
    "ExecuteTime": {
     "end_time": "2020-07-17T17:03:41.546605Z",
     "start_time": "2020-07-17T17:03:41.540972Z"
    }
   },
   "outputs": [
    {
     "data": {
      "text/plain": [
       "[array(['cassins_dtw', 'cassins_dtw', 'cifar10', 'cifar10', 'fmnist',\n",
       "        'fmnist', 'macosko2015', 'macosko2015', 'mnist', 'mnist',\n",
       "        'cassins_dtw', 'cassins_dtw', 'cifar10', 'cifar10', 'fmnist',\n",
       "        'fmnist', 'macosko2015', 'macosko2015', 'mnist', 'mnist'],\n",
       "       dtype='<U11'),\n",
       " array(['1NN_acc', '5NN_acc', '1NN_acc', '5NN_acc', '1NN_acc', '5NN_acc',\n",
       "        '1NN_acc', '5NN_acc', '1NN_acc', '5NN_acc', '1NN_acc', '5NN_acc',\n",
       "        '1NN_acc', '5NN_acc', '1NN_acc', '5NN_acc', '1NN_acc', '5NN_acc',\n",
       "        '1NN_acc', '5NN_acc'], dtype='<U7')]"
      ]
     },
     "execution_count": 99,
     "metadata": {},
     "output_type": "execute_result"
    }
   ],
   "source": [
    "col_idx"
   ]
  },
  {
   "cell_type": "code",
   "execution_count": 107,
   "metadata": {
    "ExecuteTime": {
     "end_time": "2020-07-17T17:06:57.337495Z",
     "start_time": "2020-07-17T17:06:57.019299Z"
    }
   },
   "outputs": [
    {
     "data": {
      "text/html": [
       "<div>\n",
       "<style scoped>\n",
       "    .dataframe tbody tr th:only-of-type {\n",
       "        vertical-align: middle;\n",
       "    }\n",
       "\n",
       "    .dataframe tbody tr th {\n",
       "        vertical-align: top;\n",
       "    }\n",
       "\n",
       "    .dataframe thead tr th {\n",
       "        text-align: left;\n",
       "    }\n",
       "\n",
       "    .dataframe thead tr:last-of-type th {\n",
       "        text-align: right;\n",
       "    }\n",
       "</style>\n",
       "<table border=\"1\" class=\"dataframe\">\n",
       "  <thead>\n",
       "    <tr>\n",
       "      <th>dataset</th>\n",
       "      <th colspan=\"4\" halign=\"left\">cassins_dtw</th>\n",
       "      <th colspan=\"4\" halign=\"left\">cifar10</th>\n",
       "      <th colspan=\"4\" halign=\"left\">fmnist</th>\n",
       "      <th colspan=\"4\" halign=\"left\">macosko2015</th>\n",
       "      <th colspan=\"4\" halign=\"left\">mnist</th>\n",
       "    </tr>\n",
       "    <tr>\n",
       "      <th>dimensions</th>\n",
       "      <th colspan=\"2\" halign=\"left\">2</th>\n",
       "      <th colspan=\"2\" halign=\"left\">64</th>\n",
       "      <th colspan=\"2\" halign=\"left\">2</th>\n",
       "      <th colspan=\"2\" halign=\"left\">64</th>\n",
       "      <th colspan=\"2\" halign=\"left\">2</th>\n",
       "      <th colspan=\"2\" halign=\"left\">64</th>\n",
       "      <th colspan=\"2\" halign=\"left\">2</th>\n",
       "      <th colspan=\"2\" halign=\"left\">64</th>\n",
       "      <th colspan=\"2\" halign=\"left\">2</th>\n",
       "      <th colspan=\"2\" halign=\"left\">64</th>\n",
       "    </tr>\n",
       "    <tr>\n",
       "      <th>metric</th>\n",
       "      <th>1NN_acc</th>\n",
       "      <th>5NN_acc</th>\n",
       "      <th>1NN_acc</th>\n",
       "      <th>5NN_acc</th>\n",
       "      <th>1NN_acc</th>\n",
       "      <th>5NN_acc</th>\n",
       "      <th>1NN_acc</th>\n",
       "      <th>5NN_acc</th>\n",
       "      <th>1NN_acc</th>\n",
       "      <th>5NN_acc</th>\n",
       "      <th>1NN_acc</th>\n",
       "      <th>5NN_acc</th>\n",
       "      <th>1NN_acc</th>\n",
       "      <th>5NN_acc</th>\n",
       "      <th>1NN_acc</th>\n",
       "      <th>5NN_acc</th>\n",
       "      <th>1NN_acc</th>\n",
       "      <th>5NN_acc</th>\n",
       "      <th>1NN_acc</th>\n",
       "      <th>5NN_acc</th>\n",
       "    </tr>\n",
       "    <tr>\n",
       "      <th>method_</th>\n",
       "      <th></th>\n",
       "      <th></th>\n",
       "      <th></th>\n",
       "      <th></th>\n",
       "      <th></th>\n",
       "      <th></th>\n",
       "      <th></th>\n",
       "      <th></th>\n",
       "      <th></th>\n",
       "      <th></th>\n",
       "      <th></th>\n",
       "      <th></th>\n",
       "      <th></th>\n",
       "      <th></th>\n",
       "      <th></th>\n",
       "      <th></th>\n",
       "      <th></th>\n",
       "      <th></th>\n",
       "      <th></th>\n",
       "      <th></th>\n",
       "    </tr>\n",
       "  </thead>\n",
       "  <tbody>\n",
       "    <tr>\n",
       "      <th>network</th>\n",
       "      <td>0.991</td>\n",
       "      <td>0.995</td>\n",
       "      <td>0.988</td>\n",
       "      <td>0.991</td>\n",
       "      <td>0.151</td>\n",
       "      <td>0.172</td>\n",
       "      <td>0.214</td>\n",
       "      <td>0.252</td>\n",
       "      <td>0.694</td>\n",
       "      <td>0.741</td>\n",
       "      <td>0.743</td>\n",
       "      <td>0.788</td>\n",
       "      <td>0.964</td>\n",
       "      <td>0.976</td>\n",
       "      <td>0.968</td>\n",
       "      <td>0.975</td>\n",
       "      <td>0.940</td>\n",
       "      <td>0.961</td>\n",
       "      <td>0.952</td>\n",
       "      <td>0.968</td>\n",
       "    </tr>\n",
       "    <tr>\n",
       "      <th>autoencoder</th>\n",
       "      <td>0.989</td>\n",
       "      <td>0.993</td>\n",
       "      <td>0.994</td>\n",
       "      <td>0.997</td>\n",
       "      <td>0.159</td>\n",
       "      <td>0.183</td>\n",
       "      <td>0.222</td>\n",
       "      <td>0.248</td>\n",
       "      <td>0.708</td>\n",
       "      <td>0.756</td>\n",
       "      <td>0.777</td>\n",
       "      <td>0.803</td>\n",
       "      <td>0.858</td>\n",
       "      <td>0.893</td>\n",
       "      <td>0.958</td>\n",
       "      <td>0.966</td>\n",
       "      <td>0.940</td>\n",
       "      <td>0.954</td>\n",
       "      <td>0.948</td>\n",
       "      <td>0.965</td>\n",
       "    </tr>\n",
       "    <tr>\n",
       "      <th>umap-learn</th>\n",
       "      <td>0.986</td>\n",
       "      <td>0.989</td>\n",
       "      <td>0.985</td>\n",
       "      <td>0.986</td>\n",
       "      <td>0.169</td>\n",
       "      <td>0.194</td>\n",
       "      <td>0.237</td>\n",
       "      <td>0.269</td>\n",
       "      <td>0.714</td>\n",
       "      <td>0.761</td>\n",
       "      <td>0.768</td>\n",
       "      <td>0.806</td>\n",
       "      <td>0.967</td>\n",
       "      <td>0.979</td>\n",
       "      <td>0.972</td>\n",
       "      <td>0.980</td>\n",
       "      <td>0.932</td>\n",
       "      <td>0.954</td>\n",
       "      <td>0.945</td>\n",
       "      <td>0.954</td>\n",
       "    </tr>\n",
       "    <tr>\n",
       "      <th>PCA</th>\n",
       "      <td>0.626</td>\n",
       "      <td>0.691</td>\n",
       "      <td>0.995</td>\n",
       "      <td>0.992</td>\n",
       "      <td>0.144</td>\n",
       "      <td>0.150</td>\n",
       "      <td>0.383</td>\n",
       "      <td>0.377</td>\n",
       "      <td>0.447</td>\n",
       "      <td>0.505</td>\n",
       "      <td>0.840</td>\n",
       "      <td>0.857</td>\n",
       "      <td>0.809</td>\n",
       "      <td>0.843</td>\n",
       "      <td>0.976</td>\n",
       "      <td>0.981</td>\n",
       "      <td>0.377</td>\n",
       "      <td>0.420</td>\n",
       "      <td>0.971</td>\n",
       "      <td>0.973</td>\n",
       "    </tr>\n",
       "    <tr>\n",
       "      <th>TSNE</th>\n",
       "      <td>0.988</td>\n",
       "      <td>0.991</td>\n",
       "      <td>-1.000</td>\n",
       "      <td>-1.000</td>\n",
       "      <td>0.246</td>\n",
       "      <td>0.261</td>\n",
       "      <td>-1.000</td>\n",
       "      <td>-1.000</td>\n",
       "      <td>0.782</td>\n",
       "      <td>0.804</td>\n",
       "      <td>-1.000</td>\n",
       "      <td>-1.000</td>\n",
       "      <td>0.972</td>\n",
       "      <td>0.979</td>\n",
       "      <td>-1.000</td>\n",
       "      <td>-1.000</td>\n",
       "      <td>0.941</td>\n",
       "      <td>0.950</td>\n",
       "      <td>-1.000</td>\n",
       "      <td>-1.000</td>\n",
       "    </tr>\n",
       "  </tbody>\n",
       "</table>\n",
       "</div>"
      ],
      "text/plain": [
       "dataset     cassins_dtw                         cifar10                  \\\n",
       "dimensions           2               64              2               64   \n",
       "metric          1NN_acc 5NN_acc 1NN_acc 5NN_acc 1NN_acc 5NN_acc 1NN_acc   \n",
       "method_                                                                   \n",
       "network           0.991   0.995   0.988   0.991   0.151   0.172   0.214   \n",
       "autoencoder       0.989   0.993   0.994   0.997   0.159   0.183   0.222   \n",
       "umap-learn        0.986   0.989   0.985   0.986   0.169   0.194   0.237   \n",
       "PCA               0.626   0.691   0.995   0.992   0.144   0.150   0.383   \n",
       "TSNE              0.988   0.991  -1.000  -1.000   0.246   0.261  -1.000   \n",
       "\n",
       "dataset              fmnist                         macosko2015          \\\n",
       "dimensions               2               64                  2            \n",
       "metric      5NN_acc 1NN_acc 5NN_acc 1NN_acc 5NN_acc     1NN_acc 5NN_acc   \n",
       "method_                                                                   \n",
       "network       0.252   0.694   0.741   0.743   0.788       0.964   0.976   \n",
       "autoencoder   0.248   0.708   0.756   0.777   0.803       0.858   0.893   \n",
       "umap-learn    0.269   0.714   0.761   0.768   0.806       0.967   0.979   \n",
       "PCA           0.377   0.447   0.505   0.840   0.857       0.809   0.843   \n",
       "TSNE         -1.000   0.782   0.804  -1.000  -1.000       0.972   0.979   \n",
       "\n",
       "dataset                       mnist                          \n",
       "dimensions       64              2               64          \n",
       "metric      1NN_acc 5NN_acc 1NN_acc 5NN_acc 1NN_acc 5NN_acc  \n",
       "method_                                                      \n",
       "network       0.968   0.975   0.940   0.961   0.952   0.968  \n",
       "autoencoder   0.958   0.966   0.940   0.954   0.948   0.965  \n",
       "umap-learn    0.972   0.980   0.932   0.954   0.945   0.954  \n",
       "PCA           0.976   0.981   0.377   0.420   0.971   0.973  \n",
       "TSNE         -1.000  -1.000   0.941   0.950  -1.000  -1.000  "
      ]
     },
     "execution_count": 107,
     "metadata": {},
     "output_type": "execute_result"
    }
   ],
   "source": [
    "r0, r0n = unique_method, \"method_\" \n",
    "r1, r1n = unique_dims, \"dimensions\"\n",
    "c0, c0n = unique_datasets, \"dataset\" \n",
    "c1, c1n = unique_metric, \"metric\"\n",
    "row_idx = [list(r0)]\n",
    "row_idx = pd.MultiIndex.from_tuples(list(zip(*row_idx)), names=[r0n])\n",
    "col_idx = [\n",
    "    np.concatenate([list(np.repeat(i, len(c1)*len(r1))) for i in c0]),\n",
    "    np.concatenate([list(np.repeat(r1, len(c1))) for j in r1 for i in c0]),\n",
    "    np.concatenate([list(c1) for j in r1  for i in c0]),  \n",
    "\n",
    "]\n",
    "col_idx = pd.MultiIndex.from_tuples(list(zip(*col_idx)), names=[c0n, r1n,c1n])\n",
    "results_df = pd.DataFrame(-1*np.ones((len(row_idx), len(col_idx))), index=row_idx, columns=col_idx)\n",
    "for method_ in unique_method:\n",
    "    for dataset in unique_datasets:\n",
    "        for dim in unique_dims:\n",
    "            for metric in unique_metric:\n",
    "                val = proj_speed_melt[\n",
    "                    (proj_speed_melt.dataset == dataset) &\n",
    "                   (proj_speed_melt.method_ == method_) &\n",
    "                   (proj_speed_melt.dimensions == dim) & \n",
    "                   (proj_speed_melt['metric'] == metric)\n",
    "                  ]['value']\n",
    "                if len(val) > 0:\n",
    "                     results_df.loc[method_, (dataset, dim ,metric)] = round(list(val)[0],3)\n",
    "results_df\n"
   ]
  },
  {
   "cell_type": "code",
   "execution_count": 108,
   "metadata": {
    "ExecuteTime": {
     "end_time": "2020-07-17T17:07:01.119261Z",
     "start_time": "2020-07-17T17:07:01.098353Z"
    }
   },
   "outputs": [
    {
     "name": "stdout",
     "output_type": "stream",
     "text": [
      "\\begin{table}\n",
      "\\begin{tabular}{lrrrrrrrrrrrrrrrrrrrr}\n",
      "\\toprule\n",
      "\\textbf{} & \\multicolumn{4}{l}{\\textbf{Cassin's}} & \\multicolumn{4}{l}{\\textbf{CIFAR10}} & \\multicolumn{4}{l}{\\textbf{FMNIST}} & \\multicolumn{4}{l}{\\textbf{Retina}} & \\multicolumn{4}{l}{\\textbf{MNIST}} \\\\\n",
      "\\textbf{} & \\multicolumn{2}{l}{2} & \\multicolumn{2}{l}{64} & \\multicolumn{2}{l}{2} & \\multicolumn{2}{l}{64} & \\multicolumn{2}{l}{2} & \\multicolumn{2}{l}{64} & \\multicolumn{2}{l}{2} & \\multicolumn{2}{l}{64} & \\multicolumn{2}{l}{2} & \\multicolumn{2}{l}{64} \\\\\n",
      "\\textbf{} &     k=1 & k=5 & k=1 & k=5 & k=1 & k=5 & k=1 & k=5 & k=1 & k=5 & k=1 & k=5 &     k=1 & k=5 & k=1 & k=5 & k=1 & k=5 & k=1 & k=5 \\\\\n",
      "\\textbf{method\\_} &             &         &         &         &         &         &         &         &         &         &         &         &             &         &         &         &         &         &         &         \\\\\n",
      "\\midrule\n",
      "\\textbf{network} &       0.991 &   0.995 &   0.988 &   0.991 &   0.151 &   0.172 &   0.214 &   0.252 &   0.694 &   0.741 &   0.743 &   0.788 &       0.964 &   0.976 &   0.968 &   0.975 &   0.940 &   0.961 &   0.952 &   0.968 \\\\\n",
      "\\textbf{autoencoder} &       0.989 &   0.993 &   0.994 &   0.997 &   0.159 &   0.183 &   0.222 &   0.248 &   0.708 &   0.756 &   0.777 &   0.803 &       0.858 &   0.893 &   0.958 &   0.966 &   0.940 &   0.954 &   0.948 &   0.965 \\\\\n",
      "\\textbf{umap-learn} &       0.986 &   0.989 &   0.985 &   0.986 &   0.169 &   0.194 &   0.237 &   0.269 &   0.714 &   0.761 &   0.768 &   0.806 &       0.967 &   0.979 &   0.972 &   0.980 &   0.932 &   0.954 &   0.945 &   0.954 \\\\\n",
      "\\textbf{PCA} &       0.626 &   0.691 &   0.995 &   0.992 &   0.144 &   0.150 &   0.383 &   0.377 &   0.447 &   0.505 &   0.840 &   0.857 &       0.809 &   0.843 &   0.976 &   0.981 &   0.377 &   0.420 &   0.971 &   0.973 \\\\\n",
      "\\textbf{TSNE} &       0.988 &   0.991 &  - &  - &   0.246 &   0.261 &  - &  - &   0.782 &   0.804 &  - &  - &       0.972 &   0.979 &  - &  - &   0.941 &   0.950 &  - &  - \\\\\n",
      "\\bottomrule\n",
      "\\end{tabular}\n",
      "\\caption{KNN Clustering metrics for each dataset\n",
      "\\end{table}\n",
      "\n"
     ]
    }
   ],
   "source": [
    "results_latex = results_df.to_latex(\n",
    "    bold_rows=True, multirow=True, multicolumn=True, multicolumn_format=\"l\"\n",
    ")\n",
    "replace_list = [\n",
    "    [\"\\\\begin{tabular}\", \"\\\\begin{table}\\n\\\\begin{tabular}\"],\n",
    "    [\"\\\\end{tabular}\", \"\\\\end{tabular}\\n\\\\end{table}\"],\n",
    "    [\"-1.000\", \"-\"],\n",
    "    [\"-1.00\", \"-\"],\n",
    "    [\"fmnist\", \"\\\\textbf{FMNIST}\"],\n",
    "    [\"mnist\", \"\\\\textbf{MNIST}\"],\n",
    "    [\"macosko2015\", \"\\\\textbf{Retina}\"],\n",
    "    [\"cassins\\_dtw\", \"\\\\textbf{Cassin's}\"],\n",
    "    [\"cifar10\", \"\\\\textbf{CIFAR10}\"],\n",
    "    [\"dataset\", \"\"],\n",
    "    [\"metric\", \"\"],\n",
    "    [\"dimensions\", \"\"],\n",
    "    [\"method_\", \"\"],\n",
    "    [\"1NN\\_acc\", \"k=1\"],\n",
    "    [\"5NN\\_acc\", \"k=5\"],\n",
    "    \n",
    "    [\"\\\\end{tabular}\",\n",
    "     \"\\\\end{tabular}\\n\\caption{KNN Clustering metrics for each dataset\"]\n",
    "]\n",
    "for i, j in replace_list:\n",
    "    results_latex = results_latex.replace(i, j)\n",
    "print(results_latex)"
   ]
  },
  {
   "cell_type": "code",
   "execution_count": null,
   "metadata": {},
   "outputs": [],
   "source": []
  }
 ],
 "metadata": {
  "kernelspec": {
   "display_name": "Python 3",
   "language": "python",
   "name": "python3"
  },
  "language_info": {
   "codemirror_mode": {
    "name": "ipython",
    "version": 3
   },
   "file_extension": ".py",
   "mimetype": "text/x-python",
   "name": "python",
   "nbconvert_exporter": "python",
   "pygments_lexer": "ipython3",
   "version": "3.6.7"
  }
 },
 "nbformat": 4,
 "nbformat_minor": 2
}
