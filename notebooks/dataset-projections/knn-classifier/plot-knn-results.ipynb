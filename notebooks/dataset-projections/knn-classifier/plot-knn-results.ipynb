{
 "cells": [
  {
   "cell_type": "markdown",
   "metadata": {},
   "source": [
    "load data\n",
    "plot data"
   ]
  },
  {
   "cell_type": "code",
   "execution_count": 1,
   "metadata": {
    "ExecuteTime": {
     "end_time": "2020-08-22T06:45:02.283165Z",
     "start_time": "2020-08-22T06:44:56.243115Z"
    }
   },
   "outputs": [],
   "source": [
    "import numpy as np\n",
    "import pickle\n",
    "import pandas as pd\n",
    "import time\n",
    "from umap import UMAP"
   ]
  },
  {
   "cell_type": "code",
   "execution_count": 2,
   "metadata": {
    "ExecuteTime": {
     "end_time": "2020-08-22T06:45:02.398197Z",
     "start_time": "2020-08-22T06:45:02.284955Z"
    }
   },
   "outputs": [],
   "source": [
    "from tfumap.paths import ensure_dir, MODEL_DIR, DATA_DIR"
   ]
  },
  {
   "cell_type": "code",
   "execution_count": 3,
   "metadata": {
    "ExecuteTime": {
     "end_time": "2020-08-22T06:45:02.402296Z",
     "start_time": "2020-08-22T06:45:02.399867Z"
    }
   },
   "outputs": [],
   "source": [
    "from tfumap.paths import FIGURE_DIR, save_fig"
   ]
  },
  {
   "cell_type": "code",
   "execution_count": 4,
   "metadata": {
    "ExecuteTime": {
     "end_time": "2020-08-22T06:45:02.411449Z",
     "start_time": "2020-08-22T06:45:02.403332Z"
    }
   },
   "outputs": [],
   "source": [
    "save_loc = DATA_DIR / 'knn_classifier' "
   ]
  },
  {
   "cell_type": "code",
   "execution_count": 5,
   "metadata": {
    "ExecuteTime": {
     "end_time": "2020-08-22T06:45:02.420510Z",
     "start_time": "2020-08-22T06:45:02.412394Z"
    }
   },
   "outputs": [],
   "source": [
    "datasets = [\n",
    "    'cassins_dtw',\n",
    "    'cifar10',\n",
    "    'fmnist',\n",
    "    'macosko2015',\n",
    "    'mnist'\n",
    "]"
   ]
  },
  {
   "cell_type": "code",
   "execution_count": 6,
   "metadata": {
    "ExecuteTime": {
     "end_time": "2020-08-22T06:45:02.479518Z",
     "start_time": "2020-08-22T06:45:02.421446Z"
    }
   },
   "outputs": [
    {
     "data": {
      "text/html": [
       "<div>\n",
       "<style scoped>\n",
       "    .dataframe tbody tr th:only-of-type {\n",
       "        vertical-align: middle;\n",
       "    }\n",
       "\n",
       "    .dataframe tbody tr th {\n",
       "        vertical-align: top;\n",
       "    }\n",
       "\n",
       "    .dataframe thead th {\n",
       "        text-align: right;\n",
       "    }\n",
       "</style>\n",
       "<table border=\"1\" class=\"dataframe\">\n",
       "  <thead>\n",
       "    <tr style=\"text-align: right;\">\n",
       "      <th></th>\n",
       "      <th>method_</th>\n",
       "      <th>dimensions</th>\n",
       "      <th>dataset</th>\n",
       "      <th>1NN_acc</th>\n",
       "      <th>5NN_acc</th>\n",
       "    </tr>\n",
       "  </thead>\n",
       "  <tbody>\n",
       "    <tr>\n",
       "      <th>0</th>\n",
       "      <td>network</td>\n",
       "      <td>2</td>\n",
       "      <td>cassins_dtw</td>\n",
       "      <td>0.991</td>\n",
       "      <td>0.995</td>\n",
       "    </tr>\n",
       "    <tr>\n",
       "      <th>1</th>\n",
       "      <td>network</td>\n",
       "      <td>64</td>\n",
       "      <td>cassins_dtw</td>\n",
       "      <td>0.988</td>\n",
       "      <td>0.991</td>\n",
       "    </tr>\n",
       "    <tr>\n",
       "      <th>2</th>\n",
       "      <td>autoencoder</td>\n",
       "      <td>2</td>\n",
       "      <td>cassins_dtw</td>\n",
       "      <td>0.989</td>\n",
       "      <td>0.993</td>\n",
       "    </tr>\n",
       "  </tbody>\n",
       "</table>\n",
       "</div>"
      ],
      "text/plain": [
       "       method_ dimensions      dataset  1NN_acc  5NN_acc\n",
       "0      network          2  cassins_dtw    0.991    0.995\n",
       "1      network         64  cassins_dtw    0.988    0.991\n",
       "2  autoencoder          2  cassins_dtw    0.989    0.993"
      ]
     },
     "execution_count": 6,
     "metadata": {},
     "output_type": "execute_result"
    }
   ],
   "source": [
    "projection_speeds = pd.concat([pd.read_pickle(save_loc / (dataset + '.pickle')) for dataset in datasets])\n",
    "projection_speeds[:3]"
   ]
  },
  {
   "cell_type": "code",
   "execution_count": 7,
   "metadata": {
    "ExecuteTime": {
     "end_time": "2020-08-22T06:45:02.585268Z",
     "start_time": "2020-08-22T06:45:02.481235Z"
    },
    "scrolled": true
   },
   "outputs": [],
   "source": [
    "# load parametric tsne, vae, ae\n",
    "for dataset in datasets:\n",
    "    for n_components in ['2', '64']:\n",
    "        save_loc =  DATA_DIR / 'knn_classifier' / str(n_components) / (dataset + '.pickle')\n",
    "        try:\n",
    "            metric_df = pd.read_pickle(save_loc)\n",
    "            projection_speeds = pd.concat([projection_speeds, metric_df])\n",
    "        except FileNotFoundError:\n",
    "            print(save_loc)\n",
    "            \n",
    "        vae_save_loc = (\n",
    "            DATA_DIR\n",
    "            / \"knn_classifier\"\n",
    "            / 'vae'\n",
    "            / \"train\"\n",
    "            / str(n_components)\n",
    "            / (dataset + \".pickle\")\n",
    "        )\n",
    "        try:\n",
    "            metric_df = pd.read_pickle(vae_save_loc)\n",
    "            # display(metric_df)\n",
    "            projection_speeds = pd.concat([projection_speeds, metric_df])\n",
    "        except FileNotFoundError:\n",
    "            print(vae_save_loc)\n",
    "            \n",
    "        ae_save_loc = (\n",
    "            DATA_DIR\n",
    "            / \"knn_classifier\"\n",
    "            / 'ae_only'\n",
    "            / \"train\"\n",
    "            / str(n_components)\n",
    "            / (dataset + \".pickle\")\n",
    "        )\n",
    "        try:\n",
    "            metric_df = pd.read_pickle(ae_save_loc)\n",
    "            # display(metric_df)\n",
    "            projection_speeds = pd.concat([projection_speeds, metric_df])\n",
    "        except FileNotFoundError:\n",
    "            print(ae_save_loc)"
   ]
  },
  {
   "cell_type": "code",
   "execution_count": 8,
   "metadata": {
    "ExecuteTime": {
     "end_time": "2020-08-22T06:45:02.596235Z",
     "start_time": "2020-08-22T06:45:02.586512Z"
    }
   },
   "outputs": [
    {
     "data": {
      "text/html": [
       "<div>\n",
       "<style scoped>\n",
       "    .dataframe tbody tr th:only-of-type {\n",
       "        vertical-align: middle;\n",
       "    }\n",
       "\n",
       "    .dataframe tbody tr th {\n",
       "        vertical-align: top;\n",
       "    }\n",
       "\n",
       "    .dataframe thead th {\n",
       "        text-align: right;\n",
       "    }\n",
       "</style>\n",
       "<table border=\"1\" class=\"dataframe\">\n",
       "  <thead>\n",
       "    <tr style=\"text-align: right;\">\n",
       "      <th></th>\n",
       "      <th>method_</th>\n",
       "      <th>dimensions</th>\n",
       "      <th>dataset</th>\n",
       "      <th>1NN_acc</th>\n",
       "      <th>5NN_acc</th>\n",
       "    </tr>\n",
       "  </thead>\n",
       "  <tbody>\n",
       "    <tr>\n",
       "      <th>0</th>\n",
       "      <td>network</td>\n",
       "      <td>2</td>\n",
       "      <td>cassins_dtw</td>\n",
       "      <td>0.9910</td>\n",
       "      <td>0.9950</td>\n",
       "    </tr>\n",
       "    <tr>\n",
       "      <th>1</th>\n",
       "      <td>network</td>\n",
       "      <td>64</td>\n",
       "      <td>cassins_dtw</td>\n",
       "      <td>0.9880</td>\n",
       "      <td>0.9910</td>\n",
       "    </tr>\n",
       "    <tr>\n",
       "      <th>2</th>\n",
       "      <td>autoencoder</td>\n",
       "      <td>2</td>\n",
       "      <td>cassins_dtw</td>\n",
       "      <td>0.9890</td>\n",
       "      <td>0.9930</td>\n",
       "    </tr>\n",
       "    <tr>\n",
       "      <th>3</th>\n",
       "      <td>autoencoder</td>\n",
       "      <td>64</td>\n",
       "      <td>cassins_dtw</td>\n",
       "      <td>0.9940</td>\n",
       "      <td>0.9970</td>\n",
       "    </tr>\n",
       "    <tr>\n",
       "      <th>4</th>\n",
       "      <td>umap-learn</td>\n",
       "      <td>2</td>\n",
       "      <td>cassins_dtw</td>\n",
       "      <td>0.9860</td>\n",
       "      <td>0.9890</td>\n",
       "    </tr>\n",
       "    <tr>\n",
       "      <th>...</th>\n",
       "      <td>...</td>\n",
       "      <td>...</td>\n",
       "      <td>...</td>\n",
       "      <td>...</td>\n",
       "      <td>...</td>\n",
       "    </tr>\n",
       "    <tr>\n",
       "      <th>0</th>\n",
       "      <td>vae</td>\n",
       "      <td>2</td>\n",
       "      <td>mnist</td>\n",
       "      <td>0.7241</td>\n",
       "      <td>0.7649</td>\n",
       "    </tr>\n",
       "    <tr>\n",
       "      <th>0</th>\n",
       "      <td>ae_only</td>\n",
       "      <td>2</td>\n",
       "      <td>mnist</td>\n",
       "      <td>0.7647</td>\n",
       "      <td>0.7926</td>\n",
       "    </tr>\n",
       "    <tr>\n",
       "      <th>0</th>\n",
       "      <td>parametric-tsne</td>\n",
       "      <td>64</td>\n",
       "      <td>mnist</td>\n",
       "      <td>0.9697</td>\n",
       "      <td>0.9734</td>\n",
       "    </tr>\n",
       "    <tr>\n",
       "      <th>0</th>\n",
       "      <td>vae</td>\n",
       "      <td>64</td>\n",
       "      <td>mnist</td>\n",
       "      <td>0.9785</td>\n",
       "      <td>0.9791</td>\n",
       "    </tr>\n",
       "    <tr>\n",
       "      <th>0</th>\n",
       "      <td>ae_only</td>\n",
       "      <td>64</td>\n",
       "      <td>mnist</td>\n",
       "      <td>0.9748</td>\n",
       "      <td>0.9758</td>\n",
       "    </tr>\n",
       "  </tbody>\n",
       "</table>\n",
       "<p>75 rows × 5 columns</p>\n",
       "</div>"
      ],
      "text/plain": [
       "            method_ dimensions      dataset  1NN_acc  5NN_acc\n",
       "0           network          2  cassins_dtw   0.9910   0.9950\n",
       "1           network         64  cassins_dtw   0.9880   0.9910\n",
       "2       autoencoder          2  cassins_dtw   0.9890   0.9930\n",
       "3       autoencoder         64  cassins_dtw   0.9940   0.9970\n",
       "4        umap-learn          2  cassins_dtw   0.9860   0.9890\n",
       "..              ...        ...          ...      ...      ...\n",
       "0               vae          2        mnist   0.7241   0.7649\n",
       "0           ae_only          2        mnist   0.7647   0.7926\n",
       "0   parametric-tsne         64        mnist   0.9697   0.9734\n",
       "0               vae         64        mnist   0.9785   0.9791\n",
       "0           ae_only         64        mnist   0.9748   0.9758\n",
       "\n",
       "[75 rows x 5 columns]"
      ]
     },
     "execution_count": 8,
     "metadata": {},
     "output_type": "execute_result"
    }
   ],
   "source": [
    "projection_speeds"
   ]
  },
  {
   "cell_type": "code",
   "execution_count": 9,
   "metadata": {
    "ExecuteTime": {
     "end_time": "2020-08-22T06:45:02.606396Z",
     "start_time": "2020-08-22T06:45:02.597169Z"
    }
   },
   "outputs": [
    {
     "data": {
      "text/plain": [
       "array(['network', 'autoencoder', 'umap-learn', 'PCA', 'TSNE',\n",
       "       'parametric-tsne', 'vae', 'ae_only'], dtype=object)"
      ]
     },
     "execution_count": 9,
     "metadata": {},
     "output_type": "execute_result"
    }
   ],
   "source": [
    "projection_speeds.method_.unique()"
   ]
  },
  {
   "cell_type": "code",
   "execution_count": 10,
   "metadata": {
    "ExecuteTime": {
     "end_time": "2020-08-22T06:45:02.618721Z",
     "start_time": "2020-08-22T06:45:02.607220Z"
    }
   },
   "outputs": [],
   "source": [
    "projection_speeds.loc[projection_speeds.dataset == 'cassins', 'dataset'] = 'cassins_dtw'\n",
    "#projection_speeds.loc[projection_speeds.dataset == 'makosco2015', 'dataset'] = 'macoco2015'"
   ]
  },
  {
   "cell_type": "code",
   "execution_count": 15,
   "metadata": {
    "ExecuteTime": {
     "end_time": "2020-08-22T18:03:06.984203Z",
     "start_time": "2020-08-22T18:03:06.855302Z"
    }
   },
   "outputs": [
    {
     "data": {
      "image/png": "[encoded data removed]",
      "text/plain": [
       "<Figure size 1440x72 with 1 Axes>"
      ]
     },
     "metadata": {
      "needs_background": "light"
     },
     "output_type": "display_data"
    },
    {
     "data": {
      "image/png": "[encoded data removed]",
      "text/plain": [
       "<Figure size 864x72 with 1 Axes>"
      ]
     },
     "metadata": {
      "needs_background": "light"
     },
     "output_type": "display_data"
    }
   ],
   "source": [
    "pal20c = sns.color_palette('tab20c', 20)\n",
    "sns.palplot(pal20c)\n",
    "hue_dict = {\n",
    "    \"umap-learn\": list(np.array(pal20c[3])**4),\n",
    "    \"direct\": pal20c[2],\n",
    "    \"AE\": pal20c[1],\n",
    "    \"autoencoder\": pal20c[1],\n",
    "    \"network\": pal20c[0],\n",
    "    'vae':  pal20c[8], \n",
    "    'ae_only':  pal20c[9],\n",
    "    \"pca\":  pal20c[12],\n",
    "    \"PCA\":  pal20c[12],\n",
    "    \"TSNE\": pal20c[4], \n",
    "    \"parametric-tsne\":pal20c[5],\n",
    "    \"network-cpu\": pal20c[2],\n",
    "\n",
    "}\n",
    "sns.palplot([hue_dict[i] for i in hue_dict.keys()])"
   ]
  },
  {
   "cell_type": "markdown",
   "metadata": {},
   "source": [
    "### K=1"
   ]
  },
  {
   "cell_type": "code",
   "execution_count": 27,
   "metadata": {
    "ExecuteTime": {
     "end_time": "2020-08-22T18:05:03.624529Z",
     "start_time": "2020-08-22T18:05:03.620913Z"
    }
   },
   "outputs": [],
   "source": [
    "hue_list = [\"TSNE\", \"parametric-tsne\", \"umap-learn\",  \"network\", \"autoencoder\", 'vae', 'ae_only', \"PCA\"]"
   ]
  },
  {
   "cell_type": "code",
   "execution_count": 43,
   "metadata": {
    "ExecuteTime": {
     "end_time": "2020-08-22T19:31:45.970678Z",
     "start_time": "2020-08-22T19:31:44.831859Z"
    }
   },
   "outputs": [
    {
     "data": {
      "image/png": "[encoded data removed]",
      "text/plain": [
       "<Figure size 1106x198 with 2 Axes>"
      ]
     },
     "metadata": {
      "needs_background": "light"
     },
     "output_type": "display_data"
    }
   ],
   "source": [
    "#sns.set(font_scale=1.0)\n",
    "import matplotlib as mpl\n",
    "axes = {'labelsize': 14,\n",
    "        'titlesize': 14,}\n",
    "mpl.rc('axes', **axes)\n",
    "mpl.rcParams['xtick.labelsize'] = 14\n",
    "\n",
    "median_df = (\n",
    "    projection_speeds[[\"method_\", \"dimensions\", \"dataset\", \"1NN_acc\"]]\n",
    "    .groupby([\"method_\", \"dimensions\", \"dataset\"])\n",
    "    .median()\n",
    ")\n",
    "median_df = median_df.T.melt()\n",
    "median_df[\"value\"]*=100\n",
    "median_df[\"error\"] = 100 - median_df[\"value\"]\n",
    "fg = sns.catplot(\n",
    "    x=\"dataset\",\n",
    "    y=\"value\",\n",
    "    hue=\"method_\",\n",
    "    hue_order=hue_list,\n",
    "    order=[\"mnist\", \"fmnist\", \"macosko2015\", \"cassins_dtw\", \"cifar10\"],\n",
    "    col=\"dimensions\",\n",
    "    height=2.75,\n",
    "    aspect=2.5,\n",
    "    data=median_df,\n",
    "    kind=\"bar\",\n",
    "    palette=[hue_dict[i] for i in hue_list],\n",
    "    # legend=False\n",
    ")\n",
    "(\n",
    "    fg.despine(bottom=True)\n",
    "    .set_xticklabels([\"MNIST\", \"FMNIST\", \"Retina\", \"Cassin's\", \"CIFAR10\"])\n",
    "    .set_axis_labels(\"\", \"Accuracy\")\n",
    ")\n",
    "ax = fg.axes[0][0]\n",
    "ax.tick_params(axis=u\"both\", which=u\"both\", length=0)\n",
    "fg._legend._legend_title_box._text.set_text(\"\")\n",
    "fg._legend.texts[np.where((np.array([i._text for i in fg._legend.texts]) == 'umap-learn'))[0][0]].set_text('UMAP (UMAP-learn)')\n",
    "\n",
    "fg._legend.texts[\n",
    "    np.where((np.array([i._text for i in fg._legend.texts]) == \"network\"))[0][0]\n",
    "].set_text(\"P. UMAP\")\n",
    "fg._legend.texts[\n",
    "    np.where((np.array([i._text for i in fg._legend.texts]) == \"autoencoder\"))[0][0]\n",
    "].set_text(\"UMAP AE\")\n",
    "fg._legend.texts[np.where((np.array([i._text for i in fg._legend.texts]) == 'parametric-tsne'))[0][0]].set_text('P. TSNE')\n",
    "# fg._legend.texts[np.where((np.array([i._text for i in fg._legend.texts]) == 'pca'))[0][0]].set_text('PCA')\n",
    "# fg._legend.texts[3].set_text(\"PCA\")\n",
    "# ax.set_ylim([1e-10,1e-3])\n",
    "# ax.set_yscale('log')\n",
    "# fg._legend.texts[2].set_text(\"Param. UMAP\")\n",
    "\n",
    "ax.set_title(\"2 Dimensions\")\n",
    "ax = fg.axes[0][1]\n",
    "ax.tick_params(axis=u\"both\", which=u\"both\", length=0)\n",
    "\n",
    "ax.set_title(\"64 Dimensions\")\n",
    "# ax.set_yscale('log')\n",
    "fg._legend.texts[np.where((np.array([i._text for i in fg._legend.texts]) == 'ae_only'))[0][0]].set_text('AE')\n",
    "fg._legend.texts[np.where((np.array([i._text for i in fg._legend.texts]) == 'vae'))[0][0]].set_text('VAE')\n",
    "\n",
    "save_fig(FIGURE_DIR/'1nn_acc_results', save_pdf=True, dpi=300, pad_inches=0.1)"
   ]
  },
  {
   "cell_type": "code",
   "execution_count": 44,
   "metadata": {
    "ExecuteTime": {
     "end_time": "2020-08-22T19:34:05.283778Z",
     "start_time": "2020-08-22T19:34:04.284363Z"
    }
   },
   "outputs": [
    {
     "data": {
      "text/plain": [
       "Text(0.5, 1, '64 Dimensions')"
      ]
     },
     "execution_count": 44,
     "metadata": {},
     "output_type": "execute_result"
    },
    {
     "data": {
      "image/png": "[encoded data removed]",
      "text/plain": [
       "<Figure size 1106x198 with 2 Axes>"
      ]
     },
     "metadata": {
      "needs_background": "light"
     },
     "output_type": "display_data"
    }
   ],
   "source": [
    "fg = sns.catplot(\n",
    "    x=\"dataset\",\n",
    "    y=\"error\",\n",
    "    hue=\"method_\",\n",
    "    hue_order=[\"TSNE\",\"parametric-tsne\",  \"umap-learn\", \"network\", \"autoencoder\", 'vae', 'ae_only', \"PCA\"],\n",
    "    order = ['mnist', 'fmnist', 'macosko2015', 'cassins_dtw', 'cifar10'],\n",
    "    col=\"dimensions\",\n",
    "    height=2.75, \n",
    "    aspect=2.5,\n",
    "    data=median_df,\n",
    "    kind=\"bar\",\n",
    "    palette=[hue_dict[i] for i in hue_list],\n",
    "    #legend=False\n",
    ")\n",
    "(fg.despine(bottom=True)\n",
    " .set_xticklabels(['MNIST', 'FMNIST', 'Retina', 'Cassin\\'s', 'CIFAR10'])\n",
    " .set_axis_labels(\"\", \"Error\")\n",
    ")\n",
    "ax = fg.axes[0][0]\n",
    "ax.tick_params(axis=u'both', which=u'both',length=0)\n",
    "fg._legend._legend_title_box._text.set_text(\"\")\n",
    "fg._legend.texts[np.where((np.array([i._text for i in fg._legend.texts]) == 'parametric-tsne'))[0][0]].set_text('P. TSNE')\n",
    "fg._legend.texts[np.where((np.array([i._text for i in fg._legend.texts]) == 'umap-learn'))[0][0]].set_text('UMAP (UMAP-learn)')\n",
    "fg._legend.texts[np.where((np.array([i._text for i in fg._legend.texts]) == 'network'))[0][0]].set_text('P. UMAP')\n",
    "fg._legend.texts[np.where((np.array([i._text for i in fg._legend.texts]) == 'autoencoder'))[0][0]].set_text('UMAP AE')\n",
    "fg._legend.texts[np.where((np.array([i._text for i in fg._legend.texts]) == 'ae_only'))[0][0]].set_text('AE')\n",
    "fg._legend.texts[np.where((np.array([i._text for i in fg._legend.texts]) == 'vae'))[0][0]].set_text('VAE')\n",
    "ax.set_ylim([1e-1,100])\n",
    "ax.set_yscale('log')\n",
    "#fg._legend.texts[2].set_text(\"Param. UMAP\")\n",
    "\n",
    "ax.set_title('2 Dimensions')\n",
    "ax = fg.axes[0][1]\n",
    "ax.tick_params(axis=u'both', which=u'both',length=0)\n",
    "\n",
    "ax.set_title('64 Dimensions')\n",
    "#ax.set_yscale('log')\n",
    "\n",
    "#save_fig(FIGURE_DIR/'knn_classifier_results', save_pdf=True, dpi=300, pad_inches=0.1)"
   ]
  },
  {
   "cell_type": "markdown",
   "metadata": {},
   "source": [
    "### K = 5"
   ]
  },
  {
   "cell_type": "code",
   "execution_count": 40,
   "metadata": {
    "ExecuteTime": {
     "end_time": "2020-08-22T19:31:26.782044Z",
     "start_time": "2020-08-22T19:31:25.631140Z"
    }
   },
   "outputs": [
    {
     "data": {
      "image/png": "[encoded data removed]",
      "text/plain": [
       "<Figure size 1106x198 with 2 Axes>"
      ]
     },
     "metadata": {
      "needs_background": "light"
     },
     "output_type": "display_data"
    }
   ],
   "source": [
    "#sns.set(font_scale=1.0)\n",
    "import matplotlib as mpl\n",
    "axes = {'labelsize': 14,\n",
    "        'titlesize': 14,}\n",
    "mpl.rc('axes', **axes)\n",
    "mpl.rcParams['xtick.labelsize'] = 14\n",
    "\n",
    "median_df = (\n",
    "    projection_speeds[[\"method_\", \"dimensions\", \"dataset\", \"5NN_acc\"]]\n",
    "    .groupby([\"method_\", \"dimensions\", \"dataset\"])\n",
    "    .median()\n",
    ")\n",
    "median_df = median_df.T.melt()\n",
    "median_df[\"value\"]*=100\n",
    "median_df[\"error\"] = 100 - median_df[\"value\"]\n",
    "fg = sns.catplot(\n",
    "    x=\"dataset\",\n",
    "    y=\"value\",\n",
    "    hue=\"method_\",\n",
    "    hue_order=[\"TSNE\", \"parametric-tsne\", \"umap-learn\", \"network\", \"autoencoder\", 'vae', 'ae_only', \"PCA\"],\n",
    "    order=[\"mnist\", \"fmnist\", \"macosko2015\", \"cassins_dtw\", \"cifar10\"],\n",
    "    col=\"dimensions\",\n",
    "    height=2.75,\n",
    "    aspect=2.5,\n",
    "    data=median_df,\n",
    "    kind=\"bar\",\n",
    "    palette=[hue_dict[i] for i in hue_list],\n",
    "    # legend=False\n",
    ")\n",
    "(\n",
    "    fg.despine(bottom=True)\n",
    "    .set_xticklabels([\"MNIST\", \"FMNIST\", \"Retina\", \"Cassin's\", \"CIFAR10\"])\n",
    "    .set_axis_labels(\"\", \"Accuracy\")\n",
    ")\n",
    "ax = fg.axes[0][0]\n",
    "ax.tick_params(axis=u\"both\", which=u\"both\", length=0)\n",
    "fg._legend._legend_title_box._text.set_text(\"\")\n",
    "fg._legend.texts[np.where((np.array([i._text for i in fg._legend.texts]) == 'umap-learn'))[0][0]].set_text('UMAP (UMAP-learn)')\n",
    "\n",
    "fg._legend.texts[\n",
    "    np.where((np.array([i._text for i in fg._legend.texts]) == \"network\"))[0][0]\n",
    "].set_text(\"P. UMAP\")\n",
    "fg._legend.texts[\n",
    "    np.where((np.array([i._text for i in fg._legend.texts]) == \"autoencoder\"))[0][0]\n",
    "].set_text(\"UMAP AE\")\n",
    "fg._legend.texts[np.where((np.array([i._text for i in fg._legend.texts]) == 'ae_only'))[0][0]].set_text('AE')\n",
    "fg._legend.texts[np.where((np.array([i._text for i in fg._legend.texts]) == 'vae'))[0][0]].set_text('VAE')\n",
    "fg._legend.texts[np.where((np.array([i._text for i in fg._legend.texts]) == 'parametric-tsne'))[0][0]].set_text('P. TSNE')\n",
    "# fg._legend.texts[np.where((np.array([i._text for i in fg._legend.texts]) == 'pca'))[0][0]].set_text('PCA')\n",
    "# fg._legend.texts[3].set_text(\"PCA\")\n",
    "# ax.set_ylim([1e-10,1e-3])\n",
    "# ax.set_yscale('log')\n",
    "# fg._legend.texts[2].set_text(\"Param. UMAP\")\n",
    "\n",
    "ax.set_title(\"2 Dimensions\")\n",
    "ax = fg.axes[0][1]\n",
    "ax.tick_params(axis=u\"both\", which=u\"both\", length=0)\n",
    "\n",
    "ax.set_title(\"64 Dimensions\")\n",
    "# ax.set_yscale('log')\n",
    "\n",
    "save_fig(FIGURE_DIR/'5nn_acc_results', save_pdf=True, dpi=300, pad_inches=0.1)"
   ]
  },
  {
   "cell_type": "code",
   "execution_count": 41,
   "metadata": {
    "ExecuteTime": {
     "end_time": "2020-08-22T19:31:32.642188Z",
     "start_time": "2020-08-22T19:31:31.831690Z"
    }
   },
   "outputs": [
    {
     "data": {
      "text/plain": [
       "Text(0.5, 1, '64 Dimensions')"
      ]
     },
     "execution_count": 41,
     "metadata": {},
     "output_type": "execute_result"
    },
    {
     "data": {
      "image/png": "[encoded data removed]",
      "text/plain": [
       "<Figure size 1106x198 with 2 Axes>"
      ]
     },
     "metadata": {
      "needs_background": "light"
     },
     "output_type": "display_data"
    }
   ],
   "source": [
    "#sns.set(font_scale=1.0)\n",
    "import matplotlib as mpl\n",
    "axes = {'labelsize': 14,\n",
    "        'titlesize': 14,}\n",
    "mpl.rc('axes', **axes)\n",
    "mpl.rcParams['xtick.labelsize'] = 14\n",
    "\n",
    "fg = sns.catplot(\n",
    "    x=\"dataset\",\n",
    "    y=\"error\",\n",
    "    hue=\"method_\",\n",
    "    hue_order=[\"TSNE\", \"parametric-tsne\", \"umap-learn\", \"network\", \"autoencoder\", 'vae', 'ae_only', \"PCA\"],\n",
    "    order = ['mnist', 'fmnist', 'macosko2015', 'cassins_dtw', 'cifar10'],\n",
    "    col=\"dimensions\",\n",
    "    height=2.75, \n",
    "    aspect=2.5,\n",
    "    data=median_df,\n",
    "    kind=\"bar\",\n",
    "    palette=[hue_dict[i] for i in hue_list],\n",
    "    #legend=False\n",
    ")\n",
    "(fg.despine(bottom=True)\n",
    " .set_xticklabels(['MNIST', 'FMNIST', 'Retina', 'Cassin\\'s', 'CIFAR10'])\n",
    " .set_axis_labels(\"\", \"Error\")\n",
    ")\n",
    "ax = fg.axes[0][0]\n",
    "ax.tick_params(axis=u'both', which=u'both',length=0)\n",
    "fg._legend._legend_title_box._text.set_text(\"\")\n",
    "fg._legend.texts[np.where((np.array([i._text for i in fg._legend.texts]) == 'parametric-tsne'))[0][0]].set_text('P. TSNE')\n",
    "fg._legend.texts[np.where((np.array([i._text for i in fg._legend.texts]) == 'umap-learn'))[0][0]].set_text('UMAP (UMAP-learn)')\n",
    "fg._legend.texts[np.where((np.array([i._text for i in fg._legend.texts]) == 'network'))[0][0]].set_text('P. UMAP')\n",
    "fg._legend.texts[np.where((np.array([i._text for i in fg._legend.texts]) == 'autoencoder'))[0][0]].set_text('UMAP AE')\n",
    "fg._legend.texts[np.where((np.array([i._text for i in fg._legend.texts]) == 'ae_only'))[0][0]].set_text('AE')\n",
    "fg._legend.texts[np.where((np.array([i._text for i in fg._legend.texts]) == 'vae'))[0][0]].set_text('VAE')\n",
    "ax.set_ylim([1e-1,100])\n",
    "ax.set_yscale('log')\n",
    "#fg._legend.texts[2].set_text(\"Param. UMAP\")\n",
    "\n",
    "ax.set_title('2 Dimensions')\n",
    "ax = fg.axes[0][1]\n",
    "ax.tick_params(axis=u'both', which=u'both',length=0)\n",
    "\n",
    "ax.set_title('64 Dimensions')\n",
    "#ax.set_yscale('log')\n",
    "\n",
    "#save_fig(FIGURE_DIR/'knn_classifier_results', save_pdf=True, dpi=300, pad_inches=0.1)"
   ]
  },
  {
   "cell_type": "code",
   "execution_count": null,
   "metadata": {
    "ExecuteTime": {
     "end_time": "2020-08-22T06:45:02.792655Z",
     "start_time": "2020-08-22T06:44:56.274Z"
    }
   },
   "outputs": [],
   "source": [
    "# 2 AMD EPYC Rome 7252 8-Core 3.1 GHz  processors "
   ]
  },
  {
   "cell_type": "markdown",
   "metadata": {
    "ExecuteTime": {
     "end_time": "2020-07-17T07:26:09.613364Z",
     "start_time": "2020-07-17T07:26:09.604214Z"
    }
   },
   "source": [
    "### Make latex table"
   ]
  },
  {
   "cell_type": "code",
   "execution_count": null,
   "metadata": {
    "ExecuteTime": {
     "end_time": "2020-08-22T06:45:02.793395Z",
     "start_time": "2020-08-22T06:44:56.278Z"
    }
   },
   "outputs": [],
   "source": [
    "projection_speeds[:3]"
   ]
  },
  {
   "cell_type": "code",
   "execution_count": null,
   "metadata": {
    "ExecuteTime": {
     "end_time": "2020-08-22T06:45:02.794143Z",
     "start_time": "2020-08-22T06:44:56.282Z"
    }
   },
   "outputs": [],
   "source": [
    "proj_speed_melt = pd.melt(\n",
    "    projection_speeds,\n",
    "    id_vars=[\"method_\", \"dimensions\", \"dataset\"],\n",
    "    value_vars=[\"1NN_acc\", \"5NN_acc\"],\n",
    ")\n",
    "proj_speed_melt.rename(columns={'variable':'metric'}, inplace=True)\n",
    "proj_speed_melt"
   ]
  },
  {
   "cell_type": "code",
   "execution_count": null,
   "metadata": {
    "ExecuteTime": {
     "end_time": "2020-08-22T06:45:02.794874Z",
     "start_time": "2020-08-22T06:44:56.284Z"
    }
   },
   "outputs": [],
   "source": [
    "unique_datasets = list(projection_speeds.dataset.unique())\n",
    "unique_dims = list(projection_speeds.dimensions.unique())\n",
    "unique_metric = ['1NN_acc', '5NN_acc']\n",
    "unique_method = list(projection_speeds.method_.unique())\n",
    "unique_datasets, unique_dims, unique_metric, unique_method"
   ]
  },
  {
   "cell_type": "code",
   "execution_count": null,
   "metadata": {
    "ExecuteTime": {
     "end_time": "2020-08-22T06:45:02.795606Z",
     "start_time": "2020-08-22T06:44:56.287Z"
    }
   },
   "outputs": [],
   "source": [
    "proj_speed_melt[:3]"
   ]
  },
  {
   "cell_type": "code",
   "execution_count": null,
   "metadata": {
    "ExecuteTime": {
     "end_time": "2020-08-22T06:45:02.796342Z",
     "start_time": "2020-08-22T06:44:56.291Z"
    }
   },
   "outputs": [],
   "source": [
    "r0, r0n = unique_method, \"method_\" \n",
    "r1, r1n = unique_dims, \"dimensions\"\n",
    "c0, c0n = unique_datasets, \"dataset\" \n",
    "c1, c1n = unique_metric, \"metric\"\n",
    "row_idx = [\n",
    "    np.concatenate([list(np.repeat(i, len(r1))) for i in r0]),\n",
    "    np.concatenate([list(r1) for i in r0]),  \n",
    "]\n",
    "row_idx = pd.MultiIndex.from_tuples(list(zip(*row_idx)), names=[r0n, r1n])\n",
    "col_idx = [\n",
    "    np.concatenate([list(np.repeat(i, len(c1))) for i in c0]),\n",
    "    np.concatenate([list(c1) for i in c0]),  \n",
    "\n",
    "]\n",
    "col_idx = pd.MultiIndex.from_tuples(list(zip(*col_idx)), names=[c0n, c1n])\n",
    "results_df = pd.DataFrame(-1*np.ones((len(row_idx), len(col_idx))), index=row_idx, columns=col_idx)\n",
    "for method_ in unique_method:\n",
    "    for dataset in unique_datasets:\n",
    "        for dim in unique_dims:\n",
    "            for metric in unique_metric:\n",
    "                val = proj_speed_melt[\n",
    "                    (proj_speed_melt.dataset == dataset) &\n",
    "                   (proj_speed_melt.method_ == method_) &\n",
    "                   (proj_speed_melt.dimensions == dim) & \n",
    "                   (proj_speed_melt['metric'] == metric)\n",
    "                  ]['value']\n",
    "                if len(val) > 0:\n",
    "                     results_df.loc[(method_,dim), (dataset, metric)] = round(list(val)[0],3)\n",
    "results_df"
   ]
  },
  {
   "cell_type": "code",
   "execution_count": null,
   "metadata": {
    "ExecuteTime": {
     "end_time": "2020-08-22T06:45:02.797090Z",
     "start_time": "2020-08-22T06:44:56.293Z"
    },
    "code_folding": [
     0
    ],
    "scrolled": true
   },
   "outputs": [],
   "source": [
    "results_latex = results_df.to_latex(\n",
    "    bold_rows=True, multirow=True, multicolumn=True, multicolumn_format=\"l\"\n",
    ")\n",
    "replace_list = [\n",
    "    [\"\\\\begin{tabular}\", \"\\\\begin{table}\\n\\\\begin{tabular}\"],\n",
    "    [\"\\\\end{tabular}\", \"\\\\end{tabular}\\n\\\\end{table}\"],\n",
    "    [\"-1.000\", \"-\"],\n",
    "    [\"-1.00\", \"-\"],\n",
    "    [\"fmnist\", \"\\\\textbf{FMNIST}\"],\n",
    "    [\"mnist\", \"\\\\textbf{MNIST}\"],\n",
    "    [\"macosko2015\", \"\\\\textbf{Retina}\"],\n",
    "    [\"cassins\\_dtw\", \"\\\\textbf{Cassin's}\"],\n",
    "    [\"cifar10\", \"\\\\textbf{CIFAR10}\"],\n",
    "    [\"dataset\", \"\"],\n",
    "    [\"metric\", \"\"],\n",
    "    [\"dimensions\", \"\"],\n",
    "    [\"method_\", \"\"],\n",
    "    [\"1NN\\_acc\", \"k=1\"],\n",
    "    [\"5NN\\_acc\", \"k=5\"],\n",
    "    \n",
    "    [\"\\\\end{tabular}\",\n",
    "     \"\\\\end{tabular}\\n\\caption{KNN Clustering metrics for each dataset\"]\n",
    "]\n",
    "for i, j in replace_list:\n",
    "    results_latex = results_latex.replace(i, j)\n",
    "print(results_latex)"
   ]
  },
  {
   "cell_type": "code",
   "execution_count": null,
   "metadata": {
    "ExecuteTime": {
     "end_time": "2020-08-22T06:45:02.797827Z",
     "start_time": "2020-08-22T06:44:56.294Z"
    }
   },
   "outputs": [],
   "source": [
    "col_idx"
   ]
  },
  {
   "cell_type": "code",
   "execution_count": null,
   "metadata": {
    "ExecuteTime": {
     "end_time": "2020-08-22T06:45:02.798572Z",
     "start_time": "2020-08-22T06:44:56.297Z"
    }
   },
   "outputs": [],
   "source": [
    "r0, r0n = unique_method, \"method_\" \n",
    "r1, r1n = unique_dims, \"dimensions\"\n",
    "c0, c0n = unique_datasets, \"dataset\" \n",
    "c1, c1n = unique_metric, \"metric\"\n",
    "row_idx = [list(r0)]\n",
    "row_idx = pd.MultiIndex.from_tuples(list(zip(*row_idx)), names=[r0n])\n",
    "col_idx = [\n",
    "    np.concatenate([list(np.repeat(i, len(c1)*len(r1))) for i in c0]),\n",
    "    np.concatenate([list(np.repeat(r1, len(c1))) for j in r1 for i in c0]),\n",
    "    np.concatenate([list(c1) for j in r1  for i in c0]),  \n",
    "\n",
    "]\n",
    "col_idx = pd.MultiIndex.from_tuples(list(zip(*col_idx)), names=[c0n, r1n,c1n])\n",
    "results_df = pd.DataFrame(-1*np.ones((len(row_idx), len(col_idx))), index=row_idx, columns=col_idx)\n",
    "for method_ in unique_method:\n",
    "    for dataset in unique_datasets:\n",
    "        for dim in unique_dims:\n",
    "            for metric in unique_metric:\n",
    "                val = proj_speed_melt[\n",
    "                    (proj_speed_melt.dataset == dataset) &\n",
    "                   (proj_speed_melt.method_ == method_) &\n",
    "                   (proj_speed_melt.dimensions == dim) & \n",
    "                   (proj_speed_melt['metric'] == metric)\n",
    "                  ]['value']\n",
    "                if len(val) > 0:\n",
    "                     results_df.loc[method_, (dataset, dim ,metric)] = round(list(val)[0],3)\n",
    "results_df\n"
   ]
  },
  {
   "cell_type": "code",
   "execution_count": null,
   "metadata": {
    "ExecuteTime": {
     "end_time": "2020-08-22T06:45:02.799310Z",
     "start_time": "2020-08-22T06:44:56.300Z"
    }
   },
   "outputs": [],
   "source": [
    "results_latex = results_df.to_latex(\n",
    "    bold_rows=True, multirow=True, multicolumn=True, multicolumn_format=\"l\"\n",
    ")\n",
    "replace_list = [\n",
    "    [\"\\\\begin{tabular}\", \"\\\\begin{table}\\n\\\\begin{tabular}\"],\n",
    "    [\"\\\\end{tabular}\", \"\\\\end{tabular}\\n\\\\end{table}\"],\n",
    "    [\"-1.000\", \"-\"],\n",
    "    [\"-1.00\", \"-\"],\n",
    "    [\"fmnist\", \"\\\\textbf{FMNIST}\"],\n",
    "    [\"mnist\", \"\\\\textbf{MNIST}\"],\n",
    "    [\"macosko2015\", \"\\\\textbf{Retina}\"],\n",
    "    [\"cassins\\_dtw\", \"\\\\textbf{Cassin's}\"],\n",
    "    [\"cifar10\", \"\\\\textbf{CIFAR10}\"],\n",
    "    [\"dataset\", \"\"],\n",
    "    [\"metric\", \"\"],\n",
    "    [\"dimensions\", \"\"],\n",
    "    [\"method_\", \"\"],\n",
    "    [\"1NN\\_acc\", \"k=1\"],\n",
    "    [\"5NN\\_acc\", \"k=5\"],\n",
    "    \n",
    "    [\"\\\\end{tabular}\",\n",
    "     \"\\\\end{tabular}\\n\\caption{KNN Clustering metrics for each dataset\"]\n",
    "]\n",
    "for i, j in replace_list:\n",
    "    results_latex = results_latex.replace(i, j)\n",
    "print(results_latex)"
   ]
  },
  {
   "cell_type": "code",
   "execution_count": null,
   "metadata": {},
   "outputs": [],
   "source": []
  }
 ],
 "metadata": {
  "kernelspec": {
   "display_name": "Python 3",
   "language": "python",
   "name": "python3"
  },
  "language_info": {
   "codemirror_mode": {
    "name": "ipython",
    "version": 3
   },
   "file_extension": ".py",
   "mimetype": "text/x-python",
   "name": "python",
   "nbconvert_exporter": "python",
   "pygments_lexer": "ipython3",
   "version": "3.6.7"
  }
 },
 "nbformat": 4,
 "nbformat_minor": 2
}
