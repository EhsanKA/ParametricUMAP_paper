{
 "cells": [
  {
   "cell_type": "code",
   "execution_count": 95,
   "metadata": {
    "ExecuteTime": {
     "end_time": "2021-01-15T23:03:11.531770Z",
     "start_time": "2021-01-15T23:03:11.528806Z"
    }
   },
   "outputs": [],
   "source": [
    "import numpy as np\n",
    "import pandas as pd\n",
    "from tqdm.autonotebook import tqdm\n",
    "import matplotlib.pyplot as plt"
   ]
  },
  {
   "cell_type": "code",
   "execution_count": 96,
   "metadata": {
    "ExecuteTime": {
     "end_time": "2021-01-15T23:03:11.670482Z",
     "start_time": "2021-01-15T23:03:11.667485Z"
    }
   },
   "outputs": [],
   "source": [
    "from sklearn.cluster import KMeans\n",
    "from sklearn.metrics import homogeneity_completeness_v_measure"
   ]
  },
  {
   "cell_type": "code",
   "execution_count": 97,
   "metadata": {
    "ExecuteTime": {
     "end_time": "2021-01-15T23:03:11.788203Z",
     "start_time": "2021-01-15T23:03:11.785393Z"
    }
   },
   "outputs": [],
   "source": [
    "from tfumap.paths import ensure_dir, MODEL_DIR, DATA_DIR"
   ]
  },
  {
   "cell_type": "code",
   "execution_count": 98,
   "metadata": {
    "ExecuteTime": {
     "end_time": "2021-01-15T23:03:13.306506Z",
     "start_time": "2021-01-15T23:03:11.944629Z"
    }
   },
   "outputs": [
    {
     "data": {
      "text/html": [
       "<div>\n",
       "<style scoped>\n",
       "    .dataframe tbody tr th:only-of-type {\n",
       "        vertical-align: middle;\n",
       "    }\n",
       "\n",
       "    .dataframe tbody tr th {\n",
       "        vertical-align: top;\n",
       "    }\n",
       "\n",
       "    .dataframe thead th {\n",
       "        text-align: right;\n",
       "    }\n",
       "</style>\n",
       "<table border=\"1\" class=\"dataframe\">\n",
       "  <thead>\n",
       "    <tr style=\"text-align: right;\">\n",
       "      <th></th>\n",
       "      <th>dataset</th>\n",
       "      <th>class_</th>\n",
       "      <th>dim</th>\n",
       "      <th>silhouette</th>\n",
       "      <th>homogeneity</th>\n",
       "      <th>completeness</th>\n",
       "      <th>v_measure</th>\n",
       "      <th>init_</th>\n",
       "      <th>n_clusters</th>\n",
       "      <th>model</th>\n",
       "    </tr>\n",
       "  </thead>\n",
       "  <tbody>\n",
       "    <tr>\n",
       "      <th>0</th>\n",
       "      <td>mnist</td>\n",
       "      <td>PCA</td>\n",
       "      <td>2</td>\n",
       "      <td>0.377440</td>\n",
       "      <td>0.272552</td>\n",
       "      <td>0.39746</td>\n",
       "      <td>0.323363</td>\n",
       "      <td>0</td>\n",
       "      <td>5</td>\n",
       "      <td>KMeans(n_clusters=5, random_state=0)</td>\n",
       "    </tr>\n",
       "    <tr>\n",
       "      <th>1</th>\n",
       "      <td>mnist</td>\n",
       "      <td>PCA</td>\n",
       "      <td>2</td>\n",
       "      <td>0.377355</td>\n",
       "      <td>0.273045</td>\n",
       "      <td>0.39793</td>\n",
       "      <td>0.323865</td>\n",
       "      <td>1</td>\n",
       "      <td>5</td>\n",
       "      <td>KMeans(n_clusters=5, random_state=1)</td>\n",
       "    </tr>\n",
       "    <tr>\n",
       "      <th>2</th>\n",
       "      <td>mnist</td>\n",
       "      <td>PCA</td>\n",
       "      <td>2</td>\n",
       "      <td>0.377199</td>\n",
       "      <td>0.273357</td>\n",
       "      <td>0.39823</td>\n",
       "      <td>0.324184</td>\n",
       "      <td>2</td>\n",
       "      <td>5</td>\n",
       "      <td>KMeans(n_clusters=5, random_state=2)</td>\n",
       "    </tr>\n",
       "  </tbody>\n",
       "</table>\n",
       "</div>"
      ],
      "text/plain": [
       "  dataset class_ dim  silhouette  homogeneity  completeness  v_measure init_  \\\n",
       "0   mnist    PCA   2    0.377440     0.272552       0.39746   0.323363     0   \n",
       "1   mnist    PCA   2    0.377355     0.273045       0.39793   0.323865     1   \n",
       "2   mnist    PCA   2    0.377199     0.273357       0.39823   0.324184     2   \n",
       "\n",
       "  n_clusters                                 model  \n",
       "0          5  KMeans(n_clusters=5, random_state=0)  \n",
       "1          5  KMeans(n_clusters=5, random_state=1)  \n",
       "2          5  KMeans(n_clusters=5, random_state=2)  "
      ]
     },
     "execution_count": 98,
     "metadata": {},
     "output_type": "execute_result"
    }
   ],
   "source": [
    "metrics_df = pd.concat([pd.read_pickle(i) for i in list((DATA_DIR / 'clustering_metric_df').glob('*.pickle'))])\n",
    "metrics_df.loc[metrics_df.dataset == 'cassins', 'dataset'] = 'cassins_dtw'\n",
    "metrics_df[:3]"
   ]
  },
  {
   "cell_type": "code",
   "execution_count": 99,
   "metadata": {
    "ExecuteTime": {
     "end_time": "2021-01-15T23:03:13.331322Z",
     "start_time": "2021-01-15T23:03:13.308299Z"
    }
   },
   "outputs": [
    {
     "data": {
      "text/html": [
       "<div>\n",
       "<style scoped>\n",
       "    .dataframe tbody tr th:only-of-type {\n",
       "        vertical-align: middle;\n",
       "    }\n",
       "\n",
       "    .dataframe tbody tr th {\n",
       "        vertical-align: top;\n",
       "    }\n",
       "\n",
       "    .dataframe thead th {\n",
       "        text-align: right;\n",
       "    }\n",
       "</style>\n",
       "<table border=\"1\" class=\"dataframe\">\n",
       "  <thead>\n",
       "    <tr style=\"text-align: right;\">\n",
       "      <th></th>\n",
       "      <th>dataset</th>\n",
       "      <th>class_</th>\n",
       "      <th>dim</th>\n",
       "      <th>silhouette</th>\n",
       "      <th>homogeneity</th>\n",
       "      <th>completeness</th>\n",
       "      <th>v_measure</th>\n",
       "      <th>init_</th>\n",
       "      <th>n_clusters</th>\n",
       "      <th>model</th>\n",
       "    </tr>\n",
       "  </thead>\n",
       "  <tbody>\n",
       "    <tr>\n",
       "      <th>0</th>\n",
       "      <td>mnist</td>\n",
       "      <td>PCA</td>\n",
       "      <td>2</td>\n",
       "      <td>0.377440</td>\n",
       "      <td>0.272552</td>\n",
       "      <td>0.397460</td>\n",
       "      <td>0.323363</td>\n",
       "      <td>0</td>\n",
       "      <td>5</td>\n",
       "      <td>KMeans(n_clusters=5, random_state=0)</td>\n",
       "    </tr>\n",
       "    <tr>\n",
       "      <th>1</th>\n",
       "      <td>mnist</td>\n",
       "      <td>PCA</td>\n",
       "      <td>2</td>\n",
       "      <td>0.377355</td>\n",
       "      <td>0.273045</td>\n",
       "      <td>0.397930</td>\n",
       "      <td>0.323865</td>\n",
       "      <td>1</td>\n",
       "      <td>5</td>\n",
       "      <td>KMeans(n_clusters=5, random_state=1)</td>\n",
       "    </tr>\n",
       "    <tr>\n",
       "      <th>2</th>\n",
       "      <td>mnist</td>\n",
       "      <td>PCA</td>\n",
       "      <td>2</td>\n",
       "      <td>0.377199</td>\n",
       "      <td>0.273357</td>\n",
       "      <td>0.398230</td>\n",
       "      <td>0.324184</td>\n",
       "      <td>2</td>\n",
       "      <td>5</td>\n",
       "      <td>KMeans(n_clusters=5, random_state=2)</td>\n",
       "    </tr>\n",
       "    <tr>\n",
       "      <th>3</th>\n",
       "      <td>mnist</td>\n",
       "      <td>PCA</td>\n",
       "      <td>2</td>\n",
       "      <td>0.377346</td>\n",
       "      <td>0.273049</td>\n",
       "      <td>0.397946</td>\n",
       "      <td>0.323874</td>\n",
       "      <td>3</td>\n",
       "      <td>5</td>\n",
       "      <td>KMeans(n_clusters=5, random_state=3)</td>\n",
       "    </tr>\n",
       "    <tr>\n",
       "      <th>4</th>\n",
       "      <td>mnist</td>\n",
       "      <td>PCA</td>\n",
       "      <td>2</td>\n",
       "      <td>0.377413</td>\n",
       "      <td>0.272501</td>\n",
       "      <td>0.397373</td>\n",
       "      <td>0.323298</td>\n",
       "      <td>4</td>\n",
       "      <td>5</td>\n",
       "      <td>KMeans(n_clusters=5, random_state=4)</td>\n",
       "    </tr>\n",
       "    <tr>\n",
       "      <th>...</th>\n",
       "      <td>...</td>\n",
       "      <td>...</td>\n",
       "      <td>...</td>\n",
       "      <td>...</td>\n",
       "      <td>...</td>\n",
       "      <td>...</td>\n",
       "      <td>...</td>\n",
       "      <td>...</td>\n",
       "      <td>...</td>\n",
       "      <td>...</td>\n",
       "    </tr>\n",
       "    <tr>\n",
       "      <th>45</th>\n",
       "      <td>fmnist</td>\n",
       "      <td>vae</td>\n",
       "      <td>2</td>\n",
       "      <td>0.375252</td>\n",
       "      <td>0.575557</td>\n",
       "      <td>0.511677</td>\n",
       "      <td>0.541740</td>\n",
       "      <td>0</td>\n",
       "      <td>14</td>\n",
       "      <td>KMeans(n_clusters=14, random_state=0)</td>\n",
       "    </tr>\n",
       "    <tr>\n",
       "      <th>46</th>\n",
       "      <td>fmnist</td>\n",
       "      <td>vae</td>\n",
       "      <td>2</td>\n",
       "      <td>0.374912</td>\n",
       "      <td>0.575514</td>\n",
       "      <td>0.511521</td>\n",
       "      <td>0.541634</td>\n",
       "      <td>1</td>\n",
       "      <td>14</td>\n",
       "      <td>KMeans(n_clusters=14, random_state=1)</td>\n",
       "    </tr>\n",
       "    <tr>\n",
       "      <th>47</th>\n",
       "      <td>fmnist</td>\n",
       "      <td>vae</td>\n",
       "      <td>2</td>\n",
       "      <td>0.374924</td>\n",
       "      <td>0.575444</td>\n",
       "      <td>0.511468</td>\n",
       "      <td>0.541573</td>\n",
       "      <td>2</td>\n",
       "      <td>14</td>\n",
       "      <td>KMeans(n_clusters=14, random_state=2)</td>\n",
       "    </tr>\n",
       "    <tr>\n",
       "      <th>48</th>\n",
       "      <td>fmnist</td>\n",
       "      <td>vae</td>\n",
       "      <td>2</td>\n",
       "      <td>0.374862</td>\n",
       "      <td>0.575051</td>\n",
       "      <td>0.511110</td>\n",
       "      <td>0.541198</td>\n",
       "      <td>3</td>\n",
       "      <td>14</td>\n",
       "      <td>KMeans(n_clusters=14, random_state=3)</td>\n",
       "    </tr>\n",
       "    <tr>\n",
       "      <th>49</th>\n",
       "      <td>fmnist</td>\n",
       "      <td>vae</td>\n",
       "      <td>2</td>\n",
       "      <td>0.374872</td>\n",
       "      <td>0.575227</td>\n",
       "      <td>0.511292</td>\n",
       "      <td>0.541378</td>\n",
       "      <td>4</td>\n",
       "      <td>14</td>\n",
       "      <td>KMeans(n_clusters=14, random_state=4)</td>\n",
       "    </tr>\n",
       "  </tbody>\n",
       "</table>\n",
       "<p>7330 rows × 10 columns</p>\n",
       "</div>"
      ],
      "text/plain": [
       "   dataset class_ dim  silhouette  homogeneity  completeness  v_measure init_  \\\n",
       "0    mnist    PCA   2    0.377440     0.272552      0.397460   0.323363     0   \n",
       "1    mnist    PCA   2    0.377355     0.273045      0.397930   0.323865     1   \n",
       "2    mnist    PCA   2    0.377199     0.273357      0.398230   0.324184     2   \n",
       "3    mnist    PCA   2    0.377346     0.273049      0.397946   0.323874     3   \n",
       "4    mnist    PCA   2    0.377413     0.272501      0.397373   0.323298     4   \n",
       "..     ...    ...  ..         ...          ...           ...        ...   ...   \n",
       "45  fmnist    vae   2    0.375252     0.575557      0.511677   0.541740     0   \n",
       "46  fmnist    vae   2    0.374912     0.575514      0.511521   0.541634     1   \n",
       "47  fmnist    vae   2    0.374924     0.575444      0.511468   0.541573     2   \n",
       "48  fmnist    vae   2    0.374862     0.575051      0.511110   0.541198     3   \n",
       "49  fmnist    vae   2    0.374872     0.575227      0.511292   0.541378     4   \n",
       "\n",
       "   n_clusters                                  model  \n",
       "0           5   KMeans(n_clusters=5, random_state=0)  \n",
       "1           5   KMeans(n_clusters=5, random_state=1)  \n",
       "2           5   KMeans(n_clusters=5, random_state=2)  \n",
       "3           5   KMeans(n_clusters=5, random_state=3)  \n",
       "4           5   KMeans(n_clusters=5, random_state=4)  \n",
       "..        ...                                    ...  \n",
       "45         14  KMeans(n_clusters=14, random_state=0)  \n",
       "46         14  KMeans(n_clusters=14, random_state=1)  \n",
       "47         14  KMeans(n_clusters=14, random_state=2)  \n",
       "48         14  KMeans(n_clusters=14, random_state=3)  \n",
       "49         14  KMeans(n_clusters=14, random_state=4)  \n",
       "\n",
       "[7330 rows x 10 columns]"
      ]
     },
     "execution_count": 99,
     "metadata": {},
     "output_type": "execute_result"
    }
   ],
   "source": [
    "metrics_df"
   ]
  },
  {
   "cell_type": "code",
   "execution_count": 100,
   "metadata": {
    "ExecuteTime": {
     "end_time": "2021-01-15T23:03:13.340513Z",
     "start_time": "2021-01-15T23:03:13.333588Z"
    }
   },
   "outputs": [],
   "source": [
    "metrics_df = metrics_df[\n",
    "    ((metrics_df.dim == 64) &\n",
    "    (metrics_df.class_ == 'scvis')) == False\n",
    "]"
   ]
  },
  {
   "cell_type": "code",
   "execution_count": 101,
   "metadata": {
    "ExecuteTime": {
     "end_time": "2021-01-15T23:03:13.351037Z",
     "start_time": "2021-01-15T23:03:13.342739Z"
    }
   },
   "outputs": [
    {
     "data": {
      "text/plain": [
       "array(['PCA', 'ae_only', 'phate', 'autoencoder', 'scvis', 'direct', 'vae',\n",
       "       'network', 'ivis', 'umap-learn', 'TSNE', 'parametric-tsne'],\n",
       "      dtype=object)"
      ]
     },
     "execution_count": 101,
     "metadata": {},
     "output_type": "execute_result"
    }
   ],
   "source": [
    "metrics_df.class_.unique()"
   ]
  },
  {
   "cell_type": "markdown",
   "metadata": {},
   "source": [
    "### plot on the basis of the best silhouette score"
   ]
  },
  {
   "cell_type": "code",
   "execution_count": 102,
   "metadata": {
    "ExecuteTime": {
     "end_time": "2021-01-15T23:03:13.361011Z",
     "start_time": "2021-01-15T23:03:13.352842Z"
    }
   },
   "outputs": [
    {
     "data": {
      "text/plain": [
       "array(['mnist', 'cassins_dtw', 'cifar10', 'macosko2015', 'fmnist'],\n",
       "      dtype=object)"
      ]
     },
     "execution_count": 102,
     "metadata": {},
     "output_type": "execute_result"
    }
   ],
   "source": [
    "metrics_df.dataset.unique()"
   ]
  },
  {
   "cell_type": "code",
   "execution_count": 103,
   "metadata": {
    "ExecuteTime": {
     "end_time": "2021-01-15T23:03:13.475514Z",
     "start_time": "2021-01-15T23:03:13.362763Z"
    }
   },
   "outputs": [],
   "source": [
    "### get the best silhouette score for each dataset, class_, dim_\n",
    "metrics_df_max_iter = []\n",
    "for dataset in metrics_df.dataset.unique():\n",
    "    for class_ in metrics_df.class_.unique():\n",
    "        for dim in metrics_df.dim.unique():\n",
    "            subset_df = metrics_df[\n",
    "                (dataset == metrics_df.dataset.values) &\n",
    "                (class_ == metrics_df.class_.values) &\n",
    "                (dim == metrics_df.dim.values) \n",
    "            ]\n",
    "            if len(subset_df) > 0:\n",
    "                #print(np.argmax(subset_df.silhouette))\n",
    "                metrics_df_max_iter.append(subset_df.iloc[np.argmax(subset_df.silhouette)])"
   ]
  },
  {
   "cell_type": "code",
   "execution_count": 104,
   "metadata": {
    "ExecuteTime": {
     "end_time": "2021-01-15T23:03:13.495593Z",
     "start_time": "2021-01-15T23:03:13.477034Z"
    }
   },
   "outputs": [
    {
     "data": {
      "text/html": [
       "<div>\n",
       "<style scoped>\n",
       "    .dataframe tbody tr th:only-of-type {\n",
       "        vertical-align: middle;\n",
       "    }\n",
       "\n",
       "    .dataframe tbody tr th {\n",
       "        vertical-align: top;\n",
       "    }\n",
       "\n",
       "    .dataframe thead th {\n",
       "        text-align: right;\n",
       "    }\n",
       "</style>\n",
       "<table border=\"1\" class=\"dataframe\">\n",
       "  <thead>\n",
       "    <tr style=\"text-align: right;\">\n",
       "      <th></th>\n",
       "      <th>index</th>\n",
       "      <th>dataset</th>\n",
       "      <th>class_</th>\n",
       "      <th>dim</th>\n",
       "      <th>silhouette</th>\n",
       "      <th>homogeneity</th>\n",
       "      <th>completeness</th>\n",
       "      <th>v_measure</th>\n",
       "      <th>init_</th>\n",
       "      <th>n_clusters</th>\n",
       "      <th>model</th>\n",
       "    </tr>\n",
       "  </thead>\n",
       "  <tbody>\n",
       "    <tr>\n",
       "      <th>0</th>\n",
       "      <td>0</td>\n",
       "      <td>mnist</td>\n",
       "      <td>PCA</td>\n",
       "      <td>2</td>\n",
       "      <td>0.377440</td>\n",
       "      <td>0.272552</td>\n",
       "      <td>0.397460</td>\n",
       "      <td>0.323363</td>\n",
       "      <td>0</td>\n",
       "      <td>5</td>\n",
       "      <td>KMeans(n_clusters=5, random_state=0)</td>\n",
       "    </tr>\n",
       "    <tr>\n",
       "      <th>1</th>\n",
       "      <td>18</td>\n",
       "      <td>mnist</td>\n",
       "      <td>PCA</td>\n",
       "      <td>64</td>\n",
       "      <td>0.091285</td>\n",
       "      <td>0.472775</td>\n",
       "      <td>0.532840</td>\n",
       "      <td>0.501013</td>\n",
       "      <td>3</td>\n",
       "      <td>8</td>\n",
       "      <td>KMeans(random_state=3)</td>\n",
       "    </tr>\n",
       "    <tr>\n",
       "      <th>2</th>\n",
       "      <td>5</td>\n",
       "      <td>mnist</td>\n",
       "      <td>ae_only</td>\n",
       "      <td>2</td>\n",
       "      <td>0.493923</td>\n",
       "      <td>0.307547</td>\n",
       "      <td>0.611768</td>\n",
       "      <td>0.409321</td>\n",
       "      <td>0</td>\n",
       "      <td>6</td>\n",
       "      <td>KMeans(n_clusters=6, random_state=0)</td>\n",
       "    </tr>\n",
       "  </tbody>\n",
       "</table>\n",
       "</div>"
      ],
      "text/plain": [
       "   index dataset   class_ dim silhouette homogeneity completeness v_measure  \\\n",
       "0      0   mnist      PCA   2   0.377440    0.272552     0.397460  0.323363   \n",
       "1     18   mnist      PCA  64   0.091285    0.472775     0.532840  0.501013   \n",
       "2      5   mnist  ae_only   2   0.493923    0.307547     0.611768  0.409321   \n",
       "\n",
       "  init_ n_clusters                                 model  \n",
       "0     0          5  KMeans(n_clusters=5, random_state=0)  \n",
       "1     3          8                KMeans(random_state=3)  \n",
       "2     0          6  KMeans(n_clusters=6, random_state=0)  "
      ]
     },
     "execution_count": 104,
     "metadata": {},
     "output_type": "execute_result"
    }
   ],
   "source": [
    "metrics_max_df = pd.concat(metrics_df_max_iter, axis=1).T.reset_index()\n",
    "metrics_max_df[:3]"
   ]
  },
  {
   "cell_type": "code",
   "execution_count": 105,
   "metadata": {
    "ExecuteTime": {
     "end_time": "2021-01-15T23:03:13.500364Z",
     "start_time": "2021-01-15T23:03:13.497340Z"
    }
   },
   "outputs": [
    {
     "data": {
      "text/plain": [
       "array(['PCA', 'ae_only', 'phate', 'autoencoder', 'scvis', 'direct', 'vae',\n",
       "       'network', 'ivis', 'umap-learn', 'TSNE', 'parametric-tsne'],\n",
       "      dtype=object)"
      ]
     },
     "execution_count": 105,
     "metadata": {},
     "output_type": "execute_result"
    }
   ],
   "source": [
    "metrics_max_df['class_'].unique()"
   ]
  },
  {
   "cell_type": "code",
   "execution_count": 106,
   "metadata": {
    "ExecuteTime": {
     "end_time": "2021-01-15T23:03:13.531090Z",
     "start_time": "2021-01-15T23:03:13.501594Z"
    }
   },
   "outputs": [
    {
     "data": {
      "text/html": [
       "<div>\n",
       "<style scoped>\n",
       "    .dataframe tbody tr th:only-of-type {\n",
       "        vertical-align: middle;\n",
       "    }\n",
       "\n",
       "    .dataframe tbody tr th {\n",
       "        vertical-align: top;\n",
       "    }\n",
       "\n",
       "    .dataframe thead th {\n",
       "        text-align: right;\n",
       "    }\n",
       "</style>\n",
       "<table border=\"1\" class=\"dataframe\">\n",
       "  <thead>\n",
       "    <tr style=\"text-align: right;\">\n",
       "      <th></th>\n",
       "      <th>class_</th>\n",
       "      <th>PCA</th>\n",
       "      <th>TSNE</th>\n",
       "      <th>ae_only</th>\n",
       "      <th>autoencoder</th>\n",
       "      <th>direct</th>\n",
       "      <th>ivis</th>\n",
       "      <th>network</th>\n",
       "      <th>parametric-tsne</th>\n",
       "      <th>phate</th>\n",
       "      <th>scvis</th>\n",
       "      <th>umap-learn</th>\n",
       "      <th>vae</th>\n",
       "    </tr>\n",
       "    <tr>\n",
       "      <th>dataset</th>\n",
       "      <th>dim</th>\n",
       "      <th></th>\n",
       "      <th></th>\n",
       "      <th></th>\n",
       "      <th></th>\n",
       "      <th></th>\n",
       "      <th></th>\n",
       "      <th></th>\n",
       "      <th></th>\n",
       "      <th></th>\n",
       "      <th></th>\n",
       "      <th></th>\n",
       "      <th></th>\n",
       "    </tr>\n",
       "  </thead>\n",
       "  <tbody>\n",
       "    <tr>\n",
       "      <th rowspan=\"2\" valign=\"top\">cassins_dtw</th>\n",
       "      <th>2</th>\n",
       "      <td>0.602941</td>\n",
       "      <td>0.962837</td>\n",
       "      <td>0.598428</td>\n",
       "      <td>0.965995</td>\n",
       "      <td>0.953765</td>\n",
       "      <td>0.860182</td>\n",
       "      <td>0.968604</td>\n",
       "      <td>0.960494</td>\n",
       "      <td>0.727506</td>\n",
       "      <td>0.939898</td>\n",
       "      <td>0.958064</td>\n",
       "      <td>0.683617</td>\n",
       "    </tr>\n",
       "    <tr>\n",
       "      <th>64</th>\n",
       "      <td>0.901887</td>\n",
       "      <td>NaN</td>\n",
       "      <td>0.750089</td>\n",
       "      <td>0.966182</td>\n",
       "      <td>0.959669</td>\n",
       "      <td>0.904341</td>\n",
       "      <td>0.966486</td>\n",
       "      <td>0.943430</td>\n",
       "      <td>0.909418</td>\n",
       "      <td>NaN</td>\n",
       "      <td>0.959621</td>\n",
       "      <td>0.792266</td>\n",
       "    </tr>\n",
       "    <tr>\n",
       "      <th rowspan=\"2\" valign=\"top\">cifar10</th>\n",
       "      <th>2</th>\n",
       "      <td>0.060510</td>\n",
       "      <td>0.068812</td>\n",
       "      <td>0.025795</td>\n",
       "      <td>0.072967</td>\n",
       "      <td>0.073806</td>\n",
       "      <td>0.069874</td>\n",
       "      <td>0.071882</td>\n",
       "      <td>0.038281</td>\n",
       "      <td>0.048486</td>\n",
       "      <td>0.064988</td>\n",
       "      <td>0.074285</td>\n",
       "      <td>0.055956</td>\n",
       "    </tr>\n",
       "    <tr>\n",
       "      <th>64</th>\n",
       "      <td>0.059858</td>\n",
       "      <td>NaN</td>\n",
       "      <td>0.057365</td>\n",
       "      <td>0.074582</td>\n",
       "      <td>0.074152</td>\n",
       "      <td>0.085892</td>\n",
       "      <td>0.074183</td>\n",
       "      <td>0.057020</td>\n",
       "      <td>0.048524</td>\n",
       "      <td>NaN</td>\n",
       "      <td>0.073321</td>\n",
       "      <td>0.090487</td>\n",
       "    </tr>\n",
       "    <tr>\n",
       "      <th rowspan=\"2\" valign=\"top\">fmnist</th>\n",
       "      <th>2</th>\n",
       "      <td>0.422137</td>\n",
       "      <td>0.540777</td>\n",
       "      <td>0.481776</td>\n",
       "      <td>0.660207</td>\n",
       "      <td>0.649126</td>\n",
       "      <td>0.521658</td>\n",
       "      <td>0.659404</td>\n",
       "      <td>0.624835</td>\n",
       "      <td>0.626564</td>\n",
       "      <td>0.562736</td>\n",
       "      <td>0.660286</td>\n",
       "      <td>0.531902</td>\n",
       "    </tr>\n",
       "    <tr>\n",
       "      <th>64</th>\n",
       "      <td>0.524356</td>\n",
       "      <td>NaN</td>\n",
       "      <td>0.554064</td>\n",
       "      <td>0.663545</td>\n",
       "      <td>0.660976</td>\n",
       "      <td>0.561185</td>\n",
       "      <td>0.661821</td>\n",
       "      <td>0.468033</td>\n",
       "      <td>0.590483</td>\n",
       "      <td>NaN</td>\n",
       "      <td>0.660182</td>\n",
       "      <td>0.563896</td>\n",
       "    </tr>\n",
       "    <tr>\n",
       "      <th rowspan=\"2\" valign=\"top\">macosko2015</th>\n",
       "      <th>2</th>\n",
       "      <td>0.552168</td>\n",
       "      <td>0.512415</td>\n",
       "      <td>0.569513</td>\n",
       "      <td>0.586217</td>\n",
       "      <td>0.556708</td>\n",
       "      <td>0.467066</td>\n",
       "      <td>0.711236</td>\n",
       "      <td>0.591243</td>\n",
       "      <td>0.558703</td>\n",
       "      <td>0.427783</td>\n",
       "      <td>0.551021</td>\n",
       "      <td>0.569113</td>\n",
       "    </tr>\n",
       "    <tr>\n",
       "      <th>64</th>\n",
       "      <td>0.669553</td>\n",
       "      <td>NaN</td>\n",
       "      <td>0.589705</td>\n",
       "      <td>0.579288</td>\n",
       "      <td>0.782354</td>\n",
       "      <td>0.495100</td>\n",
       "      <td>0.635610</td>\n",
       "      <td>0.468243</td>\n",
       "      <td>0.753938</td>\n",
       "      <td>NaN</td>\n",
       "      <td>0.776338</td>\n",
       "      <td>0.590808</td>\n",
       "    </tr>\n",
       "    <tr>\n",
       "      <th rowspan=\"2\" valign=\"top\">mnist</th>\n",
       "      <th>2</th>\n",
       "      <td>0.323363</td>\n",
       "      <td>0.770399</td>\n",
       "      <td>0.409321</td>\n",
       "      <td>0.846037</td>\n",
       "      <td>0.851221</td>\n",
       "      <td>0.508190</td>\n",
       "      <td>0.782399</td>\n",
       "      <td>0.744601</td>\n",
       "      <td>0.672780</td>\n",
       "      <td>0.584140</td>\n",
       "      <td>0.837543</td>\n",
       "      <td>0.546676</td>\n",
       "    </tr>\n",
       "    <tr>\n",
       "      <th>64</th>\n",
       "      <td>0.501013</td>\n",
       "      <td>NaN</td>\n",
       "      <td>0.425264</td>\n",
       "      <td>0.870142</td>\n",
       "      <td>0.774870</td>\n",
       "      <td>0.532196</td>\n",
       "      <td>0.781833</td>\n",
       "      <td>0.497680</td>\n",
       "      <td>0.752232</td>\n",
       "      <td>NaN</td>\n",
       "      <td>0.774738</td>\n",
       "      <td>0.561659</td>\n",
       "    </tr>\n",
       "  </tbody>\n",
       "</table>\n",
       "</div>"
      ],
      "text/plain": [
       "class_                PCA      TSNE   ae_only  autoencoder    direct  \\\n",
       "dataset     dim                                                        \n",
       "cassins_dtw 2    0.602941  0.962837  0.598428     0.965995  0.953765   \n",
       "            64   0.901887       NaN  0.750089     0.966182  0.959669   \n",
       "cifar10     2    0.060510  0.068812  0.025795     0.072967  0.073806   \n",
       "            64   0.059858       NaN  0.057365     0.074582  0.074152   \n",
       "fmnist      2    0.422137  0.540777  0.481776     0.660207  0.649126   \n",
       "            64   0.524356       NaN  0.554064     0.663545  0.660976   \n",
       "macosko2015 2    0.552168  0.512415  0.569513     0.586217  0.556708   \n",
       "            64   0.669553       NaN  0.589705     0.579288  0.782354   \n",
       "mnist       2    0.323363  0.770399  0.409321     0.846037  0.851221   \n",
       "            64   0.501013       NaN  0.425264     0.870142  0.774870   \n",
       "\n",
       "class_               ivis   network  parametric-tsne     phate     scvis  \\\n",
       "dataset     dim                                                            \n",
       "cassins_dtw 2    0.860182  0.968604         0.960494  0.727506  0.939898   \n",
       "            64   0.904341  0.966486         0.943430  0.909418       NaN   \n",
       "cifar10     2    0.069874  0.071882         0.038281  0.048486  0.064988   \n",
       "            64   0.085892  0.074183         0.057020  0.048524       NaN   \n",
       "fmnist      2    0.521658  0.659404         0.624835  0.626564  0.562736   \n",
       "            64   0.561185  0.661821         0.468033  0.590483       NaN   \n",
       "macosko2015 2    0.467066  0.711236         0.591243  0.558703  0.427783   \n",
       "            64   0.495100  0.635610         0.468243  0.753938       NaN   \n",
       "mnist       2    0.508190  0.782399         0.744601  0.672780  0.584140   \n",
       "            64   0.532196  0.781833         0.497680  0.752232       NaN   \n",
       "\n",
       "class_           umap-learn       vae  \n",
       "dataset     dim                        \n",
       "cassins_dtw 2      0.958064  0.683617  \n",
       "            64     0.959621  0.792266  \n",
       "cifar10     2      0.074285  0.055956  \n",
       "            64     0.073321  0.090487  \n",
       "fmnist      2      0.660286  0.531902  \n",
       "            64     0.660182  0.563896  \n",
       "macosko2015 2      0.551021  0.569113  \n",
       "            64     0.776338  0.590808  \n",
       "mnist       2      0.837543  0.546676  \n",
       "            64     0.774738  0.561659  "
      ]
     },
     "execution_count": 106,
     "metadata": {},
     "output_type": "execute_result"
    }
   ],
   "source": [
    "metrics_max_df = metrics_max_df[[\"dataset\",\"class_\",\"dim\",\"v_measure\"]].set_index(['dataset', 'dim'])\n",
    "metrics_max_df = metrics_max_df.pivot_table(\n",
    "    index=[\"dataset\", \"dim\"],\n",
    "    columns=\"class_\",\n",
    "    values=\"v_measure\",\n",
    "    aggfunc=\"first\",\n",
    ")\n",
    "metrics_max_df "
   ]
  },
  {
   "cell_type": "code",
   "execution_count": 107,
   "metadata": {
    "ExecuteTime": {
     "end_time": "2021-01-15T23:03:13.534883Z",
     "start_time": "2021-01-15T23:03:13.532506Z"
    }
   },
   "outputs": [],
   "source": [
    "def can_float(x):\n",
    "    try:\n",
    "        float(x)\n",
    "        if np.isnan(float(x)):\n",
    "            return False\n",
    "        return True\n",
    "    except:\n",
    "        return False"
   ]
  },
  {
   "cell_type": "code",
   "execution_count": 108,
   "metadata": {
    "ExecuteTime": {
     "end_time": "2021-01-15T23:03:13.570962Z",
     "start_time": "2021-01-15T23:03:13.536317Z"
    }
   },
   "outputs": [],
   "source": [
    "metric_string = (\n",
    "    metrics_max_df[['TSNE', 'parametric-tsne', 'umap-learn',  'network', 'autoencoder',\n",
    "        'scvis', 'ivis', 'phate', 'vae', 'ae_only', 'PCA']]\n",
    "    .round(4)\n",
    "    .to_latex()\n",
    "    .replace(\"cassins\\_dtw\", \"Cassin's\")\n",
    "    .replace(\"cifar10\", \"CIFAR10\")\n",
    "    .replace(\"fmnist\", \"FMNIST\")\n",
    "    .replace(\"mnist\", \"MNIST\")\n",
    "    .replace(\"macosko2015\", \"Retina\")\n",
    "    .replace(\"autoencoder\", \"UMAP/AE\")\n",
    "    .replace(\"ae\\_only\", \"AE\")\n",
    "    .replace(\"network\", \"P. UMAP\")\n",
    "    .replace(\"umap-learn\", \"UMAP\")\n",
    "    .replace(\"vae\", \"VAE\")\n",
    "    .replace(\"pca\", \"PCA\")\n",
    "    .replace(\"parametric-tsne\", \"P. t-SNE\")\n",
    "    .replace(\"TSNE\", \"t-SNE\")\n",
    "    .replace(\"NaN\", \"-\")\n",
    "    .replace(\"scvis\", \"SCVIS\")\n",
    "    .replace(\"ivis\", \"IVIS\")\n",
    "    .replace(\"phate\", \"PHATE\")\n",
    ")"
   ]
  },
  {
   "cell_type": "code",
   "execution_count": 109,
   "metadata": {
    "ExecuteTime": {
     "end_time": "2021-01-15T23:03:13.648618Z",
     "start_time": "2021-01-15T23:03:13.637361Z"
    }
   },
   "outputs": [
    {
     "name": "stdout",
     "output_type": "stream",
     "text": [
      "\\begin{tabular}{llrrrrrrrrrrr}\n",
      "\\toprule\n",
      "      & class\\_ &    t-SNE &  P. t-SNE &  UMAP &  P. UMAP &  UMAP/AE &   SCVIS &    IVIS &   PHATE &     VAE &  AE &     PCA \\\\\n",
      "dataset & dim &         &                  &             &          &              &         &         &         &         &          &         \\\\\n",
      "\\midrule\n",
      "Cassin's & 2  &  0.9628 &           0.9605 &      0.9581 &   \\textbf{0.9686} &       0.9660 &  0.9399 &  0.8602 &  0.7275 &  0.6836 &   0.5984 &  0.6029 \\\\\n",
      "      & 64 &     - &           0.9434 &      0.9596 &   \\textbf{0.9665} &       0.9662 &     - &  0.9043 &  0.9094 &  0.7923 &   0.7501 &  0.9019 \\\\\n",
      "CIFAR10 & 2  &  0.0688 &           0.0383 &      \\textbf{0.0743} &   0.0719 &       0.0730 &  0.0650 &  0.0699 &  0.0485 &  0.0560 &   0.0258 &  0.0605 \\\\\n",
      "      & 64 &     - &           0.0570 &      0.0733 &   0.0742 &       0.0746 &     - &  0.0859 &  0.0485 &  \\textbf{0.0905} &   0.0574 &  0.0599 \\\\\n",
      "FMNIST & 2  &  0.5408 &           0.6248 &      \\textbf{0.6603} &   0.6594 &       0.6602 &  0.5627 &  0.5217 &  0.6266 &  0.5319 &   0.4818 &  0.4221 \\\\\n",
      "      & 64 &     - &           0.4680 &      0.6602 &   0.6618 &       \\textbf{0.6635} &     - &  0.5612 &  0.5905 &  0.5639 &   0.5541 &  0.5244 \\\\\n",
      "Retina & 2  &  0.5124 &           0.5912 &      0.5510 &   \\textbf{0.7112} &       0.5862 &  0.4278 &  0.4671 &  0.5587 &  0.5691 &   0.5695 &  0.5522 \\\\\n",
      "      & 64 &     - &           0.4682 &      \\textbf{0.7763} &   0.6356 &       0.5793 &     - &  0.4951 &  0.7539 &  0.5908 &   0.5897 &  0.6696 \\\\\n",
      "MNIST & 2  &  0.7704 &           0.7446 &      0.8375 &   0.7824 &       \\textbf{0.8460} &  0.5841 &  0.5082 &  0.6728 &  0.5467 &   0.4093 &  0.3234 \\\\\n",
      "      & 64 &     - &           0.4977 &      0.7747 &   0.7818 &       \\textbf{0.8701} &     - &  0.5322 &  0.7522 &  0.5617 &   0.4253 &  0.5010 \\\\\n",
      "\\bottomrule\n",
      "\\end{tabular}\n",
      "\n"
     ]
    }
   ],
   "source": [
    "lines = metric_string.split('\\n')\n",
    "skip = 1\n",
    "for line in lines:\n",
    "    line_elements = line.split(' ')\n",
    "    floatables = [can_float(le) for (le) in line_elements]\n",
    "    floats = [float(j) for i, j in zip(floatables, line_elements) if i]\n",
    "    if len(floats)> 1:\n",
    "        best = np.argmax(floats[skip:])\n",
    "        replace_element = np.where(floatables)[0][skip + best]\n",
    "        line_elements[replace_element] = '\\\\textbf{' +line_elements[replace_element]+ '}'\n",
    "    print(' '.join(line_elements))"
   ]
  },
  {
   "cell_type": "code",
   "execution_count": null,
   "metadata": {},
   "outputs": [],
   "source": []
  },
  {
   "cell_type": "code",
   "execution_count": null,
   "metadata": {},
   "outputs": [],
   "source": []
  },
  {
   "cell_type": "code",
   "execution_count": null,
   "metadata": {},
   "outputs": [],
   "source": []
  }
 ],
 "metadata": {
  "kernelspec": {
   "display_name": "Python [conda env:tfumap]",
   "language": "python",
   "name": "conda-env-tfumap-py"
  },
  "language_info": {
   "codemirror_mode": {
    "name": "ipython",
    "version": 3
   },
   "file_extension": ".py",
   "mimetype": "text/x-python",
   "name": "python",
   "nbconvert_exporter": "python",
   "pygments_lexer": "ipython3",
   "version": "3.7.9"
  }
 },
 "nbformat": 4,
 "nbformat_minor": 2
}
