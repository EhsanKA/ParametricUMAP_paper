{
 "cells": [
  {
   "cell_type": "code",
   "execution_count": 1,
   "metadata": {
    "ExecuteTime": {
     "end_time": "2021-01-15T04:31:56.287991Z",
     "start_time": "2021-01-15T04:31:56.285857Z"
    }
   },
   "outputs": [],
   "source": [
    "dataset = 'macosko2015'\n",
    "algorithm = 'phate'\n",
    "n_components = 2\n",
    "dims = (50,)"
   ]
  },
  {
   "cell_type": "code",
   "execution_count": 2,
   "metadata": {
    "ExecuteTime": {
     "end_time": "2021-01-15T04:31:56.309685Z",
     "start_time": "2021-01-15T04:31:56.289097Z"
    }
   },
   "outputs": [],
   "source": [
    "# reload packages\n",
    "%load_ext autoreload\n",
    "%autoreload 2"
   ]
  },
  {
   "cell_type": "markdown",
   "metadata": {},
   "source": [
    "### Choose GPU (this may not be needed on your computer)"
   ]
  },
  {
   "cell_type": "code",
   "execution_count": 3,
   "metadata": {
    "ExecuteTime": {
     "end_time": "2021-01-15T04:31:56.320069Z",
     "start_time": "2021-01-15T04:31:56.310935Z"
    }
   },
   "outputs": [
    {
     "name": "stdout",
     "output_type": "stream",
     "text": [
      "env: CUDA_DEVICE_ORDER=PCI_BUS_ID\n",
      "env: CUDA_VISIBLE_DEVICES=0\n"
     ]
    }
   ],
   "source": [
    "%env CUDA_DEVICE_ORDER=PCI_BUS_ID\n",
    "%env CUDA_VISIBLE_DEVICES=0"
   ]
  },
  {
   "cell_type": "markdown",
   "metadata": {},
   "source": [
    "### load packages"
   ]
  },
  {
   "cell_type": "code",
   "execution_count": 4,
   "metadata": {
    "ExecuteTime": {
     "end_time": "2021-01-15T04:32:08.534826Z",
     "start_time": "2021-01-15T04:31:56.321177Z"
    }
   },
   "outputs": [
    {
     "name": "stderr",
     "output_type": "stream",
     "text": [
      "/mnt/cube/tsainbur/Projects/github_repos/umap_tf_networks/tfumap/umap.py:7: TqdmExperimentalWarning: Using `tqdm.autonotebook.tqdm` in notebook mode. Use `tqdm.tqdm` instead to force console mode (e.g. in jupyter console)\n",
      "  from tqdm.autonotebook import tqdm\n"
     ]
    }
   ],
   "source": [
    "from tfumap.umap import tfUMAP"
   ]
  },
  {
   "cell_type": "code",
   "execution_count": 5,
   "metadata": {
    "ExecuteTime": {
     "end_time": "2021-01-15T04:32:08.718831Z",
     "start_time": "2021-01-15T04:32:08.536880Z"
    }
   },
   "outputs": [],
   "source": [
    "import tensorflow as tf\n",
    "import numpy as np\n",
    "import matplotlib.pyplot as plt\n",
    "from tqdm.autonotebook import tqdm\n",
    "import umap\n",
    "import pandas as pd"
   ]
  },
  {
   "cell_type": "markdown",
   "metadata": {},
   "source": [
    "### Load dataset"
   ]
  },
  {
   "cell_type": "code",
   "execution_count": 6,
   "metadata": {
    "ExecuteTime": {
     "end_time": "2021-01-15T04:32:08.751539Z",
     "start_time": "2021-01-15T04:32:08.720624Z"
    }
   },
   "outputs": [],
   "source": [
    "from tensorflow.keras.datasets import mnist"
   ]
  },
  {
   "cell_type": "code",
   "execution_count": 7,
   "metadata": {
    "ExecuteTime": {
     "end_time": "2021-01-15T04:32:09.110325Z",
     "start_time": "2021-01-15T04:32:08.752836Z"
    }
   },
   "outputs": [
    {
     "name": "stdout",
     "output_type": "stream",
     "text": [
      "Data set contains 44808 samples with 50 features\n"
     ]
    }
   ],
   "source": [
    "from tfumap.paths import ensure_dir, MODEL_DIR, DATA_DIR\n",
    "\n",
    "import gzip\n",
    "import pickle\n",
    "\n",
    "with gzip.open(DATA_DIR / 'macosko_2015.pkl.gz', \"rb\") as f:\n",
    "    data = pickle.load(f)\n",
    "\n",
    "x = data[\"pca_50\"]\n",
    "y = data[\"CellType1\"].astype(str)\n",
    "\n",
    "def zero_one_norm(x):\n",
    "    return (x- np.min(x, axis=0))/ (np.max(x, axis=0)-np.min(x, axis=0))\n",
    "\n",
    "x_norm = zero_one_norm(x)\n",
    "\n",
    "print(\"Data set contains %d samples with %d features\" % x.shape)\n",
    "\n",
    "from sklearn.model_selection import train_test_split\n",
    "\n",
    "X_train, X_test, Y_train, Y_test = train_test_split(x_norm, y, test_size=.1, random_state=42)\n",
    "\n",
    "n_valid = 10000\n",
    "X_valid = X_train[-n_valid:]\n",
    "Y_valid = Y_train[-n_valid:]\n",
    "X_train = X_train[:-n_valid]\n",
    "Y_train = Y_train[:-n_valid]\n",
    "\n",
    "X_train_flat = X_train\n",
    "X_test_flat = X_test\n",
    "\n",
    "from sklearn.preprocessing import OrdinalEncoder\n",
    "enc = OrdinalEncoder()\n",
    "\n",
    "Y_train = enc.fit_transform([[i] for i in Y_train]).flatten()\n",
    "Y_test = enc.fit_transform([[i] for i in Y_test]).flatten()"
   ]
  },
  {
   "cell_type": "markdown",
   "metadata": {},
   "source": [
    "### Create model and train"
   ]
  },
  {
   "cell_type": "code",
   "execution_count": 8,
   "metadata": {
    "ExecuteTime": {
     "end_time": "2021-01-15T04:32:09.186307Z",
     "start_time": "2021-01-15T04:32:09.111621Z"
    }
   },
   "outputs": [],
   "source": [
    "import phate"
   ]
  },
  {
   "cell_type": "code",
   "execution_count": 9,
   "metadata": {
    "ExecuteTime": {
     "end_time": "2021-01-15T04:32:09.243309Z",
     "start_time": "2021-01-15T04:32:09.187663Z"
    }
   },
   "outputs": [],
   "source": [
    "from sklearn.preprocessing import MinMaxScaler\n",
    "from sklearn import datasets\n",
    "\n",
    "X_scaled = MinMaxScaler().fit_transform(X_train_flat)"
   ]
  },
  {
   "cell_type": "code",
   "execution_count": 10,
   "metadata": {
    "ExecuteTime": {
     "end_time": "2021-01-15T04:33:15.234603Z",
     "start_time": "2021-01-15T04:32:09.244796Z"
    }
   },
   "outputs": [
    {
     "name": "stdout",
     "output_type": "stream",
     "text": [
      "Calculating PHATE...\n",
      "  Running PHATE on 30327 observations and 50 variables.\n",
      "  Calculating graph and diffusion operator...\n",
      "    Calculating KNN search...\n",
      "    Calculated KNN search in 31.24 seconds.\n",
      "    Calculating affinities...\n",
      "    Calculated affinities in 3.41 seconds.\n",
      "  Calculated graph and diffusion operator in 34.68 seconds.\n",
      "  Calculating landmark operator...\n",
      "    Calculating SVD...\n",
      "    Calculated SVD in 3.94 seconds.\n",
      "    Calculating KMeans...\n",
      "    Calculated KMeans in 15.57 seconds.\n",
      "  Calculated landmark operator in 21.15 seconds.\n",
      "  Calculating optimal t...\n",
      "    Automatically selected t = 52\n",
      "  Calculated optimal t in 1.74 seconds.\n",
      "  Calculating diffusion potential...\n",
      "  Calculated diffusion potential in 0.66 seconds.\n",
      "  Calculating metric MDS...\n",
      "  Calculated metric MDS in 7.71 seconds.\n",
      "Calculated PHATE in 65.95 seconds.\n"
     ]
    }
   ],
   "source": [
    "phate_op = phate.PHATE(n_jobs=-1)\n",
    "z = data_phate = phate_op.fit_transform(X_scaled)"
   ]
  },
  {
   "cell_type": "markdown",
   "metadata": {},
   "source": [
    "### Plot model output"
   ]
  },
  {
   "cell_type": "code",
   "execution_count": 11,
   "metadata": {
    "ExecuteTime": {
     "end_time": "2021-01-15T04:33:15.758596Z",
     "start_time": "2021-01-15T04:33:15.236801Z"
    }
   },
   "outputs": [
    {
     "data": {
      "image/png": "[encoded data removed]",
      "text/plain": [
       "<Figure size 576x576 with 2 Axes>"
      ]
     },
     "metadata": {
      "needs_background": "light"
     },
     "output_type": "display_data"
    }
   ],
   "source": [
    "fig, ax = plt.subplots( figsize=(8, 8))\n",
    "sc = ax.scatter(\n",
    "    z[:, 0],\n",
    "    z[:, 1],\n",
    "    c=Y_train.astype(int)[:len(z)],\n",
    "    cmap=\"tab10\",\n",
    "    s=0.1,\n",
    "    alpha=0.5,\n",
    "    rasterized=True,\n",
    ")\n",
    "ax.axis('equal')\n",
    "ax.set_title(\"UMAP in Tensorflow embedding\", fontsize=20)\n",
    "plt.colorbar(sc, ax=ax);"
   ]
  },
  {
   "cell_type": "markdown",
   "metadata": {},
   "source": [
    "### Save output"
   ]
  },
  {
   "cell_type": "code",
   "execution_count": 12,
   "metadata": {
    "ExecuteTime": {
     "end_time": "2021-01-15T04:33:15.800280Z",
     "start_time": "2021-01-15T04:33:15.761115Z"
    }
   },
   "outputs": [],
   "source": [
    "from tfumap.paths import ensure_dir, MODEL_DIR"
   ]
  },
  {
   "cell_type": "code",
   "execution_count": 13,
   "metadata": {
    "ExecuteTime": {
     "end_time": "2021-01-15T04:33:15.909765Z",
     "start_time": "2021-01-15T04:33:15.801483Z"
    }
   },
   "outputs": [],
   "source": [
    "output_dir = MODEL_DIR/'projections'/ dataset / algorithm\n",
    "ensure_dir(output_dir)"
   ]
  },
  {
   "cell_type": "code",
   "execution_count": 14,
   "metadata": {
    "ExecuteTime": {
     "end_time": "2021-01-15T04:33:15.944356Z",
     "start_time": "2021-01-15T04:33:15.911365Z"
    }
   },
   "outputs": [],
   "source": [
    "#vae.save(output_dir)"
   ]
  },
  {
   "cell_type": "code",
   "execution_count": 15,
   "metadata": {
    "ExecuteTime": {
     "end_time": "2021-01-15T04:33:15.973159Z",
     "start_time": "2021-01-15T04:33:15.945523Z"
    }
   },
   "outputs": [],
   "source": [
    "#loss_df.to_pickle(output_dir / 'loss_df.pickle')"
   ]
  },
  {
   "cell_type": "code",
   "execution_count": 16,
   "metadata": {
    "ExecuteTime": {
     "end_time": "2021-01-15T04:33:16.022251Z",
     "start_time": "2021-01-15T04:33:15.974353Z"
    }
   },
   "outputs": [],
   "source": [
    "np.save(output_dir / 'z.npy', z)"
   ]
  },
  {
   "cell_type": "markdown",
   "metadata": {},
   "source": [
    "### compute metrics "
   ]
  },
  {
   "cell_type": "code",
   "execution_count": 17,
   "metadata": {
    "ExecuteTime": {
     "end_time": "2021-01-15T04:33:16.055280Z",
     "start_time": "2021-01-15T04:33:16.023619Z"
    }
   },
   "outputs": [
    {
     "data": {
      "text/plain": [
       "(4481, 50)"
      ]
     },
     "execution_count": 17,
     "metadata": {},
     "output_type": "execute_result"
    }
   ],
   "source": [
    "X_test.shape"
   ]
  },
  {
   "cell_type": "code",
   "execution_count": 18,
   "metadata": {
    "ExecuteTime": {
     "end_time": "2021-01-15T04:33:35.692056Z",
     "start_time": "2021-01-15T04:33:16.056422Z"
    }
   },
   "outputs": [
    {
     "name": "stdout",
     "output_type": "stream",
     "text": [
      "Calculating KNN search...\n"
     ]
    },
    {
     "name": "stderr",
     "output_type": "stream",
     "text": [
      "/home/AD/tsainbur/anaconda3/envs/tfumap/lib/python3.7/site-packages/phate/phate.py:881: RuntimeWarning: Pre-fit PHATE should not be used to transform a new data matrix. Please fit PHATE to the new data by running 'fit' with the new data.\n",
      "  RuntimeWarning,\n"
     ]
    },
    {
     "name": "stdout",
     "output_type": "stream",
     "text": [
      "Calculated KNN search in 5.05 seconds.\n",
      "Calculating affinities...\n",
      "Calculated affinities in 8.43 seconds.\n"
     ]
    }
   ],
   "source": [
    "z_test = phate_op.transform(X_test.reshape((len(X_test), np.product(np.shape(X_test)[1:]))))"
   ]
  },
  {
   "cell_type": "markdown",
   "metadata": {},
   "source": [
    "#### silhouette"
   ]
  },
  {
   "cell_type": "code",
   "execution_count": 19,
   "metadata": {
    "ExecuteTime": {
     "end_time": "2021-01-15T04:33:35.733267Z",
     "start_time": "2021-01-15T04:33:35.695483Z"
    }
   },
   "outputs": [],
   "source": [
    "from tfumap.silhouette import silhouette_score_block"
   ]
  },
  {
   "cell_type": "code",
   "execution_count": 20,
   "metadata": {
    "ExecuteTime": {
     "end_time": "2021-01-15T04:33:42.008428Z",
     "start_time": "2021-01-15T04:33:35.735437Z"
    }
   },
   "outputs": [
    {
     "data": {
      "text/plain": [
       "0.4723423724567551"
      ]
     },
     "execution_count": 20,
     "metadata": {},
     "output_type": "execute_result"
    }
   ],
   "source": [
    "ss, sil_samp = silhouette_score_block(z, Y_train, n_jobs = -1)\n",
    "ss"
   ]
  },
  {
   "cell_type": "code",
   "execution_count": 21,
   "metadata": {
    "ExecuteTime": {
     "end_time": "2021-01-15T04:33:42.240732Z",
     "start_time": "2021-01-15T04:33:42.009794Z"
    }
   },
   "outputs": [
    {
     "data": {
      "text/plain": [
       "0.4863649376669434"
      ]
     },
     "execution_count": 21,
     "metadata": {},
     "output_type": "execute_result"
    }
   ],
   "source": [
    "ss_test, sil_samp_test = silhouette_score_block(z_test, Y_test, n_jobs = -1)\n",
    "ss_test"
   ]
  },
  {
   "cell_type": "code",
   "execution_count": 22,
   "metadata": {
    "ExecuteTime": {
     "end_time": "2021-01-15T04:33:42.795324Z",
     "start_time": "2021-01-15T04:33:42.242217Z"
    }
   },
   "outputs": [
    {
     "data": {
      "text/plain": [
       "<matplotlib.collections.PathCollection at 0x7f4a3cd04490>"
      ]
     },
     "execution_count": 22,
     "metadata": {},
     "output_type": "execute_result"
    },
    {
     "data": {
      "image/png": "[encoded data removed]",
      "text/plain": [
       "<Figure size 720x360 with 2 Axes>"
      ]
     },
     "metadata": {
      "needs_background": "light"
     },
     "output_type": "display_data"
    }
   ],
   "source": [
    "fig, axs = plt.subplots(ncols = 2, figsize=(10, 5))\n",
    "axs[0].scatter(z[:, 0], z[:, 1], s=0.1, alpha=0.5, c=sil_samp, cmap=plt.cm.viridis)\n",
    "axs[1].scatter(z_test[:, 0], z_test[:, 1], s=1, alpha=0.5, c=sil_samp_test, cmap=plt.cm.viridis)"
   ]
  },
  {
   "cell_type": "markdown",
   "metadata": {},
   "source": [
    "#### KNN"
   ]
  },
  {
   "cell_type": "code",
   "execution_count": 23,
   "metadata": {
    "ExecuteTime": {
     "end_time": "2021-01-15T04:33:42.830059Z",
     "start_time": "2021-01-15T04:33:42.796561Z"
    }
   },
   "outputs": [],
   "source": [
    "from sklearn.neighbors import KNeighborsClassifier"
   ]
  },
  {
   "cell_type": "code",
   "execution_count": 24,
   "metadata": {
    "ExecuteTime": {
     "end_time": "2021-01-15T04:33:42.991324Z",
     "start_time": "2021-01-15T04:33:42.831557Z"
    }
   },
   "outputs": [
    {
     "data": {
      "text/plain": [
       "0.9678643160008926"
      ]
     },
     "execution_count": 24,
     "metadata": {},
     "output_type": "execute_result"
    }
   ],
   "source": [
    "neigh5 = KNeighborsClassifier(n_neighbors=5)\n",
    "neigh5.fit(z, Y_train)\n",
    "score_5nn = neigh5.score(z_test, Y_test)\n",
    "score_5nn"
   ]
  },
  {
   "cell_type": "code",
   "execution_count": 25,
   "metadata": {
    "ExecuteTime": {
     "end_time": "2021-01-15T04:33:43.161125Z",
     "start_time": "2021-01-15T04:33:42.992720Z"
    }
   },
   "outputs": [
    {
     "data": {
      "text/plain": [
       "0.9582682436956037"
      ]
     },
     "execution_count": 25,
     "metadata": {},
     "output_type": "execute_result"
    }
   ],
   "source": [
    "neigh1 = KNeighborsClassifier(n_neighbors=1)\n",
    "neigh1.fit(z, Y_train)\n",
    "score_1nn = neigh1.score(z_test, Y_test)\n",
    "score_1nn"
   ]
  },
  {
   "cell_type": "markdown",
   "metadata": {},
   "source": [
    "#### Trustworthiness"
   ]
  },
  {
   "cell_type": "code",
   "execution_count": 26,
   "metadata": {
    "ExecuteTime": {
     "end_time": "2021-01-15T04:33:43.202295Z",
     "start_time": "2021-01-15T04:33:43.163389Z"
    }
   },
   "outputs": [],
   "source": [
    "from sklearn.manifold import trustworthiness"
   ]
  },
  {
   "cell_type": "code",
   "execution_count": 27,
   "metadata": {
    "ExecuteTime": {
     "end_time": "2021-01-15T04:33:52.349461Z",
     "start_time": "2021-01-15T04:33:43.203759Z"
    }
   },
   "outputs": [],
   "source": [
    "tw = trustworthiness(X_train_flat[:10000], z[:10000])"
   ]
  },
  {
   "cell_type": "code",
   "execution_count": 28,
   "metadata": {
    "ExecuteTime": {
     "end_time": "2021-01-15T04:33:54.173397Z",
     "start_time": "2021-01-15T04:33:52.351145Z"
    }
   },
   "outputs": [],
   "source": [
    "tw_test = trustworthiness(X_test_flat[:10000], z_test[:10000])"
   ]
  },
  {
   "cell_type": "code",
   "execution_count": 29,
   "metadata": {
    "ExecuteTime": {
     "end_time": "2021-01-15T04:33:54.208359Z",
     "start_time": "2021-01-15T04:33:54.175234Z"
    }
   },
   "outputs": [
    {
     "data": {
      "text/plain": [
       "(0.8870510468374699, 0.8704491972041029)"
      ]
     },
     "execution_count": 29,
     "metadata": {},
     "output_type": "execute_result"
    }
   ],
   "source": [
    "tw, tw_test"
   ]
  },
  {
   "cell_type": "markdown",
   "metadata": {},
   "source": [
    "### Save output metrics"
   ]
  },
  {
   "cell_type": "code",
   "execution_count": 30,
   "metadata": {
    "ExecuteTime": {
     "end_time": "2021-01-15T04:33:54.238429Z",
     "start_time": "2021-01-15T04:33:54.209643Z"
    }
   },
   "outputs": [],
   "source": [
    "from tfumap.paths import ensure_dir, MODEL_DIR, DATA_DIR"
   ]
  },
  {
   "cell_type": "markdown",
   "metadata": {},
   "source": [
    "#### train"
   ]
  },
  {
   "cell_type": "code",
   "execution_count": 31,
   "metadata": {
    "ExecuteTime": {
     "end_time": "2021-01-15T04:33:54.287744Z",
     "start_time": "2021-01-15T04:33:54.239385Z"
    }
   },
   "outputs": [
    {
     "data": {
      "text/html": [
       "<div>\n",
       "<style scoped>\n",
       "    .dataframe tbody tr th:only-of-type {\n",
       "        vertical-align: middle;\n",
       "    }\n",
       "\n",
       "    .dataframe tbody tr th {\n",
       "        vertical-align: top;\n",
       "    }\n",
       "\n",
       "    .dataframe thead th {\n",
       "        text-align: right;\n",
       "    }\n",
       "</style>\n",
       "<table border=\"1\" class=\"dataframe\">\n",
       "  <thead>\n",
       "    <tr style=\"text-align: right;\">\n",
       "      <th></th>\n",
       "      <th>dataset</th>\n",
       "      <th>class_</th>\n",
       "      <th>dim</th>\n",
       "      <th>trustworthiness</th>\n",
       "      <th>silhouette_score</th>\n",
       "      <th>silhouette_samples</th>\n",
       "    </tr>\n",
       "  </thead>\n",
       "  <tbody>\n",
       "    <tr>\n",
       "      <th>0</th>\n",
       "      <td>macosko2015</td>\n",
       "      <td>phate</td>\n",
       "      <td>2</td>\n",
       "      <td>0.887051</td>\n",
       "      <td>0.472342</td>\n",
       "      <td>[0.5580451385498394, 0.5547430483940562, 0.256...</td>\n",
       "    </tr>\n",
       "  </tbody>\n",
       "</table>\n",
       "</div>"
      ],
      "text/plain": [
       "       dataset class_ dim  trustworthiness  silhouette_score  \\\n",
       "0  macosko2015  phate   2         0.887051          0.472342   \n",
       "\n",
       "                                  silhouette_samples  \n",
       "0  [0.5580451385498394, 0.5547430483940562, 0.256...  "
      ]
     },
     "execution_count": 31,
     "metadata": {},
     "output_type": "execute_result"
    }
   ],
   "source": [
    "metrics_df = pd.DataFrame(\n",
    "    columns=[\n",
    "        \"dataset\",\n",
    "        \"class_\",\n",
    "        \"dim\",\n",
    "        \"trustworthiness\",\n",
    "        \"silhouette_score\",\n",
    "        \"silhouette_samples\",\n",
    "    ]\n",
    ")\n",
    "metrics_df.loc[len(metrics_df)] = [dataset, algorithm, n_components, tw, ss, sil_samp]\n",
    "metrics_df"
   ]
  },
  {
   "cell_type": "code",
   "execution_count": 32,
   "metadata": {
    "ExecuteTime": {
     "end_time": "2021-01-15T04:33:54.363727Z",
     "start_time": "2021-01-15T04:33:54.289018Z"
    }
   },
   "outputs": [],
   "source": [
    "save_loc = DATA_DIR / 'projection_metrics' /  algorithm / 'train' / str(n_components) / (dataset + '.pickle')\n",
    "ensure_dir(save_loc)\n",
    "metrics_df.to_pickle(save_loc)"
   ]
  },
  {
   "cell_type": "markdown",
   "metadata": {},
   "source": [
    "#### test"
   ]
  },
  {
   "cell_type": "code",
   "execution_count": 33,
   "metadata": {
    "ExecuteTime": {
     "end_time": "2021-01-15T04:33:54.415228Z",
     "start_time": "2021-01-15T04:33:54.365250Z"
    }
   },
   "outputs": [
    {
     "data": {
      "text/html": [
       "<div>\n",
       "<style scoped>\n",
       "    .dataframe tbody tr th:only-of-type {\n",
       "        vertical-align: middle;\n",
       "    }\n",
       "\n",
       "    .dataframe tbody tr th {\n",
       "        vertical-align: top;\n",
       "    }\n",
       "\n",
       "    .dataframe thead th {\n",
       "        text-align: right;\n",
       "    }\n",
       "</style>\n",
       "<table border=\"1\" class=\"dataframe\">\n",
       "  <thead>\n",
       "    <tr style=\"text-align: right;\">\n",
       "      <th></th>\n",
       "      <th>dataset</th>\n",
       "      <th>class_</th>\n",
       "      <th>dim</th>\n",
       "      <th>trustworthiness</th>\n",
       "      <th>silhouette_score</th>\n",
       "      <th>silhouette_samples</th>\n",
       "    </tr>\n",
       "  </thead>\n",
       "  <tbody>\n",
       "    <tr>\n",
       "      <th>1</th>\n",
       "      <td>macosko2015</td>\n",
       "      <td>phate</td>\n",
       "      <td>2</td>\n",
       "      <td>0.870449</td>\n",
       "      <td>0.486365</td>\n",
       "      <td>[0.6697749261708856, 0.3071744669826735, 0.689...</td>\n",
       "    </tr>\n",
       "  </tbody>\n",
       "</table>\n",
       "</div>"
      ],
      "text/plain": [
       "       dataset class_ dim  trustworthiness  silhouette_score  \\\n",
       "1  macosko2015  phate   2         0.870449          0.486365   \n",
       "\n",
       "                                  silhouette_samples  \n",
       "1  [0.6697749261708856, 0.3071744669826735, 0.689...  "
      ]
     },
     "execution_count": 33,
     "metadata": {},
     "output_type": "execute_result"
    }
   ],
   "source": [
    "metrics_df_test = pd.DataFrame(\n",
    "    columns=[\n",
    "        \"dataset\",\n",
    "        \"class_\",\n",
    "        \"dim\",\n",
    "        \"trustworthiness\",\n",
    "        \"silhouette_score\",\n",
    "        \"silhouette_samples\",\n",
    "    ]\n",
    ")\n",
    "metrics_df_test.loc[len(metrics_df)] = [dataset, algorithm, n_components, tw_test, ss_test, sil_samp_test]\n",
    "metrics_df_test"
   ]
  },
  {
   "cell_type": "code",
   "execution_count": 34,
   "metadata": {
    "ExecuteTime": {
     "end_time": "2021-01-15T04:33:54.468100Z",
     "start_time": "2021-01-15T04:33:54.416244Z"
    }
   },
   "outputs": [],
   "source": [
    "save_loc = DATA_DIR / 'projection_metrics' / algorithm / 'test' / str(n_components) / (dataset + '.pickle')\n",
    "ensure_dir(save_loc)\n",
    "metrics_df.to_pickle(save_loc)"
   ]
  },
  {
   "cell_type": "markdown",
   "metadata": {},
   "source": [
    "#### knn "
   ]
  },
  {
   "cell_type": "code",
   "execution_count": 35,
   "metadata": {
    "ExecuteTime": {
     "end_time": "2021-01-15T04:33:54.518027Z",
     "start_time": "2021-01-15T04:33:54.470041Z"
    }
   },
   "outputs": [
    {
     "data": {
      "text/html": [
       "<div>\n",
       "<style scoped>\n",
       "    .dataframe tbody tr th:only-of-type {\n",
       "        vertical-align: middle;\n",
       "    }\n",
       "\n",
       "    .dataframe tbody tr th {\n",
       "        vertical-align: top;\n",
       "    }\n",
       "\n",
       "    .dataframe thead th {\n",
       "        text-align: right;\n",
       "    }\n",
       "</style>\n",
       "<table border=\"1\" class=\"dataframe\">\n",
       "  <thead>\n",
       "    <tr style=\"text-align: right;\">\n",
       "      <th></th>\n",
       "      <th>method_</th>\n",
       "      <th>dimensions</th>\n",
       "      <th>dataset</th>\n",
       "      <th>1NN_acc</th>\n",
       "      <th>5NN_acc</th>\n",
       "    </tr>\n",
       "  </thead>\n",
       "  <tbody>\n",
       "    <tr>\n",
       "      <th>0</th>\n",
       "      <td>phate</td>\n",
       "      <td>2</td>\n",
       "      <td>macosko2015</td>\n",
       "      <td>0.958268</td>\n",
       "      <td>0.967864</td>\n",
       "    </tr>\n",
       "  </tbody>\n",
       "</table>\n",
       "</div>"
      ],
      "text/plain": [
       "  method_ dimensions      dataset   1NN_acc   5NN_acc\n",
       "0   phate          2  macosko2015  0.958268  0.967864"
      ]
     },
     "execution_count": 35,
     "metadata": {},
     "output_type": "execute_result"
    }
   ],
   "source": [
    "nn_acc_df = pd.DataFrame(columns = [\"method_\",\"dimensions\",\"dataset\",\"1NN_acc\",\"5NN_acc\"])\n",
    "nn_acc_df.loc[len(nn_acc_df)] = [algorithm, n_components, dataset,  score_1nn, score_5nn]\n",
    "nn_acc_df"
   ]
  },
  {
   "cell_type": "code",
   "execution_count": 36,
   "metadata": {
    "ExecuteTime": {
     "end_time": "2021-01-15T04:33:54.568623Z",
     "start_time": "2021-01-15T04:33:54.519109Z"
    }
   },
   "outputs": [],
   "source": [
    "save_loc = DATA_DIR / 'knn_classifier' / algorithm / 'train' / str(n_components) / (dataset + '.pickle')\n",
    "ensure_dir(save_loc)\n",
    "nn_acc_df.to_pickle(save_loc)"
   ]
  },
  {
   "cell_type": "markdown",
   "metadata": {},
   "source": [
    "### Compute clustering quality"
   ]
  },
  {
   "cell_type": "code",
   "execution_count": 37,
   "metadata": {
    "ExecuteTime": {
     "end_time": "2021-01-15T04:33:54.604586Z",
     "start_time": "2021-01-15T04:33:54.570736Z"
    }
   },
   "outputs": [],
   "source": [
    "from sklearn.cluster import KMeans\n",
    "from sklearn.metrics import homogeneity_completeness_v_measure"
   ]
  },
  {
   "cell_type": "code",
   "execution_count": 38,
   "metadata": {
    "ExecuteTime": {
     "end_time": "2021-01-15T04:33:54.644106Z",
     "start_time": "2021-01-15T04:33:54.605736Z"
    }
   },
   "outputs": [],
   "source": [
    "def get_cluster_metrics(row, n_init=5):\n",
    "    \n",
    "    # load cluster information\n",
    "    save_loc = DATA_DIR / 'clustering_metric_df'/ ('_'.join([row.class_, str(row.dim), row.dataset]) + '.pickle')\n",
    "    print(save_loc)\n",
    "    if save_loc.exists() and save_loc.is_file():\n",
    "        \n",
    "        cluster_df = pd.read_pickle(save_loc)\n",
    "        return cluster_df\n",
    "    \n",
    "    # make cluster metric dataframe\n",
    "    cluster_df = pd.DataFrame(\n",
    "        columns=[\n",
    "            \"dataset\",\n",
    "            \"class_\",\n",
    "            \"dim\",\n",
    "            \"silhouette\",\n",
    "            \"homogeneity\",\n",
    "            \"completeness\",\n",
    "            \"v_measure\",\n",
    "            \"init_\",\n",
    "            \"n_clusters\",\n",
    "            \"model\",\n",
    "        ]\n",
    "    )\n",
    "    y = row.train_label\n",
    "    z = row.train_z\n",
    "    n_labels = len(np.unique(y))\n",
    "    for n_clusters in tqdm(np.arange(n_labels - int(n_labels / 2), n_labels + int(n_labels / 2)), leave=False, desc = 'n_clusters'):\n",
    "        for init_ in tqdm(range(n_init), leave=False, desc='init'):\n",
    "            kmeans = KMeans(n_clusters=n_clusters, random_state=init_).fit(z)\n",
    "            clustered_y = kmeans.labels_\n",
    "            homogeneity, completeness, v_measure = homogeneity_completeness_v_measure(\n",
    "                y, clustered_y\n",
    "            )\n",
    "            ss, _ = silhouette_score_block(z, clustered_y)\n",
    "            cluster_df.loc[len(cluster_df)] = [\n",
    "                row.dataset,\n",
    "                row.class_,\n",
    "                row.dim,\n",
    "                ss,\n",
    "                homogeneity,\n",
    "                completeness,\n",
    "                v_measure,\n",
    "                init_,\n",
    "                n_clusters,\n",
    "                kmeans,\n",
    "            ]\n",
    "    \n",
    "     # save cluster df in case this fails somewhere\n",
    "    ensure_dir(save_loc)\n",
    "    cluster_df.to_pickle(save_loc)\n",
    "    return cluster_df"
   ]
  },
  {
   "cell_type": "code",
   "execution_count": 39,
   "metadata": {
    "ExecuteTime": {
     "end_time": "2021-01-15T04:33:54.709751Z",
     "start_time": "2021-01-15T04:33:54.645203Z"
    }
   },
   "outputs": [
    {
     "data": {
      "text/html": [
       "<div>\n",
       "<style scoped>\n",
       "    .dataframe tbody tr th:only-of-type {\n",
       "        vertical-align: middle;\n",
       "    }\n",
       "\n",
       "    .dataframe tbody tr th {\n",
       "        vertical-align: top;\n",
       "    }\n",
       "\n",
       "    .dataframe thead th {\n",
       "        text-align: right;\n",
       "    }\n",
       "</style>\n",
       "<table border=\"1\" class=\"dataframe\">\n",
       "  <thead>\n",
       "    <tr style=\"text-align: right;\">\n",
       "      <th></th>\n",
       "      <th>dataset</th>\n",
       "      <th>class_</th>\n",
       "      <th>train_z</th>\n",
       "      <th>train_label</th>\n",
       "      <th>dim</th>\n",
       "    </tr>\n",
       "  </thead>\n",
       "  <tbody>\n",
       "    <tr>\n",
       "      <th>0</th>\n",
       "      <td>macosko2015</td>\n",
       "      <td>phate</td>\n",
       "      <td>[[0.011059872976151196, 0.0025136312694616953]...</td>\n",
       "      <td>[10.0, 7.0, 0.0, 10.0, 10.0, 10.0, 10.0, 10.0,...</td>\n",
       "      <td>2</td>\n",
       "    </tr>\n",
       "  </tbody>\n",
       "</table>\n",
       "</div>"
      ],
      "text/plain": [
       "       dataset class_                                            train_z  \\\n",
       "0  macosko2015  phate  [[0.011059872976151196, 0.0025136312694616953]...   \n",
       "\n",
       "                                         train_label dim  \n",
       "0  [10.0, 7.0, 0.0, 10.0, 10.0, 10.0, 10.0, 10.0,...   2  "
      ]
     },
     "execution_count": 39,
     "metadata": {},
     "output_type": "execute_result"
    }
   ],
   "source": [
    "projection_df = pd.DataFrame(columns = ['dataset', 'class_', 'train_z', 'train_label', 'dim'])\n",
    "projection_df.loc[len(projection_df)] = [dataset, algorithm, z, Y_train, n_components]\n",
    "projection_df"
   ]
  },
  {
   "cell_type": "code",
   "execution_count": 40,
   "metadata": {
    "ExecuteTime": {
     "end_time": "2021-01-15T04:33:54.797289Z",
     "start_time": "2021-01-15T04:33:54.710955Z"
    }
   },
   "outputs": [
    {
     "name": "stdout",
     "output_type": "stream",
     "text": [
      "/mnt/cube/tsainbur/Projects/github_repos/umap_tf_networks/data/clustering_metric_df/phate_2_macosko2015.pickle\n"
     ]
    },
    {
     "data": {
      "text/html": [
       "<div>\n",
       "<style scoped>\n",
       "    .dataframe tbody tr th:only-of-type {\n",
       "        vertical-align: middle;\n",
       "    }\n",
       "\n",
       "    .dataframe tbody tr th {\n",
       "        vertical-align: top;\n",
       "    }\n",
       "\n",
       "    .dataframe thead th {\n",
       "        text-align: right;\n",
       "    }\n",
       "</style>\n",
       "<table border=\"1\" class=\"dataframe\">\n",
       "  <thead>\n",
       "    <tr style=\"text-align: right;\">\n",
       "      <th></th>\n",
       "      <th>dataset</th>\n",
       "      <th>class_</th>\n",
       "      <th>dim</th>\n",
       "      <th>silhouette</th>\n",
       "      <th>homogeneity</th>\n",
       "      <th>completeness</th>\n",
       "      <th>v_measure</th>\n",
       "      <th>init_</th>\n",
       "      <th>n_clusters</th>\n",
       "      <th>model</th>\n",
       "    </tr>\n",
       "  </thead>\n",
       "  <tbody>\n",
       "    <tr>\n",
       "      <th>0</th>\n",
       "      <td>macosko2015</td>\n",
       "      <td>phate</td>\n",
       "      <td>2</td>\n",
       "      <td>0.614372</td>\n",
       "      <td>0.581859</td>\n",
       "      <td>0.537320</td>\n",
       "      <td>0.558703</td>\n",
       "      <td>0</td>\n",
       "      <td>6</td>\n",
       "      <td>KMeans(n_clusters=6, random_state=0)</td>\n",
       "    </tr>\n",
       "    <tr>\n",
       "      <th>1</th>\n",
       "      <td>macosko2015</td>\n",
       "      <td>phate</td>\n",
       "      <td>2</td>\n",
       "      <td>0.613803</td>\n",
       "      <td>0.582278</td>\n",
       "      <td>0.537084</td>\n",
       "      <td>0.558768</td>\n",
       "      <td>1</td>\n",
       "      <td>6</td>\n",
       "      <td>KMeans(n_clusters=6, random_state=1)</td>\n",
       "    </tr>\n",
       "    <tr>\n",
       "      <th>2</th>\n",
       "      <td>macosko2015</td>\n",
       "      <td>phate</td>\n",
       "      <td>2</td>\n",
       "      <td>0.614321</td>\n",
       "      <td>0.581788</td>\n",
       "      <td>0.537216</td>\n",
       "      <td>0.558614</td>\n",
       "      <td>2</td>\n",
       "      <td>6</td>\n",
       "      <td>KMeans(n_clusters=6, random_state=2)</td>\n",
       "    </tr>\n",
       "    <tr>\n",
       "      <th>3</th>\n",
       "      <td>macosko2015</td>\n",
       "      <td>phate</td>\n",
       "      <td>2</td>\n",
       "      <td>0.613961</td>\n",
       "      <td>0.582114</td>\n",
       "      <td>0.537239</td>\n",
       "      <td>0.558777</td>\n",
       "      <td>3</td>\n",
       "      <td>6</td>\n",
       "      <td>KMeans(n_clusters=6, random_state=3)</td>\n",
       "    </tr>\n",
       "    <tr>\n",
       "      <th>4</th>\n",
       "      <td>macosko2015</td>\n",
       "      <td>phate</td>\n",
       "      <td>2</td>\n",
       "      <td>0.614275</td>\n",
       "      <td>0.581853</td>\n",
       "      <td>0.537138</td>\n",
       "      <td>0.558602</td>\n",
       "      <td>4</td>\n",
       "      <td>6</td>\n",
       "      <td>KMeans(n_clusters=6, random_state=4)</td>\n",
       "    </tr>\n",
       "    <tr>\n",
       "      <th>5</th>\n",
       "      <td>macosko2015</td>\n",
       "      <td>phate</td>\n",
       "      <td>2</td>\n",
       "      <td>0.549549</td>\n",
       "      <td>0.601784</td>\n",
       "      <td>0.484771</td>\n",
       "      <td>0.536977</td>\n",
       "      <td>0</td>\n",
       "      <td>7</td>\n",
       "      <td>KMeans(n_clusters=7, random_state=0)</td>\n",
       "    </tr>\n",
       "    <tr>\n",
       "      <th>6</th>\n",
       "      <td>macosko2015</td>\n",
       "      <td>phate</td>\n",
       "      <td>2</td>\n",
       "      <td>0.544831</td>\n",
       "      <td>0.601295</td>\n",
       "      <td>0.481722</td>\n",
       "      <td>0.534908</td>\n",
       "      <td>1</td>\n",
       "      <td>7</td>\n",
       "      <td>KMeans(n_clusters=7, random_state=1)</td>\n",
       "    </tr>\n",
       "    <tr>\n",
       "      <th>7</th>\n",
       "      <td>macosko2015</td>\n",
       "      <td>phate</td>\n",
       "      <td>2</td>\n",
       "      <td>0.550949</td>\n",
       "      <td>0.601715</td>\n",
       "      <td>0.485697</td>\n",
       "      <td>0.537517</td>\n",
       "      <td>2</td>\n",
       "      <td>7</td>\n",
       "      <td>KMeans(n_clusters=7, random_state=2)</td>\n",
       "    </tr>\n",
       "    <tr>\n",
       "      <th>8</th>\n",
       "      <td>macosko2015</td>\n",
       "      <td>phate</td>\n",
       "      <td>2</td>\n",
       "      <td>0.552156</td>\n",
       "      <td>0.601733</td>\n",
       "      <td>0.486606</td>\n",
       "      <td>0.538080</td>\n",
       "      <td>3</td>\n",
       "      <td>7</td>\n",
       "      <td>KMeans(n_clusters=7, random_state=3)</td>\n",
       "    </tr>\n",
       "    <tr>\n",
       "      <th>9</th>\n",
       "      <td>macosko2015</td>\n",
       "      <td>phate</td>\n",
       "      <td>2</td>\n",
       "      <td>0.545864</td>\n",
       "      <td>0.601294</td>\n",
       "      <td>0.482204</td>\n",
       "      <td>0.535204</td>\n",
       "      <td>4</td>\n",
       "      <td>7</td>\n",
       "      <td>KMeans(n_clusters=7, random_state=4)</td>\n",
       "    </tr>\n",
       "    <tr>\n",
       "      <th>10</th>\n",
       "      <td>macosko2015</td>\n",
       "      <td>phate</td>\n",
       "      <td>2</td>\n",
       "      <td>0.562012</td>\n",
       "      <td>0.632207</td>\n",
       "      <td>0.495271</td>\n",
       "      <td>0.555423</td>\n",
       "      <td>0</td>\n",
       "      <td>8</td>\n",
       "      <td>KMeans(random_state=0)</td>\n",
       "    </tr>\n",
       "    <tr>\n",
       "      <th>11</th>\n",
       "      <td>macosko2015</td>\n",
       "      <td>phate</td>\n",
       "      <td>2</td>\n",
       "      <td>0.562141</td>\n",
       "      <td>0.632042</td>\n",
       "      <td>0.495286</td>\n",
       "      <td>0.555369</td>\n",
       "      <td>1</td>\n",
       "      <td>8</td>\n",
       "      <td>KMeans(random_state=1)</td>\n",
       "    </tr>\n",
       "    <tr>\n",
       "      <th>12</th>\n",
       "      <td>macosko2015</td>\n",
       "      <td>phate</td>\n",
       "      <td>2</td>\n",
       "      <td>0.562170</td>\n",
       "      <td>0.632083</td>\n",
       "      <td>0.495506</td>\n",
       "      <td>0.555523</td>\n",
       "      <td>2</td>\n",
       "      <td>8</td>\n",
       "      <td>KMeans(random_state=2)</td>\n",
       "    </tr>\n",
       "    <tr>\n",
       "      <th>13</th>\n",
       "      <td>macosko2015</td>\n",
       "      <td>phate</td>\n",
       "      <td>2</td>\n",
       "      <td>0.560733</td>\n",
       "      <td>0.631671</td>\n",
       "      <td>0.494153</td>\n",
       "      <td>0.554513</td>\n",
       "      <td>3</td>\n",
       "      <td>8</td>\n",
       "      <td>KMeans(random_state=3)</td>\n",
       "    </tr>\n",
       "    <tr>\n",
       "      <th>14</th>\n",
       "      <td>macosko2015</td>\n",
       "      <td>phate</td>\n",
       "      <td>2</td>\n",
       "      <td>0.562532</td>\n",
       "      <td>0.632105</td>\n",
       "      <td>0.495668</td>\n",
       "      <td>0.555634</td>\n",
       "      <td>4</td>\n",
       "      <td>8</td>\n",
       "      <td>KMeans(random_state=4)</td>\n",
       "    </tr>\n",
       "    <tr>\n",
       "      <th>15</th>\n",
       "      <td>macosko2015</td>\n",
       "      <td>phate</td>\n",
       "      <td>2</td>\n",
       "      <td>0.555646</td>\n",
       "      <td>0.629007</td>\n",
       "      <td>0.470329</td>\n",
       "      <td>0.538216</td>\n",
       "      <td>0</td>\n",
       "      <td>9</td>\n",
       "      <td>KMeans(n_clusters=9, random_state=0)</td>\n",
       "    </tr>\n",
       "    <tr>\n",
       "      <th>16</th>\n",
       "      <td>macosko2015</td>\n",
       "      <td>phate</td>\n",
       "      <td>2</td>\n",
       "      <td>0.553067</td>\n",
       "      <td>0.628773</td>\n",
       "      <td>0.468430</td>\n",
       "      <td>0.536885</td>\n",
       "      <td>1</td>\n",
       "      <td>9</td>\n",
       "      <td>KMeans(n_clusters=9, random_state=1)</td>\n",
       "    </tr>\n",
       "    <tr>\n",
       "      <th>17</th>\n",
       "      <td>macosko2015</td>\n",
       "      <td>phate</td>\n",
       "      <td>2</td>\n",
       "      <td>0.553175</td>\n",
       "      <td>0.628293</td>\n",
       "      <td>0.468347</td>\n",
       "      <td>0.536656</td>\n",
       "      <td>2</td>\n",
       "      <td>9</td>\n",
       "      <td>KMeans(n_clusters=9, random_state=2)</td>\n",
       "    </tr>\n",
       "    <tr>\n",
       "      <th>18</th>\n",
       "      <td>macosko2015</td>\n",
       "      <td>phate</td>\n",
       "      <td>2</td>\n",
       "      <td>0.554573</td>\n",
       "      <td>0.628913</td>\n",
       "      <td>0.469612</td>\n",
       "      <td>0.537712</td>\n",
       "      <td>3</td>\n",
       "      <td>9</td>\n",
       "      <td>KMeans(n_clusters=9, random_state=3)</td>\n",
       "    </tr>\n",
       "    <tr>\n",
       "      <th>19</th>\n",
       "      <td>macosko2015</td>\n",
       "      <td>phate</td>\n",
       "      <td>2</td>\n",
       "      <td>0.555059</td>\n",
       "      <td>0.628965</td>\n",
       "      <td>0.469982</td>\n",
       "      <td>0.537974</td>\n",
       "      <td>4</td>\n",
       "      <td>9</td>\n",
       "      <td>KMeans(n_clusters=9, random_state=4)</td>\n",
       "    </tr>\n",
       "    <tr>\n",
       "      <th>20</th>\n",
       "      <td>macosko2015</td>\n",
       "      <td>phate</td>\n",
       "      <td>2</td>\n",
       "      <td>0.545868</td>\n",
       "      <td>0.644299</td>\n",
       "      <td>0.461469</td>\n",
       "      <td>0.537769</td>\n",
       "      <td>0</td>\n",
       "      <td>10</td>\n",
       "      <td>KMeans(n_clusters=10, random_state=0)</td>\n",
       "    </tr>\n",
       "    <tr>\n",
       "      <th>21</th>\n",
       "      <td>macosko2015</td>\n",
       "      <td>phate</td>\n",
       "      <td>2</td>\n",
       "      <td>0.545656</td>\n",
       "      <td>0.644233</td>\n",
       "      <td>0.461301</td>\n",
       "      <td>0.537632</td>\n",
       "      <td>1</td>\n",
       "      <td>10</td>\n",
       "      <td>KMeans(n_clusters=10, random_state=1)</td>\n",
       "    </tr>\n",
       "    <tr>\n",
       "      <th>22</th>\n",
       "      <td>macosko2015</td>\n",
       "      <td>phate</td>\n",
       "      <td>2</td>\n",
       "      <td>0.543359</td>\n",
       "      <td>0.644068</td>\n",
       "      <td>0.460139</td>\n",
       "      <td>0.536785</td>\n",
       "      <td>2</td>\n",
       "      <td>10</td>\n",
       "      <td>KMeans(n_clusters=10, random_state=2)</td>\n",
       "    </tr>\n",
       "    <tr>\n",
       "      <th>23</th>\n",
       "      <td>macosko2015</td>\n",
       "      <td>phate</td>\n",
       "      <td>2</td>\n",
       "      <td>0.541162</td>\n",
       "      <td>0.644201</td>\n",
       "      <td>0.459134</td>\n",
       "      <td>0.536147</td>\n",
       "      <td>3</td>\n",
       "      <td>10</td>\n",
       "      <td>KMeans(n_clusters=10, random_state=3)</td>\n",
       "    </tr>\n",
       "    <tr>\n",
       "      <th>24</th>\n",
       "      <td>macosko2015</td>\n",
       "      <td>phate</td>\n",
       "      <td>2</td>\n",
       "      <td>0.546055</td>\n",
       "      <td>0.644234</td>\n",
       "      <td>0.461598</td>\n",
       "      <td>0.537834</td>\n",
       "      <td>4</td>\n",
       "      <td>10</td>\n",
       "      <td>KMeans(n_clusters=10, random_state=4)</td>\n",
       "    </tr>\n",
       "    <tr>\n",
       "      <th>25</th>\n",
       "      <td>macosko2015</td>\n",
       "      <td>phate</td>\n",
       "      <td>2</td>\n",
       "      <td>0.424038</td>\n",
       "      <td>0.646921</td>\n",
       "      <td>0.392358</td>\n",
       "      <td>0.488463</td>\n",
       "      <td>0</td>\n",
       "      <td>11</td>\n",
       "      <td>KMeans(n_clusters=11, random_state=0)</td>\n",
       "    </tr>\n",
       "    <tr>\n",
       "      <th>26</th>\n",
       "      <td>macosko2015</td>\n",
       "      <td>phate</td>\n",
       "      <td>2</td>\n",
       "      <td>0.434099</td>\n",
       "      <td>0.647520</td>\n",
       "      <td>0.397537</td>\n",
       "      <td>0.492630</td>\n",
       "      <td>1</td>\n",
       "      <td>11</td>\n",
       "      <td>KMeans(n_clusters=11, random_state=1)</td>\n",
       "    </tr>\n",
       "    <tr>\n",
       "      <th>27</th>\n",
       "      <td>macosko2015</td>\n",
       "      <td>phate</td>\n",
       "      <td>2</td>\n",
       "      <td>0.433746</td>\n",
       "      <td>0.647545</td>\n",
       "      <td>0.397169</td>\n",
       "      <td>0.492354</td>\n",
       "      <td>2</td>\n",
       "      <td>11</td>\n",
       "      <td>KMeans(n_clusters=11, random_state=2)</td>\n",
       "    </tr>\n",
       "    <tr>\n",
       "      <th>28</th>\n",
       "      <td>macosko2015</td>\n",
       "      <td>phate</td>\n",
       "      <td>2</td>\n",
       "      <td>0.437940</td>\n",
       "      <td>0.647394</td>\n",
       "      <td>0.399210</td>\n",
       "      <td>0.493876</td>\n",
       "      <td>3</td>\n",
       "      <td>11</td>\n",
       "      <td>KMeans(n_clusters=11, random_state=3)</td>\n",
       "    </tr>\n",
       "    <tr>\n",
       "      <th>29</th>\n",
       "      <td>macosko2015</td>\n",
       "      <td>phate</td>\n",
       "      <td>2</td>\n",
       "      <td>0.425673</td>\n",
       "      <td>0.646725</td>\n",
       "      <td>0.393028</td>\n",
       "      <td>0.488926</td>\n",
       "      <td>4</td>\n",
       "      <td>11</td>\n",
       "      <td>KMeans(n_clusters=11, random_state=4)</td>\n",
       "    </tr>\n",
       "    <tr>\n",
       "      <th>30</th>\n",
       "      <td>macosko2015</td>\n",
       "      <td>phate</td>\n",
       "      <td>2</td>\n",
       "      <td>0.464786</td>\n",
       "      <td>0.657458</td>\n",
       "      <td>0.406741</td>\n",
       "      <td>0.502566</td>\n",
       "      <td>0</td>\n",
       "      <td>12</td>\n",
       "      <td>KMeans(n_clusters=12, random_state=0)</td>\n",
       "    </tr>\n",
       "    <tr>\n",
       "      <th>31</th>\n",
       "      <td>macosko2015</td>\n",
       "      <td>phate</td>\n",
       "      <td>2</td>\n",
       "      <td>0.437609</td>\n",
       "      <td>0.656749</td>\n",
       "      <td>0.393184</td>\n",
       "      <td>0.491885</td>\n",
       "      <td>1</td>\n",
       "      <td>12</td>\n",
       "      <td>KMeans(n_clusters=12, random_state=1)</td>\n",
       "    </tr>\n",
       "    <tr>\n",
       "      <th>32</th>\n",
       "      <td>macosko2015</td>\n",
       "      <td>phate</td>\n",
       "      <td>2</td>\n",
       "      <td>0.436348</td>\n",
       "      <td>0.656774</td>\n",
       "      <td>0.392590</td>\n",
       "      <td>0.491427</td>\n",
       "      <td>2</td>\n",
       "      <td>12</td>\n",
       "      <td>KMeans(n_clusters=12, random_state=2)</td>\n",
       "    </tr>\n",
       "    <tr>\n",
       "      <th>33</th>\n",
       "      <td>macosko2015</td>\n",
       "      <td>phate</td>\n",
       "      <td>2</td>\n",
       "      <td>0.434354</td>\n",
       "      <td>0.656231</td>\n",
       "      <td>0.391497</td>\n",
       "      <td>0.490418</td>\n",
       "      <td>3</td>\n",
       "      <td>12</td>\n",
       "      <td>KMeans(n_clusters=12, random_state=3)</td>\n",
       "    </tr>\n",
       "    <tr>\n",
       "      <th>34</th>\n",
       "      <td>macosko2015</td>\n",
       "      <td>phate</td>\n",
       "      <td>2</td>\n",
       "      <td>0.436746</td>\n",
       "      <td>0.656689</td>\n",
       "      <td>0.392755</td>\n",
       "      <td>0.491532</td>\n",
       "      <td>4</td>\n",
       "      <td>12</td>\n",
       "      <td>KMeans(n_clusters=12, random_state=4)</td>\n",
       "    </tr>\n",
       "    <tr>\n",
       "      <th>35</th>\n",
       "      <td>macosko2015</td>\n",
       "      <td>phate</td>\n",
       "      <td>2</td>\n",
       "      <td>0.434495</td>\n",
       "      <td>0.655193</td>\n",
       "      <td>0.384025</td>\n",
       "      <td>0.484230</td>\n",
       "      <td>0</td>\n",
       "      <td>13</td>\n",
       "      <td>KMeans(n_clusters=13, random_state=0)</td>\n",
       "    </tr>\n",
       "    <tr>\n",
       "      <th>36</th>\n",
       "      <td>macosko2015</td>\n",
       "      <td>phate</td>\n",
       "      <td>2</td>\n",
       "      <td>0.433679</td>\n",
       "      <td>0.655678</td>\n",
       "      <td>0.384000</td>\n",
       "      <td>0.484343</td>\n",
       "      <td>1</td>\n",
       "      <td>13</td>\n",
       "      <td>KMeans(n_clusters=13, random_state=1)</td>\n",
       "    </tr>\n",
       "    <tr>\n",
       "      <th>37</th>\n",
       "      <td>macosko2015</td>\n",
       "      <td>phate</td>\n",
       "      <td>2</td>\n",
       "      <td>0.423282</td>\n",
       "      <td>0.655353</td>\n",
       "      <td>0.379503</td>\n",
       "      <td>0.480663</td>\n",
       "      <td>2</td>\n",
       "      <td>13</td>\n",
       "      <td>KMeans(n_clusters=13, random_state=2)</td>\n",
       "    </tr>\n",
       "    <tr>\n",
       "      <th>38</th>\n",
       "      <td>macosko2015</td>\n",
       "      <td>phate</td>\n",
       "      <td>2</td>\n",
       "      <td>0.409705</td>\n",
       "      <td>0.662597</td>\n",
       "      <td>0.367793</td>\n",
       "      <td>0.473022</td>\n",
       "      <td>3</td>\n",
       "      <td>13</td>\n",
       "      <td>KMeans(n_clusters=13, random_state=3)</td>\n",
       "    </tr>\n",
       "    <tr>\n",
       "      <th>39</th>\n",
       "      <td>macosko2015</td>\n",
       "      <td>phate</td>\n",
       "      <td>2</td>\n",
       "      <td>0.434633</td>\n",
       "      <td>0.655171</td>\n",
       "      <td>0.384104</td>\n",
       "      <td>0.484288</td>\n",
       "      <td>4</td>\n",
       "      <td>13</td>\n",
       "      <td>KMeans(n_clusters=13, random_state=4)</td>\n",
       "    </tr>\n",
       "    <tr>\n",
       "      <th>40</th>\n",
       "      <td>macosko2015</td>\n",
       "      <td>phate</td>\n",
       "      <td>2</td>\n",
       "      <td>0.398465</td>\n",
       "      <td>0.661444</td>\n",
       "      <td>0.358333</td>\n",
       "      <td>0.464841</td>\n",
       "      <td>0</td>\n",
       "      <td>14</td>\n",
       "      <td>KMeans(n_clusters=14, random_state=0)</td>\n",
       "    </tr>\n",
       "    <tr>\n",
       "      <th>41</th>\n",
       "      <td>macosko2015</td>\n",
       "      <td>phate</td>\n",
       "      <td>2</td>\n",
       "      <td>0.390064</td>\n",
       "      <td>0.661456</td>\n",
       "      <td>0.357734</td>\n",
       "      <td>0.464340</td>\n",
       "      <td>1</td>\n",
       "      <td>14</td>\n",
       "      <td>KMeans(n_clusters=14, random_state=1)</td>\n",
       "    </tr>\n",
       "    <tr>\n",
       "      <th>42</th>\n",
       "      <td>macosko2015</td>\n",
       "      <td>phate</td>\n",
       "      <td>2</td>\n",
       "      <td>0.395091</td>\n",
       "      <td>0.661550</td>\n",
       "      <td>0.357659</td>\n",
       "      <td>0.464300</td>\n",
       "      <td>2</td>\n",
       "      <td>14</td>\n",
       "      <td>KMeans(n_clusters=14, random_state=2)</td>\n",
       "    </tr>\n",
       "    <tr>\n",
       "      <th>43</th>\n",
       "      <td>macosko2015</td>\n",
       "      <td>phate</td>\n",
       "      <td>2</td>\n",
       "      <td>0.392929</td>\n",
       "      <td>0.661153</td>\n",
       "      <td>0.359100</td>\n",
       "      <td>0.465414</td>\n",
       "      <td>3</td>\n",
       "      <td>14</td>\n",
       "      <td>KMeans(n_clusters=14, random_state=3)</td>\n",
       "    </tr>\n",
       "    <tr>\n",
       "      <th>44</th>\n",
       "      <td>macosko2015</td>\n",
       "      <td>phate</td>\n",
       "      <td>2</td>\n",
       "      <td>0.410405</td>\n",
       "      <td>0.662278</td>\n",
       "      <td>0.360808</td>\n",
       "      <td>0.467126</td>\n",
       "      <td>4</td>\n",
       "      <td>14</td>\n",
       "      <td>KMeans(n_clusters=14, random_state=4)</td>\n",
       "    </tr>\n",
       "    <tr>\n",
       "      <th>45</th>\n",
       "      <td>macosko2015</td>\n",
       "      <td>phate</td>\n",
       "      <td>2</td>\n",
       "      <td>0.401280</td>\n",
       "      <td>0.669357</td>\n",
       "      <td>0.359256</td>\n",
       "      <td>0.467563</td>\n",
       "      <td>0</td>\n",
       "      <td>15</td>\n",
       "      <td>KMeans(n_clusters=15, random_state=0)</td>\n",
       "    </tr>\n",
       "    <tr>\n",
       "      <th>46</th>\n",
       "      <td>macosko2015</td>\n",
       "      <td>phate</td>\n",
       "      <td>2</td>\n",
       "      <td>0.404441</td>\n",
       "      <td>0.666703</td>\n",
       "      <td>0.358782</td>\n",
       "      <td>0.466513</td>\n",
       "      <td>1</td>\n",
       "      <td>15</td>\n",
       "      <td>KMeans(n_clusters=15, random_state=1)</td>\n",
       "    </tr>\n",
       "    <tr>\n",
       "      <th>47</th>\n",
       "      <td>macosko2015</td>\n",
       "      <td>phate</td>\n",
       "      <td>2</td>\n",
       "      <td>0.413393</td>\n",
       "      <td>0.665953</td>\n",
       "      <td>0.354339</td>\n",
       "      <td>0.462560</td>\n",
       "      <td>2</td>\n",
       "      <td>15</td>\n",
       "      <td>KMeans(n_clusters=15, random_state=2)</td>\n",
       "    </tr>\n",
       "    <tr>\n",
       "      <th>48</th>\n",
       "      <td>macosko2015</td>\n",
       "      <td>phate</td>\n",
       "      <td>2</td>\n",
       "      <td>0.405131</td>\n",
       "      <td>0.666488</td>\n",
       "      <td>0.357141</td>\n",
       "      <td>0.465071</td>\n",
       "      <td>3</td>\n",
       "      <td>15</td>\n",
       "      <td>KMeans(n_clusters=15, random_state=3)</td>\n",
       "    </tr>\n",
       "    <tr>\n",
       "      <th>49</th>\n",
       "      <td>macosko2015</td>\n",
       "      <td>phate</td>\n",
       "      <td>2</td>\n",
       "      <td>0.414304</td>\n",
       "      <td>0.666247</td>\n",
       "      <td>0.355053</td>\n",
       "      <td>0.463239</td>\n",
       "      <td>4</td>\n",
       "      <td>15</td>\n",
       "      <td>KMeans(n_clusters=15, random_state=4)</td>\n",
       "    </tr>\n",
       "    <tr>\n",
       "      <th>50</th>\n",
       "      <td>macosko2015</td>\n",
       "      <td>phate</td>\n",
       "      <td>2</td>\n",
       "      <td>0.405923</td>\n",
       "      <td>0.678300</td>\n",
       "      <td>0.357881</td>\n",
       "      <td>0.468549</td>\n",
       "      <td>0</td>\n",
       "      <td>16</td>\n",
       "      <td>KMeans(n_clusters=16, random_state=0)</td>\n",
       "    </tr>\n",
       "    <tr>\n",
       "      <th>51</th>\n",
       "      <td>macosko2015</td>\n",
       "      <td>phate</td>\n",
       "      <td>2</td>\n",
       "      <td>0.405563</td>\n",
       "      <td>0.677671</td>\n",
       "      <td>0.357964</td>\n",
       "      <td>0.468470</td>\n",
       "      <td>1</td>\n",
       "      <td>16</td>\n",
       "      <td>KMeans(n_clusters=16, random_state=1)</td>\n",
       "    </tr>\n",
       "    <tr>\n",
       "      <th>52</th>\n",
       "      <td>macosko2015</td>\n",
       "      <td>phate</td>\n",
       "      <td>2</td>\n",
       "      <td>0.399904</td>\n",
       "      <td>0.674489</td>\n",
       "      <td>0.354411</td>\n",
       "      <td>0.464664</td>\n",
       "      <td>2</td>\n",
       "      <td>16</td>\n",
       "      <td>KMeans(n_clusters=16, random_state=2)</td>\n",
       "    </tr>\n",
       "    <tr>\n",
       "      <th>53</th>\n",
       "      <td>macosko2015</td>\n",
       "      <td>phate</td>\n",
       "      <td>2</td>\n",
       "      <td>0.405810</td>\n",
       "      <td>0.677730</td>\n",
       "      <td>0.358009</td>\n",
       "      <td>0.468522</td>\n",
       "      <td>3</td>\n",
       "      <td>16</td>\n",
       "      <td>KMeans(n_clusters=16, random_state=3)</td>\n",
       "    </tr>\n",
       "    <tr>\n",
       "      <th>54</th>\n",
       "      <td>macosko2015</td>\n",
       "      <td>phate</td>\n",
       "      <td>2</td>\n",
       "      <td>0.393162</td>\n",
       "      <td>0.681005</td>\n",
       "      <td>0.361034</td>\n",
       "      <td>0.471894</td>\n",
       "      <td>4</td>\n",
       "      <td>16</td>\n",
       "      <td>KMeans(n_clusters=16, random_state=4)</td>\n",
       "    </tr>\n",
       "    <tr>\n",
       "      <th>55</th>\n",
       "      <td>macosko2015</td>\n",
       "      <td>phate</td>\n",
       "      <td>2</td>\n",
       "      <td>0.411322</td>\n",
       "      <td>0.680192</td>\n",
       "      <td>0.338494</td>\n",
       "      <td>0.452035</td>\n",
       "      <td>0</td>\n",
       "      <td>17</td>\n",
       "      <td>KMeans(n_clusters=17, random_state=0)</td>\n",
       "    </tr>\n",
       "    <tr>\n",
       "      <th>56</th>\n",
       "      <td>macosko2015</td>\n",
       "      <td>phate</td>\n",
       "      <td>2</td>\n",
       "      <td>0.391357</td>\n",
       "      <td>0.685652</td>\n",
       "      <td>0.358452</td>\n",
       "      <td>0.470783</td>\n",
       "      <td>1</td>\n",
       "      <td>17</td>\n",
       "      <td>KMeans(n_clusters=17, random_state=1)</td>\n",
       "    </tr>\n",
       "    <tr>\n",
       "      <th>57</th>\n",
       "      <td>macosko2015</td>\n",
       "      <td>phate</td>\n",
       "      <td>2</td>\n",
       "      <td>0.395093</td>\n",
       "      <td>0.693198</td>\n",
       "      <td>0.361848</td>\n",
       "      <td>0.475491</td>\n",
       "      <td>2</td>\n",
       "      <td>17</td>\n",
       "      <td>KMeans(n_clusters=17, random_state=2)</td>\n",
       "    </tr>\n",
       "    <tr>\n",
       "      <th>58</th>\n",
       "      <td>macosko2015</td>\n",
       "      <td>phate</td>\n",
       "      <td>2</td>\n",
       "      <td>0.390449</td>\n",
       "      <td>0.683114</td>\n",
       "      <td>0.357383</td>\n",
       "      <td>0.469263</td>\n",
       "      <td>3</td>\n",
       "      <td>17</td>\n",
       "      <td>KMeans(n_clusters=17, random_state=3)</td>\n",
       "    </tr>\n",
       "    <tr>\n",
       "      <th>59</th>\n",
       "      <td>macosko2015</td>\n",
       "      <td>phate</td>\n",
       "      <td>2</td>\n",
       "      <td>0.396758</td>\n",
       "      <td>0.685513</td>\n",
       "      <td>0.357185</td>\n",
       "      <td>0.469656</td>\n",
       "      <td>4</td>\n",
       "      <td>17</td>\n",
       "      <td>KMeans(n_clusters=17, random_state=4)</td>\n",
       "    </tr>\n",
       "  </tbody>\n",
       "</table>\n",
       "</div>"
      ],
      "text/plain": [
       "        dataset class_ dim  silhouette  homogeneity  completeness  v_measure  \\\n",
       "0   macosko2015  phate   2    0.614372     0.581859      0.537320   0.558703   \n",
       "1   macosko2015  phate   2    0.613803     0.582278      0.537084   0.558768   \n",
       "2   macosko2015  phate   2    0.614321     0.581788      0.537216   0.558614   \n",
       "3   macosko2015  phate   2    0.613961     0.582114      0.537239   0.558777   \n",
       "4   macosko2015  phate   2    0.614275     0.581853      0.537138   0.558602   \n",
       "5   macosko2015  phate   2    0.549549     0.601784      0.484771   0.536977   \n",
       "6   macosko2015  phate   2    0.544831     0.601295      0.481722   0.534908   \n",
       "7   macosko2015  phate   2    0.550949     0.601715      0.485697   0.537517   \n",
       "8   macosko2015  phate   2    0.552156     0.601733      0.486606   0.538080   \n",
       "9   macosko2015  phate   2    0.545864     0.601294      0.482204   0.535204   \n",
       "10  macosko2015  phate   2    0.562012     0.632207      0.495271   0.555423   \n",
       "11  macosko2015  phate   2    0.562141     0.632042      0.495286   0.555369   \n",
       "12  macosko2015  phate   2    0.562170     0.632083      0.495506   0.555523   \n",
       "13  macosko2015  phate   2    0.560733     0.631671      0.494153   0.554513   \n",
       "14  macosko2015  phate   2    0.562532     0.632105      0.495668   0.555634   \n",
       "15  macosko2015  phate   2    0.555646     0.629007      0.470329   0.538216   \n",
       "16  macosko2015  phate   2    0.553067     0.628773      0.468430   0.536885   \n",
       "17  macosko2015  phate   2    0.553175     0.628293      0.468347   0.536656   \n",
       "18  macosko2015  phate   2    0.554573     0.628913      0.469612   0.537712   \n",
       "19  macosko2015  phate   2    0.555059     0.628965      0.469982   0.537974   \n",
       "20  macosko2015  phate   2    0.545868     0.644299      0.461469   0.537769   \n",
       "21  macosko2015  phate   2    0.545656     0.644233      0.461301   0.537632   \n",
       "22  macosko2015  phate   2    0.543359     0.644068      0.460139   0.536785   \n",
       "23  macosko2015  phate   2    0.541162     0.644201      0.459134   0.536147   \n",
       "24  macosko2015  phate   2    0.546055     0.644234      0.461598   0.537834   \n",
       "25  macosko2015  phate   2    0.424038     0.646921      0.392358   0.488463   \n",
       "26  macosko2015  phate   2    0.434099     0.647520      0.397537   0.492630   \n",
       "27  macosko2015  phate   2    0.433746     0.647545      0.397169   0.492354   \n",
       "28  macosko2015  phate   2    0.437940     0.647394      0.399210   0.493876   \n",
       "29  macosko2015  phate   2    0.425673     0.646725      0.393028   0.488926   \n",
       "30  macosko2015  phate   2    0.464786     0.657458      0.406741   0.502566   \n",
       "31  macosko2015  phate   2    0.437609     0.656749      0.393184   0.491885   \n",
       "32  macosko2015  phate   2    0.436348     0.656774      0.392590   0.491427   \n",
       "33  macosko2015  phate   2    0.434354     0.656231      0.391497   0.490418   \n",
       "34  macosko2015  phate   2    0.436746     0.656689      0.392755   0.491532   \n",
       "35  macosko2015  phate   2    0.434495     0.655193      0.384025   0.484230   \n",
       "36  macosko2015  phate   2    0.433679     0.655678      0.384000   0.484343   \n",
       "37  macosko2015  phate   2    0.423282     0.655353      0.379503   0.480663   \n",
       "38  macosko2015  phate   2    0.409705     0.662597      0.367793   0.473022   \n",
       "39  macosko2015  phate   2    0.434633     0.655171      0.384104   0.484288   \n",
       "40  macosko2015  phate   2    0.398465     0.661444      0.358333   0.464841   \n",
       "41  macosko2015  phate   2    0.390064     0.661456      0.357734   0.464340   \n",
       "42  macosko2015  phate   2    0.395091     0.661550      0.357659   0.464300   \n",
       "43  macosko2015  phate   2    0.392929     0.661153      0.359100   0.465414   \n",
       "44  macosko2015  phate   2    0.410405     0.662278      0.360808   0.467126   \n",
       "45  macosko2015  phate   2    0.401280     0.669357      0.359256   0.467563   \n",
       "46  macosko2015  phate   2    0.404441     0.666703      0.358782   0.466513   \n",
       "47  macosko2015  phate   2    0.413393     0.665953      0.354339   0.462560   \n",
       "48  macosko2015  phate   2    0.405131     0.666488      0.357141   0.465071   \n",
       "49  macosko2015  phate   2    0.414304     0.666247      0.355053   0.463239   \n",
       "50  macosko2015  phate   2    0.405923     0.678300      0.357881   0.468549   \n",
       "51  macosko2015  phate   2    0.405563     0.677671      0.357964   0.468470   \n",
       "52  macosko2015  phate   2    0.399904     0.674489      0.354411   0.464664   \n",
       "53  macosko2015  phate   2    0.405810     0.677730      0.358009   0.468522   \n",
       "54  macosko2015  phate   2    0.393162     0.681005      0.361034   0.471894   \n",
       "55  macosko2015  phate   2    0.411322     0.680192      0.338494   0.452035   \n",
       "56  macosko2015  phate   2    0.391357     0.685652      0.358452   0.470783   \n",
       "57  macosko2015  phate   2    0.395093     0.693198      0.361848   0.475491   \n",
       "58  macosko2015  phate   2    0.390449     0.683114      0.357383   0.469263   \n",
       "59  macosko2015  phate   2    0.396758     0.685513      0.357185   0.469656   \n",
       "\n",
       "   init_ n_clusters                                  model  \n",
       "0      0          6   KMeans(n_clusters=6, random_state=0)  \n",
       "1      1          6   KMeans(n_clusters=6, random_state=1)  \n",
       "2      2          6   KMeans(n_clusters=6, random_state=2)  \n",
       "3      3          6   KMeans(n_clusters=6, random_state=3)  \n",
       "4      4          6   KMeans(n_clusters=6, random_state=4)  \n",
       "5      0          7   KMeans(n_clusters=7, random_state=0)  \n",
       "6      1          7   KMeans(n_clusters=7, random_state=1)  \n",
       "7      2          7   KMeans(n_clusters=7, random_state=2)  \n",
       "8      3          7   KMeans(n_clusters=7, random_state=3)  \n",
       "9      4          7   KMeans(n_clusters=7, random_state=4)  \n",
       "10     0          8                 KMeans(random_state=0)  \n",
       "11     1          8                 KMeans(random_state=1)  \n",
       "12     2          8                 KMeans(random_state=2)  \n",
       "13     3          8                 KMeans(random_state=3)  \n",
       "14     4          8                 KMeans(random_state=4)  \n",
       "15     0          9   KMeans(n_clusters=9, random_state=0)  \n",
       "16     1          9   KMeans(n_clusters=9, random_state=1)  \n",
       "17     2          9   KMeans(n_clusters=9, random_state=2)  \n",
       "18     3          9   KMeans(n_clusters=9, random_state=3)  \n",
       "19     4          9   KMeans(n_clusters=9, random_state=4)  \n",
       "20     0         10  KMeans(n_clusters=10, random_state=0)  \n",
       "21     1         10  KMeans(n_clusters=10, random_state=1)  \n",
       "22     2         10  KMeans(n_clusters=10, random_state=2)  \n",
       "23     3         10  KMeans(n_clusters=10, random_state=3)  \n",
       "24     4         10  KMeans(n_clusters=10, random_state=4)  \n",
       "25     0         11  KMeans(n_clusters=11, random_state=0)  \n",
       "26     1         11  KMeans(n_clusters=11, random_state=1)  \n",
       "27     2         11  KMeans(n_clusters=11, random_state=2)  \n",
       "28     3         11  KMeans(n_clusters=11, random_state=3)  \n",
       "29     4         11  KMeans(n_clusters=11, random_state=4)  \n",
       "30     0         12  KMeans(n_clusters=12, random_state=0)  \n",
       "31     1         12  KMeans(n_clusters=12, random_state=1)  \n",
       "32     2         12  KMeans(n_clusters=12, random_state=2)  \n",
       "33     3         12  KMeans(n_clusters=12, random_state=3)  \n",
       "34     4         12  KMeans(n_clusters=12, random_state=4)  \n",
       "35     0         13  KMeans(n_clusters=13, random_state=0)  \n",
       "36     1         13  KMeans(n_clusters=13, random_state=1)  \n",
       "37     2         13  KMeans(n_clusters=13, random_state=2)  \n",
       "38     3         13  KMeans(n_clusters=13, random_state=3)  \n",
       "39     4         13  KMeans(n_clusters=13, random_state=4)  \n",
       "40     0         14  KMeans(n_clusters=14, random_state=0)  \n",
       "41     1         14  KMeans(n_clusters=14, random_state=1)  \n",
       "42     2         14  KMeans(n_clusters=14, random_state=2)  \n",
       "43     3         14  KMeans(n_clusters=14, random_state=3)  \n",
       "44     4         14  KMeans(n_clusters=14, random_state=4)  \n",
       "45     0         15  KMeans(n_clusters=15, random_state=0)  \n",
       "46     1         15  KMeans(n_clusters=15, random_state=1)  \n",
       "47     2         15  KMeans(n_clusters=15, random_state=2)  \n",
       "48     3         15  KMeans(n_clusters=15, random_state=3)  \n",
       "49     4         15  KMeans(n_clusters=15, random_state=4)  \n",
       "50     0         16  KMeans(n_clusters=16, random_state=0)  \n",
       "51     1         16  KMeans(n_clusters=16, random_state=1)  \n",
       "52     2         16  KMeans(n_clusters=16, random_state=2)  \n",
       "53     3         16  KMeans(n_clusters=16, random_state=3)  \n",
       "54     4         16  KMeans(n_clusters=16, random_state=4)  \n",
       "55     0         17  KMeans(n_clusters=17, random_state=0)  \n",
       "56     1         17  KMeans(n_clusters=17, random_state=1)  \n",
       "57     2         17  KMeans(n_clusters=17, random_state=2)  \n",
       "58     3         17  KMeans(n_clusters=17, random_state=3)  \n",
       "59     4         17  KMeans(n_clusters=17, random_state=4)  "
      ]
     },
     "execution_count": 40,
     "metadata": {},
     "output_type": "execute_result"
    }
   ],
   "source": [
    "get_cluster_metrics(projection_df.iloc[0], n_init=5)"
   ]
  },
  {
   "cell_type": "code",
   "execution_count": null,
   "metadata": {},
   "outputs": [],
   "source": []
  },
  {
   "cell_type": "code",
   "execution_count": null,
   "metadata": {},
   "outputs": [],
   "source": []
  }
 ],
 "metadata": {
  "kernelspec": {
   "display_name": "Python [conda env:tfumap]",
   "language": "python",
   "name": "conda-env-tfumap-py"
  },
  "language_info": {
   "codemirror_mode": {
    "name": "ipython",
    "version": 3
   },
   "file_extension": ".py",
   "mimetype": "text/x-python",
   "name": "python",
   "nbconvert_exporter": "python",
   "pygments_lexer": "ipython3",
   "version": "3.7.9"
  }
 },
 "nbformat": 4,
 "nbformat_minor": 4
}
