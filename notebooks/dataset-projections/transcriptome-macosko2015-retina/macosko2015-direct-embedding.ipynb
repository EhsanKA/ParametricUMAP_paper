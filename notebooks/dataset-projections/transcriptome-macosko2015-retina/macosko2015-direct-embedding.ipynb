{
 "cells": [
  {
   "cell_type": "code",
   "execution_count": 1,
   "metadata": {
    "ExecuteTime": {
     "end_time": "2020-07-08T20:57:15.273957Z",
     "start_time": "2020-07-08T20:57:15.260343Z"
    }
   },
   "outputs": [],
   "source": [
    "# reload packages\n",
    "%load_ext autoreload\n",
    "%autoreload 2"
   ]
  },
  {
   "cell_type": "markdown",
   "metadata": {},
   "source": [
    "### Choose GPU (this may not be needed on your computer)"
   ]
  },
  {
   "cell_type": "code",
   "execution_count": 2,
   "metadata": {
    "ExecuteTime": {
     "end_time": "2020-07-08T20:57:15.283789Z",
     "start_time": "2020-07-08T20:57:15.275020Z"
    }
   },
   "outputs": [
    {
     "name": "stdout",
     "output_type": "stream",
     "text": [
      "env: CUDA_DEVICE_ORDER=PCI_BUS_ID\n",
      "env: CUDA_VISIBLE_DEVICES=''\n"
     ]
    }
   ],
   "source": [
    "%env CUDA_DEVICE_ORDER=PCI_BUS_ID\n",
    "%env CUDA_VISIBLE_DEVICES=''"
   ]
  },
  {
   "cell_type": "markdown",
   "metadata": {},
   "source": [
    "### load packages"
   ]
  },
  {
   "cell_type": "code",
   "execution_count": 3,
   "metadata": {
    "ExecuteTime": {
     "end_time": "2020-07-08T20:57:24.033626Z",
     "start_time": "2020-07-08T20:57:15.284831Z"
    }
   },
   "outputs": [
    {
     "name": "stderr",
     "output_type": "stream",
     "text": [
      "/mnt/cube/tsainbur/conda_envs/tpy3/lib/python3.6/site-packages/tqdm/autonotebook/__init__.py:14: TqdmExperimentalWarning: Using `tqdm.autonotebook.tqdm` in notebook mode. Use `tqdm.tqdm` instead to force console mode (e.g. in jupyter console)\n",
      "  \" (e.g. in jupyter console)\", TqdmExperimentalWarning)\n"
     ]
    }
   ],
   "source": [
    "from tfumap.umap import tfUMAP"
   ]
  },
  {
   "cell_type": "code",
   "execution_count": 4,
   "metadata": {
    "ExecuteTime": {
     "end_time": "2020-07-08T20:57:24.272508Z",
     "start_time": "2020-07-08T20:57:24.035343Z"
    }
   },
   "outputs": [],
   "source": [
    "import tensorflow as tf\n",
    "import numpy as np\n",
    "import matplotlib.pyplot as plt\n",
    "from tqdm.autonotebook import tqdm\n",
    "import umap\n",
    "import pandas as pd"
   ]
  },
  {
   "cell_type": "code",
   "execution_count": 5,
   "metadata": {
    "ExecuteTime": {
     "end_time": "2020-07-08T20:57:24.319646Z",
     "start_time": "2020-07-08T20:57:24.275325Z"
    }
   },
   "outputs": [],
   "source": [
    "from tfumap.umap import tfUMAP"
   ]
  },
  {
   "cell_type": "markdown",
   "metadata": {},
   "source": [
    "### Load dataset"
   ]
  },
  {
   "cell_type": "code",
   "execution_count": 6,
   "metadata": {
    "ExecuteTime": {
     "end_time": "2020-07-08T20:57:24.356823Z",
     "start_time": "2020-07-08T20:57:24.321452Z"
    }
   },
   "outputs": [],
   "source": [
    "from tfumap.paths import ensure_dir, MODEL_DIR, DATA_DIR"
   ]
  },
  {
   "cell_type": "code",
   "execution_count": 7,
   "metadata": {
    "ExecuteTime": {
     "end_time": "2020-07-08T20:57:24.391791Z",
     "start_time": "2020-07-08T20:57:24.358143Z"
    }
   },
   "outputs": [],
   "source": [
    "#dataset_address = 'http://file.biolab.si/opentsne/macosko_2015.pkl.gz'\n",
    "# https://opentsne.readthedocs.io/en/latest/examples/01_simple_usage/01_simple_usage.html\n",
    "# also see https://github.com/berenslab/rna-seq-tsne/blob/master/umi-datasets.ipynb"
   ]
  },
  {
   "cell_type": "code",
   "execution_count": 8,
   "metadata": {
    "ExecuteTime": {
     "end_time": "2020-07-08T20:57:24.558940Z",
     "start_time": "2020-07-08T20:57:24.392936Z"
    }
   },
   "outputs": [],
   "source": [
    "import gzip\n",
    "import pickle\n",
    "\n",
    "with gzip.open(DATA_DIR / 'macosko_2015.pkl.gz', \"rb\") as f:\n",
    "    data = pickle.load(f)\n",
    "\n",
    "x = data[\"pca_50\"]\n",
    "y = data[\"CellType1\"].astype(str)"
   ]
  },
  {
   "cell_type": "code",
   "execution_count": 9,
   "metadata": {
    "ExecuteTime": {
     "end_time": "2020-07-08T20:57:24.600715Z",
     "start_time": "2020-07-08T20:57:24.560619Z"
    }
   },
   "outputs": [
    {
     "name": "stdout",
     "output_type": "stream",
     "text": [
      "Data set contains 44808 samples with 50 features\n"
     ]
    }
   ],
   "source": [
    "print(\"Data set contains %d samples with %d features\" % x.shape)"
   ]
  },
  {
   "cell_type": "code",
   "execution_count": 10,
   "metadata": {
    "ExecuteTime": {
     "end_time": "2020-07-08T20:57:24.638454Z",
     "start_time": "2020-07-08T20:57:24.602315Z"
    }
   },
   "outputs": [],
   "source": [
    "from sklearn.model_selection import train_test_split"
   ]
  },
  {
   "cell_type": "code",
   "execution_count": 11,
   "metadata": {
    "ExecuteTime": {
     "end_time": "2020-07-08T20:57:24.689787Z",
     "start_time": "2020-07-08T20:57:24.639607Z"
    }
   },
   "outputs": [],
   "source": [
    "X_train, X_test, Y_train, Y_test = train_test_split(x, y, test_size=.1, random_state=42)"
   ]
  },
  {
   "cell_type": "code",
   "execution_count": 12,
   "metadata": {
    "ExecuteTime": {
     "end_time": "2020-07-08T20:57:24.731827Z",
     "start_time": "2020-07-08T20:57:24.691256Z"
    }
   },
   "outputs": [
    {
     "data": {
      "text/plain": [
       "(40327, 50)"
      ]
     },
     "execution_count": 12,
     "metadata": {},
     "output_type": "execute_result"
    }
   ],
   "source": [
    "np.shape(X_train)"
   ]
  },
  {
   "cell_type": "code",
   "execution_count": 13,
   "metadata": {
    "ExecuteTime": {
     "end_time": "2020-07-08T20:57:24.769151Z",
     "start_time": "2020-07-08T20:57:24.733158Z"
    }
   },
   "outputs": [],
   "source": [
    "n_valid = 10000\n",
    "X_valid = X_train[-n_valid:]\n",
    "Y_valid = Y_train[-n_valid:]\n",
    "X_train = X_train[:-n_valid]\n",
    "Y_train = Y_train[:-n_valid]"
   ]
  },
  {
   "cell_type": "code",
   "execution_count": 14,
   "metadata": {
    "ExecuteTime": {
     "end_time": "2020-07-08T20:57:24.804316Z",
     "start_time": "2020-07-08T20:57:24.770480Z"
    }
   },
   "outputs": [],
   "source": [
    "X_train_flat = X_train"
   ]
  },
  {
   "cell_type": "code",
   "execution_count": 15,
   "metadata": {
    "ExecuteTime": {
     "end_time": "2020-07-08T20:57:24.837737Z",
     "start_time": "2020-07-08T20:57:24.805511Z"
    }
   },
   "outputs": [],
   "source": [
    "from sklearn.preprocessing import OrdinalEncoder\n",
    "enc = OrdinalEncoder()"
   ]
  },
  {
   "cell_type": "code",
   "execution_count": 16,
   "metadata": {
    "ExecuteTime": {
     "end_time": "2020-07-08T20:57:24.933629Z",
     "start_time": "2020-07-08T20:57:24.838833Z"
    }
   },
   "outputs": [],
   "source": [
    "Y_train = enc.fit_transform([[i] for i in Y_train]).flatten()"
   ]
  },
  {
   "cell_type": "markdown",
   "metadata": {},
   "source": [
    "### Create model and train"
   ]
  },
  {
   "cell_type": "code",
   "execution_count": 17,
   "metadata": {
    "ExecuteTime": {
     "end_time": "2020-07-08T20:57:26.002082Z",
     "start_time": "2020-07-08T20:57:24.935067Z"
    }
   },
   "outputs": [],
   "source": [
    "embedder = tfUMAP(direct_embedding=True, verbose=True, negative_sample_rate=5, training_epochs=100)"
   ]
  },
  {
   "cell_type": "code",
   "execution_count": 18,
   "metadata": {
    "ExecuteTime": {
     "end_time": "2020-07-08T21:01:12.817712Z",
     "start_time": "2020-07-08T20:57:26.004023Z"
    },
    "scrolled": false
   },
   "outputs": [
    {
     "name": "stdout",
     "output_type": "stream",
     "text": [
      "tfUMAP(direct_embedding=True, negative_sample_rate=5,\n",
      "       optimizer=<tensorflow.python.keras.optimizer_v2.adadelta.Adadelta object at 0x7ff5c4d7c6a0>,\n",
      "       tensorboard_logdir='/tmp/tensorboard/20200708-135724',\n",
      "       training_epochs=100)\n",
      "Construct fuzzy simplicial set\n",
      "Wed Jul  8 13:57:26 2020 Finding Nearest Neighbors\n",
      "Wed Jul  8 13:57:26 2020 Building RP forest with 14 trees\n",
      "Wed Jul  8 13:57:27 2020 parallel NN descent for 15 iterations\n",
      "\t 0  /  15\n",
      "\t 1  /  15\n",
      "\t 2  /  15\n",
      "\t 3  /  15\n",
      "\t 4  /  15\n",
      "\t 5  /  15\n",
      "Wed Jul  8 13:57:36 2020 Finished Nearest Neighbor Search\n",
      "Wed Jul  8 13:57:44 2020 Embedding with TensorFlow\n"
     ]
    },
    {
     "data": {
      "application/vnd.jupyter.widget-view+json": {
       "model_id": "a0a995058d7b4693bc20727b1796c8be",
       "version_major": 2,
       "version_minor": 0
      },
      "text/plain": [
       "HBox(children=(IntProgress(value=0, description='epoch', style=ProgressStyle(description_width='initial')), HT…"
      ]
     },
     "metadata": {},
     "output_type": "display_data"
    },
    {
     "name": "stderr",
     "output_type": "stream",
     "text": [
      "/mnt/cube/tsainbur/conda_envs/tpy3/lib/python3.6/site-packages/tensorflow_core/python/framework/indexed_slices.py:433: UserWarning: Converting sparse IndexedSlices to a dense Tensor of unknown shape. This may consume a large amount of memory.\n",
      "  \"Converting sparse IndexedSlices to a dense Tensor of unknown shape. \"\n",
      "/mnt/cube/tsainbur/conda_envs/tpy3/lib/python3.6/site-packages/tensorflow_core/python/framework/indexed_slices.py:433: UserWarning: Converting sparse IndexedSlices to a dense Tensor of unknown shape. This may consume a large amount of memory.\n",
      "  \"Converting sparse IndexedSlices to a dense Tensor of unknown shape. \"\n"
     ]
    },
    {
     "name": "stdout",
     "output_type": "stream",
     "text": [
      "Wed Jul  8 14:01:12 2020 Finished embedding\n"
     ]
    }
   ],
   "source": [
    "z = embedder.fit_transform(X_train_flat)"
   ]
  },
  {
   "cell_type": "code",
   "execution_count": 19,
   "metadata": {
    "ExecuteTime": {
     "end_time": "2020-07-08T21:01:13.755376Z",
     "start_time": "2020-07-08T21:01:12.819491Z"
    }
   },
   "outputs": [
    {
     "data": {
      "image/png": "[encoded data removed]",
      "text/plain": [
       "<Figure size 576x576 with 2 Axes>"
      ]
     },
     "metadata": {
      "needs_background": "light"
     },
     "output_type": "display_data"
    }
   ],
   "source": [
    "fig, ax = plt.subplots( figsize=(8, 8))\n",
    "sc = ax.scatter(\n",
    "    z[:, 0],\n",
    "    z[:, 1],\n",
    "    c=Y_train,\n",
    "    cmap=\"tab10\",\n",
    "    s=0.1,\n",
    "    alpha=0.5,\n",
    "    rasterized=True,\n",
    ")\n",
    "ax.axis('equal')\n",
    "ax.set_title(\"UMAP in Tensorflow embedding\", fontsize=20)\n",
    "plt.colorbar(sc, ax=ax);"
   ]
  },
  {
   "cell_type": "markdown",
   "metadata": {},
   "source": [
    "### View loss"
   ]
  },
  {
   "cell_type": "code",
   "execution_count": 24,
   "metadata": {
    "ExecuteTime": {
     "end_time": "2020-07-09T19:15:56.563386Z",
     "start_time": "2020-07-09T19:15:56.412801Z"
    }
   },
   "outputs": [],
   "source": [
    "from tfumap.umap import retrieve_tensors\n",
    "import seaborn as sns"
   ]
  },
  {
   "cell_type": "code",
   "execution_count": 25,
   "metadata": {
    "ExecuteTime": {
     "end_time": "2020-07-09T19:15:57.192631Z",
     "start_time": "2020-07-09T19:15:56.565229Z"
    }
   },
   "outputs": [
    {
     "name": "stdout",
     "output_type": "stream",
     "text": [
      "['umap_loss']\n",
      "[]\n"
     ]
    },
    {
     "data": {
      "text/html": [
       "<div>\n",
       "<style scoped>\n",
       "    .dataframe tbody tr th:only-of-type {\n",
       "        vertical-align: middle;\n",
       "    }\n",
       "\n",
       "    .dataframe tbody tr th {\n",
       "        vertical-align: top;\n",
       "    }\n",
       "\n",
       "    .dataframe thead th {\n",
       "        text-align: right;\n",
       "    }\n",
       "</style>\n",
       "<table border=\"1\" class=\"dataframe\">\n",
       "  <thead>\n",
       "    <tr style=\"text-align: right;\">\n",
       "      <th></th>\n",
       "      <th>wall_time</th>\n",
       "      <th>step</th>\n",
       "      <th>val</th>\n",
       "      <th>group</th>\n",
       "      <th>variable</th>\n",
       "    </tr>\n",
       "  </thead>\n",
       "  <tbody>\n",
       "    <tr>\n",
       "      <th>0</th>\n",
       "      <td>1.594242e+09</td>\n",
       "      <td>1</td>\n",
       "      <td>2.544144</td>\n",
       "      <td>train</td>\n",
       "      <td>umap_loss</td>\n",
       "    </tr>\n",
       "    <tr>\n",
       "      <th>1</th>\n",
       "      <td>1.594242e+09</td>\n",
       "      <td>2</td>\n",
       "      <td>2.204214</td>\n",
       "      <td>train</td>\n",
       "      <td>umap_loss</td>\n",
       "    </tr>\n",
       "    <tr>\n",
       "      <th>2</th>\n",
       "      <td>1.594242e+09</td>\n",
       "      <td>3</td>\n",
       "      <td>1.975419</td>\n",
       "      <td>train</td>\n",
       "      <td>umap_loss</td>\n",
       "    </tr>\n",
       "  </tbody>\n",
       "</table>\n",
       "</div>"
      ],
      "text/plain": [
       "      wall_time  step       val  group   variable\n",
       "0  1.594242e+09     1  2.544144  train  umap_loss\n",
       "1  1.594242e+09     2  2.204214  train  umap_loss\n",
       "2  1.594242e+09     3  1.975419  train  umap_loss"
      ]
     },
     "execution_count": 25,
     "metadata": {},
     "output_type": "execute_result"
    }
   ],
   "source": [
    "loss_df = retrieve_tensors(embedder.tensorboard_logdir)\n",
    "loss_df[:3]"
   ]
  },
  {
   "cell_type": "code",
   "execution_count": 26,
   "metadata": {
    "ExecuteTime": {
     "end_time": "2020-07-09T19:15:59.333247Z",
     "start_time": "2020-07-09T19:15:57.194516Z"
    }
   },
   "outputs": [
    {
     "data": {
      "image/png": "[encoded data removed]",
      "text/plain": [
       "<Figure size 432x288 with 1 Axes>"
      ]
     },
     "metadata": {
      "needs_background": "light"
     },
     "output_type": "display_data"
    }
   ],
   "source": [
    "ax = sns.lineplot(x=\"step\", y=\"val\", hue=\"group\", data=loss_df[loss_df.variable=='umap_loss'])\n",
    "ax.set_xscale('log')"
   ]
  },
  {
   "cell_type": "code",
   "execution_count": null,
   "metadata": {},
   "outputs": [],
   "source": []
  },
  {
   "cell_type": "markdown",
   "metadata": {},
   "source": [
    "### Save output"
   ]
  },
  {
   "cell_type": "code",
   "execution_count": 20,
   "metadata": {
    "ExecuteTime": {
     "end_time": "2020-07-08T21:01:13.794899Z",
     "start_time": "2020-07-08T21:01:13.757243Z"
    }
   },
   "outputs": [],
   "source": [
    "from tfumap.paths import ensure_dir, MODEL_DIR"
   ]
  },
  {
   "cell_type": "code",
   "execution_count": 29,
   "metadata": {
    "ExecuteTime": {
     "end_time": "2020-07-09T19:16:03.457101Z",
     "start_time": "2020-07-09T19:16:03.411214Z"
    }
   },
   "outputs": [],
   "source": [
    "output_dir = MODEL_DIR/'projections'/ 'macosko2015' / 'direct'\n",
    "ensure_dir(output_dir)"
   ]
  },
  {
   "cell_type": "code",
   "execution_count": 22,
   "metadata": {
    "ExecuteTime": {
     "end_time": "2020-07-08T21:01:18.608905Z",
     "start_time": "2020-07-08T21:01:13.836632Z"
    }
   },
   "outputs": [
    {
     "name": "stdout",
     "output_type": "stream",
     "text": [
      "Pickle of model saved\n"
     ]
    }
   ],
   "source": [
    "embedder.save(output_dir)"
   ]
  },
  {
   "cell_type": "code",
   "execution_count": 30,
   "metadata": {
    "ExecuteTime": {
     "end_time": "2020-07-09T19:16:04.708226Z",
     "start_time": "2020-07-09T19:16:04.214082Z"
    }
   },
   "outputs": [],
   "source": [
    "loss_df.to_pickle(output_dir / 'loss_df.pickle')"
   ]
  },
  {
   "cell_type": "code",
   "execution_count": 31,
   "metadata": {
    "ExecuteTime": {
     "end_time": "2020-07-09T19:16:05.277302Z",
     "start_time": "2020-07-09T19:16:05.230991Z"
    }
   },
   "outputs": [],
   "source": [
    "np.save(output_dir / 'z.npy', z)"
   ]
  },
  {
   "cell_type": "code",
   "execution_count": null,
   "metadata": {},
   "outputs": [],
   "source": []
  }
 ],
 "metadata": {
  "kernelspec": {
   "display_name": "Python 3",
   "language": "python",
   "name": "python3"
  },
  "language_info": {
   "codemirror_mode": {
    "name": "ipython",
    "version": 3
   },
   "file_extension": ".py",
   "mimetype": "text/x-python",
   "name": "python",
   "nbconvert_exporter": "python",
   "pygments_lexer": "ipython3",
   "version": "3.6.7"
  }
 },
 "nbformat": 4,
 "nbformat_minor": 2
}
