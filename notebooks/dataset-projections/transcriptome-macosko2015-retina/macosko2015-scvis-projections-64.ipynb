{
 "cells": [
  {
   "cell_type": "code",
   "execution_count": 1,
   "metadata": {
    "ExecuteTime": {
     "end_time": "2021-01-14T22:33:29.301453Z",
     "start_time": "2021-01-14T22:33:29.299352Z"
    }
   },
   "outputs": [],
   "source": [
    "dataset = 'macosko2015'\n",
    "algorithm = 'scvis'\n",
    "n_components = 64\n",
    "dims = (50,)"
   ]
  },
  {
   "cell_type": "code",
   "execution_count": 2,
   "metadata": {
    "ExecuteTime": {
     "end_time": "2021-01-14T22:33:29.322264Z",
     "start_time": "2021-01-14T22:33:29.302329Z"
    }
   },
   "outputs": [],
   "source": [
    "# reload packages\n",
    "%load_ext autoreload\n",
    "%autoreload 2"
   ]
  },
  {
   "cell_type": "markdown",
   "metadata": {},
   "source": [
    "### Choose GPU (this may not be needed on your computer)"
   ]
  },
  {
   "cell_type": "code",
   "execution_count": 3,
   "metadata": {
    "ExecuteTime": {
     "end_time": "2021-01-14T22:33:29.329905Z",
     "start_time": "2021-01-14T22:33:29.323482Z"
    }
   },
   "outputs": [
    {
     "name": "stdout",
     "output_type": "stream",
     "text": [
      "env: CUDA_DEVICE_ORDER=PCI_BUS_ID\n",
      "env: CUDA_VISIBLE_DEVICES=0\n"
     ]
    }
   ],
   "source": [
    "%env CUDA_DEVICE_ORDER=PCI_BUS_ID\n",
    "%env CUDA_VISIBLE_DEVICES=0"
   ]
  },
  {
   "cell_type": "code",
   "execution_count": 4,
   "metadata": {
    "ExecuteTime": {
     "end_time": "2021-01-14T22:33:31.144616Z",
     "start_time": "2021-01-14T22:33:29.331011Z"
    }
   },
   "outputs": [
    {
     "name": "stderr",
     "output_type": "stream",
     "text": [
      "Using TensorFlow backend.\n"
     ]
    }
   ],
   "source": [
    "from keras.backend.tensorflow_backend import set_session\n",
    "import tensorflow as tf \n",
    "config = tf.ConfigProto()\n",
    "config.gpu_options.per_process_gpu_memory_fraction = 0.2\n",
    "set_session(tf.Session(config=config))"
   ]
  },
  {
   "cell_type": "markdown",
   "metadata": {},
   "source": [
    "### load packages"
   ]
  },
  {
   "cell_type": "code",
   "execution_count": 5,
   "metadata": {
    "ExecuteTime": {
     "end_time": "2021-01-14T22:33:39.652739Z",
     "start_time": "2021-01-14T22:33:31.145899Z"
    }
   },
   "outputs": [
    {
     "name": "stderr",
     "output_type": "stream",
     "text": [
      "/home/AD/tsainbur/anaconda3/envs/scvis2/lib/python3.7/site-packages/umap/__init__.py:9: UserWarning: Tensorflow not installed; ParametricUMAP will be unavailable\n",
      "  warn(\"Tensorflow not installed; ParametricUMAP will be unavailable\")\n",
      "/mnt/cube/tsainbur/Projects/github_repos/umap_tf_networks/tfumap/umap.py:7: TqdmExperimentalWarning: Using `tqdm.autonotebook.tqdm` in notebook mode. Use `tqdm.tqdm` instead to force console mode (e.g. in jupyter console)\n",
      "  from tqdm.autonotebook import tqdm\n"
     ]
    }
   ],
   "source": [
    "from tfumap.umap import tfUMAP"
   ]
  },
  {
   "cell_type": "code",
   "execution_count": 6,
   "metadata": {
    "ExecuteTime": {
     "end_time": "2021-01-14T22:33:39.811656Z",
     "start_time": "2021-01-14T22:33:39.654809Z"
    }
   },
   "outputs": [],
   "source": [
    "import tensorflow as tf\n",
    "import numpy as np\n",
    "import matplotlib.pyplot as plt\n",
    "from tqdm.autonotebook import tqdm\n",
    "import umap\n",
    "import pandas as pd"
   ]
  },
  {
   "cell_type": "markdown",
   "metadata": {},
   "source": [
    "### Load dataset"
   ]
  },
  {
   "cell_type": "code",
   "execution_count": 7,
   "metadata": {
    "ExecuteTime": {
     "end_time": "2021-01-14T22:33:39.843838Z",
     "start_time": "2021-01-14T22:33:39.813246Z"
    }
   },
   "outputs": [],
   "source": [
    "from tensorflow.keras.datasets import mnist"
   ]
  },
  {
   "cell_type": "code",
   "execution_count": 8,
   "metadata": {
    "ExecuteTime": {
     "end_time": "2021-01-14T22:33:40.173300Z",
     "start_time": "2021-01-14T22:33:39.845038Z"
    }
   },
   "outputs": [
    {
     "name": "stdout",
     "output_type": "stream",
     "text": [
      "Data set contains 44808 samples with 50 features\n"
     ]
    }
   ],
   "source": [
    "from tfumap.paths import ensure_dir, MODEL_DIR, DATA_DIR\n",
    "\n",
    "import gzip\n",
    "import pickle\n",
    "\n",
    "with gzip.open(DATA_DIR / 'macosko_2015.pkl.gz', \"rb\") as f:\n",
    "    data = pickle.load(f)\n",
    "\n",
    "x = data[\"pca_50\"]\n",
    "y = data[\"CellType1\"].astype(str)\n",
    "\n",
    "def zero_one_norm(x):\n",
    "    return (x- np.min(x, axis=0))/ (np.max(x, axis=0)-np.min(x, axis=0))\n",
    "\n",
    "x_norm = zero_one_norm(x)\n",
    "\n",
    "print(\"Data set contains %d samples with %d features\" % x.shape)\n",
    "\n",
    "from sklearn.model_selection import train_test_split\n",
    "\n",
    "X_train, X_test, Y_train, Y_test = train_test_split(x_norm, y, test_size=.1, random_state=42)\n",
    "\n",
    "n_valid = 10000\n",
    "X_valid = X_train[-n_valid:]\n",
    "Y_valid = Y_train[-n_valid:]\n",
    "X_train = X_train[:-n_valid]\n",
    "Y_train = Y_train[:-n_valid]\n",
    "\n",
    "X_train_flat = X_train\n",
    "X_test_flat = X_test\n",
    "\n",
    "from sklearn.preprocessing import OrdinalEncoder\n",
    "enc = OrdinalEncoder()\n",
    "\n",
    "Y_train = enc.fit_transform([[i] for i in Y_train]).flatten()\n",
    "Y_test = enc.fit_transform([[i] for i in Y_test]).flatten()"
   ]
  },
  {
   "cell_type": "markdown",
   "metadata": {},
   "source": [
    "### Create model and train"
   ]
  },
  {
   "cell_type": "code",
   "execution_count": 9,
   "metadata": {
    "ExecuteTime": {
     "end_time": "2021-01-14T22:33:40.211551Z",
     "start_time": "2021-01-14T22:33:40.174427Z"
    }
   },
   "outputs": [
    {
     "name": "stdout",
     "output_type": "stream",
     "text": [
      "WARNING:tensorflow:\n",
      "The TensorFlow contrib module will not be included in TensorFlow 2.0.\n",
      "For more information, please see:\n",
      "  * https://github.com/tensorflow/community/blob/master/rfcs/20180907-contrib-sunset.md\n",
      "  * https://github.com/tensorflow/addons\n",
      "  * https://github.com/tensorflow/io (for I/O related ops)\n",
      "If you depend on functionality not listed there, please file an issue.\n",
      "\n"
     ]
    }
   ],
   "source": [
    "from scvis.run import train, map"
   ]
  },
  {
   "cell_type": "code",
   "execution_count": 10,
   "metadata": {
    "ExecuteTime": {
     "end_time": "2021-01-14T22:33:40.244469Z",
     "start_time": "2021-01-14T22:33:40.212709Z"
    }
   },
   "outputs": [],
   "source": [
    "from scvis.model import SCVIS"
   ]
  },
  {
   "cell_type": "code",
   "execution_count": 11,
   "metadata": {
    "ExecuteTime": {
     "end_time": "2021-01-14T22:33:40.273170Z",
     "start_time": "2021-01-14T22:33:40.245628Z"
    }
   },
   "outputs": [],
   "source": [
    "x = X_train_flat"
   ]
  },
  {
   "cell_type": "code",
   "execution_count": 12,
   "metadata": {
    "ExecuteTime": {
     "end_time": "2021-01-14T22:33:40.303081Z",
     "start_time": "2021-01-14T22:33:40.274234Z"
    }
   },
   "outputs": [],
   "source": [
    "hyperparameter =  {\n",
    "  'optimization': {\n",
    "    'method': 'Adam',\n",
    "    'learning_rate': 0.01\n",
    "  },\n",
    "\n",
    "  'batch_size': 512,\n",
    "  'max_epoch': 100,\n",
    "  'regularizer_l2': 0.001,\n",
    "\n",
    "  'perplexity': 10,\n",
    "\n",
    "  'seed': 1\n",
    "}\n",
    "\n",
    "architecture = {\n",
    "  'latent_dimension': n_components,\n",
    "\n",
    "  'inference': {\n",
    "    'layer_size': [128, 64, 32],\n",
    "  },\n",
    "\n",
    "  'model': {\n",
    "    'layer_size': [32, 32, 32, 64, 128],\n",
    "  },\n",
    "\n",
    "  'activation': \"ELU\"\n",
    "}"
   ]
  },
  {
   "cell_type": "code",
   "execution_count": 13,
   "metadata": {
    "ExecuteTime": {
     "end_time": "2021-01-14T22:33:40.331429Z",
     "start_time": "2021-01-14T22:33:40.304052Z"
    }
   },
   "outputs": [],
   "source": [
    "architecture.update({'input_dimension': x.shape[1]})"
   ]
  },
  {
   "cell_type": "code",
   "execution_count": 14,
   "metadata": {
    "ExecuteTime": {
     "end_time": "2021-01-14T22:33:41.238675Z",
     "start_time": "2021-01-14T22:33:40.332403Z"
    },
    "scrolled": true
   },
   "outputs": [
    {
     "name": "stdout",
     "output_type": "stream",
     "text": [
      "WARNING:tensorflow:From /mnt/cube/tsainbur/Projects/github_repos/scvis/lib/scvis/model.py:24: The name tf.reset_default_graph is deprecated. Please use tf.compat.v1.reset_default_graph instead.\n",
      "\n",
      "WARNING:tensorflow:From /mnt/cube/tsainbur/Projects/github_repos/scvis/lib/scvis/model.py:28: The name tf.InteractiveSession is deprecated. Please use tf.compat.v1.InteractiveSession instead.\n",
      "\n",
      "Device mapping:\n",
      "/job:localhost/replica:0/task:0/device:XLA_CPU:0 -> device: XLA_CPU device\n",
      "/job:localhost/replica:0/task:0/device:GPU:0 -> device: 0, name: Quadro RTX 6000, pci bus id: 0000:21:00.0, compute capability: 7.5\n",
      "/job:localhost/replica:0/task:0/device:XLA_GPU:0 -> device: XLA_GPU device\n",
      "\n",
      "WARNING:tensorflow:From /mnt/cube/tsainbur/Projects/github_repos/scvis/lib/scvis/model.py:41: The name tf.set_random_seed is deprecated. Please use tf.compat.v1.set_random_seed instead.\n",
      "\n",
      "WARNING:tensorflow:From /mnt/cube/tsainbur/Projects/github_repos/scvis/lib/scvis/model.py:44: The name tf.placeholder is deprecated. Please use tf.compat.v1.placeholder instead.\n",
      "\n",
      "WARNING:tensorflow:From /mnt/cube/tsainbur/Projects/github_repos/scvis/lib/scvis/tf_helper.py:12: The name tf.truncated_normal is deprecated. Please use tf.random.truncated_normal instead.\n",
      "\n",
      "WARNING:tensorflow:From /mnt/cube/tsainbur/Projects/github_repos/scvis/lib/scvis/vae.py:139: calling dropout (from tensorflow.python.ops.nn_ops) with keep_prob is deprecated and will be removed in a future version.\n",
      "Instructions for updating:\n",
      "Please use `rate` instead of `keep_prob`. Rate should be set to `rate = 1 - keep_prob`.\n",
      "WARNING:tensorflow:From /mnt/cube/tsainbur/Projects/github_repos/scvis/lib/scvis/vae.py:68: The name tf.random_normal is deprecated. Please use tf.random.normal instead.\n",
      "\n",
      "WARNING:tensorflow:From /mnt/cube/tsainbur/Projects/github_repos/scvis/lib/scvis/likelihood.py:17: StudentT.__init__ (from tensorflow.python.ops.distributions.student_t) is deprecated and will be removed after 2019-01-01.\n",
      "Instructions for updating:\n",
      "The TensorFlow Distributions library has moved to TensorFlow Probability (https://github.com/tensorflow/probability). You should update all references to use `tfp.distributions` instead of `tf.distributions`.\n",
      "WARNING:tensorflow:From /home/AD/tsainbur/anaconda3/envs/scvis2/lib/python3.7/site-packages/tensorflow_core/python/ops/distributions/student_t.py:204: Distribution.__init__ (from tensorflow.python.ops.distributions.distribution) is deprecated and will be removed after 2019-01-01.\n",
      "Instructions for updating:\n",
      "The TensorFlow Distributions library has moved to TensorFlow Probability (https://github.com/tensorflow/probability). You should update all references to use `tfp.distributions` instead of `tf.distributions`.\n",
      "WARNING:tensorflow:From /mnt/cube/tsainbur/Projects/github_repos/scvis/lib/scvis/model.py:81: The name tf.log is deprecated. Please use tf.math.log instead.\n",
      "\n",
      "WARNING:tensorflow:From /mnt/cube/tsainbur/Projects/github_repos/scvis/lib/scvis/model.py:101: The name tf.train.AdamOptimizer is deprecated. Please use tf.compat.v1.train.AdamOptimizer instead.\n",
      "\n",
      "WARNING:tensorflow:From /home/AD/tsainbur/anaconda3/envs/scvis2/lib/python3.7/site-packages/tensorflow_core/python/ops/math_grad.py:1375: where (from tensorflow.python.ops.array_ops) is deprecated and will be removed in a future version.\n",
      "Instructions for updating:\n",
      "Use tf.where in 2.0, which has the same broadcast rule as np.where\n",
      "WARNING:tensorflow:From /mnt/cube/tsainbur/Projects/github_repos/scvis/lib/scvis/model.py:110: The name tf.train.Saver is deprecated. Please use tf.compat.v1.train.Saver instead.\n",
      "\n"
     ]
    }
   ],
   "source": [
    "model = SCVIS(architecture, hyperparameter)"
   ]
  },
  {
   "cell_type": "code",
   "execution_count": 15,
   "metadata": {
    "ExecuteTime": {
     "end_time": "2021-01-14T22:33:41.271120Z",
     "start_time": "2021-01-14T22:33:41.239927Z"
    }
   },
   "outputs": [],
   "source": [
    "y = None"
   ]
  },
  {
   "cell_type": "code",
   "execution_count": 16,
   "metadata": {
    "ExecuteTime": {
     "end_time": "2021-01-14T22:33:41.301515Z",
     "start_time": "2021-01-14T22:33:41.272471Z"
    }
   },
   "outputs": [],
   "source": [
    "from scvis import data"
   ]
  },
  {
   "cell_type": "code",
   "execution_count": 17,
   "metadata": {
    "ExecuteTime": {
     "end_time": "2021-01-14T22:33:41.332697Z",
     "start_time": "2021-01-14T22:33:41.302860Z"
    }
   },
   "outputs": [],
   "source": [
    "train_data = data.DataSet(x, y)"
   ]
  },
  {
   "cell_type": "code",
   "execution_count": 18,
   "metadata": {
    "ExecuteTime": {
     "end_time": "2021-01-14T22:33:41.459146Z",
     "start_time": "2021-01-14T22:33:41.334123Z"
    }
   },
   "outputs": [],
   "source": [
    "??model"
   ]
  },
  {
   "cell_type": "code",
   "execution_count": 19,
   "metadata": {
    "ExecuteTime": {
     "end_time": "2021-01-14T22:56:54.962249Z",
     "start_time": "2021-01-14T22:33:41.460803Z"
    },
    "scrolled": false
   },
   "outputs": [
    {
     "name": "stdout",
     "output_type": "stream",
     "text": [
      "WARNING:tensorflow:From /mnt/cube/tsainbur/Projects/github_repos/scvis/lib/scvis/model.py:185: The name tf.global_variables_initializer is deprecated. Please use tf.compat.v1.global_variables_initializer instead.\n",
      "\n",
      "Batch 0\n",
      "elbo: -1178.276123046875\n",
      "scaled_tsne_cost: nan\n",
      "\n",
      "Batch 50\n",
      "elbo: -8524.271484375\n",
      "scaled_tsne_cost: nan\n",
      "\n",
      "Batch 100\n",
      "elbo: -16054.0634765625\n",
      "scaled_tsne_cost: nan\n",
      "\n",
      "Batch 150\n",
      "elbo: -23758.8125\n",
      "scaled_tsne_cost: nan\n",
      "\n",
      "Batch 200\n",
      "elbo: -31785.720703125\n",
      "scaled_tsne_cost: nan\n",
      "\n",
      "Batch 250\n",
      "elbo: -40005.609375\n",
      "scaled_tsne_cost: nan\n",
      "\n",
      "Batch 300\n",
      "elbo: -48194.41796875\n",
      "scaled_tsne_cost: nan\n",
      "\n",
      "Batch 350\n",
      "elbo: -56219.80859375\n",
      "scaled_tsne_cost: nan\n",
      "\n",
      "Batch 400\n",
      "elbo: -62325.7265625\n",
      "scaled_tsne_cost: nan\n",
      "\n",
      "Batch 450\n",
      "elbo: -69111.578125\n",
      "scaled_tsne_cost: nan\n",
      "\n",
      "Batch 500\n",
      "elbo: -76257.90625\n",
      "scaled_tsne_cost: nan\n",
      "\n",
      "Batch 550\n",
      "elbo: -93460.625\n",
      "scaled_tsne_cost: nan\n",
      "\n",
      "Batch 600\n",
      "elbo: -112122.6953125\n",
      "scaled_tsne_cost: nan\n",
      "\n",
      "Batch 650\n",
      "elbo: -129150.0078125\n",
      "scaled_tsne_cost: nan\n",
      "\n",
      "Batch 700\n",
      "elbo: -152137.453125\n",
      "scaled_tsne_cost: nan\n",
      "\n",
      "Batch 750\n",
      "elbo: -179688.21875\n",
      "scaled_tsne_cost: nan\n",
      "\n",
      "Batch 800\n",
      "elbo: -199276.25\n",
      "scaled_tsne_cost: nan\n",
      "\n",
      "Batch 850\n",
      "elbo: -227755.03125\n",
      "scaled_tsne_cost: nan\n",
      "\n",
      "Batch 900\n",
      "elbo: -250547.90625\n",
      "scaled_tsne_cost: nan\n",
      "\n",
      "Batch 950\n",
      "elbo: -278993.9375\n",
      "scaled_tsne_cost: nan\n",
      "\n",
      "Time used for training: 0:23:13.064168\n",
      "\n"
     ]
    }
   ],
   "source": [
    "es = model.train(data=train_data,\n",
    "                      batch_size=hyperparameter['batch_size'],\n",
    "                      verbose=True,\n",
    "                      verbose_interval=50,\n",
    "                      show_plot=False,\n",
    "                      plot_dir=None,\n",
    "                      max_iter=1000,\n",
    "                      pretrained_model=None)"
   ]
  },
  {
   "cell_type": "code",
   "execution_count": 20,
   "metadata": {
    "ExecuteTime": {
     "end_time": "2021-01-14T22:56:55.064807Z",
     "start_time": "2021-01-14T22:56:54.963454Z"
    }
   },
   "outputs": [],
   "source": [
    "z, _ = model.encode(x)"
   ]
  },
  {
   "cell_type": "markdown",
   "metadata": {},
   "source": [
    "### Plot model output"
   ]
  },
  {
   "cell_type": "code",
   "execution_count": 21,
   "metadata": {
    "ExecuteTime": {
     "end_time": "2021-01-14T22:56:55.103308Z",
     "start_time": "2021-01-14T22:56:55.066929Z"
    }
   },
   "outputs": [],
   "source": [
    "%matplotlib inline"
   ]
  },
  {
   "cell_type": "code",
   "execution_count": 22,
   "metadata": {
    "ExecuteTime": {
     "end_time": "2021-01-14T22:56:55.524793Z",
     "start_time": "2021-01-14T22:56:55.104287Z"
    }
   },
   "outputs": [
    {
     "data": {
      "image/png": "[encoded data removed]",
      "text/plain": [
       "<Figure size 576x576 with 2 Axes>"
      ]
     },
     "metadata": {
      "needs_background": "light"
     },
     "output_type": "display_data"
    }
   ],
   "source": [
    "fig, ax = plt.subplots( figsize=(8, 8))\n",
    "sc = ax.scatter(\n",
    "    z[:, 0],\n",
    "    z[:, 1],\n",
    "    c=Y_train.astype(int)[:len(z)],\n",
    "    cmap=\"tab10\",\n",
    "    s=0.1,\n",
    "    alpha=0.5,\n",
    "    rasterized=True,\n",
    ")\n",
    "ax.axis('equal')\n",
    "ax.set_title(\"UMAP in Tensorflow embedding\", fontsize=20)\n",
    "plt.colorbar(sc, ax=ax);"
   ]
  },
  {
   "cell_type": "markdown",
   "metadata": {},
   "source": [
    "### Save output"
   ]
  },
  {
   "cell_type": "code",
   "execution_count": 23,
   "metadata": {
    "ExecuteTime": {
     "end_time": "2021-01-14T22:56:55.563269Z",
     "start_time": "2021-01-14T22:56:55.526399Z"
    }
   },
   "outputs": [],
   "source": [
    "from tfumap.paths import ensure_dir, MODEL_DIR"
   ]
  },
  {
   "cell_type": "code",
   "execution_count": 24,
   "metadata": {
    "ExecuteTime": {
     "end_time": "2021-01-14T22:56:55.616418Z",
     "start_time": "2021-01-14T22:56:55.567015Z"
    }
   },
   "outputs": [],
   "source": [
    "output_dir = MODEL_DIR/'projections'/ dataset / str(n_components) / algorithm\n",
    "ensure_dir(output_dir)"
   ]
  },
  {
   "cell_type": "code",
   "execution_count": 25,
   "metadata": {
    "ExecuteTime": {
     "end_time": "2021-01-14T22:56:55.784435Z",
     "start_time": "2021-01-14T22:56:55.618040Z"
    }
   },
   "outputs": [],
   "source": [
    "model.save_sess((output_dir / algorithm).as_posix())"
   ]
  },
  {
   "cell_type": "code",
   "execution_count": 26,
   "metadata": {
    "ExecuteTime": {
     "end_time": "2021-01-14T22:56:55.818409Z",
     "start_time": "2021-01-14T22:56:55.785771Z"
    }
   },
   "outputs": [],
   "source": [
    "#loss_df.to_pickle(output_dir / 'loss_df.pickle')"
   ]
  },
  {
   "cell_type": "code",
   "execution_count": 27,
   "metadata": {
    "ExecuteTime": {
     "end_time": "2021-01-14T22:56:55.867988Z",
     "start_time": "2021-01-14T22:56:55.819600Z"
    }
   },
   "outputs": [],
   "source": [
    "np.save(output_dir / 'z.npy', z)"
   ]
  },
  {
   "cell_type": "markdown",
   "metadata": {},
   "source": [
    "### compute metrics "
   ]
  },
  {
   "cell_type": "code",
   "execution_count": 28,
   "metadata": {
    "ExecuteTime": {
     "end_time": "2021-01-14T22:56:55.905079Z",
     "start_time": "2021-01-14T22:56:55.869339Z"
    }
   },
   "outputs": [
    {
     "data": {
      "text/plain": [
       "(4481, 50)"
      ]
     },
     "execution_count": 28,
     "metadata": {},
     "output_type": "execute_result"
    }
   ],
   "source": [
    "X_test.shape"
   ]
  },
  {
   "cell_type": "code",
   "execution_count": 29,
   "metadata": {
    "ExecuteTime": {
     "end_time": "2021-01-14T22:56:55.971765Z",
     "start_time": "2021-01-14T22:56:55.906370Z"
    }
   },
   "outputs": [],
   "source": [
    "z_test, _ = model.encode(X_test)"
   ]
  },
  {
   "cell_type": "markdown",
   "metadata": {},
   "source": [
    "#### silhouette"
   ]
  },
  {
   "cell_type": "code",
   "execution_count": 30,
   "metadata": {
    "ExecuteTime": {
     "end_time": "2021-01-14T22:56:56.014750Z",
     "start_time": "2021-01-14T22:56:55.973466Z"
    }
   },
   "outputs": [],
   "source": [
    "from tfumap.silhouette import silhouette_score_block"
   ]
  },
  {
   "cell_type": "code",
   "execution_count": 31,
   "metadata": {
    "ExecuteTime": {
     "end_time": "2021-01-14T22:57:03.386306Z",
     "start_time": "2021-01-14T22:56:56.016149Z"
    }
   },
   "outputs": [
    {
     "name": "stderr",
     "output_type": "stream",
     "text": [
      "/mnt/cube/tsainbur/Projects/github_repos/umap_tf_networks/tfumap/silhouette.py:109: RuntimeWarning: invalid value encountered in true_divide\n",
      "  sil_samples = (B - A) / np.maximum(A, B)\n"
     ]
    },
    {
     "data": {
      "text/plain": [
       "0.0"
      ]
     },
     "execution_count": 31,
     "metadata": {},
     "output_type": "execute_result"
    }
   ],
   "source": [
    "ss, sil_samp = silhouette_score_block(z, Y_train, n_jobs = -1)\n",
    "ss"
   ]
  },
  {
   "cell_type": "code",
   "execution_count": 32,
   "metadata": {
    "ExecuteTime": {
     "end_time": "2021-01-14T22:57:03.632651Z",
     "start_time": "2021-01-14T22:57:03.387746Z"
    }
   },
   "outputs": [
    {
     "data": {
      "text/plain": [
       "0.0"
      ]
     },
     "execution_count": 32,
     "metadata": {},
     "output_type": "execute_result"
    }
   ],
   "source": [
    "ss_test, sil_samp_test = silhouette_score_block(z_test, Y_test, n_jobs = -1)\n",
    "ss_test"
   ]
  },
  {
   "cell_type": "code",
   "execution_count": 33,
   "metadata": {
    "ExecuteTime": {
     "end_time": "2021-01-14T22:57:04.111479Z",
     "start_time": "2021-01-14T22:57:03.634251Z"
    }
   },
   "outputs": [
    {
     "data": {
      "text/plain": [
       "<matplotlib.collections.PathCollection at 0x7f9744d94190>"
      ]
     },
     "execution_count": 33,
     "metadata": {},
     "output_type": "execute_result"
    },
    {
     "data": {
      "image/png": "[encoded data removed]",
      "text/plain": [
       "<Figure size 720x360 with 2 Axes>"
      ]
     },
     "metadata": {
      "needs_background": "light"
     },
     "output_type": "display_data"
    }
   ],
   "source": [
    "fig, axs = plt.subplots(ncols = 2, figsize=(10, 5))\n",
    "axs[0].scatter(z[:, 0], z[:, 1], s=0.1, alpha=0.5, c=sil_samp, cmap=plt.cm.viridis)\n",
    "axs[1].scatter(z_test[:, 0], z_test[:, 1], s=1, alpha=0.5, c=sil_samp_test, cmap=plt.cm.viridis)"
   ]
  },
  {
   "cell_type": "markdown",
   "metadata": {},
   "source": [
    "#### KNN"
   ]
  },
  {
   "cell_type": "code",
   "execution_count": 34,
   "metadata": {
    "ExecuteTime": {
     "end_time": "2021-01-14T22:57:04.150192Z",
     "start_time": "2021-01-14T22:57:04.113270Z"
    }
   },
   "outputs": [],
   "source": [
    "from sklearn.neighbors import KNeighborsClassifier"
   ]
  },
  {
   "cell_type": "code",
   "execution_count": 35,
   "metadata": {
    "ExecuteTime": {
     "end_time": "2021-01-14T22:57:05.596470Z",
     "start_time": "2021-01-14T22:57:04.151499Z"
    }
   },
   "outputs": [
    {
     "data": {
      "text/plain": [
       "0.6574425351484043"
      ]
     },
     "execution_count": 35,
     "metadata": {},
     "output_type": "execute_result"
    }
   ],
   "source": [
    "neigh5 = KNeighborsClassifier(n_neighbors=5)\n",
    "neigh5.fit(z, Y_train)\n",
    "score_5nn = neigh5.score(z_test, Y_test)\n",
    "score_5nn"
   ]
  },
  {
   "cell_type": "code",
   "execution_count": 36,
   "metadata": {
    "ExecuteTime": {
     "end_time": "2021-01-14T22:57:06.981054Z",
     "start_time": "2021-01-14T22:57:05.597581Z"
    }
   },
   "outputs": [
    {
     "data": {
      "text/plain": [
       "0.6574425351484043"
      ]
     },
     "execution_count": 36,
     "metadata": {},
     "output_type": "execute_result"
    }
   ],
   "source": [
    "neigh1 = KNeighborsClassifier(n_neighbors=1)\n",
    "neigh1.fit(z, Y_train)\n",
    "score_1nn = neigh1.score(z_test, Y_test)\n",
    "score_1nn"
   ]
  },
  {
   "cell_type": "markdown",
   "metadata": {},
   "source": [
    "#### Trustworthiness"
   ]
  },
  {
   "cell_type": "code",
   "execution_count": 37,
   "metadata": {
    "ExecuteTime": {
     "end_time": "2021-01-14T22:57:07.019432Z",
     "start_time": "2021-01-14T22:57:06.982260Z"
    }
   },
   "outputs": [],
   "source": [
    "from sklearn.manifold import trustworthiness"
   ]
  },
  {
   "cell_type": "code",
   "execution_count": 38,
   "metadata": {
    "ExecuteTime": {
     "end_time": "2021-01-14T22:57:16.650749Z",
     "start_time": "2021-01-14T22:57:07.020371Z"
    }
   },
   "outputs": [],
   "source": [
    "tw = trustworthiness(X_train_flat[:10000], z[:10000])"
   ]
  },
  {
   "cell_type": "code",
   "execution_count": 39,
   "metadata": {
    "ExecuteTime": {
     "end_time": "2021-01-14T22:57:18.546103Z",
     "start_time": "2021-01-14T22:57:16.652655Z"
    }
   },
   "outputs": [],
   "source": [
    "tw_test = trustworthiness(X_test_flat[:10000], z_test[:10000])"
   ]
  },
  {
   "cell_type": "code",
   "execution_count": 40,
   "metadata": {
    "ExecuteTime": {
     "end_time": "2021-01-14T22:57:18.579065Z",
     "start_time": "2021-01-14T22:57:18.547335Z"
    }
   },
   "outputs": [
    {
     "data": {
      "text/plain": [
       "(0.38601744595676546, 0.5408262813010872)"
      ]
     },
     "execution_count": 40,
     "metadata": {},
     "output_type": "execute_result"
    }
   ],
   "source": [
    "tw, tw_test"
   ]
  },
  {
   "cell_type": "markdown",
   "metadata": {},
   "source": [
    "### Save output metrics"
   ]
  },
  {
   "cell_type": "code",
   "execution_count": 41,
   "metadata": {
    "ExecuteTime": {
     "end_time": "2021-01-14T22:57:18.609769Z",
     "start_time": "2021-01-14T22:57:18.580144Z"
    }
   },
   "outputs": [],
   "source": [
    "from tfumap.paths import ensure_dir, MODEL_DIR, DATA_DIR"
   ]
  },
  {
   "cell_type": "markdown",
   "metadata": {},
   "source": [
    "#### train"
   ]
  },
  {
   "cell_type": "code",
   "execution_count": 42,
   "metadata": {
    "ExecuteTime": {
     "end_time": "2021-01-14T22:57:18.665511Z",
     "start_time": "2021-01-14T22:57:18.611833Z"
    }
   },
   "outputs": [
    {
     "data": {
      "text/html": [
       "<div>\n",
       "<style scoped>\n",
       "    .dataframe tbody tr th:only-of-type {\n",
       "        vertical-align: middle;\n",
       "    }\n",
       "\n",
       "    .dataframe tbody tr th {\n",
       "        vertical-align: top;\n",
       "    }\n",
       "\n",
       "    .dataframe thead th {\n",
       "        text-align: right;\n",
       "    }\n",
       "</style>\n",
       "<table border=\"1\" class=\"dataframe\">\n",
       "  <thead>\n",
       "    <tr style=\"text-align: right;\">\n",
       "      <th></th>\n",
       "      <th>dataset</th>\n",
       "      <th>class_</th>\n",
       "      <th>dim</th>\n",
       "      <th>trustworthiness</th>\n",
       "      <th>silhouette_score</th>\n",
       "      <th>silhouette_samples</th>\n",
       "    </tr>\n",
       "  </thead>\n",
       "  <tbody>\n",
       "    <tr>\n",
       "      <th>0</th>\n",
       "      <td>macosko2015</td>\n",
       "      <td>scvis</td>\n",
       "      <td>64</td>\n",
       "      <td>0.386017</td>\n",
       "      <td>0.0</td>\n",
       "      <td>[0.0, 0.0, 0.0, 0.0, 0.0, 0.0, 0.0, 0.0, 0.0, ...</td>\n",
       "    </tr>\n",
       "  </tbody>\n",
       "</table>\n",
       "</div>"
      ],
      "text/plain": [
       "       dataset class_ dim  trustworthiness  silhouette_score  \\\n",
       "0  macosko2015  scvis  64         0.386017               0.0   \n",
       "\n",
       "                                  silhouette_samples  \n",
       "0  [0.0, 0.0, 0.0, 0.0, 0.0, 0.0, 0.0, 0.0, 0.0, ...  "
      ]
     },
     "execution_count": 42,
     "metadata": {},
     "output_type": "execute_result"
    }
   ],
   "source": [
    "metrics_df = pd.DataFrame(\n",
    "    columns=[\n",
    "        \"dataset\",\n",
    "        \"class_\",\n",
    "        \"dim\",\n",
    "        \"trustworthiness\",\n",
    "        \"silhouette_score\",\n",
    "        \"silhouette_samples\",\n",
    "    ]\n",
    ")\n",
    "metrics_df.loc[len(metrics_df)] = [dataset, algorithm, n_components, tw, ss, sil_samp]\n",
    "metrics_df"
   ]
  },
  {
   "cell_type": "code",
   "execution_count": 43,
   "metadata": {
    "ExecuteTime": {
     "end_time": "2021-01-14T22:57:18.706249Z",
     "start_time": "2021-01-14T22:57:18.666792Z"
    }
   },
   "outputs": [],
   "source": [
    "save_loc = DATA_DIR / 'projection_metrics' /  algorithm / 'train' / str(n_components) / (dataset + '.pickle')\n",
    "ensure_dir(save_loc)\n",
    "metrics_df.to_pickle(save_loc)"
   ]
  },
  {
   "cell_type": "markdown",
   "metadata": {},
   "source": [
    "#### test"
   ]
  },
  {
   "cell_type": "code",
   "execution_count": 44,
   "metadata": {
    "ExecuteTime": {
     "end_time": "2021-01-14T22:57:18.751361Z",
     "start_time": "2021-01-14T22:57:18.707476Z"
    }
   },
   "outputs": [
    {
     "data": {
      "text/html": [
       "<div>\n",
       "<style scoped>\n",
       "    .dataframe tbody tr th:only-of-type {\n",
       "        vertical-align: middle;\n",
       "    }\n",
       "\n",
       "    .dataframe tbody tr th {\n",
       "        vertical-align: top;\n",
       "    }\n",
       "\n",
       "    .dataframe thead th {\n",
       "        text-align: right;\n",
       "    }\n",
       "</style>\n",
       "<table border=\"1\" class=\"dataframe\">\n",
       "  <thead>\n",
       "    <tr style=\"text-align: right;\">\n",
       "      <th></th>\n",
       "      <th>dataset</th>\n",
       "      <th>class_</th>\n",
       "      <th>dim</th>\n",
       "      <th>trustworthiness</th>\n",
       "      <th>silhouette_score</th>\n",
       "      <th>silhouette_samples</th>\n",
       "    </tr>\n",
       "  </thead>\n",
       "  <tbody>\n",
       "    <tr>\n",
       "      <th>1</th>\n",
       "      <td>macosko2015</td>\n",
       "      <td>scvis</td>\n",
       "      <td>64</td>\n",
       "      <td>0.540826</td>\n",
       "      <td>0.0</td>\n",
       "      <td>[0.0, 0.0, 0.0, 0.0, 0.0, 0.0, 0.0, 0.0, 0.0, ...</td>\n",
       "    </tr>\n",
       "  </tbody>\n",
       "</table>\n",
       "</div>"
      ],
      "text/plain": [
       "       dataset class_ dim  trustworthiness  silhouette_score  \\\n",
       "1  macosko2015  scvis  64         0.540826               0.0   \n",
       "\n",
       "                                  silhouette_samples  \n",
       "1  [0.0, 0.0, 0.0, 0.0, 0.0, 0.0, 0.0, 0.0, 0.0, ...  "
      ]
     },
     "execution_count": 44,
     "metadata": {},
     "output_type": "execute_result"
    }
   ],
   "source": [
    "metrics_df_test = pd.DataFrame(\n",
    "    columns=[\n",
    "        \"dataset\",\n",
    "        \"class_\",\n",
    "        \"dim\",\n",
    "        \"trustworthiness\",\n",
    "        \"silhouette_score\",\n",
    "        \"silhouette_samples\",\n",
    "    ]\n",
    ")\n",
    "metrics_df_test.loc[len(metrics_df)] = [dataset, algorithm, n_components, tw_test, ss_test, sil_samp_test]\n",
    "metrics_df_test"
   ]
  },
  {
   "cell_type": "code",
   "execution_count": 45,
   "metadata": {
    "ExecuteTime": {
     "end_time": "2021-01-14T22:57:18.786655Z",
     "start_time": "2021-01-14T22:57:18.752459Z"
    }
   },
   "outputs": [],
   "source": [
    "save_loc = DATA_DIR / 'projection_metrics' / algorithm / 'test' / str(n_components) / (dataset + '.pickle')\n",
    "ensure_dir(save_loc)\n",
    "metrics_df.to_pickle(save_loc)"
   ]
  },
  {
   "cell_type": "markdown",
   "metadata": {},
   "source": [
    "#### knn "
   ]
  },
  {
   "cell_type": "code",
   "execution_count": 46,
   "metadata": {
    "ExecuteTime": {
     "end_time": "2021-01-14T22:57:18.827984Z",
     "start_time": "2021-01-14T22:57:18.787945Z"
    }
   },
   "outputs": [
    {
     "data": {
      "text/html": [
       "<div>\n",
       "<style scoped>\n",
       "    .dataframe tbody tr th:only-of-type {\n",
       "        vertical-align: middle;\n",
       "    }\n",
       "\n",
       "    .dataframe tbody tr th {\n",
       "        vertical-align: top;\n",
       "    }\n",
       "\n",
       "    .dataframe thead th {\n",
       "        text-align: right;\n",
       "    }\n",
       "</style>\n",
       "<table border=\"1\" class=\"dataframe\">\n",
       "  <thead>\n",
       "    <tr style=\"text-align: right;\">\n",
       "      <th></th>\n",
       "      <th>method_</th>\n",
       "      <th>dimensions</th>\n",
       "      <th>dataset</th>\n",
       "      <th>1NN_acc</th>\n",
       "      <th>5NN_acc</th>\n",
       "    </tr>\n",
       "  </thead>\n",
       "  <tbody>\n",
       "    <tr>\n",
       "      <th>0</th>\n",
       "      <td>scvis</td>\n",
       "      <td>64</td>\n",
       "      <td>macosko2015</td>\n",
       "      <td>0.657443</td>\n",
       "      <td>0.657443</td>\n",
       "    </tr>\n",
       "  </tbody>\n",
       "</table>\n",
       "</div>"
      ],
      "text/plain": [
       "  method_ dimensions      dataset   1NN_acc   5NN_acc\n",
       "0   scvis         64  macosko2015  0.657443  0.657443"
      ]
     },
     "execution_count": 46,
     "metadata": {},
     "output_type": "execute_result"
    }
   ],
   "source": [
    "nn_acc_df = pd.DataFrame(columns = [\"method_\",\"dimensions\",\"dataset\",\"1NN_acc\",\"5NN_acc\"])\n",
    "nn_acc_df.loc[len(nn_acc_df)] = [algorithm, n_components, dataset,  score_1nn, score_5nn]\n",
    "nn_acc_df"
   ]
  },
  {
   "cell_type": "code",
   "execution_count": 47,
   "metadata": {
    "ExecuteTime": {
     "end_time": "2021-01-14T22:57:18.888254Z",
     "start_time": "2021-01-14T22:57:18.829930Z"
    }
   },
   "outputs": [],
   "source": [
    "save_loc = DATA_DIR / 'knn_classifier' / algorithm / 'train' / str(n_components) / (dataset + '.pickle')\n",
    "ensure_dir(save_loc)\n",
    "nn_acc_df.to_pickle(save_loc)"
   ]
  },
  {
   "cell_type": "markdown",
   "metadata": {},
   "source": [
    "### Reconstruction"
   ]
  },
  {
   "cell_type": "code",
   "execution_count": 48,
   "metadata": {
    "ExecuteTime": {
     "end_time": "2021-01-14T22:57:18.920123Z",
     "start_time": "2021-01-14T22:57:18.890222Z"
    }
   },
   "outputs": [],
   "source": [
    "from sklearn.metrics import mean_squared_error, mean_absolute_error, median_absolute_error, r2_score"
   ]
  },
  {
   "cell_type": "code",
   "execution_count": 49,
   "metadata": {
    "ExecuteTime": {
     "end_time": "2021-01-14T22:57:19.001357Z",
     "start_time": "2021-01-14T22:57:18.921018Z"
    }
   },
   "outputs": [],
   "source": [
    "#X_recon = vae.decoder.predict(vae.encoder.predict(X_test.reshape((len(X_test), 28, 28, 1)))[0])\n",
    "X_recon,_ = model.decode(z_test)\n",
    "X_real = X_test.reshape((len(X_test), 50))"
   ]
  },
  {
   "cell_type": "code",
   "execution_count": 50,
   "metadata": {
    "ExecuteTime": {
     "end_time": "2021-01-14T22:57:19.040637Z",
     "start_time": "2021-01-14T22:57:19.002539Z"
    }
   },
   "outputs": [],
   "source": [
    "x_real = X_test.reshape((len(X_test), np.product(np.shape(X_test)[1:])))\n",
    "x_recon = X_recon.reshape((len(X_test), np.product(np.shape(X_test)[1:])))"
   ]
  },
  {
   "cell_type": "code",
   "execution_count": 51,
   "metadata": {
    "ExecuteTime": {
     "end_time": "2021-01-14T22:57:19.071115Z",
     "start_time": "2021-01-14T22:57:19.041810Z"
    }
   },
   "outputs": [],
   "source": [
    "reconstruction_acc_df = pd.DataFrame(\n",
    "    columns=[\"method_\", \"dimensions\", \"dataset\", \"MSE\", \"MAE\", \"MedAE\", \"R2\"]\n",
    ")"
   ]
  },
  {
   "cell_type": "code",
   "execution_count": 52,
   "metadata": {
    "ExecuteTime": {
     "end_time": "2021-01-14T22:57:19.117849Z",
     "start_time": "2021-01-14T22:57:19.072187Z"
    }
   },
   "outputs": [
    {
     "data": {
      "text/html": [
       "<div>\n",
       "<style scoped>\n",
       "    .dataframe tbody tr th:only-of-type {\n",
       "        vertical-align: middle;\n",
       "    }\n",
       "\n",
       "    .dataframe tbody tr th {\n",
       "        vertical-align: top;\n",
       "    }\n",
       "\n",
       "    .dataframe thead th {\n",
       "        text-align: right;\n",
       "    }\n",
       "</style>\n",
       "<table border=\"1\" class=\"dataframe\">\n",
       "  <thead>\n",
       "    <tr style=\"text-align: right;\">\n",
       "      <th></th>\n",
       "      <th>method_</th>\n",
       "      <th>dimensions</th>\n",
       "      <th>dataset</th>\n",
       "      <th>MSE</th>\n",
       "      <th>MAE</th>\n",
       "      <th>MedAE</th>\n",
       "      <th>R2</th>\n",
       "    </tr>\n",
       "  </thead>\n",
       "  <tbody>\n",
       "    <tr>\n",
       "      <th>0</th>\n",
       "      <td>scvis</td>\n",
       "      <td>2</td>\n",
       "      <td>macosko2015</td>\n",
       "      <td>1.610264e+06</td>\n",
       "      <td>1268.961161</td>\n",
       "      <td>1268.961923</td>\n",
       "      <td>-3.501982e+09</td>\n",
       "    </tr>\n",
       "  </tbody>\n",
       "</table>\n",
       "</div>"
      ],
      "text/plain": [
       "  method_ dimensions      dataset           MSE          MAE        MedAE  \\\n",
       "0   scvis          2  macosko2015  1.610264e+06  1268.961161  1268.961923   \n",
       "\n",
       "             R2  \n",
       "0 -3.501982e+09  "
      ]
     },
     "execution_count": 52,
     "metadata": {},
     "output_type": "execute_result"
    }
   ],
   "source": [
    "MSE = mean_squared_error(\n",
    "    x_real, \n",
    "    x_recon\n",
    ")\n",
    "MAE = mean_absolute_error(\n",
    "    x_real, \n",
    "    x_recon\n",
    ")\n",
    "MedAE = median_absolute_error(\n",
    "    x_real, \n",
    "    x_recon\n",
    ")\n",
    "R2 = r2_score(\n",
    "    x_real, \n",
    "    x_recon\n",
    ")\n",
    "\n",
    "reconstruction_acc_df.loc[len(reconstruction_acc_df)] = [algorithm, 2, dataset, MSE, MAE, MedAE, R2]\n",
    "reconstruction_acc_df"
   ]
  },
  {
   "cell_type": "code",
   "execution_count": 53,
   "metadata": {
    "ExecuteTime": {
     "end_time": "2021-01-14T22:57:19.178454Z",
     "start_time": "2021-01-14T22:57:19.119005Z"
    }
   },
   "outputs": [],
   "source": [
    "save_loc = DATA_DIR / 'reconstruction_acc' / algorithm / str(n_components) / (dataset + '.pickle')\n",
    "ensure_dir(save_loc)\n",
    "reconstruction_acc_df.to_pickle(save_loc)"
   ]
  },
  {
   "cell_type": "markdown",
   "metadata": {},
   "source": [
    "### Compute clustering quality"
   ]
  },
  {
   "cell_type": "code",
   "execution_count": 54,
   "metadata": {
    "ExecuteTime": {
     "end_time": "2021-01-14T22:57:19.222827Z",
     "start_time": "2021-01-14T22:57:19.180354Z"
    }
   },
   "outputs": [],
   "source": [
    "from sklearn.cluster import KMeans\n",
    "from sklearn.metrics import homogeneity_completeness_v_measure"
   ]
  },
  {
   "cell_type": "code",
   "execution_count": 55,
   "metadata": {
    "ExecuteTime": {
     "end_time": "2021-01-14T22:57:19.260744Z",
     "start_time": "2021-01-14T22:57:19.223973Z"
    }
   },
   "outputs": [],
   "source": [
    "def get_cluster_metrics(row, n_init=5):\n",
    "    \n",
    "    # load cluster information\n",
    "    save_loc = DATA_DIR / 'clustering_metric_df'/ ('_'.join([row.class_, str(row.dim), row.dataset]) + '.pickle')\n",
    "    print(save_loc)\n",
    "    if save_loc.exists() and save_loc.is_file():\n",
    "        \n",
    "        cluster_df = pd.read_pickle(save_loc)\n",
    "        return cluster_df\n",
    "    \n",
    "    # make cluster metric dataframe\n",
    "    cluster_df = pd.DataFrame(\n",
    "        columns=[\n",
    "            \"dataset\",\n",
    "            \"class_\",\n",
    "            \"dim\",\n",
    "            \"silhouette\",\n",
    "            \"homogeneity\",\n",
    "            \"completeness\",\n",
    "            \"v_measure\",\n",
    "            \"init_\",\n",
    "            \"n_clusters\",\n",
    "            \"model\",\n",
    "        ]\n",
    "    )\n",
    "    y = row.train_label\n",
    "    z = row.train_z\n",
    "    n_labels = len(np.unique(y))\n",
    "    for n_clusters in tqdm(np.arange(n_labels - int(n_labels / 2), n_labels + int(n_labels / 2)), leave=False, desc = 'n_clusters'):\n",
    "        for init_ in tqdm(range(n_init), leave=False, desc='init'):\n",
    "            kmeans = KMeans(n_clusters=n_clusters, random_state=init_).fit(z)\n",
    "            clustered_y = kmeans.labels_\n",
    "            homogeneity, completeness, v_measure = homogeneity_completeness_v_measure(\n",
    "                np.array(y).flatten(), np.array(clustered_y).flatten()\n",
    "            )\n",
    "            ss, _ = silhouette_score_block(z, clustered_y)\n",
    "            cluster_df.loc[len(cluster_df)] = [\n",
    "                row.dataset,\n",
    "                row.class_,\n",
    "                row.dim,\n",
    "                ss,\n",
    "                homogeneity,\n",
    "                completeness,\n",
    "                v_measure,\n",
    "                init_,\n",
    "                n_clusters,\n",
    "                kmeans,\n",
    "            ]\n",
    "    \n",
    "     # save cluster df in case this fails somewhere\n",
    "    ensure_dir(save_loc)\n",
    "    cluster_df.to_pickle(save_loc)\n",
    "    return cluster_df"
   ]
  },
  {
   "cell_type": "code",
   "execution_count": 56,
   "metadata": {
    "ExecuteTime": {
     "end_time": "2021-01-14T22:57:19.381494Z",
     "start_time": "2021-01-14T22:57:19.261772Z"
    }
   },
   "outputs": [
    {
     "data": {
      "text/html": [
       "<div>\n",
       "<style scoped>\n",
       "    .dataframe tbody tr th:only-of-type {\n",
       "        vertical-align: middle;\n",
       "    }\n",
       "\n",
       "    .dataframe tbody tr th {\n",
       "        vertical-align: top;\n",
       "    }\n",
       "\n",
       "    .dataframe thead th {\n",
       "        text-align: right;\n",
       "    }\n",
       "</style>\n",
       "<table border=\"1\" class=\"dataframe\">\n",
       "  <thead>\n",
       "    <tr style=\"text-align: right;\">\n",
       "      <th></th>\n",
       "      <th>dataset</th>\n",
       "      <th>class_</th>\n",
       "      <th>train_z</th>\n",
       "      <th>train_label</th>\n",
       "      <th>dim</th>\n",
       "    </tr>\n",
       "  </thead>\n",
       "  <tbody>\n",
       "    <tr>\n",
       "      <th>0</th>\n",
       "      <td>macosko2015</td>\n",
       "      <td>scvis</td>\n",
       "      <td>[[309.4398, 310.21002, 310.07355, 310.18015, 3...</td>\n",
       "      <td>[10.0, 7.0, 0.0, 10.0, 10.0, 10.0, 10.0, 10.0,...</td>\n",
       "      <td>64</td>\n",
       "    </tr>\n",
       "  </tbody>\n",
       "</table>\n",
       "</div>"
      ],
      "text/plain": [
       "       dataset class_                                            train_z  \\\n",
       "0  macosko2015  scvis  [[309.4398, 310.21002, 310.07355, 310.18015, 3...   \n",
       "\n",
       "                                         train_label dim  \n",
       "0  [10.0, 7.0, 0.0, 10.0, 10.0, 10.0, 10.0, 10.0,...  64  "
      ]
     },
     "execution_count": 56,
     "metadata": {},
     "output_type": "execute_result"
    }
   ],
   "source": [
    "projection_df = pd.DataFrame(columns = ['dataset', 'class_', 'train_z', 'train_label', 'dim'])\n",
    "projection_df.loc[len(projection_df)] = [dataset, algorithm, z, Y_train, n_components]\n",
    "projection_df"
   ]
  },
  {
   "cell_type": "code",
   "execution_count": 57,
   "metadata": {
    "ExecuteTime": {
     "end_time": "2021-01-14T23:08:05.415811Z",
     "start_time": "2021-01-14T22:57:19.382672Z"
    }
   },
   "outputs": [
    {
     "name": "stdout",
     "output_type": "stream",
     "text": [
      "/mnt/cube/tsainbur/Projects/github_repos/umap_tf_networks/data/clustering_metric_df/scvis_64_macosko2015.pickle\n"
     ]
    },
    {
     "data": {
      "application/vnd.jupyter.widget-view+json": {
       "model_id": "",
       "version_major": 2,
       "version_minor": 0
      },
      "text/plain": [
       "n_clusters:   0%|          | 0/12 [00:00<?, ?it/s]"
      ]
     },
     "metadata": {},
     "output_type": "display_data"
    },
    {
     "data": {
      "application/vnd.jupyter.widget-view+json": {
       "model_id": "",
       "version_major": 2,
       "version_minor": 0
      },
      "text/plain": [
       "init:   0%|          | 0/5 [00:00<?, ?it/s]"
      ]
     },
     "metadata": {},
     "output_type": "display_data"
    },
    {
     "name": "stderr",
     "output_type": "stream",
     "text": [
      "/home/AD/tsainbur/anaconda3/envs/scvis2/lib/python3.7/site-packages/ipykernel_launcher.py:31: ConvergenceWarning: Number of distinct clusters (1) found smaller than n_clusters (6). Possibly due to duplicate points in X.\n",
      "/mnt/cube/tsainbur/Projects/github_repos/umap_tf_networks/tfumap/silhouette.py:109: RuntimeWarning: invalid value encountered in true_divide\n",
      "  sil_samples = (B - A) / np.maximum(A, B)\n",
      "/home/AD/tsainbur/anaconda3/envs/scvis2/lib/python3.7/site-packages/ipykernel_launcher.py:31: ConvergenceWarning: Number of distinct clusters (1) found smaller than n_clusters (6). Possibly due to duplicate points in X.\n",
      "/mnt/cube/tsainbur/Projects/github_repos/umap_tf_networks/tfumap/silhouette.py:109: RuntimeWarning: invalid value encountered in true_divide\n",
      "  sil_samples = (B - A) / np.maximum(A, B)\n",
      "/home/AD/tsainbur/anaconda3/envs/scvis2/lib/python3.7/site-packages/ipykernel_launcher.py:31: ConvergenceWarning: Number of distinct clusters (1) found smaller than n_clusters (6). Possibly due to duplicate points in X.\n",
      "/mnt/cube/tsainbur/Projects/github_repos/umap_tf_networks/tfumap/silhouette.py:109: RuntimeWarning: invalid value encountered in true_divide\n",
      "  sil_samples = (B - A) / np.maximum(A, B)\n",
      "/home/AD/tsainbur/anaconda3/envs/scvis2/lib/python3.7/site-packages/ipykernel_launcher.py:31: ConvergenceWarning: Number of distinct clusters (1) found smaller than n_clusters (6). Possibly due to duplicate points in X.\n",
      "/mnt/cube/tsainbur/Projects/github_repos/umap_tf_networks/tfumap/silhouette.py:109: RuntimeWarning: invalid value encountered in true_divide\n",
      "  sil_samples = (B - A) / np.maximum(A, B)\n",
      "/home/AD/tsainbur/anaconda3/envs/scvis2/lib/python3.7/site-packages/ipykernel_launcher.py:31: ConvergenceWarning: Number of distinct clusters (1) found smaller than n_clusters (6). Possibly due to duplicate points in X.\n",
      "/mnt/cube/tsainbur/Projects/github_repos/umap_tf_networks/tfumap/silhouette.py:109: RuntimeWarning: invalid value encountered in true_divide\n",
      "  sil_samples = (B - A) / np.maximum(A, B)\n"
     ]
    },
    {
     "data": {
      "application/vnd.jupyter.widget-view+json": {
       "model_id": "",
       "version_major": 2,
       "version_minor": 0
      },
      "text/plain": [
       "init:   0%|          | 0/5 [00:00<?, ?it/s]"
      ]
     },
     "metadata": {},
     "output_type": "display_data"
    },
    {
     "name": "stderr",
     "output_type": "stream",
     "text": [
      "/home/AD/tsainbur/anaconda3/envs/scvis2/lib/python3.7/site-packages/ipykernel_launcher.py:31: ConvergenceWarning: Number of distinct clusters (1) found smaller than n_clusters (7). Possibly due to duplicate points in X.\n",
      "/mnt/cube/tsainbur/Projects/github_repos/umap_tf_networks/tfumap/silhouette.py:109: RuntimeWarning: invalid value encountered in true_divide\n",
      "  sil_samples = (B - A) / np.maximum(A, B)\n",
      "/home/AD/tsainbur/anaconda3/envs/scvis2/lib/python3.7/site-packages/ipykernel_launcher.py:31: ConvergenceWarning: Number of distinct clusters (1) found smaller than n_clusters (7). Possibly due to duplicate points in X.\n",
      "/mnt/cube/tsainbur/Projects/github_repos/umap_tf_networks/tfumap/silhouette.py:109: RuntimeWarning: invalid value encountered in true_divide\n",
      "  sil_samples = (B - A) / np.maximum(A, B)\n",
      "/home/AD/tsainbur/anaconda3/envs/scvis2/lib/python3.7/site-packages/ipykernel_launcher.py:31: ConvergenceWarning: Number of distinct clusters (1) found smaller than n_clusters (7). Possibly due to duplicate points in X.\n",
      "/mnt/cube/tsainbur/Projects/github_repos/umap_tf_networks/tfumap/silhouette.py:109: RuntimeWarning: invalid value encountered in true_divide\n",
      "  sil_samples = (B - A) / np.maximum(A, B)\n",
      "/home/AD/tsainbur/anaconda3/envs/scvis2/lib/python3.7/site-packages/ipykernel_launcher.py:31: ConvergenceWarning: Number of distinct clusters (1) found smaller than n_clusters (7). Possibly due to duplicate points in X.\n",
      "/mnt/cube/tsainbur/Projects/github_repos/umap_tf_networks/tfumap/silhouette.py:109: RuntimeWarning: invalid value encountered in true_divide\n",
      "  sil_samples = (B - A) / np.maximum(A, B)\n",
      "/home/AD/tsainbur/anaconda3/envs/scvis2/lib/python3.7/site-packages/ipykernel_launcher.py:31: ConvergenceWarning: Number of distinct clusters (1) found smaller than n_clusters (7). Possibly due to duplicate points in X.\n",
      "/mnt/cube/tsainbur/Projects/github_repos/umap_tf_networks/tfumap/silhouette.py:109: RuntimeWarning: invalid value encountered in true_divide\n",
      "  sil_samples = (B - A) / np.maximum(A, B)\n"
     ]
    },
    {
     "data": {
      "application/vnd.jupyter.widget-view+json": {
       "model_id": "",
       "version_major": 2,
       "version_minor": 0
      },
      "text/plain": [
       "init:   0%|          | 0/5 [00:00<?, ?it/s]"
      ]
     },
     "metadata": {},
     "output_type": "display_data"
    },
    {
     "name": "stderr",
     "output_type": "stream",
     "text": [
      "/home/AD/tsainbur/anaconda3/envs/scvis2/lib/python3.7/site-packages/ipykernel_launcher.py:31: ConvergenceWarning: Number of distinct clusters (1) found smaller than n_clusters (8). Possibly due to duplicate points in X.\n",
      "/mnt/cube/tsainbur/Projects/github_repos/umap_tf_networks/tfumap/silhouette.py:109: RuntimeWarning: invalid value encountered in true_divide\n",
      "  sil_samples = (B - A) / np.maximum(A, B)\n",
      "/home/AD/tsainbur/anaconda3/envs/scvis2/lib/python3.7/site-packages/ipykernel_launcher.py:31: ConvergenceWarning: Number of distinct clusters (1) found smaller than n_clusters (8). Possibly due to duplicate points in X.\n",
      "/mnt/cube/tsainbur/Projects/github_repos/umap_tf_networks/tfumap/silhouette.py:109: RuntimeWarning: invalid value encountered in true_divide\n",
      "  sil_samples = (B - A) / np.maximum(A, B)\n",
      "/home/AD/tsainbur/anaconda3/envs/scvis2/lib/python3.7/site-packages/ipykernel_launcher.py:31: ConvergenceWarning: Number of distinct clusters (1) found smaller than n_clusters (8). Possibly due to duplicate points in X.\n",
      "/mnt/cube/tsainbur/Projects/github_repos/umap_tf_networks/tfumap/silhouette.py:109: RuntimeWarning: invalid value encountered in true_divide\n",
      "  sil_samples = (B - A) / np.maximum(A, B)\n",
      "/home/AD/tsainbur/anaconda3/envs/scvis2/lib/python3.7/site-packages/ipykernel_launcher.py:31: ConvergenceWarning: Number of distinct clusters (1) found smaller than n_clusters (8). Possibly due to duplicate points in X.\n",
      "/mnt/cube/tsainbur/Projects/github_repos/umap_tf_networks/tfumap/silhouette.py:109: RuntimeWarning: invalid value encountered in true_divide\n",
      "  sil_samples = (B - A) / np.maximum(A, B)\n",
      "/home/AD/tsainbur/anaconda3/envs/scvis2/lib/python3.7/site-packages/ipykernel_launcher.py:31: ConvergenceWarning: Number of distinct clusters (1) found smaller than n_clusters (8). Possibly due to duplicate points in X.\n",
      "/mnt/cube/tsainbur/Projects/github_repos/umap_tf_networks/tfumap/silhouette.py:109: RuntimeWarning: invalid value encountered in true_divide\n",
      "  sil_samples = (B - A) / np.maximum(A, B)\n"
     ]
    },
    {
     "data": {
      "application/vnd.jupyter.widget-view+json": {
       "model_id": "",
       "version_major": 2,
       "version_minor": 0
      },
      "text/plain": [
       "init:   0%|          | 0/5 [00:00<?, ?it/s]"
      ]
     },
     "metadata": {},
     "output_type": "display_data"
    },
    {
     "name": "stderr",
     "output_type": "stream",
     "text": [
      "/home/AD/tsainbur/anaconda3/envs/scvis2/lib/python3.7/site-packages/ipykernel_launcher.py:31: ConvergenceWarning: Number of distinct clusters (1) found smaller than n_clusters (9). Possibly due to duplicate points in X.\n",
      "/mnt/cube/tsainbur/Projects/github_repos/umap_tf_networks/tfumap/silhouette.py:109: RuntimeWarning: invalid value encountered in true_divide\n",
      "  sil_samples = (B - A) / np.maximum(A, B)\n",
      "/home/AD/tsainbur/anaconda3/envs/scvis2/lib/python3.7/site-packages/ipykernel_launcher.py:31: ConvergenceWarning: Number of distinct clusters (1) found smaller than n_clusters (9). Possibly due to duplicate points in X.\n",
      "/mnt/cube/tsainbur/Projects/github_repos/umap_tf_networks/tfumap/silhouette.py:109: RuntimeWarning: invalid value encountered in true_divide\n",
      "  sil_samples = (B - A) / np.maximum(A, B)\n",
      "/home/AD/tsainbur/anaconda3/envs/scvis2/lib/python3.7/site-packages/ipykernel_launcher.py:31: ConvergenceWarning: Number of distinct clusters (1) found smaller than n_clusters (9). Possibly due to duplicate points in X.\n",
      "/mnt/cube/tsainbur/Projects/github_repos/umap_tf_networks/tfumap/silhouette.py:109: RuntimeWarning: invalid value encountered in true_divide\n",
      "  sil_samples = (B - A) / np.maximum(A, B)\n",
      "/home/AD/tsainbur/anaconda3/envs/scvis2/lib/python3.7/site-packages/ipykernel_launcher.py:31: ConvergenceWarning: Number of distinct clusters (1) found smaller than n_clusters (9). Possibly due to duplicate points in X.\n",
      "/mnt/cube/tsainbur/Projects/github_repos/umap_tf_networks/tfumap/silhouette.py:109: RuntimeWarning: invalid value encountered in true_divide\n",
      "  sil_samples = (B - A) / np.maximum(A, B)\n",
      "/home/AD/tsainbur/anaconda3/envs/scvis2/lib/python3.7/site-packages/ipykernel_launcher.py:31: ConvergenceWarning: Number of distinct clusters (1) found smaller than n_clusters (9). Possibly due to duplicate points in X.\n",
      "/mnt/cube/tsainbur/Projects/github_repos/umap_tf_networks/tfumap/silhouette.py:109: RuntimeWarning: invalid value encountered in true_divide\n",
      "  sil_samples = (B - A) / np.maximum(A, B)\n"
     ]
    },
    {
     "data": {
      "application/vnd.jupyter.widget-view+json": {
       "model_id": "",
       "version_major": 2,
       "version_minor": 0
      },
      "text/plain": [
       "init:   0%|          | 0/5 [00:00<?, ?it/s]"
      ]
     },
     "metadata": {},
     "output_type": "display_data"
    },
    {
     "name": "stderr",
     "output_type": "stream",
     "text": [
      "/home/AD/tsainbur/anaconda3/envs/scvis2/lib/python3.7/site-packages/ipykernel_launcher.py:31: ConvergenceWarning: Number of distinct clusters (1) found smaller than n_clusters (10). Possibly due to duplicate points in X.\n",
      "/mnt/cube/tsainbur/Projects/github_repos/umap_tf_networks/tfumap/silhouette.py:109: RuntimeWarning: invalid value encountered in true_divide\n",
      "  sil_samples = (B - A) / np.maximum(A, B)\n",
      "/home/AD/tsainbur/anaconda3/envs/scvis2/lib/python3.7/site-packages/ipykernel_launcher.py:31: ConvergenceWarning: Number of distinct clusters (1) found smaller than n_clusters (10). Possibly due to duplicate points in X.\n",
      "/mnt/cube/tsainbur/Projects/github_repos/umap_tf_networks/tfumap/silhouette.py:109: RuntimeWarning: invalid value encountered in true_divide\n",
      "  sil_samples = (B - A) / np.maximum(A, B)\n",
      "/home/AD/tsainbur/anaconda3/envs/scvis2/lib/python3.7/site-packages/ipykernel_launcher.py:31: ConvergenceWarning: Number of distinct clusters (1) found smaller than n_clusters (10). Possibly due to duplicate points in X.\n",
      "/mnt/cube/tsainbur/Projects/github_repos/umap_tf_networks/tfumap/silhouette.py:109: RuntimeWarning: invalid value encountered in true_divide\n",
      "  sil_samples = (B - A) / np.maximum(A, B)\n",
      "/home/AD/tsainbur/anaconda3/envs/scvis2/lib/python3.7/site-packages/ipykernel_launcher.py:31: ConvergenceWarning: Number of distinct clusters (1) found smaller than n_clusters (10). Possibly due to duplicate points in X.\n",
      "/mnt/cube/tsainbur/Projects/github_repos/umap_tf_networks/tfumap/silhouette.py:109: RuntimeWarning: invalid value encountered in true_divide\n",
      "  sil_samples = (B - A) / np.maximum(A, B)\n",
      "/home/AD/tsainbur/anaconda3/envs/scvis2/lib/python3.7/site-packages/ipykernel_launcher.py:31: ConvergenceWarning: Number of distinct clusters (1) found smaller than n_clusters (10). Possibly due to duplicate points in X.\n",
      "/mnt/cube/tsainbur/Projects/github_repos/umap_tf_networks/tfumap/silhouette.py:109: RuntimeWarning: invalid value encountered in true_divide\n",
      "  sil_samples = (B - A) / np.maximum(A, B)\n"
     ]
    },
    {
     "data": {
      "application/vnd.jupyter.widget-view+json": {
       "model_id": "",
       "version_major": 2,
       "version_minor": 0
      },
      "text/plain": [
       "init:   0%|          | 0/5 [00:00<?, ?it/s]"
      ]
     },
     "metadata": {},
     "output_type": "display_data"
    },
    {
     "name": "stderr",
     "output_type": "stream",
     "text": [
      "/home/AD/tsainbur/anaconda3/envs/scvis2/lib/python3.7/site-packages/ipykernel_launcher.py:31: ConvergenceWarning: Number of distinct clusters (1) found smaller than n_clusters (11). Possibly due to duplicate points in X.\n",
      "/mnt/cube/tsainbur/Projects/github_repos/umap_tf_networks/tfumap/silhouette.py:109: RuntimeWarning: invalid value encountered in true_divide\n",
      "  sil_samples = (B - A) / np.maximum(A, B)\n",
      "/home/AD/tsainbur/anaconda3/envs/scvis2/lib/python3.7/site-packages/ipykernel_launcher.py:31: ConvergenceWarning: Number of distinct clusters (1) found smaller than n_clusters (11). Possibly due to duplicate points in X.\n",
      "/mnt/cube/tsainbur/Projects/github_repos/umap_tf_networks/tfumap/silhouette.py:109: RuntimeWarning: invalid value encountered in true_divide\n",
      "  sil_samples = (B - A) / np.maximum(A, B)\n",
      "/home/AD/tsainbur/anaconda3/envs/scvis2/lib/python3.7/site-packages/ipykernel_launcher.py:31: ConvergenceWarning: Number of distinct clusters (1) found smaller than n_clusters (11). Possibly due to duplicate points in X.\n",
      "/mnt/cube/tsainbur/Projects/github_repos/umap_tf_networks/tfumap/silhouette.py:109: RuntimeWarning: invalid value encountered in true_divide\n",
      "  sil_samples = (B - A) / np.maximum(A, B)\n",
      "/home/AD/tsainbur/anaconda3/envs/scvis2/lib/python3.7/site-packages/ipykernel_launcher.py:31: ConvergenceWarning: Number of distinct clusters (1) found smaller than n_clusters (11). Possibly due to duplicate points in X.\n",
      "/mnt/cube/tsainbur/Projects/github_repos/umap_tf_networks/tfumap/silhouette.py:109: RuntimeWarning: invalid value encountered in true_divide\n",
      "  sil_samples = (B - A) / np.maximum(A, B)\n",
      "/home/AD/tsainbur/anaconda3/envs/scvis2/lib/python3.7/site-packages/ipykernel_launcher.py:31: ConvergenceWarning: Number of distinct clusters (1) found smaller than n_clusters (11). Possibly due to duplicate points in X.\n",
      "/mnt/cube/tsainbur/Projects/github_repos/umap_tf_networks/tfumap/silhouette.py:109: RuntimeWarning: invalid value encountered in true_divide\n",
      "  sil_samples = (B - A) / np.maximum(A, B)\n"
     ]
    },
    {
     "data": {
      "application/vnd.jupyter.widget-view+json": {
       "model_id": "",
       "version_major": 2,
       "version_minor": 0
      },
      "text/plain": [
       "init:   0%|          | 0/5 [00:00<?, ?it/s]"
      ]
     },
     "metadata": {},
     "output_type": "display_data"
    },
    {
     "name": "stderr",
     "output_type": "stream",
     "text": [
      "/home/AD/tsainbur/anaconda3/envs/scvis2/lib/python3.7/site-packages/ipykernel_launcher.py:31: ConvergenceWarning: Number of distinct clusters (1) found smaller than n_clusters (12). Possibly due to duplicate points in X.\n",
      "/mnt/cube/tsainbur/Projects/github_repos/umap_tf_networks/tfumap/silhouette.py:109: RuntimeWarning: invalid value encountered in true_divide\n",
      "  sil_samples = (B - A) / np.maximum(A, B)\n",
      "/home/AD/tsainbur/anaconda3/envs/scvis2/lib/python3.7/site-packages/ipykernel_launcher.py:31: ConvergenceWarning: Number of distinct clusters (1) found smaller than n_clusters (12). Possibly due to duplicate points in X.\n",
      "/mnt/cube/tsainbur/Projects/github_repos/umap_tf_networks/tfumap/silhouette.py:109: RuntimeWarning: invalid value encountered in true_divide\n",
      "  sil_samples = (B - A) / np.maximum(A, B)\n",
      "/home/AD/tsainbur/anaconda3/envs/scvis2/lib/python3.7/site-packages/ipykernel_launcher.py:31: ConvergenceWarning: Number of distinct clusters (1) found smaller than n_clusters (12). Possibly due to duplicate points in X.\n",
      "/mnt/cube/tsainbur/Projects/github_repos/umap_tf_networks/tfumap/silhouette.py:109: RuntimeWarning: invalid value encountered in true_divide\n",
      "  sil_samples = (B - A) / np.maximum(A, B)\n",
      "/home/AD/tsainbur/anaconda3/envs/scvis2/lib/python3.7/site-packages/ipykernel_launcher.py:31: ConvergenceWarning: Number of distinct clusters (1) found smaller than n_clusters (12). Possibly due to duplicate points in X.\n",
      "/mnt/cube/tsainbur/Projects/github_repos/umap_tf_networks/tfumap/silhouette.py:109: RuntimeWarning: invalid value encountered in true_divide\n",
      "  sil_samples = (B - A) / np.maximum(A, B)\n",
      "/home/AD/tsainbur/anaconda3/envs/scvis2/lib/python3.7/site-packages/ipykernel_launcher.py:31: ConvergenceWarning: Number of distinct clusters (1) found smaller than n_clusters (12). Possibly due to duplicate points in X.\n",
      "/mnt/cube/tsainbur/Projects/github_repos/umap_tf_networks/tfumap/silhouette.py:109: RuntimeWarning: invalid value encountered in true_divide\n",
      "  sil_samples = (B - A) / np.maximum(A, B)\n"
     ]
    },
    {
     "data": {
      "application/vnd.jupyter.widget-view+json": {
       "model_id": "",
       "version_major": 2,
       "version_minor": 0
      },
      "text/plain": [
       "init:   0%|          | 0/5 [00:00<?, ?it/s]"
      ]
     },
     "metadata": {},
     "output_type": "display_data"
    },
    {
     "name": "stderr",
     "output_type": "stream",
     "text": [
      "/home/AD/tsainbur/anaconda3/envs/scvis2/lib/python3.7/site-packages/ipykernel_launcher.py:31: ConvergenceWarning: Number of distinct clusters (1) found smaller than n_clusters (13). Possibly due to duplicate points in X.\n",
      "/mnt/cube/tsainbur/Projects/github_repos/umap_tf_networks/tfumap/silhouette.py:109: RuntimeWarning: invalid value encountered in true_divide\n",
      "  sil_samples = (B - A) / np.maximum(A, B)\n",
      "/home/AD/tsainbur/anaconda3/envs/scvis2/lib/python3.7/site-packages/ipykernel_launcher.py:31: ConvergenceWarning: Number of distinct clusters (1) found smaller than n_clusters (13). Possibly due to duplicate points in X.\n",
      "/mnt/cube/tsainbur/Projects/github_repos/umap_tf_networks/tfumap/silhouette.py:109: RuntimeWarning: invalid value encountered in true_divide\n",
      "  sil_samples = (B - A) / np.maximum(A, B)\n",
      "/home/AD/tsainbur/anaconda3/envs/scvis2/lib/python3.7/site-packages/ipykernel_launcher.py:31: ConvergenceWarning: Number of distinct clusters (1) found smaller than n_clusters (13). Possibly due to duplicate points in X.\n",
      "/mnt/cube/tsainbur/Projects/github_repos/umap_tf_networks/tfumap/silhouette.py:109: RuntimeWarning: invalid value encountered in true_divide\n",
      "  sil_samples = (B - A) / np.maximum(A, B)\n",
      "/home/AD/tsainbur/anaconda3/envs/scvis2/lib/python3.7/site-packages/ipykernel_launcher.py:31: ConvergenceWarning: Number of distinct clusters (1) found smaller than n_clusters (13). Possibly due to duplicate points in X.\n",
      "/mnt/cube/tsainbur/Projects/github_repos/umap_tf_networks/tfumap/silhouette.py:109: RuntimeWarning: invalid value encountered in true_divide\n",
      "  sil_samples = (B - A) / np.maximum(A, B)\n",
      "/home/AD/tsainbur/anaconda3/envs/scvis2/lib/python3.7/site-packages/ipykernel_launcher.py:31: ConvergenceWarning: Number of distinct clusters (1) found smaller than n_clusters (13). Possibly due to duplicate points in X.\n",
      "/mnt/cube/tsainbur/Projects/github_repos/umap_tf_networks/tfumap/silhouette.py:109: RuntimeWarning: invalid value encountered in true_divide\n",
      "  sil_samples = (B - A) / np.maximum(A, B)\n"
     ]
    },
    {
     "data": {
      "application/vnd.jupyter.widget-view+json": {
       "model_id": "",
       "version_major": 2,
       "version_minor": 0
      },
      "text/plain": [
       "init:   0%|          | 0/5 [00:00<?, ?it/s]"
      ]
     },
     "metadata": {},
     "output_type": "display_data"
    },
    {
     "name": "stderr",
     "output_type": "stream",
     "text": [
      "/home/AD/tsainbur/anaconda3/envs/scvis2/lib/python3.7/site-packages/ipykernel_launcher.py:31: ConvergenceWarning: Number of distinct clusters (1) found smaller than n_clusters (14). Possibly due to duplicate points in X.\n",
      "/mnt/cube/tsainbur/Projects/github_repos/umap_tf_networks/tfumap/silhouette.py:109: RuntimeWarning: invalid value encountered in true_divide\n",
      "  sil_samples = (B - A) / np.maximum(A, B)\n",
      "/home/AD/tsainbur/anaconda3/envs/scvis2/lib/python3.7/site-packages/ipykernel_launcher.py:31: ConvergenceWarning: Number of distinct clusters (1) found smaller than n_clusters (14). Possibly due to duplicate points in X.\n",
      "/mnt/cube/tsainbur/Projects/github_repos/umap_tf_networks/tfumap/silhouette.py:109: RuntimeWarning: invalid value encountered in true_divide\n",
      "  sil_samples = (B - A) / np.maximum(A, B)\n",
      "/home/AD/tsainbur/anaconda3/envs/scvis2/lib/python3.7/site-packages/ipykernel_launcher.py:31: ConvergenceWarning: Number of distinct clusters (1) found smaller than n_clusters (14). Possibly due to duplicate points in X.\n",
      "/mnt/cube/tsainbur/Projects/github_repos/umap_tf_networks/tfumap/silhouette.py:109: RuntimeWarning: invalid value encountered in true_divide\n",
      "  sil_samples = (B - A) / np.maximum(A, B)\n",
      "/home/AD/tsainbur/anaconda3/envs/scvis2/lib/python3.7/site-packages/ipykernel_launcher.py:31: ConvergenceWarning: Number of distinct clusters (1) found smaller than n_clusters (14). Possibly due to duplicate points in X.\n",
      "/mnt/cube/tsainbur/Projects/github_repos/umap_tf_networks/tfumap/silhouette.py:109: RuntimeWarning: invalid value encountered in true_divide\n",
      "  sil_samples = (B - A) / np.maximum(A, B)\n",
      "/home/AD/tsainbur/anaconda3/envs/scvis2/lib/python3.7/site-packages/ipykernel_launcher.py:31: ConvergenceWarning: Number of distinct clusters (1) found smaller than n_clusters (14). Possibly due to duplicate points in X.\n",
      "/mnt/cube/tsainbur/Projects/github_repos/umap_tf_networks/tfumap/silhouette.py:109: RuntimeWarning: invalid value encountered in true_divide\n",
      "  sil_samples = (B - A) / np.maximum(A, B)\n"
     ]
    },
    {
     "data": {
      "application/vnd.jupyter.widget-view+json": {
       "model_id": "",
       "version_major": 2,
       "version_minor": 0
      },
      "text/plain": [
       "init:   0%|          | 0/5 [00:00<?, ?it/s]"
      ]
     },
     "metadata": {},
     "output_type": "display_data"
    },
    {
     "name": "stderr",
     "output_type": "stream",
     "text": [
      "/home/AD/tsainbur/anaconda3/envs/scvis2/lib/python3.7/site-packages/ipykernel_launcher.py:31: ConvergenceWarning: Number of distinct clusters (1) found smaller than n_clusters (15). Possibly due to duplicate points in X.\n",
      "/mnt/cube/tsainbur/Projects/github_repos/umap_tf_networks/tfumap/silhouette.py:109: RuntimeWarning: invalid value encountered in true_divide\n",
      "  sil_samples = (B - A) / np.maximum(A, B)\n",
      "/home/AD/tsainbur/anaconda3/envs/scvis2/lib/python3.7/site-packages/ipykernel_launcher.py:31: ConvergenceWarning: Number of distinct clusters (1) found smaller than n_clusters (15). Possibly due to duplicate points in X.\n",
      "/mnt/cube/tsainbur/Projects/github_repos/umap_tf_networks/tfumap/silhouette.py:109: RuntimeWarning: invalid value encountered in true_divide\n",
      "  sil_samples = (B - A) / np.maximum(A, B)\n",
      "/home/AD/tsainbur/anaconda3/envs/scvis2/lib/python3.7/site-packages/ipykernel_launcher.py:31: ConvergenceWarning: Number of distinct clusters (1) found smaller than n_clusters (15). Possibly due to duplicate points in X.\n",
      "/mnt/cube/tsainbur/Projects/github_repos/umap_tf_networks/tfumap/silhouette.py:109: RuntimeWarning: invalid value encountered in true_divide\n",
      "  sil_samples = (B - A) / np.maximum(A, B)\n",
      "/home/AD/tsainbur/anaconda3/envs/scvis2/lib/python3.7/site-packages/ipykernel_launcher.py:31: ConvergenceWarning: Number of distinct clusters (1) found smaller than n_clusters (15). Possibly due to duplicate points in X.\n",
      "/mnt/cube/tsainbur/Projects/github_repos/umap_tf_networks/tfumap/silhouette.py:109: RuntimeWarning: invalid value encountered in true_divide\n",
      "  sil_samples = (B - A) / np.maximum(A, B)\n",
      "/home/AD/tsainbur/anaconda3/envs/scvis2/lib/python3.7/site-packages/ipykernel_launcher.py:31: ConvergenceWarning: Number of distinct clusters (1) found smaller than n_clusters (15). Possibly due to duplicate points in X.\n",
      "/mnt/cube/tsainbur/Projects/github_repos/umap_tf_networks/tfumap/silhouette.py:109: RuntimeWarning: invalid value encountered in true_divide\n",
      "  sil_samples = (B - A) / np.maximum(A, B)\n"
     ]
    },
    {
     "data": {
      "application/vnd.jupyter.widget-view+json": {
       "model_id": "",
       "version_major": 2,
       "version_minor": 0
      },
      "text/plain": [
       "init:   0%|          | 0/5 [00:00<?, ?it/s]"
      ]
     },
     "metadata": {},
     "output_type": "display_data"
    },
    {
     "name": "stderr",
     "output_type": "stream",
     "text": [
      "/home/AD/tsainbur/anaconda3/envs/scvis2/lib/python3.7/site-packages/ipykernel_launcher.py:31: ConvergenceWarning: Number of distinct clusters (1) found smaller than n_clusters (16). Possibly due to duplicate points in X.\n",
      "/mnt/cube/tsainbur/Projects/github_repos/umap_tf_networks/tfumap/silhouette.py:109: RuntimeWarning: invalid value encountered in true_divide\n",
      "  sil_samples = (B - A) / np.maximum(A, B)\n",
      "/home/AD/tsainbur/anaconda3/envs/scvis2/lib/python3.7/site-packages/ipykernel_launcher.py:31: ConvergenceWarning: Number of distinct clusters (1) found smaller than n_clusters (16). Possibly due to duplicate points in X.\n",
      "/mnt/cube/tsainbur/Projects/github_repos/umap_tf_networks/tfumap/silhouette.py:109: RuntimeWarning: invalid value encountered in true_divide\n",
      "  sil_samples = (B - A) / np.maximum(A, B)\n",
      "/home/AD/tsainbur/anaconda3/envs/scvis2/lib/python3.7/site-packages/ipykernel_launcher.py:31: ConvergenceWarning: Number of distinct clusters (1) found smaller than n_clusters (16). Possibly due to duplicate points in X.\n",
      "/mnt/cube/tsainbur/Projects/github_repos/umap_tf_networks/tfumap/silhouette.py:109: RuntimeWarning: invalid value encountered in true_divide\n",
      "  sil_samples = (B - A) / np.maximum(A, B)\n",
      "/home/AD/tsainbur/anaconda3/envs/scvis2/lib/python3.7/site-packages/ipykernel_launcher.py:31: ConvergenceWarning: Number of distinct clusters (1) found smaller than n_clusters (16). Possibly due to duplicate points in X.\n",
      "/mnt/cube/tsainbur/Projects/github_repos/umap_tf_networks/tfumap/silhouette.py:109: RuntimeWarning: invalid value encountered in true_divide\n",
      "  sil_samples = (B - A) / np.maximum(A, B)\n",
      "/home/AD/tsainbur/anaconda3/envs/scvis2/lib/python3.7/site-packages/ipykernel_launcher.py:31: ConvergenceWarning: Number of distinct clusters (1) found smaller than n_clusters (16). Possibly due to duplicate points in X.\n",
      "/mnt/cube/tsainbur/Projects/github_repos/umap_tf_networks/tfumap/silhouette.py:109: RuntimeWarning: invalid value encountered in true_divide\n",
      "  sil_samples = (B - A) / np.maximum(A, B)\n"
     ]
    },
    {
     "data": {
      "application/vnd.jupyter.widget-view+json": {
       "model_id": "",
       "version_major": 2,
       "version_minor": 0
      },
      "text/plain": [
       "init:   0%|          | 0/5 [00:00<?, ?it/s]"
      ]
     },
     "metadata": {},
     "output_type": "display_data"
    },
    {
     "name": "stderr",
     "output_type": "stream",
     "text": [
      "/home/AD/tsainbur/anaconda3/envs/scvis2/lib/python3.7/site-packages/ipykernel_launcher.py:31: ConvergenceWarning: Number of distinct clusters (1) found smaller than n_clusters (17). Possibly due to duplicate points in X.\n",
      "/mnt/cube/tsainbur/Projects/github_repos/umap_tf_networks/tfumap/silhouette.py:109: RuntimeWarning: invalid value encountered in true_divide\n",
      "  sil_samples = (B - A) / np.maximum(A, B)\n",
      "/home/AD/tsainbur/anaconda3/envs/scvis2/lib/python3.7/site-packages/ipykernel_launcher.py:31: ConvergenceWarning: Number of distinct clusters (1) found smaller than n_clusters (17). Possibly due to duplicate points in X.\n",
      "/mnt/cube/tsainbur/Projects/github_repos/umap_tf_networks/tfumap/silhouette.py:109: RuntimeWarning: invalid value encountered in true_divide\n",
      "  sil_samples = (B - A) / np.maximum(A, B)\n",
      "/home/AD/tsainbur/anaconda3/envs/scvis2/lib/python3.7/site-packages/ipykernel_launcher.py:31: ConvergenceWarning: Number of distinct clusters (1) found smaller than n_clusters (17). Possibly due to duplicate points in X.\n",
      "/mnt/cube/tsainbur/Projects/github_repos/umap_tf_networks/tfumap/silhouette.py:109: RuntimeWarning: invalid value encountered in true_divide\n",
      "  sil_samples = (B - A) / np.maximum(A, B)\n",
      "/home/AD/tsainbur/anaconda3/envs/scvis2/lib/python3.7/site-packages/ipykernel_launcher.py:31: ConvergenceWarning: Number of distinct clusters (1) found smaller than n_clusters (17). Possibly due to duplicate points in X.\n",
      "/mnt/cube/tsainbur/Projects/github_repos/umap_tf_networks/tfumap/silhouette.py:109: RuntimeWarning: invalid value encountered in true_divide\n",
      "  sil_samples = (B - A) / np.maximum(A, B)\n",
      "/home/AD/tsainbur/anaconda3/envs/scvis2/lib/python3.7/site-packages/ipykernel_launcher.py:31: ConvergenceWarning: Number of distinct clusters (1) found smaller than n_clusters (17). Possibly due to duplicate points in X.\n",
      "/mnt/cube/tsainbur/Projects/github_repos/umap_tf_networks/tfumap/silhouette.py:109: RuntimeWarning: invalid value encountered in true_divide\n",
      "  sil_samples = (B - A) / np.maximum(A, B)\n"
     ]
    },
    {
     "data": {
      "text/html": [
       "<div>\n",
       "<style scoped>\n",
       "    .dataframe tbody tr th:only-of-type {\n",
       "        vertical-align: middle;\n",
       "    }\n",
       "\n",
       "    .dataframe tbody tr th {\n",
       "        vertical-align: top;\n",
       "    }\n",
       "\n",
       "    .dataframe thead th {\n",
       "        text-align: right;\n",
       "    }\n",
       "</style>\n",
       "<table border=\"1\" class=\"dataframe\">\n",
       "  <thead>\n",
       "    <tr style=\"text-align: right;\">\n",
       "      <th></th>\n",
       "      <th>dataset</th>\n",
       "      <th>class_</th>\n",
       "      <th>dim</th>\n",
       "      <th>silhouette</th>\n",
       "      <th>homogeneity</th>\n",
       "      <th>completeness</th>\n",
       "      <th>v_measure</th>\n",
       "      <th>init_</th>\n",
       "      <th>n_clusters</th>\n",
       "      <th>model</th>\n",
       "    </tr>\n",
       "  </thead>\n",
       "  <tbody>\n",
       "    <tr>\n",
       "      <th>0</th>\n",
       "      <td>macosko2015</td>\n",
       "      <td>scvis</td>\n",
       "      <td>64</td>\n",
       "      <td>0.0</td>\n",
       "      <td>0.0</td>\n",
       "      <td>1.0</td>\n",
       "      <td>0.0</td>\n",
       "      <td>0</td>\n",
       "      <td>6</td>\n",
       "      <td>KMeans(n_clusters=6, random_state=0)</td>\n",
       "    </tr>\n",
       "    <tr>\n",
       "      <th>1</th>\n",
       "      <td>macosko2015</td>\n",
       "      <td>scvis</td>\n",
       "      <td>64</td>\n",
       "      <td>0.0</td>\n",
       "      <td>0.0</td>\n",
       "      <td>1.0</td>\n",
       "      <td>0.0</td>\n",
       "      <td>1</td>\n",
       "      <td>6</td>\n",
       "      <td>KMeans(n_clusters=6, random_state=1)</td>\n",
       "    </tr>\n",
       "    <tr>\n",
       "      <th>2</th>\n",
       "      <td>macosko2015</td>\n",
       "      <td>scvis</td>\n",
       "      <td>64</td>\n",
       "      <td>0.0</td>\n",
       "      <td>0.0</td>\n",
       "      <td>1.0</td>\n",
       "      <td>0.0</td>\n",
       "      <td>2</td>\n",
       "      <td>6</td>\n",
       "      <td>KMeans(n_clusters=6, random_state=2)</td>\n",
       "    </tr>\n",
       "    <tr>\n",
       "      <th>3</th>\n",
       "      <td>macosko2015</td>\n",
       "      <td>scvis</td>\n",
       "      <td>64</td>\n",
       "      <td>0.0</td>\n",
       "      <td>0.0</td>\n",
       "      <td>1.0</td>\n",
       "      <td>0.0</td>\n",
       "      <td>3</td>\n",
       "      <td>6</td>\n",
       "      <td>KMeans(n_clusters=6, random_state=3)</td>\n",
       "    </tr>\n",
       "    <tr>\n",
       "      <th>4</th>\n",
       "      <td>macosko2015</td>\n",
       "      <td>scvis</td>\n",
       "      <td>64</td>\n",
       "      <td>0.0</td>\n",
       "      <td>0.0</td>\n",
       "      <td>1.0</td>\n",
       "      <td>0.0</td>\n",
       "      <td>4</td>\n",
       "      <td>6</td>\n",
       "      <td>KMeans(n_clusters=6, random_state=4)</td>\n",
       "    </tr>\n",
       "    <tr>\n",
       "      <th>5</th>\n",
       "      <td>macosko2015</td>\n",
       "      <td>scvis</td>\n",
       "      <td>64</td>\n",
       "      <td>0.0</td>\n",
       "      <td>0.0</td>\n",
       "      <td>1.0</td>\n",
       "      <td>0.0</td>\n",
       "      <td>0</td>\n",
       "      <td>7</td>\n",
       "      <td>KMeans(n_clusters=7, random_state=0)</td>\n",
       "    </tr>\n",
       "    <tr>\n",
       "      <th>6</th>\n",
       "      <td>macosko2015</td>\n",
       "      <td>scvis</td>\n",
       "      <td>64</td>\n",
       "      <td>0.0</td>\n",
       "      <td>0.0</td>\n",
       "      <td>1.0</td>\n",
       "      <td>0.0</td>\n",
       "      <td>1</td>\n",
       "      <td>7</td>\n",
       "      <td>KMeans(n_clusters=7, random_state=1)</td>\n",
       "    </tr>\n",
       "    <tr>\n",
       "      <th>7</th>\n",
       "      <td>macosko2015</td>\n",
       "      <td>scvis</td>\n",
       "      <td>64</td>\n",
       "      <td>0.0</td>\n",
       "      <td>0.0</td>\n",
       "      <td>1.0</td>\n",
       "      <td>0.0</td>\n",
       "      <td>2</td>\n",
       "      <td>7</td>\n",
       "      <td>KMeans(n_clusters=7, random_state=2)</td>\n",
       "    </tr>\n",
       "    <tr>\n",
       "      <th>8</th>\n",
       "      <td>macosko2015</td>\n",
       "      <td>scvis</td>\n",
       "      <td>64</td>\n",
       "      <td>0.0</td>\n",
       "      <td>0.0</td>\n",
       "      <td>1.0</td>\n",
       "      <td>0.0</td>\n",
       "      <td>3</td>\n",
       "      <td>7</td>\n",
       "      <td>KMeans(n_clusters=7, random_state=3)</td>\n",
       "    </tr>\n",
       "    <tr>\n",
       "      <th>9</th>\n",
       "      <td>macosko2015</td>\n",
       "      <td>scvis</td>\n",
       "      <td>64</td>\n",
       "      <td>0.0</td>\n",
       "      <td>0.0</td>\n",
       "      <td>1.0</td>\n",
       "      <td>0.0</td>\n",
       "      <td>4</td>\n",
       "      <td>7</td>\n",
       "      <td>KMeans(n_clusters=7, random_state=4)</td>\n",
       "    </tr>\n",
       "    <tr>\n",
       "      <th>10</th>\n",
       "      <td>macosko2015</td>\n",
       "      <td>scvis</td>\n",
       "      <td>64</td>\n",
       "      <td>0.0</td>\n",
       "      <td>0.0</td>\n",
       "      <td>1.0</td>\n",
       "      <td>0.0</td>\n",
       "      <td>0</td>\n",
       "      <td>8</td>\n",
       "      <td>KMeans(random_state=0)</td>\n",
       "    </tr>\n",
       "    <tr>\n",
       "      <th>11</th>\n",
       "      <td>macosko2015</td>\n",
       "      <td>scvis</td>\n",
       "      <td>64</td>\n",
       "      <td>0.0</td>\n",
       "      <td>0.0</td>\n",
       "      <td>1.0</td>\n",
       "      <td>0.0</td>\n",
       "      <td>1</td>\n",
       "      <td>8</td>\n",
       "      <td>KMeans(random_state=1)</td>\n",
       "    </tr>\n",
       "    <tr>\n",
       "      <th>12</th>\n",
       "      <td>macosko2015</td>\n",
       "      <td>scvis</td>\n",
       "      <td>64</td>\n",
       "      <td>0.0</td>\n",
       "      <td>0.0</td>\n",
       "      <td>1.0</td>\n",
       "      <td>0.0</td>\n",
       "      <td>2</td>\n",
       "      <td>8</td>\n",
       "      <td>KMeans(random_state=2)</td>\n",
       "    </tr>\n",
       "    <tr>\n",
       "      <th>13</th>\n",
       "      <td>macosko2015</td>\n",
       "      <td>scvis</td>\n",
       "      <td>64</td>\n",
       "      <td>0.0</td>\n",
       "      <td>0.0</td>\n",
       "      <td>1.0</td>\n",
       "      <td>0.0</td>\n",
       "      <td>3</td>\n",
       "      <td>8</td>\n",
       "      <td>KMeans(random_state=3)</td>\n",
       "    </tr>\n",
       "    <tr>\n",
       "      <th>14</th>\n",
       "      <td>macosko2015</td>\n",
       "      <td>scvis</td>\n",
       "      <td>64</td>\n",
       "      <td>0.0</td>\n",
       "      <td>0.0</td>\n",
       "      <td>1.0</td>\n",
       "      <td>0.0</td>\n",
       "      <td>4</td>\n",
       "      <td>8</td>\n",
       "      <td>KMeans(random_state=4)</td>\n",
       "    </tr>\n",
       "    <tr>\n",
       "      <th>15</th>\n",
       "      <td>macosko2015</td>\n",
       "      <td>scvis</td>\n",
       "      <td>64</td>\n",
       "      <td>0.0</td>\n",
       "      <td>0.0</td>\n",
       "      <td>1.0</td>\n",
       "      <td>0.0</td>\n",
       "      <td>0</td>\n",
       "      <td>9</td>\n",
       "      <td>KMeans(n_clusters=9, random_state=0)</td>\n",
       "    </tr>\n",
       "    <tr>\n",
       "      <th>16</th>\n",
       "      <td>macosko2015</td>\n",
       "      <td>scvis</td>\n",
       "      <td>64</td>\n",
       "      <td>0.0</td>\n",
       "      <td>0.0</td>\n",
       "      <td>1.0</td>\n",
       "      <td>0.0</td>\n",
       "      <td>1</td>\n",
       "      <td>9</td>\n",
       "      <td>KMeans(n_clusters=9, random_state=1)</td>\n",
       "    </tr>\n",
       "    <tr>\n",
       "      <th>17</th>\n",
       "      <td>macosko2015</td>\n",
       "      <td>scvis</td>\n",
       "      <td>64</td>\n",
       "      <td>0.0</td>\n",
       "      <td>0.0</td>\n",
       "      <td>1.0</td>\n",
       "      <td>0.0</td>\n",
       "      <td>2</td>\n",
       "      <td>9</td>\n",
       "      <td>KMeans(n_clusters=9, random_state=2)</td>\n",
       "    </tr>\n",
       "    <tr>\n",
       "      <th>18</th>\n",
       "      <td>macosko2015</td>\n",
       "      <td>scvis</td>\n",
       "      <td>64</td>\n",
       "      <td>0.0</td>\n",
       "      <td>0.0</td>\n",
       "      <td>1.0</td>\n",
       "      <td>0.0</td>\n",
       "      <td>3</td>\n",
       "      <td>9</td>\n",
       "      <td>KMeans(n_clusters=9, random_state=3)</td>\n",
       "    </tr>\n",
       "    <tr>\n",
       "      <th>19</th>\n",
       "      <td>macosko2015</td>\n",
       "      <td>scvis</td>\n",
       "      <td>64</td>\n",
       "      <td>0.0</td>\n",
       "      <td>0.0</td>\n",
       "      <td>1.0</td>\n",
       "      <td>0.0</td>\n",
       "      <td>4</td>\n",
       "      <td>9</td>\n",
       "      <td>KMeans(n_clusters=9, random_state=4)</td>\n",
       "    </tr>\n",
       "    <tr>\n",
       "      <th>20</th>\n",
       "      <td>macosko2015</td>\n",
       "      <td>scvis</td>\n",
       "      <td>64</td>\n",
       "      <td>0.0</td>\n",
       "      <td>0.0</td>\n",
       "      <td>1.0</td>\n",
       "      <td>0.0</td>\n",
       "      <td>0</td>\n",
       "      <td>10</td>\n",
       "      <td>KMeans(n_clusters=10, random_state=0)</td>\n",
       "    </tr>\n",
       "    <tr>\n",
       "      <th>21</th>\n",
       "      <td>macosko2015</td>\n",
       "      <td>scvis</td>\n",
       "      <td>64</td>\n",
       "      <td>0.0</td>\n",
       "      <td>0.0</td>\n",
       "      <td>1.0</td>\n",
       "      <td>0.0</td>\n",
       "      <td>1</td>\n",
       "      <td>10</td>\n",
       "      <td>KMeans(n_clusters=10, random_state=1)</td>\n",
       "    </tr>\n",
       "    <tr>\n",
       "      <th>22</th>\n",
       "      <td>macosko2015</td>\n",
       "      <td>scvis</td>\n",
       "      <td>64</td>\n",
       "      <td>0.0</td>\n",
       "      <td>0.0</td>\n",
       "      <td>1.0</td>\n",
       "      <td>0.0</td>\n",
       "      <td>2</td>\n",
       "      <td>10</td>\n",
       "      <td>KMeans(n_clusters=10, random_state=2)</td>\n",
       "    </tr>\n",
       "    <tr>\n",
       "      <th>23</th>\n",
       "      <td>macosko2015</td>\n",
       "      <td>scvis</td>\n",
       "      <td>64</td>\n",
       "      <td>0.0</td>\n",
       "      <td>0.0</td>\n",
       "      <td>1.0</td>\n",
       "      <td>0.0</td>\n",
       "      <td>3</td>\n",
       "      <td>10</td>\n",
       "      <td>KMeans(n_clusters=10, random_state=3)</td>\n",
       "    </tr>\n",
       "    <tr>\n",
       "      <th>24</th>\n",
       "      <td>macosko2015</td>\n",
       "      <td>scvis</td>\n",
       "      <td>64</td>\n",
       "      <td>0.0</td>\n",
       "      <td>0.0</td>\n",
       "      <td>1.0</td>\n",
       "      <td>0.0</td>\n",
       "      <td>4</td>\n",
       "      <td>10</td>\n",
       "      <td>KMeans(n_clusters=10, random_state=4)</td>\n",
       "    </tr>\n",
       "    <tr>\n",
       "      <th>25</th>\n",
       "      <td>macosko2015</td>\n",
       "      <td>scvis</td>\n",
       "      <td>64</td>\n",
       "      <td>0.0</td>\n",
       "      <td>0.0</td>\n",
       "      <td>1.0</td>\n",
       "      <td>0.0</td>\n",
       "      <td>0</td>\n",
       "      <td>11</td>\n",
       "      <td>KMeans(n_clusters=11, random_state=0)</td>\n",
       "    </tr>\n",
       "    <tr>\n",
       "      <th>26</th>\n",
       "      <td>macosko2015</td>\n",
       "      <td>scvis</td>\n",
       "      <td>64</td>\n",
       "      <td>0.0</td>\n",
       "      <td>0.0</td>\n",
       "      <td>1.0</td>\n",
       "      <td>0.0</td>\n",
       "      <td>1</td>\n",
       "      <td>11</td>\n",
       "      <td>KMeans(n_clusters=11, random_state=1)</td>\n",
       "    </tr>\n",
       "    <tr>\n",
       "      <th>27</th>\n",
       "      <td>macosko2015</td>\n",
       "      <td>scvis</td>\n",
       "      <td>64</td>\n",
       "      <td>0.0</td>\n",
       "      <td>0.0</td>\n",
       "      <td>1.0</td>\n",
       "      <td>0.0</td>\n",
       "      <td>2</td>\n",
       "      <td>11</td>\n",
       "      <td>KMeans(n_clusters=11, random_state=2)</td>\n",
       "    </tr>\n",
       "    <tr>\n",
       "      <th>28</th>\n",
       "      <td>macosko2015</td>\n",
       "      <td>scvis</td>\n",
       "      <td>64</td>\n",
       "      <td>0.0</td>\n",
       "      <td>0.0</td>\n",
       "      <td>1.0</td>\n",
       "      <td>0.0</td>\n",
       "      <td>3</td>\n",
       "      <td>11</td>\n",
       "      <td>KMeans(n_clusters=11, random_state=3)</td>\n",
       "    </tr>\n",
       "    <tr>\n",
       "      <th>29</th>\n",
       "      <td>macosko2015</td>\n",
       "      <td>scvis</td>\n",
       "      <td>64</td>\n",
       "      <td>0.0</td>\n",
       "      <td>0.0</td>\n",
       "      <td>1.0</td>\n",
       "      <td>0.0</td>\n",
       "      <td>4</td>\n",
       "      <td>11</td>\n",
       "      <td>KMeans(n_clusters=11, random_state=4)</td>\n",
       "    </tr>\n",
       "    <tr>\n",
       "      <th>30</th>\n",
       "      <td>macosko2015</td>\n",
       "      <td>scvis</td>\n",
       "      <td>64</td>\n",
       "      <td>0.0</td>\n",
       "      <td>0.0</td>\n",
       "      <td>1.0</td>\n",
       "      <td>0.0</td>\n",
       "      <td>0</td>\n",
       "      <td>12</td>\n",
       "      <td>KMeans(n_clusters=12, random_state=0)</td>\n",
       "    </tr>\n",
       "    <tr>\n",
       "      <th>31</th>\n",
       "      <td>macosko2015</td>\n",
       "      <td>scvis</td>\n",
       "      <td>64</td>\n",
       "      <td>0.0</td>\n",
       "      <td>0.0</td>\n",
       "      <td>1.0</td>\n",
       "      <td>0.0</td>\n",
       "      <td>1</td>\n",
       "      <td>12</td>\n",
       "      <td>KMeans(n_clusters=12, random_state=1)</td>\n",
       "    </tr>\n",
       "    <tr>\n",
       "      <th>32</th>\n",
       "      <td>macosko2015</td>\n",
       "      <td>scvis</td>\n",
       "      <td>64</td>\n",
       "      <td>0.0</td>\n",
       "      <td>0.0</td>\n",
       "      <td>1.0</td>\n",
       "      <td>0.0</td>\n",
       "      <td>2</td>\n",
       "      <td>12</td>\n",
       "      <td>KMeans(n_clusters=12, random_state=2)</td>\n",
       "    </tr>\n",
       "    <tr>\n",
       "      <th>33</th>\n",
       "      <td>macosko2015</td>\n",
       "      <td>scvis</td>\n",
       "      <td>64</td>\n",
       "      <td>0.0</td>\n",
       "      <td>0.0</td>\n",
       "      <td>1.0</td>\n",
       "      <td>0.0</td>\n",
       "      <td>3</td>\n",
       "      <td>12</td>\n",
       "      <td>KMeans(n_clusters=12, random_state=3)</td>\n",
       "    </tr>\n",
       "    <tr>\n",
       "      <th>34</th>\n",
       "      <td>macosko2015</td>\n",
       "      <td>scvis</td>\n",
       "      <td>64</td>\n",
       "      <td>0.0</td>\n",
       "      <td>0.0</td>\n",
       "      <td>1.0</td>\n",
       "      <td>0.0</td>\n",
       "      <td>4</td>\n",
       "      <td>12</td>\n",
       "      <td>KMeans(n_clusters=12, random_state=4)</td>\n",
       "    </tr>\n",
       "    <tr>\n",
       "      <th>35</th>\n",
       "      <td>macosko2015</td>\n",
       "      <td>scvis</td>\n",
       "      <td>64</td>\n",
       "      <td>0.0</td>\n",
       "      <td>0.0</td>\n",
       "      <td>1.0</td>\n",
       "      <td>0.0</td>\n",
       "      <td>0</td>\n",
       "      <td>13</td>\n",
       "      <td>KMeans(n_clusters=13, random_state=0)</td>\n",
       "    </tr>\n",
       "    <tr>\n",
       "      <th>36</th>\n",
       "      <td>macosko2015</td>\n",
       "      <td>scvis</td>\n",
       "      <td>64</td>\n",
       "      <td>0.0</td>\n",
       "      <td>0.0</td>\n",
       "      <td>1.0</td>\n",
       "      <td>0.0</td>\n",
       "      <td>1</td>\n",
       "      <td>13</td>\n",
       "      <td>KMeans(n_clusters=13, random_state=1)</td>\n",
       "    </tr>\n",
       "    <tr>\n",
       "      <th>37</th>\n",
       "      <td>macosko2015</td>\n",
       "      <td>scvis</td>\n",
       "      <td>64</td>\n",
       "      <td>0.0</td>\n",
       "      <td>0.0</td>\n",
       "      <td>1.0</td>\n",
       "      <td>0.0</td>\n",
       "      <td>2</td>\n",
       "      <td>13</td>\n",
       "      <td>KMeans(n_clusters=13, random_state=2)</td>\n",
       "    </tr>\n",
       "    <tr>\n",
       "      <th>38</th>\n",
       "      <td>macosko2015</td>\n",
       "      <td>scvis</td>\n",
       "      <td>64</td>\n",
       "      <td>0.0</td>\n",
       "      <td>0.0</td>\n",
       "      <td>1.0</td>\n",
       "      <td>0.0</td>\n",
       "      <td>3</td>\n",
       "      <td>13</td>\n",
       "      <td>KMeans(n_clusters=13, random_state=3)</td>\n",
       "    </tr>\n",
       "    <tr>\n",
       "      <th>39</th>\n",
       "      <td>macosko2015</td>\n",
       "      <td>scvis</td>\n",
       "      <td>64</td>\n",
       "      <td>0.0</td>\n",
       "      <td>0.0</td>\n",
       "      <td>1.0</td>\n",
       "      <td>0.0</td>\n",
       "      <td>4</td>\n",
       "      <td>13</td>\n",
       "      <td>KMeans(n_clusters=13, random_state=4)</td>\n",
       "    </tr>\n",
       "    <tr>\n",
       "      <th>40</th>\n",
       "      <td>macosko2015</td>\n",
       "      <td>scvis</td>\n",
       "      <td>64</td>\n",
       "      <td>0.0</td>\n",
       "      <td>0.0</td>\n",
       "      <td>1.0</td>\n",
       "      <td>0.0</td>\n",
       "      <td>0</td>\n",
       "      <td>14</td>\n",
       "      <td>KMeans(n_clusters=14, random_state=0)</td>\n",
       "    </tr>\n",
       "    <tr>\n",
       "      <th>41</th>\n",
       "      <td>macosko2015</td>\n",
       "      <td>scvis</td>\n",
       "      <td>64</td>\n",
       "      <td>0.0</td>\n",
       "      <td>0.0</td>\n",
       "      <td>1.0</td>\n",
       "      <td>0.0</td>\n",
       "      <td>1</td>\n",
       "      <td>14</td>\n",
       "      <td>KMeans(n_clusters=14, random_state=1)</td>\n",
       "    </tr>\n",
       "    <tr>\n",
       "      <th>42</th>\n",
       "      <td>macosko2015</td>\n",
       "      <td>scvis</td>\n",
       "      <td>64</td>\n",
       "      <td>0.0</td>\n",
       "      <td>0.0</td>\n",
       "      <td>1.0</td>\n",
       "      <td>0.0</td>\n",
       "      <td>2</td>\n",
       "      <td>14</td>\n",
       "      <td>KMeans(n_clusters=14, random_state=2)</td>\n",
       "    </tr>\n",
       "    <tr>\n",
       "      <th>43</th>\n",
       "      <td>macosko2015</td>\n",
       "      <td>scvis</td>\n",
       "      <td>64</td>\n",
       "      <td>0.0</td>\n",
       "      <td>0.0</td>\n",
       "      <td>1.0</td>\n",
       "      <td>0.0</td>\n",
       "      <td>3</td>\n",
       "      <td>14</td>\n",
       "      <td>KMeans(n_clusters=14, random_state=3)</td>\n",
       "    </tr>\n",
       "    <tr>\n",
       "      <th>44</th>\n",
       "      <td>macosko2015</td>\n",
       "      <td>scvis</td>\n",
       "      <td>64</td>\n",
       "      <td>0.0</td>\n",
       "      <td>0.0</td>\n",
       "      <td>1.0</td>\n",
       "      <td>0.0</td>\n",
       "      <td>4</td>\n",
       "      <td>14</td>\n",
       "      <td>KMeans(n_clusters=14, random_state=4)</td>\n",
       "    </tr>\n",
       "    <tr>\n",
       "      <th>45</th>\n",
       "      <td>macosko2015</td>\n",
       "      <td>scvis</td>\n",
       "      <td>64</td>\n",
       "      <td>0.0</td>\n",
       "      <td>0.0</td>\n",
       "      <td>1.0</td>\n",
       "      <td>0.0</td>\n",
       "      <td>0</td>\n",
       "      <td>15</td>\n",
       "      <td>KMeans(n_clusters=15, random_state=0)</td>\n",
       "    </tr>\n",
       "    <tr>\n",
       "      <th>46</th>\n",
       "      <td>macosko2015</td>\n",
       "      <td>scvis</td>\n",
       "      <td>64</td>\n",
       "      <td>0.0</td>\n",
       "      <td>0.0</td>\n",
       "      <td>1.0</td>\n",
       "      <td>0.0</td>\n",
       "      <td>1</td>\n",
       "      <td>15</td>\n",
       "      <td>KMeans(n_clusters=15, random_state=1)</td>\n",
       "    </tr>\n",
       "    <tr>\n",
       "      <th>47</th>\n",
       "      <td>macosko2015</td>\n",
       "      <td>scvis</td>\n",
       "      <td>64</td>\n",
       "      <td>0.0</td>\n",
       "      <td>0.0</td>\n",
       "      <td>1.0</td>\n",
       "      <td>0.0</td>\n",
       "      <td>2</td>\n",
       "      <td>15</td>\n",
       "      <td>KMeans(n_clusters=15, random_state=2)</td>\n",
       "    </tr>\n",
       "    <tr>\n",
       "      <th>48</th>\n",
       "      <td>macosko2015</td>\n",
       "      <td>scvis</td>\n",
       "      <td>64</td>\n",
       "      <td>0.0</td>\n",
       "      <td>0.0</td>\n",
       "      <td>1.0</td>\n",
       "      <td>0.0</td>\n",
       "      <td>3</td>\n",
       "      <td>15</td>\n",
       "      <td>KMeans(n_clusters=15, random_state=3)</td>\n",
       "    </tr>\n",
       "    <tr>\n",
       "      <th>49</th>\n",
       "      <td>macosko2015</td>\n",
       "      <td>scvis</td>\n",
       "      <td>64</td>\n",
       "      <td>0.0</td>\n",
       "      <td>0.0</td>\n",
       "      <td>1.0</td>\n",
       "      <td>0.0</td>\n",
       "      <td>4</td>\n",
       "      <td>15</td>\n",
       "      <td>KMeans(n_clusters=15, random_state=4)</td>\n",
       "    </tr>\n",
       "    <tr>\n",
       "      <th>50</th>\n",
       "      <td>macosko2015</td>\n",
       "      <td>scvis</td>\n",
       "      <td>64</td>\n",
       "      <td>0.0</td>\n",
       "      <td>0.0</td>\n",
       "      <td>1.0</td>\n",
       "      <td>0.0</td>\n",
       "      <td>0</td>\n",
       "      <td>16</td>\n",
       "      <td>KMeans(n_clusters=16, random_state=0)</td>\n",
       "    </tr>\n",
       "    <tr>\n",
       "      <th>51</th>\n",
       "      <td>macosko2015</td>\n",
       "      <td>scvis</td>\n",
       "      <td>64</td>\n",
       "      <td>0.0</td>\n",
       "      <td>0.0</td>\n",
       "      <td>1.0</td>\n",
       "      <td>0.0</td>\n",
       "      <td>1</td>\n",
       "      <td>16</td>\n",
       "      <td>KMeans(n_clusters=16, random_state=1)</td>\n",
       "    </tr>\n",
       "    <tr>\n",
       "      <th>52</th>\n",
       "      <td>macosko2015</td>\n",
       "      <td>scvis</td>\n",
       "      <td>64</td>\n",
       "      <td>0.0</td>\n",
       "      <td>0.0</td>\n",
       "      <td>1.0</td>\n",
       "      <td>0.0</td>\n",
       "      <td>2</td>\n",
       "      <td>16</td>\n",
       "      <td>KMeans(n_clusters=16, random_state=2)</td>\n",
       "    </tr>\n",
       "    <tr>\n",
       "      <th>53</th>\n",
       "      <td>macosko2015</td>\n",
       "      <td>scvis</td>\n",
       "      <td>64</td>\n",
       "      <td>0.0</td>\n",
       "      <td>0.0</td>\n",
       "      <td>1.0</td>\n",
       "      <td>0.0</td>\n",
       "      <td>3</td>\n",
       "      <td>16</td>\n",
       "      <td>KMeans(n_clusters=16, random_state=3)</td>\n",
       "    </tr>\n",
       "    <tr>\n",
       "      <th>54</th>\n",
       "      <td>macosko2015</td>\n",
       "      <td>scvis</td>\n",
       "      <td>64</td>\n",
       "      <td>0.0</td>\n",
       "      <td>0.0</td>\n",
       "      <td>1.0</td>\n",
       "      <td>0.0</td>\n",
       "      <td>4</td>\n",
       "      <td>16</td>\n",
       "      <td>KMeans(n_clusters=16, random_state=4)</td>\n",
       "    </tr>\n",
       "    <tr>\n",
       "      <th>55</th>\n",
       "      <td>macosko2015</td>\n",
       "      <td>scvis</td>\n",
       "      <td>64</td>\n",
       "      <td>0.0</td>\n",
       "      <td>0.0</td>\n",
       "      <td>1.0</td>\n",
       "      <td>0.0</td>\n",
       "      <td>0</td>\n",
       "      <td>17</td>\n",
       "      <td>KMeans(n_clusters=17, random_state=0)</td>\n",
       "    </tr>\n",
       "    <tr>\n",
       "      <th>56</th>\n",
       "      <td>macosko2015</td>\n",
       "      <td>scvis</td>\n",
       "      <td>64</td>\n",
       "      <td>0.0</td>\n",
       "      <td>0.0</td>\n",
       "      <td>1.0</td>\n",
       "      <td>0.0</td>\n",
       "      <td>1</td>\n",
       "      <td>17</td>\n",
       "      <td>KMeans(n_clusters=17, random_state=1)</td>\n",
       "    </tr>\n",
       "    <tr>\n",
       "      <th>57</th>\n",
       "      <td>macosko2015</td>\n",
       "      <td>scvis</td>\n",
       "      <td>64</td>\n",
       "      <td>0.0</td>\n",
       "      <td>0.0</td>\n",
       "      <td>1.0</td>\n",
       "      <td>0.0</td>\n",
       "      <td>2</td>\n",
       "      <td>17</td>\n",
       "      <td>KMeans(n_clusters=17, random_state=2)</td>\n",
       "    </tr>\n",
       "    <tr>\n",
       "      <th>58</th>\n",
       "      <td>macosko2015</td>\n",
       "      <td>scvis</td>\n",
       "      <td>64</td>\n",
       "      <td>0.0</td>\n",
       "      <td>0.0</td>\n",
       "      <td>1.0</td>\n",
       "      <td>0.0</td>\n",
       "      <td>3</td>\n",
       "      <td>17</td>\n",
       "      <td>KMeans(n_clusters=17, random_state=3)</td>\n",
       "    </tr>\n",
       "    <tr>\n",
       "      <th>59</th>\n",
       "      <td>macosko2015</td>\n",
       "      <td>scvis</td>\n",
       "      <td>64</td>\n",
       "      <td>0.0</td>\n",
       "      <td>0.0</td>\n",
       "      <td>1.0</td>\n",
       "      <td>0.0</td>\n",
       "      <td>4</td>\n",
       "      <td>17</td>\n",
       "      <td>KMeans(n_clusters=17, random_state=4)</td>\n",
       "    </tr>\n",
       "  </tbody>\n",
       "</table>\n",
       "</div>"
      ],
      "text/plain": [
       "        dataset class_ dim  silhouette  homogeneity  completeness  v_measure  \\\n",
       "0   macosko2015  scvis  64         0.0          0.0           1.0        0.0   \n",
       "1   macosko2015  scvis  64         0.0          0.0           1.0        0.0   \n",
       "2   macosko2015  scvis  64         0.0          0.0           1.0        0.0   \n",
       "3   macosko2015  scvis  64         0.0          0.0           1.0        0.0   \n",
       "4   macosko2015  scvis  64         0.0          0.0           1.0        0.0   \n",
       "5   macosko2015  scvis  64         0.0          0.0           1.0        0.0   \n",
       "6   macosko2015  scvis  64         0.0          0.0           1.0        0.0   \n",
       "7   macosko2015  scvis  64         0.0          0.0           1.0        0.0   \n",
       "8   macosko2015  scvis  64         0.0          0.0           1.0        0.0   \n",
       "9   macosko2015  scvis  64         0.0          0.0           1.0        0.0   \n",
       "10  macosko2015  scvis  64         0.0          0.0           1.0        0.0   \n",
       "11  macosko2015  scvis  64         0.0          0.0           1.0        0.0   \n",
       "12  macosko2015  scvis  64         0.0          0.0           1.0        0.0   \n",
       "13  macosko2015  scvis  64         0.0          0.0           1.0        0.0   \n",
       "14  macosko2015  scvis  64         0.0          0.0           1.0        0.0   \n",
       "15  macosko2015  scvis  64         0.0          0.0           1.0        0.0   \n",
       "16  macosko2015  scvis  64         0.0          0.0           1.0        0.0   \n",
       "17  macosko2015  scvis  64         0.0          0.0           1.0        0.0   \n",
       "18  macosko2015  scvis  64         0.0          0.0           1.0        0.0   \n",
       "19  macosko2015  scvis  64         0.0          0.0           1.0        0.0   \n",
       "20  macosko2015  scvis  64         0.0          0.0           1.0        0.0   \n",
       "21  macosko2015  scvis  64         0.0          0.0           1.0        0.0   \n",
       "22  macosko2015  scvis  64         0.0          0.0           1.0        0.0   \n",
       "23  macosko2015  scvis  64         0.0          0.0           1.0        0.0   \n",
       "24  macosko2015  scvis  64         0.0          0.0           1.0        0.0   \n",
       "25  macosko2015  scvis  64         0.0          0.0           1.0        0.0   \n",
       "26  macosko2015  scvis  64         0.0          0.0           1.0        0.0   \n",
       "27  macosko2015  scvis  64         0.0          0.0           1.0        0.0   \n",
       "28  macosko2015  scvis  64         0.0          0.0           1.0        0.0   \n",
       "29  macosko2015  scvis  64         0.0          0.0           1.0        0.0   \n",
       "30  macosko2015  scvis  64         0.0          0.0           1.0        0.0   \n",
       "31  macosko2015  scvis  64         0.0          0.0           1.0        0.0   \n",
       "32  macosko2015  scvis  64         0.0          0.0           1.0        0.0   \n",
       "33  macosko2015  scvis  64         0.0          0.0           1.0        0.0   \n",
       "34  macosko2015  scvis  64         0.0          0.0           1.0        0.0   \n",
       "35  macosko2015  scvis  64         0.0          0.0           1.0        0.0   \n",
       "36  macosko2015  scvis  64         0.0          0.0           1.0        0.0   \n",
       "37  macosko2015  scvis  64         0.0          0.0           1.0        0.0   \n",
       "38  macosko2015  scvis  64         0.0          0.0           1.0        0.0   \n",
       "39  macosko2015  scvis  64         0.0          0.0           1.0        0.0   \n",
       "40  macosko2015  scvis  64         0.0          0.0           1.0        0.0   \n",
       "41  macosko2015  scvis  64         0.0          0.0           1.0        0.0   \n",
       "42  macosko2015  scvis  64         0.0          0.0           1.0        0.0   \n",
       "43  macosko2015  scvis  64         0.0          0.0           1.0        0.0   \n",
       "44  macosko2015  scvis  64         0.0          0.0           1.0        0.0   \n",
       "45  macosko2015  scvis  64         0.0          0.0           1.0        0.0   \n",
       "46  macosko2015  scvis  64         0.0          0.0           1.0        0.0   \n",
       "47  macosko2015  scvis  64         0.0          0.0           1.0        0.0   \n",
       "48  macosko2015  scvis  64         0.0          0.0           1.0        0.0   \n",
       "49  macosko2015  scvis  64         0.0          0.0           1.0        0.0   \n",
       "50  macosko2015  scvis  64         0.0          0.0           1.0        0.0   \n",
       "51  macosko2015  scvis  64         0.0          0.0           1.0        0.0   \n",
       "52  macosko2015  scvis  64         0.0          0.0           1.0        0.0   \n",
       "53  macosko2015  scvis  64         0.0          0.0           1.0        0.0   \n",
       "54  macosko2015  scvis  64         0.0          0.0           1.0        0.0   \n",
       "55  macosko2015  scvis  64         0.0          0.0           1.0        0.0   \n",
       "56  macosko2015  scvis  64         0.0          0.0           1.0        0.0   \n",
       "57  macosko2015  scvis  64         0.0          0.0           1.0        0.0   \n",
       "58  macosko2015  scvis  64         0.0          0.0           1.0        0.0   \n",
       "59  macosko2015  scvis  64         0.0          0.0           1.0        0.0   \n",
       "\n",
       "   init_ n_clusters                                  model  \n",
       "0      0          6   KMeans(n_clusters=6, random_state=0)  \n",
       "1      1          6   KMeans(n_clusters=6, random_state=1)  \n",
       "2      2          6   KMeans(n_clusters=6, random_state=2)  \n",
       "3      3          6   KMeans(n_clusters=6, random_state=3)  \n",
       "4      4          6   KMeans(n_clusters=6, random_state=4)  \n",
       "5      0          7   KMeans(n_clusters=7, random_state=0)  \n",
       "6      1          7   KMeans(n_clusters=7, random_state=1)  \n",
       "7      2          7   KMeans(n_clusters=7, random_state=2)  \n",
       "8      3          7   KMeans(n_clusters=7, random_state=3)  \n",
       "9      4          7   KMeans(n_clusters=7, random_state=4)  \n",
       "10     0          8                 KMeans(random_state=0)  \n",
       "11     1          8                 KMeans(random_state=1)  \n",
       "12     2          8                 KMeans(random_state=2)  \n",
       "13     3          8                 KMeans(random_state=3)  \n",
       "14     4          8                 KMeans(random_state=4)  \n",
       "15     0          9   KMeans(n_clusters=9, random_state=0)  \n",
       "16     1          9   KMeans(n_clusters=9, random_state=1)  \n",
       "17     2          9   KMeans(n_clusters=9, random_state=2)  \n",
       "18     3          9   KMeans(n_clusters=9, random_state=3)  \n",
       "19     4          9   KMeans(n_clusters=9, random_state=4)  \n",
       "20     0         10  KMeans(n_clusters=10, random_state=0)  \n",
       "21     1         10  KMeans(n_clusters=10, random_state=1)  \n",
       "22     2         10  KMeans(n_clusters=10, random_state=2)  \n",
       "23     3         10  KMeans(n_clusters=10, random_state=3)  \n",
       "24     4         10  KMeans(n_clusters=10, random_state=4)  \n",
       "25     0         11  KMeans(n_clusters=11, random_state=0)  \n",
       "26     1         11  KMeans(n_clusters=11, random_state=1)  \n",
       "27     2         11  KMeans(n_clusters=11, random_state=2)  \n",
       "28     3         11  KMeans(n_clusters=11, random_state=3)  \n",
       "29     4         11  KMeans(n_clusters=11, random_state=4)  \n",
       "30     0         12  KMeans(n_clusters=12, random_state=0)  \n",
       "31     1         12  KMeans(n_clusters=12, random_state=1)  \n",
       "32     2         12  KMeans(n_clusters=12, random_state=2)  \n",
       "33     3         12  KMeans(n_clusters=12, random_state=3)  \n",
       "34     4         12  KMeans(n_clusters=12, random_state=4)  \n",
       "35     0         13  KMeans(n_clusters=13, random_state=0)  \n",
       "36     1         13  KMeans(n_clusters=13, random_state=1)  \n",
       "37     2         13  KMeans(n_clusters=13, random_state=2)  \n",
       "38     3         13  KMeans(n_clusters=13, random_state=3)  \n",
       "39     4         13  KMeans(n_clusters=13, random_state=4)  \n",
       "40     0         14  KMeans(n_clusters=14, random_state=0)  \n",
       "41     1         14  KMeans(n_clusters=14, random_state=1)  \n",
       "42     2         14  KMeans(n_clusters=14, random_state=2)  \n",
       "43     3         14  KMeans(n_clusters=14, random_state=3)  \n",
       "44     4         14  KMeans(n_clusters=14, random_state=4)  \n",
       "45     0         15  KMeans(n_clusters=15, random_state=0)  \n",
       "46     1         15  KMeans(n_clusters=15, random_state=1)  \n",
       "47     2         15  KMeans(n_clusters=15, random_state=2)  \n",
       "48     3         15  KMeans(n_clusters=15, random_state=3)  \n",
       "49     4         15  KMeans(n_clusters=15, random_state=4)  \n",
       "50     0         16  KMeans(n_clusters=16, random_state=0)  \n",
       "51     1         16  KMeans(n_clusters=16, random_state=1)  \n",
       "52     2         16  KMeans(n_clusters=16, random_state=2)  \n",
       "53     3         16  KMeans(n_clusters=16, random_state=3)  \n",
       "54     4         16  KMeans(n_clusters=16, random_state=4)  \n",
       "55     0         17  KMeans(n_clusters=17, random_state=0)  \n",
       "56     1         17  KMeans(n_clusters=17, random_state=1)  \n",
       "57     2         17  KMeans(n_clusters=17, random_state=2)  \n",
       "58     3         17  KMeans(n_clusters=17, random_state=3)  \n",
       "59     4         17  KMeans(n_clusters=17, random_state=4)  "
      ]
     },
     "execution_count": 57,
     "metadata": {},
     "output_type": "execute_result"
    }
   ],
   "source": [
    "get_cluster_metrics(projection_df.iloc[0], n_init=5)"
   ]
  },
  {
   "cell_type": "code",
   "execution_count": null,
   "metadata": {},
   "outputs": [],
   "source": []
  },
  {
   "cell_type": "code",
   "execution_count": null,
   "metadata": {},
   "outputs": [],
   "source": []
  },
  {
   "cell_type": "code",
   "execution_count": null,
   "metadata": {},
   "outputs": [],
   "source": []
  },
  {
   "cell_type": "code",
   "execution_count": null,
   "metadata": {},
   "outputs": [],
   "source": []
  }
 ],
 "metadata": {
  "kernelspec": {
   "display_name": "Python [conda env:scvis2]",
   "language": "python",
   "name": "conda-env-scvis2-py"
  },
  "language_info": {
   "codemirror_mode": {
    "name": "ipython",
    "version": 3
   },
   "file_extension": ".py",
   "mimetype": "text/x-python",
   "name": "python",
   "nbconvert_exporter": "python",
   "pygments_lexer": "ipython3",
   "version": "3.7.9"
  }
 },
 "nbformat": 4,
 "nbformat_minor": 4
}
