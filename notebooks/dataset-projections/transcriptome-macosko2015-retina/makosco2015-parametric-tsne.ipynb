{
 "cells": [
  {
   "cell_type": "code",
   "execution_count": 20,
   "metadata": {
    "ExecuteTime": {
     "end_time": "2020-07-20T21:29:20.739581Z",
     "start_time": "2020-07-20T21:29:20.696168Z"
    }
   },
   "outputs": [
    {
     "name": "stdout",
     "output_type": "stream",
     "text": [
      "The autoreload extension is already loaded. To reload it, use:\n",
      "  %reload_ext autoreload\n"
     ]
    }
   ],
   "source": [
    "# reload packages\n",
    "%load_ext autoreload\n",
    "%autoreload 2"
   ]
  },
  {
   "cell_type": "markdown",
   "metadata": {},
   "source": [
    "### Choose GPU (this may not be needed on your computer)"
   ]
  },
  {
   "cell_type": "code",
   "execution_count": 21,
   "metadata": {
    "ExecuteTime": {
     "end_time": "2020-07-20T21:29:20.784071Z",
     "start_time": "2020-07-20T21:29:20.741027Z"
    }
   },
   "outputs": [
    {
     "name": "stdout",
     "output_type": "stream",
     "text": [
      "env: CUDA_DEVICE_ORDER=PCI_BUS_ID\n",
      "env: CUDA_VISIBLE_DEVICES=0\n"
     ]
    }
   ],
   "source": [
    "%env CUDA_DEVICE_ORDER=PCI_BUS_ID\n",
    "%env CUDA_VISIBLE_DEVICES=0"
   ]
  },
  {
   "cell_type": "code",
   "execution_count": 22,
   "metadata": {
    "ExecuteTime": {
     "end_time": "2020-07-20T21:29:20.827728Z",
     "start_time": "2020-07-20T21:29:20.785543Z"
    }
   },
   "outputs": [
    {
     "name": "stdout",
     "output_type": "stream",
     "text": [
      "[PhysicalDevice(name='/physical_device:GPU:0', device_type='GPU')]\n"
     ]
    }
   ],
   "source": [
    "import tensorflow as tf\n",
    "gpu_devices = tf.config.experimental.list_physical_devices('GPU')\n",
    "if len(gpu_devices)>0:\n",
    "    tf.config.experimental.set_memory_growth(gpu_devices[0], True)\n",
    "print(gpu_devices)"
   ]
  },
  {
   "cell_type": "markdown",
   "metadata": {},
   "source": [
    "### load packages"
   ]
  },
  {
   "cell_type": "code",
   "execution_count": 23,
   "metadata": {
    "ExecuteTime": {
     "end_time": "2020-07-20T21:29:20.870064Z",
     "start_time": "2020-07-20T21:29:20.829197Z"
    }
   },
   "outputs": [],
   "source": [
    "from tfumap.umap import tfUMAP"
   ]
  },
  {
   "cell_type": "code",
   "execution_count": 24,
   "metadata": {
    "ExecuteTime": {
     "end_time": "2020-07-20T21:29:20.910638Z",
     "start_time": "2020-07-20T21:29:20.871604Z"
    }
   },
   "outputs": [],
   "source": [
    "import tensorflow as tf\n",
    "import numpy as np\n",
    "import matplotlib.pyplot as plt\n",
    "from tqdm.autonotebook import tqdm\n",
    "import umap\n",
    "import pandas as pd"
   ]
  },
  {
   "cell_type": "code",
   "execution_count": 25,
   "metadata": {
    "ExecuteTime": {
     "end_time": "2020-07-20T21:29:20.953308Z",
     "start_time": "2020-07-20T21:29:20.912153Z"
    }
   },
   "outputs": [],
   "source": [
    "from tfumap.umap import tfUMAP"
   ]
  },
  {
   "cell_type": "markdown",
   "metadata": {},
   "source": [
    "### Load dataset"
   ]
  },
  {
   "cell_type": "code",
   "execution_count": 26,
   "metadata": {
    "ExecuteTime": {
     "end_time": "2020-07-20T21:29:20.995612Z",
     "start_time": "2020-07-20T21:29:20.955961Z"
    }
   },
   "outputs": [],
   "source": [
    "dataset = 'makosco2015'\n",
    "dims = (50)"
   ]
  },
  {
   "cell_type": "code",
   "execution_count": 27,
   "metadata": {
    "ExecuteTime": {
     "end_time": "2020-07-20T21:29:21.037802Z",
     "start_time": "2020-07-20T21:29:20.997290Z"
    }
   },
   "outputs": [],
   "source": [
    "from tfumap.paths import ensure_dir, MODEL_DIR, DATA_DIR"
   ]
  },
  {
   "cell_type": "code",
   "execution_count": 28,
   "metadata": {
    "ExecuteTime": {
     "end_time": "2020-07-20T21:29:21.077039Z",
     "start_time": "2020-07-20T21:29:21.039207Z"
    }
   },
   "outputs": [],
   "source": [
    "#dataset_address = 'http://file.biolab.si/opentsne/macosko_2015.pkl.gz'\n",
    "# https://opentsne.readthedocs.io/en/latest/examples/01_simple_usage/01_simple_usage.html\n",
    "# also see https://github.com/berenslab/rna-seq-tsne/blob/master/umi-datasets.ipynb"
   ]
  },
  {
   "cell_type": "code",
   "execution_count": 29,
   "metadata": {
    "ExecuteTime": {
     "end_time": "2020-07-20T21:29:21.259144Z",
     "start_time": "2020-07-20T21:29:21.078844Z"
    }
   },
   "outputs": [],
   "source": [
    "import gzip\n",
    "import pickle\n",
    "\n",
    "with gzip.open(DATA_DIR / 'macosko_2015.pkl.gz', \"rb\") as f:\n",
    "    data = pickle.load(f)\n",
    "\n",
    "x = data[\"pca_50\"]\n",
    "y = data[\"CellType1\"].astype(str)"
   ]
  },
  {
   "cell_type": "code",
   "execution_count": 30,
   "metadata": {
    "ExecuteTime": {
     "end_time": "2020-07-20T21:29:21.303342Z",
     "start_time": "2020-07-20T21:29:21.260615Z"
    }
   },
   "outputs": [
    {
     "name": "stdout",
     "output_type": "stream",
     "text": [
      "Data set contains 44808 samples with 50 features\n"
     ]
    }
   ],
   "source": [
    "print(\"Data set contains %d samples with %d features\" % x.shape)"
   ]
  },
  {
   "cell_type": "code",
   "execution_count": 31,
   "metadata": {
    "ExecuteTime": {
     "end_time": "2020-07-20T21:29:21.346045Z",
     "start_time": "2020-07-20T21:29:21.304789Z"
    }
   },
   "outputs": [],
   "source": [
    "from sklearn.model_selection import train_test_split"
   ]
  },
  {
   "cell_type": "code",
   "execution_count": 32,
   "metadata": {
    "ExecuteTime": {
     "end_time": "2020-07-20T21:29:21.405733Z",
     "start_time": "2020-07-20T21:29:21.347498Z"
    }
   },
   "outputs": [],
   "source": [
    "X_train, X_test, Y_train, Y_test = train_test_split(x, y, test_size=.1, random_state=42)"
   ]
  },
  {
   "cell_type": "code",
   "execution_count": 33,
   "metadata": {
    "ExecuteTime": {
     "end_time": "2020-07-20T21:29:21.450328Z",
     "start_time": "2020-07-20T21:29:21.407229Z"
    }
   },
   "outputs": [
    {
     "data": {
      "text/plain": [
       "(40327, 50)"
      ]
     },
     "execution_count": 33,
     "metadata": {},
     "output_type": "execute_result"
    }
   ],
   "source": [
    "np.shape(X_train)"
   ]
  },
  {
   "cell_type": "code",
   "execution_count": 34,
   "metadata": {
    "ExecuteTime": {
     "end_time": "2020-07-20T21:29:21.492996Z",
     "start_time": "2020-07-20T21:29:21.451636Z"
    }
   },
   "outputs": [],
   "source": [
    "n_valid = 10000\n",
    "X_valid = X_train[-n_valid:]\n",
    "Y_valid = Y_train[-n_valid:]\n",
    "X_train = X_train[:-n_valid]\n",
    "Y_train = Y_train[:-n_valid]"
   ]
  },
  {
   "cell_type": "code",
   "execution_count": 35,
   "metadata": {
    "ExecuteTime": {
     "end_time": "2020-07-20T21:29:21.533671Z",
     "start_time": "2020-07-20T21:29:21.494901Z"
    }
   },
   "outputs": [],
   "source": [
    "X_train_flat = X_train"
   ]
  },
  {
   "cell_type": "code",
   "execution_count": 36,
   "metadata": {
    "ExecuteTime": {
     "end_time": "2020-07-20T21:29:21.574191Z",
     "start_time": "2020-07-20T21:29:21.534790Z"
    }
   },
   "outputs": [],
   "source": [
    "X_test_flat = X_test"
   ]
  },
  {
   "cell_type": "code",
   "execution_count": 37,
   "metadata": {
    "ExecuteTime": {
     "end_time": "2020-07-20T21:29:21.616454Z",
     "start_time": "2020-07-20T21:29:21.575580Z"
    }
   },
   "outputs": [],
   "source": [
    "from sklearn.preprocessing import OrdinalEncoder\n",
    "enc = OrdinalEncoder()"
   ]
  },
  {
   "cell_type": "code",
   "execution_count": 38,
   "metadata": {
    "ExecuteTime": {
     "end_time": "2020-07-20T21:29:21.734590Z",
     "start_time": "2020-07-20T21:29:21.618109Z"
    }
   },
   "outputs": [],
   "source": [
    "Y_train = enc.fit_transform([[i] for i in Y_train]).flatten()\n",
    "Y_test = enc.fit_transform([[i] for i in Y_test]).flatten()"
   ]
  },
  {
   "cell_type": "code",
   "execution_count": 39,
   "metadata": {
    "ExecuteTime": {
     "end_time": "2020-07-20T21:29:21.780100Z",
     "start_time": "2020-07-20T21:29:21.735997Z"
    }
   },
   "outputs": [
    {
     "data": {
      "text/plain": [
       "(30327, 4481, 10000)"
      ]
     },
     "execution_count": 39,
     "metadata": {},
     "output_type": "execute_result"
    }
   ],
   "source": [
    "len(X_train), len(X_test), len(X_valid)"
   ]
  },
  {
   "cell_type": "markdown",
   "metadata": {},
   "source": [
    "### Create model and train"
   ]
  },
  {
   "cell_type": "code",
   "execution_count": 19,
   "metadata": {
    "ExecuteTime": {
     "end_time": "2020-07-20T17:51:56.294230Z",
     "start_time": "2020-07-20T17:51:55.469752Z"
    }
   },
   "outputs": [],
   "source": [
    "n_components = 2\n",
    "encoder = tf.keras.Sequential()\n",
    "encoder.add(tf.keras.layers.InputLayer(input_shape=dims))\n",
    "encoder.add(tf.keras.layers.Flatten())\n",
    "encoder.add(tf.keras.layers.Dense(units=100, activation=\"relu\"))\n",
    "encoder.add(tf.keras.layers.Dense(units=100, activation=\"relu\"))\n",
    "encoder.add(tf.keras.layers.Dense(units=100, activation=\"relu\"))\n",
    "encoder.add(\n",
    "    tf.keras.layers.Dense(units=n_components, name=\"z\")\n",
    ")"
   ]
  },
  {
   "cell_type": "code",
   "execution_count": 20,
   "metadata": {
    "ExecuteTime": {
     "end_time": "2020-07-20T17:51:56.334949Z",
     "start_time": "2020-07-20T17:51:56.296720Z"
    }
   },
   "outputs": [],
   "source": [
    "batch_size = 5000"
   ]
  },
  {
   "cell_type": "code",
   "execution_count": 21,
   "metadata": {
    "ExecuteTime": {
     "end_time": "2020-07-20T17:51:56.372350Z",
     "start_time": "2020-07-20T17:51:56.336566Z"
    }
   },
   "outputs": [],
   "source": [
    "from tfumap.paths import ensure_dir, MODEL_DIR, DATA_DIR"
   ]
  },
  {
   "cell_type": "code",
   "execution_count": 22,
   "metadata": {
    "ExecuteTime": {
     "end_time": "2020-07-20T17:51:56.419643Z",
     "start_time": "2020-07-20T17:51:56.373379Z"
    }
   },
   "outputs": [],
   "source": [
    "from tfumap.parametric_tsne import compute_joint_probabilities, tsne_loss"
   ]
  },
  {
   "cell_type": "code",
   "execution_count": 23,
   "metadata": {
    "ExecuteTime": {
     "end_time": "2020-07-20T17:51:56.840088Z",
     "start_time": "2020-07-20T17:51:56.421395Z"
    },
    "scrolled": true
   },
   "outputs": [],
   "source": [
    "save_loc = DATA_DIR/ 'parametric_tsne'/ dataset / 'P.npy'\n",
    "if save_loc.exists():\n",
    "    P = np.load(save_loc)\n",
    "else:\n",
    "    P = compute_joint_probabilities(X_train_flat, batch_size=batch_size, perplexity=30, verbose=2)\n",
    "    ensure_dir(save_loc)\n",
    "    np.save(save_loc, P)"
   ]
  },
  {
   "cell_type": "code",
   "execution_count": 24,
   "metadata": {
    "ExecuteTime": {
     "end_time": "2020-07-20T17:51:56.883237Z",
     "start_time": "2020-07-20T17:51:56.841404Z"
    }
   },
   "outputs": [],
   "source": [
    "X_train_subset = X_train[:np.product(P.shape[:2])]"
   ]
  },
  {
   "cell_type": "code",
   "execution_count": 25,
   "metadata": {
    "ExecuteTime": {
     "end_time": "2020-07-20T17:51:56.918410Z",
     "start_time": "2020-07-20T17:51:56.884378Z"
    }
   },
   "outputs": [],
   "source": [
    "# Joint probabilities of data\n",
    "Y_train_tsne = P.reshape(X_train_subset.shape[0], -1)"
   ]
  },
  {
   "cell_type": "code",
   "execution_count": 26,
   "metadata": {
    "ExecuteTime": {
     "end_time": "2020-07-20T17:51:56.953038Z",
     "start_time": "2020-07-20T17:51:56.919312Z"
    }
   },
   "outputs": [],
   "source": [
    "opt = tf.keras.optimizers.Adam(lr=0.01)"
   ]
  },
  {
   "cell_type": "code",
   "execution_count": 27,
   "metadata": {
    "ExecuteTime": {
     "end_time": "2020-07-20T17:51:57.221167Z",
     "start_time": "2020-07-20T17:51:56.953953Z"
    }
   },
   "outputs": [],
   "source": [
    "encoder.compile(loss=tsne_loss(d=n_components, batch_size=batch_size), optimizer=opt)"
   ]
  },
  {
   "cell_type": "code",
   "execution_count": 28,
   "metadata": {
    "ExecuteTime": {
     "end_time": "2020-07-20T17:51:57.262319Z",
     "start_time": "2020-07-20T17:51:57.222253Z"
    }
   },
   "outputs": [],
   "source": [
    "X_train_subset = np.reshape(X_train_subset, ([len(X_train_subset)]+ [dims]))\n",
    "X_test = np.reshape(X_test, ([len(X_test)]+ [dims]))"
   ]
  },
  {
   "cell_type": "code",
   "execution_count": 29,
   "metadata": {
    "ExecuteTime": {
     "end_time": "2020-07-20T17:58:38.935687Z",
     "start_time": "2020-07-20T17:51:57.263959Z"
    }
   },
   "outputs": [
    {
     "name": "stderr",
     "output_type": "stream",
     "text": [
      "WARNING: Logging before flag parsing goes to stderr.\n",
      "W0720 10:51:57.302856 139919644428096 training.py:792] The `nb_epoch` argument in `fit` has been renamed `epochs`.\n"
     ]
    },
    {
     "name": "stdout",
     "output_type": "stream",
     "text": [
      "Train on 30000 samples\n",
      "Epoch 1/1000\n",
      "30000/30000 [==============================] - 7s 227us/sample - loss: 3.3040\n",
      "Epoch 2/1000\n",
      "30000/30000 [==============================] - 0s 11us/sample - loss: 2.4975\n",
      "Epoch 3/1000\n",
      "30000/30000 [==============================] - 0s 12us/sample - loss: 2.3779\n",
      "Epoch 4/1000\n",
      "30000/30000 [==============================] - 0s 11us/sample - loss: 2.2909\n",
      "Epoch 5/1000\n",
      "30000/30000 [==============================] - 0s 11us/sample - loss: 2.2322\n",
      "Epoch 6/1000\n",
      "30000/30000 [==============================] - 0s 11us/sample - loss: 2.1934\n",
      "Epoch 7/1000\n",
      "30000/30000 [==============================] - 0s 11us/sample - loss: 2.1647\n",
      "Epoch 8/1000\n",
      "30000/30000 [==============================] - 0s 11us/sample - loss: 2.1397\n",
      "Epoch 9/1000\n",
      "30000/30000 [==============================] - 0s 12us/sample - loss: 2.1175\n",
      "Epoch 10/1000\n",
      "30000/30000 [==============================] - 0s 11us/sample - loss: 2.0970\n",
      "Epoch 11/1000\n",
      "30000/30000 [==============================] - 0s 11us/sample - loss: 2.0791\n",
      "Epoch 12/1000\n",
      "30000/30000 [==============================] - 0s 11us/sample - loss: 2.0613\n",
      "Epoch 13/1000\n",
      "30000/30000 [==============================] - 0s 11us/sample - loss: 2.0460\n",
      "Epoch 14/1000\n",
      "30000/30000 [==============================] - 0s 11us/sample - loss: 2.0321\n",
      "Epoch 15/1000\n",
      "30000/30000 [==============================] - 0s 10us/sample - loss: 2.0178\n",
      "Epoch 16/1000\n",
      "30000/30000 [==============================] - 0s 11us/sample - loss: 2.0051\n",
      "Epoch 17/1000\n",
      "30000/30000 [==============================] - 0s 11us/sample - loss: 1.9925\n",
      "Epoch 18/1000\n",
      "30000/30000 [==============================] - 0s 12us/sample - loss: 1.9821\n",
      "Epoch 19/1000\n",
      "30000/30000 [==============================] - 0s 12us/sample - loss: 1.9723\n",
      "Epoch 20/1000\n",
      "30000/30000 [==============================] - 0s 12us/sample - loss: 1.9658\n",
      "Epoch 21/1000\n",
      "30000/30000 [==============================] - 0s 11us/sample - loss: 1.9601\n",
      "Epoch 22/1000\n",
      "30000/30000 [==============================] - 0s 12us/sample - loss: 1.9549\n",
      "Epoch 23/1000\n",
      "30000/30000 [==============================] - 0s 12us/sample - loss: 1.9531\n",
      "Epoch 24/1000\n",
      "30000/30000 [==============================] - 0s 11us/sample - loss: 1.9440\n",
      "Epoch 25/1000\n",
      "30000/30000 [==============================] - 0s 11us/sample - loss: 1.9367\n",
      "Epoch 26/1000\n",
      "30000/30000 [==============================] - 0s 11us/sample - loss: 1.9336\n",
      "Epoch 27/1000\n",
      "30000/30000 [==============================] - 0s 11us/sample - loss: 1.9302\n",
      "Epoch 28/1000\n",
      "30000/30000 [==============================] - 0s 11us/sample - loss: 1.9236\n",
      "Epoch 29/1000\n",
      "30000/30000 [==============================] - 0s 11us/sample - loss: 1.9176\n",
      "Epoch 30/1000\n",
      "30000/30000 [==============================] - 0s 11us/sample - loss: 1.9129\n",
      "Epoch 31/1000\n",
      "30000/30000 [==============================] - 0s 11us/sample - loss: 1.9086\n",
      "Epoch 32/1000\n",
      "30000/30000 [==============================] - 0s 15us/sample - loss: 1.9084\n",
      "Epoch 33/1000\n",
      "30000/30000 [==============================] - 1s 24us/sample - loss: 1.9098\n",
      "Epoch 34/1000\n",
      "30000/30000 [==============================] - 0s 11us/sample - loss: 1.9041\n",
      "Epoch 35/1000\n",
      "30000/30000 [==============================] - 0s 11us/sample - loss: 1.9019\n",
      "Epoch 36/1000\n",
      "30000/30000 [==============================] - 0s 14us/sample - loss: 1.8994\n",
      "Epoch 37/1000\n",
      "30000/30000 [==============================] - 1s 19us/sample - loss: 1.9028\n",
      "Epoch 38/1000\n",
      "30000/30000 [==============================] - 0s 11us/sample - loss: 1.8989\n",
      "Epoch 39/1000\n",
      "30000/30000 [==============================] - 0s 12us/sample - loss: 1.8949\n",
      "Epoch 40/1000\n",
      "30000/30000 [==============================] - 1s 19us/sample - loss: 1.8897\n",
      "Epoch 41/1000\n",
      "30000/30000 [==============================] - 1s 27us/sample - loss: 1.8838\n",
      "Epoch 42/1000\n",
      "30000/30000 [==============================] - 0s 17us/sample - loss: 1.8836\n",
      "Epoch 43/1000\n",
      "30000/30000 [==============================] - 0s 14us/sample - loss: 1.8830\n",
      "Epoch 44/1000\n",
      "30000/30000 [==============================] - 0s 13us/sample - loss: 1.8799\n",
      "Epoch 45/1000\n",
      "30000/30000 [==============================] - 1s 19us/sample - loss: 1.8793\n",
      "Epoch 46/1000\n",
      "30000/30000 [==============================] - 0s 12us/sample - loss: 1.8786\n",
      "Epoch 47/1000\n",
      "30000/30000 [==============================] - 0s 11us/sample - loss: 1.8778\n",
      "Epoch 48/1000\n",
      "30000/30000 [==============================] - 0s 12us/sample - loss: 1.8758\n",
      "Epoch 49/1000\n",
      "30000/30000 [==============================] - 0s 13us/sample - loss: 1.8743\n",
      "Epoch 50/1000\n",
      "30000/30000 [==============================] - 1s 17us/sample - loss: 1.8744\n",
      "Epoch 51/1000\n",
      "30000/30000 [==============================] - 0s 11us/sample - loss: 1.8747\n",
      "Epoch 52/1000\n",
      "30000/30000 [==============================] - 0s 11us/sample - loss: 1.8705\n",
      "Epoch 53/1000\n",
      "30000/30000 [==============================] - 1s 21us/sample - loss: 1.8686\n",
      "Epoch 54/1000\n",
      "30000/30000 [==============================] - 1s 25us/sample - loss: 1.8663\n",
      "Epoch 55/1000\n",
      "30000/30000 [==============================] - 0s 13us/sample - loss: 1.8645\n",
      "Epoch 56/1000\n",
      "30000/30000 [==============================] - 0s 11us/sample - loss: 1.8617\n",
      "Epoch 57/1000\n",
      "30000/30000 [==============================] - 1s 21us/sample - loss: 1.8603\n",
      "Epoch 58/1000\n",
      "30000/30000 [==============================] - 1s 23us/sample - loss: 1.8586\n",
      "Epoch 59/1000\n",
      "30000/30000 [==============================] - 0s 11us/sample - loss: 1.8575\n",
      "Epoch 60/1000\n",
      "30000/30000 [==============================] - 0s 11us/sample - loss: 1.8560\n",
      "Epoch 61/1000\n",
      "30000/30000 [==============================] - 1s 17us/sample - loss: 1.8557\n",
      "Epoch 62/1000\n",
      "30000/30000 [==============================] - 1s 20us/sample - loss: 1.8524\n",
      "Epoch 63/1000\n",
      "30000/30000 [==============================] - 0s 12us/sample - loss: 1.8531\n",
      "Epoch 64/1000\n",
      "30000/30000 [==============================] - 0s 11us/sample - loss: 1.8499\n",
      "Epoch 65/1000\n",
      "30000/30000 [==============================] - 0s 11us/sample - loss: 1.8510\n",
      "Epoch 66/1000\n",
      "30000/30000 [==============================] - 0s 12us/sample - loss: 1.8517\n",
      "Epoch 67/1000\n",
      "30000/30000 [==============================] - 0s 13us/sample - loss: 1.8509\n",
      "Epoch 68/1000\n",
      "30000/30000 [==============================] - 0s 13us/sample - loss: 1.8507\n",
      "Epoch 69/1000\n",
      "30000/30000 [==============================] - 0s 12us/sample - loss: 1.8495\n",
      "Epoch 70/1000\n",
      "30000/30000 [==============================] - 0s 12us/sample - loss: 1.8493\n",
      "Epoch 71/1000\n",
      "30000/30000 [==============================] - 0s 12us/sample - loss: 1.8450\n",
      "Epoch 72/1000\n",
      "30000/30000 [==============================] - 0s 12us/sample - loss: 1.8464\n",
      "Epoch 73/1000\n",
      "30000/30000 [==============================] - 0s 12us/sample - loss: 1.8445\n",
      "Epoch 74/1000\n",
      "30000/30000 [==============================] - 0s 11us/sample - loss: 1.8431\n",
      "Epoch 75/1000\n",
      "30000/30000 [==============================] - 0s 12us/sample - loss: 1.8448\n",
      "Epoch 76/1000\n",
      "30000/30000 [==============================] - 0s 12us/sample - loss: 1.8443\n",
      "Epoch 77/1000\n",
      "30000/30000 [==============================] - 0s 14us/sample - loss: 1.8456\n",
      "Epoch 78/1000\n",
      "30000/30000 [==============================] - 0s 13us/sample - loss: 1.8447\n",
      "Epoch 79/1000\n",
      "30000/30000 [==============================] - 0s 12us/sample - loss: 1.8454\n",
      "Epoch 80/1000\n",
      "30000/30000 [==============================] - 0s 12us/sample - loss: 1.8451\n",
      "Epoch 81/1000\n",
      "30000/30000 [==============================] - 0s 12us/sample - loss: 1.8443\n",
      "Epoch 82/1000\n",
      "30000/30000 [==============================] - 1s 28us/sample - loss: 1.8433\n",
      "Epoch 83/1000\n",
      "30000/30000 [==============================] - 1s 20us/sample - loss: 1.8451\n",
      "Epoch 84/1000\n",
      "30000/30000 [==============================] - 0s 11us/sample - loss: 1.8423\n",
      "Epoch 85/1000\n",
      "30000/30000 [==============================] - 0s 11us/sample - loss: 1.8413\n",
      "Epoch 86/1000\n",
      "30000/30000 [==============================] - 1s 22us/sample - loss: 1.8398\n",
      "Epoch 87/1000\n",
      "30000/30000 [==============================] - 1s 19us/sample - loss: 1.8406\n",
      "Epoch 88/1000\n",
      "30000/30000 [==============================] - 0s 11us/sample - loss: 1.8397\n",
      "Epoch 89/1000\n",
      "30000/30000 [==============================] - 0s 12us/sample - loss: 1.8389\n",
      "Epoch 90/1000\n"
     ]
    },
    {
     "name": "stdout",
     "output_type": "stream",
     "text": [
      "30000/30000 [==============================] - 0s 12us/sample - loss: 1.8421\n",
      "Epoch 91/1000\n",
      "30000/30000 [==============================] - 1s 20us/sample - loss: 1.8388\n",
      "Epoch 92/1000\n",
      "30000/30000 [==============================] - 0s 11us/sample - loss: 1.8393\n",
      "Epoch 93/1000\n",
      "30000/30000 [==============================] - 0s 11us/sample - loss: 1.8403\n",
      "Epoch 94/1000\n",
      "30000/30000 [==============================] - 0s 11us/sample - loss: 1.8416\n",
      "Epoch 95/1000\n",
      "30000/30000 [==============================] - 0s 14us/sample - loss: 1.8430\n",
      "Epoch 96/1000\n",
      "30000/30000 [==============================] - 1s 19us/sample - loss: 1.8402\n",
      "Epoch 97/1000\n",
      "30000/30000 [==============================] - 0s 12us/sample - loss: 1.8368\n",
      "Epoch 98/1000\n",
      "30000/30000 [==============================] - 0s 11us/sample - loss: 1.8372\n",
      "Epoch 99/1000\n",
      "30000/30000 [==============================] - 0s 12us/sample - loss: 1.8361\n",
      "Epoch 100/1000\n",
      "30000/30000 [==============================] - 1s 22us/sample - loss: 1.8354\n",
      "Epoch 101/1000\n",
      "30000/30000 [==============================] - 0s 16us/sample - loss: 1.8355\n",
      "Epoch 102/1000\n",
      "30000/30000 [==============================] - 0s 11us/sample - loss: 1.8347\n",
      "Epoch 103/1000\n",
      "30000/30000 [==============================] - 0s 10us/sample - loss: 1.8337\n",
      "Epoch 104/1000\n",
      "30000/30000 [==============================] - 0s 11us/sample - loss: 1.8324\n",
      "Epoch 105/1000\n",
      "30000/30000 [==============================] - 0s 15us/sample - loss: 1.8307\n",
      "Epoch 106/1000\n",
      "30000/30000 [==============================] - 0s 12us/sample - loss: 1.8309\n",
      "Epoch 107/1000\n",
      "30000/30000 [==============================] - 0s 11us/sample - loss: 1.8333\n",
      "Epoch 108/1000\n",
      "30000/30000 [==============================] - 0s 10us/sample - loss: 1.8357\n",
      "Epoch 109/1000\n",
      "30000/30000 [==============================] - 0s 11us/sample - loss: 1.8368\n",
      "Epoch 110/1000\n",
      "30000/30000 [==============================] - 0s 11us/sample - loss: 1.8371\n",
      "Epoch 111/1000\n",
      "30000/30000 [==============================] - 0s 12us/sample - loss: 1.8366\n",
      "Epoch 112/1000\n",
      "30000/30000 [==============================] - 0s 11us/sample - loss: 1.8381\n",
      "Epoch 113/1000\n",
      "30000/30000 [==============================] - 0s 11us/sample - loss: 1.8401\n",
      "Epoch 114/1000\n",
      "30000/30000 [==============================] - 0s 11us/sample - loss: 1.8446\n",
      "Epoch 115/1000\n",
      "30000/30000 [==============================] - 0s 12us/sample - loss: 1.8412\n",
      "Epoch 116/1000\n",
      "30000/30000 [==============================] - 0s 12us/sample - loss: 1.8386\n",
      "Epoch 117/1000\n",
      "30000/30000 [==============================] - 0s 11us/sample - loss: 1.8377\n",
      "Epoch 118/1000\n",
      "30000/30000 [==============================] - 0s 11us/sample - loss: 1.8332\n",
      "Epoch 119/1000\n",
      "30000/30000 [==============================] - 0s 11us/sample - loss: 1.8333\n",
      "Epoch 120/1000\n",
      "30000/30000 [==============================] - 0s 11us/sample - loss: 1.8315\n",
      "Epoch 121/1000\n",
      "30000/30000 [==============================] - 0s 11us/sample - loss: 1.8284\n",
      "Epoch 122/1000\n",
      "30000/30000 [==============================] - 0s 11us/sample - loss: 1.8247\n",
      "Epoch 123/1000\n",
      "30000/30000 [==============================] - 0s 11us/sample - loss: 1.8188\n",
      "Epoch 124/1000\n",
      "30000/30000 [==============================] - 0s 12us/sample - loss: 1.8162\n",
      "Epoch 125/1000\n",
      "30000/30000 [==============================] - 0s 11us/sample - loss: 1.8152\n",
      "Epoch 126/1000\n",
      "30000/30000 [==============================] - 0s 11us/sample - loss: 1.8146\n",
      "Epoch 127/1000\n",
      "30000/30000 [==============================] - 0s 11us/sample - loss: 1.8173\n",
      "Epoch 128/1000\n",
      "30000/30000 [==============================] - 0s 11us/sample - loss: 1.8157\n",
      "Epoch 129/1000\n",
      "30000/30000 [==============================] - 0s 12us/sample - loss: 1.8140\n",
      "Epoch 130/1000\n",
      "30000/30000 [==============================] - 0s 11us/sample - loss: 1.8149\n",
      "Epoch 131/1000\n",
      "30000/30000 [==============================] - 0s 12us/sample - loss: 1.8168\n",
      "Epoch 132/1000\n",
      "30000/30000 [==============================] - 0s 14us/sample - loss: 1.8155\n",
      "Epoch 133/1000\n",
      "30000/30000 [==============================] - 0s 11us/sample - loss: 1.8144\n",
      "Epoch 134/1000\n",
      "30000/30000 [==============================] - 0s 12us/sample - loss: 1.8141\n",
      "Epoch 135/1000\n",
      "30000/30000 [==============================] - 0s 12us/sample - loss: 1.8140\n",
      "Epoch 136/1000\n",
      "30000/30000 [==============================] - 0s 11us/sample - loss: 1.8148\n",
      "Epoch 137/1000\n",
      "30000/30000 [==============================] - 0s 10us/sample - loss: 1.8157\n",
      "Epoch 138/1000\n",
      "30000/30000 [==============================] - 0s 15us/sample - loss: 1.8165\n",
      "Epoch 139/1000\n",
      "30000/30000 [==============================] - 0s 11us/sample - loss: 1.8150\n",
      "Epoch 140/1000\n",
      "30000/30000 [==============================] - 0s 11us/sample - loss: 1.8153\n",
      "Epoch 141/1000\n",
      "30000/30000 [==============================] - 0s 13us/sample - loss: 1.8151\n",
      "Epoch 142/1000\n",
      "30000/30000 [==============================] - 1s 17us/sample - loss: 1.8132\n",
      "Epoch 143/1000\n",
      "30000/30000 [==============================] - 1s 18us/sample - loss: 1.8102\n",
      "Epoch 144/1000\n",
      "30000/30000 [==============================] - 0s 11us/sample - loss: 1.8130\n",
      "Epoch 145/1000\n",
      "30000/30000 [==============================] - 0s 11us/sample - loss: 1.8107\n",
      "Epoch 146/1000\n",
      "30000/30000 [==============================] - 0s 16us/sample - loss: 1.8107\n",
      "Epoch 147/1000\n",
      "30000/30000 [==============================] - 1s 22us/sample - loss: 1.8096\n",
      "Epoch 148/1000\n",
      "30000/30000 [==============================] - 0s 11us/sample - loss: 1.8081\n",
      "Epoch 149/1000\n",
      "30000/30000 [==============================] - 0s 11us/sample - loss: 1.8089\n",
      "Epoch 150/1000\n",
      "30000/30000 [==============================] - 0s 12us/sample - loss: 1.8091\n",
      "Epoch 151/1000\n",
      "30000/30000 [==============================] - 1s 22us/sample - loss: 1.8088\n",
      "Epoch 152/1000\n",
      "30000/30000 [==============================] - 0s 14us/sample - loss: 1.8081\n",
      "Epoch 153/1000\n",
      "30000/30000 [==============================] - 0s 11us/sample - loss: 1.8079\n",
      "Epoch 154/1000\n",
      "30000/30000 [==============================] - 0s 11us/sample - loss: 1.8081\n",
      "Epoch 155/1000\n",
      "30000/30000 [==============================] - 0s 16us/sample - loss: 1.8089\n",
      "Epoch 156/1000\n",
      "30000/30000 [==============================] - 1s 17us/sample - loss: 1.8075\n",
      "Epoch 157/1000\n",
      "30000/30000 [==============================] - 0s 11us/sample - loss: 1.8061\n",
      "Epoch 158/1000\n",
      "30000/30000 [==============================] - 0s 12us/sample - loss: 1.8058\n",
      "Epoch 159/1000\n",
      "30000/30000 [==============================] - 0s 11us/sample - loss: 1.8066\n",
      "Epoch 160/1000\n",
      "30000/30000 [==============================] - 1s 18us/sample - loss: 1.8053\n",
      "Epoch 161/1000\n",
      "30000/30000 [==============================] - 0s 13us/sample - loss: 1.8057\n",
      "Epoch 162/1000\n",
      "30000/30000 [==============================] - 0s 12us/sample - loss: 1.8051\n",
      "Epoch 163/1000\n",
      "30000/30000 [==============================] - 0s 11us/sample - loss: 1.8022\n",
      "Epoch 164/1000\n",
      "30000/30000 [==============================] - 0s 11us/sample - loss: 1.8031\n",
      "Epoch 165/1000\n",
      "30000/30000 [==============================] - 0s 12us/sample - loss: 1.8032\n",
      "Epoch 166/1000\n",
      "30000/30000 [==============================] - 0s 12us/sample - loss: 1.8035\n",
      "Epoch 167/1000\n",
      "30000/30000 [==============================] - 0s 12us/sample - loss: 1.8047\n",
      "Epoch 168/1000\n",
      "30000/30000 [==============================] - 0s 12us/sample - loss: 1.8040\n",
      "Epoch 169/1000\n",
      "30000/30000 [==============================] - 0s 12us/sample - loss: 1.8018\n",
      "Epoch 170/1000\n",
      "30000/30000 [==============================] - 0s 11us/sample - loss: 1.8017\n",
      "Epoch 171/1000\n",
      "30000/30000 [==============================] - 0s 11us/sample - loss: 1.8005\n",
      "Epoch 172/1000\n",
      "30000/30000 [==============================] - 0s 11us/sample - loss: 1.7995\n",
      "Epoch 173/1000\n",
      "30000/30000 [==============================] - 0s 12us/sample - loss: 1.8006\n",
      "Epoch 174/1000\n",
      "30000/30000 [==============================] - 0s 12us/sample - loss: 1.8014\n",
      "Epoch 175/1000\n",
      "30000/30000 [==============================] - 0s 12us/sample - loss: 1.8003\n",
      "Epoch 176/1000\n",
      "30000/30000 [==============================] - 0s 12us/sample - loss: 1.8009\n",
      "Epoch 177/1000\n",
      "30000/30000 [==============================] - 0s 12us/sample - loss: 1.8006\n",
      "Epoch 178/1000\n",
      "30000/30000 [==============================] - 0s 12us/sample - loss: 1.8014\n",
      "Epoch 179/1000\n"
     ]
    },
    {
     "name": "stdout",
     "output_type": "stream",
     "text": [
      "30000/30000 [==============================] - 0s 11us/sample - loss: 1.8022\n",
      "Epoch 180/1000\n",
      "30000/30000 [==============================] - 0s 11us/sample - loss: 1.8043\n",
      "Epoch 181/1000\n",
      "30000/30000 [==============================] - 0s 11us/sample - loss: 1.8008\n",
      "Epoch 182/1000\n",
      "30000/30000 [==============================] - 1s 19us/sample - loss: 1.8018\n",
      "Epoch 183/1000\n",
      "30000/30000 [==============================] - 0s 11us/sample - loss: 1.7972\n",
      "Epoch 184/1000\n",
      "30000/30000 [==============================] - 0s 11us/sample - loss: 1.7958\n",
      "Epoch 185/1000\n",
      "30000/30000 [==============================] - 0s 11us/sample - loss: 1.7939\n",
      "Epoch 186/1000\n",
      "30000/30000 [==============================] - 0s 11us/sample - loss: 1.7949\n",
      "Epoch 187/1000\n",
      "30000/30000 [==============================] - 0s 16us/sample - loss: 1.7968\n",
      "Epoch 188/1000\n",
      "30000/30000 [==============================] - 0s 11us/sample - loss: 1.7942\n",
      "Epoch 189/1000\n",
      "30000/30000 [==============================] - 0s 11us/sample - loss: 1.7930\n",
      "Epoch 190/1000\n",
      "30000/30000 [==============================] - 0s 11us/sample - loss: 1.7925\n",
      "Epoch 191/1000\n",
      "30000/30000 [==============================] - 0s 12us/sample - loss: 1.7910\n",
      "Epoch 192/1000\n",
      "30000/30000 [==============================] - 0s 15us/sample - loss: 1.7914\n",
      "Epoch 193/1000\n",
      "30000/30000 [==============================] - 0s 12us/sample - loss: 1.7921\n",
      "Epoch 194/1000\n",
      "30000/30000 [==============================] - 0s 11us/sample - loss: 1.7916\n",
      "Epoch 195/1000\n",
      "30000/30000 [==============================] - 0s 11us/sample - loss: 1.7927\n",
      "Epoch 196/1000\n",
      "30000/30000 [==============================] - 0s 11us/sample - loss: 1.7917\n",
      "Epoch 197/1000\n",
      "30000/30000 [==============================] - 0s 12us/sample - loss: 1.7918\n",
      "Epoch 198/1000\n",
      "30000/30000 [==============================] - 0s 14us/sample - loss: 1.7927\n",
      "Epoch 199/1000\n",
      "30000/30000 [==============================] - 0s 11us/sample - loss: 1.7921\n",
      "Epoch 200/1000\n",
      "30000/30000 [==============================] - 0s 12us/sample - loss: 1.7938\n",
      "Epoch 201/1000\n",
      "30000/30000 [==============================] - 0s 13us/sample - loss: 1.7936\n",
      "Epoch 202/1000\n",
      "30000/30000 [==============================] - 1s 21us/sample - loss: 1.7920\n",
      "Epoch 203/1000\n",
      "30000/30000 [==============================] - 0s 11us/sample - loss: 1.7919\n",
      "Epoch 204/1000\n",
      "30000/30000 [==============================] - 0s 11us/sample - loss: 1.7901\n",
      "Epoch 205/1000\n",
      "30000/30000 [==============================] - 0s 11us/sample - loss: 1.7903\n",
      "Epoch 206/1000\n",
      "30000/30000 [==============================] - 0s 11us/sample - loss: 1.7899\n",
      "Epoch 207/1000\n",
      "30000/30000 [==============================] - 0s 12us/sample - loss: 1.7918\n",
      "Epoch 208/1000\n",
      "30000/30000 [==============================] - 0s 14us/sample - loss: 1.7931\n",
      "Epoch 209/1000\n",
      "30000/30000 [==============================] - 0s 10us/sample - loss: 1.7907\n",
      "Epoch 210/1000\n",
      "30000/30000 [==============================] - 0s 11us/sample - loss: 1.7889\n",
      "Epoch 211/1000\n",
      "30000/30000 [==============================] - 0s 15us/sample - loss: 1.7906\n",
      "Epoch 212/1000\n",
      "30000/30000 [==============================] - 1s 19us/sample - loss: 1.7905\n",
      "Epoch 213/1000\n",
      "30000/30000 [==============================] - 0s 11us/sample - loss: 1.7887\n",
      "Epoch 214/1000\n",
      "30000/30000 [==============================] - 0s 11us/sample - loss: 1.7916\n",
      "Epoch 215/1000\n",
      "30000/30000 [==============================] - 0s 11us/sample - loss: 1.7905\n",
      "Epoch 216/1000\n",
      "30000/30000 [==============================] - 0s 14us/sample - loss: 1.7907\n",
      "Epoch 217/1000\n",
      "30000/30000 [==============================] - 0s 14us/sample - loss: 1.7921\n",
      "Epoch 218/1000\n",
      "30000/30000 [==============================] - 0s 11us/sample - loss: 1.7918\n",
      "Epoch 219/1000\n",
      "30000/30000 [==============================] - 0s 11us/sample - loss: 1.7935\n",
      "Epoch 220/1000\n",
      "30000/30000 [==============================] - 0s 12us/sample - loss: 1.7915\n",
      "Epoch 221/1000\n",
      "30000/30000 [==============================] - 0s 13us/sample - loss: 1.7935\n",
      "Epoch 222/1000\n",
      "30000/30000 [==============================] - 0s 15us/sample - loss: 1.7944\n",
      "Epoch 223/1000\n",
      "30000/30000 [==============================] - 0s 10us/sample - loss: 1.7924\n",
      "Epoch 224/1000\n",
      "30000/30000 [==============================] - 0s 11us/sample - loss: 1.7935\n",
      "Epoch 225/1000\n",
      "30000/30000 [==============================] - 0s 11us/sample - loss: 1.7927\n",
      "Epoch 226/1000\n",
      "30000/30000 [==============================] - 0s 12us/sample - loss: 1.7915\n",
      "Epoch 227/1000\n",
      "30000/30000 [==============================] - 0s 15us/sample - loss: 1.7907\n",
      "Epoch 228/1000\n",
      "30000/30000 [==============================] - 0s 11us/sample - loss: 1.7912\n",
      "Epoch 229/1000\n",
      "30000/30000 [==============================] - 0s 11us/sample - loss: 1.7918\n",
      "Epoch 230/1000\n",
      "30000/30000 [==============================] - 0s 12us/sample - loss: 1.7898\n",
      "Epoch 231/1000\n",
      "30000/30000 [==============================] - 0s 11us/sample - loss: 1.7898\n",
      "Epoch 232/1000\n",
      "30000/30000 [==============================] - 0s 12us/sample - loss: 1.7895\n",
      "Epoch 233/1000\n",
      "30000/30000 [==============================] - 0s 12us/sample - loss: 1.7884\n",
      "Epoch 234/1000\n",
      "30000/30000 [==============================] - 0s 11us/sample - loss: 1.7884\n",
      "Epoch 235/1000\n",
      "30000/30000 [==============================] - 0s 11us/sample - loss: 1.7859\n",
      "Epoch 236/1000\n",
      "30000/30000 [==============================] - 0s 11us/sample - loss: 1.7862\n",
      "Epoch 237/1000\n",
      "30000/30000 [==============================] - 0s 15us/sample - loss: 1.7892\n",
      "Epoch 238/1000\n",
      "30000/30000 [==============================] - 0s 11us/sample - loss: 1.7906\n",
      "Epoch 239/1000\n",
      "30000/30000 [==============================] - 0s 11us/sample - loss: 1.7896\n",
      "Epoch 240/1000\n",
      "30000/30000 [==============================] - 0s 11us/sample - loss: 1.7891\n",
      "Epoch 241/1000\n",
      "30000/30000 [==============================] - 0s 12us/sample - loss: 1.7903\n",
      "Epoch 242/1000\n",
      "30000/30000 [==============================] - 0s 11us/sample - loss: 1.7898\n",
      "Epoch 243/1000\n",
      "30000/30000 [==============================] - 0s 11us/sample - loss: 1.7896\n",
      "Epoch 244/1000\n",
      "30000/30000 [==============================] - 0s 11us/sample - loss: 1.7880\n",
      "Epoch 245/1000\n",
      "30000/30000 [==============================] - 0s 11us/sample - loss: 1.7873\n",
      "Epoch 246/1000\n",
      "30000/30000 [==============================] - 0s 11us/sample - loss: 1.7863\n",
      "Epoch 247/1000\n",
      "30000/30000 [==============================] - 0s 11us/sample - loss: 1.7864\n",
      "Epoch 248/1000\n",
      "30000/30000 [==============================] - 0s 11us/sample - loss: 1.7854\n",
      "Epoch 249/1000\n",
      "30000/30000 [==============================] - 0s 11us/sample - loss: 1.7853\n",
      "Epoch 250/1000\n",
      "30000/30000 [==============================] - 0s 11us/sample - loss: 1.7846\n",
      "Epoch 251/1000\n",
      "30000/30000 [==============================] - 0s 11us/sample - loss: 1.7830\n",
      "Epoch 252/1000\n",
      "30000/30000 [==============================] - 0s 11us/sample - loss: 1.7837\n",
      "Epoch 253/1000\n",
      "30000/30000 [==============================] - 0s 12us/sample - loss: 1.7831\n",
      "Epoch 254/1000\n",
      "30000/30000 [==============================] - 0s 12us/sample - loss: 1.7813\n",
      "Epoch 255/1000\n",
      "30000/30000 [==============================] - 0s 11us/sample - loss: 1.7826\n",
      "Epoch 256/1000\n",
      "30000/30000 [==============================] - 0s 11us/sample - loss: 1.7824\n",
      "Epoch 257/1000\n",
      "30000/30000 [==============================] - 0s 11us/sample - loss: 1.7828\n",
      "Epoch 258/1000\n",
      "30000/30000 [==============================] - 0s 11us/sample - loss: 1.7798\n",
      "Epoch 259/1000\n",
      "30000/30000 [==============================] - 0s 11us/sample - loss: 1.7799\n",
      "Epoch 260/1000\n",
      "30000/30000 [==============================] - 0s 11us/sample - loss: 1.7810\n",
      "Epoch 261/1000\n",
      "30000/30000 [==============================] - 0s 12us/sample - loss: 1.7810\n",
      "Epoch 262/1000\n",
      "30000/30000 [==============================] - 0s 11us/sample - loss: 1.7811\n",
      "Epoch 263/1000\n",
      "30000/30000 [==============================] - 0s 11us/sample - loss: 1.7811\n",
      "Epoch 264/1000\n",
      "30000/30000 [==============================] - 0s 12us/sample - loss: 1.7798\n",
      "Epoch 265/1000\n",
      "30000/30000 [==============================] - 0s 11us/sample - loss: 1.7788\n",
      "Epoch 266/1000\n",
      "30000/30000 [==============================] - 0s 12us/sample - loss: 1.7784\n",
      "Epoch 267/1000\n",
      "30000/30000 [==============================] - 0s 11us/sample - loss: 1.7788\n",
      "Epoch 268/1000\n"
     ]
    },
    {
     "name": "stdout",
     "output_type": "stream",
     "text": [
      "30000/30000 [==============================] - 0s 11us/sample - loss: 1.7800\n",
      "Epoch 269/1000\n",
      "30000/30000 [==============================] - 0s 11us/sample - loss: 1.7806\n",
      "Epoch 270/1000\n",
      "30000/30000 [==============================] - 0s 11us/sample - loss: 1.7800\n",
      "Epoch 271/1000\n",
      "30000/30000 [==============================] - 0s 12us/sample - loss: 1.7809\n",
      "Epoch 272/1000\n",
      "30000/30000 [==============================] - 0s 12us/sample - loss: 1.7800\n",
      "Epoch 273/1000\n",
      "30000/30000 [==============================] - 0s 11us/sample - loss: 1.7801\n",
      "Epoch 274/1000\n",
      "30000/30000 [==============================] - 0s 11us/sample - loss: 1.7798\n",
      "Epoch 275/1000\n",
      "30000/30000 [==============================] - 0s 11us/sample - loss: 1.7811\n",
      "Epoch 276/1000\n",
      "30000/30000 [==============================] - 0s 12us/sample - loss: 1.7813\n",
      "Epoch 277/1000\n",
      "30000/30000 [==============================] - 0s 11us/sample - loss: 1.7812\n",
      "Epoch 278/1000\n",
      "30000/30000 [==============================] - 0s 12us/sample - loss: 1.7841\n",
      "Epoch 279/1000\n",
      "30000/30000 [==============================] - 0s 11us/sample - loss: 1.7843\n",
      "Epoch 280/1000\n",
      "30000/30000 [==============================] - 0s 11us/sample - loss: 1.7866\n",
      "Epoch 281/1000\n",
      "30000/30000 [==============================] - 0s 14us/sample - loss: 1.7832\n",
      "Epoch 282/1000\n",
      "30000/30000 [==============================] - 0s 11us/sample - loss: 1.7834\n",
      "Epoch 283/1000\n",
      "30000/30000 [==============================] - 0s 11us/sample - loss: 1.7853\n",
      "Epoch 284/1000\n",
      "30000/30000 [==============================] - 0s 11us/sample - loss: 1.7864\n",
      "Epoch 285/1000\n",
      "30000/30000 [==============================] - 0s 14us/sample - loss: 1.7877\n",
      "Epoch 286/1000\n",
      "30000/30000 [==============================] - 0s 15us/sample - loss: 1.7859\n",
      "Epoch 287/1000\n",
      "30000/30000 [==============================] - 0s 11us/sample - loss: 1.7829\n",
      "Epoch 288/1000\n",
      "30000/30000 [==============================] - 0s 11us/sample - loss: 1.7822\n",
      "Epoch 289/1000\n",
      "30000/30000 [==============================] - 0s 12us/sample - loss: 1.7801\n",
      "Epoch 290/1000\n",
      "30000/30000 [==============================] - 0s 14us/sample - loss: 1.7782\n",
      "Epoch 291/1000\n",
      "30000/30000 [==============================] - 0s 11us/sample - loss: 1.7769\n",
      "Epoch 292/1000\n",
      "30000/30000 [==============================] - 0s 11us/sample - loss: 1.7753\n",
      "Epoch 293/1000\n",
      "30000/30000 [==============================] - 0s 11us/sample - loss: 1.7753\n",
      "Epoch 294/1000\n",
      "30000/30000 [==============================] - 0s 11us/sample - loss: 1.7774\n",
      "Epoch 295/1000\n",
      "30000/30000 [==============================] - 0s 12us/sample - loss: 1.7788\n",
      "Epoch 296/1000\n",
      "30000/30000 [==============================] - 0s 14us/sample - loss: 1.7803\n",
      "Epoch 297/1000\n",
      "30000/30000 [==============================] - 0s 12us/sample - loss: 1.7799\n",
      "Epoch 298/1000\n",
      "30000/30000 [==============================] - 0s 12us/sample - loss: 1.7799\n",
      "Epoch 299/1000\n",
      "30000/30000 [==============================] - 0s 12us/sample - loss: 1.7799\n",
      "Epoch 300/1000\n",
      "30000/30000 [==============================] - 0s 13us/sample - loss: 1.7811\n",
      "Epoch 301/1000\n",
      "30000/30000 [==============================] - 0s 12us/sample - loss: 1.7772\n",
      "Epoch 302/1000\n",
      "30000/30000 [==============================] - 0s 11us/sample - loss: 1.7763\n",
      "Epoch 303/1000\n",
      "30000/30000 [==============================] - 0s 11us/sample - loss: 1.7737\n",
      "Epoch 304/1000\n",
      "30000/30000 [==============================] - 0s 11us/sample - loss: 1.7741\n",
      "Epoch 305/1000\n",
      "30000/30000 [==============================] - 0s 16us/sample - loss: 1.7732\n",
      "Epoch 306/1000\n",
      "30000/30000 [==============================] - 0s 12us/sample - loss: 1.7743\n",
      "Epoch 307/1000\n",
      "30000/30000 [==============================] - 0s 11us/sample - loss: 1.7736\n",
      "Epoch 308/1000\n",
      "30000/30000 [==============================] - 0s 11us/sample - loss: 1.7734\n",
      "Epoch 309/1000\n",
      "30000/30000 [==============================] - 0s 11us/sample - loss: 1.7736\n",
      "Epoch 310/1000\n",
      "30000/30000 [==============================] - 1s 19us/sample - loss: 1.7732\n",
      "Epoch 311/1000\n",
      "30000/30000 [==============================] - 0s 12us/sample - loss: 1.7761\n",
      "Epoch 312/1000\n",
      "30000/30000 [==============================] - 0s 11us/sample - loss: 1.7747\n",
      "Epoch 313/1000\n",
      "30000/30000 [==============================] - 0s 12us/sample - loss: 1.7759\n",
      "Epoch 314/1000\n",
      "30000/30000 [==============================] - 0s 13us/sample - loss: 1.7778\n",
      "Epoch 315/1000\n",
      "30000/30000 [==============================] - 1s 18us/sample - loss: 1.7772\n",
      "Epoch 316/1000\n",
      "30000/30000 [==============================] - 0s 11us/sample - loss: 1.7755\n",
      "Epoch 317/1000\n",
      "30000/30000 [==============================] - 0s 11us/sample - loss: 1.7767\n",
      "Epoch 318/1000\n",
      "30000/30000 [==============================] - 0s 11us/sample - loss: 1.7761\n",
      "Epoch 319/1000\n",
      "30000/30000 [==============================] - 0s 10us/sample - loss: 1.7760\n",
      "Epoch 320/1000\n",
      "30000/30000 [==============================] - 0s 13us/sample - loss: 1.7756\n",
      "Epoch 321/1000\n",
      "30000/30000 [==============================] - 0s 12us/sample - loss: 1.7764\n",
      "Epoch 322/1000\n",
      "30000/30000 [==============================] - 0s 12us/sample - loss: 1.7759\n",
      "Epoch 323/1000\n",
      "30000/30000 [==============================] - 0s 11us/sample - loss: 1.7748\n",
      "Epoch 324/1000\n",
      "30000/30000 [==============================] - 0s 10us/sample - loss: 1.7751\n",
      "Epoch 325/1000\n",
      "30000/30000 [==============================] - 0s 12us/sample - loss: 1.7744\n",
      "Epoch 326/1000\n",
      "30000/30000 [==============================] - 0s 11us/sample - loss: 1.7730\n",
      "Epoch 327/1000\n",
      "30000/30000 [==============================] - 0s 11us/sample - loss: 1.7736\n",
      "Epoch 328/1000\n",
      "30000/30000 [==============================] - 0s 11us/sample - loss: 1.7748\n",
      "Epoch 329/1000\n",
      "30000/30000 [==============================] - 0s 11us/sample - loss: 1.7757\n",
      "Epoch 330/1000\n",
      "30000/30000 [==============================] - 0s 11us/sample - loss: 1.7738\n",
      "Epoch 331/1000\n",
      "30000/30000 [==============================] - 0s 11us/sample - loss: 1.7713\n",
      "Epoch 332/1000\n",
      "30000/30000 [==============================] - 0s 11us/sample - loss: 1.7709\n",
      "Epoch 333/1000\n",
      "30000/30000 [==============================] - 0s 11us/sample - loss: 1.7724\n",
      "Epoch 334/1000\n",
      "30000/30000 [==============================] - 0s 11us/sample - loss: 1.7710\n",
      "Epoch 335/1000\n",
      "30000/30000 [==============================] - 0s 11us/sample - loss: 1.7719\n",
      "Epoch 336/1000\n",
      "30000/30000 [==============================] - 0s 11us/sample - loss: 1.7691\n",
      "Epoch 337/1000\n",
      "30000/30000 [==============================] - 0s 10us/sample - loss: 1.7701\n",
      "Epoch 338/1000\n",
      "30000/30000 [==============================] - 0s 12us/sample - loss: 1.7696\n",
      "Epoch 339/1000\n",
      "30000/30000 [==============================] - 0s 11us/sample - loss: 1.7703\n",
      "Epoch 340/1000\n",
      "30000/30000 [==============================] - 0s 11us/sample - loss: 1.7725\n",
      "Epoch 341/1000\n",
      "30000/30000 [==============================] - 0s 10us/sample - loss: 1.7738\n",
      "Epoch 342/1000\n",
      "30000/30000 [==============================] - 0s 11us/sample - loss: 1.7752\n",
      "Epoch 343/1000\n",
      "30000/30000 [==============================] - 0s 11us/sample - loss: 1.7757\n",
      "Epoch 344/1000\n",
      "30000/30000 [==============================] - 0s 12us/sample - loss: 1.7740\n",
      "Epoch 345/1000\n",
      "30000/30000 [==============================] - 0s 11us/sample - loss: 1.7746\n",
      "Epoch 346/1000\n",
      "30000/30000 [==============================] - 0s 11us/sample - loss: 1.7749\n",
      "Epoch 347/1000\n",
      "30000/30000 [==============================] - 0s 12us/sample - loss: 1.7766\n",
      "Epoch 348/1000\n",
      "30000/30000 [==============================] - 0s 12us/sample - loss: 1.7772\n",
      "Epoch 349/1000\n",
      "30000/30000 [==============================] - 0s 11us/sample - loss: 1.7738\n",
      "Epoch 350/1000\n",
      "30000/30000 [==============================] - 0s 11us/sample - loss: 1.7731\n",
      "Epoch 351/1000\n",
      "30000/30000 [==============================] - 0s 11us/sample - loss: 1.7722\n",
      "Epoch 352/1000\n",
      "30000/30000 [==============================] - 0s 11us/sample - loss: 1.7708\n",
      "Epoch 353/1000\n",
      "30000/30000 [==============================] - 0s 11us/sample - loss: 1.7697\n",
      "Epoch 354/1000\n",
      "30000/30000 [==============================] - 0s 11us/sample - loss: 1.7692\n",
      "Epoch 355/1000\n",
      "30000/30000 [==============================] - 0s 12us/sample - loss: 1.7686\n",
      "Epoch 356/1000\n",
      "30000/30000 [==============================] - 0s 12us/sample - loss: 1.7721\n",
      "Epoch 357/1000\n"
     ]
    },
    {
     "name": "stdout",
     "output_type": "stream",
     "text": [
      "30000/30000 [==============================] - 0s 12us/sample - loss: 1.7717\n",
      "Epoch 358/1000\n",
      "30000/30000 [==============================] - 0s 11us/sample - loss: 1.7727\n",
      "Epoch 359/1000\n",
      "30000/30000 [==============================] - 0s 12us/sample - loss: 1.7705\n",
      "Epoch 360/1000\n",
      "30000/30000 [==============================] - 0s 11us/sample - loss: 1.7698\n",
      "Epoch 361/1000\n",
      "30000/30000 [==============================] - 0s 12us/sample - loss: 1.7708\n",
      "Epoch 362/1000\n",
      "30000/30000 [==============================] - 0s 12us/sample - loss: 1.7708\n",
      "Epoch 363/1000\n",
      "30000/30000 [==============================] - 1s 19us/sample - loss: 1.7712\n",
      "Epoch 364/1000\n",
      "30000/30000 [==============================] - 0s 11us/sample - loss: 1.7699\n",
      "Epoch 365/1000\n",
      "30000/30000 [==============================] - 0s 11us/sample - loss: 1.7687\n",
      "Epoch 366/1000\n",
      "30000/30000 [==============================] - 0s 12us/sample - loss: 1.7693\n",
      "Epoch 367/1000\n",
      "30000/30000 [==============================] - 0s 14us/sample - loss: 1.7701\n",
      "Epoch 368/1000\n",
      "30000/30000 [==============================] - 1s 17us/sample - loss: 1.7684\n",
      "Epoch 369/1000\n",
      "30000/30000 [==============================] - 0s 11us/sample - loss: 1.7683\n",
      "Epoch 370/1000\n",
      "30000/30000 [==============================] - 0s 11us/sample - loss: 1.7665\n",
      "Epoch 371/1000\n",
      "30000/30000 [==============================] - 0s 11us/sample - loss: 1.7667\n",
      "Epoch 372/1000\n",
      "30000/30000 [==============================] - 0s 15us/sample - loss: 1.7661\n",
      "Epoch 373/1000\n",
      "30000/30000 [==============================] - 0s 14us/sample - loss: 1.7669\n",
      "Epoch 374/1000\n",
      "30000/30000 [==============================] - 0s 12us/sample - loss: 1.7657\n",
      "Epoch 375/1000\n",
      "30000/30000 [==============================] - 0s 12us/sample - loss: 1.7666\n",
      "Epoch 376/1000\n",
      "30000/30000 [==============================] - 0s 12us/sample - loss: 1.7656\n",
      "Epoch 377/1000\n",
      "30000/30000 [==============================] - 0s 14us/sample - loss: 1.7669\n",
      "Epoch 378/1000\n",
      "30000/30000 [==============================] - 0s 12us/sample - loss: 1.7640\n",
      "Epoch 379/1000\n",
      "30000/30000 [==============================] - 0s 11us/sample - loss: 1.7640\n",
      "Epoch 380/1000\n",
      "30000/30000 [==============================] - 0s 11us/sample - loss: 1.7653\n",
      "Epoch 381/1000\n",
      "30000/30000 [==============================] - 0s 11us/sample - loss: 1.7658\n",
      "Epoch 382/1000\n",
      "30000/30000 [==============================] - 1s 17us/sample - loss: 1.7663\n",
      "Epoch 383/1000\n",
      "30000/30000 [==============================] - 0s 11us/sample - loss: 1.7661\n",
      "Epoch 384/1000\n",
      "30000/30000 [==============================] - 0s 11us/sample - loss: 1.7659\n",
      "Epoch 385/1000\n",
      "30000/30000 [==============================] - 0s 11us/sample - loss: 1.7682\n",
      "Epoch 386/1000\n",
      "30000/30000 [==============================] - 0s 12us/sample - loss: 1.7680\n",
      "Epoch 387/1000\n",
      "30000/30000 [==============================] - 1s 18us/sample - loss: 1.7666\n",
      "Epoch 388/1000\n",
      "30000/30000 [==============================] - 0s 11us/sample - loss: 1.7679\n",
      "Epoch 389/1000\n",
      "30000/30000 [==============================] - 0s 11us/sample - loss: 1.7677\n",
      "Epoch 390/1000\n",
      "30000/30000 [==============================] - 0s 10us/sample - loss: 1.7684\n",
      "Epoch 391/1000\n",
      "30000/30000 [==============================] - 0s 12us/sample - loss: 1.7655\n",
      "Epoch 392/1000\n",
      "30000/30000 [==============================] - 1s 18us/sample - loss: 1.7637\n",
      "Epoch 393/1000\n",
      "30000/30000 [==============================] - 0s 11us/sample - loss: 1.7653\n",
      "Epoch 394/1000\n",
      "30000/30000 [==============================] - 0s 11us/sample - loss: 1.7639\n",
      "Epoch 395/1000\n",
      "30000/30000 [==============================] - 0s 11us/sample - loss: 1.7621\n",
      "Epoch 396/1000\n",
      "30000/30000 [==============================] - 0s 12us/sample - loss: 1.7638\n",
      "Epoch 397/1000\n",
      "30000/30000 [==============================] - 0s 15us/sample - loss: 1.7655\n",
      "Epoch 398/1000\n",
      "30000/30000 [==============================] - 0s 11us/sample - loss: 1.7637\n",
      "Epoch 399/1000\n",
      "30000/30000 [==============================] - 0s 11us/sample - loss: 1.7638\n",
      "Epoch 400/1000\n",
      "30000/30000 [==============================] - 0s 12us/sample - loss: 1.7633\n",
      "Epoch 401/1000\n",
      "30000/30000 [==============================] - 0s 11us/sample - loss: 1.7651\n",
      "Epoch 402/1000\n",
      "30000/30000 [==============================] - 0s 11us/sample - loss: 1.7648\n",
      "Epoch 403/1000\n",
      "30000/30000 [==============================] - 0s 12us/sample - loss: 1.7658\n",
      "Epoch 404/1000\n",
      "30000/30000 [==============================] - 0s 12us/sample - loss: 1.7644\n",
      "Epoch 405/1000\n",
      "30000/30000 [==============================] - 0s 10us/sample - loss: 1.7642\n",
      "Epoch 406/1000\n",
      "30000/30000 [==============================] - 0s 11us/sample - loss: 1.7650\n",
      "Epoch 407/1000\n",
      "30000/30000 [==============================] - 0s 11us/sample - loss: 1.7662\n",
      "Epoch 408/1000\n",
      "30000/30000 [==============================] - 0s 11us/sample - loss: 1.7658\n",
      "Epoch 409/1000\n",
      "30000/30000 [==============================] - 0s 11us/sample - loss: 1.7666\n",
      "Epoch 410/1000\n",
      "30000/30000 [==============================] - 0s 11us/sample - loss: 1.7660\n",
      "Epoch 411/1000\n",
      "30000/30000 [==============================] - 0s 10us/sample - loss: 1.7666\n",
      "Epoch 412/1000\n",
      "30000/30000 [==============================] - 0s 11us/sample - loss: 1.7655\n",
      "Epoch 413/1000\n",
      "30000/30000 [==============================] - 0s 12us/sample - loss: 1.7648\n",
      "Epoch 414/1000\n",
      "30000/30000 [==============================] - 0s 11us/sample - loss: 1.7636\n",
      "Epoch 415/1000\n",
      "30000/30000 [==============================] - 0s 11us/sample - loss: 1.7636\n",
      "Epoch 416/1000\n",
      "30000/30000 [==============================] - 0s 12us/sample - loss: 1.7635\n",
      "Epoch 417/1000\n",
      "30000/30000 [==============================] - 0s 12us/sample - loss: 1.7627\n",
      "Epoch 418/1000\n",
      "30000/30000 [==============================] - 0s 12us/sample - loss: 1.7622\n",
      "Epoch 419/1000\n",
      "30000/30000 [==============================] - 0s 12us/sample - loss: 1.7631\n",
      "Epoch 420/1000\n",
      "30000/30000 [==============================] - 0s 12us/sample - loss: 1.7627\n",
      "Epoch 421/1000\n",
      "30000/30000 [==============================] - 0s 11us/sample - loss: 1.7601\n",
      "Epoch 422/1000\n",
      "30000/30000 [==============================] - 0s 11us/sample - loss: 1.7603\n",
      "Epoch 423/1000\n",
      "30000/30000 [==============================] - 0s 12us/sample - loss: 1.7604\n",
      "Epoch 424/1000\n",
      "30000/30000 [==============================] - 0s 11us/sample - loss: 1.7581\n",
      "Epoch 425/1000\n",
      "30000/30000 [==============================] - 0s 12us/sample - loss: 1.7586\n",
      "Epoch 426/1000\n",
      "30000/30000 [==============================] - 0s 12us/sample - loss: 1.7601\n",
      "Epoch 427/1000\n",
      "30000/30000 [==============================] - 0s 11us/sample - loss: 1.7601\n",
      "Epoch 428/1000\n",
      "30000/30000 [==============================] - 0s 11us/sample - loss: 1.7625\n",
      "Epoch 429/1000\n",
      "30000/30000 [==============================] - 0s 11us/sample - loss: 1.7619\n",
      "Epoch 430/1000\n",
      "30000/30000 [==============================] - 0s 11us/sample - loss: 1.7607\n",
      "Epoch 431/1000\n",
      "30000/30000 [==============================] - 0s 11us/sample - loss: 1.7620\n",
      "Epoch 432/1000\n",
      "30000/30000 [==============================] - 0s 11us/sample - loss: 1.7634\n",
      "Epoch 433/1000\n",
      "30000/30000 [==============================] - 0s 12us/sample - loss: 1.7643\n",
      "Epoch 434/1000\n",
      "30000/30000 [==============================] - 0s 11us/sample - loss: 1.7631\n",
      "Epoch 435/1000\n",
      "30000/30000 [==============================] - 0s 12us/sample - loss: 1.7629\n",
      "Epoch 436/1000\n",
      "30000/30000 [==============================] - 0s 11us/sample - loss: 1.7641\n",
      "Epoch 437/1000\n",
      "30000/30000 [==============================] - 0s 11us/sample - loss: 1.7671\n",
      "Epoch 438/1000\n",
      "30000/30000 [==============================] - 0s 12us/sample - loss: 1.7677\n",
      "Epoch 439/1000\n",
      "30000/30000 [==============================] - 0s 11us/sample - loss: 1.7660\n",
      "Epoch 440/1000\n",
      "30000/30000 [==============================] - 0s 13us/sample - loss: 1.7657\n",
      "Epoch 441/1000\n",
      "30000/30000 [==============================] - 0s 11us/sample - loss: 1.7623\n",
      "Epoch 442/1000\n",
      "30000/30000 [==============================] - 0s 12us/sample - loss: 1.7627\n",
      "Epoch 443/1000\n",
      "30000/30000 [==============================] - 0s 12us/sample - loss: 1.7600\n",
      "Epoch 444/1000\n",
      "30000/30000 [==============================] - 0s 12us/sample - loss: 1.7607\n",
      "Epoch 445/1000\n",
      "30000/30000 [==============================] - 1s 25us/sample - loss: 1.7608\n",
      "Epoch 446/1000\n"
     ]
    },
    {
     "name": "stdout",
     "output_type": "stream",
     "text": [
      "30000/30000 [==============================] - 0s 11us/sample - loss: 1.7603\n",
      "Epoch 447/1000\n",
      "30000/30000 [==============================] - 0s 12us/sample - loss: 1.7605\n",
      "Epoch 448/1000\n",
      "30000/30000 [==============================] - 0s 12us/sample - loss: 1.7625\n",
      "Epoch 449/1000\n",
      "30000/30000 [==============================] - 0s 14us/sample - loss: 1.7622\n",
      "Epoch 450/1000\n",
      "30000/30000 [==============================] - 0s 11us/sample - loss: 1.7610\n",
      "Epoch 451/1000\n",
      "30000/30000 [==============================] - 0s 11us/sample - loss: 1.7604\n",
      "Epoch 452/1000\n",
      "30000/30000 [==============================] - 0s 12us/sample - loss: 1.7589\n",
      "Epoch 453/1000\n",
      "30000/30000 [==============================] - 0s 12us/sample - loss: 1.7589\n",
      "Epoch 454/1000\n",
      "30000/30000 [==============================] - 0s 13us/sample - loss: 1.7583\n",
      "Epoch 455/1000\n",
      "30000/30000 [==============================] - 1s 17us/sample - loss: 1.7580\n",
      "Epoch 456/1000\n",
      "30000/30000 [==============================] - 0s 11us/sample - loss: 1.7591\n",
      "Epoch 457/1000\n",
      "30000/30000 [==============================] - 0s 11us/sample - loss: 1.7583\n",
      "Epoch 458/1000\n",
      "30000/30000 [==============================] - 0s 11us/sample - loss: 1.7590\n",
      "Epoch 459/1000\n",
      "30000/30000 [==============================] - 0s 11us/sample - loss: 1.7597\n",
      "Epoch 460/1000\n",
      "30000/30000 [==============================] - 0s 14us/sample - loss: 1.7595\n",
      "Epoch 461/1000\n",
      "30000/30000 [==============================] - 0s 12us/sample - loss: 1.7603\n",
      "Epoch 462/1000\n",
      "30000/30000 [==============================] - 0s 11us/sample - loss: 1.7608\n",
      "Epoch 463/1000\n",
      "30000/30000 [==============================] - 0s 10us/sample - loss: 1.7597\n",
      "Epoch 464/1000\n",
      "30000/30000 [==============================] - 0s 13us/sample - loss: 1.7594\n",
      "Epoch 465/1000\n",
      "30000/30000 [==============================] - 0s 16us/sample - loss: 1.7579\n",
      "Epoch 466/1000\n",
      "30000/30000 [==============================] - 0s 12us/sample - loss: 1.7593\n",
      "Epoch 467/1000\n",
      "30000/30000 [==============================] - 0s 11us/sample - loss: 1.7589\n",
      "Epoch 468/1000\n",
      "30000/30000 [==============================] - 0s 11us/sample - loss: 1.7588\n",
      "Epoch 469/1000\n",
      "30000/30000 [==============================] - 0s 13us/sample - loss: 1.7575\n",
      "Epoch 470/1000\n",
      "30000/30000 [==============================] - 1s 17us/sample - loss: 1.7567\n",
      "Epoch 471/1000\n",
      "30000/30000 [==============================] - 0s 12us/sample - loss: 1.7564\n",
      "Epoch 472/1000\n",
      "30000/30000 [==============================] - 0s 10us/sample - loss: 1.7563\n",
      "Epoch 473/1000\n",
      "30000/30000 [==============================] - 0s 10us/sample - loss: 1.7569\n",
      "Epoch 474/1000\n",
      "30000/30000 [==============================] - 1s 19us/sample - loss: 1.7551\n",
      "Epoch 475/1000\n",
      "30000/30000 [==============================] - 0s 15us/sample - loss: 1.7566\n",
      "Epoch 476/1000\n",
      "30000/30000 [==============================] - 0s 12us/sample - loss: 1.7575\n",
      "Epoch 477/1000\n",
      "30000/30000 [==============================] - 0s 11us/sample - loss: 1.7563\n",
      "Epoch 478/1000\n",
      "30000/30000 [==============================] - 0s 12us/sample - loss: 1.7576\n",
      "Epoch 479/1000\n",
      "30000/30000 [==============================] - 0s 13us/sample - loss: 1.7570\n",
      "Epoch 480/1000\n",
      "30000/30000 [==============================] - 0s 11us/sample - loss: 1.7575\n",
      "Epoch 481/1000\n",
      "30000/30000 [==============================] - 0s 12us/sample - loss: 1.7553\n",
      "Epoch 482/1000\n",
      "30000/30000 [==============================] - 0s 11us/sample - loss: 1.7562\n",
      "Epoch 483/1000\n",
      "30000/30000 [==============================] - 0s 12us/sample - loss: 1.7559\n",
      "Epoch 484/1000\n",
      "30000/30000 [==============================] - 0s 11us/sample - loss: 1.7541\n",
      "Epoch 485/1000\n",
      "30000/30000 [==============================] - 0s 11us/sample - loss: 1.7544\n",
      "Epoch 486/1000\n",
      "30000/30000 [==============================] - 0s 11us/sample - loss: 1.7541\n",
      "Epoch 487/1000\n",
      "30000/30000 [==============================] - 0s 12us/sample - loss: 1.7555\n",
      "Epoch 488/1000\n",
      "30000/30000 [==============================] - 0s 11us/sample - loss: 1.7581\n",
      "Epoch 489/1000\n",
      "30000/30000 [==============================] - 0s 11us/sample - loss: 1.7567\n",
      "Epoch 490/1000\n",
      "30000/30000 [==============================] - 0s 11us/sample - loss: 1.7557\n",
      "Epoch 491/1000\n",
      "30000/30000 [==============================] - 0s 11us/sample - loss: 1.7564\n",
      "Epoch 492/1000\n",
      "30000/30000 [==============================] - 0s 11us/sample - loss: 1.7554\n",
      "Epoch 493/1000\n",
      "30000/30000 [==============================] - 0s 11us/sample - loss: 1.7533\n",
      "Epoch 494/1000\n",
      "30000/30000 [==============================] - 0s 12us/sample - loss: 1.7531\n",
      "Epoch 495/1000\n",
      "30000/30000 [==============================] - 0s 12us/sample - loss: 1.7543\n",
      "Epoch 496/1000\n",
      "30000/30000 [==============================] - 0s 12us/sample - loss: 1.7570\n",
      "Epoch 497/1000\n",
      "30000/30000 [==============================] - 0s 12us/sample - loss: 1.7550\n",
      "Epoch 498/1000\n",
      "30000/30000 [==============================] - 0s 12us/sample - loss: 1.7534\n",
      "Epoch 499/1000\n",
      "30000/30000 [==============================] - 0s 11us/sample - loss: 1.7541\n",
      "Epoch 500/1000\n",
      "30000/30000 [==============================] - 0s 11us/sample - loss: 1.7562\n",
      "Epoch 501/1000\n",
      "30000/30000 [==============================] - 0s 11us/sample - loss: 1.7551\n",
      "Epoch 502/1000\n",
      "30000/30000 [==============================] - 0s 12us/sample - loss: 1.7564\n",
      "Epoch 503/1000\n",
      "30000/30000 [==============================] - 0s 11us/sample - loss: 1.7548\n",
      "Epoch 504/1000\n",
      "30000/30000 [==============================] - 0s 11us/sample - loss: 1.7537\n",
      "Epoch 505/1000\n",
      "30000/30000 [==============================] - 0s 11us/sample - loss: 1.7544\n",
      "Epoch 506/1000\n",
      "30000/30000 [==============================] - 0s 11us/sample - loss: 1.7559\n",
      "Epoch 507/1000\n",
      "30000/30000 [==============================] - 0s 12us/sample - loss: 1.7574\n",
      "Epoch 508/1000\n",
      "30000/30000 [==============================] - 0s 12us/sample - loss: 1.7582\n",
      "Epoch 509/1000\n",
      "30000/30000 [==============================] - 0s 12us/sample - loss: 1.7582\n",
      "Epoch 510/1000\n",
      "30000/30000 [==============================] - 0s 12us/sample - loss: 1.7579\n",
      "Epoch 511/1000\n",
      "30000/30000 [==============================] - 0s 12us/sample - loss: 1.7576\n",
      "Epoch 512/1000\n",
      "30000/30000 [==============================] - 0s 11us/sample - loss: 1.7567\n",
      "Epoch 513/1000\n",
      "30000/30000 [==============================] - 0s 12us/sample - loss: 1.7560\n",
      "Epoch 514/1000\n",
      "30000/30000 [==============================] - 0s 12us/sample - loss: 1.7542\n",
      "Epoch 515/1000\n",
      "30000/30000 [==============================] - 0s 12us/sample - loss: 1.7548\n",
      "Epoch 516/1000\n",
      "30000/30000 [==============================] - 0s 12us/sample - loss: 1.7548\n",
      "Epoch 517/1000\n",
      "30000/30000 [==============================] - 0s 13us/sample - loss: 1.7522\n",
      "Epoch 518/1000\n",
      "30000/30000 [==============================] - 0s 11us/sample - loss: 1.7526\n",
      "Epoch 519/1000\n",
      "30000/30000 [==============================] - 0s 12us/sample - loss: 1.7525\n",
      "Epoch 520/1000\n",
      "30000/30000 [==============================] - 0s 11us/sample - loss: 1.7526\n",
      "Epoch 521/1000\n",
      "30000/30000 [==============================] - 0s 12us/sample - loss: 1.7539\n",
      "Epoch 522/1000\n",
      "30000/30000 [==============================] - 0s 14us/sample - loss: 1.7550\n",
      "Epoch 523/1000\n",
      "30000/30000 [==============================] - 0s 14us/sample - loss: 1.7561\n",
      "Epoch 524/1000\n",
      "30000/30000 [==============================] - 0s 12us/sample - loss: 1.7553\n",
      "Epoch 525/1000\n",
      "30000/30000 [==============================] - 0s 12us/sample - loss: 1.7554\n",
      "Epoch 526/1000\n",
      "30000/30000 [==============================] - 0s 11us/sample - loss: 1.7559\n",
      "Epoch 527/1000\n",
      "30000/30000 [==============================] - 0s 14us/sample - loss: 1.7542\n",
      "Epoch 528/1000\n",
      "30000/30000 [==============================] - 0s 12us/sample - loss: 1.7521\n",
      "Epoch 529/1000\n",
      "30000/30000 [==============================] - 0s 11us/sample - loss: 1.7524\n",
      "Epoch 530/1000\n",
      "30000/30000 [==============================] - 0s 12us/sample - loss: 1.7535\n",
      "Epoch 531/1000\n",
      "30000/30000 [==============================] - 0s 12us/sample - loss: 1.7547\n",
      "Epoch 532/1000\n",
      "30000/30000 [==============================] - 0s 14us/sample - loss: 1.7554\n",
      "Epoch 533/1000\n",
      "30000/30000 [==============================] - 0s 12us/sample - loss: 1.7566\n",
      "Epoch 534/1000\n",
      "30000/30000 [==============================] - 0s 12us/sample - loss: 1.7569\n",
      "Epoch 535/1000\n"
     ]
    },
    {
     "name": "stdout",
     "output_type": "stream",
     "text": [
      "30000/30000 [==============================] - 0s 10us/sample - loss: 1.7563\n",
      "Epoch 536/1000\n",
      "30000/30000 [==============================] - 0s 11us/sample - loss: 1.7543\n",
      "Epoch 537/1000\n",
      "30000/30000 [==============================] - 0s 14us/sample - loss: 1.7546\n",
      "Epoch 538/1000\n",
      "30000/30000 [==============================] - 0s 12us/sample - loss: 1.7552\n",
      "Epoch 539/1000\n",
      "30000/30000 [==============================] - 0s 11us/sample - loss: 1.7552\n",
      "Epoch 540/1000\n",
      "30000/30000 [==============================] - 0s 11us/sample - loss: 1.7570\n",
      "Epoch 541/1000\n",
      "30000/30000 [==============================] - 0s 11us/sample - loss: 1.7549\n",
      "Epoch 542/1000\n",
      "30000/30000 [==============================] - 0s 12us/sample - loss: 1.7569\n",
      "Epoch 543/1000\n",
      "30000/30000 [==============================] - 0s 15us/sample - loss: 1.7561\n",
      "Epoch 544/1000\n",
      "30000/30000 [==============================] - 0s 11us/sample - loss: 1.7551\n",
      "Epoch 545/1000\n",
      "30000/30000 [==============================] - 0s 11us/sample - loss: 1.7548\n",
      "Epoch 546/1000\n",
      "30000/30000 [==============================] - 0s 11us/sample - loss: 1.7576\n",
      "Epoch 547/1000\n",
      "30000/30000 [==============================] - 0s 13us/sample - loss: 1.7565\n",
      "Epoch 548/1000\n",
      "30000/30000 [==============================] - 0s 13us/sample - loss: 1.7605\n",
      "Epoch 549/1000\n",
      "30000/30000 [==============================] - 0s 11us/sample - loss: 1.7600\n",
      "Epoch 550/1000\n",
      "30000/30000 [==============================] - 0s 12us/sample - loss: 1.7578\n",
      "Epoch 551/1000\n",
      "30000/30000 [==============================] - 0s 12us/sample - loss: 1.7580\n",
      "Epoch 552/1000\n",
      "30000/30000 [==============================] - 0s 15us/sample - loss: 1.7599\n",
      "Epoch 553/1000\n",
      "30000/30000 [==============================] - 0s 14us/sample - loss: 1.7598\n",
      "Epoch 554/1000\n",
      "30000/30000 [==============================] - 0s 11us/sample - loss: 1.7607\n",
      "Epoch 555/1000\n",
      "30000/30000 [==============================] - 0s 11us/sample - loss: 1.7583\n",
      "Epoch 556/1000\n",
      "30000/30000 [==============================] - 0s 11us/sample - loss: 1.7574\n",
      "Epoch 557/1000\n",
      "30000/30000 [==============================] - 0s 14us/sample - loss: 1.7581\n",
      "Epoch 558/1000\n",
      "30000/30000 [==============================] - 0s 12us/sample - loss: 1.7569\n",
      "Epoch 559/1000\n",
      "30000/30000 [==============================] - 0s 11us/sample - loss: 1.7554\n",
      "Epoch 560/1000\n",
      "30000/30000 [==============================] - 0s 11us/sample - loss: 1.7541\n",
      "Epoch 561/1000\n",
      "30000/30000 [==============================] - 0s 11us/sample - loss: 1.7547\n",
      "Epoch 562/1000\n",
      "30000/30000 [==============================] - 0s 15us/sample - loss: 1.7518\n",
      "Epoch 563/1000\n",
      "30000/30000 [==============================] - 0s 13us/sample - loss: 1.7548\n",
      "Epoch 564/1000\n",
      "30000/30000 [==============================] - 0s 11us/sample - loss: 1.7552\n",
      "Epoch 565/1000\n",
      "30000/30000 [==============================] - 0s 11us/sample - loss: 1.7529\n",
      "Epoch 566/1000\n",
      "30000/30000 [==============================] - 0s 11us/sample - loss: 1.7542\n",
      "Epoch 567/1000\n",
      "30000/30000 [==============================] - 0s 16us/sample - loss: 1.7530\n",
      "Epoch 568/1000\n",
      "30000/30000 [==============================] - 0s 13us/sample - loss: 1.7527\n",
      "Epoch 569/1000\n",
      "30000/30000 [==============================] - 0s 11us/sample - loss: 1.7521\n",
      "Epoch 570/1000\n",
      "30000/30000 [==============================] - 0s 11us/sample - loss: 1.7536\n",
      "Epoch 571/1000\n",
      "30000/30000 [==============================] - 0s 12us/sample - loss: 1.7517\n",
      "Epoch 572/1000\n",
      "30000/30000 [==============================] - 0s 11us/sample - loss: 1.7508\n",
      "Epoch 573/1000\n",
      "30000/30000 [==============================] - 0s 12us/sample - loss: 1.7507\n",
      "Epoch 574/1000\n",
      "30000/30000 [==============================] - 0s 11us/sample - loss: 1.7498\n",
      "Epoch 575/1000\n",
      "30000/30000 [==============================] - 0s 11us/sample - loss: 1.7484\n",
      "Epoch 576/1000\n",
      "30000/30000 [==============================] - 0s 12us/sample - loss: 1.7495\n",
      "Epoch 577/1000\n",
      "30000/30000 [==============================] - 0s 11us/sample - loss: 1.7495\n",
      "Epoch 578/1000\n",
      "30000/30000 [==============================] - 0s 11us/sample - loss: 1.7488\n",
      "Epoch 579/1000\n",
      "30000/30000 [==============================] - 0s 12us/sample - loss: 1.7490\n",
      "Epoch 580/1000\n",
      "30000/30000 [==============================] - 0s 11us/sample - loss: 1.7508\n",
      "Epoch 581/1000\n",
      "30000/30000 [==============================] - 0s 12us/sample - loss: 1.7513\n",
      "Epoch 582/1000\n",
      "30000/30000 [==============================] - 0s 11us/sample - loss: 1.7548\n",
      "Epoch 583/1000\n",
      "30000/30000 [==============================] - 0s 11us/sample - loss: 1.7541\n",
      "Epoch 584/1000\n",
      "30000/30000 [==============================] - 0s 14us/sample - loss: 1.7554\n",
      "Epoch 585/1000\n",
      "30000/30000 [==============================] - 0s 12us/sample - loss: 1.7580\n",
      "Epoch 586/1000\n",
      "30000/30000 [==============================] - 0s 12us/sample - loss: 1.7561\n",
      "Epoch 587/1000\n",
      "30000/30000 [==============================] - 0s 12us/sample - loss: 1.7556\n",
      "Epoch 588/1000\n",
      "30000/30000 [==============================] - 0s 12us/sample - loss: 1.7548\n",
      "Epoch 589/1000\n",
      "30000/30000 [==============================] - 0s 12us/sample - loss: 1.7506\n",
      "Epoch 590/1000\n",
      "30000/30000 [==============================] - 1s 18us/sample - loss: 1.7505\n",
      "Epoch 591/1000\n",
      "30000/30000 [==============================] - 0s 12us/sample - loss: 1.7513\n",
      "Epoch 592/1000\n",
      "30000/30000 [==============================] - 0s 12us/sample - loss: 1.7501\n",
      "Epoch 593/1000\n",
      "30000/30000 [==============================] - 0s 12us/sample - loss: 1.7489\n",
      "Epoch 594/1000\n",
      "30000/30000 [==============================] - 0s 11us/sample - loss: 1.7509\n",
      "Epoch 595/1000\n",
      "30000/30000 [==============================] - 0s 12us/sample - loss: 1.7514\n",
      "Epoch 596/1000\n",
      "30000/30000 [==============================] - 0s 12us/sample - loss: 1.7513\n",
      "Epoch 597/1000\n",
      "30000/30000 [==============================] - 0s 12us/sample - loss: 1.7506\n",
      "Epoch 598/1000\n",
      "30000/30000 [==============================] - 0s 12us/sample - loss: 1.7475\n",
      "Epoch 599/1000\n",
      "30000/30000 [==============================] - 0s 12us/sample - loss: 1.7492\n",
      "Epoch 600/1000\n",
      "30000/30000 [==============================] - 0s 11us/sample - loss: 1.7489\n",
      "Epoch 601/1000\n",
      "30000/30000 [==============================] - 0s 12us/sample - loss: 1.7497\n",
      "Epoch 602/1000\n",
      "30000/30000 [==============================] - 0s 12us/sample - loss: 1.7487\n",
      "Epoch 603/1000\n",
      "30000/30000 [==============================] - 0s 11us/sample - loss: 1.7477\n",
      "Epoch 604/1000\n",
      "30000/30000 [==============================] - 0s 11us/sample - loss: 1.7499\n",
      "Epoch 605/1000\n",
      "30000/30000 [==============================] - 0s 12us/sample - loss: 1.7506\n",
      "Epoch 606/1000\n",
      "30000/30000 [==============================] - 0s 12us/sample - loss: 1.7515\n",
      "Epoch 607/1000\n",
      "30000/30000 [==============================] - 0s 11us/sample - loss: 1.7508\n",
      "Epoch 608/1000\n",
      "30000/30000 [==============================] - 0s 11us/sample - loss: 1.7537\n",
      "Epoch 609/1000\n",
      "30000/30000 [==============================] - 0s 11us/sample - loss: 1.7520\n",
      "Epoch 610/1000\n",
      "30000/30000 [==============================] - 0s 11us/sample - loss: 1.7520\n",
      "Epoch 611/1000\n",
      "30000/30000 [==============================] - 0s 15us/sample - loss: 1.7514\n",
      "Epoch 612/1000\n",
      "30000/30000 [==============================] - 0s 12us/sample - loss: 1.7515\n",
      "Epoch 613/1000\n",
      "30000/30000 [==============================] - 0s 11us/sample - loss: 1.7503\n",
      "Epoch 614/1000\n",
      "30000/30000 [==============================] - 0s 11us/sample - loss: 1.7503\n",
      "Epoch 615/1000\n",
      "30000/30000 [==============================] - 0s 11us/sample - loss: 1.7510\n",
      "Epoch 616/1000\n",
      "30000/30000 [==============================] - 0s 15us/sample - loss: 1.7544\n",
      "Epoch 617/1000\n",
      "30000/30000 [==============================] - 0s 11us/sample - loss: 1.7560\n",
      "Epoch 618/1000\n",
      "30000/30000 [==============================] - 0s 12us/sample - loss: 1.7565\n",
      "Epoch 619/1000\n",
      "30000/30000 [==============================] - 0s 12us/sample - loss: 1.7574\n",
      "Epoch 620/1000\n",
      "30000/30000 [==============================] - 0s 12us/sample - loss: 1.7573\n",
      "Epoch 621/1000\n",
      "30000/30000 [==============================] - 1s 18us/sample - loss: 1.7580\n",
      "Epoch 622/1000\n",
      "30000/30000 [==============================] - 0s 12us/sample - loss: 1.7579\n",
      "Epoch 623/1000\n",
      "30000/30000 [==============================] - 0s 12us/sample - loss: 1.7555\n",
      "Epoch 624/1000\n"
     ]
    },
    {
     "name": "stdout",
     "output_type": "stream",
     "text": [
      "30000/30000 [==============================] - 0s 11us/sample - loss: 1.7540\n",
      "Epoch 625/1000\n",
      "30000/30000 [==============================] - 0s 14us/sample - loss: 1.7526\n",
      "Epoch 626/1000\n",
      "30000/30000 [==============================] - 0s 12us/sample - loss: 1.7540\n",
      "Epoch 627/1000\n",
      "30000/30000 [==============================] - 0s 13us/sample - loss: 1.7530\n",
      "Epoch 628/1000\n",
      "30000/30000 [==============================] - 0s 11us/sample - loss: 1.7512\n",
      "Epoch 629/1000\n",
      "30000/30000 [==============================] - 0s 11us/sample - loss: 1.7513\n",
      "Epoch 630/1000\n",
      "30000/30000 [==============================] - 0s 13us/sample - loss: 1.7520\n",
      "Epoch 631/1000\n",
      "30000/30000 [==============================] - 0s 14us/sample - loss: 1.7532\n",
      "Epoch 632/1000\n",
      "30000/30000 [==============================] - 0s 12us/sample - loss: 1.7518\n",
      "Epoch 633/1000\n",
      "30000/30000 [==============================] - 0s 11us/sample - loss: 1.7525\n",
      "Epoch 634/1000\n",
      "30000/30000 [==============================] - 0s 12us/sample - loss: 1.7527\n",
      "Epoch 635/1000\n",
      "30000/30000 [==============================] - 0s 11us/sample - loss: 1.7525\n",
      "Epoch 636/1000\n",
      "30000/30000 [==============================] - 0s 13us/sample - loss: 1.7518\n",
      "Epoch 637/1000\n",
      "30000/30000 [==============================] - 0s 14us/sample - loss: 1.7507\n",
      "Epoch 638/1000\n",
      "30000/30000 [==============================] - 0s 12us/sample - loss: 1.7520\n",
      "Epoch 639/1000\n",
      "30000/30000 [==============================] - 0s 12us/sample - loss: 1.7506\n",
      "Epoch 640/1000\n",
      "30000/30000 [==============================] - 0s 11us/sample - loss: 1.7499\n",
      "Epoch 641/1000\n",
      "30000/30000 [==============================] - 0s 15us/sample - loss: 1.7506\n",
      "Epoch 642/1000\n",
      "30000/30000 [==============================] - 0s 11us/sample - loss: 1.7496\n",
      "Epoch 643/1000\n",
      "30000/30000 [==============================] - 0s 12us/sample - loss: 1.7481\n",
      "Epoch 644/1000\n",
      "30000/30000 [==============================] - 0s 12us/sample - loss: 1.7470\n",
      "Epoch 645/1000\n",
      "30000/30000 [==============================] - 0s 11us/sample - loss: 1.7475\n",
      "Epoch 646/1000\n",
      "30000/30000 [==============================] - 1s 17us/sample - loss: 1.7475\n",
      "Epoch 647/1000\n",
      "30000/30000 [==============================] - 0s 12us/sample - loss: 1.7471\n",
      "Epoch 648/1000\n",
      "30000/30000 [==============================] - 0s 11us/sample - loss: 1.7481\n",
      "Epoch 649/1000\n",
      "30000/30000 [==============================] - 0s 11us/sample - loss: 1.7471\n",
      "Epoch 650/1000\n",
      "30000/30000 [==============================] - 0s 12us/sample - loss: 1.7468\n",
      "Epoch 651/1000\n",
      "30000/30000 [==============================] - 1s 17us/sample - loss: 1.7466\n",
      "Epoch 652/1000\n",
      "30000/30000 [==============================] - 0s 11us/sample - loss: 1.7445\n",
      "Epoch 653/1000\n",
      "30000/30000 [==============================] - 0s 12us/sample - loss: 1.7462\n",
      "Epoch 654/1000\n",
      "30000/30000 [==============================] - 0s 12us/sample - loss: 1.7450\n",
      "Epoch 655/1000\n",
      "30000/30000 [==============================] - 0s 12us/sample - loss: 1.7456\n",
      "Epoch 656/1000\n",
      "30000/30000 [==============================] - 1s 20us/sample - loss: 1.7456\n",
      "Epoch 657/1000\n",
      "30000/30000 [==============================] - 0s 12us/sample - loss: 1.7435\n",
      "Epoch 658/1000\n",
      "30000/30000 [==============================] - 0s 11us/sample - loss: 1.7455\n",
      "Epoch 659/1000\n",
      "30000/30000 [==============================] - 0s 11us/sample - loss: 1.7452\n",
      "Epoch 660/1000\n",
      "30000/30000 [==============================] - 0s 11us/sample - loss: 1.7478\n",
      "Epoch 661/1000\n",
      "30000/30000 [==============================] - 0s 16us/sample - loss: 1.7477\n",
      "Epoch 662/1000\n",
      "30000/30000 [==============================] - 0s 11us/sample - loss: 1.7464\n",
      "Epoch 663/1000\n",
      "30000/30000 [==============================] - 0s 12us/sample - loss: 1.7455\n",
      "Epoch 664/1000\n",
      "30000/30000 [==============================] - 0s 12us/sample - loss: 1.7466\n",
      "Epoch 665/1000\n",
      "30000/30000 [==============================] - 0s 11us/sample - loss: 1.7463\n",
      "Epoch 666/1000\n",
      "30000/30000 [==============================] - 0s 12us/sample - loss: 1.7457\n",
      "Epoch 667/1000\n",
      "30000/30000 [==============================] - 0s 14us/sample - loss: 1.7475\n",
      "Epoch 668/1000\n",
      "30000/30000 [==============================] - 0s 12us/sample - loss: 1.7484\n",
      "Epoch 669/1000\n",
      "30000/30000 [==============================] - 0s 12us/sample - loss: 1.7485\n",
      "Epoch 670/1000\n",
      "30000/30000 [==============================] - 0s 11us/sample - loss: 1.7474\n",
      "Epoch 671/1000\n",
      "30000/30000 [==============================] - 0s 11us/sample - loss: 1.7436\n",
      "Epoch 672/1000\n",
      "30000/30000 [==============================] - 0s 11us/sample - loss: 1.7453\n",
      "Epoch 673/1000\n",
      "30000/30000 [==============================] - 0s 12us/sample - loss: 1.7463\n",
      "Epoch 674/1000\n",
      "30000/30000 [==============================] - 0s 11us/sample - loss: 1.7454\n",
      "Epoch 675/1000\n",
      "30000/30000 [==============================] - 0s 12us/sample - loss: 1.7431\n",
      "Epoch 676/1000\n",
      "30000/30000 [==============================] - 0s 12us/sample - loss: 1.7429\n",
      "Epoch 677/1000\n",
      "30000/30000 [==============================] - 0s 12us/sample - loss: 1.7438\n",
      "Epoch 678/1000\n",
      "30000/30000 [==============================] - 0s 12us/sample - loss: 1.7438\n",
      "Epoch 679/1000\n",
      "30000/30000 [==============================] - 0s 12us/sample - loss: 1.7464\n",
      "Epoch 680/1000\n",
      "30000/30000 [==============================] - 0s 12us/sample - loss: 1.7494\n",
      "Epoch 681/1000\n",
      "30000/30000 [==============================] - 0s 12us/sample - loss: 1.7477\n",
      "Epoch 682/1000\n",
      "30000/30000 [==============================] - 0s 12us/sample - loss: 1.7477\n",
      "Epoch 683/1000\n",
      "30000/30000 [==============================] - 0s 12us/sample - loss: 1.7481\n",
      "Epoch 684/1000\n",
      "30000/30000 [==============================] - 0s 11us/sample - loss: 1.7465\n",
      "Epoch 685/1000\n",
      "30000/30000 [==============================] - 0s 12us/sample - loss: 1.7441\n",
      "Epoch 686/1000\n",
      "30000/30000 [==============================] - 0s 12us/sample - loss: 1.7446\n",
      "Epoch 687/1000\n",
      "30000/30000 [==============================] - 0s 11us/sample - loss: 1.7440\n",
      "Epoch 688/1000\n",
      "30000/30000 [==============================] - 0s 12us/sample - loss: 1.7446\n",
      "Epoch 689/1000\n",
      "30000/30000 [==============================] - 0s 11us/sample - loss: 1.7430\n",
      "Epoch 690/1000\n",
      "30000/30000 [==============================] - 0s 12us/sample - loss: 1.7428\n",
      "Epoch 691/1000\n",
      "30000/30000 [==============================] - 0s 11us/sample - loss: 1.7427\n",
      "Epoch 692/1000\n",
      "30000/30000 [==============================] - 0s 12us/sample - loss: 1.7422\n",
      "Epoch 693/1000\n",
      "30000/30000 [==============================] - 1s 18us/sample - loss: 1.7413\n",
      "Epoch 694/1000\n",
      "30000/30000 [==============================] - 0s 11us/sample - loss: 1.7430\n",
      "Epoch 695/1000\n",
      "30000/30000 [==============================] - 0s 12us/sample - loss: 1.7445\n",
      "Epoch 696/1000\n",
      "30000/30000 [==============================] - 0s 12us/sample - loss: 1.7447\n",
      "Epoch 697/1000\n",
      "30000/30000 [==============================] - 0s 12us/sample - loss: 1.7436\n",
      "Epoch 698/1000\n",
      "30000/30000 [==============================] - 0s 14us/sample - loss: 1.7438\n",
      "Epoch 699/1000\n",
      "30000/30000 [==============================] - 0s 13us/sample - loss: 1.7412\n",
      "Epoch 700/1000\n",
      "30000/30000 [==============================] - 0s 11us/sample - loss: 1.7444\n",
      "Epoch 701/1000\n",
      "30000/30000 [==============================] - 0s 11us/sample - loss: 1.7443\n",
      "Epoch 702/1000\n",
      "30000/30000 [==============================] - 0s 12us/sample - loss: 1.7447\n",
      "Epoch 703/1000\n",
      "30000/30000 [==============================] - 1s 18us/sample - loss: 1.7443\n",
      "Epoch 704/1000\n",
      "30000/30000 [==============================] - 0s 16us/sample - loss: 1.7440\n",
      "Epoch 705/1000\n",
      "30000/30000 [==============================] - 0s 16us/sample - loss: 1.7445\n",
      "Epoch 706/1000\n",
      "30000/30000 [==============================] - 0s 15us/sample - loss: 1.7448\n",
      "Epoch 707/1000\n",
      "30000/30000 [==============================] - 1s 19us/sample - loss: 1.7464\n",
      "Epoch 708/1000\n",
      "30000/30000 [==============================] - 1s 29us/sample - loss: 1.7485\n",
      "Epoch 709/1000\n",
      "30000/30000 [==============================] - 0s 16us/sample - loss: 1.7474\n",
      "Epoch 710/1000\n",
      "30000/30000 [==============================] - 0s 14us/sample - loss: 1.7473\n",
      "Epoch 711/1000\n",
      "30000/30000 [==============================] - 0s 16us/sample - loss: 1.7445\n",
      "Epoch 712/1000\n",
      "30000/30000 [==============================] - 0s 16us/sample - loss: 1.7455\n",
      "Epoch 713/1000\n"
     ]
    },
    {
     "name": "stdout",
     "output_type": "stream",
     "text": [
      "30000/30000 [==============================] - 1s 18us/sample - loss: 1.7462\n",
      "Epoch 714/1000\n",
      "30000/30000 [==============================] - 0s 16us/sample - loss: 1.7469\n",
      "Epoch 715/1000\n",
      "30000/30000 [==============================] - 0s 15us/sample - loss: 1.7468\n",
      "Epoch 716/1000\n",
      "30000/30000 [==============================] - 0s 15us/sample - loss: 1.7447\n",
      "Epoch 717/1000\n",
      "30000/30000 [==============================] - 1s 19us/sample - loss: 1.7449\n",
      "Epoch 718/1000\n",
      "30000/30000 [==============================] - 1s 20us/sample - loss: 1.7448\n",
      "Epoch 719/1000\n",
      "30000/30000 [==============================] - 0s 15us/sample - loss: 1.7424\n",
      "Epoch 720/1000\n",
      "30000/30000 [==============================] - 0s 16us/sample - loss: 1.7432\n",
      "Epoch 721/1000\n",
      "30000/30000 [==============================] - 0s 15us/sample - loss: 1.7448\n",
      "Epoch 722/1000\n",
      "30000/30000 [==============================] - 1s 22us/sample - loss: 1.7451\n",
      "Epoch 723/1000\n",
      "30000/30000 [==============================] - 0s 15us/sample - loss: 1.7446\n",
      "Epoch 724/1000\n",
      "30000/30000 [==============================] - 0s 15us/sample - loss: 1.7440\n",
      "Epoch 725/1000\n",
      "30000/30000 [==============================] - 0s 16us/sample - loss: 1.7445\n",
      "Epoch 726/1000\n",
      "30000/30000 [==============================] - 0s 13us/sample - loss: 1.7434\n",
      "Epoch 727/1000\n",
      "30000/30000 [==============================] - 1s 22us/sample - loss: 1.7436\n",
      "Epoch 728/1000\n",
      "30000/30000 [==============================] - 0s 12us/sample - loss: 1.7459\n",
      "Epoch 729/1000\n",
      "30000/30000 [==============================] - 0s 14us/sample - loss: 1.7471\n",
      "Epoch 730/1000\n",
      "30000/30000 [==============================] - 0s 13us/sample - loss: 1.7495\n",
      "Epoch 731/1000\n",
      "30000/30000 [==============================] - 0s 15us/sample - loss: 1.7516\n",
      "Epoch 732/1000\n",
      "30000/30000 [==============================] - 1s 17us/sample - loss: 1.7541\n",
      "Epoch 733/1000\n",
      "30000/30000 [==============================] - 0s 13us/sample - loss: 1.7518\n",
      "Epoch 734/1000\n",
      "30000/30000 [==============================] - 0s 14us/sample - loss: 1.7516\n",
      "Epoch 735/1000\n",
      "30000/30000 [==============================] - 0s 14us/sample - loss: 1.7516\n",
      "Epoch 736/1000\n",
      "30000/30000 [==============================] - 0s 14us/sample - loss: 1.7487\n",
      "Epoch 737/1000\n",
      "30000/30000 [==============================] - 0s 12us/sample - loss: 1.7485\n",
      "Epoch 738/1000\n",
      "30000/30000 [==============================] - 0s 14us/sample - loss: 1.7468\n",
      "Epoch 739/1000\n",
      "30000/30000 [==============================] - 0s 14us/sample - loss: 1.7471\n",
      "Epoch 740/1000\n",
      "30000/30000 [==============================] - 0s 14us/sample - loss: 1.7466\n",
      "Epoch 741/1000\n",
      "30000/30000 [==============================] - 0s 14us/sample - loss: 1.7466\n",
      "Epoch 742/1000\n",
      "30000/30000 [==============================] - 0s 15us/sample - loss: 1.7501\n",
      "Epoch 743/1000\n",
      "30000/30000 [==============================] - 0s 13us/sample - loss: 1.7493\n",
      "Epoch 744/1000\n",
      "30000/30000 [==============================] - 0s 14us/sample - loss: 1.7476\n",
      "Epoch 745/1000\n",
      "30000/30000 [==============================] - 0s 12us/sample - loss: 1.7478\n",
      "Epoch 746/1000\n",
      "30000/30000 [==============================] - 0s 13us/sample - loss: 1.7506\n",
      "Epoch 747/1000\n",
      "30000/30000 [==============================] - 0s 16us/sample - loss: 1.7532\n",
      "Epoch 748/1000\n",
      "30000/30000 [==============================] - 1s 17us/sample - loss: 1.7543\n",
      "Epoch 749/1000\n",
      "30000/30000 [==============================] - 0s 14us/sample - loss: 1.7563\n",
      "Epoch 750/1000\n",
      "30000/30000 [==============================] - 0s 15us/sample - loss: 1.7572\n",
      "Epoch 751/1000\n",
      "30000/30000 [==============================] - 0s 14us/sample - loss: 1.7593\n",
      "Epoch 752/1000\n",
      "30000/30000 [==============================] - 0s 13us/sample - loss: 1.7585\n",
      "Epoch 753/1000\n",
      "30000/30000 [==============================] - 1s 17us/sample - loss: 1.7555\n",
      "Epoch 754/1000\n",
      "30000/30000 [==============================] - 0s 16us/sample - loss: 1.7536\n",
      "Epoch 755/1000\n",
      "30000/30000 [==============================] - 0s 11us/sample - loss: 1.7560\n",
      "Epoch 756/1000\n",
      "30000/30000 [==============================] - 0s 16us/sample - loss: 1.7550\n",
      "Epoch 757/1000\n",
      "30000/30000 [==============================] - 1s 18us/sample - loss: 1.7561\n",
      "Epoch 758/1000\n",
      "30000/30000 [==============================] - 0s 16us/sample - loss: 1.7600\n",
      "Epoch 759/1000\n",
      "30000/30000 [==============================] - 0s 13us/sample - loss: 1.7646\n",
      "Epoch 760/1000\n",
      "30000/30000 [==============================] - 0s 12us/sample - loss: 1.7673\n",
      "Epoch 761/1000\n",
      "30000/30000 [==============================] - 0s 13us/sample - loss: 1.7690\n",
      "Epoch 762/1000\n",
      "30000/30000 [==============================] - 1s 17us/sample - loss: 1.7680\n",
      "Epoch 763/1000\n",
      "30000/30000 [==============================] - 1s 19us/sample - loss: 1.7658\n",
      "Epoch 764/1000\n",
      "30000/30000 [==============================] - 0s 14us/sample - loss: 1.7640\n",
      "Epoch 765/1000\n",
      "30000/30000 [==============================] - 0s 14us/sample - loss: 1.7572\n",
      "Epoch 766/1000\n",
      "30000/30000 [==============================] - 0s 16us/sample - loss: 1.7502\n",
      "Epoch 767/1000\n",
      "30000/30000 [==============================] - 1s 18us/sample - loss: 1.7447\n",
      "Epoch 768/1000\n",
      "30000/30000 [==============================] - 0s 15us/sample - loss: 1.7439\n",
      "Epoch 769/1000\n",
      "30000/30000 [==============================] - 0s 15us/sample - loss: 1.7419\n",
      "Epoch 770/1000\n",
      "30000/30000 [==============================] - 0s 15us/sample - loss: 1.7412\n",
      "Epoch 771/1000\n",
      "30000/30000 [==============================] - 0s 16us/sample - loss: 1.7401\n",
      "Epoch 772/1000\n",
      "30000/30000 [==============================] - 1s 25us/sample - loss: 1.7412\n",
      "Epoch 773/1000\n",
      "30000/30000 [==============================] - 0s 13us/sample - loss: 1.74040s - loss: 1.7\n",
      "Epoch 774/1000\n",
      "30000/30000 [==============================] - 0s 13us/sample - loss: 1.7435\n",
      "Epoch 775/1000\n",
      "30000/30000 [==============================] - 0s 13us/sample - loss: 1.7466\n",
      "Epoch 776/1000\n",
      "30000/30000 [==============================] - 0s 15us/sample - loss: 1.7497\n",
      "Epoch 777/1000\n",
      "30000/30000 [==============================] - 1s 18us/sample - loss: 1.7532\n",
      "Epoch 778/1000\n",
      "30000/30000 [==============================] - 0s 13us/sample - loss: 1.7561\n",
      "Epoch 779/1000\n",
      "30000/30000 [==============================] - 0s 14us/sample - loss: 1.7547\n",
      "Epoch 780/1000\n",
      "30000/30000 [==============================] - 0s 14us/sample - loss: 1.7539\n",
      "Epoch 781/1000\n",
      "30000/30000 [==============================] - 0s 13us/sample - loss: 1.7570\n",
      "Epoch 782/1000\n",
      "30000/30000 [==============================] - 0s 14us/sample - loss: 1.7555\n",
      "Epoch 783/1000\n",
      "30000/30000 [==============================] - 0s 12us/sample - loss: 1.7546\n",
      "Epoch 784/1000\n",
      "30000/30000 [==============================] - 0s 13us/sample - loss: 1.7537\n",
      "Epoch 785/1000\n",
      "30000/30000 [==============================] - 0s 13us/sample - loss: 1.7501\n",
      "Epoch 786/1000\n",
      "30000/30000 [==============================] - 0s 14us/sample - loss: 1.7454\n",
      "Epoch 787/1000\n",
      "30000/30000 [==============================] - 0s 15us/sample - loss: 1.7441\n",
      "Epoch 788/1000\n",
      "30000/30000 [==============================] - 0s 16us/sample - loss: 1.7424\n",
      "Epoch 789/1000\n",
      "30000/30000 [==============================] - 0s 15us/sample - loss: 1.7442\n",
      "Epoch 790/1000\n",
      "30000/30000 [==============================] - 0s 14us/sample - loss: 1.7440\n",
      "Epoch 791/1000\n",
      "30000/30000 [==============================] - 0s 14us/sample - loss: 1.7424\n",
      "Epoch 792/1000\n",
      "30000/30000 [==============================] - 0s 13us/sample - loss: 1.7435\n",
      "Epoch 793/1000\n",
      "30000/30000 [==============================] - 0s 15us/sample - loss: 1.7444\n",
      "Epoch 794/1000\n",
      "30000/30000 [==============================] - 0s 15us/sample - loss: 1.7470\n",
      "Epoch 795/1000\n",
      "30000/30000 [==============================] - 0s 13us/sample - loss: 1.7503\n",
      "Epoch 796/1000\n",
      "30000/30000 [==============================] - 0s 14us/sample - loss: 1.7522\n",
      "Epoch 797/1000\n",
      "30000/30000 [==============================] - 0s 15us/sample - loss: 1.7506\n",
      "Epoch 798/1000\n",
      "30000/30000 [==============================] - 0s 13us/sample - loss: 1.7505\n",
      "Epoch 799/1000\n",
      "30000/30000 [==============================] - 0s 13us/sample - loss: 1.7484\n",
      "Epoch 800/1000\n",
      "30000/30000 [==============================] - 0s 13us/sample - loss: 1.7454\n",
      "Epoch 801/1000\n",
      "30000/30000 [==============================] - 0s 13us/sample - loss: 1.7463\n",
      "Epoch 802/1000\n"
     ]
    },
    {
     "name": "stdout",
     "output_type": "stream",
     "text": [
      "30000/30000 [==============================] - 0s 14us/sample - loss: 1.7452\n",
      "Epoch 803/1000\n",
      "30000/30000 [==============================] - 1s 20us/sample - loss: 1.7431\n",
      "Epoch 804/1000\n",
      "30000/30000 [==============================] - 0s 14us/sample - loss: 1.7446\n",
      "Epoch 805/1000\n",
      "30000/30000 [==============================] - 0s 13us/sample - loss: 1.7432\n",
      "Epoch 806/1000\n",
      "30000/30000 [==============================] - 0s 13us/sample - loss: 1.7432\n",
      "Epoch 807/1000\n",
      "30000/30000 [==============================] - 0s 13us/sample - loss: 1.7432\n",
      "Epoch 808/1000\n",
      "30000/30000 [==============================] - 1s 20us/sample - loss: 1.7419\n",
      "Epoch 809/1000\n",
      "30000/30000 [==============================] - 0s 14us/sample - loss: 1.7426\n",
      "Epoch 810/1000\n",
      "30000/30000 [==============================] - 0s 16us/sample - loss: 1.7413\n",
      "Epoch 811/1000\n",
      "30000/30000 [==============================] - 0s 14us/sample - loss: 1.7390\n",
      "Epoch 812/1000\n",
      "30000/30000 [==============================] - 1s 18us/sample - loss: 1.7411\n",
      "Epoch 813/1000\n",
      "30000/30000 [==============================] - 0s 13us/sample - loss: 1.7405\n",
      "Epoch 814/1000\n",
      "30000/30000 [==============================] - 0s 15us/sample - loss: 1.7417\n",
      "Epoch 815/1000\n",
      "30000/30000 [==============================] - 0s 13us/sample - loss: 1.7422\n",
      "Epoch 816/1000\n",
      "30000/30000 [==============================] - 0s 13us/sample - loss: 1.7429\n",
      "Epoch 817/1000\n",
      "30000/30000 [==============================] - 0s 16us/sample - loss: 1.7441\n",
      "Epoch 818/1000\n",
      "30000/30000 [==============================] - 1s 19us/sample - loss: 1.7438\n",
      "Epoch 819/1000\n",
      "30000/30000 [==============================] - 0s 14us/sample - loss: 1.7429\n",
      "Epoch 820/1000\n",
      "30000/30000 [==============================] - 0s 14us/sample - loss: 1.7423\n",
      "Epoch 821/1000\n",
      "30000/30000 [==============================] - 0s 14us/sample - loss: 1.7422\n",
      "Epoch 822/1000\n",
      "30000/30000 [==============================] - 1s 17us/sample - loss: 1.7414\n",
      "Epoch 823/1000\n",
      "30000/30000 [==============================] - 0s 16us/sample - loss: 1.7399\n",
      "Epoch 824/1000\n",
      "30000/30000 [==============================] - 0s 13us/sample - loss: 1.7421\n",
      "Epoch 825/1000\n",
      "30000/30000 [==============================] - 0s 15us/sample - loss: 1.7409\n",
      "Epoch 826/1000\n",
      "30000/30000 [==============================] - 0s 15us/sample - loss: 1.7415\n",
      "Epoch 827/1000\n",
      "30000/30000 [==============================] - 1s 20us/sample - loss: 1.7429\n",
      "Epoch 828/1000\n",
      "30000/30000 [==============================] - 0s 13us/sample - loss: 1.7414\n",
      "Epoch 829/1000\n",
      "30000/30000 [==============================] - 0s 12us/sample - loss: 1.7409\n",
      "Epoch 830/1000\n",
      "30000/30000 [==============================] - 0s 13us/sample - loss: 1.7406\n",
      "Epoch 831/1000\n",
      "30000/30000 [==============================] - 1s 19us/sample - loss: 1.7385\n",
      "Epoch 832/1000\n",
      "30000/30000 [==============================] - 1s 19us/sample - loss: 1.7389\n",
      "Epoch 833/1000\n",
      "30000/30000 [==============================] - 0s 14us/sample - loss: 1.7400\n",
      "Epoch 834/1000\n",
      "30000/30000 [==============================] - 1s 17us/sample - loss: 1.7399\n",
      "Epoch 835/1000\n",
      "30000/30000 [==============================] - 0s 14us/sample - loss: 1.7397\n",
      "Epoch 836/1000\n",
      "30000/30000 [==============================] - 0s 13us/sample - loss: 1.7408\n",
      "Epoch 837/1000\n",
      "30000/30000 [==============================] - 0s 13us/sample - loss: 1.7394\n",
      "Epoch 838/1000\n",
      "30000/30000 [==============================] - 0s 13us/sample - loss: 1.7396\n",
      "Epoch 839/1000\n",
      "30000/30000 [==============================] - 0s 13us/sample - loss: 1.7398\n",
      "Epoch 840/1000\n",
      "30000/30000 [==============================] - 0s 15us/sample - loss: 1.7401\n",
      "Epoch 841/1000\n",
      "30000/30000 [==============================] - 0s 15us/sample - loss: 1.7394\n",
      "Epoch 842/1000\n",
      "30000/30000 [==============================] - 0s 15us/sample - loss: 1.7392\n",
      "Epoch 843/1000\n",
      "30000/30000 [==============================] - 0s 15us/sample - loss: 1.7407\n",
      "Epoch 844/1000\n",
      "30000/30000 [==============================] - 0s 16us/sample - loss: 1.7416\n",
      "Epoch 845/1000\n",
      "30000/30000 [==============================] - 0s 14us/sample - loss: 1.7412\n",
      "Epoch 846/1000\n",
      "30000/30000 [==============================] - 1s 17us/sample - loss: 1.7414\n",
      "Epoch 847/1000\n",
      "30000/30000 [==============================] - 0s 16us/sample - loss: 1.7420\n",
      "Epoch 848/1000\n",
      "30000/30000 [==============================] - 0s 16us/sample - loss: 1.7429\n",
      "Epoch 849/1000\n",
      "30000/30000 [==============================] - 0s 13us/sample - loss: 1.7435\n",
      "Epoch 850/1000\n",
      "30000/30000 [==============================] - 0s 14us/sample - loss: 1.7434\n",
      "Epoch 851/1000\n",
      "30000/30000 [==============================] - 0s 13us/sample - loss: 1.7413\n",
      "Epoch 852/1000\n",
      "30000/30000 [==============================] - 0s 13us/sample - loss: 1.7422\n",
      "Epoch 853/1000\n",
      "30000/30000 [==============================] - 0s 15us/sample - loss: 1.7410\n",
      "Epoch 854/1000\n",
      "30000/30000 [==============================] - 0s 14us/sample - loss: 1.7420\n",
      "Epoch 855/1000\n",
      "30000/30000 [==============================] - 0s 14us/sample - loss: 1.7415\n",
      "Epoch 856/1000\n",
      "30000/30000 [==============================] - 0s 15us/sample - loss: 1.7418\n",
      "Epoch 857/1000\n",
      "30000/30000 [==============================] - 0s 12us/sample - loss: 1.7406\n",
      "Epoch 858/1000\n",
      "30000/30000 [==============================] - 1s 23us/sample - loss: 1.7406\n",
      "Epoch 859/1000\n",
      "30000/30000 [==============================] - 0s 14us/sample - loss: 1.7387\n",
      "Epoch 860/1000\n",
      "30000/30000 [==============================] - 0s 14us/sample - loss: 1.7388\n",
      "Epoch 861/1000\n",
      "30000/30000 [==============================] - 0s 13us/sample - loss: 1.7384\n",
      "Epoch 862/1000\n",
      "30000/30000 [==============================] - 0s 14us/sample - loss: 1.7384\n",
      "Epoch 863/1000\n",
      "30000/30000 [==============================] - 1s 32us/sample - loss: 1.7387\n",
      "Epoch 864/1000\n",
      "30000/30000 [==============================] - 0s 14us/sample - loss: 1.7410\n",
      "Epoch 865/1000\n",
      "30000/30000 [==============================] - 0s 14us/sample - loss: 1.7399\n",
      "Epoch 866/1000\n",
      "30000/30000 [==============================] - 0s 14us/sample - loss: 1.7385\n",
      "Epoch 867/1000\n",
      "30000/30000 [==============================] - 1s 24us/sample - loss: 1.7391\n",
      "Epoch 868/1000\n",
      "30000/30000 [==============================] - 1s 18us/sample - loss: 1.7370\n",
      "Epoch 869/1000\n",
      "30000/30000 [==============================] - 0s 14us/sample - loss: 1.7379\n",
      "Epoch 870/1000\n",
      "30000/30000 [==============================] - 0s 13us/sample - loss: 1.7407\n",
      "Epoch 871/1000\n",
      "30000/30000 [==============================] - 0s 14us/sample - loss: 1.7387\n",
      "Epoch 872/1000\n",
      "30000/30000 [==============================] - 1s 21us/sample - loss: 1.7398\n",
      "Epoch 873/1000\n",
      "30000/30000 [==============================] - 1s 18us/sample - loss: 1.7389\n",
      "Epoch 874/1000\n",
      "30000/30000 [==============================] - 0s 13us/sample - loss: 1.7377\n",
      "Epoch 875/1000\n",
      "30000/30000 [==============================] - 0s 15us/sample - loss: 1.7386\n",
      "Epoch 876/1000\n",
      "30000/30000 [==============================] - 0s 13us/sample - loss: 1.7392\n",
      "Epoch 877/1000\n",
      "30000/30000 [==============================] - 1s 29us/sample - loss: 1.7389\n",
      "Epoch 878/1000\n",
      "30000/30000 [==============================] - 0s 13us/sample - loss: 1.7371\n",
      "Epoch 879/1000\n",
      "30000/30000 [==============================] - 0s 14us/sample - loss: 1.7369\n",
      "Epoch 880/1000\n",
      "30000/30000 [==============================] - 0s 15us/sample - loss: 1.7394\n",
      "Epoch 881/1000\n",
      "30000/30000 [==============================] - 1s 23us/sample - loss: 1.7382\n",
      "Epoch 882/1000\n",
      "30000/30000 [==============================] - 1s 25us/sample - loss: 1.7387\n",
      "Epoch 883/1000\n",
      "30000/30000 [==============================] - 0s 12us/sample - loss: 1.7401\n",
      "Epoch 884/1000\n",
      "30000/30000 [==============================] - 0s 14us/sample - loss: 1.7391\n",
      "Epoch 885/1000\n",
      "30000/30000 [==============================] - 0s 15us/sample - loss: 1.7369\n",
      "Epoch 886/1000\n",
      "30000/30000 [==============================] - 1s 23us/sample - loss: 1.7383\n",
      "Epoch 887/1000\n",
      "30000/30000 [==============================] - 1s 19us/sample - loss: 1.7388\n",
      "Epoch 888/1000\n",
      "30000/30000 [==============================] - 0s 13us/sample - loss: 1.7389\n",
      "Epoch 889/1000\n",
      "30000/30000 [==============================] - 0s 16us/sample - loss: 1.7382\n",
      "Epoch 890/1000\n",
      "30000/30000 [==============================] - 0s 14us/sample - loss: 1.7378\n",
      "Epoch 891/1000\n"
     ]
    },
    {
     "name": "stdout",
     "output_type": "stream",
     "text": [
      "30000/30000 [==============================] - 0s 15us/sample - loss: 1.7394\n",
      "Epoch 892/1000\n",
      "30000/30000 [==============================] - 0s 17us/sample - loss: 1.7375\n",
      "Epoch 893/1000\n",
      "30000/30000 [==============================] - 1s 17us/sample - loss: 1.7381\n",
      "Epoch 894/1000\n",
      "30000/30000 [==============================] - 0s 14us/sample - loss: 1.7375\n",
      "Epoch 895/1000\n",
      "30000/30000 [==============================] - 0s 13us/sample - loss: 1.7381\n",
      "Epoch 896/1000\n",
      "30000/30000 [==============================] - 0s 14us/sample - loss: 1.7372\n",
      "Epoch 897/1000\n",
      "30000/30000 [==============================] - 0s 13us/sample - loss: 1.7361\n",
      "Epoch 898/1000\n",
      "30000/30000 [==============================] - 0s 13us/sample - loss: 1.7352\n",
      "Epoch 899/1000\n",
      "30000/30000 [==============================] - 0s 12us/sample - loss: 1.7354\n",
      "Epoch 900/1000\n",
      "30000/30000 [==============================] - 0s 12us/sample - loss: 1.7342\n",
      "Epoch 901/1000\n",
      "30000/30000 [==============================] - 0s 14us/sample - loss: 1.7356\n",
      "Epoch 902/1000\n",
      "30000/30000 [==============================] - 0s 16us/sample - loss: 1.7362\n",
      "Epoch 903/1000\n",
      "30000/30000 [==============================] - 0s 13us/sample - loss: 1.7368\n",
      "Epoch 904/1000\n",
      "30000/30000 [==============================] - 0s 14us/sample - loss: 1.7370\n",
      "Epoch 905/1000\n",
      "30000/30000 [==============================] - 0s 14us/sample - loss: 1.7347\n",
      "Epoch 906/1000\n",
      "30000/30000 [==============================] - 0s 14us/sample - loss: 1.7351\n",
      "Epoch 907/1000\n",
      "30000/30000 [==============================] - 0s 14us/sample - loss: 1.7353\n",
      "Epoch 908/1000\n",
      "30000/30000 [==============================] - 1s 20us/sample - loss: 1.7350\n",
      "Epoch 909/1000\n",
      "30000/30000 [==============================] - 0s 16us/sample - loss: 1.7356\n",
      "Epoch 910/1000\n",
      "30000/30000 [==============================] - 0s 15us/sample - loss: 1.7375\n",
      "Epoch 911/1000\n",
      "30000/30000 [==============================] - 0s 15us/sample - loss: 1.7374\n",
      "Epoch 912/1000\n",
      "30000/30000 [==============================] - 1s 18us/sample - loss: 1.7362\n",
      "Epoch 913/1000\n",
      "30000/30000 [==============================] - 1s 20us/sample - loss: 1.7360\n",
      "Epoch 914/1000\n",
      "30000/30000 [==============================] - 0s 15us/sample - loss: 1.7373\n",
      "Epoch 915/1000\n",
      "30000/30000 [==============================] - 0s 15us/sample - loss: 1.7382\n",
      "Epoch 916/1000\n",
      "30000/30000 [==============================] - 0s 16us/sample - loss: 1.7368\n",
      "Epoch 917/1000\n",
      "30000/30000 [==============================] - 1s 23us/sample - loss: 1.7365\n",
      "Epoch 918/1000\n",
      "30000/30000 [==============================] - 0s 14us/sample - loss: 1.7375\n",
      "Epoch 919/1000\n",
      "30000/30000 [==============================] - 0s 13us/sample - loss: 1.7380\n",
      "Epoch 920/1000\n",
      "30000/30000 [==============================] - 0s 13us/sample - loss: 1.7364\n",
      "Epoch 921/1000\n",
      "30000/30000 [==============================] - 1s 20us/sample - loss: 1.7354\n",
      "Epoch 922/1000\n",
      "30000/30000 [==============================] - 1s 17us/sample - loss: 1.7346\n",
      "Epoch 923/1000\n",
      "30000/30000 [==============================] - 0s 12us/sample - loss: 1.7354\n",
      "Epoch 924/1000\n",
      "30000/30000 [==============================] - 0s 14us/sample - loss: 1.7364\n",
      "Epoch 925/1000\n",
      "30000/30000 [==============================] - 0s 14us/sample - loss: 1.7367\n",
      "Epoch 926/1000\n",
      "30000/30000 [==============================] - 1s 22us/sample - loss: 1.7396\n",
      "Epoch 927/1000\n",
      "30000/30000 [==============================] - 0s 14us/sample - loss: 1.7380\n",
      "Epoch 928/1000\n",
      "30000/30000 [==============================] - 0s 13us/sample - loss: 1.7358\n",
      "Epoch 929/1000\n",
      "30000/30000 [==============================] - 0s 15us/sample - loss: 1.7342\n",
      "Epoch 930/1000\n",
      "30000/30000 [==============================] - 0s 16us/sample - loss: 1.7332\n",
      "Epoch 931/1000\n",
      "30000/30000 [==============================] - 1s 19us/sample - loss: 1.7350\n",
      "Epoch 932/1000\n",
      "30000/30000 [==============================] - 0s 13us/sample - loss: 1.7348\n",
      "Epoch 933/1000\n",
      "30000/30000 [==============================] - 0s 12us/sample - loss: 1.7322\n",
      "Epoch 934/1000\n",
      "30000/30000 [==============================] - 0s 15us/sample - loss: 1.7352\n",
      "Epoch 935/1000\n",
      "30000/30000 [==============================] - 0s 14us/sample - loss: 1.7348\n",
      "Epoch 936/1000\n",
      "30000/30000 [==============================] - 1s 17us/sample - loss: 1.7355\n",
      "Epoch 937/1000\n",
      "30000/30000 [==============================] - 0s 15us/sample - loss: 1.7342\n",
      "Epoch 938/1000\n",
      "30000/30000 [==============================] - 0s 14us/sample - loss: 1.7346\n",
      "Epoch 939/1000\n",
      "30000/30000 [==============================] - 0s 15us/sample - loss: 1.7352\n",
      "Epoch 940/1000\n",
      "30000/30000 [==============================] - 0s 15us/sample - loss: 1.7345\n",
      "Epoch 941/1000\n",
      "30000/30000 [==============================] - 0s 15us/sample - loss: 1.7351\n",
      "Epoch 942/1000\n",
      "30000/30000 [==============================] - 0s 16us/sample - loss: 1.7345\n",
      "Epoch 943/1000\n",
      "30000/30000 [==============================] - 0s 15us/sample - loss: 1.7343\n",
      "Epoch 944/1000\n",
      "30000/30000 [==============================] - 0s 14us/sample - loss: 1.7343\n",
      "Epoch 945/1000\n",
      "30000/30000 [==============================] - 0s 14us/sample - loss: 1.7348\n",
      "Epoch 946/1000\n",
      "30000/30000 [==============================] - 0s 13us/sample - loss: 1.7375\n",
      "Epoch 947/1000\n",
      "30000/30000 [==============================] - 0s 13us/sample - loss: 1.7394\n",
      "Epoch 948/1000\n",
      "30000/30000 [==============================] - 0s 13us/sample - loss: 1.7397\n",
      "Epoch 949/1000\n",
      "30000/30000 [==============================] - 0s 13us/sample - loss: 1.7364\n",
      "Epoch 950/1000\n",
      "30000/30000 [==============================] - 0s 13us/sample - loss: 1.7360\n",
      "Epoch 951/1000\n",
      "30000/30000 [==============================] - 0s 16us/sample - loss: 1.7342\n",
      "Epoch 952/1000\n",
      "30000/30000 [==============================] - 0s 15us/sample - loss: 1.7350\n",
      "Epoch 953/1000\n",
      "30000/30000 [==============================] - 0s 14us/sample - loss: 1.7353\n",
      "Epoch 954/1000\n",
      "30000/30000 [==============================] - 0s 14us/sample - loss: 1.7368\n",
      "Epoch 955/1000\n",
      "30000/30000 [==============================] - 0s 13us/sample - loss: 1.7367\n",
      "Epoch 956/1000\n",
      "30000/30000 [==============================] - 0s 14us/sample - loss: 1.7388\n",
      "Epoch 957/1000\n",
      "30000/30000 [==============================] - 0s 12us/sample - loss: 1.7400\n",
      "Epoch 958/1000\n",
      "30000/30000 [==============================] - 0s 13us/sample - loss: 1.7392\n",
      "Epoch 959/1000\n",
      "30000/30000 [==============================] - 0s 14us/sample - loss: 1.7382\n",
      "Epoch 960/1000\n",
      "30000/30000 [==============================] - 0s 14us/sample - loss: 1.7366\n",
      "Epoch 961/1000\n",
      "30000/30000 [==============================] - 0s 16us/sample - loss: 1.7364\n",
      "Epoch 962/1000\n",
      "30000/30000 [==============================] - 0s 16us/sample - loss: 1.7346\n",
      "Epoch 963/1000\n",
      "30000/30000 [==============================] - 1s 18us/sample - loss: 1.7366\n",
      "Epoch 964/1000\n",
      "30000/30000 [==============================] - 0s 13us/sample - loss: 1.7388\n",
      "Epoch 965/1000\n",
      "30000/30000 [==============================] - 0s 13us/sample - loss: 1.7371\n",
      "Epoch 966/1000\n",
      "30000/30000 [==============================] - 0s 16us/sample - loss: 1.7379\n",
      "Epoch 967/1000\n",
      "30000/30000 [==============================] - 1s 20us/sample - loss: 1.7395\n",
      "Epoch 968/1000\n",
      "30000/30000 [==============================] - 1s 17us/sample - loss: 1.7399\n",
      "Epoch 969/1000\n",
      "30000/30000 [==============================] - 0s 16us/sample - loss: 1.7390\n",
      "Epoch 970/1000\n",
      "30000/30000 [==============================] - 0s 13us/sample - loss: 1.7393\n",
      "Epoch 971/1000\n",
      "30000/30000 [==============================] - 0s 15us/sample - loss: 1.7392\n",
      "Epoch 972/1000\n",
      "30000/30000 [==============================] - 1s 21us/sample - loss: 1.7379\n",
      "Epoch 973/1000\n",
      "30000/30000 [==============================] - 0s 14us/sample - loss: 1.7368\n",
      "Epoch 974/1000\n",
      "30000/30000 [==============================] - 0s 14us/sample - loss: 1.7392\n",
      "Epoch 975/1000\n",
      "30000/30000 [==============================] - 0s 15us/sample - loss: 1.7369\n",
      "Epoch 976/1000\n",
      "30000/30000 [==============================] - 0s 16us/sample - loss: 1.7368\n",
      "Epoch 977/1000\n",
      "30000/30000 [==============================] - 0s 16us/sample - loss: 1.7375\n",
      "Epoch 978/1000\n",
      "30000/30000 [==============================] - 0s 14us/sample - loss: 1.7371\n",
      "Epoch 979/1000\n",
      "30000/30000 [==============================] - 0s 14us/sample - loss: 1.7366\n",
      "Epoch 980/1000\n"
     ]
    },
    {
     "name": "stdout",
     "output_type": "stream",
     "text": [
      "30000/30000 [==============================] - 0s 14us/sample - loss: 1.7360\n",
      "Epoch 981/1000\n",
      "30000/30000 [==============================] - 1s 19us/sample - loss: 1.7348\n",
      "Epoch 982/1000\n",
      "30000/30000 [==============================] - 0s 16us/sample - loss: 1.7351\n",
      "Epoch 983/1000\n",
      "30000/30000 [==============================] - 0s 14us/sample - loss: 1.7370\n",
      "Epoch 984/1000\n",
      "30000/30000 [==============================] - 0s 14us/sample - loss: 1.7380\n",
      "Epoch 985/1000\n",
      "30000/30000 [==============================] - 0s 13us/sample - loss: 1.7387\n",
      "Epoch 986/1000\n",
      "30000/30000 [==============================] - 1s 21us/sample - loss: 1.7372\n",
      "Epoch 987/1000\n",
      "30000/30000 [==============================] - 0s 15us/sample - loss: 1.7391\n",
      "Epoch 988/1000\n",
      "30000/30000 [==============================] - 0s 13us/sample - loss: 1.7393\n",
      "Epoch 989/1000\n",
      "30000/30000 [==============================] - 0s 14us/sample - loss: 1.7396\n",
      "Epoch 990/1000\n",
      "30000/30000 [==============================] - 0s 16us/sample - loss: 1.7384\n",
      "Epoch 991/1000\n",
      "30000/30000 [==============================] - 1s 20us/sample - loss: 1.7375\n",
      "Epoch 992/1000\n",
      "30000/30000 [==============================] - 0s 13us/sample - loss: 1.7367\n",
      "Epoch 993/1000\n",
      "30000/30000 [==============================] - 0s 15us/sample - loss: 1.7389\n",
      "Epoch 994/1000\n",
      "30000/30000 [==============================] - 0s 14us/sample - loss: 1.7382\n",
      "Epoch 995/1000\n",
      "30000/30000 [==============================] - 0s 15us/sample - loss: 1.7374\n",
      "Epoch 996/1000\n",
      "30000/30000 [==============================] - 0s 15us/sample - loss: 1.7383\n",
      "Epoch 997/1000\n",
      "30000/30000 [==============================] - 0s 14us/sample - loss: 1.7385\n",
      "Epoch 998/1000\n",
      "30000/30000 [==============================] - 0s 14us/sample - loss: 1.7380\n",
      "Epoch 999/1000\n",
      "30000/30000 [==============================] - 0s 15us/sample - loss: 1.7377\n",
      "Epoch 1000/1000\n",
      "30000/30000 [==============================] - 0s 13us/sample - loss: 1.7359\n"
     ]
    }
   ],
   "source": [
    "# because shuffle == False, the same batches are used each time...\n",
    "history = encoder.fit(X_train_subset, Y_train_tsne, batch_size=batch_size, shuffle=False, nb_epoch=1000)"
   ]
  },
  {
   "cell_type": "markdown",
   "metadata": {
    "ExecuteTime": {
     "end_time": "2020-07-20T06:32:03.953834Z",
     "start_time": "2020-07-20T06:32:03.910532Z"
    }
   },
   "source": [
    "### get z for training and test"
   ]
  },
  {
   "cell_type": "code",
   "execution_count": 34,
   "metadata": {
    "ExecuteTime": {
     "end_time": "2020-07-20T17:59:29.852369Z",
     "start_time": "2020-07-20T17:59:28.541033Z"
    }
   },
   "outputs": [],
   "source": [
    "z = encoder.predict(X_train)\n",
    "z_test = encoder.predict(X_test)"
   ]
  },
  {
   "cell_type": "markdown",
   "metadata": {},
   "source": [
    "### Test plot"
   ]
  },
  {
   "cell_type": "code",
   "execution_count": 33,
   "metadata": {
    "ExecuteTime": {
     "end_time": "2020-07-20T17:59:22.828788Z",
     "start_time": "2020-07-20T17:59:21.775730Z"
    }
   },
   "outputs": [
    {
     "data": {
      "text/plain": [
       "<matplotlib.collections.PathCollection at 0x7f40a642f470>"
      ]
     },
     "execution_count": 33,
     "metadata": {},
     "output_type": "execute_result"
    },
    {
     "data": {
      "image/png": "[encoded data removed]",
      "text/plain": [
       "<Figure size 720x360 with 2 Axes>"
      ]
     },
     "metadata": {
      "needs_background": "light"
     },
     "output_type": "display_data"
    }
   ],
   "source": [
    "fig, axs = plt.subplots(ncols = 2, figsize=(10, 5))\n",
    "axs[0].scatter(z[:, 0], z[:, 1], s=0.1, alpha=0.5, c=Y_train, cmap=plt.cm.tab10)\n",
    "axs[1].scatter(z_test[:, 0], z_test[:, 1], s=1, alpha=0.5, c=Y_test, cmap=plt.cm.tab10)"
   ]
  },
  {
   "cell_type": "markdown",
   "metadata": {},
   "source": [
    "### Save models + projections"
   ]
  },
  {
   "cell_type": "code",
   "execution_count": 35,
   "metadata": {
    "ExecuteTime": {
     "end_time": "2020-07-20T17:59:31.775403Z",
     "start_time": "2020-07-20T17:59:31.733387Z"
    }
   },
   "outputs": [],
   "source": [
    "import os"
   ]
  },
  {
   "cell_type": "code",
   "execution_count": 36,
   "metadata": {
    "ExecuteTime": {
     "end_time": "2020-07-20T17:59:31.898471Z",
     "start_time": "2020-07-20T17:59:31.859083Z"
    }
   },
   "outputs": [],
   "source": [
    "output_dir = MODEL_DIR/'projections'/ dataset / 'parametric-tsne'"
   ]
  },
  {
   "cell_type": "code",
   "execution_count": 37,
   "metadata": {
    "ExecuteTime": {
     "end_time": "2020-07-20T17:59:32.523310Z",
     "start_time": "2020-07-20T17:59:32.003488Z"
    }
   },
   "outputs": [
    {
     "name": "stderr",
     "output_type": "stream",
     "text": [
      "W0720 10:59:32.332256 139919644428096 deprecation.py:506] From /mnt/cube/tsainbur/conda_envs/tpy3/lib/python3.6/site-packages/tensorflow_core/python/ops/resource_variable_ops.py:1786: calling BaseResourceVariable.__init__ (from tensorflow.python.ops.resource_variable_ops) with constraint is deprecated and will be removed in a future version.\n",
      "Instructions for updating:\n",
      "If using Keras pass *_constraint arguments to layers.\n",
      "I0720 10:59:32.473590 139919644428096 builder_impl.py:775] Assets written to: /mnt/cube/tsainbur/Projects/github_repos/umap_tf_networks/models/projections/macosko2015/parametric-tsne/encoder/assets\n"
     ]
    }
   ],
   "source": [
    "encoder.save(os.path.join(output_dir, \"encoder\"))"
   ]
  },
  {
   "cell_type": "code",
   "execution_count": 38,
   "metadata": {
    "ExecuteTime": {
     "end_time": "2020-07-20T17:59:32.575468Z",
     "start_time": "2020-07-20T17:59:32.524981Z"
    }
   },
   "outputs": [],
   "source": [
    "np.save(output_dir / 'z.npy', z)\n",
    "np.save(output_dir / 'z_test.npy', z_test)"
   ]
  },
  {
   "cell_type": "markdown",
   "metadata": {},
   "source": [
    "### compute metrics"
   ]
  },
  {
   "cell_type": "markdown",
   "metadata": {},
   "source": [
    "#### silhouette"
   ]
  },
  {
   "cell_type": "code",
   "execution_count": 39,
   "metadata": {
    "ExecuteTime": {
     "end_time": "2020-07-20T17:59:35.798808Z",
     "start_time": "2020-07-20T17:59:35.752704Z"
    }
   },
   "outputs": [],
   "source": [
    "from tfumap.silhouette import silhouette_score_block"
   ]
  },
  {
   "cell_type": "code",
   "execution_count": 40,
   "metadata": {
    "ExecuteTime": {
     "end_time": "2020-07-20T17:59:43.032538Z",
     "start_time": "2020-07-20T17:59:35.894026Z"
    }
   },
   "outputs": [
    {
     "data": {
      "text/plain": [
       "0.25781010509610297"
      ]
     },
     "execution_count": 40,
     "metadata": {},
     "output_type": "execute_result"
    }
   ],
   "source": [
    "ss, sil_samp = silhouette_score_block(z, Y_train, n_jobs = -1)\n",
    "ss"
   ]
  },
  {
   "cell_type": "code",
   "execution_count": 41,
   "metadata": {
    "ExecuteTime": {
     "end_time": "2020-07-20T17:59:43.691084Z",
     "start_time": "2020-07-20T17:59:43.033935Z"
    }
   },
   "outputs": [
    {
     "data": {
      "text/plain": [
       "0.27818000236246804"
      ]
     },
     "execution_count": 41,
     "metadata": {},
     "output_type": "execute_result"
    }
   ],
   "source": [
    "ss_test, sil_samp_test = silhouette_score_block(z_test, Y_test, n_jobs = -1)\n",
    "ss_test"
   ]
  },
  {
   "cell_type": "code",
   "execution_count": 42,
   "metadata": {
    "ExecuteTime": {
     "end_time": "2020-07-20T17:59:44.745124Z",
     "start_time": "2020-07-20T17:59:43.692602Z"
    }
   },
   "outputs": [
    {
     "data": {
      "text/plain": [
       "<matplotlib.collections.PathCollection at 0x7f40a65470f0>"
      ]
     },
     "execution_count": 42,
     "metadata": {},
     "output_type": "execute_result"
    },
    {
     "data": {
      "image/png": "[encoded data removed]",
      "text/plain": [
       "<Figure size 720x360 with 2 Axes>"
      ]
     },
     "metadata": {
      "needs_background": "light"
     },
     "output_type": "display_data"
    }
   ],
   "source": [
    "fig, axs = plt.subplots(ncols = 2, figsize=(10, 5))\n",
    "axs[0].scatter(z[:, 0], z[:, 1], s=0.1, alpha=0.5, c=sil_samp, cmap=plt.cm.viridis)\n",
    "axs[1].scatter(z_test[:, 0], z_test[:, 1], s=1, alpha=0.5, c=sil_samp_test, cmap=plt.cm.viridis)"
   ]
  },
  {
   "cell_type": "markdown",
   "metadata": {},
   "source": [
    "#### KNN"
   ]
  },
  {
   "cell_type": "code",
   "execution_count": 43,
   "metadata": {
    "ExecuteTime": {
     "end_time": "2020-07-20T17:59:44.783204Z",
     "start_time": "2020-07-20T17:59:44.746219Z"
    }
   },
   "outputs": [],
   "source": [
    "from sklearn.neighbors import KNeighborsClassifier"
   ]
  },
  {
   "cell_type": "code",
   "execution_count": 44,
   "metadata": {
    "ExecuteTime": {
     "end_time": "2020-07-20T17:59:44.944599Z",
     "start_time": "2020-07-20T17:59:44.784351Z"
    }
   },
   "outputs": [
    {
     "data": {
      "text/plain": [
       "0.9765677304173176"
      ]
     },
     "execution_count": 44,
     "metadata": {},
     "output_type": "execute_result"
    }
   ],
   "source": [
    "neigh5 = KNeighborsClassifier(n_neighbors=5)\n",
    "neigh5.fit(z, Y_train)\n",
    "score_5nn = neigh5.score(z_test, Y_test)\n",
    "score_5nn"
   ]
  },
  {
   "cell_type": "code",
   "execution_count": 45,
   "metadata": {
    "ExecuteTime": {
     "end_time": "2020-07-20T17:59:45.104700Z",
     "start_time": "2020-07-20T17:59:44.945611Z"
    }
   },
   "outputs": [
    {
     "data": {
      "text/plain": [
       "0.9660790002231645"
      ]
     },
     "execution_count": 45,
     "metadata": {},
     "output_type": "execute_result"
    }
   ],
   "source": [
    "neigh1 = KNeighborsClassifier(n_neighbors=1)\n",
    "neigh1.fit(z, Y_train)\n",
    "score_1nn = neigh1.score(z_test, Y_test)\n",
    "score_1nn"
   ]
  },
  {
   "cell_type": "markdown",
   "metadata": {},
   "source": [
    "#### Trustworthiness"
   ]
  },
  {
   "cell_type": "code",
   "execution_count": 46,
   "metadata": {
    "ExecuteTime": {
     "end_time": "2020-07-20T17:59:45.146001Z",
     "start_time": "2020-07-20T17:59:45.105780Z"
    }
   },
   "outputs": [],
   "source": [
    "from sklearn.manifold import trustworthiness"
   ]
  },
  {
   "cell_type": "code",
   "execution_count": 47,
   "metadata": {
    "ExecuteTime": {
     "end_time": "2020-07-20T17:59:54.101717Z",
     "start_time": "2020-07-20T17:59:45.147566Z"
    }
   },
   "outputs": [],
   "source": [
    "tw = trustworthiness(X_train_flat[:10000], z[:10000])"
   ]
  },
  {
   "cell_type": "code",
   "execution_count": 50,
   "metadata": {
    "ExecuteTime": {
     "end_time": "2020-07-20T18:01:58.185885Z",
     "start_time": "2020-07-20T18:01:56.395304Z"
    }
   },
   "outputs": [],
   "source": [
    "tw_test = trustworthiness(X_test_flat[:10000], z_test[:10000])"
   ]
  },
  {
   "cell_type": "code",
   "execution_count": 51,
   "metadata": {
    "ExecuteTime": {
     "end_time": "2020-07-20T18:01:58.224210Z",
     "start_time": "2020-07-20T18:01:58.187270Z"
    }
   },
   "outputs": [
    {
     "data": {
      "text/plain": [
       "(0.94628346877502, 0.9323337580592783)"
      ]
     },
     "execution_count": 51,
     "metadata": {},
     "output_type": "execute_result"
    }
   ],
   "source": [
    "tw, tw_test"
   ]
  },
  {
   "cell_type": "markdown",
   "metadata": {
    "ExecuteTime": {
     "end_time": "2020-07-20T07:01:59.230864Z",
     "start_time": "2020-07-20T07:01:59.186379Z"
    }
   },
   "source": [
    "#### save output metrics"
   ]
  },
  {
   "cell_type": "code",
   "execution_count": 52,
   "metadata": {
    "ExecuteTime": {
     "end_time": "2020-07-20T18:01:58.288797Z",
     "start_time": "2020-07-20T18:01:58.225688Z"
    }
   },
   "outputs": [
    {
     "data": {
      "text/html": [
       "<div>\n",
       "<style scoped>\n",
       "    .dataframe tbody tr th:only-of-type {\n",
       "        vertical-align: middle;\n",
       "    }\n",
       "\n",
       "    .dataframe tbody tr th {\n",
       "        vertical-align: top;\n",
       "    }\n",
       "\n",
       "    .dataframe thead th {\n",
       "        text-align: right;\n",
       "    }\n",
       "</style>\n",
       "<table border=\"1\" class=\"dataframe\">\n",
       "  <thead>\n",
       "    <tr style=\"text-align: right;\">\n",
       "      <th></th>\n",
       "      <th>dataset</th>\n",
       "      <th>class_</th>\n",
       "      <th>dim</th>\n",
       "      <th>trustworthiness</th>\n",
       "      <th>silhouette_score</th>\n",
       "      <th>silhouette_samples</th>\n",
       "    </tr>\n",
       "  </thead>\n",
       "  <tbody>\n",
       "    <tr>\n",
       "      <th>0</th>\n",
       "      <td>macosko2015</td>\n",
       "      <td>parametric-tsne</td>\n",
       "      <td>2</td>\n",
       "      <td>0.946283</td>\n",
       "      <td>0.25781</td>\n",
       "      <td>[0.3406608482046336, 0.8008643850128306, 0.103...</td>\n",
       "    </tr>\n",
       "  </tbody>\n",
       "</table>\n",
       "</div>"
      ],
      "text/plain": [
       "       dataset           class_ dim  trustworthiness  silhouette_score  \\\n",
       "0  macosko2015  parametric-tsne   2         0.946283           0.25781   \n",
       "\n",
       "                                  silhouette_samples  \n",
       "0  [0.3406608482046336, 0.8008643850128306, 0.103...  "
      ]
     },
     "execution_count": 52,
     "metadata": {},
     "output_type": "execute_result"
    }
   ],
   "source": [
    "metrics_df = pd.DataFrame(\n",
    "    columns=[\n",
    "        \"dataset\",\n",
    "        \"class_\",\n",
    "        \"dim\",\n",
    "        \"trustworthiness\",\n",
    "        \"silhouette_score\",\n",
    "        \"silhouette_samples\",\n",
    "    ]\n",
    ")\n",
    "metrics_df.loc[len(metrics_df)] = [dataset, 'parametric-tsne', n_components, tw, ss, sil_samp]\n",
    "metrics_df"
   ]
  },
  {
   "cell_type": "code",
   "execution_count": 53,
   "metadata": {
    "ExecuteTime": {
     "end_time": "2020-07-20T18:01:58.455623Z",
     "start_time": "2020-07-20T18:01:58.290183Z"
    }
   },
   "outputs": [],
   "source": [
    "save_loc = DATA_DIR / 'projection_metrics' / 'train' / str(n_components) / (dataset + '.pickle')\n",
    "ensure_dir(save_loc)\n",
    "metrics_df.to_pickle(save_loc)"
   ]
  },
  {
   "cell_type": "code",
   "execution_count": 54,
   "metadata": {
    "ExecuteTime": {
     "end_time": "2020-07-20T18:01:58.509470Z",
     "start_time": "2020-07-20T18:01:58.457207Z"
    }
   },
   "outputs": [
    {
     "data": {
      "text/html": [
       "<div>\n",
       "<style scoped>\n",
       "    .dataframe tbody tr th:only-of-type {\n",
       "        vertical-align: middle;\n",
       "    }\n",
       "\n",
       "    .dataframe tbody tr th {\n",
       "        vertical-align: top;\n",
       "    }\n",
       "\n",
       "    .dataframe thead th {\n",
       "        text-align: right;\n",
       "    }\n",
       "</style>\n",
       "<table border=\"1\" class=\"dataframe\">\n",
       "  <thead>\n",
       "    <tr style=\"text-align: right;\">\n",
       "      <th></th>\n",
       "      <th>dataset</th>\n",
       "      <th>class_</th>\n",
       "      <th>dim</th>\n",
       "      <th>trustworthiness</th>\n",
       "      <th>silhouette_score</th>\n",
       "      <th>silhouette_samples</th>\n",
       "    </tr>\n",
       "  </thead>\n",
       "  <tbody>\n",
       "    <tr>\n",
       "      <th>1</th>\n",
       "      <td>macosko2015</td>\n",
       "      <td>parametric-tsne</td>\n",
       "      <td>2</td>\n",
       "      <td>0.932334</td>\n",
       "      <td>0.27818</td>\n",
       "      <td>[0.5069764644083584, 0.16612674525714405, 0.53...</td>\n",
       "    </tr>\n",
       "  </tbody>\n",
       "</table>\n",
       "</div>"
      ],
      "text/plain": [
       "       dataset           class_ dim  trustworthiness  silhouette_score  \\\n",
       "1  macosko2015  parametric-tsne   2         0.932334           0.27818   \n",
       "\n",
       "                                  silhouette_samples  \n",
       "1  [0.5069764644083584, 0.16612674525714405, 0.53...  "
      ]
     },
     "execution_count": 54,
     "metadata": {},
     "output_type": "execute_result"
    }
   ],
   "source": [
    "metrics_df_test = pd.DataFrame(\n",
    "    columns=[\n",
    "        \"dataset\",\n",
    "        \"class_\",\n",
    "        \"dim\",\n",
    "        \"trustworthiness\",\n",
    "        \"silhouette_score\",\n",
    "        \"silhouette_samples\",\n",
    "    ]\n",
    ")\n",
    "metrics_df_test.loc[len(metrics_df)] = [dataset, 'parametric-tsne', n_components, tw_test, ss_test, sil_samp_test]\n",
    "metrics_df_test"
   ]
  },
  {
   "cell_type": "code",
   "execution_count": 55,
   "metadata": {
    "ExecuteTime": {
     "end_time": "2020-07-20T18:01:58.555291Z",
     "start_time": "2020-07-20T18:01:58.511209Z"
    }
   },
   "outputs": [],
   "source": [
    "save_loc = DATA_DIR / 'projection_metrics' / 'test' / str(n_components) / (dataset + '.pickle')\n",
    "ensure_dir(save_loc)\n",
    "metrics_df.to_pickle(save_loc)"
   ]
  },
  {
   "cell_type": "code",
   "execution_count": 56,
   "metadata": {
    "ExecuteTime": {
     "end_time": "2020-07-20T18:01:58.683797Z",
     "start_time": "2020-07-20T18:01:58.637953Z"
    }
   },
   "outputs": [
    {
     "data": {
      "text/html": [
       "<div>\n",
       "<style scoped>\n",
       "    .dataframe tbody tr th:only-of-type {\n",
       "        vertical-align: middle;\n",
       "    }\n",
       "\n",
       "    .dataframe tbody tr th {\n",
       "        vertical-align: top;\n",
       "    }\n",
       "\n",
       "    .dataframe thead th {\n",
       "        text-align: right;\n",
       "    }\n",
       "</style>\n",
       "<table border=\"1\" class=\"dataframe\">\n",
       "  <thead>\n",
       "    <tr style=\"text-align: right;\">\n",
       "      <th></th>\n",
       "      <th>method_</th>\n",
       "      <th>dimensions</th>\n",
       "      <th>dataset</th>\n",
       "      <th>1NN_acc</th>\n",
       "      <th>5NN_acc</th>\n",
       "    </tr>\n",
       "  </thead>\n",
       "  <tbody>\n",
       "    <tr>\n",
       "      <th>0</th>\n",
       "      <td>parametric-tsne</td>\n",
       "      <td>2</td>\n",
       "      <td>macosko2015</td>\n",
       "      <td>0.966079</td>\n",
       "      <td>0.976568</td>\n",
       "    </tr>\n",
       "  </tbody>\n",
       "</table>\n",
       "</div>"
      ],
      "text/plain": [
       "           method_ dimensions      dataset   1NN_acc   5NN_acc\n",
       "0  parametric-tsne          2  macosko2015  0.966079  0.976568"
      ]
     },
     "execution_count": 56,
     "metadata": {},
     "output_type": "execute_result"
    }
   ],
   "source": [
    "nn_acc_df = pd.DataFrame(columns = [\"method_\",\"dimensions\",\"dataset\",\"1NN_acc\",\"5NN_acc\"])\n",
    "nn_acc_df.loc[len(nn_acc_df)] = ['parametric-tsne', n_components, dataset,  score_1nn, score_5nn]\n",
    "nn_acc_df"
   ]
  },
  {
   "cell_type": "code",
   "execution_count": 57,
   "metadata": {
    "ExecuteTime": {
     "end_time": "2020-07-20T18:01:58.743746Z",
     "start_time": "2020-07-20T18:01:58.685165Z"
    }
   },
   "outputs": [],
   "source": [
    "save_loc = DATA_DIR / 'knn_classifier' / str(n_components) / (dataset + '.pickle')\n",
    "ensure_dir(save_loc)\n",
    "nn_acc_df.to_pickle(save_loc)"
   ]
  },
  {
   "cell_type": "code",
   "execution_count": null,
   "metadata": {},
   "outputs": [],
   "source": []
  },
  {
   "cell_type": "code",
   "execution_count": null,
   "metadata": {},
   "outputs": [],
   "source": []
  }
 ],
 "metadata": {
  "kernelspec": {
   "display_name": "Python 3",
   "language": "python",
   "name": "python3"
  },
  "language_info": {
   "codemirror_mode": {
    "name": "ipython",
    "version": 3
   },
   "file_extension": ".py",
   "mimetype": "text/x-python",
   "name": "python",
   "nbconvert_exporter": "python",
   "pygments_lexer": "ipython3",
   "version": "3.6.7"
  }
 },
 "nbformat": 4,
 "nbformat_minor": 2
}
