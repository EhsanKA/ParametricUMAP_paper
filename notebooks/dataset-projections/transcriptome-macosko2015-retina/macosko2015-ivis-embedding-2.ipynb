{
 "cells": [
  {
   "cell_type": "code",
   "execution_count": 1,
   "metadata": {
    "ExecuteTime": {
     "end_time": "2021-01-15T04:31:49.875745Z",
     "start_time": "2021-01-15T04:31:49.873701Z"
    }
   },
   "outputs": [],
   "source": [
    "dataset = 'macosko2015'\n",
    "algorithm = 'ivis'\n",
    "n_components = 2\n",
    "dims = (50,)\n"
   ]
  },
  {
   "cell_type": "code",
   "execution_count": 2,
   "metadata": {
    "ExecuteTime": {
     "end_time": "2021-01-15T04:31:49.895895Z",
     "start_time": "2021-01-15T04:31:49.876809Z"
    }
   },
   "outputs": [],
   "source": [
    "# reload packages\n",
    "%load_ext autoreload\n",
    "%autoreload 2"
   ]
  },
  {
   "cell_type": "markdown",
   "metadata": {},
   "source": [
    "### Choose GPU (this may not be needed on your computer)"
   ]
  },
  {
   "cell_type": "code",
   "execution_count": 3,
   "metadata": {
    "ExecuteTime": {
     "end_time": "2021-01-15T04:31:49.904264Z",
     "start_time": "2021-01-15T04:31:49.897130Z"
    }
   },
   "outputs": [
    {
     "name": "stdout",
     "output_type": "stream",
     "text": [
      "env: CUDA_DEVICE_ORDER=PCI_BUS_ID\n",
      "env: CUDA_VISIBLE_DEVICES=1\n"
     ]
    }
   ],
   "source": [
    "%env CUDA_DEVICE_ORDER=PCI_BUS_ID\n",
    "%env CUDA_VISIBLE_DEVICES=1"
   ]
  },
  {
   "cell_type": "code",
   "execution_count": 4,
   "metadata": {
    "ExecuteTime": {
     "end_time": "2021-01-15T04:31:51.271663Z",
     "start_time": "2021-01-15T04:31:49.905821Z"
    }
   },
   "outputs": [],
   "source": [
    "import tensorflow as tf\n",
    "gpus = tf.config.experimental.list_physical_devices('GPU')\n",
    "for gpu in gpus:\n",
    "  tf.config.experimental.set_memory_growth(gpu, True)"
   ]
  },
  {
   "cell_type": "markdown",
   "metadata": {},
   "source": [
    "### load packages"
   ]
  },
  {
   "cell_type": "code",
   "execution_count": 5,
   "metadata": {
    "ExecuteTime": {
     "end_time": "2021-01-15T04:32:01.067733Z",
     "start_time": "2021-01-15T04:31:51.272967Z"
    }
   },
   "outputs": [
    {
     "name": "stderr",
     "output_type": "stream",
     "text": [
      "/mnt/cube/tsainbur/Projects/github_repos/umap_tf_networks/tfumap/umap.py:7: TqdmExperimentalWarning: Using `tqdm.autonotebook.tqdm` in notebook mode. Use `tqdm.tqdm` instead to force console mode (e.g. in jupyter console)\n",
      "  from tqdm.autonotebook import tqdm\n"
     ]
    }
   ],
   "source": [
    "from tfumap.umap import tfUMAP"
   ]
  },
  {
   "cell_type": "code",
   "execution_count": 6,
   "metadata": {
    "ExecuteTime": {
     "end_time": "2021-01-15T04:32:01.232039Z",
     "start_time": "2021-01-15T04:32:01.069574Z"
    }
   },
   "outputs": [],
   "source": [
    "import tensorflow as tf\n",
    "import numpy as np\n",
    "import matplotlib.pyplot as plt\n",
    "from tqdm.autonotebook import tqdm\n",
    "import umap\n",
    "import pandas as pd"
   ]
  },
  {
   "cell_type": "markdown",
   "metadata": {},
   "source": [
    "### Load dataset"
   ]
  },
  {
   "cell_type": "code",
   "execution_count": 7,
   "metadata": {
    "ExecuteTime": {
     "end_time": "2021-01-15T04:32:01.261491Z",
     "start_time": "2021-01-15T04:32:01.233774Z"
    }
   },
   "outputs": [],
   "source": [
    "from tfumap.paths import ensure_dir, MODEL_DIR, DATA_DIR"
   ]
  },
  {
   "cell_type": "code",
   "execution_count": 8,
   "metadata": {
    "ExecuteTime": {
     "end_time": "2021-01-15T04:32:01.593256Z",
     "start_time": "2021-01-15T04:32:01.262979Z"
    }
   },
   "outputs": [
    {
     "name": "stdout",
     "output_type": "stream",
     "text": [
      "Data set contains 44808 samples with 50 features\n"
     ]
    }
   ],
   "source": [
    "import gzip\n",
    "import pickle\n",
    "\n",
    "with gzip.open(DATA_DIR / 'macosko_2015.pkl.gz', \"rb\") as f:\n",
    "    data = pickle.load(f)\n",
    "\n",
    "x = data[\"pca_50\"]\n",
    "y = data[\"CellType1\"].astype(str)\n",
    "\n",
    "def zero_one_norm(x):\n",
    "    return (x- np.min(x, axis=0))/ (np.max(x, axis=0)-np.min(x, axis=0))\n",
    "\n",
    "x_norm = zero_one_norm(x)\n",
    "\n",
    "print(\"Data set contains %d samples with %d features\" % x.shape)\n",
    "\n",
    "from sklearn.model_selection import train_test_split\n",
    "\n",
    "X_train, X_test, Y_train, Y_test = train_test_split(x_norm, y, test_size=.1, random_state=42)\n",
    "\n",
    "n_valid = 10000\n",
    "X_valid = X_train[-n_valid:]\n",
    "Y_valid = Y_train[-n_valid:]\n",
    "X_train = X_train[:-n_valid]\n",
    "Y_train = Y_train[:-n_valid]\n",
    "\n",
    "X_train_flat = X_train\n",
    "X_test_flat = X_test\n",
    "\n",
    "from sklearn.preprocessing import OrdinalEncoder\n",
    "enc = OrdinalEncoder()\n",
    "\n",
    "Y_train = enc.fit_transform([[i] for i in Y_train]).flatten()\n",
    "Y_test = enc.fit_transform([[i] for i in Y_test]).flatten()"
   ]
  },
  {
   "cell_type": "markdown",
   "metadata": {},
   "source": [
    "### Create model and train"
   ]
  },
  {
   "cell_type": "code",
   "execution_count": 9,
   "metadata": {
    "ExecuteTime": {
     "end_time": "2021-01-15T04:32:01.664884Z",
     "start_time": "2021-01-15T04:32:01.594867Z"
    }
   },
   "outputs": [],
   "source": [
    "from ivis import Ivis\n",
    "from sklearn.preprocessing import MinMaxScaler\n",
    "from sklearn import datasets"
   ]
  },
  {
   "cell_type": "code",
   "execution_count": 10,
   "metadata": {
    "ExecuteTime": {
     "end_time": "2021-01-15T04:32:01.692938Z",
     "start_time": "2021-01-15T04:32:01.666450Z"
    }
   },
   "outputs": [],
   "source": [
    "from tensorflow.keras.layers import (\n",
    "    Conv2D,\n",
    "    Reshape,\n",
    "    Bidirectional,\n",
    "    Dense,\n",
    "    RepeatVector,\n",
    "    TimeDistributed,\n",
    "    LSTM\n",
    ")\n",
    "n_components=2"
   ]
  },
  {
   "cell_type": "code",
   "execution_count": 11,
   "metadata": {
    "ExecuteTime": {
     "end_time": "2021-01-15T04:32:01.721987Z",
     "start_time": "2021-01-15T04:32:01.694337Z"
    }
   },
   "outputs": [
    {
     "data": {
      "text/plain": [
       "(30327, 50)"
      ]
     },
     "execution_count": 11,
     "metadata": {},
     "output_type": "execute_result"
    }
   ],
   "source": [
    "X_train.shape"
   ]
  },
  {
   "cell_type": "code",
   "execution_count": 12,
   "metadata": {
    "ExecuteTime": {
     "end_time": "2021-01-15T04:32:01.764085Z",
     "start_time": "2021-01-15T04:32:01.723540Z"
    }
   },
   "outputs": [],
   "source": [
    "x_scaler = MinMaxScaler()\n",
    "X_scaled = x_scaler.fit_transform(X_train_flat).reshape([len(X_train)] + list(dims))"
   ]
  },
  {
   "cell_type": "code",
   "execution_count": 13,
   "metadata": {
    "ExecuteTime": {
     "end_time": "2021-01-15T04:32:01.792302Z",
     "start_time": "2021-01-15T04:32:01.765652Z"
    }
   },
   "outputs": [],
   "source": [
    "# Set ivis parameters\n",
    "model = Ivis(embedding_dims=2)"
   ]
  },
  {
   "cell_type": "code",
   "execution_count": 14,
   "metadata": {
    "ExecuteTime": {
     "end_time": "2021-01-15T04:37:55.795311Z",
     "start_time": "2021-01-15T04:32:01.793693Z"
    }
   },
   "outputs": [
    {
     "name": "stderr",
     "output_type": "stream",
     "text": [
      " 28%|██▊       | 8344/30327 [00:00<00:00, 83432.72it/s]"
     ]
    },
    {
     "name": "stdout",
     "output_type": "stream",
     "text": [
      "Building KNN index\n"
     ]
    },
    {
     "name": "stderr",
     "output_type": "stream",
     "text": [
      "100%|██████████| 30327/30327 [00:00<00:00, 96452.18it/s]\n"
     ]
    },
    {
     "name": "stdout",
     "output_type": "stream",
     "text": [
      "Extracting KNN neighbours\n"
     ]
    },
    {
     "name": "stderr",
     "output_type": "stream",
     "text": [
      "100%|█████████▉| 30267/30327 [00:01<00:00, 15775.46it/s]\n"
     ]
    },
    {
     "name": "stdout",
     "output_type": "stream",
     "text": [
      "Training neural network\n",
      "Epoch 1/1000\n",
      "237/237 [==============================] - 1s 5ms/step - loss: 1.0210\n",
      "Epoch 2/1000\n",
      "237/237 [==============================] - 1s 5ms/step - loss: 0.9984\n",
      "Epoch 3/1000\n",
      "237/237 [==============================] - 1s 6ms/step - loss: 0.8424\n",
      "Epoch 4/1000\n",
      "237/237 [==============================] - 1s 6ms/step - loss: 0.7069\n",
      "Epoch 5/1000\n",
      "237/237 [==============================] - 1s 6ms/step - loss: 0.6470\n",
      "Epoch 6/1000\n",
      "237/237 [==============================] - 1s 6ms/step - loss: 0.6165\n",
      "Epoch 7/1000\n",
      "237/237 [==============================] - 2s 7ms/step - loss: 0.5969\n",
      "Epoch 8/1000\n",
      "237/237 [==============================] - 1s 6ms/step - loss: 0.5818\n",
      "Epoch 9/1000\n",
      "237/237 [==============================] - 1s 6ms/step - loss: 0.5615\n",
      "Epoch 10/1000\n",
      "237/237 [==============================] - 1s 6ms/step - loss: 0.5559\n",
      "Epoch 11/1000\n",
      "237/237 [==============================] - 1s 6ms/step - loss: 0.5450\n",
      "Epoch 12/1000\n",
      "237/237 [==============================] - 1s 6ms/step - loss: 0.5312\n",
      "Epoch 13/1000\n",
      "237/237 [==============================] - 1s 6ms/step - loss: 0.5264\n",
      "Epoch 14/1000\n",
      "237/237 [==============================] - 2s 7ms/step - loss: 0.5143\n",
      "Epoch 15/1000\n",
      "237/237 [==============================] - 1s 6ms/step - loss: 0.5105\n",
      "Epoch 16/1000\n",
      "237/237 [==============================] - 1s 5ms/step - loss: 0.4939\n",
      "Epoch 17/1000\n",
      "237/237 [==============================] - 1s 6ms/step - loss: 0.4917\n",
      "Epoch 18/1000\n",
      "237/237 [==============================] - 2s 6ms/step - loss: 0.4860\n",
      "Epoch 19/1000\n",
      "237/237 [==============================] - 1s 6ms/step - loss: 0.4800\n",
      "Epoch 20/1000\n",
      "237/237 [==============================] - 1s 5ms/step - loss: 0.4709\n",
      "Epoch 21/1000\n",
      "237/237 [==============================] - 1s 5ms/step - loss: 0.4633\n",
      "Epoch 22/1000\n",
      "237/237 [==============================] - 1s 5ms/step - loss: 0.4591\n",
      "Epoch 23/1000\n",
      "237/237 [==============================] - 1s 6ms/step - loss: 0.4425\n",
      "Epoch 24/1000\n",
      "237/237 [==============================] - 1s 6ms/step - loss: 0.4453\n",
      "Epoch 25/1000\n",
      "237/237 [==============================] - 1s 6ms/step - loss: 0.4442\n",
      "Epoch 26/1000\n",
      "237/237 [==============================] - 1s 5ms/step - loss: 0.4303\n",
      "Epoch 27/1000\n",
      "237/237 [==============================] - 1s 5ms/step - loss: 0.4268\n",
      "Epoch 28/1000\n",
      "237/237 [==============================] - 1s 6ms/step - loss: 0.4196\n",
      "Epoch 29/1000\n",
      "237/237 [==============================] - 1s 6ms/step - loss: 0.4149\n",
      "Epoch 30/1000\n",
      "237/237 [==============================] - 1s 6ms/step - loss: 0.4041\n",
      "Epoch 31/1000\n",
      "237/237 [==============================] - 1s 6ms/step - loss: 0.4088\n",
      "Epoch 32/1000\n",
      "237/237 [==============================] - 1s 6ms/step - loss: 0.4009\n",
      "Epoch 33/1000\n",
      "237/237 [==============================] - 1s 5ms/step - loss: 0.3958\n",
      "Epoch 34/1000\n",
      "237/237 [==============================] - 2s 6ms/step - loss: 0.3874\n",
      "Epoch 35/1000\n",
      "237/237 [==============================] - 1s 6ms/step - loss: 0.3881\n",
      "Epoch 36/1000\n",
      "237/237 [==============================] - 1s 6ms/step - loss: 0.3846\n",
      "Epoch 37/1000\n",
      "237/237 [==============================] - 1s 6ms/step - loss: 0.3795\n",
      "Epoch 38/1000\n",
      "237/237 [==============================] - 2s 7ms/step - loss: 0.3767\n",
      "Epoch 39/1000\n",
      "237/237 [==============================] - 1s 6ms/step - loss: 0.3708\n",
      "Epoch 40/1000\n",
      "237/237 [==============================] - 1s 6ms/step - loss: 0.3687\n",
      "Epoch 41/1000\n",
      "237/237 [==============================] - 1s 5ms/step - loss: 0.3684\n",
      "Epoch 42/1000\n",
      "237/237 [==============================] - 1s 6ms/step - loss: 0.3626\n",
      "Epoch 43/1000\n",
      "237/237 [==============================] - 1s 6ms/step - loss: 0.3644\n",
      "Epoch 44/1000\n",
      "237/237 [==============================] - 1s 5ms/step - loss: 0.3573\n",
      "Epoch 45/1000\n",
      "237/237 [==============================] - 1s 5ms/step - loss: 0.3565\n",
      "Epoch 46/1000\n",
      "237/237 [==============================] - 1s 5ms/step - loss: 0.3535\n",
      "Epoch 47/1000\n",
      "237/237 [==============================] - 1s 5ms/step - loss: 0.3584\n",
      "Epoch 48/1000\n",
      "237/237 [==============================] - 1s 5ms/step - loss: 0.3497\n",
      "Epoch 49/1000\n",
      "237/237 [==============================] - 1s 5ms/step - loss: 0.3479\n",
      "Epoch 50/1000\n",
      "237/237 [==============================] - 1s 6ms/step - loss: 0.3507\n",
      "Epoch 51/1000\n",
      "237/237 [==============================] - 1s 6ms/step - loss: 0.3455\n",
      "Epoch 52/1000\n",
      "237/237 [==============================] - 1s 6ms/step - loss: 0.3426\n",
      "Epoch 53/1000\n",
      "237/237 [==============================] - 1s 6ms/step - loss: 0.3406\n",
      "Epoch 54/1000\n",
      "237/237 [==============================] - 1s 6ms/step - loss: 0.3390\n",
      "Epoch 55/1000\n",
      "237/237 [==============================] - 1s 6ms/step - loss: 0.3371\n",
      "Epoch 56/1000\n",
      "237/237 [==============================] - 1s 6ms/step - loss: 0.3403\n",
      "Epoch 57/1000\n",
      "237/237 [==============================] - 1s 6ms/step - loss: 0.3322\n",
      "Epoch 58/1000\n",
      "237/237 [==============================] - 1s 6ms/step - loss: 0.3357\n",
      "Epoch 59/1000\n",
      "237/237 [==============================] - 1s 5ms/step - loss: 0.3346\n",
      "Epoch 60/1000\n",
      "237/237 [==============================] - 1s 5ms/step - loss: 0.3313\n",
      "Epoch 61/1000\n",
      "237/237 [==============================] - 1s 5ms/step - loss: 0.3289\n",
      "Epoch 62/1000\n",
      "237/237 [==============================] - 1s 5ms/step - loss: 0.3291\n",
      "Epoch 63/1000\n",
      "237/237 [==============================] - 1s 5ms/step - loss: 0.3299\n",
      "Epoch 64/1000\n",
      "237/237 [==============================] - 1s 5ms/step - loss: 0.3285\n",
      "Epoch 65/1000\n",
      "237/237 [==============================] - 1s 6ms/step - loss: 0.3326\n",
      "Epoch 66/1000\n",
      "237/237 [==============================] - 1s 5ms/step - loss: 0.3280\n",
      "Epoch 67/1000\n",
      "237/237 [==============================] - 1s 5ms/step - loss: 0.3196\n",
      "Epoch 68/1000\n",
      "237/237 [==============================] - 1s 5ms/step - loss: 0.3185\n",
      "Epoch 69/1000\n",
      "237/237 [==============================] - 1s 6ms/step - loss: 0.3203\n",
      "Epoch 70/1000\n",
      "237/237 [==============================] - 1s 6ms/step - loss: 0.3113\n",
      "Epoch 71/1000\n",
      "237/237 [==============================] - 1s 5ms/step - loss: 0.3153\n",
      "Epoch 72/1000\n",
      "237/237 [==============================] - 1s 5ms/step - loss: 0.3161\n",
      "Epoch 73/1000\n",
      "237/237 [==============================] - 1s 5ms/step - loss: 0.3058\n",
      "Epoch 74/1000\n",
      "237/237 [==============================] - 1s 5ms/step - loss: 0.3168\n",
      "Epoch 75/1000\n",
      "237/237 [==============================] - 1s 5ms/step - loss: 0.3107\n",
      "Epoch 76/1000\n",
      "237/237 [==============================] - 1s 5ms/step - loss: 0.3029\n",
      "Epoch 77/1000\n",
      "237/237 [==============================] - 1s 5ms/step - loss: 0.3048\n",
      "Epoch 78/1000\n",
      "237/237 [==============================] - 1s 5ms/step - loss: 0.3004\n",
      "Epoch 79/1000\n",
      "237/237 [==============================] - 1s 5ms/step - loss: 0.2976\n",
      "Epoch 80/1000\n",
      "237/237 [==============================] - 1s 5ms/step - loss: 0.2952\n",
      "Epoch 81/1000\n",
      "237/237 [==============================] - 1s 5ms/step - loss: 0.2973\n",
      "Epoch 82/1000\n",
      "237/237 [==============================] - 1s 5ms/step - loss: 0.2880\n",
      "Epoch 83/1000\n",
      "237/237 [==============================] - 1s 5ms/step - loss: 0.2902\n",
      "Epoch 84/1000\n",
      "237/237 [==============================] - 1s 4ms/step - loss: 0.2795\n",
      "Epoch 85/1000\n",
      "237/237 [==============================] - 1s 5ms/step - loss: 0.2770\n",
      "Epoch 86/1000\n",
      "237/237 [==============================] - 1s 5ms/step - loss: 0.2773\n",
      "Epoch 87/1000\n",
      "237/237 [==============================] - 1s 5ms/step - loss: 0.2723\n",
      "Epoch 88/1000\n",
      "237/237 [==============================] - 1s 4ms/step - loss: 0.2654\n",
      "Epoch 89/1000\n",
      "237/237 [==============================] - 1s 4ms/step - loss: 0.2679\n",
      "Epoch 90/1000\n",
      "237/237 [==============================] - 1s 5ms/step - loss: 0.2555\n",
      "Epoch 91/1000\n",
      "237/237 [==============================] - 1s 4ms/step - loss: 0.2554\n",
      "Epoch 92/1000\n",
      "237/237 [==============================] - 1s 4ms/step - loss: 0.2498\n",
      "Epoch 93/1000\n",
      "237/237 [==============================] - 1s 4ms/step - loss: 0.2521\n",
      "Epoch 94/1000\n",
      "237/237 [==============================] - 1s 5ms/step - loss: 0.2548\n",
      "Epoch 95/1000\n",
      "237/237 [==============================] - 1s 5ms/step - loss: 0.2543\n",
      "Epoch 96/1000\n",
      "237/237 [==============================] - 1s 5ms/step - loss: 0.2502\n",
      "Epoch 97/1000\n",
      "237/237 [==============================] - 1s 5ms/step - loss: 0.2434\n",
      "Epoch 98/1000\n"
     ]
    },
    {
     "name": "stdout",
     "output_type": "stream",
     "text": [
      "237/237 [==============================] - 1s 4ms/step - loss: 0.2434\n",
      "Epoch 99/1000\n",
      "237/237 [==============================] - 1s 4ms/step - loss: 0.2453\n",
      "Epoch 100/1000\n",
      "237/237 [==============================] - 1s 5ms/step - loss: 0.2412\n",
      "Epoch 101/1000\n",
      "237/237 [==============================] - 1s 5ms/step - loss: 0.2410\n",
      "Epoch 102/1000\n",
      "237/237 [==============================] - 1s 4ms/step - loss: 0.2405\n",
      "Epoch 103/1000\n",
      "237/237 [==============================] - 1s 4ms/step - loss: 0.2365\n",
      "Epoch 104/1000\n",
      "237/237 [==============================] - 1s 4ms/step - loss: 0.2389\n",
      "Epoch 105/1000\n",
      "237/237 [==============================] - 1s 4ms/step - loss: 0.2350\n",
      "Epoch 106/1000\n",
      "237/237 [==============================] - 1s 4ms/step - loss: 0.2325\n",
      "Epoch 107/1000\n",
      "237/237 [==============================] - 1s 4ms/step - loss: 0.2348\n",
      "Epoch 108/1000\n",
      "237/237 [==============================] - 1s 4ms/step - loss: 0.2296\n",
      "Epoch 109/1000\n",
      "237/237 [==============================] - 1s 4ms/step - loss: 0.2304\n",
      "Epoch 110/1000\n",
      "237/237 [==============================] - 1s 4ms/step - loss: 0.2321\n",
      "Epoch 111/1000\n",
      "237/237 [==============================] - 1s 4ms/step - loss: 0.2365\n",
      "Epoch 112/1000\n",
      "237/237 [==============================] - 1s 4ms/step - loss: 0.2279\n",
      "Epoch 113/1000\n",
      "237/237 [==============================] - 1s 4ms/step - loss: 0.2281\n",
      "Epoch 114/1000\n",
      "237/237 [==============================] - 1s 4ms/step - loss: 0.2231\n",
      "Epoch 115/1000\n",
      "237/237 [==============================] - 1s 4ms/step - loss: 0.2261\n",
      "Epoch 116/1000\n",
      "237/237 [==============================] - 1s 4ms/step - loss: 0.2251\n",
      "Epoch 117/1000\n",
      "237/237 [==============================] - 1s 4ms/step - loss: 0.2246\n",
      "Epoch 118/1000\n",
      "237/237 [==============================] - 1s 4ms/step - loss: 0.2243\n",
      "Epoch 119/1000\n",
      "237/237 [==============================] - 1s 4ms/step - loss: 0.2234\n",
      "Epoch 120/1000\n",
      "237/237 [==============================] - 1s 4ms/step - loss: 0.2225\n",
      "Epoch 121/1000\n",
      "237/237 [==============================] - 1s 4ms/step - loss: 0.2203\n",
      "Epoch 122/1000\n",
      "237/237 [==============================] - 1s 4ms/step - loss: 0.2196\n",
      "Epoch 123/1000\n",
      "237/237 [==============================] - 1s 4ms/step - loss: 0.2174\n",
      "Epoch 124/1000\n",
      "237/237 [==============================] - 1s 4ms/step - loss: 0.2164\n",
      "Epoch 125/1000\n",
      "237/237 [==============================] - 1s 4ms/step - loss: 0.2198\n",
      "Epoch 126/1000\n",
      "237/237 [==============================] - 1s 4ms/step - loss: 0.2189\n",
      "Epoch 127/1000\n",
      "237/237 [==============================] - 1s 4ms/step - loss: 0.2171\n",
      "Epoch 128/1000\n",
      "237/237 [==============================] - 1s 4ms/step - loss: 0.2100\n",
      "Epoch 129/1000\n",
      "237/237 [==============================] - 1s 4ms/step - loss: 0.2228\n",
      "Epoch 130/1000\n",
      "237/237 [==============================] - 1s 4ms/step - loss: 0.2188\n",
      "Epoch 131/1000\n",
      "237/237 [==============================] - 1s 4ms/step - loss: 0.2181\n",
      "Epoch 132/1000\n",
      "237/237 [==============================] - 1s 5ms/step - loss: 0.2158\n",
      "Epoch 133/1000\n",
      "237/237 [==============================] - 1s 6ms/step - loss: 0.2068\n",
      "Epoch 134/1000\n",
      "237/237 [==============================] - 1s 6ms/step - loss: 0.2151\n",
      "Epoch 135/1000\n",
      "237/237 [==============================] - 1s 5ms/step - loss: 0.2171\n",
      "Epoch 136/1000\n",
      "237/237 [==============================] - 1s 5ms/step - loss: 0.2134\n",
      "Epoch 137/1000\n",
      "237/237 [==============================] - 1s 6ms/step - loss: 0.2141\n",
      "Epoch 138/1000\n",
      "237/237 [==============================] - 1s 6ms/step - loss: 0.2137\n",
      "Epoch 139/1000\n",
      "237/237 [==============================] - 1s 6ms/step - loss: 0.2093\n",
      "Epoch 140/1000\n",
      "237/237 [==============================] - 1s 6ms/step - loss: 0.2139\n",
      "Epoch 141/1000\n",
      "237/237 [==============================] - 1s 6ms/step - loss: 0.2098\n",
      "Epoch 142/1000\n",
      "237/237 [==============================] - 1s 6ms/step - loss: 0.2141\n",
      "Epoch 143/1000\n",
      "237/237 [==============================] - 2s 6ms/step - loss: 0.2123\n",
      "Epoch 144/1000\n",
      "237/237 [==============================] - 1s 6ms/step - loss: 0.2094\n",
      "Epoch 145/1000\n",
      "237/237 [==============================] - 1s 6ms/step - loss: 0.2135\n",
      "Epoch 146/1000\n",
      "237/237 [==============================] - 1s 6ms/step - loss: 0.2075\n",
      "Epoch 147/1000\n",
      "237/237 [==============================] - 1s 6ms/step - loss: 0.2069\n",
      "Epoch 148/1000\n",
      "237/237 [==============================] - 1s 6ms/step - loss: 0.2076\n",
      "Epoch 149/1000\n",
      "237/237 [==============================] - 1s 6ms/step - loss: 0.2016\n",
      "Epoch 150/1000\n",
      "237/237 [==============================] - 2s 6ms/step - loss: 0.2072\n",
      "Epoch 151/1000\n",
      "237/237 [==============================] - 1s 5ms/step - loss: 0.2084\n",
      "Epoch 152/1000\n",
      "237/237 [==============================] - 1s 5ms/step - loss: 0.2057\n",
      "Epoch 153/1000\n",
      "237/237 [==============================] - 1s 6ms/step - loss: 0.2063\n",
      "Epoch 154/1000\n",
      "237/237 [==============================] - 1s 6ms/step - loss: 0.2071\n",
      "Epoch 155/1000\n",
      "237/237 [==============================] - 1s 6ms/step - loss: 0.2056\n",
      "Epoch 156/1000\n",
      "237/237 [==============================] - 1s 6ms/step - loss: 0.2025\n",
      "Epoch 157/1000\n",
      "237/237 [==============================] - 1s 6ms/step - loss: 0.2067\n",
      "Epoch 158/1000\n",
      "237/237 [==============================] - 1s 6ms/step - loss: 0.2040\n",
      "Epoch 159/1000\n",
      "237/237 [==============================] - 1s 6ms/step - loss: 0.2047\n",
      "Epoch 160/1000\n",
      "237/237 [==============================] - 1s 6ms/step - loss: 0.2034\n",
      "Epoch 161/1000\n",
      "237/237 [==============================] - 2s 6ms/step - loss: 0.2024\n",
      "Epoch 162/1000\n",
      "237/237 [==============================] - 1s 5ms/step - loss: 0.2042\n",
      "Epoch 163/1000\n",
      "237/237 [==============================] - 1s 6ms/step - loss: 0.1998\n",
      "Epoch 164/1000\n",
      "237/237 [==============================] - 1s 5ms/step - loss: 0.2004\n",
      "Epoch 165/1000\n",
      "237/237 [==============================] - 1s 5ms/step - loss: 0.2017\n",
      "Epoch 166/1000\n",
      "237/237 [==============================] - 1s 6ms/step - loss: 0.2054\n",
      "Epoch 167/1000\n",
      "237/237 [==============================] - 2s 6ms/step - loss: 0.1976\n",
      "Epoch 168/1000\n",
      "237/237 [==============================] - 1s 6ms/step - loss: 0.2024\n",
      "Epoch 169/1000\n",
      "237/237 [==============================] - 1s 6ms/step - loss: 0.2036\n",
      "Epoch 170/1000\n",
      "237/237 [==============================] - 1s 6ms/step - loss: 0.1995\n",
      "Epoch 171/1000\n",
      "237/237 [==============================] - 1s 6ms/step - loss: 0.2011\n",
      "Epoch 172/1000\n",
      "237/237 [==============================] - 1s 5ms/step - loss: 0.1999\n",
      "Epoch 173/1000\n",
      "237/237 [==============================] - 1s 6ms/step - loss: 0.1991\n",
      "Epoch 174/1000\n",
      "237/237 [==============================] - 1s 5ms/step - loss: 0.1984\n",
      "Epoch 175/1000\n",
      "237/237 [==============================] - 1s 6ms/step - loss: 0.1989\n",
      "Epoch 176/1000\n",
      "237/237 [==============================] - 1s 6ms/step - loss: 0.1996\n",
      "Epoch 177/1000\n",
      "237/237 [==============================] - 1s 5ms/step - loss: 0.1995\n",
      "Epoch 178/1000\n",
      "237/237 [==============================] - 1s 6ms/step - loss: 0.1984\n",
      "Epoch 179/1000\n",
      "237/237 [==============================] - 1s 6ms/step - loss: 0.1985\n",
      "Epoch 180/1000\n",
      "237/237 [==============================] - 1s 6ms/step - loss: 0.1993\n",
      "Epoch 181/1000\n",
      "237/237 [==============================] - 1s 6ms/step - loss: 0.2065\n",
      "Epoch 182/1000\n",
      "237/237 [==============================] - 1s 6ms/step - loss: 0.1993\n",
      "Epoch 183/1000\n",
      "237/237 [==============================] - 1s 6ms/step - loss: 0.1973\n",
      "Epoch 184/1000\n",
      "237/237 [==============================] - 1s 6ms/step - loss: 0.1984\n",
      "Epoch 185/1000\n",
      "237/237 [==============================] - 1s 6ms/step - loss: 0.2003\n",
      "Epoch 186/1000\n",
      "237/237 [==============================] - 1s 6ms/step - loss: 0.2028\n",
      "Epoch 187/1000\n",
      "237/237 [==============================] - 1s 6ms/step - loss: 0.1958\n",
      "Epoch 188/1000\n",
      "237/237 [==============================] - 1s 6ms/step - loss: 0.1973\n",
      "Epoch 189/1000\n",
      "237/237 [==============================] - 1s 6ms/step - loss: 0.1974\n",
      "Epoch 190/1000\n",
      "237/237 [==============================] - 2s 9ms/step - loss: 0.1929\n",
      "Epoch 191/1000\n",
      "237/237 [==============================] - 2s 8ms/step - loss: 0.2004\n",
      "Epoch 192/1000\n",
      "237/237 [==============================] - 2s 9ms/step - loss: 0.1960\n",
      "Epoch 193/1000\n",
      "237/237 [==============================] - 3s 11ms/step - loss: 0.1939\n",
      "Epoch 194/1000\n"
     ]
    },
    {
     "name": "stdout",
     "output_type": "stream",
     "text": [
      "237/237 [==============================] - 2s 10ms/step - loss: 0.1958\n",
      "Epoch 195/1000\n",
      "237/237 [==============================] - 3s 11ms/step - loss: 0.1944\n",
      "Epoch 196/1000\n",
      "237/237 [==============================] - 2s 10ms/step - loss: 0.1967\n",
      "Epoch 197/1000\n",
      "237/237 [==============================] - 2s 9ms/step - loss: 0.1960\n",
      "Epoch 198/1000\n",
      "237/237 [==============================] - 2s 10ms/step - loss: 0.1941\n",
      "Epoch 199/1000\n",
      "237/237 [==============================] - 3s 11ms/step - loss: 0.1966\n",
      "Epoch 200/1000\n",
      "237/237 [==============================] - 3s 13ms/step - loss: 0.1891\n",
      "Epoch 201/1000\n",
      "237/237 [==============================] - 3s 11ms/step - loss: 0.1969\n",
      "Epoch 202/1000\n",
      "237/237 [==============================] - 3s 11ms/step - loss: 0.1901\n",
      "Epoch 203/1000\n",
      "237/237 [==============================] - 3s 12ms/step - loss: 0.1916\n",
      "Epoch 204/1000\n",
      "237/237 [==============================] - 3s 12ms/step - loss: 0.1932\n",
      "Epoch 205/1000\n",
      "237/237 [==============================] - 2s 9ms/step - loss: 0.1929\n",
      "Epoch 206/1000\n",
      "237/237 [==============================] - 2s 9ms/step - loss: 0.1930\n",
      "Epoch 207/1000\n",
      "237/237 [==============================] - 2s 9ms/step - loss: 0.1950\n",
      "Epoch 208/1000\n",
      "237/237 [==============================] - 2s 10ms/step - loss: 0.1958\n",
      "Epoch 209/1000\n",
      "237/237 [==============================] - 2s 9ms/step - loss: 0.1920\n",
      "Epoch 210/1000\n",
      "237/237 [==============================] - 2s 9ms/step - loss: 0.1958\n",
      "Epoch 211/1000\n",
      "237/237 [==============================] - 2s 6ms/step - loss: 0.1930\n",
      "Epoch 212/1000\n",
      "237/237 [==============================] - 1s 6ms/step - loss: 0.1904\n",
      "Epoch 213/1000\n",
      "237/237 [==============================] - 1s 6ms/step - loss: 0.1861\n",
      "Epoch 214/1000\n",
      "237/237 [==============================] - 2s 7ms/step - loss: 0.1944\n",
      "Epoch 215/1000\n",
      "237/237 [==============================] - 2s 8ms/step - loss: 0.1929\n",
      "Epoch 216/1000\n",
      "237/237 [==============================] - 2s 8ms/step - loss: 0.1926\n",
      "Epoch 217/1000\n",
      "237/237 [==============================] - 2s 7ms/step - loss: 0.1961\n",
      "Epoch 218/1000\n",
      "237/237 [==============================] - 2s 8ms/step - loss: 0.1902\n",
      "Epoch 219/1000\n",
      "237/237 [==============================] - 2s 7ms/step - loss: 0.1884\n",
      "Epoch 220/1000\n",
      "237/237 [==============================] - 2s 7ms/step - loss: 0.1915\n",
      "Epoch 221/1000\n",
      "237/237 [==============================] - 2s 8ms/step - loss: 0.1890\n",
      "Epoch 222/1000\n",
      "237/237 [==============================] - 2s 7ms/step - loss: 0.1908\n",
      "Epoch 223/1000\n",
      "237/237 [==============================] - 1s 6ms/step - loss: 0.1924\n",
      "Epoch 224/1000\n",
      "237/237 [==============================] - 1s 6ms/step - loss: 0.1851\n",
      "Epoch 225/1000\n",
      "237/237 [==============================] - 2s 7ms/step - loss: 0.1930\n",
      "Epoch 226/1000\n",
      "237/237 [==============================] - 2s 7ms/step - loss: 0.1904\n",
      "Epoch 227/1000\n",
      "237/237 [==============================] - 2s 6ms/step - loss: 0.1909\n",
      "Epoch 228/1000\n",
      "237/237 [==============================] - 1s 6ms/step - loss: 0.1907\n",
      "Epoch 229/1000\n",
      "237/237 [==============================] - 1s 5ms/step - loss: 0.1912\n",
      "Epoch 230/1000\n",
      "237/237 [==============================] - 2s 7ms/step - loss: 0.1870\n",
      "Epoch 231/1000\n",
      "237/237 [==============================] - 2s 7ms/step - loss: 0.1875\n",
      "Epoch 232/1000\n",
      "237/237 [==============================] - 2s 7ms/step - loss: 0.1893\n",
      "Epoch 233/1000\n",
      "237/237 [==============================] - 1s 5ms/step - loss: 0.1877\n",
      "Epoch 234/1000\n",
      "237/237 [==============================] - 1s 5ms/step - loss: 0.1870\n",
      "Epoch 235/1000\n",
      "237/237 [==============================] - 1s 6ms/step - loss: 0.1901\n",
      "Epoch 236/1000\n",
      "237/237 [==============================] - 2s 7ms/step - loss: 0.1920\n",
      "Epoch 237/1000\n",
      "237/237 [==============================] - 2s 7ms/step - loss: 0.1922\n",
      "Epoch 238/1000\n",
      "237/237 [==============================] - 2s 7ms/step - loss: 0.1921\n",
      "Epoch 239/1000\n",
      "237/237 [==============================] - 2s 6ms/step - loss: 0.1939\n",
      "Epoch 240/1000\n",
      "237/237 [==============================] - 2s 7ms/step - loss: 0.1859\n",
      "Epoch 241/1000\n",
      "237/237 [==============================] - 2s 7ms/step - loss: 0.1895\n",
      "Epoch 242/1000\n",
      "237/237 [==============================] - 1s 6ms/step - loss: 0.1910\n",
      "Epoch 243/1000\n",
      "237/237 [==============================] - 1s 6ms/step - loss: 0.1885\n",
      "Epoch 244/1000\n",
      "237/237 [==============================] - 1s 6ms/step - loss: 0.1936\n",
      "237/237 [==============================] - 0s 1ms/step\n"
     ]
    }
   ],
   "source": [
    "# Generate embeddings\n",
    "embeddings =z = model.fit_transform(X_scaled)"
   ]
  },
  {
   "cell_type": "markdown",
   "metadata": {},
   "source": [
    "### Plot model output"
   ]
  },
  {
   "cell_type": "code",
   "execution_count": 15,
   "metadata": {
    "ExecuteTime": {
     "end_time": "2021-01-15T04:37:56.489527Z",
     "start_time": "2021-01-15T04:37:55.799836Z"
    }
   },
   "outputs": [
    {
     "data": {
      "image/png": "[encoded data removed]",
      "text/plain": [
       "<Figure size 576x576 with 2 Axes>"
      ]
     },
     "metadata": {
      "needs_background": "light"
     },
     "output_type": "display_data"
    }
   ],
   "source": [
    "fig, ax = plt.subplots( figsize=(8, 8))\n",
    "sc = ax.scatter(\n",
    "    z[:, 0],\n",
    "    z[:, 1],\n",
    "    c=Y_train.astype(int)[:len(z)],\n",
    "    cmap=\"tab10\",\n",
    "    s=0.1,\n",
    "    alpha=0.5,\n",
    "    rasterized=True,\n",
    ")\n",
    "ax.axis('equal')\n",
    "ax.set_title(\"UMAP in Tensorflow embedding\", fontsize=20)\n",
    "plt.colorbar(sc, ax=ax);"
   ]
  },
  {
   "cell_type": "markdown",
   "metadata": {},
   "source": [
    "### Save output"
   ]
  },
  {
   "cell_type": "code",
   "execution_count": 16,
   "metadata": {
    "ExecuteTime": {
     "end_time": "2021-01-15T04:37:56.522907Z",
     "start_time": "2021-01-15T04:37:56.491369Z"
    }
   },
   "outputs": [],
   "source": [
    "from tfumap.paths import ensure_dir, MODEL_DIR"
   ]
  },
  {
   "cell_type": "code",
   "execution_count": 17,
   "metadata": {
    "ExecuteTime": {
     "end_time": "2021-01-15T04:37:56.550048Z",
     "start_time": "2021-01-15T04:37:56.524289Z"
    }
   },
   "outputs": [],
   "source": [
    "output_dir = MODEL_DIR/'projections'/ dataset / algorithm\n",
    "ensure_dir(output_dir)"
   ]
  },
  {
   "cell_type": "code",
   "execution_count": 18,
   "metadata": {
    "ExecuteTime": {
     "end_time": "2021-01-15T04:37:56.638787Z",
     "start_time": "2021-01-15T04:37:56.551734Z"
    }
   },
   "outputs": [],
   "source": [
    "#vae.save(output_dir)"
   ]
  },
  {
   "cell_type": "code",
   "execution_count": 24,
   "metadata": {
    "ExecuteTime": {
     "end_time": "2021-01-15T20:56:17.983308Z",
     "start_time": "2021-01-15T20:56:17.843281Z"
    }
   },
   "outputs": [],
   "source": [
    "model.save_model(output_dir / 'iris.ivis')"
   ]
  },
  {
   "cell_type": "code",
   "execution_count": 25,
   "metadata": {
    "ExecuteTime": {
     "end_time": "2021-01-15T20:56:18.375088Z",
     "start_time": "2021-01-15T20:56:18.337156Z"
    }
   },
   "outputs": [],
   "source": [
    "#loss_df.to_pickle(output_dir / 'loss_df.pickle')"
   ]
  },
  {
   "cell_type": "code",
   "execution_count": 26,
   "metadata": {
    "ExecuteTime": {
     "end_time": "2021-01-15T20:56:18.560344Z",
     "start_time": "2021-01-15T20:56:18.494729Z"
    }
   },
   "outputs": [],
   "source": [
    "np.save(output_dir / 'z.npy', z)"
   ]
  },
  {
   "cell_type": "markdown",
   "metadata": {},
   "source": [
    "### compute metrics "
   ]
  },
  {
   "cell_type": "code",
   "execution_count": 27,
   "metadata": {
    "ExecuteTime": {
     "end_time": "2021-01-15T20:56:18.851104Z",
     "start_time": "2021-01-15T20:56:18.806719Z"
    }
   },
   "outputs": [
    {
     "data": {
      "text/plain": [
       "(4481, 50)"
      ]
     },
     "execution_count": 27,
     "metadata": {},
     "output_type": "execute_result"
    }
   ],
   "source": [
    "X_test.shape"
   ]
  },
  {
   "cell_type": "code",
   "execution_count": 28,
   "metadata": {
    "ExecuteTime": {
     "end_time": "2021-01-15T20:56:19.087295Z",
     "start_time": "2021-01-15T20:56:18.967720Z"
    }
   },
   "outputs": [
    {
     "name": "stdout",
     "output_type": "stream",
     "text": [
      "36/36 [==============================] - 0s 985us/step\n"
     ]
    }
   ],
   "source": [
    "z_test = model.transform(x_scaler.transform(X_test).reshape([len(X_test)]+ list(dims)))"
   ]
  },
  {
   "cell_type": "markdown",
   "metadata": {},
   "source": [
    "#### silhouette"
   ]
  },
  {
   "cell_type": "code",
   "execution_count": 29,
   "metadata": {
    "ExecuteTime": {
     "end_time": "2021-01-15T20:56:19.401508Z",
     "start_time": "2021-01-15T20:56:19.290274Z"
    }
   },
   "outputs": [],
   "source": [
    "from tfumap.silhouette import silhouette_score_block"
   ]
  },
  {
   "cell_type": "code",
   "execution_count": 30,
   "metadata": {
    "ExecuteTime": {
     "end_time": "2021-01-15T20:56:26.626736Z",
     "start_time": "2021-01-15T20:56:19.441136Z"
    }
   },
   "outputs": [
    {
     "data": {
      "text/plain": [
       "0.07321512956820685"
      ]
     },
     "execution_count": 30,
     "metadata": {},
     "output_type": "execute_result"
    }
   ],
   "source": [
    "ss, sil_samp = silhouette_score_block(z, Y_train, n_jobs = -1)\n",
    "ss"
   ]
  },
  {
   "cell_type": "code",
   "execution_count": 31,
   "metadata": {
    "ExecuteTime": {
     "end_time": "2021-01-15T20:56:26.892637Z",
     "start_time": "2021-01-15T20:56:26.629172Z"
    }
   },
   "outputs": [
    {
     "data": {
      "text/plain": [
       "0.08781625580396307"
      ]
     },
     "execution_count": 31,
     "metadata": {},
     "output_type": "execute_result"
    }
   ],
   "source": [
    "ss_test, sil_samp_test = silhouette_score_block(z_test, Y_test, n_jobs = -1)\n",
    "ss_test"
   ]
  },
  {
   "cell_type": "code",
   "execution_count": 32,
   "metadata": {
    "ExecuteTime": {
     "end_time": "2021-01-15T20:56:27.410250Z",
     "start_time": "2021-01-15T20:56:26.894411Z"
    }
   },
   "outputs": [
    {
     "data": {
      "text/plain": [
       "<matplotlib.collections.PathCollection at 0x7fc7f4052590>"
      ]
     },
     "execution_count": 32,
     "metadata": {},
     "output_type": "execute_result"
    },
    {
     "data": {
      "image/png": "[encoded data removed]",
      "text/plain": [
       "<Figure size 720x360 with 2 Axes>"
      ]
     },
     "metadata": {
      "needs_background": "light"
     },
     "output_type": "display_data"
    }
   ],
   "source": [
    "fig, axs = plt.subplots(ncols = 2, figsize=(10, 5))\n",
    "axs[0].scatter(z[:, 0], z[:, 1], s=0.1, alpha=0.5, c=sil_samp, cmap=plt.cm.viridis)\n",
    "axs[1].scatter(z_test[:, 0], z_test[:, 1], s=1, alpha=0.5, c=sil_samp_test, cmap=plt.cm.viridis)"
   ]
  },
  {
   "cell_type": "markdown",
   "metadata": {},
   "source": [
    "#### KNN"
   ]
  },
  {
   "cell_type": "code",
   "execution_count": 33,
   "metadata": {
    "ExecuteTime": {
     "end_time": "2021-01-15T20:56:27.441660Z",
     "start_time": "2021-01-15T20:56:27.411715Z"
    }
   },
   "outputs": [],
   "source": [
    "from sklearn.neighbors import KNeighborsClassifier"
   ]
  },
  {
   "cell_type": "code",
   "execution_count": 34,
   "metadata": {
    "ExecuteTime": {
     "end_time": "2021-01-15T20:56:27.586697Z",
     "start_time": "2021-01-15T20:56:27.442953Z"
    }
   },
   "outputs": [
    {
     "data": {
      "text/plain": [
       "0.894220040169605"
      ]
     },
     "execution_count": 34,
     "metadata": {},
     "output_type": "execute_result"
    }
   ],
   "source": [
    "neigh5 = KNeighborsClassifier(n_neighbors=5)\n",
    "neigh5.fit(z, Y_train)\n",
    "score_5nn = neigh5.score(z_test, Y_test)\n",
    "score_5nn"
   ]
  },
  {
   "cell_type": "code",
   "execution_count": 35,
   "metadata": {
    "ExecuteTime": {
     "end_time": "2021-01-15T20:56:27.726987Z",
     "start_time": "2021-01-15T20:56:27.587961Z"
    }
   },
   "outputs": [
    {
     "data": {
      "text/plain": [
       "0.856728408837313"
      ]
     },
     "execution_count": 35,
     "metadata": {},
     "output_type": "execute_result"
    }
   ],
   "source": [
    "neigh1 = KNeighborsClassifier(n_neighbors=1)\n",
    "neigh1.fit(z, Y_train)\n",
    "score_1nn = neigh1.score(z_test, Y_test)\n",
    "score_1nn"
   ]
  },
  {
   "cell_type": "markdown",
   "metadata": {},
   "source": [
    "#### Trustworthiness"
   ]
  },
  {
   "cell_type": "code",
   "execution_count": 36,
   "metadata": {
    "ExecuteTime": {
     "end_time": "2021-01-15T20:56:27.757268Z",
     "start_time": "2021-01-15T20:56:27.728183Z"
    }
   },
   "outputs": [],
   "source": [
    "from sklearn.manifold import trustworthiness"
   ]
  },
  {
   "cell_type": "code",
   "execution_count": 37,
   "metadata": {
    "ExecuteTime": {
     "end_time": "2021-01-15T20:56:36.848395Z",
     "start_time": "2021-01-15T20:56:27.759233Z"
    }
   },
   "outputs": [],
   "source": [
    "tw = trustworthiness(X_train_flat[:10000], z[:10000])"
   ]
  },
  {
   "cell_type": "code",
   "execution_count": 38,
   "metadata": {
    "ExecuteTime": {
     "end_time": "2021-01-15T20:56:38.705156Z",
     "start_time": "2021-01-15T20:56:36.850232Z"
    }
   },
   "outputs": [],
   "source": [
    "tw_test = trustworthiness(X_test_flat[:10000], z_test[:10000])"
   ]
  },
  {
   "cell_type": "code",
   "execution_count": 39,
   "metadata": {
    "ExecuteTime": {
     "end_time": "2021-01-15T20:56:38.736329Z",
     "start_time": "2021-01-15T20:56:38.706556Z"
    }
   },
   "outputs": [
    {
     "data": {
      "text/plain": [
       "(0.8063654743795036, 0.8074298053440033)"
      ]
     },
     "execution_count": 39,
     "metadata": {},
     "output_type": "execute_result"
    }
   ],
   "source": [
    "tw, tw_test"
   ]
  },
  {
   "cell_type": "markdown",
   "metadata": {},
   "source": [
    "### Save output metrics"
   ]
  },
  {
   "cell_type": "code",
   "execution_count": 40,
   "metadata": {
    "ExecuteTime": {
     "end_time": "2021-01-15T20:56:38.762610Z",
     "start_time": "2021-01-15T20:56:38.737502Z"
    }
   },
   "outputs": [],
   "source": [
    "from tfumap.paths import ensure_dir, MODEL_DIR, DATA_DIR"
   ]
  },
  {
   "cell_type": "markdown",
   "metadata": {},
   "source": [
    "#### train"
   ]
  },
  {
   "cell_type": "code",
   "execution_count": 41,
   "metadata": {
    "ExecuteTime": {
     "end_time": "2021-01-15T20:56:38.812273Z",
     "start_time": "2021-01-15T20:56:38.763959Z"
    }
   },
   "outputs": [
    {
     "data": {
      "text/html": [
       "<div>\n",
       "<style scoped>\n",
       "    .dataframe tbody tr th:only-of-type {\n",
       "        vertical-align: middle;\n",
       "    }\n",
       "\n",
       "    .dataframe tbody tr th {\n",
       "        vertical-align: top;\n",
       "    }\n",
       "\n",
       "    .dataframe thead th {\n",
       "        text-align: right;\n",
       "    }\n",
       "</style>\n",
       "<table border=\"1\" class=\"dataframe\">\n",
       "  <thead>\n",
       "    <tr style=\"text-align: right;\">\n",
       "      <th></th>\n",
       "      <th>dataset</th>\n",
       "      <th>class_</th>\n",
       "      <th>dim</th>\n",
       "      <th>trustworthiness</th>\n",
       "      <th>silhouette_score</th>\n",
       "      <th>silhouette_samples</th>\n",
       "    </tr>\n",
       "  </thead>\n",
       "  <tbody>\n",
       "    <tr>\n",
       "      <th>0</th>\n",
       "      <td>macosko2015</td>\n",
       "      <td>ivis</td>\n",
       "      <td>2</td>\n",
       "      <td>0.806365</td>\n",
       "      <td>0.073215</td>\n",
       "      <td>[-0.03946282290050109, 0.39034829304423946, 0....</td>\n",
       "    </tr>\n",
       "  </tbody>\n",
       "</table>\n",
       "</div>"
      ],
      "text/plain": [
       "       dataset class_ dim  trustworthiness  silhouette_score  \\\n",
       "0  macosko2015   ivis   2         0.806365          0.073215   \n",
       "\n",
       "                                  silhouette_samples  \n",
       "0  [-0.03946282290050109, 0.39034829304423946, 0....  "
      ]
     },
     "execution_count": 41,
     "metadata": {},
     "output_type": "execute_result"
    }
   ],
   "source": [
    "metrics_df = pd.DataFrame(\n",
    "    columns=[\n",
    "        \"dataset\",\n",
    "        \"class_\",\n",
    "        \"dim\",\n",
    "        \"trustworthiness\",\n",
    "        \"silhouette_score\",\n",
    "        \"silhouette_samples\",\n",
    "    ]\n",
    ")\n",
    "metrics_df.loc[len(metrics_df)] = [dataset, algorithm, n_components, tw, ss, sil_samp]\n",
    "metrics_df"
   ]
  },
  {
   "cell_type": "code",
   "execution_count": 42,
   "metadata": {
    "ExecuteTime": {
     "end_time": "2021-01-15T20:56:38.905063Z",
     "start_time": "2021-01-15T20:56:38.813438Z"
    }
   },
   "outputs": [],
   "source": [
    "save_loc = DATA_DIR / 'projection_metrics' /  algorithm / 'train' / str(n_components) / (dataset + '.pickle')\n",
    "ensure_dir(save_loc)\n",
    "metrics_df.to_pickle(save_loc)"
   ]
  },
  {
   "cell_type": "markdown",
   "metadata": {},
   "source": [
    "#### test"
   ]
  },
  {
   "cell_type": "code",
   "execution_count": 43,
   "metadata": {
    "ExecuteTime": {
     "end_time": "2021-01-15T20:56:38.953115Z",
     "start_time": "2021-01-15T20:56:38.907085Z"
    }
   },
   "outputs": [
    {
     "data": {
      "text/html": [
       "<div>\n",
       "<style scoped>\n",
       "    .dataframe tbody tr th:only-of-type {\n",
       "        vertical-align: middle;\n",
       "    }\n",
       "\n",
       "    .dataframe tbody tr th {\n",
       "        vertical-align: top;\n",
       "    }\n",
       "\n",
       "    .dataframe thead th {\n",
       "        text-align: right;\n",
       "    }\n",
       "</style>\n",
       "<table border=\"1\" class=\"dataframe\">\n",
       "  <thead>\n",
       "    <tr style=\"text-align: right;\">\n",
       "      <th></th>\n",
       "      <th>dataset</th>\n",
       "      <th>class_</th>\n",
       "      <th>dim</th>\n",
       "      <th>trustworthiness</th>\n",
       "      <th>silhouette_score</th>\n",
       "      <th>silhouette_samples</th>\n",
       "    </tr>\n",
       "  </thead>\n",
       "  <tbody>\n",
       "    <tr>\n",
       "      <th>1</th>\n",
       "      <td>macosko2015</td>\n",
       "      <td>ivis</td>\n",
       "      <td>2</td>\n",
       "      <td>0.80743</td>\n",
       "      <td>0.087816</td>\n",
       "      <td>[-0.17598146319755065, -0.2735587064395884, -0...</td>\n",
       "    </tr>\n",
       "  </tbody>\n",
       "</table>\n",
       "</div>"
      ],
      "text/plain": [
       "       dataset class_ dim  trustworthiness  silhouette_score  \\\n",
       "1  macosko2015   ivis   2          0.80743          0.087816   \n",
       "\n",
       "                                  silhouette_samples  \n",
       "1  [-0.17598146319755065, -0.2735587064395884, -0...  "
      ]
     },
     "execution_count": 43,
     "metadata": {},
     "output_type": "execute_result"
    }
   ],
   "source": [
    "metrics_df_test = pd.DataFrame(\n",
    "    columns=[\n",
    "        \"dataset\",\n",
    "        \"class_\",\n",
    "        \"dim\",\n",
    "        \"trustworthiness\",\n",
    "        \"silhouette_score\",\n",
    "        \"silhouette_samples\",\n",
    "    ]\n",
    ")\n",
    "metrics_df_test.loc[len(metrics_df)] = [dataset, algorithm, n_components, tw_test, ss_test, sil_samp_test]\n",
    "metrics_df_test"
   ]
  },
  {
   "cell_type": "code",
   "execution_count": 44,
   "metadata": {
    "ExecuteTime": {
     "end_time": "2021-01-15T20:56:39.010050Z",
     "start_time": "2021-01-15T20:56:38.954516Z"
    }
   },
   "outputs": [],
   "source": [
    "save_loc = DATA_DIR / 'projection_metrics' / algorithm / 'test' / str(n_components) / (dataset + '.pickle')\n",
    "ensure_dir(save_loc)\n",
    "metrics_df.to_pickle(save_loc)"
   ]
  },
  {
   "cell_type": "markdown",
   "metadata": {},
   "source": [
    "#### knn "
   ]
  },
  {
   "cell_type": "code",
   "execution_count": 45,
   "metadata": {
    "ExecuteTime": {
     "end_time": "2021-01-15T20:56:39.055538Z",
     "start_time": "2021-01-15T20:56:39.012160Z"
    }
   },
   "outputs": [
    {
     "data": {
      "text/html": [
       "<div>\n",
       "<style scoped>\n",
       "    .dataframe tbody tr th:only-of-type {\n",
       "        vertical-align: middle;\n",
       "    }\n",
       "\n",
       "    .dataframe tbody tr th {\n",
       "        vertical-align: top;\n",
       "    }\n",
       "\n",
       "    .dataframe thead th {\n",
       "        text-align: right;\n",
       "    }\n",
       "</style>\n",
       "<table border=\"1\" class=\"dataframe\">\n",
       "  <thead>\n",
       "    <tr style=\"text-align: right;\">\n",
       "      <th></th>\n",
       "      <th>method_</th>\n",
       "      <th>dimensions</th>\n",
       "      <th>dataset</th>\n",
       "      <th>1NN_acc</th>\n",
       "      <th>5NN_acc</th>\n",
       "    </tr>\n",
       "  </thead>\n",
       "  <tbody>\n",
       "    <tr>\n",
       "      <th>0</th>\n",
       "      <td>ivis</td>\n",
       "      <td>2</td>\n",
       "      <td>macosko2015</td>\n",
       "      <td>0.856728</td>\n",
       "      <td>0.89422</td>\n",
       "    </tr>\n",
       "  </tbody>\n",
       "</table>\n",
       "</div>"
      ],
      "text/plain": [
       "  method_ dimensions      dataset   1NN_acc  5NN_acc\n",
       "0    ivis          2  macosko2015  0.856728  0.89422"
      ]
     },
     "execution_count": 45,
     "metadata": {},
     "output_type": "execute_result"
    }
   ],
   "source": [
    "nn_acc_df = pd.DataFrame(columns = [\"method_\",\"dimensions\",\"dataset\",\"1NN_acc\",\"5NN_acc\"])\n",
    "nn_acc_df.loc[len(nn_acc_df)] = [algorithm, n_components, dataset,  score_1nn, score_5nn]\n",
    "nn_acc_df"
   ]
  },
  {
   "cell_type": "code",
   "execution_count": 46,
   "metadata": {
    "ExecuteTime": {
     "end_time": "2021-01-15T20:56:39.082461Z",
     "start_time": "2021-01-15T20:56:39.056583Z"
    }
   },
   "outputs": [],
   "source": [
    "save_loc = DATA_DIR / 'knn_classifier' / algorithm / 'train' / str(n_components) / (dataset + '.pickle')\n",
    "ensure_dir(save_loc)\n",
    "nn_acc_df.to_pickle(save_loc)"
   ]
  },
  {
   "cell_type": "markdown",
   "metadata": {},
   "source": [
    "### Compute clustering quality"
   ]
  },
  {
   "cell_type": "code",
   "execution_count": 47,
   "metadata": {
    "ExecuteTime": {
     "end_time": "2021-01-15T20:56:39.124797Z",
     "start_time": "2021-01-15T20:56:39.083540Z"
    }
   },
   "outputs": [],
   "source": [
    "from sklearn.cluster import KMeans\n",
    "from sklearn.metrics import homogeneity_completeness_v_measure"
   ]
  },
  {
   "cell_type": "code",
   "execution_count": 48,
   "metadata": {
    "ExecuteTime": {
     "end_time": "2021-01-15T20:56:39.160647Z",
     "start_time": "2021-01-15T20:56:39.126097Z"
    }
   },
   "outputs": [],
   "source": [
    "def get_cluster_metrics(row, n_init=5):\n",
    "    \n",
    "    # load cluster information\n",
    "    save_loc = DATA_DIR / 'clustering_metric_df'/ ('_'.join([row.class_, str(row.dim), row.dataset]) + '.pickle')\n",
    "    print(save_loc)\n",
    "    if save_loc.exists() and save_loc.is_file():\n",
    "        \n",
    "        cluster_df = pd.read_pickle(save_loc)\n",
    "        return cluster_df\n",
    "    \n",
    "    # make cluster metric dataframe\n",
    "    cluster_df = pd.DataFrame(\n",
    "        columns=[\n",
    "            \"dataset\",\n",
    "            \"class_\",\n",
    "            \"dim\",\n",
    "            \"silhouette\",\n",
    "            \"homogeneity\",\n",
    "            \"completeness\",\n",
    "            \"v_measure\",\n",
    "            \"init_\",\n",
    "            \"n_clusters\",\n",
    "            \"model\",\n",
    "        ]\n",
    "    )\n",
    "    y = row.train_label\n",
    "    z = row.train_z\n",
    "    n_labels = len(np.unique(y))\n",
    "    for n_clusters in tqdm(np.arange(n_labels - int(n_labels / 2), n_labels + int(n_labels / 2)), leave=False, desc = 'n_clusters'):\n",
    "        for init_ in tqdm(range(n_init), leave=False, desc='init'):\n",
    "            kmeans = KMeans(n_clusters=n_clusters, random_state=init_).fit(z)\n",
    "            clustered_y = kmeans.labels_\n",
    "            homogeneity, completeness, v_measure = homogeneity_completeness_v_measure(\n",
    "                np.array(y).flatten(), np.array(clustered_y).flatten()\n",
    "            )\n",
    "            ss, _ = silhouette_score_block(z, clustered_y)\n",
    "            cluster_df.loc[len(cluster_df)] = [\n",
    "                row.dataset,\n",
    "                row.class_,\n",
    "                row.dim,\n",
    "                ss,\n",
    "                homogeneity,\n",
    "                completeness,\n",
    "                v_measure,\n",
    "                init_,\n",
    "                n_clusters,\n",
    "                kmeans,\n",
    "            ]\n",
    "    \n",
    "     # save cluster df in case this fails somewhere\n",
    "    ensure_dir(save_loc)\n",
    "    cluster_df.to_pickle(save_loc)\n",
    "    return cluster_df"
   ]
  },
  {
   "cell_type": "code",
   "execution_count": 49,
   "metadata": {
    "ExecuteTime": {
     "end_time": "2021-01-15T20:56:39.216278Z",
     "start_time": "2021-01-15T20:56:39.161948Z"
    }
   },
   "outputs": [
    {
     "data": {
      "text/html": [
       "<div>\n",
       "<style scoped>\n",
       "    .dataframe tbody tr th:only-of-type {\n",
       "        vertical-align: middle;\n",
       "    }\n",
       "\n",
       "    .dataframe tbody tr th {\n",
       "        vertical-align: top;\n",
       "    }\n",
       "\n",
       "    .dataframe thead th {\n",
       "        text-align: right;\n",
       "    }\n",
       "</style>\n",
       "<table border=\"1\" class=\"dataframe\">\n",
       "  <thead>\n",
       "    <tr style=\"text-align: right;\">\n",
       "      <th></th>\n",
       "      <th>dataset</th>\n",
       "      <th>class_</th>\n",
       "      <th>train_z</th>\n",
       "      <th>train_label</th>\n",
       "      <th>dim</th>\n",
       "    </tr>\n",
       "  </thead>\n",
       "  <tbody>\n",
       "    <tr>\n",
       "      <th>0</th>\n",
       "      <td>macosko2015</td>\n",
       "      <td>ivis</td>\n",
       "      <td>[[-4.0207024, 16.128086], [-5.2879386, 14.0991...</td>\n",
       "      <td>[10.0, 7.0, 0.0, 10.0, 10.0, 10.0, 10.0, 10.0,...</td>\n",
       "      <td>2</td>\n",
       "    </tr>\n",
       "  </tbody>\n",
       "</table>\n",
       "</div>"
      ],
      "text/plain": [
       "       dataset class_                                            train_z  \\\n",
       "0  macosko2015   ivis  [[-4.0207024, 16.128086], [-5.2879386, 14.0991...   \n",
       "\n",
       "                                         train_label dim  \n",
       "0  [10.0, 7.0, 0.0, 10.0, 10.0, 10.0, 10.0, 10.0,...   2  "
      ]
     },
     "execution_count": 49,
     "metadata": {},
     "output_type": "execute_result"
    }
   ],
   "source": [
    "projection_df = pd.DataFrame(columns = ['dataset', 'class_', 'train_z', 'train_label', 'dim'])\n",
    "projection_df.loc[len(projection_df)] = [dataset, algorithm, z, Y_train, n_components]\n",
    "projection_df"
   ]
  },
  {
   "cell_type": "code",
   "execution_count": 51,
   "metadata": {
    "ExecuteTime": {
     "end_time": "2021-01-15T21:05:46.867582Z",
     "start_time": "2021-01-15T20:56:39.300756Z"
    }
   },
   "outputs": [
    {
     "name": "stdout",
     "output_type": "stream",
     "text": [
      "/mnt/cube/tsainbur/Projects/github_repos/umap_tf_networks/data/clustering_metric_df/ivis_2_macosko2015.pickle\n"
     ]
    },
    {
     "data": {
      "application/vnd.jupyter.widget-view+json": {
       "model_id": "",
       "version_major": 2,
       "version_minor": 0
      },
      "text/plain": [
       "n_clusters:   0%|          | 0/12 [00:00<?, ?it/s]"
      ]
     },
     "metadata": {},
     "output_type": "display_data"
    },
    {
     "data": {
      "application/vnd.jupyter.widget-view+json": {
       "model_id": "",
       "version_major": 2,
       "version_minor": 0
      },
      "text/plain": [
       "init:   0%|          | 0/5 [00:00<?, ?it/s]"
      ]
     },
     "metadata": {},
     "output_type": "display_data"
    },
    {
     "data": {
      "application/vnd.jupyter.widget-view+json": {
       "model_id": "",
       "version_major": 2,
       "version_minor": 0
      },
      "text/plain": [
       "init:   0%|          | 0/5 [00:00<?, ?it/s]"
      ]
     },
     "metadata": {},
     "output_type": "display_data"
    },
    {
     "data": {
      "application/vnd.jupyter.widget-view+json": {
       "model_id": "",
       "version_major": 2,
       "version_minor": 0
      },
      "text/plain": [
       "init:   0%|          | 0/5 [00:00<?, ?it/s]"
      ]
     },
     "metadata": {},
     "output_type": "display_data"
    },
    {
     "data": {
      "application/vnd.jupyter.widget-view+json": {
       "model_id": "",
       "version_major": 2,
       "version_minor": 0
      },
      "text/plain": [
       "init:   0%|          | 0/5 [00:00<?, ?it/s]"
      ]
     },
     "metadata": {},
     "output_type": "display_data"
    },
    {
     "data": {
      "application/vnd.jupyter.widget-view+json": {
       "model_id": "",
       "version_major": 2,
       "version_minor": 0
      },
      "text/plain": [
       "init:   0%|          | 0/5 [00:00<?, ?it/s]"
      ]
     },
     "metadata": {},
     "output_type": "display_data"
    },
    {
     "data": {
      "application/vnd.jupyter.widget-view+json": {
       "model_id": "",
       "version_major": 2,
       "version_minor": 0
      },
      "text/plain": [
       "init:   0%|          | 0/5 [00:00<?, ?it/s]"
      ]
     },
     "metadata": {},
     "output_type": "display_data"
    },
    {
     "data": {
      "application/vnd.jupyter.widget-view+json": {
       "model_id": "",
       "version_major": 2,
       "version_minor": 0
      },
      "text/plain": [
       "init:   0%|          | 0/5 [00:00<?, ?it/s]"
      ]
     },
     "metadata": {},
     "output_type": "display_data"
    },
    {
     "data": {
      "application/vnd.jupyter.widget-view+json": {
       "model_id": "",
       "version_major": 2,
       "version_minor": 0
      },
      "text/plain": [
       "init:   0%|          | 0/5 [00:00<?, ?it/s]"
      ]
     },
     "metadata": {},
     "output_type": "display_data"
    },
    {
     "data": {
      "application/vnd.jupyter.widget-view+json": {
       "model_id": "",
       "version_major": 2,
       "version_minor": 0
      },
      "text/plain": [
       "init:   0%|          | 0/5 [00:00<?, ?it/s]"
      ]
     },
     "metadata": {},
     "output_type": "display_data"
    },
    {
     "data": {
      "application/vnd.jupyter.widget-view+json": {
       "model_id": "",
       "version_major": 2,
       "version_minor": 0
      },
      "text/plain": [
       "init:   0%|          | 0/5 [00:00<?, ?it/s]"
      ]
     },
     "metadata": {},
     "output_type": "display_data"
    },
    {
     "data": {
      "application/vnd.jupyter.widget-view+json": {
       "model_id": "",
       "version_major": 2,
       "version_minor": 0
      },
      "text/plain": [
       "init:   0%|          | 0/5 [00:00<?, ?it/s]"
      ]
     },
     "metadata": {},
     "output_type": "display_data"
    },
    {
     "data": {
      "application/vnd.jupyter.widget-view+json": {
       "model_id": "",
       "version_major": 2,
       "version_minor": 0
      },
      "text/plain": [
       "init:   0%|          | 0/5 [00:00<?, ?it/s]"
      ]
     },
     "metadata": {},
     "output_type": "display_data"
    },
    {
     "data": {
      "text/html": [
       "<div>\n",
       "<style scoped>\n",
       "    .dataframe tbody tr th:only-of-type {\n",
       "        vertical-align: middle;\n",
       "    }\n",
       "\n",
       "    .dataframe tbody tr th {\n",
       "        vertical-align: top;\n",
       "    }\n",
       "\n",
       "    .dataframe thead th {\n",
       "        text-align: right;\n",
       "    }\n",
       "</style>\n",
       "<table border=\"1\" class=\"dataframe\">\n",
       "  <thead>\n",
       "    <tr style=\"text-align: right;\">\n",
       "      <th></th>\n",
       "      <th>dataset</th>\n",
       "      <th>class_</th>\n",
       "      <th>dim</th>\n",
       "      <th>silhouette</th>\n",
       "      <th>homogeneity</th>\n",
       "      <th>completeness</th>\n",
       "      <th>v_measure</th>\n",
       "      <th>init_</th>\n",
       "      <th>n_clusters</th>\n",
       "      <th>model</th>\n",
       "    </tr>\n",
       "  </thead>\n",
       "  <tbody>\n",
       "    <tr>\n",
       "      <th>0</th>\n",
       "      <td>macosko2015</td>\n",
       "      <td>ivis</td>\n",
       "      <td>2</td>\n",
       "      <td>0.423906</td>\n",
       "      <td>0.543111</td>\n",
       "      <td>0.381188</td>\n",
       "      <td>0.447966</td>\n",
       "      <td>0</td>\n",
       "      <td>6</td>\n",
       "      <td>KMeans(n_clusters=6, random_state=0)</td>\n",
       "    </tr>\n",
       "    <tr>\n",
       "      <th>1</th>\n",
       "      <td>macosko2015</td>\n",
       "      <td>ivis</td>\n",
       "      <td>2</td>\n",
       "      <td>0.423820</td>\n",
       "      <td>0.543322</td>\n",
       "      <td>0.381319</td>\n",
       "      <td>0.448128</td>\n",
       "      <td>1</td>\n",
       "      <td>6</td>\n",
       "      <td>KMeans(n_clusters=6, random_state=1)</td>\n",
       "    </tr>\n",
       "    <tr>\n",
       "      <th>2</th>\n",
       "      <td>macosko2015</td>\n",
       "      <td>ivis</td>\n",
       "      <td>2</td>\n",
       "      <td>0.424049</td>\n",
       "      <td>0.543104</td>\n",
       "      <td>0.381197</td>\n",
       "      <td>0.447970</td>\n",
       "      <td>2</td>\n",
       "      <td>6</td>\n",
       "      <td>KMeans(n_clusters=6, random_state=2)</td>\n",
       "    </tr>\n",
       "    <tr>\n",
       "      <th>3</th>\n",
       "      <td>macosko2015</td>\n",
       "      <td>ivis</td>\n",
       "      <td>2</td>\n",
       "      <td>0.423821</td>\n",
       "      <td>0.543389</td>\n",
       "      <td>0.380846</td>\n",
       "      <td>0.447824</td>\n",
       "      <td>3</td>\n",
       "      <td>6</td>\n",
       "      <td>KMeans(n_clusters=6, random_state=3)</td>\n",
       "    </tr>\n",
       "    <tr>\n",
       "      <th>4</th>\n",
       "      <td>macosko2015</td>\n",
       "      <td>ivis</td>\n",
       "      <td>2</td>\n",
       "      <td>0.424114</td>\n",
       "      <td>0.543788</td>\n",
       "      <td>0.381464</td>\n",
       "      <td>0.448387</td>\n",
       "      <td>4</td>\n",
       "      <td>6</td>\n",
       "      <td>KMeans(n_clusters=6, random_state=4)</td>\n",
       "    </tr>\n",
       "    <tr>\n",
       "      <th>5</th>\n",
       "      <td>macosko2015</td>\n",
       "      <td>ivis</td>\n",
       "      <td>2</td>\n",
       "      <td>0.447630</td>\n",
       "      <td>0.584547</td>\n",
       "      <td>0.392566</td>\n",
       "      <td>0.469697</td>\n",
       "      <td>0</td>\n",
       "      <td>7</td>\n",
       "      <td>KMeans(n_clusters=7, random_state=0)</td>\n",
       "    </tr>\n",
       "    <tr>\n",
       "      <th>6</th>\n",
       "      <td>macosko2015</td>\n",
       "      <td>ivis</td>\n",
       "      <td>2</td>\n",
       "      <td>0.447439</td>\n",
       "      <td>0.584219</td>\n",
       "      <td>0.391737</td>\n",
       "      <td>0.468997</td>\n",
       "      <td>1</td>\n",
       "      <td>7</td>\n",
       "      <td>KMeans(n_clusters=7, random_state=1)</td>\n",
       "    </tr>\n",
       "    <tr>\n",
       "      <th>7</th>\n",
       "      <td>macosko2015</td>\n",
       "      <td>ivis</td>\n",
       "      <td>2</td>\n",
       "      <td>0.447700</td>\n",
       "      <td>0.583738</td>\n",
       "      <td>0.391079</td>\n",
       "      <td>0.468370</td>\n",
       "      <td>2</td>\n",
       "      <td>7</td>\n",
       "      <td>KMeans(n_clusters=7, random_state=2)</td>\n",
       "    </tr>\n",
       "    <tr>\n",
       "      <th>8</th>\n",
       "      <td>macosko2015</td>\n",
       "      <td>ivis</td>\n",
       "      <td>2</td>\n",
       "      <td>0.447104</td>\n",
       "      <td>0.584611</td>\n",
       "      <td>0.391665</td>\n",
       "      <td>0.469072</td>\n",
       "      <td>3</td>\n",
       "      <td>7</td>\n",
       "      <td>KMeans(n_clusters=7, random_state=3)</td>\n",
       "    </tr>\n",
       "    <tr>\n",
       "      <th>9</th>\n",
       "      <td>macosko2015</td>\n",
       "      <td>ivis</td>\n",
       "      <td>2</td>\n",
       "      <td>0.447801</td>\n",
       "      <td>0.583668</td>\n",
       "      <td>0.391051</td>\n",
       "      <td>0.468328</td>\n",
       "      <td>4</td>\n",
       "      <td>7</td>\n",
       "      <td>KMeans(n_clusters=7, random_state=4)</td>\n",
       "    </tr>\n",
       "    <tr>\n",
       "      <th>10</th>\n",
       "      <td>macosko2015</td>\n",
       "      <td>ivis</td>\n",
       "      <td>2</td>\n",
       "      <td>0.447392</td>\n",
       "      <td>0.612255</td>\n",
       "      <td>0.377684</td>\n",
       "      <td>0.467178</td>\n",
       "      <td>0</td>\n",
       "      <td>8</td>\n",
       "      <td>KMeans(random_state=0)</td>\n",
       "    </tr>\n",
       "    <tr>\n",
       "      <th>11</th>\n",
       "      <td>macosko2015</td>\n",
       "      <td>ivis</td>\n",
       "      <td>2</td>\n",
       "      <td>0.446821</td>\n",
       "      <td>0.612997</td>\n",
       "      <td>0.378112</td>\n",
       "      <td>0.467721</td>\n",
       "      <td>1</td>\n",
       "      <td>8</td>\n",
       "      <td>KMeans(random_state=1)</td>\n",
       "    </tr>\n",
       "    <tr>\n",
       "      <th>12</th>\n",
       "      <td>macosko2015</td>\n",
       "      <td>ivis</td>\n",
       "      <td>2</td>\n",
       "      <td>0.447959</td>\n",
       "      <td>0.612226</td>\n",
       "      <td>0.377947</td>\n",
       "      <td>0.467371</td>\n",
       "      <td>2</td>\n",
       "      <td>8</td>\n",
       "      <td>KMeans(random_state=2)</td>\n",
       "    </tr>\n",
       "    <tr>\n",
       "      <th>13</th>\n",
       "      <td>macosko2015</td>\n",
       "      <td>ivis</td>\n",
       "      <td>2</td>\n",
       "      <td>0.446322</td>\n",
       "      <td>0.612668</td>\n",
       "      <td>0.377525</td>\n",
       "      <td>0.467177</td>\n",
       "      <td>3</td>\n",
       "      <td>8</td>\n",
       "      <td>KMeans(random_state=3)</td>\n",
       "    </tr>\n",
       "    <tr>\n",
       "      <th>14</th>\n",
       "      <td>macosko2015</td>\n",
       "      <td>ivis</td>\n",
       "      <td>2</td>\n",
       "      <td>0.449451</td>\n",
       "      <td>0.610904</td>\n",
       "      <td>0.378053</td>\n",
       "      <td>0.467066</td>\n",
       "      <td>4</td>\n",
       "      <td>8</td>\n",
       "      <td>KMeans(random_state=4)</td>\n",
       "    </tr>\n",
       "    <tr>\n",
       "      <th>15</th>\n",
       "      <td>macosko2015</td>\n",
       "      <td>ivis</td>\n",
       "      <td>2</td>\n",
       "      <td>0.426935</td>\n",
       "      <td>0.603253</td>\n",
       "      <td>0.349231</td>\n",
       "      <td>0.442369</td>\n",
       "      <td>0</td>\n",
       "      <td>9</td>\n",
       "      <td>KMeans(n_clusters=9, random_state=0)</td>\n",
       "    </tr>\n",
       "    <tr>\n",
       "      <th>16</th>\n",
       "      <td>macosko2015</td>\n",
       "      <td>ivis</td>\n",
       "      <td>2</td>\n",
       "      <td>0.429223</td>\n",
       "      <td>0.609213</td>\n",
       "      <td>0.353797</td>\n",
       "      <td>0.447634</td>\n",
       "      <td>1</td>\n",
       "      <td>9</td>\n",
       "      <td>KMeans(n_clusters=9, random_state=1)</td>\n",
       "    </tr>\n",
       "    <tr>\n",
       "      <th>17</th>\n",
       "      <td>macosko2015</td>\n",
       "      <td>ivis</td>\n",
       "      <td>2</td>\n",
       "      <td>0.426899</td>\n",
       "      <td>0.603621</td>\n",
       "      <td>0.349572</td>\n",
       "      <td>0.442742</td>\n",
       "      <td>2</td>\n",
       "      <td>9</td>\n",
       "      <td>KMeans(n_clusters=9, random_state=2)</td>\n",
       "    </tr>\n",
       "    <tr>\n",
       "      <th>18</th>\n",
       "      <td>macosko2015</td>\n",
       "      <td>ivis</td>\n",
       "      <td>2</td>\n",
       "      <td>0.430206</td>\n",
       "      <td>0.609693</td>\n",
       "      <td>0.354169</td>\n",
       "      <td>0.448061</td>\n",
       "      <td>3</td>\n",
       "      <td>9</td>\n",
       "      <td>KMeans(n_clusters=9, random_state=3)</td>\n",
       "    </tr>\n",
       "    <tr>\n",
       "      <th>19</th>\n",
       "      <td>macosko2015</td>\n",
       "      <td>ivis</td>\n",
       "      <td>2</td>\n",
       "      <td>0.427195</td>\n",
       "      <td>0.605079</td>\n",
       "      <td>0.350373</td>\n",
       "      <td>0.443776</td>\n",
       "      <td>4</td>\n",
       "      <td>9</td>\n",
       "      <td>KMeans(n_clusters=9, random_state=4)</td>\n",
       "    </tr>\n",
       "    <tr>\n",
       "      <th>20</th>\n",
       "      <td>macosko2015</td>\n",
       "      <td>ivis</td>\n",
       "      <td>2</td>\n",
       "      <td>0.414188</td>\n",
       "      <td>0.621552</td>\n",
       "      <td>0.336469</td>\n",
       "      <td>0.436594</td>\n",
       "      <td>0</td>\n",
       "      <td>10</td>\n",
       "      <td>KMeans(n_clusters=10, random_state=0)</td>\n",
       "    </tr>\n",
       "    <tr>\n",
       "      <th>21</th>\n",
       "      <td>macosko2015</td>\n",
       "      <td>ivis</td>\n",
       "      <td>2</td>\n",
       "      <td>0.414709</td>\n",
       "      <td>0.621491</td>\n",
       "      <td>0.336612</td>\n",
       "      <td>0.436699</td>\n",
       "      <td>1</td>\n",
       "      <td>10</td>\n",
       "      <td>KMeans(n_clusters=10, random_state=1)</td>\n",
       "    </tr>\n",
       "    <tr>\n",
       "      <th>22</th>\n",
       "      <td>macosko2015</td>\n",
       "      <td>ivis</td>\n",
       "      <td>2</td>\n",
       "      <td>0.414714</td>\n",
       "      <td>0.621666</td>\n",
       "      <td>0.336700</td>\n",
       "      <td>0.436816</td>\n",
       "      <td>2</td>\n",
       "      <td>10</td>\n",
       "      <td>KMeans(n_clusters=10, random_state=2)</td>\n",
       "    </tr>\n",
       "    <tr>\n",
       "      <th>23</th>\n",
       "      <td>macosko2015</td>\n",
       "      <td>ivis</td>\n",
       "      <td>2</td>\n",
       "      <td>0.414660</td>\n",
       "      <td>0.621559</td>\n",
       "      <td>0.336676</td>\n",
       "      <td>0.436770</td>\n",
       "      <td>3</td>\n",
       "      <td>10</td>\n",
       "      <td>KMeans(n_clusters=10, random_state=3)</td>\n",
       "    </tr>\n",
       "    <tr>\n",
       "      <th>24</th>\n",
       "      <td>macosko2015</td>\n",
       "      <td>ivis</td>\n",
       "      <td>2</td>\n",
       "      <td>0.417952</td>\n",
       "      <td>0.623574</td>\n",
       "      <td>0.339091</td>\n",
       "      <td>0.439298</td>\n",
       "      <td>4</td>\n",
       "      <td>10</td>\n",
       "      <td>KMeans(n_clusters=10, random_state=4)</td>\n",
       "    </tr>\n",
       "    <tr>\n",
       "      <th>25</th>\n",
       "      <td>macosko2015</td>\n",
       "      <td>ivis</td>\n",
       "      <td>2</td>\n",
       "      <td>0.397284</td>\n",
       "      <td>0.631888</td>\n",
       "      <td>0.320570</td>\n",
       "      <td>0.425351</td>\n",
       "      <td>0</td>\n",
       "      <td>11</td>\n",
       "      <td>KMeans(n_clusters=11, random_state=0)</td>\n",
       "    </tr>\n",
       "    <tr>\n",
       "      <th>26</th>\n",
       "      <td>macosko2015</td>\n",
       "      <td>ivis</td>\n",
       "      <td>2</td>\n",
       "      <td>0.397196</td>\n",
       "      <td>0.631770</td>\n",
       "      <td>0.320454</td>\n",
       "      <td>0.425222</td>\n",
       "      <td>1</td>\n",
       "      <td>11</td>\n",
       "      <td>KMeans(n_clusters=11, random_state=1)</td>\n",
       "    </tr>\n",
       "    <tr>\n",
       "      <th>27</th>\n",
       "      <td>macosko2015</td>\n",
       "      <td>ivis</td>\n",
       "      <td>2</td>\n",
       "      <td>0.397205</td>\n",
       "      <td>0.631878</td>\n",
       "      <td>0.320530</td>\n",
       "      <td>0.425313</td>\n",
       "      <td>2</td>\n",
       "      <td>11</td>\n",
       "      <td>KMeans(n_clusters=11, random_state=2)</td>\n",
       "    </tr>\n",
       "    <tr>\n",
       "      <th>28</th>\n",
       "      <td>macosko2015</td>\n",
       "      <td>ivis</td>\n",
       "      <td>2</td>\n",
       "      <td>0.397246</td>\n",
       "      <td>0.631992</td>\n",
       "      <td>0.320635</td>\n",
       "      <td>0.425431</td>\n",
       "      <td>3</td>\n",
       "      <td>11</td>\n",
       "      <td>KMeans(n_clusters=11, random_state=3)</td>\n",
       "    </tr>\n",
       "    <tr>\n",
       "      <th>29</th>\n",
       "      <td>macosko2015</td>\n",
       "      <td>ivis</td>\n",
       "      <td>2</td>\n",
       "      <td>0.397250</td>\n",
       "      <td>0.632021</td>\n",
       "      <td>0.320643</td>\n",
       "      <td>0.425445</td>\n",
       "      <td>4</td>\n",
       "      <td>11</td>\n",
       "      <td>KMeans(n_clusters=11, random_state=4)</td>\n",
       "    </tr>\n",
       "    <tr>\n",
       "      <th>30</th>\n",
       "      <td>macosko2015</td>\n",
       "      <td>ivis</td>\n",
       "      <td>2</td>\n",
       "      <td>0.394469</td>\n",
       "      <td>0.639569</td>\n",
       "      <td>0.320011</td>\n",
       "      <td>0.426581</td>\n",
       "      <td>0</td>\n",
       "      <td>12</td>\n",
       "      <td>KMeans(n_clusters=12, random_state=0)</td>\n",
       "    </tr>\n",
       "    <tr>\n",
       "      <th>31</th>\n",
       "      <td>macosko2015</td>\n",
       "      <td>ivis</td>\n",
       "      <td>2</td>\n",
       "      <td>0.394298</td>\n",
       "      <td>0.639807</td>\n",
       "      <td>0.320024</td>\n",
       "      <td>0.426646</td>\n",
       "      <td>1</td>\n",
       "      <td>12</td>\n",
       "      <td>KMeans(n_clusters=12, random_state=1)</td>\n",
       "    </tr>\n",
       "    <tr>\n",
       "      <th>32</th>\n",
       "      <td>macosko2015</td>\n",
       "      <td>ivis</td>\n",
       "      <td>2</td>\n",
       "      <td>0.394184</td>\n",
       "      <td>0.639511</td>\n",
       "      <td>0.319620</td>\n",
       "      <td>0.426220</td>\n",
       "      <td>2</td>\n",
       "      <td>12</td>\n",
       "      <td>KMeans(n_clusters=12, random_state=2)</td>\n",
       "    </tr>\n",
       "    <tr>\n",
       "      <th>33</th>\n",
       "      <td>macosko2015</td>\n",
       "      <td>ivis</td>\n",
       "      <td>2</td>\n",
       "      <td>0.394046</td>\n",
       "      <td>0.637553</td>\n",
       "      <td>0.318503</td>\n",
       "      <td>0.424793</td>\n",
       "      <td>3</td>\n",
       "      <td>12</td>\n",
       "      <td>KMeans(n_clusters=12, random_state=3)</td>\n",
       "    </tr>\n",
       "    <tr>\n",
       "      <th>34</th>\n",
       "      <td>macosko2015</td>\n",
       "      <td>ivis</td>\n",
       "      <td>2</td>\n",
       "      <td>0.393950</td>\n",
       "      <td>0.638858</td>\n",
       "      <td>0.319335</td>\n",
       "      <td>0.425822</td>\n",
       "      <td>4</td>\n",
       "      <td>12</td>\n",
       "      <td>KMeans(n_clusters=12, random_state=4)</td>\n",
       "    </tr>\n",
       "    <tr>\n",
       "      <th>35</th>\n",
       "      <td>macosko2015</td>\n",
       "      <td>ivis</td>\n",
       "      <td>2</td>\n",
       "      <td>0.393241</td>\n",
       "      <td>0.634591</td>\n",
       "      <td>0.307446</td>\n",
       "      <td>0.414214</td>\n",
       "      <td>0</td>\n",
       "      <td>13</td>\n",
       "      <td>KMeans(n_clusters=13, random_state=0)</td>\n",
       "    </tr>\n",
       "    <tr>\n",
       "      <th>36</th>\n",
       "      <td>macosko2015</td>\n",
       "      <td>ivis</td>\n",
       "      <td>2</td>\n",
       "      <td>0.392849</td>\n",
       "      <td>0.634117</td>\n",
       "      <td>0.307074</td>\n",
       "      <td>0.413775</td>\n",
       "      <td>1</td>\n",
       "      <td>13</td>\n",
       "      <td>KMeans(n_clusters=13, random_state=1)</td>\n",
       "    </tr>\n",
       "    <tr>\n",
       "      <th>37</th>\n",
       "      <td>macosko2015</td>\n",
       "      <td>ivis</td>\n",
       "      <td>2</td>\n",
       "      <td>0.392905</td>\n",
       "      <td>0.635505</td>\n",
       "      <td>0.307383</td>\n",
       "      <td>0.414351</td>\n",
       "      <td>2</td>\n",
       "      <td>13</td>\n",
       "      <td>KMeans(n_clusters=13, random_state=2)</td>\n",
       "    </tr>\n",
       "    <tr>\n",
       "      <th>38</th>\n",
       "      <td>macosko2015</td>\n",
       "      <td>ivis</td>\n",
       "      <td>2</td>\n",
       "      <td>0.392863</td>\n",
       "      <td>0.634138</td>\n",
       "      <td>0.306992</td>\n",
       "      <td>0.413705</td>\n",
       "      <td>3</td>\n",
       "      <td>13</td>\n",
       "      <td>KMeans(n_clusters=13, random_state=3)</td>\n",
       "    </tr>\n",
       "    <tr>\n",
       "      <th>39</th>\n",
       "      <td>macosko2015</td>\n",
       "      <td>ivis</td>\n",
       "      <td>2</td>\n",
       "      <td>0.392770</td>\n",
       "      <td>0.634343</td>\n",
       "      <td>0.306850</td>\n",
       "      <td>0.413620</td>\n",
       "      <td>4</td>\n",
       "      <td>13</td>\n",
       "      <td>KMeans(n_clusters=13, random_state=4)</td>\n",
       "    </tr>\n",
       "    <tr>\n",
       "      <th>40</th>\n",
       "      <td>macosko2015</td>\n",
       "      <td>ivis</td>\n",
       "      <td>2</td>\n",
       "      <td>0.395704</td>\n",
       "      <td>0.635292</td>\n",
       "      <td>0.297058</td>\n",
       "      <td>0.404824</td>\n",
       "      <td>0</td>\n",
       "      <td>14</td>\n",
       "      <td>KMeans(n_clusters=14, random_state=0)</td>\n",
       "    </tr>\n",
       "    <tr>\n",
       "      <th>41</th>\n",
       "      <td>macosko2015</td>\n",
       "      <td>ivis</td>\n",
       "      <td>2</td>\n",
       "      <td>0.393769</td>\n",
       "      <td>0.635065</td>\n",
       "      <td>0.296989</td>\n",
       "      <td>0.404713</td>\n",
       "      <td>1</td>\n",
       "      <td>14</td>\n",
       "      <td>KMeans(n_clusters=14, random_state=1)</td>\n",
       "    </tr>\n",
       "    <tr>\n",
       "      <th>42</th>\n",
       "      <td>macosko2015</td>\n",
       "      <td>ivis</td>\n",
       "      <td>2</td>\n",
       "      <td>0.395782</td>\n",
       "      <td>0.635789</td>\n",
       "      <td>0.297513</td>\n",
       "      <td>0.405347</td>\n",
       "      <td>2</td>\n",
       "      <td>14</td>\n",
       "      <td>KMeans(n_clusters=14, random_state=2)</td>\n",
       "    </tr>\n",
       "    <tr>\n",
       "      <th>43</th>\n",
       "      <td>macosko2015</td>\n",
       "      <td>ivis</td>\n",
       "      <td>2</td>\n",
       "      <td>0.395710</td>\n",
       "      <td>0.635486</td>\n",
       "      <td>0.297000</td>\n",
       "      <td>0.404809</td>\n",
       "      <td>3</td>\n",
       "      <td>14</td>\n",
       "      <td>KMeans(n_clusters=14, random_state=3)</td>\n",
       "    </tr>\n",
       "    <tr>\n",
       "      <th>44</th>\n",
       "      <td>macosko2015</td>\n",
       "      <td>ivis</td>\n",
       "      <td>2</td>\n",
       "      <td>0.395853</td>\n",
       "      <td>0.635550</td>\n",
       "      <td>0.297430</td>\n",
       "      <td>0.405221</td>\n",
       "      <td>4</td>\n",
       "      <td>14</td>\n",
       "      <td>KMeans(n_clusters=14, random_state=4)</td>\n",
       "    </tr>\n",
       "    <tr>\n",
       "      <th>45</th>\n",
       "      <td>macosko2015</td>\n",
       "      <td>ivis</td>\n",
       "      <td>2</td>\n",
       "      <td>0.389395</td>\n",
       "      <td>0.636100</td>\n",
       "      <td>0.289588</td>\n",
       "      <td>0.397989</td>\n",
       "      <td>0</td>\n",
       "      <td>15</td>\n",
       "      <td>KMeans(n_clusters=15, random_state=0)</td>\n",
       "    </tr>\n",
       "    <tr>\n",
       "      <th>46</th>\n",
       "      <td>macosko2015</td>\n",
       "      <td>ivis</td>\n",
       "      <td>2</td>\n",
       "      <td>0.389562</td>\n",
       "      <td>0.635677</td>\n",
       "      <td>0.289417</td>\n",
       "      <td>0.397745</td>\n",
       "      <td>1</td>\n",
       "      <td>15</td>\n",
       "      <td>KMeans(n_clusters=15, random_state=1)</td>\n",
       "    </tr>\n",
       "    <tr>\n",
       "      <th>47</th>\n",
       "      <td>macosko2015</td>\n",
       "      <td>ivis</td>\n",
       "      <td>2</td>\n",
       "      <td>0.390211</td>\n",
       "      <td>0.640088</td>\n",
       "      <td>0.292436</td>\n",
       "      <td>0.401458</td>\n",
       "      <td>2</td>\n",
       "      <td>15</td>\n",
       "      <td>KMeans(n_clusters=15, random_state=2)</td>\n",
       "    </tr>\n",
       "    <tr>\n",
       "      <th>48</th>\n",
       "      <td>macosko2015</td>\n",
       "      <td>ivis</td>\n",
       "      <td>2</td>\n",
       "      <td>0.391823</td>\n",
       "      <td>0.645691</td>\n",
       "      <td>0.295983</td>\n",
       "      <td>0.405902</td>\n",
       "      <td>3</td>\n",
       "      <td>15</td>\n",
       "      <td>KMeans(n_clusters=15, random_state=3)</td>\n",
       "    </tr>\n",
       "    <tr>\n",
       "      <th>49</th>\n",
       "      <td>macosko2015</td>\n",
       "      <td>ivis</td>\n",
       "      <td>2</td>\n",
       "      <td>0.389755</td>\n",
       "      <td>0.635040</td>\n",
       "      <td>0.289369</td>\n",
       "      <td>0.397575</td>\n",
       "      <td>4</td>\n",
       "      <td>15</td>\n",
       "      <td>KMeans(n_clusters=15, random_state=4)</td>\n",
       "    </tr>\n",
       "    <tr>\n",
       "      <th>50</th>\n",
       "      <td>macosko2015</td>\n",
       "      <td>ivis</td>\n",
       "      <td>2</td>\n",
       "      <td>0.375177</td>\n",
       "      <td>0.638811</td>\n",
       "      <td>0.281682</td>\n",
       "      <td>0.390968</td>\n",
       "      <td>0</td>\n",
       "      <td>16</td>\n",
       "      <td>KMeans(n_clusters=16, random_state=0)</td>\n",
       "    </tr>\n",
       "    <tr>\n",
       "      <th>51</th>\n",
       "      <td>macosko2015</td>\n",
       "      <td>ivis</td>\n",
       "      <td>2</td>\n",
       "      <td>0.382045</td>\n",
       "      <td>0.646566</td>\n",
       "      <td>0.288203</td>\n",
       "      <td>0.398692</td>\n",
       "      <td>1</td>\n",
       "      <td>16</td>\n",
       "      <td>KMeans(n_clusters=16, random_state=1)</td>\n",
       "    </tr>\n",
       "    <tr>\n",
       "      <th>52</th>\n",
       "      <td>macosko2015</td>\n",
       "      <td>ivis</td>\n",
       "      <td>2</td>\n",
       "      <td>0.393217</td>\n",
       "      <td>0.646257</td>\n",
       "      <td>0.288418</td>\n",
       "      <td>0.398838</td>\n",
       "      <td>2</td>\n",
       "      <td>16</td>\n",
       "      <td>KMeans(n_clusters=16, random_state=2)</td>\n",
       "    </tr>\n",
       "    <tr>\n",
       "      <th>53</th>\n",
       "      <td>macosko2015</td>\n",
       "      <td>ivis</td>\n",
       "      <td>2</td>\n",
       "      <td>0.379856</td>\n",
       "      <td>0.650172</td>\n",
       "      <td>0.287999</td>\n",
       "      <td>0.399178</td>\n",
       "      <td>3</td>\n",
       "      <td>16</td>\n",
       "      <td>KMeans(n_clusters=16, random_state=3)</td>\n",
       "    </tr>\n",
       "    <tr>\n",
       "      <th>54</th>\n",
       "      <td>macosko2015</td>\n",
       "      <td>ivis</td>\n",
       "      <td>2</td>\n",
       "      <td>0.393504</td>\n",
       "      <td>0.647870</td>\n",
       "      <td>0.289770</td>\n",
       "      <td>0.400438</td>\n",
       "      <td>4</td>\n",
       "      <td>16</td>\n",
       "      <td>KMeans(n_clusters=16, random_state=4)</td>\n",
       "    </tr>\n",
       "    <tr>\n",
       "      <th>55</th>\n",
       "      <td>macosko2015</td>\n",
       "      <td>ivis</td>\n",
       "      <td>2</td>\n",
       "      <td>0.380044</td>\n",
       "      <td>0.654111</td>\n",
       "      <td>0.283373</td>\n",
       "      <td>0.395436</td>\n",
       "      <td>0</td>\n",
       "      <td>17</td>\n",
       "      <td>KMeans(n_clusters=17, random_state=0)</td>\n",
       "    </tr>\n",
       "    <tr>\n",
       "      <th>56</th>\n",
       "      <td>macosko2015</td>\n",
       "      <td>ivis</td>\n",
       "      <td>2</td>\n",
       "      <td>0.382743</td>\n",
       "      <td>0.650238</td>\n",
       "      <td>0.282497</td>\n",
       "      <td>0.393875</td>\n",
       "      <td>1</td>\n",
       "      <td>17</td>\n",
       "      <td>KMeans(n_clusters=17, random_state=1)</td>\n",
       "    </tr>\n",
       "    <tr>\n",
       "      <th>57</th>\n",
       "      <td>macosko2015</td>\n",
       "      <td>ivis</td>\n",
       "      <td>2</td>\n",
       "      <td>0.382833</td>\n",
       "      <td>0.649984</td>\n",
       "      <td>0.282388</td>\n",
       "      <td>0.393722</td>\n",
       "      <td>2</td>\n",
       "      <td>17</td>\n",
       "      <td>KMeans(n_clusters=17, random_state=2)</td>\n",
       "    </tr>\n",
       "    <tr>\n",
       "      <th>58</th>\n",
       "      <td>macosko2015</td>\n",
       "      <td>ivis</td>\n",
       "      <td>2</td>\n",
       "      <td>0.383553</td>\n",
       "      <td>0.650441</td>\n",
       "      <td>0.282866</td>\n",
       "      <td>0.394270</td>\n",
       "      <td>3</td>\n",
       "      <td>17</td>\n",
       "      <td>KMeans(n_clusters=17, random_state=3)</td>\n",
       "    </tr>\n",
       "    <tr>\n",
       "      <th>59</th>\n",
       "      <td>macosko2015</td>\n",
       "      <td>ivis</td>\n",
       "      <td>2</td>\n",
       "      <td>0.384335</td>\n",
       "      <td>0.653135</td>\n",
       "      <td>0.284711</td>\n",
       "      <td>0.396557</td>\n",
       "      <td>4</td>\n",
       "      <td>17</td>\n",
       "      <td>KMeans(n_clusters=17, random_state=4)</td>\n",
       "    </tr>\n",
       "  </tbody>\n",
       "</table>\n",
       "</div>"
      ],
      "text/plain": [
       "        dataset class_ dim  silhouette  homogeneity  completeness  v_measure  \\\n",
       "0   macosko2015   ivis   2    0.423906     0.543111      0.381188   0.447966   \n",
       "1   macosko2015   ivis   2    0.423820     0.543322      0.381319   0.448128   \n",
       "2   macosko2015   ivis   2    0.424049     0.543104      0.381197   0.447970   \n",
       "3   macosko2015   ivis   2    0.423821     0.543389      0.380846   0.447824   \n",
       "4   macosko2015   ivis   2    0.424114     0.543788      0.381464   0.448387   \n",
       "5   macosko2015   ivis   2    0.447630     0.584547      0.392566   0.469697   \n",
       "6   macosko2015   ivis   2    0.447439     0.584219      0.391737   0.468997   \n",
       "7   macosko2015   ivis   2    0.447700     0.583738      0.391079   0.468370   \n",
       "8   macosko2015   ivis   2    0.447104     0.584611      0.391665   0.469072   \n",
       "9   macosko2015   ivis   2    0.447801     0.583668      0.391051   0.468328   \n",
       "10  macosko2015   ivis   2    0.447392     0.612255      0.377684   0.467178   \n",
       "11  macosko2015   ivis   2    0.446821     0.612997      0.378112   0.467721   \n",
       "12  macosko2015   ivis   2    0.447959     0.612226      0.377947   0.467371   \n",
       "13  macosko2015   ivis   2    0.446322     0.612668      0.377525   0.467177   \n",
       "14  macosko2015   ivis   2    0.449451     0.610904      0.378053   0.467066   \n",
       "15  macosko2015   ivis   2    0.426935     0.603253      0.349231   0.442369   \n",
       "16  macosko2015   ivis   2    0.429223     0.609213      0.353797   0.447634   \n",
       "17  macosko2015   ivis   2    0.426899     0.603621      0.349572   0.442742   \n",
       "18  macosko2015   ivis   2    0.430206     0.609693      0.354169   0.448061   \n",
       "19  macosko2015   ivis   2    0.427195     0.605079      0.350373   0.443776   \n",
       "20  macosko2015   ivis   2    0.414188     0.621552      0.336469   0.436594   \n",
       "21  macosko2015   ivis   2    0.414709     0.621491      0.336612   0.436699   \n",
       "22  macosko2015   ivis   2    0.414714     0.621666      0.336700   0.436816   \n",
       "23  macosko2015   ivis   2    0.414660     0.621559      0.336676   0.436770   \n",
       "24  macosko2015   ivis   2    0.417952     0.623574      0.339091   0.439298   \n",
       "25  macosko2015   ivis   2    0.397284     0.631888      0.320570   0.425351   \n",
       "26  macosko2015   ivis   2    0.397196     0.631770      0.320454   0.425222   \n",
       "27  macosko2015   ivis   2    0.397205     0.631878      0.320530   0.425313   \n",
       "28  macosko2015   ivis   2    0.397246     0.631992      0.320635   0.425431   \n",
       "29  macosko2015   ivis   2    0.397250     0.632021      0.320643   0.425445   \n",
       "30  macosko2015   ivis   2    0.394469     0.639569      0.320011   0.426581   \n",
       "31  macosko2015   ivis   2    0.394298     0.639807      0.320024   0.426646   \n",
       "32  macosko2015   ivis   2    0.394184     0.639511      0.319620   0.426220   \n",
       "33  macosko2015   ivis   2    0.394046     0.637553      0.318503   0.424793   \n",
       "34  macosko2015   ivis   2    0.393950     0.638858      0.319335   0.425822   \n",
       "35  macosko2015   ivis   2    0.393241     0.634591      0.307446   0.414214   \n",
       "36  macosko2015   ivis   2    0.392849     0.634117      0.307074   0.413775   \n",
       "37  macosko2015   ivis   2    0.392905     0.635505      0.307383   0.414351   \n",
       "38  macosko2015   ivis   2    0.392863     0.634138      0.306992   0.413705   \n",
       "39  macosko2015   ivis   2    0.392770     0.634343      0.306850   0.413620   \n",
       "40  macosko2015   ivis   2    0.395704     0.635292      0.297058   0.404824   \n",
       "41  macosko2015   ivis   2    0.393769     0.635065      0.296989   0.404713   \n",
       "42  macosko2015   ivis   2    0.395782     0.635789      0.297513   0.405347   \n",
       "43  macosko2015   ivis   2    0.395710     0.635486      0.297000   0.404809   \n",
       "44  macosko2015   ivis   2    0.395853     0.635550      0.297430   0.405221   \n",
       "45  macosko2015   ivis   2    0.389395     0.636100      0.289588   0.397989   \n",
       "46  macosko2015   ivis   2    0.389562     0.635677      0.289417   0.397745   \n",
       "47  macosko2015   ivis   2    0.390211     0.640088      0.292436   0.401458   \n",
       "48  macosko2015   ivis   2    0.391823     0.645691      0.295983   0.405902   \n",
       "49  macosko2015   ivis   2    0.389755     0.635040      0.289369   0.397575   \n",
       "50  macosko2015   ivis   2    0.375177     0.638811      0.281682   0.390968   \n",
       "51  macosko2015   ivis   2    0.382045     0.646566      0.288203   0.398692   \n",
       "52  macosko2015   ivis   2    0.393217     0.646257      0.288418   0.398838   \n",
       "53  macosko2015   ivis   2    0.379856     0.650172      0.287999   0.399178   \n",
       "54  macosko2015   ivis   2    0.393504     0.647870      0.289770   0.400438   \n",
       "55  macosko2015   ivis   2    0.380044     0.654111      0.283373   0.395436   \n",
       "56  macosko2015   ivis   2    0.382743     0.650238      0.282497   0.393875   \n",
       "57  macosko2015   ivis   2    0.382833     0.649984      0.282388   0.393722   \n",
       "58  macosko2015   ivis   2    0.383553     0.650441      0.282866   0.394270   \n",
       "59  macosko2015   ivis   2    0.384335     0.653135      0.284711   0.396557   \n",
       "\n",
       "   init_ n_clusters                                  model  \n",
       "0      0          6   KMeans(n_clusters=6, random_state=0)  \n",
       "1      1          6   KMeans(n_clusters=6, random_state=1)  \n",
       "2      2          6   KMeans(n_clusters=6, random_state=2)  \n",
       "3      3          6   KMeans(n_clusters=6, random_state=3)  \n",
       "4      4          6   KMeans(n_clusters=6, random_state=4)  \n",
       "5      0          7   KMeans(n_clusters=7, random_state=0)  \n",
       "6      1          7   KMeans(n_clusters=7, random_state=1)  \n",
       "7      2          7   KMeans(n_clusters=7, random_state=2)  \n",
       "8      3          7   KMeans(n_clusters=7, random_state=3)  \n",
       "9      4          7   KMeans(n_clusters=7, random_state=4)  \n",
       "10     0          8                 KMeans(random_state=0)  \n",
       "11     1          8                 KMeans(random_state=1)  \n",
       "12     2          8                 KMeans(random_state=2)  \n",
       "13     3          8                 KMeans(random_state=3)  \n",
       "14     4          8                 KMeans(random_state=4)  \n",
       "15     0          9   KMeans(n_clusters=9, random_state=0)  \n",
       "16     1          9   KMeans(n_clusters=9, random_state=1)  \n",
       "17     2          9   KMeans(n_clusters=9, random_state=2)  \n",
       "18     3          9   KMeans(n_clusters=9, random_state=3)  \n",
       "19     4          9   KMeans(n_clusters=9, random_state=4)  \n",
       "20     0         10  KMeans(n_clusters=10, random_state=0)  \n",
       "21     1         10  KMeans(n_clusters=10, random_state=1)  \n",
       "22     2         10  KMeans(n_clusters=10, random_state=2)  \n",
       "23     3         10  KMeans(n_clusters=10, random_state=3)  \n",
       "24     4         10  KMeans(n_clusters=10, random_state=4)  \n",
       "25     0         11  KMeans(n_clusters=11, random_state=0)  \n",
       "26     1         11  KMeans(n_clusters=11, random_state=1)  \n",
       "27     2         11  KMeans(n_clusters=11, random_state=2)  \n",
       "28     3         11  KMeans(n_clusters=11, random_state=3)  \n",
       "29     4         11  KMeans(n_clusters=11, random_state=4)  \n",
       "30     0         12  KMeans(n_clusters=12, random_state=0)  \n",
       "31     1         12  KMeans(n_clusters=12, random_state=1)  \n",
       "32     2         12  KMeans(n_clusters=12, random_state=2)  \n",
       "33     3         12  KMeans(n_clusters=12, random_state=3)  \n",
       "34     4         12  KMeans(n_clusters=12, random_state=4)  \n",
       "35     0         13  KMeans(n_clusters=13, random_state=0)  \n",
       "36     1         13  KMeans(n_clusters=13, random_state=1)  \n",
       "37     2         13  KMeans(n_clusters=13, random_state=2)  \n",
       "38     3         13  KMeans(n_clusters=13, random_state=3)  \n",
       "39     4         13  KMeans(n_clusters=13, random_state=4)  \n",
       "40     0         14  KMeans(n_clusters=14, random_state=0)  \n",
       "41     1         14  KMeans(n_clusters=14, random_state=1)  \n",
       "42     2         14  KMeans(n_clusters=14, random_state=2)  \n",
       "43     3         14  KMeans(n_clusters=14, random_state=3)  \n",
       "44     4         14  KMeans(n_clusters=14, random_state=4)  \n",
       "45     0         15  KMeans(n_clusters=15, random_state=0)  \n",
       "46     1         15  KMeans(n_clusters=15, random_state=1)  \n",
       "47     2         15  KMeans(n_clusters=15, random_state=2)  \n",
       "48     3         15  KMeans(n_clusters=15, random_state=3)  \n",
       "49     4         15  KMeans(n_clusters=15, random_state=4)  \n",
       "50     0         16  KMeans(n_clusters=16, random_state=0)  \n",
       "51     1         16  KMeans(n_clusters=16, random_state=1)  \n",
       "52     2         16  KMeans(n_clusters=16, random_state=2)  \n",
       "53     3         16  KMeans(n_clusters=16, random_state=3)  \n",
       "54     4         16  KMeans(n_clusters=16, random_state=4)  \n",
       "55     0         17  KMeans(n_clusters=17, random_state=0)  \n",
       "56     1         17  KMeans(n_clusters=17, random_state=1)  \n",
       "57     2         17  KMeans(n_clusters=17, random_state=2)  \n",
       "58     3         17  KMeans(n_clusters=17, random_state=3)  \n",
       "59     4         17  KMeans(n_clusters=17, random_state=4)  "
      ]
     },
     "execution_count": 51,
     "metadata": {},
     "output_type": "execute_result"
    }
   ],
   "source": [
    "get_cluster_metrics(projection_df.iloc[0], n_init=5)"
   ]
  },
  {
   "cell_type": "code",
   "execution_count": null,
   "metadata": {},
   "outputs": [],
   "source": []
  },
  {
   "cell_type": "code",
   "execution_count": null,
   "metadata": {},
   "outputs": [],
   "source": []
  },
  {
   "cell_type": "code",
   "execution_count": null,
   "metadata": {},
   "outputs": [],
   "source": []
  },
  {
   "cell_type": "code",
   "execution_count": null,
   "metadata": {},
   "outputs": [],
   "source": []
  },
  {
   "cell_type": "code",
   "execution_count": null,
   "metadata": {},
   "outputs": [],
   "source": []
  },
  {
   "cell_type": "code",
   "execution_count": null,
   "metadata": {},
   "outputs": [],
   "source": []
  }
 ],
 "metadata": {
  "kernelspec": {
   "display_name": "Python [conda env:tfumap]",
   "language": "python",
   "name": "conda-env-tfumap-py"
  },
  "language_info": {
   "codemirror_mode": {
    "name": "ipython",
    "version": 3
   },
   "file_extension": ".py",
   "mimetype": "text/x-python",
   "name": "python",
   "nbconvert_exporter": "python",
   "pygments_lexer": "ipython3",
   "version": "3.7.9"
  }
 },
 "nbformat": 4,
 "nbformat_minor": 4
}
