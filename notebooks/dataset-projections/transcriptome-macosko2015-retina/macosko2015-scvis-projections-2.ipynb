{
 "cells": [
  {
   "cell_type": "code",
   "execution_count": 1,
   "metadata": {
    "ExecuteTime": {
     "end_time": "2021-01-14T06:30:56.421158Z",
     "start_time": "2021-01-14T06:30:56.414241Z"
    }
   },
   "outputs": [],
   "source": [
    "dataset = 'macosko2015'\n",
    "algorithm = 'scvis'\n",
    "n_components = 2\n",
    "dims = (50,)"
   ]
  },
  {
   "cell_type": "code",
   "execution_count": 2,
   "metadata": {
    "ExecuteTime": {
     "end_time": "2021-01-14T06:30:56.464319Z",
     "start_time": "2021-01-14T06:30:56.424773Z"
    }
   },
   "outputs": [],
   "source": [
    "# reload packages\n",
    "%load_ext autoreload\n",
    "%autoreload 2"
   ]
  },
  {
   "cell_type": "markdown",
   "metadata": {},
   "source": [
    "### Choose GPU (this may not be needed on your computer)"
   ]
  },
  {
   "cell_type": "code",
   "execution_count": 3,
   "metadata": {
    "ExecuteTime": {
     "end_time": "2021-01-14T06:30:56.494337Z",
     "start_time": "2021-01-14T06:30:56.469203Z"
    }
   },
   "outputs": [
    {
     "name": "stdout",
     "output_type": "stream",
     "text": [
      "env: CUDA_DEVICE_ORDER=PCI_BUS_ID\n",
      "env: CUDA_VISIBLE_DEVICES=0\n"
     ]
    }
   ],
   "source": [
    "%env CUDA_DEVICE_ORDER=PCI_BUS_ID\n",
    "%env CUDA_VISIBLE_DEVICES=0"
   ]
  },
  {
   "cell_type": "code",
   "execution_count": 4,
   "metadata": {
    "ExecuteTime": {
     "end_time": "2021-01-14T06:30:59.641682Z",
     "start_time": "2021-01-14T06:30:56.497239Z"
    }
   },
   "outputs": [
    {
     "name": "stderr",
     "output_type": "stream",
     "text": [
      "Using TensorFlow backend.\n"
     ]
    }
   ],
   "source": [
    "from keras.backend.tensorflow_backend import set_session\n",
    "import tensorflow as tf \n",
    "config = tf.ConfigProto()\n",
    "config.gpu_options.per_process_gpu_memory_fraction = 0.2\n",
    "set_session(tf.Session(config=config))"
   ]
  },
  {
   "cell_type": "markdown",
   "metadata": {},
   "source": [
    "### load packages"
   ]
  },
  {
   "cell_type": "code",
   "execution_count": 5,
   "metadata": {
    "ExecuteTime": {
     "end_time": "2021-01-14T06:31:12.383199Z",
     "start_time": "2021-01-14T06:30:59.643632Z"
    }
   },
   "outputs": [
    {
     "name": "stderr",
     "output_type": "stream",
     "text": [
      "/home/AD/tsainbur/anaconda3/envs/scvis2/lib/python3.7/site-packages/umap/__init__.py:9: UserWarning: Tensorflow not installed; ParametricUMAP will be unavailable\n",
      "  warn(\"Tensorflow not installed; ParametricUMAP will be unavailable\")\n",
      "/mnt/cube/tsainbur/Projects/github_repos/umap_tf_networks/tfumap/umap.py:7: TqdmExperimentalWarning: Using `tqdm.autonotebook.tqdm` in notebook mode. Use `tqdm.tqdm` instead to force console mode (e.g. in jupyter console)\n",
      "  from tqdm.autonotebook import tqdm\n"
     ]
    }
   ],
   "source": [
    "from tfumap.umap import tfUMAP"
   ]
  },
  {
   "cell_type": "code",
   "execution_count": 6,
   "metadata": {
    "ExecuteTime": {
     "end_time": "2021-01-14T06:31:12.580816Z",
     "start_time": "2021-01-14T06:31:12.385291Z"
    }
   },
   "outputs": [],
   "source": [
    "import tensorflow as tf\n",
    "import numpy as np\n",
    "import matplotlib.pyplot as plt\n",
    "from tqdm.autonotebook import tqdm\n",
    "import umap\n",
    "import pandas as pd"
   ]
  },
  {
   "cell_type": "markdown",
   "metadata": {},
   "source": [
    "### Load dataset"
   ]
  },
  {
   "cell_type": "code",
   "execution_count": 7,
   "metadata": {
    "ExecuteTime": {
     "end_time": "2021-01-14T06:31:12.622493Z",
     "start_time": "2021-01-14T06:31:12.582683Z"
    }
   },
   "outputs": [],
   "source": [
    "from tensorflow.keras.datasets import mnist"
   ]
  },
  {
   "cell_type": "code",
   "execution_count": 9,
   "metadata": {
    "ExecuteTime": {
     "end_time": "2021-01-14T06:32:11.274959Z",
     "start_time": "2021-01-14T06:32:10.704494Z"
    }
   },
   "outputs": [
    {
     "name": "stdout",
     "output_type": "stream",
     "text": [
      "Data set contains 44808 samples with 50 features\n"
     ]
    }
   ],
   "source": [
    "from tfumap.paths import ensure_dir, MODEL_DIR, DATA_DIR\n",
    "\n",
    "import gzip\n",
    "import pickle\n",
    "\n",
    "with gzip.open(DATA_DIR / 'macosko_2015.pkl.gz', \"rb\") as f:\n",
    "    data = pickle.load(f)\n",
    "\n",
    "x = data[\"pca_50\"]\n",
    "y = data[\"CellType1\"].astype(str)\n",
    "\n",
    "def zero_one_norm(x):\n",
    "    return (x- np.min(x, axis=0))/ (np.max(x, axis=0)-np.min(x, axis=0))\n",
    "\n",
    "x_norm = zero_one_norm(x)\n",
    "\n",
    "print(\"Data set contains %d samples with %d features\" % x.shape)\n",
    "\n",
    "from sklearn.model_selection import train_test_split\n",
    "\n",
    "X_train, X_test, Y_train, Y_test = train_test_split(x_norm, y, test_size=.1, random_state=42)\n",
    "\n",
    "n_valid = 10000\n",
    "X_valid = X_train[-n_valid:]\n",
    "Y_valid = Y_train[-n_valid:]\n",
    "X_train = X_train[:-n_valid]\n",
    "Y_train = Y_train[:-n_valid]\n",
    "\n",
    "X_train_flat = X_train\n",
    "X_test_flat = X_test\n",
    "\n",
    "from sklearn.preprocessing import OrdinalEncoder\n",
    "enc = OrdinalEncoder()\n",
    "\n",
    "Y_train = enc.fit_transform([[i] for i in Y_train]).flatten()\n",
    "Y_test = enc.fit_transform([[i] for i in Y_test]).flatten()"
   ]
  },
  {
   "cell_type": "markdown",
   "metadata": {},
   "source": [
    "### Create model and train"
   ]
  },
  {
   "cell_type": "code",
   "execution_count": 10,
   "metadata": {
    "ExecuteTime": {
     "end_time": "2021-01-14T06:32:11.375181Z",
     "start_time": "2021-01-14T06:32:11.285164Z"
    }
   },
   "outputs": [
    {
     "name": "stdout",
     "output_type": "stream",
     "text": [
      "WARNING:tensorflow:\n",
      "The TensorFlow contrib module will not be included in TensorFlow 2.0.\n",
      "For more information, please see:\n",
      "  * https://github.com/tensorflow/community/blob/master/rfcs/20180907-contrib-sunset.md\n",
      "  * https://github.com/tensorflow/addons\n",
      "  * https://github.com/tensorflow/io (for I/O related ops)\n",
      "If you depend on functionality not listed there, please file an issue.\n",
      "\n"
     ]
    }
   ],
   "source": [
    "from scvis.run import train, map"
   ]
  },
  {
   "cell_type": "code",
   "execution_count": 11,
   "metadata": {
    "ExecuteTime": {
     "end_time": "2021-01-14T06:32:11.501869Z",
     "start_time": "2021-01-14T06:32:11.377053Z"
    }
   },
   "outputs": [],
   "source": [
    "from scvis.model import SCVIS"
   ]
  },
  {
   "cell_type": "code",
   "execution_count": 12,
   "metadata": {
    "ExecuteTime": {
     "end_time": "2021-01-14T06:32:11.541375Z",
     "start_time": "2021-01-14T06:32:11.504070Z"
    }
   },
   "outputs": [],
   "source": [
    "x = X_train_flat"
   ]
  },
  {
   "cell_type": "code",
   "execution_count": 13,
   "metadata": {
    "ExecuteTime": {
     "end_time": "2021-01-14T06:32:11.582575Z",
     "start_time": "2021-01-14T06:32:11.544352Z"
    }
   },
   "outputs": [],
   "source": [
    "hyperparameter =  {\n",
    "  'optimization': {\n",
    "    'method': 'Adam',\n",
    "    'learning_rate': 0.01\n",
    "  },\n",
    "\n",
    "  'batch_size': 512,\n",
    "  'max_epoch': 100,\n",
    "  'regularizer_l2': 0.001,\n",
    "\n",
    "  'perplexity': 10,\n",
    "\n",
    "  'seed': 1\n",
    "}\n",
    "\n",
    "architecture = {\n",
    "  'latent_dimension': 2,\n",
    "\n",
    "  'inference': {\n",
    "    'layer_size': [128, 64, 32],\n",
    "  },\n",
    "\n",
    "  'model': {\n",
    "    'layer_size': [32, 32, 32, 64, 128],\n",
    "  },\n",
    "\n",
    "  'activation': \"ELU\"\n",
    "}"
   ]
  },
  {
   "cell_type": "code",
   "execution_count": 14,
   "metadata": {
    "ExecuteTime": {
     "end_time": "2021-01-14T06:32:11.670131Z",
     "start_time": "2021-01-14T06:32:11.629210Z"
    }
   },
   "outputs": [],
   "source": [
    "architecture.update({'input_dimension': x.shape[1]})"
   ]
  },
  {
   "cell_type": "code",
   "execution_count": 15,
   "metadata": {
    "ExecuteTime": {
     "end_time": "2021-01-14T06:32:13.546484Z",
     "start_time": "2021-01-14T06:32:11.701766Z"
    },
    "scrolled": true
   },
   "outputs": [
    {
     "name": "stdout",
     "output_type": "stream",
     "text": [
      "WARNING:tensorflow:From /mnt/cube/tsainbur/Projects/github_repos/scvis/lib/scvis/model.py:24: The name tf.reset_default_graph is deprecated. Please use tf.compat.v1.reset_default_graph instead.\n",
      "\n",
      "WARNING:tensorflow:From /mnt/cube/tsainbur/Projects/github_repos/scvis/lib/scvis/model.py:28: The name tf.InteractiveSession is deprecated. Please use tf.compat.v1.InteractiveSession instead.\n",
      "\n",
      "Device mapping:\n",
      "/job:localhost/replica:0/task:0/device:XLA_CPU:0 -> device: XLA_CPU device\n",
      "/job:localhost/replica:0/task:0/device:GPU:0 -> device: 0, name: Quadro RTX 6000, pci bus id: 0000:21:00.0, compute capability: 7.5\n",
      "/job:localhost/replica:0/task:0/device:XLA_GPU:0 -> device: XLA_GPU device\n",
      "\n",
      "WARNING:tensorflow:From /mnt/cube/tsainbur/Projects/github_repos/scvis/lib/scvis/model.py:41: The name tf.set_random_seed is deprecated. Please use tf.compat.v1.set_random_seed instead.\n",
      "\n",
      "WARNING:tensorflow:From /mnt/cube/tsainbur/Projects/github_repos/scvis/lib/scvis/model.py:44: The name tf.placeholder is deprecated. Please use tf.compat.v1.placeholder instead.\n",
      "\n",
      "WARNING:tensorflow:From /mnt/cube/tsainbur/Projects/github_repos/scvis/lib/scvis/tf_helper.py:12: The name tf.truncated_normal is deprecated. Please use tf.random.truncated_normal instead.\n",
      "\n",
      "WARNING:tensorflow:From /mnt/cube/tsainbur/Projects/github_repos/scvis/lib/scvis/vae.py:139: calling dropout (from tensorflow.python.ops.nn_ops) with keep_prob is deprecated and will be removed in a future version.\n",
      "Instructions for updating:\n",
      "Please use `rate` instead of `keep_prob`. Rate should be set to `rate = 1 - keep_prob`.\n",
      "WARNING:tensorflow:From /mnt/cube/tsainbur/Projects/github_repos/scvis/lib/scvis/vae.py:68: The name tf.random_normal is deprecated. Please use tf.random.normal instead.\n",
      "\n",
      "WARNING:tensorflow:From /mnt/cube/tsainbur/Projects/github_repos/scvis/lib/scvis/likelihood.py:17: StudentT.__init__ (from tensorflow.python.ops.distributions.student_t) is deprecated and will be removed after 2019-01-01.\n",
      "Instructions for updating:\n",
      "The TensorFlow Distributions library has moved to TensorFlow Probability (https://github.com/tensorflow/probability). You should update all references to use `tfp.distributions` instead of `tf.distributions`.\n",
      "WARNING:tensorflow:From /home/AD/tsainbur/anaconda3/envs/scvis2/lib/python3.7/site-packages/tensorflow_core/python/ops/distributions/student_t.py:204: Distribution.__init__ (from tensorflow.python.ops.distributions.distribution) is deprecated and will be removed after 2019-01-01.\n",
      "Instructions for updating:\n",
      "The TensorFlow Distributions library has moved to TensorFlow Probability (https://github.com/tensorflow/probability). You should update all references to use `tfp.distributions` instead of `tf.distributions`.\n",
      "WARNING:tensorflow:From /mnt/cube/tsainbur/Projects/github_repos/scvis/lib/scvis/model.py:81: The name tf.log is deprecated. Please use tf.math.log instead.\n",
      "\n",
      "WARNING:tensorflow:From /mnt/cube/tsainbur/Projects/github_repos/scvis/lib/scvis/model.py:101: The name tf.train.AdamOptimizer is deprecated. Please use tf.compat.v1.train.AdamOptimizer instead.\n",
      "\n",
      "WARNING:tensorflow:From /home/AD/tsainbur/anaconda3/envs/scvis2/lib/python3.7/site-packages/tensorflow_core/python/ops/math_grad.py:1375: where (from tensorflow.python.ops.array_ops) is deprecated and will be removed in a future version.\n",
      "Instructions for updating:\n",
      "Use tf.where in 2.0, which has the same broadcast rule as np.where\n",
      "WARNING:tensorflow:From /mnt/cube/tsainbur/Projects/github_repos/scvis/lib/scvis/model.py:110: The name tf.train.Saver is deprecated. Please use tf.compat.v1.train.Saver instead.\n",
      "\n"
     ]
    }
   ],
   "source": [
    "model = SCVIS(architecture, hyperparameter)"
   ]
  },
  {
   "cell_type": "code",
   "execution_count": 16,
   "metadata": {
    "ExecuteTime": {
     "end_time": "2021-01-14T06:32:13.631415Z",
     "start_time": "2021-01-14T06:32:13.548584Z"
    }
   },
   "outputs": [],
   "source": [
    "y = None"
   ]
  },
  {
   "cell_type": "code",
   "execution_count": 17,
   "metadata": {
    "ExecuteTime": {
     "end_time": "2021-01-14T06:32:13.719823Z",
     "start_time": "2021-01-14T06:32:13.633904Z"
    }
   },
   "outputs": [],
   "source": [
    "from scvis import data"
   ]
  },
  {
   "cell_type": "code",
   "execution_count": 18,
   "metadata": {
    "ExecuteTime": {
     "end_time": "2021-01-14T06:32:13.793327Z",
     "start_time": "2021-01-14T06:32:13.721789Z"
    }
   },
   "outputs": [],
   "source": [
    "train_data = data.DataSet(x, y)"
   ]
  },
  {
   "cell_type": "code",
   "execution_count": 19,
   "metadata": {
    "ExecuteTime": {
     "end_time": "2021-01-14T07:02:10.491216Z",
     "start_time": "2021-01-14T06:32:13.795204Z"
    },
    "scrolled": false
   },
   "outputs": [
    {
     "name": "stdout",
     "output_type": "stream",
     "text": [
      "WARNING:tensorflow:From /mnt/cube/tsainbur/Projects/github_repos/scvis/lib/scvis/model.py:185: The name tf.global_variables_initializer is deprecated. Please use tf.compat.v1.global_variables_initializer instead.\n",
      "\n",
      "Batch 0\n",
      "elbo: -229.95372009277344\n",
      "scaled_tsne_cost: 6.374180793762207\n",
      "\n",
      "Batch 50\n",
      "elbo: -37.352508544921875\n",
      "scaled_tsne_cost: 311.83551025390625\n",
      "\n",
      "Batch 100\n",
      "elbo: 5.33625602722168\n",
      "scaled_tsne_cost: 311.82208251953125\n",
      "\n",
      "Batch 150\n",
      "elbo: 28.834632873535156\n",
      "scaled_tsne_cost: 311.83465576171875\n",
      "\n",
      "Batch 200\n",
      "elbo: 37.61237335205078\n",
      "scaled_tsne_cost: 311.8074035644531\n",
      "\n",
      "Batch 250\n",
      "elbo: 55.943843841552734\n",
      "scaled_tsne_cost: 311.7926025390625\n",
      "\n",
      "Batch 300\n",
      "elbo: 71.71305084228516\n",
      "scaled_tsne_cost: 311.8256530761719\n",
      "\n",
      "Batch 350\n",
      "elbo: 78.4356689453125\n",
      "scaled_tsne_cost: 311.74407958984375\n",
      "\n",
      "Batch 400\n",
      "elbo: 98.44542694091797\n",
      "scaled_tsne_cost: 309.05426025390625\n",
      "\n",
      "Batch 450\n",
      "elbo: 91.12477111816406\n",
      "scaled_tsne_cost: 294.9214782714844\n",
      "\n",
      "Batch 500\n",
      "elbo: 100.29912567138672\n",
      "scaled_tsne_cost: 290.9800109863281\n",
      "\n",
      "Batch 550\n",
      "elbo: 106.3162841796875\n",
      "scaled_tsne_cost: 287.4900207519531\n",
      "\n",
      "Batch 600\n",
      "elbo: 110.94493103027344\n",
      "scaled_tsne_cost: 282.4479675292969\n",
      "\n",
      "Batch 650\n",
      "elbo: 109.28729248046875\n",
      "scaled_tsne_cost: 283.1764831542969\n",
      "\n",
      "Batch 700\n",
      "elbo: 110.92694091796875\n",
      "scaled_tsne_cost: 282.7734069824219\n",
      "\n",
      "Batch 750\n",
      "elbo: 117.45970153808594\n",
      "scaled_tsne_cost: 282.3971862792969\n",
      "\n",
      "Batch 800\n",
      "elbo: 115.8960952758789\n",
      "scaled_tsne_cost: 281.5283203125\n",
      "\n",
      "Batch 850\n",
      "elbo: 106.99168395996094\n",
      "scaled_tsne_cost: 278.8089904785156\n",
      "\n",
      "Batch 900\n",
      "elbo: 120.65806579589844\n",
      "scaled_tsne_cost: 277.4041748046875\n",
      "\n",
      "Batch 950\n",
      "elbo: 111.13607788085938\n",
      "scaled_tsne_cost: 274.13916015625\n",
      "\n",
      "Time used for training: 0:29:55.904164\n",
      "\n"
     ]
    }
   ],
   "source": [
    "es = model.train(data=train_data,\n",
    "                      batch_size=hyperparameter['batch_size'],\n",
    "                      verbose=True,\n",
    "                      verbose_interval=50,\n",
    "                      show_plot=False,\n",
    "                      plot_dir=None,\n",
    "                      max_iter=1000,\n",
    "                      pretrained_model=None)"
   ]
  },
  {
   "cell_type": "code",
   "execution_count": 20,
   "metadata": {
    "ExecuteTime": {
     "end_time": "2021-01-14T07:02:10.808915Z",
     "start_time": "2021-01-14T07:02:10.492602Z"
    }
   },
   "outputs": [],
   "source": [
    "z, _ = model.encode(x)"
   ]
  },
  {
   "cell_type": "markdown",
   "metadata": {},
   "source": [
    "### Plot model output"
   ]
  },
  {
   "cell_type": "code",
   "execution_count": 21,
   "metadata": {
    "ExecuteTime": {
     "end_time": "2021-01-14T07:02:10.893572Z",
     "start_time": "2021-01-14T07:02:10.810856Z"
    }
   },
   "outputs": [],
   "source": [
    "%matplotlib inline"
   ]
  },
  {
   "cell_type": "code",
   "execution_count": 22,
   "metadata": {
    "ExecuteTime": {
     "end_time": "2021-01-14T07:02:11.505721Z",
     "start_time": "2021-01-14T07:02:10.896882Z"
    }
   },
   "outputs": [
    {
     "data": {
      "image/png": "[encoded data removed]",
      "text/plain": [
       "<Figure size 576x576 with 2 Axes>"
      ]
     },
     "metadata": {
      "needs_background": "light"
     },
     "output_type": "display_data"
    }
   ],
   "source": [
    "fig, ax = plt.subplots( figsize=(8, 8))\n",
    "sc = ax.scatter(\n",
    "    z[:, 0],\n",
    "    z[:, 1],\n",
    "    c=Y_train.astype(int)[:len(z)],\n",
    "    cmap=\"tab10\",\n",
    "    s=0.1,\n",
    "    alpha=0.5,\n",
    "    rasterized=True,\n",
    ")\n",
    "ax.axis('equal')\n",
    "ax.set_title(\"UMAP in Tensorflow embedding\", fontsize=20)\n",
    "plt.colorbar(sc, ax=ax);"
   ]
  },
  {
   "cell_type": "markdown",
   "metadata": {},
   "source": [
    "### Save output"
   ]
  },
  {
   "cell_type": "code",
   "execution_count": 23,
   "metadata": {
    "ExecuteTime": {
     "end_time": "2021-01-14T07:02:11.543880Z",
     "start_time": "2021-01-14T07:02:11.507117Z"
    }
   },
   "outputs": [],
   "source": [
    "from tfumap.paths import ensure_dir, MODEL_DIR"
   ]
  },
  {
   "cell_type": "code",
   "execution_count": 24,
   "metadata": {
    "ExecuteTime": {
     "end_time": "2021-01-14T07:02:11.611110Z",
     "start_time": "2021-01-14T07:02:11.545092Z"
    }
   },
   "outputs": [],
   "source": [
    "output_dir = MODEL_DIR/'projections'/ dataset / algorithm\n",
    "ensure_dir(output_dir)"
   ]
  },
  {
   "cell_type": "code",
   "execution_count": 25,
   "metadata": {
    "ExecuteTime": {
     "end_time": "2021-01-14T07:02:11.793274Z",
     "start_time": "2021-01-14T07:02:11.612413Z"
    }
   },
   "outputs": [],
   "source": [
    "model.save_sess((output_dir / algorithm).as_posix())"
   ]
  },
  {
   "cell_type": "code",
   "execution_count": 26,
   "metadata": {
    "ExecuteTime": {
     "end_time": "2021-01-14T07:02:11.833779Z",
     "start_time": "2021-01-14T07:02:11.794594Z"
    }
   },
   "outputs": [],
   "source": [
    "#loss_df.to_pickle(output_dir / 'loss_df.pickle')"
   ]
  },
  {
   "cell_type": "code",
   "execution_count": 27,
   "metadata": {
    "ExecuteTime": {
     "end_time": "2021-01-14T07:02:11.897025Z",
     "start_time": "2021-01-14T07:02:11.835030Z"
    }
   },
   "outputs": [],
   "source": [
    "np.save(output_dir / 'z.npy', z)"
   ]
  },
  {
   "cell_type": "markdown",
   "metadata": {},
   "source": [
    "### compute metrics "
   ]
  },
  {
   "cell_type": "code",
   "execution_count": 28,
   "metadata": {
    "ExecuteTime": {
     "end_time": "2021-01-14T07:02:11.966698Z",
     "start_time": "2021-01-14T07:02:11.898237Z"
    }
   },
   "outputs": [
    {
     "data": {
      "text/plain": [
       "(4481, 50)"
      ]
     },
     "execution_count": 28,
     "metadata": {},
     "output_type": "execute_result"
    }
   ],
   "source": [
    "X_test.shape"
   ]
  },
  {
   "cell_type": "code",
   "execution_count": 29,
   "metadata": {
    "ExecuteTime": {
     "end_time": "2021-01-14T07:02:12.069032Z",
     "start_time": "2021-01-14T07:02:11.968159Z"
    }
   },
   "outputs": [],
   "source": [
    "z_test, _ = model.encode(X_test)"
   ]
  },
  {
   "cell_type": "markdown",
   "metadata": {},
   "source": [
    "#### silhouette"
   ]
  },
  {
   "cell_type": "code",
   "execution_count": 30,
   "metadata": {
    "ExecuteTime": {
     "end_time": "2021-01-14T07:02:12.223297Z",
     "start_time": "2021-01-14T07:02:12.070550Z"
    }
   },
   "outputs": [],
   "source": [
    "from tfumap.silhouette import silhouette_score_block"
   ]
  },
  {
   "cell_type": "code",
   "execution_count": 31,
   "metadata": {
    "ExecuteTime": {
     "end_time": "2021-01-14T07:02:21.529675Z",
     "start_time": "2021-01-14T07:02:12.224825Z"
    }
   },
   "outputs": [
    {
     "data": {
      "text/plain": [
       "0.16025516943050835"
      ]
     },
     "execution_count": 31,
     "metadata": {},
     "output_type": "execute_result"
    }
   ],
   "source": [
    "ss, sil_samp = silhouette_score_block(z, Y_train, n_jobs = -1)\n",
    "ss"
   ]
  },
  {
   "cell_type": "code",
   "execution_count": 32,
   "metadata": {
    "ExecuteTime": {
     "end_time": "2021-01-14T07:02:21.915943Z",
     "start_time": "2021-01-14T07:02:21.531027Z"
    }
   },
   "outputs": [
    {
     "data": {
      "text/plain": [
       "0.24277414657324747"
      ]
     },
     "execution_count": 32,
     "metadata": {},
     "output_type": "execute_result"
    }
   ],
   "source": [
    "ss_test, sil_samp_test = silhouette_score_block(z_test, Y_test, n_jobs = -1)\n",
    "ss_test"
   ]
  },
  {
   "cell_type": "code",
   "execution_count": 33,
   "metadata": {
    "ExecuteTime": {
     "end_time": "2021-01-14T07:02:22.705522Z",
     "start_time": "2021-01-14T07:02:21.916959Z"
    }
   },
   "outputs": [
    {
     "data": {
      "text/plain": [
       "<matplotlib.collections.PathCollection at 0x7f0fc8164210>"
      ]
     },
     "execution_count": 33,
     "metadata": {},
     "output_type": "execute_result"
    },
    {
     "data": {
      "image/png": "[encoded data removed]",
      "text/plain": [
       "<Figure size 720x360 with 2 Axes>"
      ]
     },
     "metadata": {
      "needs_background": "light"
     },
     "output_type": "display_data"
    }
   ],
   "source": [
    "fig, axs = plt.subplots(ncols = 2, figsize=(10, 5))\n",
    "axs[0].scatter(z[:, 0], z[:, 1], s=0.1, alpha=0.5, c=sil_samp, cmap=plt.cm.viridis)\n",
    "axs[1].scatter(z_test[:, 0], z_test[:, 1], s=1, alpha=0.5, c=sil_samp_test, cmap=plt.cm.viridis)"
   ]
  },
  {
   "cell_type": "markdown",
   "metadata": {},
   "source": [
    "#### KNN"
   ]
  },
  {
   "cell_type": "code",
   "execution_count": 34,
   "metadata": {
    "ExecuteTime": {
     "end_time": "2021-01-14T07:02:22.743075Z",
     "start_time": "2021-01-14T07:02:22.706717Z"
    }
   },
   "outputs": [],
   "source": [
    "from sklearn.neighbors import KNeighborsClassifier"
   ]
  },
  {
   "cell_type": "code",
   "execution_count": 35,
   "metadata": {
    "ExecuteTime": {
     "end_time": "2021-01-14T07:02:22.927847Z",
     "start_time": "2021-01-14T07:02:22.744293Z"
    }
   },
   "outputs": [
    {
     "data": {
      "text/plain": [
       "0.8864092836420442"
      ]
     },
     "execution_count": 35,
     "metadata": {},
     "output_type": "execute_result"
    }
   ],
   "source": [
    "neigh5 = KNeighborsClassifier(n_neighbors=5)\n",
    "neigh5.fit(z, Y_train)\n",
    "score_5nn = neigh5.score(z_test, Y_test)\n",
    "score_5nn"
   ]
  },
  {
   "cell_type": "code",
   "execution_count": 36,
   "metadata": {
    "ExecuteTime": {
     "end_time": "2021-01-14T07:02:23.105025Z",
     "start_time": "2021-01-14T07:02:22.929065Z"
    }
   },
   "outputs": [
    {
     "data": {
      "text/plain": [
       "0.8406605668377595"
      ]
     },
     "execution_count": 36,
     "metadata": {},
     "output_type": "execute_result"
    }
   ],
   "source": [
    "neigh1 = KNeighborsClassifier(n_neighbors=1)\n",
    "neigh1.fit(z, Y_train)\n",
    "score_1nn = neigh1.score(z_test, Y_test)\n",
    "score_1nn"
   ]
  },
  {
   "cell_type": "markdown",
   "metadata": {},
   "source": [
    "#### Trustworthiness"
   ]
  },
  {
   "cell_type": "code",
   "execution_count": 37,
   "metadata": {
    "ExecuteTime": {
     "end_time": "2021-01-14T07:02:23.145374Z",
     "start_time": "2021-01-14T07:02:23.108181Z"
    }
   },
   "outputs": [],
   "source": [
    "from sklearn.manifold import trustworthiness"
   ]
  },
  {
   "cell_type": "code",
   "execution_count": 38,
   "metadata": {
    "ExecuteTime": {
     "end_time": "2021-01-14T07:02:33.875865Z",
     "start_time": "2021-01-14T07:02:23.146860Z"
    }
   },
   "outputs": [],
   "source": [
    "tw = trustworthiness(X_train_flat[:10000], z[:10000])"
   ]
  },
  {
   "cell_type": "code",
   "execution_count": 39,
   "metadata": {
    "ExecuteTime": {
     "end_time": "2021-01-14T07:02:36.348384Z",
     "start_time": "2021-01-14T07:02:33.877401Z"
    }
   },
   "outputs": [],
   "source": [
    "tw_test = trustworthiness(X_test_flat[:10000], z_test[:10000])"
   ]
  },
  {
   "cell_type": "code",
   "execution_count": 40,
   "metadata": {
    "ExecuteTime": {
     "end_time": "2021-01-14T07:02:36.388563Z",
     "start_time": "2021-01-14T07:02:36.349679Z"
    }
   },
   "outputs": [
    {
     "data": {
      "text/plain": [
       "(0.7592145636509208, 0.7581332573785843)"
      ]
     },
     "execution_count": 40,
     "metadata": {},
     "output_type": "execute_result"
    }
   ],
   "source": [
    "tw, tw_test"
   ]
  },
  {
   "cell_type": "markdown",
   "metadata": {},
   "source": [
    "### Save output metrics"
   ]
  },
  {
   "cell_type": "code",
   "execution_count": 41,
   "metadata": {
    "ExecuteTime": {
     "end_time": "2021-01-14T07:02:36.466550Z",
     "start_time": "2021-01-14T07:02:36.389761Z"
    }
   },
   "outputs": [],
   "source": [
    "from tfumap.paths import ensure_dir, MODEL_DIR, DATA_DIR"
   ]
  },
  {
   "cell_type": "markdown",
   "metadata": {},
   "source": [
    "#### train"
   ]
  },
  {
   "cell_type": "code",
   "execution_count": 42,
   "metadata": {
    "ExecuteTime": {
     "end_time": "2021-01-14T07:02:36.548753Z",
     "start_time": "2021-01-14T07:02:36.467955Z"
    }
   },
   "outputs": [
    {
     "data": {
      "text/html": [
       "<div>\n",
       "<style scoped>\n",
       "    .dataframe tbody tr th:only-of-type {\n",
       "        vertical-align: middle;\n",
       "    }\n",
       "\n",
       "    .dataframe tbody tr th {\n",
       "        vertical-align: top;\n",
       "    }\n",
       "\n",
       "    .dataframe thead th {\n",
       "        text-align: right;\n",
       "    }\n",
       "</style>\n",
       "<table border=\"1\" class=\"dataframe\">\n",
       "  <thead>\n",
       "    <tr style=\"text-align: right;\">\n",
       "      <th></th>\n",
       "      <th>dataset</th>\n",
       "      <th>class_</th>\n",
       "      <th>dim</th>\n",
       "      <th>trustworthiness</th>\n",
       "      <th>silhouette_score</th>\n",
       "      <th>silhouette_samples</th>\n",
       "    </tr>\n",
       "  </thead>\n",
       "  <tbody>\n",
       "    <tr>\n",
       "      <th>0</th>\n",
       "      <td>macosko2015</td>\n",
       "      <td>scvis</td>\n",
       "      <td>2</td>\n",
       "      <td>0.759215</td>\n",
       "      <td>0.160255</td>\n",
       "      <td>[0.3960972184812013, 0.12702726509815357, 0.00...</td>\n",
       "    </tr>\n",
       "  </tbody>\n",
       "</table>\n",
       "</div>"
      ],
      "text/plain": [
       "       dataset class_ dim  trustworthiness  silhouette_score  \\\n",
       "0  macosko2015  scvis   2         0.759215          0.160255   \n",
       "\n",
       "                                  silhouette_samples  \n",
       "0  [0.3960972184812013, 0.12702726509815357, 0.00...  "
      ]
     },
     "execution_count": 42,
     "metadata": {},
     "output_type": "execute_result"
    }
   ],
   "source": [
    "metrics_df = pd.DataFrame(\n",
    "    columns=[\n",
    "        \"dataset\",\n",
    "        \"class_\",\n",
    "        \"dim\",\n",
    "        \"trustworthiness\",\n",
    "        \"silhouette_score\",\n",
    "        \"silhouette_samples\",\n",
    "    ]\n",
    ")\n",
    "metrics_df.loc[len(metrics_df)] = [dataset, algorithm, n_components, tw, ss, sil_samp]\n",
    "metrics_df"
   ]
  },
  {
   "cell_type": "code",
   "execution_count": 43,
   "metadata": {
    "ExecuteTime": {
     "end_time": "2021-01-14T07:02:36.619302Z",
     "start_time": "2021-01-14T07:02:36.550146Z"
    }
   },
   "outputs": [],
   "source": [
    "save_loc = DATA_DIR / 'projection_metrics' /  algorithm / 'train' / str(n_components) / (dataset + '.pickle')\n",
    "ensure_dir(save_loc)\n",
    "metrics_df.to_pickle(save_loc)"
   ]
  },
  {
   "cell_type": "markdown",
   "metadata": {},
   "source": [
    "#### test"
   ]
  },
  {
   "cell_type": "code",
   "execution_count": 44,
   "metadata": {
    "ExecuteTime": {
     "end_time": "2021-01-14T07:02:36.718738Z",
     "start_time": "2021-01-14T07:02:36.620514Z"
    }
   },
   "outputs": [
    {
     "data": {
      "text/html": [
       "<div>\n",
       "<style scoped>\n",
       "    .dataframe tbody tr th:only-of-type {\n",
       "        vertical-align: middle;\n",
       "    }\n",
       "\n",
       "    .dataframe tbody tr th {\n",
       "        vertical-align: top;\n",
       "    }\n",
       "\n",
       "    .dataframe thead th {\n",
       "        text-align: right;\n",
       "    }\n",
       "</style>\n",
       "<table border=\"1\" class=\"dataframe\">\n",
       "  <thead>\n",
       "    <tr style=\"text-align: right;\">\n",
       "      <th></th>\n",
       "      <th>dataset</th>\n",
       "      <th>class_</th>\n",
       "      <th>dim</th>\n",
       "      <th>trustworthiness</th>\n",
       "      <th>silhouette_score</th>\n",
       "      <th>silhouette_samples</th>\n",
       "    </tr>\n",
       "  </thead>\n",
       "  <tbody>\n",
       "    <tr>\n",
       "      <th>1</th>\n",
       "      <td>macosko2015</td>\n",
       "      <td>scvis</td>\n",
       "      <td>2</td>\n",
       "      <td>0.758133</td>\n",
       "      <td>0.242774</td>\n",
       "      <td>[0.44908626170516225, -0.07850020742739025, 0....</td>\n",
       "    </tr>\n",
       "  </tbody>\n",
       "</table>\n",
       "</div>"
      ],
      "text/plain": [
       "       dataset class_ dim  trustworthiness  silhouette_score  \\\n",
       "1  macosko2015  scvis   2         0.758133          0.242774   \n",
       "\n",
       "                                  silhouette_samples  \n",
       "1  [0.44908626170516225, -0.07850020742739025, 0....  "
      ]
     },
     "execution_count": 44,
     "metadata": {},
     "output_type": "execute_result"
    }
   ],
   "source": [
    "metrics_df_test = pd.DataFrame(\n",
    "    columns=[\n",
    "        \"dataset\",\n",
    "        \"class_\",\n",
    "        \"dim\",\n",
    "        \"trustworthiness\",\n",
    "        \"silhouette_score\",\n",
    "        \"silhouette_samples\",\n",
    "    ]\n",
    ")\n",
    "metrics_df_test.loc[len(metrics_df)] = [dataset, algorithm, n_components, tw_test, ss_test, sil_samp_test]\n",
    "metrics_df_test"
   ]
  },
  {
   "cell_type": "code",
   "execution_count": 45,
   "metadata": {
    "ExecuteTime": {
     "end_time": "2021-01-14T07:02:36.773501Z",
     "start_time": "2021-01-14T07:02:36.720143Z"
    }
   },
   "outputs": [],
   "source": [
    "save_loc = DATA_DIR / 'projection_metrics' / algorithm / 'test' / str(n_components) / (dataset + '.pickle')\n",
    "ensure_dir(save_loc)\n",
    "metrics_df.to_pickle(save_loc)"
   ]
  },
  {
   "cell_type": "markdown",
   "metadata": {},
   "source": [
    "#### knn "
   ]
  },
  {
   "cell_type": "code",
   "execution_count": 46,
   "metadata": {
    "ExecuteTime": {
     "end_time": "2021-01-14T07:02:36.826987Z",
     "start_time": "2021-01-14T07:02:36.774877Z"
    }
   },
   "outputs": [
    {
     "data": {
      "text/html": [
       "<div>\n",
       "<style scoped>\n",
       "    .dataframe tbody tr th:only-of-type {\n",
       "        vertical-align: middle;\n",
       "    }\n",
       "\n",
       "    .dataframe tbody tr th {\n",
       "        vertical-align: top;\n",
       "    }\n",
       "\n",
       "    .dataframe thead th {\n",
       "        text-align: right;\n",
       "    }\n",
       "</style>\n",
       "<table border=\"1\" class=\"dataframe\">\n",
       "  <thead>\n",
       "    <tr style=\"text-align: right;\">\n",
       "      <th></th>\n",
       "      <th>method_</th>\n",
       "      <th>dimensions</th>\n",
       "      <th>dataset</th>\n",
       "      <th>1NN_acc</th>\n",
       "      <th>5NN_acc</th>\n",
       "    </tr>\n",
       "  </thead>\n",
       "  <tbody>\n",
       "    <tr>\n",
       "      <th>0</th>\n",
       "      <td>scvis</td>\n",
       "      <td>2</td>\n",
       "      <td>macosko2015</td>\n",
       "      <td>0.840661</td>\n",
       "      <td>0.886409</td>\n",
       "    </tr>\n",
       "  </tbody>\n",
       "</table>\n",
       "</div>"
      ],
      "text/plain": [
       "  method_ dimensions      dataset   1NN_acc   5NN_acc\n",
       "0   scvis          2  macosko2015  0.840661  0.886409"
      ]
     },
     "execution_count": 46,
     "metadata": {},
     "output_type": "execute_result"
    }
   ],
   "source": [
    "nn_acc_df = pd.DataFrame(columns = [\"method_\",\"dimensions\",\"dataset\",\"1NN_acc\",\"5NN_acc\"])\n",
    "nn_acc_df.loc[len(nn_acc_df)] = [algorithm, n_components, dataset,  score_1nn, score_5nn]\n",
    "nn_acc_df"
   ]
  },
  {
   "cell_type": "code",
   "execution_count": 47,
   "metadata": {
    "ExecuteTime": {
     "end_time": "2021-01-14T07:02:36.909774Z",
     "start_time": "2021-01-14T07:02:36.828340Z"
    }
   },
   "outputs": [],
   "source": [
    "save_loc = DATA_DIR / 'knn_classifier' / algorithm / 'train' / str(n_components) / (dataset + '.pickle')\n",
    "ensure_dir(save_loc)\n",
    "nn_acc_df.to_pickle(save_loc)"
   ]
  },
  {
   "cell_type": "markdown",
   "metadata": {},
   "source": [
    "### Reconstruction"
   ]
  },
  {
   "cell_type": "code",
   "execution_count": 48,
   "metadata": {
    "ExecuteTime": {
     "end_time": "2021-01-14T07:02:36.994401Z",
     "start_time": "2021-01-14T07:02:36.910892Z"
    }
   },
   "outputs": [],
   "source": [
    "from sklearn.metrics import mean_squared_error, mean_absolute_error, median_absolute_error, r2_score"
   ]
  },
  {
   "cell_type": "code",
   "execution_count": 50,
   "metadata": {
    "ExecuteTime": {
     "end_time": "2021-01-14T07:07:25.873716Z",
     "start_time": "2021-01-14T07:07:25.729717Z"
    }
   },
   "outputs": [],
   "source": [
    "#X_recon = vae.decoder.predict(vae.encoder.predict(X_test.reshape((len(X_test), 28, 28, 1)))[0])\n",
    "X_recon,_ = model.decode(z_test)\n",
    "X_real = X_test.reshape((len(X_test), 50))"
   ]
  },
  {
   "cell_type": "code",
   "execution_count": 51,
   "metadata": {
    "ExecuteTime": {
     "end_time": "2021-01-14T07:07:26.333132Z",
     "start_time": "2021-01-14T07:07:26.292611Z"
    }
   },
   "outputs": [],
   "source": [
    "x_real = X_test.reshape((len(X_test), np.product(np.shape(X_test)[1:])))\n",
    "x_recon = X_recon.reshape((len(X_test), np.product(np.shape(X_test)[1:])))"
   ]
  },
  {
   "cell_type": "code",
   "execution_count": 52,
   "metadata": {
    "ExecuteTime": {
     "end_time": "2021-01-14T07:07:26.901183Z",
     "start_time": "2021-01-14T07:07:26.862696Z"
    }
   },
   "outputs": [],
   "source": [
    "reconstruction_acc_df = pd.DataFrame(\n",
    "    columns=[\"method_\", \"dimensions\", \"dataset\", \"MSE\", \"MAE\", \"MedAE\", \"R2\"]\n",
    ")"
   ]
  },
  {
   "cell_type": "code",
   "execution_count": 53,
   "metadata": {
    "ExecuteTime": {
     "end_time": "2021-01-14T07:07:27.435091Z",
     "start_time": "2021-01-14T07:07:27.371833Z"
    }
   },
   "outputs": [
    {
     "data": {
      "text/html": [
       "<div>\n",
       "<style scoped>\n",
       "    .dataframe tbody tr th:only-of-type {\n",
       "        vertical-align: middle;\n",
       "    }\n",
       "\n",
       "    .dataframe tbody tr th {\n",
       "        vertical-align: top;\n",
       "    }\n",
       "\n",
       "    .dataframe thead th {\n",
       "        text-align: right;\n",
       "    }\n",
       "</style>\n",
       "<table border=\"1\" class=\"dataframe\">\n",
       "  <thead>\n",
       "    <tr style=\"text-align: right;\">\n",
       "      <th></th>\n",
       "      <th>method_</th>\n",
       "      <th>dimensions</th>\n",
       "      <th>dataset</th>\n",
       "      <th>MSE</th>\n",
       "      <th>MAE</th>\n",
       "      <th>MedAE</th>\n",
       "      <th>R2</th>\n",
       "    </tr>\n",
       "  </thead>\n",
       "  <tbody>\n",
       "    <tr>\n",
       "      <th>0</th>\n",
       "      <td>scvis</td>\n",
       "      <td>2</td>\n",
       "      <td>macosko2015</td>\n",
       "      <td>0.002152</td>\n",
       "      <td>0.029385</td>\n",
       "      <td>0.022077</td>\n",
       "      <td>-1.343624</td>\n",
       "    </tr>\n",
       "  </tbody>\n",
       "</table>\n",
       "</div>"
      ],
      "text/plain": [
       "  method_ dimensions      dataset       MSE       MAE     MedAE        R2\n",
       "0   scvis          2  macosko2015  0.002152  0.029385  0.022077 -1.343624"
      ]
     },
     "execution_count": 53,
     "metadata": {},
     "output_type": "execute_result"
    }
   ],
   "source": [
    "MSE = mean_squared_error(\n",
    "    x_real, \n",
    "    x_recon\n",
    ")\n",
    "MAE = mean_absolute_error(\n",
    "    x_real, \n",
    "    x_recon\n",
    ")\n",
    "MedAE = median_absolute_error(\n",
    "    x_real, \n",
    "    x_recon\n",
    ")\n",
    "R2 = r2_score(\n",
    "    x_real, \n",
    "    x_recon\n",
    ")\n",
    "\n",
    "reconstruction_acc_df.loc[len(reconstruction_acc_df)] = [algorithm, 2, dataset, MSE, MAE, MedAE, R2]\n",
    "reconstruction_acc_df"
   ]
  },
  {
   "cell_type": "code",
   "execution_count": 54,
   "metadata": {
    "ExecuteTime": {
     "end_time": "2021-01-14T07:07:27.902248Z",
     "start_time": "2021-01-14T07:07:27.836185Z"
    }
   },
   "outputs": [],
   "source": [
    "save_loc = DATA_DIR / 'reconstruction_acc' / algorithm / str(n_components) / (dataset + '.pickle')\n",
    "ensure_dir(save_loc)\n",
    "reconstruction_acc_df.to_pickle(save_loc)"
   ]
  },
  {
   "cell_type": "markdown",
   "metadata": {},
   "source": [
    "### Compute clustering quality"
   ]
  },
  {
   "cell_type": "code",
   "execution_count": 55,
   "metadata": {
    "ExecuteTime": {
     "end_time": "2021-01-14T07:07:28.783458Z",
     "start_time": "2021-01-14T07:07:28.717395Z"
    }
   },
   "outputs": [],
   "source": [
    "from sklearn.cluster import KMeans\n",
    "from sklearn.metrics import homogeneity_completeness_v_measure"
   ]
  },
  {
   "cell_type": "code",
   "execution_count": 56,
   "metadata": {
    "ExecuteTime": {
     "end_time": "2021-01-14T07:07:29.268230Z",
     "start_time": "2021-01-14T07:07:29.222914Z"
    }
   },
   "outputs": [],
   "source": [
    "def get_cluster_metrics(row, n_init=5):\n",
    "    \n",
    "    # load cluster information\n",
    "    save_loc = DATA_DIR / 'clustering_metric_df'/ ('_'.join([row.class_, str(row.dim), row.dataset]) + '.pickle')\n",
    "    print(save_loc)\n",
    "    if save_loc.exists() and save_loc.is_file():\n",
    "        \n",
    "        cluster_df = pd.read_pickle(save_loc)\n",
    "        return cluster_df\n",
    "    \n",
    "    # make cluster metric dataframe\n",
    "    cluster_df = pd.DataFrame(\n",
    "        columns=[\n",
    "            \"dataset\",\n",
    "            \"class_\",\n",
    "            \"dim\",\n",
    "            \"silhouette\",\n",
    "            \"homogeneity\",\n",
    "            \"completeness\",\n",
    "            \"v_measure\",\n",
    "            \"init_\",\n",
    "            \"n_clusters\",\n",
    "            \"model\",\n",
    "        ]\n",
    "    )\n",
    "    y = row.train_label\n",
    "    z = row.train_z\n",
    "    n_labels = len(np.unique(y))\n",
    "    for n_clusters in tqdm(np.arange(n_labels - int(n_labels / 2), n_labels + int(n_labels / 2)), leave=False, desc = 'n_clusters'):\n",
    "        for init_ in tqdm(range(n_init), leave=False, desc='init'):\n",
    "            kmeans = KMeans(n_clusters=n_clusters, random_state=init_).fit(z)\n",
    "            clustered_y = kmeans.labels_\n",
    "            homogeneity, completeness, v_measure = homogeneity_completeness_v_measure(\n",
    "                np.array(y).flatten(), np.array(clustered_y).flatten()\n",
    "            )\n",
    "            ss, _ = silhouette_score_block(z, clustered_y)\n",
    "            cluster_df.loc[len(cluster_df)] = [\n",
    "                row.dataset,\n",
    "                row.class_,\n",
    "                row.dim,\n",
    "                ss,\n",
    "                homogeneity,\n",
    "                completeness,\n",
    "                v_measure,\n",
    "                init_,\n",
    "                n_clusters,\n",
    "                kmeans,\n",
    "            ]\n",
    "    \n",
    "     # save cluster df in case this fails somewhere\n",
    "    ensure_dir(save_loc)\n",
    "    cluster_df.to_pickle(save_loc)\n",
    "    return cluster_df"
   ]
  },
  {
   "cell_type": "code",
   "execution_count": 57,
   "metadata": {
    "ExecuteTime": {
     "end_time": "2021-01-14T07:07:29.748795Z",
     "start_time": "2021-01-14T07:07:29.669581Z"
    }
   },
   "outputs": [
    {
     "data": {
      "text/html": [
       "<div>\n",
       "<style scoped>\n",
       "    .dataframe tbody tr th:only-of-type {\n",
       "        vertical-align: middle;\n",
       "    }\n",
       "\n",
       "    .dataframe tbody tr th {\n",
       "        vertical-align: top;\n",
       "    }\n",
       "\n",
       "    .dataframe thead th {\n",
       "        text-align: right;\n",
       "    }\n",
       "</style>\n",
       "<table border=\"1\" class=\"dataframe\">\n",
       "  <thead>\n",
       "    <tr style=\"text-align: right;\">\n",
       "      <th></th>\n",
       "      <th>dataset</th>\n",
       "      <th>class_</th>\n",
       "      <th>train_z</th>\n",
       "      <th>train_label</th>\n",
       "      <th>dim</th>\n",
       "    </tr>\n",
       "  </thead>\n",
       "  <tbody>\n",
       "    <tr>\n",
       "      <th>0</th>\n",
       "      <td>macosko2015</td>\n",
       "      <td>scvis</td>\n",
       "      <td>[[0.7080004, 1.8223064], [-2.1152205, 2.807679...</td>\n",
       "      <td>[10.0, 7.0, 0.0, 10.0, 10.0, 10.0, 10.0, 10.0,...</td>\n",
       "      <td>2</td>\n",
       "    </tr>\n",
       "  </tbody>\n",
       "</table>\n",
       "</div>"
      ],
      "text/plain": [
       "       dataset class_                                            train_z  \\\n",
       "0  macosko2015  scvis  [[0.7080004, 1.8223064], [-2.1152205, 2.807679...   \n",
       "\n",
       "                                         train_label dim  \n",
       "0  [10.0, 7.0, 0.0, 10.0, 10.0, 10.0, 10.0, 10.0,...   2  "
      ]
     },
     "execution_count": 57,
     "metadata": {},
     "output_type": "execute_result"
    }
   ],
   "source": [
    "projection_df = pd.DataFrame(columns = ['dataset', 'class_', 'train_z', 'train_label', 'dim'])\n",
    "projection_df.loc[len(projection_df)] = [dataset, algorithm, z, Y_train, n_components]\n",
    "projection_df"
   ]
  },
  {
   "cell_type": "code",
   "execution_count": 58,
   "metadata": {
    "ExecuteTime": {
     "end_time": "2021-01-14T07:17:05.617952Z",
     "start_time": "2021-01-14T07:07:30.178053Z"
    }
   },
   "outputs": [
    {
     "name": "stdout",
     "output_type": "stream",
     "text": [
      "/mnt/cube/tsainbur/Projects/github_repos/umap_tf_networks/data/clustering_metric_df/scvis_2_macosko2015.pickle\n"
     ]
    },
    {
     "data": {
      "application/vnd.jupyter.widget-view+json": {
       "model_id": "",
       "version_major": 2,
       "version_minor": 0
      },
      "text/plain": [
       "n_clusters:   0%|          | 0/12 [00:00<?, ?it/s]"
      ]
     },
     "metadata": {},
     "output_type": "display_data"
    },
    {
     "data": {
      "application/vnd.jupyter.widget-view+json": {
       "model_id": "",
       "version_major": 2,
       "version_minor": 0
      },
      "text/plain": [
       "init:   0%|          | 0/5 [00:00<?, ?it/s]"
      ]
     },
     "metadata": {},
     "output_type": "display_data"
    },
    {
     "data": {
      "application/vnd.jupyter.widget-view+json": {
       "model_id": "",
       "version_major": 2,
       "version_minor": 0
      },
      "text/plain": [
       "init:   0%|          | 0/5 [00:00<?, ?it/s]"
      ]
     },
     "metadata": {},
     "output_type": "display_data"
    },
    {
     "data": {
      "application/vnd.jupyter.widget-view+json": {
       "model_id": "",
       "version_major": 2,
       "version_minor": 0
      },
      "text/plain": [
       "init:   0%|          | 0/5 [00:00<?, ?it/s]"
      ]
     },
     "metadata": {},
     "output_type": "display_data"
    },
    {
     "data": {
      "application/vnd.jupyter.widget-view+json": {
       "model_id": "",
       "version_major": 2,
       "version_minor": 0
      },
      "text/plain": [
       "init:   0%|          | 0/5 [00:00<?, ?it/s]"
      ]
     },
     "metadata": {},
     "output_type": "display_data"
    },
    {
     "data": {
      "application/vnd.jupyter.widget-view+json": {
       "model_id": "",
       "version_major": 2,
       "version_minor": 0
      },
      "text/plain": [
       "init:   0%|          | 0/5 [00:00<?, ?it/s]"
      ]
     },
     "metadata": {},
     "output_type": "display_data"
    },
    {
     "data": {
      "application/vnd.jupyter.widget-view+json": {
       "model_id": "",
       "version_major": 2,
       "version_minor": 0
      },
      "text/plain": [
       "init:   0%|          | 0/5 [00:00<?, ?it/s]"
      ]
     },
     "metadata": {},
     "output_type": "display_data"
    },
    {
     "data": {
      "application/vnd.jupyter.widget-view+json": {
       "model_id": "",
       "version_major": 2,
       "version_minor": 0
      },
      "text/plain": [
       "init:   0%|          | 0/5 [00:00<?, ?it/s]"
      ]
     },
     "metadata": {},
     "output_type": "display_data"
    },
    {
     "data": {
      "application/vnd.jupyter.widget-view+json": {
       "model_id": "",
       "version_major": 2,
       "version_minor": 0
      },
      "text/plain": [
       "init:   0%|          | 0/5 [00:00<?, ?it/s]"
      ]
     },
     "metadata": {},
     "output_type": "display_data"
    },
    {
     "data": {
      "application/vnd.jupyter.widget-view+json": {
       "model_id": "",
       "version_major": 2,
       "version_minor": 0
      },
      "text/plain": [
       "init:   0%|          | 0/5 [00:00<?, ?it/s]"
      ]
     },
     "metadata": {},
     "output_type": "display_data"
    },
    {
     "data": {
      "application/vnd.jupyter.widget-view+json": {
       "model_id": "",
       "version_major": 2,
       "version_minor": 0
      },
      "text/plain": [
       "init:   0%|          | 0/5 [00:00<?, ?it/s]"
      ]
     },
     "metadata": {},
     "output_type": "display_data"
    },
    {
     "data": {
      "application/vnd.jupyter.widget-view+json": {
       "model_id": "",
       "version_major": 2,
       "version_minor": 0
      },
      "text/plain": [
       "init:   0%|          | 0/5 [00:00<?, ?it/s]"
      ]
     },
     "metadata": {},
     "output_type": "display_data"
    },
    {
     "data": {
      "application/vnd.jupyter.widget-view+json": {
       "model_id": "",
       "version_major": 2,
       "version_minor": 0
      },
      "text/plain": [
       "init:   0%|          | 0/5 [00:00<?, ?it/s]"
      ]
     },
     "metadata": {},
     "output_type": "display_data"
    },
    {
     "data": {
      "text/html": [
       "<div>\n",
       "<style scoped>\n",
       "    .dataframe tbody tr th:only-of-type {\n",
       "        vertical-align: middle;\n",
       "    }\n",
       "\n",
       "    .dataframe tbody tr th {\n",
       "        vertical-align: top;\n",
       "    }\n",
       "\n",
       "    .dataframe thead th {\n",
       "        text-align: right;\n",
       "    }\n",
       "</style>\n",
       "<table border=\"1\" class=\"dataframe\">\n",
       "  <thead>\n",
       "    <tr style=\"text-align: right;\">\n",
       "      <th></th>\n",
       "      <th>dataset</th>\n",
       "      <th>class_</th>\n",
       "      <th>dim</th>\n",
       "      <th>silhouette</th>\n",
       "      <th>homogeneity</th>\n",
       "      <th>completeness</th>\n",
       "      <th>v_measure</th>\n",
       "      <th>init_</th>\n",
       "      <th>n_clusters</th>\n",
       "      <th>model</th>\n",
       "    </tr>\n",
       "  </thead>\n",
       "  <tbody>\n",
       "    <tr>\n",
       "      <th>0</th>\n",
       "      <td>macosko2015</td>\n",
       "      <td>scvis</td>\n",
       "      <td>2</td>\n",
       "      <td>0.444441</td>\n",
       "      <td>0.481975</td>\n",
       "      <td>0.372832</td>\n",
       "      <td>0.420436</td>\n",
       "      <td>0</td>\n",
       "      <td>6</td>\n",
       "      <td>KMeans(n_clusters=6, random_state=0)</td>\n",
       "    </tr>\n",
       "    <tr>\n",
       "      <th>1</th>\n",
       "      <td>macosko2015</td>\n",
       "      <td>scvis</td>\n",
       "      <td>2</td>\n",
       "      <td>0.445072</td>\n",
       "      <td>0.482526</td>\n",
       "      <td>0.372796</td>\n",
       "      <td>0.420622</td>\n",
       "      <td>1</td>\n",
       "      <td>6</td>\n",
       "      <td>KMeans(n_clusters=6, random_state=1)</td>\n",
       "    </tr>\n",
       "    <tr>\n",
       "      <th>2</th>\n",
       "      <td>macosko2015</td>\n",
       "      <td>scvis</td>\n",
       "      <td>2</td>\n",
       "      <td>0.444526</td>\n",
       "      <td>0.482043</td>\n",
       "      <td>0.372783</td>\n",
       "      <td>0.420430</td>\n",
       "      <td>2</td>\n",
       "      <td>6</td>\n",
       "      <td>KMeans(n_clusters=6, random_state=2)</td>\n",
       "    </tr>\n",
       "    <tr>\n",
       "      <th>3</th>\n",
       "      <td>macosko2015</td>\n",
       "      <td>scvis</td>\n",
       "      <td>2</td>\n",
       "      <td>0.444428</td>\n",
       "      <td>0.482104</td>\n",
       "      <td>0.372909</td>\n",
       "      <td>0.420534</td>\n",
       "      <td>3</td>\n",
       "      <td>6</td>\n",
       "      <td>KMeans(n_clusters=6, random_state=3)</td>\n",
       "    </tr>\n",
       "    <tr>\n",
       "      <th>4</th>\n",
       "      <td>macosko2015</td>\n",
       "      <td>scvis</td>\n",
       "      <td>2</td>\n",
       "      <td>0.445043</td>\n",
       "      <td>0.482438</td>\n",
       "      <td>0.372590</td>\n",
       "      <td>0.420458</td>\n",
       "      <td>4</td>\n",
       "      <td>6</td>\n",
       "      <td>KMeans(n_clusters=6, random_state=4)</td>\n",
       "    </tr>\n",
       "    <tr>\n",
       "      <th>5</th>\n",
       "      <td>macosko2015</td>\n",
       "      <td>scvis</td>\n",
       "      <td>2</td>\n",
       "      <td>0.451769</td>\n",
       "      <td>0.511665</td>\n",
       "      <td>0.369672</td>\n",
       "      <td>0.429230</td>\n",
       "      <td>0</td>\n",
       "      <td>7</td>\n",
       "      <td>KMeans(n_clusters=7, random_state=0)</td>\n",
       "    </tr>\n",
       "    <tr>\n",
       "      <th>6</th>\n",
       "      <td>macosko2015</td>\n",
       "      <td>scvis</td>\n",
       "      <td>2</td>\n",
       "      <td>0.451452</td>\n",
       "      <td>0.512862</td>\n",
       "      <td>0.370768</td>\n",
       "      <td>0.430390</td>\n",
       "      <td>1</td>\n",
       "      <td>7</td>\n",
       "      <td>KMeans(n_clusters=7, random_state=1)</td>\n",
       "    </tr>\n",
       "    <tr>\n",
       "      <th>7</th>\n",
       "      <td>macosko2015</td>\n",
       "      <td>scvis</td>\n",
       "      <td>2</td>\n",
       "      <td>0.451385</td>\n",
       "      <td>0.513717</td>\n",
       "      <td>0.371895</td>\n",
       "      <td>0.431450</td>\n",
       "      <td>2</td>\n",
       "      <td>7</td>\n",
       "      <td>KMeans(n_clusters=7, random_state=2)</td>\n",
       "    </tr>\n",
       "    <tr>\n",
       "      <th>8</th>\n",
       "      <td>macosko2015</td>\n",
       "      <td>scvis</td>\n",
       "      <td>2</td>\n",
       "      <td>0.452682</td>\n",
       "      <td>0.511276</td>\n",
       "      <td>0.367731</td>\n",
       "      <td>0.427783</td>\n",
       "      <td>3</td>\n",
       "      <td>7</td>\n",
       "      <td>KMeans(n_clusters=7, random_state=3)</td>\n",
       "    </tr>\n",
       "    <tr>\n",
       "      <th>9</th>\n",
       "      <td>macosko2015</td>\n",
       "      <td>scvis</td>\n",
       "      <td>2</td>\n",
       "      <td>0.452010</td>\n",
       "      <td>0.512317</td>\n",
       "      <td>0.369691</td>\n",
       "      <td>0.429472</td>\n",
       "      <td>4</td>\n",
       "      <td>7</td>\n",
       "      <td>KMeans(n_clusters=7, random_state=4)</td>\n",
       "    </tr>\n",
       "    <tr>\n",
       "      <th>10</th>\n",
       "      <td>macosko2015</td>\n",
       "      <td>scvis</td>\n",
       "      <td>2</td>\n",
       "      <td>0.445785</td>\n",
       "      <td>0.521261</td>\n",
       "      <td>0.342428</td>\n",
       "      <td>0.413330</td>\n",
       "      <td>0</td>\n",
       "      <td>8</td>\n",
       "      <td>KMeans(random_state=0)</td>\n",
       "    </tr>\n",
       "    <tr>\n",
       "      <th>11</th>\n",
       "      <td>macosko2015</td>\n",
       "      <td>scvis</td>\n",
       "      <td>2</td>\n",
       "      <td>0.445522</td>\n",
       "      <td>0.521868</td>\n",
       "      <td>0.341727</td>\n",
       "      <td>0.413009</td>\n",
       "      <td>1</td>\n",
       "      <td>8</td>\n",
       "      <td>KMeans(random_state=1)</td>\n",
       "    </tr>\n",
       "    <tr>\n",
       "      <th>12</th>\n",
       "      <td>macosko2015</td>\n",
       "      <td>scvis</td>\n",
       "      <td>2</td>\n",
       "      <td>0.445461</td>\n",
       "      <td>0.521862</td>\n",
       "      <td>0.340526</td>\n",
       "      <td>0.412129</td>\n",
       "      <td>2</td>\n",
       "      <td>8</td>\n",
       "      <td>KMeans(random_state=2)</td>\n",
       "    </tr>\n",
       "    <tr>\n",
       "      <th>13</th>\n",
       "      <td>macosko2015</td>\n",
       "      <td>scvis</td>\n",
       "      <td>2</td>\n",
       "      <td>0.446092</td>\n",
       "      <td>0.521894</td>\n",
       "      <td>0.342950</td>\n",
       "      <td>0.413909</td>\n",
       "      <td>3</td>\n",
       "      <td>8</td>\n",
       "      <td>KMeans(random_state=3)</td>\n",
       "    </tr>\n",
       "    <tr>\n",
       "      <th>14</th>\n",
       "      <td>macosko2015</td>\n",
       "      <td>scvis</td>\n",
       "      <td>2</td>\n",
       "      <td>0.445330</td>\n",
       "      <td>0.522011</td>\n",
       "      <td>0.340754</td>\n",
       "      <td>0.412342</td>\n",
       "      <td>4</td>\n",
       "      <td>8</td>\n",
       "      <td>KMeans(random_state=4)</td>\n",
       "    </tr>\n",
       "    <tr>\n",
       "      <th>15</th>\n",
       "      <td>macosko2015</td>\n",
       "      <td>scvis</td>\n",
       "      <td>2</td>\n",
       "      <td>0.449407</td>\n",
       "      <td>0.530823</td>\n",
       "      <td>0.331168</td>\n",
       "      <td>0.407873</td>\n",
       "      <td>0</td>\n",
       "      <td>9</td>\n",
       "      <td>KMeans(n_clusters=9, random_state=0)</td>\n",
       "    </tr>\n",
       "    <tr>\n",
       "      <th>16</th>\n",
       "      <td>macosko2015</td>\n",
       "      <td>scvis</td>\n",
       "      <td>2</td>\n",
       "      <td>0.449818</td>\n",
       "      <td>0.530981</td>\n",
       "      <td>0.331902</td>\n",
       "      <td>0.408476</td>\n",
       "      <td>1</td>\n",
       "      <td>9</td>\n",
       "      <td>KMeans(n_clusters=9, random_state=1)</td>\n",
       "    </tr>\n",
       "    <tr>\n",
       "      <th>17</th>\n",
       "      <td>macosko2015</td>\n",
       "      <td>scvis</td>\n",
       "      <td>2</td>\n",
       "      <td>0.449710</td>\n",
       "      <td>0.530654</td>\n",
       "      <td>0.331582</td>\n",
       "      <td>0.408137</td>\n",
       "      <td>2</td>\n",
       "      <td>9</td>\n",
       "      <td>KMeans(n_clusters=9, random_state=2)</td>\n",
       "    </tr>\n",
       "    <tr>\n",
       "      <th>18</th>\n",
       "      <td>macosko2015</td>\n",
       "      <td>scvis</td>\n",
       "      <td>2</td>\n",
       "      <td>0.449105</td>\n",
       "      <td>0.530603</td>\n",
       "      <td>0.330868</td>\n",
       "      <td>0.407581</td>\n",
       "      <td>3</td>\n",
       "      <td>9</td>\n",
       "      <td>KMeans(n_clusters=9, random_state=3)</td>\n",
       "    </tr>\n",
       "    <tr>\n",
       "      <th>19</th>\n",
       "      <td>macosko2015</td>\n",
       "      <td>scvis</td>\n",
       "      <td>2</td>\n",
       "      <td>0.448833</td>\n",
       "      <td>0.531502</td>\n",
       "      <td>0.330051</td>\n",
       "      <td>0.407224</td>\n",
       "      <td>4</td>\n",
       "      <td>9</td>\n",
       "      <td>KMeans(n_clusters=9, random_state=4)</td>\n",
       "    </tr>\n",
       "    <tr>\n",
       "      <th>20</th>\n",
       "      <td>macosko2015</td>\n",
       "      <td>scvis</td>\n",
       "      <td>2</td>\n",
       "      <td>0.449600</td>\n",
       "      <td>0.544249</td>\n",
       "      <td>0.330426</td>\n",
       "      <td>0.411202</td>\n",
       "      <td>0</td>\n",
       "      <td>10</td>\n",
       "      <td>KMeans(n_clusters=10, random_state=0)</td>\n",
       "    </tr>\n",
       "    <tr>\n",
       "      <th>21</th>\n",
       "      <td>macosko2015</td>\n",
       "      <td>scvis</td>\n",
       "      <td>2</td>\n",
       "      <td>0.449217</td>\n",
       "      <td>0.544454</td>\n",
       "      <td>0.329328</td>\n",
       "      <td>0.410409</td>\n",
       "      <td>1</td>\n",
       "      <td>10</td>\n",
       "      <td>KMeans(n_clusters=10, random_state=1)</td>\n",
       "    </tr>\n",
       "    <tr>\n",
       "      <th>22</th>\n",
       "      <td>macosko2015</td>\n",
       "      <td>scvis</td>\n",
       "      <td>2</td>\n",
       "      <td>0.449519</td>\n",
       "      <td>0.544718</td>\n",
       "      <td>0.329621</td>\n",
       "      <td>0.410711</td>\n",
       "      <td>2</td>\n",
       "      <td>10</td>\n",
       "      <td>KMeans(n_clusters=10, random_state=2)</td>\n",
       "    </tr>\n",
       "    <tr>\n",
       "      <th>23</th>\n",
       "      <td>macosko2015</td>\n",
       "      <td>scvis</td>\n",
       "      <td>2</td>\n",
       "      <td>0.449652</td>\n",
       "      <td>0.544464</td>\n",
       "      <td>0.330648</td>\n",
       "      <td>0.411435</td>\n",
       "      <td>3</td>\n",
       "      <td>10</td>\n",
       "      <td>KMeans(n_clusters=10, random_state=3)</td>\n",
       "    </tr>\n",
       "    <tr>\n",
       "      <th>24</th>\n",
       "      <td>macosko2015</td>\n",
       "      <td>scvis</td>\n",
       "      <td>2</td>\n",
       "      <td>0.449506</td>\n",
       "      <td>0.544924</td>\n",
       "      <td>0.329667</td>\n",
       "      <td>0.410805</td>\n",
       "      <td>4</td>\n",
       "      <td>10</td>\n",
       "      <td>KMeans(n_clusters=10, random_state=4)</td>\n",
       "    </tr>\n",
       "    <tr>\n",
       "      <th>25</th>\n",
       "      <td>macosko2015</td>\n",
       "      <td>scvis</td>\n",
       "      <td>2</td>\n",
       "      <td>0.432273</td>\n",
       "      <td>0.543860</td>\n",
       "      <td>0.305698</td>\n",
       "      <td>0.391397</td>\n",
       "      <td>0</td>\n",
       "      <td>11</td>\n",
       "      <td>KMeans(n_clusters=11, random_state=0)</td>\n",
       "    </tr>\n",
       "    <tr>\n",
       "      <th>26</th>\n",
       "      <td>macosko2015</td>\n",
       "      <td>scvis</td>\n",
       "      <td>2</td>\n",
       "      <td>0.433307</td>\n",
       "      <td>0.544082</td>\n",
       "      <td>0.307592</td>\n",
       "      <td>0.393003</td>\n",
       "      <td>1</td>\n",
       "      <td>11</td>\n",
       "      <td>KMeans(n_clusters=11, random_state=1)</td>\n",
       "    </tr>\n",
       "    <tr>\n",
       "      <th>27</th>\n",
       "      <td>macosko2015</td>\n",
       "      <td>scvis</td>\n",
       "      <td>2</td>\n",
       "      <td>0.433680</td>\n",
       "      <td>0.546035</td>\n",
       "      <td>0.308323</td>\n",
       "      <td>0.394109</td>\n",
       "      <td>2</td>\n",
       "      <td>11</td>\n",
       "      <td>KMeans(n_clusters=11, random_state=2)</td>\n",
       "    </tr>\n",
       "    <tr>\n",
       "      <th>28</th>\n",
       "      <td>macosko2015</td>\n",
       "      <td>scvis</td>\n",
       "      <td>2</td>\n",
       "      <td>0.432672</td>\n",
       "      <td>0.543771</td>\n",
       "      <td>0.306570</td>\n",
       "      <td>0.392087</td>\n",
       "      <td>3</td>\n",
       "      <td>11</td>\n",
       "      <td>KMeans(n_clusters=11, random_state=3)</td>\n",
       "    </tr>\n",
       "    <tr>\n",
       "      <th>29</th>\n",
       "      <td>macosko2015</td>\n",
       "      <td>scvis</td>\n",
       "      <td>2</td>\n",
       "      <td>0.433245</td>\n",
       "      <td>0.544063</td>\n",
       "      <td>0.307611</td>\n",
       "      <td>0.393014</td>\n",
       "      <td>4</td>\n",
       "      <td>11</td>\n",
       "      <td>KMeans(n_clusters=11, random_state=4)</td>\n",
       "    </tr>\n",
       "    <tr>\n",
       "      <th>30</th>\n",
       "      <td>macosko2015</td>\n",
       "      <td>scvis</td>\n",
       "      <td>2</td>\n",
       "      <td>0.433036</td>\n",
       "      <td>0.550194</td>\n",
       "      <td>0.305578</td>\n",
       "      <td>0.392925</td>\n",
       "      <td>0</td>\n",
       "      <td>12</td>\n",
       "      <td>KMeans(n_clusters=12, random_state=0)</td>\n",
       "    </tr>\n",
       "    <tr>\n",
       "      <th>31</th>\n",
       "      <td>macosko2015</td>\n",
       "      <td>scvis</td>\n",
       "      <td>2</td>\n",
       "      <td>0.433014</td>\n",
       "      <td>0.550644</td>\n",
       "      <td>0.305947</td>\n",
       "      <td>0.393345</td>\n",
       "      <td>1</td>\n",
       "      <td>12</td>\n",
       "      <td>KMeans(n_clusters=12, random_state=1)</td>\n",
       "    </tr>\n",
       "    <tr>\n",
       "      <th>32</th>\n",
       "      <td>macosko2015</td>\n",
       "      <td>scvis</td>\n",
       "      <td>2</td>\n",
       "      <td>0.432357</td>\n",
       "      <td>0.550430</td>\n",
       "      <td>0.304519</td>\n",
       "      <td>0.392109</td>\n",
       "      <td>2</td>\n",
       "      <td>12</td>\n",
       "      <td>KMeans(n_clusters=12, random_state=2)</td>\n",
       "    </tr>\n",
       "    <tr>\n",
       "      <th>33</th>\n",
       "      <td>macosko2015</td>\n",
       "      <td>scvis</td>\n",
       "      <td>2</td>\n",
       "      <td>0.433031</td>\n",
       "      <td>0.549919</td>\n",
       "      <td>0.305442</td>\n",
       "      <td>0.392742</td>\n",
       "      <td>3</td>\n",
       "      <td>12</td>\n",
       "      <td>KMeans(n_clusters=12, random_state=3)</td>\n",
       "    </tr>\n",
       "    <tr>\n",
       "      <th>34</th>\n",
       "      <td>macosko2015</td>\n",
       "      <td>scvis</td>\n",
       "      <td>2</td>\n",
       "      <td>0.433450</td>\n",
       "      <td>0.550875</td>\n",
       "      <td>0.306513</td>\n",
       "      <td>0.393871</td>\n",
       "      <td>4</td>\n",
       "      <td>12</td>\n",
       "      <td>KMeans(n_clusters=12, random_state=4)</td>\n",
       "    </tr>\n",
       "    <tr>\n",
       "      <th>35</th>\n",
       "      <td>macosko2015</td>\n",
       "      <td>scvis</td>\n",
       "      <td>2</td>\n",
       "      <td>0.419662</td>\n",
       "      <td>0.555051</td>\n",
       "      <td>0.292759</td>\n",
       "      <td>0.383332</td>\n",
       "      <td>0</td>\n",
       "      <td>13</td>\n",
       "      <td>KMeans(n_clusters=13, random_state=0)</td>\n",
       "    </tr>\n",
       "    <tr>\n",
       "      <th>36</th>\n",
       "      <td>macosko2015</td>\n",
       "      <td>scvis</td>\n",
       "      <td>2</td>\n",
       "      <td>0.437506</td>\n",
       "      <td>0.562445</td>\n",
       "      <td>0.306445</td>\n",
       "      <td>0.396733</td>\n",
       "      <td>1</td>\n",
       "      <td>13</td>\n",
       "      <td>KMeans(n_clusters=13, random_state=1)</td>\n",
       "    </tr>\n",
       "    <tr>\n",
       "      <th>37</th>\n",
       "      <td>macosko2015</td>\n",
       "      <td>scvis</td>\n",
       "      <td>2</td>\n",
       "      <td>0.437336</td>\n",
       "      <td>0.562777</td>\n",
       "      <td>0.306278</td>\n",
       "      <td>0.396675</td>\n",
       "      <td>2</td>\n",
       "      <td>13</td>\n",
       "      <td>KMeans(n_clusters=13, random_state=2)</td>\n",
       "    </tr>\n",
       "    <tr>\n",
       "      <th>38</th>\n",
       "      <td>macosko2015</td>\n",
       "      <td>scvis</td>\n",
       "      <td>2</td>\n",
       "      <td>0.437526</td>\n",
       "      <td>0.562036</td>\n",
       "      <td>0.306138</td>\n",
       "      <td>0.396373</td>\n",
       "      <td>3</td>\n",
       "      <td>13</td>\n",
       "      <td>KMeans(n_clusters=13, random_state=3)</td>\n",
       "    </tr>\n",
       "    <tr>\n",
       "      <th>39</th>\n",
       "      <td>macosko2015</td>\n",
       "      <td>scvis</td>\n",
       "      <td>2</td>\n",
       "      <td>0.419644</td>\n",
       "      <td>0.555143</td>\n",
       "      <td>0.292824</td>\n",
       "      <td>0.383409</td>\n",
       "      <td>4</td>\n",
       "      <td>13</td>\n",
       "      <td>KMeans(n_clusters=13, random_state=4)</td>\n",
       "    </tr>\n",
       "    <tr>\n",
       "      <th>40</th>\n",
       "      <td>macosko2015</td>\n",
       "      <td>scvis</td>\n",
       "      <td>2</td>\n",
       "      <td>0.425619</td>\n",
       "      <td>0.567452</td>\n",
       "      <td>0.295851</td>\n",
       "      <td>0.388928</td>\n",
       "      <td>0</td>\n",
       "      <td>14</td>\n",
       "      <td>KMeans(n_clusters=14, random_state=0)</td>\n",
       "    </tr>\n",
       "    <tr>\n",
       "      <th>41</th>\n",
       "      <td>macosko2015</td>\n",
       "      <td>scvis</td>\n",
       "      <td>2</td>\n",
       "      <td>0.423861</td>\n",
       "      <td>0.567383</td>\n",
       "      <td>0.293391</td>\n",
       "      <td>0.386780</td>\n",
       "      <td>1</td>\n",
       "      <td>14</td>\n",
       "      <td>KMeans(n_clusters=14, random_state=1)</td>\n",
       "    </tr>\n",
       "    <tr>\n",
       "      <th>42</th>\n",
       "      <td>macosko2015</td>\n",
       "      <td>scvis</td>\n",
       "      <td>2</td>\n",
       "      <td>0.427823</td>\n",
       "      <td>0.565957</td>\n",
       "      <td>0.295793</td>\n",
       "      <td>0.388526</td>\n",
       "      <td>2</td>\n",
       "      <td>14</td>\n",
       "      <td>KMeans(n_clusters=14, random_state=2)</td>\n",
       "    </tr>\n",
       "    <tr>\n",
       "      <th>43</th>\n",
       "      <td>macosko2015</td>\n",
       "      <td>scvis</td>\n",
       "      <td>2</td>\n",
       "      <td>0.424394</td>\n",
       "      <td>0.566218</td>\n",
       "      <td>0.294402</td>\n",
       "      <td>0.387385</td>\n",
       "      <td>3</td>\n",
       "      <td>14</td>\n",
       "      <td>KMeans(n_clusters=14, random_state=3)</td>\n",
       "    </tr>\n",
       "    <tr>\n",
       "      <th>44</th>\n",
       "      <td>macosko2015</td>\n",
       "      <td>scvis</td>\n",
       "      <td>2</td>\n",
       "      <td>0.421126</td>\n",
       "      <td>0.560777</td>\n",
       "      <td>0.291116</td>\n",
       "      <td>0.383267</td>\n",
       "      <td>4</td>\n",
       "      <td>14</td>\n",
       "      <td>KMeans(n_clusters=14, random_state=4)</td>\n",
       "    </tr>\n",
       "    <tr>\n",
       "      <th>45</th>\n",
       "      <td>macosko2015</td>\n",
       "      <td>scvis</td>\n",
       "      <td>2</td>\n",
       "      <td>0.425549</td>\n",
       "      <td>0.569211</td>\n",
       "      <td>0.289090</td>\n",
       "      <td>0.383439</td>\n",
       "      <td>0</td>\n",
       "      <td>15</td>\n",
       "      <td>KMeans(n_clusters=15, random_state=0)</td>\n",
       "    </tr>\n",
       "    <tr>\n",
       "      <th>46</th>\n",
       "      <td>macosko2015</td>\n",
       "      <td>scvis</td>\n",
       "      <td>2</td>\n",
       "      <td>0.425438</td>\n",
       "      <td>0.573101</td>\n",
       "      <td>0.289565</td>\n",
       "      <td>0.384737</td>\n",
       "      <td>1</td>\n",
       "      <td>15</td>\n",
       "      <td>KMeans(n_clusters=15, random_state=1)</td>\n",
       "    </tr>\n",
       "    <tr>\n",
       "      <th>47</th>\n",
       "      <td>macosko2015</td>\n",
       "      <td>scvis</td>\n",
       "      <td>2</td>\n",
       "      <td>0.426197</td>\n",
       "      <td>0.574122</td>\n",
       "      <td>0.290440</td>\n",
       "      <td>0.385740</td>\n",
       "      <td>2</td>\n",
       "      <td>15</td>\n",
       "      <td>KMeans(n_clusters=15, random_state=2)</td>\n",
       "    </tr>\n",
       "    <tr>\n",
       "      <th>48</th>\n",
       "      <td>macosko2015</td>\n",
       "      <td>scvis</td>\n",
       "      <td>2</td>\n",
       "      <td>0.426185</td>\n",
       "      <td>0.573933</td>\n",
       "      <td>0.290363</td>\n",
       "      <td>0.385629</td>\n",
       "      <td>3</td>\n",
       "      <td>15</td>\n",
       "      <td>KMeans(n_clusters=15, random_state=3)</td>\n",
       "    </tr>\n",
       "    <tr>\n",
       "      <th>49</th>\n",
       "      <td>macosko2015</td>\n",
       "      <td>scvis</td>\n",
       "      <td>2</td>\n",
       "      <td>0.425556</td>\n",
       "      <td>0.572841</td>\n",
       "      <td>0.289889</td>\n",
       "      <td>0.384965</td>\n",
       "      <td>4</td>\n",
       "      <td>15</td>\n",
       "      <td>KMeans(n_clusters=15, random_state=4)</td>\n",
       "    </tr>\n",
       "    <tr>\n",
       "      <th>50</th>\n",
       "      <td>macosko2015</td>\n",
       "      <td>scvis</td>\n",
       "      <td>2</td>\n",
       "      <td>0.426011</td>\n",
       "      <td>0.575837</td>\n",
       "      <td>0.289390</td>\n",
       "      <td>0.385197</td>\n",
       "      <td>0</td>\n",
       "      <td>16</td>\n",
       "      <td>KMeans(n_clusters=16, random_state=0)</td>\n",
       "    </tr>\n",
       "    <tr>\n",
       "      <th>51</th>\n",
       "      <td>macosko2015</td>\n",
       "      <td>scvis</td>\n",
       "      <td>2</td>\n",
       "      <td>0.427638</td>\n",
       "      <td>0.577331</td>\n",
       "      <td>0.287370</td>\n",
       "      <td>0.383734</td>\n",
       "      <td>1</td>\n",
       "      <td>16</td>\n",
       "      <td>KMeans(n_clusters=16, random_state=1)</td>\n",
       "    </tr>\n",
       "    <tr>\n",
       "      <th>52</th>\n",
       "      <td>macosko2015</td>\n",
       "      <td>scvis</td>\n",
       "      <td>2</td>\n",
       "      <td>0.427819</td>\n",
       "      <td>0.579488</td>\n",
       "      <td>0.288439</td>\n",
       "      <td>0.385164</td>\n",
       "      <td>2</td>\n",
       "      <td>16</td>\n",
       "      <td>KMeans(n_clusters=16, random_state=2)</td>\n",
       "    </tr>\n",
       "    <tr>\n",
       "      <th>53</th>\n",
       "      <td>macosko2015</td>\n",
       "      <td>scvis</td>\n",
       "      <td>2</td>\n",
       "      <td>0.426315</td>\n",
       "      <td>0.577636</td>\n",
       "      <td>0.289597</td>\n",
       "      <td>0.385783</td>\n",
       "      <td>3</td>\n",
       "      <td>16</td>\n",
       "      <td>KMeans(n_clusters=16, random_state=3)</td>\n",
       "    </tr>\n",
       "    <tr>\n",
       "      <th>54</th>\n",
       "      <td>macosko2015</td>\n",
       "      <td>scvis</td>\n",
       "      <td>2</td>\n",
       "      <td>0.426323</td>\n",
       "      <td>0.580122</td>\n",
       "      <td>0.289685</td>\n",
       "      <td>0.386414</td>\n",
       "      <td>4</td>\n",
       "      <td>16</td>\n",
       "      <td>KMeans(n_clusters=16, random_state=4)</td>\n",
       "    </tr>\n",
       "    <tr>\n",
       "      <th>55</th>\n",
       "      <td>macosko2015</td>\n",
       "      <td>scvis</td>\n",
       "      <td>2</td>\n",
       "      <td>0.420285</td>\n",
       "      <td>0.576102</td>\n",
       "      <td>0.278010</td>\n",
       "      <td>0.375038</td>\n",
       "      <td>0</td>\n",
       "      <td>17</td>\n",
       "      <td>KMeans(n_clusters=17, random_state=0)</td>\n",
       "    </tr>\n",
       "    <tr>\n",
       "      <th>56</th>\n",
       "      <td>macosko2015</td>\n",
       "      <td>scvis</td>\n",
       "      <td>2</td>\n",
       "      <td>0.423135</td>\n",
       "      <td>0.581283</td>\n",
       "      <td>0.279004</td>\n",
       "      <td>0.377038</td>\n",
       "      <td>1</td>\n",
       "      <td>17</td>\n",
       "      <td>KMeans(n_clusters=17, random_state=1)</td>\n",
       "    </tr>\n",
       "    <tr>\n",
       "      <th>57</th>\n",
       "      <td>macosko2015</td>\n",
       "      <td>scvis</td>\n",
       "      <td>2</td>\n",
       "      <td>0.423671</td>\n",
       "      <td>0.580684</td>\n",
       "      <td>0.282666</td>\n",
       "      <td>0.380239</td>\n",
       "      <td>2</td>\n",
       "      <td>17</td>\n",
       "      <td>KMeans(n_clusters=17, random_state=2)</td>\n",
       "    </tr>\n",
       "    <tr>\n",
       "      <th>58</th>\n",
       "      <td>macosko2015</td>\n",
       "      <td>scvis</td>\n",
       "      <td>2</td>\n",
       "      <td>0.423266</td>\n",
       "      <td>0.580105</td>\n",
       "      <td>0.281354</td>\n",
       "      <td>0.378927</td>\n",
       "      <td>3</td>\n",
       "      <td>17</td>\n",
       "      <td>KMeans(n_clusters=17, random_state=3)</td>\n",
       "    </tr>\n",
       "    <tr>\n",
       "      <th>59</th>\n",
       "      <td>macosko2015</td>\n",
       "      <td>scvis</td>\n",
       "      <td>2</td>\n",
       "      <td>0.423629</td>\n",
       "      <td>0.580616</td>\n",
       "      <td>0.281909</td>\n",
       "      <td>0.379539</td>\n",
       "      <td>4</td>\n",
       "      <td>17</td>\n",
       "      <td>KMeans(n_clusters=17, random_state=4)</td>\n",
       "    </tr>\n",
       "  </tbody>\n",
       "</table>\n",
       "</div>"
      ],
      "text/plain": [
       "        dataset class_ dim  silhouette  homogeneity  completeness  v_measure  \\\n",
       "0   macosko2015  scvis   2    0.444441     0.481975      0.372832   0.420436   \n",
       "1   macosko2015  scvis   2    0.445072     0.482526      0.372796   0.420622   \n",
       "2   macosko2015  scvis   2    0.444526     0.482043      0.372783   0.420430   \n",
       "3   macosko2015  scvis   2    0.444428     0.482104      0.372909   0.420534   \n",
       "4   macosko2015  scvis   2    0.445043     0.482438      0.372590   0.420458   \n",
       "5   macosko2015  scvis   2    0.451769     0.511665      0.369672   0.429230   \n",
       "6   macosko2015  scvis   2    0.451452     0.512862      0.370768   0.430390   \n",
       "7   macosko2015  scvis   2    0.451385     0.513717      0.371895   0.431450   \n",
       "8   macosko2015  scvis   2    0.452682     0.511276      0.367731   0.427783   \n",
       "9   macosko2015  scvis   2    0.452010     0.512317      0.369691   0.429472   \n",
       "10  macosko2015  scvis   2    0.445785     0.521261      0.342428   0.413330   \n",
       "11  macosko2015  scvis   2    0.445522     0.521868      0.341727   0.413009   \n",
       "12  macosko2015  scvis   2    0.445461     0.521862      0.340526   0.412129   \n",
       "13  macosko2015  scvis   2    0.446092     0.521894      0.342950   0.413909   \n",
       "14  macosko2015  scvis   2    0.445330     0.522011      0.340754   0.412342   \n",
       "15  macosko2015  scvis   2    0.449407     0.530823      0.331168   0.407873   \n",
       "16  macosko2015  scvis   2    0.449818     0.530981      0.331902   0.408476   \n",
       "17  macosko2015  scvis   2    0.449710     0.530654      0.331582   0.408137   \n",
       "18  macosko2015  scvis   2    0.449105     0.530603      0.330868   0.407581   \n",
       "19  macosko2015  scvis   2    0.448833     0.531502      0.330051   0.407224   \n",
       "20  macosko2015  scvis   2    0.449600     0.544249      0.330426   0.411202   \n",
       "21  macosko2015  scvis   2    0.449217     0.544454      0.329328   0.410409   \n",
       "22  macosko2015  scvis   2    0.449519     0.544718      0.329621   0.410711   \n",
       "23  macosko2015  scvis   2    0.449652     0.544464      0.330648   0.411435   \n",
       "24  macosko2015  scvis   2    0.449506     0.544924      0.329667   0.410805   \n",
       "25  macosko2015  scvis   2    0.432273     0.543860      0.305698   0.391397   \n",
       "26  macosko2015  scvis   2    0.433307     0.544082      0.307592   0.393003   \n",
       "27  macosko2015  scvis   2    0.433680     0.546035      0.308323   0.394109   \n",
       "28  macosko2015  scvis   2    0.432672     0.543771      0.306570   0.392087   \n",
       "29  macosko2015  scvis   2    0.433245     0.544063      0.307611   0.393014   \n",
       "30  macosko2015  scvis   2    0.433036     0.550194      0.305578   0.392925   \n",
       "31  macosko2015  scvis   2    0.433014     0.550644      0.305947   0.393345   \n",
       "32  macosko2015  scvis   2    0.432357     0.550430      0.304519   0.392109   \n",
       "33  macosko2015  scvis   2    0.433031     0.549919      0.305442   0.392742   \n",
       "34  macosko2015  scvis   2    0.433450     0.550875      0.306513   0.393871   \n",
       "35  macosko2015  scvis   2    0.419662     0.555051      0.292759   0.383332   \n",
       "36  macosko2015  scvis   2    0.437506     0.562445      0.306445   0.396733   \n",
       "37  macosko2015  scvis   2    0.437336     0.562777      0.306278   0.396675   \n",
       "38  macosko2015  scvis   2    0.437526     0.562036      0.306138   0.396373   \n",
       "39  macosko2015  scvis   2    0.419644     0.555143      0.292824   0.383409   \n",
       "40  macosko2015  scvis   2    0.425619     0.567452      0.295851   0.388928   \n",
       "41  macosko2015  scvis   2    0.423861     0.567383      0.293391   0.386780   \n",
       "42  macosko2015  scvis   2    0.427823     0.565957      0.295793   0.388526   \n",
       "43  macosko2015  scvis   2    0.424394     0.566218      0.294402   0.387385   \n",
       "44  macosko2015  scvis   2    0.421126     0.560777      0.291116   0.383267   \n",
       "45  macosko2015  scvis   2    0.425549     0.569211      0.289090   0.383439   \n",
       "46  macosko2015  scvis   2    0.425438     0.573101      0.289565   0.384737   \n",
       "47  macosko2015  scvis   2    0.426197     0.574122      0.290440   0.385740   \n",
       "48  macosko2015  scvis   2    0.426185     0.573933      0.290363   0.385629   \n",
       "49  macosko2015  scvis   2    0.425556     0.572841      0.289889   0.384965   \n",
       "50  macosko2015  scvis   2    0.426011     0.575837      0.289390   0.385197   \n",
       "51  macosko2015  scvis   2    0.427638     0.577331      0.287370   0.383734   \n",
       "52  macosko2015  scvis   2    0.427819     0.579488      0.288439   0.385164   \n",
       "53  macosko2015  scvis   2    0.426315     0.577636      0.289597   0.385783   \n",
       "54  macosko2015  scvis   2    0.426323     0.580122      0.289685   0.386414   \n",
       "55  macosko2015  scvis   2    0.420285     0.576102      0.278010   0.375038   \n",
       "56  macosko2015  scvis   2    0.423135     0.581283      0.279004   0.377038   \n",
       "57  macosko2015  scvis   2    0.423671     0.580684      0.282666   0.380239   \n",
       "58  macosko2015  scvis   2    0.423266     0.580105      0.281354   0.378927   \n",
       "59  macosko2015  scvis   2    0.423629     0.580616      0.281909   0.379539   \n",
       "\n",
       "   init_ n_clusters                                  model  \n",
       "0      0          6   KMeans(n_clusters=6, random_state=0)  \n",
       "1      1          6   KMeans(n_clusters=6, random_state=1)  \n",
       "2      2          6   KMeans(n_clusters=6, random_state=2)  \n",
       "3      3          6   KMeans(n_clusters=6, random_state=3)  \n",
       "4      4          6   KMeans(n_clusters=6, random_state=4)  \n",
       "5      0          7   KMeans(n_clusters=7, random_state=0)  \n",
       "6      1          7   KMeans(n_clusters=7, random_state=1)  \n",
       "7      2          7   KMeans(n_clusters=7, random_state=2)  \n",
       "8      3          7   KMeans(n_clusters=7, random_state=3)  \n",
       "9      4          7   KMeans(n_clusters=7, random_state=4)  \n",
       "10     0          8                 KMeans(random_state=0)  \n",
       "11     1          8                 KMeans(random_state=1)  \n",
       "12     2          8                 KMeans(random_state=2)  \n",
       "13     3          8                 KMeans(random_state=3)  \n",
       "14     4          8                 KMeans(random_state=4)  \n",
       "15     0          9   KMeans(n_clusters=9, random_state=0)  \n",
       "16     1          9   KMeans(n_clusters=9, random_state=1)  \n",
       "17     2          9   KMeans(n_clusters=9, random_state=2)  \n",
       "18     3          9   KMeans(n_clusters=9, random_state=3)  \n",
       "19     4          9   KMeans(n_clusters=9, random_state=4)  \n",
       "20     0         10  KMeans(n_clusters=10, random_state=0)  \n",
       "21     1         10  KMeans(n_clusters=10, random_state=1)  \n",
       "22     2         10  KMeans(n_clusters=10, random_state=2)  \n",
       "23     3         10  KMeans(n_clusters=10, random_state=3)  \n",
       "24     4         10  KMeans(n_clusters=10, random_state=4)  \n",
       "25     0         11  KMeans(n_clusters=11, random_state=0)  \n",
       "26     1         11  KMeans(n_clusters=11, random_state=1)  \n",
       "27     2         11  KMeans(n_clusters=11, random_state=2)  \n",
       "28     3         11  KMeans(n_clusters=11, random_state=3)  \n",
       "29     4         11  KMeans(n_clusters=11, random_state=4)  \n",
       "30     0         12  KMeans(n_clusters=12, random_state=0)  \n",
       "31     1         12  KMeans(n_clusters=12, random_state=1)  \n",
       "32     2         12  KMeans(n_clusters=12, random_state=2)  \n",
       "33     3         12  KMeans(n_clusters=12, random_state=3)  \n",
       "34     4         12  KMeans(n_clusters=12, random_state=4)  \n",
       "35     0         13  KMeans(n_clusters=13, random_state=0)  \n",
       "36     1         13  KMeans(n_clusters=13, random_state=1)  \n",
       "37     2         13  KMeans(n_clusters=13, random_state=2)  \n",
       "38     3         13  KMeans(n_clusters=13, random_state=3)  \n",
       "39     4         13  KMeans(n_clusters=13, random_state=4)  \n",
       "40     0         14  KMeans(n_clusters=14, random_state=0)  \n",
       "41     1         14  KMeans(n_clusters=14, random_state=1)  \n",
       "42     2         14  KMeans(n_clusters=14, random_state=2)  \n",
       "43     3         14  KMeans(n_clusters=14, random_state=3)  \n",
       "44     4         14  KMeans(n_clusters=14, random_state=4)  \n",
       "45     0         15  KMeans(n_clusters=15, random_state=0)  \n",
       "46     1         15  KMeans(n_clusters=15, random_state=1)  \n",
       "47     2         15  KMeans(n_clusters=15, random_state=2)  \n",
       "48     3         15  KMeans(n_clusters=15, random_state=3)  \n",
       "49     4         15  KMeans(n_clusters=15, random_state=4)  \n",
       "50     0         16  KMeans(n_clusters=16, random_state=0)  \n",
       "51     1         16  KMeans(n_clusters=16, random_state=1)  \n",
       "52     2         16  KMeans(n_clusters=16, random_state=2)  \n",
       "53     3         16  KMeans(n_clusters=16, random_state=3)  \n",
       "54     4         16  KMeans(n_clusters=16, random_state=4)  \n",
       "55     0         17  KMeans(n_clusters=17, random_state=0)  \n",
       "56     1         17  KMeans(n_clusters=17, random_state=1)  \n",
       "57     2         17  KMeans(n_clusters=17, random_state=2)  \n",
       "58     3         17  KMeans(n_clusters=17, random_state=3)  \n",
       "59     4         17  KMeans(n_clusters=17, random_state=4)  "
      ]
     },
     "execution_count": 58,
     "metadata": {},
     "output_type": "execute_result"
    }
   ],
   "source": [
    "get_cluster_metrics(projection_df.iloc[0], n_init=5)"
   ]
  },
  {
   "cell_type": "code",
   "execution_count": null,
   "metadata": {},
   "outputs": [],
   "source": []
  },
  {
   "cell_type": "code",
   "execution_count": null,
   "metadata": {},
   "outputs": [],
   "source": []
  },
  {
   "cell_type": "code",
   "execution_count": null,
   "metadata": {},
   "outputs": [],
   "source": []
  },
  {
   "cell_type": "code",
   "execution_count": null,
   "metadata": {},
   "outputs": [],
   "source": []
  }
 ],
 "metadata": {
  "kernelspec": {
   "display_name": "Python [conda env:scvis2]",
   "language": "python",
   "name": "conda-env-scvis2-py"
  },
  "language_info": {
   "codemirror_mode": {
    "name": "ipython",
    "version": 3
   },
   "file_extension": ".py",
   "mimetype": "text/x-python",
   "name": "python",
   "nbconvert_exporter": "python",
   "pygments_lexer": "ipython3",
   "version": "3.7.9"
  }
 },
 "nbformat": 4,
 "nbformat_minor": 4
}
