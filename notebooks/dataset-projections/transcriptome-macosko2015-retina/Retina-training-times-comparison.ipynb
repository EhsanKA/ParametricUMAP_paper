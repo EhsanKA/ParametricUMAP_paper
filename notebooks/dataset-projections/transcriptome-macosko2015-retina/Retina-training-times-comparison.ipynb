{
 "cells": [
  {
   "cell_type": "code",
   "execution_count": 2,
   "metadata": {
    "ExecuteTime": {
     "end_time": "2020-08-22T20:26:24.253821Z",
     "start_time": "2020-08-22T20:26:24.236960Z"
    }
   },
   "outputs": [],
   "source": [
    "# reload packages\n",
    "%load_ext autoreload\n",
    "%autoreload 2"
   ]
  },
  {
   "cell_type": "markdown",
   "metadata": {},
   "source": [
    "### Choose GPU (this may not be needed on your computer)"
   ]
  },
  {
   "cell_type": "code",
   "execution_count": 3,
   "metadata": {
    "ExecuteTime": {
     "end_time": "2020-08-22T20:26:24.570966Z",
     "start_time": "2020-08-22T20:26:24.554074Z"
    }
   },
   "outputs": [
    {
     "name": "stdout",
     "output_type": "stream",
     "text": [
      "env: CUDA_DEVICE_ORDER=PCI_BUS_ID\n",
      "env: CUDA_VISIBLE_DEVICES=''\n"
     ]
    }
   ],
   "source": [
    "%env CUDA_DEVICE_ORDER=PCI_BUS_ID\n",
    "%env CUDA_VISIBLE_DEVICES=''"
   ]
  },
  {
   "cell_type": "markdown",
   "metadata": {},
   "source": [
    "### load packages"
   ]
  },
  {
   "cell_type": "code",
   "execution_count": 4,
   "metadata": {
    "ExecuteTime": {
     "end_time": "2020-08-22T20:26:33.780627Z",
     "start_time": "2020-08-22T20:26:24.831052Z"
    }
   },
   "outputs": [
    {
     "name": "stderr",
     "output_type": "stream",
     "text": [
      "/mnt/cube/tsainbur/conda_envs/tpy3/lib/python3.6/site-packages/tqdm/autonotebook/__init__.py:14: TqdmExperimentalWarning: Using `tqdm.autonotebook.tqdm` in notebook mode. Use `tqdm.tqdm` instead to force console mode (e.g. in jupyter console)\n",
      "  \" (e.g. in jupyter console)\", TqdmExperimentalWarning)\n"
     ]
    }
   ],
   "source": [
    "from tfumap.umap import tfUMAP"
   ]
  },
  {
   "cell_type": "code",
   "execution_count": 5,
   "metadata": {
    "ExecuteTime": {
     "end_time": "2020-08-22T20:26:34.006318Z",
     "start_time": "2020-08-22T20:26:33.781835Z"
    }
   },
   "outputs": [],
   "source": [
    "import tensorflow as tf\n",
    "import numpy as np\n",
    "import matplotlib.pyplot as plt\n",
    "from tqdm.autonotebook import tqdm\n",
    "import umap\n",
    "import pandas as pd"
   ]
  },
  {
   "cell_type": "code",
   "execution_count": 6,
   "metadata": {
    "ExecuteTime": {
     "end_time": "2020-08-22T20:26:34.045511Z",
     "start_time": "2020-08-22T20:26:34.007645Z"
    }
   },
   "outputs": [],
   "source": [
    "from tfumap.umap import tfUMAP"
   ]
  },
  {
   "cell_type": "markdown",
   "metadata": {},
   "source": [
    "### Load dataset"
   ]
  },
  {
   "cell_type": "code",
   "execution_count": 7,
   "metadata": {
    "ExecuteTime": {
     "end_time": "2020-08-22T20:26:34.076056Z",
     "start_time": "2020-08-22T20:26:34.046603Z"
    }
   },
   "outputs": [],
   "source": [
    "from tfumap.paths import ensure_dir, MODEL_DIR, DATA_DIR"
   ]
  },
  {
   "cell_type": "code",
   "execution_count": 8,
   "metadata": {
    "ExecuteTime": {
     "end_time": "2020-08-22T20:26:34.104862Z",
     "start_time": "2020-08-22T20:26:34.076952Z"
    }
   },
   "outputs": [],
   "source": [
    "#dataset_address = 'http://file.biolab.si/opentsne/macosko_2015.pkl.gz'\n",
    "# https://opentsne.readthedocs.io/en/latest/examples/01_simple_usage/01_simple_usage.html\n",
    "# also see https://github.com/berenslab/rna-seq-tsne/blob/master/umi-datasets.ipynb"
   ]
  },
  {
   "cell_type": "code",
   "execution_count": 9,
   "metadata": {
    "ExecuteTime": {
     "end_time": "2020-08-22T20:26:34.314331Z",
     "start_time": "2020-08-22T20:26:34.105803Z"
    }
   },
   "outputs": [],
   "source": [
    "import gzip\n",
    "import pickle\n",
    "\n",
    "with gzip.open(DATA_DIR / 'macosko_2015.pkl.gz', \"rb\") as f:\n",
    "    data = pickle.load(f)\n",
    "\n",
    "x = data[\"pca_50\"]\n",
    "y = data[\"CellType1\"].astype(str)"
   ]
  },
  {
   "cell_type": "code",
   "execution_count": 10,
   "metadata": {
    "ExecuteTime": {
     "end_time": "2020-08-22T20:26:34.350416Z",
     "start_time": "2020-08-22T20:26:34.315565Z"
    }
   },
   "outputs": [
    {
     "name": "stdout",
     "output_type": "stream",
     "text": [
      "Data set contains 44808 samples with 50 features\n"
     ]
    }
   ],
   "source": [
    "print(\"Data set contains %d samples with %d features\" % x.shape)"
   ]
  },
  {
   "cell_type": "code",
   "execution_count": 11,
   "metadata": {
    "ExecuteTime": {
     "end_time": "2020-08-22T20:26:34.464317Z",
     "start_time": "2020-08-22T20:26:34.351663Z"
    }
   },
   "outputs": [],
   "source": [
    "from sklearn.model_selection import train_test_split\n",
    "X_train, X_test, Y_train, Y_test = train_test_split(x, y, test_size=.1, random_state=42)\n",
    "n_valid = 10000\n",
    "X_valid = X_train[-n_valid:]\n",
    "Y_valid = Y_train[-n_valid:]\n",
    "X_train = X_train[:-n_valid]\n",
    "Y_train = Y_train[:-n_valid]\n",
    "X_train_flat = X_train\n",
    "from sklearn.preprocessing import OrdinalEncoder\n",
    "enc = OrdinalEncoder()\n",
    "Y_train = enc.fit_transform([[i] for i in Y_train]).flatten()"
   ]
  },
  {
   "cell_type": "code",
   "execution_count": 8,
   "metadata": {
    "ExecuteTime": {
     "end_time": "2020-08-22T19:56:42.990071Z",
     "start_time": "2020-08-22T19:56:42.864899Z"
    }
   },
   "outputs": [],
   "source": [
    "from tfumap.paths import ensure_dir, MODEL_DIR"
   ]
  },
  {
   "cell_type": "code",
   "execution_count": 14,
   "metadata": {
    "ExecuteTime": {
     "end_time": "2020-08-22T20:27:38.621675Z",
     "start_time": "2020-08-22T20:27:38.119240Z"
    }
   },
   "outputs": [],
   "source": [
    "output_dir = MODEL_DIR/'projections'/ 'macosko2015' / 'network'\n",
    "ensure_dir(output_dir)"
   ]
  },
  {
   "cell_type": "code",
   "execution_count": 15,
   "metadata": {
    "ExecuteTime": {
     "end_time": "2020-08-22T20:27:38.812410Z",
     "start_time": "2020-08-22T20:27:38.623851Z"
    }
   },
   "outputs": [
    {
     "data": {
      "text/html": [
       "<div>\n",
       "<style scoped>\n",
       "    .dataframe tbody tr th:only-of-type {\n",
       "        vertical-align: middle;\n",
       "    }\n",
       "\n",
       "    .dataframe tbody tr th {\n",
       "        vertical-align: top;\n",
       "    }\n",
       "\n",
       "    .dataframe thead th {\n",
       "        text-align: right;\n",
       "    }\n",
       "</style>\n",
       "<table border=\"1\" class=\"dataframe\">\n",
       "  <thead>\n",
       "    <tr style=\"text-align: right;\">\n",
       "      <th></th>\n",
       "      <th>wall_time</th>\n",
       "      <th>step</th>\n",
       "      <th>val</th>\n",
       "      <th>group</th>\n",
       "      <th>variable</th>\n",
       "    </tr>\n",
       "  </thead>\n",
       "  <tbody>\n",
       "    <tr>\n",
       "      <th>0</th>\n",
       "      <td>1.594325e+09</td>\n",
       "      <td>1</td>\n",
       "      <td>1.112840</td>\n",
       "      <td>train</td>\n",
       "      <td>umap_loss</td>\n",
       "    </tr>\n",
       "    <tr>\n",
       "      <th>1</th>\n",
       "      <td>1.594325e+09</td>\n",
       "      <td>2</td>\n",
       "      <td>0.995545</td>\n",
       "      <td>train</td>\n",
       "      <td>umap_loss</td>\n",
       "    </tr>\n",
       "    <tr>\n",
       "      <th>2</th>\n",
       "      <td>1.594325e+09</td>\n",
       "      <td>3</td>\n",
       "      <td>0.891470</td>\n",
       "      <td>train</td>\n",
       "      <td>umap_loss</td>\n",
       "    </tr>\n",
       "    <tr>\n",
       "      <th>3</th>\n",
       "      <td>1.594325e+09</td>\n",
       "      <td>4</td>\n",
       "      <td>0.797024</td>\n",
       "      <td>train</td>\n",
       "      <td>umap_loss</td>\n",
       "    </tr>\n",
       "    <tr>\n",
       "      <th>4</th>\n",
       "      <td>1.594325e+09</td>\n",
       "      <td>5</td>\n",
       "      <td>0.721755</td>\n",
       "      <td>train</td>\n",
       "      <td>umap_loss</td>\n",
       "    </tr>\n",
       "    <tr>\n",
       "      <th>...</th>\n",
       "      <td>...</td>\n",
       "      <td>...</td>\n",
       "      <td>...</td>\n",
       "      <td>...</td>\n",
       "      <td>...</td>\n",
       "    </tr>\n",
       "    <tr>\n",
       "      <th>25215</th>\n",
       "      <td>1.594325e+09</td>\n",
       "      <td>25216</td>\n",
       "      <td>0.126127</td>\n",
       "      <td>train</td>\n",
       "      <td>umap_loss</td>\n",
       "    </tr>\n",
       "    <tr>\n",
       "      <th>25216</th>\n",
       "      <td>1.594325e+09</td>\n",
       "      <td>25217</td>\n",
       "      <td>0.126127</td>\n",
       "      <td>train</td>\n",
       "      <td>umap_loss</td>\n",
       "    </tr>\n",
       "    <tr>\n",
       "      <th>25217</th>\n",
       "      <td>1.594325e+09</td>\n",
       "      <td>25218</td>\n",
       "      <td>0.126127</td>\n",
       "      <td>train</td>\n",
       "      <td>umap_loss</td>\n",
       "    </tr>\n",
       "    <tr>\n",
       "      <th>25218</th>\n",
       "      <td>1.594325e+09</td>\n",
       "      <td>25219</td>\n",
       "      <td>0.126126</td>\n",
       "      <td>train</td>\n",
       "      <td>umap_loss</td>\n",
       "    </tr>\n",
       "    <tr>\n",
       "      <th>25219</th>\n",
       "      <td>1.594325e+09</td>\n",
       "      <td>25220</td>\n",
       "      <td>0.126126</td>\n",
       "      <td>train</td>\n",
       "      <td>umap_loss</td>\n",
       "    </tr>\n",
       "  </tbody>\n",
       "</table>\n",
       "<p>25220 rows × 5 columns</p>\n",
       "</div>"
      ],
      "text/plain": [
       "          wall_time   step       val  group   variable\n",
       "0      1.594325e+09      1  1.112840  train  umap_loss\n",
       "1      1.594325e+09      2  0.995545  train  umap_loss\n",
       "2      1.594325e+09      3  0.891470  train  umap_loss\n",
       "3      1.594325e+09      4  0.797024  train  umap_loss\n",
       "4      1.594325e+09      5  0.721755  train  umap_loss\n",
       "...             ...    ...       ...    ...        ...\n",
       "25215  1.594325e+09  25216  0.126127  train  umap_loss\n",
       "25216  1.594325e+09  25217  0.126127  train  umap_loss\n",
       "25217  1.594325e+09  25218  0.126127  train  umap_loss\n",
       "25218  1.594325e+09  25219  0.126126  train  umap_loss\n",
       "25219  1.594325e+09  25220  0.126126  train  umap_loss\n",
       "\n",
       "[25220 rows x 5 columns]"
      ]
     },
     "execution_count": 15,
     "metadata": {},
     "output_type": "execute_result"
    }
   ],
   "source": [
    "loss_df = pd.read_pickle(output_dir / 'loss_df.pickle')\n",
    "loss_df"
   ]
  },
  {
   "cell_type": "code",
   "execution_count": 16,
   "metadata": {
    "ExecuteTime": {
     "end_time": "2020-08-22T20:46:31.457026Z",
     "start_time": "2020-08-22T20:46:30.788735Z"
    }
   },
   "outputs": [
    {
     "data": {
      "text/plain": [
       "[<matplotlib.lines.Line2D at 0x7f1723ca8b70>]"
      ]
     },
     "execution_count": 16,
     "metadata": {},
     "output_type": "execute_result"
    },
    {
     "data": {
      "image/png": "[encoded data removed]",
      "text/plain": [
       "<Figure size 432x288 with 1 Axes>"
      ]
     },
     "metadata": {
      "needs_background": "light"
     },
     "output_type": "display_data"
    }
   ],
   "source": [
    "output_dir = MODEL_DIR/'projections'/ 'mnist' / 'direct'\n",
    "ensure_dir(output_dir)\n",
    "\n",
    "loss_df_direct = pd.read_pickle(output_dir / 'loss_df.pickle')\n",
    "loss_df_direct\n",
    "\n",
    "plt.plot(loss_df_direct.wall_time - loss_df_direct.wall_time[0], loss_df_direct.val)"
   ]
  },
  {
   "cell_type": "markdown",
   "metadata": {},
   "source": [
    "#### get umap learn"
   ]
  },
  {
   "cell_type": "code",
   "execution_count": 17,
   "metadata": {
    "ExecuteTime": {
     "end_time": "2020-08-22T20:46:42.169309Z",
     "start_time": "2020-08-22T20:46:42.128445Z"
    }
   },
   "outputs": [],
   "source": [
    "from umap import UMAP"
   ]
  },
  {
   "cell_type": "code",
   "execution_count": 18,
   "metadata": {
    "ExecuteTime": {
     "end_time": "2020-08-22T20:47:25.796244Z",
     "start_time": "2020-08-22T20:46:42.265161Z"
    }
   },
   "outputs": [
    {
     "name": "stdout",
     "output_type": "stream",
     "text": [
      "UMAP(dens_frac=0.0, dens_lambda=0.0, verbose=True)\n",
      "Construct fuzzy simplicial set\n",
      "Sat Aug 22 13:46:42 2020 Finding Nearest Neighbors\n",
      "Sat Aug 22 13:46:42 2020 Building RP forest with 14 trees\n",
      "Sat Aug 22 13:46:43 2020 parallel NN descent for 15 iterations\n",
      "\t 0  /  15\n",
      "\t 1  /  15\n",
      "\t 2  /  15\n",
      "\t 3  /  15\n",
      "\t 4  /  15\n",
      "\t 5  /  15\n",
      "Sat Aug 22 13:46:52 2020 Finished Nearest Neighbor Search\n",
      "Sat Aug 22 13:46:55 2020 Construct embedding\n",
      "\tcompleted  0  /  200 epochs\n",
      "\tcompleted  20  /  200 epochs\n",
      "\tcompleted  40  /  200 epochs\n",
      "\tcompleted  60  /  200 epochs\n",
      "\tcompleted  80  /  200 epochs\n",
      "\tcompleted  100  /  200 epochs\n",
      "\tcompleted  120  /  200 epochs\n",
      "\tcompleted  140  /  200 epochs\n",
      "\tcompleted  160  /  200 epochs\n",
      "\tcompleted  180  /  200 epochs\n",
      "Sat Aug 22 13:47:25 2020 Finished embedding\n"
     ]
    }
   ],
   "source": [
    "embedder = UMAP(verbose=True)\n",
    "z_umap = embedder.fit_transform(X_train_flat)"
   ]
  },
  {
   "cell_type": "code",
   "execution_count": 19,
   "metadata": {
    "ExecuteTime": {
     "end_time": "2020-08-22T20:47:25.843610Z",
     "start_time": "2020-08-22T20:47:25.798619Z"
    }
   },
   "outputs": [],
   "source": [
    "from datetime import datetime"
   ]
  },
  {
   "cell_type": "code",
   "execution_count": 23,
   "metadata": {
    "ExecuteTime": {
     "end_time": "2020-08-22T20:47:40.373558Z",
     "start_time": "2020-08-22T20:47:39.857079Z"
    }
   },
   "outputs": [
    {
     "data": {
      "text/plain": [
       "30.0"
      ]
     },
     "execution_count": 23,
     "metadata": {},
     "output_type": "execute_result"
    }
   ],
   "source": [
    "start_time = datetime.strptime('13:46:55', '%H:%M:%S')\n",
    "end_time =   datetime.strptime('13:47:25', '%H:%M:%S') \n",
    "umap_learn_training_time = (end_time - start_time).total_seconds()\n",
    "umap_learn_training_time"
   ]
  },
  {
   "cell_type": "markdown",
   "metadata": {},
   "source": [
    "### compute loss for UMAP learn"
   ]
  },
  {
   "cell_type": "code",
   "execution_count": 24,
   "metadata": {
    "ExecuteTime": {
     "end_time": "2020-08-22T20:47:46.809294Z",
     "start_time": "2020-08-22T20:47:46.762305Z"
    }
   },
   "outputs": [
    {
     "data": {
      "text/plain": [
       "<30327x30327 sparse matrix of type '<class 'numpy.float32'>'\n",
       "\twith 718244 stored elements in Compressed Sparse Row format>"
      ]
     },
     "execution_count": 24,
     "metadata": {},
     "output_type": "execute_result"
    }
   ],
   "source": [
    "embedder.graph_"
   ]
  },
  {
   "cell_type": "code",
   "execution_count": 25,
   "metadata": {
    "ExecuteTime": {
     "end_time": "2020-08-22T20:47:48.567319Z",
     "start_time": "2020-08-22T20:47:48.430062Z"
    }
   },
   "outputs": [],
   "source": [
    "from tfumap.umap import get_graph_elements\n",
    "graph, epochs_per_sample, head, tail, weight, n_vertices = get_graph_elements(\n",
    "    embedder.graph_, embedder.n_epochs\n",
    ")"
   ]
  },
  {
   "cell_type": "code",
   "execution_count": 26,
   "metadata": {
    "ExecuteTime": {
     "end_time": "2020-08-22T20:47:48.635453Z",
     "start_time": "2020-08-22T20:47:48.592076Z"
    }
   },
   "outputs": [],
   "source": [
    "max_sample_repeats_per_epoch = 25\n",
    "batch_size = 1000\n",
    "def batch_epoch_edges(edges_to, edges_from):\n",
    "        \"\"\" permutes and batches edges for epoch\n",
    "        \"\"\"\n",
    "        # compute the number of batches in one epoch\n",
    "        n_batches = int(len(edges_to) / batch_size)\n",
    "        # permute list of edges\n",
    "        permutation_mask = np.random.permutation(len(edges_to))[\n",
    "            : n_batches * batch_size\n",
    "        ]\n",
    "        to_all = tf.reshape(\n",
    "            tf.gather(edges_to, permutation_mask), (n_batches, batch_size)\n",
    "        )\n",
    "        from_all = tf.reshape(\n",
    "            tf.gather(edges_from, permutation_mask), (n_batches, batch_size)\n",
    "        )\n",
    "        # return a tensorflow dataset of one epoch's worth of batches\n",
    "        return tf.data.Dataset.from_tensor_slices((to_all, from_all))\n",
    "def create_edge_iterator(head, tail, weight):\n",
    "        \"\"\" create an iterator for edges\n",
    "        \"\"\"\n",
    "        # set the maximum number of times each edge should be repeated per epoch\n",
    "        \n",
    "        epochs_per_sample = np.clip(\n",
    "            (weight / np.max(weight)) * max_sample_repeats_per_epoch,\n",
    "            1,\n",
    "            max_sample_repeats_per_epoch,\n",
    "        ).astype(\"int\")\n",
    "\n",
    "        edges_to_exp, edges_from_exp = (\n",
    "            np.array([np.repeat(head, epochs_per_sample.astype(\"int\"))]),\n",
    "            np.array([np.repeat(tail, epochs_per_sample.astype(\"int\"))]),\n",
    "        )\n",
    "        edge_iter = tf.data.Dataset.from_tensor_slices((edges_to_exp, edges_from_exp))\n",
    "        edge_iter = edge_iter.repeat()\n",
    "        edge_iter = edge_iter.map(batch_epoch_edges)\n",
    "        edge_iter = edge_iter.prefetch(buffer_size=10)\n",
    "\n",
    "        return iter(edge_iter), np.shape(edges_to_exp)[1]"
   ]
  },
  {
   "cell_type": "code",
   "execution_count": 27,
   "metadata": {
    "ExecuteTime": {
     "end_time": "2020-08-22T20:47:51.307725Z",
     "start_time": "2020-08-22T20:47:48.761341Z"
    }
   },
   "outputs": [],
   "source": [
    "# create iterator for data/edges\n",
    "edge_iter, n_edges_per_epoch = create_edge_iterator(head, tail, weight)"
   ]
  },
  {
   "cell_type": "code",
   "execution_count": 28,
   "metadata": {
    "ExecuteTime": {
     "end_time": "2020-08-22T20:47:51.350410Z",
     "start_time": "2020-08-22T20:47:51.309778Z"
    }
   },
   "outputs": [],
   "source": [
    "from tfumap.umap import convert_distance_to_probability, compute_cross_entropy\n",
    "def compute_umap_loss(batch_to, batch_from):\n",
    "        \"\"\"\n",
    "        compute the cross entropy loss for learning embeddings\n",
    "\n",
    "        Parameters\n",
    "        ----------\n",
    "        batch_to : tf.int or tf.float32\n",
    "            Either X or the index locations of the embeddings for verticies (to)\n",
    "        batch_from : tf.int or tf.float32\n",
    "            Either X or the index locations of the embeddings for verticies (from)\n",
    "\n",
    "        Returns\n",
    "        -------\n",
    "        ce_loss : tf.float\n",
    "            cross entropy loss for UMAP\n",
    "        embedding_to : tf.float\n",
    "            embeddings for verticies (to)\n",
    "        embedding_from : tf.float\n",
    "            embeddings for verticies (from)\n",
    "        \"\"\"\n",
    "\n",
    "        # get the embeddings\n",
    "        embedding_to = tf.gather(z_umap, batch_to)\n",
    "        embedding_from = tf.gather(z_umap, batch_from)\n",
    "\n",
    "        # get negative samples\n",
    "        embedding_neg_to = tf.repeat(embedding_to, embedder.negative_sample_rate, axis=0)\n",
    "        repeat_neg = tf.repeat(embedding_from, embedder.negative_sample_rate, axis=0)\n",
    "        embedding_neg_from = tf.gather(\n",
    "            repeat_neg, tf.random.shuffle(tf.range(tf.shape(repeat_neg)[0]))\n",
    "        )\n",
    "\n",
    "        #  distances between samples\n",
    "        distance_embedding = tf.concat(\n",
    "            [\n",
    "                tf.norm(embedding_to - embedding_from, axis=1),\n",
    "                tf.norm(embedding_neg_to - embedding_neg_from, axis=1),\n",
    "            ],\n",
    "            axis=0,\n",
    "        )\n",
    "\n",
    "        # convert probabilities to distances\n",
    "        probabilities_distance = convert_distance_to_probability(\n",
    "            distance_embedding, embedder._a, embedder._b\n",
    "        )\n",
    "\n",
    "        # treat positive samples as p=1, and negative samples as p=0\n",
    "        probabilities_graph = tf.concat(\n",
    "            [tf.ones(embedding_to.shape[0]), tf.zeros(embedding_neg_to.shape[0])],\n",
    "            axis=0,\n",
    "        )\n",
    "\n",
    "        # cross entropy loss\n",
    "        (attraction_loss, repellant_loss, ce_loss) = compute_cross_entropy(\n",
    "            probabilities_graph,\n",
    "            probabilities_distance,\n",
    "            repulsion_strength=embedder.repulsion_strength,\n",
    "        )\n",
    "\n",
    "        return ce_loss, embedding_to, embedding_from"
   ]
  },
  {
   "cell_type": "code",
   "execution_count": 29,
   "metadata": {
    "ExecuteTime": {
     "end_time": "2020-08-22T20:47:51.447756Z",
     "start_time": "2020-08-22T20:47:51.352351Z"
    }
   },
   "outputs": [],
   "source": [
    "edge_epoch = next((iter(edge_iter)))"
   ]
  },
  {
   "cell_type": "code",
   "execution_count": 30,
   "metadata": {
    "ExecuteTime": {
     "end_time": "2020-08-22T20:48:03.627697Z",
     "start_time": "2020-08-22T20:47:51.449366Z"
    }
   },
   "outputs": [
    {
     "data": {
      "application/vnd.jupyter.widget-view+json": {
       "model_id": "24003218a0c642308069291f2fa4e3cd",
       "version_major": 2,
       "version_minor": 0
      },
      "text/plain": [
       "HBox(children=(IntProgress(value=0, max=5044), HTML(value='')))"
      ]
     },
     "metadata": {},
     "output_type": "display_data"
    },
    {
     "name": "stdout",
     "output_type": "stream",
     "text": [
      "\n"
     ]
    }
   ],
   "source": [
    "ce_loss_list = []\n",
    "for batch_to, batch_from in tqdm(edge_epoch):\n",
    "    (ce_loss, _, _) = compute_umap_loss(\n",
    "                        batch_to, batch_from\n",
    "                    )\n",
    "    ce_loss_list.append(np.mean(ce_loss.numpy()))"
   ]
  },
  {
   "cell_type": "code",
   "execution_count": 31,
   "metadata": {
    "ExecuteTime": {
     "end_time": "2020-08-22T20:48:03.667525Z",
     "start_time": "2020-08-22T20:48:03.629326Z"
    }
   },
   "outputs": [
    {
     "data": {
      "text/plain": [
       "0.12096236"
      ]
     },
     "execution_count": 31,
     "metadata": {},
     "output_type": "execute_result"
    }
   ],
   "source": [
    "umap_learn_loss = np.mean(ce_loss_list)\n",
    "umap_learn_loss"
   ]
  },
  {
   "cell_type": "markdown",
   "metadata": {
    "ExecuteTime": {
     "end_time": "2020-08-22T20:48:03.717563Z",
     "start_time": "2020-08-22T20:48:03.668746Z"
    }
   },
   "source": [
    "### Plot"
   ]
  },
  {
   "cell_type": "code",
   "execution_count": 33,
   "metadata": {
    "ExecuteTime": {
     "end_time": "2020-08-22T20:48:08.319708Z",
     "start_time": "2020-08-22T20:48:08.094969Z"
    }
   },
   "outputs": [
    {
     "data": {
      "image/png": "[encoded data removed]",
      "text/plain": [
       "<Figure size 1440x72 with 1 Axes>"
      ]
     },
     "metadata": {
      "needs_background": "light"
     },
     "output_type": "display_data"
    },
    {
     "data": {
      "image/png": "[encoded data removed]",
      "text/plain": [
       "<Figure size 864x72 with 1 Axes>"
      ]
     },
     "metadata": {
      "needs_background": "light"
     },
     "output_type": "display_data"
    }
   ],
   "source": [
    "import seaborn as sns\n",
    "pal20c = sns.color_palette('tab20c', 20)\n",
    "sns.palplot(pal20c)\n",
    "hue_dict = {\n",
    "    \"umap-learn\": list(np.array(pal20c[3])**4),\n",
    "    \"direct\": pal20c[2],\n",
    "    \"AE\": pal20c[1],\n",
    "    \"autoencoder\": pal20c[1],\n",
    "    \"network\": pal20c[0],\n",
    "    'vae':  pal20c[8], \n",
    "    'ae_only':  pal20c[9],\n",
    "    \"pca\":  pal20c[12],\n",
    "    \"PCA\":  pal20c[12],\n",
    "    \"TSNE\": pal20c[4], \n",
    "    \"parametric-tsne\":pal20c[5],\n",
    "    \"network-cpu\": pal20c[2],\n",
    "\n",
    "}\n",
    "sns.palplot([hue_dict[i] for i in hue_dict.keys()])"
   ]
  },
  {
   "cell_type": "code",
   "execution_count": 36,
   "metadata": {
    "ExecuteTime": {
     "end_time": "2020-08-23T00:12:32.512094Z",
     "start_time": "2020-08-23T00:12:31.981322Z"
    }
   },
   "outputs": [],
   "source": [
    "from tfumap.paths import FIGURE_DIR, save_fig"
   ]
  },
  {
   "cell_type": "code",
   "execution_count": 38,
   "metadata": {
    "ExecuteTime": {
     "end_time": "2020-08-23T00:48:56.232673Z",
     "start_time": "2020-08-23T00:48:54.846550Z"
    }
   },
   "outputs": [
    {
     "data": {
      "image/png": "[encoded data removed]",
      "text/plain": [
       "<Figure size 1200x600 with 1 Axes>"
      ]
     },
     "metadata": {
      "needs_background": "light"
     },
     "output_type": "display_data"
    }
   ],
   "source": [
    "max_time = 1000#120\n",
    "fig, ax = plt.subplots(figsize=(4,2), dpi=300)\n",
    "\n",
    "time_d = loss_df.wall_time.values - loss_df.wall_time[0]\n",
    "time_d_mask = time_d<max_time\n",
    "val_d = loss_df.val.values[time_d_mask]\n",
    "time_d = time_d[time_d_mask]\n",
    "ax.plot(time_d,val_d, lw = 3, label='P. UMAP', color=hue_dict['network'])\n",
    "\n",
    "time_d = loss_df_direct.wall_time.values - loss_df_direct.wall_time[0]\n",
    "time_d_mask = time_d<max_time\n",
    "val_d = loss_df_direct.val.values[time_d_mask]\n",
    "time_d = time_d[time_d_mask]\n",
    "ax.plot(time_d,val_d, lw = 3, label='UMAP (TF)', color=hue_dict['direct'], ls='dashed')\n",
    "\n",
    "ax.scatter([umap_learn_training_time], umap_learn_loss, color=hue_dict['umap-learn'], label='UMAP (UMAP-learn)')\n",
    "ax.set_ylim([0, 0.5])\n",
    "ax.legend()\n",
    "ax.set_ylabel('Cross Entropy')\n",
    "ax.set_xlabel('Time (S)')\n",
    "ax.set_xscale('log')\n",
    "#ax.set_yscale('log')\n",
    "save_fig(FIGURE_DIR/'retina-training-time', save_pdf=True, dpi=300)"
   ]
  },
  {
   "cell_type": "code",
   "execution_count": null,
   "metadata": {},
   "outputs": [],
   "source": []
  },
  {
   "cell_type": "code",
   "execution_count": 13,
   "metadata": {
    "ExecuteTime": {
     "end_time": "2020-07-09T19:57:22.872486Z",
     "start_time": "2020-07-09T19:57:22.838224Z"
    }
   },
   "outputs": [],
   "source": []
  },
  {
   "cell_type": "code",
   "execution_count": 14,
   "metadata": {
    "ExecuteTime": {
     "end_time": "2020-07-09T19:57:22.905953Z",
     "start_time": "2020-07-09T19:57:22.873734Z"
    }
   },
   "outputs": [],
   "source": []
  },
  {
   "cell_type": "code",
   "execution_count": 15,
   "metadata": {
    "ExecuteTime": {
     "end_time": "2020-07-09T19:57:22.939775Z",
     "start_time": "2020-07-09T19:57:22.907150Z"
    }
   },
   "outputs": [],
   "source": []
  },
  {
   "cell_type": "code",
   "execution_count": 16,
   "metadata": {
    "ExecuteTime": {
     "end_time": "2020-07-09T19:57:23.038498Z",
     "start_time": "2020-07-09T19:57:22.941062Z"
    }
   },
   "outputs": [],
   "source": []
  },
  {
   "cell_type": "code",
   "execution_count": null,
   "metadata": {},
   "outputs": [],
   "source": []
  }
 ],
 "metadata": {
  "kernelspec": {
   "display_name": "Python 3",
   "language": "python",
   "name": "python3"
  },
  "language_info": {
   "codemirror_mode": {
    "name": "ipython",
    "version": 3
   },
   "file_extension": ".py",
   "mimetype": "text/x-python",
   "name": "python",
   "nbconvert_exporter": "python",
   "pygments_lexer": "ipython3",
   "version": "3.6.7"
  }
 },
 "nbformat": 4,
 "nbformat_minor": 2
}
