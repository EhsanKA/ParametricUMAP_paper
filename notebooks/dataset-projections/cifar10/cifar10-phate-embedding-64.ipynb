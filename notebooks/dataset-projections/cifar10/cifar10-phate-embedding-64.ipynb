{
 "cells": [
  {
   "cell_type": "code",
   "execution_count": 1,
   "metadata": {
    "ExecuteTime": {
     "end_time": "2021-01-15T04:38:15.906990Z",
     "start_time": "2021-01-15T04:38:15.902779Z"
    }
   },
   "outputs": [],
   "source": [
    "dataset = 'cifar10'\n",
    "algorithm = 'phate'\n",
    "n_components = 64"
   ]
  },
  {
   "cell_type": "code",
   "execution_count": 2,
   "metadata": {
    "ExecuteTime": {
     "end_time": "2021-01-15T04:38:15.929438Z",
     "start_time": "2021-01-15T04:38:15.908820Z"
    }
   },
   "outputs": [],
   "source": [
    "# reload packages\n",
    "%load_ext autoreload\n",
    "%autoreload 2"
   ]
  },
  {
   "cell_type": "markdown",
   "metadata": {},
   "source": [
    "### Choose GPU (this may not be needed on your computer)"
   ]
  },
  {
   "cell_type": "code",
   "execution_count": 3,
   "metadata": {
    "ExecuteTime": {
     "end_time": "2021-01-15T04:38:15.948495Z",
     "start_time": "2021-01-15T04:38:15.931391Z"
    }
   },
   "outputs": [
    {
     "name": "stdout",
     "output_type": "stream",
     "text": [
      "env: CUDA_DEVICE_ORDER=PCI_BUS_ID\n",
      "env: CUDA_VISIBLE_DEVICES=0\n"
     ]
    }
   ],
   "source": [
    "%env CUDA_DEVICE_ORDER=PCI_BUS_ID\n",
    "%env CUDA_VISIBLE_DEVICES=0"
   ]
  },
  {
   "cell_type": "markdown",
   "metadata": {},
   "source": [
    "### load packages"
   ]
  },
  {
   "cell_type": "code",
   "execution_count": 4,
   "metadata": {
    "ExecuteTime": {
     "end_time": "2021-01-15T04:38:27.602494Z",
     "start_time": "2021-01-15T04:38:15.950343Z"
    }
   },
   "outputs": [
    {
     "name": "stderr",
     "output_type": "stream",
     "text": [
      "/mnt/cube/tsainbur/Projects/github_repos/umap_tf_networks/tfumap/umap.py:7: TqdmExperimentalWarning: Using `tqdm.autonotebook.tqdm` in notebook mode. Use `tqdm.tqdm` instead to force console mode (e.g. in jupyter console)\n",
      "  from tqdm.autonotebook import tqdm\n"
     ]
    }
   ],
   "source": [
    "from tfumap.umap import tfUMAP"
   ]
  },
  {
   "cell_type": "code",
   "execution_count": 5,
   "metadata": {
    "ExecuteTime": {
     "end_time": "2021-01-15T04:38:27.912066Z",
     "start_time": "2021-01-15T04:38:27.604855Z"
    }
   },
   "outputs": [],
   "source": [
    "import tensorflow as tf\n",
    "import numpy as np\n",
    "import matplotlib.pyplot as plt\n",
    "from tqdm.autonotebook import tqdm\n",
    "import umap\n",
    "import pandas as pd"
   ]
  },
  {
   "cell_type": "markdown",
   "metadata": {},
   "source": [
    "### Load dataset"
   ]
  },
  {
   "cell_type": "code",
   "execution_count": 6,
   "metadata": {
    "ExecuteTime": {
     "end_time": "2021-01-15T04:38:27.940179Z",
     "start_time": "2021-01-15T04:38:27.913573Z"
    }
   },
   "outputs": [],
   "source": [
    "from tensorflow.keras.datasets import mnist"
   ]
  },
  {
   "cell_type": "code",
   "execution_count": 7,
   "metadata": {
    "ExecuteTime": {
     "end_time": "2021-01-15T04:38:29.183930Z",
     "start_time": "2021-01-15T04:38:27.941313Z"
    }
   },
   "outputs": [
    {
     "name": "stdout",
     "output_type": "stream",
     "text": [
      "40000 10000 10000\n"
     ]
    }
   ],
   "source": [
    "from tensorflow.keras.datasets import cifar10\n",
    "\n",
    "# load dataset\n",
    "(train_images, Y_train), (test_images, Y_test) = cifar10.load_data()\n",
    "X_train = (train_images/255.).astype('float32')\n",
    "X_test = (test_images/255.).astype('float32')\n",
    "X_train = X_train.reshape((len(X_train), np.product(np.shape(X_train)[1:])))\n",
    "X_test = X_test.reshape((len(X_test), np.product(np.shape(X_test)[1:])))\n",
    "\n",
    "# subset a validation set\n",
    "n_valid = 10000\n",
    "X_valid = X_train[-n_valid:]\n",
    "Y_valid = Y_train[-n_valid:]\n",
    "X_train = X_train[:-n_valid]\n",
    "Y_train = Y_train[:-n_valid]\n",
    "\n",
    "# flatten X\n",
    "X_train_flat = X_train.reshape((len(X_train), np.product(np.shape(X_train)[1:])))\n",
    "X_test_flat = X_test.reshape((len(X_test), np.product(np.shape(X_test)[1:])))\n",
    "X_valid_flat= X_valid.reshape((len(X_valid), np.product(np.shape(X_valid)[1:])))\n",
    "print(len(X_train), len(X_valid), len(X_test))"
   ]
  },
  {
   "cell_type": "markdown",
   "metadata": {},
   "source": [
    "### Create model and train"
   ]
  },
  {
   "cell_type": "code",
   "execution_count": 8,
   "metadata": {
    "ExecuteTime": {
     "end_time": "2021-01-15T04:38:29.260876Z",
     "start_time": "2021-01-15T04:38:29.185394Z"
    }
   },
   "outputs": [],
   "source": [
    "import phate"
   ]
  },
  {
   "cell_type": "code",
   "execution_count": 9,
   "metadata": {
    "ExecuteTime": {
     "end_time": "2021-01-15T04:38:29.878175Z",
     "start_time": "2021-01-15T04:38:29.262039Z"
    }
   },
   "outputs": [],
   "source": [
    "from sklearn.preprocessing import MinMaxScaler\n",
    "from sklearn import datasets\n",
    "\n",
    "X_scaled = MinMaxScaler().fit_transform(X_train_flat)"
   ]
  },
  {
   "cell_type": "code",
   "execution_count": 10,
   "metadata": {
    "ExecuteTime": {
     "end_time": "2021-01-15T05:01:23.694005Z",
     "start_time": "2021-01-15T04:38:29.879533Z"
    }
   },
   "outputs": [
    {
     "name": "stdout",
     "output_type": "stream",
     "text": [
      "Calculating PHATE...\n",
      "  Running PHATE on 40000 observations and 3072 variables.\n",
      "  Calculating graph and diffusion operator...\n",
      "    Calculating PCA...\n",
      "    Calculated PCA in 6.15 seconds.\n",
      "    Calculating KNN search...\n",
      "    Calculated KNN search in 139.85 seconds.\n",
      "    Calculating affinities...\n",
      "    Calculated affinities in 10.41 seconds.\n",
      "  Calculated graph and diffusion operator in 156.61 seconds.\n",
      "  Calculating landmark operator...\n",
      "    Calculating SVD...\n",
      "    Calculated SVD in 30.92 seconds.\n",
      "    Calculating KMeans...\n",
      "    Calculated KMeans in 66.13 seconds.\n",
      "  Calculated landmark operator in 101.35 seconds.\n",
      "  Calculating optimal t...\n",
      "    Automatically selected t = 25\n",
      "  Calculated optimal t in 47.51 seconds.\n",
      "  Calculating diffusion potential...\n",
      "  Calculated diffusion potential in 1.60 seconds.\n",
      "  Calculating metric MDS...\n",
      "  Calculated metric MDS in 1066.50 seconds.\n",
      "Calculated PHATE in 1373.75 seconds.\n"
     ]
    }
   ],
   "source": [
    "phate_op = phate.PHATE(n_jobs=-1, n_components = n_components)\n",
    "z = data_phate = phate_op.fit_transform(X_scaled)"
   ]
  },
  {
   "cell_type": "markdown",
   "metadata": {},
   "source": [
    "### Plot model output"
   ]
  },
  {
   "cell_type": "code",
   "execution_count": 11,
   "metadata": {
    "ExecuteTime": {
     "end_time": "2021-01-15T05:01:25.689639Z",
     "start_time": "2021-01-15T05:01:23.699545Z"
    }
   },
   "outputs": [
    {
     "data": {
      "image/png": "[encoded data removed]",
      "text/plain": [
       "<Figure size 576x576 with 2 Axes>"
      ]
     },
     "metadata": {
      "needs_background": "light"
     },
     "output_type": "display_data"
    }
   ],
   "source": [
    "fig, ax = plt.subplots( figsize=(8, 8))\n",
    "sc = ax.scatter(\n",
    "    z[:, 0],\n",
    "    z[:, 1],\n",
    "    c=Y_train.astype(int)[:len(z)],\n",
    "    cmap=\"tab10\",\n",
    "    s=0.1,\n",
    "    alpha=0.5,\n",
    "    rasterized=True,\n",
    ")\n",
    "ax.axis('equal')\n",
    "ax.set_title(\"UMAP in Tensorflow embedding\", fontsize=20)\n",
    "plt.colorbar(sc, ax=ax);"
   ]
  },
  {
   "cell_type": "markdown",
   "metadata": {},
   "source": [
    "### Save output"
   ]
  },
  {
   "cell_type": "code",
   "execution_count": 12,
   "metadata": {
    "ExecuteTime": {
     "end_time": "2021-01-15T05:01:25.841773Z",
     "start_time": "2021-01-15T05:01:25.691624Z"
    }
   },
   "outputs": [],
   "source": [
    "from tfumap.paths import ensure_dir, MODEL_DIR"
   ]
  },
  {
   "cell_type": "code",
   "execution_count": 13,
   "metadata": {
    "ExecuteTime": {
     "end_time": "2021-01-15T05:01:25.993391Z",
     "start_time": "2021-01-15T05:01:25.844012Z"
    }
   },
   "outputs": [],
   "source": [
    "output_dir = MODEL_DIR/'projections'/ dataset / str(n_components) / algorithm\n",
    "ensure_dir(output_dir)"
   ]
  },
  {
   "cell_type": "code",
   "execution_count": 14,
   "metadata": {
    "ExecuteTime": {
     "end_time": "2021-01-15T05:01:26.105678Z",
     "start_time": "2021-01-15T05:01:25.995765Z"
    }
   },
   "outputs": [],
   "source": [
    "#vae.save(output_dir)"
   ]
  },
  {
   "cell_type": "code",
   "execution_count": 15,
   "metadata": {
    "ExecuteTime": {
     "end_time": "2021-01-15T05:01:26.208547Z",
     "start_time": "2021-01-15T05:01:26.108814Z"
    }
   },
   "outputs": [],
   "source": [
    "#loss_df.to_pickle(output_dir / 'loss_df.pickle')"
   ]
  },
  {
   "cell_type": "code",
   "execution_count": 16,
   "metadata": {
    "ExecuteTime": {
     "end_time": "2021-01-15T05:01:26.360229Z",
     "start_time": "2021-01-15T05:01:26.210256Z"
    }
   },
   "outputs": [],
   "source": [
    "np.save(output_dir / 'z.npy', z)"
   ]
  },
  {
   "cell_type": "markdown",
   "metadata": {},
   "source": [
    "### compute metrics "
   ]
  },
  {
   "cell_type": "code",
   "execution_count": 17,
   "metadata": {
    "ExecuteTime": {
     "end_time": "2021-01-15T05:01:26.441232Z",
     "start_time": "2021-01-15T05:01:26.361650Z"
    }
   },
   "outputs": [
    {
     "data": {
      "text/plain": [
       "(10000, 3072)"
      ]
     },
     "execution_count": 17,
     "metadata": {},
     "output_type": "execute_result"
    }
   ],
   "source": [
    "X_test.shape"
   ]
  },
  {
   "cell_type": "code",
   "execution_count": 18,
   "metadata": {
    "ExecuteTime": {
     "end_time": "2021-01-15T05:02:26.908099Z",
     "start_time": "2021-01-15T05:01:26.445953Z"
    }
   },
   "outputs": [
    {
     "name": "stderr",
     "output_type": "stream",
     "text": [
      "/home/AD/tsainbur/anaconda3/envs/tfumap/lib/python3.7/site-packages/phate/phate.py:881: RuntimeWarning: Pre-fit PHATE should not be used to transform a new data matrix. Please fit PHATE to the new data by running 'fit' with the new data.\n",
      "  RuntimeWarning,\n"
     ]
    },
    {
     "name": "stdout",
     "output_type": "stream",
     "text": [
      "Calculating KNN search...\n",
      "Calculated KNN search in 40.94 seconds.\n",
      "Calculating affinities...\n",
      "Calculated affinities in 8.27 seconds.\n"
     ]
    }
   ],
   "source": [
    "z_test = phate_op.transform(X_test)"
   ]
  },
  {
   "cell_type": "markdown",
   "metadata": {},
   "source": [
    "#### silhouette"
   ]
  },
  {
   "cell_type": "code",
   "execution_count": 19,
   "metadata": {
    "ExecuteTime": {
     "end_time": "2021-01-15T05:02:27.015859Z",
     "start_time": "2021-01-15T05:02:26.912333Z"
    }
   },
   "outputs": [],
   "source": [
    "from tfumap.silhouette import silhouette_score_block"
   ]
  },
  {
   "cell_type": "code",
   "execution_count": 20,
   "metadata": {
    "ExecuteTime": {
     "end_time": "2021-01-15T05:02:37.890406Z",
     "start_time": "2021-01-15T05:02:27.017657Z"
    }
   },
   "outputs": [
    {
     "data": {
      "text/plain": [
       "-0.15501234803441866"
      ]
     },
     "execution_count": 20,
     "metadata": {},
     "output_type": "execute_result"
    }
   ],
   "source": [
    "ss, sil_samp = silhouette_score_block(z, Y_train, n_jobs = -1)\n",
    "ss"
   ]
  },
  {
   "cell_type": "code",
   "execution_count": 21,
   "metadata": {
    "ExecuteTime": {
     "end_time": "2021-01-15T05:02:38.518877Z",
     "start_time": "2021-01-15T05:02:37.896719Z"
    }
   },
   "outputs": [
    {
     "data": {
      "text/plain": [
       "-0.16015174328441284"
      ]
     },
     "execution_count": 21,
     "metadata": {},
     "output_type": "execute_result"
    }
   ],
   "source": [
    "ss_test, sil_samp_test = silhouette_score_block(z_test, Y_test, n_jobs = -1)\n",
    "ss_test"
   ]
  },
  {
   "cell_type": "code",
   "execution_count": 22,
   "metadata": {
    "ExecuteTime": {
     "end_time": "2021-01-15T05:02:41.191584Z",
     "start_time": "2021-01-15T05:02:38.520291Z"
    }
   },
   "outputs": [
    {
     "data": {
      "text/plain": [
       "<matplotlib.collections.PathCollection at 0x7f7934d86c90>"
      ]
     },
     "execution_count": 22,
     "metadata": {},
     "output_type": "execute_result"
    },
    {
     "data": {
      "image/png": "[encoded data removed]",
      "text/plain": [
       "<Figure size 720x360 with 2 Axes>"
      ]
     },
     "metadata": {
      "needs_background": "light"
     },
     "output_type": "display_data"
    }
   ],
   "source": [
    "fig, axs = plt.subplots(ncols = 2, figsize=(10, 5))\n",
    "axs[0].scatter(z[:, 0], z[:, 1], s=0.1, alpha=0.5, c=sil_samp, cmap=plt.cm.viridis)\n",
    "axs[1].scatter(z_test[:, 0], z_test[:, 1], s=1, alpha=0.5, c=sil_samp_test, cmap=plt.cm.viridis)"
   ]
  },
  {
   "cell_type": "markdown",
   "metadata": {},
   "source": [
    "#### KNN"
   ]
  },
  {
   "cell_type": "code",
   "execution_count": 23,
   "metadata": {
    "ExecuteTime": {
     "end_time": "2021-01-15T05:02:41.410622Z",
     "start_time": "2021-01-15T05:02:41.216833Z"
    }
   },
   "outputs": [],
   "source": [
    "from sklearn.neighbors import KNeighborsClassifier"
   ]
  },
  {
   "cell_type": "code",
   "execution_count": 24,
   "metadata": {
    "ExecuteTime": {
     "end_time": "2021-01-15T05:03:07.638897Z",
     "start_time": "2021-01-15T05:02:41.425697Z"
    }
   },
   "outputs": [
    {
     "name": "stderr",
     "output_type": "stream",
     "text": [
      "/home/AD/tsainbur/anaconda3/envs/tfumap/lib/python3.7/site-packages/sklearn/neighbors/_classification.py:179: DataConversionWarning: A column-vector y was passed when a 1d array was expected. Please change the shape of y to (n_samples,), for example using ravel().\n",
      "  return self._fit(X, y)\n"
     ]
    },
    {
     "data": {
      "text/plain": [
       "0.2517"
      ]
     },
     "execution_count": 24,
     "metadata": {},
     "output_type": "execute_result"
    }
   ],
   "source": [
    "neigh5 = KNeighborsClassifier(n_neighbors=5)\n",
    "neigh5.fit(z, Y_train)\n",
    "score_5nn = neigh5.score(z_test, Y_test)\n",
    "score_5nn"
   ]
  },
  {
   "cell_type": "code",
   "execution_count": 25,
   "metadata": {
    "ExecuteTime": {
     "end_time": "2021-01-15T05:03:17.323890Z",
     "start_time": "2021-01-15T05:03:07.642424Z"
    }
   },
   "outputs": [
    {
     "name": "stderr",
     "output_type": "stream",
     "text": [
      "/home/AD/tsainbur/anaconda3/envs/tfumap/lib/python3.7/site-packages/sklearn/neighbors/_classification.py:179: DataConversionWarning: A column-vector y was passed when a 1d array was expected. Please change the shape of y to (n_samples,), for example using ravel().\n",
      "  return self._fit(X, y)\n"
     ]
    },
    {
     "data": {
      "text/plain": [
       "0.2249"
      ]
     },
     "execution_count": 25,
     "metadata": {},
     "output_type": "execute_result"
    }
   ],
   "source": [
    "neigh1 = KNeighborsClassifier(n_neighbors=1)\n",
    "neigh1.fit(z, Y_train)\n",
    "score_1nn = neigh1.score(z_test, Y_test)\n",
    "score_1nn"
   ]
  },
  {
   "cell_type": "markdown",
   "metadata": {},
   "source": [
    "#### Trustworthiness"
   ]
  },
  {
   "cell_type": "code",
   "execution_count": 26,
   "metadata": {
    "ExecuteTime": {
     "end_time": "2021-01-15T05:03:17.415709Z",
     "start_time": "2021-01-15T05:03:17.327161Z"
    }
   },
   "outputs": [],
   "source": [
    "from sklearn.manifold import trustworthiness"
   ]
  },
  {
   "cell_type": "code",
   "execution_count": 27,
   "metadata": {
    "ExecuteTime": {
     "end_time": "2021-01-15T05:04:04.707382Z",
     "start_time": "2021-01-15T05:03:17.423529Z"
    }
   },
   "outputs": [],
   "source": [
    "tw = trustworthiness(X_train_flat[:10000], z[:10000])"
   ]
  },
  {
   "cell_type": "code",
   "execution_count": 28,
   "metadata": {
    "ExecuteTime": {
     "end_time": "2021-01-15T05:04:50.897742Z",
     "start_time": "2021-01-15T05:04:04.711039Z"
    }
   },
   "outputs": [],
   "source": [
    "tw_test = trustworthiness(X_test_flat[:10000], z_test[:10000])"
   ]
  },
  {
   "cell_type": "code",
   "execution_count": 29,
   "metadata": {
    "ExecuteTime": {
     "end_time": "2021-01-15T05:04:51.034103Z",
     "start_time": "2021-01-15T05:04:50.902718Z"
    }
   },
   "outputs": [
    {
     "data": {
      "text/plain": [
       "(0.8884548298638911, 0.8848633927141714)"
      ]
     },
     "execution_count": 29,
     "metadata": {},
     "output_type": "execute_result"
    }
   ],
   "source": [
    "tw, tw_test"
   ]
  },
  {
   "cell_type": "markdown",
   "metadata": {},
   "source": [
    "### Save output metrics"
   ]
  },
  {
   "cell_type": "code",
   "execution_count": 30,
   "metadata": {
    "ExecuteTime": {
     "end_time": "2021-01-15T05:04:51.227422Z",
     "start_time": "2021-01-15T05:04:51.045518Z"
    }
   },
   "outputs": [],
   "source": [
    "from tfumap.paths import ensure_dir, MODEL_DIR, DATA_DIR"
   ]
  },
  {
   "cell_type": "markdown",
   "metadata": {},
   "source": [
    "#### train"
   ]
  },
  {
   "cell_type": "code",
   "execution_count": 31,
   "metadata": {
    "ExecuteTime": {
     "end_time": "2021-01-15T05:04:51.490604Z",
     "start_time": "2021-01-15T05:04:51.249094Z"
    }
   },
   "outputs": [
    {
     "data": {
      "text/html": [
       "<div>\n",
       "<style scoped>\n",
       "    .dataframe tbody tr th:only-of-type {\n",
       "        vertical-align: middle;\n",
       "    }\n",
       "\n",
       "    .dataframe tbody tr th {\n",
       "        vertical-align: top;\n",
       "    }\n",
       "\n",
       "    .dataframe thead th {\n",
       "        text-align: right;\n",
       "    }\n",
       "</style>\n",
       "<table border=\"1\" class=\"dataframe\">\n",
       "  <thead>\n",
       "    <tr style=\"text-align: right;\">\n",
       "      <th></th>\n",
       "      <th>dataset</th>\n",
       "      <th>class_</th>\n",
       "      <th>dim</th>\n",
       "      <th>trustworthiness</th>\n",
       "      <th>silhouette_score</th>\n",
       "      <th>silhouette_samples</th>\n",
       "    </tr>\n",
       "  </thead>\n",
       "  <tbody>\n",
       "    <tr>\n",
       "      <th>0</th>\n",
       "      <td>cifar10</td>\n",
       "      <td>phate</td>\n",
       "      <td>64</td>\n",
       "      <td>0.888455</td>\n",
       "      <td>-0.155012</td>\n",
       "      <td>[0.020992345385377722, 0.10499152433015704, 0....</td>\n",
       "    </tr>\n",
       "  </tbody>\n",
       "</table>\n",
       "</div>"
      ],
      "text/plain": [
       "   dataset class_ dim  trustworthiness  silhouette_score  \\\n",
       "0  cifar10  phate  64         0.888455         -0.155012   \n",
       "\n",
       "                                  silhouette_samples  \n",
       "0  [0.020992345385377722, 0.10499152433015704, 0....  "
      ]
     },
     "execution_count": 31,
     "metadata": {},
     "output_type": "execute_result"
    }
   ],
   "source": [
    "metrics_df = pd.DataFrame(\n",
    "    columns=[\n",
    "        \"dataset\",\n",
    "        \"class_\",\n",
    "        \"dim\",\n",
    "        \"trustworthiness\",\n",
    "        \"silhouette_score\",\n",
    "        \"silhouette_samples\",\n",
    "    ]\n",
    ")\n",
    "metrics_df.loc[len(metrics_df)] = [dataset, algorithm, n_components, tw, ss, sil_samp]\n",
    "metrics_df"
   ]
  },
  {
   "cell_type": "code",
   "execution_count": 32,
   "metadata": {
    "ExecuteTime": {
     "end_time": "2021-01-15T05:04:51.644693Z",
     "start_time": "2021-01-15T05:04:51.492344Z"
    }
   },
   "outputs": [],
   "source": [
    "save_loc = DATA_DIR / 'projection_metrics' /  algorithm / 'train' / str(n_components) / (dataset + '.pickle')\n",
    "ensure_dir(save_loc)\n",
    "metrics_df.to_pickle(save_loc)"
   ]
  },
  {
   "cell_type": "markdown",
   "metadata": {},
   "source": [
    "#### test"
   ]
  },
  {
   "cell_type": "code",
   "execution_count": 33,
   "metadata": {
    "ExecuteTime": {
     "end_time": "2021-01-15T05:04:51.761753Z",
     "start_time": "2021-01-15T05:04:51.646096Z"
    }
   },
   "outputs": [
    {
     "data": {
      "text/html": [
       "<div>\n",
       "<style scoped>\n",
       "    .dataframe tbody tr th:only-of-type {\n",
       "        vertical-align: middle;\n",
       "    }\n",
       "\n",
       "    .dataframe tbody tr th {\n",
       "        vertical-align: top;\n",
       "    }\n",
       "\n",
       "    .dataframe thead th {\n",
       "        text-align: right;\n",
       "    }\n",
       "</style>\n",
       "<table border=\"1\" class=\"dataframe\">\n",
       "  <thead>\n",
       "    <tr style=\"text-align: right;\">\n",
       "      <th></th>\n",
       "      <th>dataset</th>\n",
       "      <th>class_</th>\n",
       "      <th>dim</th>\n",
       "      <th>trustworthiness</th>\n",
       "      <th>silhouette_score</th>\n",
       "      <th>silhouette_samples</th>\n",
       "    </tr>\n",
       "  </thead>\n",
       "  <tbody>\n",
       "    <tr>\n",
       "      <th>1</th>\n",
       "      <td>cifar10</td>\n",
       "      <td>phate</td>\n",
       "      <td>64</td>\n",
       "      <td>0.884863</td>\n",
       "      <td>-0.160152</td>\n",
       "      <td>[-0.17103518257815334, 0.07549622600168492, 0....</td>\n",
       "    </tr>\n",
       "  </tbody>\n",
       "</table>\n",
       "</div>"
      ],
      "text/plain": [
       "   dataset class_ dim  trustworthiness  silhouette_score  \\\n",
       "1  cifar10  phate  64         0.884863         -0.160152   \n",
       "\n",
       "                                  silhouette_samples  \n",
       "1  [-0.17103518257815334, 0.07549622600168492, 0....  "
      ]
     },
     "execution_count": 33,
     "metadata": {},
     "output_type": "execute_result"
    }
   ],
   "source": [
    "metrics_df_test = pd.DataFrame(\n",
    "    columns=[\n",
    "        \"dataset\",\n",
    "        \"class_\",\n",
    "        \"dim\",\n",
    "        \"trustworthiness\",\n",
    "        \"silhouette_score\",\n",
    "        \"silhouette_samples\",\n",
    "    ]\n",
    ")\n",
    "metrics_df_test.loc[len(metrics_df)] = [dataset, algorithm, n_components, tw_test, ss_test, sil_samp_test]\n",
    "metrics_df_test"
   ]
  },
  {
   "cell_type": "code",
   "execution_count": 34,
   "metadata": {
    "ExecuteTime": {
     "end_time": "2021-01-15T05:04:51.854126Z",
     "start_time": "2021-01-15T05:04:51.763530Z"
    }
   },
   "outputs": [],
   "source": [
    "save_loc = DATA_DIR / 'projection_metrics' / algorithm / 'test' / str(n_components) / (dataset + '.pickle')\n",
    "ensure_dir(save_loc)\n",
    "metrics_df.to_pickle(save_loc)"
   ]
  },
  {
   "cell_type": "markdown",
   "metadata": {},
   "source": [
    "#### knn "
   ]
  },
  {
   "cell_type": "code",
   "execution_count": 35,
   "metadata": {
    "ExecuteTime": {
     "end_time": "2021-01-15T05:04:52.054443Z",
     "start_time": "2021-01-15T05:04:51.861327Z"
    }
   },
   "outputs": [
    {
     "data": {
      "text/html": [
       "<div>\n",
       "<style scoped>\n",
       "    .dataframe tbody tr th:only-of-type {\n",
       "        vertical-align: middle;\n",
       "    }\n",
       "\n",
       "    .dataframe tbody tr th {\n",
       "        vertical-align: top;\n",
       "    }\n",
       "\n",
       "    .dataframe thead th {\n",
       "        text-align: right;\n",
       "    }\n",
       "</style>\n",
       "<table border=\"1\" class=\"dataframe\">\n",
       "  <thead>\n",
       "    <tr style=\"text-align: right;\">\n",
       "      <th></th>\n",
       "      <th>method_</th>\n",
       "      <th>dimensions</th>\n",
       "      <th>dataset</th>\n",
       "      <th>1NN_acc</th>\n",
       "      <th>5NN_acc</th>\n",
       "    </tr>\n",
       "  </thead>\n",
       "  <tbody>\n",
       "    <tr>\n",
       "      <th>0</th>\n",
       "      <td>phate</td>\n",
       "      <td>64</td>\n",
       "      <td>cifar10</td>\n",
       "      <td>0.2249</td>\n",
       "      <td>0.2517</td>\n",
       "    </tr>\n",
       "  </tbody>\n",
       "</table>\n",
       "</div>"
      ],
      "text/plain": [
       "  method_ dimensions  dataset  1NN_acc  5NN_acc\n",
       "0   phate         64  cifar10   0.2249   0.2517"
      ]
     },
     "execution_count": 35,
     "metadata": {},
     "output_type": "execute_result"
    }
   ],
   "source": [
    "nn_acc_df = pd.DataFrame(columns = [\"method_\",\"dimensions\",\"dataset\",\"1NN_acc\",\"5NN_acc\"])\n",
    "nn_acc_df.loc[len(nn_acc_df)] = [algorithm, n_components, dataset,  score_1nn, score_5nn]\n",
    "nn_acc_df"
   ]
  },
  {
   "cell_type": "code",
   "execution_count": 36,
   "metadata": {
    "ExecuteTime": {
     "end_time": "2021-01-15T05:04:52.165580Z",
     "start_time": "2021-01-15T05:04:52.055608Z"
    }
   },
   "outputs": [],
   "source": [
    "save_loc = DATA_DIR / 'knn_classifier' / algorithm / 'train' / str(n_components) / (dataset + '.pickle')\n",
    "ensure_dir(save_loc)\n",
    "nn_acc_df.to_pickle(save_loc)"
   ]
  },
  {
   "cell_type": "markdown",
   "metadata": {},
   "source": [
    "### Compute clustering quality"
   ]
  },
  {
   "cell_type": "code",
   "execution_count": 37,
   "metadata": {
    "ExecuteTime": {
     "end_time": "2021-01-15T05:04:52.283843Z",
     "start_time": "2021-01-15T05:04:52.167484Z"
    }
   },
   "outputs": [],
   "source": [
    "from sklearn.cluster import KMeans\n",
    "from sklearn.metrics import homogeneity_completeness_v_measure"
   ]
  },
  {
   "cell_type": "code",
   "execution_count": 38,
   "metadata": {
    "ExecuteTime": {
     "end_time": "2021-01-15T05:04:52.511787Z",
     "start_time": "2021-01-15T05:04:52.294438Z"
    }
   },
   "outputs": [],
   "source": [
    "def get_cluster_metrics(row, n_init=5):\n",
    "    \n",
    "    # load cluster information\n",
    "    save_loc = DATA_DIR / 'clustering_metric_df'/ ('_'.join([row.class_, str(row.dim), row.dataset]) + '.pickle')\n",
    "    print(save_loc)\n",
    "    if save_loc.exists() and save_loc.is_file():\n",
    "        \n",
    "        cluster_df = pd.read_pickle(save_loc)\n",
    "        return cluster_df\n",
    "    \n",
    "    # make cluster metric dataframe\n",
    "    cluster_df = pd.DataFrame(\n",
    "        columns=[\n",
    "            \"dataset\",\n",
    "            \"class_\",\n",
    "            \"dim\",\n",
    "            \"silhouette\",\n",
    "            \"homogeneity\",\n",
    "            \"completeness\",\n",
    "            \"v_measure\",\n",
    "            \"init_\",\n",
    "            \"n_clusters\",\n",
    "            \"model\",\n",
    "        ]\n",
    "    )\n",
    "    y = row.train_label\n",
    "    z = row.train_z\n",
    "    n_labels = len(np.unique(y))\n",
    "    for n_clusters in tqdm(np.arange(n_labels - int(n_labels / 2), n_labels + int(n_labels / 2)), leave=False, desc = 'n_clusters'):\n",
    "        for init_ in tqdm(range(n_init), leave=False, desc='init'):\n",
    "            kmeans = KMeans(n_clusters=n_clusters, random_state=init_).fit(z)\n",
    "            clustered_y = kmeans.labels_\n",
    "            homogeneity, completeness, v_measure = homogeneity_completeness_v_measure(\n",
    "                np.array(y).flatten(), np.array(clustered_y).flatten()\n",
    "            )\n",
    "            ss, _ = silhouette_score_block(z, clustered_y)\n",
    "            cluster_df.loc[len(cluster_df)] = [\n",
    "                row.dataset,\n",
    "                row.class_,\n",
    "                row.dim,\n",
    "                ss,\n",
    "                homogeneity,\n",
    "                completeness,\n",
    "                v_measure,\n",
    "                init_,\n",
    "                n_clusters,\n",
    "                kmeans,\n",
    "            ]\n",
    "    \n",
    "     # save cluster df in case this fails somewhere\n",
    "    ensure_dir(save_loc)\n",
    "    cluster_df.to_pickle(save_loc)\n",
    "    return cluster_df"
   ]
  },
  {
   "cell_type": "code",
   "execution_count": 39,
   "metadata": {
    "ExecuteTime": {
     "end_time": "2021-01-15T05:04:53.525731Z",
     "start_time": "2021-01-15T05:04:52.514587Z"
    }
   },
   "outputs": [
    {
     "data": {
      "text/html": [
       "<div>\n",
       "<style scoped>\n",
       "    .dataframe tbody tr th:only-of-type {\n",
       "        vertical-align: middle;\n",
       "    }\n",
       "\n",
       "    .dataframe tbody tr th {\n",
       "        vertical-align: top;\n",
       "    }\n",
       "\n",
       "    .dataframe thead th {\n",
       "        text-align: right;\n",
       "    }\n",
       "</style>\n",
       "<table border=\"1\" class=\"dataframe\">\n",
       "  <thead>\n",
       "    <tr style=\"text-align: right;\">\n",
       "      <th></th>\n",
       "      <th>dataset</th>\n",
       "      <th>class_</th>\n",
       "      <th>train_z</th>\n",
       "      <th>train_label</th>\n",
       "      <th>dim</th>\n",
       "    </tr>\n",
       "  </thead>\n",
       "  <tbody>\n",
       "    <tr>\n",
       "      <th>0</th>\n",
       "      <td>cifar10</td>\n",
       "      <td>phate</td>\n",
       "      <td>[[0.02181643583181127, 0.0005531751778990742, ...</td>\n",
       "      <td>[[6], [9], [9], [4], [1], [1], [2], [7], [8], ...</td>\n",
       "      <td>64</td>\n",
       "    </tr>\n",
       "  </tbody>\n",
       "</table>\n",
       "</div>"
      ],
      "text/plain": [
       "   dataset class_                                            train_z  \\\n",
       "0  cifar10  phate  [[0.02181643583181127, 0.0005531751778990742, ...   \n",
       "\n",
       "                                         train_label dim  \n",
       "0  [[6], [9], [9], [4], [1], [1], [2], [7], [8], ...  64  "
      ]
     },
     "execution_count": 39,
     "metadata": {},
     "output_type": "execute_result"
    }
   ],
   "source": [
    "projection_df = pd.DataFrame(columns = ['dataset', 'class_', 'train_z', 'train_label', 'dim'])\n",
    "projection_df.loc[len(projection_df)] = [dataset, algorithm, z, Y_train, n_components]\n",
    "projection_df"
   ]
  },
  {
   "cell_type": "code",
   "execution_count": 40,
   "metadata": {
    "ExecuteTime": {
     "end_time": "2021-01-15T05:51:34.387548Z",
     "start_time": "2021-01-15T05:04:53.532274Z"
    }
   },
   "outputs": [
    {
     "name": "stdout",
     "output_type": "stream",
     "text": [
      "/mnt/cube/tsainbur/Projects/github_repos/umap_tf_networks/data/clustering_metric_df/phate_64_cifar10.pickle\n"
     ]
    },
    {
     "data": {
      "application/vnd.jupyter.widget-view+json": {
       "model_id": "",
       "version_major": 2,
       "version_minor": 0
      },
      "text/plain": [
       "n_clusters:   0%|          | 0/10 [00:00<?, ?it/s]"
      ]
     },
     "metadata": {},
     "output_type": "display_data"
    },
    {
     "data": {
      "application/vnd.jupyter.widget-view+json": {
       "model_id": "",
       "version_major": 2,
       "version_minor": 0
      },
      "text/plain": [
       "init:   0%|          | 0/5 [00:00<?, ?it/s]"
      ]
     },
     "metadata": {},
     "output_type": "display_data"
    },
    {
     "data": {
      "application/vnd.jupyter.widget-view+json": {
       "model_id": "",
       "version_major": 2,
       "version_minor": 0
      },
      "text/plain": [
       "init:   0%|          | 0/5 [00:00<?, ?it/s]"
      ]
     },
     "metadata": {},
     "output_type": "display_data"
    },
    {
     "data": {
      "application/vnd.jupyter.widget-view+json": {
       "model_id": "",
       "version_major": 2,
       "version_minor": 0
      },
      "text/plain": [
       "init:   0%|          | 0/5 [00:00<?, ?it/s]"
      ]
     },
     "metadata": {},
     "output_type": "display_data"
    },
    {
     "data": {
      "application/vnd.jupyter.widget-view+json": {
       "model_id": "",
       "version_major": 2,
       "version_minor": 0
      },
      "text/plain": [
       "init:   0%|          | 0/5 [00:00<?, ?it/s]"
      ]
     },
     "metadata": {},
     "output_type": "display_data"
    },
    {
     "data": {
      "application/vnd.jupyter.widget-view+json": {
       "model_id": "",
       "version_major": 2,
       "version_minor": 0
      },
      "text/plain": [
       "init:   0%|          | 0/5 [00:00<?, ?it/s]"
      ]
     },
     "metadata": {},
     "output_type": "display_data"
    },
    {
     "data": {
      "application/vnd.jupyter.widget-view+json": {
       "model_id": "",
       "version_major": 2,
       "version_minor": 0
      },
      "text/plain": [
       "init:   0%|          | 0/5 [00:00<?, ?it/s]"
      ]
     },
     "metadata": {},
     "output_type": "display_data"
    },
    {
     "data": {
      "application/vnd.jupyter.widget-view+json": {
       "model_id": "",
       "version_major": 2,
       "version_minor": 0
      },
      "text/plain": [
       "init:   0%|          | 0/5 [00:00<?, ?it/s]"
      ]
     },
     "metadata": {},
     "output_type": "display_data"
    },
    {
     "data": {
      "application/vnd.jupyter.widget-view+json": {
       "model_id": "",
       "version_major": 2,
       "version_minor": 0
      },
      "text/plain": [
       "init:   0%|          | 0/5 [00:00<?, ?it/s]"
      ]
     },
     "metadata": {},
     "output_type": "display_data"
    },
    {
     "data": {
      "application/vnd.jupyter.widget-view+json": {
       "model_id": "",
       "version_major": 2,
       "version_minor": 0
      },
      "text/plain": [
       "init:   0%|          | 0/5 [00:00<?, ?it/s]"
      ]
     },
     "metadata": {},
     "output_type": "display_data"
    },
    {
     "data": {
      "application/vnd.jupyter.widget-view+json": {
       "model_id": "",
       "version_major": 2,
       "version_minor": 0
      },
      "text/plain": [
       "init:   0%|          | 0/5 [00:00<?, ?it/s]"
      ]
     },
     "metadata": {},
     "output_type": "display_data"
    },
    {
     "data": {
      "text/html": [
       "<div>\n",
       "<style scoped>\n",
       "    .dataframe tbody tr th:only-of-type {\n",
       "        vertical-align: middle;\n",
       "    }\n",
       "\n",
       "    .dataframe tbody tr th {\n",
       "        vertical-align: top;\n",
       "    }\n",
       "\n",
       "    .dataframe thead th {\n",
       "        text-align: right;\n",
       "    }\n",
       "</style>\n",
       "<table border=\"1\" class=\"dataframe\">\n",
       "  <thead>\n",
       "    <tr style=\"text-align: right;\">\n",
       "      <th></th>\n",
       "      <th>dataset</th>\n",
       "      <th>class_</th>\n",
       "      <th>dim</th>\n",
       "      <th>silhouette</th>\n",
       "      <th>homogeneity</th>\n",
       "      <th>completeness</th>\n",
       "      <th>v_measure</th>\n",
       "      <th>init_</th>\n",
       "      <th>n_clusters</th>\n",
       "      <th>model</th>\n",
       "    </tr>\n",
       "  </thead>\n",
       "  <tbody>\n",
       "    <tr>\n",
       "      <th>0</th>\n",
       "      <td>cifar10</td>\n",
       "      <td>phate</td>\n",
       "      <td>64</td>\n",
       "      <td>0.433548</td>\n",
       "      <td>0.040185</td>\n",
       "      <td>0.061229</td>\n",
       "      <td>0.048524</td>\n",
       "      <td>0</td>\n",
       "      <td>5</td>\n",
       "      <td>KMeans(n_clusters=5, random_state=0)</td>\n",
       "    </tr>\n",
       "    <tr>\n",
       "      <th>1</th>\n",
       "      <td>cifar10</td>\n",
       "      <td>phate</td>\n",
       "      <td>64</td>\n",
       "      <td>0.433546</td>\n",
       "      <td>0.040170</td>\n",
       "      <td>0.061207</td>\n",
       "      <td>0.048506</td>\n",
       "      <td>1</td>\n",
       "      <td>5</td>\n",
       "      <td>KMeans(n_clusters=5, random_state=1)</td>\n",
       "    </tr>\n",
       "    <tr>\n",
       "      <th>2</th>\n",
       "      <td>cifar10</td>\n",
       "      <td>phate</td>\n",
       "      <td>64</td>\n",
       "      <td>0.433543</td>\n",
       "      <td>0.040170</td>\n",
       "      <td>0.061205</td>\n",
       "      <td>0.048505</td>\n",
       "      <td>2</td>\n",
       "      <td>5</td>\n",
       "      <td>KMeans(n_clusters=5, random_state=2)</td>\n",
       "    </tr>\n",
       "    <tr>\n",
       "      <th>3</th>\n",
       "      <td>cifar10</td>\n",
       "      <td>phate</td>\n",
       "      <td>64</td>\n",
       "      <td>0.433462</td>\n",
       "      <td>0.040144</td>\n",
       "      <td>0.061154</td>\n",
       "      <td>0.048470</td>\n",
       "      <td>3</td>\n",
       "      <td>5</td>\n",
       "      <td>KMeans(n_clusters=5, random_state=3)</td>\n",
       "    </tr>\n",
       "    <tr>\n",
       "      <th>4</th>\n",
       "      <td>cifar10</td>\n",
       "      <td>phate</td>\n",
       "      <td>64</td>\n",
       "      <td>0.433548</td>\n",
       "      <td>0.040185</td>\n",
       "      <td>0.061229</td>\n",
       "      <td>0.048524</td>\n",
       "      <td>4</td>\n",
       "      <td>5</td>\n",
       "      <td>KMeans(n_clusters=5, random_state=4)</td>\n",
       "    </tr>\n",
       "    <tr>\n",
       "      <th>5</th>\n",
       "      <td>cifar10</td>\n",
       "      <td>phate</td>\n",
       "      <td>64</td>\n",
       "      <td>0.412767</td>\n",
       "      <td>0.041436</td>\n",
       "      <td>0.057174</td>\n",
       "      <td>0.048049</td>\n",
       "      <td>0</td>\n",
       "      <td>6</td>\n",
       "      <td>KMeans(n_clusters=6, random_state=0)</td>\n",
       "    </tr>\n",
       "    <tr>\n",
       "      <th>6</th>\n",
       "      <td>cifar10</td>\n",
       "      <td>phate</td>\n",
       "      <td>64</td>\n",
       "      <td>0.412787</td>\n",
       "      <td>0.041441</td>\n",
       "      <td>0.057185</td>\n",
       "      <td>0.048056</td>\n",
       "      <td>1</td>\n",
       "      <td>6</td>\n",
       "      <td>KMeans(n_clusters=6, random_state=1)</td>\n",
       "    </tr>\n",
       "    <tr>\n",
       "      <th>7</th>\n",
       "      <td>cifar10</td>\n",
       "      <td>phate</td>\n",
       "      <td>64</td>\n",
       "      <td>0.412787</td>\n",
       "      <td>0.041441</td>\n",
       "      <td>0.057185</td>\n",
       "      <td>0.048056</td>\n",
       "      <td>2</td>\n",
       "      <td>6</td>\n",
       "      <td>KMeans(n_clusters=6, random_state=2)</td>\n",
       "    </tr>\n",
       "    <tr>\n",
       "      <th>8</th>\n",
       "      <td>cifar10</td>\n",
       "      <td>phate</td>\n",
       "      <td>64</td>\n",
       "      <td>0.412787</td>\n",
       "      <td>0.041441</td>\n",
       "      <td>0.057185</td>\n",
       "      <td>0.048056</td>\n",
       "      <td>3</td>\n",
       "      <td>6</td>\n",
       "      <td>KMeans(n_clusters=6, random_state=3)</td>\n",
       "    </tr>\n",
       "    <tr>\n",
       "      <th>9</th>\n",
       "      <td>cifar10</td>\n",
       "      <td>phate</td>\n",
       "      <td>64</td>\n",
       "      <td>0.412767</td>\n",
       "      <td>0.041436</td>\n",
       "      <td>0.057174</td>\n",
       "      <td>0.048049</td>\n",
       "      <td>4</td>\n",
       "      <td>6</td>\n",
       "      <td>KMeans(n_clusters=6, random_state=4)</td>\n",
       "    </tr>\n",
       "    <tr>\n",
       "      <th>10</th>\n",
       "      <td>cifar10</td>\n",
       "      <td>phate</td>\n",
       "      <td>64</td>\n",
       "      <td>0.397333</td>\n",
       "      <td>0.042537</td>\n",
       "      <td>0.053926</td>\n",
       "      <td>0.047559</td>\n",
       "      <td>0</td>\n",
       "      <td>7</td>\n",
       "      <td>KMeans(n_clusters=7, random_state=0)</td>\n",
       "    </tr>\n",
       "    <tr>\n",
       "      <th>11</th>\n",
       "      <td>cifar10</td>\n",
       "      <td>phate</td>\n",
       "      <td>64</td>\n",
       "      <td>0.397612</td>\n",
       "      <td>0.042424</td>\n",
       "      <td>0.053819</td>\n",
       "      <td>0.047447</td>\n",
       "      <td>1</td>\n",
       "      <td>7</td>\n",
       "      <td>KMeans(n_clusters=7, random_state=1)</td>\n",
       "    </tr>\n",
       "    <tr>\n",
       "      <th>12</th>\n",
       "      <td>cifar10</td>\n",
       "      <td>phate</td>\n",
       "      <td>64</td>\n",
       "      <td>0.397329</td>\n",
       "      <td>0.042541</td>\n",
       "      <td>0.053931</td>\n",
       "      <td>0.047564</td>\n",
       "      <td>2</td>\n",
       "      <td>7</td>\n",
       "      <td>KMeans(n_clusters=7, random_state=2)</td>\n",
       "    </tr>\n",
       "    <tr>\n",
       "      <th>13</th>\n",
       "      <td>cifar10</td>\n",
       "      <td>phate</td>\n",
       "      <td>64</td>\n",
       "      <td>0.397374</td>\n",
       "      <td>0.042510</td>\n",
       "      <td>0.053898</td>\n",
       "      <td>0.047531</td>\n",
       "      <td>3</td>\n",
       "      <td>7</td>\n",
       "      <td>KMeans(n_clusters=7, random_state=3)</td>\n",
       "    </tr>\n",
       "    <tr>\n",
       "      <th>14</th>\n",
       "      <td>cifar10</td>\n",
       "      <td>phate</td>\n",
       "      <td>64</td>\n",
       "      <td>0.397593</td>\n",
       "      <td>0.042437</td>\n",
       "      <td>0.053833</td>\n",
       "      <td>0.047460</td>\n",
       "      <td>4</td>\n",
       "      <td>7</td>\n",
       "      <td>KMeans(n_clusters=7, random_state=4)</td>\n",
       "    </tr>\n",
       "    <tr>\n",
       "      <th>15</th>\n",
       "      <td>cifar10</td>\n",
       "      <td>phate</td>\n",
       "      <td>64</td>\n",
       "      <td>0.379345</td>\n",
       "      <td>0.043577</td>\n",
       "      <td>0.051552</td>\n",
       "      <td>0.047230</td>\n",
       "      <td>0</td>\n",
       "      <td>8</td>\n",
       "      <td>KMeans(random_state=0)</td>\n",
       "    </tr>\n",
       "    <tr>\n",
       "      <th>16</th>\n",
       "      <td>cifar10</td>\n",
       "      <td>phate</td>\n",
       "      <td>64</td>\n",
       "      <td>0.379265</td>\n",
       "      <td>0.043604</td>\n",
       "      <td>0.051572</td>\n",
       "      <td>0.047255</td>\n",
       "      <td>1</td>\n",
       "      <td>8</td>\n",
       "      <td>KMeans(random_state=1)</td>\n",
       "    </tr>\n",
       "    <tr>\n",
       "      <th>17</th>\n",
       "      <td>cifar10</td>\n",
       "      <td>phate</td>\n",
       "      <td>64</td>\n",
       "      <td>0.379484</td>\n",
       "      <td>0.043530</td>\n",
       "      <td>0.051526</td>\n",
       "      <td>0.047192</td>\n",
       "      <td>2</td>\n",
       "      <td>8</td>\n",
       "      <td>KMeans(random_state=2)</td>\n",
       "    </tr>\n",
       "    <tr>\n",
       "      <th>18</th>\n",
       "      <td>cifar10</td>\n",
       "      <td>phate</td>\n",
       "      <td>64</td>\n",
       "      <td>0.379541</td>\n",
       "      <td>0.043526</td>\n",
       "      <td>0.051531</td>\n",
       "      <td>0.047191</td>\n",
       "      <td>3</td>\n",
       "      <td>8</td>\n",
       "      <td>KMeans(random_state=3)</td>\n",
       "    </tr>\n",
       "    <tr>\n",
       "      <th>19</th>\n",
       "      <td>cifar10</td>\n",
       "      <td>phate</td>\n",
       "      <td>64</td>\n",
       "      <td>0.379743</td>\n",
       "      <td>0.043524</td>\n",
       "      <td>0.051555</td>\n",
       "      <td>0.047200</td>\n",
       "      <td>4</td>\n",
       "      <td>8</td>\n",
       "      <td>KMeans(random_state=4)</td>\n",
       "    </tr>\n",
       "    <tr>\n",
       "      <th>20</th>\n",
       "      <td>cifar10</td>\n",
       "      <td>phate</td>\n",
       "      <td>64</td>\n",
       "      <td>0.360935</td>\n",
       "      <td>0.044526</td>\n",
       "      <td>0.049850</td>\n",
       "      <td>0.047038</td>\n",
       "      <td>0</td>\n",
       "      <td>9</td>\n",
       "      <td>KMeans(n_clusters=9, random_state=0)</td>\n",
       "    </tr>\n",
       "    <tr>\n",
       "      <th>21</th>\n",
       "      <td>cifar10</td>\n",
       "      <td>phate</td>\n",
       "      <td>64</td>\n",
       "      <td>0.361073</td>\n",
       "      <td>0.044536</td>\n",
       "      <td>0.049806</td>\n",
       "      <td>0.047024</td>\n",
       "      <td>1</td>\n",
       "      <td>9</td>\n",
       "      <td>KMeans(n_clusters=9, random_state=1)</td>\n",
       "    </tr>\n",
       "    <tr>\n",
       "      <th>22</th>\n",
       "      <td>cifar10</td>\n",
       "      <td>phate</td>\n",
       "      <td>64</td>\n",
       "      <td>0.361438</td>\n",
       "      <td>0.044426</td>\n",
       "      <td>0.049675</td>\n",
       "      <td>0.046904</td>\n",
       "      <td>2</td>\n",
       "      <td>9</td>\n",
       "      <td>KMeans(n_clusters=9, random_state=2)</td>\n",
       "    </tr>\n",
       "    <tr>\n",
       "      <th>23</th>\n",
       "      <td>cifar10</td>\n",
       "      <td>phate</td>\n",
       "      <td>64</td>\n",
       "      <td>0.360873</td>\n",
       "      <td>0.044553</td>\n",
       "      <td>0.049877</td>\n",
       "      <td>0.047065</td>\n",
       "      <td>3</td>\n",
       "      <td>9</td>\n",
       "      <td>KMeans(n_clusters=9, random_state=3)</td>\n",
       "    </tr>\n",
       "    <tr>\n",
       "      <th>24</th>\n",
       "      <td>cifar10</td>\n",
       "      <td>phate</td>\n",
       "      <td>64</td>\n",
       "      <td>0.361407</td>\n",
       "      <td>0.044494</td>\n",
       "      <td>0.049844</td>\n",
       "      <td>0.047017</td>\n",
       "      <td>4</td>\n",
       "      <td>9</td>\n",
       "      <td>KMeans(n_clusters=9, random_state=4)</td>\n",
       "    </tr>\n",
       "    <tr>\n",
       "      <th>25</th>\n",
       "      <td>cifar10</td>\n",
       "      <td>phate</td>\n",
       "      <td>64</td>\n",
       "      <td>0.365498</td>\n",
       "      <td>0.052872</td>\n",
       "      <td>0.056246</td>\n",
       "      <td>0.054507</td>\n",
       "      <td>0</td>\n",
       "      <td>10</td>\n",
       "      <td>KMeans(n_clusters=10, random_state=0)</td>\n",
       "    </tr>\n",
       "    <tr>\n",
       "      <th>26</th>\n",
       "      <td>cifar10</td>\n",
       "      <td>phate</td>\n",
       "      <td>64</td>\n",
       "      <td>0.365439</td>\n",
       "      <td>0.052927</td>\n",
       "      <td>0.056283</td>\n",
       "      <td>0.054553</td>\n",
       "      <td>1</td>\n",
       "      <td>10</td>\n",
       "      <td>KMeans(n_clusters=10, random_state=1)</td>\n",
       "    </tr>\n",
       "    <tr>\n",
       "      <th>27</th>\n",
       "      <td>cifar10</td>\n",
       "      <td>phate</td>\n",
       "      <td>64</td>\n",
       "      <td>0.365505</td>\n",
       "      <td>0.052880</td>\n",
       "      <td>0.056256</td>\n",
       "      <td>0.054516</td>\n",
       "      <td>2</td>\n",
       "      <td>10</td>\n",
       "      <td>KMeans(n_clusters=10, random_state=2)</td>\n",
       "    </tr>\n",
       "    <tr>\n",
       "      <th>28</th>\n",
       "      <td>cifar10</td>\n",
       "      <td>phate</td>\n",
       "      <td>64</td>\n",
       "      <td>0.365431</td>\n",
       "      <td>0.052943</td>\n",
       "      <td>0.056298</td>\n",
       "      <td>0.054569</td>\n",
       "      <td>3</td>\n",
       "      <td>10</td>\n",
       "      <td>KMeans(n_clusters=10, random_state=3)</td>\n",
       "    </tr>\n",
       "    <tr>\n",
       "      <th>29</th>\n",
       "      <td>cifar10</td>\n",
       "      <td>phate</td>\n",
       "      <td>64</td>\n",
       "      <td>0.365436</td>\n",
       "      <td>0.052935</td>\n",
       "      <td>0.056290</td>\n",
       "      <td>0.054561</td>\n",
       "      <td>4</td>\n",
       "      <td>10</td>\n",
       "      <td>KMeans(n_clusters=10, random_state=4)</td>\n",
       "    </tr>\n",
       "    <tr>\n",
       "      <th>30</th>\n",
       "      <td>cifar10</td>\n",
       "      <td>phate</td>\n",
       "      <td>64</td>\n",
       "      <td>0.361712</td>\n",
       "      <td>0.056209</td>\n",
       "      <td>0.057396</td>\n",
       "      <td>0.056796</td>\n",
       "      <td>0</td>\n",
       "      <td>11</td>\n",
       "      <td>KMeans(n_clusters=11, random_state=0)</td>\n",
       "    </tr>\n",
       "    <tr>\n",
       "      <th>31</th>\n",
       "      <td>cifar10</td>\n",
       "      <td>phate</td>\n",
       "      <td>64</td>\n",
       "      <td>0.361910</td>\n",
       "      <td>0.056259</td>\n",
       "      <td>0.057460</td>\n",
       "      <td>0.056853</td>\n",
       "      <td>1</td>\n",
       "      <td>11</td>\n",
       "      <td>KMeans(n_clusters=11, random_state=1)</td>\n",
       "    </tr>\n",
       "    <tr>\n",
       "      <th>32</th>\n",
       "      <td>cifar10</td>\n",
       "      <td>phate</td>\n",
       "      <td>64</td>\n",
       "      <td>0.361962</td>\n",
       "      <td>0.056232</td>\n",
       "      <td>0.057436</td>\n",
       "      <td>0.056828</td>\n",
       "      <td>2</td>\n",
       "      <td>11</td>\n",
       "      <td>KMeans(n_clusters=11, random_state=2)</td>\n",
       "    </tr>\n",
       "    <tr>\n",
       "      <th>33</th>\n",
       "      <td>cifar10</td>\n",
       "      <td>phate</td>\n",
       "      <td>64</td>\n",
       "      <td>0.361962</td>\n",
       "      <td>0.056232</td>\n",
       "      <td>0.057436</td>\n",
       "      <td>0.056828</td>\n",
       "      <td>3</td>\n",
       "      <td>11</td>\n",
       "      <td>KMeans(n_clusters=11, random_state=3)</td>\n",
       "    </tr>\n",
       "    <tr>\n",
       "      <th>34</th>\n",
       "      <td>cifar10</td>\n",
       "      <td>phate</td>\n",
       "      <td>64</td>\n",
       "      <td>0.361834</td>\n",
       "      <td>0.056181</td>\n",
       "      <td>0.057357</td>\n",
       "      <td>0.056763</td>\n",
       "      <td>4</td>\n",
       "      <td>11</td>\n",
       "      <td>KMeans(n_clusters=11, random_state=4)</td>\n",
       "    </tr>\n",
       "    <tr>\n",
       "      <th>35</th>\n",
       "      <td>cifar10</td>\n",
       "      <td>phate</td>\n",
       "      <td>64</td>\n",
       "      <td>0.347844</td>\n",
       "      <td>0.053336</td>\n",
       "      <td>0.052884</td>\n",
       "      <td>0.053109</td>\n",
       "      <td>0</td>\n",
       "      <td>12</td>\n",
       "      <td>KMeans(n_clusters=12, random_state=0)</td>\n",
       "    </tr>\n",
       "    <tr>\n",
       "      <th>36</th>\n",
       "      <td>cifar10</td>\n",
       "      <td>phate</td>\n",
       "      <td>64</td>\n",
       "      <td>0.364401</td>\n",
       "      <td>0.057539</td>\n",
       "      <td>0.058540</td>\n",
       "      <td>0.058035</td>\n",
       "      <td>1</td>\n",
       "      <td>12</td>\n",
       "      <td>KMeans(n_clusters=12, random_state=1)</td>\n",
       "    </tr>\n",
       "    <tr>\n",
       "      <th>37</th>\n",
       "      <td>cifar10</td>\n",
       "      <td>phate</td>\n",
       "      <td>64</td>\n",
       "      <td>0.363758</td>\n",
       "      <td>0.057457</td>\n",
       "      <td>0.058429</td>\n",
       "      <td>0.057939</td>\n",
       "      <td>2</td>\n",
       "      <td>12</td>\n",
       "      <td>KMeans(n_clusters=12, random_state=2)</td>\n",
       "    </tr>\n",
       "    <tr>\n",
       "      <th>38</th>\n",
       "      <td>cifar10</td>\n",
       "      <td>phate</td>\n",
       "      <td>64</td>\n",
       "      <td>0.359604</td>\n",
       "      <td>0.054941</td>\n",
       "      <td>0.055878</td>\n",
       "      <td>0.055406</td>\n",
       "      <td>3</td>\n",
       "      <td>12</td>\n",
       "      <td>KMeans(n_clusters=12, random_state=3)</td>\n",
       "    </tr>\n",
       "    <tr>\n",
       "      <th>39</th>\n",
       "      <td>cifar10</td>\n",
       "      <td>phate</td>\n",
       "      <td>64</td>\n",
       "      <td>0.363796</td>\n",
       "      <td>0.057564</td>\n",
       "      <td>0.058537</td>\n",
       "      <td>0.058046</td>\n",
       "      <td>4</td>\n",
       "      <td>12</td>\n",
       "      <td>KMeans(n_clusters=12, random_state=4)</td>\n",
       "    </tr>\n",
       "    <tr>\n",
       "      <th>40</th>\n",
       "      <td>cifar10</td>\n",
       "      <td>phate</td>\n",
       "      <td>64</td>\n",
       "      <td>0.358312</td>\n",
       "      <td>0.060332</td>\n",
       "      <td>0.058772</td>\n",
       "      <td>0.059542</td>\n",
       "      <td>0</td>\n",
       "      <td>13</td>\n",
       "      <td>KMeans(n_clusters=13, random_state=0)</td>\n",
       "    </tr>\n",
       "    <tr>\n",
       "      <th>41</th>\n",
       "      <td>cifar10</td>\n",
       "      <td>phate</td>\n",
       "      <td>64</td>\n",
       "      <td>0.358383</td>\n",
       "      <td>0.060555</td>\n",
       "      <td>0.058938</td>\n",
       "      <td>0.059735</td>\n",
       "      <td>1</td>\n",
       "      <td>13</td>\n",
       "      <td>KMeans(n_clusters=13, random_state=1)</td>\n",
       "    </tr>\n",
       "    <tr>\n",
       "      <th>42</th>\n",
       "      <td>cifar10</td>\n",
       "      <td>phate</td>\n",
       "      <td>64</td>\n",
       "      <td>0.358203</td>\n",
       "      <td>0.060409</td>\n",
       "      <td>0.058801</td>\n",
       "      <td>0.059594</td>\n",
       "      <td>2</td>\n",
       "      <td>13</td>\n",
       "      <td>KMeans(n_clusters=13, random_state=2)</td>\n",
       "    </tr>\n",
       "    <tr>\n",
       "      <th>43</th>\n",
       "      <td>cifar10</td>\n",
       "      <td>phate</td>\n",
       "      <td>64</td>\n",
       "      <td>0.358655</td>\n",
       "      <td>0.060505</td>\n",
       "      <td>0.058930</td>\n",
       "      <td>0.059707</td>\n",
       "      <td>3</td>\n",
       "      <td>13</td>\n",
       "      <td>KMeans(n_clusters=13, random_state=3)</td>\n",
       "    </tr>\n",
       "    <tr>\n",
       "      <th>44</th>\n",
       "      <td>cifar10</td>\n",
       "      <td>phate</td>\n",
       "      <td>64</td>\n",
       "      <td>0.358363</td>\n",
       "      <td>0.060398</td>\n",
       "      <td>0.058809</td>\n",
       "      <td>0.059593</td>\n",
       "      <td>4</td>\n",
       "      <td>13</td>\n",
       "      <td>KMeans(n_clusters=13, random_state=4)</td>\n",
       "    </tr>\n",
       "    <tr>\n",
       "      <th>45</th>\n",
       "      <td>cifar10</td>\n",
       "      <td>phate</td>\n",
       "      <td>64</td>\n",
       "      <td>0.354532</td>\n",
       "      <td>0.060364</td>\n",
       "      <td>0.057722</td>\n",
       "      <td>0.059013</td>\n",
       "      <td>0</td>\n",
       "      <td>14</td>\n",
       "      <td>KMeans(n_clusters=14, random_state=0)</td>\n",
       "    </tr>\n",
       "    <tr>\n",
       "      <th>46</th>\n",
       "      <td>cifar10</td>\n",
       "      <td>phate</td>\n",
       "      <td>64</td>\n",
       "      <td>0.354199</td>\n",
       "      <td>0.060382</td>\n",
       "      <td>0.057646</td>\n",
       "      <td>0.058982</td>\n",
       "      <td>1</td>\n",
       "      <td>14</td>\n",
       "      <td>KMeans(n_clusters=14, random_state=1)</td>\n",
       "    </tr>\n",
       "    <tr>\n",
       "      <th>47</th>\n",
       "      <td>cifar10</td>\n",
       "      <td>phate</td>\n",
       "      <td>64</td>\n",
       "      <td>0.354792</td>\n",
       "      <td>0.060306</td>\n",
       "      <td>0.057610</td>\n",
       "      <td>0.058928</td>\n",
       "      <td>2</td>\n",
       "      <td>14</td>\n",
       "      <td>KMeans(n_clusters=14, random_state=2)</td>\n",
       "    </tr>\n",
       "    <tr>\n",
       "      <th>48</th>\n",
       "      <td>cifar10</td>\n",
       "      <td>phate</td>\n",
       "      <td>64</td>\n",
       "      <td>0.346408</td>\n",
       "      <td>0.058913</td>\n",
       "      <td>0.056296</td>\n",
       "      <td>0.057575</td>\n",
       "      <td>3</td>\n",
       "      <td>14</td>\n",
       "      <td>KMeans(n_clusters=14, random_state=3)</td>\n",
       "    </tr>\n",
       "    <tr>\n",
       "      <th>49</th>\n",
       "      <td>cifar10</td>\n",
       "      <td>phate</td>\n",
       "      <td>64</td>\n",
       "      <td>0.350490</td>\n",
       "      <td>0.060115</td>\n",
       "      <td>0.057323</td>\n",
       "      <td>0.058686</td>\n",
       "      <td>4</td>\n",
       "      <td>14</td>\n",
       "      <td>KMeans(n_clusters=14, random_state=4)</td>\n",
       "    </tr>\n",
       "  </tbody>\n",
       "</table>\n",
       "</div>"
      ],
      "text/plain": [
       "    dataset class_ dim  silhouette  homogeneity  completeness  v_measure  \\\n",
       "0   cifar10  phate  64    0.433548     0.040185      0.061229   0.048524   \n",
       "1   cifar10  phate  64    0.433546     0.040170      0.061207   0.048506   \n",
       "2   cifar10  phate  64    0.433543     0.040170      0.061205   0.048505   \n",
       "3   cifar10  phate  64    0.433462     0.040144      0.061154   0.048470   \n",
       "4   cifar10  phate  64    0.433548     0.040185      0.061229   0.048524   \n",
       "5   cifar10  phate  64    0.412767     0.041436      0.057174   0.048049   \n",
       "6   cifar10  phate  64    0.412787     0.041441      0.057185   0.048056   \n",
       "7   cifar10  phate  64    0.412787     0.041441      0.057185   0.048056   \n",
       "8   cifar10  phate  64    0.412787     0.041441      0.057185   0.048056   \n",
       "9   cifar10  phate  64    0.412767     0.041436      0.057174   0.048049   \n",
       "10  cifar10  phate  64    0.397333     0.042537      0.053926   0.047559   \n",
       "11  cifar10  phate  64    0.397612     0.042424      0.053819   0.047447   \n",
       "12  cifar10  phate  64    0.397329     0.042541      0.053931   0.047564   \n",
       "13  cifar10  phate  64    0.397374     0.042510      0.053898   0.047531   \n",
       "14  cifar10  phate  64    0.397593     0.042437      0.053833   0.047460   \n",
       "15  cifar10  phate  64    0.379345     0.043577      0.051552   0.047230   \n",
       "16  cifar10  phate  64    0.379265     0.043604      0.051572   0.047255   \n",
       "17  cifar10  phate  64    0.379484     0.043530      0.051526   0.047192   \n",
       "18  cifar10  phate  64    0.379541     0.043526      0.051531   0.047191   \n",
       "19  cifar10  phate  64    0.379743     0.043524      0.051555   0.047200   \n",
       "20  cifar10  phate  64    0.360935     0.044526      0.049850   0.047038   \n",
       "21  cifar10  phate  64    0.361073     0.044536      0.049806   0.047024   \n",
       "22  cifar10  phate  64    0.361438     0.044426      0.049675   0.046904   \n",
       "23  cifar10  phate  64    0.360873     0.044553      0.049877   0.047065   \n",
       "24  cifar10  phate  64    0.361407     0.044494      0.049844   0.047017   \n",
       "25  cifar10  phate  64    0.365498     0.052872      0.056246   0.054507   \n",
       "26  cifar10  phate  64    0.365439     0.052927      0.056283   0.054553   \n",
       "27  cifar10  phate  64    0.365505     0.052880      0.056256   0.054516   \n",
       "28  cifar10  phate  64    0.365431     0.052943      0.056298   0.054569   \n",
       "29  cifar10  phate  64    0.365436     0.052935      0.056290   0.054561   \n",
       "30  cifar10  phate  64    0.361712     0.056209      0.057396   0.056796   \n",
       "31  cifar10  phate  64    0.361910     0.056259      0.057460   0.056853   \n",
       "32  cifar10  phate  64    0.361962     0.056232      0.057436   0.056828   \n",
       "33  cifar10  phate  64    0.361962     0.056232      0.057436   0.056828   \n",
       "34  cifar10  phate  64    0.361834     0.056181      0.057357   0.056763   \n",
       "35  cifar10  phate  64    0.347844     0.053336      0.052884   0.053109   \n",
       "36  cifar10  phate  64    0.364401     0.057539      0.058540   0.058035   \n",
       "37  cifar10  phate  64    0.363758     0.057457      0.058429   0.057939   \n",
       "38  cifar10  phate  64    0.359604     0.054941      0.055878   0.055406   \n",
       "39  cifar10  phate  64    0.363796     0.057564      0.058537   0.058046   \n",
       "40  cifar10  phate  64    0.358312     0.060332      0.058772   0.059542   \n",
       "41  cifar10  phate  64    0.358383     0.060555      0.058938   0.059735   \n",
       "42  cifar10  phate  64    0.358203     0.060409      0.058801   0.059594   \n",
       "43  cifar10  phate  64    0.358655     0.060505      0.058930   0.059707   \n",
       "44  cifar10  phate  64    0.358363     0.060398      0.058809   0.059593   \n",
       "45  cifar10  phate  64    0.354532     0.060364      0.057722   0.059013   \n",
       "46  cifar10  phate  64    0.354199     0.060382      0.057646   0.058982   \n",
       "47  cifar10  phate  64    0.354792     0.060306      0.057610   0.058928   \n",
       "48  cifar10  phate  64    0.346408     0.058913      0.056296   0.057575   \n",
       "49  cifar10  phate  64    0.350490     0.060115      0.057323   0.058686   \n",
       "\n",
       "   init_ n_clusters                                  model  \n",
       "0      0          5   KMeans(n_clusters=5, random_state=0)  \n",
       "1      1          5   KMeans(n_clusters=5, random_state=1)  \n",
       "2      2          5   KMeans(n_clusters=5, random_state=2)  \n",
       "3      3          5   KMeans(n_clusters=5, random_state=3)  \n",
       "4      4          5   KMeans(n_clusters=5, random_state=4)  \n",
       "5      0          6   KMeans(n_clusters=6, random_state=0)  \n",
       "6      1          6   KMeans(n_clusters=6, random_state=1)  \n",
       "7      2          6   KMeans(n_clusters=6, random_state=2)  \n",
       "8      3          6   KMeans(n_clusters=6, random_state=3)  \n",
       "9      4          6   KMeans(n_clusters=6, random_state=4)  \n",
       "10     0          7   KMeans(n_clusters=7, random_state=0)  \n",
       "11     1          7   KMeans(n_clusters=7, random_state=1)  \n",
       "12     2          7   KMeans(n_clusters=7, random_state=2)  \n",
       "13     3          7   KMeans(n_clusters=7, random_state=3)  \n",
       "14     4          7   KMeans(n_clusters=7, random_state=4)  \n",
       "15     0          8                 KMeans(random_state=0)  \n",
       "16     1          8                 KMeans(random_state=1)  \n",
       "17     2          8                 KMeans(random_state=2)  \n",
       "18     3          8                 KMeans(random_state=3)  \n",
       "19     4          8                 KMeans(random_state=4)  \n",
       "20     0          9   KMeans(n_clusters=9, random_state=0)  \n",
       "21     1          9   KMeans(n_clusters=9, random_state=1)  \n",
       "22     2          9   KMeans(n_clusters=9, random_state=2)  \n",
       "23     3          9   KMeans(n_clusters=9, random_state=3)  \n",
       "24     4          9   KMeans(n_clusters=9, random_state=4)  \n",
       "25     0         10  KMeans(n_clusters=10, random_state=0)  \n",
       "26     1         10  KMeans(n_clusters=10, random_state=1)  \n",
       "27     2         10  KMeans(n_clusters=10, random_state=2)  \n",
       "28     3         10  KMeans(n_clusters=10, random_state=3)  \n",
       "29     4         10  KMeans(n_clusters=10, random_state=4)  \n",
       "30     0         11  KMeans(n_clusters=11, random_state=0)  \n",
       "31     1         11  KMeans(n_clusters=11, random_state=1)  \n",
       "32     2         11  KMeans(n_clusters=11, random_state=2)  \n",
       "33     3         11  KMeans(n_clusters=11, random_state=3)  \n",
       "34     4         11  KMeans(n_clusters=11, random_state=4)  \n",
       "35     0         12  KMeans(n_clusters=12, random_state=0)  \n",
       "36     1         12  KMeans(n_clusters=12, random_state=1)  \n",
       "37     2         12  KMeans(n_clusters=12, random_state=2)  \n",
       "38     3         12  KMeans(n_clusters=12, random_state=3)  \n",
       "39     4         12  KMeans(n_clusters=12, random_state=4)  \n",
       "40     0         13  KMeans(n_clusters=13, random_state=0)  \n",
       "41     1         13  KMeans(n_clusters=13, random_state=1)  \n",
       "42     2         13  KMeans(n_clusters=13, random_state=2)  \n",
       "43     3         13  KMeans(n_clusters=13, random_state=3)  \n",
       "44     4         13  KMeans(n_clusters=13, random_state=4)  \n",
       "45     0         14  KMeans(n_clusters=14, random_state=0)  \n",
       "46     1         14  KMeans(n_clusters=14, random_state=1)  \n",
       "47     2         14  KMeans(n_clusters=14, random_state=2)  \n",
       "48     3         14  KMeans(n_clusters=14, random_state=3)  \n",
       "49     4         14  KMeans(n_clusters=14, random_state=4)  "
      ]
     },
     "execution_count": 40,
     "metadata": {},
     "output_type": "execute_result"
    }
   ],
   "source": [
    "get_cluster_metrics(projection_df.iloc[0], n_init=5)"
   ]
  },
  {
   "cell_type": "code",
   "execution_count": null,
   "metadata": {},
   "outputs": [],
   "source": []
  },
  {
   "cell_type": "code",
   "execution_count": null,
   "metadata": {},
   "outputs": [],
   "source": []
  },
  {
   "cell_type": "code",
   "execution_count": null,
   "metadata": {},
   "outputs": [],
   "source": []
  },
  {
   "cell_type": "code",
   "execution_count": null,
   "metadata": {},
   "outputs": [],
   "source": []
  },
  {
   "cell_type": "code",
   "execution_count": null,
   "metadata": {},
   "outputs": [],
   "source": []
  },
  {
   "cell_type": "code",
   "execution_count": null,
   "metadata": {},
   "outputs": [],
   "source": []
  },
  {
   "cell_type": "code",
   "execution_count": null,
   "metadata": {},
   "outputs": [],
   "source": []
  }
 ],
 "metadata": {
  "kernelspec": {
   "display_name": "Python [conda env:tfumap]",
   "language": "python",
   "name": "conda-env-tfumap-py"
  },
  "language_info": {
   "codemirror_mode": {
    "name": "ipython",
    "version": 3
   },
   "file_extension": ".py",
   "mimetype": "text/x-python",
   "name": "python",
   "nbconvert_exporter": "python",
   "pygments_lexer": "ipython3",
   "version": "3.7.9"
  }
 },
 "nbformat": 4,
 "nbformat_minor": 4
}
