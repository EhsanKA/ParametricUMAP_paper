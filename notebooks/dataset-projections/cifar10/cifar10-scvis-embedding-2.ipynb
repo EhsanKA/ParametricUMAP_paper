{
 "cells": [
  {
   "cell_type": "code",
   "execution_count": 1,
   "metadata": {
    "ExecuteTime": {
     "end_time": "2021-01-14T06:03:09.317950Z",
     "start_time": "2021-01-14T06:03:09.315100Z"
    }
   },
   "outputs": [],
   "source": [
    "dataset = 'cifar10'\n",
    "algorithm = 'scvis'\n",
    "n_components = 2\n",
    "dims = (32,32,3)"
   ]
  },
  {
   "cell_type": "code",
   "execution_count": 2,
   "metadata": {
    "ExecuteTime": {
     "end_time": "2021-01-14T06:03:09.344065Z",
     "start_time": "2021-01-14T06:03:09.319597Z"
    }
   },
   "outputs": [],
   "source": [
    "# reload packages\n",
    "%load_ext autoreload\n",
    "%autoreload 2"
   ]
  },
  {
   "cell_type": "markdown",
   "metadata": {},
   "source": [
    "### Choose GPU (this may not be needed on your computer)"
   ]
  },
  {
   "cell_type": "code",
   "execution_count": 3,
   "metadata": {
    "ExecuteTime": {
     "end_time": "2021-01-14T06:03:09.358200Z",
     "start_time": "2021-01-14T06:03:09.346615Z"
    }
   },
   "outputs": [
    {
     "name": "stdout",
     "output_type": "stream",
     "text": [
      "env: CUDA_DEVICE_ORDER=PCI_BUS_ID\n",
      "env: CUDA_VISIBLE_DEVICES=1\n"
     ]
    }
   ],
   "source": [
    "%env CUDA_DEVICE_ORDER=PCI_BUS_ID\n",
    "%env CUDA_VISIBLE_DEVICES=1"
   ]
  },
  {
   "cell_type": "code",
   "execution_count": 4,
   "metadata": {
    "ExecuteTime": {
     "end_time": "2021-01-14T06:03:11.680334Z",
     "start_time": "2021-01-14T06:03:09.360099Z"
    }
   },
   "outputs": [
    {
     "name": "stderr",
     "output_type": "stream",
     "text": [
      "Using TensorFlow backend.\n"
     ]
    }
   ],
   "source": [
    "from keras.backend.tensorflow_backend import set_session\n",
    "import tensorflow as tf \n",
    "config = tf.ConfigProto()\n",
    "config.gpu_options.per_process_gpu_memory_fraction = 0.2\n",
    "set_session(tf.Session(config=config))"
   ]
  },
  {
   "cell_type": "markdown",
   "metadata": {},
   "source": [
    "### load packages"
   ]
  },
  {
   "cell_type": "code",
   "execution_count": 5,
   "metadata": {
    "ExecuteTime": {
     "end_time": "2021-01-14T06:03:21.765637Z",
     "start_time": "2021-01-14T06:03:11.682654Z"
    }
   },
   "outputs": [
    {
     "name": "stderr",
     "output_type": "stream",
     "text": [
      "/home/AD/tsainbur/anaconda3/envs/scvis2/lib/python3.7/site-packages/umap/__init__.py:9: UserWarning: Tensorflow not installed; ParametricUMAP will be unavailable\n",
      "  warn(\"Tensorflow not installed; ParametricUMAP will be unavailable\")\n",
      "/mnt/cube/tsainbur/Projects/github_repos/umap_tf_networks/tfumap/umap.py:7: TqdmExperimentalWarning: Using `tqdm.autonotebook.tqdm` in notebook mode. Use `tqdm.tqdm` instead to force console mode (e.g. in jupyter console)\n",
      "  from tqdm.autonotebook import tqdm\n"
     ]
    }
   ],
   "source": [
    "from tfumap.umap import tfUMAP"
   ]
  },
  {
   "cell_type": "code",
   "execution_count": 6,
   "metadata": {
    "ExecuteTime": {
     "end_time": "2021-01-14T06:03:21.935577Z",
     "start_time": "2021-01-14T06:03:21.767865Z"
    }
   },
   "outputs": [],
   "source": [
    "import tensorflow as tf\n",
    "import numpy as np\n",
    "import matplotlib.pyplot as plt\n",
    "from tqdm.autonotebook import tqdm\n",
    "import umap\n",
    "import pandas as pd"
   ]
  },
  {
   "cell_type": "markdown",
   "metadata": {},
   "source": [
    "### Load dataset"
   ]
  },
  {
   "cell_type": "code",
   "execution_count": 7,
   "metadata": {
    "ExecuteTime": {
     "end_time": "2021-01-14T06:03:21.967858Z",
     "start_time": "2021-01-14T06:03:21.936875Z"
    }
   },
   "outputs": [],
   "source": [
    "from tensorflow.keras.datasets import mnist"
   ]
  },
  {
   "cell_type": "code",
   "execution_count": 8,
   "metadata": {
    "ExecuteTime": {
     "end_time": "2021-01-14T06:03:23.132184Z",
     "start_time": "2021-01-14T06:03:21.969196Z"
    }
   },
   "outputs": [
    {
     "name": "stdout",
     "output_type": "stream",
     "text": [
      "40000 10000 10000\n"
     ]
    }
   ],
   "source": [
    "from tensorflow.keras.datasets import cifar10\n",
    "\n",
    "# load dataset\n",
    "(train_images, Y_train), (test_images, Y_test) = cifar10.load_data()\n",
    "X_train = (train_images/255.).astype('float32')\n",
    "X_test = (test_images/255.).astype('float32')\n",
    "X_train = X_train.reshape((len(X_train), np.product(np.shape(X_train)[1:])))\n",
    "X_test = X_test.reshape((len(X_test), np.product(np.shape(X_test)[1:])))\n",
    "\n",
    "# subset a validation set\n",
    "n_valid = 10000\n",
    "X_valid = X_train[-n_valid:]\n",
    "Y_valid = Y_train[-n_valid:]\n",
    "X_train = X_train[:-n_valid]\n",
    "Y_train = Y_train[:-n_valid]\n",
    "\n",
    "# flatten X\n",
    "X_train_flat = X_train.reshape((len(X_train), np.product(np.shape(X_train)[1:])))\n",
    "X_test_flat = X_test.reshape((len(X_test), np.product(np.shape(X_test)[1:])))\n",
    "X_valid_flat= X_valid.reshape((len(X_valid), np.product(np.shape(X_valid)[1:])))\n",
    "print(len(X_train), len(X_valid), len(X_test))"
   ]
  },
  {
   "cell_type": "markdown",
   "metadata": {},
   "source": [
    "### Create model and train"
   ]
  },
  {
   "cell_type": "code",
   "execution_count": 9,
   "metadata": {
    "ExecuteTime": {
     "end_time": "2021-01-14T06:03:23.177853Z",
     "start_time": "2021-01-14T06:03:23.134108Z"
    }
   },
   "outputs": [
    {
     "name": "stdout",
     "output_type": "stream",
     "text": [
      "WARNING:tensorflow:\n",
      "The TensorFlow contrib module will not be included in TensorFlow 2.0.\n",
      "For more information, please see:\n",
      "  * https://github.com/tensorflow/community/blob/master/rfcs/20180907-contrib-sunset.md\n",
      "  * https://github.com/tensorflow/addons\n",
      "  * https://github.com/tensorflow/io (for I/O related ops)\n",
      "If you depend on functionality not listed there, please file an issue.\n",
      "\n"
     ]
    }
   ],
   "source": [
    "from scvis.run import train, map"
   ]
  },
  {
   "cell_type": "code",
   "execution_count": 10,
   "metadata": {
    "ExecuteTime": {
     "end_time": "2021-01-14T06:03:23.217066Z",
     "start_time": "2021-01-14T06:03:23.179337Z"
    }
   },
   "outputs": [],
   "source": [
    "from scvis.model import SCVIS"
   ]
  },
  {
   "cell_type": "code",
   "execution_count": 11,
   "metadata": {
    "ExecuteTime": {
     "end_time": "2021-01-14T06:03:23.252010Z",
     "start_time": "2021-01-14T06:03:23.218648Z"
    }
   },
   "outputs": [],
   "source": [
    "x = X_train_flat"
   ]
  },
  {
   "cell_type": "code",
   "execution_count": 12,
   "metadata": {
    "ExecuteTime": {
     "end_time": "2021-01-14T06:03:23.284389Z",
     "start_time": "2021-01-14T06:03:23.253210Z"
    }
   },
   "outputs": [],
   "source": [
    "hyperparameter =  {\n",
    "  'optimization': {\n",
    "    'method': 'Adam',\n",
    "    'learning_rate': 0.01\n",
    "  },\n",
    "\n",
    "  'batch_size': 512,\n",
    "  'max_epoch': 100,\n",
    "  'regularizer_l2': 0.001,\n",
    "\n",
    "  'perplexity': 10,\n",
    "\n",
    "  'seed': 1\n",
    "}\n",
    "\n",
    "architecture = {\n",
    "  'latent_dimension': 2,\n",
    "\n",
    "  'inference': {\n",
    "    'layer_size': [128, 64, 32],\n",
    "  },\n",
    "\n",
    "  'model': {\n",
    "    'layer_size': [32, 32, 32, 64, 128],\n",
    "  },\n",
    "\n",
    "  'activation': \"ELU\"\n",
    "}"
   ]
  },
  {
   "cell_type": "code",
   "execution_count": 13,
   "metadata": {
    "ExecuteTime": {
     "end_time": "2021-01-14T06:03:23.317869Z",
     "start_time": "2021-01-14T06:03:23.285730Z"
    }
   },
   "outputs": [],
   "source": [
    "architecture.update({'input_dimension': x.shape[1]})"
   ]
  },
  {
   "cell_type": "code",
   "execution_count": 14,
   "metadata": {
    "ExecuteTime": {
     "end_time": "2021-01-14T06:03:24.194968Z",
     "start_time": "2021-01-14T06:03:23.319014Z"
    },
    "scrolled": true
   },
   "outputs": [
    {
     "name": "stdout",
     "output_type": "stream",
     "text": [
      "WARNING:tensorflow:From /mnt/cube/tsainbur/Projects/github_repos/scvis/lib/scvis/model.py:24: The name tf.reset_default_graph is deprecated. Please use tf.compat.v1.reset_default_graph instead.\n",
      "\n",
      "WARNING:tensorflow:From /mnt/cube/tsainbur/Projects/github_repos/scvis/lib/scvis/model.py:28: The name tf.InteractiveSession is deprecated. Please use tf.compat.v1.InteractiveSession instead.\n",
      "\n",
      "Device mapping:\n",
      "/job:localhost/replica:0/task:0/device:XLA_CPU:0 -> device: XLA_CPU device\n",
      "/job:localhost/replica:0/task:0/device:GPU:0 -> device: 0, name: Quadro RTX 6000, pci bus id: 0000:81:00.0, compute capability: 7.5\n",
      "/job:localhost/replica:0/task:0/device:XLA_GPU:0 -> device: XLA_GPU device\n",
      "\n",
      "WARNING:tensorflow:From /mnt/cube/tsainbur/Projects/github_repos/scvis/lib/scvis/model.py:41: The name tf.set_random_seed is deprecated. Please use tf.compat.v1.set_random_seed instead.\n",
      "\n",
      "WARNING:tensorflow:From /mnt/cube/tsainbur/Projects/github_repos/scvis/lib/scvis/model.py:44: The name tf.placeholder is deprecated. Please use tf.compat.v1.placeholder instead.\n",
      "\n",
      "WARNING:tensorflow:From /mnt/cube/tsainbur/Projects/github_repos/scvis/lib/scvis/tf_helper.py:12: The name tf.truncated_normal is deprecated. Please use tf.random.truncated_normal instead.\n",
      "\n",
      "WARNING:tensorflow:From /mnt/cube/tsainbur/Projects/github_repos/scvis/lib/scvis/vae.py:139: calling dropout (from tensorflow.python.ops.nn_ops) with keep_prob is deprecated and will be removed in a future version.\n",
      "Instructions for updating:\n",
      "Please use `rate` instead of `keep_prob`. Rate should be set to `rate = 1 - keep_prob`.\n",
      "WARNING:tensorflow:From /mnt/cube/tsainbur/Projects/github_repos/scvis/lib/scvis/vae.py:68: The name tf.random_normal is deprecated. Please use tf.random.normal instead.\n",
      "\n",
      "WARNING:tensorflow:From /mnt/cube/tsainbur/Projects/github_repos/scvis/lib/scvis/likelihood.py:17: StudentT.__init__ (from tensorflow.python.ops.distributions.student_t) is deprecated and will be removed after 2019-01-01.\n",
      "Instructions for updating:\n",
      "The TensorFlow Distributions library has moved to TensorFlow Probability (https://github.com/tensorflow/probability). You should update all references to use `tfp.distributions` instead of `tf.distributions`.\n",
      "WARNING:tensorflow:From /home/AD/tsainbur/anaconda3/envs/scvis2/lib/python3.7/site-packages/tensorflow_core/python/ops/distributions/student_t.py:204: Distribution.__init__ (from tensorflow.python.ops.distributions.distribution) is deprecated and will be removed after 2019-01-01.\n",
      "Instructions for updating:\n",
      "The TensorFlow Distributions library has moved to TensorFlow Probability (https://github.com/tensorflow/probability). You should update all references to use `tfp.distributions` instead of `tf.distributions`.\n",
      "WARNING:tensorflow:From /mnt/cube/tsainbur/Projects/github_repos/scvis/lib/scvis/model.py:81: The name tf.log is deprecated. Please use tf.math.log instead.\n",
      "\n",
      "WARNING:tensorflow:From /mnt/cube/tsainbur/Projects/github_repos/scvis/lib/scvis/model.py:101: The name tf.train.AdamOptimizer is deprecated. Please use tf.compat.v1.train.AdamOptimizer instead.\n",
      "\n",
      "WARNING:tensorflow:From /home/AD/tsainbur/anaconda3/envs/scvis2/lib/python3.7/site-packages/tensorflow_core/python/ops/math_grad.py:1375: where (from tensorflow.python.ops.array_ops) is deprecated and will be removed in a future version.\n",
      "Instructions for updating:\n",
      "Use tf.where in 2.0, which has the same broadcast rule as np.where\n",
      "WARNING:tensorflow:From /mnt/cube/tsainbur/Projects/github_repos/scvis/lib/scvis/model.py:110: The name tf.train.Saver is deprecated. Please use tf.compat.v1.train.Saver instead.\n",
      "\n"
     ]
    }
   ],
   "source": [
    "model = SCVIS(architecture, hyperparameter)"
   ]
  },
  {
   "cell_type": "code",
   "execution_count": 15,
   "metadata": {
    "ExecuteTime": {
     "end_time": "2021-01-14T06:03:24.228648Z",
     "start_time": "2021-01-14T06:03:24.196152Z"
    }
   },
   "outputs": [],
   "source": [
    "y = None"
   ]
  },
  {
   "cell_type": "code",
   "execution_count": 16,
   "metadata": {
    "ExecuteTime": {
     "end_time": "2021-01-14T06:03:24.261059Z",
     "start_time": "2021-01-14T06:03:24.229720Z"
    }
   },
   "outputs": [],
   "source": [
    "from scvis import data"
   ]
  },
  {
   "cell_type": "code",
   "execution_count": 17,
   "metadata": {
    "ExecuteTime": {
     "end_time": "2021-01-14T06:03:24.404887Z",
     "start_time": "2021-01-14T06:03:24.262146Z"
    }
   },
   "outputs": [],
   "source": [
    "train_data = data.DataSet(x, y)"
   ]
  },
  {
   "cell_type": "code",
   "execution_count": 18,
   "metadata": {
    "ExecuteTime": {
     "end_time": "2021-01-14T06:32:49.328625Z",
     "start_time": "2021-01-14T06:03:24.406054Z"
    },
    "scrolled": false
   },
   "outputs": [
    {
     "name": "stdout",
     "output_type": "stream",
     "text": [
      "WARNING:tensorflow:From /mnt/cube/tsainbur/Projects/github_repos/scvis/lib/scvis/model.py:185: The name tf.global_variables_initializer is deprecated. Please use tf.compat.v1.global_variables_initializer instead.\n",
      "\n",
      "Batch 0\n",
      "elbo: -8874.041015625\n",
      "scaled_tsne_cost: 6.366562366485596\n",
      "\n",
      "Batch 50\n",
      "elbo: -1506.6805419921875\n",
      "scaled_tsne_cost: 327.0157165527344\n",
      "\n",
      "Batch 100\n",
      "elbo: -94.1098861694336\n",
      "scaled_tsne_cost: 642.4794311523438\n",
      "\n",
      "Batch 150\n",
      "elbo: -131.9769287109375\n",
      "scaled_tsne_cost: 954.8661499023438\n",
      "\n",
      "Batch 200\n",
      "elbo: -102.85028076171875\n",
      "scaled_tsne_cost: 1262.8797607421875\n",
      "\n",
      "Batch 250\n",
      "elbo: -30.692108154296875\n",
      "scaled_tsne_cost: 1569.11328125\n",
      "\n",
      "Batch 300\n",
      "elbo: 17.61397361755371\n",
      "scaled_tsne_cost: 1886.032958984375\n",
      "\n",
      "Batch 350\n",
      "elbo: 56.81317901611328\n",
      "scaled_tsne_cost: 2193.9423828125\n",
      "\n",
      "Batch 400\n",
      "elbo: 103.89656829833984\n",
      "scaled_tsne_cost: 2505.537353515625\n",
      "\n",
      "Batch 450\n",
      "elbo: 140.06968688964844\n",
      "scaled_tsne_cost: 2786.4453125\n",
      "\n",
      "Batch 500\n",
      "elbo: 357.009521484375\n",
      "scaled_tsne_cost: 2802.614990234375\n",
      "\n",
      "Batch 550\n",
      "elbo: 467.0357360839844\n",
      "scaled_tsne_cost: 3102.600341796875\n",
      "\n",
      "Batch 600\n",
      "elbo: 295.4949951171875\n",
      "scaled_tsne_cost: 3386.37060546875\n",
      "\n",
      "Batch 650\n",
      "elbo: 522.1981811523438\n",
      "scaled_tsne_cost: 3657.095703125\n",
      "\n",
      "Batch 700\n",
      "elbo: 524.3505249023438\n",
      "scaled_tsne_cost: 3923.05859375\n",
      "\n",
      "Batch 750\n",
      "elbo: 382.1178283691406\n",
      "scaled_tsne_cost: 4205.45751953125\n",
      "\n",
      "Batch 800\n",
      "elbo: 399.5433654785156\n",
      "scaled_tsne_cost: 4475.7744140625\n",
      "\n",
      "Batch 850\n",
      "elbo: 503.4037170410156\n",
      "scaled_tsne_cost: 4742.4794921875\n",
      "\n",
      "Batch 900\n",
      "elbo: 605.4891357421875\n",
      "scaled_tsne_cost: 5082.5068359375\n",
      "\n",
      "Batch 950\n",
      "elbo: 824.2401123046875\n",
      "scaled_tsne_cost: 5091.802734375\n",
      "\n",
      "Time used for training: 0:29:24.386221\n",
      "\n"
     ]
    }
   ],
   "source": [
    "es = model.train(data=train_data,\n",
    "                      batch_size=hyperparameter['batch_size'],\n",
    "                      verbose=True,\n",
    "                      verbose_interval=50,\n",
    "                      show_plot=False,\n",
    "                      plot_dir=None,\n",
    "                      max_iter=1000,\n",
    "                      pretrained_model=None)"
   ]
  },
  {
   "cell_type": "code",
   "execution_count": 19,
   "metadata": {
    "ExecuteTime": {
     "end_time": "2021-01-14T06:32:49.649689Z",
     "start_time": "2021-01-14T06:32:49.330065Z"
    }
   },
   "outputs": [],
   "source": [
    "z, _ = model.encode(x)"
   ]
  },
  {
   "cell_type": "markdown",
   "metadata": {},
   "source": [
    "### Plot model output"
   ]
  },
  {
   "cell_type": "code",
   "execution_count": 20,
   "metadata": {
    "ExecuteTime": {
     "end_time": "2021-01-14T06:32:49.695017Z",
     "start_time": "2021-01-14T06:32:49.653910Z"
    }
   },
   "outputs": [],
   "source": [
    "%matplotlib inline"
   ]
  },
  {
   "cell_type": "code",
   "execution_count": 21,
   "metadata": {
    "ExecuteTime": {
     "end_time": "2021-01-14T06:32:50.786234Z",
     "start_time": "2021-01-14T06:32:49.696887Z"
    }
   },
   "outputs": [
    {
     "data": {
      "image/png": "[encoded data removed]",
      "text/plain": [
       "<Figure size 576x576 with 2 Axes>"
      ]
     },
     "metadata": {
      "needs_background": "light"
     },
     "output_type": "display_data"
    }
   ],
   "source": [
    "fig, ax = plt.subplots( figsize=(8, 8))\n",
    "sc = ax.scatter(\n",
    "    z[:, 0],\n",
    "    z[:, 1],\n",
    "    c=Y_train.astype(int)[:len(z)],\n",
    "    cmap=\"tab10\",\n",
    "    s=0.1,\n",
    "    alpha=0.5,\n",
    "    rasterized=True,\n",
    ")\n",
    "ax.axis('equal')\n",
    "ax.set_title(\"UMAP in Tensorflow embedding\", fontsize=20)\n",
    "plt.colorbar(sc, ax=ax);"
   ]
  },
  {
   "cell_type": "markdown",
   "metadata": {},
   "source": [
    "### Save output"
   ]
  },
  {
   "cell_type": "code",
   "execution_count": 22,
   "metadata": {
    "ExecuteTime": {
     "end_time": "2021-01-14T06:32:50.830261Z",
     "start_time": "2021-01-14T06:32:50.787239Z"
    }
   },
   "outputs": [],
   "source": [
    "from tfumap.paths import ensure_dir, MODEL_DIR"
   ]
  },
  {
   "cell_type": "code",
   "execution_count": 63,
   "metadata": {
    "ExecuteTime": {
     "end_time": "2021-01-14T18:16:18.445759Z",
     "start_time": "2021-01-14T18:16:18.382785Z"
    }
   },
   "outputs": [
    {
     "data": {
      "text/plain": [
       "PosixPath('/mnt/cube/tsainbur/Projects/github_repos/umap_tf_networks/models')"
      ]
     },
     "execution_count": 63,
     "metadata": {},
     "output_type": "execute_result"
    }
   ],
   "source": [
    "MODEL_DIR"
   ]
  },
  {
   "cell_type": "code",
   "execution_count": 23,
   "metadata": {
    "ExecuteTime": {
     "end_time": "2021-01-14T06:32:50.873316Z",
     "start_time": "2021-01-14T06:32:50.834214Z"
    }
   },
   "outputs": [],
   "source": [
    "output_dir = MODEL_DIR/'projections'/ dataset / algorithm\n",
    "ensure_dir(output_dir)"
   ]
  },
  {
   "cell_type": "code",
   "execution_count": 24,
   "metadata": {
    "ExecuteTime": {
     "end_time": "2021-01-14T06:32:51.180486Z",
     "start_time": "2021-01-14T06:32:50.877492Z"
    }
   },
   "outputs": [],
   "source": [
    "model.save_sess((output_dir / algorithm).as_posix())"
   ]
  },
  {
   "cell_type": "code",
   "execution_count": 25,
   "metadata": {
    "ExecuteTime": {
     "end_time": "2021-01-14T06:32:51.233442Z",
     "start_time": "2021-01-14T06:32:51.182546Z"
    }
   },
   "outputs": [],
   "source": [
    "#loss_df.to_pickle(output_dir / 'loss_df.pickle')"
   ]
  },
  {
   "cell_type": "code",
   "execution_count": 26,
   "metadata": {
    "ExecuteTime": {
     "end_time": "2021-01-14T06:32:51.279671Z",
     "start_time": "2021-01-14T06:32:51.237749Z"
    }
   },
   "outputs": [],
   "source": [
    "np.save(output_dir / 'z.npy', z)"
   ]
  },
  {
   "cell_type": "markdown",
   "metadata": {},
   "source": [
    "### compute metrics "
   ]
  },
  {
   "cell_type": "code",
   "execution_count": 27,
   "metadata": {
    "ExecuteTime": {
     "end_time": "2021-01-14T06:32:51.325672Z",
     "start_time": "2021-01-14T06:32:51.285273Z"
    }
   },
   "outputs": [
    {
     "data": {
      "text/plain": [
       "(10000, 3072)"
      ]
     },
     "execution_count": 27,
     "metadata": {},
     "output_type": "execute_result"
    }
   ],
   "source": [
    "X_test.shape"
   ]
  },
  {
   "cell_type": "code",
   "execution_count": 28,
   "metadata": {
    "ExecuteTime": {
     "end_time": "2021-01-14T06:32:51.462826Z",
     "start_time": "2021-01-14T06:32:51.329142Z"
    }
   },
   "outputs": [],
   "source": [
    "z_test, _ = model.encode(X_test)"
   ]
  },
  {
   "cell_type": "markdown",
   "metadata": {},
   "source": [
    "#### silhouette"
   ]
  },
  {
   "cell_type": "code",
   "execution_count": 29,
   "metadata": {
    "ExecuteTime": {
     "end_time": "2021-01-14T06:32:51.510226Z",
     "start_time": "2021-01-14T06:32:51.467500Z"
    }
   },
   "outputs": [],
   "source": [
    "from tfumap.silhouette import silhouette_score_block"
   ]
  },
  {
   "cell_type": "code",
   "execution_count": 30,
   "metadata": {
    "ExecuteTime": {
     "end_time": "2021-01-14T06:32:56.153820Z",
     "start_time": "2021-01-14T06:32:51.513814Z"
    }
   },
   "outputs": [
    {
     "data": {
      "text/plain": [
       "-0.11899440640594633"
      ]
     },
     "execution_count": 30,
     "metadata": {},
     "output_type": "execute_result"
    }
   ],
   "source": [
    "ss, sil_samp = silhouette_score_block(z, Y_train, n_jobs = -1)\n",
    "ss"
   ]
  },
  {
   "cell_type": "code",
   "execution_count": 31,
   "metadata": {
    "ExecuteTime": {
     "end_time": "2021-01-14T06:32:56.409111Z",
     "start_time": "2021-01-14T06:32:56.155079Z"
    }
   },
   "outputs": [
    {
     "data": {
      "text/plain": [
       "-0.1245753635950784"
      ]
     },
     "execution_count": 31,
     "metadata": {},
     "output_type": "execute_result"
    }
   ],
   "source": [
    "ss_test, sil_samp_test = silhouette_score_block(z_test, Y_test, n_jobs = -1)\n",
    "ss_test"
   ]
  },
  {
   "cell_type": "code",
   "execution_count": 32,
   "metadata": {
    "ExecuteTime": {
     "end_time": "2021-01-14T06:32:57.352791Z",
     "start_time": "2021-01-14T06:32:56.410288Z"
    }
   },
   "outputs": [
    {
     "data": {
      "text/plain": [
       "<matplotlib.collections.PathCollection at 0x7f7099171890>"
      ]
     },
     "execution_count": 32,
     "metadata": {},
     "output_type": "execute_result"
    },
    {
     "data": {
      "image/png": "[encoded data removed]",
      "text/plain": [
       "<Figure size 720x360 with 2 Axes>"
      ]
     },
     "metadata": {
      "needs_background": "light"
     },
     "output_type": "display_data"
    }
   ],
   "source": [
    "fig, axs = plt.subplots(ncols = 2, figsize=(10, 5))\n",
    "axs[0].scatter(z[:, 0], z[:, 1], s=0.1, alpha=0.5, c=sil_samp, cmap=plt.cm.viridis)\n",
    "axs[1].scatter(z_test[:, 0], z_test[:, 1], s=1, alpha=0.5, c=sil_samp_test, cmap=plt.cm.viridis)"
   ]
  },
  {
   "cell_type": "markdown",
   "metadata": {},
   "source": [
    "#### KNN"
   ]
  },
  {
   "cell_type": "code",
   "execution_count": 33,
   "metadata": {
    "ExecuteTime": {
     "end_time": "2021-01-14T06:32:57.395962Z",
     "start_time": "2021-01-14T06:32:57.355510Z"
    }
   },
   "outputs": [],
   "source": [
    "from sklearn.neighbors import KNeighborsClassifier"
   ]
  },
  {
   "cell_type": "code",
   "execution_count": 34,
   "metadata": {
    "ExecuteTime": {
     "end_time": "2021-01-14T06:32:57.752653Z",
     "start_time": "2021-01-14T06:32:57.397529Z"
    }
   },
   "outputs": [
    {
     "name": "stderr",
     "output_type": "stream",
     "text": [
      "/home/AD/tsainbur/anaconda3/envs/scvis2/lib/python3.7/site-packages/sklearn/neighbors/_classification.py:179: DataConversionWarning: A column-vector y was passed when a 1d array was expected. Please change the shape of y to (n_samples,), for example using ravel().\n",
      "  return self._fit(X, y)\n"
     ]
    },
    {
     "data": {
      "text/plain": [
       "0.1584"
      ]
     },
     "execution_count": 34,
     "metadata": {},
     "output_type": "execute_result"
    }
   ],
   "source": [
    "neigh5 = KNeighborsClassifier(n_neighbors=5)\n",
    "neigh5.fit(z, Y_train)\n",
    "score_5nn = neigh5.score(z_test, Y_test)\n",
    "score_5nn"
   ]
  },
  {
   "cell_type": "code",
   "execution_count": 35,
   "metadata": {
    "ExecuteTime": {
     "end_time": "2021-01-14T06:32:58.083668Z",
     "start_time": "2021-01-14T06:32:57.754164Z"
    }
   },
   "outputs": [
    {
     "name": "stderr",
     "output_type": "stream",
     "text": [
      "/home/AD/tsainbur/anaconda3/envs/scvis2/lib/python3.7/site-packages/sklearn/neighbors/_classification.py:179: DataConversionWarning: A column-vector y was passed when a 1d array was expected. Please change the shape of y to (n_samples,), for example using ravel().\n",
      "  return self._fit(X, y)\n"
     ]
    },
    {
     "data": {
      "text/plain": [
       "0.138"
      ]
     },
     "execution_count": 35,
     "metadata": {},
     "output_type": "execute_result"
    }
   ],
   "source": [
    "neigh1 = KNeighborsClassifier(n_neighbors=1)\n",
    "neigh1.fit(z, Y_train)\n",
    "score_1nn = neigh1.score(z_test, Y_test)\n",
    "score_1nn"
   ]
  },
  {
   "cell_type": "markdown",
   "metadata": {},
   "source": [
    "#### Trustworthiness"
   ]
  },
  {
   "cell_type": "code",
   "execution_count": 36,
   "metadata": {
    "ExecuteTime": {
     "end_time": "2021-01-14T06:32:58.130454Z",
     "start_time": "2021-01-14T06:32:58.087424Z"
    }
   },
   "outputs": [],
   "source": [
    "from sklearn.manifold import trustworthiness"
   ]
  },
  {
   "cell_type": "code",
   "execution_count": 37,
   "metadata": {
    "ExecuteTime": {
     "end_time": "2021-01-14T06:33:13.493743Z",
     "start_time": "2021-01-14T06:32:58.135056Z"
    }
   },
   "outputs": [],
   "source": [
    "tw = trustworthiness(X_train_flat[:10000], z[:10000])"
   ]
  },
  {
   "cell_type": "code",
   "execution_count": 38,
   "metadata": {
    "ExecuteTime": {
     "end_time": "2021-01-14T06:33:29.809987Z",
     "start_time": "2021-01-14T06:33:13.495478Z"
    }
   },
   "outputs": [],
   "source": [
    "tw_test = trustworthiness(X_test_flat[:10000], z_test[:10000])"
   ]
  },
  {
   "cell_type": "code",
   "execution_count": 39,
   "metadata": {
    "ExecuteTime": {
     "end_time": "2021-01-14T06:33:29.858910Z",
     "start_time": "2021-01-14T06:33:29.811710Z"
    }
   },
   "outputs": [
    {
     "data": {
      "text/plain": [
       "(0.8163770876701362, 0.8149122558046438)"
      ]
     },
     "execution_count": 39,
     "metadata": {},
     "output_type": "execute_result"
    }
   ],
   "source": [
    "tw, tw_test"
   ]
  },
  {
   "cell_type": "markdown",
   "metadata": {},
   "source": [
    "### Save output metrics"
   ]
  },
  {
   "cell_type": "code",
   "execution_count": 40,
   "metadata": {
    "ExecuteTime": {
     "end_time": "2021-01-14T06:33:29.903973Z",
     "start_time": "2021-01-14T06:33:29.860230Z"
    }
   },
   "outputs": [],
   "source": [
    "from tfumap.paths import ensure_dir, MODEL_DIR, DATA_DIR"
   ]
  },
  {
   "cell_type": "markdown",
   "metadata": {},
   "source": [
    "#### train"
   ]
  },
  {
   "cell_type": "code",
   "execution_count": 41,
   "metadata": {
    "ExecuteTime": {
     "end_time": "2021-01-14T06:33:29.978445Z",
     "start_time": "2021-01-14T06:33:29.908729Z"
    }
   },
   "outputs": [
    {
     "data": {
      "text/html": [
       "<div>\n",
       "<style scoped>\n",
       "    .dataframe tbody tr th:only-of-type {\n",
       "        vertical-align: middle;\n",
       "    }\n",
       "\n",
       "    .dataframe tbody tr th {\n",
       "        vertical-align: top;\n",
       "    }\n",
       "\n",
       "    .dataframe thead th {\n",
       "        text-align: right;\n",
       "    }\n",
       "</style>\n",
       "<table border=\"1\" class=\"dataframe\">\n",
       "  <thead>\n",
       "    <tr style=\"text-align: right;\">\n",
       "      <th></th>\n",
       "      <th>dataset</th>\n",
       "      <th>class_</th>\n",
       "      <th>dim</th>\n",
       "      <th>trustworthiness</th>\n",
       "      <th>silhouette_score</th>\n",
       "      <th>silhouette_samples</th>\n",
       "    </tr>\n",
       "  </thead>\n",
       "  <tbody>\n",
       "    <tr>\n",
       "      <th>0</th>\n",
       "      <td>cifar10</td>\n",
       "      <td>scvis</td>\n",
       "      <td>2</td>\n",
       "      <td>0.816377</td>\n",
       "      <td>-0.118994</td>\n",
       "      <td>[-0.03122382004533252, -0.07741103088522837, 0...</td>\n",
       "    </tr>\n",
       "  </tbody>\n",
       "</table>\n",
       "</div>"
      ],
      "text/plain": [
       "   dataset class_ dim  trustworthiness  silhouette_score  \\\n",
       "0  cifar10  scvis   2         0.816377         -0.118994   \n",
       "\n",
       "                                  silhouette_samples  \n",
       "0  [-0.03122382004533252, -0.07741103088522837, 0...  "
      ]
     },
     "execution_count": 41,
     "metadata": {},
     "output_type": "execute_result"
    }
   ],
   "source": [
    "metrics_df = pd.DataFrame(\n",
    "    columns=[\n",
    "        \"dataset\",\n",
    "        \"class_\",\n",
    "        \"dim\",\n",
    "        \"trustworthiness\",\n",
    "        \"silhouette_score\",\n",
    "        \"silhouette_samples\",\n",
    "    ]\n",
    ")\n",
    "metrics_df.loc[len(metrics_df)] = [dataset, algorithm, n_components, tw, ss, sil_samp]\n",
    "metrics_df"
   ]
  },
  {
   "cell_type": "code",
   "execution_count": 42,
   "metadata": {
    "ExecuteTime": {
     "end_time": "2021-01-14T06:33:30.034261Z",
     "start_time": "2021-01-14T06:33:29.982625Z"
    }
   },
   "outputs": [],
   "source": [
    "save_loc = DATA_DIR / 'projection_metrics' /  algorithm / 'train' / str(n_components) / (dataset + '.pickle')\n",
    "ensure_dir(save_loc)\n",
    "metrics_df.to_pickle(save_loc)"
   ]
  },
  {
   "cell_type": "markdown",
   "metadata": {},
   "source": [
    "#### test"
   ]
  },
  {
   "cell_type": "code",
   "execution_count": 43,
   "metadata": {
    "ExecuteTime": {
     "end_time": "2021-01-14T06:33:30.104352Z",
     "start_time": "2021-01-14T06:33:30.039165Z"
    }
   },
   "outputs": [
    {
     "data": {
      "text/html": [
       "<div>\n",
       "<style scoped>\n",
       "    .dataframe tbody tr th:only-of-type {\n",
       "        vertical-align: middle;\n",
       "    }\n",
       "\n",
       "    .dataframe tbody tr th {\n",
       "        vertical-align: top;\n",
       "    }\n",
       "\n",
       "    .dataframe thead th {\n",
       "        text-align: right;\n",
       "    }\n",
       "</style>\n",
       "<table border=\"1\" class=\"dataframe\">\n",
       "  <thead>\n",
       "    <tr style=\"text-align: right;\">\n",
       "      <th></th>\n",
       "      <th>dataset</th>\n",
       "      <th>class_</th>\n",
       "      <th>dim</th>\n",
       "      <th>trustworthiness</th>\n",
       "      <th>silhouette_score</th>\n",
       "      <th>silhouette_samples</th>\n",
       "    </tr>\n",
       "  </thead>\n",
       "  <tbody>\n",
       "    <tr>\n",
       "      <th>1</th>\n",
       "      <td>cifar10</td>\n",
       "      <td>scvis</td>\n",
       "      <td>2</td>\n",
       "      <td>0.814912</td>\n",
       "      <td>-0.124575</td>\n",
       "      <td>[-0.15727363928179566, 0.025485371871764757, -...</td>\n",
       "    </tr>\n",
       "  </tbody>\n",
       "</table>\n",
       "</div>"
      ],
      "text/plain": [
       "   dataset class_ dim  trustworthiness  silhouette_score  \\\n",
       "1  cifar10  scvis   2         0.814912         -0.124575   \n",
       "\n",
       "                                  silhouette_samples  \n",
       "1  [-0.15727363928179566, 0.025485371871764757, -...  "
      ]
     },
     "execution_count": 43,
     "metadata": {},
     "output_type": "execute_result"
    }
   ],
   "source": [
    "metrics_df_test = pd.DataFrame(\n",
    "    columns=[\n",
    "        \"dataset\",\n",
    "        \"class_\",\n",
    "        \"dim\",\n",
    "        \"trustworthiness\",\n",
    "        \"silhouette_score\",\n",
    "        \"silhouette_samples\",\n",
    "    ]\n",
    ")\n",
    "metrics_df_test.loc[len(metrics_df)] = [dataset, algorithm, n_components, tw_test, ss_test, sil_samp_test]\n",
    "metrics_df_test"
   ]
  },
  {
   "cell_type": "code",
   "execution_count": 44,
   "metadata": {
    "ExecuteTime": {
     "end_time": "2021-01-14T06:33:30.157253Z",
     "start_time": "2021-01-14T06:33:30.108662Z"
    }
   },
   "outputs": [],
   "source": [
    "save_loc = DATA_DIR / 'projection_metrics' / algorithm / 'test' / str(n_components) / (dataset + '.pickle')\n",
    "ensure_dir(save_loc)\n",
    "metrics_df.to_pickle(save_loc)"
   ]
  },
  {
   "cell_type": "markdown",
   "metadata": {},
   "source": [
    "#### knn "
   ]
  },
  {
   "cell_type": "code",
   "execution_count": 45,
   "metadata": {
    "ExecuteTime": {
     "end_time": "2021-01-14T06:33:30.233038Z",
     "start_time": "2021-01-14T06:33:30.166018Z"
    }
   },
   "outputs": [
    {
     "data": {
      "text/html": [
       "<div>\n",
       "<style scoped>\n",
       "    .dataframe tbody tr th:only-of-type {\n",
       "        vertical-align: middle;\n",
       "    }\n",
       "\n",
       "    .dataframe tbody tr th {\n",
       "        vertical-align: top;\n",
       "    }\n",
       "\n",
       "    .dataframe thead th {\n",
       "        text-align: right;\n",
       "    }\n",
       "</style>\n",
       "<table border=\"1\" class=\"dataframe\">\n",
       "  <thead>\n",
       "    <tr style=\"text-align: right;\">\n",
       "      <th></th>\n",
       "      <th>method_</th>\n",
       "      <th>dimensions</th>\n",
       "      <th>dataset</th>\n",
       "      <th>1NN_acc</th>\n",
       "      <th>5NN_acc</th>\n",
       "    </tr>\n",
       "  </thead>\n",
       "  <tbody>\n",
       "    <tr>\n",
       "      <th>0</th>\n",
       "      <td>scvis</td>\n",
       "      <td>2</td>\n",
       "      <td>cifar10</td>\n",
       "      <td>0.138</td>\n",
       "      <td>0.1584</td>\n",
       "    </tr>\n",
       "  </tbody>\n",
       "</table>\n",
       "</div>"
      ],
      "text/plain": [
       "  method_ dimensions  dataset  1NN_acc  5NN_acc\n",
       "0   scvis          2  cifar10    0.138   0.1584"
      ]
     },
     "execution_count": 45,
     "metadata": {},
     "output_type": "execute_result"
    }
   ],
   "source": [
    "nn_acc_df = pd.DataFrame(columns = [\"method_\",\"dimensions\",\"dataset\",\"1NN_acc\",\"5NN_acc\"])\n",
    "nn_acc_df.loc[len(nn_acc_df)] = [algorithm, n_components, dataset,  score_1nn, score_5nn]\n",
    "nn_acc_df"
   ]
  },
  {
   "cell_type": "code",
   "execution_count": 46,
   "metadata": {
    "ExecuteTime": {
     "end_time": "2021-01-14T06:33:30.284151Z",
     "start_time": "2021-01-14T06:33:30.237225Z"
    }
   },
   "outputs": [],
   "source": [
    "save_loc = DATA_DIR / 'knn_classifier' / algorithm / 'train' / str(n_components) / (dataset + '.pickle')\n",
    "ensure_dir(save_loc)\n",
    "nn_acc_df.to_pickle(save_loc)"
   ]
  },
  {
   "cell_type": "markdown",
   "metadata": {},
   "source": [
    "### Reconstruction"
   ]
  },
  {
   "cell_type": "code",
   "execution_count": 47,
   "metadata": {
    "ExecuteTime": {
     "end_time": "2021-01-14T06:33:30.336197Z",
     "start_time": "2021-01-14T06:33:30.288995Z"
    }
   },
   "outputs": [],
   "source": [
    "from sklearn.metrics import mean_squared_error, mean_absolute_error, median_absolute_error, r2_score"
   ]
  },
  {
   "cell_type": "code",
   "execution_count": 54,
   "metadata": {
    "ExecuteTime": {
     "end_time": "2021-01-14T06:51:16.997834Z",
     "start_time": "2021-01-14T06:51:16.767140Z"
    }
   },
   "outputs": [],
   "source": [
    "#X_recon = vae.decoder.predict(vae.encoder.predict(X_test.reshape((len(X_test), 28, 28, 1)))[0])\n",
    "X_recon,_ = model.decode(z_test)\n",
    "X_real = X_test.reshape((len(X_test), 32, 32, 3))"
   ]
  },
  {
   "cell_type": "code",
   "execution_count": 55,
   "metadata": {
    "ExecuteTime": {
     "end_time": "2021-01-14T06:51:17.518238Z",
     "start_time": "2021-01-14T06:51:17.478669Z"
    }
   },
   "outputs": [],
   "source": [
    "x_real = X_test.reshape((len(X_test), np.product(np.shape(X_test)[1:])))\n",
    "x_recon = X_recon.reshape((len(X_test), np.product(np.shape(X_test)[1:])))"
   ]
  },
  {
   "cell_type": "code",
   "execution_count": 56,
   "metadata": {
    "ExecuteTime": {
     "end_time": "2021-01-14T06:51:17.703817Z",
     "start_time": "2021-01-14T06:51:17.645332Z"
    }
   },
   "outputs": [],
   "source": [
    "reconstruction_acc_df = pd.DataFrame(\n",
    "    columns=[\"method_\", \"dimensions\", \"dataset\", \"MSE\", \"MAE\", \"MedAE\", \"R2\"]\n",
    ")"
   ]
  },
  {
   "cell_type": "code",
   "execution_count": 57,
   "metadata": {
    "ExecuteTime": {
     "end_time": "2021-01-14T06:51:19.184431Z",
     "start_time": "2021-01-14T06:51:17.802670Z"
    }
   },
   "outputs": [
    {
     "data": {
      "text/html": [
       "<div>\n",
       "<style scoped>\n",
       "    .dataframe tbody tr th:only-of-type {\n",
       "        vertical-align: middle;\n",
       "    }\n",
       "\n",
       "    .dataframe tbody tr th {\n",
       "        vertical-align: top;\n",
       "    }\n",
       "\n",
       "    .dataframe thead th {\n",
       "        text-align: right;\n",
       "    }\n",
       "</style>\n",
       "<table border=\"1\" class=\"dataframe\">\n",
       "  <thead>\n",
       "    <tr style=\"text-align: right;\">\n",
       "      <th></th>\n",
       "      <th>method_</th>\n",
       "      <th>dimensions</th>\n",
       "      <th>dataset</th>\n",
       "      <th>MSE</th>\n",
       "      <th>MAE</th>\n",
       "      <th>MedAE</th>\n",
       "      <th>R2</th>\n",
       "    </tr>\n",
       "  </thead>\n",
       "  <tbody>\n",
       "    <tr>\n",
       "      <th>0</th>\n",
       "      <td>scvis</td>\n",
       "      <td>2</td>\n",
       "      <td>cifar10</td>\n",
       "      <td>0.043145</td>\n",
       "      <td>0.167176</td>\n",
       "      <td>0.144603</td>\n",
       "      <td>0.278328</td>\n",
       "    </tr>\n",
       "  </tbody>\n",
       "</table>\n",
       "</div>"
      ],
      "text/plain": [
       "  method_ dimensions  dataset       MSE       MAE     MedAE        R2\n",
       "0   scvis          2  cifar10  0.043145  0.167176  0.144603  0.278328"
      ]
     },
     "execution_count": 57,
     "metadata": {},
     "output_type": "execute_result"
    }
   ],
   "source": [
    "MSE = mean_squared_error(\n",
    "    x_real, \n",
    "    x_recon\n",
    ")\n",
    "MAE = mean_absolute_error(\n",
    "    x_real, \n",
    "    x_recon\n",
    ")\n",
    "MedAE = median_absolute_error(\n",
    "    x_real, \n",
    "    x_recon\n",
    ")\n",
    "R2 = r2_score(\n",
    "    x_real, \n",
    "    x_recon\n",
    ")\n",
    "\n",
    "reconstruction_acc_df.loc[len(reconstruction_acc_df)] = [algorithm, 2, dataset, MSE, MAE, MedAE, R2]\n",
    "reconstruction_acc_df"
   ]
  },
  {
   "cell_type": "code",
   "execution_count": 58,
   "metadata": {
    "ExecuteTime": {
     "end_time": "2021-01-14T06:51:19.226090Z",
     "start_time": "2021-01-14T06:51:19.185958Z"
    }
   },
   "outputs": [],
   "source": [
    "save_loc = DATA_DIR / 'reconstruction_acc' / algorithm / str(n_components) / (dataset + '.pickle')\n",
    "ensure_dir(save_loc)\n",
    "reconstruction_acc_df.to_pickle(save_loc)"
   ]
  },
  {
   "cell_type": "markdown",
   "metadata": {},
   "source": [
    "### Compute clustering quality"
   ]
  },
  {
   "cell_type": "code",
   "execution_count": 59,
   "metadata": {
    "ExecuteTime": {
     "end_time": "2021-01-14T06:51:19.272761Z",
     "start_time": "2021-01-14T06:51:19.227611Z"
    }
   },
   "outputs": [],
   "source": [
    "from sklearn.cluster import KMeans\n",
    "from sklearn.metrics import homogeneity_completeness_v_measure"
   ]
  },
  {
   "cell_type": "code",
   "execution_count": 60,
   "metadata": {
    "ExecuteTime": {
     "end_time": "2021-01-14T06:51:19.309691Z",
     "start_time": "2021-01-14T06:51:19.274091Z"
    }
   },
   "outputs": [],
   "source": [
    "def get_cluster_metrics(row, n_init=5):\n",
    "    \n",
    "    # load cluster information\n",
    "    save_loc = DATA_DIR / 'clustering_metric_df'/ ('_'.join([row.class_, str(row.dim), row.dataset]) + '.pickle')\n",
    "    print(save_loc)\n",
    "    if save_loc.exists() and save_loc.is_file():\n",
    "        \n",
    "        cluster_df = pd.read_pickle(save_loc)\n",
    "        return cluster_df\n",
    "    \n",
    "    # make cluster metric dataframe\n",
    "    cluster_df = pd.DataFrame(\n",
    "        columns=[\n",
    "            \"dataset\",\n",
    "            \"class_\",\n",
    "            \"dim\",\n",
    "            \"silhouette\",\n",
    "            \"homogeneity\",\n",
    "            \"completeness\",\n",
    "            \"v_measure\",\n",
    "            \"init_\",\n",
    "            \"n_clusters\",\n",
    "            \"model\",\n",
    "        ]\n",
    "    )\n",
    "    y = row.train_label\n",
    "    z = row.train_z\n",
    "    n_labels = len(np.unique(y))\n",
    "    for n_clusters in tqdm(np.arange(n_labels - int(n_labels / 2), n_labels + int(n_labels / 2)), leave=False, desc = 'n_clusters'):\n",
    "        for init_ in tqdm(range(n_init), leave=False, desc='init'):\n",
    "            kmeans = KMeans(n_clusters=n_clusters, random_state=init_).fit(z)\n",
    "            clustered_y = kmeans.labels_\n",
    "            homogeneity, completeness, v_measure = homogeneity_completeness_v_measure(\n",
    "                np.array(y).flatten(), np.array(clustered_y).flatten()\n",
    "            )\n",
    "            ss, _ = silhouette_score_block(z, clustered_y)\n",
    "            cluster_df.loc[len(cluster_df)] = [\n",
    "                row.dataset,\n",
    "                row.class_,\n",
    "                row.dim,\n",
    "                ss,\n",
    "                homogeneity,\n",
    "                completeness,\n",
    "                v_measure,\n",
    "                init_,\n",
    "                n_clusters,\n",
    "                kmeans,\n",
    "            ]\n",
    "    \n",
    "     # save cluster df in case this fails somewhere\n",
    "    ensure_dir(save_loc)\n",
    "    cluster_df.to_pickle(save_loc)\n",
    "    return cluster_df"
   ]
  },
  {
   "cell_type": "code",
   "execution_count": 61,
   "metadata": {
    "ExecuteTime": {
     "end_time": "2021-01-14T06:51:19.389426Z",
     "start_time": "2021-01-14T06:51:19.310972Z"
    }
   },
   "outputs": [
    {
     "data": {
      "text/html": [
       "<div>\n",
       "<style scoped>\n",
       "    .dataframe tbody tr th:only-of-type {\n",
       "        vertical-align: middle;\n",
       "    }\n",
       "\n",
       "    .dataframe tbody tr th {\n",
       "        vertical-align: top;\n",
       "    }\n",
       "\n",
       "    .dataframe thead th {\n",
       "        text-align: right;\n",
       "    }\n",
       "</style>\n",
       "<table border=\"1\" class=\"dataframe\">\n",
       "  <thead>\n",
       "    <tr style=\"text-align: right;\">\n",
       "      <th></th>\n",
       "      <th>dataset</th>\n",
       "      <th>class_</th>\n",
       "      <th>train_z</th>\n",
       "      <th>train_label</th>\n",
       "      <th>dim</th>\n",
       "    </tr>\n",
       "  </thead>\n",
       "  <tbody>\n",
       "    <tr>\n",
       "      <th>0</th>\n",
       "      <td>cifar10</td>\n",
       "      <td>scvis</td>\n",
       "      <td>[[-0.81020266, 1.7352657], [0.110299684, -1.70...</td>\n",
       "      <td>[[6], [9], [9], [4], [1], [1], [2], [7], [8], ...</td>\n",
       "      <td>2</td>\n",
       "    </tr>\n",
       "  </tbody>\n",
       "</table>\n",
       "</div>"
      ],
      "text/plain": [
       "   dataset class_                                            train_z  \\\n",
       "0  cifar10  scvis  [[-0.81020266, 1.7352657], [0.110299684, -1.70...   \n",
       "\n",
       "                                         train_label dim  \n",
       "0  [[6], [9], [9], [4], [1], [1], [2], [7], [8], ...   2  "
      ]
     },
     "execution_count": 61,
     "metadata": {},
     "output_type": "execute_result"
    }
   ],
   "source": [
    "projection_df = pd.DataFrame(columns = ['dataset', 'class_', 'train_z', 'train_label', 'dim'])\n",
    "projection_df.loc[len(projection_df)] = [dataset, algorithm, z, Y_train, n_components]\n",
    "projection_df"
   ]
  },
  {
   "cell_type": "code",
   "execution_count": 62,
   "metadata": {
    "ExecuteTime": {
     "end_time": "2021-01-14T07:05:44.768925Z",
     "start_time": "2021-01-14T06:51:19.451135Z"
    }
   },
   "outputs": [
    {
     "name": "stdout",
     "output_type": "stream",
     "text": [
      "/mnt/cube/tsainbur/Projects/github_repos/umap_tf_networks/data/clustering_metric_df/scvis_2_cifar10.pickle\n"
     ]
    },
    {
     "data": {
      "application/vnd.jupyter.widget-view+json": {
       "model_id": "",
       "version_major": 2,
       "version_minor": 0
      },
      "text/plain": [
       "n_clusters:   0%|          | 0/10 [00:00<?, ?it/s]"
      ]
     },
     "metadata": {},
     "output_type": "display_data"
    },
    {
     "data": {
      "application/vnd.jupyter.widget-view+json": {
       "model_id": "",
       "version_major": 2,
       "version_minor": 0
      },
      "text/plain": [
       "init:   0%|          | 0/5 [00:00<?, ?it/s]"
      ]
     },
     "metadata": {},
     "output_type": "display_data"
    },
    {
     "data": {
      "application/vnd.jupyter.widget-view+json": {
       "model_id": "",
       "version_major": 2,
       "version_minor": 0
      },
      "text/plain": [
       "init:   0%|          | 0/5 [00:00<?, ?it/s]"
      ]
     },
     "metadata": {},
     "output_type": "display_data"
    },
    {
     "data": {
      "application/vnd.jupyter.widget-view+json": {
       "model_id": "",
       "version_major": 2,
       "version_minor": 0
      },
      "text/plain": [
       "init:   0%|          | 0/5 [00:00<?, ?it/s]"
      ]
     },
     "metadata": {},
     "output_type": "display_data"
    },
    {
     "data": {
      "application/vnd.jupyter.widget-view+json": {
       "model_id": "",
       "version_major": 2,
       "version_minor": 0
      },
      "text/plain": [
       "init:   0%|          | 0/5 [00:00<?, ?it/s]"
      ]
     },
     "metadata": {},
     "output_type": "display_data"
    },
    {
     "data": {
      "application/vnd.jupyter.widget-view+json": {
       "model_id": "",
       "version_major": 2,
       "version_minor": 0
      },
      "text/plain": [
       "init:   0%|          | 0/5 [00:00<?, ?it/s]"
      ]
     },
     "metadata": {},
     "output_type": "display_data"
    },
    {
     "data": {
      "application/vnd.jupyter.widget-view+json": {
       "model_id": "",
       "version_major": 2,
       "version_minor": 0
      },
      "text/plain": [
       "init:   0%|          | 0/5 [00:00<?, ?it/s]"
      ]
     },
     "metadata": {},
     "output_type": "display_data"
    },
    {
     "data": {
      "application/vnd.jupyter.widget-view+json": {
       "model_id": "",
       "version_major": 2,
       "version_minor": 0
      },
      "text/plain": [
       "init:   0%|          | 0/5 [00:00<?, ?it/s]"
      ]
     },
     "metadata": {},
     "output_type": "display_data"
    },
    {
     "data": {
      "application/vnd.jupyter.widget-view+json": {
       "model_id": "",
       "version_major": 2,
       "version_minor": 0
      },
      "text/plain": [
       "init:   0%|          | 0/5 [00:00<?, ?it/s]"
      ]
     },
     "metadata": {},
     "output_type": "display_data"
    },
    {
     "data": {
      "application/vnd.jupyter.widget-view+json": {
       "model_id": "",
       "version_major": 2,
       "version_minor": 0
      },
      "text/plain": [
       "init:   0%|          | 0/5 [00:00<?, ?it/s]"
      ]
     },
     "metadata": {},
     "output_type": "display_data"
    },
    {
     "data": {
      "application/vnd.jupyter.widget-view+json": {
       "model_id": "",
       "version_major": 2,
       "version_minor": 0
      },
      "text/plain": [
       "init:   0%|          | 0/5 [00:00<?, ?it/s]"
      ]
     },
     "metadata": {},
     "output_type": "display_data"
    },
    {
     "data": {
      "text/html": [
       "<div>\n",
       "<style scoped>\n",
       "    .dataframe tbody tr th:only-of-type {\n",
       "        vertical-align: middle;\n",
       "    }\n",
       "\n",
       "    .dataframe tbody tr th {\n",
       "        vertical-align: top;\n",
       "    }\n",
       "\n",
       "    .dataframe thead th {\n",
       "        text-align: right;\n",
       "    }\n",
       "</style>\n",
       "<table border=\"1\" class=\"dataframe\">\n",
       "  <thead>\n",
       "    <tr style=\"text-align: right;\">\n",
       "      <th></th>\n",
       "      <th>dataset</th>\n",
       "      <th>class_</th>\n",
       "      <th>dim</th>\n",
       "      <th>silhouette</th>\n",
       "      <th>homogeneity</th>\n",
       "      <th>completeness</th>\n",
       "      <th>v_measure</th>\n",
       "      <th>init_</th>\n",
       "      <th>n_clusters</th>\n",
       "      <th>model</th>\n",
       "    </tr>\n",
       "  </thead>\n",
       "  <tbody>\n",
       "    <tr>\n",
       "      <th>0</th>\n",
       "      <td>cifar10</td>\n",
       "      <td>scvis</td>\n",
       "      <td>2</td>\n",
       "      <td>0.369458</td>\n",
       "      <td>0.050890</td>\n",
       "      <td>0.074613</td>\n",
       "      <td>0.060509</td>\n",
       "      <td>0</td>\n",
       "      <td>5</td>\n",
       "      <td>KMeans(n_clusters=5, random_state=0)</td>\n",
       "    </tr>\n",
       "    <tr>\n",
       "      <th>1</th>\n",
       "      <td>cifar10</td>\n",
       "      <td>scvis</td>\n",
       "      <td>2</td>\n",
       "      <td>0.369463</td>\n",
       "      <td>0.050849</td>\n",
       "      <td>0.074596</td>\n",
       "      <td>0.060475</td>\n",
       "      <td>1</td>\n",
       "      <td>5</td>\n",
       "      <td>KMeans(n_clusters=5, random_state=1)</td>\n",
       "    </tr>\n",
       "    <tr>\n",
       "      <th>2</th>\n",
       "      <td>cifar10</td>\n",
       "      <td>scvis</td>\n",
       "      <td>2</td>\n",
       "      <td>0.369718</td>\n",
       "      <td>0.051037</td>\n",
       "      <td>0.074984</td>\n",
       "      <td>0.060735</td>\n",
       "      <td>2</td>\n",
       "      <td>5</td>\n",
       "      <td>KMeans(n_clusters=5, random_state=2)</td>\n",
       "    </tr>\n",
       "    <tr>\n",
       "      <th>3</th>\n",
       "      <td>cifar10</td>\n",
       "      <td>scvis</td>\n",
       "      <td>2</td>\n",
       "      <td>0.369585</td>\n",
       "      <td>0.050971</td>\n",
       "      <td>0.074750</td>\n",
       "      <td>0.060612</td>\n",
       "      <td>3</td>\n",
       "      <td>5</td>\n",
       "      <td>KMeans(n_clusters=5, random_state=3)</td>\n",
       "    </tr>\n",
       "    <tr>\n",
       "      <th>4</th>\n",
       "      <td>cifar10</td>\n",
       "      <td>scvis</td>\n",
       "      <td>2</td>\n",
       "      <td>0.369601</td>\n",
       "      <td>0.050812</td>\n",
       "      <td>0.074523</td>\n",
       "      <td>0.060424</td>\n",
       "      <td>4</td>\n",
       "      <td>5</td>\n",
       "      <td>KMeans(n_clusters=5, random_state=4)</td>\n",
       "    </tr>\n",
       "    <tr>\n",
       "      <th>5</th>\n",
       "      <td>cifar10</td>\n",
       "      <td>scvis</td>\n",
       "      <td>2</td>\n",
       "      <td>0.377474</td>\n",
       "      <td>0.057217</td>\n",
       "      <td>0.075938</td>\n",
       "      <td>0.065261</td>\n",
       "      <td>0</td>\n",
       "      <td>6</td>\n",
       "      <td>KMeans(n_clusters=6, random_state=0)</td>\n",
       "    </tr>\n",
       "    <tr>\n",
       "      <th>6</th>\n",
       "      <td>cifar10</td>\n",
       "      <td>scvis</td>\n",
       "      <td>2</td>\n",
       "      <td>0.377568</td>\n",
       "      <td>0.056962</td>\n",
       "      <td>0.075597</td>\n",
       "      <td>0.064970</td>\n",
       "      <td>1</td>\n",
       "      <td>6</td>\n",
       "      <td>KMeans(n_clusters=6, random_state=1)</td>\n",
       "    </tr>\n",
       "    <tr>\n",
       "      <th>7</th>\n",
       "      <td>cifar10</td>\n",
       "      <td>scvis</td>\n",
       "      <td>2</td>\n",
       "      <td>0.377616</td>\n",
       "      <td>0.056982</td>\n",
       "      <td>0.075612</td>\n",
       "      <td>0.064988</td>\n",
       "      <td>2</td>\n",
       "      <td>6</td>\n",
       "      <td>KMeans(n_clusters=6, random_state=2)</td>\n",
       "    </tr>\n",
       "    <tr>\n",
       "      <th>8</th>\n",
       "      <td>cifar10</td>\n",
       "      <td>scvis</td>\n",
       "      <td>2</td>\n",
       "      <td>0.377323</td>\n",
       "      <td>0.057493</td>\n",
       "      <td>0.076194</td>\n",
       "      <td>0.065535</td>\n",
       "      <td>3</td>\n",
       "      <td>6</td>\n",
       "      <td>KMeans(n_clusters=6, random_state=3)</td>\n",
       "    </tr>\n",
       "    <tr>\n",
       "      <th>9</th>\n",
       "      <td>cifar10</td>\n",
       "      <td>scvis</td>\n",
       "      <td>2</td>\n",
       "      <td>0.377263</td>\n",
       "      <td>0.057395</td>\n",
       "      <td>0.076033</td>\n",
       "      <td>0.065412</td>\n",
       "      <td>4</td>\n",
       "      <td>6</td>\n",
       "      <td>KMeans(n_clusters=6, random_state=4)</td>\n",
       "    </tr>\n",
       "    <tr>\n",
       "      <th>10</th>\n",
       "      <td>cifar10</td>\n",
       "      <td>scvis</td>\n",
       "      <td>2</td>\n",
       "      <td>0.357882</td>\n",
       "      <td>0.057879</td>\n",
       "      <td>0.070490</td>\n",
       "      <td>0.063565</td>\n",
       "      <td>0</td>\n",
       "      <td>7</td>\n",
       "      <td>KMeans(n_clusters=7, random_state=0)</td>\n",
       "    </tr>\n",
       "    <tr>\n",
       "      <th>11</th>\n",
       "      <td>cifar10</td>\n",
       "      <td>scvis</td>\n",
       "      <td>2</td>\n",
       "      <td>0.358103</td>\n",
       "      <td>0.057932</td>\n",
       "      <td>0.070491</td>\n",
       "      <td>0.063597</td>\n",
       "      <td>1</td>\n",
       "      <td>7</td>\n",
       "      <td>KMeans(n_clusters=7, random_state=1)</td>\n",
       "    </tr>\n",
       "    <tr>\n",
       "      <th>12</th>\n",
       "      <td>cifar10</td>\n",
       "      <td>scvis</td>\n",
       "      <td>2</td>\n",
       "      <td>0.358205</td>\n",
       "      <td>0.057816</td>\n",
       "      <td>0.070453</td>\n",
       "      <td>0.063512</td>\n",
       "      <td>2</td>\n",
       "      <td>7</td>\n",
       "      <td>KMeans(n_clusters=7, random_state=2)</td>\n",
       "    </tr>\n",
       "    <tr>\n",
       "      <th>13</th>\n",
       "      <td>cifar10</td>\n",
       "      <td>scvis</td>\n",
       "      <td>2</td>\n",
       "      <td>0.358777</td>\n",
       "      <td>0.057946</td>\n",
       "      <td>0.070527</td>\n",
       "      <td>0.063621</td>\n",
       "      <td>3</td>\n",
       "      <td>7</td>\n",
       "      <td>KMeans(n_clusters=7, random_state=3)</td>\n",
       "    </tr>\n",
       "    <tr>\n",
       "      <th>14</th>\n",
       "      <td>cifar10</td>\n",
       "      <td>scvis</td>\n",
       "      <td>2</td>\n",
       "      <td>0.358080</td>\n",
       "      <td>0.057907</td>\n",
       "      <td>0.070471</td>\n",
       "      <td>0.063574</td>\n",
       "      <td>4</td>\n",
       "      <td>7</td>\n",
       "      <td>KMeans(n_clusters=7, random_state=4)</td>\n",
       "    </tr>\n",
       "    <tr>\n",
       "      <th>15</th>\n",
       "      <td>cifar10</td>\n",
       "      <td>scvis</td>\n",
       "      <td>2</td>\n",
       "      <td>0.359823</td>\n",
       "      <td>0.060279</td>\n",
       "      <td>0.069114</td>\n",
       "      <td>0.064395</td>\n",
       "      <td>0</td>\n",
       "      <td>8</td>\n",
       "      <td>KMeans(random_state=0)</td>\n",
       "    </tr>\n",
       "    <tr>\n",
       "      <th>16</th>\n",
       "      <td>cifar10</td>\n",
       "      <td>scvis</td>\n",
       "      <td>2</td>\n",
       "      <td>0.359593</td>\n",
       "      <td>0.060279</td>\n",
       "      <td>0.068993</td>\n",
       "      <td>0.064342</td>\n",
       "      <td>1</td>\n",
       "      <td>8</td>\n",
       "      <td>KMeans(random_state=1)</td>\n",
       "    </tr>\n",
       "    <tr>\n",
       "      <th>17</th>\n",
       "      <td>cifar10</td>\n",
       "      <td>scvis</td>\n",
       "      <td>2</td>\n",
       "      <td>0.359697</td>\n",
       "      <td>0.060353</td>\n",
       "      <td>0.069146</td>\n",
       "      <td>0.064451</td>\n",
       "      <td>2</td>\n",
       "      <td>8</td>\n",
       "      <td>KMeans(random_state=2)</td>\n",
       "    </tr>\n",
       "    <tr>\n",
       "      <th>18</th>\n",
       "      <td>cifar10</td>\n",
       "      <td>scvis</td>\n",
       "      <td>2</td>\n",
       "      <td>0.359475</td>\n",
       "      <td>0.060162</td>\n",
       "      <td>0.068831</td>\n",
       "      <td>0.064205</td>\n",
       "      <td>3</td>\n",
       "      <td>8</td>\n",
       "      <td>KMeans(random_state=3)</td>\n",
       "    </tr>\n",
       "    <tr>\n",
       "      <th>19</th>\n",
       "      <td>cifar10</td>\n",
       "      <td>scvis</td>\n",
       "      <td>2</td>\n",
       "      <td>0.359826</td>\n",
       "      <td>0.060342</td>\n",
       "      <td>0.069189</td>\n",
       "      <td>0.064463</td>\n",
       "      <td>4</td>\n",
       "      <td>8</td>\n",
       "      <td>KMeans(random_state=4)</td>\n",
       "    </tr>\n",
       "    <tr>\n",
       "      <th>20</th>\n",
       "      <td>cifar10</td>\n",
       "      <td>scvis</td>\n",
       "      <td>2</td>\n",
       "      <td>0.363095</td>\n",
       "      <td>0.062535</td>\n",
       "      <td>0.067180</td>\n",
       "      <td>0.064774</td>\n",
       "      <td>0</td>\n",
       "      <td>9</td>\n",
       "      <td>KMeans(n_clusters=9, random_state=0)</td>\n",
       "    </tr>\n",
       "    <tr>\n",
       "      <th>21</th>\n",
       "      <td>cifar10</td>\n",
       "      <td>scvis</td>\n",
       "      <td>2</td>\n",
       "      <td>0.363554</td>\n",
       "      <td>0.062341</td>\n",
       "      <td>0.067068</td>\n",
       "      <td>0.064618</td>\n",
       "      <td>1</td>\n",
       "      <td>9</td>\n",
       "      <td>KMeans(n_clusters=9, random_state=1)</td>\n",
       "    </tr>\n",
       "    <tr>\n",
       "      <th>22</th>\n",
       "      <td>cifar10</td>\n",
       "      <td>scvis</td>\n",
       "      <td>2</td>\n",
       "      <td>0.362918</td>\n",
       "      <td>0.062706</td>\n",
       "      <td>0.067498</td>\n",
       "      <td>0.065014</td>\n",
       "      <td>2</td>\n",
       "      <td>9</td>\n",
       "      <td>KMeans(n_clusters=9, random_state=2)</td>\n",
       "    </tr>\n",
       "    <tr>\n",
       "      <th>23</th>\n",
       "      <td>cifar10</td>\n",
       "      <td>scvis</td>\n",
       "      <td>2</td>\n",
       "      <td>0.363144</td>\n",
       "      <td>0.062575</td>\n",
       "      <td>0.067228</td>\n",
       "      <td>0.064818</td>\n",
       "      <td>3</td>\n",
       "      <td>9</td>\n",
       "      <td>KMeans(n_clusters=9, random_state=3)</td>\n",
       "    </tr>\n",
       "    <tr>\n",
       "      <th>24</th>\n",
       "      <td>cifar10</td>\n",
       "      <td>scvis</td>\n",
       "      <td>2</td>\n",
       "      <td>0.363542</td>\n",
       "      <td>0.062389</td>\n",
       "      <td>0.067072</td>\n",
       "      <td>0.064646</td>\n",
       "      <td>4</td>\n",
       "      <td>9</td>\n",
       "      <td>KMeans(n_clusters=9, random_state=4)</td>\n",
       "    </tr>\n",
       "    <tr>\n",
       "      <th>25</th>\n",
       "      <td>cifar10</td>\n",
       "      <td>scvis</td>\n",
       "      <td>2</td>\n",
       "      <td>0.350592</td>\n",
       "      <td>0.063718</td>\n",
       "      <td>0.065141</td>\n",
       "      <td>0.064421</td>\n",
       "      <td>0</td>\n",
       "      <td>10</td>\n",
       "      <td>KMeans(n_clusters=10, random_state=0)</td>\n",
       "    </tr>\n",
       "    <tr>\n",
       "      <th>26</th>\n",
       "      <td>cifar10</td>\n",
       "      <td>scvis</td>\n",
       "      <td>2</td>\n",
       "      <td>0.350250</td>\n",
       "      <td>0.063869</td>\n",
       "      <td>0.065224</td>\n",
       "      <td>0.064539</td>\n",
       "      <td>1</td>\n",
       "      <td>10</td>\n",
       "      <td>KMeans(n_clusters=10, random_state=1)</td>\n",
       "    </tr>\n",
       "    <tr>\n",
       "      <th>27</th>\n",
       "      <td>cifar10</td>\n",
       "      <td>scvis</td>\n",
       "      <td>2</td>\n",
       "      <td>0.350670</td>\n",
       "      <td>0.064040</td>\n",
       "      <td>0.065438</td>\n",
       "      <td>0.064732</td>\n",
       "      <td>2</td>\n",
       "      <td>10</td>\n",
       "      <td>KMeans(n_clusters=10, random_state=2)</td>\n",
       "    </tr>\n",
       "    <tr>\n",
       "      <th>28</th>\n",
       "      <td>cifar10</td>\n",
       "      <td>scvis</td>\n",
       "      <td>2</td>\n",
       "      <td>0.350371</td>\n",
       "      <td>0.063661</td>\n",
       "      <td>0.065067</td>\n",
       "      <td>0.064356</td>\n",
       "      <td>3</td>\n",
       "      <td>10</td>\n",
       "      <td>KMeans(n_clusters=10, random_state=3)</td>\n",
       "    </tr>\n",
       "    <tr>\n",
       "      <th>29</th>\n",
       "      <td>cifar10</td>\n",
       "      <td>scvis</td>\n",
       "      <td>2</td>\n",
       "      <td>0.350334</td>\n",
       "      <td>0.063838</td>\n",
       "      <td>0.065221</td>\n",
       "      <td>0.064522</td>\n",
       "      <td>4</td>\n",
       "      <td>10</td>\n",
       "      <td>KMeans(n_clusters=10, random_state=4)</td>\n",
       "    </tr>\n",
       "    <tr>\n",
       "      <th>30</th>\n",
       "      <td>cifar10</td>\n",
       "      <td>scvis</td>\n",
       "      <td>2</td>\n",
       "      <td>0.355704</td>\n",
       "      <td>0.065657</td>\n",
       "      <td>0.064355</td>\n",
       "      <td>0.064999</td>\n",
       "      <td>0</td>\n",
       "      <td>11</td>\n",
       "      <td>KMeans(n_clusters=11, random_state=0)</td>\n",
       "    </tr>\n",
       "    <tr>\n",
       "      <th>31</th>\n",
       "      <td>cifar10</td>\n",
       "      <td>scvis</td>\n",
       "      <td>2</td>\n",
       "      <td>0.356818</td>\n",
       "      <td>0.065840</td>\n",
       "      <td>0.064595</td>\n",
       "      <td>0.065212</td>\n",
       "      <td>1</td>\n",
       "      <td>11</td>\n",
       "      <td>KMeans(n_clusters=11, random_state=1)</td>\n",
       "    </tr>\n",
       "    <tr>\n",
       "      <th>32</th>\n",
       "      <td>cifar10</td>\n",
       "      <td>scvis</td>\n",
       "      <td>2</td>\n",
       "      <td>0.357480</td>\n",
       "      <td>0.065591</td>\n",
       "      <td>0.064332</td>\n",
       "      <td>0.064955</td>\n",
       "      <td>2</td>\n",
       "      <td>11</td>\n",
       "      <td>KMeans(n_clusters=11, random_state=2)</td>\n",
       "    </tr>\n",
       "    <tr>\n",
       "      <th>33</th>\n",
       "      <td>cifar10</td>\n",
       "      <td>scvis</td>\n",
       "      <td>2</td>\n",
       "      <td>0.356760</td>\n",
       "      <td>0.065847</td>\n",
       "      <td>0.064579</td>\n",
       "      <td>0.065207</td>\n",
       "      <td>3</td>\n",
       "      <td>11</td>\n",
       "      <td>KMeans(n_clusters=11, random_state=3)</td>\n",
       "    </tr>\n",
       "    <tr>\n",
       "      <th>34</th>\n",
       "      <td>cifar10</td>\n",
       "      <td>scvis</td>\n",
       "      <td>2</td>\n",
       "      <td>0.356637</td>\n",
       "      <td>0.065773</td>\n",
       "      <td>0.064512</td>\n",
       "      <td>0.065136</td>\n",
       "      <td>4</td>\n",
       "      <td>11</td>\n",
       "      <td>KMeans(n_clusters=11, random_state=4)</td>\n",
       "    </tr>\n",
       "    <tr>\n",
       "      <th>35</th>\n",
       "      <td>cifar10</td>\n",
       "      <td>scvis</td>\n",
       "      <td>2</td>\n",
       "      <td>0.356607</td>\n",
       "      <td>0.066711</td>\n",
       "      <td>0.063119</td>\n",
       "      <td>0.064865</td>\n",
       "      <td>0</td>\n",
       "      <td>12</td>\n",
       "      <td>KMeans(n_clusters=12, random_state=0)</td>\n",
       "    </tr>\n",
       "    <tr>\n",
       "      <th>36</th>\n",
       "      <td>cifar10</td>\n",
       "      <td>scvis</td>\n",
       "      <td>2</td>\n",
       "      <td>0.356594</td>\n",
       "      <td>0.066511</td>\n",
       "      <td>0.062841</td>\n",
       "      <td>0.064624</td>\n",
       "      <td>1</td>\n",
       "      <td>12</td>\n",
       "      <td>KMeans(n_clusters=12, random_state=1)</td>\n",
       "    </tr>\n",
       "    <tr>\n",
       "      <th>37</th>\n",
       "      <td>cifar10</td>\n",
       "      <td>scvis</td>\n",
       "      <td>2</td>\n",
       "      <td>0.356766</td>\n",
       "      <td>0.066637</td>\n",
       "      <td>0.063006</td>\n",
       "      <td>0.064771</td>\n",
       "      <td>2</td>\n",
       "      <td>12</td>\n",
       "      <td>KMeans(n_clusters=12, random_state=2)</td>\n",
       "    </tr>\n",
       "    <tr>\n",
       "      <th>38</th>\n",
       "      <td>cifar10</td>\n",
       "      <td>scvis</td>\n",
       "      <td>2</td>\n",
       "      <td>0.356279</td>\n",
       "      <td>0.066493</td>\n",
       "      <td>0.062841</td>\n",
       "      <td>0.064616</td>\n",
       "      <td>3</td>\n",
       "      <td>12</td>\n",
       "      <td>KMeans(n_clusters=12, random_state=3)</td>\n",
       "    </tr>\n",
       "    <tr>\n",
       "      <th>39</th>\n",
       "      <td>cifar10</td>\n",
       "      <td>scvis</td>\n",
       "      <td>2</td>\n",
       "      <td>0.356223</td>\n",
       "      <td>0.066637</td>\n",
       "      <td>0.063011</td>\n",
       "      <td>0.064773</td>\n",
       "      <td>4</td>\n",
       "      <td>12</td>\n",
       "      <td>KMeans(n_clusters=12, random_state=4)</td>\n",
       "    </tr>\n",
       "    <tr>\n",
       "      <th>40</th>\n",
       "      <td>cifar10</td>\n",
       "      <td>scvis</td>\n",
       "      <td>2</td>\n",
       "      <td>0.349361</td>\n",
       "      <td>0.066766</td>\n",
       "      <td>0.061224</td>\n",
       "      <td>0.063875</td>\n",
       "      <td>0</td>\n",
       "      <td>13</td>\n",
       "      <td>KMeans(n_clusters=13, random_state=0)</td>\n",
       "    </tr>\n",
       "    <tr>\n",
       "      <th>41</th>\n",
       "      <td>cifar10</td>\n",
       "      <td>scvis</td>\n",
       "      <td>2</td>\n",
       "      <td>0.349899</td>\n",
       "      <td>0.066266</td>\n",
       "      <td>0.060821</td>\n",
       "      <td>0.063427</td>\n",
       "      <td>1</td>\n",
       "      <td>13</td>\n",
       "      <td>KMeans(n_clusters=13, random_state=1)</td>\n",
       "    </tr>\n",
       "    <tr>\n",
       "      <th>42</th>\n",
       "      <td>cifar10</td>\n",
       "      <td>scvis</td>\n",
       "      <td>2</td>\n",
       "      <td>0.350931</td>\n",
       "      <td>0.066600</td>\n",
       "      <td>0.061141</td>\n",
       "      <td>0.063754</td>\n",
       "      <td>2</td>\n",
       "      <td>13</td>\n",
       "      <td>KMeans(n_clusters=13, random_state=2)</td>\n",
       "    </tr>\n",
       "    <tr>\n",
       "      <th>43</th>\n",
       "      <td>cifar10</td>\n",
       "      <td>scvis</td>\n",
       "      <td>2</td>\n",
       "      <td>0.350964</td>\n",
       "      <td>0.066788</td>\n",
       "      <td>0.061374</td>\n",
       "      <td>0.063967</td>\n",
       "      <td>3</td>\n",
       "      <td>13</td>\n",
       "      <td>KMeans(n_clusters=13, random_state=3)</td>\n",
       "    </tr>\n",
       "    <tr>\n",
       "      <th>44</th>\n",
       "      <td>cifar10</td>\n",
       "      <td>scvis</td>\n",
       "      <td>2</td>\n",
       "      <td>0.350986</td>\n",
       "      <td>0.066891</td>\n",
       "      <td>0.061484</td>\n",
       "      <td>0.064073</td>\n",
       "      <td>4</td>\n",
       "      <td>13</td>\n",
       "      <td>KMeans(n_clusters=13, random_state=4)</td>\n",
       "    </tr>\n",
       "    <tr>\n",
       "      <th>45</th>\n",
       "      <td>cifar10</td>\n",
       "      <td>scvis</td>\n",
       "      <td>2</td>\n",
       "      <td>0.354114</td>\n",
       "      <td>0.067198</td>\n",
       "      <td>0.059834</td>\n",
       "      <td>0.063302</td>\n",
       "      <td>0</td>\n",
       "      <td>14</td>\n",
       "      <td>KMeans(n_clusters=14, random_state=0)</td>\n",
       "    </tr>\n",
       "    <tr>\n",
       "      <th>46</th>\n",
       "      <td>cifar10</td>\n",
       "      <td>scvis</td>\n",
       "      <td>2</td>\n",
       "      <td>0.354563</td>\n",
       "      <td>0.067214</td>\n",
       "      <td>0.059815</td>\n",
       "      <td>0.063299</td>\n",
       "      <td>1</td>\n",
       "      <td>14</td>\n",
       "      <td>KMeans(n_clusters=14, random_state=1)</td>\n",
       "    </tr>\n",
       "    <tr>\n",
       "      <th>47</th>\n",
       "      <td>cifar10</td>\n",
       "      <td>scvis</td>\n",
       "      <td>2</td>\n",
       "      <td>0.354772</td>\n",
       "      <td>0.067121</td>\n",
       "      <td>0.059768</td>\n",
       "      <td>0.063231</td>\n",
       "      <td>2</td>\n",
       "      <td>14</td>\n",
       "      <td>KMeans(n_clusters=14, random_state=2)</td>\n",
       "    </tr>\n",
       "    <tr>\n",
       "      <th>48</th>\n",
       "      <td>cifar10</td>\n",
       "      <td>scvis</td>\n",
       "      <td>2</td>\n",
       "      <td>0.352945</td>\n",
       "      <td>0.067354</td>\n",
       "      <td>0.059971</td>\n",
       "      <td>0.063448</td>\n",
       "      <td>3</td>\n",
       "      <td>14</td>\n",
       "      <td>KMeans(n_clusters=14, random_state=3)</td>\n",
       "    </tr>\n",
       "    <tr>\n",
       "      <th>49</th>\n",
       "      <td>cifar10</td>\n",
       "      <td>scvis</td>\n",
       "      <td>2</td>\n",
       "      <td>0.354208</td>\n",
       "      <td>0.067122</td>\n",
       "      <td>0.059749</td>\n",
       "      <td>0.063221</td>\n",
       "      <td>4</td>\n",
       "      <td>14</td>\n",
       "      <td>KMeans(n_clusters=14, random_state=4)</td>\n",
       "    </tr>\n",
       "  </tbody>\n",
       "</table>\n",
       "</div>"
      ],
      "text/plain": [
       "    dataset class_ dim  silhouette  homogeneity  completeness  v_measure  \\\n",
       "0   cifar10  scvis   2    0.369458     0.050890      0.074613   0.060509   \n",
       "1   cifar10  scvis   2    0.369463     0.050849      0.074596   0.060475   \n",
       "2   cifar10  scvis   2    0.369718     0.051037      0.074984   0.060735   \n",
       "3   cifar10  scvis   2    0.369585     0.050971      0.074750   0.060612   \n",
       "4   cifar10  scvis   2    0.369601     0.050812      0.074523   0.060424   \n",
       "5   cifar10  scvis   2    0.377474     0.057217      0.075938   0.065261   \n",
       "6   cifar10  scvis   2    0.377568     0.056962      0.075597   0.064970   \n",
       "7   cifar10  scvis   2    0.377616     0.056982      0.075612   0.064988   \n",
       "8   cifar10  scvis   2    0.377323     0.057493      0.076194   0.065535   \n",
       "9   cifar10  scvis   2    0.377263     0.057395      0.076033   0.065412   \n",
       "10  cifar10  scvis   2    0.357882     0.057879      0.070490   0.063565   \n",
       "11  cifar10  scvis   2    0.358103     0.057932      0.070491   0.063597   \n",
       "12  cifar10  scvis   2    0.358205     0.057816      0.070453   0.063512   \n",
       "13  cifar10  scvis   2    0.358777     0.057946      0.070527   0.063621   \n",
       "14  cifar10  scvis   2    0.358080     0.057907      0.070471   0.063574   \n",
       "15  cifar10  scvis   2    0.359823     0.060279      0.069114   0.064395   \n",
       "16  cifar10  scvis   2    0.359593     0.060279      0.068993   0.064342   \n",
       "17  cifar10  scvis   2    0.359697     0.060353      0.069146   0.064451   \n",
       "18  cifar10  scvis   2    0.359475     0.060162      0.068831   0.064205   \n",
       "19  cifar10  scvis   2    0.359826     0.060342      0.069189   0.064463   \n",
       "20  cifar10  scvis   2    0.363095     0.062535      0.067180   0.064774   \n",
       "21  cifar10  scvis   2    0.363554     0.062341      0.067068   0.064618   \n",
       "22  cifar10  scvis   2    0.362918     0.062706      0.067498   0.065014   \n",
       "23  cifar10  scvis   2    0.363144     0.062575      0.067228   0.064818   \n",
       "24  cifar10  scvis   2    0.363542     0.062389      0.067072   0.064646   \n",
       "25  cifar10  scvis   2    0.350592     0.063718      0.065141   0.064421   \n",
       "26  cifar10  scvis   2    0.350250     0.063869      0.065224   0.064539   \n",
       "27  cifar10  scvis   2    0.350670     0.064040      0.065438   0.064732   \n",
       "28  cifar10  scvis   2    0.350371     0.063661      0.065067   0.064356   \n",
       "29  cifar10  scvis   2    0.350334     0.063838      0.065221   0.064522   \n",
       "30  cifar10  scvis   2    0.355704     0.065657      0.064355   0.064999   \n",
       "31  cifar10  scvis   2    0.356818     0.065840      0.064595   0.065212   \n",
       "32  cifar10  scvis   2    0.357480     0.065591      0.064332   0.064955   \n",
       "33  cifar10  scvis   2    0.356760     0.065847      0.064579   0.065207   \n",
       "34  cifar10  scvis   2    0.356637     0.065773      0.064512   0.065136   \n",
       "35  cifar10  scvis   2    0.356607     0.066711      0.063119   0.064865   \n",
       "36  cifar10  scvis   2    0.356594     0.066511      0.062841   0.064624   \n",
       "37  cifar10  scvis   2    0.356766     0.066637      0.063006   0.064771   \n",
       "38  cifar10  scvis   2    0.356279     0.066493      0.062841   0.064616   \n",
       "39  cifar10  scvis   2    0.356223     0.066637      0.063011   0.064773   \n",
       "40  cifar10  scvis   2    0.349361     0.066766      0.061224   0.063875   \n",
       "41  cifar10  scvis   2    0.349899     0.066266      0.060821   0.063427   \n",
       "42  cifar10  scvis   2    0.350931     0.066600      0.061141   0.063754   \n",
       "43  cifar10  scvis   2    0.350964     0.066788      0.061374   0.063967   \n",
       "44  cifar10  scvis   2    0.350986     0.066891      0.061484   0.064073   \n",
       "45  cifar10  scvis   2    0.354114     0.067198      0.059834   0.063302   \n",
       "46  cifar10  scvis   2    0.354563     0.067214      0.059815   0.063299   \n",
       "47  cifar10  scvis   2    0.354772     0.067121      0.059768   0.063231   \n",
       "48  cifar10  scvis   2    0.352945     0.067354      0.059971   0.063448   \n",
       "49  cifar10  scvis   2    0.354208     0.067122      0.059749   0.063221   \n",
       "\n",
       "   init_ n_clusters                                  model  \n",
       "0      0          5   KMeans(n_clusters=5, random_state=0)  \n",
       "1      1          5   KMeans(n_clusters=5, random_state=1)  \n",
       "2      2          5   KMeans(n_clusters=5, random_state=2)  \n",
       "3      3          5   KMeans(n_clusters=5, random_state=3)  \n",
       "4      4          5   KMeans(n_clusters=5, random_state=4)  \n",
       "5      0          6   KMeans(n_clusters=6, random_state=0)  \n",
       "6      1          6   KMeans(n_clusters=6, random_state=1)  \n",
       "7      2          6   KMeans(n_clusters=6, random_state=2)  \n",
       "8      3          6   KMeans(n_clusters=6, random_state=3)  \n",
       "9      4          6   KMeans(n_clusters=6, random_state=4)  \n",
       "10     0          7   KMeans(n_clusters=7, random_state=0)  \n",
       "11     1          7   KMeans(n_clusters=7, random_state=1)  \n",
       "12     2          7   KMeans(n_clusters=7, random_state=2)  \n",
       "13     3          7   KMeans(n_clusters=7, random_state=3)  \n",
       "14     4          7   KMeans(n_clusters=7, random_state=4)  \n",
       "15     0          8                 KMeans(random_state=0)  \n",
       "16     1          8                 KMeans(random_state=1)  \n",
       "17     2          8                 KMeans(random_state=2)  \n",
       "18     3          8                 KMeans(random_state=3)  \n",
       "19     4          8                 KMeans(random_state=4)  \n",
       "20     0          9   KMeans(n_clusters=9, random_state=0)  \n",
       "21     1          9   KMeans(n_clusters=9, random_state=1)  \n",
       "22     2          9   KMeans(n_clusters=9, random_state=2)  \n",
       "23     3          9   KMeans(n_clusters=9, random_state=3)  \n",
       "24     4          9   KMeans(n_clusters=9, random_state=4)  \n",
       "25     0         10  KMeans(n_clusters=10, random_state=0)  \n",
       "26     1         10  KMeans(n_clusters=10, random_state=1)  \n",
       "27     2         10  KMeans(n_clusters=10, random_state=2)  \n",
       "28     3         10  KMeans(n_clusters=10, random_state=3)  \n",
       "29     4         10  KMeans(n_clusters=10, random_state=4)  \n",
       "30     0         11  KMeans(n_clusters=11, random_state=0)  \n",
       "31     1         11  KMeans(n_clusters=11, random_state=1)  \n",
       "32     2         11  KMeans(n_clusters=11, random_state=2)  \n",
       "33     3         11  KMeans(n_clusters=11, random_state=3)  \n",
       "34     4         11  KMeans(n_clusters=11, random_state=4)  \n",
       "35     0         12  KMeans(n_clusters=12, random_state=0)  \n",
       "36     1         12  KMeans(n_clusters=12, random_state=1)  \n",
       "37     2         12  KMeans(n_clusters=12, random_state=2)  \n",
       "38     3         12  KMeans(n_clusters=12, random_state=3)  \n",
       "39     4         12  KMeans(n_clusters=12, random_state=4)  \n",
       "40     0         13  KMeans(n_clusters=13, random_state=0)  \n",
       "41     1         13  KMeans(n_clusters=13, random_state=1)  \n",
       "42     2         13  KMeans(n_clusters=13, random_state=2)  \n",
       "43     3         13  KMeans(n_clusters=13, random_state=3)  \n",
       "44     4         13  KMeans(n_clusters=13, random_state=4)  \n",
       "45     0         14  KMeans(n_clusters=14, random_state=0)  \n",
       "46     1         14  KMeans(n_clusters=14, random_state=1)  \n",
       "47     2         14  KMeans(n_clusters=14, random_state=2)  \n",
       "48     3         14  KMeans(n_clusters=14, random_state=3)  \n",
       "49     4         14  KMeans(n_clusters=14, random_state=4)  "
      ]
     },
     "execution_count": 62,
     "metadata": {},
     "output_type": "execute_result"
    }
   ],
   "source": [
    "get_cluster_metrics(projection_df.iloc[0], n_init=5)"
   ]
  },
  {
   "cell_type": "code",
   "execution_count": null,
   "metadata": {},
   "outputs": [],
   "source": []
  },
  {
   "cell_type": "code",
   "execution_count": null,
   "metadata": {},
   "outputs": [],
   "source": []
  },
  {
   "cell_type": "code",
   "execution_count": null,
   "metadata": {},
   "outputs": [],
   "source": []
  },
  {
   "cell_type": "code",
   "execution_count": null,
   "metadata": {},
   "outputs": [],
   "source": []
  },
  {
   "cell_type": "code",
   "execution_count": null,
   "metadata": {},
   "outputs": [],
   "source": []
  },
  {
   "cell_type": "code",
   "execution_count": null,
   "metadata": {},
   "outputs": [],
   "source": []
  }
 ],
 "metadata": {
  "kernelspec": {
   "display_name": "Python [conda env:scvis2]",
   "language": "python",
   "name": "conda-env-scvis2-py"
  },
  "language_info": {
   "codemirror_mode": {
    "name": "ipython",
    "version": 3
   },
   "file_extension": ".py",
   "mimetype": "text/x-python",
   "name": "python",
   "nbconvert_exporter": "python",
   "pygments_lexer": "ipython3",
   "version": "3.7.9"
  }
 },
 "nbformat": 4,
 "nbformat_minor": 4
}
