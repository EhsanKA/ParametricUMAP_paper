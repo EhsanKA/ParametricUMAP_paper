{
 "cells": [
  {
   "cell_type": "code",
   "execution_count": 1,
   "metadata": {
    "ExecuteTime": {
     "end_time": "2021-01-15T04:38:05.482009Z",
     "start_time": "2021-01-15T04:38:05.478157Z"
    }
   },
   "outputs": [],
   "source": [
    "dataset = 'cifar10'\n",
    "algorithm = 'ivis'\n",
    "n_components = 64\n",
    "dims = (32,32,3)"
   ]
  },
  {
   "cell_type": "code",
   "execution_count": 2,
   "metadata": {
    "ExecuteTime": {
     "end_time": "2021-01-15T04:38:05.501425Z",
     "start_time": "2021-01-15T04:38:05.483380Z"
    }
   },
   "outputs": [],
   "source": [
    "# reload packages\n",
    "%load_ext autoreload\n",
    "%autoreload 2"
   ]
  },
  {
   "cell_type": "markdown",
   "metadata": {},
   "source": [
    "### Choose GPU (this may not be needed on your computer)"
   ]
  },
  {
   "cell_type": "code",
   "execution_count": 3,
   "metadata": {
    "ExecuteTime": {
     "end_time": "2021-01-15T04:38:05.510931Z",
     "start_time": "2021-01-15T04:38:05.502594Z"
    }
   },
   "outputs": [
    {
     "name": "stdout",
     "output_type": "stream",
     "text": [
      "env: CUDA_DEVICE_ORDER=PCI_BUS_ID\n",
      "env: CUDA_VISIBLE_DEVICES=1\n"
     ]
    }
   ],
   "source": [
    "%env CUDA_DEVICE_ORDER=PCI_BUS_ID\n",
    "%env CUDA_VISIBLE_DEVICES=1"
   ]
  },
  {
   "cell_type": "code",
   "execution_count": 4,
   "metadata": {
    "ExecuteTime": {
     "end_time": "2021-01-15T04:38:07.635816Z",
     "start_time": "2021-01-15T04:38:05.512003Z"
    }
   },
   "outputs": [],
   "source": [
    "import tensorflow as tf\n",
    "gpus = tf.config.experimental.list_physical_devices('GPU')\n",
    "for gpu in gpus:\n",
    "  tf.config.experimental.set_memory_growth(gpu, True)"
   ]
  },
  {
   "cell_type": "markdown",
   "metadata": {},
   "source": [
    "### load packages"
   ]
  },
  {
   "cell_type": "code",
   "execution_count": 5,
   "metadata": {
    "ExecuteTime": {
     "end_time": "2021-01-15T04:38:19.473428Z",
     "start_time": "2021-01-15T04:38:07.637690Z"
    }
   },
   "outputs": [
    {
     "name": "stderr",
     "output_type": "stream",
     "text": [
      "/mnt/cube/tsainbur/Projects/github_repos/umap_tf_networks/tfumap/umap.py:7: TqdmExperimentalWarning: Using `tqdm.autonotebook.tqdm` in notebook mode. Use `tqdm.tqdm` instead to force console mode (e.g. in jupyter console)\n",
      "  from tqdm.autonotebook import tqdm\n"
     ]
    }
   ],
   "source": [
    "from tfumap.umap import tfUMAP"
   ]
  },
  {
   "cell_type": "code",
   "execution_count": 6,
   "metadata": {
    "ExecuteTime": {
     "end_time": "2021-01-15T04:38:19.725563Z",
     "start_time": "2021-01-15T04:38:19.477742Z"
    }
   },
   "outputs": [],
   "source": [
    "import tensorflow as tf\n",
    "import numpy as np\n",
    "import matplotlib.pyplot as plt\n",
    "from tqdm.autonotebook import tqdm\n",
    "import umap\n",
    "import pandas as pd"
   ]
  },
  {
   "cell_type": "markdown",
   "metadata": {},
   "source": [
    "### Load dataset"
   ]
  },
  {
   "cell_type": "code",
   "execution_count": 7,
   "metadata": {
    "ExecuteTime": {
     "end_time": "2021-01-15T04:38:20.937222Z",
     "start_time": "2021-01-15T04:38:19.727404Z"
    }
   },
   "outputs": [
    {
     "name": "stdout",
     "output_type": "stream",
     "text": [
      "40000 10000 10000\n"
     ]
    }
   ],
   "source": [
    "from tensorflow.keras.datasets import cifar10\n",
    "\n",
    "# load dataset\n",
    "(train_images, Y_train), (test_images, Y_test) = cifar10.load_data()\n",
    "X_train = (train_images/255.).astype('float32')\n",
    "X_test = (test_images/255.).astype('float32')\n",
    "X_train = X_train.reshape((len(X_train), np.product(np.shape(X_train)[1:])))\n",
    "X_test = X_test.reshape((len(X_test), np.product(np.shape(X_test)[1:])))\n",
    "\n",
    "# subset a validation set\n",
    "n_valid = 10000\n",
    "X_valid = X_train[-n_valid:]\n",
    "Y_valid = Y_train[-n_valid:]\n",
    "X_train = X_train[:-n_valid]\n",
    "Y_train = Y_train[:-n_valid]\n",
    "\n",
    "# flatten X\n",
    "X_train_flat = X_train.reshape((len(X_train), np.product(np.shape(X_train)[1:])))\n",
    "X_test_flat = X_test.reshape((len(X_test), np.product(np.shape(X_test)[1:])))\n",
    "X_valid_flat= X_valid.reshape((len(X_valid), np.product(np.shape(X_valid)[1:])))\n",
    "print(len(X_train), len(X_valid), len(X_test))"
   ]
  },
  {
   "cell_type": "markdown",
   "metadata": {},
   "source": [
    "### Create model and train"
   ]
  },
  {
   "cell_type": "code",
   "execution_count": 8,
   "metadata": {
    "ExecuteTime": {
     "end_time": "2021-01-15T04:38:21.002352Z",
     "start_time": "2021-01-15T04:38:20.938685Z"
    }
   },
   "outputs": [],
   "source": [
    "from ivis import Ivis\n",
    "from sklearn.preprocessing import MinMaxScaler\n",
    "from sklearn import datasets"
   ]
  },
  {
   "cell_type": "code",
   "execution_count": 9,
   "metadata": {
    "ExecuteTime": {
     "end_time": "2021-01-15T04:38:21.031350Z",
     "start_time": "2021-01-15T04:38:21.003653Z"
    }
   },
   "outputs": [],
   "source": [
    "def create_model():\n",
    "    \"\"\"model = tf.keras.models.Sequential()\n",
    "    model.add(tf.keras.layers.BatchNormalization(input_shape=x_train.shape[1:]))\n",
    "    model.add(tf.keras.layers.Conv2D(64, (5, 5), padding='same', activation='elu'))\n",
    "    model.add(tf.keras.layers.MaxPooling2D(pool_size=(2, 2), strides=(2,2)))\n",
    "    model.add(tf.keras.layers.Dropout(0.25))\n",
    "\n",
    "    model.add(tf.keras.layers.BatchNormalization(input_shape=x_train.shape[1:]))\n",
    "    model.add(tf.keras.layers.Conv2D(128, (5, 5), padding='same', activation='elu'))\n",
    "    model.add(tf.keras.layers.MaxPooling2D(pool_size=(2, 2)))\n",
    "    model.add(tf.keras.layers.Dropout(0.25))\n",
    "\n",
    "    model.add(tf.keras.layers.BatchNormalization(input_shape=x_train.shape[1:]))\n",
    "    model.add(tf.keras.layers.Conv2D(256, (5, 5), padding='same', activation='elu'))\n",
    "    model.add(tf.keras.layers.MaxPooling2D(pool_size=(2, 2), strides=(2,2)))\n",
    "\n",
    "    model.add(tf.keras.layers.Flatten())\n",
    "    \"\"\"\n",
    "    model = tf.keras.Sequential([\n",
    "    tf.keras.layers.InputLayer(input_shape=dims),\n",
    "    tf.keras.layers.Conv2D(\n",
    "        filters=32, kernel_size=3, strides=(2, 2), activation=\"relu\"\n",
    "    ),\n",
    "    tf.keras.layers.Conv2D(\n",
    "        filters=64, kernel_size=3, strides=(2, 2), activation=\"relu\"\n",
    "    ),\n",
    "    tf.keras.layers.Conv2D(\n",
    "        filters=128, kernel_size=3, strides=(2, 2), activation=\"relu\"\n",
    "    ),\n",
    "\n",
    "    tf.keras.layers.Flatten(),\n",
    "    tf.keras.layers.Dense(units=512, activation=\"relu\"),\n",
    "    #tf.keras.layers.Dense(units=n_components),\n",
    "    ])\n",
    "    return model"
   ]
  },
  {
   "cell_type": "code",
   "execution_count": 10,
   "metadata": {
    "ExecuteTime": {
     "end_time": "2021-01-15T04:38:21.633064Z",
     "start_time": "2021-01-15T04:38:21.033325Z"
    }
   },
   "outputs": [],
   "source": [
    "base_model = create_model()"
   ]
  },
  {
   "cell_type": "code",
   "execution_count": 11,
   "metadata": {
    "ExecuteTime": {
     "end_time": "2021-01-15T04:38:21.776765Z",
     "start_time": "2021-01-15T04:38:21.634020Z"
    }
   },
   "outputs": [
    {
     "data": {
      "text/plain": [
       "(40000, 3072)"
      ]
     },
     "execution_count": 11,
     "metadata": {},
     "output_type": "execute_result"
    }
   ],
   "source": [
    "X_train.shape"
   ]
  },
  {
   "cell_type": "code",
   "execution_count": 12,
   "metadata": {
    "ExecuteTime": {
     "end_time": "2021-01-15T04:38:22.455639Z",
     "start_time": "2021-01-15T04:38:21.778769Z"
    }
   },
   "outputs": [],
   "source": [
    "x_scaler = MinMaxScaler()\n",
    "X_scaled = x_scaler.fit_transform(X_train).reshape([len(X_train)] + list(dims))"
   ]
  },
  {
   "cell_type": "code",
   "execution_count": 13,
   "metadata": {
    "ExecuteTime": {
     "end_time": "2021-01-15T04:38:22.491937Z",
     "start_time": "2021-01-15T04:38:22.457645Z"
    }
   },
   "outputs": [],
   "source": [
    "# Set ivis parameters\n",
    "model = Ivis(model=base_model, embedding_dims=n_components)"
   ]
  },
  {
   "cell_type": "code",
   "execution_count": 14,
   "metadata": {
    "ExecuteTime": {
     "end_time": "2021-01-15T04:47:44.649292Z",
     "start_time": "2021-01-15T04:38:22.494698Z"
    }
   },
   "outputs": [
    {
     "name": "stderr",
     "output_type": "stream",
     "text": [
      "  0%|          | 151/40000 [00:00<00:26, 1507.98it/s]"
     ]
    },
    {
     "name": "stdout",
     "output_type": "stream",
     "text": [
      "Building KNN index\n",
      "Flattening multidimensional input before building KNN index using Annoy\n"
     ]
    },
    {
     "name": "stderr",
     "output_type": "stream",
     "text": [
      "100%|██████████| 40000/40000 [00:33<00:00, 1188.82it/s]\n"
     ]
    },
    {
     "name": "stdout",
     "output_type": "stream",
     "text": [
      "Extracting KNN neighbours\n",
      "Flattening data before retrieving KNN from index\n"
     ]
    },
    {
     "name": "stderr",
     "output_type": "stream",
     "text": [
      "100%|█████████▉| 39999/40000 [01:08<00:00, 585.52it/s]\n"
     ]
    },
    {
     "name": "stdout",
     "output_type": "stream",
     "text": [
      "Training neural network\n",
      "Epoch 1/1000\n",
      "313/313 [==============================] - 3s 11ms/step - loss: 0.1258\n",
      "Epoch 2/1000\n",
      "313/313 [==============================] - 4s 11ms/step - loss: 0.0795\n",
      "Epoch 3/1000\n",
      "313/313 [==============================] - 4s 12ms/step - loss: 0.0718\n",
      "Epoch 4/1000\n",
      "313/313 [==============================] - 3s 10ms/step - loss: 0.0664\n",
      "Epoch 5/1000\n",
      "313/313 [==============================] - 3s 10ms/step - loss: 0.0654\n",
      "Epoch 6/1000\n",
      "313/313 [==============================] - 3s 10ms/step - loss: 0.0645\n",
      "Epoch 7/1000\n",
      "313/313 [==============================] - 3s 9ms/step - loss: 0.0626\n",
      "Epoch 8/1000\n",
      "313/313 [==============================] - 3s 10ms/step - loss: 0.0597\n",
      "Epoch 9/1000\n",
      "313/313 [==============================] - 3s 11ms/step - loss: 0.0601\n",
      "Epoch 10/1000\n",
      "313/313 [==============================] - 3s 11ms/step - loss: 0.0578\n",
      "Epoch 11/1000\n",
      "313/313 [==============================] - 3s 10ms/step - loss: 0.0558\n",
      "Epoch 12/1000\n",
      "313/313 [==============================] - 3s 10ms/step - loss: 0.0603\n",
      "Epoch 13/1000\n",
      "313/313 [==============================] - 3s 10ms/step - loss: 0.0561\n",
      "Epoch 14/1000\n",
      "313/313 [==============================] - 3s 10ms/step - loss: 0.0540\n",
      "Epoch 15/1000\n",
      "313/313 [==============================] - 3s 10ms/step - loss: 0.0538\n",
      "Epoch 16/1000\n",
      "313/313 [==============================] - 3s 10ms/step - loss: 0.0555\n",
      "Epoch 17/1000\n",
      "313/313 [==============================] - 3s 10ms/step - loss: 0.0555\n",
      "Epoch 18/1000\n",
      "313/313 [==============================] - 4s 12ms/step - loss: 0.0557\n",
      "Epoch 19/1000\n",
      "313/313 [==============================] - 4s 11ms/step - loss: 0.0517\n",
      "Epoch 20/1000\n",
      "313/313 [==============================] - 4s 12ms/step - loss: 0.0499\n",
      "Epoch 21/1000\n",
      "313/313 [==============================] - 4s 12ms/step - loss: 0.0531\n",
      "Epoch 22/1000\n",
      "313/313 [==============================] - 4s 12ms/step - loss: 0.0523\n",
      "Epoch 23/1000\n",
      "313/313 [==============================] - 3s 9ms/step - loss: 0.0505\n",
      "Epoch 24/1000\n",
      "313/313 [==============================] - 3s 9ms/step - loss: 0.0528\n",
      "Epoch 25/1000\n",
      "313/313 [==============================] - 3s 10ms/step - loss: 0.0510\n",
      "Epoch 26/1000\n",
      "313/313 [==============================] - 3s 10ms/step - loss: 0.0523\n",
      "Epoch 27/1000\n",
      "313/313 [==============================] - 3s 9ms/step - loss: 0.0489\n",
      "Epoch 28/1000\n",
      "313/313 [==============================] - 3s 10ms/step - loss: 0.0489\n",
      "Epoch 29/1000\n",
      "313/313 [==============================] - 3s 10ms/step - loss: 0.0519\n",
      "Epoch 30/1000\n",
      "313/313 [==============================] - 3s 11ms/step - loss: 0.0486\n",
      "Epoch 31/1000\n",
      "313/313 [==============================] - 4s 11ms/step - loss: 0.0489\n",
      "Epoch 32/1000\n",
      "313/313 [==============================] - 3s 10ms/step - loss: 0.0471\n",
      "Epoch 33/1000\n",
      "313/313 [==============================] - 3s 10ms/step - loss: 0.0500\n",
      "Epoch 34/1000\n",
      "313/313 [==============================] - 3s 10ms/step - loss: 0.0480\n",
      "Epoch 35/1000\n",
      "313/313 [==============================] - 3s 10ms/step - loss: 0.0499\n",
      "Epoch 36/1000\n",
      "313/313 [==============================] - 3s 10ms/step - loss: 0.0494\n",
      "Epoch 37/1000\n",
      "313/313 [==============================] - 3s 11ms/step - loss: 0.0500\n",
      "Epoch 38/1000\n",
      "313/313 [==============================] - 3s 10ms/step - loss: 0.0491\n",
      "Epoch 39/1000\n",
      "313/313 [==============================] - 3s 11ms/step - loss: 0.0504\n",
      "Epoch 40/1000\n",
      "313/313 [==============================] - 3s 11ms/step - loss: 0.0512\n",
      "Epoch 41/1000\n",
      "313/313 [==============================] - 4s 11ms/step - loss: 0.0476\n",
      "Epoch 42/1000\n",
      "313/313 [==============================] - 4s 12ms/step - loss: 0.0479\n",
      "Epoch 43/1000\n",
      "313/313 [==============================] - 3s 10ms/step - loss: 0.0481\n",
      "Epoch 44/1000\n",
      "313/313 [==============================] - 3s 11ms/step - loss: 0.0479\n",
      "Epoch 45/1000\n",
      "313/313 [==============================] - 3s 11ms/step - loss: 0.0477\n",
      "Epoch 46/1000\n",
      "313/313 [==============================] - 4s 11ms/step - loss: 0.0475\n",
      "Epoch 47/1000\n",
      "313/313 [==============================] - 4s 13ms/step - loss: 0.0459\n",
      "Epoch 48/1000\n",
      "313/313 [==============================] - 4s 12ms/step - loss: 0.0453\n",
      "Epoch 49/1000\n",
      "313/313 [==============================] - 4s 11ms/step - loss: 0.0471\n",
      "Epoch 50/1000\n",
      "313/313 [==============================] - 3s 10ms/step - loss: 0.0476\n",
      "Epoch 51/1000\n",
      "313/313 [==============================] - 3s 10ms/step - loss: 0.0476\n",
      "Epoch 52/1000\n",
      "313/313 [==============================] - 3s 10ms/step - loss: 0.0492\n",
      "Epoch 53/1000\n",
      "313/313 [==============================] - 3s 10ms/step - loss: 0.0464\n",
      "Epoch 54/1000\n",
      "313/313 [==============================] - 3s 10ms/step - loss: 0.0459\n",
      "Epoch 55/1000\n",
      "313/313 [==============================] - 3s 11ms/step - loss: 0.0486\n",
      "Epoch 56/1000\n",
      "313/313 [==============================] - 3s 10ms/step - loss: 0.0468\n",
      "Epoch 57/1000\n",
      "313/313 [==============================] - 3s 11ms/step - loss: 0.0451\n",
      "Epoch 58/1000\n",
      "313/313 [==============================] - 4s 13ms/step - loss: 0.0467\n",
      "Epoch 59/1000\n",
      "313/313 [==============================] - 4s 14ms/step - loss: 0.0464\n",
      "Epoch 60/1000\n",
      "313/313 [==============================] - 3s 11ms/step - loss: 0.0458\n",
      "Epoch 61/1000\n",
      "313/313 [==============================] - 3s 11ms/step - loss: 0.0472\n",
      "Epoch 62/1000\n",
      "313/313 [==============================] - 3s 10ms/step - loss: 0.0464\n",
      "Epoch 63/1000\n",
      "313/313 [==============================] - 3s 11ms/step - loss: 0.0441\n",
      "Epoch 64/1000\n",
      "313/313 [==============================] - 4s 11ms/step - loss: 0.0467\n",
      "Epoch 65/1000\n",
      "313/313 [==============================] - 3s 10ms/step - loss: 0.0459\n",
      "Epoch 66/1000\n",
      "313/313 [==============================] - 3s 10ms/step - loss: 0.0456\n",
      "Epoch 67/1000\n",
      "313/313 [==============================] - 3s 11ms/step - loss: 0.0469\n",
      "Epoch 68/1000\n",
      "313/313 [==============================] - 3s 10ms/step - loss: 0.0456\n",
      "Epoch 69/1000\n",
      "313/313 [==============================] - 4s 11ms/step - loss: 0.0458\n",
      "Epoch 70/1000\n",
      "313/313 [==============================] - 4s 12ms/step - loss: 0.0459\n",
      "Epoch 71/1000\n",
      "313/313 [==============================] - 4s 11ms/step - loss: 0.0461\n",
      "Epoch 72/1000\n",
      "313/313 [==============================] - 4s 12ms/step - loss: 0.0458\n",
      "Epoch 73/1000\n",
      "313/313 [==============================] - 3s 11ms/step - loss: 0.0447\n",
      "Epoch 74/1000\n",
      "313/313 [==============================] - 3s 11ms/step - loss: 0.0461\n",
      "Epoch 75/1000\n",
      "313/313 [==============================] - 4s 12ms/step - loss: 0.0444\n",
      "Epoch 76/1000\n",
      "313/313 [==============================] - 4s 11ms/step - loss: 0.0444\n",
      "Epoch 77/1000\n",
      "313/313 [==============================] - 4s 12ms/step - loss: 0.0439\n",
      "Epoch 78/1000\n",
      "313/313 [==============================] - 4s 11ms/step - loss: 0.0447\n",
      "Epoch 79/1000\n",
      "313/313 [==============================] - 3s 11ms/step - loss: 0.0475\n",
      "Epoch 80/1000\n",
      "313/313 [==============================] - 4s 12ms/step - loss: 0.0454\n",
      "Epoch 81/1000\n",
      "313/313 [==============================] - 4s 12ms/step - loss: 0.0466\n",
      "Epoch 82/1000\n",
      "313/313 [==============================] - 4s 12ms/step - loss: 0.0453\n",
      "Epoch 83/1000\n",
      "313/313 [==============================] - 4s 13ms/step - loss: 0.0443\n",
      "Epoch 84/1000\n",
      "313/313 [==============================] - 3s 11ms/step - loss: 0.0432\n",
      "Epoch 85/1000\n",
      "313/313 [==============================] - 4s 11ms/step - loss: 0.0454\n",
      "Epoch 86/1000\n",
      "313/313 [==============================] - 3s 10ms/step - loss: 0.0464\n",
      "Epoch 87/1000\n",
      "313/313 [==============================] - 3s 11ms/step - loss: 0.0459\n",
      "Epoch 88/1000\n",
      "313/313 [==============================] - 3s 11ms/step - loss: 0.0469\n",
      "Epoch 89/1000\n",
      "313/313 [==============================] - 3s 11ms/step - loss: 0.0442\n",
      "Epoch 90/1000\n",
      "313/313 [==============================] - 4s 12ms/step - loss: 0.0439\n",
      "Epoch 91/1000\n",
      "313/313 [==============================] - 4s 11ms/step - loss: 0.0435\n",
      "Epoch 92/1000\n",
      "313/313 [==============================] - 4s 14ms/step - loss: 0.0438\n",
      "Epoch 93/1000\n",
      "313/313 [==============================] - 4s 13ms/step - loss: 0.0446\n",
      "Epoch 94/1000\n",
      "313/313 [==============================] - 4s 12ms/step - loss: 0.0437\n",
      "Epoch 95/1000\n",
      "313/313 [==============================] - 3s 11ms/step - loss: 0.0452\n",
      "Epoch 96/1000\n",
      "313/313 [==============================] - 4s 12ms/step - loss: 0.0438\n",
      "Epoch 97/1000\n"
     ]
    },
    {
     "name": "stdout",
     "output_type": "stream",
     "text": [
      "313/313 [==============================] - 4s 13ms/step - loss: 0.0439\n",
      "Epoch 98/1000\n",
      "313/313 [==============================] - 4s 12ms/step - loss: 0.0439\n",
      "Epoch 99/1000\n",
      "313/313 [==============================] - 4s 12ms/step - loss: 0.0455\n",
      "Epoch 100/1000\n",
      "313/313 [==============================] - 3s 11ms/step - loss: 0.0415\n",
      "Epoch 101/1000\n",
      "313/313 [==============================] - 4s 11ms/step - loss: 0.0442\n",
      "Epoch 102/1000\n",
      "313/313 [==============================] - 4s 13ms/step - loss: 0.0430\n",
      "Epoch 103/1000\n",
      "313/313 [==============================] - 5s 15ms/step - loss: 0.0441\n",
      "Epoch 104/1000\n",
      "313/313 [==============================] - 6s 20ms/step - loss: 0.0451\n",
      "Epoch 105/1000\n",
      "313/313 [==============================] - 6s 19ms/step - loss: 0.0427\n",
      "Epoch 106/1000\n",
      "313/313 [==============================] - 6s 18ms/step - loss: 0.0440\n",
      "Epoch 107/1000\n",
      "313/313 [==============================] - 6s 19ms/step - loss: 0.0433\n",
      "Epoch 108/1000\n",
      "313/313 [==============================] - 5s 15ms/step - loss: 0.0434\n",
      "Epoch 109/1000\n",
      "313/313 [==============================] - 4s 14ms/step - loss: 0.0429\n",
      "Epoch 110/1000\n",
      "313/313 [==============================] - 5s 15ms/step - loss: 0.0442\n",
      "Epoch 111/1000\n",
      "313/313 [==============================] - 4s 13ms/step - loss: 0.0439\n",
      "Epoch 112/1000\n",
      "313/313 [==============================] - 4s 14ms/step - loss: 0.0442\n",
      "Epoch 113/1000\n",
      "313/313 [==============================] - 4s 14ms/step - loss: 0.0443\n",
      "Epoch 114/1000\n",
      "313/313 [==============================] - 4s 13ms/step - loss: 0.0424\n",
      "Epoch 115/1000\n",
      "313/313 [==============================] - 5s 15ms/step - loss: 0.0440\n",
      "Epoch 116/1000\n",
      "313/313 [==============================] - 5s 15ms/step - loss: 0.0439\n",
      "Epoch 117/1000\n",
      "313/313 [==============================] - 4s 13ms/step - loss: 0.0452\n",
      "Epoch 118/1000\n",
      "313/313 [==============================] - 4s 14ms/step - loss: 0.0429\n",
      "Epoch 119/1000\n",
      "313/313 [==============================] - 4s 12ms/step - loss: 0.0438\n",
      "Epoch 120/1000\n",
      "313/313 [==============================] - 4s 12ms/step - loss: 0.0425\n",
      "313/313 [==============================] - 2s 7ms/step\n"
     ]
    }
   ],
   "source": [
    "# Generate embeddings\n",
    "embeddings =z = model.fit_transform(X_scaled)"
   ]
  },
  {
   "cell_type": "markdown",
   "metadata": {},
   "source": [
    "### Plot model output"
   ]
  },
  {
   "cell_type": "code",
   "execution_count": 15,
   "metadata": {
    "ExecuteTime": {
     "end_time": "2021-01-15T04:47:48.564409Z",
     "start_time": "2021-01-15T04:47:44.668131Z"
    }
   },
   "outputs": [
    {
     "data": {
      "image/png": "[encoded data removed]",
      "text/plain": [
       "<Figure size 576x576 with 2 Axes>"
      ]
     },
     "metadata": {
      "needs_background": "light"
     },
     "output_type": "display_data"
    }
   ],
   "source": [
    "fig, ax = plt.subplots( figsize=(8, 8))\n",
    "sc = ax.scatter(\n",
    "    z[:, 0],\n",
    "    z[:, 1],\n",
    "    c=Y_train.astype(int)[:len(z)],\n",
    "    cmap=\"tab10\",\n",
    "    s=0.1,\n",
    "    alpha=0.5,\n",
    "    rasterized=True,\n",
    ")\n",
    "ax.axis('equal')\n",
    "ax.set_title(\"UMAP in Tensorflow embedding\", fontsize=20)\n",
    "plt.colorbar(sc, ax=ax);"
   ]
  },
  {
   "cell_type": "markdown",
   "metadata": {},
   "source": [
    "### Save output"
   ]
  },
  {
   "cell_type": "code",
   "execution_count": 16,
   "metadata": {
    "ExecuteTime": {
     "end_time": "2021-01-15T04:47:48.786889Z",
     "start_time": "2021-01-15T04:47:48.566864Z"
    }
   },
   "outputs": [],
   "source": [
    "from tfumap.paths import ensure_dir, MODEL_DIR"
   ]
  },
  {
   "cell_type": "code",
   "execution_count": 17,
   "metadata": {
    "ExecuteTime": {
     "end_time": "2021-01-15T04:47:49.023217Z",
     "start_time": "2021-01-15T04:47:48.791736Z"
    }
   },
   "outputs": [],
   "source": [
    "output_dir = MODEL_DIR/'projections'/ dataset / str(n_components) / algorithm\n",
    "ensure_dir(output_dir)"
   ]
  },
  {
   "cell_type": "code",
   "execution_count": 18,
   "metadata": {
    "ExecuteTime": {
     "end_time": "2021-01-15T04:47:49.159494Z",
     "start_time": "2021-01-15T04:47:49.024483Z"
    }
   },
   "outputs": [],
   "source": [
    "#vae.save(output_dir)"
   ]
  },
  {
   "cell_type": "code",
   "execution_count": 19,
   "metadata": {
    "ExecuteTime": {
     "end_time": "2021-01-15T04:47:49.867662Z",
     "start_time": "2021-01-15T04:47:49.161739Z"
    }
   },
   "outputs": [],
   "source": [
    "model.save_model(output_dir / 'iris.ivis')"
   ]
  },
  {
   "cell_type": "code",
   "execution_count": 20,
   "metadata": {
    "ExecuteTime": {
     "end_time": "2021-01-15T04:47:49.993721Z",
     "start_time": "2021-01-15T04:47:49.868867Z"
    }
   },
   "outputs": [],
   "source": [
    "#loss_df.to_pickle(output_dir / 'loss_df.pickle')"
   ]
  },
  {
   "cell_type": "code",
   "execution_count": 21,
   "metadata": {
    "ExecuteTime": {
     "end_time": "2021-01-15T04:47:50.173752Z",
     "start_time": "2021-01-15T04:47:49.995217Z"
    }
   },
   "outputs": [],
   "source": [
    "np.save(output_dir / 'z.npy', z)"
   ]
  },
  {
   "cell_type": "markdown",
   "metadata": {},
   "source": [
    "### compute metrics "
   ]
  },
  {
   "cell_type": "code",
   "execution_count": 22,
   "metadata": {
    "ExecuteTime": {
     "end_time": "2021-01-15T04:47:50.334905Z",
     "start_time": "2021-01-15T04:47:50.179595Z"
    }
   },
   "outputs": [
    {
     "data": {
      "text/plain": [
       "(10000, 3072)"
      ]
     },
     "execution_count": 22,
     "metadata": {},
     "output_type": "execute_result"
    }
   ],
   "source": [
    "X_test.shape"
   ]
  },
  {
   "cell_type": "code",
   "execution_count": 23,
   "metadata": {
    "ExecuteTime": {
     "end_time": "2021-01-15T04:47:51.857931Z",
     "start_time": "2021-01-15T04:47:50.349812Z"
    }
   },
   "outputs": [
    {
     "name": "stdout",
     "output_type": "stream",
     "text": [
      "79/79 [==============================] - 1s 10ms/step\n"
     ]
    }
   ],
   "source": [
    "z_test = model.transform(x_scaler.transform(X_test).reshape([len(X_test)]+ list(dims)))"
   ]
  },
  {
   "cell_type": "markdown",
   "metadata": {},
   "source": [
    "#### silhouette"
   ]
  },
  {
   "cell_type": "code",
   "execution_count": 24,
   "metadata": {
    "ExecuteTime": {
     "end_time": "2021-01-15T04:47:51.958332Z",
     "start_time": "2021-01-15T04:47:51.862607Z"
    }
   },
   "outputs": [],
   "source": [
    "from tfumap.silhouette import silhouette_score_block"
   ]
  },
  {
   "cell_type": "code",
   "execution_count": 25,
   "metadata": {
    "ExecuteTime": {
     "end_time": "2021-01-15T04:48:06.414838Z",
     "start_time": "2021-01-15T04:47:51.965953Z"
    }
   },
   "outputs": [
    {
     "data": {
      "text/plain": [
       "-0.04453651020913293"
      ]
     },
     "execution_count": 25,
     "metadata": {},
     "output_type": "execute_result"
    }
   ],
   "source": [
    "ss, sil_samp = silhouette_score_block(z, Y_train, n_jobs = -1)\n",
    "ss"
   ]
  },
  {
   "cell_type": "code",
   "execution_count": 26,
   "metadata": {
    "ExecuteTime": {
     "end_time": "2021-01-15T04:48:07.108600Z",
     "start_time": "2021-01-15T04:48:06.417096Z"
    }
   },
   "outputs": [
    {
     "data": {
      "text/plain": [
       "-0.04312425180941474"
      ]
     },
     "execution_count": 26,
     "metadata": {},
     "output_type": "execute_result"
    }
   ],
   "source": [
    "ss_test, sil_samp_test = silhouette_score_block(z_test, Y_test, n_jobs = -1)\n",
    "ss_test"
   ]
  },
  {
   "cell_type": "code",
   "execution_count": 27,
   "metadata": {
    "ExecuteTime": {
     "end_time": "2021-01-15T04:48:09.581916Z",
     "start_time": "2021-01-15T04:48:07.112709Z"
    }
   },
   "outputs": [
    {
     "data": {
      "text/plain": [
       "<matplotlib.collections.PathCollection at 0x7f4e4c288950>"
      ]
     },
     "execution_count": 27,
     "metadata": {},
     "output_type": "execute_result"
    },
    {
     "data": {
      "image/png": "[encoded data removed]",
      "text/plain": [
       "<Figure size 720x360 with 2 Axes>"
      ]
     },
     "metadata": {
      "needs_background": "light"
     },
     "output_type": "display_data"
    }
   ],
   "source": [
    "fig, axs = plt.subplots(ncols = 2, figsize=(10, 5))\n",
    "axs[0].scatter(z[:, 0], z[:, 1], s=0.1, alpha=0.5, c=sil_samp, cmap=plt.cm.viridis)\n",
    "axs[1].scatter(z_test[:, 0], z_test[:, 1], s=1, alpha=0.5, c=sil_samp_test, cmap=plt.cm.viridis)"
   ]
  },
  {
   "cell_type": "markdown",
   "metadata": {},
   "source": [
    "#### KNN"
   ]
  },
  {
   "cell_type": "code",
   "execution_count": 28,
   "metadata": {
    "ExecuteTime": {
     "end_time": "2021-01-15T04:48:09.691028Z",
     "start_time": "2021-01-15T04:48:09.583258Z"
    }
   },
   "outputs": [],
   "source": [
    "from sklearn.neighbors import KNeighborsClassifier"
   ]
  },
  {
   "cell_type": "code",
   "execution_count": 29,
   "metadata": {
    "ExecuteTime": {
     "end_time": "2021-01-15T04:48:45.272704Z",
     "start_time": "2021-01-15T04:48:09.692598Z"
    }
   },
   "outputs": [
    {
     "name": "stderr",
     "output_type": "stream",
     "text": [
      "/home/AD/tsainbur/anaconda3/envs/tfumap/lib/python3.7/site-packages/sklearn/neighbors/_classification.py:179: DataConversionWarning: A column-vector y was passed when a 1d array was expected. Please change the shape of y to (n_samples,), for example using ravel().\n",
      "  return self._fit(X, y)\n"
     ]
    },
    {
     "data": {
      "text/plain": [
       "0.38"
      ]
     },
     "execution_count": 29,
     "metadata": {},
     "output_type": "execute_result"
    }
   ],
   "source": [
    "neigh5 = KNeighborsClassifier(n_neighbors=5)\n",
    "neigh5.fit(z, Y_train)\n",
    "score_5nn = neigh5.score(z_test, Y_test)\n",
    "score_5nn"
   ]
  },
  {
   "cell_type": "code",
   "execution_count": 30,
   "metadata": {
    "ExecuteTime": {
     "end_time": "2021-01-15T04:49:04.029794Z",
     "start_time": "2021-01-15T04:48:45.282113Z"
    }
   },
   "outputs": [
    {
     "name": "stderr",
     "output_type": "stream",
     "text": [
      "/home/AD/tsainbur/anaconda3/envs/tfumap/lib/python3.7/site-packages/sklearn/neighbors/_classification.py:179: DataConversionWarning: A column-vector y was passed when a 1d array was expected. Please change the shape of y to (n_samples,), for example using ravel().\n",
      "  return self._fit(X, y)\n"
     ]
    },
    {
     "data": {
      "text/plain": [
       "0.3571"
      ]
     },
     "execution_count": 30,
     "metadata": {},
     "output_type": "execute_result"
    }
   ],
   "source": [
    "neigh1 = KNeighborsClassifier(n_neighbors=1)\n",
    "neigh1.fit(z, Y_train)\n",
    "score_1nn = neigh1.score(z_test, Y_test)\n",
    "score_1nn"
   ]
  },
  {
   "cell_type": "markdown",
   "metadata": {},
   "source": [
    "#### Trustworthiness"
   ]
  },
  {
   "cell_type": "code",
   "execution_count": 31,
   "metadata": {
    "ExecuteTime": {
     "end_time": "2021-01-15T04:49:04.257513Z",
     "start_time": "2021-01-15T04:49:04.031912Z"
    }
   },
   "outputs": [],
   "source": [
    "from sklearn.manifold import trustworthiness"
   ]
  },
  {
   "cell_type": "code",
   "execution_count": 32,
   "metadata": {
    "ExecuteTime": {
     "end_time": "2021-01-15T04:49:42.785581Z",
     "start_time": "2021-01-15T04:49:04.262878Z"
    }
   },
   "outputs": [],
   "source": [
    "tw = trustworthiness(X_train_flat[:10000], z[:10000])"
   ]
  },
  {
   "cell_type": "code",
   "execution_count": 33,
   "metadata": {
    "ExecuteTime": {
     "end_time": "2021-01-15T04:50:27.215054Z",
     "start_time": "2021-01-15T04:49:42.788892Z"
    }
   },
   "outputs": [],
   "source": [
    "tw_test = trustworthiness(X_test_flat[:10000], z_test[:10000])"
   ]
  },
  {
   "cell_type": "code",
   "execution_count": 34,
   "metadata": {
    "ExecuteTime": {
     "end_time": "2021-01-15T04:50:27.298094Z",
     "start_time": "2021-01-15T04:50:27.221736Z"
    }
   },
   "outputs": [
    {
     "data": {
      "text/plain": [
       "(0.9028879423538831, 0.9024833566853483)"
      ]
     },
     "execution_count": 34,
     "metadata": {},
     "output_type": "execute_result"
    }
   ],
   "source": [
    "tw, tw_test"
   ]
  },
  {
   "cell_type": "markdown",
   "metadata": {},
   "source": [
    "### Save output metrics"
   ]
  },
  {
   "cell_type": "code",
   "execution_count": 35,
   "metadata": {
    "ExecuteTime": {
     "end_time": "2021-01-15T04:50:27.341684Z",
     "start_time": "2021-01-15T04:50:27.301754Z"
    }
   },
   "outputs": [],
   "source": [
    "from tfumap.paths import ensure_dir, MODEL_DIR, DATA_DIR"
   ]
  },
  {
   "cell_type": "markdown",
   "metadata": {},
   "source": [
    "#### train"
   ]
  },
  {
   "cell_type": "code",
   "execution_count": 36,
   "metadata": {
    "ExecuteTime": {
     "end_time": "2021-01-15T04:50:27.490437Z",
     "start_time": "2021-01-15T04:50:27.345929Z"
    }
   },
   "outputs": [
    {
     "data": {
      "text/html": [
       "<div>\n",
       "<style scoped>\n",
       "    .dataframe tbody tr th:only-of-type {\n",
       "        vertical-align: middle;\n",
       "    }\n",
       "\n",
       "    .dataframe tbody tr th {\n",
       "        vertical-align: top;\n",
       "    }\n",
       "\n",
       "    .dataframe thead th {\n",
       "        text-align: right;\n",
       "    }\n",
       "</style>\n",
       "<table border=\"1\" class=\"dataframe\">\n",
       "  <thead>\n",
       "    <tr style=\"text-align: right;\">\n",
       "      <th></th>\n",
       "      <th>dataset</th>\n",
       "      <th>class_</th>\n",
       "      <th>dim</th>\n",
       "      <th>trustworthiness</th>\n",
       "      <th>silhouette_score</th>\n",
       "      <th>silhouette_samples</th>\n",
       "    </tr>\n",
       "  </thead>\n",
       "  <tbody>\n",
       "    <tr>\n",
       "      <th>0</th>\n",
       "      <td>cifar10</td>\n",
       "      <td>ivis</td>\n",
       "      <td>64</td>\n",
       "      <td>0.902888</td>\n",
       "      <td>-0.044537</td>\n",
       "      <td>[0.06755388761235889, -0.09848348978025603, 0....</td>\n",
       "    </tr>\n",
       "  </tbody>\n",
       "</table>\n",
       "</div>"
      ],
      "text/plain": [
       "   dataset class_ dim  trustworthiness  silhouette_score  \\\n",
       "0  cifar10   ivis  64         0.902888         -0.044537   \n",
       "\n",
       "                                  silhouette_samples  \n",
       "0  [0.06755388761235889, -0.09848348978025603, 0....  "
      ]
     },
     "execution_count": 36,
     "metadata": {},
     "output_type": "execute_result"
    }
   ],
   "source": [
    "metrics_df = pd.DataFrame(\n",
    "    columns=[\n",
    "        \"dataset\",\n",
    "        \"class_\",\n",
    "        \"dim\",\n",
    "        \"trustworthiness\",\n",
    "        \"silhouette_score\",\n",
    "        \"silhouette_samples\",\n",
    "    ]\n",
    ")\n",
    "metrics_df.loc[len(metrics_df)] = [dataset, algorithm, n_components, tw, ss, sil_samp]\n",
    "metrics_df"
   ]
  },
  {
   "cell_type": "code",
   "execution_count": 37,
   "metadata": {
    "ExecuteTime": {
     "end_time": "2021-01-15T04:50:27.625775Z",
     "start_time": "2021-01-15T04:50:27.491642Z"
    }
   },
   "outputs": [],
   "source": [
    "save_loc = DATA_DIR / 'projection_metrics' /  algorithm / 'train' / str(n_components) / (dataset + '.pickle')\n",
    "ensure_dir(save_loc)\n",
    "metrics_df.to_pickle(save_loc)"
   ]
  },
  {
   "cell_type": "markdown",
   "metadata": {},
   "source": [
    "#### test"
   ]
  },
  {
   "cell_type": "code",
   "execution_count": 38,
   "metadata": {
    "ExecuteTime": {
     "end_time": "2021-01-15T04:50:27.834364Z",
     "start_time": "2021-01-15T04:50:27.628836Z"
    }
   },
   "outputs": [
    {
     "data": {
      "text/html": [
       "<div>\n",
       "<style scoped>\n",
       "    .dataframe tbody tr th:only-of-type {\n",
       "        vertical-align: middle;\n",
       "    }\n",
       "\n",
       "    .dataframe tbody tr th {\n",
       "        vertical-align: top;\n",
       "    }\n",
       "\n",
       "    .dataframe thead th {\n",
       "        text-align: right;\n",
       "    }\n",
       "</style>\n",
       "<table border=\"1\" class=\"dataframe\">\n",
       "  <thead>\n",
       "    <tr style=\"text-align: right;\">\n",
       "      <th></th>\n",
       "      <th>dataset</th>\n",
       "      <th>class_</th>\n",
       "      <th>dim</th>\n",
       "      <th>trustworthiness</th>\n",
       "      <th>silhouette_score</th>\n",
       "      <th>silhouette_samples</th>\n",
       "    </tr>\n",
       "  </thead>\n",
       "  <tbody>\n",
       "    <tr>\n",
       "      <th>1</th>\n",
       "      <td>cifar10</td>\n",
       "      <td>ivis</td>\n",
       "      <td>64</td>\n",
       "      <td>0.902483</td>\n",
       "      <td>-0.043124</td>\n",
       "      <td>[-0.04082285309950254, 0.014869527449360735, 0...</td>\n",
       "    </tr>\n",
       "  </tbody>\n",
       "</table>\n",
       "</div>"
      ],
      "text/plain": [
       "   dataset class_ dim  trustworthiness  silhouette_score  \\\n",
       "1  cifar10   ivis  64         0.902483         -0.043124   \n",
       "\n",
       "                                  silhouette_samples  \n",
       "1  [-0.04082285309950254, 0.014869527449360735, 0...  "
      ]
     },
     "execution_count": 38,
     "metadata": {},
     "output_type": "execute_result"
    }
   ],
   "source": [
    "metrics_df_test = pd.DataFrame(\n",
    "    columns=[\n",
    "        \"dataset\",\n",
    "        \"class_\",\n",
    "        \"dim\",\n",
    "        \"trustworthiness\",\n",
    "        \"silhouette_score\",\n",
    "        \"silhouette_samples\",\n",
    "    ]\n",
    ")\n",
    "metrics_df_test.loc[len(metrics_df)] = [dataset, algorithm, n_components, tw_test, ss_test, sil_samp_test]\n",
    "metrics_df_test"
   ]
  },
  {
   "cell_type": "code",
   "execution_count": 39,
   "metadata": {
    "ExecuteTime": {
     "end_time": "2021-01-15T04:50:28.024591Z",
     "start_time": "2021-01-15T04:50:27.842375Z"
    }
   },
   "outputs": [],
   "source": [
    "save_loc = DATA_DIR / 'projection_metrics' / algorithm / 'test' / str(n_components) / (dataset + '.pickle')\n",
    "ensure_dir(save_loc)\n",
    "metrics_df.to_pickle(save_loc)"
   ]
  },
  {
   "cell_type": "markdown",
   "metadata": {},
   "source": [
    "#### knn "
   ]
  },
  {
   "cell_type": "code",
   "execution_count": 40,
   "metadata": {
    "ExecuteTime": {
     "end_time": "2021-01-15T04:50:28.182547Z",
     "start_time": "2021-01-15T04:50:28.029297Z"
    }
   },
   "outputs": [
    {
     "data": {
      "text/html": [
       "<div>\n",
       "<style scoped>\n",
       "    .dataframe tbody tr th:only-of-type {\n",
       "        vertical-align: middle;\n",
       "    }\n",
       "\n",
       "    .dataframe tbody tr th {\n",
       "        vertical-align: top;\n",
       "    }\n",
       "\n",
       "    .dataframe thead th {\n",
       "        text-align: right;\n",
       "    }\n",
       "</style>\n",
       "<table border=\"1\" class=\"dataframe\">\n",
       "  <thead>\n",
       "    <tr style=\"text-align: right;\">\n",
       "      <th></th>\n",
       "      <th>method_</th>\n",
       "      <th>dimensions</th>\n",
       "      <th>dataset</th>\n",
       "      <th>1NN_acc</th>\n",
       "      <th>5NN_acc</th>\n",
       "    </tr>\n",
       "  </thead>\n",
       "  <tbody>\n",
       "    <tr>\n",
       "      <th>0</th>\n",
       "      <td>ivis</td>\n",
       "      <td>64</td>\n",
       "      <td>cifar10</td>\n",
       "      <td>0.3571</td>\n",
       "      <td>0.38</td>\n",
       "    </tr>\n",
       "  </tbody>\n",
       "</table>\n",
       "</div>"
      ],
      "text/plain": [
       "  method_ dimensions  dataset  1NN_acc  5NN_acc\n",
       "0    ivis         64  cifar10   0.3571     0.38"
      ]
     },
     "execution_count": 40,
     "metadata": {},
     "output_type": "execute_result"
    }
   ],
   "source": [
    "nn_acc_df = pd.DataFrame(columns = [\"method_\",\"dimensions\",\"dataset\",\"1NN_acc\",\"5NN_acc\"])\n",
    "nn_acc_df.loc[len(nn_acc_df)] = [algorithm, n_components, dataset,  score_1nn, score_5nn]\n",
    "nn_acc_df"
   ]
  },
  {
   "cell_type": "code",
   "execution_count": 41,
   "metadata": {
    "ExecuteTime": {
     "end_time": "2021-01-15T04:50:28.342889Z",
     "start_time": "2021-01-15T04:50:28.187796Z"
    }
   },
   "outputs": [],
   "source": [
    "save_loc = DATA_DIR / 'knn_classifier' / algorithm / 'train' / str(n_components) / (dataset + '.pickle')\n",
    "ensure_dir(save_loc)\n",
    "nn_acc_df.to_pickle(save_loc)"
   ]
  },
  {
   "cell_type": "markdown",
   "metadata": {},
   "source": [
    "### Compute clustering quality"
   ]
  },
  {
   "cell_type": "code",
   "execution_count": 42,
   "metadata": {
    "ExecuteTime": {
     "end_time": "2021-01-15T04:50:28.508791Z",
     "start_time": "2021-01-15T04:50:28.345280Z"
    }
   },
   "outputs": [],
   "source": [
    "from sklearn.cluster import KMeans\n",
    "from sklearn.metrics import homogeneity_completeness_v_measure"
   ]
  },
  {
   "cell_type": "code",
   "execution_count": 43,
   "metadata": {
    "ExecuteTime": {
     "end_time": "2021-01-15T04:50:28.793900Z",
     "start_time": "2021-01-15T04:50:28.529753Z"
    }
   },
   "outputs": [],
   "source": [
    "def get_cluster_metrics(row, n_init=5):\n",
    "    \n",
    "    # load cluster information\n",
    "    save_loc = DATA_DIR / 'clustering_metric_df'/ ('_'.join([row.class_, str(row.dim), row.dataset]) + '.pickle')\n",
    "    print(save_loc)\n",
    "    if save_loc.exists() and save_loc.is_file():\n",
    "        \n",
    "        cluster_df = pd.read_pickle(save_loc)\n",
    "        return cluster_df\n",
    "    \n",
    "    # make cluster metric dataframe\n",
    "    cluster_df = pd.DataFrame(\n",
    "        columns=[\n",
    "            \"dataset\",\n",
    "            \"class_\",\n",
    "            \"dim\",\n",
    "            \"silhouette\",\n",
    "            \"homogeneity\",\n",
    "            \"completeness\",\n",
    "            \"v_measure\",\n",
    "            \"init_\",\n",
    "            \"n_clusters\",\n",
    "            \"model\",\n",
    "        ]\n",
    "    )\n",
    "    y = row.train_label\n",
    "    z = row.train_z\n",
    "    n_labels = len(np.unique(y))\n",
    "    for n_clusters in tqdm(np.arange(n_labels - int(n_labels / 2), n_labels + int(n_labels / 2)), leave=False, desc = 'n_clusters'):\n",
    "        for init_ in tqdm(range(n_init), leave=False, desc='init'):\n",
    "            kmeans = KMeans(n_clusters=n_clusters, random_state=init_).fit(z)\n",
    "            clustered_y = kmeans.labels_\n",
    "            homogeneity, completeness, v_measure = homogeneity_completeness_v_measure(\n",
    "                np.array(y).flatten(), np.array(clustered_y).flatten()\n",
    "            )\n",
    "            ss, _ = silhouette_score_block(z, clustered_y)\n",
    "            cluster_df.loc[len(cluster_df)] = [\n",
    "                row.dataset,\n",
    "                row.class_,\n",
    "                row.dim,\n",
    "                ss,\n",
    "                homogeneity,\n",
    "                completeness,\n",
    "                v_measure,\n",
    "                init_,\n",
    "                n_clusters,\n",
    "                kmeans,\n",
    "            ]\n",
    "    \n",
    "     # save cluster df in case this fails somewhere\n",
    "    ensure_dir(save_loc)\n",
    "    cluster_df.to_pickle(save_loc)\n",
    "    return cluster_df"
   ]
  },
  {
   "cell_type": "code",
   "execution_count": 44,
   "metadata": {
    "ExecuteTime": {
     "end_time": "2021-01-15T04:50:29.629721Z",
     "start_time": "2021-01-15T04:50:28.795573Z"
    }
   },
   "outputs": [
    {
     "data": {
      "text/html": [
       "<div>\n",
       "<style scoped>\n",
       "    .dataframe tbody tr th:only-of-type {\n",
       "        vertical-align: middle;\n",
       "    }\n",
       "\n",
       "    .dataframe tbody tr th {\n",
       "        vertical-align: top;\n",
       "    }\n",
       "\n",
       "    .dataframe thead th {\n",
       "        text-align: right;\n",
       "    }\n",
       "</style>\n",
       "<table border=\"1\" class=\"dataframe\">\n",
       "  <thead>\n",
       "    <tr style=\"text-align: right;\">\n",
       "      <th></th>\n",
       "      <th>dataset</th>\n",
       "      <th>class_</th>\n",
       "      <th>train_z</th>\n",
       "      <th>train_label</th>\n",
       "      <th>dim</th>\n",
       "    </tr>\n",
       "  </thead>\n",
       "  <tbody>\n",
       "    <tr>\n",
       "      <th>0</th>\n",
       "      <td>cifar10</td>\n",
       "      <td>ivis</td>\n",
       "      <td>[[0.59005785, -0.2067197, 0.31626558, -0.88291...</td>\n",
       "      <td>[[6], [9], [9], [4], [1], [1], [2], [7], [8], ...</td>\n",
       "      <td>64</td>\n",
       "    </tr>\n",
       "  </tbody>\n",
       "</table>\n",
       "</div>"
      ],
      "text/plain": [
       "   dataset class_                                            train_z  \\\n",
       "0  cifar10   ivis  [[0.59005785, -0.2067197, 0.31626558, -0.88291...   \n",
       "\n",
       "                                         train_label dim  \n",
       "0  [[6], [9], [9], [4], [1], [1], [2], [7], [8], ...  64  "
      ]
     },
     "execution_count": 44,
     "metadata": {},
     "output_type": "execute_result"
    }
   ],
   "source": [
    "projection_df = pd.DataFrame(columns = ['dataset', 'class_', 'train_z', 'train_label', 'dim'])\n",
    "projection_df.loc[len(projection_df)] = [dataset, algorithm, z, Y_train, n_components]\n",
    "projection_df"
   ]
  },
  {
   "cell_type": "code",
   "execution_count": 45,
   "metadata": {
    "ExecuteTime": {
     "end_time": "2021-01-15T04:50:29.882726Z",
     "start_time": "2021-01-15T04:50:29.631519Z"
    }
   },
   "outputs": [],
   "source": [
    "??get_cluster_metrics"
   ]
  },
  {
   "cell_type": "code",
   "execution_count": 46,
   "metadata": {
    "ExecuteTime": {
     "end_time": "2021-01-15T05:59:38.959254Z",
     "start_time": "2021-01-15T04:50:29.888804Z"
    }
   },
   "outputs": [
    {
     "name": "stdout",
     "output_type": "stream",
     "text": [
      "/mnt/cube/tsainbur/Projects/github_repos/umap_tf_networks/data/clustering_metric_df/ivis_64_cifar10.pickle\n"
     ]
    },
    {
     "data": {
      "application/vnd.jupyter.widget-view+json": {
       "model_id": "",
       "version_major": 2,
       "version_minor": 0
      },
      "text/plain": [
       "n_clusters:   0%|          | 0/10 [00:00<?, ?it/s]"
      ]
     },
     "metadata": {},
     "output_type": "display_data"
    },
    {
     "data": {
      "application/vnd.jupyter.widget-view+json": {
       "model_id": "",
       "version_major": 2,
       "version_minor": 0
      },
      "text/plain": [
       "init:   0%|          | 0/5 [00:00<?, ?it/s]"
      ]
     },
     "metadata": {},
     "output_type": "display_data"
    },
    {
     "data": {
      "application/vnd.jupyter.widget-view+json": {
       "model_id": "",
       "version_major": 2,
       "version_minor": 0
      },
      "text/plain": [
       "init:   0%|          | 0/5 [00:00<?, ?it/s]"
      ]
     },
     "metadata": {},
     "output_type": "display_data"
    },
    {
     "data": {
      "application/vnd.jupyter.widget-view+json": {
       "model_id": "",
       "version_major": 2,
       "version_minor": 0
      },
      "text/plain": [
       "init:   0%|          | 0/5 [00:00<?, ?it/s]"
      ]
     },
     "metadata": {},
     "output_type": "display_data"
    },
    {
     "data": {
      "application/vnd.jupyter.widget-view+json": {
       "model_id": "",
       "version_major": 2,
       "version_minor": 0
      },
      "text/plain": [
       "init:   0%|          | 0/5 [00:00<?, ?it/s]"
      ]
     },
     "metadata": {},
     "output_type": "display_data"
    },
    {
     "data": {
      "application/vnd.jupyter.widget-view+json": {
       "model_id": "",
       "version_major": 2,
       "version_minor": 0
      },
      "text/plain": [
       "init:   0%|          | 0/5 [00:00<?, ?it/s]"
      ]
     },
     "metadata": {},
     "output_type": "display_data"
    },
    {
     "data": {
      "application/vnd.jupyter.widget-view+json": {
       "model_id": "",
       "version_major": 2,
       "version_minor": 0
      },
      "text/plain": [
       "init:   0%|          | 0/5 [00:00<?, ?it/s]"
      ]
     },
     "metadata": {},
     "output_type": "display_data"
    },
    {
     "data": {
      "application/vnd.jupyter.widget-view+json": {
       "model_id": "",
       "version_major": 2,
       "version_minor": 0
      },
      "text/plain": [
       "init:   0%|          | 0/5 [00:00<?, ?it/s]"
      ]
     },
     "metadata": {},
     "output_type": "display_data"
    },
    {
     "data": {
      "application/vnd.jupyter.widget-view+json": {
       "model_id": "",
       "version_major": 2,
       "version_minor": 0
      },
      "text/plain": [
       "init:   0%|          | 0/5 [00:00<?, ?it/s]"
      ]
     },
     "metadata": {},
     "output_type": "display_data"
    },
    {
     "data": {
      "application/vnd.jupyter.widget-view+json": {
       "model_id": "",
       "version_major": 2,
       "version_minor": 0
      },
      "text/plain": [
       "init:   0%|          | 0/5 [00:00<?, ?it/s]"
      ]
     },
     "metadata": {},
     "output_type": "display_data"
    },
    {
     "data": {
      "application/vnd.jupyter.widget-view+json": {
       "model_id": "",
       "version_major": 2,
       "version_minor": 0
      },
      "text/plain": [
       "init:   0%|          | 0/5 [00:00<?, ?it/s]"
      ]
     },
     "metadata": {},
     "output_type": "display_data"
    },
    {
     "data": {
      "text/html": [
       "<div>\n",
       "<style scoped>\n",
       "    .dataframe tbody tr th:only-of-type {\n",
       "        vertical-align: middle;\n",
       "    }\n",
       "\n",
       "    .dataframe tbody tr th {\n",
       "        vertical-align: top;\n",
       "    }\n",
       "\n",
       "    .dataframe thead th {\n",
       "        text-align: right;\n",
       "    }\n",
       "</style>\n",
       "<table border=\"1\" class=\"dataframe\">\n",
       "  <thead>\n",
       "    <tr style=\"text-align: right;\">\n",
       "      <th></th>\n",
       "      <th>dataset</th>\n",
       "      <th>class_</th>\n",
       "      <th>dim</th>\n",
       "      <th>silhouette</th>\n",
       "      <th>homogeneity</th>\n",
       "      <th>completeness</th>\n",
       "      <th>v_measure</th>\n",
       "      <th>init_</th>\n",
       "      <th>n_clusters</th>\n",
       "      <th>model</th>\n",
       "    </tr>\n",
       "  </thead>\n",
       "  <tbody>\n",
       "    <tr>\n",
       "      <th>0</th>\n",
       "      <td>cifar10</td>\n",
       "      <td>ivis</td>\n",
       "      <td>64</td>\n",
       "      <td>0.132964</td>\n",
       "      <td>0.072667</td>\n",
       "      <td>0.104885</td>\n",
       "      <td>0.085853</td>\n",
       "      <td>0</td>\n",
       "      <td>5</td>\n",
       "      <td>KMeans(n_clusters=5, random_state=0)</td>\n",
       "    </tr>\n",
       "    <tr>\n",
       "      <th>1</th>\n",
       "      <td>cifar10</td>\n",
       "      <td>ivis</td>\n",
       "      <td>64</td>\n",
       "      <td>0.132974</td>\n",
       "      <td>0.072698</td>\n",
       "      <td>0.104936</td>\n",
       "      <td>0.085892</td>\n",
       "      <td>1</td>\n",
       "      <td>5</td>\n",
       "      <td>KMeans(n_clusters=5, random_state=1)</td>\n",
       "    </tr>\n",
       "    <tr>\n",
       "      <th>2</th>\n",
       "      <td>cifar10</td>\n",
       "      <td>ivis</td>\n",
       "      <td>64</td>\n",
       "      <td>0.132974</td>\n",
       "      <td>0.072698</td>\n",
       "      <td>0.104936</td>\n",
       "      <td>0.085892</td>\n",
       "      <td>2</td>\n",
       "      <td>5</td>\n",
       "      <td>KMeans(n_clusters=5, random_state=2)</td>\n",
       "    </tr>\n",
       "    <tr>\n",
       "      <th>3</th>\n",
       "      <td>cifar10</td>\n",
       "      <td>ivis</td>\n",
       "      <td>64</td>\n",
       "      <td>0.132974</td>\n",
       "      <td>0.072698</td>\n",
       "      <td>0.104936</td>\n",
       "      <td>0.085892</td>\n",
       "      <td>3</td>\n",
       "      <td>5</td>\n",
       "      <td>KMeans(n_clusters=5, random_state=3)</td>\n",
       "    </tr>\n",
       "    <tr>\n",
       "      <th>4</th>\n",
       "      <td>cifar10</td>\n",
       "      <td>ivis</td>\n",
       "      <td>64</td>\n",
       "      <td>0.132974</td>\n",
       "      <td>0.072698</td>\n",
       "      <td>0.104936</td>\n",
       "      <td>0.085892</td>\n",
       "      <td>4</td>\n",
       "      <td>5</td>\n",
       "      <td>KMeans(n_clusters=5, random_state=4)</td>\n",
       "    </tr>\n",
       "    <tr>\n",
       "      <th>5</th>\n",
       "      <td>cifar10</td>\n",
       "      <td>ivis</td>\n",
       "      <td>64</td>\n",
       "      <td>0.124168</td>\n",
       "      <td>0.076941</td>\n",
       "      <td>0.099728</td>\n",
       "      <td>0.086865</td>\n",
       "      <td>0</td>\n",
       "      <td>6</td>\n",
       "      <td>KMeans(n_clusters=6, random_state=0)</td>\n",
       "    </tr>\n",
       "    <tr>\n",
       "      <th>6</th>\n",
       "      <td>cifar10</td>\n",
       "      <td>ivis</td>\n",
       "      <td>64</td>\n",
       "      <td>0.124187</td>\n",
       "      <td>0.077010</td>\n",
       "      <td>0.099808</td>\n",
       "      <td>0.086939</td>\n",
       "      <td>1</td>\n",
       "      <td>6</td>\n",
       "      <td>KMeans(n_clusters=6, random_state=1)</td>\n",
       "    </tr>\n",
       "    <tr>\n",
       "      <th>7</th>\n",
       "      <td>cifar10</td>\n",
       "      <td>ivis</td>\n",
       "      <td>64</td>\n",
       "      <td>0.124188</td>\n",
       "      <td>0.076989</td>\n",
       "      <td>0.099781</td>\n",
       "      <td>0.086915</td>\n",
       "      <td>2</td>\n",
       "      <td>6</td>\n",
       "      <td>KMeans(n_clusters=6, random_state=2)</td>\n",
       "    </tr>\n",
       "    <tr>\n",
       "      <th>8</th>\n",
       "      <td>cifar10</td>\n",
       "      <td>ivis</td>\n",
       "      <td>64</td>\n",
       "      <td>0.124150</td>\n",
       "      <td>0.076988</td>\n",
       "      <td>0.099786</td>\n",
       "      <td>0.086917</td>\n",
       "      <td>3</td>\n",
       "      <td>6</td>\n",
       "      <td>KMeans(n_clusters=6, random_state=3)</td>\n",
       "    </tr>\n",
       "    <tr>\n",
       "      <th>9</th>\n",
       "      <td>cifar10</td>\n",
       "      <td>ivis</td>\n",
       "      <td>64</td>\n",
       "      <td>0.124186</td>\n",
       "      <td>0.076999</td>\n",
       "      <td>0.099793</td>\n",
       "      <td>0.086927</td>\n",
       "      <td>4</td>\n",
       "      <td>6</td>\n",
       "      <td>KMeans(n_clusters=6, random_state=4)</td>\n",
       "    </tr>\n",
       "    <tr>\n",
       "      <th>10</th>\n",
       "      <td>cifar10</td>\n",
       "      <td>ivis</td>\n",
       "      <td>64</td>\n",
       "      <td>0.113610</td>\n",
       "      <td>0.083779</td>\n",
       "      <td>0.100875</td>\n",
       "      <td>0.091536</td>\n",
       "      <td>0</td>\n",
       "      <td>7</td>\n",
       "      <td>KMeans(n_clusters=7, random_state=0)</td>\n",
       "    </tr>\n",
       "    <tr>\n",
       "      <th>11</th>\n",
       "      <td>cifar10</td>\n",
       "      <td>ivis</td>\n",
       "      <td>64</td>\n",
       "      <td>0.113818</td>\n",
       "      <td>0.083614</td>\n",
       "      <td>0.100748</td>\n",
       "      <td>0.091385</td>\n",
       "      <td>1</td>\n",
       "      <td>7</td>\n",
       "      <td>KMeans(n_clusters=7, random_state=1)</td>\n",
       "    </tr>\n",
       "    <tr>\n",
       "      <th>12</th>\n",
       "      <td>cifar10</td>\n",
       "      <td>ivis</td>\n",
       "      <td>64</td>\n",
       "      <td>0.113697</td>\n",
       "      <td>0.083804</td>\n",
       "      <td>0.100885</td>\n",
       "      <td>0.091555</td>\n",
       "      <td>2</td>\n",
       "      <td>7</td>\n",
       "      <td>KMeans(n_clusters=7, random_state=2)</td>\n",
       "    </tr>\n",
       "    <tr>\n",
       "      <th>13</th>\n",
       "      <td>cifar10</td>\n",
       "      <td>ivis</td>\n",
       "      <td>64</td>\n",
       "      <td>0.113569</td>\n",
       "      <td>0.083756</td>\n",
       "      <td>0.100754</td>\n",
       "      <td>0.091472</td>\n",
       "      <td>3</td>\n",
       "      <td>7</td>\n",
       "      <td>KMeans(n_clusters=7, random_state=3)</td>\n",
       "    </tr>\n",
       "    <tr>\n",
       "      <th>14</th>\n",
       "      <td>cifar10</td>\n",
       "      <td>ivis</td>\n",
       "      <td>64</td>\n",
       "      <td>0.113848</td>\n",
       "      <td>0.083714</td>\n",
       "      <td>0.100875</td>\n",
       "      <td>0.091497</td>\n",
       "      <td>4</td>\n",
       "      <td>7</td>\n",
       "      <td>KMeans(n_clusters=7, random_state=4)</td>\n",
       "    </tr>\n",
       "    <tr>\n",
       "      <th>15</th>\n",
       "      <td>cifar10</td>\n",
       "      <td>ivis</td>\n",
       "      <td>64</td>\n",
       "      <td>0.105233</td>\n",
       "      <td>0.087485</td>\n",
       "      <td>0.098039</td>\n",
       "      <td>0.092462</td>\n",
       "      <td>0</td>\n",
       "      <td>8</td>\n",
       "      <td>KMeans(random_state=0)</td>\n",
       "    </tr>\n",
       "    <tr>\n",
       "      <th>16</th>\n",
       "      <td>cifar10</td>\n",
       "      <td>ivis</td>\n",
       "      <td>64</td>\n",
       "      <td>0.105232</td>\n",
       "      <td>0.087432</td>\n",
       "      <td>0.097980</td>\n",
       "      <td>0.092406</td>\n",
       "      <td>1</td>\n",
       "      <td>8</td>\n",
       "      <td>KMeans(random_state=1)</td>\n",
       "    </tr>\n",
       "    <tr>\n",
       "      <th>17</th>\n",
       "      <td>cifar10</td>\n",
       "      <td>ivis</td>\n",
       "      <td>64</td>\n",
       "      <td>0.105220</td>\n",
       "      <td>0.087517</td>\n",
       "      <td>0.098085</td>\n",
       "      <td>0.092500</td>\n",
       "      <td>2</td>\n",
       "      <td>8</td>\n",
       "      <td>KMeans(random_state=2)</td>\n",
       "    </tr>\n",
       "    <tr>\n",
       "      <th>18</th>\n",
       "      <td>cifar10</td>\n",
       "      <td>ivis</td>\n",
       "      <td>64</td>\n",
       "      <td>0.105235</td>\n",
       "      <td>0.087453</td>\n",
       "      <td>0.098005</td>\n",
       "      <td>0.092429</td>\n",
       "      <td>3</td>\n",
       "      <td>8</td>\n",
       "      <td>KMeans(random_state=3)</td>\n",
       "    </tr>\n",
       "    <tr>\n",
       "      <th>19</th>\n",
       "      <td>cifar10</td>\n",
       "      <td>ivis</td>\n",
       "      <td>64</td>\n",
       "      <td>0.105238</td>\n",
       "      <td>0.087334</td>\n",
       "      <td>0.097872</td>\n",
       "      <td>0.092303</td>\n",
       "      <td>4</td>\n",
       "      <td>8</td>\n",
       "      <td>KMeans(random_state=4)</td>\n",
       "    </tr>\n",
       "    <tr>\n",
       "      <th>20</th>\n",
       "      <td>cifar10</td>\n",
       "      <td>ivis</td>\n",
       "      <td>64</td>\n",
       "      <td>0.103431</td>\n",
       "      <td>0.087406</td>\n",
       "      <td>0.092572</td>\n",
       "      <td>0.089915</td>\n",
       "      <td>0</td>\n",
       "      <td>9</td>\n",
       "      <td>KMeans(n_clusters=9, random_state=0)</td>\n",
       "    </tr>\n",
       "    <tr>\n",
       "      <th>21</th>\n",
       "      <td>cifar10</td>\n",
       "      <td>ivis</td>\n",
       "      <td>64</td>\n",
       "      <td>0.103441</td>\n",
       "      <td>0.087438</td>\n",
       "      <td>0.092606</td>\n",
       "      <td>0.089948</td>\n",
       "      <td>1</td>\n",
       "      <td>9</td>\n",
       "      <td>KMeans(n_clusters=9, random_state=1)</td>\n",
       "    </tr>\n",
       "    <tr>\n",
       "      <th>22</th>\n",
       "      <td>cifar10</td>\n",
       "      <td>ivis</td>\n",
       "      <td>64</td>\n",
       "      <td>0.103439</td>\n",
       "      <td>0.087443</td>\n",
       "      <td>0.092612</td>\n",
       "      <td>0.089953</td>\n",
       "      <td>2</td>\n",
       "      <td>9</td>\n",
       "      <td>KMeans(n_clusters=9, random_state=2)</td>\n",
       "    </tr>\n",
       "    <tr>\n",
       "      <th>23</th>\n",
       "      <td>cifar10</td>\n",
       "      <td>ivis</td>\n",
       "      <td>64</td>\n",
       "      <td>0.103335</td>\n",
       "      <td>0.087594</td>\n",
       "      <td>0.092775</td>\n",
       "      <td>0.090110</td>\n",
       "      <td>3</td>\n",
       "      <td>9</td>\n",
       "      <td>KMeans(n_clusters=9, random_state=3)</td>\n",
       "    </tr>\n",
       "    <tr>\n",
       "      <th>24</th>\n",
       "      <td>cifar10</td>\n",
       "      <td>ivis</td>\n",
       "      <td>64</td>\n",
       "      <td>0.103456</td>\n",
       "      <td>0.087788</td>\n",
       "      <td>0.093005</td>\n",
       "      <td>0.090321</td>\n",
       "      <td>4</td>\n",
       "      <td>9</td>\n",
       "      <td>KMeans(n_clusters=9, random_state=4)</td>\n",
       "    </tr>\n",
       "    <tr>\n",
       "      <th>25</th>\n",
       "      <td>cifar10</td>\n",
       "      <td>ivis</td>\n",
       "      <td>64</td>\n",
       "      <td>0.094614</td>\n",
       "      <td>0.089063</td>\n",
       "      <td>0.090019</td>\n",
       "      <td>0.089538</td>\n",
       "      <td>0</td>\n",
       "      <td>10</td>\n",
       "      <td>KMeans(n_clusters=10, random_state=0)</td>\n",
       "    </tr>\n",
       "    <tr>\n",
       "      <th>26</th>\n",
       "      <td>cifar10</td>\n",
       "      <td>ivis</td>\n",
       "      <td>64</td>\n",
       "      <td>0.094575</td>\n",
       "      <td>0.089130</td>\n",
       "      <td>0.090075</td>\n",
       "      <td>0.089600</td>\n",
       "      <td>1</td>\n",
       "      <td>10</td>\n",
       "      <td>KMeans(n_clusters=10, random_state=1)</td>\n",
       "    </tr>\n",
       "    <tr>\n",
       "      <th>27</th>\n",
       "      <td>cifar10</td>\n",
       "      <td>ivis</td>\n",
       "      <td>64</td>\n",
       "      <td>0.094887</td>\n",
       "      <td>0.089283</td>\n",
       "      <td>0.090277</td>\n",
       "      <td>0.089777</td>\n",
       "      <td>2</td>\n",
       "      <td>10</td>\n",
       "      <td>KMeans(n_clusters=10, random_state=2)</td>\n",
       "    </tr>\n",
       "    <tr>\n",
       "      <th>28</th>\n",
       "      <td>cifar10</td>\n",
       "      <td>ivis</td>\n",
       "      <td>64</td>\n",
       "      <td>0.094633</td>\n",
       "      <td>0.089088</td>\n",
       "      <td>0.090044</td>\n",
       "      <td>0.089563</td>\n",
       "      <td>3</td>\n",
       "      <td>10</td>\n",
       "      <td>KMeans(n_clusters=10, random_state=3)</td>\n",
       "    </tr>\n",
       "    <tr>\n",
       "      <th>29</th>\n",
       "      <td>cifar10</td>\n",
       "      <td>ivis</td>\n",
       "      <td>64</td>\n",
       "      <td>0.094605</td>\n",
       "      <td>0.089100</td>\n",
       "      <td>0.090056</td>\n",
       "      <td>0.089575</td>\n",
       "      <td>4</td>\n",
       "      <td>10</td>\n",
       "      <td>KMeans(n_clusters=10, random_state=4)</td>\n",
       "    </tr>\n",
       "    <tr>\n",
       "      <th>30</th>\n",
       "      <td>cifar10</td>\n",
       "      <td>ivis</td>\n",
       "      <td>64</td>\n",
       "      <td>0.091263</td>\n",
       "      <td>0.094149</td>\n",
       "      <td>0.091248</td>\n",
       "      <td>0.092676</td>\n",
       "      <td>0</td>\n",
       "      <td>11</td>\n",
       "      <td>KMeans(n_clusters=11, random_state=0)</td>\n",
       "    </tr>\n",
       "    <tr>\n",
       "      <th>31</th>\n",
       "      <td>cifar10</td>\n",
       "      <td>ivis</td>\n",
       "      <td>64</td>\n",
       "      <td>0.091311</td>\n",
       "      <td>0.093363</td>\n",
       "      <td>0.090501</td>\n",
       "      <td>0.091910</td>\n",
       "      <td>1</td>\n",
       "      <td>11</td>\n",
       "      <td>KMeans(n_clusters=11, random_state=1)</td>\n",
       "    </tr>\n",
       "    <tr>\n",
       "      <th>32</th>\n",
       "      <td>cifar10</td>\n",
       "      <td>ivis</td>\n",
       "      <td>64</td>\n",
       "      <td>0.090925</td>\n",
       "      <td>0.093893</td>\n",
       "      <td>0.091138</td>\n",
       "      <td>0.092495</td>\n",
       "      <td>2</td>\n",
       "      <td>11</td>\n",
       "      <td>KMeans(n_clusters=11, random_state=2)</td>\n",
       "    </tr>\n",
       "    <tr>\n",
       "      <th>33</th>\n",
       "      <td>cifar10</td>\n",
       "      <td>ivis</td>\n",
       "      <td>64</td>\n",
       "      <td>0.090509</td>\n",
       "      <td>0.093835</td>\n",
       "      <td>0.091029</td>\n",
       "      <td>0.092411</td>\n",
       "      <td>3</td>\n",
       "      <td>11</td>\n",
       "      <td>KMeans(n_clusters=11, random_state=3)</td>\n",
       "    </tr>\n",
       "    <tr>\n",
       "      <th>34</th>\n",
       "      <td>cifar10</td>\n",
       "      <td>ivis</td>\n",
       "      <td>64</td>\n",
       "      <td>0.092211</td>\n",
       "      <td>0.089729</td>\n",
       "      <td>0.086742</td>\n",
       "      <td>0.088210</td>\n",
       "      <td>4</td>\n",
       "      <td>11</td>\n",
       "      <td>KMeans(n_clusters=11, random_state=4)</td>\n",
       "    </tr>\n",
       "    <tr>\n",
       "      <th>35</th>\n",
       "      <td>cifar10</td>\n",
       "      <td>ivis</td>\n",
       "      <td>64</td>\n",
       "      <td>0.091183</td>\n",
       "      <td>0.094779</td>\n",
       "      <td>0.088576</td>\n",
       "      <td>0.091573</td>\n",
       "      <td>0</td>\n",
       "      <td>12</td>\n",
       "      <td>KMeans(n_clusters=12, random_state=0)</td>\n",
       "    </tr>\n",
       "    <tr>\n",
       "      <th>36</th>\n",
       "      <td>cifar10</td>\n",
       "      <td>ivis</td>\n",
       "      <td>64</td>\n",
       "      <td>0.090864</td>\n",
       "      <td>0.094431</td>\n",
       "      <td>0.088282</td>\n",
       "      <td>0.091253</td>\n",
       "      <td>1</td>\n",
       "      <td>12</td>\n",
       "      <td>KMeans(n_clusters=12, random_state=1)</td>\n",
       "    </tr>\n",
       "    <tr>\n",
       "      <th>37</th>\n",
       "      <td>cifar10</td>\n",
       "      <td>ivis</td>\n",
       "      <td>64</td>\n",
       "      <td>0.090735</td>\n",
       "      <td>0.094963</td>\n",
       "      <td>0.088621</td>\n",
       "      <td>0.091682</td>\n",
       "      <td>2</td>\n",
       "      <td>12</td>\n",
       "      <td>KMeans(n_clusters=12, random_state=2)</td>\n",
       "    </tr>\n",
       "    <tr>\n",
       "      <th>38</th>\n",
       "      <td>cifar10</td>\n",
       "      <td>ivis</td>\n",
       "      <td>64</td>\n",
       "      <td>0.086462</td>\n",
       "      <td>0.095988</td>\n",
       "      <td>0.089638</td>\n",
       "      <td>0.092705</td>\n",
       "      <td>3</td>\n",
       "      <td>12</td>\n",
       "      <td>KMeans(n_clusters=12, random_state=3)</td>\n",
       "    </tr>\n",
       "    <tr>\n",
       "      <th>39</th>\n",
       "      <td>cifar10</td>\n",
       "      <td>ivis</td>\n",
       "      <td>64</td>\n",
       "      <td>0.090872</td>\n",
       "      <td>0.094304</td>\n",
       "      <td>0.088112</td>\n",
       "      <td>0.091103</td>\n",
       "      <td>4</td>\n",
       "      <td>12</td>\n",
       "      <td>KMeans(n_clusters=12, random_state=4)</td>\n",
       "    </tr>\n",
       "    <tr>\n",
       "      <th>40</th>\n",
       "      <td>cifar10</td>\n",
       "      <td>ivis</td>\n",
       "      <td>64</td>\n",
       "      <td>0.088705</td>\n",
       "      <td>0.099761</td>\n",
       "      <td>0.090055</td>\n",
       "      <td>0.094660</td>\n",
       "      <td>0</td>\n",
       "      <td>13</td>\n",
       "      <td>KMeans(n_clusters=13, random_state=0)</td>\n",
       "    </tr>\n",
       "    <tr>\n",
       "      <th>41</th>\n",
       "      <td>cifar10</td>\n",
       "      <td>ivis</td>\n",
       "      <td>64</td>\n",
       "      <td>0.088947</td>\n",
       "      <td>0.099337</td>\n",
       "      <td>0.089672</td>\n",
       "      <td>0.094257</td>\n",
       "      <td>1</td>\n",
       "      <td>13</td>\n",
       "      <td>KMeans(n_clusters=13, random_state=1)</td>\n",
       "    </tr>\n",
       "    <tr>\n",
       "      <th>42</th>\n",
       "      <td>cifar10</td>\n",
       "      <td>ivis</td>\n",
       "      <td>64</td>\n",
       "      <td>0.086572</td>\n",
       "      <td>0.096071</td>\n",
       "      <td>0.086856</td>\n",
       "      <td>0.091231</td>\n",
       "      <td>2</td>\n",
       "      <td>13</td>\n",
       "      <td>KMeans(n_clusters=13, random_state=2)</td>\n",
       "    </tr>\n",
       "    <tr>\n",
       "      <th>43</th>\n",
       "      <td>cifar10</td>\n",
       "      <td>ivis</td>\n",
       "      <td>64</td>\n",
       "      <td>0.086647</td>\n",
       "      <td>0.096063</td>\n",
       "      <td>0.086860</td>\n",
       "      <td>0.091230</td>\n",
       "      <td>3</td>\n",
       "      <td>13</td>\n",
       "      <td>KMeans(n_clusters=13, random_state=3)</td>\n",
       "    </tr>\n",
       "    <tr>\n",
       "      <th>44</th>\n",
       "      <td>cifar10</td>\n",
       "      <td>ivis</td>\n",
       "      <td>64</td>\n",
       "      <td>0.086522</td>\n",
       "      <td>0.096004</td>\n",
       "      <td>0.086796</td>\n",
       "      <td>0.091168</td>\n",
       "      <td>4</td>\n",
       "      <td>13</td>\n",
       "      <td>KMeans(n_clusters=13, random_state=4)</td>\n",
       "    </tr>\n",
       "    <tr>\n",
       "      <th>45</th>\n",
       "      <td>cifar10</td>\n",
       "      <td>ivis</td>\n",
       "      <td>64</td>\n",
       "      <td>0.085265</td>\n",
       "      <td>0.101722</td>\n",
       "      <td>0.089171</td>\n",
       "      <td>0.095034</td>\n",
       "      <td>0</td>\n",
       "      <td>14</td>\n",
       "      <td>KMeans(n_clusters=14, random_state=0)</td>\n",
       "    </tr>\n",
       "    <tr>\n",
       "      <th>46</th>\n",
       "      <td>cifar10</td>\n",
       "      <td>ivis</td>\n",
       "      <td>64</td>\n",
       "      <td>0.085095</td>\n",
       "      <td>0.101257</td>\n",
       "      <td>0.088745</td>\n",
       "      <td>0.094589</td>\n",
       "      <td>1</td>\n",
       "      <td>14</td>\n",
       "      <td>KMeans(n_clusters=14, random_state=1)</td>\n",
       "    </tr>\n",
       "    <tr>\n",
       "      <th>47</th>\n",
       "      <td>cifar10</td>\n",
       "      <td>ivis</td>\n",
       "      <td>64</td>\n",
       "      <td>0.085171</td>\n",
       "      <td>0.101399</td>\n",
       "      <td>0.088900</td>\n",
       "      <td>0.094739</td>\n",
       "      <td>2</td>\n",
       "      <td>14</td>\n",
       "      <td>KMeans(n_clusters=14, random_state=2)</td>\n",
       "    </tr>\n",
       "    <tr>\n",
       "      <th>48</th>\n",
       "      <td>cifar10</td>\n",
       "      <td>ivis</td>\n",
       "      <td>64</td>\n",
       "      <td>0.085274</td>\n",
       "      <td>0.101586</td>\n",
       "      <td>0.089044</td>\n",
       "      <td>0.094902</td>\n",
       "      <td>3</td>\n",
       "      <td>14</td>\n",
       "      <td>KMeans(n_clusters=14, random_state=3)</td>\n",
       "    </tr>\n",
       "    <tr>\n",
       "      <th>49</th>\n",
       "      <td>cifar10</td>\n",
       "      <td>ivis</td>\n",
       "      <td>64</td>\n",
       "      <td>0.085258</td>\n",
       "      <td>0.101480</td>\n",
       "      <td>0.088971</td>\n",
       "      <td>0.094815</td>\n",
       "      <td>4</td>\n",
       "      <td>14</td>\n",
       "      <td>KMeans(n_clusters=14, random_state=4)</td>\n",
       "    </tr>\n",
       "  </tbody>\n",
       "</table>\n",
       "</div>"
      ],
      "text/plain": [
       "    dataset class_ dim  silhouette  homogeneity  completeness  v_measure  \\\n",
       "0   cifar10   ivis  64    0.132964     0.072667      0.104885   0.085853   \n",
       "1   cifar10   ivis  64    0.132974     0.072698      0.104936   0.085892   \n",
       "2   cifar10   ivis  64    0.132974     0.072698      0.104936   0.085892   \n",
       "3   cifar10   ivis  64    0.132974     0.072698      0.104936   0.085892   \n",
       "4   cifar10   ivis  64    0.132974     0.072698      0.104936   0.085892   \n",
       "5   cifar10   ivis  64    0.124168     0.076941      0.099728   0.086865   \n",
       "6   cifar10   ivis  64    0.124187     0.077010      0.099808   0.086939   \n",
       "7   cifar10   ivis  64    0.124188     0.076989      0.099781   0.086915   \n",
       "8   cifar10   ivis  64    0.124150     0.076988      0.099786   0.086917   \n",
       "9   cifar10   ivis  64    0.124186     0.076999      0.099793   0.086927   \n",
       "10  cifar10   ivis  64    0.113610     0.083779      0.100875   0.091536   \n",
       "11  cifar10   ivis  64    0.113818     0.083614      0.100748   0.091385   \n",
       "12  cifar10   ivis  64    0.113697     0.083804      0.100885   0.091555   \n",
       "13  cifar10   ivis  64    0.113569     0.083756      0.100754   0.091472   \n",
       "14  cifar10   ivis  64    0.113848     0.083714      0.100875   0.091497   \n",
       "15  cifar10   ivis  64    0.105233     0.087485      0.098039   0.092462   \n",
       "16  cifar10   ivis  64    0.105232     0.087432      0.097980   0.092406   \n",
       "17  cifar10   ivis  64    0.105220     0.087517      0.098085   0.092500   \n",
       "18  cifar10   ivis  64    0.105235     0.087453      0.098005   0.092429   \n",
       "19  cifar10   ivis  64    0.105238     0.087334      0.097872   0.092303   \n",
       "20  cifar10   ivis  64    0.103431     0.087406      0.092572   0.089915   \n",
       "21  cifar10   ivis  64    0.103441     0.087438      0.092606   0.089948   \n",
       "22  cifar10   ivis  64    0.103439     0.087443      0.092612   0.089953   \n",
       "23  cifar10   ivis  64    0.103335     0.087594      0.092775   0.090110   \n",
       "24  cifar10   ivis  64    0.103456     0.087788      0.093005   0.090321   \n",
       "25  cifar10   ivis  64    0.094614     0.089063      0.090019   0.089538   \n",
       "26  cifar10   ivis  64    0.094575     0.089130      0.090075   0.089600   \n",
       "27  cifar10   ivis  64    0.094887     0.089283      0.090277   0.089777   \n",
       "28  cifar10   ivis  64    0.094633     0.089088      0.090044   0.089563   \n",
       "29  cifar10   ivis  64    0.094605     0.089100      0.090056   0.089575   \n",
       "30  cifar10   ivis  64    0.091263     0.094149      0.091248   0.092676   \n",
       "31  cifar10   ivis  64    0.091311     0.093363      0.090501   0.091910   \n",
       "32  cifar10   ivis  64    0.090925     0.093893      0.091138   0.092495   \n",
       "33  cifar10   ivis  64    0.090509     0.093835      0.091029   0.092411   \n",
       "34  cifar10   ivis  64    0.092211     0.089729      0.086742   0.088210   \n",
       "35  cifar10   ivis  64    0.091183     0.094779      0.088576   0.091573   \n",
       "36  cifar10   ivis  64    0.090864     0.094431      0.088282   0.091253   \n",
       "37  cifar10   ivis  64    0.090735     0.094963      0.088621   0.091682   \n",
       "38  cifar10   ivis  64    0.086462     0.095988      0.089638   0.092705   \n",
       "39  cifar10   ivis  64    0.090872     0.094304      0.088112   0.091103   \n",
       "40  cifar10   ivis  64    0.088705     0.099761      0.090055   0.094660   \n",
       "41  cifar10   ivis  64    0.088947     0.099337      0.089672   0.094257   \n",
       "42  cifar10   ivis  64    0.086572     0.096071      0.086856   0.091231   \n",
       "43  cifar10   ivis  64    0.086647     0.096063      0.086860   0.091230   \n",
       "44  cifar10   ivis  64    0.086522     0.096004      0.086796   0.091168   \n",
       "45  cifar10   ivis  64    0.085265     0.101722      0.089171   0.095034   \n",
       "46  cifar10   ivis  64    0.085095     0.101257      0.088745   0.094589   \n",
       "47  cifar10   ivis  64    0.085171     0.101399      0.088900   0.094739   \n",
       "48  cifar10   ivis  64    0.085274     0.101586      0.089044   0.094902   \n",
       "49  cifar10   ivis  64    0.085258     0.101480      0.088971   0.094815   \n",
       "\n",
       "   init_ n_clusters                                  model  \n",
       "0      0          5   KMeans(n_clusters=5, random_state=0)  \n",
       "1      1          5   KMeans(n_clusters=5, random_state=1)  \n",
       "2      2          5   KMeans(n_clusters=5, random_state=2)  \n",
       "3      3          5   KMeans(n_clusters=5, random_state=3)  \n",
       "4      4          5   KMeans(n_clusters=5, random_state=4)  \n",
       "5      0          6   KMeans(n_clusters=6, random_state=0)  \n",
       "6      1          6   KMeans(n_clusters=6, random_state=1)  \n",
       "7      2          6   KMeans(n_clusters=6, random_state=2)  \n",
       "8      3          6   KMeans(n_clusters=6, random_state=3)  \n",
       "9      4          6   KMeans(n_clusters=6, random_state=4)  \n",
       "10     0          7   KMeans(n_clusters=7, random_state=0)  \n",
       "11     1          7   KMeans(n_clusters=7, random_state=1)  \n",
       "12     2          7   KMeans(n_clusters=7, random_state=2)  \n",
       "13     3          7   KMeans(n_clusters=7, random_state=3)  \n",
       "14     4          7   KMeans(n_clusters=7, random_state=4)  \n",
       "15     0          8                 KMeans(random_state=0)  \n",
       "16     1          8                 KMeans(random_state=1)  \n",
       "17     2          8                 KMeans(random_state=2)  \n",
       "18     3          8                 KMeans(random_state=3)  \n",
       "19     4          8                 KMeans(random_state=4)  \n",
       "20     0          9   KMeans(n_clusters=9, random_state=0)  \n",
       "21     1          9   KMeans(n_clusters=9, random_state=1)  \n",
       "22     2          9   KMeans(n_clusters=9, random_state=2)  \n",
       "23     3          9   KMeans(n_clusters=9, random_state=3)  \n",
       "24     4          9   KMeans(n_clusters=9, random_state=4)  \n",
       "25     0         10  KMeans(n_clusters=10, random_state=0)  \n",
       "26     1         10  KMeans(n_clusters=10, random_state=1)  \n",
       "27     2         10  KMeans(n_clusters=10, random_state=2)  \n",
       "28     3         10  KMeans(n_clusters=10, random_state=3)  \n",
       "29     4         10  KMeans(n_clusters=10, random_state=4)  \n",
       "30     0         11  KMeans(n_clusters=11, random_state=0)  \n",
       "31     1         11  KMeans(n_clusters=11, random_state=1)  \n",
       "32     2         11  KMeans(n_clusters=11, random_state=2)  \n",
       "33     3         11  KMeans(n_clusters=11, random_state=3)  \n",
       "34     4         11  KMeans(n_clusters=11, random_state=4)  \n",
       "35     0         12  KMeans(n_clusters=12, random_state=0)  \n",
       "36     1         12  KMeans(n_clusters=12, random_state=1)  \n",
       "37     2         12  KMeans(n_clusters=12, random_state=2)  \n",
       "38     3         12  KMeans(n_clusters=12, random_state=3)  \n",
       "39     4         12  KMeans(n_clusters=12, random_state=4)  \n",
       "40     0         13  KMeans(n_clusters=13, random_state=0)  \n",
       "41     1         13  KMeans(n_clusters=13, random_state=1)  \n",
       "42     2         13  KMeans(n_clusters=13, random_state=2)  \n",
       "43     3         13  KMeans(n_clusters=13, random_state=3)  \n",
       "44     4         13  KMeans(n_clusters=13, random_state=4)  \n",
       "45     0         14  KMeans(n_clusters=14, random_state=0)  \n",
       "46     1         14  KMeans(n_clusters=14, random_state=1)  \n",
       "47     2         14  KMeans(n_clusters=14, random_state=2)  \n",
       "48     3         14  KMeans(n_clusters=14, random_state=3)  \n",
       "49     4         14  KMeans(n_clusters=14, random_state=4)  "
      ]
     },
     "execution_count": 46,
     "metadata": {},
     "output_type": "execute_result"
    }
   ],
   "source": [
    "get_cluster_metrics(projection_df.iloc[0], n_init=5)"
   ]
  },
  {
   "cell_type": "code",
   "execution_count": null,
   "metadata": {},
   "outputs": [],
   "source": []
  },
  {
   "cell_type": "code",
   "execution_count": null,
   "metadata": {},
   "outputs": [],
   "source": []
  },
  {
   "cell_type": "code",
   "execution_count": null,
   "metadata": {},
   "outputs": [],
   "source": []
  },
  {
   "cell_type": "code",
   "execution_count": null,
   "metadata": {},
   "outputs": [],
   "source": []
  },
  {
   "cell_type": "code",
   "execution_count": null,
   "metadata": {},
   "outputs": [],
   "source": []
  },
  {
   "cell_type": "code",
   "execution_count": null,
   "metadata": {},
   "outputs": [],
   "source": []
  }
 ],
 "metadata": {
  "kernelspec": {
   "display_name": "Python [conda env:tfumap]",
   "language": "python",
   "name": "conda-env-tfumap-py"
  },
  "language_info": {
   "codemirror_mode": {
    "name": "ipython",
    "version": 3
   },
   "file_extension": ".py",
   "mimetype": "text/x-python",
   "name": "python",
   "nbconvert_exporter": "python",
   "pygments_lexer": "ipython3",
   "version": "3.7.9"
  }
 },
 "nbformat": 4,
 "nbformat_minor": 4
}
