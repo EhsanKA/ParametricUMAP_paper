{
 "cells": [
  {
   "cell_type": "code",
   "execution_count": 1,
   "metadata": {
    "ExecuteTime": {
     "end_time": "2020-08-22T05:03:53.608281Z",
     "start_time": "2020-08-22T05:03:53.595167Z"
    }
   },
   "outputs": [],
   "source": [
    "# reload packages\n",
    "%load_ext autoreload\n",
    "%autoreload 2"
   ]
  },
  {
   "cell_type": "markdown",
   "metadata": {},
   "source": [
    "### Choose GPU (this may not be needed on your computer)"
   ]
  },
  {
   "cell_type": "code",
   "execution_count": 2,
   "metadata": {
    "ExecuteTime": {
     "end_time": "2020-08-22T05:03:53.618979Z",
     "start_time": "2020-08-22T05:03:53.609613Z"
    }
   },
   "outputs": [
    {
     "name": "stdout",
     "output_type": "stream",
     "text": [
      "env: CUDA_DEVICE_ORDER=PCI_BUS_ID\n",
      "env: CUDA_VISIBLE_DEVICES=0\n"
     ]
    }
   ],
   "source": [
    "%env CUDA_DEVICE_ORDER=PCI_BUS_ID\n",
    "%env CUDA_VISIBLE_DEVICES=0"
   ]
  },
  {
   "cell_type": "code",
   "execution_count": 3,
   "metadata": {
    "ExecuteTime": {
     "end_time": "2020-08-22T05:03:56.821341Z",
     "start_time": "2020-08-22T05:03:53.620253Z"
    }
   },
   "outputs": [
    {
     "name": "stdout",
     "output_type": "stream",
     "text": [
      "[PhysicalDevice(name='/physical_device:GPU:0', device_type='GPU')]\n"
     ]
    }
   ],
   "source": [
    "import tensorflow as tf\n",
    "gpu_devices = tf.config.experimental.list_physical_devices('GPU')\n",
    "if len(gpu_devices)>0:\n",
    "    tf.config.experimental.set_memory_growth(gpu_devices[0], True)\n",
    "print(gpu_devices)\n",
    "tf.keras.backend.clear_session()"
   ]
  },
  {
   "cell_type": "markdown",
   "metadata": {},
   "source": [
    "### load packages"
   ]
  },
  {
   "cell_type": "code",
   "execution_count": 4,
   "metadata": {
    "ExecuteTime": {
     "end_time": "2020-08-22T05:04:01.596245Z",
     "start_time": "2020-08-22T05:03:56.823230Z"
    }
   },
   "outputs": [
    {
     "name": "stderr",
     "output_type": "stream",
     "text": [
      "/mnt/cube/tsainbur/conda_envs/tpy3/lib/python3.6/site-packages/tqdm/autonotebook/__init__.py:14: TqdmExperimentalWarning: Using `tqdm.autonotebook.tqdm` in notebook mode. Use `tqdm.tqdm` instead to force console mode (e.g. in jupyter console)\n",
      "  \" (e.g. in jupyter console)\", TqdmExperimentalWarning)\n"
     ]
    }
   ],
   "source": [
    "from tfumap.umap import tfUMAP"
   ]
  },
  {
   "cell_type": "code",
   "execution_count": 5,
   "metadata": {
    "ExecuteTime": {
     "end_time": "2020-08-22T05:04:01.734291Z",
     "start_time": "2020-08-22T05:04:01.598034Z"
    }
   },
   "outputs": [],
   "source": [
    "import tensorflow as tf\n",
    "import numpy as np\n",
    "import matplotlib.pyplot as plt\n",
    "from tqdm.autonotebook import tqdm\n",
    "import umap\n",
    "import pandas as pd"
   ]
  },
  {
   "cell_type": "markdown",
   "metadata": {},
   "source": [
    "### Load dataset"
   ]
  },
  {
   "cell_type": "code",
   "execution_count": 6,
   "metadata": {
    "ExecuteTime": {
     "end_time": "2020-08-22T05:04:01.776913Z",
     "start_time": "2020-08-22T05:04:01.736098Z"
    }
   },
   "outputs": [],
   "source": [
    "dataset = 'cifar10'\n",
    "dims = (32,32,3)\n",
    "n_components = 2"
   ]
  },
  {
   "cell_type": "code",
   "execution_count": 7,
   "metadata": {
    "ExecuteTime": {
     "end_time": "2020-08-22T05:04:01.813785Z",
     "start_time": "2020-08-22T05:04:01.779287Z"
    }
   },
   "outputs": [],
   "source": [
    "from tensorflow.keras.datasets import cifar10"
   ]
  },
  {
   "cell_type": "code",
   "execution_count": 8,
   "metadata": {
    "ExecuteTime": {
     "end_time": "2020-08-22T05:04:03.017348Z",
     "start_time": "2020-08-22T05:04:01.816773Z"
    }
   },
   "outputs": [
    {
     "name": "stdout",
     "output_type": "stream",
     "text": [
      "40000 10000 10000\n"
     ]
    }
   ],
   "source": [
    "# load dataset\n",
    "(train_images, Y_train), (test_images, Y_test) = cifar10.load_data()\n",
    "X_train = (train_images/255.).astype('float32')\n",
    "X_test = (test_images/255.).astype('float32')\n",
    "X_train = X_train.reshape((len(X_train), np.product(np.shape(X_train)[1:])))\n",
    "X_test = X_test.reshape((len(X_test), np.product(np.shape(X_test)[1:])))\n",
    "\n",
    "# subset a validation set\n",
    "n_valid = 10000\n",
    "X_valid = X_train[-n_valid:]\n",
    "Y_valid = Y_train[-n_valid:]\n",
    "X_train = X_train[:-n_valid]\n",
    "Y_train = Y_train[:-n_valid]\n",
    "\n",
    "# flatten X\n",
    "X_train_flat = X_train.reshape((len(X_train), np.product(np.shape(X_train)[1:])))\n",
    "X_test_flat = X_test.reshape((len(X_test), np.product(np.shape(X_test)[1:])))\n",
    "X_valid_flat= X_valid.reshape((len(X_valid), np.product(np.shape(X_valid)[1:])))\n",
    "print(len(X_train), len(X_valid), len(X_test))"
   ]
  },
  {
   "cell_type": "markdown",
   "metadata": {},
   "source": [
    "### define networks"
   ]
  },
  {
   "cell_type": "code",
   "execution_count": 9,
   "metadata": {
    "ExecuteTime": {
     "end_time": "2020-08-22T05:04:04.317885Z",
     "start_time": "2020-08-22T05:04:03.019613Z"
    }
   },
   "outputs": [],
   "source": [
    "encoder = tf.keras.Sequential([\n",
    "    tf.keras.layers.InputLayer(input_shape=dims),\n",
    "    tf.keras.layers.Conv2D(\n",
    "        filters=32, kernel_size=3, strides=(2, 2), activation=\"relu\"\n",
    "    ),\n",
    "    tf.keras.layers.Conv2D(\n",
    "        filters=64, kernel_size=3, strides=(2, 2), activation=\"relu\"\n",
    "    ),\n",
    "    tf.keras.layers.Conv2D(\n",
    "        filters=128, kernel_size=3, strides=(2, 2), activation=\"relu\"\n",
    "    ),\n",
    "\n",
    "    tf.keras.layers.Flatten(),\n",
    "    tf.keras.layers.Dense(units=512, activation=\"relu\"),\n",
    "    tf.keras.layers.Dense(units=n_components),\n",
    "])"
   ]
  },
  {
   "cell_type": "code",
   "execution_count": 10,
   "metadata": {
    "ExecuteTime": {
     "end_time": "2020-08-22T05:04:04.485780Z",
     "start_time": "2020-08-22T05:04:04.319742Z"
    }
   },
   "outputs": [],
   "source": [
    "decoder = tf.keras.Sequential([\n",
    "    tf.keras.layers.InputLayer(input_shape=(n_components)),\n",
    "    tf.keras.layers.Dense(units=512, activation=\"relu\"),\n",
    "    tf.keras.layers.Dense(units=4 * 4 * 128, activation=\"relu\"),\n",
    "    tf.keras.layers.Reshape(target_shape=(4, 4, 128)),\n",
    "    tf.keras.layers.Conv2DTranspose(\n",
    "        filters=128, kernel_size=3, strides=(2, 2), padding=\"SAME\", activation=\"relu\"\n",
    "    ),\n",
    "    tf.keras.layers.Conv2DTranspose(\n",
    "        filters=64, kernel_size=3, strides=(2, 2), padding=\"SAME\", activation=\"relu\"\n",
    "    ),\n",
    "    tf.keras.layers.Conv2DTranspose(\n",
    "        filters=32, kernel_size=3, strides=(2, 2), padding=\"SAME\", activation=\"relu\"\n",
    "    ),\n",
    "    tf.keras.layers.Conv2DTranspose(\n",
    "        filters=3, kernel_size=3, strides=(1, 1), padding=\"SAME\", activation=\"sigmoid\"\n",
    "    )\n",
    "])"
   ]
  },
  {
   "cell_type": "code",
   "execution_count": 11,
   "metadata": {
    "ExecuteTime": {
     "end_time": "2020-08-22T05:04:04.585498Z",
     "start_time": "2020-08-22T05:04:04.487867Z"
    }
   },
   "outputs": [],
   "source": [
    "input_img = tf.keras.Input(dims)\n",
    "output_img = decoder(encoder(input_img))\n",
    "autoencoder = tf.keras.Model(input_img, output_img)"
   ]
  },
  {
   "cell_type": "code",
   "execution_count": 12,
   "metadata": {
    "ExecuteTime": {
     "end_time": "2020-08-22T05:04:04.651413Z",
     "start_time": "2020-08-22T05:04:04.587437Z"
    }
   },
   "outputs": [],
   "source": [
    "autoencoder.compile(optimizer='adam', loss='binary_crossentropy')"
   ]
  },
  {
   "cell_type": "code",
   "execution_count": 13,
   "metadata": {
    "ExecuteTime": {
     "end_time": "2020-08-22T05:08:40.907055Z",
     "start_time": "2020-08-22T05:04:04.653430Z"
    },
    "scrolled": true
   },
   "outputs": [
    {
     "name": "stdout",
     "output_type": "stream",
     "text": [
      "Epoch 1/50\n",
      "157/157 [==============================] - 4s 26ms/step - loss: 0.6505\n",
      "Epoch 2/50\n",
      "157/157 [==============================] - 4s 23ms/step - loss: 0.6353\n",
      "Epoch 3/50\n",
      "157/157 [==============================] - 4s 24ms/step - loss: 0.6346\n",
      "Epoch 4/50\n",
      "157/157 [==============================] - 4s 25ms/step - loss: 0.6339\n",
      "Epoch 5/50\n",
      "157/157 [==============================] - 4s 24ms/step - loss: 0.6338\n",
      "Epoch 6/50\n",
      "157/157 [==============================] - 4s 27ms/step - loss: 0.6334\n",
      "Epoch 7/50\n",
      "157/157 [==============================] - 5s 33ms/step - loss: 0.6332\n",
      "Epoch 8/50\n",
      "157/157 [==============================] - 5s 34ms/step - loss: 0.6328\n",
      "Epoch 9/50\n",
      "157/157 [==============================] - 5s 32ms/step - loss: 0.6325\n",
      "Epoch 10/50\n",
      "157/157 [==============================] - 5s 34ms/step - loss: 0.6324\n",
      "Epoch 11/50\n",
      "157/157 [==============================] - 5s 34ms/step - loss: 0.6322\n",
      "Epoch 12/50\n",
      "157/157 [==============================] - 5s 33ms/step - loss: 0.6318\n",
      "Epoch 13/50\n",
      "157/157 [==============================] - 5s 34ms/step - loss: 0.6319\n",
      "Epoch 14/50\n",
      "157/157 [==============================] - 5s 34ms/step - loss: 0.6317\n",
      "Epoch 15/50\n",
      "157/157 [==============================] - 6s 37ms/step - loss: 0.6315\n",
      "Epoch 16/50\n",
      "157/157 [==============================] - 7s 44ms/step - loss: 0.6318\n",
      "Epoch 17/50\n",
      "157/157 [==============================] - 7s 43ms/step - loss: 0.6312\n",
      "Epoch 18/50\n",
      "157/157 [==============================] - 6s 41ms/step - loss: 0.6314\n",
      "Epoch 19/50\n",
      "157/157 [==============================] - 7s 44ms/step - loss: 0.6311\n",
      "Epoch 20/50\n",
      "157/157 [==============================] - 7s 43ms/step - loss: 0.6324\n",
      "Epoch 21/50\n",
      "157/157 [==============================] - 6s 41ms/step - loss: 0.6312\n",
      "Epoch 22/50\n",
      "157/157 [==============================] - 6s 38ms/step - loss: 0.6310\n",
      "Epoch 23/50\n",
      "157/157 [==============================] - 6s 36ms/step - loss: 0.6308\n",
      "Epoch 24/50\n",
      "157/157 [==============================] - 6s 37ms/step - loss: 0.6309\n",
      "Epoch 25/50\n",
      "157/157 [==============================] - 6s 35ms/step - loss: 0.6305\n",
      "Epoch 26/50\n",
      "157/157 [==============================] - 6s 36ms/step - loss: 0.6306\n",
      "Epoch 27/50\n",
      "157/157 [==============================] - 6s 36ms/step - loss: 0.6306\n",
      "Epoch 28/50\n",
      "157/157 [==============================] - 6s 36ms/step - loss: 0.6311\n",
      "Epoch 29/50\n",
      "157/157 [==============================] - 6s 35ms/step - loss: 0.6307\n",
      "Epoch 30/50\n",
      "157/157 [==============================] - 6s 36ms/step - loss: 0.6310\n",
      "Epoch 31/50\n",
      "157/157 [==============================] - 6s 36ms/step - loss: 0.6307\n",
      "Epoch 32/50\n",
      "157/157 [==============================] - 6s 36ms/step - loss: 0.6305\n",
      "Epoch 33/50\n",
      "157/157 [==============================] - 6s 36ms/step - loss: 0.6299\n",
      "Epoch 34/50\n",
      "157/157 [==============================] - 6s 35ms/step - loss: 0.6298\n",
      "Epoch 35/50\n",
      "157/157 [==============================] - 6s 36ms/step - loss: 0.6298\n",
      "Epoch 36/50\n",
      "157/157 [==============================] - 6s 36ms/step - loss: 0.6305\n",
      "Epoch 37/50\n",
      "157/157 [==============================] - 6s 35ms/step - loss: 0.6300\n",
      "Epoch 38/50\n",
      "157/157 [==============================] - 6s 35ms/step - loss: 0.6301\n",
      "Epoch 39/50\n",
      "157/157 [==============================] - 6s 36ms/step - loss: 0.6298\n",
      "Epoch 40/50\n",
      "157/157 [==============================] - 6s 36ms/step - loss: 0.6299\n",
      "Epoch 41/50\n",
      "157/157 [==============================] - 6s 35ms/step - loss: 0.6302\n",
      "Epoch 42/50\n",
      "157/157 [==============================] - 6s 35ms/step - loss: 0.6300\n",
      "Epoch 43/50\n",
      "157/157 [==============================] - 6s 35ms/step - loss: 0.6303\n",
      "Epoch 44/50\n",
      "157/157 [==============================] - 6s 36ms/step - loss: 0.6307\n",
      "Epoch 45/50\n",
      "157/157 [==============================] - 6s 36ms/step - loss: 0.6297\n",
      "Epoch 46/50\n",
      "157/157 [==============================] - 6s 36ms/step - loss: 0.6299\n",
      "Epoch 47/50\n",
      "157/157 [==============================] - 6s 36ms/step - loss: 0.6315\n",
      "Epoch 48/50\n",
      "157/157 [==============================] - 5s 29ms/step - loss: 0.6309\n",
      "Epoch 49/50\n",
      "157/157 [==============================] - 4s 28ms/step - loss: 0.6293\n",
      "Epoch 50/50\n",
      "157/157 [==============================] - 4s 27ms/step - loss: 0.6298\n"
     ]
    }
   ],
   "source": [
    "X_train = X_train.reshape([len(X_train)] + list(dims))\n",
    "history = autoencoder.fit(X_train, X_train,\n",
    "                epochs=50,\n",
    "                batch_size=256,\n",
    "                shuffle=True,\n",
    "                #validation_data=(X_valid, X_valid)\n",
    "                         )"
   ]
  },
  {
   "cell_type": "code",
   "execution_count": 14,
   "metadata": {
    "ExecuteTime": {
     "end_time": "2020-08-22T05:08:44.766361Z",
     "start_time": "2020-08-22T05:08:40.909487Z"
    }
   },
   "outputs": [],
   "source": [
    "z = encoder.predict(X_train)"
   ]
  },
  {
   "cell_type": "markdown",
   "metadata": {},
   "source": [
    "### Plot model output"
   ]
  },
  {
   "cell_type": "code",
   "execution_count": 15,
   "metadata": {
    "ExecuteTime": {
     "end_time": "2020-08-22T05:08:46.500057Z",
     "start_time": "2020-08-22T05:08:44.768174Z"
    }
   },
   "outputs": [
    {
     "data": {
      "image/png": "[encoded data removed]",
      "text/plain": [
       "<Figure size 576x576 with 2 Axes>"
      ]
     },
     "metadata": {
      "needs_background": "light"
     },
     "output_type": "display_data"
    }
   ],
   "source": [
    "fig, ax = plt.subplots( figsize=(8, 8))\n",
    "sc = ax.scatter(\n",
    "    z[:, 0],\n",
    "    z[:, 1],\n",
    "    c=Y_train.astype(int)[:len(z)].flatten(),\n",
    "    cmap=\"tab10\",\n",
    "    s=0.1,\n",
    "    alpha=0.5,\n",
    "    rasterized=True,\n",
    ")\n",
    "ax.axis('equal')\n",
    "ax.set_title(\"UMAP in Tensorflow embedding\", fontsize=20)\n",
    "plt.colorbar(sc, ax=ax);"
   ]
  },
  {
   "cell_type": "markdown",
   "metadata": {},
   "source": [
    "### View loss"
   ]
  },
  {
   "cell_type": "code",
   "execution_count": 16,
   "metadata": {
    "ExecuteTime": {
     "end_time": "2020-08-22T05:08:46.590931Z",
     "start_time": "2020-08-22T05:08:46.501857Z"
    }
   },
   "outputs": [],
   "source": [
    "from tfumap.umap import retrieve_tensors\n",
    "import seaborn as sns"
   ]
  },
  {
   "cell_type": "markdown",
   "metadata": {},
   "source": [
    "### Save output"
   ]
  },
  {
   "cell_type": "code",
   "execution_count": 17,
   "metadata": {
    "ExecuteTime": {
     "end_time": "2020-08-22T05:08:46.647267Z",
     "start_time": "2020-08-22T05:08:46.593339Z"
    }
   },
   "outputs": [],
   "source": [
    "from tfumap.paths import ensure_dir, MODEL_DIR"
   ]
  },
  {
   "cell_type": "code",
   "execution_count": 18,
   "metadata": {
    "ExecuteTime": {
     "end_time": "2020-08-22T05:08:46.704359Z",
     "start_time": "2020-08-22T05:08:46.649379Z"
    }
   },
   "outputs": [],
   "source": [
    "output_dir = MODEL_DIR/'projections'/ dataset / 'ae_only'\n",
    "ensure_dir(output_dir)"
   ]
  },
  {
   "cell_type": "code",
   "execution_count": 19,
   "metadata": {
    "ExecuteTime": {
     "end_time": "2020-08-22T05:08:47.409267Z",
     "start_time": "2020-08-22T05:08:46.706554Z"
    }
   },
   "outputs": [
    {
     "name": "stderr",
     "output_type": "stream",
     "text": [
      "WARNING: Logging before flag parsing goes to stderr.\n",
      "W0821 22:08:46.931339 140419339921216 deprecation.py:323] From /mnt/cube/tsainbur/conda_envs/tpy3/lib/python3.6/site-packages/tensorflow/python/training/tracking/tracking.py:111: Model.state_updates (from tensorflow.python.keras.engine.training) is deprecated and will be removed in a future version.\n",
      "Instructions for updating:\n",
      "This property should not be used in TensorFlow 2.0, as updates are applied automatically.\n",
      "W0821 22:08:46.946897 140419339921216 deprecation.py:323] From /mnt/cube/tsainbur/conda_envs/tpy3/lib/python3.6/site-packages/tensorflow/python/training/tracking/tracking.py:111: Layer.updates (from tensorflow.python.keras.engine.base_layer) is deprecated and will be removed in a future version.\n",
      "Instructions for updating:\n",
      "This property should not be used in TensorFlow 2.0, as updates are applied automatically.\n",
      "I0821 22:08:47.369402 140419339921216 builder_impl.py:775] Assets written to: /mnt/cube/tsainbur/Projects/github_repos/umap_tf_networks/models/projections/cifar10/ae_only/encoder/assets\n"
     ]
    }
   ],
   "source": [
    "encoder.save(output_dir / 'encoder')"
   ]
  },
  {
   "cell_type": "code",
   "execution_count": 20,
   "metadata": {
    "ExecuteTime": {
     "end_time": "2020-08-22T05:08:48.524951Z",
     "start_time": "2020-08-22T05:08:47.411076Z"
    }
   },
   "outputs": [
    {
     "name": "stderr",
     "output_type": "stream",
     "text": [
      "I0821 22:08:48.479451 140419339921216 builder_impl.py:775] Assets written to: /mnt/cube/tsainbur/Projects/github_repos/umap_tf_networks/models/projections/cifar10/ae_only/encoder/assets\n"
     ]
    }
   ],
   "source": [
    "decoder.save(output_dir / 'encoder')"
   ]
  },
  {
   "cell_type": "code",
   "execution_count": 21,
   "metadata": {
    "ExecuteTime": {
     "end_time": "2020-08-22T05:08:48.563732Z",
     "start_time": "2020-08-22T05:08:48.527061Z"
    }
   },
   "outputs": [],
   "source": [
    "#loss_df.to_pickle(output_dir / 'loss_df.pickle')"
   ]
  },
  {
   "cell_type": "code",
   "execution_count": 22,
   "metadata": {
    "ExecuteTime": {
     "end_time": "2020-08-22T05:08:48.617595Z",
     "start_time": "2020-08-22T05:08:48.567164Z"
    }
   },
   "outputs": [],
   "source": [
    "np.save(output_dir / 'z.npy', z)"
   ]
  },
  {
   "cell_type": "markdown",
   "metadata": {},
   "source": [
    "### compute metrics "
   ]
  },
  {
   "cell_type": "code",
   "execution_count": 23,
   "metadata": {
    "ExecuteTime": {
     "end_time": "2020-08-22T05:08:48.666112Z",
     "start_time": "2020-08-22T05:08:48.620100Z"
    }
   },
   "outputs": [
    {
     "data": {
      "text/plain": [
       "(10000, 3072)"
      ]
     },
     "execution_count": 23,
     "metadata": {},
     "output_type": "execute_result"
    }
   ],
   "source": [
    "X_test.shape"
   ]
  },
  {
   "cell_type": "code",
   "execution_count": 24,
   "metadata": {
    "ExecuteTime": {
     "end_time": "2020-08-22T05:08:49.739875Z",
     "start_time": "2020-08-22T05:08:48.667629Z"
    }
   },
   "outputs": [],
   "source": [
    "z_test = encoder.predict(X_test.reshape((len(X_test), 32,32,3)))"
   ]
  },
  {
   "cell_type": "markdown",
   "metadata": {},
   "source": [
    "#### silhouette"
   ]
  },
  {
   "cell_type": "code",
   "execution_count": 25,
   "metadata": {
    "ExecuteTime": {
     "end_time": "2020-08-22T05:08:49.786114Z",
     "start_time": "2020-08-22T05:08:49.742058Z"
    }
   },
   "outputs": [],
   "source": [
    "from tfumap.silhouette import silhouette_score_block"
   ]
  },
  {
   "cell_type": "code",
   "execution_count": 26,
   "metadata": {
    "ExecuteTime": {
     "end_time": "2020-08-22T05:08:56.679520Z",
     "start_time": "2020-08-22T05:08:49.787749Z"
    }
   },
   "outputs": [
    {
     "data": {
      "text/plain": [
       "-0.14364214551644994"
      ]
     },
     "execution_count": 26,
     "metadata": {},
     "output_type": "execute_result"
    }
   ],
   "source": [
    "ss, sil_samp = silhouette_score_block(z, Y_train, n_jobs = -1)\n",
    "ss"
   ]
  },
  {
   "cell_type": "code",
   "execution_count": 27,
   "metadata": {
    "ExecuteTime": {
     "end_time": "2020-08-22T05:08:56.915279Z",
     "start_time": "2020-08-22T05:08:56.681356Z"
    }
   },
   "outputs": [
    {
     "data": {
      "text/plain": [
       "-0.13358738162259312"
      ]
     },
     "execution_count": 27,
     "metadata": {},
     "output_type": "execute_result"
    }
   ],
   "source": [
    "ss_test, sil_samp_test = silhouette_score_block(z_test, Y_test, n_jobs = -1)\n",
    "ss_test"
   ]
  },
  {
   "cell_type": "code",
   "execution_count": 28,
   "metadata": {
    "ExecuteTime": {
     "end_time": "2020-08-22T05:08:58.306463Z",
     "start_time": "2020-08-22T05:08:56.917194Z"
    }
   },
   "outputs": [
    {
     "data": {
      "text/plain": [
       "<matplotlib.collections.PathCollection at 0x7fb58f7654e0>"
      ]
     },
     "execution_count": 28,
     "metadata": {},
     "output_type": "execute_result"
    },
    {
     "data": {
      "image/png": "[encoded data removed]",
      "text/plain": [
       "<Figure size 720x360 with 2 Axes>"
      ]
     },
     "metadata": {
      "needs_background": "light"
     },
     "output_type": "display_data"
    }
   ],
   "source": [
    "fig, axs = plt.subplots(ncols = 2, figsize=(10, 5))\n",
    "axs[0].scatter(z[:, 0], z[:, 1], s=0.1, alpha=0.5, c=sil_samp, cmap=plt.cm.viridis)\n",
    "axs[1].scatter(z_test[:, 0], z_test[:, 1], s=1, alpha=0.5, c=sil_samp_test, cmap=plt.cm.viridis)"
   ]
  },
  {
   "cell_type": "markdown",
   "metadata": {},
   "source": [
    "#### KNN"
   ]
  },
  {
   "cell_type": "code",
   "execution_count": 29,
   "metadata": {
    "ExecuteTime": {
     "end_time": "2020-08-22T05:08:58.359131Z",
     "start_time": "2020-08-22T05:08:58.308359Z"
    }
   },
   "outputs": [],
   "source": [
    "from sklearn.neighbors import KNeighborsClassifier"
   ]
  },
  {
   "cell_type": "code",
   "execution_count": 30,
   "metadata": {
    "ExecuteTime": {
     "end_time": "2020-08-22T05:08:58.729735Z",
     "start_time": "2020-08-22T05:08:58.361042Z"
    }
   },
   "outputs": [
    {
     "data": {
      "text/plain": [
       "0.2007"
      ]
     },
     "execution_count": 30,
     "metadata": {},
     "output_type": "execute_result"
    }
   ],
   "source": [
    "neigh5 = KNeighborsClassifier(n_neighbors=5)\n",
    "neigh5.fit(z, Y_train.flatten())\n",
    "score_5nn = neigh5.score(z_test, Y_test)\n",
    "score_5nn"
   ]
  },
  {
   "cell_type": "code",
   "execution_count": 31,
   "metadata": {
    "ExecuteTime": {
     "end_time": "2020-08-22T05:08:59.155718Z",
     "start_time": "2020-08-22T05:08:58.732062Z"
    }
   },
   "outputs": [
    {
     "name": "stderr",
     "output_type": "stream",
     "text": [
      "/mnt/cube/tsainbur/conda_envs/tpy3/lib/python3.6/site-packages/ipykernel_launcher.py:2: DataConversionWarning: A column-vector y was passed when a 1d array was expected. Please change the shape of y to (n_samples, ), for example using ravel().\n",
      "  \n"
     ]
    },
    {
     "data": {
      "text/plain": [
       "0.1696"
      ]
     },
     "execution_count": 31,
     "metadata": {},
     "output_type": "execute_result"
    }
   ],
   "source": [
    "neigh1 = KNeighborsClassifier(n_neighbors=1)\n",
    "neigh1.fit(z, Y_train)\n",
    "score_1nn = neigh1.score(z_test, Y_test)\n",
    "score_1nn"
   ]
  },
  {
   "cell_type": "markdown",
   "metadata": {},
   "source": [
    "#### Trustworthiness"
   ]
  },
  {
   "cell_type": "code",
   "execution_count": 32,
   "metadata": {
    "ExecuteTime": {
     "end_time": "2020-08-22T05:08:59.201214Z",
     "start_time": "2020-08-22T05:08:59.156878Z"
    }
   },
   "outputs": [],
   "source": [
    "from sklearn.manifold import trustworthiness"
   ]
  },
  {
   "cell_type": "code",
   "execution_count": 33,
   "metadata": {
    "ExecuteTime": {
     "end_time": "2020-08-22T05:09:11.823381Z",
     "start_time": "2020-08-22T05:08:59.202888Z"
    }
   },
   "outputs": [],
   "source": [
    "tw = trustworthiness(X_train_flat[:10000], z[:10000])"
   ]
  },
  {
   "cell_type": "code",
   "execution_count": 34,
   "metadata": {
    "ExecuteTime": {
     "end_time": "2020-08-22T05:09:23.564009Z",
     "start_time": "2020-08-22T05:09:11.826399Z"
    }
   },
   "outputs": [],
   "source": [
    "tw_test = trustworthiness(X_test_flat[:10000], z_test[:10000])"
   ]
  },
  {
   "cell_type": "code",
   "execution_count": 35,
   "metadata": {
    "ExecuteTime": {
     "end_time": "2020-08-22T05:09:23.612028Z",
     "start_time": "2020-08-22T05:09:23.565548Z"
    }
   },
   "outputs": [
    {
     "data": {
      "text/plain": [
       "(0.8564248238590872, 0.8541934867894315)"
      ]
     },
     "execution_count": 35,
     "metadata": {},
     "output_type": "execute_result"
    }
   ],
   "source": [
    "tw, tw_test"
   ]
  },
  {
   "cell_type": "markdown",
   "metadata": {},
   "source": [
    "### Save output metrics"
   ]
  },
  {
   "cell_type": "code",
   "execution_count": 36,
   "metadata": {
    "ExecuteTime": {
     "end_time": "2020-08-22T05:09:23.661766Z",
     "start_time": "2020-08-22T05:09:23.613322Z"
    }
   },
   "outputs": [],
   "source": [
    "from tfumap.paths import ensure_dir, MODEL_DIR, DATA_DIR"
   ]
  },
  {
   "cell_type": "markdown",
   "metadata": {},
   "source": [
    "#### train"
   ]
  },
  {
   "cell_type": "code",
   "execution_count": 37,
   "metadata": {
    "ExecuteTime": {
     "end_time": "2020-08-22T05:09:23.741701Z",
     "start_time": "2020-08-22T05:09:23.663273Z"
    }
   },
   "outputs": [
    {
     "data": {
      "text/html": [
       "<div>\n",
       "<style scoped>\n",
       "    .dataframe tbody tr th:only-of-type {\n",
       "        vertical-align: middle;\n",
       "    }\n",
       "\n",
       "    .dataframe tbody tr th {\n",
       "        vertical-align: top;\n",
       "    }\n",
       "\n",
       "    .dataframe thead th {\n",
       "        text-align: right;\n",
       "    }\n",
       "</style>\n",
       "<table border=\"1\" class=\"dataframe\">\n",
       "  <thead>\n",
       "    <tr style=\"text-align: right;\">\n",
       "      <th></th>\n",
       "      <th>dataset</th>\n",
       "      <th>class_</th>\n",
       "      <th>dim</th>\n",
       "      <th>trustworthiness</th>\n",
       "      <th>silhouette_score</th>\n",
       "      <th>silhouette_samples</th>\n",
       "    </tr>\n",
       "  </thead>\n",
       "  <tbody>\n",
       "    <tr>\n",
       "      <th>0</th>\n",
       "      <td>cifar10</td>\n",
       "      <td>ae_only</td>\n",
       "      <td>2</td>\n",
       "      <td>0.856425</td>\n",
       "      <td>-0.143642</td>\n",
       "      <td>[0.10664527861466222, -0.3030562818484544, 0.0...</td>\n",
       "    </tr>\n",
       "  </tbody>\n",
       "</table>\n",
       "</div>"
      ],
      "text/plain": [
       "   dataset   class_ dim  trustworthiness  silhouette_score  \\\n",
       "0  cifar10  ae_only   2         0.856425         -0.143642   \n",
       "\n",
       "                                  silhouette_samples  \n",
       "0  [0.10664527861466222, -0.3030562818484544, 0.0...  "
      ]
     },
     "execution_count": 37,
     "metadata": {},
     "output_type": "execute_result"
    }
   ],
   "source": [
    "metrics_df = pd.DataFrame(\n",
    "    columns=[\n",
    "        \"dataset\",\n",
    "        \"class_\",\n",
    "        \"dim\",\n",
    "        \"trustworthiness\",\n",
    "        \"silhouette_score\",\n",
    "        \"silhouette_samples\",\n",
    "    ]\n",
    ")\n",
    "metrics_df.loc[len(metrics_df)] = [dataset, 'ae_only', n_components, tw, ss, sil_samp]\n",
    "metrics_df"
   ]
  },
  {
   "cell_type": "code",
   "execution_count": 38,
   "metadata": {
    "ExecuteTime": {
     "end_time": "2020-08-22T05:09:23.836480Z",
     "start_time": "2020-08-22T05:09:23.743240Z"
    }
   },
   "outputs": [],
   "source": [
    "save_loc = DATA_DIR / 'projection_metrics' /  'ae_only' / 'train' / str(n_components) / (dataset + '.pickle')\n",
    "ensure_dir(save_loc)\n",
    "metrics_df.to_pickle(save_loc)"
   ]
  },
  {
   "cell_type": "markdown",
   "metadata": {},
   "source": [
    "#### test"
   ]
  },
  {
   "cell_type": "code",
   "execution_count": 39,
   "metadata": {
    "ExecuteTime": {
     "end_time": "2020-08-22T05:09:23.930768Z",
     "start_time": "2020-08-22T05:09:23.837919Z"
    }
   },
   "outputs": [
    {
     "data": {
      "text/html": [
       "<div>\n",
       "<style scoped>\n",
       "    .dataframe tbody tr th:only-of-type {\n",
       "        vertical-align: middle;\n",
       "    }\n",
       "\n",
       "    .dataframe tbody tr th {\n",
       "        vertical-align: top;\n",
       "    }\n",
       "\n",
       "    .dataframe thead th {\n",
       "        text-align: right;\n",
       "    }\n",
       "</style>\n",
       "<table border=\"1\" class=\"dataframe\">\n",
       "  <thead>\n",
       "    <tr style=\"text-align: right;\">\n",
       "      <th></th>\n",
       "      <th>dataset</th>\n",
       "      <th>class_</th>\n",
       "      <th>dim</th>\n",
       "      <th>trustworthiness</th>\n",
       "      <th>silhouette_score</th>\n",
       "      <th>silhouette_samples</th>\n",
       "    </tr>\n",
       "  </thead>\n",
       "  <tbody>\n",
       "    <tr>\n",
       "      <th>1</th>\n",
       "      <td>cifar10</td>\n",
       "      <td>ae_only</td>\n",
       "      <td>2</td>\n",
       "      <td>0.854193</td>\n",
       "      <td>-0.133587</td>\n",
       "      <td>[-0.3208591879186234, 0.14215662482173058, 0.2...</td>\n",
       "    </tr>\n",
       "  </tbody>\n",
       "</table>\n",
       "</div>"
      ],
      "text/plain": [
       "   dataset   class_ dim  trustworthiness  silhouette_score  \\\n",
       "1  cifar10  ae_only   2         0.854193         -0.133587   \n",
       "\n",
       "                                  silhouette_samples  \n",
       "1  [-0.3208591879186234, 0.14215662482173058, 0.2...  "
      ]
     },
     "execution_count": 39,
     "metadata": {},
     "output_type": "execute_result"
    }
   ],
   "source": [
    "metrics_df_test = pd.DataFrame(\n",
    "    columns=[\n",
    "        \"dataset\",\n",
    "        \"class_\",\n",
    "        \"dim\",\n",
    "        \"trustworthiness\",\n",
    "        \"silhouette_score\",\n",
    "        \"silhouette_samples\",\n",
    "    ]\n",
    ")\n",
    "metrics_df_test.loc[len(metrics_df)] = [dataset, 'ae_only', n_components, tw_test, ss_test, sil_samp_test]\n",
    "metrics_df_test"
   ]
  },
  {
   "cell_type": "code",
   "execution_count": 40,
   "metadata": {
    "ExecuteTime": {
     "end_time": "2020-08-22T05:09:23.997895Z",
     "start_time": "2020-08-22T05:09:23.934158Z"
    }
   },
   "outputs": [],
   "source": [
    "save_loc = DATA_DIR / 'projection_metrics' / 'ae' / 'test' / str(n_components) / (dataset + '.pickle')\n",
    "ensure_dir(save_loc)\n",
    "metrics_df.to_pickle(save_loc)"
   ]
  },
  {
   "cell_type": "markdown",
   "metadata": {},
   "source": [
    "#### knn "
   ]
  },
  {
   "cell_type": "code",
   "execution_count": 41,
   "metadata": {
    "ExecuteTime": {
     "end_time": "2020-08-22T05:09:24.059135Z",
     "start_time": "2020-08-22T05:09:23.999265Z"
    }
   },
   "outputs": [
    {
     "data": {
      "text/html": [
       "<div>\n",
       "<style scoped>\n",
       "    .dataframe tbody tr th:only-of-type {\n",
       "        vertical-align: middle;\n",
       "    }\n",
       "\n",
       "    .dataframe tbody tr th {\n",
       "        vertical-align: top;\n",
       "    }\n",
       "\n",
       "    .dataframe thead th {\n",
       "        text-align: right;\n",
       "    }\n",
       "</style>\n",
       "<table border=\"1\" class=\"dataframe\">\n",
       "  <thead>\n",
       "    <tr style=\"text-align: right;\">\n",
       "      <th></th>\n",
       "      <th>method_</th>\n",
       "      <th>dimensions</th>\n",
       "      <th>dataset</th>\n",
       "      <th>1NN_acc</th>\n",
       "      <th>5NN_acc</th>\n",
       "    </tr>\n",
       "  </thead>\n",
       "  <tbody>\n",
       "    <tr>\n",
       "      <th>0</th>\n",
       "      <td>ae_only</td>\n",
       "      <td>2</td>\n",
       "      <td>cifar10</td>\n",
       "      <td>0.1696</td>\n",
       "      <td>0.2007</td>\n",
       "    </tr>\n",
       "  </tbody>\n",
       "</table>\n",
       "</div>"
      ],
      "text/plain": [
       "   method_ dimensions  dataset  1NN_acc  5NN_acc\n",
       "0  ae_only          2  cifar10   0.1696   0.2007"
      ]
     },
     "execution_count": 41,
     "metadata": {},
     "output_type": "execute_result"
    }
   ],
   "source": [
    "nn_acc_df = pd.DataFrame(columns = [\"method_\",\"dimensions\",\"dataset\",\"1NN_acc\",\"5NN_acc\"])\n",
    "nn_acc_df.loc[len(nn_acc_df)] = ['ae_only', n_components, dataset,  score_1nn, score_5nn]\n",
    "nn_acc_df"
   ]
  },
  {
   "cell_type": "code",
   "execution_count": 42,
   "metadata": {
    "ExecuteTime": {
     "end_time": "2020-08-22T05:09:24.120865Z",
     "start_time": "2020-08-22T05:09:24.060418Z"
    }
   },
   "outputs": [],
   "source": [
    "save_loc = DATA_DIR / 'knn_classifier' / 'ae_only' / 'train' / str(n_components) / (dataset + '.pickle')\n",
    "ensure_dir(save_loc)\n",
    "nn_acc_df.to_pickle(save_loc)"
   ]
  },
  {
   "cell_type": "markdown",
   "metadata": {},
   "source": [
    "### Reconstruction"
   ]
  },
  {
   "cell_type": "code",
   "execution_count": 43,
   "metadata": {
    "ExecuteTime": {
     "end_time": "2020-08-22T05:09:24.194154Z",
     "start_time": "2020-08-22T05:09:24.122278Z"
    }
   },
   "outputs": [],
   "source": [
    "from sklearn.metrics import mean_squared_error, mean_absolute_error, median_absolute_error, r2_score"
   ]
  },
  {
   "cell_type": "code",
   "execution_count": 44,
   "metadata": {
    "ExecuteTime": {
     "end_time": "2020-08-22T05:09:26.808645Z",
     "start_time": "2020-08-22T05:09:24.196193Z"
    }
   },
   "outputs": [],
   "source": [
    "X_recon = decoder.predict(encoder.predict(X_test.reshape((len(X_test), 32, 32, 3))))\n",
    "X_real = X_test.reshape((len(X_test), 32, 32, 3))"
   ]
  },
  {
   "cell_type": "code",
   "execution_count": 45,
   "metadata": {
    "ExecuteTime": {
     "end_time": "2020-08-22T05:09:26.857069Z",
     "start_time": "2020-08-22T05:09:26.810489Z"
    }
   },
   "outputs": [],
   "source": [
    "x_real = X_test.reshape((len(X_test), np.product(np.shape(X_test)[1:])))\n",
    "x_recon = X_recon.reshape((len(X_test), np.product(np.shape(X_test)[1:])))"
   ]
  },
  {
   "cell_type": "code",
   "execution_count": 46,
   "metadata": {
    "ExecuteTime": {
     "end_time": "2020-08-22T05:09:26.906586Z",
     "start_time": "2020-08-22T05:09:26.858736Z"
    }
   },
   "outputs": [],
   "source": [
    "reconstruction_acc_df = pd.DataFrame(\n",
    "    columns=[\"method_\", \"dimensions\", \"dataset\", \"MSE\", \"MAE\", \"MedAE\", \"R2\"]\n",
    ")"
   ]
  },
  {
   "cell_type": "code",
   "execution_count": 47,
   "metadata": {
    "ExecuteTime": {
     "end_time": "2020-08-22T05:09:28.695063Z",
     "start_time": "2020-08-22T05:09:26.908229Z"
    }
   },
   "outputs": [
    {
     "data": {
      "text/html": [
       "<div>\n",
       "<style scoped>\n",
       "    .dataframe tbody tr th:only-of-type {\n",
       "        vertical-align: middle;\n",
       "    }\n",
       "\n",
       "    .dataframe tbody tr th {\n",
       "        vertical-align: top;\n",
       "    }\n",
       "\n",
       "    .dataframe thead th {\n",
       "        text-align: right;\n",
       "    }\n",
       "</style>\n",
       "<table border=\"1\" class=\"dataframe\">\n",
       "  <thead>\n",
       "    <tr style=\"text-align: right;\">\n",
       "      <th></th>\n",
       "      <th>method_</th>\n",
       "      <th>dimensions</th>\n",
       "      <th>dataset</th>\n",
       "      <th>MSE</th>\n",
       "      <th>MAE</th>\n",
       "      <th>MedAE</th>\n",
       "      <th>R2</th>\n",
       "    </tr>\n",
       "  </thead>\n",
       "  <tbody>\n",
       "    <tr>\n",
       "      <th>0</th>\n",
       "      <td>ae_only</td>\n",
       "      <td>2</td>\n",
       "      <td>cifar10</td>\n",
       "      <td>0.034399</td>\n",
       "      <td>0.144316</td>\n",
       "      <td>0.117592</td>\n",
       "      <td>0.424762</td>\n",
       "    </tr>\n",
       "  </tbody>\n",
       "</table>\n",
       "</div>"
      ],
      "text/plain": [
       "   method_ dimensions  dataset       MSE       MAE     MedAE        R2\n",
       "0  ae_only          2  cifar10  0.034399  0.144316  0.117592  0.424762"
      ]
     },
     "execution_count": 47,
     "metadata": {},
     "output_type": "execute_result"
    }
   ],
   "source": [
    "MSE = mean_squared_error(\n",
    "    x_real, \n",
    "    x_recon\n",
    ")\n",
    "MAE = mean_absolute_error(\n",
    "    x_real, \n",
    "    x_recon\n",
    ")\n",
    "MedAE = median_absolute_error(\n",
    "    x_real, \n",
    "    x_recon\n",
    ")\n",
    "R2 = r2_score(\n",
    "    x_real, \n",
    "    x_recon\n",
    ")\n",
    "\n",
    "reconstruction_acc_df.loc[len(reconstruction_acc_df)] = ['ae_only', 2, dataset, MSE, MAE, MedAE, R2]\n",
    "reconstruction_acc_df"
   ]
  },
  {
   "cell_type": "code",
   "execution_count": 48,
   "metadata": {
    "ExecuteTime": {
     "end_time": "2020-08-22T05:09:28.799592Z",
     "start_time": "2020-08-22T05:09:28.712849Z"
    }
   },
   "outputs": [],
   "source": [
    "save_loc = DATA_DIR / 'reconstruction_acc' / 'ae_only' / str(n_components) / (dataset + '.pickle')\n",
    "ensure_dir(save_loc)\n",
    "reconstruction_acc_df.to_pickle(save_loc)"
   ]
  },
  {
   "cell_type": "markdown",
   "metadata": {},
   "source": [
    "### Compute clustering quality"
   ]
  },
  {
   "cell_type": "code",
   "execution_count": 49,
   "metadata": {
    "ExecuteTime": {
     "end_time": "2020-08-22T05:09:28.882086Z",
     "start_time": "2020-08-22T05:09:28.801544Z"
    }
   },
   "outputs": [],
   "source": [
    "from sklearn.cluster import KMeans\n",
    "from sklearn.metrics import homogeneity_completeness_v_measure"
   ]
  },
  {
   "cell_type": "code",
   "execution_count": 50,
   "metadata": {
    "ExecuteTime": {
     "end_time": "2020-08-22T05:09:28.937148Z",
     "start_time": "2020-08-22T05:09:28.883792Z"
    }
   },
   "outputs": [],
   "source": [
    "def get_cluster_metrics(row, n_init=5):\n",
    "    \n",
    "    # load cluster information\n",
    "    save_loc = DATA_DIR / 'clustering_metric_df'/ ('_'.join([row.class_, str(row.dim), row.dataset]) + '.pickle')\n",
    "    print(save_loc)\n",
    "    if save_loc.exists() and save_loc.is_file():\n",
    "        \n",
    "        cluster_df = pd.read_pickle(save_loc)\n",
    "        return cluster_df\n",
    "    \n",
    "    # make cluster metric dataframe\n",
    "    cluster_df = pd.DataFrame(\n",
    "        columns=[\n",
    "            \"dataset\",\n",
    "            \"class_\",\n",
    "            \"dim\",\n",
    "            \"silhouette\",\n",
    "            \"homogeneity\",\n",
    "            \"completeness\",\n",
    "            \"v_measure\",\n",
    "            \"init_\",\n",
    "            \"n_clusters\",\n",
    "            \"model\",\n",
    "        ]\n",
    "    )\n",
    "    y = row.train_label\n",
    "    z = row.train_z\n",
    "    n_labels = len(np.unique(y))\n",
    "    for n_clusters in tqdm(np.arange(n_labels - int(n_labels / 2), n_labels + int(n_labels / 2)), leave=False, desc = 'n_clusters'):\n",
    "        for init_ in tqdm(range(n_init), leave=False, desc='init'):\n",
    "            kmeans = KMeans(n_clusters=n_clusters, random_state=init_).fit(z)\n",
    "            clustered_y = kmeans.labels_\n",
    "            homogeneity, completeness, v_measure = homogeneity_completeness_v_measure(\n",
    "                y, clustered_y\n",
    "            )\n",
    "            ss, _ = silhouette_score_block(z, clustered_y)\n",
    "            cluster_df.loc[len(cluster_df)] = [\n",
    "                row.dataset,\n",
    "                row.class_,\n",
    "                row.dim,\n",
    "                ss,\n",
    "                homogeneity,\n",
    "                completeness,\n",
    "                v_measure,\n",
    "                init_,\n",
    "                n_clusters,\n",
    "                kmeans,\n",
    "            ]\n",
    "    \n",
    "     # save cluster df in case this fails somewhere\n",
    "    ensure_dir(save_loc)\n",
    "    cluster_df.to_pickle(save_loc)\n",
    "    return cluster_df"
   ]
  },
  {
   "cell_type": "code",
   "execution_count": 51,
   "metadata": {
    "ExecuteTime": {
     "end_time": "2020-08-22T05:09:29.025719Z",
     "start_time": "2020-08-22T05:09:28.938847Z"
    }
   },
   "outputs": [
    {
     "data": {
      "text/html": [
       "<div>\n",
       "<style scoped>\n",
       "    .dataframe tbody tr th:only-of-type {\n",
       "        vertical-align: middle;\n",
       "    }\n",
       "\n",
       "    .dataframe tbody tr th {\n",
       "        vertical-align: top;\n",
       "    }\n",
       "\n",
       "    .dataframe thead th {\n",
       "        text-align: right;\n",
       "    }\n",
       "</style>\n",
       "<table border=\"1\" class=\"dataframe\">\n",
       "  <thead>\n",
       "    <tr style=\"text-align: right;\">\n",
       "      <th></th>\n",
       "      <th>dataset</th>\n",
       "      <th>class_</th>\n",
       "      <th>train_z</th>\n",
       "      <th>train_label</th>\n",
       "      <th>dim</th>\n",
       "    </tr>\n",
       "  </thead>\n",
       "  <tbody>\n",
       "    <tr>\n",
       "      <th>0</th>\n",
       "      <td>cifar10</td>\n",
       "      <td>ae_only</td>\n",
       "      <td>[[0.25674534, -0.15226102], [-0.12503318, 0.25...</td>\n",
       "      <td>[6, 9, 9, 4, 1, 1, 2, 7, 8, 3, 4, 7, 7, 2, 9, ...</td>\n",
       "      <td>2</td>\n",
       "    </tr>\n",
       "  </tbody>\n",
       "</table>\n",
       "</div>"
      ],
      "text/plain": [
       "   dataset   class_                                            train_z  \\\n",
       "0  cifar10  ae_only  [[0.25674534, -0.15226102], [-0.12503318, 0.25...   \n",
       "\n",
       "                                         train_label dim  \n",
       "0  [6, 9, 9, 4, 1, 1, 2, 7, 8, 3, 4, 7, 7, 2, 9, ...   2  "
      ]
     },
     "execution_count": 51,
     "metadata": {},
     "output_type": "execute_result"
    }
   ],
   "source": [
    "projection_df = pd.DataFrame(columns = ['dataset', 'class_', 'train_z', 'train_label', 'dim'])\n",
    "projection_df.loc[len(projection_df)] = [dataset, 'ae_only', z, Y_train.flatten(), n_components]\n",
    "projection_df"
   ]
  },
  {
   "cell_type": "code",
   "execution_count": 52,
   "metadata": {
    "ExecuteTime": {
     "end_time": "2020-08-22T05:09:29.162798Z",
     "start_time": "2020-08-22T05:09:29.027476Z"
    }
   },
   "outputs": [
    {
     "name": "stdout",
     "output_type": "stream",
     "text": [
      "/mnt/cube/tsainbur/Projects/github_repos/umap_tf_networks/data/clustering_metric_df/ae_only_2_cifar10.pickle\n"
     ]
    },
    {
     "data": {
      "text/html": [
       "<div>\n",
       "<style scoped>\n",
       "    .dataframe tbody tr th:only-of-type {\n",
       "        vertical-align: middle;\n",
       "    }\n",
       "\n",
       "    .dataframe tbody tr th {\n",
       "        vertical-align: top;\n",
       "    }\n",
       "\n",
       "    .dataframe thead th {\n",
       "        text-align: right;\n",
       "    }\n",
       "</style>\n",
       "<table border=\"1\" class=\"dataframe\">\n",
       "  <thead>\n",
       "    <tr style=\"text-align: right;\">\n",
       "      <th></th>\n",
       "      <th>dataset</th>\n",
       "      <th>class_</th>\n",
       "      <th>dim</th>\n",
       "      <th>silhouette</th>\n",
       "      <th>homogeneity</th>\n",
       "      <th>completeness</th>\n",
       "      <th>v_measure</th>\n",
       "      <th>init_</th>\n",
       "      <th>n_clusters</th>\n",
       "      <th>model</th>\n",
       "    </tr>\n",
       "  </thead>\n",
       "  <tbody>\n",
       "    <tr>\n",
       "      <th>0</th>\n",
       "      <td>cifar10</td>\n",
       "      <td>ae_only</td>\n",
       "      <td>2</td>\n",
       "      <td>0.554361</td>\n",
       "      <td>0.018069</td>\n",
       "      <td>0.046257</td>\n",
       "      <td>0.025987</td>\n",
       "      <td>0</td>\n",
       "      <td>5</td>\n",
       "      <td>KMeans(n_clusters=5, random_state=0)</td>\n",
       "    </tr>\n",
       "    <tr>\n",
       "      <th>1</th>\n",
       "      <td>cifar10</td>\n",
       "      <td>ae_only</td>\n",
       "      <td>2</td>\n",
       "      <td>0.554318</td>\n",
       "      <td>0.018076</td>\n",
       "      <td>0.046268</td>\n",
       "      <td>0.025996</td>\n",
       "      <td>1</td>\n",
       "      <td>5</td>\n",
       "      <td>KMeans(n_clusters=5, random_state=1)</td>\n",
       "    </tr>\n",
       "    <tr>\n",
       "      <th>2</th>\n",
       "      <td>cifar10</td>\n",
       "      <td>ae_only</td>\n",
       "      <td>2</td>\n",
       "      <td>0.554804</td>\n",
       "      <td>0.018000</td>\n",
       "      <td>0.046132</td>\n",
       "      <td>0.025895</td>\n",
       "      <td>2</td>\n",
       "      <td>5</td>\n",
       "      <td>KMeans(n_clusters=5, random_state=2)</td>\n",
       "    </tr>\n",
       "    <tr>\n",
       "      <th>3</th>\n",
       "      <td>cifar10</td>\n",
       "      <td>ae_only</td>\n",
       "      <td>2</td>\n",
       "      <td>0.555706</td>\n",
       "      <td>0.017929</td>\n",
       "      <td>0.045959</td>\n",
       "      <td>0.025795</td>\n",
       "      <td>3</td>\n",
       "      <td>5</td>\n",
       "      <td>KMeans(n_clusters=5, random_state=3)</td>\n",
       "    </tr>\n",
       "    <tr>\n",
       "      <th>4</th>\n",
       "      <td>cifar10</td>\n",
       "      <td>ae_only</td>\n",
       "      <td>2</td>\n",
       "      <td>0.555038</td>\n",
       "      <td>0.017976</td>\n",
       "      <td>0.045999</td>\n",
       "      <td>0.025850</td>\n",
       "      <td>4</td>\n",
       "      <td>5</td>\n",
       "      <td>KMeans(n_clusters=5, random_state=4)</td>\n",
       "    </tr>\n",
       "    <tr>\n",
       "      <th>5</th>\n",
       "      <td>cifar10</td>\n",
       "      <td>ae_only</td>\n",
       "      <td>2</td>\n",
       "      <td>0.414318</td>\n",
       "      <td>0.033399</td>\n",
       "      <td>0.062598</td>\n",
       "      <td>0.043558</td>\n",
       "      <td>0</td>\n",
       "      <td>6</td>\n",
       "      <td>KMeans(n_clusters=6, random_state=0)</td>\n",
       "    </tr>\n",
       "    <tr>\n",
       "      <th>6</th>\n",
       "      <td>cifar10</td>\n",
       "      <td>ae_only</td>\n",
       "      <td>2</td>\n",
       "      <td>0.414249</td>\n",
       "      <td>0.033346</td>\n",
       "      <td>0.062413</td>\n",
       "      <td>0.043468</td>\n",
       "      <td>1</td>\n",
       "      <td>6</td>\n",
       "      <td>KMeans(n_clusters=6, random_state=1)</td>\n",
       "    </tr>\n",
       "    <tr>\n",
       "      <th>7</th>\n",
       "      <td>cifar10</td>\n",
       "      <td>ae_only</td>\n",
       "      <td>2</td>\n",
       "      <td>0.410613</td>\n",
       "      <td>0.033489</td>\n",
       "      <td>0.062655</td>\n",
       "      <td>0.043648</td>\n",
       "      <td>2</td>\n",
       "      <td>6</td>\n",
       "      <td>KMeans(n_clusters=6, random_state=2)</td>\n",
       "    </tr>\n",
       "    <tr>\n",
       "      <th>8</th>\n",
       "      <td>cifar10</td>\n",
       "      <td>ae_only</td>\n",
       "      <td>2</td>\n",
       "      <td>0.412451</td>\n",
       "      <td>0.033501</td>\n",
       "      <td>0.062735</td>\n",
       "      <td>0.043678</td>\n",
       "      <td>3</td>\n",
       "      <td>6</td>\n",
       "      <td>KMeans(n_clusters=6, random_state=3)</td>\n",
       "    </tr>\n",
       "    <tr>\n",
       "      <th>9</th>\n",
       "      <td>cifar10</td>\n",
       "      <td>ae_only</td>\n",
       "      <td>2</td>\n",
       "      <td>0.414645</td>\n",
       "      <td>0.033359</td>\n",
       "      <td>0.062425</td>\n",
       "      <td>0.043482</td>\n",
       "      <td>4</td>\n",
       "      <td>6</td>\n",
       "      <td>KMeans(n_clusters=6, random_state=4)</td>\n",
       "    </tr>\n",
       "    <tr>\n",
       "      <th>10</th>\n",
       "      <td>cifar10</td>\n",
       "      <td>ae_only</td>\n",
       "      <td>2</td>\n",
       "      <td>0.421672</td>\n",
       "      <td>0.033220</td>\n",
       "      <td>0.057055</td>\n",
       "      <td>0.041991</td>\n",
       "      <td>0</td>\n",
       "      <td>7</td>\n",
       "      <td>KMeans(n_clusters=7, random_state=0)</td>\n",
       "    </tr>\n",
       "    <tr>\n",
       "      <th>11</th>\n",
       "      <td>cifar10</td>\n",
       "      <td>ae_only</td>\n",
       "      <td>2</td>\n",
       "      <td>0.422215</td>\n",
       "      <td>0.033206</td>\n",
       "      <td>0.057037</td>\n",
       "      <td>0.041975</td>\n",
       "      <td>1</td>\n",
       "      <td>7</td>\n",
       "      <td>KMeans(n_clusters=7, random_state=1)</td>\n",
       "    </tr>\n",
       "    <tr>\n",
       "      <th>12</th>\n",
       "      <td>cifar10</td>\n",
       "      <td>ae_only</td>\n",
       "      <td>2</td>\n",
       "      <td>0.421207</td>\n",
       "      <td>0.033332</td>\n",
       "      <td>0.057834</td>\n",
       "      <td>0.042290</td>\n",
       "      <td>2</td>\n",
       "      <td>7</td>\n",
       "      <td>KMeans(n_clusters=7, random_state=2)</td>\n",
       "    </tr>\n",
       "    <tr>\n",
       "      <th>13</th>\n",
       "      <td>cifar10</td>\n",
       "      <td>ae_only</td>\n",
       "      <td>2</td>\n",
       "      <td>0.420947</td>\n",
       "      <td>0.033357</td>\n",
       "      <td>0.057429</td>\n",
       "      <td>0.042201</td>\n",
       "      <td>3</td>\n",
       "      <td>7</td>\n",
       "      <td>KMeans(n_clusters=7, random_state=3)</td>\n",
       "    </tr>\n",
       "    <tr>\n",
       "      <th>14</th>\n",
       "      <td>cifar10</td>\n",
       "      <td>ae_only</td>\n",
       "      <td>2</td>\n",
       "      <td>0.421816</td>\n",
       "      <td>0.033184</td>\n",
       "      <td>0.057003</td>\n",
       "      <td>0.041948</td>\n",
       "      <td>4</td>\n",
       "      <td>7</td>\n",
       "      <td>KMeans(n_clusters=7, random_state=4)</td>\n",
       "    </tr>\n",
       "    <tr>\n",
       "      <th>15</th>\n",
       "      <td>cifar10</td>\n",
       "      <td>ae_only</td>\n",
       "      <td>2</td>\n",
       "      <td>0.433585</td>\n",
       "      <td>0.033685</td>\n",
       "      <td>0.055895</td>\n",
       "      <td>0.042036</td>\n",
       "      <td>0</td>\n",
       "      <td>8</td>\n",
       "      <td>KMeans(random_state=0)</td>\n",
       "    </tr>\n",
       "    <tr>\n",
       "      <th>16</th>\n",
       "      <td>cifar10</td>\n",
       "      <td>ae_only</td>\n",
       "      <td>2</td>\n",
       "      <td>0.434149</td>\n",
       "      <td>0.033651</td>\n",
       "      <td>0.055879</td>\n",
       "      <td>0.042006</td>\n",
       "      <td>1</td>\n",
       "      <td>8</td>\n",
       "      <td>KMeans(random_state=1)</td>\n",
       "    </tr>\n",
       "    <tr>\n",
       "      <th>17</th>\n",
       "      <td>cifar10</td>\n",
       "      <td>ae_only</td>\n",
       "      <td>2</td>\n",
       "      <td>0.433818</td>\n",
       "      <td>0.033698</td>\n",
       "      <td>0.056041</td>\n",
       "      <td>0.042088</td>\n",
       "      <td>2</td>\n",
       "      <td>8</td>\n",
       "      <td>KMeans(random_state=2)</td>\n",
       "    </tr>\n",
       "    <tr>\n",
       "      <th>18</th>\n",
       "      <td>cifar10</td>\n",
       "      <td>ae_only</td>\n",
       "      <td>2</td>\n",
       "      <td>0.441949</td>\n",
       "      <td>0.034540</td>\n",
       "      <td>0.054870</td>\n",
       "      <td>0.042394</td>\n",
       "      <td>3</td>\n",
       "      <td>8</td>\n",
       "      <td>KMeans(random_state=3)</td>\n",
       "    </tr>\n",
       "    <tr>\n",
       "      <th>19</th>\n",
       "      <td>cifar10</td>\n",
       "      <td>ae_only</td>\n",
       "      <td>2</td>\n",
       "      <td>0.433591</td>\n",
       "      <td>0.033773</td>\n",
       "      <td>0.055752</td>\n",
       "      <td>0.042065</td>\n",
       "      <td>4</td>\n",
       "      <td>8</td>\n",
       "      <td>KMeans(random_state=4)</td>\n",
       "    </tr>\n",
       "    <tr>\n",
       "      <th>20</th>\n",
       "      <td>cifar10</td>\n",
       "      <td>ae_only</td>\n",
       "      <td>2</td>\n",
       "      <td>0.453904</td>\n",
       "      <td>0.035203</td>\n",
       "      <td>0.053846</td>\n",
       "      <td>0.042573</td>\n",
       "      <td>0</td>\n",
       "      <td>9</td>\n",
       "      <td>KMeans(n_clusters=9, random_state=0)</td>\n",
       "    </tr>\n",
       "    <tr>\n",
       "      <th>21</th>\n",
       "      <td>cifar10</td>\n",
       "      <td>ae_only</td>\n",
       "      <td>2</td>\n",
       "      <td>0.453669</td>\n",
       "      <td>0.035211</td>\n",
       "      <td>0.053960</td>\n",
       "      <td>0.042614</td>\n",
       "      <td>1</td>\n",
       "      <td>9</td>\n",
       "      <td>KMeans(n_clusters=9, random_state=1)</td>\n",
       "    </tr>\n",
       "    <tr>\n",
       "      <th>22</th>\n",
       "      <td>cifar10</td>\n",
       "      <td>ae_only</td>\n",
       "      <td>2</td>\n",
       "      <td>0.453650</td>\n",
       "      <td>0.035168</td>\n",
       "      <td>0.053908</td>\n",
       "      <td>0.042567</td>\n",
       "      <td>2</td>\n",
       "      <td>9</td>\n",
       "      <td>KMeans(n_clusters=9, random_state=2)</td>\n",
       "    </tr>\n",
       "    <tr>\n",
       "      <th>23</th>\n",
       "      <td>cifar10</td>\n",
       "      <td>ae_only</td>\n",
       "      <td>2</td>\n",
       "      <td>0.453536</td>\n",
       "      <td>0.035089</td>\n",
       "      <td>0.053768</td>\n",
       "      <td>0.042465</td>\n",
       "      <td>3</td>\n",
       "      <td>9</td>\n",
       "      <td>KMeans(n_clusters=9, random_state=3)</td>\n",
       "    </tr>\n",
       "    <tr>\n",
       "      <th>24</th>\n",
       "      <td>cifar10</td>\n",
       "      <td>ae_only</td>\n",
       "      <td>2</td>\n",
       "      <td>0.453562</td>\n",
       "      <td>0.035122</td>\n",
       "      <td>0.053895</td>\n",
       "      <td>0.042529</td>\n",
       "      <td>4</td>\n",
       "      <td>9</td>\n",
       "      <td>KMeans(n_clusters=9, random_state=4)</td>\n",
       "    </tr>\n",
       "    <tr>\n",
       "      <th>25</th>\n",
       "      <td>cifar10</td>\n",
       "      <td>ae_only</td>\n",
       "      <td>2</td>\n",
       "      <td>0.454990</td>\n",
       "      <td>0.035009</td>\n",
       "      <td>0.051388</td>\n",
       "      <td>0.041646</td>\n",
       "      <td>0</td>\n",
       "      <td>10</td>\n",
       "      <td>KMeans(n_clusters=10, random_state=0)</td>\n",
       "    </tr>\n",
       "    <tr>\n",
       "      <th>26</th>\n",
       "      <td>cifar10</td>\n",
       "      <td>ae_only</td>\n",
       "      <td>2</td>\n",
       "      <td>0.454947</td>\n",
       "      <td>0.035040</td>\n",
       "      <td>0.051533</td>\n",
       "      <td>0.041716</td>\n",
       "      <td>1</td>\n",
       "      <td>10</td>\n",
       "      <td>KMeans(n_clusters=10, random_state=1)</td>\n",
       "    </tr>\n",
       "    <tr>\n",
       "      <th>27</th>\n",
       "      <td>cifar10</td>\n",
       "      <td>ae_only</td>\n",
       "      <td>2</td>\n",
       "      <td>0.454971</td>\n",
       "      <td>0.035039</td>\n",
       "      <td>0.051485</td>\n",
       "      <td>0.041699</td>\n",
       "      <td>2</td>\n",
       "      <td>10</td>\n",
       "      <td>KMeans(n_clusters=10, random_state=2)</td>\n",
       "    </tr>\n",
       "    <tr>\n",
       "      <th>28</th>\n",
       "      <td>cifar10</td>\n",
       "      <td>ae_only</td>\n",
       "      <td>2</td>\n",
       "      <td>0.455238</td>\n",
       "      <td>0.035029</td>\n",
       "      <td>0.051449</td>\n",
       "      <td>0.041680</td>\n",
       "      <td>3</td>\n",
       "      <td>10</td>\n",
       "      <td>KMeans(n_clusters=10, random_state=3)</td>\n",
       "    </tr>\n",
       "    <tr>\n",
       "      <th>29</th>\n",
       "      <td>cifar10</td>\n",
       "      <td>ae_only</td>\n",
       "      <td>2</td>\n",
       "      <td>0.454991</td>\n",
       "      <td>0.035104</td>\n",
       "      <td>0.051541</td>\n",
       "      <td>0.041763</td>\n",
       "      <td>4</td>\n",
       "      <td>10</td>\n",
       "      <td>KMeans(n_clusters=10, random_state=4)</td>\n",
       "    </tr>\n",
       "    <tr>\n",
       "      <th>30</th>\n",
       "      <td>cifar10</td>\n",
       "      <td>ae_only</td>\n",
       "      <td>2</td>\n",
       "      <td>0.432850</td>\n",
       "      <td>0.036168</td>\n",
       "      <td>0.050194</td>\n",
       "      <td>0.042042</td>\n",
       "      <td>0</td>\n",
       "      <td>11</td>\n",
       "      <td>KMeans(n_clusters=11, random_state=0)</td>\n",
       "    </tr>\n",
       "    <tr>\n",
       "      <th>31</th>\n",
       "      <td>cifar10</td>\n",
       "      <td>ae_only</td>\n",
       "      <td>2</td>\n",
       "      <td>0.436715</td>\n",
       "      <td>0.036104</td>\n",
       "      <td>0.050256</td>\n",
       "      <td>0.042021</td>\n",
       "      <td>1</td>\n",
       "      <td>11</td>\n",
       "      <td>KMeans(n_clusters=11, random_state=1)</td>\n",
       "    </tr>\n",
       "    <tr>\n",
       "      <th>32</th>\n",
       "      <td>cifar10</td>\n",
       "      <td>ae_only</td>\n",
       "      <td>2</td>\n",
       "      <td>0.431420</td>\n",
       "      <td>0.036082</td>\n",
       "      <td>0.049739</td>\n",
       "      <td>0.041824</td>\n",
       "      <td>2</td>\n",
       "      <td>11</td>\n",
       "      <td>KMeans(n_clusters=11, random_state=2)</td>\n",
       "    </tr>\n",
       "    <tr>\n",
       "      <th>33</th>\n",
       "      <td>cifar10</td>\n",
       "      <td>ae_only</td>\n",
       "      <td>2</td>\n",
       "      <td>0.438103</td>\n",
       "      <td>0.036330</td>\n",
       "      <td>0.049890</td>\n",
       "      <td>0.042044</td>\n",
       "      <td>3</td>\n",
       "      <td>11</td>\n",
       "      <td>KMeans(n_clusters=11, random_state=3)</td>\n",
       "    </tr>\n",
       "    <tr>\n",
       "      <th>34</th>\n",
       "      <td>cifar10</td>\n",
       "      <td>ae_only</td>\n",
       "      <td>2</td>\n",
       "      <td>0.440686</td>\n",
       "      <td>0.036034</td>\n",
       "      <td>0.050416</td>\n",
       "      <td>0.042029</td>\n",
       "      <td>4</td>\n",
       "      <td>11</td>\n",
       "      <td>KMeans(n_clusters=11, random_state=4)</td>\n",
       "    </tr>\n",
       "    <tr>\n",
       "      <th>35</th>\n",
       "      <td>cifar10</td>\n",
       "      <td>ae_only</td>\n",
       "      <td>2</td>\n",
       "      <td>0.440266</td>\n",
       "      <td>0.041517</td>\n",
       "      <td>0.053907</td>\n",
       "      <td>0.046908</td>\n",
       "      <td>0</td>\n",
       "      <td>12</td>\n",
       "      <td>KMeans(n_clusters=12, random_state=0)</td>\n",
       "    </tr>\n",
       "    <tr>\n",
       "      <th>36</th>\n",
       "      <td>cifar10</td>\n",
       "      <td>ae_only</td>\n",
       "      <td>2</td>\n",
       "      <td>0.437072</td>\n",
       "      <td>0.040901</td>\n",
       "      <td>0.053780</td>\n",
       "      <td>0.046464</td>\n",
       "      <td>1</td>\n",
       "      <td>12</td>\n",
       "      <td>KMeans(n_clusters=12, random_state=1)</td>\n",
       "    </tr>\n",
       "    <tr>\n",
       "      <th>37</th>\n",
       "      <td>cifar10</td>\n",
       "      <td>ae_only</td>\n",
       "      <td>2</td>\n",
       "      <td>0.434530</td>\n",
       "      <td>0.041143</td>\n",
       "      <td>0.053659</td>\n",
       "      <td>0.046575</td>\n",
       "      <td>2</td>\n",
       "      <td>12</td>\n",
       "      <td>KMeans(n_clusters=12, random_state=2)</td>\n",
       "    </tr>\n",
       "    <tr>\n",
       "      <th>38</th>\n",
       "      <td>cifar10</td>\n",
       "      <td>ae_only</td>\n",
       "      <td>2</td>\n",
       "      <td>0.439982</td>\n",
       "      <td>0.041520</td>\n",
       "      <td>0.053900</td>\n",
       "      <td>0.046907</td>\n",
       "      <td>3</td>\n",
       "      <td>12</td>\n",
       "      <td>KMeans(n_clusters=12, random_state=3)</td>\n",
       "    </tr>\n",
       "    <tr>\n",
       "      <th>39</th>\n",
       "      <td>cifar10</td>\n",
       "      <td>ae_only</td>\n",
       "      <td>2</td>\n",
       "      <td>0.434542</td>\n",
       "      <td>0.036727</td>\n",
       "      <td>0.049331</td>\n",
       "      <td>0.042106</td>\n",
       "      <td>4</td>\n",
       "      <td>12</td>\n",
       "      <td>KMeans(n_clusters=12, random_state=4)</td>\n",
       "    </tr>\n",
       "    <tr>\n",
       "      <th>40</th>\n",
       "      <td>cifar10</td>\n",
       "      <td>ae_only</td>\n",
       "      <td>2</td>\n",
       "      <td>0.442804</td>\n",
       "      <td>0.041923</td>\n",
       "      <td>0.053880</td>\n",
       "      <td>0.047156</td>\n",
       "      <td>0</td>\n",
       "      <td>13</td>\n",
       "      <td>KMeans(n_clusters=13, random_state=0)</td>\n",
       "    </tr>\n",
       "    <tr>\n",
       "      <th>41</th>\n",
       "      <td>cifar10</td>\n",
       "      <td>ae_only</td>\n",
       "      <td>2</td>\n",
       "      <td>0.441630</td>\n",
       "      <td>0.041410</td>\n",
       "      <td>0.053724</td>\n",
       "      <td>0.046770</td>\n",
       "      <td>1</td>\n",
       "      <td>13</td>\n",
       "      <td>KMeans(n_clusters=13, random_state=1)</td>\n",
       "    </tr>\n",
       "    <tr>\n",
       "      <th>42</th>\n",
       "      <td>cifar10</td>\n",
       "      <td>ae_only</td>\n",
       "      <td>2</td>\n",
       "      <td>0.440762</td>\n",
       "      <td>0.041343</td>\n",
       "      <td>0.053591</td>\n",
       "      <td>0.046677</td>\n",
       "      <td>2</td>\n",
       "      <td>13</td>\n",
       "      <td>KMeans(n_clusters=13, random_state=2)</td>\n",
       "    </tr>\n",
       "    <tr>\n",
       "      <th>43</th>\n",
       "      <td>cifar10</td>\n",
       "      <td>ae_only</td>\n",
       "      <td>2</td>\n",
       "      <td>0.440796</td>\n",
       "      <td>0.042544</td>\n",
       "      <td>0.054878</td>\n",
       "      <td>0.047930</td>\n",
       "      <td>3</td>\n",
       "      <td>13</td>\n",
       "      <td>KMeans(n_clusters=13, random_state=3)</td>\n",
       "    </tr>\n",
       "    <tr>\n",
       "      <th>44</th>\n",
       "      <td>cifar10</td>\n",
       "      <td>ae_only</td>\n",
       "      <td>2</td>\n",
       "      <td>0.442445</td>\n",
       "      <td>0.041859</td>\n",
       "      <td>0.053693</td>\n",
       "      <td>0.047043</td>\n",
       "      <td>4</td>\n",
       "      <td>13</td>\n",
       "      <td>KMeans(n_clusters=13, random_state=4)</td>\n",
       "    </tr>\n",
       "    <tr>\n",
       "      <th>45</th>\n",
       "      <td>cifar10</td>\n",
       "      <td>ae_only</td>\n",
       "      <td>2</td>\n",
       "      <td>0.443773</td>\n",
       "      <td>0.042385</td>\n",
       "      <td>0.053727</td>\n",
       "      <td>0.047387</td>\n",
       "      <td>0</td>\n",
       "      <td>14</td>\n",
       "      <td>KMeans(n_clusters=14, random_state=0)</td>\n",
       "    </tr>\n",
       "    <tr>\n",
       "      <th>46</th>\n",
       "      <td>cifar10</td>\n",
       "      <td>ae_only</td>\n",
       "      <td>2</td>\n",
       "      <td>0.437439</td>\n",
       "      <td>0.043381</td>\n",
       "      <td>0.054676</td>\n",
       "      <td>0.048378</td>\n",
       "      <td>1</td>\n",
       "      <td>14</td>\n",
       "      <td>KMeans(n_clusters=14, random_state=1)</td>\n",
       "    </tr>\n",
       "    <tr>\n",
       "      <th>47</th>\n",
       "      <td>cifar10</td>\n",
       "      <td>ae_only</td>\n",
       "      <td>2</td>\n",
       "      <td>0.436539</td>\n",
       "      <td>0.042603</td>\n",
       "      <td>0.052549</td>\n",
       "      <td>0.047057</td>\n",
       "      <td>2</td>\n",
       "      <td>14</td>\n",
       "      <td>KMeans(n_clusters=14, random_state=2)</td>\n",
       "    </tr>\n",
       "    <tr>\n",
       "      <th>48</th>\n",
       "      <td>cifar10</td>\n",
       "      <td>ae_only</td>\n",
       "      <td>2</td>\n",
       "      <td>0.436344</td>\n",
       "      <td>0.042257</td>\n",
       "      <td>0.053312</td>\n",
       "      <td>0.047145</td>\n",
       "      <td>3</td>\n",
       "      <td>14</td>\n",
       "      <td>KMeans(n_clusters=14, random_state=3)</td>\n",
       "    </tr>\n",
       "    <tr>\n",
       "      <th>49</th>\n",
       "      <td>cifar10</td>\n",
       "      <td>ae_only</td>\n",
       "      <td>2</td>\n",
       "      <td>0.445624</td>\n",
       "      <td>0.042878</td>\n",
       "      <td>0.054690</td>\n",
       "      <td>0.048069</td>\n",
       "      <td>4</td>\n",
       "      <td>14</td>\n",
       "      <td>KMeans(n_clusters=14, random_state=4)</td>\n",
       "    </tr>\n",
       "  </tbody>\n",
       "</table>\n",
       "</div>"
      ],
      "text/plain": [
       "    dataset   class_ dim  silhouette  homogeneity  completeness  v_measure  \\\n",
       "0   cifar10  ae_only   2    0.554361     0.018069      0.046257   0.025987   \n",
       "1   cifar10  ae_only   2    0.554318     0.018076      0.046268   0.025996   \n",
       "2   cifar10  ae_only   2    0.554804     0.018000      0.046132   0.025895   \n",
       "3   cifar10  ae_only   2    0.555706     0.017929      0.045959   0.025795   \n",
       "4   cifar10  ae_only   2    0.555038     0.017976      0.045999   0.025850   \n",
       "5   cifar10  ae_only   2    0.414318     0.033399      0.062598   0.043558   \n",
       "6   cifar10  ae_only   2    0.414249     0.033346      0.062413   0.043468   \n",
       "7   cifar10  ae_only   2    0.410613     0.033489      0.062655   0.043648   \n",
       "8   cifar10  ae_only   2    0.412451     0.033501      0.062735   0.043678   \n",
       "9   cifar10  ae_only   2    0.414645     0.033359      0.062425   0.043482   \n",
       "10  cifar10  ae_only   2    0.421672     0.033220      0.057055   0.041991   \n",
       "11  cifar10  ae_only   2    0.422215     0.033206      0.057037   0.041975   \n",
       "12  cifar10  ae_only   2    0.421207     0.033332      0.057834   0.042290   \n",
       "13  cifar10  ae_only   2    0.420947     0.033357      0.057429   0.042201   \n",
       "14  cifar10  ae_only   2    0.421816     0.033184      0.057003   0.041948   \n",
       "15  cifar10  ae_only   2    0.433585     0.033685      0.055895   0.042036   \n",
       "16  cifar10  ae_only   2    0.434149     0.033651      0.055879   0.042006   \n",
       "17  cifar10  ae_only   2    0.433818     0.033698      0.056041   0.042088   \n",
       "18  cifar10  ae_only   2    0.441949     0.034540      0.054870   0.042394   \n",
       "19  cifar10  ae_only   2    0.433591     0.033773      0.055752   0.042065   \n",
       "20  cifar10  ae_only   2    0.453904     0.035203      0.053846   0.042573   \n",
       "21  cifar10  ae_only   2    0.453669     0.035211      0.053960   0.042614   \n",
       "22  cifar10  ae_only   2    0.453650     0.035168      0.053908   0.042567   \n",
       "23  cifar10  ae_only   2    0.453536     0.035089      0.053768   0.042465   \n",
       "24  cifar10  ae_only   2    0.453562     0.035122      0.053895   0.042529   \n",
       "25  cifar10  ae_only   2    0.454990     0.035009      0.051388   0.041646   \n",
       "26  cifar10  ae_only   2    0.454947     0.035040      0.051533   0.041716   \n",
       "27  cifar10  ae_only   2    0.454971     0.035039      0.051485   0.041699   \n",
       "28  cifar10  ae_only   2    0.455238     0.035029      0.051449   0.041680   \n",
       "29  cifar10  ae_only   2    0.454991     0.035104      0.051541   0.041763   \n",
       "30  cifar10  ae_only   2    0.432850     0.036168      0.050194   0.042042   \n",
       "31  cifar10  ae_only   2    0.436715     0.036104      0.050256   0.042021   \n",
       "32  cifar10  ae_only   2    0.431420     0.036082      0.049739   0.041824   \n",
       "33  cifar10  ae_only   2    0.438103     0.036330      0.049890   0.042044   \n",
       "34  cifar10  ae_only   2    0.440686     0.036034      0.050416   0.042029   \n",
       "35  cifar10  ae_only   2    0.440266     0.041517      0.053907   0.046908   \n",
       "36  cifar10  ae_only   2    0.437072     0.040901      0.053780   0.046464   \n",
       "37  cifar10  ae_only   2    0.434530     0.041143      0.053659   0.046575   \n",
       "38  cifar10  ae_only   2    0.439982     0.041520      0.053900   0.046907   \n",
       "39  cifar10  ae_only   2    0.434542     0.036727      0.049331   0.042106   \n",
       "40  cifar10  ae_only   2    0.442804     0.041923      0.053880   0.047156   \n",
       "41  cifar10  ae_only   2    0.441630     0.041410      0.053724   0.046770   \n",
       "42  cifar10  ae_only   2    0.440762     0.041343      0.053591   0.046677   \n",
       "43  cifar10  ae_only   2    0.440796     0.042544      0.054878   0.047930   \n",
       "44  cifar10  ae_only   2    0.442445     0.041859      0.053693   0.047043   \n",
       "45  cifar10  ae_only   2    0.443773     0.042385      0.053727   0.047387   \n",
       "46  cifar10  ae_only   2    0.437439     0.043381      0.054676   0.048378   \n",
       "47  cifar10  ae_only   2    0.436539     0.042603      0.052549   0.047057   \n",
       "48  cifar10  ae_only   2    0.436344     0.042257      0.053312   0.047145   \n",
       "49  cifar10  ae_only   2    0.445624     0.042878      0.054690   0.048069   \n",
       "\n",
       "   init_ n_clusters                                  model  \n",
       "0      0          5   KMeans(n_clusters=5, random_state=0)  \n",
       "1      1          5   KMeans(n_clusters=5, random_state=1)  \n",
       "2      2          5   KMeans(n_clusters=5, random_state=2)  \n",
       "3      3          5   KMeans(n_clusters=5, random_state=3)  \n",
       "4      4          5   KMeans(n_clusters=5, random_state=4)  \n",
       "5      0          6   KMeans(n_clusters=6, random_state=0)  \n",
       "6      1          6   KMeans(n_clusters=6, random_state=1)  \n",
       "7      2          6   KMeans(n_clusters=6, random_state=2)  \n",
       "8      3          6   KMeans(n_clusters=6, random_state=3)  \n",
       "9      4          6   KMeans(n_clusters=6, random_state=4)  \n",
       "10     0          7   KMeans(n_clusters=7, random_state=0)  \n",
       "11     1          7   KMeans(n_clusters=7, random_state=1)  \n",
       "12     2          7   KMeans(n_clusters=7, random_state=2)  \n",
       "13     3          7   KMeans(n_clusters=7, random_state=3)  \n",
       "14     4          7   KMeans(n_clusters=7, random_state=4)  \n",
       "15     0          8                 KMeans(random_state=0)  \n",
       "16     1          8                 KMeans(random_state=1)  \n",
       "17     2          8                 KMeans(random_state=2)  \n",
       "18     3          8                 KMeans(random_state=3)  \n",
       "19     4          8                 KMeans(random_state=4)  \n",
       "20     0          9   KMeans(n_clusters=9, random_state=0)  \n",
       "21     1          9   KMeans(n_clusters=9, random_state=1)  \n",
       "22     2          9   KMeans(n_clusters=9, random_state=2)  \n",
       "23     3          9   KMeans(n_clusters=9, random_state=3)  \n",
       "24     4          9   KMeans(n_clusters=9, random_state=4)  \n",
       "25     0         10  KMeans(n_clusters=10, random_state=0)  \n",
       "26     1         10  KMeans(n_clusters=10, random_state=1)  \n",
       "27     2         10  KMeans(n_clusters=10, random_state=2)  \n",
       "28     3         10  KMeans(n_clusters=10, random_state=3)  \n",
       "29     4         10  KMeans(n_clusters=10, random_state=4)  \n",
       "30     0         11  KMeans(n_clusters=11, random_state=0)  \n",
       "31     1         11  KMeans(n_clusters=11, random_state=1)  \n",
       "32     2         11  KMeans(n_clusters=11, random_state=2)  \n",
       "33     3         11  KMeans(n_clusters=11, random_state=3)  \n",
       "34     4         11  KMeans(n_clusters=11, random_state=4)  \n",
       "35     0         12  KMeans(n_clusters=12, random_state=0)  \n",
       "36     1         12  KMeans(n_clusters=12, random_state=1)  \n",
       "37     2         12  KMeans(n_clusters=12, random_state=2)  \n",
       "38     3         12  KMeans(n_clusters=12, random_state=3)  \n",
       "39     4         12  KMeans(n_clusters=12, random_state=4)  \n",
       "40     0         13  KMeans(n_clusters=13, random_state=0)  \n",
       "41     1         13  KMeans(n_clusters=13, random_state=1)  \n",
       "42     2         13  KMeans(n_clusters=13, random_state=2)  \n",
       "43     3         13  KMeans(n_clusters=13, random_state=3)  \n",
       "44     4         13  KMeans(n_clusters=13, random_state=4)  \n",
       "45     0         14  KMeans(n_clusters=14, random_state=0)  \n",
       "46     1         14  KMeans(n_clusters=14, random_state=1)  \n",
       "47     2         14  KMeans(n_clusters=14, random_state=2)  \n",
       "48     3         14  KMeans(n_clusters=14, random_state=3)  \n",
       "49     4         14  KMeans(n_clusters=14, random_state=4)  "
      ]
     },
     "execution_count": 52,
     "metadata": {},
     "output_type": "execute_result"
    }
   ],
   "source": [
    "get_cluster_metrics(projection_df.iloc[0], n_init=5)"
   ]
  },
  {
   "cell_type": "code",
   "execution_count": null,
   "metadata": {},
   "outputs": [],
   "source": []
  },
  {
   "cell_type": "code",
   "execution_count": null,
   "metadata": {},
   "outputs": [],
   "source": []
  },
  {
   "cell_type": "code",
   "execution_count": null,
   "metadata": {},
   "outputs": [],
   "source": []
  },
  {
   "cell_type": "code",
   "execution_count": null,
   "metadata": {},
   "outputs": [],
   "source": []
  }
 ],
 "metadata": {
  "kernelspec": {
   "display_name": "Python 3",
   "language": "python",
   "name": "python3"
  },
  "language_info": {
   "codemirror_mode": {
    "name": "ipython",
    "version": 3
   },
   "file_extension": ".py",
   "mimetype": "text/x-python",
   "name": "python",
   "nbconvert_exporter": "python",
   "pygments_lexer": "ipython3",
   "version": "3.6.7"
  }
 },
 "nbformat": 4,
 "nbformat_minor": 2
}
