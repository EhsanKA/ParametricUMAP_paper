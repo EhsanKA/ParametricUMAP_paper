{
 "cells": [
  {
   "cell_type": "code",
   "execution_count": 1,
   "metadata": {
    "ExecuteTime": {
     "end_time": "2020-07-24T16:29:23.464030Z",
     "start_time": "2020-07-24T16:29:21.593690Z"
    }
   },
   "outputs": [
    {
     "name": "stderr",
     "output_type": "stream",
     "text": [
      "/mnt/cube/tsainbur/conda_envs/tpy3/lib/python3.6/site-packages/tqdm/autonotebook/__init__.py:14: TqdmExperimentalWarning: Using `tqdm.autonotebook.tqdm` in notebook mode. Use `tqdm.tqdm` instead to force console mode (e.g. in jupyter console)\n",
      "  \" (e.g. in jupyter console)\", TqdmExperimentalWarning)\n"
     ]
    }
   ],
   "source": [
    "import numpy as np\n",
    "import pandas as pd\n",
    "from tqdm.autonotebook import tqdm\n",
    "import matplotlib.pyplot as plt"
   ]
  },
  {
   "cell_type": "code",
   "execution_count": 2,
   "metadata": {
    "ExecuteTime": {
     "end_time": "2020-07-24T16:29:24.871130Z",
     "start_time": "2020-07-24T16:29:23.465437Z"
    }
   },
   "outputs": [],
   "source": [
    "from sklearn.cluster import KMeans\n",
    "from sklearn.metrics import homogeneity_completeness_v_measure"
   ]
  },
  {
   "cell_type": "code",
   "execution_count": 3,
   "metadata": {
    "ExecuteTime": {
     "end_time": "2020-07-24T16:29:25.047252Z",
     "start_time": "2020-07-24T16:29:24.873475Z"
    }
   },
   "outputs": [],
   "source": [
    "from tfumap.paths import ensure_dir, MODEL_DIR, DATA_DIR"
   ]
  },
  {
   "cell_type": "code",
   "execution_count": 4,
   "metadata": {
    "ExecuteTime": {
     "end_time": "2020-07-24T16:29:25.608653Z",
     "start_time": "2020-07-24T16:29:25.050336Z"
    }
   },
   "outputs": [
    {
     "data": {
      "text/html": [
       "<div>\n",
       "<style scoped>\n",
       "    .dataframe tbody tr th:only-of-type {\n",
       "        vertical-align: middle;\n",
       "    }\n",
       "\n",
       "    .dataframe tbody tr th {\n",
       "        vertical-align: top;\n",
       "    }\n",
       "\n",
       "    .dataframe thead th {\n",
       "        text-align: right;\n",
       "    }\n",
       "</style>\n",
       "<table border=\"1\" class=\"dataframe\">\n",
       "  <thead>\n",
       "    <tr style=\"text-align: right;\">\n",
       "      <th></th>\n",
       "      <th>dataset</th>\n",
       "      <th>class_</th>\n",
       "      <th>dim</th>\n",
       "      <th>silhouette</th>\n",
       "      <th>homogeneity</th>\n",
       "      <th>completeness</th>\n",
       "      <th>v_measure</th>\n",
       "      <th>init_</th>\n",
       "      <th>n_clusters</th>\n",
       "      <th>model</th>\n",
       "    </tr>\n",
       "  </thead>\n",
       "  <tbody>\n",
       "    <tr>\n",
       "      <th>0</th>\n",
       "      <td>mnist</td>\n",
       "      <td>PCA</td>\n",
       "      <td>2</td>\n",
       "      <td>0.377440</td>\n",
       "      <td>0.272552</td>\n",
       "      <td>0.39746</td>\n",
       "      <td>0.323363</td>\n",
       "      <td>0</td>\n",
       "      <td>5</td>\n",
       "      <td>KMeans(n_clusters=5, random_state=0)</td>\n",
       "    </tr>\n",
       "    <tr>\n",
       "      <th>1</th>\n",
       "      <td>mnist</td>\n",
       "      <td>PCA</td>\n",
       "      <td>2</td>\n",
       "      <td>0.377355</td>\n",
       "      <td>0.273045</td>\n",
       "      <td>0.39793</td>\n",
       "      <td>0.323865</td>\n",
       "      <td>1</td>\n",
       "      <td>5</td>\n",
       "      <td>KMeans(n_clusters=5, random_state=1)</td>\n",
       "    </tr>\n",
       "    <tr>\n",
       "      <th>2</th>\n",
       "      <td>mnist</td>\n",
       "      <td>PCA</td>\n",
       "      <td>2</td>\n",
       "      <td>0.377199</td>\n",
       "      <td>0.273357</td>\n",
       "      <td>0.39823</td>\n",
       "      <td>0.324184</td>\n",
       "      <td>2</td>\n",
       "      <td>5</td>\n",
       "      <td>KMeans(n_clusters=5, random_state=2)</td>\n",
       "    </tr>\n",
       "  </tbody>\n",
       "</table>\n",
       "</div>"
      ],
      "text/plain": [
       "  dataset class_ dim  silhouette  homogeneity  completeness  v_measure init_  \\\n",
       "0   mnist    PCA   2    0.377440     0.272552       0.39746   0.323363     0   \n",
       "1   mnist    PCA   2    0.377355     0.273045       0.39793   0.323865     1   \n",
       "2   mnist    PCA   2    0.377199     0.273357       0.39823   0.324184     2   \n",
       "\n",
       "  n_clusters                                 model  \n",
       "0          5  KMeans(n_clusters=5, random_state=0)  \n",
       "1          5  KMeans(n_clusters=5, random_state=1)  \n",
       "2          5  KMeans(n_clusters=5, random_state=2)  "
      ]
     },
     "execution_count": 4,
     "metadata": {},
     "output_type": "execute_result"
    }
   ],
   "source": [
    "metrics_df = pd.concat([pd.read_pickle(i) for i in list((DATA_DIR / 'clustering_metric_df').glob('*.pickle'))])\n",
    "metrics_df[:3]"
   ]
  },
  {
   "cell_type": "code",
   "execution_count": null,
   "metadata": {
    "ExecuteTime": {
     "end_time": "2020-07-23T21:49:14.250057Z",
     "start_time": "2020-07-23T21:49:14.227908Z"
    }
   },
   "outputs": [],
   "source": []
  },
  {
   "cell_type": "code",
   "execution_count": 5,
   "metadata": {
    "ExecuteTime": {
     "end_time": "2020-07-24T16:29:25.917068Z",
     "start_time": "2020-07-24T16:29:25.610281Z"
    }
   },
   "outputs": [],
   "source": [
    "import seaborn as sns"
   ]
  },
  {
   "cell_type": "code",
   "execution_count": 6,
   "metadata": {
    "ExecuteTime": {
     "end_time": "2020-07-24T16:29:25.995267Z",
     "start_time": "2020-07-24T16:29:25.918969Z"
    }
   },
   "outputs": [
    {
     "data": {
      "image/png": "[encoded data removed]",
      "text/plain": [
       "<Figure size 432x72 with 1 Axes>"
      ]
     },
     "metadata": {
      "needs_background": "light"
     },
     "output_type": "display_data"
    }
   ],
   "source": [
    "palette = sns.color_palette('Reds', 3)[1:] + sns.color_palette('Blues', 6)[3:] + sns.color_palette('Greens', 1) \n",
    "sns.palplot(palette)"
   ]
  },
  {
   "cell_type": "code",
   "execution_count": 7,
   "metadata": {
    "ExecuteTime": {
     "end_time": "2020-07-24T16:29:28.716415Z",
     "start_time": "2020-07-24T16:29:25.996243Z"
    }
   },
   "outputs": [
    {
     "data": {
      "image/png": "[encoded data removed]",
      "text/plain": [
       "<Figure size 1916x180 with 2 Axes>"
      ]
     },
     "metadata": {
      "needs_background": "light"
     },
     "output_type": "display_data"
    }
   ],
   "source": [
    "fg = sns.catplot(\n",
    "    x=\"n_clusters\",\n",
    "    y=\"v_measure\",\n",
    "    hue=\"class_\",\n",
    "    hue_order=[\"TSNE\", \"parametric-tsne\", \"umap-learn\",  \"network\", \"autoencoder\", \"PCA\"],\n",
    "    #order = ['mnist', 'fmnist', 'macosko2015', 'cassins_dtw', 'cifar10'],\n",
    "    col=\"dim\",\n",
    "    height=2.5, \n",
    "    aspect=5,\n",
    "    data=metrics_df[metrics_df.dataset == 'fmnist'],\n",
    "    kind=\"bar\",\n",
    "    palette=palette,\n",
    "    #legend=False\n",
    ")\n",
    "(fg.despine(bottom=True)\n",
    " #.set_xticklabels(['MNIST', 'FMNIST', 'Retina', 'Cassin\\'s', 'CIFAR10'])\n",
    " .set_axis_labels(\"\", \"Silhouette Score\")\n",
    ")\n",
    "ax = fg.axes[0][0]\n",
    "ax.tick_params(axis=u'both', which=u'both',length=0)\n",
    "fg._legend._legend_title_box._text.set_text(\"\")\n",
    "\n",
    "ax.set_title('2 Dimensions')\n",
    "\n",
    "\n",
    "\n",
    "fg._legend.texts[np.where((np.array([i._text for i in fg._legend.texts]) == 'umap-learn'))[0][0]].set_text('UMAP-learn')\n",
    "fg._legend.texts[np.where((np.array([i._text for i in fg._legend.texts]) == 'network'))[0][0]].set_text('P. UMAP')\n",
    "fg._legend.texts[np.where((np.array([i._text for i in fg._legend.texts]) == 'autoencoder'))[0][0]].set_text('UMAP AE')\n",
    "fg._legend.texts[np.where((np.array([i._text for i in fg._legend.texts]) == 'parametric-tsne'))[0][0]].set_text('P. TSNE')\n",
    "\n",
    "#save_fig(FIGURE_DIR/'silhouette-test', save_pdf=True, dpi=300)"
   ]
  },
  {
   "cell_type": "code",
   "execution_count": 8,
   "metadata": {
    "ExecuteTime": {
     "end_time": "2020-07-24T16:29:28.728285Z",
     "start_time": "2020-07-24T16:29:28.717442Z"
    }
   },
   "outputs": [
    {
     "data": {
      "text/html": [
       "<div>\n",
       "<style scoped>\n",
       "    .dataframe tbody tr th:only-of-type {\n",
       "        vertical-align: middle;\n",
       "    }\n",
       "\n",
       "    .dataframe tbody tr th {\n",
       "        vertical-align: top;\n",
       "    }\n",
       "\n",
       "    .dataframe thead th {\n",
       "        text-align: right;\n",
       "    }\n",
       "</style>\n",
       "<table border=\"1\" class=\"dataframe\">\n",
       "  <thead>\n",
       "    <tr style=\"text-align: right;\">\n",
       "      <th></th>\n",
       "      <th>dataset</th>\n",
       "      <th>class_</th>\n",
       "      <th>dim</th>\n",
       "      <th>silhouette</th>\n",
       "      <th>homogeneity</th>\n",
       "      <th>completeness</th>\n",
       "      <th>v_measure</th>\n",
       "      <th>init_</th>\n",
       "      <th>n_clusters</th>\n",
       "      <th>model</th>\n",
       "    </tr>\n",
       "  </thead>\n",
       "  <tbody>\n",
       "    <tr>\n",
       "      <th>0</th>\n",
       "      <td>mnist</td>\n",
       "      <td>PCA</td>\n",
       "      <td>2</td>\n",
       "      <td>0.377440</td>\n",
       "      <td>0.272552</td>\n",
       "      <td>0.39746</td>\n",
       "      <td>0.323363</td>\n",
       "      <td>0</td>\n",
       "      <td>5</td>\n",
       "      <td>KMeans(n_clusters=5, random_state=0)</td>\n",
       "    </tr>\n",
       "    <tr>\n",
       "      <th>1</th>\n",
       "      <td>mnist</td>\n",
       "      <td>PCA</td>\n",
       "      <td>2</td>\n",
       "      <td>0.377355</td>\n",
       "      <td>0.273045</td>\n",
       "      <td>0.39793</td>\n",
       "      <td>0.323865</td>\n",
       "      <td>1</td>\n",
       "      <td>5</td>\n",
       "      <td>KMeans(n_clusters=5, random_state=1)</td>\n",
       "    </tr>\n",
       "    <tr>\n",
       "      <th>2</th>\n",
       "      <td>mnist</td>\n",
       "      <td>PCA</td>\n",
       "      <td>2</td>\n",
       "      <td>0.377199</td>\n",
       "      <td>0.273357</td>\n",
       "      <td>0.39823</td>\n",
       "      <td>0.324184</td>\n",
       "      <td>2</td>\n",
       "      <td>5</td>\n",
       "      <td>KMeans(n_clusters=5, random_state=2)</td>\n",
       "    </tr>\n",
       "  </tbody>\n",
       "</table>\n",
       "</div>"
      ],
      "text/plain": [
       "  dataset class_ dim  silhouette  homogeneity  completeness  v_measure init_  \\\n",
       "0   mnist    PCA   2    0.377440     0.272552       0.39746   0.323363     0   \n",
       "1   mnist    PCA   2    0.377355     0.273045       0.39793   0.323865     1   \n",
       "2   mnist    PCA   2    0.377199     0.273357       0.39823   0.324184     2   \n",
       "\n",
       "  n_clusters                                 model  \n",
       "0          5  KMeans(n_clusters=5, random_state=0)  \n",
       "1          5  KMeans(n_clusters=5, random_state=1)  \n",
       "2          5  KMeans(n_clusters=5, random_state=2)  "
      ]
     },
     "execution_count": 8,
     "metadata": {},
     "output_type": "execute_result"
    }
   ],
   "source": [
    "metrics_df[:3]"
   ]
  },
  {
   "cell_type": "markdown",
   "metadata": {},
   "source": [
    "### plot on the basis of the best silhouette score"
   ]
  },
  {
   "cell_type": "code",
   "execution_count": 9,
   "metadata": {
    "ExecuteTime": {
     "end_time": "2020-07-24T16:29:28.805848Z",
     "start_time": "2020-07-24T16:29:28.729853Z"
    }
   },
   "outputs": [
    {
     "name": "stderr",
     "output_type": "stream",
     "text": [
      "/mnt/cube/tsainbur/conda_envs/tpy3/lib/python3.6/site-packages/numpy/core/fromnumeric.py:61: FutureWarning: \n",
      "The current behaviour of 'Series.argmax' is deprecated, use 'idxmax'\n",
      "instead.\n",
      "The behavior of 'argmax' will be corrected to return the positional\n",
      "maximum in the future. For now, use 'series.values.argmax' or\n",
      "'np.argmax(np.array(values))' to get the position of the maximum\n",
      "row.\n",
      "  return bound(*args, **kwds)\n"
     ]
    }
   ],
   "source": [
    "### get the best silhouette score for each dataset, class_, dim_\n",
    "metrics_df_max_iter = []\n",
    "for dataset in metrics_df.dataset.unique():\n",
    "    for class_ in metrics_df.class_.unique():\n",
    "        for dim in metrics_df.dim.unique():\n",
    "            subset_df = metrics_df[\n",
    "                (dataset == metrics_df.dataset.values) &\n",
    "                (class_ == metrics_df.class_.values) &\n",
    "                (dim == metrics_df.dim.values) \n",
    "            ]\n",
    "            if len(subset_df) > 0:\n",
    "                #print(np.argmax(subset_df.silhouette))\n",
    "                metrics_df_max_iter.append(subset_df.iloc[np.argmax(subset_df.silhouette)])"
   ]
  },
  {
   "cell_type": "code",
   "execution_count": 10,
   "metadata": {
    "ExecuteTime": {
     "end_time": "2020-07-24T16:29:28.820887Z",
     "start_time": "2020-07-24T16:29:28.806812Z"
    }
   },
   "outputs": [
    {
     "data": {
      "text/html": [
       "<div>\n",
       "<style scoped>\n",
       "    .dataframe tbody tr th:only-of-type {\n",
       "        vertical-align: middle;\n",
       "    }\n",
       "\n",
       "    .dataframe tbody tr th {\n",
       "        vertical-align: top;\n",
       "    }\n",
       "\n",
       "    .dataframe thead th {\n",
       "        text-align: right;\n",
       "    }\n",
       "</style>\n",
       "<table border=\"1\" class=\"dataframe\">\n",
       "  <thead>\n",
       "    <tr style=\"text-align: right;\">\n",
       "      <th></th>\n",
       "      <th>index</th>\n",
       "      <th>dataset</th>\n",
       "      <th>class_</th>\n",
       "      <th>dim</th>\n",
       "      <th>silhouette</th>\n",
       "      <th>homogeneity</th>\n",
       "      <th>completeness</th>\n",
       "      <th>v_measure</th>\n",
       "      <th>init_</th>\n",
       "      <th>n_clusters</th>\n",
       "      <th>model</th>\n",
       "    </tr>\n",
       "  </thead>\n",
       "  <tbody>\n",
       "    <tr>\n",
       "      <th>0</th>\n",
       "      <td>0</td>\n",
       "      <td>mnist</td>\n",
       "      <td>PCA</td>\n",
       "      <td>2</td>\n",
       "      <td>0.37744</td>\n",
       "      <td>0.272552</td>\n",
       "      <td>0.39746</td>\n",
       "      <td>0.323363</td>\n",
       "      <td>0</td>\n",
       "      <td>5</td>\n",
       "      <td>KMeans(n_clusters=5, random_state=0)</td>\n",
       "    </tr>\n",
       "    <tr>\n",
       "      <th>1</th>\n",
       "      <td>18</td>\n",
       "      <td>mnist</td>\n",
       "      <td>PCA</td>\n",
       "      <td>64</td>\n",
       "      <td>0.0912846</td>\n",
       "      <td>0.472775</td>\n",
       "      <td>0.53284</td>\n",
       "      <td>0.501013</td>\n",
       "      <td>3</td>\n",
       "      <td>8</td>\n",
       "      <td>KMeans(random_state=3)</td>\n",
       "    </tr>\n",
       "    <tr>\n",
       "      <th>2</th>\n",
       "      <td>28</td>\n",
       "      <td>mnist</td>\n",
       "      <td>autoencoder</td>\n",
       "      <td>2</td>\n",
       "      <td>0.529301</td>\n",
       "      <td>0.837299</td>\n",
       "      <td>0.85496</td>\n",
       "      <td>0.846037</td>\n",
       "      <td>3</td>\n",
       "      <td>10</td>\n",
       "      <td>KMeans(n_clusters=10, random_state=3)</td>\n",
       "    </tr>\n",
       "  </tbody>\n",
       "</table>\n",
       "</div>"
      ],
      "text/plain": [
       "   index dataset       class_ dim silhouette homogeneity completeness  \\\n",
       "0      0   mnist          PCA   2    0.37744    0.272552      0.39746   \n",
       "1     18   mnist          PCA  64  0.0912846    0.472775      0.53284   \n",
       "2     28   mnist  autoencoder   2   0.529301    0.837299      0.85496   \n",
       "\n",
       "  v_measure init_ n_clusters                                  model  \n",
       "0  0.323363     0          5   KMeans(n_clusters=5, random_state=0)  \n",
       "1  0.501013     3          8                 KMeans(random_state=3)  \n",
       "2  0.846037     3         10  KMeans(n_clusters=10, random_state=3)  "
      ]
     },
     "execution_count": 10,
     "metadata": {},
     "output_type": "execute_result"
    }
   ],
   "source": [
    "metrics_max_df = pd.concat(metrics_df_max_iter, axis=1).T.reset_index()\n",
    "metrics_max_df[:3]"
   ]
  },
  {
   "cell_type": "code",
   "execution_count": 11,
   "metadata": {
    "ExecuteTime": {
     "end_time": "2020-07-24T16:29:28.844521Z",
     "start_time": "2020-07-24T16:29:28.821810Z"
    }
   },
   "outputs": [
    {
     "data": {
      "text/html": [
       "<div>\n",
       "<style scoped>\n",
       "    .dataframe tbody tr th:only-of-type {\n",
       "        vertical-align: middle;\n",
       "    }\n",
       "\n",
       "    .dataframe tbody tr th {\n",
       "        vertical-align: top;\n",
       "    }\n",
       "\n",
       "    .dataframe thead th {\n",
       "        text-align: right;\n",
       "    }\n",
       "</style>\n",
       "<table border=\"1\" class=\"dataframe\">\n",
       "  <thead>\n",
       "    <tr style=\"text-align: right;\">\n",
       "      <th></th>\n",
       "      <th>index</th>\n",
       "      <th>dataset</th>\n",
       "      <th>class_</th>\n",
       "      <th>dim</th>\n",
       "      <th>silhouette</th>\n",
       "      <th>homogeneity</th>\n",
       "      <th>completeness</th>\n",
       "      <th>v_measure</th>\n",
       "      <th>init_</th>\n",
       "      <th>n_clusters</th>\n",
       "      <th>model</th>\n",
       "    </tr>\n",
       "  </thead>\n",
       "  <tbody>\n",
       "    <tr>\n",
       "      <th>0</th>\n",
       "      <td>0</td>\n",
       "      <td>mnist</td>\n",
       "      <td>PCA</td>\n",
       "      <td>2</td>\n",
       "      <td>0.37744</td>\n",
       "      <td>0.272552</td>\n",
       "      <td>0.39746</td>\n",
       "      <td>0.323363</td>\n",
       "      <td>0</td>\n",
       "      <td>5</td>\n",
       "      <td>KMeans(n_clusters=5, random_state=0)</td>\n",
       "    </tr>\n",
       "    <tr>\n",
       "      <th>1</th>\n",
       "      <td>18</td>\n",
       "      <td>mnist</td>\n",
       "      <td>PCA</td>\n",
       "      <td>64</td>\n",
       "      <td>0.0912846</td>\n",
       "      <td>0.472775</td>\n",
       "      <td>0.53284</td>\n",
       "      <td>0.501013</td>\n",
       "      <td>3</td>\n",
       "      <td>8</td>\n",
       "      <td>KMeans(random_state=3)</td>\n",
       "    </tr>\n",
       "    <tr>\n",
       "      <th>2</th>\n",
       "      <td>28</td>\n",
       "      <td>mnist</td>\n",
       "      <td>autoencoder</td>\n",
       "      <td>2</td>\n",
       "      <td>0.529301</td>\n",
       "      <td>0.837299</td>\n",
       "      <td>0.85496</td>\n",
       "      <td>0.846037</td>\n",
       "      <td>3</td>\n",
       "      <td>10</td>\n",
       "      <td>KMeans(n_clusters=10, random_state=3)</td>\n",
       "    </tr>\n",
       "    <tr>\n",
       "      <th>3</th>\n",
       "      <td>23</td>\n",
       "      <td>mnist</td>\n",
       "      <td>autoencoder</td>\n",
       "      <td>64</td>\n",
       "      <td>0.586339</td>\n",
       "      <td>0.84531</td>\n",
       "      <td>0.896477</td>\n",
       "      <td>0.870142</td>\n",
       "      <td>3</td>\n",
       "      <td>9</td>\n",
       "      <td>KMeans(n_clusters=9, random_state=3)</td>\n",
       "    </tr>\n",
       "    <tr>\n",
       "      <th>4</th>\n",
       "      <td>29</td>\n",
       "      <td>mnist</td>\n",
       "      <td>direct</td>\n",
       "      <td>2</td>\n",
       "      <td>0.617412</td>\n",
       "      <td>0.841485</td>\n",
       "      <td>0.861186</td>\n",
       "      <td>0.851221</td>\n",
       "      <td>4</td>\n",
       "      <td>10</td>\n",
       "      <td>KMeans(n_clusters=10, random_state=4)</td>\n",
       "    </tr>\n",
       "    <tr>\n",
       "      <th>...</th>\n",
       "      <td>...</td>\n",
       "      <td>...</td>\n",
       "      <td>...</td>\n",
       "      <td>...</td>\n",
       "      <td>...</td>\n",
       "      <td>...</td>\n",
       "      <td>...</td>\n",
       "      <td>...</td>\n",
       "      <td>...</td>\n",
       "      <td>...</td>\n",
       "      <td>...</td>\n",
       "    </tr>\n",
       "    <tr>\n",
       "      <th>60</th>\n",
       "      <td>33</td>\n",
       "      <td>macosko2015</td>\n",
       "      <td>umap-learn</td>\n",
       "      <td>2</td>\n",
       "      <td>0.503299</td>\n",
       "      <td>0.78593</td>\n",
       "      <td>0.424224</td>\n",
       "      <td>0.551021</td>\n",
       "      <td>3</td>\n",
       "      <td>12</td>\n",
       "      <td>KMeans(n_clusters=12, random_state=3)</td>\n",
       "    </tr>\n",
       "    <tr>\n",
       "      <th>61</th>\n",
       "      <td>4</td>\n",
       "      <td>macosko2015</td>\n",
       "      <td>umap-learn</td>\n",
       "      <td>64</td>\n",
       "      <td>0.640607</td>\n",
       "      <td>0.76894</td>\n",
       "      <td>0.783878</td>\n",
       "      <td>0.776338</td>\n",
       "      <td>4</td>\n",
       "      <td>6</td>\n",
       "      <td>KMeans(n_clusters=6, random_state=4)</td>\n",
       "    </tr>\n",
       "    <tr>\n",
       "      <th>62</th>\n",
       "      <td>21</td>\n",
       "      <td>macosko2015</td>\n",
       "      <td>TSNE</td>\n",
       "      <td>2</td>\n",
       "      <td>0.402322</td>\n",
       "      <td>0.749659</td>\n",
       "      <td>0.389235</td>\n",
       "      <td>0.512415</td>\n",
       "      <td>1</td>\n",
       "      <td>10</td>\n",
       "      <td>KMeans(n_clusters=10, random_state=1)</td>\n",
       "    </tr>\n",
       "    <tr>\n",
       "      <th>63</th>\n",
       "      <td>16</td>\n",
       "      <td>macosko2015</td>\n",
       "      <td>parametric-tsne</td>\n",
       "      <td>2</td>\n",
       "      <td>0.505702</td>\n",
       "      <td>0.782231</td>\n",
       "      <td>0.475215</td>\n",
       "      <td>0.591243</td>\n",
       "      <td>1</td>\n",
       "      <td>9</td>\n",
       "      <td>KMeans(n_clusters=9, random_state=1)</td>\n",
       "    </tr>\n",
       "    <tr>\n",
       "      <th>64</th>\n",
       "      <td>42</td>\n",
       "      <td>macosko2015</td>\n",
       "      <td>parametric-tsne</td>\n",
       "      <td>64</td>\n",
       "      <td>0.126007</td>\n",
       "      <td>0.725631</td>\n",
       "      <td>0.345641</td>\n",
       "      <td>0.468243</td>\n",
       "      <td>2</td>\n",
       "      <td>14</td>\n",
       "      <td>KMeans(n_clusters=14, random_state=2)</td>\n",
       "    </tr>\n",
       "  </tbody>\n",
       "</table>\n",
       "<p>65 rows × 11 columns</p>\n",
       "</div>"
      ],
      "text/plain": [
       "    index      dataset           class_ dim silhouette homogeneity  \\\n",
       "0       0        mnist              PCA   2    0.37744    0.272552   \n",
       "1      18        mnist              PCA  64  0.0912846    0.472775   \n",
       "2      28        mnist      autoencoder   2   0.529301    0.837299   \n",
       "3      23        mnist      autoencoder  64   0.586339     0.84531   \n",
       "4      29        mnist           direct   2   0.617412    0.841485   \n",
       "..    ...          ...              ...  ..        ...         ...   \n",
       "60     33  macosko2015       umap-learn   2   0.503299     0.78593   \n",
       "61      4  macosko2015       umap-learn  64   0.640607     0.76894   \n",
       "62     21  macosko2015             TSNE   2   0.402322    0.749659   \n",
       "63     16  macosko2015  parametric-tsne   2   0.505702    0.782231   \n",
       "64     42  macosko2015  parametric-tsne  64   0.126007    0.725631   \n",
       "\n",
       "   completeness v_measure init_ n_clusters  \\\n",
       "0       0.39746  0.323363     0          5   \n",
       "1       0.53284  0.501013     3          8   \n",
       "2       0.85496  0.846037     3         10   \n",
       "3      0.896477  0.870142     3          9   \n",
       "4      0.861186  0.851221     4         10   \n",
       "..          ...       ...   ...        ...   \n",
       "60     0.424224  0.551021     3         12   \n",
       "61     0.783878  0.776338     4          6   \n",
       "62     0.389235  0.512415     1         10   \n",
       "63     0.475215  0.591243     1          9   \n",
       "64     0.345641  0.468243     2         14   \n",
       "\n",
       "                                    model  \n",
       "0    KMeans(n_clusters=5, random_state=0)  \n",
       "1                  KMeans(random_state=3)  \n",
       "2   KMeans(n_clusters=10, random_state=3)  \n",
       "3    KMeans(n_clusters=9, random_state=3)  \n",
       "4   KMeans(n_clusters=10, random_state=4)  \n",
       "..                                    ...  \n",
       "60  KMeans(n_clusters=12, random_state=3)  \n",
       "61   KMeans(n_clusters=6, random_state=4)  \n",
       "62  KMeans(n_clusters=10, random_state=1)  \n",
       "63   KMeans(n_clusters=9, random_state=1)  \n",
       "64  KMeans(n_clusters=14, random_state=2)  \n",
       "\n",
       "[65 rows x 11 columns]"
      ]
     },
     "execution_count": 11,
     "metadata": {},
     "output_type": "execute_result"
    }
   ],
   "source": [
    "metrics_max_df"
   ]
  },
  {
   "cell_type": "code",
   "execution_count": 22,
   "metadata": {
    "ExecuteTime": {
     "end_time": "2020-07-24T16:31:45.440674Z",
     "start_time": "2020-07-24T16:31:45.437181Z"
    }
   },
   "outputs": [],
   "source": [
    "from tfumap.paths import FIGURE_DIR, save_fig"
   ]
  },
  {
   "cell_type": "code",
   "execution_count": 24,
   "metadata": {
    "ExecuteTime": {
     "end_time": "2020-07-24T16:33:58.696751Z",
     "start_time": "2020-07-24T16:33:57.788778Z"
    }
   },
   "outputs": [
    {
     "data": {
      "image/png": "[encoded data removed]",
      "text/plain": [
       "<Figure size 692x144 with 2 Axes>"
      ]
     },
     "metadata": {
      "needs_background": "light"
     },
     "output_type": "display_data"
    }
   ],
   "source": [
    "fg = sns.catplot(\n",
    "    x=\"dataset\",\n",
    "    y=\"v_measure\",\n",
    "    hue=\"class_\",\n",
    "    hue_order=[\"TSNE\", \"parametric-tsne\", \"umap-learn\",  \"network\", \"autoencoder\", \"PCA\"],\n",
    "    order = ['mnist', 'fmnist', 'macosko2015', 'cassins_dtw', 'cifar10'],\n",
    "    col=\"dim\",\n",
    "    height=2, \n",
    "    aspect=2.0,\n",
    "    data=metrics_max_df,\n",
    "    kind=\"bar\",\n",
    "    palette=palette,\n",
    "    #legend=False\n",
    ")\n",
    "(fg.despine(bottom=True)\n",
    " .set_xticklabels(['MNIST', 'FMNIST', 'Retina', 'Cassin\\'s', 'CIFAR10'])\n",
    " .set_axis_labels(\"\", \"NMI\")\n",
    ")\n",
    "ax = fg.axes[0][0]\n",
    "ax.tick_params(axis=u'both', which=u'both',length=0)\n",
    "fg._legend._legend_title_box._text.set_text(\"\")\n",
    "#fg._legend.texts[2].set_text(\"P. UMAP\")\n",
    "#fg._legend.texts[3].set_text(\"UMAP AE\")\n",
    "ax.set_title('2 Dimensions')\n",
    "if len(fg.axes[0])>1:\n",
    "    ax = fg.axes[0][1]\n",
    "    ax.tick_params(axis=u'both', which=u'both',length=0)\n",
    "    ax.set_title('64 Dimensions')\n",
    "\n",
    "\n",
    "fg._legend.texts[np.where((np.array([i._text for i in fg._legend.texts]) == 'umap-learn'))[0][0]].set_text('UMAP-learn')\n",
    "fg._legend.texts[np.where((np.array([i._text for i in fg._legend.texts]) == 'network'))[0][0]].set_text('P. UMAP')\n",
    "fg._legend.texts[np.where((np.array([i._text for i in fg._legend.texts]) == 'autoencoder'))[0][0]].set_text('UMAP AE')\n",
    "fg._legend.texts[np.where((np.array([i._text for i in fg._legend.texts]) == 'parametric-tsne'))[0][0]].set_text('P. TSNE')\n",
    "\n",
    "save_fig(FIGURE_DIR/'NMI', save_pdf=True, dpi=300)"
   ]
  },
  {
   "cell_type": "code",
   "execution_count": null,
   "metadata": {},
   "outputs": [],
   "source": []
  },
  {
   "cell_type": "markdown",
   "metadata": {},
   "source": [
    "#### plot on the basis of best score"
   ]
  },
  {
   "cell_type": "code",
   "execution_count": 13,
   "metadata": {
    "ExecuteTime": {
     "end_time": "2020-07-24T16:29:29.402772Z",
     "start_time": "2020-07-24T16:29:29.336777Z"
    }
   },
   "outputs": [],
   "source": [
    "### get the best silhouette score for each dataset, class_, dim_\n",
    "metrics_df_max_iter = []\n",
    "for dataset in metrics_df.dataset.unique():\n",
    "    for class_ in metrics_df.class_.unique():\n",
    "        for dim in metrics_df.dim.unique():\n",
    "            subset_df = metrics_df[\n",
    "                (dataset == metrics_df.dataset.values) &\n",
    "                (class_ == metrics_df.class_.values) &\n",
    "                (dim == metrics_df.dim.values) \n",
    "            ]\n",
    "            if len(subset_df) > 0:\n",
    "                #print(np.argmax(subset_df.silhouette))\n",
    "                metrics_df_max_iter.append(subset_df.iloc[np.argmax(subset_df.v_measure)])"
   ]
  },
  {
   "cell_type": "code",
   "execution_count": 14,
   "metadata": {
    "ExecuteTime": {
     "end_time": "2020-07-24T16:29:29.418215Z",
     "start_time": "2020-07-24T16:29:29.403838Z"
    }
   },
   "outputs": [
    {
     "data": {
      "text/html": [
       "<div>\n",
       "<style scoped>\n",
       "    .dataframe tbody tr th:only-of-type {\n",
       "        vertical-align: middle;\n",
       "    }\n",
       "\n",
       "    .dataframe tbody tr th {\n",
       "        vertical-align: top;\n",
       "    }\n",
       "\n",
       "    .dataframe thead th {\n",
       "        text-align: right;\n",
       "    }\n",
       "</style>\n",
       "<table border=\"1\" class=\"dataframe\">\n",
       "  <thead>\n",
       "    <tr style=\"text-align: right;\">\n",
       "      <th></th>\n",
       "      <th>index</th>\n",
       "      <th>dataset</th>\n",
       "      <th>class_</th>\n",
       "      <th>dim</th>\n",
       "      <th>silhouette</th>\n",
       "      <th>homogeneity</th>\n",
       "      <th>completeness</th>\n",
       "      <th>v_measure</th>\n",
       "      <th>init_</th>\n",
       "      <th>n_clusters</th>\n",
       "      <th>model</th>\n",
       "    </tr>\n",
       "  </thead>\n",
       "  <tbody>\n",
       "    <tr>\n",
       "      <th>0</th>\n",
       "      <td>16</td>\n",
       "      <td>mnist</td>\n",
       "      <td>PCA</td>\n",
       "      <td>2</td>\n",
       "      <td>0.363991</td>\n",
       "      <td>0.347121</td>\n",
       "      <td>0.39101</td>\n",
       "      <td>0.367761</td>\n",
       "      <td>1</td>\n",
       "      <td>8</td>\n",
       "      <td>KMeans(random_state=1)</td>\n",
       "    </tr>\n",
       "    <tr>\n",
       "      <th>1</th>\n",
       "      <td>49</td>\n",
       "      <td>mnist</td>\n",
       "      <td>PCA</td>\n",
       "      <td>64</td>\n",
       "      <td>0.0818908</td>\n",
       "      <td>0.554349</td>\n",
       "      <td>0.488848</td>\n",
       "      <td>0.519542</td>\n",
       "      <td>4</td>\n",
       "      <td>14</td>\n",
       "      <td>KMeans(n_clusters=14, random_state=4)</td>\n",
       "    </tr>\n",
       "    <tr>\n",
       "      <th>2</th>\n",
       "      <td>22</td>\n",
       "      <td>mnist</td>\n",
       "      <td>autoencoder</td>\n",
       "      <td>2</td>\n",
       "      <td>0.527726</td>\n",
       "      <td>0.835229</td>\n",
       "      <td>0.883852</td>\n",
       "      <td>0.858853</td>\n",
       "      <td>2</td>\n",
       "      <td>9</td>\n",
       "      <td>KMeans(n_clusters=9, random_state=2)</td>\n",
       "    </tr>\n",
       "  </tbody>\n",
       "</table>\n",
       "</div>"
      ],
      "text/plain": [
       "   index dataset       class_ dim silhouette homogeneity completeness  \\\n",
       "0     16   mnist          PCA   2   0.363991    0.347121      0.39101   \n",
       "1     49   mnist          PCA  64  0.0818908    0.554349     0.488848   \n",
       "2     22   mnist  autoencoder   2   0.527726    0.835229     0.883852   \n",
       "\n",
       "  v_measure init_ n_clusters                                  model  \n",
       "0  0.367761     1          8                 KMeans(random_state=1)  \n",
       "1  0.519542     4         14  KMeans(n_clusters=14, random_state=4)  \n",
       "2  0.858853     2          9   KMeans(n_clusters=9, random_state=2)  "
      ]
     },
     "execution_count": 14,
     "metadata": {},
     "output_type": "execute_result"
    }
   ],
   "source": [
    "metrics_max_df = pd.concat(metrics_df_max_iter, axis=1).T.reset_index()\n",
    "metrics_max_df[:3]"
   ]
  },
  {
   "cell_type": "code",
   "execution_count": 15,
   "metadata": {
    "ExecuteTime": {
     "end_time": "2020-07-24T16:29:29.442466Z",
     "start_time": "2020-07-24T16:29:29.419145Z"
    }
   },
   "outputs": [
    {
     "data": {
      "text/html": [
       "<div>\n",
       "<style scoped>\n",
       "    .dataframe tbody tr th:only-of-type {\n",
       "        vertical-align: middle;\n",
       "    }\n",
       "\n",
       "    .dataframe tbody tr th {\n",
       "        vertical-align: top;\n",
       "    }\n",
       "\n",
       "    .dataframe thead th {\n",
       "        text-align: right;\n",
       "    }\n",
       "</style>\n",
       "<table border=\"1\" class=\"dataframe\">\n",
       "  <thead>\n",
       "    <tr style=\"text-align: right;\">\n",
       "      <th></th>\n",
       "      <th>index</th>\n",
       "      <th>dataset</th>\n",
       "      <th>class_</th>\n",
       "      <th>dim</th>\n",
       "      <th>silhouette</th>\n",
       "      <th>homogeneity</th>\n",
       "      <th>completeness</th>\n",
       "      <th>v_measure</th>\n",
       "      <th>init_</th>\n",
       "      <th>n_clusters</th>\n",
       "      <th>model</th>\n",
       "    </tr>\n",
       "  </thead>\n",
       "  <tbody>\n",
       "    <tr>\n",
       "      <th>0</th>\n",
       "      <td>16</td>\n",
       "      <td>mnist</td>\n",
       "      <td>PCA</td>\n",
       "      <td>2</td>\n",
       "      <td>0.363991</td>\n",
       "      <td>0.347121</td>\n",
       "      <td>0.39101</td>\n",
       "      <td>0.367761</td>\n",
       "      <td>1</td>\n",
       "      <td>8</td>\n",
       "      <td>KMeans(random_state=1)</td>\n",
       "    </tr>\n",
       "    <tr>\n",
       "      <th>1</th>\n",
       "      <td>49</td>\n",
       "      <td>mnist</td>\n",
       "      <td>PCA</td>\n",
       "      <td>64</td>\n",
       "      <td>0.0818908</td>\n",
       "      <td>0.554349</td>\n",
       "      <td>0.488848</td>\n",
       "      <td>0.519542</td>\n",
       "      <td>4</td>\n",
       "      <td>14</td>\n",
       "      <td>KMeans(n_clusters=14, random_state=4)</td>\n",
       "    </tr>\n",
       "    <tr>\n",
       "      <th>2</th>\n",
       "      <td>22</td>\n",
       "      <td>mnist</td>\n",
       "      <td>autoencoder</td>\n",
       "      <td>2</td>\n",
       "      <td>0.527726</td>\n",
       "      <td>0.835229</td>\n",
       "      <td>0.883852</td>\n",
       "      <td>0.858853</td>\n",
       "      <td>2</td>\n",
       "      <td>9</td>\n",
       "      <td>KMeans(n_clusters=9, random_state=2)</td>\n",
       "    </tr>\n",
       "    <tr>\n",
       "      <th>3</th>\n",
       "      <td>23</td>\n",
       "      <td>mnist</td>\n",
       "      <td>autoencoder</td>\n",
       "      <td>64</td>\n",
       "      <td>0.586339</td>\n",
       "      <td>0.84531</td>\n",
       "      <td>0.896477</td>\n",
       "      <td>0.870142</td>\n",
       "      <td>3</td>\n",
       "      <td>9</td>\n",
       "      <td>KMeans(n_clusters=9, random_state=3)</td>\n",
       "    </tr>\n",
       "    <tr>\n",
       "      <th>4</th>\n",
       "      <td>23</td>\n",
       "      <td>mnist</td>\n",
       "      <td>direct</td>\n",
       "      <td>2</td>\n",
       "      <td>0.615803</td>\n",
       "      <td>0.841399</td>\n",
       "      <td>0.893229</td>\n",
       "      <td>0.86654</td>\n",
       "      <td>3</td>\n",
       "      <td>9</td>\n",
       "      <td>KMeans(n_clusters=9, random_state=3)</td>\n",
       "    </tr>\n",
       "    <tr>\n",
       "      <th>...</th>\n",
       "      <td>...</td>\n",
       "      <td>...</td>\n",
       "      <td>...</td>\n",
       "      <td>...</td>\n",
       "      <td>...</td>\n",
       "      <td>...</td>\n",
       "      <td>...</td>\n",
       "      <td>...</td>\n",
       "      <td>...</td>\n",
       "      <td>...</td>\n",
       "      <td>...</td>\n",
       "    </tr>\n",
       "    <tr>\n",
       "      <th>60</th>\n",
       "      <td>8</td>\n",
       "      <td>macosko2015</td>\n",
       "      <td>umap-learn</td>\n",
       "      <td>2</td>\n",
       "      <td>0.471734</td>\n",
       "      <td>0.733727</td>\n",
       "      <td>0.477346</td>\n",
       "      <td>0.578399</td>\n",
       "      <td>3</td>\n",
       "      <td>7</td>\n",
       "      <td>KMeans(n_clusters=7, random_state=3)</td>\n",
       "    </tr>\n",
       "    <tr>\n",
       "      <th>61</th>\n",
       "      <td>3</td>\n",
       "      <td>macosko2015</td>\n",
       "      <td>umap-learn</td>\n",
       "      <td>64</td>\n",
       "      <td>0.640607</td>\n",
       "      <td>0.76894</td>\n",
       "      <td>0.783878</td>\n",
       "      <td>0.776338</td>\n",
       "      <td>3</td>\n",
       "      <td>6</td>\n",
       "      <td>KMeans(n_clusters=6, random_state=3)</td>\n",
       "    </tr>\n",
       "    <tr>\n",
       "      <th>62</th>\n",
       "      <td>23</td>\n",
       "      <td>macosko2015</td>\n",
       "      <td>TSNE</td>\n",
       "      <td>2</td>\n",
       "      <td>0.402256</td>\n",
       "      <td>0.750405</td>\n",
       "      <td>0.389653</td>\n",
       "      <td>0.512952</td>\n",
       "      <td>3</td>\n",
       "      <td>10</td>\n",
       "      <td>KMeans(n_clusters=10, random_state=3)</td>\n",
       "    </tr>\n",
       "    <tr>\n",
       "      <th>63</th>\n",
       "      <td>12</td>\n",
       "      <td>macosko2015</td>\n",
       "      <td>parametric-tsne</td>\n",
       "      <td>2</td>\n",
       "      <td>0.486971</td>\n",
       "      <td>0.799961</td>\n",
       "      <td>0.510438</td>\n",
       "      <td>0.623215</td>\n",
       "      <td>2</td>\n",
       "      <td>8</td>\n",
       "      <td>KMeans(random_state=2)</td>\n",
       "    </tr>\n",
       "    <tr>\n",
       "      <th>64</th>\n",
       "      <td>29</td>\n",
       "      <td>macosko2015</td>\n",
       "      <td>parametric-tsne</td>\n",
       "      <td>64</td>\n",
       "      <td>0.123358</td>\n",
       "      <td>0.702315</td>\n",
       "      <td>0.354324</td>\n",
       "      <td>0.471016</td>\n",
       "      <td>4</td>\n",
       "      <td>11</td>\n",
       "      <td>KMeans(n_clusters=11, random_state=4)</td>\n",
       "    </tr>\n",
       "  </tbody>\n",
       "</table>\n",
       "<p>65 rows × 11 columns</p>\n",
       "</div>"
      ],
      "text/plain": [
       "    index      dataset           class_ dim silhouette homogeneity  \\\n",
       "0      16        mnist              PCA   2   0.363991    0.347121   \n",
       "1      49        mnist              PCA  64  0.0818908    0.554349   \n",
       "2      22        mnist      autoencoder   2   0.527726    0.835229   \n",
       "3      23        mnist      autoencoder  64   0.586339     0.84531   \n",
       "4      23        mnist           direct   2   0.615803    0.841399   \n",
       "..    ...          ...              ...  ..        ...         ...   \n",
       "60      8  macosko2015       umap-learn   2   0.471734    0.733727   \n",
       "61      3  macosko2015       umap-learn  64   0.640607     0.76894   \n",
       "62     23  macosko2015             TSNE   2   0.402256    0.750405   \n",
       "63     12  macosko2015  parametric-tsne   2   0.486971    0.799961   \n",
       "64     29  macosko2015  parametric-tsne  64   0.123358    0.702315   \n",
       "\n",
       "   completeness v_measure init_ n_clusters  \\\n",
       "0       0.39101  0.367761     1          8   \n",
       "1      0.488848  0.519542     4         14   \n",
       "2      0.883852  0.858853     2          9   \n",
       "3      0.896477  0.870142     3          9   \n",
       "4      0.893229   0.86654     3          9   \n",
       "..          ...       ...   ...        ...   \n",
       "60     0.477346  0.578399     3          7   \n",
       "61     0.783878  0.776338     3          6   \n",
       "62     0.389653  0.512952     3         10   \n",
       "63     0.510438  0.623215     2          8   \n",
       "64     0.354324  0.471016     4         11   \n",
       "\n",
       "                                    model  \n",
       "0                  KMeans(random_state=1)  \n",
       "1   KMeans(n_clusters=14, random_state=4)  \n",
       "2    KMeans(n_clusters=9, random_state=2)  \n",
       "3    KMeans(n_clusters=9, random_state=3)  \n",
       "4    KMeans(n_clusters=9, random_state=3)  \n",
       "..                                    ...  \n",
       "60   KMeans(n_clusters=7, random_state=3)  \n",
       "61   KMeans(n_clusters=6, random_state=3)  \n",
       "62  KMeans(n_clusters=10, random_state=3)  \n",
       "63                 KMeans(random_state=2)  \n",
       "64  KMeans(n_clusters=11, random_state=4)  \n",
       "\n",
       "[65 rows x 11 columns]"
      ]
     },
     "execution_count": 15,
     "metadata": {},
     "output_type": "execute_result"
    }
   ],
   "source": [
    "metrics_max_df"
   ]
  },
  {
   "cell_type": "code",
   "execution_count": 16,
   "metadata": {
    "ExecuteTime": {
     "end_time": "2020-07-24T16:29:29.941269Z",
     "start_time": "2020-07-24T16:29:29.444032Z"
    }
   },
   "outputs": [
    {
     "data": {
      "image/png": "[encoded data removed]",
      "text/plain": [
       "<Figure size 1124x288 with 2 Axes>"
      ]
     },
     "metadata": {
      "needs_background": "light"
     },
     "output_type": "display_data"
    }
   ],
   "source": [
    "fg = sns.catplot(\n",
    "    x=\"dataset\",\n",
    "    y=\"v_measure\",\n",
    "    hue=\"class_\",\n",
    "    hue_order=[\"TSNE\", \"parametric-tsne\", \"umap-learn\",  \"network\", \"autoencoder\", \"PCA\"],\n",
    "    order = ['mnist', 'fmnist', 'macosko2015', 'cassins_dtw', 'cifar10'],\n",
    "    col=\"dim\",\n",
    "    height=4, \n",
    "    aspect=1.75,\n",
    "    data=metrics_max_df,\n",
    "    kind=\"bar\",\n",
    "    palette=palette,\n",
    "    #legend=False\n",
    ")\n",
    "(fg.despine(bottom=True)\n",
    " .set_xticklabels(['MNIST', 'FMNIST', 'Retina', 'Cassin\\'s', 'CIFAR10'])\n",
    " .set_axis_labels(\"\", \"V-measure\")\n",
    ")\n",
    "ax = fg.axes[0][0]\n",
    "ax.tick_params(axis=u'both', which=u'both',length=0)\n",
    "fg._legend._legend_title_box._text.set_text(\"\")\n",
    "#fg._legend.texts[2].set_text(\"P. UMAP\")\n",
    "#fg._legend.texts[3].set_text(\"UMAP AE\")\n",
    "ax.set_title('2 Dimensions')\n",
    "if len(fg.axes[0])>1:\n",
    "    ax = fg.axes[0][1]\n",
    "    ax.tick_params(axis=u'both', which=u'both',length=0)\n",
    "    ax.set_title('64 Dimensions')\n",
    "\n",
    "\n",
    "fg._legend.texts[np.where((np.array([i._text for i in fg._legend.texts]) == 'umap-learn'))[0][0]].set_text('UMAP-learn')\n",
    "fg._legend.texts[np.where((np.array([i._text for i in fg._legend.texts]) == 'network'))[0][0]].set_text('P. UMAP')\n",
    "fg._legend.texts[np.where((np.array([i._text for i in fg._legend.texts]) == 'autoencoder'))[0][0]].set_text('UMAP AE')\n",
    "fg._legend.texts[np.where((np.array([i._text for i in fg._legend.texts]) == 'parametric-tsne'))[0][0]].set_text('P. TSNE')\n",
    "\n",
    "#save_fig(FIGURE_DIR/'silhouette-test', save_pdf=True, dpi=300)"
   ]
  },
  {
   "cell_type": "code",
   "execution_count": null,
   "metadata": {},
   "outputs": [],
   "source": []
  },
  {
   "cell_type": "code",
   "execution_count": null,
   "metadata": {},
   "outputs": [],
   "source": []
  }
 ],
 "metadata": {
  "kernelspec": {
   "display_name": "Python 3",
   "language": "python",
   "name": "python3"
  },
  "language_info": {
   "codemirror_mode": {
    "name": "ipython",
    "version": 3
   },
   "file_extension": ".py",
   "mimetype": "text/x-python",
   "name": "python",
   "nbconvert_exporter": "python",
   "pygments_lexer": "ipython3",
   "version": "3.6.7"
  }
 },
 "nbformat": 4,
 "nbformat_minor": 2
}
