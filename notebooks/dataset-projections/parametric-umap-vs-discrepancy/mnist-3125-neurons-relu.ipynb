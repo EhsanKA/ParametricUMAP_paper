{
 "cells": [
  {
   "cell_type": "markdown",
   "metadata": {},
   "source": [
    "### compare direct embeddings to discrepancy embeddings\n",
    "- first compute embeddings directly\n",
    "- then compute embeddings with non-parametric umap\n",
    "- then train a neural network to predict the non-parametric embeddings from input\n",
    "- compute the loss for each embedding"
   ]
  },
  {
   "cell_type": "code",
   "execution_count": 1,
   "metadata": {
    "ExecuteTime": {
     "end_time": "2021-01-14T22:22:36.095823Z",
     "start_time": "2021-01-14T22:22:36.085319Z"
    }
   },
   "outputs": [],
   "source": [
    "# reload packages\n",
    "%load_ext autoreload\n",
    "%autoreload 2"
   ]
  },
  {
   "cell_type": "markdown",
   "metadata": {},
   "source": [
    "### Choose GPU (this may not be needed on your computer)"
   ]
  },
  {
   "cell_type": "code",
   "execution_count": 2,
   "metadata": {
    "ExecuteTime": {
     "end_time": "2021-01-14T22:22:36.112320Z",
     "start_time": "2021-01-14T22:22:36.097056Z"
    }
   },
   "outputs": [
    {
     "name": "stdout",
     "output_type": "stream",
     "text": [
      "env: CUDA_DEVICE_ORDER=PCI_BUS_ID\n",
      "env: CUDA_VISIBLE_DEVICES=0\n"
     ]
    }
   ],
   "source": [
    "%env CUDA_DEVICE_ORDER=PCI_BUS_ID\n",
    "%env CUDA_VISIBLE_DEVICES=0"
   ]
  },
  {
   "cell_type": "code",
   "execution_count": 3,
   "metadata": {
    "ExecuteTime": {
     "end_time": "2021-01-14T22:22:37.463637Z",
     "start_time": "2021-01-14T22:22:36.114914Z"
    }
   },
   "outputs": [],
   "source": [
    "import tensorflow as tf\n",
    "gpus = tf.config.experimental.list_physical_devices('GPU')\n",
    "for gpu in gpus:\n",
    "  tf.config.experimental.set_memory_growth(gpu, True)"
   ]
  },
  {
   "cell_type": "markdown",
   "metadata": {},
   "source": [
    "### load packages"
   ]
  },
  {
   "cell_type": "code",
   "execution_count": 4,
   "metadata": {
    "ExecuteTime": {
     "end_time": "2021-01-14T22:22:46.853864Z",
     "start_time": "2021-01-14T22:22:37.465778Z"
    }
   },
   "outputs": [
    {
     "name": "stderr",
     "output_type": "stream",
     "text": [
      "/mnt/cube/tsainbur/Projects/github_repos/umap_tf_networks/tfumap/umap.py:7: TqdmExperimentalWarning: Using `tqdm.autonotebook.tqdm` in notebook mode. Use `tqdm.tqdm` instead to force console mode (e.g. in jupyter console)\n",
      "  from tqdm.autonotebook import tqdm\n"
     ]
    }
   ],
   "source": [
    "from tfumap.umap import tfUMAP"
   ]
  },
  {
   "cell_type": "code",
   "execution_count": 5,
   "metadata": {
    "ExecuteTime": {
     "end_time": "2021-01-14T22:22:47.042954Z",
     "start_time": "2021-01-14T22:22:46.855633Z"
    }
   },
   "outputs": [],
   "source": [
    "import tensorflow as tf\n",
    "import numpy as np\n",
    "import matplotlib.pyplot as plt\n",
    "from tqdm.autonotebook import tqdm\n",
    "import umap\n",
    "import pandas as pd"
   ]
  },
  {
   "cell_type": "code",
   "execution_count": 6,
   "metadata": {
    "ExecuteTime": {
     "end_time": "2021-01-14T22:22:47.075758Z",
     "start_time": "2021-01-14T22:22:47.045520Z"
    }
   },
   "outputs": [
    {
     "name": "stdout",
     "output_type": "stream",
     "text": [
      "PhysicalDevice(name='/physical_device:CPU:0', device_type='CPU')\n",
      "PhysicalDevice(name='/physical_device:GPU:0', device_type='GPU')\n"
     ]
    }
   ],
   "source": [
    "import tensorflow as tf\n",
    "visible_devices = tf.config.get_visible_devices()\n",
    "for devices in visible_devices:\n",
    "  print(devices)"
   ]
  },
  {
   "cell_type": "markdown",
   "metadata": {},
   "source": [
    "### Load dataset"
   ]
  },
  {
   "cell_type": "code",
   "execution_count": 7,
   "metadata": {
    "ExecuteTime": {
     "end_time": "2021-01-14T22:22:47.098408Z",
     "start_time": "2021-01-14T22:22:47.077343Z"
    }
   },
   "outputs": [],
   "source": [
    "from tensorflow.keras.datasets import mnist"
   ]
  },
  {
   "cell_type": "code",
   "execution_count": 8,
   "metadata": {
    "ExecuteTime": {
     "end_time": "2021-01-14T22:22:47.484643Z",
     "start_time": "2021-01-14T22:22:47.099663Z"
    }
   },
   "outputs": [
    {
     "name": "stdout",
     "output_type": "stream",
     "text": [
      "50000 10000 10000\n"
     ]
    }
   ],
   "source": [
    "# load dataset\n",
    "(train_images, Y_train), (test_images, Y_test) = mnist.load_data()\n",
    "X_train = (train_images/255.).astype('float32')\n",
    "X_test = (test_images/255.).astype('float32')\n",
    "X_train = X_train.reshape((len(X_train), np.product(np.shape(X_train)[1:])))\n",
    "X_test = X_test.reshape((len(X_test), np.product(np.shape(X_test)[1:])))\n",
    "\n",
    "# subset a validation set\n",
    "n_valid = 10000\n",
    "X_valid = X_train[-n_valid:]\n",
    "Y_valid = Y_train[-n_valid:]\n",
    "X_train = X_train[:-n_valid]\n",
    "Y_train = Y_train[:-n_valid]\n",
    "\n",
    "# flatten X\n",
    "X_train_flat = X_train.reshape((len(X_train), np.product(np.shape(X_train)[1:])))\n",
    "X_test_flat = X_test.reshape((len(X_test), np.product(np.shape(X_test)[1:])))\n",
    "X_valid_flat= X_valid.reshape((len(X_valid), np.product(np.shape(X_valid)[1:])))\n",
    "print(len(X_train), len(X_valid), len(X_test))"
   ]
  },
  {
   "cell_type": "markdown",
   "metadata": {},
   "source": [
    "### define networks"
   ]
  },
  {
   "cell_type": "code",
   "execution_count": 9,
   "metadata": {
    "ExecuteTime": {
     "end_time": "2021-01-14T22:22:47.516064Z",
     "start_time": "2021-01-14T22:22:47.486434Z"
    }
   },
   "outputs": [],
   "source": [
    "dims = (28*28,1)\n",
    "n_components = 2\n",
    "n_neurons = 3125\n",
    "activation = \"relu\""
   ]
  },
  {
   "cell_type": "code",
   "execution_count": 10,
   "metadata": {
    "ExecuteTime": {
     "end_time": "2021-01-14T22:22:48.037014Z",
     "start_time": "2021-01-14T22:22:47.517310Z"
    }
   },
   "outputs": [],
   "source": [
    "encoder = tf.keras.Sequential([\n",
    "    tf.keras.layers.InputLayer(input_shape=dims),\n",
    "    tf.keras.layers.Flatten(),\n",
    "    tf.keras.layers.Dense(units=n_neurons, activation=activation),\n",
    "    tf.keras.layers.Dense(units=n_components),\n",
    "])"
   ]
  },
  {
   "cell_type": "markdown",
   "metadata": {},
   "source": [
    "### Create model and train"
   ]
  },
  {
   "cell_type": "code",
   "execution_count": 11,
   "metadata": {
    "ExecuteTime": {
     "end_time": "2021-01-14T22:22:48.068539Z",
     "start_time": "2021-01-14T22:22:48.038512Z"
    }
   },
   "outputs": [],
   "source": [
    "embedder = tfUMAP(\n",
    "    direct_embedding=False,\n",
    "    verbose=True,\n",
    "    negative_sample_rate=5,\n",
    "    training_epochs=5,\n",
    "    encoder=encoder,\n",
    "    dims = dims,\n",
    ")"
   ]
  },
  {
   "cell_type": "code",
   "execution_count": 12,
   "metadata": {
    "ExecuteTime": {
     "end_time": "2021-01-14T22:28:31.600114Z",
     "start_time": "2021-01-14T22:22:48.069876Z"
    },
    "scrolled": false
   },
   "outputs": [
    {
     "name": "stdout",
     "output_type": "stream",
     "text": [
      "tfUMAP(dims=(784, 1),\n",
      "       encoder=<tensorflow.python.keras.engine.sequential.Sequential object at 0x7fa722e44510>,\n",
      "       negative_sample_rate=5,\n",
      "       optimizer=<tensorflow.python.keras.optimizer_v2.adam.Adam object at 0x7fa71ba9fb90>,\n",
      "       tensorboard_logdir='/tmp/tensorboard/20210114-142248',\n",
      "       training_epochs=5)\n",
      "Construct fuzzy simplicial set\n",
      "Thu Jan 14 14:22:48 2021 Finding Nearest Neighbors\n",
      "Thu Jan 14 14:22:48 2021 Building RP forest with 16 trees\n",
      "Thu Jan 14 14:22:49 2021 NN descent for 16 iterations\n",
      "\t 1  /  16\n",
      "\t 2  /  16\n",
      "\t 3  /  16\n",
      "\t 4  /  16\n",
      "\tStopping threshold met -- exiting after 4 iterations\n",
      "Thu Jan 14 14:23:08 2021 Finished Nearest Neighbor Search\n",
      "Thu Jan 14 14:23:15 2021 Embedding with TensorFlow\n"
     ]
    },
    {
     "data": {
      "application/vnd.jupyter.widget-view+json": {
       "model_id": "d0094934c58c4c61a558e6da22941595",
       "version_major": 2,
       "version_minor": 0
      },
      "text/plain": [
       "epoch:   0%|          | 0/5 [00:00<?, ?it/s]"
      ]
     },
     "metadata": {},
     "output_type": "display_data"
    },
    {
     "data": {
      "application/vnd.jupyter.widget-view+json": {
       "model_id": "",
       "version_major": 2,
       "version_minor": 0
      },
      "text/plain": [
       "batch:   0%|          | 0/7710 [00:00<?, ?it/s]"
      ]
     },
     "metadata": {},
     "output_type": "display_data"
    },
    {
     "data": {
      "application/vnd.jupyter.widget-view+json": {
       "model_id": "",
       "version_major": 2,
       "version_minor": 0
      },
      "text/plain": [
       "batch:   0%|          | 0/7710 [00:00<?, ?it/s]"
      ]
     },
     "metadata": {},
     "output_type": "display_data"
    },
    {
     "data": {
      "application/vnd.jupyter.widget-view+json": {
       "model_id": "",
       "version_major": 2,
       "version_minor": 0
      },
      "text/plain": [
       "batch:   0%|          | 0/7710 [00:00<?, ?it/s]"
      ]
     },
     "metadata": {},
     "output_type": "display_data"
    },
    {
     "data": {
      "application/vnd.jupyter.widget-view+json": {
       "model_id": "",
       "version_major": 2,
       "version_minor": 0
      },
      "text/plain": [
       "batch:   0%|          | 0/7710 [00:00<?, ?it/s]"
      ]
     },
     "metadata": {},
     "output_type": "display_data"
    },
    {
     "data": {
      "application/vnd.jupyter.widget-view+json": {
       "model_id": "",
       "version_major": 2,
       "version_minor": 0
      },
      "text/plain": [
       "batch:   0%|          | 0/7710 [00:00<?, ?it/s]"
      ]
     },
     "metadata": {},
     "output_type": "display_data"
    },
    {
     "name": "stdout",
     "output_type": "stream",
     "text": [
      "Thu Jan 14 14:28:31 2021 Finished embedding\n"
     ]
    }
   ],
   "source": [
    "z = embedder.fit_transform(X_train_flat)"
   ]
  },
  {
   "cell_type": "markdown",
   "metadata": {},
   "source": [
    "### Plot model output"
   ]
  },
  {
   "cell_type": "code",
   "execution_count": 13,
   "metadata": {
    "ExecuteTime": {
     "end_time": "2021-01-14T22:28:32.229633Z",
     "start_time": "2021-01-14T22:28:31.602490Z"
    }
   },
   "outputs": [
    {
     "data": {
      "image/png": "[encoded data removed]",
      "text/plain": [
       "<Figure size 576x576 with 2 Axes>"
      ]
     },
     "metadata": {
      "needs_background": "light"
     },
     "output_type": "display_data"
    }
   ],
   "source": [
    "fig, ax = plt.subplots( figsize=(8, 8))\n",
    "sc = ax.scatter(\n",
    "    z[:, 0],\n",
    "    z[:, 1],\n",
    "    c=Y_train.astype(int)[:len(z)],\n",
    "    cmap=\"tab10\",\n",
    "    s=0.1,\n",
    "    alpha=0.5,\n",
    "    rasterized=True,\n",
    ")\n",
    "ax.axis('equal')\n",
    "ax.set_title(\"UMAP in Tensorflow embedding\", fontsize=20)\n",
    "plt.colorbar(sc, ax=ax);"
   ]
  },
  {
   "cell_type": "markdown",
   "metadata": {},
   "source": [
    "### View loss"
   ]
  },
  {
   "cell_type": "code",
   "execution_count": 14,
   "metadata": {
    "ExecuteTime": {
     "end_time": "2021-01-14T22:28:32.287280Z",
     "start_time": "2021-01-14T22:28:32.231483Z"
    }
   },
   "outputs": [],
   "source": [
    "from tfumap.umap import retrieve_tensors\n",
    "import seaborn as sns"
   ]
  },
  {
   "cell_type": "code",
   "execution_count": 15,
   "metadata": {
    "ExecuteTime": {
     "end_time": "2021-01-14T22:28:33.433114Z",
     "start_time": "2021-01-14T22:28:32.288688Z"
    }
   },
   "outputs": [
    {
     "data": {
      "text/html": [
       "<div>\n",
       "<style scoped>\n",
       "    .dataframe tbody tr th:only-of-type {\n",
       "        vertical-align: middle;\n",
       "    }\n",
       "\n",
       "    .dataframe tbody tr th {\n",
       "        vertical-align: top;\n",
       "    }\n",
       "\n",
       "    .dataframe thead th {\n",
       "        text-align: right;\n",
       "    }\n",
       "</style>\n",
       "<table border=\"1\" class=\"dataframe\">\n",
       "  <thead>\n",
       "    <tr style=\"text-align: right;\">\n",
       "      <th></th>\n",
       "      <th>wall_time</th>\n",
       "      <th>step</th>\n",
       "      <th>val</th>\n",
       "      <th>group</th>\n",
       "      <th>variable</th>\n",
       "    </tr>\n",
       "  </thead>\n",
       "  <tbody>\n",
       "    <tr>\n",
       "      <th>0</th>\n",
       "      <td>1.610663e+09</td>\n",
       "      <td>1</td>\n",
       "      <td>2.267066</td>\n",
       "      <td>train</td>\n",
       "      <td>umap_loss</td>\n",
       "    </tr>\n",
       "    <tr>\n",
       "      <th>1</th>\n",
       "      <td>1.610663e+09</td>\n",
       "      <td>2</td>\n",
       "      <td>1.356640</td>\n",
       "      <td>train</td>\n",
       "      <td>umap_loss</td>\n",
       "    </tr>\n",
       "    <tr>\n",
       "      <th>2</th>\n",
       "      <td>1.610663e+09</td>\n",
       "      <td>3</td>\n",
       "      <td>0.995726</td>\n",
       "      <td>train</td>\n",
       "      <td>umap_loss</td>\n",
       "    </tr>\n",
       "  </tbody>\n",
       "</table>\n",
       "</div>"
      ],
      "text/plain": [
       "      wall_time  step       val  group   variable\n",
       "0  1.610663e+09     1  2.267066  train  umap_loss\n",
       "1  1.610663e+09     2  1.356640  train  umap_loss\n",
       "2  1.610663e+09     3  0.995726  train  umap_loss"
      ]
     },
     "execution_count": 15,
     "metadata": {},
     "output_type": "execute_result"
    }
   ],
   "source": [
    "loss_df = retrieve_tensors(embedder.tensorboard_logdir)\n",
    "loss_df[:3]"
   ]
  },
  {
   "cell_type": "code",
   "execution_count": 16,
   "metadata": {
    "ExecuteTime": {
     "end_time": "2021-01-14T22:28:35.705621Z",
     "start_time": "2021-01-14T22:28:33.434614Z"
    }
   },
   "outputs": [
    {
     "data": {
      "image/png": "[encoded data removed]",
      "text/plain": [
       "<Figure size 432x288 with 1 Axes>"
      ]
     },
     "metadata": {
      "needs_background": "light"
     },
     "output_type": "display_data"
    }
   ],
   "source": [
    "ax = sns.lineplot(x=\"step\", y=\"val\", hue=\"group\", data=loss_df[loss_df.variable=='umap_loss'])\n",
    "ax.set_xscale('log')\n",
    "ax.set_yscale('log')"
   ]
  },
  {
   "cell_type": "markdown",
   "metadata": {},
   "source": [
    "### Save output"
   ]
  },
  {
   "cell_type": "code",
   "execution_count": 17,
   "metadata": {
    "ExecuteTime": {
     "end_time": "2021-01-14T22:28:35.744710Z",
     "start_time": "2021-01-14T22:28:35.707137Z"
    }
   },
   "outputs": [],
   "source": [
    "from tfumap.paths import ensure_dir, MODEL_DIR"
   ]
  },
  {
   "cell_type": "code",
   "execution_count": 18,
   "metadata": {
    "ExecuteTime": {
     "end_time": "2021-01-14T22:28:35.771039Z",
     "start_time": "2021-01-14T22:28:35.746040Z"
    }
   },
   "outputs": [],
   "source": [
    "output_dir = MODEL_DIR / 'constrained_projections'/ 'mnist' / 'network' / str(n_neurons)\n",
    "ensure_dir(output_dir)"
   ]
  },
  {
   "cell_type": "code",
   "execution_count": 19,
   "metadata": {
    "ExecuteTime": {
     "end_time": "2021-01-14T22:28:59.933340Z",
     "start_time": "2021-01-14T22:28:35.772067Z"
    }
   },
   "outputs": [
    {
     "name": "stdout",
     "output_type": "stream",
     "text": [
      "Thu Jan 14 14:28:42 2021 Worst tree score: 0.60492000\n",
      "Thu Jan 14 14:28:42 2021 Mean tree score: 0.61418875\n",
      "Thu Jan 14 14:28:42 2021 Best tree score: 0.62352000\n",
      "Thu Jan 14 14:28:45 2021 Forward diversification reduced edges from 750000 to 318035\n",
      "Thu Jan 14 14:28:47 2021 Reverse diversification reduced edges from 318035 to 318035\n",
      "Thu Jan 14 14:28:49 2021 Degree pruning reduced edges from 347388 to 347385\n",
      "Thu Jan 14 14:28:49 2021 Resorting data and graph based on tree order\n",
      "Thu Jan 14 14:28:49 2021 Compressing index by removing unneeded attributes\n",
      "Thu Jan 14 14:28:49 2021 Building and compiling search function\n",
      "Thu Jan 14 14:28:56 2021 Building and compiling search function\n",
      "Pickle of model saved\n",
      "WARNING:tensorflow:From /home/AD/tsainbur/anaconda3/envs/tfumap/lib/python3.7/site-packages/tensorflow/python/ops/resource_variable_ops.py:1817: calling BaseResourceVariable.__init__ (from tensorflow.python.ops.resource_variable_ops) with constraint is deprecated and will be removed in a future version.\n",
      "Instructions for updating:\n",
      "If using Keras pass *_constraint arguments to layers.\n",
      "INFO:tensorflow:Assets written to: /mnt/cube/tsainbur/Projects/github_repos/umap_tf_networks/models/constrained_projections/mnist/network/3125/encoder/assets\n",
      "Encoder Keras model saved\n"
     ]
    }
   ],
   "source": [
    "embedder.save(output_dir)"
   ]
  },
  {
   "cell_type": "code",
   "execution_count": 20,
   "metadata": {
    "ExecuteTime": {
     "end_time": "2021-01-14T22:28:59.972931Z",
     "start_time": "2021-01-14T22:28:59.935166Z"
    }
   },
   "outputs": [],
   "source": [
    "loss_df.to_pickle(output_dir / 'loss_df.pickle')"
   ]
  },
  {
   "cell_type": "code",
   "execution_count": 21,
   "metadata": {
    "ExecuteTime": {
     "end_time": "2021-01-14T22:29:00.005925Z",
     "start_time": "2021-01-14T22:28:59.975050Z"
    }
   },
   "outputs": [],
   "source": [
    "np.save(output_dir / 'z.npy', z)"
   ]
  },
  {
   "cell_type": "markdown",
   "metadata": {},
   "source": [
    "### compute umap loss"
   ]
  },
  {
   "cell_type": "code",
   "execution_count": 22,
   "metadata": {
    "ExecuteTime": {
     "end_time": "2021-01-14T22:29:00.179436Z",
     "start_time": "2021-01-14T22:29:00.007273Z"
    }
   },
   "outputs": [],
   "source": [
    "from tfumap.umap import get_graph_elements\n",
    "graph, epochs_per_sample, head, tail, weight, n_vertices = get_graph_elements(\n",
    "    embedder.graph_, embedder.n_epochs\n",
    ")\n",
    "max_sample_repeats_per_epoch = 25\n",
    "batch_size = 1000\n",
    "def batch_epoch_edges(edges_to, edges_from):\n",
    "        \"\"\" permutes and batches edges for epoch\n",
    "        \"\"\"\n",
    "        # compute the number of batches in one epoch\n",
    "        n_batches = int(len(edges_to) / batch_size)\n",
    "        # permute list of edges\n",
    "        permutation_mask = np.random.permutation(len(edges_to))[\n",
    "            : n_batches * batch_size\n",
    "        ]\n",
    "        to_all = tf.reshape(\n",
    "            tf.gather(edges_to, permutation_mask), (n_batches, batch_size)\n",
    "        )\n",
    "        from_all = tf.reshape(\n",
    "            tf.gather(edges_from, permutation_mask), (n_batches, batch_size)\n",
    "        )\n",
    "        # return a tensorflow dataset of one epoch's worth of batches\n",
    "        return tf.data.Dataset.from_tensor_slices((to_all, from_all))\n",
    "def create_edge_iterator(head, tail, weight):\n",
    "        \"\"\" create an iterator for edges\n",
    "        \"\"\"\n",
    "        # set the maximum number of times each edge should be repeated per epoch\n",
    "        \n",
    "        epochs_per_sample = np.clip(\n",
    "            (weight / np.max(weight)) * max_sample_repeats_per_epoch,\n",
    "            1,\n",
    "            max_sample_repeats_per_epoch,\n",
    "        ).astype(\"int\")\n",
    "\n",
    "        edges_to_exp, edges_from_exp = (\n",
    "            np.array([np.repeat(head, epochs_per_sample.astype(\"int\"))]),\n",
    "            np.array([np.repeat(tail, epochs_per_sample.astype(\"int\"))]),\n",
    "        )\n",
    "        edge_iter = tf.data.Dataset.from_tensor_slices((edges_to_exp, edges_from_exp))\n",
    "        edge_iter = edge_iter.repeat()\n",
    "        edge_iter = edge_iter.map(batch_epoch_edges)\n",
    "        edge_iter = edge_iter.prefetch(buffer_size=10)\n",
    "\n",
    "        return iter(edge_iter), np.shape(edges_to_exp)[1]\n",
    "    \n",
    "from tfumap.umap import convert_distance_to_probability, compute_cross_entropy\n",
    "def compute_umap_loss(z_umap, embedder, batch_to, batch_from):\n",
    "        \"\"\"\n",
    "        compute the cross entropy loss for learning embeddings\n",
    "\n",
    "        Parameters\n",
    "        ----------\n",
    "        batch_to : tf.int or tf.float32\n",
    "            Either X or the index locations of the embeddings for verticies (to)\n",
    "        batch_from : tf.int or tf.float32\n",
    "            Either X or the index locations of the embeddings for verticies (from)\n",
    "\n",
    "        Returns\n",
    "        -------\n",
    "        ce_loss : tf.float\n",
    "            cross entropy loss for UMAP\n",
    "        embedding_to : tf.float\n",
    "            embeddings for verticies (to)\n",
    "        embedding_from : tf.float\n",
    "            embeddings for verticies (from)\n",
    "        \"\"\"\n",
    "\n",
    "        # get the embeddings\n",
    "        embedding_to = tf.gather(z_umap, batch_to)\n",
    "        embedding_from = tf.gather(z_umap, batch_from)\n",
    "\n",
    "        # get negative samples\n",
    "        embedding_neg_to = tf.repeat(embedding_to, embedder.negative_sample_rate, axis=0)\n",
    "        repeat_neg = tf.repeat(embedding_from, embedder.negative_sample_rate, axis=0)\n",
    "        embedding_neg_from = tf.gather(\n",
    "            repeat_neg, tf.random.shuffle(tf.range(tf.shape(repeat_neg)[0]))\n",
    "        )\n",
    "\n",
    "        #  distances between samples\n",
    "        distance_embedding = tf.concat(\n",
    "            [\n",
    "                tf.norm(embedding_to - embedding_from, axis=1),\n",
    "                tf.norm(embedding_neg_to - embedding_neg_from, axis=1),\n",
    "            ],\n",
    "            axis=0,\n",
    "        )\n",
    "\n",
    "        # convert probabilities to distances\n",
    "        probabilities_distance = convert_distance_to_probability(\n",
    "            distance_embedding, embedder._a, embedder._b\n",
    "        )\n",
    "\n",
    "        # treat positive samples as p=1, and negative samples as p=0\n",
    "        probabilities_graph = tf.concat(\n",
    "            [tf.ones(embedding_to.shape[0]), tf.zeros(embedding_neg_to.shape[0])],\n",
    "            axis=0,\n",
    "        )\n",
    "\n",
    "        # cross entropy loss\n",
    "        (attraction_loss, repellant_loss, ce_loss) = compute_cross_entropy(\n",
    "            probabilities_graph,\n",
    "            probabilities_distance,\n",
    "            repulsion_strength=embedder.repulsion_strength,\n",
    "        )\n",
    "\n",
    "        return ce_loss, embedding_to, embedding_from"
   ]
  },
  {
   "cell_type": "code",
   "execution_count": 23,
   "metadata": {
    "ExecuteTime": {
     "end_time": "2021-01-14T22:29:04.153137Z",
     "start_time": "2021-01-14T22:29:00.181317Z"
    }
   },
   "outputs": [],
   "source": [
    "# create iterator for data/edges\n",
    "edge_iter, n_edges_per_epoch = create_edge_iterator(head, tail, weight)"
   ]
  },
  {
   "cell_type": "code",
   "execution_count": 24,
   "metadata": {
    "ExecuteTime": {
     "end_time": "2021-01-14T22:29:04.286264Z",
     "start_time": "2021-01-14T22:29:04.157148Z"
    }
   },
   "outputs": [],
   "source": [
    "edge_epoch = next((iter(edge_iter)))"
   ]
  },
  {
   "cell_type": "code",
   "execution_count": 25,
   "metadata": {
    "ExecuteTime": {
     "end_time": "2021-01-14T22:29:26.609111Z",
     "start_time": "2021-01-14T22:29:04.287744Z"
    }
   },
   "outputs": [
    {
     "data": {
      "application/vnd.jupyter.widget-view+json": {
       "model_id": "a9b3b5c72c08446bb025982cffe8ea96",
       "version_major": 2,
       "version_minor": 0
      },
      "text/plain": [
       "0it [00:00, ?it/s]"
      ]
     },
     "metadata": {},
     "output_type": "display_data"
    }
   ],
   "source": [
    "ce_loss_list = []\n",
    "for batch_to, batch_from in tqdm(edge_epoch):\n",
    "    (ce_loss, _, _) = compute_umap_loss(\n",
    "                        z, embedder, batch_to, batch_from\n",
    "                    )\n",
    "    ce_loss_list.append(np.mean(ce_loss.numpy()))"
   ]
  },
  {
   "cell_type": "code",
   "execution_count": 26,
   "metadata": {
    "ExecuteTime": {
     "end_time": "2021-01-14T22:29:26.652586Z",
     "start_time": "2021-01-14T22:29:26.610649Z"
    }
   },
   "outputs": [
    {
     "data": {
      "text/plain": [
       "0.109481476"
      ]
     },
     "execution_count": 26,
     "metadata": {},
     "output_type": "execute_result"
    }
   ],
   "source": [
    "umap_learn_loss = np.mean(ce_loss_list)\n",
    "umap_learn_loss"
   ]
  },
  {
   "cell_type": "code",
   "execution_count": 27,
   "metadata": {
    "ExecuteTime": {
     "end_time": "2021-01-14T22:29:26.680810Z",
     "start_time": "2021-01-14T22:29:26.653660Z"
    }
   },
   "outputs": [],
   "source": [
    "np.save(output_dir / 'umap_loss.npy', [np.mean(ce_loss_list), np.std(ce_loss_list)])"
   ]
  },
  {
   "cell_type": "code",
   "execution_count": null,
   "metadata": {},
   "outputs": [],
   "source": []
  },
  {
   "cell_type": "code",
   "execution_count": null,
   "metadata": {},
   "outputs": [],
   "source": []
  }
 ],
 "metadata": {
  "kernelspec": {
   "display_name": "Python [conda env:tfumap]",
   "language": "python",
   "name": "conda-env-tfumap-py"
  },
  "language_info": {
   "codemirror_mode": {
    "name": "ipython",
    "version": 3
   },
   "file_extension": ".py",
   "mimetype": "text/x-python",
   "name": "python",
   "nbconvert_exporter": "python",
   "pygments_lexer": "ipython3",
   "version": "3.7.9"
  }
 },
 "nbformat": 4,
 "nbformat_minor": 4
}
