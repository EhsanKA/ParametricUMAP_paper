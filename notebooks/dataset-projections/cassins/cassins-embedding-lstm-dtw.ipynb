{
 "cells": [
  {
   "cell_type": "code",
   "execution_count": 1,
   "metadata": {
    "ExecuteTime": {
     "end_time": "2020-07-08T16:45:48.008021Z",
     "start_time": "2020-07-08T16:45:47.964064Z"
    }
   },
   "outputs": [],
   "source": [
    "# reload packages\n",
    "%load_ext autoreload\n",
    "%autoreload 2"
   ]
  },
  {
   "cell_type": "markdown",
   "metadata": {},
   "source": [
    "### Choose GPU (this may not be needed on your computer)"
   ]
  },
  {
   "cell_type": "code",
   "execution_count": 2,
   "metadata": {
    "ExecuteTime": {
     "end_time": "2020-07-08T16:45:48.108942Z",
     "start_time": "2020-07-08T16:45:48.010819Z"
    }
   },
   "outputs": [
    {
     "name": "stdout",
     "output_type": "stream",
     "text": [
      "env: CUDA_DEVICE_ORDER=PCI_BUS_ID\n",
      "env: CUDA_VISIBLE_DEVICES=2\n"
     ]
    }
   ],
   "source": [
    "%env CUDA_DEVICE_ORDER=PCI_BUS_ID\n",
    "%env CUDA_VISIBLE_DEVICES=2"
   ]
  },
  {
   "cell_type": "markdown",
   "metadata": {},
   "source": [
    "### load packages"
   ]
  },
  {
   "cell_type": "code",
   "execution_count": 3,
   "metadata": {
    "ExecuteTime": {
     "end_time": "2020-07-08T16:46:26.207586Z",
     "start_time": "2020-07-08T16:45:48.111724Z"
    }
   },
   "outputs": [
    {
     "name": "stderr",
     "output_type": "stream",
     "text": [
      "/mnt/cube/tsainbur/conda_envs/tpy3/lib/python3.6/site-packages/tqdm/autonotebook/__init__.py:14: TqdmExperimentalWarning: Using `tqdm.autonotebook.tqdm` in notebook mode. Use `tqdm.tqdm` instead to force console mode (e.g. in jupyter console)\n",
      "  \" (e.g. in jupyter console)\", TqdmExperimentalWarning)\n"
     ]
    }
   ],
   "source": [
    "from tfumap.umap import tfUMAP"
   ]
  },
  {
   "cell_type": "code",
   "execution_count": 4,
   "metadata": {
    "ExecuteTime": {
     "end_time": "2020-07-08T16:46:26.844655Z",
     "start_time": "2020-07-08T16:46:26.210852Z"
    }
   },
   "outputs": [],
   "source": [
    "import tensorflow as tf\n",
    "import numpy as np\n",
    "import matplotlib.pyplot as plt\n",
    "from tqdm.autonotebook import tqdm\n",
    "import umap\n",
    "import pandas as pd"
   ]
  },
  {
   "cell_type": "markdown",
   "metadata": {},
   "source": [
    "### Load dataset"
   ]
  },
  {
   "cell_type": "code",
   "execution_count": 5,
   "metadata": {
    "ExecuteTime": {
     "end_time": "2020-07-08T16:46:27.020461Z",
     "start_time": "2020-07-08T16:46:26.850405Z"
    }
   },
   "outputs": [],
   "source": [
    "from tfumap.paths import ensure_dir, MODEL_DIR, DATA_DIR"
   ]
  },
  {
   "cell_type": "code",
   "execution_count": 6,
   "metadata": {
    "ExecuteTime": {
     "end_time": "2020-07-08T16:48:13.509716Z",
     "start_time": "2020-07-08T16:46:27.023089Z"
    }
   },
   "outputs": [],
   "source": [
    "syllable_df = pd.read_pickle(DATA_DIR/'cassins'/ 'cassins.pickle')"
   ]
  },
  {
   "cell_type": "code",
   "execution_count": 7,
   "metadata": {
    "ExecuteTime": {
     "end_time": "2020-07-08T16:48:14.166249Z",
     "start_time": "2020-07-08T16:48:13.515719Z"
    }
   },
   "outputs": [],
   "source": [
    "#syllable_df= syllable_df[:1000]"
   ]
  },
  {
   "cell_type": "code",
   "execution_count": 8,
   "metadata": {
    "ExecuteTime": {
     "end_time": "2020-07-08T16:48:14.427973Z",
     "start_time": "2020-07-08T16:48:14.169397Z"
    }
   },
   "outputs": [
    {
     "data": {
      "text/html": [
       "<div>\n",
       "<style scoped>\n",
       "    .dataframe tbody tr th:only-of-type {\n",
       "        vertical-align: middle;\n",
       "    }\n",
       "\n",
       "    .dataframe tbody tr th {\n",
       "        vertical-align: top;\n",
       "    }\n",
       "\n",
       "    .dataframe thead th {\n",
       "        text-align: right;\n",
       "    }\n",
       "</style>\n",
       "<table border=\"1\" class=\"dataframe\">\n",
       "  <thead>\n",
       "    <tr style=\"text-align: right;\">\n",
       "      <th></th>\n",
       "      <th>start_time</th>\n",
       "      <th>end_time</th>\n",
       "      <th>labels</th>\n",
       "      <th>indv</th>\n",
       "      <th>indvi</th>\n",
       "      <th>subject_importance</th>\n",
       "      <th>key</th>\n",
       "      <th>audio</th>\n",
       "      <th>rate</th>\n",
       "      <th>spectrogram</th>\n",
       "    </tr>\n",
       "  </thead>\n",
       "  <tbody>\n",
       "    <tr>\n",
       "      <th>0</th>\n",
       "      <td>9.842790</td>\n",
       "      <td>10.105938</td>\n",
       "      <td>ah</td>\n",
       "      <td>ORA</td>\n",
       "      <td>0</td>\n",
       "      <td>Primary subject</td>\n",
       "      <td>2014-05-29_10-10-00-000000</td>\n",
       "      <td>[-0.19927763130383222, -0.2129138251615996, -0...</td>\n",
       "      <td>44100</td>\n",
       "      <td>[[0.0, 0.0, 0.0, 0.0, 0.0, 0.0, 0.3059005, 0.4...</td>\n",
       "    </tr>\n",
       "    <tr>\n",
       "      <th>1</th>\n",
       "      <td>72.031245</td>\n",
       "      <td>72.346332</td>\n",
       "      <td>ah</td>\n",
       "      <td>ORA</td>\n",
       "      <td>0</td>\n",
       "      <td>Primary subject</td>\n",
       "      <td>2014-05-29_10-10-00-000000</td>\n",
       "      <td>[-0.12207342570633199, -0.09996911527363203, -...</td>\n",
       "      <td>44100</td>\n",
       "      <td>[[0.0, 0.0, 0.0, 0.0, 0.0, 0.12574787, 0.12236...</td>\n",
       "    </tr>\n",
       "    <tr>\n",
       "      <th>2</th>\n",
       "      <td>74.130176</td>\n",
       "      <td>74.376012</td>\n",
       "      <td>bz</td>\n",
       "      <td>ORA</td>\n",
       "      <td>0</td>\n",
       "      <td>Primary subject</td>\n",
       "      <td>2014-05-29_10-10-00-000000</td>\n",
       "      <td>[-0.0889848557398444, -0.06770700742932487, -0...</td>\n",
       "      <td>44100</td>\n",
       "      <td>[[0.0, 0.0, 0.0, 0.0, 0.0, 0.0, 0.2822944, 0.0...</td>\n",
       "    </tr>\n",
       "  </tbody>\n",
       "</table>\n",
       "</div>"
      ],
      "text/plain": [
       "   start_time   end_time labels indv  indvi subject_importance  \\\n",
       "0    9.842790  10.105938     ah  ORA      0    Primary subject   \n",
       "1   72.031245  72.346332     ah  ORA      0    Primary subject   \n",
       "2   74.130176  74.376012     bz  ORA      0    Primary subject   \n",
       "\n",
       "                          key  \\\n",
       "0  2014-05-29_10-10-00-000000   \n",
       "1  2014-05-29_10-10-00-000000   \n",
       "2  2014-05-29_10-10-00-000000   \n",
       "\n",
       "                                               audio   rate  \\\n",
       "0  [-0.19927763130383222, -0.2129138251615996, -0...  44100   \n",
       "1  [-0.12207342570633199, -0.09996911527363203, -...  44100   \n",
       "2  [-0.0889848557398444, -0.06770700742932487, -0...  44100   \n",
       "\n",
       "                                         spectrogram  \n",
       "0  [[0.0, 0.0, 0.0, 0.0, 0.0, 0.0, 0.3059005, 0.4...  \n",
       "1  [[0.0, 0.0, 0.0, 0.0, 0.0, 0.12574787, 0.12236...  \n",
       "2  [[0.0, 0.0, 0.0, 0.0, 0.0, 0.0, 0.2822944, 0.0...  "
      ]
     },
     "execution_count": 8,
     "metadata": {},
     "output_type": "execute_result"
    }
   ],
   "source": [
    "syllable_df[:3]"
   ]
  },
  {
   "cell_type": "code",
   "execution_count": 9,
   "metadata": {
    "ExecuteTime": {
     "end_time": "2020-07-08T16:48:14.841484Z",
     "start_time": "2020-07-08T16:48:14.431097Z"
    }
   },
   "outputs": [
    {
     "data": {
      "text/html": [
       "<div>\n",
       "<style scoped>\n",
       "    .dataframe tbody tr th:only-of-type {\n",
       "        vertical-align: middle;\n",
       "    }\n",
       "\n",
       "    .dataframe tbody tr th {\n",
       "        vertical-align: top;\n",
       "    }\n",
       "\n",
       "    .dataframe thead th {\n",
       "        text-align: right;\n",
       "    }\n",
       "</style>\n",
       "<table border=\"1\" class=\"dataframe\">\n",
       "  <thead>\n",
       "    <tr style=\"text-align: right;\">\n",
       "      <th></th>\n",
       "      <th>en</th>\n",
       "      <th>au</th>\n",
       "      <th>ce</th>\n",
       "      <th>cj</th>\n",
       "      <th>ah</th>\n",
       "      <th>bm</th>\n",
       "      <th>ch</th>\n",
       "      <th>ai</th>\n",
       "      <th>db</th>\n",
       "      <th>aj</th>\n",
       "      <th>ck</th>\n",
       "      <th>hg</th>\n",
       "      <th>ac</th>\n",
       "      <th>ci</th>\n",
       "      <th>fq</th>\n",
       "      <th>ec</th>\n",
       "      <th>df</th>\n",
       "      <th>bx</th>\n",
       "      <th>cr</th>\n",
       "      <th>cl</th>\n",
       "    </tr>\n",
       "  </thead>\n",
       "  <tbody>\n",
       "    <tr>\n",
       "      <th>0</th>\n",
       "      <td>2995</td>\n",
       "      <td>2077</td>\n",
       "      <td>1620</td>\n",
       "      <td>1506</td>\n",
       "      <td>1418</td>\n",
       "      <td>1379</td>\n",
       "      <td>1363</td>\n",
       "      <td>1362</td>\n",
       "      <td>1358</td>\n",
       "      <td>1305</td>\n",
       "      <td>1233</td>\n",
       "      <td>1180</td>\n",
       "      <td>1179</td>\n",
       "      <td>1080</td>\n",
       "      <td>1007</td>\n",
       "      <td>1003</td>\n",
       "      <td>986</td>\n",
       "      <td>984</td>\n",
       "      <td>978</td>\n",
       "      <td>971</td>\n",
       "    </tr>\n",
       "  </tbody>\n",
       "</table>\n",
       "</div>"
      ],
      "text/plain": [
       "     en    au    ce    cj    ah    bm    ch    ai    db    aj    ck    hg  \\\n",
       "0  2995  2077  1620  1506  1418  1379  1363  1362  1358  1305  1233  1180   \n",
       "\n",
       "     ac    ci    fq    ec   df   bx   cr   cl  \n",
       "0  1179  1080  1007  1003  986  984  978  971  "
      ]
     },
     "execution_count": 9,
     "metadata": {},
     "output_type": "execute_result"
    }
   ],
   "source": [
    "top_labels = (\n",
    "    pd.DataFrame(\n",
    "        {i: [np.sum(syllable_df.labels.values == i)] for i in syllable_df.labels.unique()}\n",
    "    )\n",
    "    .T.sort_values(by=0, ascending=False)[:20]\n",
    "    .T\n",
    ")\n",
    "top_labels"
   ]
  },
  {
   "cell_type": "code",
   "execution_count": 10,
   "metadata": {
    "ExecuteTime": {
     "end_time": "2020-07-08T16:48:14.969136Z",
     "start_time": "2020-07-08T16:48:14.844391Z"
    }
   },
   "outputs": [],
   "source": [
    "syllable_df = syllable_df[syllable_df.labels.isin(top_labels.columns)]"
   ]
  },
  {
   "cell_type": "code",
   "execution_count": 11,
   "metadata": {
    "ExecuteTime": {
     "end_time": "2020-07-08T16:48:15.180994Z",
     "start_time": "2020-07-08T16:48:14.971236Z"
    }
   },
   "outputs": [
    {
     "data": {
      "text/html": [
       "<div>\n",
       "<style scoped>\n",
       "    .dataframe tbody tr th:only-of-type {\n",
       "        vertical-align: middle;\n",
       "    }\n",
       "\n",
       "    .dataframe tbody tr th {\n",
       "        vertical-align: top;\n",
       "    }\n",
       "\n",
       "    .dataframe thead th {\n",
       "        text-align: right;\n",
       "    }\n",
       "</style>\n",
       "<table border=\"1\" class=\"dataframe\">\n",
       "  <thead>\n",
       "    <tr style=\"text-align: right;\">\n",
       "      <th></th>\n",
       "      <th>start_time</th>\n",
       "      <th>end_time</th>\n",
       "      <th>labels</th>\n",
       "      <th>indv</th>\n",
       "      <th>indvi</th>\n",
       "      <th>subject_importance</th>\n",
       "      <th>key</th>\n",
       "      <th>audio</th>\n",
       "      <th>rate</th>\n",
       "      <th>spectrogram</th>\n",
       "    </tr>\n",
       "  </thead>\n",
       "  <tbody>\n",
       "    <tr>\n",
       "      <th>0</th>\n",
       "      <td>9.842790</td>\n",
       "      <td>10.105938</td>\n",
       "      <td>ah</td>\n",
       "      <td>ORA</td>\n",
       "      <td>0</td>\n",
       "      <td>Primary subject</td>\n",
       "      <td>2014-05-29_10-10-00-000000</td>\n",
       "      <td>[-0.19927763130383222, -0.2129138251615996, -0...</td>\n",
       "      <td>44100</td>\n",
       "      <td>[[0.0, 0.0, 0.0, 0.0, 0.0, 0.0, 0.3059005, 0.4...</td>\n",
       "    </tr>\n",
       "    <tr>\n",
       "      <th>1</th>\n",
       "      <td>72.031245</td>\n",
       "      <td>72.346332</td>\n",
       "      <td>ah</td>\n",
       "      <td>ORA</td>\n",
       "      <td>0</td>\n",
       "      <td>Primary subject</td>\n",
       "      <td>2014-05-29_10-10-00-000000</td>\n",
       "      <td>[-0.12207342570633199, -0.09996911527363203, -...</td>\n",
       "      <td>44100</td>\n",
       "      <td>[[0.0, 0.0, 0.0, 0.0, 0.0, 0.12574787, 0.12236...</td>\n",
       "    </tr>\n",
       "    <tr>\n",
       "      <th>12</th>\n",
       "      <td>114.757543</td>\n",
       "      <td>114.986067</td>\n",
       "      <td>bm</td>\n",
       "      <td>ORA</td>\n",
       "      <td>0</td>\n",
       "      <td>Primary subject</td>\n",
       "      <td>2014-05-29_10-10-00-000000</td>\n",
       "      <td>[-0.03662450122476042, -0.022604548403189744, ...</td>\n",
       "      <td>44100</td>\n",
       "      <td>[[0.0, 0.0, 0.0, 0.0, 0.0, 0.0, 0.0, 0.0, 0.0,...</td>\n",
       "    </tr>\n",
       "  </tbody>\n",
       "</table>\n",
       "</div>"
      ],
      "text/plain": [
       "    start_time    end_time labels indv  indvi subject_importance  \\\n",
       "0     9.842790   10.105938     ah  ORA      0    Primary subject   \n",
       "1    72.031245   72.346332     ah  ORA      0    Primary subject   \n",
       "12  114.757543  114.986067     bm  ORA      0    Primary subject   \n",
       "\n",
       "                           key  \\\n",
       "0   2014-05-29_10-10-00-000000   \n",
       "1   2014-05-29_10-10-00-000000   \n",
       "12  2014-05-29_10-10-00-000000   \n",
       "\n",
       "                                                audio   rate  \\\n",
       "0   [-0.19927763130383222, -0.2129138251615996, -0...  44100   \n",
       "1   [-0.12207342570633199, -0.09996911527363203, -...  44100   \n",
       "12  [-0.03662450122476042, -0.022604548403189744, ...  44100   \n",
       "\n",
       "                                          spectrogram  \n",
       "0   [[0.0, 0.0, 0.0, 0.0, 0.0, 0.0, 0.3059005, 0.4...  \n",
       "1   [[0.0, 0.0, 0.0, 0.0, 0.0, 0.12574787, 0.12236...  \n",
       "12  [[0.0, 0.0, 0.0, 0.0, 0.0, 0.0, 0.0, 0.0, 0.0,...  "
      ]
     },
     "execution_count": 11,
     "metadata": {},
     "output_type": "execute_result"
    }
   ],
   "source": [
    "syllable_df[:3]"
   ]
  },
  {
   "cell_type": "code",
   "execution_count": 12,
   "metadata": {
    "ExecuteTime": {
     "end_time": "2020-07-08T16:48:15.261105Z",
     "start_time": "2020-07-08T16:48:15.183041Z"
    }
   },
   "outputs": [],
   "source": [
    "syllable_df = syllable_df.reset_index()"
   ]
  },
  {
   "cell_type": "code",
   "execution_count": 13,
   "metadata": {
    "ExecuteTime": {
     "end_time": "2020-07-08T16:48:15.356371Z",
     "start_time": "2020-07-08T16:48:15.263508Z"
    }
   },
   "outputs": [],
   "source": [
    "syllable_df['subset'] = 'train'\n",
    "syllable_df.loc[:1000, 'subset'] = 'valid'\n",
    "syllable_df.loc[1000:1999, 'subset'] = 'test'\n",
    "#syllable_df.loc[:100, 'subset'] = 'valid'\n",
    "#syllable_df.loc[100:199, 'subset'] = 'test'"
   ]
  },
  {
   "cell_type": "code",
   "execution_count": 14,
   "metadata": {
    "ExecuteTime": {
     "end_time": "2020-07-08T16:48:17.998916Z",
     "start_time": "2020-07-08T16:48:15.359306Z"
    }
   },
   "outputs": [
    {
     "data": {
      "application/vnd.jupyter.widget-view+json": {
       "model_id": "de1acd3b6a90404da10ce0e9baa78269",
       "version_major": 2,
       "version_minor": 0
      },
      "text/plain": [
       "HBox(children=(IntProgress(value=0, max=26984), HTML(value='')))"
      ]
     },
     "metadata": {},
     "output_type": "display_data"
    },
    {
     "name": "stdout",
     "output_type": "stream",
     "text": [
      "\n"
     ]
    },
    {
     "data": {
      "text/plain": [
       "(26984, 32, 32)"
      ]
     },
     "execution_count": 14,
     "metadata": {},
     "output_type": "execute_result"
    }
   ],
   "source": [
    "specs = np.array(list(syllable_df.spectrogram.values))\n",
    "specs = np.array([np.concatenate([np.zeros((32,1)), i], axis=1) for i in tqdm(specs)])\n",
    "specs.shape"
   ]
  },
  {
   "cell_type": "code",
   "execution_count": 15,
   "metadata": {
    "ExecuteTime": {
     "end_time": "2020-07-08T16:48:18.162248Z",
     "start_time": "2020-07-08T16:48:18.000764Z"
    }
   },
   "outputs": [],
   "source": [
    "syllable_df['spectrogram'] = syllable_df['spectrogram'].astype('object')\n",
    "syllable_df['spectrogram'] = list(specs)"
   ]
  },
  {
   "cell_type": "code",
   "execution_count": 16,
   "metadata": {
    "ExecuteTime": {
     "end_time": "2020-07-08T16:48:18.304699Z",
     "start_time": "2020-07-08T16:48:18.164269Z"
    }
   },
   "outputs": [
    {
     "data": {
      "text/plain": [
       "(32, 32)"
      ]
     },
     "execution_count": 16,
     "metadata": {},
     "output_type": "execute_result"
    }
   ],
   "source": [
    "np.shape(syllable_df['spectrogram'].values[0])"
   ]
  },
  {
   "cell_type": "code",
   "execution_count": 17,
   "metadata": {
    "ExecuteTime": {
     "end_time": "2020-07-08T16:48:18.396499Z",
     "start_time": "2020-07-08T16:48:18.306579Z"
    }
   },
   "outputs": [
    {
     "data": {
      "text/plain": [
       "26984"
      ]
     },
     "execution_count": 17,
     "metadata": {},
     "output_type": "execute_result"
    }
   ],
   "source": [
    "len(syllable_df)"
   ]
  },
  {
   "cell_type": "code",
   "execution_count": 18,
   "metadata": {
    "ExecuteTime": {
     "end_time": "2020-07-08T16:48:18.490715Z",
     "start_time": "2020-07-08T16:48:18.398517Z"
    }
   },
   "outputs": [],
   "source": [
    "Y_train = np.array(list(syllable_df.labels.values[syllable_df.subset == 'train']))\n",
    "Y_valid = np.array(list(syllable_df.labels.values[syllable_df.subset == 'valid']))\n",
    "Y_test = np.array(list(syllable_df.labels.values[syllable_df.subset == 'test']))"
   ]
  },
  {
   "cell_type": "code",
   "execution_count": 19,
   "metadata": {
    "ExecuteTime": {
     "end_time": "2020-07-08T16:48:19.498476Z",
     "start_time": "2020-07-08T16:48:18.492558Z"
    }
   },
   "outputs": [],
   "source": [
    "X_train = np.array(list(syllable_df.spectrogram.values[syllable_df.subset == 'train'])) #/ 255.\n",
    "X_valid = np.array(list(syllable_df.spectrogram.values[syllable_df.subset == 'valid']))# / 255.\n",
    "X_test = np.array(list(syllable_df.spectrogram.values[syllable_df.subset == 'test'])) #/ 255."
   ]
  },
  {
   "cell_type": "code",
   "execution_count": 20,
   "metadata": {
    "ExecuteTime": {
     "end_time": "2020-07-08T16:48:19.573467Z",
     "start_time": "2020-07-08T16:48:19.500292Z"
    }
   },
   "outputs": [],
   "source": [
    "X_train_flat = X_train.reshape((len(X_train), np.product(np.shape(X_train)[1:])))"
   ]
  },
  {
   "cell_type": "code",
   "execution_count": 21,
   "metadata": {
    "ExecuteTime": {
     "end_time": "2020-07-08T16:48:19.779158Z",
     "start_time": "2020-07-08T16:48:19.575065Z"
    }
   },
   "outputs": [],
   "source": [
    "from sklearn.preprocessing import OrdinalEncoder\n",
    "enc = OrdinalEncoder()\n",
    "Y_train = enc.fit_transform([[i] for i in Y_train]).astype('int').flatten()"
   ]
  },
  {
   "cell_type": "code",
   "execution_count": 22,
   "metadata": {
    "ExecuteTime": {
     "end_time": "2020-07-08T16:48:20.239708Z",
     "start_time": "2020-07-08T16:48:19.781215Z"
    }
   },
   "outputs": [
    {
     "data": {
      "text/plain": [
       "<matplotlib.image.AxesImage at 0x7f8bb3cbf208>"
      ]
     },
     "execution_count": 22,
     "metadata": {},
     "output_type": "execute_result"
    },
    {
     "data": {
      "image/png": "[encoded data removed]",
      "text/plain": [
       "<Figure size 288x288 with 1 Axes>"
      ]
     },
     "metadata": {
      "needs_background": "light"
     },
     "output_type": "display_data"
    }
   ],
   "source": [
    "plt.matshow(X_train[10])"
   ]
  },
  {
   "cell_type": "code",
   "execution_count": 23,
   "metadata": {
    "ExecuteTime": {
     "end_time": "2020-07-08T16:48:20.333875Z",
     "start_time": "2020-07-08T16:48:20.244532Z"
    }
   },
   "outputs": [
    {
     "data": {
      "text/plain": [
       "(32, 32)"
      ]
     },
     "execution_count": 23,
     "metadata": {},
     "output_type": "execute_result"
    }
   ],
   "source": [
    "X_train[0].shape"
   ]
  },
  {
   "cell_type": "markdown",
   "metadata": {},
   "source": [
    "### create models"
   ]
  },
  {
   "cell_type": "code",
   "execution_count": 24,
   "metadata": {
    "ExecuteTime": {
     "end_time": "2020-07-08T16:48:20.419402Z",
     "start_time": "2020-07-08T16:48:20.336030Z"
    }
   },
   "outputs": [],
   "source": [
    "dims = (32,32,1)"
   ]
  },
  {
   "cell_type": "code",
   "execution_count": 25,
   "metadata": {
    "ExecuteTime": {
     "end_time": "2020-07-08T16:48:20.497209Z",
     "start_time": "2020-07-08T16:48:20.421076Z"
    }
   },
   "outputs": [],
   "source": [
    "from tensorflow.keras.layers import (\n",
    "    Conv2D,\n",
    "    Reshape,\n",
    "    Bidirectional,\n",
    "    Dense,\n",
    "    RepeatVector,\n",
    "    TimeDistributed,\n",
    "    LSTM\n",
    ")\n",
    "n_components=2"
   ]
  },
  {
   "cell_type": "code",
   "execution_count": 26,
   "metadata": {
    "ExecuteTime": {
     "end_time": "2020-07-08T16:48:20.574548Z",
     "start_time": "2020-07-08T16:48:20.498880Z"
    }
   },
   "outputs": [],
   "source": [
    "#shape_final = (8,2,128)"
   ]
  },
  {
   "cell_type": "code",
   "execution_count": 27,
   "metadata": {
    "ExecuteTime": {
     "end_time": "2020-07-08T16:48:42.136781Z",
     "start_time": "2020-07-08T16:48:20.576350Z"
    }
   },
   "outputs": [],
   "source": [
    "encoder = tf.keras.Sequential([\n",
    "    tf.keras.layers.InputLayer(input_shape=dims),\n",
    "    Conv2D(\n",
    "        filters=32, kernel_size=3, strides=(2, 2), activation=tf.nn.leaky_relu, padding=\"same\"\n",
    "    ),\n",
    "    Conv2D(\n",
    "        filters=64, kernel_size=3, strides=(2, 2), activation=tf.nn.leaky_relu, padding=\"same\"\n",
    "    ),\n",
    "    Conv2D(\n",
    "        filters=128, kernel_size=3, strides=(2, 1), activation=tf.nn.leaky_relu, padding=\"same\"\n",
    "    ),\n",
    "    Conv2D(\n",
    "        filters=128, kernel_size=3, strides=(2, 1), activation=tf.nn.leaky_relu, padding=\"same\"\n",
    "    ),\n",
    "    Reshape(target_shape=(8, 2*128)),\n",
    "    Bidirectional(LSTM(units=100, activation=\"relu\")),\n",
    "    Dense(units=512),\n",
    "    Dense(units=n_components),\n",
    "])"
   ]
  },
  {
   "cell_type": "code",
   "execution_count": 28,
   "metadata": {
    "ExecuteTime": {
     "end_time": "2020-07-08T16:48:43.154855Z",
     "start_time": "2020-07-08T16:48:42.140015Z"
    }
   },
   "outputs": [],
   "source": [
    "decoder = tf.keras.Sequential([\n",
    "    tf.keras.layers.InputLayer(input_shape=(n_components)),\n",
    "    Dense(units=512),\n",
    "    RepeatVector(8),\n",
    "    Bidirectional(LSTM(units=100, activation=\"relu\", return_sequences=True)),\n",
    "    TimeDistributed(Dense(2*128)),\n",
    "    Reshape(target_shape=(8,2,128)),\n",
    "    tf.keras.layers.Conv2DTranspose(\n",
    "        filters=128, kernel_size=3, strides=(1, 2), padding=\"SAME\", activation=tf.nn.leaky_relu\n",
    "    ),\n",
    "    tf.keras.layers.Conv2DTranspose(\n",
    "        filters=128, kernel_size=3, strides=(1, 2), padding=\"SAME\", activation=tf.nn.leaky_relu\n",
    "    ),\n",
    "    tf.keras.layers.Conv2DTranspose(\n",
    "        filters=64, kernel_size=3, strides=(2, 2), padding=\"SAME\", activation=tf.nn.leaky_relu\n",
    "    ),\n",
    "    tf.keras.layers.Conv2DTranspose(\n",
    "        filters=32, kernel_size=3, strides=(2, 2), padding=\"SAME\", activation=tf.nn.leaky_relu\n",
    "    ),\n",
    "    tf.keras.layers.Conv2DTranspose(\n",
    "        filters=1, kernel_size=3, strides=(1, 1), padding=\"SAME\", activation=\"tanh\"\n",
    "    ),\n",
    "    Reshape(target_shape=(32, 32, 1)),\n",
    "])"
   ]
  },
  {
   "cell_type": "markdown",
   "metadata": {},
   "source": [
    "### Prepare metric"
   ]
  },
  {
   "cell_type": "code",
   "execution_count": 29,
   "metadata": {
    "ExecuteTime": {
     "end_time": "2020-07-08T16:48:43.263407Z",
     "start_time": "2020-07-08T16:48:43.156737Z"
    }
   },
   "outputs": [],
   "source": [
    "from tfumap.dtw_mse import build_dtw_mse"
   ]
  },
  {
   "cell_type": "code",
   "execution_count": 30,
   "metadata": {
    "ExecuteTime": {
     "end_time": "2020-07-08T16:48:43.380429Z",
     "start_time": "2020-07-08T16:48:43.266662Z"
    }
   },
   "outputs": [],
   "source": [
    "dtw_metric = build_dtw_mse(X_train[0].shape)"
   ]
  },
  {
   "cell_type": "markdown",
   "metadata": {},
   "source": [
    "### Create model and train"
   ]
  },
  {
   "cell_type": "code",
   "execution_count": 32,
   "metadata": {
    "ExecuteTime": {
     "end_time": "2020-07-08T16:48:59.471253Z",
     "start_time": "2020-07-08T16:48:59.324486Z"
    }
   },
   "outputs": [],
   "source": [
    "embedder = tfUMAP(\n",
    "    metric = dtw_metric,\n",
    "    direct_embedding=False,\n",
    "    verbose=True,\n",
    "    negative_sample_rate=5,\n",
    "    training_epochs=5,\n",
    "    encoder=encoder,\n",
    "    dims=dims,\n",
    "    n_components=n_components,\n",
    ")"
   ]
  },
  {
   "cell_type": "code",
   "execution_count": null,
   "metadata": {
    "ExecuteTime": {
     "start_time": "2020-07-08T16:45:47.687Z"
    },
    "scrolled": false
   },
   "outputs": [
    {
     "name": "stderr",
     "output_type": "stream",
     "text": [
      "/mnt/cube/tsainbur/Projects/github_repos/umap/umap/umap_.py:1624: UserWarning: custom distance metric does not return gradient; inverse_transform will be unavailable. To enable using inverse_transform method method, define a distance function that returns a tuple of (distance [float], gradient [np.array])\n",
      "  \"custom distance metric does not return gradient; inverse_transform will be unavailable. \"\n"
     ]
    },
    {
     "name": "stdout",
     "output_type": "stream",
     "text": [
      "tfUMAP(dims=(32, 32, 1),\n",
      "       encoder=<tensorflow.python.keras.engine.sequential.Sequential object at 0x7f8bb74b1438>,\n",
      "       negative_sample_rate=5,\n",
      "       optimizer=<tensorflow.python.keras.optimizer_v2.adam.Adam object at 0x7f8bb78c49b0>,\n",
      "       tensorboard_logdir='/tmp/tensorboard/20200708-094859',\n",
      "       training_epochs=5)\n",
      "Construct fuzzy simplicial set\n",
      "Wed Jul  8 09:49:05 2020 Finding Nearest Neighbors\n",
      "Wed Jul  8 09:49:05 2020 Building RP forest with 13 trees\n",
      "Wed Jul  8 09:49:13 2020 parallel NN descent for 15 iterations\n",
      "\t 0  /  15\n",
      "\t 1  /  15\n"
     ]
    }
   ],
   "source": [
    "z = embedder.fit_transform(X_train_flat)"
   ]
  },
  {
   "cell_type": "code",
   "execution_count": null,
   "metadata": {
    "ExecuteTime": {
     "start_time": "2020-07-08T16:45:47.688Z"
    }
   },
   "outputs": [],
   "source": [
    "z = embedder.transform(X_train_flat)"
   ]
  },
  {
   "cell_type": "markdown",
   "metadata": {},
   "source": [
    "### Plot model output"
   ]
  },
  {
   "cell_type": "code",
   "execution_count": 45,
   "metadata": {
    "ExecuteTime": {
     "end_time": "2020-07-08T19:31:05.829553Z",
     "start_time": "2020-07-08T19:31:04.406246Z"
    }
   },
   "outputs": [
    {
     "data": {
      "image/png": "[encoded data removed]",
      "text/plain": [
       "<Figure size 576x576 with 2 Axes>"
      ]
     },
     "metadata": {
      "needs_background": "light"
     },
     "output_type": "display_data"
    }
   ],
   "source": [
    "fig, ax = plt.subplots( figsize=(8, 8))\n",
    "sc = ax.scatter(\n",
    "    z[:, 0],\n",
    "    z[:, 1],\n",
    "    c=Y_train[:len(z)],\n",
    "    cmap=\"tab20\",\n",
    "    s=0.1,\n",
    "    alpha=0.5,\n",
    "    rasterized=True,\n",
    ")\n",
    "ax.axis('equal')\n",
    "ax.set_title(\"UMAP in Tensorflow embedding\", fontsize=20)\n",
    "plt.colorbar(sc, ax=ax);"
   ]
  },
  {
   "cell_type": "markdown",
   "metadata": {},
   "source": [
    "### View loss"
   ]
  },
  {
   "cell_type": "code",
   "execution_count": null,
   "metadata": {
    "ExecuteTime": {
     "start_time": "2020-07-08T16:45:47.691Z"
    }
   },
   "outputs": [],
   "source": [
    "from tfumap.umap import retrieve_tensors\n",
    "import seaborn as sns"
   ]
  },
  {
   "cell_type": "code",
   "execution_count": null,
   "metadata": {
    "ExecuteTime": {
     "start_time": "2020-07-08T16:45:47.693Z"
    }
   },
   "outputs": [],
   "source": [
    "loss_df = retrieve_tensors(embedder.tensorboard_logdir)\n",
    "loss_df[:3]"
   ]
  },
  {
   "cell_type": "code",
   "execution_count": null,
   "metadata": {
    "ExecuteTime": {
     "start_time": "2020-07-08T16:45:47.694Z"
    }
   },
   "outputs": [],
   "source": [
    "ax = sns.lineplot(x=\"step\", y=\"val\", hue=\"group\", data=loss_df[loss_df.variable=='umap_loss'])\n",
    "ax.set_xscale('log')\n",
    "ax.set_yscale('log')"
   ]
  },
  {
   "cell_type": "markdown",
   "metadata": {},
   "source": [
    "### Save output"
   ]
  },
  {
   "cell_type": "code",
   "execution_count": null,
   "metadata": {
    "ExecuteTime": {
     "start_time": "2020-07-08T16:45:47.695Z"
    }
   },
   "outputs": [],
   "source": [
    "from tfumap.paths import ensure_dir, MODEL_DIR"
   ]
  },
  {
   "cell_type": "code",
   "execution_count": null,
   "metadata": {
    "ExecuteTime": {
     "start_time": "2020-07-08T16:45:47.699Z"
    }
   },
   "outputs": [],
   "source": [
    "output_dir = MODEL_DIR/'projections'/ 'cassins' / 'seq2seq'\n",
    "ensure_dir(output_dir)"
   ]
  },
  {
   "cell_type": "code",
   "execution_count": null,
   "metadata": {
    "ExecuteTime": {
     "start_time": "2020-07-08T16:45:47.700Z"
    }
   },
   "outputs": [],
   "source": [
    "embedder.save(output_dir)"
   ]
  },
  {
   "cell_type": "code",
   "execution_count": null,
   "metadata": {
    "ExecuteTime": {
     "start_time": "2020-07-08T16:45:47.701Z"
    }
   },
   "outputs": [],
   "source": [
    "loss_df.to_pickle(output_dir / 'loss_df.pickle')"
   ]
  },
  {
   "cell_type": "code",
   "execution_count": null,
   "metadata": {
    "ExecuteTime": {
     "start_time": "2020-07-08T16:45:47.703Z"
    }
   },
   "outputs": [],
   "source": [
    "np.save(output_dir / 'z.npy', z)"
   ]
  }
 ],
 "metadata": {
  "kernelspec": {
   "display_name": "Python 3",
   "language": "python",
   "name": "python3"
  },
  "language_info": {
   "codemirror_mode": {
    "name": "ipython",
    "version": 3
   },
   "file_extension": ".py",
   "mimetype": "text/x-python",
   "name": "python",
   "nbconvert_exporter": "python",
   "pygments_lexer": "ipython3",
   "version": "3.6.7"
  }
 },
 "nbformat": 4,
 "nbformat_minor": 2
}
