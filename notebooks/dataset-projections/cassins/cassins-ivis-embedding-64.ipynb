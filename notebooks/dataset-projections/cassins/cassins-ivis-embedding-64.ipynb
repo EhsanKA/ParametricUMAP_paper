{
 "cells": [
  {
   "cell_type": "code",
   "execution_count": 1,
   "metadata": {
    "ExecuteTime": {
     "end_time": "2021-01-15T19:50:36.715129Z",
     "start_time": "2021-01-15T19:50:36.712891Z"
    }
   },
   "outputs": [],
   "source": [
    "dataset = 'cassins'\n",
    "algorithm = 'ivis'\n",
    "n_components = 64\n",
    "dims = (32,32,1)\n"
   ]
  },
  {
   "cell_type": "code",
   "execution_count": 2,
   "metadata": {
    "ExecuteTime": {
     "end_time": "2021-01-15T19:50:36.733569Z",
     "start_time": "2021-01-15T19:50:36.716113Z"
    }
   },
   "outputs": [],
   "source": [
    "# reload packages\n",
    "%load_ext autoreload\n",
    "%autoreload 2"
   ]
  },
  {
   "cell_type": "markdown",
   "metadata": {},
   "source": [
    "### Choose GPU (this may not be needed on your computer)"
   ]
  },
  {
   "cell_type": "code",
   "execution_count": 3,
   "metadata": {
    "ExecuteTime": {
     "end_time": "2021-01-15T19:50:36.744111Z",
     "start_time": "2021-01-15T19:50:36.734913Z"
    }
   },
   "outputs": [
    {
     "name": "stdout",
     "output_type": "stream",
     "text": [
      "env: CUDA_DEVICE_ORDER=PCI_BUS_ID\n",
      "env: CUDA_VISIBLE_DEVICES=1\n"
     ]
    }
   ],
   "source": [
    "%env CUDA_DEVICE_ORDER=PCI_BUS_ID\n",
    "%env CUDA_VISIBLE_DEVICES=1"
   ]
  },
  {
   "cell_type": "code",
   "execution_count": 4,
   "metadata": {
    "ExecuteTime": {
     "end_time": "2021-01-15T19:50:38.382349Z",
     "start_time": "2021-01-15T19:50:36.745597Z"
    }
   },
   "outputs": [],
   "source": [
    "import tensorflow as tf\n",
    "gpus = tf.config.experimental.list_physical_devices('GPU')\n",
    "for gpu in gpus:\n",
    "  tf.config.experimental.set_memory_growth(gpu, True)"
   ]
  },
  {
   "cell_type": "markdown",
   "metadata": {},
   "source": [
    "### load packages"
   ]
  },
  {
   "cell_type": "code",
   "execution_count": 5,
   "metadata": {
    "ExecuteTime": {
     "end_time": "2021-01-15T19:50:49.717687Z",
     "start_time": "2021-01-15T19:50:38.385937Z"
    }
   },
   "outputs": [
    {
     "name": "stderr",
     "output_type": "stream",
     "text": [
      "/mnt/cube/tsainbur/Projects/github_repos/umap_tf_networks/tfumap/umap.py:7: TqdmExperimentalWarning: Using `tqdm.autonotebook.tqdm` in notebook mode. Use `tqdm.tqdm` instead to force console mode (e.g. in jupyter console)\n",
      "  from tqdm.autonotebook import tqdm\n"
     ]
    }
   ],
   "source": [
    "from tfumap.umap import tfUMAP"
   ]
  },
  {
   "cell_type": "code",
   "execution_count": 6,
   "metadata": {
    "ExecuteTime": {
     "end_time": "2021-01-15T19:50:49.900423Z",
     "start_time": "2021-01-15T19:50:49.720120Z"
    }
   },
   "outputs": [],
   "source": [
    "import tensorflow as tf\n",
    "import numpy as np\n",
    "import matplotlib.pyplot as plt\n",
    "from tqdm.autonotebook import tqdm\n",
    "import umap\n",
    "import pandas as pd"
   ]
  },
  {
   "cell_type": "markdown",
   "metadata": {},
   "source": [
    "### Load dataset"
   ]
  },
  {
   "cell_type": "code",
   "execution_count": 7,
   "metadata": {
    "ExecuteTime": {
     "end_time": "2021-01-15T19:50:54.960504Z",
     "start_time": "2021-01-15T19:50:49.902131Z"
    }
   },
   "outputs": [
    {
     "data": {
      "application/vnd.jupyter.widget-view+json": {
       "model_id": "1313caf8bc674c2f9bef2a2a6d5e6025",
       "version_major": 2,
       "version_minor": 0
      },
      "text/plain": [
       "  0%|          | 0/26984 [00:00<?, ?it/s]"
      ]
     },
     "metadata": {},
     "output_type": "display_data"
    }
   ],
   "source": [
    "from tfumap.paths import ensure_dir, MODEL_DIR, DATA_DIR\n",
    "\n",
    "syllable_df = pd.read_pickle(DATA_DIR/'cassins'/ 'cassins.pickle')\n",
    "\n",
    "\n",
    "\n",
    "top_labels = (\n",
    "    pd.DataFrame(\n",
    "        {i: [np.sum(syllable_df.labels.values == i)] for i in syllable_df.labels.unique()}\n",
    "    )\n",
    "    .T.sort_values(by=0, ascending=False)[:20]\n",
    "    .T\n",
    ")\n",
    "\n",
    "syllable_df = syllable_df[syllable_df.labels.isin(top_labels.columns)]\n",
    "\n",
    "syllable_df[:3]\n",
    "syllable_df = syllable_df.reset_index()\n",
    "\n",
    "syllable_df['subset'] = 'train'\n",
    "syllable_df.loc[:1000, 'subset'] = 'valid'\n",
    "syllable_df.loc[1000:1999, 'subset'] = 'test'\n",
    "\n",
    "specs = np.array(list(syllable_df.spectrogram.values))\n",
    "specs = np.array([np.concatenate([np.zeros((32,1)), i], axis=1) for i in tqdm(specs)])\n",
    "\n",
    "\n",
    "syllable_df['spectrogram'] = syllable_df['spectrogram'].astype('object')\n",
    "syllable_df['spectrogram'] = list(specs)\n",
    "\n",
    "\n",
    "Y_train = np.array(list(syllable_df.labels.values[syllable_df.subset == 'train']))\n",
    "Y_valid = np.array(list(syllable_df.labels.values[syllable_df.subset == 'valid']))\n",
    "Y_test = np.array(list(syllable_df.labels.values[syllable_df.subset == 'test']))\n",
    "\n",
    "X_train = np.array(list(syllable_df.spectrogram.values[syllable_df.subset == 'train'])) #/ 255.\n",
    "X_valid = np.array(list(syllable_df.spectrogram.values[syllable_df.subset == 'valid']))# / 255.\n",
    "X_test = np.array(list(syllable_df.spectrogram.values[syllable_df.subset == 'test'])) #/ 255.\n",
    "\n",
    "X_train_flat = X_train.reshape((len(X_train), np.product(np.shape(X_train)[1:])))\n",
    "\n",
    "from sklearn.preprocessing import OrdinalEncoder\n",
    "enc = OrdinalEncoder()\n",
    "Y_train = enc.fit_transform([[i] for i in Y_train]).astype('int').flatten()\n",
    "Y_test = enc.fit_transform([[i] for i in Y_test]).astype('int').flatten()\n",
    "X_test_flat = X_test.reshape((len(X_test), np.product(np.shape(X_test)[1:])))"
   ]
  },
  {
   "cell_type": "markdown",
   "metadata": {},
   "source": [
    "### Create model and train"
   ]
  },
  {
   "cell_type": "code",
   "execution_count": 8,
   "metadata": {
    "ExecuteTime": {
     "end_time": "2021-01-15T19:50:55.037476Z",
     "start_time": "2021-01-15T19:50:54.961858Z"
    }
   },
   "outputs": [],
   "source": [
    "from ivis import Ivis\n",
    "from sklearn.preprocessing import MinMaxScaler\n",
    "from sklearn import datasets"
   ]
  },
  {
   "cell_type": "code",
   "execution_count": 9,
   "metadata": {
    "ExecuteTime": {
     "end_time": "2021-01-15T19:50:55.068413Z",
     "start_time": "2021-01-15T19:50:55.038867Z"
    }
   },
   "outputs": [],
   "source": [
    "from tensorflow.keras.layers import (\n",
    "    Conv2D,\n",
    "    Reshape,\n",
    "    Bidirectional,\n",
    "    Dense,\n",
    "    RepeatVector,\n",
    "    TimeDistributed,\n",
    "    LSTM\n",
    ")"
   ]
  },
  {
   "cell_type": "code",
   "execution_count": 10,
   "metadata": {
    "ExecuteTime": {
     "end_time": "2021-01-15T19:50:55.107853Z",
     "start_time": "2021-01-15T19:50:55.069681Z"
    }
   },
   "outputs": [],
   "source": [
    "def create_model():\n",
    "    \"\"\"model = tf.keras.models.Sequential()\n",
    "    model.add(tf.keras.layers.BatchNormalization(input_shape=x_train.shape[1:]))\n",
    "    model.add(tf.keras.layers.Conv2D(64, (5, 5), padding='same', activation='elu'))\n",
    "    model.add(tf.keras.layers.MaxPooling2D(pool_size=(2, 2), strides=(2,2)))\n",
    "    model.add(tf.keras.layers.Dropout(0.25))\n",
    "\n",
    "    model.add(tf.keras.layers.BatchNormalization(input_shape=x_train.shape[1:]))\n",
    "    model.add(tf.keras.layers.Conv2D(128, (5, 5), padding='same', activation='elu'))\n",
    "    model.add(tf.keras.layers.MaxPooling2D(pool_size=(2, 2)))\n",
    "    model.add(tf.keras.layers.Dropout(0.25))\n",
    "\n",
    "    model.add(tf.keras.layers.BatchNormalization(input_shape=x_train.shape[1:]))\n",
    "    model.add(tf.keras.layers.Conv2D(256, (5, 5), padding='same', activation='elu'))\n",
    "    model.add(tf.keras.layers.MaxPooling2D(pool_size=(2, 2), strides=(2,2)))\n",
    "\n",
    "    model.add(tf.keras.layers.Flatten())\n",
    "    \"\"\"\n",
    "    model = tf.keras.Sequential([\n",
    "    tf.keras.layers.InputLayer(input_shape=dims),\n",
    "    Conv2D(\n",
    "        filters=32, kernel_size=3, strides=(2, 2), activation=tf.nn.leaky_relu, padding=\"same\"\n",
    "    ),\n",
    "    Conv2D(\n",
    "        filters=64, kernel_size=3, strides=(2, 2), activation=tf.nn.leaky_relu, padding=\"same\"\n",
    "    ),\n",
    "    Conv2D(\n",
    "        filters=128, kernel_size=3, strides=(2, 1), activation=tf.nn.leaky_relu, padding=\"same\"\n",
    "    ),\n",
    "    Conv2D(\n",
    "        filters=128, kernel_size=3, strides=(2, 1), activation=tf.nn.leaky_relu, padding=\"same\"\n",
    "    ),\n",
    "    Reshape(target_shape=(8, 2*128)),\n",
    "    Bidirectional(LSTM(units=100, activation=\"relu\")),\n",
    "    Dense(units=512),\n",
    "    #Dense(units=n_components),\n",
    "    ])\n",
    "    return model"
   ]
  },
  {
   "cell_type": "code",
   "execution_count": 11,
   "metadata": {
    "ExecuteTime": {
     "end_time": "2021-01-15T19:50:55.927360Z",
     "start_time": "2021-01-15T19:50:55.109204Z"
    }
   },
   "outputs": [
    {
     "name": "stdout",
     "output_type": "stream",
     "text": [
      "WARNING:tensorflow:Layer lstm will not use cuDNN kernel since it doesn't meet the cuDNN kernel criteria. It will use generic GPU kernel as fallback when running on GPU\n",
      "WARNING:tensorflow:Layer lstm will not use cuDNN kernel since it doesn't meet the cuDNN kernel criteria. It will use generic GPU kernel as fallback when running on GPU\n",
      "WARNING:tensorflow:Layer lstm will not use cuDNN kernel since it doesn't meet the cuDNN kernel criteria. It will use generic GPU kernel as fallback when running on GPU\n"
     ]
    }
   ],
   "source": [
    "base_model = create_model()"
   ]
  },
  {
   "cell_type": "code",
   "execution_count": 12,
   "metadata": {
    "ExecuteTime": {
     "end_time": "2021-01-15T19:50:55.959727Z",
     "start_time": "2021-01-15T19:50:55.928519Z"
    }
   },
   "outputs": [
    {
     "data": {
      "text/plain": [
       "(24984, 32, 32)"
      ]
     },
     "execution_count": 12,
     "metadata": {},
     "output_type": "execute_result"
    }
   ],
   "source": [
    "X_train.shape"
   ]
  },
  {
   "cell_type": "code",
   "execution_count": 13,
   "metadata": {
    "ExecuteTime": {
     "end_time": "2021-01-15T19:50:56.167238Z",
     "start_time": "2021-01-15T19:50:55.960891Z"
    }
   },
   "outputs": [],
   "source": [
    "x_scaler = MinMaxScaler()\n",
    "X_scaled = x_scaler.fit_transform(X_train_flat).reshape([len(X_train)] + list(dims))"
   ]
  },
  {
   "cell_type": "code",
   "execution_count": 14,
   "metadata": {
    "ExecuteTime": {
     "end_time": "2021-01-15T19:50:56.199466Z",
     "start_time": "2021-01-15T19:50:56.169908Z"
    }
   },
   "outputs": [],
   "source": [
    "# Set ivis parameters\n",
    "model = Ivis(model=base_model, embedding_dims=n_components)"
   ]
  },
  {
   "cell_type": "code",
   "execution_count": 15,
   "metadata": {
    "ExecuteTime": {
     "end_time": "2021-01-15T20:18:20.683785Z",
     "start_time": "2021-01-15T19:50:56.200901Z"
    }
   },
   "outputs": [
    {
     "name": "stderr",
     "output_type": "stream",
     "text": [
      "  2%|▏         | 484/24984 [00:00<00:05, 4832.52it/s]"
     ]
    },
    {
     "name": "stdout",
     "output_type": "stream",
     "text": [
      "Building KNN index\n",
      "Flattening multidimensional input before building KNN index using Annoy\n"
     ]
    },
    {
     "name": "stderr",
     "output_type": "stream",
     "text": [
      "100%|██████████| 24984/24984 [00:05<00:00, 4436.12it/s]\n"
     ]
    },
    {
     "name": "stdout",
     "output_type": "stream",
     "text": [
      "Extracting KNN neighbours\n",
      "Flattening data before retrieving KNN from index\n"
     ]
    },
    {
     "name": "stderr",
     "output_type": "stream",
     "text": [
      "100%|██████████| 24984/24984 [00:02<00:00, 9131.83it/s] \n"
     ]
    },
    {
     "name": "stdout",
     "output_type": "stream",
     "text": [
      "Training neural network\n",
      "Epoch 1/1000\n",
      "196/196 [==============================] - 16s 79ms/step - loss: 0.1163\n",
      "Epoch 2/1000\n",
      "196/196 [==============================] - 16s 79ms/step - loss: 0.0391\n",
      "Epoch 3/1000\n",
      "196/196 [==============================] - 15s 77ms/step - loss: 0.0313\n",
      "Epoch 4/1000\n",
      "196/196 [==============================] - 14s 74ms/step - loss: 0.0268\n",
      "Epoch 5/1000\n",
      "196/196 [==============================] - 14s 73ms/step - loss: 0.0256\n",
      "Epoch 6/1000\n",
      "196/196 [==============================] - 14s 73ms/step - loss: 0.0241\n",
      "Epoch 7/1000\n",
      "196/196 [==============================] - 14s 71ms/step - loss: 0.0216\n",
      "Epoch 8/1000\n",
      "196/196 [==============================] - 14s 72ms/step - loss: 0.0202\n",
      "Epoch 9/1000\n",
      "196/196 [==============================] - 13s 68ms/step - loss: 0.0228\n",
      "Epoch 10/1000\n",
      "196/196 [==============================] - 14s 69ms/step - loss: 0.0205\n",
      "Epoch 11/1000\n",
      "196/196 [==============================] - 13s 68ms/step - loss: 0.0203\n",
      "Epoch 12/1000\n",
      "196/196 [==============================] - 13s 68ms/step - loss: 0.0197\n",
      "Epoch 13/1000\n",
      "196/196 [==============================] - 14s 70ms/step - loss: 0.0187\n",
      "Epoch 14/1000\n",
      "196/196 [==============================] - 14s 70ms/step - loss: 0.0194\n",
      "Epoch 15/1000\n",
      "196/196 [==============================] - 13s 67ms/step - loss: 0.0196\n",
      "Epoch 16/1000\n",
      "196/196 [==============================] - 13s 66ms/step - loss: 0.0190\n",
      "Epoch 17/1000\n",
      "196/196 [==============================] - 14s 71ms/step - loss: 0.0200\n",
      "Epoch 18/1000\n",
      "196/196 [==============================] - 14s 70ms/step - loss: 0.0170\n",
      "Epoch 19/1000\n",
      "196/196 [==============================] - 13s 68ms/step - loss: 0.0174\n",
      "Epoch 20/1000\n",
      "196/196 [==============================] - 13s 67ms/step - loss: 0.0202\n",
      "Epoch 21/1000\n",
      "196/196 [==============================] - 13s 67ms/step - loss: 0.0191\n",
      "Epoch 22/1000\n",
      "196/196 [==============================] - 13s 65ms/step - loss: 0.0196\n",
      "Epoch 23/1000\n",
      "196/196 [==============================] - 13s 66ms/step - loss: 0.0189\n",
      "Epoch 24/1000\n",
      "196/196 [==============================] - 13s 68ms/step - loss: 0.0184\n",
      "Epoch 25/1000\n",
      "196/196 [==============================] - 13s 69ms/step - loss: 0.0161\n",
      "Epoch 26/1000\n",
      "196/196 [==============================] - 14s 69ms/step - loss: 0.0182\n",
      "Epoch 27/1000\n",
      "196/196 [==============================] - 13s 67ms/step - loss: 0.0172\n",
      "Epoch 28/1000\n",
      "196/196 [==============================] - 13s 66ms/step - loss: 0.0192\n",
      "Epoch 29/1000\n",
      "196/196 [==============================] - 13s 66ms/step - loss: 0.0178\n",
      "Epoch 30/1000\n",
      "196/196 [==============================] - 13s 66ms/step - loss: 0.0196\n",
      "Epoch 31/1000\n",
      "196/196 [==============================] - 13s 66ms/step - loss: 0.0163\n",
      "Epoch 32/1000\n",
      "196/196 [==============================] - 13s 65ms/step - loss: 0.0182\n",
      "Epoch 33/1000\n",
      "196/196 [==============================] - 13s 68ms/step - loss: 0.0181\n",
      "Epoch 34/1000\n",
      "196/196 [==============================] - 13s 67ms/step - loss: 0.0185\n",
      "Epoch 35/1000\n",
      "196/196 [==============================] - 14s 70ms/step - loss: 0.0184\n",
      "Epoch 36/1000\n",
      "196/196 [==============================] - 13s 68ms/step - loss: 0.0179\n",
      "Epoch 37/1000\n",
      "196/196 [==============================] - 13s 68ms/step - loss: 0.0178\n",
      "Epoch 38/1000\n",
      "196/196 [==============================] - 14s 69ms/step - loss: 0.0164\n",
      "Epoch 39/1000\n",
      "196/196 [==============================] - 13s 69ms/step - loss: 0.0166\n",
      "Epoch 40/1000\n",
      "196/196 [==============================] - 13s 68ms/step - loss: 0.0157\n",
      "Epoch 41/1000\n",
      "196/196 [==============================] - 13s 68ms/step - loss: 0.0169\n",
      "Epoch 42/1000\n",
      "196/196 [==============================] - 13s 68ms/step - loss: 0.0158\n",
      "Epoch 43/1000\n",
      "196/196 [==============================] - 13s 68ms/step - loss: 0.0159\n",
      "Epoch 44/1000\n",
      "196/196 [==============================] - 13s 68ms/step - loss: 0.0169\n",
      "Epoch 45/1000\n",
      "196/196 [==============================] - 13s 66ms/step - loss: 0.0177\n",
      "Epoch 46/1000\n",
      "196/196 [==============================] - 13s 64ms/step - loss: 0.0158\n",
      "Epoch 47/1000\n",
      "196/196 [==============================] - 13s 66ms/step - loss: 0.0155\n",
      "Epoch 48/1000\n",
      "196/196 [==============================] - 13s 65ms/step - loss: 0.0164\n",
      "Epoch 49/1000\n",
      "196/196 [==============================] - 13s 67ms/step - loss: 0.0149\n",
      "Epoch 50/1000\n",
      "196/196 [==============================] - 13s 67ms/step - loss: 0.0158\n",
      "Epoch 51/1000\n",
      "196/196 [==============================] - 13s 68ms/step - loss: 0.0162\n",
      "Epoch 52/1000\n",
      "196/196 [==============================] - 13s 66ms/step - loss: 0.0163\n",
      "Epoch 53/1000\n",
      "196/196 [==============================] - 13s 66ms/step - loss: 0.0181\n",
      "Epoch 54/1000\n",
      "196/196 [==============================] - 13s 65ms/step - loss: 0.0163\n",
      "Epoch 55/1000\n",
      "196/196 [==============================] - 13s 67ms/step - loss: 0.0141\n",
      "Epoch 56/1000\n",
      "196/196 [==============================] - 13s 67ms/step - loss: 0.0151\n",
      "Epoch 57/1000\n",
      "196/196 [==============================] - 13s 68ms/step - loss: 0.0173\n",
      "Epoch 58/1000\n",
      "196/196 [==============================] - 13s 67ms/step - loss: 0.0166\n",
      "Epoch 59/1000\n",
      "196/196 [==============================] - 13s 68ms/step - loss: 0.0158\n",
      "Epoch 60/1000\n",
      "196/196 [==============================] - 13s 68ms/step - loss: 0.0156\n",
      "Epoch 61/1000\n",
      "196/196 [==============================] - 13s 67ms/step - loss: 0.0154\n",
      "Epoch 62/1000\n",
      "196/196 [==============================] - 13s 68ms/step - loss: 0.0146\n",
      "Epoch 63/1000\n",
      "196/196 [==============================] - 13s 68ms/step - loss: 0.0147\n",
      "Epoch 64/1000\n",
      "196/196 [==============================] - 13s 67ms/step - loss: 0.0152\n",
      "Epoch 65/1000\n",
      "196/196 [==============================] - 13s 67ms/step - loss: 0.0148\n",
      "Epoch 66/1000\n",
      "196/196 [==============================] - 13s 66ms/step - loss: 0.0142\n",
      "Epoch 67/1000\n",
      "196/196 [==============================] - 13s 67ms/step - loss: 0.0147\n",
      "Epoch 68/1000\n",
      "196/196 [==============================] - 13s 68ms/step - loss: 0.0149\n",
      "Epoch 69/1000\n",
      "196/196 [==============================] - 13s 67ms/step - loss: 0.0147\n",
      "Epoch 70/1000\n",
      "196/196 [==============================] - 13s 66ms/step - loss: 0.0132\n",
      "Epoch 71/1000\n",
      "196/196 [==============================] - 12s 63ms/step - loss: 0.0149\n",
      "Epoch 72/1000\n",
      "196/196 [==============================] - 13s 64ms/step - loss: 0.0153\n",
      "Epoch 73/1000\n",
      "196/196 [==============================] - 13s 65ms/step - loss: 0.0152\n",
      "Epoch 74/1000\n",
      "196/196 [==============================] - 13s 64ms/step - loss: 0.0149\n",
      "Epoch 75/1000\n",
      "196/196 [==============================] - 13s 65ms/step - loss: 0.0163\n",
      "Epoch 76/1000\n",
      "196/196 [==============================] - 13s 65ms/step - loss: 0.0150\n",
      "Epoch 77/1000\n",
      "196/196 [==============================] - 13s 66ms/step - loss: 0.0132\n",
      "Epoch 78/1000\n",
      "196/196 [==============================] - 13s 64ms/step - loss: 0.0140\n",
      "Epoch 79/1000\n",
      "196/196 [==============================] - 13s 66ms/step - loss: 0.0142\n",
      "Epoch 80/1000\n",
      "196/196 [==============================] - 13s 65ms/step - loss: 0.0153\n",
      "Epoch 81/1000\n",
      "196/196 [==============================] - 13s 65ms/step - loss: 0.0143\n",
      "Epoch 82/1000\n",
      "196/196 [==============================] - 13s 65ms/step - loss: 0.0143\n",
      "Epoch 83/1000\n",
      "196/196 [==============================] - 13s 65ms/step - loss: 0.0152\n",
      "Epoch 84/1000\n",
      "196/196 [==============================] - 13s 65ms/step - loss: 0.0125\n",
      "Epoch 85/1000\n",
      "196/196 [==============================] - 13s 65ms/step - loss: 0.0149\n",
      "Epoch 86/1000\n",
      "196/196 [==============================] - 13s 65ms/step - loss: 0.0156\n",
      "Epoch 87/1000\n",
      "196/196 [==============================] - 13s 65ms/step - loss: 0.0153\n",
      "Epoch 88/1000\n",
      "196/196 [==============================] - 13s 65ms/step - loss: 0.0143\n",
      "Epoch 89/1000\n",
      "196/196 [==============================] - 13s 65ms/step - loss: 0.0139\n",
      "Epoch 90/1000\n",
      "196/196 [==============================] - 13s 66ms/step - loss: 0.0155\n",
      "Epoch 91/1000\n",
      "196/196 [==============================] - 13s 65ms/step - loss: 0.0141\n",
      "Epoch 92/1000\n",
      "196/196 [==============================] - 13s 65ms/step - loss: 0.0127\n",
      "Epoch 93/1000\n",
      "196/196 [==============================] - 13s 65ms/step - loss: 0.0151\n",
      "Epoch 94/1000\n",
      "196/196 [==============================] - 13s 66ms/step - loss: 0.0153\n",
      "Epoch 95/1000\n",
      "196/196 [==============================] - 13s 66ms/step - loss: 0.0144\n",
      "Epoch 96/1000\n"
     ]
    },
    {
     "name": "stdout",
     "output_type": "stream",
     "text": [
      "196/196 [==============================] - 13s 66ms/step - loss: 0.0146\n",
      "Epoch 97/1000\n",
      "196/196 [==============================] - 13s 66ms/step - loss: 0.0152\n",
      "Epoch 98/1000\n",
      "196/196 [==============================] - 13s 64ms/step - loss: 0.0140\n",
      "Epoch 99/1000\n",
      "196/196 [==============================] - 13s 65ms/step - loss: 0.0144\n",
      "Epoch 100/1000\n",
      "196/196 [==============================] - 13s 65ms/step - loss: 0.0145\n",
      "Epoch 101/1000\n",
      "196/196 [==============================] - 13s 65ms/step - loss: 0.0142\n",
      "Epoch 102/1000\n",
      "196/196 [==============================] - 13s 64ms/step - loss: 0.0146\n",
      "Epoch 103/1000\n",
      "196/196 [==============================] - 13s 65ms/step - loss: 0.0115\n",
      "Epoch 104/1000\n",
      "196/196 [==============================] - 13s 66ms/step - loss: 0.0147\n",
      "Epoch 105/1000\n",
      "196/196 [==============================] - 13s 65ms/step - loss: 0.0149\n",
      "Epoch 106/1000\n",
      "196/196 [==============================] - 13s 64ms/step - loss: 0.0143\n",
      "Epoch 107/1000\n",
      "196/196 [==============================] - 13s 65ms/step - loss: 0.0144\n",
      "Epoch 108/1000\n",
      "196/196 [==============================] - 12s 63ms/step - loss: 0.0135\n",
      "Epoch 109/1000\n",
      "196/196 [==============================] - 13s 64ms/step - loss: 0.0133\n",
      "Epoch 110/1000\n",
      "196/196 [==============================] - 13s 64ms/step - loss: 0.0132\n",
      "Epoch 111/1000\n",
      "196/196 [==============================] - 12s 63ms/step - loss: 0.0145\n",
      "Epoch 112/1000\n",
      "196/196 [==============================] - 13s 64ms/step - loss: 0.0136\n",
      "Epoch 113/1000\n",
      "196/196 [==============================] - 13s 65ms/step - loss: 0.0127\n",
      "Epoch 114/1000\n",
      "196/196 [==============================] - 12s 64ms/step - loss: 0.0142\n",
      "Epoch 115/1000\n",
      "196/196 [==============================] - 13s 65ms/step - loss: 0.0135\n",
      "Epoch 116/1000\n",
      "196/196 [==============================] - 13s 65ms/step - loss: 0.0149\n",
      "Epoch 117/1000\n",
      "196/196 [==============================] - 13s 65ms/step - loss: 0.0135\n",
      "Epoch 118/1000\n",
      "196/196 [==============================] - 13s 65ms/step - loss: 0.0155\n",
      "Epoch 119/1000\n",
      "196/196 [==============================] - 13s 65ms/step - loss: 0.0128\n",
      "Epoch 120/1000\n",
      "196/196 [==============================] - 13s 65ms/step - loss: 0.0137\n",
      "Epoch 121/1000\n",
      "196/196 [==============================] - 13s 64ms/step - loss: 0.0131\n",
      "Epoch 122/1000\n",
      "196/196 [==============================] - 12s 63ms/step - loss: 0.0134\n",
      "Epoch 123/1000\n",
      "196/196 [==============================] - 13s 64ms/step - loss: 0.0151\n",
      "196/196 [==============================] - 1s 4ms/step\n"
     ]
    }
   ],
   "source": [
    "# Generate embeddings\n",
    "embeddings =z = model.fit_transform(X_scaled)"
   ]
  },
  {
   "cell_type": "markdown",
   "metadata": {},
   "source": [
    "### Plot model output"
   ]
  },
  {
   "cell_type": "code",
   "execution_count": 16,
   "metadata": {
    "ExecuteTime": {
     "end_time": "2021-01-15T20:18:21.182267Z",
     "start_time": "2021-01-15T20:18:20.686180Z"
    }
   },
   "outputs": [
    {
     "data": {
      "image/png": "[encoded data removed]",
      "text/plain": [
       "<Figure size 576x576 with 2 Axes>"
      ]
     },
     "metadata": {
      "needs_background": "light"
     },
     "output_type": "display_data"
    }
   ],
   "source": [
    "fig, ax = plt.subplots( figsize=(8, 8))\n",
    "sc = ax.scatter(\n",
    "    z[:, 0],\n",
    "    z[:, 1],\n",
    "    c=Y_train.astype(int)[:len(z)],\n",
    "    cmap=\"tab10\",\n",
    "    s=0.1,\n",
    "    alpha=0.5,\n",
    "    rasterized=True,\n",
    ")\n",
    "ax.axis('equal')\n",
    "ax.set_title(\"UMAP in Tensorflow embedding\", fontsize=20)\n",
    "plt.colorbar(sc, ax=ax);"
   ]
  },
  {
   "cell_type": "markdown",
   "metadata": {},
   "source": [
    "### Save output"
   ]
  },
  {
   "cell_type": "code",
   "execution_count": 17,
   "metadata": {
    "ExecuteTime": {
     "end_time": "2021-01-15T20:18:21.220492Z",
     "start_time": "2021-01-15T20:18:21.183708Z"
    }
   },
   "outputs": [],
   "source": [
    "from tfumap.paths import ensure_dir, MODEL_DIR"
   ]
  },
  {
   "cell_type": "code",
   "execution_count": 18,
   "metadata": {
    "ExecuteTime": {
     "end_time": "2021-01-15T20:18:21.403777Z",
     "start_time": "2021-01-15T20:18:21.221967Z"
    }
   },
   "outputs": [],
   "source": [
    "output_dir = MODEL_DIR/'projections'/ dataset / str(n_components) / algorithm\n",
    "ensure_dir(output_dir)"
   ]
  },
  {
   "cell_type": "code",
   "execution_count": 19,
   "metadata": {
    "ExecuteTime": {
     "end_time": "2021-01-15T20:18:21.439459Z",
     "start_time": "2021-01-15T20:18:21.406145Z"
    }
   },
   "outputs": [],
   "source": [
    "#vae.save(output_dir)"
   ]
  },
  {
   "cell_type": "code",
   "execution_count": 20,
   "metadata": {
    "ExecuteTime": {
     "end_time": "2021-01-15T20:18:21.652821Z",
     "start_time": "2021-01-15T20:18:21.440958Z"
    }
   },
   "outputs": [],
   "source": [
    "model.save_model(output_dir / 'iris.ivis')"
   ]
  },
  {
   "cell_type": "code",
   "execution_count": 21,
   "metadata": {
    "ExecuteTime": {
     "end_time": "2021-01-15T20:18:21.696200Z",
     "start_time": "2021-01-15T20:18:21.654573Z"
    }
   },
   "outputs": [],
   "source": [
    "#loss_df.to_pickle(output_dir / 'loss_df.pickle')"
   ]
  },
  {
   "cell_type": "code",
   "execution_count": 22,
   "metadata": {
    "ExecuteTime": {
     "end_time": "2021-01-15T20:18:21.738868Z",
     "start_time": "2021-01-15T20:18:21.697599Z"
    }
   },
   "outputs": [],
   "source": [
    "np.save(output_dir / 'z.npy', z)"
   ]
  },
  {
   "cell_type": "markdown",
   "metadata": {},
   "source": [
    "### compute metrics "
   ]
  },
  {
   "cell_type": "code",
   "execution_count": 23,
   "metadata": {
    "ExecuteTime": {
     "end_time": "2021-01-15T20:18:21.778013Z",
     "start_time": "2021-01-15T20:18:21.740989Z"
    }
   },
   "outputs": [
    {
     "data": {
      "text/plain": [
       "(1000, 32, 32)"
      ]
     },
     "execution_count": 23,
     "metadata": {},
     "output_type": "execute_result"
    }
   ],
   "source": [
    "X_test.shape"
   ]
  },
  {
   "cell_type": "code",
   "execution_count": 24,
   "metadata": {
    "ExecuteTime": {
     "end_time": "2021-01-15T20:18:21.922731Z",
     "start_time": "2021-01-15T20:18:21.782217Z"
    }
   },
   "outputs": [
    {
     "name": "stdout",
     "output_type": "stream",
     "text": [
      "8/8 [==============================] - 0s 7ms/step\n"
     ]
    }
   ],
   "source": [
    "z_test = model.transform(x_scaler.transform(X_test_flat).reshape([len(X_test)]+ list(dims)))"
   ]
  },
  {
   "cell_type": "markdown",
   "metadata": {},
   "source": [
    "#### silhouette"
   ]
  },
  {
   "cell_type": "code",
   "execution_count": 25,
   "metadata": {
    "ExecuteTime": {
     "end_time": "2021-01-15T20:18:21.962621Z",
     "start_time": "2021-01-15T20:18:21.925899Z"
    }
   },
   "outputs": [],
   "source": [
    "from tfumap.silhouette import silhouette_score_block"
   ]
  },
  {
   "cell_type": "code",
   "execution_count": 26,
   "metadata": {
    "ExecuteTime": {
     "end_time": "2021-01-15T20:18:29.469275Z",
     "start_time": "2021-01-15T20:18:21.964296Z"
    }
   },
   "outputs": [
    {
     "data": {
      "text/plain": [
       "0.33321646097368623"
      ]
     },
     "execution_count": 26,
     "metadata": {},
     "output_type": "execute_result"
    }
   ],
   "source": [
    "ss, sil_samp = silhouette_score_block(z, Y_train, n_jobs = -1)\n",
    "ss"
   ]
  },
  {
   "cell_type": "code",
   "execution_count": 27,
   "metadata": {
    "ExecuteTime": {
     "end_time": "2021-01-15T20:18:29.675284Z",
     "start_time": "2021-01-15T20:18:29.470873Z"
    }
   },
   "outputs": [
    {
     "data": {
      "text/plain": [
       "0.40246571524715674"
      ]
     },
     "execution_count": 27,
     "metadata": {},
     "output_type": "execute_result"
    }
   ],
   "source": [
    "ss_test, sil_samp_test = silhouette_score_block(z_test, Y_test, n_jobs = -1)\n",
    "ss_test"
   ]
  },
  {
   "cell_type": "code",
   "execution_count": 28,
   "metadata": {
    "ExecuteTime": {
     "end_time": "2021-01-15T20:18:30.105106Z",
     "start_time": "2021-01-15T20:18:29.676644Z"
    }
   },
   "outputs": [
    {
     "data": {
      "text/plain": [
       "<matplotlib.collections.PathCollection at 0x7efe62567750>"
      ]
     },
     "execution_count": 28,
     "metadata": {},
     "output_type": "execute_result"
    },
    {
     "data": {
      "image/png": "[encoded data removed]",
      "text/plain": [
       "<Figure size 720x360 with 2 Axes>"
      ]
     },
     "metadata": {
      "needs_background": "light"
     },
     "output_type": "display_data"
    }
   ],
   "source": [
    "fig, axs = plt.subplots(ncols = 2, figsize=(10, 5))\n",
    "axs[0].scatter(z[:, 0], z[:, 1], s=0.1, alpha=0.5, c=sil_samp, cmap=plt.cm.viridis)\n",
    "axs[1].scatter(z_test[:, 0], z_test[:, 1], s=1, alpha=0.5, c=sil_samp_test, cmap=plt.cm.viridis)"
   ]
  },
  {
   "cell_type": "markdown",
   "metadata": {},
   "source": [
    "#### KNN"
   ]
  },
  {
   "cell_type": "code",
   "execution_count": 29,
   "metadata": {
    "ExecuteTime": {
     "end_time": "2021-01-15T20:18:30.138528Z",
     "start_time": "2021-01-15T20:18:30.106370Z"
    }
   },
   "outputs": [],
   "source": [
    "from sklearn.neighbors import KNeighborsClassifier"
   ]
  },
  {
   "cell_type": "code",
   "execution_count": 30,
   "metadata": {
    "ExecuteTime": {
     "end_time": "2021-01-15T20:18:30.773174Z",
     "start_time": "2021-01-15T20:18:30.140395Z"
    }
   },
   "outputs": [
    {
     "data": {
      "text/plain": [
       "0.994"
      ]
     },
     "execution_count": 30,
     "metadata": {},
     "output_type": "execute_result"
    }
   ],
   "source": [
    "neigh5 = KNeighborsClassifier(n_neighbors=5)\n",
    "neigh5.fit(z, Y_train)\n",
    "score_5nn = neigh5.score(z_test, Y_test)\n",
    "score_5nn"
   ]
  },
  {
   "cell_type": "code",
   "execution_count": 31,
   "metadata": {
    "ExecuteTime": {
     "end_time": "2021-01-15T20:18:31.169586Z",
     "start_time": "2021-01-15T20:18:30.774485Z"
    }
   },
   "outputs": [
    {
     "data": {
      "text/plain": [
       "0.995"
      ]
     },
     "execution_count": 31,
     "metadata": {},
     "output_type": "execute_result"
    }
   ],
   "source": [
    "neigh1 = KNeighborsClassifier(n_neighbors=1)\n",
    "neigh1.fit(z, Y_train)\n",
    "score_1nn = neigh1.score(z_test, Y_test)\n",
    "score_1nn"
   ]
  },
  {
   "cell_type": "markdown",
   "metadata": {},
   "source": [
    "#### Trustworthiness"
   ]
  },
  {
   "cell_type": "code",
   "execution_count": 32,
   "metadata": {
    "ExecuteTime": {
     "end_time": "2021-01-15T20:18:31.209317Z",
     "start_time": "2021-01-15T20:18:31.171319Z"
    }
   },
   "outputs": [],
   "source": [
    "from sklearn.manifold import trustworthiness"
   ]
  },
  {
   "cell_type": "code",
   "execution_count": 33,
   "metadata": {
    "ExecuteTime": {
     "end_time": "2021-01-15T20:18:45.152466Z",
     "start_time": "2021-01-15T20:18:31.210575Z"
    }
   },
   "outputs": [],
   "source": [
    "tw = trustworthiness(X_train_flat[:10000], z[:10000])"
   ]
  },
  {
   "cell_type": "code",
   "execution_count": 34,
   "metadata": {
    "ExecuteTime": {
     "end_time": "2021-01-15T20:18:45.351330Z",
     "start_time": "2021-01-15T20:18:45.154955Z"
    }
   },
   "outputs": [],
   "source": [
    "tw_test = trustworthiness(X_test_flat[:10000], z_test[:10000])"
   ]
  },
  {
   "cell_type": "code",
   "execution_count": 35,
   "metadata": {
    "ExecuteTime": {
     "end_time": "2021-01-15T20:18:45.389203Z",
     "start_time": "2021-01-15T20:18:45.353414Z"
    }
   },
   "outputs": [
    {
     "data": {
      "text/plain": [
       "(0.9948738791032826, 0.994123185483871)"
      ]
     },
     "execution_count": 35,
     "metadata": {},
     "output_type": "execute_result"
    }
   ],
   "source": [
    "tw, tw_test"
   ]
  },
  {
   "cell_type": "markdown",
   "metadata": {},
   "source": [
    "### Save output metrics"
   ]
  },
  {
   "cell_type": "code",
   "execution_count": 36,
   "metadata": {
    "ExecuteTime": {
     "end_time": "2021-01-15T20:18:45.425350Z",
     "start_time": "2021-01-15T20:18:45.390307Z"
    }
   },
   "outputs": [],
   "source": [
    "from tfumap.paths import ensure_dir, MODEL_DIR, DATA_DIR"
   ]
  },
  {
   "cell_type": "markdown",
   "metadata": {},
   "source": [
    "#### train"
   ]
  },
  {
   "cell_type": "code",
   "execution_count": 37,
   "metadata": {
    "ExecuteTime": {
     "end_time": "2021-01-15T20:18:45.490328Z",
     "start_time": "2021-01-15T20:18:45.426959Z"
    }
   },
   "outputs": [
    {
     "data": {
      "text/html": [
       "<div>\n",
       "<style scoped>\n",
       "    .dataframe tbody tr th:only-of-type {\n",
       "        vertical-align: middle;\n",
       "    }\n",
       "\n",
       "    .dataframe tbody tr th {\n",
       "        vertical-align: top;\n",
       "    }\n",
       "\n",
       "    .dataframe thead th {\n",
       "        text-align: right;\n",
       "    }\n",
       "</style>\n",
       "<table border=\"1\" class=\"dataframe\">\n",
       "  <thead>\n",
       "    <tr style=\"text-align: right;\">\n",
       "      <th></th>\n",
       "      <th>dataset</th>\n",
       "      <th>class_</th>\n",
       "      <th>dim</th>\n",
       "      <th>trustworthiness</th>\n",
       "      <th>silhouette_score</th>\n",
       "      <th>silhouette_samples</th>\n",
       "    </tr>\n",
       "  </thead>\n",
       "  <tbody>\n",
       "    <tr>\n",
       "      <th>0</th>\n",
       "      <td>cassins</td>\n",
       "      <td>ivis</td>\n",
       "      <td>64</td>\n",
       "      <td>0.994874</td>\n",
       "      <td>0.333216</td>\n",
       "      <td>[0.4673506116866651, 0.4039921277471377, 0.331...</td>\n",
       "    </tr>\n",
       "  </tbody>\n",
       "</table>\n",
       "</div>"
      ],
      "text/plain": [
       "   dataset class_ dim  trustworthiness  silhouette_score  \\\n",
       "0  cassins   ivis  64         0.994874          0.333216   \n",
       "\n",
       "                                  silhouette_samples  \n",
       "0  [0.4673506116866651, 0.4039921277471377, 0.331...  "
      ]
     },
     "execution_count": 37,
     "metadata": {},
     "output_type": "execute_result"
    }
   ],
   "source": [
    "metrics_df = pd.DataFrame(\n",
    "    columns=[\n",
    "        \"dataset\",\n",
    "        \"class_\",\n",
    "        \"dim\",\n",
    "        \"trustworthiness\",\n",
    "        \"silhouette_score\",\n",
    "        \"silhouette_samples\",\n",
    "    ]\n",
    ")\n",
    "metrics_df.loc[len(metrics_df)] = [dataset, algorithm, n_components, tw, ss, sil_samp]\n",
    "metrics_df"
   ]
  },
  {
   "cell_type": "code",
   "execution_count": 38,
   "metadata": {
    "ExecuteTime": {
     "end_time": "2021-01-15T20:18:45.528345Z",
     "start_time": "2021-01-15T20:18:45.491606Z"
    }
   },
   "outputs": [],
   "source": [
    "save_loc = DATA_DIR / 'projection_metrics' /  algorithm / 'train' / str(n_components) / (dataset + '.pickle')\n",
    "ensure_dir(save_loc)\n",
    "metrics_df.to_pickle(save_loc)"
   ]
  },
  {
   "cell_type": "markdown",
   "metadata": {},
   "source": [
    "#### test"
   ]
  },
  {
   "cell_type": "code",
   "execution_count": 39,
   "metadata": {
    "ExecuteTime": {
     "end_time": "2021-01-15T20:18:45.575464Z",
     "start_time": "2021-01-15T20:18:45.530173Z"
    }
   },
   "outputs": [
    {
     "data": {
      "text/html": [
       "<div>\n",
       "<style scoped>\n",
       "    .dataframe tbody tr th:only-of-type {\n",
       "        vertical-align: middle;\n",
       "    }\n",
       "\n",
       "    .dataframe tbody tr th {\n",
       "        vertical-align: top;\n",
       "    }\n",
       "\n",
       "    .dataframe thead th {\n",
       "        text-align: right;\n",
       "    }\n",
       "</style>\n",
       "<table border=\"1\" class=\"dataframe\">\n",
       "  <thead>\n",
       "    <tr style=\"text-align: right;\">\n",
       "      <th></th>\n",
       "      <th>dataset</th>\n",
       "      <th>class_</th>\n",
       "      <th>dim</th>\n",
       "      <th>trustworthiness</th>\n",
       "      <th>silhouette_score</th>\n",
       "      <th>silhouette_samples</th>\n",
       "    </tr>\n",
       "  </thead>\n",
       "  <tbody>\n",
       "    <tr>\n",
       "      <th>1</th>\n",
       "      <td>cassins</td>\n",
       "      <td>ivis</td>\n",
       "      <td>64</td>\n",
       "      <td>0.994123</td>\n",
       "      <td>0.402466</td>\n",
       "      <td>[0.3616116382157571, 0.499880753674967, 0.1840...</td>\n",
       "    </tr>\n",
       "  </tbody>\n",
       "</table>\n",
       "</div>"
      ],
      "text/plain": [
       "   dataset class_ dim  trustworthiness  silhouette_score  \\\n",
       "1  cassins   ivis  64         0.994123          0.402466   \n",
       "\n",
       "                                  silhouette_samples  \n",
       "1  [0.3616116382157571, 0.499880753674967, 0.1840...  "
      ]
     },
     "execution_count": 39,
     "metadata": {},
     "output_type": "execute_result"
    }
   ],
   "source": [
    "metrics_df_test = pd.DataFrame(\n",
    "    columns=[\n",
    "        \"dataset\",\n",
    "        \"class_\",\n",
    "        \"dim\",\n",
    "        \"trustworthiness\",\n",
    "        \"silhouette_score\",\n",
    "        \"silhouette_samples\",\n",
    "    ]\n",
    ")\n",
    "metrics_df_test.loc[len(metrics_df)] = [dataset, algorithm, n_components, tw_test, ss_test, sil_samp_test]\n",
    "metrics_df_test"
   ]
  },
  {
   "cell_type": "code",
   "execution_count": 40,
   "metadata": {
    "ExecuteTime": {
     "end_time": "2021-01-15T20:18:45.613447Z",
     "start_time": "2021-01-15T20:18:45.576631Z"
    }
   },
   "outputs": [],
   "source": [
    "save_loc = DATA_DIR / 'projection_metrics' / algorithm / 'test' / str(n_components) / (dataset + '.pickle')\n",
    "ensure_dir(save_loc)\n",
    "metrics_df.to_pickle(save_loc)"
   ]
  },
  {
   "cell_type": "markdown",
   "metadata": {},
   "source": [
    "#### knn "
   ]
  },
  {
   "cell_type": "code",
   "execution_count": 41,
   "metadata": {
    "ExecuteTime": {
     "end_time": "2021-01-15T20:18:45.659500Z",
     "start_time": "2021-01-15T20:18:45.615181Z"
    }
   },
   "outputs": [
    {
     "data": {
      "text/html": [
       "<div>\n",
       "<style scoped>\n",
       "    .dataframe tbody tr th:only-of-type {\n",
       "        vertical-align: middle;\n",
       "    }\n",
       "\n",
       "    .dataframe tbody tr th {\n",
       "        vertical-align: top;\n",
       "    }\n",
       "\n",
       "    .dataframe thead th {\n",
       "        text-align: right;\n",
       "    }\n",
       "</style>\n",
       "<table border=\"1\" class=\"dataframe\">\n",
       "  <thead>\n",
       "    <tr style=\"text-align: right;\">\n",
       "      <th></th>\n",
       "      <th>method_</th>\n",
       "      <th>dimensions</th>\n",
       "      <th>dataset</th>\n",
       "      <th>1NN_acc</th>\n",
       "      <th>5NN_acc</th>\n",
       "    </tr>\n",
       "  </thead>\n",
       "  <tbody>\n",
       "    <tr>\n",
       "      <th>0</th>\n",
       "      <td>ivis</td>\n",
       "      <td>64</td>\n",
       "      <td>cassins</td>\n",
       "      <td>0.995</td>\n",
       "      <td>0.994</td>\n",
       "    </tr>\n",
       "  </tbody>\n",
       "</table>\n",
       "</div>"
      ],
      "text/plain": [
       "  method_ dimensions  dataset  1NN_acc  5NN_acc\n",
       "0    ivis         64  cassins    0.995    0.994"
      ]
     },
     "execution_count": 41,
     "metadata": {},
     "output_type": "execute_result"
    }
   ],
   "source": [
    "nn_acc_df = pd.DataFrame(columns = [\"method_\",\"dimensions\",\"dataset\",\"1NN_acc\",\"5NN_acc\"])\n",
    "nn_acc_df.loc[len(nn_acc_df)] = [algorithm, n_components, dataset,  score_1nn, score_5nn]\n",
    "nn_acc_df"
   ]
  },
  {
   "cell_type": "code",
   "execution_count": 42,
   "metadata": {
    "ExecuteTime": {
     "end_time": "2021-01-15T20:18:45.717900Z",
     "start_time": "2021-01-15T20:18:45.660591Z"
    }
   },
   "outputs": [],
   "source": [
    "save_loc = DATA_DIR / 'knn_classifier' / algorithm / 'train' / str(n_components) / (dataset + '.pickle')\n",
    "ensure_dir(save_loc)\n",
    "nn_acc_df.to_pickle(save_loc)"
   ]
  },
  {
   "cell_type": "code",
   "execution_count": 43,
   "metadata": {
    "ExecuteTime": {
     "end_time": "2021-01-15T20:18:45.752060Z",
     "start_time": "2021-01-15T20:18:45.720147Z"
    }
   },
   "outputs": [
    {
     "data": {
      "text/plain": [
       "PosixPath('/mnt/cube/tsainbur/Projects/github_repos/umap_tf_networks/data/knn_classifier/ivis/train/64/cassins.pickle')"
      ]
     },
     "execution_count": 43,
     "metadata": {},
     "output_type": "execute_result"
    }
   ],
   "source": [
    "DATA_DIR / 'knn_classifier' / algorithm / 'train' / str(n_components) / (dataset + '.pickle')"
   ]
  },
  {
   "cell_type": "markdown",
   "metadata": {},
   "source": [
    "### Compute clustering quality"
   ]
  },
  {
   "cell_type": "code",
   "execution_count": 44,
   "metadata": {
    "ExecuteTime": {
     "end_time": "2021-01-15T20:18:45.787699Z",
     "start_time": "2021-01-15T20:18:45.753019Z"
    }
   },
   "outputs": [],
   "source": [
    "from sklearn.cluster import KMeans\n",
    "from sklearn.metrics import homogeneity_completeness_v_measure"
   ]
  },
  {
   "cell_type": "code",
   "execution_count": 45,
   "metadata": {
    "ExecuteTime": {
     "end_time": "2021-01-15T20:18:45.823309Z",
     "start_time": "2021-01-15T20:18:45.789080Z"
    }
   },
   "outputs": [],
   "source": [
    "def get_cluster_metrics(row, n_init=5):\n",
    "    \n",
    "    # load cluster information\n",
    "    save_loc = DATA_DIR / 'clustering_metric_df'/ ('_'.join([row.class_, str(row.dim), row.dataset]) + '.pickle')\n",
    "    print(save_loc)\n",
    "    if save_loc.exists() and save_loc.is_file():\n",
    "        \n",
    "        cluster_df = pd.read_pickle(save_loc)\n",
    "        return cluster_df\n",
    "    \n",
    "    # make cluster metric dataframe\n",
    "    cluster_df = pd.DataFrame(\n",
    "        columns=[\n",
    "            \"dataset\",\n",
    "            \"class_\",\n",
    "            \"dim\",\n",
    "            \"silhouette\",\n",
    "            \"homogeneity\",\n",
    "            \"completeness\",\n",
    "            \"v_measure\",\n",
    "            \"init_\",\n",
    "            \"n_clusters\",\n",
    "            \"model\",\n",
    "        ]\n",
    "    )\n",
    "    y = row.train_label\n",
    "    z = row.train_z\n",
    "    n_labels = len(np.unique(y))\n",
    "    for n_clusters in tqdm(np.arange(n_labels - int(n_labels / 2), n_labels + int(n_labels / 2)), leave=False, desc = 'n_clusters'):\n",
    "        for init_ in tqdm(range(n_init), leave=False, desc='init'):\n",
    "            kmeans = KMeans(n_clusters=n_clusters, random_state=init_).fit(z)\n",
    "            clustered_y = kmeans.labels_\n",
    "            homogeneity, completeness, v_measure = homogeneity_completeness_v_measure(\n",
    "                np.array(y).flatten(), np.array(clustered_y).flatten()\n",
    "            )\n",
    "            ss, _ = silhouette_score_block(z, clustered_y)\n",
    "            cluster_df.loc[len(cluster_df)] = [\n",
    "                row.dataset,\n",
    "                row.class_,\n",
    "                row.dim,\n",
    "                ss,\n",
    "                homogeneity,\n",
    "                completeness,\n",
    "                v_measure,\n",
    "                init_,\n",
    "                n_clusters,\n",
    "                kmeans,\n",
    "            ]\n",
    "    \n",
    "     # save cluster df in case this fails somewhere\n",
    "    ensure_dir(save_loc)\n",
    "    cluster_df.to_pickle(save_loc)\n",
    "    return cluster_df"
   ]
  },
  {
   "cell_type": "code",
   "execution_count": 46,
   "metadata": {
    "ExecuteTime": {
     "end_time": "2021-01-15T20:18:45.952079Z",
     "start_time": "2021-01-15T20:18:45.824652Z"
    }
   },
   "outputs": [
    {
     "data": {
      "text/html": [
       "<div>\n",
       "<style scoped>\n",
       "    .dataframe tbody tr th:only-of-type {\n",
       "        vertical-align: middle;\n",
       "    }\n",
       "\n",
       "    .dataframe tbody tr th {\n",
       "        vertical-align: top;\n",
       "    }\n",
       "\n",
       "    .dataframe thead th {\n",
       "        text-align: right;\n",
       "    }\n",
       "</style>\n",
       "<table border=\"1\" class=\"dataframe\">\n",
       "  <thead>\n",
       "    <tr style=\"text-align: right;\">\n",
       "      <th></th>\n",
       "      <th>dataset</th>\n",
       "      <th>class_</th>\n",
       "      <th>train_z</th>\n",
       "      <th>train_label</th>\n",
       "      <th>dim</th>\n",
       "    </tr>\n",
       "  </thead>\n",
       "  <tbody>\n",
       "    <tr>\n",
       "      <th>0</th>\n",
       "      <td>cassins</td>\n",
       "      <td>ivis</td>\n",
       "      <td>[[0.31865934, 2.3080986, -1.3990461, -0.531790...</td>\n",
       "      <td>[14, 11, 11, 11, 11, 11, 11, 11, 11, 17, 0, 0,...</td>\n",
       "      <td>64</td>\n",
       "    </tr>\n",
       "  </tbody>\n",
       "</table>\n",
       "</div>"
      ],
      "text/plain": [
       "   dataset class_                                            train_z  \\\n",
       "0  cassins   ivis  [[0.31865934, 2.3080986, -1.3990461, -0.531790...   \n",
       "\n",
       "                                         train_label dim  \n",
       "0  [14, 11, 11, 11, 11, 11, 11, 11, 11, 17, 0, 0,...  64  "
      ]
     },
     "execution_count": 46,
     "metadata": {},
     "output_type": "execute_result"
    }
   ],
   "source": [
    "projection_df = pd.DataFrame(columns = ['dataset', 'class_', 'train_z', 'train_label', 'dim'])\n",
    "projection_df.loc[len(projection_df)] = [dataset, algorithm, z, Y_train, n_components]\n",
    "projection_df"
   ]
  },
  {
   "cell_type": "code",
   "execution_count": 47,
   "metadata": {
    "ExecuteTime": {
     "end_time": "2021-01-15T20:18:46.032141Z",
     "start_time": "2021-01-15T20:18:45.953346Z"
    }
   },
   "outputs": [],
   "source": [
    "??get_cluster_metrics"
   ]
  },
  {
   "cell_type": "code",
   "execution_count": 48,
   "metadata": {
    "ExecuteTime": {
     "end_time": "2021-01-15T20:39:09.838317Z",
     "start_time": "2021-01-15T20:18:46.034133Z"
    }
   },
   "outputs": [
    {
     "name": "stdout",
     "output_type": "stream",
     "text": [
      "/mnt/cube/tsainbur/Projects/github_repos/umap_tf_networks/data/clustering_metric_df/ivis_64_cassins.pickle\n"
     ]
    },
    {
     "data": {
      "application/vnd.jupyter.widget-view+json": {
       "model_id": "",
       "version_major": 2,
       "version_minor": 0
      },
      "text/plain": [
       "n_clusters:   0%|          | 0/20 [00:00<?, ?it/s]"
      ]
     },
     "metadata": {},
     "output_type": "display_data"
    },
    {
     "data": {
      "application/vnd.jupyter.widget-view+json": {
       "model_id": "",
       "version_major": 2,
       "version_minor": 0
      },
      "text/plain": [
       "init:   0%|          | 0/5 [00:00<?, ?it/s]"
      ]
     },
     "metadata": {},
     "output_type": "display_data"
    },
    {
     "data": {
      "application/vnd.jupyter.widget-view+json": {
       "model_id": "",
       "version_major": 2,
       "version_minor": 0
      },
      "text/plain": [
       "init:   0%|          | 0/5 [00:00<?, ?it/s]"
      ]
     },
     "metadata": {},
     "output_type": "display_data"
    },
    {
     "data": {
      "application/vnd.jupyter.widget-view+json": {
       "model_id": "",
       "version_major": 2,
       "version_minor": 0
      },
      "text/plain": [
       "init:   0%|          | 0/5 [00:00<?, ?it/s]"
      ]
     },
     "metadata": {},
     "output_type": "display_data"
    },
    {
     "data": {
      "application/vnd.jupyter.widget-view+json": {
       "model_id": "",
       "version_major": 2,
       "version_minor": 0
      },
      "text/plain": [
       "init:   0%|          | 0/5 [00:00<?, ?it/s]"
      ]
     },
     "metadata": {},
     "output_type": "display_data"
    },
    {
     "data": {
      "application/vnd.jupyter.widget-view+json": {
       "model_id": "",
       "version_major": 2,
       "version_minor": 0
      },
      "text/plain": [
       "init:   0%|          | 0/5 [00:00<?, ?it/s]"
      ]
     },
     "metadata": {},
     "output_type": "display_data"
    },
    {
     "data": {
      "application/vnd.jupyter.widget-view+json": {
       "model_id": "",
       "version_major": 2,
       "version_minor": 0
      },
      "text/plain": [
       "init:   0%|          | 0/5 [00:00<?, ?it/s]"
      ]
     },
     "metadata": {},
     "output_type": "display_data"
    },
    {
     "data": {
      "application/vnd.jupyter.widget-view+json": {
       "model_id": "",
       "version_major": 2,
       "version_minor": 0
      },
      "text/plain": [
       "init:   0%|          | 0/5 [00:00<?, ?it/s]"
      ]
     },
     "metadata": {},
     "output_type": "display_data"
    },
    {
     "data": {
      "application/vnd.jupyter.widget-view+json": {
       "model_id": "",
       "version_major": 2,
       "version_minor": 0
      },
      "text/plain": [
       "init:   0%|          | 0/5 [00:00<?, ?it/s]"
      ]
     },
     "metadata": {},
     "output_type": "display_data"
    },
    {
     "data": {
      "application/vnd.jupyter.widget-view+json": {
       "model_id": "",
       "version_major": 2,
       "version_minor": 0
      },
      "text/plain": [
       "init:   0%|          | 0/5 [00:00<?, ?it/s]"
      ]
     },
     "metadata": {},
     "output_type": "display_data"
    },
    {
     "data": {
      "application/vnd.jupyter.widget-view+json": {
       "model_id": "",
       "version_major": 2,
       "version_minor": 0
      },
      "text/plain": [
       "init:   0%|          | 0/5 [00:00<?, ?it/s]"
      ]
     },
     "metadata": {},
     "output_type": "display_data"
    },
    {
     "data": {
      "application/vnd.jupyter.widget-view+json": {
       "model_id": "",
       "version_major": 2,
       "version_minor": 0
      },
      "text/plain": [
       "init:   0%|          | 0/5 [00:00<?, ?it/s]"
      ]
     },
     "metadata": {},
     "output_type": "display_data"
    },
    {
     "data": {
      "application/vnd.jupyter.widget-view+json": {
       "model_id": "",
       "version_major": 2,
       "version_minor": 0
      },
      "text/plain": [
       "init:   0%|          | 0/5 [00:00<?, ?it/s]"
      ]
     },
     "metadata": {},
     "output_type": "display_data"
    },
    {
     "data": {
      "application/vnd.jupyter.widget-view+json": {
       "model_id": "",
       "version_major": 2,
       "version_minor": 0
      },
      "text/plain": [
       "init:   0%|          | 0/5 [00:00<?, ?it/s]"
      ]
     },
     "metadata": {},
     "output_type": "display_data"
    },
    {
     "data": {
      "application/vnd.jupyter.widget-view+json": {
       "model_id": "",
       "version_major": 2,
       "version_minor": 0
      },
      "text/plain": [
       "init:   0%|          | 0/5 [00:00<?, ?it/s]"
      ]
     },
     "metadata": {},
     "output_type": "display_data"
    },
    {
     "data": {
      "application/vnd.jupyter.widget-view+json": {
       "model_id": "",
       "version_major": 2,
       "version_minor": 0
      },
      "text/plain": [
       "init:   0%|          | 0/5 [00:00<?, ?it/s]"
      ]
     },
     "metadata": {},
     "output_type": "display_data"
    },
    {
     "data": {
      "application/vnd.jupyter.widget-view+json": {
       "model_id": "",
       "version_major": 2,
       "version_minor": 0
      },
      "text/plain": [
       "init:   0%|          | 0/5 [00:00<?, ?it/s]"
      ]
     },
     "metadata": {},
     "output_type": "display_data"
    },
    {
     "data": {
      "application/vnd.jupyter.widget-view+json": {
       "model_id": "",
       "version_major": 2,
       "version_minor": 0
      },
      "text/plain": [
       "init:   0%|          | 0/5 [00:00<?, ?it/s]"
      ]
     },
     "metadata": {},
     "output_type": "display_data"
    },
    {
     "data": {
      "application/vnd.jupyter.widget-view+json": {
       "model_id": "",
       "version_major": 2,
       "version_minor": 0
      },
      "text/plain": [
       "init:   0%|          | 0/5 [00:00<?, ?it/s]"
      ]
     },
     "metadata": {},
     "output_type": "display_data"
    },
    {
     "data": {
      "application/vnd.jupyter.widget-view+json": {
       "model_id": "",
       "version_major": 2,
       "version_minor": 0
      },
      "text/plain": [
       "init:   0%|          | 0/5 [00:00<?, ?it/s]"
      ]
     },
     "metadata": {},
     "output_type": "display_data"
    },
    {
     "data": {
      "application/vnd.jupyter.widget-view+json": {
       "model_id": "",
       "version_major": 2,
       "version_minor": 0
      },
      "text/plain": [
       "init:   0%|          | 0/5 [00:00<?, ?it/s]"
      ]
     },
     "metadata": {},
     "output_type": "display_data"
    },
    {
     "data": {
      "text/html": [
       "<div>\n",
       "<style scoped>\n",
       "    .dataframe tbody tr th:only-of-type {\n",
       "        vertical-align: middle;\n",
       "    }\n",
       "\n",
       "    .dataframe tbody tr th {\n",
       "        vertical-align: top;\n",
       "    }\n",
       "\n",
       "    .dataframe thead th {\n",
       "        text-align: right;\n",
       "    }\n",
       "</style>\n",
       "<table border=\"1\" class=\"dataframe\">\n",
       "  <thead>\n",
       "    <tr style=\"text-align: right;\">\n",
       "      <th></th>\n",
       "      <th>dataset</th>\n",
       "      <th>class_</th>\n",
       "      <th>dim</th>\n",
       "      <th>silhouette</th>\n",
       "      <th>homogeneity</th>\n",
       "      <th>completeness</th>\n",
       "      <th>v_measure</th>\n",
       "      <th>init_</th>\n",
       "      <th>n_clusters</th>\n",
       "      <th>model</th>\n",
       "    </tr>\n",
       "  </thead>\n",
       "  <tbody>\n",
       "    <tr>\n",
       "      <th>0</th>\n",
       "      <td>cassins</td>\n",
       "      <td>ivis</td>\n",
       "      <td>64</td>\n",
       "      <td>0.247275</td>\n",
       "      <td>0.654158</td>\n",
       "      <td>0.858642</td>\n",
       "      <td>0.742580</td>\n",
       "      <td>0</td>\n",
       "      <td>10</td>\n",
       "      <td>KMeans(n_clusters=10, random_state=0)</td>\n",
       "    </tr>\n",
       "    <tr>\n",
       "      <th>1</th>\n",
       "      <td>cassins</td>\n",
       "      <td>ivis</td>\n",
       "      <td>64</td>\n",
       "      <td>0.246352</td>\n",
       "      <td>0.669590</td>\n",
       "      <td>0.874836</td>\n",
       "      <td>0.758575</td>\n",
       "      <td>1</td>\n",
       "      <td>10</td>\n",
       "      <td>KMeans(n_clusters=10, random_state=1)</td>\n",
       "    </tr>\n",
       "    <tr>\n",
       "      <th>2</th>\n",
       "      <td>cassins</td>\n",
       "      <td>ivis</td>\n",
       "      <td>64</td>\n",
       "      <td>0.243793</td>\n",
       "      <td>0.669418</td>\n",
       "      <td>0.879097</td>\n",
       "      <td>0.760061</td>\n",
       "      <td>2</td>\n",
       "      <td>10</td>\n",
       "      <td>KMeans(n_clusters=10, random_state=2)</td>\n",
       "    </tr>\n",
       "    <tr>\n",
       "      <th>3</th>\n",
       "      <td>cassins</td>\n",
       "      <td>ivis</td>\n",
       "      <td>64</td>\n",
       "      <td>0.243042</td>\n",
       "      <td>0.646441</td>\n",
       "      <td>0.851940</td>\n",
       "      <td>0.735099</td>\n",
       "      <td>3</td>\n",
       "      <td>10</td>\n",
       "      <td>KMeans(n_clusters=10, random_state=3)</td>\n",
       "    </tr>\n",
       "    <tr>\n",
       "      <th>4</th>\n",
       "      <td>cassins</td>\n",
       "      <td>ivis</td>\n",
       "      <td>64</td>\n",
       "      <td>0.246316</td>\n",
       "      <td>0.652336</td>\n",
       "      <td>0.862661</td>\n",
       "      <td>0.742899</td>\n",
       "      <td>4</td>\n",
       "      <td>10</td>\n",
       "      <td>KMeans(n_clusters=10, random_state=4)</td>\n",
       "    </tr>\n",
       "    <tr>\n",
       "      <th>...</th>\n",
       "      <td>...</td>\n",
       "      <td>...</td>\n",
       "      <td>...</td>\n",
       "      <td>...</td>\n",
       "      <td>...</td>\n",
       "      <td>...</td>\n",
       "      <td>...</td>\n",
       "      <td>...</td>\n",
       "      <td>...</td>\n",
       "      <td>...</td>\n",
       "    </tr>\n",
       "    <tr>\n",
       "      <th>95</th>\n",
       "      <td>cassins</td>\n",
       "      <td>ivis</td>\n",
       "      <td>64</td>\n",
       "      <td>0.321081</td>\n",
       "      <td>0.930633</td>\n",
       "      <td>0.824677</td>\n",
       "      <td>0.874457</td>\n",
       "      <td>0</td>\n",
       "      <td>29</td>\n",
       "      <td>KMeans(n_clusters=29, random_state=0)</td>\n",
       "    </tr>\n",
       "    <tr>\n",
       "      <th>96</th>\n",
       "      <td>cassins</td>\n",
       "      <td>ivis</td>\n",
       "      <td>64</td>\n",
       "      <td>0.307630</td>\n",
       "      <td>0.931893</td>\n",
       "      <td>0.825559</td>\n",
       "      <td>0.875509</td>\n",
       "      <td>1</td>\n",
       "      <td>29</td>\n",
       "      <td>KMeans(n_clusters=29, random_state=1)</td>\n",
       "    </tr>\n",
       "    <tr>\n",
       "      <th>97</th>\n",
       "      <td>cassins</td>\n",
       "      <td>ivis</td>\n",
       "      <td>64</td>\n",
       "      <td>0.310046</td>\n",
       "      <td>0.932817</td>\n",
       "      <td>0.831154</td>\n",
       "      <td>0.879056</td>\n",
       "      <td>2</td>\n",
       "      <td>29</td>\n",
       "      <td>KMeans(n_clusters=29, random_state=2)</td>\n",
       "    </tr>\n",
       "    <tr>\n",
       "      <th>98</th>\n",
       "      <td>cassins</td>\n",
       "      <td>ivis</td>\n",
       "      <td>64</td>\n",
       "      <td>0.316958</td>\n",
       "      <td>0.932367</td>\n",
       "      <td>0.825547</td>\n",
       "      <td>0.875712</td>\n",
       "      <td>3</td>\n",
       "      <td>29</td>\n",
       "      <td>KMeans(n_clusters=29, random_state=3)</td>\n",
       "    </tr>\n",
       "    <tr>\n",
       "      <th>99</th>\n",
       "      <td>cassins</td>\n",
       "      <td>ivis</td>\n",
       "      <td>64</td>\n",
       "      <td>0.313943</td>\n",
       "      <td>0.932331</td>\n",
       "      <td>0.824379</td>\n",
       "      <td>0.875039</td>\n",
       "      <td>4</td>\n",
       "      <td>29</td>\n",
       "      <td>KMeans(n_clusters=29, random_state=4)</td>\n",
       "    </tr>\n",
       "  </tbody>\n",
       "</table>\n",
       "<p>100 rows × 10 columns</p>\n",
       "</div>"
      ],
      "text/plain": [
       "    dataset class_ dim  silhouette  homogeneity  completeness  v_measure  \\\n",
       "0   cassins   ivis  64    0.247275     0.654158      0.858642   0.742580   \n",
       "1   cassins   ivis  64    0.246352     0.669590      0.874836   0.758575   \n",
       "2   cassins   ivis  64    0.243793     0.669418      0.879097   0.760061   \n",
       "3   cassins   ivis  64    0.243042     0.646441      0.851940   0.735099   \n",
       "4   cassins   ivis  64    0.246316     0.652336      0.862661   0.742899   \n",
       "..      ...    ...  ..         ...          ...           ...        ...   \n",
       "95  cassins   ivis  64    0.321081     0.930633      0.824677   0.874457   \n",
       "96  cassins   ivis  64    0.307630     0.931893      0.825559   0.875509   \n",
       "97  cassins   ivis  64    0.310046     0.932817      0.831154   0.879056   \n",
       "98  cassins   ivis  64    0.316958     0.932367      0.825547   0.875712   \n",
       "99  cassins   ivis  64    0.313943     0.932331      0.824379   0.875039   \n",
       "\n",
       "   init_ n_clusters                                  model  \n",
       "0      0         10  KMeans(n_clusters=10, random_state=0)  \n",
       "1      1         10  KMeans(n_clusters=10, random_state=1)  \n",
       "2      2         10  KMeans(n_clusters=10, random_state=2)  \n",
       "3      3         10  KMeans(n_clusters=10, random_state=3)  \n",
       "4      4         10  KMeans(n_clusters=10, random_state=4)  \n",
       "..   ...        ...                                    ...  \n",
       "95     0         29  KMeans(n_clusters=29, random_state=0)  \n",
       "96     1         29  KMeans(n_clusters=29, random_state=1)  \n",
       "97     2         29  KMeans(n_clusters=29, random_state=2)  \n",
       "98     3         29  KMeans(n_clusters=29, random_state=3)  \n",
       "99     4         29  KMeans(n_clusters=29, random_state=4)  \n",
       "\n",
       "[100 rows x 10 columns]"
      ]
     },
     "execution_count": 48,
     "metadata": {},
     "output_type": "execute_result"
    }
   ],
   "source": [
    "get_cluster_metrics(projection_df.iloc[0], n_init=5)"
   ]
  },
  {
   "cell_type": "code",
   "execution_count": null,
   "metadata": {},
   "outputs": [],
   "source": []
  },
  {
   "cell_type": "code",
   "execution_count": null,
   "metadata": {},
   "outputs": [],
   "source": []
  },
  {
   "cell_type": "code",
   "execution_count": null,
   "metadata": {},
   "outputs": [],
   "source": []
  },
  {
   "cell_type": "code",
   "execution_count": null,
   "metadata": {},
   "outputs": [],
   "source": []
  },
  {
   "cell_type": "code",
   "execution_count": null,
   "metadata": {},
   "outputs": [],
   "source": []
  }
 ],
 "metadata": {
  "kernelspec": {
   "display_name": "Python [conda env:tfumap]",
   "language": "python",
   "name": "conda-env-tfumap-py"
  },
  "language_info": {
   "codemirror_mode": {
    "name": "ipython",
    "version": 3
   },
   "file_extension": ".py",
   "mimetype": "text/x-python",
   "name": "python",
   "nbconvert_exporter": "python",
   "pygments_lexer": "ipython3",
   "version": "3.7.9"
  }
 },
 "nbformat": 4,
 "nbformat_minor": 4
}
