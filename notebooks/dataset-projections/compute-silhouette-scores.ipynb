{
 "cells": [
  {
   "cell_type": "markdown",
   "metadata": {},
   "source": [
    "### Metrics\n",
    "- for each dataset, load x and z, then compute silhouette score and trustworthiness\n",
    "- save metrics to a pandas dataframe"
   ]
  },
  {
   "cell_type": "code",
   "execution_count": 1,
   "metadata": {
    "ExecuteTime": {
     "end_time": "2020-08-22T00:04:07.089558Z",
     "start_time": "2020-08-22T00:04:06.409034Z"
    }
   },
   "outputs": [],
   "source": [
    "import numpy as np\n",
    "import pandas as pd"
   ]
  },
  {
   "cell_type": "code",
   "execution_count": 2,
   "metadata": {
    "ExecuteTime": {
     "end_time": "2020-08-22T00:04:07.646107Z",
     "start_time": "2020-08-22T00:04:07.091712Z"
    }
   },
   "outputs": [],
   "source": [
    "from sklearn.manifold import trustworthiness\n",
    "from sklearn.metrics import silhouette_score"
   ]
  },
  {
   "cell_type": "code",
   "execution_count": 3,
   "metadata": {
    "ExecuteTime": {
     "end_time": "2020-08-22T00:04:07.697391Z",
     "start_time": "2020-08-22T00:04:07.647579Z"
    }
   },
   "outputs": [
    {
     "name": "stderr",
     "output_type": "stream",
     "text": [
      "/mnt/cube/tsainbur/conda_envs/tpy3/lib/python3.6/site-packages/tqdm/autonotebook/__init__.py:14: TqdmExperimentalWarning: Using `tqdm.autonotebook.tqdm` in notebook mode. Use `tqdm.tqdm` instead to force console mode (e.g. in jupyter console)\n",
      "  \" (e.g. in jupyter console)\", TqdmExperimentalWarning)\n"
     ]
    }
   ],
   "source": [
    "from tqdm.autonotebook import tqdm"
   ]
  },
  {
   "cell_type": "code",
   "execution_count": 4,
   "metadata": {
    "ExecuteTime": {
     "end_time": "2020-08-22T00:04:07.829827Z",
     "start_time": "2020-08-22T00:04:07.699885Z"
    }
   },
   "outputs": [],
   "source": [
    "from tfumap.paths import ensure_dir, MODEL_DIR, DATA_DIR"
   ]
  },
  {
   "cell_type": "code",
   "execution_count": 5,
   "metadata": {
    "ExecuteTime": {
     "end_time": "2020-08-22T00:04:07.833226Z",
     "start_time": "2020-08-22T00:04:07.831189Z"
    }
   },
   "outputs": [],
   "source": [
    "output_dir = MODEL_DIR/'projections' "
   ]
  },
  {
   "cell_type": "code",
   "execution_count": 6,
   "metadata": {
    "ExecuteTime": {
     "end_time": "2020-08-22T00:04:07.856204Z",
     "start_time": "2020-08-22T00:04:07.835228Z"
    }
   },
   "outputs": [],
   "source": [
    "#from https://gist.github.com/AlexandreAbraham/5544803\n",
    "from sklearn.utils import check_random_state\n",
    "from sklearn.metrics.pairwise import distance_metrics\n",
    "from sklearn.metrics.pairwise import pairwise_distances\n",
    "from joblib import Parallel, delayed\n",
    "from itertools import combinations\n",
    "\n",
    "\n",
    "def silhouette_score_block(X, labels, metric='euclidean', sample_size=None,\n",
    "                           random_state=None, n_jobs=1, **kwds):\n",
    "    \"\"\"Compute the mean Silhouette Coefficient of all samples.\n",
    "    The Silhouette Coefficient is calculated using the mean intra-cluster\n",
    "    distance (a) and the mean nearest-cluster distance (b) for each sample.\n",
    "    The Silhouette Coefficient for a sample is ``(b - a) / max(a, b)``.\n",
    "    To clarrify, b is the distance between a sample and the nearest cluster\n",
    "    that b is not a part of.\n",
    "    This function returns the mean Silhoeutte Coefficient over all samples.\n",
    "    To obtain the values for each sample, use silhouette_samples\n",
    "    The best value is 1 and the worst value is -1. Values near 0 indicate\n",
    "    overlapping clusters. Negative values generally indicate that a sample has\n",
    "    been assigned to the wrong cluster, as a different cluster is more similar.\n",
    "    Parameters\n",
    "    ----------\n",
    "    X : array [n_samples_a, n_features]\n",
    "        Feature array.\n",
    "    labels : array, shape = [n_samples]\n",
    "             label values for each sample\n",
    "    metric : string, or callable\n",
    "        The metric to use when calculating distance between instances in a\n",
    "        feature array. If metric is a string, it must be one of the options\n",
    "        allowed by metrics.pairwise.pairwise_distances. If X is the distance\n",
    "        array itself, use \"precomputed\" as the metric.\n",
    "    sample_size : int or None\n",
    "        The size of the sample to use when computing the Silhouette\n",
    "        Coefficient. If sample_size is None, no sampling is used.\n",
    "    random_state : integer or numpy.RandomState, optional\n",
    "        The generator used to initialize the centers. If an integer is\n",
    "        given, it fixes the seed. Defaults to the global numpy random\n",
    "        number generator.\n",
    "    `**kwds` : optional keyword parameters\n",
    "        Any further parameters are passed directly to the distance function.\n",
    "        If using a scipy.spatial.distance metric, the parameters are still\n",
    "        metric dependent. See the scipy docs for usage examples.\n",
    "    Returns\n",
    "    -------\n",
    "    silhouette : float\n",
    "        Mean Silhouette Coefficient for all samples.\n",
    "    References\n",
    "    ----------\n",
    "    Peter J. Rousseeuw (1987). \"Silhouettes: a Graphical Aid to the\n",
    "        Interpretation and Validation of Cluster Analysis\". Computational\n",
    "        and Applied Mathematics 20: 53-65. doi:10.1016/0377-0427(87)90125-7.\n",
    "    http://en.wikipedia.org/wiki/Silhouette_(clustering)\n",
    "    \"\"\"\n",
    "    if sample_size is not None:\n",
    "        random_state = check_random_state(random_state)\n",
    "        indices = random_state.permutation(X.shape[0])[:sample_size]\n",
    "        if metric == \"precomputed\":\n",
    "            raise ValueError('Distance matrix cannot be precomputed')\n",
    "        else:\n",
    "            X, labels = X[indices], labels[indices]\n",
    "    sil_samp = silhouette_samples_block(\n",
    "        X, labels, metric=metric, n_jobs=n_jobs, **kwds)\n",
    "    return np.mean(sil_samp), sil_samp\n",
    "\n",
    "\n",
    "def silhouette_samples_block(X, labels, metric='euclidean', n_jobs=1, **kwds):\n",
    "    \"\"\"Compute the Silhouette Coefficient for each sample.\n",
    "    The Silhoeutte Coefficient is a measure of how well samples are clustered\n",
    "    with samples that are similar to themselves. Clustering models with a high\n",
    "    Silhouette Coefficient are said to be dense, where samples in the same\n",
    "    cluster are similar to each other, and well separated, where samples in\n",
    "    different clusters are not very similar to each other.\n",
    "    The Silhouette Coefficient is calculated using the mean intra-cluster\n",
    "    distance (a) and the mean nearest-cluster distance (b) for each sample.\n",
    "    The Silhouette Coefficient for a sample is ``(b - a) / max(a, b)``.\n",
    "    This function returns the Silhoeutte Coefficient for each sample.\n",
    "    The best value is 1 and the worst value is -1. Values near 0 indicate\n",
    "    overlapping clusters.\n",
    "    Parameters\n",
    "    ----------\n",
    "    X : array [n_samples_a, n_features]\n",
    "        Feature array.\n",
    "    labels : array, shape = [n_samples]\n",
    "             label values for each sample\n",
    "    metric : string, or callable\n",
    "        The metric to use when calculating distance between instances in a\n",
    "        feature array. If metric is a string, it must be one of the options\n",
    "        allowed by metrics.pairwise.pairwise_distances. If X is the distance\n",
    "        array itself, use \"precomputed\" as the metric.\n",
    "    `**kwds` : optional keyword parameters\n",
    "        Any further parameters are passed directly to the distance function.\n",
    "        If using a scipy.spatial.distance metric, the parameters are still\n",
    "        metric dependent. See the scipy docs for usage examples.\n",
    "    Returns\n",
    "    -------\n",
    "    silhouette : array, shape = [n_samples]\n",
    "        Silhouette Coefficient for each samples.\n",
    "    References\n",
    "    ----------\n",
    "    Peter J. Rousseeuw (1987). \"Silhouettes: a Graphical Aid to the\n",
    "        Interpretation and Validation of Cluster Analysis\". Computational\n",
    "        and Applied Mathematics 20: 53-65. doi:10.1016/0377-0427(87)90125-7.\n",
    "    http://en.wikipedia.org/wiki/Silhouette_(clustering)\n",
    "    \"\"\"\n",
    "    A = _intra_cluster_distances_block(X, labels, metric, n_jobs=n_jobs,\n",
    "                                       **kwds)\n",
    "    B = _nearest_cluster_distance_block(X, labels, metric, n_jobs=n_jobs,\n",
    "                                        **kwds)\n",
    "    sil_samples = (B - A) / np.maximum(A, B)\n",
    "    # nan values are for clusters of size 1, and should be 0\n",
    "    return np.nan_to_num(sil_samples)\n",
    "\n",
    "\n",
    "def _intra_cluster_distances_block_(subX, metric, **kwds):\n",
    "    distances = pairwise_distances(subX, metric=metric, **kwds)\n",
    "    return distances.sum(axis=1) / (distances.shape[0] - 1)\n",
    "\n",
    "\n",
    "def _intra_cluster_distances_block(X, labels, metric, n_jobs=1, **kwds):\n",
    "    \"\"\"Calculate the mean intra-cluster distance for sample i.\n",
    "    Parameters\n",
    "    ----------\n",
    "    X : array [n_samples_a, n_features]\n",
    "        Feature array.\n",
    "    labels : array, shape = [n_samples]\n",
    "        label values for each sample\n",
    "    metric : string, or callable\n",
    "        The metric to use when calculating distance between instances in a\n",
    "        feature array. If metric is a string, it must be one of the options\n",
    "        allowed by metrics.pairwise.pairwise_distances. If X is the distance\n",
    "        array itself, use \"precomputed\" as the metric.\n",
    "    `**kwds` : optional keyword parameters\n",
    "        Any further parameters are passed directly to the distance function.\n",
    "        If using a scipy.spatial.distance metric, the parameters are still\n",
    "        metric dependent. See the scipy docs for usage examples.\n",
    "    Returns\n",
    "    -------\n",
    "    a : array [n_samples_a]\n",
    "        Mean intra-cluster distance\n",
    "    \"\"\"\n",
    "    intra_dist = np.zeros(labels.size, dtype=float)\n",
    "    values = Parallel(n_jobs=n_jobs)(\n",
    "            delayed(_intra_cluster_distances_block_)\n",
    "                (X[np.where(labels == label)[0]], metric, **kwds)\n",
    "                for label in np.unique(labels))\n",
    "    for label, values_ in zip(np.unique(labels), values):\n",
    "        intra_dist[np.where(labels == label)[0]] = values_\n",
    "    return intra_dist\n",
    "\n",
    "\n",
    "def _nearest_cluster_distance_block_(subX_a, subX_b, metric, **kwds):\n",
    "    dist = pairwise_distances(subX_a, subX_b, metric=metric, **kwds)\n",
    "    dist_a = dist.mean(axis=1)\n",
    "    dist_b = dist.mean(axis=0)\n",
    "    return dist_a, dist_b\n",
    "\n",
    "\n",
    "def _nearest_cluster_distance_block(X, labels, metric, n_jobs=1, **kwds):\n",
    "    \"\"\"Calculate the mean nearest-cluster distance for sample i.\n",
    "    Parameters\n",
    "    ----------\n",
    "    X : array [n_samples_a, n_features]\n",
    "        Feature array.\n",
    "    labels : array, shape = [n_samples]\n",
    "        label values for each sample\n",
    "    metric : string, or callable\n",
    "        The metric to use when calculating distance between instances in a\n",
    "        feature array. If metric is a string, it must be one of the options\n",
    "        allowed by metrics.pairwise.pairwise_distances. If X is the distance\n",
    "        array itself, use \"precomputed\" as the metric.\n",
    "    `**kwds` : optional keyword parameters\n",
    "        Any further parameters are passed directly to the distance function.\n",
    "        If using a scipy.spatial.distance metric, the parameters are still\n",
    "        metric dependent. See the scipy docs for usage examples.\n",
    "    X : array [n_samples_a, n_features]\n",
    "        Feature array.\n",
    "    Returns\n",
    "    -------\n",
    "    b : float\n",
    "        Mean nearest-cluster distance for sample i\n",
    "    \"\"\"\n",
    "    inter_dist = np.empty(labels.size, dtype=float)\n",
    "    inter_dist.fill(np.inf)\n",
    "    # Compute cluster distance between pairs of clusters\n",
    "    unique_labels = np.unique(labels)\n",
    "\n",
    "    values = Parallel(n_jobs=n_jobs)(\n",
    "            delayed(_nearest_cluster_distance_block_)(\n",
    "                X[np.where(labels == label_a)[0]],\n",
    "                X[np.where(labels == label_b)[0]],\n",
    "                metric, **kwds)\n",
    "                for label_a, label_b in combinations(unique_labels, 2))\n",
    "\n",
    "    for (label_a, label_b), (values_a, values_b) in \\\n",
    "            zip(combinations(unique_labels, 2), values):\n",
    "\n",
    "            indices_a = np.where(labels == label_a)[0]\n",
    "            inter_dist[indices_a] = np.minimum(values_a, inter_dist[indices_a])\n",
    "            del indices_a\n",
    "            indices_b = np.where(labels == label_b)[0]\n",
    "            inter_dist[indices_b] = np.minimum(values_b, inter_dist[indices_b])\n",
    "            del indices_b\n",
    "    return inter_dist"
   ]
  },
  {
   "cell_type": "code",
   "execution_count": 7,
   "metadata": {
    "ExecuteTime": {
     "end_time": "2020-08-22T00:04:07.871219Z",
     "start_time": "2020-08-22T00:04:07.857054Z"
    }
   },
   "outputs": [],
   "source": [
    "metrics_df = pd.DataFrame(columns = ['dataset', 'class_', 'dim', 'trustworthiness', 'silhouette_score', 'silhouette_samples'])"
   ]
  },
  {
   "cell_type": "markdown",
   "metadata": {},
   "source": [
    "### MNIST"
   ]
  },
  {
   "cell_type": "markdown",
   "metadata": {},
   "source": [
    "##### load dataset"
   ]
  },
  {
   "cell_type": "code",
   "execution_count": 8,
   "metadata": {
    "ExecuteTime": {
     "end_time": "2020-08-22T00:04:11.282570Z",
     "start_time": "2020-08-22T00:04:07.872342Z"
    }
   },
   "outputs": [
    {
     "name": "stdout",
     "output_type": "stream",
     "text": [
      "50000 10000 10000\n"
     ]
    }
   ],
   "source": [
    "from tensorflow.keras.datasets import mnist\n",
    "\n",
    "# load dataset\n",
    "(train_images, Y_train), (test_images, Y_test) = mnist.load_data()\n",
    "X_train = (train_images/255.).astype('float32')\n",
    "X_test = (test_images/255.).astype('float32')\n",
    "X_train = X_train.reshape((len(X_train), np.product(np.shape(X_train)[1:])))\n",
    "X_test = X_test.reshape((len(X_test), np.product(np.shape(X_test)[1:])))\n",
    "\n",
    "# subset a validation set\n",
    "n_valid = 10000\n",
    "X_valid = X_train[-n_valid:]\n",
    "Y_valid = Y_train[-n_valid:]\n",
    "X_train = X_train[:-n_valid]\n",
    "Y_train = Y_train[:-n_valid]\n",
    "\n",
    "# flatten X\n",
    "X_train_flat = X_train.reshape((len(X_train), np.product(np.shape(X_train)[1:])))\n",
    "X_test_flat = X_test.reshape((len(X_test), np.product(np.shape(X_test)[1:])))\n",
    "X_valid_flat= X_valid.reshape((len(X_valid), np.product(np.shape(X_valid)[1:])))\n",
    "print(len(X_train), len(X_valid), len(X_test))"
   ]
  },
  {
   "cell_type": "markdown",
   "metadata": {},
   "source": [
    "#### load projections"
   ]
  },
  {
   "cell_type": "code",
   "execution_count": 9,
   "metadata": {
    "ExecuteTime": {
     "end_time": "2020-08-22T00:04:11.286083Z",
     "start_time": "2020-08-22T00:04:11.283902Z"
    }
   },
   "outputs": [],
   "source": [
    "dataset = 'mnist'"
   ]
  },
  {
   "cell_type": "code",
   "execution_count": 10,
   "metadata": {
    "ExecuteTime": {
     "end_time": "2020-08-22T00:04:11.299348Z",
     "start_time": "2020-08-22T00:04:11.286973Z"
    }
   },
   "outputs": [],
   "source": [
    "classes = ['umap-learn', 'direct', 'network', 'autoencoder', 'PCA', 'TSNE']"
   ]
  },
  {
   "cell_type": "code",
   "execution_count": 11,
   "metadata": {
    "ExecuteTime": {
     "end_time": "2020-08-22T00:04:11.771673Z",
     "start_time": "2020-08-22T00:04:11.300905Z"
    }
   },
   "outputs": [
    {
     "name": "stdout",
     "output_type": "stream",
     "text": [
      "/mnt/cube/tsainbur/Projects/github_repos/umap_tf_networks/models/projections/mnist/umap-learn\n",
      "/mnt/cube/tsainbur/Projects/github_repos/umap_tf_networks/models/projections/mnist/direct\n",
      "/mnt/cube/tsainbur/Projects/github_repos/umap_tf_networks/models/projections/mnist/network\n",
      "/mnt/cube/tsainbur/Projects/github_repos/umap_tf_networks/models/projections/mnist/autoencoder\n",
      "/mnt/cube/tsainbur/Projects/github_repos/umap_tf_networks/models/projections/mnist/PCA\n",
      "/mnt/cube/tsainbur/Projects/github_repos/umap_tf_networks/models/projections/mnist/TSNE\n"
     ]
    }
   ],
   "source": [
    "projection_df = pd.DataFrame(columns = ['dataset', 'class_', 'train_z', 'train_label'])\n",
    "for class_ in classes:\n",
    "    print(output_dir / dataset / class_)\n",
    "    z = np.load(output_dir / dataset / class_ / 'z.npy')\n",
    "    projection_df.loc[len(projection_df)] = [dataset, class_, z, Y_train]\n",
    "projection_df['dim'] = 2"
   ]
  },
  {
   "cell_type": "code",
   "execution_count": 12,
   "metadata": {
    "ExecuteTime": {
     "end_time": "2020-08-22T00:04:12.549283Z",
     "start_time": "2020-08-22T00:04:11.773559Z"
    }
   },
   "outputs": [
    {
     "name": "stdout",
     "output_type": "stream",
     "text": [
      "/mnt/cube/tsainbur/Projects/github_repos/umap_tf_networks/models/projections/mnist/64/umap-learn/z.npy\n",
      "/mnt/cube/tsainbur/Projects/github_repos/umap_tf_networks/models/projections/mnist/64/direct/z.npy\n",
      "/mnt/cube/tsainbur/Projects/github_repos/umap_tf_networks/models/projections/mnist/64/network/z.npy\n",
      "/mnt/cube/tsainbur/Projects/github_repos/umap_tf_networks/models/projections/mnist/64/autoencoder/z.npy\n",
      "/mnt/cube/tsainbur/Projects/github_repos/umap_tf_networks/models/projections/mnist/64/PCA/z.npy\n",
      "/mnt/cube/tsainbur/Projects/github_repos/umap_tf_networks/models/projections/mnist/64/TSNE/z.npy\n",
      "[Errno 2] No such file or directory: '/mnt/cube/tsainbur/Projects/github_repos/umap_tf_networks/models/projections/mnist/64/TSNE/z.npy'\n"
     ]
    }
   ],
   "source": [
    "projection_df_64 = pd.DataFrame(columns = ['dataset', 'class_', 'train_z', 'train_label'])\n",
    "for class_ in classes:\n",
    "    print(output_dir / dataset / '64' / class_ / 'z.npy')\n",
    "    try:\n",
    "        z = np.load(output_dir / dataset / '64' / class_ / 'z.npy')\n",
    "        projection_df_64.loc[len(projection_df_64)] = [dataset, class_, z, Y_train]\n",
    "    except FileNotFoundError as e:\n",
    "        print(e)\n",
    "projection_df_64['dim'] = 64"
   ]
  },
  {
   "cell_type": "code",
   "execution_count": 13,
   "metadata": {
    "ExecuteTime": {
     "end_time": "2020-08-22T00:04:12.886371Z",
     "start_time": "2020-08-22T00:04:12.550726Z"
    }
   },
   "outputs": [
    {
     "data": {
      "text/html": [
       "<div>\n",
       "<style scoped>\n",
       "    .dataframe tbody tr th:only-of-type {\n",
       "        vertical-align: middle;\n",
       "    }\n",
       "\n",
       "    .dataframe tbody tr th {\n",
       "        vertical-align: top;\n",
       "    }\n",
       "\n",
       "    .dataframe thead th {\n",
       "        text-align: right;\n",
       "    }\n",
       "</style>\n",
       "<table border=\"1\" class=\"dataframe\">\n",
       "  <thead>\n",
       "    <tr style=\"text-align: right;\">\n",
       "      <th></th>\n",
       "      <th>dataset</th>\n",
       "      <th>class_</th>\n",
       "      <th>train_z</th>\n",
       "      <th>train_label</th>\n",
       "      <th>dim</th>\n",
       "    </tr>\n",
       "  </thead>\n",
       "  <tbody>\n",
       "    <tr>\n",
       "      <th>0</th>\n",
       "      <td>mnist</td>\n",
       "      <td>umap-learn</td>\n",
       "      <td>[[5.931274, 4.8182616, 3.7269907, 9.074417, 2....</td>\n",
       "      <td>[5, 0, 4, 1, 9, 2, 1, 3, 1, 4, 3, 5, 3, 6, 1, ...</td>\n",
       "      <td>64</td>\n",
       "    </tr>\n",
       "    <tr>\n",
       "      <th>1</th>\n",
       "      <td>mnist</td>\n",
       "      <td>direct</td>\n",
       "      <td>[[-1.975121, 1.1319492, -3.917372, 3.3413496, ...</td>\n",
       "      <td>[5, 0, 4, 1, 9, 2, 1, 3, 1, 4, 3, 5, 3, 6, 1, ...</td>\n",
       "      <td>64</td>\n",
       "    </tr>\n",
       "    <tr>\n",
       "      <th>2</th>\n",
       "      <td>mnist</td>\n",
       "      <td>network</td>\n",
       "      <td>[[-2.1553383, 3.985057, 7.441658, 0.9424221, 0...</td>\n",
       "      <td>[5, 0, 4, 1, 9, 2, 1, 3, 1, 4, 3, 5, 3, 6, 1, ...</td>\n",
       "      <td>64</td>\n",
       "    </tr>\n",
       "    <tr>\n",
       "      <th>3</th>\n",
       "      <td>mnist</td>\n",
       "      <td>autoencoder</td>\n",
       "      <td>[[0.38263887, 0.033022426, -0.37465966, 0.2353...</td>\n",
       "      <td>[5, 0, 4, 1, 9, 2, 1, 3, 1, 4, 3, 5, 3, 6, 1, ...</td>\n",
       "      <td>64</td>\n",
       "    </tr>\n",
       "    <tr>\n",
       "      <th>4</th>\n",
       "      <td>mnist</td>\n",
       "      <td>PCA</td>\n",
       "      <td>[[0.46332303, -1.2517263, 0.046545323, -2.1603...</td>\n",
       "      <td>[5, 0, 4, 1, 9, 2, 1, 3, 1, 4, 3, 5, 3, 6, 1, ...</td>\n",
       "      <td>64</td>\n",
       "    </tr>\n",
       "  </tbody>\n",
       "</table>\n",
       "</div>"
      ],
      "text/plain": [
       "  dataset       class_                                            train_z  \\\n",
       "0   mnist   umap-learn  [[5.931274, 4.8182616, 3.7269907, 9.074417, 2....   \n",
       "1   mnist       direct  [[-1.975121, 1.1319492, -3.917372, 3.3413496, ...   \n",
       "2   mnist      network  [[-2.1553383, 3.985057, 7.441658, 0.9424221, 0...   \n",
       "3   mnist  autoencoder  [[0.38263887, 0.033022426, -0.37465966, 0.2353...   \n",
       "4   mnist          PCA  [[0.46332303, -1.2517263, 0.046545323, -2.1603...   \n",
       "\n",
       "                                         train_label  dim  \n",
       "0  [5, 0, 4, 1, 9, 2, 1, 3, 1, 4, 3, 5, 3, 6, 1, ...   64  \n",
       "1  [5, 0, 4, 1, 9, 2, 1, 3, 1, 4, 3, 5, 3, 6, 1, ...   64  \n",
       "2  [5, 0, 4, 1, 9, 2, 1, 3, 1, 4, 3, 5, 3, 6, 1, ...   64  \n",
       "3  [5, 0, 4, 1, 9, 2, 1, 3, 1, 4, 3, 5, 3, 6, 1, ...   64  \n",
       "4  [5, 0, 4, 1, 9, 2, 1, 3, 1, 4, 3, 5, 3, 6, 1, ...   64  "
      ]
     },
     "execution_count": 13,
     "metadata": {},
     "output_type": "execute_result"
    }
   ],
   "source": [
    "projection_df_64"
   ]
  },
  {
   "cell_type": "markdown",
   "metadata": {},
   "source": [
    "##### compute silhouette score and trustworthiness"
   ]
  },
  {
   "cell_type": "code",
   "execution_count": 14,
   "metadata": {
    "ExecuteTime": {
     "end_time": "2020-08-22T00:06:16.575846Z",
     "start_time": "2020-08-22T00:04:12.887453Z"
    }
   },
   "outputs": [
    {
     "data": {
      "application/vnd.jupyter.widget-view+json": {
       "model_id": "bc9f369cdc7e43e2b6188195d88e8d77",
       "version_major": 2,
       "version_minor": 0
      },
      "text/plain": [
       "HBox(children=(IntProgress(value=0, max=11), HTML(value='')))"
      ]
     },
     "metadata": {},
     "output_type": "display_data"
    },
    {
     "name": "stdout",
     "output_type": "stream",
     "text": [
      "\n"
     ]
    }
   ],
   "source": [
    "for idx, row in tqdm(pd.concat([projection_df, projection_df_64]).iterrows(), total = len(projection_df)+ len(projection_df_64)):\n",
    "    ss, sil_samp = silhouette_score_block(row.train_z, row.train_label, n_jobs = -1)\n",
    "    tw = trustworthiness(X_train_flat[:10000], row.train_z[:10000])\n",
    "    metrics_df.loc[len(metrics_df)] = [dataset, row.class_, row.dim, tw, ss, sil_samp]"
   ]
  },
  {
   "cell_type": "markdown",
   "metadata": {},
   "source": [
    "### FMNIST"
   ]
  },
  {
   "cell_type": "markdown",
   "metadata": {},
   "source": [
    "##### load dataset"
   ]
  },
  {
   "cell_type": "code",
   "execution_count": 15,
   "metadata": {
    "ExecuteTime": {
     "end_time": "2020-08-22T00:06:17.081243Z",
     "start_time": "2020-08-22T00:06:16.580949Z"
    }
   },
   "outputs": [
    {
     "name": "stdout",
     "output_type": "stream",
     "text": [
      "50000 10000 10000\n"
     ]
    }
   ],
   "source": [
    "from tensorflow.keras.datasets import fashion_mnist\n",
    "\n",
    "# load dataset\n",
    "(train_images, Y_train), (test_images, Y_test) = fashion_mnist.load_data()\n",
    "X_train = (train_images/255.).astype('float32')\n",
    "X_test = (test_images/255.).astype('float32')\n",
    "X_train = X_train.reshape((len(X_train), np.product(np.shape(X_train)[1:])))\n",
    "X_test = X_test.reshape((len(X_test), np.product(np.shape(X_test)[1:])))\n",
    "\n",
    "# subset a validation set\n",
    "n_valid = 10000\n",
    "X_valid = X_train[-n_valid:]\n",
    "Y_valid = Y_train[-n_valid:]\n",
    "X_train = X_train[:-n_valid]\n",
    "Y_train = Y_train[:-n_valid]\n",
    "\n",
    "# flatten X\n",
    "X_train_flat = X_train.reshape((len(X_train), np.product(np.shape(X_train)[1:])))\n",
    "X_test_flat = X_test.reshape((len(X_test), np.product(np.shape(X_test)[1:])))\n",
    "X_valid_flat= X_valid.reshape((len(X_valid), np.product(np.shape(X_valid)[1:])))\n",
    "print(len(X_train), len(X_valid), len(X_test))"
   ]
  },
  {
   "cell_type": "markdown",
   "metadata": {},
   "source": [
    "#### load projections"
   ]
  },
  {
   "cell_type": "code",
   "execution_count": 16,
   "metadata": {
    "ExecuteTime": {
     "end_time": "2020-08-22T00:06:17.085305Z",
     "start_time": "2020-08-22T00:06:17.083104Z"
    }
   },
   "outputs": [],
   "source": [
    "dataset = 'fmnist'"
   ]
  },
  {
   "cell_type": "code",
   "execution_count": 17,
   "metadata": {
    "ExecuteTime": {
     "end_time": "2020-08-22T00:06:17.098361Z",
     "start_time": "2020-08-22T00:06:17.086216Z"
    }
   },
   "outputs": [],
   "source": [
    "classes = ['umap-learn', 'direct', 'network', 'autoencoder', 'PCA', 'TSNE']"
   ]
  },
  {
   "cell_type": "code",
   "execution_count": 18,
   "metadata": {
    "ExecuteTime": {
     "end_time": "2020-08-22T00:06:17.441179Z",
     "start_time": "2020-08-22T00:06:17.099259Z"
    }
   },
   "outputs": [
    {
     "name": "stdout",
     "output_type": "stream",
     "text": [
      "/mnt/cube/tsainbur/Projects/github_repos/umap_tf_networks/models/projections/fmnist/umap-learn\n",
      "/mnt/cube/tsainbur/Projects/github_repos/umap_tf_networks/models/projections/fmnist/direct\n",
      "/mnt/cube/tsainbur/Projects/github_repos/umap_tf_networks/models/projections/fmnist/network\n",
      "/mnt/cube/tsainbur/Projects/github_repos/umap_tf_networks/models/projections/fmnist/autoencoder\n",
      "/mnt/cube/tsainbur/Projects/github_repos/umap_tf_networks/models/projections/fmnist/PCA\n",
      "/mnt/cube/tsainbur/Projects/github_repos/umap_tf_networks/models/projections/fmnist/TSNE\n"
     ]
    }
   ],
   "source": [
    "projection_df = pd.DataFrame(columns = ['dataset', 'class_', 'train_z', 'train_label'])\n",
    "for class_ in classes:\n",
    "    print(output_dir / dataset / class_)\n",
    "    z = np.load(output_dir / dataset / class_ / 'z.npy')\n",
    "    projection_df.loc[len(projection_df)] = [dataset, class_, z, Y_train]\n",
    "projection_df['dim'] = 2"
   ]
  },
  {
   "cell_type": "code",
   "execution_count": 19,
   "metadata": {
    "ExecuteTime": {
     "end_time": "2020-08-22T00:06:18.061658Z",
     "start_time": "2020-08-22T00:06:17.443006Z"
    }
   },
   "outputs": [
    {
     "name": "stdout",
     "output_type": "stream",
     "text": [
      "/mnt/cube/tsainbur/Projects/github_repos/umap_tf_networks/models/projections/fmnist/64/umap-learn/z.npy\n",
      "/mnt/cube/tsainbur/Projects/github_repos/umap_tf_networks/models/projections/fmnist/64/direct/z.npy\n",
      "/mnt/cube/tsainbur/Projects/github_repos/umap_tf_networks/models/projections/fmnist/64/network/z.npy\n",
      "/mnt/cube/tsainbur/Projects/github_repos/umap_tf_networks/models/projections/fmnist/64/autoencoder/z.npy\n",
      "/mnt/cube/tsainbur/Projects/github_repos/umap_tf_networks/models/projections/fmnist/64/PCA/z.npy\n",
      "/mnt/cube/tsainbur/Projects/github_repos/umap_tf_networks/models/projections/fmnist/64/TSNE/z.npy\n",
      "[Errno 2] No such file or directory: '/mnt/cube/tsainbur/Projects/github_repos/umap_tf_networks/models/projections/fmnist/64/TSNE/z.npy'\n"
     ]
    }
   ],
   "source": [
    "projection_df_64 = pd.DataFrame(columns = ['dataset', 'class_', 'train_z', 'train_label'])\n",
    "for class_ in classes:\n",
    "    print(output_dir / dataset / '64' / class_ / 'z.npy')\n",
    "    try:\n",
    "        z = np.load(output_dir / dataset / '64' / class_ / 'z.npy')\n",
    "        projection_df_64.loc[len(projection_df_64)] = [dataset, class_, z, Y_train]\n",
    "    except FileNotFoundError as e:\n",
    "        print(e)\n",
    "projection_df_64['dim'] = 64"
   ]
  },
  {
   "cell_type": "markdown",
   "metadata": {},
   "source": [
    "##### compute silhouette score and trustworthiness"
   ]
  },
  {
   "cell_type": "code",
   "execution_count": 20,
   "metadata": {
    "ExecuteTime": {
     "end_time": "2020-08-22T00:08:15.012549Z",
     "start_time": "2020-08-22T00:06:18.063026Z"
    }
   },
   "outputs": [
    {
     "data": {
      "application/vnd.jupyter.widget-view+json": {
       "model_id": "56709811b2fa4e1e9d2dfb95c493ea10",
       "version_major": 2,
       "version_minor": 0
      },
      "text/plain": [
       "HBox(children=(IntProgress(value=0, max=11), HTML(value='')))"
      ]
     },
     "metadata": {},
     "output_type": "display_data"
    },
    {
     "name": "stdout",
     "output_type": "stream",
     "text": [
      "\n"
     ]
    }
   ],
   "source": [
    "for idx, row in tqdm(pd.concat([projection_df, projection_df_64]).iterrows(), total = len(projection_df)+ len(projection_df_64)):\n",
    "    ss, sil_samp = silhouette_score_block(row.train_z, row.train_label, n_jobs = -1)\n",
    "    tw = trustworthiness(X_train_flat[:10000], row.train_z[:10000])\n",
    "    metrics_df.loc[len(metrics_df)] = [dataset, row.class_, row.dim, tw, ss, sil_samp]"
   ]
  },
  {
   "cell_type": "markdown",
   "metadata": {},
   "source": [
    "### CIFAR10"
   ]
  },
  {
   "cell_type": "markdown",
   "metadata": {},
   "source": [
    "##### load dataset"
   ]
  },
  {
   "cell_type": "code",
   "execution_count": 21,
   "metadata": {
    "ExecuteTime": {
     "end_time": "2020-08-22T00:08:16.101227Z",
     "start_time": "2020-08-22T00:08:15.014561Z"
    }
   },
   "outputs": [
    {
     "name": "stdout",
     "output_type": "stream",
     "text": [
      "40000 10000 10000\n"
     ]
    }
   ],
   "source": [
    "from tensorflow.keras.datasets import cifar10\n",
    "\n",
    "# load dataset\n",
    "(train_images, Y_train), (test_images, Y_test) = cifar10.load_data()\n",
    "X_train = (train_images/255.).astype('float32')\n",
    "X_test = (test_images/255.).astype('float32')\n",
    "X_train = X_train.reshape((len(X_train), np.product(np.shape(X_train)[1:])))\n",
    "X_test = X_test.reshape((len(X_test), np.product(np.shape(X_test)[1:])))\n",
    "\n",
    "# subset a validation set\n",
    "n_valid = 10000\n",
    "X_valid = X_train[-n_valid:]\n",
    "Y_valid = Y_train[-n_valid:].flatten()\n",
    "X_train = X_train[:-n_valid]\n",
    "Y_train = Y_train[:-n_valid].flatten()\n",
    "Y_test = Y_test.flatten()\n",
    "X_train_flat = X_train.reshape((len(X_train), 32*32*3))\n",
    "print(len(X_train), len(X_valid), len(X_test))"
   ]
  },
  {
   "cell_type": "markdown",
   "metadata": {},
   "source": [
    "#### load projections"
   ]
  },
  {
   "cell_type": "code",
   "execution_count": 22,
   "metadata": {
    "ExecuteTime": {
     "end_time": "2020-08-22T00:08:16.105456Z",
     "start_time": "2020-08-22T00:08:16.102992Z"
    }
   },
   "outputs": [],
   "source": [
    "dataset = 'cifar10'"
   ]
  },
  {
   "cell_type": "code",
   "execution_count": 23,
   "metadata": {
    "ExecuteTime": {
     "end_time": "2020-08-22T00:08:16.116124Z",
     "start_time": "2020-08-22T00:08:16.106620Z"
    }
   },
   "outputs": [],
   "source": [
    "classes = ['umap-learn', 'direct', 'network', 'autoencoder', 'PCA', 'TSNE']"
   ]
  },
  {
   "cell_type": "code",
   "execution_count": 24,
   "metadata": {
    "ExecuteTime": {
     "end_time": "2020-08-22T00:08:16.149913Z",
     "start_time": "2020-08-22T00:08:16.117614Z"
    }
   },
   "outputs": [
    {
     "name": "stdout",
     "output_type": "stream",
     "text": [
      "/mnt/cube/tsainbur/Projects/github_repos/umap_tf_networks/models/projections/cifar10/umap-learn\n",
      "/mnt/cube/tsainbur/Projects/github_repos/umap_tf_networks/models/projections/cifar10/direct\n",
      "/mnt/cube/tsainbur/Projects/github_repos/umap_tf_networks/models/projections/cifar10/network\n",
      "/mnt/cube/tsainbur/Projects/github_repos/umap_tf_networks/models/projections/cifar10/autoencoder\n",
      "/mnt/cube/tsainbur/Projects/github_repos/umap_tf_networks/models/projections/cifar10/PCA\n",
      "/mnt/cube/tsainbur/Projects/github_repos/umap_tf_networks/models/projections/cifar10/TSNE\n"
     ]
    }
   ],
   "source": [
    "projection_df = pd.DataFrame(columns = ['dataset', 'class_', 'train_z', 'train_label'])\n",
    "for class_ in classes:\n",
    "    print(output_dir / dataset / class_)\n",
    "    z = np.load(output_dir / dataset / class_ / 'z.npy')\n",
    "    projection_df.loc[len(projection_df)] = [dataset, class_, z, Y_train]\n",
    "projection_df['dim'] = 2"
   ]
  },
  {
   "cell_type": "code",
   "execution_count": 25,
   "metadata": {
    "ExecuteTime": {
     "end_time": "2020-08-22T00:08:16.187302Z",
     "start_time": "2020-08-22T00:08:16.151248Z"
    }
   },
   "outputs": [
    {
     "name": "stdout",
     "output_type": "stream",
     "text": [
      "/mnt/cube/tsainbur/Projects/github_repos/umap_tf_networks/models/projections/cifar10/64/umap-learn/z.npy\n",
      "/mnt/cube/tsainbur/Projects/github_repos/umap_tf_networks/models/projections/cifar10/64/direct/z.npy\n",
      "/mnt/cube/tsainbur/Projects/github_repos/umap_tf_networks/models/projections/cifar10/64/network/z.npy\n",
      "/mnt/cube/tsainbur/Projects/github_repos/umap_tf_networks/models/projections/cifar10/64/autoencoder/z.npy\n",
      "/mnt/cube/tsainbur/Projects/github_repos/umap_tf_networks/models/projections/cifar10/64/PCA/z.npy\n",
      "/mnt/cube/tsainbur/Projects/github_repos/umap_tf_networks/models/projections/cifar10/64/TSNE/z.npy\n",
      "[Errno 2] No such file or directory: '/mnt/cube/tsainbur/Projects/github_repos/umap_tf_networks/models/projections/cifar10/64/TSNE/z.npy'\n"
     ]
    }
   ],
   "source": [
    "projection_df_64 = pd.DataFrame(columns = ['dataset', 'class_', 'train_z', 'train_label'])\n",
    "for class_ in classes:\n",
    "    print(output_dir / dataset / '64' / class_ / 'z.npy')\n",
    "    try:\n",
    "        z = np.load(output_dir / dataset / '64' / class_ / 'z.npy')\n",
    "        projection_df_64.loc[len(projection_df_64)] = [dataset, class_, z, Y_train]\n",
    "    except FileNotFoundError as e:\n",
    "        print(e)\n",
    "projection_df_64['dim'] = 64"
   ]
  },
  {
   "cell_type": "code",
   "execution_count": 26,
   "metadata": {
    "ExecuteTime": {
     "end_time": "2020-08-22T00:08:16.527468Z",
     "start_time": "2020-08-22T00:08:16.188756Z"
    }
   },
   "outputs": [
    {
     "data": {
      "text/html": [
       "<div>\n",
       "<style scoped>\n",
       "    .dataframe tbody tr th:only-of-type {\n",
       "        vertical-align: middle;\n",
       "    }\n",
       "\n",
       "    .dataframe tbody tr th {\n",
       "        vertical-align: top;\n",
       "    }\n",
       "\n",
       "    .dataframe thead th {\n",
       "        text-align: right;\n",
       "    }\n",
       "</style>\n",
       "<table border=\"1\" class=\"dataframe\">\n",
       "  <thead>\n",
       "    <tr style=\"text-align: right;\">\n",
       "      <th></th>\n",
       "      <th>dataset</th>\n",
       "      <th>class_</th>\n",
       "      <th>train_z</th>\n",
       "      <th>train_label</th>\n",
       "      <th>dim</th>\n",
       "    </tr>\n",
       "  </thead>\n",
       "  <tbody>\n",
       "    <tr>\n",
       "      <th>0</th>\n",
       "      <td>cifar10</td>\n",
       "      <td>umap-learn</td>\n",
       "      <td>[[7.1060157, 9.195796, 7.6382084, 7.2188716, 5...</td>\n",
       "      <td>[6, 9, 9, 4, 1, 1, 2, 7, 8, 3, 4, 7, 7, 2, 9, ...</td>\n",
       "      <td>64</td>\n",
       "    </tr>\n",
       "    <tr>\n",
       "      <th>1</th>\n",
       "      <td>cifar10</td>\n",
       "      <td>direct</td>\n",
       "      <td>[[1.0066352, -0.98004335, -0.34852365, 0.21314...</td>\n",
       "      <td>[6, 9, 9, 4, 1, 1, 2, 7, 8, 3, 4, 7, 7, 2, 9, ...</td>\n",
       "      <td>64</td>\n",
       "    </tr>\n",
       "    <tr>\n",
       "      <th>2</th>\n",
       "      <td>cifar10</td>\n",
       "      <td>network</td>\n",
       "      <td>[[-0.05073797, 0.15603174, -0.20267391, 0.0221...</td>\n",
       "      <td>[6, 9, 9, 4, 1, 1, 2, 7, 8, 3, 4, 7, 7, 2, 9, ...</td>\n",
       "      <td>64</td>\n",
       "    </tr>\n",
       "    <tr>\n",
       "      <th>3</th>\n",
       "      <td>cifar10</td>\n",
       "      <td>autoencoder</td>\n",
       "      <td>[[0.09604484, -0.09921512, -0.10305964, -0.012...</td>\n",
       "      <td>[6, 9, 9, 4, 1, 1, 2, 7, 8, 3, 4, 7, 7, 2, 9, ...</td>\n",
       "      <td>64</td>\n",
       "    </tr>\n",
       "    <tr>\n",
       "      <th>4</th>\n",
       "      <td>cifar10</td>\n",
       "      <td>PCA</td>\n",
       "      <td>[[-6.3943524, 2.7541623, 1.4807999, -1.903707,...</td>\n",
       "      <td>[6, 9, 9, 4, 1, 1, 2, 7, 8, 3, 4, 7, 7, 2, 9, ...</td>\n",
       "      <td>64</td>\n",
       "    </tr>\n",
       "  </tbody>\n",
       "</table>\n",
       "</div>"
      ],
      "text/plain": [
       "   dataset       class_                                            train_z  \\\n",
       "0  cifar10   umap-learn  [[7.1060157, 9.195796, 7.6382084, 7.2188716, 5...   \n",
       "1  cifar10       direct  [[1.0066352, -0.98004335, -0.34852365, 0.21314...   \n",
       "2  cifar10      network  [[-0.05073797, 0.15603174, -0.20267391, 0.0221...   \n",
       "3  cifar10  autoencoder  [[0.09604484, -0.09921512, -0.10305964, -0.012...   \n",
       "4  cifar10          PCA  [[-6.3943524, 2.7541623, 1.4807999, -1.903707,...   \n",
       "\n",
       "                                         train_label  dim  \n",
       "0  [6, 9, 9, 4, 1, 1, 2, 7, 8, 3, 4, 7, 7, 2, 9, ...   64  \n",
       "1  [6, 9, 9, 4, 1, 1, 2, 7, 8, 3, 4, 7, 7, 2, 9, ...   64  \n",
       "2  [6, 9, 9, 4, 1, 1, 2, 7, 8, 3, 4, 7, 7, 2, 9, ...   64  \n",
       "3  [6, 9, 9, 4, 1, 1, 2, 7, 8, 3, 4, 7, 7, 2, 9, ...   64  \n",
       "4  [6, 9, 9, 4, 1, 1, 2, 7, 8, 3, 4, 7, 7, 2, 9, ...   64  "
      ]
     },
     "execution_count": 26,
     "metadata": {},
     "output_type": "execute_result"
    }
   ],
   "source": [
    "projection_df_64"
   ]
  },
  {
   "cell_type": "markdown",
   "metadata": {},
   "source": [
    "##### compute silhouette score and trustworthiness"
   ]
  },
  {
   "cell_type": "code",
   "execution_count": 27,
   "metadata": {
    "ExecuteTime": {
     "end_time": "2020-08-22T00:10:21.582026Z",
     "start_time": "2020-08-22T00:08:16.528686Z"
    }
   },
   "outputs": [
    {
     "data": {
      "application/vnd.jupyter.widget-view+json": {
       "model_id": "701473886ba24dcd9df9725e2cf27bb5",
       "version_major": 2,
       "version_minor": 0
      },
      "text/plain": [
       "HBox(children=(IntProgress(value=0, max=11), HTML(value='')))"
      ]
     },
     "metadata": {},
     "output_type": "display_data"
    },
    {
     "name": "stdout",
     "output_type": "stream",
     "text": [
      "\n"
     ]
    }
   ],
   "source": [
    "for idx, row in tqdm(pd.concat([projection_df, projection_df_64]).iterrows(), total = len(projection_df)+ len(projection_df_64)):\n",
    "    ss, sil_samp = silhouette_score_block(row.train_z, row.train_label, n_jobs = -1)\n",
    "    tw = trustworthiness(X_train_flat[:10000], row.train_z[:10000])\n",
    "    metrics_df.loc[len(metrics_df)] = [dataset, row.class_, row.dim, tw, ss, sil_samp]"
   ]
  },
  {
   "cell_type": "markdown",
   "metadata": {},
   "source": [
    "### Macosko"
   ]
  },
  {
   "cell_type": "markdown",
   "metadata": {},
   "source": [
    "##### load dataset"
   ]
  },
  {
   "cell_type": "code",
   "execution_count": 28,
   "metadata": {
    "ExecuteTime": {
     "end_time": "2020-08-22T00:10:21.995129Z",
     "start_time": "2020-08-22T00:10:21.584012Z"
    }
   },
   "outputs": [
    {
     "name": "stdout",
     "output_type": "stream",
     "text": [
      "Data set contains 44808 samples with 50 features\n"
     ]
    }
   ],
   "source": [
    "from tfumap.paths import ensure_dir, MODEL_DIR, DATA_DIR\n",
    "\n",
    "#dataset_address = 'http://file.biolab.si/opentsne/macosko_2015.pkl.gz'\n",
    "# https://opentsne.readthedocs.io/en/latest/examples/01_simple_usage/01_simple_usage.html\n",
    "# also see https://github.com/berenslab/rna-seq-tsne/blob/master/umi-datasets.ipynb\n",
    "\n",
    "import gzip\n",
    "import pickle\n",
    "\n",
    "with gzip.open(DATA_DIR / 'macosko_2015.pkl.gz', \"rb\") as f:\n",
    "    data = pickle.load(f)\n",
    "\n",
    "x = data[\"pca_50\"]\n",
    "y = data[\"CellType1\"].astype(str)\n",
    "\n",
    "print(\"Data set contains %d samples with %d features\" % x.shape)\n",
    "\n",
    "from sklearn.model_selection import train_test_split\n",
    "\n",
    "X_train, X_test, Y_train, Y_test = train_test_split(x, y, test_size=.1, random_state=42)\n",
    "\n",
    "np.shape(X_train)\n",
    "\n",
    "n_valid = 10000\n",
    "X_valid = X_train[-n_valid:]\n",
    "Y_valid = Y_train[-n_valid:]\n",
    "X_train = X_train[:-n_valid]\n",
    "Y_train = Y_train[:-n_valid]\n",
    "\n",
    "X_train_flat = X_train\n",
    "\n",
    "from sklearn.preprocessing import OrdinalEncoder\n",
    "enc = OrdinalEncoder()\n",
    "\n",
    "Y_train = enc.fit_transform([[i] for i in Y_train]).flatten()"
   ]
  },
  {
   "cell_type": "code",
   "execution_count": 29,
   "metadata": {
    "ExecuteTime": {
     "end_time": "2020-08-22T00:10:21.999233Z",
     "start_time": "2020-08-22T00:10:21.996824Z"
    }
   },
   "outputs": [],
   "source": [
    "dataset = 'macosko2015'"
   ]
  },
  {
   "cell_type": "code",
   "execution_count": 30,
   "metadata": {
    "ExecuteTime": {
     "end_time": "2020-08-22T00:10:22.009547Z",
     "start_time": "2020-08-22T00:10:22.000551Z"
    }
   },
   "outputs": [],
   "source": [
    "classes = ['umap-learn', 'direct', 'network', 'autoencoder', 'PCA', 'TSNE']"
   ]
  },
  {
   "cell_type": "code",
   "execution_count": 31,
   "metadata": {
    "ExecuteTime": {
     "end_time": "2020-08-22T00:10:22.042138Z",
     "start_time": "2020-08-22T00:10:22.011841Z"
    }
   },
   "outputs": [
    {
     "name": "stdout",
     "output_type": "stream",
     "text": [
      "/mnt/cube/tsainbur/Projects/github_repos/umap_tf_networks/models/projections/macosko2015/umap-learn\n",
      "/mnt/cube/tsainbur/Projects/github_repos/umap_tf_networks/models/projections/macosko2015/direct\n",
      "/mnt/cube/tsainbur/Projects/github_repos/umap_tf_networks/models/projections/macosko2015/network\n",
      "/mnt/cube/tsainbur/Projects/github_repos/umap_tf_networks/models/projections/macosko2015/autoencoder\n",
      "/mnt/cube/tsainbur/Projects/github_repos/umap_tf_networks/models/projections/macosko2015/PCA\n",
      "/mnt/cube/tsainbur/Projects/github_repos/umap_tf_networks/models/projections/macosko2015/TSNE\n"
     ]
    }
   ],
   "source": [
    "projection_df = pd.DataFrame(columns = ['dataset', 'class_', 'train_z', 'train_label'])\n",
    "for class_ in classes:\n",
    "    print(output_dir / dataset / class_)\n",
    "    z = np.load(output_dir / dataset / class_ / 'z.npy')\n",
    "    projection_df.loc[len(projection_df)] = [dataset, class_, z, Y_train]\n",
    "projection_df['dim'] = 2"
   ]
  },
  {
   "cell_type": "code",
   "execution_count": 33,
   "metadata": {
    "ExecuteTime": {
     "end_time": "2020-08-22T01:28:13.068344Z",
     "start_time": "2020-08-22T01:28:13.065348Z"
    }
   },
   "outputs": [],
   "source": [
    "import matplotlib.pyplot as plt"
   ]
  },
  {
   "cell_type": "code",
   "execution_count": 34,
   "metadata": {
    "ExecuteTime": {
     "end_time": "2020-08-22T01:28:15.658281Z",
     "start_time": "2020-08-22T01:28:13.709421Z"
    }
   },
   "outputs": [
    {
     "data": {
      "image/png": "[encoded data removed]",
      "text/plain": [
       "<Figure size 576x576 with 2 Axes>"
      ]
     },
     "metadata": {
      "needs_background": "light"
     },
     "output_type": "display_data"
    }
   ],
   "source": [
    "z = projection_df[projection_df.class_== 'TSNE'].train_z.values[0]\n",
    "y = projection_df.train_label.values[0]\n",
    "fig, ax = plt.subplots( figsize=(8, 8))\n",
    "sc = ax.scatter(\n",
    "    z[:, 0],\n",
    "    z[:, 1],\n",
    "    c=y,\n",
    "    cmap=\"tab10\",\n",
    "    s=0.1,\n",
    "    alpha=0.5,\n",
    "    rasterized=True,\n",
    ")\n",
    "ax.axis('equal')\n",
    "plt.colorbar(sc, ax=ax);"
   ]
  },
  {
   "cell_type": "code",
   "execution_count": 35,
   "metadata": {
    "ExecuteTime": {
     "end_time": "2020-08-22T01:28:17.447532Z",
     "start_time": "2020-08-22T01:28:17.443668Z"
    }
   },
   "outputs": [],
   "source": [
    "from sklearn.metrics import silhouette_score"
   ]
  },
  {
   "cell_type": "code",
   "execution_count": 36,
   "metadata": {
    "ExecuteTime": {
     "end_time": "2020-08-22T01:28:30.988941Z",
     "start_time": "2020-08-22T01:28:17.656979Z"
    }
   },
   "outputs": [
    {
     "data": {
      "text/plain": [
       "0.015058076210601175"
      ]
     },
     "execution_count": 36,
     "metadata": {},
     "output_type": "execute_result"
    }
   ],
   "source": [
    "silhouette_score(z, y)"
   ]
  },
  {
   "cell_type": "code",
   "execution_count": 37,
   "metadata": {
    "ExecuteTime": {
     "end_time": "2020-08-22T01:28:50.301116Z",
     "start_time": "2020-08-22T01:28:30.990263Z"
    }
   },
   "outputs": [
    {
     "data": {
      "text/plain": [
       "0.015058076210601184"
      ]
     },
     "execution_count": 37,
     "metadata": {},
     "output_type": "execute_result"
    }
   ],
   "source": [
    "ss, sil_samp = silhouette_score_block(z, y.astype('int'), n_jobs = -1)\n",
    "ss"
   ]
  },
  {
   "cell_type": "code",
   "execution_count": 38,
   "metadata": {
    "ExecuteTime": {
     "end_time": "2020-08-22T01:28:52.143753Z",
     "start_time": "2020-08-22T01:28:50.302898Z"
    }
   },
   "outputs": [
    {
     "data": {
      "image/png": "[encoded data removed]",
      "text/plain": [
       "<Figure size 576x576 with 2 Axes>"
      ]
     },
     "metadata": {
      "needs_background": "light"
     },
     "output_type": "display_data"
    }
   ],
   "source": [
    "z = projection_df[projection_df.class_== 'TSNE'].train_z.values[0]\n",
    "y = projection_df.train_label.values[0]\n",
    "fig, ax = plt.subplots( figsize=(8, 8))\n",
    "sc = ax.scatter(\n",
    "    z[:, 0],\n",
    "    z[:, 1],\n",
    "    c=sil_samp,\n",
    "    cmap=\"viridis\",\n",
    "    s=0.1,\n",
    "    alpha=0.5,\n",
    "    rasterized=True,\n",
    ")\n",
    "ax.axis('equal')\n",
    "plt.colorbar(sc, ax=ax);"
   ]
  },
  {
   "cell_type": "code",
   "execution_count": 39,
   "metadata": {
    "ExecuteTime": {
     "end_time": "2020-08-22T01:28:52.429500Z",
     "start_time": "2020-08-22T01:28:52.145151Z"
    }
   },
   "outputs": [
    {
     "data": {
      "text/plain": [
       "(array([ 452., 1710., 2783., 4291., 4376., 4169., 6384., 3697.,  961.,\n",
       "        1504.]),\n",
       " array([-0.98358958, -0.79340919, -0.60322881, -0.41304843, -0.22286805,\n",
       "        -0.03268767,  0.15749272,  0.3476731 ,  0.53785348,  0.72803386,\n",
       "         0.91821424]),\n",
       " <a list of 10 Patch objects>)"
      ]
     },
     "execution_count": 39,
     "metadata": {},
     "output_type": "execute_result"
    },
    {
     "data": {
      "image/png": "[encoded data removed]",
      "text/plain": [
       "<Figure size 432x288 with 1 Axes>"
      ]
     },
     "metadata": {
      "needs_background": "light"
     },
     "output_type": "display_data"
    }
   ],
   "source": [
    "plt.hist(sil_samp)"
   ]
  },
  {
   "cell_type": "code",
   "execution_count": 40,
   "metadata": {
    "ExecuteTime": {
     "end_time": "2020-08-22T01:28:53.711197Z",
     "start_time": "2020-08-22T01:28:52.431204Z"
    }
   },
   "outputs": [
    {
     "name": "stdout",
     "output_type": "stream",
     "text": [
      "/mnt/cube/tsainbur/Projects/github_repos/umap_tf_networks/models/projections/macosko2015/64/umap-learn/z.npy\n",
      "/mnt/cube/tsainbur/Projects/github_repos/umap_tf_networks/models/projections/macosko2015/64/direct/z.npy\n",
      "/mnt/cube/tsainbur/Projects/github_repos/umap_tf_networks/models/projections/macosko2015/64/network/z.npy\n",
      "/mnt/cube/tsainbur/Projects/github_repos/umap_tf_networks/models/projections/macosko2015/64/autoencoder/z.npy\n",
      "/mnt/cube/tsainbur/Projects/github_repos/umap_tf_networks/models/projections/macosko2015/64/PCA/z.npy\n",
      "/mnt/cube/tsainbur/Projects/github_repos/umap_tf_networks/models/projections/macosko2015/64/TSNE/z.npy\n",
      "[Errno 2] No such file or directory: '/mnt/cube/tsainbur/Projects/github_repos/umap_tf_networks/models/projections/macosko2015/64/TSNE/z.npy'\n"
     ]
    }
   ],
   "source": [
    "projection_df_64 = pd.DataFrame(columns = ['dataset', 'class_', 'train_z', 'train_label'])\n",
    "for class_ in classes:\n",
    "    print(output_dir / dataset / '64' / class_ / 'z.npy')\n",
    "    try:\n",
    "        z = np.load(output_dir / dataset / '64' / class_ / 'z.npy')\n",
    "        projection_df_64.loc[len(projection_df_64)] = [dataset, class_, z, Y_train]\n",
    "    except FileNotFoundError as e:\n",
    "        print(e)\n",
    "projection_df_64['dim'] = 64"
   ]
  },
  {
   "cell_type": "code",
   "execution_count": 41,
   "metadata": {
    "ExecuteTime": {
     "end_time": "2020-08-22T01:28:54.461441Z",
     "start_time": "2020-08-22T01:28:53.712461Z"
    }
   },
   "outputs": [
    {
     "data": {
      "text/html": [
       "<div>\n",
       "<style scoped>\n",
       "    .dataframe tbody tr th:only-of-type {\n",
       "        vertical-align: middle;\n",
       "    }\n",
       "\n",
       "    .dataframe tbody tr th {\n",
       "        vertical-align: top;\n",
       "    }\n",
       "\n",
       "    .dataframe thead th {\n",
       "        text-align: right;\n",
       "    }\n",
       "</style>\n",
       "<table border=\"1\" class=\"dataframe\">\n",
       "  <thead>\n",
       "    <tr style=\"text-align: right;\">\n",
       "      <th></th>\n",
       "      <th>dataset</th>\n",
       "      <th>class_</th>\n",
       "      <th>train_z</th>\n",
       "      <th>train_label</th>\n",
       "      <th>dim</th>\n",
       "    </tr>\n",
       "  </thead>\n",
       "  <tbody>\n",
       "    <tr>\n",
       "      <th>0</th>\n",
       "      <td>macosko2015</td>\n",
       "      <td>umap-learn</td>\n",
       "      <td>[[8.359688, 8.3315, -0.19391648, 9.270641, 6.4...</td>\n",
       "      <td>[10.0, 7.0, 0.0, 10.0, 10.0, 10.0, 10.0, 10.0,...</td>\n",
       "      <td>64</td>\n",
       "    </tr>\n",
       "    <tr>\n",
       "      <th>1</th>\n",
       "      <td>macosko2015</td>\n",
       "      <td>direct</td>\n",
       "      <td>[[1.8133022, -0.8814417, -2.071626, 0.2036878,...</td>\n",
       "      <td>[10.0, 7.0, 0.0, 10.0, 10.0, 10.0, 10.0, 10.0,...</td>\n",
       "      <td>64</td>\n",
       "    </tr>\n",
       "    <tr>\n",
       "      <th>2</th>\n",
       "      <td>macosko2015</td>\n",
       "      <td>network</td>\n",
       "      <td>[[1.2624209, -0.34446073, -0.9939091, 0.766739...</td>\n",
       "      <td>[10.0, 7.0, 0.0, 10.0, 10.0, 10.0, 10.0, 10.0,...</td>\n",
       "      <td>64</td>\n",
       "    </tr>\n",
       "    <tr>\n",
       "      <th>3</th>\n",
       "      <td>macosko2015</td>\n",
       "      <td>autoencoder</td>\n",
       "      <td>[[-1.8189778, 0.79837877, -1.3174044, 0.800953...</td>\n",
       "      <td>[10.0, 7.0, 0.0, 10.0, 10.0, 10.0, 10.0, 10.0,...</td>\n",
       "      <td>64</td>\n",
       "    </tr>\n",
       "    <tr>\n",
       "      <th>4</th>\n",
       "      <td>macosko2015</td>\n",
       "      <td>PCA</td>\n",
       "      <td>[[-6.467557867518488, -0.44503041937568383, 0....</td>\n",
       "      <td>[10.0, 7.0, 0.0, 10.0, 10.0, 10.0, 10.0, 10.0,...</td>\n",
       "      <td>64</td>\n",
       "    </tr>\n",
       "  </tbody>\n",
       "</table>\n",
       "</div>"
      ],
      "text/plain": [
       "       dataset       class_  \\\n",
       "0  macosko2015   umap-learn   \n",
       "1  macosko2015       direct   \n",
       "2  macosko2015      network   \n",
       "3  macosko2015  autoencoder   \n",
       "4  macosko2015          PCA   \n",
       "\n",
       "                                             train_z  \\\n",
       "0  [[8.359688, 8.3315, -0.19391648, 9.270641, 6.4...   \n",
       "1  [[1.8133022, -0.8814417, -2.071626, 0.2036878,...   \n",
       "2  [[1.2624209, -0.34446073, -0.9939091, 0.766739...   \n",
       "3  [[-1.8189778, 0.79837877, -1.3174044, 0.800953...   \n",
       "4  [[-6.467557867518488, -0.44503041937568383, 0....   \n",
       "\n",
       "                                         train_label  dim  \n",
       "0  [10.0, 7.0, 0.0, 10.0, 10.0, 10.0, 10.0, 10.0,...   64  \n",
       "1  [10.0, 7.0, 0.0, 10.0, 10.0, 10.0, 10.0, 10.0,...   64  \n",
       "2  [10.0, 7.0, 0.0, 10.0, 10.0, 10.0, 10.0, 10.0,...   64  \n",
       "3  [10.0, 7.0, 0.0, 10.0, 10.0, 10.0, 10.0, 10.0,...   64  \n",
       "4  [10.0, 7.0, 0.0, 10.0, 10.0, 10.0, 10.0, 10.0,...   64  "
      ]
     },
     "execution_count": 41,
     "metadata": {},
     "output_type": "execute_result"
    }
   ],
   "source": [
    "projection_df_64"
   ]
  },
  {
   "cell_type": "markdown",
   "metadata": {},
   "source": [
    "##### compute silhouette score and trustworthiness"
   ]
  },
  {
   "cell_type": "code",
   "execution_count": 42,
   "metadata": {
    "ExecuteTime": {
     "end_time": "2020-08-22T01:33:32.521302Z",
     "start_time": "2020-08-22T01:28:54.462512Z"
    }
   },
   "outputs": [
    {
     "data": {
      "application/vnd.jupyter.widget-view+json": {
       "model_id": "fc4174f91c9c43859b3839ac89691344",
       "version_major": 2,
       "version_minor": 0
      },
      "text/plain": [
       "HBox(children=(IntProgress(value=0, max=11), HTML(value='')))"
      ]
     },
     "metadata": {},
     "output_type": "display_data"
    },
    {
     "name": "stdout",
     "output_type": "stream",
     "text": [
      "\n"
     ]
    }
   ],
   "source": [
    "for idx, row in tqdm(pd.concat([projection_df, projection_df_64]).iterrows(), total = len(projection_df)+ len(projection_df_64)):\n",
    "    ss, sil_samp = silhouette_score_block(row.train_z, row.train_label, n_jobs = -1)\n",
    "    tw = trustworthiness(X_train_flat[:10000], row.train_z[:10000])\n",
    "    metrics_df.loc[len(metrics_df)] = [dataset, row.class_, row.dim, tw, ss, sil_samp]"
   ]
  },
  {
   "cell_type": "markdown",
   "metadata": {},
   "source": [
    "### Cassin's"
   ]
  },
  {
   "cell_type": "markdown",
   "metadata": {},
   "source": [
    "##### load dataset"
   ]
  },
  {
   "cell_type": "code",
   "execution_count": 43,
   "metadata": {
    "ExecuteTime": {
     "end_time": "2020-08-22T01:33:42.073674Z",
     "start_time": "2020-08-22T01:33:32.525045Z"
    }
   },
   "outputs": [],
   "source": [
    "from tfumap.paths import ensure_dir, MODEL_DIR, DATA_DIR\n",
    "\n",
    "syllable_df = pd.read_pickle(DATA_DIR/'cassins'/ 'cassins.pickle')\n",
    "\n",
    "top_labels = (\n",
    "    pd.DataFrame(\n",
    "        {i: [np.sum(syllable_df.labels.values == i)] for i in syllable_df.labels.unique()}\n",
    "    )\n",
    "    .T.sort_values(by=0, ascending=False)[:20]\n",
    "    .T\n",
    ")\n",
    "\n",
    "sylllable_df = syllable_df[syllable_df.labels.isin(top_labels.columns)]\n",
    "\n",
    "\n",
    "sylllable_df = sylllable_df.reset_index()\n",
    "\n",
    "specs = np.array(list(sylllable_df.spectrogram.values))\n",
    "specs.shape\n",
    "\n",
    "sylllable_df['subset'] = 'train'\n",
    "sylllable_df.loc[:1000, 'subset'] = 'valid'\n",
    "sylllable_df.loc[1000:1999, 'subset'] = 'test'\n",
    "\n",
    "\n",
    "Y_train = np.array(list(sylllable_df.labels.values[sylllable_df.subset == 'train']))\n",
    "Y_valid = np.array(list(sylllable_df.labels.values[sylllable_df.subset == 'valid']))\n",
    "Y_test = np.array(list(sylllable_df.labels.values[sylllable_df.subset == 'test']))\n",
    "\n",
    "X_train = np.array(list(sylllable_df.spectrogram.values[sylllable_df.subset == 'train'])) #/ 255.\n",
    "X_valid = np.array(list(sylllable_df.spectrogram.values[sylllable_df.subset == 'valid']))# / 255.\n",
    "X_test = np.array(list(sylllable_df.spectrogram.values[sylllable_df.subset == 'test'])) #/ 255.\n",
    "\n",
    "X_train_flat = X_train.reshape((len(X_train), np.product(np.shape(X_train)[1:])))\n",
    "\n",
    "from sklearn.preprocessing import OrdinalEncoder\n",
    "enc = OrdinalEncoder()\n",
    "Y_train = enc.fit_transform([[i] for i in Y_train]).astype('int').flatten()"
   ]
  },
  {
   "cell_type": "code",
   "execution_count": 44,
   "metadata": {
    "ExecuteTime": {
     "end_time": "2020-08-22T01:33:42.084291Z",
     "start_time": "2020-08-22T01:33:42.077428Z"
    }
   },
   "outputs": [],
   "source": [
    "dataset = 'cassins_dtw'"
   ]
  },
  {
   "cell_type": "code",
   "execution_count": 45,
   "metadata": {
    "ExecuteTime": {
     "end_time": "2020-08-22T01:33:42.092294Z",
     "start_time": "2020-08-22T01:33:42.090151Z"
    }
   },
   "outputs": [],
   "source": [
    "classes = ['umap-learn', 'direct', 'network', 'autoencoder', 'PCA', 'TSNE']"
   ]
  },
  {
   "cell_type": "code",
   "execution_count": 46,
   "metadata": {
    "ExecuteTime": {
     "end_time": "2020-08-22T01:33:42.157052Z",
     "start_time": "2020-08-22T01:33:42.093308Z"
    }
   },
   "outputs": [
    {
     "name": "stdout",
     "output_type": "stream",
     "text": [
      "/mnt/cube/tsainbur/Projects/github_repos/umap_tf_networks/models/projections/cassins_dtw/umap-learn\n",
      "/mnt/cube/tsainbur/Projects/github_repos/umap_tf_networks/models/projections/cassins_dtw/direct\n",
      "/mnt/cube/tsainbur/Projects/github_repos/umap_tf_networks/models/projections/cassins_dtw/network\n",
      "/mnt/cube/tsainbur/Projects/github_repos/umap_tf_networks/models/projections/cassins_dtw/autoencoder\n",
      "/mnt/cube/tsainbur/Projects/github_repos/umap_tf_networks/models/projections/cassins_dtw/PCA\n",
      "/mnt/cube/tsainbur/Projects/github_repos/umap_tf_networks/models/projections/cassins_dtw/TSNE\n"
     ]
    }
   ],
   "source": [
    "projection_df = pd.DataFrame(columns = ['dataset', 'class_', 'train_z', 'train_label'])\n",
    "for class_ in classes:\n",
    "    print(output_dir / dataset / class_)\n",
    "    z = np.load(output_dir / dataset / class_ / 'z.npy')\n",
    "    projection_df.loc[len(projection_df)] = [dataset, class_, z, Y_train]\n",
    "projection_df['dim'] = 2"
   ]
  },
  {
   "cell_type": "code",
   "execution_count": 47,
   "metadata": {
    "ExecuteTime": {
     "end_time": "2020-08-22T01:33:42.478924Z",
     "start_time": "2020-08-22T01:33:42.158241Z"
    }
   },
   "outputs": [
    {
     "name": "stdout",
     "output_type": "stream",
     "text": [
      "/mnt/cube/tsainbur/Projects/github_repos/umap_tf_networks/models/projections/cassins_dtw/64/umap-learn/z.npy\n",
      "/mnt/cube/tsainbur/Projects/github_repos/umap_tf_networks/models/projections/cassins_dtw/64/direct/z.npy\n",
      "/mnt/cube/tsainbur/Projects/github_repos/umap_tf_networks/models/projections/cassins_dtw/64/network/z.npy\n",
      "/mnt/cube/tsainbur/Projects/github_repos/umap_tf_networks/models/projections/cassins_dtw/64/autoencoder/z.npy\n",
      "/mnt/cube/tsainbur/Projects/github_repos/umap_tf_networks/models/projections/cassins_dtw/64/PCA/z.npy\n",
      "/mnt/cube/tsainbur/Projects/github_repos/umap_tf_networks/models/projections/cassins_dtw/64/TSNE/z.npy\n",
      "[Errno 2] No such file or directory: '/mnt/cube/tsainbur/Projects/github_repos/umap_tf_networks/models/projections/cassins_dtw/64/TSNE/z.npy'\n"
     ]
    }
   ],
   "source": [
    "projection_df_64 = pd.DataFrame(columns = ['dataset', 'class_', 'train_z', 'train_label'])\n",
    "for class_ in classes:\n",
    "    print(output_dir / dataset / '64' / class_ / 'z.npy')\n",
    "    try:\n",
    "        z = np.load(output_dir / dataset / '64' / class_ / 'z.npy')\n",
    "        projection_df_64.loc[len(projection_df_64)] = [dataset, class_, z, Y_train]\n",
    "    except FileNotFoundError as e:\n",
    "        print(e)\n",
    "projection_df_64['dim'] = 64"
   ]
  },
  {
   "cell_type": "code",
   "execution_count": 48,
   "metadata": {
    "ExecuteTime": {
     "end_time": "2020-08-22T01:33:43.095719Z",
     "start_time": "2020-08-22T01:33:42.480216Z"
    }
   },
   "outputs": [
    {
     "data": {
      "text/html": [
       "<div>\n",
       "<style scoped>\n",
       "    .dataframe tbody tr th:only-of-type {\n",
       "        vertical-align: middle;\n",
       "    }\n",
       "\n",
       "    .dataframe tbody tr th {\n",
       "        vertical-align: top;\n",
       "    }\n",
       "\n",
       "    .dataframe thead th {\n",
       "        text-align: right;\n",
       "    }\n",
       "</style>\n",
       "<table border=\"1\" class=\"dataframe\">\n",
       "  <thead>\n",
       "    <tr style=\"text-align: right;\">\n",
       "      <th></th>\n",
       "      <th>dataset</th>\n",
       "      <th>class_</th>\n",
       "      <th>train_z</th>\n",
       "      <th>train_label</th>\n",
       "      <th>dim</th>\n",
       "    </tr>\n",
       "  </thead>\n",
       "  <tbody>\n",
       "    <tr>\n",
       "      <th>0</th>\n",
       "      <td>cassins_dtw</td>\n",
       "      <td>umap-learn</td>\n",
       "      <td>[[9.537935, 4.818524, 7.1129403, 5.4550376, 3....</td>\n",
       "      <td>[14, 11, 11, 11, 11, 11, 11, 11, 11, 17, 0, 0,...</td>\n",
       "      <td>64</td>\n",
       "    </tr>\n",
       "    <tr>\n",
       "      <th>1</th>\n",
       "      <td>cassins_dtw</td>\n",
       "      <td>direct</td>\n",
       "      <td>[[-3.6578476, 2.8603497], [-3.4534016, -1.7437...</td>\n",
       "      <td>[14, 11, 11, 11, 11, 11, 11, 11, 11, 17, 0, 0,...</td>\n",
       "      <td>64</td>\n",
       "    </tr>\n",
       "    <tr>\n",
       "      <th>2</th>\n",
       "      <td>cassins_dtw</td>\n",
       "      <td>network</td>\n",
       "      <td>[[0.067953914, 1.1247087, -0.30184433, -0.0895...</td>\n",
       "      <td>[14, 11, 11, 11, 11, 11, 11, 11, 11, 17, 0, 0,...</td>\n",
       "      <td>64</td>\n",
       "    </tr>\n",
       "    <tr>\n",
       "      <th>3</th>\n",
       "      <td>cassins_dtw</td>\n",
       "      <td>autoencoder</td>\n",
       "      <td>[[-0.19101253, -0.13350153, 0.31930703, -0.115...</td>\n",
       "      <td>[14, 11, 11, 11, 11, 11, 11, 11, 11, 17, 0, 0,...</td>\n",
       "      <td>64</td>\n",
       "    </tr>\n",
       "    <tr>\n",
       "      <th>4</th>\n",
       "      <td>cassins_dtw</td>\n",
       "      <td>PCA</td>\n",
       "      <td>[[0.42795324, 0.9923732, 0.26569974, 0.0269105...</td>\n",
       "      <td>[14, 11, 11, 11, 11, 11, 11, 11, 11, 17, 0, 0,...</td>\n",
       "      <td>64</td>\n",
       "    </tr>\n",
       "  </tbody>\n",
       "</table>\n",
       "</div>"
      ],
      "text/plain": [
       "       dataset       class_  \\\n",
       "0  cassins_dtw   umap-learn   \n",
       "1  cassins_dtw       direct   \n",
       "2  cassins_dtw      network   \n",
       "3  cassins_dtw  autoencoder   \n",
       "4  cassins_dtw          PCA   \n",
       "\n",
       "                                             train_z  \\\n",
       "0  [[9.537935, 4.818524, 7.1129403, 5.4550376, 3....   \n",
       "1  [[-3.6578476, 2.8603497], [-3.4534016, -1.7437...   \n",
       "2  [[0.067953914, 1.1247087, -0.30184433, -0.0895...   \n",
       "3  [[-0.19101253, -0.13350153, 0.31930703, -0.115...   \n",
       "4  [[0.42795324, 0.9923732, 0.26569974, 0.0269105...   \n",
       "\n",
       "                                         train_label  dim  \n",
       "0  [14, 11, 11, 11, 11, 11, 11, 11, 11, 17, 0, 0,...   64  \n",
       "1  [14, 11, 11, 11, 11, 11, 11, 11, 11, 17, 0, 0,...   64  \n",
       "2  [14, 11, 11, 11, 11, 11, 11, 11, 11, 17, 0, 0,...   64  \n",
       "3  [14, 11, 11, 11, 11, 11, 11, 11, 11, 17, 0, 0,...   64  \n",
       "4  [14, 11, 11, 11, 11, 11, 11, 11, 11, 17, 0, 0,...   64  "
      ]
     },
     "execution_count": 48,
     "metadata": {},
     "output_type": "execute_result"
    }
   ],
   "source": [
    "projection_df_64"
   ]
  },
  {
   "cell_type": "markdown",
   "metadata": {},
   "source": [
    "##### compute silhouette score and trustworthiness"
   ]
  },
  {
   "cell_type": "code",
   "execution_count": 49,
   "metadata": {
    "ExecuteTime": {
     "end_time": "2020-08-22T01:37:03.102403Z",
     "start_time": "2020-08-22T01:33:43.097487Z"
    }
   },
   "outputs": [
    {
     "data": {
      "application/vnd.jupyter.widget-view+json": {
       "model_id": "8df8d82499ae4472a79d5b369b15ee2f",
       "version_major": 2,
       "version_minor": 0
      },
      "text/plain": [
       "HBox(children=(IntProgress(value=0, max=11), HTML(value='')))"
      ]
     },
     "metadata": {},
     "output_type": "display_data"
    },
    {
     "name": "stdout",
     "output_type": "stream",
     "text": [
      "\n"
     ]
    }
   ],
   "source": [
    "for idx, row in tqdm(pd.concat([projection_df, projection_df_64]).iterrows(), total = len(projection_df)+ len(projection_df_64)):\n",
    "    ss, sil_samp = silhouette_score_block(row.train_z, row.train_label, n_jobs = -1)\n",
    "    tw = trustworthiness(X_train_flat[:10000], row.train_z[:10000])\n",
    "    metrics_df.loc[len(metrics_df)] = [dataset, row.class_, row.dim, tw, ss, sil_samp]"
   ]
  },
  {
   "cell_type": "markdown",
   "metadata": {},
   "source": [
    "### Save all"
   ]
  },
  {
   "cell_type": "code",
   "execution_count": 50,
   "metadata": {
    "ExecuteTime": {
     "end_time": "2020-08-22T01:37:03.204620Z",
     "start_time": "2020-08-22T01:37:03.104548Z"
    }
   },
   "outputs": [],
   "source": [
    "metrics_df.to_pickle(DATA_DIR / 'projection_metrics.pickle')"
   ]
  },
  {
   "cell_type": "code",
   "execution_count": 51,
   "metadata": {
    "ExecuteTime": {
     "end_time": "2020-08-22T01:37:03.222368Z",
     "start_time": "2020-08-22T01:37:03.206702Z"
    }
   },
   "outputs": [
    {
     "data": {
      "text/html": [
       "<div>\n",
       "<style scoped>\n",
       "    .dataframe tbody tr th:only-of-type {\n",
       "        vertical-align: middle;\n",
       "    }\n",
       "\n",
       "    .dataframe tbody tr th {\n",
       "        vertical-align: top;\n",
       "    }\n",
       "\n",
       "    .dataframe thead th {\n",
       "        text-align: right;\n",
       "    }\n",
       "</style>\n",
       "<table border=\"1\" class=\"dataframe\">\n",
       "  <thead>\n",
       "    <tr style=\"text-align: right;\">\n",
       "      <th></th>\n",
       "      <th>dataset</th>\n",
       "      <th>class_</th>\n",
       "      <th>dim</th>\n",
       "      <th>trustworthiness</th>\n",
       "      <th>silhouette_score</th>\n",
       "      <th>silhouette_samples</th>\n",
       "    </tr>\n",
       "  </thead>\n",
       "  <tbody>\n",
       "    <tr>\n",
       "      <th>0</th>\n",
       "      <td>mnist</td>\n",
       "      <td>umap-learn</td>\n",
       "      <td>2</td>\n",
       "      <td>0.960056</td>\n",
       "      <td>0.518626</td>\n",
       "      <td>[0.639216248568865, 0.781801993664271, 0.44323...</td>\n",
       "    </tr>\n",
       "    <tr>\n",
       "      <th>1</th>\n",
       "      <td>mnist</td>\n",
       "      <td>direct</td>\n",
       "      <td>2</td>\n",
       "      <td>0.960416</td>\n",
       "      <td>0.519683</td>\n",
       "      <td>[0.6649555493948871, 0.7389523838324524, 0.464...</td>\n",
       "    </tr>\n",
       "    <tr>\n",
       "      <th>2</th>\n",
       "      <td>mnist</td>\n",
       "      <td>network</td>\n",
       "      <td>2</td>\n",
       "      <td>0.957346</td>\n",
       "      <td>0.555885</td>\n",
       "      <td>[0.6068383792564549, 0.8137081492037734, 0.522...</td>\n",
       "    </tr>\n",
       "  </tbody>\n",
       "</table>\n",
       "</div>"
      ],
      "text/plain": [
       "  dataset      class_ dim  trustworthiness  silhouette_score  \\\n",
       "0   mnist  umap-learn   2         0.960056          0.518626   \n",
       "1   mnist      direct   2         0.960416          0.519683   \n",
       "2   mnist     network   2         0.957346          0.555885   \n",
       "\n",
       "                                  silhouette_samples  \n",
       "0  [0.639216248568865, 0.781801993664271, 0.44323...  \n",
       "1  [0.6649555493948871, 0.7389523838324524, 0.464...  \n",
       "2  [0.6068383792564549, 0.8137081492037734, 0.522...  "
      ]
     },
     "execution_count": 51,
     "metadata": {},
     "output_type": "execute_result"
    }
   ],
   "source": [
    "metrics_df[:3]"
   ]
  },
  {
   "cell_type": "code",
   "execution_count": 52,
   "metadata": {
    "ExecuteTime": {
     "end_time": "2020-08-22T01:37:03.375855Z",
     "start_time": "2020-08-22T01:37:03.223703Z"
    }
   },
   "outputs": [],
   "source": [
    "import seaborn as sns"
   ]
  },
  {
   "cell_type": "code",
   "execution_count": 53,
   "metadata": {
    "ExecuteTime": {
     "end_time": "2020-08-22T01:37:03.381460Z",
     "start_time": "2020-08-22T01:37:03.378082Z"
    }
   },
   "outputs": [],
   "source": [
    "import matplotlib.pyplot as plt"
   ]
  },
  {
   "cell_type": "code",
   "execution_count": 54,
   "metadata": {
    "ExecuteTime": {
     "end_time": "2020-08-22T01:37:03.555324Z",
     "start_time": "2020-08-22T01:37:03.382706Z"
    }
   },
   "outputs": [
    {
     "data": {
      "image/png": "[encoded data removed]",
      "text/plain": [
       "<Figure size 432x72 with 1 Axes>"
      ]
     },
     "metadata": {
      "needs_background": "light"
     },
     "output_type": "display_data"
    }
   ],
   "source": [
    "palette = sns.color_palette('Reds', 1) + sns.color_palette('Blues', 6)[2:] + sns.color_palette('Greens', 1) \n",
    "sns.palplot(palette)"
   ]
  },
  {
   "cell_type": "code",
   "execution_count": 55,
   "metadata": {
    "ExecuteTime": {
     "end_time": "2020-08-22T01:37:03.561313Z",
     "start_time": "2020-08-22T01:37:03.557285Z"
    }
   },
   "outputs": [],
   "source": [
    "from tfumap.paths import FIGURE_DIR, save_fig"
   ]
  },
  {
   "cell_type": "code",
   "execution_count": 56,
   "metadata": {
    "ExecuteTime": {
     "end_time": "2020-08-22T01:37:06.136300Z",
     "start_time": "2020-08-22T01:37:03.563307Z"
    }
   },
   "outputs": [
    {
     "data": {
      "image/png": "[encoded data removed]",
      "text/plain": [
       "<Figure size 729x180 with 2 Axes>"
      ]
     },
     "metadata": {
      "needs_background": "light"
     },
     "output_type": "display_data"
    }
   ],
   "source": [
    "fg = sns.catplot(\n",
    "    x=\"dataset\",\n",
    "    y=\"silhouette_score\",\n",
    "    hue=\"class_\",\n",
    "    hue_order=[\"TSNE\", \"umap-learn\", \"direct\", \"network\", \"autoencoder\", \"PCA\"],\n",
    "    order = ['mnist', 'fmnist', 'macosko2015', 'cassins_dtw', 'cifar10'],\n",
    "    col=\"dim\",\n",
    "    height=2.5, \n",
    "    aspect=1.75,\n",
    "    data=metrics_df,\n",
    "    kind=\"bar\",\n",
    "    palette=palette,\n",
    "    #legend=False\n",
    ")\n",
    "(fg.despine(bottom=True)\n",
    " .set_xticklabels(['MNIST', 'FMNIST', 'Retina', 'Cassin\\'s', 'CIFAR10'])\n",
    " .set_axis_labels(\"\", \"Silhouette Score\")\n",
    ")\n",
    "ax = fg.axes[0][0]\n",
    "ax.tick_params(axis=u'both', which=u'both',length=0)\n",
    "fg._legend._legend_title_box._text.set_text(\"\")\n",
    "#fg._legend.texts[2].set_text(\"P. UMAP\")\n",
    "#fg._legend.texts[3].set_text(\"UMAP AE\")\n",
    "ax.set_title('2 Dimensions')\n",
    "ax = fg.axes[0][1]\n",
    "ax.tick_params(axis=u'both', which=u'both',length=0)\n",
    "\n",
    "ax.set_title('64 Dimensions')\n",
    "\n",
    "\n",
    "fg._legend.texts[np.where((np.array([i._text for i in fg._legend.texts]) == 'umap-learn'))[0][0]].set_text('UMAP-learn')\n",
    "fg._legend.texts[np.where((np.array([i._text for i in fg._legend.texts]) == 'network'))[0][0]].set_text('P. UMAP')\n",
    "fg._legend.texts[np.where((np.array([i._text for i in fg._legend.texts]) == 'direct'))[0][0]].set_text('UMAP (direct)')\n",
    "fg._legend.texts[np.where((np.array([i._text for i in fg._legend.texts]) == 'autoencoder'))[0][0]].set_text('UMAP AE')\n",
    "\n",
    "save_fig(FIGURE_DIR/'silhouette', save_pdf=True, dpi=300)"
   ]
  },
  {
   "cell_type": "code",
   "execution_count": 57,
   "metadata": {
    "ExecuteTime": {
     "end_time": "2020-08-22T01:37:08.570378Z",
     "start_time": "2020-08-22T01:37:06.138679Z"
    }
   },
   "outputs": [
    {
     "data": {
      "image/png": "[encoded data removed]",
      "text/plain": [
       "<Figure size 729x180 with 2 Axes>"
      ]
     },
     "metadata": {
      "needs_background": "light"
     },
     "output_type": "display_data"
    }
   ],
   "source": [
    "fg = sns.catplot(\n",
    "    x=\"dataset\",\n",
    "    y=\"trustworthiness\",\n",
    "    hue=\"class_\",\n",
    "    hue_order=[\"TSNE\", \"umap-learn\", \"direct\", \"network\", \"autoencoder\", \"PCA\"],\n",
    "    order = ['mnist', 'fmnist', 'macosko2015', 'cassins_dtw', 'cifar10'],\n",
    "    col=\"dim\",\n",
    "    height=2.5, \n",
    "    aspect=1.75,\n",
    "    data=metrics_df,\n",
    "    kind=\"bar\",\n",
    "    palette=palette,\n",
    "    #legend=False\n",
    ")\n",
    "(fg.despine(bottom=True)\n",
    " .set_xticklabels(['MNIST', 'FMNIST', 'Retina', 'Cassin\\'s', 'CIFAR10'])\n",
    " .set_axis_labels(\"\", \"Trustworthiness\")\n",
    ")\n",
    "ax = fg.axes[0][0]\n",
    "ax.tick_params(axis=u'both', which=u'both',length=0)\n",
    "fg._legend._legend_title_box._text.set_text(\"\")\n",
    "\n",
    "\n",
    "ax.set_title('2 Dimensions')\n",
    "ax = fg.axes[0][1]\n",
    "ax.tick_params(axis=u'both', which=u'both',length=0)\n",
    "\n",
    "ax.set_title('64 Dimensions')\n",
    "\n",
    "fg._legend.texts[np.where((np.array([i._text for i in fg._legend.texts]) == 'umap-learn'))[0][0]].set_text('UMAP-learn')\n",
    "fg._legend.texts[np.where((np.array([i._text for i in fg._legend.texts]) == 'network'))[0][0]].set_text('P. UMAP')\n",
    "fg._legend.texts[np.where((np.array([i._text for i in fg._legend.texts]) == 'direct'))[0][0]].set_text('UMAP (direct)')\n",
    "fg._legend.texts[np.where((np.array([i._text for i in fg._legend.texts]) == 'autoencoder'))[0][0]].set_text('UMAP AE')\n",
    "\n",
    "save_fig(FIGURE_DIR/'trustworthiness', save_pdf=True, dpi=300)"
   ]
  },
  {
   "cell_type": "code",
   "execution_count": 58,
   "metadata": {
    "ExecuteTime": {
     "end_time": "2020-08-22T01:37:08.596158Z",
     "start_time": "2020-08-22T01:37:08.578555Z"
    }
   },
   "outputs": [
    {
     "data": {
      "text/plain": [
       "(['mnist', 'fmnist', 'cifar10', 'macosko2015', 'cassins_dtw'],\n",
       " [2, 64],\n",
       " ['trustworthiness', 'silhouette_score'],\n",
       " ['umap-learn', 'direct', 'network', 'autoencoder', 'PCA', 'TSNE'])"
      ]
     },
     "execution_count": 58,
     "metadata": {},
     "output_type": "execute_result"
    }
   ],
   "source": [
    "unique_datasets = list(metrics_df.dataset.unique())\n",
    "unique_dims = list(metrics_df.dim.unique())\n",
    "unique_metric = ['trustworthiness', 'silhouette_score']\n",
    "unique_method = list(metrics_df.class_.unique())\n",
    "unique_datasets, unique_dims, unique_metric, unique_method"
   ]
  },
  {
   "cell_type": "code",
   "execution_count": 59,
   "metadata": {
    "ExecuteTime": {
     "end_time": "2020-08-22T01:37:08.608251Z",
     "start_time": "2020-08-22T01:37:08.598765Z"
    }
   },
   "outputs": [
    {
     "data": {
      "text/plain": [
       "MultiIndex([(      'mnist',  2),\n",
       "            (      'mnist', 64),\n",
       "            (     'fmnist',  2),\n",
       "            (     'fmnist', 64),\n",
       "            (    'cifar10',  2),\n",
       "            (    'cifar10', 64),\n",
       "            ('macosko2015',  2),\n",
       "            ('macosko2015', 64),\n",
       "            ('cassins_dtw',  2),\n",
       "            ('cassins_dtw', 64)],\n",
       "           names=['dataset', 'dim'])"
      ]
     },
     "execution_count": 59,
     "metadata": {},
     "output_type": "execute_result"
    }
   ],
   "source": [
    "row_idx = [\n",
    "    np.concatenate([list(np.repeat(i, len(unique_dims))) for i in unique_datasets]),\n",
    "    np.concatenate([list(unique_dims) for i in unique_datasets]),  \n",
    "]\n",
    "row_idx = pd.MultiIndex.from_tuples(list(zip(*row_idx)), names=['dataset', 'dim'])\n",
    "row_idx"
   ]
  },
  {
   "cell_type": "code",
   "execution_count": 60,
   "metadata": {
    "ExecuteTime": {
     "end_time": "2020-08-22T01:37:08.625448Z",
     "start_time": "2020-08-22T01:37:08.609587Z"
    }
   },
   "outputs": [
    {
     "data": {
      "text/plain": [
       "MultiIndex([( 'umap-learn',  'trustworthiness'),\n",
       "            ( 'umap-learn', 'silhouette_score'),\n",
       "            (     'direct',  'trustworthiness'),\n",
       "            (     'direct', 'silhouette_score'),\n",
       "            (    'network',  'trustworthiness'),\n",
       "            (    'network', 'silhouette_score'),\n",
       "            ('autoencoder',  'trustworthiness'),\n",
       "            ('autoencoder', 'silhouette_score'),\n",
       "            (        'PCA',  'trustworthiness'),\n",
       "            (        'PCA', 'silhouette_score'),\n",
       "            (       'TSNE',  'trustworthiness'),\n",
       "            (       'TSNE', 'silhouette_score')],\n",
       "           names=['method', 'metric'])"
      ]
     },
     "execution_count": 60,
     "metadata": {},
     "output_type": "execute_result"
    }
   ],
   "source": [
    "col_idx = [\n",
    "    np.concatenate([list(np.repeat(i, len(unique_metric))) for i in unique_method]),\n",
    "    np.concatenate([list(unique_metric) for i in unique_method]),  \n",
    "\n",
    "]\n",
    "col_idx = pd.MultiIndex.from_tuples(list(zip(*col_idx)), names=['method', 'metric'])\n",
    "col_idx"
   ]
  },
  {
   "cell_type": "code",
   "execution_count": 61,
   "metadata": {
    "ExecuteTime": {
     "end_time": "2020-08-22T01:37:08.650215Z",
     "start_time": "2020-08-22T01:37:08.626604Z"
    }
   },
   "outputs": [
    {
     "data": {
      "text/html": [
       "<div>\n",
       "<style scoped>\n",
       "    .dataframe tbody tr th:only-of-type {\n",
       "        vertical-align: middle;\n",
       "    }\n",
       "\n",
       "    .dataframe tbody tr th {\n",
       "        vertical-align: top;\n",
       "    }\n",
       "\n",
       "    .dataframe thead tr th {\n",
       "        text-align: left;\n",
       "    }\n",
       "\n",
       "    .dataframe thead tr:last-of-type th {\n",
       "        text-align: right;\n",
       "    }\n",
       "</style>\n",
       "<table border=\"1\" class=\"dataframe\">\n",
       "  <thead>\n",
       "    <tr>\n",
       "      <th></th>\n",
       "      <th>method</th>\n",
       "      <th colspan=\"2\" halign=\"left\">umap-learn</th>\n",
       "      <th colspan=\"2\" halign=\"left\">direct</th>\n",
       "      <th colspan=\"2\" halign=\"left\">network</th>\n",
       "      <th colspan=\"2\" halign=\"left\">autoencoder</th>\n",
       "      <th colspan=\"2\" halign=\"left\">PCA</th>\n",
       "      <th colspan=\"2\" halign=\"left\">TSNE</th>\n",
       "    </tr>\n",
       "    <tr>\n",
       "      <th></th>\n",
       "      <th>metric</th>\n",
       "      <th>trustworthiness</th>\n",
       "      <th>silhouette_score</th>\n",
       "      <th>trustworthiness</th>\n",
       "      <th>silhouette_score</th>\n",
       "      <th>trustworthiness</th>\n",
       "      <th>silhouette_score</th>\n",
       "      <th>trustworthiness</th>\n",
       "      <th>silhouette_score</th>\n",
       "      <th>trustworthiness</th>\n",
       "      <th>silhouette_score</th>\n",
       "      <th>trustworthiness</th>\n",
       "      <th>silhouette_score</th>\n",
       "    </tr>\n",
       "    <tr>\n",
       "      <th>dataset</th>\n",
       "      <th>dim</th>\n",
       "      <th></th>\n",
       "      <th></th>\n",
       "      <th></th>\n",
       "      <th></th>\n",
       "      <th></th>\n",
       "      <th></th>\n",
       "      <th></th>\n",
       "      <th></th>\n",
       "      <th></th>\n",
       "      <th></th>\n",
       "      <th></th>\n",
       "      <th></th>\n",
       "    </tr>\n",
       "  </thead>\n",
       "  <tbody>\n",
       "    <tr>\n",
       "      <th rowspan=\"2\" valign=\"top\">mnist</th>\n",
       "      <th>2</th>\n",
       "      <td>-1.0</td>\n",
       "      <td>-1.0</td>\n",
       "      <td>-1.0</td>\n",
       "      <td>-1.0</td>\n",
       "      <td>-1.0</td>\n",
       "      <td>-1.0</td>\n",
       "      <td>-1.0</td>\n",
       "      <td>-1.0</td>\n",
       "      <td>-1.0</td>\n",
       "      <td>-1.0</td>\n",
       "      <td>-1.0</td>\n",
       "      <td>-1.0</td>\n",
       "    </tr>\n",
       "    <tr>\n",
       "      <th>64</th>\n",
       "      <td>-1.0</td>\n",
       "      <td>-1.0</td>\n",
       "      <td>-1.0</td>\n",
       "      <td>-1.0</td>\n",
       "      <td>-1.0</td>\n",
       "      <td>-1.0</td>\n",
       "      <td>-1.0</td>\n",
       "      <td>-1.0</td>\n",
       "      <td>-1.0</td>\n",
       "      <td>-1.0</td>\n",
       "      <td>-1.0</td>\n",
       "      <td>-1.0</td>\n",
       "    </tr>\n",
       "    <tr>\n",
       "      <th rowspan=\"2\" valign=\"top\">fmnist</th>\n",
       "      <th>2</th>\n",
       "      <td>-1.0</td>\n",
       "      <td>-1.0</td>\n",
       "      <td>-1.0</td>\n",
       "      <td>-1.0</td>\n",
       "      <td>-1.0</td>\n",
       "      <td>-1.0</td>\n",
       "      <td>-1.0</td>\n",
       "      <td>-1.0</td>\n",
       "      <td>-1.0</td>\n",
       "      <td>-1.0</td>\n",
       "      <td>-1.0</td>\n",
       "      <td>-1.0</td>\n",
       "    </tr>\n",
       "    <tr>\n",
       "      <th>64</th>\n",
       "      <td>-1.0</td>\n",
       "      <td>-1.0</td>\n",
       "      <td>-1.0</td>\n",
       "      <td>-1.0</td>\n",
       "      <td>-1.0</td>\n",
       "      <td>-1.0</td>\n",
       "      <td>-1.0</td>\n",
       "      <td>-1.0</td>\n",
       "      <td>-1.0</td>\n",
       "      <td>-1.0</td>\n",
       "      <td>-1.0</td>\n",
       "      <td>-1.0</td>\n",
       "    </tr>\n",
       "    <tr>\n",
       "      <th rowspan=\"2\" valign=\"top\">cifar10</th>\n",
       "      <th>2</th>\n",
       "      <td>-1.0</td>\n",
       "      <td>-1.0</td>\n",
       "      <td>-1.0</td>\n",
       "      <td>-1.0</td>\n",
       "      <td>-1.0</td>\n",
       "      <td>-1.0</td>\n",
       "      <td>-1.0</td>\n",
       "      <td>-1.0</td>\n",
       "      <td>-1.0</td>\n",
       "      <td>-1.0</td>\n",
       "      <td>-1.0</td>\n",
       "      <td>-1.0</td>\n",
       "    </tr>\n",
       "    <tr>\n",
       "      <th>64</th>\n",
       "      <td>-1.0</td>\n",
       "      <td>-1.0</td>\n",
       "      <td>-1.0</td>\n",
       "      <td>-1.0</td>\n",
       "      <td>-1.0</td>\n",
       "      <td>-1.0</td>\n",
       "      <td>-1.0</td>\n",
       "      <td>-1.0</td>\n",
       "      <td>-1.0</td>\n",
       "      <td>-1.0</td>\n",
       "      <td>-1.0</td>\n",
       "      <td>-1.0</td>\n",
       "    </tr>\n",
       "    <tr>\n",
       "      <th rowspan=\"2\" valign=\"top\">macosko2015</th>\n",
       "      <th>2</th>\n",
       "      <td>-1.0</td>\n",
       "      <td>-1.0</td>\n",
       "      <td>-1.0</td>\n",
       "      <td>-1.0</td>\n",
       "      <td>-1.0</td>\n",
       "      <td>-1.0</td>\n",
       "      <td>-1.0</td>\n",
       "      <td>-1.0</td>\n",
       "      <td>-1.0</td>\n",
       "      <td>-1.0</td>\n",
       "      <td>-1.0</td>\n",
       "      <td>-1.0</td>\n",
       "    </tr>\n",
       "    <tr>\n",
       "      <th>64</th>\n",
       "      <td>-1.0</td>\n",
       "      <td>-1.0</td>\n",
       "      <td>-1.0</td>\n",
       "      <td>-1.0</td>\n",
       "      <td>-1.0</td>\n",
       "      <td>-1.0</td>\n",
       "      <td>-1.0</td>\n",
       "      <td>-1.0</td>\n",
       "      <td>-1.0</td>\n",
       "      <td>-1.0</td>\n",
       "      <td>-1.0</td>\n",
       "      <td>-1.0</td>\n",
       "    </tr>\n",
       "    <tr>\n",
       "      <th rowspan=\"2\" valign=\"top\">cassins_dtw</th>\n",
       "      <th>2</th>\n",
       "      <td>-1.0</td>\n",
       "      <td>-1.0</td>\n",
       "      <td>-1.0</td>\n",
       "      <td>-1.0</td>\n",
       "      <td>-1.0</td>\n",
       "      <td>-1.0</td>\n",
       "      <td>-1.0</td>\n",
       "      <td>-1.0</td>\n",
       "      <td>-1.0</td>\n",
       "      <td>-1.0</td>\n",
       "      <td>-1.0</td>\n",
       "      <td>-1.0</td>\n",
       "    </tr>\n",
       "    <tr>\n",
       "      <th>64</th>\n",
       "      <td>-1.0</td>\n",
       "      <td>-1.0</td>\n",
       "      <td>-1.0</td>\n",
       "      <td>-1.0</td>\n",
       "      <td>-1.0</td>\n",
       "      <td>-1.0</td>\n",
       "      <td>-1.0</td>\n",
       "      <td>-1.0</td>\n",
       "      <td>-1.0</td>\n",
       "      <td>-1.0</td>\n",
       "      <td>-1.0</td>\n",
       "      <td>-1.0</td>\n",
       "    </tr>\n",
       "  </tbody>\n",
       "</table>\n",
       "</div>"
      ],
      "text/plain": [
       "method               umap-learn                           direct  \\\n",
       "metric          trustworthiness silhouette_score trustworthiness   \n",
       "dataset     dim                                                    \n",
       "mnist       2              -1.0             -1.0            -1.0   \n",
       "            64             -1.0             -1.0            -1.0   \n",
       "fmnist      2              -1.0             -1.0            -1.0   \n",
       "            64             -1.0             -1.0            -1.0   \n",
       "cifar10     2              -1.0             -1.0            -1.0   \n",
       "            64             -1.0             -1.0            -1.0   \n",
       "macosko2015 2              -1.0             -1.0            -1.0   \n",
       "            64             -1.0             -1.0            -1.0   \n",
       "cassins_dtw 2              -1.0             -1.0            -1.0   \n",
       "            64             -1.0             -1.0            -1.0   \n",
       "\n",
       "method                                   network                   \\\n",
       "metric          silhouette_score trustworthiness silhouette_score   \n",
       "dataset     dim                                                     \n",
       "mnist       2               -1.0            -1.0             -1.0   \n",
       "            64              -1.0            -1.0             -1.0   \n",
       "fmnist      2               -1.0            -1.0             -1.0   \n",
       "            64              -1.0            -1.0             -1.0   \n",
       "cifar10     2               -1.0            -1.0             -1.0   \n",
       "            64              -1.0            -1.0             -1.0   \n",
       "macosko2015 2               -1.0            -1.0             -1.0   \n",
       "            64              -1.0            -1.0             -1.0   \n",
       "cassins_dtw 2               -1.0            -1.0             -1.0   \n",
       "            64              -1.0            -1.0             -1.0   \n",
       "\n",
       "method              autoencoder                              PCA  \\\n",
       "metric          trustworthiness silhouette_score trustworthiness   \n",
       "dataset     dim                                                    \n",
       "mnist       2              -1.0             -1.0            -1.0   \n",
       "            64             -1.0             -1.0            -1.0   \n",
       "fmnist      2              -1.0             -1.0            -1.0   \n",
       "            64             -1.0             -1.0            -1.0   \n",
       "cifar10     2              -1.0             -1.0            -1.0   \n",
       "            64             -1.0             -1.0            -1.0   \n",
       "macosko2015 2              -1.0             -1.0            -1.0   \n",
       "            64             -1.0             -1.0            -1.0   \n",
       "cassins_dtw 2              -1.0             -1.0            -1.0   \n",
       "            64             -1.0             -1.0            -1.0   \n",
       "\n",
       "method                                      TSNE                   \n",
       "metric          silhouette_score trustworthiness silhouette_score  \n",
       "dataset     dim                                                    \n",
       "mnist       2               -1.0            -1.0             -1.0  \n",
       "            64              -1.0            -1.0             -1.0  \n",
       "fmnist      2               -1.0            -1.0             -1.0  \n",
       "            64              -1.0            -1.0             -1.0  \n",
       "cifar10     2               -1.0            -1.0             -1.0  \n",
       "            64              -1.0            -1.0             -1.0  \n",
       "macosko2015 2               -1.0            -1.0             -1.0  \n",
       "            64              -1.0            -1.0             -1.0  \n",
       "cassins_dtw 2               -1.0            -1.0             -1.0  \n",
       "            64              -1.0            -1.0             -1.0  "
      ]
     },
     "execution_count": 61,
     "metadata": {},
     "output_type": "execute_result"
    }
   ],
   "source": [
    "results_df = pd.DataFrame(-1*np.ones((len(row_idx), len(col_idx))), index=row_idx, columns=col_idx)\n",
    "results_df"
   ]
  },
  {
   "cell_type": "code",
   "execution_count": 62,
   "metadata": {
    "ExecuteTime": {
     "end_time": "2020-08-22T01:37:08.915595Z",
     "start_time": "2020-08-22T01:37:08.651270Z"
    }
   },
   "outputs": [],
   "source": [
    "results_df = pd.DataFrame(-1*np.ones((len(row_idx), len(col_idx))), index=row_idx, columns=col_idx)\n",
    "for method_ in unique_method:\n",
    "    for dataset in unique_datasets:\n",
    "        for dim in unique_dims:\n",
    "            sil_scores = metrics_df[(metrics_df.dataset == dataset) &\n",
    "               (metrics_df.class_ == method_) &\n",
    "               (metrics_df.dim == dim)\n",
    "              ]['silhouette_score']\n",
    "            if len(sil_scores) > 0:\n",
    "                results_df.loc[(dataset,dim), (method_, 'silhouette_score')] = round(list(sil_scores)[0],3)\n",
    "                \n",
    "            trustworthiness_scores = metrics_df[(metrics_df.dataset == dataset) &\n",
    "               (metrics_df.class_ == method_) &\n",
    "               (metrics_df.dim == dim)\n",
    "              ]['trustworthiness']\n",
    "            if len(trustworthiness_scores) > 0:\n",
    "                results_df.loc[(dataset,dim), (method_, 'trustworthiness')] = round(list(trustworthiness_scores)[0],3)"
   ]
  },
  {
   "cell_type": "code",
   "execution_count": 63,
   "metadata": {
    "ExecuteTime": {
     "end_time": "2020-08-22T01:37:08.936077Z",
     "start_time": "2020-08-22T01:37:08.917078Z"
    }
   },
   "outputs": [
    {
     "data": {
      "text/html": [
       "<div>\n",
       "<style scoped>\n",
       "    .dataframe tbody tr th:only-of-type {\n",
       "        vertical-align: middle;\n",
       "    }\n",
       "\n",
       "    .dataframe tbody tr th {\n",
       "        vertical-align: top;\n",
       "    }\n",
       "\n",
       "    .dataframe thead tr th {\n",
       "        text-align: left;\n",
       "    }\n",
       "\n",
       "    .dataframe thead tr:last-of-type th {\n",
       "        text-align: right;\n",
       "    }\n",
       "</style>\n",
       "<table border=\"1\" class=\"dataframe\">\n",
       "  <thead>\n",
       "    <tr>\n",
       "      <th></th>\n",
       "      <th>method</th>\n",
       "      <th colspan=\"2\" halign=\"left\">umap-learn</th>\n",
       "      <th colspan=\"2\" halign=\"left\">direct</th>\n",
       "      <th colspan=\"2\" halign=\"left\">network</th>\n",
       "      <th colspan=\"2\" halign=\"left\">autoencoder</th>\n",
       "      <th colspan=\"2\" halign=\"left\">PCA</th>\n",
       "      <th colspan=\"2\" halign=\"left\">TSNE</th>\n",
       "    </tr>\n",
       "    <tr>\n",
       "      <th></th>\n",
       "      <th>metric</th>\n",
       "      <th>trustworthiness</th>\n",
       "      <th>silhouette_score</th>\n",
       "      <th>trustworthiness</th>\n",
       "      <th>silhouette_score</th>\n",
       "      <th>trustworthiness</th>\n",
       "      <th>silhouette_score</th>\n",
       "      <th>trustworthiness</th>\n",
       "      <th>silhouette_score</th>\n",
       "      <th>trustworthiness</th>\n",
       "      <th>silhouette_score</th>\n",
       "      <th>trustworthiness</th>\n",
       "      <th>silhouette_score</th>\n",
       "    </tr>\n",
       "    <tr>\n",
       "      <th>dataset</th>\n",
       "      <th>dim</th>\n",
       "      <th></th>\n",
       "      <th></th>\n",
       "      <th></th>\n",
       "      <th></th>\n",
       "      <th></th>\n",
       "      <th></th>\n",
       "      <th></th>\n",
       "      <th></th>\n",
       "      <th></th>\n",
       "      <th></th>\n",
       "      <th></th>\n",
       "      <th></th>\n",
       "    </tr>\n",
       "  </thead>\n",
       "  <tbody>\n",
       "    <tr>\n",
       "      <th rowspan=\"2\" valign=\"top\">mnist</th>\n",
       "      <th>2</th>\n",
       "      <td>0.960</td>\n",
       "      <td>0.519</td>\n",
       "      <td>0.960</td>\n",
       "      <td>0.520</td>\n",
       "      <td>0.957</td>\n",
       "      <td>0.556</td>\n",
       "      <td>0.968</td>\n",
       "      <td>0.464</td>\n",
       "      <td>0.743</td>\n",
       "      <td>0.023</td>\n",
       "      <td>0.987</td>\n",
       "      <td>0.350</td>\n",
       "    </tr>\n",
       "    <tr>\n",
       "      <th>64</th>\n",
       "      <td>0.989</td>\n",
       "      <td>0.528</td>\n",
       "      <td>0.985</td>\n",
       "      <td>0.541</td>\n",
       "      <td>0.988</td>\n",
       "      <td>0.557</td>\n",
       "      <td>0.991</td>\n",
       "      <td>0.517</td>\n",
       "      <td>1.000</td>\n",
       "      <td>0.057</td>\n",
       "      <td>-1.000</td>\n",
       "      <td>-1.000</td>\n",
       "    </tr>\n",
       "    <tr>\n",
       "      <th rowspan=\"2\" valign=\"top\">fmnist</th>\n",
       "      <th>2</th>\n",
       "      <td>0.978</td>\n",
       "      <td>0.194</td>\n",
       "      <td>0.980</td>\n",
       "      <td>0.195</td>\n",
       "      <td>0.973</td>\n",
       "      <td>0.214</td>\n",
       "      <td>0.984</td>\n",
       "      <td>0.206</td>\n",
       "      <td>0.913</td>\n",
       "      <td>-0.033</td>\n",
       "      <td>0.991</td>\n",
       "      <td>0.125</td>\n",
       "    </tr>\n",
       "    <tr>\n",
       "      <th>64</th>\n",
       "      <td>0.990</td>\n",
       "      <td>0.220</td>\n",
       "      <td>0.987</td>\n",
       "      <td>0.230</td>\n",
       "      <td>0.989</td>\n",
       "      <td>0.232</td>\n",
       "      <td>0.991</td>\n",
       "      <td>0.231</td>\n",
       "      <td>0.999</td>\n",
       "      <td>0.062</td>\n",
       "      <td>-1.000</td>\n",
       "      <td>-1.000</td>\n",
       "    </tr>\n",
       "    <tr>\n",
       "      <th rowspan=\"2\" valign=\"top\">cifar10</th>\n",
       "      <th>2</th>\n",
       "      <td>0.831</td>\n",
       "      <td>-0.134</td>\n",
       "      <td>0.845</td>\n",
       "      <td>-0.134</td>\n",
       "      <td>0.819</td>\n",
       "      <td>-0.136</td>\n",
       "      <td>0.827</td>\n",
       "      <td>-0.132</td>\n",
       "      <td>0.820</td>\n",
       "      <td>-0.114</td>\n",
       "      <td>0.922</td>\n",
       "      <td>-0.122</td>\n",
       "    </tr>\n",
       "    <tr>\n",
       "      <th>64</th>\n",
       "      <td>0.921</td>\n",
       "      <td>-0.117</td>\n",
       "      <td>0.910</td>\n",
       "      <td>-0.115</td>\n",
       "      <td>0.914</td>\n",
       "      <td>-0.116</td>\n",
       "      <td>0.920</td>\n",
       "      <td>-0.117</td>\n",
       "      <td>1.000</td>\n",
       "      <td>-0.058</td>\n",
       "      <td>-1.000</td>\n",
       "      <td>-1.000</td>\n",
       "    </tr>\n",
       "    <tr>\n",
       "      <th rowspan=\"2\" valign=\"top\">macosko2015</th>\n",
       "      <th>2</th>\n",
       "      <td>0.949</td>\n",
       "      <td>0.280</td>\n",
       "      <td>0.951</td>\n",
       "      <td>0.187</td>\n",
       "      <td>0.944</td>\n",
       "      <td>0.452</td>\n",
       "      <td>0.917</td>\n",
       "      <td>0.397</td>\n",
       "      <td>0.745</td>\n",
       "      <td>0.401</td>\n",
       "      <td>0.970</td>\n",
       "      <td>0.015</td>\n",
       "    </tr>\n",
       "    <tr>\n",
       "      <th>64</th>\n",
       "      <td>0.971</td>\n",
       "      <td>0.352</td>\n",
       "      <td>0.965</td>\n",
       "      <td>0.349</td>\n",
       "      <td>0.963</td>\n",
       "      <td>0.465</td>\n",
       "      <td>0.954</td>\n",
       "      <td>0.466</td>\n",
       "      <td>1.000</td>\n",
       "      <td>0.419</td>\n",
       "      <td>-1.000</td>\n",
       "      <td>-1.000</td>\n",
       "    </tr>\n",
       "    <tr>\n",
       "      <th rowspan=\"2\" valign=\"top\">cassins_dtw</th>\n",
       "      <th>2</th>\n",
       "      <td>0.976</td>\n",
       "      <td>0.775</td>\n",
       "      <td>0.976</td>\n",
       "      <td>0.731</td>\n",
       "      <td>0.976</td>\n",
       "      <td>0.801</td>\n",
       "      <td>0.978</td>\n",
       "      <td>0.771</td>\n",
       "      <td>0.838</td>\n",
       "      <td>0.073</td>\n",
       "      <td>0.995</td>\n",
       "      <td>0.543</td>\n",
       "    </tr>\n",
       "    <tr>\n",
       "      <th>64</th>\n",
       "      <td>0.983</td>\n",
       "      <td>0.854</td>\n",
       "      <td>0.988</td>\n",
       "      <td>0.742</td>\n",
       "      <td>0.984</td>\n",
       "      <td>0.817</td>\n",
       "      <td>0.991</td>\n",
       "      <td>0.827</td>\n",
       "      <td>1.000</td>\n",
       "      <td>0.291</td>\n",
       "      <td>-1.000</td>\n",
       "      <td>-1.000</td>\n",
       "    </tr>\n",
       "  </tbody>\n",
       "</table>\n",
       "</div>"
      ],
      "text/plain": [
       "method               umap-learn                           direct  \\\n",
       "metric          trustworthiness silhouette_score trustworthiness   \n",
       "dataset     dim                                                    \n",
       "mnist       2             0.960            0.519           0.960   \n",
       "            64            0.989            0.528           0.985   \n",
       "fmnist      2             0.978            0.194           0.980   \n",
       "            64            0.990            0.220           0.987   \n",
       "cifar10     2             0.831           -0.134           0.845   \n",
       "            64            0.921           -0.117           0.910   \n",
       "macosko2015 2             0.949            0.280           0.951   \n",
       "            64            0.971            0.352           0.965   \n",
       "cassins_dtw 2             0.976            0.775           0.976   \n",
       "            64            0.983            0.854           0.988   \n",
       "\n",
       "method                                   network                   \\\n",
       "metric          silhouette_score trustworthiness silhouette_score   \n",
       "dataset     dim                                                     \n",
       "mnist       2              0.520           0.957            0.556   \n",
       "            64             0.541           0.988            0.557   \n",
       "fmnist      2              0.195           0.973            0.214   \n",
       "            64             0.230           0.989            0.232   \n",
       "cifar10     2             -0.134           0.819           -0.136   \n",
       "            64            -0.115           0.914           -0.116   \n",
       "macosko2015 2              0.187           0.944            0.452   \n",
       "            64             0.349           0.963            0.465   \n",
       "cassins_dtw 2              0.731           0.976            0.801   \n",
       "            64             0.742           0.984            0.817   \n",
       "\n",
       "method              autoencoder                              PCA  \\\n",
       "metric          trustworthiness silhouette_score trustworthiness   \n",
       "dataset     dim                                                    \n",
       "mnist       2             0.968            0.464           0.743   \n",
       "            64            0.991            0.517           1.000   \n",
       "fmnist      2             0.984            0.206           0.913   \n",
       "            64            0.991            0.231           0.999   \n",
       "cifar10     2             0.827           -0.132           0.820   \n",
       "            64            0.920           -0.117           1.000   \n",
       "macosko2015 2             0.917            0.397           0.745   \n",
       "            64            0.954            0.466           1.000   \n",
       "cassins_dtw 2             0.978            0.771           0.838   \n",
       "            64            0.991            0.827           1.000   \n",
       "\n",
       "method                                      TSNE                   \n",
       "metric          silhouette_score trustworthiness silhouette_score  \n",
       "dataset     dim                                                    \n",
       "mnist       2              0.023           0.987            0.350  \n",
       "            64             0.057          -1.000           -1.000  \n",
       "fmnist      2             -0.033           0.991            0.125  \n",
       "            64             0.062          -1.000           -1.000  \n",
       "cifar10     2             -0.114           0.922           -0.122  \n",
       "            64            -0.058          -1.000           -1.000  \n",
       "macosko2015 2              0.401           0.970            0.015  \n",
       "            64             0.419          -1.000           -1.000  \n",
       "cassins_dtw 2              0.073           0.995            0.543  \n",
       "            64             0.291          -1.000           -1.000  "
      ]
     },
     "execution_count": 63,
     "metadata": {},
     "output_type": "execute_result"
    }
   ],
   "source": [
    "results_df"
   ]
  },
  {
   "cell_type": "code",
   "execution_count": 64,
   "metadata": {
    "ExecuteTime": {
     "end_time": "2020-08-22T01:37:08.958321Z",
     "start_time": "2020-08-22T01:37:08.937651Z"
    }
   },
   "outputs": [
    {
     "data": {
      "text/plain": [
       "(['mnist', 'fmnist', 'cifar10', 'macosko2015', 'cassins_dtw'],\n",
       " [2, 64],\n",
       " ['trustworthiness', 'silhouette_score'],\n",
       " ['umap-learn', 'direct', 'network', 'autoencoder', 'PCA', 'TSNE'])"
      ]
     },
     "execution_count": 64,
     "metadata": {},
     "output_type": "execute_result"
    }
   ],
   "source": [
    "unique_datasets = list(metrics_df.dataset.unique())\n",
    "unique_dims = list(metrics_df.dim.unique())\n",
    "unique_metric = ['trustworthiness', 'silhouette_score']\n",
    "unique_method = list(metrics_df.class_.unique())\n",
    "unique_datasets, unique_dims, unique_metric, unique_method"
   ]
  },
  {
   "cell_type": "code",
   "execution_count": 65,
   "metadata": {
    "ExecuteTime": {
     "end_time": "2020-08-22T01:37:08.972526Z",
     "start_time": "2020-08-22T01:37:08.959568Z"
    }
   },
   "outputs": [
    {
     "data": {
      "text/plain": [
       "MultiIndex([( 2,  'umap-learn'),\n",
       "            ( 2,      'direct'),\n",
       "            ( 2,     'network'),\n",
       "            ( 2, 'autoencoder'),\n",
       "            ( 2,         'PCA'),\n",
       "            ( 2,        'TSNE'),\n",
       "            (64,  'umap-learn'),\n",
       "            (64,      'direct'),\n",
       "            (64,     'network'),\n",
       "            (64, 'autoencoder'),\n",
       "            (64,         'PCA'),\n",
       "            (64,        'TSNE')],\n",
       "           names=['dim', 'method'])"
      ]
     },
     "execution_count": 65,
     "metadata": {},
     "output_type": "execute_result"
    }
   ],
   "source": [
    "row_idx = [\n",
    "    np.concatenate([list(np.repeat(i, len(unique_method))) for i in unique_dims]),\n",
    "    np.concatenate([list(unique_method) for i in unique_dims]),  \n",
    "]\n",
    "row_idx = pd.MultiIndex.from_tuples(list(zip(*row_idx)), names=['dim', 'method'])\n",
    "row_idx"
   ]
  },
  {
   "cell_type": "code",
   "execution_count": 66,
   "metadata": {
    "ExecuteTime": {
     "end_time": "2020-08-22T01:37:08.991963Z",
     "start_time": "2020-08-22T01:37:08.975174Z"
    }
   },
   "outputs": [
    {
     "data": {
      "text/plain": [
       "MultiIndex([(      'mnist',  'trustworthiness'),\n",
       "            (      'mnist', 'silhouette_score'),\n",
       "            (     'fmnist',  'trustworthiness'),\n",
       "            (     'fmnist', 'silhouette_score'),\n",
       "            (    'cifar10',  'trustworthiness'),\n",
       "            (    'cifar10', 'silhouette_score'),\n",
       "            ('macosko2015',  'trustworthiness'),\n",
       "            ('macosko2015', 'silhouette_score'),\n",
       "            ('cassins_dtw',  'trustworthiness'),\n",
       "            ('cassins_dtw', 'silhouette_score')],\n",
       "           names=['dataset', 'metric'])"
      ]
     },
     "execution_count": 66,
     "metadata": {},
     "output_type": "execute_result"
    }
   ],
   "source": [
    "col_idx = [\n",
    "    np.concatenate([list(np.repeat(i, len(unique_metric))) for i in unique_datasets]),\n",
    "    np.concatenate([list(unique_metric) for i in unique_datasets]),  \n",
    "\n",
    "]\n",
    "col_idx = pd.MultiIndex.from_tuples(list(zip(*col_idx)), names=['dataset', 'metric'])\n",
    "col_idx"
   ]
  },
  {
   "cell_type": "code",
   "execution_count": 67,
   "metadata": {
    "ExecuteTime": {
     "end_time": "2020-08-22T01:37:09.610102Z",
     "start_time": "2020-08-22T01:37:08.994669Z"
    }
   },
   "outputs": [],
   "source": [
    "results_df = pd.DataFrame(-1*np.ones((len(row_idx), len(col_idx))), index=row_idx, columns=col_idx)\n",
    "for method_ in unique_method:\n",
    "    for dataset in unique_datasets:\n",
    "        for dim in unique_dims:\n",
    "            sil_scores = metrics_df[(metrics_df.dataset == dataset) &\n",
    "               (metrics_df.class_ == method_) &\n",
    "               (metrics_df.dim == dim)\n",
    "              ]['silhouette_score']\n",
    "            if len(sil_scores) > 0:\n",
    "                results_df.loc[(dim,method_), (dataset, 'silhouette_score')] = round(list(sil_scores)[0],3)\n",
    "                \n",
    "            trustworthiness_scores = metrics_df[(metrics_df.dataset == dataset) &\n",
    "               (metrics_df.class_ == method_) &\n",
    "               (metrics_df.dim == dim)\n",
    "              ]['trustworthiness']\n",
    "            if len(trustworthiness_scores) > 0:\n",
    "                results_df.loc[(dim,method_), (dataset, 'trustworthiness')] = round(list(trustworthiness_scores)[0],3)"
   ]
  },
  {
   "cell_type": "code",
   "execution_count": 68,
   "metadata": {
    "ExecuteTime": {
     "end_time": "2020-08-22T01:37:09.672010Z",
     "start_time": "2020-08-22T01:37:09.611732Z"
    }
   },
   "outputs": [
    {
     "data": {
      "text/html": [
       "<div>\n",
       "<style scoped>\n",
       "    .dataframe tbody tr th:only-of-type {\n",
       "        vertical-align: middle;\n",
       "    }\n",
       "\n",
       "    .dataframe tbody tr th {\n",
       "        vertical-align: top;\n",
       "    }\n",
       "\n",
       "    .dataframe thead tr th {\n",
       "        text-align: left;\n",
       "    }\n",
       "\n",
       "    .dataframe thead tr:last-of-type th {\n",
       "        text-align: right;\n",
       "    }\n",
       "</style>\n",
       "<table border=\"1\" class=\"dataframe\">\n",
       "  <thead>\n",
       "    <tr>\n",
       "      <th></th>\n",
       "      <th>dataset</th>\n",
       "      <th colspan=\"2\" halign=\"left\">mnist</th>\n",
       "      <th colspan=\"2\" halign=\"left\">fmnist</th>\n",
       "      <th colspan=\"2\" halign=\"left\">cifar10</th>\n",
       "      <th colspan=\"2\" halign=\"left\">macosko2015</th>\n",
       "      <th colspan=\"2\" halign=\"left\">cassins_dtw</th>\n",
       "    </tr>\n",
       "    <tr>\n",
       "      <th></th>\n",
       "      <th>metric</th>\n",
       "      <th>trustworthiness</th>\n",
       "      <th>silhouette_score</th>\n",
       "      <th>trustworthiness</th>\n",
       "      <th>silhouette_score</th>\n",
       "      <th>trustworthiness</th>\n",
       "      <th>silhouette_score</th>\n",
       "      <th>trustworthiness</th>\n",
       "      <th>silhouette_score</th>\n",
       "      <th>trustworthiness</th>\n",
       "      <th>silhouette_score</th>\n",
       "    </tr>\n",
       "    <tr>\n",
       "      <th>dim</th>\n",
       "      <th>method</th>\n",
       "      <th></th>\n",
       "      <th></th>\n",
       "      <th></th>\n",
       "      <th></th>\n",
       "      <th></th>\n",
       "      <th></th>\n",
       "      <th></th>\n",
       "      <th></th>\n",
       "      <th></th>\n",
       "      <th></th>\n",
       "    </tr>\n",
       "  </thead>\n",
       "  <tbody>\n",
       "    <tr>\n",
       "      <th rowspan=\"6\" valign=\"top\">2</th>\n",
       "      <th>umap-learn</th>\n",
       "      <td>0.960</td>\n",
       "      <td>0.519</td>\n",
       "      <td>0.978</td>\n",
       "      <td>0.194</td>\n",
       "      <td>0.831</td>\n",
       "      <td>-0.134</td>\n",
       "      <td>0.949</td>\n",
       "      <td>0.280</td>\n",
       "      <td>0.976</td>\n",
       "      <td>0.775</td>\n",
       "    </tr>\n",
       "    <tr>\n",
       "      <th>direct</th>\n",
       "      <td>0.960</td>\n",
       "      <td>0.520</td>\n",
       "      <td>0.980</td>\n",
       "      <td>0.195</td>\n",
       "      <td>0.845</td>\n",
       "      <td>-0.134</td>\n",
       "      <td>0.951</td>\n",
       "      <td>0.187</td>\n",
       "      <td>0.976</td>\n",
       "      <td>0.731</td>\n",
       "    </tr>\n",
       "    <tr>\n",
       "      <th>network</th>\n",
       "      <td>0.957</td>\n",
       "      <td>0.556</td>\n",
       "      <td>0.973</td>\n",
       "      <td>0.214</td>\n",
       "      <td>0.819</td>\n",
       "      <td>-0.136</td>\n",
       "      <td>0.944</td>\n",
       "      <td>0.452</td>\n",
       "      <td>0.976</td>\n",
       "      <td>0.801</td>\n",
       "    </tr>\n",
       "    <tr>\n",
       "      <th>autoencoder</th>\n",
       "      <td>0.968</td>\n",
       "      <td>0.464</td>\n",
       "      <td>0.984</td>\n",
       "      <td>0.206</td>\n",
       "      <td>0.827</td>\n",
       "      <td>-0.132</td>\n",
       "      <td>0.917</td>\n",
       "      <td>0.397</td>\n",
       "      <td>0.978</td>\n",
       "      <td>0.771</td>\n",
       "    </tr>\n",
       "    <tr>\n",
       "      <th>PCA</th>\n",
       "      <td>0.743</td>\n",
       "      <td>0.023</td>\n",
       "      <td>0.913</td>\n",
       "      <td>-0.033</td>\n",
       "      <td>0.820</td>\n",
       "      <td>-0.114</td>\n",
       "      <td>0.745</td>\n",
       "      <td>0.401</td>\n",
       "      <td>0.838</td>\n",
       "      <td>0.073</td>\n",
       "    </tr>\n",
       "    <tr>\n",
       "      <th>TSNE</th>\n",
       "      <td>0.987</td>\n",
       "      <td>0.350</td>\n",
       "      <td>0.991</td>\n",
       "      <td>0.125</td>\n",
       "      <td>0.922</td>\n",
       "      <td>-0.122</td>\n",
       "      <td>0.970</td>\n",
       "      <td>0.015</td>\n",
       "      <td>0.995</td>\n",
       "      <td>0.543</td>\n",
       "    </tr>\n",
       "    <tr>\n",
       "      <th rowspan=\"6\" valign=\"top\">64</th>\n",
       "      <th>umap-learn</th>\n",
       "      <td>0.989</td>\n",
       "      <td>0.528</td>\n",
       "      <td>0.990</td>\n",
       "      <td>0.220</td>\n",
       "      <td>0.921</td>\n",
       "      <td>-0.117</td>\n",
       "      <td>0.971</td>\n",
       "      <td>0.352</td>\n",
       "      <td>0.983</td>\n",
       "      <td>0.854</td>\n",
       "    </tr>\n",
       "    <tr>\n",
       "      <th>direct</th>\n",
       "      <td>0.985</td>\n",
       "      <td>0.541</td>\n",
       "      <td>0.987</td>\n",
       "      <td>0.230</td>\n",
       "      <td>0.910</td>\n",
       "      <td>-0.115</td>\n",
       "      <td>0.965</td>\n",
       "      <td>0.349</td>\n",
       "      <td>0.988</td>\n",
       "      <td>0.742</td>\n",
       "    </tr>\n",
       "    <tr>\n",
       "      <th>network</th>\n",
       "      <td>0.988</td>\n",
       "      <td>0.557</td>\n",
       "      <td>0.989</td>\n",
       "      <td>0.232</td>\n",
       "      <td>0.914</td>\n",
       "      <td>-0.116</td>\n",
       "      <td>0.963</td>\n",
       "      <td>0.465</td>\n",
       "      <td>0.984</td>\n",
       "      <td>0.817</td>\n",
       "    </tr>\n",
       "    <tr>\n",
       "      <th>autoencoder</th>\n",
       "      <td>0.991</td>\n",
       "      <td>0.517</td>\n",
       "      <td>0.991</td>\n",
       "      <td>0.231</td>\n",
       "      <td>0.920</td>\n",
       "      <td>-0.117</td>\n",
       "      <td>0.954</td>\n",
       "      <td>0.466</td>\n",
       "      <td>0.991</td>\n",
       "      <td>0.827</td>\n",
       "    </tr>\n",
       "    <tr>\n",
       "      <th>PCA</th>\n",
       "      <td>1.000</td>\n",
       "      <td>0.057</td>\n",
       "      <td>0.999</td>\n",
       "      <td>0.062</td>\n",
       "      <td>1.000</td>\n",
       "      <td>-0.058</td>\n",
       "      <td>1.000</td>\n",
       "      <td>0.419</td>\n",
       "      <td>1.000</td>\n",
       "      <td>0.291</td>\n",
       "    </tr>\n",
       "    <tr>\n",
       "      <th>TSNE</th>\n",
       "      <td>-1.000</td>\n",
       "      <td>-1.000</td>\n",
       "      <td>-1.000</td>\n",
       "      <td>-1.000</td>\n",
       "      <td>-1.000</td>\n",
       "      <td>-1.000</td>\n",
       "      <td>-1.000</td>\n",
       "      <td>-1.000</td>\n",
       "      <td>-1.000</td>\n",
       "      <td>-1.000</td>\n",
       "    </tr>\n",
       "  </tbody>\n",
       "</table>\n",
       "</div>"
      ],
      "text/plain": [
       "dataset                   mnist                           fmnist  \\\n",
       "metric          trustworthiness silhouette_score trustworthiness   \n",
       "dim method                                                         \n",
       "2   umap-learn            0.960            0.519           0.978   \n",
       "    direct                0.960            0.520           0.980   \n",
       "    network               0.957            0.556           0.973   \n",
       "    autoencoder           0.968            0.464           0.984   \n",
       "    PCA                   0.743            0.023           0.913   \n",
       "    TSNE                  0.987            0.350           0.991   \n",
       "64  umap-learn            0.989            0.528           0.990   \n",
       "    direct                0.985            0.541           0.987   \n",
       "    network               0.988            0.557           0.989   \n",
       "    autoencoder           0.991            0.517           0.991   \n",
       "    PCA                   1.000            0.057           0.999   \n",
       "    TSNE                 -1.000           -1.000          -1.000   \n",
       "\n",
       "dataset                                  cifar10                   \\\n",
       "metric          silhouette_score trustworthiness silhouette_score   \n",
       "dim method                                                          \n",
       "2   umap-learn             0.194           0.831           -0.134   \n",
       "    direct                 0.195           0.845           -0.134   \n",
       "    network                0.214           0.819           -0.136   \n",
       "    autoencoder            0.206           0.827           -0.132   \n",
       "    PCA                   -0.033           0.820           -0.114   \n",
       "    TSNE                   0.125           0.922           -0.122   \n",
       "64  umap-learn             0.220           0.921           -0.117   \n",
       "    direct                 0.230           0.910           -0.115   \n",
       "    network                0.232           0.914           -0.116   \n",
       "    autoencoder            0.231           0.920           -0.117   \n",
       "    PCA                    0.062           1.000           -0.058   \n",
       "    TSNE                  -1.000          -1.000           -1.000   \n",
       "\n",
       "dataset             macosko2015                      cassins_dtw  \\\n",
       "metric          trustworthiness silhouette_score trustworthiness   \n",
       "dim method                                                         \n",
       "2   umap-learn            0.949            0.280           0.976   \n",
       "    direct                0.951            0.187           0.976   \n",
       "    network               0.944            0.452           0.976   \n",
       "    autoencoder           0.917            0.397           0.978   \n",
       "    PCA                   0.745            0.401           0.838   \n",
       "    TSNE                  0.970            0.015           0.995   \n",
       "64  umap-learn            0.971            0.352           0.983   \n",
       "    direct                0.965            0.349           0.988   \n",
       "    network               0.963            0.465           0.984   \n",
       "    autoencoder           0.954            0.466           0.991   \n",
       "    PCA                   1.000            0.419           1.000   \n",
       "    TSNE                 -1.000           -1.000          -1.000   \n",
       "\n",
       "dataset                           \n",
       "metric          silhouette_score  \n",
       "dim method                        \n",
       "2   umap-learn             0.775  \n",
       "    direct                 0.731  \n",
       "    network                0.801  \n",
       "    autoencoder            0.771  \n",
       "    PCA                    0.073  \n",
       "    TSNE                   0.543  \n",
       "64  umap-learn             0.854  \n",
       "    direct                 0.742  \n",
       "    network                0.817  \n",
       "    autoencoder            0.827  \n",
       "    PCA                    0.291  \n",
       "    TSNE                  -1.000  "
      ]
     },
     "execution_count": 68,
     "metadata": {},
     "output_type": "execute_result"
    }
   ],
   "source": [
    "results_df"
   ]
  },
  {
   "cell_type": "code",
   "execution_count": 69,
   "metadata": {
    "ExecuteTime": {
     "end_time": "2020-08-22T01:37:09.686590Z",
     "start_time": "2020-08-22T01:37:09.681618Z"
    }
   },
   "outputs": [],
   "source": [
    "import seaborn as sns"
   ]
  },
  {
   "cell_type": "code",
   "execution_count": 70,
   "metadata": {
    "ExecuteTime": {
     "end_time": "2020-08-22T01:37:09.724792Z",
     "start_time": "2020-08-22T01:37:09.688341Z"
    }
   },
   "outputs": [
    {
     "name": "stdout",
     "output_type": "stream",
     "text": [
      "\\begin{table}\n",
      "\\begin{tabular}{llrrrrrrrrrr}\n",
      "\\toprule\n",
      "   & \\textbf{} & \\multicolumn{2}{c}{\\textbf{MNIST}} & \\multicolumn{2}{c}{\\textbf{FMNIST}} & \\multicolumn{2}{c}{\\textbf{CIFAR10}} & \\multicolumn{2}{c}{\\textbf{Retina}} & \\multicolumn{2}{c}{\\textbf{Cassin's}} \\\\\n",
      " \\cmidrule(r){3-4}\\cmidrule(r){5-6}\\cmidrule(r){7-8}\\cmidrule(r){9-10}\\cmidrule(r){11-12}   & \\textbf{} & Trust. & Silhou. & Trust. & Silhou. & Trust. & Silhou. & Trust. & Silhou. & Trust. & Silhou. \\\\\n",
      "\\midrule\n",
      "\\multirow{6}{*}{\\textbf{2 }} & \\textbf{umap-learn} &           0.960 &            0.519 &           0.978 &            0.194 &           0.831 &           -0.134 &           0.949 &            0.280 &           0.976 &            0.775 \\\\\n",
      "   & \\textbf{direct} &           0.960 &            0.520 &           0.980 &            0.195 &           0.845 &           -0.134 &           0.951 &            0.187 &           0.976 &            0.731 \\\\\n",
      "   & \\textbf{network} &           0.957 &            0.556 &           0.973 &            0.214 &           0.819 &           -0.136 &           0.944 &            0.452 &           0.976 &            0.801 \\\\\n",
      "   & \\textbf{autoencoder} &           0.968 &            0.464 &           0.984 &            0.206 &           0.827 &           -0.132 &           0.917 &            0.397 &           0.978 &            0.771 \\\\\n",
      "   & \\textbf{PCA} &           0.743 &            0.023 &           0.913 &           -0.033 &           0.820 &           -0.114 &           0.745 &            0.401 &           0.838 &            0.073 \\\\\n",
      "   & \\textbf{TSNE} &           0.987 &            0.350 &           0.991 &            0.125 &           0.922 &           -0.122 &           0.970 &            0.015 &           0.995 &            0.543 \\\\\n",
      "\\cline{1-12}\n",
      "\\multirow{6}{*}{\\textbf{64}} & \\textbf{umap-learn} &           0.989 &            0.528 &           0.990 &            0.220 &           0.921 &           -0.117 &           0.971 &            0.352 &           0.983 &            0.854 \\\\\n",
      "   & \\textbf{direct} &           0.985 &            0.541 &           0.987 &            0.230 &           0.910 &           -0.115 &           0.965 &            0.349 &           0.988 &            0.742 \\\\\n",
      "   & \\textbf{network} &           0.988 &            0.557 &           0.989 &            0.232 &           0.914 &           -0.116 &           0.963 &            0.465 &           0.984 &            0.817 \\\\\n",
      "   & \\textbf{autoencoder} &           0.991 &            0.517 &           0.991 &            0.231 &           0.920 &           -0.117 &           0.954 &            0.466 &           0.991 &            0.827 \\\\\n",
      "   & \\textbf{PCA} &           1.000 &            0.057 &           0.999 &            0.062 &           1.000 &           -0.058 &           1.000 &            0.419 &           1.000 &            0.291 \\\\% &           - &          - &           - &          - &           - &          - &           - &          - &           - \\\\\n",
      "\\bottomrule\n",
      "\\end{tabular}\n",
      "\\caption{Silhouette score (Silhou.) and Trustworthiness (Trust.) for five datasets using 2 and 64-dimensional latent projections across each projection method.}\\label{metrics}\n",
      "\\end{table}\n",
      "\n"
     ]
    }
   ],
   "source": [
    "results_latex = results_df.to_latex(\n",
    "    bold_rows=True, multirow=True, multicolumn=True, multicolumn_format=\"l\"\n",
    ")\n",
    "replace_list = [\n",
    "    [\"\\\\begin{tabular}\", \"\\\\begin{table}\\n\\\\begin{tabular}\"],\n",
    "    [\"\\\\end{tabular}\", \"\\\\end{tabular}\\n\\\\end{table}\"],\n",
    "    [\"-1.000\", \"-\"],\n",
    "    [\"-1.00\", \"-\"],\n",
    "    [\"silhouette\\_score\", \"Silhou.\"],\n",
    "    [\"fmnist\", \"\\\\textbf{FMNIST}\"],\n",
    "    [\"mnist\", \"\\\\textbf{MNIST}\"],\n",
    "    [\"macosko2015\", \"\\\\textbf{Retina}\"],\n",
    "    [\"cassins\\_dtw\", \"\\\\textbf{Cassin's}\"],\n",
    "    [\"trustworthiness\", \"Trust.\"],\n",
    "    [\"cifar10\", \"\\\\textbf{CIFAR10}\"],\n",
    "    [\"dataset\", \"\"],\n",
    "    [\"metric\", \"\"],\n",
    "    [\"dim\", \"\"],\n",
    "    [\"method\", \"\"],\n",
    "    [\"multicolumn{2}{l}\", \"multicolumn{2}{c}\"],\n",
    "    [\"\\\\\\\\\\n   & \\\\textbf{TSNE} &           -\", \"\\\\\\%\"],\n",
    "    [\"\\\\\\\\\\n   & \\\\textbf{TSNE} &          -\", \"\\\\\\%\"],\n",
    "    [\n",
    "        \"\\textbf{} & \\textbf{} &                 &                  &                 &                  &                 &                  &                 &                  &                 &                  \\\\\",\n",
    "        \"\",\n",
    "    ],\n",
    "    [\"\\multirow{6}{*}{\\textbf{64}}\", \"\\multirow{5}{*}{\\textbf{64}}\"],\n",
    "    [\"{\\\\textbf{Cassin's}} \\\\\\\\\\n\", \"{\\\\textbf{Cassin's}} \\\\\\\\\\n \\cmidrule(r){3-4}\\cmidrule(r){5-6}\\cmidrule(r){7-8}\\cmidrule(r){9-10}\\cmidrule(r){11-12}\"],\n",
    "    [\"\\\\\\\\\\n\\\\textbf{} & \\\\textbf{} &                 &                  &                 &                  &                 &                  &                 &                  &                 &                  \", \"\"],\n",
    "    [\"\\\\end{tabular}\",\n",
    "     \"\\\\end{tabular}\\n\\caption{Silhouette score (Silhou.) and Trustworthiness (Trust.) for five datasets using 2 and 64-dimensional latent projections across each projection method.}\\label{metrics}\"]\n",
    "]\n",
    "for i, j in replace_list:\n",
    "    results_latex = results_latex.replace(i, j)\n",
    "print(results_latex)"
   ]
  },
  {
   "cell_type": "code",
   "execution_count": 71,
   "metadata": {
    "ExecuteTime": {
     "end_time": "2020-08-22T01:37:09.731677Z",
     "start_time": "2020-08-22T01:37:09.726614Z"
    }
   },
   "outputs": [
    {
     "data": {
      "text/plain": [
       "\"\\\\begin{table}\\n\\\\begin{tabular}{llrrrrrrrrrr}\\n\\\\toprule\\n   & \\\\textbf{} & \\\\multicolumn{2}{c}{\\\\textbf{MNIST}} & \\\\multicolumn{2}{c}{\\\\textbf{FMNIST}} & \\\\multicolumn{2}{c}{\\\\textbf{CIFAR10}} & \\\\multicolumn{2}{c}{\\\\textbf{Retina}} & \\\\multicolumn{2}{c}{\\\\textbf{Cassin's}} \\\\\\\\\\n \\\\cmidrule(r){3-4}\\\\cmidrule(r){5-6}\\\\cmidrule(r){7-8}\\\\cmidrule(r){9-10}\\\\cmidrule(r){11-12}   & \\\\textbf{} & Trust. & Silhou. & Trust. & Silhou. & Trust. & Silhou. & Trust. & Silhou. & Trust. & Silhou. \\\\\\\\\\n\\\\midrule\\n\\\\multirow{6}{*}{\\\\textbf{2 }} & \\\\textbf{umap-learn} &           0.960 &            0.519 &           0.978 &            0.194 &           0.831 &           -0.134 &           0.949 &            0.280 &           0.976 &            0.775 \\\\\\\\\\n   & \\\\textbf{direct} &           0.960 &            0.520 &           0.980 &            0.195 &           0.845 &           -0.134 &           0.951 &            0.187 &           0.976 &            0.731 \\\\\\\\\\n   & \\\\textbf{network} &           0.957 &            0.556 &           0.973 &            0.214 &           0.819 &           -0.136 &           0.944 &            0.452 &           0.976 &            0.801 \\\\\\\\\\n   & \\\\textbf{autoencoder} &           0.968 &            0.464 &           0.984 &            0.206 &           0.827 &           -0.132 &           0.917 &            0.397 &           0.978 &            0.771 \\\\\\\\\\n   & \\\\textbf{PCA} &           0.743 &            0.023 &           0.913 &           -0.033 &           0.820 &           -0.114 &           0.745 &            0.401 &           0.838 &            0.073 \\\\\\\\\\n   & \\\\textbf{TSNE} &           0.987 &            0.350 &           0.991 &            0.125 &           0.922 &           -0.122 &           0.970 &            0.015 &           0.995 &            0.543 \\\\\\\\\\n\\\\cline{1-12}\\n\\\\multirow{6}{*}{\\\\textbf{64}} & \\\\textbf{umap-learn} &           0.989 &            0.528 &           0.990 &            0.220 &           0.921 &           -0.117 &           0.971 &            0.352 &           0.983 &            0.854 \\\\\\\\\\n   & \\\\textbf{direct} &           0.985 &            0.541 &           0.987 &            0.230 &           0.910 &           -0.115 &           0.965 &            0.349 &           0.988 &            0.742 \\\\\\\\\\n   & \\\\textbf{network} &           0.988 &            0.557 &           0.989 &            0.232 &           0.914 &           -0.116 &           0.963 &            0.465 &           0.984 &            0.817 \\\\\\\\\\n   & \\\\textbf{autoencoder} &           0.991 &            0.517 &           0.991 &            0.231 &           0.920 &           -0.117 &           0.954 &            0.466 &           0.991 &            0.827 \\\\\\\\\\n   & \\\\textbf{PCA} &           1.000 &            0.057 &           0.999 &            0.062 &           1.000 &           -0.058 &           1.000 &            0.419 &           1.000 &            0.291 \\\\\\\\% &           - &          - &           - &          - &           - &          - &           - &          - &           - \\\\\\\\\\n\\\\bottomrule\\n\\\\end{tabular}\\n\\\\caption{Silhouette score (Silhou.) and Trustworthiness (Trust.) for five datasets using 2 and 64-dimensional latent projections across each projection method.}\\\\label{metrics}\\n\\\\end{table}\\n\""
      ]
     },
     "execution_count": 71,
     "metadata": {},
     "output_type": "execute_result"
    }
   ],
   "source": [
    "results_latex"
   ]
  },
  {
   "cell_type": "code",
   "execution_count": null,
   "metadata": {},
   "outputs": [],
   "source": []
  },
  {
   "cell_type": "code",
   "execution_count": null,
   "metadata": {},
   "outputs": [],
   "source": []
  },
  {
   "cell_type": "code",
   "execution_count": null,
   "metadata": {},
   "outputs": [],
   "source": []
  },
  {
   "cell_type": "code",
   "execution_count": null,
   "metadata": {},
   "outputs": [],
   "source": []
  }
 ],
 "metadata": {
  "kernelspec": {
   "display_name": "Python 3",
   "language": "python",
   "name": "python3"
  },
  "language_info": {
   "codemirror_mode": {
    "name": "ipython",
    "version": 3
   },
   "file_extension": ".py",
   "mimetype": "text/x-python",
   "name": "python",
   "nbconvert_exporter": "python",
   "pygments_lexer": "ipython3",
   "version": "3.9.1"
  }
 },
 "nbformat": 4,
 "nbformat_minor": 2
}
