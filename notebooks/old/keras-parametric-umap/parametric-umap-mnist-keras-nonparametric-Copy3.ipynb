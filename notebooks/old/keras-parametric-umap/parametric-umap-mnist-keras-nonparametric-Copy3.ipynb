{
 "cells": [
  {
   "cell_type": "markdown",
   "metadata": {},
   "source": [
    "### TODO\n",
    "- add reconstruction\n",
    "- add validation\n",
    "- add saving (?) or fix saving to be pickle-able (add warning to __get_state__ that keras embeddings are not pickleable)\n",
    "- add non-parametric embedding"
   ]
  },
  {
   "cell_type": "code",
   "execution_count": 1,
   "metadata": {
    "ExecuteTime": {
     "end_time": "2020-08-13T21:34:21.460610Z",
     "start_time": "2020-08-13T21:34:21.446018Z"
    }
   },
   "outputs": [],
   "source": [
    "# reload packages\n",
    "%load_ext autoreload\n",
    "%autoreload 2"
   ]
  },
  {
   "cell_type": "markdown",
   "metadata": {},
   "source": [
    "### Choose GPU"
   ]
  },
  {
   "cell_type": "code",
   "execution_count": 2,
   "metadata": {
    "ExecuteTime": {
     "end_time": "2020-08-13T21:34:21.476621Z",
     "start_time": "2020-08-13T21:34:21.461533Z"
    }
   },
   "outputs": [
    {
     "name": "stdout",
     "output_type": "stream",
     "text": [
      "env: CUDA_DEVICE_ORDER=PCI_BUS_ID\n",
      "env: CUDA_VISIBLE_DEVICES=1\n"
     ]
    }
   ],
   "source": [
    "%env CUDA_DEVICE_ORDER=PCI_BUS_ID\n",
    "%env CUDA_VISIBLE_DEVICES=1"
   ]
  },
  {
   "cell_type": "code",
   "execution_count": 3,
   "metadata": {
    "ExecuteTime": {
     "end_time": "2020-08-13T21:34:25.418547Z",
     "start_time": "2020-08-13T21:34:21.478281Z"
    }
   },
   "outputs": [
    {
     "name": "stdout",
     "output_type": "stream",
     "text": [
      "[PhysicalDevice(name='/physical_device:GPU:0', device_type='GPU')]\n"
     ]
    }
   ],
   "source": [
    "import tensorflow as tf\n",
    "gpu_devices = tf.config.experimental.list_physical_devices('GPU')\n",
    "if len(gpu_devices)>0:\n",
    "    tf.config.experimental.set_memory_growth(gpu_devices[0], True)\n",
    "print(gpu_devices)\n",
    "tf.keras.backend.clear_session()"
   ]
  },
  {
   "cell_type": "markdown",
   "metadata": {},
   "source": [
    "### load dataset"
   ]
  },
  {
   "cell_type": "code",
   "execution_count": 4,
   "metadata": {
    "ExecuteTime": {
     "end_time": "2020-08-13T21:34:26.364266Z",
     "start_time": "2020-08-13T21:34:25.420158Z"
    }
   },
   "outputs": [
    {
     "data": {
      "text/plain": [
       "(50000, 28, 28, 1)"
      ]
     },
     "execution_count": 4,
     "metadata": {},
     "output_type": "execute_result"
    }
   ],
   "source": [
    "from tfumap.load_datasets import load_MNIST, mask_labels\n",
    "X_train, X_test, X_valid, Y_train, Y_test, Y_valid = load_MNIST(flatten=False)\n",
    "X_train.shape"
   ]
  },
  {
   "cell_type": "markdown",
   "metadata": {},
   "source": [
    "### modules"
   ]
  },
  {
   "cell_type": "code",
   "execution_count": 5,
   "metadata": {
    "ExecuteTime": {
     "end_time": "2020-08-13T21:34:30.546142Z",
     "start_time": "2020-08-13T21:34:26.366279Z"
    }
   },
   "outputs": [],
   "source": [
    "import numpy as np\n",
    "import tensorflow as tf\n",
    "from umap import UMAP\n",
    "from warnings import warn\n",
    "from umap.umap_ import make_epochs_per_sample"
   ]
  },
  {
   "cell_type": "code",
   "execution_count": 6,
   "metadata": {
    "ExecuteTime": {
     "end_time": "2020-08-13T21:34:30.588897Z",
     "start_time": "2020-08-13T21:34:30.548189Z"
    }
   },
   "outputs": [],
   "source": [
    "def get_graph_elements(graph_, n_epochs):\n",
    "    \"\"\"\n",
    "    gets elements of graphs, weights, and number of epochs per edge\n",
    "\n",
    "    Parameters\n",
    "    ----------\n",
    "    graph_ : [type]\n",
    "        umap graph of probabilities\n",
    "    n_epochs : int\n",
    "        maximum number of epochs per edge\n",
    "\n",
    "    Returns\n",
    "    -------\n",
    "    graph [type]\n",
    "        umap graph\n",
    "    epochs_per_sample np.array\n",
    "        number of epochs to train each sample for\n",
    "    head np.array\n",
    "        edge head\n",
    "    tail np.array\n",
    "        edge tail\n",
    "    weight np.array\n",
    "        edge weight\n",
    "    n_vertices int\n",
    "        number of verticies in graph\n",
    "    \"\"\"\n",
    "    ### should we remove redundancies () here??\n",
    "    # graph_ = remove_redundant_edges(graph_)\n",
    "\n",
    "    graph = graph_.tocoo()\n",
    "    # eliminate duplicate entries by summing them together\n",
    "    graph.sum_duplicates()\n",
    "    # number of vertices in dataset\n",
    "    n_vertices = graph.shape[1]\n",
    "    # get the number of epochs based on the size of the dataset\n",
    "    if n_epochs is None:\n",
    "        # For smaller datasets we can use more epochs\n",
    "        if graph.shape[0] <= 10000:\n",
    "            n_epochs = 500\n",
    "        else:\n",
    "            n_epochs = 200\n",
    "    # remove elements with very low probability\n",
    "    graph.data[graph.data < (graph.data.max() / float(n_epochs))] = 0.0\n",
    "    graph.eliminate_zeros()\n",
    "    # get epochs per sample based upon edge probability\n",
    "    epochs_per_sample = make_epochs_per_sample(graph.data, n_epochs)\n",
    "\n",
    "    head = graph.row\n",
    "    tail = graph.col\n",
    "    weight = graph.data\n",
    "\n",
    "    return graph, epochs_per_sample, head, tail, weight, n_vertices"
   ]
  },
  {
   "cell_type": "code",
   "execution_count": 7,
   "metadata": {
    "ExecuteTime": {
     "end_time": "2020-08-13T21:34:30.620859Z",
     "start_time": "2020-08-13T21:34:30.590227Z"
    }
   },
   "outputs": [],
   "source": [
    "def convert_distance_to_probability(distances, a, b):\n",
    "    \"\"\" convert distance representation into probability, \n",
    "        as a function of a, b params\n",
    "    \"\"\"\n",
    "    return 1.0 / (1.0 + a * distances ** (2 * b))"
   ]
  },
  {
   "cell_type": "code",
   "execution_count": 8,
   "metadata": {
    "ExecuteTime": {
     "end_time": "2020-08-13T21:34:30.652450Z",
     "start_time": "2020-08-13T21:34:30.622009Z"
    }
   },
   "outputs": [],
   "source": [
    "def compute_cross_entropy(\n",
    "    probabilities_graph, probabilities_distance, EPS=1e-4, repulsion_strength=1.0\n",
    "):\n",
    "    \"\"\"\n",
    "    Compute cross entropy between low and high probability\n",
    "\n",
    "    Parameters\n",
    "    ----------\n",
    "    probabilities_graph : [type]\n",
    "        high dimensional probabilities\n",
    "    probabilities_distance : [type]\n",
    "        low dimensional probabilities\n",
    "    EPS : [type], optional\n",
    "        offset to to ensure log is taken of a positive number, by default 1e-4\n",
    "    repulsion_strength : float, optional\n",
    "        strength of repulsion between negative samples, by default 1.0\n",
    "\n",
    "    Returns\n",
    "    -------\n",
    "    attraction_term: tf.float32\n",
    "        attraction term for cross entropy loss\n",
    "    repellant_term: tf.float32\n",
    "        repellant term for cross entropy loss\n",
    "    cross_entropy: tf.float32\n",
    "        cross entropy umap loss\n",
    "    \n",
    "    \"\"\"\n",
    "    # cross entropy\n",
    "    attraction_term = -probabilities_graph * tf.math.log(\n",
    "        tf.clip_by_value(probabilities_distance, EPS, 1.0)\n",
    "    )\n",
    "    repellant_term = (\n",
    "        -(1.0 - probabilities_graph)\n",
    "        * tf.math.log(tf.clip_by_value(1.0 - probabilities_distance, EPS, 1.0))\n",
    "        * repulsion_strength\n",
    "    )\n",
    "\n",
    "    # balance the expected losses between atrraction and repel\n",
    "    CE = attraction_term + repellant_term\n",
    "    return attraction_term, repellant_term, CE"
   ]
  },
  {
   "cell_type": "code",
   "execution_count": 96,
   "metadata": {
    "ExecuteTime": {
     "end_time": "2020-08-13T21:47:48.684008Z",
     "start_time": "2020-08-13T21:47:48.636735Z"
    }
   },
   "outputs": [],
   "source": [
    "def umap_loss(batch_size, negative_sample_rate, _a, _b, repulsion_strength=1.0):\n",
    "    @tf.function\n",
    "    def loss(placeholder_y, embed_to_from):\n",
    "        # split out to/from\n",
    "        embedding_to, embedding_from = tf.split(\n",
    "            embed_to_from, num_or_size_splits=2, axis=1\n",
    "        )\n",
    "\n",
    "        # get negative samples\n",
    "        embedding_neg_to = tf.repeat(embedding_to, negative_sample_rate, axis=0)\n",
    "        repeat_neg = tf.repeat(embedding_from, negative_sample_rate, axis=0)\n",
    "        embedding_neg_from = tf.gather(\n",
    "            repeat_neg, tf.random.shuffle(tf.range(tf.shape(repeat_neg)[0]))\n",
    "        )\n",
    "\n",
    "        #  distances between samples (and negative samples)\n",
    "        distance_embedding = tf.concat(\n",
    "            [\n",
    "                tf.norm(embedding_to - embedding_from, axis=1),\n",
    "                tf.norm(embedding_neg_to - embedding_neg_from, axis=1),\n",
    "            ],\n",
    "            axis=0,\n",
    "        )\n",
    "\n",
    "        # convert probabilities to distances\n",
    "        probabilities_distance = convert_distance_to_probability(\n",
    "            distance_embedding, _a, _b\n",
    "        )\n",
    "\n",
    "        # set true probabilities based on negative sampling\n",
    "        probabilities_graph = tf.concat(\n",
    "            [tf.ones(batch_size), tf.zeros(batch_size * negative_sample_rate)], axis=0,\n",
    "        )\n",
    "\n",
    "        # compute cross entropy\n",
    "        (attraction_loss, repellant_loss, ce_loss) = compute_cross_entropy(\n",
    "            probabilities_graph,\n",
    "            probabilities_distance,\n",
    "            repulsion_strength=repulsion_strength,\n",
    "        )\n",
    "        return tf.reduce_mean(ce_loss)\n",
    "\n",
    "    return loss"
   ]
  },
  {
   "cell_type": "code",
   "execution_count": 241,
   "metadata": {
    "ExecuteTime": {
     "end_time": "2020-08-13T22:10:02.515103Z",
     "start_time": "2020-08-13T22:10:02.470227Z"
    }
   },
   "outputs": [],
   "source": [
    "#@tf.function\n",
    "def umap_loss__(embedding_to, embedding_from, batch_size, negative_sample_rate, _a, _b, repulsion_strength=1.0):\n",
    "\n",
    "    # get negative samples\n",
    "    embedding_neg_to = tf.repeat(embedding_to, negative_sample_rate, axis=0)\n",
    "    repeat_neg = tf.repeat(embedding_from, negative_sample_rate, axis=0)\n",
    "    embedding_neg_from = tf.gather(\n",
    "        repeat_neg, tf.random.shuffle(tf.range(tf.shape(repeat_neg)[0]))\n",
    "    )\n",
    "\n",
    "    #  distances between samples (and negative samples)\n",
    "    distance_embedding = tf.concat(\n",
    "        [\n",
    "            tf.norm(embedding_to - embedding_from, axis=1),\n",
    "            tf.norm(embedding_neg_to - embedding_neg_from, axis=1),\n",
    "        ],\n",
    "        axis=0,\n",
    "    )\n",
    "\n",
    "    # convert probabilities to distances\n",
    "    probabilities_distance = convert_distance_to_probability(\n",
    "        distance_embedding, _a, _b\n",
    "    )\n",
    "\n",
    "    # set true probabilities based on negative sampling\n",
    "    probabilities_graph = tf.concat(\n",
    "        [tf.ones(batch_size), tf.zeros(batch_size * negative_sample_rate)], axis=0,\n",
    "    )\n",
    "\n",
    "    # compute cross entropy\n",
    "    (attraction_loss, repellant_loss, ce_loss) = compute_cross_entropy(\n",
    "        probabilities_graph,\n",
    "        probabilities_distance,\n",
    "        repulsion_strength=repulsion_strength,\n",
    "    )\n",
    "    return tf.cast(tf.reduce_mean(ce_loss), tf.float32)\n",
    "\n"
   ]
  },
  {
   "cell_type": "code",
   "execution_count": null,
   "metadata": {},
   "outputs": [],
   "source": [
    "def umap_loss(batch_size, negative_sample_rate, _a, _b, repulsion_strength=1.0):\n",
    "    @tf.function\n",
    "    def loss(placeholder_y, embed_to_from):\n",
    "        # split out to/from\n",
    "        embedding_to, embedding_from = tf.split(\n",
    "            embed_to_from, num_or_size_splits=2, axis=1\n",
    "        )\n",
    "\n",
    "        # get negative samples\n",
    "        embedding_neg_to = tf.repeat(embedding_to, negative_sample_rate, axis=0)\n",
    "        repeat_neg = tf.repeat(embedding_from, negative_sample_rate, axis=0)\n",
    "        embedding_neg_from = tf.gather(\n",
    "            repeat_neg, tf.random.shuffle(tf.range(tf.shape(repeat_neg)[0]))\n",
    "        )\n",
    "\n",
    "        #  distances between samples (and negative samples)\n",
    "        distance_embedding = tf.concat(\n",
    "            [\n",
    "                tf.norm(embedding_to - embedding_from, axis=1),\n",
    "                tf.norm(embedding_neg_to - embedding_neg_from, axis=1),\n",
    "            ],\n",
    "            axis=0,\n",
    "        )\n",
    "\n",
    "        # convert probabilities to distances\n",
    "        probabilities_distance = convert_distance_to_probability(\n",
    "            distance_embedding, _a, _b\n",
    "        )\n",
    "\n",
    "        # set true probabilities based on negative sampling\n",
    "        probabilities_graph = tf.concat(\n",
    "            [tf.ones(batch_size), tf.zeros(batch_size * negative_sample_rate)], axis=0,\n",
    "        )\n",
    "\n",
    "        # compute cross entropy\n",
    "        (attraction_loss, repellant_loss, ce_loss) = compute_cross_entropy(\n",
    "            probabilities_graph,\n",
    "            probabilities_distance,\n",
    "            repulsion_strength=repulsion_strength,\n",
    "        )\n",
    "        return tf.reduce_mean(ce_loss)\n",
    "\n",
    "    return loss"
   ]
  },
  {
   "cell_type": "code",
   "execution_count": 242,
   "metadata": {
    "ExecuteTime": {
     "end_time": "2020-08-13T22:10:03.013791Z",
     "start_time": "2020-08-13T22:10:02.964465Z"
    }
   },
   "outputs": [],
   "source": [
    "from umap.spectral import spectral_layout\n",
    "from sklearn.utils import check_random_state\n",
    "\n",
    "\n",
    "def init_embedding_from_graph(\n",
    "    _raw_data, graph, n_components, random_state, metric, _metric_kwds, init=\"spectral\"\n",
    "):\n",
    "    \"\"\" Initialize embedding using graph. This is for direct embeddings. \n",
    "\n",
    "        Parameters\n",
    "        ----------\n",
    "        init : str, optional\n",
    "            Type of initialization to use. Either random, or spectral, by default \"spectral\"\n",
    "\n",
    "        Returns\n",
    "        -------\n",
    "        embedding : np.array\n",
    "            the initialized embedding\n",
    "        \"\"\"\n",
    "    if random_state is None:\n",
    "        random_state = check_random_state(None)\n",
    "    \n",
    "    if isinstance(init, str) and init == \"random\":\n",
    "        embedding = random_state.uniform(\n",
    "            low=-10.0, high=10.0, size=(graph.shape[0], n_components)\n",
    "        ).astype(np.float32)\n",
    "    elif isinstance(init, str) and init == \"spectral\":\n",
    "        # We add a little noise to avoid local minima for optimization to come\n",
    "\n",
    "        initialisation = spectral_layout(\n",
    "            _raw_data,\n",
    "            graph,\n",
    "            n_components,\n",
    "            random_state,\n",
    "            metric=metric,\n",
    "            metric_kwds=_metric_kwds,\n",
    "        )\n",
    "        expansion = 10.0 / np.abs(initialisation).max()\n",
    "        embedding = (initialisation * expansion).astype(\n",
    "            np.float32\n",
    "        ) + random_state.normal(\n",
    "            scale=0.0001, size=[graph.shape[0], n_components]\n",
    "        ).astype(\n",
    "            np.float32\n",
    "        )\n",
    "\n",
    "    else:\n",
    "        init_data = np.array(init)\n",
    "        if len(init_data.shape) == 2:\n",
    "            if np.unique(init_data, axis=0).shape[0] < init_data.shape[0]:\n",
    "                tree = KDTree(init_data)\n",
    "                dist, ind = tree.query(init_data, k=2)\n",
    "                nndist = np.mean(dist[:, 1])\n",
    "                embedding = init_data + random_state.normal(\n",
    "                    scale=0.001 * nndist, size=init_data.shape\n",
    "                ).astype(np.float32)\n",
    "            else:\n",
    "                embedding = init_data\n",
    "\n",
    "    return embedding"
   ]
  },
  {
   "cell_type": "code",
   "execution_count": 243,
   "metadata": {
    "ExecuteTime": {
     "end_time": "2020-08-13T22:10:03.119256Z",
     "start_time": "2020-08-13T22:10:03.080427Z"
    }
   },
   "outputs": [],
   "source": [
    "def prepare_networks(\n",
    "    encoder, decoder, n_components, dims, n_data, parametric_embedding, init_embedding\n",
    "):\n",
    "\n",
    "    if parametric_embedding:\n",
    "        if encoder is None:\n",
    "            encoder = tf.keras.Sequential(\n",
    "                [\n",
    "                    tf.keras.layers.InputLayer(input_shape=dims),\n",
    "                    tf.keras.layers.Flatten(),\n",
    "                    tf.keras.layers.Dense(units=100, activation=\"relu\"),\n",
    "                    tf.keras.layers.Dense(units=100, activation=\"relu\"),\n",
    "                    tf.keras.layers.Dense(units=100, activation=\"relu\"),\n",
    "                    tf.keras.layers.Dense(units=n_components, name=\"z\"),\n",
    "                ]\n",
    "            )\n",
    "    else:\n",
    "        embedding_layer = tf.keras.layers.Embedding(\n",
    "            n_data, n_components, input_length=1\n",
    "        )\n",
    "        embedding_layer.build(input_shape=(1,)) \n",
    "        embedding_layer.set_weights([init_embedding])\n",
    "        encoder = tf.keras.Sequential([embedding_layer])\n",
    "\n",
    "    return encoder, decoder"
   ]
  },
  {
   "cell_type": "code",
   "execution_count": 244,
   "metadata": {
    "ExecuteTime": {
     "end_time": "2020-08-13T22:10:03.262989Z",
     "start_time": "2020-08-13T22:10:03.217992Z"
    }
   },
   "outputs": [],
   "source": [
    "def construct_edge_dataset(\n",
    "    X,\n",
    "    graph_,\n",
    "    n_epochs,\n",
    "    batch_size,\n",
    "    max_sample_repeats_per_epoch,\n",
    "    parametric_embedding,\n",
    "    parametric_decoding,\n",
    "):\n",
    "    \"\"\" Construct a tf.data.Dataset of edges, sampled by edge weight.\n",
    "    \"\"\"\n",
    "\n",
    "    def gather_X(edge_to, edge_from):\n",
    "        return (tf.gather(X, edge_to), tf.gather(X, edge_from)), 0\n",
    "    def nonparametric_gather_X(edge_to, edge_from):\n",
    "        return (tf.expand_dims(edge_to, -1), tf.expand_dims(edge_from, -1)), tf.cast([0.0], tf.float32)\n",
    "\n",
    "    # get data from graph\n",
    "    graph, epochs_per_sample, head, tail, weight, n_vertices = get_graph_elements(\n",
    "        graph_, n_epochs\n",
    "    )\n",
    "\n",
    "    # number of elements per batch for embedding\n",
    "    if batch_size is None:\n",
    "        # batch size can be larger if its just over embeddings\n",
    "        if (parametric_embedding == False) & (parametric_decoding is None):\n",
    "            batch_size = np.min([n_vertices, 60000])\n",
    "        else:\n",
    "            batch_size = np.min([n_vertices, 1000])\n",
    "\n",
    "    edges_to_exp, edges_from_exp = (\n",
    "        np.repeat(head, epochs_per_sample.astype(\"int\")),\n",
    "        np.repeat(tail, epochs_per_sample.astype(\"int\")),\n",
    "    )\n",
    "\n",
    "    # shuffle edges\n",
    "    shuffle_mask = np.random.permutation(range(len(edges_to_exp)))\n",
    "    edges_to_exp = edges_to_exp[shuffle_mask]\n",
    "    edges_from_exp = edges_from_exp[shuffle_mask]\n",
    "\n",
    "    # create edge iterator\n",
    "    edge_dataset = tf.data.Dataset.from_tensor_slices((edges_to_exp, edges_from_exp))\n",
    "    edge_dataset = edge_dataset.repeat()\n",
    "    edge_dataset = edge_dataset.shuffle(10000)\n",
    "    if parametric_embedding:\n",
    "        edge_dataset = edge_dataset.map(\n",
    "            gather_X, num_parallel_calls=tf.data.experimental.AUTOTUNE\n",
    "        )\n",
    "    else:\n",
    "        edge_dataset = edge_dataset.map(\n",
    "            nonparametric_gather_X, num_parallel_calls=tf.data.experimental.AUTOTUNE\n",
    "        )\n",
    "    edge_dataset = edge_dataset.batch(batch_size, drop_remainder=True)\n",
    "    edge_dataset = edge_dataset.prefetch(10)\n",
    "    return edge_dataset, batch_size, len(edges_to_exp)"
   ]
  },
  {
   "cell_type": "code",
   "execution_count": 250,
   "metadata": {
    "ExecuteTime": {
     "end_time": "2020-08-13T22:11:52.787968Z",
     "start_time": "2020-08-13T22:11:52.196515Z"
    }
   },
   "outputs": [],
   "source": [
    "class ParametricUMAP(UMAP):\n",
    "    def __init__(\n",
    "        self,\n",
    "        optimizer=None,\n",
    "        batch_size=None,\n",
    "        dims=None,\n",
    "        encoder=None,\n",
    "        decoder=None,\n",
    "        parametric_embedding=True,\n",
    "        parametric_decoding=False,\n",
    "        autoencoder_decoding=False,\n",
    "        max_sample_repeats_per_epoch=None,\n",
    "        loss_report_frequency=1,\n",
    "        n_training_epochs=1,\n",
    "        **kwargs\n",
    "    ):\n",
    "        \"\"\" Parametric UMAP subclassing UMAP-learn, based on keras/tensorflow.\n",
    "        There is also a non-parametric implementation contained within to compare \n",
    "        with the base non-parametric implementation.\n",
    "        \"\"\"\n",
    "        super().__init__(**kwargs)\n",
    "\n",
    "        # add to network\n",
    "        self.dims = dims  # if this is an image, we should reshape for network\n",
    "        self.encoder = encoder  # neural network used for embedding\n",
    "        self.decoder = decoder  # neural network used for decoding\n",
    "        self.parametric_embedding = (\n",
    "            parametric_embedding  # nonparametric vs parametric embedding\n",
    "        )\n",
    "        self.parametric_decoding = parametric_decoding\n",
    "        self.max_sample_repeats_per_epoch = max_sample_repeats_per_epoch\n",
    "        self.batch_size = batch_size\n",
    "        self.loss_report_frequency = (\n",
    "            loss_report_frequency  # how many times per epoch to report loss in keras\n",
    "        )\n",
    "        # how many epochs to train for (different than n_epochs which is specific to each sample)\n",
    "        self.n_training_epochs = n_training_epochs\n",
    "        # set optimizer\n",
    "        if optimizer is None:\n",
    "            if parametric_embedding:\n",
    "                # Adam is better for parametric_embedding\n",
    "                self.optimizer = tf.keras.optimizers.Adam(1e-3)\n",
    "            else:\n",
    "                # Adadelta is better for direct embedding\n",
    "                self.optimizer = tf.keras.optimizers.Adadelta(50)\n",
    "        else:\n",
    "            self.optimizer = optimizer\n",
    "\n",
    "    def define_model(self):\n",
    "        \"\"\" Define the model in keras\n",
    "        \"\"\"\n",
    "\n",
    "        # inputs\n",
    "        if self.parametric_embedding:\n",
    "            to_x = tf.keras.layers.Input(shape=self.dims, name=\"to_x\")\n",
    "            from_x = tf.keras.layers.Input(shape=self.dims, name=\"from_x\")\n",
    "            embedding_to = self.encoder(to_x)\n",
    "            embedding_from = self.encoder(from_x)\n",
    "        else:\n",
    "            to_x = tf.keras.layers.Input(shape=(1), name=\"to_x\")\n",
    "            from_x = tf.keras.layers.Input(shape=(1), name=\"from_x\")\n",
    "            embedding_to = self.encoder(to_x)[:, -1, :]\n",
    "            embedding_from = self.encoder(from_x)[:, -1, :]\n",
    "\n",
    "        embedding_to_from = tf.keras.layers.concatenate(\n",
    "            [embedding_to, embedding_from], axis=1\n",
    "        )\n",
    "        embedding_to_from = tf.keras.layers.Lambda(lambda x: x, name=\"umap\")(\n",
    "            embedding_to_from\n",
    "        )\n",
    "\n",
    "        loss_val = umap_loss__(\n",
    "            embedding_to,\n",
    "            embedding_from,\n",
    "            self.batch_size,\n",
    "            self.negative_sample_rate,\n",
    "            tf.cast(self._a, tf.float32),\n",
    "            tf.cast(self._b, tf.float32),\n",
    "        )\n",
    "\n",
    "        # create model\n",
    "        #self.parametric_model = tf.keras.Model(\n",
    "        #    inputs=[to_x, from_x], outputs={\"umap\": loss_val},\n",
    "        #)\n",
    "        self.parametric_model = CustomModel(\n",
    "            inputs=[to_x, from_x], outputs={\"umap\": loss_val},\n",
    "        )\n",
    "\n",
    "    def compile_model(self):\n",
    "\n",
    "        self.parametric_model.compile(\n",
    "            optimizer=self.optimizer,\n",
    "            loss={\n",
    "                # \"reconstruction\": tf.keras.losses.BinaryCrossentropy(),\n",
    "                \"umap\": \"mae\",\n",
    "            },\n",
    "            loss_weights={\"umap\": 1.0},\n",
    "        )\n",
    "\n",
    "    def _fit_embed_data(self, X, n_epochs, init, random_state):\n",
    "\n",
    "        # get dimensionality of dataset\n",
    "        if self.dims is None:\n",
    "            self.dims = [np.shape(X)[-1]]\n",
    "        else:\n",
    "            # reshape data for network\n",
    "            if len(self.dims) > 1:\n",
    "                X = np.reshape(X, [len(X)] + list(self.dims))\n",
    "\n",
    "        self.n_data = len(X)\n",
    "\n",
    "        # get dataset of edges\n",
    "        edge_dataset, self.batch_size, n_edges = construct_edge_dataset(\n",
    "            X,\n",
    "            self.graph_,\n",
    "            self.n_epochs,\n",
    "            self.batch_size,\n",
    "            self.max_sample_repeats_per_epoch,\n",
    "            self.parametric_embedding,\n",
    "            self.parametric_decoding,\n",
    "        )\n",
    "\n",
    "        if not self.parametric_embedding:\n",
    "            init_embedding = init_embedding_from_graph(\n",
    "                X,\n",
    "                self.graph_,\n",
    "                self.n_components,\n",
    "                self.random_state,\n",
    "                self.metric,\n",
    "                self._metric_kwds,\n",
    "                init=\"spectral\",\n",
    "            )\n",
    "\n",
    "        # create encoder and decoder model\n",
    "        self.encoder, self.decoder = prepare_networks(\n",
    "            self.encoder,\n",
    "            self.decoder,\n",
    "            self.n_components,\n",
    "            self.dims,\n",
    "            self.n_data,\n",
    "            self.parametric_embedding,\n",
    "            init_embedding,\n",
    "        )\n",
    "\n",
    "        # create the model\n",
    "        self.define_model()\n",
    "        self.compile_model()\n",
    "\n",
    "        # report every loss_report_frequency subdivision of an epochs\n",
    "        steps_per_epoch = int(n_edges / self.batch_size / self.loss_report_frequency)\n",
    "\n",
    "        # create embedding\n",
    "        self._history = self.parametric_model.fit(\n",
    "            edge_dataset,\n",
    "            epochs=self.loss_report_frequency * self.n_training_epochs,\n",
    "            steps_per_epoch=steps_per_epoch,\n",
    "            max_queue_size=100,\n",
    "        )\n",
    "\n",
    "        embedding = self.encoder.predict(X, verbose=True)\n",
    "\n",
    "        return embedding, {}"
   ]
  },
  {
   "cell_type": "code",
   "execution_count": 266,
   "metadata": {
    "ExecuteTime": {
     "end_time": "2020-08-13T22:12:59.166134Z",
     "start_time": "2020-08-13T22:12:58.614176Z"
    }
   },
   "outputs": [],
   "source": [
    "alpha = tf.constant(1.0)\n",
    "class CustomModel(tf.keras.Model):\n",
    "    \n",
    "    def train_step(self, data):\n",
    "        # Unpack the data. Its structure depends on your model and\n",
    "        # on what you pass to `fit()`.\n",
    "        x, y = data\n",
    "\n",
    "        with tf.GradientTape() as tape:\n",
    "            y_pred = self(x, training=True)  # Forward pass\n",
    "            # Compute the loss value\n",
    "            # (the loss function is configured in `compile()`)\n",
    "            print(y_pred, y)\n",
    "            loss = self.compiled_loss(y, y_pred, regularization_losses=self.losses)\n",
    "            \n",
    "            #loss = loss_fn(y, y_pred)\n",
    "\n",
    "            # Compute gradients\n",
    "            trainable_vars = self.trainable_variables\n",
    "            gradients = tape.gradient(loss, trainable_vars)\n",
    "            gradients = [tf.clip_by_value(grad, -4.0, 4.0) * alpha for grad in gradients] \n",
    "\n",
    "        # Update weights\n",
    "        self.optimizer.apply_gradients(zip(gradients, trainable_vars))\n",
    "        # Update metrics (includes the metric that tracks the loss)\n",
    "        self.compiled_metrics.update_state(y, y_pred)\n",
    "        # Return a dict mapping metric names to current value\n",
    "        return {m.name: m.result() for m in self.metrics}"
   ]
  },
  {
   "cell_type": "code",
   "execution_count": 267,
   "metadata": {
    "ExecuteTime": {
     "end_time": "2020-08-13T22:12:59.206065Z",
     "start_time": "2020-08-13T22:12:59.168026Z"
    }
   },
   "outputs": [],
   "source": [
    "dims = (28,28, 1)\n",
    "n_components = 2"
   ]
  },
  {
   "cell_type": "code",
   "execution_count": 268,
   "metadata": {
    "ExecuteTime": {
     "end_time": "2020-08-13T22:12:59.239459Z",
     "start_time": "2020-08-13T22:12:59.207520Z"
    }
   },
   "outputs": [],
   "source": [
    "model = ParametricUMAP(\n",
    "    \n",
    "    parametric_embedding=False, dims=dims, loss_report_frequency=5, n_training_epochs=5,\n",
    "    verbose=True\n",
    ")"
   ]
  },
  {
   "cell_type": "code",
   "execution_count": 269,
   "metadata": {
    "ExecuteTime": {
     "end_time": "2020-08-13T22:12:59.383009Z",
     "start_time": "2020-08-13T22:12:59.345159Z"
    }
   },
   "outputs": [],
   "source": [
    "X_train_flat = X_train.reshape((len(X_train), np.product(np.shape(X_train)[1:])))\n",
    "X_train_flat = X_train_flat[:1000]"
   ]
  },
  {
   "cell_type": "code",
   "execution_count": 270,
   "metadata": {
    "ExecuteTime": {
     "end_time": "2020-08-13T22:13:12.294610Z",
     "start_time": "2020-08-13T22:12:59.793626Z"
    }
   },
   "outputs": [
    {
     "name": "stderr",
     "output_type": "stream",
     "text": [
      "/mnt/cube/tsainbur/conda_envs/tpy3/lib/python3.6/site-packages/sklearn/base.py:213: FutureWarning: From version 0.24, get_params will raise an AttributeError if a parameter cannot be retrieved as an instance attribute. Previously it would return None.\n",
      "  FutureWarning)\n"
     ]
    },
    {
     "name": "stdout",
     "output_type": "stream",
     "text": [
      "ParametricUMAP(autoencoder_decoding=None, dims=(28, 28, 1),\n",
      "               loss_report_frequency=5, n_training_epochs=5,\n",
      "               optimizer=<tensorflow.python.keras.optimizer_v2.adadelta.Adadelta object at 0x7f55b052a7b8>,\n",
      "               parametric_embedding=False)\n",
      "Construct fuzzy simplicial set\n",
      "Thu Aug 13 15:13:00 2020 Finding Nearest Neighbors\n",
      "Thu Aug 13 15:13:00 2020 Finished Nearest Neighbor Search\n",
      "Thu Aug 13 15:13:00 2020 Construct embedding\n",
      "Epoch 1/25\n",
      "{'umap': <tf.Tensor 'custom_model_3/tf_op_layer_Mean_11/Mean_11:0' shape=() dtype=float32>} Tensor(\"IteratorGetNext:2\", shape=(1000, 1), dtype=float32)\n"
     ]
    },
    {
     "name": "stderr",
     "output_type": "stream",
     "text": [
      "/mnt/cube/tsainbur/conda_envs/tpy3/lib/python3.6/site-packages/tensorflow/python/framework/indexed_slices.py:432: UserWarning: Converting sparse IndexedSlices to a dense Tensor of unknown shape. This may consume a large amount of memory.\n",
      "  \"Converting sparse IndexedSlices to a dense Tensor of unknown shape. \"\n"
     ]
    },
    {
     "name": "stdout",
     "output_type": "stream",
     "text": [
      "{'umap': <tf.Tensor 'custom_model_3/tf_op_layer_Mean_11/Mean_11:0' shape=() dtype=float32>} Tensor(\"IteratorGetNext:2\", shape=(1000, 1), dtype=float32)\n",
      "23/23 [==============================] - 1s 22ms/step - loss: 0.3140\n",
      "Epoch 2/25\n",
      "23/23 [==============================] - 0s 20ms/step - loss: 0.2985\n",
      "Epoch 3/25\n",
      "23/23 [==============================] - 0s 20ms/step - loss: 0.2871\n",
      "Epoch 4/25\n",
      "23/23 [==============================] - 0s 21ms/step - loss: 0.2782\n",
      "Epoch 5/25\n",
      "23/23 [==============================] - 0s 21ms/step - loss: 0.2725\n",
      "Epoch 6/25\n",
      "23/23 [==============================] - 1s 22ms/step - loss: 0.2673\n",
      "Epoch 7/25\n",
      "23/23 [==============================] - 1s 23ms/step - loss: 0.2640\n",
      "Epoch 8/25\n",
      "23/23 [==============================] - 1s 23ms/step - loss: 0.2593\n",
      "Epoch 9/25\n",
      "23/23 [==============================] - 1s 22ms/step - loss: 0.2576\n",
      "Epoch 10/25\n",
      "23/23 [==============================] - 1s 23ms/step - loss: 0.2546\n",
      "Epoch 11/25\n",
      "23/23 [==============================] - 1s 23ms/step - loss: 0.2530\n",
      "Epoch 12/25\n",
      "23/23 [==============================] - 1s 23ms/step - loss: 0.2509\n",
      "Epoch 13/25\n",
      "23/23 [==============================] - 1s 23ms/step - loss: 0.2504\n",
      "Epoch 14/25\n",
      "23/23 [==============================] - 1s 23ms/step - loss: 0.2499\n",
      "Epoch 15/25\n",
      "23/23 [==============================] - 1s 23ms/step - loss: 0.2509\n",
      "Epoch 16/25\n",
      "23/23 [==============================] - 1s 23ms/step - loss: 0.2459\n",
      "Epoch 17/25\n",
      "23/23 [==============================] - 0s 21ms/step - loss: 0.2474\n",
      "Epoch 18/25\n",
      "23/23 [==============================] - 0s 20ms/step - loss: 0.2477\n",
      "Epoch 19/25\n",
      "23/23 [==============================] - 1s 22ms/step - loss: 0.2461\n",
      "Epoch 20/25\n",
      "23/23 [==============================] - 0s 21ms/step - loss: 0.2445\n",
      "Epoch 21/25\n",
      "23/23 [==============================] - 0s 20ms/step - loss: 0.2438\n",
      "Epoch 22/25\n",
      " 1/23 [>.............................] - ETA: 0s - loss: 0.2631"
     ]
    },
    {
     "ename": "KeyboardInterrupt",
     "evalue": "",
     "output_type": "error",
     "traceback": [
      "\u001b[0;31m---------------------------------------------------------------------------\u001b[0m",
      "\u001b[0;31mKeyboardInterrupt\u001b[0m                         Traceback (most recent call last)",
      "\u001b[0;32m<ipython-input-270-ba2465c7f7e7>\u001b[0m in \u001b[0;36m<module>\u001b[0;34m\u001b[0m\n\u001b[0;32m----> 1\u001b[0;31m \u001b[0membedding\u001b[0m \u001b[0;34m=\u001b[0m \u001b[0mmodel\u001b[0m\u001b[0;34m.\u001b[0m\u001b[0mfit\u001b[0m\u001b[0;34m(\u001b[0m\u001b[0mX_train_flat\u001b[0m\u001b[0;34m)\u001b[0m\u001b[0;34m\u001b[0m\u001b[0;34m\u001b[0m\u001b[0m\n\u001b[0m",
      "\u001b[0;32m/mnt/cube/tsainbur/Projects/github_repos/umap/umap/umap_.py\u001b[0m in \u001b[0;36mfit\u001b[0;34m(self, X, y)\u001b[0m\n\u001b[1;32m   2320\u001b[0m \u001b[0;34m\u001b[0m\u001b[0m\n\u001b[1;32m   2321\u001b[0m         self.embedding_, aux_data = self._fit_embed_data(\n\u001b[0;32m-> 2322\u001b[0;31m             \u001b[0mself\u001b[0m\u001b[0;34m.\u001b[0m\u001b[0m_raw_data\u001b[0m\u001b[0;34m[\u001b[0m\u001b[0mindex\u001b[0m\u001b[0;34m]\u001b[0m\u001b[0;34m,\u001b[0m \u001b[0mn_epochs\u001b[0m\u001b[0;34m,\u001b[0m \u001b[0minit\u001b[0m\u001b[0;34m,\u001b[0m \u001b[0mrandom_state\u001b[0m\u001b[0;34m,\u001b[0m  \u001b[0;31m# JH why raw data?\u001b[0m\u001b[0;34m\u001b[0m\u001b[0;34m\u001b[0m\u001b[0m\n\u001b[0m\u001b[1;32m   2323\u001b[0m         )\n\u001b[1;32m   2324\u001b[0m \u001b[0;34m\u001b[0m\u001b[0m\n",
      "\u001b[0;32m<ipython-input-250-a6586273e00e>\u001b[0m in \u001b[0;36m_fit_embed_data\u001b[0;34m(self, X, n_epochs, init, random_state)\u001b[0m\n\u001b[1;32m    157\u001b[0m             \u001b[0mepochs\u001b[0m\u001b[0;34m=\u001b[0m\u001b[0mself\u001b[0m\u001b[0;34m.\u001b[0m\u001b[0mloss_report_frequency\u001b[0m \u001b[0;34m*\u001b[0m \u001b[0mself\u001b[0m\u001b[0;34m.\u001b[0m\u001b[0mn_training_epochs\u001b[0m\u001b[0;34m,\u001b[0m\u001b[0;34m\u001b[0m\u001b[0;34m\u001b[0m\u001b[0m\n\u001b[1;32m    158\u001b[0m             \u001b[0msteps_per_epoch\u001b[0m\u001b[0;34m=\u001b[0m\u001b[0msteps_per_epoch\u001b[0m\u001b[0;34m,\u001b[0m\u001b[0;34m\u001b[0m\u001b[0;34m\u001b[0m\u001b[0m\n\u001b[0;32m--> 159\u001b[0;31m             \u001b[0mmax_queue_size\u001b[0m\u001b[0;34m=\u001b[0m\u001b[0;36m100\u001b[0m\u001b[0;34m,\u001b[0m\u001b[0;34m\u001b[0m\u001b[0;34m\u001b[0m\u001b[0m\n\u001b[0m\u001b[1;32m    160\u001b[0m         )\n\u001b[1;32m    161\u001b[0m \u001b[0;34m\u001b[0m\u001b[0m\n",
      "\u001b[0;32m/mnt/cube/tsainbur/conda_envs/tpy3/lib/python3.6/site-packages/tensorflow/python/keras/engine/training.py\u001b[0m in \u001b[0;36m_method_wrapper\u001b[0;34m(self, *args, **kwargs)\u001b[0m\n\u001b[1;32m    106\u001b[0m   \u001b[0;32mdef\u001b[0m \u001b[0m_method_wrapper\u001b[0m\u001b[0;34m(\u001b[0m\u001b[0mself\u001b[0m\u001b[0;34m,\u001b[0m \u001b[0;34m*\u001b[0m\u001b[0margs\u001b[0m\u001b[0;34m,\u001b[0m \u001b[0;34m**\u001b[0m\u001b[0mkwargs\u001b[0m\u001b[0;34m)\u001b[0m\u001b[0;34m:\u001b[0m\u001b[0;34m\u001b[0m\u001b[0;34m\u001b[0m\u001b[0m\n\u001b[1;32m    107\u001b[0m     \u001b[0;32mif\u001b[0m \u001b[0;32mnot\u001b[0m \u001b[0mself\u001b[0m\u001b[0;34m.\u001b[0m\u001b[0m_in_multi_worker_mode\u001b[0m\u001b[0;34m(\u001b[0m\u001b[0;34m)\u001b[0m\u001b[0;34m:\u001b[0m  \u001b[0;31m# pylint: disable=protected-access\u001b[0m\u001b[0;34m\u001b[0m\u001b[0;34m\u001b[0m\u001b[0m\n\u001b[0;32m--> 108\u001b[0;31m       \u001b[0;32mreturn\u001b[0m \u001b[0mmethod\u001b[0m\u001b[0;34m(\u001b[0m\u001b[0mself\u001b[0m\u001b[0;34m,\u001b[0m \u001b[0;34m*\u001b[0m\u001b[0margs\u001b[0m\u001b[0;34m,\u001b[0m \u001b[0;34m**\u001b[0m\u001b[0mkwargs\u001b[0m\u001b[0;34m)\u001b[0m\u001b[0;34m\u001b[0m\u001b[0;34m\u001b[0m\u001b[0m\n\u001b[0m\u001b[1;32m    109\u001b[0m \u001b[0;34m\u001b[0m\u001b[0m\n\u001b[1;32m    110\u001b[0m     \u001b[0;31m# Running inside `run_distribute_coordinator` already.\u001b[0m\u001b[0;34m\u001b[0m\u001b[0;34m\u001b[0m\u001b[0;34m\u001b[0m\u001b[0m\n",
      "\u001b[0;32m/mnt/cube/tsainbur/conda_envs/tpy3/lib/python3.6/site-packages/tensorflow/python/keras/engine/training.py\u001b[0m in \u001b[0;36mfit\u001b[0;34m(self, x, y, batch_size, epochs, verbose, callbacks, validation_split, validation_data, shuffle, class_weight, sample_weight, initial_epoch, steps_per_epoch, validation_steps, validation_batch_size, validation_freq, max_queue_size, workers, use_multiprocessing)\u001b[0m\n\u001b[1;32m   1096\u001b[0m                 batch_size=batch_size):\n\u001b[1;32m   1097\u001b[0m               \u001b[0mcallbacks\u001b[0m\u001b[0;34m.\u001b[0m\u001b[0mon_train_batch_begin\u001b[0m\u001b[0;34m(\u001b[0m\u001b[0mstep\u001b[0m\u001b[0;34m)\u001b[0m\u001b[0;34m\u001b[0m\u001b[0;34m\u001b[0m\u001b[0m\n\u001b[0;32m-> 1098\u001b[0;31m               \u001b[0mtmp_logs\u001b[0m \u001b[0;34m=\u001b[0m \u001b[0mtrain_function\u001b[0m\u001b[0;34m(\u001b[0m\u001b[0miterator\u001b[0m\u001b[0;34m)\u001b[0m\u001b[0;34m\u001b[0m\u001b[0;34m\u001b[0m\u001b[0m\n\u001b[0m\u001b[1;32m   1099\u001b[0m               \u001b[0;32mif\u001b[0m \u001b[0mdata_handler\u001b[0m\u001b[0;34m.\u001b[0m\u001b[0mshould_sync\u001b[0m\u001b[0;34m:\u001b[0m\u001b[0;34m\u001b[0m\u001b[0;34m\u001b[0m\u001b[0m\n\u001b[1;32m   1100\u001b[0m                 \u001b[0mcontext\u001b[0m\u001b[0;34m.\u001b[0m\u001b[0masync_wait\u001b[0m\u001b[0;34m(\u001b[0m\u001b[0;34m)\u001b[0m\u001b[0;34m\u001b[0m\u001b[0;34m\u001b[0m\u001b[0m\n",
      "\u001b[0;32m/mnt/cube/tsainbur/conda_envs/tpy3/lib/python3.6/site-packages/tensorflow/python/eager/def_function.py\u001b[0m in \u001b[0;36m__call__\u001b[0;34m(self, *args, **kwds)\u001b[0m\n\u001b[1;32m    778\u001b[0m       \u001b[0;32melse\u001b[0m\u001b[0;34m:\u001b[0m\u001b[0;34m\u001b[0m\u001b[0;34m\u001b[0m\u001b[0m\n\u001b[1;32m    779\u001b[0m         \u001b[0mcompiler\u001b[0m \u001b[0;34m=\u001b[0m \u001b[0;34m\"nonXla\"\u001b[0m\u001b[0;34m\u001b[0m\u001b[0;34m\u001b[0m\u001b[0m\n\u001b[0;32m--> 780\u001b[0;31m         \u001b[0mresult\u001b[0m \u001b[0;34m=\u001b[0m \u001b[0mself\u001b[0m\u001b[0;34m.\u001b[0m\u001b[0m_call\u001b[0m\u001b[0;34m(\u001b[0m\u001b[0;34m*\u001b[0m\u001b[0margs\u001b[0m\u001b[0;34m,\u001b[0m \u001b[0;34m**\u001b[0m\u001b[0mkwds\u001b[0m\u001b[0;34m)\u001b[0m\u001b[0;34m\u001b[0m\u001b[0;34m\u001b[0m\u001b[0m\n\u001b[0m\u001b[1;32m    781\u001b[0m \u001b[0;34m\u001b[0m\u001b[0m\n\u001b[1;32m    782\u001b[0m       \u001b[0mnew_tracing_count\u001b[0m \u001b[0;34m=\u001b[0m \u001b[0mself\u001b[0m\u001b[0;34m.\u001b[0m\u001b[0m_get_tracing_count\u001b[0m\u001b[0;34m(\u001b[0m\u001b[0;34m)\u001b[0m\u001b[0;34m\u001b[0m\u001b[0;34m\u001b[0m\u001b[0m\n",
      "\u001b[0;32m/mnt/cube/tsainbur/conda_envs/tpy3/lib/python3.6/site-packages/tensorflow/python/eager/def_function.py\u001b[0m in \u001b[0;36m_call\u001b[0;34m(self, *args, **kwds)\u001b[0m\n\u001b[1;32m    805\u001b[0m       \u001b[0;31m# In this case we have created variables on the first call, so we run the\u001b[0m\u001b[0;34m\u001b[0m\u001b[0;34m\u001b[0m\u001b[0;34m\u001b[0m\u001b[0m\n\u001b[1;32m    806\u001b[0m       \u001b[0;31m# defunned version which is guaranteed to never create variables.\u001b[0m\u001b[0;34m\u001b[0m\u001b[0;34m\u001b[0m\u001b[0;34m\u001b[0m\u001b[0m\n\u001b[0;32m--> 807\u001b[0;31m       \u001b[0;32mreturn\u001b[0m \u001b[0mself\u001b[0m\u001b[0;34m.\u001b[0m\u001b[0m_stateless_fn\u001b[0m\u001b[0;34m(\u001b[0m\u001b[0;34m*\u001b[0m\u001b[0margs\u001b[0m\u001b[0;34m,\u001b[0m \u001b[0;34m**\u001b[0m\u001b[0mkwds\u001b[0m\u001b[0;34m)\u001b[0m  \u001b[0;31m# pylint: disable=not-callable\u001b[0m\u001b[0;34m\u001b[0m\u001b[0;34m\u001b[0m\u001b[0m\n\u001b[0m\u001b[1;32m    808\u001b[0m     \u001b[0;32melif\u001b[0m \u001b[0mself\u001b[0m\u001b[0;34m.\u001b[0m\u001b[0m_stateful_fn\u001b[0m \u001b[0;32mis\u001b[0m \u001b[0;32mnot\u001b[0m \u001b[0;32mNone\u001b[0m\u001b[0;34m:\u001b[0m\u001b[0;34m\u001b[0m\u001b[0;34m\u001b[0m\u001b[0m\n\u001b[1;32m    809\u001b[0m       \u001b[0;31m# Release the lock early so that multiple threads can perform the call\u001b[0m\u001b[0;34m\u001b[0m\u001b[0;34m\u001b[0m\u001b[0;34m\u001b[0m\u001b[0m\n",
      "\u001b[0;32m/mnt/cube/tsainbur/conda_envs/tpy3/lib/python3.6/site-packages/tensorflow/python/eager/function.py\u001b[0m in \u001b[0;36m__call__\u001b[0;34m(self, *args, **kwargs)\u001b[0m\n\u001b[1;32m   2827\u001b[0m     \u001b[0;32mwith\u001b[0m \u001b[0mself\u001b[0m\u001b[0;34m.\u001b[0m\u001b[0m_lock\u001b[0m\u001b[0;34m:\u001b[0m\u001b[0;34m\u001b[0m\u001b[0;34m\u001b[0m\u001b[0m\n\u001b[1;32m   2828\u001b[0m       \u001b[0mgraph_function\u001b[0m\u001b[0;34m,\u001b[0m \u001b[0margs\u001b[0m\u001b[0;34m,\u001b[0m \u001b[0mkwargs\u001b[0m \u001b[0;34m=\u001b[0m \u001b[0mself\u001b[0m\u001b[0;34m.\u001b[0m\u001b[0m_maybe_define_function\u001b[0m\u001b[0;34m(\u001b[0m\u001b[0margs\u001b[0m\u001b[0;34m,\u001b[0m \u001b[0mkwargs\u001b[0m\u001b[0;34m)\u001b[0m\u001b[0;34m\u001b[0m\u001b[0;34m\u001b[0m\u001b[0m\n\u001b[0;32m-> 2829\u001b[0;31m     \u001b[0;32mreturn\u001b[0m \u001b[0mgraph_function\u001b[0m\u001b[0;34m.\u001b[0m\u001b[0m_filtered_call\u001b[0m\u001b[0;34m(\u001b[0m\u001b[0margs\u001b[0m\u001b[0;34m,\u001b[0m \u001b[0mkwargs\u001b[0m\u001b[0;34m)\u001b[0m  \u001b[0;31m# pylint: disable=protected-access\u001b[0m\u001b[0;34m\u001b[0m\u001b[0;34m\u001b[0m\u001b[0m\n\u001b[0m\u001b[1;32m   2830\u001b[0m \u001b[0;34m\u001b[0m\u001b[0m\n\u001b[1;32m   2831\u001b[0m   \u001b[0;34m@\u001b[0m\u001b[0mproperty\u001b[0m\u001b[0;34m\u001b[0m\u001b[0;34m\u001b[0m\u001b[0m\n",
      "\u001b[0;32m/mnt/cube/tsainbur/conda_envs/tpy3/lib/python3.6/site-packages/tensorflow/python/eager/function.py\u001b[0m in \u001b[0;36m_filtered_call\u001b[0;34m(self, args, kwargs, cancellation_manager)\u001b[0m\n\u001b[1;32m   1846\u001b[0m                            resource_variable_ops.BaseResourceVariable))],\n\u001b[1;32m   1847\u001b[0m         \u001b[0mcaptured_inputs\u001b[0m\u001b[0;34m=\u001b[0m\u001b[0mself\u001b[0m\u001b[0;34m.\u001b[0m\u001b[0mcaptured_inputs\u001b[0m\u001b[0;34m,\u001b[0m\u001b[0;34m\u001b[0m\u001b[0;34m\u001b[0m\u001b[0m\n\u001b[0;32m-> 1848\u001b[0;31m         cancellation_manager=cancellation_manager)\n\u001b[0m\u001b[1;32m   1849\u001b[0m \u001b[0;34m\u001b[0m\u001b[0m\n\u001b[1;32m   1850\u001b[0m   \u001b[0;32mdef\u001b[0m \u001b[0m_call_flat\u001b[0m\u001b[0;34m(\u001b[0m\u001b[0mself\u001b[0m\u001b[0;34m,\u001b[0m \u001b[0margs\u001b[0m\u001b[0;34m,\u001b[0m \u001b[0mcaptured_inputs\u001b[0m\u001b[0;34m,\u001b[0m \u001b[0mcancellation_manager\u001b[0m\u001b[0;34m=\u001b[0m\u001b[0;32mNone\u001b[0m\u001b[0;34m)\u001b[0m\u001b[0;34m:\u001b[0m\u001b[0;34m\u001b[0m\u001b[0;34m\u001b[0m\u001b[0m\n",
      "\u001b[0;32m/mnt/cube/tsainbur/conda_envs/tpy3/lib/python3.6/site-packages/tensorflow/python/eager/function.py\u001b[0m in \u001b[0;36m_call_flat\u001b[0;34m(self, args, captured_inputs, cancellation_manager)\u001b[0m\n\u001b[1;32m   1922\u001b[0m       \u001b[0;31m# No tape is watching; skip to running the function.\u001b[0m\u001b[0;34m\u001b[0m\u001b[0;34m\u001b[0m\u001b[0;34m\u001b[0m\u001b[0m\n\u001b[1;32m   1923\u001b[0m       return self._build_call_outputs(self._inference_function.call(\n\u001b[0;32m-> 1924\u001b[0;31m           ctx, args, cancellation_manager=cancellation_manager))\n\u001b[0m\u001b[1;32m   1925\u001b[0m     forward_backward = self._select_forward_and_backward_functions(\n\u001b[1;32m   1926\u001b[0m         \u001b[0margs\u001b[0m\u001b[0;34m,\u001b[0m\u001b[0;34m\u001b[0m\u001b[0;34m\u001b[0m\u001b[0m\n",
      "\u001b[0;32m/mnt/cube/tsainbur/conda_envs/tpy3/lib/python3.6/site-packages/tensorflow/python/eager/function.py\u001b[0m in \u001b[0;36mcall\u001b[0;34m(self, ctx, args, cancellation_manager)\u001b[0m\n\u001b[1;32m    548\u001b[0m               \u001b[0minputs\u001b[0m\u001b[0;34m=\u001b[0m\u001b[0margs\u001b[0m\u001b[0;34m,\u001b[0m\u001b[0;34m\u001b[0m\u001b[0;34m\u001b[0m\u001b[0m\n\u001b[1;32m    549\u001b[0m               \u001b[0mattrs\u001b[0m\u001b[0;34m=\u001b[0m\u001b[0mattrs\u001b[0m\u001b[0;34m,\u001b[0m\u001b[0;34m\u001b[0m\u001b[0;34m\u001b[0m\u001b[0m\n\u001b[0;32m--> 550\u001b[0;31m               ctx=ctx)\n\u001b[0m\u001b[1;32m    551\u001b[0m         \u001b[0;32melse\u001b[0m\u001b[0;34m:\u001b[0m\u001b[0;34m\u001b[0m\u001b[0;34m\u001b[0m\u001b[0m\n\u001b[1;32m    552\u001b[0m           outputs = execute.execute_with_cancellation(\n",
      "\u001b[0;32m/mnt/cube/tsainbur/conda_envs/tpy3/lib/python3.6/site-packages/tensorflow/python/eager/execute.py\u001b[0m in \u001b[0;36mquick_execute\u001b[0;34m(op_name, num_outputs, inputs, attrs, ctx, name)\u001b[0m\n\u001b[1;32m     58\u001b[0m     \u001b[0mctx\u001b[0m\u001b[0;34m.\u001b[0m\u001b[0mensure_initialized\u001b[0m\u001b[0;34m(\u001b[0m\u001b[0;34m)\u001b[0m\u001b[0;34m\u001b[0m\u001b[0;34m\u001b[0m\u001b[0m\n\u001b[1;32m     59\u001b[0m     tensors = pywrap_tfe.TFE_Py_Execute(ctx._handle, device_name, op_name,\n\u001b[0;32m---> 60\u001b[0;31m                                         inputs, attrs, num_outputs)\n\u001b[0m\u001b[1;32m     61\u001b[0m   \u001b[0;32mexcept\u001b[0m \u001b[0mcore\u001b[0m\u001b[0;34m.\u001b[0m\u001b[0m_NotOkStatusException\u001b[0m \u001b[0;32mas\u001b[0m \u001b[0me\u001b[0m\u001b[0;34m:\u001b[0m\u001b[0;34m\u001b[0m\u001b[0;34m\u001b[0m\u001b[0m\n\u001b[1;32m     62\u001b[0m     \u001b[0;32mif\u001b[0m \u001b[0mname\u001b[0m \u001b[0;32mis\u001b[0m \u001b[0;32mnot\u001b[0m \u001b[0;32mNone\u001b[0m\u001b[0;34m:\u001b[0m\u001b[0;34m\u001b[0m\u001b[0;34m\u001b[0m\u001b[0m\n",
      "\u001b[0;31mKeyboardInterrupt\u001b[0m: "
     ]
    }
   ],
   "source": [
    "embedding = model.fit(X_train_flat)"
   ]
  },
  {
   "cell_type": "code",
   "execution_count": 271,
   "metadata": {
    "ExecuteTime": {
     "end_time": "2020-08-13T22:13:14.438412Z",
     "start_time": "2020-08-13T22:13:14.396396Z"
    }
   },
   "outputs": [],
   "source": [
    "z = model.encoder.trainable_variables[0].numpy()"
   ]
  },
  {
   "cell_type": "code",
   "execution_count": 272,
   "metadata": {
    "ExecuteTime": {
     "end_time": "2020-08-13T22:13:14.592003Z",
     "start_time": "2020-08-13T22:13:14.554010Z"
    }
   },
   "outputs": [],
   "source": [
    "import matplotlib.pyplot as plt"
   ]
  },
  {
   "cell_type": "code",
   "execution_count": 273,
   "metadata": {
    "ExecuteTime": {
     "end_time": "2020-08-13T22:13:14.916891Z",
     "start_time": "2020-08-13T22:13:14.680476Z"
    }
   },
   "outputs": [
    {
     "data": {
      "image/png": "[encoded data removed]",
      "text/plain": [
       "<Figure size 576x576 with 2 Axes>"
      ]
     },
     "metadata": {
      "needs_background": "light"
     },
     "output_type": "display_data"
    }
   ],
   "source": [
    "fig, ax = plt.subplots( figsize=(8, 8))\n",
    "sc = ax.scatter(\n",
    "    z[:, 0],\n",
    "    z[:, 1],\n",
    "    c=Y_train.astype(int)[:len(z)],\n",
    "    cmap=\"tab10\",\n",
    "    s=0.1,\n",
    "    alpha=0.5,\n",
    "    rasterized=True,\n",
    ")\n",
    "ax.axis('equal')\n",
    "ax.set_title(\"UMAP in Tensorflow embedding\", fontsize=20)\n",
    "plt.colorbar(sc, ax=ax);"
   ]
  },
  {
   "cell_type": "code",
   "execution_count": null,
   "metadata": {
    "ExecuteTime": {
     "end_time": "2020-08-13T21:34:47.966429Z",
     "start_time": "2020-08-13T21:34:21.451Z"
    }
   },
   "outputs": [],
   "source": [
    "plt.plot(model._history.history['loss'])"
   ]
  },
  {
   "cell_type": "code",
   "execution_count": null,
   "metadata": {},
   "outputs": [],
   "source": []
  }
 ],
 "metadata": {
  "kernelspec": {
   "display_name": "Python 3",
   "language": "python",
   "name": "python3"
  },
  "language_info": {
   "codemirror_mode": {
    "name": "ipython",
    "version": 3
   },
   "file_extension": ".py",
   "mimetype": "text/x-python",
   "name": "python",
   "nbconvert_exporter": "python",
   "pygments_lexer": "ipython3",
   "version": "3.6.7"
  }
 },
 "nbformat": 4,
 "nbformat_minor": 2
}
