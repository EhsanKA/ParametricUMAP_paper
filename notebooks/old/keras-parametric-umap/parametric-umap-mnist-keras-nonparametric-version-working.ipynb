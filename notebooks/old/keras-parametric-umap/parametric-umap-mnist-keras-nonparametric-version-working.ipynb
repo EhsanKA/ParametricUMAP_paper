{
 "cells": [
  {
   "cell_type": "markdown",
   "metadata": {},
   "source": [
    "### TODO\n",
    "- add reconstruction\n",
    "- add validation\n",
    "- add saving (?) or fix saving to be pickle-able (add warning to __get_state__ that keras embeddings are not pickleable)\n",
    "- add non-parametric embedding"
   ]
  },
  {
   "cell_type": "code",
   "execution_count": 1,
   "metadata": {
    "ExecuteTime": {
     "end_time": "2020-08-14T07:33:07.264212Z",
     "start_time": "2020-08-14T07:33:07.251639Z"
    }
   },
   "outputs": [],
   "source": [
    "# reload packages\n",
    "%load_ext autoreload\n",
    "%autoreload 2"
   ]
  },
  {
   "cell_type": "markdown",
   "metadata": {},
   "source": [
    "### Choose GPU"
   ]
  },
  {
   "cell_type": "code",
   "execution_count": 2,
   "metadata": {
    "ExecuteTime": {
     "end_time": "2020-08-14T07:33:07.274607Z",
     "start_time": "2020-08-14T07:33:07.265533Z"
    }
   },
   "outputs": [
    {
     "name": "stdout",
     "output_type": "stream",
     "text": [
      "env: CUDA_DEVICE_ORDER=PCI_BUS_ID\n",
      "env: CUDA_VISIBLE_DEVICES=1\n"
     ]
    }
   ],
   "source": [
    "%env CUDA_DEVICE_ORDER=PCI_BUS_ID\n",
    "%env CUDA_VISIBLE_DEVICES=1"
   ]
  },
  {
   "cell_type": "code",
   "execution_count": 3,
   "metadata": {
    "ExecuteTime": {
     "end_time": "2020-08-14T07:33:14.944529Z",
     "start_time": "2020-08-14T07:33:07.275690Z"
    }
   },
   "outputs": [
    {
     "name": "stdout",
     "output_type": "stream",
     "text": [
      "[PhysicalDevice(name='/physical_device:GPU:0', device_type='GPU')]\n"
     ]
    }
   ],
   "source": [
    "import tensorflow as tf\n",
    "gpu_devices = tf.config.experimental.list_physical_devices('GPU')\n",
    "if len(gpu_devices)>0:\n",
    "    tf.config.experimental.set_memory_growth(gpu_devices[0], True)\n",
    "print(gpu_devices)\n",
    "tf.keras.backend.clear_session()"
   ]
  },
  {
   "cell_type": "markdown",
   "metadata": {},
   "source": [
    "### load dataset"
   ]
  },
  {
   "cell_type": "code",
   "execution_count": 4,
   "metadata": {
    "ExecuteTime": {
     "end_time": "2020-08-14T07:33:16.348529Z",
     "start_time": "2020-08-14T07:33:14.946031Z"
    }
   },
   "outputs": [
    {
     "data": {
      "text/plain": [
       "(50000, 28, 28, 1)"
      ]
     },
     "execution_count": 4,
     "metadata": {},
     "output_type": "execute_result"
    }
   ],
   "source": [
    "from tfumap.load_datasets import load_MNIST, mask_labels\n",
    "X_train, X_test, X_valid, Y_train, Y_test, Y_valid = load_MNIST(flatten=False)\n",
    "X_train.shape"
   ]
  },
  {
   "cell_type": "markdown",
   "metadata": {},
   "source": [
    "### modules"
   ]
  },
  {
   "cell_type": "code",
   "execution_count": 5,
   "metadata": {
    "ExecuteTime": {
     "end_time": "2020-08-14T07:33:21.036930Z",
     "start_time": "2020-08-14T07:33:16.350671Z"
    }
   },
   "outputs": [],
   "source": [
    "import numpy as np\n",
    "import tensorflow as tf\n",
    "from umap import UMAP\n",
    "from warnings import warn\n",
    "from umap.umap_ import make_epochs_per_sample"
   ]
  },
  {
   "cell_type": "code",
   "execution_count": 6,
   "metadata": {
    "ExecuteTime": {
     "end_time": "2020-08-14T07:33:21.080667Z",
     "start_time": "2020-08-14T07:33:21.039130Z"
    }
   },
   "outputs": [],
   "source": [
    "def get_graph_elements(graph_, n_epochs):\n",
    "    \"\"\"\n",
    "    gets elements of graphs, weights, and number of epochs per edge\n",
    "\n",
    "    Parameters\n",
    "    ----------\n",
    "    graph_ : [type]\n",
    "        umap graph of probabilities\n",
    "    n_epochs : int\n",
    "        maximum number of epochs per edge\n",
    "\n",
    "    Returns\n",
    "    -------\n",
    "    graph [type]\n",
    "        umap graph\n",
    "    epochs_per_sample np.array\n",
    "        number of epochs to train each sample for\n",
    "    head np.array\n",
    "        edge head\n",
    "    tail np.array\n",
    "        edge tail\n",
    "    weight np.array\n",
    "        edge weight\n",
    "    n_vertices int\n",
    "        number of verticies in graph\n",
    "    \"\"\"\n",
    "    ### should we remove redundancies () here??\n",
    "    # graph_ = remove_redundant_edges(graph_)\n",
    "\n",
    "    graph = graph_.tocoo()\n",
    "    # eliminate duplicate entries by summing them together\n",
    "    graph.sum_duplicates()\n",
    "    # number of vertices in dataset\n",
    "    n_vertices = graph.shape[1]\n",
    "    # get the number of epochs based on the size of the dataset\n",
    "    if n_epochs is None:\n",
    "        # For smaller datasets we can use more epochs\n",
    "        if graph.shape[0] <= 10000:\n",
    "            n_epochs = 500\n",
    "        else:\n",
    "            n_epochs = 200\n",
    "    # remove elements with very low probability\n",
    "    graph.data[graph.data < (graph.data.max() / float(n_epochs))] = 0.0\n",
    "    graph.eliminate_zeros()\n",
    "    # get epochs per sample based upon edge probability\n",
    "    epochs_per_sample = make_epochs_per_sample(graph.data, n_epochs)\n",
    "\n",
    "    head = graph.row\n",
    "    tail = graph.col\n",
    "    weight = graph.data\n",
    "\n",
    "    return graph, epochs_per_sample, head, tail, weight, n_vertices"
   ]
  },
  {
   "cell_type": "code",
   "execution_count": 7,
   "metadata": {
    "ExecuteTime": {
     "end_time": "2020-08-14T07:33:21.118507Z",
     "start_time": "2020-08-14T07:33:21.081958Z"
    }
   },
   "outputs": [],
   "source": [
    "from umap.spectral import spectral_layout\n",
    "from sklearn.utils import check_random_state\n",
    "\n",
    "\n",
    "def init_embedding_from_graph(\n",
    "    _raw_data, graph, n_components, random_state, metric, _metric_kwds, init=\"spectral\"\n",
    "):\n",
    "    \"\"\" Initialize embedding using graph. This is for direct embeddings. \n",
    "\n",
    "        Parameters\n",
    "        ----------\n",
    "        init : str, optional\n",
    "            Type of initialization to use. Either random, or spectral, by default \"spectral\"\n",
    "\n",
    "        Returns\n",
    "        -------\n",
    "        embedding : np.array\n",
    "            the initialized embedding\n",
    "        \"\"\"\n",
    "    if random_state is None:\n",
    "        random_state = check_random_state(None)\n",
    "    \n",
    "    if isinstance(init, str) and init == \"random\":\n",
    "        embedding = random_state.uniform(\n",
    "            low=-10.0, high=10.0, size=(graph.shape[0], n_components)\n",
    "        ).astype(np.float32)\n",
    "    elif isinstance(init, str) and init == \"spectral\":\n",
    "        # We add a little noise to avoid local minima for optimization to come\n",
    "\n",
    "        initialisation = spectral_layout(\n",
    "            _raw_data,\n",
    "            graph,\n",
    "            n_components,\n",
    "            random_state,\n",
    "            metric=metric,\n",
    "            metric_kwds=_metric_kwds,\n",
    "        )\n",
    "        expansion = 10.0 / np.abs(initialisation).max()\n",
    "        embedding = (initialisation * expansion).astype(\n",
    "            np.float32\n",
    "        ) + random_state.normal(\n",
    "            scale=0.0001, size=[graph.shape[0], n_components]\n",
    "        ).astype(\n",
    "            np.float32\n",
    "        )\n",
    "\n",
    "    else:\n",
    "        init_data = np.array(init)\n",
    "        if len(init_data.shape) == 2:\n",
    "            if np.unique(init_data, axis=0).shape[0] < init_data.shape[0]:\n",
    "                tree = KDTree(init_data)\n",
    "                dist, ind = tree.query(init_data, k=2)\n",
    "                nndist = np.mean(dist[:, 1])\n",
    "                embedding = init_data + random_state.normal(\n",
    "                    scale=0.001 * nndist, size=init_data.shape\n",
    "                ).astype(np.float32)\n",
    "            else:\n",
    "                embedding = init_data\n",
    "\n",
    "    return embedding"
   ]
  },
  {
   "cell_type": "code",
   "execution_count": 8,
   "metadata": {
    "ExecuteTime": {
     "end_time": "2020-08-14T07:33:21.149831Z",
     "start_time": "2020-08-14T07:33:21.119749Z"
    }
   },
   "outputs": [],
   "source": [
    "def convert_distance_to_probability(distances, a, b):\n",
    "    \"\"\" convert distance representation into probability, \n",
    "        as a function of a, b params\n",
    "    \"\"\"\n",
    "    return 1.0 / (1.0 + a * distances ** (2 * b))"
   ]
  },
  {
   "cell_type": "code",
   "execution_count": 9,
   "metadata": {
    "ExecuteTime": {
     "end_time": "2020-08-14T07:33:21.182126Z",
     "start_time": "2020-08-14T07:33:21.151081Z"
    }
   },
   "outputs": [],
   "source": [
    "def compute_cross_entropy(\n",
    "    probabilities_graph, probabilities_distance, EPS=1e-4, repulsion_strength=1.0\n",
    "):\n",
    "    \"\"\"\n",
    "    Compute cross entropy between low and high probability\n",
    "\n",
    "    Parameters\n",
    "    ----------\n",
    "    probabilities_graph : [type]\n",
    "        high dimensional probabilities\n",
    "    probabilities_distance : [type]\n",
    "        low dimensional probabilities\n",
    "    EPS : [type], optional\n",
    "        offset to to ensure log is taken of a positive number, by default 1e-4\n",
    "    repulsion_strength : float, optional\n",
    "        strength of repulsion between negative samples, by default 1.0\n",
    "\n",
    "    Returns\n",
    "    -------\n",
    "    attraction_term: tf.float32\n",
    "        attraction term for cross entropy loss\n",
    "    repellant_term: tf.float32\n",
    "        repellant term for cross entropy loss\n",
    "    cross_entropy: tf.float32\n",
    "        cross entropy umap loss\n",
    "    \n",
    "    \"\"\"\n",
    "    # cross entropy\n",
    "    attraction_term = -probabilities_graph * tf.math.log(\n",
    "        tf.clip_by_value(probabilities_distance, EPS, 1.0)\n",
    "    )\n",
    "    repellant_term = (\n",
    "        -(1.0 - probabilities_graph)\n",
    "        * tf.math.log(tf.clip_by_value(1.0 - probabilities_distance, EPS, 1.0))\n",
    "        * repulsion_strength\n",
    "    )\n",
    "\n",
    "    # balance the expected losses between atrraction and repel\n",
    "    CE = attraction_term + repellant_term\n",
    "    return attraction_term, repellant_term, CE"
   ]
  },
  {
   "cell_type": "code",
   "execution_count": 10,
   "metadata": {
    "ExecuteTime": {
     "end_time": "2020-08-14T07:33:21.217253Z",
     "start_time": "2020-08-14T07:33:21.183309Z"
    }
   },
   "outputs": [],
   "source": [
    "def umap_loss(\n",
    "    batch_size,\n",
    "    negative_sample_rate,\n",
    "    _a,\n",
    "    _b,\n",
    "    edge_weights,\n",
    "    parametric_embedding,\n",
    "    repulsion_strength=1.0,\n",
    "):\n",
    "\n",
    "    if not parametric_embedding:\n",
    "        # multiply loss by weights for nonparametric\n",
    "        weights_tiled = np.tile(edge_weights, negative_sample_rate + 1)\n",
    "\n",
    "    @tf.function\n",
    "    def loss(placeholder_y, embed_to_from):\n",
    "        # split out to/from\n",
    "        embedding_to, embedding_from = tf.split(\n",
    "            embed_to_from, num_or_size_splits=2, axis=1\n",
    "        )\n",
    "\n",
    "        # get negative samples\n",
    "        embedding_neg_to = tf.repeat(embedding_to, negative_sample_rate, axis=0)\n",
    "        repeat_neg = tf.repeat(embedding_from, negative_sample_rate, axis=0)\n",
    "        embedding_neg_from = tf.gather(\n",
    "            repeat_neg, tf.random.shuffle(tf.range(tf.shape(repeat_neg)[0]))\n",
    "        )\n",
    "\n",
    "        #  distances between samples (and negative samples)\n",
    "        distance_embedding = tf.concat(\n",
    "            [\n",
    "                tf.norm(embedding_to - embedding_from, axis=1),\n",
    "                tf.norm(embedding_neg_to - embedding_neg_from, axis=1),\n",
    "            ],\n",
    "            axis=0,\n",
    "        )\n",
    "\n",
    "        # convert probabilities to distances\n",
    "        probabilities_distance = convert_distance_to_probability(\n",
    "            distance_embedding, _a, _b\n",
    "        )\n",
    "\n",
    "        # set true probabilities based on negative sampling\n",
    "        probabilities_graph = tf.concat(\n",
    "            [tf.ones(batch_size), tf.zeros(batch_size * negative_sample_rate)], axis=0,\n",
    "        )\n",
    "\n",
    "        # compute cross entropy\n",
    "        (attraction_loss, repellant_loss, ce_loss) = compute_cross_entropy(\n",
    "            probabilities_graph,\n",
    "            probabilities_distance,\n",
    "            repulsion_strength=repulsion_strength,\n",
    "        )\n",
    "\n",
    "        if not parametric_embedding:\n",
    "            ce_loss = ce_loss * weights_tiled\n",
    "\n",
    "        return tf.reduce_mean(ce_loss)\n",
    "\n",
    "    return loss"
   ]
  },
  {
   "cell_type": "code",
   "execution_count": 11,
   "metadata": {
    "ExecuteTime": {
     "end_time": "2020-08-14T07:33:21.251007Z",
     "start_time": "2020-08-14T07:33:21.218522Z"
    }
   },
   "outputs": [],
   "source": [
    "def prepare_networks(\n",
    "    encoder, decoder, n_components, dims, n_data, parametric_embedding, init_embedding\n",
    "):\n",
    "\n",
    "    if parametric_embedding:\n",
    "        if encoder is None:\n",
    "            encoder = tf.keras.Sequential(\n",
    "                [\n",
    "                    tf.keras.layers.InputLayer(input_shape=dims),\n",
    "                    tf.keras.layers.Flatten(),\n",
    "                    tf.keras.layers.Dense(units=100, activation=\"relu\"),\n",
    "                    tf.keras.layers.Dense(units=100, activation=\"relu\"),\n",
    "                    tf.keras.layers.Dense(units=100, activation=\"relu\"),\n",
    "                    tf.keras.layers.Dense(units=n_components, name=\"z\"),\n",
    "                ]\n",
    "            )\n",
    "    else:\n",
    "        embedding_layer = tf.keras.layers.Embedding(\n",
    "            n_data, n_components, input_length=1\n",
    "        )\n",
    "        embedding_layer.build(input_shape=(1,)) \n",
    "        embedding_layer.set_weights([init_embedding])\n",
    "        encoder = tf.keras.Sequential([embedding_layer])\n",
    "\n",
    "    return encoder, decoder"
   ]
  },
  {
   "cell_type": "code",
   "execution_count": 12,
   "metadata": {
    "ExecuteTime": {
     "end_time": "2020-08-14T07:33:21.290447Z",
     "start_time": "2020-08-14T07:33:21.252244Z"
    }
   },
   "outputs": [],
   "source": [
    "def construct_edge_dataset(\n",
    "    X,\n",
    "    graph_,\n",
    "    n_epochs,\n",
    "    batch_size,\n",
    "    max_sample_repeats_per_epoch,\n",
    "    parametric_embedding,\n",
    "    parametric_decoding,\n",
    "):\n",
    "    \"\"\" Construct a tf.data.Dataset of edges, sampled by edge weight.\n",
    "    \"\"\"\n",
    "\n",
    "    def gather_X(edge_to, edge_from):\n",
    "        return (tf.gather(X, edge_to), tf.gather(X, edge_from)), 0\n",
    "\n",
    "    def make_sham_generator():\n",
    "        def sham_generator():\n",
    "            while True:\n",
    "                yield tf.zeros(1, dtype=tf.int32), tf.zeros(1, dtype=tf.int32)\n",
    "\n",
    "        return sham_generator\n",
    "\n",
    "    # get data from graph\n",
    "    graph, epochs_per_sample, head, tail, weight, n_vertices = get_graph_elements(\n",
    "        graph_, n_epochs\n",
    "    )\n",
    "\n",
    "    # number of elements per batch for embedding\n",
    "    if batch_size is None:\n",
    "        # batch size can be larger if its just over embeddings\n",
    "        if parametric_embedding:\n",
    "            batch_size = np.min([n_vertices, 60000])\n",
    "        else:\n",
    "            batch_size = len(head)\n",
    "\n",
    "    edges_to_exp, edges_from_exp = (\n",
    "        np.repeat(head, epochs_per_sample.astype(\"int\")),\n",
    "        np.repeat(tail, epochs_per_sample.astype(\"int\")),\n",
    "    )\n",
    "\n",
    "    # shuffle edges\n",
    "    shuffle_mask = np.random.permutation(range(len(edges_to_exp)))\n",
    "    edges_to_exp = edges_to_exp[shuffle_mask]\n",
    "    edges_from_exp = edges_from_exp[shuffle_mask]\n",
    "\n",
    "    # create edge iterator\n",
    "    if parametric_embedding:\n",
    "        edge_dataset = tf.data.Dataset.from_tensor_slices(\n",
    "            (edges_to_exp, edges_from_exp)\n",
    "        )\n",
    "        edge_dataset = edge_dataset.repeat()\n",
    "        edge_dataset = edge_dataset.shuffle(10000)\n",
    "        edge_dataset = edge_dataset.map(\n",
    "            gather_X, num_parallel_calls=tf.data.experimental.AUTOTUNE\n",
    "        )\n",
    "        edge_dataset = edge_dataset.batch(batch_size, drop_remainder=True)\n",
    "        edge_dataset = edge_dataset.prefetch(10)\n",
    "    else:\n",
    "        # nonparametric embedding uses a sham dataset\n",
    "        gen = make_sham_generator()\n",
    "        edge_dataset = tf.data.Dataset.from_generator(gen, (tf.int32, tf.int32))\n",
    "    return edge_dataset, batch_size, len(edges_to_exp), head, tail, weight"
   ]
  },
  {
   "cell_type": "code",
   "execution_count": 13,
   "metadata": {
    "ExecuteTime": {
     "end_time": "2020-08-14T07:33:21.338382Z",
     "start_time": "2020-08-14T07:33:21.291859Z"
    }
   },
   "outputs": [],
   "source": [
    "class ParametricUMAP(UMAP):\n",
    "    def __init__(\n",
    "        self,\n",
    "        optimizer=None,\n",
    "        batch_size=None,\n",
    "        dims=None,\n",
    "        encoder=None,\n",
    "        decoder=None,\n",
    "        parametric_embedding=True,\n",
    "        parametric_decoding=False,\n",
    "        autoencoder_loss=False,\n",
    "        max_sample_repeats_per_epoch=None,\n",
    "        loss_report_frequency=1,\n",
    "        n_training_epochs=1,\n",
    "        **kwargs\n",
    "    ):\n",
    "        \"\"\" Parametric UMAP subclassing UMAP-learn, based on keras/tensorflow.\n",
    "        There is also a non-parametric implementation contained within to compare \n",
    "        with the base non-parametric implementation.\n",
    "        \"\"\"\n",
    "        super().__init__(**kwargs)\n",
    "\n",
    "        # add to network\n",
    "        self.dims = dims  # if this is an image, we should reshape for network\n",
    "        self.encoder = encoder  # neural network used for embedding\n",
    "        self.decoder = decoder  # neural network used for decoding\n",
    "        self.parametric_embedding = (\n",
    "            parametric_embedding  # nonparametric vs parametric embedding\n",
    "        )\n",
    "        self.parametric_decoding = parametric_decoding\n",
    "        self.max_sample_repeats_per_epoch = max_sample_repeats_per_epoch\n",
    "        self.batch_size = batch_size\n",
    "        self.loss_report_frequency = (\n",
    "            loss_report_frequency  # how many times per epoch to report loss in keras\n",
    "        )\n",
    "        # how many epochs to train for (different than n_epochs which is specific to each sample)\n",
    "        self.n_training_epochs = n_training_epochs\n",
    "        # set optimizer\n",
    "        if optimizer is None:\n",
    "            if parametric_embedding:\n",
    "                # Adam is better for parametric_embedding\n",
    "                self.optimizer = tf.keras.optimizers.Adam(1e-3)\n",
    "            else:\n",
    "                # Adadelta is better for direct embedding\n",
    "                self.optimizer = tf.keras.optimizers.Adam(1e-1)\n",
    "        else:\n",
    "            self.optimizer = optimizer\n",
    "            \n",
    "        if parametric_decoding and not parametric_embedding:\n",
    "            warn('Parametric decoding is not implemented with nonparametric \\\n",
    "            embedding. Turning off parametric decoding')\n",
    "            self.parametric_decoding = False\n",
    "            \n",
    "    def define_model(self):\n",
    "        \"\"\" Define the model in keras\n",
    "        \"\"\"\n",
    "        # inputs\n",
    "        if self.parametric_embedding:\n",
    "            to_x = tf.keras.layers.Input(shape=self.dims, name=\"to_x\")\n",
    "            from_x = tf.keras.layers.Input(shape=self.dims, name=\"from_x\")\n",
    "            embedding_to = self.encoder(to_x)\n",
    "            embedding_from = self.encoder(from_x)\n",
    "\n",
    "            inputs = [to_x, from_x]\n",
    "\n",
    "        else:\n",
    "            # this is the sham input (its just a 0) to make keras think there is input data\n",
    "            batch_sample = tf.keras.layers.Input(\n",
    "                shape=(1), dtype=tf.int32, name=\"batch_sample\"\n",
    "            )\n",
    "\n",
    "            # gather all of the edges (so keras model is happy)\n",
    "            to_x = tf.squeeze(tf.gather(self.head, batch_sample[0]))\n",
    "            from_x = tf.squeeze(tf.gather(self.tail, batch_sample[0]))\n",
    "\n",
    "            # grab relevant embeddings\n",
    "            embedding_to = self.encoder(to_x)[:, -1, :]\n",
    "            embedding_from = self.encoder(from_x)[:, -1, :]\n",
    "\n",
    "            inputs = [batch_sample]\n",
    "\n",
    "        # concatenate to/from projections for loss computation\n",
    "        embedding_to_from = tf.concat([embedding_to, embedding_from], axis=1)\n",
    "        embedding_to_from = tf.keras.layers.Lambda(lambda x: x, name=\"umap\")(\n",
    "            embedding_to_from\n",
    "        )\n",
    "\n",
    "        # create model\n",
    "        self.parametric_model = tf.keras.Model(\n",
    "            inputs=inputs, outputs={\"umap\": embedding_to_from},\n",
    "        )\n",
    "\n",
    "    def compile_model(self, edge_weight):\n",
    "        self.parametric_model.compile(\n",
    "            optimizer=self.optimizer,\n",
    "            loss={\n",
    "                # \"reconstruction\": tf.keras.losses.BinaryCrossentropy(),\n",
    "                \"umap\": umap_loss(\n",
    "                    self.batch_size,\n",
    "                    self.negative_sample_rate,\n",
    "                    self._a,\n",
    "                    self._b,\n",
    "                    edge_weight,\n",
    "                    self.parametric_embedding,\n",
    "                ),\n",
    "            },\n",
    "            loss_weights={\"umap\": 1.0},\n",
    "        )\n",
    "\n",
    "    def _fit_embed_data(self, X, n_epochs, init, random_state):\n",
    "\n",
    "        # get dimensionality of dataset\n",
    "        if self.dims is None:\n",
    "            self.dims = [np.shape(X)[-1]]\n",
    "        else:\n",
    "            # reshape data for network\n",
    "            if len(self.dims) > 1:\n",
    "                X = np.reshape(X, [len(X)] + list(self.dims))\n",
    "\n",
    "        # get dataset of edges\n",
    "        (\n",
    "            edge_dataset,\n",
    "            self.batch_size,\n",
    "            n_edges,\n",
    "            head,\n",
    "            tail,\n",
    "            edge_weight,\n",
    "        ) = construct_edge_dataset(\n",
    "            X,\n",
    "            self.graph_,\n",
    "            self.n_epochs,\n",
    "            self.batch_size,\n",
    "            self.max_sample_repeats_per_epoch,\n",
    "            self.parametric_embedding,\n",
    "            self.parametric_decoding,\n",
    "        )\n",
    "        self.head = tf.constant(tf.expand_dims(head, 0))\n",
    "        self.tail = tf.constant(tf.expand_dims(tail, 0))\n",
    "\n",
    "        if not self.parametric_embedding:\n",
    "            init_embedding = init_embedding_from_graph(\n",
    "                X,\n",
    "                self.graph_,\n",
    "                self.n_components,\n",
    "                self.random_state,\n",
    "                self.metric,\n",
    "                self._metric_kwds,\n",
    "                init=\"spectral\",\n",
    "            )\n",
    "\n",
    "        # create encoder and decoder model\n",
    "        n_data = len(X)\n",
    "        self.encoder, self.decoder = prepare_networks(\n",
    "            self.encoder,\n",
    "            self.decoder,\n",
    "            self.n_components,\n",
    "            self.dims,\n",
    "            n_data,\n",
    "            self.parametric_embedding,\n",
    "            init_embedding,\n",
    "        )\n",
    "\n",
    "        # create the model\n",
    "        self.define_model()\n",
    "        self.compile_model(edge_weight)\n",
    "\n",
    "        # report every loss_report_frequency subdivision of an epochs\n",
    "        if self.parametric_embedding:\n",
    "            steps_per_epoch = int(\n",
    "                n_edges / self.batch_size / self.loss_report_frequency\n",
    "            )\n",
    "        else:\n",
    "            # all edges are trained simultaneously with nonparametric, so this is arbitrary\n",
    "            steps_per_epoch = 100\n",
    "\n",
    "        # create embedding\n",
    "        self._history = self.parametric_model.fit(\n",
    "            edge_dataset,\n",
    "            epochs=self.loss_report_frequency * self.n_training_epochs,\n",
    "            steps_per_epoch=steps_per_epoch,\n",
    "            max_queue_size=100,\n",
    "        )\n",
    "\n",
    "        embedding = self.encoder.predict(X, verbose=True)\n",
    "\n",
    "        return embedding, {}"
   ]
  },
  {
   "cell_type": "code",
   "execution_count": 14,
   "metadata": {
    "ExecuteTime": {
     "end_time": "2020-08-14T07:33:21.370268Z",
     "start_time": "2020-08-14T07:33:21.339676Z"
    }
   },
   "outputs": [],
   "source": [
    "model = ParametricUMAP(\n",
    "    parametric_embedding=False, loss_report_frequency=5, n_training_epochs=5, verbose=True\n",
    ")"
   ]
  },
  {
   "cell_type": "code",
   "execution_count": 15,
   "metadata": {
    "ExecuteTime": {
     "end_time": "2020-08-14T07:33:21.401108Z",
     "start_time": "2020-08-14T07:33:21.371439Z"
    }
   },
   "outputs": [],
   "source": [
    "model.batch_size"
   ]
  },
  {
   "cell_type": "code",
   "execution_count": 16,
   "metadata": {
    "ExecuteTime": {
     "end_time": "2020-08-14T07:33:21.431644Z",
     "start_time": "2020-08-14T07:33:21.402245Z"
    }
   },
   "outputs": [],
   "source": [
    "X_train_flat = X_train.reshape((len(X_train), np.product(np.shape(X_train)[1:])))\n",
    "#X_train_flat = X_train_flat[:1000]"
   ]
  },
  {
   "cell_type": "code",
   "execution_count": 17,
   "metadata": {
    "ExecuteTime": {
     "end_time": "2020-08-14T07:39:45.497287Z",
     "start_time": "2020-08-14T07:33:21.432854Z"
    }
   },
   "outputs": [
    {
     "name": "stderr",
     "output_type": "stream",
     "text": [
      "/mnt/cube/tsainbur/conda_envs/tpy3/lib/python3.6/site-packages/sklearn/base.py:213: FutureWarning: From version 0.24, get_params will raise an AttributeError if a parameter cannot be retrieved as an instance attribute. Previously it would return None.\n",
      "  FutureWarning)\n"
     ]
    },
    {
     "name": "stdout",
     "output_type": "stream",
     "text": [
      "ParametricUMAP(autoencoder_loss=None, loss_report_frequency=5,\n",
      "               n_training_epochs=5,\n",
      "               optimizer=<tensorflow.python.keras.optimizer_v2.adam.Adam object at 0x7f84b61a5320>,\n",
      "               parametric_embedding=False)\n",
      "Construct fuzzy simplicial set\n",
      "Fri Aug 14 00:33:21 2020 Finding Nearest Neighbors\n",
      "Fri Aug 14 00:33:21 2020 Building RP forest with 16 trees\n",
      "Fri Aug 14 00:33:23 2020 parallel NN descent for 16 iterations\n",
      "\t 0  /  16\n",
      "\t 1  /  16\n",
      "\t 2  /  16\n",
      "\t 3  /  16\n",
      "\t 4  /  16\n",
      "Fri Aug 14 00:33:33 2020 Finished Nearest Neighbor Search\n",
      "Fri Aug 14 00:33:35 2020 Construct embedding\n",
      "Epoch 1/25\n",
      "100/100 [==============================] - 14s 143ms/step - loss: 0.0495\n",
      "Epoch 2/25\n",
      "100/100 [==============================] - 14s 144ms/step - loss: 0.0365\n",
      "Epoch 3/25\n",
      "100/100 [==============================] - 14s 140ms/step - loss: 0.0339\n",
      "Epoch 4/25\n",
      "100/100 [==============================] - 14s 141ms/step - loss: 0.0326\n",
      "Epoch 5/25\n",
      "100/100 [==============================] - 14s 143ms/step - loss: 0.0318\n",
      "Epoch 6/25\n",
      "100/100 [==============================] - 14s 141ms/step - loss: 0.0313\n",
      "Epoch 7/25\n",
      "100/100 [==============================] - 14s 137ms/step - loss: 0.0309\n",
      "Epoch 8/25\n",
      "100/100 [==============================] - 14s 137ms/step - loss: 0.0307\n",
      "Epoch 9/25\n",
      "100/100 [==============================] - 14s 138ms/step - loss: 0.0305\n",
      "Epoch 10/25\n",
      "100/100 [==============================] - 14s 140ms/step - loss: 0.0303\n",
      "Epoch 11/25\n",
      "100/100 [==============================] - 14s 137ms/step - loss: 0.0302\n",
      "Epoch 12/25\n",
      "100/100 [==============================] - 14s 144ms/step - loss: 0.0301\n",
      "Epoch 13/25\n",
      "100/100 [==============================] - 14s 142ms/step - loss: 0.0300\n",
      "Epoch 14/25\n",
      "100/100 [==============================] - 14s 139ms/step - loss: 0.0300\n",
      "Epoch 15/25\n",
      "100/100 [==============================] - 14s 141ms/step - loss: 0.0299\n",
      "Epoch 16/25\n",
      "100/100 [==============================] - 14s 138ms/step - loss: 0.0298\n",
      "Epoch 17/25\n",
      "100/100 [==============================] - 14s 142ms/step - loss: 0.0298\n",
      "Epoch 18/25\n",
      "100/100 [==============================] - 14s 143ms/step - loss: 0.0298\n",
      "Epoch 19/25\n",
      "100/100 [==============================] - 14s 142ms/step - loss: 0.0297\n",
      "Epoch 20/25\n",
      "100/100 [==============================] - 14s 143ms/step - loss: 0.0297\n",
      "Epoch 21/25\n",
      "100/100 [==============================] - 14s 142ms/step - loss: 0.0297\n",
      "Epoch 22/25\n",
      "100/100 [==============================] - 15s 145ms/step - loss: 0.0296\n",
      "Epoch 23/25\n",
      "100/100 [==============================] - 14s 141ms/step - loss: 0.0297\n",
      "Epoch 24/25\n",
      "100/100 [==============================] - 15s 148ms/step - loss: 0.0296\n",
      "Epoch 25/25\n",
      "100/100 [==============================] - 15s 146ms/step - loss: 0.0296\n"
     ]
    },
    {
     "name": "stderr",
     "output_type": "stream",
     "text": [
      "WARNING: Logging before flag parsing goes to stderr.\n",
      "W0814 00:39:42.439439 140212706682688 functional.py:587] Model was constructed with shape (None, 1) for input Tensor(\"embedding_input:0\", shape=(None, 1), dtype=float32), but it was called on an input with incompatible shape (None, 784).\n"
     ]
    },
    {
     "name": "stdout",
     "output_type": "stream",
     "text": [
      "1563/1563 [==============================] - 2s 1ms/step\n",
      "Fri Aug 14 00:39:44 2020 Finished embedding\n"
     ]
    }
   ],
   "source": [
    "embedding = model.fit(X_train_flat)"
   ]
  },
  {
   "cell_type": "code",
   "execution_count": 18,
   "metadata": {
    "ExecuteTime": {
     "end_time": "2020-08-14T07:39:48.866693Z",
     "start_time": "2020-08-14T07:39:45.500021Z"
    }
   },
   "outputs": [],
   "source": [
    "z = model.encoder.trainable_variables[0].numpy()"
   ]
  },
  {
   "cell_type": "code",
   "execution_count": 19,
   "metadata": {
    "ExecuteTime": {
     "end_time": "2020-08-14T07:39:48.908757Z",
     "start_time": "2020-08-14T07:39:48.869970Z"
    }
   },
   "outputs": [],
   "source": [
    "#model.parametric_model.predict((np.arange(50000), np.arange(50000)))['umap'].shape"
   ]
  },
  {
   "cell_type": "code",
   "execution_count": 20,
   "metadata": {
    "ExecuteTime": {
     "end_time": "2020-08-14T07:39:48.942157Z",
     "start_time": "2020-08-14T07:39:48.910201Z"
    }
   },
   "outputs": [],
   "source": [
    "import matplotlib.pyplot as plt"
   ]
  },
  {
   "cell_type": "code",
   "execution_count": 21,
   "metadata": {
    "ExecuteTime": {
     "end_time": "2020-08-14T07:39:50.204157Z",
     "start_time": "2020-08-14T07:39:48.943416Z"
    }
   },
   "outputs": [
    {
     "data": {
      "image/png": "[encoded data removed]",
      "text/plain": [
       "<Figure size 576x576 with 2 Axes>"
      ]
     },
     "metadata": {
      "needs_background": "light"
     },
     "output_type": "display_data"
    }
   ],
   "source": [
    "fig, ax = plt.subplots( figsize=(8, 8))\n",
    "sc = ax.scatter(\n",
    "    z[:, 0],\n",
    "    z[:, 1],\n",
    "    c=Y_train.astype(int)[:len(z)],\n",
    "    cmap=\"tab10\",\n",
    "    s=0.1,\n",
    "    alpha=0.5,\n",
    "    rasterized=True,\n",
    ")\n",
    "ax.axis('equal')\n",
    "ax.set_title(\"UMAP in Tensorflow embedding\", fontsize=20)\n",
    "plt.colorbar(sc, ax=ax);"
   ]
  },
  {
   "cell_type": "code",
   "execution_count": 22,
   "metadata": {
    "ExecuteTime": {
     "end_time": "2020-08-14T07:39:50.345437Z",
     "start_time": "2020-08-14T07:39:50.205791Z"
    }
   },
   "outputs": [
    {
     "data": {
      "text/plain": [
       "[<matplotlib.lines.Line2D at 0x7f84b5a620f0>]"
      ]
     },
     "execution_count": 22,
     "metadata": {},
     "output_type": "execute_result"
    },
    {
     "data": {
      "image/png": "[encoded data removed]",
      "text/plain": [
       "<Figure size 432x288 with 1 Axes>"
      ]
     },
     "metadata": {
      "needs_background": "light"
     },
     "output_type": "display_data"
    }
   ],
   "source": [
    "plt.plot(model._history.history['loss'])"
   ]
  },
  {
   "cell_type": "code",
   "execution_count": null,
   "metadata": {},
   "outputs": [],
   "source": []
  }
 ],
 "metadata": {
  "kernelspec": {
   "display_name": "Python 3",
   "language": "python",
   "name": "python3"
  },
  "language_info": {
   "codemirror_mode": {
    "name": "ipython",
    "version": 3
   },
   "file_extension": ".py",
   "mimetype": "text/x-python",
   "name": "python",
   "nbconvert_exporter": "python",
   "pygments_lexer": "ipython3",
   "version": "3.6.7"
  }
 },
 "nbformat": 4,
 "nbformat_minor": 2
}
