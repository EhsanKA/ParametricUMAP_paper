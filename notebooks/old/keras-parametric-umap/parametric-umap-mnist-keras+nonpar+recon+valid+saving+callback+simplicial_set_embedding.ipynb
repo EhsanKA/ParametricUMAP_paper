{
 "cells": [
  {
   "cell_type": "markdown",
   "metadata": {},
   "source": [
    "### TODO\n",
    "- passing in callbacks"
   ]
  },
  {
   "cell_type": "code",
   "execution_count": 1,
   "metadata": {
    "ExecuteTime": {
     "end_time": "2020-08-16T19:19:13.335114Z",
     "start_time": "2020-08-16T19:19:13.321874Z"
    }
   },
   "outputs": [],
   "source": [
    "# reload packages\n",
    "%load_ext autoreload\n",
    "%autoreload 2"
   ]
  },
  {
   "cell_type": "markdown",
   "metadata": {},
   "source": [
    "### Choose GPU"
   ]
  },
  {
   "cell_type": "code",
   "execution_count": 2,
   "metadata": {
    "ExecuteTime": {
     "end_time": "2020-08-16T19:19:13.345570Z",
     "start_time": "2020-08-16T19:19:13.336934Z"
    }
   },
   "outputs": [
    {
     "name": "stdout",
     "output_type": "stream",
     "text": [
      "env: CUDA_DEVICE_ORDER=PCI_BUS_ID\n",
      "env: CUDA_VISIBLE_DEVICES=1\n"
     ]
    }
   ],
   "source": [
    "%env CUDA_DEVICE_ORDER=PCI_BUS_ID\n",
    "%env CUDA_VISIBLE_DEVICES=1"
   ]
  },
  {
   "cell_type": "code",
   "execution_count": 3,
   "metadata": {
    "ExecuteTime": {
     "end_time": "2020-08-16T19:19:16.406160Z",
     "start_time": "2020-08-16T19:19:13.347020Z"
    }
   },
   "outputs": [
    {
     "name": "stdout",
     "output_type": "stream",
     "text": [
      "[PhysicalDevice(name='/physical_device:GPU:0', device_type='GPU')]\n"
     ]
    }
   ],
   "source": [
    "import tensorflow as tf\n",
    "gpu_devices = tf.config.experimental.list_physical_devices('GPU')\n",
    "if len(gpu_devices)>0:\n",
    "    tf.config.experimental.set_memory_growth(gpu_devices[0], True)\n",
    "print(gpu_devices)\n",
    "tf.keras.backend.clear_session()"
   ]
  },
  {
   "cell_type": "markdown",
   "metadata": {},
   "source": [
    "### load dataset"
   ]
  },
  {
   "cell_type": "code",
   "execution_count": 4,
   "metadata": {
    "ExecuteTime": {
     "end_time": "2020-08-16T19:19:17.572603Z",
     "start_time": "2020-08-16T19:19:16.407485Z"
    }
   },
   "outputs": [
    {
     "data": {
      "text/plain": [
       "(50000, 28, 28, 1)"
      ]
     },
     "execution_count": 4,
     "metadata": {},
     "output_type": "execute_result"
    }
   ],
   "source": [
    "from tfumap.load_datasets import load_MNIST, mask_labels\n",
    "X_train, X_test, X_valid, Y_train, Y_test, Y_valid = load_MNIST(flatten=False)\n",
    "X_train.shape"
   ]
  },
  {
   "cell_type": "markdown",
   "metadata": {},
   "source": [
    "### modules"
   ]
  },
  {
   "cell_type": "code",
   "execution_count": 5,
   "metadata": {
    "ExecuteTime": {
     "end_time": "2020-08-16T19:19:21.936175Z",
     "start_time": "2020-08-16T19:19:17.574758Z"
    }
   },
   "outputs": [],
   "source": [
    "import numpy as np\n",
    "import tensorflow as tf\n",
    "from umap import UMAP\n",
    "from warnings import warn, catch_warnings, filterwarnings\n",
    "from umap.umap_ import make_epochs_per_sample\n",
    "from numba import TypingError\n",
    "import os"
   ]
  },
  {
   "cell_type": "code",
   "execution_count": 6,
   "metadata": {
    "ExecuteTime": {
     "end_time": "2020-08-16T19:19:21.991675Z",
     "start_time": "2020-08-16T19:19:21.938806Z"
    }
   },
   "outputs": [],
   "source": [
    "def get_graph_elements(graph_, n_epochs):\n",
    "    \"\"\"\n",
    "    gets elements of graphs, weights, and number of epochs per edge\n",
    "\n",
    "    Parameters\n",
    "    ----------\n",
    "    graph_ : [type]\n",
    "        umap graph of probabilities\n",
    "    n_epochs : int\n",
    "        maximum number of epochs per edge\n",
    "\n",
    "    Returns\n",
    "    -------\n",
    "    graph [type]\n",
    "        umap graph\n",
    "    epochs_per_sample np.array\n",
    "        number of epochs to train each sample for\n",
    "    head np.array\n",
    "        edge head\n",
    "    tail np.array\n",
    "        edge tail\n",
    "    weight np.array\n",
    "        edge weight\n",
    "    n_vertices int\n",
    "        number of verticies in graph\n",
    "    \"\"\"\n",
    "    ### should we remove redundancies () here??\n",
    "    # graph_ = remove_redundant_edges(graph_)\n",
    "\n",
    "    graph = graph_.tocoo()\n",
    "    # eliminate duplicate entries by summing them together\n",
    "    graph.sum_duplicates()\n",
    "    # number of vertices in dataset\n",
    "    n_vertices = graph.shape[1]\n",
    "    # get the number of epochs based on the size of the dataset\n",
    "    if n_epochs is None:\n",
    "        # For smaller datasets we can use more epochs\n",
    "        if graph.shape[0] <= 10000:\n",
    "            n_epochs = 500\n",
    "        else:\n",
    "            n_epochs = 200\n",
    "    # remove elements with very low probability\n",
    "    graph.data[graph.data < (graph.data.max() / float(n_epochs))] = 0.0\n",
    "    graph.eliminate_zeros()\n",
    "    # get epochs per sample based upon edge probability\n",
    "    epochs_per_sample = make_epochs_per_sample(graph.data, n_epochs)\n",
    "\n",
    "    head = graph.row\n",
    "    tail = graph.col\n",
    "    weight = graph.data\n",
    "\n",
    "    return graph, epochs_per_sample, head, tail, weight, n_vertices"
   ]
  },
  {
   "cell_type": "code",
   "execution_count": 7,
   "metadata": {
    "ExecuteTime": {
     "end_time": "2020-08-16T19:19:22.038925Z",
     "start_time": "2020-08-16T19:19:21.993476Z"
    }
   },
   "outputs": [],
   "source": [
    "from umap.spectral import spectral_layout\n",
    "from sklearn.utils import check_random_state\n",
    "\n",
    "\n",
    "def init_embedding_from_graph(\n",
    "    _raw_data, graph, n_components, random_state, metric, _metric_kwds, init=\"spectral\"\n",
    "):\n",
    "    \"\"\" Initialize embedding using graph. This is for direct embeddings. \n",
    "\n",
    "        Parameters\n",
    "        ----------\n",
    "        init : str, optional\n",
    "            Type of initialization to use. Either random, or spectral, by default \"spectral\"\n",
    "\n",
    "        Returns\n",
    "        -------\n",
    "        embedding : np.array\n",
    "            the initialized embedding\n",
    "        \"\"\"\n",
    "    if random_state is None:\n",
    "        random_state = check_random_state(None)\n",
    "    \n",
    "    if isinstance(init, str) and init == \"random\":\n",
    "        embedding = random_state.uniform(\n",
    "            low=-10.0, high=10.0, size=(graph.shape[0], n_components)\n",
    "        ).astype(np.float32)\n",
    "    elif isinstance(init, str) and init == \"spectral\":\n",
    "        # We add a little noise to avoid local minima for optimization to come\n",
    "\n",
    "        initialisation = spectral_layout(\n",
    "            _raw_data,\n",
    "            graph,\n",
    "            n_components,\n",
    "            random_state,\n",
    "            metric=metric,\n",
    "            metric_kwds=_metric_kwds,\n",
    "        )\n",
    "        expansion = 10.0 / np.abs(initialisation).max()\n",
    "        embedding = (initialisation * expansion).astype(\n",
    "            np.float32\n",
    "        ) + random_state.normal(\n",
    "            scale=0.0001, size=[graph.shape[0], n_components]\n",
    "        ).astype(\n",
    "            np.float32\n",
    "        )\n",
    "\n",
    "    else:\n",
    "        init_data = np.array(init)\n",
    "        if len(init_data.shape) == 2:\n",
    "            if np.unique(init_data, axis=0).shape[0] < init_data.shape[0]:\n",
    "                tree = KDTree(init_data)\n",
    "                dist, ind = tree.query(init_data, k=2)\n",
    "                nndist = np.mean(dist[:, 1])\n",
    "                embedding = init_data + random_state.normal(\n",
    "                    scale=0.001 * nndist, size=init_data.shape\n",
    "                ).astype(np.float32)\n",
    "            else:\n",
    "                embedding = init_data\n",
    "\n",
    "    return embedding"
   ]
  },
  {
   "cell_type": "code",
   "execution_count": 8,
   "metadata": {
    "ExecuteTime": {
     "end_time": "2020-08-16T19:19:22.072354Z",
     "start_time": "2020-08-16T19:19:22.040366Z"
    }
   },
   "outputs": [],
   "source": [
    "def convert_distance_to_probability(distances, a, b):\n",
    "    \"\"\" convert distance representation into probability, \n",
    "        as a function of a, b params\n",
    "    \"\"\"\n",
    "    return 1.0 / (1.0 + a * distances ** (2 * b))"
   ]
  },
  {
   "cell_type": "code",
   "execution_count": 9,
   "metadata": {
    "ExecuteTime": {
     "end_time": "2020-08-16T19:19:22.106198Z",
     "start_time": "2020-08-16T19:19:22.073707Z"
    }
   },
   "outputs": [],
   "source": [
    "def compute_cross_entropy(\n",
    "    probabilities_graph, probabilities_distance, EPS=1e-4, repulsion_strength=1.0\n",
    "):\n",
    "    \"\"\"\n",
    "    Compute cross entropy between low and high probability\n",
    "\n",
    "    Parameters\n",
    "    ----------\n",
    "    probabilities_graph : [type]\n",
    "        high dimensional probabilities\n",
    "    probabilities_distance : [type]\n",
    "        low dimensional probabilities\n",
    "    EPS : [type], optional\n",
    "        offset to to ensure log is taken of a positive number, by default 1e-4\n",
    "    repulsion_strength : float, optional\n",
    "        strength of repulsion between negative samples, by default 1.0\n",
    "\n",
    "    Returns\n",
    "    -------\n",
    "    attraction_term: tf.float32\n",
    "        attraction term for cross entropy loss\n",
    "    repellant_term: tf.float32\n",
    "        repellant term for cross entropy loss\n",
    "    cross_entropy: tf.float32\n",
    "        cross entropy umap loss\n",
    "    \n",
    "    \"\"\"\n",
    "    # cross entropy\n",
    "    attraction_term = -probabilities_graph * tf.math.log(\n",
    "        tf.clip_by_value(probabilities_distance, EPS, 1.0)\n",
    "    )\n",
    "    repellant_term = (\n",
    "        -(1.0 - probabilities_graph)\n",
    "        * tf.math.log(tf.clip_by_value(1.0 - probabilities_distance, EPS, 1.0))\n",
    "        * repulsion_strength\n",
    "    )\n",
    "\n",
    "    # balance the expected losses between atrraction and repel\n",
    "    CE = attraction_term + repellant_term\n",
    "    return attraction_term, repellant_term, CE"
   ]
  },
  {
   "cell_type": "code",
   "execution_count": 10,
   "metadata": {
    "ExecuteTime": {
     "end_time": "2020-08-16T19:19:22.143145Z",
     "start_time": "2020-08-16T19:19:22.107622Z"
    }
   },
   "outputs": [],
   "source": [
    "def umap_loss(\n",
    "    batch_size,\n",
    "    negative_sample_rate,\n",
    "    _a,\n",
    "    _b,\n",
    "    edge_weights,\n",
    "    parametric_embedding,\n",
    "    repulsion_strength=1.0,\n",
    "):\n",
    "\n",
    "    if not parametric_embedding:\n",
    "        # multiply loss by weights for nonparametric\n",
    "        weights_tiled = np.tile(edge_weights, negative_sample_rate + 1)\n",
    "\n",
    "    @tf.function\n",
    "    def loss(placeholder_y, embed_to_from):\n",
    "        # split out to/from\n",
    "        embedding_to, embedding_from = tf.split(\n",
    "            embed_to_from, num_or_size_splits=2, axis=1\n",
    "        )\n",
    "\n",
    "        # get negative samples\n",
    "        embedding_neg_to = tf.repeat(embedding_to, negative_sample_rate, axis=0)\n",
    "        repeat_neg = tf.repeat(embedding_from, negative_sample_rate, axis=0)\n",
    "        embedding_neg_from = tf.gather(\n",
    "            repeat_neg, tf.random.shuffle(tf.range(tf.shape(repeat_neg)[0]))\n",
    "        )\n",
    "\n",
    "        #  distances between samples (and negative samples)\n",
    "        distance_embedding = tf.concat(\n",
    "            [\n",
    "                tf.norm(embedding_to - embedding_from, axis=1),\n",
    "                tf.norm(embedding_neg_to - embedding_neg_from, axis=1),\n",
    "            ],\n",
    "            axis=0,\n",
    "        )\n",
    "\n",
    "        # convert probabilities to distances\n",
    "        probabilities_distance = convert_distance_to_probability(\n",
    "            distance_embedding, _a, _b\n",
    "        )\n",
    "\n",
    "        # set true probabilities based on negative sampling\n",
    "        probabilities_graph = tf.concat(\n",
    "            [tf.ones(batch_size), tf.zeros(batch_size * negative_sample_rate)], axis=0,\n",
    "        )\n",
    "\n",
    "        # compute cross entropy\n",
    "        (attraction_loss, repellant_loss, ce_loss) = compute_cross_entropy(\n",
    "            probabilities_graph,\n",
    "            probabilities_distance,\n",
    "            repulsion_strength=repulsion_strength,\n",
    "        )\n",
    "\n",
    "        if not parametric_embedding:\n",
    "            ce_loss = ce_loss * weights_tiled\n",
    "\n",
    "        return tf.reduce_mean(ce_loss)\n",
    "\n",
    "    return loss"
   ]
  },
  {
   "cell_type": "code",
   "execution_count": 11,
   "metadata": {
    "ExecuteTime": {
     "end_time": "2020-08-16T19:19:22.179716Z",
     "start_time": "2020-08-16T19:19:22.144604Z"
    }
   },
   "outputs": [],
   "source": [
    "def prepare_networks(\n",
    "    encoder,\n",
    "    decoder,\n",
    "    n_components,\n",
    "    dims,\n",
    "    n_data,\n",
    "    parametric_embedding,\n",
    "    parametric_reconstruction,\n",
    "    init_embedding,\n",
    "):\n",
    "\n",
    "    if parametric_embedding:\n",
    "        if encoder is None:\n",
    "            encoder = tf.keras.Sequential(\n",
    "                [\n",
    "                    tf.keras.layers.InputLayer(input_shape=dims),\n",
    "                    tf.keras.layers.Flatten(),\n",
    "                    tf.keras.layers.Dense(units=100, activation=\"relu\"),\n",
    "                    tf.keras.layers.Dense(units=100, activation=\"relu\"),\n",
    "                    tf.keras.layers.Dense(units=100, activation=\"relu\"),\n",
    "                    tf.keras.layers.Dense(units=n_components, name=\"z\"),\n",
    "                ]\n",
    "            )\n",
    "    else:\n",
    "        embedding_layer = tf.keras.layers.Embedding(\n",
    "            n_data, n_components, input_length=1\n",
    "        )\n",
    "        embedding_layer.build(input_shape=(1,))\n",
    "        embedding_layer.set_weights([init_embedding])\n",
    "        encoder = tf.keras.Sequential([embedding_layer])\n",
    "\n",
    "    if decoder is None:\n",
    "        if parametric_reconstruction:\n",
    "            decoder = tf.keras.Sequential(\n",
    "                [\n",
    "                    tf.keras.layers.InputLayer(input_shape=n_components),\n",
    "                    tf.keras.layers.Dense(units=100, activation=\"relu\"),\n",
    "                    tf.keras.layers.Dense(units=100, activation=\"relu\"),\n",
    "                    tf.keras.layers.Dense(units=100, activation=\"relu\"),\n",
    "                    tf.keras.layers.Dense(\n",
    "                        units=np.product(dims), name=\"recon\", activation=None\n",
    "                    ),\n",
    "                    tf.keras.layers.Reshape(dims),\n",
    "                ]\n",
    "            )\n",
    "\n",
    "    return encoder, decoder"
   ]
  },
  {
   "cell_type": "code",
   "execution_count": 12,
   "metadata": {
    "ExecuteTime": {
     "end_time": "2020-08-16T19:19:22.222104Z",
     "start_time": "2020-08-16T19:19:22.181148Z"
    }
   },
   "outputs": [],
   "source": [
    "def construct_edge_dataset(\n",
    "    X,\n",
    "    graph_,\n",
    "    n_epochs,\n",
    "    batch_size,\n",
    "    parametric_embedding,\n",
    "    parametric_reconstruction,\n",
    "):\n",
    "    \"\"\" Construct a tf.data.Dataset of edges, sampled by edge weight.\n",
    "    \"\"\"\n",
    "\n",
    "    def gather_X(edge_to, edge_from):\n",
    "        edge_to_batch = tf.gather(X, edge_to)\n",
    "        edge_from_batch = tf.gather(X, edge_from)\n",
    "        outputs = {'umap': 0}\n",
    "        if parametric_reconstruction:\n",
    "            # add reconstruction to iterator output\n",
    "            #edge_out = tf.concat([edge_to_batch, edge_from_batch], axis=0)\n",
    "            outputs['reconstruction'] = edge_to_batch\n",
    "\n",
    "        return (edge_to_batch, edge_from_batch), outputs\n",
    "\n",
    "    def make_sham_generator():\n",
    "        def sham_generator():\n",
    "            while True:\n",
    "                yield tf.zeros(1, dtype=tf.int32), tf.zeros(1, dtype=tf.int32)\n",
    "\n",
    "        return sham_generator\n",
    "\n",
    "    # get data from graph\n",
    "    graph, epochs_per_sample, head, tail, weight, n_vertices = get_graph_elements(\n",
    "        graph_, n_epochs\n",
    "    )\n",
    "\n",
    "    # number of elements per batch for embedding\n",
    "    if batch_size is None:\n",
    "        # batch size can be larger if its just over embeddings\n",
    "        if parametric_embedding:\n",
    "            batch_size = np.min([n_vertices, 60000])\n",
    "        else:\n",
    "            batch_size = len(head)\n",
    "\n",
    "    edges_to_exp, edges_from_exp = (\n",
    "        np.repeat(head, epochs_per_sample.astype(\"int\")),\n",
    "        np.repeat(tail, epochs_per_sample.astype(\"int\")),\n",
    "    )\n",
    "\n",
    "    # shuffle edges\n",
    "    shuffle_mask = np.random.permutation(range(len(edges_to_exp)))\n",
    "    edges_to_exp = edges_to_exp[shuffle_mask]\n",
    "    edges_from_exp = edges_from_exp[shuffle_mask]\n",
    "\n",
    "    # create edge iterator\n",
    "    if parametric_embedding:\n",
    "        edge_dataset = tf.data.Dataset.from_tensor_slices(\n",
    "            (edges_to_exp, edges_from_exp)\n",
    "        )\n",
    "        edge_dataset = edge_dataset.repeat()\n",
    "        edge_dataset = edge_dataset.shuffle(10000)\n",
    "        edge_dataset = edge_dataset.map(\n",
    "            gather_X, num_parallel_calls=tf.data.experimental.AUTOTUNE\n",
    "        )\n",
    "        edge_dataset = edge_dataset.batch(batch_size, drop_remainder=True)\n",
    "        edge_dataset = edge_dataset.prefetch(10)\n",
    "    else:\n",
    "        # nonparametric embedding uses a sham dataset\n",
    "        gen = make_sham_generator()\n",
    "        edge_dataset = tf.data.Dataset.from_generator(gen, (tf.int32, tf.int32))\n",
    "    return edge_dataset, batch_size, len(edges_to_exp), head, tail, weight"
   ]
  },
  {
   "cell_type": "code",
   "execution_count": null,
   "metadata": {},
   "outputs": [],
   "source": [
    "def define_keras_model(parametric_embedding, dims, encoder,  decoder, parametric_reconstruction):\n",
    "    \"\"\" Define the model in keras\n",
    "    \"\"\"\n",
    "\n",
    "    # network outputs\n",
    "    outputs = {}\n",
    "\n",
    "    # inputs\n",
    "    if self.parametric_embedding:\n",
    "        to_x = tf.keras.layers.Input(shape=self.dims, name=\"to_x\")\n",
    "        from_x = tf.keras.layers.Input(shape=self.dims, name=\"from_x\")\n",
    "        inputs = [to_x, from_x]\n",
    "\n",
    "        # parametric embedding\n",
    "        embedding_to = self.encoder(to_x)\n",
    "        embedding_from = self.encoder(from_x)\n",
    "\n",
    "        if self.parametric_reconstruction:\n",
    "            # parametric reconstruction\n",
    "            if self.autoencoder_loss:\n",
    "                embedding_to_recon = self.decoder(embedding_to)\n",
    "            else:\n",
    "                # stop gradient of reconstruction loss before it reaches the encoder\n",
    "                embedding_to_recon = self.decoder(tf.stop_gradient(embedding_to))\n",
    "\n",
    "\n",
    "            embedding_to_recon = tf.keras.layers.Lambda(\n",
    "                lambda x: x, name=\"reconstruction\"\n",
    "            )(embedding_to_recon)\n",
    "\n",
    "            outputs[\"reconstruction\"] = embedding_to_recon\n",
    "\n",
    "    else:\n",
    "        # this is the sham input (its just a 0) to make keras think there is input data\n",
    "        batch_sample = tf.keras.layers.Input(\n",
    "            shape=(1), dtype=tf.int32, name=\"batch_sample\"\n",
    "        )\n",
    "\n",
    "        # gather all of the edges (so keras model is happy)\n",
    "        to_x = tf.squeeze(tf.gather(self.head, batch_sample[0]))\n",
    "        from_x = tf.squeeze(tf.gather(self.tail, batch_sample[0]))\n",
    "\n",
    "        # grab relevant embeddings\n",
    "        embedding_to = self.encoder(to_x)[:, -1, :]\n",
    "        embedding_from = self.encoder(from_x)[:, -1, :]\n",
    "\n",
    "        inputs = [batch_sample]\n",
    "\n",
    "    # concatenate to/from projections for loss computation\n",
    "    embedding_to_from = tf.concat([embedding_to, embedding_from], axis=1)\n",
    "    embedding_to_from = tf.keras.layers.Lambda(lambda x: x, name=\"umap\")(\n",
    "        embedding_to_from\n",
    "    )\n",
    "    outputs[\"umap\"] = embedding_to_from\n",
    "\n",
    "    # create model\n",
    "    self.parametric_model = tf.keras.Model(inputs=inputs, outputs=outputs,)"
   ]
  },
  {
   "cell_type": "code",
   "execution_count": null,
   "metadata": {},
   "outputs": [],
   "source": [
    "dims, "
   ]
  },
  {
   "cell_type": "code",
   "execution_count": null,
   "metadata": {},
   "outputs": [],
   "source": [
    "def _fit_embed_data(self, X, n_epochs, init, random_state):\n",
    "\n",
    "        # get dimensionality of dataset\n",
    "        if self.dims is None:\n",
    "            self.dims = [np.shape(X)[-1]]\n",
    "        else:\n",
    "            # reshape data for network\n",
    "            if len(self.dims) > 1:\n",
    "                X = np.reshape(X, [len(X)] + list(self.dims))\n",
    "\n",
    "        # get dataset of edges\n",
    "        (\n",
    "            edge_dataset,\n",
    "            self.batch_size,\n",
    "            n_edges,\n",
    "            head,\n",
    "            tail,\n",
    "            self.edge_weight,\n",
    "        ) = construct_edge_dataset(\n",
    "            X,\n",
    "            self.graph_,\n",
    "            self.n_epochs,\n",
    "            self.batch_size,\n",
    "            self.parametric_embedding,\n",
    "            self.parametric_reconstruction,\n",
    "        )\n",
    "        self.head = tf.constant(tf.expand_dims(head, 0))\n",
    "        self.tail = tf.constant(tf.expand_dims(tail, 0))\n",
    "\n",
    "        a, b = next(iter(edge_dataset))\n",
    "        # breakme\n",
    "\n",
    "        if self.parametric_embedding:\n",
    "            init_embedding = None\n",
    "        else:\n",
    "            init_embedding = init_embedding_from_graph(\n",
    "                X,\n",
    "                self.graph_,\n",
    "                self.n_components,\n",
    "                self.random_state,\n",
    "                self.metric,\n",
    "                self._metric_kwds,\n",
    "                init=\"spectral\",\n",
    "            )\n",
    "\n",
    "        # create encoder and decoder model\n",
    "        n_data = len(X)\n",
    "        self.encoder, self.decoder = prepare_networks(\n",
    "            self.encoder,\n",
    "            self.decoder,\n",
    "            self.n_components,\n",
    "            self.dims,\n",
    "            n_data,\n",
    "            self.parametric_embedding,\n",
    "            self.parametric_reconstruction,\n",
    "            init_embedding,\n",
    "        )\n",
    "\n",
    "        # create the model\n",
    "        self.define_model()\n",
    "        self.compile_model()\n",
    "\n",
    "        # report every loss_report_frequency subdivision of an epochs\n",
    "        if self.parametric_embedding:\n",
    "            steps_per_epoch = int(\n",
    "                n_edges / self.batch_size / self.loss_report_frequency\n",
    "            )\n",
    "        else:\n",
    "            # all edges are trained simultaneously with nonparametric, so this is arbitrary\n",
    "            steps_per_epoch = 100\n",
    "\n",
    "        # Validation dataset for reconstruction\n",
    "        if (\n",
    "            self.parametric_reconstruction\n",
    "            and self.reconstruction_validation is not None\n",
    "        ):\n",
    "\n",
    "            # reshape data for network\n",
    "            if len(self.dims) > 1:\n",
    "                self.reconstruction_validation = np.reshape(\n",
    "                    self.reconstruction_validation,\n",
    "                    [len(self.reconstruction_validation)] + list(self.dims),\n",
    "                )\n",
    "\n",
    "            validation_data = (\n",
    "                (\n",
    "                    self.reconstruction_validation,\n",
    "                    tf.zeros_like(self.reconstruction_validation),\n",
    "                ),\n",
    "                {\"reconstruction\": self.reconstruction_validation},\n",
    "            )\n",
    "        else:\n",
    "            validation_data = None\n",
    "\n",
    "        # create embedding\n",
    "        history = self.parametric_model.fit(\n",
    "            edge_dataset,\n",
    "            epochs=self.loss_report_frequency * self.n_training_epochs,\n",
    "            steps_per_epoch=steps_per_epoch,\n",
    "            max_queue_size=100,\n",
    "            callbacks = self.keras_callbacks,\n",
    "            validation_data=validation_data,\n",
    "        )\n",
    "        # save loss history dictionary\n",
    "        self._history = history.history\n",
    "\n",
    "        # get the final embedding\n",
    "        if self.parametric_embedding:\n",
    "            embedding = self.encoder.predict(X, verbose=self.verbose)\n",
    "        else:\n",
    "            embedding = self.encoder.trainable_variables[0].numpy()\n",
    "\n",
    "        return embedding, {}"
   ]
  },
  {
   "cell_type": "code",
   "execution_count": 13,
   "metadata": {
    "ExecuteTime": {
     "end_time": "2020-08-16T19:19:22.284196Z",
     "start_time": "2020-08-16T19:19:22.223624Z"
    }
   },
   "outputs": [],
   "source": [
    "class ParametricUMAP(UMAP):\n",
    "    def __init__(\n",
    "        self,\n",
    "        optimizer=None,\n",
    "        batch_size=None,\n",
    "        dims=None,\n",
    "        encoder=None,\n",
    "        decoder=None,\n",
    "        parametric_embedding=True,\n",
    "        parametric_reconstruction=False,\n",
    "        autoencoder_loss=False,\n",
    "        reconstruction_validation=None,\n",
    "        loss_report_frequency=1,\n",
    "        n_training_epochs=1,\n",
    "        keras_callbacks = [],\n",
    "        **kwargs\n",
    "    ):\n",
    "        \"\"\" Parametric UMAP subclassing UMAP-learn, based on keras/tensorflow.\n",
    "        There is also a non-parametric implementation contained within to compare \n",
    "        with the base non-parametric implementation.\n",
    "        \"\"\"\n",
    "        super().__init__(**kwargs)\n",
    "\n",
    "        # add to network\n",
    "        self.dims = dims  # if this is an image, we should reshape for network\n",
    "        self.encoder = encoder  # neural network used for embedding\n",
    "        self.decoder = decoder  # neural network used for decoding\n",
    "        self.parametric_embedding = (\n",
    "            parametric_embedding  # nonparametric vs parametric embedding\n",
    "        )\n",
    "        self.parametric_reconstruction = parametric_reconstruction\n",
    "        self.autoencoder_loss = autoencoder_loss\n",
    "        self.batch_size = batch_size\n",
    "        self.loss_report_frequency = (\n",
    "            loss_report_frequency  # how many times per epoch to report loss in keras\n",
    "        )\n",
    "        self.keras_callbacks = keras_callbacks # callbacks for training the network\n",
    "        self.reconstruction_validation = (\n",
    "            reconstruction_validation  # holdout data for reconstruction acc\n",
    "        )\n",
    "        \n",
    "        self.parametric_model = None\n",
    "\n",
    "        # how many epochs to train for (different than n_epochs which is specific to each sample)\n",
    "        self.n_training_epochs = n_training_epochs\n",
    "        # set optimizer\n",
    "        if optimizer is None:\n",
    "            if parametric_embedding:\n",
    "                # Adam is better for parametric_embedding\n",
    "                self.optimizer = tf.keras.optimizers.Adam(1e-3)\n",
    "            else:\n",
    "                # Larger learning rate can be used for embedding\n",
    "                self.optimizer = tf.keras.optimizers.Adam(1e-1)\n",
    "        else:\n",
    "            self.optimizer = optimizer\n",
    "\n",
    "        if parametric_reconstruction and not parametric_embedding:\n",
    "            warn(\n",
    "                \"Parametric decoding is not implemented with nonparametric \\\n",
    "            embedding. Turning off parametric decoding\"\n",
    "            )\n",
    "            self.parametric_reconstruction = False\n",
    "\n",
    "    def transform(self, X):\n",
    "        raise NotImplemented\n",
    "\n",
    "    def inverse_transform(self, X):\n",
    "        raise NotImplemented\n",
    "\n",
    "    def define_model(self):\n",
    "        \"\"\" Define the model in keras\n",
    "        \"\"\"\n",
    "\n",
    "        # network outputs\n",
    "        outputs = {}\n",
    "\n",
    "        # inputs\n",
    "        if self.parametric_embedding:\n",
    "            to_x = tf.keras.layers.Input(shape=self.dims, name=\"to_x\")\n",
    "            from_x = tf.keras.layers.Input(shape=self.dims, name=\"from_x\")\n",
    "            inputs = [to_x, from_x]\n",
    "\n",
    "            # parametric embedding\n",
    "            embedding_to = self.encoder(to_x)\n",
    "            embedding_from = self.encoder(from_x)\n",
    "\n",
    "            if self.parametric_reconstruction:\n",
    "                # parametric reconstruction\n",
    "                if self.autoencoder_loss:\n",
    "                    embedding_to_recon = self.decoder(embedding_to)\n",
    "                else:\n",
    "                    # stop gradient of reconstruction loss before it reaches the encoder\n",
    "                    embedding_to_recon = self.decoder(tf.stop_gradient(embedding_to))\n",
    "\n",
    "\n",
    "                embedding_to_recon = tf.keras.layers.Lambda(\n",
    "                    lambda x: x, name=\"reconstruction\"\n",
    "                )(embedding_to_recon)\n",
    "\n",
    "                outputs[\"reconstruction\"] = embedding_to_recon\n",
    "\n",
    "        else:\n",
    "            # this is the sham input (its just a 0) to make keras think there is input data\n",
    "            batch_sample = tf.keras.layers.Input(\n",
    "                shape=(1), dtype=tf.int32, name=\"batch_sample\"\n",
    "            )\n",
    "\n",
    "            # gather all of the edges (so keras model is happy)\n",
    "            to_x = tf.squeeze(tf.gather(self.head, batch_sample[0]))\n",
    "            from_x = tf.squeeze(tf.gather(self.tail, batch_sample[0]))\n",
    "\n",
    "            # grab relevant embeddings\n",
    "            embedding_to = self.encoder(to_x)[:, -1, :]\n",
    "            embedding_from = self.encoder(from_x)[:, -1, :]\n",
    "\n",
    "            inputs = [batch_sample]\n",
    "\n",
    "        # concatenate to/from projections for loss computation\n",
    "        embedding_to_from = tf.concat([embedding_to, embedding_from], axis=1)\n",
    "        embedding_to_from = tf.keras.layers.Lambda(lambda x: x, name=\"umap\")(\n",
    "            embedding_to_from\n",
    "        )\n",
    "        outputs[\"umap\"] = embedding_to_from\n",
    "\n",
    "        # create model\n",
    "        self.parametric_model = tf.keras.Model(inputs=inputs, outputs=outputs,)\n",
    "\n",
    "    def compile_model(self):\n",
    "        losses = {}\n",
    "        loss_weights = {}\n",
    "        \n",
    "        umap_loss_fn = umap_loss(\n",
    "            self.batch_size,\n",
    "            self.negative_sample_rate,\n",
    "            self._a,\n",
    "            self._b,\n",
    "            self.edge_weight,\n",
    "            self.parametric_embedding,\n",
    "        )\n",
    "        losses[\"umap\"] = umap_loss_fn\n",
    "        loss_weights[\"umap\"] = 1.0\n",
    "\n",
    "        if self.parametric_reconstruction:\n",
    "            losses[\"reconstruction\"] = tf.keras.losses.BinaryCrossentropy(\n",
    "                from_logits=True\n",
    "            )\n",
    "            loss_weights[\"reconstruction\"] = 1.0\n",
    "\n",
    "        self.parametric_model.compile(\n",
    "            optimizer=self.optimizer, loss=losses, loss_weights=loss_weights,\n",
    "        )\n",
    "\n",
    "    def _fit_embed_data(self, X, n_epochs, init, random_state):\n",
    "\n",
    "        # get dimensionality of dataset\n",
    "        if self.dims is None:\n",
    "            self.dims = [np.shape(X)[-1]]\n",
    "        else:\n",
    "            # reshape data for network\n",
    "            if len(self.dims) > 1:\n",
    "                X = np.reshape(X, [len(X)] + list(self.dims))\n",
    "\n",
    "        # get dataset of edges\n",
    "        (\n",
    "            edge_dataset,\n",
    "            self.batch_size,\n",
    "            n_edges,\n",
    "            head,\n",
    "            tail,\n",
    "            self.edge_weight,\n",
    "        ) = construct_edge_dataset(\n",
    "            X,\n",
    "            self.graph_,\n",
    "            self.n_epochs,\n",
    "            self.batch_size,\n",
    "            self.parametric_embedding,\n",
    "            self.parametric_reconstruction,\n",
    "        )\n",
    "        self.head = tf.constant(tf.expand_dims(head, 0))\n",
    "        self.tail = tf.constant(tf.expand_dims(tail, 0))\n",
    "\n",
    "        a, b = next(iter(edge_dataset))\n",
    "        # breakme\n",
    "\n",
    "        if self.parametric_embedding:\n",
    "            init_embedding = None\n",
    "        else:\n",
    "            init_embedding = init_embedding_from_graph(\n",
    "                X,\n",
    "                self.graph_,\n",
    "                self.n_components,\n",
    "                self.random_state,\n",
    "                self.metric,\n",
    "                self._metric_kwds,\n",
    "                init=\"spectral\",\n",
    "            )\n",
    "\n",
    "        # create encoder and decoder model\n",
    "        n_data = len(X)\n",
    "        self.encoder, self.decoder = prepare_networks(\n",
    "            self.encoder,\n",
    "            self.decoder,\n",
    "            self.n_components,\n",
    "            self.dims,\n",
    "            n_data,\n",
    "            self.parametric_embedding,\n",
    "            self.parametric_reconstruction,\n",
    "            init_embedding,\n",
    "        )\n",
    "\n",
    "        # create the model\n",
    "        self.define_model()\n",
    "        self.compile_model()\n",
    "\n",
    "        # report every loss_report_frequency subdivision of an epochs\n",
    "        if self.parametric_embedding:\n",
    "            steps_per_epoch = int(\n",
    "                n_edges / self.batch_size / self.loss_report_frequency\n",
    "            )\n",
    "        else:\n",
    "            # all edges are trained simultaneously with nonparametric, so this is arbitrary\n",
    "            steps_per_epoch = 100\n",
    "\n",
    "        # Validation dataset for reconstruction\n",
    "        if (\n",
    "            self.parametric_reconstruction\n",
    "            and self.reconstruction_validation is not None\n",
    "        ):\n",
    "\n",
    "            # reshape data for network\n",
    "            if len(self.dims) > 1:\n",
    "                self.reconstruction_validation = np.reshape(\n",
    "                    self.reconstruction_validation,\n",
    "                    [len(self.reconstruction_validation)] + list(self.dims),\n",
    "                )\n",
    "\n",
    "            validation_data = (\n",
    "                (\n",
    "                    self.reconstruction_validation,\n",
    "                    tf.zeros_like(self.reconstruction_validation),\n",
    "                ),\n",
    "                {\"reconstruction\": self.reconstruction_validation},\n",
    "            )\n",
    "        else:\n",
    "            validation_data = None\n",
    "\n",
    "        # create embedding\n",
    "        history = self.parametric_model.fit(\n",
    "            edge_dataset,\n",
    "            epochs=self.loss_report_frequency * self.n_training_epochs,\n",
    "            steps_per_epoch=steps_per_epoch,\n",
    "            max_queue_size=100,\n",
    "            callbacks = self.keras_callbacks,\n",
    "            validation_data=validation_data,\n",
    "        )\n",
    "        # save loss history dictionary\n",
    "        self._history = history.history\n",
    "\n",
    "        # get the final embedding\n",
    "        if self.parametric_embedding:\n",
    "            embedding = self.encoder.predict(X, verbose=self.verbose)\n",
    "        else:\n",
    "            embedding = self.encoder.trainable_variables[0].numpy()\n",
    "\n",
    "        return embedding, {}\n",
    "\n",
    "    def __getstate__(self):\n",
    "        # this function supports pickling, making sure that objects can be pickled\n",
    "        return dict((k, v) for (k, v) in self.__dict__.items() if should_pickle(k, v))\n",
    "    \n",
    "    def save(self, save_location, verbose=True):\n",
    "        \n",
    "        # save encoder\n",
    "        if self.encoder is not None:\n",
    "            encoder_output = os.path.join(save_location, \"encoder\")\n",
    "            self.encoder.save(encoder_output)\n",
    "            if verbose:\n",
    "                print(\"Keras encoder model saved to {}\".format(encoder_output))\n",
    "            \n",
    "        # save decoder\n",
    "        if self.decoder is not None:\n",
    "            decoder_output = os.path.join(save_location, \"decoder\")\n",
    "            self.decoder.save(decoder_output)\n",
    "            print(\"Keras decoder model saved to {}\".format(decoder_output))\n",
    "            \n",
    "        # save parametric_model\n",
    "        if self.parametric_model is not None:\n",
    "            parametric_model_output = os.path.join(save_location, \"parametric_model\")\n",
    "            self.parametric_model.save(parametric_model_output)\n",
    "            print(\"Keras full model saved to {}\".format(parametric_model_output))\n",
    "            \n",
    "        \n",
    "        # save model.pkl (ignoring unpickleable warnings)\n",
    "        with catch_warnings():\n",
    "            filterwarnings(\"ignore\")\n",
    "            model_output = os.path.join(save_location, \"model.pkl\")\n",
    "            with open(model_output, \"wb\") as output:\n",
    "                pickle.dump(self, output, pickle.HIGHEST_PROTOCOL)\n",
    "            if verbose:\n",
    "                print(\"Pickle of ParametricUMAP model saved to {}\".format(model_output))"
   ]
  },
  {
   "cell_type": "code",
   "execution_count": 14,
   "metadata": {
    "ExecuteTime": {
     "end_time": "2020-08-16T19:19:22.333481Z",
     "start_time": "2020-08-16T19:19:22.285748Z"
    }
   },
   "outputs": [],
   "source": [
    "def load_parametric_umap_model(save_location, verbose=True):\n",
    "\n",
    "    ## Loads a parametricUMAP model and its related keras models\n",
    "    \n",
    "    model_output = os.path.join(save_location, \"model.pkl\")\n",
    "    model = pickle.load((open(model_output, 'rb')))\n",
    "    if verbose:\n",
    "        print(\"Pickle of ParametricUMAP model loaded from {}\".format(model_output))\n",
    "\n",
    "    \n",
    "    # load encoder\n",
    "    encoder_output = os.path.join(save_location, \"encoder\")\n",
    "    if os.path.exists(encoder_output):\n",
    "        model.encoder = tf.keras.models.load_model(encoder_output)\n",
    "        if verbose:\n",
    "            print(\"Keras encoder model loaded from {}\".format(encoder_output))\n",
    "\n",
    "    # save decoder\n",
    "    decoder_output = os.path.join(save_location, \"decoder\")\n",
    "    if os.path.exists(decoder_output):\n",
    "        model.decoder = tf.keras.models.load_model(decoder_output)\n",
    "        print(\"Keras decoder model loaded from {}\".format(decoder_output))\n",
    "\n",
    "        \n",
    "    # get the custom loss function\n",
    "    umap_loss_fn = umap_loss(\n",
    "            model.batch_size,\n",
    "            model.negative_sample_rate,\n",
    "            model._a,\n",
    "            model._b,\n",
    "            model.edge_weight,\n",
    "            model.parametric_embedding,\n",
    "    )\n",
    "        \n",
    "    # save parametric_model\n",
    "    parametric_model_output = os.path.join(save_location, \"parametric_model\")\n",
    "    if os.path.exists(parametric_model_output):\n",
    "        model.parametric_model = tf.keras.models.load_model(parametric_model_output, \n",
    "                                                           custom_objects={'loss': umap_loss_fn})\n",
    "        print(\"Keras full model loaded from {}\".format(parametric_model_output))\n",
    "    \n",
    "    return model"
   ]
  },
  {
   "cell_type": "code",
   "execution_count": 15,
   "metadata": {
    "ExecuteTime": {
     "end_time": "2020-08-16T19:19:22.378837Z",
     "start_time": "2020-08-16T19:19:22.335357Z"
    }
   },
   "outputs": [],
   "source": [
    "import codecs, pickle\n",
    "def should_pickle(key, val):\n",
    "    try:\n",
    "        ## make sure object can be pickled and then re-read\n",
    "        # pickle object\n",
    "        pickled = codecs.encode(pickle.dumps(val), \"base64\").decode()\n",
    "        # unpickle object\n",
    "        unpickled = pickle.loads(codecs.decode(pickled.encode(), \"base64\"))\n",
    "    except (\n",
    "        pickle.PicklingError,\n",
    "        tf.errors.InvalidArgumentError,\n",
    "        TypeError,\n",
    "        tf.errors.InternalError,\n",
    "        OverflowError,\n",
    "        TypingError,\n",
    "    ) as e:\n",
    "        warn(\"Did not pickle {}: {}\".format(key, e))\n",
    "        return False\n",
    "    return True"
   ]
  },
  {
   "cell_type": "code",
   "execution_count": 16,
   "metadata": {
    "ExecuteTime": {
     "end_time": "2020-08-16T19:19:22.414512Z",
     "start_time": "2020-08-16T19:19:22.380565Z"
    }
   },
   "outputs": [],
   "source": [
    "from tensorflow.keras.layers import Input, Dense, Conv2D, LeakyReLU, AvgPool2D, UpSampling2D, Cropping2D"
   ]
  },
  {
   "cell_type": "code",
   "execution_count": 17,
   "metadata": {
    "ExecuteTime": {
     "end_time": "2020-08-16T19:19:23.120184Z",
     "start_time": "2020-08-16T19:19:22.415860Z"
    }
   },
   "outputs": [
    {
     "name": "stdout",
     "output_type": "stream",
     "text": [
      "Model: \"sequential\"\n",
      "_________________________________________________________________\n",
      "Layer (type)                 Output Shape              Param #   \n",
      "=================================================================\n",
      "conv2d (Conv2D)              (None, 13, 13, 32)        320       \n",
      "_________________________________________________________________\n",
      "conv2d_1 (Conv2D)            (None, 6, 6, 128)         36992     \n",
      "_________________________________________________________________\n",
      "flatten (Flatten)            (None, 4608)              0         \n",
      "_________________________________________________________________\n",
      "dense (Dense)                (None, 256)               1179904   \n",
      "_________________________________________________________________\n",
      "dense_1 (Dense)              (None, 512)               131584    \n",
      "_________________________________________________________________\n",
      "dense_2 (Dense)              (None, 2)                 1026      \n",
      "=================================================================\n",
      "Total params: 1,349,826\n",
      "Trainable params: 1,349,826\n",
      "Non-trainable params: 0\n",
      "_________________________________________________________________\n"
     ]
    }
   ],
   "source": [
    "dims = (28,28, 1)\n",
    "n_components = 2\n",
    "encoder = tf.keras.Sequential([\n",
    "    tf.keras.layers.InputLayer(input_shape=dims),\n",
    "    tf.keras.layers.Conv2D(\n",
    "        filters=32, kernel_size=3, strides=(2, 2), activation=\"relu\"\n",
    "    ),\n",
    "    tf.keras.layers.Conv2D(\n",
    "        filters=128, kernel_size=3, strides=(2, 2), activation=\"relu\"\n",
    "    ),\n",
    "    tf.keras.layers.Flatten(),\n",
    "    tf.keras.layers.Dense(units=256, activation=\"relu\"),\n",
    "    tf.keras.layers.Dense(units=512, activation=\"relu\"),\n",
    "    tf.keras.layers.Dense(units=n_components),\n",
    "])\n",
    "encoder.summary()"
   ]
  },
  {
   "cell_type": "code",
   "execution_count": 18,
   "metadata": {
    "ExecuteTime": {
     "end_time": "2020-08-16T19:19:23.170121Z",
     "start_time": "2020-08-16T19:19:23.122126Z"
    }
   },
   "outputs": [],
   "source": [
    "X_valid_flat = X_valid.reshape((len(X_valid), np.product(np.shape(X_valid)[1:])))\n",
    "X_train_flat = X_train.reshape((len(X_train), np.product(np.shape(X_train)[1:])))\n",
    "X_train_flat = X_train_flat[:1000]"
   ]
  },
  {
   "cell_type": "code",
   "execution_count": 19,
   "metadata": {
    "ExecuteTime": {
     "end_time": "2020-08-16T19:19:23.207136Z",
     "start_time": "2020-08-16T19:19:23.171428Z"
    }
   },
   "outputs": [],
   "source": [
    "keras_callbacks = [tf.keras.callbacks.EarlyStopping(\n",
    "    monitor='loss', min_delta=10**-3, patience=10, verbose=0, mode='auto',\n",
    "    baseline=None, restore_best_weights=False\n",
    ")]"
   ]
  },
  {
   "cell_type": "code",
   "execution_count": 20,
   "metadata": {
    "ExecuteTime": {
     "end_time": "2020-08-16T19:19:23.242179Z",
     "start_time": "2020-08-16T19:19:23.210018Z"
    }
   },
   "outputs": [],
   "source": [
    "model = ParametricUMAP(\n",
    "    parametric_embedding=True,\n",
    "    batch_size = 1000,\n",
    "    #parametric_reconstruction=True,\n",
    "    loss_report_frequency=10,\n",
    "    n_training_epochs=1000,\n",
    "    verbose=True,\n",
    "    #autoencoder_loss = True,\n",
    "    #reconstruction_validation = X_valid_flat,\n",
    "    encoder = encoder,\n",
    "    #decoder = decoder,\n",
    "    dims = dims,\n",
    "    keras_callbacks =keras_callbacks,\n",
    ")"
   ]
  },
  {
   "cell_type": "code",
   "execution_count": 21,
   "metadata": {
    "ExecuteTime": {
     "end_time": "2020-08-16T19:19:48.000037Z",
     "start_time": "2020-08-16T19:19:23.243744Z"
    }
   },
   "outputs": [
    {
     "name": "stdout",
     "output_type": "stream",
     "text": [
      "ParametricUMAP(batch_size=1000, dims=(28, 28, 1),\n",
      "               encoder=<tensorflow.python.keras.engine.sequential.Sequential object at 0x7f9b44061e80>,\n",
      "               keras_callbacks=[<tensorflow.python.keras.callbacks.EarlyStopping object at 0x7f9b44326d68>],\n",
      "               loss_report_frequency=10, n_training_epochs=1000,\n",
      "               optimizer=<tensorflow.python.keras.optimizer_v2.adam.Adam object at 0x7f9b44326828>)\n",
      "Construct fuzzy simplicial set\n",
      "Sun Aug 16 12:19:24 2020 Finding Nearest Neighbors\n",
      "Sun Aug 16 12:19:26 2020 Finished Nearest Neighbor Search\n",
      "Sun Aug 16 12:19:28 2020 Construct embedding\n",
      "Epoch 1/10000\n",
      "11/11 [==============================] - 0s 10ms/step - loss: 1.2126\n",
      "Epoch 2/10000\n",
      "11/11 [==============================] - 0s 10ms/step - loss: 0.4379\n",
      "Epoch 3/10000\n",
      "11/11 [==============================] - 0s 16ms/step - loss: 0.3826\n",
      "Epoch 4/10000\n",
      "11/11 [==============================] - 0s 15ms/step - loss: 0.3417\n",
      "Epoch 5/10000\n",
      "11/11 [==============================] - 0s 18ms/step - loss: 0.3316\n",
      "Epoch 6/10000\n",
      "11/11 [==============================] - 0s 17ms/step - loss: 0.3255\n",
      "Epoch 7/10000\n",
      "11/11 [==============================] - 0s 16ms/step - loss: 0.3223\n",
      "Epoch 8/10000\n",
      "11/11 [==============================] - 0s 19ms/step - loss: 0.3180\n",
      "Epoch 9/10000\n",
      "11/11 [==============================] - 0s 17ms/step - loss: 0.3155\n",
      "Epoch 10/10000\n",
      "11/11 [==============================] - 0s 13ms/step - loss: 0.3087\n",
      "Epoch 11/10000\n",
      "11/11 [==============================] - 0s 15ms/step - loss: 0.3066\n",
      "Epoch 12/10000\n",
      "11/11 [==============================] - 0s 14ms/step - loss: 0.3028\n",
      "Epoch 13/10000\n",
      "11/11 [==============================] - 0s 14ms/step - loss: 0.2989\n",
      "Epoch 14/10000\n",
      "11/11 [==============================] - 0s 15ms/step - loss: 0.2978\n",
      "Epoch 15/10000\n",
      "11/11 [==============================] - 0s 16ms/step - loss: 0.2925\n",
      "Epoch 16/10000\n",
      "11/11 [==============================] - 0s 15ms/step - loss: 0.2918\n",
      "Epoch 17/10000\n",
      "11/11 [==============================] - 0s 17ms/step - loss: 0.2900\n",
      "Epoch 18/10000\n",
      "11/11 [==============================] - 0s 17ms/step - loss: 0.2873\n",
      "Epoch 19/10000\n",
      "11/11 [==============================] - 0s 18ms/step - loss: 0.2865\n",
      "Epoch 20/10000\n",
      "11/11 [==============================] - 0s 18ms/step - loss: 0.2916\n",
      "Epoch 21/10000\n",
      "11/11 [==============================] - 0s 17ms/step - loss: 0.2867\n",
      "Epoch 22/10000\n",
      "11/11 [==============================] - 0s 16ms/step - loss: 0.2844\n",
      "Epoch 23/10000\n",
      "11/11 [==============================] - 0s 16ms/step - loss: 0.2807\n",
      "Epoch 24/10000\n",
      "11/11 [==============================] - 0s 15ms/step - loss: 0.2740\n",
      "Epoch 25/10000\n",
      "11/11 [==============================] - 0s 17ms/step - loss: 0.2737\n",
      "Epoch 26/10000\n",
      "11/11 [==============================] - 0s 18ms/step - loss: 0.2733\n",
      "Epoch 27/10000\n",
      "11/11 [==============================] - 0s 17ms/step - loss: 0.2728\n",
      "Epoch 28/10000\n",
      "11/11 [==============================] - 0s 18ms/step - loss: 0.2707\n",
      "Epoch 29/10000\n",
      "11/11 [==============================] - 0s 16ms/step - loss: 0.2773\n",
      "Epoch 30/10000\n",
      "11/11 [==============================] - 0s 17ms/step - loss: 0.2677\n",
      "Epoch 31/10000\n",
      "11/11 [==============================] - 0s 15ms/step - loss: 0.2645\n",
      "Epoch 32/10000\n",
      "11/11 [==============================] - 0s 14ms/step - loss: 0.2669\n",
      "Epoch 33/10000\n",
      "11/11 [==============================] - 0s 17ms/step - loss: 0.2697\n",
      "Epoch 34/10000\n",
      "11/11 [==============================] - 0s 16ms/step - loss: 0.2673\n",
      "Epoch 35/10000\n",
      "11/11 [==============================] - 0s 16ms/step - loss: 0.2654\n",
      "Epoch 36/10000\n",
      "11/11 [==============================] - 0s 16ms/step - loss: 0.2606\n",
      "Epoch 37/10000\n",
      "11/11 [==============================] - 0s 16ms/step - loss: 0.2623\n",
      "Epoch 38/10000\n",
      "11/11 [==============================] - 0s 14ms/step - loss: 0.2547\n",
      "Epoch 39/10000\n",
      "11/11 [==============================] - 0s 13ms/step - loss: 0.2637\n",
      "Epoch 40/10000\n",
      "11/11 [==============================] - 0s 15ms/step - loss: 0.2662\n",
      "Epoch 41/10000\n",
      "11/11 [==============================] - 0s 15ms/step - loss: 0.2638\n",
      "Epoch 42/10000\n",
      "11/11 [==============================] - 0s 17ms/step - loss: 0.2639\n",
      "Epoch 43/10000\n",
      "11/11 [==============================] - 0s 16ms/step - loss: 0.2636\n",
      "Epoch 44/10000\n",
      "11/11 [==============================] - 0s 16ms/step - loss: 0.2604\n",
      "Epoch 45/10000\n",
      "11/11 [==============================] - 0s 16ms/step - loss: 0.2568\n",
      "Epoch 46/10000\n",
      "11/11 [==============================] - 0s 16ms/step - loss: 0.2598\n",
      "Epoch 47/10000\n",
      "11/11 [==============================] - 0s 16ms/step - loss: 0.2523\n",
      "Epoch 48/10000\n",
      "11/11 [==============================] - 0s 16ms/step - loss: 0.2559\n",
      "Epoch 49/10000\n",
      "11/11 [==============================] - 0s 16ms/step - loss: 0.2553\n",
      "Epoch 50/10000\n",
      "11/11 [==============================] - 0s 17ms/step - loss: 0.2545\n",
      "Epoch 51/10000\n",
      "11/11 [==============================] - 0s 16ms/step - loss: 0.2536\n",
      "Epoch 52/10000\n",
      "11/11 [==============================] - 0s 16ms/step - loss: 0.2523\n",
      "Epoch 53/10000\n",
      "11/11 [==============================] - 0s 16ms/step - loss: 0.2520\n",
      "Epoch 54/10000\n",
      "11/11 [==============================] - 0s 16ms/step - loss: 0.2503\n",
      "Epoch 55/10000\n",
      "11/11 [==============================] - 0s 15ms/step - loss: 0.2556\n",
      "Epoch 56/10000\n",
      "11/11 [==============================] - 0s 15ms/step - loss: 0.2510\n",
      "Epoch 57/10000\n",
      "11/11 [==============================] - 0s 17ms/step - loss: 0.2528\n",
      "Epoch 58/10000\n",
      "11/11 [==============================] - 0s 17ms/step - loss: 0.2533\n",
      "Epoch 59/10000\n",
      "11/11 [==============================] - 0s 17ms/step - loss: 0.2505\n",
      "Epoch 60/10000\n",
      "11/11 [==============================] - 0s 17ms/step - loss: 0.2520\n",
      "Epoch 61/10000\n",
      "11/11 [==============================] - 0s 17ms/step - loss: 0.2504\n",
      "Epoch 62/10000\n",
      "11/11 [==============================] - 0s 17ms/step - loss: 0.2520\n",
      "Epoch 63/10000\n",
      "11/11 [==============================] - 0s 16ms/step - loss: 0.2503\n",
      "Epoch 64/10000\n",
      "11/11 [==============================] - 0s 15ms/step - loss: 0.2489\n",
      "Epoch 65/10000\n",
      "11/11 [==============================] - 0s 16ms/step - loss: 0.2614\n",
      "Epoch 66/10000\n",
      "11/11 [==============================] - 0s 16ms/step - loss: 0.2531\n",
      "Epoch 67/10000\n",
      "11/11 [==============================] - 0s 15ms/step - loss: 0.2539\n",
      "Epoch 68/10000\n",
      "11/11 [==============================] - 0s 16ms/step - loss: 0.2572\n",
      "Epoch 69/10000\n",
      "11/11 [==============================] - 0s 16ms/step - loss: 0.2487\n",
      "Epoch 70/10000\n",
      "11/11 [==============================] - 0s 17ms/step - loss: 0.2490\n",
      "Epoch 71/10000\n",
      "11/11 [==============================] - 0s 18ms/step - loss: 0.2499\n",
      "Epoch 72/10000\n",
      "11/11 [==============================] - 0s 16ms/step - loss: 0.2466\n",
      "Epoch 73/10000\n",
      "11/11 [==============================] - 0s 14ms/step - loss: 0.2503\n",
      "Epoch 74/10000\n",
      "11/11 [==============================] - 0s 14ms/step - loss: 0.2455\n",
      "Epoch 75/10000\n",
      "11/11 [==============================] - 0s 14ms/step - loss: 0.2492\n",
      "Epoch 76/10000\n",
      "11/11 [==============================] - 0s 15ms/step - loss: 0.2505\n",
      "Epoch 77/10000\n",
      "11/11 [==============================] - 0s 14ms/step - loss: 0.2491\n",
      "Epoch 78/10000\n",
      "11/11 [==============================] - 0s 14ms/step - loss: 0.2483\n",
      "Epoch 79/10000\n",
      "11/11 [==============================] - 0s 14ms/step - loss: 0.2438\n",
      "Epoch 80/10000\n",
      "11/11 [==============================] - 0s 14ms/step - loss: 0.2484\n",
      "Epoch 81/10000\n",
      "11/11 [==============================] - 0s 14ms/step - loss: 0.2470\n",
      "Epoch 82/10000\n",
      "11/11 [==============================] - 0s 14ms/step - loss: 0.2477\n",
      "Epoch 83/10000\n",
      "11/11 [==============================] - 0s 15ms/step - loss: 0.2502\n",
      "Epoch 84/10000\n",
      "11/11 [==============================] - 0s 14ms/step - loss: 0.2437\n",
      "Epoch 85/10000\n",
      "11/11 [==============================] - 0s 16ms/step - loss: 0.2467\n",
      "Epoch 86/10000\n",
      "11/11 [==============================] - 0s 17ms/step - loss: 0.2479\n",
      "Epoch 87/10000\n",
      "11/11 [==============================] - 0s 15ms/step - loss: 0.2462\n",
      "Epoch 88/10000\n",
      "11/11 [==============================] - 0s 15ms/step - loss: 0.2459\n",
      "Epoch 89/10000\n",
      "11/11 [==============================] - 0s 15ms/step - loss: 0.2481\n",
      "32/32 [==============================] - 0s 1ms/step\n",
      "Sun Aug 16 12:19:47 2020 Finished embedding\n"
     ]
    }
   ],
   "source": [
    "embedding = model.fit(X_train_flat)"
   ]
  },
  {
   "cell_type": "code",
   "execution_count": 33,
   "metadata": {
    "ExecuteTime": {
     "end_time": "2020-08-16T21:15:33.391765Z",
     "start_time": "2020-08-16T21:15:31.869231Z"
    }
   },
   "outputs": [
    {
     "data": {
      "text/plain": [
       "scipy.sparse.csr.csr_matrix"
      ]
     },
     "execution_count": 33,
     "metadata": {},
     "output_type": "execute_result"
    }
   ],
   "source": [
    "type(model.graph_)"
   ]
  },
  {
   "cell_type": "code",
   "execution_count": 1,
   "metadata": {
    "ExecuteTime": {
     "end_time": "2020-08-16T21:33:35.441089Z",
     "start_time": "2020-08-16T21:33:34.953079Z"
    }
   },
   "outputs": [
    {
     "ename": "NameError",
     "evalue": "name 'model' is not defined",
     "output_type": "error",
     "traceback": [
      "\u001b[0;31m---------------------------------------------------------------------------\u001b[0m",
      "\u001b[0;31mNameError\u001b[0m                                 Traceback (most recent call last)",
      "\u001b[0;32m<ipython-input-1-c02b5d73f7af>\u001b[0m in \u001b[0;36m<module>\u001b[0;34m\u001b[0m\n\u001b[0;32m----> 1\u001b[0;31m \u001b[0mmodel\u001b[0m\u001b[0;34m.\u001b[0m\u001b[0mencoder\u001b[0m\u001b[0;34m.\u001b[0m\u001b[0mpredict\u001b[0m\u001b[0;34m(\u001b[0m\u001b[0mX_valid\u001b[0m\u001b[0;34m,\u001b[0m \u001b[0mbatch_size\u001b[0m \u001b[0;34m=\u001b[0m \u001b[0mmodel\u001b[0m\u001b[0;34m.\u001b[0m\u001b[0mbatch_size\u001b[0m\u001b[0;34m)\u001b[0m\u001b[0;34m\u001b[0m\u001b[0;34m\u001b[0m\u001b[0m\n\u001b[0m",
      "\u001b[0;31mNameError\u001b[0m: name 'model' is not defined"
     ]
    }
   ],
   "source": [
    "model.encoder.predict(X_valid, batch_size = model.batch_size)"
   ]
  },
  {
   "cell_type": "markdown",
   "metadata": {},
   "source": [
    "### save model"
   ]
  },
  {
   "cell_type": "code",
   "execution_count": 22,
   "metadata": {
    "ExecuteTime": {
     "end_time": "2020-08-16T19:19:48.527525Z",
     "start_time": "2020-08-16T19:19:48.001295Z"
    }
   },
   "outputs": [],
   "source": [
    "import pickle"
   ]
  },
  {
   "cell_type": "code",
   "execution_count": 23,
   "metadata": {
    "ExecuteTime": {
     "end_time": "2020-08-16T19:19:50.300217Z",
     "start_time": "2020-08-16T19:19:48.529059Z"
    }
   },
   "outputs": [
    {
     "name": "stdout",
     "output_type": "stream",
     "text": [
      "Keras encoder model saved to /tmp/model/encoder\n",
      "Keras full model saved to /tmp/model/parametric_model\n",
      "Pickle of ParametricUMAP model saved to /tmp/model/model.pkl\n"
     ]
    }
   ],
   "source": [
    "model.save('/tmp/model')"
   ]
  },
  {
   "cell_type": "code",
   "execution_count": 24,
   "metadata": {
    "ExecuteTime": {
     "end_time": "2020-08-16T19:19:50.550678Z",
     "start_time": "2020-08-16T19:19:50.301462Z"
    }
   },
   "outputs": [
    {
     "name": "stdout",
     "output_type": "stream",
     "text": [
      "encoder  model.pkl  parametric_model\r\n"
     ]
    }
   ],
   "source": [
    "! ls '/tmp/model'"
   ]
  },
  {
   "cell_type": "code",
   "execution_count": 25,
   "metadata": {
    "ExecuteTime": {
     "end_time": "2020-08-16T19:19:51.527729Z",
     "start_time": "2020-08-16T19:19:50.553059Z"
    }
   },
   "outputs": [
    {
     "name": "stdout",
     "output_type": "stream",
     "text": [
      "Pickle of ParametricUMAP model loaded from /tmp/model/model.pkl\n"
     ]
    },
    {
     "name": "stderr",
     "output_type": "stream",
     "text": [
      "WARNING: Logging before flag parsing goes to stderr.\n",
      "W0816 12:19:50.826642 140309581190976 load.py:134] No training configuration found in save file, so the model was *not* compiled. Compile it manually.\n"
     ]
    },
    {
     "name": "stdout",
     "output_type": "stream",
     "text": [
      "Keras encoder model loaded from /tmp/model/encoder\n",
      "Keras full model loaded from /tmp/model/parametric_model\n"
     ]
    }
   ],
   "source": [
    "model = load_parametric_umap_model('/tmp/model')"
   ]
  },
  {
   "cell_type": "markdown",
   "metadata": {},
   "source": [
    "### plot embedding"
   ]
  },
  {
   "cell_type": "code",
   "execution_count": 26,
   "metadata": {
    "ExecuteTime": {
     "end_time": "2020-08-16T19:19:53.140003Z",
     "start_time": "2020-08-16T19:19:51.529165Z"
    }
   },
   "outputs": [
    {
     "name": "stdout",
     "output_type": "stream",
     "text": [
      "1563/1563 [==============================] - 1s 914us/step\n"
     ]
    }
   ],
   "source": [
    "embedding = model.encoder.predict(X_train, verbose=True)"
   ]
  },
  {
   "cell_type": "code",
   "execution_count": 27,
   "metadata": {
    "ExecuteTime": {
     "end_time": "2020-08-16T19:19:53.178840Z",
     "start_time": "2020-08-16T19:19:53.141655Z"
    }
   },
   "outputs": [],
   "source": [
    "import matplotlib.pyplot as plt"
   ]
  },
  {
   "cell_type": "code",
   "execution_count": 28,
   "metadata": {
    "ExecuteTime": {
     "end_time": "2020-08-16T19:19:54.448569Z",
     "start_time": "2020-08-16T19:19:53.180192Z"
    }
   },
   "outputs": [
    {
     "data": {
      "image/png": "[encoded data removed]",
      "text/plain": [
       "<Figure size 576x576 with 2 Axes>"
      ]
     },
     "metadata": {
      "needs_background": "light"
     },
     "output_type": "display_data"
    }
   ],
   "source": [
    "fig, ax = plt.subplots( figsize=(8, 8))\n",
    "sc = ax.scatter(\n",
    "    embedding[:, 0],\n",
    "    embedding[:, 1],\n",
    "    c=Y_train.astype(int),\n",
    "    cmap=\"tab10\",\n",
    "    s=0.1,\n",
    "    alpha=0.5,\n",
    "    rasterized=True,\n",
    ")\n",
    "ax.axis('equal')\n",
    "ax.set_title(\"UMAP in Tensorflow embedding\", fontsize=20)\n",
    "plt.colorbar(sc, ax=ax);"
   ]
  },
  {
   "cell_type": "code",
   "execution_count": 29,
   "metadata": {
    "ExecuteTime": {
     "end_time": "2020-08-16T19:19:54.487461Z",
     "start_time": "2020-08-16T19:19:54.449968Z"
    }
   },
   "outputs": [
    {
     "data": {
      "text/plain": [
       "dict_keys(['loss'])"
      ]
     },
     "execution_count": 29,
     "metadata": {},
     "output_type": "execute_result"
    }
   ],
   "source": [
    "model._history.keys()"
   ]
  },
  {
   "cell_type": "code",
   "execution_count": 30,
   "metadata": {
    "ExecuteTime": {
     "end_time": "2020-08-16T19:19:54.610816Z",
     "start_time": "2020-08-16T19:19:54.488737Z"
    }
   },
   "outputs": [
    {
     "data": {
      "text/plain": [
       "[<matplotlib.lines.Line2D at 0x7f9b0c7d8f98>]"
      ]
     },
     "execution_count": 30,
     "metadata": {},
     "output_type": "execute_result"
    },
    {
     "data": {
      "image/png": "[encoded data removed]",
      "text/plain": [
       "<Figure size 432x288 with 1 Axes>"
      ]
     },
     "metadata": {
      "needs_background": "light"
     },
     "output_type": "display_data"
    }
   ],
   "source": [
    "plt.plot(model._history['loss'])"
   ]
  },
  {
   "cell_type": "code",
   "execution_count": 31,
   "metadata": {
    "ExecuteTime": {
     "end_time": "2020-08-16T19:19:54.646581Z",
     "start_time": "2020-08-16T19:19:54.612024Z"
    }
   },
   "outputs": [],
   "source": [
    "import matplotlib.pyplot as plt"
   ]
  },
  {
   "cell_type": "code",
   "execution_count": 32,
   "metadata": {
    "ExecuteTime": {
     "end_time": "2020-08-16T19:19:55.007539Z",
     "start_time": "2020-08-16T19:19:54.648087Z"
    }
   },
   "outputs": [
    {
     "ename": "AttributeError",
     "evalue": "'NoneType' object has no attribute 'predict'",
     "output_type": "error",
     "traceback": [
      "\u001b[0;31m---------------------------------------------------------------------------\u001b[0m",
      "\u001b[0;31mAttributeError\u001b[0m                            Traceback (most recent call last)",
      "\u001b[0;32m<ipython-input-32-73ac2a347082>\u001b[0m in \u001b[0;36m<module>\u001b[0;34m\u001b[0m\n\u001b[1;32m      1\u001b[0m \u001b[0mnex\u001b[0m \u001b[0;34m=\u001b[0m \u001b[0;36m10\u001b[0m\u001b[0;34m\u001b[0m\u001b[0;34m\u001b[0m\u001b[0m\n\u001b[1;32m      2\u001b[0m \u001b[0mx\u001b[0m \u001b[0;34m=\u001b[0m \u001b[0mX_train\u001b[0m\u001b[0;34m[\u001b[0m\u001b[0;34m:\u001b[0m\u001b[0mnex\u001b[0m\u001b[0;34m]\u001b[0m\u001b[0;34m\u001b[0m\u001b[0;34m\u001b[0m\u001b[0m\n\u001b[0;32m----> 3\u001b[0;31m \u001b[0mx_recon\u001b[0m \u001b[0;34m=\u001b[0m \u001b[0mmodel\u001b[0m\u001b[0;34m.\u001b[0m\u001b[0mdecoder\u001b[0m\u001b[0;34m.\u001b[0m\u001b[0mpredict\u001b[0m\u001b[0;34m(\u001b[0m\u001b[0mmodel\u001b[0m\u001b[0;34m.\u001b[0m\u001b[0mencoder\u001b[0m\u001b[0;34m.\u001b[0m\u001b[0mpredict\u001b[0m\u001b[0;34m(\u001b[0m\u001b[0mx\u001b[0m\u001b[0;34m)\u001b[0m\u001b[0;34m)\u001b[0m\u001b[0;34m\u001b[0m\u001b[0;34m\u001b[0m\u001b[0m\n\u001b[0m\u001b[1;32m      4\u001b[0m \u001b[0mfig\u001b[0m\u001b[0;34m,\u001b[0m \u001b[0maxs\u001b[0m \u001b[0;34m=\u001b[0m \u001b[0mplt\u001b[0m\u001b[0;34m.\u001b[0m\u001b[0msubplots\u001b[0m\u001b[0;34m(\u001b[0m\u001b[0mncols\u001b[0m\u001b[0;34m=\u001b[0m\u001b[0;36m10\u001b[0m\u001b[0;34m,\u001b[0m \u001b[0mnrows\u001b[0m \u001b[0;34m=\u001b[0m \u001b[0;36m2\u001b[0m\u001b[0;34m,\u001b[0m \u001b[0mfigsize\u001b[0m\u001b[0;34m=\u001b[0m\u001b[0;34m(\u001b[0m\u001b[0mnex\u001b[0m\u001b[0;34m,\u001b[0m \u001b[0;36m2\u001b[0m\u001b[0;34m)\u001b[0m\u001b[0;34m)\u001b[0m\u001b[0;34m\u001b[0m\u001b[0;34m\u001b[0m\u001b[0m\n\u001b[1;32m      5\u001b[0m \u001b[0;32mfor\u001b[0m \u001b[0mi\u001b[0m \u001b[0;32min\u001b[0m \u001b[0mrange\u001b[0m\u001b[0;34m(\u001b[0m\u001b[0mnex\u001b[0m\u001b[0;34m)\u001b[0m\u001b[0;34m:\u001b[0m\u001b[0;34m\u001b[0m\u001b[0;34m\u001b[0m\u001b[0m\n",
      "\u001b[0;31mAttributeError\u001b[0m: 'NoneType' object has no attribute 'predict'"
     ]
    }
   ],
   "source": [
    "nex = 10\n",
    "x = X_train[:nex]\n",
    "x_recon = model.decoder.predict(model.encoder.predict(x))\n",
    "fig, axs = plt.subplots(ncols=10, nrows = 2, figsize=(nex, 2))\n",
    "for i in range(nex):\n",
    "    axs[0, i].matshow(np.squeeze(x[i]))\n",
    "    axs[1, i].matshow(tf.nn.sigmoid(np.squeeze(x_recon[i].reshape(dims))))\n",
    "for ax in axs.flatten():\n",
    "    ax.axis('off')"
   ]
  },
  {
   "cell_type": "code",
   "execution_count": null,
   "metadata": {
    "ExecuteTime": {
     "end_time": "2020-08-16T19:19:55.008828Z",
     "start_time": "2020-08-16T19:19:13.340Z"
    }
   },
   "outputs": [],
   "source": [
    "encoder = tf.keras.Sequential([\n",
    "    tf.keras.layers.InputLayer(input_shape=dims),\n",
    "    tf.keras.layers.Conv2D(\n",
    "        filters=64, kernel_size=3, strides=(2, 2), activation=\"relu\"\n",
    "    ),\n",
    "    tf.keras.layers.Conv2D(\n",
    "        filters=128, kernel_size=3, strides=(2, 2), activation=\"relu\"\n",
    "    ),\n",
    "\n",
    "    tf.keras.layers.Flatten(),\n",
    "    tf.keras.layers.Dense(units=512, activation=\"relu\"),\n",
    "    tf.keras.layers.Dense(units=n_components),\n",
    "])\n",
    "encoder.summary()"
   ]
  },
  {
   "cell_type": "code",
   "execution_count": null,
   "metadata": {
    "ExecuteTime": {
     "end_time": "2020-08-16T19:19:55.009482Z",
     "start_time": "2020-08-16T19:19:13.342Z"
    }
   },
   "outputs": [],
   "source": [
    "decoder = tf.keras.Sequential([\n",
    "    tf.keras.layers.InputLayer(input_shape=(n_components)),\n",
    "    tf.keras.layers.Dense(units=512, activation=\"relu\"),\n",
    "    tf.keras.layers.Dense(units=7 * 7 * 256, activation=\"relu\"),\n",
    "    tf.keras.layers.Reshape(target_shape=(7, 7, 256)),\n",
    "    tf.keras.layers.Conv2DTranspose(\n",
    "        filters=128, kernel_size=3, strides=(2, 2), padding=\"SAME\", activation=\"relu\"\n",
    "    ),\n",
    "    tf.keras.layers.Conv2DTranspose(\n",
    "        filters=64, kernel_size=3, strides=(2, 2), padding=\"SAME\", activation=\"relu\"\n",
    "    ),\n",
    "    tf.keras.layers.Conv2DTranspose(\n",
    "        filters=1, kernel_size=3, strides=(1, 1), padding=\"SAME\", activation=\"sigmoid\"\n",
    "    )\n",
    "])\n",
    "decoder.summary()"
   ]
  },
  {
   "cell_type": "code",
   "execution_count": null,
   "metadata": {},
   "outputs": [],
   "source": []
  }
 ],
 "metadata": {
  "kernelspec": {
   "display_name": "Python 3",
   "language": "python",
   "name": "python3"
  },
  "language_info": {
   "codemirror_mode": {
    "name": "ipython",
    "version": 3
   },
   "file_extension": ".py",
   "mimetype": "text/x-python",
   "name": "python",
   "nbconvert_exporter": "python",
   "pygments_lexer": "ipython3",
   "version": "3.6.7"
  }
 },
 "nbformat": 4,
 "nbformat_minor": 2
}
