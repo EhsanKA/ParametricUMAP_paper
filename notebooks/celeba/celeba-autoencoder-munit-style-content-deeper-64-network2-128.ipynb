{
 "cells": [
  {
   "cell_type": "code",
   "execution_count": 1,
   "metadata": {
    "ExecuteTime": {
     "end_time": "2020-07-17T06:17:34.238935Z",
     "start_time": "2020-07-17T06:17:34.226973Z"
    }
   },
   "outputs": [],
   "source": [
    "# reload packages\n",
    "%load_ext autoreload\n",
    "%autoreload 2"
   ]
  },
  {
   "cell_type": "markdown",
   "metadata": {},
   "source": [
    "### Choose GPU (this may not be needed on your computer)"
   ]
  },
  {
   "cell_type": "code",
   "execution_count": 2,
   "metadata": {
    "ExecuteTime": {
     "end_time": "2020-07-17T06:17:34.247803Z",
     "start_time": "2020-07-17T06:17:34.239825Z"
    }
   },
   "outputs": [
    {
     "name": "stdout",
     "output_type": "stream",
     "text": [
      "env: CUDA_DEVICE_ORDER=PCI_BUS_ID\n",
      "env: CUDA_VISIBLE_DEVICES=1\n"
     ]
    }
   ],
   "source": [
    "%env CUDA_DEVICE_ORDER=PCI_BUS_ID\n",
    "%env CUDA_VISIBLE_DEVICES=1"
   ]
  },
  {
   "cell_type": "code",
   "execution_count": 3,
   "metadata": {
    "ExecuteTime": {
     "end_time": "2020-07-17T06:17:39.361786Z",
     "start_time": "2020-07-17T06:17:34.248771Z"
    }
   },
   "outputs": [],
   "source": [
    "import tensorflow as tf\n",
    "gpu_devices = tf.config.experimental.list_physical_devices('GPU')\n",
    "if len(gpu_devices)>0:\n",
    "    tf.config.experimental.set_memory_growth(gpu_devices[0], True)"
   ]
  },
  {
   "cell_type": "markdown",
   "metadata": {},
   "source": [
    "### load packages"
   ]
  },
  {
   "cell_type": "code",
   "execution_count": 4,
   "metadata": {
    "ExecuteTime": {
     "end_time": "2020-07-17T06:17:44.035580Z",
     "start_time": "2020-07-17T06:17:39.363718Z"
    }
   },
   "outputs": [
    {
     "name": "stderr",
     "output_type": "stream",
     "text": [
      "/mnt/cube/tsainbur/conda_envs/tpy3/lib/python3.6/site-packages/tqdm/autonotebook/__init__.py:14: TqdmExperimentalWarning: Using `tqdm.autonotebook.tqdm` in notebook mode. Use `tqdm.tqdm` instead to force console mode (e.g. in jupyter console)\n",
      "  \" (e.g. in jupyter console)\", TqdmExperimentalWarning)\n"
     ]
    }
   ],
   "source": [
    "from tfumap.umap import tfUMAP"
   ]
  },
  {
   "cell_type": "code",
   "execution_count": 5,
   "metadata": {
    "ExecuteTime": {
     "end_time": "2020-07-17T06:17:44.177083Z",
     "start_time": "2020-07-17T06:17:44.037328Z"
    }
   },
   "outputs": [],
   "source": [
    "import tensorflow as tf\n",
    "import numpy as np\n",
    "import matplotlib.pyplot as plt\n",
    "from tqdm.autonotebook import tqdm\n",
    "import umap\n",
    "import pandas as pd"
   ]
  },
  {
   "cell_type": "markdown",
   "metadata": {},
   "source": [
    "### Load dataset"
   ]
  },
  {
   "cell_type": "code",
   "execution_count": 6,
   "metadata": {
    "ExecuteTime": {
     "end_time": "2020-07-17T06:17:44.223132Z",
     "start_time": "2020-07-17T06:17:44.178395Z"
    }
   },
   "outputs": [],
   "source": [
    "from tfumap.paths import ensure_dir, MODEL_DIR, DATA_DIR"
   ]
  },
  {
   "cell_type": "code",
   "execution_count": 7,
   "metadata": {
    "ExecuteTime": {
     "end_time": "2020-07-17T06:17:44.531316Z",
     "start_time": "2020-07-17T06:17:44.224102Z"
    }
   },
   "outputs": [],
   "source": [
    "anno_df = pd.read_csv(\n",
    "    DATA_DIR / \"celeba\" / \"CelebAMask-HQ\" / \"CelebAMask-HQ-attribute-anno.txt\",\n",
    "    header=1,\n",
    "    delimiter=\" \",\n",
    ")\n",
    "anno_df[\"id\"] = [int(i[0].split(\".\")[0]) for i in anno_df.index.values]"
   ]
  },
  {
   "cell_type": "code",
   "execution_count": 8,
   "metadata": {
    "ExecuteTime": {
     "end_time": "2020-07-17T06:17:44.576086Z",
     "start_time": "2020-07-17T06:17:44.532458Z"
    }
   },
   "outputs": [
    {
     "data": {
      "text/plain": [
       "\"\\nfor idx, row in tqdm(anno_df.iterrows(), total = len(anno_df)):\\n    hair_idx = np.where(row[hair_types] == 1)[0]\\n    if len(hair_idx) == 1:\\n        anno_df.loc[idx, 'hair_category']= hair_idx[0]\\n    elif len(hair_idx) > 1: \\n        anno_df.loc[idx, 'hair_category']= -1\\n    else:\\n        anno_df.loc[idx, 'hair_category']= -2\\n\""
      ]
     },
     "execution_count": 8,
     "metadata": {},
     "output_type": "execute_result"
    }
   ],
   "source": [
    "hair_types = ['Black_Hair', 'Blond_Hair', 'Brown_Hair', 'Bald']\n",
    "# make a category for hair color\n",
    "anno_df['hair_category'] = None\n",
    "\"\"\"\n",
    "for idx, row in tqdm(anno_df.iterrows(), total = len(anno_df)):\n",
    "    hair_idx = np.where(row[hair_types] == 1)[0]\n",
    "    if len(hair_idx) == 1:\n",
    "        anno_df.loc[idx, 'hair_category']= hair_idx[0]\n",
    "    elif len(hair_idx) > 1: \n",
    "        anno_df.loc[idx, 'hair_category']= -1\n",
    "    else:\n",
    "        anno_df.loc[idx, 'hair_category']= -2\n",
    "\"\"\""
   ]
  },
  {
   "cell_type": "code",
   "execution_count": 9,
   "metadata": {
    "ExecuteTime": {
     "end_time": "2020-07-17T06:17:44.617846Z",
     "start_time": "2020-07-17T06:17:44.578189Z"
    }
   },
   "outputs": [
    {
     "name": "stdout",
     "output_type": "stream",
     "text": [
      "['5_o_Clock_Shadow', 'Arched_Eyebrows', 'Attractive', 'Bags_Under_Eyes', 'Bald', 'Bangs', 'Big_Lips', 'Big_Nose', 'Black_Hair', 'Blond_Hair', 'Blurry', 'Brown_Hair', 'Bushy_Eyebrows', 'Chubby', 'Double_Chin', 'Eyeglasses', 'Goatee', 'Gray_Hair', 'Heavy_Makeup', 'High_Cheekbones', 'Male', 'Mouth_Slightly_Open', 'Mustache', 'Narrow_Eyes', 'No_Beard', 'Oval_Face', 'Pale_Skin', 'Pointy_Nose', 'Receding_Hairline', 'Rosy_Cheeks', 'Sideburns', 'Smiling', 'Straight_Hair', 'Wavy_Hair', 'Wearing_Earrings', 'Wearing_Hat', 'Wearing_Lipstick', 'Wearing_Necklace', 'Wearing_Necktie', 'Young', 'id', 'hair_category']\n"
     ]
    }
   ],
   "source": [
    "print(list(anno_df.columns))"
   ]
  },
  {
   "cell_type": "code",
   "execution_count": 10,
   "metadata": {
    "ExecuteTime": {
     "end_time": "2020-07-17T06:17:45.474346Z",
     "start_time": "2020-07-17T06:17:44.619180Z"
    }
   },
   "outputs": [],
   "source": [
    "faces_128_df = pd.read_pickle(DATA_DIR / 'faces_128_full.pickle')"
   ]
  },
  {
   "cell_type": "code",
   "execution_count": 11,
   "metadata": {
    "ExecuteTime": {
     "end_time": "2020-07-17T06:17:50.119672Z",
     "start_time": "2020-07-17T06:17:45.475877Z"
    }
   },
   "outputs": [
    {
     "data": {
      "text/html": [
       "<div>\n",
       "<style scoped>\n",
       "    .dataframe tbody tr th:only-of-type {\n",
       "        vertical-align: middle;\n",
       "    }\n",
       "\n",
       "    .dataframe tbody tr th {\n",
       "        vertical-align: top;\n",
       "    }\n",
       "\n",
       "    .dataframe thead th {\n",
       "        text-align: right;\n",
       "    }\n",
       "</style>\n",
       "<table border=\"1\" class=\"dataframe\">\n",
       "  <thead>\n",
       "    <tr style=\"text-align: right;\">\n",
       "      <th></th>\n",
       "      <th>face</th>\n",
       "      <th>id</th>\n",
       "    </tr>\n",
       "  </thead>\n",
       "  <tbody>\n",
       "    <tr>\n",
       "      <th>0</th>\n",
       "      <td>[[[12, 12, 12], [12, 12, 12], [12, 12, 12], [1...</td>\n",
       "      <td>20142</td>\n",
       "    </tr>\n",
       "    <tr>\n",
       "      <th>1</th>\n",
       "      <td>[[[12, 12, 12], [12, 12, 12], [12, 12, 12], [1...</td>\n",
       "      <td>8126</td>\n",
       "    </tr>\n",
       "    <tr>\n",
       "      <th>2</th>\n",
       "      <td>[[[12, 12, 12], [12, 12, 12], [12, 12, 12], [1...</td>\n",
       "      <td>12655</td>\n",
       "    </tr>\n",
       "  </tbody>\n",
       "</table>\n",
       "</div>"
      ],
      "text/plain": [
       "                                                face     id\n",
       "0  [[[12, 12, 12], [12, 12, 12], [12, 12, 12], [1...  20142\n",
       "1  [[[12, 12, 12], [12, 12, 12], [12, 12, 12], [1...   8126\n",
       "2  [[[12, 12, 12], [12, 12, 12], [12, 12, 12], [1...  12655"
      ]
     },
     "execution_count": 11,
     "metadata": {},
     "output_type": "execute_result"
    }
   ],
   "source": [
    "faces_128_df[:3]"
   ]
  },
  {
   "cell_type": "code",
   "execution_count": 12,
   "metadata": {
    "ExecuteTime": {
     "end_time": "2020-07-17T06:17:50.461049Z",
     "start_time": "2020-07-17T06:17:50.121101Z"
    }
   },
   "outputs": [],
   "source": [
    "from skimage.transform import resize"
   ]
  },
  {
   "cell_type": "code",
   "execution_count": 13,
   "metadata": {
    "ExecuteTime": {
     "end_time": "2020-07-17T06:17:50.508324Z",
     "start_time": "2020-07-17T06:17:50.463995Z"
    }
   },
   "outputs": [],
   "source": [
    "#imgs_64 = [resize(i, (64, 64)) for i in tqdm(faces_128_df.face.values)]\n",
    "#faces_128_df['face'] = imgs_64"
   ]
  },
  {
   "cell_type": "code",
   "execution_count": 14,
   "metadata": {
    "ExecuteTime": {
     "end_time": "2020-07-17T06:17:54.651124Z",
     "start_time": "2020-07-17T06:17:50.509618Z"
    }
   },
   "outputs": [],
   "source": [
    "#imgs_64 = [resize(i, (64, 64)) for i in tqdm(faces_128_df.face.values)]\n",
    "#faces_128_df['face'] = imgs_64\n",
    "faces_128_df['face'] = faces_128_df.face.values / 256."
   ]
  },
  {
   "cell_type": "code",
   "execution_count": 15,
   "metadata": {
    "ExecuteTime": {
     "end_time": "2020-07-17T06:17:54.822565Z",
     "start_time": "2020-07-17T06:17:54.652880Z"
    }
   },
   "outputs": [
    {
     "data": {
      "text/plain": [
       "<matplotlib.image.AxesImage at 0x7f98ae706780>"
      ]
     },
     "execution_count": 15,
     "metadata": {},
     "output_type": "execute_result"
    },
    {
     "data": {
      "image/png": "[encoded data removed]",
      "text/plain": [
       "<Figure size 432x288 with 1 Axes>"
      ]
     },
     "metadata": {
      "needs_background": "light"
     },
     "output_type": "display_data"
    }
   ],
   "source": [
    "plt.imshow(faces_128_df['face'].values[0])"
   ]
  },
  {
   "cell_type": "code",
   "execution_count": 16,
   "metadata": {
    "ExecuteTime": {
     "end_time": "2020-07-17T06:17:54.979686Z",
     "start_time": "2020-07-17T06:17:54.824087Z"
    }
   },
   "outputs": [
    {
     "data": {
      "text/plain": [
       "<matplotlib.image.AxesImage at 0x7f98aea46e48>"
      ]
     },
     "execution_count": 16,
     "metadata": {},
     "output_type": "execute_result"
    },
    {
     "data": {
      "image/png": "[encoded data removed]",
      "text/plain": [
       "<Figure size 432x288 with 1 Axes>"
      ]
     },
     "metadata": {
      "needs_background": "light"
     },
     "output_type": "display_data"
    }
   ],
   "source": [
    "plt.imshow(np.fliplr(faces_128_df['face'].values[0]))"
   ]
  },
  {
   "cell_type": "code",
   "execution_count": 17,
   "metadata": {
    "ExecuteTime": {
     "end_time": "2020-07-17T06:17:55.039122Z",
     "start_time": "2020-07-17T06:17:54.981221Z"
    }
   },
   "outputs": [],
   "source": [
    "faces_128_df = pd.merge(faces_128_df, anno_df[['id', 'hair_category']], on=['id'])"
   ]
  },
  {
   "cell_type": "code",
   "execution_count": 18,
   "metadata": {
    "ExecuteTime": {
     "end_time": "2020-07-17T06:17:55.087312Z",
     "start_time": "2020-07-17T06:17:55.040808Z"
    }
   },
   "outputs": [
    {
     "data": {
      "text/plain": [
       "30000"
      ]
     },
     "execution_count": 18,
     "metadata": {},
     "output_type": "execute_result"
    }
   ],
   "source": [
    "len(faces_128_df)"
   ]
  },
  {
   "cell_type": "code",
   "execution_count": 19,
   "metadata": {
    "ExecuteTime": {
     "end_time": "2020-07-17T06:17:55.127926Z",
     "start_time": "2020-07-17T06:17:55.088805Z"
    }
   },
   "outputs": [],
   "source": [
    "import copy"
   ]
  },
  {
   "cell_type": "code",
   "execution_count": 20,
   "metadata": {
    "ExecuteTime": {
     "end_time": "2020-07-17T06:17:55.242803Z",
     "start_time": "2020-07-17T06:17:55.131194Z"
    }
   },
   "outputs": [
    {
     "data": {
      "application/vnd.jupyter.widget-view+json": {
       "model_id": "a700c64d128a4b96b59bbb148c4c9aa1",
       "version_major": 2,
       "version_minor": 0
      },
      "text/plain": [
       "HBox(children=(IntProgress(value=0, max=30000), HTML(value='')))"
      ]
     },
     "metadata": {},
     "output_type": "display_data"
    },
    {
     "name": "stdout",
     "output_type": "stream",
     "text": [
      "\n"
     ]
    }
   ],
   "source": [
    "flipped_faces = [np.fliplr(i) for i in tqdm(faces_128_df.face.values)]"
   ]
  },
  {
   "cell_type": "code",
   "execution_count": 21,
   "metadata": {
    "ExecuteTime": {
     "end_time": "2020-07-17T06:17:55.290690Z",
     "start_time": "2020-07-17T06:17:55.245209Z"
    }
   },
   "outputs": [],
   "source": [
    "faces_128_df_flipped = copy.deepcopy(faces_128_df)"
   ]
  },
  {
   "cell_type": "code",
   "execution_count": 22,
   "metadata": {
    "ExecuteTime": {
     "end_time": "2020-07-17T06:17:55.332729Z",
     "start_time": "2020-07-17T06:17:55.292091Z"
    }
   },
   "outputs": [],
   "source": [
    "faces_128_df_flipped['faces'] = flipped_faces"
   ]
  },
  {
   "cell_type": "code",
   "execution_count": 23,
   "metadata": {
    "ExecuteTime": {
     "end_time": "2020-07-17T06:17:55.389449Z",
     "start_time": "2020-07-17T06:17:55.334089Z"
    }
   },
   "outputs": [
    {
     "name": "stderr",
     "output_type": "stream",
     "text": [
      "/mnt/cube/tsainbur/conda_envs/tpy3/lib/python3.6/site-packages/ipykernel_launcher.py:1: FutureWarning: Sorting because non-concatenation axis is not aligned. A future version\n",
      "of pandas will change to not sort by default.\n",
      "\n",
      "To accept the future behavior, pass 'sort=False'.\n",
      "\n",
      "To retain the current behavior and silence the warning, pass 'sort=True'.\n",
      "\n",
      "  \"\"\"Entry point for launching an IPython kernel.\n"
     ]
    }
   ],
   "source": [
    "faces_128_df = pd.concat([faces_128_df, faces_128_df_flipped]).reset_index()"
   ]
  },
  {
   "cell_type": "code",
   "execution_count": 24,
   "metadata": {
    "ExecuteTime": {
     "end_time": "2020-07-17T06:17:55.442846Z",
     "start_time": "2020-07-17T06:17:55.391145Z"
    }
   },
   "outputs": [],
   "source": [
    "faces_128_df['subset'] = 'train'\n",
    "faces_128_df.loc[0:1000, 'subset'] = 'valid'\n",
    "faces_128_df.loc[1000:1999, 'subset'] = 'test'"
   ]
  },
  {
   "cell_type": "code",
   "execution_count": 25,
   "metadata": {
    "ExecuteTime": {
     "end_time": "2020-07-17T06:18:00.226570Z",
     "start_time": "2020-07-17T06:17:55.444391Z"
    }
   },
   "outputs": [
    {
     "data": {
      "text/html": [
       "<div>\n",
       "<style scoped>\n",
       "    .dataframe tbody tr th:only-of-type {\n",
       "        vertical-align: middle;\n",
       "    }\n",
       "\n",
       "    .dataframe tbody tr th {\n",
       "        vertical-align: top;\n",
       "    }\n",
       "\n",
       "    .dataframe thead th {\n",
       "        text-align: right;\n",
       "    }\n",
       "</style>\n",
       "<table border=\"1\" class=\"dataframe\">\n",
       "  <thead>\n",
       "    <tr style=\"text-align: right;\">\n",
       "      <th></th>\n",
       "      <th>index</th>\n",
       "      <th>face</th>\n",
       "      <th>faces</th>\n",
       "      <th>hair_category</th>\n",
       "      <th>id</th>\n",
       "      <th>subset</th>\n",
       "    </tr>\n",
       "  </thead>\n",
       "  <tbody>\n",
       "    <tr>\n",
       "      <th>0</th>\n",
       "      <td>0</td>\n",
       "      <td>[[[0.046875, 0.046875, 0.046875], [0.046875, 0...</td>\n",
       "      <td>NaN</td>\n",
       "      <td>None</td>\n",
       "      <td>20142</td>\n",
       "      <td>valid</td>\n",
       "    </tr>\n",
       "    <tr>\n",
       "      <th>1</th>\n",
       "      <td>1</td>\n",
       "      <td>[[[0.046875, 0.046875, 0.046875], [0.046875, 0...</td>\n",
       "      <td>NaN</td>\n",
       "      <td>None</td>\n",
       "      <td>8126</td>\n",
       "      <td>valid</td>\n",
       "    </tr>\n",
       "    <tr>\n",
       "      <th>2</th>\n",
       "      <td>2</td>\n",
       "      <td>[[[0.046875, 0.046875, 0.046875], [0.046875, 0...</td>\n",
       "      <td>NaN</td>\n",
       "      <td>None</td>\n",
       "      <td>12655</td>\n",
       "      <td>valid</td>\n",
       "    </tr>\n",
       "  </tbody>\n",
       "</table>\n",
       "</div>"
      ],
      "text/plain": [
       "   index                                               face faces  \\\n",
       "0      0  [[[0.046875, 0.046875, 0.046875], [0.046875, 0...   NaN   \n",
       "1      1  [[[0.046875, 0.046875, 0.046875], [0.046875, 0...   NaN   \n",
       "2      2  [[[0.046875, 0.046875, 0.046875], [0.046875, 0...   NaN   \n",
       "\n",
       "  hair_category     id subset  \n",
       "0          None  20142  valid  \n",
       "1          None   8126  valid  \n",
       "2          None  12655  valid  "
      ]
     },
     "execution_count": 25,
     "metadata": {},
     "output_type": "execute_result"
    }
   ],
   "source": [
    "faces_128_df[:3]"
   ]
  },
  {
   "cell_type": "code",
   "execution_count": 26,
   "metadata": {
    "ExecuteTime": {
     "end_time": "2020-07-17T06:18:03.426431Z",
     "start_time": "2020-07-17T06:18:00.228266Z"
    }
   },
   "outputs": [
    {
     "data": {
      "text/html": [
       "<div>\n",
       "<style scoped>\n",
       "    .dataframe tbody tr th:only-of-type {\n",
       "        vertical-align: middle;\n",
       "    }\n",
       "\n",
       "    .dataframe tbody tr th {\n",
       "        vertical-align: top;\n",
       "    }\n",
       "\n",
       "    .dataframe thead th {\n",
       "        text-align: right;\n",
       "    }\n",
       "</style>\n",
       "<table border=\"1\" class=\"dataframe\">\n",
       "  <thead>\n",
       "    <tr style=\"text-align: right;\">\n",
       "      <th></th>\n",
       "      <th>index</th>\n",
       "      <th>face</th>\n",
       "      <th>faces</th>\n",
       "      <th>hair_category</th>\n",
       "      <th>id</th>\n",
       "      <th>subset</th>\n",
       "    </tr>\n",
       "  </thead>\n",
       "  <tbody>\n",
       "    <tr>\n",
       "      <th>59999</th>\n",
       "      <td>29999</td>\n",
       "      <td>[[[0.046875, 0.046875, 0.046875], [0.046875, 0...</td>\n",
       "      <td>[[[0.046875, 0.046875, 0.046875], [0.046875, 0...</td>\n",
       "      <td>None</td>\n",
       "      <td>17714</td>\n",
       "      <td>train</td>\n",
       "    </tr>\n",
       "  </tbody>\n",
       "</table>\n",
       "</div>"
      ],
      "text/plain": [
       "       index                                               face  \\\n",
       "59999  29999  [[[0.046875, 0.046875, 0.046875], [0.046875, 0...   \n",
       "\n",
       "                                                   faces hair_category     id  \\\n",
       "59999  [[[0.046875, 0.046875, 0.046875], [0.046875, 0...          None  17714   \n",
       "\n",
       "      subset  \n",
       "59999  train  "
      ]
     },
     "execution_count": 26,
     "metadata": {},
     "output_type": "execute_result"
    }
   ],
   "source": [
    "faces_128_df[-1:]"
   ]
  },
  {
   "cell_type": "code",
   "execution_count": 27,
   "metadata": {
    "ExecuteTime": {
     "end_time": "2020-07-17T06:18:03.631059Z",
     "start_time": "2020-07-17T06:18:03.428103Z"
    }
   },
   "outputs": [
    {
     "data": {
      "text/plain": [
       "{}"
      ]
     },
     "execution_count": 27,
     "metadata": {},
     "output_type": "execute_result"
    }
   ],
   "source": [
    "{hair_types[int(i)]:np.sum(faces_128_df['hair_category'] == i) for i in faces_128_df.hair_category.unique() if i in [0, 1,2,3,4]}"
   ]
  },
  {
   "cell_type": "code",
   "execution_count": 28,
   "metadata": {
    "ExecuteTime": {
     "end_time": "2020-07-17T06:18:03.684513Z",
     "start_time": "2020-07-17T06:18:03.632427Z"
    }
   },
   "outputs": [],
   "source": [
    "Y_train = np.array(list(faces_128_df.hair_category.values[faces_128_df.subset == 'train'])).astype('float32')\n",
    "Y_valid = np.array(list(faces_128_df.hair_category.values[faces_128_df.subset == 'valid'])).astype('float32')\n",
    "Y_test = np.array(list(faces_128_df.hair_category.values[faces_128_df.subset == 'test'])).astype('float32')"
   ]
  },
  {
   "cell_type": "code",
   "execution_count": 29,
   "metadata": {
    "ExecuteTime": {
     "end_time": "2020-07-17T06:18:08.593645Z",
     "start_time": "2020-07-17T06:18:03.686675Z"
    }
   },
   "outputs": [],
   "source": [
    "X_train = np.array(list(faces_128_df.face.values[faces_128_df.subset == 'train'])) #/ 255.\n",
    "X_valid = np.array(list(faces_128_df.face.values[faces_128_df.subset == 'valid']))# / 255.\n",
    "X_test = np.array(list(faces_128_df.face.values[faces_128_df.subset == 'test'])) #/ 255."
   ]
  },
  {
   "cell_type": "code",
   "execution_count": 30,
   "metadata": {
    "ExecuteTime": {
     "end_time": "2020-07-17T06:18:12.201821Z",
     "start_time": "2020-07-17T06:18:08.595350Z"
    }
   },
   "outputs": [
    {
     "data": {
      "text/plain": [
       "(58000, 128, 128, 3)"
      ]
     },
     "execution_count": 30,
     "metadata": {},
     "output_type": "execute_result"
    }
   ],
   "source": [
    "np.array(list(faces_128_df.face.values[faces_128_df.subset == 'train'])).shape"
   ]
  },
  {
   "cell_type": "code",
   "execution_count": 31,
   "metadata": {
    "ExecuteTime": {
     "end_time": "2020-07-17T06:18:12.245738Z",
     "start_time": "2020-07-17T06:18:12.203258Z"
    }
   },
   "outputs": [],
   "source": [
    "X_train_flat = X_train.reshape((len(X_train), np.product(np.shape(X_train)[1:])))"
   ]
  },
  {
   "cell_type": "code",
   "execution_count": 32,
   "metadata": {
    "ExecuteTime": {
     "end_time": "2020-07-17T06:18:12.392903Z",
     "start_time": "2020-07-17T06:18:12.247064Z"
    }
   },
   "outputs": [
    {
     "data": {
      "text/plain": [
       "<matplotlib.image.AxesImage at 0x7f98ae3cfe80>"
      ]
     },
     "execution_count": 32,
     "metadata": {},
     "output_type": "execute_result"
    },
    {
     "data": {
      "image/png": "[encoded data removed]",
      "text/plain": [
       "<Figure size 432x288 with 1 Axes>"
      ]
     },
     "metadata": {
      "needs_background": "light"
     },
     "output_type": "display_data"
    }
   ],
   "source": [
    "plt.imshow(X_train[0])"
   ]
  },
  {
   "cell_type": "code",
   "execution_count": 33,
   "metadata": {
    "ExecuteTime": {
     "end_time": "2020-07-17T06:18:12.436968Z",
     "start_time": "2020-07-17T06:18:12.394273Z"
    }
   },
   "outputs": [
    {
     "data": {
      "text/plain": [
       "((58000, 49152), (1000, 128, 128, 3), (1000, 128, 128, 3))"
      ]
     },
     "execution_count": 33,
     "metadata": {},
     "output_type": "execute_result"
    }
   ],
   "source": [
    "X_train_flat.shape, X_valid.shape, X_test.shape"
   ]
  },
  {
   "cell_type": "markdown",
   "metadata": {},
   "source": [
    "### define networks"
   ]
  },
  {
   "cell_type": "code",
   "execution_count": 34,
   "metadata": {
    "ExecuteTime": {
     "end_time": "2020-07-17T06:18:12.474329Z",
     "start_time": "2020-07-17T06:18:12.438281Z"
    }
   },
   "outputs": [],
   "source": [
    "dims = IMAGE_SHAPE = (128,128,3) "
   ]
  },
  {
   "cell_type": "markdown",
   "metadata": {},
   "source": [
    "### Keras network"
   ]
  },
  {
   "cell_type": "code",
   "execution_count": 35,
   "metadata": {
    "ExecuteTime": {
     "end_time": "2020-07-17T06:18:12.508970Z",
     "start_time": "2020-07-17T06:18:12.475571Z"
    }
   },
   "outputs": [],
   "source": [
    "#https://github.com/shaoanlu/MUNIT-keras/blob/master/MUNIT_keras.ipynb"
   ]
  },
  {
   "cell_type": "code",
   "execution_count": 36,
   "metadata": {
    "ExecuteTime": {
     "end_time": "2020-07-17T06:18:12.544920Z",
     "start_time": "2020-07-17T06:18:12.510215Z"
    }
   },
   "outputs": [],
   "source": [
    "# Architecture configs\n",
    "IMAGE_SHAPE = (128,128,3)  # (128, 128, 3)\n",
    "nc_in = 3 # number of input channels of generators\n",
    "nc_D_inp = 3 # number of input channels of discriminators\n",
    "n_dim_style = 8\n",
    "n_resblocks = 4 # number of residual blocks in decoder and content encoder\n",
    "n_adain = 2*n_resblocks\n",
    "n_dim_adain = 256\n",
    "nc_base = 64 # Number of channels of the first conv2d of encoder\n",
    "n_downscale_content = 4 # Number of content encoder dowscaling\n",
    "n_dowscale_style = 4 # Number of style encoder dowscaling\n",
    "use_groupnorm = False # else use_layer norm in upscaling blocks\n",
    "w_l2 = 1e-4 # L2 weight regularization\n",
    "conv_init = 'he_normal'"
   ]
  },
  {
   "cell_type": "code",
   "execution_count": 37,
   "metadata": {
    "ExecuteTime": {
     "end_time": "2020-07-17T06:18:12.583955Z",
     "start_time": "2020-07-17T06:18:12.546136Z"
    }
   },
   "outputs": [],
   "source": [
    "from tensorflow.keras.models import Sequential, Model\n",
    "#from tensorflow.keras.layers import *\n",
    "from tensorflow.keras.layers import LeakyReLU\n",
    "from tensorflow.keras.activations import relu\n",
    "from tensorflow.keras.initializers import RandomNormal\n",
    "#from tensorflow.keras.applications import *\n",
    "from tensorflow.keras.optimizers import Adam\n",
    "from tensorflow.keras import Input\n",
    "from tensorflow.keras import regularizers"
   ]
  },
  {
   "cell_type": "code",
   "execution_count": 38,
   "metadata": {
    "ExecuteTime": {
     "end_time": "2020-07-17T06:18:12.778904Z",
     "start_time": "2020-07-17T06:18:12.585214Z"
    }
   },
   "outputs": [],
   "source": [
    "from tensorflow_addons.layers import InstanceNormalization, GroupNormalization"
   ]
  },
  {
   "cell_type": "code",
   "execution_count": 39,
   "metadata": {
    "ExecuteTime": {
     "end_time": "2020-07-17T06:18:12.820088Z",
     "start_time": "2020-07-17T06:18:12.780372Z"
    }
   },
   "outputs": [],
   "source": [
    "from tensorflow.keras.layers import (\n",
    "    Lambda,\n",
    "    Conv2D,\n",
    "    GlobalAveragePooling2D,\n",
    "    Dense,\n",
    "    Reshape,\n",
    "    Add,\n",
    "    UpSampling2D,\n",
    "    Flatten,\n",
    ")"
   ]
  },
  {
   "cell_type": "code",
   "execution_count": 40,
   "metadata": {
    "ExecuteTime": {
     "end_time": "2020-07-17T06:18:12.867698Z",
     "start_time": "2020-07-17T06:18:12.821323Z"
    }
   },
   "outputs": [],
   "source": [
    "def ReflectPadding2D(x, pad=1):\n",
    "    x = Lambda(\n",
    "        lambda x: tf.pad(x, [[0, 0], [pad, pad], [pad, pad], [0, 0]], mode=\"REFLECT\")\n",
    "    )(x)\n",
    "    return x\n",
    "\n",
    "\n",
    "def conv_block(input_tensor, f, k=3, strides=2, use_norm=False):\n",
    "    x = input_tensor\n",
    "    x = ReflectPadding2D(x)\n",
    "    x = Conv2D(\n",
    "        f,\n",
    "        kernel_size=k,\n",
    "        strides=strides,\n",
    "        kernel_initializer=conv_init,\n",
    "        kernel_regularizer=regularizers.l2(w_l2),\n",
    "        use_bias=(not use_norm),\n",
    "        padding=\"valid\",\n",
    "    )(x)\n",
    "    if use_norm:\n",
    "        x = InstanceNormalization(epsilon=1e-5)(x)\n",
    "    x = relu(x)\n",
    "    return x\n",
    "\n",
    "\n",
    "def conv_block_d(input_tensor, f, use_norm=False):\n",
    "    x = input_tensor\n",
    "    x = ReflectPadding2D(x, 2)\n",
    "    x = Conv2D(\n",
    "        f,\n",
    "        kernel_size=4,\n",
    "        strides=2,\n",
    "        kernel_initializer=conv_init_dis,\n",
    "        kernel_regularizer=regularizers.l2(w_l2),\n",
    "        use_bias=(not use_norm),\n",
    "        padding=\"valid\",\n",
    "    )(x)\n",
    "    if use_norm:\n",
    "        x = InstanceNormalization(epsilon=1e-5)(x)\n",
    "    x = LeakyReLU(alpha=0.2)(x)\n",
    "    return x\n",
    "\n",
    "\n",
    "def upscale_nn(inp, f, use_norm=False):\n",
    "    x = inp\n",
    "    x = UpSampling2D()(x)\n",
    "    x = ReflectPadding2D(x, 2)\n",
    "    x = Conv2D(\n",
    "        f,\n",
    "        kernel_size=5,\n",
    "        kernel_initializer=conv_init,\n",
    "        kernel_regularizer=regularizers.l2(w_l2),\n",
    "        use_bias=(not use_norm),\n",
    "        padding=\"valid\",\n",
    "    )(x)\n",
    "    if use_norm:\n",
    "        if use_groupnorm:\n",
    "            x = GroupNormalization(groups=32)(x)\n",
    "        else:\n",
    "            x = GroupNormalization(groups=f)(x)  # group=f equivalant to layer norm\n",
    "    x = relu(x)\n",
    "    return x"
   ]
  },
  {
   "cell_type": "code",
   "execution_count": 41,
   "metadata": {
    "ExecuteTime": {
     "end_time": "2020-07-17T06:18:12.911218Z",
     "start_time": "2020-07-17T06:18:12.869176Z"
    }
   },
   "outputs": [],
   "source": [
    "def Encoder_style_MUNIT(\n",
    "    nc_in=3,\n",
    "    input_size=IMAGE_SHAPE[0],\n",
    "    n_dim_adain=256,\n",
    "    n_dim_style=n_dim_style,\n",
    "    nc_base=nc_base,\n",
    "    n_dowscale_style=n_dowscale_style,\n",
    "):\n",
    "    # Style encoder architecture\n",
    "    inp = Input(shape=(input_size, input_size, nc_in))\n",
    "    x = ReflectPadding2D(inp, 3)\n",
    "    x = Conv2D(\n",
    "        64,\n",
    "        kernel_size=7,\n",
    "        kernel_initializer=conv_init,\n",
    "        kernel_regularizer=regularizers.l2(w_l2),\n",
    "        use_bias=True,\n",
    "        padding=\"valid\",\n",
    "    )(x)\n",
    "    x = relu(x)\n",
    "\n",
    "    dim = 1\n",
    "    for i in range(n_dowscale_style):\n",
    "        dim = 4 if dim >= 4 else dim * 2\n",
    "        x = conv_block(x, dim * nc_base)\n",
    "    x = GlobalAveragePooling2D()(x)\n",
    "    style_code = Dense(n_dim_style, kernel_regularizer=regularizers.l2(w_l2))(\n",
    "        x\n",
    "    )  # Style code\n",
    "    return Model(inp, style_code)"
   ]
  },
  {
   "cell_type": "code",
   "execution_count": 42,
   "metadata": {
    "ExecuteTime": {
     "end_time": "2020-07-17T06:18:12.953461Z",
     "start_time": "2020-07-17T06:18:12.912472Z"
    }
   },
   "outputs": [],
   "source": [
    "def Encoder_content_MUNIT(\n",
    "    nc_in=3,\n",
    "    input_size=IMAGE_SHAPE[0],\n",
    "    n_downscale_content=n_downscale_content,\n",
    "    nc_base=nc_base,\n",
    "):\n",
    "    # Content encoder architecture\n",
    "    def res_block_content(input_tensor, f):\n",
    "        x = input_tensor\n",
    "        x = ReflectPadding2D(x)\n",
    "        x = Conv2D(\n",
    "            f,\n",
    "            kernel_size=3,\n",
    "            kernel_initializer=conv_init,\n",
    "            kernel_regularizer=regularizers.l2(w_l2),\n",
    "            use_bias=False,\n",
    "            padding=\"valid\",\n",
    "        )(x)\n",
    "        x = InstanceNormalization(epsilon=1e-5)(x)\n",
    "        x = relu(x)\n",
    "        x = ReflectPadding2D(x)\n",
    "        x = Conv2D(\n",
    "            f,\n",
    "            kernel_size=3,\n",
    "            kernel_initializer=conv_init,\n",
    "            kernel_regularizer=regularizers.l2(w_l2),\n",
    "            use_bias=False,\n",
    "            padding=\"valid\",\n",
    "        )(x)\n",
    "        x = InstanceNormalization(epsilon=1e-5)(x)\n",
    "        x = Add()([x, input_tensor])\n",
    "        return x\n",
    "\n",
    "    inp = Input(shape=(input_size, input_size, nc_in))\n",
    "    x = ReflectPadding2D(inp, 3)\n",
    "    x = Conv2D(\n",
    "        64,\n",
    "        kernel_size=7,\n",
    "        kernel_initializer=conv_init,\n",
    "        kernel_regularizer=regularizers.l2(w_l2),\n",
    "        use_bias=False,\n",
    "        padding=\"valid\",\n",
    "    )(x)\n",
    "    x = InstanceNormalization()(x)  #\n",
    "    x = relu(x)  #\n",
    "\n",
    "    dim = 1\n",
    "    ds = 2 ** n_downscale_content\n",
    "    for i in range(n_downscale_content):\n",
    "        dim = 4 if dim >= 4 else dim * 2\n",
    "        x = conv_block(x, dim * nc_base, use_norm=True)\n",
    "    for i in range(n_resblocks):\n",
    "        x = res_block_content(x, dim * nc_base)\n",
    "    content_code = x  # Content code\n",
    "    return Model(inp, content_code)"
   ]
  },
  {
   "cell_type": "code",
   "execution_count": 43,
   "metadata": {
    "ExecuteTime": {
     "end_time": "2020-07-17T06:18:13.005266Z",
     "start_time": "2020-07-17T06:18:12.954742Z"
    }
   },
   "outputs": [],
   "source": [
    "##################################################################################\n",
    "# MUNIT Model Architecture, Decoder\n",
    "##################################################################################\n",
    "def MLP_MUNIT(\n",
    "    n_dim_style=n_dim_style, n_dim_adain=n_dim_adain, n_blk=3, n_adain=2 * n_resblocks\n",
    "):\n",
    "    # MLP for AdaIN parameters\n",
    "    inp_style_code = Input(shape=(n_dim_style,))\n",
    "\n",
    "    adain_params = Dense(\n",
    "        n_dim_adain, kernel_regularizer=regularizers.l2(w_l2), activation=\"relu\"\n",
    "    )(inp_style_code)\n",
    "    for i in range(n_blk - 2):\n",
    "        adain_params = Dense(\n",
    "            n_dim_adain, kernel_regularizer=regularizers.l2(w_l2), activation=\"relu\"\n",
    "        )(adain_params)\n",
    "    adain_params = Dense(\n",
    "        2 * n_adain * n_dim_adain, kernel_regularizer=regularizers.l2(w_l2)\n",
    "    )(\n",
    "        adain_params\n",
    "    )  # No output activation\n",
    "    return Model(inp_style_code, [adain_params])\n",
    "\n",
    "\n",
    "def Decoder_MUNIT(\n",
    "    nc_in=256,\n",
    "    input_size=IMAGE_SHAPE[0] // (2 ** n_downscale_content),\n",
    "    n_dim_adain=256,\n",
    "    n_resblocks=n_resblocks,\n",
    "):\n",
    "    def op_adain(inp):\n",
    "        x = inp[0]\n",
    "        mean, var = tf.nn.moments(x, [1, 2], keepdims=True)\n",
    "        adain_bias = inp[1]\n",
    "        adain_bias = Reshape((1, 1, n_dim_adain))(adain_bias)\n",
    "        adain_weight = inp[2]\n",
    "        adain_weight = Reshape((1, 1, n_dim_adain))(adain_weight)\n",
    "        out = tf.nn.batch_normalization(\n",
    "            x, mean, var, adain_bias, adain_weight, variance_epsilon=1e-7\n",
    "        )\n",
    "        return out\n",
    "\n",
    "    def AdaptiveInstanceNorm2d(inp, adain_params, idx_adain):\n",
    "        assert inp.shape[-1] == n_dim_adain\n",
    "        x = inp\n",
    "        idx_head = idx_adain * 2 * n_dim_adain\n",
    "        adain_weight = Lambda(lambda x: x[:, idx_head : idx_head + n_dim_adain])(\n",
    "            adain_params\n",
    "        )\n",
    "        adain_bias = Lambda(\n",
    "            lambda x: x[:, idx_head + n_dim_adain : idx_head + 2 * n_dim_adain]\n",
    "        )(adain_params)\n",
    "        out = Lambda(op_adain)([x, adain_bias, adain_weight])\n",
    "        return out\n",
    "\n",
    "    def res_block_adain(inp, f, adain_params, idx_adain):\n",
    "        x = inp\n",
    "        x = ReflectPadding2D(x)\n",
    "        x = Conv2D(\n",
    "            f,\n",
    "            kernel_size=3,\n",
    "            kernel_initializer=conv_init,\n",
    "            kernel_regularizer=regularizers.l2(w_l2),\n",
    "            bias_regularizer=regularizers.l2(w_l2),\n",
    "            use_bias=False,\n",
    "            padding=\"valid\",\n",
    "        )(x)\n",
    "        x = Lambda(lambda x: AdaptiveInstanceNorm2d(x[0], x[1], idx_adain))(\n",
    "            [x, adain_params]\n",
    "        )\n",
    "        x = relu(x)\n",
    "        x = ReflectPadding2D(x)\n",
    "        x = Conv2D(\n",
    "            f,\n",
    "            kernel_size=3,\n",
    "            kernel_initializer=conv_init,\n",
    "            kernel_regularizer=regularizers.l2(w_l2),\n",
    "            bias_regularizer=regularizers.l2(w_l2),\n",
    "            use_bias=False,\n",
    "            padding=\"valid\",\n",
    "        )(x)\n",
    "        x = Lambda(lambda x: AdaptiveInstanceNorm2d(x[0], x[1], idx_adain + 1))(\n",
    "            [x, adain_params]\n",
    "        )\n",
    "\n",
    "        x = Add()([x, inp])\n",
    "        return x\n",
    "\n",
    "    inp_style = Input((n_dim_style,))\n",
    "    style_code = inp_style\n",
    "    mlp = MLP_MUNIT()\n",
    "    adain_params = mlp(style_code)\n",
    "\n",
    "    inp_content = Input(shape=(input_size, input_size, nc_in))\n",
    "    content_code = inp_content\n",
    "    x = inp_content\n",
    "\n",
    "    for i in range(n_resblocks):\n",
    "        x = res_block_adain(x, nc_in, adain_params, 2 * i)\n",
    "\n",
    "    dim = 1\n",
    "    for i in range(n_downscale_content):\n",
    "        dim = dim if nc_in // dim <= 64 else dim * 2\n",
    "        # Note: original MUNIT uses layer norm instead of group norm in upscale blocks\n",
    "        x = upscale_nn(x, nc_in // dim, use_norm=True)\n",
    "    x = ReflectPadding2D(x, 3)\n",
    "    out = Conv2D(\n",
    "        3,\n",
    "        kernel_size=7,\n",
    "        kernel_initializer=conv_init,\n",
    "        kernel_regularizer=regularizers.l2(w_l2),\n",
    "        padding=\"valid\",\n",
    "        activation=\"tanh\",\n",
    "    )(x)\n",
    "    return Model([inp_style, inp_content], [out, style_code, content_code])"
   ]
  },
  {
   "cell_type": "code",
   "execution_count": 44,
   "metadata": {
    "ExecuteTime": {
     "end_time": "2020-07-17T06:18:13.043095Z",
     "start_time": "2020-07-17T06:18:13.006584Z"
    }
   },
   "outputs": [
    {
     "data": {
      "text/plain": [
       "(58000, 128, 128, 3)"
      ]
     },
     "execution_count": 44,
     "metadata": {},
     "output_type": "execute_result"
    }
   ],
   "source": [
    "X_train.shape"
   ]
  },
  {
   "cell_type": "code",
   "execution_count": 45,
   "metadata": {
    "ExecuteTime": {
     "end_time": "2020-07-17T06:18:15.111691Z",
     "start_time": "2020-07-17T06:18:13.044289Z"
    }
   },
   "outputs": [],
   "source": [
    "encoder_style = Encoder_style_MUNIT()\n",
    "encoder_content = Encoder_content_MUNIT()\n",
    "decoder_net = Decoder_MUNIT()"
   ]
  },
  {
   "cell_type": "code",
   "execution_count": 46,
   "metadata": {
    "ExecuteTime": {
     "end_time": "2020-07-17T06:18:16.957064Z",
     "start_time": "2020-07-17T06:18:15.113145Z"
    }
   },
   "outputs": [
    {
     "name": "stderr",
     "output_type": "stream",
     "text": [
      "WARNING: Logging before flag parsing goes to stderr.\n",
      "W0716 23:18:15.157334 140297761273664 base_layer.py:1790] Layer lambda_5 is casting an input tensor from dtype float64 to the layer's dtype of float32, which is new behavior in TensorFlow 2.  The layer has dtype float32 because it's dtype defaults to floatx.\n",
      "\n",
      "If you intended to run this layer in float32, you can safely ignore this warning. If in doubt, this warning is likely only an issue if you are porting a TensorFlow 1.X model to TensorFlow 2.\n",
      "\n",
      "To change all layers to have dtype float64 by default, call `tf.keras.backend.set_floatx('float64')`. To change just this layer, pass dtype='float64' to the layer constructor. If you are the author of this layer, you can disable autocasting by passing autocast=False to the base Layer constructor.\n",
      "\n"
     ]
    },
    {
     "data": {
      "text/plain": [
       "TensorShape([5, 8, 8, 256])"
      ]
     },
     "execution_count": 46,
     "metadata": {},
     "output_type": "execute_result"
    }
   ],
   "source": [
    "encoder_content(X_train[:5]).shape"
   ]
  },
  {
   "cell_type": "code",
   "execution_count": 47,
   "metadata": {
    "ExecuteTime": {
     "end_time": "2020-07-17T06:18:17.029672Z",
     "start_time": "2020-07-17T06:18:16.958643Z"
    }
   },
   "outputs": [
    {
     "name": "stderr",
     "output_type": "stream",
     "text": [
      "W0716 23:18:17.000091 140297761273664 base_layer.py:1790] Layer lambda is casting an input tensor from dtype float64 to the layer's dtype of float32, which is new behavior in TensorFlow 2.  The layer has dtype float32 because it's dtype defaults to floatx.\n",
      "\n",
      "If you intended to run this layer in float32, you can safely ignore this warning. If in doubt, this warning is likely only an issue if you are porting a TensorFlow 1.X model to TensorFlow 2.\n",
      "\n",
      "To change all layers to have dtype float64 by default, call `tf.keras.backend.set_floatx('float64')`. To change just this layer, pass dtype='float64' to the layer constructor. If you are the author of this layer, you can disable autocasting by passing autocast=False to the base Layer constructor.\n",
      "\n"
     ]
    },
    {
     "data": {
      "text/plain": [
       "TensorShape([5, 8])"
      ]
     },
     "execution_count": 47,
     "metadata": {},
     "output_type": "execute_result"
    }
   ],
   "source": [
    "encoder_style(X_train[:5]).shape"
   ]
  },
  {
   "cell_type": "code",
   "execution_count": 48,
   "metadata": {
    "ExecuteTime": {
     "end_time": "2020-07-17T06:18:17.369054Z",
     "start_time": "2020-07-17T06:18:17.031086Z"
    }
   },
   "outputs": [],
   "source": [
    "out, style_code, content_code = decoder_net([encoder_style(X_train[:5]), encoder_content(X_train[:5])])"
   ]
  },
  {
   "cell_type": "code",
   "execution_count": 49,
   "metadata": {
    "ExecuteTime": {
     "end_time": "2020-07-17T06:18:17.414203Z",
     "start_time": "2020-07-17T06:18:17.370610Z"
    }
   },
   "outputs": [
    {
     "data": {
      "text/plain": [
       "TensorShape([5, 128, 128, 3])"
      ]
     },
     "execution_count": 49,
     "metadata": {},
     "output_type": "execute_result"
    }
   ],
   "source": [
    "out.shape"
   ]
  },
  {
   "cell_type": "code",
   "execution_count": 50,
   "metadata": {
    "ExecuteTime": {
     "end_time": "2020-07-17T06:18:17.459492Z",
     "start_time": "2020-07-17T06:18:17.415389Z"
    }
   },
   "outputs": [
    {
     "data": {
      "text/plain": [
       "TensorShape([5, 8])"
      ]
     },
     "execution_count": 50,
     "metadata": {},
     "output_type": "execute_result"
    }
   ],
   "source": [
    "style_code.shape"
   ]
  },
  {
   "cell_type": "code",
   "execution_count": 51,
   "metadata": {
    "ExecuteTime": {
     "end_time": "2020-07-17T06:18:17.499705Z",
     "start_time": "2020-07-17T06:18:17.460856Z"
    }
   },
   "outputs": [
    {
     "data": {
      "text/plain": [
       "TensorShape([5, 8, 8, 256])"
      ]
     },
     "execution_count": 51,
     "metadata": {},
     "output_type": "execute_result"
    }
   ],
   "source": [
    "content_code.shape"
   ]
  },
  {
   "cell_type": "code",
   "execution_count": 52,
   "metadata": {
    "ExecuteTime": {
     "end_time": "2020-07-17T06:18:17.538021Z",
     "start_time": "2020-07-17T06:18:17.500921Z"
    }
   },
   "outputs": [
    {
     "data": {
      "text/plain": [
       "TensorShape([5, 16384])"
      ]
     },
     "execution_count": 52,
     "metadata": {},
     "output_type": "execute_result"
    }
   ],
   "source": [
    "Flatten()(content_code).shape"
   ]
  },
  {
   "cell_type": "markdown",
   "metadata": {},
   "source": [
    "### Create encoder and decoder"
   ]
  },
  {
   "cell_type": "code",
   "execution_count": 53,
   "metadata": {
    "ExecuteTime": {
     "end_time": "2020-07-17T06:18:17.577182Z",
     "start_time": "2020-07-17T06:18:17.539231Z"
    }
   },
   "outputs": [],
   "source": [
    "input_img = Input(shape=IMAGE_SHAPE)"
   ]
  },
  {
   "cell_type": "code",
   "execution_count": 54,
   "metadata": {
    "ExecuteTime": {
     "end_time": "2020-07-17T06:18:17.614543Z",
     "start_time": "2020-07-17T06:18:17.578403Z"
    }
   },
   "outputs": [],
   "source": [
    "from tensorflow.keras.layers import Concatenate"
   ]
  },
  {
   "cell_type": "code",
   "execution_count": 55,
   "metadata": {
    "ExecuteTime": {
     "end_time": "2020-07-17T06:18:17.904560Z",
     "start_time": "2020-07-17T06:18:17.615773Z"
    }
   },
   "outputs": [
    {
     "data": {
      "text/plain": [
       "TensorShape([None, 16384])"
      ]
     },
     "execution_count": 55,
     "metadata": {},
     "output_type": "execute_result"
    }
   ],
   "source": [
    "Flatten()(encoder_content(input_img)).shape"
   ]
  },
  {
   "cell_type": "code",
   "execution_count": 56,
   "metadata": {
    "ExecuteTime": {
     "end_time": "2020-07-17T06:18:17.982551Z",
     "start_time": "2020-07-17T06:18:17.906013Z"
    }
   },
   "outputs": [
    {
     "data": {
      "text/plain": [
       "<tf.Tensor 'flatten_2/Identity:0' shape=(None, 8) dtype=float32>"
      ]
     },
     "execution_count": 56,
     "metadata": {},
     "output_type": "execute_result"
    }
   ],
   "source": [
    "Flatten()(encoder_style(input_img))"
   ]
  },
  {
   "cell_type": "code",
   "execution_count": 57,
   "metadata": {
    "ExecuteTime": {
     "end_time": "2020-07-17T06:18:18.302825Z",
     "start_time": "2020-07-17T06:18:17.984006Z"
    }
   },
   "outputs": [
    {
     "data": {
      "text/plain": [
       "<tf.Tensor 'concatenate/Identity:0' shape=(None, 16392) dtype=float32>"
      ]
     },
     "execution_count": 57,
     "metadata": {},
     "output_type": "execute_result"
    }
   ],
   "source": [
    "z = Concatenate()([Flatten()(encoder_content(input_img)), Flatten()(encoder_style(input_img))])\n",
    "z"
   ]
  },
  {
   "cell_type": "code",
   "execution_count": 58,
   "metadata": {
    "ExecuteTime": {
     "end_time": "2020-07-17T06:18:18.354816Z",
     "start_time": "2020-07-17T06:18:18.304170Z"
    }
   },
   "outputs": [],
   "source": [
    "encoder = Model([input_img], [z])"
   ]
  },
  {
   "cell_type": "code",
   "execution_count": 59,
   "metadata": {
    "ExecuteTime": {
     "end_time": "2020-07-17T06:18:18.395219Z",
     "start_time": "2020-07-17T06:18:18.356189Z"
    }
   },
   "outputs": [
    {
     "data": {
      "text/plain": [
       "16392"
      ]
     },
     "execution_count": 59,
     "metadata": {},
     "output_type": "execute_result"
    }
   ],
   "source": [
    "z.shape[1]"
   ]
  },
  {
   "cell_type": "code",
   "execution_count": 60,
   "metadata": {
    "ExecuteTime": {
     "end_time": "2020-07-17T06:18:18.433826Z",
     "start_time": "2020-07-17T06:18:18.396424Z"
    }
   },
   "outputs": [],
   "source": [
    "input_z = Input(shape=(z.shape[1]))"
   ]
  },
  {
   "cell_type": "code",
   "execution_count": 61,
   "metadata": {
    "ExecuteTime": {
     "end_time": "2020-07-17T06:18:18.476159Z",
     "start_time": "2020-07-17T06:18:18.435148Z"
    }
   },
   "outputs": [
    {
     "data": {
      "text/plain": [
       "<tf.Tensor 'input_7:0' shape=(None, 16392) dtype=float32>"
      ]
     },
     "execution_count": 61,
     "metadata": {},
     "output_type": "execute_result"
    }
   ],
   "source": [
    "input_z"
   ]
  },
  {
   "cell_type": "code",
   "execution_count": 62,
   "metadata": {
    "ExecuteTime": {
     "end_time": "2020-07-17T06:18:18.524964Z",
     "start_time": "2020-07-17T06:18:18.477611Z"
    }
   },
   "outputs": [
    {
     "data": {
      "text/plain": [
       "(<tf.Tensor 'split:0' shape=(None, 16384) dtype=float32>,\n",
       " <tf.Tensor 'split:1' shape=(None, 8) dtype=float32>)"
      ]
     },
     "execution_count": 62,
     "metadata": {},
     "output_type": "execute_result"
    }
   ],
   "source": [
    "content_z, style_z = tf.split(input_z, (z.shape[1] - n_dim_style, n_dim_style), axis=1)\n",
    "content_z, style_z "
   ]
  },
  {
   "cell_type": "code",
   "execution_count": 63,
   "metadata": {
    "ExecuteTime": {
     "end_time": "2020-07-17T06:18:18.579770Z",
     "start_time": "2020-07-17T06:18:18.526226Z"
    }
   },
   "outputs": [],
   "source": [
    "content_z = Reshape((8, 8, 256))(content_z)"
   ]
  },
  {
   "cell_type": "code",
   "execution_count": 64,
   "metadata": {
    "ExecuteTime": {
     "end_time": "2020-07-17T06:18:18.902020Z",
     "start_time": "2020-07-17T06:18:18.581322Z"
    }
   },
   "outputs": [],
   "source": [
    "reconstruction, _, _ = decoder_net([style_z, content_z])"
   ]
  },
  {
   "cell_type": "code",
   "execution_count": 65,
   "metadata": {
    "ExecuteTime": {
     "end_time": "2020-07-17T06:18:18.950985Z",
     "start_time": "2020-07-17T06:18:18.907465Z"
    }
   },
   "outputs": [
    {
     "data": {
      "text/plain": [
       "<tf.Tensor 'model_3_1/Identity:0' shape=(None, 128, 128, 3) dtype=float32>"
      ]
     },
     "execution_count": 65,
     "metadata": {},
     "output_type": "execute_result"
    }
   ],
   "source": [
    "reconstruction"
   ]
  },
  {
   "cell_type": "code",
   "execution_count": 66,
   "metadata": {
    "ExecuteTime": {
     "end_time": "2020-07-17T06:18:18.996169Z",
     "start_time": "2020-07-17T06:18:18.952898Z"
    }
   },
   "outputs": [],
   "source": [
    "decoder = Model([input_z], [reconstruction])"
   ]
  },
  {
   "cell_type": "code",
   "execution_count": 67,
   "metadata": {
    "ExecuteTime": {
     "end_time": "2020-07-17T06:18:19.037974Z",
     "start_time": "2020-07-17T06:18:18.997597Z"
    }
   },
   "outputs": [
    {
     "data": {
      "text/plain": [
       "<tensorflow.python.keras.engine.training.Model at 0x7f98e073dc88>"
      ]
     },
     "execution_count": 67,
     "metadata": {},
     "output_type": "execute_result"
    }
   ],
   "source": [
    "decoder"
   ]
  },
  {
   "cell_type": "code",
   "execution_count": 68,
   "metadata": {
    "ExecuteTime": {
     "end_time": "2020-07-17T06:18:19.076361Z",
     "start_time": "2020-07-17T06:18:19.039171Z"
    }
   },
   "outputs": [],
   "source": [
    "# encoder should return a concatenation of style_code and content_code\n",
    "# decoder should pull these back apart and reshape them"
   ]
  },
  {
   "cell_type": "markdown",
   "metadata": {},
   "source": [
    "### Create model and train"
   ]
  },
  {
   "cell_type": "code",
   "execution_count": 69,
   "metadata": {
    "ExecuteTime": {
     "end_time": "2020-07-17T06:18:19.114263Z",
     "start_time": "2020-07-17T06:18:19.077641Z"
    }
   },
   "outputs": [],
   "source": [
    "embedder = tfUMAP(\n",
    "    direct_embedding=False,\n",
    "    verbose=True,\n",
    "    negative_sample_rate=5,\n",
    "    training_epochs=1,\n",
    "    encoder=encoder,\n",
    "    decoding_method=\"network\", \n",
    "    decoder=decoder,\n",
    "    valid_X = X_valid,\n",
    "    valid_Y = Y_valid,\n",
    "    dims = dims,\n",
    "    batch_size= 32\n",
    ")"
   ]
  },
  {
   "cell_type": "code",
   "execution_count": null,
   "metadata": {
    "ExecuteTime": {
     "start_time": "2020-07-17T06:17:34.383Z"
    },
    "scrolled": false
   },
   "outputs": [
    {
     "name": "stdout",
     "output_type": "stream",
     "text": [
      "tfUMAP(batch_size=32,\n",
      "       decoder=<tensorflow.python.keras.engine.training.Model object at 0x7f98e073dc88>,\n",
      "       decoding_method='network', dims=(128, 128, 3),\n",
      "       encoder=<tensorflow.python.keras.engine.training.Model object at 0x7f98af3f4588>,\n",
      "       negative_sample_rate=5,\n",
      "       optimizer=<tensorflow.python.keras.optimizer_v2.adam.Adam object at 0x7f98ae6965f8>,\n",
      "       tensorboard_logdir='/tmp/t...\n",
      "       nan, nan, nan, nan, nan, nan, nan, nan, nan, nan, nan, nan, nan,\n",
      "       nan, nan, nan, nan, nan, nan, nan, nan, nan, nan, nan, nan, nan,\n",
      "       nan, nan, nan, nan, nan, nan, nan, nan, nan, nan, nan, nan, nan,\n",
      "       nan, nan, nan, nan, nan, nan, nan, nan, nan, nan, nan, nan, nan,\n",
      "       nan, nan, nan, nan, nan, nan, nan, nan, nan, nan, nan, nan, nan,\n",
      "       nan, nan, nan, nan, nan, nan, nan, nan, nan, nan, nan, nan, nan,\n",
      "       nan, nan, nan, nan, nan, nan, nan, nan, nan, nan, nan, nan],\n",
      "      dtype=float32))\n",
      "Construct fuzzy simplicial set\n",
      "Thu Jul 16 23:18:28 2020 Finding Nearest Neighbors\n",
      "Thu Jul 16 23:18:29 2020 Building RP forest with 17 trees\n",
      "Thu Jul 16 23:19:13 2020 parallel NN descent for 16 iterations\n",
      "\t 0  /  16\n",
      "\t 1  /  16\n",
      "\t 2  /  16\n",
      "\t 3  /  16\n",
      "\t 4  /  16\n",
      "\t 5  /  16\n",
      "\t 6  /  16\n",
      "Thu Jul 16 23:20:57 2020 Finished Nearest Neighbor Search\n",
      "Thu Jul 16 23:21:04 2020 Embedding with TensorFlow\n"
     ]
    },
    {
     "data": {
      "application/vnd.jupyter.widget-view+json": {
       "model_id": "ae520b17795b4442a73f46e256afac79",
       "version_major": 2,
       "version_minor": 0
      },
      "text/plain": [
       "HBox(children=(IntProgress(value=0, description='epoch', max=1, style=ProgressStyle(description_width='initial…"
      ]
     },
     "metadata": {},
     "output_type": "display_data"
    },
    {
     "data": {
      "application/vnd.jupyter.widget-view+json": {
       "model_id": "95d42c3fe5c6407dacafed6b75f2ea9f",
       "version_major": 2,
       "version_minor": 0
      },
      "text/plain": [
       "HBox(children=(IntProgress(value=0, description='batch', max=286694, style=ProgressStyle(description_width='in…"
      ]
     },
     "metadata": {},
     "output_type": "display_data"
    }
   ],
   "source": [
    "z = embedder.fit_transform(X_train_flat)"
   ]
  },
  {
   "cell_type": "code",
   "execution_count": null,
   "metadata": {
    "ExecuteTime": {
     "start_time": "2020-07-17T06:17:34.385Z"
    }
   },
   "outputs": [],
   "source": [
    "print('test')"
   ]
  },
  {
   "cell_type": "code",
   "execution_count": null,
   "metadata": {
    "ExecuteTime": {
     "start_time": "2020-07-17T06:17:34.387Z"
    }
   },
   "outputs": [],
   "source": [
    "encoder_style.summary()"
   ]
  },
  {
   "cell_type": "code",
   "execution_count": null,
   "metadata": {
    "ExecuteTime": {
     "start_time": "2020-07-17T06:17:34.388Z"
    },
    "scrolled": false
   },
   "outputs": [],
   "source": [
    "encoder_content.summary()"
   ]
  },
  {
   "cell_type": "code",
   "execution_count": null,
   "metadata": {
    "ExecuteTime": {
     "start_time": "2020-07-17T06:17:34.390Z"
    }
   },
   "outputs": [],
   "source": [
    "embedder.encoder.summary()"
   ]
  },
  {
   "cell_type": "code",
   "execution_count": null,
   "metadata": {
    "ExecuteTime": {
     "start_time": "2020-07-17T06:17:34.392Z"
    }
   },
   "outputs": [],
   "source": [
    "embedder.decoder.summary()"
   ]
  },
  {
   "cell_type": "code",
   "execution_count": null,
   "metadata": {
    "ExecuteTime": {
     "start_time": "2020-07-17T06:17:34.394Z"
    }
   },
   "outputs": [],
   "source": [
    "z = embedder.transform(X_train_flat)"
   ]
  },
  {
   "cell_type": "markdown",
   "metadata": {},
   "source": [
    "### Plot model output"
   ]
  },
  {
   "cell_type": "code",
   "execution_count": null,
   "metadata": {
    "ExecuteTime": {
     "start_time": "2020-07-17T06:17:34.396Z"
    }
   },
   "outputs": [],
   "source": [
    "fig, ax = plt.subplots( figsize=(8, 8))\n",
    "sc = ax.scatter(\n",
    "    z[:, 0],\n",
    "    z[:, 1],\n",
    "    c=Y_train.astype(int)[:len(z)],\n",
    "    cmap=\"tab10\",\n",
    "    s=0.1,\n",
    "    alpha=0.5,\n",
    "    rasterized=True,\n",
    ")\n",
    "ax.axis('equal')\n",
    "ax.set_title(\"UMAP in Tensorflow embedding\", fontsize=20)\n",
    "plt.colorbar(sc, ax=ax);"
   ]
  },
  {
   "cell_type": "markdown",
   "metadata": {},
   "source": [
    "### View loss"
   ]
  },
  {
   "cell_type": "code",
   "execution_count": null,
   "metadata": {
    "ExecuteTime": {
     "start_time": "2020-07-17T06:17:34.399Z"
    }
   },
   "outputs": [],
   "source": [
    "from tfumap.umap import retrieve_tensors\n",
    "import seaborn as sns"
   ]
  },
  {
   "cell_type": "code",
   "execution_count": null,
   "metadata": {
    "ExecuteTime": {
     "start_time": "2020-07-17T06:17:34.400Z"
    }
   },
   "outputs": [],
   "source": [
    "loss_df = retrieve_tensors(embedder.tensorboard_logdir)\n",
    "loss_df[:3]"
   ]
  },
  {
   "cell_type": "code",
   "execution_count": null,
   "metadata": {
    "ExecuteTime": {
     "start_time": "2020-07-17T06:17:34.402Z"
    }
   },
   "outputs": [],
   "source": [
    "loss_df.group.unique()"
   ]
  },
  {
   "cell_type": "code",
   "execution_count": null,
   "metadata": {
    "ExecuteTime": {
     "start_time": "2020-07-17T06:17:34.404Z"
    }
   },
   "outputs": [],
   "source": [
    "fig, axs = plt.subplots(ncols=2, figsize=(20,5))\n",
    "ax = axs[0]\n",
    "sns.lineplot(x=\"step\", y=\"val\", hue=\"group\", data=loss_df[loss_df.variable=='umap_loss'], ax = ax, ci=None)\n",
    "ax.set_xscale('log')\n",
    "ax.set_yscale('log')\n",
    "ax.set_title('UMAP loss')\n",
    "\n",
    "ax = axs[1]\n",
    "sns.lineplot(x=\"step\", y=\"val\", hue=\"group\", data=loss_df[loss_df.variable=='recon_loss'], ax = ax, ci=None)\n",
    "ax.set_xscale('log')\n",
    "ax.set_yscale('log')\n",
    "ax.set_title('Reconstruction loss')"
   ]
  },
  {
   "cell_type": "markdown",
   "metadata": {},
   "source": [
    "### Save output"
   ]
  },
  {
   "cell_type": "code",
   "execution_count": null,
   "metadata": {
    "ExecuteTime": {
     "start_time": "2020-07-17T06:17:34.406Z"
    }
   },
   "outputs": [],
   "source": [
    "from tfumap.paths import ensure_dir, MODEL_DIR"
   ]
  },
  {
   "cell_type": "code",
   "execution_count": null,
   "metadata": {
    "ExecuteTime": {
     "start_time": "2020-07-17T06:17:34.408Z"
    }
   },
   "outputs": [],
   "source": [
    "output_dir = MODEL_DIR/'celeba'/ 'style_content_128_deeper-net2-128' \n",
    "ensure_dir(output_dir)"
   ]
  },
  {
   "cell_type": "code",
   "execution_count": null,
   "metadata": {
    "ExecuteTime": {
     "start_time": "2020-07-17T06:17:34.410Z"
    }
   },
   "outputs": [],
   "source": [
    "#embedder.save(output_dir)"
   ]
  },
  {
   "cell_type": "code",
   "execution_count": null,
   "metadata": {
    "ExecuteTime": {
     "start_time": "2020-07-17T06:17:34.412Z"
    }
   },
   "outputs": [],
   "source": [
    "import os"
   ]
  },
  {
   "cell_type": "code",
   "execution_count": null,
   "metadata": {
    "ExecuteTime": {
     "start_time": "2020-07-17T06:17:34.414Z"
    }
   },
   "outputs": [],
   "source": [
    "embedder.encoder.save(os.path.join(output_dir, \"encoder\"))"
   ]
  },
  {
   "cell_type": "code",
   "execution_count": null,
   "metadata": {
    "ExecuteTime": {
     "start_time": "2020-07-17T06:17:34.416Z"
    }
   },
   "outputs": [],
   "source": [
    "import pickle"
   ]
  },
  {
   "cell_type": "code",
   "execution_count": null,
   "metadata": {
    "ExecuteTime": {
     "start_time": "2020-07-17T06:17:34.417Z"
    }
   },
   "outputs": [],
   "source": [
    "#with open(os.path.join(output_dir, \"model.pkl\"), \"w\") as output:\n",
    "#    pickle.dump(embedder, output, protocol=4)"
   ]
  },
  {
   "cell_type": "code",
   "execution_count": null,
   "metadata": {
    "ExecuteTime": {
     "start_time": "2020-07-17T06:17:34.419Z"
    }
   },
   "outputs": [],
   "source": [
    "#pickle.dump(embedder, open(os.path.join(output_dir, \"model.pkl\"), 'w'), protocol=4)"
   ]
  },
  {
   "cell_type": "code",
   "execution_count": null,
   "metadata": {
    "ExecuteTime": {
     "start_time": "2020-07-17T06:17:34.421Z"
    }
   },
   "outputs": [],
   "source": [
    "loss_df.to_pickle(output_dir / 'loss_df.pickle')"
   ]
  },
  {
   "cell_type": "code",
   "execution_count": null,
   "metadata": {
    "ExecuteTime": {
     "start_time": "2020-07-17T06:17:34.423Z"
    }
   },
   "outputs": [],
   "source": [
    "np.save(output_dir / 'z.npy', z)"
   ]
  },
  {
   "cell_type": "markdown",
   "metadata": {},
   "source": [
    "### View reconstructions on test data"
   ]
  },
  {
   "cell_type": "code",
   "execution_count": null,
   "metadata": {
    "ExecuteTime": {
     "start_time": "2020-07-17T06:17:34.426Z"
    }
   },
   "outputs": [],
   "source": [
    "z_test = embedder.transform(X_test)"
   ]
  },
  {
   "cell_type": "code",
   "execution_count": null,
   "metadata": {
    "ExecuteTime": {
     "start_time": "2020-07-17T06:17:34.428Z"
    }
   },
   "outputs": [],
   "source": [
    "np.shape(z_test)"
   ]
  },
  {
   "cell_type": "code",
   "execution_count": null,
   "metadata": {
    "ExecuteTime": {
     "start_time": "2020-07-17T06:17:34.430Z"
    }
   },
   "outputs": [],
   "source": [
    "X_test_recon = embedder.inverse_transform(z_test)"
   ]
  },
  {
   "cell_type": "code",
   "execution_count": null,
   "metadata": {
    "ExecuteTime": {
     "start_time": "2020-07-17T06:17:34.432Z"
    }
   },
   "outputs": [],
   "source": [
    "nex = 40\n",
    "fig, axs = plt.subplots(ncols=nex, nrows=2, figsize=(nex*3,2*3))\n",
    "for i in range(nex):\n",
    "    axs[0,i].imshow(X_test[i].reshape(dims))\n",
    "    axs[1,i].imshow(X_test_recon[i].reshape(dims))\n",
    "for ax in axs.flatten():\n",
    "    ax.axis('off')"
   ]
  },
  {
   "cell_type": "markdown",
   "metadata": {
    "ExecuteTime": {
     "end_time": "2020-07-07T21:32:27.173607Z",
     "start_time": "2020-07-07T21:32:27.130517Z"
    }
   },
   "source": [
    "### Interpolations on test data"
   ]
  },
  {
   "cell_type": "code",
   "execution_count": null,
   "metadata": {
    "ExecuteTime": {
     "start_time": "2020-07-17T06:17:34.434Z"
    }
   },
   "outputs": [],
   "source": [
    "nex = 10"
   ]
  },
  {
   "cell_type": "code",
   "execution_count": null,
   "metadata": {
    "ExecuteTime": {
     "start_time": "2020-07-17T06:17:34.436Z"
    }
   },
   "outputs": [],
   "source": [
    "interp_pts = np.linspace(0, 1, nex)"
   ]
  },
  {
   "cell_type": "code",
   "execution_count": null,
   "metadata": {
    "ExecuteTime": {
     "start_time": "2020-07-17T06:17:34.438Z"
    }
   },
   "outputs": [],
   "source": [
    "for i,j in zip(np.arange(0,5), np.arange(5,10)):\n",
    "    z1 = z_test[i]\n",
    "    z2 = z_test[j]\n",
    "    z_interp = [z1*i + z2*(1-i) for i in interp_pts]\n",
    "    x_interp = embedder.inverse_transform(np.array(z_interp))\n",
    "\n",
    "    fig, axs = plt.subplots(ncols=nex, nrows=1, figsize=(nex*3,3))\n",
    "    for i in range(nex):\n",
    "        axs[i].imshow(x_interp[i].reshape(dims))\n",
    "    for ax in axs.flatten():\n",
    "        ax.axis('off')\n",
    "\n",
    "    plt.show()"
   ]
  },
  {
   "cell_type": "code",
   "execution_count": null,
   "metadata": {
    "ExecuteTime": {
     "start_time": "2020-07-17T06:17:34.439Z"
    }
   },
   "outputs": [],
   "source": [
    "len(z_interp)"
   ]
  },
  {
   "cell_type": "code",
   "execution_count": null,
   "metadata": {
    "ExecuteTime": {
     "start_time": "2020-07-17T06:17:34.441Z"
    }
   },
   "outputs": [],
   "source": [
    "z_interp[0].shape"
   ]
  },
  {
   "cell_type": "markdown",
   "metadata": {},
   "source": [
    "### Untangling latent factors"
   ]
  },
  {
   "cell_type": "code",
   "execution_count": null,
   "metadata": {
    "ExecuteTime": {
     "start_time": "2020-07-17T06:17:34.444Z"
    }
   },
   "outputs": [],
   "source": [
    "from statsmodels.api import OLS"
   ]
  },
  {
   "cell_type": "code",
   "execution_count": null,
   "metadata": {
    "ExecuteTime": {
     "start_time": "2020-07-17T06:17:34.446Z"
    }
   },
   "outputs": [],
   "source": [
    "faces_merged = pd.merge(anno_df, faces_128_df[['face', 'id']], on=['id'])"
   ]
  },
  {
   "cell_type": "code",
   "execution_count": null,
   "metadata": {
    "ExecuteTime": {
     "start_time": "2020-07-17T06:17:34.448Z"
    }
   },
   "outputs": [],
   "source": [
    "face_x = np.array(list(faces_merged['face'].values))\n",
    "face_z = embedder.transform(face_x)\n",
    "face_z.shape"
   ]
  },
  {
   "cell_type": "code",
   "execution_count": null,
   "metadata": {
    "ExecuteTime": {
     "start_time": "2020-07-17T06:17:34.450Z"
    }
   },
   "outputs": [],
   "source": [
    "all_attr = faces_merged.drop(columns = ['id', 'hair_category', 'face'])\n",
    "data_labels = 1.0*(all_attr == 1)\n",
    "data_labels['bias'] = 1.0"
   ]
  },
  {
   "cell_type": "code",
   "execution_count": null,
   "metadata": {
    "ExecuteTime": {
     "start_time": "2020-07-17T06:17:34.451Z"
    }
   },
   "outputs": [],
   "source": [
    "model_z = OLS(face_z, data_labels)\n",
    "result_z = model_z.fit()\n",
    "result_z.params[:3]"
   ]
  },
  {
   "cell_type": "code",
   "execution_count": null,
   "metadata": {
    "ExecuteTime": {
     "start_time": "2020-07-17T06:17:34.453Z"
    }
   },
   "outputs": [],
   "source": [
    "z_model = result_z.params.values[:-1]\n",
    "z_labels = list(result_z.params.index)[:-1]\n",
    "bias = result_z.params.loc['bias'].values"
   ]
  },
  {
   "cell_type": "code",
   "execution_count": null,
   "metadata": {
    "ExecuteTime": {
     "start_time": "2020-07-17T06:17:34.456Z"
    }
   },
   "outputs": [],
   "source": [
    "#bias = np.mean(face_z,axis=0)"
   ]
  },
  {
   "cell_type": "code",
   "execution_count": null,
   "metadata": {
    "ExecuteTime": {
     "start_time": "2020-07-17T06:17:34.458Z"
    }
   },
   "outputs": [],
   "source": [
    "x_interp = embedder.inverse_transform(np.array(z_interp))"
   ]
  },
  {
   "cell_type": "code",
   "execution_count": null,
   "metadata": {
    "ExecuteTime": {
     "start_time": "2020-07-17T06:17:34.461Z"
    }
   },
   "outputs": [],
   "source": [
    "z_labels_bias = np.array([bias + i for i in z_model])\n",
    "x_labels = embedder.inverse_transform(np.array(z_labels_bias).astype('float32'))"
   ]
  },
  {
   "cell_type": "code",
   "execution_count": null,
   "metadata": {
    "ExecuteTime": {
     "start_time": "2020-07-17T06:17:34.463Z"
    }
   },
   "outputs": [],
   "source": [
    "def norm(x):\n",
    "    return (x - np.min(x)) / (np.max(x) - np.min(x))"
   ]
  },
  {
   "cell_type": "code",
   "execution_count": null,
   "metadata": {
    "ExecuteTime": {
     "start_time": "2020-07-17T06:17:34.465Z"
    },
    "scrolled": false
   },
   "outputs": [],
   "source": [
    "fig, axs = plt.subplots(ncols=8, nrows=5, figsize=(8*3,5*3))\n",
    "for i, (lab, img) in tqdm(enumerate(zip(z_labels, x_labels))):\n",
    "    ax = axs.flatten()[i]\n",
    "    ax.imshow(norm(img))\n",
    "    ax.set_title(lab)\n",
    "    ax.axis('off')"
   ]
  },
  {
   "cell_type": "code",
   "execution_count": null,
   "metadata": {
    "ExecuteTime": {
     "start_time": "2020-07-17T06:17:34.466Z"
    }
   },
   "outputs": [],
   "source": [
    "z_labels_bias = np.array([bias+i*3 for i in z_model])\n",
    "x_labels = embedder.inverse_transform(np.array(z_labels_bias).astype('float32'))"
   ]
  },
  {
   "cell_type": "code",
   "execution_count": null,
   "metadata": {
    "ExecuteTime": {
     "start_time": "2020-07-17T06:17:34.469Z"
    },
    "scrolled": false
   },
   "outputs": [],
   "source": [
    "fig, axs = plt.subplots(ncols=8, nrows=5, figsize=(8*3,5*3))\n",
    "for i, (lab, img) in tqdm(enumerate(zip(z_labels, x_labels))):\n",
    "    ax = axs.flatten()[i]\n",
    "    ax.imshow(img)\n",
    "    ax.set_title(lab)\n",
    "    ax.axis('off')"
   ]
  },
  {
   "cell_type": "code",
   "execution_count": null,
   "metadata": {
    "ExecuteTime": {
     "start_time": "2020-07-17T06:17:34.470Z"
    }
   },
   "outputs": [],
   "source": [
    "z_labels_bias = np.array([bias+i*10 for i in z_model])\n",
    "x_labels = embedder.inverse_transform(np.array(z_labels_bias).astype('float32'))\n",
    "\n",
    "fig, axs = plt.subplots(ncols=8, nrows=5, figsize=(8*3,5*3))\n",
    "for i, (lab, img) in tqdm(enumerate(zip(z_labels, x_labels))):\n",
    "    ax = axs.flatten()[i]\n",
    "    ax.imshow(img)\n",
    "    ax.set_title(lab)\n",
    "    ax.axis('off')"
   ]
  },
  {
   "cell_type": "code",
   "execution_count": null,
   "metadata": {
    "ExecuteTime": {
     "start_time": "2020-07-17T06:17:34.472Z"
    }
   },
   "outputs": [],
   "source": [
    "z_labels_bias = np.array([bias-i*3 for i in z_model])\n",
    "x_labels = embedder.inverse_transform(np.array(z_labels_bias).astype('float32'))\n",
    "\n",
    "fig, axs = plt.subplots(ncols=8, nrows=5, figsize=(8*3,5*3))\n",
    "for i, (lab, img) in tqdm(enumerate(zip(z_labels, x_labels))):\n",
    "    ax = axs.flatten()[i]\n",
    "    ax.imshow(img)\n",
    "    ax.set_title(lab)\n",
    "    ax.axis('off')"
   ]
  },
  {
   "cell_type": "markdown",
   "metadata": {},
   "source": [
    "### modify an image"
   ]
  },
  {
   "cell_type": "code",
   "execution_count": null,
   "metadata": {
    "ExecuteTime": {
     "start_time": "2020-07-17T06:17:34.474Z"
    }
   },
   "outputs": [],
   "source": [
    "example_person_z = z_test[1]"
   ]
  },
  {
   "cell_type": "code",
   "execution_count": null,
   "metadata": {
    "ExecuteTime": {
     "start_time": "2020-07-17T06:17:34.476Z"
    }
   },
   "outputs": [],
   "source": [
    "z_example_features = np.array([example_person_z+ i*3 for i in z_model])"
   ]
  },
  {
   "cell_type": "code",
   "execution_count": null,
   "metadata": {
    "ExecuteTime": {
     "start_time": "2020-07-17T06:17:34.477Z"
    }
   },
   "outputs": [],
   "source": [
    "x_example_features = embedder.inverse_transform(np.array(z_example_features).astype('float32'))"
   ]
  },
  {
   "cell_type": "code",
   "execution_count": null,
   "metadata": {
    "ExecuteTime": {
     "start_time": "2020-07-17T06:17:34.479Z"
    }
   },
   "outputs": [],
   "source": [
    "fig, axs = plt.subplots(ncols=8, nrows=5, figsize=(8*3,5*3))\n",
    "for i, (lab, img) in tqdm(enumerate(zip(z_labels, x_example_features))):\n",
    "    ax = axs.flatten()[i]\n",
    "    ax.imshow(img)\n",
    "    ax.set_title(lab)\n",
    "    ax.axis('off')"
   ]
  },
  {
   "cell_type": "code",
   "execution_count": null,
   "metadata": {
    "ExecuteTime": {
     "start_time": "2020-07-17T06:17:34.481Z"
    }
   },
   "outputs": [],
   "source": [
    "example_person_z = z_test[1]\n",
    "\n",
    "z_example_features = np.array([example_person_z- i*3 for i in z_model])\n",
    "\n",
    "x_example_features = embedder.inverse_transform(np.array(z_example_features).astype('float32'))\n",
    "\n",
    "fig, axs = plt.subplots(ncols=8, nrows=5, figsize=(8*3,5*3))\n",
    "for i, (lab, img) in tqdm(enumerate(zip(z_labels, x_example_features))):\n",
    "    ax = axs.flatten()[i]\n",
    "    ax.imshow(img)\n",
    "    ax.set_title(lab)\n",
    "    ax.axis('off')"
   ]
  },
  {
   "cell_type": "markdown",
   "metadata": {},
   "source": [
    "### Reconstructions"
   ]
  },
  {
   "cell_type": "code",
   "execution_count": null,
   "metadata": {
    "ExecuteTime": {
     "start_time": "2020-07-17T06:17:34.483Z"
    }
   },
   "outputs": [],
   "source": [
    "X_test_recon = embedder.inverse_transform(z_test)\n",
    "\n",
    "nrows = 6\n",
    "ncols = 2\n",
    "nex = nrows\n",
    "fig, axs = plt.subplots(ncols=ncols, nrows=nrows, figsize=(3*ncols,3*nrows))\n",
    "for i in range(nex):\n",
    "    axs[i,0].imshow(X_test[i].reshape(dims))\n",
    "    axs[i,1].imshow(X_test_recon[i].reshape(dims))\n",
    "for ax in axs.flatten():\n",
    "    ax.axis('off')"
   ]
  },
  {
   "cell_type": "markdown",
   "metadata": {},
   "source": [
    "### Feature"
   ]
  },
  {
   "cell_type": "code",
   "execution_count": null,
   "metadata": {
    "ExecuteTime": {
     "start_time": "2020-07-17T06:17:34.485Z"
    }
   },
   "outputs": [],
   "source": [
    "z_labels_bias = np.array([bias+i*3 for i in z_model])\n",
    "x_labels = embedder.inverse_transform(np.array(z_labels_bias).astype('float32'))\n",
    "\n",
    "fig, axs = plt.subplots(ncols=8, nrows=5, figsize=(8*3,5*3))\n",
    "for i, (lab, img) in tqdm(enumerate(zip(z_labels, x_labels))):\n",
    "    ax = axs.flatten()[i]\n",
    "    ax.imshow(img)\n",
    "    ax.set_title(lab)\n",
    "    ax.axis('off')"
   ]
  },
  {
   "cell_type": "code",
   "execution_count": null,
   "metadata": {
    "ExecuteTime": {
     "start_time": "2020-07-17T06:17:34.487Z"
    }
   },
   "outputs": [],
   "source": [
    "z_model.shape"
   ]
  },
  {
   "cell_type": "code",
   "execution_count": null,
   "metadata": {
    "ExecuteTime": {
     "start_time": "2020-07-17T06:17:34.488Z"
    },
    "scrolled": false
   },
   "outputs": [],
   "source": [
    "nex = 10\n",
    "for li, (zmod, label) in enumerate(zip(z_model, z_labels)):\n",
    "    print(label)\n",
    "    trans = np.array([bias+i*zmod for i in np.linspace(-10,10,nex)])\n",
    "    xtrans = embedder.inverse_transform(np.array(trans).astype('float32'))\n",
    "    fig, axs = plt.subplots(ncols=nex, figsize=(nex*2, 2))\n",
    "    for i, xt in enumerate(xtrans):\n",
    "        axs[i].imshow(xt)\n",
    "        axs[i].axis('off')\n",
    "    plt.show()"
   ]
  },
  {
   "cell_type": "code",
   "execution_count": null,
   "metadata": {
    "ExecuteTime": {
     "start_time": "2020-07-17T06:17:34.490Z"
    }
   },
   "outputs": [],
   "source": [
    "feats = [\n",
    "    [\"Male\", -3, 3], \n",
    "    [\"Receding_Hairline\", -5, 5], \n",
    "    [\"Bangs\", 0, 3],\n",
    "    [\"Black_Hair\", -5, 5],\n",
    "    [\"Blond_Hair\", -2, 2],\n",
    "    [\"Bushy_Eyebrows\", -2, 10],\n",
    "    [\"Double_Chin\", -2, 10],\n",
    "    [\"Eyeglasses\", 0, 5],\n",
    "    [\"Gray_Hair\", 0, 5],\n",
    "    [\"Smiling\", -5, 5],\n",
    "    [\"Wearing_Necktie\", 0, 10],\n",
    "    [\"Young\", -5, 5],\n",
    "\n",
    "]"
   ]
  },
  {
   "cell_type": "code",
   "execution_count": null,
   "metadata": {
    "ExecuteTime": {
     "start_time": "2020-07-17T06:17:34.492Z"
    }
   },
   "outputs": [],
   "source": [
    "example_person_z = z_test[0]"
   ]
  },
  {
   "cell_type": "code",
   "execution_count": null,
   "metadata": {
    "ExecuteTime": {
     "start_time": "2020-07-17T06:17:34.494Z"
    },
    "scrolled": false
   },
   "outputs": [],
   "source": [
    "nex = 5\n",
    "for li, (label, neg, pos) in enumerate(feats):\n",
    "    print(label)\n",
    "    zmod = z_model[np.where(label == np.array(z_labels))[0][0]]\n",
    "    trans = np.array([example_person_z+i*zmod for i in np.linspace(neg,pos,nex)])\n",
    "    xtrans = embedder.inverse_transform(np.array(trans).astype('float32'))\n",
    "    fig, axs = plt.subplots(ncols=nex, figsize=(nex*3, 3), gridspec_kw = {'wspace':0, 'hspace':0})\n",
    "    for i, xt in enumerate(xtrans):\n",
    "        axs[i].imshow(xt)\n",
    "        axs[i].axis('off')\n",
    "    plt.show()"
   ]
  },
  {
   "cell_type": "markdown",
   "metadata": {},
   "source": [
    "### Interpolation"
   ]
  },
  {
   "cell_type": "code",
   "execution_count": null,
   "metadata": {
    "ExecuteTime": {
     "start_time": "2020-07-17T06:17:34.496Z"
    }
   },
   "outputs": [],
   "source": [
    "nex = 7\n",
    "\n",
    "interp_pts = np.linspace(0, 1, nex)\n",
    "\n",
    "#for i,j in zip(np.arange(10,15), np.arange(15,20)):\n",
    "for i,j in [[3,8], [1,6], [14,19]]:\n",
    "    z1 = z_test[i]\n",
    "    z2 = z_test[j]\n",
    "    z_interp = [z1*i + z2*(1-i) for i in interp_pts]\n",
    "    x_interp = embedder.inverse_transform(np.array(z_interp))\n",
    "\n",
    "    fig, axs = plt.subplots(ncols=1, nrows=nex, figsize=(3,nex*3), gridspec_kw = {'wspace':0, 'hspace':0.03})\n",
    "    #fig, axs = plt.subplots(ncols=nex, nrows=1, figsize=(nex*3,3), gridspec_kw = {'wspace':0, 'hspace':0})\n",
    "    for i in range(nex):\n",
    "        axs[i].imshow(x_interp[i].reshape(dims))\n",
    "    for ax in axs.flatten():\n",
    "        ax.axis('off')\n",
    "\n",
    "    plt.show()"
   ]
  },
  {
   "cell_type": "code",
   "execution_count": null,
   "metadata": {},
   "outputs": [],
   "source": []
  }
 ],
 "metadata": {
  "kernelspec": {
   "display_name": "Python 3",
   "language": "python",
   "name": "python3"
  },
  "language_info": {
   "codemirror_mode": {
    "name": "ipython",
    "version": 3
   },
   "file_extension": ".py",
   "mimetype": "text/x-python",
   "name": "python",
   "nbconvert_exporter": "python",
   "pygments_lexer": "ipython3",
   "version": "3.6.7"
  }
 },
 "nbformat": 4,
 "nbformat_minor": 2
}
