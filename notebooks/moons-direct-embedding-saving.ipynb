{
 "cells": [
  {
   "cell_type": "code",
   "execution_count": 1,
   "metadata": {
    "ExecuteTime": {
     "end_time": "2020-07-06T17:51:03.742183Z",
     "start_time": "2020-07-06T17:51:03.718929Z"
    }
   },
   "outputs": [],
   "source": [
    "# reload packages\n",
    "%load_ext autoreload\n",
    "%autoreload 2"
   ]
  },
  {
   "cell_type": "markdown",
   "metadata": {},
   "source": [
    "### Choose GPU (this may not be needed on your computer)"
   ]
  },
  {
   "cell_type": "code",
   "execution_count": 2,
   "metadata": {
    "ExecuteTime": {
     "end_time": "2020-07-06T17:51:03.752514Z",
     "start_time": "2020-07-06T17:51:03.743536Z"
    }
   },
   "outputs": [
    {
     "name": "stdout",
     "output_type": "stream",
     "text": [
      "env: CUDA_DEVICE_ORDER=PCI_BUS_ID\n",
      "env: CUDA_VISIBLE_DEVICES=''\n"
     ]
    }
   ],
   "source": [
    "%env CUDA_DEVICE_ORDER=PCI_BUS_ID\n",
    "%env CUDA_VISIBLE_DEVICES=''"
   ]
  },
  {
   "cell_type": "markdown",
   "metadata": {},
   "source": [
    "### load packages"
   ]
  },
  {
   "cell_type": "code",
   "execution_count": 3,
   "metadata": {
    "ExecuteTime": {
     "end_time": "2020-07-06T17:51:13.550385Z",
     "start_time": "2020-07-06T17:51:03.753545Z"
    }
   },
   "outputs": [
    {
     "name": "stderr",
     "output_type": "stream",
     "text": [
      "/mnt/cube/tsainbur/conda_envs/tpy3/lib/python3.6/site-packages/tqdm/autonotebook/__init__.py:14: TqdmExperimentalWarning: Using `tqdm.autonotebook.tqdm` in notebook mode. Use `tqdm.tqdm` instead to force console mode (e.g. in jupyter console)\n",
      "  \" (e.g. in jupyter console)\", TqdmExperimentalWarning)\n"
     ]
    }
   ],
   "source": [
    "from tfumap.umap import tfUMAP"
   ]
  },
  {
   "cell_type": "code",
   "execution_count": 4,
   "metadata": {
    "ExecuteTime": {
     "end_time": "2020-07-06T17:51:13.725195Z",
     "start_time": "2020-07-06T17:51:13.552713Z"
    }
   },
   "outputs": [],
   "source": [
    "import tensorflow as tf\n",
    "import numpy as np\n",
    "import matplotlib.pyplot as plt\n",
    "from tqdm.autonotebook import tqdm\n",
    "import umap\n",
    "import pandas as pd"
   ]
  },
  {
   "cell_type": "markdown",
   "metadata": {},
   "source": [
    "### Load dataset"
   ]
  },
  {
   "cell_type": "code",
   "execution_count": 5,
   "metadata": {
    "ExecuteTime": {
     "end_time": "2020-07-06T17:51:13.805178Z",
     "start_time": "2020-07-06T17:51:13.727258Z"
    }
   },
   "outputs": [],
   "source": [
    "from sklearn.datasets import make_moons"
   ]
  },
  {
   "cell_type": "code",
   "execution_count": 6,
   "metadata": {
    "ExecuteTime": {
     "end_time": "2020-07-06T17:51:13.848422Z",
     "start_time": "2020-07-06T17:51:13.807114Z"
    }
   },
   "outputs": [],
   "source": [
    "X_train, Y_train = make_moons(100)\n",
    "X_train_flat = X_train"
   ]
  },
  {
   "cell_type": "code",
   "execution_count": 7,
   "metadata": {
    "ExecuteTime": {
     "end_time": "2020-07-06T17:51:13.883700Z",
     "start_time": "2020-07-06T17:51:13.849657Z"
    }
   },
   "outputs": [],
   "source": [
    "X_test, Y_test = make_moons(100)\n",
    "X_test_flat = X_test"
   ]
  },
  {
   "cell_type": "code",
   "execution_count": 8,
   "metadata": {
    "ExecuteTime": {
     "end_time": "2020-07-06T17:51:14.064378Z",
     "start_time": "2020-07-06T17:51:13.884892Z"
    }
   },
   "outputs": [
    {
     "data": {
      "text/plain": [
       "<matplotlib.collections.PathCollection at 0x7f852b7b3940>"
      ]
     },
     "execution_count": 8,
     "metadata": {},
     "output_type": "execute_result"
    },
    {
     "data": {
      "image/png": "[encoded data removed]",
      "text/plain": [
       "<Figure size 432x288 with 1 Axes>"
      ]
     },
     "metadata": {
      "needs_background": "light"
     },
     "output_type": "display_data"
    }
   ],
   "source": [
    "plt.scatter(X_test[:,0], X_test[:,1], c=Y_test)"
   ]
  },
  {
   "cell_type": "markdown",
   "metadata": {},
   "source": [
    "### Create model and train"
   ]
  },
  {
   "cell_type": "code",
   "execution_count": 9,
   "metadata": {
    "ExecuteTime": {
     "end_time": "2020-07-06T17:51:14.140089Z",
     "start_time": "2020-07-06T17:51:14.066024Z"
    }
   },
   "outputs": [],
   "source": [
    "embedder = tfUMAP(n_neighbors = 10, direct_embedding=False, verbose=True)"
   ]
  },
  {
   "cell_type": "code",
   "execution_count": 10,
   "metadata": {
    "ExecuteTime": {
     "end_time": "2020-07-06T17:51:14.186129Z",
     "start_time": "2020-07-06T17:51:14.141562Z"
    }
   },
   "outputs": [
    {
     "name": "stdout",
     "output_type": "stream",
     "text": [
      "tfUMAP(negative_sample_rate=5,\n",
      "       optimizer=<tensorflow.python.keras.optimizer_v2.adam.Adam object at 0x7f852b7220b8>,\n",
      "       tensorboard_logdir='/tmp/tensorboard/20200706-105114')\n"
     ]
    }
   ],
   "source": [
    "print(embedder)"
   ]
  },
  {
   "cell_type": "code",
   "execution_count": 11,
   "metadata": {
    "ExecuteTime": {
     "end_time": "2020-07-06T17:51:21.483369Z",
     "start_time": "2020-07-06T17:51:14.187574Z"
    },
    "scrolled": false
   },
   "outputs": [
    {
     "name": "stdout",
     "output_type": "stream",
     "text": [
      "tfUMAP(negative_sample_rate=5,\n",
      "       optimizer=<tensorflow.python.keras.optimizer_v2.adam.Adam object at 0x7f852b7220b8>,\n",
      "       tensorboard_logdir='/tmp/tensorboard/20200706-105114')\n",
      "Construct fuzzy simplicial set\n",
      "Mon Jul  6 10:51:14 2020 Finding Nearest Neighbors\n",
      "Mon Jul  6 10:51:16 2020 Finished Nearest Neighbor Search\n",
      "Mon Jul  6 10:51:18 2020 Embedding with TensorFlow\n"
     ]
    },
    {
     "data": {
      "application/vnd.jupyter.widget-view+json": {
       "model_id": "3ad4a4935e2e4d36916a10c18328c138",
       "version_major": 2,
       "version_minor": 0
      },
      "text/plain": [
       "HBox(children=(IntProgress(value=0, description='epoch', max=5, style=ProgressStyle(description_width='initial…"
      ]
     },
     "metadata": {},
     "output_type": "display_data"
    },
    {
     "name": "stdout",
     "output_type": "stream",
     "text": [
      "Mon Jul  6 10:51:21 2020 Finished embedding\n",
      "\n"
     ]
    }
   ],
   "source": [
    "z = embedder.fit_transform(X_train_flat)"
   ]
  },
  {
   "cell_type": "markdown",
   "metadata": {},
   "source": [
    "### Plot model output"
   ]
  },
  {
   "cell_type": "code",
   "execution_count": 12,
   "metadata": {
    "ExecuteTime": {
     "end_time": "2020-07-06T17:51:22.787431Z",
     "start_time": "2020-07-06T17:51:21.484993Z"
    }
   },
   "outputs": [
    {
     "data": {
      "image/png": "[encoded data removed]",
      "text/plain": [
       "<Figure size 576x576 with 2 Axes>"
      ]
     },
     "metadata": {
      "needs_background": "light"
     },
     "output_type": "display_data"
    }
   ],
   "source": [
    "fig, ax = plt.subplots( figsize=(8, 8))\n",
    "sc = ax.scatter(\n",
    "    z[:, 0],\n",
    "    z[:, 1],\n",
    "    c=Y_train.astype(int)[:len(z)],\n",
    "    cmap=\"tab10\",\n",
    "    s=10,\n",
    "    alpha=0.5,\n",
    "    rasterized=True,\n",
    ")\n",
    "ax.axis('equal')\n",
    "ax.set_title(\"UMAP in Tensorflow embedding\", fontsize=20)\n",
    "plt.colorbar(sc, ax=ax);"
   ]
  },
  {
   "cell_type": "markdown",
   "metadata": {},
   "source": [
    "### View loss"
   ]
  },
  {
   "cell_type": "code",
   "execution_count": 13,
   "metadata": {
    "ExecuteTime": {
     "end_time": "2020-07-06T17:51:22.891001Z",
     "start_time": "2020-07-06T17:51:22.788978Z"
    }
   },
   "outputs": [],
   "source": [
    "from tfumap.umap import retrieve_tensors\n",
    "import seaborn as sns"
   ]
  },
  {
   "cell_type": "code",
   "execution_count": 14,
   "metadata": {
    "ExecuteTime": {
     "end_time": "2020-07-06T17:51:22.976212Z",
     "start_time": "2020-07-06T17:51:22.892645Z"
    }
   },
   "outputs": [
    {
     "name": "stdout",
     "output_type": "stream",
     "text": [
      "['umap_loss']\n",
      "[]\n"
     ]
    },
    {
     "data": {
      "text/html": [
       "<div>\n",
       "<style scoped>\n",
       "    .dataframe tbody tr th:only-of-type {\n",
       "        vertical-align: middle;\n",
       "    }\n",
       "\n",
       "    .dataframe tbody tr th {\n",
       "        vertical-align: top;\n",
       "    }\n",
       "\n",
       "    .dataframe thead th {\n",
       "        text-align: right;\n",
       "    }\n",
       "</style>\n",
       "<table border=\"1\" class=\"dataframe\">\n",
       "  <thead>\n",
       "    <tr style=\"text-align: right;\">\n",
       "      <th></th>\n",
       "      <th>wall_time</th>\n",
       "      <th>step</th>\n",
       "      <th>val</th>\n",
       "      <th>group</th>\n",
       "      <th>variable</th>\n",
       "    </tr>\n",
       "  </thead>\n",
       "  <tbody>\n",
       "    <tr>\n",
       "      <th>0</th>\n",
       "      <td>1.594058e+09</td>\n",
       "      <td>1</td>\n",
       "      <td>3.833781</td>\n",
       "      <td>train</td>\n",
       "      <td>umap_loss</td>\n",
       "    </tr>\n",
       "    <tr>\n",
       "      <th>1</th>\n",
       "      <td>1.594058e+09</td>\n",
       "      <td>2</td>\n",
       "      <td>3.341567</td>\n",
       "      <td>train</td>\n",
       "      <td>umap_loss</td>\n",
       "    </tr>\n",
       "    <tr>\n",
       "      <th>2</th>\n",
       "      <td>1.594058e+09</td>\n",
       "      <td>3</td>\n",
       "      <td>3.075392</td>\n",
       "      <td>train</td>\n",
       "      <td>umap_loss</td>\n",
       "    </tr>\n",
       "  </tbody>\n",
       "</table>\n",
       "</div>"
      ],
      "text/plain": [
       "      wall_time  step       val  group   variable\n",
       "0  1.594058e+09     1  3.833781  train  umap_loss\n",
       "1  1.594058e+09     2  3.341567  train  umap_loss\n",
       "2  1.594058e+09     3  3.075392  train  umap_loss"
      ]
     },
     "execution_count": 14,
     "metadata": {},
     "output_type": "execute_result"
    }
   ],
   "source": [
    "loss_df = retrieve_tensors(embedder.tensorboard_logdir)\n",
    "loss_df[:3]"
   ]
  },
  {
   "cell_type": "code",
   "execution_count": 15,
   "metadata": {
    "ExecuteTime": {
     "end_time": "2020-07-06T17:51:23.437455Z",
     "start_time": "2020-07-06T17:51:22.977730Z"
    }
   },
   "outputs": [
    {
     "data": {
      "image/png": "[encoded data removed]",
      "text/plain": [
       "<Figure size 432x288 with 1 Axes>"
      ]
     },
     "metadata": {
      "needs_background": "light"
     },
     "output_type": "display_data"
    }
   ],
   "source": [
    "ax = sns.lineplot(x=\"step\", y=\"val\", hue=\"group\", data=loss_df[loss_df.variable=='umap_loss'])\n",
    "ax.set_xscale('log')"
   ]
  },
  {
   "cell_type": "markdown",
   "metadata": {},
   "source": [
    "### Save model"
   ]
  },
  {
   "cell_type": "code",
   "execution_count": 16,
   "metadata": {
    "ExecuteTime": {
     "end_time": "2020-07-06T17:51:23.481580Z",
     "start_time": "2020-07-06T17:51:23.438813Z"
    }
   },
   "outputs": [],
   "source": [
    "from tfumap.paths import MODEL_DIR, ensure_dir"
   ]
  },
  {
   "cell_type": "code",
   "execution_count": 17,
   "metadata": {
    "ExecuteTime": {
     "end_time": "2020-07-06T17:51:23.523392Z",
     "start_time": "2020-07-06T17:51:23.483605Z"
    }
   },
   "outputs": [],
   "source": [
    "import pickle"
   ]
  },
  {
   "cell_type": "code",
   "execution_count": 18,
   "metadata": {
    "ExecuteTime": {
     "end_time": "2020-07-06T17:51:23.558103Z",
     "start_time": "2020-07-06T17:51:23.524662Z"
    }
   },
   "outputs": [],
   "source": [
    "import os"
   ]
  },
  {
   "cell_type": "code",
   "execution_count": 19,
   "metadata": {
    "ExecuteTime": {
     "end_time": "2020-07-06T17:51:23.593954Z",
     "start_time": "2020-07-06T17:51:23.559365Z"
    }
   },
   "outputs": [
    {
     "data": {
      "text/plain": [
       "'/mnt/cube/tsainbur/Projects/github_repos/umap_tf_networks/models/test_save'"
      ]
     },
     "execution_count": 19,
     "metadata": {},
     "output_type": "execute_result"
    }
   ],
   "source": [
    "os.path.join(MODEL_DIR, 'test_save')"
   ]
  },
  {
   "cell_type": "code",
   "execution_count": 20,
   "metadata": {
    "ExecuteTime": {
     "end_time": "2020-07-06T17:51:23.631557Z",
     "start_time": "2020-07-06T17:51:23.596993Z"
    }
   },
   "outputs": [],
   "source": [
    "ensure_dir(MODEL_DIR/'test_save'/ 'test_model')"
   ]
  },
  {
   "cell_type": "code",
   "execution_count": 21,
   "metadata": {
    "ExecuteTime": {
     "end_time": "2020-07-06T17:51:24.203004Z",
     "start_time": "2020-07-06T17:51:23.633160Z"
    }
   },
   "outputs": [
    {
     "name": "stdout",
     "output_type": "stream",
     "text": [
      "Pickle of model saved\n"
     ]
    },
    {
     "name": "stderr",
     "output_type": "stream",
     "text": [
      "WARNING: Logging before flag parsing goes to stderr.\n",
      "W0706 10:51:24.093887 140212953085760 deprecation.py:506] From /mnt/cube/tsainbur/conda_envs/tpy3/lib/python3.6/site-packages/tensorflow_core/python/ops/resource_variable_ops.py:1786: calling BaseResourceVariable.__init__ (from tensorflow.python.ops.resource_variable_ops) with constraint is deprecated and will be removed in a future version.\n",
      "Instructions for updating:\n",
      "If using Keras pass *_constraint arguments to layers.\n",
      "I0706 10:51:24.160740 140212953085760 builder_impl.py:775] Assets written to: /mnt/cube/tsainbur/Projects/github_repos/umap_tf_networks/models/test_save/test_model/encoder/assets\n"
     ]
    },
    {
     "name": "stdout",
     "output_type": "stream",
     "text": [
      "Encoder Keras model saved\n"
     ]
    }
   ],
   "source": [
    "embedder.save(MODEL_DIR/'test_save'/ 'test_model')"
   ]
  },
  {
   "cell_type": "code",
   "execution_count": 23,
   "metadata": {
    "ExecuteTime": {
     "end_time": "2020-07-06T17:51:32.316911Z",
     "start_time": "2020-07-06T17:51:32.260492Z"
    }
   },
   "outputs": [],
   "source": [
    "loaded_model = pickle.load((open(MODEL_DIR/'test_save'/ 'test_model'/'model.pkl', 'rb')))"
   ]
  },
  {
   "cell_type": "code",
   "execution_count": 24,
   "metadata": {
    "ExecuteTime": {
     "end_time": "2020-07-06T17:51:32.871709Z",
     "start_time": "2020-07-06T17:51:32.674084Z"
    }
   },
   "outputs": [],
   "source": [
    "loaded_model.load(MODEL_DIR/'test_save'/ 'test_model')"
   ]
  },
  {
   "cell_type": "code",
   "execution_count": 25,
   "metadata": {
    "ExecuteTime": {
     "end_time": "2020-07-06T17:51:33.369881Z",
     "start_time": "2020-07-06T17:51:33.323831Z"
    }
   },
   "outputs": [
    {
     "data": {
      "text/plain": [
       "<tensorflow.python.keras.saving.saved_model.load.Sequential at 0x7f85202ed080>"
      ]
     },
     "execution_count": 25,
     "metadata": {},
     "output_type": "execute_result"
    }
   ],
   "source": [
    "loaded_model.encoder"
   ]
  },
  {
   "cell_type": "code",
   "execution_count": 27,
   "metadata": {
    "ExecuteTime": {
     "end_time": "2020-07-06T17:51:55.214381Z",
     "start_time": "2020-07-06T17:51:55.165065Z"
    }
   },
   "outputs": [],
   "source": [
    "z = loaded_model.encoder(X_train[:100])"
   ]
  },
  {
   "cell_type": "code",
   "execution_count": 30,
   "metadata": {
    "ExecuteTime": {
     "end_time": "2020-07-06T17:52:34.472424Z",
     "start_time": "2020-07-06T17:52:33.510566Z"
    }
   },
   "outputs": [
    {
     "data": {
      "text/plain": [
       "<matplotlib.collections.PathCollection at 0x7f84c4148240>"
      ]
     },
     "execution_count": 30,
     "metadata": {},
     "output_type": "execute_result"
    },
    {
     "data": {
      "image/png": "[encoded data removed]",
      "text/plain": [
       "<Figure size 432x288 with 1 Axes>"
      ]
     },
     "metadata": {
      "needs_background": "light"
     },
     "output_type": "display_data"
    }
   ],
   "source": [
    "plt.scatter(z[:,0], z[:,1], c = Y_train[:100])"
   ]
  },
  {
   "cell_type": "code",
   "execution_count": null,
   "metadata": {},
   "outputs": [],
   "source": []
  }
 ],
 "metadata": {
  "kernelspec": {
   "display_name": "Python 3",
   "language": "python",
   "name": "python3"
  },
  "language_info": {
   "codemirror_mode": {
    "name": "ipython",
    "version": 3
   },
   "file_extension": ".py",
   "mimetype": "text/x-python",
   "name": "python",
   "nbconvert_exporter": "python",
   "pygments_lexer": "ipython3",
   "version": "3.6.7"
  }
 },
 "nbformat": 4,
 "nbformat_minor": 2
}
