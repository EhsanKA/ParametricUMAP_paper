{
 "cells": [
  {
   "cell_type": "markdown",
   "metadata": {},
   "source": [
    "- take a dataset (fmnist)\n",
    "- train UMAP\n",
    "- load pretrained network\n",
    "- get latent embeddings\n",
    "- intersect "
   ]
  },
  {
   "cell_type": "code",
   "execution_count": 1,
   "metadata": {
    "ExecuteTime": {
     "end_time": "2020-08-27T18:01:21.231323Z",
     "start_time": "2020-08-27T18:01:21.213579Z"
    }
   },
   "outputs": [],
   "source": [
    "# reload packages\n",
    "%load_ext autoreload\n",
    "%autoreload 2"
   ]
  },
  {
   "cell_type": "markdown",
   "metadata": {},
   "source": [
    "### Choose GPU"
   ]
  },
  {
   "cell_type": "code",
   "execution_count": 2,
   "metadata": {
    "ExecuteTime": {
     "end_time": "2020-08-27T18:01:21.504197Z",
     "start_time": "2020-08-27T18:01:21.489941Z"
    }
   },
   "outputs": [
    {
     "name": "stdout",
     "output_type": "stream",
     "text": [
      "env: CUDA_DEVICE_ORDER=PCI_BUS_ID\n",
      "env: CUDA_VISIBLE_DEVICES=0\n"
     ]
    }
   ],
   "source": [
    "%env CUDA_DEVICE_ORDER=PCI_BUS_ID\n",
    "%env CUDA_VISIBLE_DEVICES=0"
   ]
  },
  {
   "cell_type": "code",
   "execution_count": 3,
   "metadata": {
    "ExecuteTime": {
     "end_time": "2020-08-27T18:01:25.217445Z",
     "start_time": "2020-08-27T18:01:21.624655Z"
    }
   },
   "outputs": [
    {
     "name": "stdout",
     "output_type": "stream",
     "text": [
      "[PhysicalDevice(name='/physical_device:GPU:0', device_type='GPU')]\n"
     ]
    }
   ],
   "source": [
    "import tensorflow as tf\n",
    "gpu_devices = tf.config.experimental.list_physical_devices('GPU')\n",
    "if len(gpu_devices)>0:\n",
    "    tf.config.experimental.set_memory_growth(gpu_devices[0], True)\n",
    "print(gpu_devices)\n",
    "tf.keras.backend.clear_session()"
   ]
  },
  {
   "cell_type": "markdown",
   "metadata": {},
   "source": [
    "### Load packages"
   ]
  },
  {
   "cell_type": "code",
   "execution_count": 4,
   "metadata": {
    "ExecuteTime": {
     "end_time": "2020-08-27T18:01:30.215416Z",
     "start_time": "2020-08-27T18:01:25.220839Z"
    }
   },
   "outputs": [
    {
     "name": "stderr",
     "output_type": "stream",
     "text": [
      "/mnt/cube/tsainbur/conda_envs/tpy3/lib/python3.6/site-packages/tqdm/autonotebook/__init__.py:14: TqdmExperimentalWarning: Using `tqdm.autonotebook.tqdm` in notebook mode. Use `tqdm.tqdm` instead to force console mode (e.g. in jupyter console)\n",
      "  \" (e.g. in jupyter console)\", TqdmExperimentalWarning)\n"
     ]
    }
   ],
   "source": [
    "import tensorflow as tf\n",
    "import numpy as np\n",
    "import matplotlib.pyplot as plt\n",
    "from tqdm.autonotebook import tqdm\n",
    "from IPython import display\n",
    "import pandas as pd\n",
    "import umap\n",
    "import copy\n",
    "import os, tempfile\n",
    "import tensorflow_addons as tfa\n",
    "import pickle\n"
   ]
  },
  {
   "cell_type": "markdown",
   "metadata": {},
   "source": [
    "### parameters"
   ]
  },
  {
   "cell_type": "code",
   "execution_count": 5,
   "metadata": {
    "ExecuteTime": {
     "end_time": "2020-08-27T18:01:30.260260Z",
     "start_time": "2020-08-27T18:01:30.217535Z"
    }
   },
   "outputs": [],
   "source": [
    "dataset = \"cifar10\"\n",
    "labels_per_class = 4 # 'full'\n",
    "n_latent_dims = 1024\n",
    "confidence_threshold = 0.0 # minimum confidence to include in UMAP graph for learned metric\n",
    "learned_metric = True # whether to use a learned metric, or Euclidean distance between datapoints\n",
    "\n",
    "augmented = False #\n",
    "min_dist= 0.001 # min_dist parameter for UMAP\n",
    "negative_sample_rate = 5 # how many negative samples per positive sample \n",
    "batch_size = 128 # batch size \n",
    "optimizer = tf.keras.optimizers.Adam(1e-3) # the optimizer to train\n",
    "optimizer = tfa.optimizers.MovingAverage(optimizer)\n",
    "label_smoothing = 0.2 # how much label smoothing to apply to categorical crossentropy\n",
    "max_umap_iterations = 500 # how many times, maximum, to recompute UMAP\n",
    "max_epochs_per_graph = 10 # how many epochs maximum each graph trains for (without early stopping)\n",
    "graph_patience = 10 # how many times without improvement to train a new graph\n",
    "min_graph_delta = 0.0025 # minimum improvement on validation acc to consider an improvement for training"
   ]
  },
  {
   "cell_type": "markdown",
   "metadata": {},
   "source": [
    "#### Load dataset"
   ]
  },
  {
   "cell_type": "code",
   "execution_count": 6,
   "metadata": {
    "ExecuteTime": {
     "end_time": "2020-08-27T18:01:30.350352Z",
     "start_time": "2020-08-27T18:01:30.262634Z"
    }
   },
   "outputs": [],
   "source": [
    "from tfumap.semisupervised_keras import load_dataset"
   ]
  },
  {
   "cell_type": "code",
   "execution_count": 7,
   "metadata": {
    "ExecuteTime": {
     "end_time": "2020-08-27T18:01:31.743960Z",
     "start_time": "2020-08-27T18:01:30.352544Z"
    }
   },
   "outputs": [],
   "source": [
    "(\n",
    "    X_train,\n",
    "    X_test,\n",
    "    X_labeled,\n",
    "    Y_labeled,\n",
    "    Y_masked,\n",
    "    X_valid,\n",
    "    Y_train,\n",
    "    Y_test,\n",
    "    Y_valid,\n",
    "    Y_valid_one_hot,\n",
    "    Y_labeled_one_hot,\n",
    "    num_classes,\n",
    "    dims\n",
    ") = load_dataset(dataset, labels_per_class)"
   ]
  },
  {
   "cell_type": "markdown",
   "metadata": {},
   "source": [
    "### load architecture"
   ]
  },
  {
   "cell_type": "code",
   "execution_count": 8,
   "metadata": {
    "ExecuteTime": {
     "end_time": "2020-08-27T18:01:31.784842Z",
     "start_time": "2020-08-27T18:01:31.745372Z"
    }
   },
   "outputs": [],
   "source": [
    "from tfumap.semisupervised_keras import load_architecture"
   ]
  },
  {
   "cell_type": "code",
   "execution_count": 9,
   "metadata": {
    "ExecuteTime": {
     "end_time": "2020-08-27T18:01:32.887405Z",
     "start_time": "2020-08-27T18:01:31.786048Z"
    }
   },
   "outputs": [],
   "source": [
    "encoder, classifier, embedder = load_architecture(dataset, n_latent_dims)"
   ]
  },
  {
   "cell_type": "markdown",
   "metadata": {},
   "source": [
    "### load pretrained weights"
   ]
  },
  {
   "cell_type": "code",
   "execution_count": 10,
   "metadata": {
    "ExecuteTime": {
     "end_time": "2020-08-27T18:01:32.924554Z",
     "start_time": "2020-08-27T18:01:32.889475Z"
    }
   },
   "outputs": [],
   "source": [
    "from tfumap.semisupervised_keras import load_pretrained_weights"
   ]
  },
  {
   "cell_type": "code",
   "execution_count": 11,
   "metadata": {
    "ExecuteTime": {
     "end_time": "2020-08-27T18:01:33.105405Z",
     "start_time": "2020-08-27T18:01:32.925966Z"
    },
    "scrolled": true
   },
   "outputs": [
    {
     "name": "stderr",
     "output_type": "stream",
     "text": [
      "WARNING: Logging before flag parsing goes to stderr.\n",
      "W0827 11:01:32.960969 140484057970496 base.py:272] Inconsistent references when loading the checkpoint into this object graph. Either the Trackable object references in the Python program have changed in an incompatible way, or the checkpoint was generated in an incompatible program.\n",
      "\n",
      "Two checkpoint references resolved to different objects (<tensorflow_addons.layers.wrappers.WeightNormalization object at 0x7fc3d8516860> and <tensorflow.python.keras.layers.advanced_activations.LeakyReLU object at 0x7fc3d8516cf8>).\n",
      "W0827 11:01:32.962576 140484057970496 base.py:272] Inconsistent references when loading the checkpoint into this object graph. Either the Trackable object references in the Python program have changed in an incompatible way, or the checkpoint was generated in an incompatible program.\n",
      "\n",
      "Two checkpoint references resolved to different objects (<tensorflow_addons.layers.wrappers.WeightNormalization object at 0x7fc3d84cdf28> and <tensorflow.python.keras.layers.advanced_activations.LeakyReLU object at 0x7fc3d8522c50>).\n",
      "W0827 11:01:32.985875 140484057970496 base.py:272] Inconsistent references when loading the checkpoint into this object graph. Either the Trackable object references in the Python program have changed in an incompatible way, or the checkpoint was generated in an incompatible program.\n",
      "\n",
      "Two checkpoint references resolved to different objects (<tensorflow_addons.layers.wrappers.WeightNormalization object at 0x7fc3e351ca20> and <tensorflow.python.keras.layers.normalization_v2.BatchNormalization object at 0x7fc3e351cd68>).\n",
      "W0827 11:01:32.989345 140484057970496 base.py:272] Inconsistent references when loading the checkpoint into this object graph. Either the Trackable object references in the Python program have changed in an incompatible way, or the checkpoint was generated in an incompatible program.\n",
      "\n",
      "Two checkpoint references resolved to different objects (<tensorflow.python.keras.layers.normalization_v2.BatchNormalization object at 0x7fc3e351cd68> and <tensorflow.python.keras.layers.advanced_activations.LeakyReLU object at 0x7fc3e005e2b0>).\n",
      "W0827 11:01:32.994256 140484057970496 base.py:272] Inconsistent references when loading the checkpoint into this object graph. Either the Trackable object references in the Python program have changed in an incompatible way, or the checkpoint was generated in an incompatible program.\n",
      "\n",
      "Two checkpoint references resolved to different objects (<tensorflow_addons.layers.wrappers.WeightNormalization object at 0x7fc3e00c61d0> and <tensorflow.python.keras.layers.normalization_v2.BatchNormalization object at 0x7fc3e00c6ac8>).\n",
      "W0827 11:01:32.997112 140484057970496 base.py:272] Inconsistent references when loading the checkpoint into this object graph. Either the Trackable object references in the Python program have changed in an incompatible way, or the checkpoint was generated in an incompatible program.\n",
      "\n",
      "Two checkpoint references resolved to different objects (<tensorflow.python.keras.layers.normalization_v2.BatchNormalization object at 0x7fc3e00c6ac8> and <tensorflow.python.keras.layers.advanced_activations.LeakyReLU object at 0x7fc3e00c6128>).\n",
      "W0827 11:01:33.000901 140484057970496 base.py:272] Inconsistent references when loading the checkpoint into this object graph. Either the Trackable object references in the Python program have changed in an incompatible way, or the checkpoint was generated in an incompatible program.\n",
      "\n",
      "Two checkpoint references resolved to different objects (<tensorflow_addons.layers.wrappers.WeightNormalization object at 0x7fc3e00249e8> and <tensorflow.python.keras.layers.normalization_v2.BatchNormalization object at 0x7fc3e0024a58>).\n",
      "W0827 11:01:33.003648 140484057970496 base.py:272] Inconsistent references when loading the checkpoint into this object graph. Either the Trackable object references in the Python program have changed in an incompatible way, or the checkpoint was generated in an incompatible program.\n",
      "\n",
      "Two checkpoint references resolved to different objects (<tensorflow.python.keras.layers.normalization_v2.BatchNormalization object at 0x7fc3e0024a58> and <tensorflow.python.keras.layers.advanced_activations.LeakyReLU object at 0x7fc3e0024e10>).\n",
      "W0827 11:01:33.009572 140484057970496 base.py:272] Inconsistent references when loading the checkpoint into this object graph. Either the Trackable object references in the Python program have changed in an incompatible way, or the checkpoint was generated in an incompatible program.\n",
      "\n",
      "Two checkpoint references resolved to different objects (<tensorflow_addons.layers.wrappers.WeightNormalization object at 0x7fc3d87af128> and <tensorflow.python.keras.layers.normalization_v2.BatchNormalization object at 0x7fc3d87af780>).\n",
      "W0827 11:01:33.012248 140484057970496 base.py:272] Inconsistent references when loading the checkpoint into this object graph. Either the Trackable object references in the Python program have changed in an incompatible way, or the checkpoint was generated in an incompatible program.\n",
      "\n",
      "Two checkpoint references resolved to different objects (<tensorflow.python.keras.layers.normalization_v2.BatchNormalization object at 0x7fc3d87af780> and <tensorflow.python.keras.layers.advanced_activations.LeakyReLU object at 0x7fc3d87af978>).\n",
      "W0827 11:01:33.016012 140484057970496 base.py:272] Inconsistent references when loading the checkpoint into this object graph. Either the Trackable object references in the Python program have changed in an incompatible way, or the checkpoint was generated in an incompatible program.\n",
      "\n",
      "Two checkpoint references resolved to different objects (<tensorflow_addons.layers.wrappers.WeightNormalization object at 0x7fc3d86d21d0> and <tensorflow.python.keras.layers.normalization_v2.BatchNormalization object at 0x7fc3d86d27f0>).\n",
      "W0827 11:01:33.018711 140484057970496 base.py:272] Inconsistent references when loading the checkpoint into this object graph. Either the Trackable object references in the Python program have changed in an incompatible way, or the checkpoint was generated in an incompatible program.\n",
      "\n",
      "Two checkpoint references resolved to different objects (<tensorflow.python.keras.layers.normalization_v2.BatchNormalization object at 0x7fc3d86d27f0> and <tensorflow.python.keras.layers.advanced_activations.LeakyReLU object at 0x7fc3d86d2a20>).\n",
      "W0827 11:01:33.022474 140484057970496 base.py:272] Inconsistent references when loading the checkpoint into this object graph. Either the Trackable object references in the Python program have changed in an incompatible way, or the checkpoint was generated in an incompatible program.\n",
      "\n",
      "Two checkpoint references resolved to different objects (<tensorflow_addons.layers.wrappers.WeightNormalization object at 0x7fc3d86a7518> and <tensorflow.python.keras.layers.normalization_v2.BatchNormalization object at 0x7fc3d86a7828>).\n",
      "W0827 11:01:33.025178 140484057970496 base.py:272] Inconsistent references when loading the checkpoint into this object graph. Either the Trackable object references in the Python program have changed in an incompatible way, or the checkpoint was generated in an incompatible program.\n",
      "\n",
      "Two checkpoint references resolved to different objects (<tensorflow.python.keras.layers.normalization_v2.BatchNormalization object at 0x7fc3d86a7828> and <tensorflow.python.keras.layers.advanced_activations.LeakyReLU object at 0x7fc3d86a7a58>).\n",
      "W0827 11:01:33.031085 140484057970496 base.py:272] Inconsistent references when loading the checkpoint into this object graph. Either the Trackable object references in the Python program have changed in an incompatible way, or the checkpoint was generated in an incompatible program.\n",
      "\n",
      "Two checkpoint references resolved to different objects (<tensorflow_addons.layers.wrappers.WeightNormalization object at 0x7fc3d8606c88> and <tensorflow.python.keras.layers.normalization_v2.BatchNormalization object at 0x7fc3d860e2b0>).\n",
      "W0827 11:01:33.033757 140484057970496 base.py:272] Inconsistent references when loading the checkpoint into this object graph. Either the Trackable object references in the Python program have changed in an incompatible way, or the checkpoint was generated in an incompatible program.\n",
      "\n",
      "Two checkpoint references resolved to different objects (<tensorflow.python.keras.layers.normalization_v2.BatchNormalization object at 0x7fc3d860e2b0> and <tensorflow.python.keras.layers.advanced_activations.LeakyReLU object at 0x7fc3d860e518>).\n"
     ]
    },
    {
     "name": "stderr",
     "output_type": "stream",
     "text": [
      "W0827 11:01:33.037516 140484057970496 base.py:272] Inconsistent references when loading the checkpoint into this object graph. Either the Trackable object references in the Python program have changed in an incompatible way, or the checkpoint was generated in an incompatible program.\n",
      "\n",
      "Two checkpoint references resolved to different objects (<tensorflow_addons.layers.wrappers.WeightNormalization object at 0x7fc3d85df048> and <tensorflow.python.keras.layers.normalization_v2.BatchNormalization object at 0x7fc3d85df358>).\n",
      "W0827 11:01:33.040191 140484057970496 base.py:272] Inconsistent references when loading the checkpoint into this object graph. Either the Trackable object references in the Python program have changed in an incompatible way, or the checkpoint was generated in an incompatible program.\n",
      "\n",
      "Two checkpoint references resolved to different objects (<tensorflow.python.keras.layers.normalization_v2.BatchNormalization object at 0x7fc3d85df358> and <tensorflow.python.keras.layers.advanced_activations.LeakyReLU object at 0x7fc3d85df550>).\n",
      "W0827 11:01:33.043964 140484057970496 base.py:272] Inconsistent references when loading the checkpoint into this object graph. Either the Trackable object references in the Python program have changed in an incompatible way, or the checkpoint was generated in an incompatible program.\n",
      "\n",
      "Two checkpoint references resolved to different objects (<tensorflow_addons.layers.wrappers.WeightNormalization object at 0x7fc3d85b4080> and <tensorflow.python.keras.layers.normalization_v2.BatchNormalization object at 0x7fc3d85b4390>).\n",
      "W0827 11:01:33.046706 140484057970496 base.py:272] Inconsistent references when loading the checkpoint into this object graph. Either the Trackable object references in the Python program have changed in an incompatible way, or the checkpoint was generated in an incompatible program.\n",
      "\n",
      "Two checkpoint references resolved to different objects (<tensorflow.python.keras.layers.normalization_v2.BatchNormalization object at 0x7fc3d85b4390> and <tensorflow.python.keras.layers.advanced_activations.LeakyReLU object at 0x7fc3d85b4588>).\n"
     ]
    }
   ],
   "source": [
    "encoder, classifier = load_pretrained_weights(dataset, augmented, labels_per_class, encoder, classifier)"
   ]
  },
  {
   "cell_type": "markdown",
   "metadata": {},
   "source": [
    "#### compute pretrained accuracy"
   ]
  },
  {
   "cell_type": "code",
   "execution_count": 12,
   "metadata": {
    "ExecuteTime": {
     "end_time": "2020-08-27T18:01:38.027495Z",
     "start_time": "2020-08-27T18:01:33.106731Z"
    }
   },
   "outputs": [
    {
     "name": "stdout",
     "output_type": "stream",
     "text": [
      "313/313 [==============================] - 2s 6ms/step\n",
      "313/313 [==============================] - 0s 1ms/step\n",
      "pretrained acc: 0.217\n"
     ]
    }
   ],
   "source": [
    "# test current acc\n",
    "pretrained_predictions = classifier.predict(encoder.predict(X_test, verbose=True), verbose=True)\n",
    "pretrained_predictions = np.argmax(pretrained_predictions, axis=1)\n",
    "pretrained_acc = np.mean(pretrained_predictions == Y_test)\n",
    "print('pretrained acc: {}'.format(pretrained_acc))"
   ]
  },
  {
   "cell_type": "markdown",
   "metadata": {},
   "source": [
    "### get last layer activation"
   ]
  },
  {
   "cell_type": "code",
   "execution_count": 13,
   "metadata": {
    "ExecuteTime": {
     "end_time": "2020-08-27T18:01:47.143042Z",
     "start_time": "2020-08-27T18:01:38.029254Z"
    }
   },
   "outputs": [],
   "source": [
    "# model to grab last layer activations\n",
    "last_layer_class = tf.keras.models.Model(\n",
    "    classifier.input,\n",
    "    [classifier.get_layer(name=classifier.layers[-2].name).get_output_at(0)],\n",
    ")\n",
    "\n",
    "# get encoder activations for X_train\n",
    "enc_z = encoder.predict(X_train)\n",
    "\n",
    "# get last layer activations for X_train\n",
    "last_layer_z = last_layer_class.predict(enc_z)"
   ]
  },
  {
   "cell_type": "code",
   "execution_count": 14,
   "metadata": {
    "ExecuteTime": {
     "end_time": "2020-08-27T18:01:47.186912Z",
     "start_time": "2020-08-27T18:01:47.144454Z"
    }
   },
   "outputs": [],
   "source": [
    "import tensorflow_addons as tfa\n",
    "def augment(image, label):\n",
    "    image = tf.squeeze(image) # Add 6 pixels of padding\n",
    "    image = tf.image.resize_with_crop_or_pad(image, dims[0] + 6, dims[1] + 6) # crop 6 pixels\n",
    "    image = tf.image.random_crop(image, size=dims)\n",
    "    image = tf.image.random_brightness(image, max_delta=0.15)  # Random brightness\n",
    "    image= tf.image.random_contrast(image, lower=0.6, upper=1.4)\n",
    "    image = tf.image.random_flip_left_right(image)\n",
    "    image = tf.image.random_hue(image, 0.05, seed=None)\n",
    "    #image = tf.image.random_jpeg_quality(image, 10, 100, seed=None)\n",
    "    image = tfa.image.rotate(image, tf.squeeze(tf.random.uniform(shape = (1,1), minval=-.2, maxval=.2)), interpolation='BILINEAR')\n",
    "    image = tfa.image.random_cutout(tf.expand_dims(image, 0), (8,8), constant_values=0.5)[0]\n",
    "    image = tf.clip_by_value(image, 0, 1)\n",
    "    return image, label"
   ]
  },
  {
   "cell_type": "code",
   "execution_count": 15,
   "metadata": {
    "ExecuteTime": {
     "end_time": "2020-08-27T18:01:49.329616Z",
     "start_time": "2020-08-27T18:01:47.187889Z"
    }
   },
   "outputs": [],
   "source": [
    "train_ds = (\n",
    "     tf.data.Dataset.from_tensor_slices((X_train, Y_train))\n",
    "    .map(augment, num_parallel_calls=tf.data.experimental.AUTOTUNE)\n",
    "    .batch(batch_size)\n",
    ") "
   ]
  },
  {
   "cell_type": "code",
   "execution_count": 31,
   "metadata": {
    "ExecuteTime": {
     "end_time": "2020-08-27T18:10:25.985469Z",
     "start_time": "2020-08-27T18:06:10.247609Z"
    }
   },
   "outputs": [
    {
     "data": {
      "application/vnd.jupyter.widget-view+json": {
       "model_id": "ab3d7f63dbdd4bb6b297074c0bc2640d",
       "version_major": 2,
       "version_minor": 0
      },
      "text/plain": [
       "HBox(children=(IntProgress(value=0, max=10), HTML(value='')))"
      ]
     },
     "metadata": {},
     "output_type": "display_data"
    },
    {
     "data": {
      "application/vnd.jupyter.widget-view+json": {
       "model_id": "48b1ebb1ae7d4a07959220d9d71adf41",
       "version_major": 2,
       "version_minor": 0
      },
      "text/plain": [
       "HBox(children=(IntProgress(value=1, bar_style='info', max=1), HTML(value='')))"
      ]
     },
     "metadata": {},
     "output_type": "display_data"
    },
    {
     "data": {
      "application/vnd.jupyter.widget-view+json": {
       "model_id": "4ba7e7513b614a468a20380c76b3de70",
       "version_major": 2,
       "version_minor": 0
      },
      "text/plain": [
       "HBox(children=(IntProgress(value=1, bar_style='info', max=1), HTML(value='')))"
      ]
     },
     "metadata": {},
     "output_type": "display_data"
    },
    {
     "data": {
      "application/vnd.jupyter.widget-view+json": {
       "model_id": "4a8932bf570a4d37ac2544cd8d53b377",
       "version_major": 2,
       "version_minor": 0
      },
      "text/plain": [
       "HBox(children=(IntProgress(value=1, bar_style='info', max=1), HTML(value='')))"
      ]
     },
     "metadata": {},
     "output_type": "display_data"
    },
    {
     "data": {
      "application/vnd.jupyter.widget-view+json": {
       "model_id": "3284769fcf184893b93222af3ef96c35",
       "version_major": 2,
       "version_minor": 0
      },
      "text/plain": [
       "HBox(children=(IntProgress(value=1, bar_style='info', max=1), HTML(value='')))"
      ]
     },
     "metadata": {},
     "output_type": "display_data"
    },
    {
     "data": {
      "application/vnd.jupyter.widget-view+json": {
       "model_id": "eaa60be1547b47e09e8537e133016da5",
       "version_major": 2,
       "version_minor": 0
      },
      "text/plain": [
       "HBox(children=(IntProgress(value=1, bar_style='info', max=1), HTML(value='')))"
      ]
     },
     "metadata": {},
     "output_type": "display_data"
    },
    {
     "data": {
      "application/vnd.jupyter.widget-view+json": {
       "model_id": "ddd2de8df66243b086435691bd975610",
       "version_major": 2,
       "version_minor": 0
      },
      "text/plain": [
       "HBox(children=(IntProgress(value=1, bar_style='info', max=1), HTML(value='')))"
      ]
     },
     "metadata": {},
     "output_type": "display_data"
    },
    {
     "data": {
      "application/vnd.jupyter.widget-view+json": {
       "model_id": "4a3edd5bf7a543c2bfe85d579adee91a",
       "version_major": 2,
       "version_minor": 0
      },
      "text/plain": [
       "HBox(children=(IntProgress(value=1, bar_style='info', max=1), HTML(value='')))"
      ]
     },
     "metadata": {},
     "output_type": "display_data"
    },
    {
     "data": {
      "application/vnd.jupyter.widget-view+json": {
       "model_id": "dc983af6f68c46a180561ad50f84b956",
       "version_major": 2,
       "version_minor": 0
      },
      "text/plain": [
       "HBox(children=(IntProgress(value=1, bar_style='info', max=1), HTML(value='')))"
      ]
     },
     "metadata": {},
     "output_type": "display_data"
    },
    {
     "data": {
      "application/vnd.jupyter.widget-view+json": {
       "model_id": "88e96507ca8e42e698127538d9b61466",
       "version_major": 2,
       "version_minor": 0
      },
      "text/plain": [
       "HBox(children=(IntProgress(value=1, bar_style='info', max=1), HTML(value='')))"
      ]
     },
     "metadata": {},
     "output_type": "display_data"
    },
    {
     "data": {
      "application/vnd.jupyter.widget-view+json": {
       "model_id": "fc737dd320d84d858a0843bc0f5eb927",
       "version_major": 2,
       "version_minor": 0
      },
      "text/plain": [
       "HBox(children=(IntProgress(value=1, bar_style='info', max=1), HTML(value='')))"
      ]
     },
     "metadata": {},
     "output_type": "display_data"
    }
   ],
   "source": [
    "ll_list = []\n",
    "nepochs = 10\n",
    "for epoch in tqdm(range(nepochs)):\n",
    "    for X,y in tqdm(iter(train_ds)):\n",
    "        ll_all = last_layer_class.predict(encoder.predict(X))\n",
    "        ll_list.append(ll_all)"
   ]
  },
  {
   "cell_type": "code",
   "execution_count": 32,
   "metadata": {
    "ExecuteTime": {
     "end_time": "2020-08-27T18:10:26.621766Z",
     "start_time": "2020-08-27T18:10:25.987349Z"
    }
   },
   "outputs": [
    {
     "data": {
      "text/plain": [
       "(400000, 256)"
      ]
     },
     "execution_count": 32,
     "metadata": {},
     "output_type": "execute_result"
    }
   ],
   "source": [
    "ll_act = np.vstack(ll_list)\n",
    "ll_act.shape"
   ]
  },
  {
   "cell_type": "code",
   "execution_count": 33,
   "metadata": {
    "ExecuteTime": {
     "end_time": "2020-08-27T18:10:26.661319Z",
     "start_time": "2020-08-27T18:10:26.623746Z"
    }
   },
   "outputs": [],
   "source": [
    "from umap import UMAP"
   ]
  },
  {
   "cell_type": "code",
   "execution_count": 34,
   "metadata": {
    "ExecuteTime": {
     "end_time": "2020-08-27T18:10:26.740321Z",
     "start_time": "2020-08-27T18:10:26.662771Z"
    }
   },
   "outputs": [],
   "source": [
    "embedder = UMAP(verbose=True, n_neighbors = 5)"
   ]
  },
  {
   "cell_type": "code",
   "execution_count": 35,
   "metadata": {
    "ExecuteTime": {
     "end_time": "2020-08-27T18:14:59.517193Z",
     "start_time": "2020-08-27T18:10:26.741938Z"
    }
   },
   "outputs": [
    {
     "name": "stdout",
     "output_type": "stream",
     "text": [
      "UMAP(dens_frac=0.0, dens_lambda=0.0, n_neighbors=5, verbose=True)\n",
      "Construct fuzzy simplicial set\n",
      "Thu Aug 27 11:10:27 2020 Finding Nearest Neighbors\n",
      "Thu Aug 27 11:10:27 2020 Building RP forest with 37 trees\n",
      "Thu Aug 27 11:10:33 2020 parallel NN descent for 19 iterations\n",
      "\t 0  /  19\n",
      "\t 1  /  19\n",
      "\t 2  /  19\n",
      "\t 3  /  19\n",
      "\t 4  /  19\n",
      "\t 5  /  19\n",
      "Thu Aug 27 11:10:37 2020 Finished Nearest Neighbor Search\n",
      "Thu Aug 27 11:10:38 2020 Construct embedding\n",
      "\tcompleted  0  /  200 epochs\n",
      "\tcompleted  20  /  200 epochs\n",
      "\tcompleted  40  /  200 epochs\n",
      "\tcompleted  60  /  200 epochs\n",
      "\tcompleted  80  /  200 epochs\n",
      "\tcompleted  100  /  200 epochs\n",
      "\tcompleted  120  /  200 epochs\n",
      "\tcompleted  140  /  200 epochs\n",
      "\tcompleted  160  /  200 epochs\n",
      "\tcompleted  180  /  200 epochs\n",
      "Thu Aug 27 11:14:58 2020 Finished embedding\n"
     ]
    }
   ],
   "source": [
    "z = embedder.fit_transform(ll_act)"
   ]
  },
  {
   "cell_type": "code",
   "execution_count": 36,
   "metadata": {
    "ExecuteTime": {
     "end_time": "2020-08-27T18:15:00.047822Z",
     "start_time": "2020-08-27T18:14:59.518978Z"
    }
   },
   "outputs": [],
   "source": [
    "y_repeat = np.repeat(Y_train, nepochs)"
   ]
  },
  {
   "cell_type": "code",
   "execution_count": 38,
   "metadata": {
    "ExecuteTime": {
     "end_time": "2020-08-27T18:17:29.014161Z",
     "start_time": "2020-08-27T18:17:19.471929Z"
    }
   },
   "outputs": [
    {
     "data": {
      "text/plain": [
       "<matplotlib.collections.PathCollection at 0x7fc488a8e208>"
      ]
     },
     "execution_count": 38,
     "metadata": {},
     "output_type": "execute_result"
    },
    {
     "data": {
      "image/png": "[encoded data removed]",
      "text/plain": [
       "<Figure size 432x288 with 1 Axes>"
      ]
     },
     "metadata": {
      "needs_background": "light"
     },
     "output_type": "display_data"
    }
   ],
   "source": [
    "plt.scatter(z[:, 0], z[:, 1], c=y_repeat.flatten(), s= 1, alpha = 0.01, cmap = plt.cm.tab10)"
   ]
  },
  {
   "cell_type": "code",
   "execution_count": null,
   "metadata": {},
   "outputs": [],
   "source": [
    "# compute the graph a dozen times and take the average..."
   ]
  }
 ],
 "metadata": {
  "kernelspec": {
   "display_name": "Python 3",
   "language": "python",
   "name": "python3"
  },
  "language_info": {
   "codemirror_mode": {
    "name": "ipython",
    "version": 3
   },
   "file_extension": ".py",
   "mimetype": "text/x-python",
   "name": "python",
   "nbconvert_exporter": "python",
   "pygments_lexer": "ipython3",
   "version": "3.6.7"
  }
 },
 "nbformat": 4,
 "nbformat_minor": 2
}
