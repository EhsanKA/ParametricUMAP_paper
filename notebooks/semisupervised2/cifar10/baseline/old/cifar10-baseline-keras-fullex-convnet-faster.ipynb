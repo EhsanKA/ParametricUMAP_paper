{
 "cells": [
  {
   "cell_type": "code",
   "execution_count": 1,
   "metadata": {
    "ExecuteTime": {
     "end_time": "2020-08-09T19:52:37.463959Z",
     "start_time": "2020-08-09T19:52:37.450160Z"
    }
   },
   "outputs": [],
   "source": [
    "# reload packages\n",
    "%load_ext autoreload\n",
    "%autoreload 2"
   ]
  },
  {
   "cell_type": "markdown",
   "metadata": {},
   "source": [
    "### Choose GPU"
   ]
  },
  {
   "cell_type": "code",
   "execution_count": 2,
   "metadata": {
    "ExecuteTime": {
     "end_time": "2020-08-09T19:52:37.473921Z",
     "start_time": "2020-08-09T19:52:37.465223Z"
    }
   },
   "outputs": [
    {
     "name": "stdout",
     "output_type": "stream",
     "text": [
      "env: CUDA_DEVICE_ORDER=PCI_BUS_ID\n",
      "env: CUDA_VISIBLE_DEVICES=1\n"
     ]
    }
   ],
   "source": [
    "%env CUDA_DEVICE_ORDER=PCI_BUS_ID\n",
    "%env CUDA_VISIBLE_DEVICES=1"
   ]
  },
  {
   "cell_type": "code",
   "execution_count": 3,
   "metadata": {
    "ExecuteTime": {
     "end_time": "2020-08-09T19:52:41.543547Z",
     "start_time": "2020-08-09T19:52:37.475272Z"
    }
   },
   "outputs": [
    {
     "name": "stdout",
     "output_type": "stream",
     "text": [
      "[PhysicalDevice(name='/physical_device:GPU:0', device_type='GPU')]\n"
     ]
    }
   ],
   "source": [
    "import tensorflow as tf\n",
    "gpu_devices = tf.config.experimental.list_physical_devices('GPU')\n",
    "if len(gpu_devices)>0:\n",
    "    tf.config.experimental.set_memory_growth(gpu_devices[0], True)\n",
    "print(gpu_devices)\n",
    "tf.keras.backend.clear_session()"
   ]
  },
  {
   "cell_type": "markdown",
   "metadata": {},
   "source": [
    "### dataset information"
   ]
  },
  {
   "cell_type": "code",
   "execution_count": 4,
   "metadata": {
    "ExecuteTime": {
     "end_time": "2020-08-09T19:52:41.575040Z",
     "start_time": "2020-08-09T19:52:41.544980Z"
    }
   },
   "outputs": [
    {
     "name": "stdout",
     "output_type": "stream",
     "text": [
      "cifar10_1.0_1024_full____2020_08_09_12_52_41_572586_baseline\n"
     ]
    }
   ],
   "source": [
    "from datetime import datetime\n",
    "\n",
    "dataset = \"cifar10\"\n",
    "dims = (32, 32, 3)\n",
    "umap_prop = 1.0\n",
    "num_classes = 10\n",
    "PROJECTION_DIMS = 1024\n",
    "labels_per_class = 'full' # full\n",
    "batch_size = 512\n",
    "datestring = datetime.now().strftime(\"%Y_%m_%d_%H_%M_%S_%f\")\n",
    "datestring = (\n",
    "    str(dataset)\n",
    "    + \"_\"\n",
    "    + str(umap_prop)\n",
    "    + \"_\"\n",
    "    + str(PROJECTION_DIMS)\n",
    "    + \"_\"\n",
    "    + str(labels_per_class)\n",
    "    + \"____\"\n",
    "    + datestring \n",
    "    + '_baseline'\n",
    ")\n",
    "print(datestring)"
   ]
  },
  {
   "cell_type": "markdown",
   "metadata": {},
   "source": [
    "### Load packages"
   ]
  },
  {
   "cell_type": "code",
   "execution_count": 5,
   "metadata": {
    "ExecuteTime": {
     "end_time": "2020-08-09T19:52:46.379681Z",
     "start_time": "2020-08-09T19:52:41.577010Z"
    }
   },
   "outputs": [
    {
     "name": "stderr",
     "output_type": "stream",
     "text": [
      "/mnt/cube/tsainbur/conda_envs/tpy3/lib/python3.6/site-packages/tqdm/autonotebook/__init__.py:14: TqdmExperimentalWarning: Using `tqdm.autonotebook.tqdm` in notebook mode. Use `tqdm.tqdm` instead to force console mode (e.g. in jupyter console)\n",
      "  \" (e.g. in jupyter console)\", TqdmExperimentalWarning)\n"
     ]
    }
   ],
   "source": [
    "import tensorflow as tf\n",
    "import numpy as np\n",
    "import matplotlib.pyplot as plt\n",
    "from tqdm.autonotebook import tqdm\n",
    "from IPython import display\n",
    "import pandas as pd\n",
    "import umap\n",
    "import copy\n",
    "import os, tempfile"
   ]
  },
  {
   "cell_type": "markdown",
   "metadata": {},
   "source": [
    "### Load dataset"
   ]
  },
  {
   "cell_type": "code",
   "execution_count": 6,
   "metadata": {
    "ExecuteTime": {
     "end_time": "2020-08-09T19:52:47.331853Z",
     "start_time": "2020-08-09T19:52:46.381526Z"
    }
   },
   "outputs": [
    {
     "data": {
      "text/plain": [
       "(40000, 32, 32, 3)"
      ]
     },
     "execution_count": 6,
     "metadata": {},
     "output_type": "execute_result"
    }
   ],
   "source": [
    "from tfumap.load_datasets import load_CIFAR10, mask_labels\n",
    "X_train, X_test, X_valid, Y_train, Y_test, Y_valid = load_CIFAR10(flatten=False)\n",
    "X_train.shape"
   ]
  },
  {
   "cell_type": "code",
   "execution_count": 7,
   "metadata": {
    "ExecuteTime": {
     "end_time": "2020-08-09T19:52:47.372630Z",
     "start_time": "2020-08-09T19:52:47.333236Z"
    }
   },
   "outputs": [],
   "source": [
    "if labels_per_class == \"full\":\n",
    "    X_labeled = X_train\n",
    "    Y_masked = Y_labeled = Y_train\n",
    "else:\n",
    "    X_labeled, Y_labeled, Y_masked = mask_labels(\n",
    "        X_train, Y_train, labels_per_class=labels_per_class\n",
    "    )"
   ]
  },
  {
   "cell_type": "markdown",
   "metadata": {},
   "source": [
    "### Build network"
   ]
  },
  {
   "cell_type": "code",
   "execution_count": 8,
   "metadata": {
    "ExecuteTime": {
     "end_time": "2020-08-09T19:52:47.413098Z",
     "start_time": "2020-08-09T19:52:47.374127Z"
    }
   },
   "outputs": [],
   "source": [
    "from tensorflow.keras.models import Sequential \n",
    "from tensorflow.keras.models import model_from_json\n",
    "from tensorflow.keras.layers import Dense, Activation, Dropout, Flatten, BatchNormalization\n",
    "from tensorflow.keras.layers import Conv2D, MaxPooling2D\n",
    "from tensorflow.keras import regularizers"
   ]
  },
  {
   "cell_type": "code",
   "execution_count": 9,
   "metadata": {
    "ExecuteTime": {
     "end_time": "2020-08-09T19:52:48.418086Z",
     "start_time": "2020-08-09T19:52:47.414783Z"
    }
   },
   "outputs": [],
   "source": [
    "weight_decay = 1e-4\n",
    "# https://github.com/RaptorMai/Cifar10-CNN-Keras/blob/master/Cifar_better.ipynb\n",
    "model = Sequential()\n",
    "model.add(Conv2D(32, (3,3), padding='same', kernel_regularizer=regularizers.l2(weight_decay), input_shape=dims))\n",
    "model.add(Activation('relu'))\n",
    "model.add(BatchNormalization())\n",
    "model.add(Conv2D(32, (3,3), padding='same', kernel_regularizer=regularizers.l2(weight_decay)))\n",
    "model.add(Activation('relu'))\n",
    "model.add(BatchNormalization())\n",
    "model.add(MaxPooling2D(pool_size=(2,2)))\n",
    "model.add(Dropout(0.2))\n",
    "\n",
    "model.add(Conv2D(64, (3,3), padding='same', kernel_regularizer=regularizers.l2(weight_decay)))\n",
    "model.add(Activation('relu'))\n",
    "model.add(BatchNormalization())\n",
    "model.add(Conv2D(64, (3,3), padding='same', kernel_regularizer=regularizers.l2(weight_decay)))\n",
    "model.add(Activation('relu'))\n",
    "model.add(BatchNormalization())\n",
    "model.add(MaxPooling2D(pool_size=(2,2)))\n",
    "model.add(Dropout(0.3))\n",
    "\n",
    "model.add(Conv2D(128, (3,3), padding='same', kernel_regularizer=regularizers.l2(weight_decay)))\n",
    "model.add(Activation('relu'))\n",
    "model.add(BatchNormalization())\n",
    "model.add(Conv2D(128, (3,3), padding='same', kernel_regularizer=regularizers.l2(weight_decay)))\n",
    "model.add(Activation('relu'))\n",
    "model.add(BatchNormalization())\n",
    "model.add(MaxPooling2D(pool_size=(2,2)))\n",
    "model.add(Dropout(0.4))\n",
    "model.add(Flatten())\n",
    "\n",
    "#model.add(Dense(512))\n",
    "#model.add(Dropout(0.9))\n",
    "#model.add(Dense(512))\n",
    "#model.add(Dropout(0.9))\n",
    "\n",
    "\n",
    "model.add(Dense(num_classes, activation='softmax'))\n",
    "\n",
    "#model.summary()"
   ]
  },
  {
   "cell_type": "code",
   "execution_count": 10,
   "metadata": {
    "ExecuteTime": {
     "end_time": "2020-08-09T19:52:48.467864Z",
     "start_time": "2020-08-09T19:52:48.419774Z"
    }
   },
   "outputs": [
    {
     "name": "stdout",
     "output_type": "stream",
     "text": [
      "Model: \"sequential\"\n",
      "_________________________________________________________________\n",
      "Layer (type)                 Output Shape              Param #   \n",
      "=================================================================\n",
      "conv2d (Conv2D)              (None, 32, 32, 32)        896       \n",
      "_________________________________________________________________\n",
      "activation (Activation)      (None, 32, 32, 32)        0         \n",
      "_________________________________________________________________\n",
      "batch_normalization (BatchNo (None, 32, 32, 32)        128       \n",
      "_________________________________________________________________\n",
      "conv2d_1 (Conv2D)            (None, 32, 32, 32)        9248      \n",
      "_________________________________________________________________\n",
      "activation_1 (Activation)    (None, 32, 32, 32)        0         \n",
      "_________________________________________________________________\n",
      "batch_normalization_1 (Batch (None, 32, 32, 32)        128       \n",
      "_________________________________________________________________\n",
      "max_pooling2d (MaxPooling2D) (None, 16, 16, 32)        0         \n",
      "_________________________________________________________________\n",
      "dropout (Dropout)            (None, 16, 16, 32)        0         \n",
      "_________________________________________________________________\n",
      "conv2d_2 (Conv2D)            (None, 16, 16, 64)        18496     \n",
      "_________________________________________________________________\n",
      "activation_2 (Activation)    (None, 16, 16, 64)        0         \n",
      "_________________________________________________________________\n",
      "batch_normalization_2 (Batch (None, 16, 16, 64)        256       \n",
      "_________________________________________________________________\n",
      "conv2d_3 (Conv2D)            (None, 16, 16, 64)        36928     \n",
      "_________________________________________________________________\n",
      "activation_3 (Activation)    (None, 16, 16, 64)        0         \n",
      "_________________________________________________________________\n",
      "batch_normalization_3 (Batch (None, 16, 16, 64)        256       \n",
      "_________________________________________________________________\n",
      "max_pooling2d_1 (MaxPooling2 (None, 8, 8, 64)          0         \n",
      "_________________________________________________________________\n",
      "dropout_1 (Dropout)          (None, 8, 8, 64)          0         \n",
      "_________________________________________________________________\n",
      "conv2d_4 (Conv2D)            (None, 8, 8, 128)         73856     \n",
      "_________________________________________________________________\n",
      "activation_4 (Activation)    (None, 8, 8, 128)         0         \n",
      "_________________________________________________________________\n",
      "batch_normalization_4 (Batch (None, 8, 8, 128)         512       \n",
      "_________________________________________________________________\n",
      "conv2d_5 (Conv2D)            (None, 8, 8, 128)         147584    \n",
      "_________________________________________________________________\n",
      "activation_5 (Activation)    (None, 8, 8, 128)         0         \n",
      "_________________________________________________________________\n",
      "batch_normalization_5 (Batch (None, 8, 8, 128)         512       \n",
      "_________________________________________________________________\n",
      "max_pooling2d_2 (MaxPooling2 (None, 4, 4, 128)         0         \n",
      "_________________________________________________________________\n",
      "dropout_2 (Dropout)          (None, 4, 4, 128)         0         \n",
      "_________________________________________________________________\n",
      "flatten (Flatten)            (None, 2048)              0         \n",
      "_________________________________________________________________\n",
      "dense (Dense)                (None, 10)                20490     \n",
      "=================================================================\n",
      "Total params: 309,290\n",
      "Trainable params: 308,394\n",
      "Non-trainable params: 896\n",
      "_________________________________________________________________\n"
     ]
    }
   ],
   "source": [
    "model.summary()"
   ]
  },
  {
   "cell_type": "code",
   "execution_count": 11,
   "metadata": {
    "ExecuteTime": {
     "end_time": "2020-08-09T19:52:48.508956Z",
     "start_time": "2020-08-09T19:52:48.469626Z"
    }
   },
   "outputs": [],
   "source": [
    "early_stopping = tf.keras.callbacks.EarlyStopping(\n",
    "    monitor='val_accuracy', min_delta=0, patience=20, verbose=0, mode='auto',\n",
    "    baseline=None, restore_best_weights=False\n",
    ")"
   ]
  },
  {
   "cell_type": "code",
   "execution_count": 12,
   "metadata": {
    "ExecuteTime": {
     "end_time": "2020-08-09T19:52:48.546036Z",
     "start_time": "2020-08-09T19:52:48.510420Z"
    }
   },
   "outputs": [],
   "source": [
    "loss = tf.keras.losses.CategoricalCrossentropy(label_smoothing=0.2)"
   ]
  },
  {
   "cell_type": "code",
   "execution_count": 13,
   "metadata": {
    "ExecuteTime": {
     "end_time": "2020-08-09T19:52:48.597462Z",
     "start_time": "2020-08-09T19:52:48.547331Z"
    }
   },
   "outputs": [],
   "source": [
    "model.compile(tf.keras.optimizers.Adam(1e-4), loss = loss, metrics=['accuracy'])"
   ]
  },
  {
   "cell_type": "code",
   "execution_count": 14,
   "metadata": {
    "ExecuteTime": {
     "end_time": "2020-08-09T19:52:48.637376Z",
     "start_time": "2020-08-09T19:52:48.599054Z"
    }
   },
   "outputs": [],
   "source": [
    "Y_valid_one_hot = tf.keras.backend.one_hot(\n",
    "    Y_valid, num_classes\n",
    ")"
   ]
  },
  {
   "cell_type": "code",
   "execution_count": 15,
   "metadata": {
    "ExecuteTime": {
     "end_time": "2020-08-09T19:52:48.677895Z",
     "start_time": "2020-08-09T19:52:48.638803Z"
    }
   },
   "outputs": [],
   "source": [
    "Y_labeled_one_hot = tf.keras.backend.one_hot(\n",
    "    Y_labeled, num_classes\n",
    ")"
   ]
  },
  {
   "cell_type": "code",
   "execution_count": 16,
   "metadata": {
    "ExecuteTime": {
     "end_time": "2020-08-09T20:02:47.065322Z",
     "start_time": "2020-08-09T19:52:48.679366Z"
    },
    "scrolled": true
   },
   "outputs": [
    {
     "name": "stdout",
     "output_type": "stream",
     "text": [
      "Epoch 1/250\n",
      "79/79 [==============================] - 4s 45ms/step - loss: 3.5873 - accuracy: 0.2022 - val_loss: 2.5118 - val_accuracy: 0.0970\n",
      "Epoch 2/250\n",
      "79/79 [==============================] - 3s 40ms/step - loss: 2.9625 - accuracy: 0.2770 - val_loss: 2.7174 - val_accuracy: 0.0998\n",
      "Epoch 3/250\n",
      "79/79 [==============================] - 3s 38ms/step - loss: 2.6887 - accuracy: 0.3030 - val_loss: 2.9847 - val_accuracy: 0.1007\n",
      "Epoch 4/250\n",
      "79/79 [==============================] - 3s 38ms/step - loss: 2.5123 - accuracy: 0.3304 - val_loss: 3.1192 - val_accuracy: 0.1001\n",
      "Epoch 5/250\n",
      "79/79 [==============================] - 3s 40ms/step - loss: 2.4082 - accuracy: 0.3436 - val_loss: 2.6605 - val_accuracy: 0.1247\n",
      "Epoch 6/250\n",
      "79/79 [==============================] - 3s 38ms/step - loss: 2.3213 - accuracy: 0.3634 - val_loss: 2.4537 - val_accuracy: 0.1730\n",
      "Epoch 7/250\n",
      "79/79 [==============================] - 3s 39ms/step - loss: 2.2473 - accuracy: 0.3821 - val_loss: 2.1577 - val_accuracy: 0.2914\n",
      "Epoch 8/250\n",
      "79/79 [==============================] - 3s 37ms/step - loss: 2.1920 - accuracy: 0.3954 - val_loss: 2.0248 - val_accuracy: 0.3654\n",
      "Epoch 9/250\n",
      "79/79 [==============================] - 3s 39ms/step - loss: 2.1391 - accuracy: 0.4155 - val_loss: 1.9687 - val_accuracy: 0.3967\n",
      "Epoch 10/250\n",
      "79/79 [==============================] - 3s 38ms/step - loss: 2.0842 - accuracy: 0.4339 - val_loss: 1.9046 - val_accuracy: 0.4354\n",
      "Epoch 11/250\n",
      "79/79 [==============================] - 3s 38ms/step - loss: 2.0335 - accuracy: 0.4530 - val_loss: 1.8786 - val_accuracy: 0.4576\n",
      "Epoch 12/250\n",
      "79/79 [==============================] - 3s 38ms/step - loss: 1.9861 - accuracy: 0.4717 - val_loss: 1.8242 - val_accuracy: 0.4917\n",
      "Epoch 13/250\n",
      "79/79 [==============================] - 3s 39ms/step - loss: 1.9454 - accuracy: 0.4924 - val_loss: 1.7665 - val_accuracy: 0.5336\n",
      "Epoch 14/250\n",
      "79/79 [==============================] - 3s 37ms/step - loss: 1.9078 - accuracy: 0.5069 - val_loss: 1.8464 - val_accuracy: 0.4921\n",
      "Epoch 15/250\n",
      "79/79 [==============================] - 3s 37ms/step - loss: 1.8781 - accuracy: 0.5219 - val_loss: 1.7756 - val_accuracy: 0.5303\n",
      "Epoch 16/250\n",
      "79/79 [==============================] - 3s 38ms/step - loss: 1.8497 - accuracy: 0.5336 - val_loss: 1.7586 - val_accuracy: 0.5417\n",
      "Epoch 17/250\n",
      "79/79 [==============================] - 3s 38ms/step - loss: 1.8300 - accuracy: 0.5461 - val_loss: 1.7635 - val_accuracy: 0.5331\n",
      "Epoch 18/250\n",
      "79/79 [==============================] - 3s 37ms/step - loss: 1.8057 - accuracy: 0.5585 - val_loss: 1.7372 - val_accuracy: 0.5464\n",
      "Epoch 19/250\n",
      "79/79 [==============================] - 3s 37ms/step - loss: 1.7889 - accuracy: 0.5680 - val_loss: 1.7402 - val_accuracy: 0.5478\n",
      "Epoch 20/250\n",
      "79/79 [==============================] - 3s 37ms/step - loss: 1.7737 - accuracy: 0.5754 - val_loss: 1.7803 - val_accuracy: 0.5239\n",
      "Epoch 21/250\n",
      "79/79 [==============================] - 3s 38ms/step - loss: 1.7456 - accuracy: 0.5842 - val_loss: 1.7297 - val_accuracy: 0.5585\n",
      "Epoch 22/250\n",
      "79/79 [==============================] - 3s 39ms/step - loss: 1.7245 - accuracy: 0.5958 - val_loss: 1.7179 - val_accuracy: 0.5629\n",
      "Epoch 23/250\n",
      "79/79 [==============================] - 3s 37ms/step - loss: 1.7298 - accuracy: 0.5978 - val_loss: 1.6723 - val_accuracy: 0.5920\n",
      "Epoch 24/250\n",
      "79/79 [==============================] - 3s 38ms/step - loss: 1.7028 - accuracy: 0.6088 - val_loss: 1.6703 - val_accuracy: 0.5852\n",
      "Epoch 25/250\n",
      "79/79 [==============================] - 3s 38ms/step - loss: 1.6913 - accuracy: 0.6143 - val_loss: 1.7015 - val_accuracy: 0.5823\n",
      "Epoch 26/250\n",
      "79/79 [==============================] - 3s 38ms/step - loss: 1.6823 - accuracy: 0.6212 - val_loss: 1.6662 - val_accuracy: 0.5979\n",
      "Epoch 27/250\n",
      "79/79 [==============================] - 3s 38ms/step - loss: 1.6715 - accuracy: 0.6276 - val_loss: 1.6638 - val_accuracy: 0.5996\n",
      "Epoch 28/250\n",
      "79/79 [==============================] - 3s 37ms/step - loss: 1.6571 - accuracy: 0.6365 - val_loss: 1.6232 - val_accuracy: 0.6268\n",
      "Epoch 29/250\n",
      "79/79 [==============================] - 3s 38ms/step - loss: 1.6529 - accuracy: 0.6401 - val_loss: 1.6426 - val_accuracy: 0.6126\n",
      "Epoch 30/250\n",
      "79/79 [==============================] - 3s 38ms/step - loss: 1.6428 - accuracy: 0.6435 - val_loss: 1.6276 - val_accuracy: 0.6234\n",
      "Epoch 31/250\n",
      "79/79 [==============================] - 3s 37ms/step - loss: 1.6310 - accuracy: 0.6516 - val_loss: 1.5895 - val_accuracy: 0.6382\n",
      "Epoch 32/250\n",
      "79/79 [==============================] - 3s 38ms/step - loss: 1.6200 - accuracy: 0.6573 - val_loss: 1.5937 - val_accuracy: 0.6420\n",
      "Epoch 33/250\n",
      "79/79 [==============================] - 3s 37ms/step - loss: 1.6166 - accuracy: 0.6605 - val_loss: 1.6032 - val_accuracy: 0.6414\n",
      "Epoch 34/250\n",
      "79/79 [==============================] - 3s 37ms/step - loss: 1.6022 - accuracy: 0.6651 - val_loss: 1.5643 - val_accuracy: 0.6593\n",
      "Epoch 35/250\n",
      "79/79 [==============================] - 3s 38ms/step - loss: 1.6021 - accuracy: 0.6711 - val_loss: 1.5541 - val_accuracy: 0.6618\n",
      "Epoch 36/250\n",
      "79/79 [==============================] - 3s 39ms/step - loss: 1.5883 - accuracy: 0.6715 - val_loss: 1.5732 - val_accuracy: 0.6636\n",
      "Epoch 37/250\n",
      "79/79 [==============================] - 2s 25ms/step - loss: 1.5752 - accuracy: 0.6803 - val_loss: 1.5510 - val_accuracy: 0.6683\n",
      "Epoch 38/250\n",
      "79/79 [==============================] - 2s 24ms/step - loss: 1.5700 - accuracy: 0.6839 - val_loss: 1.5434 - val_accuracy: 0.6781\n",
      "Epoch 39/250\n",
      "79/79 [==============================] - 2s 23ms/step - loss: 1.5623 - accuracy: 0.6892 - val_loss: 1.5346 - val_accuracy: 0.6857\n",
      "Epoch 40/250\n",
      "79/79 [==============================] - 2s 26ms/step - loss: 1.5498 - accuracy: 0.6941 - val_loss: 1.5280 - val_accuracy: 0.6807\n",
      "Epoch 41/250\n",
      "79/79 [==============================] - 2s 29ms/step - loss: 1.5453 - accuracy: 0.6972 - val_loss: 1.5224 - val_accuracy: 0.6821\n",
      "Epoch 42/250\n",
      "79/79 [==============================] - 2s 23ms/step - loss: 1.5466 - accuracy: 0.6984 - val_loss: 1.5168 - val_accuracy: 0.6917\n",
      "Epoch 43/250\n",
      "79/79 [==============================] - 2s 31ms/step - loss: 1.5330 - accuracy: 0.7049 - val_loss: 1.4925 - val_accuracy: 0.7044\n",
      "Epoch 44/250\n",
      "79/79 [==============================] - 3s 38ms/step - loss: 1.5305 - accuracy: 0.7091 - val_loss: 1.4764 - val_accuracy: 0.7176\n",
      "Epoch 45/250\n",
      "79/79 [==============================] - 3s 37ms/step - loss: 1.5298 - accuracy: 0.7101 - val_loss: 1.4911 - val_accuracy: 0.7034\n",
      "Epoch 46/250\n",
      "79/79 [==============================] - 3s 39ms/step - loss: 1.5164 - accuracy: 0.7136 - val_loss: 1.5112 - val_accuracy: 0.6919\n",
      "Epoch 47/250\n",
      "79/79 [==============================] - 3s 39ms/step - loss: 1.5069 - accuracy: 0.7199 - val_loss: 1.5072 - val_accuracy: 0.6982\n",
      "Epoch 48/250\n",
      "79/79 [==============================] - 3s 38ms/step - loss: 1.5035 - accuracy: 0.7229 - val_loss: 1.4716 - val_accuracy: 0.7183\n",
      "Epoch 49/250\n",
      "79/79 [==============================] - 3s 38ms/step - loss: 1.5003 - accuracy: 0.7229 - val_loss: 1.4849 - val_accuracy: 0.7060\n",
      "Epoch 50/250\n",
      "79/79 [==============================] - 3s 38ms/step - loss: 1.4962 - accuracy: 0.7258 - val_loss: 1.4545 - val_accuracy: 0.7248\n",
      "Epoch 51/250\n",
      "79/79 [==============================] - 3s 37ms/step - loss: 1.4882 - accuracy: 0.7276 - val_loss: 1.4547 - val_accuracy: 0.7204\n",
      "Epoch 52/250\n",
      "79/79 [==============================] - 3s 38ms/step - loss: 1.4820 - accuracy: 0.7311 - val_loss: 1.4477 - val_accuracy: 0.7287\n",
      "Epoch 53/250\n",
      "79/79 [==============================] - 3s 38ms/step - loss: 1.4847 - accuracy: 0.7323 - val_loss: 1.4611 - val_accuracy: 0.7273\n",
      "Epoch 54/250\n",
      "79/79 [==============================] - 3s 38ms/step - loss: 1.4754 - accuracy: 0.7376 - val_loss: 1.4499 - val_accuracy: 0.7277\n",
      "Epoch 55/250\n",
      "79/79 [==============================] - 3s 37ms/step - loss: 1.4628 - accuracy: 0.7406 - val_loss: 1.4611 - val_accuracy: 0.7276\n",
      "Epoch 56/250\n",
      "79/79 [==============================] - 2s 26ms/step - loss: 1.4615 - accuracy: 0.7432 - val_loss: 1.4415 - val_accuracy: 0.7353\n",
      "Epoch 57/250\n",
      "79/79 [==============================] - 2s 23ms/step - loss: 1.4648 - accuracy: 0.7446 - val_loss: 1.4265 - val_accuracy: 0.7428\n",
      "Epoch 58/250\n"
     ]
    },
    {
     "name": "stdout",
     "output_type": "stream",
     "text": [
      "79/79 [==============================] - 2s 23ms/step - loss: 1.4592 - accuracy: 0.7463 - val_loss: 1.4534 - val_accuracy: 0.7255\n",
      "Epoch 59/250\n",
      "79/79 [==============================] - 2s 23ms/step - loss: 1.4498 - accuracy: 0.7490 - val_loss: 1.4214 - val_accuracy: 0.7436\n",
      "Epoch 60/250\n",
      "79/79 [==============================] - 2s 23ms/step - loss: 1.4386 - accuracy: 0.7534 - val_loss: 1.4244 - val_accuracy: 0.7484\n",
      "Epoch 61/250\n",
      "79/79 [==============================] - 2s 23ms/step - loss: 1.4430 - accuracy: 0.7552 - val_loss: 1.4348 - val_accuracy: 0.7445\n",
      "Epoch 62/250\n",
      "79/79 [==============================] - 2s 23ms/step - loss: 1.4345 - accuracy: 0.7557 - val_loss: 1.4175 - val_accuracy: 0.7468\n",
      "Epoch 63/250\n",
      "79/79 [==============================] - 2s 23ms/step - loss: 1.4342 - accuracy: 0.7609 - val_loss: 1.4206 - val_accuracy: 0.7484\n",
      "Epoch 64/250\n",
      "79/79 [==============================] - 2s 23ms/step - loss: 1.4275 - accuracy: 0.7597 - val_loss: 1.3953 - val_accuracy: 0.7591\n",
      "Epoch 65/250\n",
      "79/79 [==============================] - 2s 23ms/step - loss: 1.4233 - accuracy: 0.7656 - val_loss: 1.4140 - val_accuracy: 0.7494\n",
      "Epoch 66/250\n",
      "79/79 [==============================] - 3s 33ms/step - loss: 1.4159 - accuracy: 0.7690 - val_loss: 1.4191 - val_accuracy: 0.7523\n",
      "Epoch 67/250\n",
      "79/79 [==============================] - 3s 38ms/step - loss: 1.4177 - accuracy: 0.7681 - val_loss: 1.4110 - val_accuracy: 0.7606\n",
      "Epoch 68/250\n",
      "79/79 [==============================] - 3s 38ms/step - loss: 1.4135 - accuracy: 0.7729 - val_loss: 1.3885 - val_accuracy: 0.7669\n",
      "Epoch 69/250\n",
      "79/79 [==============================] - 3s 37ms/step - loss: 1.4083 - accuracy: 0.7730 - val_loss: 1.3898 - val_accuracy: 0.7669\n",
      "Epoch 70/250\n",
      "79/79 [==============================] - 3s 37ms/step - loss: 1.4030 - accuracy: 0.7754 - val_loss: 1.3886 - val_accuracy: 0.7688\n",
      "Epoch 71/250\n",
      "79/79 [==============================] - 3s 37ms/step - loss: 1.3995 - accuracy: 0.7787 - val_loss: 1.4020 - val_accuracy: 0.7628\n",
      "Epoch 72/250\n",
      "79/79 [==============================] - 3s 37ms/step - loss: 1.3983 - accuracy: 0.7802 - val_loss: 1.4072 - val_accuracy: 0.7616\n",
      "Epoch 73/250\n",
      "79/79 [==============================] - 3s 37ms/step - loss: 1.3925 - accuracy: 0.7853 - val_loss: 1.3830 - val_accuracy: 0.7721\n",
      "Epoch 74/250\n",
      "79/79 [==============================] - 3s 38ms/step - loss: 1.3903 - accuracy: 0.7825 - val_loss: 1.3836 - val_accuracy: 0.7696\n",
      "Epoch 75/250\n",
      "79/79 [==============================] - 3s 37ms/step - loss: 1.3860 - accuracy: 0.7848 - val_loss: 1.3911 - val_accuracy: 0.7757\n",
      "Epoch 76/250\n",
      "79/79 [==============================] - 3s 38ms/step - loss: 1.3866 - accuracy: 0.7870 - val_loss: 1.3846 - val_accuracy: 0.7705\n",
      "Epoch 77/250\n",
      "79/79 [==============================] - 3s 37ms/step - loss: 1.3788 - accuracy: 0.7906 - val_loss: 1.3713 - val_accuracy: 0.7790\n",
      "Epoch 78/250\n",
      "79/79 [==============================] - 3s 37ms/step - loss: 1.3818 - accuracy: 0.7920 - val_loss: 1.3828 - val_accuracy: 0.7768\n",
      "Epoch 79/250\n",
      "79/79 [==============================] - 3s 38ms/step - loss: 1.3734 - accuracy: 0.7910 - val_loss: 1.3753 - val_accuracy: 0.7811\n",
      "Epoch 80/250\n",
      "79/79 [==============================] - 3s 37ms/step - loss: 1.3737 - accuracy: 0.7953 - val_loss: 1.3705 - val_accuracy: 0.7801\n",
      "Epoch 81/250\n",
      "79/79 [==============================] - 3s 37ms/step - loss: 1.3633 - accuracy: 0.7963 - val_loss: 1.3702 - val_accuracy: 0.7808\n",
      "Epoch 82/250\n",
      "79/79 [==============================] - 3s 37ms/step - loss: 1.3652 - accuracy: 0.7975 - val_loss: 1.3620 - val_accuracy: 0.7849\n",
      "Epoch 83/250\n",
      "79/79 [==============================] - 3s 37ms/step - loss: 1.3618 - accuracy: 0.8024 - val_loss: 1.3653 - val_accuracy: 0.7790\n",
      "Epoch 84/250\n",
      "79/79 [==============================] - 3s 37ms/step - loss: 1.3612 - accuracy: 0.7997 - val_loss: 1.3516 - val_accuracy: 0.7884\n",
      "Epoch 85/250\n",
      "79/79 [==============================] - 3s 38ms/step - loss: 1.3545 - accuracy: 0.8019 - val_loss: 1.3621 - val_accuracy: 0.7860\n",
      "Epoch 86/250\n",
      "79/79 [==============================] - 3s 37ms/step - loss: 1.3514 - accuracy: 0.8042 - val_loss: 1.3640 - val_accuracy: 0.7838\n",
      "Epoch 87/250\n",
      "79/79 [==============================] - 3s 38ms/step - loss: 1.3457 - accuracy: 0.8090 - val_loss: 1.3657 - val_accuracy: 0.7868\n",
      "Epoch 88/250\n",
      "79/79 [==============================] - 3s 37ms/step - loss: 1.3429 - accuracy: 0.8103 - val_loss: 1.3529 - val_accuracy: 0.7896\n",
      "Epoch 89/250\n",
      "79/79 [==============================] - 3s 39ms/step - loss: 1.3380 - accuracy: 0.8114 - val_loss: 1.3526 - val_accuracy: 0.7874\n",
      "Epoch 90/250\n",
      "79/79 [==============================] - 3s 38ms/step - loss: 1.3358 - accuracy: 0.8119 - val_loss: 1.3543 - val_accuracy: 0.7916\n",
      "Epoch 91/250\n",
      "79/79 [==============================] - 3s 37ms/step - loss: 1.3283 - accuracy: 0.8160 - val_loss: 1.3691 - val_accuracy: 0.7878\n",
      "Epoch 92/250\n",
      "79/79 [==============================] - 3s 37ms/step - loss: 1.3303 - accuracy: 0.8154 - val_loss: 1.3531 - val_accuracy: 0.7864\n",
      "Epoch 93/250\n",
      "79/79 [==============================] - 3s 37ms/step - loss: 1.3299 - accuracy: 0.8171 - val_loss: 1.3547 - val_accuracy: 0.7888\n",
      "Epoch 94/250\n",
      "79/79 [==============================] - 3s 37ms/step - loss: 1.3265 - accuracy: 0.8175 - val_loss: 1.3492 - val_accuracy: 0.7963\n",
      "Epoch 95/250\n",
      "79/79 [==============================] - 3s 38ms/step - loss: 1.3225 - accuracy: 0.8191 - val_loss: 1.3452 - val_accuracy: 0.7927\n",
      "Epoch 96/250\n",
      "79/79 [==============================] - 3s 38ms/step - loss: 1.3208 - accuracy: 0.8203 - val_loss: 1.3368 - val_accuracy: 0.7991\n",
      "Epoch 97/250\n",
      "79/79 [==============================] - 3s 37ms/step - loss: 1.3191 - accuracy: 0.8224 - val_loss: 1.3373 - val_accuracy: 0.7955\n",
      "Epoch 98/250\n",
      "79/79 [==============================] - 3s 38ms/step - loss: 1.3181 - accuracy: 0.8220 - val_loss: 1.3512 - val_accuracy: 0.7883\n",
      "Epoch 99/250\n",
      "79/79 [==============================] - 3s 37ms/step - loss: 1.3128 - accuracy: 0.8255 - val_loss: 1.3420 - val_accuracy: 0.7924\n",
      "Epoch 100/250\n",
      "79/79 [==============================] - 3s 38ms/step - loss: 1.3116 - accuracy: 0.8269 - val_loss: 1.3403 - val_accuracy: 0.7929\n",
      "Epoch 101/250\n",
      "79/79 [==============================] - 3s 38ms/step - loss: 1.3066 - accuracy: 0.8291 - val_loss: 1.3466 - val_accuracy: 0.7966\n",
      "Epoch 102/250\n",
      "79/79 [==============================] - 3s 37ms/step - loss: 1.3082 - accuracy: 0.8281 - val_loss: 1.3527 - val_accuracy: 0.7949\n",
      "Epoch 103/250\n",
      "79/79 [==============================] - 3s 37ms/step - loss: 1.3022 - accuracy: 0.8296 - val_loss: 1.3268 - val_accuracy: 0.8016\n",
      "Epoch 104/250\n",
      "79/79 [==============================] - 3s 38ms/step - loss: 1.3001 - accuracy: 0.8336 - val_loss: 1.3155 - val_accuracy: 0.8041\n",
      "Epoch 105/250\n",
      "79/79 [==============================] - 3s 38ms/step - loss: 1.2973 - accuracy: 0.8351 - val_loss: 1.3238 - val_accuracy: 0.8048\n",
      "Epoch 106/250\n",
      "79/79 [==============================] - 3s 37ms/step - loss: 1.2965 - accuracy: 0.8353 - val_loss: 1.3263 - val_accuracy: 0.8056\n",
      "Epoch 107/250\n",
      "79/79 [==============================] - 3s 38ms/step - loss: 1.2947 - accuracy: 0.8361 - val_loss: 1.3245 - val_accuracy: 0.8054\n",
      "Epoch 108/250\n",
      "79/79 [==============================] - 3s 38ms/step - loss: 1.2912 - accuracy: 0.8389 - val_loss: 1.3265 - val_accuracy: 0.8031\n",
      "Epoch 109/250\n",
      "79/79 [==============================] - 3s 38ms/step - loss: 1.2838 - accuracy: 0.8396 - val_loss: 1.3218 - val_accuracy: 0.8023\n",
      "Epoch 110/250\n",
      "79/79 [==============================] - 3s 38ms/step - loss: 1.2843 - accuracy: 0.8418 - val_loss: 1.3234 - val_accuracy: 0.8055\n",
      "Epoch 111/250\n",
      "79/79 [==============================] - 3s 37ms/step - loss: 1.2840 - accuracy: 0.8436 - val_loss: 1.3422 - val_accuracy: 0.8021\n",
      "Epoch 112/250\n",
      "79/79 [==============================] - 3s 37ms/step - loss: 1.2832 - accuracy: 0.8420 - val_loss: 1.3271 - val_accuracy: 0.8037\n",
      "Epoch 113/250\n",
      "79/79 [==============================] - 3s 37ms/step - loss: 1.2794 - accuracy: 0.8456 - val_loss: 1.3158 - val_accuracy: 0.8107\n",
      "Epoch 114/250\n",
      "79/79 [==============================] - 3s 38ms/step - loss: 1.2754 - accuracy: 0.8453 - val_loss: 1.3218 - val_accuracy: 0.8032\n",
      "Epoch 115/250\n"
     ]
    },
    {
     "name": "stdout",
     "output_type": "stream",
     "text": [
      "79/79 [==============================] - 3s 38ms/step - loss: 1.2721 - accuracy: 0.8481 - val_loss: 1.3197 - val_accuracy: 0.8053\n",
      "Epoch 116/250\n",
      "79/79 [==============================] - 3s 37ms/step - loss: 1.2722 - accuracy: 0.8495 - val_loss: 1.3090 - val_accuracy: 0.8097\n",
      "Epoch 117/250\n",
      "79/79 [==============================] - 3s 37ms/step - loss: 1.2696 - accuracy: 0.8493 - val_loss: 1.3108 - val_accuracy: 0.8080\n",
      "Epoch 118/250\n",
      "79/79 [==============================] - 3s 37ms/step - loss: 1.2716 - accuracy: 0.8482 - val_loss: 1.3088 - val_accuracy: 0.8135\n",
      "Epoch 119/250\n",
      "79/79 [==============================] - 3s 34ms/step - loss: 1.2661 - accuracy: 0.8537 - val_loss: 1.3141 - val_accuracy: 0.8100\n",
      "Epoch 120/250\n",
      "79/79 [==============================] - 2s 24ms/step - loss: 1.2641 - accuracy: 0.8543 - val_loss: 1.3164 - val_accuracy: 0.8098\n",
      "Epoch 121/250\n",
      "79/79 [==============================] - 2s 23ms/step - loss: 1.2628 - accuracy: 0.8543 - val_loss: 1.3011 - val_accuracy: 0.8144\n",
      "Epoch 122/250\n",
      "79/79 [==============================] - 2s 24ms/step - loss: 1.2591 - accuracy: 0.8545 - val_loss: 1.3020 - val_accuracy: 0.8154\n",
      "Epoch 123/250\n",
      "79/79 [==============================] - 2s 28ms/step - loss: 1.2585 - accuracy: 0.8567 - val_loss: 1.3065 - val_accuracy: 0.8136\n",
      "Epoch 124/250\n",
      "79/79 [==============================] - 2s 26ms/step - loss: 1.2532 - accuracy: 0.8593 - val_loss: 1.3122 - val_accuracy: 0.8125\n",
      "Epoch 125/250\n",
      "79/79 [==============================] - 2s 23ms/step - loss: 1.2527 - accuracy: 0.8618 - val_loss: 1.3079 - val_accuracy: 0.8175\n",
      "Epoch 126/250\n",
      "79/79 [==============================] - 3s 36ms/step - loss: 1.2498 - accuracy: 0.8607 - val_loss: 1.3027 - val_accuracy: 0.8130\n",
      "Epoch 127/250\n",
      "79/79 [==============================] - 3s 37ms/step - loss: 1.2468 - accuracy: 0.8645 - val_loss: 1.3123 - val_accuracy: 0.8126\n",
      "Epoch 128/250\n",
      "79/79 [==============================] - 3s 38ms/step - loss: 1.2470 - accuracy: 0.8614 - val_loss: 1.3003 - val_accuracy: 0.8129\n",
      "Epoch 129/250\n",
      "79/79 [==============================] - 3s 37ms/step - loss: 1.2475 - accuracy: 0.8627 - val_loss: 1.3057 - val_accuracy: 0.8162\n",
      "Epoch 130/250\n",
      "79/79 [==============================] - 3s 38ms/step - loss: 1.2450 - accuracy: 0.8645 - val_loss: 1.2975 - val_accuracy: 0.8185\n",
      "Epoch 131/250\n",
      "79/79 [==============================] - 3s 38ms/step - loss: 1.2418 - accuracy: 0.8672 - val_loss: 1.2994 - val_accuracy: 0.8133\n",
      "Epoch 132/250\n",
      "79/79 [==============================] - 3s 38ms/step - loss: 1.2401 - accuracy: 0.8665 - val_loss: 1.2954 - val_accuracy: 0.8192\n",
      "Epoch 133/250\n",
      "79/79 [==============================] - 3s 38ms/step - loss: 1.2388 - accuracy: 0.8672 - val_loss: 1.3004 - val_accuracy: 0.8166\n",
      "Epoch 134/250\n",
      "79/79 [==============================] - 3s 37ms/step - loss: 1.2363 - accuracy: 0.8677 - val_loss: 1.3011 - val_accuracy: 0.8123\n",
      "Epoch 135/250\n",
      "79/79 [==============================] - 3s 37ms/step - loss: 1.2350 - accuracy: 0.8702 - val_loss: 1.3031 - val_accuracy: 0.8167\n",
      "Epoch 136/250\n",
      "79/79 [==============================] - 3s 38ms/step - loss: 1.2309 - accuracy: 0.8725 - val_loss: 1.2976 - val_accuracy: 0.8167\n",
      "Epoch 137/250\n",
      "79/79 [==============================] - 3s 37ms/step - loss: 1.2317 - accuracy: 0.8722 - val_loss: 1.3000 - val_accuracy: 0.8185\n",
      "Epoch 138/250\n",
      "79/79 [==============================] - 3s 37ms/step - loss: 1.2297 - accuracy: 0.8742 - val_loss: 1.2899 - val_accuracy: 0.8190\n",
      "Epoch 139/250\n",
      "79/79 [==============================] - 3s 37ms/step - loss: 1.2243 - accuracy: 0.8764 - val_loss: 1.3002 - val_accuracy: 0.8198\n",
      "Epoch 140/250\n",
      "79/79 [==============================] - 3s 37ms/step - loss: 1.2251 - accuracy: 0.8765 - val_loss: 1.3018 - val_accuracy: 0.8162\n",
      "Epoch 141/250\n",
      "79/79 [==============================] - 3s 38ms/step - loss: 1.2265 - accuracy: 0.8761 - val_loss: 1.2950 - val_accuracy: 0.8200\n",
      "Epoch 142/250\n",
      "79/79 [==============================] - 3s 37ms/step - loss: 1.2206 - accuracy: 0.8754 - val_loss: 1.2859 - val_accuracy: 0.8261\n",
      "Epoch 143/250\n",
      "79/79 [==============================] - 3s 37ms/step - loss: 1.2172 - accuracy: 0.8811 - val_loss: 1.3005 - val_accuracy: 0.8153\n",
      "Epoch 144/250\n",
      "79/79 [==============================] - 3s 38ms/step - loss: 1.2162 - accuracy: 0.8805 - val_loss: 1.2922 - val_accuracy: 0.8248\n",
      "Epoch 145/250\n",
      "79/79 [==============================] - 3s 37ms/step - loss: 1.2156 - accuracy: 0.8802 - val_loss: 1.2839 - val_accuracy: 0.8252\n",
      "Epoch 146/250\n",
      "79/79 [==============================] - 3s 37ms/step - loss: 1.2158 - accuracy: 0.8802 - val_loss: 1.2911 - val_accuracy: 0.8231\n",
      "Epoch 147/250\n",
      "79/79 [==============================] - 3s 38ms/step - loss: 1.2119 - accuracy: 0.8819 - val_loss: 1.2891 - val_accuracy: 0.8227\n",
      "Epoch 148/250\n",
      "79/79 [==============================] - 3s 37ms/step - loss: 1.2108 - accuracy: 0.8847 - val_loss: 1.2898 - val_accuracy: 0.8255\n",
      "Epoch 149/250\n",
      "79/79 [==============================] - 3s 37ms/step - loss: 1.2098 - accuracy: 0.8837 - val_loss: 1.2908 - val_accuracy: 0.8256\n",
      "Epoch 150/250\n",
      "79/79 [==============================] - 3s 37ms/step - loss: 1.2099 - accuracy: 0.8837 - val_loss: 1.2801 - val_accuracy: 0.8265\n",
      "Epoch 151/250\n",
      "79/79 [==============================] - 3s 37ms/step - loss: 1.2056 - accuracy: 0.8865 - val_loss: 1.2814 - val_accuracy: 0.8260\n",
      "Epoch 152/250\n",
      "79/79 [==============================] - 3s 37ms/step - loss: 1.2020 - accuracy: 0.8875 - val_loss: 1.2821 - val_accuracy: 0.8275\n",
      "Epoch 153/250\n",
      "79/79 [==============================] - 3s 37ms/step - loss: 1.2025 - accuracy: 0.8887 - val_loss: 1.2770 - val_accuracy: 0.8314\n",
      "Epoch 154/250\n",
      "79/79 [==============================] - 3s 37ms/step - loss: 1.2026 - accuracy: 0.8881 - val_loss: 1.2740 - val_accuracy: 0.8279\n",
      "Epoch 155/250\n",
      "79/79 [==============================] - 3s 37ms/step - loss: 1.1988 - accuracy: 0.8915 - val_loss: 1.2827 - val_accuracy: 0.8243\n",
      "Epoch 156/250\n",
      "79/79 [==============================] - 3s 37ms/step - loss: 1.1954 - accuracy: 0.8928 - val_loss: 1.2854 - val_accuracy: 0.8259\n",
      "Epoch 157/250\n",
      "79/79 [==============================] - 3s 38ms/step - loss: 1.1954 - accuracy: 0.8922 - val_loss: 1.2779 - val_accuracy: 0.8253\n",
      "Epoch 158/250\n",
      "79/79 [==============================] - 3s 37ms/step - loss: 1.1947 - accuracy: 0.8929 - val_loss: 1.2845 - val_accuracy: 0.8231\n",
      "Epoch 159/250\n",
      "79/79 [==============================] - 3s 38ms/step - loss: 1.1903 - accuracy: 0.8934 - val_loss: 1.2779 - val_accuracy: 0.8291\n",
      "Epoch 160/250\n",
      "79/79 [==============================] - 3s 37ms/step - loss: 1.1914 - accuracy: 0.8935 - val_loss: 1.2834 - val_accuracy: 0.8243\n",
      "Epoch 161/250\n",
      "79/79 [==============================] - 3s 37ms/step - loss: 1.1877 - accuracy: 0.8953 - val_loss: 1.2712 - val_accuracy: 0.8306\n",
      "Epoch 162/250\n",
      "79/79 [==============================] - 3s 37ms/step - loss: 1.1875 - accuracy: 0.8948 - val_loss: 1.2766 - val_accuracy: 0.8251\n",
      "Epoch 163/250\n",
      "79/79 [==============================] - 3s 37ms/step - loss: 1.1855 - accuracy: 0.8982 - val_loss: 1.2768 - val_accuracy: 0.8282\n",
      "Epoch 164/250\n",
      "79/79 [==============================] - 3s 37ms/step - loss: 1.1854 - accuracy: 0.8957 - val_loss: 1.2740 - val_accuracy: 0.8272\n",
      "Epoch 165/250\n",
      "79/79 [==============================] - 3s 37ms/step - loss: 1.1833 - accuracy: 0.8988 - val_loss: 1.2636 - val_accuracy: 0.8308\n",
      "Epoch 166/250\n",
      "79/79 [==============================] - 3s 38ms/step - loss: 1.1789 - accuracy: 0.8997 - val_loss: 1.2686 - val_accuracy: 0.8341\n",
      "Epoch 167/250\n",
      "79/79 [==============================] - 3s 37ms/step - loss: 1.1792 - accuracy: 0.8996 - val_loss: 1.2755 - val_accuracy: 0.8282\n",
      "Epoch 168/250\n",
      "79/79 [==============================] - 3s 37ms/step - loss: 1.1778 - accuracy: 0.9002 - val_loss: 1.2674 - val_accuracy: 0.8323\n",
      "Epoch 169/250\n",
      "79/79 [==============================] - 3s 37ms/step - loss: 1.1767 - accuracy: 0.9017 - val_loss: 1.2686 - val_accuracy: 0.8302\n",
      "Epoch 170/250\n",
      "79/79 [==============================] - 3s 36ms/step - loss: 1.1763 - accuracy: 0.9024 - val_loss: 1.2681 - val_accuracy: 0.8305\n",
      "Epoch 171/250\n",
      "79/79 [==============================] - 3s 38ms/step - loss: 1.1723 - accuracy: 0.9032 - val_loss: 1.2723 - val_accuracy: 0.8269\n"
     ]
    },
    {
     "name": "stdout",
     "output_type": "stream",
     "text": [
      "Epoch 172/250\n",
      "79/79 [==============================] - 3s 38ms/step - loss: 1.1725 - accuracy: 0.9041 - val_loss: 1.2681 - val_accuracy: 0.8291\n",
      "Epoch 173/250\n",
      "79/79 [==============================] - 3s 37ms/step - loss: 1.1726 - accuracy: 0.9034 - val_loss: 1.2681 - val_accuracy: 0.8275\n",
      "Epoch 174/250\n",
      "79/79 [==============================] - 3s 38ms/step - loss: 1.1679 - accuracy: 0.9064 - val_loss: 1.2638 - val_accuracy: 0.8332\n",
      "Epoch 175/250\n",
      "79/79 [==============================] - 3s 37ms/step - loss: 1.1671 - accuracy: 0.9066 - val_loss: 1.2688 - val_accuracy: 0.8314\n",
      "Epoch 176/250\n",
      "79/79 [==============================] - 3s 37ms/step - loss: 1.1658 - accuracy: 0.9079 - val_loss: 1.2667 - val_accuracy: 0.8306\n",
      "Epoch 177/250\n",
      "79/79 [==============================] - 3s 37ms/step - loss: 1.1659 - accuracy: 0.9076 - val_loss: 1.2664 - val_accuracy: 0.8301\n",
      "Epoch 178/250\n",
      "79/79 [==============================] - 3s 37ms/step - loss: 1.1650 - accuracy: 0.9065 - val_loss: 1.2634 - val_accuracy: 0.8320\n",
      "Epoch 179/250\n",
      "79/79 [==============================] - 3s 37ms/step - loss: 1.1616 - accuracy: 0.9109 - val_loss: 1.2652 - val_accuracy: 0.8305\n",
      "Epoch 180/250\n",
      "79/79 [==============================] - 3s 37ms/step - loss: 1.1617 - accuracy: 0.9097 - val_loss: 1.2669 - val_accuracy: 0.8310\n",
      "Epoch 181/250\n",
      "79/79 [==============================] - 3s 37ms/step - loss: 1.1596 - accuracy: 0.9117 - val_loss: 1.2638 - val_accuracy: 0.8319\n",
      "Epoch 182/250\n",
      "79/79 [==============================] - 3s 38ms/step - loss: 1.1584 - accuracy: 0.9119 - val_loss: 1.2675 - val_accuracy: 0.8319\n",
      "Epoch 183/250\n",
      "79/79 [==============================] - 3s 37ms/step - loss: 1.1566 - accuracy: 0.9127 - val_loss: 1.2618 - val_accuracy: 0.8304\n",
      "Epoch 184/250\n",
      "79/79 [==============================] - 3s 38ms/step - loss: 1.1560 - accuracy: 0.9128 - val_loss: 1.2621 - val_accuracy: 0.8334\n",
      "Epoch 185/250\n",
      "79/79 [==============================] - 3s 37ms/step - loss: 1.1532 - accuracy: 0.9153 - val_loss: 1.2635 - val_accuracy: 0.8321\n",
      "Epoch 186/250\n",
      "79/79 [==============================] - 3s 37ms/step - loss: 1.1552 - accuracy: 0.9129 - val_loss: 1.2591 - val_accuracy: 0.8342\n",
      "Epoch 187/250\n",
      "79/79 [==============================] - 3s 37ms/step - loss: 1.1537 - accuracy: 0.9145 - val_loss: 1.2614 - val_accuracy: 0.8319\n",
      "Epoch 188/250\n",
      "79/79 [==============================] - 3s 37ms/step - loss: 1.1526 - accuracy: 0.9165 - val_loss: 1.2606 - val_accuracy: 0.8314\n",
      "Epoch 189/250\n",
      "79/79 [==============================] - 3s 38ms/step - loss: 1.1492 - accuracy: 0.9189 - val_loss: 1.2594 - val_accuracy: 0.8372\n",
      "Epoch 190/250\n",
      "79/79 [==============================] - 3s 38ms/step - loss: 1.1484 - accuracy: 0.9187 - val_loss: 1.2608 - val_accuracy: 0.8335\n",
      "Epoch 191/250\n",
      "79/79 [==============================] - 3s 37ms/step - loss: 1.1466 - accuracy: 0.9200 - val_loss: 1.2588 - val_accuracy: 0.8315\n",
      "Epoch 192/250\n",
      "79/79 [==============================] - 2s 31ms/step - loss: 1.1456 - accuracy: 0.9190 - val_loss: 1.2580 - val_accuracy: 0.8330\n",
      "Epoch 193/250\n",
      "79/79 [==============================] - 2s 23ms/step - loss: 1.1439 - accuracy: 0.9211 - val_loss: 1.2580 - val_accuracy: 0.8332\n",
      "Epoch 194/250\n",
      "79/79 [==============================] - 2s 23ms/step - loss: 1.1456 - accuracy: 0.9194 - val_loss: 1.2621 - val_accuracy: 0.8326\n",
      "Epoch 195/250\n",
      "79/79 [==============================] - 2s 23ms/step - loss: 1.1433 - accuracy: 0.9220 - val_loss: 1.2627 - val_accuracy: 0.8300\n",
      "Epoch 196/250\n",
      "79/79 [==============================] - 2s 28ms/step - loss: 1.1406 - accuracy: 0.9212 - val_loss: 1.2568 - val_accuracy: 0.8325\n",
      "Epoch 197/250\n",
      "79/79 [==============================] - 2s 25ms/step - loss: 1.1416 - accuracy: 0.9217 - val_loss: 1.2568 - val_accuracy: 0.8351\n",
      "Epoch 198/250\n",
      "79/79 [==============================] - 2s 23ms/step - loss: 1.1407 - accuracy: 0.9213 - val_loss: 1.2590 - val_accuracy: 0.8335\n",
      "Epoch 199/250\n",
      "79/79 [==============================] - 3s 34ms/step - loss: 1.1398 - accuracy: 0.9227 - val_loss: 1.2594 - val_accuracy: 0.8367\n",
      "Epoch 200/250\n",
      "79/79 [==============================] - 3s 38ms/step - loss: 1.1391 - accuracy: 0.9240 - val_loss: 1.2576 - val_accuracy: 0.8348\n",
      "Epoch 201/250\n",
      "79/79 [==============================] - 3s 38ms/step - loss: 1.1368 - accuracy: 0.9251 - val_loss: 1.2568 - val_accuracy: 0.8355\n",
      "Epoch 202/250\n",
      "79/79 [==============================] - 3s 37ms/step - loss: 1.1379 - accuracy: 0.9226 - val_loss: 1.2603 - val_accuracy: 0.8333\n",
      "Epoch 203/250\n",
      "79/79 [==============================] - 3s 37ms/step - loss: 1.1353 - accuracy: 0.9264 - val_loss: 1.2567 - val_accuracy: 0.8323\n",
      "Epoch 204/250\n",
      "79/79 [==============================] - 3s 38ms/step - loss: 1.1332 - accuracy: 0.9273 - val_loss: 1.2573 - val_accuracy: 0.8359\n",
      "Epoch 205/250\n",
      "79/79 [==============================] - 3s 37ms/step - loss: 1.1319 - accuracy: 0.9291 - val_loss: 1.2551 - val_accuracy: 0.8353\n",
      "Epoch 206/250\n",
      "79/79 [==============================] - 3s 37ms/step - loss: 1.1321 - accuracy: 0.9278 - val_loss: 1.2580 - val_accuracy: 0.8305\n",
      "Epoch 207/250\n",
      "79/79 [==============================] - 3s 37ms/step - loss: 1.1313 - accuracy: 0.9288 - val_loss: 1.2576 - val_accuracy: 0.8346\n",
      "Epoch 208/250\n",
      "79/79 [==============================] - 3s 37ms/step - loss: 1.1293 - accuracy: 0.9308 - val_loss: 1.2568 - val_accuracy: 0.8320\n",
      "Epoch 209/250\n",
      "79/79 [==============================] - 2s 26ms/step - loss: 1.1297 - accuracy: 0.9304 - val_loss: 1.2549 - val_accuracy: 0.8355\n"
     ]
    }
   ],
   "source": [
    "history = model.fit(\n",
    "    X_labeled,\n",
    "    Y_labeled_one_hot,\n",
    "    batch_size=batch_size,\n",
    "    epochs=250,\n",
    "    validation_data=(X_valid, Y_valid_one_hot),\n",
    "    callbacks = [early_stopping]\n",
    ")"
   ]
  },
  {
   "cell_type": "code",
   "execution_count": 19,
   "metadata": {
    "ExecuteTime": {
     "end_time": "2020-08-09T20:04:04.370825Z",
     "start_time": "2020-08-09T20:04:03.675293Z"
    }
   },
   "outputs": [
    {
     "data": {
      "text/plain": [
       "[<matplotlib.lines.Line2D at 0x7f1880101a90>]"
      ]
     },
     "execution_count": 19,
     "metadata": {},
     "output_type": "execute_result"
    },
    {
     "data": {
      "image/png": "[encoded data removed]",
      "text/plain": [
       "<Figure size 432x288 with 1 Axes>"
      ]
     },
     "metadata": {
      "needs_background": "light"
     },
     "output_type": "display_data"
    }
   ],
   "source": [
    "plt.plot(history.history['loss'])\n",
    "plt.plot(history.history['val_loss'])"
   ]
  },
  {
   "cell_type": "code",
   "execution_count": 20,
   "metadata": {
    "ExecuteTime": {
     "end_time": "2020-08-09T20:04:04.501413Z",
     "start_time": "2020-08-09T20:04:04.372153Z"
    }
   },
   "outputs": [
    {
     "data": {
      "text/plain": [
       "[<matplotlib.lines.Line2D at 0x7f193ca09198>]"
      ]
     },
     "execution_count": 20,
     "metadata": {},
     "output_type": "execute_result"
    },
    {
     "data": {
      "image/png": "[encoded data removed]",
      "text/plain": [
       "<Figure size 432x288 with 1 Axes>"
      ]
     },
     "metadata": {
      "needs_background": "light"
     },
     "output_type": "display_data"
    }
   ],
   "source": [
    "plt.plot(history.history['accuracy'])\n",
    "plt.plot(history.history['val_accuracy'])"
   ]
  },
  {
   "cell_type": "code",
   "execution_count": 21,
   "metadata": {
    "ExecuteTime": {
     "end_time": "2020-08-09T20:06:09.203625Z",
     "start_time": "2020-08-09T20:06:08.570311Z"
    }
   },
   "outputs": [],
   "source": [
    "### data augmentation"
   ]
  },
  {
   "cell_type": "code",
   "execution_count": 22,
   "metadata": {
    "ExecuteTime": {
     "end_time": "2020-08-09T20:06:10.235272Z",
     "start_time": "2020-08-09T20:06:10.186576Z"
    }
   },
   "outputs": [
    {
     "data": {
      "text/plain": [
       "<module 'tensorflow._api.v2.image' from '/mnt/cube/tsainbur/conda_envs/tpy3/lib/python3.6/site-packages/tensorflow/_api/v2/image/__init__.py'>"
      ]
     },
     "execution_count": 22,
     "metadata": {},
     "output_type": "execute_result"
    }
   ],
   "source": [
    "tf.image"
   ]
  },
  {
   "cell_type": "markdown",
   "metadata": {},
   "source": [
    "- https://medium.com/fenwicks/tutorial-2-94-accuracy-on-cifar10-in-2-minutes-7b5aaecd9cdd\n",
    "- https://colab.research.google.com/github/davidcpage/cifar10-fast/blob/master/bag_of_tricks.ipynb#scrollTo=n___bs94Rvm2\n",
    "- https://www.tensorflow.org/tutorials/images/data_augmentation#using_tfimage\n",
    "- https://github.com/tensorflow/models/pull/5906/files"
   ]
  }
 ],
 "metadata": {
  "kernelspec": {
   "display_name": "Python 3",
   "language": "python",
   "name": "python3"
  },
  "language_info": {
   "codemirror_mode": {
    "name": "ipython",
    "version": 3
   },
   "file_extension": ".py",
   "mimetype": "text/x-python",
   "name": "python",
   "nbconvert_exporter": "python",
   "pygments_lexer": "ipython3",
   "version": "3.6.7"
  }
 },
 "nbformat": 4,
 "nbformat_minor": 2
}
