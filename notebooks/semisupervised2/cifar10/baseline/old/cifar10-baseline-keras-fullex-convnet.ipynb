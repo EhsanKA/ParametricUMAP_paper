{
 "cells": [
  {
   "cell_type": "code",
   "execution_count": 1,
   "metadata": {
    "ExecuteTime": {
     "end_time": "2020-08-09T19:15:50.673505Z",
     "start_time": "2020-08-09T19:15:50.658554Z"
    }
   },
   "outputs": [],
   "source": [
    "# reload packages\n",
    "%load_ext autoreload\n",
    "%autoreload 2"
   ]
  },
  {
   "cell_type": "markdown",
   "metadata": {},
   "source": [
    "### Choose GPU"
   ]
  },
  {
   "cell_type": "code",
   "execution_count": 2,
   "metadata": {
    "ExecuteTime": {
     "end_time": "2020-08-09T19:15:51.188208Z",
     "start_time": "2020-08-09T19:15:51.179204Z"
    }
   },
   "outputs": [
    {
     "name": "stdout",
     "output_type": "stream",
     "text": [
      "env: CUDA_DEVICE_ORDER=PCI_BUS_ID\n",
      "env: CUDA_VISIBLE_DEVICES=0\n"
     ]
    }
   ],
   "source": [
    "%env CUDA_DEVICE_ORDER=PCI_BUS_ID\n",
    "%env CUDA_VISIBLE_DEVICES=0"
   ]
  },
  {
   "cell_type": "code",
   "execution_count": 3,
   "metadata": {
    "ExecuteTime": {
     "end_time": "2020-08-09T19:15:54.069189Z",
     "start_time": "2020-08-09T19:15:51.316824Z"
    }
   },
   "outputs": [
    {
     "name": "stdout",
     "output_type": "stream",
     "text": [
      "[PhysicalDevice(name='/physical_device:GPU:0', device_type='GPU')]\n"
     ]
    }
   ],
   "source": [
    "import tensorflow as tf\n",
    "gpu_devices = tf.config.experimental.list_physical_devices('GPU')\n",
    "if len(gpu_devices)>0:\n",
    "    tf.config.experimental.set_memory_growth(gpu_devices[0], True)\n",
    "print(gpu_devices)\n",
    "tf.keras.backend.clear_session()"
   ]
  },
  {
   "cell_type": "markdown",
   "metadata": {},
   "source": [
    "### dataset information"
   ]
  },
  {
   "cell_type": "code",
   "execution_count": 4,
   "metadata": {
    "ExecuteTime": {
     "end_time": "2020-08-09T19:15:54.110285Z",
     "start_time": "2020-08-09T19:15:54.070526Z"
    }
   },
   "outputs": [
    {
     "name": "stdout",
     "output_type": "stream",
     "text": [
      "cifar10_1.0_1024_full____2020_08_09_12_15_54_108271_baseline\n"
     ]
    }
   ],
   "source": [
    "from datetime import datetime\n",
    "\n",
    "dataset = \"cifar10\"\n",
    "dims = (32, 32, 3)\n",
    "umap_prop = 1.0\n",
    "num_classes = 10\n",
    "PROJECTION_DIMS = 1024\n",
    "labels_per_class = 'full' # full\n",
    "batch_size = 128\n",
    "datestring = datetime.now().strftime(\"%Y_%m_%d_%H_%M_%S_%f\")\n",
    "datestring = (\n",
    "    str(dataset)\n",
    "    + \"_\"\n",
    "    + str(umap_prop)\n",
    "    + \"_\"\n",
    "    + str(PROJECTION_DIMS)\n",
    "    + \"_\"\n",
    "    + str(labels_per_class)\n",
    "    + \"____\"\n",
    "    + datestring \n",
    "    + '_baseline'\n",
    ")\n",
    "print(datestring)"
   ]
  },
  {
   "cell_type": "markdown",
   "metadata": {},
   "source": [
    "### Load packages"
   ]
  },
  {
   "cell_type": "code",
   "execution_count": 5,
   "metadata": {
    "ExecuteTime": {
     "end_time": "2020-08-09T19:15:58.556200Z",
     "start_time": "2020-08-09T19:15:54.111954Z"
    }
   },
   "outputs": [
    {
     "name": "stderr",
     "output_type": "stream",
     "text": [
      "/mnt/cube/tsainbur/conda_envs/tpy3/lib/python3.6/site-packages/tqdm/autonotebook/__init__.py:14: TqdmExperimentalWarning: Using `tqdm.autonotebook.tqdm` in notebook mode. Use `tqdm.tqdm` instead to force console mode (e.g. in jupyter console)\n",
      "  \" (e.g. in jupyter console)\", TqdmExperimentalWarning)\n"
     ]
    }
   ],
   "source": [
    "import tensorflow as tf\n",
    "import numpy as np\n",
    "import matplotlib.pyplot as plt\n",
    "from tqdm.autonotebook import tqdm\n",
    "from IPython import display\n",
    "import pandas as pd\n",
    "import umap\n",
    "import copy\n",
    "import os, tempfile"
   ]
  },
  {
   "cell_type": "markdown",
   "metadata": {},
   "source": [
    "### Load dataset"
   ]
  },
  {
   "cell_type": "code",
   "execution_count": 6,
   "metadata": {
    "ExecuteTime": {
     "end_time": "2020-08-09T19:15:59.417959Z",
     "start_time": "2020-08-09T19:15:58.557836Z"
    }
   },
   "outputs": [
    {
     "data": {
      "text/plain": [
       "(40000, 32, 32, 3)"
      ]
     },
     "execution_count": 6,
     "metadata": {},
     "output_type": "execute_result"
    }
   ],
   "source": [
    "from tfumap.load_datasets import load_CIFAR10, mask_labels\n",
    "X_train, X_test, X_valid, Y_train, Y_test, Y_valid = load_CIFAR10(flatten=False)\n",
    "X_train.shape"
   ]
  },
  {
   "cell_type": "code",
   "execution_count": 7,
   "metadata": {
    "ExecuteTime": {
     "end_time": "2020-08-09T19:15:59.457230Z",
     "start_time": "2020-08-09T19:15:59.419208Z"
    }
   },
   "outputs": [],
   "source": [
    "if labels_per_class == \"full\":\n",
    "    X_labeled = X_train\n",
    "    Y_masked = Y_labeled = Y_train\n",
    "else:\n",
    "    X_labeled, Y_labeled, Y_masked = mask_labels(\n",
    "        X_train, Y_train, labels_per_class=labels_per_class\n",
    "    )"
   ]
  },
  {
   "cell_type": "markdown",
   "metadata": {},
   "source": [
    "### Build network"
   ]
  },
  {
   "cell_type": "code",
   "execution_count": 10,
   "metadata": {
    "ExecuteTime": {
     "end_time": "2020-08-09T19:17:41.119149Z",
     "start_time": "2020-08-09T19:17:40.391997Z"
    }
   },
   "outputs": [],
   "source": [
    "from tensorflow.keras.models import Sequential \n",
    "from tensorflow.keras.models import model_from_json\n",
    "from tensorflow.keras.layers import Dense, Activation, Dropout, Flatten, BatchNormalization\n",
    "from tensorflow.keras.layers import Conv2D, MaxPooling2D\n",
    "from tensorflow.keras import regularizers"
   ]
  },
  {
   "cell_type": "code",
   "execution_count": 16,
   "metadata": {
    "ExecuteTime": {
     "end_time": "2020-08-09T19:18:56.529045Z",
     "start_time": "2020-08-09T19:18:55.249996Z"
    }
   },
   "outputs": [],
   "source": [
    "weight_decay = 1e-4\n",
    "# https://github.com/RaptorMai/Cifar10-CNN-Keras/blob/master/Cifar_better.ipynb\n",
    "model = Sequential()\n",
    "model.add(Conv2D(32, (3,3), padding='same', kernel_regularizer=regularizers.l2(weight_decay), input_shape=dims))\n",
    "model.add(Activation('relu'))\n",
    "model.add(BatchNormalization())\n",
    "model.add(Conv2D(32, (3,3), padding='same', kernel_regularizer=regularizers.l2(weight_decay)))\n",
    "model.add(Activation('relu'))\n",
    "model.add(BatchNormalization())\n",
    "model.add(MaxPooling2D(pool_size=(2,2)))\n",
    "model.add(Dropout(0.2))\n",
    "\n",
    "model.add(Conv2D(64, (3,3), padding='same', kernel_regularizer=regularizers.l2(weight_decay)))\n",
    "model.add(Activation('relu'))\n",
    "model.add(BatchNormalization())\n",
    "model.add(Conv2D(64, (3,3), padding='same', kernel_regularizer=regularizers.l2(weight_decay)))\n",
    "model.add(Activation('relu'))\n",
    "model.add(BatchNormalization())\n",
    "model.add(MaxPooling2D(pool_size=(2,2)))\n",
    "model.add(Dropout(0.3))\n",
    "\n",
    "model.add(Conv2D(128, (3,3), padding='same', kernel_regularizer=regularizers.l2(weight_decay)))\n",
    "model.add(Activation('relu'))\n",
    "model.add(BatchNormalization())\n",
    "model.add(Conv2D(128, (3,3), padding='same', kernel_regularizer=regularizers.l2(weight_decay)))\n",
    "model.add(Activation('relu'))\n",
    "model.add(BatchNormalization())\n",
    "model.add(MaxPooling2D(pool_size=(2,2)))\n",
    "model.add(Dropout(0.4))\n",
    "\n",
    "model.add(Dense(512))\n",
    "model.add(Dropout(0.9))\n",
    "model.add(Dense(512))\n",
    "model.add(Dropout(0.9))\n",
    "\n",
    "model.add(Flatten())\n",
    "model.add(Dense(num_classes, activation='softmax'))\n",
    "\n",
    "#model.summary()"
   ]
  },
  {
   "cell_type": "code",
   "execution_count": 17,
   "metadata": {
    "ExecuteTime": {
     "end_time": "2020-08-09T19:18:56.579368Z",
     "start_time": "2020-08-09T19:18:56.530775Z"
    }
   },
   "outputs": [
    {
     "name": "stdout",
     "output_type": "stream",
     "text": [
      "Model: \"sequential_5\"\n",
      "_________________________________________________________________\n",
      "Layer (type)                 Output Shape              Param #   \n",
      "=================================================================\n",
      "conv2d_12 (Conv2D)           (None, 32, 32, 32)        896       \n",
      "_________________________________________________________________\n",
      "activation_12 (Activation)   (None, 32, 32, 32)        0         \n",
      "_________________________________________________________________\n",
      "batch_normalization_12 (Batc (None, 32, 32, 32)        128       \n",
      "_________________________________________________________________\n",
      "conv2d_13 (Conv2D)           (None, 32, 32, 32)        9248      \n",
      "_________________________________________________________________\n",
      "activation_13 (Activation)   (None, 32, 32, 32)        0         \n",
      "_________________________________________________________________\n",
      "batch_normalization_13 (Batc (None, 32, 32, 32)        128       \n",
      "_________________________________________________________________\n",
      "max_pooling2d_6 (MaxPooling2 (None, 16, 16, 32)        0         \n",
      "_________________________________________________________________\n",
      "dropout_8 (Dropout)          (None, 16, 16, 32)        0         \n",
      "_________________________________________________________________\n",
      "conv2d_14 (Conv2D)           (None, 16, 16, 64)        18496     \n",
      "_________________________________________________________________\n",
      "activation_14 (Activation)   (None, 16, 16, 64)        0         \n",
      "_________________________________________________________________\n",
      "batch_normalization_14 (Batc (None, 16, 16, 64)        256       \n",
      "_________________________________________________________________\n",
      "conv2d_15 (Conv2D)           (None, 16, 16, 64)        36928     \n",
      "_________________________________________________________________\n",
      "activation_15 (Activation)   (None, 16, 16, 64)        0         \n",
      "_________________________________________________________________\n",
      "batch_normalization_15 (Batc (None, 16, 16, 64)        256       \n",
      "_________________________________________________________________\n",
      "max_pooling2d_7 (MaxPooling2 (None, 8, 8, 64)          0         \n",
      "_________________________________________________________________\n",
      "dropout_9 (Dropout)          (None, 8, 8, 64)          0         \n",
      "_________________________________________________________________\n",
      "conv2d_16 (Conv2D)           (None, 8, 8, 128)         73856     \n",
      "_________________________________________________________________\n",
      "activation_16 (Activation)   (None, 8, 8, 128)         0         \n",
      "_________________________________________________________________\n",
      "batch_normalization_16 (Batc (None, 8, 8, 128)         512       \n",
      "_________________________________________________________________\n",
      "conv2d_17 (Conv2D)           (None, 8, 8, 128)         147584    \n",
      "_________________________________________________________________\n",
      "activation_17 (Activation)   (None, 8, 8, 128)         0         \n",
      "_________________________________________________________________\n",
      "batch_normalization_17 (Batc (None, 8, 8, 128)         512       \n",
      "_________________________________________________________________\n",
      "max_pooling2d_8 (MaxPooling2 (None, 4, 4, 128)         0         \n",
      "_________________________________________________________________\n",
      "dropout_10 (Dropout)         (None, 4, 4, 128)         0         \n",
      "_________________________________________________________________\n",
      "dense_4 (Dense)              (None, 4, 4, 512)         66048     \n",
      "_________________________________________________________________\n",
      "dropout_11 (Dropout)         (None, 4, 4, 512)         0         \n",
      "_________________________________________________________________\n",
      "dense_5 (Dense)              (None, 4, 4, 512)         262656    \n",
      "_________________________________________________________________\n",
      "dropout_12 (Dropout)         (None, 4, 4, 512)         0         \n",
      "_________________________________________________________________\n",
      "flatten_2 (Flatten)          (None, 8192)              0         \n",
      "_________________________________________________________________\n",
      "dense_6 (Dense)              (None, 10)                81930     \n",
      "=================================================================\n",
      "Total params: 699,434\n",
      "Trainable params: 698,538\n",
      "Non-trainable params: 896\n",
      "_________________________________________________________________\n"
     ]
    }
   ],
   "source": [
    "model.summary()"
   ]
  },
  {
   "cell_type": "code",
   "execution_count": 23,
   "metadata": {
    "ExecuteTime": {
     "end_time": "2020-08-09T19:22:26.368792Z",
     "start_time": "2020-08-09T19:22:26.321888Z"
    }
   },
   "outputs": [],
   "source": [
    "early_stopping = tf.keras.callbacks.EarlyStopping(\n",
    "    monitor='val_accuracy', min_delta=0, patience=20, verbose=0, mode='auto',\n",
    "    baseline=None, restore_best_weights=False\n",
    ")"
   ]
  },
  {
   "cell_type": "code",
   "execution_count": null,
   "metadata": {},
   "outputs": [],
   "source": [
    "loss = tf.keras.losses.SparseCategoricalCrossentropy(label_smoothing=0.2)"
   ]
  },
  {
   "cell_type": "code",
   "execution_count": 24,
   "metadata": {
    "ExecuteTime": {
     "end_time": "2020-08-09T19:22:26.514406Z",
     "start_time": "2020-08-09T19:22:26.457466Z"
    }
   },
   "outputs": [],
   "source": [
    "model.compile(tf.keras.optimizers.Adam(1e-4), loss = tf.keras.losses.sparse_categorical_crossentropy, metrics=['accuracy'])"
   ]
  },
  {
   "cell_type": "code",
   "execution_count": 25,
   "metadata": {
    "ExecuteTime": {
     "end_time": "2020-08-09T19:28:33.370347Z",
     "start_time": "2020-08-09T19:22:26.744430Z"
    },
    "scrolled": true
   },
   "outputs": [
    {
     "name": "stdout",
     "output_type": "stream",
     "text": [
      "Epoch 1/100\n",
      "313/313 [==============================] - 3s 10ms/step - loss: 1.7697 - accuracy: 0.5265 - val_loss: 1.4374 - val_accuracy: 0.5823\n",
      "Epoch 2/100\n",
      "313/313 [==============================] - 3s 9ms/step - loss: 1.7781 - accuracy: 0.5311 - val_loss: 1.2135 - val_accuracy: 0.5814\n",
      "Epoch 3/100\n",
      "313/313 [==============================] - 3s 9ms/step - loss: 1.7619 - accuracy: 0.5387 - val_loss: 1.3045 - val_accuracy: 0.5537\n",
      "Epoch 4/100\n",
      "313/313 [==============================] - 3s 9ms/step - loss: 1.6959 - accuracy: 0.5501 - val_loss: 1.2615 - val_accuracy: 0.5928\n",
      "Epoch 5/100\n",
      "313/313 [==============================] - 3s 9ms/step - loss: 1.6866 - accuracy: 0.5527 - val_loss: 1.4147 - val_accuracy: 0.5700\n",
      "Epoch 6/100\n",
      "313/313 [==============================] - 3s 9ms/step - loss: 1.6566 - accuracy: 0.5514 - val_loss: 1.2249 - val_accuracy: 0.6081\n",
      "Epoch 7/100\n",
      "313/313 [==============================] - 3s 9ms/step - loss: 1.6541 - accuracy: 0.5624 - val_loss: 1.2251 - val_accuracy: 0.5914\n",
      "Epoch 8/100\n",
      "313/313 [==============================] - 3s 9ms/step - loss: 1.6038 - accuracy: 0.5638 - val_loss: 1.3238 - val_accuracy: 0.5924\n",
      "Epoch 9/100\n",
      "313/313 [==============================] - 3s 10ms/step - loss: 1.5906 - accuracy: 0.5743 - val_loss: 1.4029 - val_accuracy: 0.6235\n",
      "Epoch 10/100\n",
      "313/313 [==============================] - 3s 9ms/step - loss: 1.5581 - accuracy: 0.5783 - val_loss: 1.4530 - val_accuracy: 0.5714\n",
      "Epoch 11/100\n",
      "313/313 [==============================] - 3s 9ms/step - loss: 1.5255 - accuracy: 0.5807 - val_loss: 1.1453 - val_accuracy: 0.6222\n",
      "Epoch 12/100\n",
      "313/313 [==============================] - 3s 9ms/step - loss: 1.5494 - accuracy: 0.5834 - val_loss: 15.1372 - val_accuracy: 0.4012\n",
      "Epoch 13/100\n",
      "313/313 [==============================] - 3s 9ms/step - loss: 1.5804 - accuracy: 0.5818 - val_loss: 1.1668 - val_accuracy: 0.6176\n",
      "Epoch 14/100\n",
      "313/313 [==============================] - 3s 9ms/step - loss: 1.5147 - accuracy: 0.5935 - val_loss: 1.4001 - val_accuracy: 0.6193\n",
      "Epoch 15/100\n",
      "313/313 [==============================] - 3s 9ms/step - loss: 1.4675 - accuracy: 0.5964 - val_loss: 1.0628 - val_accuracy: 0.6464\n",
      "Epoch 16/100\n",
      "313/313 [==============================] - 3s 9ms/step - loss: 1.4222 - accuracy: 0.6051 - val_loss: 1.2509 - val_accuracy: 0.6463\n",
      "Epoch 17/100\n",
      "313/313 [==============================] - 3s 11ms/step - loss: 1.4342 - accuracy: 0.6053 - val_loss: 1.1579 - val_accuracy: 0.6357\n",
      "Epoch 18/100\n",
      "313/313 [==============================] - 3s 9ms/step - loss: 1.4202 - accuracy: 0.6063 - val_loss: 1.0418 - val_accuracy: 0.6458\n",
      "Epoch 19/100\n",
      "313/313 [==============================] - 3s 10ms/step - loss: 1.3806 - accuracy: 0.6122 - val_loss: 1.1570 - val_accuracy: 0.6471\n",
      "Epoch 20/100\n",
      "313/313 [==============================] - 4s 14ms/step - loss: 1.3470 - accuracy: 0.6199 - val_loss: 1.1865 - val_accuracy: 0.6559\n",
      "Epoch 21/100\n",
      "313/313 [==============================] - 4s 14ms/step - loss: 1.3523 - accuracy: 0.6201 - val_loss: 1.0281 - val_accuracy: 0.6498\n",
      "Epoch 22/100\n",
      "313/313 [==============================] - 4s 14ms/step - loss: 1.3573 - accuracy: 0.6197 - val_loss: 1.0947 - val_accuracy: 0.6506\n",
      "Epoch 23/100\n",
      "313/313 [==============================] - 4s 14ms/step - loss: 1.3338 - accuracy: 0.6163 - val_loss: 1.1892 - val_accuracy: 0.6494\n",
      "Epoch 24/100\n",
      "313/313 [==============================] - 4s 14ms/step - loss: 1.2736 - accuracy: 0.6305 - val_loss: 1.0992 - val_accuracy: 0.6668\n",
      "Epoch 25/100\n",
      "313/313 [==============================] - 4s 14ms/step - loss: 1.2771 - accuracy: 0.6322 - val_loss: 1.0596 - val_accuracy: 0.6630\n",
      "Epoch 26/100\n",
      "313/313 [==============================] - 4s 14ms/step - loss: 1.2271 - accuracy: 0.6395 - val_loss: 0.9560 - val_accuracy: 0.6885\n",
      "Epoch 27/100\n",
      "313/313 [==============================] - 4s 14ms/step - loss: 1.2304 - accuracy: 0.6398 - val_loss: 1.1571 - val_accuracy: 0.6775\n",
      "Epoch 28/100\n",
      "313/313 [==============================] - 4s 14ms/step - loss: 1.2157 - accuracy: 0.6486 - val_loss: 1.1061 - val_accuracy: 0.6687\n",
      "Epoch 29/100\n",
      "313/313 [==============================] - 4s 14ms/step - loss: 1.2134 - accuracy: 0.6457 - val_loss: 1.1812 - val_accuracy: 0.6683\n",
      "Epoch 30/100\n",
      "313/313 [==============================] - 4s 14ms/step - loss: 1.1758 - accuracy: 0.6501 - val_loss: 0.9927 - val_accuracy: 0.6829\n",
      "Epoch 31/100\n",
      "313/313 [==============================] - 4s 14ms/step - loss: 1.1641 - accuracy: 0.6561 - val_loss: 1.0183 - val_accuracy: 0.6919\n",
      "Epoch 32/100\n",
      "313/313 [==============================] - 5s 14ms/step - loss: 1.1740 - accuracy: 0.6524 - val_loss: 0.9465 - val_accuracy: 0.6893\n",
      "Epoch 33/100\n",
      "313/313 [==============================] - 4s 14ms/step - loss: 1.1248 - accuracy: 0.6582 - val_loss: 1.0141 - val_accuracy: 0.6901\n",
      "Epoch 34/100\n",
      "313/313 [==============================] - 4s 14ms/step - loss: 1.1221 - accuracy: 0.6644 - val_loss: 0.9846 - val_accuracy: 0.6818\n",
      "Epoch 35/100\n",
      "313/313 [==============================] - 4s 14ms/step - loss: 1.1225 - accuracy: 0.6641 - val_loss: 0.9231 - val_accuracy: 0.6968\n",
      "Epoch 36/100\n",
      "313/313 [==============================] - 4s 14ms/step - loss: 1.1015 - accuracy: 0.6705 - val_loss: 1.1543 - val_accuracy: 0.6832\n",
      "Epoch 37/100\n",
      "313/313 [==============================] - 4s 14ms/step - loss: 1.0730 - accuracy: 0.6737 - val_loss: 0.9371 - val_accuracy: 0.7033\n",
      "Epoch 38/100\n",
      "313/313 [==============================] - 4s 14ms/step - loss: 1.0714 - accuracy: 0.6761 - val_loss: 0.8750 - val_accuracy: 0.7164\n",
      "Epoch 39/100\n",
      "313/313 [==============================] - 4s 14ms/step - loss: 1.0582 - accuracy: 0.6805 - val_loss: 0.9243 - val_accuracy: 0.6969\n",
      "Epoch 40/100\n",
      "313/313 [==============================] - 4s 14ms/step - loss: 1.0476 - accuracy: 0.6817 - val_loss: 0.9223 - val_accuracy: 0.7153\n",
      "Epoch 41/100\n",
      "313/313 [==============================] - 4s 14ms/step - loss: 1.0499 - accuracy: 0.6873 - val_loss: 0.9863 - val_accuracy: 0.7095\n",
      "Epoch 42/100\n",
      "313/313 [==============================] - 4s 14ms/step - loss: 1.0202 - accuracy: 0.6875 - val_loss: 0.9126 - val_accuracy: 0.7037\n",
      "Epoch 43/100\n",
      "313/313 [==============================] - 4s 14ms/step - loss: 1.0211 - accuracy: 0.6916 - val_loss: 0.9304 - val_accuracy: 0.7070\n",
      "Epoch 44/100\n",
      "313/313 [==============================] - 4s 14ms/step - loss: 1.0163 - accuracy: 0.6931 - val_loss: 0.9245 - val_accuracy: 0.7166\n",
      "Epoch 45/100\n",
      "313/313 [==============================] - 4s 14ms/step - loss: 0.9895 - accuracy: 0.6977 - val_loss: 1.0033 - val_accuracy: 0.7142\n",
      "Epoch 46/100\n",
      "313/313 [==============================] - 4s 14ms/step - loss: 0.9943 - accuracy: 0.6962 - val_loss: 0.8848 - val_accuracy: 0.7202\n",
      "Epoch 47/100\n",
      "313/313 [==============================] - 4s 14ms/step - loss: 0.9675 - accuracy: 0.7022 - val_loss: 0.8909 - val_accuracy: 0.7249\n",
      "Epoch 48/100\n",
      "313/313 [==============================] - 4s 14ms/step - loss: 0.9529 - accuracy: 0.7068 - val_loss: 0.8703 - val_accuracy: 0.7154\n",
      "Epoch 49/100\n",
      "313/313 [==============================] - 5s 14ms/step - loss: 0.9606 - accuracy: 0.7064 - val_loss: 0.8894 - val_accuracy: 0.7325\n",
      "Epoch 50/100\n",
      "313/313 [==============================] - 4s 14ms/step - loss: 0.9534 - accuracy: 0.7071 - val_loss: 0.8116 - val_accuracy: 0.7320\n",
      "Epoch 51/100\n",
      "313/313 [==============================] - 4s 14ms/step - loss: 0.9447 - accuracy: 0.7115 - val_loss: 0.8239 - val_accuracy: 0.7342\n",
      "Epoch 52/100\n",
      "313/313 [==============================] - 4s 14ms/step - loss: 0.9393 - accuracy: 0.7134 - val_loss: 0.8849 - val_accuracy: 0.7350\n",
      "Epoch 53/100\n",
      "313/313 [==============================] - 4s 14ms/step - loss: 0.9100 - accuracy: 0.7175 - val_loss: 0.8288 - val_accuracy: 0.7382\n",
      "Epoch 54/100\n",
      "313/313 [==============================] - 4s 14ms/step - loss: 0.9187 - accuracy: 0.7188 - val_loss: 0.8993 - val_accuracy: 0.7141\n",
      "Epoch 55/100\n",
      "313/313 [==============================] - 4s 14ms/step - loss: 0.9243 - accuracy: 0.7201 - val_loss: 0.8305 - val_accuracy: 0.7346\n",
      "Epoch 56/100\n",
      "313/313 [==============================] - 4s 14ms/step - loss: 0.9059 - accuracy: 0.7188 - val_loss: 0.8189 - val_accuracy: 0.7375\n",
      "Epoch 57/100\n"
     ]
    },
    {
     "name": "stdout",
     "output_type": "stream",
     "text": [
      "313/313 [==============================] - 4s 14ms/step - loss: 0.8952 - accuracy: 0.7243 - val_loss: 0.8327 - val_accuracy: 0.7451\n",
      "Epoch 58/100\n",
      "313/313 [==============================] - 4s 11ms/step - loss: 0.9032 - accuracy: 0.7263 - val_loss: 0.8509 - val_accuracy: 0.7417\n",
      "Epoch 59/100\n",
      "313/313 [==============================] - 3s 10ms/step - loss: 0.8895 - accuracy: 0.7275 - val_loss: 0.8494 - val_accuracy: 0.7288\n",
      "Epoch 60/100\n",
      "313/313 [==============================] - 3s 9ms/step - loss: 0.8721 - accuracy: 0.7253 - val_loss: 0.8305 - val_accuracy: 0.7451\n",
      "Epoch 61/100\n",
      "313/313 [==============================] - 3s 9ms/step - loss: 0.8787 - accuracy: 0.7312 - val_loss: 0.8322 - val_accuracy: 0.7457\n",
      "Epoch 62/100\n",
      "313/313 [==============================] - 3s 9ms/step - loss: 0.8475 - accuracy: 0.7362 - val_loss: 0.8301 - val_accuracy: 0.7424\n",
      "Epoch 63/100\n",
      "313/313 [==============================] - 3s 9ms/step - loss: 0.8651 - accuracy: 0.7343 - val_loss: 0.8325 - val_accuracy: 0.7321\n",
      "Epoch 64/100\n",
      "313/313 [==============================] - 3s 9ms/step - loss: 0.8517 - accuracy: 0.7358 - val_loss: 0.8313 - val_accuracy: 0.7383\n",
      "Epoch 65/100\n",
      "313/313 [==============================] - 3s 9ms/step - loss: 0.8247 - accuracy: 0.7432 - val_loss: 0.7840 - val_accuracy: 0.7538\n",
      "Epoch 66/100\n",
      "313/313 [==============================] - 3s 9ms/step - loss: 0.8319 - accuracy: 0.7442 - val_loss: 0.7890 - val_accuracy: 0.7492\n",
      "Epoch 67/100\n",
      "313/313 [==============================] - 3s 9ms/step - loss: 0.8121 - accuracy: 0.7465 - val_loss: 0.8014 - val_accuracy: 0.7527\n",
      "Epoch 68/100\n",
      "313/313 [==============================] - 3s 9ms/step - loss: 0.8214 - accuracy: 0.7426 - val_loss: 0.7943 - val_accuracy: 0.7590\n",
      "Epoch 69/100\n",
      "313/313 [==============================] - 3s 9ms/step - loss: 0.8100 - accuracy: 0.7503 - val_loss: 0.7446 - val_accuracy: 0.7570\n",
      "Epoch 70/100\n",
      "313/313 [==============================] - 3s 9ms/step - loss: 0.8324 - accuracy: 0.7427 - val_loss: 0.7388 - val_accuracy: 0.7611\n",
      "Epoch 71/100\n",
      "313/313 [==============================] - 3s 9ms/step - loss: 0.8039 - accuracy: 0.7503 - val_loss: 0.7619 - val_accuracy: 0.7530\n",
      "Epoch 72/100\n",
      "313/313 [==============================] - 3s 9ms/step - loss: 0.7996 - accuracy: 0.7526 - val_loss: 0.7755 - val_accuracy: 0.7605\n",
      "Epoch 73/100\n",
      "313/313 [==============================] - 3s 9ms/step - loss: 0.7951 - accuracy: 0.7499 - val_loss: 0.7520 - val_accuracy: 0.7607\n",
      "Epoch 74/100\n",
      "313/313 [==============================] - 3s 9ms/step - loss: 0.7751 - accuracy: 0.7553 - val_loss: 0.7611 - val_accuracy: 0.7570\n",
      "Epoch 75/100\n",
      "313/313 [==============================] - 3s 9ms/step - loss: 0.7715 - accuracy: 0.7575 - val_loss: 0.7340 - val_accuracy: 0.7621\n",
      "Epoch 76/100\n",
      "313/313 [==============================] - 3s 9ms/step - loss: 0.7697 - accuracy: 0.7587 - val_loss: 0.7221 - val_accuracy: 0.7668\n",
      "Epoch 77/100\n",
      "313/313 [==============================] - 3s 9ms/step - loss: 0.7765 - accuracy: 0.7577 - val_loss: 0.7632 - val_accuracy: 0.7618\n",
      "Epoch 78/100\n",
      "313/313 [==============================] - 3s 9ms/step - loss: 0.7575 - accuracy: 0.7639 - val_loss: 0.7484 - val_accuracy: 0.7588\n",
      "Epoch 79/100\n",
      "313/313 [==============================] - 3s 9ms/step - loss: 0.7567 - accuracy: 0.7647 - val_loss: 0.7558 - val_accuracy: 0.7642\n",
      "Epoch 80/100\n",
      "313/313 [==============================] - 3s 11ms/step - loss: 0.7470 - accuracy: 0.7672 - val_loss: 0.7818 - val_accuracy: 0.7680\n",
      "Epoch 81/100\n",
      "313/313 [==============================] - 3s 9ms/step - loss: 0.7455 - accuracy: 0.7674 - val_loss: 0.7810 - val_accuracy: 0.7548\n",
      "Epoch 82/100\n",
      "313/313 [==============================] - 3s 10ms/step - loss: 0.7499 - accuracy: 0.7646 - val_loss: 0.7643 - val_accuracy: 0.7705\n",
      "Epoch 83/100\n",
      "313/313 [==============================] - 4s 14ms/step - loss: 0.7380 - accuracy: 0.7686 - val_loss: 0.7668 - val_accuracy: 0.7578\n",
      "Epoch 84/100\n",
      "313/313 [==============================] - 4s 14ms/step - loss: 0.7320 - accuracy: 0.7714 - val_loss: 0.7772 - val_accuracy: 0.7703\n",
      "Epoch 85/100\n",
      "313/313 [==============================] - 4s 14ms/step - loss: 0.7151 - accuracy: 0.7731 - val_loss: 0.7644 - val_accuracy: 0.7585\n",
      "Epoch 86/100\n",
      "313/313 [==============================] - 4s 14ms/step - loss: 0.7192 - accuracy: 0.7744 - val_loss: 0.7556 - val_accuracy: 0.7584\n",
      "Epoch 87/100\n",
      "313/313 [==============================] - 4s 14ms/step - loss: 0.7179 - accuracy: 0.7757 - val_loss: 0.7348 - val_accuracy: 0.7701\n",
      "Epoch 88/100\n",
      "313/313 [==============================] - 4s 14ms/step - loss: 0.7084 - accuracy: 0.7781 - val_loss: 0.7069 - val_accuracy: 0.7764\n",
      "Epoch 89/100\n",
      "313/313 [==============================] - 4s 14ms/step - loss: 0.7041 - accuracy: 0.7768 - val_loss: 0.6917 - val_accuracy: 0.7752\n",
      "Epoch 90/100\n",
      "313/313 [==============================] - 4s 14ms/step - loss: 0.7048 - accuracy: 0.7786 - val_loss: 0.7194 - val_accuracy: 0.7721\n",
      "Epoch 91/100\n",
      "313/313 [==============================] - 4s 14ms/step - loss: 0.6959 - accuracy: 0.7811 - val_loss: 0.7249 - val_accuracy: 0.7801\n",
      "Epoch 92/100\n",
      "313/313 [==============================] - 4s 14ms/step - loss: 0.6941 - accuracy: 0.7788 - val_loss: 0.7406 - val_accuracy: 0.7698\n",
      "Epoch 93/100\n",
      "313/313 [==============================] - 4s 14ms/step - loss: 0.7270 - accuracy: 0.7762 - val_loss: 0.7242 - val_accuracy: 0.7737\n",
      "Epoch 94/100\n",
      "313/313 [==============================] - 4s 13ms/step - loss: 0.6875 - accuracy: 0.7858 - val_loss: 0.7463 - val_accuracy: 0.7768\n",
      "Epoch 95/100\n",
      "313/313 [==============================] - 3s 9ms/step - loss: 0.6895 - accuracy: 0.7847 - val_loss: 0.7578 - val_accuracy: 0.7661\n",
      "Epoch 96/100\n",
      "313/313 [==============================] - 3s 9ms/step - loss: 0.6785 - accuracy: 0.7890 - val_loss: 0.7055 - val_accuracy: 0.7792\n",
      "Epoch 97/100\n",
      "313/313 [==============================] - 3s 9ms/step - loss: 0.6793 - accuracy: 0.7861 - val_loss: 0.7508 - val_accuracy: 0.7738\n",
      "Epoch 98/100\n",
      "313/313 [==============================] - 3s 9ms/step - loss: 0.6718 - accuracy: 0.7897 - val_loss: 0.7425 - val_accuracy: 0.7729\n",
      "Epoch 99/100\n",
      "313/313 [==============================] - 3s 9ms/step - loss: 0.6644 - accuracy: 0.7918 - val_loss: 0.7545 - val_accuracy: 0.7753\n",
      "Epoch 100/100\n",
      "313/313 [==============================] - 3s 9ms/step - loss: 0.6714 - accuracy: 0.7886 - val_loss: 0.7361 - val_accuracy: 0.7756\n"
     ]
    }
   ],
   "source": [
    "history = model.fit(\n",
    "    X_labeled,\n",
    "    Y_labeled,\n",
    "    batch_size=batch_size,\n",
    "    epochs=100,\n",
    "    validation_data=(X_valid, Y_valid),\n",
    "    callbacks = [early_stopping]\n",
    ")"
   ]
  },
  {
   "cell_type": "code",
   "execution_count": 31,
   "metadata": {
    "ExecuteTime": {
     "end_time": "2020-08-09T19:35:34.703860Z",
     "start_time": "2020-08-09T19:35:34.421569Z"
    }
   },
   "outputs": [
    {
     "data": {
      "text/plain": [
       "[<matplotlib.lines.Line2D at 0x7f2c2eec3438>]"
      ]
     },
     "execution_count": 31,
     "metadata": {},
     "output_type": "execute_result"
    },
    {
     "data": {
      "image/png": "[encoded data removed]",
      "text/plain": [
       "<Figure size 432x288 with 1 Axes>"
      ]
     },
     "metadata": {
      "needs_background": "light"
     },
     "output_type": "display_data"
    }
   ],
   "source": [
    "plt.semilogx(history.history['loss'])\n",
    "plt.semilogx(history.history['val_loss'])"
   ]
  },
  {
   "cell_type": "code",
   "execution_count": 30,
   "metadata": {
    "ExecuteTime": {
     "end_time": "2020-08-09T19:35:29.097357Z",
     "start_time": "2020-08-09T19:35:28.667674Z"
    }
   },
   "outputs": [
    {
     "data": {
      "text/plain": [
       "[<matplotlib.lines.Line2D at 0x7f2c2f7d5c50>]"
      ]
     },
     "execution_count": 30,
     "metadata": {},
     "output_type": "execute_result"
    },
    {
     "data": {
      "image/png": "[encoded data removed]",
      "text/plain": [
       "<Figure size 432x288 with 1 Axes>"
      ]
     },
     "metadata": {
      "needs_background": "light"
     },
     "output_type": "display_data"
    }
   ],
   "source": [
    "plt.semilogx(history.history['accuracy'])\n",
    "plt.semilogx(history.history['val_accuracy'])"
   ]
  },
  {
   "cell_type": "code",
   "execution_count": null,
   "metadata": {},
   "outputs": [],
   "source": []
  }
 ],
 "metadata": {
  "kernelspec": {
   "display_name": "Python 3",
   "language": "python",
   "name": "python3"
  },
  "language_info": {
   "codemirror_mode": {
    "name": "ipython",
    "version": 3
   },
   "file_extension": ".py",
   "mimetype": "text/x-python",
   "name": "python",
   "nbconvert_exporter": "python",
   "pygments_lexer": "ipython3",
   "version": "3.6.7"
  }
 },
 "nbformat": 4,
 "nbformat_minor": 2
}
