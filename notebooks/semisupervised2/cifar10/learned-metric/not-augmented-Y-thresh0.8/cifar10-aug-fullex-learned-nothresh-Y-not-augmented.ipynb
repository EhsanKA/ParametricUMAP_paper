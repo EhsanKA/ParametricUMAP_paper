{
 "cells": [
  {
   "cell_type": "code",
   "execution_count": 1,
   "metadata": {
    "ExecuteTime": {
     "end_time": "2020-08-20T06:00:55.236270Z",
     "start_time": "2020-08-20T06:00:55.224418Z"
    }
   },
   "outputs": [],
   "source": [
    "# reload packages\n",
    "%load_ext autoreload\n",
    "%autoreload 2"
   ]
  },
  {
   "cell_type": "markdown",
   "metadata": {},
   "source": [
    "### Choose GPU"
   ]
  },
  {
   "cell_type": "code",
   "execution_count": 2,
   "metadata": {
    "ExecuteTime": {
     "end_time": "2020-08-20T06:00:55.244681Z",
     "start_time": "2020-08-20T06:00:55.237063Z"
    }
   },
   "outputs": [
    {
     "name": "stdout",
     "output_type": "stream",
     "text": [
      "env: CUDA_DEVICE_ORDER=PCI_BUS_ID\n",
      "env: CUDA_VISIBLE_DEVICES=0\n"
     ]
    }
   ],
   "source": [
    "%env CUDA_DEVICE_ORDER=PCI_BUS_ID\n",
    "%env CUDA_VISIBLE_DEVICES=0"
   ]
  },
  {
   "cell_type": "code",
   "execution_count": 3,
   "metadata": {
    "ExecuteTime": {
     "end_time": "2020-08-20T06:00:58.333651Z",
     "start_time": "2020-08-20T06:00:55.245576Z"
    }
   },
   "outputs": [
    {
     "name": "stdout",
     "output_type": "stream",
     "text": [
      "[PhysicalDevice(name='/physical_device:GPU:0', device_type='GPU')]\n"
     ]
    }
   ],
   "source": [
    "import tensorflow as tf\n",
    "gpu_devices = tf.config.experimental.list_physical_devices('GPU')\n",
    "if len(gpu_devices)>0:\n",
    "    tf.config.experimental.set_memory_growth(gpu_devices[0], True)\n",
    "print(gpu_devices)\n",
    "tf.keras.backend.clear_session()"
   ]
  },
  {
   "cell_type": "markdown",
   "metadata": {},
   "source": [
    "### Load packages"
   ]
  },
  {
   "cell_type": "code",
   "execution_count": 4,
   "metadata": {
    "ExecuteTime": {
     "end_time": "2020-08-20T06:01:02.962178Z",
     "start_time": "2020-08-20T06:00:58.334651Z"
    }
   },
   "outputs": [
    {
     "name": "stderr",
     "output_type": "stream",
     "text": [
      "/mnt/cube/tsainbur/conda_envs/tpy3/lib/python3.6/site-packages/tqdm/autonotebook/__init__.py:14: TqdmExperimentalWarning: Using `tqdm.autonotebook.tqdm` in notebook mode. Use `tqdm.tqdm` instead to force console mode (e.g. in jupyter console)\n",
      "  \" (e.g. in jupyter console)\", TqdmExperimentalWarning)\n"
     ]
    }
   ],
   "source": [
    "import tensorflow as tf\n",
    "import numpy as np\n",
    "import matplotlib.pyplot as plt\n",
    "from tqdm.autonotebook import tqdm\n",
    "from IPython import display\n",
    "import pandas as pd\n",
    "import umap\n",
    "import copy\n",
    "import os, tempfile\n",
    "import tensorflow_addons as tfa\n",
    "import pickle\n"
   ]
  },
  {
   "cell_type": "markdown",
   "metadata": {},
   "source": [
    "### parameters"
   ]
  },
  {
   "cell_type": "code",
   "execution_count": 5,
   "metadata": {
    "ExecuteTime": {
     "end_time": "2020-08-20T06:01:03.012070Z",
     "start_time": "2020-08-20T06:01:02.965766Z"
    }
   },
   "outputs": [],
   "source": [
    "dataset = \"cifar10\"\n",
    "labels_per_class = 'full' # 'full'\n",
    "n_latent_dims = 1024\n",
    "confidence_threshold = 0.8 # minimum confidence to include in UMAP graph for learned metric\n",
    "learned_metric = True # whether to use a learned metric, or Euclidean distance between datapoints\n",
    "\n",
    "augmented = False #\n",
    "min_dist= 0.001 # min_dist parameter for UMAP\n",
    "negative_sample_rate = 5 # how many negative samples per positive sample \n",
    "batch_size = 128 # batch size \n",
    "optimizer = tf.keras.optimizers.Adam(1e-3) # the optimizer to train\n",
    "optimizer = tfa.optimizers.MovingAverage(optimizer)\n",
    "label_smoothing = 0.2 # how much label smoothing to apply to categorical crossentropy\n",
    "max_umap_iterations = 500 # how many times, maximum, to recompute UMAP\n",
    "max_epochs_per_graph = 10 # how many epochs maximum each graph trains for (without early stopping)\n",
    "graph_patience = 10 # how many times without improvement to train a new graph\n",
    "min_graph_delta = 0.0025 # minimum improvement on validation acc to consider an improvement for training"
   ]
  },
  {
   "cell_type": "code",
   "execution_count": 6,
   "metadata": {
    "ExecuteTime": {
     "end_time": "2020-08-20T06:01:03.046398Z",
     "start_time": "2020-08-20T06:01:03.013591Z"
    }
   },
   "outputs": [
    {
     "name": "stdout",
     "output_type": "stream",
     "text": [
      "cifar10_0.8_full____2020_08_19_23_01_03_044142_umap_augmented\n"
     ]
    }
   ],
   "source": [
    "from datetime import datetime\n",
    "\n",
    "datestring = datetime.now().strftime(\"%Y_%m_%d_%H_%M_%S_%f\")\n",
    "datestring = (\n",
    "    str(dataset)\n",
    "    + \"_\"\n",
    "    + str(confidence_threshold)\n",
    "    + \"_\"\n",
    "    + str(labels_per_class)\n",
    "    + \"____\"\n",
    "    + datestring \n",
    "    + '_umap_augmented'\n",
    ")\n",
    "print(datestring)"
   ]
  },
  {
   "cell_type": "markdown",
   "metadata": {},
   "source": [
    "#### Load dataset"
   ]
  },
  {
   "cell_type": "code",
   "execution_count": 7,
   "metadata": {
    "ExecuteTime": {
     "end_time": "2020-08-20T06:01:03.114990Z",
     "start_time": "2020-08-20T06:01:03.047716Z"
    }
   },
   "outputs": [],
   "source": [
    "from tfumap.semisupervised_keras import load_dataset"
   ]
  },
  {
   "cell_type": "code",
   "execution_count": 8,
   "metadata": {
    "ExecuteTime": {
     "end_time": "2020-08-20T06:01:04.448256Z",
     "start_time": "2020-08-20T06:01:03.116240Z"
    }
   },
   "outputs": [],
   "source": [
    "(\n",
    "    X_train,\n",
    "    X_test,\n",
    "    X_labeled,\n",
    "    Y_labeled,\n",
    "    Y_masked,\n",
    "    X_valid,\n",
    "    Y_train,\n",
    "    Y_test,\n",
    "    Y_valid,\n",
    "    Y_valid_one_hot,\n",
    "    Y_labeled_one_hot,\n",
    "    num_classes,\n",
    "    dims\n",
    ") = load_dataset(dataset, labels_per_class)"
   ]
  },
  {
   "cell_type": "markdown",
   "metadata": {},
   "source": [
    "### load architecture"
   ]
  },
  {
   "cell_type": "code",
   "execution_count": 9,
   "metadata": {
    "ExecuteTime": {
     "end_time": "2020-08-20T06:01:04.484240Z",
     "start_time": "2020-08-20T06:01:04.449730Z"
    }
   },
   "outputs": [],
   "source": [
    "from tfumap.semisupervised_keras import load_architecture"
   ]
  },
  {
   "cell_type": "code",
   "execution_count": 10,
   "metadata": {
    "ExecuteTime": {
     "end_time": "2020-08-20T06:01:05.448495Z",
     "start_time": "2020-08-20T06:01:04.485339Z"
    }
   },
   "outputs": [],
   "source": [
    "encoder, classifier, embedder = load_architecture(dataset, n_latent_dims)"
   ]
  },
  {
   "cell_type": "markdown",
   "metadata": {},
   "source": [
    "### load pretrained weights"
   ]
  },
  {
   "cell_type": "code",
   "execution_count": 11,
   "metadata": {
    "ExecuteTime": {
     "end_time": "2020-08-20T06:01:05.491820Z",
     "start_time": "2020-08-20T06:01:05.449783Z"
    }
   },
   "outputs": [],
   "source": [
    "from tfumap.semisupervised_keras import load_pretrained_weights"
   ]
  },
  {
   "cell_type": "code",
   "execution_count": 12,
   "metadata": {
    "ExecuteTime": {
     "end_time": "2020-08-20T06:01:06.838937Z",
     "start_time": "2020-08-20T06:01:05.493125Z"
    },
    "scrolled": true
   },
   "outputs": [
    {
     "name": "stderr",
     "output_type": "stream",
     "text": [
      "WARNING: Logging before flag parsing goes to stderr.\n",
      "W0819 23:01:05.577615 140505284368192 base.py:272] Inconsistent references when loading the checkpoint into this object graph. Either the Trackable object references in the Python program have changed in an incompatible way, or the checkpoint was generated in an incompatible program.\n",
      "\n",
      "Two checkpoint references resolved to different objects (<tensorflow_addons.layers.wrappers.WeightNormalization object at 0x7fc8d027f6d8> and <tensorflow.python.keras.layers.advanced_activations.LeakyReLU object at 0x7fc8d0294780>).\n",
      "W0819 23:01:05.579534 140505284368192 base.py:272] Inconsistent references when loading the checkpoint into this object graph. Either the Trackable object references in the Python program have changed in an incompatible way, or the checkpoint was generated in an incompatible program.\n",
      "\n",
      "Two checkpoint references resolved to different objects (<tensorflow_addons.layers.wrappers.WeightNormalization object at 0x7fc8d028d2e8> and <tensorflow.python.keras.layers.advanced_activations.LeakyReLU object at 0x7fc8d0235e80>).\n",
      "W0819 23:01:05.786284 140505284368192 base.py:272] Inconsistent references when loading the checkpoint into this object graph. Either the Trackable object references in the Python program have changed in an incompatible way, or the checkpoint was generated in an incompatible program.\n",
      "\n",
      "Two checkpoint references resolved to different objects (<tensorflow_addons.layers.wrappers.WeightNormalization object at 0x7fc8d488ca20> and <tensorflow.python.keras.layers.normalization_v2.BatchNormalization object at 0x7fc8d488cba8>).\n",
      "W0819 23:01:05.790208 140505284368192 base.py:272] Inconsistent references when loading the checkpoint into this object graph. Either the Trackable object references in the Python program have changed in an incompatible way, or the checkpoint was generated in an incompatible program.\n",
      "\n",
      "Two checkpoint references resolved to different objects (<tensorflow.python.keras.layers.normalization_v2.BatchNormalization object at 0x7fc8d488cba8> and <tensorflow.python.keras.layers.advanced_activations.LeakyReLU object at 0x7fc9ec148d68>).\n",
      "W0819 23:01:05.794243 140505284368192 base.py:272] Inconsistent references when loading the checkpoint into this object graph. Either the Trackable object references in the Python program have changed in an incompatible way, or the checkpoint was generated in an incompatible program.\n",
      "\n",
      "Two checkpoint references resolved to different objects (<tensorflow_addons.layers.wrappers.WeightNormalization object at 0x7fc8d4a0c908> and <tensorflow.python.keras.layers.normalization_v2.BatchNormalization object at 0x7fc8d4a0c4e0>).\n",
      "W0819 23:01:05.797218 140505284368192 base.py:272] Inconsistent references when loading the checkpoint into this object graph. Either the Trackable object references in the Python program have changed in an incompatible way, or the checkpoint was generated in an incompatible program.\n",
      "\n",
      "Two checkpoint references resolved to different objects (<tensorflow.python.keras.layers.normalization_v2.BatchNormalization object at 0x7fc8d4a0c4e0> and <tensorflow.python.keras.layers.advanced_activations.LeakyReLU object at 0x7fc8d4a0c860>).\n",
      "W0819 23:01:05.801166 140505284368192 base.py:272] Inconsistent references when loading the checkpoint into this object graph. Either the Trackable object references in the Python program have changed in an incompatible way, or the checkpoint was generated in an incompatible program.\n",
      "\n",
      "Two checkpoint references resolved to different objects (<tensorflow_addons.layers.wrappers.WeightNormalization object at 0x7fc8d4469860> and <tensorflow.python.keras.layers.normalization_v2.BatchNormalization object at 0x7fc8d4469b70>).\n",
      "W0819 23:01:05.804359 140505284368192 base.py:272] Inconsistent references when loading the checkpoint into this object graph. Either the Trackable object references in the Python program have changed in an incompatible way, or the checkpoint was generated in an incompatible program.\n",
      "\n",
      "Two checkpoint references resolved to different objects (<tensorflow.python.keras.layers.normalization_v2.BatchNormalization object at 0x7fc8d4469b70> and <tensorflow.python.keras.layers.advanced_activations.LeakyReLU object at 0x7fc8d4469cc0>).\n",
      "W0819 23:01:05.810569 140505284368192 base.py:272] Inconsistent references when loading the checkpoint into this object graph. Either the Trackable object references in the Python program have changed in an incompatible way, or the checkpoint was generated in an incompatible program.\n",
      "\n",
      "Two checkpoint references resolved to different objects (<tensorflow_addons.layers.wrappers.WeightNormalization object at 0x7fc8d49a83c8> and <tensorflow.python.keras.layers.normalization_v2.BatchNormalization object at 0x7fc8d49a85f8>).\n",
      "W0819 23:01:05.813299 140505284368192 base.py:272] Inconsistent references when loading the checkpoint into this object graph. Either the Trackable object references in the Python program have changed in an incompatible way, or the checkpoint was generated in an incompatible program.\n",
      "\n",
      "Two checkpoint references resolved to different objects (<tensorflow.python.keras.layers.normalization_v2.BatchNormalization object at 0x7fc8d49a85f8> and <tensorflow.python.keras.layers.advanced_activations.LeakyReLU object at 0x7fc8d49a8860>).\n",
      "W0819 23:01:05.817246 140505284368192 base.py:272] Inconsistent references when loading the checkpoint into this object graph. Either the Trackable object references in the Python program have changed in an incompatible way, or the checkpoint was generated in an incompatible program.\n",
      "\n",
      "Two checkpoint references resolved to different objects (<tensorflow_addons.layers.wrappers.WeightNormalization object at 0x7fc8d4ad0048> and <tensorflow.python.keras.layers.normalization_v2.BatchNormalization object at 0x7fc8d4ad0668>).\n",
      "W0819 23:01:05.823681 140505284368192 base.py:272] Inconsistent references when loading the checkpoint into this object graph. Either the Trackable object references in the Python program have changed in an incompatible way, or the checkpoint was generated in an incompatible program.\n",
      "\n",
      "Two checkpoint references resolved to different objects (<tensorflow.python.keras.layers.normalization_v2.BatchNormalization object at 0x7fc8d4ad0668> and <tensorflow.python.keras.layers.advanced_activations.LeakyReLU object at 0x7fc8d4ad08d0>).\n",
      "W0819 23:01:05.828139 140505284368192 base.py:272] Inconsistent references when loading the checkpoint into this object graph. Either the Trackable object references in the Python program have changed in an incompatible way, or the checkpoint was generated in an incompatible program.\n",
      "\n",
      "Two checkpoint references resolved to different objects (<tensorflow_addons.layers.wrappers.WeightNormalization object at 0x7fc8d4b0a390> and <tensorflow.python.keras.layers.normalization_v2.BatchNormalization object at 0x7fc8d4b0a6a0>).\n",
      "W0819 23:01:05.831634 140505284368192 base.py:272] Inconsistent references when loading the checkpoint into this object graph. Either the Trackable object references in the Python program have changed in an incompatible way, or the checkpoint was generated in an incompatible program.\n",
      "\n",
      "Two checkpoint references resolved to different objects (<tensorflow.python.keras.layers.normalization_v2.BatchNormalization object at 0x7fc8d4b0a6a0> and <tensorflow.python.keras.layers.advanced_activations.LeakyReLU object at 0x7fc8d4b0a908>).\n",
      "W0819 23:01:05.837914 140505284368192 base.py:272] Inconsistent references when loading the checkpoint into this object graph. Either the Trackable object references in the Python program have changed in an incompatible way, or the checkpoint was generated in an incompatible program.\n",
      "\n",
      "Two checkpoint references resolved to different objects (<tensorflow_addons.layers.wrappers.WeightNormalization object at 0x7fc8d4a6ef60> and <tensorflow.python.keras.layers.normalization_v2.BatchNormalization object at 0x7fc8d0375358>).\n",
      "W0819 23:01:05.840743 140505284368192 base.py:272] Inconsistent references when loading the checkpoint into this object graph. Either the Trackable object references in the Python program have changed in an incompatible way, or the checkpoint was generated in an incompatible program.\n",
      "\n",
      "Two checkpoint references resolved to different objects (<tensorflow.python.keras.layers.normalization_v2.BatchNormalization object at 0x7fc8d0375358> and <tensorflow.python.keras.layers.advanced_activations.LeakyReLU object at 0x7fc8d0375390>).\n"
     ]
    },
    {
     "name": "stderr",
     "output_type": "stream",
     "text": [
      "W0819 23:01:05.848685 140505284368192 base.py:272] Inconsistent references when loading the checkpoint into this object graph. Either the Trackable object references in the Python program have changed in an incompatible way, or the checkpoint was generated in an incompatible program.\n",
      "\n",
      "Two checkpoint references resolved to different objects (<tensorflow_addons.layers.wrappers.WeightNormalization object at 0x7fc8d0344e80> and <tensorflow.python.keras.layers.normalization_v2.BatchNormalization object at 0x7fc8d034b1d0>).\n",
      "W0819 23:01:05.852472 140505284368192 base.py:272] Inconsistent references when loading the checkpoint into this object graph. Either the Trackable object references in the Python program have changed in an incompatible way, or the checkpoint was generated in an incompatible program.\n",
      "\n",
      "Two checkpoint references resolved to different objects (<tensorflow.python.keras.layers.normalization_v2.BatchNormalization object at 0x7fc8d034b1d0> and <tensorflow.python.keras.layers.advanced_activations.LeakyReLU object at 0x7fc8d034b3c8>).\n",
      "W0819 23:01:05.858783 140505284368192 base.py:272] Inconsistent references when loading the checkpoint into this object graph. Either the Trackable object references in the Python program have changed in an incompatible way, or the checkpoint was generated in an incompatible program.\n",
      "\n",
      "Two checkpoint references resolved to different objects (<tensorflow_addons.layers.wrappers.WeightNormalization object at 0x7fc8d031beb8> and <tensorflow.python.keras.layers.normalization_v2.BatchNormalization object at 0x7fc8d0322208>).\n",
      "W0819 23:01:05.861463 140505284368192 base.py:272] Inconsistent references when loading the checkpoint into this object graph. Either the Trackable object references in the Python program have changed in an incompatible way, or the checkpoint was generated in an incompatible program.\n",
      "\n",
      "Two checkpoint references resolved to different objects (<tensorflow.python.keras.layers.normalization_v2.BatchNormalization object at 0x7fc8d0322208> and <tensorflow.python.keras.layers.advanced_activations.LeakyReLU object at 0x7fc8d0322400>).\n"
     ]
    }
   ],
   "source": [
    "encoder, classifier = load_pretrained_weights(dataset, augmented, labels_per_class, encoder, classifier)"
   ]
  },
  {
   "cell_type": "markdown",
   "metadata": {},
   "source": [
    "#### compute pretrained accuracy"
   ]
  },
  {
   "cell_type": "code",
   "execution_count": 13,
   "metadata": {
    "ExecuteTime": {
     "end_time": "2020-08-20T06:01:14.450703Z",
     "start_time": "2020-08-20T06:01:06.840235Z"
    }
   },
   "outputs": [
    {
     "name": "stdout",
     "output_type": "stream",
     "text": [
      "313/313 [==============================] - 4s 11ms/step\n",
      "313/313 [==============================] - 1s 2ms/step\n",
      "pretrained acc: 0.9049\n"
     ]
    }
   ],
   "source": [
    "# test current acc\n",
    "pretrained_predictions = classifier.predict(encoder.predict(X_test, verbose=True), verbose=True)\n",
    "pretrained_predictions = np.argmax(pretrained_predictions, axis=1)\n",
    "pretrained_acc = np.mean(pretrained_predictions == Y_test)\n",
    "print('pretrained acc: {}'.format(pretrained_acc))"
   ]
  },
  {
   "cell_type": "markdown",
   "metadata": {},
   "source": [
    "### get a, b parameters for embeddings"
   ]
  },
  {
   "cell_type": "code",
   "execution_count": 14,
   "metadata": {
    "ExecuteTime": {
     "end_time": "2020-08-20T06:01:14.495146Z",
     "start_time": "2020-08-20T06:01:14.452716Z"
    }
   },
   "outputs": [],
   "source": [
    "from tfumap.semisupervised_keras import find_a_b"
   ]
  },
  {
   "cell_type": "code",
   "execution_count": 15,
   "metadata": {
    "ExecuteTime": {
     "end_time": "2020-08-20T06:01:14.566014Z",
     "start_time": "2020-08-20T06:01:14.496682Z"
    }
   },
   "outputs": [],
   "source": [
    "a_param, b_param = find_a_b(min_dist=min_dist)"
   ]
  },
  {
   "cell_type": "markdown",
   "metadata": {},
   "source": [
    "### build network"
   ]
  },
  {
   "cell_type": "code",
   "execution_count": 16,
   "metadata": {
    "ExecuteTime": {
     "end_time": "2020-08-20T06:01:14.613750Z",
     "start_time": "2020-08-20T06:01:14.567740Z"
    }
   },
   "outputs": [],
   "source": [
    "from tfumap.semisupervised_keras import build_model"
   ]
  },
  {
   "cell_type": "code",
   "execution_count": 17,
   "metadata": {
    "ExecuteTime": {
     "end_time": "2020-08-20T06:01:16.151129Z",
     "start_time": "2020-08-20T06:01:14.615330Z"
    }
   },
   "outputs": [],
   "source": [
    "model = build_model(\n",
    "    batch_size=batch_size,\n",
    "    a_param=a_param,\n",
    "    b_param=b_param,\n",
    "    dims=dims,\n",
    "    encoder=encoder,\n",
    "    classifier=classifier,\n",
    "    negative_sample_rate=negative_sample_rate,\n",
    "    optimizer=optimizer,\n",
    "    label_smoothing=label_smoothing,\n",
    "    embedder = embedder,\n",
    ")"
   ]
  },
  {
   "cell_type": "markdown",
   "metadata": {},
   "source": [
    "### build labeled iterator"
   ]
  },
  {
   "cell_type": "code",
   "execution_count": 18,
   "metadata": {
    "ExecuteTime": {
     "end_time": "2020-08-20T06:01:16.201541Z",
     "start_time": "2020-08-20T06:01:16.153024Z"
    }
   },
   "outputs": [],
   "source": [
    "from tfumap.semisupervised_keras import build_labeled_iterator"
   ]
  },
  {
   "cell_type": "code",
   "execution_count": 19,
   "metadata": {
    "ExecuteTime": {
     "end_time": "2020-08-20T06:01:16.673005Z",
     "start_time": "2020-08-20T06:01:16.204787Z"
    }
   },
   "outputs": [],
   "source": [
    "labeled_dataset = build_labeled_iterator(X_labeled, Y_labeled_one_hot, augmented, dims)"
   ]
  },
  {
   "cell_type": "markdown",
   "metadata": {},
   "source": [
    "### training"
   ]
  },
  {
   "cell_type": "code",
   "execution_count": 20,
   "metadata": {
    "ExecuteTime": {
     "end_time": "2020-08-20T06:01:16.724218Z",
     "start_time": "2020-08-20T06:01:16.674685Z"
    }
   },
   "outputs": [],
   "source": [
    "from livelossplot import PlotLossesKerasTF\n",
    "from tfumap.semisupervised_keras import get_edge_dataset\n",
    "from tfumap.semisupervised_keras import zip_datasets"
   ]
  },
  {
   "cell_type": "markdown",
   "metadata": {},
   "source": [
    "#### callbacks"
   ]
  },
  {
   "cell_type": "code",
   "execution_count": 21,
   "metadata": {
    "ExecuteTime": {
     "end_time": "2020-08-20T06:01:16.766759Z",
     "start_time": "2020-08-20T06:01:16.725884Z"
    }
   },
   "outputs": [],
   "source": [
    "# plot losses callback\n",
    "groups = {'acccuracy': ['classifier_accuracy', 'val_classifier_accuracy'], 'loss': ['classifier_loss', 'val_classifier_loss']}\n",
    "plotlosses = PlotLossesKerasTF(groups=groups)"
   ]
  },
  {
   "cell_type": "code",
   "execution_count": 22,
   "metadata": {
    "ExecuteTime": {
     "end_time": "2020-08-20T06:01:16.812122Z",
     "start_time": "2020-08-20T06:01:16.767929Z"
    }
   },
   "outputs": [],
   "source": [
    "history_list = []\n",
    "current_validation_acc = 0\n",
    "batches_per_epoch = np.floor(len(X_train)/batch_size).astype(int)\n",
    "epochs_since_last_improvement = 0\n",
    "current_umap_iterations = 0\n",
    "current_epoch = 0"
   ]
  },
  {
   "cell_type": "code",
   "execution_count": 23,
   "metadata": {
    "ExecuteTime": {
     "end_time": "2020-08-20T09:24:33.146483Z",
     "start_time": "2020-08-20T06:01:16.813564Z"
    }
   },
   "outputs": [
    {
     "data": {
      "image/png": "[encoded data removed]",
      "text/plain": [
       "<Figure size 864x576 with 2 Axes>"
      ]
     },
     "metadata": {
      "needs_background": "light"
     },
     "output_type": "display_data"
    },
    {
     "name": "stdout",
     "output_type": "stream",
     "text": [
      "acccuracy\n",
      "\ttraining         \t (min:    0.999, max:    1.000, cur:    1.000)\n",
      "\tvalidation       \t (min:    0.913, max:    0.921, cur:    0.919)\n",
      "Loss\n",
      "\ttraining         \t (min:    0.867, max:    0.870, cur:    0.868)\n",
      "\tvalidation       \t (min:    1.048, max:    1.075, cur:    1.059)\n",
      "312/312 [==============================] - 97s 312ms/step - loss: 0.9988 - classifier_loss: 0.8680 - umap_loss: 0.1309 - classifier_accuracy: 0.9996 - val_loss: 1.0590 - val_classifier_loss: 1.0590 - val_umap_loss: 0.0000e+00 - val_classifier_accuracy: 0.9186\n",
      "Early stopping\n"
     ]
    }
   ],
   "source": [
    "from tfumap.paths import MODEL_DIR, ensure_dir\n",
    "save_folder = MODEL_DIR / 'semisupervised-keras' / dataset / str(labels_per_class) / datestring\n",
    "ensure_dir(save_folder / 'test_loss.npy')\n",
    "for cui in tqdm(np.arange(current_epoch, max_umap_iterations)):\n",
    "    \n",
    "    if len(history_list) > graph_patience+1:\n",
    "        previous_history = [np.mean(i.history['val_classifier_accuracy']) for i in history_list]\n",
    "        best_of_patience = np.max(previous_history[-graph_patience:])\n",
    "        best_of_previous = np.max(previous_history[:-graph_patience])\n",
    "        if (best_of_previous + min_graph_delta) > best_of_patience:\n",
    "            print('Early stopping')\n",
    "            break\n",
    "        \n",
    "    # make dataset\n",
    "    edge_dataset = get_edge_dataset(\n",
    "        model,\n",
    "        augmented,\n",
    "        classifier,\n",
    "        encoder,\n",
    "        X_train,\n",
    "        Y_masked,\n",
    "        batch_size,\n",
    "        confidence_threshold,\n",
    "        labeled_dataset,\n",
    "        dims,\n",
    "        learned_metric = learned_metric\n",
    "    )\n",
    "    \n",
    "    # zip dataset\n",
    "    zipped_ds = zip_datasets(labeled_dataset, edge_dataset, batch_size)\n",
    "    \n",
    "    # train dataset\n",
    "    history = model.fit(\n",
    "        zipped_ds,\n",
    "        epochs= current_epoch + max_epochs_per_graph,\n",
    "        initial_epoch = current_epoch,\n",
    "        validation_data=(\n",
    "            (X_valid, tf.zeros_like(X_valid), tf.zeros_like(X_valid)),\n",
    "            {\"classifier\": Y_valid_one_hot},\n",
    "        ),\n",
    "        callbacks = [plotlosses],\n",
    "        max_queue_size = 100,\n",
    "        steps_per_epoch = batches_per_epoch,\n",
    "        #verbose=0\n",
    "    )\n",
    "    current_epoch+=len(history.history['loss'])\n",
    "    history_list.append(history)\n",
    "    \n",
    "    # save score \n",
    "    class_pred = classifier.predict(encoder.predict(X_test))\n",
    "    class_acc = np.mean(np.argmax(class_pred, axis=1) == Y_test)\n",
    "    np.save(save_folder / 'test_loss.npy', (np.nan, class_acc))\n",
    "    \n",
    "    # save weights\n",
    "    encoder.save_weights((save_folder / \"encoder\").as_posix())\n",
    "    classifier.save_weights((save_folder / \"classifier\").as_posix())\n",
    "    \n",
    "    # save history\n",
    "    with open(save_folder / 'history.pickle', 'wb') as file_pi:\n",
    "        pickle.dump([i.history for i in history_list], file_pi)\n",
    "\n",
    "        current_umap_iterations += 1"
   ]
  },
  {
   "cell_type": "code",
   "execution_count": 24,
   "metadata": {
    "ExecuteTime": {
     "end_time": "2020-08-20T09:24:38.245656Z",
     "start_time": "2020-08-20T09:24:33.148611Z"
    }
   },
   "outputs": [
    {
     "name": "stdout",
     "output_type": "stream",
     "text": [
      "Early stopping\n"
     ]
    }
   ],
   "source": [
    "if len(history_list) > graph_patience+1:\n",
    "    previous_history = [np.mean(i.history['val_classifier_accuracy']) for i in history_list]\n",
    "    best_of_patience = np.max(previous_history[-graph_patience:])\n",
    "    best_of_previous = np.max(previous_history[:-graph_patience])\n",
    "    if (best_of_previous + min_graph_delta) > best_of_patience:\n",
    "        print('Early stopping')\n",
    "        #break"
   ]
  },
  {
   "cell_type": "code",
   "execution_count": 25,
   "metadata": {
    "ExecuteTime": {
     "end_time": "2020-08-20T09:24:38.399427Z",
     "start_time": "2020-08-20T09:24:38.247537Z"
    }
   },
   "outputs": [
    {
     "data": {
      "text/plain": [
       "[<matplotlib.lines.Line2D at 0x7fc97340cb70>]"
      ]
     },
     "execution_count": 25,
     "metadata": {},
     "output_type": "execute_result"
    },
    {
     "data": {
      "image/png": "[encoded data removed]",
      "text/plain": [
       "<Figure size 432x288 with 1 Axes>"
      ]
     },
     "metadata": {
      "needs_background": "light"
     },
     "output_type": "display_data"
    }
   ],
   "source": [
    "plt.plot(previous_history)"
   ]
  },
  {
   "cell_type": "markdown",
   "metadata": {},
   "source": [
    "### save embedding"
   ]
  },
  {
   "cell_type": "code",
   "execution_count": 26,
   "metadata": {
    "ExecuteTime": {
     "end_time": "2020-08-20T09:24:52.515802Z",
     "start_time": "2020-08-20T09:24:38.400781Z"
    }
   },
   "outputs": [],
   "source": [
    "z = encoder.predict(X_train)"
   ]
  },
  {
   "cell_type": "code",
   "execution_count": 27,
   "metadata": {
    "ExecuteTime": {
     "end_time": "2020-08-20T09:25:28.474703Z",
     "start_time": "2020-08-20T09:24:52.517361Z"
    }
   },
   "outputs": [
    {
     "name": "stdout",
     "output_type": "stream",
     "text": [
      "UMAP(dens_frac=0.0, dens_lambda=0.0, verbose=True)\n",
      "Construct fuzzy simplicial set\n",
      "Thu Aug 20 02:24:52 2020 Finding Nearest Neighbors\n",
      "Thu Aug 20 02:24:52 2020 Building RP forest with 15 trees\n",
      "Thu Aug 20 02:24:53 2020 parallel NN descent for 15 iterations\n",
      "\t 0  /  15\n",
      "\t 1  /  15\n",
      "\t 2  /  15\n",
      "Thu Aug 20 02:25:01 2020 Finished Nearest Neighbor Search\n",
      "Thu Aug 20 02:25:03 2020 Construct embedding\n",
      "\tcompleted  0  /  200 epochs\n",
      "\tcompleted  20  /  200 epochs\n",
      "\tcompleted  40  /  200 epochs\n",
      "\tcompleted  60  /  200 epochs\n",
      "\tcompleted  80  /  200 epochs\n",
      "\tcompleted  100  /  200 epochs\n",
      "\tcompleted  120  /  200 epochs\n",
      "\tcompleted  140  /  200 epochs\n",
      "\tcompleted  160  /  200 epochs\n",
      "\tcompleted  180  /  200 epochs\n",
      "Thu Aug 20 02:25:27 2020 Finished embedding\n"
     ]
    },
    {
     "data": {
      "text/plain": [
       "<matplotlib.collections.PathCollection at 0x7fc97348f828>"
      ]
     },
     "execution_count": 27,
     "metadata": {},
     "output_type": "execute_result"
    },
    {
     "data": {
      "image/png": "[encoded data removed]",
      "text/plain": [
       "<Figure size 432x288 with 1 Axes>"
      ]
     },
     "metadata": {
      "needs_background": "light"
     },
     "output_type": "display_data"
    }
   ],
   "source": [
    "reducer = umap.UMAP(verbose=True)\n",
    "\n",
    "embedding = reducer.fit_transform(z.reshape(len(z), np.product(np.shape(z)[1:])))\n",
    "\n",
    "plt.scatter(embedding[:, 0], embedding[:, 1], c=Y_train.flatten(), s= 1, alpha = 0.1, cmap = plt.cm.tab10)"
   ]
  },
  {
   "cell_type": "code",
   "execution_count": 28,
   "metadata": {
    "ExecuteTime": {
     "end_time": "2020-08-20T09:25:28.626026Z",
     "start_time": "2020-08-20T09:25:28.475985Z"
    }
   },
   "outputs": [],
   "source": [
    "np.save(save_folder / 'train_embedding.npy', embedding)"
   ]
  },
  {
   "cell_type": "code",
   "execution_count": null,
   "metadata": {},
   "outputs": [],
   "source": []
  },
  {
   "cell_type": "code",
   "execution_count": null,
   "metadata": {},
   "outputs": [],
   "source": []
  }
 ],
 "metadata": {
  "kernelspec": {
   "display_name": "Python 3",
   "language": "python",
   "name": "python3"
  },
  "language_info": {
   "codemirror_mode": {
    "name": "ipython",
    "version": 3
   },
   "file_extension": ".py",
   "mimetype": "text/x-python",
   "name": "python",
   "nbconvert_exporter": "python",
   "pygments_lexer": "ipython3",
   "version": "3.6.7"
  }
 },
 "nbformat": 4,
 "nbformat_minor": 2
}
