{
 "cells": [
  {
   "cell_type": "code",
   "execution_count": 67,
   "metadata": {
    "ExecuteTime": {
     "end_time": "2020-08-20T22:03:42.716055Z",
     "start_time": "2020-08-20T22:03:42.675155Z"
    }
   },
   "outputs": [
    {
     "name": "stdout",
     "output_type": "stream",
     "text": [
      "The autoreload extension is already loaded. To reload it, use:\n",
      "  %reload_ext autoreload\n"
     ]
    }
   ],
   "source": [
    "# reload packages\n",
    "%load_ext autoreload\n",
    "%autoreload 2"
   ]
  },
  {
   "cell_type": "markdown",
   "metadata": {},
   "source": [
    "View UMAP results for baseline"
   ]
  },
  {
   "cell_type": "code",
   "execution_count": 68,
   "metadata": {
    "ExecuteTime": {
     "end_time": "2020-08-20T22:03:42.952331Z",
     "start_time": "2020-08-20T22:03:42.912345Z"
    }
   },
   "outputs": [],
   "source": [
    "import pandas as pd\n",
    "import numpy as np\n",
    "import seaborn as sns\n",
    "import matplotlib.pyplot as plt"
   ]
  },
  {
   "cell_type": "code",
   "execution_count": 69,
   "metadata": {
    "ExecuteTime": {
     "end_time": "2020-08-20T22:03:43.086880Z",
     "start_time": "2020-08-20T22:03:43.049666Z"
    }
   },
   "outputs": [],
   "source": [
    "from tfumap.paths import MODEL_DIR\n",
    "from tfumap.semisupervised_keras import pretrained_networks"
   ]
  },
  {
   "cell_type": "code",
   "execution_count": 70,
   "metadata": {
    "ExecuteTime": {
     "end_time": "2020-08-20T22:03:43.212294Z",
     "start_time": "2020-08-20T22:03:43.173031Z"
    }
   },
   "outputs": [],
   "source": [
    "datasets = [\"cifar10\"]\n",
    "aug_types = [\n",
    "    \"augmented\",\n",
    "    \"not_augmented\",\n",
    "    \"umap_augmented\",\n",
    "    \"umap_not_augmented\",\n",
    "    \"umap_not_augmented_thresh\",\n",
    "    \"umap_euclidean_augmented_no_thresh\"\n",
    "]\n",
    "dset_sizes = [4, 16, 64, 256, 1024, \"full\"]"
   ]
  },
  {
   "cell_type": "code",
   "execution_count": 71,
   "metadata": {
    "ExecuteTime": {
     "end_time": "2020-08-20T22:03:43.354793Z",
     "start_time": "2020-08-20T22:03:43.320336Z"
    }
   },
   "outputs": [],
   "source": [
    "results_loc = MODEL_DIR / 'semisupervised-keras' "
   ]
  },
  {
   "cell_type": "code",
   "execution_count": 72,
   "metadata": {
    "ExecuteTime": {
     "end_time": "2020-08-20T22:03:43.723638Z",
     "start_time": "2020-08-20T22:03:43.466109Z"
    }
   },
   "outputs": [
    {
     "name": "stdout",
     "output_type": "stream",
     "text": [
      "[PosixPath('/mnt/cube/tsainbur/Projects/github_repos/umap_tf_networks/models/semisupervised-keras/cifar10/full/cifar10_full____2020_08_11_19_25_33_543821_baseline_augmented/test_loss.npy')]\n",
      "augmented\n"
     ]
    }
   ],
   "source": [
    "results_df = pd.DataFrame(columns=['dataset', 'labels_per_class', 'augmented', 'timestamp', 'location', 'test_acc', 'dset_size_title'])\n",
    "for dataset in datasets:\n",
    "\n",
    "    for aug_type in aug_types:\n",
    "        for dset_size in dset_sizes:\n",
    "                \n",
    "            dset_timestamp = pretrained_networks[dataset][aug_type][dset_size]\n",
    "            dset_loc = results_loc / dataset/ str(dset_size) / dset_timestamp\n",
    "            loc_list = list(dset_loc.glob('test_loss.npy'))\n",
    "            if dset_size == 'full':\n",
    "                if aug_type == 'augmented':\n",
    "                    print(loc_list)\n",
    "                    print(aug_type)\n",
    "            if len(loc_list) == 0:\n",
    "                print(aug_type, dset_size, dataset, dset_loc)\n",
    "                continue\n",
    "            test_loss, test_acc = np.load(loc_list[0])\n",
    "            dset_size_title = str(dset_size)\n",
    "            dset_size = str(dset_size) if dset_size is not 'full' else 4096\n",
    "            results_df.loc[len(results_df)] = [\n",
    "                dataset, dset_size, aug_type, dset_timestamp, dset_loc, test_acc, dset_size_title\n",
    "            ]\n",
    "            "
   ]
  },
  {
   "cell_type": "code",
   "execution_count": 73,
   "metadata": {
    "ExecuteTime": {
     "end_time": "2020-08-20T22:03:43.768815Z",
     "start_time": "2020-08-20T22:03:43.726000Z"
    }
   },
   "outputs": [
    {
     "data": {
      "text/plain": [
       "PosixPath('/mnt/cube/tsainbur/Projects/github_repos/umap_tf_networks/models/semisupervised-keras/cifar10/full/cifar10_0.0_full____2020_08_20_10_53_00_819968_umap_augmented')"
      ]
     },
     "execution_count": 73,
     "metadata": {},
     "output_type": "execute_result"
    }
   ],
   "source": [
    "dset_loc"
   ]
  },
  {
   "cell_type": "code",
   "execution_count": 74,
   "metadata": {
    "ExecuteTime": {
     "end_time": "2020-08-20T22:03:43.826343Z",
     "start_time": "2020-08-20T22:03:43.784351Z"
    }
   },
   "outputs": [
    {
     "data": {
      "text/plain": [
       "[PosixPath('/mnt/cube/tsainbur/Projects/github_repos/umap_tf_networks/models/semisupervised-keras/cifar10/full/cifar10_0.0_full____2020_08_20_10_53_00_819968_umap_augmented/test_loss.npy')]"
      ]
     },
     "execution_count": 74,
     "metadata": {},
     "output_type": "execute_result"
    }
   ],
   "source": [
    "loc_list"
   ]
  },
  {
   "cell_type": "code",
   "execution_count": 75,
   "metadata": {
    "ExecuteTime": {
     "end_time": "2020-08-20T22:03:44.226846Z",
     "start_time": "2020-08-20T22:03:44.050111Z"
    }
   },
   "outputs": [
    {
     "name": "stdout",
     "output_type": "stream",
     "text": [
      "checkpoint\t\t\tfull_model.data-00000-of-00001\r\n",
      "classifier.data-00000-of-00001\tfull_model.index\r\n",
      "classifier.index\t\thistory.pickle\r\n",
      "encoder.data-00000-of-00001\ttest_loss.npy\r\n",
      "encoder.index\t\t\ttrain_embedding.npy\r\n"
     ]
    }
   ],
   "source": [
    "!ls /mnt/cube/tsainbur/Projects/github_repos/umap_tf_networks/models/semisupervised-keras/cifar10/full/cifar10_full____2020_08_11_19_25_33_543821_baseline_augmented"
   ]
  },
  {
   "cell_type": "code",
   "execution_count": 76,
   "metadata": {
    "ExecuteTime": {
     "end_time": "2020-08-20T22:03:44.480500Z",
     "start_time": "2020-08-20T22:03:44.307988Z"
    }
   },
   "outputs": [
    {
     "name": "stdout",
     "output_type": "stream",
     "text": [
      "checkpoint\t\t\tfull_model.data-00000-of-00001\r\n",
      "classifier.data-00000-of-00001\tfull_model.index\r\n",
      "classifier.index\t\thistory.pickle\r\n",
      "encoder.data-00000-of-00001\ttest_loss.npy\r\n",
      "encoder.index\t\t\ttrain_embedding.npy\r\n"
     ]
    }
   ],
   "source": [
    "!ls /mnt/cube/tsainbur/Projects/github_repos/umap_tf_networks/models/semisupervised-keras/cifar10/full/cifar10_full____2020_08_11_19_25_33_543821_baseline_augmented/"
   ]
  },
  {
   "cell_type": "code",
   "execution_count": 77,
   "metadata": {
    "ExecuteTime": {
     "end_time": "2020-08-20T22:03:45.720600Z",
     "start_time": "2020-08-20T22:03:45.665434Z"
    },
    "scrolled": false
   },
   "outputs": [
    {
     "data": {
      "text/html": [
       "<div>\n",
       "<style scoped>\n",
       "    .dataframe tbody tr th:only-of-type {\n",
       "        vertical-align: middle;\n",
       "    }\n",
       "\n",
       "    .dataframe tbody tr th {\n",
       "        vertical-align: top;\n",
       "    }\n",
       "\n",
       "    .dataframe thead th {\n",
       "        text-align: right;\n",
       "    }\n",
       "</style>\n",
       "<table border=\"1\" class=\"dataframe\">\n",
       "  <thead>\n",
       "    <tr style=\"text-align: right;\">\n",
       "      <th></th>\n",
       "      <th>dataset</th>\n",
       "      <th>labels_per_class</th>\n",
       "      <th>augmented</th>\n",
       "      <th>timestamp</th>\n",
       "      <th>location</th>\n",
       "      <th>test_acc</th>\n",
       "      <th>dset_size_title</th>\n",
       "    </tr>\n",
       "  </thead>\n",
       "  <tbody>\n",
       "    <tr>\n",
       "      <th>0</th>\n",
       "      <td>cifar10</td>\n",
       "      <td>4</td>\n",
       "      <td>augmented</td>\n",
       "      <td>cifar10_4____2020_08_11_19_25_58_939055_baseli...</td>\n",
       "      <td>/mnt/cube/tsainbur/Projects/github_repos/umap_...</td>\n",
       "      <td>0.2814</td>\n",
       "      <td>4</td>\n",
       "    </tr>\n",
       "    <tr>\n",
       "      <th>1</th>\n",
       "      <td>cifar10</td>\n",
       "      <td>16</td>\n",
       "      <td>augmented</td>\n",
       "      <td>cifar10_16____2020_08_11_19_25_49_190428_basel...</td>\n",
       "      <td>/mnt/cube/tsainbur/Projects/github_repos/umap_...</td>\n",
       "      <td>0.4042</td>\n",
       "      <td>16</td>\n",
       "    </tr>\n",
       "    <tr>\n",
       "      <th>2</th>\n",
       "      <td>cifar10</td>\n",
       "      <td>64</td>\n",
       "      <td>augmented</td>\n",
       "      <td>cifar10_64____2020_08_11_19_25_41_266466_basel...</td>\n",
       "      <td>/mnt/cube/tsainbur/Projects/github_repos/umap_...</td>\n",
       "      <td>0.5993</td>\n",
       "      <td>64</td>\n",
       "    </tr>\n",
       "    <tr>\n",
       "      <th>3</th>\n",
       "      <td>cifar10</td>\n",
       "      <td>256</td>\n",
       "      <td>augmented</td>\n",
       "      <td>cifar10_256____2020_08_11_19_25_33_546350_base...</td>\n",
       "      <td>/mnt/cube/tsainbur/Projects/github_repos/umap_...</td>\n",
       "      <td>0.7664</td>\n",
       "      <td>256</td>\n",
       "    </tr>\n",
       "    <tr>\n",
       "      <th>4</th>\n",
       "      <td>cifar10</td>\n",
       "      <td>1024</td>\n",
       "      <td>augmented</td>\n",
       "      <td>cifar10_1024____2020_08_11_19_25_33_541963_bas...</td>\n",
       "      <td>/mnt/cube/tsainbur/Projects/github_repos/umap_...</td>\n",
       "      <td>0.8667</td>\n",
       "      <td>1024</td>\n",
       "    </tr>\n",
       "    <tr>\n",
       "      <th>5</th>\n",
       "      <td>cifar10</td>\n",
       "      <td>4096</td>\n",
       "      <td>augmented</td>\n",
       "      <td>cifar10_full____2020_08_11_19_25_33_543821_bas...</td>\n",
       "      <td>/mnt/cube/tsainbur/Projects/github_repos/umap_...</td>\n",
       "      <td>0.9332</td>\n",
       "      <td>full</td>\n",
       "    </tr>\n",
       "    <tr>\n",
       "      <th>6</th>\n",
       "      <td>cifar10</td>\n",
       "      <td>4</td>\n",
       "      <td>not_augmented</td>\n",
       "      <td>cifar10_4____2020_08_17_16_02_48_330135_baseline</td>\n",
       "      <td>/mnt/cube/tsainbur/Projects/github_repos/umap_...</td>\n",
       "      <td>0.2170</td>\n",
       "      <td>4</td>\n",
       "    </tr>\n",
       "    <tr>\n",
       "      <th>7</th>\n",
       "      <td>cifar10</td>\n",
       "      <td>16</td>\n",
       "      <td>not_augmented</td>\n",
       "      <td>cifar10_16____2020_08_17_15_08_23_820108_baseline</td>\n",
       "      <td>/mnt/cube/tsainbur/Projects/github_repos/umap_...</td>\n",
       "      <td>0.3019</td>\n",
       "      <td>16</td>\n",
       "    </tr>\n",
       "    <tr>\n",
       "      <th>8</th>\n",
       "      <td>cifar10</td>\n",
       "      <td>64</td>\n",
       "      <td>not_augmented</td>\n",
       "      <td>cifar10_64____2020_08_17_15_08_38_407886_baseline</td>\n",
       "      <td>/mnt/cube/tsainbur/Projects/github_repos/umap_...</td>\n",
       "      <td>0.4992</td>\n",
       "      <td>64</td>\n",
       "    </tr>\n",
       "    <tr>\n",
       "      <th>9</th>\n",
       "      <td>cifar10</td>\n",
       "      <td>256</td>\n",
       "      <td>not_augmented</td>\n",
       "      <td>cifar10_256____2020_08_17_22_16_16_108071_base...</td>\n",
       "      <td>/mnt/cube/tsainbur/Projects/github_repos/umap_...</td>\n",
       "      <td>0.7220</td>\n",
       "      <td>256</td>\n",
       "    </tr>\n",
       "    <tr>\n",
       "      <th>10</th>\n",
       "      <td>cifar10</td>\n",
       "      <td>1024</td>\n",
       "      <td>not_augmented</td>\n",
       "      <td>cifar10_1024____2020_08_17_15_08_08_912644_bas...</td>\n",
       "      <td>/mnt/cube/tsainbur/Projects/github_repos/umap_...</td>\n",
       "      <td>0.8380</td>\n",
       "      <td>1024</td>\n",
       "    </tr>\n",
       "    <tr>\n",
       "      <th>11</th>\n",
       "      <td>cifar10</td>\n",
       "      <td>4096</td>\n",
       "      <td>not_augmented</td>\n",
       "      <td>cifar10_full____2020_08_17_15_08_15_778694_bas...</td>\n",
       "      <td>/mnt/cube/tsainbur/Projects/github_repos/umap_...</td>\n",
       "      <td>0.9049</td>\n",
       "      <td>full</td>\n",
       "    </tr>\n",
       "    <tr>\n",
       "      <th>12</th>\n",
       "      <td>cifar10</td>\n",
       "      <td>4</td>\n",
       "      <td>umap_augmented</td>\n",
       "      <td>cifar10_0.0_4____2020_08_19_00_40_15_425455_um...</td>\n",
       "      <td>/mnt/cube/tsainbur/Projects/github_repos/umap_...</td>\n",
       "      <td>0.3509</td>\n",
       "      <td>4</td>\n",
       "    </tr>\n",
       "    <tr>\n",
       "      <th>13</th>\n",
       "      <td>cifar10</td>\n",
       "      <td>16</td>\n",
       "      <td>umap_augmented</td>\n",
       "      <td>cifar10_0.0_16____2020_08_19_00_40_13_037112_u...</td>\n",
       "      <td>/mnt/cube/tsainbur/Projects/github_repos/umap_...</td>\n",
       "      <td>0.5035</td>\n",
       "      <td>16</td>\n",
       "    </tr>\n",
       "    <tr>\n",
       "      <th>14</th>\n",
       "      <td>cifar10</td>\n",
       "      <td>64</td>\n",
       "      <td>umap_augmented</td>\n",
       "      <td>cifar10_0.0_64____2020_08_19_00_40_13_032397_u...</td>\n",
       "      <td>/mnt/cube/tsainbur/Projects/github_repos/umap_...</td>\n",
       "      <td>0.6742</td>\n",
       "      <td>64</td>\n",
       "    </tr>\n",
       "    <tr>\n",
       "      <th>15</th>\n",
       "      <td>cifar10</td>\n",
       "      <td>256</td>\n",
       "      <td>umap_augmented</td>\n",
       "      <td>cifar10_0.0_256____2020_08_18_16_16_47_694512_...</td>\n",
       "      <td>/mnt/cube/tsainbur/Projects/github_repos/umap_...</td>\n",
       "      <td>0.8190</td>\n",
       "      <td>256</td>\n",
       "    </tr>\n",
       "    <tr>\n",
       "      <th>16</th>\n",
       "      <td>cifar10</td>\n",
       "      <td>1024</td>\n",
       "      <td>umap_augmented</td>\n",
       "      <td>cifar10_0.0_1024____2020_08_19_10_25_26_973224...</td>\n",
       "      <td>/mnt/cube/tsainbur/Projects/github_repos/umap_...</td>\n",
       "      <td>0.8907</td>\n",
       "      <td>1024</td>\n",
       "    </tr>\n",
       "    <tr>\n",
       "      <th>17</th>\n",
       "      <td>cifar10</td>\n",
       "      <td>4096</td>\n",
       "      <td>umap_augmented</td>\n",
       "      <td>cifar10_0.0_full____2020_08_19_00_40_18_936212...</td>\n",
       "      <td>/mnt/cube/tsainbur/Projects/github_repos/umap_...</td>\n",
       "      <td>0.9324</td>\n",
       "      <td>full</td>\n",
       "    </tr>\n",
       "    <tr>\n",
       "      <th>18</th>\n",
       "      <td>cifar10</td>\n",
       "      <td>4</td>\n",
       "      <td>umap_not_augmented</td>\n",
       "      <td>cifar10_0.0_4____2020_08_19_14_35_43_127626_um...</td>\n",
       "      <td>/mnt/cube/tsainbur/Projects/github_repos/umap_...</td>\n",
       "      <td>0.1988</td>\n",
       "      <td>4</td>\n",
       "    </tr>\n",
       "    <tr>\n",
       "      <th>19</th>\n",
       "      <td>cifar10</td>\n",
       "      <td>16</td>\n",
       "      <td>umap_not_augmented</td>\n",
       "      <td>cifar10_0.0_16____2020_08_19_14_35_43_867336_u...</td>\n",
       "      <td>/mnt/cube/tsainbur/Projects/github_repos/umap_...</td>\n",
       "      <td>0.3060</td>\n",
       "      <td>16</td>\n",
       "    </tr>\n",
       "    <tr>\n",
       "      <th>20</th>\n",
       "      <td>cifar10</td>\n",
       "      <td>64</td>\n",
       "      <td>umap_not_augmented</td>\n",
       "      <td>cifar10_0.0_64____2020_08_19_14_35_43_736036_u...</td>\n",
       "      <td>/mnt/cube/tsainbur/Projects/github_repos/umap_...</td>\n",
       "      <td>0.5148</td>\n",
       "      <td>64</td>\n",
       "    </tr>\n",
       "    <tr>\n",
       "      <th>21</th>\n",
       "      <td>cifar10</td>\n",
       "      <td>256</td>\n",
       "      <td>umap_not_augmented</td>\n",
       "      <td>cifar10_0.0_256____2020_08_19_14_38_31_105228_...</td>\n",
       "      <td>/mnt/cube/tsainbur/Projects/github_repos/umap_...</td>\n",
       "      <td>0.7475</td>\n",
       "      <td>256</td>\n",
       "    </tr>\n",
       "    <tr>\n",
       "      <th>22</th>\n",
       "      <td>cifar10</td>\n",
       "      <td>1024</td>\n",
       "      <td>umap_not_augmented</td>\n",
       "      <td>cifar10_0.0_1024____2020_08_19_14_35_43_823739...</td>\n",
       "      <td>/mnt/cube/tsainbur/Projects/github_repos/umap_...</td>\n",
       "      <td>0.8505</td>\n",
       "      <td>1024</td>\n",
       "    </tr>\n",
       "    <tr>\n",
       "      <th>23</th>\n",
       "      <td>cifar10</td>\n",
       "      <td>4096</td>\n",
       "      <td>umap_not_augmented</td>\n",
       "      <td>cifar10_0.0_full____2020_08_19_14_32_51_275942...</td>\n",
       "      <td>/mnt/cube/tsainbur/Projects/github_repos/umap_...</td>\n",
       "      <td>0.9118</td>\n",
       "      <td>full</td>\n",
       "    </tr>\n",
       "    <tr>\n",
       "      <th>24</th>\n",
       "      <td>cifar10</td>\n",
       "      <td>4</td>\n",
       "      <td>umap_not_augmented_thresh</td>\n",
       "      <td>cifar10_0.8_4____2020_08_19_23_00_09_641532_um...</td>\n",
       "      <td>/mnt/cube/tsainbur/Projects/github_repos/umap_...</td>\n",
       "      <td>0.1818</td>\n",
       "      <td>4</td>\n",
       "    </tr>\n",
       "    <tr>\n",
       "      <th>25</th>\n",
       "      <td>cifar10</td>\n",
       "      <td>16</td>\n",
       "      <td>umap_not_augmented_thresh</td>\n",
       "      <td>cifar10_0.8_16____2020_08_19_23_00_00_125286_u...</td>\n",
       "      <td>/mnt/cube/tsainbur/Projects/github_repos/umap_...</td>\n",
       "      <td>0.3286</td>\n",
       "      <td>16</td>\n",
       "    </tr>\n",
       "    <tr>\n",
       "      <th>26</th>\n",
       "      <td>cifar10</td>\n",
       "      <td>64</td>\n",
       "      <td>umap_not_augmented_thresh</td>\n",
       "      <td>cifar10_0.8_64____2020_08_19_23_00_54_552899_u...</td>\n",
       "      <td>/mnt/cube/tsainbur/Projects/github_repos/umap_...</td>\n",
       "      <td>0.5195</td>\n",
       "      <td>64</td>\n",
       "    </tr>\n",
       "    <tr>\n",
       "      <th>27</th>\n",
       "      <td>cifar10</td>\n",
       "      <td>256</td>\n",
       "      <td>umap_not_augmented_thresh</td>\n",
       "      <td>cifar10_0.8_256____2020_08_19_23_00_56_468894_...</td>\n",
       "      <td>/mnt/cube/tsainbur/Projects/github_repos/umap_...</td>\n",
       "      <td>0.7563</td>\n",
       "      <td>256</td>\n",
       "    </tr>\n",
       "    <tr>\n",
       "      <th>28</th>\n",
       "      <td>cifar10</td>\n",
       "      <td>1024</td>\n",
       "      <td>umap_not_augmented_thresh</td>\n",
       "      <td>cifar10_0.8_1024____2020_08_19_23_00_59_934762...</td>\n",
       "      <td>/mnt/cube/tsainbur/Projects/github_repos/umap_...</td>\n",
       "      <td>0.8573</td>\n",
       "      <td>1024</td>\n",
       "    </tr>\n",
       "    <tr>\n",
       "      <th>29</th>\n",
       "      <td>cifar10</td>\n",
       "      <td>4096</td>\n",
       "      <td>umap_not_augmented_thresh</td>\n",
       "      <td>cifar10_0.8_full____2020_08_19_23_01_03_044142...</td>\n",
       "      <td>/mnt/cube/tsainbur/Projects/github_repos/umap_...</td>\n",
       "      <td>0.9156</td>\n",
       "      <td>full</td>\n",
       "    </tr>\n",
       "    <tr>\n",
       "      <th>30</th>\n",
       "      <td>cifar10</td>\n",
       "      <td>4</td>\n",
       "      <td>umap_euclidean_augmented_no_thresh</td>\n",
       "      <td>cifar10_0.0_4____2020_08_20_10_49_23_565699_um...</td>\n",
       "      <td>/mnt/cube/tsainbur/Projects/github_repos/umap_...</td>\n",
       "      <td>0.2427</td>\n",
       "      <td>4</td>\n",
       "    </tr>\n",
       "    <tr>\n",
       "      <th>31</th>\n",
       "      <td>cifar10</td>\n",
       "      <td>16</td>\n",
       "      <td>umap_euclidean_augmented_no_thresh</td>\n",
       "      <td>cifar10_0.0_16____2020_08_20_10_52_39_313456_u...</td>\n",
       "      <td>/mnt/cube/tsainbur/Projects/github_repos/umap_...</td>\n",
       "      <td>0.3872</td>\n",
       "      <td>16</td>\n",
       "    </tr>\n",
       "    <tr>\n",
       "      <th>32</th>\n",
       "      <td>cifar10</td>\n",
       "      <td>64</td>\n",
       "      <td>umap_euclidean_augmented_no_thresh</td>\n",
       "      <td>cifar10_0.0_64____2020_08_20_10_52_40_783860_u...</td>\n",
       "      <td>/mnt/cube/tsainbur/Projects/github_repos/umap_...</td>\n",
       "      <td>0.5596</td>\n",
       "      <td>64</td>\n",
       "    </tr>\n",
       "    <tr>\n",
       "      <th>33</th>\n",
       "      <td>cifar10</td>\n",
       "      <td>256</td>\n",
       "      <td>umap_euclidean_augmented_no_thresh</td>\n",
       "      <td>cifar10_0.0_256____2020_08_20_10_52_47_615557_...</td>\n",
       "      <td>/mnt/cube/tsainbur/Projects/github_repos/umap_...</td>\n",
       "      <td>0.7457</td>\n",
       "      <td>256</td>\n",
       "    </tr>\n",
       "    <tr>\n",
       "      <th>34</th>\n",
       "      <td>cifar10</td>\n",
       "      <td>1024</td>\n",
       "      <td>umap_euclidean_augmented_no_thresh</td>\n",
       "      <td>cifar10_0.0_1024____2020_08_20_10_52_58_310917...</td>\n",
       "      <td>/mnt/cube/tsainbur/Projects/github_repos/umap_...</td>\n",
       "      <td>0.8616</td>\n",
       "      <td>1024</td>\n",
       "    </tr>\n",
       "    <tr>\n",
       "      <th>35</th>\n",
       "      <td>cifar10</td>\n",
       "      <td>4096</td>\n",
       "      <td>umap_euclidean_augmented_no_thresh</td>\n",
       "      <td>cifar10_0.0_full____2020_08_20_10_53_00_819968...</td>\n",
       "      <td>/mnt/cube/tsainbur/Projects/github_repos/umap_...</td>\n",
       "      <td>0.9319</td>\n",
       "      <td>full</td>\n",
       "    </tr>\n",
       "  </tbody>\n",
       "</table>\n",
       "</div>"
      ],
      "text/plain": [
       "    dataset labels_per_class                           augmented  \\\n",
       "0   cifar10                4                           augmented   \n",
       "1   cifar10               16                           augmented   \n",
       "2   cifar10               64                           augmented   \n",
       "3   cifar10              256                           augmented   \n",
       "4   cifar10             1024                           augmented   \n",
       "5   cifar10             4096                           augmented   \n",
       "6   cifar10                4                       not_augmented   \n",
       "7   cifar10               16                       not_augmented   \n",
       "8   cifar10               64                       not_augmented   \n",
       "9   cifar10              256                       not_augmented   \n",
       "10  cifar10             1024                       not_augmented   \n",
       "11  cifar10             4096                       not_augmented   \n",
       "12  cifar10                4                      umap_augmented   \n",
       "13  cifar10               16                      umap_augmented   \n",
       "14  cifar10               64                      umap_augmented   \n",
       "15  cifar10              256                      umap_augmented   \n",
       "16  cifar10             1024                      umap_augmented   \n",
       "17  cifar10             4096                      umap_augmented   \n",
       "18  cifar10                4                  umap_not_augmented   \n",
       "19  cifar10               16                  umap_not_augmented   \n",
       "20  cifar10               64                  umap_not_augmented   \n",
       "21  cifar10              256                  umap_not_augmented   \n",
       "22  cifar10             1024                  umap_not_augmented   \n",
       "23  cifar10             4096                  umap_not_augmented   \n",
       "24  cifar10                4           umap_not_augmented_thresh   \n",
       "25  cifar10               16           umap_not_augmented_thresh   \n",
       "26  cifar10               64           umap_not_augmented_thresh   \n",
       "27  cifar10              256           umap_not_augmented_thresh   \n",
       "28  cifar10             1024           umap_not_augmented_thresh   \n",
       "29  cifar10             4096           umap_not_augmented_thresh   \n",
       "30  cifar10                4  umap_euclidean_augmented_no_thresh   \n",
       "31  cifar10               16  umap_euclidean_augmented_no_thresh   \n",
       "32  cifar10               64  umap_euclidean_augmented_no_thresh   \n",
       "33  cifar10              256  umap_euclidean_augmented_no_thresh   \n",
       "34  cifar10             1024  umap_euclidean_augmented_no_thresh   \n",
       "35  cifar10             4096  umap_euclidean_augmented_no_thresh   \n",
       "\n",
       "                                            timestamp  \\\n",
       "0   cifar10_4____2020_08_11_19_25_58_939055_baseli...   \n",
       "1   cifar10_16____2020_08_11_19_25_49_190428_basel...   \n",
       "2   cifar10_64____2020_08_11_19_25_41_266466_basel...   \n",
       "3   cifar10_256____2020_08_11_19_25_33_546350_base...   \n",
       "4   cifar10_1024____2020_08_11_19_25_33_541963_bas...   \n",
       "5   cifar10_full____2020_08_11_19_25_33_543821_bas...   \n",
       "6    cifar10_4____2020_08_17_16_02_48_330135_baseline   \n",
       "7   cifar10_16____2020_08_17_15_08_23_820108_baseline   \n",
       "8   cifar10_64____2020_08_17_15_08_38_407886_baseline   \n",
       "9   cifar10_256____2020_08_17_22_16_16_108071_base...   \n",
       "10  cifar10_1024____2020_08_17_15_08_08_912644_bas...   \n",
       "11  cifar10_full____2020_08_17_15_08_15_778694_bas...   \n",
       "12  cifar10_0.0_4____2020_08_19_00_40_15_425455_um...   \n",
       "13  cifar10_0.0_16____2020_08_19_00_40_13_037112_u...   \n",
       "14  cifar10_0.0_64____2020_08_19_00_40_13_032397_u...   \n",
       "15  cifar10_0.0_256____2020_08_18_16_16_47_694512_...   \n",
       "16  cifar10_0.0_1024____2020_08_19_10_25_26_973224...   \n",
       "17  cifar10_0.0_full____2020_08_19_00_40_18_936212...   \n",
       "18  cifar10_0.0_4____2020_08_19_14_35_43_127626_um...   \n",
       "19  cifar10_0.0_16____2020_08_19_14_35_43_867336_u...   \n",
       "20  cifar10_0.0_64____2020_08_19_14_35_43_736036_u...   \n",
       "21  cifar10_0.0_256____2020_08_19_14_38_31_105228_...   \n",
       "22  cifar10_0.0_1024____2020_08_19_14_35_43_823739...   \n",
       "23  cifar10_0.0_full____2020_08_19_14_32_51_275942...   \n",
       "24  cifar10_0.8_4____2020_08_19_23_00_09_641532_um...   \n",
       "25  cifar10_0.8_16____2020_08_19_23_00_00_125286_u...   \n",
       "26  cifar10_0.8_64____2020_08_19_23_00_54_552899_u...   \n",
       "27  cifar10_0.8_256____2020_08_19_23_00_56_468894_...   \n",
       "28  cifar10_0.8_1024____2020_08_19_23_00_59_934762...   \n",
       "29  cifar10_0.8_full____2020_08_19_23_01_03_044142...   \n",
       "30  cifar10_0.0_4____2020_08_20_10_49_23_565699_um...   \n",
       "31  cifar10_0.0_16____2020_08_20_10_52_39_313456_u...   \n",
       "32  cifar10_0.0_64____2020_08_20_10_52_40_783860_u...   \n",
       "33  cifar10_0.0_256____2020_08_20_10_52_47_615557_...   \n",
       "34  cifar10_0.0_1024____2020_08_20_10_52_58_310917...   \n",
       "35  cifar10_0.0_full____2020_08_20_10_53_00_819968...   \n",
       "\n",
       "                                             location  test_acc  \\\n",
       "0   /mnt/cube/tsainbur/Projects/github_repos/umap_...    0.2814   \n",
       "1   /mnt/cube/tsainbur/Projects/github_repos/umap_...    0.4042   \n",
       "2   /mnt/cube/tsainbur/Projects/github_repos/umap_...    0.5993   \n",
       "3   /mnt/cube/tsainbur/Projects/github_repos/umap_...    0.7664   \n",
       "4   /mnt/cube/tsainbur/Projects/github_repos/umap_...    0.8667   \n",
       "5   /mnt/cube/tsainbur/Projects/github_repos/umap_...    0.9332   \n",
       "6   /mnt/cube/tsainbur/Projects/github_repos/umap_...    0.2170   \n",
       "7   /mnt/cube/tsainbur/Projects/github_repos/umap_...    0.3019   \n",
       "8   /mnt/cube/tsainbur/Projects/github_repos/umap_...    0.4992   \n",
       "9   /mnt/cube/tsainbur/Projects/github_repos/umap_...    0.7220   \n",
       "10  /mnt/cube/tsainbur/Projects/github_repos/umap_...    0.8380   \n",
       "11  /mnt/cube/tsainbur/Projects/github_repos/umap_...    0.9049   \n",
       "12  /mnt/cube/tsainbur/Projects/github_repos/umap_...    0.3509   \n",
       "13  /mnt/cube/tsainbur/Projects/github_repos/umap_...    0.5035   \n",
       "14  /mnt/cube/tsainbur/Projects/github_repos/umap_...    0.6742   \n",
       "15  /mnt/cube/tsainbur/Projects/github_repos/umap_...    0.8190   \n",
       "16  /mnt/cube/tsainbur/Projects/github_repos/umap_...    0.8907   \n",
       "17  /mnt/cube/tsainbur/Projects/github_repos/umap_...    0.9324   \n",
       "18  /mnt/cube/tsainbur/Projects/github_repos/umap_...    0.1988   \n",
       "19  /mnt/cube/tsainbur/Projects/github_repos/umap_...    0.3060   \n",
       "20  /mnt/cube/tsainbur/Projects/github_repos/umap_...    0.5148   \n",
       "21  /mnt/cube/tsainbur/Projects/github_repos/umap_...    0.7475   \n",
       "22  /mnt/cube/tsainbur/Projects/github_repos/umap_...    0.8505   \n",
       "23  /mnt/cube/tsainbur/Projects/github_repos/umap_...    0.9118   \n",
       "24  /mnt/cube/tsainbur/Projects/github_repos/umap_...    0.1818   \n",
       "25  /mnt/cube/tsainbur/Projects/github_repos/umap_...    0.3286   \n",
       "26  /mnt/cube/tsainbur/Projects/github_repos/umap_...    0.5195   \n",
       "27  /mnt/cube/tsainbur/Projects/github_repos/umap_...    0.7563   \n",
       "28  /mnt/cube/tsainbur/Projects/github_repos/umap_...    0.8573   \n",
       "29  /mnt/cube/tsainbur/Projects/github_repos/umap_...    0.9156   \n",
       "30  /mnt/cube/tsainbur/Projects/github_repos/umap_...    0.2427   \n",
       "31  /mnt/cube/tsainbur/Projects/github_repos/umap_...    0.3872   \n",
       "32  /mnt/cube/tsainbur/Projects/github_repos/umap_...    0.5596   \n",
       "33  /mnt/cube/tsainbur/Projects/github_repos/umap_...    0.7457   \n",
       "34  /mnt/cube/tsainbur/Projects/github_repos/umap_...    0.8616   \n",
       "35  /mnt/cube/tsainbur/Projects/github_repos/umap_...    0.9319   \n",
       "\n",
       "   dset_size_title  \n",
       "0                4  \n",
       "1               16  \n",
       "2               64  \n",
       "3              256  \n",
       "4             1024  \n",
       "5             full  \n",
       "6                4  \n",
       "7               16  \n",
       "8               64  \n",
       "9              256  \n",
       "10            1024  \n",
       "11            full  \n",
       "12               4  \n",
       "13              16  \n",
       "14              64  \n",
       "15             256  \n",
       "16            1024  \n",
       "17            full  \n",
       "18               4  \n",
       "19              16  \n",
       "20              64  \n",
       "21             256  \n",
       "22            1024  \n",
       "23            full  \n",
       "24               4  \n",
       "25              16  \n",
       "26              64  \n",
       "27             256  \n",
       "28            1024  \n",
       "29            full  \n",
       "30               4  \n",
       "31              16  \n",
       "32              64  \n",
       "33             256  \n",
       "34            1024  \n",
       "35            full  "
      ]
     },
     "execution_count": 77,
     "metadata": {},
     "output_type": "execute_result"
    }
   ],
   "source": [
    "results_df"
   ]
  },
  {
   "cell_type": "code",
   "execution_count": 83,
   "metadata": {
    "ExecuteTime": {
     "end_time": "2020-08-20T22:09:49.363671Z",
     "start_time": "2020-08-20T22:09:49.249620Z"
    }
   },
   "outputs": [
    {
     "data": {
      "image/png": "[encoded data removed]",
      "text/plain": [
       "<Figure size 1440x72 with 1 Axes>"
      ]
     },
     "metadata": {
      "needs_background": "light"
     },
     "output_type": "display_data"
    }
   ],
   "source": [
    "pal = sns.color_palette('tab20c',20)\n",
    "sns.palplot(pal)"
   ]
  },
  {
   "cell_type": "code",
   "execution_count": 84,
   "metadata": {
    "ExecuteTime": {
     "end_time": "2020-08-20T22:09:49.789660Z",
     "start_time": "2020-08-20T22:09:49.743918Z"
    }
   },
   "outputs": [],
   "source": [
    "color_list = [\n",
    "    {\n",
    "        \"mask\": results_df.augmented == 'not_augmented',\n",
    "        \"color\": pal[16],\n",
    "        \"ls\": 'solid',\n",
    "        \"marker\": 'o',\n",
    "        \"label\": \"Baseline\"\n",
    "    },\n",
    "    {\n",
    "        \"mask\": results_df.augmented == 'augmented',\n",
    "        \"color\": pal[16],\n",
    "        \"ls\": 'dashed',\n",
    "        \"marker\": 'X',\n",
    "        \"label\": \"+ Augmented\"\n",
    "    },\n",
    "    {\n",
    "        \"mask\": results_df.augmented == 'umap_augmented',\n",
    "        \"color\": pal[0],\n",
    "        \"ls\": 'dashed',\n",
    "        \"marker\": 'X',\n",
    "        \"label\": \"+ Aug. + UMAP (learned)\"\n",
    "    },\n",
    "    {\n",
    "        \"mask\": results_df.augmented == 'umap_not_augmented',\n",
    "        \"color\": pal[0],\n",
    "        \"ls\": 'solid',\n",
    "        \"marker\": 'o',\n",
    "        \"label\": \"+ UMAP (learned)\"\n",
    "    },\n",
    "    {\n",
    "        \"mask\": results_df.augmented == 'umap_euclidean_augmented_no_thresh',\n",
    "        \"color\": pal[8],\n",
    "        \"ls\": 'dashed',\n",
    "        \"marker\": 'o',\n",
    "        \"label\": \"+ UMAP (euclidean)\"\n",
    "    }\n",
    "]"
   ]
  },
  {
   "cell_type": "code",
   "execution_count": 41,
   "metadata": {
    "ExecuteTime": {
     "end_time": "2020-08-20T17:32:01.206472Z",
     "start_time": "2020-08-20T17:32:01.161422Z"
    }
   },
   "outputs": [],
   "source": [
    "subset_baseline_augmented_mask = results_df.augmented == 'augmented'\n",
    "subset_baseline_augmented_color = pal[16] #pal[0]\n",
    "subset_baseline_augmented_ls = 'dashed'\n",
    "subset_baseline_augmented_marker = 'X'\n",
    "subset_baseline_augmented_label = '+ Augmented'"
   ]
  },
  {
   "cell_type": "code",
   "execution_count": 42,
   "metadata": {
    "ExecuteTime": {
     "end_time": "2020-08-20T17:32:01.249273Z",
     "start_time": "2020-08-20T17:32:01.208116Z"
    }
   },
   "outputs": [],
   "source": [
    "subset_baseline_notaugmented_mask = results_df.augmented == 'not_augmented'\n",
    "subset_baseline_notaugmented_color = pal[16] #pal[4]\n",
    "subset_baseline_notaugmented_ls = 'solid'\n",
    "subset_baseline_notaugmented_marker = 'o'\n",
    "subset_baseline_notaugmented_label = 'Baseline'"
   ]
  },
  {
   "cell_type": "code",
   "execution_count": 43,
   "metadata": {
    "ExecuteTime": {
     "end_time": "2020-08-20T17:32:01.295236Z",
     "start_time": "2020-08-20T17:32:01.250940Z"
    }
   },
   "outputs": [],
   "source": [
    "subset_baseline_umapaugmented_mask = results_df.augmented == 'umap_augmented'\n",
    "subset_baseline_umapaugmented_color = pal[0]\n",
    "subset_baseline_umapaugmented_ls = 'dashed'\n",
    "subset_baseline_umapaugmented_marker = 'X'\n",
    "subset_baseline_umapaugmented_label = '+ Aug. + UMAP (learned)'"
   ]
  },
  {
   "cell_type": "code",
   "execution_count": 44,
   "metadata": {
    "ExecuteTime": {
     "end_time": "2020-08-20T17:32:01.337041Z",
     "start_time": "2020-08-20T17:32:01.296905Z"
    }
   },
   "outputs": [],
   "source": [
    "subset_baseline_umapnotaugmented_mask = results_df.augmented == 'umap_not_augmented'\n",
    "subset_baseline_umapnotaugmented_color = pal[0]\n",
    "subset_baseline_umapnotaugmented_ls = 'solid'\n",
    "subset_baseline_umapnotaugmented_marker = 'o'\n",
    "subset_baseline_umapnotaugmented_label = '+ UMAP (learned)'"
   ]
  },
  {
   "cell_type": "code",
   "execution_count": 56,
   "metadata": {
    "ExecuteTime": {
     "end_time": "2020-08-20T17:34:25.177733Z",
     "start_time": "2020-08-20T17:34:23.653101Z"
    }
   },
   "outputs": [],
   "source": [
    "subset_baseline_umapnotaugmentedthresh_mask = results_df.augmented == 'umap_not_augmented_thresh'\n",
    "subset_baseline_umapnotaugmentedthresh_color = pal[4]\n",
    "subset_baseline_umapnotaugmentedthresh_ls = 'solid'\n",
    "subset_baseline_umapnotaugmentedthresh_marker = 'o'\n",
    "subset_baseline_umapnotaugmentedthresh_label = '+ UMAP (learned, thresh)'"
   ]
  },
  {
   "cell_type": "code",
   "execution_count": null,
   "metadata": {},
   "outputs": [],
   "source": [
    "subset_eucumap_aug_mask = results_df.augmented == 'umap_euclidean_augmented_no_thresh'\n",
    "subset_eucumap_aug_color = pal[8]\n",
    "subset_eucumap_aug_ls = 'solid'\n",
    "subset_eucumap_aug_marker = 'o'\n",
    "subset_baseline_umapnotaugmentedthresh_label = '+ UMAP (learned, thresh)'"
   ]
  },
  {
   "cell_type": "code",
   "execution_count": 57,
   "metadata": {
    "ExecuteTime": {
     "end_time": "2020-08-20T17:34:26.164658Z",
     "start_time": "2020-08-20T17:34:26.122133Z"
    }
   },
   "outputs": [],
   "source": [
    "from IPython.display import display"
   ]
  },
  {
   "cell_type": "code",
   "execution_count": 58,
   "metadata": {
    "ExecuteTime": {
     "end_time": "2020-08-20T17:34:26.326144Z",
     "start_time": "2020-08-20T17:34:26.286691Z"
    }
   },
   "outputs": [
    {
     "data": {
      "text/plain": [
       "<function IPython.core.display.display(*objs, include=None, exclude=None, metadata=None, transient=None, display_id=None, **kwargs)>"
      ]
     },
     "execution_count": 58,
     "metadata": {},
     "output_type": "execute_result"
    }
   ],
   "source": [
    "display"
   ]
  },
  {
   "cell_type": "code",
   "execution_count": null,
   "metadata": {},
   "outputs": [],
   "source": [
    "plot_list = [\n",
    "    (\n",
    "        subset_baseline_notaugmented_mask,\n",
    "        subset_baseline_notaugmented_color,\n",
    "        subset_baseline_notaugmented_ls,\n",
    "        subset_baseline_notaugmented_label,\n",
    "        subset_baseline_notaugmented_marker,\n",
    "    ),\n",
    "        (\n",
    "        subset_baseline_umapnotaugmented_mask,\n",
    "        subset_baseline_umapnotaugmented_color,\n",
    "        subset_baseline_umapnotaugmented_ls,\n",
    "        subset_baseline_umapnotaugmented_label,\n",
    "        subset_baseline_umapnotaugmented_marker,\n",
    "    ),\n",
    "    (\n",
    "        subset_baseline_augmented_mask,\n",
    "        subset_baseline_augmented_color,\n",
    "        subset_baseline_augmented_ls,\n",
    "        subset_baseline_augmented_label,\n",
    "        subset_baseline_augmented_marker,\n",
    "    ),\n",
    "\n",
    "    (\n",
    "        subset_baseline_umapaugmented_mask,\n",
    "        subset_baseline_umapaugmented_color,\n",
    "        subset_baseline_umapaugmented_ls,\n",
    "        subset_baseline_umapaugmented_label,\n",
    "        subset_baseline_umapaugmented_marker,\n",
    "    ),\n",
    "    (\n",
    "        subset_baseline_umapnotaugmentedthresh_mask,\n",
    "        subset_baseline_umapnotaugmentedthresh_color,\n",
    "        subset_baseline_umapnotaugmentedthresh_ls,\n",
    "        subset_baseline_umapnotaugmentedthresh_label,\n",
    "        subset_baseline_umapnotaugmentedthresh_marker,\n",
    "    ),\n",
    "    (\n",
    "        subset_baseline_umapnotaugmentedthresh_mask,\n",
    "        subset_baseline_umapnotaugmentedthresh_color,\n",
    "        subset_baseline_umapnotaugmentedthresh_ls,\n",
    "        subset_baseline_umapnotaugmentedthresh_label,\n",
    "        subset_baseline_umapnotaugmentedthresh_marker,\n",
    "    ),\n",
    "    \n",
    "]"
   ]
  },
  {
   "cell_type": "code",
   "execution_count": 59,
   "metadata": {
    "ExecuteTime": {
     "end_time": "2020-08-20T17:34:26.874795Z",
     "start_time": "2020-08-20T17:34:26.427829Z"
    }
   },
   "outputs": [
    {
     "data": {
      "image/png": "[encoded data removed]",
      "text/plain": [
       "<Figure size 500x500 with 2 Axes>"
      ]
     },
     "metadata": {
      "needs_background": "light"
     },
     "output_type": "display_data"
    }
   ],
   "source": [
    "alpha = 0.75\n",
    "linewidth = 2\n",
    "fig, (ax, ax2) = plt.subplots(\n",
    "    1,\n",
    "    2,\n",
    "    figsize=(5, 5),\n",
    "    dpi=100,\n",
    "    sharey=True,\n",
    "    gridspec_kw={\"width_ratios\": [5, 1], \"wspace\": 0.05},\n",
    ")\n",
    "\n",
    "for (mask, color, ls, label, marker) in plot_list:\n",
    "    subset_ds = results_df[mask]\n",
    "    subset_ds = subset_ds[subset_ds.dset_size_title != \"full\"]\n",
    "    nex = subset_ds.labels_per_class.values.astype(\"int\")\n",
    "    acc = subset_ds.test_acc.values\n",
    "    ax.scatter(nex, acc, color=color, s=50, alpha=1, marker=marker, facecolors=\"none\")\n",
    "    ax.plot(nex, acc, linewidth=linewidth, alpha=alpha, color=color, ls=ls)  # , label = label\n",
    "\n",
    "    subset_ds = results_df[mask]\n",
    "    subset_ds = subset_ds[subset_ds.dset_size_title == \"full\"]\n",
    "    #display(subset_ds)\n",
    "    nex = subset_ds.labels_per_class.values.astype(\"int\")\n",
    "    acc = subset_ds.test_acc.values\n",
    "    ax2.scatter(nex, acc, color=color, s=50, alpha=1, marker=marker, facecolors=\"none\")\n",
    "\n",
    "    ax.plot(\n",
    "        [],\n",
    "        [],\n",
    "        \"-\" + marker,\n",
    "        color=color,\n",
    "        linewidth=linewidth,\n",
    "        label=label,\n",
    "        alpha=alpha,\n",
    "        markersize=7,\n",
    "        markerfacecolor=\"none\",\n",
    "        ls=ls,\n",
    "    )\n",
    "\n",
    "ax.set_xscale(\"log\")\n",
    "ax.set_xticks([4, 16, 64, 256, 1024])\n",
    "ax.set_xticklabels([4, 16, 64, 256, 1024])\n",
    "ax.set_ylim([0, 1])\n",
    "ax.spines[\"right\"].set_visible(False)\n",
    "ax.legend()\n",
    "ax.set_xlim([2, 2048])\n",
    "\n",
    "\n",
    "# ax2.set_xscale('log')\n",
    "ax2.set_xticks([4096])\n",
    "ax2.set_xticklabels([\"full\"])\n",
    "ax2.spines[\"left\"].set_visible(False)\n",
    "ax2.yaxis.tick_right()\n",
    "\n",
    "\n",
    "d = 0.015  # how big to make the diagonal lines in axes coordinates\n",
    "# arguments to pass plot, just so we don't keep repeating them\n",
    "kwargs = dict(transform=ax.transAxes, color=\"k\", clip_on=False)\n",
    "ax.plot((1 - d, 1 + d), (-d, +d), **kwargs)\n",
    "ax.plot((1 - d, 1 + d), (1 - d, 1 + d), **kwargs)\n",
    "\n",
    "d = 0.015\n",
    "offset = 5\n",
    "kwargs.update(transform=ax2.transAxes)  # switch to the bottom axes\n",
    "ax2.plot((-d * offset, +d * offset), (1 - d, 1 + d), **kwargs)\n",
    "ax2.plot((-d * offset, +d * offset), (-d, +d), **kwargs)\n",
    "\n",
    "ax.minorticks_on()\n",
    "ax.tick_params(axis=\"y\", which=\"minor\", direction=\"out\")\n",
    "\n",
    "ax.grid(axis=\"y\", which=\"major\", linestyle=\"-\", alpha=0.5)\n",
    "ax.grid(axis=\"y\", which=\"minor\", linestyle=\"--\", alpha=0.5)\n",
    "\n",
    "ax2.grid(axis=\"y\", which=\"major\", linestyle=\"-\", alpha=0.5)\n",
    "ax2.grid(axis=\"y\", which=\"minor\", linestyle=\"--\", alpha=0.5)"
   ]
  },
  {
   "cell_type": "code",
   "execution_count": 66,
   "metadata": {
    "ExecuteTime": {
     "end_time": "2020-08-20T17:43:24.272535Z",
     "start_time": "2020-08-20T17:43:23.757647Z"
    }
   },
   "outputs": [
    {
     "data": {
      "image/png": "[encoded data removed]",
      "text/plain": [
       "<Figure size 500x500 with 2 Axes>"
      ]
     },
     "metadata": {
      "needs_background": "light"
     },
     "output_type": "display_data"
    }
   ],
   "source": [
    "alpha = 0.75\n",
    "linewidth = 2\n",
    "fig, (ax, ax2) = plt.subplots(\n",
    "    1,\n",
    "    2,\n",
    "    figsize=(5, 5),\n",
    "    dpi=100,\n",
    "    sharey=True,\n",
    "    gridspec_kw={\"width_ratios\": [5, 1], \"wspace\": 0.05},\n",
    ")\n",
    "\n",
    "for li, (mask, color, ls, label, marker) in enumerate(plot_list):\n",
    "\n",
    "    subset_ds = results_df[mask]\n",
    "    subset_ds = subset_ds[subset_ds.dset_size_title != \"full\"]\n",
    "    nex = subset_ds.labels_per_class.values.astype(\"int\")\n",
    "    acc = subset_ds.test_acc.values\n",
    "    #ax.scatter(nex, 1-acc, color=color, s=50, alpha=1, marker=marker)#, facecolors=\"none\")\n",
    "    ax.plot(nex, 1-acc, linewidth=linewidth, alpha=alpha, color=color, ls=ls)  # , label = label\n",
    "\n",
    "    subset_ds = results_df[mask]\n",
    "    subset_ds = subset_ds[subset_ds.dset_size_title == \"full\"]\n",
    "    #display(subset_ds)\n",
    "    nex = subset_ds.labels_per_class.values.astype(\"int\")\n",
    "    acc = subset_ds.test_acc.values\n",
    "    nex = nex + li/100 - len(plot_list)/2/100#+(np.random.rand(1)-0.5)*.025\n",
    "    ax2.scatter(nex, 1-acc, color=color, s=50, alpha=1, marker=marker)#, facecolors=\"none\")\n",
    "\n",
    "    ax.plot(\n",
    "        [],\n",
    "        [],\n",
    "        \"-\" + marker,\n",
    "        color=color,\n",
    "        linewidth=linewidth,\n",
    "        label=label,\n",
    "        alpha=alpha,\n",
    "        markersize=7,\n",
    "        #markerfacecolor=\"none\",\n",
    "        ls=ls,\n",
    "    )\n",
    "\n",
    "ax.set_xscale(\"log\")\n",
    "ax.set_xticks([4, 16, 64, 256, 1024])\n",
    "ax.set_xticklabels([4, 16, 64, 256, 1024])\n",
    "#ax.set_ylim([0, 1])\n",
    "ax.spines[\"right\"].set_visible(False)\n",
    "ax.legend()\n",
    "ax.set_xlim([2, 2048])\n",
    "\n",
    "\n",
    "# ax2.set_xscale('log')\n",
    "ax2.set_xticks([4096])\n",
    "ax2.set_xticklabels([\"full\"])\n",
    "ax2.spines[\"left\"].set_visible(False)\n",
    "ax2.yaxis.tick_right()\n",
    "\n",
    "\n",
    "d = 0.015  # how big to make the diagonal lines in axes coordinates\n",
    "# arguments to pass plot, just so we don't keep repeating them\n",
    "kwargs = dict(transform=ax.transAxes, color=\"k\", clip_on=False)\n",
    "ax.plot((1 - d, 1 + d), (-d, +d), **kwargs)\n",
    "ax.plot((1 - d, 1 + d), (1 - d, 1 + d), **kwargs)\n",
    "\n",
    "d = 0.015\n",
    "offset = 5\n",
    "kwargs.update(transform=ax2.transAxes)  # switch to the bottom axes\n",
    "ax2.plot((-d * offset, +d * offset), (1 - d, 1 + d), **kwargs)\n",
    "ax2.plot((-d * offset, +d * offset), (-d, +d), **kwargs)\n",
    "\n",
    "ax.minorticks_on()\n",
    "ax.tick_params(axis=\"y\", which=\"minor\", direction=\"out\")\n",
    "\n",
    "if False:\n",
    "    ax.grid(axis=\"y\", which=\"major\", linestyle=\"-\", alpha=0.5)\n",
    "    ax.grid(axis=\"y\", which=\"minor\", linestyle=\"--\", alpha=0.5)\n",
    "\n",
    "    ax2.grid(axis=\"y\", which=\"major\", linestyle=\"-\", alpha=0.5)\n",
    "    ax2.grid(axis=\"y\", which=\"minor\", linestyle=\"--\", alpha=0.5)\n",
    "\n",
    "if True:\n",
    "    ax.set_ylim([5e-2, 1])\n",
    "    ax2.set_yscale('log')"
   ]
  },
  {
   "cell_type": "code",
   "execution_count": 88,
   "metadata": {
    "ExecuteTime": {
     "end_time": "2020-08-20T22:14:09.122634Z",
     "start_time": "2020-08-20T22:14:08.573696Z"
    }
   },
   "outputs": [],
   "source": [
    "color_list = [\n",
    "    {\n",
    "        \"mask\": results_df.augmented == 'not_augmented',\n",
    "        \"color\": pal[16],\n",
    "        \"ls\": 'solid',\n",
    "        \"marker\": 'o',\n",
    "        \"label\": \"Baseline\"\n",
    "    },\n",
    "    {\n",
    "        \"mask\": results_df.augmented == 'augmented',\n",
    "        \"color\": pal[16],\n",
    "        \"ls\": 'dashed',\n",
    "        \"marker\": 'X',\n",
    "        \"label\": \"+ Aug.\"\n",
    "    },\n",
    "    {\n",
    "        \"mask\": results_df.augmented == 'umap_augmented',\n",
    "        \"color\": pal[0],\n",
    "        \"ls\": 'dashed',\n",
    "        \"marker\": 'X',\n",
    "        \"label\": \"+ Aug. + UMAP (learned)\"\n",
    "    },\n",
    "    {\n",
    "        \"mask\": results_df.augmented == 'umap_not_augmented',\n",
    "        \"color\": pal[0],\n",
    "        \"ls\": 'solid',\n",
    "        \"marker\": 'o',\n",
    "        \"label\": \"+ UMAP (learned)\"\n",
    "    },\n",
    "    {\n",
    "        \"mask\": results_df.augmented == 'umap_not_augmented_thresh',\n",
    "        \"color\": pal[4],\n",
    "        \"ls\": 'solid',\n",
    "        \"marker\": 'o',\n",
    "        \"label\": \"+ UMAP (learned, thresh)\"\n",
    "    },\n",
    "    {\n",
    "        \"mask\": results_df.augmented == 'umap_euclidean_augmented_no_thresh',\n",
    "        \"color\": pal[8],\n",
    "        \"ls\": 'dashed',\n",
    "        \"marker\": 'o',\n",
    "        \"label\": \"+ Aug. + UMAP (euclidean)\"\n",
    "    }\n",
    "]"
   ]
  },
  {
   "cell_type": "code",
   "execution_count": 89,
   "metadata": {
    "ExecuteTime": {
     "end_time": "2020-08-20T22:14:11.566272Z",
     "start_time": "2020-08-20T22:14:11.012790Z"
    }
   },
   "outputs": [
    {
     "data": {
      "image/png": "[encoded data removed]",
      "text/plain": [
       "<Figure size 500x500 with 2 Axes>"
      ]
     },
     "metadata": {
      "needs_background": "light"
     },
     "output_type": "display_data"
    }
   ],
   "source": [
    "alpha = 0.75\n",
    "linewidth = 2\n",
    "fig, (ax, ax2) = plt.subplots(\n",
    "    1,\n",
    "    2,\n",
    "    figsize=(5, 5),\n",
    "    dpi=100,\n",
    "    sharey=True,\n",
    "    gridspec_kw={\"width_ratios\": [5, 1], \"wspace\": 0.05},\n",
    ")\n",
    "\n",
    "for li, col_dict in enumerate(color_list):\n",
    "    mask = col_dict[\"mask\"]\n",
    "    color = col_dict['color']\n",
    "    ls = col_dict['ls']\n",
    "    label = col_dict['label']\n",
    "    marker = col_dict['marker']\n",
    "    \n",
    "    subset_ds = results_df[mask]\n",
    "    subset_ds = subset_ds[subset_ds.dset_size_title != \"full\"]\n",
    "    nex = subset_ds.labels_per_class.values.astype(\"int\")\n",
    "    acc = subset_ds.test_acc.values\n",
    "    #ax.scatter(nex, 1-acc, color=color, s=50, alpha=1, marker=marker)#, facecolors=\"none\")\n",
    "    ax.plot(nex, 1-acc, linewidth=linewidth, alpha=alpha, color=color, ls=ls)  # , label = label\n",
    "\n",
    "    subset_ds = results_df[mask]\n",
    "    subset_ds = subset_ds[subset_ds.dset_size_title == \"full\"]\n",
    "    #display(subset_ds)\n",
    "    nex = subset_ds.labels_per_class.values.astype(\"int\")\n",
    "    acc = subset_ds.test_acc.values\n",
    "    nex = nex + li/100 - len(plot_list)/2/100#+(np.random.rand(1)-0.5)*.025\n",
    "    ax2.scatter(nex, 1-acc, color=color, s=50, alpha=1, marker=marker)#, facecolors=\"none\")\n",
    "\n",
    "    ax.plot(\n",
    "        [],\n",
    "        [],\n",
    "        \"-\" + marker,\n",
    "        color=color,\n",
    "        linewidth=linewidth,\n",
    "        label=label,\n",
    "        alpha=alpha,\n",
    "        markersize=7,\n",
    "        #markerfacecolor=\"none\",\n",
    "        ls=ls,\n",
    "    )\n",
    "\n",
    "ax.set_xscale(\"log\")\n",
    "ax.set_xticks([4, 16, 64, 256, 1024])\n",
    "ax.set_xticklabels([4, 16, 64, 256, 1024])\n",
    "#ax.set_ylim([0, 1])\n",
    "ax.spines[\"right\"].set_visible(False)\n",
    "ax.legend()\n",
    "ax.set_xlim([2, 2048])\n",
    "\n",
    "\n",
    "# ax2.set_xscale('log')\n",
    "ax2.set_xticks([4096])\n",
    "ax2.set_xticklabels([\"full\"])\n",
    "ax2.spines[\"left\"].set_visible(False)\n",
    "ax2.yaxis.tick_right()\n",
    "\n",
    "\n",
    "d = 0.015  # how big to make the diagonal lines in axes coordinates\n",
    "# arguments to pass plot, just so we don't keep repeating them\n",
    "kwargs = dict(transform=ax.transAxes, color=\"k\", clip_on=False)\n",
    "ax.plot((1 - d, 1 + d), (-d, +d), **kwargs)\n",
    "ax.plot((1 - d, 1 + d), (1 - d, 1 + d), **kwargs)\n",
    "\n",
    "d = 0.015\n",
    "offset = 5\n",
    "kwargs.update(transform=ax2.transAxes)  # switch to the bottom axes\n",
    "ax2.plot((-d * offset, +d * offset), (1 - d, 1 + d), **kwargs)\n",
    "ax2.plot((-d * offset, +d * offset), (-d, +d), **kwargs)\n",
    "\n",
    "ax.minorticks_on()\n",
    "ax.tick_params(axis=\"y\", which=\"minor\", direction=\"out\")\n",
    "\n",
    "if False:\n",
    "    ax.grid(axis=\"y\", which=\"major\", linestyle=\"-\", alpha=0.5)\n",
    "    ax.grid(axis=\"y\", which=\"minor\", linestyle=\"--\", alpha=0.5)\n",
    "\n",
    "    ax2.grid(axis=\"y\", which=\"major\", linestyle=\"-\", alpha=0.5)\n",
    "    ax2.grid(axis=\"y\", which=\"minor\", linestyle=\"--\", alpha=0.5)\n",
    "\n",
    "if True:\n",
    "    ax.set_ylim([5e-2, 1])\n",
    "    ax2.set_yscale('log')"
   ]
  },
  {
   "cell_type": "code",
   "execution_count": null,
   "metadata": {},
   "outputs": [],
   "source": []
  },
  {
   "cell_type": "code",
   "execution_count": 95,
   "metadata": {
    "ExecuteTime": {
     "end_time": "2020-08-20T22:16:20.052695Z",
     "start_time": "2020-08-20T22:16:19.505615Z"
    }
   },
   "outputs": [
    {
     "data": {
      "text/plain": [
       "Text(0.5, 1.0, 'CIFAR10')"
      ]
     },
     "execution_count": 95,
     "metadata": {},
     "output_type": "execute_result"
    },
    {
     "data": {
      "image/png": "[encoded data removed]",
      "text/plain": [
       "<Figure size 500x500 with 2 Axes>"
      ]
     },
     "metadata": {
      "needs_background": "light"
     },
     "output_type": "display_data"
    }
   ],
   "source": [
    "color_list = [\n",
    "    {\n",
    "        \"mask\": results_df.augmented == 'not_augmented',\n",
    "        \"color\": pal[16],\n",
    "        \"ls\": 'solid',\n",
    "        \"marker\": 'o',\n",
    "        \"label\": \"Baseline\"\n",
    "    },\n",
    "\n",
    "    {\n",
    "        \"mask\": results_df.augmented == 'umap_not_augmented',\n",
    "        \"color\": pal[0],\n",
    "        \"ls\": 'solid',\n",
    "        \"marker\": 'o',\n",
    "        \"label\": \"+ UMAP (learned)\"\n",
    "    },\n",
    "    {\n",
    "        \"mask\": results_df.augmented == 'umap_not_augmented_thresh',\n",
    "        \"color\": pal[4],\n",
    "        \"ls\": 'solid',\n",
    "        \"marker\": 'o',\n",
    "        \"label\": \"+ UMAP (learned, thresh)\"\n",
    "    },\n",
    "    \n",
    "]\n",
    "\n",
    "alpha = 0.75\n",
    "linewidth = 2\n",
    "fig, (ax, ax2) = plt.subplots(\n",
    "    1,\n",
    "    2,\n",
    "    figsize=(5, 5),\n",
    "    dpi=100,\n",
    "    sharey=True,\n",
    "    gridspec_kw={\"width_ratios\": [5, 1], \"wspace\": 0.05},\n",
    ")\n",
    "\n",
    "for li, col_dict in enumerate(color_list):\n",
    "    mask = col_dict[\"mask\"]\n",
    "    color = col_dict['color']\n",
    "    ls = col_dict['ls']\n",
    "    label = col_dict['label']\n",
    "    marker = col_dict['marker']\n",
    "    \n",
    "    subset_ds = results_df[mask]\n",
    "    subset_ds = subset_ds[subset_ds.dset_size_title != \"full\"]\n",
    "    nex = subset_ds.labels_per_class.values.astype(\"int\")\n",
    "    acc = subset_ds.test_acc.values\n",
    "    ax.scatter(nex, 1-acc, color=color, s=50, alpha=1, marker=marker)#, facecolors=\"none\")\n",
    "    ax.plot(nex, 1-acc, linewidth=linewidth, alpha=alpha, color=color, ls=ls)  # , label = label\n",
    "\n",
    "    subset_ds = results_df[mask]\n",
    "    subset_ds = subset_ds[subset_ds.dset_size_title == \"full\"]\n",
    "    #display(subset_ds)\n",
    "    nex = subset_ds.labels_per_class.values.astype(\"int\")\n",
    "    acc = subset_ds.test_acc.values\n",
    "    nex = nex + li/100 - len(plot_list)/2/100#+(np.random.rand(1)-0.5)*.025\n",
    "    ax2.scatter(nex, 1-acc, color=color, s=50, alpha=1, marker=marker)#, facecolors=\"none\")\n",
    "\n",
    "    ax.plot(\n",
    "        [],\n",
    "        [],\n",
    "        \"-\" + marker,\n",
    "        color=color,\n",
    "        linewidth=linewidth,\n",
    "        label=label,\n",
    "        alpha=alpha,\n",
    "        markersize=7,\n",
    "        #markerfacecolor=\"none\",\n",
    "        ls=ls,\n",
    "    )\n",
    "\n",
    "ax.set_xscale(\"log\")\n",
    "ax.set_xticks([4, 16, 64, 256, 1024])\n",
    "ax.set_xticklabels([4, 16, 64, 256, 1024])\n",
    "#ax.set_ylim([0, 1])\n",
    "ax.spines[\"right\"].set_visible(False)\n",
    "ax.legend()\n",
    "ax.set_xlim([2, 2048])\n",
    "\n",
    "\n",
    "# ax2.set_xscale('log')\n",
    "ax2.set_xticks([4096])\n",
    "ax2.set_xticklabels([\"full\"])\n",
    "ax2.spines[\"left\"].set_visible(False)\n",
    "ax2.yaxis.tick_right()\n",
    "\n",
    "\n",
    "d = 0.015  # how big to make the diagonal lines in axes coordinates\n",
    "# arguments to pass plot, just so we don't keep repeating them\n",
    "kwargs = dict(transform=ax.transAxes, color=\"k\", clip_on=False)\n",
    "ax.plot((1 - d, 1 + d), (-d, +d), **kwargs)\n",
    "ax.plot((1 - d, 1 + d), (1 - d, 1 + d), **kwargs)\n",
    "\n",
    "d = 0.015\n",
    "offset = 5\n",
    "kwargs.update(transform=ax2.transAxes)  # switch to the bottom axes\n",
    "ax2.plot((-d * offset, +d * offset), (1 - d, 1 + d), **kwargs)\n",
    "ax2.plot((-d * offset, +d * offset), (-d, +d), **kwargs)\n",
    "\n",
    "ax.minorticks_on()\n",
    "ax.tick_params(axis=\"y\", which=\"minor\", direction=\"out\")\n",
    "\n",
    "if False:\n",
    "    ax.grid(axis=\"y\", which=\"major\", linestyle=\"-\", alpha=0.5)\n",
    "    ax.grid(axis=\"y\", which=\"minor\", linestyle=\"--\", alpha=0.5)\n",
    "\n",
    "    ax2.grid(axis=\"y\", which=\"major\", linestyle=\"-\", alpha=0.5)\n",
    "    ax2.grid(axis=\"y\", which=\"minor\", linestyle=\"--\", alpha=0.5)\n",
    "\n",
    "if True:\n",
    "    ax.set_ylim([5e-2, 1])\n",
    "    ax2.set_yscale('log')\n",
    "    \n",
    "ax.set_title('CIFAR10')"
   ]
  },
  {
   "cell_type": "code",
   "execution_count": 94,
   "metadata": {
    "ExecuteTime": {
     "end_time": "2020-08-20T22:16:11.465355Z",
     "start_time": "2020-08-20T22:16:10.917656Z"
    }
   },
   "outputs": [
    {
     "data": {
      "text/plain": [
       "Text(0.5, 1.0, 'CIFAR10 (Augmented)')"
      ]
     },
     "execution_count": 94,
     "metadata": {},
     "output_type": "execute_result"
    },
    {
     "data": {
      "image/png": "[encoded data removed]",
      "text/plain": [
       "<Figure size 500x500 with 2 Axes>"
      ]
     },
     "metadata": {
      "needs_background": "light"
     },
     "output_type": "display_data"
    }
   ],
   "source": [
    "color_list = [\n",
    "\n",
    "    {\n",
    "        \"mask\": results_df.augmented == 'augmented',\n",
    "        \"color\": pal[16],\n",
    "        \"ls\": 'dashed',\n",
    "        \"marker\": 'X',\n",
    "        \"label\": \"+ Aug.\"\n",
    "    },\n",
    "    {\n",
    "        \"mask\": results_df.augmented == 'umap_augmented',\n",
    "        \"color\": pal[0],\n",
    "        \"ls\": 'dashed',\n",
    "        \"marker\": 'X',\n",
    "        \"label\": \"+ Aug. + UMAP (learned)\"\n",
    "    },\n",
    "\n",
    "\n",
    "    {\n",
    "        \"mask\": results_df.augmented == 'umap_euclidean_augmented_no_thresh',\n",
    "        \"color\": pal[8],\n",
    "        \"ls\": 'dashed',\n",
    "        \"marker\": 'o',\n",
    "        \"label\": \"+ Aug. + UMAP (euclidean)\"\n",
    "    }\n",
    "]\n",
    "\n",
    "alpha = 0.75\n",
    "linewidth = 2\n",
    "fig, (ax, ax2) = plt.subplots(\n",
    "    1,\n",
    "    2,\n",
    "    figsize=(5, 5),\n",
    "    dpi=100,\n",
    "    sharey=True,\n",
    "    gridspec_kw={\"width_ratios\": [5, 1], \"wspace\": 0.05},\n",
    ")\n",
    "\n",
    "for li, col_dict in enumerate(color_list):\n",
    "    mask = col_dict[\"mask\"]\n",
    "    color = col_dict['color']\n",
    "    ls = col_dict['ls']\n",
    "    label = col_dict['label']\n",
    "    marker = col_dict['marker']\n",
    "    \n",
    "    subset_ds = results_df[mask]\n",
    "    subset_ds = subset_ds[subset_ds.dset_size_title != \"full\"]\n",
    "    nex = subset_ds.labels_per_class.values.astype(\"int\")\n",
    "    acc = subset_ds.test_acc.values\n",
    "    ax.scatter(nex, 1-acc, color=color, s=50, alpha=1, marker=marker)#, facecolors=\"none\")\n",
    "    ax.plot(nex, 1-acc, linewidth=linewidth, alpha=alpha, color=color, ls=ls)  # , label = label\n",
    "\n",
    "    subset_ds = results_df[mask]\n",
    "    subset_ds = subset_ds[subset_ds.dset_size_title == \"full\"]\n",
    "    #display(subset_ds)\n",
    "    nex = subset_ds.labels_per_class.values.astype(\"int\")\n",
    "    acc = subset_ds.test_acc.values\n",
    "    nex = nex + li/100 - len(plot_list)/2/100#+(np.random.rand(1)-0.5)*.025\n",
    "    ax2.scatter(nex, 1-acc, color=color, s=50, alpha=1, marker=marker)#, facecolors=\"none\")\n",
    "\n",
    "    ax.plot(\n",
    "        [],\n",
    "        [],\n",
    "        \"-\" + marker,\n",
    "        color=color,\n",
    "        linewidth=linewidth,\n",
    "        label=label,\n",
    "        alpha=alpha,\n",
    "        markersize=7,\n",
    "        #markerfacecolor=\"none\",\n",
    "        ls=ls,\n",
    "    )\n",
    "\n",
    "ax.set_xscale(\"log\")\n",
    "ax.set_xticks([4, 16, 64, 256, 1024])\n",
    "ax.set_xticklabels([4, 16, 64, 256, 1024])\n",
    "#ax.set_ylim([0, 1])\n",
    "ax.spines[\"right\"].set_visible(False)\n",
    "ax.legend()\n",
    "ax.set_xlim([2, 2048])\n",
    "\n",
    "\n",
    "# ax2.set_xscale('log')\n",
    "ax2.set_xticks([4096])\n",
    "ax2.set_xticklabels([\"full\"])\n",
    "ax2.spines[\"left\"].set_visible(False)\n",
    "ax2.yaxis.tick_right()\n",
    "\n",
    "\n",
    "d = 0.015  # how big to make the diagonal lines in axes coordinates\n",
    "# arguments to pass plot, just so we don't keep repeating them\n",
    "kwargs = dict(transform=ax.transAxes, color=\"k\", clip_on=False)\n",
    "ax.plot((1 - d, 1 + d), (-d, +d), **kwargs)\n",
    "ax.plot((1 - d, 1 + d), (1 - d, 1 + d), **kwargs)\n",
    "\n",
    "d = 0.015\n",
    "offset = 5\n",
    "kwargs.update(transform=ax2.transAxes)  # switch to the bottom axes\n",
    "ax2.plot((-d * offset, +d * offset), (1 - d, 1 + d), **kwargs)\n",
    "ax2.plot((-d * offset, +d * offset), (-d, +d), **kwargs)\n",
    "\n",
    "ax.minorticks_on()\n",
    "ax.tick_params(axis=\"y\", which=\"minor\", direction=\"out\")\n",
    "\n",
    "if False:\n",
    "    ax.grid(axis=\"y\", which=\"major\", linestyle=\"-\", alpha=0.5)\n",
    "    ax.grid(axis=\"y\", which=\"minor\", linestyle=\"--\", alpha=0.5)\n",
    "\n",
    "    ax2.grid(axis=\"y\", which=\"major\", linestyle=\"-\", alpha=0.5)\n",
    "    ax2.grid(axis=\"y\", which=\"minor\", linestyle=\"--\", alpha=0.5)\n",
    "\n",
    "if True:\n",
    "    ax.set_ylim([5e-2, 1])\n",
    "    ax2.set_yscale('log')\n",
    "ax.set_title('CIFAR10 (Augmented)')"
   ]
  },
  {
   "cell_type": "code",
   "execution_count": null,
   "metadata": {},
   "outputs": [],
   "source": []
  }
 ],
 "metadata": {
  "kernelspec": {
   "display_name": "Python 3",
   "language": "python",
   "name": "python3"
  },
  "language_info": {
   "codemirror_mode": {
    "name": "ipython",
    "version": 3
   },
   "file_extension": ".py",
   "mimetype": "text/x-python",
   "name": "python",
   "nbconvert_exporter": "python",
   "pygments_lexer": "ipython3",
   "version": "3.6.7"
  }
 },
 "nbformat": 4,
 "nbformat_minor": 2
}
