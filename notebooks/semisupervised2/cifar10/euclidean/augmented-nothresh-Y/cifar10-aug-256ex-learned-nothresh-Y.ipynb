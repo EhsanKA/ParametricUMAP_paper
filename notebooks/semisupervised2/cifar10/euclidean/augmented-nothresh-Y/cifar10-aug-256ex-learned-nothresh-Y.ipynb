{
 "cells": [
  {
   "cell_type": "code",
   "execution_count": 1,
   "metadata": {
    "ExecuteTime": {
     "end_time": "2020-08-20T17:52:39.546216Z",
     "start_time": "2020-08-20T17:52:39.532052Z"
    }
   },
   "outputs": [],
   "source": [
    "# reload packages\n",
    "%load_ext autoreload\n",
    "%autoreload 2"
   ]
  },
  {
   "cell_type": "markdown",
   "metadata": {},
   "source": [
    "### Choose GPU"
   ]
  },
  {
   "cell_type": "code",
   "execution_count": 2,
   "metadata": {
    "ExecuteTime": {
     "end_time": "2020-08-20T17:52:39.556723Z",
     "start_time": "2020-08-20T17:52:39.547707Z"
    }
   },
   "outputs": [
    {
     "name": "stdout",
     "output_type": "stream",
     "text": [
      "env: CUDA_DEVICE_ORDER=PCI_BUS_ID\n",
      "env: CUDA_VISIBLE_DEVICES=1\n"
     ]
    }
   ],
   "source": [
    "%env CUDA_DEVICE_ORDER=PCI_BUS_ID\n",
    "%env CUDA_VISIBLE_DEVICES=1"
   ]
  },
  {
   "cell_type": "code",
   "execution_count": 3,
   "metadata": {
    "ExecuteTime": {
     "end_time": "2020-08-20T17:52:42.419373Z",
     "start_time": "2020-08-20T17:52:39.558054Z"
    }
   },
   "outputs": [
    {
     "name": "stdout",
     "output_type": "stream",
     "text": [
      "[PhysicalDevice(name='/physical_device:GPU:0', device_type='GPU')]\n"
     ]
    }
   ],
   "source": [
    "import tensorflow as tf\n",
    "gpu_devices = tf.config.experimental.list_physical_devices('GPU')\n",
    "if len(gpu_devices)>0:\n",
    "    tf.config.experimental.set_memory_growth(gpu_devices[0], True)\n",
    "print(gpu_devices)\n",
    "tf.keras.backend.clear_session()"
   ]
  },
  {
   "cell_type": "markdown",
   "metadata": {},
   "source": [
    "### Load packages"
   ]
  },
  {
   "cell_type": "code",
   "execution_count": 4,
   "metadata": {
    "ExecuteTime": {
     "end_time": "2020-08-20T17:52:47.524716Z",
     "start_time": "2020-08-20T17:52:42.421842Z"
    }
   },
   "outputs": [
    {
     "name": "stderr",
     "output_type": "stream",
     "text": [
      "/mnt/cube/tsainbur/conda_envs/tpy3/lib/python3.6/site-packages/tqdm/autonotebook/__init__.py:14: TqdmExperimentalWarning: Using `tqdm.autonotebook.tqdm` in notebook mode. Use `tqdm.tqdm` instead to force console mode (e.g. in jupyter console)\n",
      "  \" (e.g. in jupyter console)\", TqdmExperimentalWarning)\n"
     ]
    }
   ],
   "source": [
    "import tensorflow as tf\n",
    "import numpy as np\n",
    "import matplotlib.pyplot as plt\n",
    "from tqdm.autonotebook import tqdm\n",
    "from IPython import display\n",
    "import pandas as pd\n",
    "import umap\n",
    "import copy\n",
    "import os, tempfile\n",
    "import tensorflow_addons as tfa\n",
    "import pickle\n"
   ]
  },
  {
   "cell_type": "markdown",
   "metadata": {},
   "source": [
    "### parameters"
   ]
  },
  {
   "cell_type": "code",
   "execution_count": 5,
   "metadata": {
    "ExecuteTime": {
     "end_time": "2020-08-20T17:52:47.574925Z",
     "start_time": "2020-08-20T17:52:47.526622Z"
    }
   },
   "outputs": [],
   "source": [
    "dataset = \"cifar10\"\n",
    "labels_per_class = 256 # 'full'\n",
    "n_latent_dims = 1024\n",
    "confidence_threshold = 0.0 # minimum confidence to include in UMAP graph for learned metric\n",
    "learned_metric = False # whether to use a learned metric, or Euclidean distance between datapoints\n",
    "\n",
    "augmented = True #\n",
    "min_dist= 0.001 # min_dist parameter for UMAP\n",
    "negative_sample_rate = 5 # how many negative samples per positive sample \n",
    "batch_size = 128 # batch size \n",
    "optimizer = tf.keras.optimizers.Adam(1e-3) # the optimizer to train\n",
    "optimizer = tfa.optimizers.MovingAverage(optimizer)\n",
    "label_smoothing = 0.2 # how much label smoothing to apply to categorical crossentropy\n",
    "max_umap_iterations = 500 # how many times, maximum, to recompute UMAP\n",
    "max_epochs_per_graph = 10 # how many epochs maximum each graph trains for (without early stopping)\n",
    "graph_patience = 10 # how many times without improvement to train a new graph\n",
    "min_graph_delta = 0.0025 # minimum improvement on validation acc to consider an improvement for training"
   ]
  },
  {
   "cell_type": "code",
   "execution_count": 6,
   "metadata": {
    "ExecuteTime": {
     "end_time": "2020-08-20T17:52:47.617247Z",
     "start_time": "2020-08-20T17:52:47.576635Z"
    }
   },
   "outputs": [
    {
     "name": "stdout",
     "output_type": "stream",
     "text": [
      "cifar10_0.0_256____2020_08_20_10_52_47_615557_umap_augmented\n"
     ]
    }
   ],
   "source": [
    "from datetime import datetime\n",
    "\n",
    "datestring = datetime.now().strftime(\"%Y_%m_%d_%H_%M_%S_%f\")\n",
    "datestring = (\n",
    "    str(dataset)\n",
    "    + \"_\"\n",
    "    + str(confidence_threshold)\n",
    "    + \"_\"\n",
    "    + str(labels_per_class)\n",
    "    + \"____\"\n",
    "    + datestring \n",
    "    + '_umap_augmented'\n",
    ")\n",
    "print(datestring)"
   ]
  },
  {
   "cell_type": "markdown",
   "metadata": {},
   "source": [
    "#### Load dataset"
   ]
  },
  {
   "cell_type": "code",
   "execution_count": 7,
   "metadata": {
    "ExecuteTime": {
     "end_time": "2020-08-20T17:52:47.678743Z",
     "start_time": "2020-08-20T17:52:47.618159Z"
    }
   },
   "outputs": [],
   "source": [
    "from tfumap.semisupervised_keras import load_dataset"
   ]
  },
  {
   "cell_type": "code",
   "execution_count": 8,
   "metadata": {
    "ExecuteTime": {
     "end_time": "2020-08-20T17:52:49.122960Z",
     "start_time": "2020-08-20T17:52:47.679882Z"
    }
   },
   "outputs": [],
   "source": [
    "(\n",
    "    X_train,\n",
    "    X_test,\n",
    "    X_labeled,\n",
    "    Y_labeled,\n",
    "    Y_masked,\n",
    "    X_valid,\n",
    "    Y_train,\n",
    "    Y_test,\n",
    "    Y_valid,\n",
    "    Y_valid_one_hot,\n",
    "    Y_labeled_one_hot,\n",
    "    num_classes,\n",
    "    dims\n",
    ") = load_dataset(dataset, labels_per_class)"
   ]
  },
  {
   "cell_type": "markdown",
   "metadata": {},
   "source": [
    "### load architecture"
   ]
  },
  {
   "cell_type": "code",
   "execution_count": 9,
   "metadata": {
    "ExecuteTime": {
     "end_time": "2020-08-20T17:52:49.166476Z",
     "start_time": "2020-08-20T17:52:49.124612Z"
    }
   },
   "outputs": [],
   "source": [
    "from tfumap.semisupervised_keras import load_architecture"
   ]
  },
  {
   "cell_type": "code",
   "execution_count": 10,
   "metadata": {
    "ExecuteTime": {
     "end_time": "2020-08-20T17:52:50.128473Z",
     "start_time": "2020-08-20T17:52:49.167840Z"
    }
   },
   "outputs": [],
   "source": [
    "encoder, classifier, embedder = load_architecture(dataset, n_latent_dims)"
   ]
  },
  {
   "cell_type": "markdown",
   "metadata": {},
   "source": [
    "### load pretrained weights"
   ]
  },
  {
   "cell_type": "code",
   "execution_count": 11,
   "metadata": {
    "ExecuteTime": {
     "end_time": "2020-08-20T17:52:50.170394Z",
     "start_time": "2020-08-20T17:52:50.130861Z"
    }
   },
   "outputs": [],
   "source": [
    "from tfumap.semisupervised_keras import load_pretrained_weights"
   ]
  },
  {
   "cell_type": "code",
   "execution_count": 12,
   "metadata": {
    "ExecuteTime": {
     "end_time": "2020-08-20T17:52:50.402291Z",
     "start_time": "2020-08-20T17:52:50.171806Z"
    },
    "scrolled": true
   },
   "outputs": [
    {
     "name": "stderr",
     "output_type": "stream",
     "text": [
      "WARNING: Logging before flag parsing goes to stderr.\n",
      "W0820 10:52:50.246892 139934805747520 base.py:272] Inconsistent references when loading the checkpoint into this object graph. Either the Trackable object references in the Python program have changed in an incompatible way, or the checkpoint was generated in an incompatible program.\n",
      "\n",
      "Two checkpoint references resolved to different objects (<tensorflow_addons.layers.wrappers.WeightNormalization object at 0x7f43fc221b00> and <tensorflow.python.keras.layers.advanced_activations.LeakyReLU object at 0x7f43fc221b38>).\n",
      "W0820 10:52:50.248884 139934805747520 base.py:272] Inconsistent references when loading the checkpoint into this object graph. Either the Trackable object references in the Python program have changed in an incompatible way, or the checkpoint was generated in an incompatible program.\n",
      "\n",
      "Two checkpoint references resolved to different objects (<tensorflow_addons.layers.wrappers.WeightNormalization object at 0x7f43fc2390b8> and <tensorflow.python.keras.layers.advanced_activations.LeakyReLU object at 0x7f43fc1e01d0>).\n",
      "W0820 10:52:50.269416 139934805747520 base.py:272] Inconsistent references when loading the checkpoint into this object graph. Either the Trackable object references in the Python program have changed in an incompatible way, or the checkpoint was generated in an incompatible program.\n",
      "\n",
      "Two checkpoint references resolved to different objects (<tensorflow_addons.layers.wrappers.WeightNormalization object at 0x7f44015aec18> and <tensorflow.python.keras.layers.normalization_v2.BatchNormalization object at 0x7f44015aef98>).\n",
      "W0820 10:52:50.272256 139934805747520 base.py:272] Inconsistent references when loading the checkpoint into this object graph. Either the Trackable object references in the Python program have changed in an incompatible way, or the checkpoint was generated in an incompatible program.\n",
      "\n",
      "Two checkpoint references resolved to different objects (<tensorflow.python.keras.layers.normalization_v2.BatchNormalization object at 0x7f44015aef98> and <tensorflow.python.keras.layers.advanced_activations.LeakyReLU object at 0x7f44013d7940>).\n",
      "W0820 10:52:50.276022 139934805747520 base.py:272] Inconsistent references when loading the checkpoint into this object graph. Either the Trackable object references in the Python program have changed in an incompatible way, or the checkpoint was generated in an incompatible program.\n",
      "\n",
      "Two checkpoint references resolved to different objects (<tensorflow_addons.layers.wrappers.WeightNormalization object at 0x7f4401353ba8> and <tensorflow.python.keras.layers.normalization_v2.BatchNormalization object at 0x7f4401353ef0>).\n",
      "W0820 10:52:50.278703 139934805747520 base.py:272] Inconsistent references when loading the checkpoint into this object graph. Either the Trackable object references in the Python program have changed in an incompatible way, or the checkpoint was generated in an incompatible program.\n",
      "\n",
      "Two checkpoint references resolved to different objects (<tensorflow.python.keras.layers.normalization_v2.BatchNormalization object at 0x7f4401353ef0> and <tensorflow.python.keras.layers.advanced_activations.LeakyReLU object at 0x7f4401353e48>).\n",
      "W0820 10:52:50.282602 139934805747520 base.py:272] Inconsistent references when loading the checkpoint into this object graph. Either the Trackable object references in the Python program have changed in an incompatible way, or the checkpoint was generated in an incompatible program.\n",
      "\n",
      "Two checkpoint references resolved to different objects (<tensorflow_addons.layers.wrappers.WeightNormalization object at 0x7f4401791470> and <tensorflow.python.keras.layers.normalization_v2.BatchNormalization object at 0x7f4401791860>).\n",
      "W0820 10:52:50.285424 139934805747520 base.py:272] Inconsistent references when loading the checkpoint into this object graph. Either the Trackable object references in the Python program have changed in an incompatible way, or the checkpoint was generated in an incompatible program.\n",
      "\n",
      "Two checkpoint references resolved to different objects (<tensorflow.python.keras.layers.normalization_v2.BatchNormalization object at 0x7f4401791860> and <tensorflow.python.keras.layers.advanced_activations.LeakyReLU object at 0x7f44011ac128>).\n",
      "W0820 10:52:50.291501 139934805747520 base.py:272] Inconsistent references when loading the checkpoint into this object graph. Either the Trackable object references in the Python program have changed in an incompatible way, or the checkpoint was generated in an incompatible program.\n",
      "\n",
      "Two checkpoint references resolved to different objects (<tensorflow_addons.layers.wrappers.WeightNormalization object at 0x7f4401663390> and <tensorflow.python.keras.layers.normalization_v2.BatchNormalization object at 0x7f44016639e8>).\n",
      "W0820 10:52:50.294327 139934805747520 base.py:272] Inconsistent references when loading the checkpoint into this object graph. Either the Trackable object references in the Python program have changed in an incompatible way, or the checkpoint was generated in an incompatible program.\n",
      "\n",
      "Two checkpoint references resolved to different objects (<tensorflow.python.keras.layers.normalization_v2.BatchNormalization object at 0x7f44016639e8> and <tensorflow.python.keras.layers.advanced_activations.LeakyReLU object at 0x7f4401663c50>).\n",
      "W0820 10:52:50.298145 139934805747520 base.py:272] Inconsistent references when loading the checkpoint into this object graph. Either the Trackable object references in the Python program have changed in an incompatible way, or the checkpoint was generated in an incompatible program.\n",
      "\n",
      "Two checkpoint references resolved to different objects (<tensorflow_addons.layers.wrappers.WeightNormalization object at 0x7f4401405438> and <tensorflow.python.keras.layers.normalization_v2.BatchNormalization object at 0x7f4401405a58>).\n",
      "W0820 10:52:50.300831 139934805747520 base.py:272] Inconsistent references when loading the checkpoint into this object graph. Either the Trackable object references in the Python program have changed in an incompatible way, or the checkpoint was generated in an incompatible program.\n",
      "\n",
      "Two checkpoint references resolved to different objects (<tensorflow.python.keras.layers.normalization_v2.BatchNormalization object at 0x7f4401405a58> and <tensorflow.python.keras.layers.advanced_activations.LeakyReLU object at 0x7f4401405cc0>).\n",
      "W0820 10:52:50.304586 139934805747520 base.py:272] Inconsistent references when loading the checkpoint into this object graph. Either the Trackable object references in the Python program have changed in an incompatible way, or the checkpoint was generated in an incompatible program.\n",
      "\n",
      "Two checkpoint references resolved to different objects (<tensorflow_addons.layers.wrappers.WeightNormalization object at 0x7f4401674780> and <tensorflow.python.keras.layers.normalization_v2.BatchNormalization object at 0x7f4401674a90>).\n",
      "W0820 10:52:50.307291 139934805747520 base.py:272] Inconsistent references when loading the checkpoint into this object graph. Either the Trackable object references in the Python program have changed in an incompatible way, or the checkpoint was generated in an incompatible program.\n",
      "\n",
      "Two checkpoint references resolved to different objects (<tensorflow.python.keras.layers.normalization_v2.BatchNormalization object at 0x7f4401674a90> and <tensorflow.python.keras.layers.advanced_activations.LeakyReLU object at 0x7f4401674cc0>).\n",
      "W0820 10:52:50.313197 139934805747520 base.py:272] Inconsistent references when loading the checkpoint into this object graph. Either the Trackable object references in the Python program have changed in an incompatible way, or the checkpoint was generated in an incompatible program.\n",
      "\n",
      "Two checkpoint references resolved to different objects (<tensorflow_addons.layers.wrappers.WeightNormalization object at 0x7f43fc3182e8> and <tensorflow.python.keras.layers.normalization_v2.BatchNormalization object at 0x7f43fc318518>).\n",
      "W0820 10:52:50.315870 139934805747520 base.py:272] Inconsistent references when loading the checkpoint into this object graph. Either the Trackable object references in the Python program have changed in an incompatible way, or the checkpoint was generated in an incompatible program.\n",
      "\n",
      "Two checkpoint references resolved to different objects (<tensorflow.python.keras.layers.normalization_v2.BatchNormalization object at 0x7f43fc318518> and <tensorflow.python.keras.layers.advanced_activations.LeakyReLU object at 0x7f43fc318780>).\n"
     ]
    },
    {
     "name": "stderr",
     "output_type": "stream",
     "text": [
      "W0820 10:52:50.319654 139934805747520 base.py:272] Inconsistent references when loading the checkpoint into this object graph. Either the Trackable object references in the Python program have changed in an incompatible way, or the checkpoint was generated in an incompatible program.\n",
      "\n",
      "Two checkpoint references resolved to different objects (<tensorflow_addons.layers.wrappers.WeightNormalization object at 0x7f43fc2ec2b0> and <tensorflow.python.keras.layers.normalization_v2.BatchNormalization object at 0x7f43fc2ec5c0>).\n",
      "W0820 10:52:50.322350 139934805747520 base.py:272] Inconsistent references when loading the checkpoint into this object graph. Either the Trackable object references in the Python program have changed in an incompatible way, or the checkpoint was generated in an incompatible program.\n",
      "\n",
      "Two checkpoint references resolved to different objects (<tensorflow.python.keras.layers.normalization_v2.BatchNormalization object at 0x7f43fc2ec5c0> and <tensorflow.python.keras.layers.advanced_activations.LeakyReLU object at 0x7f43fc2ec7b8>).\n",
      "W0820 10:52:50.326120 139934805747520 base.py:272] Inconsistent references when loading the checkpoint into this object graph. Either the Trackable object references in the Python program have changed in an incompatible way, or the checkpoint was generated in an incompatible program.\n",
      "\n",
      "Two checkpoint references resolved to different objects (<tensorflow_addons.layers.wrappers.WeightNormalization object at 0x7f43fc2432e8> and <tensorflow.python.keras.layers.normalization_v2.BatchNormalization object at 0x7f43fc2435f8>).\n",
      "W0820 10:52:50.328803 139934805747520 base.py:272] Inconsistent references when loading the checkpoint into this object graph. Either the Trackable object references in the Python program have changed in an incompatible way, or the checkpoint was generated in an incompatible program.\n",
      "\n",
      "Two checkpoint references resolved to different objects (<tensorflow.python.keras.layers.normalization_v2.BatchNormalization object at 0x7f43fc2435f8> and <tensorflow.python.keras.layers.advanced_activations.LeakyReLU object at 0x7f43fc2437f0>).\n"
     ]
    }
   ],
   "source": [
    "encoder, classifier = load_pretrained_weights(dataset, augmented, labels_per_class, encoder, classifier)"
   ]
  },
  {
   "cell_type": "markdown",
   "metadata": {},
   "source": [
    "#### compute pretrained accuracy"
   ]
  },
  {
   "cell_type": "code",
   "execution_count": 13,
   "metadata": {
    "ExecuteTime": {
     "end_time": "2020-08-20T17:52:55.731035Z",
     "start_time": "2020-08-20T17:52:50.403823Z"
    }
   },
   "outputs": [
    {
     "name": "stdout",
     "output_type": "stream",
     "text": [
      "313/313 [==============================] - 2s 7ms/step\n",
      "313/313 [==============================] - 0s 2ms/step\n",
      "pretrained acc: 0.7664\n"
     ]
    }
   ],
   "source": [
    "# test current acc\n",
    "pretrained_predictions = classifier.predict(encoder.predict(X_test, verbose=True), verbose=True)\n",
    "pretrained_predictions = np.argmax(pretrained_predictions, axis=1)\n",
    "pretrained_acc = np.mean(pretrained_predictions == Y_test)\n",
    "print('pretrained acc: {}'.format(pretrained_acc))"
   ]
  },
  {
   "cell_type": "markdown",
   "metadata": {},
   "source": [
    "### get a, b parameters for embeddings"
   ]
  },
  {
   "cell_type": "code",
   "execution_count": 14,
   "metadata": {
    "ExecuteTime": {
     "end_time": "2020-08-20T17:52:55.772717Z",
     "start_time": "2020-08-20T17:52:55.732740Z"
    }
   },
   "outputs": [],
   "source": [
    "from tfumap.semisupervised_keras import find_a_b"
   ]
  },
  {
   "cell_type": "code",
   "execution_count": 15,
   "metadata": {
    "ExecuteTime": {
     "end_time": "2020-08-20T17:52:55.846701Z",
     "start_time": "2020-08-20T17:52:55.774028Z"
    }
   },
   "outputs": [],
   "source": [
    "a_param, b_param = find_a_b(min_dist=min_dist)"
   ]
  },
  {
   "cell_type": "markdown",
   "metadata": {},
   "source": [
    "### build network"
   ]
  },
  {
   "cell_type": "code",
   "execution_count": 16,
   "metadata": {
    "ExecuteTime": {
     "end_time": "2020-08-20T17:52:55.901690Z",
     "start_time": "2020-08-20T17:52:55.849190Z"
    }
   },
   "outputs": [],
   "source": [
    "from tfumap.semisupervised_keras import build_model"
   ]
  },
  {
   "cell_type": "code",
   "execution_count": 17,
   "metadata": {
    "ExecuteTime": {
     "end_time": "2020-08-20T17:52:57.277654Z",
     "start_time": "2020-08-20T17:52:55.902942Z"
    }
   },
   "outputs": [],
   "source": [
    "model = build_model(\n",
    "    batch_size=batch_size,\n",
    "    a_param=a_param,\n",
    "    b_param=b_param,\n",
    "    dims=dims,\n",
    "    encoder=encoder,\n",
    "    classifier=classifier,\n",
    "    negative_sample_rate=negative_sample_rate,\n",
    "    optimizer=optimizer,\n",
    "    label_smoothing=label_smoothing,\n",
    "    embedder = embedder,\n",
    ")"
   ]
  },
  {
   "cell_type": "markdown",
   "metadata": {},
   "source": [
    "### build labeled iterator"
   ]
  },
  {
   "cell_type": "code",
   "execution_count": 18,
   "metadata": {
    "ExecuteTime": {
     "end_time": "2020-08-20T17:52:57.324132Z",
     "start_time": "2020-08-20T17:52:57.279337Z"
    }
   },
   "outputs": [],
   "source": [
    "from tfumap.semisupervised_keras import build_labeled_iterator"
   ]
  },
  {
   "cell_type": "code",
   "execution_count": 19,
   "metadata": {
    "ExecuteTime": {
     "end_time": "2020-08-20T17:52:59.074382Z",
     "start_time": "2020-08-20T17:52:57.325358Z"
    }
   },
   "outputs": [],
   "source": [
    "labeled_dataset = build_labeled_iterator(X_labeled, Y_labeled_one_hot, augmented, dims)"
   ]
  },
  {
   "cell_type": "markdown",
   "metadata": {},
   "source": [
    "### training"
   ]
  },
  {
   "cell_type": "code",
   "execution_count": 20,
   "metadata": {
    "ExecuteTime": {
     "end_time": "2020-08-20T17:52:59.121496Z",
     "start_time": "2020-08-20T17:52:59.075648Z"
    }
   },
   "outputs": [],
   "source": [
    "from livelossplot import PlotLossesKerasTF\n",
    "from tfumap.semisupervised_keras import get_edge_dataset\n",
    "from tfumap.semisupervised_keras import zip_datasets"
   ]
  },
  {
   "cell_type": "markdown",
   "metadata": {},
   "source": [
    "#### callbacks"
   ]
  },
  {
   "cell_type": "code",
   "execution_count": 21,
   "metadata": {
    "ExecuteTime": {
     "end_time": "2020-08-20T17:52:59.161022Z",
     "start_time": "2020-08-20T17:52:59.122914Z"
    }
   },
   "outputs": [],
   "source": [
    "# plot losses callback\n",
    "groups = {'acccuracy': ['classifier_accuracy', 'val_classifier_accuracy'], 'loss': ['classifier_loss', 'val_classifier_loss']}\n",
    "plotlosses = PlotLossesKerasTF(groups=groups)"
   ]
  },
  {
   "cell_type": "code",
   "execution_count": 22,
   "metadata": {
    "ExecuteTime": {
     "end_time": "2020-08-20T17:52:59.194815Z",
     "start_time": "2020-08-20T17:52:59.162241Z"
    }
   },
   "outputs": [],
   "source": [
    "history_list = []\n",
    "current_validation_acc = 0\n",
    "batches_per_epoch = np.floor(len(X_train)/batch_size).astype(int)\n",
    "epochs_since_last_improvement = 0\n",
    "current_umap_iterations = 0\n",
    "current_epoch = 0"
   ]
  },
  {
   "cell_type": "code",
   "execution_count": 23,
   "metadata": {
    "ExecuteTime": {
     "end_time": "2020-08-20T17:53:30.935753Z",
     "start_time": "2020-08-20T17:52:59.196093Z"
    }
   },
   "outputs": [],
   "source": [
    "# make dataset\n",
    "edge_dataset = get_edge_dataset(\n",
    "    model,\n",
    "    augmented,\n",
    "    classifier,\n",
    "    encoder,\n",
    "    X_train,\n",
    "    Y_masked,\n",
    "    batch_size,\n",
    "    confidence_threshold,\n",
    "    labeled_dataset,\n",
    "    dims,\n",
    "    learned_metric = learned_metric\n",
    ")\n",
    "\n",
    "# zip dataset\n",
    "zipped_ds = zip_datasets(labeled_dataset, edge_dataset, batch_size)\n"
   ]
  },
  {
   "cell_type": "code",
   "execution_count": null,
   "metadata": {
    "ExecuteTime": {
     "start_time": "2020-08-20T17:52:39.557Z"
    }
   },
   "outputs": [
    {
     "data": {
      "image/png": "[encoded data removed]",
      "text/plain": [
       "<Figure size 864x576 with 2 Axes>"
      ]
     },
     "metadata": {
      "needs_background": "light"
     },
     "output_type": "display_data"
    },
    {
     "name": "stdout",
     "output_type": "stream",
     "text": [
      "acccuracy\n",
      "\ttraining         \t (min:    0.995, max:    0.999, cur:    0.998)\n",
      "\tvalidation       \t (min:    0.720, max:    0.758, cur:    0.738)\n",
      "Loss\n",
      "\ttraining         \t (min:    0.869, max:    0.879, cur:    0.871)\n",
      "\tvalidation       \t (min:    1.408, max:    1.540, cur:    1.474)\n",
      "312/312 [==============================] - 49s 157ms/step - loss: 1.1411 - classifier_loss: 0.8711 - umap_loss: 0.2700 - classifier_accuracy: 0.9981 - val_loss: 1.4739 - val_classifier_loss: 1.4739 - val_umap_loss: 0.0000e+00 - val_classifier_accuracy: 0.7384\n",
      "Epoch 231/240\n",
      "126/312 [===========>..................] - ETA: 25s - loss: 1.1392 - classifier_loss: 0.8699 - umap_loss: 0.2693 - classifier_accuracy: 0.9986"
     ]
    }
   ],
   "source": [
    "from tfumap.paths import MODEL_DIR, ensure_dir\n",
    "save_folder = MODEL_DIR / 'semisupervised-keras' / dataset / str(labels_per_class) / datestring\n",
    "ensure_dir(save_folder / 'test_loss.npy')\n",
    "for cui in tqdm(np.arange(current_epoch, max_umap_iterations)):\n",
    "    \n",
    "    if len(history_list) > max_epochs_per_graph*graph_patience+1:\n",
    "        previous_history = [np.mean(i.history['val_classifier_accuracy']) for i in history_list]\n",
    "        # if none of the current past epoch graph_patience are better by min_graph_delta than epochs previous, quit\n",
    "        best_of_patience = np.max(previous_history[-max_epochs_per_graph*graph_patience:])\n",
    "        best_of_previous = np.max(previous_history[:-max_epochs_per_graph*graph_patience])\n",
    "        if best_of_previous + min_graph_delta > best_of_patience:\n",
    "            break\n",
    "        \n",
    "    \n",
    "    # train dataset\n",
    "    history = model.fit(\n",
    "        zipped_ds,\n",
    "        epochs= current_epoch + max_epochs_per_graph,\n",
    "        initial_epoch = current_epoch,\n",
    "        validation_data=(\n",
    "            (X_valid, tf.zeros_like(X_valid), tf.zeros_like(X_valid)),\n",
    "            {\"classifier\": Y_valid_one_hot},\n",
    "        ),\n",
    "        callbacks = [plotlosses],\n",
    "        max_queue_size = 100,\n",
    "        steps_per_epoch = batches_per_epoch,\n",
    "        #verbose=0\n",
    "    )\n",
    "    current_epoch+=len(history.history['loss'])\n",
    "    history_list.append(history)\n",
    "    \n",
    "    # save score \n",
    "    class_pred = classifier.predict(encoder.predict(X_test))\n",
    "    class_acc = np.mean(np.argmax(class_pred, axis=1) == Y_test)\n",
    "    np.save(save_folder / 'test_loss.npy', (np.nan, class_acc))\n",
    "    \n",
    "    # save weights\n",
    "    encoder.save_weights((save_folder / \"encoder\").as_posix())\n",
    "    classifier.save_weights((save_folder / \"classifier\").as_posix())\n",
    "    \n",
    "    # save history\n",
    "    with open(save_folder / 'history.pickle', 'wb') as file_pi:\n",
    "        pickle.dump([i.history for i in history_list], file_pi)\n",
    "\n",
    "        current_umap_iterations += 1"
   ]
  },
  {
   "cell_type": "code",
   "execution_count": null,
   "metadata": {
    "ExecuteTime": {
     "start_time": "2020-08-20T17:52:39.559Z"
    }
   },
   "outputs": [],
   "source": [
    "plt.plot(previous_history)"
   ]
  },
  {
   "cell_type": "code",
   "execution_count": null,
   "metadata": {},
   "outputs": [],
   "source": []
  }
 ],
 "metadata": {
  "kernelspec": {
   "display_name": "Python 3",
   "language": "python",
   "name": "python3"
  },
  "language_info": {
   "codemirror_mode": {
    "name": "ipython",
    "version": 3
   },
   "file_extension": ".py",
   "mimetype": "text/x-python",
   "name": "python",
   "nbconvert_exporter": "python",
   "pygments_lexer": "ipython3",
   "version": "3.6.7"
  }
 },
 "nbformat": 4,
 "nbformat_minor": 2
}
