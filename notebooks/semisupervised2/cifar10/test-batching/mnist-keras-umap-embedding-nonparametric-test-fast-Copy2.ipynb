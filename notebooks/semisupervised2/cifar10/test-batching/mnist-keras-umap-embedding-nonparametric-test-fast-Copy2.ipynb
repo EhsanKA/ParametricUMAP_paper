{
 "cells": [
  {
   "cell_type": "code",
   "execution_count": 1,
   "metadata": {
    "ExecuteTime": {
     "end_time": "2020-08-14T06:27:33.355361Z",
     "start_time": "2020-08-14T06:27:33.342946Z"
    }
   },
   "outputs": [],
   "source": [
    "# reload packages\n",
    "%load_ext autoreload\n",
    "%autoreload 2"
   ]
  },
  {
   "cell_type": "markdown",
   "metadata": {},
   "source": [
    "### Choose GPU"
   ]
  },
  {
   "cell_type": "code",
   "execution_count": 2,
   "metadata": {
    "ExecuteTime": {
     "end_time": "2020-08-14T06:27:33.365869Z",
     "start_time": "2020-08-14T06:27:33.356695Z"
    }
   },
   "outputs": [
    {
     "name": "stdout",
     "output_type": "stream",
     "text": [
      "env: CUDA_DEVICE_ORDER=PCI_BUS_ID\n",
      "env: CUDA_VISIBLE_DEVICES=1\n"
     ]
    }
   ],
   "source": [
    "%env CUDA_DEVICE_ORDER=PCI_BUS_ID\n",
    "%env CUDA_VISIBLE_DEVICES=1"
   ]
  },
  {
   "cell_type": "code",
   "execution_count": 3,
   "metadata": {
    "ExecuteTime": {
     "end_time": "2020-08-14T06:27:37.865563Z",
     "start_time": "2020-08-14T06:27:33.367082Z"
    }
   },
   "outputs": [
    {
     "name": "stdout",
     "output_type": "stream",
     "text": [
      "[PhysicalDevice(name='/physical_device:GPU:0', device_type='GPU')]\n"
     ]
    }
   ],
   "source": [
    "import tensorflow as tf\n",
    "gpu_devices = tf.config.experimental.list_physical_devices('GPU')\n",
    "if len(gpu_devices)>0:\n",
    "    tf.config.experimental.set_memory_growth(gpu_devices[0], True)\n",
    "print(gpu_devices)\n",
    "tf.keras.backend.clear_session()"
   ]
  },
  {
   "cell_type": "code",
   "execution_count": 4,
   "metadata": {
    "ExecuteTime": {
     "end_time": "2020-08-14T06:27:37.894696Z",
     "start_time": "2020-08-14T06:27:37.867389Z"
    }
   },
   "outputs": [],
   "source": [
    "labels_per_class = 'full' # full"
   ]
  },
  {
   "cell_type": "markdown",
   "metadata": {},
   "source": [
    "### Load packages"
   ]
  },
  {
   "cell_type": "code",
   "execution_count": 5,
   "metadata": {
    "ExecuteTime": {
     "end_time": "2020-08-14T06:27:42.641486Z",
     "start_time": "2020-08-14T06:27:37.895594Z"
    }
   },
   "outputs": [
    {
     "name": "stderr",
     "output_type": "stream",
     "text": [
      "/mnt/cube/tsainbur/conda_envs/tpy3/lib/python3.6/site-packages/tqdm/autonotebook/__init__.py:14: TqdmExperimentalWarning: Using `tqdm.autonotebook.tqdm` in notebook mode. Use `tqdm.tqdm` instead to force console mode (e.g. in jupyter console)\n",
      "  \" (e.g. in jupyter console)\", TqdmExperimentalWarning)\n"
     ]
    }
   ],
   "source": [
    "import tensorflow as tf\n",
    "import numpy as np\n",
    "import matplotlib.pyplot as plt\n",
    "from tqdm.autonotebook import tqdm\n",
    "from IPython import display\n",
    "import pandas as pd\n",
    "import umap\n",
    "import copy\n",
    "import os, tempfile"
   ]
  },
  {
   "cell_type": "markdown",
   "metadata": {},
   "source": [
    "### Load dataset"
   ]
  },
  {
   "cell_type": "code",
   "execution_count": 6,
   "metadata": {
    "ExecuteTime": {
     "end_time": "2020-08-14T06:27:43.106037Z",
     "start_time": "2020-08-14T06:27:42.642673Z"
    }
   },
   "outputs": [
    {
     "data": {
      "text/plain": [
       "(50000, 28, 28, 1)"
      ]
     },
     "execution_count": 6,
     "metadata": {},
     "output_type": "execute_result"
    }
   ],
   "source": [
    "from tfumap.load_datasets import load_MNIST, mask_labels\n",
    "X_train, X_test, X_valid, Y_train, Y_test, Y_valid = load_MNIST(flatten=False)\n",
    "X_train.shape"
   ]
  },
  {
   "cell_type": "code",
   "execution_count": 7,
   "metadata": {
    "ExecuteTime": {
     "end_time": "2020-08-14T06:27:43.146808Z",
     "start_time": "2020-08-14T06:27:43.108021Z"
    }
   },
   "outputs": [],
   "source": [
    "if labels_per_class == \"full\":\n",
    "    X_labeled = X_train\n",
    "    Y_masked = Y_labeled = Y_train\n",
    "else:\n",
    "    X_labeled, Y_labeled, Y_masked = mask_labels(\n",
    "        X_train, Y_train, labels_per_class=labels_per_class\n",
    "    )"
   ]
  },
  {
   "cell_type": "markdown",
   "metadata": {},
   "source": [
    "### Network architecture"
   ]
  },
  {
   "cell_type": "code",
   "execution_count": 8,
   "metadata": {
    "ExecuteTime": {
     "end_time": "2020-08-14T06:27:43.178515Z",
     "start_time": "2020-08-14T06:27:43.147903Z"
    }
   },
   "outputs": [],
   "source": [
    "dims = (28,28,1)\n",
    "n_components= 2"
   ]
  },
  {
   "cell_type": "code",
   "execution_count": 9,
   "metadata": {
    "ExecuteTime": {
     "end_time": "2020-08-14T06:27:43.847505Z",
     "start_time": "2020-08-14T06:27:43.179406Z"
    }
   },
   "outputs": [],
   "source": [
    "encoder = tf.keras.Sequential([\n",
    "    tf.keras.layers.InputLayer(input_shape=dims),\n",
    "    tf.keras.layers.Conv2D(\n",
    "        filters=64, kernel_size=3, strides=(2, 2), activation=\"relu\"\n",
    "    ),\n",
    "    tf.keras.layers.Conv2D(\n",
    "        filters=128, kernel_size=3, strides=(2, 2), activation=\"relu\"\n",
    "    ),\n",
    "\n",
    "    tf.keras.layers.Flatten(),\n",
    "    tf.keras.layers.Dense(units=512, activation=\"relu\"),\n",
    "    tf.keras.layers.Dense(units=512, activation=\"relu\"),\n",
    "    tf.keras.layers.Dense(units=n_components),\n",
    "])"
   ]
  },
  {
   "cell_type": "markdown",
   "metadata": {},
   "source": [
    "### Test model with just UMAP"
   ]
  },
  {
   "cell_type": "code",
   "execution_count": 10,
   "metadata": {
    "ExecuteTime": {
     "end_time": "2020-08-14T06:27:43.905366Z",
     "start_time": "2020-08-14T06:27:43.848763Z"
    }
   },
   "outputs": [],
   "source": [
    "from tfumap.semisupervised import find_a_b\n",
    "from tfumap.umap import convert_distance_to_probability"
   ]
  },
  {
   "cell_type": "code",
   "execution_count": 11,
   "metadata": {
    "ExecuteTime": {
     "end_time": "2020-08-14T06:27:43.958212Z",
     "start_time": "2020-08-14T06:27:43.906668Z"
    }
   },
   "outputs": [
    {
     "data": {
      "text/plain": [
       "(<tf.Tensor: shape=(), dtype=float32, numpy=1.9290735>,\n",
       " <tf.Tensor: shape=(), dtype=float32, numpy=0.79150456>)"
      ]
     },
     "execution_count": 11,
     "metadata": {},
     "output_type": "execute_result"
    }
   ],
   "source": [
    "min_dist = 0.001\n",
    "_a, _b = find_a_b(min_dist)\n",
    "_a, _b "
   ]
  },
  {
   "cell_type": "markdown",
   "metadata": {},
   "source": [
    "##### build iterator"
   ]
  },
  {
   "cell_type": "code",
   "execution_count": 12,
   "metadata": {
    "ExecuteTime": {
     "end_time": "2020-08-14T06:27:43.996787Z",
     "start_time": "2020-08-14T06:27:43.959844Z"
    }
   },
   "outputs": [],
   "source": [
    "from tfumap.semisupervised import build_fuzzy_simplicial_set\n",
    "from tfumap.umap import compute_cross_entropy, get_graph_elements"
   ]
  },
  {
   "cell_type": "code",
   "execution_count": 13,
   "metadata": {
    "ExecuteTime": {
     "end_time": "2020-08-14T06:28:03.728903Z",
     "start_time": "2020-08-14T06:27:43.997715Z"
    }
   },
   "outputs": [],
   "source": [
    "n_neighbors = 15  # default = 15\n",
    "umap_graph = build_fuzzy_simplicial_set(\n",
    "    X_train.reshape((len(X_train), np.product(np.shape(X_train)[1:]))),\n",
    "    #y=Y_masked,\n",
    "    n_neighbors=n_neighbors,\n",
    ")"
   ]
  },
  {
   "cell_type": "code",
   "execution_count": 14,
   "metadata": {
    "ExecuteTime": {
     "end_time": "2020-08-14T06:28:03.906310Z",
     "start_time": "2020-08-14T06:28:03.730530Z"
    }
   },
   "outputs": [
    {
     "data": {
      "text/plain": [
       "50000"
      ]
     },
     "execution_count": 14,
     "metadata": {},
     "output_type": "execute_result"
    }
   ],
   "source": [
    "n_epochs = 200\n",
    "graph, epochs_per_sample, head, tail, weight, n_vertices = get_graph_elements(\n",
    "            umap_graph, n_epochs\n",
    ")\n",
    "batch_size = np.min([n_vertices, 60000])\n",
    "batch_size"
   ]
  },
  {
   "cell_type": "code",
   "execution_count": 37,
   "metadata": {
    "ExecuteTime": {
     "end_time": "2020-08-14T06:29:02.475202Z",
     "start_time": "2020-08-14T06:29:02.429009Z"
    }
   },
   "outputs": [
    {
     "data": {
      "text/plain": [
       "'max_sample_repeats_per_epoch = 25\\n# set the maximum number of times each edge should be repeated per epoch\\nepochs_per_sample = np.clip(\\n    (weight / np.max(weight)) * max_sample_repeats_per_epoch,\\n    1,\\n    max_sample_repeats_per_epoch,\\n).astype(\"int\")'"
      ]
     },
     "execution_count": 37,
     "metadata": {},
     "output_type": "execute_result"
    }
   ],
   "source": [
    "\"\"\"max_sample_repeats_per_epoch = 25\n",
    "# set the maximum number of times each edge should be repeated per epoch\n",
    "epochs_per_sample = np.clip(\n",
    "    (weight / np.max(weight)) * max_sample_repeats_per_epoch,\n",
    "    1,\n",
    "    max_sample_repeats_per_epoch,\n",
    ").astype(\"int\")\"\"\""
   ]
  },
  {
   "cell_type": "code",
   "execution_count": 36,
   "metadata": {
    "ExecuteTime": {
     "end_time": "2020-08-14T06:28:58.198296Z",
     "start_time": "2020-08-14T06:28:58.145332Z"
    }
   },
   "outputs": [
    {
     "data": {
      "text/plain": [
       "'edges_to_exp, edges_from_exp = (\\n        np.repeat(head, epochs_per_sample.astype(\"int\")),\\n       np.repeat(tail, epochs_per_sample.astype(\"int\")),\\n)\\nshuffle_mask = np.random.permutation(range(len(edges_to_exp)))\\nedges_to_exp = edges_to_exp[shuffle_mask]\\nedges_from_exp = edges_from_exp[shuffle_mask]'"
      ]
     },
     "execution_count": 36,
     "metadata": {},
     "output_type": "execute_result"
    }
   ],
   "source": [
    "\"\"\"edges_to_exp, edges_from_exp = (\n",
    "        np.repeat(head, epochs_per_sample.astype(\"int\")),\n",
    "       np.repeat(tail, epochs_per_sample.astype(\"int\")),\n",
    ")\n",
    "shuffle_mask = np.random.permutation(range(len(edges_to_exp)))\n",
    "edges_to_exp = edges_to_exp[shuffle_mask]\n",
    "edges_from_exp = edges_from_exp[shuffle_mask]\"\"\""
   ]
  },
  {
   "cell_type": "code",
   "execution_count": 17,
   "metadata": {
    "ExecuteTime": {
     "end_time": "2020-08-14T06:28:06.766929Z",
     "start_time": "2020-08-14T06:28:06.729282Z"
    }
   },
   "outputs": [],
   "source": [
    "negative_sample_rate = 5"
   ]
  },
  {
   "cell_type": "code",
   "execution_count": null,
   "metadata": {},
   "outputs": [],
   "source": []
  },
  {
   "cell_type": "code",
   "execution_count": 18,
   "metadata": {
    "ExecuteTime": {
     "end_time": "2020-08-14T06:28:06.806243Z",
     "start_time": "2020-08-14T06:28:06.768205Z"
    }
   },
   "outputs": [],
   "source": [
    "from umap.spectral import spectral_layout\n",
    "\n",
    "from sklearn.utils import check_random_state\n",
    "\n",
    "random_state = check_random_state(None)\n",
    "metric = \"euclidean\"\n",
    "_metric_kwds = {}\n",
    "def init_embedding_from_graph(_raw_data, graph, n_components, random_state, metric, _metric_kwds, init=\"spectral\"):\n",
    "        \"\"\" Initialize embedding using graph. This is for direct embeddings. \n",
    "\n",
    "        Parameters\n",
    "        ----------\n",
    "        init : str, optional\n",
    "            Type of initialization to use. Either random, or spectral, by default \"spectral\"\n",
    "\n",
    "        Returns\n",
    "        -------\n",
    "        embedding : np.array\n",
    "            the initialized embedding\n",
    "        \"\"\"\n",
    "        if isinstance(init, str) and init == \"random\":\n",
    "            embedding = random_state.uniform(\n",
    "                low=-10.0, high=10.0, size=(graph.shape[0], n_components)\n",
    "            ).astype(np.float32)\n",
    "        elif isinstance(init, str) and init == \"spectral\":\n",
    "            # We add a little noise to avoid local minima for optimization to come\n",
    "\n",
    "            initialisation = spectral_layout(\n",
    "                _raw_data,\n",
    "                graph,\n",
    "                n_components,\n",
    "                random_state,\n",
    "                metric=metric,\n",
    "                metric_kwds=_metric_kwds,\n",
    "            )\n",
    "            expansion = 10.0 / np.abs(initialisation).max()\n",
    "            embedding = (initialisation * expansion).astype(\n",
    "                np.float32\n",
    "            ) + random_state.normal(\n",
    "                scale=0.0001, size=[graph.shape[0], n_components]\n",
    "            ).astype(\n",
    "                np.float32\n",
    "            )\n",
    "\n",
    "        else:\n",
    "            init_data = np.array(init)\n",
    "            if len(init_data.shape) == 2:\n",
    "                if np.unique(init_data, axis=0).shape[0] < init_data.shape[0]:\n",
    "                    tree = KDTree(init_data)\n",
    "                    dist, ind = tree.query(init_data, k=2)\n",
    "                    nndist = np.mean(dist[:, 1])\n",
    "                    embedding = init_data + random_state.normal(\n",
    "                        scale=0.001 * nndist, size=init_data.shape\n",
    "                    ).astype(np.float32)\n",
    "                else:\n",
    "                    embedding = init_data\n",
    "\n",
    "        return embedding"
   ]
  },
  {
   "cell_type": "code",
   "execution_count": 19,
   "metadata": {
    "ExecuteTime": {
     "end_time": "2020-08-14T06:28:09.514302Z",
     "start_time": "2020-08-14T06:28:06.807560Z"
    }
   },
   "outputs": [],
   "source": [
    "embedding_init = init_embedding_from_graph(X_train, graph, n_components, random_state, metric, _metric_kwds, init=\"spectral\")"
   ]
  },
  {
   "cell_type": "code",
   "execution_count": 20,
   "metadata": {
    "ExecuteTime": {
     "end_time": "2020-08-14T06:28:10.721474Z",
     "start_time": "2020-08-14T06:28:09.515531Z"
    }
   },
   "outputs": [
    {
     "data": {
      "text/plain": [
       "<matplotlib.collections.PathCollection at 0x7fa3b500d320>"
      ]
     },
     "execution_count": 20,
     "metadata": {},
     "output_type": "execute_result"
    },
    {
     "data": {
      "image/png": "[encoded data removed]",
      "text/plain": [
       "<Figure size 432x288 with 1 Axes>"
      ]
     },
     "metadata": {
      "needs_background": "light"
     },
     "output_type": "display_data"
    }
   ],
   "source": [
    "plt.scatter(embedding_init[:,0], embedding_init[:,1], c=Y_train, s=1, cmap=plt.cm.tab10)"
   ]
  },
  {
   "cell_type": "markdown",
   "metadata": {},
   "source": [
    "#### Build network"
   ]
  },
  {
   "cell_type": "code",
   "execution_count": 21,
   "metadata": {
    "ExecuteTime": {
     "end_time": "2020-08-14T06:28:10.767207Z",
     "start_time": "2020-08-14T06:28:10.722823Z"
    }
   },
   "outputs": [],
   "source": [
    "def umap_loss(batch_size, negative_sample_rate, _a, _b, repulsion_strength = 1.0):\n",
    "    @tf.function\n",
    "    def loss(placeholder_y, embed_to_from):\n",
    "        # split out to/from\n",
    "        embedding_to, embedding_from = tf.split(embed_to_from, num_or_size_splits=2, axis=1)\n",
    "\n",
    "        # get negative samples\n",
    "        embedding_neg_to = tf.repeat(embedding_to, negative_sample_rate, axis=0)\n",
    "        repeat_neg = tf.repeat(embedding_from, negative_sample_rate, axis=0)\n",
    "        embedding_neg_from = tf.gather(\n",
    "            repeat_neg, tf.random.shuffle(tf.range(tf.shape(repeat_neg)[0]))\n",
    "        )\n",
    "\n",
    "        #  distances between samples (and negative samples)\n",
    "        distance_embedding = tf.concat(\n",
    "            [\n",
    "                tf.norm(embedding_to - embedding_from, axis=1),\n",
    "                tf.norm(embedding_neg_to - embedding_neg_from, axis=1),\n",
    "            ],\n",
    "            axis=0,\n",
    "        )\n",
    "\n",
    "        # convert probabilities to distances\n",
    "        probabilities_distance = convert_distance_to_probability(\n",
    "            distance_embedding, _a, _b\n",
    "        )\n",
    "        \n",
    "        # set true probabilities based on negative sampling\n",
    "        probabilities_graph = tf.concat(\n",
    "            [tf.ones(batch_size), tf.zeros(batch_size * negative_sample_rate)],\n",
    "            axis=0,\n",
    "        )\n",
    "                \n",
    "        # compute cross entropy\n",
    "        if True:\n",
    "            (attraction_loss, repellant_loss, ce_loss) = compute_cross_entropy(\n",
    "                probabilities_graph,\n",
    "                probabilities_distance,\n",
    "                repulsion_strength=repulsion_strength,\n",
    "            )\n",
    "        else:\n",
    "            ce_loss = tf.keras.losses.binary_crossentropy(probabilities_graph, probabilities_distance)\n",
    "        #ce_loss = ce_loss * alpha\n",
    "        #return tf.reduce_mean(ce_loss)\n",
    "        return ce_loss\n",
    "\n",
    "    return loss"
   ]
  },
  {
   "cell_type": "code",
   "execution_count": 39,
   "metadata": {
    "ExecuteTime": {
     "end_time": "2020-08-14T06:29:18.429724Z",
     "start_time": "2020-08-14T06:29:18.388801Z"
    }
   },
   "outputs": [],
   "source": [
    "def make_gen_callable(n_edges, batch_size):\n",
    "    def edge_generator():\n",
    "        while True:\n",
    "            yield tf.zeros(1, dtype=tf.int32), tf.zeros(1, dtype=tf.int32)\n",
    "\n",
    "    return edge_generator"
   ]
  },
  {
   "cell_type": "code",
   "execution_count": 40,
   "metadata": {
    "ExecuteTime": {
     "end_time": "2020-08-14T06:29:18.575847Z",
     "start_time": "2020-08-14T06:29:18.537453Z"
    }
   },
   "outputs": [
    {
     "data": {
      "text/plain": [
       "1029634"
      ]
     },
     "execution_count": 40,
     "metadata": {},
     "output_type": "execute_result"
    }
   ],
   "source": [
    "n_edges = len(head)\n",
    "n_edges"
   ]
  },
  {
   "cell_type": "code",
   "execution_count": 41,
   "metadata": {
    "ExecuteTime": {
     "end_time": "2020-08-14T06:29:18.709543Z",
     "start_time": "2020-08-14T06:29:18.670998Z"
    }
   },
   "outputs": [],
   "source": [
    "gen = make_gen_callable(n_edges, batch_size)"
   ]
  },
  {
   "cell_type": "code",
   "execution_count": 42,
   "metadata": {
    "ExecuteTime": {
     "end_time": "2020-08-14T06:29:19.048618Z",
     "start_time": "2020-08-14T06:29:18.994911Z"
    }
   },
   "outputs": [],
   "source": [
    "edge_iter = tf.data.Dataset.from_generator(gen, (tf.float32, tf.int32))"
   ]
  },
  {
   "cell_type": "markdown",
   "metadata": {},
   "source": [
    "### initialize embedding"
   ]
  },
  {
   "cell_type": "code",
   "execution_count": 123,
   "metadata": {
    "ExecuteTime": {
     "end_time": "2020-08-14T06:36:44.882276Z",
     "start_time": "2020-08-14T06:36:44.839686Z"
    }
   },
   "outputs": [],
   "source": [
    "from tensorflow.keras.layers import Input"
   ]
  },
  {
   "cell_type": "code",
   "execution_count": 124,
   "metadata": {
    "ExecuteTime": {
     "end_time": "2020-08-14T06:36:45.030123Z",
     "start_time": "2020-08-14T06:36:44.978892Z"
    }
   },
   "outputs": [],
   "source": [
    "n_data = len(X_train)\n",
    "embedding_layer = tf.keras.layers.Embedding(n_data, n_components, input_length=1)\n",
    "embedding_layer.build(input_shape=(1,)) # the input_shape here has no effect in the build function\n",
    "embedding_layer.set_weights([embedding_init])\n",
    "encoder = tf.keras.Sequential([embedding_layer])"
   ]
  },
  {
   "cell_type": "code",
   "execution_count": 125,
   "metadata": {
    "ExecuteTime": {
     "end_time": "2020-08-14T06:36:45.154378Z",
     "start_time": "2020-08-14T06:36:45.111506Z"
    }
   },
   "outputs": [
    {
     "data": {
      "text/plain": [
       "7709332"
      ]
     },
     "execution_count": 125,
     "metadata": {},
     "output_type": "execute_result"
    }
   ],
   "source": [
    "len(edges_to_exp)"
   ]
  },
  {
   "cell_type": "code",
   "execution_count": 126,
   "metadata": {
    "ExecuteTime": {
     "end_time": "2020-08-14T06:36:45.282859Z",
     "start_time": "2020-08-14T06:36:45.243268Z"
    }
   },
   "outputs": [],
   "source": [
    "batch_size = len(head)"
   ]
  },
  {
   "cell_type": "code",
   "execution_count": 127,
   "metadata": {
    "ExecuteTime": {
     "end_time": "2020-08-14T06:36:45.411983Z",
     "start_time": "2020-08-14T06:36:45.375766Z"
    }
   },
   "outputs": [],
   "source": [
    "to_ = tf.constant(tf.expand_dims(head,0))\n",
    "from_ = tf.constant(tf.expand_dims(tail, 0))"
   ]
  },
  {
   "cell_type": "code",
   "execution_count": 128,
   "metadata": {
    "ExecuteTime": {
     "end_time": "2020-08-14T06:36:45.566153Z",
     "start_time": "2020-08-14T06:36:45.519050Z"
    }
   },
   "outputs": [
    {
     "data": {
      "text/plain": [
       "TensorShape([1, 1029634])"
      ]
     },
     "execution_count": 128,
     "metadata": {},
     "output_type": "execute_result"
    }
   ],
   "source": [
    "to_.shape"
   ]
  },
  {
   "cell_type": "code",
   "execution_count": 129,
   "metadata": {
    "ExecuteTime": {
     "end_time": "2020-08-14T06:36:45.770253Z",
     "start_time": "2020-08-14T06:36:45.667145Z"
    }
   },
   "outputs": [],
   "source": [
    "batch_sample = Input(shape=(1), dtype=tf.float32, name = \"to_x\")\n",
    "\n",
    "to_x = tf.squeeze(tf.gather(to_, tf.cast(batch_sample, tf.int32)[0]))\n",
    "from_x = tf.squeeze(tf.gather(from_, tf.cast(batch_sample, tf.int32)[0]))\n",
    "\n",
    "#to_x = to_\n",
    "#from_x = from_\n",
    "\n",
    "embedding_to = encoder(to_x)[:,-1,:]\n",
    "embedding_from = encoder(from_x)[:,-1,:]\n",
    "\n",
    "embedding_to_from = tf.keras.layers.concatenate([embedding_to, embedding_from],axis=1)\n",
    "embedding_to_from = tf.keras.layers.Lambda(lambda x: x, name='umap')(embedding_to_from)\n",
    "\n",
    "model = tf.keras.Model(\n",
    "    inputs=[batch_sample],\n",
    "    outputs=[embedding_to_from],#[embedding_to_from],\n",
    ")"
   ]
  },
  {
   "cell_type": "code",
   "execution_count": 130,
   "metadata": {
    "ExecuteTime": {
     "end_time": "2020-08-14T06:36:45.889332Z",
     "start_time": "2020-08-14T06:36:45.845125Z"
    }
   },
   "outputs": [
    {
     "data": {
      "text/plain": [
       "<tf.Tensor 'umap/umap_8/Identity:0' shape=(1029634, 4) dtype=float32>"
      ]
     },
     "execution_count": 130,
     "metadata": {},
     "output_type": "execute_result"
    }
   ],
   "source": [
    "embedding_to_from"
   ]
  },
  {
   "cell_type": "code",
   "execution_count": 132,
   "metadata": {
    "ExecuteTime": {
     "end_time": "2020-08-14T06:36:46.174018Z",
     "start_time": "2020-08-14T06:36:46.131305Z"
    }
   },
   "outputs": [],
   "source": [
    "model.compile(\n",
    "    optimizer=tf.keras.optimizers.Adam(0.1),\n",
    "    loss=umap_loss(batch_size, negative_sample_rate, _a, _b),\n",
    ")"
   ]
  },
  {
   "cell_type": "markdown",
   "metadata": {},
   "source": [
    "#### train"
   ]
  },
  {
   "cell_type": "code",
   "execution_count": null,
   "metadata": {
    "ExecuteTime": {
     "start_time": "2020-08-14T06:38:15.031Z"
    }
   },
   "outputs": [
    {
     "name": "stdout",
     "output_type": "stream",
     "text": [
      "Epoch 1/5\n",
      "    459/Unknown - 66s 144ms/step - loss: 0.1162"
     ]
    }
   ],
   "source": [
    "history = model.fit(\n",
    "    edge_iter,\n",
    "    epochs=5,\n",
    "    max_queue_size = 5,\n",
    "    #use_multiprocessing=True, \n",
    "    #workers = -1,\n",
    ")"
   ]
  },
  {
   "cell_type": "code",
   "execution_count": 134,
   "metadata": {
    "ExecuteTime": {
     "end_time": "2020-08-14T06:38:07.947075Z",
     "start_time": "2020-08-14T06:38:07.216922Z"
    }
   },
   "outputs": [],
   "source": [
    "z = encoder.weights[0].numpy()"
   ]
  },
  {
   "cell_type": "code",
   "execution_count": 135,
   "metadata": {
    "ExecuteTime": {
     "end_time": "2020-08-14T06:38:09.219340Z",
     "start_time": "2020-08-14T06:38:07.949184Z"
    }
   },
   "outputs": [
    {
     "data": {
      "image/png": "[encoded data removed]",
      "text/plain": [
       "<Figure size 576x576 with 2 Axes>"
      ]
     },
     "metadata": {
      "needs_background": "light"
     },
     "output_type": "display_data"
    }
   ],
   "source": [
    "fig, ax = plt.subplots( figsize=(8, 8))\n",
    "sc = ax.scatter(\n",
    "    z[:, 0],\n",
    "    z[:, 1],\n",
    "    c=Y_train.astype(int)[:len(z)],\n",
    "    cmap=\"tab10\",\n",
    "    s=0.1,\n",
    "    alpha=0.5,\n",
    "    rasterized=True,\n",
    ")\n",
    "ax.axis('equal')\n",
    "ax.set_title(\"UMAP in Tensorflow embedding\", fontsize=20)\n",
    "plt.colorbar(sc, ax=ax);"
   ]
  }
 ],
 "metadata": {
  "kernelspec": {
   "display_name": "Python 3",
   "language": "python",
   "name": "python3"
  },
  "language_info": {
   "codemirror_mode": {
    "name": "ipython",
    "version": 3
   },
   "file_extension": ".py",
   "mimetype": "text/x-python",
   "name": "python",
   "nbconvert_exporter": "python",
   "pygments_lexer": "ipython3",
   "version": "3.6.7"
  }
 },
 "nbformat": 4,
 "nbformat_minor": 2
}
