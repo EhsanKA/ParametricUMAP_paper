{
 "cells": [
  {
   "cell_type": "code",
   "execution_count": 1,
   "metadata": {
    "ExecuteTime": {
     "end_time": "2020-08-13T06:07:06.334924Z",
     "start_time": "2020-08-13T06:07:06.323305Z"
    }
   },
   "outputs": [],
   "source": [
    "# reload packages\n",
    "%load_ext autoreload\n",
    "%autoreload 2"
   ]
  },
  {
   "cell_type": "markdown",
   "metadata": {},
   "source": [
    "### Choose GPU"
   ]
  },
  {
   "cell_type": "code",
   "execution_count": 2,
   "metadata": {
    "ExecuteTime": {
     "end_time": "2020-08-13T06:07:06.345219Z",
     "start_time": "2020-08-13T06:07:06.336109Z"
    }
   },
   "outputs": [
    {
     "name": "stdout",
     "output_type": "stream",
     "text": [
      "env: CUDA_DEVICE_ORDER=PCI_BUS_ID\n",
      "env: CUDA_VISIBLE_DEVICES=1\n"
     ]
    }
   ],
   "source": [
    "%env CUDA_DEVICE_ORDER=PCI_BUS_ID\n",
    "%env CUDA_VISIBLE_DEVICES=1"
   ]
  },
  {
   "cell_type": "code",
   "execution_count": 3,
   "metadata": {
    "ExecuteTime": {
     "end_time": "2020-08-13T06:07:10.254458Z",
     "start_time": "2020-08-13T06:07:06.346217Z"
    }
   },
   "outputs": [
    {
     "name": "stdout",
     "output_type": "stream",
     "text": [
      "[PhysicalDevice(name='/physical_device:GPU:0', device_type='GPU')]\n"
     ]
    }
   ],
   "source": [
    "import tensorflow as tf\n",
    "gpu_devices = tf.config.experimental.list_physical_devices('GPU')\n",
    "if len(gpu_devices)>0:\n",
    "    tf.config.experimental.set_memory_growth(gpu_devices[0], True)\n",
    "print(gpu_devices)\n",
    "tf.keras.backend.clear_session()"
   ]
  },
  {
   "cell_type": "code",
   "execution_count": 4,
   "metadata": {
    "ExecuteTime": {
     "end_time": "2020-08-13T06:07:10.282014Z",
     "start_time": "2020-08-13T06:07:10.256569Z"
    }
   },
   "outputs": [],
   "source": [
    "labels_per_class = 'full' # full"
   ]
  },
  {
   "cell_type": "markdown",
   "metadata": {},
   "source": [
    "### Load packages"
   ]
  },
  {
   "cell_type": "code",
   "execution_count": 5,
   "metadata": {
    "ExecuteTime": {
     "end_time": "2020-08-13T06:07:14.935725Z",
     "start_time": "2020-08-13T06:07:10.283569Z"
    }
   },
   "outputs": [
    {
     "name": "stderr",
     "output_type": "stream",
     "text": [
      "/mnt/cube/tsainbur/conda_envs/tpy3/lib/python3.6/site-packages/tqdm/autonotebook/__init__.py:14: TqdmExperimentalWarning: Using `tqdm.autonotebook.tqdm` in notebook mode. Use `tqdm.tqdm` instead to force console mode (e.g. in jupyter console)\n",
      "  \" (e.g. in jupyter console)\", TqdmExperimentalWarning)\n"
     ]
    }
   ],
   "source": [
    "import tensorflow as tf\n",
    "import numpy as np\n",
    "import matplotlib.pyplot as plt\n",
    "from tqdm.autonotebook import tqdm\n",
    "from IPython import display\n",
    "import pandas as pd\n",
    "import umap\n",
    "import copy\n",
    "import os, tempfile"
   ]
  },
  {
   "cell_type": "markdown",
   "metadata": {},
   "source": [
    "### Load dataset"
   ]
  },
  {
   "cell_type": "code",
   "execution_count": 6,
   "metadata": {
    "ExecuteTime": {
     "end_time": "2020-08-13T06:07:15.381413Z",
     "start_time": "2020-08-13T06:07:14.937326Z"
    }
   },
   "outputs": [
    {
     "data": {
      "text/plain": [
       "(50000, 28, 28, 1)"
      ]
     },
     "execution_count": 6,
     "metadata": {},
     "output_type": "execute_result"
    }
   ],
   "source": [
    "from tfumap.load_datasets import load_MNIST, mask_labels\n",
    "X_train, X_test, X_valid, Y_train, Y_test, Y_valid = load_MNIST(flatten=False)\n",
    "X_train.shape"
   ]
  },
  {
   "cell_type": "code",
   "execution_count": 7,
   "metadata": {
    "ExecuteTime": {
     "end_time": "2020-08-13T06:07:15.421210Z",
     "start_time": "2020-08-13T06:07:15.382714Z"
    }
   },
   "outputs": [],
   "source": [
    "if labels_per_class == \"full\":\n",
    "    X_labeled = X_train\n",
    "    Y_masked = Y_labeled = Y_train\n",
    "else:\n",
    "    X_labeled, Y_labeled, Y_masked = mask_labels(\n",
    "        X_train, Y_train, labels_per_class=labels_per_class\n",
    "    )"
   ]
  },
  {
   "cell_type": "markdown",
   "metadata": {},
   "source": [
    "### Network architecture"
   ]
  },
  {
   "cell_type": "code",
   "execution_count": 8,
   "metadata": {
    "ExecuteTime": {
     "end_time": "2020-08-13T06:07:15.461074Z",
     "start_time": "2020-08-13T06:07:15.422501Z"
    }
   },
   "outputs": [],
   "source": [
    "dims = (28,28,1)\n",
    "n_components= 2"
   ]
  },
  {
   "cell_type": "markdown",
   "metadata": {},
   "source": [
    "### Test model with just UMAP"
   ]
  },
  {
   "cell_type": "code",
   "execution_count": 9,
   "metadata": {
    "ExecuteTime": {
     "end_time": "2020-08-13T06:07:15.511608Z",
     "start_time": "2020-08-13T06:07:15.462501Z"
    }
   },
   "outputs": [],
   "source": [
    "from tfumap.semisupervised import find_a_b\n",
    "from tfumap.umap import convert_distance_to_probability"
   ]
  },
  {
   "cell_type": "code",
   "execution_count": 10,
   "metadata": {
    "ExecuteTime": {
     "end_time": "2020-08-13T06:07:16.140706Z",
     "start_time": "2020-08-13T06:07:15.512833Z"
    }
   },
   "outputs": [
    {
     "data": {
      "text/plain": [
       "(<tf.Tensor: shape=(), dtype=float32, numpy=1.9290735>,\n",
       " <tf.Tensor: shape=(), dtype=float32, numpy=0.79150456>)"
      ]
     },
     "execution_count": 10,
     "metadata": {},
     "output_type": "execute_result"
    }
   ],
   "source": [
    "min_dist = 0.001\n",
    "_a, _b = find_a_b(min_dist)\n",
    "_a, _b "
   ]
  },
  {
   "cell_type": "markdown",
   "metadata": {},
   "source": [
    "##### build iterator"
   ]
  },
  {
   "cell_type": "code",
   "execution_count": 11,
   "metadata": {
    "ExecuteTime": {
     "end_time": "2020-08-13T06:07:16.182152Z",
     "start_time": "2020-08-13T06:07:16.142760Z"
    }
   },
   "outputs": [],
   "source": [
    "from tfumap.semisupervised import build_fuzzy_simplicial_set\n",
    "from tfumap.umap import compute_cross_entropy, get_graph_elements"
   ]
  },
  {
   "cell_type": "code",
   "execution_count": 12,
   "metadata": {
    "ExecuteTime": {
     "end_time": "2020-08-13T06:07:35.416770Z",
     "start_time": "2020-08-13T06:07:16.183415Z"
    }
   },
   "outputs": [],
   "source": [
    "n_neighbors = 15  # default = 15\n",
    "umap_graph = build_fuzzy_simplicial_set(\n",
    "    X_train.reshape((len(X_train), np.product(np.shape(X_train)[1:]))),\n",
    "    #y=Y_masked,\n",
    "    n_neighbors=n_neighbors,\n",
    ")"
   ]
  },
  {
   "cell_type": "code",
   "execution_count": 13,
   "metadata": {
    "ExecuteTime": {
     "end_time": "2020-08-13T06:07:35.461496Z",
     "start_time": "2020-08-13T06:07:35.418396Z"
    }
   },
   "outputs": [
    {
     "data": {
      "text/plain": [
       "1030676"
      ]
     },
     "execution_count": 13,
     "metadata": {},
     "output_type": "execute_result"
    }
   ],
   "source": [
    "umap_graph.nnz"
   ]
  },
  {
   "cell_type": "code",
   "execution_count": 14,
   "metadata": {
    "ExecuteTime": {
     "end_time": "2020-08-13T06:07:35.634568Z",
     "start_time": "2020-08-13T06:07:35.462899Z"
    }
   },
   "outputs": [],
   "source": [
    "n_epochs = 200\n",
    "graph, epochs_per_sample, head, tail, weight, n_vertices = get_graph_elements(\n",
    "            umap_graph, n_epochs\n",
    ")"
   ]
  },
  {
   "cell_type": "markdown",
   "metadata": {},
   "source": [
    "### initialize embedding"
   ]
  },
  {
   "cell_type": "code",
   "execution_count": 15,
   "metadata": {
    "ExecuteTime": {
     "end_time": "2020-08-13T06:07:35.680689Z",
     "start_time": "2020-08-13T06:07:35.637682Z"
    }
   },
   "outputs": [],
   "source": [
    "from umap.spectral import spectral_layout\n",
    "\n",
    "from sklearn.utils import check_random_state\n",
    "\n",
    "random_state = check_random_state(None)\n",
    "metric = \"euclidean\"\n",
    "_metric_kwds = {}\n",
    "def init_embedding_from_graph(_raw_data, graph, n_components, random_state, metric, _metric_kwds, init=\"spectral\"):\n",
    "        \"\"\" Initialize embedding using graph. This is for direct embeddings. \n",
    "\n",
    "        Parameters\n",
    "        ----------\n",
    "        init : str, optional\n",
    "            Type of initialization to use. Either random, or spectral, by default \"spectral\"\n",
    "\n",
    "        Returns\n",
    "        -------\n",
    "        embedding : np.array\n",
    "            the initialized embedding\n",
    "        \"\"\"\n",
    "        if isinstance(init, str) and init == \"random\":\n",
    "            embedding = random_state.uniform(\n",
    "                low=-10.0, high=10.0, size=(graph.shape[0], n_components)\n",
    "            ).astype(np.float32)\n",
    "        elif isinstance(init, str) and init == \"spectral\":\n",
    "            # We add a little noise to avoid local minima for optimization to come\n",
    "\n",
    "            initialisation = spectral_layout(\n",
    "                _raw_data,\n",
    "                graph,\n",
    "                n_components,\n",
    "                random_state,\n",
    "                metric=metric,\n",
    "                metric_kwds=_metric_kwds,\n",
    "            )\n",
    "            expansion = 10.0 / np.abs(initialisation).max()\n",
    "            embedding = (initialisation * expansion).astype(\n",
    "                np.float32\n",
    "            ) + random_state.normal(\n",
    "                scale=0.0001, size=[graph.shape[0], n_components]\n",
    "            ).astype(\n",
    "                np.float32\n",
    "            )\n",
    "\n",
    "        else:\n",
    "            init_data = np.array(init)\n",
    "            if len(init_data.shape) == 2:\n",
    "                if np.unique(init_data, axis=0).shape[0] < init_data.shape[0]:\n",
    "                    tree = KDTree(init_data)\n",
    "                    dist, ind = tree.query(init_data, k=2)\n",
    "                    nndist = np.mean(dist[:, 1])\n",
    "                    embedding = init_data + random_state.normal(\n",
    "                        scale=0.001 * nndist, size=init_data.shape\n",
    "                    ).astype(np.float32)\n",
    "                else:\n",
    "                    embedding = init_data\n",
    "\n",
    "        return embedding"
   ]
  },
  {
   "cell_type": "code",
   "execution_count": 16,
   "metadata": {
    "ExecuteTime": {
     "end_time": "2020-08-13T06:07:39.369870Z",
     "start_time": "2020-08-13T06:07:35.682350Z"
    }
   },
   "outputs": [],
   "source": [
    "embedding = init_embedding_from_graph(X_train, graph, n_components, random_state, metric, _metric_kwds, init=\"spectral\")"
   ]
  },
  {
   "cell_type": "code",
   "execution_count": 17,
   "metadata": {
    "ExecuteTime": {
     "end_time": "2020-08-13T06:07:40.588549Z",
     "start_time": "2020-08-13T06:07:39.371445Z"
    }
   },
   "outputs": [
    {
     "data": {
      "text/plain": [
       "<matplotlib.collections.PathCollection at 0x7f80844102b0>"
      ]
     },
     "execution_count": 17,
     "metadata": {},
     "output_type": "execute_result"
    },
    {
     "data": {
      "image/png": "[encoded data removed]",
      "text/plain": [
       "<Figure size 432x288 with 1 Axes>"
      ]
     },
     "metadata": {
      "needs_background": "light"
     },
     "output_type": "display_data"
    }
   ],
   "source": [
    "plt.scatter(embedding[:,0], embedding[:,1], c=Y_train, s=1, cmap=plt.cm.tab10)"
   ]
  },
  {
   "cell_type": "markdown",
   "metadata": {},
   "source": [
    "### make iterator"
   ]
  },
  {
   "cell_type": "code",
   "execution_count": 90,
   "metadata": {
    "ExecuteTime": {
     "end_time": "2020-08-13T06:14:10.625418Z",
     "start_time": "2020-08-13T06:14:10.581931Z"
    }
   },
   "outputs": [],
   "source": [
    "batch_size =  60000"
   ]
  },
  {
   "cell_type": "code",
   "execution_count": 91,
   "metadata": {
    "ExecuteTime": {
     "end_time": "2020-08-13T06:14:11.405063Z",
     "start_time": "2020-08-13T06:14:11.358793Z"
    }
   },
   "outputs": [],
   "source": [
    "max_sample_repeats_per_epoch = 25\n",
    "# set the maximum number of times each edge should be repeated per epoch\n",
    "epochs_per_sample = np.clip(\n",
    "    (weight / np.max(weight)) * max_sample_repeats_per_epoch,\n",
    "    1,\n",
    "    max_sample_repeats_per_epoch,\n",
    ").astype(\"int\")"
   ]
  },
  {
   "cell_type": "code",
   "execution_count": 92,
   "metadata": {
    "ExecuteTime": {
     "end_time": "2020-08-13T06:14:11.648014Z",
     "start_time": "2020-08-13T06:14:11.526799Z"
    }
   },
   "outputs": [],
   "source": [
    "edges_to_exp, edges_from_exp = (\n",
    "        np.repeat(head, epochs_per_sample.astype(\"int\")),\n",
    "       np.repeat(tail, epochs_per_sample.astype(\"int\")),\n",
    ")"
   ]
  },
  {
   "cell_type": "code",
   "execution_count": 93,
   "metadata": {
    "ExecuteTime": {
     "end_time": "2020-08-13T06:14:11.692563Z",
     "start_time": "2020-08-13T06:14:11.651860Z"
    }
   },
   "outputs": [],
   "source": [
    "negative_sample_rate = 5"
   ]
  },
  {
   "cell_type": "code",
   "execution_count": 94,
   "metadata": {
    "ExecuteTime": {
     "end_time": "2020-08-13T06:14:11.846413Z",
     "start_time": "2020-08-13T06:14:11.807520Z"
    }
   },
   "outputs": [],
   "source": [
    "def make_gen_callable(n_edges, batch_size):\n",
    "    def edge_generator():\n",
    "        while True:\n",
    "            yield tf.random.uniform(\n",
    "                (batch_size, 1), minval=0, maxval=n_edges, dtype=tf.int32\n",
    "            ), tf.zeros(1, dtype=tf.int32)\n",
    "\n",
    "    return edge_generator"
   ]
  },
  {
   "cell_type": "code",
   "execution_count": 95,
   "metadata": {
    "ExecuteTime": {
     "end_time": "2020-08-13T06:14:11.965843Z",
     "start_time": "2020-08-13T06:14:11.932928Z"
    }
   },
   "outputs": [],
   "source": [
    "gen = make_gen_callable(len(edges_to_exp), batch_size)"
   ]
  },
  {
   "cell_type": "code",
   "execution_count": 96,
   "metadata": {
    "ExecuteTime": {
     "end_time": "2020-08-13T06:14:12.113777Z",
     "start_time": "2020-08-13T06:14:12.077112Z"
    }
   },
   "outputs": [
    {
     "data": {
      "text/plain": [
       "7709136"
      ]
     },
     "execution_count": 96,
     "metadata": {},
     "output_type": "execute_result"
    }
   ],
   "source": [
    "n_edges = len(edges_to_exp)\n",
    "n_edges"
   ]
  },
  {
   "cell_type": "code",
   "execution_count": 97,
   "metadata": {
    "ExecuteTime": {
     "end_time": "2020-08-13T06:14:12.272471Z",
     "start_time": "2020-08-13T06:14:12.222696Z"
    }
   },
   "outputs": [],
   "source": [
    "edge_iter = tf.data.Dataset.from_generator(gen, (tf.int32, tf.int32))\n",
    "#edge_iter = edge_iter.prefetch(200)"
   ]
  },
  {
   "cell_type": "code",
   "execution_count": 98,
   "metadata": {
    "ExecuteTime": {
     "end_time": "2020-08-13T06:14:12.421745Z",
     "start_time": "2020-08-13T06:14:12.365456Z"
    }
   },
   "outputs": [],
   "source": [
    "a,c = next(iter(edge_iter))"
   ]
  },
  {
   "cell_type": "code",
   "execution_count": 99,
   "metadata": {
    "ExecuteTime": {
     "end_time": "2020-08-13T06:14:13.224528Z",
     "start_time": "2020-08-13T06:14:12.520695Z"
    }
   },
   "outputs": [
    {
     "data": {
      "application/vnd.jupyter.widget-view+json": {
       "model_id": "b2d12ac71ca14d6bbe942d72e8d97eac",
       "version_major": 2,
       "version_minor": 0
      },
      "text/plain": [
       "HBox(children=(IntProgress(value=1, bar_style='info', max=1), HTML(value='')))"
      ]
     },
     "metadata": {},
     "output_type": "display_data"
    },
    {
     "name": "stdout",
     "output_type": "stream",
     "text": [
      "\n"
     ]
    }
   ],
   "source": [
    "for i in tqdm(zip(range(1000), edge_iter)):\n",
    "    continue"
   ]
  },
  {
   "cell_type": "markdown",
   "metadata": {},
   "source": [
    "#### Build network"
   ]
  },
  {
   "cell_type": "code",
   "execution_count": 100,
   "metadata": {
    "ExecuteTime": {
     "end_time": "2020-08-13T06:14:13.271384Z",
     "start_time": "2020-08-13T06:14:13.226591Z"
    }
   },
   "outputs": [],
   "source": [
    "def umap_loss(batch_size, negative_sample_rate, _a, _b, repulsion_strength = 1.0):\n",
    "    @tf.function\n",
    "    def loss(placeholder_y, embed_to_from):\n",
    "        # split out to/from\n",
    "        embedding_to, embedding_from = tf.split(embed_to_from, num_or_size_splits=2, axis=1)\n",
    "\n",
    "        # get negative samples\n",
    "        embedding_neg_to = tf.repeat(embedding_to, negative_sample_rate, axis=0)\n",
    "        repeat_neg = tf.repeat(embedding_from, negative_sample_rate, axis=0)\n",
    "        embedding_neg_from = tf.gather(\n",
    "            repeat_neg, tf.random.shuffle(tf.range(tf.shape(repeat_neg)[0]))\n",
    "        )\n",
    "\n",
    "        #  distances between samples (and negative samples)\n",
    "        distance_embedding = tf.concat(\n",
    "            [\n",
    "                tf.norm(embedding_to - embedding_from, axis=1),\n",
    "                tf.norm(embedding_neg_to - embedding_neg_from, axis=1),\n",
    "            ],\n",
    "            axis=0,\n",
    "        )\n",
    "\n",
    "        # convert probabilities to distances\n",
    "        probabilities_distance = convert_distance_to_probability(\n",
    "            distance_embedding, _a, _b\n",
    "        )\n",
    "        \n",
    "        # set true probabilities based on negative sampling\n",
    "        probabilities_graph = tf.concat(\n",
    "            [tf.ones(batch_size), tf.zeros(batch_size * negative_sample_rate)],\n",
    "            axis=0,\n",
    "        )\n",
    "                \n",
    "        # compute cross entropy\n",
    "        (attraction_loss, repellant_loss, ce_loss) = compute_cross_entropy(\n",
    "            probabilities_graph,\n",
    "            probabilities_distance,\n",
    "            repulsion_strength=repulsion_strength,\n",
    "        )\n",
    "        return tf.reduce_mean(ce_loss)\n",
    "\n",
    "    return loss"
   ]
  },
  {
   "cell_type": "code",
   "execution_count": 116,
   "metadata": {
    "ExecuteTime": {
     "end_time": "2020-08-13T06:18:34.337233Z",
     "start_time": "2020-08-13T06:18:33.699256Z"
    }
   },
   "outputs": [],
   "source": [
    "opt = tf.keras.optimizers.Adadelta(learning_rate=50)#, clipvalue = 4)\n",
    "#opt = tf.keras.optimizers.Adam(learning_rate=0.1)#, clipvalue = 4)"
   ]
  },
  {
   "cell_type": "code",
   "execution_count": 117,
   "metadata": {
    "ExecuteTime": {
     "end_time": "2020-08-13T06:18:34.736683Z",
     "start_time": "2020-08-13T06:18:34.691358Z"
    }
   },
   "outputs": [],
   "source": [
    "from tensorflow.keras.layers import Input"
   ]
  },
  {
   "cell_type": "code",
   "execution_count": 118,
   "metadata": {
    "ExecuteTime": {
     "end_time": "2020-08-13T06:18:34.921693Z",
     "start_time": "2020-08-13T06:18:34.867020Z"
    }
   },
   "outputs": [],
   "source": [
    "n_data = len(X_train)\n",
    "embedding_layer = tf.keras.layers.Embedding(n_data, n_components, input_length=1)\n",
    "embedding_layer.build(input_shape=(1,)) # the input_shape here has no effect in the build function\n",
    "embedding_layer.set_weights([embedding])\n",
    "encoder = tf.keras.Sequential([\n",
    "    embedding_layer\n",
    "])"
   ]
  },
  {
   "cell_type": "code",
   "execution_count": 119,
   "metadata": {
    "ExecuteTime": {
     "end_time": "2020-08-13T06:18:35.081489Z",
     "start_time": "2020-08-13T06:18:35.025071Z"
    }
   },
   "outputs": [],
   "source": [
    "n_edges = tf.constant(len(edges_to_exp))\n",
    "to_ = tf.constant(edges_to_exp)\n",
    "from_ = tf.constant(edges_from_exp)"
   ]
  },
  {
   "cell_type": "code",
   "execution_count": 120,
   "metadata": {
    "ExecuteTime": {
     "end_time": "2020-08-13T06:18:35.263355Z",
     "start_time": "2020-08-13T06:18:35.175602Z"
    }
   },
   "outputs": [],
   "source": [
    "batch_sample = Input(shape=(1), dtype=tf.int32, name = \"to_x\")\n",
    "\n",
    "to_x = tf.gather(to_, batch_sample)\n",
    "from_x = tf.gather(from_, batch_sample)\n",
    "\n",
    "embedding_to = encoder(to_x)[:,-1,:]\n",
    "embedding_from = encoder(from_x)[:,-1,:]\n",
    "\n",
    "embedding_to_from = tf.keras.layers.concatenate([embedding_to, embedding_from],axis=1)\n",
    "embedding_to_from = tf.keras.layers.Lambda(lambda x: x, name='umap')(embedding_to_from)"
   ]
  },
  {
   "cell_type": "code",
   "execution_count": 121,
   "metadata": {
    "ExecuteTime": {
     "end_time": "2020-08-13T06:18:35.352668Z",
     "start_time": "2020-08-13T06:18:35.297359Z"
    }
   },
   "outputs": [
    {
     "data": {
      "text/plain": [
       "([<tf.Tensor 'to_x_7:0' shape=(None, 1) dtype=int32>],\n",
       " [<tf.Tensor 'umap/umap_7/Identity:0' shape=(None, 4) dtype=float32>])"
      ]
     },
     "execution_count": 121,
     "metadata": {},
     "output_type": "execute_result"
    }
   ],
   "source": [
    "model = tf.keras.Model(\n",
    "    inputs=[batch_sample],\n",
    "    outputs=[embedding_to_from],#[embedding_to_from],\n",
    ")\n",
    "model.compile(\n",
    "    optimizer=opt,\n",
    "    loss=umap_loss(batch_size, negative_sample_rate, _a, _b)\n",
    ")\n",
    "model.inputs, model.outputs"
   ]
  },
  {
   "cell_type": "code",
   "execution_count": null,
   "metadata": {
    "ExecuteTime": {
     "start_time": "2020-08-13T06:18:35.455Z"
    }
   },
   "outputs": [
    {
     "name": "stdout",
     "output_type": "stream",
     "text": [
      "Epoch 1/10\n",
      "1000/1000 [==============================] - 33s 33ms/step - loss: 0.2484\n",
      "Epoch 2/10\n",
      "1000/1000 [==============================] - 33s 33ms/step - loss: 0.2156\n",
      "Epoch 3/10\n",
      "1000/1000 [==============================] - 33s 33ms/step - loss: 0.1953\n",
      "Epoch 4/10\n",
      "1000/1000 [==============================] - 33s 33ms/step - loss: 0.1812\n",
      "Epoch 5/10\n",
      " 215/1000 [=====>........................] - ETA: 25s - loss: 0.1745"
     ]
    }
   ],
   "source": [
    "history = model.fit(\n",
    "    edge_iter,\n",
    "    epochs=10,    \n",
    "    steps_per_epoch=n_edges/batch_size,\n",
    "    max_queue_size = 20\n",
    ")"
   ]
  },
  {
   "cell_type": "code",
   "execution_count": 108,
   "metadata": {
    "ExecuteTime": {
     "end_time": "2020-08-13T06:16:46.087700Z",
     "start_time": "2020-08-13T06:16:44.224232Z"
    }
   },
   "outputs": [
    {
     "data": {
      "image/png": "[encoded data removed]",
      "text/plain": [
       "<Figure size 576x576 with 2 Axes>"
      ]
     },
     "metadata": {
      "needs_background": "light"
     },
     "output_type": "display_data"
    }
   ],
   "source": [
    "z = encoder(np.arange(len(X_train)))[:,-1,:]\n",
    "\n",
    "fig, ax = plt.subplots( figsize=(8, 8))\n",
    "sc = ax.scatter(\n",
    "    z[:, 0],\n",
    "    z[:, 1],\n",
    "    c=Y_train.astype(int)[:len(z)],\n",
    "    cmap=\"tab10\",\n",
    "    s=0.1,\n",
    "    alpha=0.5,\n",
    "    rasterized=True,\n",
    ")\n",
    "ax.axis('equal')\n",
    "ax.set_title(\"UMAP in Tensorflow embedding\", fontsize=20)\n",
    "plt.colorbar(sc, ax=ax);"
   ]
  },
  {
   "cell_type": "code",
   "execution_count": null,
   "metadata": {},
   "outputs": [],
   "source": []
  }
 ],
 "metadata": {
  "kernelspec": {
   "display_name": "Python 3",
   "language": "python",
   "name": "python3"
  },
  "language_info": {
   "codemirror_mode": {
    "name": "ipython",
    "version": 3
   },
   "file_extension": ".py",
   "mimetype": "text/x-python",
   "name": "python",
   "nbconvert_exporter": "python",
   "pygments_lexer": "ipython3",
   "version": "3.6.7"
  }
 },
 "nbformat": 4,
 "nbformat_minor": 2
}
