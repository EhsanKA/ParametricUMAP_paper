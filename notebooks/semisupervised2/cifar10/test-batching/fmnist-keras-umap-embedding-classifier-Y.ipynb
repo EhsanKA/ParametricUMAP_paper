{
 "cells": [
  {
   "cell_type": "code",
   "execution_count": 1,
   "metadata": {
    "ExecuteTime": {
     "end_time": "2020-08-10T23:06:56.654728Z",
     "start_time": "2020-08-10T23:06:56.640631Z"
    }
   },
   "outputs": [],
   "source": [
    "# reload packages\n",
    "%load_ext autoreload\n",
    "%autoreload 2"
   ]
  },
  {
   "cell_type": "markdown",
   "metadata": {},
   "source": [
    "### Choose GPU"
   ]
  },
  {
   "cell_type": "code",
   "execution_count": 2,
   "metadata": {
    "ExecuteTime": {
     "end_time": "2020-08-10T23:06:56.670156Z",
     "start_time": "2020-08-10T23:06:56.656172Z"
    }
   },
   "outputs": [
    {
     "name": "stdout",
     "output_type": "stream",
     "text": [
      "env: CUDA_DEVICE_ORDER=PCI_BUS_ID\n",
      "env: CUDA_VISIBLE_DEVICES=0\n"
     ]
    }
   ],
   "source": [
    "%env CUDA_DEVICE_ORDER=PCI_BUS_ID\n",
    "%env CUDA_VISIBLE_DEVICES=0"
   ]
  },
  {
   "cell_type": "code",
   "execution_count": 3,
   "metadata": {
    "ExecuteTime": {
     "end_time": "2020-08-10T23:06:59.586410Z",
     "start_time": "2020-08-10T23:06:56.671110Z"
    }
   },
   "outputs": [
    {
     "name": "stdout",
     "output_type": "stream",
     "text": [
      "[PhysicalDevice(name='/physical_device:GPU:0', device_type='GPU')]\n"
     ]
    }
   ],
   "source": [
    "import tensorflow as tf\n",
    "gpu_devices = tf.config.experimental.list_physical_devices('GPU')\n",
    "if len(gpu_devices)>0:\n",
    "    tf.config.experimental.set_memory_growth(gpu_devices[0], True)\n",
    "print(gpu_devices)\n",
    "tf.keras.backend.clear_session()"
   ]
  },
  {
   "cell_type": "code",
   "execution_count": 4,
   "metadata": {
    "ExecuteTime": {
     "end_time": "2020-08-10T23:06:59.615530Z",
     "start_time": "2020-08-10T23:06:59.587540Z"
    }
   },
   "outputs": [],
   "source": [
    "labels_per_class = 'full' # full"
   ]
  },
  {
   "cell_type": "markdown",
   "metadata": {},
   "source": [
    "### Load packages"
   ]
  },
  {
   "cell_type": "code",
   "execution_count": 5,
   "metadata": {
    "ExecuteTime": {
     "end_time": "2020-08-10T23:07:04.012859Z",
     "start_time": "2020-08-10T23:06:59.616695Z"
    }
   },
   "outputs": [
    {
     "name": "stderr",
     "output_type": "stream",
     "text": [
      "/mnt/cube/tsainbur/conda_envs/tpy3/lib/python3.6/site-packages/tqdm/autonotebook/__init__.py:14: TqdmExperimentalWarning: Using `tqdm.autonotebook.tqdm` in notebook mode. Use `tqdm.tqdm` instead to force console mode (e.g. in jupyter console)\n",
      "  \" (e.g. in jupyter console)\", TqdmExperimentalWarning)\n"
     ]
    }
   ],
   "source": [
    "import tensorflow as tf\n",
    "import numpy as np\n",
    "import matplotlib.pyplot as plt\n",
    "from tqdm.autonotebook import tqdm\n",
    "from IPython import display\n",
    "import pandas as pd\n",
    "import umap\n",
    "import copy\n",
    "import os, tempfile"
   ]
  },
  {
   "cell_type": "markdown",
   "metadata": {},
   "source": [
    "### Load dataset"
   ]
  },
  {
   "cell_type": "code",
   "execution_count": 6,
   "metadata": {
    "ExecuteTime": {
     "end_time": "2020-08-10T23:07:04.598434Z",
     "start_time": "2020-08-10T23:07:04.014542Z"
    }
   },
   "outputs": [
    {
     "data": {
      "text/plain": [
       "(50000, 28, 28, 1)"
      ]
     },
     "execution_count": 6,
     "metadata": {},
     "output_type": "execute_result"
    }
   ],
   "source": [
    "from tfumap.load_datasets import load_FMNIST, mask_labels\n",
    "X_train, X_test, X_valid, Y_train, Y_test, Y_valid = load_FMNIST(flatten=False)\n",
    "X_train.shape"
   ]
  },
  {
   "cell_type": "code",
   "execution_count": 7,
   "metadata": {
    "ExecuteTime": {
     "end_time": "2020-08-10T23:07:04.641165Z",
     "start_time": "2020-08-10T23:07:04.600326Z"
    }
   },
   "outputs": [],
   "source": [
    "if labels_per_class == \"full\":\n",
    "    X_labeled = X_train\n",
    "    Y_masked = Y_labeled = Y_train\n",
    "else:\n",
    "    X_labeled, Y_labeled, Y_masked = mask_labels(\n",
    "        X_train, Y_train, labels_per_class=labels_per_class\n",
    "    )"
   ]
  },
  {
   "cell_type": "code",
   "execution_count": 8,
   "metadata": {
    "ExecuteTime": {
     "end_time": "2020-08-10T23:07:04.677828Z",
     "start_time": "2020-08-10T23:07:04.642471Z"
    }
   },
   "outputs": [],
   "source": [
    "num_classes=10"
   ]
  },
  {
   "cell_type": "code",
   "execution_count": 9,
   "metadata": {
    "ExecuteTime": {
     "end_time": "2020-08-10T23:07:05.355118Z",
     "start_time": "2020-08-10T23:07:04.679054Z"
    }
   },
   "outputs": [],
   "source": [
    "Y_valid_one_hot = tf.keras.backend.one_hot(\n",
    "    Y_valid, num_classes\n",
    ")"
   ]
  },
  {
   "cell_type": "code",
   "execution_count": 10,
   "metadata": {
    "ExecuteTime": {
     "end_time": "2020-08-10T23:07:05.395597Z",
     "start_time": "2020-08-10T23:07:05.357367Z"
    }
   },
   "outputs": [],
   "source": [
    "Y_labeled_one_hot = tf.keras.backend.one_hot(\n",
    "    Y_labeled, num_classes\n",
    ")"
   ]
  },
  {
   "cell_type": "markdown",
   "metadata": {},
   "source": [
    "### Network architecture"
   ]
  },
  {
   "cell_type": "code",
   "execution_count": 11,
   "metadata": {
    "ExecuteTime": {
     "end_time": "2020-08-10T23:07:05.433058Z",
     "start_time": "2020-08-10T23:07:05.396756Z"
    }
   },
   "outputs": [],
   "source": [
    "dims = (28,28,1)\n",
    "n_components= 2\n"
   ]
  },
  {
   "cell_type": "code",
   "execution_count": 12,
   "metadata": {
    "ExecuteTime": {
     "end_time": "2020-08-10T23:07:05.512269Z",
     "start_time": "2020-08-10T23:07:05.434075Z"
    }
   },
   "outputs": [],
   "source": [
    "encoder = tf.keras.Sequential([\n",
    "    tf.keras.layers.InputLayer(input_shape=dims),\n",
    "    tf.keras.layers.Conv2D(\n",
    "        filters=64, kernel_size=3, strides=(2, 2), activation=\"relu\"\n",
    "    ),\n",
    "    tf.keras.layers.Conv2D(\n",
    "        filters=128, kernel_size=3, strides=(2, 2), activation=\"relu\"\n",
    "    ),\n",
    "\n",
    "    tf.keras.layers.Flatten(),\n",
    "    tf.keras.layers.Dense(units=512, activation=\"relu\"),\n",
    "    tf.keras.layers.Dense(units=512, activation=\"relu\"),\n",
    "])"
   ]
  },
  {
   "cell_type": "code",
   "execution_count": 13,
   "metadata": {
    "ExecuteTime": {
     "end_time": "2020-08-10T23:07:05.566849Z",
     "start_time": "2020-08-10T23:07:05.513315Z"
    }
   },
   "outputs": [],
   "source": [
    "embedder = tf.keras.Sequential()\n",
    "embedder.add(tf.keras.Input(shape=(512)))\n",
    "embedder.add(tf.keras.layers.Dense(256, activation=\"relu\"))\n",
    "embedder.add(tf.keras.layers.Dense(256, activation=\"relu\"))\n",
    "embedder.add(tf.keras.layers.Dense(n_components, activation=None, name='z_'))"
   ]
  },
  {
   "cell_type": "code",
   "execution_count": 14,
   "metadata": {
    "ExecuteTime": {
     "end_time": "2020-08-10T23:07:05.633264Z",
     "start_time": "2020-08-10T23:07:05.567875Z"
    }
   },
   "outputs": [],
   "source": [
    "classifier = tf.keras.Sequential()\n",
    "classifier.add(tf.keras.Input(shape=(512)))\n",
    "classifier.add(tf.keras.layers.Dense(256, activation=\"relu\"))\n",
    "classifier.add(tf.keras.layers.Dense(256, activation=\"relu\"))\n",
    "classifier.add(tf.keras.layers.Dense(num_classes, activation=None, name='y_'))"
   ]
  },
  {
   "cell_type": "markdown",
   "metadata": {},
   "source": [
    "### Test model with just UMAP"
   ]
  },
  {
   "cell_type": "code",
   "execution_count": 15,
   "metadata": {
    "ExecuteTime": {
     "end_time": "2020-08-10T23:07:05.683250Z",
     "start_time": "2020-08-10T23:07:05.634528Z"
    }
   },
   "outputs": [],
   "source": [
    "from tfumap.semisupervised import find_a_b\n",
    "from tfumap.umap import convert_distance_to_probability"
   ]
  },
  {
   "cell_type": "code",
   "execution_count": 16,
   "metadata": {
    "ExecuteTime": {
     "end_time": "2020-08-10T23:07:05.730823Z",
     "start_time": "2020-08-10T23:07:05.684428Z"
    }
   },
   "outputs": [
    {
     "data": {
      "text/plain": [
       "(<tf.Tensor: shape=(), dtype=float32, numpy=1.9328084>,\n",
       " <tf.Tensor: shape=(), dtype=float32, numpy=0.790495>)"
      ]
     },
     "execution_count": 16,
     "metadata": {},
     "output_type": "execute_result"
    }
   ],
   "source": [
    "min_dist = 0.0\n",
    "_a, _b = find_a_b(min_dist)\n",
    "_a, _b "
   ]
  },
  {
   "cell_type": "markdown",
   "metadata": {},
   "source": [
    "##### build iterator"
   ]
  },
  {
   "cell_type": "code",
   "execution_count": 17,
   "metadata": {
    "ExecuteTime": {
     "end_time": "2020-08-10T23:07:05.781485Z",
     "start_time": "2020-08-10T23:07:05.732584Z"
    }
   },
   "outputs": [],
   "source": [
    "from tfumap.semisupervised import build_fuzzy_simplicial_set\n",
    "from tfumap.umap import compute_cross_entropy, get_graph_elements"
   ]
  },
  {
   "cell_type": "code",
   "execution_count": 18,
   "metadata": {
    "ExecuteTime": {
     "end_time": "2020-08-10T23:07:26.151990Z",
     "start_time": "2020-08-10T23:07:05.784075Z"
    }
   },
   "outputs": [],
   "source": [
    "n_neighbors = 15  # default = 15\n",
    "umap_graph = build_fuzzy_simplicial_set(\n",
    "    X_train.reshape((len(X_train), np.product(np.shape(X_train)[1:]))),\n",
    "    y=Y_masked,\n",
    "    n_neighbors=n_neighbors,\n",
    ")"
   ]
  },
  {
   "cell_type": "code",
   "execution_count": 19,
   "metadata": {
    "ExecuteTime": {
     "end_time": "2020-08-10T23:07:26.781767Z",
     "start_time": "2020-08-10T23:07:26.153358Z"
    }
   },
   "outputs": [
    {
     "data": {
      "text/plain": [
       "1000"
      ]
     },
     "execution_count": 19,
     "metadata": {},
     "output_type": "execute_result"
    }
   ],
   "source": [
    "n_epochs = 200\n",
    "graph, epochs_per_sample, head, tail, weight, n_vertices = get_graph_elements(\n",
    "            umap_graph, n_epochs\n",
    ")\n",
    "batch_size = np.min([n_vertices, 1000])\n",
    "batch_size"
   ]
  },
  {
   "cell_type": "code",
   "execution_count": 20,
   "metadata": {
    "ExecuteTime": {
     "end_time": "2020-08-10T23:07:26.821995Z",
     "start_time": "2020-08-10T23:07:26.782785Z"
    }
   },
   "outputs": [],
   "source": [
    "max_sample_repeats_per_epoch = 25\n",
    "# set the maximum number of times each edge should be repeated per epoch\n",
    "epochs_per_sample = np.clip(\n",
    "    (weight / np.max(weight)) * max_sample_repeats_per_epoch,\n",
    "    1,\n",
    "    max_sample_repeats_per_epoch,\n",
    ").astype(\"int\")"
   ]
  },
  {
   "cell_type": "code",
   "execution_count": 21,
   "metadata": {
    "ExecuteTime": {
     "end_time": "2020-08-10T23:07:30.356659Z",
     "start_time": "2020-08-10T23:07:26.823255Z"
    }
   },
   "outputs": [],
   "source": [
    "edges_to_exp, edges_from_exp = (\n",
    "        np.repeat(head, epochs_per_sample.astype(\"int\")),\n",
    "       np.repeat(tail, epochs_per_sample.astype(\"int\")),\n",
    ")\n",
    "shuffle_mask = np.random.permutation(range(len(edges_to_exp)))\n",
    "edges_to_exp = edges_to_exp[shuffle_mask]\n",
    "edges_from_exp = edges_from_exp[shuffle_mask]"
   ]
  },
  {
   "cell_type": "code",
   "execution_count": 22,
   "metadata": {
    "ExecuteTime": {
     "end_time": "2020-08-10T23:07:30.393999Z",
     "start_time": "2020-08-10T23:07:30.359295Z"
    }
   },
   "outputs": [],
   "source": [
    "negative_sample_rate = 5"
   ]
  },
  {
   "cell_type": "code",
   "execution_count": 23,
   "metadata": {
    "ExecuteTime": {
     "end_time": "2020-08-10T23:07:30.431366Z",
     "start_time": "2020-08-10T23:07:30.395985Z"
    }
   },
   "outputs": [],
   "source": [
    "def gather_X(edge_to, edge_from):\n",
    "    return (tf.gather(X_train, edge_to), tf.gather(X_train, edge_from)), 0"
   ]
  },
  {
   "cell_type": "code",
   "execution_count": 24,
   "metadata": {
    "ExecuteTime": {
     "end_time": "2020-08-10T23:07:31.441121Z",
     "start_time": "2020-08-10T23:07:30.432711Z"
    }
   },
   "outputs": [],
   "source": [
    "edge_iter = tf.data.Dataset.from_tensor_slices((edges_to_exp, edges_from_exp))\n",
    "edge_iter = edge_iter.shuffle(10000)\n",
    "edge_iter = edge_iter.map(gather_X, num_parallel_calls=tf.data.experimental.AUTOTUNE)"
   ]
  },
  {
   "cell_type": "code",
   "execution_count": 85,
   "metadata": {
    "ExecuteTime": {
     "end_time": "2020-08-11T04:36:37.376722Z",
     "start_time": "2020-08-11T04:36:37.277320Z"
    }
   },
   "outputs": [
    {
     "data": {
      "text/plain": [
       "<RepeatDataset shapes: ((28, 28, 1), (10,)), types: (tf.float32, tf.float32)>"
      ]
     },
     "execution_count": 85,
     "metadata": {},
     "output_type": "execute_result"
    }
   ],
   "source": [
    "labeled_dataset = tf.data.Dataset.from_tensor_slices((X_labeled, Y_labeled_one_hot)).shuffle(len(X_labeled)).repeat()\n",
    "labeled_dataset"
   ]
  },
  {
   "cell_type": "code",
   "execution_count": 86,
   "metadata": {
    "ExecuteTime": {
     "end_time": "2020-08-11T04:36:37.961803Z",
     "start_time": "2020-08-11T04:36:37.918999Z"
    }
   },
   "outputs": [],
   "source": [
    "def rearrange_output(label_iter_out, edge_iter_out):\n",
    "    X_lab, Y_lab = label_iter_out\n",
    "    (X_to, X_from), edge_prob = edge_iter_out\n",
    "    return (X_lab, X_to, X_from), {\"classifier\":Y_lab, \"umap\": edge_prob}"
   ]
  },
  {
   "cell_type": "code",
   "execution_count": 87,
   "metadata": {
    "ExecuteTime": {
     "end_time": "2020-08-11T04:36:38.074666Z",
     "start_time": "2020-08-11T04:36:38.032160Z"
    }
   },
   "outputs": [
    {
     "data": {
      "text/plain": [
       "<BatchDataset shapes: (((1000, 28, 28, 1), (1000, 28, 28, 1), (1000, 28, 28, 1)), {classifier: (1000, 10), umap: (1000,)}), types: ((tf.float32, tf.float32, tf.float32), {classifier: tf.float32, umap: tf.int32})>"
      ]
     },
     "execution_count": 87,
     "metadata": {},
     "output_type": "execute_result"
    }
   ],
   "source": [
    "zipped_ds = tf.data.Dataset.zip((labeled_dataset, edge_iter))\n",
    "zipped_ds = zipped_ds.map(rearrange_output, num_parallel_calls=tf.data.experimental.AUTOTUNE)\n",
    "zipped_ds = zipped_ds.batch(batch_size, drop_remainder=True)\n",
    "zipped_ds"
   ]
  },
  {
   "cell_type": "code",
   "execution_count": 88,
   "metadata": {
    "ExecuteTime": {
     "end_time": "2020-08-11T04:36:40.054221Z",
     "start_time": "2020-08-11T04:36:38.181394Z"
    }
   },
   "outputs": [
    {
     "data": {
      "text/plain": [
       "(TensorShape([1000, 28, 28, 1]),\n",
       " TensorShape([1000, 28, 28, 1]),\n",
       " TensorShape([1000, 28, 28, 1]))"
      ]
     },
     "execution_count": 88,
     "metadata": {},
     "output_type": "execute_result"
    }
   ],
   "source": [
    "(X_lab, X_to, X_from), test  = next(iter(zipped_ds))\n",
    "X_lab.shape, X_to.shape, X_from.shape"
   ]
  },
  {
   "cell_type": "markdown",
   "metadata": {},
   "source": [
    "#### Build network"
   ]
  },
  {
   "cell_type": "code",
   "execution_count": 91,
   "metadata": {
    "ExecuteTime": {
     "end_time": "2020-08-11T04:36:48.428945Z",
     "start_time": "2020-08-11T04:36:48.386609Z"
    }
   },
   "outputs": [],
   "source": [
    "def umap_loss(batch_size, negative_sample_rate, _a, _b, repulsion_strength = 1.0):\n",
    "    @tf.function\n",
    "    def loss(placeholder_y, embed_to_from):\n",
    "        # split out to/from\n",
    "        embedding_to, embedding_from = tf.split(embed_to_from, num_or_size_splits=2, axis=1)\n",
    "\n",
    "        # get negative samples\n",
    "        embedding_neg_to = tf.repeat(embedding_to, negative_sample_rate, axis=0)\n",
    "        repeat_neg = tf.repeat(embedding_from, negative_sample_rate, axis=0)\n",
    "        embedding_neg_from = tf.gather(\n",
    "            repeat_neg, tf.random.shuffle(tf.range(tf.shape(repeat_neg)[0]))\n",
    "        )\n",
    "\n",
    "        #  distances between samples (and negative samples)\n",
    "        distance_embedding = tf.concat(\n",
    "            [\n",
    "                tf.norm(embedding_to - embedding_from, axis=1),\n",
    "                tf.norm(embedding_neg_to - embedding_neg_from, axis=1),\n",
    "            ],\n",
    "            axis=0,\n",
    "        )\n",
    "\n",
    "        # convert probabilities to distances\n",
    "        probabilities_distance = convert_distance_to_probability(\n",
    "            distance_embedding, _a, _b\n",
    "        )\n",
    "        \n",
    "        # set true probabilities based on negative sampling\n",
    "        probabilities_graph = tf.concat(\n",
    "            [tf.ones(batch_size), tf.zeros(batch_size * negative_sample_rate)],\n",
    "            axis=0,\n",
    "        )\n",
    "                \n",
    "        # compute cross entropy\n",
    "        (attraction_loss, repellant_loss, ce_loss) = compute_cross_entropy(\n",
    "            probabilities_graph,\n",
    "            probabilities_distance,\n",
    "            repulsion_strength=repulsion_strength,\n",
    "        )\n",
    "        return tf.reduce_mean(ce_loss)\n",
    "\n",
    "    return loss"
   ]
  },
  {
   "cell_type": "code",
   "execution_count": 92,
   "metadata": {
    "ExecuteTime": {
     "end_time": "2020-08-11T04:36:48.571443Z",
     "start_time": "2020-08-11T04:36:48.535389Z"
    }
   },
   "outputs": [],
   "source": [
    "from tensorflow.keras.layers import Input"
   ]
  },
  {
   "cell_type": "code",
   "execution_count": 93,
   "metadata": {
    "ExecuteTime": {
     "end_time": "2020-08-11T04:36:48.772909Z",
     "start_time": "2020-08-11T04:36:48.667375Z"
    }
   },
   "outputs": [],
   "source": [
    "to_x = Input(shape=dims, name = \"to_x\")\n",
    "from_x = Input(shape=dims, name = \"from_x\")\n",
    "classifier_x = Input(shape=dims, name = \"classifier_x\")\n",
    "\n",
    "\n",
    "embedding_to = embedder(encoder(to_x))\n",
    "embedding_from = embedder(encoder(from_x))\n",
    "embedding_to_from = tf.concat([embedding_to, embedding_from], axis = 1)\n",
    "embedding_to_from = tf.keras.layers.Lambda(lambda x: x, name='umap')(embedding_to_from)\n",
    "\n",
    "predictions = classifier(encoder(classifier_x))\n",
    "predictions = tf.keras.layers.Lambda(lambda x: x, name='classifier')(predictions)\n",
    "\n",
    "model = tf.keras.Model(\n",
    "    inputs=[classifier_x, to_x, from_x],\n",
    "    outputs={\"classifier\": predictions, \"umap\":embedding_to_from},\n",
    ")"
   ]
  },
  {
   "cell_type": "code",
   "execution_count": 94,
   "metadata": {
    "ExecuteTime": {
     "end_time": "2020-08-11T04:36:49.031402Z",
     "start_time": "2020-08-11T04:36:48.979680Z"
    }
   },
   "outputs": [],
   "source": [
    "model.compile(\n",
    "    optimizer=tf.keras.optimizers.Adam(1e-3),\n",
    "    loss={\n",
    "        \"classifier\": tf.keras.losses.CategoricalCrossentropy(label_smoothing=0.2, from_logits=True),\n",
    "        \"umap\": umap_loss(batch_size, negative_sample_rate, _a, _b),\n",
    "    },\n",
    "    loss_weights = {\n",
    "        \"classifier\": 1.0,\n",
    "        \"umap\": 1.0,\n",
    "    },\n",
    "    metrics={\"classifier\":\"accuracy\"}\n",
    "\n",
    ")"
   ]
  },
  {
   "cell_type": "code",
   "execution_count": 96,
   "metadata": {
    "ExecuteTime": {
     "end_time": "2020-08-11T04:36:51.185420Z",
     "start_time": "2020-08-11T04:36:51.152888Z"
    }
   },
   "outputs": [],
   "source": [
    "early_stopping = tf.keras.callbacks.EarlyStopping(\n",
    "    monitor='val_classifier_loss', min_delta=0, patience=50, verbose=0, mode='auto',\n",
    "    baseline=None, restore_best_weights=False\n",
    ")"
   ]
  },
  {
   "cell_type": "code",
   "execution_count": 99,
   "metadata": {
    "ExecuteTime": {
     "end_time": "2020-08-11T04:37:15.574378Z",
     "start_time": "2020-08-11T04:37:15.007476Z"
    }
   },
   "outputs": [
    {
     "data": {
      "text/plain": [
       "50"
      ]
     },
     "execution_count": 99,
     "metadata": {},
     "output_type": "execute_result"
    }
   ],
   "source": [
    "num_batches = np.floor(len(X_train)/batch_size).astype(int)\n",
    "num_batches"
   ]
  },
  {
   "cell_type": "code",
   "execution_count": 108,
   "metadata": {
    "ExecuteTime": {
     "end_time": "2020-08-11T04:43:31.905481Z",
     "start_time": "2020-08-11T04:43:13.577197Z"
    }
   },
   "outputs": [
    {
     "name": "stdout",
     "output_type": "stream",
     "text": [
      "Epoch 1/100\n",
      "\r",
      " 1/50 [..............................] - ETA: 0s - loss: 0.9313 - classifier_loss: 0.8675 - umap_loss: 0.0637 - classifier_accuracy: 1.0000"
     ]
    },
    {
     "name": "stderr",
     "output_type": "stream",
     "text": [
      "W0810 21:43:15.528486 139815396386624 callbacks.py:328] Callbacks method `on_train_batch_end` is slow compared to the batch time (batch time: 0.0068s vs `on_train_batch_end` time: 0.0137s). Check your callbacks.\n"
     ]
    },
    {
     "name": "stdout",
     "output_type": "stream",
     "text": [
      "49/50 [============================>.] - ETA: 0s - loss: 0.9324 - classifier_loss: 0.8679 - umap_loss: 0.0645 - classifier_accuracy: 0.9996EPOCH: 0, Train acc: 0.9996200203895569, Val acc: 0.9083999991416931\n",
      "50/50 [==============================] - 2s 34ms/step - loss: 0.9325 - classifier_loss: 0.8679 - umap_loss: 0.0646 - classifier_accuracy: 0.9996 - val_loss: 1.0960 - val_classifier_loss: 1.0960 - val_umap_loss: 0.0000e+00 - val_classifier_accuracy: 0.9084\n",
      "Epoch 2/100\n",
      "49/50 [============================>.] - ETA: 0s - loss: 0.9325 - classifier_loss: 0.8676 - umap_loss: 0.0649 - classifier_accuracy: 0.9997EPOCH: 1, Train acc: 0.9997000098228455, Val acc: 0.9079999923706055\n",
      "50/50 [==============================] - 2s 34ms/step - loss: 0.9324 - classifier_loss: 0.8676 - umap_loss: 0.0648 - classifier_accuracy: 0.9997 - val_loss: 1.0951 - val_classifier_loss: 1.0951 - val_umap_loss: 0.0000e+00 - val_classifier_accuracy: 0.9080\n",
      "Epoch 3/100\n",
      "49/50 [============================>.] - ETA: 0s - loss: 0.9314 - classifier_loss: 0.8674 - umap_loss: 0.0640 - classifier_accuracy: 0.9998EPOCH: 2, Train acc: 0.9998000264167786, Val acc: 0.9096999764442444\n",
      "50/50 [==============================] - 2s 35ms/step - loss: 0.9314 - classifier_loss: 0.8674 - umap_loss: 0.0640 - classifier_accuracy: 0.9998 - val_loss: 1.0964 - val_classifier_loss: 1.0964 - val_umap_loss: 0.0000e+00 - val_classifier_accuracy: 0.9097\n",
      "Epoch 4/100\n",
      "49/50 [============================>.] - ETA: 0s - loss: 0.9326 - classifier_loss: 0.8673 - umap_loss: 0.0654 - classifier_accuracy: 0.9999EPOCH: 3, Train acc: 0.9998800158500671, Val acc: 0.9108999967575073\n",
      "50/50 [==============================] - 2s 34ms/step - loss: 0.9326 - classifier_loss: 0.8672 - umap_loss: 0.0653 - classifier_accuracy: 0.9999 - val_loss: 1.0923 - val_classifier_loss: 1.0923 - val_umap_loss: 0.0000e+00 - val_classifier_accuracy: 0.9109\n",
      "Epoch 5/100\n",
      "49/50 [============================>.] - ETA: 0s - loss: 0.9320 - classifier_loss: 0.8674 - umap_loss: 0.0646 - classifier_accuracy: 0.9998EPOCH: 4, Train acc: 0.999779999256134, Val acc: 0.9117000102996826\n",
      "50/50 [==============================] - 2s 34ms/step - loss: 0.9321 - classifier_loss: 0.8674 - umap_loss: 0.0647 - classifier_accuracy: 0.9998 - val_loss: 1.0897 - val_classifier_loss: 1.0897 - val_umap_loss: 0.0000e+00 - val_classifier_accuracy: 0.9117\n",
      "Epoch 6/100\n",
      "50/50 [==============================] - ETA: 0s - loss: 0.9328 - classifier_loss: 0.8675 - umap_loss: 0.0653 - classifier_accuracy: 0.9998EPOCH: 5, Train acc: 0.999779999256134, Val acc: 0.9114000201225281\n",
      "50/50 [==============================] - 2s 34ms/step - loss: 0.9328 - classifier_loss: 0.8675 - umap_loss: 0.0653 - classifier_accuracy: 0.9998 - val_loss: 1.0885 - val_classifier_loss: 1.0885 - val_umap_loss: 0.0000e+00 - val_classifier_accuracy: 0.9114\n",
      "Epoch 7/100\n",
      "49/50 [============================>.] - ETA: 0s - loss: 0.9321 - classifier_loss: 0.8675 - umap_loss: 0.0647 - classifier_accuracy: 0.9998EPOCH: 6, Train acc: 0.9998000264167786, Val acc: 0.9104999899864197\n",
      "50/50 [==============================] - 2s 34ms/step - loss: 0.9321 - classifier_loss: 0.8674 - umap_loss: 0.0647 - classifier_accuracy: 0.9998 - val_loss: 1.0914 - val_classifier_loss: 1.0914 - val_umap_loss: 0.0000e+00 - val_classifier_accuracy: 0.9105\n",
      "Epoch 8/100\n",
      "49/50 [============================>.] - ETA: 0s - loss: 0.9330 - classifier_loss: 0.8673 - umap_loss: 0.0657 - classifier_accuracy: 0.9999EPOCH: 7, Train acc: 0.9998599886894226, Val acc: 0.9114999771118164\n",
      "50/50 [==============================] - 2s 34ms/step - loss: 0.9330 - classifier_loss: 0.8673 - umap_loss: 0.0657 - classifier_accuracy: 0.9999 - val_loss: 1.0905 - val_classifier_loss: 1.0905 - val_umap_loss: 0.0000e+00 - val_classifier_accuracy: 0.9115\n",
      "Epoch 9/100\n",
      "48/50 [===========================>..] - ETA: 0s - loss: 0.9331 - classifier_loss: 0.8673 - umap_loss: 0.0658 - classifier_accuracy: 0.9998EPOCH: 8, Train acc: 0.9998000264167786, Val acc: 0.9096999764442444\n",
      "50/50 [==============================] - 2s 32ms/step - loss: 0.9332 - classifier_loss: 0.8673 - umap_loss: 0.0659 - classifier_accuracy: 0.9998 - val_loss: 1.0949 - val_classifier_loss: 1.0949 - val_umap_loss: 0.0000e+00 - val_classifier_accuracy: 0.9097\n",
      "Epoch 10/100\n",
      "46/50 [==========================>...] - ETA: 0s - loss: 0.9331 - classifier_loss: 0.8673 - umap_loss: 0.0658 - classifier_accuracy: 0.9999"
     ]
    },
    {
     "ename": "KeyboardInterrupt",
     "evalue": "",
     "output_type": "error",
     "traceback": [
      "\u001b[0;31m---------------------------------------------------------------------------\u001b[0m",
      "\u001b[0;31mKeyboardInterrupt\u001b[0m                         Traceback (most recent call last)",
      "\u001b[0;32m<ipython-input-108-b29dc178cf3a>\u001b[0m in \u001b[0;36m<module>\u001b[0;34m\u001b[0m\n\u001b[1;32m      8\u001b[0m     \u001b[0mcallbacks\u001b[0m \u001b[0;34m=\u001b[0m \u001b[0;34m[\u001b[0m\u001b[0mearly_stopping\u001b[0m\u001b[0;34m,\u001b[0m \u001b[0mPrinterCallback\u001b[0m\u001b[0;34m(\u001b[0m\u001b[0;34m)\u001b[0m\u001b[0;34m]\u001b[0m\u001b[0;34m,\u001b[0m\u001b[0;34m\u001b[0m\u001b[0;34m\u001b[0m\u001b[0m\n\u001b[1;32m      9\u001b[0m     \u001b[0mmax_queue_size\u001b[0m \u001b[0;34m=\u001b[0m \u001b[0;36m100\u001b[0m\u001b[0;34m,\u001b[0m\u001b[0;34m\u001b[0m\u001b[0;34m\u001b[0m\u001b[0m\n\u001b[0;32m---> 10\u001b[0;31m     \u001b[0msteps_per_epoch\u001b[0m \u001b[0;34m=\u001b[0m \u001b[0mnum_batches\u001b[0m\u001b[0;34m\u001b[0m\u001b[0;34m\u001b[0m\u001b[0m\n\u001b[0m\u001b[1;32m     11\u001b[0m )\n",
      "\u001b[0;32m/mnt/cube/tsainbur/conda_envs/tpy3/lib/python3.6/site-packages/tensorflow/python/keras/engine/training.py\u001b[0m in \u001b[0;36m_method_wrapper\u001b[0;34m(self, *args, **kwargs)\u001b[0m\n\u001b[1;32m    106\u001b[0m   \u001b[0;32mdef\u001b[0m \u001b[0m_method_wrapper\u001b[0m\u001b[0;34m(\u001b[0m\u001b[0mself\u001b[0m\u001b[0;34m,\u001b[0m \u001b[0;34m*\u001b[0m\u001b[0margs\u001b[0m\u001b[0;34m,\u001b[0m \u001b[0;34m**\u001b[0m\u001b[0mkwargs\u001b[0m\u001b[0;34m)\u001b[0m\u001b[0;34m:\u001b[0m\u001b[0;34m\u001b[0m\u001b[0;34m\u001b[0m\u001b[0m\n\u001b[1;32m    107\u001b[0m     \u001b[0;32mif\u001b[0m \u001b[0;32mnot\u001b[0m \u001b[0mself\u001b[0m\u001b[0;34m.\u001b[0m\u001b[0m_in_multi_worker_mode\u001b[0m\u001b[0;34m(\u001b[0m\u001b[0;34m)\u001b[0m\u001b[0;34m:\u001b[0m  \u001b[0;31m# pylint: disable=protected-access\u001b[0m\u001b[0;34m\u001b[0m\u001b[0;34m\u001b[0m\u001b[0m\n\u001b[0;32m--> 108\u001b[0;31m       \u001b[0;32mreturn\u001b[0m \u001b[0mmethod\u001b[0m\u001b[0;34m(\u001b[0m\u001b[0mself\u001b[0m\u001b[0;34m,\u001b[0m \u001b[0;34m*\u001b[0m\u001b[0margs\u001b[0m\u001b[0;34m,\u001b[0m \u001b[0;34m**\u001b[0m\u001b[0mkwargs\u001b[0m\u001b[0;34m)\u001b[0m\u001b[0;34m\u001b[0m\u001b[0;34m\u001b[0m\u001b[0m\n\u001b[0m\u001b[1;32m    109\u001b[0m \u001b[0;34m\u001b[0m\u001b[0m\n\u001b[1;32m    110\u001b[0m     \u001b[0;31m# Running inside `run_distribute_coordinator` already.\u001b[0m\u001b[0;34m\u001b[0m\u001b[0;34m\u001b[0m\u001b[0;34m\u001b[0m\u001b[0m\n",
      "\u001b[0;32m/mnt/cube/tsainbur/conda_envs/tpy3/lib/python3.6/site-packages/tensorflow/python/keras/engine/training.py\u001b[0m in \u001b[0;36mfit\u001b[0;34m(self, x, y, batch_size, epochs, verbose, callbacks, validation_split, validation_data, shuffle, class_weight, sample_weight, initial_epoch, steps_per_epoch, validation_steps, validation_batch_size, validation_freq, max_queue_size, workers, use_multiprocessing)\u001b[0m\n\u001b[1;32m   1096\u001b[0m                 batch_size=batch_size):\n\u001b[1;32m   1097\u001b[0m               \u001b[0mcallbacks\u001b[0m\u001b[0;34m.\u001b[0m\u001b[0mon_train_batch_begin\u001b[0m\u001b[0;34m(\u001b[0m\u001b[0mstep\u001b[0m\u001b[0;34m)\u001b[0m\u001b[0;34m\u001b[0m\u001b[0;34m\u001b[0m\u001b[0m\n\u001b[0;32m-> 1098\u001b[0;31m               \u001b[0mtmp_logs\u001b[0m \u001b[0;34m=\u001b[0m \u001b[0mtrain_function\u001b[0m\u001b[0;34m(\u001b[0m\u001b[0miterator\u001b[0m\u001b[0;34m)\u001b[0m\u001b[0;34m\u001b[0m\u001b[0;34m\u001b[0m\u001b[0m\n\u001b[0m\u001b[1;32m   1099\u001b[0m               \u001b[0;32mif\u001b[0m \u001b[0mdata_handler\u001b[0m\u001b[0;34m.\u001b[0m\u001b[0mshould_sync\u001b[0m\u001b[0;34m:\u001b[0m\u001b[0;34m\u001b[0m\u001b[0;34m\u001b[0m\u001b[0m\n\u001b[1;32m   1100\u001b[0m                 \u001b[0mcontext\u001b[0m\u001b[0;34m.\u001b[0m\u001b[0masync_wait\u001b[0m\u001b[0;34m(\u001b[0m\u001b[0;34m)\u001b[0m\u001b[0;34m\u001b[0m\u001b[0;34m\u001b[0m\u001b[0m\n",
      "\u001b[0;32m/mnt/cube/tsainbur/conda_envs/tpy3/lib/python3.6/site-packages/tensorflow/python/eager/def_function.py\u001b[0m in \u001b[0;36m__call__\u001b[0;34m(self, *args, **kwds)\u001b[0m\n\u001b[1;32m    778\u001b[0m       \u001b[0;32melse\u001b[0m\u001b[0;34m:\u001b[0m\u001b[0;34m\u001b[0m\u001b[0;34m\u001b[0m\u001b[0m\n\u001b[1;32m    779\u001b[0m         \u001b[0mcompiler\u001b[0m \u001b[0;34m=\u001b[0m \u001b[0;34m\"nonXla\"\u001b[0m\u001b[0;34m\u001b[0m\u001b[0;34m\u001b[0m\u001b[0m\n\u001b[0;32m--> 780\u001b[0;31m         \u001b[0mresult\u001b[0m \u001b[0;34m=\u001b[0m \u001b[0mself\u001b[0m\u001b[0;34m.\u001b[0m\u001b[0m_call\u001b[0m\u001b[0;34m(\u001b[0m\u001b[0;34m*\u001b[0m\u001b[0margs\u001b[0m\u001b[0;34m,\u001b[0m \u001b[0;34m**\u001b[0m\u001b[0mkwds\u001b[0m\u001b[0;34m)\u001b[0m\u001b[0;34m\u001b[0m\u001b[0;34m\u001b[0m\u001b[0m\n\u001b[0m\u001b[1;32m    781\u001b[0m \u001b[0;34m\u001b[0m\u001b[0m\n\u001b[1;32m    782\u001b[0m       \u001b[0mnew_tracing_count\u001b[0m \u001b[0;34m=\u001b[0m \u001b[0mself\u001b[0m\u001b[0;34m.\u001b[0m\u001b[0m_get_tracing_count\u001b[0m\u001b[0;34m(\u001b[0m\u001b[0;34m)\u001b[0m\u001b[0;34m\u001b[0m\u001b[0;34m\u001b[0m\u001b[0m\n",
      "\u001b[0;32m/mnt/cube/tsainbur/conda_envs/tpy3/lib/python3.6/site-packages/tensorflow/python/eager/def_function.py\u001b[0m in \u001b[0;36m_call\u001b[0;34m(self, *args, **kwds)\u001b[0m\n\u001b[1;32m    805\u001b[0m       \u001b[0;31m# In this case we have created variables on the first call, so we run the\u001b[0m\u001b[0;34m\u001b[0m\u001b[0;34m\u001b[0m\u001b[0;34m\u001b[0m\u001b[0m\n\u001b[1;32m    806\u001b[0m       \u001b[0;31m# defunned version which is guaranteed to never create variables.\u001b[0m\u001b[0;34m\u001b[0m\u001b[0;34m\u001b[0m\u001b[0;34m\u001b[0m\u001b[0m\n\u001b[0;32m--> 807\u001b[0;31m       \u001b[0;32mreturn\u001b[0m \u001b[0mself\u001b[0m\u001b[0;34m.\u001b[0m\u001b[0m_stateless_fn\u001b[0m\u001b[0;34m(\u001b[0m\u001b[0;34m*\u001b[0m\u001b[0margs\u001b[0m\u001b[0;34m,\u001b[0m \u001b[0;34m**\u001b[0m\u001b[0mkwds\u001b[0m\u001b[0;34m)\u001b[0m  \u001b[0;31m# pylint: disable=not-callable\u001b[0m\u001b[0;34m\u001b[0m\u001b[0;34m\u001b[0m\u001b[0m\n\u001b[0m\u001b[1;32m    808\u001b[0m     \u001b[0;32melif\u001b[0m \u001b[0mself\u001b[0m\u001b[0;34m.\u001b[0m\u001b[0m_stateful_fn\u001b[0m \u001b[0;32mis\u001b[0m \u001b[0;32mnot\u001b[0m \u001b[0;32mNone\u001b[0m\u001b[0;34m:\u001b[0m\u001b[0;34m\u001b[0m\u001b[0;34m\u001b[0m\u001b[0m\n\u001b[1;32m    809\u001b[0m       \u001b[0;31m# Release the lock early so that multiple threads can perform the call\u001b[0m\u001b[0;34m\u001b[0m\u001b[0;34m\u001b[0m\u001b[0;34m\u001b[0m\u001b[0m\n",
      "\u001b[0;32m/mnt/cube/tsainbur/conda_envs/tpy3/lib/python3.6/site-packages/tensorflow/python/eager/function.py\u001b[0m in \u001b[0;36m__call__\u001b[0;34m(self, *args, **kwargs)\u001b[0m\n\u001b[1;32m   2827\u001b[0m     \u001b[0;32mwith\u001b[0m \u001b[0mself\u001b[0m\u001b[0;34m.\u001b[0m\u001b[0m_lock\u001b[0m\u001b[0;34m:\u001b[0m\u001b[0;34m\u001b[0m\u001b[0;34m\u001b[0m\u001b[0m\n\u001b[1;32m   2828\u001b[0m       \u001b[0mgraph_function\u001b[0m\u001b[0;34m,\u001b[0m \u001b[0margs\u001b[0m\u001b[0;34m,\u001b[0m \u001b[0mkwargs\u001b[0m \u001b[0;34m=\u001b[0m \u001b[0mself\u001b[0m\u001b[0;34m.\u001b[0m\u001b[0m_maybe_define_function\u001b[0m\u001b[0;34m(\u001b[0m\u001b[0margs\u001b[0m\u001b[0;34m,\u001b[0m \u001b[0mkwargs\u001b[0m\u001b[0;34m)\u001b[0m\u001b[0;34m\u001b[0m\u001b[0;34m\u001b[0m\u001b[0m\n\u001b[0;32m-> 2829\u001b[0;31m     \u001b[0;32mreturn\u001b[0m \u001b[0mgraph_function\u001b[0m\u001b[0;34m.\u001b[0m\u001b[0m_filtered_call\u001b[0m\u001b[0;34m(\u001b[0m\u001b[0margs\u001b[0m\u001b[0;34m,\u001b[0m \u001b[0mkwargs\u001b[0m\u001b[0;34m)\u001b[0m  \u001b[0;31m# pylint: disable=protected-access\u001b[0m\u001b[0;34m\u001b[0m\u001b[0;34m\u001b[0m\u001b[0m\n\u001b[0m\u001b[1;32m   2830\u001b[0m \u001b[0;34m\u001b[0m\u001b[0m\n\u001b[1;32m   2831\u001b[0m   \u001b[0;34m@\u001b[0m\u001b[0mproperty\u001b[0m\u001b[0;34m\u001b[0m\u001b[0;34m\u001b[0m\u001b[0m\n",
      "\u001b[0;32m/mnt/cube/tsainbur/conda_envs/tpy3/lib/python3.6/site-packages/tensorflow/python/eager/function.py\u001b[0m in \u001b[0;36m_filtered_call\u001b[0;34m(self, args, kwargs, cancellation_manager)\u001b[0m\n\u001b[1;32m   1846\u001b[0m                            resource_variable_ops.BaseResourceVariable))],\n\u001b[1;32m   1847\u001b[0m         \u001b[0mcaptured_inputs\u001b[0m\u001b[0;34m=\u001b[0m\u001b[0mself\u001b[0m\u001b[0;34m.\u001b[0m\u001b[0mcaptured_inputs\u001b[0m\u001b[0;34m,\u001b[0m\u001b[0;34m\u001b[0m\u001b[0;34m\u001b[0m\u001b[0m\n\u001b[0;32m-> 1848\u001b[0;31m         cancellation_manager=cancellation_manager)\n\u001b[0m\u001b[1;32m   1849\u001b[0m \u001b[0;34m\u001b[0m\u001b[0m\n\u001b[1;32m   1850\u001b[0m   \u001b[0;32mdef\u001b[0m \u001b[0m_call_flat\u001b[0m\u001b[0;34m(\u001b[0m\u001b[0mself\u001b[0m\u001b[0;34m,\u001b[0m \u001b[0margs\u001b[0m\u001b[0;34m,\u001b[0m \u001b[0mcaptured_inputs\u001b[0m\u001b[0;34m,\u001b[0m \u001b[0mcancellation_manager\u001b[0m\u001b[0;34m=\u001b[0m\u001b[0;32mNone\u001b[0m\u001b[0;34m)\u001b[0m\u001b[0;34m:\u001b[0m\u001b[0;34m\u001b[0m\u001b[0;34m\u001b[0m\u001b[0m\n",
      "\u001b[0;32m/mnt/cube/tsainbur/conda_envs/tpy3/lib/python3.6/site-packages/tensorflow/python/eager/function.py\u001b[0m in \u001b[0;36m_call_flat\u001b[0;34m(self, args, captured_inputs, cancellation_manager)\u001b[0m\n\u001b[1;32m   1922\u001b[0m       \u001b[0;31m# No tape is watching; skip to running the function.\u001b[0m\u001b[0;34m\u001b[0m\u001b[0;34m\u001b[0m\u001b[0;34m\u001b[0m\u001b[0m\n\u001b[1;32m   1923\u001b[0m       return self._build_call_outputs(self._inference_function.call(\n\u001b[0;32m-> 1924\u001b[0;31m           ctx, args, cancellation_manager=cancellation_manager))\n\u001b[0m\u001b[1;32m   1925\u001b[0m     forward_backward = self._select_forward_and_backward_functions(\n\u001b[1;32m   1926\u001b[0m         \u001b[0margs\u001b[0m\u001b[0;34m,\u001b[0m\u001b[0;34m\u001b[0m\u001b[0;34m\u001b[0m\u001b[0m\n",
      "\u001b[0;32m/mnt/cube/tsainbur/conda_envs/tpy3/lib/python3.6/site-packages/tensorflow/python/eager/function.py\u001b[0m in \u001b[0;36mcall\u001b[0;34m(self, ctx, args, cancellation_manager)\u001b[0m\n\u001b[1;32m    548\u001b[0m               \u001b[0minputs\u001b[0m\u001b[0;34m=\u001b[0m\u001b[0margs\u001b[0m\u001b[0;34m,\u001b[0m\u001b[0;34m\u001b[0m\u001b[0;34m\u001b[0m\u001b[0m\n\u001b[1;32m    549\u001b[0m               \u001b[0mattrs\u001b[0m\u001b[0;34m=\u001b[0m\u001b[0mattrs\u001b[0m\u001b[0;34m,\u001b[0m\u001b[0;34m\u001b[0m\u001b[0;34m\u001b[0m\u001b[0m\n\u001b[0;32m--> 550\u001b[0;31m               ctx=ctx)\n\u001b[0m\u001b[1;32m    551\u001b[0m         \u001b[0;32melse\u001b[0m\u001b[0;34m:\u001b[0m\u001b[0;34m\u001b[0m\u001b[0;34m\u001b[0m\u001b[0m\n\u001b[1;32m    552\u001b[0m           outputs = execute.execute_with_cancellation(\n",
      "\u001b[0;32m/mnt/cube/tsainbur/conda_envs/tpy3/lib/python3.6/site-packages/tensorflow/python/eager/execute.py\u001b[0m in \u001b[0;36mquick_execute\u001b[0;34m(op_name, num_outputs, inputs, attrs, ctx, name)\u001b[0m\n\u001b[1;32m     58\u001b[0m     \u001b[0mctx\u001b[0m\u001b[0;34m.\u001b[0m\u001b[0mensure_initialized\u001b[0m\u001b[0;34m(\u001b[0m\u001b[0;34m)\u001b[0m\u001b[0;34m\u001b[0m\u001b[0;34m\u001b[0m\u001b[0m\n\u001b[1;32m     59\u001b[0m     tensors = pywrap_tfe.TFE_Py_Execute(ctx._handle, device_name, op_name,\n\u001b[0;32m---> 60\u001b[0;31m                                         inputs, attrs, num_outputs)\n\u001b[0m\u001b[1;32m     61\u001b[0m   \u001b[0;32mexcept\u001b[0m \u001b[0mcore\u001b[0m\u001b[0;34m.\u001b[0m\u001b[0m_NotOkStatusException\u001b[0m \u001b[0;32mas\u001b[0m \u001b[0me\u001b[0m\u001b[0;34m:\u001b[0m\u001b[0;34m\u001b[0m\u001b[0;34m\u001b[0m\u001b[0m\n\u001b[1;32m     62\u001b[0m     \u001b[0;32mif\u001b[0m \u001b[0mname\u001b[0m \u001b[0;32mis\u001b[0m \u001b[0;32mnot\u001b[0m \u001b[0;32mNone\u001b[0m\u001b[0;34m:\u001b[0m\u001b[0;34m\u001b[0m\u001b[0;34m\u001b[0m\u001b[0m\n",
      "\u001b[0;31mKeyboardInterrupt\u001b[0m: "
     ]
    }
   ],
   "source": [
    "history = model.fit(\n",
    "    zipped_ds,\n",
    "    epochs=100,\n",
    "    validation_data=(\n",
    "        (X_valid, tf.zeros_like(X_valid), tf.zeros_like(X_valid)),\n",
    "        {\"classifier\": Y_valid_one_hot},\n",
    "    ),\n",
    "    callbacks = [early_stopping],\n",
    "    max_queue_size = 100,\n",
    "    steps_per_epoch = num_batches\n",
    ")"
   ]
  },
  {
   "cell_type": "code",
   "execution_count": 109,
   "metadata": {
    "ExecuteTime": {
     "end_time": "2020-08-11T04:43:51.535091Z",
     "start_time": "2020-08-11T04:43:51.034681Z"
    }
   },
   "outputs": [],
   "source": [
    "pred_test = classifier.predict(encoder.predict(X_test))"
   ]
  },
  {
   "cell_type": "code",
   "execution_count": 110,
   "metadata": {
    "ExecuteTime": {
     "end_time": "2020-08-11T04:43:51.936669Z",
     "start_time": "2020-08-11T04:43:51.891478Z"
    }
   },
   "outputs": [
    {
     "data": {
      "text/plain": [
       "0.9148"
      ]
     },
     "execution_count": 110,
     "metadata": {},
     "output_type": "execute_result"
    }
   ],
   "source": [
    "np.mean(np.argmax(pred_test, axis = 1) == Y_test)"
   ]
  },
  {
   "cell_type": "code",
   "execution_count": 111,
   "metadata": {
    "ExecuteTime": {
     "end_time": "2020-08-11T04:43:54.661319Z",
     "start_time": "2020-08-11T04:43:52.643110Z"
    }
   },
   "outputs": [],
   "source": [
    "z = embedder.predict(encoder.predict(X_train))"
   ]
  },
  {
   "cell_type": "code",
   "execution_count": 112,
   "metadata": {
    "ExecuteTime": {
     "end_time": "2020-08-11T04:43:56.313616Z",
     "start_time": "2020-08-11T04:43:55.066386Z"
    }
   },
   "outputs": [
    {
     "data": {
      "image/png": "[encoded data removed]",
      "text/plain": [
       "<Figure size 576x576 with 2 Axes>"
      ]
     },
     "metadata": {
      "needs_background": "light"
     },
     "output_type": "display_data"
    }
   ],
   "source": [
    "fig, ax = plt.subplots( figsize=(8, 8))\n",
    "sc = ax.scatter(\n",
    "    z[:, 0],\n",
    "    z[:, 1],\n",
    "    c=Y_train.astype(int)[:len(z)],\n",
    "    cmap=\"tab10\",\n",
    "    s=0.1,\n",
    "    alpha=0.5,\n",
    "    rasterized=True,\n",
    ")\n",
    "ax.axis('equal')\n",
    "ax.set_title(\"UMAP in Tensorflow embedding\", fontsize=20)\n",
    "plt.colorbar(sc, ax=ax);"
   ]
  },
  {
   "cell_type": "code",
   "execution_count": 113,
   "metadata": {
    "ExecuteTime": {
     "end_time": "2020-08-11T04:43:57.450693Z",
     "start_time": "2020-08-11T04:43:57.410823Z"
    }
   },
   "outputs": [
    {
     "data": {
      "text/plain": [
       "dict_keys(['loss', 'classifier_loss', 'umap_loss', 'classifier_accuracy', 'val_loss', 'val_classifier_loss', 'val_umap_loss', 'val_classifier_accuracy'])"
      ]
     },
     "execution_count": 113,
     "metadata": {},
     "output_type": "execute_result"
    }
   ],
   "source": [
    "history.history.keys()"
   ]
  },
  {
   "cell_type": "code",
   "execution_count": 119,
   "metadata": {
    "ExecuteTime": {
     "end_time": "2020-08-11T04:46:31.091544Z",
     "start_time": "2020-08-11T04:46:30.826959Z"
    }
   },
   "outputs": [
    {
     "data": {
      "text/plain": [
       "Text(0.5, 1.0, 'classifier acc')"
      ]
     },
     "execution_count": 119,
     "metadata": {},
     "output_type": "execute_result"
    },
    {
     "data": {
      "image/png": "[encoded data removed]",
      "text/plain": [
       "<Figure size 1440x288 with 2 Axes>"
      ]
     },
     "metadata": {
      "needs_background": "light"
     },
     "output_type": "display_data"
    }
   ],
   "source": [
    "fig, axs = plt.subplots(ncols = 2, figsize=(20,4))\n",
    "\n",
    "ax = axs[0]\n",
    "ax.plot(history.history['classifier_loss'], label='classifier loss')\n",
    "ax.plot(history.history['umap_loss'], label='umap loss')\n",
    "ax.set_title(\"classifier acc\")\n",
    "ax.legend()\n",
    "ax = axs[1]\n",
    "ax.plot(history.history['classifier_accuracy'], label='val')\n",
    "ax.plot(history.history['val_classifier_accuracy'], label='train')\n",
    "ax.legend()\n",
    "ax.set_title(\"classifier acc\")"
   ]
  }
 ],
 "metadata": {
  "kernelspec": {
   "display_name": "Python 3",
   "language": "python",
   "name": "python3"
  },
  "language_info": {
   "codemirror_mode": {
    "name": "ipython",
    "version": 3
   },
   "file_extension": ".py",
   "mimetype": "text/x-python",
   "name": "python",
   "nbconvert_exporter": "python",
   "pygments_lexer": "ipython3",
   "version": "3.6.7"
  }
 },
 "nbformat": 4,
 "nbformat_minor": 2
}
