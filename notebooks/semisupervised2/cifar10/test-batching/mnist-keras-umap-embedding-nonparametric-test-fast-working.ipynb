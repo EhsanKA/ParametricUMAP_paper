{
 "cells": [
  {
   "cell_type": "code",
   "execution_count": 1,
   "metadata": {
    "ExecuteTime": {
     "end_time": "2020-08-14T07:02:28.673392Z",
     "start_time": "2020-08-14T07:02:28.661289Z"
    }
   },
   "outputs": [],
   "source": [
    "# reload packages\n",
    "%load_ext autoreload\n",
    "%autoreload 2"
   ]
  },
  {
   "cell_type": "markdown",
   "metadata": {},
   "source": [
    "### Choose GPU"
   ]
  },
  {
   "cell_type": "code",
   "execution_count": 2,
   "metadata": {
    "ExecuteTime": {
     "end_time": "2020-08-14T07:02:28.683188Z",
     "start_time": "2020-08-14T07:02:28.674356Z"
    }
   },
   "outputs": [
    {
     "name": "stdout",
     "output_type": "stream",
     "text": [
      "env: CUDA_DEVICE_ORDER=PCI_BUS_ID\n",
      "env: CUDA_VISIBLE_DEVICES=1\n"
     ]
    }
   ],
   "source": [
    "%env CUDA_DEVICE_ORDER=PCI_BUS_ID\n",
    "%env CUDA_VISIBLE_DEVICES=1"
   ]
  },
  {
   "cell_type": "code",
   "execution_count": 3,
   "metadata": {
    "ExecuteTime": {
     "end_time": "2020-08-14T07:02:38.105691Z",
     "start_time": "2020-08-14T07:02:28.684223Z"
    }
   },
   "outputs": [
    {
     "name": "stdout",
     "output_type": "stream",
     "text": [
      "[PhysicalDevice(name='/physical_device:GPU:0', device_type='GPU')]\n"
     ]
    }
   ],
   "source": [
    "import tensorflow as tf\n",
    "gpu_devices = tf.config.experimental.list_physical_devices('GPU')\n",
    "if len(gpu_devices)>0:\n",
    "    tf.config.experimental.set_memory_growth(gpu_devices[0], True)\n",
    "print(gpu_devices)\n",
    "tf.keras.backend.clear_session()"
   ]
  },
  {
   "cell_type": "code",
   "execution_count": 4,
   "metadata": {
    "ExecuteTime": {
     "end_time": "2020-08-14T07:02:38.134717Z",
     "start_time": "2020-08-14T07:02:38.107310Z"
    }
   },
   "outputs": [],
   "source": [
    "labels_per_class = 'full' # full"
   ]
  },
  {
   "cell_type": "markdown",
   "metadata": {},
   "source": [
    "### Load packages"
   ]
  },
  {
   "cell_type": "code",
   "execution_count": 5,
   "metadata": {
    "ExecuteTime": {
     "end_time": "2020-08-14T07:02:44.128149Z",
     "start_time": "2020-08-14T07:02:38.136693Z"
    }
   },
   "outputs": [
    {
     "name": "stderr",
     "output_type": "stream",
     "text": [
      "/mnt/cube/tsainbur/conda_envs/tpy3/lib/python3.6/site-packages/tqdm/autonotebook/__init__.py:14: TqdmExperimentalWarning: Using `tqdm.autonotebook.tqdm` in notebook mode. Use `tqdm.tqdm` instead to force console mode (e.g. in jupyter console)\n",
      "  \" (e.g. in jupyter console)\", TqdmExperimentalWarning)\n"
     ]
    }
   ],
   "source": [
    "import tensorflow as tf\n",
    "import numpy as np\n",
    "import matplotlib.pyplot as plt\n",
    "from tqdm.autonotebook import tqdm\n",
    "from IPython import display\n",
    "import pandas as pd\n",
    "import umap\n",
    "import copy\n",
    "import os, tempfile"
   ]
  },
  {
   "cell_type": "markdown",
   "metadata": {},
   "source": [
    "### Load dataset"
   ]
  },
  {
   "cell_type": "code",
   "execution_count": 6,
   "metadata": {
    "ExecuteTime": {
     "end_time": "2020-08-14T07:02:44.782070Z",
     "start_time": "2020-08-14T07:02:44.130000Z"
    }
   },
   "outputs": [
    {
     "data": {
      "text/plain": [
       "(50000, 28, 28, 1)"
      ]
     },
     "execution_count": 6,
     "metadata": {},
     "output_type": "execute_result"
    }
   ],
   "source": [
    "from tfumap.load_datasets import load_MNIST, mask_labels\n",
    "X_train, X_test, X_valid, Y_train, Y_test, Y_valid = load_MNIST(flatten=False)\n",
    "X_train.shape"
   ]
  },
  {
   "cell_type": "code",
   "execution_count": 7,
   "metadata": {
    "ExecuteTime": {
     "end_time": "2020-08-14T07:02:44.825583Z",
     "start_time": "2020-08-14T07:02:44.783725Z"
    }
   },
   "outputs": [],
   "source": [
    "if labels_per_class == \"full\":\n",
    "    X_labeled = X_train\n",
    "    Y_masked = Y_labeled = Y_train\n",
    "else:\n",
    "    X_labeled, Y_labeled, Y_masked = mask_labels(\n",
    "        X_train, Y_train, labels_per_class=labels_per_class\n",
    "    )"
   ]
  },
  {
   "cell_type": "markdown",
   "metadata": {},
   "source": [
    "### Network architecture"
   ]
  },
  {
   "cell_type": "code",
   "execution_count": 8,
   "metadata": {
    "ExecuteTime": {
     "end_time": "2020-08-14T07:02:44.856968Z",
     "start_time": "2020-08-14T07:02:44.826795Z"
    }
   },
   "outputs": [],
   "source": [
    "dims = (28,28,1)\n",
    "n_components= 2"
   ]
  },
  {
   "cell_type": "code",
   "execution_count": 9,
   "metadata": {
    "ExecuteTime": {
     "end_time": "2020-08-14T07:02:45.527410Z",
     "start_time": "2020-08-14T07:02:44.858243Z"
    }
   },
   "outputs": [],
   "source": [
    "encoder = tf.keras.Sequential([\n",
    "    tf.keras.layers.InputLayer(input_shape=dims),\n",
    "    tf.keras.layers.Conv2D(\n",
    "        filters=64, kernel_size=3, strides=(2, 2), activation=\"relu\"\n",
    "    ),\n",
    "    tf.keras.layers.Conv2D(\n",
    "        filters=128, kernel_size=3, strides=(2, 2), activation=\"relu\"\n",
    "    ),\n",
    "\n",
    "    tf.keras.layers.Flatten(),\n",
    "    tf.keras.layers.Dense(units=512, activation=\"relu\"),\n",
    "    tf.keras.layers.Dense(units=512, activation=\"relu\"),\n",
    "    tf.keras.layers.Dense(units=n_components),\n",
    "])"
   ]
  },
  {
   "cell_type": "markdown",
   "metadata": {},
   "source": [
    "### Test model with just UMAP"
   ]
  },
  {
   "cell_type": "code",
   "execution_count": 10,
   "metadata": {
    "ExecuteTime": {
     "end_time": "2020-08-14T07:02:45.674126Z",
     "start_time": "2020-08-14T07:02:45.528928Z"
    }
   },
   "outputs": [],
   "source": [
    "from tfumap.semisupervised import find_a_b\n",
    "from tfumap.umap import convert_distance_to_probability"
   ]
  },
  {
   "cell_type": "code",
   "execution_count": 11,
   "metadata": {
    "ExecuteTime": {
     "end_time": "2020-08-14T07:02:45.724215Z",
     "start_time": "2020-08-14T07:02:45.675504Z"
    }
   },
   "outputs": [
    {
     "data": {
      "text/plain": [
       "(<tf.Tensor: shape=(), dtype=float32, numpy=1.9290735>,\n",
       " <tf.Tensor: shape=(), dtype=float32, numpy=0.79150456>)"
      ]
     },
     "execution_count": 11,
     "metadata": {},
     "output_type": "execute_result"
    }
   ],
   "source": [
    "min_dist = 0.001\n",
    "_a, _b = find_a_b(min_dist)\n",
    "_a, _b "
   ]
  },
  {
   "cell_type": "markdown",
   "metadata": {},
   "source": [
    "##### build iterator"
   ]
  },
  {
   "cell_type": "code",
   "execution_count": 12,
   "metadata": {
    "ExecuteTime": {
     "end_time": "2020-08-14T07:02:45.768816Z",
     "start_time": "2020-08-14T07:02:45.726253Z"
    }
   },
   "outputs": [],
   "source": [
    "from tfumap.semisupervised import build_fuzzy_simplicial_set\n",
    "from tfumap.umap import compute_cross_entropy, get_graph_elements"
   ]
  },
  {
   "cell_type": "code",
   "execution_count": 13,
   "metadata": {
    "ExecuteTime": {
     "end_time": "2020-08-14T07:03:05.489419Z",
     "start_time": "2020-08-14T07:02:45.770011Z"
    }
   },
   "outputs": [],
   "source": [
    "n_neighbors = 15  # default = 15\n",
    "umap_graph = build_fuzzy_simplicial_set(\n",
    "    X_train.reshape((len(X_train), np.product(np.shape(X_train)[1:]))),\n",
    "    #y=Y_masked,\n",
    "    n_neighbors=n_neighbors,\n",
    ")"
   ]
  },
  {
   "cell_type": "code",
   "execution_count": 14,
   "metadata": {
    "ExecuteTime": {
     "end_time": "2020-08-14T07:03:05.669773Z",
     "start_time": "2020-08-14T07:03:05.490927Z"
    }
   },
   "outputs": [
    {
     "data": {
      "text/plain": [
       "50000"
      ]
     },
     "execution_count": 14,
     "metadata": {},
     "output_type": "execute_result"
    }
   ],
   "source": [
    "n_epochs = 200\n",
    "graph, epochs_per_sample, head, tail, weight, n_vertices = get_graph_elements(\n",
    "            umap_graph, n_epochs\n",
    ")\n",
    "batch_size = np.min([n_vertices, 60000])\n",
    "batch_size"
   ]
  },
  {
   "cell_type": "code",
   "execution_count": 15,
   "metadata": {
    "ExecuteTime": {
     "end_time": "2020-08-14T07:03:05.707290Z",
     "start_time": "2020-08-14T07:03:05.671009Z"
    }
   },
   "outputs": [],
   "source": [
    "negative_sample_rate = 5"
   ]
  },
  {
   "cell_type": "code",
   "execution_count": 16,
   "metadata": {
    "ExecuteTime": {
     "end_time": "2020-08-14T07:03:05.748117Z",
     "start_time": "2020-08-14T07:03:05.708533Z"
    }
   },
   "outputs": [],
   "source": [
    "from umap.spectral import spectral_layout\n",
    "\n",
    "from sklearn.utils import check_random_state\n",
    "\n",
    "random_state = check_random_state(None)\n",
    "metric = \"euclidean\"\n",
    "_metric_kwds = {}\n",
    "def init_embedding_from_graph(_raw_data, graph, n_components, random_state, metric, _metric_kwds, init=\"spectral\"):\n",
    "        \"\"\" Initialize embedding using graph. This is for direct embeddings. \n",
    "\n",
    "        Parameters\n",
    "        ----------\n",
    "        init : str, optional\n",
    "            Type of initialization to use. Either random, or spectral, by default \"spectral\"\n",
    "\n",
    "        Returns\n",
    "        -------\n",
    "        embedding : np.array\n",
    "            the initialized embedding\n",
    "        \"\"\"\n",
    "        if isinstance(init, str) and init == \"random\":\n",
    "            embedding = random_state.uniform(\n",
    "                low=-10.0, high=10.0, size=(graph.shape[0], n_components)\n",
    "            ).astype(np.float32)\n",
    "        elif isinstance(init, str) and init == \"spectral\":\n",
    "            # We add a little noise to avoid local minima for optimization to come\n",
    "\n",
    "            initialisation = spectral_layout(\n",
    "                _raw_data,\n",
    "                graph,\n",
    "                n_components,\n",
    "                random_state,\n",
    "                metric=metric,\n",
    "                metric_kwds=_metric_kwds,\n",
    "            )\n",
    "            expansion = 10.0 / np.abs(initialisation).max()\n",
    "            embedding = (initialisation * expansion).astype(\n",
    "                np.float32\n",
    "            ) + random_state.normal(\n",
    "                scale=0.0001, size=[graph.shape[0], n_components]\n",
    "            ).astype(\n",
    "                np.float32\n",
    "            )\n",
    "\n",
    "        else:\n",
    "            init_data = np.array(init)\n",
    "            if len(init_data.shape) == 2:\n",
    "                if np.unique(init_data, axis=0).shape[0] < init_data.shape[0]:\n",
    "                    tree = KDTree(init_data)\n",
    "                    dist, ind = tree.query(init_data, k=2)\n",
    "                    nndist = np.mean(dist[:, 1])\n",
    "                    embedding = init_data + random_state.normal(\n",
    "                        scale=0.001 * nndist, size=init_data.shape\n",
    "                    ).astype(np.float32)\n",
    "                else:\n",
    "                    embedding = init_data\n",
    "\n",
    "        return embedding"
   ]
  },
  {
   "cell_type": "code",
   "execution_count": 17,
   "metadata": {
    "ExecuteTime": {
     "end_time": "2020-08-14T07:03:08.515037Z",
     "start_time": "2020-08-14T07:03:05.749311Z"
    }
   },
   "outputs": [],
   "source": [
    "embedding_init = init_embedding_from_graph(X_train, graph, n_components, random_state, metric, _metric_kwds, init=\"spectral\")"
   ]
  },
  {
   "cell_type": "code",
   "execution_count": 18,
   "metadata": {
    "ExecuteTime": {
     "end_time": "2020-08-14T07:03:10.099294Z",
     "start_time": "2020-08-14T07:03:08.516318Z"
    }
   },
   "outputs": [
    {
     "data": {
      "text/plain": [
       "<matplotlib.collections.PathCollection at 0x7fd892c296a0>"
      ]
     },
     "execution_count": 18,
     "metadata": {},
     "output_type": "execute_result"
    },
    {
     "data": {
      "image/png": "[encoded data removed]",
      "text/plain": [
       "<Figure size 432x288 with 1 Axes>"
      ]
     },
     "metadata": {
      "needs_background": "light"
     },
     "output_type": "display_data"
    }
   ],
   "source": [
    "plt.scatter(embedding_init[:,0], embedding_init[:,1], c=Y_train, s=1, cmap=plt.cm.tab10)"
   ]
  },
  {
   "cell_type": "markdown",
   "metadata": {},
   "source": [
    "#### Build network"
   ]
  },
  {
   "cell_type": "code",
   "execution_count": 19,
   "metadata": {
    "ExecuteTime": {
     "end_time": "2020-08-14T07:03:10.930635Z",
     "start_time": "2020-08-14T07:03:10.100625Z"
    }
   },
   "outputs": [],
   "source": [
    "def umap_loss(batch_size, negative_sample_rate, _a, _b, repulsion_strength = 1.0):\n",
    "    \n",
    "    weights_tiled = np.tile(weight, negative_sample_rate + 1)\n",
    "    \n",
    "    @tf.function\n",
    "    def loss(placeholder_y, embed_to_from):\n",
    "        # split out to/from\n",
    "        embedding_to, embedding_from = tf.split(embed_to_from, num_or_size_splits=2, axis=1)\n",
    "\n",
    "        # get negative samples\n",
    "        embedding_neg_to = tf.repeat(embedding_to, negative_sample_rate, axis=0)\n",
    "        repeat_neg = tf.repeat(embedding_from, negative_sample_rate, axis=0)\n",
    "        embedding_neg_from = tf.gather(\n",
    "            repeat_neg, tf.random.shuffle(tf.range(tf.shape(repeat_neg)[0]))\n",
    "        )\n",
    "\n",
    "        #  distances between samples (and negative samples)\n",
    "        distance_embedding = tf.concat(\n",
    "            [\n",
    "                tf.norm(embedding_to - embedding_from, axis=1),\n",
    "                tf.norm(embedding_neg_to - embedding_neg_from, axis=1),\n",
    "            ],\n",
    "            axis=0,\n",
    "        )\n",
    "\n",
    "        # convert probabilities to distances\n",
    "        probabilities_distance = convert_distance_to_probability(\n",
    "            distance_embedding, _a, _b\n",
    "        )\n",
    "        \n",
    "        # set true probabilities based on negative sampling\n",
    "        probabilities_graph = tf.concat(\n",
    "            [tf.ones(batch_size), tf.zeros(batch_size * negative_sample_rate)],\n",
    "            axis=0,\n",
    "        )\n",
    "                \n",
    "        # compute cross entropy\n",
    "        (attraction_loss, repellant_loss, ce_loss) = compute_cross_entropy(\n",
    "            probabilities_graph,\n",
    "            probabilities_distance,\n",
    "            repulsion_strength=repulsion_strength,\n",
    "        )\n",
    "        ce_loss = ce_loss * weights_tiled\n",
    "        #ce_loss = ce_loss * alpha\n",
    "        #return tf.reduce_mean(ce_loss)\n",
    "        return ce_loss\n",
    "\n",
    "    return loss"
   ]
  },
  {
   "cell_type": "code",
   "execution_count": 20,
   "metadata": {
    "ExecuteTime": {
     "end_time": "2020-08-14T07:03:10.997521Z",
     "start_time": "2020-08-14T07:03:10.933465Z"
    }
   },
   "outputs": [],
   "source": [
    "def make_gen_callable(n_edges, batch_size):\n",
    "    def edge_generator():\n",
    "        while True:\n",
    "            yield tf.zeros(1, dtype=tf.int32), tf.zeros(1, dtype=tf.int32)\n",
    "\n",
    "    return edge_generator"
   ]
  },
  {
   "cell_type": "code",
   "execution_count": 21,
   "metadata": {
    "ExecuteTime": {
     "end_time": "2020-08-14T07:03:11.031862Z",
     "start_time": "2020-08-14T07:03:10.999042Z"
    }
   },
   "outputs": [
    {
     "data": {
      "text/plain": [
       "1029630"
      ]
     },
     "execution_count": 21,
     "metadata": {},
     "output_type": "execute_result"
    }
   ],
   "source": [
    "n_edges = len(head)\n",
    "n_edges"
   ]
  },
  {
   "cell_type": "code",
   "execution_count": 22,
   "metadata": {
    "ExecuteTime": {
     "end_time": "2020-08-14T07:03:11.073681Z",
     "start_time": "2020-08-14T07:03:11.033421Z"
    }
   },
   "outputs": [],
   "source": [
    "gen = make_gen_callable(n_edges, batch_size)"
   ]
  },
  {
   "cell_type": "code",
   "execution_count": 23,
   "metadata": {
    "ExecuteTime": {
     "end_time": "2020-08-14T07:03:11.185868Z",
     "start_time": "2020-08-14T07:03:11.075129Z"
    }
   },
   "outputs": [],
   "source": [
    "edge_iter = tf.data.Dataset.from_generator(gen, (tf.int32, tf.int32))"
   ]
  },
  {
   "cell_type": "markdown",
   "metadata": {},
   "source": [
    "### initialize embedding"
   ]
  },
  {
   "cell_type": "code",
   "execution_count": 24,
   "metadata": {
    "ExecuteTime": {
     "end_time": "2020-08-14T07:03:11.282831Z",
     "start_time": "2020-08-14T07:03:11.187541Z"
    }
   },
   "outputs": [],
   "source": [
    "from tensorflow.keras.layers import Input"
   ]
  },
  {
   "cell_type": "code",
   "execution_count": 25,
   "metadata": {
    "ExecuteTime": {
     "end_time": "2020-08-14T07:03:11.415245Z",
     "start_time": "2020-08-14T07:03:11.284927Z"
    }
   },
   "outputs": [],
   "source": [
    "n_data = len(X_train)\n",
    "embedding_layer = tf.keras.layers.Embedding(n_data, n_components, input_length=1)\n",
    "embedding_layer.build(input_shape=(1,)) # the input_shape here has no effect in the build function\n",
    "embedding_layer.set_weights([embedding_init])\n",
    "encoder = tf.keras.Sequential([embedding_layer])"
   ]
  },
  {
   "cell_type": "code",
   "execution_count": 26,
   "metadata": {
    "ExecuteTime": {
     "end_time": "2020-08-14T07:03:11.465181Z",
     "start_time": "2020-08-14T07:03:11.416753Z"
    }
   },
   "outputs": [],
   "source": [
    "batch_size = len(head)"
   ]
  },
  {
   "cell_type": "code",
   "execution_count": 27,
   "metadata": {
    "ExecuteTime": {
     "end_time": "2020-08-14T07:03:11.559957Z",
     "start_time": "2020-08-14T07:03:11.466794Z"
    }
   },
   "outputs": [],
   "source": [
    "to_ = tf.constant(tf.expand_dims(head,0))\n",
    "from_ = tf.constant(tf.expand_dims(tail, 0))"
   ]
  },
  {
   "cell_type": "code",
   "execution_count": 28,
   "metadata": {
    "ExecuteTime": {
     "end_time": "2020-08-14T07:03:11.625760Z",
     "start_time": "2020-08-14T07:03:11.561148Z"
    }
   },
   "outputs": [
    {
     "data": {
      "text/plain": [
       "TensorShape([1, 1029630])"
      ]
     },
     "execution_count": 28,
     "metadata": {},
     "output_type": "execute_result"
    }
   ],
   "source": [
    "to_.shape"
   ]
  },
  {
   "cell_type": "code",
   "execution_count": 29,
   "metadata": {
    "ExecuteTime": {
     "end_time": "2020-08-14T07:03:11.765887Z",
     "start_time": "2020-08-14T07:03:11.626562Z"
    }
   },
   "outputs": [],
   "source": [
    "batch_sample = Input(shape=(1), dtype=tf.int32, name = \"to_x\")\n",
    "\n",
    "to_x = tf.squeeze(tf.gather(to_, tf.cast(batch_sample, tf.int32)[0]))\n",
    "from_x = tf.squeeze(tf.gather(from_, tf.cast(batch_sample, tf.int32)[0]))\n",
    "\n",
    "embedding_to = encoder(to_x)[:,-1,:]\n",
    "embedding_from = encoder(from_x)[:,-1,:]\n",
    "\n",
    "embedding_to_from = tf.keras.layers.concatenate([embedding_to, embedding_from],axis=1)\n",
    "embedding_to_from = tf.keras.layers.Lambda(lambda x: x, name='umap')(embedding_to_from)\n",
    "\n",
    "model = tf.keras.Model(\n",
    "    inputs=[batch_sample],\n",
    "    outputs=[embedding_to_from],#[embedding_to_from],\n",
    ")"
   ]
  },
  {
   "cell_type": "code",
   "execution_count": 30,
   "metadata": {
    "ExecuteTime": {
     "end_time": "2020-08-14T07:03:11.843558Z",
     "start_time": "2020-08-14T07:03:11.767043Z"
    }
   },
   "outputs": [
    {
     "data": {
      "text/plain": [
       "<tf.Tensor 'umap/umap/Identity:0' shape=(1029630, 4) dtype=float32>"
      ]
     },
     "execution_count": 30,
     "metadata": {},
     "output_type": "execute_result"
    }
   ],
   "source": [
    "embedding_to_from"
   ]
  },
  {
   "cell_type": "code",
   "execution_count": 31,
   "metadata": {
    "ExecuteTime": {
     "end_time": "2020-08-14T07:03:12.065434Z",
     "start_time": "2020-08-14T07:03:11.844563Z"
    }
   },
   "outputs": [],
   "source": [
    "model.compile(\n",
    "    optimizer=tf.keras.optimizers.Adam(0.1),\n",
    "    loss=umap_loss(batch_size, negative_sample_rate, _a, _b),\n",
    ")"
   ]
  },
  {
   "cell_type": "markdown",
   "metadata": {},
   "source": [
    "#### train"
   ]
  },
  {
   "cell_type": "code",
   "execution_count": 32,
   "metadata": {
    "ExecuteTime": {
     "end_time": "2020-08-14T07:09:18.232035Z",
     "start_time": "2020-08-14T07:03:12.066684Z"
    }
   },
   "outputs": [
    {
     "name": "stdout",
     "output_type": "stream",
     "text": [
      "Epoch 1/25\n",
      "100/100 [==============================] - 14s 141ms/step - loss: 0.0501\n",
      "Epoch 2/25\n",
      "100/100 [==============================] - 15s 145ms/step - loss: 0.0386\n",
      "Epoch 3/25\n",
      "100/100 [==============================] - 14s 142ms/step - loss: 0.0363\n",
      "Epoch 4/25\n",
      "100/100 [==============================] - 14s 140ms/step - loss: 0.0351\n",
      "Epoch 5/25\n",
      "100/100 [==============================] - 14s 141ms/step - loss: 0.0345\n",
      "Epoch 6/25\n",
      "100/100 [==============================] - 14s 142ms/step - loss: 0.0340\n",
      "Epoch 7/25\n",
      "100/100 [==============================] - 14s 140ms/step - loss: 0.0336\n",
      "Epoch 8/25\n",
      "100/100 [==============================] - 14s 144ms/step - loss: 0.0333\n",
      "Epoch 9/25\n",
      "100/100 [==============================] - 14s 142ms/step - loss: 0.0331\n",
      "Epoch 10/25\n",
      "100/100 [==============================] - 15s 147ms/step - loss: 0.0329\n",
      "Epoch 11/25\n",
      "100/100 [==============================] - 14s 142ms/step - loss: 0.0327\n",
      "Epoch 12/25\n",
      "100/100 [==============================] - 14s 141ms/step - loss: 0.0325\n",
      "Epoch 13/25\n",
      "100/100 [==============================] - 14s 144ms/step - loss: 0.0324\n",
      "Epoch 14/25\n",
      "100/100 [==============================] - 15s 147ms/step - loss: 0.0323\n",
      "Epoch 15/25\n",
      "100/100 [==============================] - 15s 148ms/step - loss: 0.0322\n",
      "Epoch 16/25\n",
      "100/100 [==============================] - 14s 140ms/step - loss: 0.0321\n",
      "Epoch 17/25\n",
      "100/100 [==============================] - 14s 143ms/step - loss: 0.0321\n",
      "Epoch 18/25\n",
      "100/100 [==============================] - 15s 149ms/step - loss: 0.0320\n",
      "Epoch 19/25\n",
      "100/100 [==============================] - 14s 145ms/step - loss: 0.0319\n",
      "Epoch 20/25\n",
      "100/100 [==============================] - 15s 149ms/step - loss: 0.0319\n",
      "Epoch 21/25\n",
      "100/100 [==============================] - 15s 146ms/step - loss: 0.0319\n",
      "Epoch 22/25\n",
      "100/100 [==============================] - 14s 142ms/step - loss: 0.0319\n",
      "Epoch 23/25\n",
      "100/100 [==============================] - 15s 145ms/step - loss: 0.0318\n",
      "Epoch 24/25\n",
      "100/100 [==============================] - 15s 149ms/step - loss: 0.0318\n",
      "Epoch 25/25\n",
      "100/100 [==============================] - 14s 145ms/step - loss: 0.0318\n"
     ]
    }
   ],
   "source": [
    "history = model.fit(\n",
    "    edge_iter,\n",
    "    epochs=25,\n",
    "    steps_per_epoch = 100,\n",
    "    max_queue_size = 5,\n",
    "    #use_multiprocessing=True, \n",
    "    #workers = -1,\n",
    ")"
   ]
  },
  {
   "cell_type": "code",
   "execution_count": 33,
   "metadata": {
    "ExecuteTime": {
     "end_time": "2020-08-14T07:09:19.181041Z",
     "start_time": "2020-08-14T07:09:18.234216Z"
    }
   },
   "outputs": [],
   "source": [
    "z = encoder.weights[0].numpy()"
   ]
  },
  {
   "cell_type": "code",
   "execution_count": 34,
   "metadata": {
    "ExecuteTime": {
     "end_time": "2020-08-14T07:09:20.479121Z",
     "start_time": "2020-08-14T07:09:19.183168Z"
    }
   },
   "outputs": [
    {
     "data": {
      "image/png": "[encoded data removed]",
      "text/plain": [
       "<Figure size 576x576 with 2 Axes>"
      ]
     },
     "metadata": {
      "needs_background": "light"
     },
     "output_type": "display_data"
    }
   ],
   "source": [
    "fig, ax = plt.subplots( figsize=(8, 8))\n",
    "sc = ax.scatter(\n",
    "    z[:, 0],\n",
    "    z[:, 1],\n",
    "    c=Y_train.astype(int)[:len(z)],\n",
    "    cmap=\"tab10\",\n",
    "    s=0.1,\n",
    "    alpha=0.5,\n",
    "    rasterized=True,\n",
    ")\n",
    "ax.axis('equal')\n",
    "ax.set_title(\"UMAP in Tensorflow embedding\", fontsize=20)\n",
    "plt.colorbar(sc, ax=ax);"
   ]
  },
  {
   "cell_type": "code",
   "execution_count": 35,
   "metadata": {
    "ExecuteTime": {
     "end_time": "2020-08-14T07:09:20.613817Z",
     "start_time": "2020-08-14T07:09:20.480429Z"
    }
   },
   "outputs": [
    {
     "data": {
      "text/plain": [
       "[<matplotlib.lines.Line2D at 0x7fd834524400>]"
      ]
     },
     "execution_count": 35,
     "metadata": {},
     "output_type": "execute_result"
    },
    {
     "data": {
      "image/png": "[encoded data removed]",
      "text/plain": [
       "<Figure size 432x288 with 1 Axes>"
      ]
     },
     "metadata": {
      "needs_background": "light"
     },
     "output_type": "display_data"
    }
   ],
   "source": [
    "plt.plot(history.history['loss'])"
   ]
  },
  {
   "cell_type": "code",
   "execution_count": null,
   "metadata": {},
   "outputs": [],
   "source": []
  }
 ],
 "metadata": {
  "kernelspec": {
   "display_name": "Python 3",
   "language": "python",
   "name": "python3"
  },
  "language_info": {
   "codemirror_mode": {
    "name": "ipython",
    "version": 3
   },
   "file_extension": ".py",
   "mimetype": "text/x-python",
   "name": "python",
   "nbconvert_exporter": "python",
   "pygments_lexer": "ipython3",
   "version": "3.6.7"
  }
 },
 "nbformat": 4,
 "nbformat_minor": 2
}
