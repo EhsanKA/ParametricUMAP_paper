{
 "cells": [
  {
   "cell_type": "code",
   "execution_count": 1,
   "metadata": {
    "ExecuteTime": {
     "end_time": "2020-08-13T17:22:40.582213Z",
     "start_time": "2020-08-13T17:22:40.568495Z"
    }
   },
   "outputs": [],
   "source": [
    "# reload packages\n",
    "%load_ext autoreload\n",
    "%autoreload 2"
   ]
  },
  {
   "cell_type": "markdown",
   "metadata": {},
   "source": [
    "### Choose GPU (this may not be needed on your computer)"
   ]
  },
  {
   "cell_type": "code",
   "execution_count": 2,
   "metadata": {
    "ExecuteTime": {
     "end_time": "2020-08-13T17:22:40.592697Z",
     "start_time": "2020-08-13T17:22:40.584064Z"
    }
   },
   "outputs": [
    {
     "name": "stdout",
     "output_type": "stream",
     "text": [
      "env: CUDA_DEVICE_ORDER=PCI_BUS_ID\n",
      "env: CUDA_VISIBLE_DEVICES=0\n"
     ]
    }
   ],
   "source": [
    "%env CUDA_DEVICE_ORDER=PCI_BUS_ID\n",
    "%env CUDA_VISIBLE_DEVICES=0"
   ]
  },
  {
   "cell_type": "markdown",
   "metadata": {},
   "source": [
    "### load packages"
   ]
  },
  {
   "cell_type": "code",
   "execution_count": 3,
   "metadata": {
    "ExecuteTime": {
     "end_time": "2020-08-13T17:22:48.432456Z",
     "start_time": "2020-08-13T17:22:40.594214Z"
    }
   },
   "outputs": [
    {
     "name": "stderr",
     "output_type": "stream",
     "text": [
      "/mnt/cube/tsainbur/conda_envs/tpy3/lib/python3.6/site-packages/tqdm/autonotebook/__init__.py:14: TqdmExperimentalWarning: Using `tqdm.autonotebook.tqdm` in notebook mode. Use `tqdm.tqdm` instead to force console mode (e.g. in jupyter console)\n",
      "  \" (e.g. in jupyter console)\", TqdmExperimentalWarning)\n"
     ]
    }
   ],
   "source": [
    "from tfumap.umap import tfUMAP"
   ]
  },
  {
   "cell_type": "code",
   "execution_count": 4,
   "metadata": {
    "ExecuteTime": {
     "end_time": "2020-08-13T17:22:48.551429Z",
     "start_time": "2020-08-13T17:22:48.434201Z"
    }
   },
   "outputs": [],
   "source": [
    "import tensorflow as tf\n",
    "import numpy as np\n",
    "import matplotlib.pyplot as plt\n",
    "from tqdm.autonotebook import tqdm\n",
    "import umap\n",
    "import pandas as pd"
   ]
  },
  {
   "cell_type": "markdown",
   "metadata": {},
   "source": [
    "### Load dataset"
   ]
  },
  {
   "cell_type": "code",
   "execution_count": 5,
   "metadata": {
    "ExecuteTime": {
     "end_time": "2020-08-13T17:22:48.600229Z",
     "start_time": "2020-08-13T17:22:48.553452Z"
    }
   },
   "outputs": [],
   "source": [
    "from tensorflow.keras.datasets import mnist"
   ]
  },
  {
   "cell_type": "code",
   "execution_count": 6,
   "metadata": {
    "ExecuteTime": {
     "end_time": "2020-08-13T17:22:49.008603Z",
     "start_time": "2020-08-13T17:22:48.602329Z"
    }
   },
   "outputs": [
    {
     "name": "stdout",
     "output_type": "stream",
     "text": [
      "50000 10000 10000\n"
     ]
    }
   ],
   "source": [
    "# load dataset\n",
    "(train_images, Y_train), (test_images, Y_test) = mnist.load_data()\n",
    "X_train = (train_images/255.).astype('float32')\n",
    "X_test = (test_images/255.).astype('float32')\n",
    "X_train = X_train.reshape((len(X_train), np.product(np.shape(X_train)[1:])))\n",
    "X_test = X_test.reshape((len(X_test), np.product(np.shape(X_test)[1:])))\n",
    "\n",
    "# subset a validation set\n",
    "n_valid = 10000\n",
    "X_valid = X_train[-n_valid:]\n",
    "Y_valid = Y_train[-n_valid:]\n",
    "X_train = X_train[:-n_valid]\n",
    "Y_train = Y_train[:-n_valid]\n",
    "\n",
    "# flatten X\n",
    "X_train_flat = X_train.reshape((len(X_train), np.product(np.shape(X_train)[1:])))\n",
    "X_test_flat = X_test.reshape((len(X_test), np.product(np.shape(X_test)[1:])))\n",
    "X_valid_flat= X_valid.reshape((len(X_valid), np.product(np.shape(X_valid)[1:])))\n",
    "print(len(X_train), len(X_valid), len(X_test))"
   ]
  },
  {
   "cell_type": "markdown",
   "metadata": {},
   "source": [
    "### Create model and train"
   ]
  },
  {
   "cell_type": "code",
   "execution_count": 7,
   "metadata": {
    "ExecuteTime": {
     "end_time": "2020-08-13T17:22:49.059099Z",
     "start_time": "2020-08-13T17:22:49.010584Z"
    }
   },
   "outputs": [],
   "source": [
    "def convert_distance_to_probability(distances, a, b):\n",
    "    \"\"\" convert distance representation into probability, \n",
    "        as a function of a, b params\n",
    "    \"\"\"\n",
    "    return 1.0 / (1.0 + a * distances ** (2 * b))\n",
    "\n",
    "\n",
    "def compute_cross_entropy(\n",
    "    probabilities_graph, probabilities_distance, EPS=1e-4, repulsion_strength=1.0\n",
    "):\n",
    "    \"\"\"\n",
    "    Compute cross entropy between low and high probability\n",
    "\n",
    "    Parameters\n",
    "    ----------\n",
    "    probabilities_graph : [type]\n",
    "        high dimensional probabilities\n",
    "    probabilities_distance : [type]\n",
    "        low dimensional probabilities\n",
    "    EPS : [type], optional\n",
    "        offset to to ensure log is taken of a positive number, by default 1e-4\n",
    "    repulsion_strength : float, optional\n",
    "        strength of repulsion between negative samples, by default 1.0\n",
    "\n",
    "    Returns\n",
    "    -------\n",
    "    attraction_term: tf.float32\n",
    "        attraction term for cross entropy loss\n",
    "    repellant_term: tf.float32\n",
    "        repellant term for cross entropy loss\n",
    "    cross_entropy: tf.float32\n",
    "        cross entropy umap loss\n",
    "    \n",
    "    \"\"\"\n",
    "    # cross entropy\n",
    "    attraction_term = -probabilities_graph * tf.math.log(\n",
    "        tf.clip_by_value(probabilities_distance, EPS, 1.0)\n",
    "    )\n",
    "    repellant_term = (\n",
    "        -(1.0 - probabilities_graph)\n",
    "        * tf.math.log(tf.clip_by_value(1.0 - probabilities_distance, EPS, 1.0))\n",
    "        * repulsion_strength\n",
    "    )\n",
    "\n",
    "    # balance the expected losses between atrraction and repel\n",
    "    CE = attraction_term + repellant_term\n",
    "    return attraction_term, repellant_term, CE\n",
    "\n",
    "\n",
    "def remove_redundant_edges(graph):\n",
    "    \"\"\"\n",
    "    Removes redunancies in graph\n",
    "    \"\"\"\n",
    "    edges = graph.nonzero()\n",
    "    # remove redundancies\n",
    "    redundant_edges = edges[0] <= edges[1]\n",
    "    edges = (edges[0][redundant_edges], edges[1][redundant_edges])\n",
    "    # reconstruct graph\n",
    "    graph = csr_matrix(\n",
    "        (np.array(graph[edges]).flatten(), (edges[0], edges[1])), shape=graph.shape\n",
    "    )\n",
    "    return graph\n",
    "\n",
    "\n",
    "def get_graph_elements(graph_, n_epochs):\n",
    "    \"\"\"\n",
    "    gets elements of graphs, weights, and number of epochs per edge\n",
    "\n",
    "    Parameters\n",
    "    ----------\n",
    "    graph_ : [type]\n",
    "        umap graph of probabilities\n",
    "    n_epochs : int\n",
    "        maximum number of epochs per edge\n",
    "\n",
    "    Returns\n",
    "    -------\n",
    "    graph [type]\n",
    "        umap graph\n",
    "    epochs_per_sample np.array\n",
    "        number of epochs to train each sample for\n",
    "    head np.array\n",
    "        edge head\n",
    "    tail np.array\n",
    "        edge tail\n",
    "    weight np.array\n",
    "        edge weight\n",
    "    n_vertices int\n",
    "        number of verticies in graph\n",
    "    \"\"\"\n",
    "    ### should we remove redundancies () here??\n",
    "    # graph_ = remove_redundant_edges(graph_)\n",
    "\n",
    "    graph = graph_.tocoo()\n",
    "    # eliminate duplicate entries by summing them together\n",
    "    graph.sum_duplicates()\n",
    "    # number of vertices in dataset\n",
    "    n_vertices = graph.shape[1]\n",
    "    # get the number of epochs based on the size of the dataset\n",
    "    if n_epochs is None:\n",
    "        # For smaller datasets we can use more epochs\n",
    "        if graph.shape[0] <= 10000:\n",
    "            n_epochs = 500\n",
    "        else:\n",
    "            n_epochs = 200\n",
    "    # remove elements with very low probability\n",
    "    graph.data[graph.data < (graph.data.max() / float(n_epochs))] = 0.0\n",
    "    graph.eliminate_zeros()\n",
    "    # get epochs per sample based upon edge probability\n",
    "    epochs_per_sample = make_epochs_per_sample(graph.data, n_epochs)\n",
    "\n",
    "    head = graph.row\n",
    "    tail = graph.col\n",
    "    weight = graph.data\n",
    "\n",
    "    return graph, epochs_per_sample, head, tail, weight, n_vertices\n",
    "\n",
    "\n"
   ]
  },
  {
   "cell_type": "code",
   "execution_count": 8,
   "metadata": {
    "ExecuteTime": {
     "end_time": "2020-08-13T17:22:49.141831Z",
     "start_time": "2020-08-13T17:22:49.060604Z"
    }
   },
   "outputs": [],
   "source": [
    "# base umap embedding with tensorflow\n",
    "# Author: Tim Sainburg\n",
    "\n",
    "import tensorflow as tf\n",
    "import numpy as np\n",
    "from tfumap.base import UMAP_tensorflow\n",
    "from tqdm.autonotebook import tqdm\n",
    "import os\n",
    "import pandas as pd\n",
    "import tempfile\n",
    "import pickle\n",
    "from pathlib2 import Path\n",
    "import codecs\n",
    "from numba import TypingError\n",
    "\n",
    "tf.get_logger().setLevel(\"INFO\")\n",
    "\n",
    "from umap.umap_ import make_epochs_per_sample\n",
    "from scipy.sparse import csr_matrix\n",
    "\n",
    "from datetime import datetime\n",
    "from sklearn.utils import check_random_state\n",
    "from sklearn.neighbors import KDTree\n",
    "import joblib\n",
    "from umap.utils import ts\n",
    "from umap.spectral import spectral_layout\n",
    "\n",
    "from tensorboard.backend.event_processing.event_accumulator import EventAccumulator\n",
    "\n",
    "\n",
    "class tfUMAP(UMAP_tensorflow):\n",
    "    def __init__(\n",
    "        self,\n",
    "        optimizer=None,\n",
    "        tensorboard_logdir=None,  # directory for tensorboard log\n",
    "        batch_size=None,  # size of batch used for batch training\n",
    "        dims=None,  # dimensionality of data, if not flat (e.g. images for ConvNet)\n",
    "        negative_sample_rate=2,  # how many negative samples per positive samples for training\n",
    "        max_sample_repeats_per_epoch=None,  # (setting this value to 1 is equivalent to computing UMAP on nearest neighbors graph without fuzzy_simplicial_set)\n",
    "        direct_embedding=False,  # whether to learn embeddings directly, or use neural network\n",
    "        encoder=None,  # the neural net used for encoding (defaults to 3 layer 100 neuron fc)\n",
    "        decoder=None,  # the neural net used for decoding (defaults to 3 layer 100 neuron fc)\n",
    "        training_epochs=None,  # number of epochs to train for ()\n",
    "        decoding_method=None,  # how to decode \"autoencoder\", \"network\", or None\n",
    "        valid_X=None,  # validation data for reconstruction and classification error\n",
    "        valid_Y=None,  # validation labels for reconstruction and classification error\n",
    "        umap_loss_weight=1.0,  # weight for the umap loss\n",
    "        reconstruction_loss_weight=1.0,  # weight for the reconstruction loss\n",
    "        **kwargs\n",
    "    ):\n",
    "        \"\"\" UMAP in tensorflow. \n",
    "        Subclass of UMAP that performs embeddings using tensorflow. \n",
    "\n",
    "        Parameters\n",
    "        ----------\n",
    "        optimizer : tf.keras.optimizers, optional\n",
    "            The tensorflow optimizer used for embedding. Usually ADAM for neural nets\n",
    "            and adadelta for direct optimization, by default None\n",
    "        tensorboard_logdir : str, optional\n",
    "            Location to place tensorboard logs, by default None\n",
    "        batch_size : int, optional\n",
    "            size of batch used for batch training, by default None\n",
    "        dims : tuple, optional\n",
    "            dimensionality of data, if not flat (e.g. images for ConvNet), by default None\n",
    "        negative_sample_rate : int, optional\n",
    "            How many negative samples per positive samples for training, by default 2\n",
    "        max_sample_repeats_per_epoch : int, optional\n",
    "            maximum number of times each edge can be sampled for one epoch (setting this value to\n",
    "             1 is equivalent to computing UMAP on nearest neighbors graph without \n",
    "             fuzzy_simplicial_set), by default None\n",
    "        direct_embedding : bool, optional\n",
    "            whether to learn embeddings directly, or use neural network, by default False\n",
    "        encoder : tf.keras.Sequential, optional\n",
    "            the neural net used for encoding (defaults to 3 layer 100 neuron fc), by default None\n",
    "        decoder : tf.keras.Sequential, optional\n",
    "            the neural net used for decoding (defaults to 3 layer 100 neuron fc), by default None\n",
    "        training_epochs : int, optional\n",
    "            number of epochs to train for. Seperate from n_epochs, which here is used for determining\n",
    "            the number of training samples per edge based on probability., by default 50\n",
    "        decoding_method : string, optional (default None)\n",
    "            how to decode. Options are:\n",
    "                * \"autoencoder\"\n",
    "                * \"network\"\n",
    "                * None\n",
    "        valid_X : np.array, optional\n",
    "            validation data for reconstruction error, by default None\n",
    "        valid_Y : np.array, optional\n",
    "            validation labels for reconstruction error, by default None\n",
    "        umap_loss_weight : float, optional\n",
    "            weight for the umap loss, by default 1.0\n",
    "        reconstruction_loss_weight : float, optional\n",
    "            weight for the reconstruction loss, by default 1.0\n",
    "        \"\"\"\n",
    "        # retrieve everything from base model\n",
    "        super().__init__(**kwargs)\n",
    "\n",
    "        self.batch_size = batch_size\n",
    "\n",
    "        self.max_sample_repeats_per_epoch = max_sample_repeats_per_epoch  # maximum number of repeated edges during training\n",
    "\n",
    "        # set weights for each loss component\n",
    "        self.reconstruction_loss_weight = reconstruction_loss_weight\n",
    "        self.umap_loss_weight = umap_loss_weight\n",
    "\n",
    "        # set optimizer, Adam is better for neural networks, Adadelta is better for direct embedding\n",
    "        if optimizer is None:\n",
    "            if direct_embedding:\n",
    "                self.optimizer = tf.keras.optimizers.Adadelta(50)\n",
    "            else:\n",
    "                self.optimizer = tf.keras.optimizers.Adam(1e-3)\n",
    "        else:\n",
    "            self.optimizer = optimizer\n",
    "\n",
    "        self.random_state = check_random_state(None)\n",
    "\n",
    "        self.dims = dims  # if this is an image, we should reshape for network\n",
    "        self.encoder = encoder  # neural network used for embedding\n",
    "        self.decoder = decoder  # neural network used for decoding\n",
    "        # whether to use a decoder, and what type  (\"autoencoder\", \"network\", None)\n",
    "        self.decoding_method = decoding_method\n",
    "\n",
    "        # whether to encode with encoder, or embed directly\n",
    "        self.direct_embedding = direct_embedding\n",
    "\n",
    "        self.valid_X = valid_X  # validation data used for reconstruction\n",
    "        # TODO valid_Y is not needed without a classifier\n",
    "        self.valid_Y = valid_Y  # validation labels used for\n",
    "\n",
    "        # make a binary cross entropy object for reconstruction\n",
    "        if self.decoding_method in [\"autoencoder\", \"network\"]:\n",
    "            self.binary_cross_entropy = tf.keras.losses.BinaryCrossentropy()\n",
    "\n",
    "        # number of training epochs. Different than n_epochs for base model\n",
    "        #   (which is still used, e.g. for embedding using original method)\n",
    "        self.training_epochs = training_epochs\n",
    "\n",
    "        # create summary writer to log loss information during training\n",
    "        if tensorboard_logdir is None:\n",
    "            self.tensorboard_logdir = os.path.join(\n",
    "                tempfile.gettempdir(),\n",
    "                \"tensorboard\",\n",
    "                datetime.now().strftime(\"%Y%m%d-%H%M%S\"),\n",
    "            )\n",
    "        else:\n",
    "            self.tensorboard_logdir = tensorboard_logdir\n",
    "        self.summary_writer_train = tf.summary.create_file_writer(\n",
    "            self.tensorboard_logdir + \"/train\"\n",
    "        )\n",
    "        self.summary_writer_valid = tf.summary.create_file_writer(\n",
    "            self.tensorboard_logdir + \"/valid\"\n",
    "        )\n",
    "\n",
    "    def compute_umap_loss(self, batch_to, batch_from):\n",
    "        \"\"\"\n",
    "        compute the cross entropy loss for learning embeddings\n",
    "\n",
    "        Parameters\n",
    "        ----------\n",
    "        batch_to : tf.int or tf.float32\n",
    "            Either X or the index locations of the embeddings for verticies (to)\n",
    "        batch_from : tf.int or tf.float32\n",
    "            Either X or the index locations of the embeddings for verticies (from)\n",
    "\n",
    "        Returns\n",
    "        -------\n",
    "        ce_loss : tf.float\n",
    "            cross entropy loss for UMAP\n",
    "        embedding_to : tf.float\n",
    "            embeddings for verticies (to)\n",
    "        embedding_from : tf.float\n",
    "            embeddings for verticies (from)\n",
    "        \"\"\"\n",
    "\n",
    "        if self.direct_embedding:\n",
    "            # get the embeddings\n",
    "            embedding_to = tf.gather(self.embedding, batch_to)\n",
    "            embedding_from = tf.gather(self.embedding, batch_from)\n",
    "        else:\n",
    "            # encode\n",
    "            embedding_to = self.encoder(batch_to)\n",
    "            embedding_from = self.encoder(batch_from)\n",
    "\n",
    "        # get negative samples\n",
    "        embedding_neg_to = tf.repeat(embedding_to, self.negative_sample_rate, axis=0)\n",
    "        repeat_neg = tf.repeat(embedding_from, self.negative_sample_rate, axis=0)\n",
    "        embedding_neg_from = tf.gather(\n",
    "            repeat_neg, tf.random.shuffle(tf.range(tf.shape(repeat_neg)[0]))\n",
    "        )\n",
    "\n",
    "        #  distances between samples\n",
    "        distance_embedding = tf.concat(\n",
    "            [\n",
    "                tf.norm(embedding_to - embedding_from, axis=1),\n",
    "                tf.norm(embedding_neg_to - embedding_neg_from, axis=1),\n",
    "            ],\n",
    "            axis=0,\n",
    "        )\n",
    "\n",
    "        # convert probabilities to distances\n",
    "        probabilities_distance = convert_distance_to_probability(\n",
    "            distance_embedding, self._a, self._b\n",
    "        )\n",
    "\n",
    "        # treat positive samples as p=1, and negative samples as p=0\n",
    "        probabilities_graph = tf.concat(\n",
    "            [tf.ones(embedding_to.shape[0]), tf.zeros(embedding_neg_to.shape[0])],\n",
    "            axis=0,\n",
    "        )\n",
    "\n",
    "        # cross entropy loss\n",
    "        (attraction_loss, repellant_loss, ce_loss) = compute_cross_entropy(\n",
    "            probabilities_graph,\n",
    "            probabilities_distance,\n",
    "            repulsion_strength=self.repulsion_strength,\n",
    "        )\n",
    "\n",
    "        return ce_loss, embedding_to, embedding_from\n",
    "\n",
    "\n",
    "    @tf.function\n",
    "    def train_batch(self, batch_to, batch_from):\n",
    "        \"\"\"\n",
    "        One training step for embedding / reconstructing \n",
    "\n",
    "        Parameters\n",
    "        ----------\n",
    "        batch_to : [type]\n",
    "            either data, or indices of data (if direct_embedding)\n",
    "        batch_from : [type]\n",
    "            either data, or indices of data (if direct_embedding)\n",
    "        Returns\n",
    "        -------\n",
    "        umap_loss\n",
    "            cross entropy loss for umap\n",
    "        reconstruction_loss\n",
    "            cross entropy loss for reconstruction\n",
    "        \"\"\"\n",
    "        with tf.GradientTape() as tape:\n",
    "            # all methods get UMAP loss\n",
    "            umap_loss, embedding_to, embedding_from = self.compute_umap_loss(\n",
    "                batch_to, batch_from\n",
    "            )\n",
    "            # get reconstruction loss if applicable\n",
    "            if self.decoding_method == \"autoencoder\":\n",
    "\n",
    "                # grab X data if using a direct embedding\n",
    "                if self.direct_embedding:\n",
    "                    # get the embeddings\n",
    "                    batch_to = tf.gather(self._raw_data, batch_to)\n",
    "                    batch_from = tf.gather(self._raw_data, batch_from)\n",
    "\n",
    "                umap_loss = tf.reduce_mean(umap_loss)\n",
    "                reconstruction_loss = tf.reduce_mean(\n",
    "                    [\n",
    "                        self.compute_reconstruction_loss(batch_to, embedding_to),\n",
    "                        self.compute_reconstruction_loss(batch_from, embedding_from),\n",
    "                    ]\n",
    "                )\n",
    "            elif self.decoding_method == \"network\":\n",
    "                # grab X data if using a direct embedding\n",
    "                if self.direct_embedding:\n",
    "                    # get the embeddings\n",
    "                    batch_to = tf.gather(self._raw_data, batch_to)\n",
    "                    batch_from = tf.gather(self._raw_data, batch_from)\n",
    "\n",
    "                umap_loss = tf.reduce_mean(umap_loss)\n",
    "                # the same loss as autoencoder, but stopping the gradient before the embedding\n",
    "                reconstruction_loss = tf.reduce_mean(\n",
    "                    [\n",
    "                        self.compute_reconstruction_loss(\n",
    "                            batch_to, tf.stop_gradient(embedding_to)\n",
    "                        ),\n",
    "                        self.compute_reconstruction_loss(\n",
    "                            batch_from, tf.stop_gradient(embedding_from)\n",
    "                        ),\n",
    "                    ]\n",
    "                )\n",
    "            else:\n",
    "                reconstruction_loss = 0.0\n",
    "\n",
    "            loss = (\n",
    "                umap_loss * self.umap_loss_weight\n",
    "                + reconstruction_loss * self.reconstruction_loss_weight\n",
    "            )\n",
    "\n",
    "            grads = tape.gradient(loss, self.training_variables)\n",
    "            grads = [tf.clip_by_value(grad, -4.0, 4.0) * self.alpha for grad in grads]\n",
    "            self.optimizer.apply_gradients(zip(grads, self.training_variables))\n",
    "\n",
    "        return umap_loss, reconstruction_loss\n",
    "\n",
    "    def batch_epoch_edges(self, edges_to, edges_from):\n",
    "        \"\"\" permutes and batches edges for epoch\n",
    "        \"\"\"\n",
    "        # compute the number of batches in one epoch\n",
    "        n_batches = int(len(edges_to) / self.batch_size)\n",
    "        # permute list of edges\n",
    "        permutation_mask = np.random.permutation(len(edges_to))[\n",
    "            : n_batches * self.batch_size\n",
    "        ]\n",
    "        to_all = tf.reshape(\n",
    "            tf.gather(edges_to, permutation_mask), (n_batches, self.batch_size)\n",
    "        )\n",
    "        from_all = tf.reshape(\n",
    "            tf.gather(edges_from, permutation_mask), (n_batches, self.batch_size)\n",
    "        )\n",
    "        # return a tensorflow dataset of one epoch's worth of batches\n",
    "        return tf.data.Dataset.from_tensor_slices((to_all, from_all))\n",
    "\n",
    "    def create_edge_iterator(self, head, tail, weight):\n",
    "        \"\"\" create an iterator for edges\n",
    "        \"\"\"\n",
    "        # set the maximum number of times each edge should be repeated per epoch\n",
    "        if self.max_sample_repeats_per_epoch is None:\n",
    "            self.max_sample_repeats_per_epoch = 25\n",
    "        epochs_per_sample = np.clip(\n",
    "            (weight / np.max(weight)) * self.max_sample_repeats_per_epoch,\n",
    "            1,\n",
    "            self.max_sample_repeats_per_epoch,\n",
    "        ).astype(\"int\")\n",
    "\n",
    "        edges_to_exp, edges_from_exp = (\n",
    "            np.array([np.repeat(head, epochs_per_sample.astype(\"int\"))]),\n",
    "            np.array([np.repeat(tail, epochs_per_sample.astype(\"int\"))]),\n",
    "        )\n",
    "        edge_iter = tf.data.Dataset.from_tensor_slices((edges_to_exp, edges_from_exp))\n",
    "        edge_iter = edge_iter.repeat()\n",
    "        edge_iter = edge_iter.map(self.batch_epoch_edges)\n",
    "        edge_iter = edge_iter.prefetch(buffer_size=10)\n",
    "\n",
    "        return iter(edge_iter), np.shape(edges_to_exp)[1]\n",
    "\n",
    "    def init_embedding_from_graph(self, graph, init=\"spectral\"):\n",
    "        \"\"\" Initialize embedding using graph. This is for direct embeddings. \n",
    "\n",
    "        Parameters\n",
    "        ----------\n",
    "        init : str, optional\n",
    "            Type of initialization to use. Either random, or spectral, by default \"spectral\"\n",
    "\n",
    "        Returns\n",
    "        -------\n",
    "        embedding : np.array\n",
    "            the initialized embedding\n",
    "        \"\"\"\n",
    "        if isinstance(init, str) and init == \"random\":\n",
    "            embedding = self.random_state.uniform(\n",
    "                low=-10.0, high=10.0, size=(graph.shape[0], self.n_components)\n",
    "            ).astype(np.float32)\n",
    "        elif isinstance(init, str) and init == \"spectral\":\n",
    "            # We add a little noise to avoid local minima for optimization to come\n",
    "\n",
    "            initialisation = spectral_layout(\n",
    "                self._raw_data,\n",
    "                graph,\n",
    "                self.n_components,\n",
    "                self.random_state,\n",
    "                metric=self.metric,\n",
    "                metric_kwds=self._metric_kwds,\n",
    "            )\n",
    "            expansion = 10.0 / np.abs(initialisation).max()\n",
    "            embedding = (initialisation * expansion).astype(\n",
    "                np.float32\n",
    "            ) + self.random_state.normal(\n",
    "                scale=0.0001, size=[graph.shape[0], self.n_components]\n",
    "            ).astype(\n",
    "                np.float32\n",
    "            )\n",
    "\n",
    "        else:\n",
    "            init_data = np.array(init)\n",
    "            if len(init_data.shape) == 2:\n",
    "                if np.unique(init_data, axis=0).shape[0] < init_data.shape[0]:\n",
    "                    tree = KDTree(init_data)\n",
    "                    dist, ind = tree.query(init_data, k=2)\n",
    "                    nndist = np.mean(dist[:, 1])\n",
    "                    embedding = init_data + self.random_state.normal(\n",
    "                        scale=0.001 * nndist, size=init_data.shape\n",
    "                    ).astype(np.float32)\n",
    "                else:\n",
    "                    embedding = init_data\n",
    "\n",
    "        return embedding\n",
    "\n",
    "    def prepare_networks(self):\n",
    "        \"\"\"\n",
    "        Generates networks for embedding, reconstruction. Gets a list of\n",
    "        trainable variables for training step. \n",
    "        \"\"\"\n",
    "        if self.direct_embedding:\n",
    "            self.training_variables = [self.embedding]\n",
    "        else:\n",
    "            # create an encoder network, if one does not exist\n",
    "            if self.encoder is None:\n",
    "                self.encoder = tf.keras.Sequential()\n",
    "                self.encoder.add(tf.keras.layers.InputLayer(input_shape=self.dims))\n",
    "                self.encoder.add(tf.keras.layers.Flatten())\n",
    "                self.encoder.add(tf.keras.layers.Dense(units=100, activation=\"relu\"))\n",
    "                self.encoder.add(tf.keras.layers.Dense(units=100, activation=\"relu\"))\n",
    "                self.encoder.add(tf.keras.layers.Dense(units=100, activation=\"relu\"))\n",
    "                self.encoder.add(\n",
    "                    tf.keras.layers.Dense(units=self.n_components, name=\"z\")\n",
    "                )\n",
    "\n",
    "            # get list of trainable variables for gradient descent\n",
    "            self.training_variables = self.encoder.trainable_variables\n",
    "\n",
    "        if (self.decoding_method in [\"autoencoder\", \"network\"]) & (\n",
    "            self.decoder is None\n",
    "        ):\n",
    "            self.decoder = tf.keras.Sequential()\n",
    "            self.decoder.add(tf.keras.layers.InputLayer(input_shape=self.n_components))\n",
    "            self.decoder.add(tf.keras.layers.Flatten())\n",
    "            self.decoder.add(tf.keras.layers.Dense(units=100, activation=\"relu\"))\n",
    "            self.decoder.add(tf.keras.layers.Dense(units=100, activation=\"relu\"))\n",
    "            self.decoder.add(tf.keras.layers.Dense(units=100, activation=\"relu\"))\n",
    "            self.decoder.add(\n",
    "                tf.keras.layers.Dense(units=np.product(self.dims), activation=\"sigmoid\")\n",
    "            )\n",
    "            self.decoder.add(tf.keras.layers.Reshape(self.dims))\n",
    "\n",
    "        if self.decoding_method in [\"autoencoder\", \"network\"]:\n",
    "            self.training_variables += self.decoder.trainable_variables\n",
    "\n",
    "    def create_validation_iterator(self):\n",
    "        \"\"\" Create an iterator that returns validation X and Y\n",
    "        \"\"\"\n",
    "        # create a Y validation dataset if one doesn't exist\n",
    "        if self.valid_Y is None:\n",
    "            self.valid_Y = np.zeros(len(self.valid_X)) - 1\n",
    "\n",
    "        data_valid = tf.data.Dataset.from_tensor_slices((self.valid_X, self.valid_Y))\n",
    "        data_valid = data_valid.cache()\n",
    "        data_valid = data_valid.batch(self.batch_size)\n",
    "        data_valid = data_valid.prefetch(buffer_size=1)\n",
    "\n",
    "        return data_valid, len(self.valid_X)\n",
    "\n",
    "    def fit_embed_data(self, X, y, index, inverse, **kwargs):\n",
    "        \"\"\"\n",
    "        embeds data from graph representation using tensorflow\n",
    "\n",
    "        Parameters\n",
    "        ----------\n",
    "        X : np.array\n",
    "            Input dataset\n",
    "        y : np.array/list\n",
    "            labels for input dataset\n",
    "        index : np.array\n",
    "            [description]\n",
    "        inverse : np.array\n",
    "            [description]\n",
    "        \"\"\"\n",
    "\n",
    "        breakme\n",
    "\n",
    "    def create_summary_metrics(self):\n",
    "        \"\"\"\n",
    "        Create keras summary objects for loss\n",
    "        \"\"\"\n",
    "        self.summary_metrics = {}\n",
    "        self.summary_metrics[\"train_loss_umap\"] = tf.keras.metrics.Mean(\n",
    "            \"train_loss_umap\", dtype=tf.float32\n",
    "        )\n",
    "        if self.decoding_method in [\"autoencoder\", \"network\"]:\n",
    "            self.summary_metrics[\"train_loss_recon\"] = tf.keras.metrics.Mean(\n",
    "                \"train_loss_recon\", dtype=tf.float32\n",
    "            )\n",
    "            if self.valid_X is not None:\n",
    "                self.summary_metrics[\"valid_loss_recon\"] = tf.keras.metrics.Mean(\n",
    "                    \"valid_loss_recon\", dtype=tf.float32\n",
    "                )\n",
    "\n",
    "    def transform(self, X):\n",
    "        \"\"\"Transform X into the existing embedded space and return that\n",
    "        transformed output.\n",
    "        Parameters\n",
    "        ----------\n",
    "        X : array, shape (n_samples, n_features)\n",
    "            New data to be transformed.\n",
    "        Returns\n",
    "        -------\n",
    "        X_new : array, shape (n_samples, n_components)\n",
    "            Embedding of the new data in low-dimensional space.\n",
    "        \"\"\"\n",
    "        # embed using nearest neighbors method if embedding without a network\n",
    "        if self.direct_embedding:\n",
    "            return super().transform(X)\n",
    "\n",
    "        n_batches = np.ceil(len(X) / self.batch_size).astype(int)\n",
    "\n",
    "        if len(self.dims) > 1:\n",
    "            X = np.reshape(X, [len(X)] + list(self.dims))\n",
    "\n",
    "        projections = []\n",
    "        for batch in np.arange(n_batches):\n",
    "            projections.append(\n",
    "                self.encoder(\n",
    "                    X[(batch * self.batch_size) : ((batch + 1) * self.batch_size)]\n",
    "                ).numpy()\n",
    "            )\n",
    "        projections = np.vstack(projections)\n",
    "        return projections\n",
    "\n",
    "    def inverse_transform(self, X):\n",
    "        \"\"\"Transform X in the existing embedded space back into the input\n",
    "        data space and return that transformed output.\n",
    "        Parameters\n",
    "        ----------\n",
    "        X : array, shape (n_samples, n_components)\n",
    "            New points to be inverse transformed.\n",
    "        Returns\n",
    "        -------\n",
    "        X_new : array, shape (n_samples, n_features)\n",
    "            Generated data points new data in data space.\n",
    "        \"\"\"\n",
    "\n",
    "        if self.decoding_method in [\"autoencoder\", \"network\"]:\n",
    "            n_batches = np.ceil(len(X) / self.batch_size).astype(int)\n",
    "\n",
    "            projections = []\n",
    "            for batch in np.arange(n_batches):\n",
    "                projections.append(\n",
    "                    self.decoder(\n",
    "                        X[(batch * self.batch_size) : ((batch + 1) * self.batch_size)]\n",
    "                    ).numpy()\n",
    "                )\n",
    "            projections = np.vstack(projections)\n",
    "            return projections\n",
    "\n",
    "        else:\n",
    "            return super().inverse_transform(X)\n",
    "\n",
    "\n",
    "\n"
   ]
  },
  {
   "cell_type": "code",
   "execution_count": 9,
   "metadata": {
    "ExecuteTime": {
     "end_time": "2020-08-13T17:22:49.827759Z",
     "start_time": "2020-08-13T17:22:49.143278Z"
    }
   },
   "outputs": [],
   "source": [
    "embedder = tfUMAP(direct_embedding=True, verbose=True, negative_sample_rate=5, training_epochs=100)"
   ]
  },
  {
   "cell_type": "code",
   "execution_count": 10,
   "metadata": {
    "ExecuteTime": {
     "end_time": "2020-08-13T17:23:04.822409Z",
     "start_time": "2020-08-13T17:22:49.830282Z"
    },
    "scrolled": false
   },
   "outputs": [
    {
     "name": "stdout",
     "output_type": "stream",
     "text": [
      "tfUMAP(direct_embedding=True, negative_sample_rate=5,\n",
      "       optimizer=<tensorflow.python.keras.optimizer_v2.adadelta.Adadelta object at 0x7ff2c7861cc0>,\n",
      "       tensorboard_logdir='/tmp/tensorboard/20200813-102249',\n",
      "       training_epochs=100)\n",
      "Construct fuzzy simplicial set\n",
      "Thu Aug 13 10:22:50 2020 Finding Nearest Neighbors\n",
      "Thu Aug 13 10:22:50 2020 Building RP forest with 16 trees\n",
      "Thu Aug 13 10:22:51 2020 parallel NN descent for 16 iterations\n",
      "\t 0  /  16\n",
      "\t 1  /  16\n",
      "\t 2  /  16\n",
      "\t 3  /  16\n",
      "\t 4  /  16\n",
      "Thu Aug 13 10:23:01 2020 Finished Nearest Neighbor Search\n"
     ]
    },
    {
     "ename": "NameError",
     "evalue": "name 'breakme' is not defined",
     "output_type": "error",
     "traceback": [
      "\u001b[0;31m---------------------------------------------------------------------------\u001b[0m",
      "\u001b[0;31mNameError\u001b[0m                                 Traceback (most recent call last)",
      "\u001b[0;32m<ipython-input-10-6f4d8bbbb088>\u001b[0m in \u001b[0;36m<module>\u001b[0;34m\u001b[0m\n\u001b[0;32m----> 1\u001b[0;31m \u001b[0mz\u001b[0m \u001b[0;34m=\u001b[0m \u001b[0membedder\u001b[0m\u001b[0;34m.\u001b[0m\u001b[0mfit_transform\u001b[0m\u001b[0;34m(\u001b[0m\u001b[0mX_train_flat\u001b[0m\u001b[0;34m)\u001b[0m\u001b[0;34m\u001b[0m\u001b[0;34m\u001b[0m\u001b[0m\n\u001b[0m",
      "\u001b[0;32m/mnt/cube/tsainbur/Projects/github_repos/umap/umap/umap_.py\u001b[0m in \u001b[0;36mfit_transform\u001b[0;34m(self, X, y)\u001b[0m\n\u001b[1;32m   2394\u001b[0m             \u001b[0mLocal\u001b[0m \u001b[0mradii\u001b[0m \u001b[0mof\u001b[0m \u001b[0mdata\u001b[0m \u001b[0mpoints\u001b[0m \u001b[0;32min\u001b[0m \u001b[0mthe\u001b[0m \u001b[0membedding\u001b[0m \u001b[0;34m(\u001b[0m\u001b[0mlog\u001b[0m\u001b[0;34m-\u001b[0m\u001b[0mtransformed\u001b[0m\u001b[0;34m)\u001b[0m\u001b[0;34m.\u001b[0m\u001b[0;34m\u001b[0m\u001b[0;34m\u001b[0m\u001b[0m\n\u001b[1;32m   2395\u001b[0m         \"\"\"\n\u001b[0;32m-> 2396\u001b[0;31m         \u001b[0mself\u001b[0m\u001b[0;34m.\u001b[0m\u001b[0mfit\u001b[0m\u001b[0;34m(\u001b[0m\u001b[0mX\u001b[0m\u001b[0;34m,\u001b[0m \u001b[0my\u001b[0m\u001b[0;34m)\u001b[0m\u001b[0;34m\u001b[0m\u001b[0;34m\u001b[0m\u001b[0m\n\u001b[0m\u001b[1;32m   2397\u001b[0m         \u001b[0;32mif\u001b[0m \u001b[0mself\u001b[0m\u001b[0;34m.\u001b[0m\u001b[0moutput_dens\u001b[0m\u001b[0;34m:\u001b[0m\u001b[0;34m\u001b[0m\u001b[0;34m\u001b[0m\u001b[0m\n\u001b[1;32m   2398\u001b[0m             \u001b[0;32mreturn\u001b[0m \u001b[0mself\u001b[0m\u001b[0;34m.\u001b[0m\u001b[0membedding_\u001b[0m\u001b[0;34m,\u001b[0m \u001b[0mself\u001b[0m\u001b[0;34m.\u001b[0m\u001b[0mrad_orig_\u001b[0m\u001b[0;34m,\u001b[0m \u001b[0mself\u001b[0m\u001b[0;34m.\u001b[0m\u001b[0mrad_emb_\u001b[0m\u001b[0;34m\u001b[0m\u001b[0;34m\u001b[0m\u001b[0m\n",
      "\u001b[0;32m/mnt/cube/tsainbur/Projects/github_repos/umap_tf_networks/tfumap/base.py\u001b[0m in \u001b[0;36mfit\u001b[0;34m(self, X, y)\u001b[0m\n\u001b[1;32m    510\u001b[0m \u001b[0;34m\u001b[0m\u001b[0m\n\u001b[1;32m    511\u001b[0m         \u001b[0;31m# embed graph\u001b[0m\u001b[0;34m\u001b[0m\u001b[0;34m\u001b[0m\u001b[0;34m\u001b[0m\u001b[0m\n\u001b[0;32m--> 512\u001b[0;31m         \u001b[0mself\u001b[0m\u001b[0;34m.\u001b[0m\u001b[0mfit_embed_data\u001b[0m\u001b[0;34m(\u001b[0m\u001b[0mX\u001b[0m\u001b[0;34m,\u001b[0m \u001b[0my\u001b[0m\u001b[0;34m,\u001b[0m \u001b[0mindex\u001b[0m\u001b[0;34m,\u001b[0m \u001b[0minverse\u001b[0m\u001b[0;34m)\u001b[0m\u001b[0;34m\u001b[0m\u001b[0;34m\u001b[0m\u001b[0m\n\u001b[0m\u001b[1;32m    513\u001b[0m         \u001b[0;32mreturn\u001b[0m \u001b[0mself\u001b[0m\u001b[0;34m\u001b[0m\u001b[0;34m\u001b[0m\u001b[0m\n",
      "\u001b[0;32m<ipython-input-8-66b201552168>\u001b[0m in \u001b[0;36mfit_embed_data\u001b[0;34m(self, X, y, index, inverse, **kwargs)\u001b[0m\n\u001b[1;32m    453\u001b[0m         \"\"\"\n\u001b[1;32m    454\u001b[0m \u001b[0;34m\u001b[0m\u001b[0m\n\u001b[0;32m--> 455\u001b[0;31m         \u001b[0mbreakme\u001b[0m\u001b[0;34m\u001b[0m\u001b[0;34m\u001b[0m\u001b[0m\n\u001b[0m\u001b[1;32m    456\u001b[0m \u001b[0;34m\u001b[0m\u001b[0m\n\u001b[1;32m    457\u001b[0m     \u001b[0;32mdef\u001b[0m \u001b[0mcreate_summary_metrics\u001b[0m\u001b[0;34m(\u001b[0m\u001b[0mself\u001b[0m\u001b[0;34m)\u001b[0m\u001b[0;34m:\u001b[0m\u001b[0;34m\u001b[0m\u001b[0;34m\u001b[0m\u001b[0m\n",
      "\u001b[0;31mNameError\u001b[0m: name 'breakme' is not defined"
     ]
    }
   ],
   "source": [
    "z = embedder.fit_transform(X_train_flat)"
   ]
  },
  {
   "cell_type": "code",
   "execution_count": 11,
   "metadata": {
    "ExecuteTime": {
     "end_time": "2020-08-13T17:25:52.850920Z",
     "start_time": "2020-08-13T17:25:48.632108Z"
    }
   },
   "outputs": [],
   "source": [
    "#get data from graph\n",
    "graph, epochs_per_sample, head, tail, weight, n_vertices = get_graph_elements(\n",
    "    embedder.graph_, embedder.n_epochs\n",
    ")\n",
    "# number of elements per batch for tensorflow embedding\n",
    "if embedder.batch_size is None:\n",
    "    # batch size can be larger if its just over embeddings\n",
    "    if embedder.direct_embedding & (embedder.decoding_method is None):\n",
    "        embedder.batch_size = np.min([n_vertices, 60000])\n",
    "    else:\n",
    "        embedder.batch_size = np.min([n_vertices, 1000])\n",
    "\n",
    "# get embedding initialization if embedding directly\n",
    "if embedder.direct_embedding:\n",
    "    embedding = embedder.init_embedding_from_graph(graph)\n",
    "    embedder.embedding = tf.Variable(embedding.astype(np.float32, order=\"C\"))\n",
    "\n",
    "# alpha is a hack for circumventing tensorflow's bug with sparse vectors\n",
    "#   this is only needed for the adadelta on direct embeddings\n",
    "embedder.alpha = tf.Variable(1.0)\n"
   ]
  },
  {
   "cell_type": "code",
   "execution_count": 12,
   "metadata": {
    "ExecuteTime": {
     "end_time": "2020-08-13T17:25:52.896603Z",
     "start_time": "2020-08-13T17:25:52.852954Z"
    }
   },
   "outputs": [],
   "source": [
    "X = X_train"
   ]
  },
  {
   "cell_type": "code",
   "execution_count": 13,
   "metadata": {
    "ExecuteTime": {
     "end_time": "2020-08-13T17:25:56.954820Z",
     "start_time": "2020-08-13T17:25:52.898146Z"
    }
   },
   "outputs": [],
   "source": [
    "# get dimensions of data\n",
    "if embedder.dims is None:\n",
    "    embedder.dims = [np.shape(X)[-1]]\n",
    "# reshape data for network\n",
    "if embedder.dims is not None:\n",
    "    if len(embedder.dims) > 1:\n",
    "        X = np.reshape(X, [len(X)] + list(embedder.dims))\n",
    "        if embedder.valid_X is not None:\n",
    "            embedder.valid_X = np.reshape(\n",
    "                embedder.valid_X, [len(embedder.valid_X)] + list(embedder.dims)\n",
    "            )\n",
    "\n",
    "# create networks, if one does not exist\n",
    "embedder.prepare_networks()\n",
    "\n",
    "# set a batch size, if one does not exist\n",
    "if embedder.batch_size is None:\n",
    "    embedder.batch_size = 100\n",
    "\n",
    "# create iterator for data/edges\n",
    "edge_iter, n_edges_per_epoch = embedder.create_edge_iterator(head, tail, weight)\n",
    "\n",
    "# get batches per epoch\n",
    "n_batches_per_epoch = int(np.ceil(n_edges_per_epoch / embedder.batch_size))"
   ]
  },
  {
   "cell_type": "code",
   "execution_count": 14,
   "metadata": {
    "ExecuteTime": {
     "end_time": "2020-08-13T17:25:57.037753Z",
     "start_time": "2020-08-13T17:25:56.956714Z"
    }
   },
   "outputs": [
    {
     "name": "stdout",
     "output_type": "stream",
     "text": [
      "Thu Aug 13 10:25:56 2020 Embedding with TensorFlow\n"
     ]
    },
    {
     "data": {
      "application/vnd.jupyter.widget-view+json": {
       "model_id": "578f3c30e9fb49909eff37ac531c6061",
       "version_major": 2,
       "version_minor": 0
      },
      "text/plain": [
       "HBox(children=(IntProgress(value=0, description='epoch', style=ProgressStyle(description_width='initial')), HT…"
      ]
     },
     "metadata": {},
     "output_type": "display_data"
    }
   ],
   "source": [
    "# create an iterator for validation data\n",
    "if (\n",
    "    embedder.decoding_method in [\"autoencoder\", \"network\"]\n",
    ") and embedder.valid_X is not None:\n",
    "    data_valid, n_valid_samp = embedder.create_validation_iterator()\n",
    "    # number of batches corresponding to one epoch\n",
    "    n_valid_batches_per_epoch = int(n_valid_samp / embedder.batch_size)\n",
    "if embedder.verbose:\n",
    "    print(ts(), \"Embedding with TensorFlow\")\n",
    "\n",
    "# create keras summary objects for loss\n",
    "embedder.create_summary_metrics()\n",
    "\n",
    "if embedder.training_epochs is None:\n",
    "    if embedder.direct_embedding:\n",
    "        embedder.training_epochs = 50\n",
    "    else:\n",
    "        embedder.training_epochs = 5\n",
    "\n",
    "# create a tqdm iterator to show epoch progress\n",
    "if embedder.verbose:\n",
    "    epoch_iter = tqdm(desc=\"epoch\", total=embedder.training_epochs)\n"
   ]
  },
  {
   "cell_type": "code",
   "execution_count": 17,
   "metadata": {
    "ExecuteTime": {
     "end_time": "2020-08-13T17:28:29.041405Z",
     "start_time": "2020-08-13T17:28:28.998958Z"
    }
   },
   "outputs": [
    {
     "data": {
      "text/plain": [
       "<tf.Tensor: shape=(), dtype=int64, numpy=154>"
      ]
     },
     "execution_count": 17,
     "metadata": {},
     "output_type": "execute_result"
    }
   ],
   "source": [
    "edge_epoch.cardinality()"
   ]
  },
  {
   "cell_type": "code",
   "execution_count": 15,
   "metadata": {
    "ExecuteTime": {
     "end_time": "2020-08-13T17:28:23.263848Z",
     "start_time": "2020-08-13T17:25:57.039293Z"
    }
   },
   "outputs": [
    {
     "data": {
      "application/vnd.jupyter.widget-view+json": {
       "model_id": "ad212fbcef17401faa7657484a672b14",
       "version_major": 2,
       "version_minor": 0
      },
      "text/plain": [
       "HBox(children=(IntProgress(value=1, bar_style='info', max=1), HTML(value='')))"
      ]
     },
     "metadata": {},
     "output_type": "display_data"
    },
    {
     "name": "stdout",
     "output_type": "stream",
     "text": [
      "0.13262777\n",
      "0.119016446\n",
      "0.11235962\n",
      "0.10849439\n",
      "0.10603218\n",
      "0.103790335\n",
      "0.10189501\n",
      "0.100454785\n",
      "0.10008658\n",
      "0.09843841\n",
      "0.09808796\n",
      "0.09779718\n",
      "0.09717521\n",
      "0.096676625\n",
      "0.09632929\n",
      "0.09626966\n",
      "0.0957483\n",
      "0.09622527\n",
      "0.09579076\n",
      "0.09554067\n",
      "0.09483607\n",
      "0.09473435\n",
      "0.09469956\n",
      "0.09441246\n",
      "0.09439695\n",
      "0.09461969\n",
      "0.09422729\n",
      "0.094332725\n",
      "0.094320975\n",
      "0.09429217\n",
      "0.09401849\n",
      "0.09342378\n",
      "0.09379135\n",
      "0.093815394\n",
      "0.09399595\n",
      "0.093602054\n",
      "0.093729675\n",
      "0.093449935\n",
      "0.09334436\n",
      "0.09347949\n",
      "0.09352673\n",
      "0.09300737\n",
      "0.09304774\n",
      "0.09293791\n",
      "0.093148775\n",
      "0.09323969\n",
      "0.09330157\n",
      "0.09292649\n",
      "0.093146384\n",
      "0.09241675\n",
      "0.09257438\n",
      "0.09286341\n",
      "0.09295959\n",
      "0.092983864\n",
      "0.09302989\n",
      "0.09260952\n",
      "0.09319158\n",
      "0.09283537\n",
      "0.09290257\n",
      "0.09248082\n",
      "0.09283647\n",
      "0.09316498\n",
      "0.09251797\n",
      "0.09209805\n",
      "0.092775255\n",
      "0.09176786\n",
      "0.092596546\n",
      "0.09255273\n",
      "0.09208748\n",
      "0.09213979\n",
      "0.09195171\n",
      "0.0921676\n",
      "0.0921342\n",
      "0.09240529\n",
      "0.09216349\n",
      "0.092755556\n",
      "0.09220234\n",
      "0.091731735\n",
      "0.09276031\n",
      "0.09245728\n"
     ]
    },
    {
     "ename": "KeyboardInterrupt",
     "evalue": "",
     "output_type": "error",
     "traceback": [
      "\u001b[0;31m---------------------------------------------------------------------------\u001b[0m",
      "\u001b[0;31mKeyboardInterrupt\u001b[0m                         Traceback (most recent call last)",
      "\u001b[0;32m<ipython-input-15-cd63f61baa79>\u001b[0m in \u001b[0;36m<module>\u001b[0;34m\u001b[0m\n\u001b[1;32m     30\u001b[0m                 \u001b[0membedder\u001b[0m\u001b[0;34m.\u001b[0m\u001b[0moptimizer\u001b[0m\u001b[0;34m.\u001b[0m\u001b[0mapply_gradients\u001b[0m\u001b[0;34m(\u001b[0m\u001b[0mzip\u001b[0m\u001b[0;34m(\u001b[0m\u001b[0mgrads\u001b[0m\u001b[0;34m,\u001b[0m \u001b[0membedder\u001b[0m\u001b[0;34m.\u001b[0m\u001b[0mtraining_variables\u001b[0m\u001b[0;34m)\u001b[0m\u001b[0;34m)\u001b[0m\u001b[0;34m\u001b[0m\u001b[0;34m\u001b[0m\u001b[0m\n\u001b[1;32m     31\u001b[0m \u001b[0;34m\u001b[0m\u001b[0m\n\u001b[0;32m---> 32\u001b[0;31m     \u001b[0mprint\u001b[0m\u001b[0;34m(\u001b[0m\u001b[0mnp\u001b[0m\u001b[0;34m.\u001b[0m\u001b[0mmean\u001b[0m\u001b[0;34m(\u001b[0m\u001b[0mloss\u001b[0m\u001b[0;34m)\u001b[0m\u001b[0;34m)\u001b[0m\u001b[0;34m\u001b[0m\u001b[0;34m\u001b[0m\u001b[0m\n\u001b[0m",
      "\u001b[0;32m<__array_function__ internals>\u001b[0m in \u001b[0;36mmean\u001b[0;34m(*args, **kwargs)\u001b[0m\n",
      "\u001b[0;32m/mnt/cube/tsainbur/conda_envs/tpy3/lib/python3.6/site-packages/numpy/core/fromnumeric.py\u001b[0m in \u001b[0;36mmean\u001b[0;34m(a, axis, dtype, out, keepdims)\u001b[0m\n\u001b[1;32m   3333\u001b[0m \u001b[0;34m\u001b[0m\u001b[0m\n\u001b[1;32m   3334\u001b[0m     return _methods._mean(a, axis=axis, dtype=dtype,\n\u001b[0;32m-> 3335\u001b[0;31m                           out=out, **kwargs)\n\u001b[0m\u001b[1;32m   3336\u001b[0m \u001b[0;34m\u001b[0m\u001b[0m\n\u001b[1;32m   3337\u001b[0m \u001b[0;34m\u001b[0m\u001b[0m\n",
      "\u001b[0;32m/mnt/cube/tsainbur/conda_envs/tpy3/lib/python3.6/site-packages/numpy/core/_methods.py\u001b[0m in \u001b[0;36m_mean\u001b[0;34m(a, axis, dtype, out, keepdims)\u001b[0m\n\u001b[1;32m    149\u001b[0m             \u001b[0mis_float16_result\u001b[0m \u001b[0;34m=\u001b[0m \u001b[0;32mTrue\u001b[0m\u001b[0;34m\u001b[0m\u001b[0;34m\u001b[0m\u001b[0m\n\u001b[1;32m    150\u001b[0m \u001b[0;34m\u001b[0m\u001b[0m\n\u001b[0;32m--> 151\u001b[0;31m     \u001b[0mret\u001b[0m \u001b[0;34m=\u001b[0m \u001b[0mumr_sum\u001b[0m\u001b[0;34m(\u001b[0m\u001b[0marr\u001b[0m\u001b[0;34m,\u001b[0m \u001b[0maxis\u001b[0m\u001b[0;34m,\u001b[0m \u001b[0mdtype\u001b[0m\u001b[0;34m,\u001b[0m \u001b[0mout\u001b[0m\u001b[0;34m,\u001b[0m \u001b[0mkeepdims\u001b[0m\u001b[0;34m)\u001b[0m\u001b[0;34m\u001b[0m\u001b[0;34m\u001b[0m\u001b[0m\n\u001b[0m\u001b[1;32m    152\u001b[0m     \u001b[0;32mif\u001b[0m \u001b[0misinstance\u001b[0m\u001b[0;34m(\u001b[0m\u001b[0mret\u001b[0m\u001b[0;34m,\u001b[0m \u001b[0mmu\u001b[0m\u001b[0;34m.\u001b[0m\u001b[0mndarray\u001b[0m\u001b[0;34m)\u001b[0m\u001b[0;34m:\u001b[0m\u001b[0;34m\u001b[0m\u001b[0;34m\u001b[0m\u001b[0m\n\u001b[1;32m    153\u001b[0m         ret = um.true_divide(\n",
      "\u001b[0;31mKeyboardInterrupt\u001b[0m: "
     ]
    }
   ],
   "source": [
    "#\n",
    "batch = 0\n",
    "for edge_epoch, epoch in tqdm(zip(edge_iter, np.arange(embedder.training_epochs))):\n",
    "\n",
    "    if embedder.verbose & (n_batches_per_epoch > 200):\n",
    "        edge_tqdm = tqdm(desc=\"batch\", total=n_batches_per_epoch, leave=False)\n",
    "\n",
    "    # loop through batches\n",
    "    for batch_to, batch_from in edge_epoch:\n",
    "        batch += 1\n",
    "\n",
    "        # if this is a direct encoding, the embeddings should be used directly\n",
    "        if embedder.direct_embedding:\n",
    "            #(ce_loss, reconstruction_loss,) = embedder.train_batch(\n",
    "            #    batch_to, batch_from\n",
    "            #)\n",
    "            \n",
    "            with tf.GradientTape() as tape:\n",
    "                # all methods get UMAP loss\n",
    "                umap_loss, embedding_to, embedding_from = embedder.compute_umap_loss(\n",
    "                    batch_to, batch_from\n",
    "                )\n",
    "                \n",
    "                loss = (\n",
    "                    umap_loss\n",
    "                )\n",
    "\n",
    "                grads = tape.gradient(loss, embedder.training_variables)\n",
    "                grads = [tf.clip_by_value(grad, -4.0, 4.0) * embedder.alpha for grad in grads]\n",
    "                embedder.optimizer.apply_gradients(zip(grads, embedder.training_variables))\n",
    "                \n",
    "    print(np.mean(loss))"
   ]
  },
  {
   "cell_type": "code",
   "execution_count": 21,
   "metadata": {
    "ExecuteTime": {
     "end_time": "2020-08-13T18:59:26.331691Z",
     "start_time": "2020-08-13T18:59:26.289318Z"
    }
   },
   "outputs": [],
   "source": [
    "z = embedder.training_variables[0].numpy()"
   ]
  },
  {
   "cell_type": "markdown",
   "metadata": {},
   "source": [
    "### Plot model output"
   ]
  },
  {
   "cell_type": "code",
   "execution_count": 22,
   "metadata": {
    "ExecuteTime": {
     "end_time": "2020-08-13T18:59:28.202052Z",
     "start_time": "2020-08-13T18:59:26.885022Z"
    }
   },
   "outputs": [
    {
     "data": {
      "image/png": "[encoded data removed]",
      "text/plain": [
       "<Figure size 576x576 with 2 Axes>"
      ]
     },
     "metadata": {
      "needs_background": "light"
     },
     "output_type": "display_data"
    }
   ],
   "source": [
    "fig, ax = plt.subplots( figsize=(8, 8))\n",
    "sc = ax.scatter(\n",
    "    z[:, 0],\n",
    "    z[:, 1],\n",
    "    c=Y_train.astype(int)[:len(z)],\n",
    "    cmap=\"tab10\",\n",
    "    s=0.1,\n",
    "    alpha=0.5,\n",
    "    rasterized=True,\n",
    ")\n",
    "ax.axis('equal')\n",
    "ax.set_title(\"UMAP in Tensorflow embedding\", fontsize=20)\n",
    "plt.colorbar(sc, ax=ax);"
   ]
  },
  {
   "cell_type": "markdown",
   "metadata": {},
   "source": [
    "### View loss"
   ]
  },
  {
   "cell_type": "code",
   "execution_count": null,
   "metadata": {
    "ExecuteTime": {
     "end_time": "2020-08-13T17:23:04.832350Z",
     "start_time": "2020-08-13T17:22:40.589Z"
    }
   },
   "outputs": [],
   "source": [
    "from tfumap.umap import retrieve_tensors\n",
    "import seaborn as sns"
   ]
  },
  {
   "cell_type": "code",
   "execution_count": null,
   "metadata": {
    "ExecuteTime": {
     "end_time": "2020-08-13T17:23:04.832935Z",
     "start_time": "2020-08-13T17:22:40.591Z"
    }
   },
   "outputs": [],
   "source": [
    "loss_df = retrieve_tensors(embedder.tensorboard_logdir)\n",
    "loss_df[:3]"
   ]
  },
  {
   "cell_type": "code",
   "execution_count": null,
   "metadata": {
    "ExecuteTime": {
     "end_time": "2020-08-13T17:23:04.833467Z",
     "start_time": "2020-08-13T17:22:40.592Z"
    }
   },
   "outputs": [],
   "source": [
    "ax = sns.lineplot(x=\"step\", y=\"val\", hue=\"group\", data=loss_df[loss_df.variable=='umap_loss'])\n",
    "ax.set_xscale('log')"
   ]
  },
  {
   "cell_type": "code",
   "execution_count": null,
   "metadata": {
    "ExecuteTime": {
     "end_time": "2020-08-13T17:23:04.834113Z",
     "start_time": "2020-08-13T17:22:40.593Z"
    }
   },
   "outputs": [],
   "source": [
    "breakme"
   ]
  },
  {
   "cell_type": "markdown",
   "metadata": {},
   "source": [
    "### Save output"
   ]
  },
  {
   "cell_type": "code",
   "execution_count": null,
   "metadata": {
    "ExecuteTime": {
     "end_time": "2020-08-13T17:23:04.835218Z",
     "start_time": "2020-08-13T17:22:40.595Z"
    }
   },
   "outputs": [],
   "source": [
    "from tfumap.paths import ensure_dir, MODEL_DIR"
   ]
  },
  {
   "cell_type": "code",
   "execution_count": null,
   "metadata": {
    "ExecuteTime": {
     "end_time": "2020-08-13T17:23:04.836340Z",
     "start_time": "2020-08-13T17:22:40.596Z"
    }
   },
   "outputs": [],
   "source": [
    "#output_dir = MODEL_DIR/'projections'/ 'mnist' / 'direct'\n",
    "#ensure_dir(output_dir)"
   ]
  },
  {
   "cell_type": "code",
   "execution_count": null,
   "metadata": {
    "ExecuteTime": {
     "end_time": "2020-08-13T17:23:04.837358Z",
     "start_time": "2020-08-13T17:22:40.598Z"
    }
   },
   "outputs": [],
   "source": [
    "#embedder.save(output_dir)"
   ]
  },
  {
   "cell_type": "code",
   "execution_count": null,
   "metadata": {
    "ExecuteTime": {
     "end_time": "2020-08-13T17:23:04.838446Z",
     "start_time": "2020-08-13T17:22:40.601Z"
    }
   },
   "outputs": [],
   "source": [
    "#loss_df.to_pickle(output_dir / 'loss_df.pickle')"
   ]
  },
  {
   "cell_type": "code",
   "execution_count": null,
   "metadata": {
    "ExecuteTime": {
     "end_time": "2020-08-13T17:23:04.839503Z",
     "start_time": "2020-08-13T17:22:40.603Z"
    }
   },
   "outputs": [],
   "source": [
    "#np.save(output_dir / 'z.npy', z)"
   ]
  },
  {
   "cell_type": "markdown",
   "metadata": {},
   "source": [
    "### Compare to direct embedding with base UMAP"
   ]
  },
  {
   "cell_type": "code",
   "execution_count": null,
   "metadata": {
    "ExecuteTime": {
     "end_time": "2020-08-13T17:23:04.840550Z",
     "start_time": "2020-08-13T17:22:40.604Z"
    }
   },
   "outputs": [],
   "source": [
    "from umap import UMAP"
   ]
  },
  {
   "cell_type": "code",
   "execution_count": null,
   "metadata": {
    "ExecuteTime": {
     "end_time": "2020-08-13T17:23:04.841731Z",
     "start_time": "2020-08-13T17:22:40.606Z"
    }
   },
   "outputs": [],
   "source": [
    "z_umap = UMAP(verbose=True).fit_transform(X_train_flat)"
   ]
  },
  {
   "cell_type": "code",
   "execution_count": null,
   "metadata": {
    "ExecuteTime": {
     "end_time": "2020-08-13T17:23:04.842828Z",
     "start_time": "2020-08-13T17:22:40.607Z"
    }
   },
   "outputs": [],
   "source": [
    "### realign using procrustes \n",
    "from scipy.spatial import procrustes\n",
    "z_align, z_umap_align, disparity = procrustes(z, z_umap)\n",
    "print(disparity)"
   ]
  },
  {
   "cell_type": "code",
   "execution_count": null,
   "metadata": {
    "ExecuteTime": {
     "end_time": "2020-08-13T17:23:04.843860Z",
     "start_time": "2020-08-13T17:22:40.609Z"
    }
   },
   "outputs": [],
   "source": [
    "fig, axs = plt.subplots(ncols=2, figsize=(20, 8))\n",
    "ax = axs[0]\n",
    "sc = ax.scatter(\n",
    "    z_align[:, 0],\n",
    "    z_align[:, 1],\n",
    "    c=Y_train.astype(int)[:len(z)],\n",
    "    cmap=\"tab10\",\n",
    "    s=0.1,\n",
    "    alpha=0.5,\n",
    "    rasterized=True,\n",
    ")\n",
    "ax.axis('equal')\n",
    "ax.set_title(\"UMAP in Tensorflow\", fontsize=20)\n",
    "#plt.colorbar(sc, ax=ax);\n",
    "\n",
    "ax = axs[1]\n",
    "sc = ax.scatter(\n",
    "    z_umap_align[:, 0],\n",
    "    z_umap_align[:, 1],\n",
    "    c=Y_train.astype(int)[:len(z)],\n",
    "    cmap=\"tab10\",\n",
    "    s=0.1,\n",
    "    alpha=0.5,\n",
    "    rasterized=True,\n",
    ")\n",
    "ax.axis('equal')\n",
    "ax.set_title(\"UMAP with UMAP-learn\", fontsize=20)\n",
    "#plt.colorbar(sc, ax=ax);"
   ]
  },
  {
   "cell_type": "code",
   "execution_count": null,
   "metadata": {},
   "outputs": [],
   "source": []
  },
  {
   "cell_type": "code",
   "execution_count": null,
   "metadata": {},
   "outputs": [],
   "source": []
  }
 ],
 "metadata": {
  "kernelspec": {
   "display_name": "Python 3",
   "language": "python",
   "name": "python3"
  },
  "language_info": {
   "codemirror_mode": {
    "name": "ipython",
    "version": 3
   },
   "file_extension": ".py",
   "mimetype": "text/x-python",
   "name": "python",
   "nbconvert_exporter": "python",
   "pygments_lexer": "ipython3",
   "version": "3.6.7"
  }
 },
 "nbformat": 4,
 "nbformat_minor": 2
}
