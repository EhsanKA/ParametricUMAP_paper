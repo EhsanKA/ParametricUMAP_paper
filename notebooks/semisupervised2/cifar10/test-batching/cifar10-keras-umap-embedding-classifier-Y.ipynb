{
 "cells": [
  {
   "cell_type": "code",
   "execution_count": 1,
   "metadata": {
    "ExecuteTime": {
     "end_time": "2020-08-11T04:51:02.057342Z",
     "start_time": "2020-08-11T04:51:02.045025Z"
    }
   },
   "outputs": [],
   "source": [
    "# reload packages\n",
    "%load_ext autoreload\n",
    "%autoreload 2"
   ]
  },
  {
   "cell_type": "markdown",
   "metadata": {},
   "source": [
    "### Choose GPU"
   ]
  },
  {
   "cell_type": "code",
   "execution_count": 2,
   "metadata": {
    "ExecuteTime": {
     "end_time": "2020-08-11T04:51:02.067244Z",
     "start_time": "2020-08-11T04:51:02.058250Z"
    }
   },
   "outputs": [
    {
     "name": "stdout",
     "output_type": "stream",
     "text": [
      "env: CUDA_DEVICE_ORDER=PCI_BUS_ID\n",
      "env: CUDA_VISIBLE_DEVICES=1\n"
     ]
    }
   ],
   "source": [
    "%env CUDA_DEVICE_ORDER=PCI_BUS_ID\n",
    "%env CUDA_VISIBLE_DEVICES=1"
   ]
  },
  {
   "cell_type": "code",
   "execution_count": 3,
   "metadata": {
    "ExecuteTime": {
     "end_time": "2020-08-11T04:51:05.495330Z",
     "start_time": "2020-08-11T04:51:02.068287Z"
    }
   },
   "outputs": [
    {
     "name": "stdout",
     "output_type": "stream",
     "text": [
      "[PhysicalDevice(name='/physical_device:GPU:0', device_type='GPU')]\n"
     ]
    }
   ],
   "source": [
    "import tensorflow as tf\n",
    "gpu_devices = tf.config.experimental.list_physical_devices('GPU')\n",
    "if len(gpu_devices)>0:\n",
    "    tf.config.experimental.set_memory_growth(gpu_devices[0], True)\n",
    "print(gpu_devices)\n",
    "tf.keras.backend.clear_session()"
   ]
  },
  {
   "cell_type": "code",
   "execution_count": 4,
   "metadata": {
    "ExecuteTime": {
     "end_time": "2020-08-11T04:51:05.522659Z",
     "start_time": "2020-08-11T04:51:05.496818Z"
    }
   },
   "outputs": [],
   "source": [
    "labels_per_class = 'full' # full"
   ]
  },
  {
   "cell_type": "markdown",
   "metadata": {},
   "source": [
    "### Load packages"
   ]
  },
  {
   "cell_type": "code",
   "execution_count": 5,
   "metadata": {
    "ExecuteTime": {
     "end_time": "2020-08-11T04:51:10.043139Z",
     "start_time": "2020-08-11T04:51:05.524651Z"
    }
   },
   "outputs": [
    {
     "name": "stderr",
     "output_type": "stream",
     "text": [
      "/mnt/cube/tsainbur/conda_envs/tpy3/lib/python3.6/site-packages/tqdm/autonotebook/__init__.py:14: TqdmExperimentalWarning: Using `tqdm.autonotebook.tqdm` in notebook mode. Use `tqdm.tqdm` instead to force console mode (e.g. in jupyter console)\n",
      "  \" (e.g. in jupyter console)\", TqdmExperimentalWarning)\n"
     ]
    }
   ],
   "source": [
    "import tensorflow as tf\n",
    "import numpy as np\n",
    "import matplotlib.pyplot as plt\n",
    "from tqdm.autonotebook import tqdm\n",
    "from IPython import display\n",
    "import pandas as pd\n",
    "import umap\n",
    "import copy\n",
    "import os, tempfile"
   ]
  },
  {
   "cell_type": "markdown",
   "metadata": {},
   "source": [
    "### Load dataset"
   ]
  },
  {
   "cell_type": "code",
   "execution_count": 6,
   "metadata": {
    "ExecuteTime": {
     "end_time": "2020-08-11T04:51:10.937710Z",
     "start_time": "2020-08-11T04:51:10.044597Z"
    }
   },
   "outputs": [
    {
     "data": {
      "text/plain": [
       "(40000, 32, 32, 3)"
      ]
     },
     "execution_count": 6,
     "metadata": {},
     "output_type": "execute_result"
    }
   ],
   "source": [
    "from tfumap.load_datasets import load_CIFAR10, mask_labels\n",
    "X_train, X_test, X_valid, Y_train, Y_test, Y_valid = load_CIFAR10(flatten=False)\n",
    "X_train.shape"
   ]
  },
  {
   "cell_type": "code",
   "execution_count": 7,
   "metadata": {
    "ExecuteTime": {
     "end_time": "2020-08-11T04:51:10.978546Z",
     "start_time": "2020-08-11T04:51:10.939224Z"
    }
   },
   "outputs": [],
   "source": [
    "if labels_per_class == \"full\":\n",
    "    X_labeled = X_train\n",
    "    Y_masked = Y_labeled = Y_train\n",
    "else:\n",
    "    X_labeled, Y_labeled, Y_masked = mask_labels(\n",
    "        X_train, Y_train, labels_per_class=labels_per_class\n",
    "    )"
   ]
  },
  {
   "cell_type": "code",
   "execution_count": 8,
   "metadata": {
    "ExecuteTime": {
     "end_time": "2020-08-11T04:51:11.010393Z",
     "start_time": "2020-08-11T04:51:10.979835Z"
    }
   },
   "outputs": [],
   "source": [
    "num_classes=10"
   ]
  },
  {
   "cell_type": "code",
   "execution_count": 9,
   "metadata": {
    "ExecuteTime": {
     "end_time": "2020-08-11T04:51:11.644019Z",
     "start_time": "2020-08-11T04:51:11.011583Z"
    }
   },
   "outputs": [],
   "source": [
    "Y_valid_one_hot = tf.keras.backend.one_hot(\n",
    "    Y_valid, num_classes\n",
    ")"
   ]
  },
  {
   "cell_type": "code",
   "execution_count": 10,
   "metadata": {
    "ExecuteTime": {
     "end_time": "2020-08-11T04:51:11.685796Z",
     "start_time": "2020-08-11T04:51:11.645615Z"
    }
   },
   "outputs": [],
   "source": [
    "Y_labeled_one_hot = tf.keras.backend.one_hot(\n",
    "    Y_labeled, num_classes\n",
    ")"
   ]
  },
  {
   "cell_type": "markdown",
   "metadata": {},
   "source": [
    "### Network architecture"
   ]
  },
  {
   "cell_type": "code",
   "execution_count": 11,
   "metadata": {
    "ExecuteTime": {
     "end_time": "2020-08-11T04:51:11.720838Z",
     "start_time": "2020-08-11T04:51:11.687024Z"
    }
   },
   "outputs": [],
   "source": [
    "dims = (32,32,3)\n",
    "n_components= 1024\n"
   ]
  },
  {
   "cell_type": "code",
   "execution_count": 12,
   "metadata": {
    "ExecuteTime": {
     "end_time": "2020-08-11T04:51:11.824193Z",
     "start_time": "2020-08-11T04:51:11.722058Z"
    }
   },
   "outputs": [],
   "source": [
    "from tensorflow.keras import datasets, layers, models\n",
    "from tensorflow_addons.layers import WeightNormalization\n",
    "\n",
    "def conv_block(filts, name, kernel_size = (3, 3), padding = \"same\", **kwargs):\n",
    "    return WeightNormalization(\n",
    "        layers.Conv2D(\n",
    "            filts, kernel_size, activation=None, padding=padding, **kwargs\n",
    "        ),\n",
    "        name=\"conv\"+name,\n",
    "    )\n",
    "#CNN13\n",
    "#See: \n",
    "#https://github.com/vikasverma1077/ICT/blob/master/networks/lenet.py\n",
    "#https://github.com/brain-research/realistic-ssl-evaluation"
   ]
  },
  {
   "cell_type": "code",
   "execution_count": 13,
   "metadata": {
    "ExecuteTime": {
     "end_time": "2020-08-11T04:51:12.572980Z",
     "start_time": "2020-08-11T04:51:11.825627Z"
    }
   },
   "outputs": [],
   "source": [
    "lr_alpha = 0.1\n",
    "dropout_rate = 0.5\n",
    "num_classes = 10\n",
    "encoder = models.Sequential()\n",
    "encoder.add(tf.keras.Input(shape=dims))\n",
    "### conv1a\n",
    "name = '1a'\n",
    "encoder.add(conv_block(name = name, filts = 128, kernel_size = (3,3), padding=\"same\"))\n",
    "encoder.add(layers.BatchNormalization(name=\"bn\"+name))\n",
    "encoder.add(layers.LeakyReLU(alpha=lr_alpha, name = 'lrelu'+name))\n",
    "\n",
    "### conv1b\n",
    "name = '1b'\n",
    "encoder.add(conv_block(name = name, filts = 128, kernel_size = (3,3), padding=\"same\"))\n",
    "encoder.add(layers.BatchNormalization(name=\"bn\"+name))\n",
    "encoder.add(layers.LeakyReLU(alpha=lr_alpha, name = 'lrelu'+name))\n",
    "\n",
    "### conv1c\n",
    "name = '1c'\n",
    "encoder.add(conv_block(name = name, filts = 128, kernel_size = (3,3), padding=\"same\"))\n",
    "encoder.add(layers.BatchNormalization(name=\"bn\"+name))\n",
    "encoder.add(layers.LeakyReLU(alpha=lr_alpha, name = 'lrelu'+name))\n",
    "\n",
    "# max pooling\n",
    "encoder.add(layers.MaxPooling2D(pool_size=(2, 2), strides=2, padding='valid', name=\"mp1\"))\n",
    "# dropout\n",
    "encoder.add(layers.Dropout(dropout_rate, name=\"drop1\"))\n",
    "\n",
    "### conv2a\n",
    "name = '2a'\n",
    "encoder.add(conv_block(name = name, filts = 256, kernel_size = (3,3), padding=\"same\"))\n",
    "encoder.add(layers.BatchNormalization(name=\"bn\"+name))\n",
    "encoder.add(layers.LeakyReLU(alpha=lr_alpha))\n",
    "\n",
    "### conv2b\n",
    "name = '2b'\n",
    "encoder.add(conv_block(name = name, filts = 256, kernel_size = (3,3), padding=\"same\"))\n",
    "encoder.add(layers.BatchNormalization(name=\"bn\"+name))\n",
    "encoder.add(layers.LeakyReLU(alpha=lr_alpha, name = 'lrelu'+name))\n",
    "\n",
    "### conv2c\n",
    "name = '2c'\n",
    "encoder.add(conv_block(name = name, filts = 256, kernel_size = (3,3), padding=\"same\"))\n",
    "encoder.add(layers.BatchNormalization(name=\"bn\"+name))\n",
    "encoder.add(layers.LeakyReLU(alpha=lr_alpha, name = 'lrelu'+name))\n",
    "\n",
    "# max pooling\n",
    "encoder.add(layers.MaxPooling2D(pool_size=(2, 2), strides=2, padding='valid', name=\"mp2\"))\n",
    "# dropout\n",
    "encoder.add(layers.Dropout(dropout_rate, name=\"drop2\"))\n",
    "\n",
    "### conv3a\n",
    "name = '3a'\n",
    "encoder.add(conv_block(name = name, filts = 512, kernel_size = (3,3), padding=\"valid\"))\n",
    "encoder.add(layers.BatchNormalization(name=\"bn\"+name))\n",
    "encoder.add(layers.LeakyReLU(alpha=lr_alpha, name = 'lrelu'+name))\n",
    "\n",
    "### conv3b\n",
    "name = '3b'\n",
    "encoder.add(conv_block(name = name, filts = 256, kernel_size = (1,1), padding=\"valid\"))\n",
    "encoder.add(layers.BatchNormalization(name=\"bn\"+name))\n",
    "encoder.add(layers.LeakyReLU(alpha=lr_alpha, name = 'lrelu'+name))\n",
    "\n",
    "### conv3c\n",
    "name = '3c'\n",
    "encoder.add(conv_block(name = name, filts = 128, kernel_size = (1,1), padding=\"valid\"))\n",
    "encoder.add(layers.BatchNormalization(name=\"bn\"+name))\n",
    "encoder.add(layers.LeakyReLU(alpha=lr_alpha, name = 'lrelu'+name))\n",
    "\n",
    "# max pooling\n",
    "encoder.add(layers.AveragePooling2D(pool_size=(6, 6), strides=2, padding='valid'))\n",
    "encoder.add(layers.Flatten())\n",
    "encoder.add(layers.Dense(256, activation=None, name='z'))"
   ]
  },
  {
   "cell_type": "code",
   "execution_count": 14,
   "metadata": {
    "ExecuteTime": {
     "end_time": "2020-08-11T04:51:12.722329Z",
     "start_time": "2020-08-11T04:51:12.574452Z"
    }
   },
   "outputs": [],
   "source": [
    "classifier = models.Sequential()\n",
    "classifier.add(tf.keras.Input(shape=(256)))\n",
    "classifier.add(WeightNormalization(layers.Dense(256, activation=None)))\n",
    "classifier.add(layers.LeakyReLU(alpha=lr_alpha, name = 'lrelufc1'))\n",
    "classifier.add(WeightNormalization(layers.Dense(256, activation=None)))\n",
    "classifier.add(layers.LeakyReLU(alpha=lr_alpha, name = 'lrelufc2'))\n",
    "classifier.add(WeightNormalization(layers.Dense(num_classes, activation=None), name='y_'))"
   ]
  },
  {
   "cell_type": "code",
   "execution_count": 15,
   "metadata": {
    "ExecuteTime": {
     "end_time": "2020-08-11T04:51:12.877301Z",
     "start_time": "2020-08-11T04:51:12.725098Z"
    }
   },
   "outputs": [],
   "source": [
    "embedder = models.Sequential()\n",
    "embedder.add(tf.keras.Input(shape=(256)))\n",
    "embedder.add(WeightNormalization(layers.Dense(256, activation=None)))\n",
    "embedder.add(layers.LeakyReLU(alpha=lr_alpha, name = 'lrelufc1'))\n",
    "embedder.add(WeightNormalization(layers.Dense(256, activation=None)))\n",
    "embedder.add(layers.LeakyReLU(alpha=lr_alpha, name = 'lrelufc2'))\n",
    "embedder.add(WeightNormalization(layers.Dense(n_components, activation=None), name='z_'))"
   ]
  },
  {
   "cell_type": "markdown",
   "metadata": {},
   "source": [
    "### Test model with just UMAP"
   ]
  },
  {
   "cell_type": "code",
   "execution_count": 16,
   "metadata": {
    "ExecuteTime": {
     "end_time": "2020-08-11T04:51:12.937145Z",
     "start_time": "2020-08-11T04:51:12.879068Z"
    }
   },
   "outputs": [],
   "source": [
    "from tfumap.semisupervised import find_a_b\n",
    "from tfumap.umap import convert_distance_to_probability"
   ]
  },
  {
   "cell_type": "code",
   "execution_count": 17,
   "metadata": {
    "ExecuteTime": {
     "end_time": "2020-08-11T04:51:13.005863Z",
     "start_time": "2020-08-11T04:51:12.938653Z"
    }
   },
   "outputs": [
    {
     "data": {
      "text/plain": [
       "(<tf.Tensor: shape=(), dtype=float32, numpy=1.9328084>,\n",
       " <tf.Tensor: shape=(), dtype=float32, numpy=0.790495>)"
      ]
     },
     "execution_count": 17,
     "metadata": {},
     "output_type": "execute_result"
    }
   ],
   "source": [
    "min_dist = 0.0\n",
    "_a, _b = find_a_b(min_dist)\n",
    "_a, _b "
   ]
  },
  {
   "cell_type": "markdown",
   "metadata": {},
   "source": [
    "##### build iterator"
   ]
  },
  {
   "cell_type": "code",
   "execution_count": 18,
   "metadata": {
    "ExecuteTime": {
     "end_time": "2020-08-11T04:51:13.055145Z",
     "start_time": "2020-08-11T04:51:13.007550Z"
    }
   },
   "outputs": [],
   "source": [
    "from tfumap.semisupervised import build_fuzzy_simplicial_set\n",
    "from tfumap.umap import compute_cross_entropy, get_graph_elements"
   ]
  },
  {
   "cell_type": "code",
   "execution_count": 19,
   "metadata": {
    "ExecuteTime": {
     "end_time": "2020-08-11T04:51:34.887691Z",
     "start_time": "2020-08-11T04:51:13.056580Z"
    }
   },
   "outputs": [],
   "source": [
    "n_neighbors = 15  # default = 15\n",
    "umap_graph = build_fuzzy_simplicial_set(\n",
    "    X_train.reshape((len(X_train), np.product(np.shape(X_train)[1:]))),\n",
    "    y=Y_masked,\n",
    "    n_neighbors=n_neighbors,\n",
    ")"
   ]
  },
  {
   "cell_type": "code",
   "execution_count": 20,
   "metadata": {
    "ExecuteTime": {
     "end_time": "2020-08-11T04:51:34.963259Z",
     "start_time": "2020-08-11T04:51:34.889948Z"
    }
   },
   "outputs": [
    {
     "data": {
      "text/plain": [
       "128"
      ]
     },
     "execution_count": 20,
     "metadata": {},
     "output_type": "execute_result"
    }
   ],
   "source": [
    "n_epochs = 200\n",
    "graph, epochs_per_sample, head, tail, weight, n_vertices = get_graph_elements(\n",
    "            umap_graph, n_epochs\n",
    ")\n",
    "#batch_size = np.min([n_vertices, 1000])\n",
    "batch_size = 128\n",
    "batch_size"
   ]
  },
  {
   "cell_type": "code",
   "execution_count": 21,
   "metadata": {
    "ExecuteTime": {
     "end_time": "2020-08-11T04:51:35.003450Z",
     "start_time": "2020-08-11T04:51:34.964589Z"
    }
   },
   "outputs": [],
   "source": [
    "max_sample_repeats_per_epoch = 25\n",
    "# set the maximum number of times each edge should be repeated per epoch\n",
    "epochs_per_sample = np.clip(\n",
    "    (weight / np.max(weight)) * max_sample_repeats_per_epoch,\n",
    "    1,\n",
    "    max_sample_repeats_per_epoch,\n",
    ").astype(\"int\")"
   ]
  },
  {
   "cell_type": "code",
   "execution_count": 22,
   "metadata": {
    "ExecuteTime": {
     "end_time": "2020-08-11T04:51:36.237002Z",
     "start_time": "2020-08-11T04:51:35.004928Z"
    }
   },
   "outputs": [],
   "source": [
    "edges_to_exp, edges_from_exp = (\n",
    "        np.repeat(head, epochs_per_sample.astype(\"int\")),\n",
    "       np.repeat(tail, epochs_per_sample.astype(\"int\")),\n",
    ")\n",
    "shuffle_mask = np.random.permutation(range(len(edges_to_exp)))\n",
    "edges_to_exp = edges_to_exp[shuffle_mask]\n",
    "edges_from_exp = edges_from_exp[shuffle_mask]"
   ]
  },
  {
   "cell_type": "code",
   "execution_count": 23,
   "metadata": {
    "ExecuteTime": {
     "end_time": "2020-08-11T04:51:36.279483Z",
     "start_time": "2020-08-11T04:51:36.238676Z"
    }
   },
   "outputs": [],
   "source": [
    "negative_sample_rate = 5"
   ]
  },
  {
   "cell_type": "code",
   "execution_count": 24,
   "metadata": {
    "ExecuteTime": {
     "end_time": "2020-08-11T04:51:36.318382Z",
     "start_time": "2020-08-11T04:51:36.280843Z"
    }
   },
   "outputs": [],
   "source": [
    "def gather_X(edge_to, edge_from):\n",
    "    return (tf.gather(X_train, edge_to), tf.gather(X_train, edge_from)), 0"
   ]
  },
  {
   "cell_type": "code",
   "execution_count": 25,
   "metadata": {
    "ExecuteTime": {
     "end_time": "2020-08-11T04:51:40.252374Z",
     "start_time": "2020-08-11T04:51:36.319918Z"
    }
   },
   "outputs": [],
   "source": [
    "edge_iter = tf.data.Dataset.from_tensor_slices((edges_to_exp, edges_from_exp))\n",
    "edge_iter = edge_iter.shuffle(10000)\n",
    "edge_iter = edge_iter.map(gather_X, num_parallel_calls=tf.data.experimental.AUTOTUNE)"
   ]
  },
  {
   "cell_type": "code",
   "execution_count": 26,
   "metadata": {
    "ExecuteTime": {
     "end_time": "2020-08-11T04:51:40.737556Z",
     "start_time": "2020-08-11T04:51:40.253929Z"
    }
   },
   "outputs": [
    {
     "data": {
      "text/plain": [
       "<RepeatDataset shapes: ((32, 32, 3), (10,)), types: (tf.float32, tf.float32)>"
      ]
     },
     "execution_count": 26,
     "metadata": {},
     "output_type": "execute_result"
    }
   ],
   "source": [
    "labeled_dataset = tf.data.Dataset.from_tensor_slices((X_labeled, Y_labeled_one_hot)).shuffle(len(X_labeled)).repeat()\n",
    "labeled_dataset"
   ]
  },
  {
   "cell_type": "code",
   "execution_count": 27,
   "metadata": {
    "ExecuteTime": {
     "end_time": "2020-08-11T04:51:40.780703Z",
     "start_time": "2020-08-11T04:51:40.739035Z"
    }
   },
   "outputs": [],
   "source": [
    "def rearrange_output(label_iter_out, edge_iter_out):\n",
    "    X_lab, Y_lab = label_iter_out\n",
    "    (X_to, X_from), edge_prob = edge_iter_out\n",
    "    return (X_lab, X_to, X_from), {\"classifier\":Y_lab, \"umap\": edge_prob}"
   ]
  },
  {
   "cell_type": "code",
   "execution_count": 28,
   "metadata": {
    "ExecuteTime": {
     "end_time": "2020-08-11T04:51:40.857938Z",
     "start_time": "2020-08-11T04:51:40.782089Z"
    }
   },
   "outputs": [
    {
     "data": {
      "text/plain": [
       "<BatchDataset shapes: (((128, 32, 32, 3), (128, 32, 32, 3), (128, 32, 32, 3)), {classifier: (128, 10), umap: (128,)}), types: ((tf.float32, tf.float32, tf.float32), {classifier: tf.float32, umap: tf.int32})>"
      ]
     },
     "execution_count": 28,
     "metadata": {},
     "output_type": "execute_result"
    }
   ],
   "source": [
    "zipped_ds = tf.data.Dataset.zip((labeled_dataset, edge_iter))\n",
    "zipped_ds = zipped_ds.map(rearrange_output, num_parallel_calls=tf.data.experimental.AUTOTUNE)\n",
    "zipped_ds = zipped_ds.batch(batch_size, drop_remainder=True)\n",
    "zipped_ds"
   ]
  },
  {
   "cell_type": "code",
   "execution_count": 29,
   "metadata": {
    "ExecuteTime": {
     "end_time": "2020-08-11T04:51:46.180941Z",
     "start_time": "2020-08-11T04:51:40.859484Z"
    }
   },
   "outputs": [
    {
     "data": {
      "text/plain": [
       "(TensorShape([128, 32, 32, 3]),\n",
       " TensorShape([128, 32, 32, 3]),\n",
       " TensorShape([128, 32, 32, 3]))"
      ]
     },
     "execution_count": 29,
     "metadata": {},
     "output_type": "execute_result"
    }
   ],
   "source": [
    "(X_lab, X_to, X_from), test  = next(iter(zipped_ds))\n",
    "X_lab.shape, X_to.shape, X_from.shape"
   ]
  },
  {
   "cell_type": "markdown",
   "metadata": {},
   "source": [
    "#### Build network"
   ]
  },
  {
   "cell_type": "code",
   "execution_count": 30,
   "metadata": {
    "ExecuteTime": {
     "end_time": "2020-08-11T04:51:46.224251Z",
     "start_time": "2020-08-11T04:51:46.182298Z"
    }
   },
   "outputs": [],
   "source": [
    "def umap_loss(batch_size, negative_sample_rate, _a, _b, repulsion_strength = 1.0):\n",
    "    @tf.function\n",
    "    def loss(placeholder_y, embed_to_from):\n",
    "        # split out to/from\n",
    "        embedding_to, embedding_from = tf.split(embed_to_from, num_or_size_splits=2, axis=1)\n",
    "\n",
    "        # get negative samples\n",
    "        embedding_neg_to = tf.repeat(embedding_to, negative_sample_rate, axis=0)\n",
    "        repeat_neg = tf.repeat(embedding_from, negative_sample_rate, axis=0)\n",
    "        embedding_neg_from = tf.gather(\n",
    "            repeat_neg, tf.random.shuffle(tf.range(tf.shape(repeat_neg)[0]))\n",
    "        )\n",
    "\n",
    "        #  distances between samples (and negative samples)\n",
    "        distance_embedding = tf.concat(\n",
    "            [\n",
    "                tf.norm(embedding_to - embedding_from, axis=1),\n",
    "                tf.norm(embedding_neg_to - embedding_neg_from, axis=1),\n",
    "            ],\n",
    "            axis=0,\n",
    "        )\n",
    "\n",
    "        # convert probabilities to distances\n",
    "        probabilities_distance = convert_distance_to_probability(\n",
    "            distance_embedding, _a, _b\n",
    "        )\n",
    "        \n",
    "        # set true probabilities based on negative sampling\n",
    "        probabilities_graph = tf.concat(\n",
    "            [tf.ones(batch_size), tf.zeros(batch_size * negative_sample_rate)],\n",
    "            axis=0,\n",
    "        )\n",
    "                \n",
    "        # compute cross entropy\n",
    "        (attraction_loss, repellant_loss, ce_loss) = compute_cross_entropy(\n",
    "            probabilities_graph,\n",
    "            probabilities_distance,\n",
    "            repulsion_strength=repulsion_strength,\n",
    "        )\n",
    "        return tf.reduce_mean(ce_loss)\n",
    "\n",
    "    return loss"
   ]
  },
  {
   "cell_type": "code",
   "execution_count": 31,
   "metadata": {
    "ExecuteTime": {
     "end_time": "2020-08-11T04:51:46.259918Z",
     "start_time": "2020-08-11T04:51:46.225708Z"
    }
   },
   "outputs": [],
   "source": [
    "from tensorflow.keras.layers import Input"
   ]
  },
  {
   "cell_type": "code",
   "execution_count": 32,
   "metadata": {
    "ExecuteTime": {
     "end_time": "2020-08-11T04:51:47.600114Z",
     "start_time": "2020-08-11T04:51:46.261220Z"
    }
   },
   "outputs": [],
   "source": [
    "to_x = Input(shape=dims, name = \"to_x\")\n",
    "from_x = Input(shape=dims, name = \"from_x\")\n",
    "classifier_x = Input(shape=dims, name = \"classifier_x\")\n",
    "\n",
    "\n",
    "embedding_to = embedder(encoder(to_x))\n",
    "embedding_from = embedder(encoder(from_x))\n",
    "embedding_to_from = tf.concat([embedding_to, embedding_from], axis = 1)\n",
    "embedding_to_from = tf.keras.layers.Lambda(lambda x: x, name='umap')(embedding_to_from)\n",
    "\n",
    "predictions = classifier(encoder(classifier_x))\n",
    "predictions = tf.keras.layers.Lambda(lambda x: x, name='classifier')(predictions)\n",
    "\n",
    "model = tf.keras.Model(\n",
    "    inputs=[classifier_x, to_x, from_x],\n",
    "    outputs={\"classifier\": predictions, \"umap\":embedding_to_from},\n",
    ")"
   ]
  },
  {
   "cell_type": "code",
   "execution_count": 33,
   "metadata": {
    "ExecuteTime": {
     "end_time": "2020-08-11T04:51:47.661036Z",
     "start_time": "2020-08-11T04:51:47.601672Z"
    }
   },
   "outputs": [],
   "source": [
    "model.compile(\n",
    "    optimizer=tf.keras.optimizers.Adam(1e-3),\n",
    "    loss={\n",
    "        \"classifier\": tf.keras.losses.CategoricalCrossentropy(label_smoothing=0.2, from_logits=True),\n",
    "        \"umap\": umap_loss(batch_size, negative_sample_rate, _a, _b),\n",
    "    },\n",
    "    loss_weights = {\n",
    "        \"classifier\": 1.0,\n",
    "        \"umap\": 1.0,\n",
    "    },\n",
    "    metrics={\"classifier\":\"accuracy\"}\n",
    "\n",
    ")"
   ]
  },
  {
   "cell_type": "code",
   "execution_count": 34,
   "metadata": {
    "ExecuteTime": {
     "end_time": "2020-08-11T04:51:47.701157Z",
     "start_time": "2020-08-11T04:51:47.662527Z"
    }
   },
   "outputs": [],
   "source": [
    "early_stopping = tf.keras.callbacks.EarlyStopping(\n",
    "    monitor='val_classifier_loss', min_delta=0, patience=50, verbose=0, mode='auto',\n",
    "    baseline=None, restore_best_weights=False\n",
    ")"
   ]
  },
  {
   "cell_type": "code",
   "execution_count": 35,
   "metadata": {
    "ExecuteTime": {
     "end_time": "2020-08-11T04:51:47.930853Z",
     "start_time": "2020-08-11T04:51:47.702516Z"
    }
   },
   "outputs": [
    {
     "data": {
      "text/plain": [
       "312"
      ]
     },
     "execution_count": 35,
     "metadata": {},
     "output_type": "execute_result"
    }
   ],
   "source": [
    "num_batches = np.floor(len(X_train)/batch_size).astype(int)\n",
    "num_batches"
   ]
  },
  {
   "cell_type": "code",
   "execution_count": 36,
   "metadata": {
    "ExecuteTime": {
     "end_time": "2020-08-11T06:03:08.970228Z",
     "start_time": "2020-08-11T04:51:47.932261Z"
    }
   },
   "outputs": [
    {
     "name": "stdout",
     "output_type": "stream",
     "text": [
      "Epoch 1/100\n",
      "312/312 [==============================] - 49s 156ms/step - loss: 2.2149 - classifier_loss: 1.9002 - umap_loss: 0.3147 - classifier_accuracy: 0.4157 - val_loss: 1.7733 - val_classifier_loss: 1.7733 - val_umap_loss: 0.0000e+00 - val_classifier_accuracy: 0.4880\n",
      "Epoch 2/100\n",
      "312/312 [==============================] - 46s 146ms/step - loss: 1.8193 - classifier_loss: 1.5690 - umap_loss: 0.2502 - classifier_accuracy: 0.6023 - val_loss: 1.6051 - val_classifier_loss: 1.6051 - val_umap_loss: 0.0000e+00 - val_classifier_accuracy: 0.5901\n",
      "Epoch 3/100\n",
      "312/312 [==============================] - 46s 146ms/step - loss: 1.6826 - classifier_loss: 1.4398 - umap_loss: 0.2428 - classifier_accuracy: 0.6806 - val_loss: 1.5306 - val_classifier_loss: 1.5306 - val_umap_loss: 0.0000e+00 - val_classifier_accuracy: 0.6315\n",
      "Epoch 4/100\n",
      "312/312 [==============================] - 45s 145ms/step - loss: 1.5930 - classifier_loss: 1.3552 - umap_loss: 0.2377 - classifier_accuracy: 0.7328 - val_loss: 1.4603 - val_classifier_loss: 1.4603 - val_umap_loss: 0.0000e+00 - val_classifier_accuracy: 0.6691\n",
      "Epoch 5/100\n",
      "312/312 [==============================] - 45s 146ms/step - loss: 1.5338 - classifier_loss: 1.3006 - umap_loss: 0.2331 - classifier_accuracy: 0.7643 - val_loss: 1.5746 - val_classifier_loss: 1.5746 - val_umap_loss: 0.0000e+00 - val_classifier_accuracy: 0.6382\n",
      "Epoch 6/100\n",
      "312/312 [==============================] - 45s 146ms/step - loss: 1.4856 - classifier_loss: 1.2552 - umap_loss: 0.2304 - classifier_accuracy: 0.7889 - val_loss: 1.4109 - val_classifier_loss: 1.4109 - val_umap_loss: 0.0000e+00 - val_classifier_accuracy: 0.7105\n",
      "Epoch 7/100\n",
      "312/312 [==============================] - 45s 145ms/step - loss: 1.4536 - classifier_loss: 1.2268 - umap_loss: 0.2269 - classifier_accuracy: 0.8058 - val_loss: 1.3331 - val_classifier_loss: 1.3331 - val_umap_loss: 0.0000e+00 - val_classifier_accuracy: 0.7492\n",
      "Epoch 8/100\n",
      "312/312 [==============================] - 45s 145ms/step - loss: 1.4194 - classifier_loss: 1.1949 - umap_loss: 0.2245 - classifier_accuracy: 0.8236 - val_loss: 1.2413 - val_classifier_loss: 1.2413 - val_umap_loss: 0.0000e+00 - val_classifier_accuracy: 0.7967\n",
      "Epoch 9/100\n",
      "312/312 [==============================] - 46s 146ms/step - loss: 1.3959 - classifier_loss: 1.1734 - umap_loss: 0.2225 - classifier_accuracy: 0.8342 - val_loss: 1.3546 - val_classifier_loss: 1.3546 - val_umap_loss: 0.0000e+00 - val_classifier_accuracy: 0.7360\n",
      "Epoch 10/100\n",
      "312/312 [==============================] - 45s 145ms/step - loss: 1.3691 - classifier_loss: 1.1487 - umap_loss: 0.2204 - classifier_accuracy: 0.8498 - val_loss: 1.2332 - val_classifier_loss: 1.2332 - val_umap_loss: 0.0000e+00 - val_classifier_accuracy: 0.8022\n",
      "Epoch 11/100\n",
      "312/312 [==============================] - 45s 144ms/step - loss: 1.3488 - classifier_loss: 1.1317 - umap_loss: 0.2171 - classifier_accuracy: 0.8598 - val_loss: 1.2567 - val_classifier_loss: 1.2567 - val_umap_loss: 0.0000e+00 - val_classifier_accuracy: 0.7893\n",
      "Epoch 12/100\n",
      "312/312 [==============================] - 45s 145ms/step - loss: 1.3330 - classifier_loss: 1.1162 - umap_loss: 0.2168 - classifier_accuracy: 0.8673 - val_loss: 1.2661 - val_classifier_loss: 1.2661 - val_umap_loss: 0.0000e+00 - val_classifier_accuracy: 0.7937\n",
      "Epoch 13/100\n",
      "312/312 [==============================] - 45s 145ms/step - loss: 1.3132 - classifier_loss: 1.0994 - umap_loss: 0.2138 - classifier_accuracy: 0.8766 - val_loss: 1.3008 - val_classifier_loss: 1.3008 - val_umap_loss: 0.0000e+00 - val_classifier_accuracy: 0.7718\n",
      "Epoch 14/100\n",
      "312/312 [==============================] - 45s 145ms/step - loss: 1.2961 - classifier_loss: 1.0856 - umap_loss: 0.2105 - classifier_accuracy: 0.8849 - val_loss: 1.1640 - val_classifier_loss: 1.1640 - val_umap_loss: 0.0000e+00 - val_classifier_accuracy: 0.8432\n",
      "Epoch 15/100\n",
      "312/312 [==============================] - 45s 145ms/step - loss: 1.2816 - classifier_loss: 1.0728 - umap_loss: 0.2088 - classifier_accuracy: 0.8923 - val_loss: 1.2334 - val_classifier_loss: 1.2334 - val_umap_loss: 0.0000e+00 - val_classifier_accuracy: 0.8129\n",
      "Epoch 16/100\n",
      "312/312 [==============================] - 45s 145ms/step - loss: 1.2654 - classifier_loss: 1.0596 - umap_loss: 0.2058 - classifier_accuracy: 0.8999 - val_loss: 1.1878 - val_classifier_loss: 1.1878 - val_umap_loss: 0.0000e+00 - val_classifier_accuracy: 0.8334\n",
      "Epoch 17/100\n",
      "312/312 [==============================] - 45s 145ms/step - loss: 1.2583 - classifier_loss: 1.0546 - umap_loss: 0.2038 - classifier_accuracy: 0.9023 - val_loss: 1.2059 - val_classifier_loss: 1.2059 - val_umap_loss: 0.0000e+00 - val_classifier_accuracy: 0.8293\n",
      "Epoch 18/100\n",
      "312/312 [==============================] - 45s 145ms/step - loss: 1.2382 - classifier_loss: 1.0369 - umap_loss: 0.2013 - classifier_accuracy: 0.9128 - val_loss: 1.1911 - val_classifier_loss: 1.1911 - val_umap_loss: 0.0000e+00 - val_classifier_accuracy: 0.8282\n",
      "Epoch 19/100\n",
      "312/312 [==============================] - 45s 145ms/step - loss: 1.2290 - classifier_loss: 1.0298 - umap_loss: 0.1992 - classifier_accuracy: 0.9151 - val_loss: 1.1638 - val_classifier_loss: 1.1638 - val_umap_loss: 0.0000e+00 - val_classifier_accuracy: 0.8454\n",
      "Epoch 20/100\n",
      "312/312 [==============================] - 45s 145ms/step - loss: 1.2137 - classifier_loss: 1.0159 - umap_loss: 0.1978 - classifier_accuracy: 0.9233 - val_loss: 1.1508 - val_classifier_loss: 1.1508 - val_umap_loss: 0.0000e+00 - val_classifier_accuracy: 0.8508\n",
      "Epoch 21/100\n",
      "312/312 [==============================] - 46s 146ms/step - loss: 1.2036 - classifier_loss: 1.0093 - umap_loss: 0.1942 - classifier_accuracy: 0.9265 - val_loss: 1.1301 - val_classifier_loss: 1.1301 - val_umap_loss: 0.0000e+00 - val_classifier_accuracy: 0.8665\n",
      "Epoch 22/100\n",
      "312/312 [==============================] - 46s 147ms/step - loss: 1.1900 - classifier_loss: 0.9988 - umap_loss: 0.1912 - classifier_accuracy: 0.9323 - val_loss: 1.1691 - val_classifier_loss: 1.1691 - val_umap_loss: 0.0000e+00 - val_classifier_accuracy: 0.8443\n",
      "Epoch 23/100\n",
      "312/312 [==============================] - 46s 147ms/step - loss: 1.1828 - classifier_loss: 0.9930 - umap_loss: 0.1898 - classifier_accuracy: 0.9349 - val_loss: 1.1001 - val_classifier_loss: 1.1001 - val_umap_loss: 0.0000e+00 - val_classifier_accuracy: 0.8769\n",
      "Epoch 24/100\n",
      "312/312 [==============================] - 46s 148ms/step - loss: 1.1695 - classifier_loss: 0.9823 - umap_loss: 0.1871 - classifier_accuracy: 0.9416 - val_loss: 1.1496 - val_classifier_loss: 1.1496 - val_umap_loss: 0.0000e+00 - val_classifier_accuracy: 0.8577\n",
      "Epoch 25/100\n",
      "312/312 [==============================] - 46s 147ms/step - loss: 1.1669 - classifier_loss: 0.9804 - umap_loss: 0.1865 - classifier_accuracy: 0.9421 - val_loss: 1.1150 - val_classifier_loss: 1.1150 - val_umap_loss: 0.0000e+00 - val_classifier_accuracy: 0.8740\n",
      "Epoch 26/100\n",
      "312/312 [==============================] - 46s 147ms/step - loss: 1.1551 - classifier_loss: 0.9715 - umap_loss: 0.1836 - classifier_accuracy: 0.9471 - val_loss: 1.1301 - val_classifier_loss: 1.1301 - val_umap_loss: 0.0000e+00 - val_classifier_accuracy: 0.8665\n",
      "Epoch 27/100\n",
      "312/312 [==============================] - 46s 147ms/step - loss: 1.1466 - classifier_loss: 0.9644 - umap_loss: 0.1822 - classifier_accuracy: 0.9502 - val_loss: 1.1362 - val_classifier_loss: 1.1362 - val_umap_loss: 0.0000e+00 - val_classifier_accuracy: 0.8677\n",
      "Epoch 28/100\n",
      "312/312 [==============================] - 46s 147ms/step - loss: 1.1395 - classifier_loss: 0.9577 - umap_loss: 0.1818 - classifier_accuracy: 0.9538 - val_loss: 1.1208 - val_classifier_loss: 1.1208 - val_umap_loss: 0.0000e+00 - val_classifier_accuracy: 0.8733\n",
      "Epoch 29/100\n",
      "312/312 [==============================] - 46s 147ms/step - loss: 1.1354 - classifier_loss: 0.9559 - umap_loss: 0.1795 - classifier_accuracy: 0.9549 - val_loss: 1.1352 - val_classifier_loss: 1.1352 - val_umap_loss: 0.0000e+00 - val_classifier_accuracy: 0.8648\n",
      "Epoch 30/100\n",
      "312/312 [==============================] - 46s 147ms/step - loss: 1.1266 - classifier_loss: 0.9492 - umap_loss: 0.1774 - classifier_accuracy: 0.9585 - val_loss: 1.1153 - val_classifier_loss: 1.1153 - val_umap_loss: 0.0000e+00 - val_classifier_accuracy: 0.8757\n",
      "Epoch 31/100\n"
     ]
    },
    {
     "name": "stdout",
     "output_type": "stream",
     "text": [
      "312/312 [==============================] - 45s 145ms/step - loss: 1.1206 - classifier_loss: 0.9454 - umap_loss: 0.1752 - classifier_accuracy: 0.9610 - val_loss: 1.1150 - val_classifier_loss: 1.1150 - val_umap_loss: 0.0000e+00 - val_classifier_accuracy: 0.8763\n",
      "Epoch 32/100\n",
      "312/312 [==============================] - 45s 145ms/step - loss: 1.1128 - classifier_loss: 0.9402 - umap_loss: 0.1726 - classifier_accuracy: 0.9631 - val_loss: 1.0879 - val_classifier_loss: 1.0879 - val_umap_loss: 0.0000e+00 - val_classifier_accuracy: 0.8890\n",
      "Epoch 33/100\n",
      "312/312 [==============================] - 45s 145ms/step - loss: 1.1093 - classifier_loss: 0.9389 - umap_loss: 0.1705 - classifier_accuracy: 0.9648 - val_loss: 1.1357 - val_classifier_loss: 1.1357 - val_umap_loss: 0.0000e+00 - val_classifier_accuracy: 0.8666\n",
      "Epoch 34/100\n",
      "312/312 [==============================] - 45s 145ms/step - loss: 1.1016 - classifier_loss: 0.9318 - umap_loss: 0.1698 - classifier_accuracy: 0.9677 - val_loss: 1.1114 - val_classifier_loss: 1.1114 - val_umap_loss: 0.0000e+00 - val_classifier_accuracy: 0.8777\n",
      "Epoch 35/100\n",
      "312/312 [==============================] - 45s 145ms/step - loss: 1.0963 - classifier_loss: 0.9283 - umap_loss: 0.1681 - classifier_accuracy: 0.9691 - val_loss: 1.1240 - val_classifier_loss: 1.1240 - val_umap_loss: 0.0000e+00 - val_classifier_accuracy: 0.8727\n",
      "Epoch 36/100\n",
      "312/312 [==============================] - 45s 145ms/step - loss: 1.0920 - classifier_loss: 0.9261 - umap_loss: 0.1659 - classifier_accuracy: 0.9706 - val_loss: 1.1234 - val_classifier_loss: 1.1234 - val_umap_loss: 0.0000e+00 - val_classifier_accuracy: 0.8728\n",
      "Epoch 37/100\n",
      "312/312 [==============================] - 46s 146ms/step - loss: 1.0951 - classifier_loss: 0.9280 - umap_loss: 0.1671 - classifier_accuracy: 0.9694 - val_loss: 1.0940 - val_classifier_loss: 1.0940 - val_umap_loss: 0.0000e+00 - val_classifier_accuracy: 0.8885\n",
      "Epoch 38/100\n",
      "312/312 [==============================] - 47s 151ms/step - loss: 1.0829 - classifier_loss: 0.9196 - umap_loss: 0.1634 - classifier_accuracy: 0.9742 - val_loss: 1.1019 - val_classifier_loss: 1.1019 - val_umap_loss: 0.0000e+00 - val_classifier_accuracy: 0.8868\n",
      "Epoch 39/100\n",
      "312/312 [==============================] - 45s 145ms/step - loss: 1.0837 - classifier_loss: 0.9201 - umap_loss: 0.1636 - classifier_accuracy: 0.9734 - val_loss: 1.1415 - val_classifier_loss: 1.1415 - val_umap_loss: 0.0000e+00 - val_classifier_accuracy: 0.8669\n",
      "Epoch 40/100\n",
      "312/312 [==============================] - 45s 145ms/step - loss: 1.0793 - classifier_loss: 0.9169 - umap_loss: 0.1623 - classifier_accuracy: 0.9747 - val_loss: 1.1122 - val_classifier_loss: 1.1122 - val_umap_loss: 0.0000e+00 - val_classifier_accuracy: 0.8807\n",
      "Epoch 41/100\n",
      "312/312 [==============================] - 45s 145ms/step - loss: 1.0748 - classifier_loss: 0.9125 - umap_loss: 0.1624 - classifier_accuracy: 0.9780 - val_loss: 1.1140 - val_classifier_loss: 1.1140 - val_umap_loss: 0.0000e+00 - val_classifier_accuracy: 0.8814\n",
      "Epoch 42/100\n",
      "312/312 [==============================] - 47s 150ms/step - loss: 1.0735 - classifier_loss: 0.9130 - umap_loss: 0.1605 - classifier_accuracy: 0.9768 - val_loss: 1.1303 - val_classifier_loss: 1.1303 - val_umap_loss: 0.0000e+00 - val_classifier_accuracy: 0.8727\n",
      "Epoch 43/100\n",
      "312/312 [==============================] - 46s 147ms/step - loss: 1.0718 - classifier_loss: 0.9125 - umap_loss: 0.1593 - classifier_accuracy: 0.9773 - val_loss: 1.1468 - val_classifier_loss: 1.1468 - val_umap_loss: 0.0000e+00 - val_classifier_accuracy: 0.8705\n",
      "Epoch 44/100\n",
      "312/312 [==============================] - 45s 145ms/step - loss: 1.0654 - classifier_loss: 0.9082 - umap_loss: 0.1572 - classifier_accuracy: 0.9800 - val_loss: 1.1080 - val_classifier_loss: 1.1080 - val_umap_loss: 0.0000e+00 - val_classifier_accuracy: 0.8833\n",
      "Epoch 45/100\n",
      "312/312 [==============================] - 45s 145ms/step - loss: 1.0664 - classifier_loss: 0.9097 - umap_loss: 0.1568 - classifier_accuracy: 0.9785 - val_loss: 1.1076 - val_classifier_loss: 1.1076 - val_umap_loss: 0.0000e+00 - val_classifier_accuracy: 0.8843\n",
      "Epoch 46/100\n",
      "312/312 [==============================] - 45s 145ms/step - loss: 1.0661 - classifier_loss: 0.9086 - umap_loss: 0.1575 - classifier_accuracy: 0.9795 - val_loss: 1.1088 - val_classifier_loss: 1.1088 - val_umap_loss: 0.0000e+00 - val_classifier_accuracy: 0.8851\n",
      "Epoch 47/100\n",
      "312/312 [==============================] - 45s 145ms/step - loss: 1.0584 - classifier_loss: 0.9036 - umap_loss: 0.1548 - classifier_accuracy: 0.9822 - val_loss: 1.1132 - val_classifier_loss: 1.1132 - val_umap_loss: 0.0000e+00 - val_classifier_accuracy: 0.8848\n",
      "Epoch 48/100\n",
      "312/312 [==============================] - 45s 145ms/step - loss: 1.0587 - classifier_loss: 0.9055 - umap_loss: 0.1531 - classifier_accuracy: 0.9806 - val_loss: 1.1126 - val_classifier_loss: 1.1126 - val_umap_loss: 0.0000e+00 - val_classifier_accuracy: 0.8821\n",
      "Epoch 49/100\n",
      "312/312 [==============================] - 45s 145ms/step - loss: 1.0560 - classifier_loss: 0.9029 - umap_loss: 0.1530 - classifier_accuracy: 0.9826 - val_loss: 1.1167 - val_classifier_loss: 1.1167 - val_umap_loss: 0.0000e+00 - val_classifier_accuracy: 0.8795\n",
      "Epoch 50/100\n",
      "312/312 [==============================] - 45s 145ms/step - loss: 1.0532 - classifier_loss: 0.9004 - umap_loss: 0.1528 - classifier_accuracy: 0.9837 - val_loss: 1.0945 - val_classifier_loss: 1.0945 - val_umap_loss: 0.0000e+00 - val_classifier_accuracy: 0.8932\n",
      "Epoch 51/100\n",
      "312/312 [==============================] - 45s 145ms/step - loss: 1.0541 - classifier_loss: 0.9010 - umap_loss: 0.1531 - classifier_accuracy: 0.9839 - val_loss: 1.0947 - val_classifier_loss: 1.0947 - val_umap_loss: 0.0000e+00 - val_classifier_accuracy: 0.8867\n",
      "Epoch 52/100\n",
      "312/312 [==============================] - 45s 145ms/step - loss: 1.0494 - classifier_loss: 0.8990 - umap_loss: 0.1504 - classifier_accuracy: 0.9841 - val_loss: 1.1034 - val_classifier_loss: 1.1034 - val_umap_loss: 0.0000e+00 - val_classifier_accuracy: 0.8912\n",
      "Epoch 53/100\n",
      "312/312 [==============================] - 45s 145ms/step - loss: 1.0476 - classifier_loss: 0.8975 - umap_loss: 0.1501 - classifier_accuracy: 0.9853 - val_loss: 1.1001 - val_classifier_loss: 1.1001 - val_umap_loss: 0.0000e+00 - val_classifier_accuracy: 0.8871\n",
      "Epoch 54/100\n",
      "312/312 [==============================] - 45s 145ms/step - loss: 1.0493 - classifier_loss: 0.8994 - umap_loss: 0.1499 - classifier_accuracy: 0.9839 - val_loss: 1.1097 - val_classifier_loss: 1.1097 - val_umap_loss: 0.0000e+00 - val_classifier_accuracy: 0.8876\n",
      "Epoch 55/100\n",
      "312/312 [==============================] - 45s 145ms/step - loss: 1.0464 - classifier_loss: 0.8967 - umap_loss: 0.1497 - classifier_accuracy: 0.9850 - val_loss: 1.0922 - val_classifier_loss: 1.0922 - val_umap_loss: 0.0000e+00 - val_classifier_accuracy: 0.8904\n",
      "Epoch 56/100\n",
      "312/312 [==============================] - 45s 145ms/step - loss: 1.0451 - classifier_loss: 0.8962 - umap_loss: 0.1489 - classifier_accuracy: 0.9853 - val_loss: 1.1060 - val_classifier_loss: 1.1060 - val_umap_loss: 0.0000e+00 - val_classifier_accuracy: 0.8883\n",
      "Epoch 57/100\n",
      "312/312 [==============================] - 45s 145ms/step - loss: 1.0401 - classifier_loss: 0.8924 - umap_loss: 0.1477 - classifier_accuracy: 0.9881 - val_loss: 1.1122 - val_classifier_loss: 1.1122 - val_umap_loss: 0.0000e+00 - val_classifier_accuracy: 0.8871\n",
      "Epoch 58/100\n",
      "312/312 [==============================] - 45s 145ms/step - loss: 1.0434 - classifier_loss: 0.8947 - umap_loss: 0.1487 - classifier_accuracy: 0.9864 - val_loss: 1.0854 - val_classifier_loss: 1.0854 - val_umap_loss: 0.0000e+00 - val_classifier_accuracy: 0.8966\n",
      "Epoch 59/100\n",
      "312/312 [==============================] - 45s 145ms/step - loss: 1.0396 - classifier_loss: 0.8939 - umap_loss: 0.1457 - classifier_accuracy: 0.9867 - val_loss: 1.0826 - val_classifier_loss: 1.0826 - val_umap_loss: 0.0000e+00 - val_classifier_accuracy: 0.8984\n",
      "Epoch 60/100\n",
      "312/312 [==============================] - 45s 145ms/step - loss: 1.0383 - classifier_loss: 0.8926 - umap_loss: 0.1457 - classifier_accuracy: 0.9874 - val_loss: 1.0969 - val_classifier_loss: 1.0969 - val_umap_loss: 0.0000e+00 - val_classifier_accuracy: 0.8945\n",
      "Epoch 61/100\n"
     ]
    },
    {
     "name": "stdout",
     "output_type": "stream",
     "text": [
      "312/312 [==============================] - 45s 145ms/step - loss: 1.0368 - classifier_loss: 0.8927 - umap_loss: 0.1441 - classifier_accuracy: 0.9876 - val_loss: 1.1008 - val_classifier_loss: 1.1008 - val_umap_loss: 0.0000e+00 - val_classifier_accuracy: 0.8914\n",
      "Epoch 62/100\n",
      "312/312 [==============================] - 45s 145ms/step - loss: 1.0357 - classifier_loss: 0.8915 - umap_loss: 0.1442 - classifier_accuracy: 0.9881 - val_loss: 1.1026 - val_classifier_loss: 1.1026 - val_umap_loss: 0.0000e+00 - val_classifier_accuracy: 0.8901\n",
      "Epoch 63/100\n",
      "312/312 [==============================] - 45s 145ms/step - loss: 1.0351 - classifier_loss: 0.8905 - umap_loss: 0.1446 - classifier_accuracy: 0.9886 - val_loss: 1.1094 - val_classifier_loss: 1.1094 - val_umap_loss: 0.0000e+00 - val_classifier_accuracy: 0.8861\n",
      "Epoch 64/100\n",
      "312/312 [==============================] - 45s 145ms/step - loss: 1.0332 - classifier_loss: 0.8898 - umap_loss: 0.1434 - classifier_accuracy: 0.9888 - val_loss: 1.0978 - val_classifier_loss: 1.0978 - val_umap_loss: 0.0000e+00 - val_classifier_accuracy: 0.8899\n",
      "Epoch 65/100\n",
      "312/312 [==============================] - 45s 145ms/step - loss: 1.0321 - classifier_loss: 0.8889 - umap_loss: 0.1432 - classifier_accuracy: 0.9898 - val_loss: 1.0896 - val_classifier_loss: 1.0896 - val_umap_loss: 0.0000e+00 - val_classifier_accuracy: 0.8929\n",
      "Epoch 66/100\n",
      "312/312 [==============================] - 45s 146ms/step - loss: 1.0333 - classifier_loss: 0.8893 - umap_loss: 0.1440 - classifier_accuracy: 0.9895 - val_loss: 1.1153 - val_classifier_loss: 1.1153 - val_umap_loss: 0.0000e+00 - val_classifier_accuracy: 0.8881\n",
      "Epoch 67/100\n",
      "312/312 [==============================] - 45s 145ms/step - loss: 1.0315 - classifier_loss: 0.8893 - umap_loss: 0.1422 - classifier_accuracy: 0.9888 - val_loss: 1.1151 - val_classifier_loss: 1.1151 - val_umap_loss: 0.0000e+00 - val_classifier_accuracy: 0.8807\n",
      "Epoch 68/100\n",
      "312/312 [==============================] - 45s 145ms/step - loss: 1.0307 - classifier_loss: 0.8887 - umap_loss: 0.1420 - classifier_accuracy: 0.9889 - val_loss: 1.0861 - val_classifier_loss: 1.0861 - val_umap_loss: 0.0000e+00 - val_classifier_accuracy: 0.8994\n",
      "Epoch 69/100\n",
      "312/312 [==============================] - 46s 146ms/step - loss: 1.0269 - classifier_loss: 0.8863 - umap_loss: 0.1406 - classifier_accuracy: 0.9903 - val_loss: 1.1108 - val_classifier_loss: 1.1108 - val_umap_loss: 0.0000e+00 - val_classifier_accuracy: 0.8866\n",
      "Epoch 70/100\n",
      "312/312 [==============================] - 45s 145ms/step - loss: 1.0269 - classifier_loss: 0.8871 - umap_loss: 0.1398 - classifier_accuracy: 0.9904 - val_loss: 1.0895 - val_classifier_loss: 1.0895 - val_umap_loss: 0.0000e+00 - val_classifier_accuracy: 0.8985\n",
      "Epoch 71/100\n",
      "312/312 [==============================] - 45s 145ms/step - loss: 1.0269 - classifier_loss: 0.8867 - umap_loss: 0.1402 - classifier_accuracy: 0.9899 - val_loss: 1.1165 - val_classifier_loss: 1.1165 - val_umap_loss: 0.0000e+00 - val_classifier_accuracy: 0.8822\n",
      "Epoch 72/100\n",
      "312/312 [==============================] - 46s 146ms/step - loss: 1.0254 - classifier_loss: 0.8855 - umap_loss: 0.1399 - classifier_accuracy: 0.9908 - val_loss: 1.0824 - val_classifier_loss: 1.0824 - val_umap_loss: 0.0000e+00 - val_classifier_accuracy: 0.9005\n",
      "Epoch 73/100\n",
      "312/312 [==============================] - 46s 148ms/step - loss: 1.0270 - classifier_loss: 0.8871 - umap_loss: 0.1399 - classifier_accuracy: 0.9903 - val_loss: 1.1119 - val_classifier_loss: 1.1119 - val_umap_loss: 0.0000e+00 - val_classifier_accuracy: 0.8867\n",
      "Epoch 74/100\n",
      "312/312 [==============================] - 45s 145ms/step - loss: 1.0240 - classifier_loss: 0.8854 - umap_loss: 0.1386 - classifier_accuracy: 0.9909 - val_loss: 1.0822 - val_classifier_loss: 1.0822 - val_umap_loss: 0.0000e+00 - val_classifier_accuracy: 0.8986\n",
      "Epoch 75/100\n",
      "312/312 [==============================] - 45s 146ms/step - loss: 1.0217 - classifier_loss: 0.8842 - umap_loss: 0.1375 - classifier_accuracy: 0.9915 - val_loss: 1.1030 - val_classifier_loss: 1.1030 - val_umap_loss: 0.0000e+00 - val_classifier_accuracy: 0.8890\n",
      "Epoch 76/100\n",
      "312/312 [==============================] - 45s 145ms/step - loss: 1.0261 - classifier_loss: 0.8867 - umap_loss: 0.1394 - classifier_accuracy: 0.9903 - val_loss: 1.0733 - val_classifier_loss: 1.0733 - val_umap_loss: 0.0000e+00 - val_classifier_accuracy: 0.9039\n",
      "Epoch 77/100\n",
      "312/312 [==============================] - 46s 146ms/step - loss: 1.0177 - classifier_loss: 0.8821 - umap_loss: 0.1356 - classifier_accuracy: 0.9927 - val_loss: 1.0740 - val_classifier_loss: 1.0740 - val_umap_loss: 0.0000e+00 - val_classifier_accuracy: 0.9028\n",
      "Epoch 78/100\n",
      "312/312 [==============================] - 47s 149ms/step - loss: 1.0255 - classifier_loss: 0.8868 - umap_loss: 0.1387 - classifier_accuracy: 0.9902 - val_loss: 1.1192 - val_classifier_loss: 1.1192 - val_umap_loss: 0.0000e+00 - val_classifier_accuracy: 0.8839\n",
      "Epoch 79/100\n",
      "312/312 [==============================] - 47s 150ms/step - loss: 1.0222 - classifier_loss: 0.8857 - umap_loss: 0.1365 - classifier_accuracy: 0.9904 - val_loss: 1.0967 - val_classifier_loss: 1.0967 - val_umap_loss: 0.0000e+00 - val_classifier_accuracy: 0.8928\n",
      "Epoch 80/100\n",
      "312/312 [==============================] - 45s 146ms/step - loss: 1.0204 - classifier_loss: 0.8836 - umap_loss: 0.1367 - classifier_accuracy: 0.9920 - val_loss: 1.1237 - val_classifier_loss: 1.1237 - val_umap_loss: 0.0000e+00 - val_classifier_accuracy: 0.8802\n",
      "Epoch 81/100\n",
      "312/312 [==============================] - 46s 147ms/step - loss: 1.0206 - classifier_loss: 0.8843 - umap_loss: 0.1363 - classifier_accuracy: 0.9916 - val_loss: 1.0964 - val_classifier_loss: 1.0964 - val_umap_loss: 0.0000e+00 - val_classifier_accuracy: 0.8963\n",
      "Epoch 82/100\n",
      "312/312 [==============================] - 46s 147ms/step - loss: 1.0171 - classifier_loss: 0.8824 - umap_loss: 0.1347 - classifier_accuracy: 0.9921 - val_loss: 1.1040 - val_classifier_loss: 1.1040 - val_umap_loss: 0.0000e+00 - val_classifier_accuracy: 0.8886\n",
      "Epoch 83/100\n",
      "312/312 [==============================] - 46s 147ms/step - loss: 1.0177 - classifier_loss: 0.8822 - umap_loss: 0.1355 - classifier_accuracy: 0.9927 - val_loss: 1.0950 - val_classifier_loss: 1.0950 - val_umap_loss: 0.0000e+00 - val_classifier_accuracy: 0.8977\n",
      "Epoch 84/100\n",
      "312/312 [==============================] - 46s 148ms/step - loss: 1.0180 - classifier_loss: 0.8830 - umap_loss: 0.1351 - classifier_accuracy: 0.9921 - val_loss: 1.0859 - val_classifier_loss: 1.0859 - val_umap_loss: 0.0000e+00 - val_classifier_accuracy: 0.9011\n",
      "Epoch 85/100\n",
      "312/312 [==============================] - 46s 147ms/step - loss: 1.0161 - classifier_loss: 0.8820 - umap_loss: 0.1340 - classifier_accuracy: 0.9925 - val_loss: 1.0806 - val_classifier_loss: 1.0806 - val_umap_loss: 0.0000e+00 - val_classifier_accuracy: 0.8998\n",
      "Epoch 86/100\n",
      "312/312 [==============================] - 46s 147ms/step - loss: 1.0136 - classifier_loss: 0.8804 - umap_loss: 0.1332 - classifier_accuracy: 0.9937 - val_loss: 1.1216 - val_classifier_loss: 1.1216 - val_umap_loss: 0.0000e+00 - val_classifier_accuracy: 0.8866\n",
      "Epoch 87/100\n",
      "312/312 [==============================] - 46s 147ms/step - loss: 1.0165 - classifier_loss: 0.8816 - umap_loss: 0.1350 - classifier_accuracy: 0.9929 - val_loss: 1.0949 - val_classifier_loss: 1.0949 - val_umap_loss: 0.0000e+00 - val_classifier_accuracy: 0.8962\n",
      "Epoch 88/100\n",
      "312/312 [==============================] - 46s 147ms/step - loss: 1.0155 - classifier_loss: 0.8817 - umap_loss: 0.1338 - classifier_accuracy: 0.9932 - val_loss: 1.0844 - val_classifier_loss: 1.0844 - val_umap_loss: 0.0000e+00 - val_classifier_accuracy: 0.9006\n",
      "Epoch 89/100\n",
      "312/312 [==============================] - 46s 147ms/step - loss: 1.0155 - classifier_loss: 0.8820 - umap_loss: 0.1335 - classifier_accuracy: 0.9923 - val_loss: 1.1255 - val_classifier_loss: 1.1255 - val_umap_loss: 0.0000e+00 - val_classifier_accuracy: 0.8824\n",
      "Epoch 90/100\n",
      "312/312 [==============================] - 46s 147ms/step - loss: 1.0144 - classifier_loss: 0.8820 - umap_loss: 0.1325 - classifier_accuracy: 0.9927 - val_loss: 1.1037 - val_classifier_loss: 1.1037 - val_umap_loss: 0.0000e+00 - val_classifier_accuracy: 0.8924\n",
      "Epoch 91/100\n"
     ]
    },
    {
     "name": "stdout",
     "output_type": "stream",
     "text": [
      "312/312 [==============================] - 46s 147ms/step - loss: 1.0173 - classifier_loss: 0.8843 - umap_loss: 0.1330 - classifier_accuracy: 0.9915 - val_loss: 1.1052 - val_classifier_loss: 1.1052 - val_umap_loss: 0.0000e+00 - val_classifier_accuracy: 0.8875\n",
      "Epoch 92/100\n",
      "312/312 [==============================] - 46s 147ms/step - loss: 1.0122 - classifier_loss: 0.8797 - umap_loss: 0.1325 - classifier_accuracy: 0.9939 - val_loss: 1.0839 - val_classifier_loss: 1.0839 - val_umap_loss: 0.0000e+00 - val_classifier_accuracy: 0.9007\n",
      "Epoch 93/100\n",
      "312/312 [==============================] - 46s 147ms/step - loss: 1.0136 - classifier_loss: 0.8804 - umap_loss: 0.1332 - classifier_accuracy: 0.9938 - val_loss: 1.0948 - val_classifier_loss: 1.0948 - val_umap_loss: 0.0000e+00 - val_classifier_accuracy: 0.8957\n",
      "Epoch 94/100\n",
      " 88/312 [=======>......................] - ETA: 28s - loss: 1.0205 - classifier_loss: 0.8856 - umap_loss: 0.1349 - classifier_accuracy: 0.9913"
     ]
    },
    {
     "name": "stderr",
     "output_type": "stream",
     "text": [
      "WARNING: Logging before flag parsing goes to stderr.\n",
      "W0810 23:03:02.565945 140314247128896 data_adapter.py:1182] Your input ran out of data; interrupting training. Make sure that your dataset or generator can generate at least `steps_per_epoch * epochs` batches (in this case, 31200 batches). You may need to use the repeat() function when building your dataset.\n"
     ]
    },
    {
     "name": "stdout",
     "output_type": "stream",
     "text": [
      "\b\b\b\b\b\b\b\b\b\b\b\b\b\b\b\b\b\b\b\b\b\b\b\b\b\b\b\b\b\b\b\b\b\b\b\b\b\b\b\b\b\b\b\b\b\b\b\b\b\b\b\b\b\b\b\b\b\b\b\b\b\b\b\b\b\b\b\b\b\b\b\b\b\b\b\b\b\b\b\b\b\b\b\b\b\b\b\b\b\b\b\b\b\b\b\b\b\b\b\b\b\b\b\b\b\b\b\b\b\b\b\b\b\b\b\b\b\b\b\b\b\b\b\b\b\b\b\b\b\b\b\b\b\b\b\b\b\b\b\b\b\b\r",
      " 88/312 [=======>......................] - 17s 198ms/step - loss: 1.0205 - classifier_loss: 0.8856 - umap_loss: 0.1349 - classifier_accuracy: 0.9913 - val_loss: 1.0878 - val_classifier_loss: 1.0878 - val_umap_loss: 0.0000e+00 - val_classifier_accuracy: 0.8990\n"
     ]
    }
   ],
   "source": [
    "history = model.fit(\n",
    "    zipped_ds,\n",
    "    epochs=100,\n",
    "    validation_data=(\n",
    "        (X_valid, tf.zeros_like(X_valid), tf.zeros_like(X_valid)),\n",
    "        {\"classifier\": Y_valid_one_hot},\n",
    "    ),\n",
    "    callbacks = [early_stopping],\n",
    "    max_queue_size = 100,\n",
    "    steps_per_epoch = num_batches\n",
    ")"
   ]
  },
  {
   "cell_type": "code",
   "execution_count": 37,
   "metadata": {
    "ExecuteTime": {
     "end_time": "2020-08-11T06:03:12.969484Z",
     "start_time": "2020-08-11T06:03:08.972162Z"
    }
   },
   "outputs": [],
   "source": [
    "pred_test = classifier.predict(encoder.predict(X_test))"
   ]
  },
  {
   "cell_type": "code",
   "execution_count": 38,
   "metadata": {
    "ExecuteTime": {
     "end_time": "2020-08-11T06:03:13.012566Z",
     "start_time": "2020-08-11T06:03:12.970596Z"
    }
   },
   "outputs": [
    {
     "data": {
      "text/plain": [
       "0.8956"
      ]
     },
     "execution_count": 38,
     "metadata": {},
     "output_type": "execute_result"
    }
   ],
   "source": [
    "np.mean(np.argmax(pred_test, axis = 1) == Y_test)"
   ]
  },
  {
   "cell_type": "code",
   "execution_count": 39,
   "metadata": {
    "ExecuteTime": {
     "end_time": "2020-08-11T06:03:23.231138Z",
     "start_time": "2020-08-11T06:03:13.013551Z"
    }
   },
   "outputs": [],
   "source": [
    "z = embedder.predict(encoder.predict(X_train))"
   ]
  },
  {
   "cell_type": "code",
   "execution_count": 40,
   "metadata": {
    "ExecuteTime": {
     "end_time": "2020-08-11T06:03:24.300806Z",
     "start_time": "2020-08-11T06:03:23.232366Z"
    }
   },
   "outputs": [
    {
     "data": {
      "image/png": "[encoded data removed]",
      "text/plain": [
       "<Figure size 576x576 with 2 Axes>"
      ]
     },
     "metadata": {
      "needs_background": "light"
     },
     "output_type": "display_data"
    }
   ],
   "source": [
    "fig, ax = plt.subplots( figsize=(8, 8))\n",
    "sc = ax.scatter(\n",
    "    z[:, 0],\n",
    "    z[:, 1],\n",
    "    c=Y_train.astype(int)[:len(z)],\n",
    "    cmap=\"tab10\",\n",
    "    s=0.1,\n",
    "    alpha=0.5,\n",
    "    rasterized=True,\n",
    ")\n",
    "ax.axis('equal')\n",
    "ax.set_title(\"UMAP in Tensorflow embedding\", fontsize=20)\n",
    "plt.colorbar(sc, ax=ax);"
   ]
  },
  {
   "cell_type": "code",
   "execution_count": 41,
   "metadata": {
    "ExecuteTime": {
     "end_time": "2020-08-11T06:03:24.343403Z",
     "start_time": "2020-08-11T06:03:24.301883Z"
    }
   },
   "outputs": [
    {
     "data": {
      "text/plain": [
       "dict_keys(['loss', 'classifier_loss', 'umap_loss', 'classifier_accuracy', 'val_loss', 'val_classifier_loss', 'val_umap_loss', 'val_classifier_accuracy'])"
      ]
     },
     "execution_count": 41,
     "metadata": {},
     "output_type": "execute_result"
    }
   ],
   "source": [
    "history.history.keys()"
   ]
  },
  {
   "cell_type": "code",
   "execution_count": 42,
   "metadata": {
    "ExecuteTime": {
     "end_time": "2020-08-11T06:03:24.607106Z",
     "start_time": "2020-08-11T06:03:24.344829Z"
    }
   },
   "outputs": [
    {
     "data": {
      "text/plain": [
       "Text(0.5, 1.0, 'classifier acc')"
      ]
     },
     "execution_count": 42,
     "metadata": {},
     "output_type": "execute_result"
    },
    {
     "data": {
      "image/png": "[encoded data removed]",
      "text/plain": [
       "<Figure size 1440x288 with 2 Axes>"
      ]
     },
     "metadata": {
      "needs_background": "light"
     },
     "output_type": "display_data"
    }
   ],
   "source": [
    "fig, axs = plt.subplots(ncols = 2, figsize=(20,4))\n",
    "\n",
    "ax = axs[0]\n",
    "ax.plot(history.history['classifier_loss'], label='classifier loss')\n",
    "ax.plot(history.history['umap_loss'], label='umap loss')\n",
    "ax.set_title(\"classifier acc\")\n",
    "ax.legend()\n",
    "ax = axs[1]\n",
    "ax.plot(history.history['classifier_accuracy'], label='val')\n",
    "ax.plot(history.history['val_classifier_accuracy'], label='train')\n",
    "ax.legend()\n",
    "ax.set_title(\"classifier acc\")"
   ]
  },
  {
   "cell_type": "code",
   "execution_count": null,
   "metadata": {},
   "outputs": [],
   "source": [
    "### get last layer activation"
   ]
  },
  {
   "cell_type": "code",
   "execution_count": null,
   "metadata": {},
   "outputs": [],
   "source": [
    "pred_model = tf.keras.models.Model(model.classifier.input,[model.classifier.get_layer(name=\"dense_1\").get_output_at(0)])"
   ]
  }
 ],
 "metadata": {
  "kernelspec": {
   "display_name": "Python 3",
   "language": "python",
   "name": "python3"
  },
  "language_info": {
   "codemirror_mode": {
    "name": "ipython",
    "version": 3
   },
   "file_extension": ".py",
   "mimetype": "text/x-python",
   "name": "python",
   "nbconvert_exporter": "python",
   "pygments_lexer": "ipython3",
   "version": "3.6.7"
  }
 },
 "nbformat": 4,
 "nbformat_minor": 2
}
