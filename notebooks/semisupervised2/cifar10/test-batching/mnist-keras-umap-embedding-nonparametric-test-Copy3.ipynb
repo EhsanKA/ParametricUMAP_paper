{
 "cells": [
  {
   "cell_type": "code",
   "execution_count": 1,
   "metadata": {
    "ExecuteTime": {
     "end_time": "2020-08-13T21:08:32.841749Z",
     "start_time": "2020-08-13T21:08:32.830460Z"
    }
   },
   "outputs": [],
   "source": [
    "# reload packages\n",
    "%load_ext autoreload\n",
    "%autoreload 2"
   ]
  },
  {
   "cell_type": "markdown",
   "metadata": {},
   "source": [
    "### Choose GPU"
   ]
  },
  {
   "cell_type": "code",
   "execution_count": 2,
   "metadata": {
    "ExecuteTime": {
     "end_time": "2020-08-13T21:08:32.849916Z",
     "start_time": "2020-08-13T21:08:32.842575Z"
    }
   },
   "outputs": [
    {
     "name": "stdout",
     "output_type": "stream",
     "text": [
      "env: CUDA_DEVICE_ORDER=PCI_BUS_ID\n",
      "env: CUDA_VISIBLE_DEVICES=1\n"
     ]
    }
   ],
   "source": [
    "%env CUDA_DEVICE_ORDER=PCI_BUS_ID\n",
    "%env CUDA_VISIBLE_DEVICES=1"
   ]
  },
  {
   "cell_type": "code",
   "execution_count": 3,
   "metadata": {
    "ExecuteTime": {
     "end_time": "2020-08-13T21:08:39.144789Z",
     "start_time": "2020-08-13T21:08:32.851041Z"
    }
   },
   "outputs": [
    {
     "name": "stdout",
     "output_type": "stream",
     "text": [
      "[PhysicalDevice(name='/physical_device:GPU:0', device_type='GPU')]\n"
     ]
    }
   ],
   "source": [
    "import tensorflow as tf\n",
    "gpu_devices = tf.config.experimental.list_physical_devices('GPU')\n",
    "if len(gpu_devices)>0:\n",
    "    tf.config.experimental.set_memory_growth(gpu_devices[0], True)\n",
    "print(gpu_devices)\n",
    "tf.keras.backend.clear_session()"
   ]
  },
  {
   "cell_type": "code",
   "execution_count": 4,
   "metadata": {
    "ExecuteTime": {
     "end_time": "2020-08-13T21:08:39.170966Z",
     "start_time": "2020-08-13T21:08:39.146132Z"
    }
   },
   "outputs": [],
   "source": [
    "labels_per_class = 'full' # full"
   ]
  },
  {
   "cell_type": "markdown",
   "metadata": {},
   "source": [
    "### Load packages"
   ]
  },
  {
   "cell_type": "code",
   "execution_count": 5,
   "metadata": {
    "ExecuteTime": {
     "end_time": "2020-08-13T21:08:44.280493Z",
     "start_time": "2020-08-13T21:08:39.172257Z"
    }
   },
   "outputs": [
    {
     "name": "stderr",
     "output_type": "stream",
     "text": [
      "/mnt/cube/tsainbur/conda_envs/tpy3/lib/python3.6/site-packages/tqdm/autonotebook/__init__.py:14: TqdmExperimentalWarning: Using `tqdm.autonotebook.tqdm` in notebook mode. Use `tqdm.tqdm` instead to force console mode (e.g. in jupyter console)\n",
      "  \" (e.g. in jupyter console)\", TqdmExperimentalWarning)\n"
     ]
    }
   ],
   "source": [
    "import tensorflow as tf\n",
    "import numpy as np\n",
    "import matplotlib.pyplot as plt\n",
    "from tqdm.autonotebook import tqdm\n",
    "from IPython import display\n",
    "import pandas as pd\n",
    "import umap\n",
    "import copy\n",
    "import os, tempfile"
   ]
  },
  {
   "cell_type": "markdown",
   "metadata": {},
   "source": [
    "### Load dataset"
   ]
  },
  {
   "cell_type": "code",
   "execution_count": 6,
   "metadata": {
    "ExecuteTime": {
     "end_time": "2020-08-13T21:08:44.820228Z",
     "start_time": "2020-08-13T21:08:44.281954Z"
    }
   },
   "outputs": [
    {
     "data": {
      "text/plain": [
       "(50000, 28, 28, 1)"
      ]
     },
     "execution_count": 6,
     "metadata": {},
     "output_type": "execute_result"
    }
   ],
   "source": [
    "from tfumap.load_datasets import load_MNIST, mask_labels\n",
    "X_train, X_test, X_valid, Y_train, Y_test, Y_valid = load_MNIST(flatten=False)\n",
    "X_train.shape"
   ]
  },
  {
   "cell_type": "code",
   "execution_count": 7,
   "metadata": {
    "ExecuteTime": {
     "end_time": "2020-08-13T21:08:44.860496Z",
     "start_time": "2020-08-13T21:08:44.821685Z"
    }
   },
   "outputs": [],
   "source": [
    "if labels_per_class == \"full\":\n",
    "    X_labeled = X_train\n",
    "    Y_masked = Y_labeled = Y_train\n",
    "else:\n",
    "    X_labeled, Y_labeled, Y_masked = mask_labels(\n",
    "        X_train, Y_train, labels_per_class=labels_per_class\n",
    "    )"
   ]
  },
  {
   "cell_type": "markdown",
   "metadata": {},
   "source": [
    "### Network architecture"
   ]
  },
  {
   "cell_type": "code",
   "execution_count": 8,
   "metadata": {
    "ExecuteTime": {
     "end_time": "2020-08-13T21:08:44.891611Z",
     "start_time": "2020-08-13T21:08:44.861634Z"
    }
   },
   "outputs": [],
   "source": [
    "dims = (28,28,1)\n",
    "n_components= 2"
   ]
  },
  {
   "cell_type": "code",
   "execution_count": 9,
   "metadata": {
    "ExecuteTime": {
     "end_time": "2020-08-13T21:08:45.628059Z",
     "start_time": "2020-08-13T21:08:44.892850Z"
    }
   },
   "outputs": [],
   "source": [
    "encoder = tf.keras.Sequential([\n",
    "    tf.keras.layers.InputLayer(input_shape=dims),\n",
    "    tf.keras.layers.Conv2D(\n",
    "        filters=64, kernel_size=3, strides=(2, 2), activation=\"relu\"\n",
    "    ),\n",
    "    tf.keras.layers.Conv2D(\n",
    "        filters=128, kernel_size=3, strides=(2, 2), activation=\"relu\"\n",
    "    ),\n",
    "\n",
    "    tf.keras.layers.Flatten(),\n",
    "    tf.keras.layers.Dense(units=512, activation=\"relu\"),\n",
    "    tf.keras.layers.Dense(units=512, activation=\"relu\"),\n",
    "    tf.keras.layers.Dense(units=n_components),\n",
    "])"
   ]
  },
  {
   "cell_type": "markdown",
   "metadata": {},
   "source": [
    "### Test model with just UMAP"
   ]
  },
  {
   "cell_type": "code",
   "execution_count": 10,
   "metadata": {
    "ExecuteTime": {
     "end_time": "2020-08-13T21:08:45.703711Z",
     "start_time": "2020-08-13T21:08:45.629463Z"
    }
   },
   "outputs": [],
   "source": [
    "from tfumap.semisupervised import find_a_b\n",
    "from tfumap.umap import convert_distance_to_probability"
   ]
  },
  {
   "cell_type": "code",
   "execution_count": 11,
   "metadata": {
    "ExecuteTime": {
     "end_time": "2020-08-13T21:08:45.753524Z",
     "start_time": "2020-08-13T21:08:45.706279Z"
    }
   },
   "outputs": [
    {
     "data": {
      "text/plain": [
       "(<tf.Tensor: shape=(), dtype=float32, numpy=1.9290735>,\n",
       " <tf.Tensor: shape=(), dtype=float32, numpy=0.79150456>)"
      ]
     },
     "execution_count": 11,
     "metadata": {},
     "output_type": "execute_result"
    }
   ],
   "source": [
    "min_dist = 0.001\n",
    "_a, _b = find_a_b(min_dist)\n",
    "_a, _b "
   ]
  },
  {
   "cell_type": "markdown",
   "metadata": {},
   "source": [
    "##### build iterator"
   ]
  },
  {
   "cell_type": "code",
   "execution_count": 12,
   "metadata": {
    "ExecuteTime": {
     "end_time": "2020-08-13T21:08:45.793901Z",
     "start_time": "2020-08-13T21:08:45.755260Z"
    }
   },
   "outputs": [],
   "source": [
    "from tfumap.semisupervised import build_fuzzy_simplicial_set\n",
    "from tfumap.umap import compute_cross_entropy, get_graph_elements"
   ]
  },
  {
   "cell_type": "code",
   "execution_count": 13,
   "metadata": {
    "ExecuteTime": {
     "end_time": "2020-08-13T21:09:05.332623Z",
     "start_time": "2020-08-13T21:08:45.795455Z"
    }
   },
   "outputs": [],
   "source": [
    "n_neighbors = 15  # default = 15\n",
    "umap_graph = build_fuzzy_simplicial_set(\n",
    "    X_train.reshape((len(X_train), np.product(np.shape(X_train)[1:]))),\n",
    "    #y=Y_masked,\n",
    "    n_neighbors=n_neighbors,\n",
    ")"
   ]
  },
  {
   "cell_type": "code",
   "execution_count": 14,
   "metadata": {
    "ExecuteTime": {
     "end_time": "2020-08-13T21:09:05.510487Z",
     "start_time": "2020-08-13T21:09:05.334290Z"
    }
   },
   "outputs": [
    {
     "data": {
      "text/plain": [
       "50000"
      ]
     },
     "execution_count": 14,
     "metadata": {},
     "output_type": "execute_result"
    }
   ],
   "source": [
    "n_epochs = 200\n",
    "graph, epochs_per_sample, head, tail, weight, n_vertices = get_graph_elements(\n",
    "            umap_graph, n_epochs\n",
    ")\n",
    "batch_size = np.min([n_vertices, 60000])\n",
    "batch_size"
   ]
  },
  {
   "cell_type": "markdown",
   "metadata": {},
   "source": [
    "### initialize embedding"
   ]
  },
  {
   "cell_type": "code",
   "execution_count": 15,
   "metadata": {
    "ExecuteTime": {
     "end_time": "2020-08-13T21:09:05.555983Z",
     "start_time": "2020-08-13T21:09:05.512271Z"
    }
   },
   "outputs": [],
   "source": [
    "from umap.spectral import spectral_layout\n",
    "\n",
    "from sklearn.utils import check_random_state\n",
    "\n",
    "random_state = check_random_state(None)\n",
    "metric = \"euclidean\"\n",
    "_metric_kwds = {}\n",
    "def init_embedding_from_graph(_raw_data, graph, n_components, random_state, metric, _metric_kwds, init=\"spectral\"):\n",
    "        \"\"\" Initialize embedding using graph. This is for direct embeddings. \n",
    "\n",
    "        Parameters\n",
    "        ----------\n",
    "        init : str, optional\n",
    "            Type of initialization to use. Either random, or spectral, by default \"spectral\"\n",
    "\n",
    "        Returns\n",
    "        -------\n",
    "        embedding : np.array\n",
    "            the initialized embedding\n",
    "        \"\"\"\n",
    "        if isinstance(init, str) and init == \"random\":\n",
    "            embedding = random_state.uniform(\n",
    "                low=-10.0, high=10.0, size=(graph.shape[0], n_components)\n",
    "            ).astype(np.float32)\n",
    "        elif isinstance(init, str) and init == \"spectral\":\n",
    "            # We add a little noise to avoid local minima for optimization to come\n",
    "\n",
    "            initialisation = spectral_layout(\n",
    "                _raw_data,\n",
    "                graph,\n",
    "                n_components,\n",
    "                random_state,\n",
    "                metric=metric,\n",
    "                metric_kwds=_metric_kwds,\n",
    "            )\n",
    "            expansion = 10.0 / np.abs(initialisation).max()\n",
    "            embedding = (initialisation * expansion).astype(\n",
    "                np.float32\n",
    "            ) + random_state.normal(\n",
    "                scale=0.0001, size=[graph.shape[0], n_components]\n",
    "            ).astype(\n",
    "                np.float32\n",
    "            )\n",
    "\n",
    "        else:\n",
    "            init_data = np.array(init)\n",
    "            if len(init_data.shape) == 2:\n",
    "                if np.unique(init_data, axis=0).shape[0] < init_data.shape[0]:\n",
    "                    tree = KDTree(init_data)\n",
    "                    dist, ind = tree.query(init_data, k=2)\n",
    "                    nndist = np.mean(dist[:, 1])\n",
    "                    embedding = init_data + random_state.normal(\n",
    "                        scale=0.001 * nndist, size=init_data.shape\n",
    "                    ).astype(np.float32)\n",
    "                else:\n",
    "                    embedding = init_data\n",
    "\n",
    "        return embedding"
   ]
  },
  {
   "cell_type": "code",
   "execution_count": 16,
   "metadata": {
    "ExecuteTime": {
     "end_time": "2020-08-13T21:09:08.693282Z",
     "start_time": "2020-08-13T21:09:05.557444Z"
    }
   },
   "outputs": [],
   "source": [
    "init_embedding = init_embedding_from_graph(X_train, graph, n_components, random_state, metric, _metric_kwds, init=\"spectral\")"
   ]
  },
  {
   "cell_type": "code",
   "execution_count": 17,
   "metadata": {
    "ExecuteTime": {
     "end_time": "2020-08-13T21:09:09.898176Z",
     "start_time": "2020-08-13T21:09:08.694472Z"
    }
   },
   "outputs": [
    {
     "data": {
      "text/plain": [
       "<matplotlib.collections.PathCollection at 0x7f0ee0380e48>"
      ]
     },
     "execution_count": 17,
     "metadata": {},
     "output_type": "execute_result"
    },
    {
     "data": {
      "image/png": "[encoded data removed]",
      "text/plain": [
       "<Figure size 432x288 with 1 Axes>"
      ]
     },
     "metadata": {
      "needs_background": "light"
     },
     "output_type": "display_data"
    }
   ],
   "source": [
    "plt.scatter(init_embedding[:,0], init_embedding[:,1], c=Y_train, s=1, cmap=plt.cm.tab10)"
   ]
  },
  {
   "cell_type": "code",
   "execution_count": null,
   "metadata": {
    "ExecuteTime": {
     "end_time": "2020-08-13T18:24:48.714390Z",
     "start_time": "2020-08-13T18:24:48.145289Z"
    }
   },
   "outputs": [],
   "source": []
  },
  {
   "cell_type": "code",
   "execution_count": 18,
   "metadata": {
    "ExecuteTime": {
     "end_time": "2020-08-13T21:09:09.948780Z",
     "start_time": "2020-08-13T21:09:09.900114Z"
    }
   },
   "outputs": [],
   "source": [
    "embedding = tf.Variable(init_embedding)\n",
    "edge_weights = tf.constant(weight)\n",
    "negative_sample_rate = 5\n",
    "repulsion_strength = 1\n",
    "batch_size = len(head)\n",
    "training_variables = [embedding]\n",
    "alpha = tf.constant(1.0)\n",
    "weight_tile = tf.tile(edge_weights, [negative_sample_rate+1])\n",
    "\n",
    "#opt = tf.keras.optimizers.Adadelta(50)\n",
    "starter_learning_rate = 0.1\n",
    "end_learning_rate = 0.0001\n",
    "decay_steps = 100\n",
    "learning_rate_fn = tf.keras.optimizers.schedules.PolynomialDecay(\n",
    "    starter_learning_rate,\n",
    "    decay_steps,\n",
    "    end_learning_rate,\n",
    "    power=0.5)\n",
    "\n",
    "opt = tf.keras.optimizers.SGD(learning_rate = learning_rate_fn)#, momentum = 0.9)\n",
    "# ~0.034"
   ]
  },
  {
   "cell_type": "code",
   "execution_count": 19,
   "metadata": {
    "ExecuteTime": {
     "end_time": "2020-08-13T21:09:09.993931Z",
     "start_time": "2020-08-13T21:09:09.949993Z"
    }
   },
   "outputs": [],
   "source": [
    "embedding = tf.Variable(init_embedding)\n",
    "edge_weights = tf.constant(weight)\n",
    "negative_sample_rate = 5\n",
    "repulsion_strength = 1\n",
    "batch_size = len(head)\n",
    "training_variables = [embedding]\n",
    "alpha = tf.constant(1.0)\n",
    "weight_tile = tf.tile(edge_weights, [negative_sample_rate+1])\n",
    "\n",
    "#opt = tf.keras.optimizers.Adadelta(50)\n",
    "starter_learning_rate = 0.1\n",
    "end_learning_rate = 0.00001\n",
    "decay_steps = 100\n",
    "learning_rate_fn = tf.keras.optimizers.schedules.PolynomialDecay(\n",
    "    starter_learning_rate,\n",
    "    decay_steps,\n",
    "    end_learning_rate,\n",
    "    power=0.5)\n",
    "\n",
    "opt = tf.keras.optimizers.SGD(learning_rate = learning_rate_fn)#, momentum = 0.9)\n",
    "# ~0.034"
   ]
  },
  {
   "cell_type": "code",
   "execution_count": 20,
   "metadata": {
    "ExecuteTime": {
     "end_time": "2020-08-13T21:09:10.037902Z",
     "start_time": "2020-08-13T21:09:09.995306Z"
    }
   },
   "outputs": [],
   "source": [
    "embedding = tf.Variable(init_embedding)\n",
    "edge_weights = tf.constant(weight)\n",
    "negative_sample_rate = 5\n",
    "repulsion_strength = 1\n",
    "batch_size = len(head)\n",
    "training_variables = [embedding]\n",
    "alpha = tf.constant(1.0)\n",
    "weight_tile = tf.tile(edge_weights, [negative_sample_rate+1])\n",
    "\n",
    "#opt = tf.keras.optimizers.Adadelta(50)\n",
    "starter_learning_rate = 0.1\n",
    "end_learning_rate = 0.001\n",
    "decay_steps = 150\n",
    "\n",
    "decay_rate = 0.97\n",
    "learning_rate_rn = tf.keras.optimizers.schedules.ExponentialDecay(\n",
    "    starter_learning_rate, decay_steps, decay_rate,\n",
    ")\n",
    "opt = tf.keras.optimizers.SGD(learning_rate = learning_rate_fn)#, momentum = 0.9)\n",
    "# 0.33"
   ]
  },
  {
   "cell_type": "code",
   "execution_count": 21,
   "metadata": {
    "ExecuteTime": {
     "end_time": "2020-08-13T21:09:10.081362Z",
     "start_time": "2020-08-13T21:09:10.039307Z"
    }
   },
   "outputs": [],
   "source": [
    "embedding = tf.Variable(init_embedding)\n",
    "edge_weights = tf.constant(weight)\n",
    "negative_sample_rate = 5\n",
    "repulsion_strength = 1\n",
    "batch_size = len(head)\n",
    "training_variables = [embedding]\n",
    "alpha = tf.constant(1.0)\n",
    "weight_tile = tf.tile(edge_weights, [negative_sample_rate+1])\n",
    "\n",
    "#opt = tf.keras.optimizers.Adadelta(50)\n",
    "starter_learning_rate = 0.1\n",
    "end_learning_rate = 0.001\n",
    "decay_steps = 250\n",
    "\n",
    "decay_rate = 0.97\n",
    "learning_rate_rn = tf.keras.optimizers.schedules.ExponentialDecay(\n",
    "    starter_learning_rate, decay_steps, decay_rate,\n",
    ")\n",
    "opt = tf.keras.optimizers.SGD(learning_rate = learning_rate_fn)#, momentum = 0.9)\n",
    "# 0.33"
   ]
  },
  {
   "cell_type": "code",
   "execution_count": 22,
   "metadata": {
    "ExecuteTime": {
     "end_time": "2020-08-13T21:09:10.217465Z",
     "start_time": "2020-08-13T21:09:10.082761Z"
    }
   },
   "outputs": [
    {
     "data": {
      "text/plain": [
       "[<matplotlib.lines.Line2D at 0x7f0ee070b6a0>]"
      ]
     },
     "execution_count": 22,
     "metadata": {},
     "output_type": "execute_result"
    },
    {
     "data": {
      "image/png": "[encoded data removed]",
      "text/plain": [
       "<Figure size 432x288 with 1 Axes>"
      ]
     },
     "metadata": {
      "needs_background": "light"
     },
     "output_type": "display_data"
    }
   ],
   "source": [
    "i_list = []\n",
    "learning_rate = starter_learning_rate\n",
    "\n",
    "for i in range(decay_steps):\n",
    "    learning_rate *= decay_rate\n",
    "    i_list.append(learning_rate)\n",
    "plt.plot(i_list)\n",
    "plt.plot(np.linspace(0.1, 0.0001, 100))"
   ]
  },
  {
   "cell_type": "code",
   "execution_count": 23,
   "metadata": {
    "ExecuteTime": {
     "end_time": "2020-08-13T21:09:10.262660Z",
     "start_time": "2020-08-13T21:09:10.218741Z"
    }
   },
   "outputs": [],
   "source": [
    "embedding = tf.Variable(init_embedding)\n",
    "edge_weights = tf.constant(weight)\n",
    "negative_sample_rate = 5\n",
    "repulsion_strength = 1\n",
    "batch_size = len(head)\n",
    "training_variables = [embedding]\n",
    "alpha = tf.constant(1.0)\n",
    "weight_tile = tf.tile(edge_weights, [negative_sample_rate+1])\n",
    "\n",
    "#opt = tf.keras.optimizers.Adadelta(50)\n",
    "starter_learning_rate = 0.1\n",
    "end_learning_rate = 0.00001\n",
    "decay_steps = 250\n",
    "learning_rate_fn = tf.keras.optimizers.schedules.PolynomialDecay(\n",
    "    starter_learning_rate,\n",
    "    decay_steps,\n",
    "    end_learning_rate,\n",
    "    power=1.0)\n",
    "\n",
    "opt = tf.keras.optimizers.SGD(learning_rate = learning_rate_fn)#, momentum = 0.9)\n",
    "# ~0.031"
   ]
  },
  {
   "cell_type": "code",
   "execution_count": 24,
   "metadata": {
    "ExecuteTime": {
     "end_time": "2020-08-13T21:09:10.306000Z",
     "start_time": "2020-08-13T21:09:10.263916Z"
    }
   },
   "outputs": [],
   "source": [
    "embedding = tf.Variable(init_embedding)\n",
    "edge_weights = tf.constant(weight)\n",
    "negative_sample_rate = 5\n",
    "repulsion_strength = 1\n",
    "batch_size = len(head)\n",
    "training_variables = [embedding]\n",
    "alpha = tf.constant(1.0)\n",
    "weight_tile = tf.tile(edge_weights, [negative_sample_rate+1])\n",
    "\n",
    "\n",
    "decay_steps = 150\n",
    "opt = tf.keras.optimizers.SGD(learning_rate = 0.01, momentum = 0.9)\n",
    "# ~0.033"
   ]
  },
  {
   "cell_type": "code",
   "execution_count": 25,
   "metadata": {
    "ExecuteTime": {
     "end_time": "2020-08-13T21:09:10.349087Z",
     "start_time": "2020-08-13T21:09:10.307371Z"
    }
   },
   "outputs": [],
   "source": [
    "embedding = tf.Variable(init_embedding)\n",
    "edge_weights = tf.constant(weight)\n",
    "negative_sample_rate = 5\n",
    "repulsion_strength = 1\n",
    "batch_size = len(head)\n",
    "training_variables = [embedding]\n",
    "alpha = tf.constant(1.0)\n",
    "weight_tile = tf.tile(edge_weights, [negative_sample_rate+1])\n",
    "\n",
    "\n",
    "decay_steps = 150\n",
    "opt = tf.keras.optimizers.Nadam(0.1)\n",
    "# ~0.035"
   ]
  },
  {
   "cell_type": "code",
   "execution_count": 26,
   "metadata": {
    "ExecuteTime": {
     "end_time": "2020-08-13T21:09:10.391811Z",
     "start_time": "2020-08-13T21:09:10.350293Z"
    }
   },
   "outputs": [],
   "source": [
    "embedding = tf.Variable(init_embedding)\n",
    "edge_weights = tf.constant(weight)\n",
    "negative_sample_rate = 5\n",
    "repulsion_strength = 1\n",
    "batch_size = len(head)\n",
    "training_variables = [embedding]\n",
    "alpha = tf.constant(1.0)\n",
    "weight_tile = tf.tile(edge_weights, [negative_sample_rate+1])\n",
    "\n",
    "\n",
    "decay_steps = 150\n",
    "opt = tf.keras.optimizers.SGD(learning_rate = 0.01)\n",
    "# ~0.038"
   ]
  },
  {
   "cell_type": "code",
   "execution_count": 27,
   "metadata": {
    "ExecuteTime": {
     "end_time": "2020-08-13T21:09:10.435305Z",
     "start_time": "2020-08-13T21:09:10.393224Z"
    }
   },
   "outputs": [],
   "source": [
    "embedding = tf.Variable(init_embedding)\n",
    "edge_weights = tf.constant(weight)\n",
    "negative_sample_rate = 5\n",
    "repulsion_strength = 1\n",
    "batch_size = len(head)\n",
    "training_variables = [embedding]\n",
    "alpha = tf.constant(1.0)\n",
    "weight_tile = tf.tile(edge_weights, [negative_sample_rate+1])\n",
    "\n",
    "#opt = tf.keras.optimizers.Adadelta(50)\n",
    "starter_learning_rate = 0.1\n",
    "end_learning_rate = 0.001\n",
    "decay_steps = 150\n",
    "learning_rate_fn = tf.keras.optimizers.schedules.PolynomialDecay(\n",
    "    starter_learning_rate,\n",
    "    decay_steps,\n",
    "    end_learning_rate,\n",
    "    power=1.0)\n",
    "\n",
    "opt = tf.keras.optimizers.Adam(learning_rate = learning_rate_fn)#, momentum = 0.9)\n",
    "# "
   ]
  },
  {
   "cell_type": "code",
   "execution_count": 28,
   "metadata": {
    "ExecuteTime": {
     "end_time": "2020-08-13T21:09:10.478889Z",
     "start_time": "2020-08-13T21:09:10.436676Z"
    }
   },
   "outputs": [],
   "source": [
    "embedding = tf.Variable(init_embedding)\n",
    "edge_weights = tf.constant(weight)\n",
    "negative_sample_rate = 5\n",
    "repulsion_strength = 1\n",
    "batch_size = len(head)\n",
    "training_variables = [embedding]\n",
    "alpha = tf.constant(1.0)\n",
    "weight_tile = tf.tile(edge_weights, [negative_sample_rate+1])\n",
    "\n",
    "#opt = tf.keras.optimizers.Adadelta(50)\n",
    "starter_learning_rate = 0.1\n",
    "end_learning_rate = 0.00001\n",
    "decay_steps = 250\n",
    "learning_rate_fn = tf.keras.optimizers.schedules.PolynomialDecay(\n",
    "    starter_learning_rate,\n",
    "    decay_steps,\n",
    "    end_learning_rate,\n",
    "    power=1.0)\n",
    "\n",
    "opt = tf.keras.optimizers.SGD(learning_rate = learning_rate_fn)#, momentum = 0.9)\n",
    "# ~0.031"
   ]
  },
  {
   "cell_type": "code",
   "execution_count": null,
   "metadata": {
    "ExecuteTime": {
     "start_time": "2020-08-13T21:08:32.880Z"
    }
   },
   "outputs": [
    {
     "data": {
      "application/vnd.jupyter.widget-view+json": {
       "model_id": "66f5ea8ddc2b4e3391c7b859d68b152d",
       "version_major": 2,
       "version_minor": 0
      },
      "text/plain": [
       "HBox(children=(IntProgress(value=0, max=250), HTML(value='')))"
      ]
     },
     "metadata": {},
     "output_type": "display_data"
    }
   ],
   "source": [
    "t = tqdm(range(decay_steps))\n",
    "for batch_n in t:\n",
    "    with tf.GradientTape() as tape:\n",
    "        \n",
    "        embedding_to = tf.gather(embedding, head)\n",
    "        embedding_from = tf.gather(embedding, tail)\n",
    "        \n",
    "        # get negative samples\n",
    "        embedding_neg_to = tf.repeat(embedding_to, negative_sample_rate, axis=0)\n",
    "        repeat_neg = tf.repeat(embedding_from, negative_sample_rate, axis=0)\n",
    "        embedding_neg_from = tf.gather(\n",
    "            repeat_neg, tf.random.shuffle(tf.range(tf.shape(repeat_neg)[0]))\n",
    "        )\n",
    "        \n",
    "        # distances between samples (and negative samples)\n",
    "        distance_embedding = tf.concat(\n",
    "            [\n",
    "                tf.norm(embedding_to - embedding_from, axis=1),\n",
    "                tf.norm(embedding_neg_to - embedding_neg_from, axis=1),\n",
    "            ],\n",
    "            axis=0,\n",
    "        )\n",
    "        \n",
    "        # convert probabilities to distances\n",
    "        probabilities_distance = convert_distance_to_probability(\n",
    "            distance_embedding, _a, _b\n",
    "        )\n",
    "        \n",
    "        # set true probabilities based on negative sampling\n",
    "        probabilities_graph = tf.concat(\n",
    "            [tf.ones(batch_size), tf.zeros(batch_size * negative_sample_rate)],\n",
    "            axis=0,\n",
    "        )\n",
    "        \n",
    "        # compute cross entropy\n",
    "        (attraction_loss, repellant_loss, ce_loss) = compute_cross_entropy(\n",
    "            probabilities_graph,\n",
    "            probabilities_distance,\n",
    "            repulsion_strength=repulsion_strength,\n",
    "        )\n",
    "        ce_loss = ce_loss * weight_tile\n",
    "        loss = ce_loss\n",
    "        \n",
    "    grads = tape.gradient(loss, training_variables)\n",
    "    grads = [tf.clip_by_value(grad, -4.0, 4.0) * alpha for grad in grads] # * alpha\n",
    "    opt.apply_gradients(zip(grads, training_variables))\n",
    "    \n",
    "    t.set_description(\"loss {}\".format(str(round(np.mean(loss.numpy()),3))))\n",
    "\n",
    "    \n",
    "z = embedding.numpy()\n",
    "fig, ax = plt.subplots( figsize=(8, 8))\n",
    "sc = ax.scatter(\n",
    "    z[:, 0],\n",
    "    z[:, 1],\n",
    "    c=Y_train.astype(int)[:len(z)],\n",
    "    cmap=\"tab10\",\n",
    "    s=0.1,\n",
    "    alpha=0.5,\n",
    "    rasterized=True,\n",
    ")\n",
    "ax.axis('equal')\n",
    "ax.set_title(\"UMAP in Tensorflow embedding\", fontsize=20)\n",
    "plt.colorbar(sc, ax=ax);"
   ]
  },
  {
   "cell_type": "markdown",
   "metadata": {},
   "source": [
    "### use layer rather than variable"
   ]
  },
  {
   "cell_type": "code",
   "execution_count": null,
   "metadata": {
    "ExecuteTime": {
     "start_time": "2020-08-13T21:08:32.883Z"
    }
   },
   "outputs": [],
   "source": [
    "embedding = tf.Variable(init_embedding)\n",
    "edge_weights = tf.constant(weight)\n",
    "negative_sample_rate = 5\n",
    "repulsion_strength = 1\n",
    "batch_size = len(head)\n",
    "training_variables = [embedding]\n",
    "alpha = tf.constant(1.0)\n",
    "weight_tile = tf.tile(edge_weights, [negative_sample_rate+1])\n",
    "\n",
    "#opt = tf.keras.optimizers.Adadelta(50)\n",
    "starter_learning_rate = 0.1\n",
    "end_learning_rate = 0.00001\n",
    "decay_steps = 250\n",
    "learning_rate_fn = tf.keras.optimizers.schedules.PolynomialDecay(\n",
    "    starter_learning_rate,\n",
    "    decay_steps,\n",
    "    end_learning_rate,\n",
    "    power=1.0)\n",
    "\n",
    "opt = tf.keras.optimizers.SGD(learning_rate = learning_rate_fn)#, momentum = 0.9)\n",
    "# ~0.031"
   ]
  },
  {
   "cell_type": "code",
   "execution_count": null,
   "metadata": {
    "ExecuteTime": {
     "start_time": "2020-08-13T21:08:32.885Z"
    }
   },
   "outputs": [],
   "source": [
    "n_data = len(X_train)\n",
    "embedding_layer = tf.keras.layers.Embedding(n_data, n_components, input_length=1)\n",
    "embedding_layer.build(input_shape=(1,)) # the input_shape here has no effect in the build function\n",
    "embedding_layer.set_weights([init_embedding])\n",
    "encoder = tf.keras.Sequential([embedding_layer])"
   ]
  },
  {
   "cell_type": "code",
   "execution_count": null,
   "metadata": {
    "ExecuteTime": {
     "start_time": "2020-08-13T21:08:32.887Z"
    }
   },
   "outputs": [],
   "source": [
    "training_variables = encoder.trainable_variables"
   ]
  },
  {
   "cell_type": "code",
   "execution_count": null,
   "metadata": {
    "ExecuteTime": {
     "start_time": "2020-08-13T21:08:32.889Z"
    }
   },
   "outputs": [],
   "source": [
    "t = tqdm(range(decay_steps))\n",
    "for batch_n in t:\n",
    "    with tf.GradientTape() as tape:\n",
    "        \n",
    "        #embedding_to = tf.gather(embedding, head)\n",
    "        #embedding_from = tf.gather(embedding, tail)\n",
    "        embedding_to = encoder(head)[:,-1,:]\n",
    "        embedding_from = encoder(tail)[:,-1,:]\n",
    "        \n",
    "        # get negative samples\n",
    "        embedding_neg_to = tf.repeat(embedding_to, negative_sample_rate, axis=0)\n",
    "        repeat_neg = tf.repeat(embedding_from, negative_sample_rate, axis=0)\n",
    "        embedding_neg_from = tf.gather(\n",
    "            repeat_neg, tf.random.shuffle(tf.range(tf.shape(repeat_neg)[0]))\n",
    "        )\n",
    "        \n",
    "        # distances between samples (and negative samples)\n",
    "        distance_embedding = tf.concat(\n",
    "            [\n",
    "                tf.norm(embedding_to - embedding_from, axis=1),\n",
    "                tf.norm(embedding_neg_to - embedding_neg_from, axis=1),\n",
    "            ],\n",
    "            axis=0,\n",
    "        )\n",
    "        \n",
    "        # convert probabilities to distances\n",
    "        probabilities_distance = convert_distance_to_probability(\n",
    "            distance_embedding, _a, _b\n",
    "        )\n",
    "        \n",
    "        # set true probabilities based on negative sampling\n",
    "        probabilities_graph = tf.concat(\n",
    "            [tf.ones(batch_size), tf.zeros(batch_size * negative_sample_rate)],\n",
    "            axis=0,\n",
    "        )\n",
    "        \n",
    "        # compute cross entropy\n",
    "        (attraction_loss, repellant_loss, ce_loss) = compute_cross_entropy(\n",
    "            probabilities_graph,\n",
    "            probabilities_distance,\n",
    "            repulsion_strength=repulsion_strength,\n",
    "        )\n",
    "        ce_loss = ce_loss * weight_tile\n",
    "        loss = ce_loss\n",
    "        \n",
    "    grads = tape.gradient(loss, training_variables)\n",
    "    grads = [tf.clip_by_value(grad, -4.0, 4.0) * alpha for grad in grads] # * alpha\n",
    "    opt.apply_gradients(zip(grads, training_variables))\n",
    "    \n",
    "    t.set_description(\"loss {}\".format(str(round(np.mean(loss.numpy()),3))))\n",
    "\n",
    "    \n",
    "z = encoder.weights[0].numpy()\n",
    "fig, ax = plt.subplots( figsize=(8, 8))\n",
    "sc = ax.scatter(\n",
    "    z[:, 0],\n",
    "    z[:, 1],\n",
    "    c=Y_train.astype(int)[:len(z)],\n",
    "    cmap=\"tab10\",\n",
    "    s=0.1,\n",
    "    alpha=0.5,\n",
    "    rasterized=True,\n",
    ")\n",
    "ax.axis('equal')\n",
    "ax.set_title(\"UMAP in Tensorflow embedding\", fontsize=20)\n",
    "plt.colorbar(sc, ax=ax);"
   ]
  },
  {
   "cell_type": "code",
   "execution_count": null,
   "metadata": {},
   "outputs": [],
   "source": []
  },
  {
   "cell_type": "markdown",
   "metadata": {},
   "source": [
    "### make embed data function"
   ]
  },
  {
   "cell_type": "code",
   "execution_count": null,
   "metadata": {},
   "outputs": [],
   "source": []
  },
  {
   "cell_type": "code",
   "execution_count": null,
   "metadata": {
    "ExecuteTime": {
     "start_time": "2020-08-13T21:08:32.895Z"
    }
   },
   "outputs": [],
   "source": [
    "embedding = tf.Variable(init_embedding)\n",
    "edge_weights = tf.constant(weight)\n",
    "negative_sample_rate = 5\n",
    "repulsion_strength = 1\n",
    "batch_size = len(head)\n",
    "training_variables = [embedding]\n",
    "alpha = tf.constant(1.0)\n",
    "weight_tile = tf.tile(edge_weights, [negative_sample_rate+1])\n",
    "\n",
    "#opt = tf.keras.optimizers.Adadelta(50)\n",
    "starter_learning_rate = 0.1\n",
    "end_learning_rate = 0.00001\n",
    "decay_steps = 100\n",
    "learning_rate_fn = tf.keras.optimizers.schedules.PolynomialDecay(\n",
    "    starter_learning_rate,\n",
    "    decay_steps,\n",
    "    end_learning_rate,\n",
    "    power=1.0)\n",
    "\n",
    "opt = tf.keras.optimizers.SGD(learning_rate = learning_rate_fn)#, momentum = 0.9)\n",
    "# ~0.031"
   ]
  },
  {
   "cell_type": "code",
   "execution_count": null,
   "metadata": {
    "ExecuteTime": {
     "start_time": "2020-08-13T21:08:32.897Z"
    }
   },
   "outputs": [],
   "source": [
    "def embed_data():\n",
    "    with tf.GradientTape() as tape:\n",
    "        \n",
    "        embedding_to = tf.gather(embedding, head)\n",
    "        embedding_from = tf.gather(embedding, tail)\n",
    "        \n",
    "        # get negative samples\n",
    "        embedding_neg_to = tf.repeat(embedding_to, negative_sample_rate, axis=0)\n",
    "        repeat_neg = tf.repeat(embedding_from, negative_sample_rate, axis=0)\n",
    "        embedding_neg_from = tf.gather(\n",
    "            repeat_neg, tf.random.shuffle(tf.range(tf.shape(repeat_neg)[0]))\n",
    "        )\n",
    "        \n",
    "        # distances between samples (and negative samples)\n",
    "        distance_embedding = tf.concat(\n",
    "            [\n",
    "                tf.norm(embedding_to - embedding_from, axis=1),\n",
    "                tf.norm(embedding_neg_to - embedding_neg_from, axis=1),\n",
    "            ],\n",
    "            axis=0,\n",
    "        )\n",
    "        \n",
    "        # convert probabilities to distances\n",
    "        probabilities_distance = convert_distance_to_probability(\n",
    "            distance_embedding, _a, _b\n",
    "        )\n",
    "        \n",
    "        # set true probabilities based on negative sampling\n",
    "        probabilities_graph = tf.concat(\n",
    "            [tf.ones(batch_size), tf.zeros(batch_size * negative_sample_rate)],\n",
    "            axis=0,\n",
    "        )\n",
    "        \n",
    "        # compute cross entropy\n",
    "        (attraction_loss, repellant_loss, ce_loss) = compute_cross_entropy(\n",
    "            probabilities_graph,\n",
    "            probabilities_distance,\n",
    "            repulsion_strength=repulsion_strength,\n",
    "        )\n",
    "        ce_loss = ce_loss * weight_tile\n",
    "        loss = ce_loss\n",
    "        \n",
    "    grads = tape.gradient(loss, training_variables)\n",
    "    grads = [tf.clip_by_value(grad, -4.0, 4.0) * alpha for grad in grads] # * alpha\n",
    "    opt.apply_gradients(zip(grads, training_variables))\n",
    "    \n",
    "    return loss"
   ]
  },
  {
   "cell_type": "code",
   "execution_count": null,
   "metadata": {
    "ExecuteTime": {
     "start_time": "2020-08-13T21:08:32.899Z"
    }
   },
   "outputs": [],
   "source": [
    "embedding = tf.Variable(init_embedding)"
   ]
  },
  {
   "cell_type": "code",
   "execution_count": null,
   "metadata": {
    "ExecuteTime": {
     "start_time": "2020-08-13T21:08:32.903Z"
    }
   },
   "outputs": [],
   "source": [
    "\n",
    "edge_weights = tf.constant(weight)\n",
    "negative_sample_rate = 5\n",
    "repulsion_strength = 1\n",
    "batch_size = len(head)\n",
    "training_variables = [embedding]\n",
    "alpha = tf.constant(1.0)\n",
    "weight_tile = tf.tile(edge_weights, [negative_sample_rate+1])"
   ]
  },
  {
   "cell_type": "code",
   "execution_count": null,
   "metadata": {
    "ExecuteTime": {
     "start_time": "2020-08-13T21:08:32.905Z"
    }
   },
   "outputs": [],
   "source": [
    "#opt = tf.keras.optimizers.Adadelta(50)\n",
    "starter_learning_rate = 0.1\n",
    "end_learning_rate = 0.00001\n",
    "decay_steps = 50\n",
    "learning_rate_fn = tf.keras.optimizers.schedules.PolynomialDecay(\n",
    "    starter_learning_rate,\n",
    "    decay_steps,\n",
    "    end_learning_rate,\n",
    "    power=1.0)\n",
    "\n",
    "opt = tf.keras.optimizers.SGD(learning_rate = learning_rate_fn)#, momentum = 0.9)\n",
    "# ~0.031"
   ]
  },
  {
   "cell_type": "code",
   "execution_count": null,
   "metadata": {
    "ExecuteTime": {
     "start_time": "2020-08-13T21:08:32.907Z"
    }
   },
   "outputs": [],
   "source": [
    "#opt = tf.keras.optimizers.Adadelta(50)\n",
    "starter_learning_rate = 0.001\n",
    "end_learning_rate = 0.00001\n",
    "decay_steps = 50\n",
    "learning_rate_fn = tf.keras.optimizers.schedules.PolynomialDecay(\n",
    "    starter_learning_rate,\n",
    "    decay_steps,\n",
    "    end_learning_rate,\n",
    "    power=1.0)\n",
    "\n",
    "opt = tf.keras.optimizers.SGD(learning_rate = 0.01)\n",
    "# ~0.031"
   ]
  },
  {
   "cell_type": "code",
   "execution_count": null,
   "metadata": {
    "ExecuteTime": {
     "start_time": "2020-08-13T21:08:32.909Z"
    }
   },
   "outputs": [],
   "source": [
    "t = tqdm(range(decay_steps))\n",
    "for batch_n in t:\n",
    "    loss = embed_data()\n",
    "    t.set_description(\"loss {}\".format(str(round(np.mean(loss.numpy()),3))))"
   ]
  },
  {
   "cell_type": "code",
   "execution_count": null,
   "metadata": {
    "ExecuteTime": {
     "start_time": "2020-08-13T21:08:32.911Z"
    }
   },
   "outputs": [],
   "source": [
    "z = embedding.numpy()\n",
    "fig, ax = plt.subplots( figsize=(8, 8))\n",
    "sc = ax.scatter(\n",
    "    z[:, 0],\n",
    "    z[:, 1],\n",
    "    c=Y_train.astype(int)[:len(z)],\n",
    "    cmap=\"tab10\",\n",
    "    s=0.1,\n",
    "    alpha=0.5,\n",
    "    rasterized=True,\n",
    ")\n",
    "ax.axis('equal')\n",
    "ax.set_title(\"UMAP in Tensorflow embedding\", fontsize=20)\n",
    "plt.colorbar(sc, ax=ax);"
   ]
  },
  {
   "cell_type": "markdown",
   "metadata": {},
   "source": [
    "### make into a keras function..."
   ]
  },
  {
   "cell_type": "markdown",
   "metadata": {},
   "source": [
    "- custom training loop\n",
    "- input is (nothing, or head/tail)\n",
    "- "
   ]
  },
  {
   "cell_type": "code",
   "execution_count": null,
   "metadata": {
    "ExecuteTime": {
     "start_time": "2020-08-13T21:08:32.914Z"
    }
   },
   "outputs": [],
   "source": [
    "def umap_loss(batch_size, negative_sample_rate, _a, _b, repulsion_strength = 1.0):\n",
    "    @tf.function\n",
    "    def loss(placeholder_y, embed_to_from):\n",
    "        # split out to/from\n",
    "        embedding_to, embedding_from = tf.split(embed_to_from, num_or_size_splits=2, axis=1)\n",
    "\n",
    "        # get negative samples\n",
    "        embedding_neg_to = tf.repeat(embedding_to, negative_sample_rate, axis=0)\n",
    "        repeat_neg = tf.repeat(embedding_from, negative_sample_rate, axis=0)\n",
    "        embedding_neg_from = tf.gather(\n",
    "            repeat_neg, tf.random.shuffle(tf.range(tf.shape(repeat_neg)[0]))\n",
    "        )\n",
    "\n",
    "        #  distances between samples (and negative samples)\n",
    "        distance_embedding = tf.concat(\n",
    "            [\n",
    "                tf.norm(embedding_to - embedding_from, axis=1),\n",
    "                tf.norm(embedding_neg_to - embedding_neg_from, axis=1),\n",
    "            ],\n",
    "            axis=0,\n",
    "        )\n",
    "\n",
    "        # convert probabilities to distances\n",
    "        probabilities_distance = convert_distance_to_probability(\n",
    "            distance_embedding, _a, _b\n",
    "        )\n",
    "        \n",
    "        # set true probabilities based on negative sampling\n",
    "        probabilities_graph = tf.concat(\n",
    "            [tf.ones(batch_size), tf.zeros(batch_size * negative_sample_rate)],\n",
    "            axis=0,\n",
    "        )\n",
    "                \n",
    "        # compute cross entropy\n",
    "        if True:\n",
    "            (attraction_loss, repellant_loss, ce_loss) = compute_cross_entropy(\n",
    "                probabilities_graph,\n",
    "                probabilities_distance,\n",
    "                repulsion_strength=repulsion_strength,\n",
    "            )\n",
    "        else:\n",
    "            ce_loss = tf.keras.losses.binary_crossentropy(probabilities_graph, probabilities_distance)\n",
    "        #ce_loss = ce_loss * alpha\n",
    "        #return tf.reduce_mean(ce_loss)\n",
    "        return ce_loss\n",
    "\n",
    "    return loss"
   ]
  },
  {
   "cell_type": "code",
   "execution_count": null,
   "metadata": {},
   "outputs": [],
   "source": []
  },
  {
   "cell_type": "code",
   "execution_count": null,
   "metadata": {
    "ExecuteTime": {
     "start_time": "2020-08-13T21:08:32.917Z"
    }
   },
   "outputs": [],
   "source": [
    "def make_gen_callable(head, tail, edge_weights):\n",
    "    def edge_generator():\n",
    "        while True:\n",
    "            yield (tf.expand_dims(head,-1), tf.expand_dims(tail,-1), edge_weights), [0]\n",
    "\n",
    "    return edge_generator"
   ]
  },
  {
   "cell_type": "code",
   "execution_count": null,
   "metadata": {
    "ExecuteTime": {
     "start_time": "2020-08-13T21:08:32.919Z"
    }
   },
   "outputs": [],
   "source": [
    "edge_ds = tf.data.Dataset.from_generator( make_gen_callable(head, tail, edge_weights), ((tf.int32, tf.int32, tf.float32), tf.int32))"
   ]
  },
  {
   "cell_type": "code",
   "execution_count": null,
   "metadata": {
    "ExecuteTime": {
     "start_time": "2020-08-13T21:08:32.921Z"
    }
   },
   "outputs": [],
   "source": [
    "for (hd, tl, ew), _ in tqdm(edge_ds):\n",
    "    break"
   ]
  },
  {
   "cell_type": "code",
   "execution_count": null,
   "metadata": {
    "ExecuteTime": {
     "start_time": "2020-08-13T21:08:32.924Z"
    }
   },
   "outputs": [],
   "source": [
    "hd.shape"
   ]
  },
  {
   "cell_type": "code",
   "execution_count": null,
   "metadata": {
    "ExecuteTime": {
     "start_time": "2020-08-13T21:08:32.926Z"
    }
   },
   "outputs": [],
   "source": [
    "n_data = len(X_train)\n",
    "embedding_layer = tf.keras.layers.Embedding(n_data, n_components, input_length=1)\n",
    "embedding_layer.build(input_shape=(1,)) # the input_shape here has no effect in the build function\n",
    "embedding_layer.set_weights([init_embedding])\n",
    "encoder = tf.keras.Sequential([embedding_layer])"
   ]
  },
  {
   "cell_type": "code",
   "execution_count": null,
   "metadata": {
    "ExecuteTime": {
     "start_time": "2020-08-13T21:08:32.928Z"
    }
   },
   "outputs": [],
   "source": [
    "batch_head = tf.keras.Input(shape=(1), dtype=tf.int32, name = \"head\")\n",
    "batch_tail = tf.keras.Input(shape=(1), dtype=tf.int32, name = \"tail\")\n",
    "batch_weights = tf.keras.Input(shape=(1), dtype=tf.float32, name = \"weights\")\n",
    "batch_head, batch_tail"
   ]
  },
  {
   "cell_type": "code",
   "execution_count": null,
   "metadata": {
    "ExecuteTime": {
     "start_time": "2020-08-13T21:08:32.930Z"
    }
   },
   "outputs": [],
   "source": [
    "embedding_to = encoder(batch_head)[:,-1,:]\n",
    "embedding_from = encoder(batch_tail)[:,-1,:]\n",
    "embedding_to, embedding_from"
   ]
  },
  {
   "cell_type": "code",
   "execution_count": null,
   "metadata": {
    "ExecuteTime": {
     "start_time": "2020-08-13T21:08:32.931Z"
    }
   },
   "outputs": [],
   "source": [
    "embedding_to_from = tf.keras.layers.concatenate([embedding_to, embedding_from],axis=1)\n",
    "embedding_to_from"
   ]
  },
  {
   "cell_type": "code",
   "execution_count": null,
   "metadata": {
    "ExecuteTime": {
     "start_time": "2020-08-13T21:08:32.933Z"
    }
   },
   "outputs": [],
   "source": [
    "model = tf.keras.Model(\n",
    "    inputs=[batch_head, batch_tail],\n",
    "    outputs=[embedding_to_from],\n",
    ")"
   ]
  },
  {
   "cell_type": "code",
   "execution_count": null,
   "metadata": {
    "ExecuteTime": {
     "start_time": "2020-08-13T21:08:32.935Z"
    }
   },
   "outputs": [],
   "source": [
    "model.compile(\n",
    "    optimizer=tf.keras.optimizers.Adadelta(50),\n",
    "    loss=umap_loss(batch_size, negative_sample_rate, _a, _b),\n",
    ")"
   ]
  },
  {
   "cell_type": "code",
   "execution_count": null,
   "metadata": {
    "ExecuteTime": {
     "start_time": "2020-08-13T21:08:32.937Z"
    }
   },
   "outputs": [],
   "source": [
    "history = model.fit(\n",
    "    edge_ds,\n",
    "    epochs=5,\n",
    "    max_queue_size = 5,\n",
    ")"
   ]
  },
  {
   "cell_type": "code",
   "execution_count": null,
   "metadata": {
    "ExecuteTime": {
     "start_time": "2020-08-13T21:08:32.938Z"
    }
   },
   "outputs": [],
   "source": [
    "z = encoder.weights[0].numpy()"
   ]
  },
  {
   "cell_type": "code",
   "execution_count": null,
   "metadata": {
    "ExecuteTime": {
     "start_time": "2020-08-13T21:08:32.940Z"
    }
   },
   "outputs": [],
   "source": [
    "fig, ax = plt.subplots( figsize=(8, 8))\n",
    "sc = ax.scatter(\n",
    "    z[:, 0],\n",
    "    z[:, 1],\n",
    "    c=Y_train.astype(int)[:len(z)],\n",
    "    cmap=\"tab10\",\n",
    "    s=0.1,\n",
    "    alpha=0.5,\n",
    "    rasterized=True,\n",
    ")\n",
    "ax.axis('equal')\n",
    "ax.set_title(\"UMAP in Tensorflow embedding\", fontsize=20)\n",
    "plt.colorbar(sc, ax=ax);"
   ]
  },
  {
   "cell_type": "markdown",
   "metadata": {},
   "source": [
    "#### try 2"
   ]
  },
  {
   "cell_type": "markdown",
   "metadata": {},
   "source": [
    "- custom training loop\n",
    "- input is (nothing, or head/tail)\n",
    "- "
   ]
  },
  {
   "cell_type": "code",
   "execution_count": null,
   "metadata": {
    "ExecuteTime": {
     "start_time": "2020-08-13T21:08:32.943Z"
    }
   },
   "outputs": [],
   "source": [
    "def make_gen_callable(head, tail, edge_weights):\n",
    "    def edge_generator():\n",
    "        while True:\n",
    "            yield (tf.expand_dims(head,-1), tf.expand_dims(tail,-1), edge_weights), [0]\n",
    "\n",
    "    return edge_generator"
   ]
  },
  {
   "cell_type": "code",
   "execution_count": null,
   "metadata": {
    "ExecuteTime": {
     "start_time": "2020-08-13T21:08:32.945Z"
    }
   },
   "outputs": [],
   "source": [
    "edge_ds = tf.data.Dataset.from_generator( make_gen_callable(head, tail, edge_weights), ((tf.int32, tf.int32, tf.float32), tf.int32))"
   ]
  },
  {
   "cell_type": "code",
   "execution_count": null,
   "metadata": {
    "ExecuteTime": {
     "start_time": "2020-08-13T21:08:32.946Z"
    }
   },
   "outputs": [],
   "source": [
    "class CustomModel(tf.keras.Model):\n",
    "    def train_step(self, data):\n",
    "        # Unpack the data. Its structure depends on your model and\n",
    "        # on what you pass to `fit()`.\n",
    "        x, y = data\n",
    "\n",
    "        with tf.GradientTape() as tape:\n",
    "            y_pred = self(x, training=True)  # Forward pass\n",
    "            # Compute the loss value\n",
    "            # (the loss function is configured in `compile()`)\n",
    "            loss = self.compiled_loss(y, y_pred, regularization_losses=self.losses)\n",
    "            #loss = loss_fn(y, y_pred)\n",
    "\n",
    "            # Compute gradients\n",
    "            trainable_vars = self.trainable_variables\n",
    "            gradients = tape.gradient(loss, trainable_vars)\n",
    "            gradients = [tf.clip_by_value(grad, -4.0, 4.0) * alpha for grad in gradients] \n",
    "\n",
    "        # Update weights\n",
    "        self.optimizer.apply_gradients(zip(gradients, trainable_vars))\n",
    "        # Update metrics (includes the metric that tracks the loss)\n",
    "        self.compiled_metrics.update_state(y, y_pred)\n",
    "        # Return a dict mapping metric names to current value\n",
    "        return {m.name: m.result() for m in self.metrics}"
   ]
  },
  {
   "cell_type": "code",
   "execution_count": null,
   "metadata": {
    "ExecuteTime": {
     "start_time": "2020-08-13T21:08:32.948Z"
    }
   },
   "outputs": [],
   "source": [
    "for (hd, tl, ew), _ in tqdm(edge_ds):\n",
    "    break"
   ]
  },
  {
   "cell_type": "code",
   "execution_count": null,
   "metadata": {
    "ExecuteTime": {
     "start_time": "2020-08-13T21:08:32.950Z"
    }
   },
   "outputs": [],
   "source": [
    "hd.shape"
   ]
  },
  {
   "cell_type": "code",
   "execution_count": null,
   "metadata": {
    "ExecuteTime": {
     "start_time": "2020-08-13T21:08:32.952Z"
    }
   },
   "outputs": [],
   "source": [
    "n_data = len(X_train)\n",
    "embedding_layer = tf.keras.layers.Embedding(n_data, n_components, input_length=1)\n",
    "embedding_layer.build(input_shape=(1,)) # the input_shape here has no effect in the build function\n",
    "embedding_layer.set_weights([init_embedding])\n",
    "encoder = tf.keras.Sequential([embedding_layer])"
   ]
  },
  {
   "cell_type": "code",
   "execution_count": null,
   "metadata": {
    "ExecuteTime": {
     "start_time": "2020-08-13T21:08:32.953Z"
    }
   },
   "outputs": [],
   "source": [
    "batch_head = tf.keras.Input(shape=(1), dtype=tf.int32, name = \"head\")\n",
    "batch_tail = tf.keras.Input(shape=(1), dtype=tf.int32, name = \"tail\")\n",
    "batch_weights = tf.keras.Input(shape=(1), dtype=tf.float32, name = \"weights\")\n",
    "batch_head, batch_tail"
   ]
  },
  {
   "cell_type": "code",
   "execution_count": null,
   "metadata": {
    "ExecuteTime": {
     "start_time": "2020-08-13T21:08:32.955Z"
    }
   },
   "outputs": [],
   "source": [
    "embedding_to = encoder(batch_head)[:,-1,:]\n",
    "embedding_from = encoder(batch_tail)[:,-1,:]\n",
    "embedding_to, embedding_from"
   ]
  },
  {
   "cell_type": "code",
   "execution_count": null,
   "metadata": {
    "ExecuteTime": {
     "start_time": "2020-08-13T21:08:32.957Z"
    }
   },
   "outputs": [],
   "source": [
    "embedding_to_from = tf.keras.layers.concatenate([embedding_to, embedding_from],axis=1)\n",
    "embedding_to_from"
   ]
  },
  {
   "cell_type": "code",
   "execution_count": null,
   "metadata": {
    "ExecuteTime": {
     "start_time": "2020-08-13T21:08:32.958Z"
    }
   },
   "outputs": [],
   "source": [
    "model = CustomModel(\n",
    "    inputs=[batch_head, batch_tail, batch_weights],\n",
    "    outputs=[embedding_to_from],\n",
    ")"
   ]
  },
  {
   "cell_type": "code",
   "execution_count": null,
   "metadata": {
    "ExecuteTime": {
     "start_time": "2020-08-13T21:08:32.960Z"
    }
   },
   "outputs": [],
   "source": [
    "model.compile(\n",
    "    optimizer=tf.keras.optimizers.Adadelta(50),\n",
    "    loss=umap_loss(batch_size, negative_sample_rate, _a, _b),\n",
    ")"
   ]
  },
  {
   "cell_type": "code",
   "execution_count": null,
   "metadata": {
    "ExecuteTime": {
     "start_time": "2020-08-13T21:08:32.962Z"
    }
   },
   "outputs": [],
   "source": [
    "history = model.fit(\n",
    "    edge_ds,\n",
    "    epochs=5,\n",
    "    max_queue_size = 5,\n",
    ")"
   ]
  },
  {
   "cell_type": "code",
   "execution_count": null,
   "metadata": {
    "ExecuteTime": {
     "start_time": "2020-08-13T21:08:32.964Z"
    }
   },
   "outputs": [],
   "source": [
    "z = encoder.weights[0].numpy()"
   ]
  },
  {
   "cell_type": "code",
   "execution_count": null,
   "metadata": {
    "ExecuteTime": {
     "start_time": "2020-08-13T21:08:32.965Z"
    }
   },
   "outputs": [],
   "source": [
    "fig, ax = plt.subplots( figsize=(8, 8))\n",
    "sc = ax.scatter(\n",
    "    z[:, 0],\n",
    "    z[:, 1],\n",
    "    c=Y_train.astype(int)[:len(z)],\n",
    "    cmap=\"tab10\",\n",
    "    s=0.1,\n",
    "    alpha=0.5,\n",
    "    rasterized=True,\n",
    ")\n",
    "ax.axis('equal')\n",
    "ax.set_title(\"UMAP in Tensorflow embedding\", fontsize=20)\n",
    "plt.colorbar(sc, ax=ax);"
   ]
  },
  {
   "cell_type": "markdown",
   "metadata": {},
   "source": [
    "### Try 3"
   ]
  },
  {
   "cell_type": "code",
   "execution_count": null,
   "metadata": {
    "ExecuteTime": {
     "start_time": "2020-08-13T21:08:32.967Z"
    }
   },
   "outputs": [],
   "source": [
    "loss_fn = umap_loss(weight, batch_size, negative_sample_rate, _a, _b)\n"
   ]
  },
  {
   "cell_type": "code",
   "execution_count": null,
   "metadata": {
    "ExecuteTime": {
     "start_time": "2020-08-13T21:08:32.969Z"
    }
   },
   "outputs": [],
   "source": [
    "def make_gen_callable(head, tail, edge_weights):\n",
    "    def edge_generator():\n",
    "        while True:\n",
    "            yield (tf.expand_dims(head,-1), tf.expand_dims(tail,-1), edge_weights), [0]\n",
    "\n",
    "    return edge_generator"
   ]
  },
  {
   "cell_type": "code",
   "execution_count": null,
   "metadata": {
    "ExecuteTime": {
     "start_time": "2020-08-13T21:08:32.971Z"
    }
   },
   "outputs": [],
   "source": [
    "edge_ds = tf.data.Dataset.from_generator( make_gen_callable(head, tail, edge_weights), ((tf.int32, tf.int32, tf.float32), tf.int32))"
   ]
  },
  {
   "cell_type": "code",
   "execution_count": null,
   "metadata": {
    "ExecuteTime": {
     "start_time": "2020-08-13T21:08:32.973Z"
    }
   },
   "outputs": [],
   "source": [
    "class CustomModel(tf.keras.Model):\n",
    "    def train_step(self, data):\n",
    "        # Unpack the data. Its structure depends on your model and\n",
    "        # on what you pass to `fit()`.\n",
    "        x, y = data\n",
    "\n",
    "        with tf.GradientTape() as tape:\n",
    "            y_pred = self(x, training=True)  # Forward pass\n",
    "            # Compute the loss value\n",
    "            # (the loss function is configured in `compile()`)\n",
    "            loss = self.compiled_loss(y, y_pred, regularization_losses=self.losses)\n",
    "            loss = loss_fn(y, y_pred)\n",
    "\n",
    "            # Compute gradients\n",
    "            trainable_vars = self.trainable_variables\n",
    "            gradients = tape.gradient(loss, trainable_vars)\n",
    "            gradients = [tf.clip_by_value(grad, -4.0, 4.0) * alpha for grad in gradients] \n",
    "\n",
    "        # Update weights\n",
    "        self.optimizer.apply_gradients(zip(gradients, trainable_vars))\n",
    "        # Update metrics (includes the metric that tracks the loss)\n",
    "        self.compiled_metrics.update_state(y, y_pred)\n",
    "        # Return a dict mapping metric names to current value\n",
    "        return {m.name: m.result() for m in self.metrics}"
   ]
  },
  {
   "cell_type": "code",
   "execution_count": null,
   "metadata": {
    "ExecuteTime": {
     "start_time": "2020-08-13T21:08:32.975Z"
    }
   },
   "outputs": [],
   "source": [
    "for (hd, tl, ew), _ in tqdm(edge_ds):\n",
    "    break"
   ]
  },
  {
   "cell_type": "code",
   "execution_count": null,
   "metadata": {
    "ExecuteTime": {
     "start_time": "2020-08-13T21:08:32.976Z"
    }
   },
   "outputs": [],
   "source": [
    "hd.shape"
   ]
  },
  {
   "cell_type": "code",
   "execution_count": null,
   "metadata": {
    "ExecuteTime": {
     "start_time": "2020-08-13T21:08:32.978Z"
    }
   },
   "outputs": [],
   "source": [
    "n_data = len(X_train)\n",
    "embedding_layer = tf.keras.layers.Embedding(n_data, n_components, input_length=1)\n",
    "embedding_layer.build(input_shape=(1,)) # the input_shape here has no effect in the build function\n",
    "embedding_layer.set_weights([init_embedding])\n",
    "encoder = tf.keras.Sequential([embedding_layer])"
   ]
  },
  {
   "cell_type": "code",
   "execution_count": null,
   "metadata": {
    "ExecuteTime": {
     "start_time": "2020-08-13T21:08:32.979Z"
    }
   },
   "outputs": [],
   "source": [
    "batch_head = tf.keras.Input(shape=(1), dtype=tf.int32, name = \"head\")\n",
    "batch_tail = tf.keras.Input(shape=(1), dtype=tf.int32, name = \"tail\")\n",
    "batch_weights = tf.keras.Input(shape=(1), dtype=tf.float32, name = \"weights\")\n",
    "batch_head, batch_tail"
   ]
  },
  {
   "cell_type": "code",
   "execution_count": null,
   "metadata": {
    "ExecuteTime": {
     "start_time": "2020-08-13T21:08:32.981Z"
    }
   },
   "outputs": [],
   "source": [
    "embedding_to = encoder(batch_head)[:,-1,:]\n",
    "embedding_from = encoder(batch_tail)[:,-1,:]\n",
    "embedding_to, embedding_from"
   ]
  },
  {
   "cell_type": "code",
   "execution_count": null,
   "metadata": {
    "ExecuteTime": {
     "start_time": "2020-08-13T21:08:32.983Z"
    }
   },
   "outputs": [],
   "source": [
    "embedding_to_from = tf.keras.layers.concatenate([embedding_to, embedding_from],axis=1)\n",
    "embedding_to_from"
   ]
  },
  {
   "cell_type": "code",
   "execution_count": null,
   "metadata": {
    "ExecuteTime": {
     "start_time": "2020-08-13T21:08:32.985Z"
    }
   },
   "outputs": [],
   "source": [
    "model = CustomModel(\n",
    "    inputs=[batch_head, batch_tail, batch_weights],\n",
    "    outputs=[embedding_to_from],\n",
    ")"
   ]
  },
  {
   "cell_type": "code",
   "execution_count": null,
   "metadata": {
    "ExecuteTime": {
     "start_time": "2020-08-13T21:08:32.986Z"
    }
   },
   "outputs": [],
   "source": [
    "model.compile(\n",
    "    optimizer=tf.keras.optimizers.Adadelta(50),\n",
    "    loss=umap_loss(batch_size, negative_sample_rate, _a, _b),\n",
    ")"
   ]
  },
  {
   "cell_type": "code",
   "execution_count": null,
   "metadata": {
    "ExecuteTime": {
     "start_time": "2020-08-13T21:08:32.988Z"
    }
   },
   "outputs": [],
   "source": [
    "history = model.fit(\n",
    "    edge_ds,\n",
    "    epochs=5,\n",
    "    max_queue_size = 5,\n",
    ")"
   ]
  },
  {
   "cell_type": "code",
   "execution_count": null,
   "metadata": {
    "ExecuteTime": {
     "start_time": "2020-08-13T21:08:32.990Z"
    }
   },
   "outputs": [],
   "source": [
    "z = encoder.weights[0].numpy()"
   ]
  },
  {
   "cell_type": "code",
   "execution_count": null,
   "metadata": {
    "ExecuteTime": {
     "start_time": "2020-08-13T21:08:32.992Z"
    }
   },
   "outputs": [],
   "source": [
    "fig, ax = plt.subplots( figsize=(8, 8))\n",
    "sc = ax.scatter(\n",
    "    z[:, 0],\n",
    "    z[:, 1],\n",
    "    c=Y_train.astype(int)[:len(z)],\n",
    "    cmap=\"tab10\",\n",
    "    s=0.1,\n",
    "    alpha=0.5,\n",
    "    rasterized=True,\n",
    ")\n",
    "ax.axis('equal')\n",
    "ax.set_title(\"UMAP in Tensorflow embedding\", fontsize=20)\n",
    "plt.colorbar(sc, ax=ax);"
   ]
  },
  {
   "cell_type": "code",
   "execution_count": null,
   "metadata": {},
   "outputs": [],
   "source": []
  }
 ],
 "metadata": {
  "kernelspec": {
   "display_name": "Python 3",
   "language": "python",
   "name": "python3"
  },
  "language_info": {
   "codemirror_mode": {
    "name": "ipython",
    "version": 3
   },
   "file_extension": ".py",
   "mimetype": "text/x-python",
   "name": "python",
   "nbconvert_exporter": "python",
   "pygments_lexer": "ipython3",
   "version": "3.6.7"
  }
 },
 "nbformat": 4,
 "nbformat_minor": 2
}
